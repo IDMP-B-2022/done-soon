{
 "cells": [
  {
   "cell_type": "code",
   "execution_count": 68,
   "metadata": {},
   "outputs": [],
   "source": [
    "import numpy as np\n",
    "import pandas as pd\n",
    "import plotly.express as px\n",
    "import json\n",
    "from glob import glob\n",
    "from pathlib import Path\n",
    "from tqdm import tqdm\n",
    "%matplotlib inline\n",
    "import random\n",
    "import sqlite3\n",
    "import numpy as np\n",
    "import pandas as pd\n",
    "import seaborn as sns\n",
    "import matplotlib.pyplot as plt\n",
    "from sklearn.model_selection import train_test_split\n",
    "from sklearn.metrics import accuracy_score, precision_score, recall_score, roc_auc_score, RocCurveDisplay\n",
    "from sklearn.preprocessing import MaxAbsScaler\n",
    "from sklearn.inspection import permutation_importance\n",
    "from sklearn.metrics import f1_score\n",
    "import pymongo\n",
    "import plotly.express as px\n",
    "import math\n",
    "from enum import Enum\n",
    "from tqdm.notebook import tqdm\n",
    "import multiprocessing as mp\n"
   ]
  },
  {
   "cell_type": "code",
   "execution_count": 97,
   "metadata": {},
   "outputs": [],
   "source": [
    "class InstanceType(Enum):\n",
    "    ALL = 1\n",
    "    OPTIMIZATION = 2\n",
    "    SAT = 3\n",
    "\n",
    "data_types_to_consider = InstanceType.OPTIMIZATION\n",
    "\n",
    "def string_to_instance_type(s):\n",
    "    return InstanceType.SAT if s == 'SAT' else InstanceType.OPTIMIZATION\n"
   ]
  },
  {
   "cell_type": "code",
   "execution_count": 2,
   "metadata": {},
   "outputs": [
    {
     "name": "stderr",
     "output_type": "stream",
     "text": [
      "16814it [03:59, 70.09it/s] \n"
     ]
    },
    {
     "data": {
      "text/plain": [
       "(1132, 6)"
      ]
     },
     "execution_count": 2,
     "metadata": {},
     "output_type": "execute_result"
    }
   ],
   "source": [
    "base = \"data/done-soon/temp/problem_output/\"\n",
    "all_normal_files = glob(\"data/problem_output/*NORMAL.json\")\n",
    "df = pd.DataFrame()\n",
    "data = []\n",
    "\n",
    "\n",
    "# find index of statistics array at certain percent of TL\n",
    "def find_index_at_percent(stats, percent):\n",
    "    left = 0\n",
    "    right = len(stats) - 1\n",
    "    while left < right:\n",
    "        mid = (left + right) // 2\n",
    "        \n",
    "        if stats[mid] is not None:\n",
    "\n",
    "            if stats[mid]['search_time'] == percent:\n",
    "                # Found the first dictionary with target time\n",
    "                while mid > 0 and stats[mid-1]['search_time'] == percent:\n",
    "                    mid -= 1\n",
    "                return mid\n",
    "            elif stats[mid]['search_time'] < percent:\n",
    "                left = mid + 1\n",
    "            else:\n",
    "                right = mid - 1\n",
    "        else:\n",
    "            return -1\n",
    "\n",
    "    return -1\n",
    "\n",
    "\n",
    "num_without_search_time = 0\n",
    "for i, normal in tqdm(enumerate(all_normal_files)):\n",
    "    mzn = normal[normal.find(\"MZN-\")+4:normal.find(\"-DZN\")] + \".mzn\"\n",
    "    dzn = normal[normal.find(\"DZN-\")+4:normal.find(\"-OUTPUT\")] + \".dzn\"\n",
    "\n",
    "    stats = Path(f\"{normal[:-12]}-STATS.json\")\n",
    "    if stats.exists():\n",
    "        with open(normal, 'r') as normal_output, open(f\"{normal[:-12]}-STATS.json\", 'r') as stats_output:\n",
    "            line = normal_output.readline()\n",
    "            if line: # don't read json from empty output\n",
    "                \n",
    "                normal_time = json.loads(line).get('time') # wall time\n",
    "                stats_all_lines = [json.loads(line).get('statistics') for line in stats_output.readlines()]\n",
    "                final_statistic = stats_all_lines[-1]\n",
    "                \n",
    "                \n",
    "                \n",
    "                if normal_time and final_statistic:\n",
    "                    if \"search_time\" not in final_statistic.keys():\n",
    "                            num_without_search_time += 1\n",
    "                    else:\n",
    "                            normal_time *= 0.001 # Convert from milliseconds to seconds\n",
    "\n",
    "                            if normal_time <= 10:\n",
    "                                continue\n",
    "\n",
    "                            # To avoid loading in too much data into memory, only load the ones at certain percentages\n",
    "                            # specifically, every half percent intervals\n",
    "                            statistics_per_half_percent = []\n",
    "                            for percent in range(1, 200):\n",
    "                                percent /= 2\n",
    "                                \n",
    "\n",
    "                                # normal_time is in seconds, so this is percentage of two hours\n",
    "                                wall_clock_time_at_percent = (60 * 60 * 2) * percent/100  \n",
    "\n",
    "                                if wall_clock_time_at_percent >= final_statistic['search_time']: # no more data :(\n",
    "                                    break \n",
    "\n",
    "                                statistics_per_half_percent  += [\n",
    "                                    stats_all_lines[find_index_at_percent(stats_all_lines, wall_clock_time_at_percent)]\n",
    "                                ]\n",
    "\n",
    "\n",
    "\n",
    "                            data.append({\n",
    "                                'normal_time': normal_time,\n",
    "                                'stat_time': final_statistic['search_time'],\n",
    "                                'problem': normal,\n",
    "                                'statistics': statistics_per_half_percent,\n",
    "                                'mzn': mzn,\n",
    "                                'dzn': dzn\n",
    "                            })\n",
    "\n",
    "df = pd.DataFrame(data)\n",
    "all_data = df\n",
    "all_data.shape"
   ]
  },
  {
   "cell_type": "code",
   "execution_count": 34,
   "metadata": {},
   "outputs": [
    {
     "data": {
      "text/html": [
       "<div>\n",
       "<style scoped>\n",
       "    .dataframe tbody tr th:only-of-type {\n",
       "        vertical-align: middle;\n",
       "    }\n",
       "\n",
       "    .dataframe tbody tr th {\n",
       "        vertical-align: top;\n",
       "    }\n",
       "\n",
       "    .dataframe thead th {\n",
       "        text-align: right;\n",
       "    }\n",
       "</style>\n",
       "<table border=\"1\" class=\"dataframe\">\n",
       "  <thead>\n",
       "    <tr style=\"text-align: right;\">\n",
       "      <th></th>\n",
       "      <th>normal_time</th>\n",
       "      <th>stat_time</th>\n",
       "      <th>problem</th>\n",
       "      <th>statistics</th>\n",
       "      <th>mzn</th>\n",
       "      <th>dzn</th>\n",
       "    </tr>\n",
       "  </thead>\n",
       "  <tbody>\n",
       "    <tr>\n",
       "      <th>0</th>\n",
       "      <td>7.200882</td>\n",
       "      <td>7199.268198</td>\n",
       "      <td>data/problem_output/PROB-city-position-MZN-cit...</td>\n",
       "      <td>[{'conflicts': 389380, 'ewma_conflicts': 38936...</td>\n",
       "      <td>city-position.mzn</td>\n",
       "      <td>city-7-04.dzn</td>\n",
       "    </tr>\n",
       "    <tr>\n",
       "      <th>1</th>\n",
       "      <td>7.210505</td>\n",
       "      <td>7121.926723</td>\n",
       "      <td>data/problem_output/PROB-2DBinPacking-MZN-2DPa...</td>\n",
       "      <td>[{'conflicts': 631941, 'ewma_conflicts': 63192...</td>\n",
       "      <td>2DPacking.mzn</td>\n",
       "      <td>Class5_80_8.dzn</td>\n",
       "    </tr>\n",
       "    <tr>\n",
       "      <th>2</th>\n",
       "      <td>0.071478</td>\n",
       "      <td>213.285878</td>\n",
       "      <td>data/problem_output/PROB-amaze-MZN-amaze2-DZN-...</td>\n",
       "      <td>[{'conflicts': 269053, 'ewma_conflicts': 26903...</td>\n",
       "      <td>amaze2.mzn</td>\n",
       "      <td>2012-07-05.dzn</td>\n",
       "    </tr>\n",
       "    <tr>\n",
       "      <th>3</th>\n",
       "      <td>7.201437</td>\n",
       "      <td>3512.053385</td>\n",
       "      <td>data/problem_output/PROB-ship-schedule-MZN-shi...</td>\n",
       "      <td>[{'conflicts': 870438, 'ewma_conflicts': 87041...</td>\n",
       "      <td>ship-schedule.mip.mzn</td>\n",
       "      <td>8ShipsUnconst.dzn</td>\n",
       "    </tr>\n",
       "    <tr>\n",
       "      <th>4</th>\n",
       "      <td>7.201694</td>\n",
       "      <td>7199.867735</td>\n",
       "      <td>data/problem_output/PROB-miplib-MZN-ns4-pr6-DZ...</td>\n",
       "      <td>[{'conflicts': 1141428, 'ewma_conflicts': 1141...</td>\n",
       "      <td>ns4-pr6.mzn</td>\n",
       "      <td>NO-MODEL-FILE.dzn</td>\n",
       "    </tr>\n",
       "    <tr>\n",
       "      <th>...</th>\n",
       "      <td>...</td>\n",
       "      <td>...</td>\n",
       "      <td>...</td>\n",
       "      <td>...</td>\n",
       "      <td>...</td>\n",
       "      <td>...</td>\n",
       "    </tr>\n",
       "    <tr>\n",
       "      <th>1127</th>\n",
       "      <td>0.010501</td>\n",
       "      <td>42.884265</td>\n",
       "      <td>data/problem_output/PROB-wwtpp-real-MZN-wwtpp-...</td>\n",
       "      <td>[{'conflicts': 28032, 'ewma_conflicts': 28013....</td>\n",
       "      <td>wwtpp.mzn</td>\n",
       "      <td>ex02400_2400_100.dzn</td>\n",
       "    </tr>\n",
       "    <tr>\n",
       "      <th>1128</th>\n",
       "      <td>0.018754</td>\n",
       "      <td>229.142342</td>\n",
       "      <td>data/problem_output/PROB-rcpsp-wet-MZN-rcpsp-w...</td>\n",
       "      <td>[{'conflicts': 350115, 'ewma_conflicts': 35009...</td>\n",
       "      <td>rcpsp-wet.mzn</td>\n",
       "      <td>j30_1_3-wet.dzn</td>\n",
       "    </tr>\n",
       "    <tr>\n",
       "      <th>1129</th>\n",
       "      <td>0.011433</td>\n",
       "      <td>45.670814</td>\n",
       "      <td>data/problem_output/PROB-2DBinPacking-MZN-2DPa...</td>\n",
       "      <td>[{'conflicts': 91212, 'ewma_conflicts': 91193....</td>\n",
       "      <td>2DPacking.mzn</td>\n",
       "      <td>Class4_40_7.dzn</td>\n",
       "    </tr>\n",
       "    <tr>\n",
       "      <th>1130</th>\n",
       "      <td>0.016353</td>\n",
       "      <td>77.763970</td>\n",
       "      <td>data/problem_output/PROB-mrcpsp-MZN-mrcpsp-DZN...</td>\n",
       "      <td>[{'conflicts': 204350, 'ewma_conflicts': 20433...</td>\n",
       "      <td>mrcpsp.mzn</td>\n",
       "      <td>j30_46_4.dzn</td>\n",
       "    </tr>\n",
       "    <tr>\n",
       "      <th>1131</th>\n",
       "      <td>0.014435</td>\n",
       "      <td>46.465902</td>\n",
       "      <td>data/problem_output/PROB-wwtpp-random-MZN-wwtp...</td>\n",
       "      <td>[{'conflicts': 20475, 'ewma_conflicts': 20456....</td>\n",
       "      <td>wwtpp.mzn</td>\n",
       "      <td>ex15600_2600_100.dzn</td>\n",
       "    </tr>\n",
       "  </tbody>\n",
       "</table>\n",
       "<p>1132 rows × 6 columns</p>\n",
       "</div>"
      ],
      "text/plain": [
       "      normal_time    stat_time  \\\n",
       "0        7.200882  7199.268198   \n",
       "1        7.210505  7121.926723   \n",
       "2        0.071478   213.285878   \n",
       "3        7.201437  3512.053385   \n",
       "4        7.201694  7199.867735   \n",
       "...           ...          ...   \n",
       "1127     0.010501    42.884265   \n",
       "1128     0.018754   229.142342   \n",
       "1129     0.011433    45.670814   \n",
       "1130     0.016353    77.763970   \n",
       "1131     0.014435    46.465902   \n",
       "\n",
       "                                                problem  \\\n",
       "0     data/problem_output/PROB-city-position-MZN-cit...   \n",
       "1     data/problem_output/PROB-2DBinPacking-MZN-2DPa...   \n",
       "2     data/problem_output/PROB-amaze-MZN-amaze2-DZN-...   \n",
       "3     data/problem_output/PROB-ship-schedule-MZN-shi...   \n",
       "4     data/problem_output/PROB-miplib-MZN-ns4-pr6-DZ...   \n",
       "...                                                 ...   \n",
       "1127  data/problem_output/PROB-wwtpp-real-MZN-wwtpp-...   \n",
       "1128  data/problem_output/PROB-rcpsp-wet-MZN-rcpsp-w...   \n",
       "1129  data/problem_output/PROB-2DBinPacking-MZN-2DPa...   \n",
       "1130  data/problem_output/PROB-mrcpsp-MZN-mrcpsp-DZN...   \n",
       "1131  data/problem_output/PROB-wwtpp-random-MZN-wwtp...   \n",
       "\n",
       "                                             statistics  \\\n",
       "0     [{'conflicts': 389380, 'ewma_conflicts': 38936...   \n",
       "1     [{'conflicts': 631941, 'ewma_conflicts': 63192...   \n",
       "2     [{'conflicts': 269053, 'ewma_conflicts': 26903...   \n",
       "3     [{'conflicts': 870438, 'ewma_conflicts': 87041...   \n",
       "4     [{'conflicts': 1141428, 'ewma_conflicts': 1141...   \n",
       "...                                                 ...   \n",
       "1127  [{'conflicts': 28032, 'ewma_conflicts': 28013....   \n",
       "1128  [{'conflicts': 350115, 'ewma_conflicts': 35009...   \n",
       "1129  [{'conflicts': 91212, 'ewma_conflicts': 91193....   \n",
       "1130  [{'conflicts': 204350, 'ewma_conflicts': 20433...   \n",
       "1131  [{'conflicts': 20475, 'ewma_conflicts': 20456....   \n",
       "\n",
       "                        mzn                   dzn  \n",
       "0         city-position.mzn         city-7-04.dzn  \n",
       "1             2DPacking.mzn       Class5_80_8.dzn  \n",
       "2                amaze2.mzn        2012-07-05.dzn  \n",
       "3     ship-schedule.mip.mzn     8ShipsUnconst.dzn  \n",
       "4               ns4-pr6.mzn     NO-MODEL-FILE.dzn  \n",
       "...                     ...                   ...  \n",
       "1127              wwtpp.mzn  ex02400_2400_100.dzn  \n",
       "1128          rcpsp-wet.mzn       j30_1_3-wet.dzn  \n",
       "1129          2DPacking.mzn       Class4_40_7.dzn  \n",
       "1130             mrcpsp.mzn          j30_46_4.dzn  \n",
       "1131              wwtpp.mzn  ex15600_2600_100.dzn  \n",
       "\n",
       "[1132 rows x 6 columns]"
      ]
     },
     "execution_count": 34,
     "metadata": {},
     "output_type": "execute_result"
    }
   ],
   "source": [
    "df"
   ]
  },
  {
   "cell_type": "code",
   "execution_count": 49,
   "metadata": {},
   "outputs": [],
   "source": [
    "def cleanup(df):\n",
    "    if \"decision_level_sat\" in df:\n",
    "        del df[\"decision_level_sat\"]\n",
    "    if \"ewma_decision_level_mip\" in df:\n",
    "        del df[\"ewma_decision_level_mip\"]\n",
    "    if \"decision_level_mip\" in df:\n",
    "        del df[\"decision_level_mip\"]\n",
    "#     del df[\"best_objective\"]\n",
    "#     df[\"unassnVar\"]   = (2**df['vars']) - df['opennodes']\n",
    "#     df[\"fracFailUnassn\"]     = df['conflicts'] / df['unassnVar']         # num failures/ num open nodes\n",
    "    df[\"fracOpenVisit\"]  = (df['vars'] - df['opennodes']) / df['opennodes']       # ratio of open nodes to visited nodes (how much of soln space explored)\n",
    "    df[\"fracBoolVars\"]     = df['boolVars'] / df['vars']                 # num bools / total num of vars\n",
    "    df[\"fracPropVars\"]     = df['propagations'] / df['vars']        # num propagations/ total num of vars\n",
    "#     df[\"frac_unassigned\"] = df['unassnVar'] / df['vars']  # current assignments/ total vars\n",
    "    df[\"fracLongClauses\"] = df['long'] + df['bin'] + df['tern']         # fraction of learnt clauses that have more than 3 literals\n",
    "    df[\"freqBackjumps\"]  = df['back_jumps']/df['search_time']\n",
    "    return df\n",
    "\n",
    "\n",
    "def gradients(df_prev, df_curr):\n",
    "    keys=['conflicts','ewma_conflicts','decisions','search_iterations','opennodes','ewma_opennodes',\n",
    "          'vars','back_jumps','ewma_back_jumps','solutions','total_time','search_time','intVars',\n",
    "          'propagations','sat_propagations','ewma_propagations','propagators','boolVars','learnt',\n",
    "          'bin','tern','long','peak_depth','decision_level_engine','ewma_decision_level_engine',\n",
    "          'decision_level_treesize','clause_mem','prop_mem','ewma_best_objective',\n",
    "          'fracOpenVisit','fracBoolVars','fracPropVars','freqBackjumps', 'best_objective']\n",
    "    for i in keys:\n",
    "        df_curr[i+'_gradient']=(df_curr[i]-df_prev[i])/0.05*7200\n",
    "    return df_curr"
   ]
  },
  {
   "cell_type": "code",
   "execution_count": 41,
   "metadata": {},
   "outputs": [
    {
     "name": "stdout",
     "output_type": "stream",
     "text": [
      "dict_keys(['conflicts', 'ewma_conflicts', 'decisions', 'search_iterations', 'opennodes', 'ewma_opennodes', 'vars', 'back_jumps', 'ewma_back_jumps', 'solutions', 'total_time', 'search_time', 'intVars', 'propagations', 'sat_propagations', 'ewma_propagations', 'propagators', 'boolVars', 'learnt', 'bin', 'tern', 'long', 'peak_depth', 'decision_level_engine', 'ewma_decision_level_engine', 'decision_level_sat', 'decision_level_treesize', 'clause_mem', 'prop_mem', 'decision_level_mip', 'ewma_decision_level_mip', 'best_objective', 'ewma_best_objective'])\n"
     ]
    }
   ],
   "source": [
    "all_data_filtered = all_data[all_data['normal_time'] > 10]\n",
    "all_data_filtered.shape\n",
    "print(all_data_filtered.iloc[[0]].statistics[0][0].keys())"
   ]
  },
  {
   "cell_type": "code",
   "execution_count": 146,
   "metadata": {},
   "outputs": [
    {
     "data": {
      "application/vnd.jupyter.widget-view+json": {
       "model_id": "bd5b34f902cf48d9a943cb8c99712f9e",
       "version_major": 2,
       "version_minor": 0
      },
      "text/plain": [
       "  0%|          | 0/199 [00:00<?, ?it/s]"
      ]
     },
     "metadata": {},
     "output_type": "display_data"
    }
   ],
   "source": [
    "features_at_percent = {}\n",
    "\n",
    "\n",
    "for i in tqdm(range(1,200)):\n",
    "    df_i=[]\n",
    "    number = 0\n",
    "    for id, problem in all_data_filtered.iterrows():\n",
    "        \n",
    "        if i >= len(problem.statistics):\n",
    "            continue\n",
    "        \n",
    "        p = problem.statistics[i]\n",
    "\n",
    "        # Apparently there are four instances that do not have all keys. No clue what happened there.\n",
    "        if len(p.keys()) != 33:\n",
    "            number += 1\n",
    "            continue\n",
    "        \n",
    "        new_p = dict(p)\n",
    "        new_p=cleanup(new_p)\n",
    "        if i!=1:\n",
    "            new_p=gradients(df_prev.loc[id], new_p)\n",
    "        new_p['mzn'] = problem['mzn']\n",
    "        new_p['dzn'] = problem['dzn']\n",
    "        new_p['solved_within_time_limit'] = problem['normal_time'] < 7199\n",
    "        df_i.append((id, new_p))\n",
    "\n",
    "    df_i = pd.DataFrame([a[1] for a in df_i], index=[a[0] for a in df_i])\n",
    "    df_i=df_i.fillna(value = 0)\n",
    "    if i!=0:   \n",
    "        features_at_percent[i]=df_i\n",
    "    df_prev=df_i\n",
    "\n"
   ]
  },
  {
   "attachments": {},
   "cell_type": "markdown",
   "metadata": {},
   "source": [
    "## Train test split"
   ]
  },
  {
   "cell_type": "code",
   "execution_count": 147,
   "metadata": {},
   "outputs": [],
   "source": [
    "def preprocessing(df):\n",
    "    df1=df.drop(['mzn','dzn'], axis=1)\n",
    "    df1.drop(df1.columns[df1.nunique() == 1], axis=1, inplace=True) #drop cols with constant value\n",
    "    #rescale data\n",
    "    transformer = MaxAbsScaler().fit(df1)\n",
    "    df1 = pd.DataFrame(transformer.transform(df1), columns=df1.columns, index=df1.index) #normalise data\n",
    "    return df1"
   ]
  },
  {
   "cell_type": "code",
   "execution_count": 105,
   "metadata": {},
   "outputs": [],
   "source": [
    "def create_split(df, test_size=0.25, random_state=22):\n",
    "    return train_test_split(df.drop(columns = [\"solved_within_time_limit\"]),\\\n",
    "                                df[\"solved_within_time_limit\"], test_size=0.25, random_state=22)\n"
   ]
  },
  {
   "cell_type": "code",
   "execution_count": 106,
   "metadata": {},
   "outputs": [],
   "source": [
    "df=features_at_percent[5] #THE NUMBER HERE IS THE % OF TL\n",
    "df=preprocessing(df)\n",
    "# training-testing split\n",
    "X_train, X_test, y_train, y_test  = train_test_split(df.drop(columns = [\"solved_within_time_limit\"]),\\\n",
    "                                                     df[\"solved_within_time_limit\"], test_size=0.25, random_state=22)\n",
    "\n"
   ]
  },
  {
   "cell_type": "code",
   "execution_count": 124,
   "metadata": {},
   "outputs": [
    {
     "data": {
      "text/plain": [
       "0.0    369\n",
       "1.0    216\n",
       "Name: solved_within_time_limit, dtype: int64"
      ]
     },
     "execution_count": 124,
     "metadata": {},
     "output_type": "execute_result"
    }
   ],
   "source": [
    "y_train.value_counts()"
   ]
  },
  {
   "cell_type": "code",
   "execution_count": 123,
   "metadata": {},
   "outputs": [
    {
     "data": {
      "text/plain": [
       "0.0    119\n",
       "1.0     76\n",
       "Name: solved_within_time_limit, dtype: int64"
      ]
     },
     "execution_count": 123,
     "metadata": {},
     "output_type": "execute_result"
    }
   ],
   "source": [
    "y_test.value_counts()"
   ]
  },
  {
   "cell_type": "code",
   "execution_count": 107,
   "metadata": {},
   "outputs": [],
   "source": [
    "models = {}\n",
    "\n",
    "# Logistic Regression\n",
    "from sklearn.linear_model import LogisticRegression\n",
    "models['LR'] = LogisticRegression(max_iter=1000, C=1000 , class_weight = 'balanced',random_state=22)\n",
    "\n",
    "#Support Vector Machine\n",
    "from sklearn.svm import SVC\n",
    "models['SVM'] = SVC(kernel = 'rbf', class_weight = 'balanced', probability = True, random_state=22)\n",
    "\n",
    "# Random Forest\n",
    "from sklearn.ensemble import RandomForestClassifier\n",
    "models['RF'] = RandomForestClassifier(min_samples_leaf = 5, class_weight = 'balanced_subsample',random_state=22)\n",
    "\n",
    "#Extra Tree\n",
    "from sklearn.ensemble import ExtraTreesClassifier\n",
    "models['ET'] = ExtraTreesClassifier(class_weight = 'balanced', random_state=22)\n",
    "\n",
    "#Multi-layered perceptron\n",
    "from sklearn.neural_network import MLPClassifier\n",
    "models['MLP'] = MLPClassifier(random_state=22)\n",
    "\n",
    "# Naive Bayes\n",
    "#from sklearn.naive_bayes import GaussianNB\n",
    "#models['NB'] = GaussianNB()\n",
    "\n",
    "# Adaboost\n",
    "from sklearn.ensemble import AdaBoostClassifier\n",
    "models['AB'] = AdaBoostClassifier()\n",
    "\n",
    "#KNN\n",
    "#from sklearn.neighbors import KNeighborsClassifier\n",
    "#models['KNN'] = KNeighborsClassifier(weights = 'distance')\n",
    "\n",
    "# Decision Trees\n",
    "from sklearn.tree import DecisionTreeClassifier\n",
    "models['DT'] = DecisionTreeClassifier(max_depth = 5, class_weight = 'balanced', random_state=22)\n",
    "\n",
    "#Dummy classifier\n",
    "from sklearn.dummy import DummyClassifier\n",
    "models['DUM'] = DummyClassifier(strategy=\"most_frequent\")"
   ]
  },
  {
   "cell_type": "code",
   "execution_count": 122,
   "metadata": {},
   "outputs": [
    {
     "name": "stdout",
     "output_type": "stream",
     "text": [
      "The F1 score with all features of a RandomForestClassifier with min_samples_leaf of 5 is  0.913907284768212\n"
     ]
    }
   ],
   "source": [
    "rf_reg = RandomForestClassifier(min_samples_leaf = 5)\n",
    "rf_reg.fit(X_train,y_train)\n",
    "\n",
    "predictions = rf_reg.predict(X_test)\n",
    "importances = rf_reg.feature_importances_\n",
    "\n",
    "print('The F1 score with all features of a RandomForestClassifier with min_samples_leaf of 5 is ', f1_score(y_test, predictions))"
   ]
  },
  {
   "cell_type": "code",
   "execution_count": 125,
   "metadata": {},
   "outputs": [
    {
     "name": "stdout",
     "output_type": "stream",
     "text": [
      "Index(['conflicts', 'ewma_conflicts', 'decisions', 'search_iterations',\n",
      "       'opennodes', 'ewma_opennodes', 'vars', 'back_jumps', 'ewma_back_jumps',\n",
      "       'solutions', 'total_time', 'search_time', 'intVars', 'propagations',\n",
      "       'sat_propagations', 'ewma_propagations', 'propagators', 'boolVars',\n",
      "       'learnt', 'bin', 'tern', 'long', 'peak_depth', 'decision_level_engine',\n",
      "       'ewma_decision_level_engine', 'decision_level_treesize', 'clause_mem',\n",
      "       'prop_mem', 'best_objective', 'ewma_best_objective', 'fracOpenVisit',\n",
      "       'fracBoolVars', 'fracPropVars', 'fracLongClauses', 'freqBackjumps'],\n",
      "      dtype='object')\n"
     ]
    }
   ],
   "source": [
    "print(X_train.columns)"
   ]
  },
  {
   "cell_type": "code",
   "execution_count": 131,
   "metadata": {},
   "outputs": [
    {
     "name": "stdout",
     "output_type": "stream",
     "text": [
      "35\n"
     ]
    },
    {
     "data": {
      "image/png": "[encoded data removed]",
      "text/plain": [
       "<Figure size 2000x300 with 1 Axes>"
      ]
     },
     "metadata": {},
     "output_type": "display_data"
    }
   ],
   "source": [
    "\n",
    "\n",
    "sorted_importance_indices = np.argsort(importances)[::-1]\n",
    "\n",
    "plt.title('Feature Importance of Random Forest Regressor')\n",
    "plt.bar(range(len(sorted_importance_indices)), importances[sorted_importance_indices], align='center')\n",
    "plt.xticks(range(len(sorted_importance_indices)), X_train.columns[sorted_importance_indices], rotation=90)\n",
    "plt.rcParams[\"figure.figsize\"] = (20,3)\n",
    "plt.show()\n",
    "\n"
   ]
  },
  {
   "cell_type": "code",
   "execution_count": 127,
   "metadata": {},
   "outputs": [
    {
     "data": {
      "image/png": "[encoded data removed]",
      "text/plain": [
       "<Figure size 2000x300 with 1 Axes>"
      ]
     },
     "metadata": {},
     "output_type": "display_data"
    }
   ],
   "source": [
    "sorted_importance_indices = np.argsort(importances)[::-1][:8]\n",
    "\n",
    "plt.title('Feature Importance of Random Forest Regressor')\n",
    "plt.bar(range(8), importances[sorted_importance_indices], align='center')\n",
    "plt.xticks(range(8), X_train.columns[sorted_importance_indices], rotation=90)\n",
    "plt.rcParams[\"figure.figsize\"] = (20,3)\n",
    "plt.show()\n"
   ]
  },
  {
   "cell_type": "code",
   "execution_count": 132,
   "metadata": {},
   "outputs": [
    {
     "data": {
      "image/png": "[encoded data removed]",
      "text/plain": [
       "<Figure size 2000x300 with 1 Axes>"
      ]
     },
     "metadata": {},
     "output_type": "display_data"
    },
    {
     "name": "stdout",
     "output_type": "stream",
     "text": [
      "[(35, 0.9343403501573805), (34, 0.9337487859794791), (33, 0.9434238250448038), (32, 0.9412613293866846), (31, 0.9442784202628867), (30, 0.9382206019533885), (29, 0.944701446325389), (28, 0.9361550145265891), (27, 0.935740548193419), (26, 0.9402252322506056), (25, 0.9390715861681744), (24, 0.9441094212076534), (23, 0.9373588454321637), (22, 0.9365111081807708), (21, 0.9432094228602891), (20, 0.9329413523532966), (19, 0.9407362889501577), (18, 0.9356843855147744), (17, 0.9391519146559087), (16, 0.9400596676774062), (15, 0.9343208522856654), (14, 0.9363443384839906), (13, 0.9197217753121967), (12, 0.927249452747174), (11, 0.9273816210209127), (10, 0.9253338349817627), (9, 0.9318456796650316), (8, 0.9195526251104086), (7, 0.9116593519054002), (6, 0.9239932093230676), (5, 0.9264250314359807), (4, 0.9279874002821342), (3, 0.9133613497741114), (2, 0.8499672081054948), (1, 0.8722301501987582)]\n"
     ]
    }
   ],
   "source": [
    "sorted_importance_indices = np.argsort(importances)[::-1][:35]\n",
    "\n",
    "def f1_with_n_top_features(n, importance_column_indices):\n",
    "    summed = 0\n",
    "    for i in range(0, 10):\n",
    "        X_train, X_test, y_train, y_test  = train_test_split(df.drop(columns = [\"solved_within_time_limit\"]),\\\n",
    "                                                     df[\"solved_within_time_limit\"], test_size=0.25)\n",
    "        rf_reg = RandomForestClassifier(min_samples_leaf = 5)\n",
    "        rf_reg.fit(X_train.iloc[:, importance_column_indices[:n]], y_train)\n",
    "\n",
    "        predictions = rf_reg.predict(X_test.iloc[:, importance_column_indices[:n]])\n",
    "        summed += f1_score(y_test, predictions)\n",
    "    return summed / 10\n",
    "\n",
    "\n",
    "\n",
    "f1_scores = [(i, f1_with_n_top_features(i, sorted_importance_indices)) for i in range(1, len(sorted_importance_indices) + 1)[::-1]]\n",
    "\n",
    "plt.title(f'F1 score for top N features ({\"OPTIMIZATION\" if data_types_to_consider is InstanceType.OPTIMIZATION else \"SAT\"})')\n",
    "plt.plot([a[0] for a in f1_scores], [a[1] for a in f1_scores])\n",
    "plt.gca().set_ylim([0,1])\n",
    "plt.rcParams[\"figure.figsize\"] = (20,3)\n",
    "plt.show()\n",
    "\n",
    "print(f1_scores)"
   ]
  },
  {
   "cell_type": "code",
   "execution_count": 133,
   "metadata": {},
   "outputs": [],
   "source": [
    "def results_plt(X_train, y_train, X_test, y_test, perc_TL):\n",
    "    train_accuracy, accuracy, precision, recall, auc, f1 = {}, {}, {}, {}, {}, {}\n",
    "    figs, axs = plt.subplots(2,3,figsize=(20, 12))\n",
    "\n",
    "    for i, key in enumerate(models.keys()):\n",
    "\n",
    "        # Fit the classifier model\n",
    "        models[key].fit(X_train, y_train)\n",
    "\n",
    "        predictions = models[key].predict(X_test)\n",
    "        predictions_prob = models[key].predict_proba(X_test)[:,1]\n",
    "        train_predictions = models[key].predict(X_train)\n",
    "        # Predic  \n",
    "        # Calculate Accuracy, Precision and Recall Metrics\n",
    "        accuracy[key] = accuracy_score(predictions, y_test)\n",
    "        precision[key] = precision_score(predictions, y_test, zero_division=1)\n",
    "        recall[key] = recall_score(predictions, y_test, zero_division=1)\n",
    "        auc[key] = roc_auc_score(y_test, predictions_prob)\n",
    "        train_accuracy[key] = accuracy_score(train_predictions, y_train)\n",
    "        f1[key] = f1_score(y_test,predictions)\n",
    "        #should it be (true, pred)? yes\n",
    "\n",
    "        #To Display\n",
    "        RocCurveDisplay.from_predictions(y_test, predictions_prob, name=key , ax=axs[0,0])\n",
    "        axs[0,1].bar(key, accuracy[key]) \n",
    "        axs[0,2].bar(key, train_accuracy[key]) \n",
    "        axs[1,0].bar(key, recall[key])\n",
    "        axs[1,1].bar(key, precision[key])\n",
    "        axs[1,2].bar(key, f1[key])\n",
    "\n",
    "        axs[0,0].set_title(\"ROC Curve for \"+perc_TL+\"% TL\")\n",
    "#         axs[0].set_ylabel(\"Accuracy\")\n",
    "\n",
    "        axs[0,1].set_title(\"Test Accuracy for \"+perc_TL+\"% TL\")\n",
    "        axs[0,1].set_ylabel(\"Accuracy\")\n",
    "        axs[0,1].grid(axis='y', color='gray', linestyle='dashed')\n",
    "\n",
    "        axs[0,2].set_title(\"Train Accuracy for \"+perc_TL+\"% TL\")\n",
    "        axs[0,2].set_ylabel(\"Accuracy\")\n",
    "        axs[0,2].grid(axis='y', color='gray', linestyle='dashed')\n",
    "\n",
    "        axs[1,0].set_title(\"Recall for \"+perc_TL+\"% TL\")\n",
    "        axs[1,0].set_ylabel(\"Recall\")\n",
    "        axs[1,0].grid(axis='y', color='gray', linestyle='dashed')\n",
    "\n",
    "\n",
    "        axs[1,1].set_title(\"Precision \"+perc_TL+\"% TL\")\n",
    "        axs[1,1].set_ylabel(\"F1\")\n",
    "        axs[1,1].grid(axis='y', color='gray', linestyle='dashed')\n",
    "\n",
    "        axs[1,2].set_title(\"F1 \"+perc_TL+\"% TL\")\n",
    "        axs[1,2].set_ylabel(\"F1\")\n",
    "        axs[1,2].grid(axis='y', color='gray', linestyle='dashed')\n",
    "        \n",
    "        \n",
    "        [axs[y, x].tick_params(axis='x', labelrotation=60) for y in range(len(axs)) for x in range(len(axs[y]))]"
   ]
  },
  {
   "cell_type": "code",
   "execution_count": 134,
   "metadata": {},
   "outputs": [
    {
     "name": "stderr",
     "output_type": "stream",
     "text": [
      "/home/alexander/Documents/TUDelft/done-soon/venv/lib/python3.10/site-packages/sklearn/neural_network/_multilayer_perceptron.py:686: ConvergenceWarning: Stochastic Optimizer: Maximum iterations (200) reached and the optimization hasn't converged yet.\n",
      "  warnings.warn(\n"
     ]
    },
    {
     "data": {
      "image/png": "[encoded data removed]",
      "text/plain": [
       "<Figure size 2000x1200 with 6 Axes>"
      ]
     },
     "metadata": {},
     "output_type": "display_data"
    }
   ],
   "source": [
    "\n",
    "\n",
    "#Bar plot results  for testing and training using top 5 created features\n",
    "\n",
    "results_plt(X_train, y_train, X_test, y_test, \"20\")\n",
    "\n"
   ]
  },
  {
   "cell_type": "code",
   "execution_count": 148,
   "metadata": {},
   "outputs": [],
   "source": [
    "\n",
    "\n",
    "def get_f1_scores(args):\n",
    "    features_at_percent, percent, rep = args\n",
    "    df_at_percent = features_at_percent[percent]\n",
    "    if df_at_percent.empty:\n",
    "        return 0\n",
    "    df_at_percent = preprocessing(df_at_percent)\n",
    "    if df_at_percent.empty:\n",
    "        return 0\n",
    "\n",
    "    X_train, X_test, y_train, y_test  = create_split(df_at_percent, random_state=percent + (100 * rep))\n",
    "    model = RandomForestClassifier(min_samples_leaf = 5, class_weight = 'balanced_subsample',random_state=percent + (100 * rep))\n",
    "    model.fit(X_train,y_train)\n",
    "    predictions = model.predict(X_test)\n",
    "    return f1_score(y_test, predictions)\n",
    "\n",
    "def get_f1_over_time_for_model(features_at_percent, repetitions=10):\n",
    "    f1_scores_mean = []\n",
    "    f1_scores_std = []\n",
    "    for percent in tqdm(range(1, 200), desc=\"Percent\"):\n",
    "        with mp.Pool(mp.cpu_count()) as pool:\n",
    "            f1_scores = list(tqdm(pool.imap(get_f1_scores,\n",
    "                                            [(features_at_percent, percent, rep) for rep in range(repetitions)]),\n",
    "                                  total=10, leave=False, desc=\"Repetitions\"))\n",
    "\n",
    "            f1_scores_mean.append(np.mean(f1_scores))\n",
    "            f1_scores_std.append(np.std(f1_scores))\n",
    "        \n",
    "    return f1_scores_mean, f1_scores_std\n",
    "    "
   ]
  },
  {
   "cell_type": "code",
   "execution_count": 150,
   "metadata": {},
   "outputs": [
    {
     "data": {
      "application/vnd.jupyter.widget-view+json": {
       "model_id": "68fd21c8d8a64e439b2405a4032c32e3",
       "version_major": 2,
       "version_minor": 0
      },
      "text/plain": [
       "Percent:   0%|          | 0/199 [00:00<?, ?it/s]"
      ]
     },
     "metadata": {},
     "output_type": "display_data"
    },
    {
     "data": {
      "application/vnd.jupyter.widget-view+json": {
       "model_id": "3cd46502b109446483b8b74380764c65",
       "version_major": 2,
       "version_minor": 0
      },
      "text/plain": [
       "Repetitions:   0%|          | 0/10 [00:00<?, ?it/s]"
      ]
     },
     "metadata": {},
     "output_type": "display_data"
    },
    {
     "data": {
      "application/vnd.jupyter.widget-view+json": {
       "model_id": "b7afd29f1dff4a0194836df40dfd5d70",
       "version_major": 2,
       "version_minor": 0
      },
      "text/plain": [
       "Repetitions:   0%|          | 0/10 [00:00<?, ?it/s]"
      ]
     },
     "metadata": {},
     "output_type": "display_data"
    },
    {
     "data": {
      "application/vnd.jupyter.widget-view+json": {
       "model_id": "3c727725f72e45199d0b99b2aec31d0f",
       "version_major": 2,
       "version_minor": 0
      },
      "text/plain": [
       "Repetitions:   0%|          | 0/10 [00:00<?, ?it/s]"
      ]
     },
     "metadata": {},
     "output_type": "display_data"
    },
    {
     "data": {
      "application/vnd.jupyter.widget-view+json": {
       "model_id": "066cab0548ec4e12b1caebb96c4eec8f",
       "version_major": 2,
       "version_minor": 0
      },
      "text/plain": [
       "Repetitions:   0%|          | 0/10 [00:00<?, ?it/s]"
      ]
     },
     "metadata": {},
     "output_type": "display_data"
    },
    {
     "data": {
      "application/vnd.jupyter.widget-view+json": {
       "model_id": "8f98f25c543a4af68caaf926013dabad",
       "version_major": 2,
       "version_minor": 0
      },
      "text/plain": [
       "Repetitions:   0%|          | 0/10 [00:00<?, ?it/s]"
      ]
     },
     "metadata": {},
     "output_type": "display_data"
    },
    {
     "data": {
      "application/vnd.jupyter.widget-view+json": {
       "model_id": "2d47c04ef51f43d3953172122ba19783",
       "version_major": 2,
       "version_minor": 0
      },
      "text/plain": [
       "Repetitions:   0%|          | 0/10 [00:00<?, ?it/s]"
      ]
     },
     "metadata": {},
     "output_type": "display_data"
    },
    {
     "data": {
      "application/vnd.jupyter.widget-view+json": {
       "model_id": "8547547aa7c0442483284643c424a25a",
       "version_major": 2,
       "version_minor": 0
      },
      "text/plain": [
       "Repetitions:   0%|          | 0/10 [00:00<?, ?it/s]"
      ]
     },
     "metadata": {},
     "output_type": "display_data"
    },
    {
     "data": {
      "application/vnd.jupyter.widget-view+json": {
       "model_id": "c1ffff51d79343d18fd64285f3d312fb",
       "version_major": 2,
       "version_minor": 0
      },
      "text/plain": [
       "Repetitions:   0%|          | 0/10 [00:00<?, ?it/s]"
      ]
     },
     "metadata": {},
     "output_type": "display_data"
    },
    {
     "data": {
      "application/vnd.jupyter.widget-view+json": {
       "model_id": "63a3477fa5814f6ebefca4e3a63a61a8",
       "version_major": 2,
       "version_minor": 0
      },
      "text/plain": [
       "Repetitions:   0%|          | 0/10 [00:00<?, ?it/s]"
      ]
     },
     "metadata": {},
     "output_type": "display_data"
    },
    {
     "data": {
      "application/vnd.jupyter.widget-view+json": {
       "model_id": "9f43f4d1692e420eafaa75e9eb059a43",
       "version_major": 2,
       "version_minor": 0
      },
      "text/plain": [
       "Repetitions:   0%|          | 0/10 [00:00<?, ?it/s]"
      ]
     },
     "metadata": {},
     "output_type": "display_data"
    },
    {
     "data": {
      "application/vnd.jupyter.widget-view+json": {
       "model_id": "db6133e15b37485b8e8b79bd260f4b9e",
       "version_major": 2,
       "version_minor": 0
      },
      "text/plain": [
       "Repetitions:   0%|          | 0/10 [00:00<?, ?it/s]"
      ]
     },
     "metadata": {},
     "output_type": "display_data"
    },
    {
     "data": {
      "application/vnd.jupyter.widget-view+json": {
       "model_id": "92570e422a664bf6bf7f0b24fecf2c7d",
       "version_major": 2,
       "version_minor": 0
      },
      "text/plain": [
       "Repetitions:   0%|          | 0/10 [00:00<?, ?it/s]"
      ]
     },
     "metadata": {},
     "output_type": "display_data"
    },
    {
     "data": {
      "application/vnd.jupyter.widget-view+json": {
       "model_id": "01e38d6c1cc54aed9405fb819e86ecbd",
       "version_major": 2,
       "version_minor": 0
      },
      "text/plain": [
       "Repetitions:   0%|          | 0/10 [00:00<?, ?it/s]"
      ]
     },
     "metadata": {},
     "output_type": "display_data"
    },
    {
     "data": {
      "application/vnd.jupyter.widget-view+json": {
       "model_id": "a2f578dff4694ac99546278db9669b43",
       "version_major": 2,
       "version_minor": 0
      },
      "text/plain": [
       "Repetitions:   0%|          | 0/10 [00:00<?, ?it/s]"
      ]
     },
     "metadata": {},
     "output_type": "display_data"
    },
    {
     "data": {
      "application/vnd.jupyter.widget-view+json": {
       "model_id": "55fe33f0c8e74146b21e7bc87ff92c1b",
       "version_major": 2,
       "version_minor": 0
      },
      "text/plain": [
       "Repetitions:   0%|          | 0/10 [00:00<?, ?it/s]"
      ]
     },
     "metadata": {},
     "output_type": "display_data"
    },
    {
     "data": {
      "application/vnd.jupyter.widget-view+json": {
       "model_id": "fb29e0cb9db94b118f708b9a191e7abe",
       "version_major": 2,
       "version_minor": 0
      },
      "text/plain": [
       "Repetitions:   0%|          | 0/10 [00:00<?, ?it/s]"
      ]
     },
     "metadata": {},
     "output_type": "display_data"
    },
    {
     "data": {
      "application/vnd.jupyter.widget-view+json": {
       "model_id": "dea972baadc24258a37263cc21e81210",
       "version_major": 2,
       "version_minor": 0
      },
      "text/plain": [
       "Repetitions:   0%|          | 0/10 [00:00<?, ?it/s]"
      ]
     },
     "metadata": {},
     "output_type": "display_data"
    },
    {
     "data": {
      "application/vnd.jupyter.widget-view+json": {
       "model_id": "e90453d8e5414534a16fb0a2fc299303",
       "version_major": 2,
       "version_minor": 0
      },
      "text/plain": [
       "Repetitions:   0%|          | 0/10 [00:00<?, ?it/s]"
      ]
     },
     "metadata": {},
     "output_type": "display_data"
    },
    {
     "data": {
      "application/vnd.jupyter.widget-view+json": {
       "model_id": "278c75123ea841f79db81862bfaeb29d",
       "version_major": 2,
       "version_minor": 0
      },
      "text/plain": [
       "Repetitions:   0%|          | 0/10 [00:00<?, ?it/s]"
      ]
     },
     "metadata": {},
     "output_type": "display_data"
    },
    {
     "data": {
      "application/vnd.jupyter.widget-view+json": {
       "model_id": "d9a27b250d95404c871295f995d2bc99",
       "version_major": 2,
       "version_minor": 0
      },
      "text/plain": [
       "Repetitions:   0%|          | 0/10 [00:00<?, ?it/s]"
      ]
     },
     "metadata": {},
     "output_type": "display_data"
    },
    {
     "data": {
      "application/vnd.jupyter.widget-view+json": {
       "model_id": "47aa34d7e93449c88a5c2dba267368ed",
       "version_major": 2,
       "version_minor": 0
      },
      "text/plain": [
       "Repetitions:   0%|          | 0/10 [00:00<?, ?it/s]"
      ]
     },
     "metadata": {},
     "output_type": "display_data"
    },
    {
     "data": {
      "application/vnd.jupyter.widget-view+json": {
       "model_id": "ee7f3b19a5d5452688d9ae98b37ba2dc",
       "version_major": 2,
       "version_minor": 0
      },
      "text/plain": [
       "Repetitions:   0%|          | 0/10 [00:00<?, ?it/s]"
      ]
     },
     "metadata": {},
     "output_type": "display_data"
    },
    {
     "data": {
      "application/vnd.jupyter.widget-view+json": {
       "model_id": "231b371697f74288a8e4996f66054469",
       "version_major": 2,
       "version_minor": 0
      },
      "text/plain": [
       "Repetitions:   0%|          | 0/10 [00:00<?, ?it/s]"
      ]
     },
     "metadata": {},
     "output_type": "display_data"
    },
    {
     "data": {
      "application/vnd.jupyter.widget-view+json": {
       "model_id": "38645b6e847345f9b0f36d02f5ef44e7",
       "version_major": 2,
       "version_minor": 0
      },
      "text/plain": [
       "Repetitions:   0%|          | 0/10 [00:00<?, ?it/s]"
      ]
     },
     "metadata": {},
     "output_type": "display_data"
    },
    {
     "data": {
      "application/vnd.jupyter.widget-view+json": {
       "model_id": "e27fb7b926fa44b9a63a544c070a6ffd",
       "version_major": 2,
       "version_minor": 0
      },
      "text/plain": [
       "Repetitions:   0%|          | 0/10 [00:00<?, ?it/s]"
      ]
     },
     "metadata": {},
     "output_type": "display_data"
    },
    {
     "data": {
      "application/vnd.jupyter.widget-view+json": {
       "model_id": "9dcb1ad11b054edf94f68d3acaecb869",
       "version_major": 2,
       "version_minor": 0
      },
      "text/plain": [
       "Repetitions:   0%|          | 0/10 [00:00<?, ?it/s]"
      ]
     },
     "metadata": {},
     "output_type": "display_data"
    },
    {
     "data": {
      "application/vnd.jupyter.widget-view+json": {
       "model_id": "1d50e8fd565746db84f4c535fe7d2ff5",
       "version_major": 2,
       "version_minor": 0
      },
      "text/plain": [
       "Repetitions:   0%|          | 0/10 [00:00<?, ?it/s]"
      ]
     },
     "metadata": {},
     "output_type": "display_data"
    },
    {
     "data": {
      "application/vnd.jupyter.widget-view+json": {
       "model_id": "d40f6b8105674d34b378c9212cd15d48",
       "version_major": 2,
       "version_minor": 0
      },
      "text/plain": [
       "Repetitions:   0%|          | 0/10 [00:00<?, ?it/s]"
      ]
     },
     "metadata": {},
     "output_type": "display_data"
    },
    {
     "data": {
      "application/vnd.jupyter.widget-view+json": {
       "model_id": "7d1bc58885684fa0be9d06ec5ae09372",
       "version_major": 2,
       "version_minor": 0
      },
      "text/plain": [
       "Repetitions:   0%|          | 0/10 [00:00<?, ?it/s]"
      ]
     },
     "metadata": {},
     "output_type": "display_data"
    },
    {
     "data": {
      "application/vnd.jupyter.widget-view+json": {
       "model_id": "a2028c381e524585ab07c68bfd2615f2",
       "version_major": 2,
       "version_minor": 0
      },
      "text/plain": [
       "Repetitions:   0%|          | 0/10 [00:00<?, ?it/s]"
      ]
     },
     "metadata": {},
     "output_type": "display_data"
    },
    {
     "data": {
      "application/vnd.jupyter.widget-view+json": {
       "model_id": "6c0316fbe2dc4ddcbc262c98bdbe93aa",
       "version_major": 2,
       "version_minor": 0
      },
      "text/plain": [
       "Repetitions:   0%|          | 0/10 [00:00<?, ?it/s]"
      ]
     },
     "metadata": {},
     "output_type": "display_data"
    },
    {
     "data": {
      "application/vnd.jupyter.widget-view+json": {
       "model_id": "8b56112e8c62406685f00eec9d82d7a1",
       "version_major": 2,
       "version_minor": 0
      },
      "text/plain": [
       "Repetitions:   0%|          | 0/10 [00:00<?, ?it/s]"
      ]
     },
     "metadata": {},
     "output_type": "display_data"
    },
    {
     "data": {
      "application/vnd.jupyter.widget-view+json": {
       "model_id": "e69fd5b59fee4dc5aac409eb0f28a19b",
       "version_major": 2,
       "version_minor": 0
      },
      "text/plain": [
       "Repetitions:   0%|          | 0/10 [00:00<?, ?it/s]"
      ]
     },
     "metadata": {},
     "output_type": "display_data"
    },
    {
     "data": {
      "application/vnd.jupyter.widget-view+json": {
       "model_id": "79a32ecf1dc744ba88538123aab7efc0",
       "version_major": 2,
       "version_minor": 0
      },
      "text/plain": [
       "Repetitions:   0%|          | 0/10 [00:00<?, ?it/s]"
      ]
     },
     "metadata": {},
     "output_type": "display_data"
    },
    {
     "data": {
      "application/vnd.jupyter.widget-view+json": {
       "model_id": "cb275beefea74decafebe4ebefde46f4",
       "version_major": 2,
       "version_minor": 0
      },
      "text/plain": [
       "Repetitions:   0%|          | 0/10 [00:00<?, ?it/s]"
      ]
     },
     "metadata": {},
     "output_type": "display_data"
    },
    {
     "data": {
      "application/vnd.jupyter.widget-view+json": {
       "model_id": "a75fafb4807b4d78adc9a418aa2fb7c6",
       "version_major": 2,
       "version_minor": 0
      },
      "text/plain": [
       "Repetitions:   0%|          | 0/10 [00:00<?, ?it/s]"
      ]
     },
     "metadata": {},
     "output_type": "display_data"
    },
    {
     "data": {
      "application/vnd.jupyter.widget-view+json": {
       "model_id": "808d6b77dbc042de9b8e2d34d768565b",
       "version_major": 2,
       "version_minor": 0
      },
      "text/plain": [
       "Repetitions:   0%|          | 0/10 [00:00<?, ?it/s]"
      ]
     },
     "metadata": {},
     "output_type": "display_data"
    },
    {
     "data": {
      "application/vnd.jupyter.widget-view+json": {
       "model_id": "9b31554211414668a06d49320edb52a5",
       "version_major": 2,
       "version_minor": 0
      },
      "text/plain": [
       "Repetitions:   0%|          | 0/10 [00:00<?, ?it/s]"
      ]
     },
     "metadata": {},
     "output_type": "display_data"
    },
    {
     "data": {
      "application/vnd.jupyter.widget-view+json": {
       "model_id": "71a3c52e936a4428a1d75363e3cf7075",
       "version_major": 2,
       "version_minor": 0
      },
      "text/plain": [
       "Repetitions:   0%|          | 0/10 [00:00<?, ?it/s]"
      ]
     },
     "metadata": {},
     "output_type": "display_data"
    },
    {
     "data": {
      "application/vnd.jupyter.widget-view+json": {
       "model_id": "7666023ddd9d414c96a4558644fba5b8",
       "version_major": 2,
       "version_minor": 0
      },
      "text/plain": [
       "Repetitions:   0%|          | 0/10 [00:00<?, ?it/s]"
      ]
     },
     "metadata": {},
     "output_type": "display_data"
    },
    {
     "data": {
      "application/vnd.jupyter.widget-view+json": {
       "model_id": "6650213bde4144488d54e511875789f9",
       "version_major": 2,
       "version_minor": 0
      },
      "text/plain": [
       "Repetitions:   0%|          | 0/10 [00:00<?, ?it/s]"
      ]
     },
     "metadata": {},
     "output_type": "display_data"
    },
    {
     "data": {
      "application/vnd.jupyter.widget-view+json": {
       "model_id": "4993c5f6361a41339027ea3d1ac3b7c2",
       "version_major": 2,
       "version_minor": 0
      },
      "text/plain": [
       "Repetitions:   0%|          | 0/10 [00:00<?, ?it/s]"
      ]
     },
     "metadata": {},
     "output_type": "display_data"
    },
    {
     "data": {
      "application/vnd.jupyter.widget-view+json": {
       "model_id": "8a25fe204e0c4328b0c9e7d12295405d",
       "version_major": 2,
       "version_minor": 0
      },
      "text/plain": [
       "Repetitions:   0%|          | 0/10 [00:00<?, ?it/s]"
      ]
     },
     "metadata": {},
     "output_type": "display_data"
    },
    {
     "data": {
      "application/vnd.jupyter.widget-view+json": {
       "model_id": "03b32629b94c453698ce2ed2a1426bf0",
       "version_major": 2,
       "version_minor": 0
      },
      "text/plain": [
       "Repetitions:   0%|          | 0/10 [00:00<?, ?it/s]"
      ]
     },
     "metadata": {},
     "output_type": "display_data"
    },
    {
     "data": {
      "application/vnd.jupyter.widget-view+json": {
       "model_id": "486a1f17ffb5411e9c35664e0f0277ca",
       "version_major": 2,
       "version_minor": 0
      },
      "text/plain": [
       "Repetitions:   0%|          | 0/10 [00:00<?, ?it/s]"
      ]
     },
     "metadata": {},
     "output_type": "display_data"
    },
    {
     "data": {
      "application/vnd.jupyter.widget-view+json": {
       "model_id": "a4e3bc355b0c4fbbb57e7309a39a0a6c",
       "version_major": 2,
       "version_minor": 0
      },
      "text/plain": [
       "Repetitions:   0%|          | 0/10 [00:00<?, ?it/s]"
      ]
     },
     "metadata": {},
     "output_type": "display_data"
    },
    {
     "data": {
      "application/vnd.jupyter.widget-view+json": {
       "model_id": "909ca4f2f38f4087a0adf5b4a4a303a0",
       "version_major": 2,
       "version_minor": 0
      },
      "text/plain": [
       "Repetitions:   0%|          | 0/10 [00:00<?, ?it/s]"
      ]
     },
     "metadata": {},
     "output_type": "display_data"
    },
    {
     "data": {
      "application/vnd.jupyter.widget-view+json": {
       "model_id": "47135b83c3544c0aab6336104ac7c3b7",
       "version_major": 2,
       "version_minor": 0
      },
      "text/plain": [
       "Repetitions:   0%|          | 0/10 [00:00<?, ?it/s]"
      ]
     },
     "metadata": {},
     "output_type": "display_data"
    },
    {
     "data": {
      "application/vnd.jupyter.widget-view+json": {
       "model_id": "7f03dd9872af48d0b4b7dc726b0b468d",
       "version_major": 2,
       "version_minor": 0
      },
      "text/plain": [
       "Repetitions:   0%|          | 0/10 [00:00<?, ?it/s]"
      ]
     },
     "metadata": {},
     "output_type": "display_data"
    },
    {
     "data": {
      "application/vnd.jupyter.widget-view+json": {
       "model_id": "cb92fe7e8c0b436980b93aa28cfc6753",
       "version_major": 2,
       "version_minor": 0
      },
      "text/plain": [
       "Repetitions:   0%|          | 0/10 [00:00<?, ?it/s]"
      ]
     },
     "metadata": {},
     "output_type": "display_data"
    },
    {
     "data": {
      "application/vnd.jupyter.widget-view+json": {
       "model_id": "52e654cd420c46ac9e54549f7577541b",
       "version_major": 2,
       "version_minor": 0
      },
      "text/plain": [
       "Repetitions:   0%|          | 0/10 [00:00<?, ?it/s]"
      ]
     },
     "metadata": {},
     "output_type": "display_data"
    },
    {
     "data": {
      "application/vnd.jupyter.widget-view+json": {
       "model_id": "3556c84252d14b75ac386da55ca6adf2",
       "version_major": 2,
       "version_minor": 0
      },
      "text/plain": [
       "Repetitions:   0%|          | 0/10 [00:00<?, ?it/s]"
      ]
     },
     "metadata": {},
     "output_type": "display_data"
    },
    {
     "data": {
      "application/vnd.jupyter.widget-view+json": {
       "model_id": "4b40a6e6bf5e43719d6e7270a426bda2",
       "version_major": 2,
       "version_minor": 0
      },
      "text/plain": [
       "Repetitions:   0%|          | 0/10 [00:00<?, ?it/s]"
      ]
     },
     "metadata": {},
     "output_type": "display_data"
    },
    {
     "data": {
      "application/vnd.jupyter.widget-view+json": {
       "model_id": "e0c2b61423b446a89a551c73d35ced8b",
       "version_major": 2,
       "version_minor": 0
      },
      "text/plain": [
       "Repetitions:   0%|          | 0/10 [00:00<?, ?it/s]"
      ]
     },
     "metadata": {},
     "output_type": "display_data"
    },
    {
     "data": {
      "application/vnd.jupyter.widget-view+json": {
       "model_id": "4b17d055ddae4de7b1b14545355ecf99",
       "version_major": 2,
       "version_minor": 0
      },
      "text/plain": [
       "Repetitions:   0%|          | 0/10 [00:00<?, ?it/s]"
      ]
     },
     "metadata": {},
     "output_type": "display_data"
    },
    {
     "data": {
      "application/vnd.jupyter.widget-view+json": {
       "model_id": "ea9929e8f0334df8881d7d80e314861e",
       "version_major": 2,
       "version_minor": 0
      },
      "text/plain": [
       "Repetitions:   0%|          | 0/10 [00:00<?, ?it/s]"
      ]
     },
     "metadata": {},
     "output_type": "display_data"
    },
    {
     "data": {
      "application/vnd.jupyter.widget-view+json": {
       "model_id": "23d0de219201485fadb60d92c85d084b",
       "version_major": 2,
       "version_minor": 0
      },
      "text/plain": [
       "Repetitions:   0%|          | 0/10 [00:00<?, ?it/s]"
      ]
     },
     "metadata": {},
     "output_type": "display_data"
    },
    {
     "data": {
      "application/vnd.jupyter.widget-view+json": {
       "model_id": "e49bf354511a47828fd1b4102c58d9fa",
       "version_major": 2,
       "version_minor": 0
      },
      "text/plain": [
       "Repetitions:   0%|          | 0/10 [00:00<?, ?it/s]"
      ]
     },
     "metadata": {},
     "output_type": "display_data"
    },
    {
     "data": {
      "application/vnd.jupyter.widget-view+json": {
       "model_id": "93b1a44313b644ae892ba6db5eaec789",
       "version_major": 2,
       "version_minor": 0
      },
      "text/plain": [
       "Repetitions:   0%|          | 0/10 [00:00<?, ?it/s]"
      ]
     },
     "metadata": {},
     "output_type": "display_data"
    },
    {
     "data": {
      "application/vnd.jupyter.widget-view+json": {
       "model_id": "7451355cc1f149e1802f97ebac61252f",
       "version_major": 2,
       "version_minor": 0
      },
      "text/plain": [
       "Repetitions:   0%|          | 0/10 [00:00<?, ?it/s]"
      ]
     },
     "metadata": {},
     "output_type": "display_data"
    },
    {
     "data": {
      "application/vnd.jupyter.widget-view+json": {
       "model_id": "00a8c547444040ce87ae7a1f2b4366df",
       "version_major": 2,
       "version_minor": 0
      },
      "text/plain": [
       "Repetitions:   0%|          | 0/10 [00:00<?, ?it/s]"
      ]
     },
     "metadata": {},
     "output_type": "display_data"
    },
    {
     "data": {
      "application/vnd.jupyter.widget-view+json": {
       "model_id": "6220c508f06545e4b5feac43a7dc5b0e",
       "version_major": 2,
       "version_minor": 0
      },
      "text/plain": [
       "Repetitions:   0%|          | 0/10 [00:00<?, ?it/s]"
      ]
     },
     "metadata": {},
     "output_type": "display_data"
    },
    {
     "data": {
      "application/vnd.jupyter.widget-view+json": {
       "model_id": "346749340dbf4d7ab3859bec454aad57",
       "version_major": 2,
       "version_minor": 0
      },
      "text/plain": [
       "Repetitions:   0%|          | 0/10 [00:00<?, ?it/s]"
      ]
     },
     "metadata": {},
     "output_type": "display_data"
    },
    {
     "data": {
      "application/vnd.jupyter.widget-view+json": {
       "model_id": "8de7601ac3f0430e9a378f9111cac56a",
       "version_major": 2,
       "version_minor": 0
      },
      "text/plain": [
       "Repetitions:   0%|          | 0/10 [00:00<?, ?it/s]"
      ]
     },
     "metadata": {},
     "output_type": "display_data"
    },
    {
     "data": {
      "application/vnd.jupyter.widget-view+json": {
       "model_id": "cf624bd61c0747bcbf1223eeaae14667",
       "version_major": 2,
       "version_minor": 0
      },
      "text/plain": [
       "Repetitions:   0%|          | 0/10 [00:00<?, ?it/s]"
      ]
     },
     "metadata": {},
     "output_type": "display_data"
    },
    {
     "data": {
      "application/vnd.jupyter.widget-view+json": {
       "model_id": "76833aca46244d7c8a9f9b3959f2fe1e",
       "version_major": 2,
       "version_minor": 0
      },
      "text/plain": [
       "Repetitions:   0%|          | 0/10 [00:00<?, ?it/s]"
      ]
     },
     "metadata": {},
     "output_type": "display_data"
    },
    {
     "data": {
      "application/vnd.jupyter.widget-view+json": {
       "model_id": "9e4c5113931e4eaba9fed90e35ec0129",
       "version_major": 2,
       "version_minor": 0
      },
      "text/plain": [
       "Repetitions:   0%|          | 0/10 [00:00<?, ?it/s]"
      ]
     },
     "metadata": {},
     "output_type": "display_data"
    },
    {
     "data": {
      "application/vnd.jupyter.widget-view+json": {
       "model_id": "34618ea0d5554e46a28b3a34f0194d73",
       "version_major": 2,
       "version_minor": 0
      },
      "text/plain": [
       "Repetitions:   0%|          | 0/10 [00:00<?, ?it/s]"
      ]
     },
     "metadata": {},
     "output_type": "display_data"
    },
    {
     "data": {
      "application/vnd.jupyter.widget-view+json": {
       "model_id": "06f37b129fec49ef8a76f60cf58b1242",
       "version_major": 2,
       "version_minor": 0
      },
      "text/plain": [
       "Repetitions:   0%|          | 0/10 [00:00<?, ?it/s]"
      ]
     },
     "metadata": {},
     "output_type": "display_data"
    },
    {
     "data": {
      "application/vnd.jupyter.widget-view+json": {
       "model_id": "3fdbda462692457abb4e2d70c16b4760",
       "version_major": 2,
       "version_minor": 0
      },
      "text/plain": [
       "Repetitions:   0%|          | 0/10 [00:00<?, ?it/s]"
      ]
     },
     "metadata": {},
     "output_type": "display_data"
    },
    {
     "data": {
      "application/vnd.jupyter.widget-view+json": {
       "model_id": "9945133e555b4246b8efedf64b4c690a",
       "version_major": 2,
       "version_minor": 0
      },
      "text/plain": [
       "Repetitions:   0%|          | 0/10 [00:00<?, ?it/s]"
      ]
     },
     "metadata": {},
     "output_type": "display_data"
    },
    {
     "data": {
      "application/vnd.jupyter.widget-view+json": {
       "model_id": "0edb822eb0e944aaa8ac8c5f43405798",
       "version_major": 2,
       "version_minor": 0
      },
      "text/plain": [
       "Repetitions:   0%|          | 0/10 [00:00<?, ?it/s]"
      ]
     },
     "metadata": {},
     "output_type": "display_data"
    },
    {
     "data": {
      "application/vnd.jupyter.widget-view+json": {
       "model_id": "7a7ccccdf3da43e393b04fa250b63a47",
       "version_major": 2,
       "version_minor": 0
      },
      "text/plain": [
       "Repetitions:   0%|          | 0/10 [00:00<?, ?it/s]"
      ]
     },
     "metadata": {},
     "output_type": "display_data"
    },
    {
     "data": {
      "application/vnd.jupyter.widget-view+json": {
       "model_id": "8277b9dd683c4720874c1ded9890e4d6",
       "version_major": 2,
       "version_minor": 0
      },
      "text/plain": [
       "Repetitions:   0%|          | 0/10 [00:00<?, ?it/s]"
      ]
     },
     "metadata": {},
     "output_type": "display_data"
    },
    {
     "data": {
      "application/vnd.jupyter.widget-view+json": {
       "model_id": "cbb72000035842508c29fe86ae9c3a54",
       "version_major": 2,
       "version_minor": 0
      },
      "text/plain": [
       "Repetitions:   0%|          | 0/10 [00:00<?, ?it/s]"
      ]
     },
     "metadata": {},
     "output_type": "display_data"
    },
    {
     "data": {
      "application/vnd.jupyter.widget-view+json": {
       "model_id": "14e2cdecb096456598cd93e9e4b567fe",
       "version_major": 2,
       "version_minor": 0
      },
      "text/plain": [
       "Repetitions:   0%|          | 0/10 [00:00<?, ?it/s]"
      ]
     },
     "metadata": {},
     "output_type": "display_data"
    },
    {
     "data": {
      "application/vnd.jupyter.widget-view+json": {
       "model_id": "02919c9defb443ac9f0a0680b3f6ed51",
       "version_major": 2,
       "version_minor": 0
      },
      "text/plain": [
       "Repetitions:   0%|          | 0/10 [00:00<?, ?it/s]"
      ]
     },
     "metadata": {},
     "output_type": "display_data"
    },
    {
     "data": {
      "application/vnd.jupyter.widget-view+json": {
       "model_id": "f4e95cdde8a24830b6a75b9eda1dae99",
       "version_major": 2,
       "version_minor": 0
      },
      "text/plain": [
       "Repetitions:   0%|          | 0/10 [00:00<?, ?it/s]"
      ]
     },
     "metadata": {},
     "output_type": "display_data"
    },
    {
     "data": {
      "application/vnd.jupyter.widget-view+json": {
       "model_id": "e1f8af7a184e4c4182de5841f3e12656",
       "version_major": 2,
       "version_minor": 0
      },
      "text/plain": [
       "Repetitions:   0%|          | 0/10 [00:00<?, ?it/s]"
      ]
     },
     "metadata": {},
     "output_type": "display_data"
    },
    {
     "data": {
      "application/vnd.jupyter.widget-view+json": {
       "model_id": "e90111339a3f433cb2849660aa60f4fb",
       "version_major": 2,
       "version_minor": 0
      },
      "text/plain": [
       "Repetitions:   0%|          | 0/10 [00:00<?, ?it/s]"
      ]
     },
     "metadata": {},
     "output_type": "display_data"
    },
    {
     "data": {
      "application/vnd.jupyter.widget-view+json": {
       "model_id": "641e11220dc747e38f653815ba096c96",
       "version_major": 2,
       "version_minor": 0
      },
      "text/plain": [
       "Repetitions:   0%|          | 0/10 [00:00<?, ?it/s]"
      ]
     },
     "metadata": {},
     "output_type": "display_data"
    },
    {
     "data": {
      "application/vnd.jupyter.widget-view+json": {
       "model_id": "f1a413acaf4043ec87be817892021a25",
       "version_major": 2,
       "version_minor": 0
      },
      "text/plain": [
       "Repetitions:   0%|          | 0/10 [00:00<?, ?it/s]"
      ]
     },
     "metadata": {},
     "output_type": "display_data"
    },
    {
     "data": {
      "application/vnd.jupyter.widget-view+json": {
       "model_id": "f23101e325c245248c18845897e27484",
       "version_major": 2,
       "version_minor": 0
      },
      "text/plain": [
       "Repetitions:   0%|          | 0/10 [00:00<?, ?it/s]"
      ]
     },
     "metadata": {},
     "output_type": "display_data"
    },
    {
     "data": {
      "application/vnd.jupyter.widget-view+json": {
       "model_id": "5a6ec8fc1ffa4f7bb34aaa3cf737917c",
       "version_major": 2,
       "version_minor": 0
      },
      "text/plain": [
       "Repetitions:   0%|          | 0/10 [00:00<?, ?it/s]"
      ]
     },
     "metadata": {},
     "output_type": "display_data"
    },
    {
     "data": {
      "application/vnd.jupyter.widget-view+json": {
       "model_id": "cf70b279a14642e7982d42518184382c",
       "version_major": 2,
       "version_minor": 0
      },
      "text/plain": [
       "Repetitions:   0%|          | 0/10 [00:00<?, ?it/s]"
      ]
     },
     "metadata": {},
     "output_type": "display_data"
    },
    {
     "data": {
      "application/vnd.jupyter.widget-view+json": {
       "model_id": "2d5961cd708a4cc4af54e5ea928e9475",
       "version_major": 2,
       "version_minor": 0
      },
      "text/plain": [
       "Repetitions:   0%|          | 0/10 [00:00<?, ?it/s]"
      ]
     },
     "metadata": {},
     "output_type": "display_data"
    },
    {
     "data": {
      "application/vnd.jupyter.widget-view+json": {
       "model_id": "da97357db4ee41d2b027a77b7b121776",
       "version_major": 2,
       "version_minor": 0
      },
      "text/plain": [
       "Repetitions:   0%|          | 0/10 [00:00<?, ?it/s]"
      ]
     },
     "metadata": {},
     "output_type": "display_data"
    },
    {
     "data": {
      "application/vnd.jupyter.widget-view+json": {
       "model_id": "d09b036fb9cf4fc88f99e83a868b3278",
       "version_major": 2,
       "version_minor": 0
      },
      "text/plain": [
       "Repetitions:   0%|          | 0/10 [00:00<?, ?it/s]"
      ]
     },
     "metadata": {},
     "output_type": "display_data"
    },
    {
     "data": {
      "application/vnd.jupyter.widget-view+json": {
       "model_id": "3013b1cd82ab47dc99f45bf5b0e0d6be",
       "version_major": 2,
       "version_minor": 0
      },
      "text/plain": [
       "Repetitions:   0%|          | 0/10 [00:00<?, ?it/s]"
      ]
     },
     "metadata": {},
     "output_type": "display_data"
    },
    {
     "data": {
      "application/vnd.jupyter.widget-view+json": {
       "model_id": "5b2b562d482d4e8f91097e3b9ca661de",
       "version_major": 2,
       "version_minor": 0
      },
      "text/plain": [
       "Repetitions:   0%|          | 0/10 [00:00<?, ?it/s]"
      ]
     },
     "metadata": {},
     "output_type": "display_data"
    },
    {
     "data": {
      "application/vnd.jupyter.widget-view+json": {
       "model_id": "0914e64c147f44b18c5956cf65bcf66d",
       "version_major": 2,
       "version_minor": 0
      },
      "text/plain": [
       "Repetitions:   0%|          | 0/10 [00:00<?, ?it/s]"
      ]
     },
     "metadata": {},
     "output_type": "display_data"
    },
    {
     "data": {
      "application/vnd.jupyter.widget-view+json": {
       "model_id": "bf4506d429ff40548f1b83447980ea16",
       "version_major": 2,
       "version_minor": 0
      },
      "text/plain": [
       "Repetitions:   0%|          | 0/10 [00:00<?, ?it/s]"
      ]
     },
     "metadata": {},
     "output_type": "display_data"
    },
    {
     "data": {
      "application/vnd.jupyter.widget-view+json": {
       "model_id": "2b5ab2c44d754118bb8a760a4c0ff6f4",
       "version_major": 2,
       "version_minor": 0
      },
      "text/plain": [
       "Repetitions:   0%|          | 0/10 [00:00<?, ?it/s]"
      ]
     },
     "metadata": {},
     "output_type": "display_data"
    },
    {
     "data": {
      "application/vnd.jupyter.widget-view+json": {
       "model_id": "dd9531a3a1f24229a8b94af68901a3f6",
       "version_major": 2,
       "version_minor": 0
      },
      "text/plain": [
       "Repetitions:   0%|          | 0/10 [00:00<?, ?it/s]"
      ]
     },
     "metadata": {},
     "output_type": "display_data"
    },
    {
     "data": {
      "application/vnd.jupyter.widget-view+json": {
       "model_id": "552a08fd77774d9c9ada5bb2d95c26b9",
       "version_major": 2,
       "version_minor": 0
      },
      "text/plain": [
       "Repetitions:   0%|          | 0/10 [00:00<?, ?it/s]"
      ]
     },
     "metadata": {},
     "output_type": "display_data"
    },
    {
     "data": {
      "application/vnd.jupyter.widget-view+json": {
       "model_id": "3aae01af7be44274b5ff514f60e56772",
       "version_major": 2,
       "version_minor": 0
      },
      "text/plain": [
       "Repetitions:   0%|          | 0/10 [00:00<?, ?it/s]"
      ]
     },
     "metadata": {},
     "output_type": "display_data"
    },
    {
     "data": {
      "application/vnd.jupyter.widget-view+json": {
       "model_id": "531ed6a70f5b41fe9f1bd173e7394789",
       "version_major": 2,
       "version_minor": 0
      },
      "text/plain": [
       "Repetitions:   0%|          | 0/10 [00:00<?, ?it/s]"
      ]
     },
     "metadata": {},
     "output_type": "display_data"
    },
    {
     "data": {
      "application/vnd.jupyter.widget-view+json": {
       "model_id": "716cdf2d65f84f82a12993385b2aa894",
       "version_major": 2,
       "version_minor": 0
      },
      "text/plain": [
       "Repetitions:   0%|          | 0/10 [00:00<?, ?it/s]"
      ]
     },
     "metadata": {},
     "output_type": "display_data"
    },
    {
     "data": {
      "application/vnd.jupyter.widget-view+json": {
       "model_id": "d18fd4d2521b48e395eac5ea62edc1cf",
       "version_major": 2,
       "version_minor": 0
      },
      "text/plain": [
       "Repetitions:   0%|          | 0/10 [00:00<?, ?it/s]"
      ]
     },
     "metadata": {},
     "output_type": "display_data"
    },
    {
     "data": {
      "application/vnd.jupyter.widget-view+json": {
       "model_id": "9c0a6c52c066454db0a3490ff9e8d234",
       "version_major": 2,
       "version_minor": 0
      },
      "text/plain": [
       "Repetitions:   0%|          | 0/10 [00:00<?, ?it/s]"
      ]
     },
     "metadata": {},
     "output_type": "display_data"
    },
    {
     "data": {
      "application/vnd.jupyter.widget-view+json": {
       "model_id": "70e84c1d903f42d28875ebde303ecb71",
       "version_major": 2,
       "version_minor": 0
      },
      "text/plain": [
       "Repetitions:   0%|          | 0/10 [00:00<?, ?it/s]"
      ]
     },
     "metadata": {},
     "output_type": "display_data"
    },
    {
     "data": {
      "application/vnd.jupyter.widget-view+json": {
       "model_id": "708018d1b64842c6ac547eea5ed71c5f",
       "version_major": 2,
       "version_minor": 0
      },
      "text/plain": [
       "Repetitions:   0%|          | 0/10 [00:00<?, ?it/s]"
      ]
     },
     "metadata": {},
     "output_type": "display_data"
    },
    {
     "data": {
      "application/vnd.jupyter.widget-view+json": {
       "model_id": "ea3b189c22a9453f9c050bed6d3b151c",
       "version_major": 2,
       "version_minor": 0
      },
      "text/plain": [
       "Repetitions:   0%|          | 0/10 [00:00<?, ?it/s]"
      ]
     },
     "metadata": {},
     "output_type": "display_data"
    },
    {
     "data": {
      "application/vnd.jupyter.widget-view+json": {
       "model_id": "8a640da5f7c54ed1a722e3591ff53d50",
       "version_major": 2,
       "version_minor": 0
      },
      "text/plain": [
       "Repetitions:   0%|          | 0/10 [00:00<?, ?it/s]"
      ]
     },
     "metadata": {},
     "output_type": "display_data"
    },
    {
     "data": {
      "application/vnd.jupyter.widget-view+json": {
       "model_id": "3c3687ef41cc416ca39e25062244dc69",
       "version_major": 2,
       "version_minor": 0
      },
      "text/plain": [
       "Repetitions:   0%|          | 0/10 [00:00<?, ?it/s]"
      ]
     },
     "metadata": {},
     "output_type": "display_data"
    },
    {
     "data": {
      "application/vnd.jupyter.widget-view+json": {
       "model_id": "73fe4bf602d34d1b8fc2a3ab86af48a2",
       "version_major": 2,
       "version_minor": 0
      },
      "text/plain": [
       "Repetitions:   0%|          | 0/10 [00:00<?, ?it/s]"
      ]
     },
     "metadata": {},
     "output_type": "display_data"
    },
    {
     "data": {
      "application/vnd.jupyter.widget-view+json": {
       "model_id": "b69094b77518448c8ff5aa3537b7e0c7",
       "version_major": 2,
       "version_minor": 0
      },
      "text/plain": [
       "Repetitions:   0%|          | 0/10 [00:00<?, ?it/s]"
      ]
     },
     "metadata": {},
     "output_type": "display_data"
    },
    {
     "data": {
      "application/vnd.jupyter.widget-view+json": {
       "model_id": "64fd97a33d484023bc292d49ef57819b",
       "version_major": 2,
       "version_minor": 0
      },
      "text/plain": [
       "Repetitions:   0%|          | 0/10 [00:00<?, ?it/s]"
      ]
     },
     "metadata": {},
     "output_type": "display_data"
    },
    {
     "data": {
      "application/vnd.jupyter.widget-view+json": {
       "model_id": "7fa82295d4954080a11dc6029e638d08",
       "version_major": 2,
       "version_minor": 0
      },
      "text/plain": [
       "Repetitions:   0%|          | 0/10 [00:00<?, ?it/s]"
      ]
     },
     "metadata": {},
     "output_type": "display_data"
    },
    {
     "data": {
      "application/vnd.jupyter.widget-view+json": {
       "model_id": "fe0b667b42db4e49a7d483ffbd9d4e08",
       "version_major": 2,
       "version_minor": 0
      },
      "text/plain": [
       "Repetitions:   0%|          | 0/10 [00:00<?, ?it/s]"
      ]
     },
     "metadata": {},
     "output_type": "display_data"
    },
    {
     "data": {
      "application/vnd.jupyter.widget-view+json": {
       "model_id": "76c7c3a026c24fdb97b2a7b404a63eb2",
       "version_major": 2,
       "version_minor": 0
      },
      "text/plain": [
       "Repetitions:   0%|          | 0/10 [00:00<?, ?it/s]"
      ]
     },
     "metadata": {},
     "output_type": "display_data"
    },
    {
     "data": {
      "application/vnd.jupyter.widget-view+json": {
       "model_id": "d58491b5fd9a4cac9c45acff0f37eba2",
       "version_major": 2,
       "version_minor": 0
      },
      "text/plain": [
       "Repetitions:   0%|          | 0/10 [00:00<?, ?it/s]"
      ]
     },
     "metadata": {},
     "output_type": "display_data"
    },
    {
     "data": {
      "application/vnd.jupyter.widget-view+json": {
       "model_id": "659c111827f24fc98683624f8c092d3f",
       "version_major": 2,
       "version_minor": 0
      },
      "text/plain": [
       "Repetitions:   0%|          | 0/10 [00:00<?, ?it/s]"
      ]
     },
     "metadata": {},
     "output_type": "display_data"
    },
    {
     "data": {
      "application/vnd.jupyter.widget-view+json": {
       "model_id": "8e4150209d924bd990a1261e9e014bae",
       "version_major": 2,
       "version_minor": 0
      },
      "text/plain": [
       "Repetitions:   0%|          | 0/10 [00:00<?, ?it/s]"
      ]
     },
     "metadata": {},
     "output_type": "display_data"
    },
    {
     "data": {
      "application/vnd.jupyter.widget-view+json": {
       "model_id": "917d310c3e79428ca5595095d1737254",
       "version_major": 2,
       "version_minor": 0
      },
      "text/plain": [
       "Repetitions:   0%|          | 0/10 [00:00<?, ?it/s]"
      ]
     },
     "metadata": {},
     "output_type": "display_data"
    },
    {
     "data": {
      "application/vnd.jupyter.widget-view+json": {
       "model_id": "386274329ed44582a8e030d0ce442662",
       "version_major": 2,
       "version_minor": 0
      },
      "text/plain": [
       "Repetitions:   0%|          | 0/10 [00:00<?, ?it/s]"
      ]
     },
     "metadata": {},
     "output_type": "display_data"
    },
    {
     "data": {
      "application/vnd.jupyter.widget-view+json": {
       "model_id": "99ce31f73d164325aed7b41a1d19eab7",
       "version_major": 2,
       "version_minor": 0
      },
      "text/plain": [
       "Repetitions:   0%|          | 0/10 [00:00<?, ?it/s]"
      ]
     },
     "metadata": {},
     "output_type": "display_data"
    },
    {
     "data": {
      "application/vnd.jupyter.widget-view+json": {
       "model_id": "148ffafb32fe4178a0ff2e0c25431c30",
       "version_major": 2,
       "version_minor": 0
      },
      "text/plain": [
       "Repetitions:   0%|          | 0/10 [00:00<?, ?it/s]"
      ]
     },
     "metadata": {},
     "output_type": "display_data"
    },
    {
     "data": {
      "application/vnd.jupyter.widget-view+json": {
       "model_id": "a6d5afde85f64ae8af85de3581cda2ca",
       "version_major": 2,
       "version_minor": 0
      },
      "text/plain": [
       "Repetitions:   0%|          | 0/10 [00:00<?, ?it/s]"
      ]
     },
     "metadata": {},
     "output_type": "display_data"
    },
    {
     "data": {
      "application/vnd.jupyter.widget-view+json": {
       "model_id": "c45abfbf1dc245938f7515274f12003f",
       "version_major": 2,
       "version_minor": 0
      },
      "text/plain": [
       "Repetitions:   0%|          | 0/10 [00:00<?, ?it/s]"
      ]
     },
     "metadata": {},
     "output_type": "display_data"
    },
    {
     "data": {
      "application/vnd.jupyter.widget-view+json": {
       "model_id": "b8ed6c8e9d064dd48a740577042fdd64",
       "version_major": 2,
       "version_minor": 0
      },
      "text/plain": [
       "Repetitions:   0%|          | 0/10 [00:00<?, ?it/s]"
      ]
     },
     "metadata": {},
     "output_type": "display_data"
    },
    {
     "data": {
      "application/vnd.jupyter.widget-view+json": {
       "model_id": "f5ca134bf10d462e97c5da8dc2219c80",
       "version_major": 2,
       "version_minor": 0
      },
      "text/plain": [
       "Repetitions:   0%|          | 0/10 [00:00<?, ?it/s]"
      ]
     },
     "metadata": {},
     "output_type": "display_data"
    },
    {
     "data": {
      "application/vnd.jupyter.widget-view+json": {
       "model_id": "3f5ac5eb3ac4474a8b45be7085403a93",
       "version_major": 2,
       "version_minor": 0
      },
      "text/plain": [
       "Repetitions:   0%|          | 0/10 [00:00<?, ?it/s]"
      ]
     },
     "metadata": {},
     "output_type": "display_data"
    },
    {
     "data": {
      "application/vnd.jupyter.widget-view+json": {
       "model_id": "658840d0c90a4a2fad532301903d294b",
       "version_major": 2,
       "version_minor": 0
      },
      "text/plain": [
       "Repetitions:   0%|          | 0/10 [00:00<?, ?it/s]"
      ]
     },
     "metadata": {},
     "output_type": "display_data"
    },
    {
     "data": {
      "application/vnd.jupyter.widget-view+json": {
       "model_id": "9ea73588fe904a3e8247548c6bee4ba5",
       "version_major": 2,
       "version_minor": 0
      },
      "text/plain": [
       "Repetitions:   0%|          | 0/10 [00:00<?, ?it/s]"
      ]
     },
     "metadata": {},
     "output_type": "display_data"
    },
    {
     "data": {
      "application/vnd.jupyter.widget-view+json": {
       "model_id": "a81d322612cd4877a4838a4a07ace308",
       "version_major": 2,
       "version_minor": 0
      },
      "text/plain": [
       "Repetitions:   0%|          | 0/10 [00:00<?, ?it/s]"
      ]
     },
     "metadata": {},
     "output_type": "display_data"
    },
    {
     "data": {
      "application/vnd.jupyter.widget-view+json": {
       "model_id": "6a0b416e5db6445b856b3dc7b01ba5fb",
       "version_major": 2,
       "version_minor": 0
      },
      "text/plain": [
       "Repetitions:   0%|          | 0/10 [00:00<?, ?it/s]"
      ]
     },
     "metadata": {},
     "output_type": "display_data"
    },
    {
     "data": {
      "application/vnd.jupyter.widget-view+json": {
       "model_id": "6f67aa55e938413898141b8d4f5aa70e",
       "version_major": 2,
       "version_minor": 0
      },
      "text/plain": [
       "Repetitions:   0%|          | 0/10 [00:00<?, ?it/s]"
      ]
     },
     "metadata": {},
     "output_type": "display_data"
    },
    {
     "data": {
      "application/vnd.jupyter.widget-view+json": {
       "model_id": "21b32bf0ba1c401598cbc33056e7a013",
       "version_major": 2,
       "version_minor": 0
      },
      "text/plain": [
       "Repetitions:   0%|          | 0/10 [00:00<?, ?it/s]"
      ]
     },
     "metadata": {},
     "output_type": "display_data"
    },
    {
     "data": {
      "application/vnd.jupyter.widget-view+json": {
       "model_id": "470311cbfc53473e89c92f0561c9d082",
       "version_major": 2,
       "version_minor": 0
      },
      "text/plain": [
       "Repetitions:   0%|          | 0/10 [00:00<?, ?it/s]"
      ]
     },
     "metadata": {},
     "output_type": "display_data"
    },
    {
     "data": {
      "application/vnd.jupyter.widget-view+json": {
       "model_id": "fdf74a37527b4c1b99735ab75fe3d18d",
       "version_major": 2,
       "version_minor": 0
      },
      "text/plain": [
       "Repetitions:   0%|          | 0/10 [00:00<?, ?it/s]"
      ]
     },
     "metadata": {},
     "output_type": "display_data"
    },
    {
     "data": {
      "application/vnd.jupyter.widget-view+json": {
       "model_id": "b701071c7baa4c33b6c56230c69b6f69",
       "version_major": 2,
       "version_minor": 0
      },
      "text/plain": [
       "Repetitions:   0%|          | 0/10 [00:00<?, ?it/s]"
      ]
     },
     "metadata": {},
     "output_type": "display_data"
    },
    {
     "data": {
      "application/vnd.jupyter.widget-view+json": {
       "model_id": "743803a482cc4b16ad2427f003d9941d",
       "version_major": 2,
       "version_minor": 0
      },
      "text/plain": [
       "Repetitions:   0%|          | 0/10 [00:00<?, ?it/s]"
      ]
     },
     "metadata": {},
     "output_type": "display_data"
    },
    {
     "data": {
      "application/vnd.jupyter.widget-view+json": {
       "model_id": "2faba58691fd4bc38ef51ac4488d95fd",
       "version_major": 2,
       "version_minor": 0
      },
      "text/plain": [
       "Repetitions:   0%|          | 0/10 [00:00<?, ?it/s]"
      ]
     },
     "metadata": {},
     "output_type": "display_data"
    },
    {
     "data": {
      "application/vnd.jupyter.widget-view+json": {
       "model_id": "c836c0a4499a4e4a93173c07017020c0",
       "version_major": 2,
       "version_minor": 0
      },
      "text/plain": [
       "Repetitions:   0%|          | 0/10 [00:00<?, ?it/s]"
      ]
     },
     "metadata": {},
     "output_type": "display_data"
    },
    {
     "data": {
      "application/vnd.jupyter.widget-view+json": {
       "model_id": "5858b7ebf3ee4b50a8307a9cd9fd46f0",
       "version_major": 2,
       "version_minor": 0
      },
      "text/plain": [
       "Repetitions:   0%|          | 0/10 [00:00<?, ?it/s]"
      ]
     },
     "metadata": {},
     "output_type": "display_data"
    },
    {
     "data": {
      "application/vnd.jupyter.widget-view+json": {
       "model_id": "e9f30612d8804fd985efe78026d1dc51",
       "version_major": 2,
       "version_minor": 0
      },
      "text/plain": [
       "Repetitions:   0%|          | 0/10 [00:00<?, ?it/s]"
      ]
     },
     "metadata": {},
     "output_type": "display_data"
    },
    {
     "data": {
      "application/vnd.jupyter.widget-view+json": {
       "model_id": "13abcb1f559d4b8a81cc5dcc39ed3f75",
       "version_major": 2,
       "version_minor": 0
      },
      "text/plain": [
       "Repetitions:   0%|          | 0/10 [00:00<?, ?it/s]"
      ]
     },
     "metadata": {},
     "output_type": "display_data"
    },
    {
     "data": {
      "application/vnd.jupyter.widget-view+json": {
       "model_id": "f6a396ca6b234d07a43798aae94b8f94",
       "version_major": 2,
       "version_minor": 0
      },
      "text/plain": [
       "Repetitions:   0%|          | 0/10 [00:00<?, ?it/s]"
      ]
     },
     "metadata": {},
     "output_type": "display_data"
    },
    {
     "data": {
      "application/vnd.jupyter.widget-view+json": {
       "model_id": "d0a50a82857047e381a6d7843e2c78d7",
       "version_major": 2,
       "version_minor": 0
      },
      "text/plain": [
       "Repetitions:   0%|          | 0/10 [00:00<?, ?it/s]"
      ]
     },
     "metadata": {},
     "output_type": "display_data"
    },
    {
     "data": {
      "application/vnd.jupyter.widget-view+json": {
       "model_id": "2704f1386aec498e86dc443d46843f02",
       "version_major": 2,
       "version_minor": 0
      },
      "text/plain": [
       "Repetitions:   0%|          | 0/10 [00:00<?, ?it/s]"
      ]
     },
     "metadata": {},
     "output_type": "display_data"
    },
    {
     "data": {
      "application/vnd.jupyter.widget-view+json": {
       "model_id": "b36a1754c40a4aab8591525eced40d7e",
       "version_major": 2,
       "version_minor": 0
      },
      "text/plain": [
       "Repetitions:   0%|          | 0/10 [00:00<?, ?it/s]"
      ]
     },
     "metadata": {},
     "output_type": "display_data"
    },
    {
     "data": {
      "application/vnd.jupyter.widget-view+json": {
       "model_id": "826792d47be149cf970abbec5736d500",
       "version_major": 2,
       "version_minor": 0
      },
      "text/plain": [
       "Repetitions:   0%|          | 0/10 [00:00<?, ?it/s]"
      ]
     },
     "metadata": {},
     "output_type": "display_data"
    },
    {
     "data": {
      "application/vnd.jupyter.widget-view+json": {
       "model_id": "3c814ea880e04449990d939e76203897",
       "version_major": 2,
       "version_minor": 0
      },
      "text/plain": [
       "Repetitions:   0%|          | 0/10 [00:00<?, ?it/s]"
      ]
     },
     "metadata": {},
     "output_type": "display_data"
    },
    {
     "data": {
      "application/vnd.jupyter.widget-view+json": {
       "model_id": "3e23f9a597cf46268a9bce283c2cf27e",
       "version_major": 2,
       "version_minor": 0
      },
      "text/plain": [
       "Repetitions:   0%|          | 0/10 [00:00<?, ?it/s]"
      ]
     },
     "metadata": {},
     "output_type": "display_data"
    },
    {
     "data": {
      "application/vnd.jupyter.widget-view+json": {
       "model_id": "9413f48ba6504d6abbbe55ffd0f3d866",
       "version_major": 2,
       "version_minor": 0
      },
      "text/plain": [
       "Repetitions:   0%|          | 0/10 [00:00<?, ?it/s]"
      ]
     },
     "metadata": {},
     "output_type": "display_data"
    },
    {
     "data": {
      "application/vnd.jupyter.widget-view+json": {
       "model_id": "fd1482445a6f4d53ad4ec7da82e2a202",
       "version_major": 2,
       "version_minor": 0
      },
      "text/plain": [
       "Repetitions:   0%|          | 0/10 [00:00<?, ?it/s]"
      ]
     },
     "metadata": {},
     "output_type": "display_data"
    },
    {
     "data": {
      "application/vnd.jupyter.widget-view+json": {
       "model_id": "0898a8921cb0485288369e53629d4cdb",
       "version_major": 2,
       "version_minor": 0
      },
      "text/plain": [
       "Repetitions:   0%|          | 0/10 [00:00<?, ?it/s]"
      ]
     },
     "metadata": {},
     "output_type": "display_data"
    },
    {
     "data": {
      "application/vnd.jupyter.widget-view+json": {
       "model_id": "a1306e4b8dfc4349a90ece5ac9c61895",
       "version_major": 2,
       "version_minor": 0
      },
      "text/plain": [
       "Repetitions:   0%|          | 0/10 [00:00<?, ?it/s]"
      ]
     },
     "metadata": {},
     "output_type": "display_data"
    },
    {
     "data": {
      "application/vnd.jupyter.widget-view+json": {
       "model_id": "d2d5d5416f0f4071b6d8fca97b3b608f",
       "version_major": 2,
       "version_minor": 0
      },
      "text/plain": [
       "Repetitions:   0%|          | 0/10 [00:00<?, ?it/s]"
      ]
     },
     "metadata": {},
     "output_type": "display_data"
    },
    {
     "data": {
      "application/vnd.jupyter.widget-view+json": {
       "model_id": "79595c622ca543138bffa758acf60cb0",
       "version_major": 2,
       "version_minor": 0
      },
      "text/plain": [
       "Repetitions:   0%|          | 0/10 [00:00<?, ?it/s]"
      ]
     },
     "metadata": {},
     "output_type": "display_data"
    },
    {
     "data": {
      "application/vnd.jupyter.widget-view+json": {
       "model_id": "e1b9738d2580455f840af815adf380d7",
       "version_major": 2,
       "version_minor": 0
      },
      "text/plain": [
       "Repetitions:   0%|          | 0/10 [00:00<?, ?it/s]"
      ]
     },
     "metadata": {},
     "output_type": "display_data"
    },
    {
     "data": {
      "application/vnd.jupyter.widget-view+json": {
       "model_id": "a856a4f2b8454cb890c8639e1249a175",
       "version_major": 2,
       "version_minor": 0
      },
      "text/plain": [
       "Repetitions:   0%|          | 0/10 [00:00<?, ?it/s]"
      ]
     },
     "metadata": {},
     "output_type": "display_data"
    },
    {
     "data": {
      "application/vnd.jupyter.widget-view+json": {
       "model_id": "ab2c6c4532aa49bcbbd43482840cbd7f",
       "version_major": 2,
       "version_minor": 0
      },
      "text/plain": [
       "Repetitions:   0%|          | 0/10 [00:00<?, ?it/s]"
      ]
     },
     "metadata": {},
     "output_type": "display_data"
    },
    {
     "data": {
      "application/vnd.jupyter.widget-view+json": {
       "model_id": "11ef84c90a924286863229440a6d2620",
       "version_major": 2,
       "version_minor": 0
      },
      "text/plain": [
       "Repetitions:   0%|          | 0/10 [00:00<?, ?it/s]"
      ]
     },
     "metadata": {},
     "output_type": "display_data"
    },
    {
     "data": {
      "application/vnd.jupyter.widget-view+json": {
       "model_id": "faa3cb029a8b4a489477429439089931",
       "version_major": 2,
       "version_minor": 0
      },
      "text/plain": [
       "Repetitions:   0%|          | 0/10 [00:00<?, ?it/s]"
      ]
     },
     "metadata": {},
     "output_type": "display_data"
    },
    {
     "data": {
      "application/vnd.jupyter.widget-view+json": {
       "model_id": "ef0e76daa29b409db3c1ab5f941ce5d1",
       "version_major": 2,
       "version_minor": 0
      },
      "text/plain": [
       "Repetitions:   0%|          | 0/10 [00:00<?, ?it/s]"
      ]
     },
     "metadata": {},
     "output_type": "display_data"
    },
    {
     "data": {
      "application/vnd.jupyter.widget-view+json": {
       "model_id": "e8da5fb4254341fb893189af9e8735b8",
       "version_major": 2,
       "version_minor": 0
      },
      "text/plain": [
       "Repetitions:   0%|          | 0/10 [00:00<?, ?it/s]"
      ]
     },
     "metadata": {},
     "output_type": "display_data"
    },
    {
     "data": {
      "application/vnd.jupyter.widget-view+json": {
       "model_id": "145f18ae269d4b67886cf4cb1b38b2a4",
       "version_major": 2,
       "version_minor": 0
      },
      "text/plain": [
       "Repetitions:   0%|          | 0/10 [00:00<?, ?it/s]"
      ]
     },
     "metadata": {},
     "output_type": "display_data"
    },
    {
     "data": {
      "application/vnd.jupyter.widget-view+json": {
       "model_id": "e6a4794dd47a412798b6b1d52b2d53b7",
       "version_major": 2,
       "version_minor": 0
      },
      "text/plain": [
       "Repetitions:   0%|          | 0/10 [00:00<?, ?it/s]"
      ]
     },
     "metadata": {},
     "output_type": "display_data"
    },
    {
     "data": {
      "application/vnd.jupyter.widget-view+json": {
       "model_id": "567ed75c404b41448ae8c8bf2813790f",
       "version_major": 2,
       "version_minor": 0
      },
      "text/plain": [
       "Repetitions:   0%|          | 0/10 [00:00<?, ?it/s]"
      ]
     },
     "metadata": {},
     "output_type": "display_data"
    },
    {
     "data": {
      "application/vnd.jupyter.widget-view+json": {
       "model_id": "3f2b0693d2dc4c42a1b5f712d98fe457",
       "version_major": 2,
       "version_minor": 0
      },
      "text/plain": [
       "Repetitions:   0%|          | 0/10 [00:00<?, ?it/s]"
      ]
     },
     "metadata": {},
     "output_type": "display_data"
    },
    {
     "data": {
      "application/vnd.jupyter.widget-view+json": {
       "model_id": "be63fb03eeba4c50b3095f32c7046fd1",
       "version_major": 2,
       "version_minor": 0
      },
      "text/plain": [
       "Repetitions:   0%|          | 0/10 [00:00<?, ?it/s]"
      ]
     },
     "metadata": {},
     "output_type": "display_data"
    },
    {
     "data": {
      "application/vnd.jupyter.widget-view+json": {
       "model_id": "d5625e0938044df297bc2f99af936d9a",
       "version_major": 2,
       "version_minor": 0
      },
      "text/plain": [
       "Repetitions:   0%|          | 0/10 [00:00<?, ?it/s]"
      ]
     },
     "metadata": {},
     "output_type": "display_data"
    },
    {
     "data": {
      "application/vnd.jupyter.widget-view+json": {
       "model_id": "cb17129b17cd43bd859ce6c5cb085b5f",
       "version_major": 2,
       "version_minor": 0
      },
      "text/plain": [
       "Repetitions:   0%|          | 0/10 [00:00<?, ?it/s]"
      ]
     },
     "metadata": {},
     "output_type": "display_data"
    },
    {
     "data": {
      "application/vnd.jupyter.widget-view+json": {
       "model_id": "54dcc31df5b442faa9aa0b3c3f25ea36",
       "version_major": 2,
       "version_minor": 0
      },
      "text/plain": [
       "Repetitions:   0%|          | 0/10 [00:00<?, ?it/s]"
      ]
     },
     "metadata": {},
     "output_type": "display_data"
    },
    {
     "data": {
      "application/vnd.jupyter.widget-view+json": {
       "model_id": "cd0ba439ef594ca892907532afa9dc4c",
       "version_major": 2,
       "version_minor": 0
      },
      "text/plain": [
       "Repetitions:   0%|          | 0/10 [00:00<?, ?it/s]"
      ]
     },
     "metadata": {},
     "output_type": "display_data"
    },
    {
     "data": {
      "application/vnd.jupyter.widget-view+json": {
       "model_id": "3376558f55314d91b91c695f777ee6dc",
       "version_major": 2,
       "version_minor": 0
      },
      "text/plain": [
       "Repetitions:   0%|          | 0/10 [00:00<?, ?it/s]"
      ]
     },
     "metadata": {},
     "output_type": "display_data"
    },
    {
     "data": {
      "application/vnd.jupyter.widget-view+json": {
       "model_id": "4f7bbe15bcc54281bea3e61ca3b2d9fc",
       "version_major": 2,
       "version_minor": 0
      },
      "text/plain": [
       "Repetitions:   0%|          | 0/10 [00:00<?, ?it/s]"
      ]
     },
     "metadata": {},
     "output_type": "display_data"
    },
    {
     "data": {
      "application/vnd.jupyter.widget-view+json": {
       "model_id": "27efd0487bf54667aeb29fb645fb7669",
       "version_major": 2,
       "version_minor": 0
      },
      "text/plain": [
       "Repetitions:   0%|          | 0/10 [00:00<?, ?it/s]"
      ]
     },
     "metadata": {},
     "output_type": "display_data"
    },
    {
     "data": {
      "application/vnd.jupyter.widget-view+json": {
       "model_id": "951382c174ac4ad297af57a9ca6e4e41",
       "version_major": 2,
       "version_minor": 0
      },
      "text/plain": [
       "Repetitions:   0%|          | 0/10 [00:00<?, ?it/s]"
      ]
     },
     "metadata": {},
     "output_type": "display_data"
    },
    {
     "data": {
      "application/vnd.jupyter.widget-view+json": {
       "model_id": "708cf13c612c47fb894701b14cf9ba7e",
       "version_major": 2,
       "version_minor": 0
      },
      "text/plain": [
       "Repetitions:   0%|          | 0/10 [00:00<?, ?it/s]"
      ]
     },
     "metadata": {},
     "output_type": "display_data"
    },
    {
     "data": {
      "application/vnd.jupyter.widget-view+json": {
       "model_id": "29803042ad3f4d49b5dad3d9b6875dc9",
       "version_major": 2,
       "version_minor": 0
      },
      "text/plain": [
       "Repetitions:   0%|          | 0/10 [00:00<?, ?it/s]"
      ]
     },
     "metadata": {},
     "output_type": "display_data"
    },
    {
     "data": {
      "application/vnd.jupyter.widget-view+json": {
       "model_id": "88392696e14e4b14b26f6a07a86f7009",
       "version_major": 2,
       "version_minor": 0
      },
      "text/plain": [
       "Repetitions:   0%|          | 0/10 [00:00<?, ?it/s]"
      ]
     },
     "metadata": {},
     "output_type": "display_data"
    },
    {
     "data": {
      "application/vnd.jupyter.widget-view+json": {
       "model_id": "5c6a5a7827774237a1c8f6fe728eeb82",
       "version_major": 2,
       "version_minor": 0
      },
      "text/plain": [
       "Repetitions:   0%|          | 0/10 [00:00<?, ?it/s]"
      ]
     },
     "metadata": {},
     "output_type": "display_data"
    },
    {
     "data": {
      "application/vnd.jupyter.widget-view+json": {
       "model_id": "7184b387a0014ab8a063c663387b9e68",
       "version_major": 2,
       "version_minor": 0
      },
      "text/plain": [
       "Repetitions:   0%|          | 0/10 [00:00<?, ?it/s]"
      ]
     },
     "metadata": {},
     "output_type": "display_data"
    },
    {
     "data": {
      "application/vnd.jupyter.widget-view+json": {
       "model_id": "45a82a994c6a400fa13b46dbe2d919d5",
       "version_major": 2,
       "version_minor": 0
      },
      "text/plain": [
       "Repetitions:   0%|          | 0/10 [00:00<?, ?it/s]"
      ]
     },
     "metadata": {},
     "output_type": "display_data"
    },
    {
     "data": {
      "application/vnd.jupyter.widget-view+json": {
       "model_id": "e1e3c5768b804e33a40eb6a66309ff9b",
       "version_major": 2,
       "version_minor": 0
      },
      "text/plain": [
       "Repetitions:   0%|          | 0/10 [00:00<?, ?it/s]"
      ]
     },
     "metadata": {},
     "output_type": "display_data"
    },
    {
     "data": {
      "application/vnd.jupyter.widget-view+json": {
       "model_id": "6d781c9a9ea54c779aba2830d516fed1",
       "version_major": 2,
       "version_minor": 0
      },
      "text/plain": [
       "Repetitions:   0%|          | 0/10 [00:00<?, ?it/s]"
      ]
     },
     "metadata": {},
     "output_type": "display_data"
    },
    {
     "data": {
      "application/vnd.jupyter.widget-view+json": {
       "model_id": "9af91ba59bac4ddf9c8ecc13a139c762",
       "version_major": 2,
       "version_minor": 0
      },
      "text/plain": [
       "Repetitions:   0%|          | 0/10 [00:00<?, ?it/s]"
      ]
     },
     "metadata": {},
     "output_type": "display_data"
    },
    {
     "data": {
      "application/vnd.jupyter.widget-view+json": {
       "model_id": "044554dd80be4d0d9b590eff3f524bd4",
       "version_major": 2,
       "version_minor": 0
      },
      "text/plain": [
       "Repetitions:   0%|          | 0/10 [00:00<?, ?it/s]"
      ]
     },
     "metadata": {},
     "output_type": "display_data"
    },
    {
     "name": "stderr",
     "output_type": "stream",
     "text": [
      "/home/alexander/Documents/TUDelft/done-soon/venv/lib/python3.10/site-packages/sklearn/metrics/_classification.py:1609: UndefinedMetricWarning: F-score is ill-defined and being set to 0.0 due to no true nor predicted samples. Use `zero_division` parameter to control this behavior.\n",
      "  _warn_prf(average, \"true nor predicted\", \"F-score is\", len(true_sum))\n",
      "/home/alexander/Documents/TUDelft/done-soon/venv/lib/python3.10/site-packages/sklearn/metrics/_classification.py:1609: UndefinedMetricWarning: F-score is ill-defined and being set to 0.0 due to no true nor predicted samples. Use `zero_division` parameter to control this behavior.\n",
      "  _warn_prf(average, \"true nor predicted\", \"F-score is\", len(true_sum))\n",
      "/home/alexander/Documents/TUDelft/done-soon/venv/lib/python3.10/site-packages/sklearn/metrics/_classification.py:1609: UndefinedMetricWarning: F-score is ill-defined and being set to 0.0 due to no true nor predicted samples. Use `zero_division` parameter to control this behavior.\n",
      "  _warn_prf(average, \"true nor predicted\", \"F-score is\", len(true_sum))\n",
      "/home/alexander/Documents/TUDelft/done-soon/venv/lib/python3.10/site-packages/sklearn/metrics/_classification.py:1609: UndefinedMetricWarning: F-score is ill-defined and being set to 0.0 due to no true nor predicted samples. Use `zero_division` parameter to control this behavior.\n",
      "  _warn_prf(average, \"true nor predicted\", \"F-score is\", len(true_sum))\n",
      "/home/alexander/Documents/TUDelft/done-soon/venv/lib/python3.10/site-packages/sklearn/metrics/_classification.py:1609: UndefinedMetricWarning: F-score is ill-defined and being set to 0.0 due to no true nor predicted samples. Use `zero_division` parameter to control this behavior.\n",
      "  _warn_prf(average, \"true nor predicted\", \"F-score is\", len(true_sum))\n",
      "/home/alexander/Documents/TUDelft/done-soon/venv/lib/python3.10/site-packages/sklearn/metrics/_classification.py:1609: UndefinedMetricWarning: F-score is ill-defined and being set to 0.0 due to no true nor predicted samples. Use `zero_division` parameter to control this behavior.\n",
      "  _warn_prf(average, \"true nor predicted\", \"F-score is\", len(true_sum))\n",
      "/home/alexander/Documents/TUDelft/done-soon/venv/lib/python3.10/site-packages/sklearn/metrics/_classification.py:1609: UndefinedMetricWarning: F-score is ill-defined and being set to 0.0 due to no true nor predicted samples. Use `zero_division` parameter to control this behavior.\n",
      "  _warn_prf(average, \"true nor predicted\", \"F-score is\", len(true_sum))\n",
      "/home/alexander/Documents/TUDelft/done-soon/venv/lib/python3.10/site-packages/sklearn/metrics/_classification.py:1609: UndefinedMetricWarning: F-score is ill-defined and being set to 0.0 due to no true nor predicted samples. Use `zero_division` parameter to control this behavior.\n",
      "  _warn_prf(average, \"true nor predicted\", \"F-score is\", len(true_sum))\n",
      "/home/alexander/Documents/TUDelft/done-soon/venv/lib/python3.10/site-packages/sklearn/metrics/_classification.py:1609: UndefinedMetricWarning: F-score is ill-defined and being set to 0.0 due to no true nor predicted samples. Use `zero_division` parameter to control this behavior.\n",
      "  _warn_prf(average, \"true nor predicted\", \"F-score is\", len(true_sum))\n",
      "/home/alexander/Documents/TUDelft/done-soon/venv/lib/python3.10/site-packages/sklearn/metrics/_classification.py:1609: UndefinedMetricWarning: F-score is ill-defined and being set to 0.0 due to no true nor predicted samples. Use `zero_division` parameter to control this behavior.\n",
      "  _warn_prf(average, \"true nor predicted\", \"F-score is\", len(true_sum))\n"
     ]
    },
    {
     "data": {
      "application/vnd.jupyter.widget-view+json": {
       "model_id": "a37f798da240493687d0739140335412",
       "version_major": 2,
       "version_minor": 0
      },
      "text/plain": [
       "Repetitions:   0%|          | 0/10 [00:00<?, ?it/s]"
      ]
     },
     "metadata": {},
     "output_type": "display_data"
    },
    {
     "name": "stderr",
     "output_type": "stream",
     "text": [
      "/home/alexander/Documents/TUDelft/done-soon/venv/lib/python3.10/site-packages/sklearn/metrics/_classification.py:1609: UndefinedMetricWarning: F-score is ill-defined and being set to 0.0 due to no true nor predicted samples. Use `zero_division` parameter to control this behavior.\n",
      "  _warn_prf(average, \"true nor predicted\", \"F-score is\", len(true_sum))\n",
      "/home/alexander/Documents/TUDelft/done-soon/venv/lib/python3.10/site-packages/sklearn/metrics/_classification.py:1609: UndefinedMetricWarning: F-score is ill-defined and being set to 0.0 due to no true nor predicted samples. Use `zero_division` parameter to control this behavior.\n",
      "  _warn_prf(average, \"true nor predicted\", \"F-score is\", len(true_sum))\n",
      "/home/alexander/Documents/TUDelft/done-soon/venv/lib/python3.10/site-packages/sklearn/metrics/_classification.py:1609: UndefinedMetricWarning: F-score is ill-defined and being set to 0.0 due to no true nor predicted samples. Use `zero_division` parameter to control this behavior.\n",
      "  _warn_prf(average, \"true nor predicted\", \"F-score is\", len(true_sum))\n",
      "/home/alexander/Documents/TUDelft/done-soon/venv/lib/python3.10/site-packages/sklearn/metrics/_classification.py:1609: UndefinedMetricWarning: F-score is ill-defined and being set to 0.0 due to no true nor predicted samples. Use `zero_division` parameter to control this behavior.\n",
      "  _warn_prf(average, \"true nor predicted\", \"F-score is\", len(true_sum))\n",
      "/home/alexander/Documents/TUDelft/done-soon/venv/lib/python3.10/site-packages/sklearn/metrics/_classification.py:1609: UndefinedMetricWarning: F-score is ill-defined and being set to 0.0 due to no true nor predicted samples. Use `zero_division` parameter to control this behavior.\n",
      "  _warn_prf(average, \"true nor predicted\", \"F-score is\", len(true_sum))\n",
      "/home/alexander/Documents/TUDelft/done-soon/venv/lib/python3.10/site-packages/sklearn/metrics/_classification.py:1609: UndefinedMetricWarning: F-score is ill-defined and being set to 0.0 due to no true nor predicted samples. Use `zero_division` parameter to control this behavior.\n",
      "  _warn_prf(average, \"true nor predicted\", \"F-score is\", len(true_sum))\n",
      "/home/alexander/Documents/TUDelft/done-soon/venv/lib/python3.10/site-packages/sklearn/metrics/_classification.py:1609: UndefinedMetricWarning: F-score is ill-defined and being set to 0.0 due to no true nor predicted samples. Use `zero_division` parameter to control this behavior.\n",
      "  _warn_prf(average, \"true nor predicted\", \"F-score is\", len(true_sum))\n",
      "/home/alexander/Documents/TUDelft/done-soon/venv/lib/python3.10/site-packages/sklearn/metrics/_classification.py:1609: UndefinedMetricWarning: F-score is ill-defined and being set to 0.0 due to no true nor predicted samples. Use `zero_division` parameter to control this behavior.\n",
      "  _warn_prf(average, \"true nor predicted\", \"F-score is\", len(true_sum))\n",
      "/home/alexander/Documents/TUDelft/done-soon/venv/lib/python3.10/site-packages/sklearn/metrics/_classification.py:1609: UndefinedMetricWarning: F-score is ill-defined and being set to 0.0 due to no true nor predicted samples. Use `zero_division` parameter to control this behavior.\n",
      "  _warn_prf(average, \"true nor predicted\", \"F-score is\", len(true_sum))\n",
      "/home/alexander/Documents/TUDelft/done-soon/venv/lib/python3.10/site-packages/sklearn/metrics/_classification.py:1609: UndefinedMetricWarning: F-score is ill-defined and being set to 0.0 due to no true nor predicted samples. Use `zero_division` parameter to control this behavior.\n",
      "  _warn_prf(average, \"true nor predicted\", \"F-score is\", len(true_sum))\n"
     ]
    },
    {
     "data": {
      "application/vnd.jupyter.widget-view+json": {
       "model_id": "9e97672b18ee4f6eae245f7520f100fd",
       "version_major": 2,
       "version_minor": 0
      },
      "text/plain": [
       "Repetitions:   0%|          | 0/10 [00:00<?, ?it/s]"
      ]
     },
     "metadata": {},
     "output_type": "display_data"
    },
    {
     "name": "stderr",
     "output_type": "stream",
     "text": [
      "/home/alexander/Documents/TUDelft/done-soon/venv/lib/python3.10/site-packages/sklearn/metrics/_classification.py:1609: UndefinedMetricWarning: F-score is ill-defined and being set to 0.0 due to no true nor predicted samples. Use `zero_division` parameter to control this behavior.\n",
      "  _warn_prf(average, \"true nor predicted\", \"F-score is\", len(true_sum))\n",
      "/home/alexander/Documents/TUDelft/done-soon/venv/lib/python3.10/site-packages/sklearn/metrics/_classification.py:1609: UndefinedMetricWarning: F-score is ill-defined and being set to 0.0 due to no true nor predicted samples. Use `zero_division` parameter to control this behavior.\n",
      "  _warn_prf(average, \"true nor predicted\", \"F-score is\", len(true_sum))\n",
      "/home/alexander/Documents/TUDelft/done-soon/venv/lib/python3.10/site-packages/sklearn/metrics/_classification.py:1609: UndefinedMetricWarning: F-score is ill-defined and being set to 0.0 due to no true nor predicted samples. Use `zero_division` parameter to control this behavior.\n",
      "  _warn_prf(average, \"true nor predicted\", \"F-score is\", len(true_sum))\n",
      "/home/alexander/Documents/TUDelft/done-soon/venv/lib/python3.10/site-packages/sklearn/metrics/_classification.py:1609: UndefinedMetricWarning: F-score is ill-defined and being set to 0.0 due to no true nor predicted samples. Use `zero_division` parameter to control this behavior.\n",
      "  _warn_prf(average, \"true nor predicted\", \"F-score is\", len(true_sum))\n",
      "/home/alexander/Documents/TUDelft/done-soon/venv/lib/python3.10/site-packages/sklearn/metrics/_classification.py:1609: UndefinedMetricWarning: F-score is ill-defined and being set to 0.0 due to no true nor predicted samples. Use `zero_division` parameter to control this behavior.\n",
      "  _warn_prf(average, \"true nor predicted\", \"F-score is\", len(true_sum))\n",
      "/home/alexander/Documents/TUDelft/done-soon/venv/lib/python3.10/site-packages/sklearn/metrics/_classification.py:1609: UndefinedMetricWarning: F-score is ill-defined and being set to 0.0 due to no true nor predicted samples. Use `zero_division` parameter to control this behavior.\n",
      "  _warn_prf(average, \"true nor predicted\", \"F-score is\", len(true_sum))\n",
      "/home/alexander/Documents/TUDelft/done-soon/venv/lib/python3.10/site-packages/sklearn/metrics/_classification.py:1609: UndefinedMetricWarning: F-score is ill-defined and being set to 0.0 due to no true nor predicted samples. Use `zero_division` parameter to control this behavior.\n",
      "  _warn_prf(average, \"true nor predicted\", \"F-score is\", len(true_sum))\n",
      "/home/alexander/Documents/TUDelft/done-soon/venv/lib/python3.10/site-packages/sklearn/metrics/_classification.py:1609: UndefinedMetricWarning: F-score is ill-defined and being set to 0.0 due to no true nor predicted samples. Use `zero_division` parameter to control this behavior.\n",
      "  _warn_prf(average, \"true nor predicted\", \"F-score is\", len(true_sum))\n",
      "/home/alexander/Documents/TUDelft/done-soon/venv/lib/python3.10/site-packages/sklearn/metrics/_classification.py:1609: UndefinedMetricWarning: F-score is ill-defined and being set to 0.0 due to no true nor predicted samples. Use `zero_division` parameter to control this behavior.\n",
      "  _warn_prf(average, \"true nor predicted\", \"F-score is\", len(true_sum))\n",
      "/home/alexander/Documents/TUDelft/done-soon/venv/lib/python3.10/site-packages/sklearn/metrics/_classification.py:1609: UndefinedMetricWarning: F-score is ill-defined and being set to 0.0 due to no true nor predicted samples. Use `zero_division` parameter to control this behavior.\n",
      "  _warn_prf(average, \"true nor predicted\", \"F-score is\", len(true_sum))\n"
     ]
    },
    {
     "data": {
      "application/vnd.jupyter.widget-view+json": {
       "model_id": "b0f328b606b24806b7f4a80448b46341",
       "version_major": 2,
       "version_minor": 0
      },
      "text/plain": [
       "Repetitions:   0%|          | 0/10 [00:00<?, ?it/s]"
      ]
     },
     "metadata": {},
     "output_type": "display_data"
    },
    {
     "name": "stderr",
     "output_type": "stream",
     "text": [
      "/home/alexander/Documents/TUDelft/done-soon/venv/lib/python3.10/site-packages/sklearn/metrics/_classification.py:1609: UndefinedMetricWarning: F-score is ill-defined and being set to 0.0 due to no true nor predicted samples. Use `zero_division` parameter to control this behavior.\n",
      "  _warn_prf(average, \"true nor predicted\", \"F-score is\", len(true_sum))\n",
      "/home/alexander/Documents/TUDelft/done-soon/venv/lib/python3.10/site-packages/sklearn/metrics/_classification.py:1609: UndefinedMetricWarning: F-score is ill-defined and being set to 0.0 due to no true nor predicted samples. Use `zero_division` parameter to control this behavior.\n",
      "  _warn_prf(average, \"true nor predicted\", \"F-score is\", len(true_sum))\n",
      "/home/alexander/Documents/TUDelft/done-soon/venv/lib/python3.10/site-packages/sklearn/metrics/_classification.py:1609: UndefinedMetricWarning: F-score is ill-defined and being set to 0.0 due to no true nor predicted samples. Use `zero_division` parameter to control this behavior.\n",
      "  _warn_prf(average, \"true nor predicted\", \"F-score is\", len(true_sum))\n",
      "/home/alexander/Documents/TUDelft/done-soon/venv/lib/python3.10/site-packages/sklearn/metrics/_classification.py:1609: UndefinedMetricWarning: F-score is ill-defined and being set to 0.0 due to no true nor predicted samples. Use `zero_division` parameter to control this behavior.\n",
      "  _warn_prf(average, \"true nor predicted\", \"F-score is\", len(true_sum))\n",
      "/home/alexander/Documents/TUDelft/done-soon/venv/lib/python3.10/site-packages/sklearn/metrics/_classification.py:1609: UndefinedMetricWarning: F-score is ill-defined and being set to 0.0 due to no true nor predicted samples. Use `zero_division` parameter to control this behavior.\n",
      "  _warn_prf(average, \"true nor predicted\", \"F-score is\", len(true_sum))\n",
      "/home/alexander/Documents/TUDelft/done-soon/venv/lib/python3.10/site-packages/sklearn/metrics/_classification.py:1609: UndefinedMetricWarning: F-score is ill-defined and being set to 0.0 due to no true nor predicted samples. Use `zero_division` parameter to control this behavior.\n",
      "  _warn_prf(average, \"true nor predicted\", \"F-score is\", len(true_sum))\n",
      "/home/alexander/Documents/TUDelft/done-soon/venv/lib/python3.10/site-packages/sklearn/metrics/_classification.py:1609: UndefinedMetricWarning: F-score is ill-defined and being set to 0.0 due to no true nor predicted samples. Use `zero_division` parameter to control this behavior.\n",
      "  _warn_prf(average, \"true nor predicted\", \"F-score is\", len(true_sum))\n",
      "/home/alexander/Documents/TUDelft/done-soon/venv/lib/python3.10/site-packages/sklearn/metrics/_classification.py:1609: UndefinedMetricWarning: F-score is ill-defined and being set to 0.0 due to no true nor predicted samples. Use `zero_division` parameter to control this behavior.\n",
      "  _warn_prf(average, \"true nor predicted\", \"F-score is\", len(true_sum))\n",
      "/home/alexander/Documents/TUDelft/done-soon/venv/lib/python3.10/site-packages/sklearn/metrics/_classification.py:1609: UndefinedMetricWarning: F-score is ill-defined and being set to 0.0 due to no true nor predicted samples. Use `zero_division` parameter to control this behavior.\n",
      "  _warn_prf(average, \"true nor predicted\", \"F-score is\", len(true_sum))\n",
      "/home/alexander/Documents/TUDelft/done-soon/venv/lib/python3.10/site-packages/sklearn/metrics/_classification.py:1609: UndefinedMetricWarning: F-score is ill-defined and being set to 0.0 due to no true nor predicted samples. Use `zero_division` parameter to control this behavior.\n",
      "  _warn_prf(average, \"true nor predicted\", \"F-score is\", len(true_sum))\n"
     ]
    },
    {
     "data": {
      "application/vnd.jupyter.widget-view+json": {
       "model_id": "7bfc27d222734e88af22af23ec53d24e",
       "version_major": 2,
       "version_minor": 0
      },
      "text/plain": [
       "Repetitions:   0%|          | 0/10 [00:00<?, ?it/s]"
      ]
     },
     "metadata": {},
     "output_type": "display_data"
    },
    {
     "name": "stderr",
     "output_type": "stream",
     "text": [
      "/home/alexander/Documents/TUDelft/done-soon/venv/lib/python3.10/site-packages/sklearn/metrics/_classification.py:1609: UndefinedMetricWarning: F-score is ill-defined and being set to 0.0 due to no true nor predicted samples. Use `zero_division` parameter to control this behavior.\n",
      "  _warn_prf(average, \"true nor predicted\", \"F-score is\", len(true_sum))\n",
      "/home/alexander/Documents/TUDelft/done-soon/venv/lib/python3.10/site-packages/sklearn/metrics/_classification.py:1609: UndefinedMetricWarning: F-score is ill-defined and being set to 0.0 due to no true nor predicted samples. Use `zero_division` parameter to control this behavior.\n",
      "  _warn_prf(average, \"true nor predicted\", \"F-score is\", len(true_sum))\n",
      "/home/alexander/Documents/TUDelft/done-soon/venv/lib/python3.10/site-packages/sklearn/metrics/_classification.py:1609: UndefinedMetricWarning: F-score is ill-defined and being set to 0.0 due to no true nor predicted samples. Use `zero_division` parameter to control this behavior.\n",
      "  _warn_prf(average, \"true nor predicted\", \"F-score is\", len(true_sum))\n",
      "/home/alexander/Documents/TUDelft/done-soon/venv/lib/python3.10/site-packages/sklearn/metrics/_classification.py:1609: UndefinedMetricWarning: F-score is ill-defined and being set to 0.0 due to no true nor predicted samples. Use `zero_division` parameter to control this behavior.\n",
      "  _warn_prf(average, \"true nor predicted\", \"F-score is\", len(true_sum))\n",
      "/home/alexander/Documents/TUDelft/done-soon/venv/lib/python3.10/site-packages/sklearn/metrics/_classification.py:1609: UndefinedMetricWarning: F-score is ill-defined and being set to 0.0 due to no true nor predicted samples. Use `zero_division` parameter to control this behavior.\n",
      "  _warn_prf(average, \"true nor predicted\", \"F-score is\", len(true_sum))\n",
      "/home/alexander/Documents/TUDelft/done-soon/venv/lib/python3.10/site-packages/sklearn/metrics/_classification.py:1609: UndefinedMetricWarning: F-score is ill-defined and being set to 0.0 due to no true nor predicted samples. Use `zero_division` parameter to control this behavior.\n",
      "  _warn_prf(average, \"true nor predicted\", \"F-score is\", len(true_sum))\n",
      "/home/alexander/Documents/TUDelft/done-soon/venv/lib/python3.10/site-packages/sklearn/metrics/_classification.py:1609: UndefinedMetricWarning: F-score is ill-defined and being set to 0.0 due to no true nor predicted samples. Use `zero_division` parameter to control this behavior.\n",
      "  _warn_prf(average, \"true nor predicted\", \"F-score is\", len(true_sum))\n",
      "/home/alexander/Documents/TUDelft/done-soon/venv/lib/python3.10/site-packages/sklearn/metrics/_classification.py:1609: UndefinedMetricWarning: F-score is ill-defined and being set to 0.0 due to no true nor predicted samples. Use `zero_division` parameter to control this behavior.\n",
      "  _warn_prf(average, \"true nor predicted\", \"F-score is\", len(true_sum))\n",
      "/home/alexander/Documents/TUDelft/done-soon/venv/lib/python3.10/site-packages/sklearn/metrics/_classification.py:1609: UndefinedMetricWarning: F-score is ill-defined and being set to 0.0 due to no true nor predicted samples. Use `zero_division` parameter to control this behavior.\n",
      "  _warn_prf(average, \"true nor predicted\", \"F-score is\", len(true_sum))\n",
      "/home/alexander/Documents/TUDelft/done-soon/venv/lib/python3.10/site-packages/sklearn/metrics/_classification.py:1609: UndefinedMetricWarning: F-score is ill-defined and being set to 0.0 due to no true nor predicted samples. Use `zero_division` parameter to control this behavior.\n",
      "  _warn_prf(average, \"true nor predicted\", \"F-score is\", len(true_sum))\n"
     ]
    },
    {
     "data": {
      "application/vnd.jupyter.widget-view+json": {
       "model_id": "877ed65d555249b1864993bd15da6255",
       "version_major": 2,
       "version_minor": 0
      },
      "text/plain": [
       "Repetitions:   0%|          | 0/10 [00:00<?, ?it/s]"
      ]
     },
     "metadata": {},
     "output_type": "display_data"
    },
    {
     "name": "stderr",
     "output_type": "stream",
     "text": [
      "/home/alexander/Documents/TUDelft/done-soon/venv/lib/python3.10/site-packages/sklearn/metrics/_classification.py:1609: UndefinedMetricWarning: F-score is ill-defined and being set to 0.0 due to no true nor predicted samples. Use `zero_division` parameter to control this behavior.\n",
      "  _warn_prf(average, \"true nor predicted\", \"F-score is\", len(true_sum))\n",
      "/home/alexander/Documents/TUDelft/done-soon/venv/lib/python3.10/site-packages/sklearn/metrics/_classification.py:1609: UndefinedMetricWarning: F-score is ill-defined and being set to 0.0 due to no true nor predicted samples. Use `zero_division` parameter to control this behavior.\n",
      "  _warn_prf(average, \"true nor predicted\", \"F-score is\", len(true_sum))\n",
      "/home/alexander/Documents/TUDelft/done-soon/venv/lib/python3.10/site-packages/sklearn/metrics/_classification.py:1609: UndefinedMetricWarning: F-score is ill-defined and being set to 0.0 due to no true nor predicted samples. Use `zero_division` parameter to control this behavior.\n",
      "  _warn_prf(average, \"true nor predicted\", \"F-score is\", len(true_sum))\n",
      "/home/alexander/Documents/TUDelft/done-soon/venv/lib/python3.10/site-packages/sklearn/metrics/_classification.py:1609: UndefinedMetricWarning: F-score is ill-defined and being set to 0.0 due to no true nor predicted samples. Use `zero_division` parameter to control this behavior.\n",
      "  _warn_prf(average, \"true nor predicted\", \"F-score is\", len(true_sum))\n",
      "/home/alexander/Documents/TUDelft/done-soon/venv/lib/python3.10/site-packages/sklearn/metrics/_classification.py:1609: UndefinedMetricWarning: F-score is ill-defined and being set to 0.0 due to no true nor predicted samples. Use `zero_division` parameter to control this behavior.\n",
      "  _warn_prf(average, \"true nor predicted\", \"F-score is\", len(true_sum))\n",
      "/home/alexander/Documents/TUDelft/done-soon/venv/lib/python3.10/site-packages/sklearn/metrics/_classification.py:1609: UndefinedMetricWarning: F-score is ill-defined and being set to 0.0 due to no true nor predicted samples. Use `zero_division` parameter to control this behavior.\n",
      "  _warn_prf(average, \"true nor predicted\", \"F-score is\", len(true_sum))\n",
      "/home/alexander/Documents/TUDelft/done-soon/venv/lib/python3.10/site-packages/sklearn/metrics/_classification.py:1609: UndefinedMetricWarning: F-score is ill-defined and being set to 0.0 due to no true nor predicted samples. Use `zero_division` parameter to control this behavior.\n",
      "  _warn_prf(average, \"true nor predicted\", \"F-score is\", len(true_sum))\n",
      "/home/alexander/Documents/TUDelft/done-soon/venv/lib/python3.10/site-packages/sklearn/metrics/_classification.py:1609: UndefinedMetricWarning: F-score is ill-defined and being set to 0.0 due to no true nor predicted samples. Use `zero_division` parameter to control this behavior.\n",
      "  _warn_prf(average, \"true nor predicted\", \"F-score is\", len(true_sum))\n",
      "/home/alexander/Documents/TUDelft/done-soon/venv/lib/python3.10/site-packages/sklearn/metrics/_classification.py:1609: UndefinedMetricWarning: F-score is ill-defined and being set to 0.0 due to no true nor predicted samples. Use `zero_division` parameter to control this behavior.\n",
      "  _warn_prf(average, \"true nor predicted\", \"F-score is\", len(true_sum))\n",
      "/home/alexander/Documents/TUDelft/done-soon/venv/lib/python3.10/site-packages/sklearn/metrics/_classification.py:1609: UndefinedMetricWarning: F-score is ill-defined and being set to 0.0 due to no true nor predicted samples. Use `zero_division` parameter to control this behavior.\n",
      "  _warn_prf(average, \"true nor predicted\", \"F-score is\", len(true_sum))\n"
     ]
    },
    {
     "data": {
      "application/vnd.jupyter.widget-view+json": {
       "model_id": "67121aff8e264876a3c397a95b10d920",
       "version_major": 2,
       "version_minor": 0
      },
      "text/plain": [
       "Repetitions:   0%|          | 0/10 [00:00<?, ?it/s]"
      ]
     },
     "metadata": {},
     "output_type": "display_data"
    },
    {
     "name": "stderr",
     "output_type": "stream",
     "text": [
      "/home/alexander/Documents/TUDelft/done-soon/venv/lib/python3.10/site-packages/sklearn/metrics/_classification.py:1609: UndefinedMetricWarning: F-score is ill-defined and being set to 0.0 due to no true nor predicted samples. Use `zero_division` parameter to control this behavior.\n",
      "  _warn_prf(average, \"true nor predicted\", \"F-score is\", len(true_sum))\n",
      "/home/alexander/Documents/TUDelft/done-soon/venv/lib/python3.10/site-packages/sklearn/metrics/_classification.py:1609: UndefinedMetricWarning: F-score is ill-defined and being set to 0.0 due to no true nor predicted samples. Use `zero_division` parameter to control this behavior.\n",
      "  _warn_prf(average, \"true nor predicted\", \"F-score is\", len(true_sum))\n",
      "/home/alexander/Documents/TUDelft/done-soon/venv/lib/python3.10/site-packages/sklearn/metrics/_classification.py:1609: UndefinedMetricWarning: F-score is ill-defined and being set to 0.0 due to no true nor predicted samples. Use `zero_division` parameter to control this behavior.\n",
      "  _warn_prf(average, \"true nor predicted\", \"F-score is\", len(true_sum))\n",
      "/home/alexander/Documents/TUDelft/done-soon/venv/lib/python3.10/site-packages/sklearn/metrics/_classification.py:1609: UndefinedMetricWarning: F-score is ill-defined and being set to 0.0 due to no true nor predicted samples. Use `zero_division` parameter to control this behavior.\n",
      "  _warn_prf(average, \"true nor predicted\", \"F-score is\", len(true_sum))\n",
      "/home/alexander/Documents/TUDelft/done-soon/venv/lib/python3.10/site-packages/sklearn/metrics/_classification.py:1609: UndefinedMetricWarning: F-score is ill-defined and being set to 0.0 due to no true nor predicted samples. Use `zero_division` parameter to control this behavior.\n",
      "  _warn_prf(average, \"true nor predicted\", \"F-score is\", len(true_sum))\n",
      "/home/alexander/Documents/TUDelft/done-soon/venv/lib/python3.10/site-packages/sklearn/metrics/_classification.py:1609: UndefinedMetricWarning: F-score is ill-defined and being set to 0.0 due to no true nor predicted samples. Use `zero_division` parameter to control this behavior.\n",
      "  _warn_prf(average, \"true nor predicted\", \"F-score is\", len(true_sum))\n",
      "/home/alexander/Documents/TUDelft/done-soon/venv/lib/python3.10/site-packages/sklearn/metrics/_classification.py:1609: UndefinedMetricWarning: F-score is ill-defined and being set to 0.0 due to no true nor predicted samples. Use `zero_division` parameter to control this behavior.\n",
      "  _warn_prf(average, \"true nor predicted\", \"F-score is\", len(true_sum))\n",
      "/home/alexander/Documents/TUDelft/done-soon/venv/lib/python3.10/site-packages/sklearn/metrics/_classification.py:1609: UndefinedMetricWarning: F-score is ill-defined and being set to 0.0 due to no true nor predicted samples. Use `zero_division` parameter to control this behavior.\n",
      "  _warn_prf(average, \"true nor predicted\", \"F-score is\", len(true_sum))\n",
      "/home/alexander/Documents/TUDelft/done-soon/venv/lib/python3.10/site-packages/sklearn/metrics/_classification.py:1609: UndefinedMetricWarning: F-score is ill-defined and being set to 0.0 due to no true nor predicted samples. Use `zero_division` parameter to control this behavior.\n",
      "  _warn_prf(average, \"true nor predicted\", \"F-score is\", len(true_sum))\n",
      "/home/alexander/Documents/TUDelft/done-soon/venv/lib/python3.10/site-packages/sklearn/metrics/_classification.py:1609: UndefinedMetricWarning: F-score is ill-defined and being set to 0.0 due to no true nor predicted samples. Use `zero_division` parameter to control this behavior.\n",
      "  _warn_prf(average, \"true nor predicted\", \"F-score is\", len(true_sum))\n"
     ]
    },
    {
     "data": {
      "application/vnd.jupyter.widget-view+json": {
       "model_id": "81390396c95041a6b4700ef802dfa941",
       "version_major": 2,
       "version_minor": 0
      },
      "text/plain": [
       "Repetitions:   0%|          | 0/10 [00:00<?, ?it/s]"
      ]
     },
     "metadata": {},
     "output_type": "display_data"
    },
    {
     "name": "stderr",
     "output_type": "stream",
     "text": [
      "/home/alexander/Documents/TUDelft/done-soon/venv/lib/python3.10/site-packages/sklearn/metrics/_classification.py:1609: UndefinedMetricWarning: F-score is ill-defined and being set to 0.0 due to no true nor predicted samples. Use `zero_division` parameter to control this behavior.\n",
      "  _warn_prf(average, \"true nor predicted\", \"F-score is\", len(true_sum))\n",
      "/home/alexander/Documents/TUDelft/done-soon/venv/lib/python3.10/site-packages/sklearn/metrics/_classification.py:1609: UndefinedMetricWarning: F-score is ill-defined and being set to 0.0 due to no true nor predicted samples. Use `zero_division` parameter to control this behavior.\n",
      "  _warn_prf(average, \"true nor predicted\", \"F-score is\", len(true_sum))\n",
      "/home/alexander/Documents/TUDelft/done-soon/venv/lib/python3.10/site-packages/sklearn/metrics/_classification.py:1609: UndefinedMetricWarning: F-score is ill-defined and being set to 0.0 due to no true nor predicted samples. Use `zero_division` parameter to control this behavior.\n",
      "  _warn_prf(average, \"true nor predicted\", \"F-score is\", len(true_sum))\n",
      "/home/alexander/Documents/TUDelft/done-soon/venv/lib/python3.10/site-packages/sklearn/metrics/_classification.py:1609: UndefinedMetricWarning: F-score is ill-defined and being set to 0.0 due to no true nor predicted samples. Use `zero_division` parameter to control this behavior.\n",
      "  _warn_prf(average, \"true nor predicted\", \"F-score is\", len(true_sum))\n",
      "/home/alexander/Documents/TUDelft/done-soon/venv/lib/python3.10/site-packages/sklearn/metrics/_classification.py:1609: UndefinedMetricWarning: F-score is ill-defined and being set to 0.0 due to no true nor predicted samples. Use `zero_division` parameter to control this behavior.\n",
      "  _warn_prf(average, \"true nor predicted\", \"F-score is\", len(true_sum))\n",
      "/home/alexander/Documents/TUDelft/done-soon/venv/lib/python3.10/site-packages/sklearn/metrics/_classification.py:1609: UndefinedMetricWarning: F-score is ill-defined and being set to 0.0 due to no true nor predicted samples. Use `zero_division` parameter to control this behavior.\n",
      "  _warn_prf(average, \"true nor predicted\", \"F-score is\", len(true_sum))\n",
      "/home/alexander/Documents/TUDelft/done-soon/venv/lib/python3.10/site-packages/sklearn/metrics/_classification.py:1609: UndefinedMetricWarning: F-score is ill-defined and being set to 0.0 due to no true nor predicted samples. Use `zero_division` parameter to control this behavior.\n",
      "  _warn_prf(average, \"true nor predicted\", \"F-score is\", len(true_sum))\n",
      "/home/alexander/Documents/TUDelft/done-soon/venv/lib/python3.10/site-packages/sklearn/metrics/_classification.py:1609: UndefinedMetricWarning: F-score is ill-defined and being set to 0.0 due to no true nor predicted samples. Use `zero_division` parameter to control this behavior.\n",
      "  _warn_prf(average, \"true nor predicted\", \"F-score is\", len(true_sum))\n",
      "/home/alexander/Documents/TUDelft/done-soon/venv/lib/python3.10/site-packages/sklearn/metrics/_classification.py:1609: UndefinedMetricWarning: F-score is ill-defined and being set to 0.0 due to no true nor predicted samples. Use `zero_division` parameter to control this behavior.\n",
      "  _warn_prf(average, \"true nor predicted\", \"F-score is\", len(true_sum))\n",
      "/home/alexander/Documents/TUDelft/done-soon/venv/lib/python3.10/site-packages/sklearn/metrics/_classification.py:1609: UndefinedMetricWarning: F-score is ill-defined and being set to 0.0 due to no true nor predicted samples. Use `zero_division` parameter to control this behavior.\n",
      "  _warn_prf(average, \"true nor predicted\", \"F-score is\", len(true_sum))\n"
     ]
    },
    {
     "data": {
      "application/vnd.jupyter.widget-view+json": {
       "model_id": "ed836ca681954906b856b9701595c9b3",
       "version_major": 2,
       "version_minor": 0
      },
      "text/plain": [
       "Repetitions:   0%|          | 0/10 [00:00<?, ?it/s]"
      ]
     },
     "metadata": {},
     "output_type": "display_data"
    },
    {
     "name": "stderr",
     "output_type": "stream",
     "text": [
      "/home/alexander/Documents/TUDelft/done-soon/venv/lib/python3.10/site-packages/sklearn/metrics/_classification.py:1609: UndefinedMetricWarning: F-score is ill-defined and being set to 0.0 due to no true nor predicted samples. Use `zero_division` parameter to control this behavior.\n",
      "  _warn_prf(average, \"true nor predicted\", \"F-score is\", len(true_sum))\n",
      "/home/alexander/Documents/TUDelft/done-soon/venv/lib/python3.10/site-packages/sklearn/metrics/_classification.py:1609: UndefinedMetricWarning: F-score is ill-defined and being set to 0.0 due to no true nor predicted samples. Use `zero_division` parameter to control this behavior.\n",
      "  _warn_prf(average, \"true nor predicted\", \"F-score is\", len(true_sum))\n",
      "/home/alexander/Documents/TUDelft/done-soon/venv/lib/python3.10/site-packages/sklearn/metrics/_classification.py:1609: UndefinedMetricWarning: F-score is ill-defined and being set to 0.0 due to no true nor predicted samples. Use `zero_division` parameter to control this behavior.\n",
      "  _warn_prf(average, \"true nor predicted\", \"F-score is\", len(true_sum))\n",
      "/home/alexander/Documents/TUDelft/done-soon/venv/lib/python3.10/site-packages/sklearn/metrics/_classification.py:1609: UndefinedMetricWarning: F-score is ill-defined and being set to 0.0 due to no true nor predicted samples. Use `zero_division` parameter to control this behavior.\n",
      "  _warn_prf(average, \"true nor predicted\", \"F-score is\", len(true_sum))\n",
      "/home/alexander/Documents/TUDelft/done-soon/venv/lib/python3.10/site-packages/sklearn/metrics/_classification.py:1609: UndefinedMetricWarning: F-score is ill-defined and being set to 0.0 due to no true nor predicted samples. Use `zero_division` parameter to control this behavior.\n",
      "  _warn_prf(average, \"true nor predicted\", \"F-score is\", len(true_sum))\n",
      "/home/alexander/Documents/TUDelft/done-soon/venv/lib/python3.10/site-packages/sklearn/metrics/_classification.py:1609: UndefinedMetricWarning: F-score is ill-defined and being set to 0.0 due to no true nor predicted samples. Use `zero_division` parameter to control this behavior.\n",
      "  _warn_prf(average, \"true nor predicted\", \"F-score is\", len(true_sum))\n",
      "/home/alexander/Documents/TUDelft/done-soon/venv/lib/python3.10/site-packages/sklearn/metrics/_classification.py:1609: UndefinedMetricWarning: F-score is ill-defined and being set to 0.0 due to no true nor predicted samples. Use `zero_division` parameter to control this behavior.\n",
      "  _warn_prf(average, \"true nor predicted\", \"F-score is\", len(true_sum))\n",
      "/home/alexander/Documents/TUDelft/done-soon/venv/lib/python3.10/site-packages/sklearn/metrics/_classification.py:1609: UndefinedMetricWarning: F-score is ill-defined and being set to 0.0 due to no true nor predicted samples. Use `zero_division` parameter to control this behavior.\n",
      "  _warn_prf(average, \"true nor predicted\", \"F-score is\", len(true_sum))\n",
      "/home/alexander/Documents/TUDelft/done-soon/venv/lib/python3.10/site-packages/sklearn/metrics/_classification.py:1609: UndefinedMetricWarning: F-score is ill-defined and being set to 0.0 due to no true nor predicted samples. Use `zero_division` parameter to control this behavior.\n",
      "  _warn_prf(average, \"true nor predicted\", \"F-score is\", len(true_sum))\n",
      "/home/alexander/Documents/TUDelft/done-soon/venv/lib/python3.10/site-packages/sklearn/metrics/_classification.py:1609: UndefinedMetricWarning: F-score is ill-defined and being set to 0.0 due to no true nor predicted samples. Use `zero_division` parameter to control this behavior.\n",
      "  _warn_prf(average, \"true nor predicted\", \"F-score is\", len(true_sum))\n"
     ]
    },
    {
     "data": {
      "application/vnd.jupyter.widget-view+json": {
       "model_id": "9a9d2749b6c8403381c1a1896acd1d4c",
       "version_major": 2,
       "version_minor": 0
      },
      "text/plain": [
       "Repetitions:   0%|          | 0/10 [00:00<?, ?it/s]"
      ]
     },
     "metadata": {},
     "output_type": "display_data"
    },
    {
     "name": "stderr",
     "output_type": "stream",
     "text": [
      "/home/alexander/Documents/TUDelft/done-soon/venv/lib/python3.10/site-packages/sklearn/metrics/_classification.py:1609: UndefinedMetricWarning: F-score is ill-defined and being set to 0.0 due to no true nor predicted samples. Use `zero_division` parameter to control this behavior.\n",
      "  _warn_prf(average, \"true nor predicted\", \"F-score is\", len(true_sum))\n",
      "/home/alexander/Documents/TUDelft/done-soon/venv/lib/python3.10/site-packages/sklearn/metrics/_classification.py:1609: UndefinedMetricWarning: F-score is ill-defined and being set to 0.0 due to no true nor predicted samples. Use `zero_division` parameter to control this behavior.\n",
      "  _warn_prf(average, \"true nor predicted\", \"F-score is\", len(true_sum))\n",
      "/home/alexander/Documents/TUDelft/done-soon/venv/lib/python3.10/site-packages/sklearn/metrics/_classification.py:1609: UndefinedMetricWarning: F-score is ill-defined and being set to 0.0 due to no true nor predicted samples. Use `zero_division` parameter to control this behavior.\n",
      "  _warn_prf(average, \"true nor predicted\", \"F-score is\", len(true_sum))\n",
      "/home/alexander/Documents/TUDelft/done-soon/venv/lib/python3.10/site-packages/sklearn/metrics/_classification.py:1609: UndefinedMetricWarning: F-score is ill-defined and being set to 0.0 due to no true nor predicted samples. Use `zero_division` parameter to control this behavior.\n",
      "  _warn_prf(average, \"true nor predicted\", \"F-score is\", len(true_sum))\n",
      "/home/alexander/Documents/TUDelft/done-soon/venv/lib/python3.10/site-packages/sklearn/metrics/_classification.py:1609: UndefinedMetricWarning: F-score is ill-defined and being set to 0.0 due to no true nor predicted samples. Use `zero_division` parameter to control this behavior.\n",
      "  _warn_prf(average, \"true nor predicted\", \"F-score is\", len(true_sum))\n",
      "/home/alexander/Documents/TUDelft/done-soon/venv/lib/python3.10/site-packages/sklearn/metrics/_classification.py:1609: UndefinedMetricWarning: F-score is ill-defined and being set to 0.0 due to no true nor predicted samples. Use `zero_division` parameter to control this behavior.\n",
      "  _warn_prf(average, \"true nor predicted\", \"F-score is\", len(true_sum))\n",
      "/home/alexander/Documents/TUDelft/done-soon/venv/lib/python3.10/site-packages/sklearn/metrics/_classification.py:1609: UndefinedMetricWarning: F-score is ill-defined and being set to 0.0 due to no true nor predicted samples. Use `zero_division` parameter to control this behavior.\n",
      "  _warn_prf(average, \"true nor predicted\", \"F-score is\", len(true_sum))\n",
      "/home/alexander/Documents/TUDelft/done-soon/venv/lib/python3.10/site-packages/sklearn/metrics/_classification.py:1609: UndefinedMetricWarning: F-score is ill-defined and being set to 0.0 due to no true nor predicted samples. Use `zero_division` parameter to control this behavior.\n",
      "  _warn_prf(average, \"true nor predicted\", \"F-score is\", len(true_sum))\n",
      "/home/alexander/Documents/TUDelft/done-soon/venv/lib/python3.10/site-packages/sklearn/metrics/_classification.py:1609: UndefinedMetricWarning: F-score is ill-defined and being set to 0.0 due to no true nor predicted samples. Use `zero_division` parameter to control this behavior.\n",
      "  _warn_prf(average, \"true nor predicted\", \"F-score is\", len(true_sum))\n",
      "/home/alexander/Documents/TUDelft/done-soon/venv/lib/python3.10/site-packages/sklearn/metrics/_classification.py:1609: UndefinedMetricWarning: F-score is ill-defined and being set to 0.0 due to no true nor predicted samples. Use `zero_division` parameter to control this behavior.\n",
      "  _warn_prf(average, \"true nor predicted\", \"F-score is\", len(true_sum))\n"
     ]
    },
    {
     "data": {
      "application/vnd.jupyter.widget-view+json": {
       "model_id": "a1d7d29da70744d28e2acfb7d2528344",
       "version_major": 2,
       "version_minor": 0
      },
      "text/plain": [
       "Repetitions:   0%|          | 0/10 [00:00<?, ?it/s]"
      ]
     },
     "metadata": {},
     "output_type": "display_data"
    },
    {
     "name": "stderr",
     "output_type": "stream",
     "text": [
      "/home/alexander/Documents/TUDelft/done-soon/venv/lib/python3.10/site-packages/sklearn/metrics/_classification.py:1609: UndefinedMetricWarning: F-score is ill-defined and being set to 0.0 due to no true nor predicted samples. Use `zero_division` parameter to control this behavior.\n",
      "  _warn_prf(average, \"true nor predicted\", \"F-score is\", len(true_sum))\n",
      "/home/alexander/Documents/TUDelft/done-soon/venv/lib/python3.10/site-packages/sklearn/metrics/_classification.py:1609: UndefinedMetricWarning: F-score is ill-defined and being set to 0.0 due to no true nor predicted samples. Use `zero_division` parameter to control this behavior.\n",
      "  _warn_prf(average, \"true nor predicted\", \"F-score is\", len(true_sum))\n",
      "/home/alexander/Documents/TUDelft/done-soon/venv/lib/python3.10/site-packages/sklearn/metrics/_classification.py:1609: UndefinedMetricWarning: F-score is ill-defined and being set to 0.0 due to no true nor predicted samples. Use `zero_division` parameter to control this behavior.\n",
      "  _warn_prf(average, \"true nor predicted\", \"F-score is\", len(true_sum))\n",
      "/home/alexander/Documents/TUDelft/done-soon/venv/lib/python3.10/site-packages/sklearn/metrics/_classification.py:1609: UndefinedMetricWarning: F-score is ill-defined and being set to 0.0 due to no true nor predicted samples. Use `zero_division` parameter to control this behavior.\n",
      "  _warn_prf(average, \"true nor predicted\", \"F-score is\", len(true_sum))\n",
      "/home/alexander/Documents/TUDelft/done-soon/venv/lib/python3.10/site-packages/sklearn/metrics/_classification.py:1609: UndefinedMetricWarning: F-score is ill-defined and being set to 0.0 due to no true nor predicted samples. Use `zero_division` parameter to control this behavior.\n",
      "  _warn_prf(average, \"true nor predicted\", \"F-score is\", len(true_sum))\n",
      "/home/alexander/Documents/TUDelft/done-soon/venv/lib/python3.10/site-packages/sklearn/metrics/_classification.py:1609: UndefinedMetricWarning: F-score is ill-defined and being set to 0.0 due to no true nor predicted samples. Use `zero_division` parameter to control this behavior.\n",
      "  _warn_prf(average, \"true nor predicted\", \"F-score is\", len(true_sum))\n",
      "/home/alexander/Documents/TUDelft/done-soon/venv/lib/python3.10/site-packages/sklearn/metrics/_classification.py:1609: UndefinedMetricWarning: F-score is ill-defined and being set to 0.0 due to no true nor predicted samples. Use `zero_division` parameter to control this behavior.\n",
      "  _warn_prf(average, \"true nor predicted\", \"F-score is\", len(true_sum))\n",
      "/home/alexander/Documents/TUDelft/done-soon/venv/lib/python3.10/site-packages/sklearn/metrics/_classification.py:1609: UndefinedMetricWarning: F-score is ill-defined and being set to 0.0 due to no true nor predicted samples. Use `zero_division` parameter to control this behavior.\n",
      "  _warn_prf(average, \"true nor predicted\", \"F-score is\", len(true_sum))\n",
      "/home/alexander/Documents/TUDelft/done-soon/venv/lib/python3.10/site-packages/sklearn/metrics/_classification.py:1609: UndefinedMetricWarning: F-score is ill-defined and being set to 0.0 due to no true nor predicted samples. Use `zero_division` parameter to control this behavior.\n",
      "  _warn_prf(average, \"true nor predicted\", \"F-score is\", len(true_sum))\n",
      "/home/alexander/Documents/TUDelft/done-soon/venv/lib/python3.10/site-packages/sklearn/metrics/_classification.py:1609: UndefinedMetricWarning: F-score is ill-defined and being set to 0.0 due to no true nor predicted samples. Use `zero_division` parameter to control this behavior.\n",
      "  _warn_prf(average, \"true nor predicted\", \"F-score is\", len(true_sum))\n"
     ]
    },
    {
     "data": {
      "application/vnd.jupyter.widget-view+json": {
       "model_id": "8c0b41b56c44443c844b065b15efedd8",
       "version_major": 2,
       "version_minor": 0
      },
      "text/plain": [
       "Repetitions:   0%|          | 0/10 [00:00<?, ?it/s]"
      ]
     },
     "metadata": {},
     "output_type": "display_data"
    },
    {
     "name": "stderr",
     "output_type": "stream",
     "text": [
      "/home/alexander/Documents/TUDelft/done-soon/venv/lib/python3.10/site-packages/sklearn/metrics/_classification.py:1609: UndefinedMetricWarning: F-score is ill-defined and being set to 0.0 due to no true nor predicted samples. Use `zero_division` parameter to control this behavior.\n",
      "  _warn_prf(average, \"true nor predicted\", \"F-score is\", len(true_sum))\n",
      "/home/alexander/Documents/TUDelft/done-soon/venv/lib/python3.10/site-packages/sklearn/metrics/_classification.py:1609: UndefinedMetricWarning: F-score is ill-defined and being set to 0.0 due to no true nor predicted samples. Use `zero_division` parameter to control this behavior.\n",
      "  _warn_prf(average, \"true nor predicted\", \"F-score is\", len(true_sum))\n",
      "/home/alexander/Documents/TUDelft/done-soon/venv/lib/python3.10/site-packages/sklearn/metrics/_classification.py:1609: UndefinedMetricWarning: F-score is ill-defined and being set to 0.0 due to no true nor predicted samples. Use `zero_division` parameter to control this behavior.\n",
      "  _warn_prf(average, \"true nor predicted\", \"F-score is\", len(true_sum))\n",
      "/home/alexander/Documents/TUDelft/done-soon/venv/lib/python3.10/site-packages/sklearn/metrics/_classification.py:1609: UndefinedMetricWarning: F-score is ill-defined and being set to 0.0 due to no true nor predicted samples. Use `zero_division` parameter to control this behavior.\n",
      "  _warn_prf(average, \"true nor predicted\", \"F-score is\", len(true_sum))\n",
      "/home/alexander/Documents/TUDelft/done-soon/venv/lib/python3.10/site-packages/sklearn/metrics/_classification.py:1609: UndefinedMetricWarning: F-score is ill-defined and being set to 0.0 due to no true nor predicted samples. Use `zero_division` parameter to control this behavior.\n",
      "  _warn_prf(average, \"true nor predicted\", \"F-score is\", len(true_sum))\n",
      "/home/alexander/Documents/TUDelft/done-soon/venv/lib/python3.10/site-packages/sklearn/metrics/_classification.py:1609: UndefinedMetricWarning: F-score is ill-defined and being set to 0.0 due to no true nor predicted samples. Use `zero_division` parameter to control this behavior.\n",
      "  _warn_prf(average, \"true nor predicted\", \"F-score is\", len(true_sum))\n",
      "/home/alexander/Documents/TUDelft/done-soon/venv/lib/python3.10/site-packages/sklearn/metrics/_classification.py:1609: UndefinedMetricWarning: F-score is ill-defined and being set to 0.0 due to no true nor predicted samples. Use `zero_division` parameter to control this behavior.\n",
      "  _warn_prf(average, \"true nor predicted\", \"F-score is\", len(true_sum))\n",
      "/home/alexander/Documents/TUDelft/done-soon/venv/lib/python3.10/site-packages/sklearn/metrics/_classification.py:1609: UndefinedMetricWarning: F-score is ill-defined and being set to 0.0 due to no true nor predicted samples. Use `zero_division` parameter to control this behavior.\n",
      "  _warn_prf(average, \"true nor predicted\", \"F-score is\", len(true_sum))\n",
      "/home/alexander/Documents/TUDelft/done-soon/venv/lib/python3.10/site-packages/sklearn/metrics/_classification.py:1609: UndefinedMetricWarning: F-score is ill-defined and being set to 0.0 due to no true nor predicted samples. Use `zero_division` parameter to control this behavior.\n",
      "  _warn_prf(average, \"true nor predicted\", \"F-score is\", len(true_sum))\n",
      "/home/alexander/Documents/TUDelft/done-soon/venv/lib/python3.10/site-packages/sklearn/metrics/_classification.py:1609: UndefinedMetricWarning: F-score is ill-defined and being set to 0.0 due to no true nor predicted samples. Use `zero_division` parameter to control this behavior.\n",
      "  _warn_prf(average, \"true nor predicted\", \"F-score is\", len(true_sum))\n"
     ]
    },
    {
     "data": {
      "application/vnd.jupyter.widget-view+json": {
       "model_id": "e5946a4e4bba4198b62ef07ff3b3f506",
       "version_major": 2,
       "version_minor": 0
      },
      "text/plain": [
       "Repetitions:   0%|          | 0/10 [00:00<?, ?it/s]"
      ]
     },
     "metadata": {},
     "output_type": "display_data"
    },
    {
     "name": "stderr",
     "output_type": "stream",
     "text": [
      "/home/alexander/Documents/TUDelft/done-soon/venv/lib/python3.10/site-packages/sklearn/metrics/_classification.py:1609: UndefinedMetricWarning: F-score is ill-defined and being set to 0.0 due to no true nor predicted samples. Use `zero_division` parameter to control this behavior.\n",
      "  _warn_prf(average, \"true nor predicted\", \"F-score is\", len(true_sum))\n",
      "/home/alexander/Documents/TUDelft/done-soon/venv/lib/python3.10/site-packages/sklearn/metrics/_classification.py:1609: UndefinedMetricWarning: F-score is ill-defined and being set to 0.0 due to no true nor predicted samples. Use `zero_division` parameter to control this behavior.\n",
      "  _warn_prf(average, \"true nor predicted\", \"F-score is\", len(true_sum))\n",
      "/home/alexander/Documents/TUDelft/done-soon/venv/lib/python3.10/site-packages/sklearn/metrics/_classification.py:1609: UndefinedMetricWarning: F-score is ill-defined and being set to 0.0 due to no true nor predicted samples. Use `zero_division` parameter to control this behavior.\n",
      "  _warn_prf(average, \"true nor predicted\", \"F-score is\", len(true_sum))\n",
      "/home/alexander/Documents/TUDelft/done-soon/venv/lib/python3.10/site-packages/sklearn/metrics/_classification.py:1609: UndefinedMetricWarning: F-score is ill-defined and being set to 0.0 due to no true nor predicted samples. Use `zero_division` parameter to control this behavior.\n",
      "  _warn_prf(average, \"true nor predicted\", \"F-score is\", len(true_sum))\n",
      "/home/alexander/Documents/TUDelft/done-soon/venv/lib/python3.10/site-packages/sklearn/metrics/_classification.py:1609: UndefinedMetricWarning: F-score is ill-defined and being set to 0.0 due to no true nor predicted samples. Use `zero_division` parameter to control this behavior.\n",
      "  _warn_prf(average, \"true nor predicted\", \"F-score is\", len(true_sum))\n",
      "/home/alexander/Documents/TUDelft/done-soon/venv/lib/python3.10/site-packages/sklearn/metrics/_classification.py:1609: UndefinedMetricWarning: F-score is ill-defined and being set to 0.0 due to no true nor predicted samples. Use `zero_division` parameter to control this behavior.\n",
      "  _warn_prf(average, \"true nor predicted\", \"F-score is\", len(true_sum))\n",
      "/home/alexander/Documents/TUDelft/done-soon/venv/lib/python3.10/site-packages/sklearn/metrics/_classification.py:1609: UndefinedMetricWarning: F-score is ill-defined and being set to 0.0 due to no true nor predicted samples. Use `zero_division` parameter to control this behavior.\n",
      "  _warn_prf(average, \"true nor predicted\", \"F-score is\", len(true_sum))\n",
      "/home/alexander/Documents/TUDelft/done-soon/venv/lib/python3.10/site-packages/sklearn/metrics/_classification.py:1609: UndefinedMetricWarning: F-score is ill-defined and being set to 0.0 due to no true nor predicted samples. Use `zero_division` parameter to control this behavior.\n",
      "  _warn_prf(average, \"true nor predicted\", \"F-score is\", len(true_sum))\n",
      "/home/alexander/Documents/TUDelft/done-soon/venv/lib/python3.10/site-packages/sklearn/metrics/_classification.py:1609: UndefinedMetricWarning: F-score is ill-defined and being set to 0.0 due to no true nor predicted samples. Use `zero_division` parameter to control this behavior.\n",
      "  _warn_prf(average, \"true nor predicted\", \"F-score is\", len(true_sum))\n",
      "/home/alexander/Documents/TUDelft/done-soon/venv/lib/python3.10/site-packages/sklearn/metrics/_classification.py:1609: UndefinedMetricWarning: F-score is ill-defined and being set to 0.0 due to no true nor predicted samples. Use `zero_division` parameter to control this behavior.\n",
      "  _warn_prf(average, \"true nor predicted\", \"F-score is\", len(true_sum))\n"
     ]
    },
    {
     "data": {
      "application/vnd.jupyter.widget-view+json": {
       "model_id": "fbf418840c58463b9a985629ca66be7f",
       "version_major": 2,
       "version_minor": 0
      },
      "text/plain": [
       "Repetitions:   0%|          | 0/10 [00:00<?, ?it/s]"
      ]
     },
     "metadata": {},
     "output_type": "display_data"
    },
    {
     "name": "stderr",
     "output_type": "stream",
     "text": [
      "/home/alexander/Documents/TUDelft/done-soon/venv/lib/python3.10/site-packages/sklearn/metrics/_classification.py:1609: UndefinedMetricWarning: F-score is ill-defined and being set to 0.0 due to no true nor predicted samples. Use `zero_division` parameter to control this behavior.\n",
      "  _warn_prf(average, \"true nor predicted\", \"F-score is\", len(true_sum))\n",
      "/home/alexander/Documents/TUDelft/done-soon/venv/lib/python3.10/site-packages/sklearn/metrics/_classification.py:1609: UndefinedMetricWarning: F-score is ill-defined and being set to 0.0 due to no true nor predicted samples. Use `zero_division` parameter to control this behavior.\n",
      "  _warn_prf(average, \"true nor predicted\", \"F-score is\", len(true_sum))\n",
      "/home/alexander/Documents/TUDelft/done-soon/venv/lib/python3.10/site-packages/sklearn/metrics/_classification.py:1609: UndefinedMetricWarning: F-score is ill-defined and being set to 0.0 due to no true nor predicted samples. Use `zero_division` parameter to control this behavior.\n",
      "  _warn_prf(average, \"true nor predicted\", \"F-score is\", len(true_sum))\n",
      "/home/alexander/Documents/TUDelft/done-soon/venv/lib/python3.10/site-packages/sklearn/metrics/_classification.py:1609: UndefinedMetricWarning: F-score is ill-defined and being set to 0.0 due to no true nor predicted samples. Use `zero_division` parameter to control this behavior.\n",
      "  _warn_prf(average, \"true nor predicted\", \"F-score is\", len(true_sum))\n",
      "/home/alexander/Documents/TUDelft/done-soon/venv/lib/python3.10/site-packages/sklearn/metrics/_classification.py:1609: UndefinedMetricWarning: F-score is ill-defined and being set to 0.0 due to no true nor predicted samples. Use `zero_division` parameter to control this behavior.\n",
      "  _warn_prf(average, \"true nor predicted\", \"F-score is\", len(true_sum))\n",
      "/home/alexander/Documents/TUDelft/done-soon/venv/lib/python3.10/site-packages/sklearn/metrics/_classification.py:1609: UndefinedMetricWarning: F-score is ill-defined and being set to 0.0 due to no true nor predicted samples. Use `zero_division` parameter to control this behavior.\n",
      "  _warn_prf(average, \"true nor predicted\", \"F-score is\", len(true_sum))\n",
      "/home/alexander/Documents/TUDelft/done-soon/venv/lib/python3.10/site-packages/sklearn/metrics/_classification.py:1609: UndefinedMetricWarning: F-score is ill-defined and being set to 0.0 due to no true nor predicted samples. Use `zero_division` parameter to control this behavior.\n",
      "  _warn_prf(average, \"true nor predicted\", \"F-score is\", len(true_sum))\n",
      "/home/alexander/Documents/TUDelft/done-soon/venv/lib/python3.10/site-packages/sklearn/metrics/_classification.py:1609: UndefinedMetricWarning: F-score is ill-defined and being set to 0.0 due to no true nor predicted samples. Use `zero_division` parameter to control this behavior.\n",
      "  _warn_prf(average, \"true nor predicted\", \"F-score is\", len(true_sum))\n",
      "/home/alexander/Documents/TUDelft/done-soon/venv/lib/python3.10/site-packages/sklearn/metrics/_classification.py:1609: UndefinedMetricWarning: F-score is ill-defined and being set to 0.0 due to no true nor predicted samples. Use `zero_division` parameter to control this behavior.\n",
      "  _warn_prf(average, \"true nor predicted\", \"F-score is\", len(true_sum))\n",
      "/home/alexander/Documents/TUDelft/done-soon/venv/lib/python3.10/site-packages/sklearn/metrics/_classification.py:1609: UndefinedMetricWarning: F-score is ill-defined and being set to 0.0 due to no true nor predicted samples. Use `zero_division` parameter to control this behavior.\n",
      "  _warn_prf(average, \"true nor predicted\", \"F-score is\", len(true_sum))\n"
     ]
    },
    {
     "data": {
      "application/vnd.jupyter.widget-view+json": {
       "model_id": "6e75500f4ce345b29dc289bd8a47d764",
       "version_major": 2,
       "version_minor": 0
      },
      "text/plain": [
       "Repetitions:   0%|          | 0/10 [00:00<?, ?it/s]"
      ]
     },
     "metadata": {},
     "output_type": "display_data"
    },
    {
     "data": {
      "application/vnd.jupyter.widget-view+json": {
       "model_id": "7ff1b80476c1488daaa535ad6592bf0d",
       "version_major": 2,
       "version_minor": 0
      },
      "text/plain": [
       "Repetitions:   0%|          | 0/10 [00:00<?, ?it/s]"
      ]
     },
     "metadata": {},
     "output_type": "display_data"
    },
    {
     "data": {
      "application/vnd.jupyter.widget-view+json": {
       "model_id": "e5c50735eb6b4b71ad66b7b5db9a7346",
       "version_major": 2,
       "version_minor": 0
      },
      "text/plain": [
       "Repetitions:   0%|          | 0/10 [00:00<?, ?it/s]"
      ]
     },
     "metadata": {},
     "output_type": "display_data"
    },
    {
     "data": {
      "application/vnd.jupyter.widget-view+json": {
       "model_id": "2ac92c0860104bad9d97741c14ede11e",
       "version_major": 2,
       "version_minor": 0
      },
      "text/plain": [
       "Repetitions:   0%|          | 0/10 [00:00<?, ?it/s]"
      ]
     },
     "metadata": {},
     "output_type": "display_data"
    },
    {
     "name": "stderr",
     "output_type": "stream",
     "text": [
      "/home/alexander/Documents/TUDelft/done-soon/venv/lib/python3.10/site-packages/sklearn/metrics/_classification.py:1609: UndefinedMetricWarning: F-score is ill-defined and being set to 0.0 due to no true nor predicted samples. Use `zero_division` parameter to control this behavior.\n",
      "  _warn_prf(average, \"true nor predicted\", \"F-score is\", len(true_sum))\n",
      "/home/alexander/Documents/TUDelft/done-soon/venv/lib/python3.10/site-packages/sklearn/metrics/_classification.py:1609: UndefinedMetricWarning: F-score is ill-defined and being set to 0.0 due to no true nor predicted samples. Use `zero_division` parameter to control this behavior.\n",
      "  _warn_prf(average, \"true nor predicted\", \"F-score is\", len(true_sum))\n",
      "/home/alexander/Documents/TUDelft/done-soon/venv/lib/python3.10/site-packages/sklearn/metrics/_classification.py:1609: UndefinedMetricWarning: F-score is ill-defined and being set to 0.0 due to no true nor predicted samples. Use `zero_division` parameter to control this behavior.\n",
      "  _warn_prf(average, \"true nor predicted\", \"F-score is\", len(true_sum))\n",
      "/home/alexander/Documents/TUDelft/done-soon/venv/lib/python3.10/site-packages/sklearn/metrics/_classification.py:1609: UndefinedMetricWarning: F-score is ill-defined and being set to 0.0 due to no true nor predicted samples. Use `zero_division` parameter to control this behavior.\n",
      "  _warn_prf(average, \"true nor predicted\", \"F-score is\", len(true_sum))\n",
      "/home/alexander/Documents/TUDelft/done-soon/venv/lib/python3.10/site-packages/sklearn/metrics/_classification.py:1609: UndefinedMetricWarning: F-score is ill-defined and being set to 0.0 due to no true nor predicted samples. Use `zero_division` parameter to control this behavior.\n",
      "  _warn_prf(average, \"true nor predicted\", \"F-score is\", len(true_sum))\n",
      "/home/alexander/Documents/TUDelft/done-soon/venv/lib/python3.10/site-packages/sklearn/metrics/_classification.py:1609: UndefinedMetricWarning: F-score is ill-defined and being set to 0.0 due to no true nor predicted samples. Use `zero_division` parameter to control this behavior.\n",
      "  _warn_prf(average, \"true nor predicted\", \"F-score is\", len(true_sum))\n",
      "/home/alexander/Documents/TUDelft/done-soon/venv/lib/python3.10/site-packages/sklearn/metrics/_classification.py:1609: UndefinedMetricWarning: F-score is ill-defined and being set to 0.0 due to no true nor predicted samples. Use `zero_division` parameter to control this behavior.\n",
      "  _warn_prf(average, \"true nor predicted\", \"F-score is\", len(true_sum))\n",
      "/home/alexander/Documents/TUDelft/done-soon/venv/lib/python3.10/site-packages/sklearn/metrics/_classification.py:1609: UndefinedMetricWarning: F-score is ill-defined and being set to 0.0 due to no true nor predicted samples. Use `zero_division` parameter to control this behavior.\n",
      "  _warn_prf(average, \"true nor predicted\", \"F-score is\", len(true_sum))\n",
      "/home/alexander/Documents/TUDelft/done-soon/venv/lib/python3.10/site-packages/sklearn/metrics/_classification.py:1609: UndefinedMetricWarning: F-score is ill-defined and being set to 0.0 due to no true nor predicted samples. Use `zero_division` parameter to control this behavior.\n",
      "  _warn_prf(average, \"true nor predicted\", \"F-score is\", len(true_sum))\n",
      "/home/alexander/Documents/TUDelft/done-soon/venv/lib/python3.10/site-packages/sklearn/metrics/_classification.py:1609: UndefinedMetricWarning: F-score is ill-defined and being set to 0.0 due to no true nor predicted samples. Use `zero_division` parameter to control this behavior.\n",
      "  _warn_prf(average, \"true nor predicted\", \"F-score is\", len(true_sum))\n"
     ]
    },
    {
     "data": {
      "application/vnd.jupyter.widget-view+json": {
       "model_id": "b627be45b11e47c9935d28c6c9f5135f",
       "version_major": 2,
       "version_minor": 0
      },
      "text/plain": [
       "Repetitions:   0%|          | 0/10 [00:00<?, ?it/s]"
      ]
     },
     "metadata": {},
     "output_type": "display_data"
    }
   ],
   "source": [
    "f1_scores_mean, f1_scores_std = get_f1_over_time_for_model(features_at_percent)"
   ]
  },
  {
   "cell_type": "code",
   "execution_count": 160,
   "metadata": {},
   "outputs": [
    {
     "data": {
      "image/png": "[encoded data removed]",
      "text/plain": [
       "<Figure size 1000x600 with 1 Axes>"
      ]
     },
     "metadata": {},
     "output_type": "display_data"
    }
   ],
   "source": [
    "\n",
    "\n",
    "plt.ylim((0, 1))\n",
    "y = np.array(f1_scores_mean)\n",
    "err = np.array(f1_scores_std)\n",
    "\n",
    "plt.rcParams[\"figure.figsize\"] = (10,6)\n",
    "plt.plot(np.arange(0, 99.5, 0.5), y)\n",
    "plt.title(\"F1 score at varying percentages of TL\")\n",
    "plt.fill_between(np.arange(0, 99.5, 0.5), y - err, y + err, alpha=0.4)\n",
    "plt.tight_layout()\n",
    "plt.savefig(\"f1_over_time.svg\")\n",
    "\n"
   ]
  }
 ],
 "metadata": {
  "kernelspec": {
   "display_name": "done-soon",
   "language": "python",
   "name": "done-soon"
  },
  "language_info": {
   "codemirror_mode": {
    "name": "ipython",
    "version": 3
   },
   "file_extension": ".py",
   "mimetype": "text/x-python",
   "name": "python",
   "nbconvert_exporter": "python",
   "pygments_lexer": "ipython3",
   "version": "3.10.10"
  }
 },
 "nbformat": 4,
 "nbformat_minor": 2
}
