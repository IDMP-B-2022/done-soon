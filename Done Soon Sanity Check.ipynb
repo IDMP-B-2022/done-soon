{
 "cells": [
  {
   "cell_type": "code",
   "execution_count": null,
   "id": "bfd48fca",
   "metadata": {},
   "outputs": [],
   "source": [
    "import numpy as np\n",
    "import pandas as pd\n",
    "import plotly.express as px\n",
    "import json\n",
    "from glob import glob\n",
    "from pathlib import Path\n",
    "from tqdm import tqdm"
   ]
  },
  {
   "cell_type": "code",
   "execution_count": null,
   "id": "21721e5a",
   "metadata": {},
   "outputs": [],
   "source": [
    "base = \"data/done-soon/temp/problem_output/\"\n",
    "all_normal_files = glob(\"data/done-soon/temp/problem_output/*NORMAL.json\")\n",
    "df = pd.DataFrame()\n",
    "data = []\n",
    "\n",
    "num_without_search_time = 0\n",
    "for i, normal in tqdm(enumerate(all_normal_files)):\n",
    "    stats = Path(f\"{normal[:-12]}-STATS.json\")\n",
    "    if stats.exists():\n",
    "        with open(normal, 'r') as normal_output, open(f\"{normal[:-12]}-STATS.json\", 'r') as stats_output:\n",
    "            line = normal_output.readline()\n",
    "            if line: # don't read json from empty output\n",
    "                normal_time = json.loads(line).get('time')\n",
    "                \n",
    "                stats = json.loads(stats_output.readlines()[-1]).get('statistics')\n",
    "\n",
    "                if normal_time and stats:\n",
    "                    # if normal_time * 0.001 > 10:\n",
    "                    if \"search_time\" not in stats.keys():\n",
    "                        num_without_search_time += 1\n",
    "                    else:\n",
    "                        data.append({\n",
    "                            'normal_time': normal_time * 0.001,\n",
    "                            'stat_time': stats['search_time'],\n",
    "                            'problem': normal\n",
    "                        })\n",
    "                        \n",
    "df = pd.DataFrame(data)\n",
    "df.shape"
   ]
  },
  {
   "cell_type": "code",
   "execution_count": null,
   "id": "0211c876",
   "metadata": {},
   "outputs": [],
   "source": [
    "log_axes = False\n",
    "log_fig = False\n",
    "scatter = px.scatter(\n",
    "    df,\n",
    "    x='normal_time',\n",
    "    y='stat_time',\n",
    "    labels={'x': 'Normal chuffed runtime', 'y': 'Modded chuffed runtime'},\n",
    "    title=\"Runtime of Normal Chuffed vs. Modded Chuffed\",\n",
    "    log_x=log_axes,\n",
    "    log_y=log_axes,\n",
    "    # trendline='ols',\n",
    "    # trendline_options=dict(log_x=fit_log, log_y=fit_log),\n",
    ")\n",
    "scatter.layout.update(showlegend=False)\n",
    "scatter"
   ]
  },
  {
   "cell_type": "code",
   "execution_count": null,
   "id": "84356cee",
   "metadata": {},
   "outputs": [],
   "source": [
    "df[df['normal_time'] > 3600].shape"
   ]
  },
  {
   "cell_type": "code",
   "execution_count": null,
   "id": "8f8bde2e",
   "metadata": {},
   "outputs": [],
   "source": [
    "base = \"data/done-soon/temp/problem_output/\"\n",
    "all_normal_files = glob(\"data/done-soon/temp/problem_output/*-black-hole*-18-*NORMAL.json\")\n",
    "xs = []\n",
    "ys = []\n",
    "stat_times = []\n",
    "\n",
    "for i, normal in enumerate(all_normal_files):\n",
    "    stats = Path(f\"{normal[:-12]}-STATS.json\")\n",
    "    if stats.exists():\n",
    "        with open(normal, 'r') as normal_output, open(f\"{normal[:-12]}-STATS.json\", 'r') as stats_output:\n",
    "            normal_time = json.loads(normal_output.readline()).get('time')\n",
    "            stats_lines = stats_output.readlines()\n",
    "            stats = json.loads(stats_lines[-1]).get('statistics')\n",
    "            \n",
    "            if normal_time and stats:\n",
    "                if normal_time * 0.001 > 10:\n",
    "                    xs.append(normal_time * 0.001)\n",
    "                    ys.append(stats['search_time'])\n",
    "                for line in stats_lines:\n",
    "                    stats = json.loads(line).get('statistics')\n",
    "                    if stats:\n",
    "                        stat_times.append(stats['search_time'])\n",
    "\n",
    "                    \n"
   ]
  },
  {
   "cell_type": "code",
   "execution_count": null,
   "id": "76e03b7b",
   "metadata": {
    "scrolled": true
   },
   "outputs": [],
   "source": [
    "px.scatter(y=stat_times, labels={\"x\": \"data point\", \"y\": \"search_time value\"})"
   ]
  },
  {
   "cell_type": "code",
   "execution_count": null,
   "id": "2645108d",
   "metadata": {},
   "outputs": [],
   "source": [
    "import plotly.graph_objects as go"
   ]
  },
  {
   "cell_type": "code",
   "execution_count": null,
   "id": "ba135577",
   "metadata": {},
   "outputs": [],
   "source": [
    "base = \"data/done-soon/benchmarks/solve/\"\n",
    "all_normal_files = glob(f\"{base}/*NORMAL.tsv\")\n",
    "data = []\n",
    "\n",
    "\n",
    "for i, normal in enumerate(all_normal_files):\n",
    "    stats = Path(f\"{normal[:-11]}-STATS.tsv\")\n",
    "    if stats.exists():\n",
    "        with open(normal, 'r') as normal_output, open(stats, 'r') as stats_output:\n",
    "            normal_time = float(normal_output.readlines()[-1].split('\\t')[0])\n",
    "            stat_time = float(stats_output.readlines()[-1].split('\\t')[0])\n",
    "\n",
    "            if normal_time and stats:\n",
    "                data.append({\n",
    "                    'normal_time': normal_time,\n",
    "                    'stat_time': stat_time,\n",
    "                    'problem': normal\n",
    "                })\n",
    "df_bench = pd.DataFrame(data)\n",
    "df_bench.shape"
   ]
  },
  {
   "cell_type": "code",
   "execution_count": null,
   "id": "88f12c31",
   "metadata": {},
   "outputs": [],
   "source": [
    "df_bench_filtered = df_bench  # [df_bench['stat_time'] < 7100]"
   ]
  },
  {
   "cell_type": "code",
   "execution_count": null,
   "id": "b802d70d",
   "metadata": {},
   "outputs": [],
   "source": [
    "show_log = True\n",
    "fit_log = False\n",
    "fig = px.scatter(\n",
    "    df_bench_filtered,\n",
    "    x='normal_time',\n",
    "    y='stat_time',\n",
    "    # trendline='ols',\n",
    "    log_x=show_log,\n",
    "    log_y=show_log,\n",
    "    trendline_options=dict(log_x=fit_log, log_y=fit_log),\n",
    "    width=1000,\n",
    "    height=1000\n",
    ")\n",
    "results = px.get_trendline_results(fig)\n",
    "# fig.add_trace(px.line(x=[0, 7200], y=[0, 7200]).data[0])\n",
    "# fig['data'][2]['line']['color']='rgb(255, 0, 0)'\n",
    "# fig.update_yaxes(\n",
    "#     range=[-300,7500]\n",
    "# )\n",
    "# fig.update_xaxes(\n",
    "#     range=[-300,7500]\n",
    "# )\n",
    "fig"
   ]
  },
  {
   "cell_type": "code",
   "execution_count": null,
   "id": "ce089f41",
   "metadata": {},
   "outputs": [],
   "source": [
    "results.px_fit_results.iloc[0].summary()"
   ]
  }
 ],
 "metadata": {
  "@webio": {
   "lastCommId": null,
   "lastKernelId": null
  },
  "kernelspec": {
   "display_name": "done-soon",
   "language": "python",
   "name": "python3"
  },
  "language_info": {
   "codemirror_mode": {
    "name": "ipython",
    "version": 3
   },
   "file_extension": ".py",
   "mimetype": "text/x-python",
   "name": "python",
   "nbconvert_exporter": "python",
   "pygments_lexer": "ipython3",
   "version": "3.11.3"
  }
 },
 "nbformat": 4,
 "nbformat_minor": 5
}
