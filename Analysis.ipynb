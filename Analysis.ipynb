{
 "cells": [
  {
   "cell_type": "markdown",
   "metadata": {},
   "source": [
    "# Done Soon? Data Analysis"
   ]
  },
  {
   "cell_type": "markdown",
   "metadata": {
    "id": "QA2OwOc1X3Fw"
   },
   "source": [
    "## Import Libraries"
   ]
  },
  {
   "cell_type": "code",
   "execution_count": 1,
   "metadata": {
    "id": "QtKgh08BzA8s"
   },
   "outputs": [],
   "source": [
    "import random\n",
    "import sqlite3\n",
    "import numpy as np\n",
    "import pandas as pd\n",
    "import seaborn as sns\n",
    "import matplotlib.pyplot as plt\n",
    "from sklearn.model_selection import train_test_split\n",
    "from sklearn.metrics import accuracy_score, precision_score, recall_score, roc_auc_score, RocCurveDisplay\n",
    "from sklearn.preprocessing import MaxAbsScaler\n",
    "from sklearn.inspection import permutation_importance\n",
    "from sklearn.metrics import f1_score\n",
    "import pymongo\n",
    "import plotly.express as px\n",
    "import math\n",
    "from enum import Enum"
   ]
  },
  {
   "cell_type": "markdown",
   "metadata": {},
   "source": [
    "## Notebook Configuration"
   ]
  },
  {
   "cell_type": "code",
   "execution_count": 2,
   "metadata": {},
   "outputs": [],
   "source": [
    "class InstanceType(Enum):\n",
    "    ALL = 1\n",
    "    OPTIMIZATION = 2\n",
    "    SAT = 3\n",
    "\n",
    "data_types_to_consider = InstanceType.OPTIMIZATION"
   ]
  },
  {
   "cell_type": "markdown",
   "metadata": {},
   "source": [
    "## Get Data - Mongodb"
   ]
  },
  {
   "cell_type": "code",
   "execution_count": 3,
   "metadata": {},
   "outputs": [
    {
     "name": "stdout",
     "output_type": "stream",
     "text": [
      "Unsolved: 788\n",
      "Class distribution: 0.3842028278888347\n"
     ]
    },
    {
     "data": {
      "text/plain": [
       "17     56\n",
       "27     54\n",
       "19     54\n",
       "24     54\n",
       "25     49\n",
       "       ..\n",
       "193     1\n",
       "2       1\n",
       "129     1\n",
       "169     1\n",
       "161     1\n",
       "Name: statistics, Length: 128, dtype: int64"
      ]
     },
     "execution_count": 3,
     "metadata": {},
     "output_type": "execute_result"
    }
   ],
   "source": [
    "conn_str = f\"mongodb://localhost\"\n",
    "mongo_client = pymongo.MongoClient(conn_str, port=27017)\n",
    "\n",
    "#all data\n",
    "all_data = pd.DataFrame(mongo_client.test.problems.find({}))\n",
    "all_data = all_data[all_data['error'] !=True ]\n",
    "all_data = all_data[all_data['problem_type'] == data_types_to_consider ]\n",
    "\n",
    "#manual filtering (2hour)\n",
    "timeout_after_hour = all_data[all_data.time_to_solution > 7199 * 1000] #>2hours\n",
    "finishes_after_lower_bound = all_data[all_data.time_to_solution > 72 * 1000] #>72seconds\n",
    "\n",
    "#print result filtering / Sanity check\n",
    "print(f\"Unsolved: {len(timeout_after_hour)}\")\n",
    "print(f\"Class distribution: {len(timeout_after_hour)/(len(timeout_after_hour)+len(finishes_after_lower_bound))}\")\n",
    "\n",
    "#number of values of len of stats\n",
    "finishes_after_lower_bound.statistics.map(len).value_counts()"
   ]
  },
  {
   "cell_type": "code",
   "execution_count": 4,
   "metadata": {},
   "outputs": [
    {
     "data": {
      "text/plain": [
       "<AxesSubplot: >"
      ]
     },
     "execution_count": 4,
     "metadata": {},
     "output_type": "execute_result"
    },
    {
     "data": {
      "image/png": "[encoded data removed]",
      "text/plain": [
       "<Figure size 640x480 with 1 Axes>"
      ]
     },
     "metadata": {},
     "output_type": "display_data"
    }
   ],
   "source": [
    "# some dataframe df\n",
    "all_data['time_to_solution'].sort_values().plot(use_index=False)"
   ]
  },
  {
   "cell_type": "code",
   "execution_count": 5,
   "metadata": {},
   "outputs": [
    {
     "data": {
      "text/plain": [
       "<AxesSubplot: >"
      ]
     },
     "execution_count": 5,
     "metadata": {},
     "output_type": "execute_result"
    },
    {
     "data": {
      "image/png": "[encoded data removed]",
      "text/plain": [
       "<Figure size 640x480 with 1 Axes>"
      ]
     },
     "metadata": {},
     "output_type": "display_data"
    }
   ],
   "source": [
    "sub_data=all_data[all_data['time_to_solution']>7200]\n",
    "sub_data['time_to_solution'].sort_values().plot(use_index=False)\n",
    "#plt.plot(all_data[all_data['time_to_solution']>6000])"
   ]
  },
  {
   "cell_type": "code",
   "execution_count": 6,
   "metadata": {},
   "outputs": [],
   "source": [
    "#test\n",
    "#finishes_after_lower_bound.statistics[1]"
   ]
  },
  {
   "cell_type": "code",
   "execution_count": 7,
   "metadata": {},
   "outputs": [],
   "source": [
    "def cleanup(df):\n",
    "    del df[\"decision_level_sat\"]\n",
    "    del df[\"ewma_decision_level_mip\"]\n",
    "    del df[\"decision_level_mip\"]\n",
    "#     del df[\"best_objective\"]\n",
    "#     df[\"unassnVar\"]   = (2**df['vars']) - df['opennodes']\n",
    "#     df[\"fracFailUnassn\"]     = df['conflicts'] / df['unassnVar']         # num failures/ num open nodes\n",
    "    df[\"fracOpenVisit\"]  = (df['vars'] - df['opennodes']) / df['opennodes']       # ratio of open nodes to visited nodes (how much of soln space explored)\n",
    "    df[\"fracBoolVars\"]     = df['boolVars'] / df['vars']                 # num bools / total num of vars\n",
    "    df[\"fracPropVars\"]     = df['propagations'] / df['vars']        # num propagations/ total num of vars\n",
    "#     df[\"frac_unassigned\"] = df['unassnVar'] / df['vars']  # current assignments/ total vars\n",
    "    df[\"fracLongClauses\"] = df['long'] + df['bin'] + df['tern']         # fraction of learnt clauses that have more than 3 literals\n",
    "    df[\"freqBackjumps\"]  = df['back_jumps']/df['search_time']\n",
    "    return df"
   ]
  },
  {
   "cell_type": "code",
   "execution_count": 8,
   "metadata": {},
   "outputs": [],
   "source": [
    "def gradients(df_prev, df_curr):\n",
    "    keys=['conflicts','ewma_conflicts','decisions','search_iterations','opennodes','ewma_opennodes',\n",
    "          'vars','back_jumps','ewma_back_jumps','solutions','total_time','search_time','intVars',\n",
    "          'propagations','sat_propagations','ewma_propagations','propagators','boolVars','learnt',\n",
    "          'bin','tern','long','peak_depth','decision_level_engine','ewma_decision_level_engine',\n",
    "          'decision_level_treesize','clause_mem','prop_mem','ewma_best_objective',\n",
    "          'fracOpenVisit','fracBoolVars','fracPropVars','freqBackjumps', 'best_objective']\n",
    "    for i in keys:\n",
    "        df_curr[i+'_gradient']=(df_curr[i]-df_prev[i])/0.05*7200\n",
    "    return df_curr"
   ]
  },
  {
   "cell_type": "code",
   "execution_count": 9,
   "metadata": {},
   "outputs": [],
   "source": [
    "features_at_percent = {}\n",
    "\n",
    "for i in range (1,100):\n",
    "    df_i=[]\n",
    "    for id, problem in all_data.iterrows(): \n",
    "        for index, p in enumerate(problem.statistics):\n",
    "            if index == i:\n",
    "                new_p = dict(p['features'])\n",
    "                new_p=cleanup(new_p)\n",
    "                if i!=1:\n",
    "                    new_p=gradients(df_prev.loc[id], new_p)\n",
    "                new_p['mzn'] = problem['mzn']\n",
    "                new_p['dzn'] = problem['dzn']\n",
    "                new_p['solved_within_time_limit'] = problem['time_to_solution'] < 7199 * 1000 \\\n",
    "                or np.logical_not(np.isnan(problem['time_to_solution']))\n",
    "                df_i.append((id, new_p))\n",
    "    df_i = pd.DataFrame([a[1] for a in df_i], index=[a[0] for a in df_i])\n",
    "    df_i=df_i.fillna(value = 0)\n",
    "    if i!=0:   \n",
    "        features_at_percent[i]=df_i\n",
    "    df_prev=df_i"
   ]
  },
  {
   "cell_type": "code",
   "execution_count": null,
   "metadata": {},
   "outputs": [],
   "source": [
    "nans=features_at_percent[20].isna().sum().to_numpy().nonzero()"
   ]
  },
  {
   "cell_type": "code",
   "execution_count": null,
   "metadata": {},
   "outputs": [
    {
     "data": {
      "text/plain": [
       "Index([], dtype='object')"
      ]
     },
     "execution_count": 64,
     "metadata": {},
     "output_type": "execute_result"
    }
   ],
   "source": [
    "features_at_percent[20].keys()[nans]"
   ]
  },
  {
   "cell_type": "code",
   "execution_count": null,
   "metadata": {},
   "outputs": [
    {
     "name": "stdout",
     "output_type": "stream",
     "text": [
      "1527\n"
     ]
    }
   ],
   "source": [
    "features_at_percent[20]\n",
    "print(len(features_at_percent[20]))"
   ]
  },
  {
   "cell_type": "code",
   "execution_count": null,
   "metadata": {},
   "outputs": [
    {
     "data": {
      "text/plain": [
       "[<matplotlib.lines.Line2D at 0x7f7af186b040>]"
      ]
     },
     "execution_count": 66,
     "metadata": {},
     "output_type": "execute_result"
    },
    {
     "data": {
      "image/png": "[encoded data removed]",
      "text/plain": [
       "<Figure size 2000x300 with 1 Axes>"
      ]
     },
     "metadata": {},
     "output_type": "display_data"
    }
   ],
   "source": [
    "plt.plot(features_at_percent[10]['ewma_best_objective'])"
   ]
  },
  {
   "cell_type": "markdown",
   "metadata": {
    "id": "CMoP4AQWalT7"
   },
   "source": [
    "# Data Analysis\n",
    "## Train Test Split"
   ]
  },
  {
   "cell_type": "code",
   "execution_count": null,
   "metadata": {},
   "outputs": [],
   "source": [
    "def preprocessing(df):\n",
    "    df1=df.drop(['mzn','dzn'], axis=1)\n",
    "    df1.drop(df1.columns[df1.nunique() == 1], axis=1, inplace=True) #drop cols with constant value\n",
    "    #rescale data\n",
    "    transformer = MaxAbsScaler().fit(df1)\n",
    "    df1 = pd.DataFrame(transformer.transform(df1), columns=df1.columns, index=df1.index) #normalise data\n",
    "    return df1"
   ]
  },
  {
   "cell_type": "code",
   "execution_count": null,
   "metadata": {
    "id": "9hPn8jzm0U8c"
   },
   "outputs": [],
   "source": [
    "df=features_at_percent[20] #THE NUMBER HERE IS THE % OF TL\n",
    "df=preprocessing(df)\n",
    "# training-testing split\n",
    "X_train, X_test, y_train, y_test  = train_test_split(df.drop(columns = [\"solved_within_time_limit\"]),\\\n",
    "                                                     df[\"solved_within_time_limit\"], test_size=0.25, random_state=22)"
   ]
  },
  {
   "cell_type": "code",
   "execution_count": null,
   "metadata": {
    "colab": {
     "base_uri": "https://localhost:8080/"
    },
    "id": "IN-6LHsxsk1w",
    "outputId": "0a5afd18-e7fc-442c-eaa6-5fba63e0cd15"
   },
   "outputs": [
    {
     "data": {
      "text/plain": [
       "0.0    193\n",
       "1.0    189\n",
       "Name: solved_within_time_limit, dtype: int64"
      ]
     },
     "execution_count": 69,
     "metadata": {},
     "output_type": "execute_result"
    }
   ],
   "source": [
    "y_test.value_counts()"
   ]
  },
  {
   "cell_type": "code",
   "execution_count": null,
   "metadata": {
    "colab": {
     "base_uri": "https://localhost:8080/"
    },
    "id": "6JaEQjH9sk1x",
    "outputId": "01f7b2d6-a07e-46fe-e868-ed9b02b23e4e"
   },
   "outputs": [
    {
     "data": {
      "text/plain": [
       "1.0    579\n",
       "0.0    566\n",
       "Name: solved_within_time_limit, dtype: int64"
      ]
     },
     "execution_count": 70,
     "metadata": {},
     "output_type": "execute_result"
    }
   ],
   "source": [
    "y_train.value_counts()"
   ]
  },
  {
   "cell_type": "markdown",
   "metadata": {
    "id": "JUDr-kP-Yf_s"
   },
   "source": [
    "## Models"
   ]
  },
  {
   "cell_type": "code",
   "execution_count": null,
   "metadata": {
    "id": "VcuEaofpzqWg"
   },
   "outputs": [],
   "source": [
    "models = {}\n",
    "\n",
    "# Logistic Regression\n",
    "from sklearn.linear_model import LogisticRegression\n",
    "models['LR'] = LogisticRegression(max_iter=1000, C=1000 , class_weight = 'balanced',random_state=22)\n",
    "\n",
    "#Support Vector Machine\n",
    "from sklearn.svm import SVC\n",
    "models['SVM'] = SVC(kernel = 'rbf', class_weight = 'balanced', probability = True, random_state=22)\n",
    "\n",
    "# Random Forest\n",
    "from sklearn.ensemble import RandomForestClassifier\n",
    "models['RF'] = RandomForestClassifier(min_samples_leaf = 5, class_weight = 'balanced_subsample',random_state=22)\n",
    "\n",
    "#Extra Tree\n",
    "from sklearn.ensemble import ExtraTreesClassifier\n",
    "models['ET'] = ExtraTreesClassifier(class_weight = 'balanced', random_state=22)\n",
    "\n",
    "#Multi-layered perceptron\n",
    "from sklearn.neural_network import MLPClassifier\n",
    "models['MLP'] = MLPClassifier(random_state=22)\n",
    "\n",
    "# Naive Bayes\n",
    "#from sklearn.naive_bayes import GaussianNB\n",
    "#models['NB'] = GaussianNB()\n",
    "\n",
    "# Adaboost\n",
    "#from sklearn.ensemble import AdaBoostClassifier\n",
    "#models['AB'] = AdaBoostClassifier()\n",
    "\n",
    "#KNN\n",
    "#from sklearn.neighbors import KNeighborsClassifier\n",
    "#models['KNN'] = KNeighborsClassifier(weights = 'distance')\n",
    "\n",
    "# Decision Trees\n",
    "from sklearn.tree import DecisionTreeClassifier\n",
    "models['DT'] = DecisionTreeClassifier(max_depth = 5, class_weight = 'balanced', random_state=22)\n",
    "\n",
    "#Dummy classifier\n",
    "from sklearn.dummy import DummyClassifier\n",
    "models['DUM'] = DummyClassifier(strategy=\"most_frequent\")"
   ]
  },
  {
   "cell_type": "markdown",
   "metadata": {},
   "source": [
    "## Predicitions and Evaluation"
   ]
  },
  {
   "cell_type": "code",
   "execution_count": null,
   "metadata": {
    "scrolled": false
   },
   "outputs": [
    {
     "name": "stdout",
     "output_type": "stream",
     "text": [
      "f1 score is 0.91005291005291\n"
     ]
    },
    {
     "data": {
      "image/png": "[encoded data removed]",
      "text/plain": [
       "<Figure size 2000x300 with 1 Axes>"
      ]
     },
     "metadata": {},
     "output_type": "display_data"
    }
   ],
   "source": [
    "rf_reg = RandomForestClassifier(min_samples_leaf = 5)\n",
    "rf_reg.fit(X_train,y_train)\n",
    "predictions=rf_reg.predict(X_test)\n",
    "print('f1 score is', f1_score(y_test,predictions))\n",
    "\n",
    "\n",
    "importances = rf_reg.feature_importances_\n",
    "\n",
    "# Sort the feature importance in descending order\n",
    "sorted_indices = np.argsort(importances)[::-1][:8]\n",
    "\n",
    "plt.title('Feature Importance of Random Forest Regressor')\n",
    "plt.bar(range(8), importances[sorted_indices], align='center')\n",
    "plt.xticks(range(8), X_train.columns[sorted_indices], rotation=90)\n",
    "plt.rcParams[\"figure.figsize\"] = (20,3)\n",
    "plt.show()"
   ]
  },
  {
   "cell_type": "code",
   "execution_count": null,
   "metadata": {},
   "outputs": [],
   "source": []
  },
  {
   "cell_type": "code",
   "execution_count": null,
   "metadata": {},
   "outputs": [],
   "source": []
  },
  {
   "cell_type": "code",
   "execution_count": null,
   "metadata": {},
   "outputs": [],
   "source": [
    "def results_plt(X_train, y_train, X_test, y_test, perc_TL):\n",
    "    train_accuracy, accuracy, precision, recall, auc, f1 = {}, {}, {}, {}, {}, {}\n",
    "    figs, axs = plt.subplots(2,3,figsize=(20, 12))\n",
    "\n",
    "    for i, key in enumerate(models.keys()):\n",
    "\n",
    "        # Fit the classifier model\n",
    "        models[key].fit(X_train, y_train)\n",
    "\n",
    "        predictions = models[key].predict(X_test)\n",
    "        predictions_prob = models[key].predict_proba(X_test)[:,1]\n",
    "        train_predictions = models[key].predict(X_train)\n",
    "        # Predic  \n",
    "        # Calculate Accuracy, Precision and Recall Metrics\n",
    "        accuracy[key] = accuracy_score(predictions, y_test)\n",
    "        precision[key] = precision_score(predictions, y_test, zero_division=1)\n",
    "        recall[key] = recall_score(predictions, y_test, zero_division=1)\n",
    "        auc[key] = roc_auc_score(y_test, predictions_prob)\n",
    "        train_accuracy[key] = accuracy_score(train_predictions, y_train)\n",
    "        f1[key] = f1_score(y_test,predictions)\n",
    "        #should it be (true, pred)? yes\n",
    "\n",
    "        #To Display\n",
    "        RocCurveDisplay.from_predictions(y_test, predictions_prob, name=key , ax=axs[0,0])\n",
    "        axs[0,1].bar(key, accuracy[key]) \n",
    "        axs[0,2].bar(key, train_accuracy[key]) \n",
    "        axs[1,0].bar(key, recall[key])\n",
    "        axs[1,1].bar(key, precision[key])\n",
    "        axs[1,2].bar(key, f1[key])\n",
    "\n",
    "        axs[0,0].set_title(\"ROC Curve for \"+perc_TL+\"% TL\")\n",
    "        #axs[0].set_ylabel(\"Accuracy\")\n",
    "\n",
    "        axs[0,1].set_title(\"Test Accuracy for \"+perc_TL+\"% TL\")\n",
    "        axs[0,1].set_xticklabels(models.keys(),rotation=60)\n",
    "        axs[0,1].set_ylabel(\"Accuracy\")\n",
    "        axs[0,1].grid(axis='y', color='gray', linestyle='dashed')\n",
    "\n",
    "        axs[0,2].set_title(\"Train Accuracy for \"+perc_TL+\"% TL\")\n",
    "        axs[0,2].set_xticklabels(models.keys(),rotation=60)\n",
    "        axs[0,2].set_ylabel(\"Accuracy\")\n",
    "        axs[0,2].grid(axis='y', color='gray', linestyle='dashed')\n",
    "\n",
    "        axs[1,0].set_title(\"Recall for \"+perc_TL+\"% TL\")\n",
    "        axs[1,0].set_xticklabels(models.keys(),rotation=60)\n",
    "        axs[1,0].set_ylabel(\"Recall\")\n",
    "        axs[1,0].grid(axis='y', color='gray', linestyle='dashed')\n",
    "\n",
    "\n",
    "        axs[1,1].set_title(\"Precision \"+perc_TL+\"% TL\")\n",
    "        axs[1,1].set_xticklabels(models.keys(),rotation=60)\n",
    "        axs[1,1].set_ylabel(\"F1\")\n",
    "        axs[1,1].grid(axis='y', color='gray', linestyle='dashed')\n",
    "\n",
    "        axs[1,2].set_title(\"F1 \"+perc_TL+\"% TL\")\n",
    "        axs[1,2].set_xticklabels(models.keys(),rotation=60)\n",
    "        axs[1,2].set_ylabel(\"F1\")\n",
    "        axs[1,2].grid(axis='y', color='gray', linestyle='dashed')\n",
    "        figs.show()   \n"
   ]
  },
  {
   "cell_type": "code",
   "execution_count": null,
   "metadata": {
    "scrolled": true
   },
   "outputs": [
    {
     "name": "stderr",
     "output_type": "stream",
     "text": [
      "/home/alexander/Documents/TUDelft/idmp-b/venv/lib/python3.10/site-packages/sklearn/linear_model/_logistic.py:444: ConvergenceWarning: lbfgs failed to converge (status=1):\n",
      "STOP: TOTAL NO. of ITERATIONS REACHED LIMIT.\n",
      "\n",
      "Increase the number of iterations (max_iter) or scale the data as shown in:\n",
      "    https://scikit-learn.org/stable/modules/preprocessing.html\n",
      "Please also refer to the documentation for alternative solver options:\n",
      "    https://scikit-learn.org/stable/modules/linear_model.html#logistic-regression\n",
      "  n_iter_i = _check_optimize_result(\n",
      "/tmp/ipykernel_24151/1482028916.py:35: UserWarning: FixedFormatter should only be used together with FixedLocator\n",
      "  axs[0,1].set_xticklabels(models.keys(),rotation=60)\n",
      "/tmp/ipykernel_24151/1482028916.py:40: UserWarning: FixedFormatter should only be used together with FixedLocator\n",
      "  axs[0,2].set_xticklabels(models.keys(),rotation=60)\n",
      "/tmp/ipykernel_24151/1482028916.py:45: UserWarning: FixedFormatter should only be used together with FixedLocator\n",
      "  axs[1,0].set_xticklabels(models.keys(),rotation=60)\n",
      "/tmp/ipykernel_24151/1482028916.py:51: UserWarning: FixedFormatter should only be used together with FixedLocator\n",
      "  axs[1,1].set_xticklabels(models.keys(),rotation=60)\n",
      "/tmp/ipykernel_24151/1482028916.py:56: UserWarning: FixedFormatter should only be used together with FixedLocator\n",
      "  axs[1,2].set_xticklabels(models.keys(),rotation=60)\n",
      "/tmp/ipykernel_24151/1482028916.py:59: UserWarning: Matplotlib is currently using module://matplotlib_inline.backend_inline, which is a non-GUI backend, so cannot show the figure.\n",
      "  figs.show()\n",
      "/tmp/ipykernel_24151/1482028916.py:35: UserWarning: FixedFormatter should only be used together with FixedLocator\n",
      "  axs[0,1].set_xticklabels(models.keys(),rotation=60)\n",
      "/tmp/ipykernel_24151/1482028916.py:40: UserWarning: FixedFormatter should only be used together with FixedLocator\n",
      "  axs[0,2].set_xticklabels(models.keys(),rotation=60)\n",
      "/tmp/ipykernel_24151/1482028916.py:45: UserWarning: FixedFormatter should only be used together with FixedLocator\n",
      "  axs[1,0].set_xticklabels(models.keys(),rotation=60)\n",
      "/tmp/ipykernel_24151/1482028916.py:51: UserWarning: FixedFormatter should only be used together with FixedLocator\n",
      "  axs[1,1].set_xticklabels(models.keys(),rotation=60)\n",
      "/tmp/ipykernel_24151/1482028916.py:56: UserWarning: FixedFormatter should only be used together with FixedLocator\n",
      "  axs[1,2].set_xticklabels(models.keys(),rotation=60)\n",
      "/tmp/ipykernel_24151/1482028916.py:59: UserWarning: Matplotlib is currently using module://matplotlib_inline.backend_inline, which is a non-GUI backend, so cannot show the figure.\n",
      "  figs.show()\n",
      "/tmp/ipykernel_24151/1482028916.py:35: UserWarning: FixedFormatter should only be used together with FixedLocator\n",
      "  axs[0,1].set_xticklabels(models.keys(),rotation=60)\n",
      "/tmp/ipykernel_24151/1482028916.py:40: UserWarning: FixedFormatter should only be used together with FixedLocator\n",
      "  axs[0,2].set_xticklabels(models.keys(),rotation=60)\n",
      "/tmp/ipykernel_24151/1482028916.py:45: UserWarning: FixedFormatter should only be used together with FixedLocator\n",
      "  axs[1,0].set_xticklabels(models.keys(),rotation=60)\n",
      "/tmp/ipykernel_24151/1482028916.py:51: UserWarning: FixedFormatter should only be used together with FixedLocator\n",
      "  axs[1,1].set_xticklabels(models.keys(),rotation=60)\n",
      "/tmp/ipykernel_24151/1482028916.py:56: UserWarning: FixedFormatter should only be used together with FixedLocator\n",
      "  axs[1,2].set_xticklabels(models.keys(),rotation=60)\n",
      "/tmp/ipykernel_24151/1482028916.py:59: UserWarning: Matplotlib is currently using module://matplotlib_inline.backend_inline, which is a non-GUI backend, so cannot show the figure.\n",
      "  figs.show()\n",
      "/tmp/ipykernel_24151/1482028916.py:35: UserWarning: FixedFormatter should only be used together with FixedLocator\n",
      "  axs[0,1].set_xticklabels(models.keys(),rotation=60)\n",
      "/tmp/ipykernel_24151/1482028916.py:40: UserWarning: FixedFormatter should only be used together with FixedLocator\n",
      "  axs[0,2].set_xticklabels(models.keys(),rotation=60)\n",
      "/tmp/ipykernel_24151/1482028916.py:45: UserWarning: FixedFormatter should only be used together with FixedLocator\n",
      "  axs[1,0].set_xticklabels(models.keys(),rotation=60)\n",
      "/tmp/ipykernel_24151/1482028916.py:51: UserWarning: FixedFormatter should only be used together with FixedLocator\n",
      "  axs[1,1].set_xticklabels(models.keys(),rotation=60)\n",
      "/tmp/ipykernel_24151/1482028916.py:56: UserWarning: FixedFormatter should only be used together with FixedLocator\n",
      "  axs[1,2].set_xticklabels(models.keys(),rotation=60)\n",
      "/tmp/ipykernel_24151/1482028916.py:59: UserWarning: Matplotlib is currently using module://matplotlib_inline.backend_inline, which is a non-GUI backend, so cannot show the figure.\n",
      "  figs.show()\n",
      "/home/alexander/Documents/TUDelft/idmp-b/venv/lib/python3.10/site-packages/sklearn/neural_network/_multilayer_perceptron.py:702: ConvergenceWarning: Stochastic Optimizer: Maximum iterations (200) reached and the optimization hasn't converged yet.\n",
      "  warnings.warn(\n",
      "/tmp/ipykernel_24151/1482028916.py:35: UserWarning: FixedFormatter should only be used together with FixedLocator\n",
      "  axs[0,1].set_xticklabels(models.keys(),rotation=60)\n",
      "/tmp/ipykernel_24151/1482028916.py:40: UserWarning: FixedFormatter should only be used together with FixedLocator\n",
      "  axs[0,2].set_xticklabels(models.keys(),rotation=60)\n",
      "/tmp/ipykernel_24151/1482028916.py:45: UserWarning: FixedFormatter should only be used together with FixedLocator\n",
      "  axs[1,0].set_xticklabels(models.keys(),rotation=60)\n",
      "/tmp/ipykernel_24151/1482028916.py:51: UserWarning: FixedFormatter should only be used together with FixedLocator\n",
      "  axs[1,1].set_xticklabels(models.keys(),rotation=60)\n",
      "/tmp/ipykernel_24151/1482028916.py:56: UserWarning: FixedFormatter should only be used together with FixedLocator\n",
      "  axs[1,2].set_xticklabels(models.keys(),rotation=60)\n",
      "/tmp/ipykernel_24151/1482028916.py:59: UserWarning: Matplotlib is currently using module://matplotlib_inline.backend_inline, which is a non-GUI backend, so cannot show the figure.\n",
      "  figs.show()\n",
      "/tmp/ipykernel_24151/1482028916.py:35: UserWarning: FixedFormatter should only be used together with FixedLocator\n",
      "  axs[0,1].set_xticklabels(models.keys(),rotation=60)\n",
      "/tmp/ipykernel_24151/1482028916.py:40: UserWarning: FixedFormatter should only be used together with FixedLocator\n",
      "  axs[0,2].set_xticklabels(models.keys(),rotation=60)\n",
      "/tmp/ipykernel_24151/1482028916.py:45: UserWarning: FixedFormatter should only be used together with FixedLocator\n",
      "  axs[1,0].set_xticklabels(models.keys(),rotation=60)\n",
      "/tmp/ipykernel_24151/1482028916.py:51: UserWarning: FixedFormatter should only be used together with FixedLocator\n",
      "  axs[1,1].set_xticklabels(models.keys(),rotation=60)\n",
      "/tmp/ipykernel_24151/1482028916.py:56: UserWarning: FixedFormatter should only be used together with FixedLocator\n",
      "  axs[1,2].set_xticklabels(models.keys(),rotation=60)\n",
      "/tmp/ipykernel_24151/1482028916.py:59: UserWarning: Matplotlib is currently using module://matplotlib_inline.backend_inline, which is a non-GUI backend, so cannot show the figure.\n",
      "  figs.show()\n",
      "/tmp/ipykernel_24151/1482028916.py:35: UserWarning: FixedFormatter should only be used together with FixedLocator\n",
      "  axs[0,1].set_xticklabels(models.keys(),rotation=60)\n",
      "/tmp/ipykernel_24151/1482028916.py:40: UserWarning: FixedFormatter should only be used together with FixedLocator\n",
      "  axs[0,2].set_xticklabels(models.keys(),rotation=60)\n",
      "/tmp/ipykernel_24151/1482028916.py:45: UserWarning: FixedFormatter should only be used together with FixedLocator\n",
      "  axs[1,0].set_xticklabels(models.keys(),rotation=60)\n",
      "/tmp/ipykernel_24151/1482028916.py:51: UserWarning: FixedFormatter should only be used together with FixedLocator\n",
      "  axs[1,1].set_xticklabels(models.keys(),rotation=60)\n",
      "/tmp/ipykernel_24151/1482028916.py:56: UserWarning: FixedFormatter should only be used together with FixedLocator\n",
      "  axs[1,2].set_xticklabels(models.keys(),rotation=60)\n",
      "/tmp/ipykernel_24151/1482028916.py:59: UserWarning: Matplotlib is currently using module://matplotlib_inline.backend_inline, which is a non-GUI backend, so cannot show the figure.\n",
      "  figs.show()\n"
     ]
    },
    {
     "data": {
      "image/png": "[encoded data removed]",
      "text/plain": [
       "<Figure size 2000x1200 with 6 Axes>"
      ]
     },
     "metadata": {},
     "output_type": "display_data"
    }
   ],
   "source": [
    "#Bar plot results  for testing and training using top 5 created features\n",
    "\n",
    "results_plt(X_train, y_train, X_test, y_test, \"5\")"
   ]
  },
  {
   "cell_type": "markdown",
   "metadata": {},
   "source": [
    "## Regression"
   ]
  },
  {
   "cell_type": "code",
   "execution_count": null,
   "metadata": {},
   "outputs": [],
   "source": [
    "all_data_reg = all_data[all_data.time_to_solution <  7199* 1000] #<2h"
   ]
  },
  {
   "cell_type": "code",
   "execution_count": null,
   "metadata": {},
   "outputs": [
    {
     "data": {
      "text/html": [
       "<div>\n",
       "<style scoped>\n",
       "    .dataframe tbody tr th:only-of-type {\n",
       "        vertical-align: middle;\n",
       "    }\n",
       "\n",
       "    .dataframe tbody tr th {\n",
       "        vertical-align: top;\n",
       "    }\n",
       "\n",
       "    .dataframe thead th {\n",
       "        text-align: right;\n",
       "    }\n",
       "</style>\n",
       "<table border=\"1\" class=\"dataframe\">\n",
       "  <thead>\n",
       "    <tr style=\"text-align: right;\">\n",
       "      <th></th>\n",
       "      <th>_id</th>\n",
       "      <th>mzn</th>\n",
       "      <th>dzn</th>\n",
       "      <th>generated_features</th>\n",
       "      <th>generated_label</th>\n",
       "      <th>claimed_features_generation</th>\n",
       "      <th>claimed_label_generation</th>\n",
       "      <th>type</th>\n",
       "      <th>time_to_solution</th>\n",
       "      <th>time_limit</th>\n",
       "      <th>solved</th>\n",
       "      <th>statistics</th>\n",
       "      <th>problem_type</th>\n",
       "      <th>error</th>\n",
       "      <th>was_error</th>\n",
       "    </tr>\n",
       "  </thead>\n",
       "  <tbody>\n",
       "    <tr>\n",
       "      <th>0</th>\n",
       "      <td>63481481fdd73d481158ca82</td>\n",
       "      <td>mrcpsp/mrcpsp.mzn</td>\n",
       "      <td>mrcpsp/data/m4_26_1.dzn</td>\n",
       "      <td>True</td>\n",
       "      <td>True</td>\n",
       "      <td>True</td>\n",
       "      <td>True</td>\n",
       "      <td>OPT</td>\n",
       "      <td>91.0</td>\n",
       "      <td>72000000.0</td>\n",
       "      <td>True</td>\n",
       "      <td>[{'percent': 6.666666666666667e-12, 'features'...</td>\n",
       "      <td>OPT</td>\n",
       "      <td>NaN</td>\n",
       "      <td>NaN</td>\n",
       "    </tr>\n",
       "    <tr>\n",
       "      <th>1</th>\n",
       "      <td>63481481fdd73d481158ca83</td>\n",
       "      <td>mrcpsp/mrcpsp.mzn</td>\n",
       "      <td>mrcpsp/data/n1_57_8.dzn</td>\n",
       "      <td>True</td>\n",
       "      <td>True</td>\n",
       "      <td>True</td>\n",
       "      <td>True</td>\n",
       "      <td>OPT</td>\n",
       "      <td>120.0</td>\n",
       "      <td>72000000.0</td>\n",
       "      <td>True</td>\n",
       "      <td>[{'percent': 1.2222222222222223e-11, 'features...</td>\n",
       "      <td>OPT</td>\n",
       "      <td>NaN</td>\n",
       "      <td>NaN</td>\n",
       "    </tr>\n",
       "    <tr>\n",
       "      <th>2</th>\n",
       "      <td>63481481fdd73d481158ca84</td>\n",
       "      <td>mrcpsp/mrcpsp.mzn</td>\n",
       "      <td>mrcpsp/data/j14_23_1.dzn</td>\n",
       "      <td>True</td>\n",
       "      <td>True</td>\n",
       "      <td>True</td>\n",
       "      <td>True</td>\n",
       "      <td>OPT</td>\n",
       "      <td>83.0</td>\n",
       "      <td>72000000.0</td>\n",
       "      <td>True</td>\n",
       "      <td>[{'percent': 3.4722222222222225e-12, 'features...</td>\n",
       "      <td>OPT</td>\n",
       "      <td>NaN</td>\n",
       "      <td>NaN</td>\n",
       "    </tr>\n",
       "    <tr>\n",
       "      <th>3</th>\n",
       "      <td>63481481fdd73d481158ca85</td>\n",
       "      <td>mrcpsp/mrcpsp.mzn</td>\n",
       "      <td>mrcpsp/data/r1_33_7.dzn</td>\n",
       "      <td>True</td>\n",
       "      <td>True</td>\n",
       "      <td>True</td>\n",
       "      <td>True</td>\n",
       "      <td>OPT</td>\n",
       "      <td>102.0</td>\n",
       "      <td>72000000.0</td>\n",
       "      <td>True</td>\n",
       "      <td>[{'percent': 5.4166666666666665e-12, 'features...</td>\n",
       "      <td>OPT</td>\n",
       "      <td>NaN</td>\n",
       "      <td>NaN</td>\n",
       "    </tr>\n",
       "    <tr>\n",
       "      <th>4</th>\n",
       "      <td>63481481fdd73d481158ca86</td>\n",
       "      <td>mrcpsp/mrcpsp.mzn</td>\n",
       "      <td>mrcpsp/data/j12_12_4.dzn</td>\n",
       "      <td>True</td>\n",
       "      <td>True</td>\n",
       "      <td>True</td>\n",
       "      <td>True</td>\n",
       "      <td>OPT</td>\n",
       "      <td>72.0</td>\n",
       "      <td>72000000.0</td>\n",
       "      <td>True</td>\n",
       "      <td>[{'percent': 5.972222222222222e-12, 'features'...</td>\n",
       "      <td>OPT</td>\n",
       "      <td>NaN</td>\n",
       "      <td>NaN</td>\n",
       "    </tr>\n",
       "    <tr>\n",
       "      <th>...</th>\n",
       "      <td>...</td>\n",
       "      <td>...</td>\n",
       "      <td>...</td>\n",
       "      <td>...</td>\n",
       "      <td>...</td>\n",
       "      <td>...</td>\n",
       "      <td>...</td>\n",
       "      <td>...</td>\n",
       "      <td>...</td>\n",
       "      <td>...</td>\n",
       "      <td>...</td>\n",
       "      <td>...</td>\n",
       "      <td>...</td>\n",
       "      <td>...</td>\n",
       "      <td>...</td>\n",
       "    </tr>\n",
       "    <tr>\n",
       "      <th>17102</th>\n",
       "      <td>63481489fdd73d481159045e</td>\n",
       "      <td>2DBinPacking/2DLevelPacking.mzn</td>\n",
       "      <td>2DBinPacking/data/Class9_40_1.dzn</td>\n",
       "      <td>True</td>\n",
       "      <td>True</td>\n",
       "      <td>True</td>\n",
       "      <td>True</td>\n",
       "      <td>OPT</td>\n",
       "      <td>193.0</td>\n",
       "      <td>72000000.0</td>\n",
       "      <td>True</td>\n",
       "      <td>[{'percent': 1.5402777777777778e-10, 'features...</td>\n",
       "      <td>OPT</td>\n",
       "      <td>NaN</td>\n",
       "      <td>NaN</td>\n",
       "    </tr>\n",
       "    <tr>\n",
       "      <th>17106</th>\n",
       "      <td>63481489fdd73d4811590462</td>\n",
       "      <td>2DBinPacking/2DLevelPacking.mzn</td>\n",
       "      <td>2DBinPacking/data/Class8_20_3.dzn</td>\n",
       "      <td>True</td>\n",
       "      <td>True</td>\n",
       "      <td>True</td>\n",
       "      <td>True</td>\n",
       "      <td>OPT</td>\n",
       "      <td>161.0</td>\n",
       "      <td>72000000.0</td>\n",
       "      <td>True</td>\n",
       "      <td>[{'percent': 9.236111111111111e-11, 'features'...</td>\n",
       "      <td>OPT</td>\n",
       "      <td>NaN</td>\n",
       "      <td>NaN</td>\n",
       "    </tr>\n",
       "    <tr>\n",
       "      <th>17109</th>\n",
       "      <td>63481489fdd73d4811590465</td>\n",
       "      <td>2DBinPacking/2DLevelPacking.mzn</td>\n",
       "      <td>2DBinPacking/data/Class9_80_4.dzn</td>\n",
       "      <td>True</td>\n",
       "      <td>True</td>\n",
       "      <td>True</td>\n",
       "      <td>True</td>\n",
       "      <td>OPT</td>\n",
       "      <td>1411685.0</td>\n",
       "      <td>72000000.0</td>\n",
       "      <td>True</td>\n",
       "      <td>[{'percent': 3.363888888888889e-10, 'features'...</td>\n",
       "      <td>OPT</td>\n",
       "      <td>NaN</td>\n",
       "      <td>NaN</td>\n",
       "    </tr>\n",
       "    <tr>\n",
       "      <th>17110</th>\n",
       "      <td>63481489fdd73d4811590466</td>\n",
       "      <td>2DBinPacking/2DLevelPacking.mzn</td>\n",
       "      <td>2DBinPacking/data/Class4_20_4.dzn</td>\n",
       "      <td>True</td>\n",
       "      <td>True</td>\n",
       "      <td>True</td>\n",
       "      <td>True</td>\n",
       "      <td>OPT</td>\n",
       "      <td>17042.0</td>\n",
       "      <td>72000000.0</td>\n",
       "      <td>True</td>\n",
       "      <td>[{'percent': 1.636111111111111e-10, 'features'...</td>\n",
       "      <td>OPT</td>\n",
       "      <td>NaN</td>\n",
       "      <td>NaN</td>\n",
       "    </tr>\n",
       "    <tr>\n",
       "      <th>17111</th>\n",
       "      <td>63481489fdd73d4811590467</td>\n",
       "      <td>2DBinPacking/2DLevelPacking.mzn</td>\n",
       "      <td>2DBinPacking/data/Class8_20_7.dzn</td>\n",
       "      <td>True</td>\n",
       "      <td>True</td>\n",
       "      <td>True</td>\n",
       "      <td>True</td>\n",
       "      <td>OPT</td>\n",
       "      <td>111.0</td>\n",
       "      <td>72000000.0</td>\n",
       "      <td>True</td>\n",
       "      <td>[{'percent': 1.1319444444444445e-10, 'features...</td>\n",
       "      <td>OPT</td>\n",
       "      <td>NaN</td>\n",
       "      <td>NaN</td>\n",
       "    </tr>\n",
       "  </tbody>\n",
       "</table>\n",
       "<p>14080 rows × 15 columns</p>\n",
       "</div>"
      ],
      "text/plain": [
       "                            _id                              mzn  \\\n",
       "0      63481481fdd73d481158ca82                mrcpsp/mrcpsp.mzn   \n",
       "1      63481481fdd73d481158ca83                mrcpsp/mrcpsp.mzn   \n",
       "2      63481481fdd73d481158ca84                mrcpsp/mrcpsp.mzn   \n",
       "3      63481481fdd73d481158ca85                mrcpsp/mrcpsp.mzn   \n",
       "4      63481481fdd73d481158ca86                mrcpsp/mrcpsp.mzn   \n",
       "...                         ...                              ...   \n",
       "17102  63481489fdd73d481159045e  2DBinPacking/2DLevelPacking.mzn   \n",
       "17106  63481489fdd73d4811590462  2DBinPacking/2DLevelPacking.mzn   \n",
       "17109  63481489fdd73d4811590465  2DBinPacking/2DLevelPacking.mzn   \n",
       "17110  63481489fdd73d4811590466  2DBinPacking/2DLevelPacking.mzn   \n",
       "17111  63481489fdd73d4811590467  2DBinPacking/2DLevelPacking.mzn   \n",
       "\n",
       "                                     dzn  generated_features  generated_label  \\\n",
       "0                mrcpsp/data/m4_26_1.dzn                True             True   \n",
       "1                mrcpsp/data/n1_57_8.dzn                True             True   \n",
       "2               mrcpsp/data/j14_23_1.dzn                True             True   \n",
       "3                mrcpsp/data/r1_33_7.dzn                True             True   \n",
       "4               mrcpsp/data/j12_12_4.dzn                True             True   \n",
       "...                                  ...                 ...              ...   \n",
       "17102  2DBinPacking/data/Class9_40_1.dzn                True             True   \n",
       "17106  2DBinPacking/data/Class8_20_3.dzn                True             True   \n",
       "17109  2DBinPacking/data/Class9_80_4.dzn                True             True   \n",
       "17110  2DBinPacking/data/Class4_20_4.dzn                True             True   \n",
       "17111  2DBinPacking/data/Class8_20_7.dzn                True             True   \n",
       "\n",
       "       claimed_features_generation  claimed_label_generation type  \\\n",
       "0                             True                      True  OPT   \n",
       "1                             True                      True  OPT   \n",
       "2                             True                      True  OPT   \n",
       "3                             True                      True  OPT   \n",
       "4                             True                      True  OPT   \n",
       "...                            ...                       ...  ...   \n",
       "17102                         True                      True  OPT   \n",
       "17106                         True                      True  OPT   \n",
       "17109                         True                      True  OPT   \n",
       "17110                         True                      True  OPT   \n",
       "17111                         True                      True  OPT   \n",
       "\n",
       "       time_to_solution  time_limit  solved  \\\n",
       "0                  91.0  72000000.0    True   \n",
       "1                 120.0  72000000.0    True   \n",
       "2                  83.0  72000000.0    True   \n",
       "3                 102.0  72000000.0    True   \n",
       "4                  72.0  72000000.0    True   \n",
       "...                 ...         ...     ...   \n",
       "17102             193.0  72000000.0    True   \n",
       "17106             161.0  72000000.0    True   \n",
       "17109         1411685.0  72000000.0    True   \n",
       "17110           17042.0  72000000.0    True   \n",
       "17111             111.0  72000000.0    True   \n",
       "\n",
       "                                              statistics problem_type error  \\\n",
       "0      [{'percent': 6.666666666666667e-12, 'features'...          OPT   NaN   \n",
       "1      [{'percent': 1.2222222222222223e-11, 'features...          OPT   NaN   \n",
       "2      [{'percent': 3.4722222222222225e-12, 'features...          OPT   NaN   \n",
       "3      [{'percent': 5.4166666666666665e-12, 'features...          OPT   NaN   \n",
       "4      [{'percent': 5.972222222222222e-12, 'features'...          OPT   NaN   \n",
       "...                                                  ...          ...   ...   \n",
       "17102  [{'percent': 1.5402777777777778e-10, 'features...          OPT   NaN   \n",
       "17106  [{'percent': 9.236111111111111e-11, 'features'...          OPT   NaN   \n",
       "17109  [{'percent': 3.363888888888889e-10, 'features'...          OPT   NaN   \n",
       "17110  [{'percent': 1.636111111111111e-10, 'features'...          OPT   NaN   \n",
       "17111  [{'percent': 1.1319444444444445e-10, 'features...          OPT   NaN   \n",
       "\n",
       "      was_error  \n",
       "0           NaN  \n",
       "1           NaN  \n",
       "2           NaN  \n",
       "3           NaN  \n",
       "4           NaN  \n",
       "...         ...  \n",
       "17102       NaN  \n",
       "17106       NaN  \n",
       "17109       NaN  \n",
       "17110       NaN  \n",
       "17111       NaN  \n",
       "\n",
       "[14080 rows x 15 columns]"
      ]
     },
     "execution_count": 76,
     "metadata": {},
     "output_type": "execute_result"
    }
   ],
   "source": [
    "all_data_reg"
   ]
  },
  {
   "cell_type": "code",
   "execution_count": null,
   "metadata": {},
   "outputs": [],
   "source": [
    "features_at_percent_reg = {}\n",
    "for i in range (1,100):\n",
    "    df_i_reg=[]\n",
    "    for id, problem in all_data_reg.iterrows():\n",
    "            for index, p in enumerate(problem.statistics):\n",
    "                if index == i:\n",
    "                    new_p = dict(p['features'])\n",
    "                    new_p=cleanup(new_p)\n",
    "                    if i!=1:\n",
    "                        new_p=gradients(df_prev.loc[id], new_p)\n",
    "                    new_p['mzn'] = problem['mzn']\n",
    "                    new_p['dzn'] = problem['dzn']\n",
    "                    new_p['time_to_solution'] = problem['time_to_solution']\n",
    "                    df_i_reg.append((id, new_p))\n",
    "    df_i_reg = pd.DataFrame([a[1] for a in df_i_reg], index=[a[0] for a in df_i_reg])\n",
    "    df_i_reg=df_i_reg.fillna(value = 0)\n",
    "    if i!=0:   \n",
    "        features_at_percent_reg[i]=df_i_reg\n",
    "    df_prev=df_i_reg"
   ]
  },
  {
   "cell_type": "code",
   "execution_count": null,
   "metadata": {},
   "outputs": [
    {
     "data": {
      "text/html": [
       "<div>\n",
       "<style scoped>\n",
       "    .dataframe tbody tr th:only-of-type {\n",
       "        vertical-align: middle;\n",
       "    }\n",
       "\n",
       "    .dataframe tbody tr th {\n",
       "        vertical-align: top;\n",
       "    }\n",
       "\n",
       "    .dataframe thead th {\n",
       "        text-align: right;\n",
       "    }\n",
       "</style>\n",
       "<table border=\"1\" class=\"dataframe\">\n",
       "  <thead>\n",
       "    <tr style=\"text-align: right;\">\n",
       "      <th></th>\n",
       "      <th>conflicts</th>\n",
       "      <th>ewma_conflicts</th>\n",
       "      <th>decisions</th>\n",
       "      <th>search_iterations</th>\n",
       "      <th>opennodes</th>\n",
       "      <th>ewma_opennodes</th>\n",
       "      <th>vars</th>\n",
       "      <th>back_jumps</th>\n",
       "      <th>ewma_back_jumps</th>\n",
       "      <th>solutions</th>\n",
       "      <th>...</th>\n",
       "      <th>prop_mem_gradient</th>\n",
       "      <th>ewma_best_objective_gradient</th>\n",
       "      <th>fracOpenVisit_gradient</th>\n",
       "      <th>fracBoolVars_gradient</th>\n",
       "      <th>fracPropVars_gradient</th>\n",
       "      <th>freqBackjumps_gradient</th>\n",
       "      <th>best_objective_gradient</th>\n",
       "      <th>mzn</th>\n",
       "      <th>dzn</th>\n",
       "      <th>solved_within_time_limit</th>\n",
       "    </tr>\n",
       "  </thead>\n",
       "  <tbody>\n",
       "    <tr>\n",
       "      <th>57</th>\n",
       "      <td>247813</td>\n",
       "      <td>247794.0</td>\n",
       "      <td>273950</td>\n",
       "      <td>521764</td>\n",
       "      <td>24807</td>\n",
       "      <td>24806.41</td>\n",
       "      <td>24816</td>\n",
       "      <td>26126</td>\n",
       "      <td>0.11</td>\n",
       "      <td>0</td>\n",
       "      <td>...</td>\n",
       "      <td>0.0</td>\n",
       "      <td>0.0</td>\n",
       "      <td>11.612902</td>\n",
       "      <td>0.000000</td>\n",
       "      <td>6.183166e+07</td>\n",
       "      <td>1.430751e+06</td>\n",
       "      <td>0.0</td>\n",
       "      <td>mrcpsp/mrcpsp.mzn</td>\n",
       "      <td>mrcpsp/data/j30_5_3.dzn</td>\n",
       "      <td>False</td>\n",
       "    </tr>\n",
       "    <tr>\n",
       "      <th>73</th>\n",
       "      <td>227704</td>\n",
       "      <td>227685.0</td>\n",
       "      <td>351781</td>\n",
       "      <td>579486</td>\n",
       "      <td>24980</td>\n",
       "      <td>24978.87</td>\n",
       "      <td>24985</td>\n",
       "      <td>124070</td>\n",
       "      <td>0.94</td>\n",
       "      <td>0</td>\n",
       "      <td>...</td>\n",
       "      <td>0.0</td>\n",
       "      <td>0.0</td>\n",
       "      <td>-23.066756</td>\n",
       "      <td>0.000000</td>\n",
       "      <td>2.521424e+07</td>\n",
       "      <td>5.133365e+06</td>\n",
       "      <td>0.0</td>\n",
       "      <td>mrcpsp/mrcpsp.mzn</td>\n",
       "      <td>mrcpsp/data/j30_4_8.dzn</td>\n",
       "      <td>False</td>\n",
       "    </tr>\n",
       "    <tr>\n",
       "      <th>144</th>\n",
       "      <td>266616</td>\n",
       "      <td>266597.0</td>\n",
       "      <td>283643</td>\n",
       "      <td>550260</td>\n",
       "      <td>26336</td>\n",
       "      <td>26336.53</td>\n",
       "      <td>26347</td>\n",
       "      <td>17015</td>\n",
       "      <td>0.13</td>\n",
       "      <td>0</td>\n",
       "      <td>...</td>\n",
       "      <td>0.0</td>\n",
       "      <td>0.0</td>\n",
       "      <td>-10.941000</td>\n",
       "      <td>0.000000</td>\n",
       "      <td>3.342495e+08</td>\n",
       "      <td>-1.201245e+06</td>\n",
       "      <td>0.0</td>\n",
       "      <td>mrcpsp/mrcpsp.mzn</td>\n",
       "      <td>mrcpsp/data/j30_5_6.dzn</td>\n",
       "      <td>False</td>\n",
       "    </tr>\n",
       "    <tr>\n",
       "      <th>172</th>\n",
       "      <td>224415</td>\n",
       "      <td>224396.0</td>\n",
       "      <td>297440</td>\n",
       "      <td>353947</td>\n",
       "      <td>25040</td>\n",
       "      <td>25039.47</td>\n",
       "      <td>25069</td>\n",
       "      <td>72333</td>\n",
       "      <td>0.05</td>\n",
       "      <td>14</td>\n",
       "      <td>...</td>\n",
       "      <td>0.0</td>\n",
       "      <td>0.0</td>\n",
       "      <td>5.757229</td>\n",
       "      <td>0.000000</td>\n",
       "      <td>1.276997e+08</td>\n",
       "      <td>2.585377e+06</td>\n",
       "      <td>0.0</td>\n",
       "      <td>mrcpsp/mrcpsp.mzn</td>\n",
       "      <td>mrcpsp/data/j30_53_6.dzn</td>\n",
       "      <td>True</td>\n",
       "    </tr>\n",
       "    <tr>\n",
       "      <th>272</th>\n",
       "      <td>328204</td>\n",
       "      <td>328185.0</td>\n",
       "      <td>341922</td>\n",
       "      <td>670127</td>\n",
       "      <td>23683</td>\n",
       "      <td>23684.73</td>\n",
       "      <td>23693</td>\n",
       "      <td>13707</td>\n",
       "      <td>0.04</td>\n",
       "      <td>0</td>\n",
       "      <td>...</td>\n",
       "      <td>0.0</td>\n",
       "      <td>0.0</td>\n",
       "      <td>12.164729</td>\n",
       "      <td>0.000000</td>\n",
       "      <td>3.783369e+07</td>\n",
       "      <td>-4.533740e+05</td>\n",
       "      <td>0.0</td>\n",
       "      <td>mrcpsp/mrcpsp.mzn</td>\n",
       "      <td>mrcpsp/data/j30_6_4.dzn</td>\n",
       "      <td>False</td>\n",
       "    </tr>\n",
       "    <tr>\n",
       "      <th>...</th>\n",
       "      <td>...</td>\n",
       "      <td>...</td>\n",
       "      <td>...</td>\n",
       "      <td>...</td>\n",
       "      <td>...</td>\n",
       "      <td>...</td>\n",
       "      <td>...</td>\n",
       "      <td>...</td>\n",
       "      <td>...</td>\n",
       "      <td>...</td>\n",
       "      <td>...</td>\n",
       "      <td>...</td>\n",
       "      <td>...</td>\n",
       "      <td>...</td>\n",
       "      <td>...</td>\n",
       "      <td>...</td>\n",
       "      <td>...</td>\n",
       "      <td>...</td>\n",
       "      <td>...</td>\n",
       "      <td>...</td>\n",
       "      <td>...</td>\n",
       "    </tr>\n",
       "    <tr>\n",
       "      <th>17108</th>\n",
       "      <td>84514</td>\n",
       "      <td>84495.0</td>\n",
       "      <td>158283</td>\n",
       "      <td>242798</td>\n",
       "      <td>26128</td>\n",
       "      <td>26129.54</td>\n",
       "      <td>26226</td>\n",
       "      <td>73669</td>\n",
       "      <td>0.64</td>\n",
       "      <td>0</td>\n",
       "      <td>...</td>\n",
       "      <td>0.0</td>\n",
       "      <td>0.0</td>\n",
       "      <td>110.555385</td>\n",
       "      <td>0.000000</td>\n",
       "      <td>2.388310e+06</td>\n",
       "      <td>-1.056328e+07</td>\n",
       "      <td>0.0</td>\n",
       "      <td>2DBinPacking/2DLevelPacking.mzn</td>\n",
       "      <td>2DBinPacking/data/Class4_80_8.dzn</td>\n",
       "      <td>False</td>\n",
       "    </tr>\n",
       "    <tr>\n",
       "      <th>17109</th>\n",
       "      <td>199579</td>\n",
       "      <td>199560.0</td>\n",
       "      <td>212342</td>\n",
       "      <td>411922</td>\n",
       "      <td>31098</td>\n",
       "      <td>31098.73</td>\n",
       "      <td>31118</td>\n",
       "      <td>12742</td>\n",
       "      <td>0.00</td>\n",
       "      <td>0</td>\n",
       "      <td>...</td>\n",
       "      <td>0.0</td>\n",
       "      <td>0.0</td>\n",
       "      <td>-50.986545</td>\n",
       "      <td>0.000000</td>\n",
       "      <td>6.760262e+07</td>\n",
       "      <td>4.176274e+05</td>\n",
       "      <td>0.0</td>\n",
       "      <td>2DBinPacking/2DLevelPacking.mzn</td>\n",
       "      <td>2DBinPacking/data/Class9_80_4.dzn</td>\n",
       "      <td>True</td>\n",
       "    </tr>\n",
       "    <tr>\n",
       "      <th>17110</th>\n",
       "      <td>319803</td>\n",
       "      <td>319784.0</td>\n",
       "      <td>329768</td>\n",
       "      <td>649572</td>\n",
       "      <td>1737</td>\n",
       "      <td>1735.65</td>\n",
       "      <td>1763</td>\n",
       "      <td>9939</td>\n",
       "      <td>0.00</td>\n",
       "      <td>0</td>\n",
       "      <td>...</td>\n",
       "      <td>0.0</td>\n",
       "      <td>0.0</td>\n",
       "      <td>-168.478894</td>\n",
       "      <td>0.000000</td>\n",
       "      <td>9.041860e+07</td>\n",
       "      <td>-3.577863e+05</td>\n",
       "      <td>0.0</td>\n",
       "      <td>2DBinPacking/2DLevelPacking.mzn</td>\n",
       "      <td>2DBinPacking/data/Class4_20_4.dzn</td>\n",
       "      <td>True</td>\n",
       "    </tr>\n",
       "    <tr>\n",
       "      <th>17112</th>\n",
       "      <td>49001</td>\n",
       "      <td>48982.0</td>\n",
       "      <td>49900</td>\n",
       "      <td>98902</td>\n",
       "      <td>46337</td>\n",
       "      <td>46337.15</td>\n",
       "      <td>46342</td>\n",
       "      <td>892</td>\n",
       "      <td>0.00</td>\n",
       "      <td>0</td>\n",
       "      <td>...</td>\n",
       "      <td>0.0</td>\n",
       "      <td>0.0</td>\n",
       "      <td>-6.216274</td>\n",
       "      <td>0.000000</td>\n",
       "      <td>7.299963e+07</td>\n",
       "      <td>1.095475e+04</td>\n",
       "      <td>0.0</td>\n",
       "      <td>2DBinPacking/2DLevelPacking.mzn</td>\n",
       "      <td>2DBinPacking/data/Class5_100_8.dzn</td>\n",
       "      <td>False</td>\n",
       "    </tr>\n",
       "    <tr>\n",
       "      <th>17113</th>\n",
       "      <td>53126</td>\n",
       "      <td>53107.0</td>\n",
       "      <td>54015</td>\n",
       "      <td>107142</td>\n",
       "      <td>46573</td>\n",
       "      <td>46572.94</td>\n",
       "      <td>46581</td>\n",
       "      <td>880</td>\n",
       "      <td>0.00</td>\n",
       "      <td>0</td>\n",
       "      <td>...</td>\n",
       "      <td>0.0</td>\n",
       "      <td>0.0</td>\n",
       "      <td>9.276424</td>\n",
       "      <td>0.670443</td>\n",
       "      <td>6.479160e+07</td>\n",
       "      <td>-4.243125e+04</td>\n",
       "      <td>0.0</td>\n",
       "      <td>2DBinPacking/2DLevelPacking.mzn</td>\n",
       "      <td>2DBinPacking/data/Class5_100_5.dzn</td>\n",
       "      <td>False</td>\n",
       "    </tr>\n",
       "  </tbody>\n",
       "</table>\n",
       "<p>2183 rows × 72 columns</p>\n",
       "</div>"
      ],
      "text/plain": [
       "       conflicts  ewma_conflicts  decisions  search_iterations  opennodes  \\\n",
       "57        247813        247794.0     273950             521764      24807   \n",
       "73        227704        227685.0     351781             579486      24980   \n",
       "144       266616        266597.0     283643             550260      26336   \n",
       "172       224415        224396.0     297440             353947      25040   \n",
       "272       328204        328185.0     341922             670127      23683   \n",
       "...          ...             ...        ...                ...        ...   \n",
       "17108      84514         84495.0     158283             242798      26128   \n",
       "17109     199579        199560.0     212342             411922      31098   \n",
       "17110     319803        319784.0     329768             649572       1737   \n",
       "17112      49001         48982.0      49900              98902      46337   \n",
       "17113      53126         53107.0      54015             107142      46573   \n",
       "\n",
       "       ewma_opennodes   vars  back_jumps  ewma_back_jumps  solutions  ...  \\\n",
       "57           24806.41  24816       26126             0.11          0  ...   \n",
       "73           24978.87  24985      124070             0.94          0  ...   \n",
       "144          26336.53  26347       17015             0.13          0  ...   \n",
       "172          25039.47  25069       72333             0.05         14  ...   \n",
       "272          23684.73  23693       13707             0.04          0  ...   \n",
       "...               ...    ...         ...              ...        ...  ...   \n",
       "17108        26129.54  26226       73669             0.64          0  ...   \n",
       "17109        31098.73  31118       12742             0.00          0  ...   \n",
       "17110         1735.65   1763        9939             0.00          0  ...   \n",
       "17112        46337.15  46342         892             0.00          0  ...   \n",
       "17113        46572.94  46581         880             0.00          0  ...   \n",
       "\n",
       "       prop_mem_gradient  ewma_best_objective_gradient  \\\n",
       "57                   0.0                           0.0   \n",
       "73                   0.0                           0.0   \n",
       "144                  0.0                           0.0   \n",
       "172                  0.0                           0.0   \n",
       "272                  0.0                           0.0   \n",
       "...                  ...                           ...   \n",
       "17108                0.0                           0.0   \n",
       "17109                0.0                           0.0   \n",
       "17110                0.0                           0.0   \n",
       "17112                0.0                           0.0   \n",
       "17113                0.0                           0.0   \n",
       "\n",
       "       fracOpenVisit_gradient  fracBoolVars_gradient  fracPropVars_gradient  \\\n",
       "57                  11.612902               0.000000           6.183166e+07   \n",
       "73                 -23.066756               0.000000           2.521424e+07   \n",
       "144                -10.941000               0.000000           3.342495e+08   \n",
       "172                  5.757229               0.000000           1.276997e+08   \n",
       "272                 12.164729               0.000000           3.783369e+07   \n",
       "...                       ...                    ...                    ...   \n",
       "17108              110.555385               0.000000           2.388310e+06   \n",
       "17109              -50.986545               0.000000           6.760262e+07   \n",
       "17110             -168.478894               0.000000           9.041860e+07   \n",
       "17112               -6.216274               0.000000           7.299963e+07   \n",
       "17113                9.276424               0.670443           6.479160e+07   \n",
       "\n",
       "       freqBackjumps_gradient  best_objective_gradient  \\\n",
       "57               1.430751e+06                      0.0   \n",
       "73               5.133365e+06                      0.0   \n",
       "144             -1.201245e+06                      0.0   \n",
       "172              2.585377e+06                      0.0   \n",
       "272             -4.533740e+05                      0.0   \n",
       "...                       ...                      ...   \n",
       "17108           -1.056328e+07                      0.0   \n",
       "17109            4.176274e+05                      0.0   \n",
       "17110           -3.577863e+05                      0.0   \n",
       "17112            1.095475e+04                      0.0   \n",
       "17113           -4.243125e+04                      0.0   \n",
       "\n",
       "                                   mzn                                 dzn  \\\n",
       "57                   mrcpsp/mrcpsp.mzn             mrcpsp/data/j30_5_3.dzn   \n",
       "73                   mrcpsp/mrcpsp.mzn             mrcpsp/data/j30_4_8.dzn   \n",
       "144                  mrcpsp/mrcpsp.mzn             mrcpsp/data/j30_5_6.dzn   \n",
       "172                  mrcpsp/mrcpsp.mzn            mrcpsp/data/j30_53_6.dzn   \n",
       "272                  mrcpsp/mrcpsp.mzn             mrcpsp/data/j30_6_4.dzn   \n",
       "...                                ...                                 ...   \n",
       "17108  2DBinPacking/2DLevelPacking.mzn   2DBinPacking/data/Class4_80_8.dzn   \n",
       "17109  2DBinPacking/2DLevelPacking.mzn   2DBinPacking/data/Class9_80_4.dzn   \n",
       "17110  2DBinPacking/2DLevelPacking.mzn   2DBinPacking/data/Class4_20_4.dzn   \n",
       "17112  2DBinPacking/2DLevelPacking.mzn  2DBinPacking/data/Class5_100_8.dzn   \n",
       "17113  2DBinPacking/2DLevelPacking.mzn  2DBinPacking/data/Class5_100_5.dzn   \n",
       "\n",
       "       solved_within_time_limit  \n",
       "57                        False  \n",
       "73                        False  \n",
       "144                       False  \n",
       "172                        True  \n",
       "272                       False  \n",
       "...                         ...  \n",
       "17108                     False  \n",
       "17109                      True  \n",
       "17110                      True  \n",
       "17112                     False  \n",
       "17113                     False  \n",
       "\n",
       "[2183 rows x 72 columns]"
      ]
     },
     "execution_count": 78,
     "metadata": {},
     "output_type": "execute_result"
    }
   ],
   "source": [
    "features_at_percent[5]"
   ]
  },
  {
   "cell_type": "code",
   "execution_count": null,
   "metadata": {},
   "outputs": [
    {
     "name": "stdout",
     "output_type": "stream",
     "text": [
      "At 5 %:\n",
      "2183\n",
      "553\n",
      "At 10 %:\n",
      "2035\n",
      "447\n",
      "At 20 %:\n",
      "1527\n",
      "255\n",
      "At 50 %:\n",
      "391\n",
      "30\n",
      "At 90 %:\n",
      "159\n",
      "9\n"
     ]
    }
   ],
   "source": [
    "grid=[5,10,20,50,90]\n",
    "for i in grid:\n",
    "    print(\"At\",i,\"%:\")\n",
    "    print(len(features_at_percent[i].index))\n",
    "    print(len(features_at_percent_reg[i].index))\n",
    "    "
   ]
  },
  {
   "cell_type": "code",
   "execution_count": null,
   "metadata": {},
   "outputs": [],
   "source": [
    "df_reg=features_at_percent_reg[1] #THE NUMBER HERE IS THE % OF TL\n",
    "df_reg=preprocessing(df_reg)\n",
    "# training-testing split\n",
    "X_train_reg, X_test_reg, y_train_reg, y_test_reg  = train_test_split(df_reg.drop(columns = [\"time_to_solution\"]),\\\n",
    "                                                     df_reg[\"time_to_solution\"], test_size=0.25, random_state=22)"
   ]
  },
  {
   "cell_type": "code",
   "execution_count": null,
   "metadata": {},
   "outputs": [
    {
     "data": {
      "text/plain": [
       "0.0607538599417351"
      ]
     },
     "execution_count": 63,
     "metadata": {},
     "output_type": "execute_result"
    }
   ],
   "source": [
    "#RANDOM FOREST\n",
    "from sklearn.ensemble import RandomForestRegressor\n",
    "regr = RandomForestRegressor(max_depth=1000000000000)\n",
    "regr.fit(X_train_reg, y_train_reg)\n",
    "predictions=regr.predict(X_test_reg)\n",
    "sk_score = regr.score(X_test_reg, y_test_reg)\n",
    "sk_score"
   ]
  },
  {
   "cell_type": "code",
   "execution_count": null,
   "metadata": {},
   "outputs": [
    {
     "data": {
      "text/plain": [
       "-0.0018041137236108895"
      ]
     },
     "execution_count": 64,
     "metadata": {},
     "output_type": "execute_result"
    }
   ],
   "source": [
    "#SUPPORT VECTOR MACHINE\n",
    "from sklearn import svm\n",
    "regr = svm.SVR()\n",
    "regr.fit(X_train_reg, y_train_reg)\n",
    "predictions=regr.predict(X_test_reg)\n",
    "sk_score = regr.score(X_test_reg, y_test_reg)\n",
    "sk_score"
   ]
  },
  {
   "cell_type": "code",
   "execution_count": null,
   "metadata": {},
   "outputs": [
    {
     "data": {
      "text/plain": [
       "-0.007820159278278505"
      ]
     },
     "execution_count": 65,
     "metadata": {},
     "output_type": "execute_result"
    }
   ],
   "source": [
    "#RIDGE\n",
    "from sklearn.linear_model import Ridge\n",
    "clf = Ridge(alpha=1.0)\n",
    "clf.fit(X_train_reg, y_train_reg)\n",
    "predictions=clf.predict(X_test_reg)\n",
    "sk_score = clf.score(X_test_reg, y_test_reg)\n",
    "sk_score"
   ]
  },
  {
   "cell_type": "code",
   "execution_count": null,
   "metadata": {},
   "outputs": [
    {
     "data": {
      "text/plain": [
       "-0.00019553213723866314"
      ]
     },
     "execution_count": 66,
     "metadata": {},
     "output_type": "execute_result"
    }
   ],
   "source": [
    "#LASSO\n",
    "from sklearn import linear_model\n",
    "clf = linear_model.Lasso(alpha=0.1)\n",
    "clf.fit(X_train_reg, y_train_reg)\n",
    "predictions=clf.predict(X_test_reg)\n",
    "sk_score = clf.score(X_test_reg, y_test_reg)\n",
    "sk_score"
   ]
  },
  {
   "cell_type": "code",
   "execution_count": null,
   "metadata": {},
   "outputs": [
    {
     "data": {
      "text/plain": [
       "-0.00019553213723866314"
      ]
     },
     "execution_count": 67,
     "metadata": {},
     "output_type": "execute_result"
    }
   ],
   "source": [
    "#ELASTICNET\n",
    "from sklearn.linear_model import ElasticNet\n",
    "regr = ElasticNet()\n",
    "regr.fit(X_train_reg, y_train_reg)\n",
    "predictions=regr.predict(X_test_reg)\n",
    "sk_score = regr.score(X_test_reg, y_test_reg)\n",
    "sk_score"
   ]
  },
  {
   "cell_type": "code",
   "execution_count": null,
   "metadata": {},
   "outputs": [
    {
     "data": {
      "text/plain": [
       "-0.08340704743996619"
      ]
     },
     "execution_count": 71,
     "metadata": {},
     "output_type": "execute_result"
    }
   ],
   "source": [
    "#TREE\n",
    "from sklearn import tree\n",
    "clf = tree.DecisionTreeRegressor(max_depth=5)\n",
    "clf.fit(X_train_reg, y_train_reg)\n",
    "predictions=clf.predict(X_test_reg)\n",
    "sk_score = clf.score(X_test_reg, y_test_reg)\n",
    "sk_score"
   ]
  },
  {
   "cell_type": "code",
   "execution_count": null,
   "metadata": {},
   "outputs": [
    {
     "data": {
      "text/plain": [
       "-0.028316939637723193"
      ]
     },
     "execution_count": 72,
     "metadata": {},
     "output_type": "execute_result"
    }
   ],
   "source": [
    "#PLS\n",
    "from sklearn.cross_decomposition import PLSRegression\n",
    "pls2 = PLSRegression(n_components=2)\n",
    "pls2.fit(X_train_reg, y_train_reg)\n",
    "predictions=pls2.predict(X_test_reg)\n",
    "sk_score = pls2.score(X_test_reg, y_test_reg)\n",
    "sk_score"
   ]
  },
  {
   "cell_type": "code",
   "execution_count": null,
   "metadata": {},
   "outputs": [
    {
     "data": {
      "text/plain": [
       "-0.015777884224544625"
      ]
     },
     "execution_count": 73,
     "metadata": {},
     "output_type": "execute_result"
    }
   ],
   "source": [
    "from sklearn.gaussian_process import GaussianProcessRegressor\n",
    "from sklearn.gaussian_process.kernels import DotProduct, WhiteKernel\n",
    "kernel = DotProduct() + WhiteKernel()\n",
    "gpr = GaussianProcessRegressor(kernel=kernel).fit(X_train_reg, y_train_reg)\n",
    "predictions=gpr.predict(X_test_reg)\n",
    "sk_score = gpr.score(X_test_reg, y_test_reg)\n",
    "sk_score"
   ]
  },
  {
   "cell_type": "code",
   "execution_count": null,
   "metadata": {},
   "outputs": [],
   "source": []
  },
  {
   "cell_type": "markdown",
   "metadata": {},
   "source": [
    "# Ignore the rest! \n",
    "# -- -- -- -- -- -- \n",
    "# -- -- -- -- -- -- \n",
    "# -- -- -- -- -- -- \n",
    "# -- -- -- -- -- -- \n",
    "# -- -- -- -- -- -- \n",
    "# -- -- -- -- -- -- "
   ]
  },
  {
   "cell_type": "code",
   "execution_count": null,
   "metadata": {},
   "outputs": [],
   "source": []
  },
  {
   "cell_type": "markdown",
   "metadata": {
    "id": "4Ftayu36YnrR"
   },
   "source": [
    "# **Feature Importance Analysis**"
   ]
  },
  {
   "cell_type": "markdown",
   "metadata": {
    "id": "qzOOxMce5WK7"
   },
   "source": [
    "Feature importance for all features"
   ]
  },
  {
   "cell_type": "code",
   "execution_count": null,
   "metadata": {
    "colab": {
     "base_uri": "https://localhost:8080/",
     "height": 1000
    },
    "id": "6XZEREqH1U9l",
    "outputId": "1f10cec3-98e3-49a5-bd26-cc3e02cb70f3"
   },
   "outputs": [
    {
     "name": "stdout",
     "output_type": "stream",
     "text": [
      "Large error bars may result from Gini Importance being misleading when features have many unique values \n",
      "\n"
     ]
    },
    {
     "ename": "UnboundLocalError",
     "evalue": "local variable 'c_array' referenced before assignment",
     "output_type": "error",
     "traceback": [
      "\u001b[0;31m---------------------------------------------------------------------------\u001b[0m",
      "\u001b[0;31mUnboundLocalError\u001b[0m                         Traceback (most recent call last)",
      "Cell \u001b[0;32mIn[80], line 89\u001b[0m\n\u001b[1;32m     86\u001b[0m     plt\u001b[39m.\u001b[39mshow()\n\u001b[1;32m     88\u001b[0m \u001b[39mprint\u001b[39m(\u001b[39m\"\u001b[39m\u001b[39mLarge error bars may result from Gini Importance being misleading when features have many unique values \u001b[39m\u001b[39m\\n\u001b[39;00m\u001b[39m\"\u001b[39m)\n\u001b[0;32m---> 89\u001b[0m feat_import_plt(X_train, y_train,  \u001b[39m\"\u001b[39;49m\u001b[39m5\u001b[39;49m\u001b[39m\"\u001b[39;49m)\n\u001b[1;32m     90\u001b[0m \u001b[39m# feat_import_plt(X_train_10, y_train_10, \"10\")\u001b[39;00m\n\u001b[1;32m     91\u001b[0m \u001b[39m# feat_import_plt(X_train_15, y_train_15,  \"15\")\u001b[39;00m\n\u001b[1;32m     92\u001b[0m \u001b[39m# feat_import_plt(X_train_20, y_train_20,  \"20\")\u001b[39;00m\n",
      "Cell \u001b[0;32mIn[80], line 49\u001b[0m, in \u001b[0;36mfeat_import_plt\u001b[0;34m(X, y, perc_TL)\u001b[0m\n\u001b[1;32m     47\u001b[0m     c \u001b[39m=\u001b[39m df_5\u001b[39m.\u001b[39mapply(pd\u001b[39m.\u001b[39mSeries\u001b[39m.\u001b[39mnunique) \u001b[39m#feature cardinalityc_array = []\u001b[39;00m\n\u001b[1;32m     48\u001b[0m \u001b[39mfor\u001b[39;00m i \u001b[39min\u001b[39;00m X\u001b[39m.\u001b[39mcolumns[_sorted_indices]:\n\u001b[0;32m---> 49\u001b[0m     c_array\u001b[39m.\u001b[39mappend(c\u001b[39m.\u001b[39mloc[i]\u001b[39m/\u001b[39m \u001b[39mmax\u001b[39m(df_5\u001b[39m.\u001b[39mapply(pd\u001b[39m.\u001b[39mSeries\u001b[39m.\u001b[39mnunique)\u001b[39m.\u001b[39mvalues))\n\u001b[1;32m     51\u001b[0m ax2 \u001b[39m=\u001b[39m ax1\u001b[39m.\u001b[39mtwinx()\n\u001b[1;32m     52\u001b[0m ax2\u001b[39m.\u001b[39mplot(\u001b[39mrange\u001b[39m(X\u001b[39m.\u001b[39mshape[\u001b[39m1\u001b[39m]), c_array, color \u001b[39m=\u001b[39m \u001b[39m'\u001b[39m\u001b[39mr\u001b[39m\u001b[39m'\u001b[39m )\n",
      "\u001b[0;31mUnboundLocalError\u001b[0m: local variable 'c_array' referenced before assignment"
     ]
    },
    {
     "data": {
      "image/png": "[encoded data removed]",
      "text/plain": [
       "<Figure size 1500x600 with 1 Axes>"
      ]
     },
     "metadata": {},
     "output_type": "display_data"
    }
   ],
   "source": [
    "def feat_import_plt(X, y, perc_TL):\n",
    "    #Display Flags \n",
    "    ordered = False   #True displays importances in descending order\n",
    "    errorbar = True\n",
    "    cardinality = False\n",
    "    \n",
    "    #Drop values that are neither standard chuffed values nor created\n",
    "    X = X.drop([\"solutions\",\n",
    "                \"total_time\",\n",
    "                \"search_time\", #total time - init time\n",
    "                \"learnt\" ,\n",
    "                \"bin\",\n",
    "                \"tern\",\n",
    "                \"long\",\n",
    "                \"ewma_opennodes\",\n",
    "                \"ewma_decision_level_engine\",\n",
    "                \"ewma_back_jumps\",\n",
    "                \"ewma_propagations\",\n",
    "                \"ewma_best_objective\"], axis=1, inplace=False)\n",
    "\n",
    "    #Feature importance using Gini Impurity\n",
    "    dcs_t = RandomForestClassifier(min_samples_leaf = 5,random_state=22)\n",
    "    dcs_t.fit(X, y)\n",
    "    \n",
    "    importances = dcs_t.feature_importances_\n",
    "    std = np.std([tree.feature_importances_ for tree in dcs_t.estimators_], axis=0) #get standard dev of importances\n",
    "    \n",
    "    if ordered:\n",
    "        _sorted_indices = np.argsort(importances)[::-1]   # Sort the feature importance in descending order\n",
    "    else:\n",
    "        _sorted_indices = np.array(range(len(importances)))   # unsorted feature importances for comparison\n",
    "\n",
    "    plt.figure(figsize=(15, 6))\n",
    "    ax1 = plt.subplot(1, 2, 1)\n",
    "    plt.title('Gini Importance using Random Forest for '+ perc_TL+'% TL with normalized feature cardinality')\n",
    "    \n",
    "    if not errorbar:\n",
    "        ax1.bar(range(X.shape[1]), importances[_sorted_indices])\n",
    "    else :\n",
    "        ax1.bar(range(X.shape[1]), importances[_sorted_indices], yerr=std, ecolor='black', capsize=5, align='center')\n",
    "        ax1.set_ylabel('Importance')\n",
    "        plt.xticks(range(X.shape[1]), X.columns[_sorted_indices], rotation=90)\n",
    "\n",
    "    #print(\"GI:\", importances[sorted_indices])\n",
    "\n",
    "    if cardinality:\n",
    "        c = df_5.apply(pd.Series.nunique) #feature cardinalityc_array = []\n",
    "    for i in X.columns[_sorted_indices]:\n",
    "        c_array.append(c.loc[i]/ max(df_5.apply(pd.Series.nunique).values))\n",
    "    \n",
    "    ax2 = ax1.twinx()\n",
    "    ax2.plot(range(X.shape[1]), c_array, color = 'r' )\n",
    "    ax2.set_ylabel('Cardinality', color = 'r')\n",
    "\n",
    "    #Feature importance using Permutation Importance\n",
    "    perm = permutation_importance(dcs_t, X, y, random_state = 22)\n",
    "    if ordered:\n",
    "        _perm_sorted_indices = np.argsort(perm.importances_mean)[::-1] # Sort the feature importance in descending order\n",
    "    else:\n",
    "        _perm_sorted_indices = _sorted_indices\n",
    "\n",
    "    ax3 = plt.subplot(1, 2, 2)\n",
    "    plt.title('Permutation Importance using Random Forest for '+ perc_TL+'% TL')\n",
    "    if not errorbar:\n",
    "        ax3.bar(range(X.shape[1]), perm.importances_mean[_perm_sorted_indices]*10)\n",
    "    else:\n",
    "        ax3.bar(range(X.shape[1]), perm.importances_mean[_perm_sorted_indices]*10, yerr=perm.importances_std, ecolor='black', capsize=5, align='center')\n",
    "    plt.xticks(range(X.shape[1]), X.columns[_perm_sorted_indices], rotation=90)\n",
    "    ax3.set_ylabel('Importance')\n",
    "\n",
    "    #print(\"PI:\", perm.importances_mean[perm_sorted_indices])\n",
    "\n",
    "    if cardinality:\n",
    "        c_array = []\n",
    "        for i in X.columns[_perm_sorted_indices]:\n",
    "            c_array.append(c.loc[i]/ max(df_5.apply(pd.Series.nunique).values))\n",
    "        ax2 = ax3.twinx()\n",
    "        ax2.plot(range(X.shape[1]), c_array, color = 'r' )\n",
    "        ax2.set_ylabel('Cardinality', color = 'r')\n",
    "\n",
    "    #plt.subplot(1, 3, 3)\n",
    "    #sns.heatmap(X.corr(), mask = np.triu(X.corr()) )\n",
    "\n",
    "\n",
    "    plt.tight_layout()\n",
    "    plt.show()\n",
    "\n",
    "print(\"Large error bars may result from Gini Importance being misleading when features have many unique values \\n\")\n",
    "feat_import_plt(X_train, y_train,  \"5\")\n",
    "# feat_import_plt(X_train_10, y_train_10, \"10\")\n",
    "# feat_import_plt(X_train_15, y_train_15,  \"15\")\n",
    "# feat_import_plt(X_train_20, y_train_20,  \"20\")"
   ]
  },
  {
   "cell_type": "markdown",
   "metadata": {
    "id": "58S764KD5eJ0"
   },
   "source": [
    "Feature importance for proposed (or created) features"
   ]
  },
  {
   "cell_type": "code",
   "execution_count": null,
   "metadata": {
    "colab": {
     "base_uri": "https://localhost:8080/",
     "height": 823
    },
    "id": "tte0xg5MTpx2",
    "outputId": "11a5aa66-4f73-4244-d50e-7a517a0ce329"
   },
   "outputs": [
    {
     "ename": "",
     "evalue": "",
     "output_type": "error",
     "traceback": [
      "\u001b[1;31mRunning cells with 'venv' requires ipykernel package.\n",
      "\u001b[1;31mRun the following command to install 'ipykernel' into the Python environment. \n",
      "\u001b[1;31mCommand: '/home/alexander/Documents/TUDelft/idmp-b/venv/bin/python -m pip install ipykernel -U --force-reinstall'"
     ]
    }
   ],
   "source": [
    "#Only keep proposed features\n",
    "for df in df_list:\n",
    "    df.drop([\"opennodes\",\n",
    "             \"ewma_opennodes\",\n",
    "             \"ewma_decision_level_engine\",\n",
    "             \"vars\",\n",
    "             \"back_jumps\",\n",
    "             \"ewma_back_jumps\",\n",
    "             \"solutions\",\n",
    "             \"total_time\",\n",
    "             \"search_time\", #total time - init time\n",
    "             \"intVars\",\n",
    "             \"propagations\",\n",
    "             \"ewma_propagations\",\n",
    "             \"propagators\",\n",
    "             \"boolVars\",\n",
    "             \"learnt\" ,\n",
    "             \"bin\",\n",
    "             \"tern\",\n",
    "             \"long\",\n",
    "             \"peak_depth\",\n",
    "             \"best_objective\",\n",
    "             \"ewma_best_objective\"], axis=1, inplace=True)\n",
    "  \n",
    "  \n",
    "  \n",
    "#dummy vars for df_5 to match size of other dfs\n",
    "df_5[\"objectiveGROC\"] = np.zeros(df_5.shape[0])\n",
    "df_5[\"failuresGROC\"] = np.zeros(df_5.shape[0])\n",
    "df_5[\"backjumpsGROC\"] = np.zeros(df_5.shape[0])\n",
    "df_5[\"propagationsGROC\"] = np.zeros(df_5.shape[0])\n",
    "df_5[\"solutionsGROC\"] = np.zeros(df_5.shape[0])\n",
    "\n",
    "\n",
    "# Resplit dats into training-testing \n",
    "Xd_train_5, Xd_test_5, yd_train_5, yd_test_5  = train_test_split(df_5.drop(columns = [\"solved_within_time_limit\"]),\\\n",
    "                                                     df_5[\"solved_within_time_limit\"], test_size=0.25, random_state=22)\n",
    "\n",
    "# Xd_train_10, Xd_test_10, yd_train_10, yd_test_10  = train_test_split(df_10.drop(columns = [\"solved_within_time_limit\"]),\\\n",
    "#                                                      df_10[\"solved_within_time_limit\"], test_size=0.25, random_state=22)\n",
    "\n",
    "# Xd_train_15, Xd_test_15, yd_train_15, yd_test_15  = train_test_split(df_15.drop(columns = [\"solved_within_time_limit\"]),\\\n",
    "#                                                      df_15[\"solved_within_time_limit\"], test_size=0.25, random_state=22)\n",
    "\n",
    "# Xd_train_20, Xd_test_20, yd_train_20, yd_test_20  = train_test_split(df_20.drop(columns = [\"solved_within_time_limit\"]),\\\n",
    "#                                                      df_20[\"solved_within_time_limit\"], test_size=0.25, random_state=22)\n",
    "# #Feature importances using only proposed features\n",
    "def importance (X, y):\n",
    "  dcs_5 = RandomForestClassifier(min_samples_leaf = 5,random_state=22)\n",
    "  dcs_5.fit(X, y)\n",
    "  importances_5 = dcs_5.feature_importances_\n",
    "  std_5 = np.std([tree.feature_importances_ for tree in dcs_5.estimators_], axis=0) #get standard dev of importances\n",
    "  perm_5 = permutation_importance(dcs_5, X, y, random_state = 22)\n",
    "  return importances_5, perm_5\n",
    "\n",
    "[importances_5, perm_5] = importance(Xd_train_5, yd_train_5)\n",
    "sorted_indices = np.argsort(importances_5)[::-1] \n",
    "perm_sorted_indices = np.argsort(perm_5.importances_mean)[::-1] \n",
    "\n",
    "# [importances_10, perm_10] = importance(Xd_train_10, yd_train_10)\n",
    "# sorted_indices_10 = np.argsort(importances_10)[::-1] \n",
    "# perm_sorted_indices_10 = np.argsort(perm_10.importances_mean)[::-1]\n",
    "\n",
    "# [importances_15, perm_15] = importance(Xd_train_15, yd_train_15)\n",
    "# sorted_indices_15 = np.argsort(importances_15)[::-1] \n",
    "# perm_sorted_indices_15 = np.argsort(perm_15.importances_mean)[::-1] \n",
    "\n",
    "# [importances_20, perm_20] = importance(Xd_train_20, yd_train_20)\n",
    "# sorted_indices_20 = np.argsort(importances_20)[::-1] \n",
    "# perm_sorted_indices_20 = np.argsort(perm_20.importances_mean)[::-1] \n",
    "\n",
    "#Print images\n",
    "printAll = True #set to flase to show top 10 features\n",
    "\n",
    "if printAll:\n",
    "  plt.figure(figsize=(7, 5))\n",
    "  plt.title('Gini Importance of Created Features for Varying % TL')\n",
    "  plt.plot(Xd_train_5.columns[sorted_indices][0:9], importances_5[sorted_indices][0:9],'-o' )\n",
    "#   plt.plot(Xd_train_10.columns[sorted_indices], importances_10[sorted_indices], '-s')\n",
    "#   plt.plot(Xd_train_15.columns[sorted_indices], importances_15[sorted_indices], '-^' )\n",
    "#   plt.plot(Xd_train_20.columns[sorted_indices], importances_20[sorted_indices], '-v')\n",
    "  plt.axhline(y=0.10, linestyle='--')\n",
    "  plt.xticks(range(Xd_train_5.shape[1]), Xd_train_5.columns[sorted_indices], rotation=90)\n",
    "  plt.ylabel('Importance')\n",
    "  plt.grid(axis='both', color='gray', linestyle='dashed')\n",
    "  plt.legend([\"5% TL\", \"10% TL\", \"15% TL\", \"20% TL\"])\n",
    "\n",
    "  plt.figure(figsize=(7, 5))\n",
    "  plt.title('Permutation Importance of Created Features for Varying % TL')\n",
    "  plt.plot(Xd_train_5.columns[sorted_indices][0:9], perm_5.importances_mean[sorted_indices][0:9]*10,'-o' )\n",
    "#   plt.plot(Xd_train_10.columns[sorted_indices], perm_10.importances_mean[sorted_indices]*10, '-s')\n",
    "#   plt.plot(Xd_train_15.columns[sorted_indices], perm_15.importances_mean[sorted_indices]*10, '-^' )\n",
    "#   plt.plot(Xd_train_20.columns[sorted_indices], perm_20.importances_mean[sorted_indices]*10, '-v')\n",
    "  plt.axhline(y=0.07, linestyle='--')\n",
    "  plt.xticks(range(Xd_train_5.shape[1]), Xd_train_5.columns[sorted_indices], rotation=90)\n",
    "  plt.ylabel('Importance')\n",
    "  plt.grid(axis='both', color='gray', linestyle='dashed')\n",
    "  plt.legend([\"5% TL\", \"10% TL\", \"15% TL\", \"20% TL\"])\n",
    "else:\n",
    "  plt.figure(figsize=(7, 5))\n",
    "  plt.title('Top 10 Gini Important Created Features for Varying % TL')\n",
    "  plt.plot(Xd_train_5.columns[sorted_indices][0:10], importances_5[sorted_indices][0:10],'o' )\n",
    "  plt.plot(Xd_train_10.columns[sorted_indices_10][0:10], importances_10[sorted_indices_10][0:10], 's')\n",
    "  plt.plot(Xd_train_15.columns[sorted_indices_15][0:10], importances_15[sorted_indices_15][0:10], '^' )\n",
    "  plt.plot(Xd_train_20.columns[sorted_indices_20][0:10], importances_20[sorted_indices_20][0:10], 'v')\n",
    "  plt.axhline(y=0.10, linestyle='--')\n",
    "  plt.xticks(range(13), Xd_train_5.columns[sorted_indices][0:12], rotation=90)\n",
    "  plt.ylabel('Importance')\n",
    "  plt.grid(axis='both', color='gray', linestyle='dashed')\n",
    "  plt.legend([\"5% TL\", \"10% TL\", \"15% TL\", \"20% TL\"])\n",
    "\n",
    "  plt.figure(figsize=(7, 5))\n",
    "  plt.title('Top 10 Permutation Important Created Features for Varying % TL')\n",
    "  plt.plot(Xd_train_5.columns[perm_sorted_indices][0:10], perm_5.importances_mean[perm_sorted_indices][0:10]*10,'o' )\n",
    "  plt.plot(Xd_train_10.columns[perm_sorted_indices_10][0:10], perm_10.importances_mean[perm_sorted_indices_10][0:10]*10, 's')\n",
    "  plt.plot(Xd_train_15.columns[perm_sorted_indices_15][0:10], perm_15.importances_mean[perm_sorted_indices_15][0:10]*10, '^' )\n",
    "  plt.plot(Xd_train_20.columns[perm_sorted_indices_20][0:10], perm_20.importances_mean[perm_sorted_indices_20][0:10]*10, 'v')\n",
    "  plt.axhline(y=0.07, linestyle='--')\n",
    "  plt.xticks(range(13), Xd_train_5.columns[perm_sorted_indices][0:12], rotation=90)\n",
    "  plt.ylabel('Importance')\n",
    "  plt.grid(axis='both', color='gray', linestyle='dashed')\n",
    "  plt.legend([\"5% TL\", \"10% TL\", \"15% TL\", \"20% TL\"])\n"
   ]
  },
  {
   "cell_type": "code",
   "execution_count": null,
   "metadata": {
    "colab": {
     "base_uri": "https://localhost:8080/"
    },
    "id": "ZX89QNko2uDH",
    "outputId": "5f228fbe-9f78-4631-fd79-9f0fb47da7a2"
   },
   "outputs": [
    {
     "ename": "",
     "evalue": "",
     "output_type": "error",
     "traceback": [
      "\u001b[1;31mRunning cells with 'venv' requires ipykernel package.\n",
      "\u001b[1;31mRun the following command to install 'ipykernel' into the Python environment. \n",
      "\u001b[1;31mCommand: '/home/alexander/Documents/TUDelft/idmp-b/venv/bin/python -m pip install ipykernel -U --force-reinstall'"
     ]
    }
   ],
   "source": [
    "#select top 5 features for training\n",
    "Xs_train_5  = Xd_train_5.iloc[:, sorted_indices[0:5]]\n",
    "# Xs_train_10 = Xd_train_10.iloc[:,sorted_indices_10[0:5]]\n",
    "# Xs_train_15 = Xd_train_15.iloc[:,sorted_indices_15[0:5]]\n",
    "# Xs_train_20 = Xd_train_20.iloc[:,sorted_indices_20[0:5]]\n",
    "\n",
    "Xs_test_5  = Xd_test_5.iloc[:,sorted_indices[0:5]]\n",
    "# Xs_test_10 = Xd_test_10.iloc[:,sorted_indices_10[0:5]]\n",
    "# Xs_test_15 = Xd_test_15.iloc[:,sorted_indices_15[0:5]]\n",
    "# Xs_test_20 = Xd_test_20.iloc[:,sorted_indices_20[0:5]]\n",
    "\n",
    "print(\"Top 5 features:\",Xd_train_5.columns[sorted_indices][0:5])"
   ]
  },
  {
   "cell_type": "markdown",
   "metadata": {
    "id": "N4P8fHs8Yss9"
   },
   "source": [
    "# **Predictions and Evaluation**"
   ]
  },
  {
   "cell_type": "code",
   "execution_count": null,
   "metadata": {
    "id": "6VbesRDj0L8u"
   },
   "outputs": [
    {
     "ename": "",
     "evalue": "",
     "output_type": "error",
     "traceback": [
      "\u001b[1;31mRunning cells with 'venv' requires ipykernel package.\n",
      "\u001b[1;31mRun the following command to install 'ipykernel' into the Python environment. \n",
      "\u001b[1;31mCommand: '/home/alexander/Documents/TUDelft/idmp-b/venv/bin/python -m pip install ipykernel -U --force-reinstall'"
     ]
    }
   ],
   "source": [
    "def results_plt(X_train, y_train, X_test, y_test, perc_TL):\n",
    "    train_accuracy, accuracy, precision, recall, auc, f1 = {}, {}, {}, {}, {}, {}\n",
    "    figs, axs = plt.subplots(1,6,figsize=(35, 5))\n",
    "\n",
    "    for i, key in enumerate(models.keys()):\n",
    "\n",
    "        # Fit the classifier model\n",
    "        models[key].fit(X_train, y_train)\n",
    "\n",
    "        predictions = models[key].predict(X_test)\n",
    "        predictions_prob = models[key].predict_proba(X_test)[:,1]\n",
    "        train_predictions = models[key].predict(X_train)\n",
    "        # Predic  \n",
    "        # Calculate Accuracy, Precision and Recall Metrics\n",
    "        accuracy[key] = accuracy_score(predictions, y_test)\n",
    "        precision[key] = precision_score(predictions, y_test, zero_division=1)\n",
    "        recall[key] = recall_score(predictions, y_test, zero_division=1)\n",
    "        auc[key] = roc_auc_score(y_test, predictions_prob)\n",
    "        train_accuracy[key] = accuracy_score(train_predictions, y_train)\n",
    "        f1[key] = f1_score(y_test,predictions)\n",
    "        #should it be (true, pred)? yes\n",
    "\n",
    "        #To Display\n",
    "        RocCurveDisplay.from_predictions(y_test, predictions_prob, name=key , ax=axs[0])\n",
    "        axs[1].bar(key, accuracy[key]) \n",
    "        axs[2].bar(key, train_accuracy[key]) \n",
    "        axs[3].bar(key, recall[key])\n",
    "        axs[4].bar(key, precision[key])\n",
    "        axs[5].bar(key, f1[key])\n",
    "\n",
    "        axs[0].set_title(\"ROC Curve for \"+perc_TL+\"% TL\")\n",
    "        #axs[0].set_ylabel(\"Accuracy\")\n",
    "\n",
    "        axs[1].set_title(\"Test Accuracy for \"+perc_TL+\"% TL\")\n",
    "        axs[1].set_xticklabels(models.keys(),rotation=60)\n",
    "        axs[1].set_ylabel(\"Accuracy\")\n",
    "        axs[1].grid(axis='y', color='gray', linestyle='dashed')\n",
    "\n",
    "        axs[2].set_title(\"Train Accuracy for \"+perc_TL+\"% TL\")\n",
    "        axs[2].set_xticklabels(models.keys(),rotation=60)\n",
    "        axs[2].set_ylabel(\"Accuracy\")\n",
    "        axs[2].grid(axis='y', color='gray', linestyle='dashed')\n",
    "\n",
    "        axs[3].set_title(\"Recall for \"+perc_TL+\"% TL\")\n",
    "        axs[3].set_xticklabels(models.keys(),rotation=60)\n",
    "        axs[3].set_ylabel(\"Recall\")\n",
    "        axs[3].grid(axis='y', color='gray', linestyle='dashed')\n",
    "\n",
    "\n",
    "        axs[4].set_title(\"Precision \"+perc_TL+\"% TL\")\n",
    "        axs[4].set_xticklabels(models.keys(),rotation=60)\n",
    "        axs[4].set_ylabel(\"F1\")\n",
    "        axs[4].grid(axis='y', color='gray', linestyle='dashed')\n",
    "\n",
    "        axs[5].set_title(\"F1 \"+perc_TL+\"% TL\")\n",
    "        axs[5].set_xticklabels(models.keys(),rotation=60)\n",
    "        axs[5].set_ylabel(\"F1\")\n",
    "        axs[5].grid(axis='y', color='gray', linestyle='dashed')\n",
    "        figs.show()   "
   ]
  },
  {
   "cell_type": "code",
   "execution_count": null,
   "metadata": {
    "colab": {
     "base_uri": "https://localhost:8080/",
     "height": 693
    },
    "id": "2MJtiiDs3bL0",
    "outputId": "b6053268-c521-4a67-ddf6-dd72bd2330b8"
   },
   "outputs": [
    {
     "ename": "",
     "evalue": "",
     "output_type": "error",
     "traceback": [
      "\u001b[1;31mRunning cells with 'venv' requires ipykernel package.\n",
      "\u001b[1;31mRun the following command to install 'ipykernel' into the Python environment. \n",
      "\u001b[1;31mCommand: '/home/alexander/Documents/TUDelft/idmp-b/venv/bin/python -m pip install ipykernel -U --force-reinstall'"
     ]
    }
   ],
   "source": [
    "#Bar plot results  for testing and training using top 5 created features\n",
    "results_plt(X_train, y_train, X_test, y_test, \"40\")"
   ]
  },
  {
   "cell_type": "code",
   "execution_count": null,
   "metadata": {
    "id": "4nuHcJnUKAOc"
   },
   "outputs": [
    {
     "ename": "",
     "evalue": "",
     "output_type": "error",
     "traceback": [
      "\u001b[1;31mRunning cells with 'venv' requires ipykernel package.\n",
      "\u001b[1;31mRun the following command to install 'ipykernel' into the Python environment. \n",
      "\u001b[1;31mCommand: '/home/alexander/Documents/TUDelft/idmp-b/venv/bin/python -m pip install ipykernel -U --force-reinstall'"
     ]
    }
   ],
   "source": [
    "def results_line_plt(X_train, y_train, X_test, y_test, perc_TL):\n",
    "  train_accuracy, accuracy, precision, recall, auc, f1 = {}, {}, {}, {}, {}, {}\n",
    "  #figs, axs = plt.subplots(1,6,figsize=(35, 5))\n",
    "\n",
    "  for i, key in enumerate(models.keys()):\n",
    "\n",
    "          # Fit the classifier model\n",
    "          models[key].fit(X_train, y_train)\n",
    "\n",
    "          # Prediction\n",
    "          predictions = models[key].predict(X_test)\n",
    "          predictions_prob = models[key].predict_proba(X_test)[:,1]\n",
    "          train_predictions = models[key].predict(X_train)\n",
    "\n",
    "          # Calculate Accuracy, Precision and Recall Metrics\n",
    "          accuracy[key] = accuracy_score(predictions, y_test)\n",
    "          precision[key] = precision_score(predictions, y_test, zero_division=1)\n",
    "          recall[key] = recall_score(predictions, y_test, zero_division=1)\n",
    "          auc[key] = roc_auc_score(y_test, predictions_prob)\n",
    "          train_accuracy[key] = accuracy_score(train_predictions, y_train)\n",
    "          f1[key] = f1_score(y_test,predictions)\n",
    "          #should it be (true, pred)? yes\n",
    "  print(\"\\n------------------------------------------------------------------------\")\n",
    "  print(perc_TL+\"% TL train acc:\", np.round(list(train_accuracy.values()),2))\n",
    "  print(perc_TL+\"% TL test acc :\", np.round(list(accuracy.values()),2))\n",
    "  print(perc_TL+\"% TL precision:\",  np.round(list(precision.values()),2))\n",
    "  print(perc_TL+\"% TL recall   :\",  np.round(list(recall.values()),2))\n",
    "  print(perc_TL+\"% TL F1       :\",  np.round(list(f1.values()),2))\n",
    "  print(perc_TL+\"% TL ROC AUC  :\",  np.round(list(auc.values()),2))\n",
    "  print(\"------------------------------------------------------------------------\")\n",
    "  return train_accuracy, accuracy, precision, recall, auc, f1\n",
    "\n",
    "  \n"
   ]
  },
  {
   "cell_type": "code",
   "execution_count": null,
   "metadata": {
    "colab": {
     "base_uri": "https://localhost:8080/",
     "height": 1000
    },
    "id": "fS7Jmx-qKSby",
    "outputId": "f5dc40e8-c4f0-448c-9669-f6f8bfbfe918"
   },
   "outputs": [
    {
     "ename": "",
     "evalue": "",
     "output_type": "error",
     "traceback": [
      "\u001b[1;31mRunning cells with 'venv' requires ipykernel package.\n",
      "\u001b[1;31mRun the following command to install 'ipykernel' into the Python environment. \n",
      "\u001b[1;31mCommand: '/home/alexander/Documents/TUDelft/idmp-b/venv/bin/python -m pip install ipykernel -U --force-reinstall'"
     ]
    }
   ],
   "source": [
    "\n",
    "#Line plot results  for testing and training using top 5 created features\n",
    "train_accuracy_5, accuracy_5, precision_5, recall_5, auc_5, f1_5 = results_line_plt(Xs_train_5, yd_train_5, Xs_test_5, yd_test_5, \"5\")\n",
    "# train_accuracy_10, accuracy_10, precision_10, recall_10, auc_10, f1_10 = results_line_plt(Xs_train_10, yd_train_10, Xs_test_10, yd_test_10, \"10\")\n",
    "# train_accuracy_15, accuracy_15, precision_15, recall_15, auc_15, f1_15 = results_line_plt(Xs_train_15, yd_train_15, Xs_test_15, yd_test_15, \"15\")\n",
    "# train_accuracy_20, accuracy_20, precision_20, recall_20, auc_20, f1_20 = results_line_plt(Xs_train_20, yd_train_20, Xs_test_20, yd_test_20, \"20\")\n",
    "\n",
    "plt.figure(figsize=(7, 5))\n",
    "plt.title(\"Testing Accuracy for Varying %TL\")\n",
    "plt.plot(list(accuracy_5.keys()), list(accuracy_5.values()), '-o') \n",
    "# plt.plot(list(accuracy_10.keys()), list(accuracy_10.values()), '-s') \n",
    "# plt.plot(list(accuracy_15.keys()), list(accuracy_15.values()), '-^') \n",
    "# plt.plot(list(accuracy_20.keys()), list(accuracy_20.values()), '-v') \n",
    "plt.axhline(y=1, linestyle='--')\n",
    "plt.xticks(range(len(models)), models.keys(),rotation=60)\n",
    "plt.ylabel('Accuracy')\n",
    "plt.grid(axis='both', color='gray', linestyle='dashed')\n",
    "plt.legend([\"5% TL\"]) #, \"10% TL\", \"15% TL\", \"20% TL\"])\n",
    "\n",
    "plt.figure(figsize=(7, 5))\n",
    "plt.title(\"Training Accuracy for Varying %TL\")\n",
    "plt.plot(list(train_accuracy_5.keys()), list(train_accuracy_5.values()),'-o') \n",
    "# plt.plot(list(train_accuracy_10.keys()), list(train_accuracy_10.values()), '-s') \n",
    "# plt.plot(list(train_accuracy_15.keys()), list(train_accuracy_15.values()), '-^') \n",
    "# plt.plot(list(train_accuracy_20.keys()), list(train_accuracy_20.values()), '-v') \n",
    "plt.axhline(y=1, linestyle='--')\n",
    "plt.xticks(range(len(models)), models.keys(),rotation=60)\n",
    "plt.ylabel('Accuracy')\n",
    "plt.grid(axis='both', color='gray', linestyle='dashed')\n",
    "plt.legend([\"5% TL\"]) #, \"10% TL\", \"15% TL\", \"20% TL\"])\n",
    "\n",
    "plt.figure(figsize=(7, 5))\n",
    "plt.title(\"F1 score for Varying %TL\")\n",
    "plt.plot(list(f1_5.keys()), list(f1_5.values()),'-o') \n",
    "# plt.plot(list(f1_10.keys()), list(f1_10.values()), '-s') \n",
    "# plt.plot(list(f1_15.keys()), list(f1_15.values()), '-^') \n",
    "# plt.plot(list(f1_20.keys()), list(f1_20.values()), '-v') \n",
    "plt.axhline(y=1, linestyle='--')\n",
    "plt.xticks(range(len(models)), models.keys(),rotation=60)\n",
    "plt.ylabel('F1')\n",
    "plt.grid(axis='both', color='gray', linestyle='dashed')\n",
    "plt.legend([\"5% TL\"]) #, \"10% TL\", \"15% TL\", \"20% TL\"])\n",
    "\n",
    "plt.show() "
   ]
  },
  {
   "cell_type": "code",
   "execution_count": null,
   "metadata": {
    "colab": {
     "base_uri": "https://localhost:8080/",
     "height": 622
    },
    "id": "RMqT6Bjxsk13",
    "outputId": "e571f90e-2171-46b2-c695-ee3097f467f0"
   },
   "outputs": [
    {
     "ename": "",
     "evalue": "",
     "output_type": "error",
     "traceback": [
      "\u001b[1;31mRunning cells with 'venv' requires ipykernel package.\n",
      "\u001b[1;31mRun the following command to install 'ipykernel' into the Python environment. \n",
      "\u001b[1;31mCommand: '/home/alexander/Documents/TUDelft/idmp-b/venv/bin/python -m pip install ipykernel -U --force-reinstall'"
     ]
    }
   ],
   "source": []
  },
  {
   "cell_type": "code",
   "execution_count": null,
   "metadata": {
    "id": "cy-3klfLsk14"
   },
   "outputs": [
    {
     "ename": "",
     "evalue": "",
     "output_type": "error",
     "traceback": [
      "\u001b[1;31mRunning cells with 'venv' requires ipykernel package.\n",
      "\u001b[1;31mRun the following command to install 'ipykernel' into the Python environment. \n",
      "\u001b[1;31mCommand: '/home/alexander/Documents/TUDelft/idmp-b/venv/bin/python -m pip install ipykernel -U --force-reinstall'"
     ]
    }
   ],
   "source": [
    "from sklearn.metrics import confusion_matrix\n",
    "from sklearn.metrics import plot_confusion_matrix\n",
    "#confusion_matrix(y_test_5,predictions)\n",
    "plot_confusion_matrix(rf_reg, X_test_20, y_test_20)"
   ]
  },
  {
   "cell_type": "code",
   "execution_count": null,
   "metadata": {
    "id": "mgTPoTw7sk14"
   },
   "outputs": [
    {
     "ename": "",
     "evalue": "",
     "output_type": "error",
     "traceback": [
      "\u001b[1;31mRunning cells with 'venv' requires ipykernel package.\n",
      "\u001b[1;31mRun the following command to install 'ipykernel' into the Python environment. \n",
      "\u001b[1;31mCommand: '/home/alexander/Documents/TUDelft/idmp-b/venv/bin/python -m pip install ipykernel -U --force-reinstall'"
     ]
    }
   ],
   "source": [
    "df_20.describe()"
   ]
  },
  {
   "cell_type": "code",
   "execution_count": null,
   "metadata": {
    "id": "2P1rWHWOsk15"
   },
   "outputs": [
    {
     "ename": "",
     "evalue": "",
     "output_type": "error",
     "traceback": [
      "\u001b[1;31mRunning cells with 'venv' requires ipykernel package.\n",
      "\u001b[1;31mRun the following command to install 'ipykernel' into the Python environment. \n",
      "\u001b[1;31mCommand: '/home/alexander/Documents/TUDelft/idmp-b/venv/bin/python -m pip install ipykernel -U --force-reinstall'"
     ]
    }
   ],
   "source": [
    "from sklearn.model_selection import StratifiedKFold\n",
    "from sklearn.pipeline import make_pipeline\n",
    "from sklearn.preprocessing import StandardScaler\n",
    "\n",
    "from sklearn.model_selection import cross_val_score\n",
    "\n",
    "rf = RandomForestClassifier(min_samples_leaf = 5)\n",
    "scores = cross_val_score(rf, df_20.drop('solved_within_time_limit', axis=1), df_20['solved_within_time_limit'], cv=5, scoring='f1')\n",
    "scores"
   ]
  },
  {
   "cell_type": "code",
   "execution_count": null,
   "metadata": {
    "id": "Tca5kt3fsk15"
   },
   "outputs": [
    {
     "ename": "",
     "evalue": "",
     "output_type": "error",
     "traceback": [
      "\u001b[1;31mRunning cells with 'venv' requires ipykernel package.\n",
      "\u001b[1;31mRun the following command to install 'ipykernel' into the Python environment. \n",
      "\u001b[1;31mCommand: '/home/alexander/Documents/TUDelft/idmp-b/venv/bin/python -m pip install ipykernel -U --force-reinstall'"
     ]
    }
   ],
   "source": [
    "from sklearn.model_selection import cross_val_score, StratifiedKFold\n",
    "from sklearn.metrics import f1_score\n",
    "\n",
    "skf = StratifiedKFold(n_splits=5, shuffle=True)\n",
    "X = df_20.drop('solved_within_time_limit', axis=1)\n",
    "y = df_20['solved_within_time_limit']\n",
    "for train, test in skf.split(X, y):\n",
    "    rf = RandomForestClassifier(min_samples_leaf = 5)\n",
    "    rf.fit(X.iloc[train], y.iloc[train])\n",
    "    pred = rf.predict(X.iloc[test])\n",
    "    print(len(y.iloc[test][y == 1]))\n",
    "    print(f1_score(y.iloc[test], pred))\n",
    "    plot_confusion_matrix(rf, X.iloc[test], y.iloc[test])"
   ]
  },
  {
   "cell_type": "code",
   "execution_count": null,
   "metadata": {
    "id": "1eXMMZgUsk16"
   },
   "outputs": [
    {
     "ename": "",
     "evalue": "",
     "output_type": "error",
     "traceback": [
      "\u001b[1;31mRunning cells with 'venv' requires ipykernel package.\n",
      "\u001b[1;31mRun the following command to install 'ipykernel' into the Python environment. \n",
      "\u001b[1;31mCommand: '/home/alexander/Documents/TUDelft/idmp-b/venv/bin/python -m pip install ipykernel -U --force-reinstall'"
     ]
    }
   ],
   "source": []
  }
 ],
 "metadata": {
  "@webio": {
   "lastCommId": null,
   "lastKernelId": null
  },
  "colab": {
   "collapsed_sections": [],
   "name": "Analysis.ipynb",
   "provenance": []
  },
  "kernelspec": {
   "display_name": "venv",
   "language": "python",
   "name": "python3"
  },
  "language_info": {
   "codemirror_mode": {
    "name": "ipython",
    "version": 3
   },
   "file_extension": ".py",
   "mimetype": "text/x-python",
   "name": "python",
   "nbconvert_exporter": "python",
   "pygments_lexer": "ipython3",
   "version": "3.10.8"
  },
  "vscode": {
   "interpreter": {
    "hash": "3b62da81344b1808a85f9812aba2052d790418480b5d27f9bfc1178374277784"
   }
  }
 },
 "nbformat": 4,
 "nbformat_minor": 1
}
