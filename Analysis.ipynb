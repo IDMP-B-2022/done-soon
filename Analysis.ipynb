{
 "cells": [
  {
   "cell_type": "markdown",
   "metadata": {},
   "source": [
    "# Done Soon? Data Analysis"
   ]
  },
  {
   "cell_type": "markdown",
   "metadata": {
    "id": "QA2OwOc1X3Fw"
   },
   "source": [
    "## Import Libraries"
   ]
  },
  {
   "cell_type": "code",
   "execution_count": 1,
   "metadata": {
    "id": "QtKgh08BzA8s"
   },
   "outputs": [],
   "source": [
    "import random\n",
    "import sqlite3\n",
    "import numpy as np\n",
    "import pandas as pd\n",
    "import seaborn as sns\n",
    "import matplotlib.pyplot as plt\n",
    "from sklearn.model_selection import train_test_split\n",
    "from sklearn.metrics import accuracy_score, precision_score, recall_score, roc_auc_score, RocCurveDisplay\n",
    "from sklearn.preprocessing import MaxAbsScaler\n",
    "from sklearn.inspection import permutation_importance\n",
    "from sklearn.metrics import f1_score\n",
    "import pymongo\n",
    "import plotly.express as px\n",
    "from tqdm.notebook import tqdm\n",
    "import multiprocessing as mp"
   ]
  },
  {
   "cell_type": "markdown",
   "metadata": {},
   "source": [
    "## Get Data - Mongodb"
   ]
  },
  {
   "cell_type": "code",
   "execution_count": 2,
   "metadata": {},
   "outputs": [
    {
     "name": "stdout",
     "output_type": "stream",
     "text": [
      "Unsolved: 788\n",
      "Solved after lower bound: 595\n",
      "Solved before lower bound: 13485\n"
     ]
    },
    {
     "data": {
      "text/plain": [
       "17     56\n",
       "19     55\n",
       "24     54\n",
       "27     54\n",
       "25     50\n",
       "       ..\n",
       "104     1\n",
       "129     1\n",
       "158     1\n",
       "70      1\n",
       "161     1\n",
       "Name: statistics, Length: 128, dtype: int64"
      ]
     },
     "execution_count": 2,
     "metadata": {},
     "output_type": "execute_result"
    }
   ],
   "source": [
    "conn_str = f\"mongodb://localhost\"\n",
    "mongo_client = pymongo.MongoClient(conn_str, port=27017)\n",
    "\n",
    "#all data\n",
    "all_data = pd.DataFrame(mongo_client.done_soon.problems.find({}))\n",
    "all_data = all_data[all_data['error'] !=True ]\n",
    "#manual filtering (1hour)\n",
    "timeout_after_hour = all_data[all_data.time_to_solution > 7199 * 1000] #>2hours\n",
    "finishes_before_lower_bound = all_data[all_data.time_to_solution < 30 * 1000] #<30 sec\n",
    "finishes_after_lower_bound = all_data[all_data.time_to_solution > 30 * 1000] #>30 sec\n",
    "\n",
    "#print result filtering / Sanity check\n",
    "print(f\"Unsolved: {len(timeout_after_hour)}\")\n",
    "print(f\"Solved after lower bound: {len(finishes_after_lower_bound) - len(timeout_after_hour)}\")\n",
    "print(f\"Solved before lower bound: {len(finishes_before_lower_bound)}\")\n",
    "\n",
    "#number of values of len of stats\n",
    "finishes_after_lower_bound.statistics.map(len).value_counts()"
   ]
  },
  {
   "cell_type": "code",
   "execution_count": 3,
   "metadata": {},
   "outputs": [
    {
     "data": {
      "text/html": [
       "<div>\n",
       "<style scoped>\n",
       "    .dataframe tbody tr th:only-of-type {\n",
       "        vertical-align: middle;\n",
       "    }\n",
       "\n",
       "    .dataframe tbody tr th {\n",
       "        vertical-align: top;\n",
       "    }\n",
       "\n",
       "    .dataframe thead th {\n",
       "        text-align: right;\n",
       "    }\n",
       "</style>\n",
       "<table border=\"1\" class=\"dataframe\">\n",
       "  <thead>\n",
       "    <tr style=\"text-align: right;\">\n",
       "      <th></th>\n",
       "      <th>_id</th>\n",
       "      <th>mzn</th>\n",
       "      <th>dzn</th>\n",
       "      <th>generated_features</th>\n",
       "      <th>generated_label</th>\n",
       "      <th>claimed_features_generation</th>\n",
       "      <th>claimed_label_generation</th>\n",
       "      <th>type</th>\n",
       "      <th>time_to_solution</th>\n",
       "      <th>time_limit</th>\n",
       "      <th>solved</th>\n",
       "      <th>statistics</th>\n",
       "      <th>error</th>\n",
       "      <th>was_error</th>\n",
       "    </tr>\n",
       "  </thead>\n",
       "  <tbody>\n",
       "    <tr>\n",
       "      <th>2</th>\n",
       "      <td>63481481fdd73d481158c785</td>\n",
       "      <td>pattern-set-mining/pattern_set_mining_k1.mzn</td>\n",
       "      <td>pattern-set-mining/data/kr-vs-kp.dzn</td>\n",
       "      <td>True</td>\n",
       "      <td>True</td>\n",
       "      <td>True</td>\n",
       "      <td>True</td>\n",
       "      <td>SAT</td>\n",
       "      <td>7208604.0</td>\n",
       "      <td>72000000.0</td>\n",
       "      <td>True</td>\n",
       "      <td>[{'percent': 1.0836111111111111e-09, 'features...</td>\n",
       "      <td>NaN</td>\n",
       "      <td>NaN</td>\n",
       "    </tr>\n",
       "    <tr>\n",
       "      <th>3</th>\n",
       "      <td>63481481fdd73d481158c787</td>\n",
       "      <td>pattern-set-mining/pattern_set_mining_k1.mzn</td>\n",
       "      <td>pattern-set-mining/data/vowel.dzn</td>\n",
       "      <td>True</td>\n",
       "      <td>True</td>\n",
       "      <td>True</td>\n",
       "      <td>True</td>\n",
       "      <td>OPT</td>\n",
       "      <td>949327.0</td>\n",
       "      <td>72000000.0</td>\n",
       "      <td>True</td>\n",
       "      <td>[{'percent': 1.356388888888889e-09, 'features'...</td>\n",
       "      <td>NaN</td>\n",
       "      <td>NaN</td>\n",
       "    </tr>\n",
       "    <tr>\n",
       "      <th>5</th>\n",
       "      <td>63481481fdd73d481158c78b</td>\n",
       "      <td>rcpsp-wet/rcpsp-wet.mzn</td>\n",
       "      <td>rcpsp-wet/data/j90_48_4-wet.dzn</td>\n",
       "      <td>True</td>\n",
       "      <td>True</td>\n",
       "      <td>True</td>\n",
       "      <td>True</td>\n",
       "      <td>SAT</td>\n",
       "      <td>7200267.0</td>\n",
       "      <td>72000000.0</td>\n",
       "      <td>True</td>\n",
       "      <td>[{'percent': 1.5972222222222224e-11, 'features...</td>\n",
       "      <td>NaN</td>\n",
       "      <td>NaN</td>\n",
       "    </tr>\n",
       "    <tr>\n",
       "      <th>6</th>\n",
       "      <td>63481481fdd73d481158c790</td>\n",
       "      <td>rcpsp-wet/rcpsp-wet.mzn</td>\n",
       "      <td>rcpsp-wet/data/j30_35_9-wet.dzn</td>\n",
       "      <td>True</td>\n",
       "      <td>True</td>\n",
       "      <td>True</td>\n",
       "      <td>True</td>\n",
       "      <td>OPT</td>\n",
       "      <td>796.0</td>\n",
       "      <td>72000000.0</td>\n",
       "      <td>True</td>\n",
       "      <td>[{'percent': 7.083333333333333e-12, 'features'...</td>\n",
       "      <td>NaN</td>\n",
       "      <td>NaN</td>\n",
       "    </tr>\n",
       "    <tr>\n",
       "      <th>7</th>\n",
       "      <td>63481481fdd73d481158c791</td>\n",
       "      <td>rcpsp-wet/rcpsp-wet.mzn</td>\n",
       "      <td>rcpsp-wet/data/j30_43_10-wet.dzn</td>\n",
       "      <td>True</td>\n",
       "      <td>True</td>\n",
       "      <td>True</td>\n",
       "      <td>True</td>\n",
       "      <td>OPT</td>\n",
       "      <td>59182.0</td>\n",
       "      <td>72000000.0</td>\n",
       "      <td>True</td>\n",
       "      <td>[{'percent': 5.6944444444444444e-12, 'features...</td>\n",
       "      <td>NaN</td>\n",
       "      <td>NaN</td>\n",
       "    </tr>\n",
       "    <tr>\n",
       "      <th>...</th>\n",
       "      <td>...</td>\n",
       "      <td>...</td>\n",
       "      <td>...</td>\n",
       "      <td>...</td>\n",
       "      <td>...</td>\n",
       "      <td>...</td>\n",
       "      <td>...</td>\n",
       "      <td>...</td>\n",
       "      <td>...</td>\n",
       "      <td>...</td>\n",
       "      <td>...</td>\n",
       "      <td>...</td>\n",
       "      <td>...</td>\n",
       "      <td>...</td>\n",
       "    </tr>\n",
       "    <tr>\n",
       "      <th>17109</th>\n",
       "      <td>63481489fdd73d4811590465</td>\n",
       "      <td>2DBinPacking/2DLevelPacking.mzn</td>\n",
       "      <td>2DBinPacking/data/Class9_80_4.dzn</td>\n",
       "      <td>True</td>\n",
       "      <td>True</td>\n",
       "      <td>True</td>\n",
       "      <td>True</td>\n",
       "      <td>OPT</td>\n",
       "      <td>1411685.0</td>\n",
       "      <td>72000000.0</td>\n",
       "      <td>True</td>\n",
       "      <td>[{'percent': 3.363888888888889e-10, 'features'...</td>\n",
       "      <td>NaN</td>\n",
       "      <td>NaN</td>\n",
       "    </tr>\n",
       "    <tr>\n",
       "      <th>17110</th>\n",
       "      <td>63481489fdd73d4811590466</td>\n",
       "      <td>2DBinPacking/2DLevelPacking.mzn</td>\n",
       "      <td>2DBinPacking/data/Class4_20_4.dzn</td>\n",
       "      <td>True</td>\n",
       "      <td>True</td>\n",
       "      <td>True</td>\n",
       "      <td>True</td>\n",
       "      <td>OPT</td>\n",
       "      <td>17042.0</td>\n",
       "      <td>72000000.0</td>\n",
       "      <td>True</td>\n",
       "      <td>[{'percent': 1.636111111111111e-10, 'features'...</td>\n",
       "      <td>NaN</td>\n",
       "      <td>NaN</td>\n",
       "    </tr>\n",
       "    <tr>\n",
       "      <th>17111</th>\n",
       "      <td>63481489fdd73d4811590467</td>\n",
       "      <td>2DBinPacking/2DLevelPacking.mzn</td>\n",
       "      <td>2DBinPacking/data/Class8_20_7.dzn</td>\n",
       "      <td>True</td>\n",
       "      <td>True</td>\n",
       "      <td>True</td>\n",
       "      <td>True</td>\n",
       "      <td>OPT</td>\n",
       "      <td>111.0</td>\n",
       "      <td>72000000.0</td>\n",
       "      <td>True</td>\n",
       "      <td>[{'percent': 1.1319444444444445e-10, 'features...</td>\n",
       "      <td>NaN</td>\n",
       "      <td>NaN</td>\n",
       "    </tr>\n",
       "    <tr>\n",
       "      <th>17112</th>\n",
       "      <td>63481489fdd73d4811590468</td>\n",
       "      <td>2DBinPacking/2DLevelPacking.mzn</td>\n",
       "      <td>2DBinPacking/data/Class5_100_8.dzn</td>\n",
       "      <td>True</td>\n",
       "      <td>True</td>\n",
       "      <td>True</td>\n",
       "      <td>True</td>\n",
       "      <td>None</td>\n",
       "      <td>NaN</td>\n",
       "      <td>72000000.0</td>\n",
       "      <td>False</td>\n",
       "      <td>[{'percent': 2.323611111111111e-10, 'features'...</td>\n",
       "      <td>NaN</td>\n",
       "      <td>NaN</td>\n",
       "    </tr>\n",
       "    <tr>\n",
       "      <th>17113</th>\n",
       "      <td>63481489fdd73d4811590469</td>\n",
       "      <td>2DBinPacking/2DLevelPacking.mzn</td>\n",
       "      <td>2DBinPacking/data/Class5_100_5.dzn</td>\n",
       "      <td>True</td>\n",
       "      <td>True</td>\n",
       "      <td>True</td>\n",
       "      <td>True</td>\n",
       "      <td>None</td>\n",
       "      <td>NaN</td>\n",
       "      <td>72000000.0</td>\n",
       "      <td>False</td>\n",
       "      <td>[{'percent': 4.1930555555555556e-10, 'features...</td>\n",
       "      <td>NaN</td>\n",
       "      <td>NaN</td>\n",
       "    </tr>\n",
       "  </tbody>\n",
       "</table>\n",
       "<p>16913 rows × 14 columns</p>\n",
       "</div>"
      ],
      "text/plain": [
       "                            _id                                           mzn  \\\n",
       "2      63481481fdd73d481158c785  pattern-set-mining/pattern_set_mining_k1.mzn   \n",
       "3      63481481fdd73d481158c787  pattern-set-mining/pattern_set_mining_k1.mzn   \n",
       "5      63481481fdd73d481158c78b                       rcpsp-wet/rcpsp-wet.mzn   \n",
       "6      63481481fdd73d481158c790                       rcpsp-wet/rcpsp-wet.mzn   \n",
       "7      63481481fdd73d481158c791                       rcpsp-wet/rcpsp-wet.mzn   \n",
       "...                         ...                                           ...   \n",
       "17109  63481489fdd73d4811590465               2DBinPacking/2DLevelPacking.mzn   \n",
       "17110  63481489fdd73d4811590466               2DBinPacking/2DLevelPacking.mzn   \n",
       "17111  63481489fdd73d4811590467               2DBinPacking/2DLevelPacking.mzn   \n",
       "17112  63481489fdd73d4811590468               2DBinPacking/2DLevelPacking.mzn   \n",
       "17113  63481489fdd73d4811590469               2DBinPacking/2DLevelPacking.mzn   \n",
       "\n",
       "                                        dzn  generated_features  \\\n",
       "2      pattern-set-mining/data/kr-vs-kp.dzn                True   \n",
       "3         pattern-set-mining/data/vowel.dzn                True   \n",
       "5           rcpsp-wet/data/j90_48_4-wet.dzn                True   \n",
       "6           rcpsp-wet/data/j30_35_9-wet.dzn                True   \n",
       "7          rcpsp-wet/data/j30_43_10-wet.dzn                True   \n",
       "...                                     ...                 ...   \n",
       "17109     2DBinPacking/data/Class9_80_4.dzn                True   \n",
       "17110     2DBinPacking/data/Class4_20_4.dzn                True   \n",
       "17111     2DBinPacking/data/Class8_20_7.dzn                True   \n",
       "17112    2DBinPacking/data/Class5_100_8.dzn                True   \n",
       "17113    2DBinPacking/data/Class5_100_5.dzn                True   \n",
       "\n",
       "       generated_label  claimed_features_generation  claimed_label_generation  \\\n",
       "2                 True                         True                      True   \n",
       "3                 True                         True                      True   \n",
       "5                 True                         True                      True   \n",
       "6                 True                         True                      True   \n",
       "7                 True                         True                      True   \n",
       "...                ...                          ...                       ...   \n",
       "17109             True                         True                      True   \n",
       "17110             True                         True                      True   \n",
       "17111             True                         True                      True   \n",
       "17112             True                         True                      True   \n",
       "17113             True                         True                      True   \n",
       "\n",
       "       type  time_to_solution  time_limit  solved  \\\n",
       "2       SAT         7208604.0  72000000.0    True   \n",
       "3       OPT          949327.0  72000000.0    True   \n",
       "5       SAT         7200267.0  72000000.0    True   \n",
       "6       OPT             796.0  72000000.0    True   \n",
       "7       OPT           59182.0  72000000.0    True   \n",
       "...     ...               ...         ...     ...   \n",
       "17109   OPT         1411685.0  72000000.0    True   \n",
       "17110   OPT           17042.0  72000000.0    True   \n",
       "17111   OPT             111.0  72000000.0    True   \n",
       "17112  None               NaN  72000000.0   False   \n",
       "17113  None               NaN  72000000.0   False   \n",
       "\n",
       "                                              statistics error was_error  \n",
       "2      [{'percent': 1.0836111111111111e-09, 'features...   NaN       NaN  \n",
       "3      [{'percent': 1.356388888888889e-09, 'features'...   NaN       NaN  \n",
       "5      [{'percent': 1.5972222222222224e-11, 'features...   NaN       NaN  \n",
       "6      [{'percent': 7.083333333333333e-12, 'features'...   NaN       NaN  \n",
       "7      [{'percent': 5.6944444444444444e-12, 'features...   NaN       NaN  \n",
       "...                                                  ...   ...       ...  \n",
       "17109  [{'percent': 3.363888888888889e-10, 'features'...   NaN       NaN  \n",
       "17110  [{'percent': 1.636111111111111e-10, 'features'...   NaN       NaN  \n",
       "17111  [{'percent': 1.1319444444444445e-10, 'features...   NaN       NaN  \n",
       "17112  [{'percent': 2.323611111111111e-10, 'features'...   NaN       NaN  \n",
       "17113  [{'percent': 4.1930555555555556e-10, 'features...   NaN       NaN  \n",
       "\n",
       "[16913 rows x 14 columns]"
      ]
     },
     "execution_count": 3,
     "metadata": {},
     "output_type": "execute_result"
    }
   ],
   "source": [
    "all_data"
   ]
  },
  {
   "cell_type": "code",
   "execution_count": 4,
   "metadata": {},
   "outputs": [
    {
     "data": {
      "text/plain": [
       "2045"
      ]
     },
     "execution_count": 4,
     "metadata": {},
     "output_type": "execute_result"
    }
   ],
   "source": [
    "all_data['time_to_solution'].isna().sum()"
   ]
  },
  {
   "cell_type": "code",
   "execution_count": 5,
   "metadata": {},
   "outputs": [
    {
     "data": {
      "text/plain": [
       "[<matplotlib.lines.Line2D at 0x7eff3e1b6c20>]"
      ]
     },
     "execution_count": 5,
     "metadata": {},
     "output_type": "execute_result"
    },
    {
     "data": {
      "image/png": "[encoded data removed]",
      "text/plain": [
       "<Figure size 640x480 with 1 Axes>"
      ]
     },
     "metadata": {},
     "output_type": "display_data"
    }
   ],
   "source": [
    "plt.plot(all_data['time_to_solution'])\n",
    "\n"
   ]
  },
  {
   "cell_type": "code",
   "execution_count": 6,
   "metadata": {},
   "outputs": [],
   "source": [
    "#test\n",
    "#finishes_after_lower_bound.statistics[1]"
   ]
  },
  {
   "cell_type": "code",
   "execution_count": 7,
   "metadata": {},
   "outputs": [],
   "source": [
    "def cleanup(df):\n",
    "    del df[\"decision_level_sat\"]\n",
    "    del df[\"ewma_decision_level_mip\"]\n",
    "    del df[\"decision_level_mip\"]\n",
    "    del df[\"best_objective\"]\n",
    "    #df[\"unassnVar\"]   = (2**df['vars']) - df['opennodes']\n",
    "    #df[\"fracFailUnassn\"]     = df['conflicts'] / df['unassnVar']         # num failures/ num open nodes\n",
    "    df[\"fracOpenVisit\"]  = (df['vars'] - df['opennodes']) / df['opennodes']       # ratio of open nodes to visited nodes (how much of soln space explored)\n",
    "    df[\"fracBoolVars\"]     = df['boolVars'] / df['vars']                 # num bools / total num of vars\n",
    "    df[\"fracPropVars\"]     = df['propagations'] / df['vars']        # num propagations/ total num of vars\n",
    "    #df[\"frac_unassigned\"] = df['unassnVar'] / df['vars']  # current assignments/ total vars\n",
    "    #df[\"fracLongClauses\"] = df['long'] / (df['long'] + df['bin'] + df['tern'])         # fraction of learnt clauses that have more than 3 literals\n",
    "    df[\"freqBackjumps\"]  = df['back_jumps']/df['search_time']\n",
    "    return df"
   ]
  },
  {
   "cell_type": "code",
   "execution_count": 8,
   "metadata": {},
   "outputs": [],
   "source": [
    "def gradients(df_prev, df_curr):\n",
    "    keys=['conflicts','ewma_conflicts','decisions','search_iterations','opennodes','ewma_opennodes',\n",
    "          'vars','back_jumps','ewma_back_jumps','solutions','total_time','search_time','intVars',\n",
    "          'propagations','sat_propagations','ewma_propagations','propagators','boolVars','learnt',\n",
    "          'bin','tern','long','peak_depth','decision_level_engine','ewma_decision_level_engine',\n",
    "          'decision_level_treesize','clause_mem','prop_mem','ewma_best_objective',\n",
    "          'fracOpenVisit','fracBoolVars','fracPropVars','freqBackjumps']\n",
    "    for i in keys:\n",
    "        df_curr[i+'_gradient']=(df_curr[i]-df_prev[i])/0.05*7200\n",
    "    return df_curr"
   ]
  },
  {
   "cell_type": "code",
   "execution_count": 9,
   "metadata": {},
   "outputs": [
    {
     "data": {
      "application/vnd.jupyter.widget-view+json": {
       "model_id": "20a336aa55e64589a4a1e5933c3db1e5",
       "version_major": 2,
       "version_minor": 0
      },
      "text/plain": [
       "  0%|          | 0/99 [00:00<?, ?it/s]"
      ]
     },
     "metadata": {},
     "output_type": "display_data"
    }
   ],
   "source": [
    "features_at_percent = {}\n",
    "for i in tqdm(range(1, 100)):\n",
    "    df_i=[]\n",
    "    for id, problem in all_data.iterrows():\n",
    "        for index, p in enumerate(problem.statistics):\n",
    "            if index == i:\n",
    "                new_p = dict(p['features'])\n",
    "                new_p=cleanup(new_p)\n",
    "                if i!=1:\n",
    "                    new_p=gradients(df_prev.loc[id], new_p)\n",
    "                new_p['mzn'] = problem['mzn']\n",
    "                new_p['dzn'] = problem['dzn']\n",
    "                new_p['solved_within_time_limit'] = problem['time_to_solution'] < 7199 * 1000 \\\n",
    "                or np.logical_not(np.isnan(problem['time_to_solution']))\n",
    "                df_i.append((id, new_p))\n",
    "    df_i = pd.DataFrame([a[1] for a in df_i], index=[a[0] for a in df_i])\n",
    "    df_i=df_i.fillna(value = 0)\n",
    "    if i!=0:   \n",
    "        features_at_percent[i]=df_i\n",
    "    df_prev=df_i"
   ]
  },
  {
   "cell_type": "code",
   "execution_count": 10,
   "metadata": {},
   "outputs": [],
   "source": [
    "nans=features_at_percent[20].isna().sum().to_numpy().nonzero()"
   ]
  },
  {
   "cell_type": "code",
   "execution_count": 11,
   "metadata": {},
   "outputs": [
    {
     "data": {
      "text/plain": [
       "Index([], dtype='object')"
      ]
     },
     "execution_count": 11,
     "metadata": {},
     "output_type": "execute_result"
    }
   ],
   "source": [
    "features_at_percent[20].keys()[nans]"
   ]
  },
  {
   "cell_type": "code",
   "execution_count": 12,
   "metadata": {},
   "outputs": [
    {
     "data": {
      "text/html": [
       "<div>\n",
       "<style scoped>\n",
       "    .dataframe tbody tr th:only-of-type {\n",
       "        vertical-align: middle;\n",
       "    }\n",
       "\n",
       "    .dataframe tbody tr th {\n",
       "        vertical-align: top;\n",
       "    }\n",
       "\n",
       "    .dataframe thead th {\n",
       "        text-align: right;\n",
       "    }\n",
       "</style>\n",
       "<table border=\"1\" class=\"dataframe\">\n",
       "  <thead>\n",
       "    <tr style=\"text-align: right;\">\n",
       "      <th></th>\n",
       "      <th>conflicts</th>\n",
       "      <th>ewma_conflicts</th>\n",
       "      <th>decisions</th>\n",
       "      <th>search_iterations</th>\n",
       "      <th>opennodes</th>\n",
       "      <th>ewma_opennodes</th>\n",
       "      <th>vars</th>\n",
       "      <th>back_jumps</th>\n",
       "      <th>ewma_back_jumps</th>\n",
       "      <th>solutions</th>\n",
       "      <th>...</th>\n",
       "      <th>clause_mem_gradient</th>\n",
       "      <th>prop_mem_gradient</th>\n",
       "      <th>ewma_best_objective_gradient</th>\n",
       "      <th>fracOpenVisit_gradient</th>\n",
       "      <th>fracBoolVars_gradient</th>\n",
       "      <th>fracPropVars_gradient</th>\n",
       "      <th>freqBackjumps_gradient</th>\n",
       "      <th>mzn</th>\n",
       "      <th>dzn</th>\n",
       "      <th>solved_within_time_limit</th>\n",
       "    </tr>\n",
       "  </thead>\n",
       "  <tbody>\n",
       "    <tr>\n",
       "      <th>2</th>\n",
       "      <td>37189</td>\n",
       "      <td>37170.0</td>\n",
       "      <td>38523</td>\n",
       "      <td>17597</td>\n",
       "      <td>35996</td>\n",
       "      <td>35996.24</td>\n",
       "      <td>36007</td>\n",
       "      <td>58</td>\n",
       "      <td>0.00</td>\n",
       "      <td>140</td>\n",
       "      <td>...</td>\n",
       "      <td>0.0</td>\n",
       "      <td>0.0</td>\n",
       "      <td>0.0</td>\n",
       "      <td>-4.001778</td>\n",
       "      <td>0.000000</td>\n",
       "      <td>8.223683e+07</td>\n",
       "      <td>-4.001295e+02</td>\n",
       "      <td>pattern-set-mining/pattern_set_mining_k1.mzn</td>\n",
       "      <td>pattern-set-mining/data/kr-vs-kp.dzn</td>\n",
       "      <td>True</td>\n",
       "    </tr>\n",
       "    <tr>\n",
       "      <th>3</th>\n",
       "      <td>255860</td>\n",
       "      <td>255841.0</td>\n",
       "      <td>257909</td>\n",
       "      <td>253015</td>\n",
       "      <td>10469</td>\n",
       "      <td>10468.80</td>\n",
       "      <td>10479</td>\n",
       "      <td>1792</td>\n",
       "      <td>0.00</td>\n",
       "      <td>36</td>\n",
       "      <td>...</td>\n",
       "      <td>0.0</td>\n",
       "      <td>0.0</td>\n",
       "      <td>0.0</td>\n",
       "      <td>27.530809</td>\n",
       "      <td>0.000000</td>\n",
       "      <td>6.163339e+08</td>\n",
       "      <td>-1.780986e+04</td>\n",
       "      <td>pattern-set-mining/pattern_set_mining_k1.mzn</td>\n",
       "      <td>pattern-set-mining/data/vowel.dzn</td>\n",
       "      <td>True</td>\n",
       "    </tr>\n",
       "    <tr>\n",
       "      <th>5</th>\n",
       "      <td>555712</td>\n",
       "      <td>555693.0</td>\n",
       "      <td>1148659</td>\n",
       "      <td>341488</td>\n",
       "      <td>73964</td>\n",
       "      <td>73961.55</td>\n",
       "      <td>74036</td>\n",
       "      <td>554481</td>\n",
       "      <td>2.70</td>\n",
       "      <td>456</td>\n",
       "      <td>...</td>\n",
       "      <td>0.0</td>\n",
       "      <td>0.0</td>\n",
       "      <td>0.0</td>\n",
       "      <td>3.897471</td>\n",
       "      <td>0.000000</td>\n",
       "      <td>1.324517e+07</td>\n",
       "      <td>1.768826e+06</td>\n",
       "      <td>rcpsp-wet/rcpsp-wet.mzn</td>\n",
       "      <td>rcpsp-wet/data/j90_48_4-wet.dzn</td>\n",
       "      <td>True</td>\n",
       "    </tr>\n",
       "    <tr>\n",
       "      <th>10</th>\n",
       "      <td>543804</td>\n",
       "      <td>543785.0</td>\n",
       "      <td>1103014</td>\n",
       "      <td>641</td>\n",
       "      <td>61579</td>\n",
       "      <td>61578.33</td>\n",
       "      <td>61636</td>\n",
       "      <td>487399</td>\n",
       "      <td>1.14</td>\n",
       "      <td>888</td>\n",
       "      <td>...</td>\n",
       "      <td>0.0</td>\n",
       "      <td>0.0</td>\n",
       "      <td>-2736000.0</td>\n",
       "      <td>-11.753539</td>\n",
       "      <td>0.749291</td>\n",
       "      <td>4.502322e+07</td>\n",
       "      <td>3.063659e+05</td>\n",
       "      <td>rcpsp-wet/rcpsp-wet.mzn</td>\n",
       "      <td>rcpsp-wet/data/j90_10_10-wet.dzn</td>\n",
       "      <td>True</td>\n",
       "    </tr>\n",
       "    <tr>\n",
       "      <th>18</th>\n",
       "      <td>943442</td>\n",
       "      <td>943423.0</td>\n",
       "      <td>944302</td>\n",
       "      <td>1471823</td>\n",
       "      <td>19269</td>\n",
       "      <td>19268.33</td>\n",
       "      <td>19274</td>\n",
       "      <td>708</td>\n",
       "      <td>0.00</td>\n",
       "      <td>15</td>\n",
       "      <td>...</td>\n",
       "      <td>0.0</td>\n",
       "      <td>0.0</td>\n",
       "      <td>0.0</td>\n",
       "      <td>-7.475471</td>\n",
       "      <td>0.000000</td>\n",
       "      <td>1.747412e+08</td>\n",
       "      <td>-1.978881e+03</td>\n",
       "      <td>golomb/golomb.mzn</td>\n",
       "      <td>golomb/data/12.dzn</td>\n",
       "      <td>True</td>\n",
       "    </tr>\n",
       "    <tr>\n",
       "      <th>...</th>\n",
       "      <td>...</td>\n",
       "      <td>...</td>\n",
       "      <td>...</td>\n",
       "      <td>...</td>\n",
       "      <td>...</td>\n",
       "      <td>...</td>\n",
       "      <td>...</td>\n",
       "      <td>...</td>\n",
       "      <td>...</td>\n",
       "      <td>...</td>\n",
       "      <td>...</td>\n",
       "      <td>...</td>\n",
       "      <td>...</td>\n",
       "      <td>...</td>\n",
       "      <td>...</td>\n",
       "      <td>...</td>\n",
       "      <td>...</td>\n",
       "      <td>...</td>\n",
       "      <td>...</td>\n",
       "      <td>...</td>\n",
       "      <td>...</td>\n",
       "    </tr>\n",
       "    <tr>\n",
       "      <th>17107</th>\n",
       "      <td>947893</td>\n",
       "      <td>947874.0</td>\n",
       "      <td>1017940</td>\n",
       "      <td>1965834</td>\n",
       "      <td>6658</td>\n",
       "      <td>6659.17</td>\n",
       "      <td>6710</td>\n",
       "      <td>69995</td>\n",
       "      <td>0.12</td>\n",
       "      <td>0</td>\n",
       "      <td>...</td>\n",
       "      <td>0.0</td>\n",
       "      <td>0.0</td>\n",
       "      <td>0.0</td>\n",
       "      <td>-109.067084</td>\n",
       "      <td>0.000000</td>\n",
       "      <td>2.038405e+07</td>\n",
       "      <td>-4.163697e+05</td>\n",
       "      <td>2DBinPacking/2DLevelPacking.mzn</td>\n",
       "      <td>2DBinPacking/data/Class4_40_7.dzn</td>\n",
       "      <td>False</td>\n",
       "    </tr>\n",
       "    <tr>\n",
       "      <th>17108</th>\n",
       "      <td>522895</td>\n",
       "      <td>522876.0</td>\n",
       "      <td>714304</td>\n",
       "      <td>1237200</td>\n",
       "      <td>26142</td>\n",
       "      <td>26140.91</td>\n",
       "      <td>26226</td>\n",
       "      <td>191324</td>\n",
       "      <td>0.04</td>\n",
       "      <td>0</td>\n",
       "      <td>...</td>\n",
       "      <td>0.0</td>\n",
       "      <td>0.0</td>\n",
       "      <td>0.0</td>\n",
       "      <td>0.000000</td>\n",
       "      <td>0.000000</td>\n",
       "      <td>6.075854e+06</td>\n",
       "      <td>-8.085343e+04</td>\n",
       "      <td>2DBinPacking/2DLevelPacking.mzn</td>\n",
       "      <td>2DBinPacking/data/Class4_80_8.dzn</td>\n",
       "      <td>False</td>\n",
       "    </tr>\n",
       "    <tr>\n",
       "      <th>17109</th>\n",
       "      <td>743694</td>\n",
       "      <td>743675.0</td>\n",
       "      <td>821989</td>\n",
       "      <td>1565684</td>\n",
       "      <td>31087</td>\n",
       "      <td>31086.59</td>\n",
       "      <td>31122</td>\n",
       "      <td>78258</td>\n",
       "      <td>0.04</td>\n",
       "      <td>0</td>\n",
       "      <td>...</td>\n",
       "      <td>0.0</td>\n",
       "      <td>0.0</td>\n",
       "      <td>0.0</td>\n",
       "      <td>0.000000</td>\n",
       "      <td>0.000000</td>\n",
       "      <td>1.352172e+07</td>\n",
       "      <td>-7.133157e+05</td>\n",
       "      <td>2DBinPacking/2DLevelPacking.mzn</td>\n",
       "      <td>2DBinPacking/data/Class9_80_4.dzn</td>\n",
       "      <td>True</td>\n",
       "    </tr>\n",
       "    <tr>\n",
       "      <th>17112</th>\n",
       "      <td>208696</td>\n",
       "      <td>208677.0</td>\n",
       "      <td>211871</td>\n",
       "      <td>420568</td>\n",
       "      <td>46334</td>\n",
       "      <td>46334.14</td>\n",
       "      <td>46345</td>\n",
       "      <td>3163</td>\n",
       "      <td>0.00</td>\n",
       "      <td>0</td>\n",
       "      <td>...</td>\n",
       "      <td>0.0</td>\n",
       "      <td>0.0</td>\n",
       "      <td>0.0</td>\n",
       "      <td>0.000000</td>\n",
       "      <td>0.000000</td>\n",
       "      <td>8.152632e+07</td>\n",
       "      <td>1.302072e+04</td>\n",
       "      <td>2DBinPacking/2DLevelPacking.mzn</td>\n",
       "      <td>2DBinPacking/data/Class5_100_8.dzn</td>\n",
       "      <td>False</td>\n",
       "    </tr>\n",
       "    <tr>\n",
       "      <th>17113</th>\n",
       "      <td>226379</td>\n",
       "      <td>226360.0</td>\n",
       "      <td>230116</td>\n",
       "      <td>456496</td>\n",
       "      <td>46576</td>\n",
       "      <td>46576.54</td>\n",
       "      <td>46583</td>\n",
       "      <td>3729</td>\n",
       "      <td>0.00</td>\n",
       "      <td>0</td>\n",
       "      <td>...</td>\n",
       "      <td>0.0</td>\n",
       "      <td>0.0</td>\n",
       "      <td>0.0</td>\n",
       "      <td>0.000000</td>\n",
       "      <td>0.000000</td>\n",
       "      <td>7.790590e+07</td>\n",
       "      <td>3.482753e+03</td>\n",
       "      <td>2DBinPacking/2DLevelPacking.mzn</td>\n",
       "      <td>2DBinPacking/data/Class5_100_5.dzn</td>\n",
       "      <td>False</td>\n",
       "    </tr>\n",
       "  </tbody>\n",
       "</table>\n",
       "<p>2071 rows × 69 columns</p>\n",
       "</div>"
      ],
      "text/plain": [
       "       conflicts  ewma_conflicts  decisions  search_iterations  opennodes  \\\n",
       "2          37189         37170.0      38523              17597      35996   \n",
       "3         255860        255841.0     257909             253015      10469   \n",
       "5         555712        555693.0    1148659             341488      73964   \n",
       "10        543804        543785.0    1103014                641      61579   \n",
       "18        943442        943423.0     944302            1471823      19269   \n",
       "...          ...             ...        ...                ...        ...   \n",
       "17107     947893        947874.0    1017940            1965834       6658   \n",
       "17108     522895        522876.0     714304            1237200      26142   \n",
       "17109     743694        743675.0     821989            1565684      31087   \n",
       "17112     208696        208677.0     211871             420568      46334   \n",
       "17113     226379        226360.0     230116             456496      46576   \n",
       "\n",
       "       ewma_opennodes   vars  back_jumps  ewma_back_jumps  solutions  ...  \\\n",
       "2            35996.24  36007          58             0.00        140  ...   \n",
       "3            10468.80  10479        1792             0.00         36  ...   \n",
       "5            73961.55  74036      554481             2.70        456  ...   \n",
       "10           61578.33  61636      487399             1.14        888  ...   \n",
       "18           19268.33  19274         708             0.00         15  ...   \n",
       "...               ...    ...         ...              ...        ...  ...   \n",
       "17107         6659.17   6710       69995             0.12          0  ...   \n",
       "17108        26140.91  26226      191324             0.04          0  ...   \n",
       "17109        31086.59  31122       78258             0.04          0  ...   \n",
       "17112        46334.14  46345        3163             0.00          0  ...   \n",
       "17113        46576.54  46583        3729             0.00          0  ...   \n",
       "\n",
       "       clause_mem_gradient  prop_mem_gradient  ewma_best_objective_gradient  \\\n",
       "2                      0.0                0.0                           0.0   \n",
       "3                      0.0                0.0                           0.0   \n",
       "5                      0.0                0.0                           0.0   \n",
       "10                     0.0                0.0                    -2736000.0   \n",
       "18                     0.0                0.0                           0.0   \n",
       "...                    ...                ...                           ...   \n",
       "17107                  0.0                0.0                           0.0   \n",
       "17108                  0.0                0.0                           0.0   \n",
       "17109                  0.0                0.0                           0.0   \n",
       "17112                  0.0                0.0                           0.0   \n",
       "17113                  0.0                0.0                           0.0   \n",
       "\n",
       "       fracOpenVisit_gradient  fracBoolVars_gradient  fracPropVars_gradient  \\\n",
       "2                   -4.001778               0.000000           8.223683e+07   \n",
       "3                   27.530809               0.000000           6.163339e+08   \n",
       "5                    3.897471               0.000000           1.324517e+07   \n",
       "10                 -11.753539               0.749291           4.502322e+07   \n",
       "18                  -7.475471               0.000000           1.747412e+08   \n",
       "...                       ...                    ...                    ...   \n",
       "17107             -109.067084               0.000000           2.038405e+07   \n",
       "17108                0.000000               0.000000           6.075854e+06   \n",
       "17109                0.000000               0.000000           1.352172e+07   \n",
       "17112                0.000000               0.000000           8.152632e+07   \n",
       "17113                0.000000               0.000000           7.790590e+07   \n",
       "\n",
       "       freqBackjumps_gradient                                           mzn  \\\n",
       "2               -4.001295e+02  pattern-set-mining/pattern_set_mining_k1.mzn   \n",
       "3               -1.780986e+04  pattern-set-mining/pattern_set_mining_k1.mzn   \n",
       "5                1.768826e+06                       rcpsp-wet/rcpsp-wet.mzn   \n",
       "10               3.063659e+05                       rcpsp-wet/rcpsp-wet.mzn   \n",
       "18              -1.978881e+03                             golomb/golomb.mzn   \n",
       "...                       ...                                           ...   \n",
       "17107           -4.163697e+05               2DBinPacking/2DLevelPacking.mzn   \n",
       "17108           -8.085343e+04               2DBinPacking/2DLevelPacking.mzn   \n",
       "17109           -7.133157e+05               2DBinPacking/2DLevelPacking.mzn   \n",
       "17112            1.302072e+04               2DBinPacking/2DLevelPacking.mzn   \n",
       "17113            3.482753e+03               2DBinPacking/2DLevelPacking.mzn   \n",
       "\n",
       "                                        dzn  solved_within_time_limit  \n",
       "2      pattern-set-mining/data/kr-vs-kp.dzn                      True  \n",
       "3         pattern-set-mining/data/vowel.dzn                      True  \n",
       "5           rcpsp-wet/data/j90_48_4-wet.dzn                      True  \n",
       "10         rcpsp-wet/data/j90_10_10-wet.dzn                      True  \n",
       "18                       golomb/data/12.dzn                      True  \n",
       "...                                     ...                       ...  \n",
       "17107     2DBinPacking/data/Class4_40_7.dzn                     False  \n",
       "17108     2DBinPacking/data/Class4_80_8.dzn                     False  \n",
       "17109     2DBinPacking/data/Class9_80_4.dzn                      True  \n",
       "17112    2DBinPacking/data/Class5_100_8.dzn                     False  \n",
       "17113    2DBinPacking/data/Class5_100_5.dzn                     False  \n",
       "\n",
       "[2071 rows x 69 columns]"
      ]
     },
     "execution_count": 12,
     "metadata": {},
     "output_type": "execute_result"
    }
   ],
   "source": [
    "features_at_percent[20]"
   ]
  },
  {
   "cell_type": "code",
   "execution_count": 13,
   "metadata": {},
   "outputs": [
    {
     "data": {
      "text/plain": [
       "[<matplotlib.lines.Line2D at 0x7eff3c0912d0>]"
      ]
     },
     "execution_count": 13,
     "metadata": {},
     "output_type": "execute_result"
    },
    {
     "data": {
      "image/png": "[encoded data removed]",
      "text/plain": [
       "<Figure size 640x480 with 1 Axes>"
      ]
     },
     "metadata": {},
     "output_type": "display_data"
    }
   ],
   "source": [
    "plt.plot(features_at_percent[10]['ewma_best_objective'])"
   ]
  },
  {
   "cell_type": "markdown",
   "metadata": {
    "id": "CMoP4AQWalT7"
   },
   "source": [
    "# Data Analysis\n",
    "## Train Test Split"
   ]
  },
  {
   "cell_type": "code",
   "execution_count": 14,
   "metadata": {},
   "outputs": [],
   "source": [
    "def preprocessing(df):\n",
    "    df1=df.drop(['mzn','dzn'], axis=1)\n",
    "    df1.drop(df1.columns[df1.nunique() == 1], axis=1, inplace=True) #drop cols with constant value\n",
    "    #rescale data\n",
    "    transformer = MaxAbsScaler().fit(df1)\n",
    "    df1 = pd.DataFrame(transformer.transform(df1), columns=df1.columns, index=df1.index) #normalise data\n",
    "    return df1"
   ]
  },
  {
   "cell_type": "code",
   "execution_count": 15,
   "metadata": {},
   "outputs": [],
   "source": [
    "def create_split(df, test_size=0.25, random_state=22):\n",
    "    return train_test_split(df.drop(columns = [\"solved_within_time_limit\"]),\\\n",
    "                                df[\"solved_within_time_limit\"], test_size=0.25, random_state=22)"
   ]
  },
  {
   "cell_type": "code",
   "execution_count": 16,
   "metadata": {
    "id": "9hPn8jzm0U8c"
   },
   "outputs": [],
   "source": [
    "df=features_at_percent[20] #THE NUMBER HERE IS THE % OF TL\n",
    "df=preprocessing(df)\n",
    "random_state = 22\n",
    "# training-testing split\n",
    "X_train, X_test, y_train, y_test  = create_split(df, random_state=random_state)"
   ]
  },
  {
   "cell_type": "code",
   "execution_count": 17,
   "metadata": {
    "colab": {
     "base_uri": "https://localhost:8080/"
    },
    "id": "IN-6LHsxsk1w",
    "outputId": "0a5afd18-e7fc-442c-eaa6-5fba63e0cd15"
   },
   "outputs": [
    {
     "data": {
      "text/plain": [
       "0.0    304\n",
       "1.0    214\n",
       "Name: solved_within_time_limit, dtype: int64"
      ]
     },
     "execution_count": 17,
     "metadata": {},
     "output_type": "execute_result"
    }
   ],
   "source": [
    "y_test.value_counts()"
   ]
  },
  {
   "cell_type": "code",
   "execution_count": 18,
   "metadata": {
    "colab": {
     "base_uri": "https://localhost:8080/"
    },
    "id": "6JaEQjH9sk1x",
    "outputId": "01f7b2d6-a07e-46fe-e868-ed9b02b23e4e"
   },
   "outputs": [
    {
     "data": {
      "text/plain": [
       "0.0    908\n",
       "1.0    645\n",
       "Name: solved_within_time_limit, dtype: int64"
      ]
     },
     "execution_count": 18,
     "metadata": {},
     "output_type": "execute_result"
    }
   ],
   "source": [
    "y_train.value_counts()"
   ]
  },
  {
   "cell_type": "markdown",
   "metadata": {
    "id": "JUDr-kP-Yf_s"
   },
   "source": [
    "## Models"
   ]
  },
  {
   "cell_type": "code",
   "execution_count": 19,
   "metadata": {
    "id": "VcuEaofpzqWg"
   },
   "outputs": [],
   "source": [
    "models = {}\n",
    "\n",
    "# Logistic Regression\n",
    "from sklearn.linear_model import LogisticRegression\n",
    "models['LR'] = LogisticRegression(max_iter=1000, C=1000 , class_weight = 'balanced',random_state=random_state)\n",
    "\n",
    "#Support Vector Machine\n",
    "from sklearn.svm import SVC\n",
    "models['SVM'] = SVC(kernel = 'rbf', class_weight = 'balanced', probability = True, random_state=random_state)\n",
    "\n",
    "# Random Forest\n",
    "from sklearn.ensemble import RandomForestClassifier\n",
    "models['RF'] = RandomForestClassifier(min_samples_leaf = 5, class_weight = 'balanced_subsample',random_state=random_state)\n",
    "\n",
    "#Extra Tree\n",
    "from sklearn.ensemble import ExtraTreesClassifier\n",
    "models['ET'] = ExtraTreesClassifier(class_weight = 'balanced', random_state=random_state)\n",
    "\n",
    "#Multi-layered perceptron\n",
    "from sklearn.neural_network import MLPClassifier\n",
    "models['MLP'] = MLPClassifier(random_state=random_state)\n",
    "\n",
    "# Naive Bayes\n",
    "#from sklearn.naive_bayes import GaussianNB\n",
    "#models['NB'] = GaussianNB()\n",
    "\n",
    "# Adaboost\n",
    "#from sklearn.ensemble import AdaBoostClassifier\n",
    "#models['AB'] = AdaBoostClassifier()\n",
    "\n",
    "#KNN\n",
    "#from sklearn.neighbors import KNeighborsClassifier\n",
    "#models['KNN'] = KNeighborsClassifier(weights = 'distance')\n",
    "\n",
    "# Decision Trees\n",
    "from sklearn.tree import DecisionTreeClassifier\n",
    "models['DT'] = DecisionTreeClassifier(max_depth = 5, class_weight = 'balanced', random_state=random_state)\n",
    "\n",
    "#Dummy classifier\n",
    "from sklearn.dummy import DummyClassifier\n",
    "models['DUM'] = DummyClassifier(strategy=\"most_frequent\")"
   ]
  },
  {
   "cell_type": "code",
   "execution_count": 20,
   "metadata": {
    "scrolled": true
   },
   "outputs": [
    {
     "name": "stdout",
     "output_type": "stream",
     "text": [
      "f1 score is 0.8867924528301887\n"
     ]
    },
    {
     "data": {
      "image/png": "[encoded data removed]",
      "text/plain": [
       "<Figure size 640x480 with 1 Axes>"
      ]
     },
     "metadata": {},
     "output_type": "display_data"
    }
   ],
   "source": [
    "# rf_reg = RandomForestClassifier(min_samples_leaf = 5)\n",
    "models[\"RF\"].fit(X_train,y_train)\n",
    "predictions = models[\"RF\"].predict(X_test)\n",
    "print('f1 score is', f1_score(y_test, predictions))\n",
    "\n",
    "\n",
    "importances = models[\"RF\"].feature_importances_\n",
    "\n",
    "# Sort the feature importance in descending order\n",
    "sorted_indices = np.argsort(importances)[::-1]\n",
    "\n",
    "plt.title('Feature Importance of Random Forest Regressor')\n",
    "plt.bar(range(X_train.shape[1]), importances[sorted_indices], align='center')\n",
    "plt.xticks(range(X_train.shape[1]), X_train.columns[sorted_indices], rotation=90)\n",
    "plt.rcParams[\"figure.figsize\"] = (20,3)\n",
    "plt.show()"
   ]
  },
  {
   "cell_type": "markdown",
   "metadata": {},
   "source": [
    "## Predicitions and Evaluation"
   ]
  },
  {
   "cell_type": "code",
   "execution_count": 21,
   "metadata": {},
   "outputs": [],
   "source": [
    "def results_plt(X_train, y_train, X_test, y_test, perc_TL):\n",
    "    train_accuracy, accuracy, precision, recall, auc, f1 = {}, {}, {}, {}, {}, {}\n",
    "    figs, axs = plt.subplots(2,3,figsize=(20, 12))\n",
    "\n",
    "    for i, key in enumerate(models.keys()):\n",
    "\n",
    "        # Fit the classifier model\n",
    "        models[key].fit(X_train, y_train)\n",
    "\n",
    "        predictions = models[key].predict(X_test)\n",
    "        predictions_prob = models[key].predict_proba(X_test)[:,1]\n",
    "        train_predictions = models[key].predict(X_train)\n",
    "        # Predic  \n",
    "        # Calculate Accuracy, Precision and Recall Metrics\n",
    "        accuracy[key] = accuracy_score(predictions, y_test)\n",
    "        precision[key] = precision_score(predictions, y_test, zero_division=1)\n",
    "        recall[key] = recall_score(predictions, y_test, zero_division=1)\n",
    "        auc[key] = roc_auc_score(y_test, predictions_prob)\n",
    "        train_accuracy[key] = accuracy_score(train_predictions, y_train)\n",
    "        f1[key] = f1_score(y_test,predictions)\n",
    "        #should it be (true, pred)? yes\n",
    "\n",
    "        #To Display\n",
    "        RocCurveDisplay.from_predictions(y_test, predictions_prob, name=key , ax=axs[0,0])\n",
    "        axs[0,1].bar(key, accuracy[key]) \n",
    "        axs[0,2].bar(key, train_accuracy[key]) \n",
    "        axs[1,0].bar(key, recall[key])\n",
    "        axs[1,1].bar(key, precision[key])\n",
    "        axs[1,2].bar(key, f1[key])\n",
    "\n",
    "        axs[0,0].set_title(\"ROC Curve for \"+perc_TL+\"% TL\")\n",
    "        #axs[0].set_ylabel(\"Accuracy\")\n",
    "\n",
    "        axs[0,1].set_title(\"Test Accuracy for \"+perc_TL+\"% TL\")\n",
    "        axs[0,1].set_xticklabels(models.keys(),rotation=60)\n",
    "        axs[0,1].set_ylabel(\"Accuracy\")\n",
    "        axs[0,1].grid(axis='y', color='gray', linestyle='dashed')\n",
    "\n",
    "        axs[0,2].set_title(\"Train Accuracy for \"+perc_TL+\"% TL\")\n",
    "        axs[0,2].set_xticklabels(models.keys(),rotation=60)\n",
    "        axs[0,2].set_ylabel(\"Accuracy\")\n",
    "        axs[0,2].grid(axis='y', color='gray', linestyle='dashed')\n",
    "\n",
    "        axs[1,0].set_title(\"Recall for \"+perc_TL+\"% TL\")\n",
    "        axs[1,0].set_xticklabels(models.keys(),rotation=60)\n",
    "        axs[1,0].set_ylabel(\"Recall\")\n",
    "        axs[1,0].grid(axis='y', color='gray', linestyle='dashed')\n",
    "\n",
    "\n",
    "        axs[1,1].set_title(\"Precision \"+perc_TL+\"% TL\")\n",
    "        axs[1,1].set_xticklabels(models.keys(),rotation=60)\n",
    "        axs[1,1].set_ylabel(\"F1\")\n",
    "        axs[1,1].grid(axis='y', color='gray', linestyle='dashed')\n",
    "\n",
    "        axs[1,2].set_title(\"F1 \"+perc_TL+\"% TL\")\n",
    "        axs[1,2].set_xticklabels(models.keys(),rotation=60)\n",
    "        axs[1,2].set_ylabel(\"F1\")\n",
    "        axs[1,2].grid(axis='y', color='gray', linestyle='dashed')\n",
    "        figs.show()   \n"
   ]
  },
  {
   "cell_type": "code",
   "execution_count": 22,
   "metadata": {
    "scrolled": true
   },
   "outputs": [
    {
     "name": "stderr",
     "output_type": "stream",
     "text": [
      "/home/reuben/school/idmp-b/.venv/lib/python3.10/site-packages/sklearn/linear_model/_logistic.py:444: ConvergenceWarning: lbfgs failed to converge (status=1):\n",
      "STOP: TOTAL NO. of ITERATIONS REACHED LIMIT.\n",
      "\n",
      "Increase the number of iterations (max_iter) or scale the data as shown in:\n",
      "    https://scikit-learn.org/stable/modules/preprocessing.html\n",
      "Please also refer to the documentation for alternative solver options:\n",
      "    https://scikit-learn.org/stable/modules/linear_model.html#logistic-regression\n",
      "  n_iter_i = _check_optimize_result(\n",
      "/tmp/ipykernel_518933/1482028916.py:35: UserWarning: FixedFormatter should only be used together with FixedLocator\n",
      "  axs[0,1].set_xticklabels(models.keys(),rotation=60)\n",
      "/tmp/ipykernel_518933/1482028916.py:40: UserWarning: FixedFormatter should only be used together with FixedLocator\n",
      "  axs[0,2].set_xticklabels(models.keys(),rotation=60)\n",
      "/tmp/ipykernel_518933/1482028916.py:45: UserWarning: FixedFormatter should only be used together with FixedLocator\n",
      "  axs[1,0].set_xticklabels(models.keys(),rotation=60)\n",
      "/tmp/ipykernel_518933/1482028916.py:51: UserWarning: FixedFormatter should only be used together with FixedLocator\n",
      "  axs[1,1].set_xticklabels(models.keys(),rotation=60)\n",
      "/tmp/ipykernel_518933/1482028916.py:56: UserWarning: FixedFormatter should only be used together with FixedLocator\n",
      "  axs[1,2].set_xticklabels(models.keys(),rotation=60)\n",
      "/tmp/ipykernel_518933/1482028916.py:59: UserWarning: Matplotlib is currently using module://matplotlib_inline.backend_inline, which is a non-GUI backend, so cannot show the figure.\n",
      "  figs.show()\n",
      "/tmp/ipykernel_518933/1482028916.py:35: UserWarning: FixedFormatter should only be used together with FixedLocator\n",
      "  axs[0,1].set_xticklabels(models.keys(),rotation=60)\n",
      "/tmp/ipykernel_518933/1482028916.py:40: UserWarning: FixedFormatter should only be used together with FixedLocator\n",
      "  axs[0,2].set_xticklabels(models.keys(),rotation=60)\n",
      "/tmp/ipykernel_518933/1482028916.py:45: UserWarning: FixedFormatter should only be used together with FixedLocator\n",
      "  axs[1,0].set_xticklabels(models.keys(),rotation=60)\n",
      "/tmp/ipykernel_518933/1482028916.py:51: UserWarning: FixedFormatter should only be used together with FixedLocator\n",
      "  axs[1,1].set_xticklabels(models.keys(),rotation=60)\n",
      "/tmp/ipykernel_518933/1482028916.py:56: UserWarning: FixedFormatter should only be used together with FixedLocator\n",
      "  axs[1,2].set_xticklabels(models.keys(),rotation=60)\n",
      "/tmp/ipykernel_518933/1482028916.py:59: UserWarning: Matplotlib is currently using module://matplotlib_inline.backend_inline, which is a non-GUI backend, so cannot show the figure.\n",
      "  figs.show()\n",
      "/tmp/ipykernel_518933/1482028916.py:35: UserWarning: FixedFormatter should only be used together with FixedLocator\n",
      "  axs[0,1].set_xticklabels(models.keys(),rotation=60)\n",
      "/tmp/ipykernel_518933/1482028916.py:40: UserWarning: FixedFormatter should only be used together with FixedLocator\n",
      "  axs[0,2].set_xticklabels(models.keys(),rotation=60)\n",
      "/tmp/ipykernel_518933/1482028916.py:45: UserWarning: FixedFormatter should only be used together with FixedLocator\n",
      "  axs[1,0].set_xticklabels(models.keys(),rotation=60)\n",
      "/tmp/ipykernel_518933/1482028916.py:51: UserWarning: FixedFormatter should only be used together with FixedLocator\n",
      "  axs[1,1].set_xticklabels(models.keys(),rotation=60)\n",
      "/tmp/ipykernel_518933/1482028916.py:56: UserWarning: FixedFormatter should only be used together with FixedLocator\n",
      "  axs[1,2].set_xticklabels(models.keys(),rotation=60)\n",
      "/tmp/ipykernel_518933/1482028916.py:59: UserWarning: Matplotlib is currently using module://matplotlib_inline.backend_inline, which is a non-GUI backend, so cannot show the figure.\n",
      "  figs.show()\n",
      "/tmp/ipykernel_518933/1482028916.py:35: UserWarning: FixedFormatter should only be used together with FixedLocator\n",
      "  axs[0,1].set_xticklabels(models.keys(),rotation=60)\n",
      "/tmp/ipykernel_518933/1482028916.py:40: UserWarning: FixedFormatter should only be used together with FixedLocator\n",
      "  axs[0,2].set_xticklabels(models.keys(),rotation=60)\n",
      "/tmp/ipykernel_518933/1482028916.py:45: UserWarning: FixedFormatter should only be used together with FixedLocator\n",
      "  axs[1,0].set_xticklabels(models.keys(),rotation=60)\n",
      "/tmp/ipykernel_518933/1482028916.py:51: UserWarning: FixedFormatter should only be used together with FixedLocator\n",
      "  axs[1,1].set_xticklabels(models.keys(),rotation=60)\n",
      "/tmp/ipykernel_518933/1482028916.py:56: UserWarning: FixedFormatter should only be used together with FixedLocator\n",
      "  axs[1,2].set_xticklabels(models.keys(),rotation=60)\n",
      "/tmp/ipykernel_518933/1482028916.py:59: UserWarning: Matplotlib is currently using module://matplotlib_inline.backend_inline, which is a non-GUI backend, so cannot show the figure.\n",
      "  figs.show()\n",
      "/home/reuben/school/idmp-b/.venv/lib/python3.10/site-packages/sklearn/neural_network/_multilayer_perceptron.py:702: ConvergenceWarning: Stochastic Optimizer: Maximum iterations (200) reached and the optimization hasn't converged yet.\n",
      "  warnings.warn(\n",
      "/tmp/ipykernel_518933/1482028916.py:35: UserWarning: FixedFormatter should only be used together with FixedLocator\n",
      "  axs[0,1].set_xticklabels(models.keys(),rotation=60)\n",
      "/tmp/ipykernel_518933/1482028916.py:40: UserWarning: FixedFormatter should only be used together with FixedLocator\n",
      "  axs[0,2].set_xticklabels(models.keys(),rotation=60)\n",
      "/tmp/ipykernel_518933/1482028916.py:45: UserWarning: FixedFormatter should only be used together with FixedLocator\n",
      "  axs[1,0].set_xticklabels(models.keys(),rotation=60)\n",
      "/tmp/ipykernel_518933/1482028916.py:51: UserWarning: FixedFormatter should only be used together with FixedLocator\n",
      "  axs[1,1].set_xticklabels(models.keys(),rotation=60)\n",
      "/tmp/ipykernel_518933/1482028916.py:56: UserWarning: FixedFormatter should only be used together with FixedLocator\n",
      "  axs[1,2].set_xticklabels(models.keys(),rotation=60)\n",
      "/tmp/ipykernel_518933/1482028916.py:59: UserWarning: Matplotlib is currently using module://matplotlib_inline.backend_inline, which is a non-GUI backend, so cannot show the figure.\n",
      "  figs.show()\n",
      "/tmp/ipykernel_518933/1482028916.py:35: UserWarning: FixedFormatter should only be used together with FixedLocator\n",
      "  axs[0,1].set_xticklabels(models.keys(),rotation=60)\n",
      "/tmp/ipykernel_518933/1482028916.py:40: UserWarning: FixedFormatter should only be used together with FixedLocator\n",
      "  axs[0,2].set_xticklabels(models.keys(),rotation=60)\n",
      "/tmp/ipykernel_518933/1482028916.py:45: UserWarning: FixedFormatter should only be used together with FixedLocator\n",
      "  axs[1,0].set_xticklabels(models.keys(),rotation=60)\n",
      "/tmp/ipykernel_518933/1482028916.py:51: UserWarning: FixedFormatter should only be used together with FixedLocator\n",
      "  axs[1,1].set_xticklabels(models.keys(),rotation=60)\n",
      "/tmp/ipykernel_518933/1482028916.py:56: UserWarning: FixedFormatter should only be used together with FixedLocator\n",
      "  axs[1,2].set_xticklabels(models.keys(),rotation=60)\n",
      "/tmp/ipykernel_518933/1482028916.py:59: UserWarning: Matplotlib is currently using module://matplotlib_inline.backend_inline, which is a non-GUI backend, so cannot show the figure.\n",
      "  figs.show()\n",
      "/tmp/ipykernel_518933/1482028916.py:35: UserWarning: FixedFormatter should only be used together with FixedLocator\n",
      "  axs[0,1].set_xticklabels(models.keys(),rotation=60)\n",
      "/tmp/ipykernel_518933/1482028916.py:40: UserWarning: FixedFormatter should only be used together with FixedLocator\n",
      "  axs[0,2].set_xticklabels(models.keys(),rotation=60)\n",
      "/tmp/ipykernel_518933/1482028916.py:45: UserWarning: FixedFormatter should only be used together with FixedLocator\n",
      "  axs[1,0].set_xticklabels(models.keys(),rotation=60)\n",
      "/tmp/ipykernel_518933/1482028916.py:51: UserWarning: FixedFormatter should only be used together with FixedLocator\n",
      "  axs[1,1].set_xticklabels(models.keys(),rotation=60)\n",
      "/tmp/ipykernel_518933/1482028916.py:56: UserWarning: FixedFormatter should only be used together with FixedLocator\n",
      "  axs[1,2].set_xticklabels(models.keys(),rotation=60)\n",
      "/tmp/ipykernel_518933/1482028916.py:59: UserWarning: Matplotlib is currently using module://matplotlib_inline.backend_inline, which is a non-GUI backend, so cannot show the figure.\n",
      "  figs.show()\n"
     ]
    },
    {
     "data": {
      "image/png": "[encoded data removed]",
      "text/plain": [
       "<Figure size 2000x1200 with 6 Axes>"
      ]
     },
     "metadata": {},
     "output_type": "display_data"
    }
   ],
   "source": [
    "#Bar plot results  for testing and training using top 5 created features\n",
    "\n",
    "results_plt(X_train, y_train, X_test, y_test, \"5\")"
   ]
  },
  {
   "cell_type": "code",
   "execution_count": 23,
   "metadata": {},
   "outputs": [],
   "source": [
    "def get_f1_scores(args):\n",
    "    features_at_percent, percent, rep = args\n",
    "    df_at_percent = features_at_percent[percent]\n",
    "    df_at_percent = preprocessing(df_at_percent)\n",
    "\n",
    "    X_train, X_test, y_train, y_test  = create_split(df_at_percent, random_state=percent + (100 * rep))\n",
    "    model = RandomForestClassifier(min_samples_leaf = 5, class_weight = 'balanced_subsample',random_state=percent + (100 * rep))\n",
    "    model.fit(X_train,y_train)\n",
    "    predictions = model.predict(X_test)\n",
    "    return f1_score(y_test, predictions)"
   ]
  },
  {
   "cell_type": "code",
   "execution_count": 24,
   "metadata": {},
   "outputs": [],
   "source": [
    "def get_f1_over_time_for_model(features_at_percent, repetitions=10):\n",
    "    f1_scores_mean = []\n",
    "    f1_scores_std = []\n",
    "    for percent in tqdm(range(1, 100), desc=\"Percent\"):\n",
    "        with mp.Pool(mp.cpu_count()) as pool:\n",
    "            f1_scores = list(tqdm(pool.imap(get_f1_scores,\n",
    "                                            [(features_at_percent, percent, rep) for rep in range(repetitions)]),\n",
    "                                  total=10, leave=False, desc=\"Repetitions\"))\n",
    "#             for repeat in range(10):\n",
    "#                 df_at_percent = features_at_percent[percent]\n",
    "#                 df_at_percent = preprocessing(df_at_percent)\n",
    "\n",
    "#                 X_train, X_test, y_train, y_test  = create_split(df_at_percent, random_state=percent)\n",
    "#                 model = RandomForestClassifier(min_samples_leaf = 5, class_weight = 'balanced_subsample',random_state=percent)\n",
    "#                 model.fit(X_train,y_train)\n",
    "#                 predictions = model.predict(X_test)\n",
    "#                 f1_scores.append(f1_score(y_test, predictions))\n",
    "            f1_scores_mean.append(np.mean(f1_scores))\n",
    "            f1_scores_std.append(np.std(f1_scores))\n",
    "        \n",
    "    return f1_scores_mean, f1_scores_std\n",
    "    "
   ]
  },
  {
   "cell_type": "code",
   "execution_count": 25,
   "metadata": {},
   "outputs": [
    {
     "data": {
      "application/vnd.jupyter.widget-view+json": {
       "model_id": "3073a3d05efc4356a267489517d1d809",
       "version_major": 2,
       "version_minor": 0
      },
      "text/plain": [
       "Percent:   0%|          | 0/99 [00:00<?, ?it/s]"
      ]
     },
     "metadata": {},
     "output_type": "display_data"
    },
    {
     "data": {
      "application/vnd.jupyter.widget-view+json": {
       "model_id": "",
       "version_major": 2,
       "version_minor": 0
      },
      "text/plain": [
       "Repetitions:   0%|          | 0/10 [00:00<?, ?it/s]"
      ]
     },
     "metadata": {},
     "output_type": "display_data"
    },
    {
     "data": {
      "application/vnd.jupyter.widget-view+json": {
       "model_id": "",
       "version_major": 2,
       "version_minor": 0
      },
      "text/plain": [
       "Repetitions:   0%|          | 0/10 [00:00<?, ?it/s]"
      ]
     },
     "metadata": {},
     "output_type": "display_data"
    },
    {
     "data": {
      "application/vnd.jupyter.widget-view+json": {
       "model_id": "",
       "version_major": 2,
       "version_minor": 0
      },
      "text/plain": [
       "Repetitions:   0%|          | 0/10 [00:00<?, ?it/s]"
      ]
     },
     "metadata": {},
     "output_type": "display_data"
    },
    {
     "data": {
      "application/vnd.jupyter.widget-view+json": {
       "model_id": "",
       "version_major": 2,
       "version_minor": 0
      },
      "text/plain": [
       "Repetitions:   0%|          | 0/10 [00:00<?, ?it/s]"
      ]
     },
     "metadata": {},
     "output_type": "display_data"
    },
    {
     "data": {
      "application/vnd.jupyter.widget-view+json": {
       "model_id": "",
       "version_major": 2,
       "version_minor": 0
      },
      "text/plain": [
       "Repetitions:   0%|          | 0/10 [00:00<?, ?it/s]"
      ]
     },
     "metadata": {},
     "output_type": "display_data"
    },
    {
     "data": {
      "application/vnd.jupyter.widget-view+json": {
       "model_id": "",
       "version_major": 2,
       "version_minor": 0
      },
      "text/plain": [
       "Repetitions:   0%|          | 0/10 [00:00<?, ?it/s]"
      ]
     },
     "metadata": {},
     "output_type": "display_data"
    },
    {
     "data": {
      "application/vnd.jupyter.widget-view+json": {
       "model_id": "",
       "version_major": 2,
       "version_minor": 0
      },
      "text/plain": [
       "Repetitions:   0%|          | 0/10 [00:00<?, ?it/s]"
      ]
     },
     "metadata": {},
     "output_type": "display_data"
    },
    {
     "data": {
      "application/vnd.jupyter.widget-view+json": {
       "model_id": "",
       "version_major": 2,
       "version_minor": 0
      },
      "text/plain": [
       "Repetitions:   0%|          | 0/10 [00:00<?, ?it/s]"
      ]
     },
     "metadata": {},
     "output_type": "display_data"
    },
    {
     "data": {
      "application/vnd.jupyter.widget-view+json": {
       "model_id": "",
       "version_major": 2,
       "version_minor": 0
      },
      "text/plain": [
       "Repetitions:   0%|          | 0/10 [00:00<?, ?it/s]"
      ]
     },
     "metadata": {},
     "output_type": "display_data"
    },
    {
     "data": {
      "application/vnd.jupyter.widget-view+json": {
       "model_id": "",
       "version_major": 2,
       "version_minor": 0
      },
      "text/plain": [
       "Repetitions:   0%|          | 0/10 [00:00<?, ?it/s]"
      ]
     },
     "metadata": {},
     "output_type": "display_data"
    },
    {
     "data": {
      "application/vnd.jupyter.widget-view+json": {
       "model_id": "",
       "version_major": 2,
       "version_minor": 0
      },
      "text/plain": [
       "Repetitions:   0%|          | 0/10 [00:00<?, ?it/s]"
      ]
     },
     "metadata": {},
     "output_type": "display_data"
    },
    {
     "data": {
      "application/vnd.jupyter.widget-view+json": {
       "model_id": "",
       "version_major": 2,
       "version_minor": 0
      },
      "text/plain": [
       "Repetitions:   0%|          | 0/10 [00:00<?, ?it/s]"
      ]
     },
     "metadata": {},
     "output_type": "display_data"
    },
    {
     "data": {
      "application/vnd.jupyter.widget-view+json": {
       "model_id": "",
       "version_major": 2,
       "version_minor": 0
      },
      "text/plain": [
       "Repetitions:   0%|          | 0/10 [00:00<?, ?it/s]"
      ]
     },
     "metadata": {},
     "output_type": "display_data"
    },
    {
     "data": {
      "application/vnd.jupyter.widget-view+json": {
       "model_id": "",
       "version_major": 2,
       "version_minor": 0
      },
      "text/plain": [
       "Repetitions:   0%|          | 0/10 [00:00<?, ?it/s]"
      ]
     },
     "metadata": {},
     "output_type": "display_data"
    },
    {
     "data": {
      "application/vnd.jupyter.widget-view+json": {
       "model_id": "",
       "version_major": 2,
       "version_minor": 0
      },
      "text/plain": [
       "Repetitions:   0%|          | 0/10 [00:00<?, ?it/s]"
      ]
     },
     "metadata": {},
     "output_type": "display_data"
    },
    {
     "data": {
      "application/vnd.jupyter.widget-view+json": {
       "model_id": "",
       "version_major": 2,
       "version_minor": 0
      },
      "text/plain": [
       "Repetitions:   0%|          | 0/10 [00:00<?, ?it/s]"
      ]
     },
     "metadata": {},
     "output_type": "display_data"
    },
    {
     "data": {
      "application/vnd.jupyter.widget-view+json": {
       "model_id": "",
       "version_major": 2,
       "version_minor": 0
      },
      "text/plain": [
       "Repetitions:   0%|          | 0/10 [00:00<?, ?it/s]"
      ]
     },
     "metadata": {},
     "output_type": "display_data"
    },
    {
     "data": {
      "application/vnd.jupyter.widget-view+json": {
       "model_id": "",
       "version_major": 2,
       "version_minor": 0
      },
      "text/plain": [
       "Repetitions:   0%|          | 0/10 [00:00<?, ?it/s]"
      ]
     },
     "metadata": {},
     "output_type": "display_data"
    },
    {
     "data": {
      "application/vnd.jupyter.widget-view+json": {
       "model_id": "",
       "version_major": 2,
       "version_minor": 0
      },
      "text/plain": [
       "Repetitions:   0%|          | 0/10 [00:00<?, ?it/s]"
      ]
     },
     "metadata": {},
     "output_type": "display_data"
    },
    {
     "data": {
      "application/vnd.jupyter.widget-view+json": {
       "model_id": "",
       "version_major": 2,
       "version_minor": 0
      },
      "text/plain": [
       "Repetitions:   0%|          | 0/10 [00:00<?, ?it/s]"
      ]
     },
     "metadata": {},
     "output_type": "display_data"
    },
    {
     "data": {
      "application/vnd.jupyter.widget-view+json": {
       "model_id": "",
       "version_major": 2,
       "version_minor": 0
      },
      "text/plain": [
       "Repetitions:   0%|          | 0/10 [00:00<?, ?it/s]"
      ]
     },
     "metadata": {},
     "output_type": "display_data"
    },
    {
     "data": {
      "application/vnd.jupyter.widget-view+json": {
       "model_id": "",
       "version_major": 2,
       "version_minor": 0
      },
      "text/plain": [
       "Repetitions:   0%|          | 0/10 [00:00<?, ?it/s]"
      ]
     },
     "metadata": {},
     "output_type": "display_data"
    },
    {
     "data": {
      "application/vnd.jupyter.widget-view+json": {
       "model_id": "",
       "version_major": 2,
       "version_minor": 0
      },
      "text/plain": [
       "Repetitions:   0%|          | 0/10 [00:00<?, ?it/s]"
      ]
     },
     "metadata": {},
     "output_type": "display_data"
    },
    {
     "data": {
      "application/vnd.jupyter.widget-view+json": {
       "model_id": "",
       "version_major": 2,
       "version_minor": 0
      },
      "text/plain": [
       "Repetitions:   0%|          | 0/10 [00:00<?, ?it/s]"
      ]
     },
     "metadata": {},
     "output_type": "display_data"
    },
    {
     "data": {
      "application/vnd.jupyter.widget-view+json": {
       "model_id": "",
       "version_major": 2,
       "version_minor": 0
      },
      "text/plain": [
       "Repetitions:   0%|          | 0/10 [00:00<?, ?it/s]"
      ]
     },
     "metadata": {},
     "output_type": "display_data"
    },
    {
     "data": {
      "application/vnd.jupyter.widget-view+json": {
       "model_id": "",
       "version_major": 2,
       "version_minor": 0
      },
      "text/plain": [
       "Repetitions:   0%|          | 0/10 [00:00<?, ?it/s]"
      ]
     },
     "metadata": {},
     "output_type": "display_data"
    },
    {
     "data": {
      "application/vnd.jupyter.widget-view+json": {
       "model_id": "",
       "version_major": 2,
       "version_minor": 0
      },
      "text/plain": [
       "Repetitions:   0%|          | 0/10 [00:00<?, ?it/s]"
      ]
     },
     "metadata": {},
     "output_type": "display_data"
    },
    {
     "data": {
      "application/vnd.jupyter.widget-view+json": {
       "model_id": "",
       "version_major": 2,
       "version_minor": 0
      },
      "text/plain": [
       "Repetitions:   0%|          | 0/10 [00:00<?, ?it/s]"
      ]
     },
     "metadata": {},
     "output_type": "display_data"
    },
    {
     "data": {
      "application/vnd.jupyter.widget-view+json": {
       "model_id": "",
       "version_major": 2,
       "version_minor": 0
      },
      "text/plain": [
       "Repetitions:   0%|          | 0/10 [00:00<?, ?it/s]"
      ]
     },
     "metadata": {},
     "output_type": "display_data"
    },
    {
     "data": {
      "application/vnd.jupyter.widget-view+json": {
       "model_id": "",
       "version_major": 2,
       "version_minor": 0
      },
      "text/plain": [
       "Repetitions:   0%|          | 0/10 [00:00<?, ?it/s]"
      ]
     },
     "metadata": {},
     "output_type": "display_data"
    },
    {
     "data": {
      "application/vnd.jupyter.widget-view+json": {
       "model_id": "",
       "version_major": 2,
       "version_minor": 0
      },
      "text/plain": [
       "Repetitions:   0%|          | 0/10 [00:00<?, ?it/s]"
      ]
     },
     "metadata": {},
     "output_type": "display_data"
    },
    {
     "data": {
      "application/vnd.jupyter.widget-view+json": {
       "model_id": "",
       "version_major": 2,
       "version_minor": 0
      },
      "text/plain": [
       "Repetitions:   0%|          | 0/10 [00:00<?, ?it/s]"
      ]
     },
     "metadata": {},
     "output_type": "display_data"
    },
    {
     "data": {
      "application/vnd.jupyter.widget-view+json": {
       "model_id": "",
       "version_major": 2,
       "version_minor": 0
      },
      "text/plain": [
       "Repetitions:   0%|          | 0/10 [00:00<?, ?it/s]"
      ]
     },
     "metadata": {},
     "output_type": "display_data"
    },
    {
     "data": {
      "application/vnd.jupyter.widget-view+json": {
       "model_id": "",
       "version_major": 2,
       "version_minor": 0
      },
      "text/plain": [
       "Repetitions:   0%|          | 0/10 [00:00<?, ?it/s]"
      ]
     },
     "metadata": {},
     "output_type": "display_data"
    },
    {
     "data": {
      "application/vnd.jupyter.widget-view+json": {
       "model_id": "",
       "version_major": 2,
       "version_minor": 0
      },
      "text/plain": [
       "Repetitions:   0%|          | 0/10 [00:00<?, ?it/s]"
      ]
     },
     "metadata": {},
     "output_type": "display_data"
    },
    {
     "data": {
      "application/vnd.jupyter.widget-view+json": {
       "model_id": "",
       "version_major": 2,
       "version_minor": 0
      },
      "text/plain": [
       "Repetitions:   0%|          | 0/10 [00:00<?, ?it/s]"
      ]
     },
     "metadata": {},
     "output_type": "display_data"
    },
    {
     "data": {
      "application/vnd.jupyter.widget-view+json": {
       "model_id": "",
       "version_major": 2,
       "version_minor": 0
      },
      "text/plain": [
       "Repetitions:   0%|          | 0/10 [00:00<?, ?it/s]"
      ]
     },
     "metadata": {},
     "output_type": "display_data"
    },
    {
     "data": {
      "application/vnd.jupyter.widget-view+json": {
       "model_id": "",
       "version_major": 2,
       "version_minor": 0
      },
      "text/plain": [
       "Repetitions:   0%|          | 0/10 [00:00<?, ?it/s]"
      ]
     },
     "metadata": {},
     "output_type": "display_data"
    },
    {
     "data": {
      "application/vnd.jupyter.widget-view+json": {
       "model_id": "",
       "version_major": 2,
       "version_minor": 0
      },
      "text/plain": [
       "Repetitions:   0%|          | 0/10 [00:00<?, ?it/s]"
      ]
     },
     "metadata": {},
     "output_type": "display_data"
    },
    {
     "data": {
      "application/vnd.jupyter.widget-view+json": {
       "model_id": "",
       "version_major": 2,
       "version_minor": 0
      },
      "text/plain": [
       "Repetitions:   0%|          | 0/10 [00:00<?, ?it/s]"
      ]
     },
     "metadata": {},
     "output_type": "display_data"
    },
    {
     "data": {
      "application/vnd.jupyter.widget-view+json": {
       "model_id": "",
       "version_major": 2,
       "version_minor": 0
      },
      "text/plain": [
       "Repetitions:   0%|          | 0/10 [00:00<?, ?it/s]"
      ]
     },
     "metadata": {},
     "output_type": "display_data"
    },
    {
     "data": {
      "application/vnd.jupyter.widget-view+json": {
       "model_id": "",
       "version_major": 2,
       "version_minor": 0
      },
      "text/plain": [
       "Repetitions:   0%|          | 0/10 [00:00<?, ?it/s]"
      ]
     },
     "metadata": {},
     "output_type": "display_data"
    },
    {
     "data": {
      "application/vnd.jupyter.widget-view+json": {
       "model_id": "",
       "version_major": 2,
       "version_minor": 0
      },
      "text/plain": [
       "Repetitions:   0%|          | 0/10 [00:00<?, ?it/s]"
      ]
     },
     "metadata": {},
     "output_type": "display_data"
    },
    {
     "data": {
      "application/vnd.jupyter.widget-view+json": {
       "model_id": "",
       "version_major": 2,
       "version_minor": 0
      },
      "text/plain": [
       "Repetitions:   0%|          | 0/10 [00:00<?, ?it/s]"
      ]
     },
     "metadata": {},
     "output_type": "display_data"
    },
    {
     "data": {
      "application/vnd.jupyter.widget-view+json": {
       "model_id": "",
       "version_major": 2,
       "version_minor": 0
      },
      "text/plain": [
       "Repetitions:   0%|          | 0/10 [00:00<?, ?it/s]"
      ]
     },
     "metadata": {},
     "output_type": "display_data"
    },
    {
     "data": {
      "application/vnd.jupyter.widget-view+json": {
       "model_id": "",
       "version_major": 2,
       "version_minor": 0
      },
      "text/plain": [
       "Repetitions:   0%|          | 0/10 [00:00<?, ?it/s]"
      ]
     },
     "metadata": {},
     "output_type": "display_data"
    },
    {
     "data": {
      "application/vnd.jupyter.widget-view+json": {
       "model_id": "",
       "version_major": 2,
       "version_minor": 0
      },
      "text/plain": [
       "Repetitions:   0%|          | 0/10 [00:00<?, ?it/s]"
      ]
     },
     "metadata": {},
     "output_type": "display_data"
    },
    {
     "data": {
      "application/vnd.jupyter.widget-view+json": {
       "model_id": "",
       "version_major": 2,
       "version_minor": 0
      },
      "text/plain": [
       "Repetitions:   0%|          | 0/10 [00:00<?, ?it/s]"
      ]
     },
     "metadata": {},
     "output_type": "display_data"
    },
    {
     "data": {
      "application/vnd.jupyter.widget-view+json": {
       "model_id": "",
       "version_major": 2,
       "version_minor": 0
      },
      "text/plain": [
       "Repetitions:   0%|          | 0/10 [00:00<?, ?it/s]"
      ]
     },
     "metadata": {},
     "output_type": "display_data"
    },
    {
     "data": {
      "application/vnd.jupyter.widget-view+json": {
       "model_id": "",
       "version_major": 2,
       "version_minor": 0
      },
      "text/plain": [
       "Repetitions:   0%|          | 0/10 [00:00<?, ?it/s]"
      ]
     },
     "metadata": {},
     "output_type": "display_data"
    },
    {
     "data": {
      "application/vnd.jupyter.widget-view+json": {
       "model_id": "",
       "version_major": 2,
       "version_minor": 0
      },
      "text/plain": [
       "Repetitions:   0%|          | 0/10 [00:00<?, ?it/s]"
      ]
     },
     "metadata": {},
     "output_type": "display_data"
    },
    {
     "data": {
      "application/vnd.jupyter.widget-view+json": {
       "model_id": "",
       "version_major": 2,
       "version_minor": 0
      },
      "text/plain": [
       "Repetitions:   0%|          | 0/10 [00:00<?, ?it/s]"
      ]
     },
     "metadata": {},
     "output_type": "display_data"
    },
    {
     "data": {
      "application/vnd.jupyter.widget-view+json": {
       "model_id": "",
       "version_major": 2,
       "version_minor": 0
      },
      "text/plain": [
       "Repetitions:   0%|          | 0/10 [00:00<?, ?it/s]"
      ]
     },
     "metadata": {},
     "output_type": "display_data"
    },
    {
     "data": {
      "application/vnd.jupyter.widget-view+json": {
       "model_id": "",
       "version_major": 2,
       "version_minor": 0
      },
      "text/plain": [
       "Repetitions:   0%|          | 0/10 [00:00<?, ?it/s]"
      ]
     },
     "metadata": {},
     "output_type": "display_data"
    },
    {
     "data": {
      "application/vnd.jupyter.widget-view+json": {
       "model_id": "",
       "version_major": 2,
       "version_minor": 0
      },
      "text/plain": [
       "Repetitions:   0%|          | 0/10 [00:00<?, ?it/s]"
      ]
     },
     "metadata": {},
     "output_type": "display_data"
    },
    {
     "data": {
      "application/vnd.jupyter.widget-view+json": {
       "model_id": "",
       "version_major": 2,
       "version_minor": 0
      },
      "text/plain": [
       "Repetitions:   0%|          | 0/10 [00:00<?, ?it/s]"
      ]
     },
     "metadata": {},
     "output_type": "display_data"
    },
    {
     "data": {
      "application/vnd.jupyter.widget-view+json": {
       "model_id": "",
       "version_major": 2,
       "version_minor": 0
      },
      "text/plain": [
       "Repetitions:   0%|          | 0/10 [00:00<?, ?it/s]"
      ]
     },
     "metadata": {},
     "output_type": "display_data"
    },
    {
     "data": {
      "application/vnd.jupyter.widget-view+json": {
       "model_id": "",
       "version_major": 2,
       "version_minor": 0
      },
      "text/plain": [
       "Repetitions:   0%|          | 0/10 [00:00<?, ?it/s]"
      ]
     },
     "metadata": {},
     "output_type": "display_data"
    },
    {
     "data": {
      "application/vnd.jupyter.widget-view+json": {
       "model_id": "",
       "version_major": 2,
       "version_minor": 0
      },
      "text/plain": [
       "Repetitions:   0%|          | 0/10 [00:00<?, ?it/s]"
      ]
     },
     "metadata": {},
     "output_type": "display_data"
    },
    {
     "data": {
      "application/vnd.jupyter.widget-view+json": {
       "model_id": "",
       "version_major": 2,
       "version_minor": 0
      },
      "text/plain": [
       "Repetitions:   0%|          | 0/10 [00:00<?, ?it/s]"
      ]
     },
     "metadata": {},
     "output_type": "display_data"
    },
    {
     "data": {
      "application/vnd.jupyter.widget-view+json": {
       "model_id": "",
       "version_major": 2,
       "version_minor": 0
      },
      "text/plain": [
       "Repetitions:   0%|          | 0/10 [00:00<?, ?it/s]"
      ]
     },
     "metadata": {},
     "output_type": "display_data"
    },
    {
     "data": {
      "application/vnd.jupyter.widget-view+json": {
       "model_id": "",
       "version_major": 2,
       "version_minor": 0
      },
      "text/plain": [
       "Repetitions:   0%|          | 0/10 [00:00<?, ?it/s]"
      ]
     },
     "metadata": {},
     "output_type": "display_data"
    },
    {
     "data": {
      "application/vnd.jupyter.widget-view+json": {
       "model_id": "",
       "version_major": 2,
       "version_minor": 0
      },
      "text/plain": [
       "Repetitions:   0%|          | 0/10 [00:00<?, ?it/s]"
      ]
     },
     "metadata": {},
     "output_type": "display_data"
    },
    {
     "data": {
      "application/vnd.jupyter.widget-view+json": {
       "model_id": "",
       "version_major": 2,
       "version_minor": 0
      },
      "text/plain": [
       "Repetitions:   0%|          | 0/10 [00:00<?, ?it/s]"
      ]
     },
     "metadata": {},
     "output_type": "display_data"
    },
    {
     "data": {
      "application/vnd.jupyter.widget-view+json": {
       "model_id": "",
       "version_major": 2,
       "version_minor": 0
      },
      "text/plain": [
       "Repetitions:   0%|          | 0/10 [00:00<?, ?it/s]"
      ]
     },
     "metadata": {},
     "output_type": "display_data"
    },
    {
     "data": {
      "application/vnd.jupyter.widget-view+json": {
       "model_id": "",
       "version_major": 2,
       "version_minor": 0
      },
      "text/plain": [
       "Repetitions:   0%|          | 0/10 [00:00<?, ?it/s]"
      ]
     },
     "metadata": {},
     "output_type": "display_data"
    },
    {
     "data": {
      "application/vnd.jupyter.widget-view+json": {
       "model_id": "",
       "version_major": 2,
       "version_minor": 0
      },
      "text/plain": [
       "Repetitions:   0%|          | 0/10 [00:00<?, ?it/s]"
      ]
     },
     "metadata": {},
     "output_type": "display_data"
    },
    {
     "data": {
      "application/vnd.jupyter.widget-view+json": {
       "model_id": "",
       "version_major": 2,
       "version_minor": 0
      },
      "text/plain": [
       "Repetitions:   0%|          | 0/10 [00:00<?, ?it/s]"
      ]
     },
     "metadata": {},
     "output_type": "display_data"
    },
    {
     "data": {
      "application/vnd.jupyter.widget-view+json": {
       "model_id": "",
       "version_major": 2,
       "version_minor": 0
      },
      "text/plain": [
       "Repetitions:   0%|          | 0/10 [00:00<?, ?it/s]"
      ]
     },
     "metadata": {},
     "output_type": "display_data"
    },
    {
     "data": {
      "application/vnd.jupyter.widget-view+json": {
       "model_id": "",
       "version_major": 2,
       "version_minor": 0
      },
      "text/plain": [
       "Repetitions:   0%|          | 0/10 [00:00<?, ?it/s]"
      ]
     },
     "metadata": {},
     "output_type": "display_data"
    },
    {
     "data": {
      "application/vnd.jupyter.widget-view+json": {
       "model_id": "",
       "version_major": 2,
       "version_minor": 0
      },
      "text/plain": [
       "Repetitions:   0%|          | 0/10 [00:00<?, ?it/s]"
      ]
     },
     "metadata": {},
     "output_type": "display_data"
    },
    {
     "data": {
      "application/vnd.jupyter.widget-view+json": {
       "model_id": "",
       "version_major": 2,
       "version_minor": 0
      },
      "text/plain": [
       "Repetitions:   0%|          | 0/10 [00:00<?, ?it/s]"
      ]
     },
     "metadata": {},
     "output_type": "display_data"
    },
    {
     "data": {
      "application/vnd.jupyter.widget-view+json": {
       "model_id": "",
       "version_major": 2,
       "version_minor": 0
      },
      "text/plain": [
       "Repetitions:   0%|          | 0/10 [00:00<?, ?it/s]"
      ]
     },
     "metadata": {},
     "output_type": "display_data"
    },
    {
     "data": {
      "application/vnd.jupyter.widget-view+json": {
       "model_id": "",
       "version_major": 2,
       "version_minor": 0
      },
      "text/plain": [
       "Repetitions:   0%|          | 0/10 [00:00<?, ?it/s]"
      ]
     },
     "metadata": {},
     "output_type": "display_data"
    },
    {
     "data": {
      "application/vnd.jupyter.widget-view+json": {
       "model_id": "",
       "version_major": 2,
       "version_minor": 0
      },
      "text/plain": [
       "Repetitions:   0%|          | 0/10 [00:00<?, ?it/s]"
      ]
     },
     "metadata": {},
     "output_type": "display_data"
    },
    {
     "data": {
      "application/vnd.jupyter.widget-view+json": {
       "model_id": "",
       "version_major": 2,
       "version_minor": 0
      },
      "text/plain": [
       "Repetitions:   0%|          | 0/10 [00:00<?, ?it/s]"
      ]
     },
     "metadata": {},
     "output_type": "display_data"
    },
    {
     "data": {
      "application/vnd.jupyter.widget-view+json": {
       "model_id": "",
       "version_major": 2,
       "version_minor": 0
      },
      "text/plain": [
       "Repetitions:   0%|          | 0/10 [00:00<?, ?it/s]"
      ]
     },
     "metadata": {},
     "output_type": "display_data"
    },
    {
     "data": {
      "application/vnd.jupyter.widget-view+json": {
       "model_id": "",
       "version_major": 2,
       "version_minor": 0
      },
      "text/plain": [
       "Repetitions:   0%|          | 0/10 [00:00<?, ?it/s]"
      ]
     },
     "metadata": {},
     "output_type": "display_data"
    },
    {
     "data": {
      "application/vnd.jupyter.widget-view+json": {
       "model_id": "",
       "version_major": 2,
       "version_minor": 0
      },
      "text/plain": [
       "Repetitions:   0%|          | 0/10 [00:00<?, ?it/s]"
      ]
     },
     "metadata": {},
     "output_type": "display_data"
    },
    {
     "data": {
      "application/vnd.jupyter.widget-view+json": {
       "model_id": "",
       "version_major": 2,
       "version_minor": 0
      },
      "text/plain": [
       "Repetitions:   0%|          | 0/10 [00:00<?, ?it/s]"
      ]
     },
     "metadata": {},
     "output_type": "display_data"
    },
    {
     "data": {
      "application/vnd.jupyter.widget-view+json": {
       "model_id": "",
       "version_major": 2,
       "version_minor": 0
      },
      "text/plain": [
       "Repetitions:   0%|          | 0/10 [00:00<?, ?it/s]"
      ]
     },
     "metadata": {},
     "output_type": "display_data"
    },
    {
     "data": {
      "application/vnd.jupyter.widget-view+json": {
       "model_id": "",
       "version_major": 2,
       "version_minor": 0
      },
      "text/plain": [
       "Repetitions:   0%|          | 0/10 [00:00<?, ?it/s]"
      ]
     },
     "metadata": {},
     "output_type": "display_data"
    },
    {
     "data": {
      "application/vnd.jupyter.widget-view+json": {
       "model_id": "",
       "version_major": 2,
       "version_minor": 0
      },
      "text/plain": [
       "Repetitions:   0%|          | 0/10 [00:00<?, ?it/s]"
      ]
     },
     "metadata": {},
     "output_type": "display_data"
    },
    {
     "data": {
      "application/vnd.jupyter.widget-view+json": {
       "model_id": "",
       "version_major": 2,
       "version_minor": 0
      },
      "text/plain": [
       "Repetitions:   0%|          | 0/10 [00:00<?, ?it/s]"
      ]
     },
     "metadata": {},
     "output_type": "display_data"
    },
    {
     "data": {
      "application/vnd.jupyter.widget-view+json": {
       "model_id": "",
       "version_major": 2,
       "version_minor": 0
      },
      "text/plain": [
       "Repetitions:   0%|          | 0/10 [00:00<?, ?it/s]"
      ]
     },
     "metadata": {},
     "output_type": "display_data"
    },
    {
     "data": {
      "application/vnd.jupyter.widget-view+json": {
       "model_id": "",
       "version_major": 2,
       "version_minor": 0
      },
      "text/plain": [
       "Repetitions:   0%|          | 0/10 [00:00<?, ?it/s]"
      ]
     },
     "metadata": {},
     "output_type": "display_data"
    },
    {
     "data": {
      "application/vnd.jupyter.widget-view+json": {
       "model_id": "",
       "version_major": 2,
       "version_minor": 0
      },
      "text/plain": [
       "Repetitions:   0%|          | 0/10 [00:00<?, ?it/s]"
      ]
     },
     "metadata": {},
     "output_type": "display_data"
    },
    {
     "data": {
      "application/vnd.jupyter.widget-view+json": {
       "model_id": "",
       "version_major": 2,
       "version_minor": 0
      },
      "text/plain": [
       "Repetitions:   0%|          | 0/10 [00:00<?, ?it/s]"
      ]
     },
     "metadata": {},
     "output_type": "display_data"
    },
    {
     "data": {
      "application/vnd.jupyter.widget-view+json": {
       "model_id": "",
       "version_major": 2,
       "version_minor": 0
      },
      "text/plain": [
       "Repetitions:   0%|          | 0/10 [00:00<?, ?it/s]"
      ]
     },
     "metadata": {},
     "output_type": "display_data"
    },
    {
     "data": {
      "application/vnd.jupyter.widget-view+json": {
       "model_id": "",
       "version_major": 2,
       "version_minor": 0
      },
      "text/plain": [
       "Repetitions:   0%|          | 0/10 [00:00<?, ?it/s]"
      ]
     },
     "metadata": {},
     "output_type": "display_data"
    },
    {
     "data": {
      "application/vnd.jupyter.widget-view+json": {
       "model_id": "",
       "version_major": 2,
       "version_minor": 0
      },
      "text/plain": [
       "Repetitions:   0%|          | 0/10 [00:00<?, ?it/s]"
      ]
     },
     "metadata": {},
     "output_type": "display_data"
    },
    {
     "data": {
      "application/vnd.jupyter.widget-view+json": {
       "model_id": "",
       "version_major": 2,
       "version_minor": 0
      },
      "text/plain": [
       "Repetitions:   0%|          | 0/10 [00:00<?, ?it/s]"
      ]
     },
     "metadata": {},
     "output_type": "display_data"
    },
    {
     "data": {
      "application/vnd.jupyter.widget-view+json": {
       "model_id": "",
       "version_major": 2,
       "version_minor": 0
      },
      "text/plain": [
       "Repetitions:   0%|          | 0/10 [00:00<?, ?it/s]"
      ]
     },
     "metadata": {},
     "output_type": "display_data"
    },
    {
     "data": {
      "application/vnd.jupyter.widget-view+json": {
       "model_id": "",
       "version_major": 2,
       "version_minor": 0
      },
      "text/plain": [
       "Repetitions:   0%|          | 0/10 [00:00<?, ?it/s]"
      ]
     },
     "metadata": {},
     "output_type": "display_data"
    },
    {
     "data": {
      "application/vnd.jupyter.widget-view+json": {
       "model_id": "",
       "version_major": 2,
       "version_minor": 0
      },
      "text/plain": [
       "Repetitions:   0%|          | 0/10 [00:00<?, ?it/s]"
      ]
     },
     "metadata": {},
     "output_type": "display_data"
    },
    {
     "data": {
      "application/vnd.jupyter.widget-view+json": {
       "model_id": "",
       "version_major": 2,
       "version_minor": 0
      },
      "text/plain": [
       "Repetitions:   0%|          | 0/10 [00:00<?, ?it/s]"
      ]
     },
     "metadata": {},
     "output_type": "display_data"
    },
    {
     "data": {
      "application/vnd.jupyter.widget-view+json": {
       "model_id": "",
       "version_major": 2,
       "version_minor": 0
      },
      "text/plain": [
       "Repetitions:   0%|          | 0/10 [00:00<?, ?it/s]"
      ]
     },
     "metadata": {},
     "output_type": "display_data"
    },
    {
     "data": {
      "application/vnd.jupyter.widget-view+json": {
       "model_id": "",
       "version_major": 2,
       "version_minor": 0
      },
      "text/plain": [
       "Repetitions:   0%|          | 0/10 [00:00<?, ?it/s]"
      ]
     },
     "metadata": {},
     "output_type": "display_data"
    },
    {
     "data": {
      "application/vnd.jupyter.widget-view+json": {
       "model_id": "",
       "version_major": 2,
       "version_minor": 0
      },
      "text/plain": [
       "Repetitions:   0%|          | 0/10 [00:00<?, ?it/s]"
      ]
     },
     "metadata": {},
     "output_type": "display_data"
    }
   ],
   "source": [
    "f1_scores_mean, f1_scores_std = get_f1_over_time_for_model(features_at_percent)"
   ]
  },
  {
   "cell_type": "code",
   "execution_count": 28,
   "metadata": {},
   "outputs": [
    {
     "data": {
      "image/png": "[encoded data removed]",
      "text/plain": [
       "<Figure size 1000x600 with 1 Axes>"
      ]
     },
     "metadata": {},
     "output_type": "display_data"
    }
   ],
   "source": [
    "plt.ylim((0, 1))\n",
    "y = np.array(f1_scores_mean)\n",
    "err = np.array(f1_scores_std)\n",
    "\n",
    "plt.rcParams[\"figure.figsize\"] = (10,6)\n",
    "plt.plot(y)\n",
    "plt.title(\"F1 score at varying percentages of TL\")\n",
    "plt.fill_between(range(0, 99), y - err, y + err, alpha=0.4);"
   ]
  },
  {
   "cell_type": "markdown",
   "metadata": {},
   "source": [
    "## Regression"
   ]
  },
  {
   "cell_type": "code",
   "execution_count": null,
   "metadata": {},
   "outputs": [],
   "source": []
  },
  {
   "cell_type": "code",
   "execution_count": null,
   "metadata": {},
   "outputs": [],
   "source": []
  },
  {
   "cell_type": "code",
   "execution_count": null,
   "metadata": {},
   "outputs": [],
   "source": []
  },
  {
   "cell_type": "markdown",
   "metadata": {},
   "source": [
    "# Ignore the rest! \n",
    "# -- -- -- -- -- -- \n",
    "# -- -- -- -- -- -- \n",
    "# -- -- -- -- -- -- \n",
    "# -- -- -- -- -- -- \n",
    "# -- -- -- -- -- -- \n",
    "# -- -- -- -- -- -- "
   ]
  },
  {
   "cell_type": "code",
   "execution_count": null,
   "metadata": {},
   "outputs": [],
   "source": []
  },
  {
   "cell_type": "markdown",
   "metadata": {
    "id": "4Ftayu36YnrR"
   },
   "source": [
    "# **Feature Importance Analysis**"
   ]
  },
  {
   "cell_type": "markdown",
   "metadata": {
    "id": "qzOOxMce5WK7"
   },
   "source": [
    "Feature importance for all features"
   ]
  },
  {
   "cell_type": "code",
   "execution_count": 27,
   "metadata": {
    "colab": {
     "base_uri": "https://localhost:8080/",
     "height": 1000
    },
    "id": "6XZEREqH1U9l",
    "outputId": "1f10cec3-98e3-49a5-bd26-cc3e02cb70f3"
   },
   "outputs": [
    {
     "name": "stdout",
     "output_type": "stream",
     "text": [
      "Large error bars may result from Gini Importance being misleading when features have many unique values \n",
      "\n"
     ]
    },
    {
     "ename": "UnboundLocalError",
     "evalue": "local variable 'c_array' referenced before assignment",
     "output_type": "error",
     "traceback": [
      "\u001b[0;31m---------------------------------------------------------------------------\u001b[0m",
      "\u001b[0;31mUnboundLocalError\u001b[0m                         Traceback (most recent call last)",
      "Cell \u001b[0;32mIn[27], line 89\u001b[0m\n\u001b[1;32m     86\u001b[0m     plt\u001b[38;5;241m.\u001b[39mshow()\n\u001b[1;32m     88\u001b[0m \u001b[38;5;28mprint\u001b[39m(\u001b[38;5;124m\"\u001b[39m\u001b[38;5;124mLarge error bars may result from Gini Importance being misleading when features have many unique values \u001b[39m\u001b[38;5;130;01m\\n\u001b[39;00m\u001b[38;5;124m\"\u001b[39m)\n\u001b[0;32m---> 89\u001b[0m \u001b[43mfeat_import_plt\u001b[49m\u001b[43m(\u001b[49m\u001b[43mX_train\u001b[49m\u001b[43m,\u001b[49m\u001b[43m \u001b[49m\u001b[43my_train\u001b[49m\u001b[43m,\u001b[49m\u001b[43m  \u001b[49m\u001b[38;5;124;43m\"\u001b[39;49m\u001b[38;5;124;43m5\u001b[39;49m\u001b[38;5;124;43m\"\u001b[39;49m\u001b[43m)\u001b[49m\n\u001b[1;32m     90\u001b[0m \u001b[38;5;66;03m# feat_import_plt(X_train_10, y_train_10, \"10\")\u001b[39;00m\n\u001b[1;32m     91\u001b[0m \u001b[38;5;66;03m# feat_import_plt(X_train_15, y_train_15,  \"15\")\u001b[39;00m\n\u001b[1;32m     92\u001b[0m \u001b[38;5;66;03m# feat_import_plt(X_train_20, y_train_20,  \"20\")\u001b[39;00m\n",
      "Cell \u001b[0;32mIn[27], line 49\u001b[0m, in \u001b[0;36mfeat_import_plt\u001b[0;34m(X, y, perc_TL)\u001b[0m\n\u001b[1;32m     47\u001b[0m     c \u001b[38;5;241m=\u001b[39m df_5\u001b[38;5;241m.\u001b[39mapply(pd\u001b[38;5;241m.\u001b[39mSeries\u001b[38;5;241m.\u001b[39mnunique) \u001b[38;5;66;03m#feature cardinalityc_array = []\u001b[39;00m\n\u001b[1;32m     48\u001b[0m \u001b[38;5;28;01mfor\u001b[39;00m i \u001b[38;5;129;01min\u001b[39;00m X\u001b[38;5;241m.\u001b[39mcolumns[_sorted_indices]:\n\u001b[0;32m---> 49\u001b[0m     \u001b[43mc_array\u001b[49m\u001b[38;5;241m.\u001b[39mappend(c\u001b[38;5;241m.\u001b[39mloc[i]\u001b[38;5;241m/\u001b[39m \u001b[38;5;28mmax\u001b[39m(df_5\u001b[38;5;241m.\u001b[39mapply(pd\u001b[38;5;241m.\u001b[39mSeries\u001b[38;5;241m.\u001b[39mnunique)\u001b[38;5;241m.\u001b[39mvalues))\n\u001b[1;32m     51\u001b[0m ax2 \u001b[38;5;241m=\u001b[39m ax1\u001b[38;5;241m.\u001b[39mtwinx()\n\u001b[1;32m     52\u001b[0m ax2\u001b[38;5;241m.\u001b[39mplot(\u001b[38;5;28mrange\u001b[39m(X\u001b[38;5;241m.\u001b[39mshape[\u001b[38;5;241m1\u001b[39m]), c_array, color \u001b[38;5;241m=\u001b[39m \u001b[38;5;124m'\u001b[39m\u001b[38;5;124mr\u001b[39m\u001b[38;5;124m'\u001b[39m )\n",
      "\u001b[0;31mUnboundLocalError\u001b[0m: local variable 'c_array' referenced before assignment"
     ]
    },
    {
     "data": {
      "image/png": "[encoded data removed]",
      "text/plain": [
       "<Figure size 1500x600 with 1 Axes>"
      ]
     },
     "metadata": {},
     "output_type": "display_data"
    }
   ],
   "source": [
    "def feat_import_plt(X, y, perc_TL):\n",
    "    #Display Flags \n",
    "    ordered = False   #True displays importances in descending order\n",
    "    errorbar = True\n",
    "    cardinality = False\n",
    "    \n",
    "    #Drop values that are neither standard chuffed values nor created\n",
    "    X = X.drop([\"solutions\",\n",
    "                \"total_time\",\n",
    "                \"search_time\", #total time - init time\n",
    "                \"learnt\" ,\n",
    "                \"bin\",\n",
    "                \"tern\",\n",
    "                \"long\",\n",
    "                \"ewma_opennodes\",\n",
    "                \"ewma_decision_level_engine\",\n",
    "                \"ewma_back_jumps\",\n",
    "                \"ewma_propagations\",\n",
    "                \"ewma_best_objective\"], axis=1, inplace=False)\n",
    "\n",
    "    #Feature importance using Gini Impurity\n",
    "    dcs_t = RandomForestClassifier(min_samples_leaf = 5,random_state=22)\n",
    "    dcs_t.fit(X, y)\n",
    "    \n",
    "    importances = dcs_t.feature_importances_\n",
    "    std = np.std([tree.feature_importances_ for tree in dcs_t.estimators_], axis=0) #get standard dev of importances\n",
    "    \n",
    "    if ordered:\n",
    "        _sorted_indices = np.argsort(importances)[::-1]   # Sort the feature importance in descending order\n",
    "    else:\n",
    "        _sorted_indices = np.array(range(len(importances)))   # unsorted feature importances for comparison\n",
    "\n",
    "    plt.figure(figsize=(15, 6))\n",
    "    ax1 = plt.subplot(1, 2, 1)\n",
    "    plt.title('Gini Importance using Random Forest for '+ perc_TL+'% TL with normalized feature cardinality')\n",
    "    \n",
    "    if not errorbar:\n",
    "        ax1.bar(range(X.shape[1]), importances[_sorted_indices])\n",
    "    else :\n",
    "        ax1.bar(range(X.shape[1]), importances[_sorted_indices], yerr=std, ecolor='black', capsize=5, align='center')\n",
    "        ax1.set_ylabel('Importance')\n",
    "        plt.xticks(range(X.shape[1]), X.columns[_sorted_indices], rotation=90)\n",
    "\n",
    "    #print(\"GI:\", importances[sorted_indices])\n",
    "\n",
    "    if cardinality:\n",
    "        c = df_5.apply(pd.Series.nunique) #feature cardinalityc_array = []\n",
    "    for i in X.columns[_sorted_indices]:\n",
    "        c_array.append(c.loc[i]/ max(df_5.apply(pd.Series.nunique).values))\n",
    "    \n",
    "    ax2 = ax1.twinx()\n",
    "    ax2.plot(range(X.shape[1]), c_array, color = 'r' )\n",
    "    ax2.set_ylabel('Cardinality', color = 'r')\n",
    "\n",
    "    #Feature importance using Permutation Importance\n",
    "    perm = permutation_importance(dcs_t, X, y, random_state = 22)\n",
    "    if ordered:\n",
    "        _perm_sorted_indices = np.argsort(perm.importances_mean)[::-1] # Sort the feature importance in descending order\n",
    "    else:\n",
    "        _perm_sorted_indices = _sorted_indices\n",
    "\n",
    "    ax3 = plt.subplot(1, 2, 2)\n",
    "    plt.title('Permutation Importance using Random Forest for '+ perc_TL+'% TL')\n",
    "    if not errorbar:\n",
    "        ax3.bar(range(X.shape[1]), perm.importances_mean[_perm_sorted_indices]*10)\n",
    "    else:\n",
    "        ax3.bar(range(X.shape[1]), perm.importances_mean[_perm_sorted_indices]*10, yerr=perm.importances_std, ecolor='black', capsize=5, align='center')\n",
    "    plt.xticks(range(X.shape[1]), X.columns[_perm_sorted_indices], rotation=90)\n",
    "    ax3.set_ylabel('Importance')\n",
    "\n",
    "    #print(\"PI:\", perm.importances_mean[perm_sorted_indices])\n",
    "\n",
    "    if cardinality:\n",
    "        c_array = []\n",
    "        for i in X.columns[_perm_sorted_indices]:\n",
    "            c_array.append(c.loc[i]/ max(df_5.apply(pd.Series.nunique).values))\n",
    "        ax2 = ax3.twinx()\n",
    "        ax2.plot(range(X.shape[1]), c_array, color = 'r' )\n",
    "        ax2.set_ylabel('Cardinality', color = 'r')\n",
    "\n",
    "    #plt.subplot(1, 3, 3)\n",
    "    #sns.heatmap(X.corr(), mask = np.triu(X.corr()) )\n",
    "\n",
    "\n",
    "    plt.tight_layout()\n",
    "    plt.show()\n",
    "\n",
    "print(\"Large error bars may result from Gini Importance being misleading when features have many unique values \\n\")\n",
    "feat_import_plt(X_train, y_train,  \"5\")\n",
    "# feat_import_plt(X_train_10, y_train_10, \"10\")\n",
    "# feat_import_plt(X_train_15, y_train_15,  \"15\")\n",
    "# feat_import_plt(X_train_20, y_train_20,  \"20\")"
   ]
  },
  {
   "cell_type": "markdown",
   "metadata": {
    "id": "58S764KD5eJ0"
   },
   "source": [
    "Feature importance for proposed (or created) features"
   ]
  },
  {
   "cell_type": "code",
   "execution_count": null,
   "metadata": {
    "colab": {
     "base_uri": "https://localhost:8080/",
     "height": 823
    },
    "id": "tte0xg5MTpx2",
    "outputId": "11a5aa66-4f73-4244-d50e-7a517a0ce329"
   },
   "outputs": [],
   "source": [
    "#Only keep proposed features\n",
    "for df in df_list:\n",
    "    df.drop([\"opennodes\",\n",
    "             \"ewma_opennodes\",\n",
    "             \"ewma_decision_level_engine\",\n",
    "             \"vars\",\n",
    "             \"back_jumps\",\n",
    "             \"ewma_back_jumps\",\n",
    "             \"solutions\",\n",
    "             \"total_time\",\n",
    "             \"search_time\", #total time - init time\n",
    "             \"intVars\",\n",
    "             \"propagations\",\n",
    "             \"ewma_propagations\",\n",
    "             \"propagators\",\n",
    "             \"boolVars\",\n",
    "             \"learnt\" ,\n",
    "             \"bin\",\n",
    "             \"tern\",\n",
    "             \"long\",\n",
    "             \"peak_depth\",\n",
    "             \"best_objective\",\n",
    "             \"ewma_best_objective\"], axis=1, inplace=True)\n",
    "  \n",
    "  \n",
    "  \n",
    "#dummy vars for df_5 to match size of other dfs\n",
    "df_5[\"objectiveGROC\"] = np.zeros(df_5.shape[0])\n",
    "df_5[\"failuresGROC\"] = np.zeros(df_5.shape[0])\n",
    "df_5[\"backjumpsGROC\"] = np.zeros(df_5.shape[0])\n",
    "df_5[\"propagationsGROC\"] = np.zeros(df_5.shape[0])\n",
    "df_5[\"solutionsGROC\"] = np.zeros(df_5.shape[0])\n",
    "\n",
    "\n",
    "# Resplit dats into training-testing \n",
    "Xd_train_5, Xd_test_5, yd_train_5, yd_test_5  = train_test_split(df_5.drop(columns = [\"solved_within_time_limit\"]),\\\n",
    "                                                     df_5[\"solved_within_time_limit\"], test_size=0.25, random_state=22)\n",
    "\n",
    "# Xd_train_10, Xd_test_10, yd_train_10, yd_test_10  = train_test_split(df_10.drop(columns = [\"solved_within_time_limit\"]),\\\n",
    "#                                                      df_10[\"solved_within_time_limit\"], test_size=0.25, random_state=22)\n",
    "\n",
    "# Xd_train_15, Xd_test_15, yd_train_15, yd_test_15  = train_test_split(df_15.drop(columns = [\"solved_within_time_limit\"]),\\\n",
    "#                                                      df_15[\"solved_within_time_limit\"], test_size=0.25, random_state=22)\n",
    "\n",
    "# Xd_train_20, Xd_test_20, yd_train_20, yd_test_20  = train_test_split(df_20.drop(columns = [\"solved_within_time_limit\"]),\\\n",
    "#                                                      df_20[\"solved_within_time_limit\"], test_size=0.25, random_state=22)\n",
    "# #Feature importances using only proposed features\n",
    "def importance (X, y):\n",
    "  dcs_5 = RandomForestClassifier(min_samples_leaf = 5,random_state=22)\n",
    "  dcs_5.fit(X, y)\n",
    "  importances_5 = dcs_5.feature_importances_\n",
    "  std_5 = np.std([tree.feature_importances_ for tree in dcs_5.estimators_], axis=0) #get standard dev of importances\n",
    "  perm_5 = permutation_importance(dcs_5, X, y, random_state = 22)\n",
    "  return importances_5, perm_5\n",
    "\n",
    "[importances_5, perm_5] = importance(Xd_train_5, yd_train_5)\n",
    "sorted_indices = np.argsort(importances_5)[::-1] \n",
    "perm_sorted_indices = np.argsort(perm_5.importances_mean)[::-1] \n",
    "\n",
    "# [importances_10, perm_10] = importance(Xd_train_10, yd_train_10)\n",
    "# sorted_indices_10 = np.argsort(importances_10)[::-1] \n",
    "# perm_sorted_indices_10 = np.argsort(perm_10.importances_mean)[::-1]\n",
    "\n",
    "# [importances_15, perm_15] = importance(Xd_train_15, yd_train_15)\n",
    "# sorted_indices_15 = np.argsort(importances_15)[::-1] \n",
    "# perm_sorted_indices_15 = np.argsort(perm_15.importances_mean)[::-1] \n",
    "\n",
    "# [importances_20, perm_20] = importance(Xd_train_20, yd_train_20)\n",
    "# sorted_indices_20 = np.argsort(importances_20)[::-1] \n",
    "# perm_sorted_indices_20 = np.argsort(perm_20.importances_mean)[::-1] \n",
    "\n",
    "#Print images\n",
    "printAll = True #set to flase to show top 10 features\n",
    "\n",
    "if printAll:\n",
    "  plt.figure(figsize=(7, 5))\n",
    "  plt.title('Gini Importance of Created Features for Varying % TL')\n",
    "  plt.plot(Xd_train_5.columns[sorted_indices][0:9], importances_5[sorted_indices][0:9],'-o' )\n",
    "#   plt.plot(Xd_train_10.columns[sorted_indices], importances_10[sorted_indices], '-s')\n",
    "#   plt.plot(Xd_train_15.columns[sorted_indices], importances_15[sorted_indices], '-^' )\n",
    "#   plt.plot(Xd_train_20.columns[sorted_indices], importances_20[sorted_indices], '-v')\n",
    "  plt.axhline(y=0.10, linestyle='--')\n",
    "  plt.xticks(range(Xd_train_5.shape[1]), Xd_train_5.columns[sorted_indices], rotation=90)\n",
    "  plt.ylabel('Importance')\n",
    "  plt.grid(axis='both', color='gray', linestyle='dashed')\n",
    "  plt.legend([\"5% TL\", \"10% TL\", \"15% TL\", \"20% TL\"])\n",
    "\n",
    "  plt.figure(figsize=(7, 5))\n",
    "  plt.title('Permutation Importance of Created Features for Varying % TL')\n",
    "  plt.plot(Xd_train_5.columns[sorted_indices][0:9], perm_5.importances_mean[sorted_indices][0:9]*10,'-o' )\n",
    "#   plt.plot(Xd_train_10.columns[sorted_indices], perm_10.importances_mean[sorted_indices]*10, '-s')\n",
    "#   plt.plot(Xd_train_15.columns[sorted_indices], perm_15.importances_mean[sorted_indices]*10, '-^' )\n",
    "#   plt.plot(Xd_train_20.columns[sorted_indices], perm_20.importances_mean[sorted_indices]*10, '-v')\n",
    "  plt.axhline(y=0.07, linestyle='--')\n",
    "  plt.xticks(range(Xd_train_5.shape[1]), Xd_train_5.columns[sorted_indices], rotation=90)\n",
    "  plt.ylabel('Importance')\n",
    "  plt.grid(axis='both', color='gray', linestyle='dashed')\n",
    "  plt.legend([\"5% TL\", \"10% TL\", \"15% TL\", \"20% TL\"])\n",
    "else:\n",
    "  plt.figure(figsize=(7, 5))\n",
    "  plt.title('Top 10 Gini Important Created Features for Varying % TL')\n",
    "  plt.plot(Xd_train_5.columns[sorted_indices][0:10], importances_5[sorted_indices][0:10],'o' )\n",
    "  plt.plot(Xd_train_10.columns[sorted_indices_10][0:10], importances_10[sorted_indices_10][0:10], 's')\n",
    "  plt.plot(Xd_train_15.columns[sorted_indices_15][0:10], importances_15[sorted_indices_15][0:10], '^' )\n",
    "  plt.plot(Xd_train_20.columns[sorted_indices_20][0:10], importances_20[sorted_indices_20][0:10], 'v')\n",
    "  plt.axhline(y=0.10, linestyle='--')\n",
    "  plt.xticks(range(13), Xd_train_5.columns[sorted_indices][0:12], rotation=90)\n",
    "  plt.ylabel('Importance')\n",
    "  plt.grid(axis='both', color='gray', linestyle='dashed')\n",
    "  plt.legend([\"5% TL\", \"10% TL\", \"15% TL\", \"20% TL\"])\n",
    "\n",
    "  plt.figure(figsize=(7, 5))\n",
    "  plt.title('Top 10 Permutation Important Created Features for Varying % TL')\n",
    "  plt.plot(Xd_train_5.columns[perm_sorted_indices][0:10], perm_5.importances_mean[perm_sorted_indices][0:10]*10,'o' )\n",
    "  plt.plot(Xd_train_10.columns[perm_sorted_indices_10][0:10], perm_10.importances_mean[perm_sorted_indices_10][0:10]*10, 's')\n",
    "  plt.plot(Xd_train_15.columns[perm_sorted_indices_15][0:10], perm_15.importances_mean[perm_sorted_indices_15][0:10]*10, '^' )\n",
    "  plt.plot(Xd_train_20.columns[perm_sorted_indices_20][0:10], perm_20.importances_mean[perm_sorted_indices_20][0:10]*10, 'v')\n",
    "  plt.axhline(y=0.07, linestyle='--')\n",
    "  plt.xticks(range(13), Xd_train_5.columns[perm_sorted_indices][0:12], rotation=90)\n",
    "  plt.ylabel('Importance')\n",
    "  plt.grid(axis='both', color='gray', linestyle='dashed')\n",
    "  plt.legend([\"5% TL\", \"10% TL\", \"15% TL\", \"20% TL\"])\n"
   ]
  },
  {
   "cell_type": "code",
   "execution_count": null,
   "metadata": {
    "colab": {
     "base_uri": "https://localhost:8080/"
    },
    "id": "ZX89QNko2uDH",
    "outputId": "5f228fbe-9f78-4631-fd79-9f0fb47da7a2"
   },
   "outputs": [],
   "source": [
    "#select top 5 features for training\n",
    "Xs_train_5  = Xd_train_5.iloc[:, sorted_indices[0:5]]\n",
    "# Xs_train_10 = Xd_train_10.iloc[:,sorted_indices_10[0:5]]\n",
    "# Xs_train_15 = Xd_train_15.iloc[:,sorted_indices_15[0:5]]\n",
    "# Xs_train_20 = Xd_train_20.iloc[:,sorted_indices_20[0:5]]\n",
    "\n",
    "Xs_test_5  = Xd_test_5.iloc[:,sorted_indices[0:5]]\n",
    "# Xs_test_10 = Xd_test_10.iloc[:,sorted_indices_10[0:5]]\n",
    "# Xs_test_15 = Xd_test_15.iloc[:,sorted_indices_15[0:5]]\n",
    "# Xs_test_20 = Xd_test_20.iloc[:,sorted_indices_20[0:5]]\n",
    "\n",
    "print(\"Top 5 features:\",Xd_train_5.columns[sorted_indices][0:5])"
   ]
  },
  {
   "cell_type": "markdown",
   "metadata": {
    "id": "N4P8fHs8Yss9"
   },
   "source": [
    "# **Predictions and Evaluation**"
   ]
  },
  {
   "cell_type": "code",
   "execution_count": null,
   "metadata": {
    "id": "6VbesRDj0L8u"
   },
   "outputs": [],
   "source": [
    "def results_plt(X_train, y_train, X_test, y_test, perc_TL):\n",
    "    train_accuracy, accuracy, precision, recall, auc, f1 = {}, {}, {}, {}, {}, {}\n",
    "    figs, axs = plt.subplots(1,6,figsize=(35, 5))\n",
    "\n",
    "    for i, key in enumerate(models.keys()):\n",
    "\n",
    "        # Fit the classifier model\n",
    "        models[key].fit(X_train, y_train)\n",
    "\n",
    "        predictions = models[key].predict(X_test)\n",
    "        predictions_prob = models[key].predict_proba(X_test)[:,1]\n",
    "        train_predictions = models[key].predict(X_train)\n",
    "        # Predic  \n",
    "        # Calculate Accuracy, Precision and Recall Metrics\n",
    "        accuracy[key] = accuracy_score(predictions, y_test)\n",
    "        precision[key] = precision_score(predictions, y_test, zero_division=1)\n",
    "        recall[key] = recall_score(predictions, y_test, zero_division=1)\n",
    "        auc[key] = roc_auc_score(y_test, predictions_prob)\n",
    "        train_accuracy[key] = accuracy_score(train_predictions, y_train)\n",
    "        f1[key] = f1_score(y_test,predictions)\n",
    "        #should it be (true, pred)? yes\n",
    "\n",
    "        #To Display\n",
    "        RocCurveDisplay.from_predictions(y_test, predictions_prob, name=key , ax=axs[0])\n",
    "        axs[1].bar(key, accuracy[key]) \n",
    "        axs[2].bar(key, train_accuracy[key]) \n",
    "        axs[3].bar(key, recall[key])\n",
    "        axs[4].bar(key, precision[key])\n",
    "        axs[5].bar(key, f1[key])\n",
    "\n",
    "        axs[0].set_title(\"ROC Curve for \"+perc_TL+\"% TL\")\n",
    "        #axs[0].set_ylabel(\"Accuracy\")\n",
    "\n",
    "        axs[1].set_title(\"Test Accuracy for \"+perc_TL+\"% TL\")\n",
    "        axs[1].set_xticklabels(models.keys(),rotation=60)\n",
    "        axs[1].set_ylabel(\"Accuracy\")\n",
    "        axs[1].grid(axis='y', color='gray', linestyle='dashed')\n",
    "\n",
    "        axs[2].set_title(\"Train Accuracy for \"+perc_TL+\"% TL\")\n",
    "        axs[2].set_xticklabels(models.keys(),rotation=60)\n",
    "        axs[2].set_ylabel(\"Accuracy\")\n",
    "        axs[2].grid(axis='y', color='gray', linestyle='dashed')\n",
    "\n",
    "        axs[3].set_title(\"Recall for \"+perc_TL+\"% TL\")\n",
    "        axs[3].set_xticklabels(models.keys(),rotation=60)\n",
    "        axs[3].set_ylabel(\"Recall\")\n",
    "        axs[3].grid(axis='y', color='gray', linestyle='dashed')\n",
    "\n",
    "\n",
    "        axs[4].set_title(\"Precision \"+perc_TL+\"% TL\")\n",
    "        axs[4].set_xticklabels(models.keys(),rotation=60)\n",
    "        axs[4].set_ylabel(\"F1\")\n",
    "        axs[4].grid(axis='y', color='gray', linestyle='dashed')\n",
    "\n",
    "        axs[5].set_title(\"F1 \"+perc_TL+\"% TL\")\n",
    "        axs[5].set_xticklabels(models.keys(),rotation=60)\n",
    "        axs[5].set_ylabel(\"F1\")\n",
    "        axs[5].grid(axis='y', color='gray', linestyle='dashed')\n",
    "        figs.show()   "
   ]
  },
  {
   "cell_type": "code",
   "execution_count": null,
   "metadata": {
    "colab": {
     "base_uri": "https://localhost:8080/",
     "height": 693
    },
    "id": "2MJtiiDs3bL0",
    "outputId": "b6053268-c521-4a67-ddf6-dd72bd2330b8"
   },
   "outputs": [],
   "source": [
    "#Bar plot results  for testing and training using top 5 created features\n",
    "results_plt(X_train, y_train, X_test, y_test, \"40\")"
   ]
  },
  {
   "cell_type": "code",
   "execution_count": null,
   "metadata": {
    "id": "4nuHcJnUKAOc"
   },
   "outputs": [],
   "source": [
    "def results_line_plt(X_train, y_train, X_test, y_test, perc_TL):\n",
    "  train_accuracy, accuracy, precision, recall, auc, f1 = {}, {}, {}, {}, {}, {}\n",
    "  #figs, axs = plt.subplots(1,6,figsize=(35, 5))\n",
    "\n",
    "  for i, key in enumerate(models.keys()):\n",
    "\n",
    "          # Fit the classifier model\n",
    "          models[key].fit(X_train, y_train)\n",
    "\n",
    "          # Prediction\n",
    "          predictions = models[key].predict(X_test)\n",
    "          predictions_prob = models[key].predict_proba(X_test)[:,1]\n",
    "          train_predictions = models[key].predict(X_train)\n",
    "\n",
    "          # Calculate Accuracy, Precision and Recall Metrics\n",
    "          accuracy[key] = accuracy_score(predictions, y_test)\n",
    "          precision[key] = precision_score(predictions, y_test, zero_division=1)\n",
    "          recall[key] = recall_score(predictions, y_test, zero_division=1)\n",
    "          auc[key] = roc_auc_score(y_test, predictions_prob)\n",
    "          train_accuracy[key] = accuracy_score(train_predictions, y_train)\n",
    "          f1[key] = f1_score(y_test,predictions)\n",
    "          #should it be (true, pred)? yes\n",
    "  print(\"\\n------------------------------------------------------------------------\")\n",
    "  print(perc_TL+\"% TL train acc:\", np.round(list(train_accuracy.values()),2))\n",
    "  print(perc_TL+\"% TL test acc :\", np.round(list(accuracy.values()),2))\n",
    "  print(perc_TL+\"% TL precision:\",  np.round(list(precision.values()),2))\n",
    "  print(perc_TL+\"% TL recall   :\",  np.round(list(recall.values()),2))\n",
    "  print(perc_TL+\"% TL F1       :\",  np.round(list(f1.values()),2))\n",
    "  print(perc_TL+\"% TL ROC AUC  :\",  np.round(list(auc.values()),2))\n",
    "  print(\"------------------------------------------------------------------------\")\n",
    "  return train_accuracy, accuracy, precision, recall, auc, f1\n",
    "\n",
    "  \n"
   ]
  },
  {
   "cell_type": "code",
   "execution_count": null,
   "metadata": {
    "colab": {
     "base_uri": "https://localhost:8080/",
     "height": 1000
    },
    "id": "fS7Jmx-qKSby",
    "outputId": "f5dc40e8-c4f0-448c-9669-f6f8bfbfe918"
   },
   "outputs": [],
   "source": [
    "\n",
    "#Line plot results  for testing and training using top 5 created features\n",
    "train_accuracy_5, accuracy_5, precision_5, recall_5, auc_5, f1_5 = results_line_plt(Xs_train_5, yd_train_5, Xs_test_5, yd_test_5, \"5\")\n",
    "# train_accuracy_10, accuracy_10, precision_10, recall_10, auc_10, f1_10 = results_line_plt(Xs_train_10, yd_train_10, Xs_test_10, yd_test_10, \"10\")\n",
    "# train_accuracy_15, accuracy_15, precision_15, recall_15, auc_15, f1_15 = results_line_plt(Xs_train_15, yd_train_15, Xs_test_15, yd_test_15, \"15\")\n",
    "# train_accuracy_20, accuracy_20, precision_20, recall_20, auc_20, f1_20 = results_line_plt(Xs_train_20, yd_train_20, Xs_test_20, yd_test_20, \"20\")\n",
    "\n",
    "plt.figure(figsize=(7, 5))\n",
    "plt.title(\"Testing Accuracy for Varying %TL\")\n",
    "plt.plot(list(accuracy_5.keys()), list(accuracy_5.values()), '-o') \n",
    "# plt.plot(list(accuracy_10.keys()), list(accuracy_10.values()), '-s') \n",
    "# plt.plot(list(accuracy_15.keys()), list(accuracy_15.values()), '-^') \n",
    "# plt.plot(list(accuracy_20.keys()), list(accuracy_20.values()), '-v') \n",
    "plt.axhline(y=1, linestyle='--')\n",
    "plt.xticks(range(len(models)), models.keys(),rotation=60)\n",
    "plt.ylabel('Accuracy')\n",
    "plt.grid(axis='both', color='gray', linestyle='dashed')\n",
    "plt.legend([\"5% TL\"]) #, \"10% TL\", \"15% TL\", \"20% TL\"])\n",
    "\n",
    "plt.figure(figsize=(7, 5))\n",
    "plt.title(\"Training Accuracy for Varying %TL\")\n",
    "plt.plot(list(train_accuracy_5.keys()), list(train_accuracy_5.values()),'-o') \n",
    "# plt.plot(list(train_accuracy_10.keys()), list(train_accuracy_10.values()), '-s') \n",
    "# plt.plot(list(train_accuracy_15.keys()), list(train_accuracy_15.values()), '-^') \n",
    "# plt.plot(list(train_accuracy_20.keys()), list(train_accuracy_20.values()), '-v') \n",
    "plt.axhline(y=1, linestyle='--')\n",
    "plt.xticks(range(len(models)), models.keys(),rotation=60)\n",
    "plt.ylabel('Accuracy')\n",
    "plt.grid(axis='both', color='gray', linestyle='dashed')\n",
    "plt.legend([\"5% TL\"]) #, \"10% TL\", \"15% TL\", \"20% TL\"])\n",
    "\n",
    "plt.figure(figsize=(7, 5))\n",
    "plt.title(\"F1 score for Varying %TL\")\n",
    "plt.plot(list(f1_5.keys()), list(f1_5.values()),'-o') \n",
    "# plt.plot(list(f1_10.keys()), list(f1_10.values()), '-s') \n",
    "# plt.plot(list(f1_15.keys()), list(f1_15.values()), '-^') \n",
    "# plt.plot(list(f1_20.keys()), list(f1_20.values()), '-v') \n",
    "plt.axhline(y=1, linestyle='--')\n",
    "plt.xticks(range(len(models)), models.keys(),rotation=60)\n",
    "plt.ylabel('F1')\n",
    "plt.grid(axis='both', color='gray', linestyle='dashed')\n",
    "plt.legend([\"5% TL\"]) #, \"10% TL\", \"15% TL\", \"20% TL\"])\n",
    "\n",
    "plt.show() "
   ]
  },
  {
   "cell_type": "code",
   "execution_count": null,
   "metadata": {
    "colab": {
     "base_uri": "https://localhost:8080/",
     "height": 622
    },
    "id": "RMqT6Bjxsk13",
    "outputId": "e571f90e-2171-46b2-c695-ee3097f467f0"
   },
   "outputs": [],
   "source": []
  },
  {
   "cell_type": "code",
   "execution_count": null,
   "metadata": {
    "id": "cy-3klfLsk14"
   },
   "outputs": [],
   "source": [
    "from sklearn.metrics import confusion_matrix\n",
    "from sklearn.metrics import plot_confusion_matrix\n",
    "#confusion_matrix(y_test_5,predictions)\n",
    "plot_confusion_matrix(rf_reg, X_test_20, y_test_20)"
   ]
  },
  {
   "cell_type": "code",
   "execution_count": null,
   "metadata": {
    "id": "mgTPoTw7sk14"
   },
   "outputs": [],
   "source": [
    "df_20.describe()"
   ]
  },
  {
   "cell_type": "code",
   "execution_count": null,
   "metadata": {
    "id": "2P1rWHWOsk15"
   },
   "outputs": [],
   "source": [
    "from sklearn.model_selection import StratifiedKFold\n",
    "from sklearn.pipeline import make_pipeline\n",
    "from sklearn.preprocessing import StandardScaler\n",
    "\n",
    "from sklearn.model_selection import cross_val_score\n",
    "\n",
    "rf = RandomForestClassifier(min_samples_leaf = 5)\n",
    "scores = cross_val_score(rf, df_20.drop('solved_within_time_limit', axis=1), df_20['solved_within_time_limit'], cv=5, scoring='f1')\n",
    "scores"
   ]
  },
  {
   "cell_type": "code",
   "execution_count": null,
   "metadata": {
    "id": "Tca5kt3fsk15"
   },
   "outputs": [],
   "source": [
    "from sklearn.model_selection import cross_val_score, StratifiedKFold\n",
    "from sklearn.metrics import f1_score\n",
    "\n",
    "skf = StratifiedKFold(n_splits=5, shuffle=True)\n",
    "X = df_20.drop('solved_within_time_limit', axis=1)\n",
    "y = df_20['solved_within_time_limit']\n",
    "for train, test in skf.split(X, y):\n",
    "    rf = RandomForestClassifier(min_samples_leaf = 5)\n",
    "    rf.fit(X.iloc[train], y.iloc[train])\n",
    "    pred = rf.predict(X.iloc[test])\n",
    "    print(len(y.iloc[test][y == 1]))\n",
    "    print(f1_score(y.iloc[test], pred))\n",
    "    plot_confusion_matrix(rf, X.iloc[test], y.iloc[test])"
   ]
  },
  {
   "cell_type": "code",
   "execution_count": null,
   "metadata": {
    "id": "1eXMMZgUsk16"
   },
   "outputs": [],
   "source": []
  }
 ],
 "metadata": {
  "@webio": {
   "lastCommId": null,
   "lastKernelId": null
  },
  "colab": {
   "collapsed_sections": [],
   "name": "Analysis.ipynb",
   "provenance": []
  },
  "kernelspec": {
   "display_name": "idmp",
   "language": "python",
   "name": "idmp"
  },
  "language_info": {
   "codemirror_mode": {
    "name": "ipython",
    "version": 3
   },
   "file_extension": ".py",
   "mimetype": "text/x-python",
   "name": "python",
   "nbconvert_exporter": "python",
   "pygments_lexer": "ipython3",
   "version": "3.10.6"
  }
 },
 "nbformat": 4,
 "nbformat_minor": 1
}
