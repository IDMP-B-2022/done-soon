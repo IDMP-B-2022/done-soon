{
 "cells": [
  {
   "cell_type": "code",
   "execution_count": 1,
   "metadata": {},
   "outputs": [],
   "source": [
    "import json\n",
    "from pathlib import Path\n",
    "import pickle\n",
    "\n",
    "from rich.progress import track\n",
    "\n",
    "import pandas as pd"
   ]
  },
  {
   "cell_type": "code",
   "execution_count": 2,
   "metadata": {},
   "outputs": [],
   "source": [
    "EXPERIMENT_NAME = \"base-experiment\"\n",
    "ANALYSIS_BASE = \"./analysis/paper-data/\"\n",
    "INCLUDE_EWMA = False\n",
    "INCLUDE_GRADIENTS = False\n",
    "\n",
    "CROSS_VALIDATIONS_PATH = f\"./cross-validations-{EXPERIMENT_NAME}\"\n"
   ]
  },
  {
   "cell_type": "code",
   "execution_count": 3,
   "metadata": {},
   "outputs": [],
   "source": [
    "def filter_dataframe_for_current_experiment(data_flattened):\n",
    "    df = data_flattened.loc[(slice(None), slice(None), INCLUDE_GRADIENTS, INCLUDE_EWMA), :]\n",
    "    df.index = df.index.droplevel([2, 3])\n",
    "    df = df.sort_values(by=['percentage', 'model'])\n",
    "\n",
    "    def float_or_list_to_tuple(x):\n",
    "        if isinstance(x, list):\n",
    "            return tuple(x)\n",
    "        return x\n",
    "\n",
    "    df[\"hidden_layer_sizes\"] = df['hidden_layer_sizes'].apply(float_or_list_to_tuple)\n",
    "    return df"
   ]
  },
  {
   "cell_type": "code",
   "execution_count": 4,
   "metadata": {},
   "outputs": [],
   "source": [
    "\n",
    "def parse_files(cross_validations_path, seed):\n",
    "    \"\"\"\n",
    "    Parse files and use pd.json_normalize to flatten the json.\n",
    "    \"\"\"\n",
    "    files = Path(ANALYSIS_BASE).joinpath(f\"{cross_validations_path}-{seed}\").glob(\"**/*.json\")\n",
    "    results = pd.DataFrame()\n",
    "    files = list(files)\n",
    "\n",
    "    for file in track(\n",
    "        files,\n",
    "        description=\"Loading hyperparameters and \"\n",
    "        \"performance data from file to DataFrame\",\n",
    "    ):\n",
    "        with open(file) as f:\n",
    "            data = json.load(f)\n",
    "            original_target = data[\"original_target\"]\n",
    "            original_dict = json.loads(Path(original_target).read_text())\n",
    "\n",
    "            f1_scores = pd.json_normalize(data, \"f1_scores\")\n",
    "            normalized_data = pd.json_normalize(original_dict)\n",
    "            normalized_data = pd.concat(\n",
    "                [normalized_data] * len(f1_scores), ignore_index=True\n",
    "            )\n",
    "            normalized_data[\"metrics.f1_score\"] = f1_scores\n",
    "            normalized_data[\"paths.model_path\"] = data[\"model_path\"]\n",
    "            results = pd.concat([results, normalized_data])\n",
    "\n",
    "    results = results.set_index(\n",
    "        [\"percentage\", \"model\", \"use_gradient\", \"use_ewma\"]\n",
    "    )\n",
    "    results.columns = pd.MultiIndex.from_arrays(\n",
    "        zip(*results.columns.str.split(\".\", expand=True))\n",
    "    )\n",
    "    results = results.sort_index(axis=1)\n",
    "    results = results.drop(columns=['k_fold', 'preprocessing'])\n",
    "    results = results.droplevel(0, axis=1)\n",
    "\n",
    "    results = filter_dataframe_for_current_experiment(results)\n",
    "\n",
    "    return results"
   ]
  },
  {
   "cell_type": "code",
   "execution_count": 5,
   "metadata": {},
   "outputs": [],
   "source": [
    "def pick_best_hyperparameters_from_k_folds(k_folds_data):\n",
    "\n",
    "    PERCENTAGES = [2, 5, 10, 15, 20, 25, 30, 35, 40 ]\n",
    "    MODELS = ['RF', 'DUM', 'ET', 'AdaBoost']\n",
    "    FILTER_MODELS = True\n",
    "\n",
    "    # This is a bit hacky, but I add model_path here because its only always the same\n",
    "    # so it doesn't have effect on the groupby.\n",
    "    # Would be better to `df.merge` though.\n",
    "    group = k_folds_data.groupby(['percentage', 'model', 'C', 'hidden_layer_sizes', 'kernel', 'learning_rate', 'max_depth', 'n_estimators', 'alpha', 'model_path'], dropna=False)\n",
    "    summary = group['f1_score'].agg(['mean', 'std'])\n",
    "\n",
    "    idx = summary.groupby(['percentage', 'model']).idxmax()\n",
    "\n",
    "    best_hyperparams = summary.loc[idx['mean'], :]\n",
    "\n",
    "    best_models_per_percentage_and_type = best_hyperparams[best_hyperparams.index.get_level_values('percentage').isin(PERCENTAGES)]\n",
    "    if FILTER_MODELS:\n",
    "        best_models_per_percentage_and_type =  best_models_per_percentage_and_type[best_models_per_percentage_and_type.index.get_level_values('model').isin(MODELS)]\n",
    "    return best_models_per_percentage_and_type\n",
    "\n"
   ]
  },
  {
   "cell_type": "code",
   "execution_count": 6,
   "metadata": {},
   "outputs": [],
   "source": [
    "def load_classifiers_from_best_models(best_models_per_percentage_and_type):\n",
    "    classifiers = {}\n",
    "    for _, row in best_models_per_percentage_and_type.reset_index().iterrows():\n",
    "        \n",
    "        with open(row['model_path'], 'rb') as f:\n",
    "            instantiated_model = pickle.load(f)\n",
    "        classifiers[(row['percentage'], row['model'])] = instantiated_model\n",
    "    return classifiers"
   ]
  },
  {
   "cell_type": "code",
   "execution_count": 7,
   "metadata": {},
   "outputs": [
    {
     "data": {
      "application/vnd.jupyter.widget-view+json": {
       "model_id": "69d352632c654c30b0f61be54ce072df",
       "version_major": 2,
       "version_minor": 0
      },
      "text/plain": [
       "Output()"
      ]
     },
     "metadata": {},
     "output_type": "display_data"
    },
    {
     "data": {
      "text/html": [
       "<pre style=\"white-space:pre;overflow-x:auto;line-height:normal;font-family:Menlo,'DejaVu Sans Mono',consolas,'Courier New',monospace\"></pre>\n"
      ],
      "text/plain": []
     },
     "metadata": {},
     "output_type": "display_data"
    },
    {
     "data": {
      "text/html": [
       "<pre style=\"white-space:pre;overflow-x:auto;line-height:normal;font-family:Menlo,'DejaVu Sans Mono',consolas,'Courier New',monospace\">\n",
       "</pre>\n"
      ],
      "text/plain": [
       "\n"
      ]
     },
     "metadata": {},
     "output_type": "display_data"
    },
    {
     "data": {
      "application/vnd.jupyter.widget-view+json": {
       "model_id": "6fbc18a1ceb54350b3daae5c238064ab",
       "version_major": 2,
       "version_minor": 0
      },
      "text/plain": [
       "Output()"
      ]
     },
     "metadata": {},
     "output_type": "display_data"
    },
    {
     "data": {
      "text/html": [
       "<pre style=\"white-space:pre;overflow-x:auto;line-height:normal;font-family:Menlo,'DejaVu Sans Mono',consolas,'Courier New',monospace\"></pre>\n"
      ],
      "text/plain": []
     },
     "metadata": {},
     "output_type": "display_data"
    },
    {
     "data": {
      "text/html": [
       "<pre style=\"white-space:pre;overflow-x:auto;line-height:normal;font-family:Menlo,'DejaVu Sans Mono',consolas,'Courier New',monospace\">\n",
       "</pre>\n"
      ],
      "text/plain": [
       "\n"
      ]
     },
     "metadata": {},
     "output_type": "display_data"
    },
    {
     "data": {
      "application/vnd.jupyter.widget-view+json": {
       "model_id": "cb08c6a919ca492e820875919e28d7e4",
       "version_major": 2,
       "version_minor": 0
      },
      "text/plain": [
       "Output()"
      ]
     },
     "metadata": {},
     "output_type": "display_data"
    },
    {
     "data": {
      "text/html": [
       "<pre style=\"white-space:pre;overflow-x:auto;line-height:normal;font-family:Menlo,'DejaVu Sans Mono',consolas,'Courier New',monospace\">/tmp/ipykernel_120664/3199749346.py:26: FutureWarning: The behavior of DataFrame concatenation with empty or all-NA\n",
       "entries is deprecated. In a future version, this will no longer exclude empty or all-NA columns when determining \n",
       "the result dtypes. To retain the old behavior, exclude the relevant entries before the concat operation.\n",
       "  results = pd.concat([results, normalized_data])\n",
       "</pre>\n"
      ],
      "text/plain": [
       "/tmp/ipykernel_120664/3199749346.py:26: FutureWarning: The behavior of DataFrame concatenation with empty or all-NA\n",
       "entries is deprecated. In a future version, this will no longer exclude empty or all-NA columns when determining \n",
       "the result dtypes. To retain the old behavior, exclude the relevant entries before the concat operation.\n",
       "  results = pd.concat([results, normalized_data])\n"
      ]
     },
     "metadata": {},
     "output_type": "display_data"
    },
    {
     "data": {
      "text/html": [
       "<pre style=\"white-space:pre;overflow-x:auto;line-height:normal;font-family:Menlo,'DejaVu Sans Mono',consolas,'Courier New',monospace\">/tmp/ipykernel_120664/3199749346.py:26: FutureWarning: The behavior of DataFrame concatenation with empty or all-NA\n",
       "entries is deprecated. In a future version, this will no longer exclude empty or all-NA columns when determining \n",
       "the result dtypes. To retain the old behavior, exclude the relevant entries before the concat operation.\n",
       "  results = pd.concat([results, normalized_data])\n",
       "</pre>\n"
      ],
      "text/plain": [
       "/tmp/ipykernel_120664/3199749346.py:26: FutureWarning: The behavior of DataFrame concatenation with empty or all-NA\n",
       "entries is deprecated. In a future version, this will no longer exclude empty or all-NA columns when determining \n",
       "the result dtypes. To retain the old behavior, exclude the relevant entries before the concat operation.\n",
       "  results = pd.concat([results, normalized_data])\n"
      ]
     },
     "metadata": {},
     "output_type": "display_data"
    },
    {
     "data": {
      "text/html": [
       "<pre style=\"white-space:pre;overflow-x:auto;line-height:normal;font-family:Menlo,'DejaVu Sans Mono',consolas,'Courier New',monospace\">/tmp/ipykernel_120664/3199749346.py:26: FutureWarning: The behavior of DataFrame concatenation with empty or all-NA\n",
       "entries is deprecated. In a future version, this will no longer exclude empty or all-NA columns when determining \n",
       "the result dtypes. To retain the old behavior, exclude the relevant entries before the concat operation.\n",
       "  results = pd.concat([results, normalized_data])\n",
       "</pre>\n"
      ],
      "text/plain": [
       "/tmp/ipykernel_120664/3199749346.py:26: FutureWarning: The behavior of DataFrame concatenation with empty or all-NA\n",
       "entries is deprecated. In a future version, this will no longer exclude empty or all-NA columns when determining \n",
       "the result dtypes. To retain the old behavior, exclude the relevant entries before the concat operation.\n",
       "  results = pd.concat([results, normalized_data])\n"
      ]
     },
     "metadata": {},
     "output_type": "display_data"
    },
    {
     "data": {
      "text/html": [
       "<pre style=\"white-space:pre;overflow-x:auto;line-height:normal;font-family:Menlo,'DejaVu Sans Mono',consolas,'Courier New',monospace\">/tmp/ipykernel_120664/3199749346.py:26: FutureWarning: The behavior of DataFrame concatenation with empty or all-NA\n",
       "entries is deprecated. In a future version, this will no longer exclude empty or all-NA columns when determining \n",
       "the result dtypes. To retain the old behavior, exclude the relevant entries before the concat operation.\n",
       "  results = pd.concat([results, normalized_data])\n",
       "</pre>\n"
      ],
      "text/plain": [
       "/tmp/ipykernel_120664/3199749346.py:26: FutureWarning: The behavior of DataFrame concatenation with empty or all-NA\n",
       "entries is deprecated. In a future version, this will no longer exclude empty or all-NA columns when determining \n",
       "the result dtypes. To retain the old behavior, exclude the relevant entries before the concat operation.\n",
       "  results = pd.concat([results, normalized_data])\n"
      ]
     },
     "metadata": {},
     "output_type": "display_data"
    },
    {
     "data": {
      "text/html": [
       "<pre style=\"white-space:pre;overflow-x:auto;line-height:normal;font-family:Menlo,'DejaVu Sans Mono',consolas,'Courier New',monospace\">/tmp/ipykernel_120664/3199749346.py:26: FutureWarning: The behavior of DataFrame concatenation with empty or all-NA\n",
       "entries is deprecated. In a future version, this will no longer exclude empty or all-NA columns when determining \n",
       "the result dtypes. To retain the old behavior, exclude the relevant entries before the concat operation.\n",
       "  results = pd.concat([results, normalized_data])\n",
       "</pre>\n"
      ],
      "text/plain": [
       "/tmp/ipykernel_120664/3199749346.py:26: FutureWarning: The behavior of DataFrame concatenation with empty or all-NA\n",
       "entries is deprecated. In a future version, this will no longer exclude empty or all-NA columns when determining \n",
       "the result dtypes. To retain the old behavior, exclude the relevant entries before the concat operation.\n",
       "  results = pd.concat([results, normalized_data])\n"
      ]
     },
     "metadata": {},
     "output_type": "display_data"
    },
    {
     "data": {
      "text/html": [
       "<pre style=\"white-space:pre;overflow-x:auto;line-height:normal;font-family:Menlo,'DejaVu Sans Mono',consolas,'Courier New',monospace\">/tmp/ipykernel_120664/3199749346.py:26: FutureWarning: The behavior of DataFrame concatenation with empty or all-NA\n",
       "entries is deprecated. In a future version, this will no longer exclude empty or all-NA columns when determining \n",
       "the result dtypes. To retain the old behavior, exclude the relevant entries before the concat operation.\n",
       "  results = pd.concat([results, normalized_data])\n",
       "</pre>\n"
      ],
      "text/plain": [
       "/tmp/ipykernel_120664/3199749346.py:26: FutureWarning: The behavior of DataFrame concatenation with empty or all-NA\n",
       "entries is deprecated. In a future version, this will no longer exclude empty or all-NA columns when determining \n",
       "the result dtypes. To retain the old behavior, exclude the relevant entries before the concat operation.\n",
       "  results = pd.concat([results, normalized_data])\n"
      ]
     },
     "metadata": {},
     "output_type": "display_data"
    },
    {
     "data": {
      "text/html": [
       "<pre style=\"white-space:pre;overflow-x:auto;line-height:normal;font-family:Menlo,'DejaVu Sans Mono',consolas,'Courier New',monospace\">/tmp/ipykernel_120664/3199749346.py:26: FutureWarning: The behavior of DataFrame concatenation with empty or all-NA\n",
       "entries is deprecated. In a future version, this will no longer exclude empty or all-NA columns when determining \n",
       "the result dtypes. To retain the old behavior, exclude the relevant entries before the concat operation.\n",
       "  results = pd.concat([results, normalized_data])\n",
       "</pre>\n"
      ],
      "text/plain": [
       "/tmp/ipykernel_120664/3199749346.py:26: FutureWarning: The behavior of DataFrame concatenation with empty or all-NA\n",
       "entries is deprecated. In a future version, this will no longer exclude empty or all-NA columns when determining \n",
       "the result dtypes. To retain the old behavior, exclude the relevant entries before the concat operation.\n",
       "  results = pd.concat([results, normalized_data])\n"
      ]
     },
     "metadata": {},
     "output_type": "display_data"
    },
    {
     "data": {
      "text/html": [
       "<pre style=\"white-space:pre;overflow-x:auto;line-height:normal;font-family:Menlo,'DejaVu Sans Mono',consolas,'Courier New',monospace\">/tmp/ipykernel_120664/3199749346.py:26: FutureWarning: The behavior of DataFrame concatenation with empty or all-NA\n",
       "entries is deprecated. In a future version, this will no longer exclude empty or all-NA columns when determining \n",
       "the result dtypes. To retain the old behavior, exclude the relevant entries before the concat operation.\n",
       "  results = pd.concat([results, normalized_data])\n",
       "</pre>\n"
      ],
      "text/plain": [
       "/tmp/ipykernel_120664/3199749346.py:26: FutureWarning: The behavior of DataFrame concatenation with empty or all-NA\n",
       "entries is deprecated. In a future version, this will no longer exclude empty or all-NA columns when determining \n",
       "the result dtypes. To retain the old behavior, exclude the relevant entries before the concat operation.\n",
       "  results = pd.concat([results, normalized_data])\n"
      ]
     },
     "metadata": {},
     "output_type": "display_data"
    },
    {
     "data": {
      "text/html": [
       "<pre style=\"white-space:pre;overflow-x:auto;line-height:normal;font-family:Menlo,'DejaVu Sans Mono',consolas,'Courier New',monospace\">/tmp/ipykernel_120664/3199749346.py:26: FutureWarning: The behavior of DataFrame concatenation with empty or all-NA\n",
       "entries is deprecated. In a future version, this will no longer exclude empty or all-NA columns when determining \n",
       "the result dtypes. To retain the old behavior, exclude the relevant entries before the concat operation.\n",
       "  results = pd.concat([results, normalized_data])\n",
       "</pre>\n"
      ],
      "text/plain": [
       "/tmp/ipykernel_120664/3199749346.py:26: FutureWarning: The behavior of DataFrame concatenation with empty or all-NA\n",
       "entries is deprecated. In a future version, this will no longer exclude empty or all-NA columns when determining \n",
       "the result dtypes. To retain the old behavior, exclude the relevant entries before the concat operation.\n",
       "  results = pd.concat([results, normalized_data])\n"
      ]
     },
     "metadata": {},
     "output_type": "display_data"
    },
    {
     "data": {
      "text/html": [
       "<pre style=\"white-space:pre;overflow-x:auto;line-height:normal;font-family:Menlo,'DejaVu Sans Mono',consolas,'Courier New',monospace\">/tmp/ipykernel_120664/3199749346.py:26: FutureWarning: The behavior of DataFrame concatenation with empty or all-NA\n",
       "entries is deprecated. In a future version, this will no longer exclude empty or all-NA columns when determining \n",
       "the result dtypes. To retain the old behavior, exclude the relevant entries before the concat operation.\n",
       "  results = pd.concat([results, normalized_data])\n",
       "</pre>\n"
      ],
      "text/plain": [
       "/tmp/ipykernel_120664/3199749346.py:26: FutureWarning: The behavior of DataFrame concatenation with empty or all-NA\n",
       "entries is deprecated. In a future version, this will no longer exclude empty or all-NA columns when determining \n",
       "the result dtypes. To retain the old behavior, exclude the relevant entries before the concat operation.\n",
       "  results = pd.concat([results, normalized_data])\n"
      ]
     },
     "metadata": {},
     "output_type": "display_data"
    },
    {
     "data": {
      "text/html": [
       "<pre style=\"white-space:pre;overflow-x:auto;line-height:normal;font-family:Menlo,'DejaVu Sans Mono',consolas,'Courier New',monospace\">/tmp/ipykernel_120664/3199749346.py:26: FutureWarning: The behavior of DataFrame concatenation with empty or all-NA\n",
       "entries is deprecated. In a future version, this will no longer exclude empty or all-NA columns when determining \n",
       "the result dtypes. To retain the old behavior, exclude the relevant entries before the concat operation.\n",
       "  results = pd.concat([results, normalized_data])\n",
       "</pre>\n"
      ],
      "text/plain": [
       "/tmp/ipykernel_120664/3199749346.py:26: FutureWarning: The behavior of DataFrame concatenation with empty or all-NA\n",
       "entries is deprecated. In a future version, this will no longer exclude empty or all-NA columns when determining \n",
       "the result dtypes. To retain the old behavior, exclude the relevant entries before the concat operation.\n",
       "  results = pd.concat([results, normalized_data])\n"
      ]
     },
     "metadata": {},
     "output_type": "display_data"
    },
    {
     "data": {
      "text/html": [
       "<pre style=\"white-space:pre;overflow-x:auto;line-height:normal;font-family:Menlo,'DejaVu Sans Mono',consolas,'Courier New',monospace\">/tmp/ipykernel_120664/3199749346.py:26: FutureWarning: The behavior of DataFrame concatenation with empty or all-NA\n",
       "entries is deprecated. In a future version, this will no longer exclude empty or all-NA columns when determining \n",
       "the result dtypes. To retain the old behavior, exclude the relevant entries before the concat operation.\n",
       "  results = pd.concat([results, normalized_data])\n",
       "</pre>\n"
      ],
      "text/plain": [
       "/tmp/ipykernel_120664/3199749346.py:26: FutureWarning: The behavior of DataFrame concatenation with empty or all-NA\n",
       "entries is deprecated. In a future version, this will no longer exclude empty or all-NA columns when determining \n",
       "the result dtypes. To retain the old behavior, exclude the relevant entries before the concat operation.\n",
       "  results = pd.concat([results, normalized_data])\n"
      ]
     },
     "metadata": {},
     "output_type": "display_data"
    },
    {
     "data": {
      "text/html": [
       "<pre style=\"white-space:pre;overflow-x:auto;line-height:normal;font-family:Menlo,'DejaVu Sans Mono',consolas,'Courier New',monospace\">/tmp/ipykernel_120664/3199749346.py:26: FutureWarning: The behavior of DataFrame concatenation with empty or all-NA\n",
       "entries is deprecated. In a future version, this will no longer exclude empty or all-NA columns when determining \n",
       "the result dtypes. To retain the old behavior, exclude the relevant entries before the concat operation.\n",
       "  results = pd.concat([results, normalized_data])\n",
       "</pre>\n"
      ],
      "text/plain": [
       "/tmp/ipykernel_120664/3199749346.py:26: FutureWarning: The behavior of DataFrame concatenation with empty or all-NA\n",
       "entries is deprecated. In a future version, this will no longer exclude empty or all-NA columns when determining \n",
       "the result dtypes. To retain the old behavior, exclude the relevant entries before the concat operation.\n",
       "  results = pd.concat([results, normalized_data])\n"
      ]
     },
     "metadata": {},
     "output_type": "display_data"
    },
    {
     "data": {
      "text/html": [
       "<pre style=\"white-space:pre;overflow-x:auto;line-height:normal;font-family:Menlo,'DejaVu Sans Mono',consolas,'Courier New',monospace\">/tmp/ipykernel_120664/3199749346.py:26: FutureWarning: The behavior of DataFrame concatenation with empty or all-NA\n",
       "entries is deprecated. In a future version, this will no longer exclude empty or all-NA columns when determining \n",
       "the result dtypes. To retain the old behavior, exclude the relevant entries before the concat operation.\n",
       "  results = pd.concat([results, normalized_data])\n",
       "</pre>\n"
      ],
      "text/plain": [
       "/tmp/ipykernel_120664/3199749346.py:26: FutureWarning: The behavior of DataFrame concatenation with empty or all-NA\n",
       "entries is deprecated. In a future version, this will no longer exclude empty or all-NA columns when determining \n",
       "the result dtypes. To retain the old behavior, exclude the relevant entries before the concat operation.\n",
       "  results = pd.concat([results, normalized_data])\n"
      ]
     },
     "metadata": {},
     "output_type": "display_data"
    },
    {
     "data": {
      "text/html": [
       "<pre style=\"white-space:pre;overflow-x:auto;line-height:normal;font-family:Menlo,'DejaVu Sans Mono',consolas,'Courier New',monospace\">/tmp/ipykernel_120664/3199749346.py:26: FutureWarning: The behavior of DataFrame concatenation with empty or all-NA\n",
       "entries is deprecated. In a future version, this will no longer exclude empty or all-NA columns when determining \n",
       "the result dtypes. To retain the old behavior, exclude the relevant entries before the concat operation.\n",
       "  results = pd.concat([results, normalized_data])\n",
       "</pre>\n"
      ],
      "text/plain": [
       "/tmp/ipykernel_120664/3199749346.py:26: FutureWarning: The behavior of DataFrame concatenation with empty or all-NA\n",
       "entries is deprecated. In a future version, this will no longer exclude empty or all-NA columns when determining \n",
       "the result dtypes. To retain the old behavior, exclude the relevant entries before the concat operation.\n",
       "  results = pd.concat([results, normalized_data])\n"
      ]
     },
     "metadata": {},
     "output_type": "display_data"
    },
    {
     "data": {
      "text/html": [
       "<pre style=\"white-space:pre;overflow-x:auto;line-height:normal;font-family:Menlo,'DejaVu Sans Mono',consolas,'Courier New',monospace\">/tmp/ipykernel_120664/3199749346.py:26: FutureWarning: The behavior of DataFrame concatenation with empty or all-NA\n",
       "entries is deprecated. In a future version, this will no longer exclude empty or all-NA columns when determining \n",
       "the result dtypes. To retain the old behavior, exclude the relevant entries before the concat operation.\n",
       "  results = pd.concat([results, normalized_data])\n",
       "</pre>\n"
      ],
      "text/plain": [
       "/tmp/ipykernel_120664/3199749346.py:26: FutureWarning: The behavior of DataFrame concatenation with empty or all-NA\n",
       "entries is deprecated. In a future version, this will no longer exclude empty or all-NA columns when determining \n",
       "the result dtypes. To retain the old behavior, exclude the relevant entries before the concat operation.\n",
       "  results = pd.concat([results, normalized_data])\n"
      ]
     },
     "metadata": {},
     "output_type": "display_data"
    },
    {
     "data": {
      "text/html": [
       "<pre style=\"white-space:pre;overflow-x:auto;line-height:normal;font-family:Menlo,'DejaVu Sans Mono',consolas,'Courier New',monospace\">/tmp/ipykernel_120664/3199749346.py:26: FutureWarning: The behavior of DataFrame concatenation with empty or all-NA\n",
       "entries is deprecated. In a future version, this will no longer exclude empty or all-NA columns when determining \n",
       "the result dtypes. To retain the old behavior, exclude the relevant entries before the concat operation.\n",
       "  results = pd.concat([results, normalized_data])\n",
       "</pre>\n"
      ],
      "text/plain": [
       "/tmp/ipykernel_120664/3199749346.py:26: FutureWarning: The behavior of DataFrame concatenation with empty or all-NA\n",
       "entries is deprecated. In a future version, this will no longer exclude empty or all-NA columns when determining \n",
       "the result dtypes. To retain the old behavior, exclude the relevant entries before the concat operation.\n",
       "  results = pd.concat([results, normalized_data])\n"
      ]
     },
     "metadata": {},
     "output_type": "display_data"
    },
    {
     "data": {
      "text/html": [
       "<pre style=\"white-space:pre;overflow-x:auto;line-height:normal;font-family:Menlo,'DejaVu Sans Mono',consolas,'Courier New',monospace\">/tmp/ipykernel_120664/3199749346.py:26: FutureWarning: The behavior of DataFrame concatenation with empty or all-NA\n",
       "entries is deprecated. In a future version, this will no longer exclude empty or all-NA columns when determining \n",
       "the result dtypes. To retain the old behavior, exclude the relevant entries before the concat operation.\n",
       "  results = pd.concat([results, normalized_data])\n",
       "</pre>\n"
      ],
      "text/plain": [
       "/tmp/ipykernel_120664/3199749346.py:26: FutureWarning: The behavior of DataFrame concatenation with empty or all-NA\n",
       "entries is deprecated. In a future version, this will no longer exclude empty or all-NA columns when determining \n",
       "the result dtypes. To retain the old behavior, exclude the relevant entries before the concat operation.\n",
       "  results = pd.concat([results, normalized_data])\n"
      ]
     },
     "metadata": {},
     "output_type": "display_data"
    },
    {
     "data": {
      "text/html": [
       "<pre style=\"white-space:pre;overflow-x:auto;line-height:normal;font-family:Menlo,'DejaVu Sans Mono',consolas,'Courier New',monospace\">/tmp/ipykernel_120664/3199749346.py:26: FutureWarning: The behavior of DataFrame concatenation with empty or all-NA\n",
       "entries is deprecated. In a future version, this will no longer exclude empty or all-NA columns when determining \n",
       "the result dtypes. To retain the old behavior, exclude the relevant entries before the concat operation.\n",
       "  results = pd.concat([results, normalized_data])\n",
       "</pre>\n"
      ],
      "text/plain": [
       "/tmp/ipykernel_120664/3199749346.py:26: FutureWarning: The behavior of DataFrame concatenation with empty or all-NA\n",
       "entries is deprecated. In a future version, this will no longer exclude empty or all-NA columns when determining \n",
       "the result dtypes. To retain the old behavior, exclude the relevant entries before the concat operation.\n",
       "  results = pd.concat([results, normalized_data])\n"
      ]
     },
     "metadata": {},
     "output_type": "display_data"
    },
    {
     "data": {
      "text/html": [
       "<pre style=\"white-space:pre;overflow-x:auto;line-height:normal;font-family:Menlo,'DejaVu Sans Mono',consolas,'Courier New',monospace\">/tmp/ipykernel_120664/3199749346.py:26: FutureWarning: The behavior of DataFrame concatenation with empty or all-NA\n",
       "entries is deprecated. In a future version, this will no longer exclude empty or all-NA columns when determining \n",
       "the result dtypes. To retain the old behavior, exclude the relevant entries before the concat operation.\n",
       "  results = pd.concat([results, normalized_data])\n",
       "</pre>\n"
      ],
      "text/plain": [
       "/tmp/ipykernel_120664/3199749346.py:26: FutureWarning: The behavior of DataFrame concatenation with empty or all-NA\n",
       "entries is deprecated. In a future version, this will no longer exclude empty or all-NA columns when determining \n",
       "the result dtypes. To retain the old behavior, exclude the relevant entries before the concat operation.\n",
       "  results = pd.concat([results, normalized_data])\n"
      ]
     },
     "metadata": {},
     "output_type": "display_data"
    },
    {
     "data": {
      "text/html": [
       "<pre style=\"white-space:pre;overflow-x:auto;line-height:normal;font-family:Menlo,'DejaVu Sans Mono',consolas,'Courier New',monospace\">/tmp/ipykernel_120664/3199749346.py:26: FutureWarning: The behavior of DataFrame concatenation with empty or all-NA\n",
       "entries is deprecated. In a future version, this will no longer exclude empty or all-NA columns when determining \n",
       "the result dtypes. To retain the old behavior, exclude the relevant entries before the concat operation.\n",
       "  results = pd.concat([results, normalized_data])\n",
       "</pre>\n"
      ],
      "text/plain": [
       "/tmp/ipykernel_120664/3199749346.py:26: FutureWarning: The behavior of DataFrame concatenation with empty or all-NA\n",
       "entries is deprecated. In a future version, this will no longer exclude empty or all-NA columns when determining \n",
       "the result dtypes. To retain the old behavior, exclude the relevant entries before the concat operation.\n",
       "  results = pd.concat([results, normalized_data])\n"
      ]
     },
     "metadata": {},
     "output_type": "display_data"
    },
    {
     "data": {
      "text/html": [
       "<pre style=\"white-space:pre;overflow-x:auto;line-height:normal;font-family:Menlo,'DejaVu Sans Mono',consolas,'Courier New',monospace\">/tmp/ipykernel_120664/3199749346.py:26: FutureWarning: The behavior of DataFrame concatenation with empty or all-NA\n",
       "entries is deprecated. In a future version, this will no longer exclude empty or all-NA columns when determining \n",
       "the result dtypes. To retain the old behavior, exclude the relevant entries before the concat operation.\n",
       "  results = pd.concat([results, normalized_data])\n",
       "</pre>\n"
      ],
      "text/plain": [
       "/tmp/ipykernel_120664/3199749346.py:26: FutureWarning: The behavior of DataFrame concatenation with empty or all-NA\n",
       "entries is deprecated. In a future version, this will no longer exclude empty or all-NA columns when determining \n",
       "the result dtypes. To retain the old behavior, exclude the relevant entries before the concat operation.\n",
       "  results = pd.concat([results, normalized_data])\n"
      ]
     },
     "metadata": {},
     "output_type": "display_data"
    },
    {
     "data": {
      "text/html": [
       "<pre style=\"white-space:pre;overflow-x:auto;line-height:normal;font-family:Menlo,'DejaVu Sans Mono',consolas,'Courier New',monospace\">/tmp/ipykernel_120664/3199749346.py:26: FutureWarning: The behavior of DataFrame concatenation with empty or all-NA\n",
       "entries is deprecated. In a future version, this will no longer exclude empty or all-NA columns when determining \n",
       "the result dtypes. To retain the old behavior, exclude the relevant entries before the concat operation.\n",
       "  results = pd.concat([results, normalized_data])\n",
       "</pre>\n"
      ],
      "text/plain": [
       "/tmp/ipykernel_120664/3199749346.py:26: FutureWarning: The behavior of DataFrame concatenation with empty or all-NA\n",
       "entries is deprecated. In a future version, this will no longer exclude empty or all-NA columns when determining \n",
       "the result dtypes. To retain the old behavior, exclude the relevant entries before the concat operation.\n",
       "  results = pd.concat([results, normalized_data])\n"
      ]
     },
     "metadata": {},
     "output_type": "display_data"
    },
    {
     "data": {
      "text/html": [
       "<pre style=\"white-space:pre;overflow-x:auto;line-height:normal;font-family:Menlo,'DejaVu Sans Mono',consolas,'Courier New',monospace\">/tmp/ipykernel_120664/3199749346.py:26: FutureWarning: The behavior of DataFrame concatenation with empty or all-NA\n",
       "entries is deprecated. In a future version, this will no longer exclude empty or all-NA columns when determining \n",
       "the result dtypes. To retain the old behavior, exclude the relevant entries before the concat operation.\n",
       "  results = pd.concat([results, normalized_data])\n",
       "</pre>\n"
      ],
      "text/plain": [
       "/tmp/ipykernel_120664/3199749346.py:26: FutureWarning: The behavior of DataFrame concatenation with empty or all-NA\n",
       "entries is deprecated. In a future version, this will no longer exclude empty or all-NA columns when determining \n",
       "the result dtypes. To retain the old behavior, exclude the relevant entries before the concat operation.\n",
       "  results = pd.concat([results, normalized_data])\n"
      ]
     },
     "metadata": {},
     "output_type": "display_data"
    },
    {
     "data": {
      "text/html": [
       "<pre style=\"white-space:pre;overflow-x:auto;line-height:normal;font-family:Menlo,'DejaVu Sans Mono',consolas,'Courier New',monospace\">/tmp/ipykernel_120664/3199749346.py:26: FutureWarning: The behavior of DataFrame concatenation with empty or all-NA\n",
       "entries is deprecated. In a future version, this will no longer exclude empty or all-NA columns when determining \n",
       "the result dtypes. To retain the old behavior, exclude the relevant entries before the concat operation.\n",
       "  results = pd.concat([results, normalized_data])\n",
       "</pre>\n"
      ],
      "text/plain": [
       "/tmp/ipykernel_120664/3199749346.py:26: FutureWarning: The behavior of DataFrame concatenation with empty or all-NA\n",
       "entries is deprecated. In a future version, this will no longer exclude empty or all-NA columns when determining \n",
       "the result dtypes. To retain the old behavior, exclude the relevant entries before the concat operation.\n",
       "  results = pd.concat([results, normalized_data])\n"
      ]
     },
     "metadata": {},
     "output_type": "display_data"
    },
    {
     "data": {
      "text/html": [
       "<pre style=\"white-space:pre;overflow-x:auto;line-height:normal;font-family:Menlo,'DejaVu Sans Mono',consolas,'Courier New',monospace\">/tmp/ipykernel_120664/3199749346.py:26: FutureWarning: The behavior of DataFrame concatenation with empty or all-NA\n",
       "entries is deprecated. In a future version, this will no longer exclude empty or all-NA columns when determining \n",
       "the result dtypes. To retain the old behavior, exclude the relevant entries before the concat operation.\n",
       "  results = pd.concat([results, normalized_data])\n",
       "</pre>\n"
      ],
      "text/plain": [
       "/tmp/ipykernel_120664/3199749346.py:26: FutureWarning: The behavior of DataFrame concatenation with empty or all-NA\n",
       "entries is deprecated. In a future version, this will no longer exclude empty or all-NA columns when determining \n",
       "the result dtypes. To retain the old behavior, exclude the relevant entries before the concat operation.\n",
       "  results = pd.concat([results, normalized_data])\n"
      ]
     },
     "metadata": {},
     "output_type": "display_data"
    },
    {
     "data": {
      "text/html": [
       "<pre style=\"white-space:pre;overflow-x:auto;line-height:normal;font-family:Menlo,'DejaVu Sans Mono',consolas,'Courier New',monospace\">/tmp/ipykernel_120664/3199749346.py:26: FutureWarning: The behavior of DataFrame concatenation with empty or all-NA\n",
       "entries is deprecated. In a future version, this will no longer exclude empty or all-NA columns when determining \n",
       "the result dtypes. To retain the old behavior, exclude the relevant entries before the concat operation.\n",
       "  results = pd.concat([results, normalized_data])\n",
       "</pre>\n"
      ],
      "text/plain": [
       "/tmp/ipykernel_120664/3199749346.py:26: FutureWarning: The behavior of DataFrame concatenation with empty or all-NA\n",
       "entries is deprecated. In a future version, this will no longer exclude empty or all-NA columns when determining \n",
       "the result dtypes. To retain the old behavior, exclude the relevant entries before the concat operation.\n",
       "  results = pd.concat([results, normalized_data])\n"
      ]
     },
     "metadata": {},
     "output_type": "display_data"
    },
    {
     "data": {
      "text/html": [
       "<pre style=\"white-space:pre;overflow-x:auto;line-height:normal;font-family:Menlo,'DejaVu Sans Mono',consolas,'Courier New',monospace\">/tmp/ipykernel_120664/3199749346.py:26: FutureWarning: The behavior of DataFrame concatenation with empty or all-NA\n",
       "entries is deprecated. In a future version, this will no longer exclude empty or all-NA columns when determining \n",
       "the result dtypes. To retain the old behavior, exclude the relevant entries before the concat operation.\n",
       "  results = pd.concat([results, normalized_data])\n",
       "</pre>\n"
      ],
      "text/plain": [
       "/tmp/ipykernel_120664/3199749346.py:26: FutureWarning: The behavior of DataFrame concatenation with empty or all-NA\n",
       "entries is deprecated. In a future version, this will no longer exclude empty or all-NA columns when determining \n",
       "the result dtypes. To retain the old behavior, exclude the relevant entries before the concat operation.\n",
       "  results = pd.concat([results, normalized_data])\n"
      ]
     },
     "metadata": {},
     "output_type": "display_data"
    },
    {
     "data": {
      "text/html": [
       "<pre style=\"white-space:pre;overflow-x:auto;line-height:normal;font-family:Menlo,'DejaVu Sans Mono',consolas,'Courier New',monospace\">/tmp/ipykernel_120664/3199749346.py:26: FutureWarning: The behavior of DataFrame concatenation with empty or all-NA\n",
       "entries is deprecated. In a future version, this will no longer exclude empty or all-NA columns when determining \n",
       "the result dtypes. To retain the old behavior, exclude the relevant entries before the concat operation.\n",
       "  results = pd.concat([results, normalized_data])\n",
       "</pre>\n"
      ],
      "text/plain": [
       "/tmp/ipykernel_120664/3199749346.py:26: FutureWarning: The behavior of DataFrame concatenation with empty or all-NA\n",
       "entries is deprecated. In a future version, this will no longer exclude empty or all-NA columns when determining \n",
       "the result dtypes. To retain the old behavior, exclude the relevant entries before the concat operation.\n",
       "  results = pd.concat([results, normalized_data])\n"
      ]
     },
     "metadata": {},
     "output_type": "display_data"
    },
    {
     "data": {
      "text/html": [
       "<pre style=\"white-space:pre;overflow-x:auto;line-height:normal;font-family:Menlo,'DejaVu Sans Mono',consolas,'Courier New',monospace\">/tmp/ipykernel_120664/3199749346.py:26: FutureWarning: The behavior of DataFrame concatenation with empty or all-NA\n",
       "entries is deprecated. In a future version, this will no longer exclude empty or all-NA columns when determining \n",
       "the result dtypes. To retain the old behavior, exclude the relevant entries before the concat operation.\n",
       "  results = pd.concat([results, normalized_data])\n",
       "</pre>\n"
      ],
      "text/plain": [
       "/tmp/ipykernel_120664/3199749346.py:26: FutureWarning: The behavior of DataFrame concatenation with empty or all-NA\n",
       "entries is deprecated. In a future version, this will no longer exclude empty or all-NA columns when determining \n",
       "the result dtypes. To retain the old behavior, exclude the relevant entries before the concat operation.\n",
       "  results = pd.concat([results, normalized_data])\n"
      ]
     },
     "metadata": {},
     "output_type": "display_data"
    },
    {
     "data": {
      "text/html": [
       "<pre style=\"white-space:pre;overflow-x:auto;line-height:normal;font-family:Menlo,'DejaVu Sans Mono',consolas,'Courier New',monospace\">/tmp/ipykernel_120664/3199749346.py:26: FutureWarning: The behavior of DataFrame concatenation with empty or all-NA\n",
       "entries is deprecated. In a future version, this will no longer exclude empty or all-NA columns when determining \n",
       "the result dtypes. To retain the old behavior, exclude the relevant entries before the concat operation.\n",
       "  results = pd.concat([results, normalized_data])\n",
       "</pre>\n"
      ],
      "text/plain": [
       "/tmp/ipykernel_120664/3199749346.py:26: FutureWarning: The behavior of DataFrame concatenation with empty or all-NA\n",
       "entries is deprecated. In a future version, this will no longer exclude empty or all-NA columns when determining \n",
       "the result dtypes. To retain the old behavior, exclude the relevant entries before the concat operation.\n",
       "  results = pd.concat([results, normalized_data])\n"
      ]
     },
     "metadata": {},
     "output_type": "display_data"
    },
    {
     "data": {
      "text/html": [
       "<pre style=\"white-space:pre;overflow-x:auto;line-height:normal;font-family:Menlo,'DejaVu Sans Mono',consolas,'Courier New',monospace\">/tmp/ipykernel_120664/3199749346.py:26: FutureWarning: The behavior of DataFrame concatenation with empty or all-NA\n",
       "entries is deprecated. In a future version, this will no longer exclude empty or all-NA columns when determining \n",
       "the result dtypes. To retain the old behavior, exclude the relevant entries before the concat operation.\n",
       "  results = pd.concat([results, normalized_data])\n",
       "</pre>\n"
      ],
      "text/plain": [
       "/tmp/ipykernel_120664/3199749346.py:26: FutureWarning: The behavior of DataFrame concatenation with empty or all-NA\n",
       "entries is deprecated. In a future version, this will no longer exclude empty or all-NA columns when determining \n",
       "the result dtypes. To retain the old behavior, exclude the relevant entries before the concat operation.\n",
       "  results = pd.concat([results, normalized_data])\n"
      ]
     },
     "metadata": {},
     "output_type": "display_data"
    },
    {
     "data": {
      "text/html": [
       "<pre style=\"white-space:pre;overflow-x:auto;line-height:normal;font-family:Menlo,'DejaVu Sans Mono',consolas,'Courier New',monospace\">/tmp/ipykernel_120664/3199749346.py:26: FutureWarning: The behavior of DataFrame concatenation with empty or all-NA\n",
       "entries is deprecated. In a future version, this will no longer exclude empty or all-NA columns when determining \n",
       "the result dtypes. To retain the old behavior, exclude the relevant entries before the concat operation.\n",
       "  results = pd.concat([results, normalized_data])\n",
       "</pre>\n"
      ],
      "text/plain": [
       "/tmp/ipykernel_120664/3199749346.py:26: FutureWarning: The behavior of DataFrame concatenation with empty or all-NA\n",
       "entries is deprecated. In a future version, this will no longer exclude empty or all-NA columns when determining \n",
       "the result dtypes. To retain the old behavior, exclude the relevant entries before the concat operation.\n",
       "  results = pd.concat([results, normalized_data])\n"
      ]
     },
     "metadata": {},
     "output_type": "display_data"
    },
    {
     "data": {
      "text/html": [
       "<pre style=\"white-space:pre;overflow-x:auto;line-height:normal;font-family:Menlo,'DejaVu Sans Mono',consolas,'Courier New',monospace\">/tmp/ipykernel_120664/3199749346.py:26: FutureWarning: The behavior of DataFrame concatenation with empty or all-NA\n",
       "entries is deprecated. In a future version, this will no longer exclude empty or all-NA columns when determining \n",
       "the result dtypes. To retain the old behavior, exclude the relevant entries before the concat operation.\n",
       "  results = pd.concat([results, normalized_data])\n",
       "</pre>\n"
      ],
      "text/plain": [
       "/tmp/ipykernel_120664/3199749346.py:26: FutureWarning: The behavior of DataFrame concatenation with empty or all-NA\n",
       "entries is deprecated. In a future version, this will no longer exclude empty or all-NA columns when determining \n",
       "the result dtypes. To retain the old behavior, exclude the relevant entries before the concat operation.\n",
       "  results = pd.concat([results, normalized_data])\n"
      ]
     },
     "metadata": {},
     "output_type": "display_data"
    },
    {
     "data": {
      "text/html": [
       "<pre style=\"white-space:pre;overflow-x:auto;line-height:normal;font-family:Menlo,'DejaVu Sans Mono',consolas,'Courier New',monospace\">/tmp/ipykernel_120664/3199749346.py:26: FutureWarning: The behavior of DataFrame concatenation with empty or all-NA\n",
       "entries is deprecated. In a future version, this will no longer exclude empty or all-NA columns when determining \n",
       "the result dtypes. To retain the old behavior, exclude the relevant entries before the concat operation.\n",
       "  results = pd.concat([results, normalized_data])\n",
       "</pre>\n"
      ],
      "text/plain": [
       "/tmp/ipykernel_120664/3199749346.py:26: FutureWarning: The behavior of DataFrame concatenation with empty or all-NA\n",
       "entries is deprecated. In a future version, this will no longer exclude empty or all-NA columns when determining \n",
       "the result dtypes. To retain the old behavior, exclude the relevant entries before the concat operation.\n",
       "  results = pd.concat([results, normalized_data])\n"
      ]
     },
     "metadata": {},
     "output_type": "display_data"
    },
    {
     "data": {
      "text/html": [
       "<pre style=\"white-space:pre;overflow-x:auto;line-height:normal;font-family:Menlo,'DejaVu Sans Mono',consolas,'Courier New',monospace\">/tmp/ipykernel_120664/3199749346.py:26: FutureWarning: The behavior of DataFrame concatenation with empty or all-NA\n",
       "entries is deprecated. In a future version, this will no longer exclude empty or all-NA columns when determining \n",
       "the result dtypes. To retain the old behavior, exclude the relevant entries before the concat operation.\n",
       "  results = pd.concat([results, normalized_data])\n",
       "</pre>\n"
      ],
      "text/plain": [
       "/tmp/ipykernel_120664/3199749346.py:26: FutureWarning: The behavior of DataFrame concatenation with empty or all-NA\n",
       "entries is deprecated. In a future version, this will no longer exclude empty or all-NA columns when determining \n",
       "the result dtypes. To retain the old behavior, exclude the relevant entries before the concat operation.\n",
       "  results = pd.concat([results, normalized_data])\n"
      ]
     },
     "metadata": {},
     "output_type": "display_data"
    },
    {
     "data": {
      "text/html": [
       "<pre style=\"white-space:pre;overflow-x:auto;line-height:normal;font-family:Menlo,'DejaVu Sans Mono',consolas,'Courier New',monospace\">/tmp/ipykernel_120664/3199749346.py:26: FutureWarning: The behavior of DataFrame concatenation with empty or all-NA\n",
       "entries is deprecated. In a future version, this will no longer exclude empty or all-NA columns when determining \n",
       "the result dtypes. To retain the old behavior, exclude the relevant entries before the concat operation.\n",
       "  results = pd.concat([results, normalized_data])\n",
       "</pre>\n"
      ],
      "text/plain": [
       "/tmp/ipykernel_120664/3199749346.py:26: FutureWarning: The behavior of DataFrame concatenation with empty or all-NA\n",
       "entries is deprecated. In a future version, this will no longer exclude empty or all-NA columns when determining \n",
       "the result dtypes. To retain the old behavior, exclude the relevant entries before the concat operation.\n",
       "  results = pd.concat([results, normalized_data])\n"
      ]
     },
     "metadata": {},
     "output_type": "display_data"
    },
    {
     "data": {
      "text/html": [
       "<pre style=\"white-space:pre;overflow-x:auto;line-height:normal;font-family:Menlo,'DejaVu Sans Mono',consolas,'Courier New',monospace\">/tmp/ipykernel_120664/3199749346.py:26: FutureWarning: The behavior of DataFrame concatenation with empty or all-NA\n",
       "entries is deprecated. In a future version, this will no longer exclude empty or all-NA columns when determining \n",
       "the result dtypes. To retain the old behavior, exclude the relevant entries before the concat operation.\n",
       "  results = pd.concat([results, normalized_data])\n",
       "</pre>\n"
      ],
      "text/plain": [
       "/tmp/ipykernel_120664/3199749346.py:26: FutureWarning: The behavior of DataFrame concatenation with empty or all-NA\n",
       "entries is deprecated. In a future version, this will no longer exclude empty or all-NA columns when determining \n",
       "the result dtypes. To retain the old behavior, exclude the relevant entries before the concat operation.\n",
       "  results = pd.concat([results, normalized_data])\n"
      ]
     },
     "metadata": {},
     "output_type": "display_data"
    },
    {
     "data": {
      "text/html": [
       "<pre style=\"white-space:pre;overflow-x:auto;line-height:normal;font-family:Menlo,'DejaVu Sans Mono',consolas,'Courier New',monospace\">/tmp/ipykernel_120664/3199749346.py:26: FutureWarning: The behavior of DataFrame concatenation with empty or all-NA\n",
       "entries is deprecated. In a future version, this will no longer exclude empty or all-NA columns when determining \n",
       "the result dtypes. To retain the old behavior, exclude the relevant entries before the concat operation.\n",
       "  results = pd.concat([results, normalized_data])\n",
       "</pre>\n"
      ],
      "text/plain": [
       "/tmp/ipykernel_120664/3199749346.py:26: FutureWarning: The behavior of DataFrame concatenation with empty or all-NA\n",
       "entries is deprecated. In a future version, this will no longer exclude empty or all-NA columns when determining \n",
       "the result dtypes. To retain the old behavior, exclude the relevant entries before the concat operation.\n",
       "  results = pd.concat([results, normalized_data])\n"
      ]
     },
     "metadata": {},
     "output_type": "display_data"
    },
    {
     "data": {
      "text/html": [
       "<pre style=\"white-space:pre;overflow-x:auto;line-height:normal;font-family:Menlo,'DejaVu Sans Mono',consolas,'Courier New',monospace\">/tmp/ipykernel_120664/3199749346.py:26: FutureWarning: The behavior of DataFrame concatenation with empty or all-NA\n",
       "entries is deprecated. In a future version, this will no longer exclude empty or all-NA columns when determining \n",
       "the result dtypes. To retain the old behavior, exclude the relevant entries before the concat operation.\n",
       "  results = pd.concat([results, normalized_data])\n",
       "</pre>\n"
      ],
      "text/plain": [
       "/tmp/ipykernel_120664/3199749346.py:26: FutureWarning: The behavior of DataFrame concatenation with empty or all-NA\n",
       "entries is deprecated. In a future version, this will no longer exclude empty or all-NA columns when determining \n",
       "the result dtypes. To retain the old behavior, exclude the relevant entries before the concat operation.\n",
       "  results = pd.concat([results, normalized_data])\n"
      ]
     },
     "metadata": {},
     "output_type": "display_data"
    },
    {
     "data": {
      "text/html": [
       "<pre style=\"white-space:pre;overflow-x:auto;line-height:normal;font-family:Menlo,'DejaVu Sans Mono',consolas,'Courier New',monospace\">/tmp/ipykernel_120664/3199749346.py:26: FutureWarning: The behavior of DataFrame concatenation with empty or all-NA\n",
       "entries is deprecated. In a future version, this will no longer exclude empty or all-NA columns when determining \n",
       "the result dtypes. To retain the old behavior, exclude the relevant entries before the concat operation.\n",
       "  results = pd.concat([results, normalized_data])\n",
       "</pre>\n"
      ],
      "text/plain": [
       "/tmp/ipykernel_120664/3199749346.py:26: FutureWarning: The behavior of DataFrame concatenation with empty or all-NA\n",
       "entries is deprecated. In a future version, this will no longer exclude empty or all-NA columns when determining \n",
       "the result dtypes. To retain the old behavior, exclude the relevant entries before the concat operation.\n",
       "  results = pd.concat([results, normalized_data])\n"
      ]
     },
     "metadata": {},
     "output_type": "display_data"
    },
    {
     "data": {
      "text/html": [
       "<pre style=\"white-space:pre;overflow-x:auto;line-height:normal;font-family:Menlo,'DejaVu Sans Mono',consolas,'Courier New',monospace\">/tmp/ipykernel_120664/3199749346.py:26: FutureWarning: The behavior of DataFrame concatenation with empty or all-NA\n",
       "entries is deprecated. In a future version, this will no longer exclude empty or all-NA columns when determining \n",
       "the result dtypes. To retain the old behavior, exclude the relevant entries before the concat operation.\n",
       "  results = pd.concat([results, normalized_data])\n",
       "</pre>\n"
      ],
      "text/plain": [
       "/tmp/ipykernel_120664/3199749346.py:26: FutureWarning: The behavior of DataFrame concatenation with empty or all-NA\n",
       "entries is deprecated. In a future version, this will no longer exclude empty or all-NA columns when determining \n",
       "the result dtypes. To retain the old behavior, exclude the relevant entries before the concat operation.\n",
       "  results = pd.concat([results, normalized_data])\n"
      ]
     },
     "metadata": {},
     "output_type": "display_data"
    },
    {
     "data": {
      "text/html": [
       "<pre style=\"white-space:pre;overflow-x:auto;line-height:normal;font-family:Menlo,'DejaVu Sans Mono',consolas,'Courier New',monospace\">/tmp/ipykernel_120664/3199749346.py:26: FutureWarning: The behavior of DataFrame concatenation with empty or all-NA\n",
       "entries is deprecated. In a future version, this will no longer exclude empty or all-NA columns when determining \n",
       "the result dtypes. To retain the old behavior, exclude the relevant entries before the concat operation.\n",
       "  results = pd.concat([results, normalized_data])\n",
       "</pre>\n"
      ],
      "text/plain": [
       "/tmp/ipykernel_120664/3199749346.py:26: FutureWarning: The behavior of DataFrame concatenation with empty or all-NA\n",
       "entries is deprecated. In a future version, this will no longer exclude empty or all-NA columns when determining \n",
       "the result dtypes. To retain the old behavior, exclude the relevant entries before the concat operation.\n",
       "  results = pd.concat([results, normalized_data])\n"
      ]
     },
     "metadata": {},
     "output_type": "display_data"
    },
    {
     "data": {
      "text/html": [
       "<pre style=\"white-space:pre;overflow-x:auto;line-height:normal;font-family:Menlo,'DejaVu Sans Mono',consolas,'Courier New',monospace\">/tmp/ipykernel_120664/3199749346.py:26: FutureWarning: The behavior of DataFrame concatenation with empty or all-NA\n",
       "entries is deprecated. In a future version, this will no longer exclude empty or all-NA columns when determining \n",
       "the result dtypes. To retain the old behavior, exclude the relevant entries before the concat operation.\n",
       "  results = pd.concat([results, normalized_data])\n",
       "</pre>\n"
      ],
      "text/plain": [
       "/tmp/ipykernel_120664/3199749346.py:26: FutureWarning: The behavior of DataFrame concatenation with empty or all-NA\n",
       "entries is deprecated. In a future version, this will no longer exclude empty or all-NA columns when determining \n",
       "the result dtypes. To retain the old behavior, exclude the relevant entries before the concat operation.\n",
       "  results = pd.concat([results, normalized_data])\n"
      ]
     },
     "metadata": {},
     "output_type": "display_data"
    },
    {
     "data": {
      "text/html": [
       "<pre style=\"white-space:pre;overflow-x:auto;line-height:normal;font-family:Menlo,'DejaVu Sans Mono',consolas,'Courier New',monospace\">/tmp/ipykernel_120664/3199749346.py:26: FutureWarning: The behavior of DataFrame concatenation with empty or all-NA\n",
       "entries is deprecated. In a future version, this will no longer exclude empty or all-NA columns when determining \n",
       "the result dtypes. To retain the old behavior, exclude the relevant entries before the concat operation.\n",
       "  results = pd.concat([results, normalized_data])\n",
       "</pre>\n"
      ],
      "text/plain": [
       "/tmp/ipykernel_120664/3199749346.py:26: FutureWarning: The behavior of DataFrame concatenation with empty or all-NA\n",
       "entries is deprecated. In a future version, this will no longer exclude empty or all-NA columns when determining \n",
       "the result dtypes. To retain the old behavior, exclude the relevant entries before the concat operation.\n",
       "  results = pd.concat([results, normalized_data])\n"
      ]
     },
     "metadata": {},
     "output_type": "display_data"
    },
    {
     "data": {
      "text/html": [
       "<pre style=\"white-space:pre;overflow-x:auto;line-height:normal;font-family:Menlo,'DejaVu Sans Mono',consolas,'Courier New',monospace\">/tmp/ipykernel_120664/3199749346.py:26: FutureWarning: The behavior of DataFrame concatenation with empty or all-NA\n",
       "entries is deprecated. In a future version, this will no longer exclude empty or all-NA columns when determining \n",
       "the result dtypes. To retain the old behavior, exclude the relevant entries before the concat operation.\n",
       "  results = pd.concat([results, normalized_data])\n",
       "</pre>\n"
      ],
      "text/plain": [
       "/tmp/ipykernel_120664/3199749346.py:26: FutureWarning: The behavior of DataFrame concatenation with empty or all-NA\n",
       "entries is deprecated. In a future version, this will no longer exclude empty or all-NA columns when determining \n",
       "the result dtypes. To retain the old behavior, exclude the relevant entries before the concat operation.\n",
       "  results = pd.concat([results, normalized_data])\n"
      ]
     },
     "metadata": {},
     "output_type": "display_data"
    },
    {
     "data": {
      "text/html": [
       "<pre style=\"white-space:pre;overflow-x:auto;line-height:normal;font-family:Menlo,'DejaVu Sans Mono',consolas,'Courier New',monospace\">/tmp/ipykernel_120664/3199749346.py:26: FutureWarning: The behavior of DataFrame concatenation with empty or all-NA\n",
       "entries is deprecated. In a future version, this will no longer exclude empty or all-NA columns when determining \n",
       "the result dtypes. To retain the old behavior, exclude the relevant entries before the concat operation.\n",
       "  results = pd.concat([results, normalized_data])\n",
       "</pre>\n"
      ],
      "text/plain": [
       "/tmp/ipykernel_120664/3199749346.py:26: FutureWarning: The behavior of DataFrame concatenation with empty or all-NA\n",
       "entries is deprecated. In a future version, this will no longer exclude empty or all-NA columns when determining \n",
       "the result dtypes. To retain the old behavior, exclude the relevant entries before the concat operation.\n",
       "  results = pd.concat([results, normalized_data])\n"
      ]
     },
     "metadata": {},
     "output_type": "display_data"
    },
    {
     "data": {
      "text/html": [
       "<pre style=\"white-space:pre;overflow-x:auto;line-height:normal;font-family:Menlo,'DejaVu Sans Mono',consolas,'Courier New',monospace\">/tmp/ipykernel_120664/3199749346.py:26: FutureWarning: The behavior of DataFrame concatenation with empty or all-NA\n",
       "entries is deprecated. In a future version, this will no longer exclude empty or all-NA columns when determining \n",
       "the result dtypes. To retain the old behavior, exclude the relevant entries before the concat operation.\n",
       "  results = pd.concat([results, normalized_data])\n",
       "</pre>\n"
      ],
      "text/plain": [
       "/tmp/ipykernel_120664/3199749346.py:26: FutureWarning: The behavior of DataFrame concatenation with empty or all-NA\n",
       "entries is deprecated. In a future version, this will no longer exclude empty or all-NA columns when determining \n",
       "the result dtypes. To retain the old behavior, exclude the relevant entries before the concat operation.\n",
       "  results = pd.concat([results, normalized_data])\n"
      ]
     },
     "metadata": {},
     "output_type": "display_data"
    },
    {
     "data": {
      "text/html": [
       "<pre style=\"white-space:pre;overflow-x:auto;line-height:normal;font-family:Menlo,'DejaVu Sans Mono',consolas,'Courier New',monospace\">/tmp/ipykernel_120664/3199749346.py:26: FutureWarning: The behavior of DataFrame concatenation with empty or all-NA\n",
       "entries is deprecated. In a future version, this will no longer exclude empty or all-NA columns when determining \n",
       "the result dtypes. To retain the old behavior, exclude the relevant entries before the concat operation.\n",
       "  results = pd.concat([results, normalized_data])\n",
       "</pre>\n"
      ],
      "text/plain": [
       "/tmp/ipykernel_120664/3199749346.py:26: FutureWarning: The behavior of DataFrame concatenation with empty or all-NA\n",
       "entries is deprecated. In a future version, this will no longer exclude empty or all-NA columns when determining \n",
       "the result dtypes. To retain the old behavior, exclude the relevant entries before the concat operation.\n",
       "  results = pd.concat([results, normalized_data])\n"
      ]
     },
     "metadata": {},
     "output_type": "display_data"
    },
    {
     "data": {
      "text/html": [
       "<pre style=\"white-space:pre;overflow-x:auto;line-height:normal;font-family:Menlo,'DejaVu Sans Mono',consolas,'Courier New',monospace\">/tmp/ipykernel_120664/3199749346.py:26: FutureWarning: The behavior of DataFrame concatenation with empty or all-NA\n",
       "entries is deprecated. In a future version, this will no longer exclude empty or all-NA columns when determining \n",
       "the result dtypes. To retain the old behavior, exclude the relevant entries before the concat operation.\n",
       "  results = pd.concat([results, normalized_data])\n",
       "</pre>\n"
      ],
      "text/plain": [
       "/tmp/ipykernel_120664/3199749346.py:26: FutureWarning: The behavior of DataFrame concatenation with empty or all-NA\n",
       "entries is deprecated. In a future version, this will no longer exclude empty or all-NA columns when determining \n",
       "the result dtypes. To retain the old behavior, exclude the relevant entries before the concat operation.\n",
       "  results = pd.concat([results, normalized_data])\n"
      ]
     },
     "metadata": {},
     "output_type": "display_data"
    },
    {
     "data": {
      "text/html": [
       "<pre style=\"white-space:pre;overflow-x:auto;line-height:normal;font-family:Menlo,'DejaVu Sans Mono',consolas,'Courier New',monospace\">/tmp/ipykernel_120664/3199749346.py:26: FutureWarning: The behavior of DataFrame concatenation with empty or all-NA\n",
       "entries is deprecated. In a future version, this will no longer exclude empty or all-NA columns when determining \n",
       "the result dtypes. To retain the old behavior, exclude the relevant entries before the concat operation.\n",
       "  results = pd.concat([results, normalized_data])\n",
       "</pre>\n"
      ],
      "text/plain": [
       "/tmp/ipykernel_120664/3199749346.py:26: FutureWarning: The behavior of DataFrame concatenation with empty or all-NA\n",
       "entries is deprecated. In a future version, this will no longer exclude empty or all-NA columns when determining \n",
       "the result dtypes. To retain the old behavior, exclude the relevant entries before the concat operation.\n",
       "  results = pd.concat([results, normalized_data])\n"
      ]
     },
     "metadata": {},
     "output_type": "display_data"
    },
    {
     "data": {
      "text/html": [
       "<pre style=\"white-space:pre;overflow-x:auto;line-height:normal;font-family:Menlo,'DejaVu Sans Mono',consolas,'Courier New',monospace\">/tmp/ipykernel_120664/3199749346.py:26: FutureWarning: The behavior of DataFrame concatenation with empty or all-NA\n",
       "entries is deprecated. In a future version, this will no longer exclude empty or all-NA columns when determining \n",
       "the result dtypes. To retain the old behavior, exclude the relevant entries before the concat operation.\n",
       "  results = pd.concat([results, normalized_data])\n",
       "</pre>\n"
      ],
      "text/plain": [
       "/tmp/ipykernel_120664/3199749346.py:26: FutureWarning: The behavior of DataFrame concatenation with empty or all-NA\n",
       "entries is deprecated. In a future version, this will no longer exclude empty or all-NA columns when determining \n",
       "the result dtypes. To retain the old behavior, exclude the relevant entries before the concat operation.\n",
       "  results = pd.concat([results, normalized_data])\n"
      ]
     },
     "metadata": {},
     "output_type": "display_data"
    },
    {
     "data": {
      "text/html": [
       "<pre style=\"white-space:pre;overflow-x:auto;line-height:normal;font-family:Menlo,'DejaVu Sans Mono',consolas,'Courier New',monospace\">/tmp/ipykernel_120664/3199749346.py:26: FutureWarning: The behavior of DataFrame concatenation with empty or all-NA\n",
       "entries is deprecated. In a future version, this will no longer exclude empty or all-NA columns when determining \n",
       "the result dtypes. To retain the old behavior, exclude the relevant entries before the concat operation.\n",
       "  results = pd.concat([results, normalized_data])\n",
       "</pre>\n"
      ],
      "text/plain": [
       "/tmp/ipykernel_120664/3199749346.py:26: FutureWarning: The behavior of DataFrame concatenation with empty or all-NA\n",
       "entries is deprecated. In a future version, this will no longer exclude empty or all-NA columns when determining \n",
       "the result dtypes. To retain the old behavior, exclude the relevant entries before the concat operation.\n",
       "  results = pd.concat([results, normalized_data])\n"
      ]
     },
     "metadata": {},
     "output_type": "display_data"
    },
    {
     "data": {
      "text/html": [
       "<pre style=\"white-space:pre;overflow-x:auto;line-height:normal;font-family:Menlo,'DejaVu Sans Mono',consolas,'Courier New',monospace\">/tmp/ipykernel_120664/3199749346.py:26: FutureWarning: The behavior of DataFrame concatenation with empty or all-NA\n",
       "entries is deprecated. In a future version, this will no longer exclude empty or all-NA columns when determining \n",
       "the result dtypes. To retain the old behavior, exclude the relevant entries before the concat operation.\n",
       "  results = pd.concat([results, normalized_data])\n",
       "</pre>\n"
      ],
      "text/plain": [
       "/tmp/ipykernel_120664/3199749346.py:26: FutureWarning: The behavior of DataFrame concatenation with empty or all-NA\n",
       "entries is deprecated. In a future version, this will no longer exclude empty or all-NA columns when determining \n",
       "the result dtypes. To retain the old behavior, exclude the relevant entries before the concat operation.\n",
       "  results = pd.concat([results, normalized_data])\n"
      ]
     },
     "metadata": {},
     "output_type": "display_data"
    },
    {
     "data": {
      "text/html": [
       "<pre style=\"white-space:pre;overflow-x:auto;line-height:normal;font-family:Menlo,'DejaVu Sans Mono',consolas,'Courier New',monospace\">/tmp/ipykernel_120664/3199749346.py:26: FutureWarning: The behavior of DataFrame concatenation with empty or all-NA\n",
       "entries is deprecated. In a future version, this will no longer exclude empty or all-NA columns when determining \n",
       "the result dtypes. To retain the old behavior, exclude the relevant entries before the concat operation.\n",
       "  results = pd.concat([results, normalized_data])\n",
       "</pre>\n"
      ],
      "text/plain": [
       "/tmp/ipykernel_120664/3199749346.py:26: FutureWarning: The behavior of DataFrame concatenation with empty or all-NA\n",
       "entries is deprecated. In a future version, this will no longer exclude empty or all-NA columns when determining \n",
       "the result dtypes. To retain the old behavior, exclude the relevant entries before the concat operation.\n",
       "  results = pd.concat([results, normalized_data])\n"
      ]
     },
     "metadata": {},
     "output_type": "display_data"
    },
    {
     "data": {
      "text/html": [
       "<pre style=\"white-space:pre;overflow-x:auto;line-height:normal;font-family:Menlo,'DejaVu Sans Mono',consolas,'Courier New',monospace\">/tmp/ipykernel_120664/3199749346.py:26: FutureWarning: The behavior of DataFrame concatenation with empty or all-NA\n",
       "entries is deprecated. In a future version, this will no longer exclude empty or all-NA columns when determining \n",
       "the result dtypes. To retain the old behavior, exclude the relevant entries before the concat operation.\n",
       "  results = pd.concat([results, normalized_data])\n",
       "</pre>\n"
      ],
      "text/plain": [
       "/tmp/ipykernel_120664/3199749346.py:26: FutureWarning: The behavior of DataFrame concatenation with empty or all-NA\n",
       "entries is deprecated. In a future version, this will no longer exclude empty or all-NA columns when determining \n",
       "the result dtypes. To retain the old behavior, exclude the relevant entries before the concat operation.\n",
       "  results = pd.concat([results, normalized_data])\n"
      ]
     },
     "metadata": {},
     "output_type": "display_data"
    },
    {
     "data": {
      "text/html": [
       "<pre style=\"white-space:pre;overflow-x:auto;line-height:normal;font-family:Menlo,'DejaVu Sans Mono',consolas,'Courier New',monospace\">/tmp/ipykernel_120664/3199749346.py:26: FutureWarning: The behavior of DataFrame concatenation with empty or all-NA\n",
       "entries is deprecated. In a future version, this will no longer exclude empty or all-NA columns when determining \n",
       "the result dtypes. To retain the old behavior, exclude the relevant entries before the concat operation.\n",
       "  results = pd.concat([results, normalized_data])\n",
       "</pre>\n"
      ],
      "text/plain": [
       "/tmp/ipykernel_120664/3199749346.py:26: FutureWarning: The behavior of DataFrame concatenation with empty or all-NA\n",
       "entries is deprecated. In a future version, this will no longer exclude empty or all-NA columns when determining \n",
       "the result dtypes. To retain the old behavior, exclude the relevant entries before the concat operation.\n",
       "  results = pd.concat([results, normalized_data])\n"
      ]
     },
     "metadata": {},
     "output_type": "display_data"
    },
    {
     "data": {
      "text/html": [
       "<pre style=\"white-space:pre;overflow-x:auto;line-height:normal;font-family:Menlo,'DejaVu Sans Mono',consolas,'Courier New',monospace\">/tmp/ipykernel_120664/3199749346.py:26: FutureWarning: The behavior of DataFrame concatenation with empty or all-NA\n",
       "entries is deprecated. In a future version, this will no longer exclude empty or all-NA columns when determining \n",
       "the result dtypes. To retain the old behavior, exclude the relevant entries before the concat operation.\n",
       "  results = pd.concat([results, normalized_data])\n",
       "</pre>\n"
      ],
      "text/plain": [
       "/tmp/ipykernel_120664/3199749346.py:26: FutureWarning: The behavior of DataFrame concatenation with empty or all-NA\n",
       "entries is deprecated. In a future version, this will no longer exclude empty or all-NA columns when determining \n",
       "the result dtypes. To retain the old behavior, exclude the relevant entries before the concat operation.\n",
       "  results = pd.concat([results, normalized_data])\n"
      ]
     },
     "metadata": {},
     "output_type": "display_data"
    },
    {
     "data": {
      "text/html": [
       "<pre style=\"white-space:pre;overflow-x:auto;line-height:normal;font-family:Menlo,'DejaVu Sans Mono',consolas,'Courier New',monospace\">/tmp/ipykernel_120664/3199749346.py:26: FutureWarning: The behavior of DataFrame concatenation with empty or all-NA\n",
       "entries is deprecated. In a future version, this will no longer exclude empty or all-NA columns when determining \n",
       "the result dtypes. To retain the old behavior, exclude the relevant entries before the concat operation.\n",
       "  results = pd.concat([results, normalized_data])\n",
       "</pre>\n"
      ],
      "text/plain": [
       "/tmp/ipykernel_120664/3199749346.py:26: FutureWarning: The behavior of DataFrame concatenation with empty or all-NA\n",
       "entries is deprecated. In a future version, this will no longer exclude empty or all-NA columns when determining \n",
       "the result dtypes. To retain the old behavior, exclude the relevant entries before the concat operation.\n",
       "  results = pd.concat([results, normalized_data])\n"
      ]
     },
     "metadata": {},
     "output_type": "display_data"
    },
    {
     "data": {
      "text/html": [
       "<pre style=\"white-space:pre;overflow-x:auto;line-height:normal;font-family:Menlo,'DejaVu Sans Mono',consolas,'Courier New',monospace\">/tmp/ipykernel_120664/3199749346.py:26: FutureWarning: The behavior of DataFrame concatenation with empty or all-NA\n",
       "entries is deprecated. In a future version, this will no longer exclude empty or all-NA columns when determining \n",
       "the result dtypes. To retain the old behavior, exclude the relevant entries before the concat operation.\n",
       "  results = pd.concat([results, normalized_data])\n",
       "</pre>\n"
      ],
      "text/plain": [
       "/tmp/ipykernel_120664/3199749346.py:26: FutureWarning: The behavior of DataFrame concatenation with empty or all-NA\n",
       "entries is deprecated. In a future version, this will no longer exclude empty or all-NA columns when determining \n",
       "the result dtypes. To retain the old behavior, exclude the relevant entries before the concat operation.\n",
       "  results = pd.concat([results, normalized_data])\n"
      ]
     },
     "metadata": {},
     "output_type": "display_data"
    },
    {
     "data": {
      "text/html": [
       "<pre style=\"white-space:pre;overflow-x:auto;line-height:normal;font-family:Menlo,'DejaVu Sans Mono',consolas,'Courier New',monospace\">/tmp/ipykernel_120664/3199749346.py:26: FutureWarning: The behavior of DataFrame concatenation with empty or all-NA\n",
       "entries is deprecated. In a future version, this will no longer exclude empty or all-NA columns when determining \n",
       "the result dtypes. To retain the old behavior, exclude the relevant entries before the concat operation.\n",
       "  results = pd.concat([results, normalized_data])\n",
       "</pre>\n"
      ],
      "text/plain": [
       "/tmp/ipykernel_120664/3199749346.py:26: FutureWarning: The behavior of DataFrame concatenation with empty or all-NA\n",
       "entries is deprecated. In a future version, this will no longer exclude empty or all-NA columns when determining \n",
       "the result dtypes. To retain the old behavior, exclude the relevant entries before the concat operation.\n",
       "  results = pd.concat([results, normalized_data])\n"
      ]
     },
     "metadata": {},
     "output_type": "display_data"
    },
    {
     "data": {
      "text/html": [
       "<pre style=\"white-space:pre;overflow-x:auto;line-height:normal;font-family:Menlo,'DejaVu Sans Mono',consolas,'Courier New',monospace\">/tmp/ipykernel_120664/3199749346.py:26: FutureWarning: The behavior of DataFrame concatenation with empty or all-NA\n",
       "entries is deprecated. In a future version, this will no longer exclude empty or all-NA columns when determining \n",
       "the result dtypes. To retain the old behavior, exclude the relevant entries before the concat operation.\n",
       "  results = pd.concat([results, normalized_data])\n",
       "</pre>\n"
      ],
      "text/plain": [
       "/tmp/ipykernel_120664/3199749346.py:26: FutureWarning: The behavior of DataFrame concatenation with empty or all-NA\n",
       "entries is deprecated. In a future version, this will no longer exclude empty or all-NA columns when determining \n",
       "the result dtypes. To retain the old behavior, exclude the relevant entries before the concat operation.\n",
       "  results = pd.concat([results, normalized_data])\n"
      ]
     },
     "metadata": {},
     "output_type": "display_data"
    },
    {
     "data": {
      "text/html": [
       "<pre style=\"white-space:pre;overflow-x:auto;line-height:normal;font-family:Menlo,'DejaVu Sans Mono',consolas,'Courier New',monospace\">/tmp/ipykernel_120664/3199749346.py:26: FutureWarning: The behavior of DataFrame concatenation with empty or all-NA\n",
       "entries is deprecated. In a future version, this will no longer exclude empty or all-NA columns when determining \n",
       "the result dtypes. To retain the old behavior, exclude the relevant entries before the concat operation.\n",
       "  results = pd.concat([results, normalized_data])\n",
       "</pre>\n"
      ],
      "text/plain": [
       "/tmp/ipykernel_120664/3199749346.py:26: FutureWarning: The behavior of DataFrame concatenation with empty or all-NA\n",
       "entries is deprecated. In a future version, this will no longer exclude empty or all-NA columns when determining \n",
       "the result dtypes. To retain the old behavior, exclude the relevant entries before the concat operation.\n",
       "  results = pd.concat([results, normalized_data])\n"
      ]
     },
     "metadata": {},
     "output_type": "display_data"
    },
    {
     "data": {
      "text/html": [
       "<pre style=\"white-space:pre;overflow-x:auto;line-height:normal;font-family:Menlo,'DejaVu Sans Mono',consolas,'Courier New',monospace\">/tmp/ipykernel_120664/3199749346.py:26: FutureWarning: The behavior of DataFrame concatenation with empty or all-NA\n",
       "entries is deprecated. In a future version, this will no longer exclude empty or all-NA columns when determining \n",
       "the result dtypes. To retain the old behavior, exclude the relevant entries before the concat operation.\n",
       "  results = pd.concat([results, normalized_data])\n",
       "</pre>\n"
      ],
      "text/plain": [
       "/tmp/ipykernel_120664/3199749346.py:26: FutureWarning: The behavior of DataFrame concatenation with empty or all-NA\n",
       "entries is deprecated. In a future version, this will no longer exclude empty or all-NA columns when determining \n",
       "the result dtypes. To retain the old behavior, exclude the relevant entries before the concat operation.\n",
       "  results = pd.concat([results, normalized_data])\n"
      ]
     },
     "metadata": {},
     "output_type": "display_data"
    },
    {
     "data": {
      "text/html": [
       "<pre style=\"white-space:pre;overflow-x:auto;line-height:normal;font-family:Menlo,'DejaVu Sans Mono',consolas,'Courier New',monospace\">/tmp/ipykernel_120664/3199749346.py:26: FutureWarning: The behavior of DataFrame concatenation with empty or all-NA\n",
       "entries is deprecated. In a future version, this will no longer exclude empty or all-NA columns when determining \n",
       "the result dtypes. To retain the old behavior, exclude the relevant entries before the concat operation.\n",
       "  results = pd.concat([results, normalized_data])\n",
       "</pre>\n"
      ],
      "text/plain": [
       "/tmp/ipykernel_120664/3199749346.py:26: FutureWarning: The behavior of DataFrame concatenation with empty or all-NA\n",
       "entries is deprecated. In a future version, this will no longer exclude empty or all-NA columns when determining \n",
       "the result dtypes. To retain the old behavior, exclude the relevant entries before the concat operation.\n",
       "  results = pd.concat([results, normalized_data])\n"
      ]
     },
     "metadata": {},
     "output_type": "display_data"
    },
    {
     "data": {
      "text/html": [
       "<pre style=\"white-space:pre;overflow-x:auto;line-height:normal;font-family:Menlo,'DejaVu Sans Mono',consolas,'Courier New',monospace\">/tmp/ipykernel_120664/3199749346.py:26: FutureWarning: The behavior of DataFrame concatenation with empty or all-NA\n",
       "entries is deprecated. In a future version, this will no longer exclude empty or all-NA columns when determining \n",
       "the result dtypes. To retain the old behavior, exclude the relevant entries before the concat operation.\n",
       "  results = pd.concat([results, normalized_data])\n",
       "</pre>\n"
      ],
      "text/plain": [
       "/tmp/ipykernel_120664/3199749346.py:26: FutureWarning: The behavior of DataFrame concatenation with empty or all-NA\n",
       "entries is deprecated. In a future version, this will no longer exclude empty or all-NA columns when determining \n",
       "the result dtypes. To retain the old behavior, exclude the relevant entries before the concat operation.\n",
       "  results = pd.concat([results, normalized_data])\n"
      ]
     },
     "metadata": {},
     "output_type": "display_data"
    },
    {
     "data": {
      "text/html": [
       "<pre style=\"white-space:pre;overflow-x:auto;line-height:normal;font-family:Menlo,'DejaVu Sans Mono',consolas,'Courier New',monospace\">/tmp/ipykernel_120664/3199749346.py:26: FutureWarning: The behavior of DataFrame concatenation with empty or all-NA\n",
       "entries is deprecated. In a future version, this will no longer exclude empty or all-NA columns when determining \n",
       "the result dtypes. To retain the old behavior, exclude the relevant entries before the concat operation.\n",
       "  results = pd.concat([results, normalized_data])\n",
       "</pre>\n"
      ],
      "text/plain": [
       "/tmp/ipykernel_120664/3199749346.py:26: FutureWarning: The behavior of DataFrame concatenation with empty or all-NA\n",
       "entries is deprecated. In a future version, this will no longer exclude empty or all-NA columns when determining \n",
       "the result dtypes. To retain the old behavior, exclude the relevant entries before the concat operation.\n",
       "  results = pd.concat([results, normalized_data])\n"
      ]
     },
     "metadata": {},
     "output_type": "display_data"
    },
    {
     "data": {
      "text/html": [
       "<pre style=\"white-space:pre;overflow-x:auto;line-height:normal;font-family:Menlo,'DejaVu Sans Mono',consolas,'Courier New',monospace\">/tmp/ipykernel_120664/3199749346.py:26: FutureWarning: The behavior of DataFrame concatenation with empty or all-NA\n",
       "entries is deprecated. In a future version, this will no longer exclude empty or all-NA columns when determining \n",
       "the result dtypes. To retain the old behavior, exclude the relevant entries before the concat operation.\n",
       "  results = pd.concat([results, normalized_data])\n",
       "</pre>\n"
      ],
      "text/plain": [
       "/tmp/ipykernel_120664/3199749346.py:26: FutureWarning: The behavior of DataFrame concatenation with empty or all-NA\n",
       "entries is deprecated. In a future version, this will no longer exclude empty or all-NA columns when determining \n",
       "the result dtypes. To retain the old behavior, exclude the relevant entries before the concat operation.\n",
       "  results = pd.concat([results, normalized_data])\n"
      ]
     },
     "metadata": {},
     "output_type": "display_data"
    },
    {
     "data": {
      "text/html": [
       "<pre style=\"white-space:pre;overflow-x:auto;line-height:normal;font-family:Menlo,'DejaVu Sans Mono',consolas,'Courier New',monospace\">/tmp/ipykernel_120664/3199749346.py:26: FutureWarning: The behavior of DataFrame concatenation with empty or all-NA\n",
       "entries is deprecated. In a future version, this will no longer exclude empty or all-NA columns when determining \n",
       "the result dtypes. To retain the old behavior, exclude the relevant entries before the concat operation.\n",
       "  results = pd.concat([results, normalized_data])\n",
       "</pre>\n"
      ],
      "text/plain": [
       "/tmp/ipykernel_120664/3199749346.py:26: FutureWarning: The behavior of DataFrame concatenation with empty or all-NA\n",
       "entries is deprecated. In a future version, this will no longer exclude empty or all-NA columns when determining \n",
       "the result dtypes. To retain the old behavior, exclude the relevant entries before the concat operation.\n",
       "  results = pd.concat([results, normalized_data])\n"
      ]
     },
     "metadata": {},
     "output_type": "display_data"
    },
    {
     "data": {
      "text/html": [
       "<pre style=\"white-space:pre;overflow-x:auto;line-height:normal;font-family:Menlo,'DejaVu Sans Mono',consolas,'Courier New',monospace\">/tmp/ipykernel_120664/3199749346.py:26: FutureWarning: The behavior of DataFrame concatenation with empty or all-NA\n",
       "entries is deprecated. In a future version, this will no longer exclude empty or all-NA columns when determining \n",
       "the result dtypes. To retain the old behavior, exclude the relevant entries before the concat operation.\n",
       "  results = pd.concat([results, normalized_data])\n",
       "</pre>\n"
      ],
      "text/plain": [
       "/tmp/ipykernel_120664/3199749346.py:26: FutureWarning: The behavior of DataFrame concatenation with empty or all-NA\n",
       "entries is deprecated. In a future version, this will no longer exclude empty or all-NA columns when determining \n",
       "the result dtypes. To retain the old behavior, exclude the relevant entries before the concat operation.\n",
       "  results = pd.concat([results, normalized_data])\n"
      ]
     },
     "metadata": {},
     "output_type": "display_data"
    },
    {
     "data": {
      "text/html": [
       "<pre style=\"white-space:pre;overflow-x:auto;line-height:normal;font-family:Menlo,'DejaVu Sans Mono',consolas,'Courier New',monospace\">/tmp/ipykernel_120664/3199749346.py:26: FutureWarning: The behavior of DataFrame concatenation with empty or all-NA\n",
       "entries is deprecated. In a future version, this will no longer exclude empty or all-NA columns when determining \n",
       "the result dtypes. To retain the old behavior, exclude the relevant entries before the concat operation.\n",
       "  results = pd.concat([results, normalized_data])\n",
       "</pre>\n"
      ],
      "text/plain": [
       "/tmp/ipykernel_120664/3199749346.py:26: FutureWarning: The behavior of DataFrame concatenation with empty or all-NA\n",
       "entries is deprecated. In a future version, this will no longer exclude empty or all-NA columns when determining \n",
       "the result dtypes. To retain the old behavior, exclude the relevant entries before the concat operation.\n",
       "  results = pd.concat([results, normalized_data])\n"
      ]
     },
     "metadata": {},
     "output_type": "display_data"
    },
    {
     "data": {
      "text/html": [
       "<pre style=\"white-space:pre;overflow-x:auto;line-height:normal;font-family:Menlo,'DejaVu Sans Mono',consolas,'Courier New',monospace\">/tmp/ipykernel_120664/3199749346.py:26: FutureWarning: The behavior of DataFrame concatenation with empty or all-NA\n",
       "entries is deprecated. In a future version, this will no longer exclude empty or all-NA columns when determining \n",
       "the result dtypes. To retain the old behavior, exclude the relevant entries before the concat operation.\n",
       "  results = pd.concat([results, normalized_data])\n",
       "</pre>\n"
      ],
      "text/plain": [
       "/tmp/ipykernel_120664/3199749346.py:26: FutureWarning: The behavior of DataFrame concatenation with empty or all-NA\n",
       "entries is deprecated. In a future version, this will no longer exclude empty or all-NA columns when determining \n",
       "the result dtypes. To retain the old behavior, exclude the relevant entries before the concat operation.\n",
       "  results = pd.concat([results, normalized_data])\n"
      ]
     },
     "metadata": {},
     "output_type": "display_data"
    },
    {
     "data": {
      "text/html": [
       "<pre style=\"white-space:pre;overflow-x:auto;line-height:normal;font-family:Menlo,'DejaVu Sans Mono',consolas,'Courier New',monospace\">/tmp/ipykernel_120664/3199749346.py:26: FutureWarning: The behavior of DataFrame concatenation with empty or all-NA\n",
       "entries is deprecated. In a future version, this will no longer exclude empty or all-NA columns when determining \n",
       "the result dtypes. To retain the old behavior, exclude the relevant entries before the concat operation.\n",
       "  results = pd.concat([results, normalized_data])\n",
       "</pre>\n"
      ],
      "text/plain": [
       "/tmp/ipykernel_120664/3199749346.py:26: FutureWarning: The behavior of DataFrame concatenation with empty or all-NA\n",
       "entries is deprecated. In a future version, this will no longer exclude empty or all-NA columns when determining \n",
       "the result dtypes. To retain the old behavior, exclude the relevant entries before the concat operation.\n",
       "  results = pd.concat([results, normalized_data])\n"
      ]
     },
     "metadata": {},
     "output_type": "display_data"
    },
    {
     "data": {
      "text/html": [
       "<pre style=\"white-space:pre;overflow-x:auto;line-height:normal;font-family:Menlo,'DejaVu Sans Mono',consolas,'Courier New',monospace\">/tmp/ipykernel_120664/3199749346.py:26: FutureWarning: The behavior of DataFrame concatenation with empty or all-NA\n",
       "entries is deprecated. In a future version, this will no longer exclude empty or all-NA columns when determining \n",
       "the result dtypes. To retain the old behavior, exclude the relevant entries before the concat operation.\n",
       "  results = pd.concat([results, normalized_data])\n",
       "</pre>\n"
      ],
      "text/plain": [
       "/tmp/ipykernel_120664/3199749346.py:26: FutureWarning: The behavior of DataFrame concatenation with empty or all-NA\n",
       "entries is deprecated. In a future version, this will no longer exclude empty or all-NA columns when determining \n",
       "the result dtypes. To retain the old behavior, exclude the relevant entries before the concat operation.\n",
       "  results = pd.concat([results, normalized_data])\n"
      ]
     },
     "metadata": {},
     "output_type": "display_data"
    },
    {
     "data": {
      "text/html": [
       "<pre style=\"white-space:pre;overflow-x:auto;line-height:normal;font-family:Menlo,'DejaVu Sans Mono',consolas,'Courier New',monospace\">/tmp/ipykernel_120664/3199749346.py:26: FutureWarning: The behavior of DataFrame concatenation with empty or all-NA\n",
       "entries is deprecated. In a future version, this will no longer exclude empty or all-NA columns when determining \n",
       "the result dtypes. To retain the old behavior, exclude the relevant entries before the concat operation.\n",
       "  results = pd.concat([results, normalized_data])\n",
       "</pre>\n"
      ],
      "text/plain": [
       "/tmp/ipykernel_120664/3199749346.py:26: FutureWarning: The behavior of DataFrame concatenation with empty or all-NA\n",
       "entries is deprecated. In a future version, this will no longer exclude empty or all-NA columns when determining \n",
       "the result dtypes. To retain the old behavior, exclude the relevant entries before the concat operation.\n",
       "  results = pd.concat([results, normalized_data])\n"
      ]
     },
     "metadata": {},
     "output_type": "display_data"
    },
    {
     "data": {
      "text/html": [
       "<pre style=\"white-space:pre;overflow-x:auto;line-height:normal;font-family:Menlo,'DejaVu Sans Mono',consolas,'Courier New',monospace\">/tmp/ipykernel_120664/3199749346.py:26: FutureWarning: The behavior of DataFrame concatenation with empty or all-NA\n",
       "entries is deprecated. In a future version, this will no longer exclude empty or all-NA columns when determining \n",
       "the result dtypes. To retain the old behavior, exclude the relevant entries before the concat operation.\n",
       "  results = pd.concat([results, normalized_data])\n",
       "</pre>\n"
      ],
      "text/plain": [
       "/tmp/ipykernel_120664/3199749346.py:26: FutureWarning: The behavior of DataFrame concatenation with empty or all-NA\n",
       "entries is deprecated. In a future version, this will no longer exclude empty or all-NA columns when determining \n",
       "the result dtypes. To retain the old behavior, exclude the relevant entries before the concat operation.\n",
       "  results = pd.concat([results, normalized_data])\n"
      ]
     },
     "metadata": {},
     "output_type": "display_data"
    },
    {
     "data": {
      "text/html": [
       "<pre style=\"white-space:pre;overflow-x:auto;line-height:normal;font-family:Menlo,'DejaVu Sans Mono',consolas,'Courier New',monospace\">/tmp/ipykernel_120664/3199749346.py:26: FutureWarning: The behavior of DataFrame concatenation with empty or all-NA\n",
       "entries is deprecated. In a future version, this will no longer exclude empty or all-NA columns when determining \n",
       "the result dtypes. To retain the old behavior, exclude the relevant entries before the concat operation.\n",
       "  results = pd.concat([results, normalized_data])\n",
       "</pre>\n"
      ],
      "text/plain": [
       "/tmp/ipykernel_120664/3199749346.py:26: FutureWarning: The behavior of DataFrame concatenation with empty or all-NA\n",
       "entries is deprecated. In a future version, this will no longer exclude empty or all-NA columns when determining \n",
       "the result dtypes. To retain the old behavior, exclude the relevant entries before the concat operation.\n",
       "  results = pd.concat([results, normalized_data])\n"
      ]
     },
     "metadata": {},
     "output_type": "display_data"
    },
    {
     "data": {
      "text/html": [
       "<pre style=\"white-space:pre;overflow-x:auto;line-height:normal;font-family:Menlo,'DejaVu Sans Mono',consolas,'Courier New',monospace\">/tmp/ipykernel_120664/3199749346.py:26: FutureWarning: The behavior of DataFrame concatenation with empty or all-NA\n",
       "entries is deprecated. In a future version, this will no longer exclude empty or all-NA columns when determining \n",
       "the result dtypes. To retain the old behavior, exclude the relevant entries before the concat operation.\n",
       "  results = pd.concat([results, normalized_data])\n",
       "</pre>\n"
      ],
      "text/plain": [
       "/tmp/ipykernel_120664/3199749346.py:26: FutureWarning: The behavior of DataFrame concatenation with empty or all-NA\n",
       "entries is deprecated. In a future version, this will no longer exclude empty or all-NA columns when determining \n",
       "the result dtypes. To retain the old behavior, exclude the relevant entries before the concat operation.\n",
       "  results = pd.concat([results, normalized_data])\n"
      ]
     },
     "metadata": {},
     "output_type": "display_data"
    },
    {
     "data": {
      "text/html": [
       "<pre style=\"white-space:pre;overflow-x:auto;line-height:normal;font-family:Menlo,'DejaVu Sans Mono',consolas,'Courier New',monospace\">/tmp/ipykernel_120664/3199749346.py:26: FutureWarning: The behavior of DataFrame concatenation with empty or all-NA\n",
       "entries is deprecated. In a future version, this will no longer exclude empty or all-NA columns when determining \n",
       "the result dtypes. To retain the old behavior, exclude the relevant entries before the concat operation.\n",
       "  results = pd.concat([results, normalized_data])\n",
       "</pre>\n"
      ],
      "text/plain": [
       "/tmp/ipykernel_120664/3199749346.py:26: FutureWarning: The behavior of DataFrame concatenation with empty or all-NA\n",
       "entries is deprecated. In a future version, this will no longer exclude empty or all-NA columns when determining \n",
       "the result dtypes. To retain the old behavior, exclude the relevant entries before the concat operation.\n",
       "  results = pd.concat([results, normalized_data])\n"
      ]
     },
     "metadata": {},
     "output_type": "display_data"
    },
    {
     "data": {
      "text/html": [
       "<pre style=\"white-space:pre;overflow-x:auto;line-height:normal;font-family:Menlo,'DejaVu Sans Mono',consolas,'Courier New',monospace\">/tmp/ipykernel_120664/3199749346.py:26: FutureWarning: The behavior of DataFrame concatenation with empty or all-NA\n",
       "entries is deprecated. In a future version, this will no longer exclude empty or all-NA columns when determining \n",
       "the result dtypes. To retain the old behavior, exclude the relevant entries before the concat operation.\n",
       "  results = pd.concat([results, normalized_data])\n",
       "</pre>\n"
      ],
      "text/plain": [
       "/tmp/ipykernel_120664/3199749346.py:26: FutureWarning: The behavior of DataFrame concatenation with empty or all-NA\n",
       "entries is deprecated. In a future version, this will no longer exclude empty or all-NA columns when determining \n",
       "the result dtypes. To retain the old behavior, exclude the relevant entries before the concat operation.\n",
       "  results = pd.concat([results, normalized_data])\n"
      ]
     },
     "metadata": {},
     "output_type": "display_data"
    },
    {
     "data": {
      "text/html": [
       "<pre style=\"white-space:pre;overflow-x:auto;line-height:normal;font-family:Menlo,'DejaVu Sans Mono',consolas,'Courier New',monospace\">/tmp/ipykernel_120664/3199749346.py:26: FutureWarning: The behavior of DataFrame concatenation with empty or all-NA\n",
       "entries is deprecated. In a future version, this will no longer exclude empty or all-NA columns when determining \n",
       "the result dtypes. To retain the old behavior, exclude the relevant entries before the concat operation.\n",
       "  results = pd.concat([results, normalized_data])\n",
       "</pre>\n"
      ],
      "text/plain": [
       "/tmp/ipykernel_120664/3199749346.py:26: FutureWarning: The behavior of DataFrame concatenation with empty or all-NA\n",
       "entries is deprecated. In a future version, this will no longer exclude empty or all-NA columns when determining \n",
       "the result dtypes. To retain the old behavior, exclude the relevant entries before the concat operation.\n",
       "  results = pd.concat([results, normalized_data])\n"
      ]
     },
     "metadata": {},
     "output_type": "display_data"
    },
    {
     "data": {
      "text/html": [
       "<pre style=\"white-space:pre;overflow-x:auto;line-height:normal;font-family:Menlo,'DejaVu Sans Mono',consolas,'Courier New',monospace\">/tmp/ipykernel_120664/3199749346.py:26: FutureWarning: The behavior of DataFrame concatenation with empty or all-NA\n",
       "entries is deprecated. In a future version, this will no longer exclude empty or all-NA columns when determining \n",
       "the result dtypes. To retain the old behavior, exclude the relevant entries before the concat operation.\n",
       "  results = pd.concat([results, normalized_data])\n",
       "</pre>\n"
      ],
      "text/plain": [
       "/tmp/ipykernel_120664/3199749346.py:26: FutureWarning: The behavior of DataFrame concatenation with empty or all-NA\n",
       "entries is deprecated. In a future version, this will no longer exclude empty or all-NA columns when determining \n",
       "the result dtypes. To retain the old behavior, exclude the relevant entries before the concat operation.\n",
       "  results = pd.concat([results, normalized_data])\n"
      ]
     },
     "metadata": {},
     "output_type": "display_data"
    },
    {
     "data": {
      "text/html": [
       "<pre style=\"white-space:pre;overflow-x:auto;line-height:normal;font-family:Menlo,'DejaVu Sans Mono',consolas,'Courier New',monospace\">/tmp/ipykernel_120664/3199749346.py:26: FutureWarning: The behavior of DataFrame concatenation with empty or all-NA\n",
       "entries is deprecated. In a future version, this will no longer exclude empty or all-NA columns when determining \n",
       "the result dtypes. To retain the old behavior, exclude the relevant entries before the concat operation.\n",
       "  results = pd.concat([results, normalized_data])\n",
       "</pre>\n"
      ],
      "text/plain": [
       "/tmp/ipykernel_120664/3199749346.py:26: FutureWarning: The behavior of DataFrame concatenation with empty or all-NA\n",
       "entries is deprecated. In a future version, this will no longer exclude empty or all-NA columns when determining \n",
       "the result dtypes. To retain the old behavior, exclude the relevant entries before the concat operation.\n",
       "  results = pd.concat([results, normalized_data])\n"
      ]
     },
     "metadata": {},
     "output_type": "display_data"
    },
    {
     "data": {
      "text/html": [
       "<pre style=\"white-space:pre;overflow-x:auto;line-height:normal;font-family:Menlo,'DejaVu Sans Mono',consolas,'Courier New',monospace\">/tmp/ipykernel_120664/3199749346.py:26: FutureWarning: The behavior of DataFrame concatenation with empty or all-NA\n",
       "entries is deprecated. In a future version, this will no longer exclude empty or all-NA columns when determining \n",
       "the result dtypes. To retain the old behavior, exclude the relevant entries before the concat operation.\n",
       "  results = pd.concat([results, normalized_data])\n",
       "</pre>\n"
      ],
      "text/plain": [
       "/tmp/ipykernel_120664/3199749346.py:26: FutureWarning: The behavior of DataFrame concatenation with empty or all-NA\n",
       "entries is deprecated. In a future version, this will no longer exclude empty or all-NA columns when determining \n",
       "the result dtypes. To retain the old behavior, exclude the relevant entries before the concat operation.\n",
       "  results = pd.concat([results, normalized_data])\n"
      ]
     },
     "metadata": {},
     "output_type": "display_data"
    },
    {
     "data": {
      "text/html": [
       "<pre style=\"white-space:pre;overflow-x:auto;line-height:normal;font-family:Menlo,'DejaVu Sans Mono',consolas,'Courier New',monospace\">/tmp/ipykernel_120664/3199749346.py:26: FutureWarning: The behavior of DataFrame concatenation with empty or all-NA\n",
       "entries is deprecated. In a future version, this will no longer exclude empty or all-NA columns when determining \n",
       "the result dtypes. To retain the old behavior, exclude the relevant entries before the concat operation.\n",
       "  results = pd.concat([results, normalized_data])\n",
       "</pre>\n"
      ],
      "text/plain": [
       "/tmp/ipykernel_120664/3199749346.py:26: FutureWarning: The behavior of DataFrame concatenation with empty or all-NA\n",
       "entries is deprecated. In a future version, this will no longer exclude empty or all-NA columns when determining \n",
       "the result dtypes. To retain the old behavior, exclude the relevant entries before the concat operation.\n",
       "  results = pd.concat([results, normalized_data])\n"
      ]
     },
     "metadata": {},
     "output_type": "display_data"
    },
    {
     "data": {
      "text/html": [
       "<pre style=\"white-space:pre;overflow-x:auto;line-height:normal;font-family:Menlo,'DejaVu Sans Mono',consolas,'Courier New',monospace\">/tmp/ipykernel_120664/3199749346.py:26: FutureWarning: The behavior of DataFrame concatenation with empty or all-NA\n",
       "entries is deprecated. In a future version, this will no longer exclude empty or all-NA columns when determining \n",
       "the result dtypes. To retain the old behavior, exclude the relevant entries before the concat operation.\n",
       "  results = pd.concat([results, normalized_data])\n",
       "</pre>\n"
      ],
      "text/plain": [
       "/tmp/ipykernel_120664/3199749346.py:26: FutureWarning: The behavior of DataFrame concatenation with empty or all-NA\n",
       "entries is deprecated. In a future version, this will no longer exclude empty or all-NA columns when determining \n",
       "the result dtypes. To retain the old behavior, exclude the relevant entries before the concat operation.\n",
       "  results = pd.concat([results, normalized_data])\n"
      ]
     },
     "metadata": {},
     "output_type": "display_data"
    },
    {
     "data": {
      "text/html": [
       "<pre style=\"white-space:pre;overflow-x:auto;line-height:normal;font-family:Menlo,'DejaVu Sans Mono',consolas,'Courier New',monospace\">/tmp/ipykernel_120664/3199749346.py:26: FutureWarning: The behavior of DataFrame concatenation with empty or all-NA\n",
       "entries is deprecated. In a future version, this will no longer exclude empty or all-NA columns when determining \n",
       "the result dtypes. To retain the old behavior, exclude the relevant entries before the concat operation.\n",
       "  results = pd.concat([results, normalized_data])\n",
       "</pre>\n"
      ],
      "text/plain": [
       "/tmp/ipykernel_120664/3199749346.py:26: FutureWarning: The behavior of DataFrame concatenation with empty or all-NA\n",
       "entries is deprecated. In a future version, this will no longer exclude empty or all-NA columns when determining \n",
       "the result dtypes. To retain the old behavior, exclude the relevant entries before the concat operation.\n",
       "  results = pd.concat([results, normalized_data])\n"
      ]
     },
     "metadata": {},
     "output_type": "display_data"
    },
    {
     "data": {
      "text/html": [
       "<pre style=\"white-space:pre;overflow-x:auto;line-height:normal;font-family:Menlo,'DejaVu Sans Mono',consolas,'Courier New',monospace\">/tmp/ipykernel_120664/3199749346.py:26: FutureWarning: The behavior of DataFrame concatenation with empty or all-NA\n",
       "entries is deprecated. In a future version, this will no longer exclude empty or all-NA columns when determining \n",
       "the result dtypes. To retain the old behavior, exclude the relevant entries before the concat operation.\n",
       "  results = pd.concat([results, normalized_data])\n",
       "</pre>\n"
      ],
      "text/plain": [
       "/tmp/ipykernel_120664/3199749346.py:26: FutureWarning: The behavior of DataFrame concatenation with empty or all-NA\n",
       "entries is deprecated. In a future version, this will no longer exclude empty or all-NA columns when determining \n",
       "the result dtypes. To retain the old behavior, exclude the relevant entries before the concat operation.\n",
       "  results = pd.concat([results, normalized_data])\n"
      ]
     },
     "metadata": {},
     "output_type": "display_data"
    },
    {
     "data": {
      "text/html": [
       "<pre style=\"white-space:pre;overflow-x:auto;line-height:normal;font-family:Menlo,'DejaVu Sans Mono',consolas,'Courier New',monospace\">/tmp/ipykernel_120664/3199749346.py:26: FutureWarning: The behavior of DataFrame concatenation with empty or all-NA\n",
       "entries is deprecated. In a future version, this will no longer exclude empty or all-NA columns when determining \n",
       "the result dtypes. To retain the old behavior, exclude the relevant entries before the concat operation.\n",
       "  results = pd.concat([results, normalized_data])\n",
       "</pre>\n"
      ],
      "text/plain": [
       "/tmp/ipykernel_120664/3199749346.py:26: FutureWarning: The behavior of DataFrame concatenation with empty or all-NA\n",
       "entries is deprecated. In a future version, this will no longer exclude empty or all-NA columns when determining \n",
       "the result dtypes. To retain the old behavior, exclude the relevant entries before the concat operation.\n",
       "  results = pd.concat([results, normalized_data])\n"
      ]
     },
     "metadata": {},
     "output_type": "display_data"
    },
    {
     "data": {
      "text/html": [
       "<pre style=\"white-space:pre;overflow-x:auto;line-height:normal;font-family:Menlo,'DejaVu Sans Mono',consolas,'Courier New',monospace\">/tmp/ipykernel_120664/3199749346.py:26: FutureWarning: The behavior of DataFrame concatenation with empty or all-NA\n",
       "entries is deprecated. In a future version, this will no longer exclude empty or all-NA columns when determining \n",
       "the result dtypes. To retain the old behavior, exclude the relevant entries before the concat operation.\n",
       "  results = pd.concat([results, normalized_data])\n",
       "</pre>\n"
      ],
      "text/plain": [
       "/tmp/ipykernel_120664/3199749346.py:26: FutureWarning: The behavior of DataFrame concatenation with empty or all-NA\n",
       "entries is deprecated. In a future version, this will no longer exclude empty or all-NA columns when determining \n",
       "the result dtypes. To retain the old behavior, exclude the relevant entries before the concat operation.\n",
       "  results = pd.concat([results, normalized_data])\n"
      ]
     },
     "metadata": {},
     "output_type": "display_data"
    },
    {
     "data": {
      "text/html": [
       "<pre style=\"white-space:pre;overflow-x:auto;line-height:normal;font-family:Menlo,'DejaVu Sans Mono',consolas,'Courier New',monospace\">/tmp/ipykernel_120664/3199749346.py:26: FutureWarning: The behavior of DataFrame concatenation with empty or all-NA\n",
       "entries is deprecated. In a future version, this will no longer exclude empty or all-NA columns when determining \n",
       "the result dtypes. To retain the old behavior, exclude the relevant entries before the concat operation.\n",
       "  results = pd.concat([results, normalized_data])\n",
       "</pre>\n"
      ],
      "text/plain": [
       "/tmp/ipykernel_120664/3199749346.py:26: FutureWarning: The behavior of DataFrame concatenation with empty or all-NA\n",
       "entries is deprecated. In a future version, this will no longer exclude empty or all-NA columns when determining \n",
       "the result dtypes. To retain the old behavior, exclude the relevant entries before the concat operation.\n",
       "  results = pd.concat([results, normalized_data])\n"
      ]
     },
     "metadata": {},
     "output_type": "display_data"
    },
    {
     "data": {
      "text/html": [
       "<pre style=\"white-space:pre;overflow-x:auto;line-height:normal;font-family:Menlo,'DejaVu Sans Mono',consolas,'Courier New',monospace\">/tmp/ipykernel_120664/3199749346.py:26: FutureWarning: The behavior of DataFrame concatenation with empty or all-NA\n",
       "entries is deprecated. In a future version, this will no longer exclude empty or all-NA columns when determining \n",
       "the result dtypes. To retain the old behavior, exclude the relevant entries before the concat operation.\n",
       "  results = pd.concat([results, normalized_data])\n",
       "</pre>\n"
      ],
      "text/plain": [
       "/tmp/ipykernel_120664/3199749346.py:26: FutureWarning: The behavior of DataFrame concatenation with empty or all-NA\n",
       "entries is deprecated. In a future version, this will no longer exclude empty or all-NA columns when determining \n",
       "the result dtypes. To retain the old behavior, exclude the relevant entries before the concat operation.\n",
       "  results = pd.concat([results, normalized_data])\n"
      ]
     },
     "metadata": {},
     "output_type": "display_data"
    },
    {
     "data": {
      "text/html": [
       "<pre style=\"white-space:pre;overflow-x:auto;line-height:normal;font-family:Menlo,'DejaVu Sans Mono',consolas,'Courier New',monospace\">/tmp/ipykernel_120664/3199749346.py:26: FutureWarning: The behavior of DataFrame concatenation with empty or all-NA\n",
       "entries is deprecated. In a future version, this will no longer exclude empty or all-NA columns when determining \n",
       "the result dtypes. To retain the old behavior, exclude the relevant entries before the concat operation.\n",
       "  results = pd.concat([results, normalized_data])\n",
       "</pre>\n"
      ],
      "text/plain": [
       "/tmp/ipykernel_120664/3199749346.py:26: FutureWarning: The behavior of DataFrame concatenation with empty or all-NA\n",
       "entries is deprecated. In a future version, this will no longer exclude empty or all-NA columns when determining \n",
       "the result dtypes. To retain the old behavior, exclude the relevant entries before the concat operation.\n",
       "  results = pd.concat([results, normalized_data])\n"
      ]
     },
     "metadata": {},
     "output_type": "display_data"
    },
    {
     "data": {
      "text/html": [
       "<pre style=\"white-space:pre;overflow-x:auto;line-height:normal;font-family:Menlo,'DejaVu Sans Mono',consolas,'Courier New',monospace\">/tmp/ipykernel_120664/3199749346.py:26: FutureWarning: The behavior of DataFrame concatenation with empty or all-NA\n",
       "entries is deprecated. In a future version, this will no longer exclude empty or all-NA columns when determining \n",
       "the result dtypes. To retain the old behavior, exclude the relevant entries before the concat operation.\n",
       "  results = pd.concat([results, normalized_data])\n",
       "</pre>\n"
      ],
      "text/plain": [
       "/tmp/ipykernel_120664/3199749346.py:26: FutureWarning: The behavior of DataFrame concatenation with empty or all-NA\n",
       "entries is deprecated. In a future version, this will no longer exclude empty or all-NA columns when determining \n",
       "the result dtypes. To retain the old behavior, exclude the relevant entries before the concat operation.\n",
       "  results = pd.concat([results, normalized_data])\n"
      ]
     },
     "metadata": {},
     "output_type": "display_data"
    },
    {
     "data": {
      "text/html": [
       "<pre style=\"white-space:pre;overflow-x:auto;line-height:normal;font-family:Menlo,'DejaVu Sans Mono',consolas,'Courier New',monospace\">/tmp/ipykernel_120664/3199749346.py:26: FutureWarning: The behavior of DataFrame concatenation with empty or all-NA\n",
       "entries is deprecated. In a future version, this will no longer exclude empty or all-NA columns when determining \n",
       "the result dtypes. To retain the old behavior, exclude the relevant entries before the concat operation.\n",
       "  results = pd.concat([results, normalized_data])\n",
       "</pre>\n"
      ],
      "text/plain": [
       "/tmp/ipykernel_120664/3199749346.py:26: FutureWarning: The behavior of DataFrame concatenation with empty or all-NA\n",
       "entries is deprecated. In a future version, this will no longer exclude empty or all-NA columns when determining \n",
       "the result dtypes. To retain the old behavior, exclude the relevant entries before the concat operation.\n",
       "  results = pd.concat([results, normalized_data])\n"
      ]
     },
     "metadata": {},
     "output_type": "display_data"
    },
    {
     "data": {
      "text/html": [
       "<pre style=\"white-space:pre;overflow-x:auto;line-height:normal;font-family:Menlo,'DejaVu Sans Mono',consolas,'Courier New',monospace\">/tmp/ipykernel_120664/3199749346.py:26: FutureWarning: The behavior of DataFrame concatenation with empty or all-NA\n",
       "entries is deprecated. In a future version, this will no longer exclude empty or all-NA columns when determining \n",
       "the result dtypes. To retain the old behavior, exclude the relevant entries before the concat operation.\n",
       "  results = pd.concat([results, normalized_data])\n",
       "</pre>\n"
      ],
      "text/plain": [
       "/tmp/ipykernel_120664/3199749346.py:26: FutureWarning: The behavior of DataFrame concatenation with empty or all-NA\n",
       "entries is deprecated. In a future version, this will no longer exclude empty or all-NA columns when determining \n",
       "the result dtypes. To retain the old behavior, exclude the relevant entries before the concat operation.\n",
       "  results = pd.concat([results, normalized_data])\n"
      ]
     },
     "metadata": {},
     "output_type": "display_data"
    },
    {
     "data": {
      "text/html": [
       "<pre style=\"white-space:pre;overflow-x:auto;line-height:normal;font-family:Menlo,'DejaVu Sans Mono',consolas,'Courier New',monospace\">/tmp/ipykernel_120664/3199749346.py:26: FutureWarning: The behavior of DataFrame concatenation with empty or all-NA\n",
       "entries is deprecated. In a future version, this will no longer exclude empty or all-NA columns when determining \n",
       "the result dtypes. To retain the old behavior, exclude the relevant entries before the concat operation.\n",
       "  results = pd.concat([results, normalized_data])\n",
       "</pre>\n"
      ],
      "text/plain": [
       "/tmp/ipykernel_120664/3199749346.py:26: FutureWarning: The behavior of DataFrame concatenation with empty or all-NA\n",
       "entries is deprecated. In a future version, this will no longer exclude empty or all-NA columns when determining \n",
       "the result dtypes. To retain the old behavior, exclude the relevant entries before the concat operation.\n",
       "  results = pd.concat([results, normalized_data])\n"
      ]
     },
     "metadata": {},
     "output_type": "display_data"
    },
    {
     "data": {
      "text/html": [
       "<pre style=\"white-space:pre;overflow-x:auto;line-height:normal;font-family:Menlo,'DejaVu Sans Mono',consolas,'Courier New',monospace\">/tmp/ipykernel_120664/3199749346.py:26: FutureWarning: The behavior of DataFrame concatenation with empty or all-NA\n",
       "entries is deprecated. In a future version, this will no longer exclude empty or all-NA columns when determining \n",
       "the result dtypes. To retain the old behavior, exclude the relevant entries before the concat operation.\n",
       "  results = pd.concat([results, normalized_data])\n",
       "</pre>\n"
      ],
      "text/plain": [
       "/tmp/ipykernel_120664/3199749346.py:26: FutureWarning: The behavior of DataFrame concatenation with empty or all-NA\n",
       "entries is deprecated. In a future version, this will no longer exclude empty or all-NA columns when determining \n",
       "the result dtypes. To retain the old behavior, exclude the relevant entries before the concat operation.\n",
       "  results = pd.concat([results, normalized_data])\n"
      ]
     },
     "metadata": {},
     "output_type": "display_data"
    },
    {
     "data": {
      "text/html": [
       "<pre style=\"white-space:pre;overflow-x:auto;line-height:normal;font-family:Menlo,'DejaVu Sans Mono',consolas,'Courier New',monospace\">/tmp/ipykernel_120664/3199749346.py:26: FutureWarning: The behavior of DataFrame concatenation with empty or all-NA\n",
       "entries is deprecated. In a future version, this will no longer exclude empty or all-NA columns when determining \n",
       "the result dtypes. To retain the old behavior, exclude the relevant entries before the concat operation.\n",
       "  results = pd.concat([results, normalized_data])\n",
       "</pre>\n"
      ],
      "text/plain": [
       "/tmp/ipykernel_120664/3199749346.py:26: FutureWarning: The behavior of DataFrame concatenation with empty or all-NA\n",
       "entries is deprecated. In a future version, this will no longer exclude empty or all-NA columns when determining \n",
       "the result dtypes. To retain the old behavior, exclude the relevant entries before the concat operation.\n",
       "  results = pd.concat([results, normalized_data])\n"
      ]
     },
     "metadata": {},
     "output_type": "display_data"
    },
    {
     "data": {
      "text/html": [
       "<pre style=\"white-space:pre;overflow-x:auto;line-height:normal;font-family:Menlo,'DejaVu Sans Mono',consolas,'Courier New',monospace\">/tmp/ipykernel_120664/3199749346.py:26: FutureWarning: The behavior of DataFrame concatenation with empty or all-NA\n",
       "entries is deprecated. In a future version, this will no longer exclude empty or all-NA columns when determining \n",
       "the result dtypes. To retain the old behavior, exclude the relevant entries before the concat operation.\n",
       "  results = pd.concat([results, normalized_data])\n",
       "</pre>\n"
      ],
      "text/plain": [
       "/tmp/ipykernel_120664/3199749346.py:26: FutureWarning: The behavior of DataFrame concatenation with empty or all-NA\n",
       "entries is deprecated. In a future version, this will no longer exclude empty or all-NA columns when determining \n",
       "the result dtypes. To retain the old behavior, exclude the relevant entries before the concat operation.\n",
       "  results = pd.concat([results, normalized_data])\n"
      ]
     },
     "metadata": {},
     "output_type": "display_data"
    },
    {
     "data": {
      "text/html": [
       "<pre style=\"white-space:pre;overflow-x:auto;line-height:normal;font-family:Menlo,'DejaVu Sans Mono',consolas,'Courier New',monospace\">/tmp/ipykernel_120664/3199749346.py:26: FutureWarning: The behavior of DataFrame concatenation with empty or all-NA\n",
       "entries is deprecated. In a future version, this will no longer exclude empty or all-NA columns when determining \n",
       "the result dtypes. To retain the old behavior, exclude the relevant entries before the concat operation.\n",
       "  results = pd.concat([results, normalized_data])\n",
       "</pre>\n"
      ],
      "text/plain": [
       "/tmp/ipykernel_120664/3199749346.py:26: FutureWarning: The behavior of DataFrame concatenation with empty or all-NA\n",
       "entries is deprecated. In a future version, this will no longer exclude empty or all-NA columns when determining \n",
       "the result dtypes. To retain the old behavior, exclude the relevant entries before the concat operation.\n",
       "  results = pd.concat([results, normalized_data])\n"
      ]
     },
     "metadata": {},
     "output_type": "display_data"
    },
    {
     "data": {
      "text/html": [
       "<pre style=\"white-space:pre;overflow-x:auto;line-height:normal;font-family:Menlo,'DejaVu Sans Mono',consolas,'Courier New',monospace\">/tmp/ipykernel_120664/3199749346.py:26: FutureWarning: The behavior of DataFrame concatenation with empty or all-NA\n",
       "entries is deprecated. In a future version, this will no longer exclude empty or all-NA columns when determining \n",
       "the result dtypes. To retain the old behavior, exclude the relevant entries before the concat operation.\n",
       "  results = pd.concat([results, normalized_data])\n",
       "</pre>\n"
      ],
      "text/plain": [
       "/tmp/ipykernel_120664/3199749346.py:26: FutureWarning: The behavior of DataFrame concatenation with empty or all-NA\n",
       "entries is deprecated. In a future version, this will no longer exclude empty or all-NA columns when determining \n",
       "the result dtypes. To retain the old behavior, exclude the relevant entries before the concat operation.\n",
       "  results = pd.concat([results, normalized_data])\n"
      ]
     },
     "metadata": {},
     "output_type": "display_data"
    },
    {
     "data": {
      "text/html": [
       "<pre style=\"white-space:pre;overflow-x:auto;line-height:normal;font-family:Menlo,'DejaVu Sans Mono',consolas,'Courier New',monospace\">/tmp/ipykernel_120664/3199749346.py:26: FutureWarning: The behavior of DataFrame concatenation with empty or all-NA\n",
       "entries is deprecated. In a future version, this will no longer exclude empty or all-NA columns when determining \n",
       "the result dtypes. To retain the old behavior, exclude the relevant entries before the concat operation.\n",
       "  results = pd.concat([results, normalized_data])\n",
       "</pre>\n"
      ],
      "text/plain": [
       "/tmp/ipykernel_120664/3199749346.py:26: FutureWarning: The behavior of DataFrame concatenation with empty or all-NA\n",
       "entries is deprecated. In a future version, this will no longer exclude empty or all-NA columns when determining \n",
       "the result dtypes. To retain the old behavior, exclude the relevant entries before the concat operation.\n",
       "  results = pd.concat([results, normalized_data])\n"
      ]
     },
     "metadata": {},
     "output_type": "display_data"
    },
    {
     "data": {
      "text/html": [
       "<pre style=\"white-space:pre;overflow-x:auto;line-height:normal;font-family:Menlo,'DejaVu Sans Mono',consolas,'Courier New',monospace\">/tmp/ipykernel_120664/3199749346.py:26: FutureWarning: The behavior of DataFrame concatenation with empty or all-NA\n",
       "entries is deprecated. In a future version, this will no longer exclude empty or all-NA columns when determining \n",
       "the result dtypes. To retain the old behavior, exclude the relevant entries before the concat operation.\n",
       "  results = pd.concat([results, normalized_data])\n",
       "</pre>\n"
      ],
      "text/plain": [
       "/tmp/ipykernel_120664/3199749346.py:26: FutureWarning: The behavior of DataFrame concatenation with empty or all-NA\n",
       "entries is deprecated. In a future version, this will no longer exclude empty or all-NA columns when determining \n",
       "the result dtypes. To retain the old behavior, exclude the relevant entries before the concat operation.\n",
       "  results = pd.concat([results, normalized_data])\n"
      ]
     },
     "metadata": {},
     "output_type": "display_data"
    },
    {
     "data": {
      "text/html": [
       "<pre style=\"white-space:pre;overflow-x:auto;line-height:normal;font-family:Menlo,'DejaVu Sans Mono',consolas,'Courier New',monospace\">/tmp/ipykernel_120664/3199749346.py:26: FutureWarning: The behavior of DataFrame concatenation with empty or all-NA\n",
       "entries is deprecated. In a future version, this will no longer exclude empty or all-NA columns when determining \n",
       "the result dtypes. To retain the old behavior, exclude the relevant entries before the concat operation.\n",
       "  results = pd.concat([results, normalized_data])\n",
       "</pre>\n"
      ],
      "text/plain": [
       "/tmp/ipykernel_120664/3199749346.py:26: FutureWarning: The behavior of DataFrame concatenation with empty or all-NA\n",
       "entries is deprecated. In a future version, this will no longer exclude empty or all-NA columns when determining \n",
       "the result dtypes. To retain the old behavior, exclude the relevant entries before the concat operation.\n",
       "  results = pd.concat([results, normalized_data])\n"
      ]
     },
     "metadata": {},
     "output_type": "display_data"
    },
    {
     "data": {
      "text/html": [
       "<pre style=\"white-space:pre;overflow-x:auto;line-height:normal;font-family:Menlo,'DejaVu Sans Mono',consolas,'Courier New',monospace\">/tmp/ipykernel_120664/3199749346.py:26: FutureWarning: The behavior of DataFrame concatenation with empty or all-NA\n",
       "entries is deprecated. In a future version, this will no longer exclude empty or all-NA columns when determining \n",
       "the result dtypes. To retain the old behavior, exclude the relevant entries before the concat operation.\n",
       "  results = pd.concat([results, normalized_data])\n",
       "</pre>\n"
      ],
      "text/plain": [
       "/tmp/ipykernel_120664/3199749346.py:26: FutureWarning: The behavior of DataFrame concatenation with empty or all-NA\n",
       "entries is deprecated. In a future version, this will no longer exclude empty or all-NA columns when determining \n",
       "the result dtypes. To retain the old behavior, exclude the relevant entries before the concat operation.\n",
       "  results = pd.concat([results, normalized_data])\n"
      ]
     },
     "metadata": {},
     "output_type": "display_data"
    },
    {
     "data": {
      "text/html": [
       "<pre style=\"white-space:pre;overflow-x:auto;line-height:normal;font-family:Menlo,'DejaVu Sans Mono',consolas,'Courier New',monospace\">/tmp/ipykernel_120664/3199749346.py:26: FutureWarning: The behavior of DataFrame concatenation with empty or all-NA\n",
       "entries is deprecated. In a future version, this will no longer exclude empty or all-NA columns when determining \n",
       "the result dtypes. To retain the old behavior, exclude the relevant entries before the concat operation.\n",
       "  results = pd.concat([results, normalized_data])\n",
       "</pre>\n"
      ],
      "text/plain": [
       "/tmp/ipykernel_120664/3199749346.py:26: FutureWarning: The behavior of DataFrame concatenation with empty or all-NA\n",
       "entries is deprecated. In a future version, this will no longer exclude empty or all-NA columns when determining \n",
       "the result dtypes. To retain the old behavior, exclude the relevant entries before the concat operation.\n",
       "  results = pd.concat([results, normalized_data])\n"
      ]
     },
     "metadata": {},
     "output_type": "display_data"
    },
    {
     "data": {
      "text/html": [
       "<pre style=\"white-space:pre;overflow-x:auto;line-height:normal;font-family:Menlo,'DejaVu Sans Mono',consolas,'Courier New',monospace\">/tmp/ipykernel_120664/3199749346.py:26: FutureWarning: The behavior of DataFrame concatenation with empty or all-NA\n",
       "entries is deprecated. In a future version, this will no longer exclude empty or all-NA columns when determining \n",
       "the result dtypes. To retain the old behavior, exclude the relevant entries before the concat operation.\n",
       "  results = pd.concat([results, normalized_data])\n",
       "</pre>\n"
      ],
      "text/plain": [
       "/tmp/ipykernel_120664/3199749346.py:26: FutureWarning: The behavior of DataFrame concatenation with empty or all-NA\n",
       "entries is deprecated. In a future version, this will no longer exclude empty or all-NA columns when determining \n",
       "the result dtypes. To retain the old behavior, exclude the relevant entries before the concat operation.\n",
       "  results = pd.concat([results, normalized_data])\n"
      ]
     },
     "metadata": {},
     "output_type": "display_data"
    },
    {
     "data": {
      "text/html": [
       "<pre style=\"white-space:pre;overflow-x:auto;line-height:normal;font-family:Menlo,'DejaVu Sans Mono',consolas,'Courier New',monospace\">/tmp/ipykernel_120664/3199749346.py:26: FutureWarning: The behavior of DataFrame concatenation with empty or all-NA\n",
       "entries is deprecated. In a future version, this will no longer exclude empty or all-NA columns when determining \n",
       "the result dtypes. To retain the old behavior, exclude the relevant entries before the concat operation.\n",
       "  results = pd.concat([results, normalized_data])\n",
       "</pre>\n"
      ],
      "text/plain": [
       "/tmp/ipykernel_120664/3199749346.py:26: FutureWarning: The behavior of DataFrame concatenation with empty or all-NA\n",
       "entries is deprecated. In a future version, this will no longer exclude empty or all-NA columns when determining \n",
       "the result dtypes. To retain the old behavior, exclude the relevant entries before the concat operation.\n",
       "  results = pd.concat([results, normalized_data])\n"
      ]
     },
     "metadata": {},
     "output_type": "display_data"
    },
    {
     "data": {
      "text/html": [
       "<pre style=\"white-space:pre;overflow-x:auto;line-height:normal;font-family:Menlo,'DejaVu Sans Mono',consolas,'Courier New',monospace\">/tmp/ipykernel_120664/3199749346.py:26: FutureWarning: The behavior of DataFrame concatenation with empty or all-NA\n",
       "entries is deprecated. In a future version, this will no longer exclude empty or all-NA columns when determining \n",
       "the result dtypes. To retain the old behavior, exclude the relevant entries before the concat operation.\n",
       "  results = pd.concat([results, normalized_data])\n",
       "</pre>\n"
      ],
      "text/plain": [
       "/tmp/ipykernel_120664/3199749346.py:26: FutureWarning: The behavior of DataFrame concatenation with empty or all-NA\n",
       "entries is deprecated. In a future version, this will no longer exclude empty or all-NA columns when determining \n",
       "the result dtypes. To retain the old behavior, exclude the relevant entries before the concat operation.\n",
       "  results = pd.concat([results, normalized_data])\n"
      ]
     },
     "metadata": {},
     "output_type": "display_data"
    },
    {
     "data": {
      "text/html": [
       "<pre style=\"white-space:pre;overflow-x:auto;line-height:normal;font-family:Menlo,'DejaVu Sans Mono',consolas,'Courier New',monospace\">/tmp/ipykernel_120664/3199749346.py:26: FutureWarning: The behavior of DataFrame concatenation with empty or all-NA\n",
       "entries is deprecated. In a future version, this will no longer exclude empty or all-NA columns when determining \n",
       "the result dtypes. To retain the old behavior, exclude the relevant entries before the concat operation.\n",
       "  results = pd.concat([results, normalized_data])\n",
       "</pre>\n"
      ],
      "text/plain": [
       "/tmp/ipykernel_120664/3199749346.py:26: FutureWarning: The behavior of DataFrame concatenation with empty or all-NA\n",
       "entries is deprecated. In a future version, this will no longer exclude empty or all-NA columns when determining \n",
       "the result dtypes. To retain the old behavior, exclude the relevant entries before the concat operation.\n",
       "  results = pd.concat([results, normalized_data])\n"
      ]
     },
     "metadata": {},
     "output_type": "display_data"
    },
    {
     "data": {
      "text/html": [
       "<pre style=\"white-space:pre;overflow-x:auto;line-height:normal;font-family:Menlo,'DejaVu Sans Mono',consolas,'Courier New',monospace\">/tmp/ipykernel_120664/3199749346.py:26: FutureWarning: The behavior of DataFrame concatenation with empty or all-NA\n",
       "entries is deprecated. In a future version, this will no longer exclude empty or all-NA columns when determining \n",
       "the result dtypes. To retain the old behavior, exclude the relevant entries before the concat operation.\n",
       "  results = pd.concat([results, normalized_data])\n",
       "</pre>\n"
      ],
      "text/plain": [
       "/tmp/ipykernel_120664/3199749346.py:26: FutureWarning: The behavior of DataFrame concatenation with empty or all-NA\n",
       "entries is deprecated. In a future version, this will no longer exclude empty or all-NA columns when determining \n",
       "the result dtypes. To retain the old behavior, exclude the relevant entries before the concat operation.\n",
       "  results = pd.concat([results, normalized_data])\n"
      ]
     },
     "metadata": {},
     "output_type": "display_data"
    },
    {
     "data": {
      "text/html": [
       "<pre style=\"white-space:pre;overflow-x:auto;line-height:normal;font-family:Menlo,'DejaVu Sans Mono',consolas,'Courier New',monospace\">/tmp/ipykernel_120664/3199749346.py:26: FutureWarning: The behavior of DataFrame concatenation with empty or all-NA\n",
       "entries is deprecated. In a future version, this will no longer exclude empty or all-NA columns when determining \n",
       "the result dtypes. To retain the old behavior, exclude the relevant entries before the concat operation.\n",
       "  results = pd.concat([results, normalized_data])\n",
       "</pre>\n"
      ],
      "text/plain": [
       "/tmp/ipykernel_120664/3199749346.py:26: FutureWarning: The behavior of DataFrame concatenation with empty or all-NA\n",
       "entries is deprecated. In a future version, this will no longer exclude empty or all-NA columns when determining \n",
       "the result dtypes. To retain the old behavior, exclude the relevant entries before the concat operation.\n",
       "  results = pd.concat([results, normalized_data])\n"
      ]
     },
     "metadata": {},
     "output_type": "display_data"
    },
    {
     "data": {
      "text/html": [
       "<pre style=\"white-space:pre;overflow-x:auto;line-height:normal;font-family:Menlo,'DejaVu Sans Mono',consolas,'Courier New',monospace\">/tmp/ipykernel_120664/3199749346.py:26: FutureWarning: The behavior of DataFrame concatenation with empty or all-NA\n",
       "entries is deprecated. In a future version, this will no longer exclude empty or all-NA columns when determining \n",
       "the result dtypes. To retain the old behavior, exclude the relevant entries before the concat operation.\n",
       "  results = pd.concat([results, normalized_data])\n",
       "</pre>\n"
      ],
      "text/plain": [
       "/tmp/ipykernel_120664/3199749346.py:26: FutureWarning: The behavior of DataFrame concatenation with empty or all-NA\n",
       "entries is deprecated. In a future version, this will no longer exclude empty or all-NA columns when determining \n",
       "the result dtypes. To retain the old behavior, exclude the relevant entries before the concat operation.\n",
       "  results = pd.concat([results, normalized_data])\n"
      ]
     },
     "metadata": {},
     "output_type": "display_data"
    },
    {
     "data": {
      "text/html": [
       "<pre style=\"white-space:pre;overflow-x:auto;line-height:normal;font-family:Menlo,'DejaVu Sans Mono',consolas,'Courier New',monospace\">/tmp/ipykernel_120664/3199749346.py:26: FutureWarning: The behavior of DataFrame concatenation with empty or all-NA\n",
       "entries is deprecated. In a future version, this will no longer exclude empty or all-NA columns when determining \n",
       "the result dtypes. To retain the old behavior, exclude the relevant entries before the concat operation.\n",
       "  results = pd.concat([results, normalized_data])\n",
       "</pre>\n"
      ],
      "text/plain": [
       "/tmp/ipykernel_120664/3199749346.py:26: FutureWarning: The behavior of DataFrame concatenation with empty or all-NA\n",
       "entries is deprecated. In a future version, this will no longer exclude empty or all-NA columns when determining \n",
       "the result dtypes. To retain the old behavior, exclude the relevant entries before the concat operation.\n",
       "  results = pd.concat([results, normalized_data])\n"
      ]
     },
     "metadata": {},
     "output_type": "display_data"
    },
    {
     "data": {
      "text/html": [
       "<pre style=\"white-space:pre;overflow-x:auto;line-height:normal;font-family:Menlo,'DejaVu Sans Mono',consolas,'Courier New',monospace\">/tmp/ipykernel_120664/3199749346.py:26: FutureWarning: The behavior of DataFrame concatenation with empty or all-NA\n",
       "entries is deprecated. In a future version, this will no longer exclude empty or all-NA columns when determining \n",
       "the result dtypes. To retain the old behavior, exclude the relevant entries before the concat operation.\n",
       "  results = pd.concat([results, normalized_data])\n",
       "</pre>\n"
      ],
      "text/plain": [
       "/tmp/ipykernel_120664/3199749346.py:26: FutureWarning: The behavior of DataFrame concatenation with empty or all-NA\n",
       "entries is deprecated. In a future version, this will no longer exclude empty or all-NA columns when determining \n",
       "the result dtypes. To retain the old behavior, exclude the relevant entries before the concat operation.\n",
       "  results = pd.concat([results, normalized_data])\n"
      ]
     },
     "metadata": {},
     "output_type": "display_data"
    },
    {
     "data": {
      "text/html": [
       "<pre style=\"white-space:pre;overflow-x:auto;line-height:normal;font-family:Menlo,'DejaVu Sans Mono',consolas,'Courier New',monospace\">/tmp/ipykernel_120664/3199749346.py:26: FutureWarning: The behavior of DataFrame concatenation with empty or all-NA\n",
       "entries is deprecated. In a future version, this will no longer exclude empty or all-NA columns when determining \n",
       "the result dtypes. To retain the old behavior, exclude the relevant entries before the concat operation.\n",
       "  results = pd.concat([results, normalized_data])\n",
       "</pre>\n"
      ],
      "text/plain": [
       "/tmp/ipykernel_120664/3199749346.py:26: FutureWarning: The behavior of DataFrame concatenation with empty or all-NA\n",
       "entries is deprecated. In a future version, this will no longer exclude empty or all-NA columns when determining \n",
       "the result dtypes. To retain the old behavior, exclude the relevant entries before the concat operation.\n",
       "  results = pd.concat([results, normalized_data])\n"
      ]
     },
     "metadata": {},
     "output_type": "display_data"
    },
    {
     "data": {
      "text/html": [
       "<pre style=\"white-space:pre;overflow-x:auto;line-height:normal;font-family:Menlo,'DejaVu Sans Mono',consolas,'Courier New',monospace\">/tmp/ipykernel_120664/3199749346.py:26: FutureWarning: The behavior of DataFrame concatenation with empty or all-NA\n",
       "entries is deprecated. In a future version, this will no longer exclude empty or all-NA columns when determining \n",
       "the result dtypes. To retain the old behavior, exclude the relevant entries before the concat operation.\n",
       "  results = pd.concat([results, normalized_data])\n",
       "</pre>\n"
      ],
      "text/plain": [
       "/tmp/ipykernel_120664/3199749346.py:26: FutureWarning: The behavior of DataFrame concatenation with empty or all-NA\n",
       "entries is deprecated. In a future version, this will no longer exclude empty or all-NA columns when determining \n",
       "the result dtypes. To retain the old behavior, exclude the relevant entries before the concat operation.\n",
       "  results = pd.concat([results, normalized_data])\n"
      ]
     },
     "metadata": {},
     "output_type": "display_data"
    },
    {
     "data": {
      "text/html": [
       "<pre style=\"white-space:pre;overflow-x:auto;line-height:normal;font-family:Menlo,'DejaVu Sans Mono',consolas,'Courier New',monospace\">/tmp/ipykernel_120664/3199749346.py:26: FutureWarning: The behavior of DataFrame concatenation with empty or all-NA\n",
       "entries is deprecated. In a future version, this will no longer exclude empty or all-NA columns when determining \n",
       "the result dtypes. To retain the old behavior, exclude the relevant entries before the concat operation.\n",
       "  results = pd.concat([results, normalized_data])\n",
       "</pre>\n"
      ],
      "text/plain": [
       "/tmp/ipykernel_120664/3199749346.py:26: FutureWarning: The behavior of DataFrame concatenation with empty or all-NA\n",
       "entries is deprecated. In a future version, this will no longer exclude empty or all-NA columns when determining \n",
       "the result dtypes. To retain the old behavior, exclude the relevant entries before the concat operation.\n",
       "  results = pd.concat([results, normalized_data])\n"
      ]
     },
     "metadata": {},
     "output_type": "display_data"
    },
    {
     "data": {
      "text/html": [
       "<pre style=\"white-space:pre;overflow-x:auto;line-height:normal;font-family:Menlo,'DejaVu Sans Mono',consolas,'Courier New',monospace\">/tmp/ipykernel_120664/3199749346.py:26: FutureWarning: The behavior of DataFrame concatenation with empty or all-NA\n",
       "entries is deprecated. In a future version, this will no longer exclude empty or all-NA columns when determining \n",
       "the result dtypes. To retain the old behavior, exclude the relevant entries before the concat operation.\n",
       "  results = pd.concat([results, normalized_data])\n",
       "</pre>\n"
      ],
      "text/plain": [
       "/tmp/ipykernel_120664/3199749346.py:26: FutureWarning: The behavior of DataFrame concatenation with empty or all-NA\n",
       "entries is deprecated. In a future version, this will no longer exclude empty or all-NA columns when determining \n",
       "the result dtypes. To retain the old behavior, exclude the relevant entries before the concat operation.\n",
       "  results = pd.concat([results, normalized_data])\n"
      ]
     },
     "metadata": {},
     "output_type": "display_data"
    },
    {
     "data": {
      "text/html": [
       "<pre style=\"white-space:pre;overflow-x:auto;line-height:normal;font-family:Menlo,'DejaVu Sans Mono',consolas,'Courier New',monospace\">/tmp/ipykernel_120664/3199749346.py:26: FutureWarning: The behavior of DataFrame concatenation with empty or all-NA\n",
       "entries is deprecated. In a future version, this will no longer exclude empty or all-NA columns when determining \n",
       "the result dtypes. To retain the old behavior, exclude the relevant entries before the concat operation.\n",
       "  results = pd.concat([results, normalized_data])\n",
       "</pre>\n"
      ],
      "text/plain": [
       "/tmp/ipykernel_120664/3199749346.py:26: FutureWarning: The behavior of DataFrame concatenation with empty or all-NA\n",
       "entries is deprecated. In a future version, this will no longer exclude empty or all-NA columns when determining \n",
       "the result dtypes. To retain the old behavior, exclude the relevant entries before the concat operation.\n",
       "  results = pd.concat([results, normalized_data])\n"
      ]
     },
     "metadata": {},
     "output_type": "display_data"
    },
    {
     "data": {
      "text/html": [
       "<pre style=\"white-space:pre;overflow-x:auto;line-height:normal;font-family:Menlo,'DejaVu Sans Mono',consolas,'Courier New',monospace\">/tmp/ipykernel_120664/3199749346.py:26: FutureWarning: The behavior of DataFrame concatenation with empty or all-NA\n",
       "entries is deprecated. In a future version, this will no longer exclude empty or all-NA columns when determining \n",
       "the result dtypes. To retain the old behavior, exclude the relevant entries before the concat operation.\n",
       "  results = pd.concat([results, normalized_data])\n",
       "</pre>\n"
      ],
      "text/plain": [
       "/tmp/ipykernel_120664/3199749346.py:26: FutureWarning: The behavior of DataFrame concatenation with empty or all-NA\n",
       "entries is deprecated. In a future version, this will no longer exclude empty or all-NA columns when determining \n",
       "the result dtypes. To retain the old behavior, exclude the relevant entries before the concat operation.\n",
       "  results = pd.concat([results, normalized_data])\n"
      ]
     },
     "metadata": {},
     "output_type": "display_data"
    },
    {
     "data": {
      "text/html": [
       "<pre style=\"white-space:pre;overflow-x:auto;line-height:normal;font-family:Menlo,'DejaVu Sans Mono',consolas,'Courier New',monospace\">/tmp/ipykernel_120664/3199749346.py:26: FutureWarning: The behavior of DataFrame concatenation with empty or all-NA\n",
       "entries is deprecated. In a future version, this will no longer exclude empty or all-NA columns when determining \n",
       "the result dtypes. To retain the old behavior, exclude the relevant entries before the concat operation.\n",
       "  results = pd.concat([results, normalized_data])\n",
       "</pre>\n"
      ],
      "text/plain": [
       "/tmp/ipykernel_120664/3199749346.py:26: FutureWarning: The behavior of DataFrame concatenation with empty or all-NA\n",
       "entries is deprecated. In a future version, this will no longer exclude empty or all-NA columns when determining \n",
       "the result dtypes. To retain the old behavior, exclude the relevant entries before the concat operation.\n",
       "  results = pd.concat([results, normalized_data])\n"
      ]
     },
     "metadata": {},
     "output_type": "display_data"
    },
    {
     "data": {
      "text/html": [
       "<pre style=\"white-space:pre;overflow-x:auto;line-height:normal;font-family:Menlo,'DejaVu Sans Mono',consolas,'Courier New',monospace\">/tmp/ipykernel_120664/3199749346.py:26: FutureWarning: The behavior of DataFrame concatenation with empty or all-NA\n",
       "entries is deprecated. In a future version, this will no longer exclude empty or all-NA columns when determining \n",
       "the result dtypes. To retain the old behavior, exclude the relevant entries before the concat operation.\n",
       "  results = pd.concat([results, normalized_data])\n",
       "</pre>\n"
      ],
      "text/plain": [
       "/tmp/ipykernel_120664/3199749346.py:26: FutureWarning: The behavior of DataFrame concatenation with empty or all-NA\n",
       "entries is deprecated. In a future version, this will no longer exclude empty or all-NA columns when determining \n",
       "the result dtypes. To retain the old behavior, exclude the relevant entries before the concat operation.\n",
       "  results = pd.concat([results, normalized_data])\n"
      ]
     },
     "metadata": {},
     "output_type": "display_data"
    },
    {
     "data": {
      "text/html": [
       "<pre style=\"white-space:pre;overflow-x:auto;line-height:normal;font-family:Menlo,'DejaVu Sans Mono',consolas,'Courier New',monospace\">/tmp/ipykernel_120664/3199749346.py:26: FutureWarning: The behavior of DataFrame concatenation with empty or all-NA\n",
       "entries is deprecated. In a future version, this will no longer exclude empty or all-NA columns when determining \n",
       "the result dtypes. To retain the old behavior, exclude the relevant entries before the concat operation.\n",
       "  results = pd.concat([results, normalized_data])\n",
       "</pre>\n"
      ],
      "text/plain": [
       "/tmp/ipykernel_120664/3199749346.py:26: FutureWarning: The behavior of DataFrame concatenation with empty or all-NA\n",
       "entries is deprecated. In a future version, this will no longer exclude empty or all-NA columns when determining \n",
       "the result dtypes. To retain the old behavior, exclude the relevant entries before the concat operation.\n",
       "  results = pd.concat([results, normalized_data])\n"
      ]
     },
     "metadata": {},
     "output_type": "display_data"
    },
    {
     "data": {
      "text/html": [
       "<pre style=\"white-space:pre;overflow-x:auto;line-height:normal;font-family:Menlo,'DejaVu Sans Mono',consolas,'Courier New',monospace\">/tmp/ipykernel_120664/3199749346.py:26: FutureWarning: The behavior of DataFrame concatenation with empty or all-NA\n",
       "entries is deprecated. In a future version, this will no longer exclude empty or all-NA columns when determining \n",
       "the result dtypes. To retain the old behavior, exclude the relevant entries before the concat operation.\n",
       "  results = pd.concat([results, normalized_data])\n",
       "</pre>\n"
      ],
      "text/plain": [
       "/tmp/ipykernel_120664/3199749346.py:26: FutureWarning: The behavior of DataFrame concatenation with empty or all-NA\n",
       "entries is deprecated. In a future version, this will no longer exclude empty or all-NA columns when determining \n",
       "the result dtypes. To retain the old behavior, exclude the relevant entries before the concat operation.\n",
       "  results = pd.concat([results, normalized_data])\n"
      ]
     },
     "metadata": {},
     "output_type": "display_data"
    },
    {
     "data": {
      "text/html": [
       "<pre style=\"white-space:pre;overflow-x:auto;line-height:normal;font-family:Menlo,'DejaVu Sans Mono',consolas,'Courier New',monospace\">/tmp/ipykernel_120664/3199749346.py:26: FutureWarning: The behavior of DataFrame concatenation with empty or all-NA\n",
       "entries is deprecated. In a future version, this will no longer exclude empty or all-NA columns when determining \n",
       "the result dtypes. To retain the old behavior, exclude the relevant entries before the concat operation.\n",
       "  results = pd.concat([results, normalized_data])\n",
       "</pre>\n"
      ],
      "text/plain": [
       "/tmp/ipykernel_120664/3199749346.py:26: FutureWarning: The behavior of DataFrame concatenation with empty or all-NA\n",
       "entries is deprecated. In a future version, this will no longer exclude empty or all-NA columns when determining \n",
       "the result dtypes. To retain the old behavior, exclude the relevant entries before the concat operation.\n",
       "  results = pd.concat([results, normalized_data])\n"
      ]
     },
     "metadata": {},
     "output_type": "display_data"
    },
    {
     "data": {
      "text/html": [
       "<pre style=\"white-space:pre;overflow-x:auto;line-height:normal;font-family:Menlo,'DejaVu Sans Mono',consolas,'Courier New',monospace\">/tmp/ipykernel_120664/3199749346.py:26: FutureWarning: The behavior of DataFrame concatenation with empty or all-NA\n",
       "entries is deprecated. In a future version, this will no longer exclude empty or all-NA columns when determining \n",
       "the result dtypes. To retain the old behavior, exclude the relevant entries before the concat operation.\n",
       "  results = pd.concat([results, normalized_data])\n",
       "</pre>\n"
      ],
      "text/plain": [
       "/tmp/ipykernel_120664/3199749346.py:26: FutureWarning: The behavior of DataFrame concatenation with empty or all-NA\n",
       "entries is deprecated. In a future version, this will no longer exclude empty or all-NA columns when determining \n",
       "the result dtypes. To retain the old behavior, exclude the relevant entries before the concat operation.\n",
       "  results = pd.concat([results, normalized_data])\n"
      ]
     },
     "metadata": {},
     "output_type": "display_data"
    },
    {
     "data": {
      "text/html": [
       "<pre style=\"white-space:pre;overflow-x:auto;line-height:normal;font-family:Menlo,'DejaVu Sans Mono',consolas,'Courier New',monospace\">/tmp/ipykernel_120664/3199749346.py:26: FutureWarning: The behavior of DataFrame concatenation with empty or all-NA\n",
       "entries is deprecated. In a future version, this will no longer exclude empty or all-NA columns when determining \n",
       "the result dtypes. To retain the old behavior, exclude the relevant entries before the concat operation.\n",
       "  results = pd.concat([results, normalized_data])\n",
       "</pre>\n"
      ],
      "text/plain": [
       "/tmp/ipykernel_120664/3199749346.py:26: FutureWarning: The behavior of DataFrame concatenation with empty or all-NA\n",
       "entries is deprecated. In a future version, this will no longer exclude empty or all-NA columns when determining \n",
       "the result dtypes. To retain the old behavior, exclude the relevant entries before the concat operation.\n",
       "  results = pd.concat([results, normalized_data])\n"
      ]
     },
     "metadata": {},
     "output_type": "display_data"
    },
    {
     "data": {
      "text/html": [
       "<pre style=\"white-space:pre;overflow-x:auto;line-height:normal;font-family:Menlo,'DejaVu Sans Mono',consolas,'Courier New',monospace\">/tmp/ipykernel_120664/3199749346.py:26: FutureWarning: The behavior of DataFrame concatenation with empty or all-NA\n",
       "entries is deprecated. In a future version, this will no longer exclude empty or all-NA columns when determining \n",
       "the result dtypes. To retain the old behavior, exclude the relevant entries before the concat operation.\n",
       "  results = pd.concat([results, normalized_data])\n",
       "</pre>\n"
      ],
      "text/plain": [
       "/tmp/ipykernel_120664/3199749346.py:26: FutureWarning: The behavior of DataFrame concatenation with empty or all-NA\n",
       "entries is deprecated. In a future version, this will no longer exclude empty or all-NA columns when determining \n",
       "the result dtypes. To retain the old behavior, exclude the relevant entries before the concat operation.\n",
       "  results = pd.concat([results, normalized_data])\n"
      ]
     },
     "metadata": {},
     "output_type": "display_data"
    },
    {
     "data": {
      "text/html": [
       "<pre style=\"white-space:pre;overflow-x:auto;line-height:normal;font-family:Menlo,'DejaVu Sans Mono',consolas,'Courier New',monospace\">/tmp/ipykernel_120664/3199749346.py:26: FutureWarning: The behavior of DataFrame concatenation with empty or all-NA\n",
       "entries is deprecated. In a future version, this will no longer exclude empty or all-NA columns when determining \n",
       "the result dtypes. To retain the old behavior, exclude the relevant entries before the concat operation.\n",
       "  results = pd.concat([results, normalized_data])\n",
       "</pre>\n"
      ],
      "text/plain": [
       "/tmp/ipykernel_120664/3199749346.py:26: FutureWarning: The behavior of DataFrame concatenation with empty or all-NA\n",
       "entries is deprecated. In a future version, this will no longer exclude empty or all-NA columns when determining \n",
       "the result dtypes. To retain the old behavior, exclude the relevant entries before the concat operation.\n",
       "  results = pd.concat([results, normalized_data])\n"
      ]
     },
     "metadata": {},
     "output_type": "display_data"
    },
    {
     "data": {
      "text/html": [
       "<pre style=\"white-space:pre;overflow-x:auto;line-height:normal;font-family:Menlo,'DejaVu Sans Mono',consolas,'Courier New',monospace\">/tmp/ipykernel_120664/3199749346.py:26: FutureWarning: The behavior of DataFrame concatenation with empty or all-NA\n",
       "entries is deprecated. In a future version, this will no longer exclude empty or all-NA columns when determining \n",
       "the result dtypes. To retain the old behavior, exclude the relevant entries before the concat operation.\n",
       "  results = pd.concat([results, normalized_data])\n",
       "</pre>\n"
      ],
      "text/plain": [
       "/tmp/ipykernel_120664/3199749346.py:26: FutureWarning: The behavior of DataFrame concatenation with empty or all-NA\n",
       "entries is deprecated. In a future version, this will no longer exclude empty or all-NA columns when determining \n",
       "the result dtypes. To retain the old behavior, exclude the relevant entries before the concat operation.\n",
       "  results = pd.concat([results, normalized_data])\n"
      ]
     },
     "metadata": {},
     "output_type": "display_data"
    },
    {
     "data": {
      "text/html": [
       "<pre style=\"white-space:pre;overflow-x:auto;line-height:normal;font-family:Menlo,'DejaVu Sans Mono',consolas,'Courier New',monospace\">/tmp/ipykernel_120664/3199749346.py:26: FutureWarning: The behavior of DataFrame concatenation with empty or all-NA\n",
       "entries is deprecated. In a future version, this will no longer exclude empty or all-NA columns when determining \n",
       "the result dtypes. To retain the old behavior, exclude the relevant entries before the concat operation.\n",
       "  results = pd.concat([results, normalized_data])\n",
       "</pre>\n"
      ],
      "text/plain": [
       "/tmp/ipykernel_120664/3199749346.py:26: FutureWarning: The behavior of DataFrame concatenation with empty or all-NA\n",
       "entries is deprecated. In a future version, this will no longer exclude empty or all-NA columns when determining \n",
       "the result dtypes. To retain the old behavior, exclude the relevant entries before the concat operation.\n",
       "  results = pd.concat([results, normalized_data])\n"
      ]
     },
     "metadata": {},
     "output_type": "display_data"
    },
    {
     "data": {
      "text/html": [
       "<pre style=\"white-space:pre;overflow-x:auto;line-height:normal;font-family:Menlo,'DejaVu Sans Mono',consolas,'Courier New',monospace\">/tmp/ipykernel_120664/3199749346.py:26: FutureWarning: The behavior of DataFrame concatenation with empty or all-NA\n",
       "entries is deprecated. In a future version, this will no longer exclude empty or all-NA columns when determining \n",
       "the result dtypes. To retain the old behavior, exclude the relevant entries before the concat operation.\n",
       "  results = pd.concat([results, normalized_data])\n",
       "</pre>\n"
      ],
      "text/plain": [
       "/tmp/ipykernel_120664/3199749346.py:26: FutureWarning: The behavior of DataFrame concatenation with empty or all-NA\n",
       "entries is deprecated. In a future version, this will no longer exclude empty or all-NA columns when determining \n",
       "the result dtypes. To retain the old behavior, exclude the relevant entries before the concat operation.\n",
       "  results = pd.concat([results, normalized_data])\n"
      ]
     },
     "metadata": {},
     "output_type": "display_data"
    },
    {
     "data": {
      "text/html": [
       "<pre style=\"white-space:pre;overflow-x:auto;line-height:normal;font-family:Menlo,'DejaVu Sans Mono',consolas,'Courier New',monospace\">/tmp/ipykernel_120664/3199749346.py:26: FutureWarning: The behavior of DataFrame concatenation with empty or all-NA\n",
       "entries is deprecated. In a future version, this will no longer exclude empty or all-NA columns when determining \n",
       "the result dtypes. To retain the old behavior, exclude the relevant entries before the concat operation.\n",
       "  results = pd.concat([results, normalized_data])\n",
       "</pre>\n"
      ],
      "text/plain": [
       "/tmp/ipykernel_120664/3199749346.py:26: FutureWarning: The behavior of DataFrame concatenation with empty or all-NA\n",
       "entries is deprecated. In a future version, this will no longer exclude empty or all-NA columns when determining \n",
       "the result dtypes. To retain the old behavior, exclude the relevant entries before the concat operation.\n",
       "  results = pd.concat([results, normalized_data])\n"
      ]
     },
     "metadata": {},
     "output_type": "display_data"
    },
    {
     "data": {
      "text/html": [
       "<pre style=\"white-space:pre;overflow-x:auto;line-height:normal;font-family:Menlo,'DejaVu Sans Mono',consolas,'Courier New',monospace\">/tmp/ipykernel_120664/3199749346.py:26: FutureWarning: The behavior of DataFrame concatenation with empty or all-NA\n",
       "entries is deprecated. In a future version, this will no longer exclude empty or all-NA columns when determining \n",
       "the result dtypes. To retain the old behavior, exclude the relevant entries before the concat operation.\n",
       "  results = pd.concat([results, normalized_data])\n",
       "</pre>\n"
      ],
      "text/plain": [
       "/tmp/ipykernel_120664/3199749346.py:26: FutureWarning: The behavior of DataFrame concatenation with empty or all-NA\n",
       "entries is deprecated. In a future version, this will no longer exclude empty or all-NA columns when determining \n",
       "the result dtypes. To retain the old behavior, exclude the relevant entries before the concat operation.\n",
       "  results = pd.concat([results, normalized_data])\n"
      ]
     },
     "metadata": {},
     "output_type": "display_data"
    },
    {
     "data": {
      "text/html": [
       "<pre style=\"white-space:pre;overflow-x:auto;line-height:normal;font-family:Menlo,'DejaVu Sans Mono',consolas,'Courier New',monospace\">/tmp/ipykernel_120664/3199749346.py:26: FutureWarning: The behavior of DataFrame concatenation with empty or all-NA\n",
       "entries is deprecated. In a future version, this will no longer exclude empty or all-NA columns when determining \n",
       "the result dtypes. To retain the old behavior, exclude the relevant entries before the concat operation.\n",
       "  results = pd.concat([results, normalized_data])\n",
       "</pre>\n"
      ],
      "text/plain": [
       "/tmp/ipykernel_120664/3199749346.py:26: FutureWarning: The behavior of DataFrame concatenation with empty or all-NA\n",
       "entries is deprecated. In a future version, this will no longer exclude empty or all-NA columns when determining \n",
       "the result dtypes. To retain the old behavior, exclude the relevant entries before the concat operation.\n",
       "  results = pd.concat([results, normalized_data])\n"
      ]
     },
     "metadata": {},
     "output_type": "display_data"
    },
    {
     "data": {
      "text/html": [
       "<pre style=\"white-space:pre;overflow-x:auto;line-height:normal;font-family:Menlo,'DejaVu Sans Mono',consolas,'Courier New',monospace\">/tmp/ipykernel_120664/3199749346.py:26: FutureWarning: The behavior of DataFrame concatenation with empty or all-NA\n",
       "entries is deprecated. In a future version, this will no longer exclude empty or all-NA columns when determining \n",
       "the result dtypes. To retain the old behavior, exclude the relevant entries before the concat operation.\n",
       "  results = pd.concat([results, normalized_data])\n",
       "</pre>\n"
      ],
      "text/plain": [
       "/tmp/ipykernel_120664/3199749346.py:26: FutureWarning: The behavior of DataFrame concatenation with empty or all-NA\n",
       "entries is deprecated. In a future version, this will no longer exclude empty or all-NA columns when determining \n",
       "the result dtypes. To retain the old behavior, exclude the relevant entries before the concat operation.\n",
       "  results = pd.concat([results, normalized_data])\n"
      ]
     },
     "metadata": {},
     "output_type": "display_data"
    },
    {
     "data": {
      "text/html": [
       "<pre style=\"white-space:pre;overflow-x:auto;line-height:normal;font-family:Menlo,'DejaVu Sans Mono',consolas,'Courier New',monospace\">/tmp/ipykernel_120664/3199749346.py:26: FutureWarning: The behavior of DataFrame concatenation with empty or all-NA\n",
       "entries is deprecated. In a future version, this will no longer exclude empty or all-NA columns when determining \n",
       "the result dtypes. To retain the old behavior, exclude the relevant entries before the concat operation.\n",
       "  results = pd.concat([results, normalized_data])\n",
       "</pre>\n"
      ],
      "text/plain": [
       "/tmp/ipykernel_120664/3199749346.py:26: FutureWarning: The behavior of DataFrame concatenation with empty or all-NA\n",
       "entries is deprecated. In a future version, this will no longer exclude empty or all-NA columns when determining \n",
       "the result dtypes. To retain the old behavior, exclude the relevant entries before the concat operation.\n",
       "  results = pd.concat([results, normalized_data])\n"
      ]
     },
     "metadata": {},
     "output_type": "display_data"
    },
    {
     "data": {
      "text/html": [
       "<pre style=\"white-space:pre;overflow-x:auto;line-height:normal;font-family:Menlo,'DejaVu Sans Mono',consolas,'Courier New',monospace\">/tmp/ipykernel_120664/3199749346.py:26: FutureWarning: The behavior of DataFrame concatenation with empty or all-NA\n",
       "entries is deprecated. In a future version, this will no longer exclude empty or all-NA columns when determining \n",
       "the result dtypes. To retain the old behavior, exclude the relevant entries before the concat operation.\n",
       "  results = pd.concat([results, normalized_data])\n",
       "</pre>\n"
      ],
      "text/plain": [
       "/tmp/ipykernel_120664/3199749346.py:26: FutureWarning: The behavior of DataFrame concatenation with empty or all-NA\n",
       "entries is deprecated. In a future version, this will no longer exclude empty or all-NA columns when determining \n",
       "the result dtypes. To retain the old behavior, exclude the relevant entries before the concat operation.\n",
       "  results = pd.concat([results, normalized_data])\n"
      ]
     },
     "metadata": {},
     "output_type": "display_data"
    },
    {
     "data": {
      "text/html": [
       "<pre style=\"white-space:pre;overflow-x:auto;line-height:normal;font-family:Menlo,'DejaVu Sans Mono',consolas,'Courier New',monospace\">/tmp/ipykernel_120664/3199749346.py:26: FutureWarning: The behavior of DataFrame concatenation with empty or all-NA\n",
       "entries is deprecated. In a future version, this will no longer exclude empty or all-NA columns when determining \n",
       "the result dtypes. To retain the old behavior, exclude the relevant entries before the concat operation.\n",
       "  results = pd.concat([results, normalized_data])\n",
       "</pre>\n"
      ],
      "text/plain": [
       "/tmp/ipykernel_120664/3199749346.py:26: FutureWarning: The behavior of DataFrame concatenation with empty or all-NA\n",
       "entries is deprecated. In a future version, this will no longer exclude empty or all-NA columns when determining \n",
       "the result dtypes. To retain the old behavior, exclude the relevant entries before the concat operation.\n",
       "  results = pd.concat([results, normalized_data])\n"
      ]
     },
     "metadata": {},
     "output_type": "display_data"
    },
    {
     "data": {
      "text/html": [
       "<pre style=\"white-space:pre;overflow-x:auto;line-height:normal;font-family:Menlo,'DejaVu Sans Mono',consolas,'Courier New',monospace\">/tmp/ipykernel_120664/3199749346.py:26: FutureWarning: The behavior of DataFrame concatenation with empty or all-NA\n",
       "entries is deprecated. In a future version, this will no longer exclude empty or all-NA columns when determining \n",
       "the result dtypes. To retain the old behavior, exclude the relevant entries before the concat operation.\n",
       "  results = pd.concat([results, normalized_data])\n",
       "</pre>\n"
      ],
      "text/plain": [
       "/tmp/ipykernel_120664/3199749346.py:26: FutureWarning: The behavior of DataFrame concatenation with empty or all-NA\n",
       "entries is deprecated. In a future version, this will no longer exclude empty or all-NA columns when determining \n",
       "the result dtypes. To retain the old behavior, exclude the relevant entries before the concat operation.\n",
       "  results = pd.concat([results, normalized_data])\n"
      ]
     },
     "metadata": {},
     "output_type": "display_data"
    },
    {
     "data": {
      "text/html": [
       "<pre style=\"white-space:pre;overflow-x:auto;line-height:normal;font-family:Menlo,'DejaVu Sans Mono',consolas,'Courier New',monospace\">/tmp/ipykernel_120664/3199749346.py:26: FutureWarning: The behavior of DataFrame concatenation with empty or all-NA\n",
       "entries is deprecated. In a future version, this will no longer exclude empty or all-NA columns when determining \n",
       "the result dtypes. To retain the old behavior, exclude the relevant entries before the concat operation.\n",
       "  results = pd.concat([results, normalized_data])\n",
       "</pre>\n"
      ],
      "text/plain": [
       "/tmp/ipykernel_120664/3199749346.py:26: FutureWarning: The behavior of DataFrame concatenation with empty or all-NA\n",
       "entries is deprecated. In a future version, this will no longer exclude empty or all-NA columns when determining \n",
       "the result dtypes. To retain the old behavior, exclude the relevant entries before the concat operation.\n",
       "  results = pd.concat([results, normalized_data])\n"
      ]
     },
     "metadata": {},
     "output_type": "display_data"
    },
    {
     "data": {
      "text/html": [
       "<pre style=\"white-space:pre;overflow-x:auto;line-height:normal;font-family:Menlo,'DejaVu Sans Mono',consolas,'Courier New',monospace\">/tmp/ipykernel_120664/3199749346.py:26: FutureWarning: The behavior of DataFrame concatenation with empty or all-NA\n",
       "entries is deprecated. In a future version, this will no longer exclude empty or all-NA columns when determining \n",
       "the result dtypes. To retain the old behavior, exclude the relevant entries before the concat operation.\n",
       "  results = pd.concat([results, normalized_data])\n",
       "</pre>\n"
      ],
      "text/plain": [
       "/tmp/ipykernel_120664/3199749346.py:26: FutureWarning: The behavior of DataFrame concatenation with empty or all-NA\n",
       "entries is deprecated. In a future version, this will no longer exclude empty or all-NA columns when determining \n",
       "the result dtypes. To retain the old behavior, exclude the relevant entries before the concat operation.\n",
       "  results = pd.concat([results, normalized_data])\n"
      ]
     },
     "metadata": {},
     "output_type": "display_data"
    },
    {
     "data": {
      "text/html": [
       "<pre style=\"white-space:pre;overflow-x:auto;line-height:normal;font-family:Menlo,'DejaVu Sans Mono',consolas,'Courier New',monospace\">/tmp/ipykernel_120664/3199749346.py:26: FutureWarning: The behavior of DataFrame concatenation with empty or all-NA\n",
       "entries is deprecated. In a future version, this will no longer exclude empty or all-NA columns when determining \n",
       "the result dtypes. To retain the old behavior, exclude the relevant entries before the concat operation.\n",
       "  results = pd.concat([results, normalized_data])\n",
       "</pre>\n"
      ],
      "text/plain": [
       "/tmp/ipykernel_120664/3199749346.py:26: FutureWarning: The behavior of DataFrame concatenation with empty or all-NA\n",
       "entries is deprecated. In a future version, this will no longer exclude empty or all-NA columns when determining \n",
       "the result dtypes. To retain the old behavior, exclude the relevant entries before the concat operation.\n",
       "  results = pd.concat([results, normalized_data])\n"
      ]
     },
     "metadata": {},
     "output_type": "display_data"
    },
    {
     "data": {
      "text/html": [
       "<pre style=\"white-space:pre;overflow-x:auto;line-height:normal;font-family:Menlo,'DejaVu Sans Mono',consolas,'Courier New',monospace\">/tmp/ipykernel_120664/3199749346.py:26: FutureWarning: The behavior of DataFrame concatenation with empty or all-NA\n",
       "entries is deprecated. In a future version, this will no longer exclude empty or all-NA columns when determining \n",
       "the result dtypes. To retain the old behavior, exclude the relevant entries before the concat operation.\n",
       "  results = pd.concat([results, normalized_data])\n",
       "</pre>\n"
      ],
      "text/plain": [
       "/tmp/ipykernel_120664/3199749346.py:26: FutureWarning: The behavior of DataFrame concatenation with empty or all-NA\n",
       "entries is deprecated. In a future version, this will no longer exclude empty or all-NA columns when determining \n",
       "the result dtypes. To retain the old behavior, exclude the relevant entries before the concat operation.\n",
       "  results = pd.concat([results, normalized_data])\n"
      ]
     },
     "metadata": {},
     "output_type": "display_data"
    },
    {
     "data": {
      "text/html": [
       "<pre style=\"white-space:pre;overflow-x:auto;line-height:normal;font-family:Menlo,'DejaVu Sans Mono',consolas,'Courier New',monospace\">/tmp/ipykernel_120664/3199749346.py:26: FutureWarning: The behavior of DataFrame concatenation with empty or all-NA\n",
       "entries is deprecated. In a future version, this will no longer exclude empty or all-NA columns when determining \n",
       "the result dtypes. To retain the old behavior, exclude the relevant entries before the concat operation.\n",
       "  results = pd.concat([results, normalized_data])\n",
       "</pre>\n"
      ],
      "text/plain": [
       "/tmp/ipykernel_120664/3199749346.py:26: FutureWarning: The behavior of DataFrame concatenation with empty or all-NA\n",
       "entries is deprecated. In a future version, this will no longer exclude empty or all-NA columns when determining \n",
       "the result dtypes. To retain the old behavior, exclude the relevant entries before the concat operation.\n",
       "  results = pd.concat([results, normalized_data])\n"
      ]
     },
     "metadata": {},
     "output_type": "display_data"
    },
    {
     "data": {
      "text/html": [
       "<pre style=\"white-space:pre;overflow-x:auto;line-height:normal;font-family:Menlo,'DejaVu Sans Mono',consolas,'Courier New',monospace\">/tmp/ipykernel_120664/3199749346.py:26: FutureWarning: The behavior of DataFrame concatenation with empty or all-NA\n",
       "entries is deprecated. In a future version, this will no longer exclude empty or all-NA columns when determining \n",
       "the result dtypes. To retain the old behavior, exclude the relevant entries before the concat operation.\n",
       "  results = pd.concat([results, normalized_data])\n",
       "</pre>\n"
      ],
      "text/plain": [
       "/tmp/ipykernel_120664/3199749346.py:26: FutureWarning: The behavior of DataFrame concatenation with empty or all-NA\n",
       "entries is deprecated. In a future version, this will no longer exclude empty or all-NA columns when determining \n",
       "the result dtypes. To retain the old behavior, exclude the relevant entries before the concat operation.\n",
       "  results = pd.concat([results, normalized_data])\n"
      ]
     },
     "metadata": {},
     "output_type": "display_data"
    },
    {
     "data": {
      "text/html": [
       "<pre style=\"white-space:pre;overflow-x:auto;line-height:normal;font-family:Menlo,'DejaVu Sans Mono',consolas,'Courier New',monospace\">/tmp/ipykernel_120664/3199749346.py:26: FutureWarning: The behavior of DataFrame concatenation with empty or all-NA\n",
       "entries is deprecated. In a future version, this will no longer exclude empty or all-NA columns when determining \n",
       "the result dtypes. To retain the old behavior, exclude the relevant entries before the concat operation.\n",
       "  results = pd.concat([results, normalized_data])\n",
       "</pre>\n"
      ],
      "text/plain": [
       "/tmp/ipykernel_120664/3199749346.py:26: FutureWarning: The behavior of DataFrame concatenation with empty or all-NA\n",
       "entries is deprecated. In a future version, this will no longer exclude empty or all-NA columns when determining \n",
       "the result dtypes. To retain the old behavior, exclude the relevant entries before the concat operation.\n",
       "  results = pd.concat([results, normalized_data])\n"
      ]
     },
     "metadata": {},
     "output_type": "display_data"
    },
    {
     "data": {
      "text/html": [
       "<pre style=\"white-space:pre;overflow-x:auto;line-height:normal;font-family:Menlo,'DejaVu Sans Mono',consolas,'Courier New',monospace\">/tmp/ipykernel_120664/3199749346.py:26: FutureWarning: The behavior of DataFrame concatenation with empty or all-NA\n",
       "entries is deprecated. In a future version, this will no longer exclude empty or all-NA columns when determining \n",
       "the result dtypes. To retain the old behavior, exclude the relevant entries before the concat operation.\n",
       "  results = pd.concat([results, normalized_data])\n",
       "</pre>\n"
      ],
      "text/plain": [
       "/tmp/ipykernel_120664/3199749346.py:26: FutureWarning: The behavior of DataFrame concatenation with empty or all-NA\n",
       "entries is deprecated. In a future version, this will no longer exclude empty or all-NA columns when determining \n",
       "the result dtypes. To retain the old behavior, exclude the relevant entries before the concat operation.\n",
       "  results = pd.concat([results, normalized_data])\n"
      ]
     },
     "metadata": {},
     "output_type": "display_data"
    },
    {
     "data": {
      "text/html": [
       "<pre style=\"white-space:pre;overflow-x:auto;line-height:normal;font-family:Menlo,'DejaVu Sans Mono',consolas,'Courier New',monospace\">/tmp/ipykernel_120664/3199749346.py:26: FutureWarning: The behavior of DataFrame concatenation with empty or all-NA\n",
       "entries is deprecated. In a future version, this will no longer exclude empty or all-NA columns when determining \n",
       "the result dtypes. To retain the old behavior, exclude the relevant entries before the concat operation.\n",
       "  results = pd.concat([results, normalized_data])\n",
       "</pre>\n"
      ],
      "text/plain": [
       "/tmp/ipykernel_120664/3199749346.py:26: FutureWarning: The behavior of DataFrame concatenation with empty or all-NA\n",
       "entries is deprecated. In a future version, this will no longer exclude empty or all-NA columns when determining \n",
       "the result dtypes. To retain the old behavior, exclude the relevant entries before the concat operation.\n",
       "  results = pd.concat([results, normalized_data])\n"
      ]
     },
     "metadata": {},
     "output_type": "display_data"
    },
    {
     "data": {
      "text/html": [
       "<pre style=\"white-space:pre;overflow-x:auto;line-height:normal;font-family:Menlo,'DejaVu Sans Mono',consolas,'Courier New',monospace\">/tmp/ipykernel_120664/3199749346.py:26: FutureWarning: The behavior of DataFrame concatenation with empty or all-NA\n",
       "entries is deprecated. In a future version, this will no longer exclude empty or all-NA columns when determining \n",
       "the result dtypes. To retain the old behavior, exclude the relevant entries before the concat operation.\n",
       "  results = pd.concat([results, normalized_data])\n",
       "</pre>\n"
      ],
      "text/plain": [
       "/tmp/ipykernel_120664/3199749346.py:26: FutureWarning: The behavior of DataFrame concatenation with empty or all-NA\n",
       "entries is deprecated. In a future version, this will no longer exclude empty or all-NA columns when determining \n",
       "the result dtypes. To retain the old behavior, exclude the relevant entries before the concat operation.\n",
       "  results = pd.concat([results, normalized_data])\n"
      ]
     },
     "metadata": {},
     "output_type": "display_data"
    },
    {
     "data": {
      "text/html": [
       "<pre style=\"white-space:pre;overflow-x:auto;line-height:normal;font-family:Menlo,'DejaVu Sans Mono',consolas,'Courier New',monospace\">/tmp/ipykernel_120664/3199749346.py:26: FutureWarning: The behavior of DataFrame concatenation with empty or all-NA\n",
       "entries is deprecated. In a future version, this will no longer exclude empty or all-NA columns when determining \n",
       "the result dtypes. To retain the old behavior, exclude the relevant entries before the concat operation.\n",
       "  results = pd.concat([results, normalized_data])\n",
       "</pre>\n"
      ],
      "text/plain": [
       "/tmp/ipykernel_120664/3199749346.py:26: FutureWarning: The behavior of DataFrame concatenation with empty or all-NA\n",
       "entries is deprecated. In a future version, this will no longer exclude empty or all-NA columns when determining \n",
       "the result dtypes. To retain the old behavior, exclude the relevant entries before the concat operation.\n",
       "  results = pd.concat([results, normalized_data])\n"
      ]
     },
     "metadata": {},
     "output_type": "display_data"
    },
    {
     "data": {
      "text/html": [
       "<pre style=\"white-space:pre;overflow-x:auto;line-height:normal;font-family:Menlo,'DejaVu Sans Mono',consolas,'Courier New',monospace\">/tmp/ipykernel_120664/3199749346.py:26: FutureWarning: The behavior of DataFrame concatenation with empty or all-NA\n",
       "entries is deprecated. In a future version, this will no longer exclude empty or all-NA columns when determining \n",
       "the result dtypes. To retain the old behavior, exclude the relevant entries before the concat operation.\n",
       "  results = pd.concat([results, normalized_data])\n",
       "</pre>\n"
      ],
      "text/plain": [
       "/tmp/ipykernel_120664/3199749346.py:26: FutureWarning: The behavior of DataFrame concatenation with empty or all-NA\n",
       "entries is deprecated. In a future version, this will no longer exclude empty or all-NA columns when determining \n",
       "the result dtypes. To retain the old behavior, exclude the relevant entries before the concat operation.\n",
       "  results = pd.concat([results, normalized_data])\n"
      ]
     },
     "metadata": {},
     "output_type": "display_data"
    },
    {
     "data": {
      "text/html": [
       "<pre style=\"white-space:pre;overflow-x:auto;line-height:normal;font-family:Menlo,'DejaVu Sans Mono',consolas,'Courier New',monospace\">/tmp/ipykernel_120664/3199749346.py:26: FutureWarning: The behavior of DataFrame concatenation with empty or all-NA\n",
       "entries is deprecated. In a future version, this will no longer exclude empty or all-NA columns when determining \n",
       "the result dtypes. To retain the old behavior, exclude the relevant entries before the concat operation.\n",
       "  results = pd.concat([results, normalized_data])\n",
       "</pre>\n"
      ],
      "text/plain": [
       "/tmp/ipykernel_120664/3199749346.py:26: FutureWarning: The behavior of DataFrame concatenation with empty or all-NA\n",
       "entries is deprecated. In a future version, this will no longer exclude empty or all-NA columns when determining \n",
       "the result dtypes. To retain the old behavior, exclude the relevant entries before the concat operation.\n",
       "  results = pd.concat([results, normalized_data])\n"
      ]
     },
     "metadata": {},
     "output_type": "display_data"
    },
    {
     "data": {
      "text/html": [
       "<pre style=\"white-space:pre;overflow-x:auto;line-height:normal;font-family:Menlo,'DejaVu Sans Mono',consolas,'Courier New',monospace\">/tmp/ipykernel_120664/3199749346.py:26: FutureWarning: The behavior of DataFrame concatenation with empty or all-NA\n",
       "entries is deprecated. In a future version, this will no longer exclude empty or all-NA columns when determining \n",
       "the result dtypes. To retain the old behavior, exclude the relevant entries before the concat operation.\n",
       "  results = pd.concat([results, normalized_data])\n",
       "</pre>\n"
      ],
      "text/plain": [
       "/tmp/ipykernel_120664/3199749346.py:26: FutureWarning: The behavior of DataFrame concatenation with empty or all-NA\n",
       "entries is deprecated. In a future version, this will no longer exclude empty or all-NA columns when determining \n",
       "the result dtypes. To retain the old behavior, exclude the relevant entries before the concat operation.\n",
       "  results = pd.concat([results, normalized_data])\n"
      ]
     },
     "metadata": {},
     "output_type": "display_data"
    },
    {
     "data": {
      "text/html": [
       "<pre style=\"white-space:pre;overflow-x:auto;line-height:normal;font-family:Menlo,'DejaVu Sans Mono',consolas,'Courier New',monospace\">/tmp/ipykernel_120664/3199749346.py:26: FutureWarning: The behavior of DataFrame concatenation with empty or all-NA\n",
       "entries is deprecated. In a future version, this will no longer exclude empty or all-NA columns when determining \n",
       "the result dtypes. To retain the old behavior, exclude the relevant entries before the concat operation.\n",
       "  results = pd.concat([results, normalized_data])\n",
       "</pre>\n"
      ],
      "text/plain": [
       "/tmp/ipykernel_120664/3199749346.py:26: FutureWarning: The behavior of DataFrame concatenation with empty or all-NA\n",
       "entries is deprecated. In a future version, this will no longer exclude empty or all-NA columns when determining \n",
       "the result dtypes. To retain the old behavior, exclude the relevant entries before the concat operation.\n",
       "  results = pd.concat([results, normalized_data])\n"
      ]
     },
     "metadata": {},
     "output_type": "display_data"
    },
    {
     "data": {
      "text/html": [
       "<pre style=\"white-space:pre;overflow-x:auto;line-height:normal;font-family:Menlo,'DejaVu Sans Mono',consolas,'Courier New',monospace\">/tmp/ipykernel_120664/3199749346.py:26: FutureWarning: The behavior of DataFrame concatenation with empty or all-NA\n",
       "entries is deprecated. In a future version, this will no longer exclude empty or all-NA columns when determining \n",
       "the result dtypes. To retain the old behavior, exclude the relevant entries before the concat operation.\n",
       "  results = pd.concat([results, normalized_data])\n",
       "</pre>\n"
      ],
      "text/plain": [
       "/tmp/ipykernel_120664/3199749346.py:26: FutureWarning: The behavior of DataFrame concatenation with empty or all-NA\n",
       "entries is deprecated. In a future version, this will no longer exclude empty or all-NA columns when determining \n",
       "the result dtypes. To retain the old behavior, exclude the relevant entries before the concat operation.\n",
       "  results = pd.concat([results, normalized_data])\n"
      ]
     },
     "metadata": {},
     "output_type": "display_data"
    },
    {
     "data": {
      "text/html": [
       "<pre style=\"white-space:pre;overflow-x:auto;line-height:normal;font-family:Menlo,'DejaVu Sans Mono',consolas,'Courier New',monospace\">/tmp/ipykernel_120664/3199749346.py:26: FutureWarning: The behavior of DataFrame concatenation with empty or all-NA\n",
       "entries is deprecated. In a future version, this will no longer exclude empty or all-NA columns when determining \n",
       "the result dtypes. To retain the old behavior, exclude the relevant entries before the concat operation.\n",
       "  results = pd.concat([results, normalized_data])\n",
       "</pre>\n"
      ],
      "text/plain": [
       "/tmp/ipykernel_120664/3199749346.py:26: FutureWarning: The behavior of DataFrame concatenation with empty or all-NA\n",
       "entries is deprecated. In a future version, this will no longer exclude empty or all-NA columns when determining \n",
       "the result dtypes. To retain the old behavior, exclude the relevant entries before the concat operation.\n",
       "  results = pd.concat([results, normalized_data])\n"
      ]
     },
     "metadata": {},
     "output_type": "display_data"
    },
    {
     "data": {
      "text/html": [
       "<pre style=\"white-space:pre;overflow-x:auto;line-height:normal;font-family:Menlo,'DejaVu Sans Mono',consolas,'Courier New',monospace\">/tmp/ipykernel_120664/3199749346.py:26: FutureWarning: The behavior of DataFrame concatenation with empty or all-NA\n",
       "entries is deprecated. In a future version, this will no longer exclude empty or all-NA columns when determining \n",
       "the result dtypes. To retain the old behavior, exclude the relevant entries before the concat operation.\n",
       "  results = pd.concat([results, normalized_data])\n",
       "</pre>\n"
      ],
      "text/plain": [
       "/tmp/ipykernel_120664/3199749346.py:26: FutureWarning: The behavior of DataFrame concatenation with empty or all-NA\n",
       "entries is deprecated. In a future version, this will no longer exclude empty or all-NA columns when determining \n",
       "the result dtypes. To retain the old behavior, exclude the relevant entries before the concat operation.\n",
       "  results = pd.concat([results, normalized_data])\n"
      ]
     },
     "metadata": {},
     "output_type": "display_data"
    },
    {
     "data": {
      "text/html": [
       "<pre style=\"white-space:pre;overflow-x:auto;line-height:normal;font-family:Menlo,'DejaVu Sans Mono',consolas,'Courier New',monospace\">/tmp/ipykernel_120664/3199749346.py:26: FutureWarning: The behavior of DataFrame concatenation with empty or all-NA\n",
       "entries is deprecated. In a future version, this will no longer exclude empty or all-NA columns when determining \n",
       "the result dtypes. To retain the old behavior, exclude the relevant entries before the concat operation.\n",
       "  results = pd.concat([results, normalized_data])\n",
       "</pre>\n"
      ],
      "text/plain": [
       "/tmp/ipykernel_120664/3199749346.py:26: FutureWarning: The behavior of DataFrame concatenation with empty or all-NA\n",
       "entries is deprecated. In a future version, this will no longer exclude empty or all-NA columns when determining \n",
       "the result dtypes. To retain the old behavior, exclude the relevant entries before the concat operation.\n",
       "  results = pd.concat([results, normalized_data])\n"
      ]
     },
     "metadata": {},
     "output_type": "display_data"
    },
    {
     "data": {
      "text/html": [
       "<pre style=\"white-space:pre;overflow-x:auto;line-height:normal;font-family:Menlo,'DejaVu Sans Mono',consolas,'Courier New',monospace\">/tmp/ipykernel_120664/3199749346.py:26: FutureWarning: The behavior of DataFrame concatenation with empty or all-NA\n",
       "entries is deprecated. In a future version, this will no longer exclude empty or all-NA columns when determining \n",
       "the result dtypes. To retain the old behavior, exclude the relevant entries before the concat operation.\n",
       "  results = pd.concat([results, normalized_data])\n",
       "</pre>\n"
      ],
      "text/plain": [
       "/tmp/ipykernel_120664/3199749346.py:26: FutureWarning: The behavior of DataFrame concatenation with empty or all-NA\n",
       "entries is deprecated. In a future version, this will no longer exclude empty or all-NA columns when determining \n",
       "the result dtypes. To retain the old behavior, exclude the relevant entries before the concat operation.\n",
       "  results = pd.concat([results, normalized_data])\n"
      ]
     },
     "metadata": {},
     "output_type": "display_data"
    },
    {
     "data": {
      "text/html": [
       "<pre style=\"white-space:pre;overflow-x:auto;line-height:normal;font-family:Menlo,'DejaVu Sans Mono',consolas,'Courier New',monospace\">/tmp/ipykernel_120664/3199749346.py:26: FutureWarning: The behavior of DataFrame concatenation with empty or all-NA\n",
       "entries is deprecated. In a future version, this will no longer exclude empty or all-NA columns when determining \n",
       "the result dtypes. To retain the old behavior, exclude the relevant entries before the concat operation.\n",
       "  results = pd.concat([results, normalized_data])\n",
       "</pre>\n"
      ],
      "text/plain": [
       "/tmp/ipykernel_120664/3199749346.py:26: FutureWarning: The behavior of DataFrame concatenation with empty or all-NA\n",
       "entries is deprecated. In a future version, this will no longer exclude empty or all-NA columns when determining \n",
       "the result dtypes. To retain the old behavior, exclude the relevant entries before the concat operation.\n",
       "  results = pd.concat([results, normalized_data])\n"
      ]
     },
     "metadata": {},
     "output_type": "display_data"
    },
    {
     "data": {
      "text/html": [
       "<pre style=\"white-space:pre;overflow-x:auto;line-height:normal;font-family:Menlo,'DejaVu Sans Mono',consolas,'Courier New',monospace\">/tmp/ipykernel_120664/3199749346.py:26: FutureWarning: The behavior of DataFrame concatenation with empty or all-NA\n",
       "entries is deprecated. In a future version, this will no longer exclude empty or all-NA columns when determining \n",
       "the result dtypes. To retain the old behavior, exclude the relevant entries before the concat operation.\n",
       "  results = pd.concat([results, normalized_data])\n",
       "</pre>\n"
      ],
      "text/plain": [
       "/tmp/ipykernel_120664/3199749346.py:26: FutureWarning: The behavior of DataFrame concatenation with empty or all-NA\n",
       "entries is deprecated. In a future version, this will no longer exclude empty or all-NA columns when determining \n",
       "the result dtypes. To retain the old behavior, exclude the relevant entries before the concat operation.\n",
       "  results = pd.concat([results, normalized_data])\n"
      ]
     },
     "metadata": {},
     "output_type": "display_data"
    },
    {
     "data": {
      "text/html": [
       "<pre style=\"white-space:pre;overflow-x:auto;line-height:normal;font-family:Menlo,'DejaVu Sans Mono',consolas,'Courier New',monospace\">/tmp/ipykernel_120664/3199749346.py:26: FutureWarning: The behavior of DataFrame concatenation with empty or all-NA\n",
       "entries is deprecated. In a future version, this will no longer exclude empty or all-NA columns when determining \n",
       "the result dtypes. To retain the old behavior, exclude the relevant entries before the concat operation.\n",
       "  results = pd.concat([results, normalized_data])\n",
       "</pre>\n"
      ],
      "text/plain": [
       "/tmp/ipykernel_120664/3199749346.py:26: FutureWarning: The behavior of DataFrame concatenation with empty or all-NA\n",
       "entries is deprecated. In a future version, this will no longer exclude empty or all-NA columns when determining \n",
       "the result dtypes. To retain the old behavior, exclude the relevant entries before the concat operation.\n",
       "  results = pd.concat([results, normalized_data])\n"
      ]
     },
     "metadata": {},
     "output_type": "display_data"
    },
    {
     "data": {
      "text/html": [
       "<pre style=\"white-space:pre;overflow-x:auto;line-height:normal;font-family:Menlo,'DejaVu Sans Mono',consolas,'Courier New',monospace\">/tmp/ipykernel_120664/3199749346.py:26: FutureWarning: The behavior of DataFrame concatenation with empty or all-NA\n",
       "entries is deprecated. In a future version, this will no longer exclude empty or all-NA columns when determining \n",
       "the result dtypes. To retain the old behavior, exclude the relevant entries before the concat operation.\n",
       "  results = pd.concat([results, normalized_data])\n",
       "</pre>\n"
      ],
      "text/plain": [
       "/tmp/ipykernel_120664/3199749346.py:26: FutureWarning: The behavior of DataFrame concatenation with empty or all-NA\n",
       "entries is deprecated. In a future version, this will no longer exclude empty or all-NA columns when determining \n",
       "the result dtypes. To retain the old behavior, exclude the relevant entries before the concat operation.\n",
       "  results = pd.concat([results, normalized_data])\n"
      ]
     },
     "metadata": {},
     "output_type": "display_data"
    },
    {
     "data": {
      "text/html": [
       "<pre style=\"white-space:pre;overflow-x:auto;line-height:normal;font-family:Menlo,'DejaVu Sans Mono',consolas,'Courier New',monospace\">/tmp/ipykernel_120664/3199749346.py:26: FutureWarning: The behavior of DataFrame concatenation with empty or all-NA\n",
       "entries is deprecated. In a future version, this will no longer exclude empty or all-NA columns when determining \n",
       "the result dtypes. To retain the old behavior, exclude the relevant entries before the concat operation.\n",
       "  results = pd.concat([results, normalized_data])\n",
       "</pre>\n"
      ],
      "text/plain": [
       "/tmp/ipykernel_120664/3199749346.py:26: FutureWarning: The behavior of DataFrame concatenation with empty or all-NA\n",
       "entries is deprecated. In a future version, this will no longer exclude empty or all-NA columns when determining \n",
       "the result dtypes. To retain the old behavior, exclude the relevant entries before the concat operation.\n",
       "  results = pd.concat([results, normalized_data])\n"
      ]
     },
     "metadata": {},
     "output_type": "display_data"
    },
    {
     "data": {
      "text/html": [
       "<pre style=\"white-space:pre;overflow-x:auto;line-height:normal;font-family:Menlo,'DejaVu Sans Mono',consolas,'Courier New',monospace\">/tmp/ipykernel_120664/3199749346.py:26: FutureWarning: The behavior of DataFrame concatenation with empty or all-NA\n",
       "entries is deprecated. In a future version, this will no longer exclude empty or all-NA columns when determining \n",
       "the result dtypes. To retain the old behavior, exclude the relevant entries before the concat operation.\n",
       "  results = pd.concat([results, normalized_data])\n",
       "</pre>\n"
      ],
      "text/plain": [
       "/tmp/ipykernel_120664/3199749346.py:26: FutureWarning: The behavior of DataFrame concatenation with empty or all-NA\n",
       "entries is deprecated. In a future version, this will no longer exclude empty or all-NA columns when determining \n",
       "the result dtypes. To retain the old behavior, exclude the relevant entries before the concat operation.\n",
       "  results = pd.concat([results, normalized_data])\n"
      ]
     },
     "metadata": {},
     "output_type": "display_data"
    },
    {
     "data": {
      "text/html": [
       "<pre style=\"white-space:pre;overflow-x:auto;line-height:normal;font-family:Menlo,'DejaVu Sans Mono',consolas,'Courier New',monospace\">/tmp/ipykernel_120664/3199749346.py:26: FutureWarning: The behavior of DataFrame concatenation with empty or all-NA\n",
       "entries is deprecated. In a future version, this will no longer exclude empty or all-NA columns when determining \n",
       "the result dtypes. To retain the old behavior, exclude the relevant entries before the concat operation.\n",
       "  results = pd.concat([results, normalized_data])\n",
       "</pre>\n"
      ],
      "text/plain": [
       "/tmp/ipykernel_120664/3199749346.py:26: FutureWarning: The behavior of DataFrame concatenation with empty or all-NA\n",
       "entries is deprecated. In a future version, this will no longer exclude empty or all-NA columns when determining \n",
       "the result dtypes. To retain the old behavior, exclude the relevant entries before the concat operation.\n",
       "  results = pd.concat([results, normalized_data])\n"
      ]
     },
     "metadata": {},
     "output_type": "display_data"
    },
    {
     "data": {
      "text/html": [
       "<pre style=\"white-space:pre;overflow-x:auto;line-height:normal;font-family:Menlo,'DejaVu Sans Mono',consolas,'Courier New',monospace\">/tmp/ipykernel_120664/3199749346.py:26: FutureWarning: The behavior of DataFrame concatenation with empty or all-NA\n",
       "entries is deprecated. In a future version, this will no longer exclude empty or all-NA columns when determining \n",
       "the result dtypes. To retain the old behavior, exclude the relevant entries before the concat operation.\n",
       "  results = pd.concat([results, normalized_data])\n",
       "</pre>\n"
      ],
      "text/plain": [
       "/tmp/ipykernel_120664/3199749346.py:26: FutureWarning: The behavior of DataFrame concatenation with empty or all-NA\n",
       "entries is deprecated. In a future version, this will no longer exclude empty or all-NA columns when determining \n",
       "the result dtypes. To retain the old behavior, exclude the relevant entries before the concat operation.\n",
       "  results = pd.concat([results, normalized_data])\n"
      ]
     },
     "metadata": {},
     "output_type": "display_data"
    },
    {
     "data": {
      "text/html": [
       "<pre style=\"white-space:pre;overflow-x:auto;line-height:normal;font-family:Menlo,'DejaVu Sans Mono',consolas,'Courier New',monospace\">/tmp/ipykernel_120664/3199749346.py:26: FutureWarning: The behavior of DataFrame concatenation with empty or all-NA\n",
       "entries is deprecated. In a future version, this will no longer exclude empty or all-NA columns when determining \n",
       "the result dtypes. To retain the old behavior, exclude the relevant entries before the concat operation.\n",
       "  results = pd.concat([results, normalized_data])\n",
       "</pre>\n"
      ],
      "text/plain": [
       "/tmp/ipykernel_120664/3199749346.py:26: FutureWarning: The behavior of DataFrame concatenation with empty or all-NA\n",
       "entries is deprecated. In a future version, this will no longer exclude empty or all-NA columns when determining \n",
       "the result dtypes. To retain the old behavior, exclude the relevant entries before the concat operation.\n",
       "  results = pd.concat([results, normalized_data])\n"
      ]
     },
     "metadata": {},
     "output_type": "display_data"
    },
    {
     "data": {
      "text/html": [
       "<pre style=\"white-space:pre;overflow-x:auto;line-height:normal;font-family:Menlo,'DejaVu Sans Mono',consolas,'Courier New',monospace\">/tmp/ipykernel_120664/3199749346.py:26: FutureWarning: The behavior of DataFrame concatenation with empty or all-NA\n",
       "entries is deprecated. In a future version, this will no longer exclude empty or all-NA columns when determining \n",
       "the result dtypes. To retain the old behavior, exclude the relevant entries before the concat operation.\n",
       "  results = pd.concat([results, normalized_data])\n",
       "</pre>\n"
      ],
      "text/plain": [
       "/tmp/ipykernel_120664/3199749346.py:26: FutureWarning: The behavior of DataFrame concatenation with empty or all-NA\n",
       "entries is deprecated. In a future version, this will no longer exclude empty or all-NA columns when determining \n",
       "the result dtypes. To retain the old behavior, exclude the relevant entries before the concat operation.\n",
       "  results = pd.concat([results, normalized_data])\n"
      ]
     },
     "metadata": {},
     "output_type": "display_data"
    },
    {
     "data": {
      "text/html": [
       "<pre style=\"white-space:pre;overflow-x:auto;line-height:normal;font-family:Menlo,'DejaVu Sans Mono',consolas,'Courier New',monospace\">/tmp/ipykernel_120664/3199749346.py:26: FutureWarning: The behavior of DataFrame concatenation with empty or all-NA\n",
       "entries is deprecated. In a future version, this will no longer exclude empty or all-NA columns when determining \n",
       "the result dtypes. To retain the old behavior, exclude the relevant entries before the concat operation.\n",
       "  results = pd.concat([results, normalized_data])\n",
       "</pre>\n"
      ],
      "text/plain": [
       "/tmp/ipykernel_120664/3199749346.py:26: FutureWarning: The behavior of DataFrame concatenation with empty or all-NA\n",
       "entries is deprecated. In a future version, this will no longer exclude empty or all-NA columns when determining \n",
       "the result dtypes. To retain the old behavior, exclude the relevant entries before the concat operation.\n",
       "  results = pd.concat([results, normalized_data])\n"
      ]
     },
     "metadata": {},
     "output_type": "display_data"
    },
    {
     "data": {
      "text/html": [
       "<pre style=\"white-space:pre;overflow-x:auto;line-height:normal;font-family:Menlo,'DejaVu Sans Mono',consolas,'Courier New',monospace\">/tmp/ipykernel_120664/3199749346.py:26: FutureWarning: The behavior of DataFrame concatenation with empty or all-NA\n",
       "entries is deprecated. In a future version, this will no longer exclude empty or all-NA columns when determining \n",
       "the result dtypes. To retain the old behavior, exclude the relevant entries before the concat operation.\n",
       "  results = pd.concat([results, normalized_data])\n",
       "</pre>\n"
      ],
      "text/plain": [
       "/tmp/ipykernel_120664/3199749346.py:26: FutureWarning: The behavior of DataFrame concatenation with empty or all-NA\n",
       "entries is deprecated. In a future version, this will no longer exclude empty or all-NA columns when determining \n",
       "the result dtypes. To retain the old behavior, exclude the relevant entries before the concat operation.\n",
       "  results = pd.concat([results, normalized_data])\n"
      ]
     },
     "metadata": {},
     "output_type": "display_data"
    },
    {
     "data": {
      "text/html": [
       "<pre style=\"white-space:pre;overflow-x:auto;line-height:normal;font-family:Menlo,'DejaVu Sans Mono',consolas,'Courier New',monospace\">/tmp/ipykernel_120664/3199749346.py:26: FutureWarning: The behavior of DataFrame concatenation with empty or all-NA\n",
       "entries is deprecated. In a future version, this will no longer exclude empty or all-NA columns when determining \n",
       "the result dtypes. To retain the old behavior, exclude the relevant entries before the concat operation.\n",
       "  results = pd.concat([results, normalized_data])\n",
       "</pre>\n"
      ],
      "text/plain": [
       "/tmp/ipykernel_120664/3199749346.py:26: FutureWarning: The behavior of DataFrame concatenation with empty or all-NA\n",
       "entries is deprecated. In a future version, this will no longer exclude empty or all-NA columns when determining \n",
       "the result dtypes. To retain the old behavior, exclude the relevant entries before the concat operation.\n",
       "  results = pd.concat([results, normalized_data])\n"
      ]
     },
     "metadata": {},
     "output_type": "display_data"
    },
    {
     "data": {
      "text/html": [
       "<pre style=\"white-space:pre;overflow-x:auto;line-height:normal;font-family:Menlo,'DejaVu Sans Mono',consolas,'Courier New',monospace\">/tmp/ipykernel_120664/3199749346.py:26: FutureWarning: The behavior of DataFrame concatenation with empty or all-NA\n",
       "entries is deprecated. In a future version, this will no longer exclude empty or all-NA columns when determining \n",
       "the result dtypes. To retain the old behavior, exclude the relevant entries before the concat operation.\n",
       "  results = pd.concat([results, normalized_data])\n",
       "</pre>\n"
      ],
      "text/plain": [
       "/tmp/ipykernel_120664/3199749346.py:26: FutureWarning: The behavior of DataFrame concatenation with empty or all-NA\n",
       "entries is deprecated. In a future version, this will no longer exclude empty or all-NA columns when determining \n",
       "the result dtypes. To retain the old behavior, exclude the relevant entries before the concat operation.\n",
       "  results = pd.concat([results, normalized_data])\n"
      ]
     },
     "metadata": {},
     "output_type": "display_data"
    },
    {
     "data": {
      "text/html": [
       "<pre style=\"white-space:pre;overflow-x:auto;line-height:normal;font-family:Menlo,'DejaVu Sans Mono',consolas,'Courier New',monospace\">/tmp/ipykernel_120664/3199749346.py:26: FutureWarning: The behavior of DataFrame concatenation with empty or all-NA\n",
       "entries is deprecated. In a future version, this will no longer exclude empty or all-NA columns when determining \n",
       "the result dtypes. To retain the old behavior, exclude the relevant entries before the concat operation.\n",
       "  results = pd.concat([results, normalized_data])\n",
       "</pre>\n"
      ],
      "text/plain": [
       "/tmp/ipykernel_120664/3199749346.py:26: FutureWarning: The behavior of DataFrame concatenation with empty or all-NA\n",
       "entries is deprecated. In a future version, this will no longer exclude empty or all-NA columns when determining \n",
       "the result dtypes. To retain the old behavior, exclude the relevant entries before the concat operation.\n",
       "  results = pd.concat([results, normalized_data])\n"
      ]
     },
     "metadata": {},
     "output_type": "display_data"
    },
    {
     "data": {
      "text/html": [
       "<pre style=\"white-space:pre;overflow-x:auto;line-height:normal;font-family:Menlo,'DejaVu Sans Mono',consolas,'Courier New',monospace\">/tmp/ipykernel_120664/3199749346.py:26: FutureWarning: The behavior of DataFrame concatenation with empty or all-NA\n",
       "entries is deprecated. In a future version, this will no longer exclude empty or all-NA columns when determining \n",
       "the result dtypes. To retain the old behavior, exclude the relevant entries before the concat operation.\n",
       "  results = pd.concat([results, normalized_data])\n",
       "</pre>\n"
      ],
      "text/plain": [
       "/tmp/ipykernel_120664/3199749346.py:26: FutureWarning: The behavior of DataFrame concatenation with empty or all-NA\n",
       "entries is deprecated. In a future version, this will no longer exclude empty or all-NA columns when determining \n",
       "the result dtypes. To retain the old behavior, exclude the relevant entries before the concat operation.\n",
       "  results = pd.concat([results, normalized_data])\n"
      ]
     },
     "metadata": {},
     "output_type": "display_data"
    },
    {
     "data": {
      "text/html": [
       "<pre style=\"white-space:pre;overflow-x:auto;line-height:normal;font-family:Menlo,'DejaVu Sans Mono',consolas,'Courier New',monospace\">/tmp/ipykernel_120664/3199749346.py:26: FutureWarning: The behavior of DataFrame concatenation with empty or all-NA\n",
       "entries is deprecated. In a future version, this will no longer exclude empty or all-NA columns when determining \n",
       "the result dtypes. To retain the old behavior, exclude the relevant entries before the concat operation.\n",
       "  results = pd.concat([results, normalized_data])\n",
       "</pre>\n"
      ],
      "text/plain": [
       "/tmp/ipykernel_120664/3199749346.py:26: FutureWarning: The behavior of DataFrame concatenation with empty or all-NA\n",
       "entries is deprecated. In a future version, this will no longer exclude empty or all-NA columns when determining \n",
       "the result dtypes. To retain the old behavior, exclude the relevant entries before the concat operation.\n",
       "  results = pd.concat([results, normalized_data])\n"
      ]
     },
     "metadata": {},
     "output_type": "display_data"
    },
    {
     "data": {
      "text/html": [
       "<pre style=\"white-space:pre;overflow-x:auto;line-height:normal;font-family:Menlo,'DejaVu Sans Mono',consolas,'Courier New',monospace\">/tmp/ipykernel_120664/3199749346.py:26: FutureWarning: The behavior of DataFrame concatenation with empty or all-NA\n",
       "entries is deprecated. In a future version, this will no longer exclude empty or all-NA columns when determining \n",
       "the result dtypes. To retain the old behavior, exclude the relevant entries before the concat operation.\n",
       "  results = pd.concat([results, normalized_data])\n",
       "</pre>\n"
      ],
      "text/plain": [
       "/tmp/ipykernel_120664/3199749346.py:26: FutureWarning: The behavior of DataFrame concatenation with empty or all-NA\n",
       "entries is deprecated. In a future version, this will no longer exclude empty or all-NA columns when determining \n",
       "the result dtypes. To retain the old behavior, exclude the relevant entries before the concat operation.\n",
       "  results = pd.concat([results, normalized_data])\n"
      ]
     },
     "metadata": {},
     "output_type": "display_data"
    },
    {
     "data": {
      "text/html": [
       "<pre style=\"white-space:pre;overflow-x:auto;line-height:normal;font-family:Menlo,'DejaVu Sans Mono',consolas,'Courier New',monospace\">/tmp/ipykernel_120664/3199749346.py:26: FutureWarning: The behavior of DataFrame concatenation with empty or all-NA\n",
       "entries is deprecated. In a future version, this will no longer exclude empty or all-NA columns when determining \n",
       "the result dtypes. To retain the old behavior, exclude the relevant entries before the concat operation.\n",
       "  results = pd.concat([results, normalized_data])\n",
       "</pre>\n"
      ],
      "text/plain": [
       "/tmp/ipykernel_120664/3199749346.py:26: FutureWarning: The behavior of DataFrame concatenation with empty or all-NA\n",
       "entries is deprecated. In a future version, this will no longer exclude empty or all-NA columns when determining \n",
       "the result dtypes. To retain the old behavior, exclude the relevant entries before the concat operation.\n",
       "  results = pd.concat([results, normalized_data])\n"
      ]
     },
     "metadata": {},
     "output_type": "display_data"
    },
    {
     "data": {
      "text/html": [
       "<pre style=\"white-space:pre;overflow-x:auto;line-height:normal;font-family:Menlo,'DejaVu Sans Mono',consolas,'Courier New',monospace\">/tmp/ipykernel_120664/3199749346.py:26: FutureWarning: The behavior of DataFrame concatenation with empty or all-NA\n",
       "entries is deprecated. In a future version, this will no longer exclude empty or all-NA columns when determining \n",
       "the result dtypes. To retain the old behavior, exclude the relevant entries before the concat operation.\n",
       "  results = pd.concat([results, normalized_data])\n",
       "</pre>\n"
      ],
      "text/plain": [
       "/tmp/ipykernel_120664/3199749346.py:26: FutureWarning: The behavior of DataFrame concatenation with empty or all-NA\n",
       "entries is deprecated. In a future version, this will no longer exclude empty or all-NA columns when determining \n",
       "the result dtypes. To retain the old behavior, exclude the relevant entries before the concat operation.\n",
       "  results = pd.concat([results, normalized_data])\n"
      ]
     },
     "metadata": {},
     "output_type": "display_data"
    },
    {
     "data": {
      "text/html": [
       "<pre style=\"white-space:pre;overflow-x:auto;line-height:normal;font-family:Menlo,'DejaVu Sans Mono',consolas,'Courier New',monospace\">/tmp/ipykernel_120664/3199749346.py:26: FutureWarning: The behavior of DataFrame concatenation with empty or all-NA\n",
       "entries is deprecated. In a future version, this will no longer exclude empty or all-NA columns when determining \n",
       "the result dtypes. To retain the old behavior, exclude the relevant entries before the concat operation.\n",
       "  results = pd.concat([results, normalized_data])\n",
       "</pre>\n"
      ],
      "text/plain": [
       "/tmp/ipykernel_120664/3199749346.py:26: FutureWarning: The behavior of DataFrame concatenation with empty or all-NA\n",
       "entries is deprecated. In a future version, this will no longer exclude empty or all-NA columns when determining \n",
       "the result dtypes. To retain the old behavior, exclude the relevant entries before the concat operation.\n",
       "  results = pd.concat([results, normalized_data])\n"
      ]
     },
     "metadata": {},
     "output_type": "display_data"
    },
    {
     "data": {
      "text/html": [
       "<pre style=\"white-space:pre;overflow-x:auto;line-height:normal;font-family:Menlo,'DejaVu Sans Mono',consolas,'Courier New',monospace\">/tmp/ipykernel_120664/3199749346.py:26: FutureWarning: The behavior of DataFrame concatenation with empty or all-NA\n",
       "entries is deprecated. In a future version, this will no longer exclude empty or all-NA columns when determining \n",
       "the result dtypes. To retain the old behavior, exclude the relevant entries before the concat operation.\n",
       "  results = pd.concat([results, normalized_data])\n",
       "</pre>\n"
      ],
      "text/plain": [
       "/tmp/ipykernel_120664/3199749346.py:26: FutureWarning: The behavior of DataFrame concatenation with empty or all-NA\n",
       "entries is deprecated. In a future version, this will no longer exclude empty or all-NA columns when determining \n",
       "the result dtypes. To retain the old behavior, exclude the relevant entries before the concat operation.\n",
       "  results = pd.concat([results, normalized_data])\n"
      ]
     },
     "metadata": {},
     "output_type": "display_data"
    },
    {
     "data": {
      "text/html": [
       "<pre style=\"white-space:pre;overflow-x:auto;line-height:normal;font-family:Menlo,'DejaVu Sans Mono',consolas,'Courier New',monospace\">/tmp/ipykernel_120664/3199749346.py:26: FutureWarning: The behavior of DataFrame concatenation with empty or all-NA\n",
       "entries is deprecated. In a future version, this will no longer exclude empty or all-NA columns when determining \n",
       "the result dtypes. To retain the old behavior, exclude the relevant entries before the concat operation.\n",
       "  results = pd.concat([results, normalized_data])\n",
       "</pre>\n"
      ],
      "text/plain": [
       "/tmp/ipykernel_120664/3199749346.py:26: FutureWarning: The behavior of DataFrame concatenation with empty or all-NA\n",
       "entries is deprecated. In a future version, this will no longer exclude empty or all-NA columns when determining \n",
       "the result dtypes. To retain the old behavior, exclude the relevant entries before the concat operation.\n",
       "  results = pd.concat([results, normalized_data])\n"
      ]
     },
     "metadata": {},
     "output_type": "display_data"
    },
    {
     "data": {
      "text/html": [
       "<pre style=\"white-space:pre;overflow-x:auto;line-height:normal;font-family:Menlo,'DejaVu Sans Mono',consolas,'Courier New',monospace\">/tmp/ipykernel_120664/3199749346.py:26: FutureWarning: The behavior of DataFrame concatenation with empty or all-NA\n",
       "entries is deprecated. In a future version, this will no longer exclude empty or all-NA columns when determining \n",
       "the result dtypes. To retain the old behavior, exclude the relevant entries before the concat operation.\n",
       "  results = pd.concat([results, normalized_data])\n",
       "</pre>\n"
      ],
      "text/plain": [
       "/tmp/ipykernel_120664/3199749346.py:26: FutureWarning: The behavior of DataFrame concatenation with empty or all-NA\n",
       "entries is deprecated. In a future version, this will no longer exclude empty or all-NA columns when determining \n",
       "the result dtypes. To retain the old behavior, exclude the relevant entries before the concat operation.\n",
       "  results = pd.concat([results, normalized_data])\n"
      ]
     },
     "metadata": {},
     "output_type": "display_data"
    },
    {
     "data": {
      "text/html": [
       "<pre style=\"white-space:pre;overflow-x:auto;line-height:normal;font-family:Menlo,'DejaVu Sans Mono',consolas,'Courier New',monospace\">/tmp/ipykernel_120664/3199749346.py:26: FutureWarning: The behavior of DataFrame concatenation with empty or all-NA\n",
       "entries is deprecated. In a future version, this will no longer exclude empty or all-NA columns when determining \n",
       "the result dtypes. To retain the old behavior, exclude the relevant entries before the concat operation.\n",
       "  results = pd.concat([results, normalized_data])\n",
       "</pre>\n"
      ],
      "text/plain": [
       "/tmp/ipykernel_120664/3199749346.py:26: FutureWarning: The behavior of DataFrame concatenation with empty or all-NA\n",
       "entries is deprecated. In a future version, this will no longer exclude empty or all-NA columns when determining \n",
       "the result dtypes. To retain the old behavior, exclude the relevant entries before the concat operation.\n",
       "  results = pd.concat([results, normalized_data])\n"
      ]
     },
     "metadata": {},
     "output_type": "display_data"
    },
    {
     "data": {
      "text/html": [
       "<pre style=\"white-space:pre;overflow-x:auto;line-height:normal;font-family:Menlo,'DejaVu Sans Mono',consolas,'Courier New',monospace\">/tmp/ipykernel_120664/3199749346.py:26: FutureWarning: The behavior of DataFrame concatenation with empty or all-NA\n",
       "entries is deprecated. In a future version, this will no longer exclude empty or all-NA columns when determining \n",
       "the result dtypes. To retain the old behavior, exclude the relevant entries before the concat operation.\n",
       "  results = pd.concat([results, normalized_data])\n",
       "</pre>\n"
      ],
      "text/plain": [
       "/tmp/ipykernel_120664/3199749346.py:26: FutureWarning: The behavior of DataFrame concatenation with empty or all-NA\n",
       "entries is deprecated. In a future version, this will no longer exclude empty or all-NA columns when determining \n",
       "the result dtypes. To retain the old behavior, exclude the relevant entries before the concat operation.\n",
       "  results = pd.concat([results, normalized_data])\n"
      ]
     },
     "metadata": {},
     "output_type": "display_data"
    },
    {
     "data": {
      "text/html": [
       "<pre style=\"white-space:pre;overflow-x:auto;line-height:normal;font-family:Menlo,'DejaVu Sans Mono',consolas,'Courier New',monospace\">/tmp/ipykernel_120664/3199749346.py:26: FutureWarning: The behavior of DataFrame concatenation with empty or all-NA\n",
       "entries is deprecated. In a future version, this will no longer exclude empty or all-NA columns when determining \n",
       "the result dtypes. To retain the old behavior, exclude the relevant entries before the concat operation.\n",
       "  results = pd.concat([results, normalized_data])\n",
       "</pre>\n"
      ],
      "text/plain": [
       "/tmp/ipykernel_120664/3199749346.py:26: FutureWarning: The behavior of DataFrame concatenation with empty or all-NA\n",
       "entries is deprecated. In a future version, this will no longer exclude empty or all-NA columns when determining \n",
       "the result dtypes. To retain the old behavior, exclude the relevant entries before the concat operation.\n",
       "  results = pd.concat([results, normalized_data])\n"
      ]
     },
     "metadata": {},
     "output_type": "display_data"
    },
    {
     "data": {
      "text/html": [
       "<pre style=\"white-space:pre;overflow-x:auto;line-height:normal;font-family:Menlo,'DejaVu Sans Mono',consolas,'Courier New',monospace\">/tmp/ipykernel_120664/3199749346.py:26: FutureWarning: The behavior of DataFrame concatenation with empty or all-NA\n",
       "entries is deprecated. In a future version, this will no longer exclude empty or all-NA columns when determining \n",
       "the result dtypes. To retain the old behavior, exclude the relevant entries before the concat operation.\n",
       "  results = pd.concat([results, normalized_data])\n",
       "</pre>\n"
      ],
      "text/plain": [
       "/tmp/ipykernel_120664/3199749346.py:26: FutureWarning: The behavior of DataFrame concatenation with empty or all-NA\n",
       "entries is deprecated. In a future version, this will no longer exclude empty or all-NA columns when determining \n",
       "the result dtypes. To retain the old behavior, exclude the relevant entries before the concat operation.\n",
       "  results = pd.concat([results, normalized_data])\n"
      ]
     },
     "metadata": {},
     "output_type": "display_data"
    },
    {
     "data": {
      "text/html": [
       "<pre style=\"white-space:pre;overflow-x:auto;line-height:normal;font-family:Menlo,'DejaVu Sans Mono',consolas,'Courier New',monospace\">/tmp/ipykernel_120664/3199749346.py:26: FutureWarning: The behavior of DataFrame concatenation with empty or all-NA\n",
       "entries is deprecated. In a future version, this will no longer exclude empty or all-NA columns when determining \n",
       "the result dtypes. To retain the old behavior, exclude the relevant entries before the concat operation.\n",
       "  results = pd.concat([results, normalized_data])\n",
       "</pre>\n"
      ],
      "text/plain": [
       "/tmp/ipykernel_120664/3199749346.py:26: FutureWarning: The behavior of DataFrame concatenation with empty or all-NA\n",
       "entries is deprecated. In a future version, this will no longer exclude empty or all-NA columns when determining \n",
       "the result dtypes. To retain the old behavior, exclude the relevant entries before the concat operation.\n",
       "  results = pd.concat([results, normalized_data])\n"
      ]
     },
     "metadata": {},
     "output_type": "display_data"
    },
    {
     "data": {
      "text/html": [
       "<pre style=\"white-space:pre;overflow-x:auto;line-height:normal;font-family:Menlo,'DejaVu Sans Mono',consolas,'Courier New',monospace\">/tmp/ipykernel_120664/3199749346.py:26: FutureWarning: The behavior of DataFrame concatenation with empty or all-NA\n",
       "entries is deprecated. In a future version, this will no longer exclude empty or all-NA columns when determining \n",
       "the result dtypes. To retain the old behavior, exclude the relevant entries before the concat operation.\n",
       "  results = pd.concat([results, normalized_data])\n",
       "</pre>\n"
      ],
      "text/plain": [
       "/tmp/ipykernel_120664/3199749346.py:26: FutureWarning: The behavior of DataFrame concatenation with empty or all-NA\n",
       "entries is deprecated. In a future version, this will no longer exclude empty or all-NA columns when determining \n",
       "the result dtypes. To retain the old behavior, exclude the relevant entries before the concat operation.\n",
       "  results = pd.concat([results, normalized_data])\n"
      ]
     },
     "metadata": {},
     "output_type": "display_data"
    },
    {
     "data": {
      "text/html": [
       "<pre style=\"white-space:pre;overflow-x:auto;line-height:normal;font-family:Menlo,'DejaVu Sans Mono',consolas,'Courier New',monospace\">/tmp/ipykernel_120664/3199749346.py:26: FutureWarning: The behavior of DataFrame concatenation with empty or all-NA\n",
       "entries is deprecated. In a future version, this will no longer exclude empty or all-NA columns when determining \n",
       "the result dtypes. To retain the old behavior, exclude the relevant entries before the concat operation.\n",
       "  results = pd.concat([results, normalized_data])\n",
       "</pre>\n"
      ],
      "text/plain": [
       "/tmp/ipykernel_120664/3199749346.py:26: FutureWarning: The behavior of DataFrame concatenation with empty or all-NA\n",
       "entries is deprecated. In a future version, this will no longer exclude empty or all-NA columns when determining \n",
       "the result dtypes. To retain the old behavior, exclude the relevant entries before the concat operation.\n",
       "  results = pd.concat([results, normalized_data])\n"
      ]
     },
     "metadata": {},
     "output_type": "display_data"
    },
    {
     "data": {
      "text/html": [
       "<pre style=\"white-space:pre;overflow-x:auto;line-height:normal;font-family:Menlo,'DejaVu Sans Mono',consolas,'Courier New',monospace\">/tmp/ipykernel_120664/3199749346.py:26: FutureWarning: The behavior of DataFrame concatenation with empty or all-NA\n",
       "entries is deprecated. In a future version, this will no longer exclude empty or all-NA columns when determining \n",
       "the result dtypes. To retain the old behavior, exclude the relevant entries before the concat operation.\n",
       "  results = pd.concat([results, normalized_data])\n",
       "</pre>\n"
      ],
      "text/plain": [
       "/tmp/ipykernel_120664/3199749346.py:26: FutureWarning: The behavior of DataFrame concatenation with empty or all-NA\n",
       "entries is deprecated. In a future version, this will no longer exclude empty or all-NA columns when determining \n",
       "the result dtypes. To retain the old behavior, exclude the relevant entries before the concat operation.\n",
       "  results = pd.concat([results, normalized_data])\n"
      ]
     },
     "metadata": {},
     "output_type": "display_data"
    },
    {
     "data": {
      "text/html": [
       "<pre style=\"white-space:pre;overflow-x:auto;line-height:normal;font-family:Menlo,'DejaVu Sans Mono',consolas,'Courier New',monospace\">/tmp/ipykernel_120664/3199749346.py:26: FutureWarning: The behavior of DataFrame concatenation with empty or all-NA\n",
       "entries is deprecated. In a future version, this will no longer exclude empty or all-NA columns when determining \n",
       "the result dtypes. To retain the old behavior, exclude the relevant entries before the concat operation.\n",
       "  results = pd.concat([results, normalized_data])\n",
       "</pre>\n"
      ],
      "text/plain": [
       "/tmp/ipykernel_120664/3199749346.py:26: FutureWarning: The behavior of DataFrame concatenation with empty or all-NA\n",
       "entries is deprecated. In a future version, this will no longer exclude empty or all-NA columns when determining \n",
       "the result dtypes. To retain the old behavior, exclude the relevant entries before the concat operation.\n",
       "  results = pd.concat([results, normalized_data])\n"
      ]
     },
     "metadata": {},
     "output_type": "display_data"
    },
    {
     "data": {
      "text/html": [
       "<pre style=\"white-space:pre;overflow-x:auto;line-height:normal;font-family:Menlo,'DejaVu Sans Mono',consolas,'Courier New',monospace\">/tmp/ipykernel_120664/3199749346.py:26: FutureWarning: The behavior of DataFrame concatenation with empty or all-NA\n",
       "entries is deprecated. In a future version, this will no longer exclude empty or all-NA columns when determining \n",
       "the result dtypes. To retain the old behavior, exclude the relevant entries before the concat operation.\n",
       "  results = pd.concat([results, normalized_data])\n",
       "</pre>\n"
      ],
      "text/plain": [
       "/tmp/ipykernel_120664/3199749346.py:26: FutureWarning: The behavior of DataFrame concatenation with empty or all-NA\n",
       "entries is deprecated. In a future version, this will no longer exclude empty or all-NA columns when determining \n",
       "the result dtypes. To retain the old behavior, exclude the relevant entries before the concat operation.\n",
       "  results = pd.concat([results, normalized_data])\n"
      ]
     },
     "metadata": {},
     "output_type": "display_data"
    },
    {
     "data": {
      "text/html": [
       "<pre style=\"white-space:pre;overflow-x:auto;line-height:normal;font-family:Menlo,'DejaVu Sans Mono',consolas,'Courier New',monospace\">/tmp/ipykernel_120664/3199749346.py:26: FutureWarning: The behavior of DataFrame concatenation with empty or all-NA\n",
       "entries is deprecated. In a future version, this will no longer exclude empty or all-NA columns when determining \n",
       "the result dtypes. To retain the old behavior, exclude the relevant entries before the concat operation.\n",
       "  results = pd.concat([results, normalized_data])\n",
       "</pre>\n"
      ],
      "text/plain": [
       "/tmp/ipykernel_120664/3199749346.py:26: FutureWarning: The behavior of DataFrame concatenation with empty or all-NA\n",
       "entries is deprecated. In a future version, this will no longer exclude empty or all-NA columns when determining \n",
       "the result dtypes. To retain the old behavior, exclude the relevant entries before the concat operation.\n",
       "  results = pd.concat([results, normalized_data])\n"
      ]
     },
     "metadata": {},
     "output_type": "display_data"
    },
    {
     "data": {
      "text/html": [
       "<pre style=\"white-space:pre;overflow-x:auto;line-height:normal;font-family:Menlo,'DejaVu Sans Mono',consolas,'Courier New',monospace\">/tmp/ipykernel_120664/3199749346.py:26: FutureWarning: The behavior of DataFrame concatenation with empty or all-NA\n",
       "entries is deprecated. In a future version, this will no longer exclude empty or all-NA columns when determining \n",
       "the result dtypes. To retain the old behavior, exclude the relevant entries before the concat operation.\n",
       "  results = pd.concat([results, normalized_data])\n",
       "</pre>\n"
      ],
      "text/plain": [
       "/tmp/ipykernel_120664/3199749346.py:26: FutureWarning: The behavior of DataFrame concatenation with empty or all-NA\n",
       "entries is deprecated. In a future version, this will no longer exclude empty or all-NA columns when determining \n",
       "the result dtypes. To retain the old behavior, exclude the relevant entries before the concat operation.\n",
       "  results = pd.concat([results, normalized_data])\n"
      ]
     },
     "metadata": {},
     "output_type": "display_data"
    },
    {
     "data": {
      "text/html": [
       "<pre style=\"white-space:pre;overflow-x:auto;line-height:normal;font-family:Menlo,'DejaVu Sans Mono',consolas,'Courier New',monospace\">/tmp/ipykernel_120664/3199749346.py:26: FutureWarning: The behavior of DataFrame concatenation with empty or all-NA\n",
       "entries is deprecated. In a future version, this will no longer exclude empty or all-NA columns when determining \n",
       "the result dtypes. To retain the old behavior, exclude the relevant entries before the concat operation.\n",
       "  results = pd.concat([results, normalized_data])\n",
       "</pre>\n"
      ],
      "text/plain": [
       "/tmp/ipykernel_120664/3199749346.py:26: FutureWarning: The behavior of DataFrame concatenation with empty or all-NA\n",
       "entries is deprecated. In a future version, this will no longer exclude empty or all-NA columns when determining \n",
       "the result dtypes. To retain the old behavior, exclude the relevant entries before the concat operation.\n",
       "  results = pd.concat([results, normalized_data])\n"
      ]
     },
     "metadata": {},
     "output_type": "display_data"
    },
    {
     "data": {
      "text/html": [
       "<pre style=\"white-space:pre;overflow-x:auto;line-height:normal;font-family:Menlo,'DejaVu Sans Mono',consolas,'Courier New',monospace\">/tmp/ipykernel_120664/3199749346.py:26: FutureWarning: The behavior of DataFrame concatenation with empty or all-NA\n",
       "entries is deprecated. In a future version, this will no longer exclude empty or all-NA columns when determining \n",
       "the result dtypes. To retain the old behavior, exclude the relevant entries before the concat operation.\n",
       "  results = pd.concat([results, normalized_data])\n",
       "</pre>\n"
      ],
      "text/plain": [
       "/tmp/ipykernel_120664/3199749346.py:26: FutureWarning: The behavior of DataFrame concatenation with empty or all-NA\n",
       "entries is deprecated. In a future version, this will no longer exclude empty or all-NA columns when determining \n",
       "the result dtypes. To retain the old behavior, exclude the relevant entries before the concat operation.\n",
       "  results = pd.concat([results, normalized_data])\n"
      ]
     },
     "metadata": {},
     "output_type": "display_data"
    },
    {
     "data": {
      "text/html": [
       "<pre style=\"white-space:pre;overflow-x:auto;line-height:normal;font-family:Menlo,'DejaVu Sans Mono',consolas,'Courier New',monospace\">/tmp/ipykernel_120664/3199749346.py:26: FutureWarning: The behavior of DataFrame concatenation with empty or all-NA\n",
       "entries is deprecated. In a future version, this will no longer exclude empty or all-NA columns when determining \n",
       "the result dtypes. To retain the old behavior, exclude the relevant entries before the concat operation.\n",
       "  results = pd.concat([results, normalized_data])\n",
       "</pre>\n"
      ],
      "text/plain": [
       "/tmp/ipykernel_120664/3199749346.py:26: FutureWarning: The behavior of DataFrame concatenation with empty or all-NA\n",
       "entries is deprecated. In a future version, this will no longer exclude empty or all-NA columns when determining \n",
       "the result dtypes. To retain the old behavior, exclude the relevant entries before the concat operation.\n",
       "  results = pd.concat([results, normalized_data])\n"
      ]
     },
     "metadata": {},
     "output_type": "display_data"
    },
    {
     "data": {
      "text/html": [
       "<pre style=\"white-space:pre;overflow-x:auto;line-height:normal;font-family:Menlo,'DejaVu Sans Mono',consolas,'Courier New',monospace\">/tmp/ipykernel_120664/3199749346.py:26: FutureWarning: The behavior of DataFrame concatenation with empty or all-NA\n",
       "entries is deprecated. In a future version, this will no longer exclude empty or all-NA columns when determining \n",
       "the result dtypes. To retain the old behavior, exclude the relevant entries before the concat operation.\n",
       "  results = pd.concat([results, normalized_data])\n",
       "</pre>\n"
      ],
      "text/plain": [
       "/tmp/ipykernel_120664/3199749346.py:26: FutureWarning: The behavior of DataFrame concatenation with empty or all-NA\n",
       "entries is deprecated. In a future version, this will no longer exclude empty or all-NA columns when determining \n",
       "the result dtypes. To retain the old behavior, exclude the relevant entries before the concat operation.\n",
       "  results = pd.concat([results, normalized_data])\n"
      ]
     },
     "metadata": {},
     "output_type": "display_data"
    },
    {
     "data": {
      "text/html": [
       "<pre style=\"white-space:pre;overflow-x:auto;line-height:normal;font-family:Menlo,'DejaVu Sans Mono',consolas,'Courier New',monospace\">/tmp/ipykernel_120664/3199749346.py:26: FutureWarning: The behavior of DataFrame concatenation with empty or all-NA\n",
       "entries is deprecated. In a future version, this will no longer exclude empty or all-NA columns when determining \n",
       "the result dtypes. To retain the old behavior, exclude the relevant entries before the concat operation.\n",
       "  results = pd.concat([results, normalized_data])\n",
       "</pre>\n"
      ],
      "text/plain": [
       "/tmp/ipykernel_120664/3199749346.py:26: FutureWarning: The behavior of DataFrame concatenation with empty or all-NA\n",
       "entries is deprecated. In a future version, this will no longer exclude empty or all-NA columns when determining \n",
       "the result dtypes. To retain the old behavior, exclude the relevant entries before the concat operation.\n",
       "  results = pd.concat([results, normalized_data])\n"
      ]
     },
     "metadata": {},
     "output_type": "display_data"
    },
    {
     "data": {
      "text/html": [
       "<pre style=\"white-space:pre;overflow-x:auto;line-height:normal;font-family:Menlo,'DejaVu Sans Mono',consolas,'Courier New',monospace\">/tmp/ipykernel_120664/3199749346.py:26: FutureWarning: The behavior of DataFrame concatenation with empty or all-NA\n",
       "entries is deprecated. In a future version, this will no longer exclude empty or all-NA columns when determining \n",
       "the result dtypes. To retain the old behavior, exclude the relevant entries before the concat operation.\n",
       "  results = pd.concat([results, normalized_data])\n",
       "</pre>\n"
      ],
      "text/plain": [
       "/tmp/ipykernel_120664/3199749346.py:26: FutureWarning: The behavior of DataFrame concatenation with empty or all-NA\n",
       "entries is deprecated. In a future version, this will no longer exclude empty or all-NA columns when determining \n",
       "the result dtypes. To retain the old behavior, exclude the relevant entries before the concat operation.\n",
       "  results = pd.concat([results, normalized_data])\n"
      ]
     },
     "metadata": {},
     "output_type": "display_data"
    },
    {
     "data": {
      "text/html": [
       "<pre style=\"white-space:pre;overflow-x:auto;line-height:normal;font-family:Menlo,'DejaVu Sans Mono',consolas,'Courier New',monospace\">/tmp/ipykernel_120664/3199749346.py:26: FutureWarning: The behavior of DataFrame concatenation with empty or all-NA\n",
       "entries is deprecated. In a future version, this will no longer exclude empty or all-NA columns when determining \n",
       "the result dtypes. To retain the old behavior, exclude the relevant entries before the concat operation.\n",
       "  results = pd.concat([results, normalized_data])\n",
       "</pre>\n"
      ],
      "text/plain": [
       "/tmp/ipykernel_120664/3199749346.py:26: FutureWarning: The behavior of DataFrame concatenation with empty or all-NA\n",
       "entries is deprecated. In a future version, this will no longer exclude empty or all-NA columns when determining \n",
       "the result dtypes. To retain the old behavior, exclude the relevant entries before the concat operation.\n",
       "  results = pd.concat([results, normalized_data])\n"
      ]
     },
     "metadata": {},
     "output_type": "display_data"
    },
    {
     "data": {
      "text/html": [
       "<pre style=\"white-space:pre;overflow-x:auto;line-height:normal;font-family:Menlo,'DejaVu Sans Mono',consolas,'Courier New',monospace\">/tmp/ipykernel_120664/3199749346.py:26: FutureWarning: The behavior of DataFrame concatenation with empty or all-NA\n",
       "entries is deprecated. In a future version, this will no longer exclude empty or all-NA columns when determining \n",
       "the result dtypes. To retain the old behavior, exclude the relevant entries before the concat operation.\n",
       "  results = pd.concat([results, normalized_data])\n",
       "</pre>\n"
      ],
      "text/plain": [
       "/tmp/ipykernel_120664/3199749346.py:26: FutureWarning: The behavior of DataFrame concatenation with empty or all-NA\n",
       "entries is deprecated. In a future version, this will no longer exclude empty or all-NA columns when determining \n",
       "the result dtypes. To retain the old behavior, exclude the relevant entries before the concat operation.\n",
       "  results = pd.concat([results, normalized_data])\n"
      ]
     },
     "metadata": {},
     "output_type": "display_data"
    },
    {
     "data": {
      "text/html": [
       "<pre style=\"white-space:pre;overflow-x:auto;line-height:normal;font-family:Menlo,'DejaVu Sans Mono',consolas,'Courier New',monospace\">/tmp/ipykernel_120664/3199749346.py:26: FutureWarning: The behavior of DataFrame concatenation with empty or all-NA\n",
       "entries is deprecated. In a future version, this will no longer exclude empty or all-NA columns when determining \n",
       "the result dtypes. To retain the old behavior, exclude the relevant entries before the concat operation.\n",
       "  results = pd.concat([results, normalized_data])\n",
       "</pre>\n"
      ],
      "text/plain": [
       "/tmp/ipykernel_120664/3199749346.py:26: FutureWarning: The behavior of DataFrame concatenation with empty or all-NA\n",
       "entries is deprecated. In a future version, this will no longer exclude empty or all-NA columns when determining \n",
       "the result dtypes. To retain the old behavior, exclude the relevant entries before the concat operation.\n",
       "  results = pd.concat([results, normalized_data])\n"
      ]
     },
     "metadata": {},
     "output_type": "display_data"
    },
    {
     "data": {
      "text/html": [
       "<pre style=\"white-space:pre;overflow-x:auto;line-height:normal;font-family:Menlo,'DejaVu Sans Mono',consolas,'Courier New',monospace\">/tmp/ipykernel_120664/3199749346.py:26: FutureWarning: The behavior of DataFrame concatenation with empty or all-NA\n",
       "entries is deprecated. In a future version, this will no longer exclude empty or all-NA columns when determining \n",
       "the result dtypes. To retain the old behavior, exclude the relevant entries before the concat operation.\n",
       "  results = pd.concat([results, normalized_data])\n",
       "</pre>\n"
      ],
      "text/plain": [
       "/tmp/ipykernel_120664/3199749346.py:26: FutureWarning: The behavior of DataFrame concatenation with empty or all-NA\n",
       "entries is deprecated. In a future version, this will no longer exclude empty or all-NA columns when determining \n",
       "the result dtypes. To retain the old behavior, exclude the relevant entries before the concat operation.\n",
       "  results = pd.concat([results, normalized_data])\n"
      ]
     },
     "metadata": {},
     "output_type": "display_data"
    },
    {
     "data": {
      "text/html": [
       "<pre style=\"white-space:pre;overflow-x:auto;line-height:normal;font-family:Menlo,'DejaVu Sans Mono',consolas,'Courier New',monospace\">/tmp/ipykernel_120664/3199749346.py:26: FutureWarning: The behavior of DataFrame concatenation with empty or all-NA\n",
       "entries is deprecated. In a future version, this will no longer exclude empty or all-NA columns when determining \n",
       "the result dtypes. To retain the old behavior, exclude the relevant entries before the concat operation.\n",
       "  results = pd.concat([results, normalized_data])\n",
       "</pre>\n"
      ],
      "text/plain": [
       "/tmp/ipykernel_120664/3199749346.py:26: FutureWarning: The behavior of DataFrame concatenation with empty or all-NA\n",
       "entries is deprecated. In a future version, this will no longer exclude empty or all-NA columns when determining \n",
       "the result dtypes. To retain the old behavior, exclude the relevant entries before the concat operation.\n",
       "  results = pd.concat([results, normalized_data])\n"
      ]
     },
     "metadata": {},
     "output_type": "display_data"
    },
    {
     "data": {
      "text/html": [
       "<pre style=\"white-space:pre;overflow-x:auto;line-height:normal;font-family:Menlo,'DejaVu Sans Mono',consolas,'Courier New',monospace\">/tmp/ipykernel_120664/3199749346.py:26: FutureWarning: The behavior of DataFrame concatenation with empty or all-NA\n",
       "entries is deprecated. In a future version, this will no longer exclude empty or all-NA columns when determining \n",
       "the result dtypes. To retain the old behavior, exclude the relevant entries before the concat operation.\n",
       "  results = pd.concat([results, normalized_data])\n",
       "</pre>\n"
      ],
      "text/plain": [
       "/tmp/ipykernel_120664/3199749346.py:26: FutureWarning: The behavior of DataFrame concatenation with empty or all-NA\n",
       "entries is deprecated. In a future version, this will no longer exclude empty or all-NA columns when determining \n",
       "the result dtypes. To retain the old behavior, exclude the relevant entries before the concat operation.\n",
       "  results = pd.concat([results, normalized_data])\n"
      ]
     },
     "metadata": {},
     "output_type": "display_data"
    },
    {
     "data": {
      "text/html": [
       "<pre style=\"white-space:pre;overflow-x:auto;line-height:normal;font-family:Menlo,'DejaVu Sans Mono',consolas,'Courier New',monospace\">/tmp/ipykernel_120664/3199749346.py:26: FutureWarning: The behavior of DataFrame concatenation with empty or all-NA\n",
       "entries is deprecated. In a future version, this will no longer exclude empty or all-NA columns when determining \n",
       "the result dtypes. To retain the old behavior, exclude the relevant entries before the concat operation.\n",
       "  results = pd.concat([results, normalized_data])\n",
       "</pre>\n"
      ],
      "text/plain": [
       "/tmp/ipykernel_120664/3199749346.py:26: FutureWarning: The behavior of DataFrame concatenation with empty or all-NA\n",
       "entries is deprecated. In a future version, this will no longer exclude empty or all-NA columns when determining \n",
       "the result dtypes. To retain the old behavior, exclude the relevant entries before the concat operation.\n",
       "  results = pd.concat([results, normalized_data])\n"
      ]
     },
     "metadata": {},
     "output_type": "display_data"
    },
    {
     "data": {
      "text/html": [
       "<pre style=\"white-space:pre;overflow-x:auto;line-height:normal;font-family:Menlo,'DejaVu Sans Mono',consolas,'Courier New',monospace\">/tmp/ipykernel_120664/3199749346.py:26: FutureWarning: The behavior of DataFrame concatenation with empty or all-NA\n",
       "entries is deprecated. In a future version, this will no longer exclude empty or all-NA columns when determining \n",
       "the result dtypes. To retain the old behavior, exclude the relevant entries before the concat operation.\n",
       "  results = pd.concat([results, normalized_data])\n",
       "</pre>\n"
      ],
      "text/plain": [
       "/tmp/ipykernel_120664/3199749346.py:26: FutureWarning: The behavior of DataFrame concatenation with empty or all-NA\n",
       "entries is deprecated. In a future version, this will no longer exclude empty or all-NA columns when determining \n",
       "the result dtypes. To retain the old behavior, exclude the relevant entries before the concat operation.\n",
       "  results = pd.concat([results, normalized_data])\n"
      ]
     },
     "metadata": {},
     "output_type": "display_data"
    },
    {
     "data": {
      "text/html": [
       "<pre style=\"white-space:pre;overflow-x:auto;line-height:normal;font-family:Menlo,'DejaVu Sans Mono',consolas,'Courier New',monospace\">/tmp/ipykernel_120664/3199749346.py:26: FutureWarning: The behavior of DataFrame concatenation with empty or all-NA\n",
       "entries is deprecated. In a future version, this will no longer exclude empty or all-NA columns when determining \n",
       "the result dtypes. To retain the old behavior, exclude the relevant entries before the concat operation.\n",
       "  results = pd.concat([results, normalized_data])\n",
       "</pre>\n"
      ],
      "text/plain": [
       "/tmp/ipykernel_120664/3199749346.py:26: FutureWarning: The behavior of DataFrame concatenation with empty or all-NA\n",
       "entries is deprecated. In a future version, this will no longer exclude empty or all-NA columns when determining \n",
       "the result dtypes. To retain the old behavior, exclude the relevant entries before the concat operation.\n",
       "  results = pd.concat([results, normalized_data])\n"
      ]
     },
     "metadata": {},
     "output_type": "display_data"
    },
    {
     "data": {
      "text/html": [
       "<pre style=\"white-space:pre;overflow-x:auto;line-height:normal;font-family:Menlo,'DejaVu Sans Mono',consolas,'Courier New',monospace\">/tmp/ipykernel_120664/3199749346.py:26: FutureWarning: The behavior of DataFrame concatenation with empty or all-NA\n",
       "entries is deprecated. In a future version, this will no longer exclude empty or all-NA columns when determining \n",
       "the result dtypes. To retain the old behavior, exclude the relevant entries before the concat operation.\n",
       "  results = pd.concat([results, normalized_data])\n",
       "</pre>\n"
      ],
      "text/plain": [
       "/tmp/ipykernel_120664/3199749346.py:26: FutureWarning: The behavior of DataFrame concatenation with empty or all-NA\n",
       "entries is deprecated. In a future version, this will no longer exclude empty or all-NA columns when determining \n",
       "the result dtypes. To retain the old behavior, exclude the relevant entries before the concat operation.\n",
       "  results = pd.concat([results, normalized_data])\n"
      ]
     },
     "metadata": {},
     "output_type": "display_data"
    },
    {
     "data": {
      "text/html": [
       "<pre style=\"white-space:pre;overflow-x:auto;line-height:normal;font-family:Menlo,'DejaVu Sans Mono',consolas,'Courier New',monospace\">/tmp/ipykernel_120664/3199749346.py:26: FutureWarning: The behavior of DataFrame concatenation with empty or all-NA\n",
       "entries is deprecated. In a future version, this will no longer exclude empty or all-NA columns when determining \n",
       "the result dtypes. To retain the old behavior, exclude the relevant entries before the concat operation.\n",
       "  results = pd.concat([results, normalized_data])\n",
       "</pre>\n"
      ],
      "text/plain": [
       "/tmp/ipykernel_120664/3199749346.py:26: FutureWarning: The behavior of DataFrame concatenation with empty or all-NA\n",
       "entries is deprecated. In a future version, this will no longer exclude empty or all-NA columns when determining \n",
       "the result dtypes. To retain the old behavior, exclude the relevant entries before the concat operation.\n",
       "  results = pd.concat([results, normalized_data])\n"
      ]
     },
     "metadata": {},
     "output_type": "display_data"
    },
    {
     "data": {
      "text/html": [
       "<pre style=\"white-space:pre;overflow-x:auto;line-height:normal;font-family:Menlo,'DejaVu Sans Mono',consolas,'Courier New',monospace\">/tmp/ipykernel_120664/3199749346.py:26: FutureWarning: The behavior of DataFrame concatenation with empty or all-NA\n",
       "entries is deprecated. In a future version, this will no longer exclude empty or all-NA columns when determining \n",
       "the result dtypes. To retain the old behavior, exclude the relevant entries before the concat operation.\n",
       "  results = pd.concat([results, normalized_data])\n",
       "</pre>\n"
      ],
      "text/plain": [
       "/tmp/ipykernel_120664/3199749346.py:26: FutureWarning: The behavior of DataFrame concatenation with empty or all-NA\n",
       "entries is deprecated. In a future version, this will no longer exclude empty or all-NA columns when determining \n",
       "the result dtypes. To retain the old behavior, exclude the relevant entries before the concat operation.\n",
       "  results = pd.concat([results, normalized_data])\n"
      ]
     },
     "metadata": {},
     "output_type": "display_data"
    },
    {
     "data": {
      "text/html": [
       "<pre style=\"white-space:pre;overflow-x:auto;line-height:normal;font-family:Menlo,'DejaVu Sans Mono',consolas,'Courier New',monospace\">/tmp/ipykernel_120664/3199749346.py:26: FutureWarning: The behavior of DataFrame concatenation with empty or all-NA\n",
       "entries is deprecated. In a future version, this will no longer exclude empty or all-NA columns when determining \n",
       "the result dtypes. To retain the old behavior, exclude the relevant entries before the concat operation.\n",
       "  results = pd.concat([results, normalized_data])\n",
       "</pre>\n"
      ],
      "text/plain": [
       "/tmp/ipykernel_120664/3199749346.py:26: FutureWarning: The behavior of DataFrame concatenation with empty or all-NA\n",
       "entries is deprecated. In a future version, this will no longer exclude empty or all-NA columns when determining \n",
       "the result dtypes. To retain the old behavior, exclude the relevant entries before the concat operation.\n",
       "  results = pd.concat([results, normalized_data])\n"
      ]
     },
     "metadata": {},
     "output_type": "display_data"
    },
    {
     "data": {
      "text/html": [
       "<pre style=\"white-space:pre;overflow-x:auto;line-height:normal;font-family:Menlo,'DejaVu Sans Mono',consolas,'Courier New',monospace\">/tmp/ipykernel_120664/3199749346.py:26: FutureWarning: The behavior of DataFrame concatenation with empty or all-NA\n",
       "entries is deprecated. In a future version, this will no longer exclude empty or all-NA columns when determining \n",
       "the result dtypes. To retain the old behavior, exclude the relevant entries before the concat operation.\n",
       "  results = pd.concat([results, normalized_data])\n",
       "</pre>\n"
      ],
      "text/plain": [
       "/tmp/ipykernel_120664/3199749346.py:26: FutureWarning: The behavior of DataFrame concatenation with empty or all-NA\n",
       "entries is deprecated. In a future version, this will no longer exclude empty or all-NA columns when determining \n",
       "the result dtypes. To retain the old behavior, exclude the relevant entries before the concat operation.\n",
       "  results = pd.concat([results, normalized_data])\n"
      ]
     },
     "metadata": {},
     "output_type": "display_data"
    },
    {
     "data": {
      "text/html": [
       "<pre style=\"white-space:pre;overflow-x:auto;line-height:normal;font-family:Menlo,'DejaVu Sans Mono',consolas,'Courier New',monospace\">/tmp/ipykernel_120664/3199749346.py:26: FutureWarning: The behavior of DataFrame concatenation with empty or all-NA\n",
       "entries is deprecated. In a future version, this will no longer exclude empty or all-NA columns when determining \n",
       "the result dtypes. To retain the old behavior, exclude the relevant entries before the concat operation.\n",
       "  results = pd.concat([results, normalized_data])\n",
       "</pre>\n"
      ],
      "text/plain": [
       "/tmp/ipykernel_120664/3199749346.py:26: FutureWarning: The behavior of DataFrame concatenation with empty or all-NA\n",
       "entries is deprecated. In a future version, this will no longer exclude empty or all-NA columns when determining \n",
       "the result dtypes. To retain the old behavior, exclude the relevant entries before the concat operation.\n",
       "  results = pd.concat([results, normalized_data])\n"
      ]
     },
     "metadata": {},
     "output_type": "display_data"
    },
    {
     "data": {
      "text/html": [
       "<pre style=\"white-space:pre;overflow-x:auto;line-height:normal;font-family:Menlo,'DejaVu Sans Mono',consolas,'Courier New',monospace\">/tmp/ipykernel_120664/3199749346.py:26: FutureWarning: The behavior of DataFrame concatenation with empty or all-NA\n",
       "entries is deprecated. In a future version, this will no longer exclude empty or all-NA columns when determining \n",
       "the result dtypes. To retain the old behavior, exclude the relevant entries before the concat operation.\n",
       "  results = pd.concat([results, normalized_data])\n",
       "</pre>\n"
      ],
      "text/plain": [
       "/tmp/ipykernel_120664/3199749346.py:26: FutureWarning: The behavior of DataFrame concatenation with empty or all-NA\n",
       "entries is deprecated. In a future version, this will no longer exclude empty or all-NA columns when determining \n",
       "the result dtypes. To retain the old behavior, exclude the relevant entries before the concat operation.\n",
       "  results = pd.concat([results, normalized_data])\n"
      ]
     },
     "metadata": {},
     "output_type": "display_data"
    },
    {
     "data": {
      "text/html": [
       "<pre style=\"white-space:pre;overflow-x:auto;line-height:normal;font-family:Menlo,'DejaVu Sans Mono',consolas,'Courier New',monospace\">/tmp/ipykernel_120664/3199749346.py:26: FutureWarning: The behavior of DataFrame concatenation with empty or all-NA\n",
       "entries is deprecated. In a future version, this will no longer exclude empty or all-NA columns when determining \n",
       "the result dtypes. To retain the old behavior, exclude the relevant entries before the concat operation.\n",
       "  results = pd.concat([results, normalized_data])\n",
       "</pre>\n"
      ],
      "text/plain": [
       "/tmp/ipykernel_120664/3199749346.py:26: FutureWarning: The behavior of DataFrame concatenation with empty or all-NA\n",
       "entries is deprecated. In a future version, this will no longer exclude empty or all-NA columns when determining \n",
       "the result dtypes. To retain the old behavior, exclude the relevant entries before the concat operation.\n",
       "  results = pd.concat([results, normalized_data])\n"
      ]
     },
     "metadata": {},
     "output_type": "display_data"
    },
    {
     "data": {
      "text/html": [
       "<pre style=\"white-space:pre;overflow-x:auto;line-height:normal;font-family:Menlo,'DejaVu Sans Mono',consolas,'Courier New',monospace\">/tmp/ipykernel_120664/3199749346.py:26: FutureWarning: The behavior of DataFrame concatenation with empty or all-NA\n",
       "entries is deprecated. In a future version, this will no longer exclude empty or all-NA columns when determining \n",
       "the result dtypes. To retain the old behavior, exclude the relevant entries before the concat operation.\n",
       "  results = pd.concat([results, normalized_data])\n",
       "</pre>\n"
      ],
      "text/plain": [
       "/tmp/ipykernel_120664/3199749346.py:26: FutureWarning: The behavior of DataFrame concatenation with empty or all-NA\n",
       "entries is deprecated. In a future version, this will no longer exclude empty or all-NA columns when determining \n",
       "the result dtypes. To retain the old behavior, exclude the relevant entries before the concat operation.\n",
       "  results = pd.concat([results, normalized_data])\n"
      ]
     },
     "metadata": {},
     "output_type": "display_data"
    },
    {
     "data": {
      "text/html": [
       "<pre style=\"white-space:pre;overflow-x:auto;line-height:normal;font-family:Menlo,'DejaVu Sans Mono',consolas,'Courier New',monospace\">/tmp/ipykernel_120664/3199749346.py:26: FutureWarning: The behavior of DataFrame concatenation with empty or all-NA\n",
       "entries is deprecated. In a future version, this will no longer exclude empty or all-NA columns when determining \n",
       "the result dtypes. To retain the old behavior, exclude the relevant entries before the concat operation.\n",
       "  results = pd.concat([results, normalized_data])\n",
       "</pre>\n"
      ],
      "text/plain": [
       "/tmp/ipykernel_120664/3199749346.py:26: FutureWarning: The behavior of DataFrame concatenation with empty or all-NA\n",
       "entries is deprecated. In a future version, this will no longer exclude empty or all-NA columns when determining \n",
       "the result dtypes. To retain the old behavior, exclude the relevant entries before the concat operation.\n",
       "  results = pd.concat([results, normalized_data])\n"
      ]
     },
     "metadata": {},
     "output_type": "display_data"
    },
    {
     "data": {
      "text/html": [
       "<pre style=\"white-space:pre;overflow-x:auto;line-height:normal;font-family:Menlo,'DejaVu Sans Mono',consolas,'Courier New',monospace\">/tmp/ipykernel_120664/3199749346.py:26: FutureWarning: The behavior of DataFrame concatenation with empty or all-NA\n",
       "entries is deprecated. In a future version, this will no longer exclude empty or all-NA columns when determining \n",
       "the result dtypes. To retain the old behavior, exclude the relevant entries before the concat operation.\n",
       "  results = pd.concat([results, normalized_data])\n",
       "</pre>\n"
      ],
      "text/plain": [
       "/tmp/ipykernel_120664/3199749346.py:26: FutureWarning: The behavior of DataFrame concatenation with empty or all-NA\n",
       "entries is deprecated. In a future version, this will no longer exclude empty or all-NA columns when determining \n",
       "the result dtypes. To retain the old behavior, exclude the relevant entries before the concat operation.\n",
       "  results = pd.concat([results, normalized_data])\n"
      ]
     },
     "metadata": {},
     "output_type": "display_data"
    },
    {
     "data": {
      "text/html": [
       "<pre style=\"white-space:pre;overflow-x:auto;line-height:normal;font-family:Menlo,'DejaVu Sans Mono',consolas,'Courier New',monospace\">/tmp/ipykernel_120664/3199749346.py:26: FutureWarning: The behavior of DataFrame concatenation with empty or all-NA\n",
       "entries is deprecated. In a future version, this will no longer exclude empty or all-NA columns when determining \n",
       "the result dtypes. To retain the old behavior, exclude the relevant entries before the concat operation.\n",
       "  results = pd.concat([results, normalized_data])\n",
       "</pre>\n"
      ],
      "text/plain": [
       "/tmp/ipykernel_120664/3199749346.py:26: FutureWarning: The behavior of DataFrame concatenation with empty or all-NA\n",
       "entries is deprecated. In a future version, this will no longer exclude empty or all-NA columns when determining \n",
       "the result dtypes. To retain the old behavior, exclude the relevant entries before the concat operation.\n",
       "  results = pd.concat([results, normalized_data])\n"
      ]
     },
     "metadata": {},
     "output_type": "display_data"
    },
    {
     "data": {
      "text/html": [
       "<pre style=\"white-space:pre;overflow-x:auto;line-height:normal;font-family:Menlo,'DejaVu Sans Mono',consolas,'Courier New',monospace\">/tmp/ipykernel_120664/3199749346.py:26: FutureWarning: The behavior of DataFrame concatenation with empty or all-NA\n",
       "entries is deprecated. In a future version, this will no longer exclude empty or all-NA columns when determining \n",
       "the result dtypes. To retain the old behavior, exclude the relevant entries before the concat operation.\n",
       "  results = pd.concat([results, normalized_data])\n",
       "</pre>\n"
      ],
      "text/plain": [
       "/tmp/ipykernel_120664/3199749346.py:26: FutureWarning: The behavior of DataFrame concatenation with empty or all-NA\n",
       "entries is deprecated. In a future version, this will no longer exclude empty or all-NA columns when determining \n",
       "the result dtypes. To retain the old behavior, exclude the relevant entries before the concat operation.\n",
       "  results = pd.concat([results, normalized_data])\n"
      ]
     },
     "metadata": {},
     "output_type": "display_data"
    },
    {
     "data": {
      "text/html": [
       "<pre style=\"white-space:pre;overflow-x:auto;line-height:normal;font-family:Menlo,'DejaVu Sans Mono',consolas,'Courier New',monospace\">/tmp/ipykernel_120664/3199749346.py:26: FutureWarning: The behavior of DataFrame concatenation with empty or all-NA\n",
       "entries is deprecated. In a future version, this will no longer exclude empty or all-NA columns when determining \n",
       "the result dtypes. To retain the old behavior, exclude the relevant entries before the concat operation.\n",
       "  results = pd.concat([results, normalized_data])\n",
       "</pre>\n"
      ],
      "text/plain": [
       "/tmp/ipykernel_120664/3199749346.py:26: FutureWarning: The behavior of DataFrame concatenation with empty or all-NA\n",
       "entries is deprecated. In a future version, this will no longer exclude empty or all-NA columns when determining \n",
       "the result dtypes. To retain the old behavior, exclude the relevant entries before the concat operation.\n",
       "  results = pd.concat([results, normalized_data])\n"
      ]
     },
     "metadata": {},
     "output_type": "display_data"
    },
    {
     "data": {
      "text/html": [
       "<pre style=\"white-space:pre;overflow-x:auto;line-height:normal;font-family:Menlo,'DejaVu Sans Mono',consolas,'Courier New',monospace\">/tmp/ipykernel_120664/3199749346.py:26: FutureWarning: The behavior of DataFrame concatenation with empty or all-NA\n",
       "entries is deprecated. In a future version, this will no longer exclude empty or all-NA columns when determining \n",
       "the result dtypes. To retain the old behavior, exclude the relevant entries before the concat operation.\n",
       "  results = pd.concat([results, normalized_data])\n",
       "</pre>\n"
      ],
      "text/plain": [
       "/tmp/ipykernel_120664/3199749346.py:26: FutureWarning: The behavior of DataFrame concatenation with empty or all-NA\n",
       "entries is deprecated. In a future version, this will no longer exclude empty or all-NA columns when determining \n",
       "the result dtypes. To retain the old behavior, exclude the relevant entries before the concat operation.\n",
       "  results = pd.concat([results, normalized_data])\n"
      ]
     },
     "metadata": {},
     "output_type": "display_data"
    },
    {
     "data": {
      "text/html": [
       "<pre style=\"white-space:pre;overflow-x:auto;line-height:normal;font-family:Menlo,'DejaVu Sans Mono',consolas,'Courier New',monospace\">/tmp/ipykernel_120664/3199749346.py:26: FutureWarning: The behavior of DataFrame concatenation with empty or all-NA\n",
       "entries is deprecated. In a future version, this will no longer exclude empty or all-NA columns when determining \n",
       "the result dtypes. To retain the old behavior, exclude the relevant entries before the concat operation.\n",
       "  results = pd.concat([results, normalized_data])\n",
       "</pre>\n"
      ],
      "text/plain": [
       "/tmp/ipykernel_120664/3199749346.py:26: FutureWarning: The behavior of DataFrame concatenation with empty or all-NA\n",
       "entries is deprecated. In a future version, this will no longer exclude empty or all-NA columns when determining \n",
       "the result dtypes. To retain the old behavior, exclude the relevant entries before the concat operation.\n",
       "  results = pd.concat([results, normalized_data])\n"
      ]
     },
     "metadata": {},
     "output_type": "display_data"
    },
    {
     "data": {
      "text/html": [
       "<pre style=\"white-space:pre;overflow-x:auto;line-height:normal;font-family:Menlo,'DejaVu Sans Mono',consolas,'Courier New',monospace\">/tmp/ipykernel_120664/3199749346.py:26: FutureWarning: The behavior of DataFrame concatenation with empty or all-NA\n",
       "entries is deprecated. In a future version, this will no longer exclude empty or all-NA columns when determining \n",
       "the result dtypes. To retain the old behavior, exclude the relevant entries before the concat operation.\n",
       "  results = pd.concat([results, normalized_data])\n",
       "</pre>\n"
      ],
      "text/plain": [
       "/tmp/ipykernel_120664/3199749346.py:26: FutureWarning: The behavior of DataFrame concatenation with empty or all-NA\n",
       "entries is deprecated. In a future version, this will no longer exclude empty or all-NA columns when determining \n",
       "the result dtypes. To retain the old behavior, exclude the relevant entries before the concat operation.\n",
       "  results = pd.concat([results, normalized_data])\n"
      ]
     },
     "metadata": {},
     "output_type": "display_data"
    },
    {
     "data": {
      "text/html": [
       "<pre style=\"white-space:pre;overflow-x:auto;line-height:normal;font-family:Menlo,'DejaVu Sans Mono',consolas,'Courier New',monospace\">/tmp/ipykernel_120664/3199749346.py:26: FutureWarning: The behavior of DataFrame concatenation with empty or all-NA\n",
       "entries is deprecated. In a future version, this will no longer exclude empty or all-NA columns when determining \n",
       "the result dtypes. To retain the old behavior, exclude the relevant entries before the concat operation.\n",
       "  results = pd.concat([results, normalized_data])\n",
       "</pre>\n"
      ],
      "text/plain": [
       "/tmp/ipykernel_120664/3199749346.py:26: FutureWarning: The behavior of DataFrame concatenation with empty or all-NA\n",
       "entries is deprecated. In a future version, this will no longer exclude empty or all-NA columns when determining \n",
       "the result dtypes. To retain the old behavior, exclude the relevant entries before the concat operation.\n",
       "  results = pd.concat([results, normalized_data])\n"
      ]
     },
     "metadata": {},
     "output_type": "display_data"
    },
    {
     "data": {
      "text/html": [
       "<pre style=\"white-space:pre;overflow-x:auto;line-height:normal;font-family:Menlo,'DejaVu Sans Mono',consolas,'Courier New',monospace\">/tmp/ipykernel_120664/3199749346.py:26: FutureWarning: The behavior of DataFrame concatenation with empty or all-NA\n",
       "entries is deprecated. In a future version, this will no longer exclude empty or all-NA columns when determining \n",
       "the result dtypes. To retain the old behavior, exclude the relevant entries before the concat operation.\n",
       "  results = pd.concat([results, normalized_data])\n",
       "</pre>\n"
      ],
      "text/plain": [
       "/tmp/ipykernel_120664/3199749346.py:26: FutureWarning: The behavior of DataFrame concatenation with empty or all-NA\n",
       "entries is deprecated. In a future version, this will no longer exclude empty or all-NA columns when determining \n",
       "the result dtypes. To retain the old behavior, exclude the relevant entries before the concat operation.\n",
       "  results = pd.concat([results, normalized_data])\n"
      ]
     },
     "metadata": {},
     "output_type": "display_data"
    },
    {
     "data": {
      "text/html": [
       "<pre style=\"white-space:pre;overflow-x:auto;line-height:normal;font-family:Menlo,'DejaVu Sans Mono',consolas,'Courier New',monospace\">/tmp/ipykernel_120664/3199749346.py:26: FutureWarning: The behavior of DataFrame concatenation with empty or all-NA\n",
       "entries is deprecated. In a future version, this will no longer exclude empty or all-NA columns when determining \n",
       "the result dtypes. To retain the old behavior, exclude the relevant entries before the concat operation.\n",
       "  results = pd.concat([results, normalized_data])\n",
       "</pre>\n"
      ],
      "text/plain": [
       "/tmp/ipykernel_120664/3199749346.py:26: FutureWarning: The behavior of DataFrame concatenation with empty or all-NA\n",
       "entries is deprecated. In a future version, this will no longer exclude empty or all-NA columns when determining \n",
       "the result dtypes. To retain the old behavior, exclude the relevant entries before the concat operation.\n",
       "  results = pd.concat([results, normalized_data])\n"
      ]
     },
     "metadata": {},
     "output_type": "display_data"
    },
    {
     "data": {
      "text/html": [
       "<pre style=\"white-space:pre;overflow-x:auto;line-height:normal;font-family:Menlo,'DejaVu Sans Mono',consolas,'Courier New',monospace\">/tmp/ipykernel_120664/3199749346.py:26: FutureWarning: The behavior of DataFrame concatenation with empty or all-NA\n",
       "entries is deprecated. In a future version, this will no longer exclude empty or all-NA columns when determining \n",
       "the result dtypes. To retain the old behavior, exclude the relevant entries before the concat operation.\n",
       "  results = pd.concat([results, normalized_data])\n",
       "</pre>\n"
      ],
      "text/plain": [
       "/tmp/ipykernel_120664/3199749346.py:26: FutureWarning: The behavior of DataFrame concatenation with empty or all-NA\n",
       "entries is deprecated. In a future version, this will no longer exclude empty or all-NA columns when determining \n",
       "the result dtypes. To retain the old behavior, exclude the relevant entries before the concat operation.\n",
       "  results = pd.concat([results, normalized_data])\n"
      ]
     },
     "metadata": {},
     "output_type": "display_data"
    },
    {
     "data": {
      "text/html": [
       "<pre style=\"white-space:pre;overflow-x:auto;line-height:normal;font-family:Menlo,'DejaVu Sans Mono',consolas,'Courier New',monospace\">/tmp/ipykernel_120664/3199749346.py:26: FutureWarning: The behavior of DataFrame concatenation with empty or all-NA\n",
       "entries is deprecated. In a future version, this will no longer exclude empty or all-NA columns when determining \n",
       "the result dtypes. To retain the old behavior, exclude the relevant entries before the concat operation.\n",
       "  results = pd.concat([results, normalized_data])\n",
       "</pre>\n"
      ],
      "text/plain": [
       "/tmp/ipykernel_120664/3199749346.py:26: FutureWarning: The behavior of DataFrame concatenation with empty or all-NA\n",
       "entries is deprecated. In a future version, this will no longer exclude empty or all-NA columns when determining \n",
       "the result dtypes. To retain the old behavior, exclude the relevant entries before the concat operation.\n",
       "  results = pd.concat([results, normalized_data])\n"
      ]
     },
     "metadata": {},
     "output_type": "display_data"
    },
    {
     "data": {
      "text/html": [
       "<pre style=\"white-space:pre;overflow-x:auto;line-height:normal;font-family:Menlo,'DejaVu Sans Mono',consolas,'Courier New',monospace\">/tmp/ipykernel_120664/3199749346.py:26: FutureWarning: The behavior of DataFrame concatenation with empty or all-NA\n",
       "entries is deprecated. In a future version, this will no longer exclude empty or all-NA columns when determining \n",
       "the result dtypes. To retain the old behavior, exclude the relevant entries before the concat operation.\n",
       "  results = pd.concat([results, normalized_data])\n",
       "</pre>\n"
      ],
      "text/plain": [
       "/tmp/ipykernel_120664/3199749346.py:26: FutureWarning: The behavior of DataFrame concatenation with empty or all-NA\n",
       "entries is deprecated. In a future version, this will no longer exclude empty or all-NA columns when determining \n",
       "the result dtypes. To retain the old behavior, exclude the relevant entries before the concat operation.\n",
       "  results = pd.concat([results, normalized_data])\n"
      ]
     },
     "metadata": {},
     "output_type": "display_data"
    },
    {
     "data": {
      "text/html": [
       "<pre style=\"white-space:pre;overflow-x:auto;line-height:normal;font-family:Menlo,'DejaVu Sans Mono',consolas,'Courier New',monospace\">/tmp/ipykernel_120664/3199749346.py:26: FutureWarning: The behavior of DataFrame concatenation with empty or all-NA\n",
       "entries is deprecated. In a future version, this will no longer exclude empty or all-NA columns when determining \n",
       "the result dtypes. To retain the old behavior, exclude the relevant entries before the concat operation.\n",
       "  results = pd.concat([results, normalized_data])\n",
       "</pre>\n"
      ],
      "text/plain": [
       "/tmp/ipykernel_120664/3199749346.py:26: FutureWarning: The behavior of DataFrame concatenation with empty or all-NA\n",
       "entries is deprecated. In a future version, this will no longer exclude empty or all-NA columns when determining \n",
       "the result dtypes. To retain the old behavior, exclude the relevant entries before the concat operation.\n",
       "  results = pd.concat([results, normalized_data])\n"
      ]
     },
     "metadata": {},
     "output_type": "display_data"
    },
    {
     "data": {
      "text/html": [
       "<pre style=\"white-space:pre;overflow-x:auto;line-height:normal;font-family:Menlo,'DejaVu Sans Mono',consolas,'Courier New',monospace\">/tmp/ipykernel_120664/3199749346.py:26: FutureWarning: The behavior of DataFrame concatenation with empty or all-NA\n",
       "entries is deprecated. In a future version, this will no longer exclude empty or all-NA columns when determining \n",
       "the result dtypes. To retain the old behavior, exclude the relevant entries before the concat operation.\n",
       "  results = pd.concat([results, normalized_data])\n",
       "</pre>\n"
      ],
      "text/plain": [
       "/tmp/ipykernel_120664/3199749346.py:26: FutureWarning: The behavior of DataFrame concatenation with empty or all-NA\n",
       "entries is deprecated. In a future version, this will no longer exclude empty or all-NA columns when determining \n",
       "the result dtypes. To retain the old behavior, exclude the relevant entries before the concat operation.\n",
       "  results = pd.concat([results, normalized_data])\n"
      ]
     },
     "metadata": {},
     "output_type": "display_data"
    },
    {
     "data": {
      "text/html": [
       "<pre style=\"white-space:pre;overflow-x:auto;line-height:normal;font-family:Menlo,'DejaVu Sans Mono',consolas,'Courier New',monospace\">/tmp/ipykernel_120664/3199749346.py:26: FutureWarning: The behavior of DataFrame concatenation with empty or all-NA\n",
       "entries is deprecated. In a future version, this will no longer exclude empty or all-NA columns when determining \n",
       "the result dtypes. To retain the old behavior, exclude the relevant entries before the concat operation.\n",
       "  results = pd.concat([results, normalized_data])\n",
       "</pre>\n"
      ],
      "text/plain": [
       "/tmp/ipykernel_120664/3199749346.py:26: FutureWarning: The behavior of DataFrame concatenation with empty or all-NA\n",
       "entries is deprecated. In a future version, this will no longer exclude empty or all-NA columns when determining \n",
       "the result dtypes. To retain the old behavior, exclude the relevant entries before the concat operation.\n",
       "  results = pd.concat([results, normalized_data])\n"
      ]
     },
     "metadata": {},
     "output_type": "display_data"
    },
    {
     "data": {
      "text/html": [
       "<pre style=\"white-space:pre;overflow-x:auto;line-height:normal;font-family:Menlo,'DejaVu Sans Mono',consolas,'Courier New',monospace\">/tmp/ipykernel_120664/3199749346.py:26: FutureWarning: The behavior of DataFrame concatenation with empty or all-NA\n",
       "entries is deprecated. In a future version, this will no longer exclude empty or all-NA columns when determining \n",
       "the result dtypes. To retain the old behavior, exclude the relevant entries before the concat operation.\n",
       "  results = pd.concat([results, normalized_data])\n",
       "</pre>\n"
      ],
      "text/plain": [
       "/tmp/ipykernel_120664/3199749346.py:26: FutureWarning: The behavior of DataFrame concatenation with empty or all-NA\n",
       "entries is deprecated. In a future version, this will no longer exclude empty or all-NA columns when determining \n",
       "the result dtypes. To retain the old behavior, exclude the relevant entries before the concat operation.\n",
       "  results = pd.concat([results, normalized_data])\n"
      ]
     },
     "metadata": {},
     "output_type": "display_data"
    },
    {
     "data": {
      "text/html": [
       "<pre style=\"white-space:pre;overflow-x:auto;line-height:normal;font-family:Menlo,'DejaVu Sans Mono',consolas,'Courier New',monospace\">/tmp/ipykernel_120664/3199749346.py:26: FutureWarning: The behavior of DataFrame concatenation with empty or all-NA\n",
       "entries is deprecated. In a future version, this will no longer exclude empty or all-NA columns when determining \n",
       "the result dtypes. To retain the old behavior, exclude the relevant entries before the concat operation.\n",
       "  results = pd.concat([results, normalized_data])\n",
       "</pre>\n"
      ],
      "text/plain": [
       "/tmp/ipykernel_120664/3199749346.py:26: FutureWarning: The behavior of DataFrame concatenation with empty or all-NA\n",
       "entries is deprecated. In a future version, this will no longer exclude empty or all-NA columns when determining \n",
       "the result dtypes. To retain the old behavior, exclude the relevant entries before the concat operation.\n",
       "  results = pd.concat([results, normalized_data])\n"
      ]
     },
     "metadata": {},
     "output_type": "display_data"
    },
    {
     "data": {
      "text/html": [
       "<pre style=\"white-space:pre;overflow-x:auto;line-height:normal;font-family:Menlo,'DejaVu Sans Mono',consolas,'Courier New',monospace\">/tmp/ipykernel_120664/3199749346.py:26: FutureWarning: The behavior of DataFrame concatenation with empty or all-NA\n",
       "entries is deprecated. In a future version, this will no longer exclude empty or all-NA columns when determining \n",
       "the result dtypes. To retain the old behavior, exclude the relevant entries before the concat operation.\n",
       "  results = pd.concat([results, normalized_data])\n",
       "</pre>\n"
      ],
      "text/plain": [
       "/tmp/ipykernel_120664/3199749346.py:26: FutureWarning: The behavior of DataFrame concatenation with empty or all-NA\n",
       "entries is deprecated. In a future version, this will no longer exclude empty or all-NA columns when determining \n",
       "the result dtypes. To retain the old behavior, exclude the relevant entries before the concat operation.\n",
       "  results = pd.concat([results, normalized_data])\n"
      ]
     },
     "metadata": {},
     "output_type": "display_data"
    },
    {
     "data": {
      "text/html": [
       "<pre style=\"white-space:pre;overflow-x:auto;line-height:normal;font-family:Menlo,'DejaVu Sans Mono',consolas,'Courier New',monospace\">/tmp/ipykernel_120664/3199749346.py:26: FutureWarning: The behavior of DataFrame concatenation with empty or all-NA\n",
       "entries is deprecated. In a future version, this will no longer exclude empty or all-NA columns when determining \n",
       "the result dtypes. To retain the old behavior, exclude the relevant entries before the concat operation.\n",
       "  results = pd.concat([results, normalized_data])\n",
       "</pre>\n"
      ],
      "text/plain": [
       "/tmp/ipykernel_120664/3199749346.py:26: FutureWarning: The behavior of DataFrame concatenation with empty or all-NA\n",
       "entries is deprecated. In a future version, this will no longer exclude empty or all-NA columns when determining \n",
       "the result dtypes. To retain the old behavior, exclude the relevant entries before the concat operation.\n",
       "  results = pd.concat([results, normalized_data])\n"
      ]
     },
     "metadata": {},
     "output_type": "display_data"
    },
    {
     "data": {
      "text/html": [
       "<pre style=\"white-space:pre;overflow-x:auto;line-height:normal;font-family:Menlo,'DejaVu Sans Mono',consolas,'Courier New',monospace\">/tmp/ipykernel_120664/3199749346.py:26: FutureWarning: The behavior of DataFrame concatenation with empty or all-NA\n",
       "entries is deprecated. In a future version, this will no longer exclude empty or all-NA columns when determining \n",
       "the result dtypes. To retain the old behavior, exclude the relevant entries before the concat operation.\n",
       "  results = pd.concat([results, normalized_data])\n",
       "</pre>\n"
      ],
      "text/plain": [
       "/tmp/ipykernel_120664/3199749346.py:26: FutureWarning: The behavior of DataFrame concatenation with empty or all-NA\n",
       "entries is deprecated. In a future version, this will no longer exclude empty or all-NA columns when determining \n",
       "the result dtypes. To retain the old behavior, exclude the relevant entries before the concat operation.\n",
       "  results = pd.concat([results, normalized_data])\n"
      ]
     },
     "metadata": {},
     "output_type": "display_data"
    },
    {
     "data": {
      "text/html": [
       "<pre style=\"white-space:pre;overflow-x:auto;line-height:normal;font-family:Menlo,'DejaVu Sans Mono',consolas,'Courier New',monospace\">/tmp/ipykernel_120664/3199749346.py:26: FutureWarning: The behavior of DataFrame concatenation with empty or all-NA\n",
       "entries is deprecated. In a future version, this will no longer exclude empty or all-NA columns when determining \n",
       "the result dtypes. To retain the old behavior, exclude the relevant entries before the concat operation.\n",
       "  results = pd.concat([results, normalized_data])\n",
       "</pre>\n"
      ],
      "text/plain": [
       "/tmp/ipykernel_120664/3199749346.py:26: FutureWarning: The behavior of DataFrame concatenation with empty or all-NA\n",
       "entries is deprecated. In a future version, this will no longer exclude empty or all-NA columns when determining \n",
       "the result dtypes. To retain the old behavior, exclude the relevant entries before the concat operation.\n",
       "  results = pd.concat([results, normalized_data])\n"
      ]
     },
     "metadata": {},
     "output_type": "display_data"
    },
    {
     "data": {
      "text/html": [
       "<pre style=\"white-space:pre;overflow-x:auto;line-height:normal;font-family:Menlo,'DejaVu Sans Mono',consolas,'Courier New',monospace\">/tmp/ipykernel_120664/3199749346.py:26: FutureWarning: The behavior of DataFrame concatenation with empty or all-NA\n",
       "entries is deprecated. In a future version, this will no longer exclude empty or all-NA columns when determining \n",
       "the result dtypes. To retain the old behavior, exclude the relevant entries before the concat operation.\n",
       "  results = pd.concat([results, normalized_data])\n",
       "</pre>\n"
      ],
      "text/plain": [
       "/tmp/ipykernel_120664/3199749346.py:26: FutureWarning: The behavior of DataFrame concatenation with empty or all-NA\n",
       "entries is deprecated. In a future version, this will no longer exclude empty or all-NA columns when determining \n",
       "the result dtypes. To retain the old behavior, exclude the relevant entries before the concat operation.\n",
       "  results = pd.concat([results, normalized_data])\n"
      ]
     },
     "metadata": {},
     "output_type": "display_data"
    },
    {
     "data": {
      "text/html": [
       "<pre style=\"white-space:pre;overflow-x:auto;line-height:normal;font-family:Menlo,'DejaVu Sans Mono',consolas,'Courier New',monospace\">/tmp/ipykernel_120664/3199749346.py:26: FutureWarning: The behavior of DataFrame concatenation with empty or all-NA\n",
       "entries is deprecated. In a future version, this will no longer exclude empty or all-NA columns when determining \n",
       "the result dtypes. To retain the old behavior, exclude the relevant entries before the concat operation.\n",
       "  results = pd.concat([results, normalized_data])\n",
       "</pre>\n"
      ],
      "text/plain": [
       "/tmp/ipykernel_120664/3199749346.py:26: FutureWarning: The behavior of DataFrame concatenation with empty or all-NA\n",
       "entries is deprecated. In a future version, this will no longer exclude empty or all-NA columns when determining \n",
       "the result dtypes. To retain the old behavior, exclude the relevant entries before the concat operation.\n",
       "  results = pd.concat([results, normalized_data])\n"
      ]
     },
     "metadata": {},
     "output_type": "display_data"
    },
    {
     "data": {
      "text/html": [
       "<pre style=\"white-space:pre;overflow-x:auto;line-height:normal;font-family:Menlo,'DejaVu Sans Mono',consolas,'Courier New',monospace\">/tmp/ipykernel_120664/3199749346.py:26: FutureWarning: The behavior of DataFrame concatenation with empty or all-NA\n",
       "entries is deprecated. In a future version, this will no longer exclude empty or all-NA columns when determining \n",
       "the result dtypes. To retain the old behavior, exclude the relevant entries before the concat operation.\n",
       "  results = pd.concat([results, normalized_data])\n",
       "</pre>\n"
      ],
      "text/plain": [
       "/tmp/ipykernel_120664/3199749346.py:26: FutureWarning: The behavior of DataFrame concatenation with empty or all-NA\n",
       "entries is deprecated. In a future version, this will no longer exclude empty or all-NA columns when determining \n",
       "the result dtypes. To retain the old behavior, exclude the relevant entries before the concat operation.\n",
       "  results = pd.concat([results, normalized_data])\n"
      ]
     },
     "metadata": {},
     "output_type": "display_data"
    },
    {
     "data": {
      "text/html": [
       "<pre style=\"white-space:pre;overflow-x:auto;line-height:normal;font-family:Menlo,'DejaVu Sans Mono',consolas,'Courier New',monospace\">/tmp/ipykernel_120664/3199749346.py:26: FutureWarning: The behavior of DataFrame concatenation with empty or all-NA\n",
       "entries is deprecated. In a future version, this will no longer exclude empty or all-NA columns when determining \n",
       "the result dtypes. To retain the old behavior, exclude the relevant entries before the concat operation.\n",
       "  results = pd.concat([results, normalized_data])\n",
       "</pre>\n"
      ],
      "text/plain": [
       "/tmp/ipykernel_120664/3199749346.py:26: FutureWarning: The behavior of DataFrame concatenation with empty or all-NA\n",
       "entries is deprecated. In a future version, this will no longer exclude empty or all-NA columns when determining \n",
       "the result dtypes. To retain the old behavior, exclude the relevant entries before the concat operation.\n",
       "  results = pd.concat([results, normalized_data])\n"
      ]
     },
     "metadata": {},
     "output_type": "display_data"
    },
    {
     "data": {
      "text/html": [
       "<pre style=\"white-space:pre;overflow-x:auto;line-height:normal;font-family:Menlo,'DejaVu Sans Mono',consolas,'Courier New',monospace\">/tmp/ipykernel_120664/3199749346.py:26: FutureWarning: The behavior of DataFrame concatenation with empty or all-NA\n",
       "entries is deprecated. In a future version, this will no longer exclude empty or all-NA columns when determining \n",
       "the result dtypes. To retain the old behavior, exclude the relevant entries before the concat operation.\n",
       "  results = pd.concat([results, normalized_data])\n",
       "</pre>\n"
      ],
      "text/plain": [
       "/tmp/ipykernel_120664/3199749346.py:26: FutureWarning: The behavior of DataFrame concatenation with empty or all-NA\n",
       "entries is deprecated. In a future version, this will no longer exclude empty or all-NA columns when determining \n",
       "the result dtypes. To retain the old behavior, exclude the relevant entries before the concat operation.\n",
       "  results = pd.concat([results, normalized_data])\n"
      ]
     },
     "metadata": {},
     "output_type": "display_data"
    },
    {
     "data": {
      "text/html": [
       "<pre style=\"white-space:pre;overflow-x:auto;line-height:normal;font-family:Menlo,'DejaVu Sans Mono',consolas,'Courier New',monospace\">/tmp/ipykernel_120664/3199749346.py:26: FutureWarning: The behavior of DataFrame concatenation with empty or all-NA\n",
       "entries is deprecated. In a future version, this will no longer exclude empty or all-NA columns when determining \n",
       "the result dtypes. To retain the old behavior, exclude the relevant entries before the concat operation.\n",
       "  results = pd.concat([results, normalized_data])\n",
       "</pre>\n"
      ],
      "text/plain": [
       "/tmp/ipykernel_120664/3199749346.py:26: FutureWarning: The behavior of DataFrame concatenation with empty or all-NA\n",
       "entries is deprecated. In a future version, this will no longer exclude empty or all-NA columns when determining \n",
       "the result dtypes. To retain the old behavior, exclude the relevant entries before the concat operation.\n",
       "  results = pd.concat([results, normalized_data])\n"
      ]
     },
     "metadata": {},
     "output_type": "display_data"
    },
    {
     "data": {
      "text/html": [
       "<pre style=\"white-space:pre;overflow-x:auto;line-height:normal;font-family:Menlo,'DejaVu Sans Mono',consolas,'Courier New',monospace\">/tmp/ipykernel_120664/3199749346.py:26: FutureWarning: The behavior of DataFrame concatenation with empty or all-NA\n",
       "entries is deprecated. In a future version, this will no longer exclude empty or all-NA columns when determining \n",
       "the result dtypes. To retain the old behavior, exclude the relevant entries before the concat operation.\n",
       "  results = pd.concat([results, normalized_data])\n",
       "</pre>\n"
      ],
      "text/plain": [
       "/tmp/ipykernel_120664/3199749346.py:26: FutureWarning: The behavior of DataFrame concatenation with empty or all-NA\n",
       "entries is deprecated. In a future version, this will no longer exclude empty or all-NA columns when determining \n",
       "the result dtypes. To retain the old behavior, exclude the relevant entries before the concat operation.\n",
       "  results = pd.concat([results, normalized_data])\n"
      ]
     },
     "metadata": {},
     "output_type": "display_data"
    },
    {
     "data": {
      "text/html": [
       "<pre style=\"white-space:pre;overflow-x:auto;line-height:normal;font-family:Menlo,'DejaVu Sans Mono',consolas,'Courier New',monospace\">/tmp/ipykernel_120664/3199749346.py:26: FutureWarning: The behavior of DataFrame concatenation with empty or all-NA\n",
       "entries is deprecated. In a future version, this will no longer exclude empty or all-NA columns when determining \n",
       "the result dtypes. To retain the old behavior, exclude the relevant entries before the concat operation.\n",
       "  results = pd.concat([results, normalized_data])\n",
       "</pre>\n"
      ],
      "text/plain": [
       "/tmp/ipykernel_120664/3199749346.py:26: FutureWarning: The behavior of DataFrame concatenation with empty or all-NA\n",
       "entries is deprecated. In a future version, this will no longer exclude empty or all-NA columns when determining \n",
       "the result dtypes. To retain the old behavior, exclude the relevant entries before the concat operation.\n",
       "  results = pd.concat([results, normalized_data])\n"
      ]
     },
     "metadata": {},
     "output_type": "display_data"
    },
    {
     "data": {
      "text/html": [
       "<pre style=\"white-space:pre;overflow-x:auto;line-height:normal;font-family:Menlo,'DejaVu Sans Mono',consolas,'Courier New',monospace\">/tmp/ipykernel_120664/3199749346.py:26: FutureWarning: The behavior of DataFrame concatenation with empty or all-NA\n",
       "entries is deprecated. In a future version, this will no longer exclude empty or all-NA columns when determining \n",
       "the result dtypes. To retain the old behavior, exclude the relevant entries before the concat operation.\n",
       "  results = pd.concat([results, normalized_data])\n",
       "</pre>\n"
      ],
      "text/plain": [
       "/tmp/ipykernel_120664/3199749346.py:26: FutureWarning: The behavior of DataFrame concatenation with empty or all-NA\n",
       "entries is deprecated. In a future version, this will no longer exclude empty or all-NA columns when determining \n",
       "the result dtypes. To retain the old behavior, exclude the relevant entries before the concat operation.\n",
       "  results = pd.concat([results, normalized_data])\n"
      ]
     },
     "metadata": {},
     "output_type": "display_data"
    },
    {
     "data": {
      "text/html": [
       "<pre style=\"white-space:pre;overflow-x:auto;line-height:normal;font-family:Menlo,'DejaVu Sans Mono',consolas,'Courier New',monospace\">/tmp/ipykernel_120664/3199749346.py:26: FutureWarning: The behavior of DataFrame concatenation with empty or all-NA\n",
       "entries is deprecated. In a future version, this will no longer exclude empty or all-NA columns when determining \n",
       "the result dtypes. To retain the old behavior, exclude the relevant entries before the concat operation.\n",
       "  results = pd.concat([results, normalized_data])\n",
       "</pre>\n"
      ],
      "text/plain": [
       "/tmp/ipykernel_120664/3199749346.py:26: FutureWarning: The behavior of DataFrame concatenation with empty or all-NA\n",
       "entries is deprecated. In a future version, this will no longer exclude empty or all-NA columns when determining \n",
       "the result dtypes. To retain the old behavior, exclude the relevant entries before the concat operation.\n",
       "  results = pd.concat([results, normalized_data])\n"
      ]
     },
     "metadata": {},
     "output_type": "display_data"
    },
    {
     "data": {
      "text/html": [
       "<pre style=\"white-space:pre;overflow-x:auto;line-height:normal;font-family:Menlo,'DejaVu Sans Mono',consolas,'Courier New',monospace\">/tmp/ipykernel_120664/3199749346.py:26: FutureWarning: The behavior of DataFrame concatenation with empty or all-NA\n",
       "entries is deprecated. In a future version, this will no longer exclude empty or all-NA columns when determining \n",
       "the result dtypes. To retain the old behavior, exclude the relevant entries before the concat operation.\n",
       "  results = pd.concat([results, normalized_data])\n",
       "</pre>\n"
      ],
      "text/plain": [
       "/tmp/ipykernel_120664/3199749346.py:26: FutureWarning: The behavior of DataFrame concatenation with empty or all-NA\n",
       "entries is deprecated. In a future version, this will no longer exclude empty or all-NA columns when determining \n",
       "the result dtypes. To retain the old behavior, exclude the relevant entries before the concat operation.\n",
       "  results = pd.concat([results, normalized_data])\n"
      ]
     },
     "metadata": {},
     "output_type": "display_data"
    },
    {
     "data": {
      "text/html": [
       "<pre style=\"white-space:pre;overflow-x:auto;line-height:normal;font-family:Menlo,'DejaVu Sans Mono',consolas,'Courier New',monospace\">/tmp/ipykernel_120664/3199749346.py:26: FutureWarning: The behavior of DataFrame concatenation with empty or all-NA\n",
       "entries is deprecated. In a future version, this will no longer exclude empty or all-NA columns when determining \n",
       "the result dtypes. To retain the old behavior, exclude the relevant entries before the concat operation.\n",
       "  results = pd.concat([results, normalized_data])\n",
       "</pre>\n"
      ],
      "text/plain": [
       "/tmp/ipykernel_120664/3199749346.py:26: FutureWarning: The behavior of DataFrame concatenation with empty or all-NA\n",
       "entries is deprecated. In a future version, this will no longer exclude empty or all-NA columns when determining \n",
       "the result dtypes. To retain the old behavior, exclude the relevant entries before the concat operation.\n",
       "  results = pd.concat([results, normalized_data])\n"
      ]
     },
     "metadata": {},
     "output_type": "display_data"
    },
    {
     "data": {
      "text/html": [
       "<pre style=\"white-space:pre;overflow-x:auto;line-height:normal;font-family:Menlo,'DejaVu Sans Mono',consolas,'Courier New',monospace\">/tmp/ipykernel_120664/3199749346.py:26: FutureWarning: The behavior of DataFrame concatenation with empty or all-NA\n",
       "entries is deprecated. In a future version, this will no longer exclude empty or all-NA columns when determining \n",
       "the result dtypes. To retain the old behavior, exclude the relevant entries before the concat operation.\n",
       "  results = pd.concat([results, normalized_data])\n",
       "</pre>\n"
      ],
      "text/plain": [
       "/tmp/ipykernel_120664/3199749346.py:26: FutureWarning: The behavior of DataFrame concatenation with empty or all-NA\n",
       "entries is deprecated. In a future version, this will no longer exclude empty or all-NA columns when determining \n",
       "the result dtypes. To retain the old behavior, exclude the relevant entries before the concat operation.\n",
       "  results = pd.concat([results, normalized_data])\n"
      ]
     },
     "metadata": {},
     "output_type": "display_data"
    },
    {
     "data": {
      "text/html": [
       "<pre style=\"white-space:pre;overflow-x:auto;line-height:normal;font-family:Menlo,'DejaVu Sans Mono',consolas,'Courier New',monospace\">/tmp/ipykernel_120664/3199749346.py:26: FutureWarning: The behavior of DataFrame concatenation with empty or all-NA\n",
       "entries is deprecated. In a future version, this will no longer exclude empty or all-NA columns when determining \n",
       "the result dtypes. To retain the old behavior, exclude the relevant entries before the concat operation.\n",
       "  results = pd.concat([results, normalized_data])\n",
       "</pre>\n"
      ],
      "text/plain": [
       "/tmp/ipykernel_120664/3199749346.py:26: FutureWarning: The behavior of DataFrame concatenation with empty or all-NA\n",
       "entries is deprecated. In a future version, this will no longer exclude empty or all-NA columns when determining \n",
       "the result dtypes. To retain the old behavior, exclude the relevant entries before the concat operation.\n",
       "  results = pd.concat([results, normalized_data])\n"
      ]
     },
     "metadata": {},
     "output_type": "display_data"
    },
    {
     "data": {
      "text/html": [
       "<pre style=\"white-space:pre;overflow-x:auto;line-height:normal;font-family:Menlo,'DejaVu Sans Mono',consolas,'Courier New',monospace\">/tmp/ipykernel_120664/3199749346.py:26: FutureWarning: The behavior of DataFrame concatenation with empty or all-NA\n",
       "entries is deprecated. In a future version, this will no longer exclude empty or all-NA columns when determining \n",
       "the result dtypes. To retain the old behavior, exclude the relevant entries before the concat operation.\n",
       "  results = pd.concat([results, normalized_data])\n",
       "</pre>\n"
      ],
      "text/plain": [
       "/tmp/ipykernel_120664/3199749346.py:26: FutureWarning: The behavior of DataFrame concatenation with empty or all-NA\n",
       "entries is deprecated. In a future version, this will no longer exclude empty or all-NA columns when determining \n",
       "the result dtypes. To retain the old behavior, exclude the relevant entries before the concat operation.\n",
       "  results = pd.concat([results, normalized_data])\n"
      ]
     },
     "metadata": {},
     "output_type": "display_data"
    },
    {
     "data": {
      "text/html": [
       "<pre style=\"white-space:pre;overflow-x:auto;line-height:normal;font-family:Menlo,'DejaVu Sans Mono',consolas,'Courier New',monospace\">/tmp/ipykernel_120664/3199749346.py:26: FutureWarning: The behavior of DataFrame concatenation with empty or all-NA\n",
       "entries is deprecated. In a future version, this will no longer exclude empty or all-NA columns when determining \n",
       "the result dtypes. To retain the old behavior, exclude the relevant entries before the concat operation.\n",
       "  results = pd.concat([results, normalized_data])\n",
       "</pre>\n"
      ],
      "text/plain": [
       "/tmp/ipykernel_120664/3199749346.py:26: FutureWarning: The behavior of DataFrame concatenation with empty or all-NA\n",
       "entries is deprecated. In a future version, this will no longer exclude empty or all-NA columns when determining \n",
       "the result dtypes. To retain the old behavior, exclude the relevant entries before the concat operation.\n",
       "  results = pd.concat([results, normalized_data])\n"
      ]
     },
     "metadata": {},
     "output_type": "display_data"
    },
    {
     "data": {
      "text/html": [
       "<pre style=\"white-space:pre;overflow-x:auto;line-height:normal;font-family:Menlo,'DejaVu Sans Mono',consolas,'Courier New',monospace\">/tmp/ipykernel_120664/3199749346.py:26: FutureWarning: The behavior of DataFrame concatenation with empty or all-NA\n",
       "entries is deprecated. In a future version, this will no longer exclude empty or all-NA columns when determining \n",
       "the result dtypes. To retain the old behavior, exclude the relevant entries before the concat operation.\n",
       "  results = pd.concat([results, normalized_data])\n",
       "</pre>\n"
      ],
      "text/plain": [
       "/tmp/ipykernel_120664/3199749346.py:26: FutureWarning: The behavior of DataFrame concatenation with empty or all-NA\n",
       "entries is deprecated. In a future version, this will no longer exclude empty or all-NA columns when determining \n",
       "the result dtypes. To retain the old behavior, exclude the relevant entries before the concat operation.\n",
       "  results = pd.concat([results, normalized_data])\n"
      ]
     },
     "metadata": {},
     "output_type": "display_data"
    },
    {
     "data": {
      "text/html": [
       "<pre style=\"white-space:pre;overflow-x:auto;line-height:normal;font-family:Menlo,'DejaVu Sans Mono',consolas,'Courier New',monospace\">/tmp/ipykernel_120664/3199749346.py:26: FutureWarning: The behavior of DataFrame concatenation with empty or all-NA\n",
       "entries is deprecated. In a future version, this will no longer exclude empty or all-NA columns when determining \n",
       "the result dtypes. To retain the old behavior, exclude the relevant entries before the concat operation.\n",
       "  results = pd.concat([results, normalized_data])\n",
       "</pre>\n"
      ],
      "text/plain": [
       "/tmp/ipykernel_120664/3199749346.py:26: FutureWarning: The behavior of DataFrame concatenation with empty or all-NA\n",
       "entries is deprecated. In a future version, this will no longer exclude empty or all-NA columns when determining \n",
       "the result dtypes. To retain the old behavior, exclude the relevant entries before the concat operation.\n",
       "  results = pd.concat([results, normalized_data])\n"
      ]
     },
     "metadata": {},
     "output_type": "display_data"
    },
    {
     "data": {
      "text/html": [
       "<pre style=\"white-space:pre;overflow-x:auto;line-height:normal;font-family:Menlo,'DejaVu Sans Mono',consolas,'Courier New',monospace\">/tmp/ipykernel_120664/3199749346.py:26: FutureWarning: The behavior of DataFrame concatenation with empty or all-NA\n",
       "entries is deprecated. In a future version, this will no longer exclude empty or all-NA columns when determining \n",
       "the result dtypes. To retain the old behavior, exclude the relevant entries before the concat operation.\n",
       "  results = pd.concat([results, normalized_data])\n",
       "</pre>\n"
      ],
      "text/plain": [
       "/tmp/ipykernel_120664/3199749346.py:26: FutureWarning: The behavior of DataFrame concatenation with empty or all-NA\n",
       "entries is deprecated. In a future version, this will no longer exclude empty or all-NA columns when determining \n",
       "the result dtypes. To retain the old behavior, exclude the relevant entries before the concat operation.\n",
       "  results = pd.concat([results, normalized_data])\n"
      ]
     },
     "metadata": {},
     "output_type": "display_data"
    },
    {
     "data": {
      "text/html": [
       "<pre style=\"white-space:pre;overflow-x:auto;line-height:normal;font-family:Menlo,'DejaVu Sans Mono',consolas,'Courier New',monospace\">/tmp/ipykernel_120664/3199749346.py:26: FutureWarning: The behavior of DataFrame concatenation with empty or all-NA\n",
       "entries is deprecated. In a future version, this will no longer exclude empty or all-NA columns when determining \n",
       "the result dtypes. To retain the old behavior, exclude the relevant entries before the concat operation.\n",
       "  results = pd.concat([results, normalized_data])\n",
       "</pre>\n"
      ],
      "text/plain": [
       "/tmp/ipykernel_120664/3199749346.py:26: FutureWarning: The behavior of DataFrame concatenation with empty or all-NA\n",
       "entries is deprecated. In a future version, this will no longer exclude empty or all-NA columns when determining \n",
       "the result dtypes. To retain the old behavior, exclude the relevant entries before the concat operation.\n",
       "  results = pd.concat([results, normalized_data])\n"
      ]
     },
     "metadata": {},
     "output_type": "display_data"
    },
    {
     "data": {
      "text/html": [
       "<pre style=\"white-space:pre;overflow-x:auto;line-height:normal;font-family:Menlo,'DejaVu Sans Mono',consolas,'Courier New',monospace\">/tmp/ipykernel_120664/3199749346.py:26: FutureWarning: The behavior of DataFrame concatenation with empty or all-NA\n",
       "entries is deprecated. In a future version, this will no longer exclude empty or all-NA columns when determining \n",
       "the result dtypes. To retain the old behavior, exclude the relevant entries before the concat operation.\n",
       "  results = pd.concat([results, normalized_data])\n",
       "</pre>\n"
      ],
      "text/plain": [
       "/tmp/ipykernel_120664/3199749346.py:26: FutureWarning: The behavior of DataFrame concatenation with empty or all-NA\n",
       "entries is deprecated. In a future version, this will no longer exclude empty or all-NA columns when determining \n",
       "the result dtypes. To retain the old behavior, exclude the relevant entries before the concat operation.\n",
       "  results = pd.concat([results, normalized_data])\n"
      ]
     },
     "metadata": {},
     "output_type": "display_data"
    },
    {
     "data": {
      "text/html": [
       "<pre style=\"white-space:pre;overflow-x:auto;line-height:normal;font-family:Menlo,'DejaVu Sans Mono',consolas,'Courier New',monospace\">/tmp/ipykernel_120664/3199749346.py:26: FutureWarning: The behavior of DataFrame concatenation with empty or all-NA\n",
       "entries is deprecated. In a future version, this will no longer exclude empty or all-NA columns when determining \n",
       "the result dtypes. To retain the old behavior, exclude the relevant entries before the concat operation.\n",
       "  results = pd.concat([results, normalized_data])\n",
       "</pre>\n"
      ],
      "text/plain": [
       "/tmp/ipykernel_120664/3199749346.py:26: FutureWarning: The behavior of DataFrame concatenation with empty or all-NA\n",
       "entries is deprecated. In a future version, this will no longer exclude empty or all-NA columns when determining \n",
       "the result dtypes. To retain the old behavior, exclude the relevant entries before the concat operation.\n",
       "  results = pd.concat([results, normalized_data])\n"
      ]
     },
     "metadata": {},
     "output_type": "display_data"
    },
    {
     "data": {
      "text/html": [
       "<pre style=\"white-space:pre;overflow-x:auto;line-height:normal;font-family:Menlo,'DejaVu Sans Mono',consolas,'Courier New',monospace\">/tmp/ipykernel_120664/3199749346.py:26: FutureWarning: The behavior of DataFrame concatenation with empty or all-NA\n",
       "entries is deprecated. In a future version, this will no longer exclude empty or all-NA columns when determining \n",
       "the result dtypes. To retain the old behavior, exclude the relevant entries before the concat operation.\n",
       "  results = pd.concat([results, normalized_data])\n",
       "</pre>\n"
      ],
      "text/plain": [
       "/tmp/ipykernel_120664/3199749346.py:26: FutureWarning: The behavior of DataFrame concatenation with empty or all-NA\n",
       "entries is deprecated. In a future version, this will no longer exclude empty or all-NA columns when determining \n",
       "the result dtypes. To retain the old behavior, exclude the relevant entries before the concat operation.\n",
       "  results = pd.concat([results, normalized_data])\n"
      ]
     },
     "metadata": {},
     "output_type": "display_data"
    },
    {
     "data": {
      "text/html": [
       "<pre style=\"white-space:pre;overflow-x:auto;line-height:normal;font-family:Menlo,'DejaVu Sans Mono',consolas,'Courier New',monospace\">/tmp/ipykernel_120664/3199749346.py:26: FutureWarning: The behavior of DataFrame concatenation with empty or all-NA\n",
       "entries is deprecated. In a future version, this will no longer exclude empty or all-NA columns when determining \n",
       "the result dtypes. To retain the old behavior, exclude the relevant entries before the concat operation.\n",
       "  results = pd.concat([results, normalized_data])\n",
       "</pre>\n"
      ],
      "text/plain": [
       "/tmp/ipykernel_120664/3199749346.py:26: FutureWarning: The behavior of DataFrame concatenation with empty or all-NA\n",
       "entries is deprecated. In a future version, this will no longer exclude empty or all-NA columns when determining \n",
       "the result dtypes. To retain the old behavior, exclude the relevant entries before the concat operation.\n",
       "  results = pd.concat([results, normalized_data])\n"
      ]
     },
     "metadata": {},
     "output_type": "display_data"
    },
    {
     "data": {
      "text/html": [
       "<pre style=\"white-space:pre;overflow-x:auto;line-height:normal;font-family:Menlo,'DejaVu Sans Mono',consolas,'Courier New',monospace\">/tmp/ipykernel_120664/3199749346.py:26: FutureWarning: The behavior of DataFrame concatenation with empty or all-NA\n",
       "entries is deprecated. In a future version, this will no longer exclude empty or all-NA columns when determining \n",
       "the result dtypes. To retain the old behavior, exclude the relevant entries before the concat operation.\n",
       "  results = pd.concat([results, normalized_data])\n",
       "</pre>\n"
      ],
      "text/plain": [
       "/tmp/ipykernel_120664/3199749346.py:26: FutureWarning: The behavior of DataFrame concatenation with empty or all-NA\n",
       "entries is deprecated. In a future version, this will no longer exclude empty or all-NA columns when determining \n",
       "the result dtypes. To retain the old behavior, exclude the relevant entries before the concat operation.\n",
       "  results = pd.concat([results, normalized_data])\n"
      ]
     },
     "metadata": {},
     "output_type": "display_data"
    },
    {
     "data": {
      "text/html": [
       "<pre style=\"white-space:pre;overflow-x:auto;line-height:normal;font-family:Menlo,'DejaVu Sans Mono',consolas,'Courier New',monospace\">/tmp/ipykernel_120664/3199749346.py:26: FutureWarning: The behavior of DataFrame concatenation with empty or all-NA\n",
       "entries is deprecated. In a future version, this will no longer exclude empty or all-NA columns when determining \n",
       "the result dtypes. To retain the old behavior, exclude the relevant entries before the concat operation.\n",
       "  results = pd.concat([results, normalized_data])\n",
       "</pre>\n"
      ],
      "text/plain": [
       "/tmp/ipykernel_120664/3199749346.py:26: FutureWarning: The behavior of DataFrame concatenation with empty or all-NA\n",
       "entries is deprecated. In a future version, this will no longer exclude empty or all-NA columns when determining \n",
       "the result dtypes. To retain the old behavior, exclude the relevant entries before the concat operation.\n",
       "  results = pd.concat([results, normalized_data])\n"
      ]
     },
     "metadata": {},
     "output_type": "display_data"
    },
    {
     "data": {
      "text/html": [
       "<pre style=\"white-space:pre;overflow-x:auto;line-height:normal;font-family:Menlo,'DejaVu Sans Mono',consolas,'Courier New',monospace\">/tmp/ipykernel_120664/3199749346.py:26: FutureWarning: The behavior of DataFrame concatenation with empty or all-NA\n",
       "entries is deprecated. In a future version, this will no longer exclude empty or all-NA columns when determining \n",
       "the result dtypes. To retain the old behavior, exclude the relevant entries before the concat operation.\n",
       "  results = pd.concat([results, normalized_data])\n",
       "</pre>\n"
      ],
      "text/plain": [
       "/tmp/ipykernel_120664/3199749346.py:26: FutureWarning: The behavior of DataFrame concatenation with empty or all-NA\n",
       "entries is deprecated. In a future version, this will no longer exclude empty or all-NA columns when determining \n",
       "the result dtypes. To retain the old behavior, exclude the relevant entries before the concat operation.\n",
       "  results = pd.concat([results, normalized_data])\n"
      ]
     },
     "metadata": {},
     "output_type": "display_data"
    },
    {
     "data": {
      "text/html": [
       "<pre style=\"white-space:pre;overflow-x:auto;line-height:normal;font-family:Menlo,'DejaVu Sans Mono',consolas,'Courier New',monospace\">/tmp/ipykernel_120664/3199749346.py:26: FutureWarning: The behavior of DataFrame concatenation with empty or all-NA\n",
       "entries is deprecated. In a future version, this will no longer exclude empty or all-NA columns when determining \n",
       "the result dtypes. To retain the old behavior, exclude the relevant entries before the concat operation.\n",
       "  results = pd.concat([results, normalized_data])\n",
       "</pre>\n"
      ],
      "text/plain": [
       "/tmp/ipykernel_120664/3199749346.py:26: FutureWarning: The behavior of DataFrame concatenation with empty or all-NA\n",
       "entries is deprecated. In a future version, this will no longer exclude empty or all-NA columns when determining \n",
       "the result dtypes. To retain the old behavior, exclude the relevant entries before the concat operation.\n",
       "  results = pd.concat([results, normalized_data])\n"
      ]
     },
     "metadata": {},
     "output_type": "display_data"
    },
    {
     "data": {
      "text/html": [
       "<pre style=\"white-space:pre;overflow-x:auto;line-height:normal;font-family:Menlo,'DejaVu Sans Mono',consolas,'Courier New',monospace\">/tmp/ipykernel_120664/3199749346.py:26: FutureWarning: The behavior of DataFrame concatenation with empty or all-NA\n",
       "entries is deprecated. In a future version, this will no longer exclude empty or all-NA columns when determining \n",
       "the result dtypes. To retain the old behavior, exclude the relevant entries before the concat operation.\n",
       "  results = pd.concat([results, normalized_data])\n",
       "</pre>\n"
      ],
      "text/plain": [
       "/tmp/ipykernel_120664/3199749346.py:26: FutureWarning: The behavior of DataFrame concatenation with empty or all-NA\n",
       "entries is deprecated. In a future version, this will no longer exclude empty or all-NA columns when determining \n",
       "the result dtypes. To retain the old behavior, exclude the relevant entries before the concat operation.\n",
       "  results = pd.concat([results, normalized_data])\n"
      ]
     },
     "metadata": {},
     "output_type": "display_data"
    },
    {
     "data": {
      "text/html": [
       "<pre style=\"white-space:pre;overflow-x:auto;line-height:normal;font-family:Menlo,'DejaVu Sans Mono',consolas,'Courier New',monospace\">/tmp/ipykernel_120664/3199749346.py:26: FutureWarning: The behavior of DataFrame concatenation with empty or all-NA\n",
       "entries is deprecated. In a future version, this will no longer exclude empty or all-NA columns when determining \n",
       "the result dtypes. To retain the old behavior, exclude the relevant entries before the concat operation.\n",
       "  results = pd.concat([results, normalized_data])\n",
       "</pre>\n"
      ],
      "text/plain": [
       "/tmp/ipykernel_120664/3199749346.py:26: FutureWarning: The behavior of DataFrame concatenation with empty or all-NA\n",
       "entries is deprecated. In a future version, this will no longer exclude empty or all-NA columns when determining \n",
       "the result dtypes. To retain the old behavior, exclude the relevant entries before the concat operation.\n",
       "  results = pd.concat([results, normalized_data])\n"
      ]
     },
     "metadata": {},
     "output_type": "display_data"
    },
    {
     "data": {
      "text/html": [
       "<pre style=\"white-space:pre;overflow-x:auto;line-height:normal;font-family:Menlo,'DejaVu Sans Mono',consolas,'Courier New',monospace\">/tmp/ipykernel_120664/3199749346.py:26: FutureWarning: The behavior of DataFrame concatenation with empty or all-NA\n",
       "entries is deprecated. In a future version, this will no longer exclude empty or all-NA columns when determining \n",
       "the result dtypes. To retain the old behavior, exclude the relevant entries before the concat operation.\n",
       "  results = pd.concat([results, normalized_data])\n",
       "</pre>\n"
      ],
      "text/plain": [
       "/tmp/ipykernel_120664/3199749346.py:26: FutureWarning: The behavior of DataFrame concatenation with empty or all-NA\n",
       "entries is deprecated. In a future version, this will no longer exclude empty or all-NA columns when determining \n",
       "the result dtypes. To retain the old behavior, exclude the relevant entries before the concat operation.\n",
       "  results = pd.concat([results, normalized_data])\n"
      ]
     },
     "metadata": {},
     "output_type": "display_data"
    },
    {
     "data": {
      "text/html": [
       "<pre style=\"white-space:pre;overflow-x:auto;line-height:normal;font-family:Menlo,'DejaVu Sans Mono',consolas,'Courier New',monospace\">/tmp/ipykernel_120664/3199749346.py:26: FutureWarning: The behavior of DataFrame concatenation with empty or all-NA\n",
       "entries is deprecated. In a future version, this will no longer exclude empty or all-NA columns when determining \n",
       "the result dtypes. To retain the old behavior, exclude the relevant entries before the concat operation.\n",
       "  results = pd.concat([results, normalized_data])\n",
       "</pre>\n"
      ],
      "text/plain": [
       "/tmp/ipykernel_120664/3199749346.py:26: FutureWarning: The behavior of DataFrame concatenation with empty or all-NA\n",
       "entries is deprecated. In a future version, this will no longer exclude empty or all-NA columns when determining \n",
       "the result dtypes. To retain the old behavior, exclude the relevant entries before the concat operation.\n",
       "  results = pd.concat([results, normalized_data])\n"
      ]
     },
     "metadata": {},
     "output_type": "display_data"
    },
    {
     "data": {
      "text/html": [
       "<pre style=\"white-space:pre;overflow-x:auto;line-height:normal;font-family:Menlo,'DejaVu Sans Mono',consolas,'Courier New',monospace\">/tmp/ipykernel_120664/3199749346.py:26: FutureWarning: The behavior of DataFrame concatenation with empty or all-NA\n",
       "entries is deprecated. In a future version, this will no longer exclude empty or all-NA columns when determining \n",
       "the result dtypes. To retain the old behavior, exclude the relevant entries before the concat operation.\n",
       "  results = pd.concat([results, normalized_data])\n",
       "</pre>\n"
      ],
      "text/plain": [
       "/tmp/ipykernel_120664/3199749346.py:26: FutureWarning: The behavior of DataFrame concatenation with empty or all-NA\n",
       "entries is deprecated. In a future version, this will no longer exclude empty or all-NA columns when determining \n",
       "the result dtypes. To retain the old behavior, exclude the relevant entries before the concat operation.\n",
       "  results = pd.concat([results, normalized_data])\n"
      ]
     },
     "metadata": {},
     "output_type": "display_data"
    },
    {
     "data": {
      "text/html": [
       "<pre style=\"white-space:pre;overflow-x:auto;line-height:normal;font-family:Menlo,'DejaVu Sans Mono',consolas,'Courier New',monospace\">/tmp/ipykernel_120664/3199749346.py:26: FutureWarning: The behavior of DataFrame concatenation with empty or all-NA\n",
       "entries is deprecated. In a future version, this will no longer exclude empty or all-NA columns when determining \n",
       "the result dtypes. To retain the old behavior, exclude the relevant entries before the concat operation.\n",
       "  results = pd.concat([results, normalized_data])\n",
       "</pre>\n"
      ],
      "text/plain": [
       "/tmp/ipykernel_120664/3199749346.py:26: FutureWarning: The behavior of DataFrame concatenation with empty or all-NA\n",
       "entries is deprecated. In a future version, this will no longer exclude empty or all-NA columns when determining \n",
       "the result dtypes. To retain the old behavior, exclude the relevant entries before the concat operation.\n",
       "  results = pd.concat([results, normalized_data])\n"
      ]
     },
     "metadata": {},
     "output_type": "display_data"
    },
    {
     "data": {
      "text/html": [
       "<pre style=\"white-space:pre;overflow-x:auto;line-height:normal;font-family:Menlo,'DejaVu Sans Mono',consolas,'Courier New',monospace\">/tmp/ipykernel_120664/3199749346.py:26: FutureWarning: The behavior of DataFrame concatenation with empty or all-NA\n",
       "entries is deprecated. In a future version, this will no longer exclude empty or all-NA columns when determining \n",
       "the result dtypes. To retain the old behavior, exclude the relevant entries before the concat operation.\n",
       "  results = pd.concat([results, normalized_data])\n",
       "</pre>\n"
      ],
      "text/plain": [
       "/tmp/ipykernel_120664/3199749346.py:26: FutureWarning: The behavior of DataFrame concatenation with empty or all-NA\n",
       "entries is deprecated. In a future version, this will no longer exclude empty or all-NA columns when determining \n",
       "the result dtypes. To retain the old behavior, exclude the relevant entries before the concat operation.\n",
       "  results = pd.concat([results, normalized_data])\n"
      ]
     },
     "metadata": {},
     "output_type": "display_data"
    },
    {
     "data": {
      "text/html": [
       "<pre style=\"white-space:pre;overflow-x:auto;line-height:normal;font-family:Menlo,'DejaVu Sans Mono',consolas,'Courier New',monospace\">/tmp/ipykernel_120664/3199749346.py:26: FutureWarning: The behavior of DataFrame concatenation with empty or all-NA\n",
       "entries is deprecated. In a future version, this will no longer exclude empty or all-NA columns when determining \n",
       "the result dtypes. To retain the old behavior, exclude the relevant entries before the concat operation.\n",
       "  results = pd.concat([results, normalized_data])\n",
       "</pre>\n"
      ],
      "text/plain": [
       "/tmp/ipykernel_120664/3199749346.py:26: FutureWarning: The behavior of DataFrame concatenation with empty or all-NA\n",
       "entries is deprecated. In a future version, this will no longer exclude empty or all-NA columns when determining \n",
       "the result dtypes. To retain the old behavior, exclude the relevant entries before the concat operation.\n",
       "  results = pd.concat([results, normalized_data])\n"
      ]
     },
     "metadata": {},
     "output_type": "display_data"
    },
    {
     "data": {
      "text/html": [
       "<pre style=\"white-space:pre;overflow-x:auto;line-height:normal;font-family:Menlo,'DejaVu Sans Mono',consolas,'Courier New',monospace\">/tmp/ipykernel_120664/3199749346.py:26: FutureWarning: The behavior of DataFrame concatenation with empty or all-NA\n",
       "entries is deprecated. In a future version, this will no longer exclude empty or all-NA columns when determining \n",
       "the result dtypes. To retain the old behavior, exclude the relevant entries before the concat operation.\n",
       "  results = pd.concat([results, normalized_data])\n",
       "</pre>\n"
      ],
      "text/plain": [
       "/tmp/ipykernel_120664/3199749346.py:26: FutureWarning: The behavior of DataFrame concatenation with empty or all-NA\n",
       "entries is deprecated. In a future version, this will no longer exclude empty or all-NA columns when determining \n",
       "the result dtypes. To retain the old behavior, exclude the relevant entries before the concat operation.\n",
       "  results = pd.concat([results, normalized_data])\n"
      ]
     },
     "metadata": {},
     "output_type": "display_data"
    },
    {
     "data": {
      "text/html": [
       "<pre style=\"white-space:pre;overflow-x:auto;line-height:normal;font-family:Menlo,'DejaVu Sans Mono',consolas,'Courier New',monospace\">/tmp/ipykernel_120664/3199749346.py:26: FutureWarning: The behavior of DataFrame concatenation with empty or all-NA\n",
       "entries is deprecated. In a future version, this will no longer exclude empty or all-NA columns when determining \n",
       "the result dtypes. To retain the old behavior, exclude the relevant entries before the concat operation.\n",
       "  results = pd.concat([results, normalized_data])\n",
       "</pre>\n"
      ],
      "text/plain": [
       "/tmp/ipykernel_120664/3199749346.py:26: FutureWarning: The behavior of DataFrame concatenation with empty or all-NA\n",
       "entries is deprecated. In a future version, this will no longer exclude empty or all-NA columns when determining \n",
       "the result dtypes. To retain the old behavior, exclude the relevant entries before the concat operation.\n",
       "  results = pd.concat([results, normalized_data])\n"
      ]
     },
     "metadata": {},
     "output_type": "display_data"
    },
    {
     "data": {
      "text/html": [
       "<pre style=\"white-space:pre;overflow-x:auto;line-height:normal;font-family:Menlo,'DejaVu Sans Mono',consolas,'Courier New',monospace\">/tmp/ipykernel_120664/3199749346.py:26: FutureWarning: The behavior of DataFrame concatenation with empty or all-NA\n",
       "entries is deprecated. In a future version, this will no longer exclude empty or all-NA columns when determining \n",
       "the result dtypes. To retain the old behavior, exclude the relevant entries before the concat operation.\n",
       "  results = pd.concat([results, normalized_data])\n",
       "</pre>\n"
      ],
      "text/plain": [
       "/tmp/ipykernel_120664/3199749346.py:26: FutureWarning: The behavior of DataFrame concatenation with empty or all-NA\n",
       "entries is deprecated. In a future version, this will no longer exclude empty or all-NA columns when determining \n",
       "the result dtypes. To retain the old behavior, exclude the relevant entries before the concat operation.\n",
       "  results = pd.concat([results, normalized_data])\n"
      ]
     },
     "metadata": {},
     "output_type": "display_data"
    },
    {
     "data": {
      "text/html": [
       "<pre style=\"white-space:pre;overflow-x:auto;line-height:normal;font-family:Menlo,'DejaVu Sans Mono',consolas,'Courier New',monospace\">/tmp/ipykernel_120664/3199749346.py:26: FutureWarning: The behavior of DataFrame concatenation with empty or all-NA\n",
       "entries is deprecated. In a future version, this will no longer exclude empty or all-NA columns when determining \n",
       "the result dtypes. To retain the old behavior, exclude the relevant entries before the concat operation.\n",
       "  results = pd.concat([results, normalized_data])\n",
       "</pre>\n"
      ],
      "text/plain": [
       "/tmp/ipykernel_120664/3199749346.py:26: FutureWarning: The behavior of DataFrame concatenation with empty or all-NA\n",
       "entries is deprecated. In a future version, this will no longer exclude empty or all-NA columns when determining \n",
       "the result dtypes. To retain the old behavior, exclude the relevant entries before the concat operation.\n",
       "  results = pd.concat([results, normalized_data])\n"
      ]
     },
     "metadata": {},
     "output_type": "display_data"
    },
    {
     "data": {
      "text/html": [
       "<pre style=\"white-space:pre;overflow-x:auto;line-height:normal;font-family:Menlo,'DejaVu Sans Mono',consolas,'Courier New',monospace\">/tmp/ipykernel_120664/3199749346.py:26: FutureWarning: The behavior of DataFrame concatenation with empty or all-NA\n",
       "entries is deprecated. In a future version, this will no longer exclude empty or all-NA columns when determining \n",
       "the result dtypes. To retain the old behavior, exclude the relevant entries before the concat operation.\n",
       "  results = pd.concat([results, normalized_data])\n",
       "</pre>\n"
      ],
      "text/plain": [
       "/tmp/ipykernel_120664/3199749346.py:26: FutureWarning: The behavior of DataFrame concatenation with empty or all-NA\n",
       "entries is deprecated. In a future version, this will no longer exclude empty or all-NA columns when determining \n",
       "the result dtypes. To retain the old behavior, exclude the relevant entries before the concat operation.\n",
       "  results = pd.concat([results, normalized_data])\n"
      ]
     },
     "metadata": {},
     "output_type": "display_data"
    },
    {
     "data": {
      "text/html": [
       "<pre style=\"white-space:pre;overflow-x:auto;line-height:normal;font-family:Menlo,'DejaVu Sans Mono',consolas,'Courier New',monospace\">/tmp/ipykernel_120664/3199749346.py:26: FutureWarning: The behavior of DataFrame concatenation with empty or all-NA\n",
       "entries is deprecated. In a future version, this will no longer exclude empty or all-NA columns when determining \n",
       "the result dtypes. To retain the old behavior, exclude the relevant entries before the concat operation.\n",
       "  results = pd.concat([results, normalized_data])\n",
       "</pre>\n"
      ],
      "text/plain": [
       "/tmp/ipykernel_120664/3199749346.py:26: FutureWarning: The behavior of DataFrame concatenation with empty or all-NA\n",
       "entries is deprecated. In a future version, this will no longer exclude empty or all-NA columns when determining \n",
       "the result dtypes. To retain the old behavior, exclude the relevant entries before the concat operation.\n",
       "  results = pd.concat([results, normalized_data])\n"
      ]
     },
     "metadata": {},
     "output_type": "display_data"
    },
    {
     "data": {
      "text/html": [
       "<pre style=\"white-space:pre;overflow-x:auto;line-height:normal;font-family:Menlo,'DejaVu Sans Mono',consolas,'Courier New',monospace\">/tmp/ipykernel_120664/3199749346.py:26: FutureWarning: The behavior of DataFrame concatenation with empty or all-NA\n",
       "entries is deprecated. In a future version, this will no longer exclude empty or all-NA columns when determining \n",
       "the result dtypes. To retain the old behavior, exclude the relevant entries before the concat operation.\n",
       "  results = pd.concat([results, normalized_data])\n",
       "</pre>\n"
      ],
      "text/plain": [
       "/tmp/ipykernel_120664/3199749346.py:26: FutureWarning: The behavior of DataFrame concatenation with empty or all-NA\n",
       "entries is deprecated. In a future version, this will no longer exclude empty or all-NA columns when determining \n",
       "the result dtypes. To retain the old behavior, exclude the relevant entries before the concat operation.\n",
       "  results = pd.concat([results, normalized_data])\n"
      ]
     },
     "metadata": {},
     "output_type": "display_data"
    },
    {
     "data": {
      "text/html": [
       "<pre style=\"white-space:pre;overflow-x:auto;line-height:normal;font-family:Menlo,'DejaVu Sans Mono',consolas,'Courier New',monospace\">/tmp/ipykernel_120664/3199749346.py:26: FutureWarning: The behavior of DataFrame concatenation with empty or all-NA\n",
       "entries is deprecated. In a future version, this will no longer exclude empty or all-NA columns when determining \n",
       "the result dtypes. To retain the old behavior, exclude the relevant entries before the concat operation.\n",
       "  results = pd.concat([results, normalized_data])\n",
       "</pre>\n"
      ],
      "text/plain": [
       "/tmp/ipykernel_120664/3199749346.py:26: FutureWarning: The behavior of DataFrame concatenation with empty or all-NA\n",
       "entries is deprecated. In a future version, this will no longer exclude empty or all-NA columns when determining \n",
       "the result dtypes. To retain the old behavior, exclude the relevant entries before the concat operation.\n",
       "  results = pd.concat([results, normalized_data])\n"
      ]
     },
     "metadata": {},
     "output_type": "display_data"
    },
    {
     "data": {
      "text/html": [
       "<pre style=\"white-space:pre;overflow-x:auto;line-height:normal;font-family:Menlo,'DejaVu Sans Mono',consolas,'Courier New',monospace\">/tmp/ipykernel_120664/3199749346.py:26: FutureWarning: The behavior of DataFrame concatenation with empty or all-NA\n",
       "entries is deprecated. In a future version, this will no longer exclude empty or all-NA columns when determining \n",
       "the result dtypes. To retain the old behavior, exclude the relevant entries before the concat operation.\n",
       "  results = pd.concat([results, normalized_data])\n",
       "</pre>\n"
      ],
      "text/plain": [
       "/tmp/ipykernel_120664/3199749346.py:26: FutureWarning: The behavior of DataFrame concatenation with empty or all-NA\n",
       "entries is deprecated. In a future version, this will no longer exclude empty or all-NA columns when determining \n",
       "the result dtypes. To retain the old behavior, exclude the relevant entries before the concat operation.\n",
       "  results = pd.concat([results, normalized_data])\n"
      ]
     },
     "metadata": {},
     "output_type": "display_data"
    },
    {
     "data": {
      "text/html": [
       "<pre style=\"white-space:pre;overflow-x:auto;line-height:normal;font-family:Menlo,'DejaVu Sans Mono',consolas,'Courier New',monospace\">/tmp/ipykernel_120664/3199749346.py:26: FutureWarning: The behavior of DataFrame concatenation with empty or all-NA\n",
       "entries is deprecated. In a future version, this will no longer exclude empty or all-NA columns when determining \n",
       "the result dtypes. To retain the old behavior, exclude the relevant entries before the concat operation.\n",
       "  results = pd.concat([results, normalized_data])\n",
       "</pre>\n"
      ],
      "text/plain": [
       "/tmp/ipykernel_120664/3199749346.py:26: FutureWarning: The behavior of DataFrame concatenation with empty or all-NA\n",
       "entries is deprecated. In a future version, this will no longer exclude empty or all-NA columns when determining \n",
       "the result dtypes. To retain the old behavior, exclude the relevant entries before the concat operation.\n",
       "  results = pd.concat([results, normalized_data])\n"
      ]
     },
     "metadata": {},
     "output_type": "display_data"
    },
    {
     "data": {
      "text/html": [
       "<pre style=\"white-space:pre;overflow-x:auto;line-height:normal;font-family:Menlo,'DejaVu Sans Mono',consolas,'Courier New',monospace\">/tmp/ipykernel_120664/3199749346.py:26: FutureWarning: The behavior of DataFrame concatenation with empty or all-NA\n",
       "entries is deprecated. In a future version, this will no longer exclude empty or all-NA columns when determining \n",
       "the result dtypes. To retain the old behavior, exclude the relevant entries before the concat operation.\n",
       "  results = pd.concat([results, normalized_data])\n",
       "</pre>\n"
      ],
      "text/plain": [
       "/tmp/ipykernel_120664/3199749346.py:26: FutureWarning: The behavior of DataFrame concatenation with empty or all-NA\n",
       "entries is deprecated. In a future version, this will no longer exclude empty or all-NA columns when determining \n",
       "the result dtypes. To retain the old behavior, exclude the relevant entries before the concat operation.\n",
       "  results = pd.concat([results, normalized_data])\n"
      ]
     },
     "metadata": {},
     "output_type": "display_data"
    },
    {
     "data": {
      "text/html": [
       "<pre style=\"white-space:pre;overflow-x:auto;line-height:normal;font-family:Menlo,'DejaVu Sans Mono',consolas,'Courier New',monospace\">/tmp/ipykernel_120664/3199749346.py:26: FutureWarning: The behavior of DataFrame concatenation with empty or all-NA\n",
       "entries is deprecated. In a future version, this will no longer exclude empty or all-NA columns when determining \n",
       "the result dtypes. To retain the old behavior, exclude the relevant entries before the concat operation.\n",
       "  results = pd.concat([results, normalized_data])\n",
       "</pre>\n"
      ],
      "text/plain": [
       "/tmp/ipykernel_120664/3199749346.py:26: FutureWarning: The behavior of DataFrame concatenation with empty or all-NA\n",
       "entries is deprecated. In a future version, this will no longer exclude empty or all-NA columns when determining \n",
       "the result dtypes. To retain the old behavior, exclude the relevant entries before the concat operation.\n",
       "  results = pd.concat([results, normalized_data])\n"
      ]
     },
     "metadata": {},
     "output_type": "display_data"
    },
    {
     "data": {
      "text/html": [
       "<pre style=\"white-space:pre;overflow-x:auto;line-height:normal;font-family:Menlo,'DejaVu Sans Mono',consolas,'Courier New',monospace\">/tmp/ipykernel_120664/3199749346.py:26: FutureWarning: The behavior of DataFrame concatenation with empty or all-NA\n",
       "entries is deprecated. In a future version, this will no longer exclude empty or all-NA columns when determining \n",
       "the result dtypes. To retain the old behavior, exclude the relevant entries before the concat operation.\n",
       "  results = pd.concat([results, normalized_data])\n",
       "</pre>\n"
      ],
      "text/plain": [
       "/tmp/ipykernel_120664/3199749346.py:26: FutureWarning: The behavior of DataFrame concatenation with empty or all-NA\n",
       "entries is deprecated. In a future version, this will no longer exclude empty or all-NA columns when determining \n",
       "the result dtypes. To retain the old behavior, exclude the relevant entries before the concat operation.\n",
       "  results = pd.concat([results, normalized_data])\n"
      ]
     },
     "metadata": {},
     "output_type": "display_data"
    },
    {
     "data": {
      "text/html": [
       "<pre style=\"white-space:pre;overflow-x:auto;line-height:normal;font-family:Menlo,'DejaVu Sans Mono',consolas,'Courier New',monospace\">/tmp/ipykernel_120664/3199749346.py:26: FutureWarning: The behavior of DataFrame concatenation with empty or all-NA\n",
       "entries is deprecated. In a future version, this will no longer exclude empty or all-NA columns when determining \n",
       "the result dtypes. To retain the old behavior, exclude the relevant entries before the concat operation.\n",
       "  results = pd.concat([results, normalized_data])\n",
       "</pre>\n"
      ],
      "text/plain": [
       "/tmp/ipykernel_120664/3199749346.py:26: FutureWarning: The behavior of DataFrame concatenation with empty or all-NA\n",
       "entries is deprecated. In a future version, this will no longer exclude empty or all-NA columns when determining \n",
       "the result dtypes. To retain the old behavior, exclude the relevant entries before the concat operation.\n",
       "  results = pd.concat([results, normalized_data])\n"
      ]
     },
     "metadata": {},
     "output_type": "display_data"
    },
    {
     "data": {
      "text/html": [
       "<pre style=\"white-space:pre;overflow-x:auto;line-height:normal;font-family:Menlo,'DejaVu Sans Mono',consolas,'Courier New',monospace\">/tmp/ipykernel_120664/3199749346.py:26: FutureWarning: The behavior of DataFrame concatenation with empty or all-NA\n",
       "entries is deprecated. In a future version, this will no longer exclude empty or all-NA columns when determining \n",
       "the result dtypes. To retain the old behavior, exclude the relevant entries before the concat operation.\n",
       "  results = pd.concat([results, normalized_data])\n",
       "</pre>\n"
      ],
      "text/plain": [
       "/tmp/ipykernel_120664/3199749346.py:26: FutureWarning: The behavior of DataFrame concatenation with empty or all-NA\n",
       "entries is deprecated. In a future version, this will no longer exclude empty or all-NA columns when determining \n",
       "the result dtypes. To retain the old behavior, exclude the relevant entries before the concat operation.\n",
       "  results = pd.concat([results, normalized_data])\n"
      ]
     },
     "metadata": {},
     "output_type": "display_data"
    },
    {
     "data": {
      "text/html": [
       "<pre style=\"white-space:pre;overflow-x:auto;line-height:normal;font-family:Menlo,'DejaVu Sans Mono',consolas,'Courier New',monospace\">/tmp/ipykernel_120664/3199749346.py:26: FutureWarning: The behavior of DataFrame concatenation with empty or all-NA\n",
       "entries is deprecated. In a future version, this will no longer exclude empty or all-NA columns when determining \n",
       "the result dtypes. To retain the old behavior, exclude the relevant entries before the concat operation.\n",
       "  results = pd.concat([results, normalized_data])\n",
       "</pre>\n"
      ],
      "text/plain": [
       "/tmp/ipykernel_120664/3199749346.py:26: FutureWarning: The behavior of DataFrame concatenation with empty or all-NA\n",
       "entries is deprecated. In a future version, this will no longer exclude empty or all-NA columns when determining \n",
       "the result dtypes. To retain the old behavior, exclude the relevant entries before the concat operation.\n",
       "  results = pd.concat([results, normalized_data])\n"
      ]
     },
     "metadata": {},
     "output_type": "display_data"
    },
    {
     "data": {
      "text/html": [
       "<pre style=\"white-space:pre;overflow-x:auto;line-height:normal;font-family:Menlo,'DejaVu Sans Mono',consolas,'Courier New',monospace\">/tmp/ipykernel_120664/3199749346.py:26: FutureWarning: The behavior of DataFrame concatenation with empty or all-NA\n",
       "entries is deprecated. In a future version, this will no longer exclude empty or all-NA columns when determining \n",
       "the result dtypes. To retain the old behavior, exclude the relevant entries before the concat operation.\n",
       "  results = pd.concat([results, normalized_data])\n",
       "</pre>\n"
      ],
      "text/plain": [
       "/tmp/ipykernel_120664/3199749346.py:26: FutureWarning: The behavior of DataFrame concatenation with empty or all-NA\n",
       "entries is deprecated. In a future version, this will no longer exclude empty or all-NA columns when determining \n",
       "the result dtypes. To retain the old behavior, exclude the relevant entries before the concat operation.\n",
       "  results = pd.concat([results, normalized_data])\n"
      ]
     },
     "metadata": {},
     "output_type": "display_data"
    },
    {
     "data": {
      "text/html": [
       "<pre style=\"white-space:pre;overflow-x:auto;line-height:normal;font-family:Menlo,'DejaVu Sans Mono',consolas,'Courier New',monospace\">/tmp/ipykernel_120664/3199749346.py:26: FutureWarning: The behavior of DataFrame concatenation with empty or all-NA\n",
       "entries is deprecated. In a future version, this will no longer exclude empty or all-NA columns when determining \n",
       "the result dtypes. To retain the old behavior, exclude the relevant entries before the concat operation.\n",
       "  results = pd.concat([results, normalized_data])\n",
       "</pre>\n"
      ],
      "text/plain": [
       "/tmp/ipykernel_120664/3199749346.py:26: FutureWarning: The behavior of DataFrame concatenation with empty or all-NA\n",
       "entries is deprecated. In a future version, this will no longer exclude empty or all-NA columns when determining \n",
       "the result dtypes. To retain the old behavior, exclude the relevant entries before the concat operation.\n",
       "  results = pd.concat([results, normalized_data])\n"
      ]
     },
     "metadata": {},
     "output_type": "display_data"
    },
    {
     "data": {
      "text/html": [
       "<pre style=\"white-space:pre;overflow-x:auto;line-height:normal;font-family:Menlo,'DejaVu Sans Mono',consolas,'Courier New',monospace\">/tmp/ipykernel_120664/3199749346.py:26: FutureWarning: The behavior of DataFrame concatenation with empty or all-NA\n",
       "entries is deprecated. In a future version, this will no longer exclude empty or all-NA columns when determining \n",
       "the result dtypes. To retain the old behavior, exclude the relevant entries before the concat operation.\n",
       "  results = pd.concat([results, normalized_data])\n",
       "</pre>\n"
      ],
      "text/plain": [
       "/tmp/ipykernel_120664/3199749346.py:26: FutureWarning: The behavior of DataFrame concatenation with empty or all-NA\n",
       "entries is deprecated. In a future version, this will no longer exclude empty or all-NA columns when determining \n",
       "the result dtypes. To retain the old behavior, exclude the relevant entries before the concat operation.\n",
       "  results = pd.concat([results, normalized_data])\n"
      ]
     },
     "metadata": {},
     "output_type": "display_data"
    },
    {
     "data": {
      "text/html": [
       "<pre style=\"white-space:pre;overflow-x:auto;line-height:normal;font-family:Menlo,'DejaVu Sans Mono',consolas,'Courier New',monospace\">/tmp/ipykernel_120664/3199749346.py:26: FutureWarning: The behavior of DataFrame concatenation with empty or all-NA\n",
       "entries is deprecated. In a future version, this will no longer exclude empty or all-NA columns when determining \n",
       "the result dtypes. To retain the old behavior, exclude the relevant entries before the concat operation.\n",
       "  results = pd.concat([results, normalized_data])\n",
       "</pre>\n"
      ],
      "text/plain": [
       "/tmp/ipykernel_120664/3199749346.py:26: FutureWarning: The behavior of DataFrame concatenation with empty or all-NA\n",
       "entries is deprecated. In a future version, this will no longer exclude empty or all-NA columns when determining \n",
       "the result dtypes. To retain the old behavior, exclude the relevant entries before the concat operation.\n",
       "  results = pd.concat([results, normalized_data])\n"
      ]
     },
     "metadata": {},
     "output_type": "display_data"
    },
    {
     "data": {
      "text/html": [
       "<pre style=\"white-space:pre;overflow-x:auto;line-height:normal;font-family:Menlo,'DejaVu Sans Mono',consolas,'Courier New',monospace\">/tmp/ipykernel_120664/3199749346.py:26: FutureWarning: The behavior of DataFrame concatenation with empty or all-NA\n",
       "entries is deprecated. In a future version, this will no longer exclude empty or all-NA columns when determining \n",
       "the result dtypes. To retain the old behavior, exclude the relevant entries before the concat operation.\n",
       "  results = pd.concat([results, normalized_data])\n",
       "</pre>\n"
      ],
      "text/plain": [
       "/tmp/ipykernel_120664/3199749346.py:26: FutureWarning: The behavior of DataFrame concatenation with empty or all-NA\n",
       "entries is deprecated. In a future version, this will no longer exclude empty or all-NA columns when determining \n",
       "the result dtypes. To retain the old behavior, exclude the relevant entries before the concat operation.\n",
       "  results = pd.concat([results, normalized_data])\n"
      ]
     },
     "metadata": {},
     "output_type": "display_data"
    },
    {
     "data": {
      "text/html": [
       "<pre style=\"white-space:pre;overflow-x:auto;line-height:normal;font-family:Menlo,'DejaVu Sans Mono',consolas,'Courier New',monospace\">/tmp/ipykernel_120664/3199749346.py:26: FutureWarning: The behavior of DataFrame concatenation with empty or all-NA\n",
       "entries is deprecated. In a future version, this will no longer exclude empty or all-NA columns when determining \n",
       "the result dtypes. To retain the old behavior, exclude the relevant entries before the concat operation.\n",
       "  results = pd.concat([results, normalized_data])\n",
       "</pre>\n"
      ],
      "text/plain": [
       "/tmp/ipykernel_120664/3199749346.py:26: FutureWarning: The behavior of DataFrame concatenation with empty or all-NA\n",
       "entries is deprecated. In a future version, this will no longer exclude empty or all-NA columns when determining \n",
       "the result dtypes. To retain the old behavior, exclude the relevant entries before the concat operation.\n",
       "  results = pd.concat([results, normalized_data])\n"
      ]
     },
     "metadata": {},
     "output_type": "display_data"
    },
    {
     "data": {
      "text/html": [
       "<pre style=\"white-space:pre;overflow-x:auto;line-height:normal;font-family:Menlo,'DejaVu Sans Mono',consolas,'Courier New',monospace\">/tmp/ipykernel_120664/3199749346.py:26: FutureWarning: The behavior of DataFrame concatenation with empty or all-NA\n",
       "entries is deprecated. In a future version, this will no longer exclude empty or all-NA columns when determining \n",
       "the result dtypes. To retain the old behavior, exclude the relevant entries before the concat operation.\n",
       "  results = pd.concat([results, normalized_data])\n",
       "</pre>\n"
      ],
      "text/plain": [
       "/tmp/ipykernel_120664/3199749346.py:26: FutureWarning: The behavior of DataFrame concatenation with empty or all-NA\n",
       "entries is deprecated. In a future version, this will no longer exclude empty or all-NA columns when determining \n",
       "the result dtypes. To retain the old behavior, exclude the relevant entries before the concat operation.\n",
       "  results = pd.concat([results, normalized_data])\n"
      ]
     },
     "metadata": {},
     "output_type": "display_data"
    },
    {
     "data": {
      "text/html": [
       "<pre style=\"white-space:pre;overflow-x:auto;line-height:normal;font-family:Menlo,'DejaVu Sans Mono',consolas,'Courier New',monospace\">/tmp/ipykernel_120664/3199749346.py:26: FutureWarning: The behavior of DataFrame concatenation with empty or all-NA\n",
       "entries is deprecated. In a future version, this will no longer exclude empty or all-NA columns when determining \n",
       "the result dtypes. To retain the old behavior, exclude the relevant entries before the concat operation.\n",
       "  results = pd.concat([results, normalized_data])\n",
       "</pre>\n"
      ],
      "text/plain": [
       "/tmp/ipykernel_120664/3199749346.py:26: FutureWarning: The behavior of DataFrame concatenation with empty or all-NA\n",
       "entries is deprecated. In a future version, this will no longer exclude empty or all-NA columns when determining \n",
       "the result dtypes. To retain the old behavior, exclude the relevant entries before the concat operation.\n",
       "  results = pd.concat([results, normalized_data])\n"
      ]
     },
     "metadata": {},
     "output_type": "display_data"
    },
    {
     "data": {
      "text/html": [
       "<pre style=\"white-space:pre;overflow-x:auto;line-height:normal;font-family:Menlo,'DejaVu Sans Mono',consolas,'Courier New',monospace\">/tmp/ipykernel_120664/3199749346.py:26: FutureWarning: The behavior of DataFrame concatenation with empty or all-NA\n",
       "entries is deprecated. In a future version, this will no longer exclude empty or all-NA columns when determining \n",
       "the result dtypes. To retain the old behavior, exclude the relevant entries before the concat operation.\n",
       "  results = pd.concat([results, normalized_data])\n",
       "</pre>\n"
      ],
      "text/plain": [
       "/tmp/ipykernel_120664/3199749346.py:26: FutureWarning: The behavior of DataFrame concatenation with empty or all-NA\n",
       "entries is deprecated. In a future version, this will no longer exclude empty or all-NA columns when determining \n",
       "the result dtypes. To retain the old behavior, exclude the relevant entries before the concat operation.\n",
       "  results = pd.concat([results, normalized_data])\n"
      ]
     },
     "metadata": {},
     "output_type": "display_data"
    },
    {
     "data": {
      "text/html": [
       "<pre style=\"white-space:pre;overflow-x:auto;line-height:normal;font-family:Menlo,'DejaVu Sans Mono',consolas,'Courier New',monospace\">/tmp/ipykernel_120664/3199749346.py:26: FutureWarning: The behavior of DataFrame concatenation with empty or all-NA\n",
       "entries is deprecated. In a future version, this will no longer exclude empty or all-NA columns when determining \n",
       "the result dtypes. To retain the old behavior, exclude the relevant entries before the concat operation.\n",
       "  results = pd.concat([results, normalized_data])\n",
       "</pre>\n"
      ],
      "text/plain": [
       "/tmp/ipykernel_120664/3199749346.py:26: FutureWarning: The behavior of DataFrame concatenation with empty or all-NA\n",
       "entries is deprecated. In a future version, this will no longer exclude empty or all-NA columns when determining \n",
       "the result dtypes. To retain the old behavior, exclude the relevant entries before the concat operation.\n",
       "  results = pd.concat([results, normalized_data])\n"
      ]
     },
     "metadata": {},
     "output_type": "display_data"
    },
    {
     "data": {
      "text/html": [
       "<pre style=\"white-space:pre;overflow-x:auto;line-height:normal;font-family:Menlo,'DejaVu Sans Mono',consolas,'Courier New',monospace\">/tmp/ipykernel_120664/3199749346.py:26: FutureWarning: The behavior of DataFrame concatenation with empty or all-NA\n",
       "entries is deprecated. In a future version, this will no longer exclude empty or all-NA columns when determining \n",
       "the result dtypes. To retain the old behavior, exclude the relevant entries before the concat operation.\n",
       "  results = pd.concat([results, normalized_data])\n",
       "</pre>\n"
      ],
      "text/plain": [
       "/tmp/ipykernel_120664/3199749346.py:26: FutureWarning: The behavior of DataFrame concatenation with empty or all-NA\n",
       "entries is deprecated. In a future version, this will no longer exclude empty or all-NA columns when determining \n",
       "the result dtypes. To retain the old behavior, exclude the relevant entries before the concat operation.\n",
       "  results = pd.concat([results, normalized_data])\n"
      ]
     },
     "metadata": {},
     "output_type": "display_data"
    },
    {
     "data": {
      "text/html": [
       "<pre style=\"white-space:pre;overflow-x:auto;line-height:normal;font-family:Menlo,'DejaVu Sans Mono',consolas,'Courier New',monospace\">/tmp/ipykernel_120664/3199749346.py:26: FutureWarning: The behavior of DataFrame concatenation with empty or all-NA\n",
       "entries is deprecated. In a future version, this will no longer exclude empty or all-NA columns when determining \n",
       "the result dtypes. To retain the old behavior, exclude the relevant entries before the concat operation.\n",
       "  results = pd.concat([results, normalized_data])\n",
       "</pre>\n"
      ],
      "text/plain": [
       "/tmp/ipykernel_120664/3199749346.py:26: FutureWarning: The behavior of DataFrame concatenation with empty or all-NA\n",
       "entries is deprecated. In a future version, this will no longer exclude empty or all-NA columns when determining \n",
       "the result dtypes. To retain the old behavior, exclude the relevant entries before the concat operation.\n",
       "  results = pd.concat([results, normalized_data])\n"
      ]
     },
     "metadata": {},
     "output_type": "display_data"
    },
    {
     "data": {
      "text/html": [
       "<pre style=\"white-space:pre;overflow-x:auto;line-height:normal;font-family:Menlo,'DejaVu Sans Mono',consolas,'Courier New',monospace\">/tmp/ipykernel_120664/3199749346.py:26: FutureWarning: The behavior of DataFrame concatenation with empty or all-NA\n",
       "entries is deprecated. In a future version, this will no longer exclude empty or all-NA columns when determining \n",
       "the result dtypes. To retain the old behavior, exclude the relevant entries before the concat operation.\n",
       "  results = pd.concat([results, normalized_data])\n",
       "</pre>\n"
      ],
      "text/plain": [
       "/tmp/ipykernel_120664/3199749346.py:26: FutureWarning: The behavior of DataFrame concatenation with empty or all-NA\n",
       "entries is deprecated. In a future version, this will no longer exclude empty or all-NA columns when determining \n",
       "the result dtypes. To retain the old behavior, exclude the relevant entries before the concat operation.\n",
       "  results = pd.concat([results, normalized_data])\n"
      ]
     },
     "metadata": {},
     "output_type": "display_data"
    },
    {
     "data": {
      "text/html": [
       "<pre style=\"white-space:pre;overflow-x:auto;line-height:normal;font-family:Menlo,'DejaVu Sans Mono',consolas,'Courier New',monospace\">/tmp/ipykernel_120664/3199749346.py:26: FutureWarning: The behavior of DataFrame concatenation with empty or all-NA\n",
       "entries is deprecated. In a future version, this will no longer exclude empty or all-NA columns when determining \n",
       "the result dtypes. To retain the old behavior, exclude the relevant entries before the concat operation.\n",
       "  results = pd.concat([results, normalized_data])\n",
       "</pre>\n"
      ],
      "text/plain": [
       "/tmp/ipykernel_120664/3199749346.py:26: FutureWarning: The behavior of DataFrame concatenation with empty or all-NA\n",
       "entries is deprecated. In a future version, this will no longer exclude empty or all-NA columns when determining \n",
       "the result dtypes. To retain the old behavior, exclude the relevant entries before the concat operation.\n",
       "  results = pd.concat([results, normalized_data])\n"
      ]
     },
     "metadata": {},
     "output_type": "display_data"
    },
    {
     "data": {
      "text/html": [
       "<pre style=\"white-space:pre;overflow-x:auto;line-height:normal;font-family:Menlo,'DejaVu Sans Mono',consolas,'Courier New',monospace\">/tmp/ipykernel_120664/3199749346.py:26: FutureWarning: The behavior of DataFrame concatenation with empty or all-NA\n",
       "entries is deprecated. In a future version, this will no longer exclude empty or all-NA columns when determining \n",
       "the result dtypes. To retain the old behavior, exclude the relevant entries before the concat operation.\n",
       "  results = pd.concat([results, normalized_data])\n",
       "</pre>\n"
      ],
      "text/plain": [
       "/tmp/ipykernel_120664/3199749346.py:26: FutureWarning: The behavior of DataFrame concatenation with empty or all-NA\n",
       "entries is deprecated. In a future version, this will no longer exclude empty or all-NA columns when determining \n",
       "the result dtypes. To retain the old behavior, exclude the relevant entries before the concat operation.\n",
       "  results = pd.concat([results, normalized_data])\n"
      ]
     },
     "metadata": {},
     "output_type": "display_data"
    },
    {
     "data": {
      "text/html": [
       "<pre style=\"white-space:pre;overflow-x:auto;line-height:normal;font-family:Menlo,'DejaVu Sans Mono',consolas,'Courier New',monospace\">/tmp/ipykernel_120664/3199749346.py:26: FutureWarning: The behavior of DataFrame concatenation with empty or all-NA\n",
       "entries is deprecated. In a future version, this will no longer exclude empty or all-NA columns when determining \n",
       "the result dtypes. To retain the old behavior, exclude the relevant entries before the concat operation.\n",
       "  results = pd.concat([results, normalized_data])\n",
       "</pre>\n"
      ],
      "text/plain": [
       "/tmp/ipykernel_120664/3199749346.py:26: FutureWarning: The behavior of DataFrame concatenation with empty or all-NA\n",
       "entries is deprecated. In a future version, this will no longer exclude empty or all-NA columns when determining \n",
       "the result dtypes. To retain the old behavior, exclude the relevant entries before the concat operation.\n",
       "  results = pd.concat([results, normalized_data])\n"
      ]
     },
     "metadata": {},
     "output_type": "display_data"
    },
    {
     "data": {
      "text/html": [
       "<pre style=\"white-space:pre;overflow-x:auto;line-height:normal;font-family:Menlo,'DejaVu Sans Mono',consolas,'Courier New',monospace\">/tmp/ipykernel_120664/3199749346.py:26: FutureWarning: The behavior of DataFrame concatenation with empty or all-NA\n",
       "entries is deprecated. In a future version, this will no longer exclude empty or all-NA columns when determining \n",
       "the result dtypes. To retain the old behavior, exclude the relevant entries before the concat operation.\n",
       "  results = pd.concat([results, normalized_data])\n",
       "</pre>\n"
      ],
      "text/plain": [
       "/tmp/ipykernel_120664/3199749346.py:26: FutureWarning: The behavior of DataFrame concatenation with empty or all-NA\n",
       "entries is deprecated. In a future version, this will no longer exclude empty or all-NA columns when determining \n",
       "the result dtypes. To retain the old behavior, exclude the relevant entries before the concat operation.\n",
       "  results = pd.concat([results, normalized_data])\n"
      ]
     },
     "metadata": {},
     "output_type": "display_data"
    },
    {
     "data": {
      "text/html": [
       "<pre style=\"white-space:pre;overflow-x:auto;line-height:normal;font-family:Menlo,'DejaVu Sans Mono',consolas,'Courier New',monospace\">/tmp/ipykernel_120664/3199749346.py:26: FutureWarning: The behavior of DataFrame concatenation with empty or all-NA\n",
       "entries is deprecated. In a future version, this will no longer exclude empty or all-NA columns when determining \n",
       "the result dtypes. To retain the old behavior, exclude the relevant entries before the concat operation.\n",
       "  results = pd.concat([results, normalized_data])\n",
       "</pre>\n"
      ],
      "text/plain": [
       "/tmp/ipykernel_120664/3199749346.py:26: FutureWarning: The behavior of DataFrame concatenation with empty or all-NA\n",
       "entries is deprecated. In a future version, this will no longer exclude empty or all-NA columns when determining \n",
       "the result dtypes. To retain the old behavior, exclude the relevant entries before the concat operation.\n",
       "  results = pd.concat([results, normalized_data])\n"
      ]
     },
     "metadata": {},
     "output_type": "display_data"
    },
    {
     "data": {
      "text/html": [
       "<pre style=\"white-space:pre;overflow-x:auto;line-height:normal;font-family:Menlo,'DejaVu Sans Mono',consolas,'Courier New',monospace\">/tmp/ipykernel_120664/3199749346.py:26: FutureWarning: The behavior of DataFrame concatenation with empty or all-NA\n",
       "entries is deprecated. In a future version, this will no longer exclude empty or all-NA columns when determining \n",
       "the result dtypes. To retain the old behavior, exclude the relevant entries before the concat operation.\n",
       "  results = pd.concat([results, normalized_data])\n",
       "</pre>\n"
      ],
      "text/plain": [
       "/tmp/ipykernel_120664/3199749346.py:26: FutureWarning: The behavior of DataFrame concatenation with empty or all-NA\n",
       "entries is deprecated. In a future version, this will no longer exclude empty or all-NA columns when determining \n",
       "the result dtypes. To retain the old behavior, exclude the relevant entries before the concat operation.\n",
       "  results = pd.concat([results, normalized_data])\n"
      ]
     },
     "metadata": {},
     "output_type": "display_data"
    },
    {
     "data": {
      "text/html": [
       "<pre style=\"white-space:pre;overflow-x:auto;line-height:normal;font-family:Menlo,'DejaVu Sans Mono',consolas,'Courier New',monospace\">/tmp/ipykernel_120664/3199749346.py:26: FutureWarning: The behavior of DataFrame concatenation with empty or all-NA\n",
       "entries is deprecated. In a future version, this will no longer exclude empty or all-NA columns when determining \n",
       "the result dtypes. To retain the old behavior, exclude the relevant entries before the concat operation.\n",
       "  results = pd.concat([results, normalized_data])\n",
       "</pre>\n"
      ],
      "text/plain": [
       "/tmp/ipykernel_120664/3199749346.py:26: FutureWarning: The behavior of DataFrame concatenation with empty or all-NA\n",
       "entries is deprecated. In a future version, this will no longer exclude empty or all-NA columns when determining \n",
       "the result dtypes. To retain the old behavior, exclude the relevant entries before the concat operation.\n",
       "  results = pd.concat([results, normalized_data])\n"
      ]
     },
     "metadata": {},
     "output_type": "display_data"
    },
    {
     "data": {
      "text/html": [
       "<pre style=\"white-space:pre;overflow-x:auto;line-height:normal;font-family:Menlo,'DejaVu Sans Mono',consolas,'Courier New',monospace\">/tmp/ipykernel_120664/3199749346.py:26: FutureWarning: The behavior of DataFrame concatenation with empty or all-NA\n",
       "entries is deprecated. In a future version, this will no longer exclude empty or all-NA columns when determining \n",
       "the result dtypes. To retain the old behavior, exclude the relevant entries before the concat operation.\n",
       "  results = pd.concat([results, normalized_data])\n",
       "</pre>\n"
      ],
      "text/plain": [
       "/tmp/ipykernel_120664/3199749346.py:26: FutureWarning: The behavior of DataFrame concatenation with empty or all-NA\n",
       "entries is deprecated. In a future version, this will no longer exclude empty or all-NA columns when determining \n",
       "the result dtypes. To retain the old behavior, exclude the relevant entries before the concat operation.\n",
       "  results = pd.concat([results, normalized_data])\n"
      ]
     },
     "metadata": {},
     "output_type": "display_data"
    },
    {
     "data": {
      "text/html": [
       "<pre style=\"white-space:pre;overflow-x:auto;line-height:normal;font-family:Menlo,'DejaVu Sans Mono',consolas,'Courier New',monospace\">/tmp/ipykernel_120664/3199749346.py:26: FutureWarning: The behavior of DataFrame concatenation with empty or all-NA\n",
       "entries is deprecated. In a future version, this will no longer exclude empty or all-NA columns when determining \n",
       "the result dtypes. To retain the old behavior, exclude the relevant entries before the concat operation.\n",
       "  results = pd.concat([results, normalized_data])\n",
       "</pre>\n"
      ],
      "text/plain": [
       "/tmp/ipykernel_120664/3199749346.py:26: FutureWarning: The behavior of DataFrame concatenation with empty or all-NA\n",
       "entries is deprecated. In a future version, this will no longer exclude empty or all-NA columns when determining \n",
       "the result dtypes. To retain the old behavior, exclude the relevant entries before the concat operation.\n",
       "  results = pd.concat([results, normalized_data])\n"
      ]
     },
     "metadata": {},
     "output_type": "display_data"
    },
    {
     "data": {
      "text/html": [
       "<pre style=\"white-space:pre;overflow-x:auto;line-height:normal;font-family:Menlo,'DejaVu Sans Mono',consolas,'Courier New',monospace\">/tmp/ipykernel_120664/3199749346.py:26: FutureWarning: The behavior of DataFrame concatenation with empty or all-NA\n",
       "entries is deprecated. In a future version, this will no longer exclude empty or all-NA columns when determining \n",
       "the result dtypes. To retain the old behavior, exclude the relevant entries before the concat operation.\n",
       "  results = pd.concat([results, normalized_data])\n",
       "</pre>\n"
      ],
      "text/plain": [
       "/tmp/ipykernel_120664/3199749346.py:26: FutureWarning: The behavior of DataFrame concatenation with empty or all-NA\n",
       "entries is deprecated. In a future version, this will no longer exclude empty or all-NA columns when determining \n",
       "the result dtypes. To retain the old behavior, exclude the relevant entries before the concat operation.\n",
       "  results = pd.concat([results, normalized_data])\n"
      ]
     },
     "metadata": {},
     "output_type": "display_data"
    },
    {
     "data": {
      "text/html": [
       "<pre style=\"white-space:pre;overflow-x:auto;line-height:normal;font-family:Menlo,'DejaVu Sans Mono',consolas,'Courier New',monospace\">/tmp/ipykernel_120664/3199749346.py:26: FutureWarning: The behavior of DataFrame concatenation with empty or all-NA\n",
       "entries is deprecated. In a future version, this will no longer exclude empty or all-NA columns when determining \n",
       "the result dtypes. To retain the old behavior, exclude the relevant entries before the concat operation.\n",
       "  results = pd.concat([results, normalized_data])\n",
       "</pre>\n"
      ],
      "text/plain": [
       "/tmp/ipykernel_120664/3199749346.py:26: FutureWarning: The behavior of DataFrame concatenation with empty or all-NA\n",
       "entries is deprecated. In a future version, this will no longer exclude empty or all-NA columns when determining \n",
       "the result dtypes. To retain the old behavior, exclude the relevant entries before the concat operation.\n",
       "  results = pd.concat([results, normalized_data])\n"
      ]
     },
     "metadata": {},
     "output_type": "display_data"
    },
    {
     "data": {
      "text/html": [
       "<pre style=\"white-space:pre;overflow-x:auto;line-height:normal;font-family:Menlo,'DejaVu Sans Mono',consolas,'Courier New',monospace\">/tmp/ipykernel_120664/3199749346.py:26: FutureWarning: The behavior of DataFrame concatenation with empty or all-NA\n",
       "entries is deprecated. In a future version, this will no longer exclude empty or all-NA columns when determining \n",
       "the result dtypes. To retain the old behavior, exclude the relevant entries before the concat operation.\n",
       "  results = pd.concat([results, normalized_data])\n",
       "</pre>\n"
      ],
      "text/plain": [
       "/tmp/ipykernel_120664/3199749346.py:26: FutureWarning: The behavior of DataFrame concatenation with empty or all-NA\n",
       "entries is deprecated. In a future version, this will no longer exclude empty or all-NA columns when determining \n",
       "the result dtypes. To retain the old behavior, exclude the relevant entries before the concat operation.\n",
       "  results = pd.concat([results, normalized_data])\n"
      ]
     },
     "metadata": {},
     "output_type": "display_data"
    },
    {
     "data": {
      "text/html": [
       "<pre style=\"white-space:pre;overflow-x:auto;line-height:normal;font-family:Menlo,'DejaVu Sans Mono',consolas,'Courier New',monospace\">/tmp/ipykernel_120664/3199749346.py:26: FutureWarning: The behavior of DataFrame concatenation with empty or all-NA\n",
       "entries is deprecated. In a future version, this will no longer exclude empty or all-NA columns when determining \n",
       "the result dtypes. To retain the old behavior, exclude the relevant entries before the concat operation.\n",
       "  results = pd.concat([results, normalized_data])\n",
       "</pre>\n"
      ],
      "text/plain": [
       "/tmp/ipykernel_120664/3199749346.py:26: FutureWarning: The behavior of DataFrame concatenation with empty or all-NA\n",
       "entries is deprecated. In a future version, this will no longer exclude empty or all-NA columns when determining \n",
       "the result dtypes. To retain the old behavior, exclude the relevant entries before the concat operation.\n",
       "  results = pd.concat([results, normalized_data])\n"
      ]
     },
     "metadata": {},
     "output_type": "display_data"
    },
    {
     "data": {
      "text/html": [
       "<pre style=\"white-space:pre;overflow-x:auto;line-height:normal;font-family:Menlo,'DejaVu Sans Mono',consolas,'Courier New',monospace\">/tmp/ipykernel_120664/3199749346.py:26: FutureWarning: The behavior of DataFrame concatenation with empty or all-NA\n",
       "entries is deprecated. In a future version, this will no longer exclude empty or all-NA columns when determining \n",
       "the result dtypes. To retain the old behavior, exclude the relevant entries before the concat operation.\n",
       "  results = pd.concat([results, normalized_data])\n",
       "</pre>\n"
      ],
      "text/plain": [
       "/tmp/ipykernel_120664/3199749346.py:26: FutureWarning: The behavior of DataFrame concatenation with empty or all-NA\n",
       "entries is deprecated. In a future version, this will no longer exclude empty or all-NA columns when determining \n",
       "the result dtypes. To retain the old behavior, exclude the relevant entries before the concat operation.\n",
       "  results = pd.concat([results, normalized_data])\n"
      ]
     },
     "metadata": {},
     "output_type": "display_data"
    },
    {
     "data": {
      "text/html": [
       "<pre style=\"white-space:pre;overflow-x:auto;line-height:normal;font-family:Menlo,'DejaVu Sans Mono',consolas,'Courier New',monospace\">/tmp/ipykernel_120664/3199749346.py:26: FutureWarning: The behavior of DataFrame concatenation with empty or all-NA\n",
       "entries is deprecated. In a future version, this will no longer exclude empty or all-NA columns when determining \n",
       "the result dtypes. To retain the old behavior, exclude the relevant entries before the concat operation.\n",
       "  results = pd.concat([results, normalized_data])\n",
       "</pre>\n"
      ],
      "text/plain": [
       "/tmp/ipykernel_120664/3199749346.py:26: FutureWarning: The behavior of DataFrame concatenation with empty or all-NA\n",
       "entries is deprecated. In a future version, this will no longer exclude empty or all-NA columns when determining \n",
       "the result dtypes. To retain the old behavior, exclude the relevant entries before the concat operation.\n",
       "  results = pd.concat([results, normalized_data])\n"
      ]
     },
     "metadata": {},
     "output_type": "display_data"
    },
    {
     "data": {
      "text/html": [
       "<pre style=\"white-space:pre;overflow-x:auto;line-height:normal;font-family:Menlo,'DejaVu Sans Mono',consolas,'Courier New',monospace\">/tmp/ipykernel_120664/3199749346.py:26: FutureWarning: The behavior of DataFrame concatenation with empty or all-NA\n",
       "entries is deprecated. In a future version, this will no longer exclude empty or all-NA columns when determining \n",
       "the result dtypes. To retain the old behavior, exclude the relevant entries before the concat operation.\n",
       "  results = pd.concat([results, normalized_data])\n",
       "</pre>\n"
      ],
      "text/plain": [
       "/tmp/ipykernel_120664/3199749346.py:26: FutureWarning: The behavior of DataFrame concatenation with empty or all-NA\n",
       "entries is deprecated. In a future version, this will no longer exclude empty or all-NA columns when determining \n",
       "the result dtypes. To retain the old behavior, exclude the relevant entries before the concat operation.\n",
       "  results = pd.concat([results, normalized_data])\n"
      ]
     },
     "metadata": {},
     "output_type": "display_data"
    },
    {
     "data": {
      "text/html": [
       "<pre style=\"white-space:pre;overflow-x:auto;line-height:normal;font-family:Menlo,'DejaVu Sans Mono',consolas,'Courier New',monospace\">/tmp/ipykernel_120664/3199749346.py:26: FutureWarning: The behavior of DataFrame concatenation with empty or all-NA\n",
       "entries is deprecated. In a future version, this will no longer exclude empty or all-NA columns when determining \n",
       "the result dtypes. To retain the old behavior, exclude the relevant entries before the concat operation.\n",
       "  results = pd.concat([results, normalized_data])\n",
       "</pre>\n"
      ],
      "text/plain": [
       "/tmp/ipykernel_120664/3199749346.py:26: FutureWarning: The behavior of DataFrame concatenation with empty or all-NA\n",
       "entries is deprecated. In a future version, this will no longer exclude empty or all-NA columns when determining \n",
       "the result dtypes. To retain the old behavior, exclude the relevant entries before the concat operation.\n",
       "  results = pd.concat([results, normalized_data])\n"
      ]
     },
     "metadata": {},
     "output_type": "display_data"
    },
    {
     "data": {
      "text/html": [
       "<pre style=\"white-space:pre;overflow-x:auto;line-height:normal;font-family:Menlo,'DejaVu Sans Mono',consolas,'Courier New',monospace\">/tmp/ipykernel_120664/3199749346.py:26: FutureWarning: The behavior of DataFrame concatenation with empty or all-NA\n",
       "entries is deprecated. In a future version, this will no longer exclude empty or all-NA columns when determining \n",
       "the result dtypes. To retain the old behavior, exclude the relevant entries before the concat operation.\n",
       "  results = pd.concat([results, normalized_data])\n",
       "</pre>\n"
      ],
      "text/plain": [
       "/tmp/ipykernel_120664/3199749346.py:26: FutureWarning: The behavior of DataFrame concatenation with empty or all-NA\n",
       "entries is deprecated. In a future version, this will no longer exclude empty or all-NA columns when determining \n",
       "the result dtypes. To retain the old behavior, exclude the relevant entries before the concat operation.\n",
       "  results = pd.concat([results, normalized_data])\n"
      ]
     },
     "metadata": {},
     "output_type": "display_data"
    },
    {
     "data": {
      "text/html": [
       "<pre style=\"white-space:pre;overflow-x:auto;line-height:normal;font-family:Menlo,'DejaVu Sans Mono',consolas,'Courier New',monospace\">/tmp/ipykernel_120664/3199749346.py:26: FutureWarning: The behavior of DataFrame concatenation with empty or all-NA\n",
       "entries is deprecated. In a future version, this will no longer exclude empty or all-NA columns when determining \n",
       "the result dtypes. To retain the old behavior, exclude the relevant entries before the concat operation.\n",
       "  results = pd.concat([results, normalized_data])\n",
       "</pre>\n"
      ],
      "text/plain": [
       "/tmp/ipykernel_120664/3199749346.py:26: FutureWarning: The behavior of DataFrame concatenation with empty or all-NA\n",
       "entries is deprecated. In a future version, this will no longer exclude empty or all-NA columns when determining \n",
       "the result dtypes. To retain the old behavior, exclude the relevant entries before the concat operation.\n",
       "  results = pd.concat([results, normalized_data])\n"
      ]
     },
     "metadata": {},
     "output_type": "display_data"
    },
    {
     "data": {
      "text/html": [
       "<pre style=\"white-space:pre;overflow-x:auto;line-height:normal;font-family:Menlo,'DejaVu Sans Mono',consolas,'Courier New',monospace\">/tmp/ipykernel_120664/3199749346.py:26: FutureWarning: The behavior of DataFrame concatenation with empty or all-NA\n",
       "entries is deprecated. In a future version, this will no longer exclude empty or all-NA columns when determining \n",
       "the result dtypes. To retain the old behavior, exclude the relevant entries before the concat operation.\n",
       "  results = pd.concat([results, normalized_data])\n",
       "</pre>\n"
      ],
      "text/plain": [
       "/tmp/ipykernel_120664/3199749346.py:26: FutureWarning: The behavior of DataFrame concatenation with empty or all-NA\n",
       "entries is deprecated. In a future version, this will no longer exclude empty or all-NA columns when determining \n",
       "the result dtypes. To retain the old behavior, exclude the relevant entries before the concat operation.\n",
       "  results = pd.concat([results, normalized_data])\n"
      ]
     },
     "metadata": {},
     "output_type": "display_data"
    },
    {
     "data": {
      "text/html": [
       "<pre style=\"white-space:pre;overflow-x:auto;line-height:normal;font-family:Menlo,'DejaVu Sans Mono',consolas,'Courier New',monospace\">/tmp/ipykernel_120664/3199749346.py:26: FutureWarning: The behavior of DataFrame concatenation with empty or all-NA\n",
       "entries is deprecated. In a future version, this will no longer exclude empty or all-NA columns when determining \n",
       "the result dtypes. To retain the old behavior, exclude the relevant entries before the concat operation.\n",
       "  results = pd.concat([results, normalized_data])\n",
       "</pre>\n"
      ],
      "text/plain": [
       "/tmp/ipykernel_120664/3199749346.py:26: FutureWarning: The behavior of DataFrame concatenation with empty or all-NA\n",
       "entries is deprecated. In a future version, this will no longer exclude empty or all-NA columns when determining \n",
       "the result dtypes. To retain the old behavior, exclude the relevant entries before the concat operation.\n",
       "  results = pd.concat([results, normalized_data])\n"
      ]
     },
     "metadata": {},
     "output_type": "display_data"
    },
    {
     "data": {
      "text/html": [
       "<pre style=\"white-space:pre;overflow-x:auto;line-height:normal;font-family:Menlo,'DejaVu Sans Mono',consolas,'Courier New',monospace\">/tmp/ipykernel_120664/3199749346.py:26: FutureWarning: The behavior of DataFrame concatenation with empty or all-NA\n",
       "entries is deprecated. In a future version, this will no longer exclude empty or all-NA columns when determining \n",
       "the result dtypes. To retain the old behavior, exclude the relevant entries before the concat operation.\n",
       "  results = pd.concat([results, normalized_data])\n",
       "</pre>\n"
      ],
      "text/plain": [
       "/tmp/ipykernel_120664/3199749346.py:26: FutureWarning: The behavior of DataFrame concatenation with empty or all-NA\n",
       "entries is deprecated. In a future version, this will no longer exclude empty or all-NA columns when determining \n",
       "the result dtypes. To retain the old behavior, exclude the relevant entries before the concat operation.\n",
       "  results = pd.concat([results, normalized_data])\n"
      ]
     },
     "metadata": {},
     "output_type": "display_data"
    },
    {
     "data": {
      "text/html": [
       "<pre style=\"white-space:pre;overflow-x:auto;line-height:normal;font-family:Menlo,'DejaVu Sans Mono',consolas,'Courier New',monospace\">/tmp/ipykernel_120664/3199749346.py:26: FutureWarning: The behavior of DataFrame concatenation with empty or all-NA\n",
       "entries is deprecated. In a future version, this will no longer exclude empty or all-NA columns when determining \n",
       "the result dtypes. To retain the old behavior, exclude the relevant entries before the concat operation.\n",
       "  results = pd.concat([results, normalized_data])\n",
       "</pre>\n"
      ],
      "text/plain": [
       "/tmp/ipykernel_120664/3199749346.py:26: FutureWarning: The behavior of DataFrame concatenation with empty or all-NA\n",
       "entries is deprecated. In a future version, this will no longer exclude empty or all-NA columns when determining \n",
       "the result dtypes. To retain the old behavior, exclude the relevant entries before the concat operation.\n",
       "  results = pd.concat([results, normalized_data])\n"
      ]
     },
     "metadata": {},
     "output_type": "display_data"
    },
    {
     "data": {
      "text/html": [
       "<pre style=\"white-space:pre;overflow-x:auto;line-height:normal;font-family:Menlo,'DejaVu Sans Mono',consolas,'Courier New',monospace\">/tmp/ipykernel_120664/3199749346.py:26: FutureWarning: The behavior of DataFrame concatenation with empty or all-NA\n",
       "entries is deprecated. In a future version, this will no longer exclude empty or all-NA columns when determining \n",
       "the result dtypes. To retain the old behavior, exclude the relevant entries before the concat operation.\n",
       "  results = pd.concat([results, normalized_data])\n",
       "</pre>\n"
      ],
      "text/plain": [
       "/tmp/ipykernel_120664/3199749346.py:26: FutureWarning: The behavior of DataFrame concatenation with empty or all-NA\n",
       "entries is deprecated. In a future version, this will no longer exclude empty or all-NA columns when determining \n",
       "the result dtypes. To retain the old behavior, exclude the relevant entries before the concat operation.\n",
       "  results = pd.concat([results, normalized_data])\n"
      ]
     },
     "metadata": {},
     "output_type": "display_data"
    },
    {
     "data": {
      "text/html": [
       "<pre style=\"white-space:pre;overflow-x:auto;line-height:normal;font-family:Menlo,'DejaVu Sans Mono',consolas,'Courier New',monospace\">/tmp/ipykernel_120664/3199749346.py:26: FutureWarning: The behavior of DataFrame concatenation with empty or all-NA\n",
       "entries is deprecated. In a future version, this will no longer exclude empty or all-NA columns when determining \n",
       "the result dtypes. To retain the old behavior, exclude the relevant entries before the concat operation.\n",
       "  results = pd.concat([results, normalized_data])\n",
       "</pre>\n"
      ],
      "text/plain": [
       "/tmp/ipykernel_120664/3199749346.py:26: FutureWarning: The behavior of DataFrame concatenation with empty or all-NA\n",
       "entries is deprecated. In a future version, this will no longer exclude empty or all-NA columns when determining \n",
       "the result dtypes. To retain the old behavior, exclude the relevant entries before the concat operation.\n",
       "  results = pd.concat([results, normalized_data])\n"
      ]
     },
     "metadata": {},
     "output_type": "display_data"
    },
    {
     "data": {
      "text/html": [
       "<pre style=\"white-space:pre;overflow-x:auto;line-height:normal;font-family:Menlo,'DejaVu Sans Mono',consolas,'Courier New',monospace\">/tmp/ipykernel_120664/3199749346.py:26: FutureWarning: The behavior of DataFrame concatenation with empty or all-NA\n",
       "entries is deprecated. In a future version, this will no longer exclude empty or all-NA columns when determining \n",
       "the result dtypes. To retain the old behavior, exclude the relevant entries before the concat operation.\n",
       "  results = pd.concat([results, normalized_data])\n",
       "</pre>\n"
      ],
      "text/plain": [
       "/tmp/ipykernel_120664/3199749346.py:26: FutureWarning: The behavior of DataFrame concatenation with empty or all-NA\n",
       "entries is deprecated. In a future version, this will no longer exclude empty or all-NA columns when determining \n",
       "the result dtypes. To retain the old behavior, exclude the relevant entries before the concat operation.\n",
       "  results = pd.concat([results, normalized_data])\n"
      ]
     },
     "metadata": {},
     "output_type": "display_data"
    },
    {
     "data": {
      "text/html": [
       "<pre style=\"white-space:pre;overflow-x:auto;line-height:normal;font-family:Menlo,'DejaVu Sans Mono',consolas,'Courier New',monospace\">/tmp/ipykernel_120664/3199749346.py:26: FutureWarning: The behavior of DataFrame concatenation with empty or all-NA\n",
       "entries is deprecated. In a future version, this will no longer exclude empty or all-NA columns when determining \n",
       "the result dtypes. To retain the old behavior, exclude the relevant entries before the concat operation.\n",
       "  results = pd.concat([results, normalized_data])\n",
       "</pre>\n"
      ],
      "text/plain": [
       "/tmp/ipykernel_120664/3199749346.py:26: FutureWarning: The behavior of DataFrame concatenation with empty or all-NA\n",
       "entries is deprecated. In a future version, this will no longer exclude empty or all-NA columns when determining \n",
       "the result dtypes. To retain the old behavior, exclude the relevant entries before the concat operation.\n",
       "  results = pd.concat([results, normalized_data])\n"
      ]
     },
     "metadata": {},
     "output_type": "display_data"
    },
    {
     "data": {
      "text/html": [
       "<pre style=\"white-space:pre;overflow-x:auto;line-height:normal;font-family:Menlo,'DejaVu Sans Mono',consolas,'Courier New',monospace\">/tmp/ipykernel_120664/3199749346.py:26: FutureWarning: The behavior of DataFrame concatenation with empty or all-NA\n",
       "entries is deprecated. In a future version, this will no longer exclude empty or all-NA columns when determining \n",
       "the result dtypes. To retain the old behavior, exclude the relevant entries before the concat operation.\n",
       "  results = pd.concat([results, normalized_data])\n",
       "</pre>\n"
      ],
      "text/plain": [
       "/tmp/ipykernel_120664/3199749346.py:26: FutureWarning: The behavior of DataFrame concatenation with empty or all-NA\n",
       "entries is deprecated. In a future version, this will no longer exclude empty or all-NA columns when determining \n",
       "the result dtypes. To retain the old behavior, exclude the relevant entries before the concat operation.\n",
       "  results = pd.concat([results, normalized_data])\n"
      ]
     },
     "metadata": {},
     "output_type": "display_data"
    },
    {
     "data": {
      "text/html": [
       "<pre style=\"white-space:pre;overflow-x:auto;line-height:normal;font-family:Menlo,'DejaVu Sans Mono',consolas,'Courier New',monospace\">/tmp/ipykernel_120664/3199749346.py:26: FutureWarning: The behavior of DataFrame concatenation with empty or all-NA\n",
       "entries is deprecated. In a future version, this will no longer exclude empty or all-NA columns when determining \n",
       "the result dtypes. To retain the old behavior, exclude the relevant entries before the concat operation.\n",
       "  results = pd.concat([results, normalized_data])\n",
       "</pre>\n"
      ],
      "text/plain": [
       "/tmp/ipykernel_120664/3199749346.py:26: FutureWarning: The behavior of DataFrame concatenation with empty or all-NA\n",
       "entries is deprecated. In a future version, this will no longer exclude empty or all-NA columns when determining \n",
       "the result dtypes. To retain the old behavior, exclude the relevant entries before the concat operation.\n",
       "  results = pd.concat([results, normalized_data])\n"
      ]
     },
     "metadata": {},
     "output_type": "display_data"
    },
    {
     "data": {
      "text/html": [
       "<pre style=\"white-space:pre;overflow-x:auto;line-height:normal;font-family:Menlo,'DejaVu Sans Mono',consolas,'Courier New',monospace\">/tmp/ipykernel_120664/3199749346.py:26: FutureWarning: The behavior of DataFrame concatenation with empty or all-NA\n",
       "entries is deprecated. In a future version, this will no longer exclude empty or all-NA columns when determining \n",
       "the result dtypes. To retain the old behavior, exclude the relevant entries before the concat operation.\n",
       "  results = pd.concat([results, normalized_data])\n",
       "</pre>\n"
      ],
      "text/plain": [
       "/tmp/ipykernel_120664/3199749346.py:26: FutureWarning: The behavior of DataFrame concatenation with empty or all-NA\n",
       "entries is deprecated. In a future version, this will no longer exclude empty or all-NA columns when determining \n",
       "the result dtypes. To retain the old behavior, exclude the relevant entries before the concat operation.\n",
       "  results = pd.concat([results, normalized_data])\n"
      ]
     },
     "metadata": {},
     "output_type": "display_data"
    },
    {
     "data": {
      "text/html": [
       "<pre style=\"white-space:pre;overflow-x:auto;line-height:normal;font-family:Menlo,'DejaVu Sans Mono',consolas,'Courier New',monospace\">/tmp/ipykernel_120664/3199749346.py:26: FutureWarning: The behavior of DataFrame concatenation with empty or all-NA\n",
       "entries is deprecated. In a future version, this will no longer exclude empty or all-NA columns when determining \n",
       "the result dtypes. To retain the old behavior, exclude the relevant entries before the concat operation.\n",
       "  results = pd.concat([results, normalized_data])\n",
       "</pre>\n"
      ],
      "text/plain": [
       "/tmp/ipykernel_120664/3199749346.py:26: FutureWarning: The behavior of DataFrame concatenation with empty or all-NA\n",
       "entries is deprecated. In a future version, this will no longer exclude empty or all-NA columns when determining \n",
       "the result dtypes. To retain the old behavior, exclude the relevant entries before the concat operation.\n",
       "  results = pd.concat([results, normalized_data])\n"
      ]
     },
     "metadata": {},
     "output_type": "display_data"
    },
    {
     "data": {
      "text/html": [
       "<pre style=\"white-space:pre;overflow-x:auto;line-height:normal;font-family:Menlo,'DejaVu Sans Mono',consolas,'Courier New',monospace\">/tmp/ipykernel_120664/3199749346.py:26: FutureWarning: The behavior of DataFrame concatenation with empty or all-NA\n",
       "entries is deprecated. In a future version, this will no longer exclude empty or all-NA columns when determining \n",
       "the result dtypes. To retain the old behavior, exclude the relevant entries before the concat operation.\n",
       "  results = pd.concat([results, normalized_data])\n",
       "</pre>\n"
      ],
      "text/plain": [
       "/tmp/ipykernel_120664/3199749346.py:26: FutureWarning: The behavior of DataFrame concatenation with empty or all-NA\n",
       "entries is deprecated. In a future version, this will no longer exclude empty or all-NA columns when determining \n",
       "the result dtypes. To retain the old behavior, exclude the relevant entries before the concat operation.\n",
       "  results = pd.concat([results, normalized_data])\n"
      ]
     },
     "metadata": {},
     "output_type": "display_data"
    },
    {
     "data": {
      "text/html": [
       "<pre style=\"white-space:pre;overflow-x:auto;line-height:normal;font-family:Menlo,'DejaVu Sans Mono',consolas,'Courier New',monospace\">/tmp/ipykernel_120664/3199749346.py:26: FutureWarning: The behavior of DataFrame concatenation with empty or all-NA\n",
       "entries is deprecated. In a future version, this will no longer exclude empty or all-NA columns when determining \n",
       "the result dtypes. To retain the old behavior, exclude the relevant entries before the concat operation.\n",
       "  results = pd.concat([results, normalized_data])\n",
       "</pre>\n"
      ],
      "text/plain": [
       "/tmp/ipykernel_120664/3199749346.py:26: FutureWarning: The behavior of DataFrame concatenation with empty or all-NA\n",
       "entries is deprecated. In a future version, this will no longer exclude empty or all-NA columns when determining \n",
       "the result dtypes. To retain the old behavior, exclude the relevant entries before the concat operation.\n",
       "  results = pd.concat([results, normalized_data])\n"
      ]
     },
     "metadata": {},
     "output_type": "display_data"
    },
    {
     "data": {
      "text/html": [
       "<pre style=\"white-space:pre;overflow-x:auto;line-height:normal;font-family:Menlo,'DejaVu Sans Mono',consolas,'Courier New',monospace\">/tmp/ipykernel_120664/3199749346.py:26: FutureWarning: The behavior of DataFrame concatenation with empty or all-NA\n",
       "entries is deprecated. In a future version, this will no longer exclude empty or all-NA columns when determining \n",
       "the result dtypes. To retain the old behavior, exclude the relevant entries before the concat operation.\n",
       "  results = pd.concat([results, normalized_data])\n",
       "</pre>\n"
      ],
      "text/plain": [
       "/tmp/ipykernel_120664/3199749346.py:26: FutureWarning: The behavior of DataFrame concatenation with empty or all-NA\n",
       "entries is deprecated. In a future version, this will no longer exclude empty or all-NA columns when determining \n",
       "the result dtypes. To retain the old behavior, exclude the relevant entries before the concat operation.\n",
       "  results = pd.concat([results, normalized_data])\n"
      ]
     },
     "metadata": {},
     "output_type": "display_data"
    },
    {
     "data": {
      "text/html": [
       "<pre style=\"white-space:pre;overflow-x:auto;line-height:normal;font-family:Menlo,'DejaVu Sans Mono',consolas,'Courier New',monospace\">/tmp/ipykernel_120664/3199749346.py:26: FutureWarning: The behavior of DataFrame concatenation with empty or all-NA\n",
       "entries is deprecated. In a future version, this will no longer exclude empty or all-NA columns when determining \n",
       "the result dtypes. To retain the old behavior, exclude the relevant entries before the concat operation.\n",
       "  results = pd.concat([results, normalized_data])\n",
       "</pre>\n"
      ],
      "text/plain": [
       "/tmp/ipykernel_120664/3199749346.py:26: FutureWarning: The behavior of DataFrame concatenation with empty or all-NA\n",
       "entries is deprecated. In a future version, this will no longer exclude empty or all-NA columns when determining \n",
       "the result dtypes. To retain the old behavior, exclude the relevant entries before the concat operation.\n",
       "  results = pd.concat([results, normalized_data])\n"
      ]
     },
     "metadata": {},
     "output_type": "display_data"
    },
    {
     "data": {
      "text/html": [
       "<pre style=\"white-space:pre;overflow-x:auto;line-height:normal;font-family:Menlo,'DejaVu Sans Mono',consolas,'Courier New',monospace\">/tmp/ipykernel_120664/3199749346.py:26: FutureWarning: The behavior of DataFrame concatenation with empty or all-NA\n",
       "entries is deprecated. In a future version, this will no longer exclude empty or all-NA columns when determining \n",
       "the result dtypes. To retain the old behavior, exclude the relevant entries before the concat operation.\n",
       "  results = pd.concat([results, normalized_data])\n",
       "</pre>\n"
      ],
      "text/plain": [
       "/tmp/ipykernel_120664/3199749346.py:26: FutureWarning: The behavior of DataFrame concatenation with empty or all-NA\n",
       "entries is deprecated. In a future version, this will no longer exclude empty or all-NA columns when determining \n",
       "the result dtypes. To retain the old behavior, exclude the relevant entries before the concat operation.\n",
       "  results = pd.concat([results, normalized_data])\n"
      ]
     },
     "metadata": {},
     "output_type": "display_data"
    },
    {
     "data": {
      "text/html": [
       "<pre style=\"white-space:pre;overflow-x:auto;line-height:normal;font-family:Menlo,'DejaVu Sans Mono',consolas,'Courier New',monospace\">/tmp/ipykernel_120664/3199749346.py:26: FutureWarning: The behavior of DataFrame concatenation with empty or all-NA\n",
       "entries is deprecated. In a future version, this will no longer exclude empty or all-NA columns when determining \n",
       "the result dtypes. To retain the old behavior, exclude the relevant entries before the concat operation.\n",
       "  results = pd.concat([results, normalized_data])\n",
       "</pre>\n"
      ],
      "text/plain": [
       "/tmp/ipykernel_120664/3199749346.py:26: FutureWarning: The behavior of DataFrame concatenation with empty or all-NA\n",
       "entries is deprecated. In a future version, this will no longer exclude empty or all-NA columns when determining \n",
       "the result dtypes. To retain the old behavior, exclude the relevant entries before the concat operation.\n",
       "  results = pd.concat([results, normalized_data])\n"
      ]
     },
     "metadata": {},
     "output_type": "display_data"
    },
    {
     "data": {
      "text/html": [
       "<pre style=\"white-space:pre;overflow-x:auto;line-height:normal;font-family:Menlo,'DejaVu Sans Mono',consolas,'Courier New',monospace\">/tmp/ipykernel_120664/3199749346.py:26: FutureWarning: The behavior of DataFrame concatenation with empty or all-NA\n",
       "entries is deprecated. In a future version, this will no longer exclude empty or all-NA columns when determining \n",
       "the result dtypes. To retain the old behavior, exclude the relevant entries before the concat operation.\n",
       "  results = pd.concat([results, normalized_data])\n",
       "</pre>\n"
      ],
      "text/plain": [
       "/tmp/ipykernel_120664/3199749346.py:26: FutureWarning: The behavior of DataFrame concatenation with empty or all-NA\n",
       "entries is deprecated. In a future version, this will no longer exclude empty or all-NA columns when determining \n",
       "the result dtypes. To retain the old behavior, exclude the relevant entries before the concat operation.\n",
       "  results = pd.concat([results, normalized_data])\n"
      ]
     },
     "metadata": {},
     "output_type": "display_data"
    },
    {
     "data": {
      "text/html": [
       "<pre style=\"white-space:pre;overflow-x:auto;line-height:normal;font-family:Menlo,'DejaVu Sans Mono',consolas,'Courier New',monospace\">/tmp/ipykernel_120664/3199749346.py:26: FutureWarning: The behavior of DataFrame concatenation with empty or all-NA\n",
       "entries is deprecated. In a future version, this will no longer exclude empty or all-NA columns when determining \n",
       "the result dtypes. To retain the old behavior, exclude the relevant entries before the concat operation.\n",
       "  results = pd.concat([results, normalized_data])\n",
       "</pre>\n"
      ],
      "text/plain": [
       "/tmp/ipykernel_120664/3199749346.py:26: FutureWarning: The behavior of DataFrame concatenation with empty or all-NA\n",
       "entries is deprecated. In a future version, this will no longer exclude empty or all-NA columns when determining \n",
       "the result dtypes. To retain the old behavior, exclude the relevant entries before the concat operation.\n",
       "  results = pd.concat([results, normalized_data])\n"
      ]
     },
     "metadata": {},
     "output_type": "display_data"
    },
    {
     "data": {
      "text/html": [
       "<pre style=\"white-space:pre;overflow-x:auto;line-height:normal;font-family:Menlo,'DejaVu Sans Mono',consolas,'Courier New',monospace\">/tmp/ipykernel_120664/3199749346.py:26: FutureWarning: The behavior of DataFrame concatenation with empty or all-NA\n",
       "entries is deprecated. In a future version, this will no longer exclude empty or all-NA columns when determining \n",
       "the result dtypes. To retain the old behavior, exclude the relevant entries before the concat operation.\n",
       "  results = pd.concat([results, normalized_data])\n",
       "</pre>\n"
      ],
      "text/plain": [
       "/tmp/ipykernel_120664/3199749346.py:26: FutureWarning: The behavior of DataFrame concatenation with empty or all-NA\n",
       "entries is deprecated. In a future version, this will no longer exclude empty or all-NA columns when determining \n",
       "the result dtypes. To retain the old behavior, exclude the relevant entries before the concat operation.\n",
       "  results = pd.concat([results, normalized_data])\n"
      ]
     },
     "metadata": {},
     "output_type": "display_data"
    },
    {
     "data": {
      "text/html": [
       "<pre style=\"white-space:pre;overflow-x:auto;line-height:normal;font-family:Menlo,'DejaVu Sans Mono',consolas,'Courier New',monospace\">/tmp/ipykernel_120664/3199749346.py:26: FutureWarning: The behavior of DataFrame concatenation with empty or all-NA\n",
       "entries is deprecated. In a future version, this will no longer exclude empty or all-NA columns when determining \n",
       "the result dtypes. To retain the old behavior, exclude the relevant entries before the concat operation.\n",
       "  results = pd.concat([results, normalized_data])\n",
       "</pre>\n"
      ],
      "text/plain": [
       "/tmp/ipykernel_120664/3199749346.py:26: FutureWarning: The behavior of DataFrame concatenation with empty or all-NA\n",
       "entries is deprecated. In a future version, this will no longer exclude empty or all-NA columns when determining \n",
       "the result dtypes. To retain the old behavior, exclude the relevant entries before the concat operation.\n",
       "  results = pd.concat([results, normalized_data])\n"
      ]
     },
     "metadata": {},
     "output_type": "display_data"
    },
    {
     "data": {
      "text/html": [
       "<pre style=\"white-space:pre;overflow-x:auto;line-height:normal;font-family:Menlo,'DejaVu Sans Mono',consolas,'Courier New',monospace\">/tmp/ipykernel_120664/3199749346.py:26: FutureWarning: The behavior of DataFrame concatenation with empty or all-NA\n",
       "entries is deprecated. In a future version, this will no longer exclude empty or all-NA columns when determining \n",
       "the result dtypes. To retain the old behavior, exclude the relevant entries before the concat operation.\n",
       "  results = pd.concat([results, normalized_data])\n",
       "</pre>\n"
      ],
      "text/plain": [
       "/tmp/ipykernel_120664/3199749346.py:26: FutureWarning: The behavior of DataFrame concatenation with empty or all-NA\n",
       "entries is deprecated. In a future version, this will no longer exclude empty or all-NA columns when determining \n",
       "the result dtypes. To retain the old behavior, exclude the relevant entries before the concat operation.\n",
       "  results = pd.concat([results, normalized_data])\n"
      ]
     },
     "metadata": {},
     "output_type": "display_data"
    },
    {
     "data": {
      "text/html": [
       "<pre style=\"white-space:pre;overflow-x:auto;line-height:normal;font-family:Menlo,'DejaVu Sans Mono',consolas,'Courier New',monospace\">/tmp/ipykernel_120664/3199749346.py:26: FutureWarning: The behavior of DataFrame concatenation with empty or all-NA\n",
       "entries is deprecated. In a future version, this will no longer exclude empty or all-NA columns when determining \n",
       "the result dtypes. To retain the old behavior, exclude the relevant entries before the concat operation.\n",
       "  results = pd.concat([results, normalized_data])\n",
       "</pre>\n"
      ],
      "text/plain": [
       "/tmp/ipykernel_120664/3199749346.py:26: FutureWarning: The behavior of DataFrame concatenation with empty or all-NA\n",
       "entries is deprecated. In a future version, this will no longer exclude empty or all-NA columns when determining \n",
       "the result dtypes. To retain the old behavior, exclude the relevant entries before the concat operation.\n",
       "  results = pd.concat([results, normalized_data])\n"
      ]
     },
     "metadata": {},
     "output_type": "display_data"
    },
    {
     "data": {
      "text/html": [
       "<pre style=\"white-space:pre;overflow-x:auto;line-height:normal;font-family:Menlo,'DejaVu Sans Mono',consolas,'Courier New',monospace\">/tmp/ipykernel_120664/3199749346.py:26: FutureWarning: The behavior of DataFrame concatenation with empty or all-NA\n",
       "entries is deprecated. In a future version, this will no longer exclude empty or all-NA columns when determining \n",
       "the result dtypes. To retain the old behavior, exclude the relevant entries before the concat operation.\n",
       "  results = pd.concat([results, normalized_data])\n",
       "</pre>\n"
      ],
      "text/plain": [
       "/tmp/ipykernel_120664/3199749346.py:26: FutureWarning: The behavior of DataFrame concatenation with empty or all-NA\n",
       "entries is deprecated. In a future version, this will no longer exclude empty or all-NA columns when determining \n",
       "the result dtypes. To retain the old behavior, exclude the relevant entries before the concat operation.\n",
       "  results = pd.concat([results, normalized_data])\n"
      ]
     },
     "metadata": {},
     "output_type": "display_data"
    },
    {
     "data": {
      "text/html": [
       "<pre style=\"white-space:pre;overflow-x:auto;line-height:normal;font-family:Menlo,'DejaVu Sans Mono',consolas,'Courier New',monospace\">/tmp/ipykernel_120664/3199749346.py:26: FutureWarning: The behavior of DataFrame concatenation with empty or all-NA\n",
       "entries is deprecated. In a future version, this will no longer exclude empty or all-NA columns when determining \n",
       "the result dtypes. To retain the old behavior, exclude the relevant entries before the concat operation.\n",
       "  results = pd.concat([results, normalized_data])\n",
       "</pre>\n"
      ],
      "text/plain": [
       "/tmp/ipykernel_120664/3199749346.py:26: FutureWarning: The behavior of DataFrame concatenation with empty or all-NA\n",
       "entries is deprecated. In a future version, this will no longer exclude empty or all-NA columns when determining \n",
       "the result dtypes. To retain the old behavior, exclude the relevant entries before the concat operation.\n",
       "  results = pd.concat([results, normalized_data])\n"
      ]
     },
     "metadata": {},
     "output_type": "display_data"
    },
    {
     "data": {
      "text/html": [
       "<pre style=\"white-space:pre;overflow-x:auto;line-height:normal;font-family:Menlo,'DejaVu Sans Mono',consolas,'Courier New',monospace\">/tmp/ipykernel_120664/3199749346.py:26: FutureWarning: The behavior of DataFrame concatenation with empty or all-NA\n",
       "entries is deprecated. In a future version, this will no longer exclude empty or all-NA columns when determining \n",
       "the result dtypes. To retain the old behavior, exclude the relevant entries before the concat operation.\n",
       "  results = pd.concat([results, normalized_data])\n",
       "</pre>\n"
      ],
      "text/plain": [
       "/tmp/ipykernel_120664/3199749346.py:26: FutureWarning: The behavior of DataFrame concatenation with empty or all-NA\n",
       "entries is deprecated. In a future version, this will no longer exclude empty or all-NA columns when determining \n",
       "the result dtypes. To retain the old behavior, exclude the relevant entries before the concat operation.\n",
       "  results = pd.concat([results, normalized_data])\n"
      ]
     },
     "metadata": {},
     "output_type": "display_data"
    },
    {
     "data": {
      "text/html": [
       "<pre style=\"white-space:pre;overflow-x:auto;line-height:normal;font-family:Menlo,'DejaVu Sans Mono',consolas,'Courier New',monospace\">/tmp/ipykernel_120664/3199749346.py:26: FutureWarning: The behavior of DataFrame concatenation with empty or all-NA\n",
       "entries is deprecated. In a future version, this will no longer exclude empty or all-NA columns when determining \n",
       "the result dtypes. To retain the old behavior, exclude the relevant entries before the concat operation.\n",
       "  results = pd.concat([results, normalized_data])\n",
       "</pre>\n"
      ],
      "text/plain": [
       "/tmp/ipykernel_120664/3199749346.py:26: FutureWarning: The behavior of DataFrame concatenation with empty or all-NA\n",
       "entries is deprecated. In a future version, this will no longer exclude empty or all-NA columns when determining \n",
       "the result dtypes. To retain the old behavior, exclude the relevant entries before the concat operation.\n",
       "  results = pd.concat([results, normalized_data])\n"
      ]
     },
     "metadata": {},
     "output_type": "display_data"
    },
    {
     "data": {
      "text/html": [
       "<pre style=\"white-space:pre;overflow-x:auto;line-height:normal;font-family:Menlo,'DejaVu Sans Mono',consolas,'Courier New',monospace\">/tmp/ipykernel_120664/3199749346.py:26: FutureWarning: The behavior of DataFrame concatenation with empty or all-NA\n",
       "entries is deprecated. In a future version, this will no longer exclude empty or all-NA columns when determining \n",
       "the result dtypes. To retain the old behavior, exclude the relevant entries before the concat operation.\n",
       "  results = pd.concat([results, normalized_data])\n",
       "</pre>\n"
      ],
      "text/plain": [
       "/tmp/ipykernel_120664/3199749346.py:26: FutureWarning: The behavior of DataFrame concatenation with empty or all-NA\n",
       "entries is deprecated. In a future version, this will no longer exclude empty or all-NA columns when determining \n",
       "the result dtypes. To retain the old behavior, exclude the relevant entries before the concat operation.\n",
       "  results = pd.concat([results, normalized_data])\n"
      ]
     },
     "metadata": {},
     "output_type": "display_data"
    },
    {
     "data": {
      "text/html": [
       "<pre style=\"white-space:pre;overflow-x:auto;line-height:normal;font-family:Menlo,'DejaVu Sans Mono',consolas,'Courier New',monospace\">/tmp/ipykernel_120664/3199749346.py:26: FutureWarning: The behavior of DataFrame concatenation with empty or all-NA\n",
       "entries is deprecated. In a future version, this will no longer exclude empty or all-NA columns when determining \n",
       "the result dtypes. To retain the old behavior, exclude the relevant entries before the concat operation.\n",
       "  results = pd.concat([results, normalized_data])\n",
       "</pre>\n"
      ],
      "text/plain": [
       "/tmp/ipykernel_120664/3199749346.py:26: FutureWarning: The behavior of DataFrame concatenation with empty or all-NA\n",
       "entries is deprecated. In a future version, this will no longer exclude empty or all-NA columns when determining \n",
       "the result dtypes. To retain the old behavior, exclude the relevant entries before the concat operation.\n",
       "  results = pd.concat([results, normalized_data])\n"
      ]
     },
     "metadata": {},
     "output_type": "display_data"
    },
    {
     "data": {
      "text/html": [
       "<pre style=\"white-space:pre;overflow-x:auto;line-height:normal;font-family:Menlo,'DejaVu Sans Mono',consolas,'Courier New',monospace\">/tmp/ipykernel_120664/3199749346.py:26: FutureWarning: The behavior of DataFrame concatenation with empty or all-NA\n",
       "entries is deprecated. In a future version, this will no longer exclude empty or all-NA columns when determining \n",
       "the result dtypes. To retain the old behavior, exclude the relevant entries before the concat operation.\n",
       "  results = pd.concat([results, normalized_data])\n",
       "</pre>\n"
      ],
      "text/plain": [
       "/tmp/ipykernel_120664/3199749346.py:26: FutureWarning: The behavior of DataFrame concatenation with empty or all-NA\n",
       "entries is deprecated. In a future version, this will no longer exclude empty or all-NA columns when determining \n",
       "the result dtypes. To retain the old behavior, exclude the relevant entries before the concat operation.\n",
       "  results = pd.concat([results, normalized_data])\n"
      ]
     },
     "metadata": {},
     "output_type": "display_data"
    },
    {
     "data": {
      "text/html": [
       "<pre style=\"white-space:pre;overflow-x:auto;line-height:normal;font-family:Menlo,'DejaVu Sans Mono',consolas,'Courier New',monospace\">/tmp/ipykernel_120664/3199749346.py:26: FutureWarning: The behavior of DataFrame concatenation with empty or all-NA\n",
       "entries is deprecated. In a future version, this will no longer exclude empty or all-NA columns when determining \n",
       "the result dtypes. To retain the old behavior, exclude the relevant entries before the concat operation.\n",
       "  results = pd.concat([results, normalized_data])\n",
       "</pre>\n"
      ],
      "text/plain": [
       "/tmp/ipykernel_120664/3199749346.py:26: FutureWarning: The behavior of DataFrame concatenation with empty or all-NA\n",
       "entries is deprecated. In a future version, this will no longer exclude empty or all-NA columns when determining \n",
       "the result dtypes. To retain the old behavior, exclude the relevant entries before the concat operation.\n",
       "  results = pd.concat([results, normalized_data])\n"
      ]
     },
     "metadata": {},
     "output_type": "display_data"
    },
    {
     "data": {
      "text/html": [
       "<pre style=\"white-space:pre;overflow-x:auto;line-height:normal;font-family:Menlo,'DejaVu Sans Mono',consolas,'Courier New',monospace\">/tmp/ipykernel_120664/3199749346.py:26: FutureWarning: The behavior of DataFrame concatenation with empty or all-NA\n",
       "entries is deprecated. In a future version, this will no longer exclude empty or all-NA columns when determining \n",
       "the result dtypes. To retain the old behavior, exclude the relevant entries before the concat operation.\n",
       "  results = pd.concat([results, normalized_data])\n",
       "</pre>\n"
      ],
      "text/plain": [
       "/tmp/ipykernel_120664/3199749346.py:26: FutureWarning: The behavior of DataFrame concatenation with empty or all-NA\n",
       "entries is deprecated. In a future version, this will no longer exclude empty or all-NA columns when determining \n",
       "the result dtypes. To retain the old behavior, exclude the relevant entries before the concat operation.\n",
       "  results = pd.concat([results, normalized_data])\n"
      ]
     },
     "metadata": {},
     "output_type": "display_data"
    },
    {
     "data": {
      "text/html": [
       "<pre style=\"white-space:pre;overflow-x:auto;line-height:normal;font-family:Menlo,'DejaVu Sans Mono',consolas,'Courier New',monospace\">/tmp/ipykernel_120664/3199749346.py:26: FutureWarning: The behavior of DataFrame concatenation with empty or all-NA\n",
       "entries is deprecated. In a future version, this will no longer exclude empty or all-NA columns when determining \n",
       "the result dtypes. To retain the old behavior, exclude the relevant entries before the concat operation.\n",
       "  results = pd.concat([results, normalized_data])\n",
       "</pre>\n"
      ],
      "text/plain": [
       "/tmp/ipykernel_120664/3199749346.py:26: FutureWarning: The behavior of DataFrame concatenation with empty or all-NA\n",
       "entries is deprecated. In a future version, this will no longer exclude empty or all-NA columns when determining \n",
       "the result dtypes. To retain the old behavior, exclude the relevant entries before the concat operation.\n",
       "  results = pd.concat([results, normalized_data])\n"
      ]
     },
     "metadata": {},
     "output_type": "display_data"
    },
    {
     "data": {
      "text/html": [
       "<pre style=\"white-space:pre;overflow-x:auto;line-height:normal;font-family:Menlo,'DejaVu Sans Mono',consolas,'Courier New',monospace\">/tmp/ipykernel_120664/3199749346.py:26: FutureWarning: The behavior of DataFrame concatenation with empty or all-NA\n",
       "entries is deprecated. In a future version, this will no longer exclude empty or all-NA columns when determining \n",
       "the result dtypes. To retain the old behavior, exclude the relevant entries before the concat operation.\n",
       "  results = pd.concat([results, normalized_data])\n",
       "</pre>\n"
      ],
      "text/plain": [
       "/tmp/ipykernel_120664/3199749346.py:26: FutureWarning: The behavior of DataFrame concatenation with empty or all-NA\n",
       "entries is deprecated. In a future version, this will no longer exclude empty or all-NA columns when determining \n",
       "the result dtypes. To retain the old behavior, exclude the relevant entries before the concat operation.\n",
       "  results = pd.concat([results, normalized_data])\n"
      ]
     },
     "metadata": {},
     "output_type": "display_data"
    },
    {
     "data": {
      "text/html": [
       "<pre style=\"white-space:pre;overflow-x:auto;line-height:normal;font-family:Menlo,'DejaVu Sans Mono',consolas,'Courier New',monospace\">/tmp/ipykernel_120664/3199749346.py:26: FutureWarning: The behavior of DataFrame concatenation with empty or all-NA\n",
       "entries is deprecated. In a future version, this will no longer exclude empty or all-NA columns when determining \n",
       "the result dtypes. To retain the old behavior, exclude the relevant entries before the concat operation.\n",
       "  results = pd.concat([results, normalized_data])\n",
       "</pre>\n"
      ],
      "text/plain": [
       "/tmp/ipykernel_120664/3199749346.py:26: FutureWarning: The behavior of DataFrame concatenation with empty or all-NA\n",
       "entries is deprecated. In a future version, this will no longer exclude empty or all-NA columns when determining \n",
       "the result dtypes. To retain the old behavior, exclude the relevant entries before the concat operation.\n",
       "  results = pd.concat([results, normalized_data])\n"
      ]
     },
     "metadata": {},
     "output_type": "display_data"
    },
    {
     "data": {
      "text/html": [
       "<pre style=\"white-space:pre;overflow-x:auto;line-height:normal;font-family:Menlo,'DejaVu Sans Mono',consolas,'Courier New',monospace\">/tmp/ipykernel_120664/3199749346.py:26: FutureWarning: The behavior of DataFrame concatenation with empty or all-NA\n",
       "entries is deprecated. In a future version, this will no longer exclude empty or all-NA columns when determining \n",
       "the result dtypes. To retain the old behavior, exclude the relevant entries before the concat operation.\n",
       "  results = pd.concat([results, normalized_data])\n",
       "</pre>\n"
      ],
      "text/plain": [
       "/tmp/ipykernel_120664/3199749346.py:26: FutureWarning: The behavior of DataFrame concatenation with empty or all-NA\n",
       "entries is deprecated. In a future version, this will no longer exclude empty or all-NA columns when determining \n",
       "the result dtypes. To retain the old behavior, exclude the relevant entries before the concat operation.\n",
       "  results = pd.concat([results, normalized_data])\n"
      ]
     },
     "metadata": {},
     "output_type": "display_data"
    },
    {
     "data": {
      "text/html": [
       "<pre style=\"white-space:pre;overflow-x:auto;line-height:normal;font-family:Menlo,'DejaVu Sans Mono',consolas,'Courier New',monospace\">/tmp/ipykernel_120664/3199749346.py:26: FutureWarning: The behavior of DataFrame concatenation with empty or all-NA\n",
       "entries is deprecated. In a future version, this will no longer exclude empty or all-NA columns when determining \n",
       "the result dtypes. To retain the old behavior, exclude the relevant entries before the concat operation.\n",
       "  results = pd.concat([results, normalized_data])\n",
       "</pre>\n"
      ],
      "text/plain": [
       "/tmp/ipykernel_120664/3199749346.py:26: FutureWarning: The behavior of DataFrame concatenation with empty or all-NA\n",
       "entries is deprecated. In a future version, this will no longer exclude empty or all-NA columns when determining \n",
       "the result dtypes. To retain the old behavior, exclude the relevant entries before the concat operation.\n",
       "  results = pd.concat([results, normalized_data])\n"
      ]
     },
     "metadata": {},
     "output_type": "display_data"
    },
    {
     "data": {
      "text/html": [
       "<pre style=\"white-space:pre;overflow-x:auto;line-height:normal;font-family:Menlo,'DejaVu Sans Mono',consolas,'Courier New',monospace\">/tmp/ipykernel_120664/3199749346.py:26: FutureWarning: The behavior of DataFrame concatenation with empty or all-NA\n",
       "entries is deprecated. In a future version, this will no longer exclude empty or all-NA columns when determining \n",
       "the result dtypes. To retain the old behavior, exclude the relevant entries before the concat operation.\n",
       "  results = pd.concat([results, normalized_data])\n",
       "</pre>\n"
      ],
      "text/plain": [
       "/tmp/ipykernel_120664/3199749346.py:26: FutureWarning: The behavior of DataFrame concatenation with empty or all-NA\n",
       "entries is deprecated. In a future version, this will no longer exclude empty or all-NA columns when determining \n",
       "the result dtypes. To retain the old behavior, exclude the relevant entries before the concat operation.\n",
       "  results = pd.concat([results, normalized_data])\n"
      ]
     },
     "metadata": {},
     "output_type": "display_data"
    },
    {
     "data": {
      "text/html": [
       "<pre style=\"white-space:pre;overflow-x:auto;line-height:normal;font-family:Menlo,'DejaVu Sans Mono',consolas,'Courier New',monospace\">/tmp/ipykernel_120664/3199749346.py:26: FutureWarning: The behavior of DataFrame concatenation with empty or all-NA\n",
       "entries is deprecated. In a future version, this will no longer exclude empty or all-NA columns when determining \n",
       "the result dtypes. To retain the old behavior, exclude the relevant entries before the concat operation.\n",
       "  results = pd.concat([results, normalized_data])\n",
       "</pre>\n"
      ],
      "text/plain": [
       "/tmp/ipykernel_120664/3199749346.py:26: FutureWarning: The behavior of DataFrame concatenation with empty or all-NA\n",
       "entries is deprecated. In a future version, this will no longer exclude empty or all-NA columns when determining \n",
       "the result dtypes. To retain the old behavior, exclude the relevant entries before the concat operation.\n",
       "  results = pd.concat([results, normalized_data])\n"
      ]
     },
     "metadata": {},
     "output_type": "display_data"
    },
    {
     "data": {
      "text/html": [
       "<pre style=\"white-space:pre;overflow-x:auto;line-height:normal;font-family:Menlo,'DejaVu Sans Mono',consolas,'Courier New',monospace\">/tmp/ipykernel_120664/3199749346.py:26: FutureWarning: The behavior of DataFrame concatenation with empty or all-NA\n",
       "entries is deprecated. In a future version, this will no longer exclude empty or all-NA columns when determining \n",
       "the result dtypes. To retain the old behavior, exclude the relevant entries before the concat operation.\n",
       "  results = pd.concat([results, normalized_data])\n",
       "</pre>\n"
      ],
      "text/plain": [
       "/tmp/ipykernel_120664/3199749346.py:26: FutureWarning: The behavior of DataFrame concatenation with empty or all-NA\n",
       "entries is deprecated. In a future version, this will no longer exclude empty or all-NA columns when determining \n",
       "the result dtypes. To retain the old behavior, exclude the relevant entries before the concat operation.\n",
       "  results = pd.concat([results, normalized_data])\n"
      ]
     },
     "metadata": {},
     "output_type": "display_data"
    },
    {
     "data": {
      "text/html": [
       "<pre style=\"white-space:pre;overflow-x:auto;line-height:normal;font-family:Menlo,'DejaVu Sans Mono',consolas,'Courier New',monospace\">/tmp/ipykernel_120664/3199749346.py:26: FutureWarning: The behavior of DataFrame concatenation with empty or all-NA\n",
       "entries is deprecated. In a future version, this will no longer exclude empty or all-NA columns when determining \n",
       "the result dtypes. To retain the old behavior, exclude the relevant entries before the concat operation.\n",
       "  results = pd.concat([results, normalized_data])\n",
       "</pre>\n"
      ],
      "text/plain": [
       "/tmp/ipykernel_120664/3199749346.py:26: FutureWarning: The behavior of DataFrame concatenation with empty or all-NA\n",
       "entries is deprecated. In a future version, this will no longer exclude empty or all-NA columns when determining \n",
       "the result dtypes. To retain the old behavior, exclude the relevant entries before the concat operation.\n",
       "  results = pd.concat([results, normalized_data])\n"
      ]
     },
     "metadata": {},
     "output_type": "display_data"
    },
    {
     "data": {
      "text/html": [
       "<pre style=\"white-space:pre;overflow-x:auto;line-height:normal;font-family:Menlo,'DejaVu Sans Mono',consolas,'Courier New',monospace\">/tmp/ipykernel_120664/3199749346.py:26: FutureWarning: The behavior of DataFrame concatenation with empty or all-NA\n",
       "entries is deprecated. In a future version, this will no longer exclude empty or all-NA columns when determining \n",
       "the result dtypes. To retain the old behavior, exclude the relevant entries before the concat operation.\n",
       "  results = pd.concat([results, normalized_data])\n",
       "</pre>\n"
      ],
      "text/plain": [
       "/tmp/ipykernel_120664/3199749346.py:26: FutureWarning: The behavior of DataFrame concatenation with empty or all-NA\n",
       "entries is deprecated. In a future version, this will no longer exclude empty or all-NA columns when determining \n",
       "the result dtypes. To retain the old behavior, exclude the relevant entries before the concat operation.\n",
       "  results = pd.concat([results, normalized_data])\n"
      ]
     },
     "metadata": {},
     "output_type": "display_data"
    },
    {
     "data": {
      "text/html": [
       "<pre style=\"white-space:pre;overflow-x:auto;line-height:normal;font-family:Menlo,'DejaVu Sans Mono',consolas,'Courier New',monospace\">/tmp/ipykernel_120664/3199749346.py:26: FutureWarning: The behavior of DataFrame concatenation with empty or all-NA\n",
       "entries is deprecated. In a future version, this will no longer exclude empty or all-NA columns when determining \n",
       "the result dtypes. To retain the old behavior, exclude the relevant entries before the concat operation.\n",
       "  results = pd.concat([results, normalized_data])\n",
       "</pre>\n"
      ],
      "text/plain": [
       "/tmp/ipykernel_120664/3199749346.py:26: FutureWarning: The behavior of DataFrame concatenation with empty or all-NA\n",
       "entries is deprecated. In a future version, this will no longer exclude empty or all-NA columns when determining \n",
       "the result dtypes. To retain the old behavior, exclude the relevant entries before the concat operation.\n",
       "  results = pd.concat([results, normalized_data])\n"
      ]
     },
     "metadata": {},
     "output_type": "display_data"
    },
    {
     "data": {
      "text/html": [
       "<pre style=\"white-space:pre;overflow-x:auto;line-height:normal;font-family:Menlo,'DejaVu Sans Mono',consolas,'Courier New',monospace\">/tmp/ipykernel_120664/3199749346.py:26: FutureWarning: The behavior of DataFrame concatenation with empty or all-NA\n",
       "entries is deprecated. In a future version, this will no longer exclude empty or all-NA columns when determining \n",
       "the result dtypes. To retain the old behavior, exclude the relevant entries before the concat operation.\n",
       "  results = pd.concat([results, normalized_data])\n",
       "</pre>\n"
      ],
      "text/plain": [
       "/tmp/ipykernel_120664/3199749346.py:26: FutureWarning: The behavior of DataFrame concatenation with empty or all-NA\n",
       "entries is deprecated. In a future version, this will no longer exclude empty or all-NA columns when determining \n",
       "the result dtypes. To retain the old behavior, exclude the relevant entries before the concat operation.\n",
       "  results = pd.concat([results, normalized_data])\n"
      ]
     },
     "metadata": {},
     "output_type": "display_data"
    },
    {
     "data": {
      "text/html": [
       "<pre style=\"white-space:pre;overflow-x:auto;line-height:normal;font-family:Menlo,'DejaVu Sans Mono',consolas,'Courier New',monospace\">/tmp/ipykernel_120664/3199749346.py:26: FutureWarning: The behavior of DataFrame concatenation with empty or all-NA\n",
       "entries is deprecated. In a future version, this will no longer exclude empty or all-NA columns when determining \n",
       "the result dtypes. To retain the old behavior, exclude the relevant entries before the concat operation.\n",
       "  results = pd.concat([results, normalized_data])\n",
       "</pre>\n"
      ],
      "text/plain": [
       "/tmp/ipykernel_120664/3199749346.py:26: FutureWarning: The behavior of DataFrame concatenation with empty or all-NA\n",
       "entries is deprecated. In a future version, this will no longer exclude empty or all-NA columns when determining \n",
       "the result dtypes. To retain the old behavior, exclude the relevant entries before the concat operation.\n",
       "  results = pd.concat([results, normalized_data])\n"
      ]
     },
     "metadata": {},
     "output_type": "display_data"
    },
    {
     "data": {
      "text/html": [
       "<pre style=\"white-space:pre;overflow-x:auto;line-height:normal;font-family:Menlo,'DejaVu Sans Mono',consolas,'Courier New',monospace\">/tmp/ipykernel_120664/3199749346.py:26: FutureWarning: The behavior of DataFrame concatenation with empty or all-NA\n",
       "entries is deprecated. In a future version, this will no longer exclude empty or all-NA columns when determining \n",
       "the result dtypes. To retain the old behavior, exclude the relevant entries before the concat operation.\n",
       "  results = pd.concat([results, normalized_data])\n",
       "</pre>\n"
      ],
      "text/plain": [
       "/tmp/ipykernel_120664/3199749346.py:26: FutureWarning: The behavior of DataFrame concatenation with empty or all-NA\n",
       "entries is deprecated. In a future version, this will no longer exclude empty or all-NA columns when determining \n",
       "the result dtypes. To retain the old behavior, exclude the relevant entries before the concat operation.\n",
       "  results = pd.concat([results, normalized_data])\n"
      ]
     },
     "metadata": {},
     "output_type": "display_data"
    },
    {
     "data": {
      "text/html": [
       "<pre style=\"white-space:pre;overflow-x:auto;line-height:normal;font-family:Menlo,'DejaVu Sans Mono',consolas,'Courier New',monospace\">/tmp/ipykernel_120664/3199749346.py:26: FutureWarning: The behavior of DataFrame concatenation with empty or all-NA\n",
       "entries is deprecated. In a future version, this will no longer exclude empty or all-NA columns when determining \n",
       "the result dtypes. To retain the old behavior, exclude the relevant entries before the concat operation.\n",
       "  results = pd.concat([results, normalized_data])\n",
       "</pre>\n"
      ],
      "text/plain": [
       "/tmp/ipykernel_120664/3199749346.py:26: FutureWarning: The behavior of DataFrame concatenation with empty or all-NA\n",
       "entries is deprecated. In a future version, this will no longer exclude empty or all-NA columns when determining \n",
       "the result dtypes. To retain the old behavior, exclude the relevant entries before the concat operation.\n",
       "  results = pd.concat([results, normalized_data])\n"
      ]
     },
     "metadata": {},
     "output_type": "display_data"
    },
    {
     "data": {
      "text/html": [
       "<pre style=\"white-space:pre;overflow-x:auto;line-height:normal;font-family:Menlo,'DejaVu Sans Mono',consolas,'Courier New',monospace\">/tmp/ipykernel_120664/3199749346.py:26: FutureWarning: The behavior of DataFrame concatenation with empty or all-NA\n",
       "entries is deprecated. In a future version, this will no longer exclude empty or all-NA columns when determining \n",
       "the result dtypes. To retain the old behavior, exclude the relevant entries before the concat operation.\n",
       "  results = pd.concat([results, normalized_data])\n",
       "</pre>\n"
      ],
      "text/plain": [
       "/tmp/ipykernel_120664/3199749346.py:26: FutureWarning: The behavior of DataFrame concatenation with empty or all-NA\n",
       "entries is deprecated. In a future version, this will no longer exclude empty or all-NA columns when determining \n",
       "the result dtypes. To retain the old behavior, exclude the relevant entries before the concat operation.\n",
       "  results = pd.concat([results, normalized_data])\n"
      ]
     },
     "metadata": {},
     "output_type": "display_data"
    },
    {
     "data": {
      "text/html": [
       "<pre style=\"white-space:pre;overflow-x:auto;line-height:normal;font-family:Menlo,'DejaVu Sans Mono',consolas,'Courier New',monospace\">/tmp/ipykernel_120664/3199749346.py:26: FutureWarning: The behavior of DataFrame concatenation with empty or all-NA\n",
       "entries is deprecated. In a future version, this will no longer exclude empty or all-NA columns when determining \n",
       "the result dtypes. To retain the old behavior, exclude the relevant entries before the concat operation.\n",
       "  results = pd.concat([results, normalized_data])\n",
       "</pre>\n"
      ],
      "text/plain": [
       "/tmp/ipykernel_120664/3199749346.py:26: FutureWarning: The behavior of DataFrame concatenation with empty or all-NA\n",
       "entries is deprecated. In a future version, this will no longer exclude empty or all-NA columns when determining \n",
       "the result dtypes. To retain the old behavior, exclude the relevant entries before the concat operation.\n",
       "  results = pd.concat([results, normalized_data])\n"
      ]
     },
     "metadata": {},
     "output_type": "display_data"
    },
    {
     "data": {
      "text/html": [
       "<pre style=\"white-space:pre;overflow-x:auto;line-height:normal;font-family:Menlo,'DejaVu Sans Mono',consolas,'Courier New',monospace\">/tmp/ipykernel_120664/3199749346.py:26: FutureWarning: The behavior of DataFrame concatenation with empty or all-NA\n",
       "entries is deprecated. In a future version, this will no longer exclude empty or all-NA columns when determining \n",
       "the result dtypes. To retain the old behavior, exclude the relevant entries before the concat operation.\n",
       "  results = pd.concat([results, normalized_data])\n",
       "</pre>\n"
      ],
      "text/plain": [
       "/tmp/ipykernel_120664/3199749346.py:26: FutureWarning: The behavior of DataFrame concatenation with empty or all-NA\n",
       "entries is deprecated. In a future version, this will no longer exclude empty or all-NA columns when determining \n",
       "the result dtypes. To retain the old behavior, exclude the relevant entries before the concat operation.\n",
       "  results = pd.concat([results, normalized_data])\n"
      ]
     },
     "metadata": {},
     "output_type": "display_data"
    },
    {
     "data": {
      "text/html": [
       "<pre style=\"white-space:pre;overflow-x:auto;line-height:normal;font-family:Menlo,'DejaVu Sans Mono',consolas,'Courier New',monospace\">/tmp/ipykernel_120664/3199749346.py:26: FutureWarning: The behavior of DataFrame concatenation with empty or all-NA\n",
       "entries is deprecated. In a future version, this will no longer exclude empty or all-NA columns when determining \n",
       "the result dtypes. To retain the old behavior, exclude the relevant entries before the concat operation.\n",
       "  results = pd.concat([results, normalized_data])\n",
       "</pre>\n"
      ],
      "text/plain": [
       "/tmp/ipykernel_120664/3199749346.py:26: FutureWarning: The behavior of DataFrame concatenation with empty or all-NA\n",
       "entries is deprecated. In a future version, this will no longer exclude empty or all-NA columns when determining \n",
       "the result dtypes. To retain the old behavior, exclude the relevant entries before the concat operation.\n",
       "  results = pd.concat([results, normalized_data])\n"
      ]
     },
     "metadata": {},
     "output_type": "display_data"
    },
    {
     "data": {
      "text/html": [
       "<pre style=\"white-space:pre;overflow-x:auto;line-height:normal;font-family:Menlo,'DejaVu Sans Mono',consolas,'Courier New',monospace\">/tmp/ipykernel_120664/3199749346.py:26: FutureWarning: The behavior of DataFrame concatenation with empty or all-NA\n",
       "entries is deprecated. In a future version, this will no longer exclude empty or all-NA columns when determining \n",
       "the result dtypes. To retain the old behavior, exclude the relevant entries before the concat operation.\n",
       "  results = pd.concat([results, normalized_data])\n",
       "</pre>\n"
      ],
      "text/plain": [
       "/tmp/ipykernel_120664/3199749346.py:26: FutureWarning: The behavior of DataFrame concatenation with empty or all-NA\n",
       "entries is deprecated. In a future version, this will no longer exclude empty or all-NA columns when determining \n",
       "the result dtypes. To retain the old behavior, exclude the relevant entries before the concat operation.\n",
       "  results = pd.concat([results, normalized_data])\n"
      ]
     },
     "metadata": {},
     "output_type": "display_data"
    },
    {
     "data": {
      "text/html": [
       "<pre style=\"white-space:pre;overflow-x:auto;line-height:normal;font-family:Menlo,'DejaVu Sans Mono',consolas,'Courier New',monospace\">/tmp/ipykernel_120664/3199749346.py:26: FutureWarning: The behavior of DataFrame concatenation with empty or all-NA\n",
       "entries is deprecated. In a future version, this will no longer exclude empty or all-NA columns when determining \n",
       "the result dtypes. To retain the old behavior, exclude the relevant entries before the concat operation.\n",
       "  results = pd.concat([results, normalized_data])\n",
       "</pre>\n"
      ],
      "text/plain": [
       "/tmp/ipykernel_120664/3199749346.py:26: FutureWarning: The behavior of DataFrame concatenation with empty or all-NA\n",
       "entries is deprecated. In a future version, this will no longer exclude empty or all-NA columns when determining \n",
       "the result dtypes. To retain the old behavior, exclude the relevant entries before the concat operation.\n",
       "  results = pd.concat([results, normalized_data])\n"
      ]
     },
     "metadata": {},
     "output_type": "display_data"
    },
    {
     "data": {
      "text/html": [
       "<pre style=\"white-space:pre;overflow-x:auto;line-height:normal;font-family:Menlo,'DejaVu Sans Mono',consolas,'Courier New',monospace\">/tmp/ipykernel_120664/3199749346.py:26: FutureWarning: The behavior of DataFrame concatenation with empty or all-NA\n",
       "entries is deprecated. In a future version, this will no longer exclude empty or all-NA columns when determining \n",
       "the result dtypes. To retain the old behavior, exclude the relevant entries before the concat operation.\n",
       "  results = pd.concat([results, normalized_data])\n",
       "</pre>\n"
      ],
      "text/plain": [
       "/tmp/ipykernel_120664/3199749346.py:26: FutureWarning: The behavior of DataFrame concatenation with empty or all-NA\n",
       "entries is deprecated. In a future version, this will no longer exclude empty or all-NA columns when determining \n",
       "the result dtypes. To retain the old behavior, exclude the relevant entries before the concat operation.\n",
       "  results = pd.concat([results, normalized_data])\n"
      ]
     },
     "metadata": {},
     "output_type": "display_data"
    },
    {
     "data": {
      "text/html": [
       "<pre style=\"white-space:pre;overflow-x:auto;line-height:normal;font-family:Menlo,'DejaVu Sans Mono',consolas,'Courier New',monospace\">/tmp/ipykernel_120664/3199749346.py:26: FutureWarning: The behavior of DataFrame concatenation with empty or all-NA\n",
       "entries is deprecated. In a future version, this will no longer exclude empty or all-NA columns when determining \n",
       "the result dtypes. To retain the old behavior, exclude the relevant entries before the concat operation.\n",
       "  results = pd.concat([results, normalized_data])\n",
       "</pre>\n"
      ],
      "text/plain": [
       "/tmp/ipykernel_120664/3199749346.py:26: FutureWarning: The behavior of DataFrame concatenation with empty or all-NA\n",
       "entries is deprecated. In a future version, this will no longer exclude empty or all-NA columns when determining \n",
       "the result dtypes. To retain the old behavior, exclude the relevant entries before the concat operation.\n",
       "  results = pd.concat([results, normalized_data])\n"
      ]
     },
     "metadata": {},
     "output_type": "display_data"
    },
    {
     "data": {
      "text/html": [
       "<pre style=\"white-space:pre;overflow-x:auto;line-height:normal;font-family:Menlo,'DejaVu Sans Mono',consolas,'Courier New',monospace\">/tmp/ipykernel_120664/3199749346.py:26: FutureWarning: The behavior of DataFrame concatenation with empty or all-NA\n",
       "entries is deprecated. In a future version, this will no longer exclude empty or all-NA columns when determining \n",
       "the result dtypes. To retain the old behavior, exclude the relevant entries before the concat operation.\n",
       "  results = pd.concat([results, normalized_data])\n",
       "</pre>\n"
      ],
      "text/plain": [
       "/tmp/ipykernel_120664/3199749346.py:26: FutureWarning: The behavior of DataFrame concatenation with empty or all-NA\n",
       "entries is deprecated. In a future version, this will no longer exclude empty or all-NA columns when determining \n",
       "the result dtypes. To retain the old behavior, exclude the relevant entries before the concat operation.\n",
       "  results = pd.concat([results, normalized_data])\n"
      ]
     },
     "metadata": {},
     "output_type": "display_data"
    },
    {
     "data": {
      "text/html": [
       "<pre style=\"white-space:pre;overflow-x:auto;line-height:normal;font-family:Menlo,'DejaVu Sans Mono',consolas,'Courier New',monospace\">/tmp/ipykernel_120664/3199749346.py:26: FutureWarning: The behavior of DataFrame concatenation with empty or all-NA\n",
       "entries is deprecated. In a future version, this will no longer exclude empty or all-NA columns when determining \n",
       "the result dtypes. To retain the old behavior, exclude the relevant entries before the concat operation.\n",
       "  results = pd.concat([results, normalized_data])\n",
       "</pre>\n"
      ],
      "text/plain": [
       "/tmp/ipykernel_120664/3199749346.py:26: FutureWarning: The behavior of DataFrame concatenation with empty or all-NA\n",
       "entries is deprecated. In a future version, this will no longer exclude empty or all-NA columns when determining \n",
       "the result dtypes. To retain the old behavior, exclude the relevant entries before the concat operation.\n",
       "  results = pd.concat([results, normalized_data])\n"
      ]
     },
     "metadata": {},
     "output_type": "display_data"
    },
    {
     "data": {
      "text/html": [
       "<pre style=\"white-space:pre;overflow-x:auto;line-height:normal;font-family:Menlo,'DejaVu Sans Mono',consolas,'Courier New',monospace\">/tmp/ipykernel_120664/3199749346.py:26: FutureWarning: The behavior of DataFrame concatenation with empty or all-NA\n",
       "entries is deprecated. In a future version, this will no longer exclude empty or all-NA columns when determining \n",
       "the result dtypes. To retain the old behavior, exclude the relevant entries before the concat operation.\n",
       "  results = pd.concat([results, normalized_data])\n",
       "</pre>\n"
      ],
      "text/plain": [
       "/tmp/ipykernel_120664/3199749346.py:26: FutureWarning: The behavior of DataFrame concatenation with empty or all-NA\n",
       "entries is deprecated. In a future version, this will no longer exclude empty or all-NA columns when determining \n",
       "the result dtypes. To retain the old behavior, exclude the relevant entries before the concat operation.\n",
       "  results = pd.concat([results, normalized_data])\n"
      ]
     },
     "metadata": {},
     "output_type": "display_data"
    },
    {
     "data": {
      "text/html": [
       "<pre style=\"white-space:pre;overflow-x:auto;line-height:normal;font-family:Menlo,'DejaVu Sans Mono',consolas,'Courier New',monospace\">/tmp/ipykernel_120664/3199749346.py:26: FutureWarning: The behavior of DataFrame concatenation with empty or all-NA\n",
       "entries is deprecated. In a future version, this will no longer exclude empty or all-NA columns when determining \n",
       "the result dtypes. To retain the old behavior, exclude the relevant entries before the concat operation.\n",
       "  results = pd.concat([results, normalized_data])\n",
       "</pre>\n"
      ],
      "text/plain": [
       "/tmp/ipykernel_120664/3199749346.py:26: FutureWarning: The behavior of DataFrame concatenation with empty or all-NA\n",
       "entries is deprecated. In a future version, this will no longer exclude empty or all-NA columns when determining \n",
       "the result dtypes. To retain the old behavior, exclude the relevant entries before the concat operation.\n",
       "  results = pd.concat([results, normalized_data])\n"
      ]
     },
     "metadata": {},
     "output_type": "display_data"
    },
    {
     "data": {
      "text/html": [
       "<pre style=\"white-space:pre;overflow-x:auto;line-height:normal;font-family:Menlo,'DejaVu Sans Mono',consolas,'Courier New',monospace\">/tmp/ipykernel_120664/3199749346.py:26: FutureWarning: The behavior of DataFrame concatenation with empty or all-NA\n",
       "entries is deprecated. In a future version, this will no longer exclude empty or all-NA columns when determining \n",
       "the result dtypes. To retain the old behavior, exclude the relevant entries before the concat operation.\n",
       "  results = pd.concat([results, normalized_data])\n",
       "</pre>\n"
      ],
      "text/plain": [
       "/tmp/ipykernel_120664/3199749346.py:26: FutureWarning: The behavior of DataFrame concatenation with empty or all-NA\n",
       "entries is deprecated. In a future version, this will no longer exclude empty or all-NA columns when determining \n",
       "the result dtypes. To retain the old behavior, exclude the relevant entries before the concat operation.\n",
       "  results = pd.concat([results, normalized_data])\n"
      ]
     },
     "metadata": {},
     "output_type": "display_data"
    },
    {
     "data": {
      "text/html": [
       "<pre style=\"white-space:pre;overflow-x:auto;line-height:normal;font-family:Menlo,'DejaVu Sans Mono',consolas,'Courier New',monospace\">/tmp/ipykernel_120664/3199749346.py:26: FutureWarning: The behavior of DataFrame concatenation with empty or all-NA\n",
       "entries is deprecated. In a future version, this will no longer exclude empty or all-NA columns when determining \n",
       "the result dtypes. To retain the old behavior, exclude the relevant entries before the concat operation.\n",
       "  results = pd.concat([results, normalized_data])\n",
       "</pre>\n"
      ],
      "text/plain": [
       "/tmp/ipykernel_120664/3199749346.py:26: FutureWarning: The behavior of DataFrame concatenation with empty or all-NA\n",
       "entries is deprecated. In a future version, this will no longer exclude empty or all-NA columns when determining \n",
       "the result dtypes. To retain the old behavior, exclude the relevant entries before the concat operation.\n",
       "  results = pd.concat([results, normalized_data])\n"
      ]
     },
     "metadata": {},
     "output_type": "display_data"
    },
    {
     "data": {
      "text/html": [
       "<pre style=\"white-space:pre;overflow-x:auto;line-height:normal;font-family:Menlo,'DejaVu Sans Mono',consolas,'Courier New',monospace\">/tmp/ipykernel_120664/3199749346.py:26: FutureWarning: The behavior of DataFrame concatenation with empty or all-NA\n",
       "entries is deprecated. In a future version, this will no longer exclude empty or all-NA columns when determining \n",
       "the result dtypes. To retain the old behavior, exclude the relevant entries before the concat operation.\n",
       "  results = pd.concat([results, normalized_data])\n",
       "</pre>\n"
      ],
      "text/plain": [
       "/tmp/ipykernel_120664/3199749346.py:26: FutureWarning: The behavior of DataFrame concatenation with empty or all-NA\n",
       "entries is deprecated. In a future version, this will no longer exclude empty or all-NA columns when determining \n",
       "the result dtypes. To retain the old behavior, exclude the relevant entries before the concat operation.\n",
       "  results = pd.concat([results, normalized_data])\n"
      ]
     },
     "metadata": {},
     "output_type": "display_data"
    },
    {
     "data": {
      "text/html": [
       "<pre style=\"white-space:pre;overflow-x:auto;line-height:normal;font-family:Menlo,'DejaVu Sans Mono',consolas,'Courier New',monospace\">/tmp/ipykernel_120664/3199749346.py:26: FutureWarning: The behavior of DataFrame concatenation with empty or all-NA\n",
       "entries is deprecated. In a future version, this will no longer exclude empty or all-NA columns when determining \n",
       "the result dtypes. To retain the old behavior, exclude the relevant entries before the concat operation.\n",
       "  results = pd.concat([results, normalized_data])\n",
       "</pre>\n"
      ],
      "text/plain": [
       "/tmp/ipykernel_120664/3199749346.py:26: FutureWarning: The behavior of DataFrame concatenation with empty or all-NA\n",
       "entries is deprecated. In a future version, this will no longer exclude empty or all-NA columns when determining \n",
       "the result dtypes. To retain the old behavior, exclude the relevant entries before the concat operation.\n",
       "  results = pd.concat([results, normalized_data])\n"
      ]
     },
     "metadata": {},
     "output_type": "display_data"
    },
    {
     "data": {
      "text/html": [
       "<pre style=\"white-space:pre;overflow-x:auto;line-height:normal;font-family:Menlo,'DejaVu Sans Mono',consolas,'Courier New',monospace\">/tmp/ipykernel_120664/3199749346.py:26: FutureWarning: The behavior of DataFrame concatenation with empty or all-NA\n",
       "entries is deprecated. In a future version, this will no longer exclude empty or all-NA columns when determining \n",
       "the result dtypes. To retain the old behavior, exclude the relevant entries before the concat operation.\n",
       "  results = pd.concat([results, normalized_data])\n",
       "</pre>\n"
      ],
      "text/plain": [
       "/tmp/ipykernel_120664/3199749346.py:26: FutureWarning: The behavior of DataFrame concatenation with empty or all-NA\n",
       "entries is deprecated. In a future version, this will no longer exclude empty or all-NA columns when determining \n",
       "the result dtypes. To retain the old behavior, exclude the relevant entries before the concat operation.\n",
       "  results = pd.concat([results, normalized_data])\n"
      ]
     },
     "metadata": {},
     "output_type": "display_data"
    },
    {
     "data": {
      "text/html": [
       "<pre style=\"white-space:pre;overflow-x:auto;line-height:normal;font-family:Menlo,'DejaVu Sans Mono',consolas,'Courier New',monospace\">/tmp/ipykernel_120664/3199749346.py:26: FutureWarning: The behavior of DataFrame concatenation with empty or all-NA\n",
       "entries is deprecated. In a future version, this will no longer exclude empty or all-NA columns when determining \n",
       "the result dtypes. To retain the old behavior, exclude the relevant entries before the concat operation.\n",
       "  results = pd.concat([results, normalized_data])\n",
       "</pre>\n"
      ],
      "text/plain": [
       "/tmp/ipykernel_120664/3199749346.py:26: FutureWarning: The behavior of DataFrame concatenation with empty or all-NA\n",
       "entries is deprecated. In a future version, this will no longer exclude empty or all-NA columns when determining \n",
       "the result dtypes. To retain the old behavior, exclude the relevant entries before the concat operation.\n",
       "  results = pd.concat([results, normalized_data])\n"
      ]
     },
     "metadata": {},
     "output_type": "display_data"
    },
    {
     "data": {
      "text/html": [
       "<pre style=\"white-space:pre;overflow-x:auto;line-height:normal;font-family:Menlo,'DejaVu Sans Mono',consolas,'Courier New',monospace\">/tmp/ipykernel_120664/3199749346.py:26: FutureWarning: The behavior of DataFrame concatenation with empty or all-NA\n",
       "entries is deprecated. In a future version, this will no longer exclude empty or all-NA columns when determining \n",
       "the result dtypes. To retain the old behavior, exclude the relevant entries before the concat operation.\n",
       "  results = pd.concat([results, normalized_data])\n",
       "</pre>\n"
      ],
      "text/plain": [
       "/tmp/ipykernel_120664/3199749346.py:26: FutureWarning: The behavior of DataFrame concatenation with empty or all-NA\n",
       "entries is deprecated. In a future version, this will no longer exclude empty or all-NA columns when determining \n",
       "the result dtypes. To retain the old behavior, exclude the relevant entries before the concat operation.\n",
       "  results = pd.concat([results, normalized_data])\n"
      ]
     },
     "metadata": {},
     "output_type": "display_data"
    },
    {
     "data": {
      "text/html": [
       "<pre style=\"white-space:pre;overflow-x:auto;line-height:normal;font-family:Menlo,'DejaVu Sans Mono',consolas,'Courier New',monospace\">/tmp/ipykernel_120664/3199749346.py:26: FutureWarning: The behavior of DataFrame concatenation with empty or all-NA\n",
       "entries is deprecated. In a future version, this will no longer exclude empty or all-NA columns when determining \n",
       "the result dtypes. To retain the old behavior, exclude the relevant entries before the concat operation.\n",
       "  results = pd.concat([results, normalized_data])\n",
       "</pre>\n"
      ],
      "text/plain": [
       "/tmp/ipykernel_120664/3199749346.py:26: FutureWarning: The behavior of DataFrame concatenation with empty or all-NA\n",
       "entries is deprecated. In a future version, this will no longer exclude empty or all-NA columns when determining \n",
       "the result dtypes. To retain the old behavior, exclude the relevant entries before the concat operation.\n",
       "  results = pd.concat([results, normalized_data])\n"
      ]
     },
     "metadata": {},
     "output_type": "display_data"
    },
    {
     "data": {
      "text/html": [
       "<pre style=\"white-space:pre;overflow-x:auto;line-height:normal;font-family:Menlo,'DejaVu Sans Mono',consolas,'Courier New',monospace\">/tmp/ipykernel_120664/3199749346.py:26: FutureWarning: The behavior of DataFrame concatenation with empty or all-NA\n",
       "entries is deprecated. In a future version, this will no longer exclude empty or all-NA columns when determining \n",
       "the result dtypes. To retain the old behavior, exclude the relevant entries before the concat operation.\n",
       "  results = pd.concat([results, normalized_data])\n",
       "</pre>\n"
      ],
      "text/plain": [
       "/tmp/ipykernel_120664/3199749346.py:26: FutureWarning: The behavior of DataFrame concatenation with empty or all-NA\n",
       "entries is deprecated. In a future version, this will no longer exclude empty or all-NA columns when determining \n",
       "the result dtypes. To retain the old behavior, exclude the relevant entries before the concat operation.\n",
       "  results = pd.concat([results, normalized_data])\n"
      ]
     },
     "metadata": {},
     "output_type": "display_data"
    },
    {
     "data": {
      "text/html": [
       "<pre style=\"white-space:pre;overflow-x:auto;line-height:normal;font-family:Menlo,'DejaVu Sans Mono',consolas,'Courier New',monospace\">/tmp/ipykernel_120664/3199749346.py:26: FutureWarning: The behavior of DataFrame concatenation with empty or all-NA\n",
       "entries is deprecated. In a future version, this will no longer exclude empty or all-NA columns when determining \n",
       "the result dtypes. To retain the old behavior, exclude the relevant entries before the concat operation.\n",
       "  results = pd.concat([results, normalized_data])\n",
       "</pre>\n"
      ],
      "text/plain": [
       "/tmp/ipykernel_120664/3199749346.py:26: FutureWarning: The behavior of DataFrame concatenation with empty or all-NA\n",
       "entries is deprecated. In a future version, this will no longer exclude empty or all-NA columns when determining \n",
       "the result dtypes. To retain the old behavior, exclude the relevant entries before the concat operation.\n",
       "  results = pd.concat([results, normalized_data])\n"
      ]
     },
     "metadata": {},
     "output_type": "display_data"
    },
    {
     "data": {
      "text/html": [
       "<pre style=\"white-space:pre;overflow-x:auto;line-height:normal;font-family:Menlo,'DejaVu Sans Mono',consolas,'Courier New',monospace\">/tmp/ipykernel_120664/3199749346.py:26: FutureWarning: The behavior of DataFrame concatenation with empty or all-NA\n",
       "entries is deprecated. In a future version, this will no longer exclude empty or all-NA columns when determining \n",
       "the result dtypes. To retain the old behavior, exclude the relevant entries before the concat operation.\n",
       "  results = pd.concat([results, normalized_data])\n",
       "</pre>\n"
      ],
      "text/plain": [
       "/tmp/ipykernel_120664/3199749346.py:26: FutureWarning: The behavior of DataFrame concatenation with empty or all-NA\n",
       "entries is deprecated. In a future version, this will no longer exclude empty or all-NA columns when determining \n",
       "the result dtypes. To retain the old behavior, exclude the relevant entries before the concat operation.\n",
       "  results = pd.concat([results, normalized_data])\n"
      ]
     },
     "metadata": {},
     "output_type": "display_data"
    },
    {
     "data": {
      "text/html": [
       "<pre style=\"white-space:pre;overflow-x:auto;line-height:normal;font-family:Menlo,'DejaVu Sans Mono',consolas,'Courier New',monospace\">/tmp/ipykernel_120664/3199749346.py:26: FutureWarning: The behavior of DataFrame concatenation with empty or all-NA\n",
       "entries is deprecated. In a future version, this will no longer exclude empty or all-NA columns when determining \n",
       "the result dtypes. To retain the old behavior, exclude the relevant entries before the concat operation.\n",
       "  results = pd.concat([results, normalized_data])\n",
       "</pre>\n"
      ],
      "text/plain": [
       "/tmp/ipykernel_120664/3199749346.py:26: FutureWarning: The behavior of DataFrame concatenation with empty or all-NA\n",
       "entries is deprecated. In a future version, this will no longer exclude empty or all-NA columns when determining \n",
       "the result dtypes. To retain the old behavior, exclude the relevant entries before the concat operation.\n",
       "  results = pd.concat([results, normalized_data])\n"
      ]
     },
     "metadata": {},
     "output_type": "display_data"
    },
    {
     "data": {
      "text/html": [
       "<pre style=\"white-space:pre;overflow-x:auto;line-height:normal;font-family:Menlo,'DejaVu Sans Mono',consolas,'Courier New',monospace\">/tmp/ipykernel_120664/3199749346.py:26: FutureWarning: The behavior of DataFrame concatenation with empty or all-NA\n",
       "entries is deprecated. In a future version, this will no longer exclude empty or all-NA columns when determining \n",
       "the result dtypes. To retain the old behavior, exclude the relevant entries before the concat operation.\n",
       "  results = pd.concat([results, normalized_data])\n",
       "</pre>\n"
      ],
      "text/plain": [
       "/tmp/ipykernel_120664/3199749346.py:26: FutureWarning: The behavior of DataFrame concatenation with empty or all-NA\n",
       "entries is deprecated. In a future version, this will no longer exclude empty or all-NA columns when determining \n",
       "the result dtypes. To retain the old behavior, exclude the relevant entries before the concat operation.\n",
       "  results = pd.concat([results, normalized_data])\n"
      ]
     },
     "metadata": {},
     "output_type": "display_data"
    },
    {
     "data": {
      "text/html": [
       "<pre style=\"white-space:pre;overflow-x:auto;line-height:normal;font-family:Menlo,'DejaVu Sans Mono',consolas,'Courier New',monospace\">/tmp/ipykernel_120664/3199749346.py:26: FutureWarning: The behavior of DataFrame concatenation with empty or all-NA\n",
       "entries is deprecated. In a future version, this will no longer exclude empty or all-NA columns when determining \n",
       "the result dtypes. To retain the old behavior, exclude the relevant entries before the concat operation.\n",
       "  results = pd.concat([results, normalized_data])\n",
       "</pre>\n"
      ],
      "text/plain": [
       "/tmp/ipykernel_120664/3199749346.py:26: FutureWarning: The behavior of DataFrame concatenation with empty or all-NA\n",
       "entries is deprecated. In a future version, this will no longer exclude empty or all-NA columns when determining \n",
       "the result dtypes. To retain the old behavior, exclude the relevant entries before the concat operation.\n",
       "  results = pd.concat([results, normalized_data])\n"
      ]
     },
     "metadata": {},
     "output_type": "display_data"
    },
    {
     "data": {
      "text/html": [
       "<pre style=\"white-space:pre;overflow-x:auto;line-height:normal;font-family:Menlo,'DejaVu Sans Mono',consolas,'Courier New',monospace\">/tmp/ipykernel_120664/3199749346.py:26: FutureWarning: The behavior of DataFrame concatenation with empty or all-NA\n",
       "entries is deprecated. In a future version, this will no longer exclude empty or all-NA columns when determining \n",
       "the result dtypes. To retain the old behavior, exclude the relevant entries before the concat operation.\n",
       "  results = pd.concat([results, normalized_data])\n",
       "</pre>\n"
      ],
      "text/plain": [
       "/tmp/ipykernel_120664/3199749346.py:26: FutureWarning: The behavior of DataFrame concatenation with empty or all-NA\n",
       "entries is deprecated. In a future version, this will no longer exclude empty or all-NA columns when determining \n",
       "the result dtypes. To retain the old behavior, exclude the relevant entries before the concat operation.\n",
       "  results = pd.concat([results, normalized_data])\n"
      ]
     },
     "metadata": {},
     "output_type": "display_data"
    },
    {
     "data": {
      "text/html": [
       "<pre style=\"white-space:pre;overflow-x:auto;line-height:normal;font-family:Menlo,'DejaVu Sans Mono',consolas,'Courier New',monospace\">/tmp/ipykernel_120664/3199749346.py:26: FutureWarning: The behavior of DataFrame concatenation with empty or all-NA\n",
       "entries is deprecated. In a future version, this will no longer exclude empty or all-NA columns when determining \n",
       "the result dtypes. To retain the old behavior, exclude the relevant entries before the concat operation.\n",
       "  results = pd.concat([results, normalized_data])\n",
       "</pre>\n"
      ],
      "text/plain": [
       "/tmp/ipykernel_120664/3199749346.py:26: FutureWarning: The behavior of DataFrame concatenation with empty or all-NA\n",
       "entries is deprecated. In a future version, this will no longer exclude empty or all-NA columns when determining \n",
       "the result dtypes. To retain the old behavior, exclude the relevant entries before the concat operation.\n",
       "  results = pd.concat([results, normalized_data])\n"
      ]
     },
     "metadata": {},
     "output_type": "display_data"
    },
    {
     "data": {
      "text/html": [
       "<pre style=\"white-space:pre;overflow-x:auto;line-height:normal;font-family:Menlo,'DejaVu Sans Mono',consolas,'Courier New',monospace\">/tmp/ipykernel_120664/3199749346.py:26: FutureWarning: The behavior of DataFrame concatenation with empty or all-NA\n",
       "entries is deprecated. In a future version, this will no longer exclude empty or all-NA columns when determining \n",
       "the result dtypes. To retain the old behavior, exclude the relevant entries before the concat operation.\n",
       "  results = pd.concat([results, normalized_data])\n",
       "</pre>\n"
      ],
      "text/plain": [
       "/tmp/ipykernel_120664/3199749346.py:26: FutureWarning: The behavior of DataFrame concatenation with empty or all-NA\n",
       "entries is deprecated. In a future version, this will no longer exclude empty or all-NA columns when determining \n",
       "the result dtypes. To retain the old behavior, exclude the relevant entries before the concat operation.\n",
       "  results = pd.concat([results, normalized_data])\n"
      ]
     },
     "metadata": {},
     "output_type": "display_data"
    },
    {
     "data": {
      "text/html": [
       "<pre style=\"white-space:pre;overflow-x:auto;line-height:normal;font-family:Menlo,'DejaVu Sans Mono',consolas,'Courier New',monospace\">/tmp/ipykernel_120664/3199749346.py:26: FutureWarning: The behavior of DataFrame concatenation with empty or all-NA\n",
       "entries is deprecated. In a future version, this will no longer exclude empty or all-NA columns when determining \n",
       "the result dtypes. To retain the old behavior, exclude the relevant entries before the concat operation.\n",
       "  results = pd.concat([results, normalized_data])\n",
       "</pre>\n"
      ],
      "text/plain": [
       "/tmp/ipykernel_120664/3199749346.py:26: FutureWarning: The behavior of DataFrame concatenation with empty or all-NA\n",
       "entries is deprecated. In a future version, this will no longer exclude empty or all-NA columns when determining \n",
       "the result dtypes. To retain the old behavior, exclude the relevant entries before the concat operation.\n",
       "  results = pd.concat([results, normalized_data])\n"
      ]
     },
     "metadata": {},
     "output_type": "display_data"
    },
    {
     "data": {
      "text/html": [
       "<pre style=\"white-space:pre;overflow-x:auto;line-height:normal;font-family:Menlo,'DejaVu Sans Mono',consolas,'Courier New',monospace\">/tmp/ipykernel_120664/3199749346.py:26: FutureWarning: The behavior of DataFrame concatenation with empty or all-NA\n",
       "entries is deprecated. In a future version, this will no longer exclude empty or all-NA columns when determining \n",
       "the result dtypes. To retain the old behavior, exclude the relevant entries before the concat operation.\n",
       "  results = pd.concat([results, normalized_data])\n",
       "</pre>\n"
      ],
      "text/plain": [
       "/tmp/ipykernel_120664/3199749346.py:26: FutureWarning: The behavior of DataFrame concatenation with empty or all-NA\n",
       "entries is deprecated. In a future version, this will no longer exclude empty or all-NA columns when determining \n",
       "the result dtypes. To retain the old behavior, exclude the relevant entries before the concat operation.\n",
       "  results = pd.concat([results, normalized_data])\n"
      ]
     },
     "metadata": {},
     "output_type": "display_data"
    },
    {
     "data": {
      "text/html": [
       "<pre style=\"white-space:pre;overflow-x:auto;line-height:normal;font-family:Menlo,'DejaVu Sans Mono',consolas,'Courier New',monospace\">/tmp/ipykernel_120664/3199749346.py:26: FutureWarning: The behavior of DataFrame concatenation with empty or all-NA\n",
       "entries is deprecated. In a future version, this will no longer exclude empty or all-NA columns when determining \n",
       "the result dtypes. To retain the old behavior, exclude the relevant entries before the concat operation.\n",
       "  results = pd.concat([results, normalized_data])\n",
       "</pre>\n"
      ],
      "text/plain": [
       "/tmp/ipykernel_120664/3199749346.py:26: FutureWarning: The behavior of DataFrame concatenation with empty or all-NA\n",
       "entries is deprecated. In a future version, this will no longer exclude empty or all-NA columns when determining \n",
       "the result dtypes. To retain the old behavior, exclude the relevant entries before the concat operation.\n",
       "  results = pd.concat([results, normalized_data])\n"
      ]
     },
     "metadata": {},
     "output_type": "display_data"
    },
    {
     "data": {
      "text/html": [
       "<pre style=\"white-space:pre;overflow-x:auto;line-height:normal;font-family:Menlo,'DejaVu Sans Mono',consolas,'Courier New',monospace\">/tmp/ipykernel_120664/3199749346.py:26: FutureWarning: The behavior of DataFrame concatenation with empty or all-NA\n",
       "entries is deprecated. In a future version, this will no longer exclude empty or all-NA columns when determining \n",
       "the result dtypes. To retain the old behavior, exclude the relevant entries before the concat operation.\n",
       "  results = pd.concat([results, normalized_data])\n",
       "</pre>\n"
      ],
      "text/plain": [
       "/tmp/ipykernel_120664/3199749346.py:26: FutureWarning: The behavior of DataFrame concatenation with empty or all-NA\n",
       "entries is deprecated. In a future version, this will no longer exclude empty or all-NA columns when determining \n",
       "the result dtypes. To retain the old behavior, exclude the relevant entries before the concat operation.\n",
       "  results = pd.concat([results, normalized_data])\n"
      ]
     },
     "metadata": {},
     "output_type": "display_data"
    },
    {
     "data": {
      "text/html": [
       "<pre style=\"white-space:pre;overflow-x:auto;line-height:normal;font-family:Menlo,'DejaVu Sans Mono',consolas,'Courier New',monospace\">/tmp/ipykernel_120664/3199749346.py:26: FutureWarning: The behavior of DataFrame concatenation with empty or all-NA\n",
       "entries is deprecated. In a future version, this will no longer exclude empty or all-NA columns when determining \n",
       "the result dtypes. To retain the old behavior, exclude the relevant entries before the concat operation.\n",
       "  results = pd.concat([results, normalized_data])\n",
       "</pre>\n"
      ],
      "text/plain": [
       "/tmp/ipykernel_120664/3199749346.py:26: FutureWarning: The behavior of DataFrame concatenation with empty or all-NA\n",
       "entries is deprecated. In a future version, this will no longer exclude empty or all-NA columns when determining \n",
       "the result dtypes. To retain the old behavior, exclude the relevant entries before the concat operation.\n",
       "  results = pd.concat([results, normalized_data])\n"
      ]
     },
     "metadata": {},
     "output_type": "display_data"
    },
    {
     "data": {
      "text/html": [
       "<pre style=\"white-space:pre;overflow-x:auto;line-height:normal;font-family:Menlo,'DejaVu Sans Mono',consolas,'Courier New',monospace\">/tmp/ipykernel_120664/3199749346.py:26: FutureWarning: The behavior of DataFrame concatenation with empty or all-NA\n",
       "entries is deprecated. In a future version, this will no longer exclude empty or all-NA columns when determining \n",
       "the result dtypes. To retain the old behavior, exclude the relevant entries before the concat operation.\n",
       "  results = pd.concat([results, normalized_data])\n",
       "</pre>\n"
      ],
      "text/plain": [
       "/tmp/ipykernel_120664/3199749346.py:26: FutureWarning: The behavior of DataFrame concatenation with empty or all-NA\n",
       "entries is deprecated. In a future version, this will no longer exclude empty or all-NA columns when determining \n",
       "the result dtypes. To retain the old behavior, exclude the relevant entries before the concat operation.\n",
       "  results = pd.concat([results, normalized_data])\n"
      ]
     },
     "metadata": {},
     "output_type": "display_data"
    },
    {
     "data": {
      "text/html": [
       "<pre style=\"white-space:pre;overflow-x:auto;line-height:normal;font-family:Menlo,'DejaVu Sans Mono',consolas,'Courier New',monospace\">/tmp/ipykernel_120664/3199749346.py:26: FutureWarning: The behavior of DataFrame concatenation with empty or all-NA\n",
       "entries is deprecated. In a future version, this will no longer exclude empty or all-NA columns when determining \n",
       "the result dtypes. To retain the old behavior, exclude the relevant entries before the concat operation.\n",
       "  results = pd.concat([results, normalized_data])\n",
       "</pre>\n"
      ],
      "text/plain": [
       "/tmp/ipykernel_120664/3199749346.py:26: FutureWarning: The behavior of DataFrame concatenation with empty or all-NA\n",
       "entries is deprecated. In a future version, this will no longer exclude empty or all-NA columns when determining \n",
       "the result dtypes. To retain the old behavior, exclude the relevant entries before the concat operation.\n",
       "  results = pd.concat([results, normalized_data])\n"
      ]
     },
     "metadata": {},
     "output_type": "display_data"
    },
    {
     "data": {
      "text/html": [
       "<pre style=\"white-space:pre;overflow-x:auto;line-height:normal;font-family:Menlo,'DejaVu Sans Mono',consolas,'Courier New',monospace\">/tmp/ipykernel_120664/3199749346.py:26: FutureWarning: The behavior of DataFrame concatenation with empty or all-NA\n",
       "entries is deprecated. In a future version, this will no longer exclude empty or all-NA columns when determining \n",
       "the result dtypes. To retain the old behavior, exclude the relevant entries before the concat operation.\n",
       "  results = pd.concat([results, normalized_data])\n",
       "</pre>\n"
      ],
      "text/plain": [
       "/tmp/ipykernel_120664/3199749346.py:26: FutureWarning: The behavior of DataFrame concatenation with empty or all-NA\n",
       "entries is deprecated. In a future version, this will no longer exclude empty or all-NA columns when determining \n",
       "the result dtypes. To retain the old behavior, exclude the relevant entries before the concat operation.\n",
       "  results = pd.concat([results, normalized_data])\n"
      ]
     },
     "metadata": {},
     "output_type": "display_data"
    },
    {
     "data": {
      "text/html": [
       "<pre style=\"white-space:pre;overflow-x:auto;line-height:normal;font-family:Menlo,'DejaVu Sans Mono',consolas,'Courier New',monospace\">/tmp/ipykernel_120664/3199749346.py:26: FutureWarning: The behavior of DataFrame concatenation with empty or all-NA\n",
       "entries is deprecated. In a future version, this will no longer exclude empty or all-NA columns when determining \n",
       "the result dtypes. To retain the old behavior, exclude the relevant entries before the concat operation.\n",
       "  results = pd.concat([results, normalized_data])\n",
       "</pre>\n"
      ],
      "text/plain": [
       "/tmp/ipykernel_120664/3199749346.py:26: FutureWarning: The behavior of DataFrame concatenation with empty or all-NA\n",
       "entries is deprecated. In a future version, this will no longer exclude empty or all-NA columns when determining \n",
       "the result dtypes. To retain the old behavior, exclude the relevant entries before the concat operation.\n",
       "  results = pd.concat([results, normalized_data])\n"
      ]
     },
     "metadata": {},
     "output_type": "display_data"
    },
    {
     "data": {
      "text/html": [
       "<pre style=\"white-space:pre;overflow-x:auto;line-height:normal;font-family:Menlo,'DejaVu Sans Mono',consolas,'Courier New',monospace\">/tmp/ipykernel_120664/3199749346.py:26: FutureWarning: The behavior of DataFrame concatenation with empty or all-NA\n",
       "entries is deprecated. In a future version, this will no longer exclude empty or all-NA columns when determining \n",
       "the result dtypes. To retain the old behavior, exclude the relevant entries before the concat operation.\n",
       "  results = pd.concat([results, normalized_data])\n",
       "</pre>\n"
      ],
      "text/plain": [
       "/tmp/ipykernel_120664/3199749346.py:26: FutureWarning: The behavior of DataFrame concatenation with empty or all-NA\n",
       "entries is deprecated. In a future version, this will no longer exclude empty or all-NA columns when determining \n",
       "the result dtypes. To retain the old behavior, exclude the relevant entries before the concat operation.\n",
       "  results = pd.concat([results, normalized_data])\n"
      ]
     },
     "metadata": {},
     "output_type": "display_data"
    },
    {
     "data": {
      "text/html": [
       "<pre style=\"white-space:pre;overflow-x:auto;line-height:normal;font-family:Menlo,'DejaVu Sans Mono',consolas,'Courier New',monospace\">/tmp/ipykernel_120664/3199749346.py:26: FutureWarning: The behavior of DataFrame concatenation with empty or all-NA\n",
       "entries is deprecated. In a future version, this will no longer exclude empty or all-NA columns when determining \n",
       "the result dtypes. To retain the old behavior, exclude the relevant entries before the concat operation.\n",
       "  results = pd.concat([results, normalized_data])\n",
       "</pre>\n"
      ],
      "text/plain": [
       "/tmp/ipykernel_120664/3199749346.py:26: FutureWarning: The behavior of DataFrame concatenation with empty or all-NA\n",
       "entries is deprecated. In a future version, this will no longer exclude empty or all-NA columns when determining \n",
       "the result dtypes. To retain the old behavior, exclude the relevant entries before the concat operation.\n",
       "  results = pd.concat([results, normalized_data])\n"
      ]
     },
     "metadata": {},
     "output_type": "display_data"
    },
    {
     "data": {
      "text/html": [
       "<pre style=\"white-space:pre;overflow-x:auto;line-height:normal;font-family:Menlo,'DejaVu Sans Mono',consolas,'Courier New',monospace\">/tmp/ipykernel_120664/3199749346.py:26: FutureWarning: The behavior of DataFrame concatenation with empty or all-NA\n",
       "entries is deprecated. In a future version, this will no longer exclude empty or all-NA columns when determining \n",
       "the result dtypes. To retain the old behavior, exclude the relevant entries before the concat operation.\n",
       "  results = pd.concat([results, normalized_data])\n",
       "</pre>\n"
      ],
      "text/plain": [
       "/tmp/ipykernel_120664/3199749346.py:26: FutureWarning: The behavior of DataFrame concatenation with empty or all-NA\n",
       "entries is deprecated. In a future version, this will no longer exclude empty or all-NA columns when determining \n",
       "the result dtypes. To retain the old behavior, exclude the relevant entries before the concat operation.\n",
       "  results = pd.concat([results, normalized_data])\n"
      ]
     },
     "metadata": {},
     "output_type": "display_data"
    },
    {
     "data": {
      "text/html": [
       "<pre style=\"white-space:pre;overflow-x:auto;line-height:normal;font-family:Menlo,'DejaVu Sans Mono',consolas,'Courier New',monospace\">/tmp/ipykernel_120664/3199749346.py:26: FutureWarning: The behavior of DataFrame concatenation with empty or all-NA\n",
       "entries is deprecated. In a future version, this will no longer exclude empty or all-NA columns when determining \n",
       "the result dtypes. To retain the old behavior, exclude the relevant entries before the concat operation.\n",
       "  results = pd.concat([results, normalized_data])\n",
       "</pre>\n"
      ],
      "text/plain": [
       "/tmp/ipykernel_120664/3199749346.py:26: FutureWarning: The behavior of DataFrame concatenation with empty or all-NA\n",
       "entries is deprecated. In a future version, this will no longer exclude empty or all-NA columns when determining \n",
       "the result dtypes. To retain the old behavior, exclude the relevant entries before the concat operation.\n",
       "  results = pd.concat([results, normalized_data])\n"
      ]
     },
     "metadata": {},
     "output_type": "display_data"
    },
    {
     "data": {
      "text/html": [
       "<pre style=\"white-space:pre;overflow-x:auto;line-height:normal;font-family:Menlo,'DejaVu Sans Mono',consolas,'Courier New',monospace\">/tmp/ipykernel_120664/3199749346.py:26: FutureWarning: The behavior of DataFrame concatenation with empty or all-NA\n",
       "entries is deprecated. In a future version, this will no longer exclude empty or all-NA columns when determining \n",
       "the result dtypes. To retain the old behavior, exclude the relevant entries before the concat operation.\n",
       "  results = pd.concat([results, normalized_data])\n",
       "</pre>\n"
      ],
      "text/plain": [
       "/tmp/ipykernel_120664/3199749346.py:26: FutureWarning: The behavior of DataFrame concatenation with empty or all-NA\n",
       "entries is deprecated. In a future version, this will no longer exclude empty or all-NA columns when determining \n",
       "the result dtypes. To retain the old behavior, exclude the relevant entries before the concat operation.\n",
       "  results = pd.concat([results, normalized_data])\n"
      ]
     },
     "metadata": {},
     "output_type": "display_data"
    },
    {
     "data": {
      "text/html": [
       "<pre style=\"white-space:pre;overflow-x:auto;line-height:normal;font-family:Menlo,'DejaVu Sans Mono',consolas,'Courier New',monospace\">/tmp/ipykernel_120664/3199749346.py:26: FutureWarning: The behavior of DataFrame concatenation with empty or all-NA\n",
       "entries is deprecated. In a future version, this will no longer exclude empty or all-NA columns when determining \n",
       "the result dtypes. To retain the old behavior, exclude the relevant entries before the concat operation.\n",
       "  results = pd.concat([results, normalized_data])\n",
       "</pre>\n"
      ],
      "text/plain": [
       "/tmp/ipykernel_120664/3199749346.py:26: FutureWarning: The behavior of DataFrame concatenation with empty or all-NA\n",
       "entries is deprecated. In a future version, this will no longer exclude empty or all-NA columns when determining \n",
       "the result dtypes. To retain the old behavior, exclude the relevant entries before the concat operation.\n",
       "  results = pd.concat([results, normalized_data])\n"
      ]
     },
     "metadata": {},
     "output_type": "display_data"
    },
    {
     "data": {
      "text/html": [
       "<pre style=\"white-space:pre;overflow-x:auto;line-height:normal;font-family:Menlo,'DejaVu Sans Mono',consolas,'Courier New',monospace\">/tmp/ipykernel_120664/3199749346.py:26: FutureWarning: The behavior of DataFrame concatenation with empty or all-NA\n",
       "entries is deprecated. In a future version, this will no longer exclude empty or all-NA columns when determining \n",
       "the result dtypes. To retain the old behavior, exclude the relevant entries before the concat operation.\n",
       "  results = pd.concat([results, normalized_data])\n",
       "</pre>\n"
      ],
      "text/plain": [
       "/tmp/ipykernel_120664/3199749346.py:26: FutureWarning: The behavior of DataFrame concatenation with empty or all-NA\n",
       "entries is deprecated. In a future version, this will no longer exclude empty or all-NA columns when determining \n",
       "the result dtypes. To retain the old behavior, exclude the relevant entries before the concat operation.\n",
       "  results = pd.concat([results, normalized_data])\n"
      ]
     },
     "metadata": {},
     "output_type": "display_data"
    },
    {
     "data": {
      "text/html": [
       "<pre style=\"white-space:pre;overflow-x:auto;line-height:normal;font-family:Menlo,'DejaVu Sans Mono',consolas,'Courier New',monospace\">/tmp/ipykernel_120664/3199749346.py:26: FutureWarning: The behavior of DataFrame concatenation with empty or all-NA\n",
       "entries is deprecated. In a future version, this will no longer exclude empty or all-NA columns when determining \n",
       "the result dtypes. To retain the old behavior, exclude the relevant entries before the concat operation.\n",
       "  results = pd.concat([results, normalized_data])\n",
       "</pre>\n"
      ],
      "text/plain": [
       "/tmp/ipykernel_120664/3199749346.py:26: FutureWarning: The behavior of DataFrame concatenation with empty or all-NA\n",
       "entries is deprecated. In a future version, this will no longer exclude empty or all-NA columns when determining \n",
       "the result dtypes. To retain the old behavior, exclude the relevant entries before the concat operation.\n",
       "  results = pd.concat([results, normalized_data])\n"
      ]
     },
     "metadata": {},
     "output_type": "display_data"
    },
    {
     "data": {
      "text/html": [
       "<pre style=\"white-space:pre;overflow-x:auto;line-height:normal;font-family:Menlo,'DejaVu Sans Mono',consolas,'Courier New',monospace\">/tmp/ipykernel_120664/3199749346.py:26: FutureWarning: The behavior of DataFrame concatenation with empty or all-NA\n",
       "entries is deprecated. In a future version, this will no longer exclude empty or all-NA columns when determining \n",
       "the result dtypes. To retain the old behavior, exclude the relevant entries before the concat operation.\n",
       "  results = pd.concat([results, normalized_data])\n",
       "</pre>\n"
      ],
      "text/plain": [
       "/tmp/ipykernel_120664/3199749346.py:26: FutureWarning: The behavior of DataFrame concatenation with empty or all-NA\n",
       "entries is deprecated. In a future version, this will no longer exclude empty or all-NA columns when determining \n",
       "the result dtypes. To retain the old behavior, exclude the relevant entries before the concat operation.\n",
       "  results = pd.concat([results, normalized_data])\n"
      ]
     },
     "metadata": {},
     "output_type": "display_data"
    },
    {
     "data": {
      "text/html": [
       "<pre style=\"white-space:pre;overflow-x:auto;line-height:normal;font-family:Menlo,'DejaVu Sans Mono',consolas,'Courier New',monospace\">/tmp/ipykernel_120664/3199749346.py:26: FutureWarning: The behavior of DataFrame concatenation with empty or all-NA\n",
       "entries is deprecated. In a future version, this will no longer exclude empty or all-NA columns when determining \n",
       "the result dtypes. To retain the old behavior, exclude the relevant entries before the concat operation.\n",
       "  results = pd.concat([results, normalized_data])\n",
       "</pre>\n"
      ],
      "text/plain": [
       "/tmp/ipykernel_120664/3199749346.py:26: FutureWarning: The behavior of DataFrame concatenation with empty or all-NA\n",
       "entries is deprecated. In a future version, this will no longer exclude empty or all-NA columns when determining \n",
       "the result dtypes. To retain the old behavior, exclude the relevant entries before the concat operation.\n",
       "  results = pd.concat([results, normalized_data])\n"
      ]
     },
     "metadata": {},
     "output_type": "display_data"
    },
    {
     "data": {
      "text/html": [
       "<pre style=\"white-space:pre;overflow-x:auto;line-height:normal;font-family:Menlo,'DejaVu Sans Mono',consolas,'Courier New',monospace\">/tmp/ipykernel_120664/3199749346.py:26: FutureWarning: The behavior of DataFrame concatenation with empty or all-NA\n",
       "entries is deprecated. In a future version, this will no longer exclude empty or all-NA columns when determining \n",
       "the result dtypes. To retain the old behavior, exclude the relevant entries before the concat operation.\n",
       "  results = pd.concat([results, normalized_data])\n",
       "</pre>\n"
      ],
      "text/plain": [
       "/tmp/ipykernel_120664/3199749346.py:26: FutureWarning: The behavior of DataFrame concatenation with empty or all-NA\n",
       "entries is deprecated. In a future version, this will no longer exclude empty or all-NA columns when determining \n",
       "the result dtypes. To retain the old behavior, exclude the relevant entries before the concat operation.\n",
       "  results = pd.concat([results, normalized_data])\n"
      ]
     },
     "metadata": {},
     "output_type": "display_data"
    },
    {
     "data": {
      "text/html": [
       "<pre style=\"white-space:pre;overflow-x:auto;line-height:normal;font-family:Menlo,'DejaVu Sans Mono',consolas,'Courier New',monospace\">/tmp/ipykernel_120664/3199749346.py:26: FutureWarning: The behavior of DataFrame concatenation with empty or all-NA\n",
       "entries is deprecated. In a future version, this will no longer exclude empty or all-NA columns when determining \n",
       "the result dtypes. To retain the old behavior, exclude the relevant entries before the concat operation.\n",
       "  results = pd.concat([results, normalized_data])\n",
       "</pre>\n"
      ],
      "text/plain": [
       "/tmp/ipykernel_120664/3199749346.py:26: FutureWarning: The behavior of DataFrame concatenation with empty or all-NA\n",
       "entries is deprecated. In a future version, this will no longer exclude empty or all-NA columns when determining \n",
       "the result dtypes. To retain the old behavior, exclude the relevant entries before the concat operation.\n",
       "  results = pd.concat([results, normalized_data])\n"
      ]
     },
     "metadata": {},
     "output_type": "display_data"
    },
    {
     "data": {
      "text/html": [
       "<pre style=\"white-space:pre;overflow-x:auto;line-height:normal;font-family:Menlo,'DejaVu Sans Mono',consolas,'Courier New',monospace\">/tmp/ipykernel_120664/3199749346.py:26: FutureWarning: The behavior of DataFrame concatenation with empty or all-NA\n",
       "entries is deprecated. In a future version, this will no longer exclude empty or all-NA columns when determining \n",
       "the result dtypes. To retain the old behavior, exclude the relevant entries before the concat operation.\n",
       "  results = pd.concat([results, normalized_data])\n",
       "</pre>\n"
      ],
      "text/plain": [
       "/tmp/ipykernel_120664/3199749346.py:26: FutureWarning: The behavior of DataFrame concatenation with empty or all-NA\n",
       "entries is deprecated. In a future version, this will no longer exclude empty or all-NA columns when determining \n",
       "the result dtypes. To retain the old behavior, exclude the relevant entries before the concat operation.\n",
       "  results = pd.concat([results, normalized_data])\n"
      ]
     },
     "metadata": {},
     "output_type": "display_data"
    },
    {
     "data": {
      "text/html": [
       "<pre style=\"white-space:pre;overflow-x:auto;line-height:normal;font-family:Menlo,'DejaVu Sans Mono',consolas,'Courier New',monospace\">/tmp/ipykernel_120664/3199749346.py:26: FutureWarning: The behavior of DataFrame concatenation with empty or all-NA\n",
       "entries is deprecated. In a future version, this will no longer exclude empty or all-NA columns when determining \n",
       "the result dtypes. To retain the old behavior, exclude the relevant entries before the concat operation.\n",
       "  results = pd.concat([results, normalized_data])\n",
       "</pre>\n"
      ],
      "text/plain": [
       "/tmp/ipykernel_120664/3199749346.py:26: FutureWarning: The behavior of DataFrame concatenation with empty or all-NA\n",
       "entries is deprecated. In a future version, this will no longer exclude empty or all-NA columns when determining \n",
       "the result dtypes. To retain the old behavior, exclude the relevant entries before the concat operation.\n",
       "  results = pd.concat([results, normalized_data])\n"
      ]
     },
     "metadata": {},
     "output_type": "display_data"
    },
    {
     "data": {
      "text/html": [
       "<pre style=\"white-space:pre;overflow-x:auto;line-height:normal;font-family:Menlo,'DejaVu Sans Mono',consolas,'Courier New',monospace\">/tmp/ipykernel_120664/3199749346.py:26: FutureWarning: The behavior of DataFrame concatenation with empty or all-NA\n",
       "entries is deprecated. In a future version, this will no longer exclude empty or all-NA columns when determining \n",
       "the result dtypes. To retain the old behavior, exclude the relevant entries before the concat operation.\n",
       "  results = pd.concat([results, normalized_data])\n",
       "</pre>\n"
      ],
      "text/plain": [
       "/tmp/ipykernel_120664/3199749346.py:26: FutureWarning: The behavior of DataFrame concatenation with empty or all-NA\n",
       "entries is deprecated. In a future version, this will no longer exclude empty or all-NA columns when determining \n",
       "the result dtypes. To retain the old behavior, exclude the relevant entries before the concat operation.\n",
       "  results = pd.concat([results, normalized_data])\n"
      ]
     },
     "metadata": {},
     "output_type": "display_data"
    },
    {
     "data": {
      "text/html": [
       "<pre style=\"white-space:pre;overflow-x:auto;line-height:normal;font-family:Menlo,'DejaVu Sans Mono',consolas,'Courier New',monospace\">/tmp/ipykernel_120664/3199749346.py:26: FutureWarning: The behavior of DataFrame concatenation with empty or all-NA\n",
       "entries is deprecated. In a future version, this will no longer exclude empty or all-NA columns when determining \n",
       "the result dtypes. To retain the old behavior, exclude the relevant entries before the concat operation.\n",
       "  results = pd.concat([results, normalized_data])\n",
       "</pre>\n"
      ],
      "text/plain": [
       "/tmp/ipykernel_120664/3199749346.py:26: FutureWarning: The behavior of DataFrame concatenation with empty or all-NA\n",
       "entries is deprecated. In a future version, this will no longer exclude empty or all-NA columns when determining \n",
       "the result dtypes. To retain the old behavior, exclude the relevant entries before the concat operation.\n",
       "  results = pd.concat([results, normalized_data])\n"
      ]
     },
     "metadata": {},
     "output_type": "display_data"
    },
    {
     "data": {
      "text/html": [
       "<pre style=\"white-space:pre;overflow-x:auto;line-height:normal;font-family:Menlo,'DejaVu Sans Mono',consolas,'Courier New',monospace\">/tmp/ipykernel_120664/3199749346.py:26: FutureWarning: The behavior of DataFrame concatenation with empty or all-NA\n",
       "entries is deprecated. In a future version, this will no longer exclude empty or all-NA columns when determining \n",
       "the result dtypes. To retain the old behavior, exclude the relevant entries before the concat operation.\n",
       "  results = pd.concat([results, normalized_data])\n",
       "</pre>\n"
      ],
      "text/plain": [
       "/tmp/ipykernel_120664/3199749346.py:26: FutureWarning: The behavior of DataFrame concatenation with empty or all-NA\n",
       "entries is deprecated. In a future version, this will no longer exclude empty or all-NA columns when determining \n",
       "the result dtypes. To retain the old behavior, exclude the relevant entries before the concat operation.\n",
       "  results = pd.concat([results, normalized_data])\n"
      ]
     },
     "metadata": {},
     "output_type": "display_data"
    },
    {
     "data": {
      "text/html": [
       "<pre style=\"white-space:pre;overflow-x:auto;line-height:normal;font-family:Menlo,'DejaVu Sans Mono',consolas,'Courier New',monospace\">/tmp/ipykernel_120664/3199749346.py:26: FutureWarning: The behavior of DataFrame concatenation with empty or all-NA\n",
       "entries is deprecated. In a future version, this will no longer exclude empty or all-NA columns when determining \n",
       "the result dtypes. To retain the old behavior, exclude the relevant entries before the concat operation.\n",
       "  results = pd.concat([results, normalized_data])\n",
       "</pre>\n"
      ],
      "text/plain": [
       "/tmp/ipykernel_120664/3199749346.py:26: FutureWarning: The behavior of DataFrame concatenation with empty or all-NA\n",
       "entries is deprecated. In a future version, this will no longer exclude empty or all-NA columns when determining \n",
       "the result dtypes. To retain the old behavior, exclude the relevant entries before the concat operation.\n",
       "  results = pd.concat([results, normalized_data])\n"
      ]
     },
     "metadata": {},
     "output_type": "display_data"
    },
    {
     "data": {
      "text/html": [
       "<pre style=\"white-space:pre;overflow-x:auto;line-height:normal;font-family:Menlo,'DejaVu Sans Mono',consolas,'Courier New',monospace\">/tmp/ipykernel_120664/3199749346.py:26: FutureWarning: The behavior of DataFrame concatenation with empty or all-NA\n",
       "entries is deprecated. In a future version, this will no longer exclude empty or all-NA columns when determining \n",
       "the result dtypes. To retain the old behavior, exclude the relevant entries before the concat operation.\n",
       "  results = pd.concat([results, normalized_data])\n",
       "</pre>\n"
      ],
      "text/plain": [
       "/tmp/ipykernel_120664/3199749346.py:26: FutureWarning: The behavior of DataFrame concatenation with empty or all-NA\n",
       "entries is deprecated. In a future version, this will no longer exclude empty or all-NA columns when determining \n",
       "the result dtypes. To retain the old behavior, exclude the relevant entries before the concat operation.\n",
       "  results = pd.concat([results, normalized_data])\n"
      ]
     },
     "metadata": {},
     "output_type": "display_data"
    },
    {
     "data": {
      "text/html": [
       "<pre style=\"white-space:pre;overflow-x:auto;line-height:normal;font-family:Menlo,'DejaVu Sans Mono',consolas,'Courier New',monospace\">/tmp/ipykernel_120664/3199749346.py:26: FutureWarning: The behavior of DataFrame concatenation with empty or all-NA\n",
       "entries is deprecated. In a future version, this will no longer exclude empty or all-NA columns when determining \n",
       "the result dtypes. To retain the old behavior, exclude the relevant entries before the concat operation.\n",
       "  results = pd.concat([results, normalized_data])\n",
       "</pre>\n"
      ],
      "text/plain": [
       "/tmp/ipykernel_120664/3199749346.py:26: FutureWarning: The behavior of DataFrame concatenation with empty or all-NA\n",
       "entries is deprecated. In a future version, this will no longer exclude empty or all-NA columns when determining \n",
       "the result dtypes. To retain the old behavior, exclude the relevant entries before the concat operation.\n",
       "  results = pd.concat([results, normalized_data])\n"
      ]
     },
     "metadata": {},
     "output_type": "display_data"
    },
    {
     "data": {
      "text/html": [
       "<pre style=\"white-space:pre;overflow-x:auto;line-height:normal;font-family:Menlo,'DejaVu Sans Mono',consolas,'Courier New',monospace\">/tmp/ipykernel_120664/3199749346.py:26: FutureWarning: The behavior of DataFrame concatenation with empty or all-NA\n",
       "entries is deprecated. In a future version, this will no longer exclude empty or all-NA columns when determining \n",
       "the result dtypes. To retain the old behavior, exclude the relevant entries before the concat operation.\n",
       "  results = pd.concat([results, normalized_data])\n",
       "</pre>\n"
      ],
      "text/plain": [
       "/tmp/ipykernel_120664/3199749346.py:26: FutureWarning: The behavior of DataFrame concatenation with empty or all-NA\n",
       "entries is deprecated. In a future version, this will no longer exclude empty or all-NA columns when determining \n",
       "the result dtypes. To retain the old behavior, exclude the relevant entries before the concat operation.\n",
       "  results = pd.concat([results, normalized_data])\n"
      ]
     },
     "metadata": {},
     "output_type": "display_data"
    },
    {
     "data": {
      "text/html": [
       "<pre style=\"white-space:pre;overflow-x:auto;line-height:normal;font-family:Menlo,'DejaVu Sans Mono',consolas,'Courier New',monospace\">/tmp/ipykernel_120664/3199749346.py:26: FutureWarning: The behavior of DataFrame concatenation with empty or all-NA\n",
       "entries is deprecated. In a future version, this will no longer exclude empty or all-NA columns when determining \n",
       "the result dtypes. To retain the old behavior, exclude the relevant entries before the concat operation.\n",
       "  results = pd.concat([results, normalized_data])\n",
       "</pre>\n"
      ],
      "text/plain": [
       "/tmp/ipykernel_120664/3199749346.py:26: FutureWarning: The behavior of DataFrame concatenation with empty or all-NA\n",
       "entries is deprecated. In a future version, this will no longer exclude empty or all-NA columns when determining \n",
       "the result dtypes. To retain the old behavior, exclude the relevant entries before the concat operation.\n",
       "  results = pd.concat([results, normalized_data])\n"
      ]
     },
     "metadata": {},
     "output_type": "display_data"
    },
    {
     "data": {
      "text/html": [
       "<pre style=\"white-space:pre;overflow-x:auto;line-height:normal;font-family:Menlo,'DejaVu Sans Mono',consolas,'Courier New',monospace\">/tmp/ipykernel_120664/3199749346.py:26: FutureWarning: The behavior of DataFrame concatenation with empty or all-NA\n",
       "entries is deprecated. In a future version, this will no longer exclude empty or all-NA columns when determining \n",
       "the result dtypes. To retain the old behavior, exclude the relevant entries before the concat operation.\n",
       "  results = pd.concat([results, normalized_data])\n",
       "</pre>\n"
      ],
      "text/plain": [
       "/tmp/ipykernel_120664/3199749346.py:26: FutureWarning: The behavior of DataFrame concatenation with empty or all-NA\n",
       "entries is deprecated. In a future version, this will no longer exclude empty or all-NA columns when determining \n",
       "the result dtypes. To retain the old behavior, exclude the relevant entries before the concat operation.\n",
       "  results = pd.concat([results, normalized_data])\n"
      ]
     },
     "metadata": {},
     "output_type": "display_data"
    },
    {
     "data": {
      "text/html": [
       "<pre style=\"white-space:pre;overflow-x:auto;line-height:normal;font-family:Menlo,'DejaVu Sans Mono',consolas,'Courier New',monospace\">/tmp/ipykernel_120664/3199749346.py:26: FutureWarning: The behavior of DataFrame concatenation with empty or all-NA\n",
       "entries is deprecated. In a future version, this will no longer exclude empty or all-NA columns when determining \n",
       "the result dtypes. To retain the old behavior, exclude the relevant entries before the concat operation.\n",
       "  results = pd.concat([results, normalized_data])\n",
       "</pre>\n"
      ],
      "text/plain": [
       "/tmp/ipykernel_120664/3199749346.py:26: FutureWarning: The behavior of DataFrame concatenation with empty or all-NA\n",
       "entries is deprecated. In a future version, this will no longer exclude empty or all-NA columns when determining \n",
       "the result dtypes. To retain the old behavior, exclude the relevant entries before the concat operation.\n",
       "  results = pd.concat([results, normalized_data])\n"
      ]
     },
     "metadata": {},
     "output_type": "display_data"
    },
    {
     "data": {
      "text/html": [
       "<pre style=\"white-space:pre;overflow-x:auto;line-height:normal;font-family:Menlo,'DejaVu Sans Mono',consolas,'Courier New',monospace\">/tmp/ipykernel_120664/3199749346.py:26: FutureWarning: The behavior of DataFrame concatenation with empty or all-NA\n",
       "entries is deprecated. In a future version, this will no longer exclude empty or all-NA columns when determining \n",
       "the result dtypes. To retain the old behavior, exclude the relevant entries before the concat operation.\n",
       "  results = pd.concat([results, normalized_data])\n",
       "</pre>\n"
      ],
      "text/plain": [
       "/tmp/ipykernel_120664/3199749346.py:26: FutureWarning: The behavior of DataFrame concatenation with empty or all-NA\n",
       "entries is deprecated. In a future version, this will no longer exclude empty or all-NA columns when determining \n",
       "the result dtypes. To retain the old behavior, exclude the relevant entries before the concat operation.\n",
       "  results = pd.concat([results, normalized_data])\n"
      ]
     },
     "metadata": {},
     "output_type": "display_data"
    },
    {
     "data": {
      "text/html": [
       "<pre style=\"white-space:pre;overflow-x:auto;line-height:normal;font-family:Menlo,'DejaVu Sans Mono',consolas,'Courier New',monospace\">/tmp/ipykernel_120664/3199749346.py:26: FutureWarning: The behavior of DataFrame concatenation with empty or all-NA\n",
       "entries is deprecated. In a future version, this will no longer exclude empty or all-NA columns when determining \n",
       "the result dtypes. To retain the old behavior, exclude the relevant entries before the concat operation.\n",
       "  results = pd.concat([results, normalized_data])\n",
       "</pre>\n"
      ],
      "text/plain": [
       "/tmp/ipykernel_120664/3199749346.py:26: FutureWarning: The behavior of DataFrame concatenation with empty or all-NA\n",
       "entries is deprecated. In a future version, this will no longer exclude empty or all-NA columns when determining \n",
       "the result dtypes. To retain the old behavior, exclude the relevant entries before the concat operation.\n",
       "  results = pd.concat([results, normalized_data])\n"
      ]
     },
     "metadata": {},
     "output_type": "display_data"
    },
    {
     "data": {
      "text/html": [
       "<pre style=\"white-space:pre;overflow-x:auto;line-height:normal;font-family:Menlo,'DejaVu Sans Mono',consolas,'Courier New',monospace\">/tmp/ipykernel_120664/3199749346.py:26: FutureWarning: The behavior of DataFrame concatenation with empty or all-NA\n",
       "entries is deprecated. In a future version, this will no longer exclude empty or all-NA columns when determining \n",
       "the result dtypes. To retain the old behavior, exclude the relevant entries before the concat operation.\n",
       "  results = pd.concat([results, normalized_data])\n",
       "</pre>\n"
      ],
      "text/plain": [
       "/tmp/ipykernel_120664/3199749346.py:26: FutureWarning: The behavior of DataFrame concatenation with empty or all-NA\n",
       "entries is deprecated. In a future version, this will no longer exclude empty or all-NA columns when determining \n",
       "the result dtypes. To retain the old behavior, exclude the relevant entries before the concat operation.\n",
       "  results = pd.concat([results, normalized_data])\n"
      ]
     },
     "metadata": {},
     "output_type": "display_data"
    },
    {
     "data": {
      "text/html": [
       "<pre style=\"white-space:pre;overflow-x:auto;line-height:normal;font-family:Menlo,'DejaVu Sans Mono',consolas,'Courier New',monospace\">/tmp/ipykernel_120664/3199749346.py:26: FutureWarning: The behavior of DataFrame concatenation with empty or all-NA\n",
       "entries is deprecated. In a future version, this will no longer exclude empty or all-NA columns when determining \n",
       "the result dtypes. To retain the old behavior, exclude the relevant entries before the concat operation.\n",
       "  results = pd.concat([results, normalized_data])\n",
       "</pre>\n"
      ],
      "text/plain": [
       "/tmp/ipykernel_120664/3199749346.py:26: FutureWarning: The behavior of DataFrame concatenation with empty or all-NA\n",
       "entries is deprecated. In a future version, this will no longer exclude empty or all-NA columns when determining \n",
       "the result dtypes. To retain the old behavior, exclude the relevant entries before the concat operation.\n",
       "  results = pd.concat([results, normalized_data])\n"
      ]
     },
     "metadata": {},
     "output_type": "display_data"
    },
    {
     "data": {
      "text/html": [
       "<pre style=\"white-space:pre;overflow-x:auto;line-height:normal;font-family:Menlo,'DejaVu Sans Mono',consolas,'Courier New',monospace\">/tmp/ipykernel_120664/3199749346.py:26: FutureWarning: The behavior of DataFrame concatenation with empty or all-NA\n",
       "entries is deprecated. In a future version, this will no longer exclude empty or all-NA columns when determining \n",
       "the result dtypes. To retain the old behavior, exclude the relevant entries before the concat operation.\n",
       "  results = pd.concat([results, normalized_data])\n",
       "</pre>\n"
      ],
      "text/plain": [
       "/tmp/ipykernel_120664/3199749346.py:26: FutureWarning: The behavior of DataFrame concatenation with empty or all-NA\n",
       "entries is deprecated. In a future version, this will no longer exclude empty or all-NA columns when determining \n",
       "the result dtypes. To retain the old behavior, exclude the relevant entries before the concat operation.\n",
       "  results = pd.concat([results, normalized_data])\n"
      ]
     },
     "metadata": {},
     "output_type": "display_data"
    },
    {
     "data": {
      "text/html": [
       "<pre style=\"white-space:pre;overflow-x:auto;line-height:normal;font-family:Menlo,'DejaVu Sans Mono',consolas,'Courier New',monospace\">/tmp/ipykernel_120664/3199749346.py:26: FutureWarning: The behavior of DataFrame concatenation with empty or all-NA\n",
       "entries is deprecated. In a future version, this will no longer exclude empty or all-NA columns when determining \n",
       "the result dtypes. To retain the old behavior, exclude the relevant entries before the concat operation.\n",
       "  results = pd.concat([results, normalized_data])\n",
       "</pre>\n"
      ],
      "text/plain": [
       "/tmp/ipykernel_120664/3199749346.py:26: FutureWarning: The behavior of DataFrame concatenation with empty or all-NA\n",
       "entries is deprecated. In a future version, this will no longer exclude empty or all-NA columns when determining \n",
       "the result dtypes. To retain the old behavior, exclude the relevant entries before the concat operation.\n",
       "  results = pd.concat([results, normalized_data])\n"
      ]
     },
     "metadata": {},
     "output_type": "display_data"
    },
    {
     "data": {
      "text/html": [
       "<pre style=\"white-space:pre;overflow-x:auto;line-height:normal;font-family:Menlo,'DejaVu Sans Mono',consolas,'Courier New',monospace\">/tmp/ipykernel_120664/3199749346.py:26: FutureWarning: The behavior of DataFrame concatenation with empty or all-NA\n",
       "entries is deprecated. In a future version, this will no longer exclude empty or all-NA columns when determining \n",
       "the result dtypes. To retain the old behavior, exclude the relevant entries before the concat operation.\n",
       "  results = pd.concat([results, normalized_data])\n",
       "</pre>\n"
      ],
      "text/plain": [
       "/tmp/ipykernel_120664/3199749346.py:26: FutureWarning: The behavior of DataFrame concatenation with empty or all-NA\n",
       "entries is deprecated. In a future version, this will no longer exclude empty or all-NA columns when determining \n",
       "the result dtypes. To retain the old behavior, exclude the relevant entries before the concat operation.\n",
       "  results = pd.concat([results, normalized_data])\n"
      ]
     },
     "metadata": {},
     "output_type": "display_data"
    },
    {
     "data": {
      "text/html": [
       "<pre style=\"white-space:pre;overflow-x:auto;line-height:normal;font-family:Menlo,'DejaVu Sans Mono',consolas,'Courier New',monospace\">/tmp/ipykernel_120664/3199749346.py:26: FutureWarning: The behavior of DataFrame concatenation with empty or all-NA\n",
       "entries is deprecated. In a future version, this will no longer exclude empty or all-NA columns when determining \n",
       "the result dtypes. To retain the old behavior, exclude the relevant entries before the concat operation.\n",
       "  results = pd.concat([results, normalized_data])\n",
       "</pre>\n"
      ],
      "text/plain": [
       "/tmp/ipykernel_120664/3199749346.py:26: FutureWarning: The behavior of DataFrame concatenation with empty or all-NA\n",
       "entries is deprecated. In a future version, this will no longer exclude empty or all-NA columns when determining \n",
       "the result dtypes. To retain the old behavior, exclude the relevant entries before the concat operation.\n",
       "  results = pd.concat([results, normalized_data])\n"
      ]
     },
     "metadata": {},
     "output_type": "display_data"
    },
    {
     "data": {
      "text/html": [
       "<pre style=\"white-space:pre;overflow-x:auto;line-height:normal;font-family:Menlo,'DejaVu Sans Mono',consolas,'Courier New',monospace\">/tmp/ipykernel_120664/3199749346.py:26: FutureWarning: The behavior of DataFrame concatenation with empty or all-NA\n",
       "entries is deprecated. In a future version, this will no longer exclude empty or all-NA columns when determining \n",
       "the result dtypes. To retain the old behavior, exclude the relevant entries before the concat operation.\n",
       "  results = pd.concat([results, normalized_data])\n",
       "</pre>\n"
      ],
      "text/plain": [
       "/tmp/ipykernel_120664/3199749346.py:26: FutureWarning: The behavior of DataFrame concatenation with empty or all-NA\n",
       "entries is deprecated. In a future version, this will no longer exclude empty or all-NA columns when determining \n",
       "the result dtypes. To retain the old behavior, exclude the relevant entries before the concat operation.\n",
       "  results = pd.concat([results, normalized_data])\n"
      ]
     },
     "metadata": {},
     "output_type": "display_data"
    },
    {
     "data": {
      "text/html": [
       "<pre style=\"white-space:pre;overflow-x:auto;line-height:normal;font-family:Menlo,'DejaVu Sans Mono',consolas,'Courier New',monospace\">/tmp/ipykernel_120664/3199749346.py:26: FutureWarning: The behavior of DataFrame concatenation with empty or all-NA\n",
       "entries is deprecated. In a future version, this will no longer exclude empty or all-NA columns when determining \n",
       "the result dtypes. To retain the old behavior, exclude the relevant entries before the concat operation.\n",
       "  results = pd.concat([results, normalized_data])\n",
       "</pre>\n"
      ],
      "text/plain": [
       "/tmp/ipykernel_120664/3199749346.py:26: FutureWarning: The behavior of DataFrame concatenation with empty or all-NA\n",
       "entries is deprecated. In a future version, this will no longer exclude empty or all-NA columns when determining \n",
       "the result dtypes. To retain the old behavior, exclude the relevant entries before the concat operation.\n",
       "  results = pd.concat([results, normalized_data])\n"
      ]
     },
     "metadata": {},
     "output_type": "display_data"
    },
    {
     "data": {
      "text/html": [
       "<pre style=\"white-space:pre;overflow-x:auto;line-height:normal;font-family:Menlo,'DejaVu Sans Mono',consolas,'Courier New',monospace\">/tmp/ipykernel_120664/3199749346.py:26: FutureWarning: The behavior of DataFrame concatenation with empty or all-NA\n",
       "entries is deprecated. In a future version, this will no longer exclude empty or all-NA columns when determining \n",
       "the result dtypes. To retain the old behavior, exclude the relevant entries before the concat operation.\n",
       "  results = pd.concat([results, normalized_data])\n",
       "</pre>\n"
      ],
      "text/plain": [
       "/tmp/ipykernel_120664/3199749346.py:26: FutureWarning: The behavior of DataFrame concatenation with empty or all-NA\n",
       "entries is deprecated. In a future version, this will no longer exclude empty or all-NA columns when determining \n",
       "the result dtypes. To retain the old behavior, exclude the relevant entries before the concat operation.\n",
       "  results = pd.concat([results, normalized_data])\n"
      ]
     },
     "metadata": {},
     "output_type": "display_data"
    },
    {
     "data": {
      "text/html": [
       "<pre style=\"white-space:pre;overflow-x:auto;line-height:normal;font-family:Menlo,'DejaVu Sans Mono',consolas,'Courier New',monospace\">/tmp/ipykernel_120664/3199749346.py:26: FutureWarning: The behavior of DataFrame concatenation with empty or all-NA\n",
       "entries is deprecated. In a future version, this will no longer exclude empty or all-NA columns when determining \n",
       "the result dtypes. To retain the old behavior, exclude the relevant entries before the concat operation.\n",
       "  results = pd.concat([results, normalized_data])\n",
       "</pre>\n"
      ],
      "text/plain": [
       "/tmp/ipykernel_120664/3199749346.py:26: FutureWarning: The behavior of DataFrame concatenation with empty or all-NA\n",
       "entries is deprecated. In a future version, this will no longer exclude empty or all-NA columns when determining \n",
       "the result dtypes. To retain the old behavior, exclude the relevant entries before the concat operation.\n",
       "  results = pd.concat([results, normalized_data])\n"
      ]
     },
     "metadata": {},
     "output_type": "display_data"
    },
    {
     "data": {
      "text/html": [
       "<pre style=\"white-space:pre;overflow-x:auto;line-height:normal;font-family:Menlo,'DejaVu Sans Mono',consolas,'Courier New',monospace\">/tmp/ipykernel_120664/3199749346.py:26: FutureWarning: The behavior of DataFrame concatenation with empty or all-NA\n",
       "entries is deprecated. In a future version, this will no longer exclude empty or all-NA columns when determining \n",
       "the result dtypes. To retain the old behavior, exclude the relevant entries before the concat operation.\n",
       "  results = pd.concat([results, normalized_data])\n",
       "</pre>\n"
      ],
      "text/plain": [
       "/tmp/ipykernel_120664/3199749346.py:26: FutureWarning: The behavior of DataFrame concatenation with empty or all-NA\n",
       "entries is deprecated. In a future version, this will no longer exclude empty or all-NA columns when determining \n",
       "the result dtypes. To retain the old behavior, exclude the relevant entries before the concat operation.\n",
       "  results = pd.concat([results, normalized_data])\n"
      ]
     },
     "metadata": {},
     "output_type": "display_data"
    },
    {
     "data": {
      "text/html": [
       "<pre style=\"white-space:pre;overflow-x:auto;line-height:normal;font-family:Menlo,'DejaVu Sans Mono',consolas,'Courier New',monospace\">/tmp/ipykernel_120664/3199749346.py:26: FutureWarning: The behavior of DataFrame concatenation with empty or all-NA\n",
       "entries is deprecated. In a future version, this will no longer exclude empty or all-NA columns when determining \n",
       "the result dtypes. To retain the old behavior, exclude the relevant entries before the concat operation.\n",
       "  results = pd.concat([results, normalized_data])\n",
       "</pre>\n"
      ],
      "text/plain": [
       "/tmp/ipykernel_120664/3199749346.py:26: FutureWarning: The behavior of DataFrame concatenation with empty or all-NA\n",
       "entries is deprecated. In a future version, this will no longer exclude empty or all-NA columns when determining \n",
       "the result dtypes. To retain the old behavior, exclude the relevant entries before the concat operation.\n",
       "  results = pd.concat([results, normalized_data])\n"
      ]
     },
     "metadata": {},
     "output_type": "display_data"
    },
    {
     "data": {
      "text/html": [
       "<pre style=\"white-space:pre;overflow-x:auto;line-height:normal;font-family:Menlo,'DejaVu Sans Mono',consolas,'Courier New',monospace\">/tmp/ipykernel_120664/3199749346.py:26: FutureWarning: The behavior of DataFrame concatenation with empty or all-NA\n",
       "entries is deprecated. In a future version, this will no longer exclude empty or all-NA columns when determining \n",
       "the result dtypes. To retain the old behavior, exclude the relevant entries before the concat operation.\n",
       "  results = pd.concat([results, normalized_data])\n",
       "</pre>\n"
      ],
      "text/plain": [
       "/tmp/ipykernel_120664/3199749346.py:26: FutureWarning: The behavior of DataFrame concatenation with empty or all-NA\n",
       "entries is deprecated. In a future version, this will no longer exclude empty or all-NA columns when determining \n",
       "the result dtypes. To retain the old behavior, exclude the relevant entries before the concat operation.\n",
       "  results = pd.concat([results, normalized_data])\n"
      ]
     },
     "metadata": {},
     "output_type": "display_data"
    },
    {
     "data": {
      "text/html": [
       "<pre style=\"white-space:pre;overflow-x:auto;line-height:normal;font-family:Menlo,'DejaVu Sans Mono',consolas,'Courier New',monospace\">/tmp/ipykernel_120664/3199749346.py:26: FutureWarning: The behavior of DataFrame concatenation with empty or all-NA\n",
       "entries is deprecated. In a future version, this will no longer exclude empty or all-NA columns when determining \n",
       "the result dtypes. To retain the old behavior, exclude the relevant entries before the concat operation.\n",
       "  results = pd.concat([results, normalized_data])\n",
       "</pre>\n"
      ],
      "text/plain": [
       "/tmp/ipykernel_120664/3199749346.py:26: FutureWarning: The behavior of DataFrame concatenation with empty or all-NA\n",
       "entries is deprecated. In a future version, this will no longer exclude empty or all-NA columns when determining \n",
       "the result dtypes. To retain the old behavior, exclude the relevant entries before the concat operation.\n",
       "  results = pd.concat([results, normalized_data])\n"
      ]
     },
     "metadata": {},
     "output_type": "display_data"
    },
    {
     "data": {
      "text/html": [
       "<pre style=\"white-space:pre;overflow-x:auto;line-height:normal;font-family:Menlo,'DejaVu Sans Mono',consolas,'Courier New',monospace\">/tmp/ipykernel_120664/3199749346.py:26: FutureWarning: The behavior of DataFrame concatenation with empty or all-NA\n",
       "entries is deprecated. In a future version, this will no longer exclude empty or all-NA columns when determining \n",
       "the result dtypes. To retain the old behavior, exclude the relevant entries before the concat operation.\n",
       "  results = pd.concat([results, normalized_data])\n",
       "</pre>\n"
      ],
      "text/plain": [
       "/tmp/ipykernel_120664/3199749346.py:26: FutureWarning: The behavior of DataFrame concatenation with empty or all-NA\n",
       "entries is deprecated. In a future version, this will no longer exclude empty or all-NA columns when determining \n",
       "the result dtypes. To retain the old behavior, exclude the relevant entries before the concat operation.\n",
       "  results = pd.concat([results, normalized_data])\n"
      ]
     },
     "metadata": {},
     "output_type": "display_data"
    },
    {
     "data": {
      "text/html": [
       "<pre style=\"white-space:pre;overflow-x:auto;line-height:normal;font-family:Menlo,'DejaVu Sans Mono',consolas,'Courier New',monospace\">/tmp/ipykernel_120664/3199749346.py:26: FutureWarning: The behavior of DataFrame concatenation with empty or all-NA\n",
       "entries is deprecated. In a future version, this will no longer exclude empty or all-NA columns when determining \n",
       "the result dtypes. To retain the old behavior, exclude the relevant entries before the concat operation.\n",
       "  results = pd.concat([results, normalized_data])\n",
       "</pre>\n"
      ],
      "text/plain": [
       "/tmp/ipykernel_120664/3199749346.py:26: FutureWarning: The behavior of DataFrame concatenation with empty or all-NA\n",
       "entries is deprecated. In a future version, this will no longer exclude empty or all-NA columns when determining \n",
       "the result dtypes. To retain the old behavior, exclude the relevant entries before the concat operation.\n",
       "  results = pd.concat([results, normalized_data])\n"
      ]
     },
     "metadata": {},
     "output_type": "display_data"
    },
    {
     "data": {
      "text/html": [
       "<pre style=\"white-space:pre;overflow-x:auto;line-height:normal;font-family:Menlo,'DejaVu Sans Mono',consolas,'Courier New',monospace\">/tmp/ipykernel_120664/3199749346.py:26: FutureWarning: The behavior of DataFrame concatenation with empty or all-NA\n",
       "entries is deprecated. In a future version, this will no longer exclude empty or all-NA columns when determining \n",
       "the result dtypes. To retain the old behavior, exclude the relevant entries before the concat operation.\n",
       "  results = pd.concat([results, normalized_data])\n",
       "</pre>\n"
      ],
      "text/plain": [
       "/tmp/ipykernel_120664/3199749346.py:26: FutureWarning: The behavior of DataFrame concatenation with empty or all-NA\n",
       "entries is deprecated. In a future version, this will no longer exclude empty or all-NA columns when determining \n",
       "the result dtypes. To retain the old behavior, exclude the relevant entries before the concat operation.\n",
       "  results = pd.concat([results, normalized_data])\n"
      ]
     },
     "metadata": {},
     "output_type": "display_data"
    },
    {
     "data": {
      "text/html": [
       "<pre style=\"white-space:pre;overflow-x:auto;line-height:normal;font-family:Menlo,'DejaVu Sans Mono',consolas,'Courier New',monospace\">/tmp/ipykernel_120664/3199749346.py:26: FutureWarning: The behavior of DataFrame concatenation with empty or all-NA\n",
       "entries is deprecated. In a future version, this will no longer exclude empty or all-NA columns when determining \n",
       "the result dtypes. To retain the old behavior, exclude the relevant entries before the concat operation.\n",
       "  results = pd.concat([results, normalized_data])\n",
       "</pre>\n"
      ],
      "text/plain": [
       "/tmp/ipykernel_120664/3199749346.py:26: FutureWarning: The behavior of DataFrame concatenation with empty or all-NA\n",
       "entries is deprecated. In a future version, this will no longer exclude empty or all-NA columns when determining \n",
       "the result dtypes. To retain the old behavior, exclude the relevant entries before the concat operation.\n",
       "  results = pd.concat([results, normalized_data])\n"
      ]
     },
     "metadata": {},
     "output_type": "display_data"
    },
    {
     "data": {
      "text/html": [
       "<pre style=\"white-space:pre;overflow-x:auto;line-height:normal;font-family:Menlo,'DejaVu Sans Mono',consolas,'Courier New',monospace\">/tmp/ipykernel_120664/3199749346.py:26: FutureWarning: The behavior of DataFrame concatenation with empty or all-NA\n",
       "entries is deprecated. In a future version, this will no longer exclude empty or all-NA columns when determining \n",
       "the result dtypes. To retain the old behavior, exclude the relevant entries before the concat operation.\n",
       "  results = pd.concat([results, normalized_data])\n",
       "</pre>\n"
      ],
      "text/plain": [
       "/tmp/ipykernel_120664/3199749346.py:26: FutureWarning: The behavior of DataFrame concatenation with empty or all-NA\n",
       "entries is deprecated. In a future version, this will no longer exclude empty or all-NA columns when determining \n",
       "the result dtypes. To retain the old behavior, exclude the relevant entries before the concat operation.\n",
       "  results = pd.concat([results, normalized_data])\n"
      ]
     },
     "metadata": {},
     "output_type": "display_data"
    },
    {
     "data": {
      "text/html": [
       "<pre style=\"white-space:pre;overflow-x:auto;line-height:normal;font-family:Menlo,'DejaVu Sans Mono',consolas,'Courier New',monospace\">/tmp/ipykernel_120664/3199749346.py:26: FutureWarning: The behavior of DataFrame concatenation with empty or all-NA\n",
       "entries is deprecated. In a future version, this will no longer exclude empty or all-NA columns when determining \n",
       "the result dtypes. To retain the old behavior, exclude the relevant entries before the concat operation.\n",
       "  results = pd.concat([results, normalized_data])\n",
       "</pre>\n"
      ],
      "text/plain": [
       "/tmp/ipykernel_120664/3199749346.py:26: FutureWarning: The behavior of DataFrame concatenation with empty or all-NA\n",
       "entries is deprecated. In a future version, this will no longer exclude empty or all-NA columns when determining \n",
       "the result dtypes. To retain the old behavior, exclude the relevant entries before the concat operation.\n",
       "  results = pd.concat([results, normalized_data])\n"
      ]
     },
     "metadata": {},
     "output_type": "display_data"
    },
    {
     "data": {
      "text/html": [
       "<pre style=\"white-space:pre;overflow-x:auto;line-height:normal;font-family:Menlo,'DejaVu Sans Mono',consolas,'Courier New',monospace\">/tmp/ipykernel_120664/3199749346.py:26: FutureWarning: The behavior of DataFrame concatenation with empty or all-NA\n",
       "entries is deprecated. In a future version, this will no longer exclude empty or all-NA columns when determining \n",
       "the result dtypes. To retain the old behavior, exclude the relevant entries before the concat operation.\n",
       "  results = pd.concat([results, normalized_data])\n",
       "</pre>\n"
      ],
      "text/plain": [
       "/tmp/ipykernel_120664/3199749346.py:26: FutureWarning: The behavior of DataFrame concatenation with empty or all-NA\n",
       "entries is deprecated. In a future version, this will no longer exclude empty or all-NA columns when determining \n",
       "the result dtypes. To retain the old behavior, exclude the relevant entries before the concat operation.\n",
       "  results = pd.concat([results, normalized_data])\n"
      ]
     },
     "metadata": {},
     "output_type": "display_data"
    },
    {
     "data": {
      "text/html": [
       "<pre style=\"white-space:pre;overflow-x:auto;line-height:normal;font-family:Menlo,'DejaVu Sans Mono',consolas,'Courier New',monospace\">/tmp/ipykernel_120664/3199749346.py:26: FutureWarning: The behavior of DataFrame concatenation with empty or all-NA\n",
       "entries is deprecated. In a future version, this will no longer exclude empty or all-NA columns when determining \n",
       "the result dtypes. To retain the old behavior, exclude the relevant entries before the concat operation.\n",
       "  results = pd.concat([results, normalized_data])\n",
       "</pre>\n"
      ],
      "text/plain": [
       "/tmp/ipykernel_120664/3199749346.py:26: FutureWarning: The behavior of DataFrame concatenation with empty or all-NA\n",
       "entries is deprecated. In a future version, this will no longer exclude empty or all-NA columns when determining \n",
       "the result dtypes. To retain the old behavior, exclude the relevant entries before the concat operation.\n",
       "  results = pd.concat([results, normalized_data])\n"
      ]
     },
     "metadata": {},
     "output_type": "display_data"
    },
    {
     "data": {
      "text/html": [
       "<pre style=\"white-space:pre;overflow-x:auto;line-height:normal;font-family:Menlo,'DejaVu Sans Mono',consolas,'Courier New',monospace\">/tmp/ipykernel_120664/3199749346.py:26: FutureWarning: The behavior of DataFrame concatenation with empty or all-NA\n",
       "entries is deprecated. In a future version, this will no longer exclude empty or all-NA columns when determining \n",
       "the result dtypes. To retain the old behavior, exclude the relevant entries before the concat operation.\n",
       "  results = pd.concat([results, normalized_data])\n",
       "</pre>\n"
      ],
      "text/plain": [
       "/tmp/ipykernel_120664/3199749346.py:26: FutureWarning: The behavior of DataFrame concatenation with empty or all-NA\n",
       "entries is deprecated. In a future version, this will no longer exclude empty or all-NA columns when determining \n",
       "the result dtypes. To retain the old behavior, exclude the relevant entries before the concat operation.\n",
       "  results = pd.concat([results, normalized_data])\n"
      ]
     },
     "metadata": {},
     "output_type": "display_data"
    },
    {
     "data": {
      "text/html": [
       "<pre style=\"white-space:pre;overflow-x:auto;line-height:normal;font-family:Menlo,'DejaVu Sans Mono',consolas,'Courier New',monospace\">/tmp/ipykernel_120664/3199749346.py:26: FutureWarning: The behavior of DataFrame concatenation with empty or all-NA\n",
       "entries is deprecated. In a future version, this will no longer exclude empty or all-NA columns when determining \n",
       "the result dtypes. To retain the old behavior, exclude the relevant entries before the concat operation.\n",
       "  results = pd.concat([results, normalized_data])\n",
       "</pre>\n"
      ],
      "text/plain": [
       "/tmp/ipykernel_120664/3199749346.py:26: FutureWarning: The behavior of DataFrame concatenation with empty or all-NA\n",
       "entries is deprecated. In a future version, this will no longer exclude empty or all-NA columns when determining \n",
       "the result dtypes. To retain the old behavior, exclude the relevant entries before the concat operation.\n",
       "  results = pd.concat([results, normalized_data])\n"
      ]
     },
     "metadata": {},
     "output_type": "display_data"
    },
    {
     "data": {
      "text/html": [
       "<pre style=\"white-space:pre;overflow-x:auto;line-height:normal;font-family:Menlo,'DejaVu Sans Mono',consolas,'Courier New',monospace\">/tmp/ipykernel_120664/3199749346.py:26: FutureWarning: The behavior of DataFrame concatenation with empty or all-NA\n",
       "entries is deprecated. In a future version, this will no longer exclude empty or all-NA columns when determining \n",
       "the result dtypes. To retain the old behavior, exclude the relevant entries before the concat operation.\n",
       "  results = pd.concat([results, normalized_data])\n",
       "</pre>\n"
      ],
      "text/plain": [
       "/tmp/ipykernel_120664/3199749346.py:26: FutureWarning: The behavior of DataFrame concatenation with empty or all-NA\n",
       "entries is deprecated. In a future version, this will no longer exclude empty or all-NA columns when determining \n",
       "the result dtypes. To retain the old behavior, exclude the relevant entries before the concat operation.\n",
       "  results = pd.concat([results, normalized_data])\n"
      ]
     },
     "metadata": {},
     "output_type": "display_data"
    },
    {
     "data": {
      "text/html": [
       "<pre style=\"white-space:pre;overflow-x:auto;line-height:normal;font-family:Menlo,'DejaVu Sans Mono',consolas,'Courier New',monospace\">/tmp/ipykernel_120664/3199749346.py:26: FutureWarning: The behavior of DataFrame concatenation with empty or all-NA\n",
       "entries is deprecated. In a future version, this will no longer exclude empty or all-NA columns when determining \n",
       "the result dtypes. To retain the old behavior, exclude the relevant entries before the concat operation.\n",
       "  results = pd.concat([results, normalized_data])\n",
       "</pre>\n"
      ],
      "text/plain": [
       "/tmp/ipykernel_120664/3199749346.py:26: FutureWarning: The behavior of DataFrame concatenation with empty or all-NA\n",
       "entries is deprecated. In a future version, this will no longer exclude empty or all-NA columns when determining \n",
       "the result dtypes. To retain the old behavior, exclude the relevant entries before the concat operation.\n",
       "  results = pd.concat([results, normalized_data])\n"
      ]
     },
     "metadata": {},
     "output_type": "display_data"
    },
    {
     "data": {
      "text/html": [
       "<pre style=\"white-space:pre;overflow-x:auto;line-height:normal;font-family:Menlo,'DejaVu Sans Mono',consolas,'Courier New',monospace\">/tmp/ipykernel_120664/3199749346.py:26: FutureWarning: The behavior of DataFrame concatenation with empty or all-NA\n",
       "entries is deprecated. In a future version, this will no longer exclude empty or all-NA columns when determining \n",
       "the result dtypes. To retain the old behavior, exclude the relevant entries before the concat operation.\n",
       "  results = pd.concat([results, normalized_data])\n",
       "</pre>\n"
      ],
      "text/plain": [
       "/tmp/ipykernel_120664/3199749346.py:26: FutureWarning: The behavior of DataFrame concatenation with empty or all-NA\n",
       "entries is deprecated. In a future version, this will no longer exclude empty or all-NA columns when determining \n",
       "the result dtypes. To retain the old behavior, exclude the relevant entries before the concat operation.\n",
       "  results = pd.concat([results, normalized_data])\n"
      ]
     },
     "metadata": {},
     "output_type": "display_data"
    },
    {
     "data": {
      "text/html": [
       "<pre style=\"white-space:pre;overflow-x:auto;line-height:normal;font-family:Menlo,'DejaVu Sans Mono',consolas,'Courier New',monospace\">/tmp/ipykernel_120664/3199749346.py:26: FutureWarning: The behavior of DataFrame concatenation with empty or all-NA\n",
       "entries is deprecated. In a future version, this will no longer exclude empty or all-NA columns when determining \n",
       "the result dtypes. To retain the old behavior, exclude the relevant entries before the concat operation.\n",
       "  results = pd.concat([results, normalized_data])\n",
       "</pre>\n"
      ],
      "text/plain": [
       "/tmp/ipykernel_120664/3199749346.py:26: FutureWarning: The behavior of DataFrame concatenation with empty or all-NA\n",
       "entries is deprecated. In a future version, this will no longer exclude empty or all-NA columns when determining \n",
       "the result dtypes. To retain the old behavior, exclude the relevant entries before the concat operation.\n",
       "  results = pd.concat([results, normalized_data])\n"
      ]
     },
     "metadata": {},
     "output_type": "display_data"
    },
    {
     "data": {
      "text/html": [
       "<pre style=\"white-space:pre;overflow-x:auto;line-height:normal;font-family:Menlo,'DejaVu Sans Mono',consolas,'Courier New',monospace\">/tmp/ipykernel_120664/3199749346.py:26: FutureWarning: The behavior of DataFrame concatenation with empty or all-NA\n",
       "entries is deprecated. In a future version, this will no longer exclude empty or all-NA columns when determining \n",
       "the result dtypes. To retain the old behavior, exclude the relevant entries before the concat operation.\n",
       "  results = pd.concat([results, normalized_data])\n",
       "</pre>\n"
      ],
      "text/plain": [
       "/tmp/ipykernel_120664/3199749346.py:26: FutureWarning: The behavior of DataFrame concatenation with empty or all-NA\n",
       "entries is deprecated. In a future version, this will no longer exclude empty or all-NA columns when determining \n",
       "the result dtypes. To retain the old behavior, exclude the relevant entries before the concat operation.\n",
       "  results = pd.concat([results, normalized_data])\n"
      ]
     },
     "metadata": {},
     "output_type": "display_data"
    },
    {
     "data": {
      "text/html": [
       "<pre style=\"white-space:pre;overflow-x:auto;line-height:normal;font-family:Menlo,'DejaVu Sans Mono',consolas,'Courier New',monospace\">/tmp/ipykernel_120664/3199749346.py:26: FutureWarning: The behavior of DataFrame concatenation with empty or all-NA\n",
       "entries is deprecated. In a future version, this will no longer exclude empty or all-NA columns when determining \n",
       "the result dtypes. To retain the old behavior, exclude the relevant entries before the concat operation.\n",
       "  results = pd.concat([results, normalized_data])\n",
       "</pre>\n"
      ],
      "text/plain": [
       "/tmp/ipykernel_120664/3199749346.py:26: FutureWarning: The behavior of DataFrame concatenation with empty or all-NA\n",
       "entries is deprecated. In a future version, this will no longer exclude empty or all-NA columns when determining \n",
       "the result dtypes. To retain the old behavior, exclude the relevant entries before the concat operation.\n",
       "  results = pd.concat([results, normalized_data])\n"
      ]
     },
     "metadata": {},
     "output_type": "display_data"
    },
    {
     "data": {
      "text/html": [
       "<pre style=\"white-space:pre;overflow-x:auto;line-height:normal;font-family:Menlo,'DejaVu Sans Mono',consolas,'Courier New',monospace\">/tmp/ipykernel_120664/3199749346.py:26: FutureWarning: The behavior of DataFrame concatenation with empty or all-NA\n",
       "entries is deprecated. In a future version, this will no longer exclude empty or all-NA columns when determining \n",
       "the result dtypes. To retain the old behavior, exclude the relevant entries before the concat operation.\n",
       "  results = pd.concat([results, normalized_data])\n",
       "</pre>\n"
      ],
      "text/plain": [
       "/tmp/ipykernel_120664/3199749346.py:26: FutureWarning: The behavior of DataFrame concatenation with empty or all-NA\n",
       "entries is deprecated. In a future version, this will no longer exclude empty or all-NA columns when determining \n",
       "the result dtypes. To retain the old behavior, exclude the relevant entries before the concat operation.\n",
       "  results = pd.concat([results, normalized_data])\n"
      ]
     },
     "metadata": {},
     "output_type": "display_data"
    },
    {
     "data": {
      "text/html": [
       "<pre style=\"white-space:pre;overflow-x:auto;line-height:normal;font-family:Menlo,'DejaVu Sans Mono',consolas,'Courier New',monospace\">/tmp/ipykernel_120664/3199749346.py:26: FutureWarning: The behavior of DataFrame concatenation with empty or all-NA\n",
       "entries is deprecated. In a future version, this will no longer exclude empty or all-NA columns when determining \n",
       "the result dtypes. To retain the old behavior, exclude the relevant entries before the concat operation.\n",
       "  results = pd.concat([results, normalized_data])\n",
       "</pre>\n"
      ],
      "text/plain": [
       "/tmp/ipykernel_120664/3199749346.py:26: FutureWarning: The behavior of DataFrame concatenation with empty or all-NA\n",
       "entries is deprecated. In a future version, this will no longer exclude empty or all-NA columns when determining \n",
       "the result dtypes. To retain the old behavior, exclude the relevant entries before the concat operation.\n",
       "  results = pd.concat([results, normalized_data])\n"
      ]
     },
     "metadata": {},
     "output_type": "display_data"
    },
    {
     "data": {
      "text/html": [
       "<pre style=\"white-space:pre;overflow-x:auto;line-height:normal;font-family:Menlo,'DejaVu Sans Mono',consolas,'Courier New',monospace\">/tmp/ipykernel_120664/3199749346.py:26: FutureWarning: The behavior of DataFrame concatenation with empty or all-NA\n",
       "entries is deprecated. In a future version, this will no longer exclude empty or all-NA columns when determining \n",
       "the result dtypes. To retain the old behavior, exclude the relevant entries before the concat operation.\n",
       "  results = pd.concat([results, normalized_data])\n",
       "</pre>\n"
      ],
      "text/plain": [
       "/tmp/ipykernel_120664/3199749346.py:26: FutureWarning: The behavior of DataFrame concatenation with empty or all-NA\n",
       "entries is deprecated. In a future version, this will no longer exclude empty or all-NA columns when determining \n",
       "the result dtypes. To retain the old behavior, exclude the relevant entries before the concat operation.\n",
       "  results = pd.concat([results, normalized_data])\n"
      ]
     },
     "metadata": {},
     "output_type": "display_data"
    },
    {
     "data": {
      "text/html": [
       "<pre style=\"white-space:pre;overflow-x:auto;line-height:normal;font-family:Menlo,'DejaVu Sans Mono',consolas,'Courier New',monospace\">/tmp/ipykernel_120664/3199749346.py:26: FutureWarning: The behavior of DataFrame concatenation with empty or all-NA\n",
       "entries is deprecated. In a future version, this will no longer exclude empty or all-NA columns when determining \n",
       "the result dtypes. To retain the old behavior, exclude the relevant entries before the concat operation.\n",
       "  results = pd.concat([results, normalized_data])\n",
       "</pre>\n"
      ],
      "text/plain": [
       "/tmp/ipykernel_120664/3199749346.py:26: FutureWarning: The behavior of DataFrame concatenation with empty or all-NA\n",
       "entries is deprecated. In a future version, this will no longer exclude empty or all-NA columns when determining \n",
       "the result dtypes. To retain the old behavior, exclude the relevant entries before the concat operation.\n",
       "  results = pd.concat([results, normalized_data])\n"
      ]
     },
     "metadata": {},
     "output_type": "display_data"
    },
    {
     "data": {
      "text/html": [
       "<pre style=\"white-space:pre;overflow-x:auto;line-height:normal;font-family:Menlo,'DejaVu Sans Mono',consolas,'Courier New',monospace\">/tmp/ipykernel_120664/3199749346.py:26: FutureWarning: The behavior of DataFrame concatenation with empty or all-NA\n",
       "entries is deprecated. In a future version, this will no longer exclude empty or all-NA columns when determining \n",
       "the result dtypes. To retain the old behavior, exclude the relevant entries before the concat operation.\n",
       "  results = pd.concat([results, normalized_data])\n",
       "</pre>\n"
      ],
      "text/plain": [
       "/tmp/ipykernel_120664/3199749346.py:26: FutureWarning: The behavior of DataFrame concatenation with empty or all-NA\n",
       "entries is deprecated. In a future version, this will no longer exclude empty or all-NA columns when determining \n",
       "the result dtypes. To retain the old behavior, exclude the relevant entries before the concat operation.\n",
       "  results = pd.concat([results, normalized_data])\n"
      ]
     },
     "metadata": {},
     "output_type": "display_data"
    },
    {
     "data": {
      "text/html": [
       "<pre style=\"white-space:pre;overflow-x:auto;line-height:normal;font-family:Menlo,'DejaVu Sans Mono',consolas,'Courier New',monospace\">/tmp/ipykernel_120664/3199749346.py:26: FutureWarning: The behavior of DataFrame concatenation with empty or all-NA\n",
       "entries is deprecated. In a future version, this will no longer exclude empty or all-NA columns when determining \n",
       "the result dtypes. To retain the old behavior, exclude the relevant entries before the concat operation.\n",
       "  results = pd.concat([results, normalized_data])\n",
       "</pre>\n"
      ],
      "text/plain": [
       "/tmp/ipykernel_120664/3199749346.py:26: FutureWarning: The behavior of DataFrame concatenation with empty or all-NA\n",
       "entries is deprecated. In a future version, this will no longer exclude empty or all-NA columns when determining \n",
       "the result dtypes. To retain the old behavior, exclude the relevant entries before the concat operation.\n",
       "  results = pd.concat([results, normalized_data])\n"
      ]
     },
     "metadata": {},
     "output_type": "display_data"
    },
    {
     "data": {
      "text/html": [
       "<pre style=\"white-space:pre;overflow-x:auto;line-height:normal;font-family:Menlo,'DejaVu Sans Mono',consolas,'Courier New',monospace\">/tmp/ipykernel_120664/3199749346.py:26: FutureWarning: The behavior of DataFrame concatenation with empty or all-NA\n",
       "entries is deprecated. In a future version, this will no longer exclude empty or all-NA columns when determining \n",
       "the result dtypes. To retain the old behavior, exclude the relevant entries before the concat operation.\n",
       "  results = pd.concat([results, normalized_data])\n",
       "</pre>\n"
      ],
      "text/plain": [
       "/tmp/ipykernel_120664/3199749346.py:26: FutureWarning: The behavior of DataFrame concatenation with empty or all-NA\n",
       "entries is deprecated. In a future version, this will no longer exclude empty or all-NA columns when determining \n",
       "the result dtypes. To retain the old behavior, exclude the relevant entries before the concat operation.\n",
       "  results = pd.concat([results, normalized_data])\n"
      ]
     },
     "metadata": {},
     "output_type": "display_data"
    },
    {
     "data": {
      "text/html": [
       "<pre style=\"white-space:pre;overflow-x:auto;line-height:normal;font-family:Menlo,'DejaVu Sans Mono',consolas,'Courier New',monospace\">/tmp/ipykernel_120664/3199749346.py:26: FutureWarning: The behavior of DataFrame concatenation with empty or all-NA\n",
       "entries is deprecated. In a future version, this will no longer exclude empty or all-NA columns when determining \n",
       "the result dtypes. To retain the old behavior, exclude the relevant entries before the concat operation.\n",
       "  results = pd.concat([results, normalized_data])\n",
       "</pre>\n"
      ],
      "text/plain": [
       "/tmp/ipykernel_120664/3199749346.py:26: FutureWarning: The behavior of DataFrame concatenation with empty or all-NA\n",
       "entries is deprecated. In a future version, this will no longer exclude empty or all-NA columns when determining \n",
       "the result dtypes. To retain the old behavior, exclude the relevant entries before the concat operation.\n",
       "  results = pd.concat([results, normalized_data])\n"
      ]
     },
     "metadata": {},
     "output_type": "display_data"
    },
    {
     "data": {
      "text/html": [
       "<pre style=\"white-space:pre;overflow-x:auto;line-height:normal;font-family:Menlo,'DejaVu Sans Mono',consolas,'Courier New',monospace\">/tmp/ipykernel_120664/3199749346.py:26: FutureWarning: The behavior of DataFrame concatenation with empty or all-NA\n",
       "entries is deprecated. In a future version, this will no longer exclude empty or all-NA columns when determining \n",
       "the result dtypes. To retain the old behavior, exclude the relevant entries before the concat operation.\n",
       "  results = pd.concat([results, normalized_data])\n",
       "</pre>\n"
      ],
      "text/plain": [
       "/tmp/ipykernel_120664/3199749346.py:26: FutureWarning: The behavior of DataFrame concatenation with empty or all-NA\n",
       "entries is deprecated. In a future version, this will no longer exclude empty or all-NA columns when determining \n",
       "the result dtypes. To retain the old behavior, exclude the relevant entries before the concat operation.\n",
       "  results = pd.concat([results, normalized_data])\n"
      ]
     },
     "metadata": {},
     "output_type": "display_data"
    },
    {
     "data": {
      "text/html": [
       "<pre style=\"white-space:pre;overflow-x:auto;line-height:normal;font-family:Menlo,'DejaVu Sans Mono',consolas,'Courier New',monospace\">/tmp/ipykernel_120664/3199749346.py:26: FutureWarning: The behavior of DataFrame concatenation with empty or all-NA\n",
       "entries is deprecated. In a future version, this will no longer exclude empty or all-NA columns when determining \n",
       "the result dtypes. To retain the old behavior, exclude the relevant entries before the concat operation.\n",
       "  results = pd.concat([results, normalized_data])\n",
       "</pre>\n"
      ],
      "text/plain": [
       "/tmp/ipykernel_120664/3199749346.py:26: FutureWarning: The behavior of DataFrame concatenation with empty or all-NA\n",
       "entries is deprecated. In a future version, this will no longer exclude empty or all-NA columns when determining \n",
       "the result dtypes. To retain the old behavior, exclude the relevant entries before the concat operation.\n",
       "  results = pd.concat([results, normalized_data])\n"
      ]
     },
     "metadata": {},
     "output_type": "display_data"
    },
    {
     "data": {
      "text/html": [
       "<pre style=\"white-space:pre;overflow-x:auto;line-height:normal;font-family:Menlo,'DejaVu Sans Mono',consolas,'Courier New',monospace\">/tmp/ipykernel_120664/3199749346.py:26: FutureWarning: The behavior of DataFrame concatenation with empty or all-NA\n",
       "entries is deprecated. In a future version, this will no longer exclude empty or all-NA columns when determining \n",
       "the result dtypes. To retain the old behavior, exclude the relevant entries before the concat operation.\n",
       "  results = pd.concat([results, normalized_data])\n",
       "</pre>\n"
      ],
      "text/plain": [
       "/tmp/ipykernel_120664/3199749346.py:26: FutureWarning: The behavior of DataFrame concatenation with empty or all-NA\n",
       "entries is deprecated. In a future version, this will no longer exclude empty or all-NA columns when determining \n",
       "the result dtypes. To retain the old behavior, exclude the relevant entries before the concat operation.\n",
       "  results = pd.concat([results, normalized_data])\n"
      ]
     },
     "metadata": {},
     "output_type": "display_data"
    },
    {
     "data": {
      "text/html": [
       "<pre style=\"white-space:pre;overflow-x:auto;line-height:normal;font-family:Menlo,'DejaVu Sans Mono',consolas,'Courier New',monospace\">/tmp/ipykernel_120664/3199749346.py:26: FutureWarning: The behavior of DataFrame concatenation with empty or all-NA\n",
       "entries is deprecated. In a future version, this will no longer exclude empty or all-NA columns when determining \n",
       "the result dtypes. To retain the old behavior, exclude the relevant entries before the concat operation.\n",
       "  results = pd.concat([results, normalized_data])\n",
       "</pre>\n"
      ],
      "text/plain": [
       "/tmp/ipykernel_120664/3199749346.py:26: FutureWarning: The behavior of DataFrame concatenation with empty or all-NA\n",
       "entries is deprecated. In a future version, this will no longer exclude empty or all-NA columns when determining \n",
       "the result dtypes. To retain the old behavior, exclude the relevant entries before the concat operation.\n",
       "  results = pd.concat([results, normalized_data])\n"
      ]
     },
     "metadata": {},
     "output_type": "display_data"
    },
    {
     "data": {
      "text/html": [
       "<pre style=\"white-space:pre;overflow-x:auto;line-height:normal;font-family:Menlo,'DejaVu Sans Mono',consolas,'Courier New',monospace\">/tmp/ipykernel_120664/3199749346.py:26: FutureWarning: The behavior of DataFrame concatenation with empty or all-NA\n",
       "entries is deprecated. In a future version, this will no longer exclude empty or all-NA columns when determining \n",
       "the result dtypes. To retain the old behavior, exclude the relevant entries before the concat operation.\n",
       "  results = pd.concat([results, normalized_data])\n",
       "</pre>\n"
      ],
      "text/plain": [
       "/tmp/ipykernel_120664/3199749346.py:26: FutureWarning: The behavior of DataFrame concatenation with empty or all-NA\n",
       "entries is deprecated. In a future version, this will no longer exclude empty or all-NA columns when determining \n",
       "the result dtypes. To retain the old behavior, exclude the relevant entries before the concat operation.\n",
       "  results = pd.concat([results, normalized_data])\n"
      ]
     },
     "metadata": {},
     "output_type": "display_data"
    },
    {
     "data": {
      "text/html": [
       "<pre style=\"white-space:pre;overflow-x:auto;line-height:normal;font-family:Menlo,'DejaVu Sans Mono',consolas,'Courier New',monospace\">/tmp/ipykernel_120664/3199749346.py:26: FutureWarning: The behavior of DataFrame concatenation with empty or all-NA\n",
       "entries is deprecated. In a future version, this will no longer exclude empty or all-NA columns when determining \n",
       "the result dtypes. To retain the old behavior, exclude the relevant entries before the concat operation.\n",
       "  results = pd.concat([results, normalized_data])\n",
       "</pre>\n"
      ],
      "text/plain": [
       "/tmp/ipykernel_120664/3199749346.py:26: FutureWarning: The behavior of DataFrame concatenation with empty or all-NA\n",
       "entries is deprecated. In a future version, this will no longer exclude empty or all-NA columns when determining \n",
       "the result dtypes. To retain the old behavior, exclude the relevant entries before the concat operation.\n",
       "  results = pd.concat([results, normalized_data])\n"
      ]
     },
     "metadata": {},
     "output_type": "display_data"
    },
    {
     "data": {
      "text/html": [
       "<pre style=\"white-space:pre;overflow-x:auto;line-height:normal;font-family:Menlo,'DejaVu Sans Mono',consolas,'Courier New',monospace\">/tmp/ipykernel_120664/3199749346.py:26: FutureWarning: The behavior of DataFrame concatenation with empty or all-NA\n",
       "entries is deprecated. In a future version, this will no longer exclude empty or all-NA columns when determining \n",
       "the result dtypes. To retain the old behavior, exclude the relevant entries before the concat operation.\n",
       "  results = pd.concat([results, normalized_data])\n",
       "</pre>\n"
      ],
      "text/plain": [
       "/tmp/ipykernel_120664/3199749346.py:26: FutureWarning: The behavior of DataFrame concatenation with empty or all-NA\n",
       "entries is deprecated. In a future version, this will no longer exclude empty or all-NA columns when determining \n",
       "the result dtypes. To retain the old behavior, exclude the relevant entries before the concat operation.\n",
       "  results = pd.concat([results, normalized_data])\n"
      ]
     },
     "metadata": {},
     "output_type": "display_data"
    },
    {
     "data": {
      "text/html": [
       "<pre style=\"white-space:pre;overflow-x:auto;line-height:normal;font-family:Menlo,'DejaVu Sans Mono',consolas,'Courier New',monospace\">/tmp/ipykernel_120664/3199749346.py:26: FutureWarning: The behavior of DataFrame concatenation with empty or all-NA\n",
       "entries is deprecated. In a future version, this will no longer exclude empty or all-NA columns when determining \n",
       "the result dtypes. To retain the old behavior, exclude the relevant entries before the concat operation.\n",
       "  results = pd.concat([results, normalized_data])\n",
       "</pre>\n"
      ],
      "text/plain": [
       "/tmp/ipykernel_120664/3199749346.py:26: FutureWarning: The behavior of DataFrame concatenation with empty or all-NA\n",
       "entries is deprecated. In a future version, this will no longer exclude empty or all-NA columns when determining \n",
       "the result dtypes. To retain the old behavior, exclude the relevant entries before the concat operation.\n",
       "  results = pd.concat([results, normalized_data])\n"
      ]
     },
     "metadata": {},
     "output_type": "display_data"
    },
    {
     "data": {
      "text/html": [
       "<pre style=\"white-space:pre;overflow-x:auto;line-height:normal;font-family:Menlo,'DejaVu Sans Mono',consolas,'Courier New',monospace\">/tmp/ipykernel_120664/3199749346.py:26: FutureWarning: The behavior of DataFrame concatenation with empty or all-NA\n",
       "entries is deprecated. In a future version, this will no longer exclude empty or all-NA columns when determining \n",
       "the result dtypes. To retain the old behavior, exclude the relevant entries before the concat operation.\n",
       "  results = pd.concat([results, normalized_data])\n",
       "</pre>\n"
      ],
      "text/plain": [
       "/tmp/ipykernel_120664/3199749346.py:26: FutureWarning: The behavior of DataFrame concatenation with empty or all-NA\n",
       "entries is deprecated. In a future version, this will no longer exclude empty or all-NA columns when determining \n",
       "the result dtypes. To retain the old behavior, exclude the relevant entries before the concat operation.\n",
       "  results = pd.concat([results, normalized_data])\n"
      ]
     },
     "metadata": {},
     "output_type": "display_data"
    },
    {
     "data": {
      "text/html": [
       "<pre style=\"white-space:pre;overflow-x:auto;line-height:normal;font-family:Menlo,'DejaVu Sans Mono',consolas,'Courier New',monospace\">/tmp/ipykernel_120664/3199749346.py:26: FutureWarning: The behavior of DataFrame concatenation with empty or all-NA\n",
       "entries is deprecated. In a future version, this will no longer exclude empty or all-NA columns when determining \n",
       "the result dtypes. To retain the old behavior, exclude the relevant entries before the concat operation.\n",
       "  results = pd.concat([results, normalized_data])\n",
       "</pre>\n"
      ],
      "text/plain": [
       "/tmp/ipykernel_120664/3199749346.py:26: FutureWarning: The behavior of DataFrame concatenation with empty or all-NA\n",
       "entries is deprecated. In a future version, this will no longer exclude empty or all-NA columns when determining \n",
       "the result dtypes. To retain the old behavior, exclude the relevant entries before the concat operation.\n",
       "  results = pd.concat([results, normalized_data])\n"
      ]
     },
     "metadata": {},
     "output_type": "display_data"
    },
    {
     "data": {
      "text/html": [
       "<pre style=\"white-space:pre;overflow-x:auto;line-height:normal;font-family:Menlo,'DejaVu Sans Mono',consolas,'Courier New',monospace\">/tmp/ipykernel_120664/3199749346.py:26: FutureWarning: The behavior of DataFrame concatenation with empty or all-NA\n",
       "entries is deprecated. In a future version, this will no longer exclude empty or all-NA columns when determining \n",
       "the result dtypes. To retain the old behavior, exclude the relevant entries before the concat operation.\n",
       "  results = pd.concat([results, normalized_data])\n",
       "</pre>\n"
      ],
      "text/plain": [
       "/tmp/ipykernel_120664/3199749346.py:26: FutureWarning: The behavior of DataFrame concatenation with empty or all-NA\n",
       "entries is deprecated. In a future version, this will no longer exclude empty or all-NA columns when determining \n",
       "the result dtypes. To retain the old behavior, exclude the relevant entries before the concat operation.\n",
       "  results = pd.concat([results, normalized_data])\n"
      ]
     },
     "metadata": {},
     "output_type": "display_data"
    },
    {
     "data": {
      "text/html": [
       "<pre style=\"white-space:pre;overflow-x:auto;line-height:normal;font-family:Menlo,'DejaVu Sans Mono',consolas,'Courier New',monospace\">/tmp/ipykernel_120664/3199749346.py:26: FutureWarning: The behavior of DataFrame concatenation with empty or all-NA\n",
       "entries is deprecated. In a future version, this will no longer exclude empty or all-NA columns when determining \n",
       "the result dtypes. To retain the old behavior, exclude the relevant entries before the concat operation.\n",
       "  results = pd.concat([results, normalized_data])\n",
       "</pre>\n"
      ],
      "text/plain": [
       "/tmp/ipykernel_120664/3199749346.py:26: FutureWarning: The behavior of DataFrame concatenation with empty or all-NA\n",
       "entries is deprecated. In a future version, this will no longer exclude empty or all-NA columns when determining \n",
       "the result dtypes. To retain the old behavior, exclude the relevant entries before the concat operation.\n",
       "  results = pd.concat([results, normalized_data])\n"
      ]
     },
     "metadata": {},
     "output_type": "display_data"
    },
    {
     "data": {
      "text/html": [
       "<pre style=\"white-space:pre;overflow-x:auto;line-height:normal;font-family:Menlo,'DejaVu Sans Mono',consolas,'Courier New',monospace\">/tmp/ipykernel_120664/3199749346.py:26: FutureWarning: The behavior of DataFrame concatenation with empty or all-NA\n",
       "entries is deprecated. In a future version, this will no longer exclude empty or all-NA columns when determining \n",
       "the result dtypes. To retain the old behavior, exclude the relevant entries before the concat operation.\n",
       "  results = pd.concat([results, normalized_data])\n",
       "</pre>\n"
      ],
      "text/plain": [
       "/tmp/ipykernel_120664/3199749346.py:26: FutureWarning: The behavior of DataFrame concatenation with empty or all-NA\n",
       "entries is deprecated. In a future version, this will no longer exclude empty or all-NA columns when determining \n",
       "the result dtypes. To retain the old behavior, exclude the relevant entries before the concat operation.\n",
       "  results = pd.concat([results, normalized_data])\n"
      ]
     },
     "metadata": {},
     "output_type": "display_data"
    },
    {
     "data": {
      "text/html": [
       "<pre style=\"white-space:pre;overflow-x:auto;line-height:normal;font-family:Menlo,'DejaVu Sans Mono',consolas,'Courier New',monospace\">/tmp/ipykernel_120664/3199749346.py:26: FutureWarning: The behavior of DataFrame concatenation with empty or all-NA\n",
       "entries is deprecated. In a future version, this will no longer exclude empty or all-NA columns when determining \n",
       "the result dtypes. To retain the old behavior, exclude the relevant entries before the concat operation.\n",
       "  results = pd.concat([results, normalized_data])\n",
       "</pre>\n"
      ],
      "text/plain": [
       "/tmp/ipykernel_120664/3199749346.py:26: FutureWarning: The behavior of DataFrame concatenation with empty or all-NA\n",
       "entries is deprecated. In a future version, this will no longer exclude empty or all-NA columns when determining \n",
       "the result dtypes. To retain the old behavior, exclude the relevant entries before the concat operation.\n",
       "  results = pd.concat([results, normalized_data])\n"
      ]
     },
     "metadata": {},
     "output_type": "display_data"
    },
    {
     "data": {
      "text/html": [
       "<pre style=\"white-space:pre;overflow-x:auto;line-height:normal;font-family:Menlo,'DejaVu Sans Mono',consolas,'Courier New',monospace\">/tmp/ipykernel_120664/3199749346.py:26: FutureWarning: The behavior of DataFrame concatenation with empty or all-NA\n",
       "entries is deprecated. In a future version, this will no longer exclude empty or all-NA columns when determining \n",
       "the result dtypes. To retain the old behavior, exclude the relevant entries before the concat operation.\n",
       "  results = pd.concat([results, normalized_data])\n",
       "</pre>\n"
      ],
      "text/plain": [
       "/tmp/ipykernel_120664/3199749346.py:26: FutureWarning: The behavior of DataFrame concatenation with empty or all-NA\n",
       "entries is deprecated. In a future version, this will no longer exclude empty or all-NA columns when determining \n",
       "the result dtypes. To retain the old behavior, exclude the relevant entries before the concat operation.\n",
       "  results = pd.concat([results, normalized_data])\n"
      ]
     },
     "metadata": {},
     "output_type": "display_data"
    },
    {
     "data": {
      "text/html": [
       "<pre style=\"white-space:pre;overflow-x:auto;line-height:normal;font-family:Menlo,'DejaVu Sans Mono',consolas,'Courier New',monospace\">/tmp/ipykernel_120664/3199749346.py:26: FutureWarning: The behavior of DataFrame concatenation with empty or all-NA\n",
       "entries is deprecated. In a future version, this will no longer exclude empty or all-NA columns when determining \n",
       "the result dtypes. To retain the old behavior, exclude the relevant entries before the concat operation.\n",
       "  results = pd.concat([results, normalized_data])\n",
       "</pre>\n"
      ],
      "text/plain": [
       "/tmp/ipykernel_120664/3199749346.py:26: FutureWarning: The behavior of DataFrame concatenation with empty or all-NA\n",
       "entries is deprecated. In a future version, this will no longer exclude empty or all-NA columns when determining \n",
       "the result dtypes. To retain the old behavior, exclude the relevant entries before the concat operation.\n",
       "  results = pd.concat([results, normalized_data])\n"
      ]
     },
     "metadata": {},
     "output_type": "display_data"
    },
    {
     "data": {
      "text/html": [
       "<pre style=\"white-space:pre;overflow-x:auto;line-height:normal;font-family:Menlo,'DejaVu Sans Mono',consolas,'Courier New',monospace\">/tmp/ipykernel_120664/3199749346.py:26: FutureWarning: The behavior of DataFrame concatenation with empty or all-NA\n",
       "entries is deprecated. In a future version, this will no longer exclude empty or all-NA columns when determining \n",
       "the result dtypes. To retain the old behavior, exclude the relevant entries before the concat operation.\n",
       "  results = pd.concat([results, normalized_data])\n",
       "</pre>\n"
      ],
      "text/plain": [
       "/tmp/ipykernel_120664/3199749346.py:26: FutureWarning: The behavior of DataFrame concatenation with empty or all-NA\n",
       "entries is deprecated. In a future version, this will no longer exclude empty or all-NA columns when determining \n",
       "the result dtypes. To retain the old behavior, exclude the relevant entries before the concat operation.\n",
       "  results = pd.concat([results, normalized_data])\n"
      ]
     },
     "metadata": {},
     "output_type": "display_data"
    },
    {
     "data": {
      "text/html": [
       "<pre style=\"white-space:pre;overflow-x:auto;line-height:normal;font-family:Menlo,'DejaVu Sans Mono',consolas,'Courier New',monospace\">/tmp/ipykernel_120664/3199749346.py:26: FutureWarning: The behavior of DataFrame concatenation with empty or all-NA\n",
       "entries is deprecated. In a future version, this will no longer exclude empty or all-NA columns when determining \n",
       "the result dtypes. To retain the old behavior, exclude the relevant entries before the concat operation.\n",
       "  results = pd.concat([results, normalized_data])\n",
       "</pre>\n"
      ],
      "text/plain": [
       "/tmp/ipykernel_120664/3199749346.py:26: FutureWarning: The behavior of DataFrame concatenation with empty or all-NA\n",
       "entries is deprecated. In a future version, this will no longer exclude empty or all-NA columns when determining \n",
       "the result dtypes. To retain the old behavior, exclude the relevant entries before the concat operation.\n",
       "  results = pd.concat([results, normalized_data])\n"
      ]
     },
     "metadata": {},
     "output_type": "display_data"
    },
    {
     "data": {
      "text/html": [
       "<pre style=\"white-space:pre;overflow-x:auto;line-height:normal;font-family:Menlo,'DejaVu Sans Mono',consolas,'Courier New',monospace\">/tmp/ipykernel_120664/3199749346.py:26: FutureWarning: The behavior of DataFrame concatenation with empty or all-NA\n",
       "entries is deprecated. In a future version, this will no longer exclude empty or all-NA columns when determining \n",
       "the result dtypes. To retain the old behavior, exclude the relevant entries before the concat operation.\n",
       "  results = pd.concat([results, normalized_data])\n",
       "</pre>\n"
      ],
      "text/plain": [
       "/tmp/ipykernel_120664/3199749346.py:26: FutureWarning: The behavior of DataFrame concatenation with empty or all-NA\n",
       "entries is deprecated. In a future version, this will no longer exclude empty or all-NA columns when determining \n",
       "the result dtypes. To retain the old behavior, exclude the relevant entries before the concat operation.\n",
       "  results = pd.concat([results, normalized_data])\n"
      ]
     },
     "metadata": {},
     "output_type": "display_data"
    },
    {
     "data": {
      "text/html": [
       "<pre style=\"white-space:pre;overflow-x:auto;line-height:normal;font-family:Menlo,'DejaVu Sans Mono',consolas,'Courier New',monospace\">/tmp/ipykernel_120664/3199749346.py:26: FutureWarning: The behavior of DataFrame concatenation with empty or all-NA\n",
       "entries is deprecated. In a future version, this will no longer exclude empty or all-NA columns when determining \n",
       "the result dtypes. To retain the old behavior, exclude the relevant entries before the concat operation.\n",
       "  results = pd.concat([results, normalized_data])\n",
       "</pre>\n"
      ],
      "text/plain": [
       "/tmp/ipykernel_120664/3199749346.py:26: FutureWarning: The behavior of DataFrame concatenation with empty or all-NA\n",
       "entries is deprecated. In a future version, this will no longer exclude empty or all-NA columns when determining \n",
       "the result dtypes. To retain the old behavior, exclude the relevant entries before the concat operation.\n",
       "  results = pd.concat([results, normalized_data])\n"
      ]
     },
     "metadata": {},
     "output_type": "display_data"
    },
    {
     "data": {
      "text/html": [
       "<pre style=\"white-space:pre;overflow-x:auto;line-height:normal;font-family:Menlo,'DejaVu Sans Mono',consolas,'Courier New',monospace\">/tmp/ipykernel_120664/3199749346.py:26: FutureWarning: The behavior of DataFrame concatenation with empty or all-NA\n",
       "entries is deprecated. In a future version, this will no longer exclude empty or all-NA columns when determining \n",
       "the result dtypes. To retain the old behavior, exclude the relevant entries before the concat operation.\n",
       "  results = pd.concat([results, normalized_data])\n",
       "</pre>\n"
      ],
      "text/plain": [
       "/tmp/ipykernel_120664/3199749346.py:26: FutureWarning: The behavior of DataFrame concatenation with empty or all-NA\n",
       "entries is deprecated. In a future version, this will no longer exclude empty or all-NA columns when determining \n",
       "the result dtypes. To retain the old behavior, exclude the relevant entries before the concat operation.\n",
       "  results = pd.concat([results, normalized_data])\n"
      ]
     },
     "metadata": {},
     "output_type": "display_data"
    },
    {
     "data": {
      "text/html": [
       "<pre style=\"white-space:pre;overflow-x:auto;line-height:normal;font-family:Menlo,'DejaVu Sans Mono',consolas,'Courier New',monospace\">/tmp/ipykernel_120664/3199749346.py:26: FutureWarning: The behavior of DataFrame concatenation with empty or all-NA\n",
       "entries is deprecated. In a future version, this will no longer exclude empty or all-NA columns when determining \n",
       "the result dtypes. To retain the old behavior, exclude the relevant entries before the concat operation.\n",
       "  results = pd.concat([results, normalized_data])\n",
       "</pre>\n"
      ],
      "text/plain": [
       "/tmp/ipykernel_120664/3199749346.py:26: FutureWarning: The behavior of DataFrame concatenation with empty or all-NA\n",
       "entries is deprecated. In a future version, this will no longer exclude empty or all-NA columns when determining \n",
       "the result dtypes. To retain the old behavior, exclude the relevant entries before the concat operation.\n",
       "  results = pd.concat([results, normalized_data])\n"
      ]
     },
     "metadata": {},
     "output_type": "display_data"
    },
    {
     "data": {
      "text/html": [
       "<pre style=\"white-space:pre;overflow-x:auto;line-height:normal;font-family:Menlo,'DejaVu Sans Mono',consolas,'Courier New',monospace\">/tmp/ipykernel_120664/3199749346.py:26: FutureWarning: The behavior of DataFrame concatenation with empty or all-NA\n",
       "entries is deprecated. In a future version, this will no longer exclude empty or all-NA columns when determining \n",
       "the result dtypes. To retain the old behavior, exclude the relevant entries before the concat operation.\n",
       "  results = pd.concat([results, normalized_data])\n",
       "</pre>\n"
      ],
      "text/plain": [
       "/tmp/ipykernel_120664/3199749346.py:26: FutureWarning: The behavior of DataFrame concatenation with empty or all-NA\n",
       "entries is deprecated. In a future version, this will no longer exclude empty or all-NA columns when determining \n",
       "the result dtypes. To retain the old behavior, exclude the relevant entries before the concat operation.\n",
       "  results = pd.concat([results, normalized_data])\n"
      ]
     },
     "metadata": {},
     "output_type": "display_data"
    },
    {
     "data": {
      "text/html": [
       "<pre style=\"white-space:pre;overflow-x:auto;line-height:normal;font-family:Menlo,'DejaVu Sans Mono',consolas,'Courier New',monospace\">/tmp/ipykernel_120664/3199749346.py:26: FutureWarning: The behavior of DataFrame concatenation with empty or all-NA\n",
       "entries is deprecated. In a future version, this will no longer exclude empty or all-NA columns when determining \n",
       "the result dtypes. To retain the old behavior, exclude the relevant entries before the concat operation.\n",
       "  results = pd.concat([results, normalized_data])\n",
       "</pre>\n"
      ],
      "text/plain": [
       "/tmp/ipykernel_120664/3199749346.py:26: FutureWarning: The behavior of DataFrame concatenation with empty or all-NA\n",
       "entries is deprecated. In a future version, this will no longer exclude empty or all-NA columns when determining \n",
       "the result dtypes. To retain the old behavior, exclude the relevant entries before the concat operation.\n",
       "  results = pd.concat([results, normalized_data])\n"
      ]
     },
     "metadata": {},
     "output_type": "display_data"
    },
    {
     "data": {
      "text/html": [
       "<pre style=\"white-space:pre;overflow-x:auto;line-height:normal;font-family:Menlo,'DejaVu Sans Mono',consolas,'Courier New',monospace\">/tmp/ipykernel_120664/3199749346.py:26: FutureWarning: The behavior of DataFrame concatenation with empty or all-NA\n",
       "entries is deprecated. In a future version, this will no longer exclude empty or all-NA columns when determining \n",
       "the result dtypes. To retain the old behavior, exclude the relevant entries before the concat operation.\n",
       "  results = pd.concat([results, normalized_data])\n",
       "</pre>\n"
      ],
      "text/plain": [
       "/tmp/ipykernel_120664/3199749346.py:26: FutureWarning: The behavior of DataFrame concatenation with empty or all-NA\n",
       "entries is deprecated. In a future version, this will no longer exclude empty or all-NA columns when determining \n",
       "the result dtypes. To retain the old behavior, exclude the relevant entries before the concat operation.\n",
       "  results = pd.concat([results, normalized_data])\n"
      ]
     },
     "metadata": {},
     "output_type": "display_data"
    },
    {
     "data": {
      "text/html": [
       "<pre style=\"white-space:pre;overflow-x:auto;line-height:normal;font-family:Menlo,'DejaVu Sans Mono',consolas,'Courier New',monospace\">/tmp/ipykernel_120664/3199749346.py:26: FutureWarning: The behavior of DataFrame concatenation with empty or all-NA\n",
       "entries is deprecated. In a future version, this will no longer exclude empty or all-NA columns when determining \n",
       "the result dtypes. To retain the old behavior, exclude the relevant entries before the concat operation.\n",
       "  results = pd.concat([results, normalized_data])\n",
       "</pre>\n"
      ],
      "text/plain": [
       "/tmp/ipykernel_120664/3199749346.py:26: FutureWarning: The behavior of DataFrame concatenation with empty or all-NA\n",
       "entries is deprecated. In a future version, this will no longer exclude empty or all-NA columns when determining \n",
       "the result dtypes. To retain the old behavior, exclude the relevant entries before the concat operation.\n",
       "  results = pd.concat([results, normalized_data])\n"
      ]
     },
     "metadata": {},
     "output_type": "display_data"
    },
    {
     "data": {
      "text/html": [
       "<pre style=\"white-space:pre;overflow-x:auto;line-height:normal;font-family:Menlo,'DejaVu Sans Mono',consolas,'Courier New',monospace\">/tmp/ipykernel_120664/3199749346.py:26: FutureWarning: The behavior of DataFrame concatenation with empty or all-NA\n",
       "entries is deprecated. In a future version, this will no longer exclude empty or all-NA columns when determining \n",
       "the result dtypes. To retain the old behavior, exclude the relevant entries before the concat operation.\n",
       "  results = pd.concat([results, normalized_data])\n",
       "</pre>\n"
      ],
      "text/plain": [
       "/tmp/ipykernel_120664/3199749346.py:26: FutureWarning: The behavior of DataFrame concatenation with empty or all-NA\n",
       "entries is deprecated. In a future version, this will no longer exclude empty or all-NA columns when determining \n",
       "the result dtypes. To retain the old behavior, exclude the relevant entries before the concat operation.\n",
       "  results = pd.concat([results, normalized_data])\n"
      ]
     },
     "metadata": {},
     "output_type": "display_data"
    },
    {
     "data": {
      "text/html": [
       "<pre style=\"white-space:pre;overflow-x:auto;line-height:normal;font-family:Menlo,'DejaVu Sans Mono',consolas,'Courier New',monospace\">/tmp/ipykernel_120664/3199749346.py:26: FutureWarning: The behavior of DataFrame concatenation with empty or all-NA\n",
       "entries is deprecated. In a future version, this will no longer exclude empty or all-NA columns when determining \n",
       "the result dtypes. To retain the old behavior, exclude the relevant entries before the concat operation.\n",
       "  results = pd.concat([results, normalized_data])\n",
       "</pre>\n"
      ],
      "text/plain": [
       "/tmp/ipykernel_120664/3199749346.py:26: FutureWarning: The behavior of DataFrame concatenation with empty or all-NA\n",
       "entries is deprecated. In a future version, this will no longer exclude empty or all-NA columns when determining \n",
       "the result dtypes. To retain the old behavior, exclude the relevant entries before the concat operation.\n",
       "  results = pd.concat([results, normalized_data])\n"
      ]
     },
     "metadata": {},
     "output_type": "display_data"
    },
    {
     "data": {
      "text/html": [
       "<pre style=\"white-space:pre;overflow-x:auto;line-height:normal;font-family:Menlo,'DejaVu Sans Mono',consolas,'Courier New',monospace\">/tmp/ipykernel_120664/3199749346.py:26: FutureWarning: The behavior of DataFrame concatenation with empty or all-NA\n",
       "entries is deprecated. In a future version, this will no longer exclude empty or all-NA columns when determining \n",
       "the result dtypes. To retain the old behavior, exclude the relevant entries before the concat operation.\n",
       "  results = pd.concat([results, normalized_data])\n",
       "</pre>\n"
      ],
      "text/plain": [
       "/tmp/ipykernel_120664/3199749346.py:26: FutureWarning: The behavior of DataFrame concatenation with empty or all-NA\n",
       "entries is deprecated. In a future version, this will no longer exclude empty or all-NA columns when determining \n",
       "the result dtypes. To retain the old behavior, exclude the relevant entries before the concat operation.\n",
       "  results = pd.concat([results, normalized_data])\n"
      ]
     },
     "metadata": {},
     "output_type": "display_data"
    },
    {
     "data": {
      "text/html": [
       "<pre style=\"white-space:pre;overflow-x:auto;line-height:normal;font-family:Menlo,'DejaVu Sans Mono',consolas,'Courier New',monospace\">/tmp/ipykernel_120664/3199749346.py:26: FutureWarning: The behavior of DataFrame concatenation with empty or all-NA\n",
       "entries is deprecated. In a future version, this will no longer exclude empty or all-NA columns when determining \n",
       "the result dtypes. To retain the old behavior, exclude the relevant entries before the concat operation.\n",
       "  results = pd.concat([results, normalized_data])\n",
       "</pre>\n"
      ],
      "text/plain": [
       "/tmp/ipykernel_120664/3199749346.py:26: FutureWarning: The behavior of DataFrame concatenation with empty or all-NA\n",
       "entries is deprecated. In a future version, this will no longer exclude empty or all-NA columns when determining \n",
       "the result dtypes. To retain the old behavior, exclude the relevant entries before the concat operation.\n",
       "  results = pd.concat([results, normalized_data])\n"
      ]
     },
     "metadata": {},
     "output_type": "display_data"
    },
    {
     "data": {
      "text/html": [
       "<pre style=\"white-space:pre;overflow-x:auto;line-height:normal;font-family:Menlo,'DejaVu Sans Mono',consolas,'Courier New',monospace\">/tmp/ipykernel_120664/3199749346.py:26: FutureWarning: The behavior of DataFrame concatenation with empty or all-NA\n",
       "entries is deprecated. In a future version, this will no longer exclude empty or all-NA columns when determining \n",
       "the result dtypes. To retain the old behavior, exclude the relevant entries before the concat operation.\n",
       "  results = pd.concat([results, normalized_data])\n",
       "</pre>\n"
      ],
      "text/plain": [
       "/tmp/ipykernel_120664/3199749346.py:26: FutureWarning: The behavior of DataFrame concatenation with empty or all-NA\n",
       "entries is deprecated. In a future version, this will no longer exclude empty or all-NA columns when determining \n",
       "the result dtypes. To retain the old behavior, exclude the relevant entries before the concat operation.\n",
       "  results = pd.concat([results, normalized_data])\n"
      ]
     },
     "metadata": {},
     "output_type": "display_data"
    },
    {
     "data": {
      "text/html": [
       "<pre style=\"white-space:pre;overflow-x:auto;line-height:normal;font-family:Menlo,'DejaVu Sans Mono',consolas,'Courier New',monospace\">/tmp/ipykernel_120664/3199749346.py:26: FutureWarning: The behavior of DataFrame concatenation with empty or all-NA\n",
       "entries is deprecated. In a future version, this will no longer exclude empty or all-NA columns when determining \n",
       "the result dtypes. To retain the old behavior, exclude the relevant entries before the concat operation.\n",
       "  results = pd.concat([results, normalized_data])\n",
       "</pre>\n"
      ],
      "text/plain": [
       "/tmp/ipykernel_120664/3199749346.py:26: FutureWarning: The behavior of DataFrame concatenation with empty or all-NA\n",
       "entries is deprecated. In a future version, this will no longer exclude empty or all-NA columns when determining \n",
       "the result dtypes. To retain the old behavior, exclude the relevant entries before the concat operation.\n",
       "  results = pd.concat([results, normalized_data])\n"
      ]
     },
     "metadata": {},
     "output_type": "display_data"
    },
    {
     "data": {
      "text/html": [
       "<pre style=\"white-space:pre;overflow-x:auto;line-height:normal;font-family:Menlo,'DejaVu Sans Mono',consolas,'Courier New',monospace\">/tmp/ipykernel_120664/3199749346.py:26: FutureWarning: The behavior of DataFrame concatenation with empty or all-NA\n",
       "entries is deprecated. In a future version, this will no longer exclude empty or all-NA columns when determining \n",
       "the result dtypes. To retain the old behavior, exclude the relevant entries before the concat operation.\n",
       "  results = pd.concat([results, normalized_data])\n",
       "</pre>\n"
      ],
      "text/plain": [
       "/tmp/ipykernel_120664/3199749346.py:26: FutureWarning: The behavior of DataFrame concatenation with empty or all-NA\n",
       "entries is deprecated. In a future version, this will no longer exclude empty or all-NA columns when determining \n",
       "the result dtypes. To retain the old behavior, exclude the relevant entries before the concat operation.\n",
       "  results = pd.concat([results, normalized_data])\n"
      ]
     },
     "metadata": {},
     "output_type": "display_data"
    },
    {
     "data": {
      "text/html": [
       "<pre style=\"white-space:pre;overflow-x:auto;line-height:normal;font-family:Menlo,'DejaVu Sans Mono',consolas,'Courier New',monospace\">/tmp/ipykernel_120664/3199749346.py:26: FutureWarning: The behavior of DataFrame concatenation with empty or all-NA\n",
       "entries is deprecated. In a future version, this will no longer exclude empty or all-NA columns when determining \n",
       "the result dtypes. To retain the old behavior, exclude the relevant entries before the concat operation.\n",
       "  results = pd.concat([results, normalized_data])\n",
       "</pre>\n"
      ],
      "text/plain": [
       "/tmp/ipykernel_120664/3199749346.py:26: FutureWarning: The behavior of DataFrame concatenation with empty or all-NA\n",
       "entries is deprecated. In a future version, this will no longer exclude empty or all-NA columns when determining \n",
       "the result dtypes. To retain the old behavior, exclude the relevant entries before the concat operation.\n",
       "  results = pd.concat([results, normalized_data])\n"
      ]
     },
     "metadata": {},
     "output_type": "display_data"
    },
    {
     "data": {
      "text/html": [
       "<pre style=\"white-space:pre;overflow-x:auto;line-height:normal;font-family:Menlo,'DejaVu Sans Mono',consolas,'Courier New',monospace\">/tmp/ipykernel_120664/3199749346.py:26: FutureWarning: The behavior of DataFrame concatenation with empty or all-NA\n",
       "entries is deprecated. In a future version, this will no longer exclude empty or all-NA columns when determining \n",
       "the result dtypes. To retain the old behavior, exclude the relevant entries before the concat operation.\n",
       "  results = pd.concat([results, normalized_data])\n",
       "</pre>\n"
      ],
      "text/plain": [
       "/tmp/ipykernel_120664/3199749346.py:26: FutureWarning: The behavior of DataFrame concatenation with empty or all-NA\n",
       "entries is deprecated. In a future version, this will no longer exclude empty or all-NA columns when determining \n",
       "the result dtypes. To retain the old behavior, exclude the relevant entries before the concat operation.\n",
       "  results = pd.concat([results, normalized_data])\n"
      ]
     },
     "metadata": {},
     "output_type": "display_data"
    },
    {
     "data": {
      "text/html": [
       "<pre style=\"white-space:pre;overflow-x:auto;line-height:normal;font-family:Menlo,'DejaVu Sans Mono',consolas,'Courier New',monospace\">/tmp/ipykernel_120664/3199749346.py:26: FutureWarning: The behavior of DataFrame concatenation with empty or all-NA\n",
       "entries is deprecated. In a future version, this will no longer exclude empty or all-NA columns when determining \n",
       "the result dtypes. To retain the old behavior, exclude the relevant entries before the concat operation.\n",
       "  results = pd.concat([results, normalized_data])\n",
       "</pre>\n"
      ],
      "text/plain": [
       "/tmp/ipykernel_120664/3199749346.py:26: FutureWarning: The behavior of DataFrame concatenation with empty or all-NA\n",
       "entries is deprecated. In a future version, this will no longer exclude empty or all-NA columns when determining \n",
       "the result dtypes. To retain the old behavior, exclude the relevant entries before the concat operation.\n",
       "  results = pd.concat([results, normalized_data])\n"
      ]
     },
     "metadata": {},
     "output_type": "display_data"
    },
    {
     "data": {
      "text/html": [
       "<pre style=\"white-space:pre;overflow-x:auto;line-height:normal;font-family:Menlo,'DejaVu Sans Mono',consolas,'Courier New',monospace\">/tmp/ipykernel_120664/3199749346.py:26: FutureWarning: The behavior of DataFrame concatenation with empty or all-NA\n",
       "entries is deprecated. In a future version, this will no longer exclude empty or all-NA columns when determining \n",
       "the result dtypes. To retain the old behavior, exclude the relevant entries before the concat operation.\n",
       "  results = pd.concat([results, normalized_data])\n",
       "</pre>\n"
      ],
      "text/plain": [
       "/tmp/ipykernel_120664/3199749346.py:26: FutureWarning: The behavior of DataFrame concatenation with empty or all-NA\n",
       "entries is deprecated. In a future version, this will no longer exclude empty or all-NA columns when determining \n",
       "the result dtypes. To retain the old behavior, exclude the relevant entries before the concat operation.\n",
       "  results = pd.concat([results, normalized_data])\n"
      ]
     },
     "metadata": {},
     "output_type": "display_data"
    },
    {
     "data": {
      "text/html": [
       "<pre style=\"white-space:pre;overflow-x:auto;line-height:normal;font-family:Menlo,'DejaVu Sans Mono',consolas,'Courier New',monospace\">/tmp/ipykernel_120664/3199749346.py:26: FutureWarning: The behavior of DataFrame concatenation with empty or all-NA\n",
       "entries is deprecated. In a future version, this will no longer exclude empty or all-NA columns when determining \n",
       "the result dtypes. To retain the old behavior, exclude the relevant entries before the concat operation.\n",
       "  results = pd.concat([results, normalized_data])\n",
       "</pre>\n"
      ],
      "text/plain": [
       "/tmp/ipykernel_120664/3199749346.py:26: FutureWarning: The behavior of DataFrame concatenation with empty or all-NA\n",
       "entries is deprecated. In a future version, this will no longer exclude empty or all-NA columns when determining \n",
       "the result dtypes. To retain the old behavior, exclude the relevant entries before the concat operation.\n",
       "  results = pd.concat([results, normalized_data])\n"
      ]
     },
     "metadata": {},
     "output_type": "display_data"
    },
    {
     "data": {
      "text/html": [
       "<pre style=\"white-space:pre;overflow-x:auto;line-height:normal;font-family:Menlo,'DejaVu Sans Mono',consolas,'Courier New',monospace\">/tmp/ipykernel_120664/3199749346.py:26: FutureWarning: The behavior of DataFrame concatenation with empty or all-NA\n",
       "entries is deprecated. In a future version, this will no longer exclude empty or all-NA columns when determining \n",
       "the result dtypes. To retain the old behavior, exclude the relevant entries before the concat operation.\n",
       "  results = pd.concat([results, normalized_data])\n",
       "</pre>\n"
      ],
      "text/plain": [
       "/tmp/ipykernel_120664/3199749346.py:26: FutureWarning: The behavior of DataFrame concatenation with empty or all-NA\n",
       "entries is deprecated. In a future version, this will no longer exclude empty or all-NA columns when determining \n",
       "the result dtypes. To retain the old behavior, exclude the relevant entries before the concat operation.\n",
       "  results = pd.concat([results, normalized_data])\n"
      ]
     },
     "metadata": {},
     "output_type": "display_data"
    },
    {
     "data": {
      "text/html": [
       "<pre style=\"white-space:pre;overflow-x:auto;line-height:normal;font-family:Menlo,'DejaVu Sans Mono',consolas,'Courier New',monospace\">/tmp/ipykernel_120664/3199749346.py:26: FutureWarning: The behavior of DataFrame concatenation with empty or all-NA\n",
       "entries is deprecated. In a future version, this will no longer exclude empty or all-NA columns when determining \n",
       "the result dtypes. To retain the old behavior, exclude the relevant entries before the concat operation.\n",
       "  results = pd.concat([results, normalized_data])\n",
       "</pre>\n"
      ],
      "text/plain": [
       "/tmp/ipykernel_120664/3199749346.py:26: FutureWarning: The behavior of DataFrame concatenation with empty or all-NA\n",
       "entries is deprecated. In a future version, this will no longer exclude empty or all-NA columns when determining \n",
       "the result dtypes. To retain the old behavior, exclude the relevant entries before the concat operation.\n",
       "  results = pd.concat([results, normalized_data])\n"
      ]
     },
     "metadata": {},
     "output_type": "display_data"
    },
    {
     "data": {
      "text/html": [
       "<pre style=\"white-space:pre;overflow-x:auto;line-height:normal;font-family:Menlo,'DejaVu Sans Mono',consolas,'Courier New',monospace\">/tmp/ipykernel_120664/3199749346.py:26: FutureWarning: The behavior of DataFrame concatenation with empty or all-NA\n",
       "entries is deprecated. In a future version, this will no longer exclude empty or all-NA columns when determining \n",
       "the result dtypes. To retain the old behavior, exclude the relevant entries before the concat operation.\n",
       "  results = pd.concat([results, normalized_data])\n",
       "</pre>\n"
      ],
      "text/plain": [
       "/tmp/ipykernel_120664/3199749346.py:26: FutureWarning: The behavior of DataFrame concatenation with empty or all-NA\n",
       "entries is deprecated. In a future version, this will no longer exclude empty or all-NA columns when determining \n",
       "the result dtypes. To retain the old behavior, exclude the relevant entries before the concat operation.\n",
       "  results = pd.concat([results, normalized_data])\n"
      ]
     },
     "metadata": {},
     "output_type": "display_data"
    },
    {
     "data": {
      "text/html": [
       "<pre style=\"white-space:pre;overflow-x:auto;line-height:normal;font-family:Menlo,'DejaVu Sans Mono',consolas,'Courier New',monospace\">/tmp/ipykernel_120664/3199749346.py:26: FutureWarning: The behavior of DataFrame concatenation with empty or all-NA\n",
       "entries is deprecated. In a future version, this will no longer exclude empty or all-NA columns when determining \n",
       "the result dtypes. To retain the old behavior, exclude the relevant entries before the concat operation.\n",
       "  results = pd.concat([results, normalized_data])\n",
       "</pre>\n"
      ],
      "text/plain": [
       "/tmp/ipykernel_120664/3199749346.py:26: FutureWarning: The behavior of DataFrame concatenation with empty or all-NA\n",
       "entries is deprecated. In a future version, this will no longer exclude empty or all-NA columns when determining \n",
       "the result dtypes. To retain the old behavior, exclude the relevant entries before the concat operation.\n",
       "  results = pd.concat([results, normalized_data])\n"
      ]
     },
     "metadata": {},
     "output_type": "display_data"
    },
    {
     "data": {
      "text/html": [
       "<pre style=\"white-space:pre;overflow-x:auto;line-height:normal;font-family:Menlo,'DejaVu Sans Mono',consolas,'Courier New',monospace\">/tmp/ipykernel_120664/3199749346.py:26: FutureWarning: The behavior of DataFrame concatenation with empty or all-NA\n",
       "entries is deprecated. In a future version, this will no longer exclude empty or all-NA columns when determining \n",
       "the result dtypes. To retain the old behavior, exclude the relevant entries before the concat operation.\n",
       "  results = pd.concat([results, normalized_data])\n",
       "</pre>\n"
      ],
      "text/plain": [
       "/tmp/ipykernel_120664/3199749346.py:26: FutureWarning: The behavior of DataFrame concatenation with empty or all-NA\n",
       "entries is deprecated. In a future version, this will no longer exclude empty or all-NA columns when determining \n",
       "the result dtypes. To retain the old behavior, exclude the relevant entries before the concat operation.\n",
       "  results = pd.concat([results, normalized_data])\n"
      ]
     },
     "metadata": {},
     "output_type": "display_data"
    },
    {
     "data": {
      "text/html": [
       "<pre style=\"white-space:pre;overflow-x:auto;line-height:normal;font-family:Menlo,'DejaVu Sans Mono',consolas,'Courier New',monospace\">/tmp/ipykernel_120664/3199749346.py:26: FutureWarning: The behavior of DataFrame concatenation with empty or all-NA\n",
       "entries is deprecated. In a future version, this will no longer exclude empty or all-NA columns when determining \n",
       "the result dtypes. To retain the old behavior, exclude the relevant entries before the concat operation.\n",
       "  results = pd.concat([results, normalized_data])\n",
       "</pre>\n"
      ],
      "text/plain": [
       "/tmp/ipykernel_120664/3199749346.py:26: FutureWarning: The behavior of DataFrame concatenation with empty or all-NA\n",
       "entries is deprecated. In a future version, this will no longer exclude empty or all-NA columns when determining \n",
       "the result dtypes. To retain the old behavior, exclude the relevant entries before the concat operation.\n",
       "  results = pd.concat([results, normalized_data])\n"
      ]
     },
     "metadata": {},
     "output_type": "display_data"
    },
    {
     "data": {
      "text/html": [
       "<pre style=\"white-space:pre;overflow-x:auto;line-height:normal;font-family:Menlo,'DejaVu Sans Mono',consolas,'Courier New',monospace\">/tmp/ipykernel_120664/3199749346.py:26: FutureWarning: The behavior of DataFrame concatenation with empty or all-NA\n",
       "entries is deprecated. In a future version, this will no longer exclude empty or all-NA columns when determining \n",
       "the result dtypes. To retain the old behavior, exclude the relevant entries before the concat operation.\n",
       "  results = pd.concat([results, normalized_data])\n",
       "</pre>\n"
      ],
      "text/plain": [
       "/tmp/ipykernel_120664/3199749346.py:26: FutureWarning: The behavior of DataFrame concatenation with empty or all-NA\n",
       "entries is deprecated. In a future version, this will no longer exclude empty or all-NA columns when determining \n",
       "the result dtypes. To retain the old behavior, exclude the relevant entries before the concat operation.\n",
       "  results = pd.concat([results, normalized_data])\n"
      ]
     },
     "metadata": {},
     "output_type": "display_data"
    },
    {
     "data": {
      "text/html": [
       "<pre style=\"white-space:pre;overflow-x:auto;line-height:normal;font-family:Menlo,'DejaVu Sans Mono',consolas,'Courier New',monospace\">/tmp/ipykernel_120664/3199749346.py:26: FutureWarning: The behavior of DataFrame concatenation with empty or all-NA\n",
       "entries is deprecated. In a future version, this will no longer exclude empty or all-NA columns when determining \n",
       "the result dtypes. To retain the old behavior, exclude the relevant entries before the concat operation.\n",
       "  results = pd.concat([results, normalized_data])\n",
       "</pre>\n"
      ],
      "text/plain": [
       "/tmp/ipykernel_120664/3199749346.py:26: FutureWarning: The behavior of DataFrame concatenation with empty or all-NA\n",
       "entries is deprecated. In a future version, this will no longer exclude empty or all-NA columns when determining \n",
       "the result dtypes. To retain the old behavior, exclude the relevant entries before the concat operation.\n",
       "  results = pd.concat([results, normalized_data])\n"
      ]
     },
     "metadata": {},
     "output_type": "display_data"
    },
    {
     "data": {
      "text/html": [
       "<pre style=\"white-space:pre;overflow-x:auto;line-height:normal;font-family:Menlo,'DejaVu Sans Mono',consolas,'Courier New',monospace\">/tmp/ipykernel_120664/3199749346.py:26: FutureWarning: The behavior of DataFrame concatenation with empty or all-NA\n",
       "entries is deprecated. In a future version, this will no longer exclude empty or all-NA columns when determining \n",
       "the result dtypes. To retain the old behavior, exclude the relevant entries before the concat operation.\n",
       "  results = pd.concat([results, normalized_data])\n",
       "</pre>\n"
      ],
      "text/plain": [
       "/tmp/ipykernel_120664/3199749346.py:26: FutureWarning: The behavior of DataFrame concatenation with empty or all-NA\n",
       "entries is deprecated. In a future version, this will no longer exclude empty or all-NA columns when determining \n",
       "the result dtypes. To retain the old behavior, exclude the relevant entries before the concat operation.\n",
       "  results = pd.concat([results, normalized_data])\n"
      ]
     },
     "metadata": {},
     "output_type": "display_data"
    },
    {
     "data": {
      "text/html": [
       "<pre style=\"white-space:pre;overflow-x:auto;line-height:normal;font-family:Menlo,'DejaVu Sans Mono',consolas,'Courier New',monospace\">/tmp/ipykernel_120664/3199749346.py:26: FutureWarning: The behavior of DataFrame concatenation with empty or all-NA\n",
       "entries is deprecated. In a future version, this will no longer exclude empty or all-NA columns when determining \n",
       "the result dtypes. To retain the old behavior, exclude the relevant entries before the concat operation.\n",
       "  results = pd.concat([results, normalized_data])\n",
       "</pre>\n"
      ],
      "text/plain": [
       "/tmp/ipykernel_120664/3199749346.py:26: FutureWarning: The behavior of DataFrame concatenation with empty or all-NA\n",
       "entries is deprecated. In a future version, this will no longer exclude empty or all-NA columns when determining \n",
       "the result dtypes. To retain the old behavior, exclude the relevant entries before the concat operation.\n",
       "  results = pd.concat([results, normalized_data])\n"
      ]
     },
     "metadata": {},
     "output_type": "display_data"
    },
    {
     "data": {
      "text/html": [
       "<pre style=\"white-space:pre;overflow-x:auto;line-height:normal;font-family:Menlo,'DejaVu Sans Mono',consolas,'Courier New',monospace\">/tmp/ipykernel_120664/3199749346.py:26: FutureWarning: The behavior of DataFrame concatenation with empty or all-NA\n",
       "entries is deprecated. In a future version, this will no longer exclude empty or all-NA columns when determining \n",
       "the result dtypes. To retain the old behavior, exclude the relevant entries before the concat operation.\n",
       "  results = pd.concat([results, normalized_data])\n",
       "</pre>\n"
      ],
      "text/plain": [
       "/tmp/ipykernel_120664/3199749346.py:26: FutureWarning: The behavior of DataFrame concatenation with empty or all-NA\n",
       "entries is deprecated. In a future version, this will no longer exclude empty or all-NA columns when determining \n",
       "the result dtypes. To retain the old behavior, exclude the relevant entries before the concat operation.\n",
       "  results = pd.concat([results, normalized_data])\n"
      ]
     },
     "metadata": {},
     "output_type": "display_data"
    },
    {
     "data": {
      "text/html": [
       "<pre style=\"white-space:pre;overflow-x:auto;line-height:normal;font-family:Menlo,'DejaVu Sans Mono',consolas,'Courier New',monospace\">/tmp/ipykernel_120664/3199749346.py:26: FutureWarning: The behavior of DataFrame concatenation with empty or all-NA\n",
       "entries is deprecated. In a future version, this will no longer exclude empty or all-NA columns when determining \n",
       "the result dtypes. To retain the old behavior, exclude the relevant entries before the concat operation.\n",
       "  results = pd.concat([results, normalized_data])\n",
       "</pre>\n"
      ],
      "text/plain": [
       "/tmp/ipykernel_120664/3199749346.py:26: FutureWarning: The behavior of DataFrame concatenation with empty or all-NA\n",
       "entries is deprecated. In a future version, this will no longer exclude empty or all-NA columns when determining \n",
       "the result dtypes. To retain the old behavior, exclude the relevant entries before the concat operation.\n",
       "  results = pd.concat([results, normalized_data])\n"
      ]
     },
     "metadata": {},
     "output_type": "display_data"
    },
    {
     "data": {
      "text/html": [
       "<pre style=\"white-space:pre;overflow-x:auto;line-height:normal;font-family:Menlo,'DejaVu Sans Mono',consolas,'Courier New',monospace\">/tmp/ipykernel_120664/3199749346.py:26: FutureWarning: The behavior of DataFrame concatenation with empty or all-NA\n",
       "entries is deprecated. In a future version, this will no longer exclude empty or all-NA columns when determining \n",
       "the result dtypes. To retain the old behavior, exclude the relevant entries before the concat operation.\n",
       "  results = pd.concat([results, normalized_data])\n",
       "</pre>\n"
      ],
      "text/plain": [
       "/tmp/ipykernel_120664/3199749346.py:26: FutureWarning: The behavior of DataFrame concatenation with empty or all-NA\n",
       "entries is deprecated. In a future version, this will no longer exclude empty or all-NA columns when determining \n",
       "the result dtypes. To retain the old behavior, exclude the relevant entries before the concat operation.\n",
       "  results = pd.concat([results, normalized_data])\n"
      ]
     },
     "metadata": {},
     "output_type": "display_data"
    },
    {
     "data": {
      "text/html": [
       "<pre style=\"white-space:pre;overflow-x:auto;line-height:normal;font-family:Menlo,'DejaVu Sans Mono',consolas,'Courier New',monospace\">/tmp/ipykernel_120664/3199749346.py:26: FutureWarning: The behavior of DataFrame concatenation with empty or all-NA\n",
       "entries is deprecated. In a future version, this will no longer exclude empty or all-NA columns when determining \n",
       "the result dtypes. To retain the old behavior, exclude the relevant entries before the concat operation.\n",
       "  results = pd.concat([results, normalized_data])\n",
       "</pre>\n"
      ],
      "text/plain": [
       "/tmp/ipykernel_120664/3199749346.py:26: FutureWarning: The behavior of DataFrame concatenation with empty or all-NA\n",
       "entries is deprecated. In a future version, this will no longer exclude empty or all-NA columns when determining \n",
       "the result dtypes. To retain the old behavior, exclude the relevant entries before the concat operation.\n",
       "  results = pd.concat([results, normalized_data])\n"
      ]
     },
     "metadata": {},
     "output_type": "display_data"
    },
    {
     "data": {
      "text/html": [
       "<pre style=\"white-space:pre;overflow-x:auto;line-height:normal;font-family:Menlo,'DejaVu Sans Mono',consolas,'Courier New',monospace\"></pre>\n"
      ],
      "text/plain": []
     },
     "metadata": {},
     "output_type": "display_data"
    },
    {
     "data": {
      "text/html": [
       "<pre style=\"white-space:pre;overflow-x:auto;line-height:normal;font-family:Menlo,'DejaVu Sans Mono',consolas,'Courier New',monospace\">\n",
       "</pre>\n"
      ],
      "text/plain": [
       "\n"
      ]
     },
     "metadata": {},
     "output_type": "display_data"
    },
    {
     "data": {
      "application/vnd.jupyter.widget-view+json": {
       "model_id": "6c0ac5569ded4510809b4a9e509b6a36",
       "version_major": 2,
       "version_minor": 0
      },
      "text/plain": [
       "Output()"
      ]
     },
     "metadata": {},
     "output_type": "display_data"
    },
    {
     "data": {
      "text/html": [
       "<pre style=\"white-space:pre;overflow-x:auto;line-height:normal;font-family:Menlo,'DejaVu Sans Mono',consolas,'Courier New',monospace\"></pre>\n"
      ],
      "text/plain": []
     },
     "metadata": {},
     "output_type": "display_data"
    },
    {
     "data": {
      "text/html": [
       "<pre style=\"white-space:pre;overflow-x:auto;line-height:normal;font-family:Menlo,'DejaVu Sans Mono',consolas,'Courier New',monospace\">\n",
       "</pre>\n"
      ],
      "text/plain": [
       "\n"
      ]
     },
     "metadata": {},
     "output_type": "display_data"
    },
    {
     "data": {
      "application/vnd.jupyter.widget-view+json": {
       "model_id": "96e62a63ad12460d843970de392bd8cb",
       "version_major": 2,
       "version_minor": 0
      },
      "text/plain": [
       "Output()"
      ]
     },
     "metadata": {},
     "output_type": "display_data"
    },
    {
     "data": {
      "text/html": [
       "<pre style=\"white-space:pre;overflow-x:auto;line-height:normal;font-family:Menlo,'DejaVu Sans Mono',consolas,'Courier New',monospace\"></pre>\n"
      ],
      "text/plain": []
     },
     "metadata": {},
     "output_type": "display_data"
    },
    {
     "data": {
      "text/html": [
       "<pre style=\"white-space:pre;overflow-x:auto;line-height:normal;font-family:Menlo,'DejaVu Sans Mono',consolas,'Courier New',monospace\">\n",
       "</pre>\n"
      ],
      "text/plain": [
       "\n"
      ]
     },
     "metadata": {},
     "output_type": "display_data"
    },
    {
     "data": {
      "application/vnd.jupyter.widget-view+json": {
       "model_id": "a67ee62b4c4f4e738abb19d565a6bd00",
       "version_major": 2,
       "version_minor": 0
      },
      "text/plain": [
       "Output()"
      ]
     },
     "metadata": {},
     "output_type": "display_data"
    },
    {
     "data": {
      "text/html": [
       "<pre style=\"white-space:pre;overflow-x:auto;line-height:normal;font-family:Menlo,'DejaVu Sans Mono',consolas,'Courier New',monospace\"></pre>\n"
      ],
      "text/plain": []
     },
     "metadata": {},
     "output_type": "display_data"
    },
    {
     "data": {
      "text/html": [
       "<pre style=\"white-space:pre;overflow-x:auto;line-height:normal;font-family:Menlo,'DejaVu Sans Mono',consolas,'Courier New',monospace\">\n",
       "</pre>\n"
      ],
      "text/plain": [
       "\n"
      ]
     },
     "metadata": {},
     "output_type": "display_data"
    },
    {
     "data": {
      "application/vnd.jupyter.widget-view+json": {
       "model_id": "4cd4ef0b66f24c3e9ca2be55ab2e32eb",
       "version_major": 2,
       "version_minor": 0
      },
      "text/plain": [
       "Output()"
      ]
     },
     "metadata": {},
     "output_type": "display_data"
    },
    {
     "data": {
      "text/html": [
       "<pre style=\"white-space:pre;overflow-x:auto;line-height:normal;font-family:Menlo,'DejaVu Sans Mono',consolas,'Courier New',monospace\"></pre>\n"
      ],
      "text/plain": []
     },
     "metadata": {},
     "output_type": "display_data"
    },
    {
     "data": {
      "text/html": [
       "<pre style=\"white-space:pre;overflow-x:auto;line-height:normal;font-family:Menlo,'DejaVu Sans Mono',consolas,'Courier New',monospace\">\n",
       "</pre>\n"
      ],
      "text/plain": [
       "\n"
      ]
     },
     "metadata": {},
     "output_type": "display_data"
    },
    {
     "data": {
      "application/vnd.jupyter.widget-view+json": {
       "model_id": "13dc4ca82a184e2a94ede31054af8c99",
       "version_major": 2,
       "version_minor": 0
      },
      "text/plain": [
       "Output()"
      ]
     },
     "metadata": {},
     "output_type": "display_data"
    },
    {
     "data": {
      "text/html": [
       "<pre style=\"white-space:pre;overflow-x:auto;line-height:normal;font-family:Menlo,'DejaVu Sans Mono',consolas,'Courier New',monospace\"></pre>\n"
      ],
      "text/plain": []
     },
     "metadata": {},
     "output_type": "display_data"
    },
    {
     "data": {
      "text/html": [
       "<pre style=\"white-space:pre;overflow-x:auto;line-height:normal;font-family:Menlo,'DejaVu Sans Mono',consolas,'Courier New',monospace\">\n",
       "</pre>\n"
      ],
      "text/plain": [
       "\n"
      ]
     },
     "metadata": {},
     "output_type": "display_data"
    },
    {
     "data": {
      "application/vnd.jupyter.widget-view+json": {
       "model_id": "13d158d59350421da2f3511e6ec7076d",
       "version_major": 2,
       "version_minor": 0
      },
      "text/plain": [
       "Output()"
      ]
     },
     "metadata": {},
     "output_type": "display_data"
    },
    {
     "data": {
      "text/html": [
       "<pre style=\"white-space:pre;overflow-x:auto;line-height:normal;font-family:Menlo,'DejaVu Sans Mono',consolas,'Courier New',monospace\"></pre>\n"
      ],
      "text/plain": []
     },
     "metadata": {},
     "output_type": "display_data"
    },
    {
     "data": {
      "text/html": [
       "<pre style=\"white-space:pre;overflow-x:auto;line-height:normal;font-family:Menlo,'DejaVu Sans Mono',consolas,'Courier New',monospace\">\n",
       "</pre>\n"
      ],
      "text/plain": [
       "\n"
      ]
     },
     "metadata": {},
     "output_type": "display_data"
    },
    {
     "data": {
      "application/vnd.jupyter.widget-view+json": {
       "model_id": "536e201cd8104b898c2ec62be801372e",
       "version_major": 2,
       "version_minor": 0
      },
      "text/plain": [
       "Output()"
      ]
     },
     "metadata": {},
     "output_type": "display_data"
    },
    {
     "data": {
      "text/html": [
       "<pre style=\"white-space:pre;overflow-x:auto;line-height:normal;font-family:Menlo,'DejaVu Sans Mono',consolas,'Courier New',monospace\"></pre>\n"
      ],
      "text/plain": []
     },
     "metadata": {},
     "output_type": "display_data"
    },
    {
     "data": {
      "text/html": [
       "<pre style=\"white-space:pre;overflow-x:auto;line-height:normal;font-family:Menlo,'DejaVu Sans Mono',consolas,'Courier New',monospace\">\n",
       "</pre>\n"
      ],
      "text/plain": [
       "\n"
      ]
     },
     "metadata": {},
     "output_type": "display_data"
    }
   ],
   "source": [
    "data_for_all_seeds = []\n",
    "for i in range(1,11):\n",
    "\n",
    "    current_seed = {\n",
    "        'seed': i\n",
    "    }\n",
    "\n",
    "    data = parse_files(Path(CROSS_VALIDATIONS_PATH), seed=i)\n",
    "    current_seed['k_fold'] = data\n",
    "    \n",
    "    current_seed['best_models'] = pick_best_hyperparameters_from_k_folds(data)\n",
    "    current_seed['classifiers'] = load_classifiers_from_best_models(current_seed['best_models'])\n",
    "\n",
    "    TEST_DATASET_PATH = Path(f'./analysis/paper-data/{EXPERIMENT_NAME}-{i}.pkl_test.pkl')\n",
    "    with open(TEST_DATASET_PATH, 'rb') as f:\n",
    "        TEST_DATASET = pickle.load(f)\n",
    "        TEST_DATASET = TEST_DATASET\n",
    "        \n",
    "    TRAIN_DATASET_PATH = Path(f'./analysis/paper-data/{EXPERIMENT_NAME}-{i}.pkl_train.pkl')\n",
    "    with open(TRAIN_DATASET_PATH, 'rb') as f:\n",
    "        TRAIN_DATASET = pickle.load(f)\n",
    "        TRAIN_DATASET = TRAIN_DATASET\n",
    "\n",
    "    current_seed['train_data'] = TRAIN_DATASET\n",
    "    current_seed['test_data'] = TEST_DATASET\n",
    "    \n",
    "    data_for_all_seeds += [current_seed]"
   ]
  },
  {
   "cell_type": "code",
   "execution_count": 12,
   "metadata": {},
   "outputs": [
    {
     "name": "stdout",
     "output_type": "stream",
     "text": [
      "Index(['conflicts', 'ewma_conflicts', 'decisions', 'search_iterations',\n",
      "       'opennodes', 'ewma_opennodes', 'vars', 'back_jumps', 'ewma_back_jumps',\n",
      "       'solutions', 'total_time', 'search_time', 'intVars', 'propagations',\n",
      "       'sat_propagations', 'ewma_propagations', 'propagators', 'boolVars',\n",
      "       'learnt', 'bin', 'tern', 'long', 'peak_depth', 'decision_level_engine',\n",
      "       'ewma_decision_level_engine', 'decision_level_treesize', 'clause_mem',\n",
      "       'prop_mem', 'log_of_unassn_var', 'frac_prop_vars', 'freq_backjumps',\n",
      "       'frac_bool_vars', 'frac_long_clauses', 'log_of_frac_unassign_var',\n",
      "       'log_of_fraction_of_failures_versus_unassigned', 'mzn', 'dzn',\n",
      "       'solved_within_time_limit', 'has_gradients'],\n",
      "      dtype='object')\n"
     ]
    }
   ],
   "source": [
    "print(data_for_all_seeds[0]['train_data'][1].columns)"
   ]
  },
  {
   "cell_type": "markdown",
   "metadata": {},
   "source": [
    "# Utility"
   ]
  },
  {
   "cell_type": "code",
   "execution_count": 15,
   "metadata": {},
   "outputs": [],
   "source": [
    "# from sklearn.preprocessing import MaxAbsScaler\n",
    "\n",
    "def preprocess(dataframe, scaler=None):\n",
    "    result, _ = dataframe.drop(columns=['mzn', 'dzn'], axis=1), dataframe['mzn']\n",
    "\n",
    "    # Drop any columns that contain the text 'ewma' or 'gradient'\n",
    "    result = result.drop(columns=result.columns[result.columns.str.contains('ewma|gradient')], axis=1)\n",
    "    result = result.drop(result.columns[result.nunique() == 1], axis=1)\n",
    "\n",
    "    \n",
    "    # scaler = MaxAbsScaler().fit(result)    \n",
    "    # result = pd.DataFrame(scaler.transform(result), columns=result.columns, index=result.index)\n",
    "\n",
    "    return result\n",
    "\n",
    "\n"
   ]
  },
  {
   "cell_type": "code",
   "execution_count": 16,
   "metadata": {},
   "outputs": [],
   "source": [
    "def combine_seed_data_into_single_dataframe_opinionated(total_data):\n",
    "    dfs = []\n",
    "    for seed in total_data:\n",
    "        best_models_copy = seed['best_models'].copy()\n",
    "        best_models_copy['seed'] = seed['seed']\n",
    "        dfs.append(best_models_copy)\n",
    "    return pd.concat(dfs)"
   ]
  },
  {
   "cell_type": "markdown",
   "metadata": {},
   "source": [
    "# Now here we can split off: are the models gaining anything from the dynamic features?"
   ]
  },
  {
   "cell_type": "code",
   "execution_count": 18,
   "metadata": {},
   "outputs": [],
   "source": [
    "import matplotlib.pyplot as plt\n",
    "from sklearn.metrics import f1_score\n",
    "import numpy as np"
   ]
  },
  {
   "cell_type": "code",
   "execution_count": 19,
   "metadata": {},
   "outputs": [],
   "source": [
    "from collections import defaultdict\n",
    "from sklearn.base import clone\n",
    "def fit_and_test_model(test_data, train_data, instantiated_model):\n",
    "    test_x, test_y = test_data.drop(['solved_within_time_limit'], axis=1), test_data['solved_within_time_limit']\n",
    "    train_x, train_y = train_data.drop(['solved_within_time_limit'], axis=1), train_data['solved_within_time_limit']\n",
    "\n",
    "    test_x = preprocess(test_x)\n",
    "    train_x = preprocess(train_x)\n",
    "    instantiated_model = clone(instantiated_model)\n",
    "    instantiated_model.fit(train_x, train_y)\n",
    "    \n",
    "      # Predict on the test set using all features\n",
    "    y_pred = instantiated_model.predict(test_x)\n",
    "    \n",
    "    # Compute the F1 score\n",
    "    score = f1_score(test_y, y_pred, average='binary')\n",
    "    return score\n",
    "\n",
    "\n",
    "\n",
    "def run_best_models_on_increasing_amounts_of_data(all_data):\n",
    "    results = defaultdict(list)\n",
    "    for seed in all_data:\n",
    "        test_data = seed['test_data']\n",
    "        train_data = seed['train_data']\n",
    "        for k, instantiated_model in seed['classifiers'].items():\n",
    "            percentage, model = k\n",
    "            train_data_for_percentage = train_data[percentage]\n",
    "            \n",
    "            for length in range(100, len(train_data_for_percentage), 50):\n",
    "                f1_score = fit_and_test_model(test_data=test_data[percentage], train_data=train_data[percentage][:length], instantiated_model=instantiated_model)\n",
    "                results[(percentage, model, length)].append(f1_score)\n",
    "            # f1_score = fit_and_test_model(test_data=test_data[percentage], train_data=train_data[percentage], instantiated_model=instantiated_model)\n",
    "            # results[(percentage, model, len(train_data_for_percentage))].append(f1_score)\n",
    "    return pd.DataFrame.from_records([{'percentage': k[0], 'model': k[1], 'length': k[2], 'mean': np.mean(v), 'std': np.std(v)} for k, v in dict(results).items()])\n",
    "            "
   ]
  },
  {
   "cell_type": "code",
   "execution_count": 14,
   "metadata": {},
   "outputs": [
    {
     "ename": "NameError",
     "evalue": "name 'preprocess' is not defined",
     "output_type": "error",
     "traceback": [
      "\u001b[0;31m---------------------------------------------------------------------------\u001b[0m",
      "\u001b[0;31mNameError\u001b[0m                                 Traceback (most recent call last)",
      "Cell \u001b[0;32mIn[14], line 1\u001b[0m\n\u001b[0;32m----> 1\u001b[0m f1s \u001b[38;5;241m=\u001b[39m \u001b[43mrun_best_models_on_increasing_amounts_of_data\u001b[49m\u001b[43m(\u001b[49m\u001b[43mdata_for_all_seeds\u001b[49m\u001b[43m)\u001b[49m\n",
      "Cell \u001b[0;32mIn[13], line 31\u001b[0m, in \u001b[0;36mrun_best_models_on_increasing_amounts_of_data\u001b[0;34m(all_data)\u001b[0m\n\u001b[1;32m     28\u001b[0m train_data_for_percentage \u001b[38;5;241m=\u001b[39m train_data[percentage]\n\u001b[1;32m     30\u001b[0m \u001b[38;5;28;01mfor\u001b[39;00m length \u001b[38;5;129;01min\u001b[39;00m \u001b[38;5;28mrange\u001b[39m(\u001b[38;5;241m100\u001b[39m, \u001b[38;5;28mlen\u001b[39m(train_data_for_percentage), \u001b[38;5;241m50\u001b[39m):\n\u001b[0;32m---> 31\u001b[0m     f1_score \u001b[38;5;241m=\u001b[39m \u001b[43mfit_and_test_model\u001b[49m\u001b[43m(\u001b[49m\u001b[43mtest_data\u001b[49m\u001b[38;5;241;43m=\u001b[39;49m\u001b[43mtest_data\u001b[49m\u001b[43m[\u001b[49m\u001b[43mpercentage\u001b[49m\u001b[43m]\u001b[49m\u001b[43m,\u001b[49m\u001b[43m \u001b[49m\u001b[43mtrain_data\u001b[49m\u001b[38;5;241;43m=\u001b[39;49m\u001b[43mtrain_data\u001b[49m\u001b[43m[\u001b[49m\u001b[43mpercentage\u001b[49m\u001b[43m]\u001b[49m\u001b[43m[\u001b[49m\u001b[43m:\u001b[49m\u001b[43mlength\u001b[49m\u001b[43m]\u001b[49m\u001b[43m,\u001b[49m\u001b[43m \u001b[49m\u001b[43minstantiated_model\u001b[49m\u001b[38;5;241;43m=\u001b[39;49m\u001b[43minstantiated_model\u001b[49m\u001b[43m)\u001b[49m\n\u001b[1;32m     32\u001b[0m     results[(percentage, model, length)]\u001b[38;5;241m.\u001b[39mappend(f1_score)\n\u001b[1;32m     33\u001b[0m \u001b[38;5;66;03m# f1_score = fit_and_test_model(test_data=test_data[percentage], train_data=train_data[percentage], instantiated_model=instantiated_model)\u001b[39;00m\n\u001b[1;32m     34\u001b[0m \u001b[38;5;66;03m# results[(percentage, model, len(train_data_for_percentage))].append(f1_score)\u001b[39;00m\n",
      "Cell \u001b[0;32mIn[13], line 7\u001b[0m, in \u001b[0;36mfit_and_test_model\u001b[0;34m(test_data, train_data, instantiated_model)\u001b[0m\n\u001b[1;32m      4\u001b[0m test_x, test_y \u001b[38;5;241m=\u001b[39m test_data\u001b[38;5;241m.\u001b[39mdrop([\u001b[38;5;124m'\u001b[39m\u001b[38;5;124msolved_within_time_limit\u001b[39m\u001b[38;5;124m'\u001b[39m], axis\u001b[38;5;241m=\u001b[39m\u001b[38;5;241m1\u001b[39m), test_data[\u001b[38;5;124m'\u001b[39m\u001b[38;5;124msolved_within_time_limit\u001b[39m\u001b[38;5;124m'\u001b[39m]\n\u001b[1;32m      5\u001b[0m train_x, train_y \u001b[38;5;241m=\u001b[39m train_data\u001b[38;5;241m.\u001b[39mdrop([\u001b[38;5;124m'\u001b[39m\u001b[38;5;124msolved_within_time_limit\u001b[39m\u001b[38;5;124m'\u001b[39m], axis\u001b[38;5;241m=\u001b[39m\u001b[38;5;241m1\u001b[39m), train_data[\u001b[38;5;124m'\u001b[39m\u001b[38;5;124msolved_within_time_limit\u001b[39m\u001b[38;5;124m'\u001b[39m]\n\u001b[0;32m----> 7\u001b[0m test_x \u001b[38;5;241m=\u001b[39m \u001b[43mpreprocess\u001b[49m(test_x[[\u001b[38;5;124m'\u001b[39m\u001b[38;5;124mfrac_long_clauses\u001b[39m\u001b[38;5;124m'\u001b[39m, \u001b[38;5;124m'\u001b[39m\u001b[38;5;124mfrac_long_clauses\u001b[39m\u001b[38;5;124m'\u001b[39m, \u001b[38;5;124m'\u001b[39m\u001b[38;5;124mfrac_prop_vars\u001b[39m\u001b[38;5;124m'\u001b[39m, \u001b[38;5;124m'\u001b[39m\u001b[38;5;124mboolVars\u001b[39m\u001b[38;5;124m'\u001b[39m, \u001b[38;5;124m'\u001b[39m\u001b[38;5;124mlong\u001b[39m\u001b[38;5;124m'\u001b[39m, \u001b[38;5;124m'\u001b[39m\u001b[38;5;124mtern\u001b[39m\u001b[38;5;124m'\u001b[39m, \u001b[38;5;124m'\u001b[39m\u001b[38;5;124mbin\u001b[39m\u001b[38;5;124m'\u001b[39m]])\n\u001b[1;32m      8\u001b[0m train_x \u001b[38;5;241m=\u001b[39m preprocess(train_x)\n\u001b[1;32m      9\u001b[0m instantiated_model \u001b[38;5;241m=\u001b[39m clone(instantiated_model)\n",
      "\u001b[0;31mNameError\u001b[0m: name 'preprocess' is not defined"
     ]
    }
   ],
   "source": [
    "f1s = run_best_models_on_increasing_amounts_of_data(data_for_all_seeds)\n"
   ]
  },
  {
   "cell_type": "code",
   "execution_count": null,
   "metadata": {},
   "outputs": [],
   "source": [
    "f1s"
   ]
  },
  {
   "cell_type": "code",
   "execution_count": null,
   "metadata": {},
   "outputs": [],
   "source": [
    "def plot_results(results):\n",
    "\n",
    "    CURRENT_PLOT_MODEL = 'AdaBoost'\n",
    "\n",
    "    plt.figure(figsize=(12, 8))\n",
    "\n",
    "    ticks = range(100, max(results['length']), 50)\n",
    "    \n",
    "    for percentage in results['percentage'].unique():\n",
    "        results_for_model = results[(results['model'] == CURRENT_PLOT_MODEL) & (results['percentage'] == percentage)]\n",
    "\n",
    "        f1_scores_mean = results_for_model['mean']\n",
    "        f1_scores_std = results_for_model['std']\n",
    "        lengths = results_for_model['length']\n",
    "        plt.errorbar(lengths, f1_scores_mean, yerr=f1_scores_std, fmt='o-', capsize=5, label=f'{percentage/2}')\n",
    "        plt.fill_between(lengths, \n",
    "                        np.array(f1_scores_mean) - np.array(f1_scores_std), \n",
    "                        np.array(f1_scores_mean) + np.array(f1_scores_std), \n",
    "                        alpha=0.1)\n",
    "\n",
    "    plt.title(f'F1 Score of the best {CURRENT_PLOT_MODEL} model for each percentage problems when increasing the dataset, averaged over 10 testsets of <unseen> problems')\n",
    "    plt.xlabel('Amount of datapoints')\n",
    "    plt.ylabel('Average F1 Score of the best RF model')\n",
    "    plt.grid(True)\n",
    "    plt.ylim(0, 1)\n",
    "    plt.xticks(ticks)\n",
    "    plt.legend()\n",
    "    plt.show()\n",
    "plot_results(f1s)"
   ]
  },
  {
   "cell_type": "markdown",
   "metadata": {},
   "source": [
    "## Follow up question: are the failing problems the same?"
   ]
  },
  {
   "cell_type": "code",
   "execution_count": 22,
   "metadata": {},
   "outputs": [],
   "source": [
    "from collections import defaultdict\n",
    "from sklearn.base import clone\n",
    "\n",
    "def return_correctly_predicted_instances_for_fitted_model(seed, test_data, train_data, instantiated_model):\n",
    "    test_x, test_y = test_data.drop(['solved_within_time_limit'], axis=1), test_data['solved_within_time_limit']\n",
    "    train_x, train_y = train_data.drop(['solved_within_time_limit'], axis=1), train_data['solved_within_time_limit']\n",
    "\n",
    "    test_x_preprocessed = preprocess(test_x)\n",
    "    train_x_preprocessed = preprocess(train_x)\n",
    "    instantiated_model = clone(instantiated_model)\n",
    "    instantiated_model.fit(train_x_preprocessed, train_y)\n",
    "    \n",
    "      # Predict on the test set using all features\n",
    "    y_pred = instantiated_model.predict(test_x_preprocessed)\n",
    "\n",
    "    test_x_clone = test_x.copy()\n",
    "    test_x_clone['correct'] = (test_y == y_pred)\n",
    "\n",
    "    return set(test_x_clone[~test_x_clone['correct']][['mzn', 'dzn']].apply(lambda a: f\"{seed} - {a[0]} - {a[1]}\", axis=1).to_numpy().tolist())\n",
    "    \n",
    "\n",
    "\n",
    "\n",
    "def find_incorrectly_predicted_answers(all_data):\n",
    "    results = defaultdict(set)\n",
    "    for seed_idx, seed in enumerate(all_data):\n",
    "        test_data = seed['test_data']\n",
    "        train_data = seed['train_data']\n",
    "        for k, instantiated_model in seed['classifiers'].items():\n",
    "            percentage, model = k\n",
    "            train_data_for_percentage = train_data[percentage]\n",
    "            \n",
    "            for length in range(100, len(train_data_for_percentage), 50):\n",
    "                wrongly_predicted_problems = return_correctly_predicted_instances_for_fitted_model(seed=seed_idx, test_data=test_data[percentage], train_data=train_data[percentage][:length], instantiated_model=instantiated_model)\n",
    "                results[(percentage, model, length)] = results[(percentage, model, length)].union(wrongly_predicted_problems)\n",
    "    return results\n",
    "            "
   ]
  },
  {
   "cell_type": "code",
   "execution_count": null,
   "metadata": {},
   "outputs": [],
   "source": [
    "wrongly_corrected_answers = find_incorrectly_predicted_answers(data_for_all_seeds)"
   ]
  },
  {
   "cell_type": "code",
   "execution_count": null,
   "metadata": {},
   "outputs": [],
   "source": []
  },
  {
   "cell_type": "code",
   "execution_count": null,
   "metadata": {},
   "outputs": [],
   "source": [
    "first = wrongly_corrected_answers[(2, 'ET', 100)]\n",
    "first"
   ]
  },
  {
   "cell_type": "code",
   "execution_count": null,
   "metadata": {},
   "outputs": [],
   "source": [
    "second = wrongly_corrected_answers[(40, 'ET', 100)]\n",
    "second"
   ]
  },
  {
   "cell_type": "code",
   "execution_count": null,
   "metadata": {},
   "outputs": [],
   "source": [
    "len(first), len(second)"
   ]
  },
  {
   "cell_type": "code",
   "execution_count": null,
   "metadata": {},
   "outputs": [],
   "source": [
    "len(first.intersection(second))"
   ]
  },
  {
   "cell_type": "code",
   "execution_count": null,
   "metadata": {},
   "outputs": [],
   "source": []
  }
 ],
 "metadata": {
  "kernelspec": {
   "display_name": "venv",
   "language": "python",
   "name": "python3"
  },
  "language_info": {
   "codemirror_mode": {
    "name": "ipython",
    "version": 3
   },
   "file_extension": ".py",
   "mimetype": "text/x-python",
   "name": "python",
   "nbconvert_exporter": "python",
   "pygments_lexer": "ipython3",
   "version": "3.12.6"
  }
 },
 "nbformat": 4,
 "nbformat_minor": 2
}
