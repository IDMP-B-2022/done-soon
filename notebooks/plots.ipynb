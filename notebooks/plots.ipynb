{
 "cells": [
  {
   "cell_type": "code",
   "execution_count": 1,
   "metadata": {},
   "outputs": [],
   "source": [
    "import json\n",
    "from pathlib import Path\n",
    "import matplotlib as mpl\n",
    "import tikzplotlib\n",
    "\n",
    "import matplotlib.pyplot as plt\n",
    "import numpy as np\n",
    "import pandas as pd\n",
    "from rich.progress import track\n",
    "from sklearn.ensemble import ExtraTreesClassifier, RandomForestClassifier\n",
    "from sklearn.dummy import DummyClassifier\n",
    "from sklearn.metrics import RocCurveDisplay, f1_score\n",
    "from sklearn.preprocessing import MaxAbsScaler"
   ]
  },
  {
   "cell_type": "code",
   "execution_count": 2,
   "metadata": {},
   "outputs": [
    {
     "data": {
      "application/vnd.jupyter.widget-view+json": {
       "model_id": "ebd96150c8914b098d83d6a232be7173",
       "version_major": 2,
       "version_minor": 0
      },
      "text/plain": [
       "Output()"
      ]
     },
     "metadata": {},
     "output_type": "display_data"
    },
    {
     "data": {
      "text/html": [
       "<pre style=\"white-space:pre;overflow-x:auto;line-height:normal;font-family:Menlo,'DejaVu Sans Mono',consolas,'Courier New',monospace\">/var/folders/7t/k8q3439j6z3c683j7w00wtm80000gn/T/ipykernel_50509/330735155.py:26: FutureWarning: The behavior of \n",
       "DataFrame concatenation with empty or all-NA entries is deprecated. In a future version, this will no longer \n",
       "exclude empty or all-NA columns when determining the result dtypes. To retain the old behavior, exclude the \n",
       "relevant entries before the concat operation.\n",
       "  results = pd.concat([results, normalized_data]) #.dropna(axis=1, how=\"all\")])\n",
       "</pre>\n"
      ],
      "text/plain": [
       "/var/folders/7t/k8q3439j6z3c683j7w00wtm80000gn/T/ipykernel_50509/330735155.py:26: FutureWarning: The behavior of \n",
       "DataFrame concatenation with empty or all-NA entries is deprecated. In a future version, this will no longer \n",
       "exclude empty or all-NA columns when determining the result dtypes. To retain the old behavior, exclude the \n",
       "relevant entries before the concat operation.\n",
       "  results = pd.concat([results, normalized_data]) #.dropna(axis=1, how=\"all\")])\n"
      ]
     },
     "metadata": {},
     "output_type": "display_data"
    },
    {
     "data": {
      "text/html": [
       "<pre style=\"white-space:pre;overflow-x:auto;line-height:normal;font-family:Menlo,'DejaVu Sans Mono',consolas,'Courier New',monospace\">/var/folders/7t/k8q3439j6z3c683j7w00wtm80000gn/T/ipykernel_50509/330735155.py:26: FutureWarning: The behavior of \n",
       "DataFrame concatenation with empty or all-NA entries is deprecated. In a future version, this will no longer \n",
       "exclude empty or all-NA columns when determining the result dtypes. To retain the old behavior, exclude the \n",
       "relevant entries before the concat operation.\n",
       "  results = pd.concat([results, normalized_data]) #.dropna(axis=1, how=\"all\")])\n",
       "</pre>\n"
      ],
      "text/plain": [
       "/var/folders/7t/k8q3439j6z3c683j7w00wtm80000gn/T/ipykernel_50509/330735155.py:26: FutureWarning: The behavior of \n",
       "DataFrame concatenation with empty or all-NA entries is deprecated. In a future version, this will no longer \n",
       "exclude empty or all-NA columns when determining the result dtypes. To retain the old behavior, exclude the \n",
       "relevant entries before the concat operation.\n",
       "  results = pd.concat([results, normalized_data]) #.dropna(axis=1, how=\"all\")])\n"
      ]
     },
     "metadata": {},
     "output_type": "display_data"
    },
    {
     "data": {
      "text/html": [
       "<pre style=\"white-space:pre;overflow-x:auto;line-height:normal;font-family:Menlo,'DejaVu Sans Mono',consolas,'Courier New',monospace\">/var/folders/7t/k8q3439j6z3c683j7w00wtm80000gn/T/ipykernel_50509/330735155.py:26: FutureWarning: The behavior of \n",
       "DataFrame concatenation with empty or all-NA entries is deprecated. In a future version, this will no longer \n",
       "exclude empty or all-NA columns when determining the result dtypes. To retain the old behavior, exclude the \n",
       "relevant entries before the concat operation.\n",
       "  results = pd.concat([results, normalized_data]) #.dropna(axis=1, how=\"all\")])\n",
       "</pre>\n"
      ],
      "text/plain": [
       "/var/folders/7t/k8q3439j6z3c683j7w00wtm80000gn/T/ipykernel_50509/330735155.py:26: FutureWarning: The behavior of \n",
       "DataFrame concatenation with empty or all-NA entries is deprecated. In a future version, this will no longer \n",
       "exclude empty or all-NA columns when determining the result dtypes. To retain the old behavior, exclude the \n",
       "relevant entries before the concat operation.\n",
       "  results = pd.concat([results, normalized_data]) #.dropna(axis=1, how=\"all\")])\n"
      ]
     },
     "metadata": {},
     "output_type": "display_data"
    },
    {
     "data": {
      "text/html": [
       "<pre style=\"white-space:pre;overflow-x:auto;line-height:normal;font-family:Menlo,'DejaVu Sans Mono',consolas,'Courier New',monospace\">/var/folders/7t/k8q3439j6z3c683j7w00wtm80000gn/T/ipykernel_50509/330735155.py:26: FutureWarning: The behavior of \n",
       "DataFrame concatenation with empty or all-NA entries is deprecated. In a future version, this will no longer \n",
       "exclude empty or all-NA columns when determining the result dtypes. To retain the old behavior, exclude the \n",
       "relevant entries before the concat operation.\n",
       "  results = pd.concat([results, normalized_data]) #.dropna(axis=1, how=\"all\")])\n",
       "</pre>\n"
      ],
      "text/plain": [
       "/var/folders/7t/k8q3439j6z3c683j7w00wtm80000gn/T/ipykernel_50509/330735155.py:26: FutureWarning: The behavior of \n",
       "DataFrame concatenation with empty or all-NA entries is deprecated. In a future version, this will no longer \n",
       "exclude empty or all-NA columns when determining the result dtypes. To retain the old behavior, exclude the \n",
       "relevant entries before the concat operation.\n",
       "  results = pd.concat([results, normalized_data]) #.dropna(axis=1, how=\"all\")])\n"
      ]
     },
     "metadata": {},
     "output_type": "display_data"
    },
    {
     "data": {
      "text/html": [
       "<pre style=\"white-space:pre;overflow-x:auto;line-height:normal;font-family:Menlo,'DejaVu Sans Mono',consolas,'Courier New',monospace\">/var/folders/7t/k8q3439j6z3c683j7w00wtm80000gn/T/ipykernel_50509/330735155.py:26: FutureWarning: The behavior of \n",
       "DataFrame concatenation with empty or all-NA entries is deprecated. In a future version, this will no longer \n",
       "exclude empty or all-NA columns when determining the result dtypes. To retain the old behavior, exclude the \n",
       "relevant entries before the concat operation.\n",
       "  results = pd.concat([results, normalized_data]) #.dropna(axis=1, how=\"all\")])\n",
       "</pre>\n"
      ],
      "text/plain": [
       "/var/folders/7t/k8q3439j6z3c683j7w00wtm80000gn/T/ipykernel_50509/330735155.py:26: FutureWarning: The behavior of \n",
       "DataFrame concatenation with empty or all-NA entries is deprecated. In a future version, this will no longer \n",
       "exclude empty or all-NA columns when determining the result dtypes. To retain the old behavior, exclude the \n",
       "relevant entries before the concat operation.\n",
       "  results = pd.concat([results, normalized_data]) #.dropna(axis=1, how=\"all\")])\n"
      ]
     },
     "metadata": {},
     "output_type": "display_data"
    },
    {
     "data": {
      "text/html": [
       "<pre style=\"white-space:pre;overflow-x:auto;line-height:normal;font-family:Menlo,'DejaVu Sans Mono',consolas,'Courier New',monospace\">/var/folders/7t/k8q3439j6z3c683j7w00wtm80000gn/T/ipykernel_50509/330735155.py:26: FutureWarning: The behavior of \n",
       "DataFrame concatenation with empty or all-NA entries is deprecated. In a future version, this will no longer \n",
       "exclude empty or all-NA columns when determining the result dtypes. To retain the old behavior, exclude the \n",
       "relevant entries before the concat operation.\n",
       "  results = pd.concat([results, normalized_data]) #.dropna(axis=1, how=\"all\")])\n",
       "</pre>\n"
      ],
      "text/plain": [
       "/var/folders/7t/k8q3439j6z3c683j7w00wtm80000gn/T/ipykernel_50509/330735155.py:26: FutureWarning: The behavior of \n",
       "DataFrame concatenation with empty or all-NA entries is deprecated. In a future version, this will no longer \n",
       "exclude empty or all-NA columns when determining the result dtypes. To retain the old behavior, exclude the \n",
       "relevant entries before the concat operation.\n",
       "  results = pd.concat([results, normalized_data]) #.dropna(axis=1, how=\"all\")])\n"
      ]
     },
     "metadata": {},
     "output_type": "display_data"
    },
    {
     "data": {
      "text/html": [
       "<pre style=\"white-space:pre;overflow-x:auto;line-height:normal;font-family:Menlo,'DejaVu Sans Mono',consolas,'Courier New',monospace\">/var/folders/7t/k8q3439j6z3c683j7w00wtm80000gn/T/ipykernel_50509/330735155.py:26: FutureWarning: The behavior of \n",
       "DataFrame concatenation with empty or all-NA entries is deprecated. In a future version, this will no longer \n",
       "exclude empty or all-NA columns when determining the result dtypes. To retain the old behavior, exclude the \n",
       "relevant entries before the concat operation.\n",
       "  results = pd.concat([results, normalized_data]) #.dropna(axis=1, how=\"all\")])\n",
       "</pre>\n"
      ],
      "text/plain": [
       "/var/folders/7t/k8q3439j6z3c683j7w00wtm80000gn/T/ipykernel_50509/330735155.py:26: FutureWarning: The behavior of \n",
       "DataFrame concatenation with empty or all-NA entries is deprecated. In a future version, this will no longer \n",
       "exclude empty or all-NA columns when determining the result dtypes. To retain the old behavior, exclude the \n",
       "relevant entries before the concat operation.\n",
       "  results = pd.concat([results, normalized_data]) #.dropna(axis=1, how=\"all\")])\n"
      ]
     },
     "metadata": {},
     "output_type": "display_data"
    },
    {
     "data": {
      "text/html": [
       "<pre style=\"white-space:pre;overflow-x:auto;line-height:normal;font-family:Menlo,'DejaVu Sans Mono',consolas,'Courier New',monospace\">/var/folders/7t/k8q3439j6z3c683j7w00wtm80000gn/T/ipykernel_50509/330735155.py:26: FutureWarning: The behavior of \n",
       "DataFrame concatenation with empty or all-NA entries is deprecated. In a future version, this will no longer \n",
       "exclude empty or all-NA columns when determining the result dtypes. To retain the old behavior, exclude the \n",
       "relevant entries before the concat operation.\n",
       "  results = pd.concat([results, normalized_data]) #.dropna(axis=1, how=\"all\")])\n",
       "</pre>\n"
      ],
      "text/plain": [
       "/var/folders/7t/k8q3439j6z3c683j7w00wtm80000gn/T/ipykernel_50509/330735155.py:26: FutureWarning: The behavior of \n",
       "DataFrame concatenation with empty or all-NA entries is deprecated. In a future version, this will no longer \n",
       "exclude empty or all-NA columns when determining the result dtypes. To retain the old behavior, exclude the \n",
       "relevant entries before the concat operation.\n",
       "  results = pd.concat([results, normalized_data]) #.dropna(axis=1, how=\"all\")])\n"
      ]
     },
     "metadata": {},
     "output_type": "display_data"
    },
    {
     "data": {
      "text/html": [
       "<pre style=\"white-space:pre;overflow-x:auto;line-height:normal;font-family:Menlo,'DejaVu Sans Mono',consolas,'Courier New',monospace\">/var/folders/7t/k8q3439j6z3c683j7w00wtm80000gn/T/ipykernel_50509/330735155.py:26: FutureWarning: The behavior of \n",
       "DataFrame concatenation with empty or all-NA entries is deprecated. In a future version, this will no longer \n",
       "exclude empty or all-NA columns when determining the result dtypes. To retain the old behavior, exclude the \n",
       "relevant entries before the concat operation.\n",
       "  results = pd.concat([results, normalized_data]) #.dropna(axis=1, how=\"all\")])\n",
       "</pre>\n"
      ],
      "text/plain": [
       "/var/folders/7t/k8q3439j6z3c683j7w00wtm80000gn/T/ipykernel_50509/330735155.py:26: FutureWarning: The behavior of \n",
       "DataFrame concatenation with empty or all-NA entries is deprecated. In a future version, this will no longer \n",
       "exclude empty or all-NA columns when determining the result dtypes. To retain the old behavior, exclude the \n",
       "relevant entries before the concat operation.\n",
       "  results = pd.concat([results, normalized_data]) #.dropna(axis=1, how=\"all\")])\n"
      ]
     },
     "metadata": {},
     "output_type": "display_data"
    },
    {
     "data": {
      "text/html": [
       "<pre style=\"white-space:pre;overflow-x:auto;line-height:normal;font-family:Menlo,'DejaVu Sans Mono',consolas,'Courier New',monospace\">/var/folders/7t/k8q3439j6z3c683j7w00wtm80000gn/T/ipykernel_50509/330735155.py:26: FutureWarning: The behavior of \n",
       "DataFrame concatenation with empty or all-NA entries is deprecated. In a future version, this will no longer \n",
       "exclude empty or all-NA columns when determining the result dtypes. To retain the old behavior, exclude the \n",
       "relevant entries before the concat operation.\n",
       "  results = pd.concat([results, normalized_data]) #.dropna(axis=1, how=\"all\")])\n",
       "</pre>\n"
      ],
      "text/plain": [
       "/var/folders/7t/k8q3439j6z3c683j7w00wtm80000gn/T/ipykernel_50509/330735155.py:26: FutureWarning: The behavior of \n",
       "DataFrame concatenation with empty or all-NA entries is deprecated. In a future version, this will no longer \n",
       "exclude empty or all-NA columns when determining the result dtypes. To retain the old behavior, exclude the \n",
       "relevant entries before the concat operation.\n",
       "  results = pd.concat([results, normalized_data]) #.dropna(axis=1, how=\"all\")])\n"
      ]
     },
     "metadata": {},
     "output_type": "display_data"
    },
    {
     "data": {
      "text/html": [
       "<pre style=\"white-space:pre;overflow-x:auto;line-height:normal;font-family:Menlo,'DejaVu Sans Mono',consolas,'Courier New',monospace\">/var/folders/7t/k8q3439j6z3c683j7w00wtm80000gn/T/ipykernel_50509/330735155.py:26: FutureWarning: The behavior of \n",
       "DataFrame concatenation with empty or all-NA entries is deprecated. In a future version, this will no longer \n",
       "exclude empty or all-NA columns when determining the result dtypes. To retain the old behavior, exclude the \n",
       "relevant entries before the concat operation.\n",
       "  results = pd.concat([results, normalized_data]) #.dropna(axis=1, how=\"all\")])\n",
       "</pre>\n"
      ],
      "text/plain": [
       "/var/folders/7t/k8q3439j6z3c683j7w00wtm80000gn/T/ipykernel_50509/330735155.py:26: FutureWarning: The behavior of \n",
       "DataFrame concatenation with empty or all-NA entries is deprecated. In a future version, this will no longer \n",
       "exclude empty or all-NA columns when determining the result dtypes. To retain the old behavior, exclude the \n",
       "relevant entries before the concat operation.\n",
       "  results = pd.concat([results, normalized_data]) #.dropna(axis=1, how=\"all\")])\n"
      ]
     },
     "metadata": {},
     "output_type": "display_data"
    },
    {
     "data": {
      "text/html": [
       "<pre style=\"white-space:pre;overflow-x:auto;line-height:normal;font-family:Menlo,'DejaVu Sans Mono',consolas,'Courier New',monospace\">/var/folders/7t/k8q3439j6z3c683j7w00wtm80000gn/T/ipykernel_50509/330735155.py:26: FutureWarning: The behavior of \n",
       "DataFrame concatenation with empty or all-NA entries is deprecated. In a future version, this will no longer \n",
       "exclude empty or all-NA columns when determining the result dtypes. To retain the old behavior, exclude the \n",
       "relevant entries before the concat operation.\n",
       "  results = pd.concat([results, normalized_data]) #.dropna(axis=1, how=\"all\")])\n",
       "</pre>\n"
      ],
      "text/plain": [
       "/var/folders/7t/k8q3439j6z3c683j7w00wtm80000gn/T/ipykernel_50509/330735155.py:26: FutureWarning: The behavior of \n",
       "DataFrame concatenation with empty or all-NA entries is deprecated. In a future version, this will no longer \n",
       "exclude empty or all-NA columns when determining the result dtypes. To retain the old behavior, exclude the \n",
       "relevant entries before the concat operation.\n",
       "  results = pd.concat([results, normalized_data]) #.dropna(axis=1, how=\"all\")])\n"
      ]
     },
     "metadata": {},
     "output_type": "display_data"
    },
    {
     "data": {
      "text/html": [
       "<pre style=\"white-space:pre;overflow-x:auto;line-height:normal;font-family:Menlo,'DejaVu Sans Mono',consolas,'Courier New',monospace\">/var/folders/7t/k8q3439j6z3c683j7w00wtm80000gn/T/ipykernel_50509/330735155.py:26: FutureWarning: The behavior of \n",
       "DataFrame concatenation with empty or all-NA entries is deprecated. In a future version, this will no longer \n",
       "exclude empty or all-NA columns when determining the result dtypes. To retain the old behavior, exclude the \n",
       "relevant entries before the concat operation.\n",
       "  results = pd.concat([results, normalized_data]) #.dropna(axis=1, how=\"all\")])\n",
       "</pre>\n"
      ],
      "text/plain": [
       "/var/folders/7t/k8q3439j6z3c683j7w00wtm80000gn/T/ipykernel_50509/330735155.py:26: FutureWarning: The behavior of \n",
       "DataFrame concatenation with empty or all-NA entries is deprecated. In a future version, this will no longer \n",
       "exclude empty or all-NA columns when determining the result dtypes. To retain the old behavior, exclude the \n",
       "relevant entries before the concat operation.\n",
       "  results = pd.concat([results, normalized_data]) #.dropna(axis=1, how=\"all\")])\n"
      ]
     },
     "metadata": {},
     "output_type": "display_data"
    },
    {
     "data": {
      "text/html": [
       "<pre style=\"white-space:pre;overflow-x:auto;line-height:normal;font-family:Menlo,'DejaVu Sans Mono',consolas,'Courier New',monospace\">/var/folders/7t/k8q3439j6z3c683j7w00wtm80000gn/T/ipykernel_50509/330735155.py:26: FutureWarning: The behavior of \n",
       "DataFrame concatenation with empty or all-NA entries is deprecated. In a future version, this will no longer \n",
       "exclude empty or all-NA columns when determining the result dtypes. To retain the old behavior, exclude the \n",
       "relevant entries before the concat operation.\n",
       "  results = pd.concat([results, normalized_data]) #.dropna(axis=1, how=\"all\")])\n",
       "</pre>\n"
      ],
      "text/plain": [
       "/var/folders/7t/k8q3439j6z3c683j7w00wtm80000gn/T/ipykernel_50509/330735155.py:26: FutureWarning: The behavior of \n",
       "DataFrame concatenation with empty or all-NA entries is deprecated. In a future version, this will no longer \n",
       "exclude empty or all-NA columns when determining the result dtypes. To retain the old behavior, exclude the \n",
       "relevant entries before the concat operation.\n",
       "  results = pd.concat([results, normalized_data]) #.dropna(axis=1, how=\"all\")])\n"
      ]
     },
     "metadata": {},
     "output_type": "display_data"
    },
    {
     "data": {
      "text/html": [
       "<pre style=\"white-space:pre;overflow-x:auto;line-height:normal;font-family:Menlo,'DejaVu Sans Mono',consolas,'Courier New',monospace\">/var/folders/7t/k8q3439j6z3c683j7w00wtm80000gn/T/ipykernel_50509/330735155.py:26: FutureWarning: The behavior of \n",
       "DataFrame concatenation with empty or all-NA entries is deprecated. In a future version, this will no longer \n",
       "exclude empty or all-NA columns when determining the result dtypes. To retain the old behavior, exclude the \n",
       "relevant entries before the concat operation.\n",
       "  results = pd.concat([results, normalized_data]) #.dropna(axis=1, how=\"all\")])\n",
       "</pre>\n"
      ],
      "text/plain": [
       "/var/folders/7t/k8q3439j6z3c683j7w00wtm80000gn/T/ipykernel_50509/330735155.py:26: FutureWarning: The behavior of \n",
       "DataFrame concatenation with empty or all-NA entries is deprecated. In a future version, this will no longer \n",
       "exclude empty or all-NA columns when determining the result dtypes. To retain the old behavior, exclude the \n",
       "relevant entries before the concat operation.\n",
       "  results = pd.concat([results, normalized_data]) #.dropna(axis=1, how=\"all\")])\n"
      ]
     },
     "metadata": {},
     "output_type": "display_data"
    },
    {
     "data": {
      "text/html": [
       "<pre style=\"white-space:pre;overflow-x:auto;line-height:normal;font-family:Menlo,'DejaVu Sans Mono',consolas,'Courier New',monospace\">/var/folders/7t/k8q3439j6z3c683j7w00wtm80000gn/T/ipykernel_50509/330735155.py:26: FutureWarning: The behavior of \n",
       "DataFrame concatenation with empty or all-NA entries is deprecated. In a future version, this will no longer \n",
       "exclude empty or all-NA columns when determining the result dtypes. To retain the old behavior, exclude the \n",
       "relevant entries before the concat operation.\n",
       "  results = pd.concat([results, normalized_data]) #.dropna(axis=1, how=\"all\")])\n",
       "</pre>\n"
      ],
      "text/plain": [
       "/var/folders/7t/k8q3439j6z3c683j7w00wtm80000gn/T/ipykernel_50509/330735155.py:26: FutureWarning: The behavior of \n",
       "DataFrame concatenation with empty or all-NA entries is deprecated. In a future version, this will no longer \n",
       "exclude empty or all-NA columns when determining the result dtypes. To retain the old behavior, exclude the \n",
       "relevant entries before the concat operation.\n",
       "  results = pd.concat([results, normalized_data]) #.dropna(axis=1, how=\"all\")])\n"
      ]
     },
     "metadata": {},
     "output_type": "display_data"
    },
    {
     "data": {
      "text/html": [
       "<pre style=\"white-space:pre;overflow-x:auto;line-height:normal;font-family:Menlo,'DejaVu Sans Mono',consolas,'Courier New',monospace\">/var/folders/7t/k8q3439j6z3c683j7w00wtm80000gn/T/ipykernel_50509/330735155.py:26: FutureWarning: The behavior of \n",
       "DataFrame concatenation with empty or all-NA entries is deprecated. In a future version, this will no longer \n",
       "exclude empty or all-NA columns when determining the result dtypes. To retain the old behavior, exclude the \n",
       "relevant entries before the concat operation.\n",
       "  results = pd.concat([results, normalized_data]) #.dropna(axis=1, how=\"all\")])\n",
       "</pre>\n"
      ],
      "text/plain": [
       "/var/folders/7t/k8q3439j6z3c683j7w00wtm80000gn/T/ipykernel_50509/330735155.py:26: FutureWarning: The behavior of \n",
       "DataFrame concatenation with empty or all-NA entries is deprecated. In a future version, this will no longer \n",
       "exclude empty or all-NA columns when determining the result dtypes. To retain the old behavior, exclude the \n",
       "relevant entries before the concat operation.\n",
       "  results = pd.concat([results, normalized_data]) #.dropna(axis=1, how=\"all\")])\n"
      ]
     },
     "metadata": {},
     "output_type": "display_data"
    },
    {
     "data": {
      "text/html": [
       "<pre style=\"white-space:pre;overflow-x:auto;line-height:normal;font-family:Menlo,'DejaVu Sans Mono',consolas,'Courier New',monospace\">/var/folders/7t/k8q3439j6z3c683j7w00wtm80000gn/T/ipykernel_50509/330735155.py:26: FutureWarning: The behavior of \n",
       "DataFrame concatenation with empty or all-NA entries is deprecated. In a future version, this will no longer \n",
       "exclude empty or all-NA columns when determining the result dtypes. To retain the old behavior, exclude the \n",
       "relevant entries before the concat operation.\n",
       "  results = pd.concat([results, normalized_data]) #.dropna(axis=1, how=\"all\")])\n",
       "</pre>\n"
      ],
      "text/plain": [
       "/var/folders/7t/k8q3439j6z3c683j7w00wtm80000gn/T/ipykernel_50509/330735155.py:26: FutureWarning: The behavior of \n",
       "DataFrame concatenation with empty or all-NA entries is deprecated. In a future version, this will no longer \n",
       "exclude empty or all-NA columns when determining the result dtypes. To retain the old behavior, exclude the \n",
       "relevant entries before the concat operation.\n",
       "  results = pd.concat([results, normalized_data]) #.dropna(axis=1, how=\"all\")])\n"
      ]
     },
     "metadata": {},
     "output_type": "display_data"
    },
    {
     "data": {
      "text/html": [
       "<pre style=\"white-space:pre;overflow-x:auto;line-height:normal;font-family:Menlo,'DejaVu Sans Mono',consolas,'Courier New',monospace\">/var/folders/7t/k8q3439j6z3c683j7w00wtm80000gn/T/ipykernel_50509/330735155.py:26: FutureWarning: The behavior of \n",
       "DataFrame concatenation with empty or all-NA entries is deprecated. In a future version, this will no longer \n",
       "exclude empty or all-NA columns when determining the result dtypes. To retain the old behavior, exclude the \n",
       "relevant entries before the concat operation.\n",
       "  results = pd.concat([results, normalized_data]) #.dropna(axis=1, how=\"all\")])\n",
       "</pre>\n"
      ],
      "text/plain": [
       "/var/folders/7t/k8q3439j6z3c683j7w00wtm80000gn/T/ipykernel_50509/330735155.py:26: FutureWarning: The behavior of \n",
       "DataFrame concatenation with empty or all-NA entries is deprecated. In a future version, this will no longer \n",
       "exclude empty or all-NA columns when determining the result dtypes. To retain the old behavior, exclude the \n",
       "relevant entries before the concat operation.\n",
       "  results = pd.concat([results, normalized_data]) #.dropna(axis=1, how=\"all\")])\n"
      ]
     },
     "metadata": {},
     "output_type": "display_data"
    },
    {
     "data": {
      "text/html": [
       "<pre style=\"white-space:pre;overflow-x:auto;line-height:normal;font-family:Menlo,'DejaVu Sans Mono',consolas,'Courier New',monospace\">/var/folders/7t/k8q3439j6z3c683j7w00wtm80000gn/T/ipykernel_50509/330735155.py:26: FutureWarning: The behavior of \n",
       "DataFrame concatenation with empty or all-NA entries is deprecated. In a future version, this will no longer \n",
       "exclude empty or all-NA columns when determining the result dtypes. To retain the old behavior, exclude the \n",
       "relevant entries before the concat operation.\n",
       "  results = pd.concat([results, normalized_data]) #.dropna(axis=1, how=\"all\")])\n",
       "</pre>\n"
      ],
      "text/plain": [
       "/var/folders/7t/k8q3439j6z3c683j7w00wtm80000gn/T/ipykernel_50509/330735155.py:26: FutureWarning: The behavior of \n",
       "DataFrame concatenation with empty or all-NA entries is deprecated. In a future version, this will no longer \n",
       "exclude empty or all-NA columns when determining the result dtypes. To retain the old behavior, exclude the \n",
       "relevant entries before the concat operation.\n",
       "  results = pd.concat([results, normalized_data]) #.dropna(axis=1, how=\"all\")])\n"
      ]
     },
     "metadata": {},
     "output_type": "display_data"
    },
    {
     "data": {
      "text/html": [
       "<pre style=\"white-space:pre;overflow-x:auto;line-height:normal;font-family:Menlo,'DejaVu Sans Mono',consolas,'Courier New',monospace\">/var/folders/7t/k8q3439j6z3c683j7w00wtm80000gn/T/ipykernel_50509/330735155.py:26: FutureWarning: The behavior of \n",
       "DataFrame concatenation with empty or all-NA entries is deprecated. In a future version, this will no longer \n",
       "exclude empty or all-NA columns when determining the result dtypes. To retain the old behavior, exclude the \n",
       "relevant entries before the concat operation.\n",
       "  results = pd.concat([results, normalized_data]) #.dropna(axis=1, how=\"all\")])\n",
       "</pre>\n"
      ],
      "text/plain": [
       "/var/folders/7t/k8q3439j6z3c683j7w00wtm80000gn/T/ipykernel_50509/330735155.py:26: FutureWarning: The behavior of \n",
       "DataFrame concatenation with empty or all-NA entries is deprecated. In a future version, this will no longer \n",
       "exclude empty or all-NA columns when determining the result dtypes. To retain the old behavior, exclude the \n",
       "relevant entries before the concat operation.\n",
       "  results = pd.concat([results, normalized_data]) #.dropna(axis=1, how=\"all\")])\n"
      ]
     },
     "metadata": {},
     "output_type": "display_data"
    },
    {
     "data": {
      "text/html": [
       "<pre style=\"white-space:pre;overflow-x:auto;line-height:normal;font-family:Menlo,'DejaVu Sans Mono',consolas,'Courier New',monospace\">/var/folders/7t/k8q3439j6z3c683j7w00wtm80000gn/T/ipykernel_50509/330735155.py:26: FutureWarning: The behavior of \n",
       "DataFrame concatenation with empty or all-NA entries is deprecated. In a future version, this will no longer \n",
       "exclude empty or all-NA columns when determining the result dtypes. To retain the old behavior, exclude the \n",
       "relevant entries before the concat operation.\n",
       "  results = pd.concat([results, normalized_data]) #.dropna(axis=1, how=\"all\")])\n",
       "</pre>\n"
      ],
      "text/plain": [
       "/var/folders/7t/k8q3439j6z3c683j7w00wtm80000gn/T/ipykernel_50509/330735155.py:26: FutureWarning: The behavior of \n",
       "DataFrame concatenation with empty or all-NA entries is deprecated. In a future version, this will no longer \n",
       "exclude empty or all-NA columns when determining the result dtypes. To retain the old behavior, exclude the \n",
       "relevant entries before the concat operation.\n",
       "  results = pd.concat([results, normalized_data]) #.dropna(axis=1, how=\"all\")])\n"
      ]
     },
     "metadata": {},
     "output_type": "display_data"
    },
    {
     "data": {
      "text/html": [
       "<pre style=\"white-space:pre;overflow-x:auto;line-height:normal;font-family:Menlo,'DejaVu Sans Mono',consolas,'Courier New',monospace\">/var/folders/7t/k8q3439j6z3c683j7w00wtm80000gn/T/ipykernel_50509/330735155.py:26: FutureWarning: The behavior of \n",
       "DataFrame concatenation with empty or all-NA entries is deprecated. In a future version, this will no longer \n",
       "exclude empty or all-NA columns when determining the result dtypes. To retain the old behavior, exclude the \n",
       "relevant entries before the concat operation.\n",
       "  results = pd.concat([results, normalized_data]) #.dropna(axis=1, how=\"all\")])\n",
       "</pre>\n"
      ],
      "text/plain": [
       "/var/folders/7t/k8q3439j6z3c683j7w00wtm80000gn/T/ipykernel_50509/330735155.py:26: FutureWarning: The behavior of \n",
       "DataFrame concatenation with empty or all-NA entries is deprecated. In a future version, this will no longer \n",
       "exclude empty or all-NA columns when determining the result dtypes. To retain the old behavior, exclude the \n",
       "relevant entries before the concat operation.\n",
       "  results = pd.concat([results, normalized_data]) #.dropna(axis=1, how=\"all\")])\n"
      ]
     },
     "metadata": {},
     "output_type": "display_data"
    },
    {
     "data": {
      "text/html": [
       "<pre style=\"white-space:pre;overflow-x:auto;line-height:normal;font-family:Menlo,'DejaVu Sans Mono',consolas,'Courier New',monospace\">/var/folders/7t/k8q3439j6z3c683j7w00wtm80000gn/T/ipykernel_50509/330735155.py:26: FutureWarning: The behavior of \n",
       "DataFrame concatenation with empty or all-NA entries is deprecated. In a future version, this will no longer \n",
       "exclude empty or all-NA columns when determining the result dtypes. To retain the old behavior, exclude the \n",
       "relevant entries before the concat operation.\n",
       "  results = pd.concat([results, normalized_data]) #.dropna(axis=1, how=\"all\")])\n",
       "</pre>\n"
      ],
      "text/plain": [
       "/var/folders/7t/k8q3439j6z3c683j7w00wtm80000gn/T/ipykernel_50509/330735155.py:26: FutureWarning: The behavior of \n",
       "DataFrame concatenation with empty or all-NA entries is deprecated. In a future version, this will no longer \n",
       "exclude empty or all-NA columns when determining the result dtypes. To retain the old behavior, exclude the \n",
       "relevant entries before the concat operation.\n",
       "  results = pd.concat([results, normalized_data]) #.dropna(axis=1, how=\"all\")])\n"
      ]
     },
     "metadata": {},
     "output_type": "display_data"
    },
    {
     "data": {
      "text/html": [
       "<pre style=\"white-space:pre;overflow-x:auto;line-height:normal;font-family:Menlo,'DejaVu Sans Mono',consolas,'Courier New',monospace\">/var/folders/7t/k8q3439j6z3c683j7w00wtm80000gn/T/ipykernel_50509/330735155.py:26: FutureWarning: The behavior of \n",
       "DataFrame concatenation with empty or all-NA entries is deprecated. In a future version, this will no longer \n",
       "exclude empty or all-NA columns when determining the result dtypes. To retain the old behavior, exclude the \n",
       "relevant entries before the concat operation.\n",
       "  results = pd.concat([results, normalized_data]) #.dropna(axis=1, how=\"all\")])\n",
       "</pre>\n"
      ],
      "text/plain": [
       "/var/folders/7t/k8q3439j6z3c683j7w00wtm80000gn/T/ipykernel_50509/330735155.py:26: FutureWarning: The behavior of \n",
       "DataFrame concatenation with empty or all-NA entries is deprecated. In a future version, this will no longer \n",
       "exclude empty or all-NA columns when determining the result dtypes. To retain the old behavior, exclude the \n",
       "relevant entries before the concat operation.\n",
       "  results = pd.concat([results, normalized_data]) #.dropna(axis=1, how=\"all\")])\n"
      ]
     },
     "metadata": {},
     "output_type": "display_data"
    },
    {
     "data": {
      "text/html": [
       "<pre style=\"white-space:pre;overflow-x:auto;line-height:normal;font-family:Menlo,'DejaVu Sans Mono',consolas,'Courier New',monospace\">/var/folders/7t/k8q3439j6z3c683j7w00wtm80000gn/T/ipykernel_50509/330735155.py:26: FutureWarning: The behavior of \n",
       "DataFrame concatenation with empty or all-NA entries is deprecated. In a future version, this will no longer \n",
       "exclude empty or all-NA columns when determining the result dtypes. To retain the old behavior, exclude the \n",
       "relevant entries before the concat operation.\n",
       "  results = pd.concat([results, normalized_data]) #.dropna(axis=1, how=\"all\")])\n",
       "</pre>\n"
      ],
      "text/plain": [
       "/var/folders/7t/k8q3439j6z3c683j7w00wtm80000gn/T/ipykernel_50509/330735155.py:26: FutureWarning: The behavior of \n",
       "DataFrame concatenation with empty or all-NA entries is deprecated. In a future version, this will no longer \n",
       "exclude empty or all-NA columns when determining the result dtypes. To retain the old behavior, exclude the \n",
       "relevant entries before the concat operation.\n",
       "  results = pd.concat([results, normalized_data]) #.dropna(axis=1, how=\"all\")])\n"
      ]
     },
     "metadata": {},
     "output_type": "display_data"
    },
    {
     "data": {
      "text/html": [
       "<pre style=\"white-space:pre;overflow-x:auto;line-height:normal;font-family:Menlo,'DejaVu Sans Mono',consolas,'Courier New',monospace\">/var/folders/7t/k8q3439j6z3c683j7w00wtm80000gn/T/ipykernel_50509/330735155.py:26: FutureWarning: The behavior of \n",
       "DataFrame concatenation with empty or all-NA entries is deprecated. In a future version, this will no longer \n",
       "exclude empty or all-NA columns when determining the result dtypes. To retain the old behavior, exclude the \n",
       "relevant entries before the concat operation.\n",
       "  results = pd.concat([results, normalized_data]) #.dropna(axis=1, how=\"all\")])\n",
       "</pre>\n"
      ],
      "text/plain": [
       "/var/folders/7t/k8q3439j6z3c683j7w00wtm80000gn/T/ipykernel_50509/330735155.py:26: FutureWarning: The behavior of \n",
       "DataFrame concatenation with empty or all-NA entries is deprecated. In a future version, this will no longer \n",
       "exclude empty or all-NA columns when determining the result dtypes. To retain the old behavior, exclude the \n",
       "relevant entries before the concat operation.\n",
       "  results = pd.concat([results, normalized_data]) #.dropna(axis=1, how=\"all\")])\n"
      ]
     },
     "metadata": {},
     "output_type": "display_data"
    },
    {
     "data": {
      "text/html": [
       "<pre style=\"white-space:pre;overflow-x:auto;line-height:normal;font-family:Menlo,'DejaVu Sans Mono',consolas,'Courier New',monospace\">/var/folders/7t/k8q3439j6z3c683j7w00wtm80000gn/T/ipykernel_50509/330735155.py:26: FutureWarning: The behavior of \n",
       "DataFrame concatenation with empty or all-NA entries is deprecated. In a future version, this will no longer \n",
       "exclude empty or all-NA columns when determining the result dtypes. To retain the old behavior, exclude the \n",
       "relevant entries before the concat operation.\n",
       "  results = pd.concat([results, normalized_data]) #.dropna(axis=1, how=\"all\")])\n",
       "</pre>\n"
      ],
      "text/plain": [
       "/var/folders/7t/k8q3439j6z3c683j7w00wtm80000gn/T/ipykernel_50509/330735155.py:26: FutureWarning: The behavior of \n",
       "DataFrame concatenation with empty or all-NA entries is deprecated. In a future version, this will no longer \n",
       "exclude empty or all-NA columns when determining the result dtypes. To retain the old behavior, exclude the \n",
       "relevant entries before the concat operation.\n",
       "  results = pd.concat([results, normalized_data]) #.dropna(axis=1, how=\"all\")])\n"
      ]
     },
     "metadata": {},
     "output_type": "display_data"
    },
    {
     "data": {
      "text/html": [
       "<pre style=\"white-space:pre;overflow-x:auto;line-height:normal;font-family:Menlo,'DejaVu Sans Mono',consolas,'Courier New',monospace\">/var/folders/7t/k8q3439j6z3c683j7w00wtm80000gn/T/ipykernel_50509/330735155.py:26: FutureWarning: The behavior of \n",
       "DataFrame concatenation with empty or all-NA entries is deprecated. In a future version, this will no longer \n",
       "exclude empty or all-NA columns when determining the result dtypes. To retain the old behavior, exclude the \n",
       "relevant entries before the concat operation.\n",
       "  results = pd.concat([results, normalized_data]) #.dropna(axis=1, how=\"all\")])\n",
       "</pre>\n"
      ],
      "text/plain": [
       "/var/folders/7t/k8q3439j6z3c683j7w00wtm80000gn/T/ipykernel_50509/330735155.py:26: FutureWarning: The behavior of \n",
       "DataFrame concatenation with empty or all-NA entries is deprecated. In a future version, this will no longer \n",
       "exclude empty or all-NA columns when determining the result dtypes. To retain the old behavior, exclude the \n",
       "relevant entries before the concat operation.\n",
       "  results = pd.concat([results, normalized_data]) #.dropna(axis=1, how=\"all\")])\n"
      ]
     },
     "metadata": {},
     "output_type": "display_data"
    },
    {
     "data": {
      "text/html": [
       "<pre style=\"white-space:pre;overflow-x:auto;line-height:normal;font-family:Menlo,'DejaVu Sans Mono',consolas,'Courier New',monospace\">/var/folders/7t/k8q3439j6z3c683j7w00wtm80000gn/T/ipykernel_50509/330735155.py:26: FutureWarning: The behavior of \n",
       "DataFrame concatenation with empty or all-NA entries is deprecated. In a future version, this will no longer \n",
       "exclude empty or all-NA columns when determining the result dtypes. To retain the old behavior, exclude the \n",
       "relevant entries before the concat operation.\n",
       "  results = pd.concat([results, normalized_data]) #.dropna(axis=1, how=\"all\")])\n",
       "</pre>\n"
      ],
      "text/plain": [
       "/var/folders/7t/k8q3439j6z3c683j7w00wtm80000gn/T/ipykernel_50509/330735155.py:26: FutureWarning: The behavior of \n",
       "DataFrame concatenation with empty or all-NA entries is deprecated. In a future version, this will no longer \n",
       "exclude empty or all-NA columns when determining the result dtypes. To retain the old behavior, exclude the \n",
       "relevant entries before the concat operation.\n",
       "  results = pd.concat([results, normalized_data]) #.dropna(axis=1, how=\"all\")])\n"
      ]
     },
     "metadata": {},
     "output_type": "display_data"
    },
    {
     "data": {
      "text/html": [
       "<pre style=\"white-space:pre;overflow-x:auto;line-height:normal;font-family:Menlo,'DejaVu Sans Mono',consolas,'Courier New',monospace\">/var/folders/7t/k8q3439j6z3c683j7w00wtm80000gn/T/ipykernel_50509/330735155.py:26: FutureWarning: The behavior of \n",
       "DataFrame concatenation with empty or all-NA entries is deprecated. In a future version, this will no longer \n",
       "exclude empty or all-NA columns when determining the result dtypes. To retain the old behavior, exclude the \n",
       "relevant entries before the concat operation.\n",
       "  results = pd.concat([results, normalized_data]) #.dropna(axis=1, how=\"all\")])\n",
       "</pre>\n"
      ],
      "text/plain": [
       "/var/folders/7t/k8q3439j6z3c683j7w00wtm80000gn/T/ipykernel_50509/330735155.py:26: FutureWarning: The behavior of \n",
       "DataFrame concatenation with empty or all-NA entries is deprecated. In a future version, this will no longer \n",
       "exclude empty or all-NA columns when determining the result dtypes. To retain the old behavior, exclude the \n",
       "relevant entries before the concat operation.\n",
       "  results = pd.concat([results, normalized_data]) #.dropna(axis=1, how=\"all\")])\n"
      ]
     },
     "metadata": {},
     "output_type": "display_data"
    },
    {
     "data": {
      "text/html": [
       "<pre style=\"white-space:pre;overflow-x:auto;line-height:normal;font-family:Menlo,'DejaVu Sans Mono',consolas,'Courier New',monospace\">/var/folders/7t/k8q3439j6z3c683j7w00wtm80000gn/T/ipykernel_50509/330735155.py:26: FutureWarning: The behavior of \n",
       "DataFrame concatenation with empty or all-NA entries is deprecated. In a future version, this will no longer \n",
       "exclude empty or all-NA columns when determining the result dtypes. To retain the old behavior, exclude the \n",
       "relevant entries before the concat operation.\n",
       "  results = pd.concat([results, normalized_data]) #.dropna(axis=1, how=\"all\")])\n",
       "</pre>\n"
      ],
      "text/plain": [
       "/var/folders/7t/k8q3439j6z3c683j7w00wtm80000gn/T/ipykernel_50509/330735155.py:26: FutureWarning: The behavior of \n",
       "DataFrame concatenation with empty or all-NA entries is deprecated. In a future version, this will no longer \n",
       "exclude empty or all-NA columns when determining the result dtypes. To retain the old behavior, exclude the \n",
       "relevant entries before the concat operation.\n",
       "  results = pd.concat([results, normalized_data]) #.dropna(axis=1, how=\"all\")])\n"
      ]
     },
     "metadata": {},
     "output_type": "display_data"
    },
    {
     "data": {
      "text/html": [
       "<pre style=\"white-space:pre;overflow-x:auto;line-height:normal;font-family:Menlo,'DejaVu Sans Mono',consolas,'Courier New',monospace\">/var/folders/7t/k8q3439j6z3c683j7w00wtm80000gn/T/ipykernel_50509/330735155.py:26: FutureWarning: The behavior of \n",
       "DataFrame concatenation with empty or all-NA entries is deprecated. In a future version, this will no longer \n",
       "exclude empty or all-NA columns when determining the result dtypes. To retain the old behavior, exclude the \n",
       "relevant entries before the concat operation.\n",
       "  results = pd.concat([results, normalized_data]) #.dropna(axis=1, how=\"all\")])\n",
       "</pre>\n"
      ],
      "text/plain": [
       "/var/folders/7t/k8q3439j6z3c683j7w00wtm80000gn/T/ipykernel_50509/330735155.py:26: FutureWarning: The behavior of \n",
       "DataFrame concatenation with empty or all-NA entries is deprecated. In a future version, this will no longer \n",
       "exclude empty or all-NA columns when determining the result dtypes. To retain the old behavior, exclude the \n",
       "relevant entries before the concat operation.\n",
       "  results = pd.concat([results, normalized_data]) #.dropna(axis=1, how=\"all\")])\n"
      ]
     },
     "metadata": {},
     "output_type": "display_data"
    },
    {
     "data": {
      "text/html": [
       "<pre style=\"white-space:pre;overflow-x:auto;line-height:normal;font-family:Menlo,'DejaVu Sans Mono',consolas,'Courier New',monospace\">/var/folders/7t/k8q3439j6z3c683j7w00wtm80000gn/T/ipykernel_50509/330735155.py:26: FutureWarning: The behavior of \n",
       "DataFrame concatenation with empty or all-NA entries is deprecated. In a future version, this will no longer \n",
       "exclude empty or all-NA columns when determining the result dtypes. To retain the old behavior, exclude the \n",
       "relevant entries before the concat operation.\n",
       "  results = pd.concat([results, normalized_data]) #.dropna(axis=1, how=\"all\")])\n",
       "</pre>\n"
      ],
      "text/plain": [
       "/var/folders/7t/k8q3439j6z3c683j7w00wtm80000gn/T/ipykernel_50509/330735155.py:26: FutureWarning: The behavior of \n",
       "DataFrame concatenation with empty or all-NA entries is deprecated. In a future version, this will no longer \n",
       "exclude empty or all-NA columns when determining the result dtypes. To retain the old behavior, exclude the \n",
       "relevant entries before the concat operation.\n",
       "  results = pd.concat([results, normalized_data]) #.dropna(axis=1, how=\"all\")])\n"
      ]
     },
     "metadata": {},
     "output_type": "display_data"
    },
    {
     "data": {
      "text/html": [
       "<pre style=\"white-space:pre;overflow-x:auto;line-height:normal;font-family:Menlo,'DejaVu Sans Mono',consolas,'Courier New',monospace\">/var/folders/7t/k8q3439j6z3c683j7w00wtm80000gn/T/ipykernel_50509/330735155.py:26: FutureWarning: The behavior of \n",
       "DataFrame concatenation with empty or all-NA entries is deprecated. In a future version, this will no longer \n",
       "exclude empty or all-NA columns when determining the result dtypes. To retain the old behavior, exclude the \n",
       "relevant entries before the concat operation.\n",
       "  results = pd.concat([results, normalized_data]) #.dropna(axis=1, how=\"all\")])\n",
       "</pre>\n"
      ],
      "text/plain": [
       "/var/folders/7t/k8q3439j6z3c683j7w00wtm80000gn/T/ipykernel_50509/330735155.py:26: FutureWarning: The behavior of \n",
       "DataFrame concatenation with empty or all-NA entries is deprecated. In a future version, this will no longer \n",
       "exclude empty or all-NA columns when determining the result dtypes. To retain the old behavior, exclude the \n",
       "relevant entries before the concat operation.\n",
       "  results = pd.concat([results, normalized_data]) #.dropna(axis=1, how=\"all\")])\n"
      ]
     },
     "metadata": {},
     "output_type": "display_data"
    },
    {
     "data": {
      "text/html": [
       "<pre style=\"white-space:pre;overflow-x:auto;line-height:normal;font-family:Menlo,'DejaVu Sans Mono',consolas,'Courier New',monospace\">/var/folders/7t/k8q3439j6z3c683j7w00wtm80000gn/T/ipykernel_50509/330735155.py:26: FutureWarning: The behavior of \n",
       "DataFrame concatenation with empty or all-NA entries is deprecated. In a future version, this will no longer \n",
       "exclude empty or all-NA columns when determining the result dtypes. To retain the old behavior, exclude the \n",
       "relevant entries before the concat operation.\n",
       "  results = pd.concat([results, normalized_data]) #.dropna(axis=1, how=\"all\")])\n",
       "</pre>\n"
      ],
      "text/plain": [
       "/var/folders/7t/k8q3439j6z3c683j7w00wtm80000gn/T/ipykernel_50509/330735155.py:26: FutureWarning: The behavior of \n",
       "DataFrame concatenation with empty or all-NA entries is deprecated. In a future version, this will no longer \n",
       "exclude empty or all-NA columns when determining the result dtypes. To retain the old behavior, exclude the \n",
       "relevant entries before the concat operation.\n",
       "  results = pd.concat([results, normalized_data]) #.dropna(axis=1, how=\"all\")])\n"
      ]
     },
     "metadata": {},
     "output_type": "display_data"
    },
    {
     "data": {
      "text/html": [
       "<pre style=\"white-space:pre;overflow-x:auto;line-height:normal;font-family:Menlo,'DejaVu Sans Mono',consolas,'Courier New',monospace\">/var/folders/7t/k8q3439j6z3c683j7w00wtm80000gn/T/ipykernel_50509/330735155.py:26: FutureWarning: The behavior of \n",
       "DataFrame concatenation with empty or all-NA entries is deprecated. In a future version, this will no longer \n",
       "exclude empty or all-NA columns when determining the result dtypes. To retain the old behavior, exclude the \n",
       "relevant entries before the concat operation.\n",
       "  results = pd.concat([results, normalized_data]) #.dropna(axis=1, how=\"all\")])\n",
       "</pre>\n"
      ],
      "text/plain": [
       "/var/folders/7t/k8q3439j6z3c683j7w00wtm80000gn/T/ipykernel_50509/330735155.py:26: FutureWarning: The behavior of \n",
       "DataFrame concatenation with empty or all-NA entries is deprecated. In a future version, this will no longer \n",
       "exclude empty or all-NA columns when determining the result dtypes. To retain the old behavior, exclude the \n",
       "relevant entries before the concat operation.\n",
       "  results = pd.concat([results, normalized_data]) #.dropna(axis=1, how=\"all\")])\n"
      ]
     },
     "metadata": {},
     "output_type": "display_data"
    },
    {
     "data": {
      "text/html": [
       "<pre style=\"white-space:pre;overflow-x:auto;line-height:normal;font-family:Menlo,'DejaVu Sans Mono',consolas,'Courier New',monospace\">/var/folders/7t/k8q3439j6z3c683j7w00wtm80000gn/T/ipykernel_50509/330735155.py:26: FutureWarning: The behavior of \n",
       "DataFrame concatenation with empty or all-NA entries is deprecated. In a future version, this will no longer \n",
       "exclude empty or all-NA columns when determining the result dtypes. To retain the old behavior, exclude the \n",
       "relevant entries before the concat operation.\n",
       "  results = pd.concat([results, normalized_data]) #.dropna(axis=1, how=\"all\")])\n",
       "</pre>\n"
      ],
      "text/plain": [
       "/var/folders/7t/k8q3439j6z3c683j7w00wtm80000gn/T/ipykernel_50509/330735155.py:26: FutureWarning: The behavior of \n",
       "DataFrame concatenation with empty or all-NA entries is deprecated. In a future version, this will no longer \n",
       "exclude empty or all-NA columns when determining the result dtypes. To retain the old behavior, exclude the \n",
       "relevant entries before the concat operation.\n",
       "  results = pd.concat([results, normalized_data]) #.dropna(axis=1, how=\"all\")])\n"
      ]
     },
     "metadata": {},
     "output_type": "display_data"
    },
    {
     "data": {
      "text/html": [
       "<pre style=\"white-space:pre;overflow-x:auto;line-height:normal;font-family:Menlo,'DejaVu Sans Mono',consolas,'Courier New',monospace\">/var/folders/7t/k8q3439j6z3c683j7w00wtm80000gn/T/ipykernel_50509/330735155.py:26: FutureWarning: The behavior of \n",
       "DataFrame concatenation with empty or all-NA entries is deprecated. In a future version, this will no longer \n",
       "exclude empty or all-NA columns when determining the result dtypes. To retain the old behavior, exclude the \n",
       "relevant entries before the concat operation.\n",
       "  results = pd.concat([results, normalized_data]) #.dropna(axis=1, how=\"all\")])\n",
       "</pre>\n"
      ],
      "text/plain": [
       "/var/folders/7t/k8q3439j6z3c683j7w00wtm80000gn/T/ipykernel_50509/330735155.py:26: FutureWarning: The behavior of \n",
       "DataFrame concatenation with empty or all-NA entries is deprecated. In a future version, this will no longer \n",
       "exclude empty or all-NA columns when determining the result dtypes. To retain the old behavior, exclude the \n",
       "relevant entries before the concat operation.\n",
       "  results = pd.concat([results, normalized_data]) #.dropna(axis=1, how=\"all\")])\n"
      ]
     },
     "metadata": {},
     "output_type": "display_data"
    },
    {
     "data": {
      "text/html": [
       "<pre style=\"white-space:pre;overflow-x:auto;line-height:normal;font-family:Menlo,'DejaVu Sans Mono',consolas,'Courier New',monospace\">/var/folders/7t/k8q3439j6z3c683j7w00wtm80000gn/T/ipykernel_50509/330735155.py:26: FutureWarning: The behavior of \n",
       "DataFrame concatenation with empty or all-NA entries is deprecated. In a future version, this will no longer \n",
       "exclude empty or all-NA columns when determining the result dtypes. To retain the old behavior, exclude the \n",
       "relevant entries before the concat operation.\n",
       "  results = pd.concat([results, normalized_data]) #.dropna(axis=1, how=\"all\")])\n",
       "</pre>\n"
      ],
      "text/plain": [
       "/var/folders/7t/k8q3439j6z3c683j7w00wtm80000gn/T/ipykernel_50509/330735155.py:26: FutureWarning: The behavior of \n",
       "DataFrame concatenation with empty or all-NA entries is deprecated. In a future version, this will no longer \n",
       "exclude empty or all-NA columns when determining the result dtypes. To retain the old behavior, exclude the \n",
       "relevant entries before the concat operation.\n",
       "  results = pd.concat([results, normalized_data]) #.dropna(axis=1, how=\"all\")])\n"
      ]
     },
     "metadata": {},
     "output_type": "display_data"
    },
    {
     "data": {
      "text/html": [
       "<pre style=\"white-space:pre;overflow-x:auto;line-height:normal;font-family:Menlo,'DejaVu Sans Mono',consolas,'Courier New',monospace\">/var/folders/7t/k8q3439j6z3c683j7w00wtm80000gn/T/ipykernel_50509/330735155.py:26: FutureWarning: The behavior of \n",
       "DataFrame concatenation with empty or all-NA entries is deprecated. In a future version, this will no longer \n",
       "exclude empty or all-NA columns when determining the result dtypes. To retain the old behavior, exclude the \n",
       "relevant entries before the concat operation.\n",
       "  results = pd.concat([results, normalized_data]) #.dropna(axis=1, how=\"all\")])\n",
       "</pre>\n"
      ],
      "text/plain": [
       "/var/folders/7t/k8q3439j6z3c683j7w00wtm80000gn/T/ipykernel_50509/330735155.py:26: FutureWarning: The behavior of \n",
       "DataFrame concatenation with empty or all-NA entries is deprecated. In a future version, this will no longer \n",
       "exclude empty or all-NA columns when determining the result dtypes. To retain the old behavior, exclude the \n",
       "relevant entries before the concat operation.\n",
       "  results = pd.concat([results, normalized_data]) #.dropna(axis=1, how=\"all\")])\n"
      ]
     },
     "metadata": {},
     "output_type": "display_data"
    },
    {
     "data": {
      "text/html": [
       "<pre style=\"white-space:pre;overflow-x:auto;line-height:normal;font-family:Menlo,'DejaVu Sans Mono',consolas,'Courier New',monospace\">/var/folders/7t/k8q3439j6z3c683j7w00wtm80000gn/T/ipykernel_50509/330735155.py:26: FutureWarning: The behavior of \n",
       "DataFrame concatenation with empty or all-NA entries is deprecated. In a future version, this will no longer \n",
       "exclude empty or all-NA columns when determining the result dtypes. To retain the old behavior, exclude the \n",
       "relevant entries before the concat operation.\n",
       "  results = pd.concat([results, normalized_data]) #.dropna(axis=1, how=\"all\")])\n",
       "</pre>\n"
      ],
      "text/plain": [
       "/var/folders/7t/k8q3439j6z3c683j7w00wtm80000gn/T/ipykernel_50509/330735155.py:26: FutureWarning: The behavior of \n",
       "DataFrame concatenation with empty or all-NA entries is deprecated. In a future version, this will no longer \n",
       "exclude empty or all-NA columns when determining the result dtypes. To retain the old behavior, exclude the \n",
       "relevant entries before the concat operation.\n",
       "  results = pd.concat([results, normalized_data]) #.dropna(axis=1, how=\"all\")])\n"
      ]
     },
     "metadata": {},
     "output_type": "display_data"
    },
    {
     "data": {
      "text/html": [
       "<pre style=\"white-space:pre;overflow-x:auto;line-height:normal;font-family:Menlo,'DejaVu Sans Mono',consolas,'Courier New',monospace\">/var/folders/7t/k8q3439j6z3c683j7w00wtm80000gn/T/ipykernel_50509/330735155.py:26: FutureWarning: The behavior of \n",
       "DataFrame concatenation with empty or all-NA entries is deprecated. In a future version, this will no longer \n",
       "exclude empty or all-NA columns when determining the result dtypes. To retain the old behavior, exclude the \n",
       "relevant entries before the concat operation.\n",
       "  results = pd.concat([results, normalized_data]) #.dropna(axis=1, how=\"all\")])\n",
       "</pre>\n"
      ],
      "text/plain": [
       "/var/folders/7t/k8q3439j6z3c683j7w00wtm80000gn/T/ipykernel_50509/330735155.py:26: FutureWarning: The behavior of \n",
       "DataFrame concatenation with empty or all-NA entries is deprecated. In a future version, this will no longer \n",
       "exclude empty or all-NA columns when determining the result dtypes. To retain the old behavior, exclude the \n",
       "relevant entries before the concat operation.\n",
       "  results = pd.concat([results, normalized_data]) #.dropna(axis=1, how=\"all\")])\n"
      ]
     },
     "metadata": {},
     "output_type": "display_data"
    },
    {
     "data": {
      "text/html": [
       "<pre style=\"white-space:pre;overflow-x:auto;line-height:normal;font-family:Menlo,'DejaVu Sans Mono',consolas,'Courier New',monospace\">/var/folders/7t/k8q3439j6z3c683j7w00wtm80000gn/T/ipykernel_50509/330735155.py:26: FutureWarning: The behavior of \n",
       "DataFrame concatenation with empty or all-NA entries is deprecated. In a future version, this will no longer \n",
       "exclude empty or all-NA columns when determining the result dtypes. To retain the old behavior, exclude the \n",
       "relevant entries before the concat operation.\n",
       "  results = pd.concat([results, normalized_data]) #.dropna(axis=1, how=\"all\")])\n",
       "</pre>\n"
      ],
      "text/plain": [
       "/var/folders/7t/k8q3439j6z3c683j7w00wtm80000gn/T/ipykernel_50509/330735155.py:26: FutureWarning: The behavior of \n",
       "DataFrame concatenation with empty or all-NA entries is deprecated. In a future version, this will no longer \n",
       "exclude empty or all-NA columns when determining the result dtypes. To retain the old behavior, exclude the \n",
       "relevant entries before the concat operation.\n",
       "  results = pd.concat([results, normalized_data]) #.dropna(axis=1, how=\"all\")])\n"
      ]
     },
     "metadata": {},
     "output_type": "display_data"
    },
    {
     "data": {
      "text/html": [
       "<pre style=\"white-space:pre;overflow-x:auto;line-height:normal;font-family:Menlo,'DejaVu Sans Mono',consolas,'Courier New',monospace\">/var/folders/7t/k8q3439j6z3c683j7w00wtm80000gn/T/ipykernel_50509/330735155.py:26: FutureWarning: The behavior of \n",
       "DataFrame concatenation with empty or all-NA entries is deprecated. In a future version, this will no longer \n",
       "exclude empty or all-NA columns when determining the result dtypes. To retain the old behavior, exclude the \n",
       "relevant entries before the concat operation.\n",
       "  results = pd.concat([results, normalized_data]) #.dropna(axis=1, how=\"all\")])\n",
       "</pre>\n"
      ],
      "text/plain": [
       "/var/folders/7t/k8q3439j6z3c683j7w00wtm80000gn/T/ipykernel_50509/330735155.py:26: FutureWarning: The behavior of \n",
       "DataFrame concatenation with empty or all-NA entries is deprecated. In a future version, this will no longer \n",
       "exclude empty or all-NA columns when determining the result dtypes. To retain the old behavior, exclude the \n",
       "relevant entries before the concat operation.\n",
       "  results = pd.concat([results, normalized_data]) #.dropna(axis=1, how=\"all\")])\n"
      ]
     },
     "metadata": {},
     "output_type": "display_data"
    },
    {
     "data": {
      "text/html": [
       "<pre style=\"white-space:pre;overflow-x:auto;line-height:normal;font-family:Menlo,'DejaVu Sans Mono',consolas,'Courier New',monospace\">/var/folders/7t/k8q3439j6z3c683j7w00wtm80000gn/T/ipykernel_50509/330735155.py:26: FutureWarning: The behavior of \n",
       "DataFrame concatenation with empty or all-NA entries is deprecated. In a future version, this will no longer \n",
       "exclude empty or all-NA columns when determining the result dtypes. To retain the old behavior, exclude the \n",
       "relevant entries before the concat operation.\n",
       "  results = pd.concat([results, normalized_data]) #.dropna(axis=1, how=\"all\")])\n",
       "</pre>\n"
      ],
      "text/plain": [
       "/var/folders/7t/k8q3439j6z3c683j7w00wtm80000gn/T/ipykernel_50509/330735155.py:26: FutureWarning: The behavior of \n",
       "DataFrame concatenation with empty or all-NA entries is deprecated. In a future version, this will no longer \n",
       "exclude empty or all-NA columns when determining the result dtypes. To retain the old behavior, exclude the \n",
       "relevant entries before the concat operation.\n",
       "  results = pd.concat([results, normalized_data]) #.dropna(axis=1, how=\"all\")])\n"
      ]
     },
     "metadata": {},
     "output_type": "display_data"
    },
    {
     "data": {
      "text/html": [
       "<pre style=\"white-space:pre;overflow-x:auto;line-height:normal;font-family:Menlo,'DejaVu Sans Mono',consolas,'Courier New',monospace\">/var/folders/7t/k8q3439j6z3c683j7w00wtm80000gn/T/ipykernel_50509/330735155.py:26: FutureWarning: The behavior of \n",
       "DataFrame concatenation with empty or all-NA entries is deprecated. In a future version, this will no longer \n",
       "exclude empty or all-NA columns when determining the result dtypes. To retain the old behavior, exclude the \n",
       "relevant entries before the concat operation.\n",
       "  results = pd.concat([results, normalized_data]) #.dropna(axis=1, how=\"all\")])\n",
       "</pre>\n"
      ],
      "text/plain": [
       "/var/folders/7t/k8q3439j6z3c683j7w00wtm80000gn/T/ipykernel_50509/330735155.py:26: FutureWarning: The behavior of \n",
       "DataFrame concatenation with empty or all-NA entries is deprecated. In a future version, this will no longer \n",
       "exclude empty or all-NA columns when determining the result dtypes. To retain the old behavior, exclude the \n",
       "relevant entries before the concat operation.\n",
       "  results = pd.concat([results, normalized_data]) #.dropna(axis=1, how=\"all\")])\n"
      ]
     },
     "metadata": {},
     "output_type": "display_data"
    },
    {
     "data": {
      "text/html": [
       "<pre style=\"white-space:pre;overflow-x:auto;line-height:normal;font-family:Menlo,'DejaVu Sans Mono',consolas,'Courier New',monospace\">/var/folders/7t/k8q3439j6z3c683j7w00wtm80000gn/T/ipykernel_50509/330735155.py:26: FutureWarning: The behavior of \n",
       "DataFrame concatenation with empty or all-NA entries is deprecated. In a future version, this will no longer \n",
       "exclude empty or all-NA columns when determining the result dtypes. To retain the old behavior, exclude the \n",
       "relevant entries before the concat operation.\n",
       "  results = pd.concat([results, normalized_data]) #.dropna(axis=1, how=\"all\")])\n",
       "</pre>\n"
      ],
      "text/plain": [
       "/var/folders/7t/k8q3439j6z3c683j7w00wtm80000gn/T/ipykernel_50509/330735155.py:26: FutureWarning: The behavior of \n",
       "DataFrame concatenation with empty or all-NA entries is deprecated. In a future version, this will no longer \n",
       "exclude empty or all-NA columns when determining the result dtypes. To retain the old behavior, exclude the \n",
       "relevant entries before the concat operation.\n",
       "  results = pd.concat([results, normalized_data]) #.dropna(axis=1, how=\"all\")])\n"
      ]
     },
     "metadata": {},
     "output_type": "display_data"
    },
    {
     "data": {
      "text/html": [
       "<pre style=\"white-space:pre;overflow-x:auto;line-height:normal;font-family:Menlo,'DejaVu Sans Mono',consolas,'Courier New',monospace\">/var/folders/7t/k8q3439j6z3c683j7w00wtm80000gn/T/ipykernel_50509/330735155.py:26: FutureWarning: The behavior of \n",
       "DataFrame concatenation with empty or all-NA entries is deprecated. In a future version, this will no longer \n",
       "exclude empty or all-NA columns when determining the result dtypes. To retain the old behavior, exclude the \n",
       "relevant entries before the concat operation.\n",
       "  results = pd.concat([results, normalized_data]) #.dropna(axis=1, how=\"all\")])\n",
       "</pre>\n"
      ],
      "text/plain": [
       "/var/folders/7t/k8q3439j6z3c683j7w00wtm80000gn/T/ipykernel_50509/330735155.py:26: FutureWarning: The behavior of \n",
       "DataFrame concatenation with empty or all-NA entries is deprecated. In a future version, this will no longer \n",
       "exclude empty or all-NA columns when determining the result dtypes. To retain the old behavior, exclude the \n",
       "relevant entries before the concat operation.\n",
       "  results = pd.concat([results, normalized_data]) #.dropna(axis=1, how=\"all\")])\n"
      ]
     },
     "metadata": {},
     "output_type": "display_data"
    },
    {
     "data": {
      "text/html": [
       "<pre style=\"white-space:pre;overflow-x:auto;line-height:normal;font-family:Menlo,'DejaVu Sans Mono',consolas,'Courier New',monospace\">/var/folders/7t/k8q3439j6z3c683j7w00wtm80000gn/T/ipykernel_50509/330735155.py:26: FutureWarning: The behavior of \n",
       "DataFrame concatenation with empty or all-NA entries is deprecated. In a future version, this will no longer \n",
       "exclude empty or all-NA columns when determining the result dtypes. To retain the old behavior, exclude the \n",
       "relevant entries before the concat operation.\n",
       "  results = pd.concat([results, normalized_data]) #.dropna(axis=1, how=\"all\")])\n",
       "</pre>\n"
      ],
      "text/plain": [
       "/var/folders/7t/k8q3439j6z3c683j7w00wtm80000gn/T/ipykernel_50509/330735155.py:26: FutureWarning: The behavior of \n",
       "DataFrame concatenation with empty or all-NA entries is deprecated. In a future version, this will no longer \n",
       "exclude empty or all-NA columns when determining the result dtypes. To retain the old behavior, exclude the \n",
       "relevant entries before the concat operation.\n",
       "  results = pd.concat([results, normalized_data]) #.dropna(axis=1, how=\"all\")])\n"
      ]
     },
     "metadata": {},
     "output_type": "display_data"
    },
    {
     "data": {
      "text/html": [
       "<pre style=\"white-space:pre;overflow-x:auto;line-height:normal;font-family:Menlo,'DejaVu Sans Mono',consolas,'Courier New',monospace\">/var/folders/7t/k8q3439j6z3c683j7w00wtm80000gn/T/ipykernel_50509/330735155.py:26: FutureWarning: The behavior of \n",
       "DataFrame concatenation with empty or all-NA entries is deprecated. In a future version, this will no longer \n",
       "exclude empty or all-NA columns when determining the result dtypes. To retain the old behavior, exclude the \n",
       "relevant entries before the concat operation.\n",
       "  results = pd.concat([results, normalized_data]) #.dropna(axis=1, how=\"all\")])\n",
       "</pre>\n"
      ],
      "text/plain": [
       "/var/folders/7t/k8q3439j6z3c683j7w00wtm80000gn/T/ipykernel_50509/330735155.py:26: FutureWarning: The behavior of \n",
       "DataFrame concatenation with empty or all-NA entries is deprecated. In a future version, this will no longer \n",
       "exclude empty or all-NA columns when determining the result dtypes. To retain the old behavior, exclude the \n",
       "relevant entries before the concat operation.\n",
       "  results = pd.concat([results, normalized_data]) #.dropna(axis=1, how=\"all\")])\n"
      ]
     },
     "metadata": {},
     "output_type": "display_data"
    },
    {
     "data": {
      "text/html": [
       "<pre style=\"white-space:pre;overflow-x:auto;line-height:normal;font-family:Menlo,'DejaVu Sans Mono',consolas,'Courier New',monospace\">/var/folders/7t/k8q3439j6z3c683j7w00wtm80000gn/T/ipykernel_50509/330735155.py:26: FutureWarning: The behavior of \n",
       "DataFrame concatenation with empty or all-NA entries is deprecated. In a future version, this will no longer \n",
       "exclude empty or all-NA columns when determining the result dtypes. To retain the old behavior, exclude the \n",
       "relevant entries before the concat operation.\n",
       "  results = pd.concat([results, normalized_data]) #.dropna(axis=1, how=\"all\")])\n",
       "</pre>\n"
      ],
      "text/plain": [
       "/var/folders/7t/k8q3439j6z3c683j7w00wtm80000gn/T/ipykernel_50509/330735155.py:26: FutureWarning: The behavior of \n",
       "DataFrame concatenation with empty or all-NA entries is deprecated. In a future version, this will no longer \n",
       "exclude empty or all-NA columns when determining the result dtypes. To retain the old behavior, exclude the \n",
       "relevant entries before the concat operation.\n",
       "  results = pd.concat([results, normalized_data]) #.dropna(axis=1, how=\"all\")])\n"
      ]
     },
     "metadata": {},
     "output_type": "display_data"
    },
    {
     "data": {
      "text/html": [
       "<pre style=\"white-space:pre;overflow-x:auto;line-height:normal;font-family:Menlo,'DejaVu Sans Mono',consolas,'Courier New',monospace\">/var/folders/7t/k8q3439j6z3c683j7w00wtm80000gn/T/ipykernel_50509/330735155.py:26: FutureWarning: The behavior of \n",
       "DataFrame concatenation with empty or all-NA entries is deprecated. In a future version, this will no longer \n",
       "exclude empty or all-NA columns when determining the result dtypes. To retain the old behavior, exclude the \n",
       "relevant entries before the concat operation.\n",
       "  results = pd.concat([results, normalized_data]) #.dropna(axis=1, how=\"all\")])\n",
       "</pre>\n"
      ],
      "text/plain": [
       "/var/folders/7t/k8q3439j6z3c683j7w00wtm80000gn/T/ipykernel_50509/330735155.py:26: FutureWarning: The behavior of \n",
       "DataFrame concatenation with empty or all-NA entries is deprecated. In a future version, this will no longer \n",
       "exclude empty or all-NA columns when determining the result dtypes. To retain the old behavior, exclude the \n",
       "relevant entries before the concat operation.\n",
       "  results = pd.concat([results, normalized_data]) #.dropna(axis=1, how=\"all\")])\n"
      ]
     },
     "metadata": {},
     "output_type": "display_data"
    },
    {
     "data": {
      "text/html": [
       "<pre style=\"white-space:pre;overflow-x:auto;line-height:normal;font-family:Menlo,'DejaVu Sans Mono',consolas,'Courier New',monospace\">/var/folders/7t/k8q3439j6z3c683j7w00wtm80000gn/T/ipykernel_50509/330735155.py:26: FutureWarning: The behavior of \n",
       "DataFrame concatenation with empty or all-NA entries is deprecated. In a future version, this will no longer \n",
       "exclude empty or all-NA columns when determining the result dtypes. To retain the old behavior, exclude the \n",
       "relevant entries before the concat operation.\n",
       "  results = pd.concat([results, normalized_data]) #.dropna(axis=1, how=\"all\")])\n",
       "</pre>\n"
      ],
      "text/plain": [
       "/var/folders/7t/k8q3439j6z3c683j7w00wtm80000gn/T/ipykernel_50509/330735155.py:26: FutureWarning: The behavior of \n",
       "DataFrame concatenation with empty or all-NA entries is deprecated. In a future version, this will no longer \n",
       "exclude empty or all-NA columns when determining the result dtypes. To retain the old behavior, exclude the \n",
       "relevant entries before the concat operation.\n",
       "  results = pd.concat([results, normalized_data]) #.dropna(axis=1, how=\"all\")])\n"
      ]
     },
     "metadata": {},
     "output_type": "display_data"
    },
    {
     "data": {
      "text/html": [
       "<pre style=\"white-space:pre;overflow-x:auto;line-height:normal;font-family:Menlo,'DejaVu Sans Mono',consolas,'Courier New',monospace\">/var/folders/7t/k8q3439j6z3c683j7w00wtm80000gn/T/ipykernel_50509/330735155.py:26: FutureWarning: The behavior of \n",
       "DataFrame concatenation with empty or all-NA entries is deprecated. In a future version, this will no longer \n",
       "exclude empty or all-NA columns when determining the result dtypes. To retain the old behavior, exclude the \n",
       "relevant entries before the concat operation.\n",
       "  results = pd.concat([results, normalized_data]) #.dropna(axis=1, how=\"all\")])\n",
       "</pre>\n"
      ],
      "text/plain": [
       "/var/folders/7t/k8q3439j6z3c683j7w00wtm80000gn/T/ipykernel_50509/330735155.py:26: FutureWarning: The behavior of \n",
       "DataFrame concatenation with empty or all-NA entries is deprecated. In a future version, this will no longer \n",
       "exclude empty or all-NA columns when determining the result dtypes. To retain the old behavior, exclude the \n",
       "relevant entries before the concat operation.\n",
       "  results = pd.concat([results, normalized_data]) #.dropna(axis=1, how=\"all\")])\n"
      ]
     },
     "metadata": {},
     "output_type": "display_data"
    },
    {
     "data": {
      "text/html": [
       "<pre style=\"white-space:pre;overflow-x:auto;line-height:normal;font-family:Menlo,'DejaVu Sans Mono',consolas,'Courier New',monospace\">/var/folders/7t/k8q3439j6z3c683j7w00wtm80000gn/T/ipykernel_50509/330735155.py:26: FutureWarning: The behavior of \n",
       "DataFrame concatenation with empty or all-NA entries is deprecated. In a future version, this will no longer \n",
       "exclude empty or all-NA columns when determining the result dtypes. To retain the old behavior, exclude the \n",
       "relevant entries before the concat operation.\n",
       "  results = pd.concat([results, normalized_data]) #.dropna(axis=1, how=\"all\")])\n",
       "</pre>\n"
      ],
      "text/plain": [
       "/var/folders/7t/k8q3439j6z3c683j7w00wtm80000gn/T/ipykernel_50509/330735155.py:26: FutureWarning: The behavior of \n",
       "DataFrame concatenation with empty or all-NA entries is deprecated. In a future version, this will no longer \n",
       "exclude empty or all-NA columns when determining the result dtypes. To retain the old behavior, exclude the \n",
       "relevant entries before the concat operation.\n",
       "  results = pd.concat([results, normalized_data]) #.dropna(axis=1, how=\"all\")])\n"
      ]
     },
     "metadata": {},
     "output_type": "display_data"
    },
    {
     "data": {
      "text/html": [
       "<pre style=\"white-space:pre;overflow-x:auto;line-height:normal;font-family:Menlo,'DejaVu Sans Mono',consolas,'Courier New',monospace\">/var/folders/7t/k8q3439j6z3c683j7w00wtm80000gn/T/ipykernel_50509/330735155.py:26: FutureWarning: The behavior of \n",
       "DataFrame concatenation with empty or all-NA entries is deprecated. In a future version, this will no longer \n",
       "exclude empty or all-NA columns when determining the result dtypes. To retain the old behavior, exclude the \n",
       "relevant entries before the concat operation.\n",
       "  results = pd.concat([results, normalized_data]) #.dropna(axis=1, how=\"all\")])\n",
       "</pre>\n"
      ],
      "text/plain": [
       "/var/folders/7t/k8q3439j6z3c683j7w00wtm80000gn/T/ipykernel_50509/330735155.py:26: FutureWarning: The behavior of \n",
       "DataFrame concatenation with empty or all-NA entries is deprecated. In a future version, this will no longer \n",
       "exclude empty or all-NA columns when determining the result dtypes. To retain the old behavior, exclude the \n",
       "relevant entries before the concat operation.\n",
       "  results = pd.concat([results, normalized_data]) #.dropna(axis=1, how=\"all\")])\n"
      ]
     },
     "metadata": {},
     "output_type": "display_data"
    },
    {
     "data": {
      "text/html": [
       "<pre style=\"white-space:pre;overflow-x:auto;line-height:normal;font-family:Menlo,'DejaVu Sans Mono',consolas,'Courier New',monospace\">/var/folders/7t/k8q3439j6z3c683j7w00wtm80000gn/T/ipykernel_50509/330735155.py:26: FutureWarning: The behavior of \n",
       "DataFrame concatenation with empty or all-NA entries is deprecated. In a future version, this will no longer \n",
       "exclude empty or all-NA columns when determining the result dtypes. To retain the old behavior, exclude the \n",
       "relevant entries before the concat operation.\n",
       "  results = pd.concat([results, normalized_data]) #.dropna(axis=1, how=\"all\")])\n",
       "</pre>\n"
      ],
      "text/plain": [
       "/var/folders/7t/k8q3439j6z3c683j7w00wtm80000gn/T/ipykernel_50509/330735155.py:26: FutureWarning: The behavior of \n",
       "DataFrame concatenation with empty or all-NA entries is deprecated. In a future version, this will no longer \n",
       "exclude empty or all-NA columns when determining the result dtypes. To retain the old behavior, exclude the \n",
       "relevant entries before the concat operation.\n",
       "  results = pd.concat([results, normalized_data]) #.dropna(axis=1, how=\"all\")])\n"
      ]
     },
     "metadata": {},
     "output_type": "display_data"
    },
    {
     "data": {
      "text/html": [
       "<pre style=\"white-space:pre;overflow-x:auto;line-height:normal;font-family:Menlo,'DejaVu Sans Mono',consolas,'Courier New',monospace\">/var/folders/7t/k8q3439j6z3c683j7w00wtm80000gn/T/ipykernel_50509/330735155.py:26: FutureWarning: The behavior of \n",
       "DataFrame concatenation with empty or all-NA entries is deprecated. In a future version, this will no longer \n",
       "exclude empty or all-NA columns when determining the result dtypes. To retain the old behavior, exclude the \n",
       "relevant entries before the concat operation.\n",
       "  results = pd.concat([results, normalized_data]) #.dropna(axis=1, how=\"all\")])\n",
       "</pre>\n"
      ],
      "text/plain": [
       "/var/folders/7t/k8q3439j6z3c683j7w00wtm80000gn/T/ipykernel_50509/330735155.py:26: FutureWarning: The behavior of \n",
       "DataFrame concatenation with empty or all-NA entries is deprecated. In a future version, this will no longer \n",
       "exclude empty or all-NA columns when determining the result dtypes. To retain the old behavior, exclude the \n",
       "relevant entries before the concat operation.\n",
       "  results = pd.concat([results, normalized_data]) #.dropna(axis=1, how=\"all\")])\n"
      ]
     },
     "metadata": {},
     "output_type": "display_data"
    },
    {
     "data": {
      "text/html": [
       "<pre style=\"white-space:pre;overflow-x:auto;line-height:normal;font-family:Menlo,'DejaVu Sans Mono',consolas,'Courier New',monospace\">/var/folders/7t/k8q3439j6z3c683j7w00wtm80000gn/T/ipykernel_50509/330735155.py:26: FutureWarning: The behavior of \n",
       "DataFrame concatenation with empty or all-NA entries is deprecated. In a future version, this will no longer \n",
       "exclude empty or all-NA columns when determining the result dtypes. To retain the old behavior, exclude the \n",
       "relevant entries before the concat operation.\n",
       "  results = pd.concat([results, normalized_data]) #.dropna(axis=1, how=\"all\")])\n",
       "</pre>\n"
      ],
      "text/plain": [
       "/var/folders/7t/k8q3439j6z3c683j7w00wtm80000gn/T/ipykernel_50509/330735155.py:26: FutureWarning: The behavior of \n",
       "DataFrame concatenation with empty or all-NA entries is deprecated. In a future version, this will no longer \n",
       "exclude empty or all-NA columns when determining the result dtypes. To retain the old behavior, exclude the \n",
       "relevant entries before the concat operation.\n",
       "  results = pd.concat([results, normalized_data]) #.dropna(axis=1, how=\"all\")])\n"
      ]
     },
     "metadata": {},
     "output_type": "display_data"
    },
    {
     "data": {
      "text/html": [
       "<pre style=\"white-space:pre;overflow-x:auto;line-height:normal;font-family:Menlo,'DejaVu Sans Mono',consolas,'Courier New',monospace\">/var/folders/7t/k8q3439j6z3c683j7w00wtm80000gn/T/ipykernel_50509/330735155.py:26: FutureWarning: The behavior of \n",
       "DataFrame concatenation with empty or all-NA entries is deprecated. In a future version, this will no longer \n",
       "exclude empty or all-NA columns when determining the result dtypes. To retain the old behavior, exclude the \n",
       "relevant entries before the concat operation.\n",
       "  results = pd.concat([results, normalized_data]) #.dropna(axis=1, how=\"all\")])\n",
       "</pre>\n"
      ],
      "text/plain": [
       "/var/folders/7t/k8q3439j6z3c683j7w00wtm80000gn/T/ipykernel_50509/330735155.py:26: FutureWarning: The behavior of \n",
       "DataFrame concatenation with empty or all-NA entries is deprecated. In a future version, this will no longer \n",
       "exclude empty or all-NA columns when determining the result dtypes. To retain the old behavior, exclude the \n",
       "relevant entries before the concat operation.\n",
       "  results = pd.concat([results, normalized_data]) #.dropna(axis=1, how=\"all\")])\n"
      ]
     },
     "metadata": {},
     "output_type": "display_data"
    },
    {
     "data": {
      "text/html": [
       "<pre style=\"white-space:pre;overflow-x:auto;line-height:normal;font-family:Menlo,'DejaVu Sans Mono',consolas,'Courier New',monospace\">/var/folders/7t/k8q3439j6z3c683j7w00wtm80000gn/T/ipykernel_50509/330735155.py:26: FutureWarning: The behavior of \n",
       "DataFrame concatenation with empty or all-NA entries is deprecated. In a future version, this will no longer \n",
       "exclude empty or all-NA columns when determining the result dtypes. To retain the old behavior, exclude the \n",
       "relevant entries before the concat operation.\n",
       "  results = pd.concat([results, normalized_data]) #.dropna(axis=1, how=\"all\")])\n",
       "</pre>\n"
      ],
      "text/plain": [
       "/var/folders/7t/k8q3439j6z3c683j7w00wtm80000gn/T/ipykernel_50509/330735155.py:26: FutureWarning: The behavior of \n",
       "DataFrame concatenation with empty or all-NA entries is deprecated. In a future version, this will no longer \n",
       "exclude empty or all-NA columns when determining the result dtypes. To retain the old behavior, exclude the \n",
       "relevant entries before the concat operation.\n",
       "  results = pd.concat([results, normalized_data]) #.dropna(axis=1, how=\"all\")])\n"
      ]
     },
     "metadata": {},
     "output_type": "display_data"
    },
    {
     "data": {
      "text/html": [
       "<pre style=\"white-space:pre;overflow-x:auto;line-height:normal;font-family:Menlo,'DejaVu Sans Mono',consolas,'Courier New',monospace\">/var/folders/7t/k8q3439j6z3c683j7w00wtm80000gn/T/ipykernel_50509/330735155.py:26: FutureWarning: The behavior of \n",
       "DataFrame concatenation with empty or all-NA entries is deprecated. In a future version, this will no longer \n",
       "exclude empty or all-NA columns when determining the result dtypes. To retain the old behavior, exclude the \n",
       "relevant entries before the concat operation.\n",
       "  results = pd.concat([results, normalized_data]) #.dropna(axis=1, how=\"all\")])\n",
       "</pre>\n"
      ],
      "text/plain": [
       "/var/folders/7t/k8q3439j6z3c683j7w00wtm80000gn/T/ipykernel_50509/330735155.py:26: FutureWarning: The behavior of \n",
       "DataFrame concatenation with empty or all-NA entries is deprecated. In a future version, this will no longer \n",
       "exclude empty or all-NA columns when determining the result dtypes. To retain the old behavior, exclude the \n",
       "relevant entries before the concat operation.\n",
       "  results = pd.concat([results, normalized_data]) #.dropna(axis=1, how=\"all\")])\n"
      ]
     },
     "metadata": {},
     "output_type": "display_data"
    },
    {
     "data": {
      "text/html": [
       "<pre style=\"white-space:pre;overflow-x:auto;line-height:normal;font-family:Menlo,'DejaVu Sans Mono',consolas,'Courier New',monospace\">/var/folders/7t/k8q3439j6z3c683j7w00wtm80000gn/T/ipykernel_50509/330735155.py:26: FutureWarning: The behavior of \n",
       "DataFrame concatenation with empty or all-NA entries is deprecated. In a future version, this will no longer \n",
       "exclude empty or all-NA columns when determining the result dtypes. To retain the old behavior, exclude the \n",
       "relevant entries before the concat operation.\n",
       "  results = pd.concat([results, normalized_data]) #.dropna(axis=1, how=\"all\")])\n",
       "</pre>\n"
      ],
      "text/plain": [
       "/var/folders/7t/k8q3439j6z3c683j7w00wtm80000gn/T/ipykernel_50509/330735155.py:26: FutureWarning: The behavior of \n",
       "DataFrame concatenation with empty or all-NA entries is deprecated. In a future version, this will no longer \n",
       "exclude empty or all-NA columns when determining the result dtypes. To retain the old behavior, exclude the \n",
       "relevant entries before the concat operation.\n",
       "  results = pd.concat([results, normalized_data]) #.dropna(axis=1, how=\"all\")])\n"
      ]
     },
     "metadata": {},
     "output_type": "display_data"
    },
    {
     "data": {
      "text/html": [
       "<pre style=\"white-space:pre;overflow-x:auto;line-height:normal;font-family:Menlo,'DejaVu Sans Mono',consolas,'Courier New',monospace\">/var/folders/7t/k8q3439j6z3c683j7w00wtm80000gn/T/ipykernel_50509/330735155.py:26: FutureWarning: The behavior of \n",
       "DataFrame concatenation with empty or all-NA entries is deprecated. In a future version, this will no longer \n",
       "exclude empty or all-NA columns when determining the result dtypes. To retain the old behavior, exclude the \n",
       "relevant entries before the concat operation.\n",
       "  results = pd.concat([results, normalized_data]) #.dropna(axis=1, how=\"all\")])\n",
       "</pre>\n"
      ],
      "text/plain": [
       "/var/folders/7t/k8q3439j6z3c683j7w00wtm80000gn/T/ipykernel_50509/330735155.py:26: FutureWarning: The behavior of \n",
       "DataFrame concatenation with empty or all-NA entries is deprecated. In a future version, this will no longer \n",
       "exclude empty or all-NA columns when determining the result dtypes. To retain the old behavior, exclude the \n",
       "relevant entries before the concat operation.\n",
       "  results = pd.concat([results, normalized_data]) #.dropna(axis=1, how=\"all\")])\n"
      ]
     },
     "metadata": {},
     "output_type": "display_data"
    },
    {
     "data": {
      "text/html": [
       "<pre style=\"white-space:pre;overflow-x:auto;line-height:normal;font-family:Menlo,'DejaVu Sans Mono',consolas,'Courier New',monospace\">/var/folders/7t/k8q3439j6z3c683j7w00wtm80000gn/T/ipykernel_50509/330735155.py:26: FutureWarning: The behavior of \n",
       "DataFrame concatenation with empty or all-NA entries is deprecated. In a future version, this will no longer \n",
       "exclude empty or all-NA columns when determining the result dtypes. To retain the old behavior, exclude the \n",
       "relevant entries before the concat operation.\n",
       "  results = pd.concat([results, normalized_data]) #.dropna(axis=1, how=\"all\")])\n",
       "</pre>\n"
      ],
      "text/plain": [
       "/var/folders/7t/k8q3439j6z3c683j7w00wtm80000gn/T/ipykernel_50509/330735155.py:26: FutureWarning: The behavior of \n",
       "DataFrame concatenation with empty or all-NA entries is deprecated. In a future version, this will no longer \n",
       "exclude empty or all-NA columns when determining the result dtypes. To retain the old behavior, exclude the \n",
       "relevant entries before the concat operation.\n",
       "  results = pd.concat([results, normalized_data]) #.dropna(axis=1, how=\"all\")])\n"
      ]
     },
     "metadata": {},
     "output_type": "display_data"
    },
    {
     "data": {
      "text/html": [
       "<pre style=\"white-space:pre;overflow-x:auto;line-height:normal;font-family:Menlo,'DejaVu Sans Mono',consolas,'Courier New',monospace\">/var/folders/7t/k8q3439j6z3c683j7w00wtm80000gn/T/ipykernel_50509/330735155.py:26: FutureWarning: The behavior of \n",
       "DataFrame concatenation with empty or all-NA entries is deprecated. In a future version, this will no longer \n",
       "exclude empty or all-NA columns when determining the result dtypes. To retain the old behavior, exclude the \n",
       "relevant entries before the concat operation.\n",
       "  results = pd.concat([results, normalized_data]) #.dropna(axis=1, how=\"all\")])\n",
       "</pre>\n"
      ],
      "text/plain": [
       "/var/folders/7t/k8q3439j6z3c683j7w00wtm80000gn/T/ipykernel_50509/330735155.py:26: FutureWarning: The behavior of \n",
       "DataFrame concatenation with empty or all-NA entries is deprecated. In a future version, this will no longer \n",
       "exclude empty or all-NA columns when determining the result dtypes. To retain the old behavior, exclude the \n",
       "relevant entries before the concat operation.\n",
       "  results = pd.concat([results, normalized_data]) #.dropna(axis=1, how=\"all\")])\n"
      ]
     },
     "metadata": {},
     "output_type": "display_data"
    },
    {
     "data": {
      "text/html": [
       "<pre style=\"white-space:pre;overflow-x:auto;line-height:normal;font-family:Menlo,'DejaVu Sans Mono',consolas,'Courier New',monospace\">/var/folders/7t/k8q3439j6z3c683j7w00wtm80000gn/T/ipykernel_50509/330735155.py:26: FutureWarning: The behavior of \n",
       "DataFrame concatenation with empty or all-NA entries is deprecated. In a future version, this will no longer \n",
       "exclude empty or all-NA columns when determining the result dtypes. To retain the old behavior, exclude the \n",
       "relevant entries before the concat operation.\n",
       "  results = pd.concat([results, normalized_data]) #.dropna(axis=1, how=\"all\")])\n",
       "</pre>\n"
      ],
      "text/plain": [
       "/var/folders/7t/k8q3439j6z3c683j7w00wtm80000gn/T/ipykernel_50509/330735155.py:26: FutureWarning: The behavior of \n",
       "DataFrame concatenation with empty or all-NA entries is deprecated. In a future version, this will no longer \n",
       "exclude empty or all-NA columns when determining the result dtypes. To retain the old behavior, exclude the \n",
       "relevant entries before the concat operation.\n",
       "  results = pd.concat([results, normalized_data]) #.dropna(axis=1, how=\"all\")])\n"
      ]
     },
     "metadata": {},
     "output_type": "display_data"
    },
    {
     "data": {
      "text/html": [
       "<pre style=\"white-space:pre;overflow-x:auto;line-height:normal;font-family:Menlo,'DejaVu Sans Mono',consolas,'Courier New',monospace\">/var/folders/7t/k8q3439j6z3c683j7w00wtm80000gn/T/ipykernel_50509/330735155.py:26: FutureWarning: The behavior of \n",
       "DataFrame concatenation with empty or all-NA entries is deprecated. In a future version, this will no longer \n",
       "exclude empty or all-NA columns when determining the result dtypes. To retain the old behavior, exclude the \n",
       "relevant entries before the concat operation.\n",
       "  results = pd.concat([results, normalized_data]) #.dropna(axis=1, how=\"all\")])\n",
       "</pre>\n"
      ],
      "text/plain": [
       "/var/folders/7t/k8q3439j6z3c683j7w00wtm80000gn/T/ipykernel_50509/330735155.py:26: FutureWarning: The behavior of \n",
       "DataFrame concatenation with empty or all-NA entries is deprecated. In a future version, this will no longer \n",
       "exclude empty or all-NA columns when determining the result dtypes. To retain the old behavior, exclude the \n",
       "relevant entries before the concat operation.\n",
       "  results = pd.concat([results, normalized_data]) #.dropna(axis=1, how=\"all\")])\n"
      ]
     },
     "metadata": {},
     "output_type": "display_data"
    },
    {
     "data": {
      "text/html": [
       "<pre style=\"white-space:pre;overflow-x:auto;line-height:normal;font-family:Menlo,'DejaVu Sans Mono',consolas,'Courier New',monospace\">/var/folders/7t/k8q3439j6z3c683j7w00wtm80000gn/T/ipykernel_50509/330735155.py:26: FutureWarning: The behavior of \n",
       "DataFrame concatenation with empty or all-NA entries is deprecated. In a future version, this will no longer \n",
       "exclude empty or all-NA columns when determining the result dtypes. To retain the old behavior, exclude the \n",
       "relevant entries before the concat operation.\n",
       "  results = pd.concat([results, normalized_data]) #.dropna(axis=1, how=\"all\")])\n",
       "</pre>\n"
      ],
      "text/plain": [
       "/var/folders/7t/k8q3439j6z3c683j7w00wtm80000gn/T/ipykernel_50509/330735155.py:26: FutureWarning: The behavior of \n",
       "DataFrame concatenation with empty or all-NA entries is deprecated. In a future version, this will no longer \n",
       "exclude empty or all-NA columns when determining the result dtypes. To retain the old behavior, exclude the \n",
       "relevant entries before the concat operation.\n",
       "  results = pd.concat([results, normalized_data]) #.dropna(axis=1, how=\"all\")])\n"
      ]
     },
     "metadata": {},
     "output_type": "display_data"
    },
    {
     "data": {
      "text/html": [
       "<pre style=\"white-space:pre;overflow-x:auto;line-height:normal;font-family:Menlo,'DejaVu Sans Mono',consolas,'Courier New',monospace\">/var/folders/7t/k8q3439j6z3c683j7w00wtm80000gn/T/ipykernel_50509/330735155.py:26: FutureWarning: The behavior of \n",
       "DataFrame concatenation with empty or all-NA entries is deprecated. In a future version, this will no longer \n",
       "exclude empty or all-NA columns when determining the result dtypes. To retain the old behavior, exclude the \n",
       "relevant entries before the concat operation.\n",
       "  results = pd.concat([results, normalized_data]) #.dropna(axis=1, how=\"all\")])\n",
       "</pre>\n"
      ],
      "text/plain": [
       "/var/folders/7t/k8q3439j6z3c683j7w00wtm80000gn/T/ipykernel_50509/330735155.py:26: FutureWarning: The behavior of \n",
       "DataFrame concatenation with empty or all-NA entries is deprecated. In a future version, this will no longer \n",
       "exclude empty or all-NA columns when determining the result dtypes. To retain the old behavior, exclude the \n",
       "relevant entries before the concat operation.\n",
       "  results = pd.concat([results, normalized_data]) #.dropna(axis=1, how=\"all\")])\n"
      ]
     },
     "metadata": {},
     "output_type": "display_data"
    },
    {
     "data": {
      "text/html": [
       "<pre style=\"white-space:pre;overflow-x:auto;line-height:normal;font-family:Menlo,'DejaVu Sans Mono',consolas,'Courier New',monospace\">/var/folders/7t/k8q3439j6z3c683j7w00wtm80000gn/T/ipykernel_50509/330735155.py:26: FutureWarning: The behavior of \n",
       "DataFrame concatenation with empty or all-NA entries is deprecated. In a future version, this will no longer \n",
       "exclude empty or all-NA columns when determining the result dtypes. To retain the old behavior, exclude the \n",
       "relevant entries before the concat operation.\n",
       "  results = pd.concat([results, normalized_data]) #.dropna(axis=1, how=\"all\")])\n",
       "</pre>\n"
      ],
      "text/plain": [
       "/var/folders/7t/k8q3439j6z3c683j7w00wtm80000gn/T/ipykernel_50509/330735155.py:26: FutureWarning: The behavior of \n",
       "DataFrame concatenation with empty or all-NA entries is deprecated. In a future version, this will no longer \n",
       "exclude empty or all-NA columns when determining the result dtypes. To retain the old behavior, exclude the \n",
       "relevant entries before the concat operation.\n",
       "  results = pd.concat([results, normalized_data]) #.dropna(axis=1, how=\"all\")])\n"
      ]
     },
     "metadata": {},
     "output_type": "display_data"
    },
    {
     "data": {
      "text/html": [
       "<pre style=\"white-space:pre;overflow-x:auto;line-height:normal;font-family:Menlo,'DejaVu Sans Mono',consolas,'Courier New',monospace\">/var/folders/7t/k8q3439j6z3c683j7w00wtm80000gn/T/ipykernel_50509/330735155.py:26: FutureWarning: The behavior of \n",
       "DataFrame concatenation with empty or all-NA entries is deprecated. In a future version, this will no longer \n",
       "exclude empty or all-NA columns when determining the result dtypes. To retain the old behavior, exclude the \n",
       "relevant entries before the concat operation.\n",
       "  results = pd.concat([results, normalized_data]) #.dropna(axis=1, how=\"all\")])\n",
       "</pre>\n"
      ],
      "text/plain": [
       "/var/folders/7t/k8q3439j6z3c683j7w00wtm80000gn/T/ipykernel_50509/330735155.py:26: FutureWarning: The behavior of \n",
       "DataFrame concatenation with empty or all-NA entries is deprecated. In a future version, this will no longer \n",
       "exclude empty or all-NA columns when determining the result dtypes. To retain the old behavior, exclude the \n",
       "relevant entries before the concat operation.\n",
       "  results = pd.concat([results, normalized_data]) #.dropna(axis=1, how=\"all\")])\n"
      ]
     },
     "metadata": {},
     "output_type": "display_data"
    },
    {
     "data": {
      "text/html": [
       "<pre style=\"white-space:pre;overflow-x:auto;line-height:normal;font-family:Menlo,'DejaVu Sans Mono',consolas,'Courier New',monospace\">/var/folders/7t/k8q3439j6z3c683j7w00wtm80000gn/T/ipykernel_50509/330735155.py:26: FutureWarning: The behavior of \n",
       "DataFrame concatenation with empty or all-NA entries is deprecated. In a future version, this will no longer \n",
       "exclude empty or all-NA columns when determining the result dtypes. To retain the old behavior, exclude the \n",
       "relevant entries before the concat operation.\n",
       "  results = pd.concat([results, normalized_data]) #.dropna(axis=1, how=\"all\")])\n",
       "</pre>\n"
      ],
      "text/plain": [
       "/var/folders/7t/k8q3439j6z3c683j7w00wtm80000gn/T/ipykernel_50509/330735155.py:26: FutureWarning: The behavior of \n",
       "DataFrame concatenation with empty or all-NA entries is deprecated. In a future version, this will no longer \n",
       "exclude empty or all-NA columns when determining the result dtypes. To retain the old behavior, exclude the \n",
       "relevant entries before the concat operation.\n",
       "  results = pd.concat([results, normalized_data]) #.dropna(axis=1, how=\"all\")])\n"
      ]
     },
     "metadata": {},
     "output_type": "display_data"
    },
    {
     "data": {
      "text/html": [
       "<pre style=\"white-space:pre;overflow-x:auto;line-height:normal;font-family:Menlo,'DejaVu Sans Mono',consolas,'Courier New',monospace\">/var/folders/7t/k8q3439j6z3c683j7w00wtm80000gn/T/ipykernel_50509/330735155.py:26: FutureWarning: The behavior of \n",
       "DataFrame concatenation with empty or all-NA entries is deprecated. In a future version, this will no longer \n",
       "exclude empty or all-NA columns when determining the result dtypes. To retain the old behavior, exclude the \n",
       "relevant entries before the concat operation.\n",
       "  results = pd.concat([results, normalized_data]) #.dropna(axis=1, how=\"all\")])\n",
       "</pre>\n"
      ],
      "text/plain": [
       "/var/folders/7t/k8q3439j6z3c683j7w00wtm80000gn/T/ipykernel_50509/330735155.py:26: FutureWarning: The behavior of \n",
       "DataFrame concatenation with empty or all-NA entries is deprecated. In a future version, this will no longer \n",
       "exclude empty or all-NA columns when determining the result dtypes. To retain the old behavior, exclude the \n",
       "relevant entries before the concat operation.\n",
       "  results = pd.concat([results, normalized_data]) #.dropna(axis=1, how=\"all\")])\n"
      ]
     },
     "metadata": {},
     "output_type": "display_data"
    },
    {
     "data": {
      "text/html": [
       "<pre style=\"white-space:pre;overflow-x:auto;line-height:normal;font-family:Menlo,'DejaVu Sans Mono',consolas,'Courier New',monospace\">/var/folders/7t/k8q3439j6z3c683j7w00wtm80000gn/T/ipykernel_50509/330735155.py:26: FutureWarning: The behavior of \n",
       "DataFrame concatenation with empty or all-NA entries is deprecated. In a future version, this will no longer \n",
       "exclude empty or all-NA columns when determining the result dtypes. To retain the old behavior, exclude the \n",
       "relevant entries before the concat operation.\n",
       "  results = pd.concat([results, normalized_data]) #.dropna(axis=1, how=\"all\")])\n",
       "</pre>\n"
      ],
      "text/plain": [
       "/var/folders/7t/k8q3439j6z3c683j7w00wtm80000gn/T/ipykernel_50509/330735155.py:26: FutureWarning: The behavior of \n",
       "DataFrame concatenation with empty or all-NA entries is deprecated. In a future version, this will no longer \n",
       "exclude empty or all-NA columns when determining the result dtypes. To retain the old behavior, exclude the \n",
       "relevant entries before the concat operation.\n",
       "  results = pd.concat([results, normalized_data]) #.dropna(axis=1, how=\"all\")])\n"
      ]
     },
     "metadata": {},
     "output_type": "display_data"
    },
    {
     "data": {
      "text/html": [
       "<pre style=\"white-space:pre;overflow-x:auto;line-height:normal;font-family:Menlo,'DejaVu Sans Mono',consolas,'Courier New',monospace\">/var/folders/7t/k8q3439j6z3c683j7w00wtm80000gn/T/ipykernel_50509/330735155.py:26: FutureWarning: The behavior of \n",
       "DataFrame concatenation with empty or all-NA entries is deprecated. In a future version, this will no longer \n",
       "exclude empty or all-NA columns when determining the result dtypes. To retain the old behavior, exclude the \n",
       "relevant entries before the concat operation.\n",
       "  results = pd.concat([results, normalized_data]) #.dropna(axis=1, how=\"all\")])\n",
       "</pre>\n"
      ],
      "text/plain": [
       "/var/folders/7t/k8q3439j6z3c683j7w00wtm80000gn/T/ipykernel_50509/330735155.py:26: FutureWarning: The behavior of \n",
       "DataFrame concatenation with empty or all-NA entries is deprecated. In a future version, this will no longer \n",
       "exclude empty or all-NA columns when determining the result dtypes. To retain the old behavior, exclude the \n",
       "relevant entries before the concat operation.\n",
       "  results = pd.concat([results, normalized_data]) #.dropna(axis=1, how=\"all\")])\n"
      ]
     },
     "metadata": {},
     "output_type": "display_data"
    },
    {
     "data": {
      "text/html": [
       "<pre style=\"white-space:pre;overflow-x:auto;line-height:normal;font-family:Menlo,'DejaVu Sans Mono',consolas,'Courier New',monospace\">/var/folders/7t/k8q3439j6z3c683j7w00wtm80000gn/T/ipykernel_50509/330735155.py:26: FutureWarning: The behavior of \n",
       "DataFrame concatenation with empty or all-NA entries is deprecated. In a future version, this will no longer \n",
       "exclude empty or all-NA columns when determining the result dtypes. To retain the old behavior, exclude the \n",
       "relevant entries before the concat operation.\n",
       "  results = pd.concat([results, normalized_data]) #.dropna(axis=1, how=\"all\")])\n",
       "</pre>\n"
      ],
      "text/plain": [
       "/var/folders/7t/k8q3439j6z3c683j7w00wtm80000gn/T/ipykernel_50509/330735155.py:26: FutureWarning: The behavior of \n",
       "DataFrame concatenation with empty or all-NA entries is deprecated. In a future version, this will no longer \n",
       "exclude empty or all-NA columns when determining the result dtypes. To retain the old behavior, exclude the \n",
       "relevant entries before the concat operation.\n",
       "  results = pd.concat([results, normalized_data]) #.dropna(axis=1, how=\"all\")])\n"
      ]
     },
     "metadata": {},
     "output_type": "display_data"
    },
    {
     "data": {
      "text/html": [
       "<pre style=\"white-space:pre;overflow-x:auto;line-height:normal;font-family:Menlo,'DejaVu Sans Mono',consolas,'Courier New',monospace\">/var/folders/7t/k8q3439j6z3c683j7w00wtm80000gn/T/ipykernel_50509/330735155.py:26: FutureWarning: The behavior of \n",
       "DataFrame concatenation with empty or all-NA entries is deprecated. In a future version, this will no longer \n",
       "exclude empty or all-NA columns when determining the result dtypes. To retain the old behavior, exclude the \n",
       "relevant entries before the concat operation.\n",
       "  results = pd.concat([results, normalized_data]) #.dropna(axis=1, how=\"all\")])\n",
       "</pre>\n"
      ],
      "text/plain": [
       "/var/folders/7t/k8q3439j6z3c683j7w00wtm80000gn/T/ipykernel_50509/330735155.py:26: FutureWarning: The behavior of \n",
       "DataFrame concatenation with empty or all-NA entries is deprecated. In a future version, this will no longer \n",
       "exclude empty or all-NA columns when determining the result dtypes. To retain the old behavior, exclude the \n",
       "relevant entries before the concat operation.\n",
       "  results = pd.concat([results, normalized_data]) #.dropna(axis=1, how=\"all\")])\n"
      ]
     },
     "metadata": {},
     "output_type": "display_data"
    },
    {
     "data": {
      "text/html": [
       "<pre style=\"white-space:pre;overflow-x:auto;line-height:normal;font-family:Menlo,'DejaVu Sans Mono',consolas,'Courier New',monospace\">/var/folders/7t/k8q3439j6z3c683j7w00wtm80000gn/T/ipykernel_50509/330735155.py:26: FutureWarning: The behavior of \n",
       "DataFrame concatenation with empty or all-NA entries is deprecated. In a future version, this will no longer \n",
       "exclude empty or all-NA columns when determining the result dtypes. To retain the old behavior, exclude the \n",
       "relevant entries before the concat operation.\n",
       "  results = pd.concat([results, normalized_data]) #.dropna(axis=1, how=\"all\")])\n",
       "</pre>\n"
      ],
      "text/plain": [
       "/var/folders/7t/k8q3439j6z3c683j7w00wtm80000gn/T/ipykernel_50509/330735155.py:26: FutureWarning: The behavior of \n",
       "DataFrame concatenation with empty or all-NA entries is deprecated. In a future version, this will no longer \n",
       "exclude empty or all-NA columns when determining the result dtypes. To retain the old behavior, exclude the \n",
       "relevant entries before the concat operation.\n",
       "  results = pd.concat([results, normalized_data]) #.dropna(axis=1, how=\"all\")])\n"
      ]
     },
     "metadata": {},
     "output_type": "display_data"
    },
    {
     "data": {
      "text/html": [
       "<pre style=\"white-space:pre;overflow-x:auto;line-height:normal;font-family:Menlo,'DejaVu Sans Mono',consolas,'Courier New',monospace\">/var/folders/7t/k8q3439j6z3c683j7w00wtm80000gn/T/ipykernel_50509/330735155.py:26: FutureWarning: The behavior of \n",
       "DataFrame concatenation with empty or all-NA entries is deprecated. In a future version, this will no longer \n",
       "exclude empty or all-NA columns when determining the result dtypes. To retain the old behavior, exclude the \n",
       "relevant entries before the concat operation.\n",
       "  results = pd.concat([results, normalized_data]) #.dropna(axis=1, how=\"all\")])\n",
       "</pre>\n"
      ],
      "text/plain": [
       "/var/folders/7t/k8q3439j6z3c683j7w00wtm80000gn/T/ipykernel_50509/330735155.py:26: FutureWarning: The behavior of \n",
       "DataFrame concatenation with empty or all-NA entries is deprecated. In a future version, this will no longer \n",
       "exclude empty or all-NA columns when determining the result dtypes. To retain the old behavior, exclude the \n",
       "relevant entries before the concat operation.\n",
       "  results = pd.concat([results, normalized_data]) #.dropna(axis=1, how=\"all\")])\n"
      ]
     },
     "metadata": {},
     "output_type": "display_data"
    },
    {
     "data": {
      "text/html": [
       "<pre style=\"white-space:pre;overflow-x:auto;line-height:normal;font-family:Menlo,'DejaVu Sans Mono',consolas,'Courier New',monospace\">/var/folders/7t/k8q3439j6z3c683j7w00wtm80000gn/T/ipykernel_50509/330735155.py:26: FutureWarning: The behavior of \n",
       "DataFrame concatenation with empty or all-NA entries is deprecated. In a future version, this will no longer \n",
       "exclude empty or all-NA columns when determining the result dtypes. To retain the old behavior, exclude the \n",
       "relevant entries before the concat operation.\n",
       "  results = pd.concat([results, normalized_data]) #.dropna(axis=1, how=\"all\")])\n",
       "</pre>\n"
      ],
      "text/plain": [
       "/var/folders/7t/k8q3439j6z3c683j7w00wtm80000gn/T/ipykernel_50509/330735155.py:26: FutureWarning: The behavior of \n",
       "DataFrame concatenation with empty or all-NA entries is deprecated. In a future version, this will no longer \n",
       "exclude empty or all-NA columns when determining the result dtypes. To retain the old behavior, exclude the \n",
       "relevant entries before the concat operation.\n",
       "  results = pd.concat([results, normalized_data]) #.dropna(axis=1, how=\"all\")])\n"
      ]
     },
     "metadata": {},
     "output_type": "display_data"
    },
    {
     "data": {
      "text/html": [
       "<pre style=\"white-space:pre;overflow-x:auto;line-height:normal;font-family:Menlo,'DejaVu Sans Mono',consolas,'Courier New',monospace\">/var/folders/7t/k8q3439j6z3c683j7w00wtm80000gn/T/ipykernel_50509/330735155.py:26: FutureWarning: The behavior of \n",
       "DataFrame concatenation with empty or all-NA entries is deprecated. In a future version, this will no longer \n",
       "exclude empty or all-NA columns when determining the result dtypes. To retain the old behavior, exclude the \n",
       "relevant entries before the concat operation.\n",
       "  results = pd.concat([results, normalized_data]) #.dropna(axis=1, how=\"all\")])\n",
       "</pre>\n"
      ],
      "text/plain": [
       "/var/folders/7t/k8q3439j6z3c683j7w00wtm80000gn/T/ipykernel_50509/330735155.py:26: FutureWarning: The behavior of \n",
       "DataFrame concatenation with empty or all-NA entries is deprecated. In a future version, this will no longer \n",
       "exclude empty or all-NA columns when determining the result dtypes. To retain the old behavior, exclude the \n",
       "relevant entries before the concat operation.\n",
       "  results = pd.concat([results, normalized_data]) #.dropna(axis=1, how=\"all\")])\n"
      ]
     },
     "metadata": {},
     "output_type": "display_data"
    },
    {
     "data": {
      "text/html": [
       "<pre style=\"white-space:pre;overflow-x:auto;line-height:normal;font-family:Menlo,'DejaVu Sans Mono',consolas,'Courier New',monospace\">/var/folders/7t/k8q3439j6z3c683j7w00wtm80000gn/T/ipykernel_50509/330735155.py:26: FutureWarning: The behavior of \n",
       "DataFrame concatenation with empty or all-NA entries is deprecated. In a future version, this will no longer \n",
       "exclude empty or all-NA columns when determining the result dtypes. To retain the old behavior, exclude the \n",
       "relevant entries before the concat operation.\n",
       "  results = pd.concat([results, normalized_data]) #.dropna(axis=1, how=\"all\")])\n",
       "</pre>\n"
      ],
      "text/plain": [
       "/var/folders/7t/k8q3439j6z3c683j7w00wtm80000gn/T/ipykernel_50509/330735155.py:26: FutureWarning: The behavior of \n",
       "DataFrame concatenation with empty or all-NA entries is deprecated. In a future version, this will no longer \n",
       "exclude empty or all-NA columns when determining the result dtypes. To retain the old behavior, exclude the \n",
       "relevant entries before the concat operation.\n",
       "  results = pd.concat([results, normalized_data]) #.dropna(axis=1, how=\"all\")])\n"
      ]
     },
     "metadata": {},
     "output_type": "display_data"
    },
    {
     "data": {
      "text/html": [
       "<pre style=\"white-space:pre;overflow-x:auto;line-height:normal;font-family:Menlo,'DejaVu Sans Mono',consolas,'Courier New',monospace\">/var/folders/7t/k8q3439j6z3c683j7w00wtm80000gn/T/ipykernel_50509/330735155.py:26: FutureWarning: The behavior of \n",
       "DataFrame concatenation with empty or all-NA entries is deprecated. In a future version, this will no longer \n",
       "exclude empty or all-NA columns when determining the result dtypes. To retain the old behavior, exclude the \n",
       "relevant entries before the concat operation.\n",
       "  results = pd.concat([results, normalized_data]) #.dropna(axis=1, how=\"all\")])\n",
       "</pre>\n"
      ],
      "text/plain": [
       "/var/folders/7t/k8q3439j6z3c683j7w00wtm80000gn/T/ipykernel_50509/330735155.py:26: FutureWarning: The behavior of \n",
       "DataFrame concatenation with empty or all-NA entries is deprecated. In a future version, this will no longer \n",
       "exclude empty or all-NA columns when determining the result dtypes. To retain the old behavior, exclude the \n",
       "relevant entries before the concat operation.\n",
       "  results = pd.concat([results, normalized_data]) #.dropna(axis=1, how=\"all\")])\n"
      ]
     },
     "metadata": {},
     "output_type": "display_data"
    },
    {
     "data": {
      "text/html": [
       "<pre style=\"white-space:pre;overflow-x:auto;line-height:normal;font-family:Menlo,'DejaVu Sans Mono',consolas,'Courier New',monospace\">/var/folders/7t/k8q3439j6z3c683j7w00wtm80000gn/T/ipykernel_50509/330735155.py:26: FutureWarning: The behavior of \n",
       "DataFrame concatenation with empty or all-NA entries is deprecated. In a future version, this will no longer \n",
       "exclude empty or all-NA columns when determining the result dtypes. To retain the old behavior, exclude the \n",
       "relevant entries before the concat operation.\n",
       "  results = pd.concat([results, normalized_data]) #.dropna(axis=1, how=\"all\")])\n",
       "</pre>\n"
      ],
      "text/plain": [
       "/var/folders/7t/k8q3439j6z3c683j7w00wtm80000gn/T/ipykernel_50509/330735155.py:26: FutureWarning: The behavior of \n",
       "DataFrame concatenation with empty or all-NA entries is deprecated. In a future version, this will no longer \n",
       "exclude empty or all-NA columns when determining the result dtypes. To retain the old behavior, exclude the \n",
       "relevant entries before the concat operation.\n",
       "  results = pd.concat([results, normalized_data]) #.dropna(axis=1, how=\"all\")])\n"
      ]
     },
     "metadata": {},
     "output_type": "display_data"
    },
    {
     "data": {
      "text/html": [
       "<pre style=\"white-space:pre;overflow-x:auto;line-height:normal;font-family:Menlo,'DejaVu Sans Mono',consolas,'Courier New',monospace\">/var/folders/7t/k8q3439j6z3c683j7w00wtm80000gn/T/ipykernel_50509/330735155.py:26: FutureWarning: The behavior of \n",
       "DataFrame concatenation with empty or all-NA entries is deprecated. In a future version, this will no longer \n",
       "exclude empty or all-NA columns when determining the result dtypes. To retain the old behavior, exclude the \n",
       "relevant entries before the concat operation.\n",
       "  results = pd.concat([results, normalized_data]) #.dropna(axis=1, how=\"all\")])\n",
       "</pre>\n"
      ],
      "text/plain": [
       "/var/folders/7t/k8q3439j6z3c683j7w00wtm80000gn/T/ipykernel_50509/330735155.py:26: FutureWarning: The behavior of \n",
       "DataFrame concatenation with empty or all-NA entries is deprecated. In a future version, this will no longer \n",
       "exclude empty or all-NA columns when determining the result dtypes. To retain the old behavior, exclude the \n",
       "relevant entries before the concat operation.\n",
       "  results = pd.concat([results, normalized_data]) #.dropna(axis=1, how=\"all\")])\n"
      ]
     },
     "metadata": {},
     "output_type": "display_data"
    },
    {
     "data": {
      "text/html": [
       "<pre style=\"white-space:pre;overflow-x:auto;line-height:normal;font-family:Menlo,'DejaVu Sans Mono',consolas,'Courier New',monospace\">/var/folders/7t/k8q3439j6z3c683j7w00wtm80000gn/T/ipykernel_50509/330735155.py:26: FutureWarning: The behavior of \n",
       "DataFrame concatenation with empty or all-NA entries is deprecated. In a future version, this will no longer \n",
       "exclude empty or all-NA columns when determining the result dtypes. To retain the old behavior, exclude the \n",
       "relevant entries before the concat operation.\n",
       "  results = pd.concat([results, normalized_data]) #.dropna(axis=1, how=\"all\")])\n",
       "</pre>\n"
      ],
      "text/plain": [
       "/var/folders/7t/k8q3439j6z3c683j7w00wtm80000gn/T/ipykernel_50509/330735155.py:26: FutureWarning: The behavior of \n",
       "DataFrame concatenation with empty or all-NA entries is deprecated. In a future version, this will no longer \n",
       "exclude empty or all-NA columns when determining the result dtypes. To retain the old behavior, exclude the \n",
       "relevant entries before the concat operation.\n",
       "  results = pd.concat([results, normalized_data]) #.dropna(axis=1, how=\"all\")])\n"
      ]
     },
     "metadata": {},
     "output_type": "display_data"
    },
    {
     "data": {
      "text/html": [
       "<pre style=\"white-space:pre;overflow-x:auto;line-height:normal;font-family:Menlo,'DejaVu Sans Mono',consolas,'Courier New',monospace\">/var/folders/7t/k8q3439j6z3c683j7w00wtm80000gn/T/ipykernel_50509/330735155.py:26: FutureWarning: The behavior of \n",
       "DataFrame concatenation with empty or all-NA entries is deprecated. In a future version, this will no longer \n",
       "exclude empty or all-NA columns when determining the result dtypes. To retain the old behavior, exclude the \n",
       "relevant entries before the concat operation.\n",
       "  results = pd.concat([results, normalized_data]) #.dropna(axis=1, how=\"all\")])\n",
       "</pre>\n"
      ],
      "text/plain": [
       "/var/folders/7t/k8q3439j6z3c683j7w00wtm80000gn/T/ipykernel_50509/330735155.py:26: FutureWarning: The behavior of \n",
       "DataFrame concatenation with empty or all-NA entries is deprecated. In a future version, this will no longer \n",
       "exclude empty or all-NA columns when determining the result dtypes. To retain the old behavior, exclude the \n",
       "relevant entries before the concat operation.\n",
       "  results = pd.concat([results, normalized_data]) #.dropna(axis=1, how=\"all\")])\n"
      ]
     },
     "metadata": {},
     "output_type": "display_data"
    },
    {
     "data": {
      "text/html": [
       "<pre style=\"white-space:pre;overflow-x:auto;line-height:normal;font-family:Menlo,'DejaVu Sans Mono',consolas,'Courier New',monospace\">/var/folders/7t/k8q3439j6z3c683j7w00wtm80000gn/T/ipykernel_50509/330735155.py:26: FutureWarning: The behavior of \n",
       "DataFrame concatenation with empty or all-NA entries is deprecated. In a future version, this will no longer \n",
       "exclude empty or all-NA columns when determining the result dtypes. To retain the old behavior, exclude the \n",
       "relevant entries before the concat operation.\n",
       "  results = pd.concat([results, normalized_data]) #.dropna(axis=1, how=\"all\")])\n",
       "</pre>\n"
      ],
      "text/plain": [
       "/var/folders/7t/k8q3439j6z3c683j7w00wtm80000gn/T/ipykernel_50509/330735155.py:26: FutureWarning: The behavior of \n",
       "DataFrame concatenation with empty or all-NA entries is deprecated. In a future version, this will no longer \n",
       "exclude empty or all-NA columns when determining the result dtypes. To retain the old behavior, exclude the \n",
       "relevant entries before the concat operation.\n",
       "  results = pd.concat([results, normalized_data]) #.dropna(axis=1, how=\"all\")])\n"
      ]
     },
     "metadata": {},
     "output_type": "display_data"
    },
    {
     "data": {
      "text/html": [
       "<pre style=\"white-space:pre;overflow-x:auto;line-height:normal;font-family:Menlo,'DejaVu Sans Mono',consolas,'Courier New',monospace\">/var/folders/7t/k8q3439j6z3c683j7w00wtm80000gn/T/ipykernel_50509/330735155.py:26: FutureWarning: The behavior of \n",
       "DataFrame concatenation with empty or all-NA entries is deprecated. In a future version, this will no longer \n",
       "exclude empty or all-NA columns when determining the result dtypes. To retain the old behavior, exclude the \n",
       "relevant entries before the concat operation.\n",
       "  results = pd.concat([results, normalized_data]) #.dropna(axis=1, how=\"all\")])\n",
       "</pre>\n"
      ],
      "text/plain": [
       "/var/folders/7t/k8q3439j6z3c683j7w00wtm80000gn/T/ipykernel_50509/330735155.py:26: FutureWarning: The behavior of \n",
       "DataFrame concatenation with empty or all-NA entries is deprecated. In a future version, this will no longer \n",
       "exclude empty or all-NA columns when determining the result dtypes. To retain the old behavior, exclude the \n",
       "relevant entries before the concat operation.\n",
       "  results = pd.concat([results, normalized_data]) #.dropna(axis=1, how=\"all\")])\n"
      ]
     },
     "metadata": {},
     "output_type": "display_data"
    },
    {
     "data": {
      "text/html": [
       "<pre style=\"white-space:pre;overflow-x:auto;line-height:normal;font-family:Menlo,'DejaVu Sans Mono',consolas,'Courier New',monospace\">/var/folders/7t/k8q3439j6z3c683j7w00wtm80000gn/T/ipykernel_50509/330735155.py:26: FutureWarning: The behavior of \n",
       "DataFrame concatenation with empty or all-NA entries is deprecated. In a future version, this will no longer \n",
       "exclude empty or all-NA columns when determining the result dtypes. To retain the old behavior, exclude the \n",
       "relevant entries before the concat operation.\n",
       "  results = pd.concat([results, normalized_data]) #.dropna(axis=1, how=\"all\")])\n",
       "</pre>\n"
      ],
      "text/plain": [
       "/var/folders/7t/k8q3439j6z3c683j7w00wtm80000gn/T/ipykernel_50509/330735155.py:26: FutureWarning: The behavior of \n",
       "DataFrame concatenation with empty or all-NA entries is deprecated. In a future version, this will no longer \n",
       "exclude empty or all-NA columns when determining the result dtypes. To retain the old behavior, exclude the \n",
       "relevant entries before the concat operation.\n",
       "  results = pd.concat([results, normalized_data]) #.dropna(axis=1, how=\"all\")])\n"
      ]
     },
     "metadata": {},
     "output_type": "display_data"
    },
    {
     "data": {
      "text/html": [
       "<pre style=\"white-space:pre;overflow-x:auto;line-height:normal;font-family:Menlo,'DejaVu Sans Mono',consolas,'Courier New',monospace\">/var/folders/7t/k8q3439j6z3c683j7w00wtm80000gn/T/ipykernel_50509/330735155.py:26: FutureWarning: The behavior of \n",
       "DataFrame concatenation with empty or all-NA entries is deprecated. In a future version, this will no longer \n",
       "exclude empty or all-NA columns when determining the result dtypes. To retain the old behavior, exclude the \n",
       "relevant entries before the concat operation.\n",
       "  results = pd.concat([results, normalized_data]) #.dropna(axis=1, how=\"all\")])\n",
       "</pre>\n"
      ],
      "text/plain": [
       "/var/folders/7t/k8q3439j6z3c683j7w00wtm80000gn/T/ipykernel_50509/330735155.py:26: FutureWarning: The behavior of \n",
       "DataFrame concatenation with empty or all-NA entries is deprecated. In a future version, this will no longer \n",
       "exclude empty or all-NA columns when determining the result dtypes. To retain the old behavior, exclude the \n",
       "relevant entries before the concat operation.\n",
       "  results = pd.concat([results, normalized_data]) #.dropna(axis=1, how=\"all\")])\n"
      ]
     },
     "metadata": {},
     "output_type": "display_data"
    },
    {
     "data": {
      "text/html": [
       "<pre style=\"white-space:pre;overflow-x:auto;line-height:normal;font-family:Menlo,'DejaVu Sans Mono',consolas,'Courier New',monospace\">/var/folders/7t/k8q3439j6z3c683j7w00wtm80000gn/T/ipykernel_50509/330735155.py:26: FutureWarning: The behavior of \n",
       "DataFrame concatenation with empty or all-NA entries is deprecated. In a future version, this will no longer \n",
       "exclude empty or all-NA columns when determining the result dtypes. To retain the old behavior, exclude the \n",
       "relevant entries before the concat operation.\n",
       "  results = pd.concat([results, normalized_data]) #.dropna(axis=1, how=\"all\")])\n",
       "</pre>\n"
      ],
      "text/plain": [
       "/var/folders/7t/k8q3439j6z3c683j7w00wtm80000gn/T/ipykernel_50509/330735155.py:26: FutureWarning: The behavior of \n",
       "DataFrame concatenation with empty or all-NA entries is deprecated. In a future version, this will no longer \n",
       "exclude empty or all-NA columns when determining the result dtypes. To retain the old behavior, exclude the \n",
       "relevant entries before the concat operation.\n",
       "  results = pd.concat([results, normalized_data]) #.dropna(axis=1, how=\"all\")])\n"
      ]
     },
     "metadata": {},
     "output_type": "display_data"
    },
    {
     "data": {
      "text/html": [
       "<pre style=\"white-space:pre;overflow-x:auto;line-height:normal;font-family:Menlo,'DejaVu Sans Mono',consolas,'Courier New',monospace\">/var/folders/7t/k8q3439j6z3c683j7w00wtm80000gn/T/ipykernel_50509/330735155.py:26: FutureWarning: The behavior of \n",
       "DataFrame concatenation with empty or all-NA entries is deprecated. In a future version, this will no longer \n",
       "exclude empty or all-NA columns when determining the result dtypes. To retain the old behavior, exclude the \n",
       "relevant entries before the concat operation.\n",
       "  results = pd.concat([results, normalized_data]) #.dropna(axis=1, how=\"all\")])\n",
       "</pre>\n"
      ],
      "text/plain": [
       "/var/folders/7t/k8q3439j6z3c683j7w00wtm80000gn/T/ipykernel_50509/330735155.py:26: FutureWarning: The behavior of \n",
       "DataFrame concatenation with empty or all-NA entries is deprecated. In a future version, this will no longer \n",
       "exclude empty or all-NA columns when determining the result dtypes. To retain the old behavior, exclude the \n",
       "relevant entries before the concat operation.\n",
       "  results = pd.concat([results, normalized_data]) #.dropna(axis=1, how=\"all\")])\n"
      ]
     },
     "metadata": {},
     "output_type": "display_data"
    },
    {
     "data": {
      "text/html": [
       "<pre style=\"white-space:pre;overflow-x:auto;line-height:normal;font-family:Menlo,'DejaVu Sans Mono',consolas,'Courier New',monospace\">/var/folders/7t/k8q3439j6z3c683j7w00wtm80000gn/T/ipykernel_50509/330735155.py:26: FutureWarning: The behavior of \n",
       "DataFrame concatenation with empty or all-NA entries is deprecated. In a future version, this will no longer \n",
       "exclude empty or all-NA columns when determining the result dtypes. To retain the old behavior, exclude the \n",
       "relevant entries before the concat operation.\n",
       "  results = pd.concat([results, normalized_data]) #.dropna(axis=1, how=\"all\")])\n",
       "</pre>\n"
      ],
      "text/plain": [
       "/var/folders/7t/k8q3439j6z3c683j7w00wtm80000gn/T/ipykernel_50509/330735155.py:26: FutureWarning: The behavior of \n",
       "DataFrame concatenation with empty or all-NA entries is deprecated. In a future version, this will no longer \n",
       "exclude empty or all-NA columns when determining the result dtypes. To retain the old behavior, exclude the \n",
       "relevant entries before the concat operation.\n",
       "  results = pd.concat([results, normalized_data]) #.dropna(axis=1, how=\"all\")])\n"
      ]
     },
     "metadata": {},
     "output_type": "display_data"
    },
    {
     "data": {
      "text/html": [
       "<pre style=\"white-space:pre;overflow-x:auto;line-height:normal;font-family:Menlo,'DejaVu Sans Mono',consolas,'Courier New',monospace\">/var/folders/7t/k8q3439j6z3c683j7w00wtm80000gn/T/ipykernel_50509/330735155.py:26: FutureWarning: The behavior of \n",
       "DataFrame concatenation with empty or all-NA entries is deprecated. In a future version, this will no longer \n",
       "exclude empty or all-NA columns when determining the result dtypes. To retain the old behavior, exclude the \n",
       "relevant entries before the concat operation.\n",
       "  results = pd.concat([results, normalized_data]) #.dropna(axis=1, how=\"all\")])\n",
       "</pre>\n"
      ],
      "text/plain": [
       "/var/folders/7t/k8q3439j6z3c683j7w00wtm80000gn/T/ipykernel_50509/330735155.py:26: FutureWarning: The behavior of \n",
       "DataFrame concatenation with empty or all-NA entries is deprecated. In a future version, this will no longer \n",
       "exclude empty or all-NA columns when determining the result dtypes. To retain the old behavior, exclude the \n",
       "relevant entries before the concat operation.\n",
       "  results = pd.concat([results, normalized_data]) #.dropna(axis=1, how=\"all\")])\n"
      ]
     },
     "metadata": {},
     "output_type": "display_data"
    },
    {
     "data": {
      "text/html": [
       "<pre style=\"white-space:pre;overflow-x:auto;line-height:normal;font-family:Menlo,'DejaVu Sans Mono',consolas,'Courier New',monospace\">/var/folders/7t/k8q3439j6z3c683j7w00wtm80000gn/T/ipykernel_50509/330735155.py:26: FutureWarning: The behavior of \n",
       "DataFrame concatenation with empty or all-NA entries is deprecated. In a future version, this will no longer \n",
       "exclude empty or all-NA columns when determining the result dtypes. To retain the old behavior, exclude the \n",
       "relevant entries before the concat operation.\n",
       "  results = pd.concat([results, normalized_data]) #.dropna(axis=1, how=\"all\")])\n",
       "</pre>\n"
      ],
      "text/plain": [
       "/var/folders/7t/k8q3439j6z3c683j7w00wtm80000gn/T/ipykernel_50509/330735155.py:26: FutureWarning: The behavior of \n",
       "DataFrame concatenation with empty or all-NA entries is deprecated. In a future version, this will no longer \n",
       "exclude empty or all-NA columns when determining the result dtypes. To retain the old behavior, exclude the \n",
       "relevant entries before the concat operation.\n",
       "  results = pd.concat([results, normalized_data]) #.dropna(axis=1, how=\"all\")])\n"
      ]
     },
     "metadata": {},
     "output_type": "display_data"
    },
    {
     "data": {
      "text/html": [
       "<pre style=\"white-space:pre;overflow-x:auto;line-height:normal;font-family:Menlo,'DejaVu Sans Mono',consolas,'Courier New',monospace\">/var/folders/7t/k8q3439j6z3c683j7w00wtm80000gn/T/ipykernel_50509/330735155.py:26: FutureWarning: The behavior of \n",
       "DataFrame concatenation with empty or all-NA entries is deprecated. In a future version, this will no longer \n",
       "exclude empty or all-NA columns when determining the result dtypes. To retain the old behavior, exclude the \n",
       "relevant entries before the concat operation.\n",
       "  results = pd.concat([results, normalized_data]) #.dropna(axis=1, how=\"all\")])\n",
       "</pre>\n"
      ],
      "text/plain": [
       "/var/folders/7t/k8q3439j6z3c683j7w00wtm80000gn/T/ipykernel_50509/330735155.py:26: FutureWarning: The behavior of \n",
       "DataFrame concatenation with empty or all-NA entries is deprecated. In a future version, this will no longer \n",
       "exclude empty or all-NA columns when determining the result dtypes. To retain the old behavior, exclude the \n",
       "relevant entries before the concat operation.\n",
       "  results = pd.concat([results, normalized_data]) #.dropna(axis=1, how=\"all\")])\n"
      ]
     },
     "metadata": {},
     "output_type": "display_data"
    },
    {
     "data": {
      "text/html": [
       "<pre style=\"white-space:pre;overflow-x:auto;line-height:normal;font-family:Menlo,'DejaVu Sans Mono',consolas,'Courier New',monospace\">/var/folders/7t/k8q3439j6z3c683j7w00wtm80000gn/T/ipykernel_50509/330735155.py:26: FutureWarning: The behavior of \n",
       "DataFrame concatenation with empty or all-NA entries is deprecated. In a future version, this will no longer \n",
       "exclude empty or all-NA columns when determining the result dtypes. To retain the old behavior, exclude the \n",
       "relevant entries before the concat operation.\n",
       "  results = pd.concat([results, normalized_data]) #.dropna(axis=1, how=\"all\")])\n",
       "</pre>\n"
      ],
      "text/plain": [
       "/var/folders/7t/k8q3439j6z3c683j7w00wtm80000gn/T/ipykernel_50509/330735155.py:26: FutureWarning: The behavior of \n",
       "DataFrame concatenation with empty or all-NA entries is deprecated. In a future version, this will no longer \n",
       "exclude empty or all-NA columns when determining the result dtypes. To retain the old behavior, exclude the \n",
       "relevant entries before the concat operation.\n",
       "  results = pd.concat([results, normalized_data]) #.dropna(axis=1, how=\"all\")])\n"
      ]
     },
     "metadata": {},
     "output_type": "display_data"
    },
    {
     "data": {
      "text/html": [
       "<pre style=\"white-space:pre;overflow-x:auto;line-height:normal;font-family:Menlo,'DejaVu Sans Mono',consolas,'Courier New',monospace\">/var/folders/7t/k8q3439j6z3c683j7w00wtm80000gn/T/ipykernel_50509/330735155.py:26: FutureWarning: The behavior of \n",
       "DataFrame concatenation with empty or all-NA entries is deprecated. In a future version, this will no longer \n",
       "exclude empty or all-NA columns when determining the result dtypes. To retain the old behavior, exclude the \n",
       "relevant entries before the concat operation.\n",
       "  results = pd.concat([results, normalized_data]) #.dropna(axis=1, how=\"all\")])\n",
       "</pre>\n"
      ],
      "text/plain": [
       "/var/folders/7t/k8q3439j6z3c683j7w00wtm80000gn/T/ipykernel_50509/330735155.py:26: FutureWarning: The behavior of \n",
       "DataFrame concatenation with empty or all-NA entries is deprecated. In a future version, this will no longer \n",
       "exclude empty or all-NA columns when determining the result dtypes. To retain the old behavior, exclude the \n",
       "relevant entries before the concat operation.\n",
       "  results = pd.concat([results, normalized_data]) #.dropna(axis=1, how=\"all\")])\n"
      ]
     },
     "metadata": {},
     "output_type": "display_data"
    },
    {
     "data": {
      "text/html": [
       "<pre style=\"white-space:pre;overflow-x:auto;line-height:normal;font-family:Menlo,'DejaVu Sans Mono',consolas,'Courier New',monospace\">/var/folders/7t/k8q3439j6z3c683j7w00wtm80000gn/T/ipykernel_50509/330735155.py:26: FutureWarning: The behavior of \n",
       "DataFrame concatenation with empty or all-NA entries is deprecated. In a future version, this will no longer \n",
       "exclude empty or all-NA columns when determining the result dtypes. To retain the old behavior, exclude the \n",
       "relevant entries before the concat operation.\n",
       "  results = pd.concat([results, normalized_data]) #.dropna(axis=1, how=\"all\")])\n",
       "</pre>\n"
      ],
      "text/plain": [
       "/var/folders/7t/k8q3439j6z3c683j7w00wtm80000gn/T/ipykernel_50509/330735155.py:26: FutureWarning: The behavior of \n",
       "DataFrame concatenation with empty or all-NA entries is deprecated. In a future version, this will no longer \n",
       "exclude empty or all-NA columns when determining the result dtypes. To retain the old behavior, exclude the \n",
       "relevant entries before the concat operation.\n",
       "  results = pd.concat([results, normalized_data]) #.dropna(axis=1, how=\"all\")])\n"
      ]
     },
     "metadata": {},
     "output_type": "display_data"
    },
    {
     "data": {
      "text/html": [
       "<pre style=\"white-space:pre;overflow-x:auto;line-height:normal;font-family:Menlo,'DejaVu Sans Mono',consolas,'Courier New',monospace\">/var/folders/7t/k8q3439j6z3c683j7w00wtm80000gn/T/ipykernel_50509/330735155.py:26: FutureWarning: The behavior of \n",
       "DataFrame concatenation with empty or all-NA entries is deprecated. In a future version, this will no longer \n",
       "exclude empty or all-NA columns when determining the result dtypes. To retain the old behavior, exclude the \n",
       "relevant entries before the concat operation.\n",
       "  results = pd.concat([results, normalized_data]) #.dropna(axis=1, how=\"all\")])\n",
       "</pre>\n"
      ],
      "text/plain": [
       "/var/folders/7t/k8q3439j6z3c683j7w00wtm80000gn/T/ipykernel_50509/330735155.py:26: FutureWarning: The behavior of \n",
       "DataFrame concatenation with empty or all-NA entries is deprecated. In a future version, this will no longer \n",
       "exclude empty or all-NA columns when determining the result dtypes. To retain the old behavior, exclude the \n",
       "relevant entries before the concat operation.\n",
       "  results = pd.concat([results, normalized_data]) #.dropna(axis=1, how=\"all\")])\n"
      ]
     },
     "metadata": {},
     "output_type": "display_data"
    },
    {
     "data": {
      "text/html": [
       "<pre style=\"white-space:pre;overflow-x:auto;line-height:normal;font-family:Menlo,'DejaVu Sans Mono',consolas,'Courier New',monospace\">/var/folders/7t/k8q3439j6z3c683j7w00wtm80000gn/T/ipykernel_50509/330735155.py:26: FutureWarning: The behavior of \n",
       "DataFrame concatenation with empty or all-NA entries is deprecated. In a future version, this will no longer \n",
       "exclude empty or all-NA columns when determining the result dtypes. To retain the old behavior, exclude the \n",
       "relevant entries before the concat operation.\n",
       "  results = pd.concat([results, normalized_data]) #.dropna(axis=1, how=\"all\")])\n",
       "</pre>\n"
      ],
      "text/plain": [
       "/var/folders/7t/k8q3439j6z3c683j7w00wtm80000gn/T/ipykernel_50509/330735155.py:26: FutureWarning: The behavior of \n",
       "DataFrame concatenation with empty or all-NA entries is deprecated. In a future version, this will no longer \n",
       "exclude empty or all-NA columns when determining the result dtypes. To retain the old behavior, exclude the \n",
       "relevant entries before the concat operation.\n",
       "  results = pd.concat([results, normalized_data]) #.dropna(axis=1, how=\"all\")])\n"
      ]
     },
     "metadata": {},
     "output_type": "display_data"
    },
    {
     "data": {
      "text/html": [
       "<pre style=\"white-space:pre;overflow-x:auto;line-height:normal;font-family:Menlo,'DejaVu Sans Mono',consolas,'Courier New',monospace\">/var/folders/7t/k8q3439j6z3c683j7w00wtm80000gn/T/ipykernel_50509/330735155.py:26: FutureWarning: The behavior of \n",
       "DataFrame concatenation with empty or all-NA entries is deprecated. In a future version, this will no longer \n",
       "exclude empty or all-NA columns when determining the result dtypes. To retain the old behavior, exclude the \n",
       "relevant entries before the concat operation.\n",
       "  results = pd.concat([results, normalized_data]) #.dropna(axis=1, how=\"all\")])\n",
       "</pre>\n"
      ],
      "text/plain": [
       "/var/folders/7t/k8q3439j6z3c683j7w00wtm80000gn/T/ipykernel_50509/330735155.py:26: FutureWarning: The behavior of \n",
       "DataFrame concatenation with empty or all-NA entries is deprecated. In a future version, this will no longer \n",
       "exclude empty or all-NA columns when determining the result dtypes. To retain the old behavior, exclude the \n",
       "relevant entries before the concat operation.\n",
       "  results = pd.concat([results, normalized_data]) #.dropna(axis=1, how=\"all\")])\n"
      ]
     },
     "metadata": {},
     "output_type": "display_data"
    },
    {
     "data": {
      "text/html": [
       "<pre style=\"white-space:pre;overflow-x:auto;line-height:normal;font-family:Menlo,'DejaVu Sans Mono',consolas,'Courier New',monospace\">/var/folders/7t/k8q3439j6z3c683j7w00wtm80000gn/T/ipykernel_50509/330735155.py:26: FutureWarning: The behavior of \n",
       "DataFrame concatenation with empty or all-NA entries is deprecated. In a future version, this will no longer \n",
       "exclude empty or all-NA columns when determining the result dtypes. To retain the old behavior, exclude the \n",
       "relevant entries before the concat operation.\n",
       "  results = pd.concat([results, normalized_data]) #.dropna(axis=1, how=\"all\")])\n",
       "</pre>\n"
      ],
      "text/plain": [
       "/var/folders/7t/k8q3439j6z3c683j7w00wtm80000gn/T/ipykernel_50509/330735155.py:26: FutureWarning: The behavior of \n",
       "DataFrame concatenation with empty or all-NA entries is deprecated. In a future version, this will no longer \n",
       "exclude empty or all-NA columns when determining the result dtypes. To retain the old behavior, exclude the \n",
       "relevant entries before the concat operation.\n",
       "  results = pd.concat([results, normalized_data]) #.dropna(axis=1, how=\"all\")])\n"
      ]
     },
     "metadata": {},
     "output_type": "display_data"
    },
    {
     "data": {
      "text/html": [
       "<pre style=\"white-space:pre;overflow-x:auto;line-height:normal;font-family:Menlo,'DejaVu Sans Mono',consolas,'Courier New',monospace\">/var/folders/7t/k8q3439j6z3c683j7w00wtm80000gn/T/ipykernel_50509/330735155.py:26: FutureWarning: The behavior of \n",
       "DataFrame concatenation with empty or all-NA entries is deprecated. In a future version, this will no longer \n",
       "exclude empty or all-NA columns when determining the result dtypes. To retain the old behavior, exclude the \n",
       "relevant entries before the concat operation.\n",
       "  results = pd.concat([results, normalized_data]) #.dropna(axis=1, how=\"all\")])\n",
       "</pre>\n"
      ],
      "text/plain": [
       "/var/folders/7t/k8q3439j6z3c683j7w00wtm80000gn/T/ipykernel_50509/330735155.py:26: FutureWarning: The behavior of \n",
       "DataFrame concatenation with empty or all-NA entries is deprecated. In a future version, this will no longer \n",
       "exclude empty or all-NA columns when determining the result dtypes. To retain the old behavior, exclude the \n",
       "relevant entries before the concat operation.\n",
       "  results = pd.concat([results, normalized_data]) #.dropna(axis=1, how=\"all\")])\n"
      ]
     },
     "metadata": {},
     "output_type": "display_data"
    },
    {
     "data": {
      "text/html": [
       "<pre style=\"white-space:pre;overflow-x:auto;line-height:normal;font-family:Menlo,'DejaVu Sans Mono',consolas,'Courier New',monospace\">/var/folders/7t/k8q3439j6z3c683j7w00wtm80000gn/T/ipykernel_50509/330735155.py:26: FutureWarning: The behavior of \n",
       "DataFrame concatenation with empty or all-NA entries is deprecated. In a future version, this will no longer \n",
       "exclude empty or all-NA columns when determining the result dtypes. To retain the old behavior, exclude the \n",
       "relevant entries before the concat operation.\n",
       "  results = pd.concat([results, normalized_data]) #.dropna(axis=1, how=\"all\")])\n",
       "</pre>\n"
      ],
      "text/plain": [
       "/var/folders/7t/k8q3439j6z3c683j7w00wtm80000gn/T/ipykernel_50509/330735155.py:26: FutureWarning: The behavior of \n",
       "DataFrame concatenation with empty or all-NA entries is deprecated. In a future version, this will no longer \n",
       "exclude empty or all-NA columns when determining the result dtypes. To retain the old behavior, exclude the \n",
       "relevant entries before the concat operation.\n",
       "  results = pd.concat([results, normalized_data]) #.dropna(axis=1, how=\"all\")])\n"
      ]
     },
     "metadata": {},
     "output_type": "display_data"
    },
    {
     "data": {
      "text/html": [
       "<pre style=\"white-space:pre;overflow-x:auto;line-height:normal;font-family:Menlo,'DejaVu Sans Mono',consolas,'Courier New',monospace\">/var/folders/7t/k8q3439j6z3c683j7w00wtm80000gn/T/ipykernel_50509/330735155.py:26: FutureWarning: The behavior of \n",
       "DataFrame concatenation with empty or all-NA entries is deprecated. In a future version, this will no longer \n",
       "exclude empty or all-NA columns when determining the result dtypes. To retain the old behavior, exclude the \n",
       "relevant entries before the concat operation.\n",
       "  results = pd.concat([results, normalized_data]) #.dropna(axis=1, how=\"all\")])\n",
       "</pre>\n"
      ],
      "text/plain": [
       "/var/folders/7t/k8q3439j6z3c683j7w00wtm80000gn/T/ipykernel_50509/330735155.py:26: FutureWarning: The behavior of \n",
       "DataFrame concatenation with empty or all-NA entries is deprecated. In a future version, this will no longer \n",
       "exclude empty or all-NA columns when determining the result dtypes. To retain the old behavior, exclude the \n",
       "relevant entries before the concat operation.\n",
       "  results = pd.concat([results, normalized_data]) #.dropna(axis=1, how=\"all\")])\n"
      ]
     },
     "metadata": {},
     "output_type": "display_data"
    },
    {
     "data": {
      "text/html": [
       "<pre style=\"white-space:pre;overflow-x:auto;line-height:normal;font-family:Menlo,'DejaVu Sans Mono',consolas,'Courier New',monospace\">/var/folders/7t/k8q3439j6z3c683j7w00wtm80000gn/T/ipykernel_50509/330735155.py:26: FutureWarning: The behavior of \n",
       "DataFrame concatenation with empty or all-NA entries is deprecated. In a future version, this will no longer \n",
       "exclude empty or all-NA columns when determining the result dtypes. To retain the old behavior, exclude the \n",
       "relevant entries before the concat operation.\n",
       "  results = pd.concat([results, normalized_data]) #.dropna(axis=1, how=\"all\")])\n",
       "</pre>\n"
      ],
      "text/plain": [
       "/var/folders/7t/k8q3439j6z3c683j7w00wtm80000gn/T/ipykernel_50509/330735155.py:26: FutureWarning: The behavior of \n",
       "DataFrame concatenation with empty or all-NA entries is deprecated. In a future version, this will no longer \n",
       "exclude empty or all-NA columns when determining the result dtypes. To retain the old behavior, exclude the \n",
       "relevant entries before the concat operation.\n",
       "  results = pd.concat([results, normalized_data]) #.dropna(axis=1, how=\"all\")])\n"
      ]
     },
     "metadata": {},
     "output_type": "display_data"
    },
    {
     "data": {
      "text/html": [
       "<pre style=\"white-space:pre;overflow-x:auto;line-height:normal;font-family:Menlo,'DejaVu Sans Mono',consolas,'Courier New',monospace\">/var/folders/7t/k8q3439j6z3c683j7w00wtm80000gn/T/ipykernel_50509/330735155.py:26: FutureWarning: The behavior of \n",
       "DataFrame concatenation with empty or all-NA entries is deprecated. In a future version, this will no longer \n",
       "exclude empty or all-NA columns when determining the result dtypes. To retain the old behavior, exclude the \n",
       "relevant entries before the concat operation.\n",
       "  results = pd.concat([results, normalized_data]) #.dropna(axis=1, how=\"all\")])\n",
       "</pre>\n"
      ],
      "text/plain": [
       "/var/folders/7t/k8q3439j6z3c683j7w00wtm80000gn/T/ipykernel_50509/330735155.py:26: FutureWarning: The behavior of \n",
       "DataFrame concatenation with empty or all-NA entries is deprecated. In a future version, this will no longer \n",
       "exclude empty or all-NA columns when determining the result dtypes. To retain the old behavior, exclude the \n",
       "relevant entries before the concat operation.\n",
       "  results = pd.concat([results, normalized_data]) #.dropna(axis=1, how=\"all\")])\n"
      ]
     },
     "metadata": {},
     "output_type": "display_data"
    },
    {
     "data": {
      "text/html": [
       "<pre style=\"white-space:pre;overflow-x:auto;line-height:normal;font-family:Menlo,'DejaVu Sans Mono',consolas,'Courier New',monospace\">/var/folders/7t/k8q3439j6z3c683j7w00wtm80000gn/T/ipykernel_50509/330735155.py:26: FutureWarning: The behavior of \n",
       "DataFrame concatenation with empty or all-NA entries is deprecated. In a future version, this will no longer \n",
       "exclude empty or all-NA columns when determining the result dtypes. To retain the old behavior, exclude the \n",
       "relevant entries before the concat operation.\n",
       "  results = pd.concat([results, normalized_data]) #.dropna(axis=1, how=\"all\")])\n",
       "</pre>\n"
      ],
      "text/plain": [
       "/var/folders/7t/k8q3439j6z3c683j7w00wtm80000gn/T/ipykernel_50509/330735155.py:26: FutureWarning: The behavior of \n",
       "DataFrame concatenation with empty or all-NA entries is deprecated. In a future version, this will no longer \n",
       "exclude empty or all-NA columns when determining the result dtypes. To retain the old behavior, exclude the \n",
       "relevant entries before the concat operation.\n",
       "  results = pd.concat([results, normalized_data]) #.dropna(axis=1, how=\"all\")])\n"
      ]
     },
     "metadata": {},
     "output_type": "display_data"
    },
    {
     "data": {
      "text/html": [
       "<pre style=\"white-space:pre;overflow-x:auto;line-height:normal;font-family:Menlo,'DejaVu Sans Mono',consolas,'Courier New',monospace\">/var/folders/7t/k8q3439j6z3c683j7w00wtm80000gn/T/ipykernel_50509/330735155.py:26: FutureWarning: The behavior of \n",
       "DataFrame concatenation with empty or all-NA entries is deprecated. In a future version, this will no longer \n",
       "exclude empty or all-NA columns when determining the result dtypes. To retain the old behavior, exclude the \n",
       "relevant entries before the concat operation.\n",
       "  results = pd.concat([results, normalized_data]) #.dropna(axis=1, how=\"all\")])\n",
       "</pre>\n"
      ],
      "text/plain": [
       "/var/folders/7t/k8q3439j6z3c683j7w00wtm80000gn/T/ipykernel_50509/330735155.py:26: FutureWarning: The behavior of \n",
       "DataFrame concatenation with empty or all-NA entries is deprecated. In a future version, this will no longer \n",
       "exclude empty or all-NA columns when determining the result dtypes. To retain the old behavior, exclude the \n",
       "relevant entries before the concat operation.\n",
       "  results = pd.concat([results, normalized_data]) #.dropna(axis=1, how=\"all\")])\n"
      ]
     },
     "metadata": {},
     "output_type": "display_data"
    },
    {
     "data": {
      "text/html": [
       "<pre style=\"white-space:pre;overflow-x:auto;line-height:normal;font-family:Menlo,'DejaVu Sans Mono',consolas,'Courier New',monospace\">/var/folders/7t/k8q3439j6z3c683j7w00wtm80000gn/T/ipykernel_50509/330735155.py:26: FutureWarning: The behavior of \n",
       "DataFrame concatenation with empty or all-NA entries is deprecated. In a future version, this will no longer \n",
       "exclude empty or all-NA columns when determining the result dtypes. To retain the old behavior, exclude the \n",
       "relevant entries before the concat operation.\n",
       "  results = pd.concat([results, normalized_data]) #.dropna(axis=1, how=\"all\")])\n",
       "</pre>\n"
      ],
      "text/plain": [
       "/var/folders/7t/k8q3439j6z3c683j7w00wtm80000gn/T/ipykernel_50509/330735155.py:26: FutureWarning: The behavior of \n",
       "DataFrame concatenation with empty or all-NA entries is deprecated. In a future version, this will no longer \n",
       "exclude empty or all-NA columns when determining the result dtypes. To retain the old behavior, exclude the \n",
       "relevant entries before the concat operation.\n",
       "  results = pd.concat([results, normalized_data]) #.dropna(axis=1, how=\"all\")])\n"
      ]
     },
     "metadata": {},
     "output_type": "display_data"
    },
    {
     "data": {
      "text/html": [
       "<pre style=\"white-space:pre;overflow-x:auto;line-height:normal;font-family:Menlo,'DejaVu Sans Mono',consolas,'Courier New',monospace\">/var/folders/7t/k8q3439j6z3c683j7w00wtm80000gn/T/ipykernel_50509/330735155.py:26: FutureWarning: The behavior of \n",
       "DataFrame concatenation with empty or all-NA entries is deprecated. In a future version, this will no longer \n",
       "exclude empty or all-NA columns when determining the result dtypes. To retain the old behavior, exclude the \n",
       "relevant entries before the concat operation.\n",
       "  results = pd.concat([results, normalized_data]) #.dropna(axis=1, how=\"all\")])\n",
       "</pre>\n"
      ],
      "text/plain": [
       "/var/folders/7t/k8q3439j6z3c683j7w00wtm80000gn/T/ipykernel_50509/330735155.py:26: FutureWarning: The behavior of \n",
       "DataFrame concatenation with empty or all-NA entries is deprecated. In a future version, this will no longer \n",
       "exclude empty or all-NA columns when determining the result dtypes. To retain the old behavior, exclude the \n",
       "relevant entries before the concat operation.\n",
       "  results = pd.concat([results, normalized_data]) #.dropna(axis=1, how=\"all\")])\n"
      ]
     },
     "metadata": {},
     "output_type": "display_data"
    },
    {
     "data": {
      "text/html": [
       "<pre style=\"white-space:pre;overflow-x:auto;line-height:normal;font-family:Menlo,'DejaVu Sans Mono',consolas,'Courier New',monospace\">/var/folders/7t/k8q3439j6z3c683j7w00wtm80000gn/T/ipykernel_50509/330735155.py:26: FutureWarning: The behavior of \n",
       "DataFrame concatenation with empty or all-NA entries is deprecated. In a future version, this will no longer \n",
       "exclude empty or all-NA columns when determining the result dtypes. To retain the old behavior, exclude the \n",
       "relevant entries before the concat operation.\n",
       "  results = pd.concat([results, normalized_data]) #.dropna(axis=1, how=\"all\")])\n",
       "</pre>\n"
      ],
      "text/plain": [
       "/var/folders/7t/k8q3439j6z3c683j7w00wtm80000gn/T/ipykernel_50509/330735155.py:26: FutureWarning: The behavior of \n",
       "DataFrame concatenation with empty or all-NA entries is deprecated. In a future version, this will no longer \n",
       "exclude empty or all-NA columns when determining the result dtypes. To retain the old behavior, exclude the \n",
       "relevant entries before the concat operation.\n",
       "  results = pd.concat([results, normalized_data]) #.dropna(axis=1, how=\"all\")])\n"
      ]
     },
     "metadata": {},
     "output_type": "display_data"
    },
    {
     "data": {
      "text/html": [
       "<pre style=\"white-space:pre;overflow-x:auto;line-height:normal;font-family:Menlo,'DejaVu Sans Mono',consolas,'Courier New',monospace\">/var/folders/7t/k8q3439j6z3c683j7w00wtm80000gn/T/ipykernel_50509/330735155.py:26: FutureWarning: The behavior of \n",
       "DataFrame concatenation with empty or all-NA entries is deprecated. In a future version, this will no longer \n",
       "exclude empty or all-NA columns when determining the result dtypes. To retain the old behavior, exclude the \n",
       "relevant entries before the concat operation.\n",
       "  results = pd.concat([results, normalized_data]) #.dropna(axis=1, how=\"all\")])\n",
       "</pre>\n"
      ],
      "text/plain": [
       "/var/folders/7t/k8q3439j6z3c683j7w00wtm80000gn/T/ipykernel_50509/330735155.py:26: FutureWarning: The behavior of \n",
       "DataFrame concatenation with empty or all-NA entries is deprecated. In a future version, this will no longer \n",
       "exclude empty or all-NA columns when determining the result dtypes. To retain the old behavior, exclude the \n",
       "relevant entries before the concat operation.\n",
       "  results = pd.concat([results, normalized_data]) #.dropna(axis=1, how=\"all\")])\n"
      ]
     },
     "metadata": {},
     "output_type": "display_data"
    },
    {
     "data": {
      "text/html": [
       "<pre style=\"white-space:pre;overflow-x:auto;line-height:normal;font-family:Menlo,'DejaVu Sans Mono',consolas,'Courier New',monospace\">/var/folders/7t/k8q3439j6z3c683j7w00wtm80000gn/T/ipykernel_50509/330735155.py:26: FutureWarning: The behavior of \n",
       "DataFrame concatenation with empty or all-NA entries is deprecated. In a future version, this will no longer \n",
       "exclude empty or all-NA columns when determining the result dtypes. To retain the old behavior, exclude the \n",
       "relevant entries before the concat operation.\n",
       "  results = pd.concat([results, normalized_data]) #.dropna(axis=1, how=\"all\")])\n",
       "</pre>\n"
      ],
      "text/plain": [
       "/var/folders/7t/k8q3439j6z3c683j7w00wtm80000gn/T/ipykernel_50509/330735155.py:26: FutureWarning: The behavior of \n",
       "DataFrame concatenation with empty or all-NA entries is deprecated. In a future version, this will no longer \n",
       "exclude empty or all-NA columns when determining the result dtypes. To retain the old behavior, exclude the \n",
       "relevant entries before the concat operation.\n",
       "  results = pd.concat([results, normalized_data]) #.dropna(axis=1, how=\"all\")])\n"
      ]
     },
     "metadata": {},
     "output_type": "display_data"
    },
    {
     "data": {
      "text/html": [
       "<pre style=\"white-space:pre;overflow-x:auto;line-height:normal;font-family:Menlo,'DejaVu Sans Mono',consolas,'Courier New',monospace\">/var/folders/7t/k8q3439j6z3c683j7w00wtm80000gn/T/ipykernel_50509/330735155.py:26: FutureWarning: The behavior of \n",
       "DataFrame concatenation with empty or all-NA entries is deprecated. In a future version, this will no longer \n",
       "exclude empty or all-NA columns when determining the result dtypes. To retain the old behavior, exclude the \n",
       "relevant entries before the concat operation.\n",
       "  results = pd.concat([results, normalized_data]) #.dropna(axis=1, how=\"all\")])\n",
       "</pre>\n"
      ],
      "text/plain": [
       "/var/folders/7t/k8q3439j6z3c683j7w00wtm80000gn/T/ipykernel_50509/330735155.py:26: FutureWarning: The behavior of \n",
       "DataFrame concatenation with empty or all-NA entries is deprecated. In a future version, this will no longer \n",
       "exclude empty or all-NA columns when determining the result dtypes. To retain the old behavior, exclude the \n",
       "relevant entries before the concat operation.\n",
       "  results = pd.concat([results, normalized_data]) #.dropna(axis=1, how=\"all\")])\n"
      ]
     },
     "metadata": {},
     "output_type": "display_data"
    },
    {
     "data": {
      "text/html": [
       "<pre style=\"white-space:pre;overflow-x:auto;line-height:normal;font-family:Menlo,'DejaVu Sans Mono',consolas,'Courier New',monospace\">/var/folders/7t/k8q3439j6z3c683j7w00wtm80000gn/T/ipykernel_50509/330735155.py:26: FutureWarning: The behavior of \n",
       "DataFrame concatenation with empty or all-NA entries is deprecated. In a future version, this will no longer \n",
       "exclude empty or all-NA columns when determining the result dtypes. To retain the old behavior, exclude the \n",
       "relevant entries before the concat operation.\n",
       "  results = pd.concat([results, normalized_data]) #.dropna(axis=1, how=\"all\")])\n",
       "</pre>\n"
      ],
      "text/plain": [
       "/var/folders/7t/k8q3439j6z3c683j7w00wtm80000gn/T/ipykernel_50509/330735155.py:26: FutureWarning: The behavior of \n",
       "DataFrame concatenation with empty or all-NA entries is deprecated. In a future version, this will no longer \n",
       "exclude empty or all-NA columns when determining the result dtypes. To retain the old behavior, exclude the \n",
       "relevant entries before the concat operation.\n",
       "  results = pd.concat([results, normalized_data]) #.dropna(axis=1, how=\"all\")])\n"
      ]
     },
     "metadata": {},
     "output_type": "display_data"
    },
    {
     "data": {
      "text/html": [
       "<pre style=\"white-space:pre;overflow-x:auto;line-height:normal;font-family:Menlo,'DejaVu Sans Mono',consolas,'Courier New',monospace\">/var/folders/7t/k8q3439j6z3c683j7w00wtm80000gn/T/ipykernel_50509/330735155.py:26: FutureWarning: The behavior of \n",
       "DataFrame concatenation with empty or all-NA entries is deprecated. In a future version, this will no longer \n",
       "exclude empty or all-NA columns when determining the result dtypes. To retain the old behavior, exclude the \n",
       "relevant entries before the concat operation.\n",
       "  results = pd.concat([results, normalized_data]) #.dropna(axis=1, how=\"all\")])\n",
       "</pre>\n"
      ],
      "text/plain": [
       "/var/folders/7t/k8q3439j6z3c683j7w00wtm80000gn/T/ipykernel_50509/330735155.py:26: FutureWarning: The behavior of \n",
       "DataFrame concatenation with empty or all-NA entries is deprecated. In a future version, this will no longer \n",
       "exclude empty or all-NA columns when determining the result dtypes. To retain the old behavior, exclude the \n",
       "relevant entries before the concat operation.\n",
       "  results = pd.concat([results, normalized_data]) #.dropna(axis=1, how=\"all\")])\n"
      ]
     },
     "metadata": {},
     "output_type": "display_data"
    },
    {
     "data": {
      "text/html": [
       "<pre style=\"white-space:pre;overflow-x:auto;line-height:normal;font-family:Menlo,'DejaVu Sans Mono',consolas,'Courier New',monospace\">/var/folders/7t/k8q3439j6z3c683j7w00wtm80000gn/T/ipykernel_50509/330735155.py:26: FutureWarning: The behavior of \n",
       "DataFrame concatenation with empty or all-NA entries is deprecated. In a future version, this will no longer \n",
       "exclude empty or all-NA columns when determining the result dtypes. To retain the old behavior, exclude the \n",
       "relevant entries before the concat operation.\n",
       "  results = pd.concat([results, normalized_data]) #.dropna(axis=1, how=\"all\")])\n",
       "</pre>\n"
      ],
      "text/plain": [
       "/var/folders/7t/k8q3439j6z3c683j7w00wtm80000gn/T/ipykernel_50509/330735155.py:26: FutureWarning: The behavior of \n",
       "DataFrame concatenation with empty or all-NA entries is deprecated. In a future version, this will no longer \n",
       "exclude empty or all-NA columns when determining the result dtypes. To retain the old behavior, exclude the \n",
       "relevant entries before the concat operation.\n",
       "  results = pd.concat([results, normalized_data]) #.dropna(axis=1, how=\"all\")])\n"
      ]
     },
     "metadata": {},
     "output_type": "display_data"
    },
    {
     "data": {
      "text/html": [
       "<pre style=\"white-space:pre;overflow-x:auto;line-height:normal;font-family:Menlo,'DejaVu Sans Mono',consolas,'Courier New',monospace\">/var/folders/7t/k8q3439j6z3c683j7w00wtm80000gn/T/ipykernel_50509/330735155.py:26: FutureWarning: The behavior of \n",
       "DataFrame concatenation with empty or all-NA entries is deprecated. In a future version, this will no longer \n",
       "exclude empty or all-NA columns when determining the result dtypes. To retain the old behavior, exclude the \n",
       "relevant entries before the concat operation.\n",
       "  results = pd.concat([results, normalized_data]) #.dropna(axis=1, how=\"all\")])\n",
       "</pre>\n"
      ],
      "text/plain": [
       "/var/folders/7t/k8q3439j6z3c683j7w00wtm80000gn/T/ipykernel_50509/330735155.py:26: FutureWarning: The behavior of \n",
       "DataFrame concatenation with empty or all-NA entries is deprecated. In a future version, this will no longer \n",
       "exclude empty or all-NA columns when determining the result dtypes. To retain the old behavior, exclude the \n",
       "relevant entries before the concat operation.\n",
       "  results = pd.concat([results, normalized_data]) #.dropna(axis=1, how=\"all\")])\n"
      ]
     },
     "metadata": {},
     "output_type": "display_data"
    },
    {
     "data": {
      "text/html": [
       "<pre style=\"white-space:pre;overflow-x:auto;line-height:normal;font-family:Menlo,'DejaVu Sans Mono',consolas,'Courier New',monospace\">/var/folders/7t/k8q3439j6z3c683j7w00wtm80000gn/T/ipykernel_50509/330735155.py:26: FutureWarning: The behavior of \n",
       "DataFrame concatenation with empty or all-NA entries is deprecated. In a future version, this will no longer \n",
       "exclude empty or all-NA columns when determining the result dtypes. To retain the old behavior, exclude the \n",
       "relevant entries before the concat operation.\n",
       "  results = pd.concat([results, normalized_data]) #.dropna(axis=1, how=\"all\")])\n",
       "</pre>\n"
      ],
      "text/plain": [
       "/var/folders/7t/k8q3439j6z3c683j7w00wtm80000gn/T/ipykernel_50509/330735155.py:26: FutureWarning: The behavior of \n",
       "DataFrame concatenation with empty or all-NA entries is deprecated. In a future version, this will no longer \n",
       "exclude empty or all-NA columns when determining the result dtypes. To retain the old behavior, exclude the \n",
       "relevant entries before the concat operation.\n",
       "  results = pd.concat([results, normalized_data]) #.dropna(axis=1, how=\"all\")])\n"
      ]
     },
     "metadata": {},
     "output_type": "display_data"
    },
    {
     "data": {
      "text/html": [
       "<pre style=\"white-space:pre;overflow-x:auto;line-height:normal;font-family:Menlo,'DejaVu Sans Mono',consolas,'Courier New',monospace\">/var/folders/7t/k8q3439j6z3c683j7w00wtm80000gn/T/ipykernel_50509/330735155.py:26: FutureWarning: The behavior of \n",
       "DataFrame concatenation with empty or all-NA entries is deprecated. In a future version, this will no longer \n",
       "exclude empty or all-NA columns when determining the result dtypes. To retain the old behavior, exclude the \n",
       "relevant entries before the concat operation.\n",
       "  results = pd.concat([results, normalized_data]) #.dropna(axis=1, how=\"all\")])\n",
       "</pre>\n"
      ],
      "text/plain": [
       "/var/folders/7t/k8q3439j6z3c683j7w00wtm80000gn/T/ipykernel_50509/330735155.py:26: FutureWarning: The behavior of \n",
       "DataFrame concatenation with empty or all-NA entries is deprecated. In a future version, this will no longer \n",
       "exclude empty or all-NA columns when determining the result dtypes. To retain the old behavior, exclude the \n",
       "relevant entries before the concat operation.\n",
       "  results = pd.concat([results, normalized_data]) #.dropna(axis=1, how=\"all\")])\n"
      ]
     },
     "metadata": {},
     "output_type": "display_data"
    },
    {
     "data": {
      "text/html": [
       "<pre style=\"white-space:pre;overflow-x:auto;line-height:normal;font-family:Menlo,'DejaVu Sans Mono',consolas,'Courier New',monospace\">/var/folders/7t/k8q3439j6z3c683j7w00wtm80000gn/T/ipykernel_50509/330735155.py:26: FutureWarning: The behavior of \n",
       "DataFrame concatenation with empty or all-NA entries is deprecated. In a future version, this will no longer \n",
       "exclude empty or all-NA columns when determining the result dtypes. To retain the old behavior, exclude the \n",
       "relevant entries before the concat operation.\n",
       "  results = pd.concat([results, normalized_data]) #.dropna(axis=1, how=\"all\")])\n",
       "</pre>\n"
      ],
      "text/plain": [
       "/var/folders/7t/k8q3439j6z3c683j7w00wtm80000gn/T/ipykernel_50509/330735155.py:26: FutureWarning: The behavior of \n",
       "DataFrame concatenation with empty or all-NA entries is deprecated. In a future version, this will no longer \n",
       "exclude empty or all-NA columns when determining the result dtypes. To retain the old behavior, exclude the \n",
       "relevant entries before the concat operation.\n",
       "  results = pd.concat([results, normalized_data]) #.dropna(axis=1, how=\"all\")])\n"
      ]
     },
     "metadata": {},
     "output_type": "display_data"
    },
    {
     "data": {
      "text/html": [
       "<pre style=\"white-space:pre;overflow-x:auto;line-height:normal;font-family:Menlo,'DejaVu Sans Mono',consolas,'Courier New',monospace\">/var/folders/7t/k8q3439j6z3c683j7w00wtm80000gn/T/ipykernel_50509/330735155.py:26: FutureWarning: The behavior of \n",
       "DataFrame concatenation with empty or all-NA entries is deprecated. In a future version, this will no longer \n",
       "exclude empty or all-NA columns when determining the result dtypes. To retain the old behavior, exclude the \n",
       "relevant entries before the concat operation.\n",
       "  results = pd.concat([results, normalized_data]) #.dropna(axis=1, how=\"all\")])\n",
       "</pre>\n"
      ],
      "text/plain": [
       "/var/folders/7t/k8q3439j6z3c683j7w00wtm80000gn/T/ipykernel_50509/330735155.py:26: FutureWarning: The behavior of \n",
       "DataFrame concatenation with empty or all-NA entries is deprecated. In a future version, this will no longer \n",
       "exclude empty or all-NA columns when determining the result dtypes. To retain the old behavior, exclude the \n",
       "relevant entries before the concat operation.\n",
       "  results = pd.concat([results, normalized_data]) #.dropna(axis=1, how=\"all\")])\n"
      ]
     },
     "metadata": {},
     "output_type": "display_data"
    },
    {
     "data": {
      "text/html": [
       "<pre style=\"white-space:pre;overflow-x:auto;line-height:normal;font-family:Menlo,'DejaVu Sans Mono',consolas,'Courier New',monospace\">/var/folders/7t/k8q3439j6z3c683j7w00wtm80000gn/T/ipykernel_50509/330735155.py:26: FutureWarning: The behavior of \n",
       "DataFrame concatenation with empty or all-NA entries is deprecated. In a future version, this will no longer \n",
       "exclude empty or all-NA columns when determining the result dtypes. To retain the old behavior, exclude the \n",
       "relevant entries before the concat operation.\n",
       "  results = pd.concat([results, normalized_data]) #.dropna(axis=1, how=\"all\")])\n",
       "</pre>\n"
      ],
      "text/plain": [
       "/var/folders/7t/k8q3439j6z3c683j7w00wtm80000gn/T/ipykernel_50509/330735155.py:26: FutureWarning: The behavior of \n",
       "DataFrame concatenation with empty or all-NA entries is deprecated. In a future version, this will no longer \n",
       "exclude empty or all-NA columns when determining the result dtypes. To retain the old behavior, exclude the \n",
       "relevant entries before the concat operation.\n",
       "  results = pd.concat([results, normalized_data]) #.dropna(axis=1, how=\"all\")])\n"
      ]
     },
     "metadata": {},
     "output_type": "display_data"
    },
    {
     "data": {
      "text/html": [
       "<pre style=\"white-space:pre;overflow-x:auto;line-height:normal;font-family:Menlo,'DejaVu Sans Mono',consolas,'Courier New',monospace\">/var/folders/7t/k8q3439j6z3c683j7w00wtm80000gn/T/ipykernel_50509/330735155.py:26: FutureWarning: The behavior of \n",
       "DataFrame concatenation with empty or all-NA entries is deprecated. In a future version, this will no longer \n",
       "exclude empty or all-NA columns when determining the result dtypes. To retain the old behavior, exclude the \n",
       "relevant entries before the concat operation.\n",
       "  results = pd.concat([results, normalized_data]) #.dropna(axis=1, how=\"all\")])\n",
       "</pre>\n"
      ],
      "text/plain": [
       "/var/folders/7t/k8q3439j6z3c683j7w00wtm80000gn/T/ipykernel_50509/330735155.py:26: FutureWarning: The behavior of \n",
       "DataFrame concatenation with empty or all-NA entries is deprecated. In a future version, this will no longer \n",
       "exclude empty or all-NA columns when determining the result dtypes. To retain the old behavior, exclude the \n",
       "relevant entries before the concat operation.\n",
       "  results = pd.concat([results, normalized_data]) #.dropna(axis=1, how=\"all\")])\n"
      ]
     },
     "metadata": {},
     "output_type": "display_data"
    },
    {
     "data": {
      "text/html": [
       "<pre style=\"white-space:pre;overflow-x:auto;line-height:normal;font-family:Menlo,'DejaVu Sans Mono',consolas,'Courier New',monospace\">/var/folders/7t/k8q3439j6z3c683j7w00wtm80000gn/T/ipykernel_50509/330735155.py:26: FutureWarning: The behavior of \n",
       "DataFrame concatenation with empty or all-NA entries is deprecated. In a future version, this will no longer \n",
       "exclude empty or all-NA columns when determining the result dtypes. To retain the old behavior, exclude the \n",
       "relevant entries before the concat operation.\n",
       "  results = pd.concat([results, normalized_data]) #.dropna(axis=1, how=\"all\")])\n",
       "</pre>\n"
      ],
      "text/plain": [
       "/var/folders/7t/k8q3439j6z3c683j7w00wtm80000gn/T/ipykernel_50509/330735155.py:26: FutureWarning: The behavior of \n",
       "DataFrame concatenation with empty or all-NA entries is deprecated. In a future version, this will no longer \n",
       "exclude empty or all-NA columns when determining the result dtypes. To retain the old behavior, exclude the \n",
       "relevant entries before the concat operation.\n",
       "  results = pd.concat([results, normalized_data]) #.dropna(axis=1, how=\"all\")])\n"
      ]
     },
     "metadata": {},
     "output_type": "display_data"
    },
    {
     "data": {
      "text/html": [
       "<pre style=\"white-space:pre;overflow-x:auto;line-height:normal;font-family:Menlo,'DejaVu Sans Mono',consolas,'Courier New',monospace\">/var/folders/7t/k8q3439j6z3c683j7w00wtm80000gn/T/ipykernel_50509/330735155.py:26: FutureWarning: The behavior of \n",
       "DataFrame concatenation with empty or all-NA entries is deprecated. In a future version, this will no longer \n",
       "exclude empty or all-NA columns when determining the result dtypes. To retain the old behavior, exclude the \n",
       "relevant entries before the concat operation.\n",
       "  results = pd.concat([results, normalized_data]) #.dropna(axis=1, how=\"all\")])\n",
       "</pre>\n"
      ],
      "text/plain": [
       "/var/folders/7t/k8q3439j6z3c683j7w00wtm80000gn/T/ipykernel_50509/330735155.py:26: FutureWarning: The behavior of \n",
       "DataFrame concatenation with empty or all-NA entries is deprecated. In a future version, this will no longer \n",
       "exclude empty or all-NA columns when determining the result dtypes. To retain the old behavior, exclude the \n",
       "relevant entries before the concat operation.\n",
       "  results = pd.concat([results, normalized_data]) #.dropna(axis=1, how=\"all\")])\n"
      ]
     },
     "metadata": {},
     "output_type": "display_data"
    },
    {
     "data": {
      "text/html": [
       "<pre style=\"white-space:pre;overflow-x:auto;line-height:normal;font-family:Menlo,'DejaVu Sans Mono',consolas,'Courier New',monospace\">/var/folders/7t/k8q3439j6z3c683j7w00wtm80000gn/T/ipykernel_50509/330735155.py:26: FutureWarning: The behavior of \n",
       "DataFrame concatenation with empty or all-NA entries is deprecated. In a future version, this will no longer \n",
       "exclude empty or all-NA columns when determining the result dtypes. To retain the old behavior, exclude the \n",
       "relevant entries before the concat operation.\n",
       "  results = pd.concat([results, normalized_data]) #.dropna(axis=1, how=\"all\")])\n",
       "</pre>\n"
      ],
      "text/plain": [
       "/var/folders/7t/k8q3439j6z3c683j7w00wtm80000gn/T/ipykernel_50509/330735155.py:26: FutureWarning: The behavior of \n",
       "DataFrame concatenation with empty or all-NA entries is deprecated. In a future version, this will no longer \n",
       "exclude empty or all-NA columns when determining the result dtypes. To retain the old behavior, exclude the \n",
       "relevant entries before the concat operation.\n",
       "  results = pd.concat([results, normalized_data]) #.dropna(axis=1, how=\"all\")])\n"
      ]
     },
     "metadata": {},
     "output_type": "display_data"
    },
    {
     "data": {
      "text/html": [
       "<pre style=\"white-space:pre;overflow-x:auto;line-height:normal;font-family:Menlo,'DejaVu Sans Mono',consolas,'Courier New',monospace\">/var/folders/7t/k8q3439j6z3c683j7w00wtm80000gn/T/ipykernel_50509/330735155.py:26: FutureWarning: The behavior of \n",
       "DataFrame concatenation with empty or all-NA entries is deprecated. In a future version, this will no longer \n",
       "exclude empty or all-NA columns when determining the result dtypes. To retain the old behavior, exclude the \n",
       "relevant entries before the concat operation.\n",
       "  results = pd.concat([results, normalized_data]) #.dropna(axis=1, how=\"all\")])\n",
       "</pre>\n"
      ],
      "text/plain": [
       "/var/folders/7t/k8q3439j6z3c683j7w00wtm80000gn/T/ipykernel_50509/330735155.py:26: FutureWarning: The behavior of \n",
       "DataFrame concatenation with empty or all-NA entries is deprecated. In a future version, this will no longer \n",
       "exclude empty or all-NA columns when determining the result dtypes. To retain the old behavior, exclude the \n",
       "relevant entries before the concat operation.\n",
       "  results = pd.concat([results, normalized_data]) #.dropna(axis=1, how=\"all\")])\n"
      ]
     },
     "metadata": {},
     "output_type": "display_data"
    },
    {
     "data": {
      "text/html": [
       "<pre style=\"white-space:pre;overflow-x:auto;line-height:normal;font-family:Menlo,'DejaVu Sans Mono',consolas,'Courier New',monospace\">/var/folders/7t/k8q3439j6z3c683j7w00wtm80000gn/T/ipykernel_50509/330735155.py:26: FutureWarning: The behavior of \n",
       "DataFrame concatenation with empty or all-NA entries is deprecated. In a future version, this will no longer \n",
       "exclude empty or all-NA columns when determining the result dtypes. To retain the old behavior, exclude the \n",
       "relevant entries before the concat operation.\n",
       "  results = pd.concat([results, normalized_data]) #.dropna(axis=1, how=\"all\")])\n",
       "</pre>\n"
      ],
      "text/plain": [
       "/var/folders/7t/k8q3439j6z3c683j7w00wtm80000gn/T/ipykernel_50509/330735155.py:26: FutureWarning: The behavior of \n",
       "DataFrame concatenation with empty or all-NA entries is deprecated. In a future version, this will no longer \n",
       "exclude empty or all-NA columns when determining the result dtypes. To retain the old behavior, exclude the \n",
       "relevant entries before the concat operation.\n",
       "  results = pd.concat([results, normalized_data]) #.dropna(axis=1, how=\"all\")])\n"
      ]
     },
     "metadata": {},
     "output_type": "display_data"
    },
    {
     "data": {
      "text/html": [
       "<pre style=\"white-space:pre;overflow-x:auto;line-height:normal;font-family:Menlo,'DejaVu Sans Mono',consolas,'Courier New',monospace\">/var/folders/7t/k8q3439j6z3c683j7w00wtm80000gn/T/ipykernel_50509/330735155.py:26: FutureWarning: The behavior of \n",
       "DataFrame concatenation with empty or all-NA entries is deprecated. In a future version, this will no longer \n",
       "exclude empty or all-NA columns when determining the result dtypes. To retain the old behavior, exclude the \n",
       "relevant entries before the concat operation.\n",
       "  results = pd.concat([results, normalized_data]) #.dropna(axis=1, how=\"all\")])\n",
       "</pre>\n"
      ],
      "text/plain": [
       "/var/folders/7t/k8q3439j6z3c683j7w00wtm80000gn/T/ipykernel_50509/330735155.py:26: FutureWarning: The behavior of \n",
       "DataFrame concatenation with empty or all-NA entries is deprecated. In a future version, this will no longer \n",
       "exclude empty or all-NA columns when determining the result dtypes. To retain the old behavior, exclude the \n",
       "relevant entries before the concat operation.\n",
       "  results = pd.concat([results, normalized_data]) #.dropna(axis=1, how=\"all\")])\n"
      ]
     },
     "metadata": {},
     "output_type": "display_data"
    },
    {
     "data": {
      "text/html": [
       "<pre style=\"white-space:pre;overflow-x:auto;line-height:normal;font-family:Menlo,'DejaVu Sans Mono',consolas,'Courier New',monospace\">/var/folders/7t/k8q3439j6z3c683j7w00wtm80000gn/T/ipykernel_50509/330735155.py:26: FutureWarning: The behavior of \n",
       "DataFrame concatenation with empty or all-NA entries is deprecated. In a future version, this will no longer \n",
       "exclude empty or all-NA columns when determining the result dtypes. To retain the old behavior, exclude the \n",
       "relevant entries before the concat operation.\n",
       "  results = pd.concat([results, normalized_data]) #.dropna(axis=1, how=\"all\")])\n",
       "</pre>\n"
      ],
      "text/plain": [
       "/var/folders/7t/k8q3439j6z3c683j7w00wtm80000gn/T/ipykernel_50509/330735155.py:26: FutureWarning: The behavior of \n",
       "DataFrame concatenation with empty or all-NA entries is deprecated. In a future version, this will no longer \n",
       "exclude empty or all-NA columns when determining the result dtypes. To retain the old behavior, exclude the \n",
       "relevant entries before the concat operation.\n",
       "  results = pd.concat([results, normalized_data]) #.dropna(axis=1, how=\"all\")])\n"
      ]
     },
     "metadata": {},
     "output_type": "display_data"
    },
    {
     "data": {
      "text/html": [
       "<pre style=\"white-space:pre;overflow-x:auto;line-height:normal;font-family:Menlo,'DejaVu Sans Mono',consolas,'Courier New',monospace\">/var/folders/7t/k8q3439j6z3c683j7w00wtm80000gn/T/ipykernel_50509/330735155.py:26: FutureWarning: The behavior of \n",
       "DataFrame concatenation with empty or all-NA entries is deprecated. In a future version, this will no longer \n",
       "exclude empty or all-NA columns when determining the result dtypes. To retain the old behavior, exclude the \n",
       "relevant entries before the concat operation.\n",
       "  results = pd.concat([results, normalized_data]) #.dropna(axis=1, how=\"all\")])\n",
       "</pre>\n"
      ],
      "text/plain": [
       "/var/folders/7t/k8q3439j6z3c683j7w00wtm80000gn/T/ipykernel_50509/330735155.py:26: FutureWarning: The behavior of \n",
       "DataFrame concatenation with empty or all-NA entries is deprecated. In a future version, this will no longer \n",
       "exclude empty or all-NA columns when determining the result dtypes. To retain the old behavior, exclude the \n",
       "relevant entries before the concat operation.\n",
       "  results = pd.concat([results, normalized_data]) #.dropna(axis=1, how=\"all\")])\n"
      ]
     },
     "metadata": {},
     "output_type": "display_data"
    },
    {
     "data": {
      "text/html": [
       "<pre style=\"white-space:pre;overflow-x:auto;line-height:normal;font-family:Menlo,'DejaVu Sans Mono',consolas,'Courier New',monospace\">/var/folders/7t/k8q3439j6z3c683j7w00wtm80000gn/T/ipykernel_50509/330735155.py:26: FutureWarning: The behavior of \n",
       "DataFrame concatenation with empty or all-NA entries is deprecated. In a future version, this will no longer \n",
       "exclude empty or all-NA columns when determining the result dtypes. To retain the old behavior, exclude the \n",
       "relevant entries before the concat operation.\n",
       "  results = pd.concat([results, normalized_data]) #.dropna(axis=1, how=\"all\")])\n",
       "</pre>\n"
      ],
      "text/plain": [
       "/var/folders/7t/k8q3439j6z3c683j7w00wtm80000gn/T/ipykernel_50509/330735155.py:26: FutureWarning: The behavior of \n",
       "DataFrame concatenation with empty or all-NA entries is deprecated. In a future version, this will no longer \n",
       "exclude empty or all-NA columns when determining the result dtypes. To retain the old behavior, exclude the \n",
       "relevant entries before the concat operation.\n",
       "  results = pd.concat([results, normalized_data]) #.dropna(axis=1, how=\"all\")])\n"
      ]
     },
     "metadata": {},
     "output_type": "display_data"
    },
    {
     "data": {
      "text/html": [
       "<pre style=\"white-space:pre;overflow-x:auto;line-height:normal;font-family:Menlo,'DejaVu Sans Mono',consolas,'Courier New',monospace\">/var/folders/7t/k8q3439j6z3c683j7w00wtm80000gn/T/ipykernel_50509/330735155.py:26: FutureWarning: The behavior of \n",
       "DataFrame concatenation with empty or all-NA entries is deprecated. In a future version, this will no longer \n",
       "exclude empty or all-NA columns when determining the result dtypes. To retain the old behavior, exclude the \n",
       "relevant entries before the concat operation.\n",
       "  results = pd.concat([results, normalized_data]) #.dropna(axis=1, how=\"all\")])\n",
       "</pre>\n"
      ],
      "text/plain": [
       "/var/folders/7t/k8q3439j6z3c683j7w00wtm80000gn/T/ipykernel_50509/330735155.py:26: FutureWarning: The behavior of \n",
       "DataFrame concatenation with empty or all-NA entries is deprecated. In a future version, this will no longer \n",
       "exclude empty or all-NA columns when determining the result dtypes. To retain the old behavior, exclude the \n",
       "relevant entries before the concat operation.\n",
       "  results = pd.concat([results, normalized_data]) #.dropna(axis=1, how=\"all\")])\n"
      ]
     },
     "metadata": {},
     "output_type": "display_data"
    },
    {
     "data": {
      "text/html": [
       "<pre style=\"white-space:pre;overflow-x:auto;line-height:normal;font-family:Menlo,'DejaVu Sans Mono',consolas,'Courier New',monospace\">/var/folders/7t/k8q3439j6z3c683j7w00wtm80000gn/T/ipykernel_50509/330735155.py:26: FutureWarning: The behavior of \n",
       "DataFrame concatenation with empty or all-NA entries is deprecated. In a future version, this will no longer \n",
       "exclude empty or all-NA columns when determining the result dtypes. To retain the old behavior, exclude the \n",
       "relevant entries before the concat operation.\n",
       "  results = pd.concat([results, normalized_data]) #.dropna(axis=1, how=\"all\")])\n",
       "</pre>\n"
      ],
      "text/plain": [
       "/var/folders/7t/k8q3439j6z3c683j7w00wtm80000gn/T/ipykernel_50509/330735155.py:26: FutureWarning: The behavior of \n",
       "DataFrame concatenation with empty or all-NA entries is deprecated. In a future version, this will no longer \n",
       "exclude empty or all-NA columns when determining the result dtypes. To retain the old behavior, exclude the \n",
       "relevant entries before the concat operation.\n",
       "  results = pd.concat([results, normalized_data]) #.dropna(axis=1, how=\"all\")])\n"
      ]
     },
     "metadata": {},
     "output_type": "display_data"
    },
    {
     "data": {
      "text/html": [
       "<pre style=\"white-space:pre;overflow-x:auto;line-height:normal;font-family:Menlo,'DejaVu Sans Mono',consolas,'Courier New',monospace\">/var/folders/7t/k8q3439j6z3c683j7w00wtm80000gn/T/ipykernel_50509/330735155.py:26: FutureWarning: The behavior of \n",
       "DataFrame concatenation with empty or all-NA entries is deprecated. In a future version, this will no longer \n",
       "exclude empty or all-NA columns when determining the result dtypes. To retain the old behavior, exclude the \n",
       "relevant entries before the concat operation.\n",
       "  results = pd.concat([results, normalized_data]) #.dropna(axis=1, how=\"all\")])\n",
       "</pre>\n"
      ],
      "text/plain": [
       "/var/folders/7t/k8q3439j6z3c683j7w00wtm80000gn/T/ipykernel_50509/330735155.py:26: FutureWarning: The behavior of \n",
       "DataFrame concatenation with empty or all-NA entries is deprecated. In a future version, this will no longer \n",
       "exclude empty or all-NA columns when determining the result dtypes. To retain the old behavior, exclude the \n",
       "relevant entries before the concat operation.\n",
       "  results = pd.concat([results, normalized_data]) #.dropna(axis=1, how=\"all\")])\n"
      ]
     },
     "metadata": {},
     "output_type": "display_data"
    },
    {
     "data": {
      "text/html": [
       "<pre style=\"white-space:pre;overflow-x:auto;line-height:normal;font-family:Menlo,'DejaVu Sans Mono',consolas,'Courier New',monospace\">/var/folders/7t/k8q3439j6z3c683j7w00wtm80000gn/T/ipykernel_50509/330735155.py:26: FutureWarning: The behavior of \n",
       "DataFrame concatenation with empty or all-NA entries is deprecated. In a future version, this will no longer \n",
       "exclude empty or all-NA columns when determining the result dtypes. To retain the old behavior, exclude the \n",
       "relevant entries before the concat operation.\n",
       "  results = pd.concat([results, normalized_data]) #.dropna(axis=1, how=\"all\")])\n",
       "</pre>\n"
      ],
      "text/plain": [
       "/var/folders/7t/k8q3439j6z3c683j7w00wtm80000gn/T/ipykernel_50509/330735155.py:26: FutureWarning: The behavior of \n",
       "DataFrame concatenation with empty or all-NA entries is deprecated. In a future version, this will no longer \n",
       "exclude empty or all-NA columns when determining the result dtypes. To retain the old behavior, exclude the \n",
       "relevant entries before the concat operation.\n",
       "  results = pd.concat([results, normalized_data]) #.dropna(axis=1, how=\"all\")])\n"
      ]
     },
     "metadata": {},
     "output_type": "display_data"
    },
    {
     "data": {
      "text/html": [
       "<pre style=\"white-space:pre;overflow-x:auto;line-height:normal;font-family:Menlo,'DejaVu Sans Mono',consolas,'Courier New',monospace\">/var/folders/7t/k8q3439j6z3c683j7w00wtm80000gn/T/ipykernel_50509/330735155.py:26: FutureWarning: The behavior of \n",
       "DataFrame concatenation with empty or all-NA entries is deprecated. In a future version, this will no longer \n",
       "exclude empty or all-NA columns when determining the result dtypes. To retain the old behavior, exclude the \n",
       "relevant entries before the concat operation.\n",
       "  results = pd.concat([results, normalized_data]) #.dropna(axis=1, how=\"all\")])\n",
       "</pre>\n"
      ],
      "text/plain": [
       "/var/folders/7t/k8q3439j6z3c683j7w00wtm80000gn/T/ipykernel_50509/330735155.py:26: FutureWarning: The behavior of \n",
       "DataFrame concatenation with empty or all-NA entries is deprecated. In a future version, this will no longer \n",
       "exclude empty or all-NA columns when determining the result dtypes. To retain the old behavior, exclude the \n",
       "relevant entries before the concat operation.\n",
       "  results = pd.concat([results, normalized_data]) #.dropna(axis=1, how=\"all\")])\n"
      ]
     },
     "metadata": {},
     "output_type": "display_data"
    },
    {
     "data": {
      "text/html": [
       "<pre style=\"white-space:pre;overflow-x:auto;line-height:normal;font-family:Menlo,'DejaVu Sans Mono',consolas,'Courier New',monospace\">/var/folders/7t/k8q3439j6z3c683j7w00wtm80000gn/T/ipykernel_50509/330735155.py:26: FutureWarning: The behavior of \n",
       "DataFrame concatenation with empty or all-NA entries is deprecated. In a future version, this will no longer \n",
       "exclude empty or all-NA columns when determining the result dtypes. To retain the old behavior, exclude the \n",
       "relevant entries before the concat operation.\n",
       "  results = pd.concat([results, normalized_data]) #.dropna(axis=1, how=\"all\")])\n",
       "</pre>\n"
      ],
      "text/plain": [
       "/var/folders/7t/k8q3439j6z3c683j7w00wtm80000gn/T/ipykernel_50509/330735155.py:26: FutureWarning: The behavior of \n",
       "DataFrame concatenation with empty or all-NA entries is deprecated. In a future version, this will no longer \n",
       "exclude empty or all-NA columns when determining the result dtypes. To retain the old behavior, exclude the \n",
       "relevant entries before the concat operation.\n",
       "  results = pd.concat([results, normalized_data]) #.dropna(axis=1, how=\"all\")])\n"
      ]
     },
     "metadata": {},
     "output_type": "display_data"
    },
    {
     "data": {
      "text/html": [
       "<pre style=\"white-space:pre;overflow-x:auto;line-height:normal;font-family:Menlo,'DejaVu Sans Mono',consolas,'Courier New',monospace\">/var/folders/7t/k8q3439j6z3c683j7w00wtm80000gn/T/ipykernel_50509/330735155.py:26: FutureWarning: The behavior of \n",
       "DataFrame concatenation with empty or all-NA entries is deprecated. In a future version, this will no longer \n",
       "exclude empty or all-NA columns when determining the result dtypes. To retain the old behavior, exclude the \n",
       "relevant entries before the concat operation.\n",
       "  results = pd.concat([results, normalized_data]) #.dropna(axis=1, how=\"all\")])\n",
       "</pre>\n"
      ],
      "text/plain": [
       "/var/folders/7t/k8q3439j6z3c683j7w00wtm80000gn/T/ipykernel_50509/330735155.py:26: FutureWarning: The behavior of \n",
       "DataFrame concatenation with empty or all-NA entries is deprecated. In a future version, this will no longer \n",
       "exclude empty or all-NA columns when determining the result dtypes. To retain the old behavior, exclude the \n",
       "relevant entries before the concat operation.\n",
       "  results = pd.concat([results, normalized_data]) #.dropna(axis=1, how=\"all\")])\n"
      ]
     },
     "metadata": {},
     "output_type": "display_data"
    },
    {
     "data": {
      "text/html": [
       "<pre style=\"white-space:pre;overflow-x:auto;line-height:normal;font-family:Menlo,'DejaVu Sans Mono',consolas,'Courier New',monospace\">/var/folders/7t/k8q3439j6z3c683j7w00wtm80000gn/T/ipykernel_50509/330735155.py:26: FutureWarning: The behavior of \n",
       "DataFrame concatenation with empty or all-NA entries is deprecated. In a future version, this will no longer \n",
       "exclude empty or all-NA columns when determining the result dtypes. To retain the old behavior, exclude the \n",
       "relevant entries before the concat operation.\n",
       "  results = pd.concat([results, normalized_data]) #.dropna(axis=1, how=\"all\")])\n",
       "</pre>\n"
      ],
      "text/plain": [
       "/var/folders/7t/k8q3439j6z3c683j7w00wtm80000gn/T/ipykernel_50509/330735155.py:26: FutureWarning: The behavior of \n",
       "DataFrame concatenation with empty or all-NA entries is deprecated. In a future version, this will no longer \n",
       "exclude empty or all-NA columns when determining the result dtypes. To retain the old behavior, exclude the \n",
       "relevant entries before the concat operation.\n",
       "  results = pd.concat([results, normalized_data]) #.dropna(axis=1, how=\"all\")])\n"
      ]
     },
     "metadata": {},
     "output_type": "display_data"
    },
    {
     "data": {
      "text/html": [
       "<pre style=\"white-space:pre;overflow-x:auto;line-height:normal;font-family:Menlo,'DejaVu Sans Mono',consolas,'Courier New',monospace\">/var/folders/7t/k8q3439j6z3c683j7w00wtm80000gn/T/ipykernel_50509/330735155.py:26: FutureWarning: The behavior of \n",
       "DataFrame concatenation with empty or all-NA entries is deprecated. In a future version, this will no longer \n",
       "exclude empty or all-NA columns when determining the result dtypes. To retain the old behavior, exclude the \n",
       "relevant entries before the concat operation.\n",
       "  results = pd.concat([results, normalized_data]) #.dropna(axis=1, how=\"all\")])\n",
       "</pre>\n"
      ],
      "text/plain": [
       "/var/folders/7t/k8q3439j6z3c683j7w00wtm80000gn/T/ipykernel_50509/330735155.py:26: FutureWarning: The behavior of \n",
       "DataFrame concatenation with empty or all-NA entries is deprecated. In a future version, this will no longer \n",
       "exclude empty or all-NA columns when determining the result dtypes. To retain the old behavior, exclude the \n",
       "relevant entries before the concat operation.\n",
       "  results = pd.concat([results, normalized_data]) #.dropna(axis=1, how=\"all\")])\n"
      ]
     },
     "metadata": {},
     "output_type": "display_data"
    },
    {
     "data": {
      "text/html": [
       "<pre style=\"white-space:pre;overflow-x:auto;line-height:normal;font-family:Menlo,'DejaVu Sans Mono',consolas,'Courier New',monospace\">/var/folders/7t/k8q3439j6z3c683j7w00wtm80000gn/T/ipykernel_50509/330735155.py:26: FutureWarning: The behavior of \n",
       "DataFrame concatenation with empty or all-NA entries is deprecated. In a future version, this will no longer \n",
       "exclude empty or all-NA columns when determining the result dtypes. To retain the old behavior, exclude the \n",
       "relevant entries before the concat operation.\n",
       "  results = pd.concat([results, normalized_data]) #.dropna(axis=1, how=\"all\")])\n",
       "</pre>\n"
      ],
      "text/plain": [
       "/var/folders/7t/k8q3439j6z3c683j7w00wtm80000gn/T/ipykernel_50509/330735155.py:26: FutureWarning: The behavior of \n",
       "DataFrame concatenation with empty or all-NA entries is deprecated. In a future version, this will no longer \n",
       "exclude empty or all-NA columns when determining the result dtypes. To retain the old behavior, exclude the \n",
       "relevant entries before the concat operation.\n",
       "  results = pd.concat([results, normalized_data]) #.dropna(axis=1, how=\"all\")])\n"
      ]
     },
     "metadata": {},
     "output_type": "display_data"
    },
    {
     "data": {
      "text/html": [
       "<pre style=\"white-space:pre;overflow-x:auto;line-height:normal;font-family:Menlo,'DejaVu Sans Mono',consolas,'Courier New',monospace\">/var/folders/7t/k8q3439j6z3c683j7w00wtm80000gn/T/ipykernel_50509/330735155.py:26: FutureWarning: The behavior of \n",
       "DataFrame concatenation with empty or all-NA entries is deprecated. In a future version, this will no longer \n",
       "exclude empty or all-NA columns when determining the result dtypes. To retain the old behavior, exclude the \n",
       "relevant entries before the concat operation.\n",
       "  results = pd.concat([results, normalized_data]) #.dropna(axis=1, how=\"all\")])\n",
       "</pre>\n"
      ],
      "text/plain": [
       "/var/folders/7t/k8q3439j6z3c683j7w00wtm80000gn/T/ipykernel_50509/330735155.py:26: FutureWarning: The behavior of \n",
       "DataFrame concatenation with empty or all-NA entries is deprecated. In a future version, this will no longer \n",
       "exclude empty or all-NA columns when determining the result dtypes. To retain the old behavior, exclude the \n",
       "relevant entries before the concat operation.\n",
       "  results = pd.concat([results, normalized_data]) #.dropna(axis=1, how=\"all\")])\n"
      ]
     },
     "metadata": {},
     "output_type": "display_data"
    },
    {
     "data": {
      "text/html": [
       "<pre style=\"white-space:pre;overflow-x:auto;line-height:normal;font-family:Menlo,'DejaVu Sans Mono',consolas,'Courier New',monospace\">/var/folders/7t/k8q3439j6z3c683j7w00wtm80000gn/T/ipykernel_50509/330735155.py:26: FutureWarning: The behavior of \n",
       "DataFrame concatenation with empty or all-NA entries is deprecated. In a future version, this will no longer \n",
       "exclude empty or all-NA columns when determining the result dtypes. To retain the old behavior, exclude the \n",
       "relevant entries before the concat operation.\n",
       "  results = pd.concat([results, normalized_data]) #.dropna(axis=1, how=\"all\")])\n",
       "</pre>\n"
      ],
      "text/plain": [
       "/var/folders/7t/k8q3439j6z3c683j7w00wtm80000gn/T/ipykernel_50509/330735155.py:26: FutureWarning: The behavior of \n",
       "DataFrame concatenation with empty or all-NA entries is deprecated. In a future version, this will no longer \n",
       "exclude empty or all-NA columns when determining the result dtypes. To retain the old behavior, exclude the \n",
       "relevant entries before the concat operation.\n",
       "  results = pd.concat([results, normalized_data]) #.dropna(axis=1, how=\"all\")])\n"
      ]
     },
     "metadata": {},
     "output_type": "display_data"
    },
    {
     "data": {
      "text/html": [
       "<pre style=\"white-space:pre;overflow-x:auto;line-height:normal;font-family:Menlo,'DejaVu Sans Mono',consolas,'Courier New',monospace\">/var/folders/7t/k8q3439j6z3c683j7w00wtm80000gn/T/ipykernel_50509/330735155.py:26: FutureWarning: The behavior of \n",
       "DataFrame concatenation with empty or all-NA entries is deprecated. In a future version, this will no longer \n",
       "exclude empty or all-NA columns when determining the result dtypes. To retain the old behavior, exclude the \n",
       "relevant entries before the concat operation.\n",
       "  results = pd.concat([results, normalized_data]) #.dropna(axis=1, how=\"all\")])\n",
       "</pre>\n"
      ],
      "text/plain": [
       "/var/folders/7t/k8q3439j6z3c683j7w00wtm80000gn/T/ipykernel_50509/330735155.py:26: FutureWarning: The behavior of \n",
       "DataFrame concatenation with empty or all-NA entries is deprecated. In a future version, this will no longer \n",
       "exclude empty or all-NA columns when determining the result dtypes. To retain the old behavior, exclude the \n",
       "relevant entries before the concat operation.\n",
       "  results = pd.concat([results, normalized_data]) #.dropna(axis=1, how=\"all\")])\n"
      ]
     },
     "metadata": {},
     "output_type": "display_data"
    },
    {
     "data": {
      "text/html": [
       "<pre style=\"white-space:pre;overflow-x:auto;line-height:normal;font-family:Menlo,'DejaVu Sans Mono',consolas,'Courier New',monospace\">/var/folders/7t/k8q3439j6z3c683j7w00wtm80000gn/T/ipykernel_50509/330735155.py:26: FutureWarning: The behavior of \n",
       "DataFrame concatenation with empty or all-NA entries is deprecated. In a future version, this will no longer \n",
       "exclude empty or all-NA columns when determining the result dtypes. To retain the old behavior, exclude the \n",
       "relevant entries before the concat operation.\n",
       "  results = pd.concat([results, normalized_data]) #.dropna(axis=1, how=\"all\")])\n",
       "</pre>\n"
      ],
      "text/plain": [
       "/var/folders/7t/k8q3439j6z3c683j7w00wtm80000gn/T/ipykernel_50509/330735155.py:26: FutureWarning: The behavior of \n",
       "DataFrame concatenation with empty or all-NA entries is deprecated. In a future version, this will no longer \n",
       "exclude empty or all-NA columns when determining the result dtypes. To retain the old behavior, exclude the \n",
       "relevant entries before the concat operation.\n",
       "  results = pd.concat([results, normalized_data]) #.dropna(axis=1, how=\"all\")])\n"
      ]
     },
     "metadata": {},
     "output_type": "display_data"
    },
    {
     "data": {
      "text/html": [
       "<pre style=\"white-space:pre;overflow-x:auto;line-height:normal;font-family:Menlo,'DejaVu Sans Mono',consolas,'Courier New',monospace\">/var/folders/7t/k8q3439j6z3c683j7w00wtm80000gn/T/ipykernel_50509/330735155.py:26: FutureWarning: The behavior of \n",
       "DataFrame concatenation with empty or all-NA entries is deprecated. In a future version, this will no longer \n",
       "exclude empty or all-NA columns when determining the result dtypes. To retain the old behavior, exclude the \n",
       "relevant entries before the concat operation.\n",
       "  results = pd.concat([results, normalized_data]) #.dropna(axis=1, how=\"all\")])\n",
       "</pre>\n"
      ],
      "text/plain": [
       "/var/folders/7t/k8q3439j6z3c683j7w00wtm80000gn/T/ipykernel_50509/330735155.py:26: FutureWarning: The behavior of \n",
       "DataFrame concatenation with empty or all-NA entries is deprecated. In a future version, this will no longer \n",
       "exclude empty or all-NA columns when determining the result dtypes. To retain the old behavior, exclude the \n",
       "relevant entries before the concat operation.\n",
       "  results = pd.concat([results, normalized_data]) #.dropna(axis=1, how=\"all\")])\n"
      ]
     },
     "metadata": {},
     "output_type": "display_data"
    },
    {
     "data": {
      "text/html": [
       "<pre style=\"white-space:pre;overflow-x:auto;line-height:normal;font-family:Menlo,'DejaVu Sans Mono',consolas,'Courier New',monospace\">/var/folders/7t/k8q3439j6z3c683j7w00wtm80000gn/T/ipykernel_50509/330735155.py:26: FutureWarning: The behavior of \n",
       "DataFrame concatenation with empty or all-NA entries is deprecated. In a future version, this will no longer \n",
       "exclude empty or all-NA columns when determining the result dtypes. To retain the old behavior, exclude the \n",
       "relevant entries before the concat operation.\n",
       "  results = pd.concat([results, normalized_data]) #.dropna(axis=1, how=\"all\")])\n",
       "</pre>\n"
      ],
      "text/plain": [
       "/var/folders/7t/k8q3439j6z3c683j7w00wtm80000gn/T/ipykernel_50509/330735155.py:26: FutureWarning: The behavior of \n",
       "DataFrame concatenation with empty or all-NA entries is deprecated. In a future version, this will no longer \n",
       "exclude empty or all-NA columns when determining the result dtypes. To retain the old behavior, exclude the \n",
       "relevant entries before the concat operation.\n",
       "  results = pd.concat([results, normalized_data]) #.dropna(axis=1, how=\"all\")])\n"
      ]
     },
     "metadata": {},
     "output_type": "display_data"
    },
    {
     "data": {
      "text/html": [
       "<pre style=\"white-space:pre;overflow-x:auto;line-height:normal;font-family:Menlo,'DejaVu Sans Mono',consolas,'Courier New',monospace\">/var/folders/7t/k8q3439j6z3c683j7w00wtm80000gn/T/ipykernel_50509/330735155.py:26: FutureWarning: The behavior of \n",
       "DataFrame concatenation with empty or all-NA entries is deprecated. In a future version, this will no longer \n",
       "exclude empty or all-NA columns when determining the result dtypes. To retain the old behavior, exclude the \n",
       "relevant entries before the concat operation.\n",
       "  results = pd.concat([results, normalized_data]) #.dropna(axis=1, how=\"all\")])\n",
       "</pre>\n"
      ],
      "text/plain": [
       "/var/folders/7t/k8q3439j6z3c683j7w00wtm80000gn/T/ipykernel_50509/330735155.py:26: FutureWarning: The behavior of \n",
       "DataFrame concatenation with empty or all-NA entries is deprecated. In a future version, this will no longer \n",
       "exclude empty or all-NA columns when determining the result dtypes. To retain the old behavior, exclude the \n",
       "relevant entries before the concat operation.\n",
       "  results = pd.concat([results, normalized_data]) #.dropna(axis=1, how=\"all\")])\n"
      ]
     },
     "metadata": {},
     "output_type": "display_data"
    },
    {
     "data": {
      "text/html": [
       "<pre style=\"white-space:pre;overflow-x:auto;line-height:normal;font-family:Menlo,'DejaVu Sans Mono',consolas,'Courier New',monospace\">/var/folders/7t/k8q3439j6z3c683j7w00wtm80000gn/T/ipykernel_50509/330735155.py:26: FutureWarning: The behavior of \n",
       "DataFrame concatenation with empty or all-NA entries is deprecated. In a future version, this will no longer \n",
       "exclude empty or all-NA columns when determining the result dtypes. To retain the old behavior, exclude the \n",
       "relevant entries before the concat operation.\n",
       "  results = pd.concat([results, normalized_data]) #.dropna(axis=1, how=\"all\")])\n",
       "</pre>\n"
      ],
      "text/plain": [
       "/var/folders/7t/k8q3439j6z3c683j7w00wtm80000gn/T/ipykernel_50509/330735155.py:26: FutureWarning: The behavior of \n",
       "DataFrame concatenation with empty or all-NA entries is deprecated. In a future version, this will no longer \n",
       "exclude empty or all-NA columns when determining the result dtypes. To retain the old behavior, exclude the \n",
       "relevant entries before the concat operation.\n",
       "  results = pd.concat([results, normalized_data]) #.dropna(axis=1, how=\"all\")])\n"
      ]
     },
     "metadata": {},
     "output_type": "display_data"
    },
    {
     "data": {
      "text/html": [
       "<pre style=\"white-space:pre;overflow-x:auto;line-height:normal;font-family:Menlo,'DejaVu Sans Mono',consolas,'Courier New',monospace\">/var/folders/7t/k8q3439j6z3c683j7w00wtm80000gn/T/ipykernel_50509/330735155.py:26: FutureWarning: The behavior of \n",
       "DataFrame concatenation with empty or all-NA entries is deprecated. In a future version, this will no longer \n",
       "exclude empty or all-NA columns when determining the result dtypes. To retain the old behavior, exclude the \n",
       "relevant entries before the concat operation.\n",
       "  results = pd.concat([results, normalized_data]) #.dropna(axis=1, how=\"all\")])\n",
       "</pre>\n"
      ],
      "text/plain": [
       "/var/folders/7t/k8q3439j6z3c683j7w00wtm80000gn/T/ipykernel_50509/330735155.py:26: FutureWarning: The behavior of \n",
       "DataFrame concatenation with empty or all-NA entries is deprecated. In a future version, this will no longer \n",
       "exclude empty or all-NA columns when determining the result dtypes. To retain the old behavior, exclude the \n",
       "relevant entries before the concat operation.\n",
       "  results = pd.concat([results, normalized_data]) #.dropna(axis=1, how=\"all\")])\n"
      ]
     },
     "metadata": {},
     "output_type": "display_data"
    },
    {
     "data": {
      "text/html": [
       "<pre style=\"white-space:pre;overflow-x:auto;line-height:normal;font-family:Menlo,'DejaVu Sans Mono',consolas,'Courier New',monospace\">/var/folders/7t/k8q3439j6z3c683j7w00wtm80000gn/T/ipykernel_50509/330735155.py:26: FutureWarning: The behavior of \n",
       "DataFrame concatenation with empty or all-NA entries is deprecated. In a future version, this will no longer \n",
       "exclude empty or all-NA columns when determining the result dtypes. To retain the old behavior, exclude the \n",
       "relevant entries before the concat operation.\n",
       "  results = pd.concat([results, normalized_data]) #.dropna(axis=1, how=\"all\")])\n",
       "</pre>\n"
      ],
      "text/plain": [
       "/var/folders/7t/k8q3439j6z3c683j7w00wtm80000gn/T/ipykernel_50509/330735155.py:26: FutureWarning: The behavior of \n",
       "DataFrame concatenation with empty or all-NA entries is deprecated. In a future version, this will no longer \n",
       "exclude empty or all-NA columns when determining the result dtypes. To retain the old behavior, exclude the \n",
       "relevant entries before the concat operation.\n",
       "  results = pd.concat([results, normalized_data]) #.dropna(axis=1, how=\"all\")])\n"
      ]
     },
     "metadata": {},
     "output_type": "display_data"
    },
    {
     "data": {
      "text/html": [
       "<pre style=\"white-space:pre;overflow-x:auto;line-height:normal;font-family:Menlo,'DejaVu Sans Mono',consolas,'Courier New',monospace\">/var/folders/7t/k8q3439j6z3c683j7w00wtm80000gn/T/ipykernel_50509/330735155.py:26: FutureWarning: The behavior of \n",
       "DataFrame concatenation with empty or all-NA entries is deprecated. In a future version, this will no longer \n",
       "exclude empty or all-NA columns when determining the result dtypes. To retain the old behavior, exclude the \n",
       "relevant entries before the concat operation.\n",
       "  results = pd.concat([results, normalized_data]) #.dropna(axis=1, how=\"all\")])\n",
       "</pre>\n"
      ],
      "text/plain": [
       "/var/folders/7t/k8q3439j6z3c683j7w00wtm80000gn/T/ipykernel_50509/330735155.py:26: FutureWarning: The behavior of \n",
       "DataFrame concatenation with empty or all-NA entries is deprecated. In a future version, this will no longer \n",
       "exclude empty or all-NA columns when determining the result dtypes. To retain the old behavior, exclude the \n",
       "relevant entries before the concat operation.\n",
       "  results = pd.concat([results, normalized_data]) #.dropna(axis=1, how=\"all\")])\n"
      ]
     },
     "metadata": {},
     "output_type": "display_data"
    },
    {
     "data": {
      "text/html": [
       "<pre style=\"white-space:pre;overflow-x:auto;line-height:normal;font-family:Menlo,'DejaVu Sans Mono',consolas,'Courier New',monospace\">/var/folders/7t/k8q3439j6z3c683j7w00wtm80000gn/T/ipykernel_50509/330735155.py:26: FutureWarning: The behavior of \n",
       "DataFrame concatenation with empty or all-NA entries is deprecated. In a future version, this will no longer \n",
       "exclude empty or all-NA columns when determining the result dtypes. To retain the old behavior, exclude the \n",
       "relevant entries before the concat operation.\n",
       "  results = pd.concat([results, normalized_data]) #.dropna(axis=1, how=\"all\")])\n",
       "</pre>\n"
      ],
      "text/plain": [
       "/var/folders/7t/k8q3439j6z3c683j7w00wtm80000gn/T/ipykernel_50509/330735155.py:26: FutureWarning: The behavior of \n",
       "DataFrame concatenation with empty or all-NA entries is deprecated. In a future version, this will no longer \n",
       "exclude empty or all-NA columns when determining the result dtypes. To retain the old behavior, exclude the \n",
       "relevant entries before the concat operation.\n",
       "  results = pd.concat([results, normalized_data]) #.dropna(axis=1, how=\"all\")])\n"
      ]
     },
     "metadata": {},
     "output_type": "display_data"
    },
    {
     "data": {
      "text/html": [
       "<pre style=\"white-space:pre;overflow-x:auto;line-height:normal;font-family:Menlo,'DejaVu Sans Mono',consolas,'Courier New',monospace\">/var/folders/7t/k8q3439j6z3c683j7w00wtm80000gn/T/ipykernel_50509/330735155.py:26: FutureWarning: The behavior of \n",
       "DataFrame concatenation with empty or all-NA entries is deprecated. In a future version, this will no longer \n",
       "exclude empty or all-NA columns when determining the result dtypes. To retain the old behavior, exclude the \n",
       "relevant entries before the concat operation.\n",
       "  results = pd.concat([results, normalized_data]) #.dropna(axis=1, how=\"all\")])\n",
       "</pre>\n"
      ],
      "text/plain": [
       "/var/folders/7t/k8q3439j6z3c683j7w00wtm80000gn/T/ipykernel_50509/330735155.py:26: FutureWarning: The behavior of \n",
       "DataFrame concatenation with empty or all-NA entries is deprecated. In a future version, this will no longer \n",
       "exclude empty or all-NA columns when determining the result dtypes. To retain the old behavior, exclude the \n",
       "relevant entries before the concat operation.\n",
       "  results = pd.concat([results, normalized_data]) #.dropna(axis=1, how=\"all\")])\n"
      ]
     },
     "metadata": {},
     "output_type": "display_data"
    },
    {
     "data": {
      "text/html": [
       "<pre style=\"white-space:pre;overflow-x:auto;line-height:normal;font-family:Menlo,'DejaVu Sans Mono',consolas,'Courier New',monospace\">/var/folders/7t/k8q3439j6z3c683j7w00wtm80000gn/T/ipykernel_50509/330735155.py:26: FutureWarning: The behavior of \n",
       "DataFrame concatenation with empty or all-NA entries is deprecated. In a future version, this will no longer \n",
       "exclude empty or all-NA columns when determining the result dtypes. To retain the old behavior, exclude the \n",
       "relevant entries before the concat operation.\n",
       "  results = pd.concat([results, normalized_data]) #.dropna(axis=1, how=\"all\")])\n",
       "</pre>\n"
      ],
      "text/plain": [
       "/var/folders/7t/k8q3439j6z3c683j7w00wtm80000gn/T/ipykernel_50509/330735155.py:26: FutureWarning: The behavior of \n",
       "DataFrame concatenation with empty or all-NA entries is deprecated. In a future version, this will no longer \n",
       "exclude empty or all-NA columns when determining the result dtypes. To retain the old behavior, exclude the \n",
       "relevant entries before the concat operation.\n",
       "  results = pd.concat([results, normalized_data]) #.dropna(axis=1, how=\"all\")])\n"
      ]
     },
     "metadata": {},
     "output_type": "display_data"
    },
    {
     "data": {
      "text/html": [
       "<pre style=\"white-space:pre;overflow-x:auto;line-height:normal;font-family:Menlo,'DejaVu Sans Mono',consolas,'Courier New',monospace\">/var/folders/7t/k8q3439j6z3c683j7w00wtm80000gn/T/ipykernel_50509/330735155.py:26: FutureWarning: The behavior of \n",
       "DataFrame concatenation with empty or all-NA entries is deprecated. In a future version, this will no longer \n",
       "exclude empty or all-NA columns when determining the result dtypes. To retain the old behavior, exclude the \n",
       "relevant entries before the concat operation.\n",
       "  results = pd.concat([results, normalized_data]) #.dropna(axis=1, how=\"all\")])\n",
       "</pre>\n"
      ],
      "text/plain": [
       "/var/folders/7t/k8q3439j6z3c683j7w00wtm80000gn/T/ipykernel_50509/330735155.py:26: FutureWarning: The behavior of \n",
       "DataFrame concatenation with empty or all-NA entries is deprecated. In a future version, this will no longer \n",
       "exclude empty or all-NA columns when determining the result dtypes. To retain the old behavior, exclude the \n",
       "relevant entries before the concat operation.\n",
       "  results = pd.concat([results, normalized_data]) #.dropna(axis=1, how=\"all\")])\n"
      ]
     },
     "metadata": {},
     "output_type": "display_data"
    },
    {
     "data": {
      "text/html": [
       "<pre style=\"white-space:pre;overflow-x:auto;line-height:normal;font-family:Menlo,'DejaVu Sans Mono',consolas,'Courier New',monospace\">/var/folders/7t/k8q3439j6z3c683j7w00wtm80000gn/T/ipykernel_50509/330735155.py:26: FutureWarning: The behavior of \n",
       "DataFrame concatenation with empty or all-NA entries is deprecated. In a future version, this will no longer \n",
       "exclude empty or all-NA columns when determining the result dtypes. To retain the old behavior, exclude the \n",
       "relevant entries before the concat operation.\n",
       "  results = pd.concat([results, normalized_data]) #.dropna(axis=1, how=\"all\")])\n",
       "</pre>\n"
      ],
      "text/plain": [
       "/var/folders/7t/k8q3439j6z3c683j7w00wtm80000gn/T/ipykernel_50509/330735155.py:26: FutureWarning: The behavior of \n",
       "DataFrame concatenation with empty or all-NA entries is deprecated. In a future version, this will no longer \n",
       "exclude empty or all-NA columns when determining the result dtypes. To retain the old behavior, exclude the \n",
       "relevant entries before the concat operation.\n",
       "  results = pd.concat([results, normalized_data]) #.dropna(axis=1, how=\"all\")])\n"
      ]
     },
     "metadata": {},
     "output_type": "display_data"
    },
    {
     "data": {
      "text/html": [
       "<pre style=\"white-space:pre;overflow-x:auto;line-height:normal;font-family:Menlo,'DejaVu Sans Mono',consolas,'Courier New',monospace\">/var/folders/7t/k8q3439j6z3c683j7w00wtm80000gn/T/ipykernel_50509/330735155.py:26: FutureWarning: The behavior of \n",
       "DataFrame concatenation with empty or all-NA entries is deprecated. In a future version, this will no longer \n",
       "exclude empty or all-NA columns when determining the result dtypes. To retain the old behavior, exclude the \n",
       "relevant entries before the concat operation.\n",
       "  results = pd.concat([results, normalized_data]) #.dropna(axis=1, how=\"all\")])\n",
       "</pre>\n"
      ],
      "text/plain": [
       "/var/folders/7t/k8q3439j6z3c683j7w00wtm80000gn/T/ipykernel_50509/330735155.py:26: FutureWarning: The behavior of \n",
       "DataFrame concatenation with empty or all-NA entries is deprecated. In a future version, this will no longer \n",
       "exclude empty or all-NA columns when determining the result dtypes. To retain the old behavior, exclude the \n",
       "relevant entries before the concat operation.\n",
       "  results = pd.concat([results, normalized_data]) #.dropna(axis=1, how=\"all\")])\n"
      ]
     },
     "metadata": {},
     "output_type": "display_data"
    },
    {
     "data": {
      "text/html": [
       "<pre style=\"white-space:pre;overflow-x:auto;line-height:normal;font-family:Menlo,'DejaVu Sans Mono',consolas,'Courier New',monospace\">/var/folders/7t/k8q3439j6z3c683j7w00wtm80000gn/T/ipykernel_50509/330735155.py:26: FutureWarning: The behavior of \n",
       "DataFrame concatenation with empty or all-NA entries is deprecated. In a future version, this will no longer \n",
       "exclude empty or all-NA columns when determining the result dtypes. To retain the old behavior, exclude the \n",
       "relevant entries before the concat operation.\n",
       "  results = pd.concat([results, normalized_data]) #.dropna(axis=1, how=\"all\")])\n",
       "</pre>\n"
      ],
      "text/plain": [
       "/var/folders/7t/k8q3439j6z3c683j7w00wtm80000gn/T/ipykernel_50509/330735155.py:26: FutureWarning: The behavior of \n",
       "DataFrame concatenation with empty or all-NA entries is deprecated. In a future version, this will no longer \n",
       "exclude empty or all-NA columns when determining the result dtypes. To retain the old behavior, exclude the \n",
       "relevant entries before the concat operation.\n",
       "  results = pd.concat([results, normalized_data]) #.dropna(axis=1, how=\"all\")])\n"
      ]
     },
     "metadata": {},
     "output_type": "display_data"
    },
    {
     "data": {
      "text/html": [
       "<pre style=\"white-space:pre;overflow-x:auto;line-height:normal;font-family:Menlo,'DejaVu Sans Mono',consolas,'Courier New',monospace\">/var/folders/7t/k8q3439j6z3c683j7w00wtm80000gn/T/ipykernel_50509/330735155.py:26: FutureWarning: The behavior of \n",
       "DataFrame concatenation with empty or all-NA entries is deprecated. In a future version, this will no longer \n",
       "exclude empty or all-NA columns when determining the result dtypes. To retain the old behavior, exclude the \n",
       "relevant entries before the concat operation.\n",
       "  results = pd.concat([results, normalized_data]) #.dropna(axis=1, how=\"all\")])\n",
       "</pre>\n"
      ],
      "text/plain": [
       "/var/folders/7t/k8q3439j6z3c683j7w00wtm80000gn/T/ipykernel_50509/330735155.py:26: FutureWarning: The behavior of \n",
       "DataFrame concatenation with empty or all-NA entries is deprecated. In a future version, this will no longer \n",
       "exclude empty or all-NA columns when determining the result dtypes. To retain the old behavior, exclude the \n",
       "relevant entries before the concat operation.\n",
       "  results = pd.concat([results, normalized_data]) #.dropna(axis=1, how=\"all\")])\n"
      ]
     },
     "metadata": {},
     "output_type": "display_data"
    },
    {
     "data": {
      "text/html": [
       "<pre style=\"white-space:pre;overflow-x:auto;line-height:normal;font-family:Menlo,'DejaVu Sans Mono',consolas,'Courier New',monospace\">/var/folders/7t/k8q3439j6z3c683j7w00wtm80000gn/T/ipykernel_50509/330735155.py:26: FutureWarning: The behavior of \n",
       "DataFrame concatenation with empty or all-NA entries is deprecated. In a future version, this will no longer \n",
       "exclude empty or all-NA columns when determining the result dtypes. To retain the old behavior, exclude the \n",
       "relevant entries before the concat operation.\n",
       "  results = pd.concat([results, normalized_data]) #.dropna(axis=1, how=\"all\")])\n",
       "</pre>\n"
      ],
      "text/plain": [
       "/var/folders/7t/k8q3439j6z3c683j7w00wtm80000gn/T/ipykernel_50509/330735155.py:26: FutureWarning: The behavior of \n",
       "DataFrame concatenation with empty or all-NA entries is deprecated. In a future version, this will no longer \n",
       "exclude empty or all-NA columns when determining the result dtypes. To retain the old behavior, exclude the \n",
       "relevant entries before the concat operation.\n",
       "  results = pd.concat([results, normalized_data]) #.dropna(axis=1, how=\"all\")])\n"
      ]
     },
     "metadata": {},
     "output_type": "display_data"
    },
    {
     "data": {
      "text/html": [
       "<pre style=\"white-space:pre;overflow-x:auto;line-height:normal;font-family:Menlo,'DejaVu Sans Mono',consolas,'Courier New',monospace\">/var/folders/7t/k8q3439j6z3c683j7w00wtm80000gn/T/ipykernel_50509/330735155.py:26: FutureWarning: The behavior of \n",
       "DataFrame concatenation with empty or all-NA entries is deprecated. In a future version, this will no longer \n",
       "exclude empty or all-NA columns when determining the result dtypes. To retain the old behavior, exclude the \n",
       "relevant entries before the concat operation.\n",
       "  results = pd.concat([results, normalized_data]) #.dropna(axis=1, how=\"all\")])\n",
       "</pre>\n"
      ],
      "text/plain": [
       "/var/folders/7t/k8q3439j6z3c683j7w00wtm80000gn/T/ipykernel_50509/330735155.py:26: FutureWarning: The behavior of \n",
       "DataFrame concatenation with empty or all-NA entries is deprecated. In a future version, this will no longer \n",
       "exclude empty or all-NA columns when determining the result dtypes. To retain the old behavior, exclude the \n",
       "relevant entries before the concat operation.\n",
       "  results = pd.concat([results, normalized_data]) #.dropna(axis=1, how=\"all\")])\n"
      ]
     },
     "metadata": {},
     "output_type": "display_data"
    },
    {
     "data": {
      "text/html": [
       "<pre style=\"white-space:pre;overflow-x:auto;line-height:normal;font-family:Menlo,'DejaVu Sans Mono',consolas,'Courier New',monospace\">/var/folders/7t/k8q3439j6z3c683j7w00wtm80000gn/T/ipykernel_50509/330735155.py:26: FutureWarning: The behavior of \n",
       "DataFrame concatenation with empty or all-NA entries is deprecated. In a future version, this will no longer \n",
       "exclude empty or all-NA columns when determining the result dtypes. To retain the old behavior, exclude the \n",
       "relevant entries before the concat operation.\n",
       "  results = pd.concat([results, normalized_data]) #.dropna(axis=1, how=\"all\")])\n",
       "</pre>\n"
      ],
      "text/plain": [
       "/var/folders/7t/k8q3439j6z3c683j7w00wtm80000gn/T/ipykernel_50509/330735155.py:26: FutureWarning: The behavior of \n",
       "DataFrame concatenation with empty or all-NA entries is deprecated. In a future version, this will no longer \n",
       "exclude empty or all-NA columns when determining the result dtypes. To retain the old behavior, exclude the \n",
       "relevant entries before the concat operation.\n",
       "  results = pd.concat([results, normalized_data]) #.dropna(axis=1, how=\"all\")])\n"
      ]
     },
     "metadata": {},
     "output_type": "display_data"
    },
    {
     "data": {
      "text/html": [
       "<pre style=\"white-space:pre;overflow-x:auto;line-height:normal;font-family:Menlo,'DejaVu Sans Mono',consolas,'Courier New',monospace\">/var/folders/7t/k8q3439j6z3c683j7w00wtm80000gn/T/ipykernel_50509/330735155.py:26: FutureWarning: The behavior of \n",
       "DataFrame concatenation with empty or all-NA entries is deprecated. In a future version, this will no longer \n",
       "exclude empty or all-NA columns when determining the result dtypes. To retain the old behavior, exclude the \n",
       "relevant entries before the concat operation.\n",
       "  results = pd.concat([results, normalized_data]) #.dropna(axis=1, how=\"all\")])\n",
       "</pre>\n"
      ],
      "text/plain": [
       "/var/folders/7t/k8q3439j6z3c683j7w00wtm80000gn/T/ipykernel_50509/330735155.py:26: FutureWarning: The behavior of \n",
       "DataFrame concatenation with empty or all-NA entries is deprecated. In a future version, this will no longer \n",
       "exclude empty or all-NA columns when determining the result dtypes. To retain the old behavior, exclude the \n",
       "relevant entries before the concat operation.\n",
       "  results = pd.concat([results, normalized_data]) #.dropna(axis=1, how=\"all\")])\n"
      ]
     },
     "metadata": {},
     "output_type": "display_data"
    },
    {
     "data": {
      "text/html": [
       "<pre style=\"white-space:pre;overflow-x:auto;line-height:normal;font-family:Menlo,'DejaVu Sans Mono',consolas,'Courier New',monospace\">/var/folders/7t/k8q3439j6z3c683j7w00wtm80000gn/T/ipykernel_50509/330735155.py:26: FutureWarning: The behavior of \n",
       "DataFrame concatenation with empty or all-NA entries is deprecated. In a future version, this will no longer \n",
       "exclude empty or all-NA columns when determining the result dtypes. To retain the old behavior, exclude the \n",
       "relevant entries before the concat operation.\n",
       "  results = pd.concat([results, normalized_data]) #.dropna(axis=1, how=\"all\")])\n",
       "</pre>\n"
      ],
      "text/plain": [
       "/var/folders/7t/k8q3439j6z3c683j7w00wtm80000gn/T/ipykernel_50509/330735155.py:26: FutureWarning: The behavior of \n",
       "DataFrame concatenation with empty or all-NA entries is deprecated. In a future version, this will no longer \n",
       "exclude empty or all-NA columns when determining the result dtypes. To retain the old behavior, exclude the \n",
       "relevant entries before the concat operation.\n",
       "  results = pd.concat([results, normalized_data]) #.dropna(axis=1, how=\"all\")])\n"
      ]
     },
     "metadata": {},
     "output_type": "display_data"
    },
    {
     "data": {
      "text/html": [
       "<pre style=\"white-space:pre;overflow-x:auto;line-height:normal;font-family:Menlo,'DejaVu Sans Mono',consolas,'Courier New',monospace\">/var/folders/7t/k8q3439j6z3c683j7w00wtm80000gn/T/ipykernel_50509/330735155.py:26: FutureWarning: The behavior of \n",
       "DataFrame concatenation with empty or all-NA entries is deprecated. In a future version, this will no longer \n",
       "exclude empty or all-NA columns when determining the result dtypes. To retain the old behavior, exclude the \n",
       "relevant entries before the concat operation.\n",
       "  results = pd.concat([results, normalized_data]) #.dropna(axis=1, how=\"all\")])\n",
       "</pre>\n"
      ],
      "text/plain": [
       "/var/folders/7t/k8q3439j6z3c683j7w00wtm80000gn/T/ipykernel_50509/330735155.py:26: FutureWarning: The behavior of \n",
       "DataFrame concatenation with empty or all-NA entries is deprecated. In a future version, this will no longer \n",
       "exclude empty or all-NA columns when determining the result dtypes. To retain the old behavior, exclude the \n",
       "relevant entries before the concat operation.\n",
       "  results = pd.concat([results, normalized_data]) #.dropna(axis=1, how=\"all\")])\n"
      ]
     },
     "metadata": {},
     "output_type": "display_data"
    },
    {
     "data": {
      "text/html": [
       "<pre style=\"white-space:pre;overflow-x:auto;line-height:normal;font-family:Menlo,'DejaVu Sans Mono',consolas,'Courier New',monospace\">/var/folders/7t/k8q3439j6z3c683j7w00wtm80000gn/T/ipykernel_50509/330735155.py:26: FutureWarning: The behavior of \n",
       "DataFrame concatenation with empty or all-NA entries is deprecated. In a future version, this will no longer \n",
       "exclude empty or all-NA columns when determining the result dtypes. To retain the old behavior, exclude the \n",
       "relevant entries before the concat operation.\n",
       "  results = pd.concat([results, normalized_data]) #.dropna(axis=1, how=\"all\")])\n",
       "</pre>\n"
      ],
      "text/plain": [
       "/var/folders/7t/k8q3439j6z3c683j7w00wtm80000gn/T/ipykernel_50509/330735155.py:26: FutureWarning: The behavior of \n",
       "DataFrame concatenation with empty or all-NA entries is deprecated. In a future version, this will no longer \n",
       "exclude empty or all-NA columns when determining the result dtypes. To retain the old behavior, exclude the \n",
       "relevant entries before the concat operation.\n",
       "  results = pd.concat([results, normalized_data]) #.dropna(axis=1, how=\"all\")])\n"
      ]
     },
     "metadata": {},
     "output_type": "display_data"
    },
    {
     "data": {
      "text/html": [
       "<pre style=\"white-space:pre;overflow-x:auto;line-height:normal;font-family:Menlo,'DejaVu Sans Mono',consolas,'Courier New',monospace\">/var/folders/7t/k8q3439j6z3c683j7w00wtm80000gn/T/ipykernel_50509/330735155.py:26: FutureWarning: The behavior of \n",
       "DataFrame concatenation with empty or all-NA entries is deprecated. In a future version, this will no longer \n",
       "exclude empty or all-NA columns when determining the result dtypes. To retain the old behavior, exclude the \n",
       "relevant entries before the concat operation.\n",
       "  results = pd.concat([results, normalized_data]) #.dropna(axis=1, how=\"all\")])\n",
       "</pre>\n"
      ],
      "text/plain": [
       "/var/folders/7t/k8q3439j6z3c683j7w00wtm80000gn/T/ipykernel_50509/330735155.py:26: FutureWarning: The behavior of \n",
       "DataFrame concatenation with empty or all-NA entries is deprecated. In a future version, this will no longer \n",
       "exclude empty or all-NA columns when determining the result dtypes. To retain the old behavior, exclude the \n",
       "relevant entries before the concat operation.\n",
       "  results = pd.concat([results, normalized_data]) #.dropna(axis=1, how=\"all\")])\n"
      ]
     },
     "metadata": {},
     "output_type": "display_data"
    },
    {
     "data": {
      "text/html": [
       "<pre style=\"white-space:pre;overflow-x:auto;line-height:normal;font-family:Menlo,'DejaVu Sans Mono',consolas,'Courier New',monospace\">/var/folders/7t/k8q3439j6z3c683j7w00wtm80000gn/T/ipykernel_50509/330735155.py:26: FutureWarning: The behavior of \n",
       "DataFrame concatenation with empty or all-NA entries is deprecated. In a future version, this will no longer \n",
       "exclude empty or all-NA columns when determining the result dtypes. To retain the old behavior, exclude the \n",
       "relevant entries before the concat operation.\n",
       "  results = pd.concat([results, normalized_data]) #.dropna(axis=1, how=\"all\")])\n",
       "</pre>\n"
      ],
      "text/plain": [
       "/var/folders/7t/k8q3439j6z3c683j7w00wtm80000gn/T/ipykernel_50509/330735155.py:26: FutureWarning: The behavior of \n",
       "DataFrame concatenation with empty or all-NA entries is deprecated. In a future version, this will no longer \n",
       "exclude empty or all-NA columns when determining the result dtypes. To retain the old behavior, exclude the \n",
       "relevant entries before the concat operation.\n",
       "  results = pd.concat([results, normalized_data]) #.dropna(axis=1, how=\"all\")])\n"
      ]
     },
     "metadata": {},
     "output_type": "display_data"
    },
    {
     "data": {
      "text/html": [
       "<pre style=\"white-space:pre;overflow-x:auto;line-height:normal;font-family:Menlo,'DejaVu Sans Mono',consolas,'Courier New',monospace\">/var/folders/7t/k8q3439j6z3c683j7w00wtm80000gn/T/ipykernel_50509/330735155.py:26: FutureWarning: The behavior of \n",
       "DataFrame concatenation with empty or all-NA entries is deprecated. In a future version, this will no longer \n",
       "exclude empty or all-NA columns when determining the result dtypes. To retain the old behavior, exclude the \n",
       "relevant entries before the concat operation.\n",
       "  results = pd.concat([results, normalized_data]) #.dropna(axis=1, how=\"all\")])\n",
       "</pre>\n"
      ],
      "text/plain": [
       "/var/folders/7t/k8q3439j6z3c683j7w00wtm80000gn/T/ipykernel_50509/330735155.py:26: FutureWarning: The behavior of \n",
       "DataFrame concatenation with empty or all-NA entries is deprecated. In a future version, this will no longer \n",
       "exclude empty or all-NA columns when determining the result dtypes. To retain the old behavior, exclude the \n",
       "relevant entries before the concat operation.\n",
       "  results = pd.concat([results, normalized_data]) #.dropna(axis=1, how=\"all\")])\n"
      ]
     },
     "metadata": {},
     "output_type": "display_data"
    },
    {
     "data": {
      "text/html": [
       "<pre style=\"white-space:pre;overflow-x:auto;line-height:normal;font-family:Menlo,'DejaVu Sans Mono',consolas,'Courier New',monospace\">/var/folders/7t/k8q3439j6z3c683j7w00wtm80000gn/T/ipykernel_50509/330735155.py:26: FutureWarning: The behavior of \n",
       "DataFrame concatenation with empty or all-NA entries is deprecated. In a future version, this will no longer \n",
       "exclude empty or all-NA columns when determining the result dtypes. To retain the old behavior, exclude the \n",
       "relevant entries before the concat operation.\n",
       "  results = pd.concat([results, normalized_data]) #.dropna(axis=1, how=\"all\")])\n",
       "</pre>\n"
      ],
      "text/plain": [
       "/var/folders/7t/k8q3439j6z3c683j7w00wtm80000gn/T/ipykernel_50509/330735155.py:26: FutureWarning: The behavior of \n",
       "DataFrame concatenation with empty or all-NA entries is deprecated. In a future version, this will no longer \n",
       "exclude empty or all-NA columns when determining the result dtypes. To retain the old behavior, exclude the \n",
       "relevant entries before the concat operation.\n",
       "  results = pd.concat([results, normalized_data]) #.dropna(axis=1, how=\"all\")])\n"
      ]
     },
     "metadata": {},
     "output_type": "display_data"
    },
    {
     "data": {
      "text/html": [
       "<pre style=\"white-space:pre;overflow-x:auto;line-height:normal;font-family:Menlo,'DejaVu Sans Mono',consolas,'Courier New',monospace\">/var/folders/7t/k8q3439j6z3c683j7w00wtm80000gn/T/ipykernel_50509/330735155.py:26: FutureWarning: The behavior of \n",
       "DataFrame concatenation with empty or all-NA entries is deprecated. In a future version, this will no longer \n",
       "exclude empty or all-NA columns when determining the result dtypes. To retain the old behavior, exclude the \n",
       "relevant entries before the concat operation.\n",
       "  results = pd.concat([results, normalized_data]) #.dropna(axis=1, how=\"all\")])\n",
       "</pre>\n"
      ],
      "text/plain": [
       "/var/folders/7t/k8q3439j6z3c683j7w00wtm80000gn/T/ipykernel_50509/330735155.py:26: FutureWarning: The behavior of \n",
       "DataFrame concatenation with empty or all-NA entries is deprecated. In a future version, this will no longer \n",
       "exclude empty or all-NA columns when determining the result dtypes. To retain the old behavior, exclude the \n",
       "relevant entries before the concat operation.\n",
       "  results = pd.concat([results, normalized_data]) #.dropna(axis=1, how=\"all\")])\n"
      ]
     },
     "metadata": {},
     "output_type": "display_data"
    },
    {
     "data": {
      "text/html": [
       "<pre style=\"white-space:pre;overflow-x:auto;line-height:normal;font-family:Menlo,'DejaVu Sans Mono',consolas,'Courier New',monospace\">/var/folders/7t/k8q3439j6z3c683j7w00wtm80000gn/T/ipykernel_50509/330735155.py:26: FutureWarning: The behavior of \n",
       "DataFrame concatenation with empty or all-NA entries is deprecated. In a future version, this will no longer \n",
       "exclude empty or all-NA columns when determining the result dtypes. To retain the old behavior, exclude the \n",
       "relevant entries before the concat operation.\n",
       "  results = pd.concat([results, normalized_data]) #.dropna(axis=1, how=\"all\")])\n",
       "</pre>\n"
      ],
      "text/plain": [
       "/var/folders/7t/k8q3439j6z3c683j7w00wtm80000gn/T/ipykernel_50509/330735155.py:26: FutureWarning: The behavior of \n",
       "DataFrame concatenation with empty or all-NA entries is deprecated. In a future version, this will no longer \n",
       "exclude empty or all-NA columns when determining the result dtypes. To retain the old behavior, exclude the \n",
       "relevant entries before the concat operation.\n",
       "  results = pd.concat([results, normalized_data]) #.dropna(axis=1, how=\"all\")])\n"
      ]
     },
     "metadata": {},
     "output_type": "display_data"
    },
    {
     "data": {
      "text/html": [
       "<pre style=\"white-space:pre;overflow-x:auto;line-height:normal;font-family:Menlo,'DejaVu Sans Mono',consolas,'Courier New',monospace\">/var/folders/7t/k8q3439j6z3c683j7w00wtm80000gn/T/ipykernel_50509/330735155.py:26: FutureWarning: The behavior of \n",
       "DataFrame concatenation with empty or all-NA entries is deprecated. In a future version, this will no longer \n",
       "exclude empty or all-NA columns when determining the result dtypes. To retain the old behavior, exclude the \n",
       "relevant entries before the concat operation.\n",
       "  results = pd.concat([results, normalized_data]) #.dropna(axis=1, how=\"all\")])\n",
       "</pre>\n"
      ],
      "text/plain": [
       "/var/folders/7t/k8q3439j6z3c683j7w00wtm80000gn/T/ipykernel_50509/330735155.py:26: FutureWarning: The behavior of \n",
       "DataFrame concatenation with empty or all-NA entries is deprecated. In a future version, this will no longer \n",
       "exclude empty or all-NA columns when determining the result dtypes. To retain the old behavior, exclude the \n",
       "relevant entries before the concat operation.\n",
       "  results = pd.concat([results, normalized_data]) #.dropna(axis=1, how=\"all\")])\n"
      ]
     },
     "metadata": {},
     "output_type": "display_data"
    },
    {
     "data": {
      "text/html": [
       "<pre style=\"white-space:pre;overflow-x:auto;line-height:normal;font-family:Menlo,'DejaVu Sans Mono',consolas,'Courier New',monospace\">/var/folders/7t/k8q3439j6z3c683j7w00wtm80000gn/T/ipykernel_50509/330735155.py:26: FutureWarning: The behavior of \n",
       "DataFrame concatenation with empty or all-NA entries is deprecated. In a future version, this will no longer \n",
       "exclude empty or all-NA columns when determining the result dtypes. To retain the old behavior, exclude the \n",
       "relevant entries before the concat operation.\n",
       "  results = pd.concat([results, normalized_data]) #.dropna(axis=1, how=\"all\")])\n",
       "</pre>\n"
      ],
      "text/plain": [
       "/var/folders/7t/k8q3439j6z3c683j7w00wtm80000gn/T/ipykernel_50509/330735155.py:26: FutureWarning: The behavior of \n",
       "DataFrame concatenation with empty or all-NA entries is deprecated. In a future version, this will no longer \n",
       "exclude empty or all-NA columns when determining the result dtypes. To retain the old behavior, exclude the \n",
       "relevant entries before the concat operation.\n",
       "  results = pd.concat([results, normalized_data]) #.dropna(axis=1, how=\"all\")])\n"
      ]
     },
     "metadata": {},
     "output_type": "display_data"
    },
    {
     "data": {
      "text/html": [
       "<pre style=\"white-space:pre;overflow-x:auto;line-height:normal;font-family:Menlo,'DejaVu Sans Mono',consolas,'Courier New',monospace\">/var/folders/7t/k8q3439j6z3c683j7w00wtm80000gn/T/ipykernel_50509/330735155.py:26: FutureWarning: The behavior of \n",
       "DataFrame concatenation with empty or all-NA entries is deprecated. In a future version, this will no longer \n",
       "exclude empty or all-NA columns when determining the result dtypes. To retain the old behavior, exclude the \n",
       "relevant entries before the concat operation.\n",
       "  results = pd.concat([results, normalized_data]) #.dropna(axis=1, how=\"all\")])\n",
       "</pre>\n"
      ],
      "text/plain": [
       "/var/folders/7t/k8q3439j6z3c683j7w00wtm80000gn/T/ipykernel_50509/330735155.py:26: FutureWarning: The behavior of \n",
       "DataFrame concatenation with empty or all-NA entries is deprecated. In a future version, this will no longer \n",
       "exclude empty or all-NA columns when determining the result dtypes. To retain the old behavior, exclude the \n",
       "relevant entries before the concat operation.\n",
       "  results = pd.concat([results, normalized_data]) #.dropna(axis=1, how=\"all\")])\n"
      ]
     },
     "metadata": {},
     "output_type": "display_data"
    },
    {
     "data": {
      "text/html": [
       "<pre style=\"white-space:pre;overflow-x:auto;line-height:normal;font-family:Menlo,'DejaVu Sans Mono',consolas,'Courier New',monospace\">/var/folders/7t/k8q3439j6z3c683j7w00wtm80000gn/T/ipykernel_50509/330735155.py:26: FutureWarning: The behavior of \n",
       "DataFrame concatenation with empty or all-NA entries is deprecated. In a future version, this will no longer \n",
       "exclude empty or all-NA columns when determining the result dtypes. To retain the old behavior, exclude the \n",
       "relevant entries before the concat operation.\n",
       "  results = pd.concat([results, normalized_data]) #.dropna(axis=1, how=\"all\")])\n",
       "</pre>\n"
      ],
      "text/plain": [
       "/var/folders/7t/k8q3439j6z3c683j7w00wtm80000gn/T/ipykernel_50509/330735155.py:26: FutureWarning: The behavior of \n",
       "DataFrame concatenation with empty or all-NA entries is deprecated. In a future version, this will no longer \n",
       "exclude empty or all-NA columns when determining the result dtypes. To retain the old behavior, exclude the \n",
       "relevant entries before the concat operation.\n",
       "  results = pd.concat([results, normalized_data]) #.dropna(axis=1, how=\"all\")])\n"
      ]
     },
     "metadata": {},
     "output_type": "display_data"
    },
    {
     "data": {
      "text/html": [
       "<pre style=\"white-space:pre;overflow-x:auto;line-height:normal;font-family:Menlo,'DejaVu Sans Mono',consolas,'Courier New',monospace\">/var/folders/7t/k8q3439j6z3c683j7w00wtm80000gn/T/ipykernel_50509/330735155.py:26: FutureWarning: The behavior of \n",
       "DataFrame concatenation with empty or all-NA entries is deprecated. In a future version, this will no longer \n",
       "exclude empty or all-NA columns when determining the result dtypes. To retain the old behavior, exclude the \n",
       "relevant entries before the concat operation.\n",
       "  results = pd.concat([results, normalized_data]) #.dropna(axis=1, how=\"all\")])\n",
       "</pre>\n"
      ],
      "text/plain": [
       "/var/folders/7t/k8q3439j6z3c683j7w00wtm80000gn/T/ipykernel_50509/330735155.py:26: FutureWarning: The behavior of \n",
       "DataFrame concatenation with empty or all-NA entries is deprecated. In a future version, this will no longer \n",
       "exclude empty or all-NA columns when determining the result dtypes. To retain the old behavior, exclude the \n",
       "relevant entries before the concat operation.\n",
       "  results = pd.concat([results, normalized_data]) #.dropna(axis=1, how=\"all\")])\n"
      ]
     },
     "metadata": {},
     "output_type": "display_data"
    },
    {
     "data": {
      "text/html": [
       "<pre style=\"white-space:pre;overflow-x:auto;line-height:normal;font-family:Menlo,'DejaVu Sans Mono',consolas,'Courier New',monospace\">/var/folders/7t/k8q3439j6z3c683j7w00wtm80000gn/T/ipykernel_50509/330735155.py:26: FutureWarning: The behavior of \n",
       "DataFrame concatenation with empty or all-NA entries is deprecated. In a future version, this will no longer \n",
       "exclude empty or all-NA columns when determining the result dtypes. To retain the old behavior, exclude the \n",
       "relevant entries before the concat operation.\n",
       "  results = pd.concat([results, normalized_data]) #.dropna(axis=1, how=\"all\")])\n",
       "</pre>\n"
      ],
      "text/plain": [
       "/var/folders/7t/k8q3439j6z3c683j7w00wtm80000gn/T/ipykernel_50509/330735155.py:26: FutureWarning: The behavior of \n",
       "DataFrame concatenation with empty or all-NA entries is deprecated. In a future version, this will no longer \n",
       "exclude empty or all-NA columns when determining the result dtypes. To retain the old behavior, exclude the \n",
       "relevant entries before the concat operation.\n",
       "  results = pd.concat([results, normalized_data]) #.dropna(axis=1, how=\"all\")])\n"
      ]
     },
     "metadata": {},
     "output_type": "display_data"
    },
    {
     "data": {
      "text/html": [
       "<pre style=\"white-space:pre;overflow-x:auto;line-height:normal;font-family:Menlo,'DejaVu Sans Mono',consolas,'Courier New',monospace\">/var/folders/7t/k8q3439j6z3c683j7w00wtm80000gn/T/ipykernel_50509/330735155.py:26: FutureWarning: The behavior of \n",
       "DataFrame concatenation with empty or all-NA entries is deprecated. In a future version, this will no longer \n",
       "exclude empty or all-NA columns when determining the result dtypes. To retain the old behavior, exclude the \n",
       "relevant entries before the concat operation.\n",
       "  results = pd.concat([results, normalized_data]) #.dropna(axis=1, how=\"all\")])\n",
       "</pre>\n"
      ],
      "text/plain": [
       "/var/folders/7t/k8q3439j6z3c683j7w00wtm80000gn/T/ipykernel_50509/330735155.py:26: FutureWarning: The behavior of \n",
       "DataFrame concatenation with empty or all-NA entries is deprecated. In a future version, this will no longer \n",
       "exclude empty or all-NA columns when determining the result dtypes. To retain the old behavior, exclude the \n",
       "relevant entries before the concat operation.\n",
       "  results = pd.concat([results, normalized_data]) #.dropna(axis=1, how=\"all\")])\n"
      ]
     },
     "metadata": {},
     "output_type": "display_data"
    },
    {
     "data": {
      "text/html": [
       "<pre style=\"white-space:pre;overflow-x:auto;line-height:normal;font-family:Menlo,'DejaVu Sans Mono',consolas,'Courier New',monospace\">/var/folders/7t/k8q3439j6z3c683j7w00wtm80000gn/T/ipykernel_50509/330735155.py:26: FutureWarning: The behavior of \n",
       "DataFrame concatenation with empty or all-NA entries is deprecated. In a future version, this will no longer \n",
       "exclude empty or all-NA columns when determining the result dtypes. To retain the old behavior, exclude the \n",
       "relevant entries before the concat operation.\n",
       "  results = pd.concat([results, normalized_data]) #.dropna(axis=1, how=\"all\")])\n",
       "</pre>\n"
      ],
      "text/plain": [
       "/var/folders/7t/k8q3439j6z3c683j7w00wtm80000gn/T/ipykernel_50509/330735155.py:26: FutureWarning: The behavior of \n",
       "DataFrame concatenation with empty or all-NA entries is deprecated. In a future version, this will no longer \n",
       "exclude empty or all-NA columns when determining the result dtypes. To retain the old behavior, exclude the \n",
       "relevant entries before the concat operation.\n",
       "  results = pd.concat([results, normalized_data]) #.dropna(axis=1, how=\"all\")])\n"
      ]
     },
     "metadata": {},
     "output_type": "display_data"
    },
    {
     "data": {
      "text/html": [
       "<pre style=\"white-space:pre;overflow-x:auto;line-height:normal;font-family:Menlo,'DejaVu Sans Mono',consolas,'Courier New',monospace\">/var/folders/7t/k8q3439j6z3c683j7w00wtm80000gn/T/ipykernel_50509/330735155.py:26: FutureWarning: The behavior of \n",
       "DataFrame concatenation with empty or all-NA entries is deprecated. In a future version, this will no longer \n",
       "exclude empty or all-NA columns when determining the result dtypes. To retain the old behavior, exclude the \n",
       "relevant entries before the concat operation.\n",
       "  results = pd.concat([results, normalized_data]) #.dropna(axis=1, how=\"all\")])\n",
       "</pre>\n"
      ],
      "text/plain": [
       "/var/folders/7t/k8q3439j6z3c683j7w00wtm80000gn/T/ipykernel_50509/330735155.py:26: FutureWarning: The behavior of \n",
       "DataFrame concatenation with empty or all-NA entries is deprecated. In a future version, this will no longer \n",
       "exclude empty or all-NA columns when determining the result dtypes. To retain the old behavior, exclude the \n",
       "relevant entries before the concat operation.\n",
       "  results = pd.concat([results, normalized_data]) #.dropna(axis=1, how=\"all\")])\n"
      ]
     },
     "metadata": {},
     "output_type": "display_data"
    },
    {
     "data": {
      "text/html": [
       "<pre style=\"white-space:pre;overflow-x:auto;line-height:normal;font-family:Menlo,'DejaVu Sans Mono',consolas,'Courier New',monospace\">/var/folders/7t/k8q3439j6z3c683j7w00wtm80000gn/T/ipykernel_50509/330735155.py:26: FutureWarning: The behavior of \n",
       "DataFrame concatenation with empty or all-NA entries is deprecated. In a future version, this will no longer \n",
       "exclude empty or all-NA columns when determining the result dtypes. To retain the old behavior, exclude the \n",
       "relevant entries before the concat operation.\n",
       "  results = pd.concat([results, normalized_data]) #.dropna(axis=1, how=\"all\")])\n",
       "</pre>\n"
      ],
      "text/plain": [
       "/var/folders/7t/k8q3439j6z3c683j7w00wtm80000gn/T/ipykernel_50509/330735155.py:26: FutureWarning: The behavior of \n",
       "DataFrame concatenation with empty or all-NA entries is deprecated. In a future version, this will no longer \n",
       "exclude empty or all-NA columns when determining the result dtypes. To retain the old behavior, exclude the \n",
       "relevant entries before the concat operation.\n",
       "  results = pd.concat([results, normalized_data]) #.dropna(axis=1, how=\"all\")])\n"
      ]
     },
     "metadata": {},
     "output_type": "display_data"
    },
    {
     "data": {
      "text/html": [
       "<pre style=\"white-space:pre;overflow-x:auto;line-height:normal;font-family:Menlo,'DejaVu Sans Mono',consolas,'Courier New',monospace\">/var/folders/7t/k8q3439j6z3c683j7w00wtm80000gn/T/ipykernel_50509/330735155.py:26: FutureWarning: The behavior of \n",
       "DataFrame concatenation with empty or all-NA entries is deprecated. In a future version, this will no longer \n",
       "exclude empty or all-NA columns when determining the result dtypes. To retain the old behavior, exclude the \n",
       "relevant entries before the concat operation.\n",
       "  results = pd.concat([results, normalized_data]) #.dropna(axis=1, how=\"all\")])\n",
       "</pre>\n"
      ],
      "text/plain": [
       "/var/folders/7t/k8q3439j6z3c683j7w00wtm80000gn/T/ipykernel_50509/330735155.py:26: FutureWarning: The behavior of \n",
       "DataFrame concatenation with empty or all-NA entries is deprecated. In a future version, this will no longer \n",
       "exclude empty or all-NA columns when determining the result dtypes. To retain the old behavior, exclude the \n",
       "relevant entries before the concat operation.\n",
       "  results = pd.concat([results, normalized_data]) #.dropna(axis=1, how=\"all\")])\n"
      ]
     },
     "metadata": {},
     "output_type": "display_data"
    },
    {
     "data": {
      "text/html": [
       "<pre style=\"white-space:pre;overflow-x:auto;line-height:normal;font-family:Menlo,'DejaVu Sans Mono',consolas,'Courier New',monospace\">/var/folders/7t/k8q3439j6z3c683j7w00wtm80000gn/T/ipykernel_50509/330735155.py:26: FutureWarning: The behavior of \n",
       "DataFrame concatenation with empty or all-NA entries is deprecated. In a future version, this will no longer \n",
       "exclude empty or all-NA columns when determining the result dtypes. To retain the old behavior, exclude the \n",
       "relevant entries before the concat operation.\n",
       "  results = pd.concat([results, normalized_data]) #.dropna(axis=1, how=\"all\")])\n",
       "</pre>\n"
      ],
      "text/plain": [
       "/var/folders/7t/k8q3439j6z3c683j7w00wtm80000gn/T/ipykernel_50509/330735155.py:26: FutureWarning: The behavior of \n",
       "DataFrame concatenation with empty or all-NA entries is deprecated. In a future version, this will no longer \n",
       "exclude empty or all-NA columns when determining the result dtypes. To retain the old behavior, exclude the \n",
       "relevant entries before the concat operation.\n",
       "  results = pd.concat([results, normalized_data]) #.dropna(axis=1, how=\"all\")])\n"
      ]
     },
     "metadata": {},
     "output_type": "display_data"
    },
    {
     "data": {
      "text/html": [
       "<pre style=\"white-space:pre;overflow-x:auto;line-height:normal;font-family:Menlo,'DejaVu Sans Mono',consolas,'Courier New',monospace\">/var/folders/7t/k8q3439j6z3c683j7w00wtm80000gn/T/ipykernel_50509/330735155.py:26: FutureWarning: The behavior of \n",
       "DataFrame concatenation with empty or all-NA entries is deprecated. In a future version, this will no longer \n",
       "exclude empty or all-NA columns when determining the result dtypes. To retain the old behavior, exclude the \n",
       "relevant entries before the concat operation.\n",
       "  results = pd.concat([results, normalized_data]) #.dropna(axis=1, how=\"all\")])\n",
       "</pre>\n"
      ],
      "text/plain": [
       "/var/folders/7t/k8q3439j6z3c683j7w00wtm80000gn/T/ipykernel_50509/330735155.py:26: FutureWarning: The behavior of \n",
       "DataFrame concatenation with empty or all-NA entries is deprecated. In a future version, this will no longer \n",
       "exclude empty or all-NA columns when determining the result dtypes. To retain the old behavior, exclude the \n",
       "relevant entries before the concat operation.\n",
       "  results = pd.concat([results, normalized_data]) #.dropna(axis=1, how=\"all\")])\n"
      ]
     },
     "metadata": {},
     "output_type": "display_data"
    },
    {
     "data": {
      "text/html": [
       "<pre style=\"white-space:pre;overflow-x:auto;line-height:normal;font-family:Menlo,'DejaVu Sans Mono',consolas,'Courier New',monospace\">/var/folders/7t/k8q3439j6z3c683j7w00wtm80000gn/T/ipykernel_50509/330735155.py:26: FutureWarning: The behavior of \n",
       "DataFrame concatenation with empty or all-NA entries is deprecated. In a future version, this will no longer \n",
       "exclude empty or all-NA columns when determining the result dtypes. To retain the old behavior, exclude the \n",
       "relevant entries before the concat operation.\n",
       "  results = pd.concat([results, normalized_data]) #.dropna(axis=1, how=\"all\")])\n",
       "</pre>\n"
      ],
      "text/plain": [
       "/var/folders/7t/k8q3439j6z3c683j7w00wtm80000gn/T/ipykernel_50509/330735155.py:26: FutureWarning: The behavior of \n",
       "DataFrame concatenation with empty or all-NA entries is deprecated. In a future version, this will no longer \n",
       "exclude empty or all-NA columns when determining the result dtypes. To retain the old behavior, exclude the \n",
       "relevant entries before the concat operation.\n",
       "  results = pd.concat([results, normalized_data]) #.dropna(axis=1, how=\"all\")])\n"
      ]
     },
     "metadata": {},
     "output_type": "display_data"
    },
    {
     "data": {
      "text/html": [
       "<pre style=\"white-space:pre;overflow-x:auto;line-height:normal;font-family:Menlo,'DejaVu Sans Mono',consolas,'Courier New',monospace\">/var/folders/7t/k8q3439j6z3c683j7w00wtm80000gn/T/ipykernel_50509/330735155.py:26: FutureWarning: The behavior of \n",
       "DataFrame concatenation with empty or all-NA entries is deprecated. In a future version, this will no longer \n",
       "exclude empty or all-NA columns when determining the result dtypes. To retain the old behavior, exclude the \n",
       "relevant entries before the concat operation.\n",
       "  results = pd.concat([results, normalized_data]) #.dropna(axis=1, how=\"all\")])\n",
       "</pre>\n"
      ],
      "text/plain": [
       "/var/folders/7t/k8q3439j6z3c683j7w00wtm80000gn/T/ipykernel_50509/330735155.py:26: FutureWarning: The behavior of \n",
       "DataFrame concatenation with empty or all-NA entries is deprecated. In a future version, this will no longer \n",
       "exclude empty or all-NA columns when determining the result dtypes. To retain the old behavior, exclude the \n",
       "relevant entries before the concat operation.\n",
       "  results = pd.concat([results, normalized_data]) #.dropna(axis=1, how=\"all\")])\n"
      ]
     },
     "metadata": {},
     "output_type": "display_data"
    },
    {
     "data": {
      "text/html": [
       "<pre style=\"white-space:pre;overflow-x:auto;line-height:normal;font-family:Menlo,'DejaVu Sans Mono',consolas,'Courier New',monospace\">/var/folders/7t/k8q3439j6z3c683j7w00wtm80000gn/T/ipykernel_50509/330735155.py:26: FutureWarning: The behavior of \n",
       "DataFrame concatenation with empty or all-NA entries is deprecated. In a future version, this will no longer \n",
       "exclude empty or all-NA columns when determining the result dtypes. To retain the old behavior, exclude the \n",
       "relevant entries before the concat operation.\n",
       "  results = pd.concat([results, normalized_data]) #.dropna(axis=1, how=\"all\")])\n",
       "</pre>\n"
      ],
      "text/plain": [
       "/var/folders/7t/k8q3439j6z3c683j7w00wtm80000gn/T/ipykernel_50509/330735155.py:26: FutureWarning: The behavior of \n",
       "DataFrame concatenation with empty or all-NA entries is deprecated. In a future version, this will no longer \n",
       "exclude empty or all-NA columns when determining the result dtypes. To retain the old behavior, exclude the \n",
       "relevant entries before the concat operation.\n",
       "  results = pd.concat([results, normalized_data]) #.dropna(axis=1, how=\"all\")])\n"
      ]
     },
     "metadata": {},
     "output_type": "display_data"
    },
    {
     "data": {
      "text/html": [
       "<pre style=\"white-space:pre;overflow-x:auto;line-height:normal;font-family:Menlo,'DejaVu Sans Mono',consolas,'Courier New',monospace\">/var/folders/7t/k8q3439j6z3c683j7w00wtm80000gn/T/ipykernel_50509/330735155.py:26: FutureWarning: The behavior of \n",
       "DataFrame concatenation with empty or all-NA entries is deprecated. In a future version, this will no longer \n",
       "exclude empty or all-NA columns when determining the result dtypes. To retain the old behavior, exclude the \n",
       "relevant entries before the concat operation.\n",
       "  results = pd.concat([results, normalized_data]) #.dropna(axis=1, how=\"all\")])\n",
       "</pre>\n"
      ],
      "text/plain": [
       "/var/folders/7t/k8q3439j6z3c683j7w00wtm80000gn/T/ipykernel_50509/330735155.py:26: FutureWarning: The behavior of \n",
       "DataFrame concatenation with empty or all-NA entries is deprecated. In a future version, this will no longer \n",
       "exclude empty or all-NA columns when determining the result dtypes. To retain the old behavior, exclude the \n",
       "relevant entries before the concat operation.\n",
       "  results = pd.concat([results, normalized_data]) #.dropna(axis=1, how=\"all\")])\n"
      ]
     },
     "metadata": {},
     "output_type": "display_data"
    },
    {
     "data": {
      "text/html": [
       "<pre style=\"white-space:pre;overflow-x:auto;line-height:normal;font-family:Menlo,'DejaVu Sans Mono',consolas,'Courier New',monospace\">/var/folders/7t/k8q3439j6z3c683j7w00wtm80000gn/T/ipykernel_50509/330735155.py:26: FutureWarning: The behavior of \n",
       "DataFrame concatenation with empty or all-NA entries is deprecated. In a future version, this will no longer \n",
       "exclude empty or all-NA columns when determining the result dtypes. To retain the old behavior, exclude the \n",
       "relevant entries before the concat operation.\n",
       "  results = pd.concat([results, normalized_data]) #.dropna(axis=1, how=\"all\")])\n",
       "</pre>\n"
      ],
      "text/plain": [
       "/var/folders/7t/k8q3439j6z3c683j7w00wtm80000gn/T/ipykernel_50509/330735155.py:26: FutureWarning: The behavior of \n",
       "DataFrame concatenation with empty or all-NA entries is deprecated. In a future version, this will no longer \n",
       "exclude empty or all-NA columns when determining the result dtypes. To retain the old behavior, exclude the \n",
       "relevant entries before the concat operation.\n",
       "  results = pd.concat([results, normalized_data]) #.dropna(axis=1, how=\"all\")])\n"
      ]
     },
     "metadata": {},
     "output_type": "display_data"
    },
    {
     "data": {
      "text/html": [
       "<pre style=\"white-space:pre;overflow-x:auto;line-height:normal;font-family:Menlo,'DejaVu Sans Mono',consolas,'Courier New',monospace\">/var/folders/7t/k8q3439j6z3c683j7w00wtm80000gn/T/ipykernel_50509/330735155.py:26: FutureWarning: The behavior of \n",
       "DataFrame concatenation with empty or all-NA entries is deprecated. In a future version, this will no longer \n",
       "exclude empty or all-NA columns when determining the result dtypes. To retain the old behavior, exclude the \n",
       "relevant entries before the concat operation.\n",
       "  results = pd.concat([results, normalized_data]) #.dropna(axis=1, how=\"all\")])\n",
       "</pre>\n"
      ],
      "text/plain": [
       "/var/folders/7t/k8q3439j6z3c683j7w00wtm80000gn/T/ipykernel_50509/330735155.py:26: FutureWarning: The behavior of \n",
       "DataFrame concatenation with empty or all-NA entries is deprecated. In a future version, this will no longer \n",
       "exclude empty or all-NA columns when determining the result dtypes. To retain the old behavior, exclude the \n",
       "relevant entries before the concat operation.\n",
       "  results = pd.concat([results, normalized_data]) #.dropna(axis=1, how=\"all\")])\n"
      ]
     },
     "metadata": {},
     "output_type": "display_data"
    },
    {
     "data": {
      "text/html": [
       "<pre style=\"white-space:pre;overflow-x:auto;line-height:normal;font-family:Menlo,'DejaVu Sans Mono',consolas,'Courier New',monospace\">/var/folders/7t/k8q3439j6z3c683j7w00wtm80000gn/T/ipykernel_50509/330735155.py:26: FutureWarning: The behavior of \n",
       "DataFrame concatenation with empty or all-NA entries is deprecated. In a future version, this will no longer \n",
       "exclude empty or all-NA columns when determining the result dtypes. To retain the old behavior, exclude the \n",
       "relevant entries before the concat operation.\n",
       "  results = pd.concat([results, normalized_data]) #.dropna(axis=1, how=\"all\")])\n",
       "</pre>\n"
      ],
      "text/plain": [
       "/var/folders/7t/k8q3439j6z3c683j7w00wtm80000gn/T/ipykernel_50509/330735155.py:26: FutureWarning: The behavior of \n",
       "DataFrame concatenation with empty or all-NA entries is deprecated. In a future version, this will no longer \n",
       "exclude empty or all-NA columns when determining the result dtypes. To retain the old behavior, exclude the \n",
       "relevant entries before the concat operation.\n",
       "  results = pd.concat([results, normalized_data]) #.dropna(axis=1, how=\"all\")])\n"
      ]
     },
     "metadata": {},
     "output_type": "display_data"
    },
    {
     "data": {
      "text/html": [
       "<pre style=\"white-space:pre;overflow-x:auto;line-height:normal;font-family:Menlo,'DejaVu Sans Mono',consolas,'Courier New',monospace\">/var/folders/7t/k8q3439j6z3c683j7w00wtm80000gn/T/ipykernel_50509/330735155.py:26: FutureWarning: The behavior of \n",
       "DataFrame concatenation with empty or all-NA entries is deprecated. In a future version, this will no longer \n",
       "exclude empty or all-NA columns when determining the result dtypes. To retain the old behavior, exclude the \n",
       "relevant entries before the concat operation.\n",
       "  results = pd.concat([results, normalized_data]) #.dropna(axis=1, how=\"all\")])\n",
       "</pre>\n"
      ],
      "text/plain": [
       "/var/folders/7t/k8q3439j6z3c683j7w00wtm80000gn/T/ipykernel_50509/330735155.py:26: FutureWarning: The behavior of \n",
       "DataFrame concatenation with empty or all-NA entries is deprecated. In a future version, this will no longer \n",
       "exclude empty or all-NA columns when determining the result dtypes. To retain the old behavior, exclude the \n",
       "relevant entries before the concat operation.\n",
       "  results = pd.concat([results, normalized_data]) #.dropna(axis=1, how=\"all\")])\n"
      ]
     },
     "metadata": {},
     "output_type": "display_data"
    },
    {
     "data": {
      "text/html": [
       "<pre style=\"white-space:pre;overflow-x:auto;line-height:normal;font-family:Menlo,'DejaVu Sans Mono',consolas,'Courier New',monospace\">/var/folders/7t/k8q3439j6z3c683j7w00wtm80000gn/T/ipykernel_50509/330735155.py:26: FutureWarning: The behavior of \n",
       "DataFrame concatenation with empty or all-NA entries is deprecated. In a future version, this will no longer \n",
       "exclude empty or all-NA columns when determining the result dtypes. To retain the old behavior, exclude the \n",
       "relevant entries before the concat operation.\n",
       "  results = pd.concat([results, normalized_data]) #.dropna(axis=1, how=\"all\")])\n",
       "</pre>\n"
      ],
      "text/plain": [
       "/var/folders/7t/k8q3439j6z3c683j7w00wtm80000gn/T/ipykernel_50509/330735155.py:26: FutureWarning: The behavior of \n",
       "DataFrame concatenation with empty or all-NA entries is deprecated. In a future version, this will no longer \n",
       "exclude empty or all-NA columns when determining the result dtypes. To retain the old behavior, exclude the \n",
       "relevant entries before the concat operation.\n",
       "  results = pd.concat([results, normalized_data]) #.dropna(axis=1, how=\"all\")])\n"
      ]
     },
     "metadata": {},
     "output_type": "display_data"
    },
    {
     "data": {
      "text/html": [
       "<pre style=\"white-space:pre;overflow-x:auto;line-height:normal;font-family:Menlo,'DejaVu Sans Mono',consolas,'Courier New',monospace\">/var/folders/7t/k8q3439j6z3c683j7w00wtm80000gn/T/ipykernel_50509/330735155.py:26: FutureWarning: The behavior of \n",
       "DataFrame concatenation with empty or all-NA entries is deprecated. In a future version, this will no longer \n",
       "exclude empty or all-NA columns when determining the result dtypes. To retain the old behavior, exclude the \n",
       "relevant entries before the concat operation.\n",
       "  results = pd.concat([results, normalized_data]) #.dropna(axis=1, how=\"all\")])\n",
       "</pre>\n"
      ],
      "text/plain": [
       "/var/folders/7t/k8q3439j6z3c683j7w00wtm80000gn/T/ipykernel_50509/330735155.py:26: FutureWarning: The behavior of \n",
       "DataFrame concatenation with empty or all-NA entries is deprecated. In a future version, this will no longer \n",
       "exclude empty or all-NA columns when determining the result dtypes. To retain the old behavior, exclude the \n",
       "relevant entries before the concat operation.\n",
       "  results = pd.concat([results, normalized_data]) #.dropna(axis=1, how=\"all\")])\n"
      ]
     },
     "metadata": {},
     "output_type": "display_data"
    },
    {
     "data": {
      "text/html": [
       "<pre style=\"white-space:pre;overflow-x:auto;line-height:normal;font-family:Menlo,'DejaVu Sans Mono',consolas,'Courier New',monospace\">/var/folders/7t/k8q3439j6z3c683j7w00wtm80000gn/T/ipykernel_50509/330735155.py:26: FutureWarning: The behavior of \n",
       "DataFrame concatenation with empty or all-NA entries is deprecated. In a future version, this will no longer \n",
       "exclude empty or all-NA columns when determining the result dtypes. To retain the old behavior, exclude the \n",
       "relevant entries before the concat operation.\n",
       "  results = pd.concat([results, normalized_data]) #.dropna(axis=1, how=\"all\")])\n",
       "</pre>\n"
      ],
      "text/plain": [
       "/var/folders/7t/k8q3439j6z3c683j7w00wtm80000gn/T/ipykernel_50509/330735155.py:26: FutureWarning: The behavior of \n",
       "DataFrame concatenation with empty or all-NA entries is deprecated. In a future version, this will no longer \n",
       "exclude empty or all-NA columns when determining the result dtypes. To retain the old behavior, exclude the \n",
       "relevant entries before the concat operation.\n",
       "  results = pd.concat([results, normalized_data]) #.dropna(axis=1, how=\"all\")])\n"
      ]
     },
     "metadata": {},
     "output_type": "display_data"
    },
    {
     "data": {
      "text/html": [
       "<pre style=\"white-space:pre;overflow-x:auto;line-height:normal;font-family:Menlo,'DejaVu Sans Mono',consolas,'Courier New',monospace\">/var/folders/7t/k8q3439j6z3c683j7w00wtm80000gn/T/ipykernel_50509/330735155.py:26: FutureWarning: The behavior of \n",
       "DataFrame concatenation with empty or all-NA entries is deprecated. In a future version, this will no longer \n",
       "exclude empty or all-NA columns when determining the result dtypes. To retain the old behavior, exclude the \n",
       "relevant entries before the concat operation.\n",
       "  results = pd.concat([results, normalized_data]) #.dropna(axis=1, how=\"all\")])\n",
       "</pre>\n"
      ],
      "text/plain": [
       "/var/folders/7t/k8q3439j6z3c683j7w00wtm80000gn/T/ipykernel_50509/330735155.py:26: FutureWarning: The behavior of \n",
       "DataFrame concatenation with empty or all-NA entries is deprecated. In a future version, this will no longer \n",
       "exclude empty or all-NA columns when determining the result dtypes. To retain the old behavior, exclude the \n",
       "relevant entries before the concat operation.\n",
       "  results = pd.concat([results, normalized_data]) #.dropna(axis=1, how=\"all\")])\n"
      ]
     },
     "metadata": {},
     "output_type": "display_data"
    },
    {
     "data": {
      "text/html": [
       "<pre style=\"white-space:pre;overflow-x:auto;line-height:normal;font-family:Menlo,'DejaVu Sans Mono',consolas,'Courier New',monospace\">/var/folders/7t/k8q3439j6z3c683j7w00wtm80000gn/T/ipykernel_50509/330735155.py:26: FutureWarning: The behavior of \n",
       "DataFrame concatenation with empty or all-NA entries is deprecated. In a future version, this will no longer \n",
       "exclude empty or all-NA columns when determining the result dtypes. To retain the old behavior, exclude the \n",
       "relevant entries before the concat operation.\n",
       "  results = pd.concat([results, normalized_data]) #.dropna(axis=1, how=\"all\")])\n",
       "</pre>\n"
      ],
      "text/plain": [
       "/var/folders/7t/k8q3439j6z3c683j7w00wtm80000gn/T/ipykernel_50509/330735155.py:26: FutureWarning: The behavior of \n",
       "DataFrame concatenation with empty or all-NA entries is deprecated. In a future version, this will no longer \n",
       "exclude empty or all-NA columns when determining the result dtypes. To retain the old behavior, exclude the \n",
       "relevant entries before the concat operation.\n",
       "  results = pd.concat([results, normalized_data]) #.dropna(axis=1, how=\"all\")])\n"
      ]
     },
     "metadata": {},
     "output_type": "display_data"
    },
    {
     "data": {
      "text/html": [
       "<pre style=\"white-space:pre;overflow-x:auto;line-height:normal;font-family:Menlo,'DejaVu Sans Mono',consolas,'Courier New',monospace\">/var/folders/7t/k8q3439j6z3c683j7w00wtm80000gn/T/ipykernel_50509/330735155.py:26: FutureWarning: The behavior of \n",
       "DataFrame concatenation with empty or all-NA entries is deprecated. In a future version, this will no longer \n",
       "exclude empty or all-NA columns when determining the result dtypes. To retain the old behavior, exclude the \n",
       "relevant entries before the concat operation.\n",
       "  results = pd.concat([results, normalized_data]) #.dropna(axis=1, how=\"all\")])\n",
       "</pre>\n"
      ],
      "text/plain": [
       "/var/folders/7t/k8q3439j6z3c683j7w00wtm80000gn/T/ipykernel_50509/330735155.py:26: FutureWarning: The behavior of \n",
       "DataFrame concatenation with empty or all-NA entries is deprecated. In a future version, this will no longer \n",
       "exclude empty or all-NA columns when determining the result dtypes. To retain the old behavior, exclude the \n",
       "relevant entries before the concat operation.\n",
       "  results = pd.concat([results, normalized_data]) #.dropna(axis=1, how=\"all\")])\n"
      ]
     },
     "metadata": {},
     "output_type": "display_data"
    },
    {
     "data": {
      "text/html": [
       "<pre style=\"white-space:pre;overflow-x:auto;line-height:normal;font-family:Menlo,'DejaVu Sans Mono',consolas,'Courier New',monospace\">/var/folders/7t/k8q3439j6z3c683j7w00wtm80000gn/T/ipykernel_50509/330735155.py:26: FutureWarning: The behavior of \n",
       "DataFrame concatenation with empty or all-NA entries is deprecated. In a future version, this will no longer \n",
       "exclude empty or all-NA columns when determining the result dtypes. To retain the old behavior, exclude the \n",
       "relevant entries before the concat operation.\n",
       "  results = pd.concat([results, normalized_data]) #.dropna(axis=1, how=\"all\")])\n",
       "</pre>\n"
      ],
      "text/plain": [
       "/var/folders/7t/k8q3439j6z3c683j7w00wtm80000gn/T/ipykernel_50509/330735155.py:26: FutureWarning: The behavior of \n",
       "DataFrame concatenation with empty or all-NA entries is deprecated. In a future version, this will no longer \n",
       "exclude empty or all-NA columns when determining the result dtypes. To retain the old behavior, exclude the \n",
       "relevant entries before the concat operation.\n",
       "  results = pd.concat([results, normalized_data]) #.dropna(axis=1, how=\"all\")])\n"
      ]
     },
     "metadata": {},
     "output_type": "display_data"
    },
    {
     "data": {
      "text/html": [
       "<pre style=\"white-space:pre;overflow-x:auto;line-height:normal;font-family:Menlo,'DejaVu Sans Mono',consolas,'Courier New',monospace\">/var/folders/7t/k8q3439j6z3c683j7w00wtm80000gn/T/ipykernel_50509/330735155.py:26: FutureWarning: The behavior of \n",
       "DataFrame concatenation with empty or all-NA entries is deprecated. In a future version, this will no longer \n",
       "exclude empty or all-NA columns when determining the result dtypes. To retain the old behavior, exclude the \n",
       "relevant entries before the concat operation.\n",
       "  results = pd.concat([results, normalized_data]) #.dropna(axis=1, how=\"all\")])\n",
       "</pre>\n"
      ],
      "text/plain": [
       "/var/folders/7t/k8q3439j6z3c683j7w00wtm80000gn/T/ipykernel_50509/330735155.py:26: FutureWarning: The behavior of \n",
       "DataFrame concatenation with empty or all-NA entries is deprecated. In a future version, this will no longer \n",
       "exclude empty or all-NA columns when determining the result dtypes. To retain the old behavior, exclude the \n",
       "relevant entries before the concat operation.\n",
       "  results = pd.concat([results, normalized_data]) #.dropna(axis=1, how=\"all\")])\n"
      ]
     },
     "metadata": {},
     "output_type": "display_data"
    },
    {
     "data": {
      "text/html": [
       "<pre style=\"white-space:pre;overflow-x:auto;line-height:normal;font-family:Menlo,'DejaVu Sans Mono',consolas,'Courier New',monospace\">/var/folders/7t/k8q3439j6z3c683j7w00wtm80000gn/T/ipykernel_50509/330735155.py:26: FutureWarning: The behavior of \n",
       "DataFrame concatenation with empty or all-NA entries is deprecated. In a future version, this will no longer \n",
       "exclude empty or all-NA columns when determining the result dtypes. To retain the old behavior, exclude the \n",
       "relevant entries before the concat operation.\n",
       "  results = pd.concat([results, normalized_data]) #.dropna(axis=1, how=\"all\")])\n",
       "</pre>\n"
      ],
      "text/plain": [
       "/var/folders/7t/k8q3439j6z3c683j7w00wtm80000gn/T/ipykernel_50509/330735155.py:26: FutureWarning: The behavior of \n",
       "DataFrame concatenation with empty or all-NA entries is deprecated. In a future version, this will no longer \n",
       "exclude empty or all-NA columns when determining the result dtypes. To retain the old behavior, exclude the \n",
       "relevant entries before the concat operation.\n",
       "  results = pd.concat([results, normalized_data]) #.dropna(axis=1, how=\"all\")])\n"
      ]
     },
     "metadata": {},
     "output_type": "display_data"
    },
    {
     "data": {
      "text/html": [
       "<pre style=\"white-space:pre;overflow-x:auto;line-height:normal;font-family:Menlo,'DejaVu Sans Mono',consolas,'Courier New',monospace\">/var/folders/7t/k8q3439j6z3c683j7w00wtm80000gn/T/ipykernel_50509/330735155.py:26: FutureWarning: The behavior of \n",
       "DataFrame concatenation with empty or all-NA entries is deprecated. In a future version, this will no longer \n",
       "exclude empty or all-NA columns when determining the result dtypes. To retain the old behavior, exclude the \n",
       "relevant entries before the concat operation.\n",
       "  results = pd.concat([results, normalized_data]) #.dropna(axis=1, how=\"all\")])\n",
       "</pre>\n"
      ],
      "text/plain": [
       "/var/folders/7t/k8q3439j6z3c683j7w00wtm80000gn/T/ipykernel_50509/330735155.py:26: FutureWarning: The behavior of \n",
       "DataFrame concatenation with empty or all-NA entries is deprecated. In a future version, this will no longer \n",
       "exclude empty or all-NA columns when determining the result dtypes. To retain the old behavior, exclude the \n",
       "relevant entries before the concat operation.\n",
       "  results = pd.concat([results, normalized_data]) #.dropna(axis=1, how=\"all\")])\n"
      ]
     },
     "metadata": {},
     "output_type": "display_data"
    },
    {
     "data": {
      "text/html": [
       "<pre style=\"white-space:pre;overflow-x:auto;line-height:normal;font-family:Menlo,'DejaVu Sans Mono',consolas,'Courier New',monospace\">/var/folders/7t/k8q3439j6z3c683j7w00wtm80000gn/T/ipykernel_50509/330735155.py:26: FutureWarning: The behavior of \n",
       "DataFrame concatenation with empty or all-NA entries is deprecated. In a future version, this will no longer \n",
       "exclude empty or all-NA columns when determining the result dtypes. To retain the old behavior, exclude the \n",
       "relevant entries before the concat operation.\n",
       "  results = pd.concat([results, normalized_data]) #.dropna(axis=1, how=\"all\")])\n",
       "</pre>\n"
      ],
      "text/plain": [
       "/var/folders/7t/k8q3439j6z3c683j7w00wtm80000gn/T/ipykernel_50509/330735155.py:26: FutureWarning: The behavior of \n",
       "DataFrame concatenation with empty or all-NA entries is deprecated. In a future version, this will no longer \n",
       "exclude empty or all-NA columns when determining the result dtypes. To retain the old behavior, exclude the \n",
       "relevant entries before the concat operation.\n",
       "  results = pd.concat([results, normalized_data]) #.dropna(axis=1, how=\"all\")])\n"
      ]
     },
     "metadata": {},
     "output_type": "display_data"
    },
    {
     "data": {
      "text/html": [
       "<pre style=\"white-space:pre;overflow-x:auto;line-height:normal;font-family:Menlo,'DejaVu Sans Mono',consolas,'Courier New',monospace\">/var/folders/7t/k8q3439j6z3c683j7w00wtm80000gn/T/ipykernel_50509/330735155.py:26: FutureWarning: The behavior of \n",
       "DataFrame concatenation with empty or all-NA entries is deprecated. In a future version, this will no longer \n",
       "exclude empty or all-NA columns when determining the result dtypes. To retain the old behavior, exclude the \n",
       "relevant entries before the concat operation.\n",
       "  results = pd.concat([results, normalized_data]) #.dropna(axis=1, how=\"all\")])\n",
       "</pre>\n"
      ],
      "text/plain": [
       "/var/folders/7t/k8q3439j6z3c683j7w00wtm80000gn/T/ipykernel_50509/330735155.py:26: FutureWarning: The behavior of \n",
       "DataFrame concatenation with empty or all-NA entries is deprecated. In a future version, this will no longer \n",
       "exclude empty or all-NA columns when determining the result dtypes. To retain the old behavior, exclude the \n",
       "relevant entries before the concat operation.\n",
       "  results = pd.concat([results, normalized_data]) #.dropna(axis=1, how=\"all\")])\n"
      ]
     },
     "metadata": {},
     "output_type": "display_data"
    },
    {
     "data": {
      "text/html": [
       "<pre style=\"white-space:pre;overflow-x:auto;line-height:normal;font-family:Menlo,'DejaVu Sans Mono',consolas,'Courier New',monospace\">/var/folders/7t/k8q3439j6z3c683j7w00wtm80000gn/T/ipykernel_50509/330735155.py:26: FutureWarning: The behavior of \n",
       "DataFrame concatenation with empty or all-NA entries is deprecated. In a future version, this will no longer \n",
       "exclude empty or all-NA columns when determining the result dtypes. To retain the old behavior, exclude the \n",
       "relevant entries before the concat operation.\n",
       "  results = pd.concat([results, normalized_data]) #.dropna(axis=1, how=\"all\")])\n",
       "</pre>\n"
      ],
      "text/plain": [
       "/var/folders/7t/k8q3439j6z3c683j7w00wtm80000gn/T/ipykernel_50509/330735155.py:26: FutureWarning: The behavior of \n",
       "DataFrame concatenation with empty or all-NA entries is deprecated. In a future version, this will no longer \n",
       "exclude empty or all-NA columns when determining the result dtypes. To retain the old behavior, exclude the \n",
       "relevant entries before the concat operation.\n",
       "  results = pd.concat([results, normalized_data]) #.dropna(axis=1, how=\"all\")])\n"
      ]
     },
     "metadata": {},
     "output_type": "display_data"
    },
    {
     "data": {
      "text/html": [
       "<pre style=\"white-space:pre;overflow-x:auto;line-height:normal;font-family:Menlo,'DejaVu Sans Mono',consolas,'Courier New',monospace\">/var/folders/7t/k8q3439j6z3c683j7w00wtm80000gn/T/ipykernel_50509/330735155.py:26: FutureWarning: The behavior of \n",
       "DataFrame concatenation with empty or all-NA entries is deprecated. In a future version, this will no longer \n",
       "exclude empty or all-NA columns when determining the result dtypes. To retain the old behavior, exclude the \n",
       "relevant entries before the concat operation.\n",
       "  results = pd.concat([results, normalized_data]) #.dropna(axis=1, how=\"all\")])\n",
       "</pre>\n"
      ],
      "text/plain": [
       "/var/folders/7t/k8q3439j6z3c683j7w00wtm80000gn/T/ipykernel_50509/330735155.py:26: FutureWarning: The behavior of \n",
       "DataFrame concatenation with empty or all-NA entries is deprecated. In a future version, this will no longer \n",
       "exclude empty or all-NA columns when determining the result dtypes. To retain the old behavior, exclude the \n",
       "relevant entries before the concat operation.\n",
       "  results = pd.concat([results, normalized_data]) #.dropna(axis=1, how=\"all\")])\n"
      ]
     },
     "metadata": {},
     "output_type": "display_data"
    },
    {
     "data": {
      "text/html": [
       "<pre style=\"white-space:pre;overflow-x:auto;line-height:normal;font-family:Menlo,'DejaVu Sans Mono',consolas,'Courier New',monospace\">/var/folders/7t/k8q3439j6z3c683j7w00wtm80000gn/T/ipykernel_50509/330735155.py:26: FutureWarning: The behavior of \n",
       "DataFrame concatenation with empty or all-NA entries is deprecated. In a future version, this will no longer \n",
       "exclude empty or all-NA columns when determining the result dtypes. To retain the old behavior, exclude the \n",
       "relevant entries before the concat operation.\n",
       "  results = pd.concat([results, normalized_data]) #.dropna(axis=1, how=\"all\")])\n",
       "</pre>\n"
      ],
      "text/plain": [
       "/var/folders/7t/k8q3439j6z3c683j7w00wtm80000gn/T/ipykernel_50509/330735155.py:26: FutureWarning: The behavior of \n",
       "DataFrame concatenation with empty or all-NA entries is deprecated. In a future version, this will no longer \n",
       "exclude empty or all-NA columns when determining the result dtypes. To retain the old behavior, exclude the \n",
       "relevant entries before the concat operation.\n",
       "  results = pd.concat([results, normalized_data]) #.dropna(axis=1, how=\"all\")])\n"
      ]
     },
     "metadata": {},
     "output_type": "display_data"
    },
    {
     "data": {
      "text/html": [
       "<pre style=\"white-space:pre;overflow-x:auto;line-height:normal;font-family:Menlo,'DejaVu Sans Mono',consolas,'Courier New',monospace\">/var/folders/7t/k8q3439j6z3c683j7w00wtm80000gn/T/ipykernel_50509/330735155.py:26: FutureWarning: The behavior of \n",
       "DataFrame concatenation with empty or all-NA entries is deprecated. In a future version, this will no longer \n",
       "exclude empty or all-NA columns when determining the result dtypes. To retain the old behavior, exclude the \n",
       "relevant entries before the concat operation.\n",
       "  results = pd.concat([results, normalized_data]) #.dropna(axis=1, how=\"all\")])\n",
       "</pre>\n"
      ],
      "text/plain": [
       "/var/folders/7t/k8q3439j6z3c683j7w00wtm80000gn/T/ipykernel_50509/330735155.py:26: FutureWarning: The behavior of \n",
       "DataFrame concatenation with empty or all-NA entries is deprecated. In a future version, this will no longer \n",
       "exclude empty or all-NA columns when determining the result dtypes. To retain the old behavior, exclude the \n",
       "relevant entries before the concat operation.\n",
       "  results = pd.concat([results, normalized_data]) #.dropna(axis=1, how=\"all\")])\n"
      ]
     },
     "metadata": {},
     "output_type": "display_data"
    },
    {
     "data": {
      "text/html": [
       "<pre style=\"white-space:pre;overflow-x:auto;line-height:normal;font-family:Menlo,'DejaVu Sans Mono',consolas,'Courier New',monospace\">/var/folders/7t/k8q3439j6z3c683j7w00wtm80000gn/T/ipykernel_50509/330735155.py:26: FutureWarning: The behavior of \n",
       "DataFrame concatenation with empty or all-NA entries is deprecated. In a future version, this will no longer \n",
       "exclude empty or all-NA columns when determining the result dtypes. To retain the old behavior, exclude the \n",
       "relevant entries before the concat operation.\n",
       "  results = pd.concat([results, normalized_data]) #.dropna(axis=1, how=\"all\")])\n",
       "</pre>\n"
      ],
      "text/plain": [
       "/var/folders/7t/k8q3439j6z3c683j7w00wtm80000gn/T/ipykernel_50509/330735155.py:26: FutureWarning: The behavior of \n",
       "DataFrame concatenation with empty or all-NA entries is deprecated. In a future version, this will no longer \n",
       "exclude empty or all-NA columns when determining the result dtypes. To retain the old behavior, exclude the \n",
       "relevant entries before the concat operation.\n",
       "  results = pd.concat([results, normalized_data]) #.dropna(axis=1, how=\"all\")])\n"
      ]
     },
     "metadata": {},
     "output_type": "display_data"
    },
    {
     "data": {
      "text/html": [
       "<pre style=\"white-space:pre;overflow-x:auto;line-height:normal;font-family:Menlo,'DejaVu Sans Mono',consolas,'Courier New',monospace\">/var/folders/7t/k8q3439j6z3c683j7w00wtm80000gn/T/ipykernel_50509/330735155.py:26: FutureWarning: The behavior of \n",
       "DataFrame concatenation with empty or all-NA entries is deprecated. In a future version, this will no longer \n",
       "exclude empty or all-NA columns when determining the result dtypes. To retain the old behavior, exclude the \n",
       "relevant entries before the concat operation.\n",
       "  results = pd.concat([results, normalized_data]) #.dropna(axis=1, how=\"all\")])\n",
       "</pre>\n"
      ],
      "text/plain": [
       "/var/folders/7t/k8q3439j6z3c683j7w00wtm80000gn/T/ipykernel_50509/330735155.py:26: FutureWarning: The behavior of \n",
       "DataFrame concatenation with empty or all-NA entries is deprecated. In a future version, this will no longer \n",
       "exclude empty or all-NA columns when determining the result dtypes. To retain the old behavior, exclude the \n",
       "relevant entries before the concat operation.\n",
       "  results = pd.concat([results, normalized_data]) #.dropna(axis=1, how=\"all\")])\n"
      ]
     },
     "metadata": {},
     "output_type": "display_data"
    },
    {
     "data": {
      "text/html": [
       "<pre style=\"white-space:pre;overflow-x:auto;line-height:normal;font-family:Menlo,'DejaVu Sans Mono',consolas,'Courier New',monospace\">/var/folders/7t/k8q3439j6z3c683j7w00wtm80000gn/T/ipykernel_50509/330735155.py:26: FutureWarning: The behavior of \n",
       "DataFrame concatenation with empty or all-NA entries is deprecated. In a future version, this will no longer \n",
       "exclude empty or all-NA columns when determining the result dtypes. To retain the old behavior, exclude the \n",
       "relevant entries before the concat operation.\n",
       "  results = pd.concat([results, normalized_data]) #.dropna(axis=1, how=\"all\")])\n",
       "</pre>\n"
      ],
      "text/plain": [
       "/var/folders/7t/k8q3439j6z3c683j7w00wtm80000gn/T/ipykernel_50509/330735155.py:26: FutureWarning: The behavior of \n",
       "DataFrame concatenation with empty or all-NA entries is deprecated. In a future version, this will no longer \n",
       "exclude empty or all-NA columns when determining the result dtypes. To retain the old behavior, exclude the \n",
       "relevant entries before the concat operation.\n",
       "  results = pd.concat([results, normalized_data]) #.dropna(axis=1, how=\"all\")])\n"
      ]
     },
     "metadata": {},
     "output_type": "display_data"
    },
    {
     "data": {
      "text/html": [
       "<pre style=\"white-space:pre;overflow-x:auto;line-height:normal;font-family:Menlo,'DejaVu Sans Mono',consolas,'Courier New',monospace\">/var/folders/7t/k8q3439j6z3c683j7w00wtm80000gn/T/ipykernel_50509/330735155.py:26: FutureWarning: The behavior of \n",
       "DataFrame concatenation with empty or all-NA entries is deprecated. In a future version, this will no longer \n",
       "exclude empty or all-NA columns when determining the result dtypes. To retain the old behavior, exclude the \n",
       "relevant entries before the concat operation.\n",
       "  results = pd.concat([results, normalized_data]) #.dropna(axis=1, how=\"all\")])\n",
       "</pre>\n"
      ],
      "text/plain": [
       "/var/folders/7t/k8q3439j6z3c683j7w00wtm80000gn/T/ipykernel_50509/330735155.py:26: FutureWarning: The behavior of \n",
       "DataFrame concatenation with empty or all-NA entries is deprecated. In a future version, this will no longer \n",
       "exclude empty or all-NA columns when determining the result dtypes. To retain the old behavior, exclude the \n",
       "relevant entries before the concat operation.\n",
       "  results = pd.concat([results, normalized_data]) #.dropna(axis=1, how=\"all\")])\n"
      ]
     },
     "metadata": {},
     "output_type": "display_data"
    },
    {
     "data": {
      "text/html": [
       "<pre style=\"white-space:pre;overflow-x:auto;line-height:normal;font-family:Menlo,'DejaVu Sans Mono',consolas,'Courier New',monospace\">/var/folders/7t/k8q3439j6z3c683j7w00wtm80000gn/T/ipykernel_50509/330735155.py:26: FutureWarning: The behavior of \n",
       "DataFrame concatenation with empty or all-NA entries is deprecated. In a future version, this will no longer \n",
       "exclude empty or all-NA columns when determining the result dtypes. To retain the old behavior, exclude the \n",
       "relevant entries before the concat operation.\n",
       "  results = pd.concat([results, normalized_data]) #.dropna(axis=1, how=\"all\")])\n",
       "</pre>\n"
      ],
      "text/plain": [
       "/var/folders/7t/k8q3439j6z3c683j7w00wtm80000gn/T/ipykernel_50509/330735155.py:26: FutureWarning: The behavior of \n",
       "DataFrame concatenation with empty or all-NA entries is deprecated. In a future version, this will no longer \n",
       "exclude empty or all-NA columns when determining the result dtypes. To retain the old behavior, exclude the \n",
       "relevant entries before the concat operation.\n",
       "  results = pd.concat([results, normalized_data]) #.dropna(axis=1, how=\"all\")])\n"
      ]
     },
     "metadata": {},
     "output_type": "display_data"
    },
    {
     "data": {
      "text/html": [
       "<pre style=\"white-space:pre;overflow-x:auto;line-height:normal;font-family:Menlo,'DejaVu Sans Mono',consolas,'Courier New',monospace\">/var/folders/7t/k8q3439j6z3c683j7w00wtm80000gn/T/ipykernel_50509/330735155.py:26: FutureWarning: The behavior of \n",
       "DataFrame concatenation with empty or all-NA entries is deprecated. In a future version, this will no longer \n",
       "exclude empty or all-NA columns when determining the result dtypes. To retain the old behavior, exclude the \n",
       "relevant entries before the concat operation.\n",
       "  results = pd.concat([results, normalized_data]) #.dropna(axis=1, how=\"all\")])\n",
       "</pre>\n"
      ],
      "text/plain": [
       "/var/folders/7t/k8q3439j6z3c683j7w00wtm80000gn/T/ipykernel_50509/330735155.py:26: FutureWarning: The behavior of \n",
       "DataFrame concatenation with empty or all-NA entries is deprecated. In a future version, this will no longer \n",
       "exclude empty or all-NA columns when determining the result dtypes. To retain the old behavior, exclude the \n",
       "relevant entries before the concat operation.\n",
       "  results = pd.concat([results, normalized_data]) #.dropna(axis=1, how=\"all\")])\n"
      ]
     },
     "metadata": {},
     "output_type": "display_data"
    },
    {
     "data": {
      "text/html": [
       "<pre style=\"white-space:pre;overflow-x:auto;line-height:normal;font-family:Menlo,'DejaVu Sans Mono',consolas,'Courier New',monospace\">/var/folders/7t/k8q3439j6z3c683j7w00wtm80000gn/T/ipykernel_50509/330735155.py:26: FutureWarning: The behavior of \n",
       "DataFrame concatenation with empty or all-NA entries is deprecated. In a future version, this will no longer \n",
       "exclude empty or all-NA columns when determining the result dtypes. To retain the old behavior, exclude the \n",
       "relevant entries before the concat operation.\n",
       "  results = pd.concat([results, normalized_data]) #.dropna(axis=1, how=\"all\")])\n",
       "</pre>\n"
      ],
      "text/plain": [
       "/var/folders/7t/k8q3439j6z3c683j7w00wtm80000gn/T/ipykernel_50509/330735155.py:26: FutureWarning: The behavior of \n",
       "DataFrame concatenation with empty or all-NA entries is deprecated. In a future version, this will no longer \n",
       "exclude empty or all-NA columns when determining the result dtypes. To retain the old behavior, exclude the \n",
       "relevant entries before the concat operation.\n",
       "  results = pd.concat([results, normalized_data]) #.dropna(axis=1, how=\"all\")])\n"
      ]
     },
     "metadata": {},
     "output_type": "display_data"
    },
    {
     "data": {
      "text/html": [
       "<pre style=\"white-space:pre;overflow-x:auto;line-height:normal;font-family:Menlo,'DejaVu Sans Mono',consolas,'Courier New',monospace\">/var/folders/7t/k8q3439j6z3c683j7w00wtm80000gn/T/ipykernel_50509/330735155.py:26: FutureWarning: The behavior of \n",
       "DataFrame concatenation with empty or all-NA entries is deprecated. In a future version, this will no longer \n",
       "exclude empty or all-NA columns when determining the result dtypes. To retain the old behavior, exclude the \n",
       "relevant entries before the concat operation.\n",
       "  results = pd.concat([results, normalized_data]) #.dropna(axis=1, how=\"all\")])\n",
       "</pre>\n"
      ],
      "text/plain": [
       "/var/folders/7t/k8q3439j6z3c683j7w00wtm80000gn/T/ipykernel_50509/330735155.py:26: FutureWarning: The behavior of \n",
       "DataFrame concatenation with empty or all-NA entries is deprecated. In a future version, this will no longer \n",
       "exclude empty or all-NA columns when determining the result dtypes. To retain the old behavior, exclude the \n",
       "relevant entries before the concat operation.\n",
       "  results = pd.concat([results, normalized_data]) #.dropna(axis=1, how=\"all\")])\n"
      ]
     },
     "metadata": {},
     "output_type": "display_data"
    },
    {
     "data": {
      "text/html": [
       "<pre style=\"white-space:pre;overflow-x:auto;line-height:normal;font-family:Menlo,'DejaVu Sans Mono',consolas,'Courier New',monospace\">/var/folders/7t/k8q3439j6z3c683j7w00wtm80000gn/T/ipykernel_50509/330735155.py:26: FutureWarning: The behavior of \n",
       "DataFrame concatenation with empty or all-NA entries is deprecated. In a future version, this will no longer \n",
       "exclude empty or all-NA columns when determining the result dtypes. To retain the old behavior, exclude the \n",
       "relevant entries before the concat operation.\n",
       "  results = pd.concat([results, normalized_data]) #.dropna(axis=1, how=\"all\")])\n",
       "</pre>\n"
      ],
      "text/plain": [
       "/var/folders/7t/k8q3439j6z3c683j7w00wtm80000gn/T/ipykernel_50509/330735155.py:26: FutureWarning: The behavior of \n",
       "DataFrame concatenation with empty or all-NA entries is deprecated. In a future version, this will no longer \n",
       "exclude empty or all-NA columns when determining the result dtypes. To retain the old behavior, exclude the \n",
       "relevant entries before the concat operation.\n",
       "  results = pd.concat([results, normalized_data]) #.dropna(axis=1, how=\"all\")])\n"
      ]
     },
     "metadata": {},
     "output_type": "display_data"
    },
    {
     "data": {
      "text/html": [
       "<pre style=\"white-space:pre;overflow-x:auto;line-height:normal;font-family:Menlo,'DejaVu Sans Mono',consolas,'Courier New',monospace\">/var/folders/7t/k8q3439j6z3c683j7w00wtm80000gn/T/ipykernel_50509/330735155.py:26: FutureWarning: The behavior of \n",
       "DataFrame concatenation with empty or all-NA entries is deprecated. In a future version, this will no longer \n",
       "exclude empty or all-NA columns when determining the result dtypes. To retain the old behavior, exclude the \n",
       "relevant entries before the concat operation.\n",
       "  results = pd.concat([results, normalized_data]) #.dropna(axis=1, how=\"all\")])\n",
       "</pre>\n"
      ],
      "text/plain": [
       "/var/folders/7t/k8q3439j6z3c683j7w00wtm80000gn/T/ipykernel_50509/330735155.py:26: FutureWarning: The behavior of \n",
       "DataFrame concatenation with empty or all-NA entries is deprecated. In a future version, this will no longer \n",
       "exclude empty or all-NA columns when determining the result dtypes. To retain the old behavior, exclude the \n",
       "relevant entries before the concat operation.\n",
       "  results = pd.concat([results, normalized_data]) #.dropna(axis=1, how=\"all\")])\n"
      ]
     },
     "metadata": {},
     "output_type": "display_data"
    },
    {
     "data": {
      "text/html": [
       "<pre style=\"white-space:pre;overflow-x:auto;line-height:normal;font-family:Menlo,'DejaVu Sans Mono',consolas,'Courier New',monospace\">/var/folders/7t/k8q3439j6z3c683j7w00wtm80000gn/T/ipykernel_50509/330735155.py:26: FutureWarning: The behavior of \n",
       "DataFrame concatenation with empty or all-NA entries is deprecated. In a future version, this will no longer \n",
       "exclude empty or all-NA columns when determining the result dtypes. To retain the old behavior, exclude the \n",
       "relevant entries before the concat operation.\n",
       "  results = pd.concat([results, normalized_data]) #.dropna(axis=1, how=\"all\")])\n",
       "</pre>\n"
      ],
      "text/plain": [
       "/var/folders/7t/k8q3439j6z3c683j7w00wtm80000gn/T/ipykernel_50509/330735155.py:26: FutureWarning: The behavior of \n",
       "DataFrame concatenation with empty or all-NA entries is deprecated. In a future version, this will no longer \n",
       "exclude empty or all-NA columns when determining the result dtypes. To retain the old behavior, exclude the \n",
       "relevant entries before the concat operation.\n",
       "  results = pd.concat([results, normalized_data]) #.dropna(axis=1, how=\"all\")])\n"
      ]
     },
     "metadata": {},
     "output_type": "display_data"
    },
    {
     "data": {
      "text/html": [
       "<pre style=\"white-space:pre;overflow-x:auto;line-height:normal;font-family:Menlo,'DejaVu Sans Mono',consolas,'Courier New',monospace\">/var/folders/7t/k8q3439j6z3c683j7w00wtm80000gn/T/ipykernel_50509/330735155.py:26: FutureWarning: The behavior of \n",
       "DataFrame concatenation with empty or all-NA entries is deprecated. In a future version, this will no longer \n",
       "exclude empty or all-NA columns when determining the result dtypes. To retain the old behavior, exclude the \n",
       "relevant entries before the concat operation.\n",
       "  results = pd.concat([results, normalized_data]) #.dropna(axis=1, how=\"all\")])\n",
       "</pre>\n"
      ],
      "text/plain": [
       "/var/folders/7t/k8q3439j6z3c683j7w00wtm80000gn/T/ipykernel_50509/330735155.py:26: FutureWarning: The behavior of \n",
       "DataFrame concatenation with empty or all-NA entries is deprecated. In a future version, this will no longer \n",
       "exclude empty or all-NA columns when determining the result dtypes. To retain the old behavior, exclude the \n",
       "relevant entries before the concat operation.\n",
       "  results = pd.concat([results, normalized_data]) #.dropna(axis=1, how=\"all\")])\n"
      ]
     },
     "metadata": {},
     "output_type": "display_data"
    },
    {
     "data": {
      "text/html": [
       "<pre style=\"white-space:pre;overflow-x:auto;line-height:normal;font-family:Menlo,'DejaVu Sans Mono',consolas,'Courier New',monospace\">/var/folders/7t/k8q3439j6z3c683j7w00wtm80000gn/T/ipykernel_50509/330735155.py:26: FutureWarning: The behavior of \n",
       "DataFrame concatenation with empty or all-NA entries is deprecated. In a future version, this will no longer \n",
       "exclude empty or all-NA columns when determining the result dtypes. To retain the old behavior, exclude the \n",
       "relevant entries before the concat operation.\n",
       "  results = pd.concat([results, normalized_data]) #.dropna(axis=1, how=\"all\")])\n",
       "</pre>\n"
      ],
      "text/plain": [
       "/var/folders/7t/k8q3439j6z3c683j7w00wtm80000gn/T/ipykernel_50509/330735155.py:26: FutureWarning: The behavior of \n",
       "DataFrame concatenation with empty or all-NA entries is deprecated. In a future version, this will no longer \n",
       "exclude empty or all-NA columns when determining the result dtypes. To retain the old behavior, exclude the \n",
       "relevant entries before the concat operation.\n",
       "  results = pd.concat([results, normalized_data]) #.dropna(axis=1, how=\"all\")])\n"
      ]
     },
     "metadata": {},
     "output_type": "display_data"
    },
    {
     "data": {
      "text/html": [
       "<pre style=\"white-space:pre;overflow-x:auto;line-height:normal;font-family:Menlo,'DejaVu Sans Mono',consolas,'Courier New',monospace\">/var/folders/7t/k8q3439j6z3c683j7w00wtm80000gn/T/ipykernel_50509/330735155.py:26: FutureWarning: The behavior of \n",
       "DataFrame concatenation with empty or all-NA entries is deprecated. In a future version, this will no longer \n",
       "exclude empty or all-NA columns when determining the result dtypes. To retain the old behavior, exclude the \n",
       "relevant entries before the concat operation.\n",
       "  results = pd.concat([results, normalized_data]) #.dropna(axis=1, how=\"all\")])\n",
       "</pre>\n"
      ],
      "text/plain": [
       "/var/folders/7t/k8q3439j6z3c683j7w00wtm80000gn/T/ipykernel_50509/330735155.py:26: FutureWarning: The behavior of \n",
       "DataFrame concatenation with empty or all-NA entries is deprecated. In a future version, this will no longer \n",
       "exclude empty or all-NA columns when determining the result dtypes. To retain the old behavior, exclude the \n",
       "relevant entries before the concat operation.\n",
       "  results = pd.concat([results, normalized_data]) #.dropna(axis=1, how=\"all\")])\n"
      ]
     },
     "metadata": {},
     "output_type": "display_data"
    },
    {
     "data": {
      "text/html": [
       "<pre style=\"white-space:pre;overflow-x:auto;line-height:normal;font-family:Menlo,'DejaVu Sans Mono',consolas,'Courier New',monospace\">/var/folders/7t/k8q3439j6z3c683j7w00wtm80000gn/T/ipykernel_50509/330735155.py:26: FutureWarning: The behavior of \n",
       "DataFrame concatenation with empty or all-NA entries is deprecated. In a future version, this will no longer \n",
       "exclude empty or all-NA columns when determining the result dtypes. To retain the old behavior, exclude the \n",
       "relevant entries before the concat operation.\n",
       "  results = pd.concat([results, normalized_data]) #.dropna(axis=1, how=\"all\")])\n",
       "</pre>\n"
      ],
      "text/plain": [
       "/var/folders/7t/k8q3439j6z3c683j7w00wtm80000gn/T/ipykernel_50509/330735155.py:26: FutureWarning: The behavior of \n",
       "DataFrame concatenation with empty or all-NA entries is deprecated. In a future version, this will no longer \n",
       "exclude empty or all-NA columns when determining the result dtypes. To retain the old behavior, exclude the \n",
       "relevant entries before the concat operation.\n",
       "  results = pd.concat([results, normalized_data]) #.dropna(axis=1, how=\"all\")])\n"
      ]
     },
     "metadata": {},
     "output_type": "display_data"
    },
    {
     "data": {
      "text/html": [
       "<pre style=\"white-space:pre;overflow-x:auto;line-height:normal;font-family:Menlo,'DejaVu Sans Mono',consolas,'Courier New',monospace\">/var/folders/7t/k8q3439j6z3c683j7w00wtm80000gn/T/ipykernel_50509/330735155.py:26: FutureWarning: The behavior of \n",
       "DataFrame concatenation with empty or all-NA entries is deprecated. In a future version, this will no longer \n",
       "exclude empty or all-NA columns when determining the result dtypes. To retain the old behavior, exclude the \n",
       "relevant entries before the concat operation.\n",
       "  results = pd.concat([results, normalized_data]) #.dropna(axis=1, how=\"all\")])\n",
       "</pre>\n"
      ],
      "text/plain": [
       "/var/folders/7t/k8q3439j6z3c683j7w00wtm80000gn/T/ipykernel_50509/330735155.py:26: FutureWarning: The behavior of \n",
       "DataFrame concatenation with empty or all-NA entries is deprecated. In a future version, this will no longer \n",
       "exclude empty or all-NA columns when determining the result dtypes. To retain the old behavior, exclude the \n",
       "relevant entries before the concat operation.\n",
       "  results = pd.concat([results, normalized_data]) #.dropna(axis=1, how=\"all\")])\n"
      ]
     },
     "metadata": {},
     "output_type": "display_data"
    },
    {
     "data": {
      "text/html": [
       "<pre style=\"white-space:pre;overflow-x:auto;line-height:normal;font-family:Menlo,'DejaVu Sans Mono',consolas,'Courier New',monospace\">/var/folders/7t/k8q3439j6z3c683j7w00wtm80000gn/T/ipykernel_50509/330735155.py:26: FutureWarning: The behavior of \n",
       "DataFrame concatenation with empty or all-NA entries is deprecated. In a future version, this will no longer \n",
       "exclude empty or all-NA columns when determining the result dtypes. To retain the old behavior, exclude the \n",
       "relevant entries before the concat operation.\n",
       "  results = pd.concat([results, normalized_data]) #.dropna(axis=1, how=\"all\")])\n",
       "</pre>\n"
      ],
      "text/plain": [
       "/var/folders/7t/k8q3439j6z3c683j7w00wtm80000gn/T/ipykernel_50509/330735155.py:26: FutureWarning: The behavior of \n",
       "DataFrame concatenation with empty or all-NA entries is deprecated. In a future version, this will no longer \n",
       "exclude empty or all-NA columns when determining the result dtypes. To retain the old behavior, exclude the \n",
       "relevant entries before the concat operation.\n",
       "  results = pd.concat([results, normalized_data]) #.dropna(axis=1, how=\"all\")])\n"
      ]
     },
     "metadata": {},
     "output_type": "display_data"
    },
    {
     "data": {
      "text/html": [
       "<pre style=\"white-space:pre;overflow-x:auto;line-height:normal;font-family:Menlo,'DejaVu Sans Mono',consolas,'Courier New',monospace\">/var/folders/7t/k8q3439j6z3c683j7w00wtm80000gn/T/ipykernel_50509/330735155.py:26: FutureWarning: The behavior of \n",
       "DataFrame concatenation with empty or all-NA entries is deprecated. In a future version, this will no longer \n",
       "exclude empty or all-NA columns when determining the result dtypes. To retain the old behavior, exclude the \n",
       "relevant entries before the concat operation.\n",
       "  results = pd.concat([results, normalized_data]) #.dropna(axis=1, how=\"all\")])\n",
       "</pre>\n"
      ],
      "text/plain": [
       "/var/folders/7t/k8q3439j6z3c683j7w00wtm80000gn/T/ipykernel_50509/330735155.py:26: FutureWarning: The behavior of \n",
       "DataFrame concatenation with empty or all-NA entries is deprecated. In a future version, this will no longer \n",
       "exclude empty or all-NA columns when determining the result dtypes. To retain the old behavior, exclude the \n",
       "relevant entries before the concat operation.\n",
       "  results = pd.concat([results, normalized_data]) #.dropna(axis=1, how=\"all\")])\n"
      ]
     },
     "metadata": {},
     "output_type": "display_data"
    },
    {
     "data": {
      "text/html": [
       "<pre style=\"white-space:pre;overflow-x:auto;line-height:normal;font-family:Menlo,'DejaVu Sans Mono',consolas,'Courier New',monospace\">/var/folders/7t/k8q3439j6z3c683j7w00wtm80000gn/T/ipykernel_50509/330735155.py:26: FutureWarning: The behavior of \n",
       "DataFrame concatenation with empty or all-NA entries is deprecated. In a future version, this will no longer \n",
       "exclude empty or all-NA columns when determining the result dtypes. To retain the old behavior, exclude the \n",
       "relevant entries before the concat operation.\n",
       "  results = pd.concat([results, normalized_data]) #.dropna(axis=1, how=\"all\")])\n",
       "</pre>\n"
      ],
      "text/plain": [
       "/var/folders/7t/k8q3439j6z3c683j7w00wtm80000gn/T/ipykernel_50509/330735155.py:26: FutureWarning: The behavior of \n",
       "DataFrame concatenation with empty or all-NA entries is deprecated. In a future version, this will no longer \n",
       "exclude empty or all-NA columns when determining the result dtypes. To retain the old behavior, exclude the \n",
       "relevant entries before the concat operation.\n",
       "  results = pd.concat([results, normalized_data]) #.dropna(axis=1, how=\"all\")])\n"
      ]
     },
     "metadata": {},
     "output_type": "display_data"
    },
    {
     "data": {
      "text/html": [
       "<pre style=\"white-space:pre;overflow-x:auto;line-height:normal;font-family:Menlo,'DejaVu Sans Mono',consolas,'Courier New',monospace\">/var/folders/7t/k8q3439j6z3c683j7w00wtm80000gn/T/ipykernel_50509/330735155.py:26: FutureWarning: The behavior of \n",
       "DataFrame concatenation with empty or all-NA entries is deprecated. In a future version, this will no longer \n",
       "exclude empty or all-NA columns when determining the result dtypes. To retain the old behavior, exclude the \n",
       "relevant entries before the concat operation.\n",
       "  results = pd.concat([results, normalized_data]) #.dropna(axis=1, how=\"all\")])\n",
       "</pre>\n"
      ],
      "text/plain": [
       "/var/folders/7t/k8q3439j6z3c683j7w00wtm80000gn/T/ipykernel_50509/330735155.py:26: FutureWarning: The behavior of \n",
       "DataFrame concatenation with empty or all-NA entries is deprecated. In a future version, this will no longer \n",
       "exclude empty or all-NA columns when determining the result dtypes. To retain the old behavior, exclude the \n",
       "relevant entries before the concat operation.\n",
       "  results = pd.concat([results, normalized_data]) #.dropna(axis=1, how=\"all\")])\n"
      ]
     },
     "metadata": {},
     "output_type": "display_data"
    },
    {
     "data": {
      "text/html": [
       "<pre style=\"white-space:pre;overflow-x:auto;line-height:normal;font-family:Menlo,'DejaVu Sans Mono',consolas,'Courier New',monospace\">/var/folders/7t/k8q3439j6z3c683j7w00wtm80000gn/T/ipykernel_50509/330735155.py:26: FutureWarning: The behavior of \n",
       "DataFrame concatenation with empty or all-NA entries is deprecated. In a future version, this will no longer \n",
       "exclude empty or all-NA columns when determining the result dtypes. To retain the old behavior, exclude the \n",
       "relevant entries before the concat operation.\n",
       "  results = pd.concat([results, normalized_data]) #.dropna(axis=1, how=\"all\")])\n",
       "</pre>\n"
      ],
      "text/plain": [
       "/var/folders/7t/k8q3439j6z3c683j7w00wtm80000gn/T/ipykernel_50509/330735155.py:26: FutureWarning: The behavior of \n",
       "DataFrame concatenation with empty or all-NA entries is deprecated. In a future version, this will no longer \n",
       "exclude empty or all-NA columns when determining the result dtypes. To retain the old behavior, exclude the \n",
       "relevant entries before the concat operation.\n",
       "  results = pd.concat([results, normalized_data]) #.dropna(axis=1, how=\"all\")])\n"
      ]
     },
     "metadata": {},
     "output_type": "display_data"
    },
    {
     "data": {
      "text/html": [
       "<pre style=\"white-space:pre;overflow-x:auto;line-height:normal;font-family:Menlo,'DejaVu Sans Mono',consolas,'Courier New',monospace\">/var/folders/7t/k8q3439j6z3c683j7w00wtm80000gn/T/ipykernel_50509/330735155.py:26: FutureWarning: The behavior of \n",
       "DataFrame concatenation with empty or all-NA entries is deprecated. In a future version, this will no longer \n",
       "exclude empty or all-NA columns when determining the result dtypes. To retain the old behavior, exclude the \n",
       "relevant entries before the concat operation.\n",
       "  results = pd.concat([results, normalized_data]) #.dropna(axis=1, how=\"all\")])\n",
       "</pre>\n"
      ],
      "text/plain": [
       "/var/folders/7t/k8q3439j6z3c683j7w00wtm80000gn/T/ipykernel_50509/330735155.py:26: FutureWarning: The behavior of \n",
       "DataFrame concatenation with empty or all-NA entries is deprecated. In a future version, this will no longer \n",
       "exclude empty or all-NA columns when determining the result dtypes. To retain the old behavior, exclude the \n",
       "relevant entries before the concat operation.\n",
       "  results = pd.concat([results, normalized_data]) #.dropna(axis=1, how=\"all\")])\n"
      ]
     },
     "metadata": {},
     "output_type": "display_data"
    },
    {
     "data": {
      "text/html": [
       "<pre style=\"white-space:pre;overflow-x:auto;line-height:normal;font-family:Menlo,'DejaVu Sans Mono',consolas,'Courier New',monospace\">/var/folders/7t/k8q3439j6z3c683j7w00wtm80000gn/T/ipykernel_50509/330735155.py:26: FutureWarning: The behavior of \n",
       "DataFrame concatenation with empty or all-NA entries is deprecated. In a future version, this will no longer \n",
       "exclude empty or all-NA columns when determining the result dtypes. To retain the old behavior, exclude the \n",
       "relevant entries before the concat operation.\n",
       "  results = pd.concat([results, normalized_data]) #.dropna(axis=1, how=\"all\")])\n",
       "</pre>\n"
      ],
      "text/plain": [
       "/var/folders/7t/k8q3439j6z3c683j7w00wtm80000gn/T/ipykernel_50509/330735155.py:26: FutureWarning: The behavior of \n",
       "DataFrame concatenation with empty or all-NA entries is deprecated. In a future version, this will no longer \n",
       "exclude empty or all-NA columns when determining the result dtypes. To retain the old behavior, exclude the \n",
       "relevant entries before the concat operation.\n",
       "  results = pd.concat([results, normalized_data]) #.dropna(axis=1, how=\"all\")])\n"
      ]
     },
     "metadata": {},
     "output_type": "display_data"
    },
    {
     "data": {
      "text/html": [
       "<pre style=\"white-space:pre;overflow-x:auto;line-height:normal;font-family:Menlo,'DejaVu Sans Mono',consolas,'Courier New',monospace\">/var/folders/7t/k8q3439j6z3c683j7w00wtm80000gn/T/ipykernel_50509/330735155.py:26: FutureWarning: The behavior of \n",
       "DataFrame concatenation with empty or all-NA entries is deprecated. In a future version, this will no longer \n",
       "exclude empty or all-NA columns when determining the result dtypes. To retain the old behavior, exclude the \n",
       "relevant entries before the concat operation.\n",
       "  results = pd.concat([results, normalized_data]) #.dropna(axis=1, how=\"all\")])\n",
       "</pre>\n"
      ],
      "text/plain": [
       "/var/folders/7t/k8q3439j6z3c683j7w00wtm80000gn/T/ipykernel_50509/330735155.py:26: FutureWarning: The behavior of \n",
       "DataFrame concatenation with empty or all-NA entries is deprecated. In a future version, this will no longer \n",
       "exclude empty or all-NA columns when determining the result dtypes. To retain the old behavior, exclude the \n",
       "relevant entries before the concat operation.\n",
       "  results = pd.concat([results, normalized_data]) #.dropna(axis=1, how=\"all\")])\n"
      ]
     },
     "metadata": {},
     "output_type": "display_data"
    },
    {
     "data": {
      "text/html": [
       "<pre style=\"white-space:pre;overflow-x:auto;line-height:normal;font-family:Menlo,'DejaVu Sans Mono',consolas,'Courier New',monospace\">/var/folders/7t/k8q3439j6z3c683j7w00wtm80000gn/T/ipykernel_50509/330735155.py:26: FutureWarning: The behavior of \n",
       "DataFrame concatenation with empty or all-NA entries is deprecated. In a future version, this will no longer \n",
       "exclude empty or all-NA columns when determining the result dtypes. To retain the old behavior, exclude the \n",
       "relevant entries before the concat operation.\n",
       "  results = pd.concat([results, normalized_data]) #.dropna(axis=1, how=\"all\")])\n",
       "</pre>\n"
      ],
      "text/plain": [
       "/var/folders/7t/k8q3439j6z3c683j7w00wtm80000gn/T/ipykernel_50509/330735155.py:26: FutureWarning: The behavior of \n",
       "DataFrame concatenation with empty or all-NA entries is deprecated. In a future version, this will no longer \n",
       "exclude empty or all-NA columns when determining the result dtypes. To retain the old behavior, exclude the \n",
       "relevant entries before the concat operation.\n",
       "  results = pd.concat([results, normalized_data]) #.dropna(axis=1, how=\"all\")])\n"
      ]
     },
     "metadata": {},
     "output_type": "display_data"
    },
    {
     "data": {
      "text/html": [
       "<pre style=\"white-space:pre;overflow-x:auto;line-height:normal;font-family:Menlo,'DejaVu Sans Mono',consolas,'Courier New',monospace\">/var/folders/7t/k8q3439j6z3c683j7w00wtm80000gn/T/ipykernel_50509/330735155.py:26: FutureWarning: The behavior of \n",
       "DataFrame concatenation with empty or all-NA entries is deprecated. In a future version, this will no longer \n",
       "exclude empty or all-NA columns when determining the result dtypes. To retain the old behavior, exclude the \n",
       "relevant entries before the concat operation.\n",
       "  results = pd.concat([results, normalized_data]) #.dropna(axis=1, how=\"all\")])\n",
       "</pre>\n"
      ],
      "text/plain": [
       "/var/folders/7t/k8q3439j6z3c683j7w00wtm80000gn/T/ipykernel_50509/330735155.py:26: FutureWarning: The behavior of \n",
       "DataFrame concatenation with empty or all-NA entries is deprecated. In a future version, this will no longer \n",
       "exclude empty or all-NA columns when determining the result dtypes. To retain the old behavior, exclude the \n",
       "relevant entries before the concat operation.\n",
       "  results = pd.concat([results, normalized_data]) #.dropna(axis=1, how=\"all\")])\n"
      ]
     },
     "metadata": {},
     "output_type": "display_data"
    },
    {
     "data": {
      "text/html": [
       "<pre style=\"white-space:pre;overflow-x:auto;line-height:normal;font-family:Menlo,'DejaVu Sans Mono',consolas,'Courier New',monospace\">/var/folders/7t/k8q3439j6z3c683j7w00wtm80000gn/T/ipykernel_50509/330735155.py:26: FutureWarning: The behavior of \n",
       "DataFrame concatenation with empty or all-NA entries is deprecated. In a future version, this will no longer \n",
       "exclude empty or all-NA columns when determining the result dtypes. To retain the old behavior, exclude the \n",
       "relevant entries before the concat operation.\n",
       "  results = pd.concat([results, normalized_data]) #.dropna(axis=1, how=\"all\")])\n",
       "</pre>\n"
      ],
      "text/plain": [
       "/var/folders/7t/k8q3439j6z3c683j7w00wtm80000gn/T/ipykernel_50509/330735155.py:26: FutureWarning: The behavior of \n",
       "DataFrame concatenation with empty or all-NA entries is deprecated. In a future version, this will no longer \n",
       "exclude empty or all-NA columns when determining the result dtypes. To retain the old behavior, exclude the \n",
       "relevant entries before the concat operation.\n",
       "  results = pd.concat([results, normalized_data]) #.dropna(axis=1, how=\"all\")])\n"
      ]
     },
     "metadata": {},
     "output_type": "display_data"
    },
    {
     "data": {
      "text/html": [
       "<pre style=\"white-space:pre;overflow-x:auto;line-height:normal;font-family:Menlo,'DejaVu Sans Mono',consolas,'Courier New',monospace\">/var/folders/7t/k8q3439j6z3c683j7w00wtm80000gn/T/ipykernel_50509/330735155.py:26: FutureWarning: The behavior of \n",
       "DataFrame concatenation with empty or all-NA entries is deprecated. In a future version, this will no longer \n",
       "exclude empty or all-NA columns when determining the result dtypes. To retain the old behavior, exclude the \n",
       "relevant entries before the concat operation.\n",
       "  results = pd.concat([results, normalized_data]) #.dropna(axis=1, how=\"all\")])\n",
       "</pre>\n"
      ],
      "text/plain": [
       "/var/folders/7t/k8q3439j6z3c683j7w00wtm80000gn/T/ipykernel_50509/330735155.py:26: FutureWarning: The behavior of \n",
       "DataFrame concatenation with empty or all-NA entries is deprecated. In a future version, this will no longer \n",
       "exclude empty or all-NA columns when determining the result dtypes. To retain the old behavior, exclude the \n",
       "relevant entries before the concat operation.\n",
       "  results = pd.concat([results, normalized_data]) #.dropna(axis=1, how=\"all\")])\n"
      ]
     },
     "metadata": {},
     "output_type": "display_data"
    },
    {
     "data": {
      "text/html": [
       "<pre style=\"white-space:pre;overflow-x:auto;line-height:normal;font-family:Menlo,'DejaVu Sans Mono',consolas,'Courier New',monospace\">/var/folders/7t/k8q3439j6z3c683j7w00wtm80000gn/T/ipykernel_50509/330735155.py:26: FutureWarning: The behavior of \n",
       "DataFrame concatenation with empty or all-NA entries is deprecated. In a future version, this will no longer \n",
       "exclude empty or all-NA columns when determining the result dtypes. To retain the old behavior, exclude the \n",
       "relevant entries before the concat operation.\n",
       "  results = pd.concat([results, normalized_data]) #.dropna(axis=1, how=\"all\")])\n",
       "</pre>\n"
      ],
      "text/plain": [
       "/var/folders/7t/k8q3439j6z3c683j7w00wtm80000gn/T/ipykernel_50509/330735155.py:26: FutureWarning: The behavior of \n",
       "DataFrame concatenation with empty or all-NA entries is deprecated. In a future version, this will no longer \n",
       "exclude empty or all-NA columns when determining the result dtypes. To retain the old behavior, exclude the \n",
       "relevant entries before the concat operation.\n",
       "  results = pd.concat([results, normalized_data]) #.dropna(axis=1, how=\"all\")])\n"
      ]
     },
     "metadata": {},
     "output_type": "display_data"
    },
    {
     "data": {
      "text/html": [
       "<pre style=\"white-space:pre;overflow-x:auto;line-height:normal;font-family:Menlo,'DejaVu Sans Mono',consolas,'Courier New',monospace\">/var/folders/7t/k8q3439j6z3c683j7w00wtm80000gn/T/ipykernel_50509/330735155.py:26: FutureWarning: The behavior of \n",
       "DataFrame concatenation with empty or all-NA entries is deprecated. In a future version, this will no longer \n",
       "exclude empty or all-NA columns when determining the result dtypes. To retain the old behavior, exclude the \n",
       "relevant entries before the concat operation.\n",
       "  results = pd.concat([results, normalized_data]) #.dropna(axis=1, how=\"all\")])\n",
       "</pre>\n"
      ],
      "text/plain": [
       "/var/folders/7t/k8q3439j6z3c683j7w00wtm80000gn/T/ipykernel_50509/330735155.py:26: FutureWarning: The behavior of \n",
       "DataFrame concatenation with empty or all-NA entries is deprecated. In a future version, this will no longer \n",
       "exclude empty or all-NA columns when determining the result dtypes. To retain the old behavior, exclude the \n",
       "relevant entries before the concat operation.\n",
       "  results = pd.concat([results, normalized_data]) #.dropna(axis=1, how=\"all\")])\n"
      ]
     },
     "metadata": {},
     "output_type": "display_data"
    },
    {
     "data": {
      "text/html": [
       "<pre style=\"white-space:pre;overflow-x:auto;line-height:normal;font-family:Menlo,'DejaVu Sans Mono',consolas,'Courier New',monospace\">/var/folders/7t/k8q3439j6z3c683j7w00wtm80000gn/T/ipykernel_50509/330735155.py:26: FutureWarning: The behavior of \n",
       "DataFrame concatenation with empty or all-NA entries is deprecated. In a future version, this will no longer \n",
       "exclude empty or all-NA columns when determining the result dtypes. To retain the old behavior, exclude the \n",
       "relevant entries before the concat operation.\n",
       "  results = pd.concat([results, normalized_data]) #.dropna(axis=1, how=\"all\")])\n",
       "</pre>\n"
      ],
      "text/plain": [
       "/var/folders/7t/k8q3439j6z3c683j7w00wtm80000gn/T/ipykernel_50509/330735155.py:26: FutureWarning: The behavior of \n",
       "DataFrame concatenation with empty or all-NA entries is deprecated. In a future version, this will no longer \n",
       "exclude empty or all-NA columns when determining the result dtypes. To retain the old behavior, exclude the \n",
       "relevant entries before the concat operation.\n",
       "  results = pd.concat([results, normalized_data]) #.dropna(axis=1, how=\"all\")])\n"
      ]
     },
     "metadata": {},
     "output_type": "display_data"
    },
    {
     "data": {
      "text/html": [
       "<pre style=\"white-space:pre;overflow-x:auto;line-height:normal;font-family:Menlo,'DejaVu Sans Mono',consolas,'Courier New',monospace\">/var/folders/7t/k8q3439j6z3c683j7w00wtm80000gn/T/ipykernel_50509/330735155.py:26: FutureWarning: The behavior of \n",
       "DataFrame concatenation with empty or all-NA entries is deprecated. In a future version, this will no longer \n",
       "exclude empty or all-NA columns when determining the result dtypes. To retain the old behavior, exclude the \n",
       "relevant entries before the concat operation.\n",
       "  results = pd.concat([results, normalized_data]) #.dropna(axis=1, how=\"all\")])\n",
       "</pre>\n"
      ],
      "text/plain": [
       "/var/folders/7t/k8q3439j6z3c683j7w00wtm80000gn/T/ipykernel_50509/330735155.py:26: FutureWarning: The behavior of \n",
       "DataFrame concatenation with empty or all-NA entries is deprecated. In a future version, this will no longer \n",
       "exclude empty or all-NA columns when determining the result dtypes. To retain the old behavior, exclude the \n",
       "relevant entries before the concat operation.\n",
       "  results = pd.concat([results, normalized_data]) #.dropna(axis=1, how=\"all\")])\n"
      ]
     },
     "metadata": {},
     "output_type": "display_data"
    },
    {
     "data": {
      "text/html": [
       "<pre style=\"white-space:pre;overflow-x:auto;line-height:normal;font-family:Menlo,'DejaVu Sans Mono',consolas,'Courier New',monospace\">/var/folders/7t/k8q3439j6z3c683j7w00wtm80000gn/T/ipykernel_50509/330735155.py:26: FutureWarning: The behavior of \n",
       "DataFrame concatenation with empty or all-NA entries is deprecated. In a future version, this will no longer \n",
       "exclude empty or all-NA columns when determining the result dtypes. To retain the old behavior, exclude the \n",
       "relevant entries before the concat operation.\n",
       "  results = pd.concat([results, normalized_data]) #.dropna(axis=1, how=\"all\")])\n",
       "</pre>\n"
      ],
      "text/plain": [
       "/var/folders/7t/k8q3439j6z3c683j7w00wtm80000gn/T/ipykernel_50509/330735155.py:26: FutureWarning: The behavior of \n",
       "DataFrame concatenation with empty or all-NA entries is deprecated. In a future version, this will no longer \n",
       "exclude empty or all-NA columns when determining the result dtypes. To retain the old behavior, exclude the \n",
       "relevant entries before the concat operation.\n",
       "  results = pd.concat([results, normalized_data]) #.dropna(axis=1, how=\"all\")])\n"
      ]
     },
     "metadata": {},
     "output_type": "display_data"
    },
    {
     "data": {
      "text/html": [
       "<pre style=\"white-space:pre;overflow-x:auto;line-height:normal;font-family:Menlo,'DejaVu Sans Mono',consolas,'Courier New',monospace\">/var/folders/7t/k8q3439j6z3c683j7w00wtm80000gn/T/ipykernel_50509/330735155.py:26: FutureWarning: The behavior of \n",
       "DataFrame concatenation with empty or all-NA entries is deprecated. In a future version, this will no longer \n",
       "exclude empty or all-NA columns when determining the result dtypes. To retain the old behavior, exclude the \n",
       "relevant entries before the concat operation.\n",
       "  results = pd.concat([results, normalized_data]) #.dropna(axis=1, how=\"all\")])\n",
       "</pre>\n"
      ],
      "text/plain": [
       "/var/folders/7t/k8q3439j6z3c683j7w00wtm80000gn/T/ipykernel_50509/330735155.py:26: FutureWarning: The behavior of \n",
       "DataFrame concatenation with empty or all-NA entries is deprecated. In a future version, this will no longer \n",
       "exclude empty or all-NA columns when determining the result dtypes. To retain the old behavior, exclude the \n",
       "relevant entries before the concat operation.\n",
       "  results = pd.concat([results, normalized_data]) #.dropna(axis=1, how=\"all\")])\n"
      ]
     },
     "metadata": {},
     "output_type": "display_data"
    },
    {
     "data": {
      "text/html": [
       "<pre style=\"white-space:pre;overflow-x:auto;line-height:normal;font-family:Menlo,'DejaVu Sans Mono',consolas,'Courier New',monospace\">/var/folders/7t/k8q3439j6z3c683j7w00wtm80000gn/T/ipykernel_50509/330735155.py:26: FutureWarning: The behavior of \n",
       "DataFrame concatenation with empty or all-NA entries is deprecated. In a future version, this will no longer \n",
       "exclude empty or all-NA columns when determining the result dtypes. To retain the old behavior, exclude the \n",
       "relevant entries before the concat operation.\n",
       "  results = pd.concat([results, normalized_data]) #.dropna(axis=1, how=\"all\")])\n",
       "</pre>\n"
      ],
      "text/plain": [
       "/var/folders/7t/k8q3439j6z3c683j7w00wtm80000gn/T/ipykernel_50509/330735155.py:26: FutureWarning: The behavior of \n",
       "DataFrame concatenation with empty or all-NA entries is deprecated. In a future version, this will no longer \n",
       "exclude empty or all-NA columns when determining the result dtypes. To retain the old behavior, exclude the \n",
       "relevant entries before the concat operation.\n",
       "  results = pd.concat([results, normalized_data]) #.dropna(axis=1, how=\"all\")])\n"
      ]
     },
     "metadata": {},
     "output_type": "display_data"
    },
    {
     "data": {
      "text/html": [
       "<pre style=\"white-space:pre;overflow-x:auto;line-height:normal;font-family:Menlo,'DejaVu Sans Mono',consolas,'Courier New',monospace\">/var/folders/7t/k8q3439j6z3c683j7w00wtm80000gn/T/ipykernel_50509/330735155.py:26: FutureWarning: The behavior of \n",
       "DataFrame concatenation with empty or all-NA entries is deprecated. In a future version, this will no longer \n",
       "exclude empty or all-NA columns when determining the result dtypes. To retain the old behavior, exclude the \n",
       "relevant entries before the concat operation.\n",
       "  results = pd.concat([results, normalized_data]) #.dropna(axis=1, how=\"all\")])\n",
       "</pre>\n"
      ],
      "text/plain": [
       "/var/folders/7t/k8q3439j6z3c683j7w00wtm80000gn/T/ipykernel_50509/330735155.py:26: FutureWarning: The behavior of \n",
       "DataFrame concatenation with empty or all-NA entries is deprecated. In a future version, this will no longer \n",
       "exclude empty or all-NA columns when determining the result dtypes. To retain the old behavior, exclude the \n",
       "relevant entries before the concat operation.\n",
       "  results = pd.concat([results, normalized_data]) #.dropna(axis=1, how=\"all\")])\n"
      ]
     },
     "metadata": {},
     "output_type": "display_data"
    },
    {
     "data": {
      "text/html": [
       "<pre style=\"white-space:pre;overflow-x:auto;line-height:normal;font-family:Menlo,'DejaVu Sans Mono',consolas,'Courier New',monospace\">/var/folders/7t/k8q3439j6z3c683j7w00wtm80000gn/T/ipykernel_50509/330735155.py:26: FutureWarning: The behavior of \n",
       "DataFrame concatenation with empty or all-NA entries is deprecated. In a future version, this will no longer \n",
       "exclude empty or all-NA columns when determining the result dtypes. To retain the old behavior, exclude the \n",
       "relevant entries before the concat operation.\n",
       "  results = pd.concat([results, normalized_data]) #.dropna(axis=1, how=\"all\")])\n",
       "</pre>\n"
      ],
      "text/plain": [
       "/var/folders/7t/k8q3439j6z3c683j7w00wtm80000gn/T/ipykernel_50509/330735155.py:26: FutureWarning: The behavior of \n",
       "DataFrame concatenation with empty or all-NA entries is deprecated. In a future version, this will no longer \n",
       "exclude empty or all-NA columns when determining the result dtypes. To retain the old behavior, exclude the \n",
       "relevant entries before the concat operation.\n",
       "  results = pd.concat([results, normalized_data]) #.dropna(axis=1, how=\"all\")])\n"
      ]
     },
     "metadata": {},
     "output_type": "display_data"
    },
    {
     "data": {
      "text/html": [
       "<pre style=\"white-space:pre;overflow-x:auto;line-height:normal;font-family:Menlo,'DejaVu Sans Mono',consolas,'Courier New',monospace\">/var/folders/7t/k8q3439j6z3c683j7w00wtm80000gn/T/ipykernel_50509/330735155.py:26: FutureWarning: The behavior of \n",
       "DataFrame concatenation with empty or all-NA entries is deprecated. In a future version, this will no longer \n",
       "exclude empty or all-NA columns when determining the result dtypes. To retain the old behavior, exclude the \n",
       "relevant entries before the concat operation.\n",
       "  results = pd.concat([results, normalized_data]) #.dropna(axis=1, how=\"all\")])\n",
       "</pre>\n"
      ],
      "text/plain": [
       "/var/folders/7t/k8q3439j6z3c683j7w00wtm80000gn/T/ipykernel_50509/330735155.py:26: FutureWarning: The behavior of \n",
       "DataFrame concatenation with empty or all-NA entries is deprecated. In a future version, this will no longer \n",
       "exclude empty or all-NA columns when determining the result dtypes. To retain the old behavior, exclude the \n",
       "relevant entries before the concat operation.\n",
       "  results = pd.concat([results, normalized_data]) #.dropna(axis=1, how=\"all\")])\n"
      ]
     },
     "metadata": {},
     "output_type": "display_data"
    },
    {
     "data": {
      "text/html": [
       "<pre style=\"white-space:pre;overflow-x:auto;line-height:normal;font-family:Menlo,'DejaVu Sans Mono',consolas,'Courier New',monospace\">/var/folders/7t/k8q3439j6z3c683j7w00wtm80000gn/T/ipykernel_50509/330735155.py:26: FutureWarning: The behavior of \n",
       "DataFrame concatenation with empty or all-NA entries is deprecated. In a future version, this will no longer \n",
       "exclude empty or all-NA columns when determining the result dtypes. To retain the old behavior, exclude the \n",
       "relevant entries before the concat operation.\n",
       "  results = pd.concat([results, normalized_data]) #.dropna(axis=1, how=\"all\")])\n",
       "</pre>\n"
      ],
      "text/plain": [
       "/var/folders/7t/k8q3439j6z3c683j7w00wtm80000gn/T/ipykernel_50509/330735155.py:26: FutureWarning: The behavior of \n",
       "DataFrame concatenation with empty or all-NA entries is deprecated. In a future version, this will no longer \n",
       "exclude empty or all-NA columns when determining the result dtypes. To retain the old behavior, exclude the \n",
       "relevant entries before the concat operation.\n",
       "  results = pd.concat([results, normalized_data]) #.dropna(axis=1, how=\"all\")])\n"
      ]
     },
     "metadata": {},
     "output_type": "display_data"
    },
    {
     "data": {
      "text/html": [
       "<pre style=\"white-space:pre;overflow-x:auto;line-height:normal;font-family:Menlo,'DejaVu Sans Mono',consolas,'Courier New',monospace\">/var/folders/7t/k8q3439j6z3c683j7w00wtm80000gn/T/ipykernel_50509/330735155.py:26: FutureWarning: The behavior of \n",
       "DataFrame concatenation with empty or all-NA entries is deprecated. In a future version, this will no longer \n",
       "exclude empty or all-NA columns when determining the result dtypes. To retain the old behavior, exclude the \n",
       "relevant entries before the concat operation.\n",
       "  results = pd.concat([results, normalized_data]) #.dropna(axis=1, how=\"all\")])\n",
       "</pre>\n"
      ],
      "text/plain": [
       "/var/folders/7t/k8q3439j6z3c683j7w00wtm80000gn/T/ipykernel_50509/330735155.py:26: FutureWarning: The behavior of \n",
       "DataFrame concatenation with empty or all-NA entries is deprecated. In a future version, this will no longer \n",
       "exclude empty or all-NA columns when determining the result dtypes. To retain the old behavior, exclude the \n",
       "relevant entries before the concat operation.\n",
       "  results = pd.concat([results, normalized_data]) #.dropna(axis=1, how=\"all\")])\n"
      ]
     },
     "metadata": {},
     "output_type": "display_data"
    },
    {
     "data": {
      "text/html": [
       "<pre style=\"white-space:pre;overflow-x:auto;line-height:normal;font-family:Menlo,'DejaVu Sans Mono',consolas,'Courier New',monospace\">/var/folders/7t/k8q3439j6z3c683j7w00wtm80000gn/T/ipykernel_50509/330735155.py:26: FutureWarning: The behavior of \n",
       "DataFrame concatenation with empty or all-NA entries is deprecated. In a future version, this will no longer \n",
       "exclude empty or all-NA columns when determining the result dtypes. To retain the old behavior, exclude the \n",
       "relevant entries before the concat operation.\n",
       "  results = pd.concat([results, normalized_data]) #.dropna(axis=1, how=\"all\")])\n",
       "</pre>\n"
      ],
      "text/plain": [
       "/var/folders/7t/k8q3439j6z3c683j7w00wtm80000gn/T/ipykernel_50509/330735155.py:26: FutureWarning: The behavior of \n",
       "DataFrame concatenation with empty or all-NA entries is deprecated. In a future version, this will no longer \n",
       "exclude empty or all-NA columns when determining the result dtypes. To retain the old behavior, exclude the \n",
       "relevant entries before the concat operation.\n",
       "  results = pd.concat([results, normalized_data]) #.dropna(axis=1, how=\"all\")])\n"
      ]
     },
     "metadata": {},
     "output_type": "display_data"
    },
    {
     "data": {
      "text/html": [
       "<pre style=\"white-space:pre;overflow-x:auto;line-height:normal;font-family:Menlo,'DejaVu Sans Mono',consolas,'Courier New',monospace\">/var/folders/7t/k8q3439j6z3c683j7w00wtm80000gn/T/ipykernel_50509/330735155.py:26: FutureWarning: The behavior of \n",
       "DataFrame concatenation with empty or all-NA entries is deprecated. In a future version, this will no longer \n",
       "exclude empty or all-NA columns when determining the result dtypes. To retain the old behavior, exclude the \n",
       "relevant entries before the concat operation.\n",
       "  results = pd.concat([results, normalized_data]) #.dropna(axis=1, how=\"all\")])\n",
       "</pre>\n"
      ],
      "text/plain": [
       "/var/folders/7t/k8q3439j6z3c683j7w00wtm80000gn/T/ipykernel_50509/330735155.py:26: FutureWarning: The behavior of \n",
       "DataFrame concatenation with empty or all-NA entries is deprecated. In a future version, this will no longer \n",
       "exclude empty or all-NA columns when determining the result dtypes. To retain the old behavior, exclude the \n",
       "relevant entries before the concat operation.\n",
       "  results = pd.concat([results, normalized_data]) #.dropna(axis=1, how=\"all\")])\n"
      ]
     },
     "metadata": {},
     "output_type": "display_data"
    },
    {
     "data": {
      "text/html": [
       "<pre style=\"white-space:pre;overflow-x:auto;line-height:normal;font-family:Menlo,'DejaVu Sans Mono',consolas,'Courier New',monospace\">/var/folders/7t/k8q3439j6z3c683j7w00wtm80000gn/T/ipykernel_50509/330735155.py:26: FutureWarning: The behavior of \n",
       "DataFrame concatenation with empty or all-NA entries is deprecated. In a future version, this will no longer \n",
       "exclude empty or all-NA columns when determining the result dtypes. To retain the old behavior, exclude the \n",
       "relevant entries before the concat operation.\n",
       "  results = pd.concat([results, normalized_data]) #.dropna(axis=1, how=\"all\")])\n",
       "</pre>\n"
      ],
      "text/plain": [
       "/var/folders/7t/k8q3439j6z3c683j7w00wtm80000gn/T/ipykernel_50509/330735155.py:26: FutureWarning: The behavior of \n",
       "DataFrame concatenation with empty or all-NA entries is deprecated. In a future version, this will no longer \n",
       "exclude empty or all-NA columns when determining the result dtypes. To retain the old behavior, exclude the \n",
       "relevant entries before the concat operation.\n",
       "  results = pd.concat([results, normalized_data]) #.dropna(axis=1, how=\"all\")])\n"
      ]
     },
     "metadata": {},
     "output_type": "display_data"
    },
    {
     "data": {
      "text/html": [
       "<pre style=\"white-space:pre;overflow-x:auto;line-height:normal;font-family:Menlo,'DejaVu Sans Mono',consolas,'Courier New',monospace\">/var/folders/7t/k8q3439j6z3c683j7w00wtm80000gn/T/ipykernel_50509/330735155.py:26: FutureWarning: The behavior of \n",
       "DataFrame concatenation with empty or all-NA entries is deprecated. In a future version, this will no longer \n",
       "exclude empty or all-NA columns when determining the result dtypes. To retain the old behavior, exclude the \n",
       "relevant entries before the concat operation.\n",
       "  results = pd.concat([results, normalized_data]) #.dropna(axis=1, how=\"all\")])\n",
       "</pre>\n"
      ],
      "text/plain": [
       "/var/folders/7t/k8q3439j6z3c683j7w00wtm80000gn/T/ipykernel_50509/330735155.py:26: FutureWarning: The behavior of \n",
       "DataFrame concatenation with empty or all-NA entries is deprecated. In a future version, this will no longer \n",
       "exclude empty or all-NA columns when determining the result dtypes. To retain the old behavior, exclude the \n",
       "relevant entries before the concat operation.\n",
       "  results = pd.concat([results, normalized_data]) #.dropna(axis=1, how=\"all\")])\n"
      ]
     },
     "metadata": {},
     "output_type": "display_data"
    },
    {
     "data": {
      "text/html": [
       "<pre style=\"white-space:pre;overflow-x:auto;line-height:normal;font-family:Menlo,'DejaVu Sans Mono',consolas,'Courier New',monospace\">/var/folders/7t/k8q3439j6z3c683j7w00wtm80000gn/T/ipykernel_50509/330735155.py:26: FutureWarning: The behavior of \n",
       "DataFrame concatenation with empty or all-NA entries is deprecated. In a future version, this will no longer \n",
       "exclude empty or all-NA columns when determining the result dtypes. To retain the old behavior, exclude the \n",
       "relevant entries before the concat operation.\n",
       "  results = pd.concat([results, normalized_data]) #.dropna(axis=1, how=\"all\")])\n",
       "</pre>\n"
      ],
      "text/plain": [
       "/var/folders/7t/k8q3439j6z3c683j7w00wtm80000gn/T/ipykernel_50509/330735155.py:26: FutureWarning: The behavior of \n",
       "DataFrame concatenation with empty or all-NA entries is deprecated. In a future version, this will no longer \n",
       "exclude empty or all-NA columns when determining the result dtypes. To retain the old behavior, exclude the \n",
       "relevant entries before the concat operation.\n",
       "  results = pd.concat([results, normalized_data]) #.dropna(axis=1, how=\"all\")])\n"
      ]
     },
     "metadata": {},
     "output_type": "display_data"
    },
    {
     "data": {
      "text/html": [
       "<pre style=\"white-space:pre;overflow-x:auto;line-height:normal;font-family:Menlo,'DejaVu Sans Mono',consolas,'Courier New',monospace\">/var/folders/7t/k8q3439j6z3c683j7w00wtm80000gn/T/ipykernel_50509/330735155.py:26: FutureWarning: The behavior of \n",
       "DataFrame concatenation with empty or all-NA entries is deprecated. In a future version, this will no longer \n",
       "exclude empty or all-NA columns when determining the result dtypes. To retain the old behavior, exclude the \n",
       "relevant entries before the concat operation.\n",
       "  results = pd.concat([results, normalized_data]) #.dropna(axis=1, how=\"all\")])\n",
       "</pre>\n"
      ],
      "text/plain": [
       "/var/folders/7t/k8q3439j6z3c683j7w00wtm80000gn/T/ipykernel_50509/330735155.py:26: FutureWarning: The behavior of \n",
       "DataFrame concatenation with empty or all-NA entries is deprecated. In a future version, this will no longer \n",
       "exclude empty or all-NA columns when determining the result dtypes. To retain the old behavior, exclude the \n",
       "relevant entries before the concat operation.\n",
       "  results = pd.concat([results, normalized_data]) #.dropna(axis=1, how=\"all\")])\n"
      ]
     },
     "metadata": {},
     "output_type": "display_data"
    },
    {
     "data": {
      "text/html": [
       "<pre style=\"white-space:pre;overflow-x:auto;line-height:normal;font-family:Menlo,'DejaVu Sans Mono',consolas,'Courier New',monospace\">/var/folders/7t/k8q3439j6z3c683j7w00wtm80000gn/T/ipykernel_50509/330735155.py:26: FutureWarning: The behavior of \n",
       "DataFrame concatenation with empty or all-NA entries is deprecated. In a future version, this will no longer \n",
       "exclude empty or all-NA columns when determining the result dtypes. To retain the old behavior, exclude the \n",
       "relevant entries before the concat operation.\n",
       "  results = pd.concat([results, normalized_data]) #.dropna(axis=1, how=\"all\")])\n",
       "</pre>\n"
      ],
      "text/plain": [
       "/var/folders/7t/k8q3439j6z3c683j7w00wtm80000gn/T/ipykernel_50509/330735155.py:26: FutureWarning: The behavior of \n",
       "DataFrame concatenation with empty or all-NA entries is deprecated. In a future version, this will no longer \n",
       "exclude empty or all-NA columns when determining the result dtypes. To retain the old behavior, exclude the \n",
       "relevant entries before the concat operation.\n",
       "  results = pd.concat([results, normalized_data]) #.dropna(axis=1, how=\"all\")])\n"
      ]
     },
     "metadata": {},
     "output_type": "display_data"
    },
    {
     "data": {
      "text/html": [
       "<pre style=\"white-space:pre;overflow-x:auto;line-height:normal;font-family:Menlo,'DejaVu Sans Mono',consolas,'Courier New',monospace\">/var/folders/7t/k8q3439j6z3c683j7w00wtm80000gn/T/ipykernel_50509/330735155.py:26: FutureWarning: The behavior of \n",
       "DataFrame concatenation with empty or all-NA entries is deprecated. In a future version, this will no longer \n",
       "exclude empty or all-NA columns when determining the result dtypes. To retain the old behavior, exclude the \n",
       "relevant entries before the concat operation.\n",
       "  results = pd.concat([results, normalized_data]) #.dropna(axis=1, how=\"all\")])\n",
       "</pre>\n"
      ],
      "text/plain": [
       "/var/folders/7t/k8q3439j6z3c683j7w00wtm80000gn/T/ipykernel_50509/330735155.py:26: FutureWarning: The behavior of \n",
       "DataFrame concatenation with empty or all-NA entries is deprecated. In a future version, this will no longer \n",
       "exclude empty or all-NA columns when determining the result dtypes. To retain the old behavior, exclude the \n",
       "relevant entries before the concat operation.\n",
       "  results = pd.concat([results, normalized_data]) #.dropna(axis=1, how=\"all\")])\n"
      ]
     },
     "metadata": {},
     "output_type": "display_data"
    },
    {
     "data": {
      "text/html": [
       "<pre style=\"white-space:pre;overflow-x:auto;line-height:normal;font-family:Menlo,'DejaVu Sans Mono',consolas,'Courier New',monospace\">/var/folders/7t/k8q3439j6z3c683j7w00wtm80000gn/T/ipykernel_50509/330735155.py:26: FutureWarning: The behavior of \n",
       "DataFrame concatenation with empty or all-NA entries is deprecated. In a future version, this will no longer \n",
       "exclude empty or all-NA columns when determining the result dtypes. To retain the old behavior, exclude the \n",
       "relevant entries before the concat operation.\n",
       "  results = pd.concat([results, normalized_data]) #.dropna(axis=1, how=\"all\")])\n",
       "</pre>\n"
      ],
      "text/plain": [
       "/var/folders/7t/k8q3439j6z3c683j7w00wtm80000gn/T/ipykernel_50509/330735155.py:26: FutureWarning: The behavior of \n",
       "DataFrame concatenation with empty or all-NA entries is deprecated. In a future version, this will no longer \n",
       "exclude empty or all-NA columns when determining the result dtypes. To retain the old behavior, exclude the \n",
       "relevant entries before the concat operation.\n",
       "  results = pd.concat([results, normalized_data]) #.dropna(axis=1, how=\"all\")])\n"
      ]
     },
     "metadata": {},
     "output_type": "display_data"
    },
    {
     "data": {
      "text/html": [
       "<pre style=\"white-space:pre;overflow-x:auto;line-height:normal;font-family:Menlo,'DejaVu Sans Mono',consolas,'Courier New',monospace\">/var/folders/7t/k8q3439j6z3c683j7w00wtm80000gn/T/ipykernel_50509/330735155.py:26: FutureWarning: The behavior of \n",
       "DataFrame concatenation with empty or all-NA entries is deprecated. In a future version, this will no longer \n",
       "exclude empty or all-NA columns when determining the result dtypes. To retain the old behavior, exclude the \n",
       "relevant entries before the concat operation.\n",
       "  results = pd.concat([results, normalized_data]) #.dropna(axis=1, how=\"all\")])\n",
       "</pre>\n"
      ],
      "text/plain": [
       "/var/folders/7t/k8q3439j6z3c683j7w00wtm80000gn/T/ipykernel_50509/330735155.py:26: FutureWarning: The behavior of \n",
       "DataFrame concatenation with empty or all-NA entries is deprecated. In a future version, this will no longer \n",
       "exclude empty or all-NA columns when determining the result dtypes. To retain the old behavior, exclude the \n",
       "relevant entries before the concat operation.\n",
       "  results = pd.concat([results, normalized_data]) #.dropna(axis=1, how=\"all\")])\n"
      ]
     },
     "metadata": {},
     "output_type": "display_data"
    },
    {
     "data": {
      "text/html": [
       "<pre style=\"white-space:pre;overflow-x:auto;line-height:normal;font-family:Menlo,'DejaVu Sans Mono',consolas,'Courier New',monospace\">/var/folders/7t/k8q3439j6z3c683j7w00wtm80000gn/T/ipykernel_50509/330735155.py:26: FutureWarning: The behavior of \n",
       "DataFrame concatenation with empty or all-NA entries is deprecated. In a future version, this will no longer \n",
       "exclude empty or all-NA columns when determining the result dtypes. To retain the old behavior, exclude the \n",
       "relevant entries before the concat operation.\n",
       "  results = pd.concat([results, normalized_data]) #.dropna(axis=1, how=\"all\")])\n",
       "</pre>\n"
      ],
      "text/plain": [
       "/var/folders/7t/k8q3439j6z3c683j7w00wtm80000gn/T/ipykernel_50509/330735155.py:26: FutureWarning: The behavior of \n",
       "DataFrame concatenation with empty or all-NA entries is deprecated. In a future version, this will no longer \n",
       "exclude empty or all-NA columns when determining the result dtypes. To retain the old behavior, exclude the \n",
       "relevant entries before the concat operation.\n",
       "  results = pd.concat([results, normalized_data]) #.dropna(axis=1, how=\"all\")])\n"
      ]
     },
     "metadata": {},
     "output_type": "display_data"
    },
    {
     "data": {
      "text/html": [
       "<pre style=\"white-space:pre;overflow-x:auto;line-height:normal;font-family:Menlo,'DejaVu Sans Mono',consolas,'Courier New',monospace\">/var/folders/7t/k8q3439j6z3c683j7w00wtm80000gn/T/ipykernel_50509/330735155.py:26: FutureWarning: The behavior of \n",
       "DataFrame concatenation with empty or all-NA entries is deprecated. In a future version, this will no longer \n",
       "exclude empty or all-NA columns when determining the result dtypes. To retain the old behavior, exclude the \n",
       "relevant entries before the concat operation.\n",
       "  results = pd.concat([results, normalized_data]) #.dropna(axis=1, how=\"all\")])\n",
       "</pre>\n"
      ],
      "text/plain": [
       "/var/folders/7t/k8q3439j6z3c683j7w00wtm80000gn/T/ipykernel_50509/330735155.py:26: FutureWarning: The behavior of \n",
       "DataFrame concatenation with empty or all-NA entries is deprecated. In a future version, this will no longer \n",
       "exclude empty or all-NA columns when determining the result dtypes. To retain the old behavior, exclude the \n",
       "relevant entries before the concat operation.\n",
       "  results = pd.concat([results, normalized_data]) #.dropna(axis=1, how=\"all\")])\n"
      ]
     },
     "metadata": {},
     "output_type": "display_data"
    },
    {
     "data": {
      "text/html": [
       "<pre style=\"white-space:pre;overflow-x:auto;line-height:normal;font-family:Menlo,'DejaVu Sans Mono',consolas,'Courier New',monospace\">/var/folders/7t/k8q3439j6z3c683j7w00wtm80000gn/T/ipykernel_50509/330735155.py:26: FutureWarning: The behavior of \n",
       "DataFrame concatenation with empty or all-NA entries is deprecated. In a future version, this will no longer \n",
       "exclude empty or all-NA columns when determining the result dtypes. To retain the old behavior, exclude the \n",
       "relevant entries before the concat operation.\n",
       "  results = pd.concat([results, normalized_data]) #.dropna(axis=1, how=\"all\")])\n",
       "</pre>\n"
      ],
      "text/plain": [
       "/var/folders/7t/k8q3439j6z3c683j7w00wtm80000gn/T/ipykernel_50509/330735155.py:26: FutureWarning: The behavior of \n",
       "DataFrame concatenation with empty or all-NA entries is deprecated. In a future version, this will no longer \n",
       "exclude empty or all-NA columns when determining the result dtypes. To retain the old behavior, exclude the \n",
       "relevant entries before the concat operation.\n",
       "  results = pd.concat([results, normalized_data]) #.dropna(axis=1, how=\"all\")])\n"
      ]
     },
     "metadata": {},
     "output_type": "display_data"
    },
    {
     "data": {
      "text/html": [
       "<pre style=\"white-space:pre;overflow-x:auto;line-height:normal;font-family:Menlo,'DejaVu Sans Mono',consolas,'Courier New',monospace\">/var/folders/7t/k8q3439j6z3c683j7w00wtm80000gn/T/ipykernel_50509/330735155.py:26: FutureWarning: The behavior of \n",
       "DataFrame concatenation with empty or all-NA entries is deprecated. In a future version, this will no longer \n",
       "exclude empty or all-NA columns when determining the result dtypes. To retain the old behavior, exclude the \n",
       "relevant entries before the concat operation.\n",
       "  results = pd.concat([results, normalized_data]) #.dropna(axis=1, how=\"all\")])\n",
       "</pre>\n"
      ],
      "text/plain": [
       "/var/folders/7t/k8q3439j6z3c683j7w00wtm80000gn/T/ipykernel_50509/330735155.py:26: FutureWarning: The behavior of \n",
       "DataFrame concatenation with empty or all-NA entries is deprecated. In a future version, this will no longer \n",
       "exclude empty or all-NA columns when determining the result dtypes. To retain the old behavior, exclude the \n",
       "relevant entries before the concat operation.\n",
       "  results = pd.concat([results, normalized_data]) #.dropna(axis=1, how=\"all\")])\n"
      ]
     },
     "metadata": {},
     "output_type": "display_data"
    },
    {
     "data": {
      "text/html": [
       "<pre style=\"white-space:pre;overflow-x:auto;line-height:normal;font-family:Menlo,'DejaVu Sans Mono',consolas,'Courier New',monospace\">/var/folders/7t/k8q3439j6z3c683j7w00wtm80000gn/T/ipykernel_50509/330735155.py:26: FutureWarning: The behavior of \n",
       "DataFrame concatenation with empty or all-NA entries is deprecated. In a future version, this will no longer \n",
       "exclude empty or all-NA columns when determining the result dtypes. To retain the old behavior, exclude the \n",
       "relevant entries before the concat operation.\n",
       "  results = pd.concat([results, normalized_data]) #.dropna(axis=1, how=\"all\")])\n",
       "</pre>\n"
      ],
      "text/plain": [
       "/var/folders/7t/k8q3439j6z3c683j7w00wtm80000gn/T/ipykernel_50509/330735155.py:26: FutureWarning: The behavior of \n",
       "DataFrame concatenation with empty or all-NA entries is deprecated. In a future version, this will no longer \n",
       "exclude empty or all-NA columns when determining the result dtypes. To retain the old behavior, exclude the \n",
       "relevant entries before the concat operation.\n",
       "  results = pd.concat([results, normalized_data]) #.dropna(axis=1, how=\"all\")])\n"
      ]
     },
     "metadata": {},
     "output_type": "display_data"
    },
    {
     "data": {
      "text/html": [
       "<pre style=\"white-space:pre;overflow-x:auto;line-height:normal;font-family:Menlo,'DejaVu Sans Mono',consolas,'Courier New',monospace\">/var/folders/7t/k8q3439j6z3c683j7w00wtm80000gn/T/ipykernel_50509/330735155.py:26: FutureWarning: The behavior of \n",
       "DataFrame concatenation with empty or all-NA entries is deprecated. In a future version, this will no longer \n",
       "exclude empty or all-NA columns when determining the result dtypes. To retain the old behavior, exclude the \n",
       "relevant entries before the concat operation.\n",
       "  results = pd.concat([results, normalized_data]) #.dropna(axis=1, how=\"all\")])\n",
       "</pre>\n"
      ],
      "text/plain": [
       "/var/folders/7t/k8q3439j6z3c683j7w00wtm80000gn/T/ipykernel_50509/330735155.py:26: FutureWarning: The behavior of \n",
       "DataFrame concatenation with empty or all-NA entries is deprecated. In a future version, this will no longer \n",
       "exclude empty or all-NA columns when determining the result dtypes. To retain the old behavior, exclude the \n",
       "relevant entries before the concat operation.\n",
       "  results = pd.concat([results, normalized_data]) #.dropna(axis=1, how=\"all\")])\n"
      ]
     },
     "metadata": {},
     "output_type": "display_data"
    },
    {
     "data": {
      "text/html": [
       "<pre style=\"white-space:pre;overflow-x:auto;line-height:normal;font-family:Menlo,'DejaVu Sans Mono',consolas,'Courier New',monospace\">/var/folders/7t/k8q3439j6z3c683j7w00wtm80000gn/T/ipykernel_50509/330735155.py:26: FutureWarning: The behavior of \n",
       "DataFrame concatenation with empty or all-NA entries is deprecated. In a future version, this will no longer \n",
       "exclude empty or all-NA columns when determining the result dtypes. To retain the old behavior, exclude the \n",
       "relevant entries before the concat operation.\n",
       "  results = pd.concat([results, normalized_data]) #.dropna(axis=1, how=\"all\")])\n",
       "</pre>\n"
      ],
      "text/plain": [
       "/var/folders/7t/k8q3439j6z3c683j7w00wtm80000gn/T/ipykernel_50509/330735155.py:26: FutureWarning: The behavior of \n",
       "DataFrame concatenation with empty or all-NA entries is deprecated. In a future version, this will no longer \n",
       "exclude empty or all-NA columns when determining the result dtypes. To retain the old behavior, exclude the \n",
       "relevant entries before the concat operation.\n",
       "  results = pd.concat([results, normalized_data]) #.dropna(axis=1, how=\"all\")])\n"
      ]
     },
     "metadata": {},
     "output_type": "display_data"
    },
    {
     "data": {
      "text/html": [
       "<pre style=\"white-space:pre;overflow-x:auto;line-height:normal;font-family:Menlo,'DejaVu Sans Mono',consolas,'Courier New',monospace\">/var/folders/7t/k8q3439j6z3c683j7w00wtm80000gn/T/ipykernel_50509/330735155.py:26: FutureWarning: The behavior of \n",
       "DataFrame concatenation with empty or all-NA entries is deprecated. In a future version, this will no longer \n",
       "exclude empty or all-NA columns when determining the result dtypes. To retain the old behavior, exclude the \n",
       "relevant entries before the concat operation.\n",
       "  results = pd.concat([results, normalized_data]) #.dropna(axis=1, how=\"all\")])\n",
       "</pre>\n"
      ],
      "text/plain": [
       "/var/folders/7t/k8q3439j6z3c683j7w00wtm80000gn/T/ipykernel_50509/330735155.py:26: FutureWarning: The behavior of \n",
       "DataFrame concatenation with empty or all-NA entries is deprecated. In a future version, this will no longer \n",
       "exclude empty or all-NA columns when determining the result dtypes. To retain the old behavior, exclude the \n",
       "relevant entries before the concat operation.\n",
       "  results = pd.concat([results, normalized_data]) #.dropna(axis=1, how=\"all\")])\n"
      ]
     },
     "metadata": {},
     "output_type": "display_data"
    },
    {
     "data": {
      "text/html": [
       "<pre style=\"white-space:pre;overflow-x:auto;line-height:normal;font-family:Menlo,'DejaVu Sans Mono',consolas,'Courier New',monospace\">/var/folders/7t/k8q3439j6z3c683j7w00wtm80000gn/T/ipykernel_50509/330735155.py:26: FutureWarning: The behavior of \n",
       "DataFrame concatenation with empty or all-NA entries is deprecated. In a future version, this will no longer \n",
       "exclude empty or all-NA columns when determining the result dtypes. To retain the old behavior, exclude the \n",
       "relevant entries before the concat operation.\n",
       "  results = pd.concat([results, normalized_data]) #.dropna(axis=1, how=\"all\")])\n",
       "</pre>\n"
      ],
      "text/plain": [
       "/var/folders/7t/k8q3439j6z3c683j7w00wtm80000gn/T/ipykernel_50509/330735155.py:26: FutureWarning: The behavior of \n",
       "DataFrame concatenation with empty or all-NA entries is deprecated. In a future version, this will no longer \n",
       "exclude empty or all-NA columns when determining the result dtypes. To retain the old behavior, exclude the \n",
       "relevant entries before the concat operation.\n",
       "  results = pd.concat([results, normalized_data]) #.dropna(axis=1, how=\"all\")])\n"
      ]
     },
     "metadata": {},
     "output_type": "display_data"
    },
    {
     "data": {
      "text/html": [
       "<pre style=\"white-space:pre;overflow-x:auto;line-height:normal;font-family:Menlo,'DejaVu Sans Mono',consolas,'Courier New',monospace\">/var/folders/7t/k8q3439j6z3c683j7w00wtm80000gn/T/ipykernel_50509/330735155.py:26: FutureWarning: The behavior of \n",
       "DataFrame concatenation with empty or all-NA entries is deprecated. In a future version, this will no longer \n",
       "exclude empty or all-NA columns when determining the result dtypes. To retain the old behavior, exclude the \n",
       "relevant entries before the concat operation.\n",
       "  results = pd.concat([results, normalized_data]) #.dropna(axis=1, how=\"all\")])\n",
       "</pre>\n"
      ],
      "text/plain": [
       "/var/folders/7t/k8q3439j6z3c683j7w00wtm80000gn/T/ipykernel_50509/330735155.py:26: FutureWarning: The behavior of \n",
       "DataFrame concatenation with empty or all-NA entries is deprecated. In a future version, this will no longer \n",
       "exclude empty or all-NA columns when determining the result dtypes. To retain the old behavior, exclude the \n",
       "relevant entries before the concat operation.\n",
       "  results = pd.concat([results, normalized_data]) #.dropna(axis=1, how=\"all\")])\n"
      ]
     },
     "metadata": {},
     "output_type": "display_data"
    },
    {
     "data": {
      "text/html": [
       "<pre style=\"white-space:pre;overflow-x:auto;line-height:normal;font-family:Menlo,'DejaVu Sans Mono',consolas,'Courier New',monospace\">/var/folders/7t/k8q3439j6z3c683j7w00wtm80000gn/T/ipykernel_50509/330735155.py:26: FutureWarning: The behavior of \n",
       "DataFrame concatenation with empty or all-NA entries is deprecated. In a future version, this will no longer \n",
       "exclude empty or all-NA columns when determining the result dtypes. To retain the old behavior, exclude the \n",
       "relevant entries before the concat operation.\n",
       "  results = pd.concat([results, normalized_data]) #.dropna(axis=1, how=\"all\")])\n",
       "</pre>\n"
      ],
      "text/plain": [
       "/var/folders/7t/k8q3439j6z3c683j7w00wtm80000gn/T/ipykernel_50509/330735155.py:26: FutureWarning: The behavior of \n",
       "DataFrame concatenation with empty or all-NA entries is deprecated. In a future version, this will no longer \n",
       "exclude empty or all-NA columns when determining the result dtypes. To retain the old behavior, exclude the \n",
       "relevant entries before the concat operation.\n",
       "  results = pd.concat([results, normalized_data]) #.dropna(axis=1, how=\"all\")])\n"
      ]
     },
     "metadata": {},
     "output_type": "display_data"
    },
    {
     "data": {
      "text/html": [
       "<pre style=\"white-space:pre;overflow-x:auto;line-height:normal;font-family:Menlo,'DejaVu Sans Mono',consolas,'Courier New',monospace\">/var/folders/7t/k8q3439j6z3c683j7w00wtm80000gn/T/ipykernel_50509/330735155.py:26: FutureWarning: The behavior of \n",
       "DataFrame concatenation with empty or all-NA entries is deprecated. In a future version, this will no longer \n",
       "exclude empty or all-NA columns when determining the result dtypes. To retain the old behavior, exclude the \n",
       "relevant entries before the concat operation.\n",
       "  results = pd.concat([results, normalized_data]) #.dropna(axis=1, how=\"all\")])\n",
       "</pre>\n"
      ],
      "text/plain": [
       "/var/folders/7t/k8q3439j6z3c683j7w00wtm80000gn/T/ipykernel_50509/330735155.py:26: FutureWarning: The behavior of \n",
       "DataFrame concatenation with empty or all-NA entries is deprecated. In a future version, this will no longer \n",
       "exclude empty or all-NA columns when determining the result dtypes. To retain the old behavior, exclude the \n",
       "relevant entries before the concat operation.\n",
       "  results = pd.concat([results, normalized_data]) #.dropna(axis=1, how=\"all\")])\n"
      ]
     },
     "metadata": {},
     "output_type": "display_data"
    },
    {
     "data": {
      "text/html": [
       "<pre style=\"white-space:pre;overflow-x:auto;line-height:normal;font-family:Menlo,'DejaVu Sans Mono',consolas,'Courier New',monospace\">/var/folders/7t/k8q3439j6z3c683j7w00wtm80000gn/T/ipykernel_50509/330735155.py:26: FutureWarning: The behavior of \n",
       "DataFrame concatenation with empty or all-NA entries is deprecated. In a future version, this will no longer \n",
       "exclude empty or all-NA columns when determining the result dtypes. To retain the old behavior, exclude the \n",
       "relevant entries before the concat operation.\n",
       "  results = pd.concat([results, normalized_data]) #.dropna(axis=1, how=\"all\")])\n",
       "</pre>\n"
      ],
      "text/plain": [
       "/var/folders/7t/k8q3439j6z3c683j7w00wtm80000gn/T/ipykernel_50509/330735155.py:26: FutureWarning: The behavior of \n",
       "DataFrame concatenation with empty or all-NA entries is deprecated. In a future version, this will no longer \n",
       "exclude empty or all-NA columns when determining the result dtypes. To retain the old behavior, exclude the \n",
       "relevant entries before the concat operation.\n",
       "  results = pd.concat([results, normalized_data]) #.dropna(axis=1, how=\"all\")])\n"
      ]
     },
     "metadata": {},
     "output_type": "display_data"
    },
    {
     "data": {
      "text/html": [
       "<pre style=\"white-space:pre;overflow-x:auto;line-height:normal;font-family:Menlo,'DejaVu Sans Mono',consolas,'Courier New',monospace\">/var/folders/7t/k8q3439j6z3c683j7w00wtm80000gn/T/ipykernel_50509/330735155.py:26: FutureWarning: The behavior of \n",
       "DataFrame concatenation with empty or all-NA entries is deprecated. In a future version, this will no longer \n",
       "exclude empty or all-NA columns when determining the result dtypes. To retain the old behavior, exclude the \n",
       "relevant entries before the concat operation.\n",
       "  results = pd.concat([results, normalized_data]) #.dropna(axis=1, how=\"all\")])\n",
       "</pre>\n"
      ],
      "text/plain": [
       "/var/folders/7t/k8q3439j6z3c683j7w00wtm80000gn/T/ipykernel_50509/330735155.py:26: FutureWarning: The behavior of \n",
       "DataFrame concatenation with empty or all-NA entries is deprecated. In a future version, this will no longer \n",
       "exclude empty or all-NA columns when determining the result dtypes. To retain the old behavior, exclude the \n",
       "relevant entries before the concat operation.\n",
       "  results = pd.concat([results, normalized_data]) #.dropna(axis=1, how=\"all\")])\n"
      ]
     },
     "metadata": {},
     "output_type": "display_data"
    },
    {
     "data": {
      "text/html": [
       "<pre style=\"white-space:pre;overflow-x:auto;line-height:normal;font-family:Menlo,'DejaVu Sans Mono',consolas,'Courier New',monospace\">/var/folders/7t/k8q3439j6z3c683j7w00wtm80000gn/T/ipykernel_50509/330735155.py:26: FutureWarning: The behavior of \n",
       "DataFrame concatenation with empty or all-NA entries is deprecated. In a future version, this will no longer \n",
       "exclude empty or all-NA columns when determining the result dtypes. To retain the old behavior, exclude the \n",
       "relevant entries before the concat operation.\n",
       "  results = pd.concat([results, normalized_data]) #.dropna(axis=1, how=\"all\")])\n",
       "</pre>\n"
      ],
      "text/plain": [
       "/var/folders/7t/k8q3439j6z3c683j7w00wtm80000gn/T/ipykernel_50509/330735155.py:26: FutureWarning: The behavior of \n",
       "DataFrame concatenation with empty or all-NA entries is deprecated. In a future version, this will no longer \n",
       "exclude empty or all-NA columns when determining the result dtypes. To retain the old behavior, exclude the \n",
       "relevant entries before the concat operation.\n",
       "  results = pd.concat([results, normalized_data]) #.dropna(axis=1, how=\"all\")])\n"
      ]
     },
     "metadata": {},
     "output_type": "display_data"
    },
    {
     "data": {
      "text/html": [
       "<pre style=\"white-space:pre;overflow-x:auto;line-height:normal;font-family:Menlo,'DejaVu Sans Mono',consolas,'Courier New',monospace\">/var/folders/7t/k8q3439j6z3c683j7w00wtm80000gn/T/ipykernel_50509/330735155.py:26: FutureWarning: The behavior of \n",
       "DataFrame concatenation with empty or all-NA entries is deprecated. In a future version, this will no longer \n",
       "exclude empty or all-NA columns when determining the result dtypes. To retain the old behavior, exclude the \n",
       "relevant entries before the concat operation.\n",
       "  results = pd.concat([results, normalized_data]) #.dropna(axis=1, how=\"all\")])\n",
       "</pre>\n"
      ],
      "text/plain": [
       "/var/folders/7t/k8q3439j6z3c683j7w00wtm80000gn/T/ipykernel_50509/330735155.py:26: FutureWarning: The behavior of \n",
       "DataFrame concatenation with empty or all-NA entries is deprecated. In a future version, this will no longer \n",
       "exclude empty or all-NA columns when determining the result dtypes. To retain the old behavior, exclude the \n",
       "relevant entries before the concat operation.\n",
       "  results = pd.concat([results, normalized_data]) #.dropna(axis=1, how=\"all\")])\n"
      ]
     },
     "metadata": {},
     "output_type": "display_data"
    },
    {
     "data": {
      "text/html": [
       "<pre style=\"white-space:pre;overflow-x:auto;line-height:normal;font-family:Menlo,'DejaVu Sans Mono',consolas,'Courier New',monospace\">/var/folders/7t/k8q3439j6z3c683j7w00wtm80000gn/T/ipykernel_50509/330735155.py:26: FutureWarning: The behavior of \n",
       "DataFrame concatenation with empty or all-NA entries is deprecated. In a future version, this will no longer \n",
       "exclude empty or all-NA columns when determining the result dtypes. To retain the old behavior, exclude the \n",
       "relevant entries before the concat operation.\n",
       "  results = pd.concat([results, normalized_data]) #.dropna(axis=1, how=\"all\")])\n",
       "</pre>\n"
      ],
      "text/plain": [
       "/var/folders/7t/k8q3439j6z3c683j7w00wtm80000gn/T/ipykernel_50509/330735155.py:26: FutureWarning: The behavior of \n",
       "DataFrame concatenation with empty or all-NA entries is deprecated. In a future version, this will no longer \n",
       "exclude empty or all-NA columns when determining the result dtypes. To retain the old behavior, exclude the \n",
       "relevant entries before the concat operation.\n",
       "  results = pd.concat([results, normalized_data]) #.dropna(axis=1, how=\"all\")])\n"
      ]
     },
     "metadata": {},
     "output_type": "display_data"
    },
    {
     "data": {
      "text/html": [
       "<pre style=\"white-space:pre;overflow-x:auto;line-height:normal;font-family:Menlo,'DejaVu Sans Mono',consolas,'Courier New',monospace\">/var/folders/7t/k8q3439j6z3c683j7w00wtm80000gn/T/ipykernel_50509/330735155.py:26: FutureWarning: The behavior of \n",
       "DataFrame concatenation with empty or all-NA entries is deprecated. In a future version, this will no longer \n",
       "exclude empty or all-NA columns when determining the result dtypes. To retain the old behavior, exclude the \n",
       "relevant entries before the concat operation.\n",
       "  results = pd.concat([results, normalized_data]) #.dropna(axis=1, how=\"all\")])\n",
       "</pre>\n"
      ],
      "text/plain": [
       "/var/folders/7t/k8q3439j6z3c683j7w00wtm80000gn/T/ipykernel_50509/330735155.py:26: FutureWarning: The behavior of \n",
       "DataFrame concatenation with empty or all-NA entries is deprecated. In a future version, this will no longer \n",
       "exclude empty or all-NA columns when determining the result dtypes. To retain the old behavior, exclude the \n",
       "relevant entries before the concat operation.\n",
       "  results = pd.concat([results, normalized_data]) #.dropna(axis=1, how=\"all\")])\n"
      ]
     },
     "metadata": {},
     "output_type": "display_data"
    },
    {
     "data": {
      "text/html": [
       "<pre style=\"white-space:pre;overflow-x:auto;line-height:normal;font-family:Menlo,'DejaVu Sans Mono',consolas,'Courier New',monospace\">/var/folders/7t/k8q3439j6z3c683j7w00wtm80000gn/T/ipykernel_50509/330735155.py:26: FutureWarning: The behavior of \n",
       "DataFrame concatenation with empty or all-NA entries is deprecated. In a future version, this will no longer \n",
       "exclude empty or all-NA columns when determining the result dtypes. To retain the old behavior, exclude the \n",
       "relevant entries before the concat operation.\n",
       "  results = pd.concat([results, normalized_data]) #.dropna(axis=1, how=\"all\")])\n",
       "</pre>\n"
      ],
      "text/plain": [
       "/var/folders/7t/k8q3439j6z3c683j7w00wtm80000gn/T/ipykernel_50509/330735155.py:26: FutureWarning: The behavior of \n",
       "DataFrame concatenation with empty or all-NA entries is deprecated. In a future version, this will no longer \n",
       "exclude empty or all-NA columns when determining the result dtypes. To retain the old behavior, exclude the \n",
       "relevant entries before the concat operation.\n",
       "  results = pd.concat([results, normalized_data]) #.dropna(axis=1, how=\"all\")])\n"
      ]
     },
     "metadata": {},
     "output_type": "display_data"
    },
    {
     "data": {
      "text/html": [
       "<pre style=\"white-space:pre;overflow-x:auto;line-height:normal;font-family:Menlo,'DejaVu Sans Mono',consolas,'Courier New',monospace\">/var/folders/7t/k8q3439j6z3c683j7w00wtm80000gn/T/ipykernel_50509/330735155.py:26: FutureWarning: The behavior of \n",
       "DataFrame concatenation with empty or all-NA entries is deprecated. In a future version, this will no longer \n",
       "exclude empty or all-NA columns when determining the result dtypes. To retain the old behavior, exclude the \n",
       "relevant entries before the concat operation.\n",
       "  results = pd.concat([results, normalized_data]) #.dropna(axis=1, how=\"all\")])\n",
       "</pre>\n"
      ],
      "text/plain": [
       "/var/folders/7t/k8q3439j6z3c683j7w00wtm80000gn/T/ipykernel_50509/330735155.py:26: FutureWarning: The behavior of \n",
       "DataFrame concatenation with empty or all-NA entries is deprecated. In a future version, this will no longer \n",
       "exclude empty or all-NA columns when determining the result dtypes. To retain the old behavior, exclude the \n",
       "relevant entries before the concat operation.\n",
       "  results = pd.concat([results, normalized_data]) #.dropna(axis=1, how=\"all\")])\n"
      ]
     },
     "metadata": {},
     "output_type": "display_data"
    },
    {
     "data": {
      "text/html": [
       "<pre style=\"white-space:pre;overflow-x:auto;line-height:normal;font-family:Menlo,'DejaVu Sans Mono',consolas,'Courier New',monospace\">/var/folders/7t/k8q3439j6z3c683j7w00wtm80000gn/T/ipykernel_50509/330735155.py:26: FutureWarning: The behavior of \n",
       "DataFrame concatenation with empty or all-NA entries is deprecated. In a future version, this will no longer \n",
       "exclude empty or all-NA columns when determining the result dtypes. To retain the old behavior, exclude the \n",
       "relevant entries before the concat operation.\n",
       "  results = pd.concat([results, normalized_data]) #.dropna(axis=1, how=\"all\")])\n",
       "</pre>\n"
      ],
      "text/plain": [
       "/var/folders/7t/k8q3439j6z3c683j7w00wtm80000gn/T/ipykernel_50509/330735155.py:26: FutureWarning: The behavior of \n",
       "DataFrame concatenation with empty or all-NA entries is deprecated. In a future version, this will no longer \n",
       "exclude empty or all-NA columns when determining the result dtypes. To retain the old behavior, exclude the \n",
       "relevant entries before the concat operation.\n",
       "  results = pd.concat([results, normalized_data]) #.dropna(axis=1, how=\"all\")])\n"
      ]
     },
     "metadata": {},
     "output_type": "display_data"
    },
    {
     "data": {
      "text/html": [
       "<pre style=\"white-space:pre;overflow-x:auto;line-height:normal;font-family:Menlo,'DejaVu Sans Mono',consolas,'Courier New',monospace\">/var/folders/7t/k8q3439j6z3c683j7w00wtm80000gn/T/ipykernel_50509/330735155.py:26: FutureWarning: The behavior of \n",
       "DataFrame concatenation with empty or all-NA entries is deprecated. In a future version, this will no longer \n",
       "exclude empty or all-NA columns when determining the result dtypes. To retain the old behavior, exclude the \n",
       "relevant entries before the concat operation.\n",
       "  results = pd.concat([results, normalized_data]) #.dropna(axis=1, how=\"all\")])\n",
       "</pre>\n"
      ],
      "text/plain": [
       "/var/folders/7t/k8q3439j6z3c683j7w00wtm80000gn/T/ipykernel_50509/330735155.py:26: FutureWarning: The behavior of \n",
       "DataFrame concatenation with empty or all-NA entries is deprecated. In a future version, this will no longer \n",
       "exclude empty or all-NA columns when determining the result dtypes. To retain the old behavior, exclude the \n",
       "relevant entries before the concat operation.\n",
       "  results = pd.concat([results, normalized_data]) #.dropna(axis=1, how=\"all\")])\n"
      ]
     },
     "metadata": {},
     "output_type": "display_data"
    },
    {
     "data": {
      "text/html": [
       "<pre style=\"white-space:pre;overflow-x:auto;line-height:normal;font-family:Menlo,'DejaVu Sans Mono',consolas,'Courier New',monospace\">/var/folders/7t/k8q3439j6z3c683j7w00wtm80000gn/T/ipykernel_50509/330735155.py:26: FutureWarning: The behavior of \n",
       "DataFrame concatenation with empty or all-NA entries is deprecated. In a future version, this will no longer \n",
       "exclude empty or all-NA columns when determining the result dtypes. To retain the old behavior, exclude the \n",
       "relevant entries before the concat operation.\n",
       "  results = pd.concat([results, normalized_data]) #.dropna(axis=1, how=\"all\")])\n",
       "</pre>\n"
      ],
      "text/plain": [
       "/var/folders/7t/k8q3439j6z3c683j7w00wtm80000gn/T/ipykernel_50509/330735155.py:26: FutureWarning: The behavior of \n",
       "DataFrame concatenation with empty or all-NA entries is deprecated. In a future version, this will no longer \n",
       "exclude empty or all-NA columns when determining the result dtypes. To retain the old behavior, exclude the \n",
       "relevant entries before the concat operation.\n",
       "  results = pd.concat([results, normalized_data]) #.dropna(axis=1, how=\"all\")])\n"
      ]
     },
     "metadata": {},
     "output_type": "display_data"
    },
    {
     "data": {
      "text/html": [
       "<pre style=\"white-space:pre;overflow-x:auto;line-height:normal;font-family:Menlo,'DejaVu Sans Mono',consolas,'Courier New',monospace\">/var/folders/7t/k8q3439j6z3c683j7w00wtm80000gn/T/ipykernel_50509/330735155.py:26: FutureWarning: The behavior of \n",
       "DataFrame concatenation with empty or all-NA entries is deprecated. In a future version, this will no longer \n",
       "exclude empty or all-NA columns when determining the result dtypes. To retain the old behavior, exclude the \n",
       "relevant entries before the concat operation.\n",
       "  results = pd.concat([results, normalized_data]) #.dropna(axis=1, how=\"all\")])\n",
       "</pre>\n"
      ],
      "text/plain": [
       "/var/folders/7t/k8q3439j6z3c683j7w00wtm80000gn/T/ipykernel_50509/330735155.py:26: FutureWarning: The behavior of \n",
       "DataFrame concatenation with empty or all-NA entries is deprecated. In a future version, this will no longer \n",
       "exclude empty or all-NA columns when determining the result dtypes. To retain the old behavior, exclude the \n",
       "relevant entries before the concat operation.\n",
       "  results = pd.concat([results, normalized_data]) #.dropna(axis=1, how=\"all\")])\n"
      ]
     },
     "metadata": {},
     "output_type": "display_data"
    },
    {
     "data": {
      "text/html": [
       "<pre style=\"white-space:pre;overflow-x:auto;line-height:normal;font-family:Menlo,'DejaVu Sans Mono',consolas,'Courier New',monospace\">/var/folders/7t/k8q3439j6z3c683j7w00wtm80000gn/T/ipykernel_50509/330735155.py:26: FutureWarning: The behavior of \n",
       "DataFrame concatenation with empty or all-NA entries is deprecated. In a future version, this will no longer \n",
       "exclude empty or all-NA columns when determining the result dtypes. To retain the old behavior, exclude the \n",
       "relevant entries before the concat operation.\n",
       "  results = pd.concat([results, normalized_data]) #.dropna(axis=1, how=\"all\")])\n",
       "</pre>\n"
      ],
      "text/plain": [
       "/var/folders/7t/k8q3439j6z3c683j7w00wtm80000gn/T/ipykernel_50509/330735155.py:26: FutureWarning: The behavior of \n",
       "DataFrame concatenation with empty or all-NA entries is deprecated. In a future version, this will no longer \n",
       "exclude empty or all-NA columns when determining the result dtypes. To retain the old behavior, exclude the \n",
       "relevant entries before the concat operation.\n",
       "  results = pd.concat([results, normalized_data]) #.dropna(axis=1, how=\"all\")])\n"
      ]
     },
     "metadata": {},
     "output_type": "display_data"
    },
    {
     "data": {
      "text/html": [
       "<pre style=\"white-space:pre;overflow-x:auto;line-height:normal;font-family:Menlo,'DejaVu Sans Mono',consolas,'Courier New',monospace\">/var/folders/7t/k8q3439j6z3c683j7w00wtm80000gn/T/ipykernel_50509/330735155.py:26: FutureWarning: The behavior of \n",
       "DataFrame concatenation with empty or all-NA entries is deprecated. In a future version, this will no longer \n",
       "exclude empty or all-NA columns when determining the result dtypes. To retain the old behavior, exclude the \n",
       "relevant entries before the concat operation.\n",
       "  results = pd.concat([results, normalized_data]) #.dropna(axis=1, how=\"all\")])\n",
       "</pre>\n"
      ],
      "text/plain": [
       "/var/folders/7t/k8q3439j6z3c683j7w00wtm80000gn/T/ipykernel_50509/330735155.py:26: FutureWarning: The behavior of \n",
       "DataFrame concatenation with empty or all-NA entries is deprecated. In a future version, this will no longer \n",
       "exclude empty or all-NA columns when determining the result dtypes. To retain the old behavior, exclude the \n",
       "relevant entries before the concat operation.\n",
       "  results = pd.concat([results, normalized_data]) #.dropna(axis=1, how=\"all\")])\n"
      ]
     },
     "metadata": {},
     "output_type": "display_data"
    },
    {
     "data": {
      "text/html": [
       "<pre style=\"white-space:pre;overflow-x:auto;line-height:normal;font-family:Menlo,'DejaVu Sans Mono',consolas,'Courier New',monospace\">/var/folders/7t/k8q3439j6z3c683j7w00wtm80000gn/T/ipykernel_50509/330735155.py:26: FutureWarning: The behavior of \n",
       "DataFrame concatenation with empty or all-NA entries is deprecated. In a future version, this will no longer \n",
       "exclude empty or all-NA columns when determining the result dtypes. To retain the old behavior, exclude the \n",
       "relevant entries before the concat operation.\n",
       "  results = pd.concat([results, normalized_data]) #.dropna(axis=1, how=\"all\")])\n",
       "</pre>\n"
      ],
      "text/plain": [
       "/var/folders/7t/k8q3439j6z3c683j7w00wtm80000gn/T/ipykernel_50509/330735155.py:26: FutureWarning: The behavior of \n",
       "DataFrame concatenation with empty or all-NA entries is deprecated. In a future version, this will no longer \n",
       "exclude empty or all-NA columns when determining the result dtypes. To retain the old behavior, exclude the \n",
       "relevant entries before the concat operation.\n",
       "  results = pd.concat([results, normalized_data]) #.dropna(axis=1, how=\"all\")])\n"
      ]
     },
     "metadata": {},
     "output_type": "display_data"
    },
    {
     "data": {
      "text/html": [
       "<pre style=\"white-space:pre;overflow-x:auto;line-height:normal;font-family:Menlo,'DejaVu Sans Mono',consolas,'Courier New',monospace\">/var/folders/7t/k8q3439j6z3c683j7w00wtm80000gn/T/ipykernel_50509/330735155.py:26: FutureWarning: The behavior of \n",
       "DataFrame concatenation with empty or all-NA entries is deprecated. In a future version, this will no longer \n",
       "exclude empty or all-NA columns when determining the result dtypes. To retain the old behavior, exclude the \n",
       "relevant entries before the concat operation.\n",
       "  results = pd.concat([results, normalized_data]) #.dropna(axis=1, how=\"all\")])\n",
       "</pre>\n"
      ],
      "text/plain": [
       "/var/folders/7t/k8q3439j6z3c683j7w00wtm80000gn/T/ipykernel_50509/330735155.py:26: FutureWarning: The behavior of \n",
       "DataFrame concatenation with empty or all-NA entries is deprecated. In a future version, this will no longer \n",
       "exclude empty or all-NA columns when determining the result dtypes. To retain the old behavior, exclude the \n",
       "relevant entries before the concat operation.\n",
       "  results = pd.concat([results, normalized_data]) #.dropna(axis=1, how=\"all\")])\n"
      ]
     },
     "metadata": {},
     "output_type": "display_data"
    },
    {
     "data": {
      "text/html": [
       "<pre style=\"white-space:pre;overflow-x:auto;line-height:normal;font-family:Menlo,'DejaVu Sans Mono',consolas,'Courier New',monospace\">/var/folders/7t/k8q3439j6z3c683j7w00wtm80000gn/T/ipykernel_50509/330735155.py:26: FutureWarning: The behavior of \n",
       "DataFrame concatenation with empty or all-NA entries is deprecated. In a future version, this will no longer \n",
       "exclude empty or all-NA columns when determining the result dtypes. To retain the old behavior, exclude the \n",
       "relevant entries before the concat operation.\n",
       "  results = pd.concat([results, normalized_data]) #.dropna(axis=1, how=\"all\")])\n",
       "</pre>\n"
      ],
      "text/plain": [
       "/var/folders/7t/k8q3439j6z3c683j7w00wtm80000gn/T/ipykernel_50509/330735155.py:26: FutureWarning: The behavior of \n",
       "DataFrame concatenation with empty or all-NA entries is deprecated. In a future version, this will no longer \n",
       "exclude empty or all-NA columns when determining the result dtypes. To retain the old behavior, exclude the \n",
       "relevant entries before the concat operation.\n",
       "  results = pd.concat([results, normalized_data]) #.dropna(axis=1, how=\"all\")])\n"
      ]
     },
     "metadata": {},
     "output_type": "display_data"
    },
    {
     "data": {
      "text/html": [
       "<pre style=\"white-space:pre;overflow-x:auto;line-height:normal;font-family:Menlo,'DejaVu Sans Mono',consolas,'Courier New',monospace\">/var/folders/7t/k8q3439j6z3c683j7w00wtm80000gn/T/ipykernel_50509/330735155.py:26: FutureWarning: The behavior of \n",
       "DataFrame concatenation with empty or all-NA entries is deprecated. In a future version, this will no longer \n",
       "exclude empty or all-NA columns when determining the result dtypes. To retain the old behavior, exclude the \n",
       "relevant entries before the concat operation.\n",
       "  results = pd.concat([results, normalized_data]) #.dropna(axis=1, how=\"all\")])\n",
       "</pre>\n"
      ],
      "text/plain": [
       "/var/folders/7t/k8q3439j6z3c683j7w00wtm80000gn/T/ipykernel_50509/330735155.py:26: FutureWarning: The behavior of \n",
       "DataFrame concatenation with empty or all-NA entries is deprecated. In a future version, this will no longer \n",
       "exclude empty or all-NA columns when determining the result dtypes. To retain the old behavior, exclude the \n",
       "relevant entries before the concat operation.\n",
       "  results = pd.concat([results, normalized_data]) #.dropna(axis=1, how=\"all\")])\n"
      ]
     },
     "metadata": {},
     "output_type": "display_data"
    },
    {
     "data": {
      "text/html": [
       "<pre style=\"white-space:pre;overflow-x:auto;line-height:normal;font-family:Menlo,'DejaVu Sans Mono',consolas,'Courier New',monospace\">/var/folders/7t/k8q3439j6z3c683j7w00wtm80000gn/T/ipykernel_50509/330735155.py:26: FutureWarning: The behavior of \n",
       "DataFrame concatenation with empty or all-NA entries is deprecated. In a future version, this will no longer \n",
       "exclude empty or all-NA columns when determining the result dtypes. To retain the old behavior, exclude the \n",
       "relevant entries before the concat operation.\n",
       "  results = pd.concat([results, normalized_data]) #.dropna(axis=1, how=\"all\")])\n",
       "</pre>\n"
      ],
      "text/plain": [
       "/var/folders/7t/k8q3439j6z3c683j7w00wtm80000gn/T/ipykernel_50509/330735155.py:26: FutureWarning: The behavior of \n",
       "DataFrame concatenation with empty or all-NA entries is deprecated. In a future version, this will no longer \n",
       "exclude empty or all-NA columns when determining the result dtypes. To retain the old behavior, exclude the \n",
       "relevant entries before the concat operation.\n",
       "  results = pd.concat([results, normalized_data]) #.dropna(axis=1, how=\"all\")])\n"
      ]
     },
     "metadata": {},
     "output_type": "display_data"
    },
    {
     "data": {
      "text/html": [
       "<pre style=\"white-space:pre;overflow-x:auto;line-height:normal;font-family:Menlo,'DejaVu Sans Mono',consolas,'Courier New',monospace\">/var/folders/7t/k8q3439j6z3c683j7w00wtm80000gn/T/ipykernel_50509/330735155.py:26: FutureWarning: The behavior of \n",
       "DataFrame concatenation with empty or all-NA entries is deprecated. In a future version, this will no longer \n",
       "exclude empty or all-NA columns when determining the result dtypes. To retain the old behavior, exclude the \n",
       "relevant entries before the concat operation.\n",
       "  results = pd.concat([results, normalized_data]) #.dropna(axis=1, how=\"all\")])\n",
       "</pre>\n"
      ],
      "text/plain": [
       "/var/folders/7t/k8q3439j6z3c683j7w00wtm80000gn/T/ipykernel_50509/330735155.py:26: FutureWarning: The behavior of \n",
       "DataFrame concatenation with empty or all-NA entries is deprecated. In a future version, this will no longer \n",
       "exclude empty or all-NA columns when determining the result dtypes. To retain the old behavior, exclude the \n",
       "relevant entries before the concat operation.\n",
       "  results = pd.concat([results, normalized_data]) #.dropna(axis=1, how=\"all\")])\n"
      ]
     },
     "metadata": {},
     "output_type": "display_data"
    },
    {
     "data": {
      "text/html": [
       "<pre style=\"white-space:pre;overflow-x:auto;line-height:normal;font-family:Menlo,'DejaVu Sans Mono',consolas,'Courier New',monospace\">/var/folders/7t/k8q3439j6z3c683j7w00wtm80000gn/T/ipykernel_50509/330735155.py:26: FutureWarning: The behavior of \n",
       "DataFrame concatenation with empty or all-NA entries is deprecated. In a future version, this will no longer \n",
       "exclude empty or all-NA columns when determining the result dtypes. To retain the old behavior, exclude the \n",
       "relevant entries before the concat operation.\n",
       "  results = pd.concat([results, normalized_data]) #.dropna(axis=1, how=\"all\")])\n",
       "</pre>\n"
      ],
      "text/plain": [
       "/var/folders/7t/k8q3439j6z3c683j7w00wtm80000gn/T/ipykernel_50509/330735155.py:26: FutureWarning: The behavior of \n",
       "DataFrame concatenation with empty or all-NA entries is deprecated. In a future version, this will no longer \n",
       "exclude empty or all-NA columns when determining the result dtypes. To retain the old behavior, exclude the \n",
       "relevant entries before the concat operation.\n",
       "  results = pd.concat([results, normalized_data]) #.dropna(axis=1, how=\"all\")])\n"
      ]
     },
     "metadata": {},
     "output_type": "display_data"
    },
    {
     "data": {
      "text/html": [
       "<pre style=\"white-space:pre;overflow-x:auto;line-height:normal;font-family:Menlo,'DejaVu Sans Mono',consolas,'Courier New',monospace\">/var/folders/7t/k8q3439j6z3c683j7w00wtm80000gn/T/ipykernel_50509/330735155.py:26: FutureWarning: The behavior of \n",
       "DataFrame concatenation with empty or all-NA entries is deprecated. In a future version, this will no longer \n",
       "exclude empty or all-NA columns when determining the result dtypes. To retain the old behavior, exclude the \n",
       "relevant entries before the concat operation.\n",
       "  results = pd.concat([results, normalized_data]) #.dropna(axis=1, how=\"all\")])\n",
       "</pre>\n"
      ],
      "text/plain": [
       "/var/folders/7t/k8q3439j6z3c683j7w00wtm80000gn/T/ipykernel_50509/330735155.py:26: FutureWarning: The behavior of \n",
       "DataFrame concatenation with empty or all-NA entries is deprecated. In a future version, this will no longer \n",
       "exclude empty or all-NA columns when determining the result dtypes. To retain the old behavior, exclude the \n",
       "relevant entries before the concat operation.\n",
       "  results = pd.concat([results, normalized_data]) #.dropna(axis=1, how=\"all\")])\n"
      ]
     },
     "metadata": {},
     "output_type": "display_data"
    },
    {
     "data": {
      "text/html": [
       "<pre style=\"white-space:pre;overflow-x:auto;line-height:normal;font-family:Menlo,'DejaVu Sans Mono',consolas,'Courier New',monospace\">/var/folders/7t/k8q3439j6z3c683j7w00wtm80000gn/T/ipykernel_50509/330735155.py:26: FutureWarning: The behavior of \n",
       "DataFrame concatenation with empty or all-NA entries is deprecated. In a future version, this will no longer \n",
       "exclude empty or all-NA columns when determining the result dtypes. To retain the old behavior, exclude the \n",
       "relevant entries before the concat operation.\n",
       "  results = pd.concat([results, normalized_data]) #.dropna(axis=1, how=\"all\")])\n",
       "</pre>\n"
      ],
      "text/plain": [
       "/var/folders/7t/k8q3439j6z3c683j7w00wtm80000gn/T/ipykernel_50509/330735155.py:26: FutureWarning: The behavior of \n",
       "DataFrame concatenation with empty or all-NA entries is deprecated. In a future version, this will no longer \n",
       "exclude empty or all-NA columns when determining the result dtypes. To retain the old behavior, exclude the \n",
       "relevant entries before the concat operation.\n",
       "  results = pd.concat([results, normalized_data]) #.dropna(axis=1, how=\"all\")])\n"
      ]
     },
     "metadata": {},
     "output_type": "display_data"
    },
    {
     "data": {
      "text/html": [
       "<pre style=\"white-space:pre;overflow-x:auto;line-height:normal;font-family:Menlo,'DejaVu Sans Mono',consolas,'Courier New',monospace\">/var/folders/7t/k8q3439j6z3c683j7w00wtm80000gn/T/ipykernel_50509/330735155.py:26: FutureWarning: The behavior of \n",
       "DataFrame concatenation with empty or all-NA entries is deprecated. In a future version, this will no longer \n",
       "exclude empty or all-NA columns when determining the result dtypes. To retain the old behavior, exclude the \n",
       "relevant entries before the concat operation.\n",
       "  results = pd.concat([results, normalized_data]) #.dropna(axis=1, how=\"all\")])\n",
       "</pre>\n"
      ],
      "text/plain": [
       "/var/folders/7t/k8q3439j6z3c683j7w00wtm80000gn/T/ipykernel_50509/330735155.py:26: FutureWarning: The behavior of \n",
       "DataFrame concatenation with empty or all-NA entries is deprecated. In a future version, this will no longer \n",
       "exclude empty or all-NA columns when determining the result dtypes. To retain the old behavior, exclude the \n",
       "relevant entries before the concat operation.\n",
       "  results = pd.concat([results, normalized_data]) #.dropna(axis=1, how=\"all\")])\n"
      ]
     },
     "metadata": {},
     "output_type": "display_data"
    },
    {
     "data": {
      "text/html": [
       "<pre style=\"white-space:pre;overflow-x:auto;line-height:normal;font-family:Menlo,'DejaVu Sans Mono',consolas,'Courier New',monospace\">/var/folders/7t/k8q3439j6z3c683j7w00wtm80000gn/T/ipykernel_50509/330735155.py:26: FutureWarning: The behavior of \n",
       "DataFrame concatenation with empty or all-NA entries is deprecated. In a future version, this will no longer \n",
       "exclude empty or all-NA columns when determining the result dtypes. To retain the old behavior, exclude the \n",
       "relevant entries before the concat operation.\n",
       "  results = pd.concat([results, normalized_data]) #.dropna(axis=1, how=\"all\")])\n",
       "</pre>\n"
      ],
      "text/plain": [
       "/var/folders/7t/k8q3439j6z3c683j7w00wtm80000gn/T/ipykernel_50509/330735155.py:26: FutureWarning: The behavior of \n",
       "DataFrame concatenation with empty or all-NA entries is deprecated. In a future version, this will no longer \n",
       "exclude empty or all-NA columns when determining the result dtypes. To retain the old behavior, exclude the \n",
       "relevant entries before the concat operation.\n",
       "  results = pd.concat([results, normalized_data]) #.dropna(axis=1, how=\"all\")])\n"
      ]
     },
     "metadata": {},
     "output_type": "display_data"
    },
    {
     "data": {
      "text/html": [
       "<pre style=\"white-space:pre;overflow-x:auto;line-height:normal;font-family:Menlo,'DejaVu Sans Mono',consolas,'Courier New',monospace\">/var/folders/7t/k8q3439j6z3c683j7w00wtm80000gn/T/ipykernel_50509/330735155.py:26: FutureWarning: The behavior of \n",
       "DataFrame concatenation with empty or all-NA entries is deprecated. In a future version, this will no longer \n",
       "exclude empty or all-NA columns when determining the result dtypes. To retain the old behavior, exclude the \n",
       "relevant entries before the concat operation.\n",
       "  results = pd.concat([results, normalized_data]) #.dropna(axis=1, how=\"all\")])\n",
       "</pre>\n"
      ],
      "text/plain": [
       "/var/folders/7t/k8q3439j6z3c683j7w00wtm80000gn/T/ipykernel_50509/330735155.py:26: FutureWarning: The behavior of \n",
       "DataFrame concatenation with empty or all-NA entries is deprecated. In a future version, this will no longer \n",
       "exclude empty or all-NA columns when determining the result dtypes. To retain the old behavior, exclude the \n",
       "relevant entries before the concat operation.\n",
       "  results = pd.concat([results, normalized_data]) #.dropna(axis=1, how=\"all\")])\n"
      ]
     },
     "metadata": {},
     "output_type": "display_data"
    },
    {
     "data": {
      "text/html": [
       "<pre style=\"white-space:pre;overflow-x:auto;line-height:normal;font-family:Menlo,'DejaVu Sans Mono',consolas,'Courier New',monospace\">/var/folders/7t/k8q3439j6z3c683j7w00wtm80000gn/T/ipykernel_50509/330735155.py:26: FutureWarning: The behavior of \n",
       "DataFrame concatenation with empty or all-NA entries is deprecated. In a future version, this will no longer \n",
       "exclude empty or all-NA columns when determining the result dtypes. To retain the old behavior, exclude the \n",
       "relevant entries before the concat operation.\n",
       "  results = pd.concat([results, normalized_data]) #.dropna(axis=1, how=\"all\")])\n",
       "</pre>\n"
      ],
      "text/plain": [
       "/var/folders/7t/k8q3439j6z3c683j7w00wtm80000gn/T/ipykernel_50509/330735155.py:26: FutureWarning: The behavior of \n",
       "DataFrame concatenation with empty or all-NA entries is deprecated. In a future version, this will no longer \n",
       "exclude empty or all-NA columns when determining the result dtypes. To retain the old behavior, exclude the \n",
       "relevant entries before the concat operation.\n",
       "  results = pd.concat([results, normalized_data]) #.dropna(axis=1, how=\"all\")])\n"
      ]
     },
     "metadata": {},
     "output_type": "display_data"
    },
    {
     "data": {
      "text/html": [
       "<pre style=\"white-space:pre;overflow-x:auto;line-height:normal;font-family:Menlo,'DejaVu Sans Mono',consolas,'Courier New',monospace\">/var/folders/7t/k8q3439j6z3c683j7w00wtm80000gn/T/ipykernel_50509/330735155.py:26: FutureWarning: The behavior of \n",
       "DataFrame concatenation with empty or all-NA entries is deprecated. In a future version, this will no longer \n",
       "exclude empty or all-NA columns when determining the result dtypes. To retain the old behavior, exclude the \n",
       "relevant entries before the concat operation.\n",
       "  results = pd.concat([results, normalized_data]) #.dropna(axis=1, how=\"all\")])\n",
       "</pre>\n"
      ],
      "text/plain": [
       "/var/folders/7t/k8q3439j6z3c683j7w00wtm80000gn/T/ipykernel_50509/330735155.py:26: FutureWarning: The behavior of \n",
       "DataFrame concatenation with empty or all-NA entries is deprecated. In a future version, this will no longer \n",
       "exclude empty or all-NA columns when determining the result dtypes. To retain the old behavior, exclude the \n",
       "relevant entries before the concat operation.\n",
       "  results = pd.concat([results, normalized_data]) #.dropna(axis=1, how=\"all\")])\n"
      ]
     },
     "metadata": {},
     "output_type": "display_data"
    },
    {
     "data": {
      "text/html": [
       "<pre style=\"white-space:pre;overflow-x:auto;line-height:normal;font-family:Menlo,'DejaVu Sans Mono',consolas,'Courier New',monospace\">/var/folders/7t/k8q3439j6z3c683j7w00wtm80000gn/T/ipykernel_50509/330735155.py:26: FutureWarning: The behavior of \n",
       "DataFrame concatenation with empty or all-NA entries is deprecated. In a future version, this will no longer \n",
       "exclude empty or all-NA columns when determining the result dtypes. To retain the old behavior, exclude the \n",
       "relevant entries before the concat operation.\n",
       "  results = pd.concat([results, normalized_data]) #.dropna(axis=1, how=\"all\")])\n",
       "</pre>\n"
      ],
      "text/plain": [
       "/var/folders/7t/k8q3439j6z3c683j7w00wtm80000gn/T/ipykernel_50509/330735155.py:26: FutureWarning: The behavior of \n",
       "DataFrame concatenation with empty or all-NA entries is deprecated. In a future version, this will no longer \n",
       "exclude empty or all-NA columns when determining the result dtypes. To retain the old behavior, exclude the \n",
       "relevant entries before the concat operation.\n",
       "  results = pd.concat([results, normalized_data]) #.dropna(axis=1, how=\"all\")])\n"
      ]
     },
     "metadata": {},
     "output_type": "display_data"
    },
    {
     "data": {
      "text/html": [
       "<pre style=\"white-space:pre;overflow-x:auto;line-height:normal;font-family:Menlo,'DejaVu Sans Mono',consolas,'Courier New',monospace\">/var/folders/7t/k8q3439j6z3c683j7w00wtm80000gn/T/ipykernel_50509/330735155.py:26: FutureWarning: The behavior of \n",
       "DataFrame concatenation with empty or all-NA entries is deprecated. In a future version, this will no longer \n",
       "exclude empty or all-NA columns when determining the result dtypes. To retain the old behavior, exclude the \n",
       "relevant entries before the concat operation.\n",
       "  results = pd.concat([results, normalized_data]) #.dropna(axis=1, how=\"all\")])\n",
       "</pre>\n"
      ],
      "text/plain": [
       "/var/folders/7t/k8q3439j6z3c683j7w00wtm80000gn/T/ipykernel_50509/330735155.py:26: FutureWarning: The behavior of \n",
       "DataFrame concatenation with empty or all-NA entries is deprecated. In a future version, this will no longer \n",
       "exclude empty or all-NA columns when determining the result dtypes. To retain the old behavior, exclude the \n",
       "relevant entries before the concat operation.\n",
       "  results = pd.concat([results, normalized_data]) #.dropna(axis=1, how=\"all\")])\n"
      ]
     },
     "metadata": {},
     "output_type": "display_data"
    },
    {
     "data": {
      "text/html": [
       "<pre style=\"white-space:pre;overflow-x:auto;line-height:normal;font-family:Menlo,'DejaVu Sans Mono',consolas,'Courier New',monospace\">/var/folders/7t/k8q3439j6z3c683j7w00wtm80000gn/T/ipykernel_50509/330735155.py:26: FutureWarning: The behavior of \n",
       "DataFrame concatenation with empty or all-NA entries is deprecated. In a future version, this will no longer \n",
       "exclude empty or all-NA columns when determining the result dtypes. To retain the old behavior, exclude the \n",
       "relevant entries before the concat operation.\n",
       "  results = pd.concat([results, normalized_data]) #.dropna(axis=1, how=\"all\")])\n",
       "</pre>\n"
      ],
      "text/plain": [
       "/var/folders/7t/k8q3439j6z3c683j7w00wtm80000gn/T/ipykernel_50509/330735155.py:26: FutureWarning: The behavior of \n",
       "DataFrame concatenation with empty or all-NA entries is deprecated. In a future version, this will no longer \n",
       "exclude empty or all-NA columns when determining the result dtypes. To retain the old behavior, exclude the \n",
       "relevant entries before the concat operation.\n",
       "  results = pd.concat([results, normalized_data]) #.dropna(axis=1, how=\"all\")])\n"
      ]
     },
     "metadata": {},
     "output_type": "display_data"
    },
    {
     "data": {
      "text/html": [
       "<pre style=\"white-space:pre;overflow-x:auto;line-height:normal;font-family:Menlo,'DejaVu Sans Mono',consolas,'Courier New',monospace\">/var/folders/7t/k8q3439j6z3c683j7w00wtm80000gn/T/ipykernel_50509/330735155.py:26: FutureWarning: The behavior of \n",
       "DataFrame concatenation with empty or all-NA entries is deprecated. In a future version, this will no longer \n",
       "exclude empty or all-NA columns when determining the result dtypes. To retain the old behavior, exclude the \n",
       "relevant entries before the concat operation.\n",
       "  results = pd.concat([results, normalized_data]) #.dropna(axis=1, how=\"all\")])\n",
       "</pre>\n"
      ],
      "text/plain": [
       "/var/folders/7t/k8q3439j6z3c683j7w00wtm80000gn/T/ipykernel_50509/330735155.py:26: FutureWarning: The behavior of \n",
       "DataFrame concatenation with empty or all-NA entries is deprecated. In a future version, this will no longer \n",
       "exclude empty or all-NA columns when determining the result dtypes. To retain the old behavior, exclude the \n",
       "relevant entries before the concat operation.\n",
       "  results = pd.concat([results, normalized_data]) #.dropna(axis=1, how=\"all\")])\n"
      ]
     },
     "metadata": {},
     "output_type": "display_data"
    },
    {
     "data": {
      "text/html": [
       "<pre style=\"white-space:pre;overflow-x:auto;line-height:normal;font-family:Menlo,'DejaVu Sans Mono',consolas,'Courier New',monospace\">/var/folders/7t/k8q3439j6z3c683j7w00wtm80000gn/T/ipykernel_50509/330735155.py:26: FutureWarning: The behavior of \n",
       "DataFrame concatenation with empty or all-NA entries is deprecated. In a future version, this will no longer \n",
       "exclude empty or all-NA columns when determining the result dtypes. To retain the old behavior, exclude the \n",
       "relevant entries before the concat operation.\n",
       "  results = pd.concat([results, normalized_data]) #.dropna(axis=1, how=\"all\")])\n",
       "</pre>\n"
      ],
      "text/plain": [
       "/var/folders/7t/k8q3439j6z3c683j7w00wtm80000gn/T/ipykernel_50509/330735155.py:26: FutureWarning: The behavior of \n",
       "DataFrame concatenation with empty or all-NA entries is deprecated. In a future version, this will no longer \n",
       "exclude empty or all-NA columns when determining the result dtypes. To retain the old behavior, exclude the \n",
       "relevant entries before the concat operation.\n",
       "  results = pd.concat([results, normalized_data]) #.dropna(axis=1, how=\"all\")])\n"
      ]
     },
     "metadata": {},
     "output_type": "display_data"
    },
    {
     "data": {
      "text/html": [
       "<pre style=\"white-space:pre;overflow-x:auto;line-height:normal;font-family:Menlo,'DejaVu Sans Mono',consolas,'Courier New',monospace\">/var/folders/7t/k8q3439j6z3c683j7w00wtm80000gn/T/ipykernel_50509/330735155.py:26: FutureWarning: The behavior of \n",
       "DataFrame concatenation with empty or all-NA entries is deprecated. In a future version, this will no longer \n",
       "exclude empty or all-NA columns when determining the result dtypes. To retain the old behavior, exclude the \n",
       "relevant entries before the concat operation.\n",
       "  results = pd.concat([results, normalized_data]) #.dropna(axis=1, how=\"all\")])\n",
       "</pre>\n"
      ],
      "text/plain": [
       "/var/folders/7t/k8q3439j6z3c683j7w00wtm80000gn/T/ipykernel_50509/330735155.py:26: FutureWarning: The behavior of \n",
       "DataFrame concatenation with empty or all-NA entries is deprecated. In a future version, this will no longer \n",
       "exclude empty or all-NA columns when determining the result dtypes. To retain the old behavior, exclude the \n",
       "relevant entries before the concat operation.\n",
       "  results = pd.concat([results, normalized_data]) #.dropna(axis=1, how=\"all\")])\n"
      ]
     },
     "metadata": {},
     "output_type": "display_data"
    },
    {
     "data": {
      "text/html": [
       "<pre style=\"white-space:pre;overflow-x:auto;line-height:normal;font-family:Menlo,'DejaVu Sans Mono',consolas,'Courier New',monospace\">/var/folders/7t/k8q3439j6z3c683j7w00wtm80000gn/T/ipykernel_50509/330735155.py:26: FutureWarning: The behavior of \n",
       "DataFrame concatenation with empty or all-NA entries is deprecated. In a future version, this will no longer \n",
       "exclude empty or all-NA columns when determining the result dtypes. To retain the old behavior, exclude the \n",
       "relevant entries before the concat operation.\n",
       "  results = pd.concat([results, normalized_data]) #.dropna(axis=1, how=\"all\")])\n",
       "</pre>\n"
      ],
      "text/plain": [
       "/var/folders/7t/k8q3439j6z3c683j7w00wtm80000gn/T/ipykernel_50509/330735155.py:26: FutureWarning: The behavior of \n",
       "DataFrame concatenation with empty or all-NA entries is deprecated. In a future version, this will no longer \n",
       "exclude empty or all-NA columns when determining the result dtypes. To retain the old behavior, exclude the \n",
       "relevant entries before the concat operation.\n",
       "  results = pd.concat([results, normalized_data]) #.dropna(axis=1, how=\"all\")])\n"
      ]
     },
     "metadata": {},
     "output_type": "display_data"
    },
    {
     "data": {
      "text/html": [
       "<pre style=\"white-space:pre;overflow-x:auto;line-height:normal;font-family:Menlo,'DejaVu Sans Mono',consolas,'Courier New',monospace\">/var/folders/7t/k8q3439j6z3c683j7w00wtm80000gn/T/ipykernel_50509/330735155.py:26: FutureWarning: The behavior of \n",
       "DataFrame concatenation with empty or all-NA entries is deprecated. In a future version, this will no longer \n",
       "exclude empty or all-NA columns when determining the result dtypes. To retain the old behavior, exclude the \n",
       "relevant entries before the concat operation.\n",
       "  results = pd.concat([results, normalized_data]) #.dropna(axis=1, how=\"all\")])\n",
       "</pre>\n"
      ],
      "text/plain": [
       "/var/folders/7t/k8q3439j6z3c683j7w00wtm80000gn/T/ipykernel_50509/330735155.py:26: FutureWarning: The behavior of \n",
       "DataFrame concatenation with empty or all-NA entries is deprecated. In a future version, this will no longer \n",
       "exclude empty or all-NA columns when determining the result dtypes. To retain the old behavior, exclude the \n",
       "relevant entries before the concat operation.\n",
       "  results = pd.concat([results, normalized_data]) #.dropna(axis=1, how=\"all\")])\n"
      ]
     },
     "metadata": {},
     "output_type": "display_data"
    },
    {
     "data": {
      "text/html": [
       "<pre style=\"white-space:pre;overflow-x:auto;line-height:normal;font-family:Menlo,'DejaVu Sans Mono',consolas,'Courier New',monospace\">/var/folders/7t/k8q3439j6z3c683j7w00wtm80000gn/T/ipykernel_50509/330735155.py:26: FutureWarning: The behavior of \n",
       "DataFrame concatenation with empty or all-NA entries is deprecated. In a future version, this will no longer \n",
       "exclude empty or all-NA columns when determining the result dtypes. To retain the old behavior, exclude the \n",
       "relevant entries before the concat operation.\n",
       "  results = pd.concat([results, normalized_data]) #.dropna(axis=1, how=\"all\")])\n",
       "</pre>\n"
      ],
      "text/plain": [
       "/var/folders/7t/k8q3439j6z3c683j7w00wtm80000gn/T/ipykernel_50509/330735155.py:26: FutureWarning: The behavior of \n",
       "DataFrame concatenation with empty or all-NA entries is deprecated. In a future version, this will no longer \n",
       "exclude empty or all-NA columns when determining the result dtypes. To retain the old behavior, exclude the \n",
       "relevant entries before the concat operation.\n",
       "  results = pd.concat([results, normalized_data]) #.dropna(axis=1, how=\"all\")])\n"
      ]
     },
     "metadata": {},
     "output_type": "display_data"
    },
    {
     "data": {
      "text/html": [
       "<pre style=\"white-space:pre;overflow-x:auto;line-height:normal;font-family:Menlo,'DejaVu Sans Mono',consolas,'Courier New',monospace\">/var/folders/7t/k8q3439j6z3c683j7w00wtm80000gn/T/ipykernel_50509/330735155.py:26: FutureWarning: The behavior of \n",
       "DataFrame concatenation with empty or all-NA entries is deprecated. In a future version, this will no longer \n",
       "exclude empty or all-NA columns when determining the result dtypes. To retain the old behavior, exclude the \n",
       "relevant entries before the concat operation.\n",
       "  results = pd.concat([results, normalized_data]) #.dropna(axis=1, how=\"all\")])\n",
       "</pre>\n"
      ],
      "text/plain": [
       "/var/folders/7t/k8q3439j6z3c683j7w00wtm80000gn/T/ipykernel_50509/330735155.py:26: FutureWarning: The behavior of \n",
       "DataFrame concatenation with empty or all-NA entries is deprecated. In a future version, this will no longer \n",
       "exclude empty or all-NA columns when determining the result dtypes. To retain the old behavior, exclude the \n",
       "relevant entries before the concat operation.\n",
       "  results = pd.concat([results, normalized_data]) #.dropna(axis=1, how=\"all\")])\n"
      ]
     },
     "metadata": {},
     "output_type": "display_data"
    },
    {
     "data": {
      "text/html": [
       "<pre style=\"white-space:pre;overflow-x:auto;line-height:normal;font-family:Menlo,'DejaVu Sans Mono',consolas,'Courier New',monospace\">/var/folders/7t/k8q3439j6z3c683j7w00wtm80000gn/T/ipykernel_50509/330735155.py:26: FutureWarning: The behavior of \n",
       "DataFrame concatenation with empty or all-NA entries is deprecated. In a future version, this will no longer \n",
       "exclude empty or all-NA columns when determining the result dtypes. To retain the old behavior, exclude the \n",
       "relevant entries before the concat operation.\n",
       "  results = pd.concat([results, normalized_data]) #.dropna(axis=1, how=\"all\")])\n",
       "</pre>\n"
      ],
      "text/plain": [
       "/var/folders/7t/k8q3439j6z3c683j7w00wtm80000gn/T/ipykernel_50509/330735155.py:26: FutureWarning: The behavior of \n",
       "DataFrame concatenation with empty or all-NA entries is deprecated. In a future version, this will no longer \n",
       "exclude empty or all-NA columns when determining the result dtypes. To retain the old behavior, exclude the \n",
       "relevant entries before the concat operation.\n",
       "  results = pd.concat([results, normalized_data]) #.dropna(axis=1, how=\"all\")])\n"
      ]
     },
     "metadata": {},
     "output_type": "display_data"
    },
    {
     "data": {
      "text/html": [
       "<pre style=\"white-space:pre;overflow-x:auto;line-height:normal;font-family:Menlo,'DejaVu Sans Mono',consolas,'Courier New',monospace\">/var/folders/7t/k8q3439j6z3c683j7w00wtm80000gn/T/ipykernel_50509/330735155.py:26: FutureWarning: The behavior of \n",
       "DataFrame concatenation with empty or all-NA entries is deprecated. In a future version, this will no longer \n",
       "exclude empty or all-NA columns when determining the result dtypes. To retain the old behavior, exclude the \n",
       "relevant entries before the concat operation.\n",
       "  results = pd.concat([results, normalized_data]) #.dropna(axis=1, how=\"all\")])\n",
       "</pre>\n"
      ],
      "text/plain": [
       "/var/folders/7t/k8q3439j6z3c683j7w00wtm80000gn/T/ipykernel_50509/330735155.py:26: FutureWarning: The behavior of \n",
       "DataFrame concatenation with empty or all-NA entries is deprecated. In a future version, this will no longer \n",
       "exclude empty or all-NA columns when determining the result dtypes. To retain the old behavior, exclude the \n",
       "relevant entries before the concat operation.\n",
       "  results = pd.concat([results, normalized_data]) #.dropna(axis=1, how=\"all\")])\n"
      ]
     },
     "metadata": {},
     "output_type": "display_data"
    },
    {
     "data": {
      "text/html": [
       "<pre style=\"white-space:pre;overflow-x:auto;line-height:normal;font-family:Menlo,'DejaVu Sans Mono',consolas,'Courier New',monospace\">/var/folders/7t/k8q3439j6z3c683j7w00wtm80000gn/T/ipykernel_50509/330735155.py:26: FutureWarning: The behavior of \n",
       "DataFrame concatenation with empty or all-NA entries is deprecated. In a future version, this will no longer \n",
       "exclude empty or all-NA columns when determining the result dtypes. To retain the old behavior, exclude the \n",
       "relevant entries before the concat operation.\n",
       "  results = pd.concat([results, normalized_data]) #.dropna(axis=1, how=\"all\")])\n",
       "</pre>\n"
      ],
      "text/plain": [
       "/var/folders/7t/k8q3439j6z3c683j7w00wtm80000gn/T/ipykernel_50509/330735155.py:26: FutureWarning: The behavior of \n",
       "DataFrame concatenation with empty or all-NA entries is deprecated. In a future version, this will no longer \n",
       "exclude empty or all-NA columns when determining the result dtypes. To retain the old behavior, exclude the \n",
       "relevant entries before the concat operation.\n",
       "  results = pd.concat([results, normalized_data]) #.dropna(axis=1, how=\"all\")])\n"
      ]
     },
     "metadata": {},
     "output_type": "display_data"
    },
    {
     "data": {
      "text/html": [
       "<pre style=\"white-space:pre;overflow-x:auto;line-height:normal;font-family:Menlo,'DejaVu Sans Mono',consolas,'Courier New',monospace\">/var/folders/7t/k8q3439j6z3c683j7w00wtm80000gn/T/ipykernel_50509/330735155.py:26: FutureWarning: The behavior of \n",
       "DataFrame concatenation with empty or all-NA entries is deprecated. In a future version, this will no longer \n",
       "exclude empty or all-NA columns when determining the result dtypes. To retain the old behavior, exclude the \n",
       "relevant entries before the concat operation.\n",
       "  results = pd.concat([results, normalized_data]) #.dropna(axis=1, how=\"all\")])\n",
       "</pre>\n"
      ],
      "text/plain": [
       "/var/folders/7t/k8q3439j6z3c683j7w00wtm80000gn/T/ipykernel_50509/330735155.py:26: FutureWarning: The behavior of \n",
       "DataFrame concatenation with empty or all-NA entries is deprecated. In a future version, this will no longer \n",
       "exclude empty or all-NA columns when determining the result dtypes. To retain the old behavior, exclude the \n",
       "relevant entries before the concat operation.\n",
       "  results = pd.concat([results, normalized_data]) #.dropna(axis=1, how=\"all\")])\n"
      ]
     },
     "metadata": {},
     "output_type": "display_data"
    },
    {
     "data": {
      "text/html": [
       "<pre style=\"white-space:pre;overflow-x:auto;line-height:normal;font-family:Menlo,'DejaVu Sans Mono',consolas,'Courier New',monospace\">/var/folders/7t/k8q3439j6z3c683j7w00wtm80000gn/T/ipykernel_50509/330735155.py:26: FutureWarning: The behavior of \n",
       "DataFrame concatenation with empty or all-NA entries is deprecated. In a future version, this will no longer \n",
       "exclude empty or all-NA columns when determining the result dtypes. To retain the old behavior, exclude the \n",
       "relevant entries before the concat operation.\n",
       "  results = pd.concat([results, normalized_data]) #.dropna(axis=1, how=\"all\")])\n",
       "</pre>\n"
      ],
      "text/plain": [
       "/var/folders/7t/k8q3439j6z3c683j7w00wtm80000gn/T/ipykernel_50509/330735155.py:26: FutureWarning: The behavior of \n",
       "DataFrame concatenation with empty or all-NA entries is deprecated. In a future version, this will no longer \n",
       "exclude empty or all-NA columns when determining the result dtypes. To retain the old behavior, exclude the \n",
       "relevant entries before the concat operation.\n",
       "  results = pd.concat([results, normalized_data]) #.dropna(axis=1, how=\"all\")])\n"
      ]
     },
     "metadata": {},
     "output_type": "display_data"
    },
    {
     "data": {
      "text/html": [
       "<pre style=\"white-space:pre;overflow-x:auto;line-height:normal;font-family:Menlo,'DejaVu Sans Mono',consolas,'Courier New',monospace\">/var/folders/7t/k8q3439j6z3c683j7w00wtm80000gn/T/ipykernel_50509/330735155.py:26: FutureWarning: The behavior of \n",
       "DataFrame concatenation with empty or all-NA entries is deprecated. In a future version, this will no longer \n",
       "exclude empty or all-NA columns when determining the result dtypes. To retain the old behavior, exclude the \n",
       "relevant entries before the concat operation.\n",
       "  results = pd.concat([results, normalized_data]) #.dropna(axis=1, how=\"all\")])\n",
       "</pre>\n"
      ],
      "text/plain": [
       "/var/folders/7t/k8q3439j6z3c683j7w00wtm80000gn/T/ipykernel_50509/330735155.py:26: FutureWarning: The behavior of \n",
       "DataFrame concatenation with empty or all-NA entries is deprecated. In a future version, this will no longer \n",
       "exclude empty or all-NA columns when determining the result dtypes. To retain the old behavior, exclude the \n",
       "relevant entries before the concat operation.\n",
       "  results = pd.concat([results, normalized_data]) #.dropna(axis=1, how=\"all\")])\n"
      ]
     },
     "metadata": {},
     "output_type": "display_data"
    },
    {
     "data": {
      "text/html": [
       "<pre style=\"white-space:pre;overflow-x:auto;line-height:normal;font-family:Menlo,'DejaVu Sans Mono',consolas,'Courier New',monospace\">/var/folders/7t/k8q3439j6z3c683j7w00wtm80000gn/T/ipykernel_50509/330735155.py:26: FutureWarning: The behavior of \n",
       "DataFrame concatenation with empty or all-NA entries is deprecated. In a future version, this will no longer \n",
       "exclude empty or all-NA columns when determining the result dtypes. To retain the old behavior, exclude the \n",
       "relevant entries before the concat operation.\n",
       "  results = pd.concat([results, normalized_data]) #.dropna(axis=1, how=\"all\")])\n",
       "</pre>\n"
      ],
      "text/plain": [
       "/var/folders/7t/k8q3439j6z3c683j7w00wtm80000gn/T/ipykernel_50509/330735155.py:26: FutureWarning: The behavior of \n",
       "DataFrame concatenation with empty or all-NA entries is deprecated. In a future version, this will no longer \n",
       "exclude empty or all-NA columns when determining the result dtypes. To retain the old behavior, exclude the \n",
       "relevant entries before the concat operation.\n",
       "  results = pd.concat([results, normalized_data]) #.dropna(axis=1, how=\"all\")])\n"
      ]
     },
     "metadata": {},
     "output_type": "display_data"
    },
    {
     "data": {
      "text/html": [
       "<pre style=\"white-space:pre;overflow-x:auto;line-height:normal;font-family:Menlo,'DejaVu Sans Mono',consolas,'Courier New',monospace\">/var/folders/7t/k8q3439j6z3c683j7w00wtm80000gn/T/ipykernel_50509/330735155.py:26: FutureWarning: The behavior of \n",
       "DataFrame concatenation with empty or all-NA entries is deprecated. In a future version, this will no longer \n",
       "exclude empty or all-NA columns when determining the result dtypes. To retain the old behavior, exclude the \n",
       "relevant entries before the concat operation.\n",
       "  results = pd.concat([results, normalized_data]) #.dropna(axis=1, how=\"all\")])\n",
       "</pre>\n"
      ],
      "text/plain": [
       "/var/folders/7t/k8q3439j6z3c683j7w00wtm80000gn/T/ipykernel_50509/330735155.py:26: FutureWarning: The behavior of \n",
       "DataFrame concatenation with empty or all-NA entries is deprecated. In a future version, this will no longer \n",
       "exclude empty or all-NA columns when determining the result dtypes. To retain the old behavior, exclude the \n",
       "relevant entries before the concat operation.\n",
       "  results = pd.concat([results, normalized_data]) #.dropna(axis=1, how=\"all\")])\n"
      ]
     },
     "metadata": {},
     "output_type": "display_data"
    },
    {
     "data": {
      "text/html": [
       "<pre style=\"white-space:pre;overflow-x:auto;line-height:normal;font-family:Menlo,'DejaVu Sans Mono',consolas,'Courier New',monospace\">/var/folders/7t/k8q3439j6z3c683j7w00wtm80000gn/T/ipykernel_50509/330735155.py:26: FutureWarning: The behavior of \n",
       "DataFrame concatenation with empty or all-NA entries is deprecated. In a future version, this will no longer \n",
       "exclude empty or all-NA columns when determining the result dtypes. To retain the old behavior, exclude the \n",
       "relevant entries before the concat operation.\n",
       "  results = pd.concat([results, normalized_data]) #.dropna(axis=1, how=\"all\")])\n",
       "</pre>\n"
      ],
      "text/plain": [
       "/var/folders/7t/k8q3439j6z3c683j7w00wtm80000gn/T/ipykernel_50509/330735155.py:26: FutureWarning: The behavior of \n",
       "DataFrame concatenation with empty or all-NA entries is deprecated. In a future version, this will no longer \n",
       "exclude empty or all-NA columns when determining the result dtypes. To retain the old behavior, exclude the \n",
       "relevant entries before the concat operation.\n",
       "  results = pd.concat([results, normalized_data]) #.dropna(axis=1, how=\"all\")])\n"
      ]
     },
     "metadata": {},
     "output_type": "display_data"
    },
    {
     "data": {
      "text/html": [
       "<pre style=\"white-space:pre;overflow-x:auto;line-height:normal;font-family:Menlo,'DejaVu Sans Mono',consolas,'Courier New',monospace\">/var/folders/7t/k8q3439j6z3c683j7w00wtm80000gn/T/ipykernel_50509/330735155.py:26: FutureWarning: The behavior of \n",
       "DataFrame concatenation with empty or all-NA entries is deprecated. In a future version, this will no longer \n",
       "exclude empty or all-NA columns when determining the result dtypes. To retain the old behavior, exclude the \n",
       "relevant entries before the concat operation.\n",
       "  results = pd.concat([results, normalized_data]) #.dropna(axis=1, how=\"all\")])\n",
       "</pre>\n"
      ],
      "text/plain": [
       "/var/folders/7t/k8q3439j6z3c683j7w00wtm80000gn/T/ipykernel_50509/330735155.py:26: FutureWarning: The behavior of \n",
       "DataFrame concatenation with empty or all-NA entries is deprecated. In a future version, this will no longer \n",
       "exclude empty or all-NA columns when determining the result dtypes. To retain the old behavior, exclude the \n",
       "relevant entries before the concat operation.\n",
       "  results = pd.concat([results, normalized_data]) #.dropna(axis=1, how=\"all\")])\n"
      ]
     },
     "metadata": {},
     "output_type": "display_data"
    },
    {
     "data": {
      "text/html": [
       "<pre style=\"white-space:pre;overflow-x:auto;line-height:normal;font-family:Menlo,'DejaVu Sans Mono',consolas,'Courier New',monospace\">/var/folders/7t/k8q3439j6z3c683j7w00wtm80000gn/T/ipykernel_50509/330735155.py:26: FutureWarning: The behavior of \n",
       "DataFrame concatenation with empty or all-NA entries is deprecated. In a future version, this will no longer \n",
       "exclude empty or all-NA columns when determining the result dtypes. To retain the old behavior, exclude the \n",
       "relevant entries before the concat operation.\n",
       "  results = pd.concat([results, normalized_data]) #.dropna(axis=1, how=\"all\")])\n",
       "</pre>\n"
      ],
      "text/plain": [
       "/var/folders/7t/k8q3439j6z3c683j7w00wtm80000gn/T/ipykernel_50509/330735155.py:26: FutureWarning: The behavior of \n",
       "DataFrame concatenation with empty or all-NA entries is deprecated. In a future version, this will no longer \n",
       "exclude empty or all-NA columns when determining the result dtypes. To retain the old behavior, exclude the \n",
       "relevant entries before the concat operation.\n",
       "  results = pd.concat([results, normalized_data]) #.dropna(axis=1, how=\"all\")])\n"
      ]
     },
     "metadata": {},
     "output_type": "display_data"
    },
    {
     "data": {
      "text/html": [
       "<pre style=\"white-space:pre;overflow-x:auto;line-height:normal;font-family:Menlo,'DejaVu Sans Mono',consolas,'Courier New',monospace\">/var/folders/7t/k8q3439j6z3c683j7w00wtm80000gn/T/ipykernel_50509/330735155.py:26: FutureWarning: The behavior of \n",
       "DataFrame concatenation with empty or all-NA entries is deprecated. In a future version, this will no longer \n",
       "exclude empty or all-NA columns when determining the result dtypes. To retain the old behavior, exclude the \n",
       "relevant entries before the concat operation.\n",
       "  results = pd.concat([results, normalized_data]) #.dropna(axis=1, how=\"all\")])\n",
       "</pre>\n"
      ],
      "text/plain": [
       "/var/folders/7t/k8q3439j6z3c683j7w00wtm80000gn/T/ipykernel_50509/330735155.py:26: FutureWarning: The behavior of \n",
       "DataFrame concatenation with empty or all-NA entries is deprecated. In a future version, this will no longer \n",
       "exclude empty or all-NA columns when determining the result dtypes. To retain the old behavior, exclude the \n",
       "relevant entries before the concat operation.\n",
       "  results = pd.concat([results, normalized_data]) #.dropna(axis=1, how=\"all\")])\n"
      ]
     },
     "metadata": {},
     "output_type": "display_data"
    },
    {
     "data": {
      "text/html": [
       "<pre style=\"white-space:pre;overflow-x:auto;line-height:normal;font-family:Menlo,'DejaVu Sans Mono',consolas,'Courier New',monospace\">/var/folders/7t/k8q3439j6z3c683j7w00wtm80000gn/T/ipykernel_50509/330735155.py:26: FutureWarning: The behavior of \n",
       "DataFrame concatenation with empty or all-NA entries is deprecated. In a future version, this will no longer \n",
       "exclude empty or all-NA columns when determining the result dtypes. To retain the old behavior, exclude the \n",
       "relevant entries before the concat operation.\n",
       "  results = pd.concat([results, normalized_data]) #.dropna(axis=1, how=\"all\")])\n",
       "</pre>\n"
      ],
      "text/plain": [
       "/var/folders/7t/k8q3439j6z3c683j7w00wtm80000gn/T/ipykernel_50509/330735155.py:26: FutureWarning: The behavior of \n",
       "DataFrame concatenation with empty or all-NA entries is deprecated. In a future version, this will no longer \n",
       "exclude empty or all-NA columns when determining the result dtypes. To retain the old behavior, exclude the \n",
       "relevant entries before the concat operation.\n",
       "  results = pd.concat([results, normalized_data]) #.dropna(axis=1, how=\"all\")])\n"
      ]
     },
     "metadata": {},
     "output_type": "display_data"
    },
    {
     "data": {
      "text/html": [
       "<pre style=\"white-space:pre;overflow-x:auto;line-height:normal;font-family:Menlo,'DejaVu Sans Mono',consolas,'Courier New',monospace\">/var/folders/7t/k8q3439j6z3c683j7w00wtm80000gn/T/ipykernel_50509/330735155.py:26: FutureWarning: The behavior of \n",
       "DataFrame concatenation with empty or all-NA entries is deprecated. In a future version, this will no longer \n",
       "exclude empty or all-NA columns when determining the result dtypes. To retain the old behavior, exclude the \n",
       "relevant entries before the concat operation.\n",
       "  results = pd.concat([results, normalized_data]) #.dropna(axis=1, how=\"all\")])\n",
       "</pre>\n"
      ],
      "text/plain": [
       "/var/folders/7t/k8q3439j6z3c683j7w00wtm80000gn/T/ipykernel_50509/330735155.py:26: FutureWarning: The behavior of \n",
       "DataFrame concatenation with empty or all-NA entries is deprecated. In a future version, this will no longer \n",
       "exclude empty or all-NA columns when determining the result dtypes. To retain the old behavior, exclude the \n",
       "relevant entries before the concat operation.\n",
       "  results = pd.concat([results, normalized_data]) #.dropna(axis=1, how=\"all\")])\n"
      ]
     },
     "metadata": {},
     "output_type": "display_data"
    },
    {
     "data": {
      "text/html": [
       "<pre style=\"white-space:pre;overflow-x:auto;line-height:normal;font-family:Menlo,'DejaVu Sans Mono',consolas,'Courier New',monospace\">/var/folders/7t/k8q3439j6z3c683j7w00wtm80000gn/T/ipykernel_50509/330735155.py:26: FutureWarning: The behavior of \n",
       "DataFrame concatenation with empty or all-NA entries is deprecated. In a future version, this will no longer \n",
       "exclude empty or all-NA columns when determining the result dtypes. To retain the old behavior, exclude the \n",
       "relevant entries before the concat operation.\n",
       "  results = pd.concat([results, normalized_data]) #.dropna(axis=1, how=\"all\")])\n",
       "</pre>\n"
      ],
      "text/plain": [
       "/var/folders/7t/k8q3439j6z3c683j7w00wtm80000gn/T/ipykernel_50509/330735155.py:26: FutureWarning: The behavior of \n",
       "DataFrame concatenation with empty or all-NA entries is deprecated. In a future version, this will no longer \n",
       "exclude empty or all-NA columns when determining the result dtypes. To retain the old behavior, exclude the \n",
       "relevant entries before the concat operation.\n",
       "  results = pd.concat([results, normalized_data]) #.dropna(axis=1, how=\"all\")])\n"
      ]
     },
     "metadata": {},
     "output_type": "display_data"
    },
    {
     "data": {
      "text/html": [
       "<pre style=\"white-space:pre;overflow-x:auto;line-height:normal;font-family:Menlo,'DejaVu Sans Mono',consolas,'Courier New',monospace\">/var/folders/7t/k8q3439j6z3c683j7w00wtm80000gn/T/ipykernel_50509/330735155.py:26: FutureWarning: The behavior of \n",
       "DataFrame concatenation with empty or all-NA entries is deprecated. In a future version, this will no longer \n",
       "exclude empty or all-NA columns when determining the result dtypes. To retain the old behavior, exclude the \n",
       "relevant entries before the concat operation.\n",
       "  results = pd.concat([results, normalized_data]) #.dropna(axis=1, how=\"all\")])\n",
       "</pre>\n"
      ],
      "text/plain": [
       "/var/folders/7t/k8q3439j6z3c683j7w00wtm80000gn/T/ipykernel_50509/330735155.py:26: FutureWarning: The behavior of \n",
       "DataFrame concatenation with empty or all-NA entries is deprecated. In a future version, this will no longer \n",
       "exclude empty or all-NA columns when determining the result dtypes. To retain the old behavior, exclude the \n",
       "relevant entries before the concat operation.\n",
       "  results = pd.concat([results, normalized_data]) #.dropna(axis=1, how=\"all\")])\n"
      ]
     },
     "metadata": {},
     "output_type": "display_data"
    },
    {
     "data": {
      "text/html": [
       "<pre style=\"white-space:pre;overflow-x:auto;line-height:normal;font-family:Menlo,'DejaVu Sans Mono',consolas,'Courier New',monospace\">/var/folders/7t/k8q3439j6z3c683j7w00wtm80000gn/T/ipykernel_50509/330735155.py:26: FutureWarning: The behavior of \n",
       "DataFrame concatenation with empty or all-NA entries is deprecated. In a future version, this will no longer \n",
       "exclude empty or all-NA columns when determining the result dtypes. To retain the old behavior, exclude the \n",
       "relevant entries before the concat operation.\n",
       "  results = pd.concat([results, normalized_data]) #.dropna(axis=1, how=\"all\")])\n",
       "</pre>\n"
      ],
      "text/plain": [
       "/var/folders/7t/k8q3439j6z3c683j7w00wtm80000gn/T/ipykernel_50509/330735155.py:26: FutureWarning: The behavior of \n",
       "DataFrame concatenation with empty or all-NA entries is deprecated. In a future version, this will no longer \n",
       "exclude empty or all-NA columns when determining the result dtypes. To retain the old behavior, exclude the \n",
       "relevant entries before the concat operation.\n",
       "  results = pd.concat([results, normalized_data]) #.dropna(axis=1, how=\"all\")])\n"
      ]
     },
     "metadata": {},
     "output_type": "display_data"
    },
    {
     "data": {
      "text/html": [
       "<pre style=\"white-space:pre;overflow-x:auto;line-height:normal;font-family:Menlo,'DejaVu Sans Mono',consolas,'Courier New',monospace\">/var/folders/7t/k8q3439j6z3c683j7w00wtm80000gn/T/ipykernel_50509/330735155.py:26: FutureWarning: The behavior of \n",
       "DataFrame concatenation with empty or all-NA entries is deprecated. In a future version, this will no longer \n",
       "exclude empty or all-NA columns when determining the result dtypes. To retain the old behavior, exclude the \n",
       "relevant entries before the concat operation.\n",
       "  results = pd.concat([results, normalized_data]) #.dropna(axis=1, how=\"all\")])\n",
       "</pre>\n"
      ],
      "text/plain": [
       "/var/folders/7t/k8q3439j6z3c683j7w00wtm80000gn/T/ipykernel_50509/330735155.py:26: FutureWarning: The behavior of \n",
       "DataFrame concatenation with empty or all-NA entries is deprecated. In a future version, this will no longer \n",
       "exclude empty or all-NA columns when determining the result dtypes. To retain the old behavior, exclude the \n",
       "relevant entries before the concat operation.\n",
       "  results = pd.concat([results, normalized_data]) #.dropna(axis=1, how=\"all\")])\n"
      ]
     },
     "metadata": {},
     "output_type": "display_data"
    },
    {
     "data": {
      "text/html": [
       "<pre style=\"white-space:pre;overflow-x:auto;line-height:normal;font-family:Menlo,'DejaVu Sans Mono',consolas,'Courier New',monospace\">/var/folders/7t/k8q3439j6z3c683j7w00wtm80000gn/T/ipykernel_50509/330735155.py:26: FutureWarning: The behavior of \n",
       "DataFrame concatenation with empty or all-NA entries is deprecated. In a future version, this will no longer \n",
       "exclude empty or all-NA columns when determining the result dtypes. To retain the old behavior, exclude the \n",
       "relevant entries before the concat operation.\n",
       "  results = pd.concat([results, normalized_data]) #.dropna(axis=1, how=\"all\")])\n",
       "</pre>\n"
      ],
      "text/plain": [
       "/var/folders/7t/k8q3439j6z3c683j7w00wtm80000gn/T/ipykernel_50509/330735155.py:26: FutureWarning: The behavior of \n",
       "DataFrame concatenation with empty or all-NA entries is deprecated. In a future version, this will no longer \n",
       "exclude empty or all-NA columns when determining the result dtypes. To retain the old behavior, exclude the \n",
       "relevant entries before the concat operation.\n",
       "  results = pd.concat([results, normalized_data]) #.dropna(axis=1, how=\"all\")])\n"
      ]
     },
     "metadata": {},
     "output_type": "display_data"
    },
    {
     "data": {
      "text/html": [
       "<pre style=\"white-space:pre;overflow-x:auto;line-height:normal;font-family:Menlo,'DejaVu Sans Mono',consolas,'Courier New',monospace\">/var/folders/7t/k8q3439j6z3c683j7w00wtm80000gn/T/ipykernel_50509/330735155.py:26: FutureWarning: The behavior of \n",
       "DataFrame concatenation with empty or all-NA entries is deprecated. In a future version, this will no longer \n",
       "exclude empty or all-NA columns when determining the result dtypes. To retain the old behavior, exclude the \n",
       "relevant entries before the concat operation.\n",
       "  results = pd.concat([results, normalized_data]) #.dropna(axis=1, how=\"all\")])\n",
       "</pre>\n"
      ],
      "text/plain": [
       "/var/folders/7t/k8q3439j6z3c683j7w00wtm80000gn/T/ipykernel_50509/330735155.py:26: FutureWarning: The behavior of \n",
       "DataFrame concatenation with empty or all-NA entries is deprecated. In a future version, this will no longer \n",
       "exclude empty or all-NA columns when determining the result dtypes. To retain the old behavior, exclude the \n",
       "relevant entries before the concat operation.\n",
       "  results = pd.concat([results, normalized_data]) #.dropna(axis=1, how=\"all\")])\n"
      ]
     },
     "metadata": {},
     "output_type": "display_data"
    },
    {
     "data": {
      "text/html": [
       "<pre style=\"white-space:pre;overflow-x:auto;line-height:normal;font-family:Menlo,'DejaVu Sans Mono',consolas,'Courier New',monospace\">/var/folders/7t/k8q3439j6z3c683j7w00wtm80000gn/T/ipykernel_50509/330735155.py:26: FutureWarning: The behavior of \n",
       "DataFrame concatenation with empty or all-NA entries is deprecated. In a future version, this will no longer \n",
       "exclude empty or all-NA columns when determining the result dtypes. To retain the old behavior, exclude the \n",
       "relevant entries before the concat operation.\n",
       "  results = pd.concat([results, normalized_data]) #.dropna(axis=1, how=\"all\")])\n",
       "</pre>\n"
      ],
      "text/plain": [
       "/var/folders/7t/k8q3439j6z3c683j7w00wtm80000gn/T/ipykernel_50509/330735155.py:26: FutureWarning: The behavior of \n",
       "DataFrame concatenation with empty or all-NA entries is deprecated. In a future version, this will no longer \n",
       "exclude empty or all-NA columns when determining the result dtypes. To retain the old behavior, exclude the \n",
       "relevant entries before the concat operation.\n",
       "  results = pd.concat([results, normalized_data]) #.dropna(axis=1, how=\"all\")])\n"
      ]
     },
     "metadata": {},
     "output_type": "display_data"
    },
    {
     "data": {
      "text/html": [
       "<pre style=\"white-space:pre;overflow-x:auto;line-height:normal;font-family:Menlo,'DejaVu Sans Mono',consolas,'Courier New',monospace\">/var/folders/7t/k8q3439j6z3c683j7w00wtm80000gn/T/ipykernel_50509/330735155.py:26: FutureWarning: The behavior of \n",
       "DataFrame concatenation with empty or all-NA entries is deprecated. In a future version, this will no longer \n",
       "exclude empty or all-NA columns when determining the result dtypes. To retain the old behavior, exclude the \n",
       "relevant entries before the concat operation.\n",
       "  results = pd.concat([results, normalized_data]) #.dropna(axis=1, how=\"all\")])\n",
       "</pre>\n"
      ],
      "text/plain": [
       "/var/folders/7t/k8q3439j6z3c683j7w00wtm80000gn/T/ipykernel_50509/330735155.py:26: FutureWarning: The behavior of \n",
       "DataFrame concatenation with empty or all-NA entries is deprecated. In a future version, this will no longer \n",
       "exclude empty or all-NA columns when determining the result dtypes. To retain the old behavior, exclude the \n",
       "relevant entries before the concat operation.\n",
       "  results = pd.concat([results, normalized_data]) #.dropna(axis=1, how=\"all\")])\n"
      ]
     },
     "metadata": {},
     "output_type": "display_data"
    },
    {
     "data": {
      "text/html": [
       "<pre style=\"white-space:pre;overflow-x:auto;line-height:normal;font-family:Menlo,'DejaVu Sans Mono',consolas,'Courier New',monospace\">/var/folders/7t/k8q3439j6z3c683j7w00wtm80000gn/T/ipykernel_50509/330735155.py:26: FutureWarning: The behavior of \n",
       "DataFrame concatenation with empty or all-NA entries is deprecated. In a future version, this will no longer \n",
       "exclude empty or all-NA columns when determining the result dtypes. To retain the old behavior, exclude the \n",
       "relevant entries before the concat operation.\n",
       "  results = pd.concat([results, normalized_data]) #.dropna(axis=1, how=\"all\")])\n",
       "</pre>\n"
      ],
      "text/plain": [
       "/var/folders/7t/k8q3439j6z3c683j7w00wtm80000gn/T/ipykernel_50509/330735155.py:26: FutureWarning: The behavior of \n",
       "DataFrame concatenation with empty or all-NA entries is deprecated. In a future version, this will no longer \n",
       "exclude empty or all-NA columns when determining the result dtypes. To retain the old behavior, exclude the \n",
       "relevant entries before the concat operation.\n",
       "  results = pd.concat([results, normalized_data]) #.dropna(axis=1, how=\"all\")])\n"
      ]
     },
     "metadata": {},
     "output_type": "display_data"
    },
    {
     "data": {
      "text/html": [
       "<pre style=\"white-space:pre;overflow-x:auto;line-height:normal;font-family:Menlo,'DejaVu Sans Mono',consolas,'Courier New',monospace\">/var/folders/7t/k8q3439j6z3c683j7w00wtm80000gn/T/ipykernel_50509/330735155.py:26: FutureWarning: The behavior of \n",
       "DataFrame concatenation with empty or all-NA entries is deprecated. In a future version, this will no longer \n",
       "exclude empty or all-NA columns when determining the result dtypes. To retain the old behavior, exclude the \n",
       "relevant entries before the concat operation.\n",
       "  results = pd.concat([results, normalized_data]) #.dropna(axis=1, how=\"all\")])\n",
       "</pre>\n"
      ],
      "text/plain": [
       "/var/folders/7t/k8q3439j6z3c683j7w00wtm80000gn/T/ipykernel_50509/330735155.py:26: FutureWarning: The behavior of \n",
       "DataFrame concatenation with empty or all-NA entries is deprecated. In a future version, this will no longer \n",
       "exclude empty or all-NA columns when determining the result dtypes. To retain the old behavior, exclude the \n",
       "relevant entries before the concat operation.\n",
       "  results = pd.concat([results, normalized_data]) #.dropna(axis=1, how=\"all\")])\n"
      ]
     },
     "metadata": {},
     "output_type": "display_data"
    },
    {
     "data": {
      "text/html": [
       "<pre style=\"white-space:pre;overflow-x:auto;line-height:normal;font-family:Menlo,'DejaVu Sans Mono',consolas,'Courier New',monospace\">/var/folders/7t/k8q3439j6z3c683j7w00wtm80000gn/T/ipykernel_50509/330735155.py:26: FutureWarning: The behavior of \n",
       "DataFrame concatenation with empty or all-NA entries is deprecated. In a future version, this will no longer \n",
       "exclude empty or all-NA columns when determining the result dtypes. To retain the old behavior, exclude the \n",
       "relevant entries before the concat operation.\n",
       "  results = pd.concat([results, normalized_data]) #.dropna(axis=1, how=\"all\")])\n",
       "</pre>\n"
      ],
      "text/plain": [
       "/var/folders/7t/k8q3439j6z3c683j7w00wtm80000gn/T/ipykernel_50509/330735155.py:26: FutureWarning: The behavior of \n",
       "DataFrame concatenation with empty or all-NA entries is deprecated. In a future version, this will no longer \n",
       "exclude empty or all-NA columns when determining the result dtypes. To retain the old behavior, exclude the \n",
       "relevant entries before the concat operation.\n",
       "  results = pd.concat([results, normalized_data]) #.dropna(axis=1, how=\"all\")])\n"
      ]
     },
     "metadata": {},
     "output_type": "display_data"
    },
    {
     "data": {
      "text/html": [
       "<pre style=\"white-space:pre;overflow-x:auto;line-height:normal;font-family:Menlo,'DejaVu Sans Mono',consolas,'Courier New',monospace\">/var/folders/7t/k8q3439j6z3c683j7w00wtm80000gn/T/ipykernel_50509/330735155.py:26: FutureWarning: The behavior of \n",
       "DataFrame concatenation with empty or all-NA entries is deprecated. In a future version, this will no longer \n",
       "exclude empty or all-NA columns when determining the result dtypes. To retain the old behavior, exclude the \n",
       "relevant entries before the concat operation.\n",
       "  results = pd.concat([results, normalized_data]) #.dropna(axis=1, how=\"all\")])\n",
       "</pre>\n"
      ],
      "text/plain": [
       "/var/folders/7t/k8q3439j6z3c683j7w00wtm80000gn/T/ipykernel_50509/330735155.py:26: FutureWarning: The behavior of \n",
       "DataFrame concatenation with empty or all-NA entries is deprecated. In a future version, this will no longer \n",
       "exclude empty or all-NA columns when determining the result dtypes. To retain the old behavior, exclude the \n",
       "relevant entries before the concat operation.\n",
       "  results = pd.concat([results, normalized_data]) #.dropna(axis=1, how=\"all\")])\n"
      ]
     },
     "metadata": {},
     "output_type": "display_data"
    },
    {
     "data": {
      "text/html": [
       "<pre style=\"white-space:pre;overflow-x:auto;line-height:normal;font-family:Menlo,'DejaVu Sans Mono',consolas,'Courier New',monospace\">/var/folders/7t/k8q3439j6z3c683j7w00wtm80000gn/T/ipykernel_50509/330735155.py:26: FutureWarning: The behavior of \n",
       "DataFrame concatenation with empty or all-NA entries is deprecated. In a future version, this will no longer \n",
       "exclude empty or all-NA columns when determining the result dtypes. To retain the old behavior, exclude the \n",
       "relevant entries before the concat operation.\n",
       "  results = pd.concat([results, normalized_data]) #.dropna(axis=1, how=\"all\")])\n",
       "</pre>\n"
      ],
      "text/plain": [
       "/var/folders/7t/k8q3439j6z3c683j7w00wtm80000gn/T/ipykernel_50509/330735155.py:26: FutureWarning: The behavior of \n",
       "DataFrame concatenation with empty or all-NA entries is deprecated. In a future version, this will no longer \n",
       "exclude empty or all-NA columns when determining the result dtypes. To retain the old behavior, exclude the \n",
       "relevant entries before the concat operation.\n",
       "  results = pd.concat([results, normalized_data]) #.dropna(axis=1, how=\"all\")])\n"
      ]
     },
     "metadata": {},
     "output_type": "display_data"
    },
    {
     "data": {
      "text/html": [
       "<pre style=\"white-space:pre;overflow-x:auto;line-height:normal;font-family:Menlo,'DejaVu Sans Mono',consolas,'Courier New',monospace\">/var/folders/7t/k8q3439j6z3c683j7w00wtm80000gn/T/ipykernel_50509/330735155.py:26: FutureWarning: The behavior of \n",
       "DataFrame concatenation with empty or all-NA entries is deprecated. In a future version, this will no longer \n",
       "exclude empty or all-NA columns when determining the result dtypes. To retain the old behavior, exclude the \n",
       "relevant entries before the concat operation.\n",
       "  results = pd.concat([results, normalized_data]) #.dropna(axis=1, how=\"all\")])\n",
       "</pre>\n"
      ],
      "text/plain": [
       "/var/folders/7t/k8q3439j6z3c683j7w00wtm80000gn/T/ipykernel_50509/330735155.py:26: FutureWarning: The behavior of \n",
       "DataFrame concatenation with empty or all-NA entries is deprecated. In a future version, this will no longer \n",
       "exclude empty or all-NA columns when determining the result dtypes. To retain the old behavior, exclude the \n",
       "relevant entries before the concat operation.\n",
       "  results = pd.concat([results, normalized_data]) #.dropna(axis=1, how=\"all\")])\n"
      ]
     },
     "metadata": {},
     "output_type": "display_data"
    },
    {
     "data": {
      "text/html": [
       "<pre style=\"white-space:pre;overflow-x:auto;line-height:normal;font-family:Menlo,'DejaVu Sans Mono',consolas,'Courier New',monospace\">/var/folders/7t/k8q3439j6z3c683j7w00wtm80000gn/T/ipykernel_50509/330735155.py:26: FutureWarning: The behavior of \n",
       "DataFrame concatenation with empty or all-NA entries is deprecated. In a future version, this will no longer \n",
       "exclude empty or all-NA columns when determining the result dtypes. To retain the old behavior, exclude the \n",
       "relevant entries before the concat operation.\n",
       "  results = pd.concat([results, normalized_data]) #.dropna(axis=1, how=\"all\")])\n",
       "</pre>\n"
      ],
      "text/plain": [
       "/var/folders/7t/k8q3439j6z3c683j7w00wtm80000gn/T/ipykernel_50509/330735155.py:26: FutureWarning: The behavior of \n",
       "DataFrame concatenation with empty or all-NA entries is deprecated. In a future version, this will no longer \n",
       "exclude empty or all-NA columns when determining the result dtypes. To retain the old behavior, exclude the \n",
       "relevant entries before the concat operation.\n",
       "  results = pd.concat([results, normalized_data]) #.dropna(axis=1, how=\"all\")])\n"
      ]
     },
     "metadata": {},
     "output_type": "display_data"
    },
    {
     "data": {
      "text/html": [
       "<pre style=\"white-space:pre;overflow-x:auto;line-height:normal;font-family:Menlo,'DejaVu Sans Mono',consolas,'Courier New',monospace\">/var/folders/7t/k8q3439j6z3c683j7w00wtm80000gn/T/ipykernel_50509/330735155.py:26: FutureWarning: The behavior of \n",
       "DataFrame concatenation with empty or all-NA entries is deprecated. In a future version, this will no longer \n",
       "exclude empty or all-NA columns when determining the result dtypes. To retain the old behavior, exclude the \n",
       "relevant entries before the concat operation.\n",
       "  results = pd.concat([results, normalized_data]) #.dropna(axis=1, how=\"all\")])\n",
       "</pre>\n"
      ],
      "text/plain": [
       "/var/folders/7t/k8q3439j6z3c683j7w00wtm80000gn/T/ipykernel_50509/330735155.py:26: FutureWarning: The behavior of \n",
       "DataFrame concatenation with empty or all-NA entries is deprecated. In a future version, this will no longer \n",
       "exclude empty or all-NA columns when determining the result dtypes. To retain the old behavior, exclude the \n",
       "relevant entries before the concat operation.\n",
       "  results = pd.concat([results, normalized_data]) #.dropna(axis=1, how=\"all\")])\n"
      ]
     },
     "metadata": {},
     "output_type": "display_data"
    },
    {
     "data": {
      "text/html": [
       "<pre style=\"white-space:pre;overflow-x:auto;line-height:normal;font-family:Menlo,'DejaVu Sans Mono',consolas,'Courier New',monospace\">/var/folders/7t/k8q3439j6z3c683j7w00wtm80000gn/T/ipykernel_50509/330735155.py:26: FutureWarning: The behavior of \n",
       "DataFrame concatenation with empty or all-NA entries is deprecated. In a future version, this will no longer \n",
       "exclude empty or all-NA columns when determining the result dtypes. To retain the old behavior, exclude the \n",
       "relevant entries before the concat operation.\n",
       "  results = pd.concat([results, normalized_data]) #.dropna(axis=1, how=\"all\")])\n",
       "</pre>\n"
      ],
      "text/plain": [
       "/var/folders/7t/k8q3439j6z3c683j7w00wtm80000gn/T/ipykernel_50509/330735155.py:26: FutureWarning: The behavior of \n",
       "DataFrame concatenation with empty or all-NA entries is deprecated. In a future version, this will no longer \n",
       "exclude empty or all-NA columns when determining the result dtypes. To retain the old behavior, exclude the \n",
       "relevant entries before the concat operation.\n",
       "  results = pd.concat([results, normalized_data]) #.dropna(axis=1, how=\"all\")])\n"
      ]
     },
     "metadata": {},
     "output_type": "display_data"
    },
    {
     "data": {
      "text/html": [
       "<pre style=\"white-space:pre;overflow-x:auto;line-height:normal;font-family:Menlo,'DejaVu Sans Mono',consolas,'Courier New',monospace\">/var/folders/7t/k8q3439j6z3c683j7w00wtm80000gn/T/ipykernel_50509/330735155.py:26: FutureWarning: The behavior of \n",
       "DataFrame concatenation with empty or all-NA entries is deprecated. In a future version, this will no longer \n",
       "exclude empty or all-NA columns when determining the result dtypes. To retain the old behavior, exclude the \n",
       "relevant entries before the concat operation.\n",
       "  results = pd.concat([results, normalized_data]) #.dropna(axis=1, how=\"all\")])\n",
       "</pre>\n"
      ],
      "text/plain": [
       "/var/folders/7t/k8q3439j6z3c683j7w00wtm80000gn/T/ipykernel_50509/330735155.py:26: FutureWarning: The behavior of \n",
       "DataFrame concatenation with empty or all-NA entries is deprecated. In a future version, this will no longer \n",
       "exclude empty or all-NA columns when determining the result dtypes. To retain the old behavior, exclude the \n",
       "relevant entries before the concat operation.\n",
       "  results = pd.concat([results, normalized_data]) #.dropna(axis=1, how=\"all\")])\n"
      ]
     },
     "metadata": {},
     "output_type": "display_data"
    },
    {
     "data": {
      "text/html": [
       "<pre style=\"white-space:pre;overflow-x:auto;line-height:normal;font-family:Menlo,'DejaVu Sans Mono',consolas,'Courier New',monospace\">/var/folders/7t/k8q3439j6z3c683j7w00wtm80000gn/T/ipykernel_50509/330735155.py:26: FutureWarning: The behavior of \n",
       "DataFrame concatenation with empty or all-NA entries is deprecated. In a future version, this will no longer \n",
       "exclude empty or all-NA columns when determining the result dtypes. To retain the old behavior, exclude the \n",
       "relevant entries before the concat operation.\n",
       "  results = pd.concat([results, normalized_data]) #.dropna(axis=1, how=\"all\")])\n",
       "</pre>\n"
      ],
      "text/plain": [
       "/var/folders/7t/k8q3439j6z3c683j7w00wtm80000gn/T/ipykernel_50509/330735155.py:26: FutureWarning: The behavior of \n",
       "DataFrame concatenation with empty or all-NA entries is deprecated. In a future version, this will no longer \n",
       "exclude empty or all-NA columns when determining the result dtypes. To retain the old behavior, exclude the \n",
       "relevant entries before the concat operation.\n",
       "  results = pd.concat([results, normalized_data]) #.dropna(axis=1, how=\"all\")])\n"
      ]
     },
     "metadata": {},
     "output_type": "display_data"
    },
    {
     "data": {
      "text/html": [
       "<pre style=\"white-space:pre;overflow-x:auto;line-height:normal;font-family:Menlo,'DejaVu Sans Mono',consolas,'Courier New',monospace\">/var/folders/7t/k8q3439j6z3c683j7w00wtm80000gn/T/ipykernel_50509/330735155.py:26: FutureWarning: The behavior of \n",
       "DataFrame concatenation with empty or all-NA entries is deprecated. In a future version, this will no longer \n",
       "exclude empty or all-NA columns when determining the result dtypes. To retain the old behavior, exclude the \n",
       "relevant entries before the concat operation.\n",
       "  results = pd.concat([results, normalized_data]) #.dropna(axis=1, how=\"all\")])\n",
       "</pre>\n"
      ],
      "text/plain": [
       "/var/folders/7t/k8q3439j6z3c683j7w00wtm80000gn/T/ipykernel_50509/330735155.py:26: FutureWarning: The behavior of \n",
       "DataFrame concatenation with empty or all-NA entries is deprecated. In a future version, this will no longer \n",
       "exclude empty or all-NA columns when determining the result dtypes. To retain the old behavior, exclude the \n",
       "relevant entries before the concat operation.\n",
       "  results = pd.concat([results, normalized_data]) #.dropna(axis=1, how=\"all\")])\n"
      ]
     },
     "metadata": {},
     "output_type": "display_data"
    },
    {
     "data": {
      "text/html": [
       "<pre style=\"white-space:pre;overflow-x:auto;line-height:normal;font-family:Menlo,'DejaVu Sans Mono',consolas,'Courier New',monospace\">/var/folders/7t/k8q3439j6z3c683j7w00wtm80000gn/T/ipykernel_50509/330735155.py:26: FutureWarning: The behavior of \n",
       "DataFrame concatenation with empty or all-NA entries is deprecated. In a future version, this will no longer \n",
       "exclude empty or all-NA columns when determining the result dtypes. To retain the old behavior, exclude the \n",
       "relevant entries before the concat operation.\n",
       "  results = pd.concat([results, normalized_data]) #.dropna(axis=1, how=\"all\")])\n",
       "</pre>\n"
      ],
      "text/plain": [
       "/var/folders/7t/k8q3439j6z3c683j7w00wtm80000gn/T/ipykernel_50509/330735155.py:26: FutureWarning: The behavior of \n",
       "DataFrame concatenation with empty or all-NA entries is deprecated. In a future version, this will no longer \n",
       "exclude empty or all-NA columns when determining the result dtypes. To retain the old behavior, exclude the \n",
       "relevant entries before the concat operation.\n",
       "  results = pd.concat([results, normalized_data]) #.dropna(axis=1, how=\"all\")])\n"
      ]
     },
     "metadata": {},
     "output_type": "display_data"
    },
    {
     "data": {
      "text/html": [
       "<pre style=\"white-space:pre;overflow-x:auto;line-height:normal;font-family:Menlo,'DejaVu Sans Mono',consolas,'Courier New',monospace\">/var/folders/7t/k8q3439j6z3c683j7w00wtm80000gn/T/ipykernel_50509/330735155.py:26: FutureWarning: The behavior of \n",
       "DataFrame concatenation with empty or all-NA entries is deprecated. In a future version, this will no longer \n",
       "exclude empty or all-NA columns when determining the result dtypes. To retain the old behavior, exclude the \n",
       "relevant entries before the concat operation.\n",
       "  results = pd.concat([results, normalized_data]) #.dropna(axis=1, how=\"all\")])\n",
       "</pre>\n"
      ],
      "text/plain": [
       "/var/folders/7t/k8q3439j6z3c683j7w00wtm80000gn/T/ipykernel_50509/330735155.py:26: FutureWarning: The behavior of \n",
       "DataFrame concatenation with empty or all-NA entries is deprecated. In a future version, this will no longer \n",
       "exclude empty or all-NA columns when determining the result dtypes. To retain the old behavior, exclude the \n",
       "relevant entries before the concat operation.\n",
       "  results = pd.concat([results, normalized_data]) #.dropna(axis=1, how=\"all\")])\n"
      ]
     },
     "metadata": {},
     "output_type": "display_data"
    },
    {
     "data": {
      "text/html": [
       "<pre style=\"white-space:pre;overflow-x:auto;line-height:normal;font-family:Menlo,'DejaVu Sans Mono',consolas,'Courier New',monospace\">/var/folders/7t/k8q3439j6z3c683j7w00wtm80000gn/T/ipykernel_50509/330735155.py:26: FutureWarning: The behavior of \n",
       "DataFrame concatenation with empty or all-NA entries is deprecated. In a future version, this will no longer \n",
       "exclude empty or all-NA columns when determining the result dtypes. To retain the old behavior, exclude the \n",
       "relevant entries before the concat operation.\n",
       "  results = pd.concat([results, normalized_data]) #.dropna(axis=1, how=\"all\")])\n",
       "</pre>\n"
      ],
      "text/plain": [
       "/var/folders/7t/k8q3439j6z3c683j7w00wtm80000gn/T/ipykernel_50509/330735155.py:26: FutureWarning: The behavior of \n",
       "DataFrame concatenation with empty or all-NA entries is deprecated. In a future version, this will no longer \n",
       "exclude empty or all-NA columns when determining the result dtypes. To retain the old behavior, exclude the \n",
       "relevant entries before the concat operation.\n",
       "  results = pd.concat([results, normalized_data]) #.dropna(axis=1, how=\"all\")])\n"
      ]
     },
     "metadata": {},
     "output_type": "display_data"
    },
    {
     "data": {
      "text/html": [
       "<pre style=\"white-space:pre;overflow-x:auto;line-height:normal;font-family:Menlo,'DejaVu Sans Mono',consolas,'Courier New',monospace\">/var/folders/7t/k8q3439j6z3c683j7w00wtm80000gn/T/ipykernel_50509/330735155.py:26: FutureWarning: The behavior of \n",
       "DataFrame concatenation with empty or all-NA entries is deprecated. In a future version, this will no longer \n",
       "exclude empty or all-NA columns when determining the result dtypes. To retain the old behavior, exclude the \n",
       "relevant entries before the concat operation.\n",
       "  results = pd.concat([results, normalized_data]) #.dropna(axis=1, how=\"all\")])\n",
       "</pre>\n"
      ],
      "text/plain": [
       "/var/folders/7t/k8q3439j6z3c683j7w00wtm80000gn/T/ipykernel_50509/330735155.py:26: FutureWarning: The behavior of \n",
       "DataFrame concatenation with empty or all-NA entries is deprecated. In a future version, this will no longer \n",
       "exclude empty or all-NA columns when determining the result dtypes. To retain the old behavior, exclude the \n",
       "relevant entries before the concat operation.\n",
       "  results = pd.concat([results, normalized_data]) #.dropna(axis=1, how=\"all\")])\n"
      ]
     },
     "metadata": {},
     "output_type": "display_data"
    },
    {
     "data": {
      "text/html": [
       "<pre style=\"white-space:pre;overflow-x:auto;line-height:normal;font-family:Menlo,'DejaVu Sans Mono',consolas,'Courier New',monospace\">/var/folders/7t/k8q3439j6z3c683j7w00wtm80000gn/T/ipykernel_50509/330735155.py:26: FutureWarning: The behavior of \n",
       "DataFrame concatenation with empty or all-NA entries is deprecated. In a future version, this will no longer \n",
       "exclude empty or all-NA columns when determining the result dtypes. To retain the old behavior, exclude the \n",
       "relevant entries before the concat operation.\n",
       "  results = pd.concat([results, normalized_data]) #.dropna(axis=1, how=\"all\")])\n",
       "</pre>\n"
      ],
      "text/plain": [
       "/var/folders/7t/k8q3439j6z3c683j7w00wtm80000gn/T/ipykernel_50509/330735155.py:26: FutureWarning: The behavior of \n",
       "DataFrame concatenation with empty or all-NA entries is deprecated. In a future version, this will no longer \n",
       "exclude empty or all-NA columns when determining the result dtypes. To retain the old behavior, exclude the \n",
       "relevant entries before the concat operation.\n",
       "  results = pd.concat([results, normalized_data]) #.dropna(axis=1, how=\"all\")])\n"
      ]
     },
     "metadata": {},
     "output_type": "display_data"
    },
    {
     "data": {
      "text/html": [
       "<pre style=\"white-space:pre;overflow-x:auto;line-height:normal;font-family:Menlo,'DejaVu Sans Mono',consolas,'Courier New',monospace\">/var/folders/7t/k8q3439j6z3c683j7w00wtm80000gn/T/ipykernel_50509/330735155.py:26: FutureWarning: The behavior of \n",
       "DataFrame concatenation with empty or all-NA entries is deprecated. In a future version, this will no longer \n",
       "exclude empty or all-NA columns when determining the result dtypes. To retain the old behavior, exclude the \n",
       "relevant entries before the concat operation.\n",
       "  results = pd.concat([results, normalized_data]) #.dropna(axis=1, how=\"all\")])\n",
       "</pre>\n"
      ],
      "text/plain": [
       "/var/folders/7t/k8q3439j6z3c683j7w00wtm80000gn/T/ipykernel_50509/330735155.py:26: FutureWarning: The behavior of \n",
       "DataFrame concatenation with empty or all-NA entries is deprecated. In a future version, this will no longer \n",
       "exclude empty or all-NA columns when determining the result dtypes. To retain the old behavior, exclude the \n",
       "relevant entries before the concat operation.\n",
       "  results = pd.concat([results, normalized_data]) #.dropna(axis=1, how=\"all\")])\n"
      ]
     },
     "metadata": {},
     "output_type": "display_data"
    },
    {
     "data": {
      "text/html": [
       "<pre style=\"white-space:pre;overflow-x:auto;line-height:normal;font-family:Menlo,'DejaVu Sans Mono',consolas,'Courier New',monospace\">/var/folders/7t/k8q3439j6z3c683j7w00wtm80000gn/T/ipykernel_50509/330735155.py:26: FutureWarning: The behavior of \n",
       "DataFrame concatenation with empty or all-NA entries is deprecated. In a future version, this will no longer \n",
       "exclude empty or all-NA columns when determining the result dtypes. To retain the old behavior, exclude the \n",
       "relevant entries before the concat operation.\n",
       "  results = pd.concat([results, normalized_data]) #.dropna(axis=1, how=\"all\")])\n",
       "</pre>\n"
      ],
      "text/plain": [
       "/var/folders/7t/k8q3439j6z3c683j7w00wtm80000gn/T/ipykernel_50509/330735155.py:26: FutureWarning: The behavior of \n",
       "DataFrame concatenation with empty or all-NA entries is deprecated. In a future version, this will no longer \n",
       "exclude empty or all-NA columns when determining the result dtypes. To retain the old behavior, exclude the \n",
       "relevant entries before the concat operation.\n",
       "  results = pd.concat([results, normalized_data]) #.dropna(axis=1, how=\"all\")])\n"
      ]
     },
     "metadata": {},
     "output_type": "display_data"
    },
    {
     "data": {
      "text/html": [
       "<pre style=\"white-space:pre;overflow-x:auto;line-height:normal;font-family:Menlo,'DejaVu Sans Mono',consolas,'Courier New',monospace\">/var/folders/7t/k8q3439j6z3c683j7w00wtm80000gn/T/ipykernel_50509/330735155.py:26: FutureWarning: The behavior of \n",
       "DataFrame concatenation with empty or all-NA entries is deprecated. In a future version, this will no longer \n",
       "exclude empty or all-NA columns when determining the result dtypes. To retain the old behavior, exclude the \n",
       "relevant entries before the concat operation.\n",
       "  results = pd.concat([results, normalized_data]) #.dropna(axis=1, how=\"all\")])\n",
       "</pre>\n"
      ],
      "text/plain": [
       "/var/folders/7t/k8q3439j6z3c683j7w00wtm80000gn/T/ipykernel_50509/330735155.py:26: FutureWarning: The behavior of \n",
       "DataFrame concatenation with empty or all-NA entries is deprecated. In a future version, this will no longer \n",
       "exclude empty or all-NA columns when determining the result dtypes. To retain the old behavior, exclude the \n",
       "relevant entries before the concat operation.\n",
       "  results = pd.concat([results, normalized_data]) #.dropna(axis=1, how=\"all\")])\n"
      ]
     },
     "metadata": {},
     "output_type": "display_data"
    },
    {
     "data": {
      "text/html": [
       "<pre style=\"white-space:pre;overflow-x:auto;line-height:normal;font-family:Menlo,'DejaVu Sans Mono',consolas,'Courier New',monospace\">/var/folders/7t/k8q3439j6z3c683j7w00wtm80000gn/T/ipykernel_50509/330735155.py:26: FutureWarning: The behavior of \n",
       "DataFrame concatenation with empty or all-NA entries is deprecated. In a future version, this will no longer \n",
       "exclude empty or all-NA columns when determining the result dtypes. To retain the old behavior, exclude the \n",
       "relevant entries before the concat operation.\n",
       "  results = pd.concat([results, normalized_data]) #.dropna(axis=1, how=\"all\")])\n",
       "</pre>\n"
      ],
      "text/plain": [
       "/var/folders/7t/k8q3439j6z3c683j7w00wtm80000gn/T/ipykernel_50509/330735155.py:26: FutureWarning: The behavior of \n",
       "DataFrame concatenation with empty or all-NA entries is deprecated. In a future version, this will no longer \n",
       "exclude empty or all-NA columns when determining the result dtypes. To retain the old behavior, exclude the \n",
       "relevant entries before the concat operation.\n",
       "  results = pd.concat([results, normalized_data]) #.dropna(axis=1, how=\"all\")])\n"
      ]
     },
     "metadata": {},
     "output_type": "display_data"
    },
    {
     "data": {
      "text/html": [
       "<pre style=\"white-space:pre;overflow-x:auto;line-height:normal;font-family:Menlo,'DejaVu Sans Mono',consolas,'Courier New',monospace\">/var/folders/7t/k8q3439j6z3c683j7w00wtm80000gn/T/ipykernel_50509/330735155.py:26: FutureWarning: The behavior of \n",
       "DataFrame concatenation with empty or all-NA entries is deprecated. In a future version, this will no longer \n",
       "exclude empty or all-NA columns when determining the result dtypes. To retain the old behavior, exclude the \n",
       "relevant entries before the concat operation.\n",
       "  results = pd.concat([results, normalized_data]) #.dropna(axis=1, how=\"all\")])\n",
       "</pre>\n"
      ],
      "text/plain": [
       "/var/folders/7t/k8q3439j6z3c683j7w00wtm80000gn/T/ipykernel_50509/330735155.py:26: FutureWarning: The behavior of \n",
       "DataFrame concatenation with empty or all-NA entries is deprecated. In a future version, this will no longer \n",
       "exclude empty or all-NA columns when determining the result dtypes. To retain the old behavior, exclude the \n",
       "relevant entries before the concat operation.\n",
       "  results = pd.concat([results, normalized_data]) #.dropna(axis=1, how=\"all\")])\n"
      ]
     },
     "metadata": {},
     "output_type": "display_data"
    },
    {
     "data": {
      "text/html": [
       "<pre style=\"white-space:pre;overflow-x:auto;line-height:normal;font-family:Menlo,'DejaVu Sans Mono',consolas,'Courier New',monospace\">/var/folders/7t/k8q3439j6z3c683j7w00wtm80000gn/T/ipykernel_50509/330735155.py:26: FutureWarning: The behavior of \n",
       "DataFrame concatenation with empty or all-NA entries is deprecated. In a future version, this will no longer \n",
       "exclude empty or all-NA columns when determining the result dtypes. To retain the old behavior, exclude the \n",
       "relevant entries before the concat operation.\n",
       "  results = pd.concat([results, normalized_data]) #.dropna(axis=1, how=\"all\")])\n",
       "</pre>\n"
      ],
      "text/plain": [
       "/var/folders/7t/k8q3439j6z3c683j7w00wtm80000gn/T/ipykernel_50509/330735155.py:26: FutureWarning: The behavior of \n",
       "DataFrame concatenation with empty or all-NA entries is deprecated. In a future version, this will no longer \n",
       "exclude empty or all-NA columns when determining the result dtypes. To retain the old behavior, exclude the \n",
       "relevant entries before the concat operation.\n",
       "  results = pd.concat([results, normalized_data]) #.dropna(axis=1, how=\"all\")])\n"
      ]
     },
     "metadata": {},
     "output_type": "display_data"
    },
    {
     "data": {
      "text/html": [
       "<pre style=\"white-space:pre;overflow-x:auto;line-height:normal;font-family:Menlo,'DejaVu Sans Mono',consolas,'Courier New',monospace\">/var/folders/7t/k8q3439j6z3c683j7w00wtm80000gn/T/ipykernel_50509/330735155.py:26: FutureWarning: The behavior of \n",
       "DataFrame concatenation with empty or all-NA entries is deprecated. In a future version, this will no longer \n",
       "exclude empty or all-NA columns when determining the result dtypes. To retain the old behavior, exclude the \n",
       "relevant entries before the concat operation.\n",
       "  results = pd.concat([results, normalized_data]) #.dropna(axis=1, how=\"all\")])\n",
       "</pre>\n"
      ],
      "text/plain": [
       "/var/folders/7t/k8q3439j6z3c683j7w00wtm80000gn/T/ipykernel_50509/330735155.py:26: FutureWarning: The behavior of \n",
       "DataFrame concatenation with empty or all-NA entries is deprecated. In a future version, this will no longer \n",
       "exclude empty or all-NA columns when determining the result dtypes. To retain the old behavior, exclude the \n",
       "relevant entries before the concat operation.\n",
       "  results = pd.concat([results, normalized_data]) #.dropna(axis=1, how=\"all\")])\n"
      ]
     },
     "metadata": {},
     "output_type": "display_data"
    },
    {
     "data": {
      "text/html": [
       "<pre style=\"white-space:pre;overflow-x:auto;line-height:normal;font-family:Menlo,'DejaVu Sans Mono',consolas,'Courier New',monospace\">/var/folders/7t/k8q3439j6z3c683j7w00wtm80000gn/T/ipykernel_50509/330735155.py:26: FutureWarning: The behavior of \n",
       "DataFrame concatenation with empty or all-NA entries is deprecated. In a future version, this will no longer \n",
       "exclude empty or all-NA columns when determining the result dtypes. To retain the old behavior, exclude the \n",
       "relevant entries before the concat operation.\n",
       "  results = pd.concat([results, normalized_data]) #.dropna(axis=1, how=\"all\")])\n",
       "</pre>\n"
      ],
      "text/plain": [
       "/var/folders/7t/k8q3439j6z3c683j7w00wtm80000gn/T/ipykernel_50509/330735155.py:26: FutureWarning: The behavior of \n",
       "DataFrame concatenation with empty or all-NA entries is deprecated. In a future version, this will no longer \n",
       "exclude empty or all-NA columns when determining the result dtypes. To retain the old behavior, exclude the \n",
       "relevant entries before the concat operation.\n",
       "  results = pd.concat([results, normalized_data]) #.dropna(axis=1, how=\"all\")])\n"
      ]
     },
     "metadata": {},
     "output_type": "display_data"
    },
    {
     "data": {
      "text/html": [
       "<pre style=\"white-space:pre;overflow-x:auto;line-height:normal;font-family:Menlo,'DejaVu Sans Mono',consolas,'Courier New',monospace\">/var/folders/7t/k8q3439j6z3c683j7w00wtm80000gn/T/ipykernel_50509/330735155.py:26: FutureWarning: The behavior of \n",
       "DataFrame concatenation with empty or all-NA entries is deprecated. In a future version, this will no longer \n",
       "exclude empty or all-NA columns when determining the result dtypes. To retain the old behavior, exclude the \n",
       "relevant entries before the concat operation.\n",
       "  results = pd.concat([results, normalized_data]) #.dropna(axis=1, how=\"all\")])\n",
       "</pre>\n"
      ],
      "text/plain": [
       "/var/folders/7t/k8q3439j6z3c683j7w00wtm80000gn/T/ipykernel_50509/330735155.py:26: FutureWarning: The behavior of \n",
       "DataFrame concatenation with empty or all-NA entries is deprecated. In a future version, this will no longer \n",
       "exclude empty or all-NA columns when determining the result dtypes. To retain the old behavior, exclude the \n",
       "relevant entries before the concat operation.\n",
       "  results = pd.concat([results, normalized_data]) #.dropna(axis=1, how=\"all\")])\n"
      ]
     },
     "metadata": {},
     "output_type": "display_data"
    },
    {
     "data": {
      "text/html": [
       "<pre style=\"white-space:pre;overflow-x:auto;line-height:normal;font-family:Menlo,'DejaVu Sans Mono',consolas,'Courier New',monospace\">/var/folders/7t/k8q3439j6z3c683j7w00wtm80000gn/T/ipykernel_50509/330735155.py:26: FutureWarning: The behavior of \n",
       "DataFrame concatenation with empty or all-NA entries is deprecated. In a future version, this will no longer \n",
       "exclude empty or all-NA columns when determining the result dtypes. To retain the old behavior, exclude the \n",
       "relevant entries before the concat operation.\n",
       "  results = pd.concat([results, normalized_data]) #.dropna(axis=1, how=\"all\")])\n",
       "</pre>\n"
      ],
      "text/plain": [
       "/var/folders/7t/k8q3439j6z3c683j7w00wtm80000gn/T/ipykernel_50509/330735155.py:26: FutureWarning: The behavior of \n",
       "DataFrame concatenation with empty or all-NA entries is deprecated. In a future version, this will no longer \n",
       "exclude empty or all-NA columns when determining the result dtypes. To retain the old behavior, exclude the \n",
       "relevant entries before the concat operation.\n",
       "  results = pd.concat([results, normalized_data]) #.dropna(axis=1, how=\"all\")])\n"
      ]
     },
     "metadata": {},
     "output_type": "display_data"
    },
    {
     "data": {
      "text/html": [
       "<pre style=\"white-space:pre;overflow-x:auto;line-height:normal;font-family:Menlo,'DejaVu Sans Mono',consolas,'Courier New',monospace\">/var/folders/7t/k8q3439j6z3c683j7w00wtm80000gn/T/ipykernel_50509/330735155.py:26: FutureWarning: The behavior of \n",
       "DataFrame concatenation with empty or all-NA entries is deprecated. In a future version, this will no longer \n",
       "exclude empty or all-NA columns when determining the result dtypes. To retain the old behavior, exclude the \n",
       "relevant entries before the concat operation.\n",
       "  results = pd.concat([results, normalized_data]) #.dropna(axis=1, how=\"all\")])\n",
       "</pre>\n"
      ],
      "text/plain": [
       "/var/folders/7t/k8q3439j6z3c683j7w00wtm80000gn/T/ipykernel_50509/330735155.py:26: FutureWarning: The behavior of \n",
       "DataFrame concatenation with empty or all-NA entries is deprecated. In a future version, this will no longer \n",
       "exclude empty or all-NA columns when determining the result dtypes. To retain the old behavior, exclude the \n",
       "relevant entries before the concat operation.\n",
       "  results = pd.concat([results, normalized_data]) #.dropna(axis=1, how=\"all\")])\n"
      ]
     },
     "metadata": {},
     "output_type": "display_data"
    },
    {
     "data": {
      "text/html": [
       "<pre style=\"white-space:pre;overflow-x:auto;line-height:normal;font-family:Menlo,'DejaVu Sans Mono',consolas,'Courier New',monospace\">/var/folders/7t/k8q3439j6z3c683j7w00wtm80000gn/T/ipykernel_50509/330735155.py:26: FutureWarning: The behavior of \n",
       "DataFrame concatenation with empty or all-NA entries is deprecated. In a future version, this will no longer \n",
       "exclude empty or all-NA columns when determining the result dtypes. To retain the old behavior, exclude the \n",
       "relevant entries before the concat operation.\n",
       "  results = pd.concat([results, normalized_data]) #.dropna(axis=1, how=\"all\")])\n",
       "</pre>\n"
      ],
      "text/plain": [
       "/var/folders/7t/k8q3439j6z3c683j7w00wtm80000gn/T/ipykernel_50509/330735155.py:26: FutureWarning: The behavior of \n",
       "DataFrame concatenation with empty or all-NA entries is deprecated. In a future version, this will no longer \n",
       "exclude empty or all-NA columns when determining the result dtypes. To retain the old behavior, exclude the \n",
       "relevant entries before the concat operation.\n",
       "  results = pd.concat([results, normalized_data]) #.dropna(axis=1, how=\"all\")])\n"
      ]
     },
     "metadata": {},
     "output_type": "display_data"
    },
    {
     "data": {
      "text/html": [
       "<pre style=\"white-space:pre;overflow-x:auto;line-height:normal;font-family:Menlo,'DejaVu Sans Mono',consolas,'Courier New',monospace\">/var/folders/7t/k8q3439j6z3c683j7w00wtm80000gn/T/ipykernel_50509/330735155.py:26: FutureWarning: The behavior of \n",
       "DataFrame concatenation with empty or all-NA entries is deprecated. In a future version, this will no longer \n",
       "exclude empty or all-NA columns when determining the result dtypes. To retain the old behavior, exclude the \n",
       "relevant entries before the concat operation.\n",
       "  results = pd.concat([results, normalized_data]) #.dropna(axis=1, how=\"all\")])\n",
       "</pre>\n"
      ],
      "text/plain": [
       "/var/folders/7t/k8q3439j6z3c683j7w00wtm80000gn/T/ipykernel_50509/330735155.py:26: FutureWarning: The behavior of \n",
       "DataFrame concatenation with empty or all-NA entries is deprecated. In a future version, this will no longer \n",
       "exclude empty or all-NA columns when determining the result dtypes. To retain the old behavior, exclude the \n",
       "relevant entries before the concat operation.\n",
       "  results = pd.concat([results, normalized_data]) #.dropna(axis=1, how=\"all\")])\n"
      ]
     },
     "metadata": {},
     "output_type": "display_data"
    },
    {
     "data": {
      "text/html": [
       "<pre style=\"white-space:pre;overflow-x:auto;line-height:normal;font-family:Menlo,'DejaVu Sans Mono',consolas,'Courier New',monospace\">/var/folders/7t/k8q3439j6z3c683j7w00wtm80000gn/T/ipykernel_50509/330735155.py:26: FutureWarning: The behavior of \n",
       "DataFrame concatenation with empty or all-NA entries is deprecated. In a future version, this will no longer \n",
       "exclude empty or all-NA columns when determining the result dtypes. To retain the old behavior, exclude the \n",
       "relevant entries before the concat operation.\n",
       "  results = pd.concat([results, normalized_data]) #.dropna(axis=1, how=\"all\")])\n",
       "</pre>\n"
      ],
      "text/plain": [
       "/var/folders/7t/k8q3439j6z3c683j7w00wtm80000gn/T/ipykernel_50509/330735155.py:26: FutureWarning: The behavior of \n",
       "DataFrame concatenation with empty or all-NA entries is deprecated. In a future version, this will no longer \n",
       "exclude empty or all-NA columns when determining the result dtypes. To retain the old behavior, exclude the \n",
       "relevant entries before the concat operation.\n",
       "  results = pd.concat([results, normalized_data]) #.dropna(axis=1, how=\"all\")])\n"
      ]
     },
     "metadata": {},
     "output_type": "display_data"
    },
    {
     "data": {
      "text/html": [
       "<pre style=\"white-space:pre;overflow-x:auto;line-height:normal;font-family:Menlo,'DejaVu Sans Mono',consolas,'Courier New',monospace\">/var/folders/7t/k8q3439j6z3c683j7w00wtm80000gn/T/ipykernel_50509/330735155.py:26: FutureWarning: The behavior of \n",
       "DataFrame concatenation with empty or all-NA entries is deprecated. In a future version, this will no longer \n",
       "exclude empty or all-NA columns when determining the result dtypes. To retain the old behavior, exclude the \n",
       "relevant entries before the concat operation.\n",
       "  results = pd.concat([results, normalized_data]) #.dropna(axis=1, how=\"all\")])\n",
       "</pre>\n"
      ],
      "text/plain": [
       "/var/folders/7t/k8q3439j6z3c683j7w00wtm80000gn/T/ipykernel_50509/330735155.py:26: FutureWarning: The behavior of \n",
       "DataFrame concatenation with empty or all-NA entries is deprecated. In a future version, this will no longer \n",
       "exclude empty or all-NA columns when determining the result dtypes. To retain the old behavior, exclude the \n",
       "relevant entries before the concat operation.\n",
       "  results = pd.concat([results, normalized_data]) #.dropna(axis=1, how=\"all\")])\n"
      ]
     },
     "metadata": {},
     "output_type": "display_data"
    },
    {
     "data": {
      "text/html": [
       "<pre style=\"white-space:pre;overflow-x:auto;line-height:normal;font-family:Menlo,'DejaVu Sans Mono',consolas,'Courier New',monospace\">/var/folders/7t/k8q3439j6z3c683j7w00wtm80000gn/T/ipykernel_50509/330735155.py:26: FutureWarning: The behavior of \n",
       "DataFrame concatenation with empty or all-NA entries is deprecated. In a future version, this will no longer \n",
       "exclude empty or all-NA columns when determining the result dtypes. To retain the old behavior, exclude the \n",
       "relevant entries before the concat operation.\n",
       "  results = pd.concat([results, normalized_data]) #.dropna(axis=1, how=\"all\")])\n",
       "</pre>\n"
      ],
      "text/plain": [
       "/var/folders/7t/k8q3439j6z3c683j7w00wtm80000gn/T/ipykernel_50509/330735155.py:26: FutureWarning: The behavior of \n",
       "DataFrame concatenation with empty or all-NA entries is deprecated. In a future version, this will no longer \n",
       "exclude empty or all-NA columns when determining the result dtypes. To retain the old behavior, exclude the \n",
       "relevant entries before the concat operation.\n",
       "  results = pd.concat([results, normalized_data]) #.dropna(axis=1, how=\"all\")])\n"
      ]
     },
     "metadata": {},
     "output_type": "display_data"
    },
    {
     "data": {
      "text/html": [
       "<pre style=\"white-space:pre;overflow-x:auto;line-height:normal;font-family:Menlo,'DejaVu Sans Mono',consolas,'Courier New',monospace\">/var/folders/7t/k8q3439j6z3c683j7w00wtm80000gn/T/ipykernel_50509/330735155.py:26: FutureWarning: The behavior of \n",
       "DataFrame concatenation with empty or all-NA entries is deprecated. In a future version, this will no longer \n",
       "exclude empty or all-NA columns when determining the result dtypes. To retain the old behavior, exclude the \n",
       "relevant entries before the concat operation.\n",
       "  results = pd.concat([results, normalized_data]) #.dropna(axis=1, how=\"all\")])\n",
       "</pre>\n"
      ],
      "text/plain": [
       "/var/folders/7t/k8q3439j6z3c683j7w00wtm80000gn/T/ipykernel_50509/330735155.py:26: FutureWarning: The behavior of \n",
       "DataFrame concatenation with empty or all-NA entries is deprecated. In a future version, this will no longer \n",
       "exclude empty or all-NA columns when determining the result dtypes. To retain the old behavior, exclude the \n",
       "relevant entries before the concat operation.\n",
       "  results = pd.concat([results, normalized_data]) #.dropna(axis=1, how=\"all\")])\n"
      ]
     },
     "metadata": {},
     "output_type": "display_data"
    },
    {
     "data": {
      "text/html": [
       "<pre style=\"white-space:pre;overflow-x:auto;line-height:normal;font-family:Menlo,'DejaVu Sans Mono',consolas,'Courier New',monospace\">/var/folders/7t/k8q3439j6z3c683j7w00wtm80000gn/T/ipykernel_50509/330735155.py:26: FutureWarning: The behavior of \n",
       "DataFrame concatenation with empty or all-NA entries is deprecated. In a future version, this will no longer \n",
       "exclude empty or all-NA columns when determining the result dtypes. To retain the old behavior, exclude the \n",
       "relevant entries before the concat operation.\n",
       "  results = pd.concat([results, normalized_data]) #.dropna(axis=1, how=\"all\")])\n",
       "</pre>\n"
      ],
      "text/plain": [
       "/var/folders/7t/k8q3439j6z3c683j7w00wtm80000gn/T/ipykernel_50509/330735155.py:26: FutureWarning: The behavior of \n",
       "DataFrame concatenation with empty or all-NA entries is deprecated. In a future version, this will no longer \n",
       "exclude empty or all-NA columns when determining the result dtypes. To retain the old behavior, exclude the \n",
       "relevant entries before the concat operation.\n",
       "  results = pd.concat([results, normalized_data]) #.dropna(axis=1, how=\"all\")])\n"
      ]
     },
     "metadata": {},
     "output_type": "display_data"
    },
    {
     "data": {
      "text/html": [
       "<pre style=\"white-space:pre;overflow-x:auto;line-height:normal;font-family:Menlo,'DejaVu Sans Mono',consolas,'Courier New',monospace\">/var/folders/7t/k8q3439j6z3c683j7w00wtm80000gn/T/ipykernel_50509/330735155.py:26: FutureWarning: The behavior of \n",
       "DataFrame concatenation with empty or all-NA entries is deprecated. In a future version, this will no longer \n",
       "exclude empty or all-NA columns when determining the result dtypes. To retain the old behavior, exclude the \n",
       "relevant entries before the concat operation.\n",
       "  results = pd.concat([results, normalized_data]) #.dropna(axis=1, how=\"all\")])\n",
       "</pre>\n"
      ],
      "text/plain": [
       "/var/folders/7t/k8q3439j6z3c683j7w00wtm80000gn/T/ipykernel_50509/330735155.py:26: FutureWarning: The behavior of \n",
       "DataFrame concatenation with empty or all-NA entries is deprecated. In a future version, this will no longer \n",
       "exclude empty or all-NA columns when determining the result dtypes. To retain the old behavior, exclude the \n",
       "relevant entries before the concat operation.\n",
       "  results = pd.concat([results, normalized_data]) #.dropna(axis=1, how=\"all\")])\n"
      ]
     },
     "metadata": {},
     "output_type": "display_data"
    },
    {
     "data": {
      "text/html": [
       "<pre style=\"white-space:pre;overflow-x:auto;line-height:normal;font-family:Menlo,'DejaVu Sans Mono',consolas,'Courier New',monospace\">/var/folders/7t/k8q3439j6z3c683j7w00wtm80000gn/T/ipykernel_50509/330735155.py:26: FutureWarning: The behavior of \n",
       "DataFrame concatenation with empty or all-NA entries is deprecated. In a future version, this will no longer \n",
       "exclude empty or all-NA columns when determining the result dtypes. To retain the old behavior, exclude the \n",
       "relevant entries before the concat operation.\n",
       "  results = pd.concat([results, normalized_data]) #.dropna(axis=1, how=\"all\")])\n",
       "</pre>\n"
      ],
      "text/plain": [
       "/var/folders/7t/k8q3439j6z3c683j7w00wtm80000gn/T/ipykernel_50509/330735155.py:26: FutureWarning: The behavior of \n",
       "DataFrame concatenation with empty or all-NA entries is deprecated. In a future version, this will no longer \n",
       "exclude empty or all-NA columns when determining the result dtypes. To retain the old behavior, exclude the \n",
       "relevant entries before the concat operation.\n",
       "  results = pd.concat([results, normalized_data]) #.dropna(axis=1, how=\"all\")])\n"
      ]
     },
     "metadata": {},
     "output_type": "display_data"
    },
    {
     "data": {
      "text/html": [
       "<pre style=\"white-space:pre;overflow-x:auto;line-height:normal;font-family:Menlo,'DejaVu Sans Mono',consolas,'Courier New',monospace\">/var/folders/7t/k8q3439j6z3c683j7w00wtm80000gn/T/ipykernel_50509/330735155.py:26: FutureWarning: The behavior of \n",
       "DataFrame concatenation with empty or all-NA entries is deprecated. In a future version, this will no longer \n",
       "exclude empty or all-NA columns when determining the result dtypes. To retain the old behavior, exclude the \n",
       "relevant entries before the concat operation.\n",
       "  results = pd.concat([results, normalized_data]) #.dropna(axis=1, how=\"all\")])\n",
       "</pre>\n"
      ],
      "text/plain": [
       "/var/folders/7t/k8q3439j6z3c683j7w00wtm80000gn/T/ipykernel_50509/330735155.py:26: FutureWarning: The behavior of \n",
       "DataFrame concatenation with empty or all-NA entries is deprecated. In a future version, this will no longer \n",
       "exclude empty or all-NA columns when determining the result dtypes. To retain the old behavior, exclude the \n",
       "relevant entries before the concat operation.\n",
       "  results = pd.concat([results, normalized_data]) #.dropna(axis=1, how=\"all\")])\n"
      ]
     },
     "metadata": {},
     "output_type": "display_data"
    },
    {
     "data": {
      "text/html": [
       "<pre style=\"white-space:pre;overflow-x:auto;line-height:normal;font-family:Menlo,'DejaVu Sans Mono',consolas,'Courier New',monospace\">/var/folders/7t/k8q3439j6z3c683j7w00wtm80000gn/T/ipykernel_50509/330735155.py:26: FutureWarning: The behavior of \n",
       "DataFrame concatenation with empty or all-NA entries is deprecated. In a future version, this will no longer \n",
       "exclude empty or all-NA columns when determining the result dtypes. To retain the old behavior, exclude the \n",
       "relevant entries before the concat operation.\n",
       "  results = pd.concat([results, normalized_data]) #.dropna(axis=1, how=\"all\")])\n",
       "</pre>\n"
      ],
      "text/plain": [
       "/var/folders/7t/k8q3439j6z3c683j7w00wtm80000gn/T/ipykernel_50509/330735155.py:26: FutureWarning: The behavior of \n",
       "DataFrame concatenation with empty or all-NA entries is deprecated. In a future version, this will no longer \n",
       "exclude empty or all-NA columns when determining the result dtypes. To retain the old behavior, exclude the \n",
       "relevant entries before the concat operation.\n",
       "  results = pd.concat([results, normalized_data]) #.dropna(axis=1, how=\"all\")])\n"
      ]
     },
     "metadata": {},
     "output_type": "display_data"
    },
    {
     "data": {
      "text/html": [
       "<pre style=\"white-space:pre;overflow-x:auto;line-height:normal;font-family:Menlo,'DejaVu Sans Mono',consolas,'Courier New',monospace\">/var/folders/7t/k8q3439j6z3c683j7w00wtm80000gn/T/ipykernel_50509/330735155.py:26: FutureWarning: The behavior of \n",
       "DataFrame concatenation with empty or all-NA entries is deprecated. In a future version, this will no longer \n",
       "exclude empty or all-NA columns when determining the result dtypes. To retain the old behavior, exclude the \n",
       "relevant entries before the concat operation.\n",
       "  results = pd.concat([results, normalized_data]) #.dropna(axis=1, how=\"all\")])\n",
       "</pre>\n"
      ],
      "text/plain": [
       "/var/folders/7t/k8q3439j6z3c683j7w00wtm80000gn/T/ipykernel_50509/330735155.py:26: FutureWarning: The behavior of \n",
       "DataFrame concatenation with empty or all-NA entries is deprecated. In a future version, this will no longer \n",
       "exclude empty or all-NA columns when determining the result dtypes. To retain the old behavior, exclude the \n",
       "relevant entries before the concat operation.\n",
       "  results = pd.concat([results, normalized_data]) #.dropna(axis=1, how=\"all\")])\n"
      ]
     },
     "metadata": {},
     "output_type": "display_data"
    },
    {
     "data": {
      "text/html": [
       "<pre style=\"white-space:pre;overflow-x:auto;line-height:normal;font-family:Menlo,'DejaVu Sans Mono',consolas,'Courier New',monospace\">/var/folders/7t/k8q3439j6z3c683j7w00wtm80000gn/T/ipykernel_50509/330735155.py:26: FutureWarning: The behavior of \n",
       "DataFrame concatenation with empty or all-NA entries is deprecated. In a future version, this will no longer \n",
       "exclude empty or all-NA columns when determining the result dtypes. To retain the old behavior, exclude the \n",
       "relevant entries before the concat operation.\n",
       "  results = pd.concat([results, normalized_data]) #.dropna(axis=1, how=\"all\")])\n",
       "</pre>\n"
      ],
      "text/plain": [
       "/var/folders/7t/k8q3439j6z3c683j7w00wtm80000gn/T/ipykernel_50509/330735155.py:26: FutureWarning: The behavior of \n",
       "DataFrame concatenation with empty or all-NA entries is deprecated. In a future version, this will no longer \n",
       "exclude empty or all-NA columns when determining the result dtypes. To retain the old behavior, exclude the \n",
       "relevant entries before the concat operation.\n",
       "  results = pd.concat([results, normalized_data]) #.dropna(axis=1, how=\"all\")])\n"
      ]
     },
     "metadata": {},
     "output_type": "display_data"
    },
    {
     "data": {
      "text/html": [
       "<pre style=\"white-space:pre;overflow-x:auto;line-height:normal;font-family:Menlo,'DejaVu Sans Mono',consolas,'Courier New',monospace\">/var/folders/7t/k8q3439j6z3c683j7w00wtm80000gn/T/ipykernel_50509/330735155.py:26: FutureWarning: The behavior of \n",
       "DataFrame concatenation with empty or all-NA entries is deprecated. In a future version, this will no longer \n",
       "exclude empty or all-NA columns when determining the result dtypes. To retain the old behavior, exclude the \n",
       "relevant entries before the concat operation.\n",
       "  results = pd.concat([results, normalized_data]) #.dropna(axis=1, how=\"all\")])\n",
       "</pre>\n"
      ],
      "text/plain": [
       "/var/folders/7t/k8q3439j6z3c683j7w00wtm80000gn/T/ipykernel_50509/330735155.py:26: FutureWarning: The behavior of \n",
       "DataFrame concatenation with empty or all-NA entries is deprecated. In a future version, this will no longer \n",
       "exclude empty or all-NA columns when determining the result dtypes. To retain the old behavior, exclude the \n",
       "relevant entries before the concat operation.\n",
       "  results = pd.concat([results, normalized_data]) #.dropna(axis=1, how=\"all\")])\n"
      ]
     },
     "metadata": {},
     "output_type": "display_data"
    },
    {
     "data": {
      "text/html": [
       "<pre style=\"white-space:pre;overflow-x:auto;line-height:normal;font-family:Menlo,'DejaVu Sans Mono',consolas,'Courier New',monospace\">/var/folders/7t/k8q3439j6z3c683j7w00wtm80000gn/T/ipykernel_50509/330735155.py:26: FutureWarning: The behavior of \n",
       "DataFrame concatenation with empty or all-NA entries is deprecated. In a future version, this will no longer \n",
       "exclude empty or all-NA columns when determining the result dtypes. To retain the old behavior, exclude the \n",
       "relevant entries before the concat operation.\n",
       "  results = pd.concat([results, normalized_data]) #.dropna(axis=1, how=\"all\")])\n",
       "</pre>\n"
      ],
      "text/plain": [
       "/var/folders/7t/k8q3439j6z3c683j7w00wtm80000gn/T/ipykernel_50509/330735155.py:26: FutureWarning: The behavior of \n",
       "DataFrame concatenation with empty or all-NA entries is deprecated. In a future version, this will no longer \n",
       "exclude empty or all-NA columns when determining the result dtypes. To retain the old behavior, exclude the \n",
       "relevant entries before the concat operation.\n",
       "  results = pd.concat([results, normalized_data]) #.dropna(axis=1, how=\"all\")])\n"
      ]
     },
     "metadata": {},
     "output_type": "display_data"
    },
    {
     "data": {
      "text/html": [
       "<pre style=\"white-space:pre;overflow-x:auto;line-height:normal;font-family:Menlo,'DejaVu Sans Mono',consolas,'Courier New',monospace\">/var/folders/7t/k8q3439j6z3c683j7w00wtm80000gn/T/ipykernel_50509/330735155.py:26: FutureWarning: The behavior of \n",
       "DataFrame concatenation with empty or all-NA entries is deprecated. In a future version, this will no longer \n",
       "exclude empty or all-NA columns when determining the result dtypes. To retain the old behavior, exclude the \n",
       "relevant entries before the concat operation.\n",
       "  results = pd.concat([results, normalized_data]) #.dropna(axis=1, how=\"all\")])\n",
       "</pre>\n"
      ],
      "text/plain": [
       "/var/folders/7t/k8q3439j6z3c683j7w00wtm80000gn/T/ipykernel_50509/330735155.py:26: FutureWarning: The behavior of \n",
       "DataFrame concatenation with empty or all-NA entries is deprecated. In a future version, this will no longer \n",
       "exclude empty or all-NA columns when determining the result dtypes. To retain the old behavior, exclude the \n",
       "relevant entries before the concat operation.\n",
       "  results = pd.concat([results, normalized_data]) #.dropna(axis=1, how=\"all\")])\n"
      ]
     },
     "metadata": {},
     "output_type": "display_data"
    },
    {
     "data": {
      "text/html": [
       "<pre style=\"white-space:pre;overflow-x:auto;line-height:normal;font-family:Menlo,'DejaVu Sans Mono',consolas,'Courier New',monospace\">/var/folders/7t/k8q3439j6z3c683j7w00wtm80000gn/T/ipykernel_50509/330735155.py:26: FutureWarning: The behavior of \n",
       "DataFrame concatenation with empty or all-NA entries is deprecated. In a future version, this will no longer \n",
       "exclude empty or all-NA columns when determining the result dtypes. To retain the old behavior, exclude the \n",
       "relevant entries before the concat operation.\n",
       "  results = pd.concat([results, normalized_data]) #.dropna(axis=1, how=\"all\")])\n",
       "</pre>\n"
      ],
      "text/plain": [
       "/var/folders/7t/k8q3439j6z3c683j7w00wtm80000gn/T/ipykernel_50509/330735155.py:26: FutureWarning: The behavior of \n",
       "DataFrame concatenation with empty or all-NA entries is deprecated. In a future version, this will no longer \n",
       "exclude empty or all-NA columns when determining the result dtypes. To retain the old behavior, exclude the \n",
       "relevant entries before the concat operation.\n",
       "  results = pd.concat([results, normalized_data]) #.dropna(axis=1, how=\"all\")])\n"
      ]
     },
     "metadata": {},
     "output_type": "display_data"
    },
    {
     "data": {
      "text/html": [
       "<pre style=\"white-space:pre;overflow-x:auto;line-height:normal;font-family:Menlo,'DejaVu Sans Mono',consolas,'Courier New',monospace\">/var/folders/7t/k8q3439j6z3c683j7w00wtm80000gn/T/ipykernel_50509/330735155.py:26: FutureWarning: The behavior of \n",
       "DataFrame concatenation with empty or all-NA entries is deprecated. In a future version, this will no longer \n",
       "exclude empty or all-NA columns when determining the result dtypes. To retain the old behavior, exclude the \n",
       "relevant entries before the concat operation.\n",
       "  results = pd.concat([results, normalized_data]) #.dropna(axis=1, how=\"all\")])\n",
       "</pre>\n"
      ],
      "text/plain": [
       "/var/folders/7t/k8q3439j6z3c683j7w00wtm80000gn/T/ipykernel_50509/330735155.py:26: FutureWarning: The behavior of \n",
       "DataFrame concatenation with empty or all-NA entries is deprecated. In a future version, this will no longer \n",
       "exclude empty or all-NA columns when determining the result dtypes. To retain the old behavior, exclude the \n",
       "relevant entries before the concat operation.\n",
       "  results = pd.concat([results, normalized_data]) #.dropna(axis=1, how=\"all\")])\n"
      ]
     },
     "metadata": {},
     "output_type": "display_data"
    },
    {
     "data": {
      "text/html": [
       "<pre style=\"white-space:pre;overflow-x:auto;line-height:normal;font-family:Menlo,'DejaVu Sans Mono',consolas,'Courier New',monospace\">/var/folders/7t/k8q3439j6z3c683j7w00wtm80000gn/T/ipykernel_50509/330735155.py:26: FutureWarning: The behavior of \n",
       "DataFrame concatenation with empty or all-NA entries is deprecated. In a future version, this will no longer \n",
       "exclude empty or all-NA columns when determining the result dtypes. To retain the old behavior, exclude the \n",
       "relevant entries before the concat operation.\n",
       "  results = pd.concat([results, normalized_data]) #.dropna(axis=1, how=\"all\")])\n",
       "</pre>\n"
      ],
      "text/plain": [
       "/var/folders/7t/k8q3439j6z3c683j7w00wtm80000gn/T/ipykernel_50509/330735155.py:26: FutureWarning: The behavior of \n",
       "DataFrame concatenation with empty or all-NA entries is deprecated. In a future version, this will no longer \n",
       "exclude empty or all-NA columns when determining the result dtypes. To retain the old behavior, exclude the \n",
       "relevant entries before the concat operation.\n",
       "  results = pd.concat([results, normalized_data]) #.dropna(axis=1, how=\"all\")])\n"
      ]
     },
     "metadata": {},
     "output_type": "display_data"
    },
    {
     "data": {
      "text/html": [
       "<pre style=\"white-space:pre;overflow-x:auto;line-height:normal;font-family:Menlo,'DejaVu Sans Mono',consolas,'Courier New',monospace\">/var/folders/7t/k8q3439j6z3c683j7w00wtm80000gn/T/ipykernel_50509/330735155.py:26: FutureWarning: The behavior of \n",
       "DataFrame concatenation with empty or all-NA entries is deprecated. In a future version, this will no longer \n",
       "exclude empty or all-NA columns when determining the result dtypes. To retain the old behavior, exclude the \n",
       "relevant entries before the concat operation.\n",
       "  results = pd.concat([results, normalized_data]) #.dropna(axis=1, how=\"all\")])\n",
       "</pre>\n"
      ],
      "text/plain": [
       "/var/folders/7t/k8q3439j6z3c683j7w00wtm80000gn/T/ipykernel_50509/330735155.py:26: FutureWarning: The behavior of \n",
       "DataFrame concatenation with empty or all-NA entries is deprecated. In a future version, this will no longer \n",
       "exclude empty or all-NA columns when determining the result dtypes. To retain the old behavior, exclude the \n",
       "relevant entries before the concat operation.\n",
       "  results = pd.concat([results, normalized_data]) #.dropna(axis=1, how=\"all\")])\n"
      ]
     },
     "metadata": {},
     "output_type": "display_data"
    },
    {
     "data": {
      "text/html": [
       "<pre style=\"white-space:pre;overflow-x:auto;line-height:normal;font-family:Menlo,'DejaVu Sans Mono',consolas,'Courier New',monospace\">/var/folders/7t/k8q3439j6z3c683j7w00wtm80000gn/T/ipykernel_50509/330735155.py:26: FutureWarning: The behavior of \n",
       "DataFrame concatenation with empty or all-NA entries is deprecated. In a future version, this will no longer \n",
       "exclude empty or all-NA columns when determining the result dtypes. To retain the old behavior, exclude the \n",
       "relevant entries before the concat operation.\n",
       "  results = pd.concat([results, normalized_data]) #.dropna(axis=1, how=\"all\")])\n",
       "</pre>\n"
      ],
      "text/plain": [
       "/var/folders/7t/k8q3439j6z3c683j7w00wtm80000gn/T/ipykernel_50509/330735155.py:26: FutureWarning: The behavior of \n",
       "DataFrame concatenation with empty or all-NA entries is deprecated. In a future version, this will no longer \n",
       "exclude empty or all-NA columns when determining the result dtypes. To retain the old behavior, exclude the \n",
       "relevant entries before the concat operation.\n",
       "  results = pd.concat([results, normalized_data]) #.dropna(axis=1, how=\"all\")])\n"
      ]
     },
     "metadata": {},
     "output_type": "display_data"
    },
    {
     "data": {
      "text/html": [
       "<pre style=\"white-space:pre;overflow-x:auto;line-height:normal;font-family:Menlo,'DejaVu Sans Mono',consolas,'Courier New',monospace\">/var/folders/7t/k8q3439j6z3c683j7w00wtm80000gn/T/ipykernel_50509/330735155.py:26: FutureWarning: The behavior of \n",
       "DataFrame concatenation with empty or all-NA entries is deprecated. In a future version, this will no longer \n",
       "exclude empty or all-NA columns when determining the result dtypes. To retain the old behavior, exclude the \n",
       "relevant entries before the concat operation.\n",
       "  results = pd.concat([results, normalized_data]) #.dropna(axis=1, how=\"all\")])\n",
       "</pre>\n"
      ],
      "text/plain": [
       "/var/folders/7t/k8q3439j6z3c683j7w00wtm80000gn/T/ipykernel_50509/330735155.py:26: FutureWarning: The behavior of \n",
       "DataFrame concatenation with empty or all-NA entries is deprecated. In a future version, this will no longer \n",
       "exclude empty or all-NA columns when determining the result dtypes. To retain the old behavior, exclude the \n",
       "relevant entries before the concat operation.\n",
       "  results = pd.concat([results, normalized_data]) #.dropna(axis=1, how=\"all\")])\n"
      ]
     },
     "metadata": {},
     "output_type": "display_data"
    },
    {
     "data": {
      "text/html": [
       "<pre style=\"white-space:pre;overflow-x:auto;line-height:normal;font-family:Menlo,'DejaVu Sans Mono',consolas,'Courier New',monospace\">/var/folders/7t/k8q3439j6z3c683j7w00wtm80000gn/T/ipykernel_50509/330735155.py:26: FutureWarning: The behavior of \n",
       "DataFrame concatenation with empty or all-NA entries is deprecated. In a future version, this will no longer \n",
       "exclude empty or all-NA columns when determining the result dtypes. To retain the old behavior, exclude the \n",
       "relevant entries before the concat operation.\n",
       "  results = pd.concat([results, normalized_data]) #.dropna(axis=1, how=\"all\")])\n",
       "</pre>\n"
      ],
      "text/plain": [
       "/var/folders/7t/k8q3439j6z3c683j7w00wtm80000gn/T/ipykernel_50509/330735155.py:26: FutureWarning: The behavior of \n",
       "DataFrame concatenation with empty or all-NA entries is deprecated. In a future version, this will no longer \n",
       "exclude empty or all-NA columns when determining the result dtypes. To retain the old behavior, exclude the \n",
       "relevant entries before the concat operation.\n",
       "  results = pd.concat([results, normalized_data]) #.dropna(axis=1, how=\"all\")])\n"
      ]
     },
     "metadata": {},
     "output_type": "display_data"
    },
    {
     "data": {
      "text/html": [
       "<pre style=\"white-space:pre;overflow-x:auto;line-height:normal;font-family:Menlo,'DejaVu Sans Mono',consolas,'Courier New',monospace\">/var/folders/7t/k8q3439j6z3c683j7w00wtm80000gn/T/ipykernel_50509/330735155.py:26: FutureWarning: The behavior of \n",
       "DataFrame concatenation with empty or all-NA entries is deprecated. In a future version, this will no longer \n",
       "exclude empty or all-NA columns when determining the result dtypes. To retain the old behavior, exclude the \n",
       "relevant entries before the concat operation.\n",
       "  results = pd.concat([results, normalized_data]) #.dropna(axis=1, how=\"all\")])\n",
       "</pre>\n"
      ],
      "text/plain": [
       "/var/folders/7t/k8q3439j6z3c683j7w00wtm80000gn/T/ipykernel_50509/330735155.py:26: FutureWarning: The behavior of \n",
       "DataFrame concatenation with empty or all-NA entries is deprecated. In a future version, this will no longer \n",
       "exclude empty or all-NA columns when determining the result dtypes. To retain the old behavior, exclude the \n",
       "relevant entries before the concat operation.\n",
       "  results = pd.concat([results, normalized_data]) #.dropna(axis=1, how=\"all\")])\n"
      ]
     },
     "metadata": {},
     "output_type": "display_data"
    },
    {
     "data": {
      "text/html": [
       "<pre style=\"white-space:pre;overflow-x:auto;line-height:normal;font-family:Menlo,'DejaVu Sans Mono',consolas,'Courier New',monospace\">/var/folders/7t/k8q3439j6z3c683j7w00wtm80000gn/T/ipykernel_50509/330735155.py:26: FutureWarning: The behavior of \n",
       "DataFrame concatenation with empty or all-NA entries is deprecated. In a future version, this will no longer \n",
       "exclude empty or all-NA columns when determining the result dtypes. To retain the old behavior, exclude the \n",
       "relevant entries before the concat operation.\n",
       "  results = pd.concat([results, normalized_data]) #.dropna(axis=1, how=\"all\")])\n",
       "</pre>\n"
      ],
      "text/plain": [
       "/var/folders/7t/k8q3439j6z3c683j7w00wtm80000gn/T/ipykernel_50509/330735155.py:26: FutureWarning: The behavior of \n",
       "DataFrame concatenation with empty or all-NA entries is deprecated. In a future version, this will no longer \n",
       "exclude empty or all-NA columns when determining the result dtypes. To retain the old behavior, exclude the \n",
       "relevant entries before the concat operation.\n",
       "  results = pd.concat([results, normalized_data]) #.dropna(axis=1, how=\"all\")])\n"
      ]
     },
     "metadata": {},
     "output_type": "display_data"
    },
    {
     "data": {
      "text/html": [
       "<pre style=\"white-space:pre;overflow-x:auto;line-height:normal;font-family:Menlo,'DejaVu Sans Mono',consolas,'Courier New',monospace\">/var/folders/7t/k8q3439j6z3c683j7w00wtm80000gn/T/ipykernel_50509/330735155.py:26: FutureWarning: The behavior of \n",
       "DataFrame concatenation with empty or all-NA entries is deprecated. In a future version, this will no longer \n",
       "exclude empty or all-NA columns when determining the result dtypes. To retain the old behavior, exclude the \n",
       "relevant entries before the concat operation.\n",
       "  results = pd.concat([results, normalized_data]) #.dropna(axis=1, how=\"all\")])\n",
       "</pre>\n"
      ],
      "text/plain": [
       "/var/folders/7t/k8q3439j6z3c683j7w00wtm80000gn/T/ipykernel_50509/330735155.py:26: FutureWarning: The behavior of \n",
       "DataFrame concatenation with empty or all-NA entries is deprecated. In a future version, this will no longer \n",
       "exclude empty or all-NA columns when determining the result dtypes. To retain the old behavior, exclude the \n",
       "relevant entries before the concat operation.\n",
       "  results = pd.concat([results, normalized_data]) #.dropna(axis=1, how=\"all\")])\n"
      ]
     },
     "metadata": {},
     "output_type": "display_data"
    },
    {
     "data": {
      "text/html": [
       "<pre style=\"white-space:pre;overflow-x:auto;line-height:normal;font-family:Menlo,'DejaVu Sans Mono',consolas,'Courier New',monospace\">/var/folders/7t/k8q3439j6z3c683j7w00wtm80000gn/T/ipykernel_50509/330735155.py:26: FutureWarning: The behavior of \n",
       "DataFrame concatenation with empty or all-NA entries is deprecated. In a future version, this will no longer \n",
       "exclude empty or all-NA columns when determining the result dtypes. To retain the old behavior, exclude the \n",
       "relevant entries before the concat operation.\n",
       "  results = pd.concat([results, normalized_data]) #.dropna(axis=1, how=\"all\")])\n",
       "</pre>\n"
      ],
      "text/plain": [
       "/var/folders/7t/k8q3439j6z3c683j7w00wtm80000gn/T/ipykernel_50509/330735155.py:26: FutureWarning: The behavior of \n",
       "DataFrame concatenation with empty or all-NA entries is deprecated. In a future version, this will no longer \n",
       "exclude empty or all-NA columns when determining the result dtypes. To retain the old behavior, exclude the \n",
       "relevant entries before the concat operation.\n",
       "  results = pd.concat([results, normalized_data]) #.dropna(axis=1, how=\"all\")])\n"
      ]
     },
     "metadata": {},
     "output_type": "display_data"
    },
    {
     "data": {
      "text/html": [
       "<pre style=\"white-space:pre;overflow-x:auto;line-height:normal;font-family:Menlo,'DejaVu Sans Mono',consolas,'Courier New',monospace\">/var/folders/7t/k8q3439j6z3c683j7w00wtm80000gn/T/ipykernel_50509/330735155.py:26: FutureWarning: The behavior of \n",
       "DataFrame concatenation with empty or all-NA entries is deprecated. In a future version, this will no longer \n",
       "exclude empty or all-NA columns when determining the result dtypes. To retain the old behavior, exclude the \n",
       "relevant entries before the concat operation.\n",
       "  results = pd.concat([results, normalized_data]) #.dropna(axis=1, how=\"all\")])\n",
       "</pre>\n"
      ],
      "text/plain": [
       "/var/folders/7t/k8q3439j6z3c683j7w00wtm80000gn/T/ipykernel_50509/330735155.py:26: FutureWarning: The behavior of \n",
       "DataFrame concatenation with empty or all-NA entries is deprecated. In a future version, this will no longer \n",
       "exclude empty or all-NA columns when determining the result dtypes. To retain the old behavior, exclude the \n",
       "relevant entries before the concat operation.\n",
       "  results = pd.concat([results, normalized_data]) #.dropna(axis=1, how=\"all\")])\n"
      ]
     },
     "metadata": {},
     "output_type": "display_data"
    },
    {
     "data": {
      "text/html": [
       "<pre style=\"white-space:pre;overflow-x:auto;line-height:normal;font-family:Menlo,'DejaVu Sans Mono',consolas,'Courier New',monospace\">/var/folders/7t/k8q3439j6z3c683j7w00wtm80000gn/T/ipykernel_50509/330735155.py:26: FutureWarning: The behavior of \n",
       "DataFrame concatenation with empty or all-NA entries is deprecated. In a future version, this will no longer \n",
       "exclude empty or all-NA columns when determining the result dtypes. To retain the old behavior, exclude the \n",
       "relevant entries before the concat operation.\n",
       "  results = pd.concat([results, normalized_data]) #.dropna(axis=1, how=\"all\")])\n",
       "</pre>\n"
      ],
      "text/plain": [
       "/var/folders/7t/k8q3439j6z3c683j7w00wtm80000gn/T/ipykernel_50509/330735155.py:26: FutureWarning: The behavior of \n",
       "DataFrame concatenation with empty or all-NA entries is deprecated. In a future version, this will no longer \n",
       "exclude empty or all-NA columns when determining the result dtypes. To retain the old behavior, exclude the \n",
       "relevant entries before the concat operation.\n",
       "  results = pd.concat([results, normalized_data]) #.dropna(axis=1, how=\"all\")])\n"
      ]
     },
     "metadata": {},
     "output_type": "display_data"
    },
    {
     "data": {
      "text/html": [
       "<pre style=\"white-space:pre;overflow-x:auto;line-height:normal;font-family:Menlo,'DejaVu Sans Mono',consolas,'Courier New',monospace\">/var/folders/7t/k8q3439j6z3c683j7w00wtm80000gn/T/ipykernel_50509/330735155.py:26: FutureWarning: The behavior of \n",
       "DataFrame concatenation with empty or all-NA entries is deprecated. In a future version, this will no longer \n",
       "exclude empty or all-NA columns when determining the result dtypes. To retain the old behavior, exclude the \n",
       "relevant entries before the concat operation.\n",
       "  results = pd.concat([results, normalized_data]) #.dropna(axis=1, how=\"all\")])\n",
       "</pre>\n"
      ],
      "text/plain": [
       "/var/folders/7t/k8q3439j6z3c683j7w00wtm80000gn/T/ipykernel_50509/330735155.py:26: FutureWarning: The behavior of \n",
       "DataFrame concatenation with empty or all-NA entries is deprecated. In a future version, this will no longer \n",
       "exclude empty or all-NA columns when determining the result dtypes. To retain the old behavior, exclude the \n",
       "relevant entries before the concat operation.\n",
       "  results = pd.concat([results, normalized_data]) #.dropna(axis=1, how=\"all\")])\n"
      ]
     },
     "metadata": {},
     "output_type": "display_data"
    },
    {
     "data": {
      "text/html": [
       "<pre style=\"white-space:pre;overflow-x:auto;line-height:normal;font-family:Menlo,'DejaVu Sans Mono',consolas,'Courier New',monospace\">/var/folders/7t/k8q3439j6z3c683j7w00wtm80000gn/T/ipykernel_50509/330735155.py:26: FutureWarning: The behavior of \n",
       "DataFrame concatenation with empty or all-NA entries is deprecated. In a future version, this will no longer \n",
       "exclude empty or all-NA columns when determining the result dtypes. To retain the old behavior, exclude the \n",
       "relevant entries before the concat operation.\n",
       "  results = pd.concat([results, normalized_data]) #.dropna(axis=1, how=\"all\")])\n",
       "</pre>\n"
      ],
      "text/plain": [
       "/var/folders/7t/k8q3439j6z3c683j7w00wtm80000gn/T/ipykernel_50509/330735155.py:26: FutureWarning: The behavior of \n",
       "DataFrame concatenation with empty or all-NA entries is deprecated. In a future version, this will no longer \n",
       "exclude empty or all-NA columns when determining the result dtypes. To retain the old behavior, exclude the \n",
       "relevant entries before the concat operation.\n",
       "  results = pd.concat([results, normalized_data]) #.dropna(axis=1, how=\"all\")])\n"
      ]
     },
     "metadata": {},
     "output_type": "display_data"
    },
    {
     "data": {
      "text/html": [
       "<pre style=\"white-space:pre;overflow-x:auto;line-height:normal;font-family:Menlo,'DejaVu Sans Mono',consolas,'Courier New',monospace\">/var/folders/7t/k8q3439j6z3c683j7w00wtm80000gn/T/ipykernel_50509/330735155.py:26: FutureWarning: The behavior of \n",
       "DataFrame concatenation with empty or all-NA entries is deprecated. In a future version, this will no longer \n",
       "exclude empty or all-NA columns when determining the result dtypes. To retain the old behavior, exclude the \n",
       "relevant entries before the concat operation.\n",
       "  results = pd.concat([results, normalized_data]) #.dropna(axis=1, how=\"all\")])\n",
       "</pre>\n"
      ],
      "text/plain": [
       "/var/folders/7t/k8q3439j6z3c683j7w00wtm80000gn/T/ipykernel_50509/330735155.py:26: FutureWarning: The behavior of \n",
       "DataFrame concatenation with empty or all-NA entries is deprecated. In a future version, this will no longer \n",
       "exclude empty or all-NA columns when determining the result dtypes. To retain the old behavior, exclude the \n",
       "relevant entries before the concat operation.\n",
       "  results = pd.concat([results, normalized_data]) #.dropna(axis=1, how=\"all\")])\n"
      ]
     },
     "metadata": {},
     "output_type": "display_data"
    },
    {
     "data": {
      "text/html": [
       "<pre style=\"white-space:pre;overflow-x:auto;line-height:normal;font-family:Menlo,'DejaVu Sans Mono',consolas,'Courier New',monospace\">/var/folders/7t/k8q3439j6z3c683j7w00wtm80000gn/T/ipykernel_50509/330735155.py:26: FutureWarning: The behavior of \n",
       "DataFrame concatenation with empty or all-NA entries is deprecated. In a future version, this will no longer \n",
       "exclude empty or all-NA columns when determining the result dtypes. To retain the old behavior, exclude the \n",
       "relevant entries before the concat operation.\n",
       "  results = pd.concat([results, normalized_data]) #.dropna(axis=1, how=\"all\")])\n",
       "</pre>\n"
      ],
      "text/plain": [
       "/var/folders/7t/k8q3439j6z3c683j7w00wtm80000gn/T/ipykernel_50509/330735155.py:26: FutureWarning: The behavior of \n",
       "DataFrame concatenation with empty or all-NA entries is deprecated. In a future version, this will no longer \n",
       "exclude empty or all-NA columns when determining the result dtypes. To retain the old behavior, exclude the \n",
       "relevant entries before the concat operation.\n",
       "  results = pd.concat([results, normalized_data]) #.dropna(axis=1, how=\"all\")])\n"
      ]
     },
     "metadata": {},
     "output_type": "display_data"
    },
    {
     "data": {
      "text/html": [
       "<pre style=\"white-space:pre;overflow-x:auto;line-height:normal;font-family:Menlo,'DejaVu Sans Mono',consolas,'Courier New',monospace\">/var/folders/7t/k8q3439j6z3c683j7w00wtm80000gn/T/ipykernel_50509/330735155.py:26: FutureWarning: The behavior of \n",
       "DataFrame concatenation with empty or all-NA entries is deprecated. In a future version, this will no longer \n",
       "exclude empty or all-NA columns when determining the result dtypes. To retain the old behavior, exclude the \n",
       "relevant entries before the concat operation.\n",
       "  results = pd.concat([results, normalized_data]) #.dropna(axis=1, how=\"all\")])\n",
       "</pre>\n"
      ],
      "text/plain": [
       "/var/folders/7t/k8q3439j6z3c683j7w00wtm80000gn/T/ipykernel_50509/330735155.py:26: FutureWarning: The behavior of \n",
       "DataFrame concatenation with empty or all-NA entries is deprecated. In a future version, this will no longer \n",
       "exclude empty or all-NA columns when determining the result dtypes. To retain the old behavior, exclude the \n",
       "relevant entries before the concat operation.\n",
       "  results = pd.concat([results, normalized_data]) #.dropna(axis=1, how=\"all\")])\n"
      ]
     },
     "metadata": {},
     "output_type": "display_data"
    },
    {
     "data": {
      "text/html": [
       "<pre style=\"white-space:pre;overflow-x:auto;line-height:normal;font-family:Menlo,'DejaVu Sans Mono',consolas,'Courier New',monospace\">/var/folders/7t/k8q3439j6z3c683j7w00wtm80000gn/T/ipykernel_50509/330735155.py:26: FutureWarning: The behavior of \n",
       "DataFrame concatenation with empty or all-NA entries is deprecated. In a future version, this will no longer \n",
       "exclude empty or all-NA columns when determining the result dtypes. To retain the old behavior, exclude the \n",
       "relevant entries before the concat operation.\n",
       "  results = pd.concat([results, normalized_data]) #.dropna(axis=1, how=\"all\")])\n",
       "</pre>\n"
      ],
      "text/plain": [
       "/var/folders/7t/k8q3439j6z3c683j7w00wtm80000gn/T/ipykernel_50509/330735155.py:26: FutureWarning: The behavior of \n",
       "DataFrame concatenation with empty or all-NA entries is deprecated. In a future version, this will no longer \n",
       "exclude empty or all-NA columns when determining the result dtypes. To retain the old behavior, exclude the \n",
       "relevant entries before the concat operation.\n",
       "  results = pd.concat([results, normalized_data]) #.dropna(axis=1, how=\"all\")])\n"
      ]
     },
     "metadata": {},
     "output_type": "display_data"
    },
    {
     "data": {
      "text/html": [
       "<pre style=\"white-space:pre;overflow-x:auto;line-height:normal;font-family:Menlo,'DejaVu Sans Mono',consolas,'Courier New',monospace\">/var/folders/7t/k8q3439j6z3c683j7w00wtm80000gn/T/ipykernel_50509/330735155.py:26: FutureWarning: The behavior of \n",
       "DataFrame concatenation with empty or all-NA entries is deprecated. In a future version, this will no longer \n",
       "exclude empty or all-NA columns when determining the result dtypes. To retain the old behavior, exclude the \n",
       "relevant entries before the concat operation.\n",
       "  results = pd.concat([results, normalized_data]) #.dropna(axis=1, how=\"all\")])\n",
       "</pre>\n"
      ],
      "text/plain": [
       "/var/folders/7t/k8q3439j6z3c683j7w00wtm80000gn/T/ipykernel_50509/330735155.py:26: FutureWarning: The behavior of \n",
       "DataFrame concatenation with empty or all-NA entries is deprecated. In a future version, this will no longer \n",
       "exclude empty or all-NA columns when determining the result dtypes. To retain the old behavior, exclude the \n",
       "relevant entries before the concat operation.\n",
       "  results = pd.concat([results, normalized_data]) #.dropna(axis=1, how=\"all\")])\n"
      ]
     },
     "metadata": {},
     "output_type": "display_data"
    },
    {
     "data": {
      "text/html": [
       "<pre style=\"white-space:pre;overflow-x:auto;line-height:normal;font-family:Menlo,'DejaVu Sans Mono',consolas,'Courier New',monospace\">/var/folders/7t/k8q3439j6z3c683j7w00wtm80000gn/T/ipykernel_50509/330735155.py:26: FutureWarning: The behavior of \n",
       "DataFrame concatenation with empty or all-NA entries is deprecated. In a future version, this will no longer \n",
       "exclude empty or all-NA columns when determining the result dtypes. To retain the old behavior, exclude the \n",
       "relevant entries before the concat operation.\n",
       "  results = pd.concat([results, normalized_data]) #.dropna(axis=1, how=\"all\")])\n",
       "</pre>\n"
      ],
      "text/plain": [
       "/var/folders/7t/k8q3439j6z3c683j7w00wtm80000gn/T/ipykernel_50509/330735155.py:26: FutureWarning: The behavior of \n",
       "DataFrame concatenation with empty or all-NA entries is deprecated. In a future version, this will no longer \n",
       "exclude empty or all-NA columns when determining the result dtypes. To retain the old behavior, exclude the \n",
       "relevant entries before the concat operation.\n",
       "  results = pd.concat([results, normalized_data]) #.dropna(axis=1, how=\"all\")])\n"
      ]
     },
     "metadata": {},
     "output_type": "display_data"
    },
    {
     "data": {
      "text/html": [
       "<pre style=\"white-space:pre;overflow-x:auto;line-height:normal;font-family:Menlo,'DejaVu Sans Mono',consolas,'Courier New',monospace\">/var/folders/7t/k8q3439j6z3c683j7w00wtm80000gn/T/ipykernel_50509/330735155.py:26: FutureWarning: The behavior of \n",
       "DataFrame concatenation with empty or all-NA entries is deprecated. In a future version, this will no longer \n",
       "exclude empty or all-NA columns when determining the result dtypes. To retain the old behavior, exclude the \n",
       "relevant entries before the concat operation.\n",
       "  results = pd.concat([results, normalized_data]) #.dropna(axis=1, how=\"all\")])\n",
       "</pre>\n"
      ],
      "text/plain": [
       "/var/folders/7t/k8q3439j6z3c683j7w00wtm80000gn/T/ipykernel_50509/330735155.py:26: FutureWarning: The behavior of \n",
       "DataFrame concatenation with empty or all-NA entries is deprecated. In a future version, this will no longer \n",
       "exclude empty or all-NA columns when determining the result dtypes. To retain the old behavior, exclude the \n",
       "relevant entries before the concat operation.\n",
       "  results = pd.concat([results, normalized_data]) #.dropna(axis=1, how=\"all\")])\n"
      ]
     },
     "metadata": {},
     "output_type": "display_data"
    },
    {
     "data": {
      "text/html": [
       "<pre style=\"white-space:pre;overflow-x:auto;line-height:normal;font-family:Menlo,'DejaVu Sans Mono',consolas,'Courier New',monospace\">/var/folders/7t/k8q3439j6z3c683j7w00wtm80000gn/T/ipykernel_50509/330735155.py:26: FutureWarning: The behavior of \n",
       "DataFrame concatenation with empty or all-NA entries is deprecated. In a future version, this will no longer \n",
       "exclude empty or all-NA columns when determining the result dtypes. To retain the old behavior, exclude the \n",
       "relevant entries before the concat operation.\n",
       "  results = pd.concat([results, normalized_data]) #.dropna(axis=1, how=\"all\")])\n",
       "</pre>\n"
      ],
      "text/plain": [
       "/var/folders/7t/k8q3439j6z3c683j7w00wtm80000gn/T/ipykernel_50509/330735155.py:26: FutureWarning: The behavior of \n",
       "DataFrame concatenation with empty or all-NA entries is deprecated. In a future version, this will no longer \n",
       "exclude empty or all-NA columns when determining the result dtypes. To retain the old behavior, exclude the \n",
       "relevant entries before the concat operation.\n",
       "  results = pd.concat([results, normalized_data]) #.dropna(axis=1, how=\"all\")])\n"
      ]
     },
     "metadata": {},
     "output_type": "display_data"
    },
    {
     "data": {
      "text/html": [
       "<pre style=\"white-space:pre;overflow-x:auto;line-height:normal;font-family:Menlo,'DejaVu Sans Mono',consolas,'Courier New',monospace\">/var/folders/7t/k8q3439j6z3c683j7w00wtm80000gn/T/ipykernel_50509/330735155.py:26: FutureWarning: The behavior of \n",
       "DataFrame concatenation with empty or all-NA entries is deprecated. In a future version, this will no longer \n",
       "exclude empty or all-NA columns when determining the result dtypes. To retain the old behavior, exclude the \n",
       "relevant entries before the concat operation.\n",
       "  results = pd.concat([results, normalized_data]) #.dropna(axis=1, how=\"all\")])\n",
       "</pre>\n"
      ],
      "text/plain": [
       "/var/folders/7t/k8q3439j6z3c683j7w00wtm80000gn/T/ipykernel_50509/330735155.py:26: FutureWarning: The behavior of \n",
       "DataFrame concatenation with empty or all-NA entries is deprecated. In a future version, this will no longer \n",
       "exclude empty or all-NA columns when determining the result dtypes. To retain the old behavior, exclude the \n",
       "relevant entries before the concat operation.\n",
       "  results = pd.concat([results, normalized_data]) #.dropna(axis=1, how=\"all\")])\n"
      ]
     },
     "metadata": {},
     "output_type": "display_data"
    },
    {
     "data": {
      "text/html": [
       "<pre style=\"white-space:pre;overflow-x:auto;line-height:normal;font-family:Menlo,'DejaVu Sans Mono',consolas,'Courier New',monospace\">/var/folders/7t/k8q3439j6z3c683j7w00wtm80000gn/T/ipykernel_50509/330735155.py:26: FutureWarning: The behavior of \n",
       "DataFrame concatenation with empty or all-NA entries is deprecated. In a future version, this will no longer \n",
       "exclude empty or all-NA columns when determining the result dtypes. To retain the old behavior, exclude the \n",
       "relevant entries before the concat operation.\n",
       "  results = pd.concat([results, normalized_data]) #.dropna(axis=1, how=\"all\")])\n",
       "</pre>\n"
      ],
      "text/plain": [
       "/var/folders/7t/k8q3439j6z3c683j7w00wtm80000gn/T/ipykernel_50509/330735155.py:26: FutureWarning: The behavior of \n",
       "DataFrame concatenation with empty or all-NA entries is deprecated. In a future version, this will no longer \n",
       "exclude empty or all-NA columns when determining the result dtypes. To retain the old behavior, exclude the \n",
       "relevant entries before the concat operation.\n",
       "  results = pd.concat([results, normalized_data]) #.dropna(axis=1, how=\"all\")])\n"
      ]
     },
     "metadata": {},
     "output_type": "display_data"
    },
    {
     "data": {
      "text/html": [
       "<pre style=\"white-space:pre;overflow-x:auto;line-height:normal;font-family:Menlo,'DejaVu Sans Mono',consolas,'Courier New',monospace\">/var/folders/7t/k8q3439j6z3c683j7w00wtm80000gn/T/ipykernel_50509/330735155.py:26: FutureWarning: The behavior of \n",
       "DataFrame concatenation with empty or all-NA entries is deprecated. In a future version, this will no longer \n",
       "exclude empty or all-NA columns when determining the result dtypes. To retain the old behavior, exclude the \n",
       "relevant entries before the concat operation.\n",
       "  results = pd.concat([results, normalized_data]) #.dropna(axis=1, how=\"all\")])\n",
       "</pre>\n"
      ],
      "text/plain": [
       "/var/folders/7t/k8q3439j6z3c683j7w00wtm80000gn/T/ipykernel_50509/330735155.py:26: FutureWarning: The behavior of \n",
       "DataFrame concatenation with empty or all-NA entries is deprecated. In a future version, this will no longer \n",
       "exclude empty or all-NA columns when determining the result dtypes. To retain the old behavior, exclude the \n",
       "relevant entries before the concat operation.\n",
       "  results = pd.concat([results, normalized_data]) #.dropna(axis=1, how=\"all\")])\n"
      ]
     },
     "metadata": {},
     "output_type": "display_data"
    },
    {
     "data": {
      "text/html": [
       "<pre style=\"white-space:pre;overflow-x:auto;line-height:normal;font-family:Menlo,'DejaVu Sans Mono',consolas,'Courier New',monospace\">/var/folders/7t/k8q3439j6z3c683j7w00wtm80000gn/T/ipykernel_50509/330735155.py:26: FutureWarning: The behavior of \n",
       "DataFrame concatenation with empty or all-NA entries is deprecated. In a future version, this will no longer \n",
       "exclude empty or all-NA columns when determining the result dtypes. To retain the old behavior, exclude the \n",
       "relevant entries before the concat operation.\n",
       "  results = pd.concat([results, normalized_data]) #.dropna(axis=1, how=\"all\")])\n",
       "</pre>\n"
      ],
      "text/plain": [
       "/var/folders/7t/k8q3439j6z3c683j7w00wtm80000gn/T/ipykernel_50509/330735155.py:26: FutureWarning: The behavior of \n",
       "DataFrame concatenation with empty or all-NA entries is deprecated. In a future version, this will no longer \n",
       "exclude empty or all-NA columns when determining the result dtypes. To retain the old behavior, exclude the \n",
       "relevant entries before the concat operation.\n",
       "  results = pd.concat([results, normalized_data]) #.dropna(axis=1, how=\"all\")])\n"
      ]
     },
     "metadata": {},
     "output_type": "display_data"
    },
    {
     "data": {
      "text/html": [
       "<pre style=\"white-space:pre;overflow-x:auto;line-height:normal;font-family:Menlo,'DejaVu Sans Mono',consolas,'Courier New',monospace\">/var/folders/7t/k8q3439j6z3c683j7w00wtm80000gn/T/ipykernel_50509/330735155.py:26: FutureWarning: The behavior of \n",
       "DataFrame concatenation with empty or all-NA entries is deprecated. In a future version, this will no longer \n",
       "exclude empty or all-NA columns when determining the result dtypes. To retain the old behavior, exclude the \n",
       "relevant entries before the concat operation.\n",
       "  results = pd.concat([results, normalized_data]) #.dropna(axis=1, how=\"all\")])\n",
       "</pre>\n"
      ],
      "text/plain": [
       "/var/folders/7t/k8q3439j6z3c683j7w00wtm80000gn/T/ipykernel_50509/330735155.py:26: FutureWarning: The behavior of \n",
       "DataFrame concatenation with empty or all-NA entries is deprecated. In a future version, this will no longer \n",
       "exclude empty or all-NA columns when determining the result dtypes. To retain the old behavior, exclude the \n",
       "relevant entries before the concat operation.\n",
       "  results = pd.concat([results, normalized_data]) #.dropna(axis=1, how=\"all\")])\n"
      ]
     },
     "metadata": {},
     "output_type": "display_data"
    },
    {
     "data": {
      "text/html": [
       "<pre style=\"white-space:pre;overflow-x:auto;line-height:normal;font-family:Menlo,'DejaVu Sans Mono',consolas,'Courier New',monospace\">/var/folders/7t/k8q3439j6z3c683j7w00wtm80000gn/T/ipykernel_50509/330735155.py:26: FutureWarning: The behavior of \n",
       "DataFrame concatenation with empty or all-NA entries is deprecated. In a future version, this will no longer \n",
       "exclude empty or all-NA columns when determining the result dtypes. To retain the old behavior, exclude the \n",
       "relevant entries before the concat operation.\n",
       "  results = pd.concat([results, normalized_data]) #.dropna(axis=1, how=\"all\")])\n",
       "</pre>\n"
      ],
      "text/plain": [
       "/var/folders/7t/k8q3439j6z3c683j7w00wtm80000gn/T/ipykernel_50509/330735155.py:26: FutureWarning: The behavior of \n",
       "DataFrame concatenation with empty or all-NA entries is deprecated. In a future version, this will no longer \n",
       "exclude empty or all-NA columns when determining the result dtypes. To retain the old behavior, exclude the \n",
       "relevant entries before the concat operation.\n",
       "  results = pd.concat([results, normalized_data]) #.dropna(axis=1, how=\"all\")])\n"
      ]
     },
     "metadata": {},
     "output_type": "display_data"
    },
    {
     "data": {
      "text/html": [
       "<pre style=\"white-space:pre;overflow-x:auto;line-height:normal;font-family:Menlo,'DejaVu Sans Mono',consolas,'Courier New',monospace\">/var/folders/7t/k8q3439j6z3c683j7w00wtm80000gn/T/ipykernel_50509/330735155.py:26: FutureWarning: The behavior of \n",
       "DataFrame concatenation with empty or all-NA entries is deprecated. In a future version, this will no longer \n",
       "exclude empty or all-NA columns when determining the result dtypes. To retain the old behavior, exclude the \n",
       "relevant entries before the concat operation.\n",
       "  results = pd.concat([results, normalized_data]) #.dropna(axis=1, how=\"all\")])\n",
       "</pre>\n"
      ],
      "text/plain": [
       "/var/folders/7t/k8q3439j6z3c683j7w00wtm80000gn/T/ipykernel_50509/330735155.py:26: FutureWarning: The behavior of \n",
       "DataFrame concatenation with empty or all-NA entries is deprecated. In a future version, this will no longer \n",
       "exclude empty or all-NA columns when determining the result dtypes. To retain the old behavior, exclude the \n",
       "relevant entries before the concat operation.\n",
       "  results = pd.concat([results, normalized_data]) #.dropna(axis=1, how=\"all\")])\n"
      ]
     },
     "metadata": {},
     "output_type": "display_data"
    },
    {
     "data": {
      "text/html": [
       "<pre style=\"white-space:pre;overflow-x:auto;line-height:normal;font-family:Menlo,'DejaVu Sans Mono',consolas,'Courier New',monospace\">/var/folders/7t/k8q3439j6z3c683j7w00wtm80000gn/T/ipykernel_50509/330735155.py:26: FutureWarning: The behavior of \n",
       "DataFrame concatenation with empty or all-NA entries is deprecated. In a future version, this will no longer \n",
       "exclude empty or all-NA columns when determining the result dtypes. To retain the old behavior, exclude the \n",
       "relevant entries before the concat operation.\n",
       "  results = pd.concat([results, normalized_data]) #.dropna(axis=1, how=\"all\")])\n",
       "</pre>\n"
      ],
      "text/plain": [
       "/var/folders/7t/k8q3439j6z3c683j7w00wtm80000gn/T/ipykernel_50509/330735155.py:26: FutureWarning: The behavior of \n",
       "DataFrame concatenation with empty or all-NA entries is deprecated. In a future version, this will no longer \n",
       "exclude empty or all-NA columns when determining the result dtypes. To retain the old behavior, exclude the \n",
       "relevant entries before the concat operation.\n",
       "  results = pd.concat([results, normalized_data]) #.dropna(axis=1, how=\"all\")])\n"
      ]
     },
     "metadata": {},
     "output_type": "display_data"
    },
    {
     "data": {
      "text/html": [
       "<pre style=\"white-space:pre;overflow-x:auto;line-height:normal;font-family:Menlo,'DejaVu Sans Mono',consolas,'Courier New',monospace\">/var/folders/7t/k8q3439j6z3c683j7w00wtm80000gn/T/ipykernel_50509/330735155.py:26: FutureWarning: The behavior of \n",
       "DataFrame concatenation with empty or all-NA entries is deprecated. In a future version, this will no longer \n",
       "exclude empty or all-NA columns when determining the result dtypes. To retain the old behavior, exclude the \n",
       "relevant entries before the concat operation.\n",
       "  results = pd.concat([results, normalized_data]) #.dropna(axis=1, how=\"all\")])\n",
       "</pre>\n"
      ],
      "text/plain": [
       "/var/folders/7t/k8q3439j6z3c683j7w00wtm80000gn/T/ipykernel_50509/330735155.py:26: FutureWarning: The behavior of \n",
       "DataFrame concatenation with empty or all-NA entries is deprecated. In a future version, this will no longer \n",
       "exclude empty or all-NA columns when determining the result dtypes. To retain the old behavior, exclude the \n",
       "relevant entries before the concat operation.\n",
       "  results = pd.concat([results, normalized_data]) #.dropna(axis=1, how=\"all\")])\n"
      ]
     },
     "metadata": {},
     "output_type": "display_data"
    },
    {
     "data": {
      "text/html": [
       "<pre style=\"white-space:pre;overflow-x:auto;line-height:normal;font-family:Menlo,'DejaVu Sans Mono',consolas,'Courier New',monospace\">/var/folders/7t/k8q3439j6z3c683j7w00wtm80000gn/T/ipykernel_50509/330735155.py:26: FutureWarning: The behavior of \n",
       "DataFrame concatenation with empty or all-NA entries is deprecated. In a future version, this will no longer \n",
       "exclude empty or all-NA columns when determining the result dtypes. To retain the old behavior, exclude the \n",
       "relevant entries before the concat operation.\n",
       "  results = pd.concat([results, normalized_data]) #.dropna(axis=1, how=\"all\")])\n",
       "</pre>\n"
      ],
      "text/plain": [
       "/var/folders/7t/k8q3439j6z3c683j7w00wtm80000gn/T/ipykernel_50509/330735155.py:26: FutureWarning: The behavior of \n",
       "DataFrame concatenation with empty or all-NA entries is deprecated. In a future version, this will no longer \n",
       "exclude empty or all-NA columns when determining the result dtypes. To retain the old behavior, exclude the \n",
       "relevant entries before the concat operation.\n",
       "  results = pd.concat([results, normalized_data]) #.dropna(axis=1, how=\"all\")])\n"
      ]
     },
     "metadata": {},
     "output_type": "display_data"
    },
    {
     "data": {
      "text/html": [
       "<pre style=\"white-space:pre;overflow-x:auto;line-height:normal;font-family:Menlo,'DejaVu Sans Mono',consolas,'Courier New',monospace\">/var/folders/7t/k8q3439j6z3c683j7w00wtm80000gn/T/ipykernel_50509/330735155.py:26: FutureWarning: The behavior of \n",
       "DataFrame concatenation with empty or all-NA entries is deprecated. In a future version, this will no longer \n",
       "exclude empty or all-NA columns when determining the result dtypes. To retain the old behavior, exclude the \n",
       "relevant entries before the concat operation.\n",
       "  results = pd.concat([results, normalized_data]) #.dropna(axis=1, how=\"all\")])\n",
       "</pre>\n"
      ],
      "text/plain": [
       "/var/folders/7t/k8q3439j6z3c683j7w00wtm80000gn/T/ipykernel_50509/330735155.py:26: FutureWarning: The behavior of \n",
       "DataFrame concatenation with empty or all-NA entries is deprecated. In a future version, this will no longer \n",
       "exclude empty or all-NA columns when determining the result dtypes. To retain the old behavior, exclude the \n",
       "relevant entries before the concat operation.\n",
       "  results = pd.concat([results, normalized_data]) #.dropna(axis=1, how=\"all\")])\n"
      ]
     },
     "metadata": {},
     "output_type": "display_data"
    },
    {
     "data": {
      "text/html": [
       "<pre style=\"white-space:pre;overflow-x:auto;line-height:normal;font-family:Menlo,'DejaVu Sans Mono',consolas,'Courier New',monospace\">/var/folders/7t/k8q3439j6z3c683j7w00wtm80000gn/T/ipykernel_50509/330735155.py:26: FutureWarning: The behavior of \n",
       "DataFrame concatenation with empty or all-NA entries is deprecated. In a future version, this will no longer \n",
       "exclude empty or all-NA columns when determining the result dtypes. To retain the old behavior, exclude the \n",
       "relevant entries before the concat operation.\n",
       "  results = pd.concat([results, normalized_data]) #.dropna(axis=1, how=\"all\")])\n",
       "</pre>\n"
      ],
      "text/plain": [
       "/var/folders/7t/k8q3439j6z3c683j7w00wtm80000gn/T/ipykernel_50509/330735155.py:26: FutureWarning: The behavior of \n",
       "DataFrame concatenation with empty or all-NA entries is deprecated. In a future version, this will no longer \n",
       "exclude empty or all-NA columns when determining the result dtypes. To retain the old behavior, exclude the \n",
       "relevant entries before the concat operation.\n",
       "  results = pd.concat([results, normalized_data]) #.dropna(axis=1, how=\"all\")])\n"
      ]
     },
     "metadata": {},
     "output_type": "display_data"
    },
    {
     "data": {
      "text/html": [
       "<pre style=\"white-space:pre;overflow-x:auto;line-height:normal;font-family:Menlo,'DejaVu Sans Mono',consolas,'Courier New',monospace\">/var/folders/7t/k8q3439j6z3c683j7w00wtm80000gn/T/ipykernel_50509/330735155.py:26: FutureWarning: The behavior of \n",
       "DataFrame concatenation with empty or all-NA entries is deprecated. In a future version, this will no longer \n",
       "exclude empty or all-NA columns when determining the result dtypes. To retain the old behavior, exclude the \n",
       "relevant entries before the concat operation.\n",
       "  results = pd.concat([results, normalized_data]) #.dropna(axis=1, how=\"all\")])\n",
       "</pre>\n"
      ],
      "text/plain": [
       "/var/folders/7t/k8q3439j6z3c683j7w00wtm80000gn/T/ipykernel_50509/330735155.py:26: FutureWarning: The behavior of \n",
       "DataFrame concatenation with empty or all-NA entries is deprecated. In a future version, this will no longer \n",
       "exclude empty or all-NA columns when determining the result dtypes. To retain the old behavior, exclude the \n",
       "relevant entries before the concat operation.\n",
       "  results = pd.concat([results, normalized_data]) #.dropna(axis=1, how=\"all\")])\n"
      ]
     },
     "metadata": {},
     "output_type": "display_data"
    },
    {
     "data": {
      "text/html": [
       "<pre style=\"white-space:pre;overflow-x:auto;line-height:normal;font-family:Menlo,'DejaVu Sans Mono',consolas,'Courier New',monospace\">/var/folders/7t/k8q3439j6z3c683j7w00wtm80000gn/T/ipykernel_50509/330735155.py:26: FutureWarning: The behavior of \n",
       "DataFrame concatenation with empty or all-NA entries is deprecated. In a future version, this will no longer \n",
       "exclude empty or all-NA columns when determining the result dtypes. To retain the old behavior, exclude the \n",
       "relevant entries before the concat operation.\n",
       "  results = pd.concat([results, normalized_data]) #.dropna(axis=1, how=\"all\")])\n",
       "</pre>\n"
      ],
      "text/plain": [
       "/var/folders/7t/k8q3439j6z3c683j7w00wtm80000gn/T/ipykernel_50509/330735155.py:26: FutureWarning: The behavior of \n",
       "DataFrame concatenation with empty or all-NA entries is deprecated. In a future version, this will no longer \n",
       "exclude empty or all-NA columns when determining the result dtypes. To retain the old behavior, exclude the \n",
       "relevant entries before the concat operation.\n",
       "  results = pd.concat([results, normalized_data]) #.dropna(axis=1, how=\"all\")])\n"
      ]
     },
     "metadata": {},
     "output_type": "display_data"
    },
    {
     "data": {
      "text/html": [
       "<pre style=\"white-space:pre;overflow-x:auto;line-height:normal;font-family:Menlo,'DejaVu Sans Mono',consolas,'Courier New',monospace\">/var/folders/7t/k8q3439j6z3c683j7w00wtm80000gn/T/ipykernel_50509/330735155.py:26: FutureWarning: The behavior of \n",
       "DataFrame concatenation with empty or all-NA entries is deprecated. In a future version, this will no longer \n",
       "exclude empty or all-NA columns when determining the result dtypes. To retain the old behavior, exclude the \n",
       "relevant entries before the concat operation.\n",
       "  results = pd.concat([results, normalized_data]) #.dropna(axis=1, how=\"all\")])\n",
       "</pre>\n"
      ],
      "text/plain": [
       "/var/folders/7t/k8q3439j6z3c683j7w00wtm80000gn/T/ipykernel_50509/330735155.py:26: FutureWarning: The behavior of \n",
       "DataFrame concatenation with empty or all-NA entries is deprecated. In a future version, this will no longer \n",
       "exclude empty or all-NA columns when determining the result dtypes. To retain the old behavior, exclude the \n",
       "relevant entries before the concat operation.\n",
       "  results = pd.concat([results, normalized_data]) #.dropna(axis=1, how=\"all\")])\n"
      ]
     },
     "metadata": {},
     "output_type": "display_data"
    },
    {
     "data": {
      "text/html": [
       "<pre style=\"white-space:pre;overflow-x:auto;line-height:normal;font-family:Menlo,'DejaVu Sans Mono',consolas,'Courier New',monospace\">/var/folders/7t/k8q3439j6z3c683j7w00wtm80000gn/T/ipykernel_50509/330735155.py:26: FutureWarning: The behavior of \n",
       "DataFrame concatenation with empty or all-NA entries is deprecated. In a future version, this will no longer \n",
       "exclude empty or all-NA columns when determining the result dtypes. To retain the old behavior, exclude the \n",
       "relevant entries before the concat operation.\n",
       "  results = pd.concat([results, normalized_data]) #.dropna(axis=1, how=\"all\")])\n",
       "</pre>\n"
      ],
      "text/plain": [
       "/var/folders/7t/k8q3439j6z3c683j7w00wtm80000gn/T/ipykernel_50509/330735155.py:26: FutureWarning: The behavior of \n",
       "DataFrame concatenation with empty or all-NA entries is deprecated. In a future version, this will no longer \n",
       "exclude empty or all-NA columns when determining the result dtypes. To retain the old behavior, exclude the \n",
       "relevant entries before the concat operation.\n",
       "  results = pd.concat([results, normalized_data]) #.dropna(axis=1, how=\"all\")])\n"
      ]
     },
     "metadata": {},
     "output_type": "display_data"
    },
    {
     "data": {
      "text/html": [
       "<pre style=\"white-space:pre;overflow-x:auto;line-height:normal;font-family:Menlo,'DejaVu Sans Mono',consolas,'Courier New',monospace\">/var/folders/7t/k8q3439j6z3c683j7w00wtm80000gn/T/ipykernel_50509/330735155.py:26: FutureWarning: The behavior of \n",
       "DataFrame concatenation with empty or all-NA entries is deprecated. In a future version, this will no longer \n",
       "exclude empty or all-NA columns when determining the result dtypes. To retain the old behavior, exclude the \n",
       "relevant entries before the concat operation.\n",
       "  results = pd.concat([results, normalized_data]) #.dropna(axis=1, how=\"all\")])\n",
       "</pre>\n"
      ],
      "text/plain": [
       "/var/folders/7t/k8q3439j6z3c683j7w00wtm80000gn/T/ipykernel_50509/330735155.py:26: FutureWarning: The behavior of \n",
       "DataFrame concatenation with empty or all-NA entries is deprecated. In a future version, this will no longer \n",
       "exclude empty or all-NA columns when determining the result dtypes. To retain the old behavior, exclude the \n",
       "relevant entries before the concat operation.\n",
       "  results = pd.concat([results, normalized_data]) #.dropna(axis=1, how=\"all\")])\n"
      ]
     },
     "metadata": {},
     "output_type": "display_data"
    },
    {
     "data": {
      "text/html": [
       "<pre style=\"white-space:pre;overflow-x:auto;line-height:normal;font-family:Menlo,'DejaVu Sans Mono',consolas,'Courier New',monospace\">/var/folders/7t/k8q3439j6z3c683j7w00wtm80000gn/T/ipykernel_50509/330735155.py:26: FutureWarning: The behavior of \n",
       "DataFrame concatenation with empty or all-NA entries is deprecated. In a future version, this will no longer \n",
       "exclude empty or all-NA columns when determining the result dtypes. To retain the old behavior, exclude the \n",
       "relevant entries before the concat operation.\n",
       "  results = pd.concat([results, normalized_data]) #.dropna(axis=1, how=\"all\")])\n",
       "</pre>\n"
      ],
      "text/plain": [
       "/var/folders/7t/k8q3439j6z3c683j7w00wtm80000gn/T/ipykernel_50509/330735155.py:26: FutureWarning: The behavior of \n",
       "DataFrame concatenation with empty or all-NA entries is deprecated. In a future version, this will no longer \n",
       "exclude empty or all-NA columns when determining the result dtypes. To retain the old behavior, exclude the \n",
       "relevant entries before the concat operation.\n",
       "  results = pd.concat([results, normalized_data]) #.dropna(axis=1, how=\"all\")])\n"
      ]
     },
     "metadata": {},
     "output_type": "display_data"
    },
    {
     "data": {
      "text/html": [
       "<pre style=\"white-space:pre;overflow-x:auto;line-height:normal;font-family:Menlo,'DejaVu Sans Mono',consolas,'Courier New',monospace\">/var/folders/7t/k8q3439j6z3c683j7w00wtm80000gn/T/ipykernel_50509/330735155.py:26: FutureWarning: The behavior of \n",
       "DataFrame concatenation with empty or all-NA entries is deprecated. In a future version, this will no longer \n",
       "exclude empty or all-NA columns when determining the result dtypes. To retain the old behavior, exclude the \n",
       "relevant entries before the concat operation.\n",
       "  results = pd.concat([results, normalized_data]) #.dropna(axis=1, how=\"all\")])\n",
       "</pre>\n"
      ],
      "text/plain": [
       "/var/folders/7t/k8q3439j6z3c683j7w00wtm80000gn/T/ipykernel_50509/330735155.py:26: FutureWarning: The behavior of \n",
       "DataFrame concatenation with empty or all-NA entries is deprecated. In a future version, this will no longer \n",
       "exclude empty or all-NA columns when determining the result dtypes. To retain the old behavior, exclude the \n",
       "relevant entries before the concat operation.\n",
       "  results = pd.concat([results, normalized_data]) #.dropna(axis=1, how=\"all\")])\n"
      ]
     },
     "metadata": {},
     "output_type": "display_data"
    },
    {
     "data": {
      "text/html": [
       "<pre style=\"white-space:pre;overflow-x:auto;line-height:normal;font-family:Menlo,'DejaVu Sans Mono',consolas,'Courier New',monospace\">/var/folders/7t/k8q3439j6z3c683j7w00wtm80000gn/T/ipykernel_50509/330735155.py:26: FutureWarning: The behavior of \n",
       "DataFrame concatenation with empty or all-NA entries is deprecated. In a future version, this will no longer \n",
       "exclude empty or all-NA columns when determining the result dtypes. To retain the old behavior, exclude the \n",
       "relevant entries before the concat operation.\n",
       "  results = pd.concat([results, normalized_data]) #.dropna(axis=1, how=\"all\")])\n",
       "</pre>\n"
      ],
      "text/plain": [
       "/var/folders/7t/k8q3439j6z3c683j7w00wtm80000gn/T/ipykernel_50509/330735155.py:26: FutureWarning: The behavior of \n",
       "DataFrame concatenation with empty or all-NA entries is deprecated. In a future version, this will no longer \n",
       "exclude empty or all-NA columns when determining the result dtypes. To retain the old behavior, exclude the \n",
       "relevant entries before the concat operation.\n",
       "  results = pd.concat([results, normalized_data]) #.dropna(axis=1, how=\"all\")])\n"
      ]
     },
     "metadata": {},
     "output_type": "display_data"
    },
    {
     "data": {
      "text/html": [
       "<pre style=\"white-space:pre;overflow-x:auto;line-height:normal;font-family:Menlo,'DejaVu Sans Mono',consolas,'Courier New',monospace\">/var/folders/7t/k8q3439j6z3c683j7w00wtm80000gn/T/ipykernel_50509/330735155.py:26: FutureWarning: The behavior of \n",
       "DataFrame concatenation with empty or all-NA entries is deprecated. In a future version, this will no longer \n",
       "exclude empty or all-NA columns when determining the result dtypes. To retain the old behavior, exclude the \n",
       "relevant entries before the concat operation.\n",
       "  results = pd.concat([results, normalized_data]) #.dropna(axis=1, how=\"all\")])\n",
       "</pre>\n"
      ],
      "text/plain": [
       "/var/folders/7t/k8q3439j6z3c683j7w00wtm80000gn/T/ipykernel_50509/330735155.py:26: FutureWarning: The behavior of \n",
       "DataFrame concatenation with empty or all-NA entries is deprecated. In a future version, this will no longer \n",
       "exclude empty or all-NA columns when determining the result dtypes. To retain the old behavior, exclude the \n",
       "relevant entries before the concat operation.\n",
       "  results = pd.concat([results, normalized_data]) #.dropna(axis=1, how=\"all\")])\n"
      ]
     },
     "metadata": {},
     "output_type": "display_data"
    },
    {
     "data": {
      "text/html": [
       "<pre style=\"white-space:pre;overflow-x:auto;line-height:normal;font-family:Menlo,'DejaVu Sans Mono',consolas,'Courier New',monospace\">/var/folders/7t/k8q3439j6z3c683j7w00wtm80000gn/T/ipykernel_50509/330735155.py:26: FutureWarning: The behavior of \n",
       "DataFrame concatenation with empty or all-NA entries is deprecated. In a future version, this will no longer \n",
       "exclude empty or all-NA columns when determining the result dtypes. To retain the old behavior, exclude the \n",
       "relevant entries before the concat operation.\n",
       "  results = pd.concat([results, normalized_data]) #.dropna(axis=1, how=\"all\")])\n",
       "</pre>\n"
      ],
      "text/plain": [
       "/var/folders/7t/k8q3439j6z3c683j7w00wtm80000gn/T/ipykernel_50509/330735155.py:26: FutureWarning: The behavior of \n",
       "DataFrame concatenation with empty or all-NA entries is deprecated. In a future version, this will no longer \n",
       "exclude empty or all-NA columns when determining the result dtypes. To retain the old behavior, exclude the \n",
       "relevant entries before the concat operation.\n",
       "  results = pd.concat([results, normalized_data]) #.dropna(axis=1, how=\"all\")])\n"
      ]
     },
     "metadata": {},
     "output_type": "display_data"
    },
    {
     "data": {
      "text/html": [
       "<pre style=\"white-space:pre;overflow-x:auto;line-height:normal;font-family:Menlo,'DejaVu Sans Mono',consolas,'Courier New',monospace\">/var/folders/7t/k8q3439j6z3c683j7w00wtm80000gn/T/ipykernel_50509/330735155.py:26: FutureWarning: The behavior of \n",
       "DataFrame concatenation with empty or all-NA entries is deprecated. In a future version, this will no longer \n",
       "exclude empty or all-NA columns when determining the result dtypes. To retain the old behavior, exclude the \n",
       "relevant entries before the concat operation.\n",
       "  results = pd.concat([results, normalized_data]) #.dropna(axis=1, how=\"all\")])\n",
       "</pre>\n"
      ],
      "text/plain": [
       "/var/folders/7t/k8q3439j6z3c683j7w00wtm80000gn/T/ipykernel_50509/330735155.py:26: FutureWarning: The behavior of \n",
       "DataFrame concatenation with empty or all-NA entries is deprecated. In a future version, this will no longer \n",
       "exclude empty or all-NA columns when determining the result dtypes. To retain the old behavior, exclude the \n",
       "relevant entries before the concat operation.\n",
       "  results = pd.concat([results, normalized_data]) #.dropna(axis=1, how=\"all\")])\n"
      ]
     },
     "metadata": {},
     "output_type": "display_data"
    },
    {
     "data": {
      "text/html": [
       "<pre style=\"white-space:pre;overflow-x:auto;line-height:normal;font-family:Menlo,'DejaVu Sans Mono',consolas,'Courier New',monospace\">/var/folders/7t/k8q3439j6z3c683j7w00wtm80000gn/T/ipykernel_50509/330735155.py:26: FutureWarning: The behavior of \n",
       "DataFrame concatenation with empty or all-NA entries is deprecated. In a future version, this will no longer \n",
       "exclude empty or all-NA columns when determining the result dtypes. To retain the old behavior, exclude the \n",
       "relevant entries before the concat operation.\n",
       "  results = pd.concat([results, normalized_data]) #.dropna(axis=1, how=\"all\")])\n",
       "</pre>\n"
      ],
      "text/plain": [
       "/var/folders/7t/k8q3439j6z3c683j7w00wtm80000gn/T/ipykernel_50509/330735155.py:26: FutureWarning: The behavior of \n",
       "DataFrame concatenation with empty or all-NA entries is deprecated. In a future version, this will no longer \n",
       "exclude empty or all-NA columns when determining the result dtypes. To retain the old behavior, exclude the \n",
       "relevant entries before the concat operation.\n",
       "  results = pd.concat([results, normalized_data]) #.dropna(axis=1, how=\"all\")])\n"
      ]
     },
     "metadata": {},
     "output_type": "display_data"
    },
    {
     "data": {
      "text/html": [
       "<pre style=\"white-space:pre;overflow-x:auto;line-height:normal;font-family:Menlo,'DejaVu Sans Mono',consolas,'Courier New',monospace\">/var/folders/7t/k8q3439j6z3c683j7w00wtm80000gn/T/ipykernel_50509/330735155.py:26: FutureWarning: The behavior of \n",
       "DataFrame concatenation with empty or all-NA entries is deprecated. In a future version, this will no longer \n",
       "exclude empty or all-NA columns when determining the result dtypes. To retain the old behavior, exclude the \n",
       "relevant entries before the concat operation.\n",
       "  results = pd.concat([results, normalized_data]) #.dropna(axis=1, how=\"all\")])\n",
       "</pre>\n"
      ],
      "text/plain": [
       "/var/folders/7t/k8q3439j6z3c683j7w00wtm80000gn/T/ipykernel_50509/330735155.py:26: FutureWarning: The behavior of \n",
       "DataFrame concatenation with empty or all-NA entries is deprecated. In a future version, this will no longer \n",
       "exclude empty or all-NA columns when determining the result dtypes. To retain the old behavior, exclude the \n",
       "relevant entries before the concat operation.\n",
       "  results = pd.concat([results, normalized_data]) #.dropna(axis=1, how=\"all\")])\n"
      ]
     },
     "metadata": {},
     "output_type": "display_data"
    },
    {
     "data": {
      "text/html": [
       "<pre style=\"white-space:pre;overflow-x:auto;line-height:normal;font-family:Menlo,'DejaVu Sans Mono',consolas,'Courier New',monospace\">/var/folders/7t/k8q3439j6z3c683j7w00wtm80000gn/T/ipykernel_50509/330735155.py:26: FutureWarning: The behavior of \n",
       "DataFrame concatenation with empty or all-NA entries is deprecated. In a future version, this will no longer \n",
       "exclude empty or all-NA columns when determining the result dtypes. To retain the old behavior, exclude the \n",
       "relevant entries before the concat operation.\n",
       "  results = pd.concat([results, normalized_data]) #.dropna(axis=1, how=\"all\")])\n",
       "</pre>\n"
      ],
      "text/plain": [
       "/var/folders/7t/k8q3439j6z3c683j7w00wtm80000gn/T/ipykernel_50509/330735155.py:26: FutureWarning: The behavior of \n",
       "DataFrame concatenation with empty or all-NA entries is deprecated. In a future version, this will no longer \n",
       "exclude empty or all-NA columns when determining the result dtypes. To retain the old behavior, exclude the \n",
       "relevant entries before the concat operation.\n",
       "  results = pd.concat([results, normalized_data]) #.dropna(axis=1, how=\"all\")])\n"
      ]
     },
     "metadata": {},
     "output_type": "display_data"
    },
    {
     "data": {
      "text/html": [
       "<pre style=\"white-space:pre;overflow-x:auto;line-height:normal;font-family:Menlo,'DejaVu Sans Mono',consolas,'Courier New',monospace\">/var/folders/7t/k8q3439j6z3c683j7w00wtm80000gn/T/ipykernel_50509/330735155.py:26: FutureWarning: The behavior of \n",
       "DataFrame concatenation with empty or all-NA entries is deprecated. In a future version, this will no longer \n",
       "exclude empty or all-NA columns when determining the result dtypes. To retain the old behavior, exclude the \n",
       "relevant entries before the concat operation.\n",
       "  results = pd.concat([results, normalized_data]) #.dropna(axis=1, how=\"all\")])\n",
       "</pre>\n"
      ],
      "text/plain": [
       "/var/folders/7t/k8q3439j6z3c683j7w00wtm80000gn/T/ipykernel_50509/330735155.py:26: FutureWarning: The behavior of \n",
       "DataFrame concatenation with empty or all-NA entries is deprecated. In a future version, this will no longer \n",
       "exclude empty or all-NA columns when determining the result dtypes. To retain the old behavior, exclude the \n",
       "relevant entries before the concat operation.\n",
       "  results = pd.concat([results, normalized_data]) #.dropna(axis=1, how=\"all\")])\n"
      ]
     },
     "metadata": {},
     "output_type": "display_data"
    },
    {
     "data": {
      "text/html": [
       "<pre style=\"white-space:pre;overflow-x:auto;line-height:normal;font-family:Menlo,'DejaVu Sans Mono',consolas,'Courier New',monospace\">/var/folders/7t/k8q3439j6z3c683j7w00wtm80000gn/T/ipykernel_50509/330735155.py:26: FutureWarning: The behavior of \n",
       "DataFrame concatenation with empty or all-NA entries is deprecated. In a future version, this will no longer \n",
       "exclude empty or all-NA columns when determining the result dtypes. To retain the old behavior, exclude the \n",
       "relevant entries before the concat operation.\n",
       "  results = pd.concat([results, normalized_data]) #.dropna(axis=1, how=\"all\")])\n",
       "</pre>\n"
      ],
      "text/plain": [
       "/var/folders/7t/k8q3439j6z3c683j7w00wtm80000gn/T/ipykernel_50509/330735155.py:26: FutureWarning: The behavior of \n",
       "DataFrame concatenation with empty or all-NA entries is deprecated. In a future version, this will no longer \n",
       "exclude empty or all-NA columns when determining the result dtypes. To retain the old behavior, exclude the \n",
       "relevant entries before the concat operation.\n",
       "  results = pd.concat([results, normalized_data]) #.dropna(axis=1, how=\"all\")])\n"
      ]
     },
     "metadata": {},
     "output_type": "display_data"
    },
    {
     "data": {
      "text/html": [
       "<pre style=\"white-space:pre;overflow-x:auto;line-height:normal;font-family:Menlo,'DejaVu Sans Mono',consolas,'Courier New',monospace\">/var/folders/7t/k8q3439j6z3c683j7w00wtm80000gn/T/ipykernel_50509/330735155.py:26: FutureWarning: The behavior of \n",
       "DataFrame concatenation with empty or all-NA entries is deprecated. In a future version, this will no longer \n",
       "exclude empty or all-NA columns when determining the result dtypes. To retain the old behavior, exclude the \n",
       "relevant entries before the concat operation.\n",
       "  results = pd.concat([results, normalized_data]) #.dropna(axis=1, how=\"all\")])\n",
       "</pre>\n"
      ],
      "text/plain": [
       "/var/folders/7t/k8q3439j6z3c683j7w00wtm80000gn/T/ipykernel_50509/330735155.py:26: FutureWarning: The behavior of \n",
       "DataFrame concatenation with empty or all-NA entries is deprecated. In a future version, this will no longer \n",
       "exclude empty or all-NA columns when determining the result dtypes. To retain the old behavior, exclude the \n",
       "relevant entries before the concat operation.\n",
       "  results = pd.concat([results, normalized_data]) #.dropna(axis=1, how=\"all\")])\n"
      ]
     },
     "metadata": {},
     "output_type": "display_data"
    },
    {
     "data": {
      "text/html": [
       "<pre style=\"white-space:pre;overflow-x:auto;line-height:normal;font-family:Menlo,'DejaVu Sans Mono',consolas,'Courier New',monospace\">/var/folders/7t/k8q3439j6z3c683j7w00wtm80000gn/T/ipykernel_50509/330735155.py:26: FutureWarning: The behavior of \n",
       "DataFrame concatenation with empty or all-NA entries is deprecated. In a future version, this will no longer \n",
       "exclude empty or all-NA columns when determining the result dtypes. To retain the old behavior, exclude the \n",
       "relevant entries before the concat operation.\n",
       "  results = pd.concat([results, normalized_data]) #.dropna(axis=1, how=\"all\")])\n",
       "</pre>\n"
      ],
      "text/plain": [
       "/var/folders/7t/k8q3439j6z3c683j7w00wtm80000gn/T/ipykernel_50509/330735155.py:26: FutureWarning: The behavior of \n",
       "DataFrame concatenation with empty or all-NA entries is deprecated. In a future version, this will no longer \n",
       "exclude empty or all-NA columns when determining the result dtypes. To retain the old behavior, exclude the \n",
       "relevant entries before the concat operation.\n",
       "  results = pd.concat([results, normalized_data]) #.dropna(axis=1, how=\"all\")])\n"
      ]
     },
     "metadata": {},
     "output_type": "display_data"
    },
    {
     "data": {
      "text/html": [
       "<pre style=\"white-space:pre;overflow-x:auto;line-height:normal;font-family:Menlo,'DejaVu Sans Mono',consolas,'Courier New',monospace\">/var/folders/7t/k8q3439j6z3c683j7w00wtm80000gn/T/ipykernel_50509/330735155.py:26: FutureWarning: The behavior of \n",
       "DataFrame concatenation with empty or all-NA entries is deprecated. In a future version, this will no longer \n",
       "exclude empty or all-NA columns when determining the result dtypes. To retain the old behavior, exclude the \n",
       "relevant entries before the concat operation.\n",
       "  results = pd.concat([results, normalized_data]) #.dropna(axis=1, how=\"all\")])\n",
       "</pre>\n"
      ],
      "text/plain": [
       "/var/folders/7t/k8q3439j6z3c683j7w00wtm80000gn/T/ipykernel_50509/330735155.py:26: FutureWarning: The behavior of \n",
       "DataFrame concatenation with empty or all-NA entries is deprecated. In a future version, this will no longer \n",
       "exclude empty or all-NA columns when determining the result dtypes. To retain the old behavior, exclude the \n",
       "relevant entries before the concat operation.\n",
       "  results = pd.concat([results, normalized_data]) #.dropna(axis=1, how=\"all\")])\n"
      ]
     },
     "metadata": {},
     "output_type": "display_data"
    },
    {
     "data": {
      "text/html": [
       "<pre style=\"white-space:pre;overflow-x:auto;line-height:normal;font-family:Menlo,'DejaVu Sans Mono',consolas,'Courier New',monospace\">/var/folders/7t/k8q3439j6z3c683j7w00wtm80000gn/T/ipykernel_50509/330735155.py:26: FutureWarning: The behavior of \n",
       "DataFrame concatenation with empty or all-NA entries is deprecated. In a future version, this will no longer \n",
       "exclude empty or all-NA columns when determining the result dtypes. To retain the old behavior, exclude the \n",
       "relevant entries before the concat operation.\n",
       "  results = pd.concat([results, normalized_data]) #.dropna(axis=1, how=\"all\")])\n",
       "</pre>\n"
      ],
      "text/plain": [
       "/var/folders/7t/k8q3439j6z3c683j7w00wtm80000gn/T/ipykernel_50509/330735155.py:26: FutureWarning: The behavior of \n",
       "DataFrame concatenation with empty or all-NA entries is deprecated. In a future version, this will no longer \n",
       "exclude empty or all-NA columns when determining the result dtypes. To retain the old behavior, exclude the \n",
       "relevant entries before the concat operation.\n",
       "  results = pd.concat([results, normalized_data]) #.dropna(axis=1, how=\"all\")])\n"
      ]
     },
     "metadata": {},
     "output_type": "display_data"
    },
    {
     "data": {
      "text/html": [
       "<pre style=\"white-space:pre;overflow-x:auto;line-height:normal;font-family:Menlo,'DejaVu Sans Mono',consolas,'Courier New',monospace\">/var/folders/7t/k8q3439j6z3c683j7w00wtm80000gn/T/ipykernel_50509/330735155.py:26: FutureWarning: The behavior of \n",
       "DataFrame concatenation with empty or all-NA entries is deprecated. In a future version, this will no longer \n",
       "exclude empty or all-NA columns when determining the result dtypes. To retain the old behavior, exclude the \n",
       "relevant entries before the concat operation.\n",
       "  results = pd.concat([results, normalized_data]) #.dropna(axis=1, how=\"all\")])\n",
       "</pre>\n"
      ],
      "text/plain": [
       "/var/folders/7t/k8q3439j6z3c683j7w00wtm80000gn/T/ipykernel_50509/330735155.py:26: FutureWarning: The behavior of \n",
       "DataFrame concatenation with empty or all-NA entries is deprecated. In a future version, this will no longer \n",
       "exclude empty or all-NA columns when determining the result dtypes. To retain the old behavior, exclude the \n",
       "relevant entries before the concat operation.\n",
       "  results = pd.concat([results, normalized_data]) #.dropna(axis=1, how=\"all\")])\n"
      ]
     },
     "metadata": {},
     "output_type": "display_data"
    },
    {
     "data": {
      "text/html": [
       "<pre style=\"white-space:pre;overflow-x:auto;line-height:normal;font-family:Menlo,'DejaVu Sans Mono',consolas,'Courier New',monospace\">/var/folders/7t/k8q3439j6z3c683j7w00wtm80000gn/T/ipykernel_50509/330735155.py:26: FutureWarning: The behavior of \n",
       "DataFrame concatenation with empty or all-NA entries is deprecated. In a future version, this will no longer \n",
       "exclude empty or all-NA columns when determining the result dtypes. To retain the old behavior, exclude the \n",
       "relevant entries before the concat operation.\n",
       "  results = pd.concat([results, normalized_data]) #.dropna(axis=1, how=\"all\")])\n",
       "</pre>\n"
      ],
      "text/plain": [
       "/var/folders/7t/k8q3439j6z3c683j7w00wtm80000gn/T/ipykernel_50509/330735155.py:26: FutureWarning: The behavior of \n",
       "DataFrame concatenation with empty or all-NA entries is deprecated. In a future version, this will no longer \n",
       "exclude empty or all-NA columns when determining the result dtypes. To retain the old behavior, exclude the \n",
       "relevant entries before the concat operation.\n",
       "  results = pd.concat([results, normalized_data]) #.dropna(axis=1, how=\"all\")])\n"
      ]
     },
     "metadata": {},
     "output_type": "display_data"
    },
    {
     "data": {
      "text/html": [
       "<pre style=\"white-space:pre;overflow-x:auto;line-height:normal;font-family:Menlo,'DejaVu Sans Mono',consolas,'Courier New',monospace\">/var/folders/7t/k8q3439j6z3c683j7w00wtm80000gn/T/ipykernel_50509/330735155.py:26: FutureWarning: The behavior of \n",
       "DataFrame concatenation with empty or all-NA entries is deprecated. In a future version, this will no longer \n",
       "exclude empty or all-NA columns when determining the result dtypes. To retain the old behavior, exclude the \n",
       "relevant entries before the concat operation.\n",
       "  results = pd.concat([results, normalized_data]) #.dropna(axis=1, how=\"all\")])\n",
       "</pre>\n"
      ],
      "text/plain": [
       "/var/folders/7t/k8q3439j6z3c683j7w00wtm80000gn/T/ipykernel_50509/330735155.py:26: FutureWarning: The behavior of \n",
       "DataFrame concatenation with empty or all-NA entries is deprecated. In a future version, this will no longer \n",
       "exclude empty or all-NA columns when determining the result dtypes. To retain the old behavior, exclude the \n",
       "relevant entries before the concat operation.\n",
       "  results = pd.concat([results, normalized_data]) #.dropna(axis=1, how=\"all\")])\n"
      ]
     },
     "metadata": {},
     "output_type": "display_data"
    },
    {
     "data": {
      "text/html": [
       "<pre style=\"white-space:pre;overflow-x:auto;line-height:normal;font-family:Menlo,'DejaVu Sans Mono',consolas,'Courier New',monospace\">/var/folders/7t/k8q3439j6z3c683j7w00wtm80000gn/T/ipykernel_50509/330735155.py:26: FutureWarning: The behavior of \n",
       "DataFrame concatenation with empty or all-NA entries is deprecated. In a future version, this will no longer \n",
       "exclude empty or all-NA columns when determining the result dtypes. To retain the old behavior, exclude the \n",
       "relevant entries before the concat operation.\n",
       "  results = pd.concat([results, normalized_data]) #.dropna(axis=1, how=\"all\")])\n",
       "</pre>\n"
      ],
      "text/plain": [
       "/var/folders/7t/k8q3439j6z3c683j7w00wtm80000gn/T/ipykernel_50509/330735155.py:26: FutureWarning: The behavior of \n",
       "DataFrame concatenation with empty or all-NA entries is deprecated. In a future version, this will no longer \n",
       "exclude empty or all-NA columns when determining the result dtypes. To retain the old behavior, exclude the \n",
       "relevant entries before the concat operation.\n",
       "  results = pd.concat([results, normalized_data]) #.dropna(axis=1, how=\"all\")])\n"
      ]
     },
     "metadata": {},
     "output_type": "display_data"
    },
    {
     "data": {
      "text/html": [
       "<pre style=\"white-space:pre;overflow-x:auto;line-height:normal;font-family:Menlo,'DejaVu Sans Mono',consolas,'Courier New',monospace\">/var/folders/7t/k8q3439j6z3c683j7w00wtm80000gn/T/ipykernel_50509/330735155.py:26: FutureWarning: The behavior of \n",
       "DataFrame concatenation with empty or all-NA entries is deprecated. In a future version, this will no longer \n",
       "exclude empty or all-NA columns when determining the result dtypes. To retain the old behavior, exclude the \n",
       "relevant entries before the concat operation.\n",
       "  results = pd.concat([results, normalized_data]) #.dropna(axis=1, how=\"all\")])\n",
       "</pre>\n"
      ],
      "text/plain": [
       "/var/folders/7t/k8q3439j6z3c683j7w00wtm80000gn/T/ipykernel_50509/330735155.py:26: FutureWarning: The behavior of \n",
       "DataFrame concatenation with empty or all-NA entries is deprecated. In a future version, this will no longer \n",
       "exclude empty or all-NA columns when determining the result dtypes. To retain the old behavior, exclude the \n",
       "relevant entries before the concat operation.\n",
       "  results = pd.concat([results, normalized_data]) #.dropna(axis=1, how=\"all\")])\n"
      ]
     },
     "metadata": {},
     "output_type": "display_data"
    },
    {
     "data": {
      "text/html": [
       "<pre style=\"white-space:pre;overflow-x:auto;line-height:normal;font-family:Menlo,'DejaVu Sans Mono',consolas,'Courier New',monospace\">/var/folders/7t/k8q3439j6z3c683j7w00wtm80000gn/T/ipykernel_50509/330735155.py:26: FutureWarning: The behavior of \n",
       "DataFrame concatenation with empty or all-NA entries is deprecated. In a future version, this will no longer \n",
       "exclude empty or all-NA columns when determining the result dtypes. To retain the old behavior, exclude the \n",
       "relevant entries before the concat operation.\n",
       "  results = pd.concat([results, normalized_data]) #.dropna(axis=1, how=\"all\")])\n",
       "</pre>\n"
      ],
      "text/plain": [
       "/var/folders/7t/k8q3439j6z3c683j7w00wtm80000gn/T/ipykernel_50509/330735155.py:26: FutureWarning: The behavior of \n",
       "DataFrame concatenation with empty or all-NA entries is deprecated. In a future version, this will no longer \n",
       "exclude empty or all-NA columns when determining the result dtypes. To retain the old behavior, exclude the \n",
       "relevant entries before the concat operation.\n",
       "  results = pd.concat([results, normalized_data]) #.dropna(axis=1, how=\"all\")])\n"
      ]
     },
     "metadata": {},
     "output_type": "display_data"
    },
    {
     "data": {
      "text/html": [
       "<pre style=\"white-space:pre;overflow-x:auto;line-height:normal;font-family:Menlo,'DejaVu Sans Mono',consolas,'Courier New',monospace\">/var/folders/7t/k8q3439j6z3c683j7w00wtm80000gn/T/ipykernel_50509/330735155.py:26: FutureWarning: The behavior of \n",
       "DataFrame concatenation with empty or all-NA entries is deprecated. In a future version, this will no longer \n",
       "exclude empty or all-NA columns when determining the result dtypes. To retain the old behavior, exclude the \n",
       "relevant entries before the concat operation.\n",
       "  results = pd.concat([results, normalized_data]) #.dropna(axis=1, how=\"all\")])\n",
       "</pre>\n"
      ],
      "text/plain": [
       "/var/folders/7t/k8q3439j6z3c683j7w00wtm80000gn/T/ipykernel_50509/330735155.py:26: FutureWarning: The behavior of \n",
       "DataFrame concatenation with empty or all-NA entries is deprecated. In a future version, this will no longer \n",
       "exclude empty or all-NA columns when determining the result dtypes. To retain the old behavior, exclude the \n",
       "relevant entries before the concat operation.\n",
       "  results = pd.concat([results, normalized_data]) #.dropna(axis=1, how=\"all\")])\n"
      ]
     },
     "metadata": {},
     "output_type": "display_data"
    },
    {
     "data": {
      "text/html": [
       "<pre style=\"white-space:pre;overflow-x:auto;line-height:normal;font-family:Menlo,'DejaVu Sans Mono',consolas,'Courier New',monospace\">/var/folders/7t/k8q3439j6z3c683j7w00wtm80000gn/T/ipykernel_50509/330735155.py:26: FutureWarning: The behavior of \n",
       "DataFrame concatenation with empty or all-NA entries is deprecated. In a future version, this will no longer \n",
       "exclude empty or all-NA columns when determining the result dtypes. To retain the old behavior, exclude the \n",
       "relevant entries before the concat operation.\n",
       "  results = pd.concat([results, normalized_data]) #.dropna(axis=1, how=\"all\")])\n",
       "</pre>\n"
      ],
      "text/plain": [
       "/var/folders/7t/k8q3439j6z3c683j7w00wtm80000gn/T/ipykernel_50509/330735155.py:26: FutureWarning: The behavior of \n",
       "DataFrame concatenation with empty or all-NA entries is deprecated. In a future version, this will no longer \n",
       "exclude empty or all-NA columns when determining the result dtypes. To retain the old behavior, exclude the \n",
       "relevant entries before the concat operation.\n",
       "  results = pd.concat([results, normalized_data]) #.dropna(axis=1, how=\"all\")])\n"
      ]
     },
     "metadata": {},
     "output_type": "display_data"
    },
    {
     "data": {
      "text/html": [
       "<pre style=\"white-space:pre;overflow-x:auto;line-height:normal;font-family:Menlo,'DejaVu Sans Mono',consolas,'Courier New',monospace\">/var/folders/7t/k8q3439j6z3c683j7w00wtm80000gn/T/ipykernel_50509/330735155.py:26: FutureWarning: The behavior of \n",
       "DataFrame concatenation with empty or all-NA entries is deprecated. In a future version, this will no longer \n",
       "exclude empty or all-NA columns when determining the result dtypes. To retain the old behavior, exclude the \n",
       "relevant entries before the concat operation.\n",
       "  results = pd.concat([results, normalized_data]) #.dropna(axis=1, how=\"all\")])\n",
       "</pre>\n"
      ],
      "text/plain": [
       "/var/folders/7t/k8q3439j6z3c683j7w00wtm80000gn/T/ipykernel_50509/330735155.py:26: FutureWarning: The behavior of \n",
       "DataFrame concatenation with empty or all-NA entries is deprecated. In a future version, this will no longer \n",
       "exclude empty or all-NA columns when determining the result dtypes. To retain the old behavior, exclude the \n",
       "relevant entries before the concat operation.\n",
       "  results = pd.concat([results, normalized_data]) #.dropna(axis=1, how=\"all\")])\n"
      ]
     },
     "metadata": {},
     "output_type": "display_data"
    },
    {
     "data": {
      "text/html": [
       "<pre style=\"white-space:pre;overflow-x:auto;line-height:normal;font-family:Menlo,'DejaVu Sans Mono',consolas,'Courier New',monospace\">/var/folders/7t/k8q3439j6z3c683j7w00wtm80000gn/T/ipykernel_50509/330735155.py:26: FutureWarning: The behavior of \n",
       "DataFrame concatenation with empty or all-NA entries is deprecated. In a future version, this will no longer \n",
       "exclude empty or all-NA columns when determining the result dtypes. To retain the old behavior, exclude the \n",
       "relevant entries before the concat operation.\n",
       "  results = pd.concat([results, normalized_data]) #.dropna(axis=1, how=\"all\")])\n",
       "</pre>\n"
      ],
      "text/plain": [
       "/var/folders/7t/k8q3439j6z3c683j7w00wtm80000gn/T/ipykernel_50509/330735155.py:26: FutureWarning: The behavior of \n",
       "DataFrame concatenation with empty or all-NA entries is deprecated. In a future version, this will no longer \n",
       "exclude empty or all-NA columns when determining the result dtypes. To retain the old behavior, exclude the \n",
       "relevant entries before the concat operation.\n",
       "  results = pd.concat([results, normalized_data]) #.dropna(axis=1, how=\"all\")])\n"
      ]
     },
     "metadata": {},
     "output_type": "display_data"
    },
    {
     "data": {
      "text/html": [
       "<pre style=\"white-space:pre;overflow-x:auto;line-height:normal;font-family:Menlo,'DejaVu Sans Mono',consolas,'Courier New',monospace\">/var/folders/7t/k8q3439j6z3c683j7w00wtm80000gn/T/ipykernel_50509/330735155.py:26: FutureWarning: The behavior of \n",
       "DataFrame concatenation with empty or all-NA entries is deprecated. In a future version, this will no longer \n",
       "exclude empty or all-NA columns when determining the result dtypes. To retain the old behavior, exclude the \n",
       "relevant entries before the concat operation.\n",
       "  results = pd.concat([results, normalized_data]) #.dropna(axis=1, how=\"all\")])\n",
       "</pre>\n"
      ],
      "text/plain": [
       "/var/folders/7t/k8q3439j6z3c683j7w00wtm80000gn/T/ipykernel_50509/330735155.py:26: FutureWarning: The behavior of \n",
       "DataFrame concatenation with empty or all-NA entries is deprecated. In a future version, this will no longer \n",
       "exclude empty or all-NA columns when determining the result dtypes. To retain the old behavior, exclude the \n",
       "relevant entries before the concat operation.\n",
       "  results = pd.concat([results, normalized_data]) #.dropna(axis=1, how=\"all\")])\n"
      ]
     },
     "metadata": {},
     "output_type": "display_data"
    },
    {
     "data": {
      "text/html": [
       "<pre style=\"white-space:pre;overflow-x:auto;line-height:normal;font-family:Menlo,'DejaVu Sans Mono',consolas,'Courier New',monospace\">/var/folders/7t/k8q3439j6z3c683j7w00wtm80000gn/T/ipykernel_50509/330735155.py:26: FutureWarning: The behavior of \n",
       "DataFrame concatenation with empty or all-NA entries is deprecated. In a future version, this will no longer \n",
       "exclude empty or all-NA columns when determining the result dtypes. To retain the old behavior, exclude the \n",
       "relevant entries before the concat operation.\n",
       "  results = pd.concat([results, normalized_data]) #.dropna(axis=1, how=\"all\")])\n",
       "</pre>\n"
      ],
      "text/plain": [
       "/var/folders/7t/k8q3439j6z3c683j7w00wtm80000gn/T/ipykernel_50509/330735155.py:26: FutureWarning: The behavior of \n",
       "DataFrame concatenation with empty or all-NA entries is deprecated. In a future version, this will no longer \n",
       "exclude empty or all-NA columns when determining the result dtypes. To retain the old behavior, exclude the \n",
       "relevant entries before the concat operation.\n",
       "  results = pd.concat([results, normalized_data]) #.dropna(axis=1, how=\"all\")])\n"
      ]
     },
     "metadata": {},
     "output_type": "display_data"
    },
    {
     "data": {
      "text/html": [
       "<pre style=\"white-space:pre;overflow-x:auto;line-height:normal;font-family:Menlo,'DejaVu Sans Mono',consolas,'Courier New',monospace\">/var/folders/7t/k8q3439j6z3c683j7w00wtm80000gn/T/ipykernel_50509/330735155.py:26: FutureWarning: The behavior of \n",
       "DataFrame concatenation with empty or all-NA entries is deprecated. In a future version, this will no longer \n",
       "exclude empty or all-NA columns when determining the result dtypes. To retain the old behavior, exclude the \n",
       "relevant entries before the concat operation.\n",
       "  results = pd.concat([results, normalized_data]) #.dropna(axis=1, how=\"all\")])\n",
       "</pre>\n"
      ],
      "text/plain": [
       "/var/folders/7t/k8q3439j6z3c683j7w00wtm80000gn/T/ipykernel_50509/330735155.py:26: FutureWarning: The behavior of \n",
       "DataFrame concatenation with empty or all-NA entries is deprecated. In a future version, this will no longer \n",
       "exclude empty or all-NA columns when determining the result dtypes. To retain the old behavior, exclude the \n",
       "relevant entries before the concat operation.\n",
       "  results = pd.concat([results, normalized_data]) #.dropna(axis=1, how=\"all\")])\n"
      ]
     },
     "metadata": {},
     "output_type": "display_data"
    },
    {
     "data": {
      "text/html": [
       "<pre style=\"white-space:pre;overflow-x:auto;line-height:normal;font-family:Menlo,'DejaVu Sans Mono',consolas,'Courier New',monospace\">/var/folders/7t/k8q3439j6z3c683j7w00wtm80000gn/T/ipykernel_50509/330735155.py:26: FutureWarning: The behavior of \n",
       "DataFrame concatenation with empty or all-NA entries is deprecated. In a future version, this will no longer \n",
       "exclude empty or all-NA columns when determining the result dtypes. To retain the old behavior, exclude the \n",
       "relevant entries before the concat operation.\n",
       "  results = pd.concat([results, normalized_data]) #.dropna(axis=1, how=\"all\")])\n",
       "</pre>\n"
      ],
      "text/plain": [
       "/var/folders/7t/k8q3439j6z3c683j7w00wtm80000gn/T/ipykernel_50509/330735155.py:26: FutureWarning: The behavior of \n",
       "DataFrame concatenation with empty or all-NA entries is deprecated. In a future version, this will no longer \n",
       "exclude empty or all-NA columns when determining the result dtypes. To retain the old behavior, exclude the \n",
       "relevant entries before the concat operation.\n",
       "  results = pd.concat([results, normalized_data]) #.dropna(axis=1, how=\"all\")])\n"
      ]
     },
     "metadata": {},
     "output_type": "display_data"
    },
    {
     "data": {
      "text/html": [
       "<pre style=\"white-space:pre;overflow-x:auto;line-height:normal;font-family:Menlo,'DejaVu Sans Mono',consolas,'Courier New',monospace\">/var/folders/7t/k8q3439j6z3c683j7w00wtm80000gn/T/ipykernel_50509/330735155.py:26: FutureWarning: The behavior of \n",
       "DataFrame concatenation with empty or all-NA entries is deprecated. In a future version, this will no longer \n",
       "exclude empty or all-NA columns when determining the result dtypes. To retain the old behavior, exclude the \n",
       "relevant entries before the concat operation.\n",
       "  results = pd.concat([results, normalized_data]) #.dropna(axis=1, how=\"all\")])\n",
       "</pre>\n"
      ],
      "text/plain": [
       "/var/folders/7t/k8q3439j6z3c683j7w00wtm80000gn/T/ipykernel_50509/330735155.py:26: FutureWarning: The behavior of \n",
       "DataFrame concatenation with empty or all-NA entries is deprecated. In a future version, this will no longer \n",
       "exclude empty or all-NA columns when determining the result dtypes. To retain the old behavior, exclude the \n",
       "relevant entries before the concat operation.\n",
       "  results = pd.concat([results, normalized_data]) #.dropna(axis=1, how=\"all\")])\n"
      ]
     },
     "metadata": {},
     "output_type": "display_data"
    },
    {
     "data": {
      "text/html": [
       "<pre style=\"white-space:pre;overflow-x:auto;line-height:normal;font-family:Menlo,'DejaVu Sans Mono',consolas,'Courier New',monospace\">/var/folders/7t/k8q3439j6z3c683j7w00wtm80000gn/T/ipykernel_50509/330735155.py:26: FutureWarning: The behavior of \n",
       "DataFrame concatenation with empty or all-NA entries is deprecated. In a future version, this will no longer \n",
       "exclude empty or all-NA columns when determining the result dtypes. To retain the old behavior, exclude the \n",
       "relevant entries before the concat operation.\n",
       "  results = pd.concat([results, normalized_data]) #.dropna(axis=1, how=\"all\")])\n",
       "</pre>\n"
      ],
      "text/plain": [
       "/var/folders/7t/k8q3439j6z3c683j7w00wtm80000gn/T/ipykernel_50509/330735155.py:26: FutureWarning: The behavior of \n",
       "DataFrame concatenation with empty or all-NA entries is deprecated. In a future version, this will no longer \n",
       "exclude empty or all-NA columns when determining the result dtypes. To retain the old behavior, exclude the \n",
       "relevant entries before the concat operation.\n",
       "  results = pd.concat([results, normalized_data]) #.dropna(axis=1, how=\"all\")])\n"
      ]
     },
     "metadata": {},
     "output_type": "display_data"
    },
    {
     "data": {
      "text/html": [
       "<pre style=\"white-space:pre;overflow-x:auto;line-height:normal;font-family:Menlo,'DejaVu Sans Mono',consolas,'Courier New',monospace\">/var/folders/7t/k8q3439j6z3c683j7w00wtm80000gn/T/ipykernel_50509/330735155.py:26: FutureWarning: The behavior of \n",
       "DataFrame concatenation with empty or all-NA entries is deprecated. In a future version, this will no longer \n",
       "exclude empty or all-NA columns when determining the result dtypes. To retain the old behavior, exclude the \n",
       "relevant entries before the concat operation.\n",
       "  results = pd.concat([results, normalized_data]) #.dropna(axis=1, how=\"all\")])\n",
       "</pre>\n"
      ],
      "text/plain": [
       "/var/folders/7t/k8q3439j6z3c683j7w00wtm80000gn/T/ipykernel_50509/330735155.py:26: FutureWarning: The behavior of \n",
       "DataFrame concatenation with empty or all-NA entries is deprecated. In a future version, this will no longer \n",
       "exclude empty or all-NA columns when determining the result dtypes. To retain the old behavior, exclude the \n",
       "relevant entries before the concat operation.\n",
       "  results = pd.concat([results, normalized_data]) #.dropna(axis=1, how=\"all\")])\n"
      ]
     },
     "metadata": {},
     "output_type": "display_data"
    },
    {
     "data": {
      "text/html": [
       "<pre style=\"white-space:pre;overflow-x:auto;line-height:normal;font-family:Menlo,'DejaVu Sans Mono',consolas,'Courier New',monospace\">/var/folders/7t/k8q3439j6z3c683j7w00wtm80000gn/T/ipykernel_50509/330735155.py:26: FutureWarning: The behavior of \n",
       "DataFrame concatenation with empty or all-NA entries is deprecated. In a future version, this will no longer \n",
       "exclude empty or all-NA columns when determining the result dtypes. To retain the old behavior, exclude the \n",
       "relevant entries before the concat operation.\n",
       "  results = pd.concat([results, normalized_data]) #.dropna(axis=1, how=\"all\")])\n",
       "</pre>\n"
      ],
      "text/plain": [
       "/var/folders/7t/k8q3439j6z3c683j7w00wtm80000gn/T/ipykernel_50509/330735155.py:26: FutureWarning: The behavior of \n",
       "DataFrame concatenation with empty or all-NA entries is deprecated. In a future version, this will no longer \n",
       "exclude empty or all-NA columns when determining the result dtypes. To retain the old behavior, exclude the \n",
       "relevant entries before the concat operation.\n",
       "  results = pd.concat([results, normalized_data]) #.dropna(axis=1, how=\"all\")])\n"
      ]
     },
     "metadata": {},
     "output_type": "display_data"
    },
    {
     "data": {
      "text/html": [
       "<pre style=\"white-space:pre;overflow-x:auto;line-height:normal;font-family:Menlo,'DejaVu Sans Mono',consolas,'Courier New',monospace\">/var/folders/7t/k8q3439j6z3c683j7w00wtm80000gn/T/ipykernel_50509/330735155.py:26: FutureWarning: The behavior of \n",
       "DataFrame concatenation with empty or all-NA entries is deprecated. In a future version, this will no longer \n",
       "exclude empty or all-NA columns when determining the result dtypes. To retain the old behavior, exclude the \n",
       "relevant entries before the concat operation.\n",
       "  results = pd.concat([results, normalized_data]) #.dropna(axis=1, how=\"all\")])\n",
       "</pre>\n"
      ],
      "text/plain": [
       "/var/folders/7t/k8q3439j6z3c683j7w00wtm80000gn/T/ipykernel_50509/330735155.py:26: FutureWarning: The behavior of \n",
       "DataFrame concatenation with empty or all-NA entries is deprecated. In a future version, this will no longer \n",
       "exclude empty or all-NA columns when determining the result dtypes. To retain the old behavior, exclude the \n",
       "relevant entries before the concat operation.\n",
       "  results = pd.concat([results, normalized_data]) #.dropna(axis=1, how=\"all\")])\n"
      ]
     },
     "metadata": {},
     "output_type": "display_data"
    },
    {
     "data": {
      "text/html": [
       "<pre style=\"white-space:pre;overflow-x:auto;line-height:normal;font-family:Menlo,'DejaVu Sans Mono',consolas,'Courier New',monospace\">/var/folders/7t/k8q3439j6z3c683j7w00wtm80000gn/T/ipykernel_50509/330735155.py:26: FutureWarning: The behavior of \n",
       "DataFrame concatenation with empty or all-NA entries is deprecated. In a future version, this will no longer \n",
       "exclude empty or all-NA columns when determining the result dtypes. To retain the old behavior, exclude the \n",
       "relevant entries before the concat operation.\n",
       "  results = pd.concat([results, normalized_data]) #.dropna(axis=1, how=\"all\")])\n",
       "</pre>\n"
      ],
      "text/plain": [
       "/var/folders/7t/k8q3439j6z3c683j7w00wtm80000gn/T/ipykernel_50509/330735155.py:26: FutureWarning: The behavior of \n",
       "DataFrame concatenation with empty or all-NA entries is deprecated. In a future version, this will no longer \n",
       "exclude empty or all-NA columns when determining the result dtypes. To retain the old behavior, exclude the \n",
       "relevant entries before the concat operation.\n",
       "  results = pd.concat([results, normalized_data]) #.dropna(axis=1, how=\"all\")])\n"
      ]
     },
     "metadata": {},
     "output_type": "display_data"
    },
    {
     "data": {
      "text/html": [
       "<pre style=\"white-space:pre;overflow-x:auto;line-height:normal;font-family:Menlo,'DejaVu Sans Mono',consolas,'Courier New',monospace\">/var/folders/7t/k8q3439j6z3c683j7w00wtm80000gn/T/ipykernel_50509/330735155.py:26: FutureWarning: The behavior of \n",
       "DataFrame concatenation with empty or all-NA entries is deprecated. In a future version, this will no longer \n",
       "exclude empty or all-NA columns when determining the result dtypes. To retain the old behavior, exclude the \n",
       "relevant entries before the concat operation.\n",
       "  results = pd.concat([results, normalized_data]) #.dropna(axis=1, how=\"all\")])\n",
       "</pre>\n"
      ],
      "text/plain": [
       "/var/folders/7t/k8q3439j6z3c683j7w00wtm80000gn/T/ipykernel_50509/330735155.py:26: FutureWarning: The behavior of \n",
       "DataFrame concatenation with empty or all-NA entries is deprecated. In a future version, this will no longer \n",
       "exclude empty or all-NA columns when determining the result dtypes. To retain the old behavior, exclude the \n",
       "relevant entries before the concat operation.\n",
       "  results = pd.concat([results, normalized_data]) #.dropna(axis=1, how=\"all\")])\n"
      ]
     },
     "metadata": {},
     "output_type": "display_data"
    },
    {
     "data": {
      "text/html": [
       "<pre style=\"white-space:pre;overflow-x:auto;line-height:normal;font-family:Menlo,'DejaVu Sans Mono',consolas,'Courier New',monospace\">/var/folders/7t/k8q3439j6z3c683j7w00wtm80000gn/T/ipykernel_50509/330735155.py:26: FutureWarning: The behavior of \n",
       "DataFrame concatenation with empty or all-NA entries is deprecated. In a future version, this will no longer \n",
       "exclude empty or all-NA columns when determining the result dtypes. To retain the old behavior, exclude the \n",
       "relevant entries before the concat operation.\n",
       "  results = pd.concat([results, normalized_data]) #.dropna(axis=1, how=\"all\")])\n",
       "</pre>\n"
      ],
      "text/plain": [
       "/var/folders/7t/k8q3439j6z3c683j7w00wtm80000gn/T/ipykernel_50509/330735155.py:26: FutureWarning: The behavior of \n",
       "DataFrame concatenation with empty or all-NA entries is deprecated. In a future version, this will no longer \n",
       "exclude empty or all-NA columns when determining the result dtypes. To retain the old behavior, exclude the \n",
       "relevant entries before the concat operation.\n",
       "  results = pd.concat([results, normalized_data]) #.dropna(axis=1, how=\"all\")])\n"
      ]
     },
     "metadata": {},
     "output_type": "display_data"
    },
    {
     "data": {
      "text/html": [
       "<pre style=\"white-space:pre;overflow-x:auto;line-height:normal;font-family:Menlo,'DejaVu Sans Mono',consolas,'Courier New',monospace\">/var/folders/7t/k8q3439j6z3c683j7w00wtm80000gn/T/ipykernel_50509/330735155.py:26: FutureWarning: The behavior of \n",
       "DataFrame concatenation with empty or all-NA entries is deprecated. In a future version, this will no longer \n",
       "exclude empty or all-NA columns when determining the result dtypes. To retain the old behavior, exclude the \n",
       "relevant entries before the concat operation.\n",
       "  results = pd.concat([results, normalized_data]) #.dropna(axis=1, how=\"all\")])\n",
       "</pre>\n"
      ],
      "text/plain": [
       "/var/folders/7t/k8q3439j6z3c683j7w00wtm80000gn/T/ipykernel_50509/330735155.py:26: FutureWarning: The behavior of \n",
       "DataFrame concatenation with empty or all-NA entries is deprecated. In a future version, this will no longer \n",
       "exclude empty or all-NA columns when determining the result dtypes. To retain the old behavior, exclude the \n",
       "relevant entries before the concat operation.\n",
       "  results = pd.concat([results, normalized_data]) #.dropna(axis=1, how=\"all\")])\n"
      ]
     },
     "metadata": {},
     "output_type": "display_data"
    },
    {
     "data": {
      "text/html": [
       "<pre style=\"white-space:pre;overflow-x:auto;line-height:normal;font-family:Menlo,'DejaVu Sans Mono',consolas,'Courier New',monospace\">/var/folders/7t/k8q3439j6z3c683j7w00wtm80000gn/T/ipykernel_50509/330735155.py:26: FutureWarning: The behavior of \n",
       "DataFrame concatenation with empty or all-NA entries is deprecated. In a future version, this will no longer \n",
       "exclude empty or all-NA columns when determining the result dtypes. To retain the old behavior, exclude the \n",
       "relevant entries before the concat operation.\n",
       "  results = pd.concat([results, normalized_data]) #.dropna(axis=1, how=\"all\")])\n",
       "</pre>\n"
      ],
      "text/plain": [
       "/var/folders/7t/k8q3439j6z3c683j7w00wtm80000gn/T/ipykernel_50509/330735155.py:26: FutureWarning: The behavior of \n",
       "DataFrame concatenation with empty or all-NA entries is deprecated. In a future version, this will no longer \n",
       "exclude empty or all-NA columns when determining the result dtypes. To retain the old behavior, exclude the \n",
       "relevant entries before the concat operation.\n",
       "  results = pd.concat([results, normalized_data]) #.dropna(axis=1, how=\"all\")])\n"
      ]
     },
     "metadata": {},
     "output_type": "display_data"
    },
    {
     "data": {
      "text/html": [
       "<pre style=\"white-space:pre;overflow-x:auto;line-height:normal;font-family:Menlo,'DejaVu Sans Mono',consolas,'Courier New',monospace\">/var/folders/7t/k8q3439j6z3c683j7w00wtm80000gn/T/ipykernel_50509/330735155.py:26: FutureWarning: The behavior of \n",
       "DataFrame concatenation with empty or all-NA entries is deprecated. In a future version, this will no longer \n",
       "exclude empty or all-NA columns when determining the result dtypes. To retain the old behavior, exclude the \n",
       "relevant entries before the concat operation.\n",
       "  results = pd.concat([results, normalized_data]) #.dropna(axis=1, how=\"all\")])\n",
       "</pre>\n"
      ],
      "text/plain": [
       "/var/folders/7t/k8q3439j6z3c683j7w00wtm80000gn/T/ipykernel_50509/330735155.py:26: FutureWarning: The behavior of \n",
       "DataFrame concatenation with empty or all-NA entries is deprecated. In a future version, this will no longer \n",
       "exclude empty or all-NA columns when determining the result dtypes. To retain the old behavior, exclude the \n",
       "relevant entries before the concat operation.\n",
       "  results = pd.concat([results, normalized_data]) #.dropna(axis=1, how=\"all\")])\n"
      ]
     },
     "metadata": {},
     "output_type": "display_data"
    },
    {
     "data": {
      "text/html": [
       "<pre style=\"white-space:pre;overflow-x:auto;line-height:normal;font-family:Menlo,'DejaVu Sans Mono',consolas,'Courier New',monospace\">/var/folders/7t/k8q3439j6z3c683j7w00wtm80000gn/T/ipykernel_50509/330735155.py:26: FutureWarning: The behavior of \n",
       "DataFrame concatenation with empty or all-NA entries is deprecated. In a future version, this will no longer \n",
       "exclude empty or all-NA columns when determining the result dtypes. To retain the old behavior, exclude the \n",
       "relevant entries before the concat operation.\n",
       "  results = pd.concat([results, normalized_data]) #.dropna(axis=1, how=\"all\")])\n",
       "</pre>\n"
      ],
      "text/plain": [
       "/var/folders/7t/k8q3439j6z3c683j7w00wtm80000gn/T/ipykernel_50509/330735155.py:26: FutureWarning: The behavior of \n",
       "DataFrame concatenation with empty or all-NA entries is deprecated. In a future version, this will no longer \n",
       "exclude empty or all-NA columns when determining the result dtypes. To retain the old behavior, exclude the \n",
       "relevant entries before the concat operation.\n",
       "  results = pd.concat([results, normalized_data]) #.dropna(axis=1, how=\"all\")])\n"
      ]
     },
     "metadata": {},
     "output_type": "display_data"
    },
    {
     "data": {
      "text/html": [
       "<pre style=\"white-space:pre;overflow-x:auto;line-height:normal;font-family:Menlo,'DejaVu Sans Mono',consolas,'Courier New',monospace\">/var/folders/7t/k8q3439j6z3c683j7w00wtm80000gn/T/ipykernel_50509/330735155.py:26: FutureWarning: The behavior of \n",
       "DataFrame concatenation with empty or all-NA entries is deprecated. In a future version, this will no longer \n",
       "exclude empty or all-NA columns when determining the result dtypes. To retain the old behavior, exclude the \n",
       "relevant entries before the concat operation.\n",
       "  results = pd.concat([results, normalized_data]) #.dropna(axis=1, how=\"all\")])\n",
       "</pre>\n"
      ],
      "text/plain": [
       "/var/folders/7t/k8q3439j6z3c683j7w00wtm80000gn/T/ipykernel_50509/330735155.py:26: FutureWarning: The behavior of \n",
       "DataFrame concatenation with empty or all-NA entries is deprecated. In a future version, this will no longer \n",
       "exclude empty or all-NA columns when determining the result dtypes. To retain the old behavior, exclude the \n",
       "relevant entries before the concat operation.\n",
       "  results = pd.concat([results, normalized_data]) #.dropna(axis=1, how=\"all\")])\n"
      ]
     },
     "metadata": {},
     "output_type": "display_data"
    },
    {
     "data": {
      "text/html": [
       "<pre style=\"white-space:pre;overflow-x:auto;line-height:normal;font-family:Menlo,'DejaVu Sans Mono',consolas,'Courier New',monospace\">/var/folders/7t/k8q3439j6z3c683j7w00wtm80000gn/T/ipykernel_50509/330735155.py:26: FutureWarning: The behavior of \n",
       "DataFrame concatenation with empty or all-NA entries is deprecated. In a future version, this will no longer \n",
       "exclude empty or all-NA columns when determining the result dtypes. To retain the old behavior, exclude the \n",
       "relevant entries before the concat operation.\n",
       "  results = pd.concat([results, normalized_data]) #.dropna(axis=1, how=\"all\")])\n",
       "</pre>\n"
      ],
      "text/plain": [
       "/var/folders/7t/k8q3439j6z3c683j7w00wtm80000gn/T/ipykernel_50509/330735155.py:26: FutureWarning: The behavior of \n",
       "DataFrame concatenation with empty or all-NA entries is deprecated. In a future version, this will no longer \n",
       "exclude empty or all-NA columns when determining the result dtypes. To retain the old behavior, exclude the \n",
       "relevant entries before the concat operation.\n",
       "  results = pd.concat([results, normalized_data]) #.dropna(axis=1, how=\"all\")])\n"
      ]
     },
     "metadata": {},
     "output_type": "display_data"
    },
    {
     "data": {
      "text/html": [
       "<pre style=\"white-space:pre;overflow-x:auto;line-height:normal;font-family:Menlo,'DejaVu Sans Mono',consolas,'Courier New',monospace\">/var/folders/7t/k8q3439j6z3c683j7w00wtm80000gn/T/ipykernel_50509/330735155.py:26: FutureWarning: The behavior of \n",
       "DataFrame concatenation with empty or all-NA entries is deprecated. In a future version, this will no longer \n",
       "exclude empty or all-NA columns when determining the result dtypes. To retain the old behavior, exclude the \n",
       "relevant entries before the concat operation.\n",
       "  results = pd.concat([results, normalized_data]) #.dropna(axis=1, how=\"all\")])\n",
       "</pre>\n"
      ],
      "text/plain": [
       "/var/folders/7t/k8q3439j6z3c683j7w00wtm80000gn/T/ipykernel_50509/330735155.py:26: FutureWarning: The behavior of \n",
       "DataFrame concatenation with empty or all-NA entries is deprecated. In a future version, this will no longer \n",
       "exclude empty or all-NA columns when determining the result dtypes. To retain the old behavior, exclude the \n",
       "relevant entries before the concat operation.\n",
       "  results = pd.concat([results, normalized_data]) #.dropna(axis=1, how=\"all\")])\n"
      ]
     },
     "metadata": {},
     "output_type": "display_data"
    },
    {
     "data": {
      "text/html": [
       "<pre style=\"white-space:pre;overflow-x:auto;line-height:normal;font-family:Menlo,'DejaVu Sans Mono',consolas,'Courier New',monospace\">/var/folders/7t/k8q3439j6z3c683j7w00wtm80000gn/T/ipykernel_50509/330735155.py:26: FutureWarning: The behavior of \n",
       "DataFrame concatenation with empty or all-NA entries is deprecated. In a future version, this will no longer \n",
       "exclude empty or all-NA columns when determining the result dtypes. To retain the old behavior, exclude the \n",
       "relevant entries before the concat operation.\n",
       "  results = pd.concat([results, normalized_data]) #.dropna(axis=1, how=\"all\")])\n",
       "</pre>\n"
      ],
      "text/plain": [
       "/var/folders/7t/k8q3439j6z3c683j7w00wtm80000gn/T/ipykernel_50509/330735155.py:26: FutureWarning: The behavior of \n",
       "DataFrame concatenation with empty or all-NA entries is deprecated. In a future version, this will no longer \n",
       "exclude empty or all-NA columns when determining the result dtypes. To retain the old behavior, exclude the \n",
       "relevant entries before the concat operation.\n",
       "  results = pd.concat([results, normalized_data]) #.dropna(axis=1, how=\"all\")])\n"
      ]
     },
     "metadata": {},
     "output_type": "display_data"
    },
    {
     "data": {
      "text/html": [
       "<pre style=\"white-space:pre;overflow-x:auto;line-height:normal;font-family:Menlo,'DejaVu Sans Mono',consolas,'Courier New',monospace\">/var/folders/7t/k8q3439j6z3c683j7w00wtm80000gn/T/ipykernel_50509/330735155.py:26: FutureWarning: The behavior of \n",
       "DataFrame concatenation with empty or all-NA entries is deprecated. In a future version, this will no longer \n",
       "exclude empty or all-NA columns when determining the result dtypes. To retain the old behavior, exclude the \n",
       "relevant entries before the concat operation.\n",
       "  results = pd.concat([results, normalized_data]) #.dropna(axis=1, how=\"all\")])\n",
       "</pre>\n"
      ],
      "text/plain": [
       "/var/folders/7t/k8q3439j6z3c683j7w00wtm80000gn/T/ipykernel_50509/330735155.py:26: FutureWarning: The behavior of \n",
       "DataFrame concatenation with empty or all-NA entries is deprecated. In a future version, this will no longer \n",
       "exclude empty or all-NA columns when determining the result dtypes. To retain the old behavior, exclude the \n",
       "relevant entries before the concat operation.\n",
       "  results = pd.concat([results, normalized_data]) #.dropna(axis=1, how=\"all\")])\n"
      ]
     },
     "metadata": {},
     "output_type": "display_data"
    },
    {
     "data": {
      "text/html": [
       "<pre style=\"white-space:pre;overflow-x:auto;line-height:normal;font-family:Menlo,'DejaVu Sans Mono',consolas,'Courier New',monospace\">/var/folders/7t/k8q3439j6z3c683j7w00wtm80000gn/T/ipykernel_50509/330735155.py:26: FutureWarning: The behavior of \n",
       "DataFrame concatenation with empty or all-NA entries is deprecated. In a future version, this will no longer \n",
       "exclude empty or all-NA columns when determining the result dtypes. To retain the old behavior, exclude the \n",
       "relevant entries before the concat operation.\n",
       "  results = pd.concat([results, normalized_data]) #.dropna(axis=1, how=\"all\")])\n",
       "</pre>\n"
      ],
      "text/plain": [
       "/var/folders/7t/k8q3439j6z3c683j7w00wtm80000gn/T/ipykernel_50509/330735155.py:26: FutureWarning: The behavior of \n",
       "DataFrame concatenation with empty or all-NA entries is deprecated. In a future version, this will no longer \n",
       "exclude empty or all-NA columns when determining the result dtypes. To retain the old behavior, exclude the \n",
       "relevant entries before the concat operation.\n",
       "  results = pd.concat([results, normalized_data]) #.dropna(axis=1, how=\"all\")])\n"
      ]
     },
     "metadata": {},
     "output_type": "display_data"
    },
    {
     "data": {
      "text/html": [
       "<pre style=\"white-space:pre;overflow-x:auto;line-height:normal;font-family:Menlo,'DejaVu Sans Mono',consolas,'Courier New',monospace\">/var/folders/7t/k8q3439j6z3c683j7w00wtm80000gn/T/ipykernel_50509/330735155.py:26: FutureWarning: The behavior of \n",
       "DataFrame concatenation with empty or all-NA entries is deprecated. In a future version, this will no longer \n",
       "exclude empty or all-NA columns when determining the result dtypes. To retain the old behavior, exclude the \n",
       "relevant entries before the concat operation.\n",
       "  results = pd.concat([results, normalized_data]) #.dropna(axis=1, how=\"all\")])\n",
       "</pre>\n"
      ],
      "text/plain": [
       "/var/folders/7t/k8q3439j6z3c683j7w00wtm80000gn/T/ipykernel_50509/330735155.py:26: FutureWarning: The behavior of \n",
       "DataFrame concatenation with empty or all-NA entries is deprecated. In a future version, this will no longer \n",
       "exclude empty or all-NA columns when determining the result dtypes. To retain the old behavior, exclude the \n",
       "relevant entries before the concat operation.\n",
       "  results = pd.concat([results, normalized_data]) #.dropna(axis=1, how=\"all\")])\n"
      ]
     },
     "metadata": {},
     "output_type": "display_data"
    },
    {
     "data": {
      "text/html": [
       "<pre style=\"white-space:pre;overflow-x:auto;line-height:normal;font-family:Menlo,'DejaVu Sans Mono',consolas,'Courier New',monospace\">/var/folders/7t/k8q3439j6z3c683j7w00wtm80000gn/T/ipykernel_50509/330735155.py:26: FutureWarning: The behavior of \n",
       "DataFrame concatenation with empty or all-NA entries is deprecated. In a future version, this will no longer \n",
       "exclude empty or all-NA columns when determining the result dtypes. To retain the old behavior, exclude the \n",
       "relevant entries before the concat operation.\n",
       "  results = pd.concat([results, normalized_data]) #.dropna(axis=1, how=\"all\")])\n",
       "</pre>\n"
      ],
      "text/plain": [
       "/var/folders/7t/k8q3439j6z3c683j7w00wtm80000gn/T/ipykernel_50509/330735155.py:26: FutureWarning: The behavior of \n",
       "DataFrame concatenation with empty or all-NA entries is deprecated. In a future version, this will no longer \n",
       "exclude empty or all-NA columns when determining the result dtypes. To retain the old behavior, exclude the \n",
       "relevant entries before the concat operation.\n",
       "  results = pd.concat([results, normalized_data]) #.dropna(axis=1, how=\"all\")])\n"
      ]
     },
     "metadata": {},
     "output_type": "display_data"
    },
    {
     "data": {
      "text/html": [
       "<pre style=\"white-space:pre;overflow-x:auto;line-height:normal;font-family:Menlo,'DejaVu Sans Mono',consolas,'Courier New',monospace\">/var/folders/7t/k8q3439j6z3c683j7w00wtm80000gn/T/ipykernel_50509/330735155.py:26: FutureWarning: The behavior of \n",
       "DataFrame concatenation with empty or all-NA entries is deprecated. In a future version, this will no longer \n",
       "exclude empty or all-NA columns when determining the result dtypes. To retain the old behavior, exclude the \n",
       "relevant entries before the concat operation.\n",
       "  results = pd.concat([results, normalized_data]) #.dropna(axis=1, how=\"all\")])\n",
       "</pre>\n"
      ],
      "text/plain": [
       "/var/folders/7t/k8q3439j6z3c683j7w00wtm80000gn/T/ipykernel_50509/330735155.py:26: FutureWarning: The behavior of \n",
       "DataFrame concatenation with empty or all-NA entries is deprecated. In a future version, this will no longer \n",
       "exclude empty or all-NA columns when determining the result dtypes. To retain the old behavior, exclude the \n",
       "relevant entries before the concat operation.\n",
       "  results = pd.concat([results, normalized_data]) #.dropna(axis=1, how=\"all\")])\n"
      ]
     },
     "metadata": {},
     "output_type": "display_data"
    },
    {
     "data": {
      "text/html": [
       "<pre style=\"white-space:pre;overflow-x:auto;line-height:normal;font-family:Menlo,'DejaVu Sans Mono',consolas,'Courier New',monospace\">/var/folders/7t/k8q3439j6z3c683j7w00wtm80000gn/T/ipykernel_50509/330735155.py:26: FutureWarning: The behavior of \n",
       "DataFrame concatenation with empty or all-NA entries is deprecated. In a future version, this will no longer \n",
       "exclude empty or all-NA columns when determining the result dtypes. To retain the old behavior, exclude the \n",
       "relevant entries before the concat operation.\n",
       "  results = pd.concat([results, normalized_data]) #.dropna(axis=1, how=\"all\")])\n",
       "</pre>\n"
      ],
      "text/plain": [
       "/var/folders/7t/k8q3439j6z3c683j7w00wtm80000gn/T/ipykernel_50509/330735155.py:26: FutureWarning: The behavior of \n",
       "DataFrame concatenation with empty or all-NA entries is deprecated. In a future version, this will no longer \n",
       "exclude empty or all-NA columns when determining the result dtypes. To retain the old behavior, exclude the \n",
       "relevant entries before the concat operation.\n",
       "  results = pd.concat([results, normalized_data]) #.dropna(axis=1, how=\"all\")])\n"
      ]
     },
     "metadata": {},
     "output_type": "display_data"
    },
    {
     "data": {
      "text/html": [
       "<pre style=\"white-space:pre;overflow-x:auto;line-height:normal;font-family:Menlo,'DejaVu Sans Mono',consolas,'Courier New',monospace\">/var/folders/7t/k8q3439j6z3c683j7w00wtm80000gn/T/ipykernel_50509/330735155.py:26: FutureWarning: The behavior of \n",
       "DataFrame concatenation with empty or all-NA entries is deprecated. In a future version, this will no longer \n",
       "exclude empty or all-NA columns when determining the result dtypes. To retain the old behavior, exclude the \n",
       "relevant entries before the concat operation.\n",
       "  results = pd.concat([results, normalized_data]) #.dropna(axis=1, how=\"all\")])\n",
       "</pre>\n"
      ],
      "text/plain": [
       "/var/folders/7t/k8q3439j6z3c683j7w00wtm80000gn/T/ipykernel_50509/330735155.py:26: FutureWarning: The behavior of \n",
       "DataFrame concatenation with empty or all-NA entries is deprecated. In a future version, this will no longer \n",
       "exclude empty or all-NA columns when determining the result dtypes. To retain the old behavior, exclude the \n",
       "relevant entries before the concat operation.\n",
       "  results = pd.concat([results, normalized_data]) #.dropna(axis=1, how=\"all\")])\n"
      ]
     },
     "metadata": {},
     "output_type": "display_data"
    },
    {
     "data": {
      "text/html": [
       "<pre style=\"white-space:pre;overflow-x:auto;line-height:normal;font-family:Menlo,'DejaVu Sans Mono',consolas,'Courier New',monospace\">/var/folders/7t/k8q3439j6z3c683j7w00wtm80000gn/T/ipykernel_50509/330735155.py:26: FutureWarning: The behavior of \n",
       "DataFrame concatenation with empty or all-NA entries is deprecated. In a future version, this will no longer \n",
       "exclude empty or all-NA columns when determining the result dtypes. To retain the old behavior, exclude the \n",
       "relevant entries before the concat operation.\n",
       "  results = pd.concat([results, normalized_data]) #.dropna(axis=1, how=\"all\")])\n",
       "</pre>\n"
      ],
      "text/plain": [
       "/var/folders/7t/k8q3439j6z3c683j7w00wtm80000gn/T/ipykernel_50509/330735155.py:26: FutureWarning: The behavior of \n",
       "DataFrame concatenation with empty or all-NA entries is deprecated. In a future version, this will no longer \n",
       "exclude empty or all-NA columns when determining the result dtypes. To retain the old behavior, exclude the \n",
       "relevant entries before the concat operation.\n",
       "  results = pd.concat([results, normalized_data]) #.dropna(axis=1, how=\"all\")])\n"
      ]
     },
     "metadata": {},
     "output_type": "display_data"
    },
    {
     "data": {
      "text/html": [
       "<pre style=\"white-space:pre;overflow-x:auto;line-height:normal;font-family:Menlo,'DejaVu Sans Mono',consolas,'Courier New',monospace\">/var/folders/7t/k8q3439j6z3c683j7w00wtm80000gn/T/ipykernel_50509/330735155.py:26: FutureWarning: The behavior of \n",
       "DataFrame concatenation with empty or all-NA entries is deprecated. In a future version, this will no longer \n",
       "exclude empty or all-NA columns when determining the result dtypes. To retain the old behavior, exclude the \n",
       "relevant entries before the concat operation.\n",
       "  results = pd.concat([results, normalized_data]) #.dropna(axis=1, how=\"all\")])\n",
       "</pre>\n"
      ],
      "text/plain": [
       "/var/folders/7t/k8q3439j6z3c683j7w00wtm80000gn/T/ipykernel_50509/330735155.py:26: FutureWarning: The behavior of \n",
       "DataFrame concatenation with empty or all-NA entries is deprecated. In a future version, this will no longer \n",
       "exclude empty or all-NA columns when determining the result dtypes. To retain the old behavior, exclude the \n",
       "relevant entries before the concat operation.\n",
       "  results = pd.concat([results, normalized_data]) #.dropna(axis=1, how=\"all\")])\n"
      ]
     },
     "metadata": {},
     "output_type": "display_data"
    },
    {
     "data": {
      "text/html": [
       "<pre style=\"white-space:pre;overflow-x:auto;line-height:normal;font-family:Menlo,'DejaVu Sans Mono',consolas,'Courier New',monospace\">/var/folders/7t/k8q3439j6z3c683j7w00wtm80000gn/T/ipykernel_50509/330735155.py:26: FutureWarning: The behavior of \n",
       "DataFrame concatenation with empty or all-NA entries is deprecated. In a future version, this will no longer \n",
       "exclude empty or all-NA columns when determining the result dtypes. To retain the old behavior, exclude the \n",
       "relevant entries before the concat operation.\n",
       "  results = pd.concat([results, normalized_data]) #.dropna(axis=1, how=\"all\")])\n",
       "</pre>\n"
      ],
      "text/plain": [
       "/var/folders/7t/k8q3439j6z3c683j7w00wtm80000gn/T/ipykernel_50509/330735155.py:26: FutureWarning: The behavior of \n",
       "DataFrame concatenation with empty or all-NA entries is deprecated. In a future version, this will no longer \n",
       "exclude empty or all-NA columns when determining the result dtypes. To retain the old behavior, exclude the \n",
       "relevant entries before the concat operation.\n",
       "  results = pd.concat([results, normalized_data]) #.dropna(axis=1, how=\"all\")])\n"
      ]
     },
     "metadata": {},
     "output_type": "display_data"
    },
    {
     "data": {
      "text/html": [
       "<pre style=\"white-space:pre;overflow-x:auto;line-height:normal;font-family:Menlo,'DejaVu Sans Mono',consolas,'Courier New',monospace\">/var/folders/7t/k8q3439j6z3c683j7w00wtm80000gn/T/ipykernel_50509/330735155.py:26: FutureWarning: The behavior of \n",
       "DataFrame concatenation with empty or all-NA entries is deprecated. In a future version, this will no longer \n",
       "exclude empty or all-NA columns when determining the result dtypes. To retain the old behavior, exclude the \n",
       "relevant entries before the concat operation.\n",
       "  results = pd.concat([results, normalized_data]) #.dropna(axis=1, how=\"all\")])\n",
       "</pre>\n"
      ],
      "text/plain": [
       "/var/folders/7t/k8q3439j6z3c683j7w00wtm80000gn/T/ipykernel_50509/330735155.py:26: FutureWarning: The behavior of \n",
       "DataFrame concatenation with empty or all-NA entries is deprecated. In a future version, this will no longer \n",
       "exclude empty or all-NA columns when determining the result dtypes. To retain the old behavior, exclude the \n",
       "relevant entries before the concat operation.\n",
       "  results = pd.concat([results, normalized_data]) #.dropna(axis=1, how=\"all\")])\n"
      ]
     },
     "metadata": {},
     "output_type": "display_data"
    },
    {
     "data": {
      "text/html": [
       "<pre style=\"white-space:pre;overflow-x:auto;line-height:normal;font-family:Menlo,'DejaVu Sans Mono',consolas,'Courier New',monospace\">/var/folders/7t/k8q3439j6z3c683j7w00wtm80000gn/T/ipykernel_50509/330735155.py:26: FutureWarning: The behavior of \n",
       "DataFrame concatenation with empty or all-NA entries is deprecated. In a future version, this will no longer \n",
       "exclude empty or all-NA columns when determining the result dtypes. To retain the old behavior, exclude the \n",
       "relevant entries before the concat operation.\n",
       "  results = pd.concat([results, normalized_data]) #.dropna(axis=1, how=\"all\")])\n",
       "</pre>\n"
      ],
      "text/plain": [
       "/var/folders/7t/k8q3439j6z3c683j7w00wtm80000gn/T/ipykernel_50509/330735155.py:26: FutureWarning: The behavior of \n",
       "DataFrame concatenation with empty or all-NA entries is deprecated. In a future version, this will no longer \n",
       "exclude empty or all-NA columns when determining the result dtypes. To retain the old behavior, exclude the \n",
       "relevant entries before the concat operation.\n",
       "  results = pd.concat([results, normalized_data]) #.dropna(axis=1, how=\"all\")])\n"
      ]
     },
     "metadata": {},
     "output_type": "display_data"
    },
    {
     "data": {
      "text/html": [
       "<pre style=\"white-space:pre;overflow-x:auto;line-height:normal;font-family:Menlo,'DejaVu Sans Mono',consolas,'Courier New',monospace\">/var/folders/7t/k8q3439j6z3c683j7w00wtm80000gn/T/ipykernel_50509/330735155.py:26: FutureWarning: The behavior of \n",
       "DataFrame concatenation with empty or all-NA entries is deprecated. In a future version, this will no longer \n",
       "exclude empty or all-NA columns when determining the result dtypes. To retain the old behavior, exclude the \n",
       "relevant entries before the concat operation.\n",
       "  results = pd.concat([results, normalized_data]) #.dropna(axis=1, how=\"all\")])\n",
       "</pre>\n"
      ],
      "text/plain": [
       "/var/folders/7t/k8q3439j6z3c683j7w00wtm80000gn/T/ipykernel_50509/330735155.py:26: FutureWarning: The behavior of \n",
       "DataFrame concatenation with empty or all-NA entries is deprecated. In a future version, this will no longer \n",
       "exclude empty or all-NA columns when determining the result dtypes. To retain the old behavior, exclude the \n",
       "relevant entries before the concat operation.\n",
       "  results = pd.concat([results, normalized_data]) #.dropna(axis=1, how=\"all\")])\n"
      ]
     },
     "metadata": {},
     "output_type": "display_data"
    },
    {
     "data": {
      "text/html": [
       "<pre style=\"white-space:pre;overflow-x:auto;line-height:normal;font-family:Menlo,'DejaVu Sans Mono',consolas,'Courier New',monospace\">/var/folders/7t/k8q3439j6z3c683j7w00wtm80000gn/T/ipykernel_50509/330735155.py:26: FutureWarning: The behavior of \n",
       "DataFrame concatenation with empty or all-NA entries is deprecated. In a future version, this will no longer \n",
       "exclude empty or all-NA columns when determining the result dtypes. To retain the old behavior, exclude the \n",
       "relevant entries before the concat operation.\n",
       "  results = pd.concat([results, normalized_data]) #.dropna(axis=1, how=\"all\")])\n",
       "</pre>\n"
      ],
      "text/plain": [
       "/var/folders/7t/k8q3439j6z3c683j7w00wtm80000gn/T/ipykernel_50509/330735155.py:26: FutureWarning: The behavior of \n",
       "DataFrame concatenation with empty or all-NA entries is deprecated. In a future version, this will no longer \n",
       "exclude empty or all-NA columns when determining the result dtypes. To retain the old behavior, exclude the \n",
       "relevant entries before the concat operation.\n",
       "  results = pd.concat([results, normalized_data]) #.dropna(axis=1, how=\"all\")])\n"
      ]
     },
     "metadata": {},
     "output_type": "display_data"
    },
    {
     "data": {
      "text/html": [
       "<pre style=\"white-space:pre;overflow-x:auto;line-height:normal;font-family:Menlo,'DejaVu Sans Mono',consolas,'Courier New',monospace\">/var/folders/7t/k8q3439j6z3c683j7w00wtm80000gn/T/ipykernel_50509/330735155.py:26: FutureWarning: The behavior of \n",
       "DataFrame concatenation with empty or all-NA entries is deprecated. In a future version, this will no longer \n",
       "exclude empty or all-NA columns when determining the result dtypes. To retain the old behavior, exclude the \n",
       "relevant entries before the concat operation.\n",
       "  results = pd.concat([results, normalized_data]) #.dropna(axis=1, how=\"all\")])\n",
       "</pre>\n"
      ],
      "text/plain": [
       "/var/folders/7t/k8q3439j6z3c683j7w00wtm80000gn/T/ipykernel_50509/330735155.py:26: FutureWarning: The behavior of \n",
       "DataFrame concatenation with empty or all-NA entries is deprecated. In a future version, this will no longer \n",
       "exclude empty or all-NA columns when determining the result dtypes. To retain the old behavior, exclude the \n",
       "relevant entries before the concat operation.\n",
       "  results = pd.concat([results, normalized_data]) #.dropna(axis=1, how=\"all\")])\n"
      ]
     },
     "metadata": {},
     "output_type": "display_data"
    },
    {
     "data": {
      "text/html": [
       "<pre style=\"white-space:pre;overflow-x:auto;line-height:normal;font-family:Menlo,'DejaVu Sans Mono',consolas,'Courier New',monospace\">/var/folders/7t/k8q3439j6z3c683j7w00wtm80000gn/T/ipykernel_50509/330735155.py:26: FutureWarning: The behavior of \n",
       "DataFrame concatenation with empty or all-NA entries is deprecated. In a future version, this will no longer \n",
       "exclude empty or all-NA columns when determining the result dtypes. To retain the old behavior, exclude the \n",
       "relevant entries before the concat operation.\n",
       "  results = pd.concat([results, normalized_data]) #.dropna(axis=1, how=\"all\")])\n",
       "</pre>\n"
      ],
      "text/plain": [
       "/var/folders/7t/k8q3439j6z3c683j7w00wtm80000gn/T/ipykernel_50509/330735155.py:26: FutureWarning: The behavior of \n",
       "DataFrame concatenation with empty or all-NA entries is deprecated. In a future version, this will no longer \n",
       "exclude empty or all-NA columns when determining the result dtypes. To retain the old behavior, exclude the \n",
       "relevant entries before the concat operation.\n",
       "  results = pd.concat([results, normalized_data]) #.dropna(axis=1, how=\"all\")])\n"
      ]
     },
     "metadata": {},
     "output_type": "display_data"
    },
    {
     "data": {
      "text/html": [
       "<pre style=\"white-space:pre;overflow-x:auto;line-height:normal;font-family:Menlo,'DejaVu Sans Mono',consolas,'Courier New',monospace\">/var/folders/7t/k8q3439j6z3c683j7w00wtm80000gn/T/ipykernel_50509/330735155.py:26: FutureWarning: The behavior of \n",
       "DataFrame concatenation with empty or all-NA entries is deprecated. In a future version, this will no longer \n",
       "exclude empty or all-NA columns when determining the result dtypes. To retain the old behavior, exclude the \n",
       "relevant entries before the concat operation.\n",
       "  results = pd.concat([results, normalized_data]) #.dropna(axis=1, how=\"all\")])\n",
       "</pre>\n"
      ],
      "text/plain": [
       "/var/folders/7t/k8q3439j6z3c683j7w00wtm80000gn/T/ipykernel_50509/330735155.py:26: FutureWarning: The behavior of \n",
       "DataFrame concatenation with empty or all-NA entries is deprecated. In a future version, this will no longer \n",
       "exclude empty or all-NA columns when determining the result dtypes. To retain the old behavior, exclude the \n",
       "relevant entries before the concat operation.\n",
       "  results = pd.concat([results, normalized_data]) #.dropna(axis=1, how=\"all\")])\n"
      ]
     },
     "metadata": {},
     "output_type": "display_data"
    },
    {
     "data": {
      "text/html": [
       "<pre style=\"white-space:pre;overflow-x:auto;line-height:normal;font-family:Menlo,'DejaVu Sans Mono',consolas,'Courier New',monospace\">/var/folders/7t/k8q3439j6z3c683j7w00wtm80000gn/T/ipykernel_50509/330735155.py:26: FutureWarning: The behavior of \n",
       "DataFrame concatenation with empty or all-NA entries is deprecated. In a future version, this will no longer \n",
       "exclude empty or all-NA columns when determining the result dtypes. To retain the old behavior, exclude the \n",
       "relevant entries before the concat operation.\n",
       "  results = pd.concat([results, normalized_data]) #.dropna(axis=1, how=\"all\")])\n",
       "</pre>\n"
      ],
      "text/plain": [
       "/var/folders/7t/k8q3439j6z3c683j7w00wtm80000gn/T/ipykernel_50509/330735155.py:26: FutureWarning: The behavior of \n",
       "DataFrame concatenation with empty or all-NA entries is deprecated. In a future version, this will no longer \n",
       "exclude empty or all-NA columns when determining the result dtypes. To retain the old behavior, exclude the \n",
       "relevant entries before the concat operation.\n",
       "  results = pd.concat([results, normalized_data]) #.dropna(axis=1, how=\"all\")])\n"
      ]
     },
     "metadata": {},
     "output_type": "display_data"
    },
    {
     "data": {
      "text/html": [
       "<pre style=\"white-space:pre;overflow-x:auto;line-height:normal;font-family:Menlo,'DejaVu Sans Mono',consolas,'Courier New',monospace\">/var/folders/7t/k8q3439j6z3c683j7w00wtm80000gn/T/ipykernel_50509/330735155.py:26: FutureWarning: The behavior of \n",
       "DataFrame concatenation with empty or all-NA entries is deprecated. In a future version, this will no longer \n",
       "exclude empty or all-NA columns when determining the result dtypes. To retain the old behavior, exclude the \n",
       "relevant entries before the concat operation.\n",
       "  results = pd.concat([results, normalized_data]) #.dropna(axis=1, how=\"all\")])\n",
       "</pre>\n"
      ],
      "text/plain": [
       "/var/folders/7t/k8q3439j6z3c683j7w00wtm80000gn/T/ipykernel_50509/330735155.py:26: FutureWarning: The behavior of \n",
       "DataFrame concatenation with empty or all-NA entries is deprecated. In a future version, this will no longer \n",
       "exclude empty or all-NA columns when determining the result dtypes. To retain the old behavior, exclude the \n",
       "relevant entries before the concat operation.\n",
       "  results = pd.concat([results, normalized_data]) #.dropna(axis=1, how=\"all\")])\n"
      ]
     },
     "metadata": {},
     "output_type": "display_data"
    },
    {
     "data": {
      "text/html": [
       "<pre style=\"white-space:pre;overflow-x:auto;line-height:normal;font-family:Menlo,'DejaVu Sans Mono',consolas,'Courier New',monospace\">/var/folders/7t/k8q3439j6z3c683j7w00wtm80000gn/T/ipykernel_50509/330735155.py:26: FutureWarning: The behavior of \n",
       "DataFrame concatenation with empty or all-NA entries is deprecated. In a future version, this will no longer \n",
       "exclude empty or all-NA columns when determining the result dtypes. To retain the old behavior, exclude the \n",
       "relevant entries before the concat operation.\n",
       "  results = pd.concat([results, normalized_data]) #.dropna(axis=1, how=\"all\")])\n",
       "</pre>\n"
      ],
      "text/plain": [
       "/var/folders/7t/k8q3439j6z3c683j7w00wtm80000gn/T/ipykernel_50509/330735155.py:26: FutureWarning: The behavior of \n",
       "DataFrame concatenation with empty or all-NA entries is deprecated. In a future version, this will no longer \n",
       "exclude empty or all-NA columns when determining the result dtypes. To retain the old behavior, exclude the \n",
       "relevant entries before the concat operation.\n",
       "  results = pd.concat([results, normalized_data]) #.dropna(axis=1, how=\"all\")])\n"
      ]
     },
     "metadata": {},
     "output_type": "display_data"
    },
    {
     "data": {
      "text/html": [
       "<pre style=\"white-space:pre;overflow-x:auto;line-height:normal;font-family:Menlo,'DejaVu Sans Mono',consolas,'Courier New',monospace\">/var/folders/7t/k8q3439j6z3c683j7w00wtm80000gn/T/ipykernel_50509/330735155.py:26: FutureWarning: The behavior of \n",
       "DataFrame concatenation with empty or all-NA entries is deprecated. In a future version, this will no longer \n",
       "exclude empty or all-NA columns when determining the result dtypes. To retain the old behavior, exclude the \n",
       "relevant entries before the concat operation.\n",
       "  results = pd.concat([results, normalized_data]) #.dropna(axis=1, how=\"all\")])\n",
       "</pre>\n"
      ],
      "text/plain": [
       "/var/folders/7t/k8q3439j6z3c683j7w00wtm80000gn/T/ipykernel_50509/330735155.py:26: FutureWarning: The behavior of \n",
       "DataFrame concatenation with empty or all-NA entries is deprecated. In a future version, this will no longer \n",
       "exclude empty or all-NA columns when determining the result dtypes. To retain the old behavior, exclude the \n",
       "relevant entries before the concat operation.\n",
       "  results = pd.concat([results, normalized_data]) #.dropna(axis=1, how=\"all\")])\n"
      ]
     },
     "metadata": {},
     "output_type": "display_data"
    },
    {
     "data": {
      "text/html": [
       "<pre style=\"white-space:pre;overflow-x:auto;line-height:normal;font-family:Menlo,'DejaVu Sans Mono',consolas,'Courier New',monospace\">/var/folders/7t/k8q3439j6z3c683j7w00wtm80000gn/T/ipykernel_50509/330735155.py:26: FutureWarning: The behavior of \n",
       "DataFrame concatenation with empty or all-NA entries is deprecated. In a future version, this will no longer \n",
       "exclude empty or all-NA columns when determining the result dtypes. To retain the old behavior, exclude the \n",
       "relevant entries before the concat operation.\n",
       "  results = pd.concat([results, normalized_data]) #.dropna(axis=1, how=\"all\")])\n",
       "</pre>\n"
      ],
      "text/plain": [
       "/var/folders/7t/k8q3439j6z3c683j7w00wtm80000gn/T/ipykernel_50509/330735155.py:26: FutureWarning: The behavior of \n",
       "DataFrame concatenation with empty or all-NA entries is deprecated. In a future version, this will no longer \n",
       "exclude empty or all-NA columns when determining the result dtypes. To retain the old behavior, exclude the \n",
       "relevant entries before the concat operation.\n",
       "  results = pd.concat([results, normalized_data]) #.dropna(axis=1, how=\"all\")])\n"
      ]
     },
     "metadata": {},
     "output_type": "display_data"
    },
    {
     "data": {
      "text/html": [
       "<pre style=\"white-space:pre;overflow-x:auto;line-height:normal;font-family:Menlo,'DejaVu Sans Mono',consolas,'Courier New',monospace\">/var/folders/7t/k8q3439j6z3c683j7w00wtm80000gn/T/ipykernel_50509/330735155.py:26: FutureWarning: The behavior of \n",
       "DataFrame concatenation with empty or all-NA entries is deprecated. In a future version, this will no longer \n",
       "exclude empty or all-NA columns when determining the result dtypes. To retain the old behavior, exclude the \n",
       "relevant entries before the concat operation.\n",
       "  results = pd.concat([results, normalized_data]) #.dropna(axis=1, how=\"all\")])\n",
       "</pre>\n"
      ],
      "text/plain": [
       "/var/folders/7t/k8q3439j6z3c683j7w00wtm80000gn/T/ipykernel_50509/330735155.py:26: FutureWarning: The behavior of \n",
       "DataFrame concatenation with empty or all-NA entries is deprecated. In a future version, this will no longer \n",
       "exclude empty or all-NA columns when determining the result dtypes. To retain the old behavior, exclude the \n",
       "relevant entries before the concat operation.\n",
       "  results = pd.concat([results, normalized_data]) #.dropna(axis=1, how=\"all\")])\n"
      ]
     },
     "metadata": {},
     "output_type": "display_data"
    },
    {
     "data": {
      "text/html": [
       "<pre style=\"white-space:pre;overflow-x:auto;line-height:normal;font-family:Menlo,'DejaVu Sans Mono',consolas,'Courier New',monospace\">/var/folders/7t/k8q3439j6z3c683j7w00wtm80000gn/T/ipykernel_50509/330735155.py:26: FutureWarning: The behavior of \n",
       "DataFrame concatenation with empty or all-NA entries is deprecated. In a future version, this will no longer \n",
       "exclude empty or all-NA columns when determining the result dtypes. To retain the old behavior, exclude the \n",
       "relevant entries before the concat operation.\n",
       "  results = pd.concat([results, normalized_data]) #.dropna(axis=1, how=\"all\")])\n",
       "</pre>\n"
      ],
      "text/plain": [
       "/var/folders/7t/k8q3439j6z3c683j7w00wtm80000gn/T/ipykernel_50509/330735155.py:26: FutureWarning: The behavior of \n",
       "DataFrame concatenation with empty or all-NA entries is deprecated. In a future version, this will no longer \n",
       "exclude empty or all-NA columns when determining the result dtypes. To retain the old behavior, exclude the \n",
       "relevant entries before the concat operation.\n",
       "  results = pd.concat([results, normalized_data]) #.dropna(axis=1, how=\"all\")])\n"
      ]
     },
     "metadata": {},
     "output_type": "display_data"
    },
    {
     "data": {
      "text/html": [
       "<pre style=\"white-space:pre;overflow-x:auto;line-height:normal;font-family:Menlo,'DejaVu Sans Mono',consolas,'Courier New',monospace\">/var/folders/7t/k8q3439j6z3c683j7w00wtm80000gn/T/ipykernel_50509/330735155.py:26: FutureWarning: The behavior of \n",
       "DataFrame concatenation with empty or all-NA entries is deprecated. In a future version, this will no longer \n",
       "exclude empty or all-NA columns when determining the result dtypes. To retain the old behavior, exclude the \n",
       "relevant entries before the concat operation.\n",
       "  results = pd.concat([results, normalized_data]) #.dropna(axis=1, how=\"all\")])\n",
       "</pre>\n"
      ],
      "text/plain": [
       "/var/folders/7t/k8q3439j6z3c683j7w00wtm80000gn/T/ipykernel_50509/330735155.py:26: FutureWarning: The behavior of \n",
       "DataFrame concatenation with empty or all-NA entries is deprecated. In a future version, this will no longer \n",
       "exclude empty or all-NA columns when determining the result dtypes. To retain the old behavior, exclude the \n",
       "relevant entries before the concat operation.\n",
       "  results = pd.concat([results, normalized_data]) #.dropna(axis=1, how=\"all\")])\n"
      ]
     },
     "metadata": {},
     "output_type": "display_data"
    },
    {
     "data": {
      "text/html": [
       "<pre style=\"white-space:pre;overflow-x:auto;line-height:normal;font-family:Menlo,'DejaVu Sans Mono',consolas,'Courier New',monospace\">/var/folders/7t/k8q3439j6z3c683j7w00wtm80000gn/T/ipykernel_50509/330735155.py:26: FutureWarning: The behavior of \n",
       "DataFrame concatenation with empty or all-NA entries is deprecated. In a future version, this will no longer \n",
       "exclude empty or all-NA columns when determining the result dtypes. To retain the old behavior, exclude the \n",
       "relevant entries before the concat operation.\n",
       "  results = pd.concat([results, normalized_data]) #.dropna(axis=1, how=\"all\")])\n",
       "</pre>\n"
      ],
      "text/plain": [
       "/var/folders/7t/k8q3439j6z3c683j7w00wtm80000gn/T/ipykernel_50509/330735155.py:26: FutureWarning: The behavior of \n",
       "DataFrame concatenation with empty or all-NA entries is deprecated. In a future version, this will no longer \n",
       "exclude empty or all-NA columns when determining the result dtypes. To retain the old behavior, exclude the \n",
       "relevant entries before the concat operation.\n",
       "  results = pd.concat([results, normalized_data]) #.dropna(axis=1, how=\"all\")])\n"
      ]
     },
     "metadata": {},
     "output_type": "display_data"
    },
    {
     "data": {
      "text/html": [
       "<pre style=\"white-space:pre;overflow-x:auto;line-height:normal;font-family:Menlo,'DejaVu Sans Mono',consolas,'Courier New',monospace\">/var/folders/7t/k8q3439j6z3c683j7w00wtm80000gn/T/ipykernel_50509/330735155.py:26: FutureWarning: The behavior of \n",
       "DataFrame concatenation with empty or all-NA entries is deprecated. In a future version, this will no longer \n",
       "exclude empty or all-NA columns when determining the result dtypes. To retain the old behavior, exclude the \n",
       "relevant entries before the concat operation.\n",
       "  results = pd.concat([results, normalized_data]) #.dropna(axis=1, how=\"all\")])\n",
       "</pre>\n"
      ],
      "text/plain": [
       "/var/folders/7t/k8q3439j6z3c683j7w00wtm80000gn/T/ipykernel_50509/330735155.py:26: FutureWarning: The behavior of \n",
       "DataFrame concatenation with empty or all-NA entries is deprecated. In a future version, this will no longer \n",
       "exclude empty or all-NA columns when determining the result dtypes. To retain the old behavior, exclude the \n",
       "relevant entries before the concat operation.\n",
       "  results = pd.concat([results, normalized_data]) #.dropna(axis=1, how=\"all\")])\n"
      ]
     },
     "metadata": {},
     "output_type": "display_data"
    },
    {
     "data": {
      "text/html": [
       "<pre style=\"white-space:pre;overflow-x:auto;line-height:normal;font-family:Menlo,'DejaVu Sans Mono',consolas,'Courier New',monospace\">/var/folders/7t/k8q3439j6z3c683j7w00wtm80000gn/T/ipykernel_50509/330735155.py:26: FutureWarning: The behavior of \n",
       "DataFrame concatenation with empty or all-NA entries is deprecated. In a future version, this will no longer \n",
       "exclude empty or all-NA columns when determining the result dtypes. To retain the old behavior, exclude the \n",
       "relevant entries before the concat operation.\n",
       "  results = pd.concat([results, normalized_data]) #.dropna(axis=1, how=\"all\")])\n",
       "</pre>\n"
      ],
      "text/plain": [
       "/var/folders/7t/k8q3439j6z3c683j7w00wtm80000gn/T/ipykernel_50509/330735155.py:26: FutureWarning: The behavior of \n",
       "DataFrame concatenation with empty or all-NA entries is deprecated. In a future version, this will no longer \n",
       "exclude empty or all-NA columns when determining the result dtypes. To retain the old behavior, exclude the \n",
       "relevant entries before the concat operation.\n",
       "  results = pd.concat([results, normalized_data]) #.dropna(axis=1, how=\"all\")])\n"
      ]
     },
     "metadata": {},
     "output_type": "display_data"
    },
    {
     "data": {
      "text/html": [
       "<pre style=\"white-space:pre;overflow-x:auto;line-height:normal;font-family:Menlo,'DejaVu Sans Mono',consolas,'Courier New',monospace\">/var/folders/7t/k8q3439j6z3c683j7w00wtm80000gn/T/ipykernel_50509/330735155.py:26: FutureWarning: The behavior of \n",
       "DataFrame concatenation with empty or all-NA entries is deprecated. In a future version, this will no longer \n",
       "exclude empty or all-NA columns when determining the result dtypes. To retain the old behavior, exclude the \n",
       "relevant entries before the concat operation.\n",
       "  results = pd.concat([results, normalized_data]) #.dropna(axis=1, how=\"all\")])\n",
       "</pre>\n"
      ],
      "text/plain": [
       "/var/folders/7t/k8q3439j6z3c683j7w00wtm80000gn/T/ipykernel_50509/330735155.py:26: FutureWarning: The behavior of \n",
       "DataFrame concatenation with empty or all-NA entries is deprecated. In a future version, this will no longer \n",
       "exclude empty or all-NA columns when determining the result dtypes. To retain the old behavior, exclude the \n",
       "relevant entries before the concat operation.\n",
       "  results = pd.concat([results, normalized_data]) #.dropna(axis=1, how=\"all\")])\n"
      ]
     },
     "metadata": {},
     "output_type": "display_data"
    },
    {
     "data": {
      "text/html": [
       "<pre style=\"white-space:pre;overflow-x:auto;line-height:normal;font-family:Menlo,'DejaVu Sans Mono',consolas,'Courier New',monospace\">/var/folders/7t/k8q3439j6z3c683j7w00wtm80000gn/T/ipykernel_50509/330735155.py:26: FutureWarning: The behavior of \n",
       "DataFrame concatenation with empty or all-NA entries is deprecated. In a future version, this will no longer \n",
       "exclude empty or all-NA columns when determining the result dtypes. To retain the old behavior, exclude the \n",
       "relevant entries before the concat operation.\n",
       "  results = pd.concat([results, normalized_data]) #.dropna(axis=1, how=\"all\")])\n",
       "</pre>\n"
      ],
      "text/plain": [
       "/var/folders/7t/k8q3439j6z3c683j7w00wtm80000gn/T/ipykernel_50509/330735155.py:26: FutureWarning: The behavior of \n",
       "DataFrame concatenation with empty or all-NA entries is deprecated. In a future version, this will no longer \n",
       "exclude empty or all-NA columns when determining the result dtypes. To retain the old behavior, exclude the \n",
       "relevant entries before the concat operation.\n",
       "  results = pd.concat([results, normalized_data]) #.dropna(axis=1, how=\"all\")])\n"
      ]
     },
     "metadata": {},
     "output_type": "display_data"
    },
    {
     "data": {
      "text/html": [
       "<pre style=\"white-space:pre;overflow-x:auto;line-height:normal;font-family:Menlo,'DejaVu Sans Mono',consolas,'Courier New',monospace\">/var/folders/7t/k8q3439j6z3c683j7w00wtm80000gn/T/ipykernel_50509/330735155.py:26: FutureWarning: The behavior of \n",
       "DataFrame concatenation with empty or all-NA entries is deprecated. In a future version, this will no longer \n",
       "exclude empty or all-NA columns when determining the result dtypes. To retain the old behavior, exclude the \n",
       "relevant entries before the concat operation.\n",
       "  results = pd.concat([results, normalized_data]) #.dropna(axis=1, how=\"all\")])\n",
       "</pre>\n"
      ],
      "text/plain": [
       "/var/folders/7t/k8q3439j6z3c683j7w00wtm80000gn/T/ipykernel_50509/330735155.py:26: FutureWarning: The behavior of \n",
       "DataFrame concatenation with empty or all-NA entries is deprecated. In a future version, this will no longer \n",
       "exclude empty or all-NA columns when determining the result dtypes. To retain the old behavior, exclude the \n",
       "relevant entries before the concat operation.\n",
       "  results = pd.concat([results, normalized_data]) #.dropna(axis=1, how=\"all\")])\n"
      ]
     },
     "metadata": {},
     "output_type": "display_data"
    },
    {
     "data": {
      "text/html": [
       "<pre style=\"white-space:pre;overflow-x:auto;line-height:normal;font-family:Menlo,'DejaVu Sans Mono',consolas,'Courier New',monospace\">/var/folders/7t/k8q3439j6z3c683j7w00wtm80000gn/T/ipykernel_50509/330735155.py:26: FutureWarning: The behavior of \n",
       "DataFrame concatenation with empty or all-NA entries is deprecated. In a future version, this will no longer \n",
       "exclude empty or all-NA columns when determining the result dtypes. To retain the old behavior, exclude the \n",
       "relevant entries before the concat operation.\n",
       "  results = pd.concat([results, normalized_data]) #.dropna(axis=1, how=\"all\")])\n",
       "</pre>\n"
      ],
      "text/plain": [
       "/var/folders/7t/k8q3439j6z3c683j7w00wtm80000gn/T/ipykernel_50509/330735155.py:26: FutureWarning: The behavior of \n",
       "DataFrame concatenation with empty or all-NA entries is deprecated. In a future version, this will no longer \n",
       "exclude empty or all-NA columns when determining the result dtypes. To retain the old behavior, exclude the \n",
       "relevant entries before the concat operation.\n",
       "  results = pd.concat([results, normalized_data]) #.dropna(axis=1, how=\"all\")])\n"
      ]
     },
     "metadata": {},
     "output_type": "display_data"
    },
    {
     "data": {
      "text/html": [
       "<pre style=\"white-space:pre;overflow-x:auto;line-height:normal;font-family:Menlo,'DejaVu Sans Mono',consolas,'Courier New',monospace\">/var/folders/7t/k8q3439j6z3c683j7w00wtm80000gn/T/ipykernel_50509/330735155.py:26: FutureWarning: The behavior of \n",
       "DataFrame concatenation with empty or all-NA entries is deprecated. In a future version, this will no longer \n",
       "exclude empty or all-NA columns when determining the result dtypes. To retain the old behavior, exclude the \n",
       "relevant entries before the concat operation.\n",
       "  results = pd.concat([results, normalized_data]) #.dropna(axis=1, how=\"all\")])\n",
       "</pre>\n"
      ],
      "text/plain": [
       "/var/folders/7t/k8q3439j6z3c683j7w00wtm80000gn/T/ipykernel_50509/330735155.py:26: FutureWarning: The behavior of \n",
       "DataFrame concatenation with empty or all-NA entries is deprecated. In a future version, this will no longer \n",
       "exclude empty or all-NA columns when determining the result dtypes. To retain the old behavior, exclude the \n",
       "relevant entries before the concat operation.\n",
       "  results = pd.concat([results, normalized_data]) #.dropna(axis=1, how=\"all\")])\n"
      ]
     },
     "metadata": {},
     "output_type": "display_data"
    },
    {
     "data": {
      "text/html": [
       "<pre style=\"white-space:pre;overflow-x:auto;line-height:normal;font-family:Menlo,'DejaVu Sans Mono',consolas,'Courier New',monospace\">/var/folders/7t/k8q3439j6z3c683j7w00wtm80000gn/T/ipykernel_50509/330735155.py:26: FutureWarning: The behavior of \n",
       "DataFrame concatenation with empty or all-NA entries is deprecated. In a future version, this will no longer \n",
       "exclude empty or all-NA columns when determining the result dtypes. To retain the old behavior, exclude the \n",
       "relevant entries before the concat operation.\n",
       "  results = pd.concat([results, normalized_data]) #.dropna(axis=1, how=\"all\")])\n",
       "</pre>\n"
      ],
      "text/plain": [
       "/var/folders/7t/k8q3439j6z3c683j7w00wtm80000gn/T/ipykernel_50509/330735155.py:26: FutureWarning: The behavior of \n",
       "DataFrame concatenation with empty or all-NA entries is deprecated. In a future version, this will no longer \n",
       "exclude empty or all-NA columns when determining the result dtypes. To retain the old behavior, exclude the \n",
       "relevant entries before the concat operation.\n",
       "  results = pd.concat([results, normalized_data]) #.dropna(axis=1, how=\"all\")])\n"
      ]
     },
     "metadata": {},
     "output_type": "display_data"
    },
    {
     "data": {
      "text/html": [
       "<pre style=\"white-space:pre;overflow-x:auto;line-height:normal;font-family:Menlo,'DejaVu Sans Mono',consolas,'Courier New',monospace\">/var/folders/7t/k8q3439j6z3c683j7w00wtm80000gn/T/ipykernel_50509/330735155.py:26: FutureWarning: The behavior of \n",
       "DataFrame concatenation with empty or all-NA entries is deprecated. In a future version, this will no longer \n",
       "exclude empty or all-NA columns when determining the result dtypes. To retain the old behavior, exclude the \n",
       "relevant entries before the concat operation.\n",
       "  results = pd.concat([results, normalized_data]) #.dropna(axis=1, how=\"all\")])\n",
       "</pre>\n"
      ],
      "text/plain": [
       "/var/folders/7t/k8q3439j6z3c683j7w00wtm80000gn/T/ipykernel_50509/330735155.py:26: FutureWarning: The behavior of \n",
       "DataFrame concatenation with empty or all-NA entries is deprecated. In a future version, this will no longer \n",
       "exclude empty or all-NA columns when determining the result dtypes. To retain the old behavior, exclude the \n",
       "relevant entries before the concat operation.\n",
       "  results = pd.concat([results, normalized_data]) #.dropna(axis=1, how=\"all\")])\n"
      ]
     },
     "metadata": {},
     "output_type": "display_data"
    },
    {
     "data": {
      "text/html": [
       "<pre style=\"white-space:pre;overflow-x:auto;line-height:normal;font-family:Menlo,'DejaVu Sans Mono',consolas,'Courier New',monospace\">/var/folders/7t/k8q3439j6z3c683j7w00wtm80000gn/T/ipykernel_50509/330735155.py:26: FutureWarning: The behavior of \n",
       "DataFrame concatenation with empty or all-NA entries is deprecated. In a future version, this will no longer \n",
       "exclude empty or all-NA columns when determining the result dtypes. To retain the old behavior, exclude the \n",
       "relevant entries before the concat operation.\n",
       "  results = pd.concat([results, normalized_data]) #.dropna(axis=1, how=\"all\")])\n",
       "</pre>\n"
      ],
      "text/plain": [
       "/var/folders/7t/k8q3439j6z3c683j7w00wtm80000gn/T/ipykernel_50509/330735155.py:26: FutureWarning: The behavior of \n",
       "DataFrame concatenation with empty or all-NA entries is deprecated. In a future version, this will no longer \n",
       "exclude empty or all-NA columns when determining the result dtypes. To retain the old behavior, exclude the \n",
       "relevant entries before the concat operation.\n",
       "  results = pd.concat([results, normalized_data]) #.dropna(axis=1, how=\"all\")])\n"
      ]
     },
     "metadata": {},
     "output_type": "display_data"
    },
    {
     "data": {
      "text/html": [
       "<pre style=\"white-space:pre;overflow-x:auto;line-height:normal;font-family:Menlo,'DejaVu Sans Mono',consolas,'Courier New',monospace\">/var/folders/7t/k8q3439j6z3c683j7w00wtm80000gn/T/ipykernel_50509/330735155.py:26: FutureWarning: The behavior of \n",
       "DataFrame concatenation with empty or all-NA entries is deprecated. In a future version, this will no longer \n",
       "exclude empty or all-NA columns when determining the result dtypes. To retain the old behavior, exclude the \n",
       "relevant entries before the concat operation.\n",
       "  results = pd.concat([results, normalized_data]) #.dropna(axis=1, how=\"all\")])\n",
       "</pre>\n"
      ],
      "text/plain": [
       "/var/folders/7t/k8q3439j6z3c683j7w00wtm80000gn/T/ipykernel_50509/330735155.py:26: FutureWarning: The behavior of \n",
       "DataFrame concatenation with empty or all-NA entries is deprecated. In a future version, this will no longer \n",
       "exclude empty or all-NA columns when determining the result dtypes. To retain the old behavior, exclude the \n",
       "relevant entries before the concat operation.\n",
       "  results = pd.concat([results, normalized_data]) #.dropna(axis=1, how=\"all\")])\n"
      ]
     },
     "metadata": {},
     "output_type": "display_data"
    },
    {
     "data": {
      "text/html": [
       "<pre style=\"white-space:pre;overflow-x:auto;line-height:normal;font-family:Menlo,'DejaVu Sans Mono',consolas,'Courier New',monospace\">/var/folders/7t/k8q3439j6z3c683j7w00wtm80000gn/T/ipykernel_50509/330735155.py:26: FutureWarning: The behavior of \n",
       "DataFrame concatenation with empty or all-NA entries is deprecated. In a future version, this will no longer \n",
       "exclude empty or all-NA columns when determining the result dtypes. To retain the old behavior, exclude the \n",
       "relevant entries before the concat operation.\n",
       "  results = pd.concat([results, normalized_data]) #.dropna(axis=1, how=\"all\")])\n",
       "</pre>\n"
      ],
      "text/plain": [
       "/var/folders/7t/k8q3439j6z3c683j7w00wtm80000gn/T/ipykernel_50509/330735155.py:26: FutureWarning: The behavior of \n",
       "DataFrame concatenation with empty or all-NA entries is deprecated. In a future version, this will no longer \n",
       "exclude empty or all-NA columns when determining the result dtypes. To retain the old behavior, exclude the \n",
       "relevant entries before the concat operation.\n",
       "  results = pd.concat([results, normalized_data]) #.dropna(axis=1, how=\"all\")])\n"
      ]
     },
     "metadata": {},
     "output_type": "display_data"
    },
    {
     "data": {
      "text/html": [
       "<pre style=\"white-space:pre;overflow-x:auto;line-height:normal;font-family:Menlo,'DejaVu Sans Mono',consolas,'Courier New',monospace\">/var/folders/7t/k8q3439j6z3c683j7w00wtm80000gn/T/ipykernel_50509/330735155.py:26: FutureWarning: The behavior of \n",
       "DataFrame concatenation with empty or all-NA entries is deprecated. In a future version, this will no longer \n",
       "exclude empty or all-NA columns when determining the result dtypes. To retain the old behavior, exclude the \n",
       "relevant entries before the concat operation.\n",
       "  results = pd.concat([results, normalized_data]) #.dropna(axis=1, how=\"all\")])\n",
       "</pre>\n"
      ],
      "text/plain": [
       "/var/folders/7t/k8q3439j6z3c683j7w00wtm80000gn/T/ipykernel_50509/330735155.py:26: FutureWarning: The behavior of \n",
       "DataFrame concatenation with empty or all-NA entries is deprecated. In a future version, this will no longer \n",
       "exclude empty or all-NA columns when determining the result dtypes. To retain the old behavior, exclude the \n",
       "relevant entries before the concat operation.\n",
       "  results = pd.concat([results, normalized_data]) #.dropna(axis=1, how=\"all\")])\n"
      ]
     },
     "metadata": {},
     "output_type": "display_data"
    },
    {
     "data": {
      "text/html": [
       "<pre style=\"white-space:pre;overflow-x:auto;line-height:normal;font-family:Menlo,'DejaVu Sans Mono',consolas,'Courier New',monospace\">/var/folders/7t/k8q3439j6z3c683j7w00wtm80000gn/T/ipykernel_50509/330735155.py:26: FutureWarning: The behavior of \n",
       "DataFrame concatenation with empty or all-NA entries is deprecated. In a future version, this will no longer \n",
       "exclude empty or all-NA columns when determining the result dtypes. To retain the old behavior, exclude the \n",
       "relevant entries before the concat operation.\n",
       "  results = pd.concat([results, normalized_data]) #.dropna(axis=1, how=\"all\")])\n",
       "</pre>\n"
      ],
      "text/plain": [
       "/var/folders/7t/k8q3439j6z3c683j7w00wtm80000gn/T/ipykernel_50509/330735155.py:26: FutureWarning: The behavior of \n",
       "DataFrame concatenation with empty or all-NA entries is deprecated. In a future version, this will no longer \n",
       "exclude empty or all-NA columns when determining the result dtypes. To retain the old behavior, exclude the \n",
       "relevant entries before the concat operation.\n",
       "  results = pd.concat([results, normalized_data]) #.dropna(axis=1, how=\"all\")])\n"
      ]
     },
     "metadata": {},
     "output_type": "display_data"
    },
    {
     "data": {
      "text/html": [
       "<pre style=\"white-space:pre;overflow-x:auto;line-height:normal;font-family:Menlo,'DejaVu Sans Mono',consolas,'Courier New',monospace\">/var/folders/7t/k8q3439j6z3c683j7w00wtm80000gn/T/ipykernel_50509/330735155.py:26: FutureWarning: The behavior of \n",
       "DataFrame concatenation with empty or all-NA entries is deprecated. In a future version, this will no longer \n",
       "exclude empty or all-NA columns when determining the result dtypes. To retain the old behavior, exclude the \n",
       "relevant entries before the concat operation.\n",
       "  results = pd.concat([results, normalized_data]) #.dropna(axis=1, how=\"all\")])\n",
       "</pre>\n"
      ],
      "text/plain": [
       "/var/folders/7t/k8q3439j6z3c683j7w00wtm80000gn/T/ipykernel_50509/330735155.py:26: FutureWarning: The behavior of \n",
       "DataFrame concatenation with empty or all-NA entries is deprecated. In a future version, this will no longer \n",
       "exclude empty or all-NA columns when determining the result dtypes. To retain the old behavior, exclude the \n",
       "relevant entries before the concat operation.\n",
       "  results = pd.concat([results, normalized_data]) #.dropna(axis=1, how=\"all\")])\n"
      ]
     },
     "metadata": {},
     "output_type": "display_data"
    },
    {
     "data": {
      "text/html": [
       "<pre style=\"white-space:pre;overflow-x:auto;line-height:normal;font-family:Menlo,'DejaVu Sans Mono',consolas,'Courier New',monospace\">/var/folders/7t/k8q3439j6z3c683j7w00wtm80000gn/T/ipykernel_50509/330735155.py:26: FutureWarning: The behavior of \n",
       "DataFrame concatenation with empty or all-NA entries is deprecated. In a future version, this will no longer \n",
       "exclude empty or all-NA columns when determining the result dtypes. To retain the old behavior, exclude the \n",
       "relevant entries before the concat operation.\n",
       "  results = pd.concat([results, normalized_data]) #.dropna(axis=1, how=\"all\")])\n",
       "</pre>\n"
      ],
      "text/plain": [
       "/var/folders/7t/k8q3439j6z3c683j7w00wtm80000gn/T/ipykernel_50509/330735155.py:26: FutureWarning: The behavior of \n",
       "DataFrame concatenation with empty or all-NA entries is deprecated. In a future version, this will no longer \n",
       "exclude empty or all-NA columns when determining the result dtypes. To retain the old behavior, exclude the \n",
       "relevant entries before the concat operation.\n",
       "  results = pd.concat([results, normalized_data]) #.dropna(axis=1, how=\"all\")])\n"
      ]
     },
     "metadata": {},
     "output_type": "display_data"
    },
    {
     "data": {
      "text/html": [
       "<pre style=\"white-space:pre;overflow-x:auto;line-height:normal;font-family:Menlo,'DejaVu Sans Mono',consolas,'Courier New',monospace\">/var/folders/7t/k8q3439j6z3c683j7w00wtm80000gn/T/ipykernel_50509/330735155.py:26: FutureWarning: The behavior of \n",
       "DataFrame concatenation with empty or all-NA entries is deprecated. In a future version, this will no longer \n",
       "exclude empty or all-NA columns when determining the result dtypes. To retain the old behavior, exclude the \n",
       "relevant entries before the concat operation.\n",
       "  results = pd.concat([results, normalized_data]) #.dropna(axis=1, how=\"all\")])\n",
       "</pre>\n"
      ],
      "text/plain": [
       "/var/folders/7t/k8q3439j6z3c683j7w00wtm80000gn/T/ipykernel_50509/330735155.py:26: FutureWarning: The behavior of \n",
       "DataFrame concatenation with empty or all-NA entries is deprecated. In a future version, this will no longer \n",
       "exclude empty or all-NA columns when determining the result dtypes. To retain the old behavior, exclude the \n",
       "relevant entries before the concat operation.\n",
       "  results = pd.concat([results, normalized_data]) #.dropna(axis=1, how=\"all\")])\n"
      ]
     },
     "metadata": {},
     "output_type": "display_data"
    },
    {
     "data": {
      "text/html": [
       "<pre style=\"white-space:pre;overflow-x:auto;line-height:normal;font-family:Menlo,'DejaVu Sans Mono',consolas,'Courier New',monospace\">/var/folders/7t/k8q3439j6z3c683j7w00wtm80000gn/T/ipykernel_50509/330735155.py:26: FutureWarning: The behavior of \n",
       "DataFrame concatenation with empty or all-NA entries is deprecated. In a future version, this will no longer \n",
       "exclude empty or all-NA columns when determining the result dtypes. To retain the old behavior, exclude the \n",
       "relevant entries before the concat operation.\n",
       "  results = pd.concat([results, normalized_data]) #.dropna(axis=1, how=\"all\")])\n",
       "</pre>\n"
      ],
      "text/plain": [
       "/var/folders/7t/k8q3439j6z3c683j7w00wtm80000gn/T/ipykernel_50509/330735155.py:26: FutureWarning: The behavior of \n",
       "DataFrame concatenation with empty or all-NA entries is deprecated. In a future version, this will no longer \n",
       "exclude empty or all-NA columns when determining the result dtypes. To retain the old behavior, exclude the \n",
       "relevant entries before the concat operation.\n",
       "  results = pd.concat([results, normalized_data]) #.dropna(axis=1, how=\"all\")])\n"
      ]
     },
     "metadata": {},
     "output_type": "display_data"
    },
    {
     "data": {
      "text/html": [
       "<pre style=\"white-space:pre;overflow-x:auto;line-height:normal;font-family:Menlo,'DejaVu Sans Mono',consolas,'Courier New',monospace\">/var/folders/7t/k8q3439j6z3c683j7w00wtm80000gn/T/ipykernel_50509/330735155.py:26: FutureWarning: The behavior of \n",
       "DataFrame concatenation with empty or all-NA entries is deprecated. In a future version, this will no longer \n",
       "exclude empty or all-NA columns when determining the result dtypes. To retain the old behavior, exclude the \n",
       "relevant entries before the concat operation.\n",
       "  results = pd.concat([results, normalized_data]) #.dropna(axis=1, how=\"all\")])\n",
       "</pre>\n"
      ],
      "text/plain": [
       "/var/folders/7t/k8q3439j6z3c683j7w00wtm80000gn/T/ipykernel_50509/330735155.py:26: FutureWarning: The behavior of \n",
       "DataFrame concatenation with empty or all-NA entries is deprecated. In a future version, this will no longer \n",
       "exclude empty or all-NA columns when determining the result dtypes. To retain the old behavior, exclude the \n",
       "relevant entries before the concat operation.\n",
       "  results = pd.concat([results, normalized_data]) #.dropna(axis=1, how=\"all\")])\n"
      ]
     },
     "metadata": {},
     "output_type": "display_data"
    },
    {
     "data": {
      "text/html": [
       "<pre style=\"white-space:pre;overflow-x:auto;line-height:normal;font-family:Menlo,'DejaVu Sans Mono',consolas,'Courier New',monospace\">/var/folders/7t/k8q3439j6z3c683j7w00wtm80000gn/T/ipykernel_50509/330735155.py:26: FutureWarning: The behavior of \n",
       "DataFrame concatenation with empty or all-NA entries is deprecated. In a future version, this will no longer \n",
       "exclude empty or all-NA columns when determining the result dtypes. To retain the old behavior, exclude the \n",
       "relevant entries before the concat operation.\n",
       "  results = pd.concat([results, normalized_data]) #.dropna(axis=1, how=\"all\")])\n",
       "</pre>\n"
      ],
      "text/plain": [
       "/var/folders/7t/k8q3439j6z3c683j7w00wtm80000gn/T/ipykernel_50509/330735155.py:26: FutureWarning: The behavior of \n",
       "DataFrame concatenation with empty or all-NA entries is deprecated. In a future version, this will no longer \n",
       "exclude empty or all-NA columns when determining the result dtypes. To retain the old behavior, exclude the \n",
       "relevant entries before the concat operation.\n",
       "  results = pd.concat([results, normalized_data]) #.dropna(axis=1, how=\"all\")])\n"
      ]
     },
     "metadata": {},
     "output_type": "display_data"
    },
    {
     "data": {
      "text/html": [
       "<pre style=\"white-space:pre;overflow-x:auto;line-height:normal;font-family:Menlo,'DejaVu Sans Mono',consolas,'Courier New',monospace\">/var/folders/7t/k8q3439j6z3c683j7w00wtm80000gn/T/ipykernel_50509/330735155.py:26: FutureWarning: The behavior of \n",
       "DataFrame concatenation with empty or all-NA entries is deprecated. In a future version, this will no longer \n",
       "exclude empty or all-NA columns when determining the result dtypes. To retain the old behavior, exclude the \n",
       "relevant entries before the concat operation.\n",
       "  results = pd.concat([results, normalized_data]) #.dropna(axis=1, how=\"all\")])\n",
       "</pre>\n"
      ],
      "text/plain": [
       "/var/folders/7t/k8q3439j6z3c683j7w00wtm80000gn/T/ipykernel_50509/330735155.py:26: FutureWarning: The behavior of \n",
       "DataFrame concatenation with empty or all-NA entries is deprecated. In a future version, this will no longer \n",
       "exclude empty or all-NA columns when determining the result dtypes. To retain the old behavior, exclude the \n",
       "relevant entries before the concat operation.\n",
       "  results = pd.concat([results, normalized_data]) #.dropna(axis=1, how=\"all\")])\n"
      ]
     },
     "metadata": {},
     "output_type": "display_data"
    },
    {
     "data": {
      "text/html": [
       "<pre style=\"white-space:pre;overflow-x:auto;line-height:normal;font-family:Menlo,'DejaVu Sans Mono',consolas,'Courier New',monospace\">/var/folders/7t/k8q3439j6z3c683j7w00wtm80000gn/T/ipykernel_50509/330735155.py:26: FutureWarning: The behavior of \n",
       "DataFrame concatenation with empty or all-NA entries is deprecated. In a future version, this will no longer \n",
       "exclude empty or all-NA columns when determining the result dtypes. To retain the old behavior, exclude the \n",
       "relevant entries before the concat operation.\n",
       "  results = pd.concat([results, normalized_data]) #.dropna(axis=1, how=\"all\")])\n",
       "</pre>\n"
      ],
      "text/plain": [
       "/var/folders/7t/k8q3439j6z3c683j7w00wtm80000gn/T/ipykernel_50509/330735155.py:26: FutureWarning: The behavior of \n",
       "DataFrame concatenation with empty or all-NA entries is deprecated. In a future version, this will no longer \n",
       "exclude empty or all-NA columns when determining the result dtypes. To retain the old behavior, exclude the \n",
       "relevant entries before the concat operation.\n",
       "  results = pd.concat([results, normalized_data]) #.dropna(axis=1, how=\"all\")])\n"
      ]
     },
     "metadata": {},
     "output_type": "display_data"
    },
    {
     "data": {
      "text/html": [
       "<pre style=\"white-space:pre;overflow-x:auto;line-height:normal;font-family:Menlo,'DejaVu Sans Mono',consolas,'Courier New',monospace\">/var/folders/7t/k8q3439j6z3c683j7w00wtm80000gn/T/ipykernel_50509/330735155.py:26: FutureWarning: The behavior of \n",
       "DataFrame concatenation with empty or all-NA entries is deprecated. In a future version, this will no longer \n",
       "exclude empty or all-NA columns when determining the result dtypes. To retain the old behavior, exclude the \n",
       "relevant entries before the concat operation.\n",
       "  results = pd.concat([results, normalized_data]) #.dropna(axis=1, how=\"all\")])\n",
       "</pre>\n"
      ],
      "text/plain": [
       "/var/folders/7t/k8q3439j6z3c683j7w00wtm80000gn/T/ipykernel_50509/330735155.py:26: FutureWarning: The behavior of \n",
       "DataFrame concatenation with empty or all-NA entries is deprecated. In a future version, this will no longer \n",
       "exclude empty or all-NA columns when determining the result dtypes. To retain the old behavior, exclude the \n",
       "relevant entries before the concat operation.\n",
       "  results = pd.concat([results, normalized_data]) #.dropna(axis=1, how=\"all\")])\n"
      ]
     },
     "metadata": {},
     "output_type": "display_data"
    },
    {
     "data": {
      "text/html": [
       "<pre style=\"white-space:pre;overflow-x:auto;line-height:normal;font-family:Menlo,'DejaVu Sans Mono',consolas,'Courier New',monospace\">/var/folders/7t/k8q3439j6z3c683j7w00wtm80000gn/T/ipykernel_50509/330735155.py:26: FutureWarning: The behavior of \n",
       "DataFrame concatenation with empty or all-NA entries is deprecated. In a future version, this will no longer \n",
       "exclude empty or all-NA columns when determining the result dtypes. To retain the old behavior, exclude the \n",
       "relevant entries before the concat operation.\n",
       "  results = pd.concat([results, normalized_data]) #.dropna(axis=1, how=\"all\")])\n",
       "</pre>\n"
      ],
      "text/plain": [
       "/var/folders/7t/k8q3439j6z3c683j7w00wtm80000gn/T/ipykernel_50509/330735155.py:26: FutureWarning: The behavior of \n",
       "DataFrame concatenation with empty or all-NA entries is deprecated. In a future version, this will no longer \n",
       "exclude empty or all-NA columns when determining the result dtypes. To retain the old behavior, exclude the \n",
       "relevant entries before the concat operation.\n",
       "  results = pd.concat([results, normalized_data]) #.dropna(axis=1, how=\"all\")])\n"
      ]
     },
     "metadata": {},
     "output_type": "display_data"
    },
    {
     "data": {
      "text/html": [
       "<pre style=\"white-space:pre;overflow-x:auto;line-height:normal;font-family:Menlo,'DejaVu Sans Mono',consolas,'Courier New',monospace\">/var/folders/7t/k8q3439j6z3c683j7w00wtm80000gn/T/ipykernel_50509/330735155.py:26: FutureWarning: The behavior of \n",
       "DataFrame concatenation with empty or all-NA entries is deprecated. In a future version, this will no longer \n",
       "exclude empty or all-NA columns when determining the result dtypes. To retain the old behavior, exclude the \n",
       "relevant entries before the concat operation.\n",
       "  results = pd.concat([results, normalized_data]) #.dropna(axis=1, how=\"all\")])\n",
       "</pre>\n"
      ],
      "text/plain": [
       "/var/folders/7t/k8q3439j6z3c683j7w00wtm80000gn/T/ipykernel_50509/330735155.py:26: FutureWarning: The behavior of \n",
       "DataFrame concatenation with empty or all-NA entries is deprecated. In a future version, this will no longer \n",
       "exclude empty or all-NA columns when determining the result dtypes. To retain the old behavior, exclude the \n",
       "relevant entries before the concat operation.\n",
       "  results = pd.concat([results, normalized_data]) #.dropna(axis=1, how=\"all\")])\n"
      ]
     },
     "metadata": {},
     "output_type": "display_data"
    },
    {
     "data": {
      "text/html": [
       "<pre style=\"white-space:pre;overflow-x:auto;line-height:normal;font-family:Menlo,'DejaVu Sans Mono',consolas,'Courier New',monospace\">/var/folders/7t/k8q3439j6z3c683j7w00wtm80000gn/T/ipykernel_50509/330735155.py:26: FutureWarning: The behavior of \n",
       "DataFrame concatenation with empty or all-NA entries is deprecated. In a future version, this will no longer \n",
       "exclude empty or all-NA columns when determining the result dtypes. To retain the old behavior, exclude the \n",
       "relevant entries before the concat operation.\n",
       "  results = pd.concat([results, normalized_data]) #.dropna(axis=1, how=\"all\")])\n",
       "</pre>\n"
      ],
      "text/plain": [
       "/var/folders/7t/k8q3439j6z3c683j7w00wtm80000gn/T/ipykernel_50509/330735155.py:26: FutureWarning: The behavior of \n",
       "DataFrame concatenation with empty or all-NA entries is deprecated. In a future version, this will no longer \n",
       "exclude empty or all-NA columns when determining the result dtypes. To retain the old behavior, exclude the \n",
       "relevant entries before the concat operation.\n",
       "  results = pd.concat([results, normalized_data]) #.dropna(axis=1, how=\"all\")])\n"
      ]
     },
     "metadata": {},
     "output_type": "display_data"
    },
    {
     "data": {
      "text/html": [
       "<pre style=\"white-space:pre;overflow-x:auto;line-height:normal;font-family:Menlo,'DejaVu Sans Mono',consolas,'Courier New',monospace\">/var/folders/7t/k8q3439j6z3c683j7w00wtm80000gn/T/ipykernel_50509/330735155.py:26: FutureWarning: The behavior of \n",
       "DataFrame concatenation with empty or all-NA entries is deprecated. In a future version, this will no longer \n",
       "exclude empty or all-NA columns when determining the result dtypes. To retain the old behavior, exclude the \n",
       "relevant entries before the concat operation.\n",
       "  results = pd.concat([results, normalized_data]) #.dropna(axis=1, how=\"all\")])\n",
       "</pre>\n"
      ],
      "text/plain": [
       "/var/folders/7t/k8q3439j6z3c683j7w00wtm80000gn/T/ipykernel_50509/330735155.py:26: FutureWarning: The behavior of \n",
       "DataFrame concatenation with empty or all-NA entries is deprecated. In a future version, this will no longer \n",
       "exclude empty or all-NA columns when determining the result dtypes. To retain the old behavior, exclude the \n",
       "relevant entries before the concat operation.\n",
       "  results = pd.concat([results, normalized_data]) #.dropna(axis=1, how=\"all\")])\n"
      ]
     },
     "metadata": {},
     "output_type": "display_data"
    },
    {
     "data": {
      "text/html": [
       "<pre style=\"white-space:pre;overflow-x:auto;line-height:normal;font-family:Menlo,'DejaVu Sans Mono',consolas,'Courier New',monospace\">/var/folders/7t/k8q3439j6z3c683j7w00wtm80000gn/T/ipykernel_50509/330735155.py:26: FutureWarning: The behavior of \n",
       "DataFrame concatenation with empty or all-NA entries is deprecated. In a future version, this will no longer \n",
       "exclude empty or all-NA columns when determining the result dtypes. To retain the old behavior, exclude the \n",
       "relevant entries before the concat operation.\n",
       "  results = pd.concat([results, normalized_data]) #.dropna(axis=1, how=\"all\")])\n",
       "</pre>\n"
      ],
      "text/plain": [
       "/var/folders/7t/k8q3439j6z3c683j7w00wtm80000gn/T/ipykernel_50509/330735155.py:26: FutureWarning: The behavior of \n",
       "DataFrame concatenation with empty or all-NA entries is deprecated. In a future version, this will no longer \n",
       "exclude empty or all-NA columns when determining the result dtypes. To retain the old behavior, exclude the \n",
       "relevant entries before the concat operation.\n",
       "  results = pd.concat([results, normalized_data]) #.dropna(axis=1, how=\"all\")])\n"
      ]
     },
     "metadata": {},
     "output_type": "display_data"
    },
    {
     "data": {
      "text/html": [
       "<pre style=\"white-space:pre;overflow-x:auto;line-height:normal;font-family:Menlo,'DejaVu Sans Mono',consolas,'Courier New',monospace\">/var/folders/7t/k8q3439j6z3c683j7w00wtm80000gn/T/ipykernel_50509/330735155.py:26: FutureWarning: The behavior of \n",
       "DataFrame concatenation with empty or all-NA entries is deprecated. In a future version, this will no longer \n",
       "exclude empty or all-NA columns when determining the result dtypes. To retain the old behavior, exclude the \n",
       "relevant entries before the concat operation.\n",
       "  results = pd.concat([results, normalized_data]) #.dropna(axis=1, how=\"all\")])\n",
       "</pre>\n"
      ],
      "text/plain": [
       "/var/folders/7t/k8q3439j6z3c683j7w00wtm80000gn/T/ipykernel_50509/330735155.py:26: FutureWarning: The behavior of \n",
       "DataFrame concatenation with empty or all-NA entries is deprecated. In a future version, this will no longer \n",
       "exclude empty or all-NA columns when determining the result dtypes. To retain the old behavior, exclude the \n",
       "relevant entries before the concat operation.\n",
       "  results = pd.concat([results, normalized_data]) #.dropna(axis=1, how=\"all\")])\n"
      ]
     },
     "metadata": {},
     "output_type": "display_data"
    },
    {
     "data": {
      "text/html": [
       "<pre style=\"white-space:pre;overflow-x:auto;line-height:normal;font-family:Menlo,'DejaVu Sans Mono',consolas,'Courier New',monospace\">/var/folders/7t/k8q3439j6z3c683j7w00wtm80000gn/T/ipykernel_50509/330735155.py:26: FutureWarning: The behavior of \n",
       "DataFrame concatenation with empty or all-NA entries is deprecated. In a future version, this will no longer \n",
       "exclude empty or all-NA columns when determining the result dtypes. To retain the old behavior, exclude the \n",
       "relevant entries before the concat operation.\n",
       "  results = pd.concat([results, normalized_data]) #.dropna(axis=1, how=\"all\")])\n",
       "</pre>\n"
      ],
      "text/plain": [
       "/var/folders/7t/k8q3439j6z3c683j7w00wtm80000gn/T/ipykernel_50509/330735155.py:26: FutureWarning: The behavior of \n",
       "DataFrame concatenation with empty or all-NA entries is deprecated. In a future version, this will no longer \n",
       "exclude empty or all-NA columns when determining the result dtypes. To retain the old behavior, exclude the \n",
       "relevant entries before the concat operation.\n",
       "  results = pd.concat([results, normalized_data]) #.dropna(axis=1, how=\"all\")])\n"
      ]
     },
     "metadata": {},
     "output_type": "display_data"
    },
    {
     "data": {
      "text/html": [
       "<pre style=\"white-space:pre;overflow-x:auto;line-height:normal;font-family:Menlo,'DejaVu Sans Mono',consolas,'Courier New',monospace\">/var/folders/7t/k8q3439j6z3c683j7w00wtm80000gn/T/ipykernel_50509/330735155.py:26: FutureWarning: The behavior of \n",
       "DataFrame concatenation with empty or all-NA entries is deprecated. In a future version, this will no longer \n",
       "exclude empty or all-NA columns when determining the result dtypes. To retain the old behavior, exclude the \n",
       "relevant entries before the concat operation.\n",
       "  results = pd.concat([results, normalized_data]) #.dropna(axis=1, how=\"all\")])\n",
       "</pre>\n"
      ],
      "text/plain": [
       "/var/folders/7t/k8q3439j6z3c683j7w00wtm80000gn/T/ipykernel_50509/330735155.py:26: FutureWarning: The behavior of \n",
       "DataFrame concatenation with empty or all-NA entries is deprecated. In a future version, this will no longer \n",
       "exclude empty or all-NA columns when determining the result dtypes. To retain the old behavior, exclude the \n",
       "relevant entries before the concat operation.\n",
       "  results = pd.concat([results, normalized_data]) #.dropna(axis=1, how=\"all\")])\n"
      ]
     },
     "metadata": {},
     "output_type": "display_data"
    },
    {
     "data": {
      "text/html": [
       "<pre style=\"white-space:pre;overflow-x:auto;line-height:normal;font-family:Menlo,'DejaVu Sans Mono',consolas,'Courier New',monospace\">/var/folders/7t/k8q3439j6z3c683j7w00wtm80000gn/T/ipykernel_50509/330735155.py:26: FutureWarning: The behavior of \n",
       "DataFrame concatenation with empty or all-NA entries is deprecated. In a future version, this will no longer \n",
       "exclude empty or all-NA columns when determining the result dtypes. To retain the old behavior, exclude the \n",
       "relevant entries before the concat operation.\n",
       "  results = pd.concat([results, normalized_data]) #.dropna(axis=1, how=\"all\")])\n",
       "</pre>\n"
      ],
      "text/plain": [
       "/var/folders/7t/k8q3439j6z3c683j7w00wtm80000gn/T/ipykernel_50509/330735155.py:26: FutureWarning: The behavior of \n",
       "DataFrame concatenation with empty or all-NA entries is deprecated. In a future version, this will no longer \n",
       "exclude empty or all-NA columns when determining the result dtypes. To retain the old behavior, exclude the \n",
       "relevant entries before the concat operation.\n",
       "  results = pd.concat([results, normalized_data]) #.dropna(axis=1, how=\"all\")])\n"
      ]
     },
     "metadata": {},
     "output_type": "display_data"
    },
    {
     "data": {
      "text/html": [
       "<pre style=\"white-space:pre;overflow-x:auto;line-height:normal;font-family:Menlo,'DejaVu Sans Mono',consolas,'Courier New',monospace\">/var/folders/7t/k8q3439j6z3c683j7w00wtm80000gn/T/ipykernel_50509/330735155.py:26: FutureWarning: The behavior of \n",
       "DataFrame concatenation with empty or all-NA entries is deprecated. In a future version, this will no longer \n",
       "exclude empty or all-NA columns when determining the result dtypes. To retain the old behavior, exclude the \n",
       "relevant entries before the concat operation.\n",
       "  results = pd.concat([results, normalized_data]) #.dropna(axis=1, how=\"all\")])\n",
       "</pre>\n"
      ],
      "text/plain": [
       "/var/folders/7t/k8q3439j6z3c683j7w00wtm80000gn/T/ipykernel_50509/330735155.py:26: FutureWarning: The behavior of \n",
       "DataFrame concatenation with empty or all-NA entries is deprecated. In a future version, this will no longer \n",
       "exclude empty or all-NA columns when determining the result dtypes. To retain the old behavior, exclude the \n",
       "relevant entries before the concat operation.\n",
       "  results = pd.concat([results, normalized_data]) #.dropna(axis=1, how=\"all\")])\n"
      ]
     },
     "metadata": {},
     "output_type": "display_data"
    },
    {
     "data": {
      "text/html": [
       "<pre style=\"white-space:pre;overflow-x:auto;line-height:normal;font-family:Menlo,'DejaVu Sans Mono',consolas,'Courier New',monospace\">/var/folders/7t/k8q3439j6z3c683j7w00wtm80000gn/T/ipykernel_50509/330735155.py:26: FutureWarning: The behavior of \n",
       "DataFrame concatenation with empty or all-NA entries is deprecated. In a future version, this will no longer \n",
       "exclude empty or all-NA columns when determining the result dtypes. To retain the old behavior, exclude the \n",
       "relevant entries before the concat operation.\n",
       "  results = pd.concat([results, normalized_data]) #.dropna(axis=1, how=\"all\")])\n",
       "</pre>\n"
      ],
      "text/plain": [
       "/var/folders/7t/k8q3439j6z3c683j7w00wtm80000gn/T/ipykernel_50509/330735155.py:26: FutureWarning: The behavior of \n",
       "DataFrame concatenation with empty or all-NA entries is deprecated. In a future version, this will no longer \n",
       "exclude empty or all-NA columns when determining the result dtypes. To retain the old behavior, exclude the \n",
       "relevant entries before the concat operation.\n",
       "  results = pd.concat([results, normalized_data]) #.dropna(axis=1, how=\"all\")])\n"
      ]
     },
     "metadata": {},
     "output_type": "display_data"
    },
    {
     "data": {
      "text/html": [
       "<pre style=\"white-space:pre;overflow-x:auto;line-height:normal;font-family:Menlo,'DejaVu Sans Mono',consolas,'Courier New',monospace\">/var/folders/7t/k8q3439j6z3c683j7w00wtm80000gn/T/ipykernel_50509/330735155.py:26: FutureWarning: The behavior of \n",
       "DataFrame concatenation with empty or all-NA entries is deprecated. In a future version, this will no longer \n",
       "exclude empty or all-NA columns when determining the result dtypes. To retain the old behavior, exclude the \n",
       "relevant entries before the concat operation.\n",
       "  results = pd.concat([results, normalized_data]) #.dropna(axis=1, how=\"all\")])\n",
       "</pre>\n"
      ],
      "text/plain": [
       "/var/folders/7t/k8q3439j6z3c683j7w00wtm80000gn/T/ipykernel_50509/330735155.py:26: FutureWarning: The behavior of \n",
       "DataFrame concatenation with empty or all-NA entries is deprecated. In a future version, this will no longer \n",
       "exclude empty or all-NA columns when determining the result dtypes. To retain the old behavior, exclude the \n",
       "relevant entries before the concat operation.\n",
       "  results = pd.concat([results, normalized_data]) #.dropna(axis=1, how=\"all\")])\n"
      ]
     },
     "metadata": {},
     "output_type": "display_data"
    },
    {
     "data": {
      "text/html": [
       "<pre style=\"white-space:pre;overflow-x:auto;line-height:normal;font-family:Menlo,'DejaVu Sans Mono',consolas,'Courier New',monospace\">/var/folders/7t/k8q3439j6z3c683j7w00wtm80000gn/T/ipykernel_50509/330735155.py:26: FutureWarning: The behavior of \n",
       "DataFrame concatenation with empty or all-NA entries is deprecated. In a future version, this will no longer \n",
       "exclude empty or all-NA columns when determining the result dtypes. To retain the old behavior, exclude the \n",
       "relevant entries before the concat operation.\n",
       "  results = pd.concat([results, normalized_data]) #.dropna(axis=1, how=\"all\")])\n",
       "</pre>\n"
      ],
      "text/plain": [
       "/var/folders/7t/k8q3439j6z3c683j7w00wtm80000gn/T/ipykernel_50509/330735155.py:26: FutureWarning: The behavior of \n",
       "DataFrame concatenation with empty or all-NA entries is deprecated. In a future version, this will no longer \n",
       "exclude empty or all-NA columns when determining the result dtypes. To retain the old behavior, exclude the \n",
       "relevant entries before the concat operation.\n",
       "  results = pd.concat([results, normalized_data]) #.dropna(axis=1, how=\"all\")])\n"
      ]
     },
     "metadata": {},
     "output_type": "display_data"
    },
    {
     "data": {
      "text/html": [
       "<pre style=\"white-space:pre;overflow-x:auto;line-height:normal;font-family:Menlo,'DejaVu Sans Mono',consolas,'Courier New',monospace\">/var/folders/7t/k8q3439j6z3c683j7w00wtm80000gn/T/ipykernel_50509/330735155.py:26: FutureWarning: The behavior of \n",
       "DataFrame concatenation with empty or all-NA entries is deprecated. In a future version, this will no longer \n",
       "exclude empty or all-NA columns when determining the result dtypes. To retain the old behavior, exclude the \n",
       "relevant entries before the concat operation.\n",
       "  results = pd.concat([results, normalized_data]) #.dropna(axis=1, how=\"all\")])\n",
       "</pre>\n"
      ],
      "text/plain": [
       "/var/folders/7t/k8q3439j6z3c683j7w00wtm80000gn/T/ipykernel_50509/330735155.py:26: FutureWarning: The behavior of \n",
       "DataFrame concatenation with empty or all-NA entries is deprecated. In a future version, this will no longer \n",
       "exclude empty or all-NA columns when determining the result dtypes. To retain the old behavior, exclude the \n",
       "relevant entries before the concat operation.\n",
       "  results = pd.concat([results, normalized_data]) #.dropna(axis=1, how=\"all\")])\n"
      ]
     },
     "metadata": {},
     "output_type": "display_data"
    },
    {
     "data": {
      "text/html": [
       "<pre style=\"white-space:pre;overflow-x:auto;line-height:normal;font-family:Menlo,'DejaVu Sans Mono',consolas,'Courier New',monospace\">/var/folders/7t/k8q3439j6z3c683j7w00wtm80000gn/T/ipykernel_50509/330735155.py:26: FutureWarning: The behavior of \n",
       "DataFrame concatenation with empty or all-NA entries is deprecated. In a future version, this will no longer \n",
       "exclude empty or all-NA columns when determining the result dtypes. To retain the old behavior, exclude the \n",
       "relevant entries before the concat operation.\n",
       "  results = pd.concat([results, normalized_data]) #.dropna(axis=1, how=\"all\")])\n",
       "</pre>\n"
      ],
      "text/plain": [
       "/var/folders/7t/k8q3439j6z3c683j7w00wtm80000gn/T/ipykernel_50509/330735155.py:26: FutureWarning: The behavior of \n",
       "DataFrame concatenation with empty or all-NA entries is deprecated. In a future version, this will no longer \n",
       "exclude empty or all-NA columns when determining the result dtypes. To retain the old behavior, exclude the \n",
       "relevant entries before the concat operation.\n",
       "  results = pd.concat([results, normalized_data]) #.dropna(axis=1, how=\"all\")])\n"
      ]
     },
     "metadata": {},
     "output_type": "display_data"
    },
    {
     "data": {
      "text/html": [
       "<pre style=\"white-space:pre;overflow-x:auto;line-height:normal;font-family:Menlo,'DejaVu Sans Mono',consolas,'Courier New',monospace\">/var/folders/7t/k8q3439j6z3c683j7w00wtm80000gn/T/ipykernel_50509/330735155.py:26: FutureWarning: The behavior of \n",
       "DataFrame concatenation with empty or all-NA entries is deprecated. In a future version, this will no longer \n",
       "exclude empty or all-NA columns when determining the result dtypes. To retain the old behavior, exclude the \n",
       "relevant entries before the concat operation.\n",
       "  results = pd.concat([results, normalized_data]) #.dropna(axis=1, how=\"all\")])\n",
       "</pre>\n"
      ],
      "text/plain": [
       "/var/folders/7t/k8q3439j6z3c683j7w00wtm80000gn/T/ipykernel_50509/330735155.py:26: FutureWarning: The behavior of \n",
       "DataFrame concatenation with empty or all-NA entries is deprecated. In a future version, this will no longer \n",
       "exclude empty or all-NA columns when determining the result dtypes. To retain the old behavior, exclude the \n",
       "relevant entries before the concat operation.\n",
       "  results = pd.concat([results, normalized_data]) #.dropna(axis=1, how=\"all\")])\n"
      ]
     },
     "metadata": {},
     "output_type": "display_data"
    },
    {
     "data": {
      "text/html": [
       "<pre style=\"white-space:pre;overflow-x:auto;line-height:normal;font-family:Menlo,'DejaVu Sans Mono',consolas,'Courier New',monospace\">/var/folders/7t/k8q3439j6z3c683j7w00wtm80000gn/T/ipykernel_50509/330735155.py:26: FutureWarning: The behavior of \n",
       "DataFrame concatenation with empty or all-NA entries is deprecated. In a future version, this will no longer \n",
       "exclude empty or all-NA columns when determining the result dtypes. To retain the old behavior, exclude the \n",
       "relevant entries before the concat operation.\n",
       "  results = pd.concat([results, normalized_data]) #.dropna(axis=1, how=\"all\")])\n",
       "</pre>\n"
      ],
      "text/plain": [
       "/var/folders/7t/k8q3439j6z3c683j7w00wtm80000gn/T/ipykernel_50509/330735155.py:26: FutureWarning: The behavior of \n",
       "DataFrame concatenation with empty or all-NA entries is deprecated. In a future version, this will no longer \n",
       "exclude empty or all-NA columns when determining the result dtypes. To retain the old behavior, exclude the \n",
       "relevant entries before the concat operation.\n",
       "  results = pd.concat([results, normalized_data]) #.dropna(axis=1, how=\"all\")])\n"
      ]
     },
     "metadata": {},
     "output_type": "display_data"
    },
    {
     "data": {
      "text/html": [
       "<pre style=\"white-space:pre;overflow-x:auto;line-height:normal;font-family:Menlo,'DejaVu Sans Mono',consolas,'Courier New',monospace\">/var/folders/7t/k8q3439j6z3c683j7w00wtm80000gn/T/ipykernel_50509/330735155.py:26: FutureWarning: The behavior of \n",
       "DataFrame concatenation with empty or all-NA entries is deprecated. In a future version, this will no longer \n",
       "exclude empty or all-NA columns when determining the result dtypes. To retain the old behavior, exclude the \n",
       "relevant entries before the concat operation.\n",
       "  results = pd.concat([results, normalized_data]) #.dropna(axis=1, how=\"all\")])\n",
       "</pre>\n"
      ],
      "text/plain": [
       "/var/folders/7t/k8q3439j6z3c683j7w00wtm80000gn/T/ipykernel_50509/330735155.py:26: FutureWarning: The behavior of \n",
       "DataFrame concatenation with empty or all-NA entries is deprecated. In a future version, this will no longer \n",
       "exclude empty or all-NA columns when determining the result dtypes. To retain the old behavior, exclude the \n",
       "relevant entries before the concat operation.\n",
       "  results = pd.concat([results, normalized_data]) #.dropna(axis=1, how=\"all\")])\n"
      ]
     },
     "metadata": {},
     "output_type": "display_data"
    },
    {
     "data": {
      "text/html": [
       "<pre style=\"white-space:pre;overflow-x:auto;line-height:normal;font-family:Menlo,'DejaVu Sans Mono',consolas,'Courier New',monospace\">/var/folders/7t/k8q3439j6z3c683j7w00wtm80000gn/T/ipykernel_50509/330735155.py:26: FutureWarning: The behavior of \n",
       "DataFrame concatenation with empty or all-NA entries is deprecated. In a future version, this will no longer \n",
       "exclude empty or all-NA columns when determining the result dtypes. To retain the old behavior, exclude the \n",
       "relevant entries before the concat operation.\n",
       "  results = pd.concat([results, normalized_data]) #.dropna(axis=1, how=\"all\")])\n",
       "</pre>\n"
      ],
      "text/plain": [
       "/var/folders/7t/k8q3439j6z3c683j7w00wtm80000gn/T/ipykernel_50509/330735155.py:26: FutureWarning: The behavior of \n",
       "DataFrame concatenation with empty or all-NA entries is deprecated. In a future version, this will no longer \n",
       "exclude empty or all-NA columns when determining the result dtypes. To retain the old behavior, exclude the \n",
       "relevant entries before the concat operation.\n",
       "  results = pd.concat([results, normalized_data]) #.dropna(axis=1, how=\"all\")])\n"
      ]
     },
     "metadata": {},
     "output_type": "display_data"
    },
    {
     "data": {
      "text/html": [
       "<pre style=\"white-space:pre;overflow-x:auto;line-height:normal;font-family:Menlo,'DejaVu Sans Mono',consolas,'Courier New',monospace\">/var/folders/7t/k8q3439j6z3c683j7w00wtm80000gn/T/ipykernel_50509/330735155.py:26: FutureWarning: The behavior of \n",
       "DataFrame concatenation with empty or all-NA entries is deprecated. In a future version, this will no longer \n",
       "exclude empty or all-NA columns when determining the result dtypes. To retain the old behavior, exclude the \n",
       "relevant entries before the concat operation.\n",
       "  results = pd.concat([results, normalized_data]) #.dropna(axis=1, how=\"all\")])\n",
       "</pre>\n"
      ],
      "text/plain": [
       "/var/folders/7t/k8q3439j6z3c683j7w00wtm80000gn/T/ipykernel_50509/330735155.py:26: FutureWarning: The behavior of \n",
       "DataFrame concatenation with empty or all-NA entries is deprecated. In a future version, this will no longer \n",
       "exclude empty or all-NA columns when determining the result dtypes. To retain the old behavior, exclude the \n",
       "relevant entries before the concat operation.\n",
       "  results = pd.concat([results, normalized_data]) #.dropna(axis=1, how=\"all\")])\n"
      ]
     },
     "metadata": {},
     "output_type": "display_data"
    },
    {
     "data": {
      "text/html": [
       "<pre style=\"white-space:pre;overflow-x:auto;line-height:normal;font-family:Menlo,'DejaVu Sans Mono',consolas,'Courier New',monospace\">/var/folders/7t/k8q3439j6z3c683j7w00wtm80000gn/T/ipykernel_50509/330735155.py:26: FutureWarning: The behavior of \n",
       "DataFrame concatenation with empty or all-NA entries is deprecated. In a future version, this will no longer \n",
       "exclude empty or all-NA columns when determining the result dtypes. To retain the old behavior, exclude the \n",
       "relevant entries before the concat operation.\n",
       "  results = pd.concat([results, normalized_data]) #.dropna(axis=1, how=\"all\")])\n",
       "</pre>\n"
      ],
      "text/plain": [
       "/var/folders/7t/k8q3439j6z3c683j7w00wtm80000gn/T/ipykernel_50509/330735155.py:26: FutureWarning: The behavior of \n",
       "DataFrame concatenation with empty or all-NA entries is deprecated. In a future version, this will no longer \n",
       "exclude empty or all-NA columns when determining the result dtypes. To retain the old behavior, exclude the \n",
       "relevant entries before the concat operation.\n",
       "  results = pd.concat([results, normalized_data]) #.dropna(axis=1, how=\"all\")])\n"
      ]
     },
     "metadata": {},
     "output_type": "display_data"
    },
    {
     "data": {
      "text/html": [
       "<pre style=\"white-space:pre;overflow-x:auto;line-height:normal;font-family:Menlo,'DejaVu Sans Mono',consolas,'Courier New',monospace\">/var/folders/7t/k8q3439j6z3c683j7w00wtm80000gn/T/ipykernel_50509/330735155.py:26: FutureWarning: The behavior of \n",
       "DataFrame concatenation with empty or all-NA entries is deprecated. In a future version, this will no longer \n",
       "exclude empty or all-NA columns when determining the result dtypes. To retain the old behavior, exclude the \n",
       "relevant entries before the concat operation.\n",
       "  results = pd.concat([results, normalized_data]) #.dropna(axis=1, how=\"all\")])\n",
       "</pre>\n"
      ],
      "text/plain": [
       "/var/folders/7t/k8q3439j6z3c683j7w00wtm80000gn/T/ipykernel_50509/330735155.py:26: FutureWarning: The behavior of \n",
       "DataFrame concatenation with empty or all-NA entries is deprecated. In a future version, this will no longer \n",
       "exclude empty or all-NA columns when determining the result dtypes. To retain the old behavior, exclude the \n",
       "relevant entries before the concat operation.\n",
       "  results = pd.concat([results, normalized_data]) #.dropna(axis=1, how=\"all\")])\n"
      ]
     },
     "metadata": {},
     "output_type": "display_data"
    },
    {
     "data": {
      "text/html": [
       "<pre style=\"white-space:pre;overflow-x:auto;line-height:normal;font-family:Menlo,'DejaVu Sans Mono',consolas,'Courier New',monospace\">/var/folders/7t/k8q3439j6z3c683j7w00wtm80000gn/T/ipykernel_50509/330735155.py:26: FutureWarning: The behavior of \n",
       "DataFrame concatenation with empty or all-NA entries is deprecated. In a future version, this will no longer \n",
       "exclude empty or all-NA columns when determining the result dtypes. To retain the old behavior, exclude the \n",
       "relevant entries before the concat operation.\n",
       "  results = pd.concat([results, normalized_data]) #.dropna(axis=1, how=\"all\")])\n",
       "</pre>\n"
      ],
      "text/plain": [
       "/var/folders/7t/k8q3439j6z3c683j7w00wtm80000gn/T/ipykernel_50509/330735155.py:26: FutureWarning: The behavior of \n",
       "DataFrame concatenation with empty or all-NA entries is deprecated. In a future version, this will no longer \n",
       "exclude empty or all-NA columns when determining the result dtypes. To retain the old behavior, exclude the \n",
       "relevant entries before the concat operation.\n",
       "  results = pd.concat([results, normalized_data]) #.dropna(axis=1, how=\"all\")])\n"
      ]
     },
     "metadata": {},
     "output_type": "display_data"
    },
    {
     "data": {
      "text/html": [
       "<pre style=\"white-space:pre;overflow-x:auto;line-height:normal;font-family:Menlo,'DejaVu Sans Mono',consolas,'Courier New',monospace\">/var/folders/7t/k8q3439j6z3c683j7w00wtm80000gn/T/ipykernel_50509/330735155.py:26: FutureWarning: The behavior of \n",
       "DataFrame concatenation with empty or all-NA entries is deprecated. In a future version, this will no longer \n",
       "exclude empty or all-NA columns when determining the result dtypes. To retain the old behavior, exclude the \n",
       "relevant entries before the concat operation.\n",
       "  results = pd.concat([results, normalized_data]) #.dropna(axis=1, how=\"all\")])\n",
       "</pre>\n"
      ],
      "text/plain": [
       "/var/folders/7t/k8q3439j6z3c683j7w00wtm80000gn/T/ipykernel_50509/330735155.py:26: FutureWarning: The behavior of \n",
       "DataFrame concatenation with empty or all-NA entries is deprecated. In a future version, this will no longer \n",
       "exclude empty or all-NA columns when determining the result dtypes. To retain the old behavior, exclude the \n",
       "relevant entries before the concat operation.\n",
       "  results = pd.concat([results, normalized_data]) #.dropna(axis=1, how=\"all\")])\n"
      ]
     },
     "metadata": {},
     "output_type": "display_data"
    },
    {
     "data": {
      "text/html": [
       "<pre style=\"white-space:pre;overflow-x:auto;line-height:normal;font-family:Menlo,'DejaVu Sans Mono',consolas,'Courier New',monospace\">/var/folders/7t/k8q3439j6z3c683j7w00wtm80000gn/T/ipykernel_50509/330735155.py:26: FutureWarning: The behavior of \n",
       "DataFrame concatenation with empty or all-NA entries is deprecated. In a future version, this will no longer \n",
       "exclude empty or all-NA columns when determining the result dtypes. To retain the old behavior, exclude the \n",
       "relevant entries before the concat operation.\n",
       "  results = pd.concat([results, normalized_data]) #.dropna(axis=1, how=\"all\")])\n",
       "</pre>\n"
      ],
      "text/plain": [
       "/var/folders/7t/k8q3439j6z3c683j7w00wtm80000gn/T/ipykernel_50509/330735155.py:26: FutureWarning: The behavior of \n",
       "DataFrame concatenation with empty or all-NA entries is deprecated. In a future version, this will no longer \n",
       "exclude empty or all-NA columns when determining the result dtypes. To retain the old behavior, exclude the \n",
       "relevant entries before the concat operation.\n",
       "  results = pd.concat([results, normalized_data]) #.dropna(axis=1, how=\"all\")])\n"
      ]
     },
     "metadata": {},
     "output_type": "display_data"
    },
    {
     "data": {
      "text/html": [
       "<pre style=\"white-space:pre;overflow-x:auto;line-height:normal;font-family:Menlo,'DejaVu Sans Mono',consolas,'Courier New',monospace\">/var/folders/7t/k8q3439j6z3c683j7w00wtm80000gn/T/ipykernel_50509/330735155.py:26: FutureWarning: The behavior of \n",
       "DataFrame concatenation with empty or all-NA entries is deprecated. In a future version, this will no longer \n",
       "exclude empty or all-NA columns when determining the result dtypes. To retain the old behavior, exclude the \n",
       "relevant entries before the concat operation.\n",
       "  results = pd.concat([results, normalized_data]) #.dropna(axis=1, how=\"all\")])\n",
       "</pre>\n"
      ],
      "text/plain": [
       "/var/folders/7t/k8q3439j6z3c683j7w00wtm80000gn/T/ipykernel_50509/330735155.py:26: FutureWarning: The behavior of \n",
       "DataFrame concatenation with empty or all-NA entries is deprecated. In a future version, this will no longer \n",
       "exclude empty or all-NA columns when determining the result dtypes. To retain the old behavior, exclude the \n",
       "relevant entries before the concat operation.\n",
       "  results = pd.concat([results, normalized_data]) #.dropna(axis=1, how=\"all\")])\n"
      ]
     },
     "metadata": {},
     "output_type": "display_data"
    },
    {
     "data": {
      "text/html": [
       "<pre style=\"white-space:pre;overflow-x:auto;line-height:normal;font-family:Menlo,'DejaVu Sans Mono',consolas,'Courier New',monospace\">/var/folders/7t/k8q3439j6z3c683j7w00wtm80000gn/T/ipykernel_50509/330735155.py:26: FutureWarning: The behavior of \n",
       "DataFrame concatenation with empty or all-NA entries is deprecated. In a future version, this will no longer \n",
       "exclude empty or all-NA columns when determining the result dtypes. To retain the old behavior, exclude the \n",
       "relevant entries before the concat operation.\n",
       "  results = pd.concat([results, normalized_data]) #.dropna(axis=1, how=\"all\")])\n",
       "</pre>\n"
      ],
      "text/plain": [
       "/var/folders/7t/k8q3439j6z3c683j7w00wtm80000gn/T/ipykernel_50509/330735155.py:26: FutureWarning: The behavior of \n",
       "DataFrame concatenation with empty or all-NA entries is deprecated. In a future version, this will no longer \n",
       "exclude empty or all-NA columns when determining the result dtypes. To retain the old behavior, exclude the \n",
       "relevant entries before the concat operation.\n",
       "  results = pd.concat([results, normalized_data]) #.dropna(axis=1, how=\"all\")])\n"
      ]
     },
     "metadata": {},
     "output_type": "display_data"
    },
    {
     "data": {
      "text/html": [
       "<pre style=\"white-space:pre;overflow-x:auto;line-height:normal;font-family:Menlo,'DejaVu Sans Mono',consolas,'Courier New',monospace\">/var/folders/7t/k8q3439j6z3c683j7w00wtm80000gn/T/ipykernel_50509/330735155.py:26: FutureWarning: The behavior of \n",
       "DataFrame concatenation with empty or all-NA entries is deprecated. In a future version, this will no longer \n",
       "exclude empty or all-NA columns when determining the result dtypes. To retain the old behavior, exclude the \n",
       "relevant entries before the concat operation.\n",
       "  results = pd.concat([results, normalized_data]) #.dropna(axis=1, how=\"all\")])\n",
       "</pre>\n"
      ],
      "text/plain": [
       "/var/folders/7t/k8q3439j6z3c683j7w00wtm80000gn/T/ipykernel_50509/330735155.py:26: FutureWarning: The behavior of \n",
       "DataFrame concatenation with empty or all-NA entries is deprecated. In a future version, this will no longer \n",
       "exclude empty or all-NA columns when determining the result dtypes. To retain the old behavior, exclude the \n",
       "relevant entries before the concat operation.\n",
       "  results = pd.concat([results, normalized_data]) #.dropna(axis=1, how=\"all\")])\n"
      ]
     },
     "metadata": {},
     "output_type": "display_data"
    },
    {
     "data": {
      "text/html": [
       "<pre style=\"white-space:pre;overflow-x:auto;line-height:normal;font-family:Menlo,'DejaVu Sans Mono',consolas,'Courier New',monospace\">/var/folders/7t/k8q3439j6z3c683j7w00wtm80000gn/T/ipykernel_50509/330735155.py:26: FutureWarning: The behavior of \n",
       "DataFrame concatenation with empty or all-NA entries is deprecated. In a future version, this will no longer \n",
       "exclude empty or all-NA columns when determining the result dtypes. To retain the old behavior, exclude the \n",
       "relevant entries before the concat operation.\n",
       "  results = pd.concat([results, normalized_data]) #.dropna(axis=1, how=\"all\")])\n",
       "</pre>\n"
      ],
      "text/plain": [
       "/var/folders/7t/k8q3439j6z3c683j7w00wtm80000gn/T/ipykernel_50509/330735155.py:26: FutureWarning: The behavior of \n",
       "DataFrame concatenation with empty or all-NA entries is deprecated. In a future version, this will no longer \n",
       "exclude empty or all-NA columns when determining the result dtypes. To retain the old behavior, exclude the \n",
       "relevant entries before the concat operation.\n",
       "  results = pd.concat([results, normalized_data]) #.dropna(axis=1, how=\"all\")])\n"
      ]
     },
     "metadata": {},
     "output_type": "display_data"
    },
    {
     "data": {
      "text/html": [
       "<pre style=\"white-space:pre;overflow-x:auto;line-height:normal;font-family:Menlo,'DejaVu Sans Mono',consolas,'Courier New',monospace\"></pre>\n"
      ],
      "text/plain": []
     },
     "metadata": {},
     "output_type": "display_data"
    },
    {
     "data": {
      "text/html": [
       "<pre style=\"white-space:pre;overflow-x:auto;line-height:normal;font-family:Menlo,'DejaVu Sans Mono',consolas,'Courier New',monospace\">\n",
       "</pre>\n"
      ],
      "text/plain": [
       "\n"
      ]
     },
     "metadata": {},
     "output_type": "display_data"
    },
    {
     "data": {
      "text/html": [
       "<div>\n",
       "<style scoped>\n",
       "    .dataframe tbody tr th:only-of-type {\n",
       "        vertical-align: middle;\n",
       "    }\n",
       "\n",
       "    .dataframe tbody tr th {\n",
       "        vertical-align: top;\n",
       "    }\n",
       "\n",
       "    .dataframe thead th {\n",
       "        text-align: right;\n",
       "    }\n",
       "</style>\n",
       "<table border=\"1\" class=\"dataframe\">\n",
       "  <thead>\n",
       "    <tr style=\"text-align: right;\">\n",
       "      <th></th>\n",
       "      <th></th>\n",
       "      <th></th>\n",
       "      <th></th>\n",
       "      <th>C</th>\n",
       "      <th>alpha</th>\n",
       "      <th>hidden_layer_sizes</th>\n",
       "      <th>kernel</th>\n",
       "      <th>learning_rate</th>\n",
       "      <th>max_depth</th>\n",
       "      <th>n_estimators</th>\n",
       "      <th>f1_score</th>\n",
       "      <th>model_path</th>\n",
       "    </tr>\n",
       "    <tr>\n",
       "      <th>percentage</th>\n",
       "      <th>model</th>\n",
       "      <th>use_gradient</th>\n",
       "      <th>use_ewma</th>\n",
       "      <th></th>\n",
       "      <th></th>\n",
       "      <th></th>\n",
       "      <th></th>\n",
       "      <th></th>\n",
       "      <th></th>\n",
       "      <th></th>\n",
       "      <th></th>\n",
       "      <th></th>\n",
       "    </tr>\n",
       "  </thead>\n",
       "  <tbody>\n",
       "    <tr>\n",
       "      <th rowspan=\"5\" valign=\"top\">4</th>\n",
       "      <th rowspan=\"5\" valign=\"top\">SVM</th>\n",
       "      <th rowspan=\"5\" valign=\"top\">True</th>\n",
       "      <th>False</th>\n",
       "      <td>1.0</td>\n",
       "      <td>NaN</td>\n",
       "      <td>NaN</td>\n",
       "      <td>rbf</td>\n",
       "      <td>NaN</td>\n",
       "      <td>NaN</td>\n",
       "      <td>NaN</td>\n",
       "      <td>0.717391</td>\n",
       "      <td>train-output-all-features/SVM_4_grad_no-ewma_3...</td>\n",
       "    </tr>\n",
       "    <tr>\n",
       "      <th>False</th>\n",
       "      <td>1.0</td>\n",
       "      <td>NaN</td>\n",
       "      <td>NaN</td>\n",
       "      <td>rbf</td>\n",
       "      <td>NaN</td>\n",
       "      <td>NaN</td>\n",
       "      <td>NaN</td>\n",
       "      <td>0.708333</td>\n",
       "      <td>train-output-all-features/SVM_4_grad_no-ewma_3...</td>\n",
       "    </tr>\n",
       "    <tr>\n",
       "      <th>False</th>\n",
       "      <td>1.0</td>\n",
       "      <td>NaN</td>\n",
       "      <td>NaN</td>\n",
       "      <td>rbf</td>\n",
       "      <td>NaN</td>\n",
       "      <td>NaN</td>\n",
       "      <td>NaN</td>\n",
       "      <td>0.717391</td>\n",
       "      <td>train-output-all-features/SVM_4_grad_no-ewma_3...</td>\n",
       "    </tr>\n",
       "    <tr>\n",
       "      <th>False</th>\n",
       "      <td>1.0</td>\n",
       "      <td>NaN</td>\n",
       "      <td>NaN</td>\n",
       "      <td>rbf</td>\n",
       "      <td>NaN</td>\n",
       "      <td>NaN</td>\n",
       "      <td>NaN</td>\n",
       "      <td>0.691589</td>\n",
       "      <td>train-output-all-features/SVM_4_grad_no-ewma_3...</td>\n",
       "    </tr>\n",
       "    <tr>\n",
       "      <th>False</th>\n",
       "      <td>1.0</td>\n",
       "      <td>NaN</td>\n",
       "      <td>NaN</td>\n",
       "      <td>rbf</td>\n",
       "      <td>NaN</td>\n",
       "      <td>NaN</td>\n",
       "      <td>NaN</td>\n",
       "      <td>0.736842</td>\n",
       "      <td>train-output-all-features/SVM_4_grad_no-ewma_3...</td>\n",
       "    </tr>\n",
       "    <tr>\n",
       "      <th>...</th>\n",
       "      <th>...</th>\n",
       "      <th>...</th>\n",
       "      <th>...</th>\n",
       "      <td>...</td>\n",
       "      <td>...</td>\n",
       "      <td>...</td>\n",
       "      <td>...</td>\n",
       "      <td>...</td>\n",
       "      <td>...</td>\n",
       "      <td>...</td>\n",
       "      <td>...</td>\n",
       "      <td>...</td>\n",
       "    </tr>\n",
       "    <tr>\n",
       "      <th rowspan=\"5\" valign=\"top\">19</th>\n",
       "      <th rowspan=\"5\" valign=\"top\">LR</th>\n",
       "      <th rowspan=\"5\" valign=\"top\">False</th>\n",
       "      <th>False</th>\n",
       "      <td>1.0</td>\n",
       "      <td>NaN</td>\n",
       "      <td>NaN</td>\n",
       "      <td>NaN</td>\n",
       "      <td>NaN</td>\n",
       "      <td>NaN</td>\n",
       "      <td>NaN</td>\n",
       "      <td>0.627451</td>\n",
       "      <td>train-output-all-features/LR_19_no-grad_no-ewm...</td>\n",
       "    </tr>\n",
       "    <tr>\n",
       "      <th>False</th>\n",
       "      <td>1.0</td>\n",
       "      <td>NaN</td>\n",
       "      <td>NaN</td>\n",
       "      <td>NaN</td>\n",
       "      <td>NaN</td>\n",
       "      <td>NaN</td>\n",
       "      <td>NaN</td>\n",
       "      <td>0.576923</td>\n",
       "      <td>train-output-all-features/LR_19_no-grad_no-ewm...</td>\n",
       "    </tr>\n",
       "    <tr>\n",
       "      <th>False</th>\n",
       "      <td>1.0</td>\n",
       "      <td>NaN</td>\n",
       "      <td>NaN</td>\n",
       "      <td>NaN</td>\n",
       "      <td>NaN</td>\n",
       "      <td>NaN</td>\n",
       "      <td>NaN</td>\n",
       "      <td>0.685714</td>\n",
       "      <td>train-output-all-features/LR_19_no-grad_no-ewm...</td>\n",
       "    </tr>\n",
       "    <tr>\n",
       "      <th>False</th>\n",
       "      <td>1.0</td>\n",
       "      <td>NaN</td>\n",
       "      <td>NaN</td>\n",
       "      <td>NaN</td>\n",
       "      <td>NaN</td>\n",
       "      <td>NaN</td>\n",
       "      <td>NaN</td>\n",
       "      <td>0.416667</td>\n",
       "      <td>train-output-all-features/LR_19_no-grad_no-ewm...</td>\n",
       "    </tr>\n",
       "    <tr>\n",
       "      <th>False</th>\n",
       "      <td>1.0</td>\n",
       "      <td>NaN</td>\n",
       "      <td>NaN</td>\n",
       "      <td>NaN</td>\n",
       "      <td>NaN</td>\n",
       "      <td>NaN</td>\n",
       "      <td>NaN</td>\n",
       "      <td>0.478261</td>\n",
       "      <td>train-output-all-features/LR_19_no-grad_no-ewm...</td>\n",
       "    </tr>\n",
       "  </tbody>\n",
       "</table>\n",
       "<p>33540 rows × 9 columns</p>\n",
       "</div>"
      ],
      "text/plain": [
       "                                          C  alpha hidden_layer_sizes kernel  \\\n",
       "percentage model use_gradient use_ewma                                         \n",
       "4          SVM   True         False     1.0    NaN                NaN    rbf   \n",
       "                              False     1.0    NaN                NaN    rbf   \n",
       "                              False     1.0    NaN                NaN    rbf   \n",
       "                              False     1.0    NaN                NaN    rbf   \n",
       "                              False     1.0    NaN                NaN    rbf   \n",
       "...                                     ...    ...                ...    ...   \n",
       "19         LR    False        False     1.0    NaN                NaN    NaN   \n",
       "                              False     1.0    NaN                NaN    NaN   \n",
       "                              False     1.0    NaN                NaN    NaN   \n",
       "                              False     1.0    NaN                NaN    NaN   \n",
       "                              False     1.0    NaN                NaN    NaN   \n",
       "\n",
       "                                        learning_rate  max_depth  \\\n",
       "percentage model use_gradient use_ewma                             \n",
       "4          SVM   True         False               NaN        NaN   \n",
       "                              False               NaN        NaN   \n",
       "                              False               NaN        NaN   \n",
       "                              False               NaN        NaN   \n",
       "                              False               NaN        NaN   \n",
       "...                                               ...        ...   \n",
       "19         LR    False        False               NaN        NaN   \n",
       "                              False               NaN        NaN   \n",
       "                              False               NaN        NaN   \n",
       "                              False               NaN        NaN   \n",
       "                              False               NaN        NaN   \n",
       "\n",
       "                                        n_estimators  f1_score  \\\n",
       "percentage model use_gradient use_ewma                           \n",
       "4          SVM   True         False              NaN  0.717391   \n",
       "                              False              NaN  0.708333   \n",
       "                              False              NaN  0.717391   \n",
       "                              False              NaN  0.691589   \n",
       "                              False              NaN  0.736842   \n",
       "...                                              ...       ...   \n",
       "19         LR    False        False              NaN  0.627451   \n",
       "                              False              NaN  0.576923   \n",
       "                              False              NaN  0.685714   \n",
       "                              False              NaN  0.416667   \n",
       "                              False              NaN  0.478261   \n",
       "\n",
       "                                                                               model_path  \n",
       "percentage model use_gradient use_ewma                                                     \n",
       "4          SVM   True         False     train-output-all-features/SVM_4_grad_no-ewma_3...  \n",
       "                              False     train-output-all-features/SVM_4_grad_no-ewma_3...  \n",
       "                              False     train-output-all-features/SVM_4_grad_no-ewma_3...  \n",
       "                              False     train-output-all-features/SVM_4_grad_no-ewma_3...  \n",
       "                              False     train-output-all-features/SVM_4_grad_no-ewma_3...  \n",
       "...                                                                                   ...  \n",
       "19         LR    False        False     train-output-all-features/LR_19_no-grad_no-ewm...  \n",
       "                              False     train-output-all-features/LR_19_no-grad_no-ewm...  \n",
       "                              False     train-output-all-features/LR_19_no-grad_no-ewm...  \n",
       "                              False     train-output-all-features/LR_19_no-grad_no-ewm...  \n",
       "                              False     train-output-all-features/LR_19_no-grad_no-ewm...  \n",
       "\n",
       "[33540 rows x 9 columns]"
      ]
     },
     "execution_count": 2,
     "metadata": {},
     "output_type": "execute_result"
    }
   ],
   "source": [
    "def parse_files(root_path):\n",
    "    \"\"\"\n",
    "    Parse files and use pd.json_normalize to flatten the json.\n",
    "    \"\"\"\n",
    "    files = root_path.joinpath(\"train-output-all-features\").glob(\"**/*.json\")\n",
    "    results = pd.DataFrame()\n",
    "    files = list(files)\n",
    "\n",
    "    for file in track(\n",
    "        files,\n",
    "        description=\"Loading hyperparameters and \"\n",
    "        \"performance data from file to DataFrame\",\n",
    "    ):\n",
    "        with open(file) as f:\n",
    "            data = json.load(f)\n",
    "            original_target = root_path.joinpath(data[\"original_target\"])\n",
    "            original_dict = json.loads(Path(original_target).read_text())\n",
    "\n",
    "            f1_scores = pd.json_normalize(data, \"f1_scores\")\n",
    "            normalized_data = pd.json_normalize(original_dict)\n",
    "            normalized_data = pd.concat(\n",
    "                [normalized_data] * len(f1_scores), ignore_index=True\n",
    "            )\n",
    "            normalized_data[\"metrics.f1_score\"] = f1_scores\n",
    "            normalized_data[\"paths.model_path\"] = data[\"model_path\"]\n",
    "            results = pd.concat([results, normalized_data]) #.dropna(axis=1, how=\"all\")])\n",
    "\n",
    "    results = results.set_index(\n",
    "        [\"percentage\", \"model\", \"use_gradient\", \"use_ewma\"]\n",
    "    )\n",
    "    results.columns = pd.MultiIndex.from_arrays(\n",
    "        zip(*results.columns.str.split(\".\", expand=True))\n",
    "    )\n",
    "    results = results.sort_index(axis=1)\n",
    "    results = results.drop(columns=['k_fold', 'preprocessing'])\n",
    "    results = results.droplevel(0, axis=1)\n",
    "\n",
    "    return results\n",
    "\n",
    "\n",
    "data_flattened = parse_files(Path(\"./analysis/\"))\n",
    "data_flattened"
   ]
  },
  {
   "cell_type": "code",
   "execution_count": 3,
   "metadata": {},
   "outputs": [
    {
     "data": {
      "text/html": [
       "<div>\n",
       "<style scoped>\n",
       "    .dataframe tbody tr th:only-of-type {\n",
       "        vertical-align: middle;\n",
       "    }\n",
       "\n",
       "    .dataframe tbody tr th {\n",
       "        vertical-align: top;\n",
       "    }\n",
       "\n",
       "    .dataframe thead th {\n",
       "        text-align: right;\n",
       "    }\n",
       "</style>\n",
       "<table border=\"1\" class=\"dataframe\">\n",
       "  <thead>\n",
       "    <tr style=\"text-align: right;\">\n",
       "      <th></th>\n",
       "      <th></th>\n",
       "      <th>C</th>\n",
       "      <th>alpha</th>\n",
       "      <th>hidden_layer_sizes</th>\n",
       "      <th>kernel</th>\n",
       "      <th>learning_rate</th>\n",
       "      <th>max_depth</th>\n",
       "      <th>n_estimators</th>\n",
       "      <th>f1_score</th>\n",
       "      <th>model_path</th>\n",
       "    </tr>\n",
       "    <tr>\n",
       "      <th>percentage</th>\n",
       "      <th>model</th>\n",
       "      <th></th>\n",
       "      <th></th>\n",
       "      <th></th>\n",
       "      <th></th>\n",
       "      <th></th>\n",
       "      <th></th>\n",
       "      <th></th>\n",
       "      <th></th>\n",
       "      <th></th>\n",
       "    </tr>\n",
       "  </thead>\n",
       "  <tbody>\n",
       "    <tr>\n",
       "      <th rowspan=\"5\" valign=\"top\">1</th>\n",
       "      <th>AdaBoost</th>\n",
       "      <td>NaN</td>\n",
       "      <td>NaN</td>\n",
       "      <td>NaN</td>\n",
       "      <td>NaN</td>\n",
       "      <td>0.1</td>\n",
       "      <td>NaN</td>\n",
       "      <td>50.0</td>\n",
       "      <td>0.737705</td>\n",
       "      <td>train-output-all-features/AdaBoost_1_no-grad_n...</td>\n",
       "    </tr>\n",
       "    <tr>\n",
       "      <th>AdaBoost</th>\n",
       "      <td>NaN</td>\n",
       "      <td>NaN</td>\n",
       "      <td>NaN</td>\n",
       "      <td>NaN</td>\n",
       "      <td>0.1</td>\n",
       "      <td>NaN</td>\n",
       "      <td>50.0</td>\n",
       "      <td>0.710744</td>\n",
       "      <td>train-output-all-features/AdaBoost_1_no-grad_n...</td>\n",
       "    </tr>\n",
       "    <tr>\n",
       "      <th>AdaBoost</th>\n",
       "      <td>NaN</td>\n",
       "      <td>NaN</td>\n",
       "      <td>NaN</td>\n",
       "      <td>NaN</td>\n",
       "      <td>0.1</td>\n",
       "      <td>NaN</td>\n",
       "      <td>50.0</td>\n",
       "      <td>0.861538</td>\n",
       "      <td>train-output-all-features/AdaBoost_1_no-grad_n...</td>\n",
       "    </tr>\n",
       "    <tr>\n",
       "      <th>AdaBoost</th>\n",
       "      <td>NaN</td>\n",
       "      <td>NaN</td>\n",
       "      <td>NaN</td>\n",
       "      <td>NaN</td>\n",
       "      <td>0.1</td>\n",
       "      <td>NaN</td>\n",
       "      <td>50.0</td>\n",
       "      <td>0.761062</td>\n",
       "      <td>train-output-all-features/AdaBoost_1_no-grad_n...</td>\n",
       "    </tr>\n",
       "    <tr>\n",
       "      <th>AdaBoost</th>\n",
       "      <td>NaN</td>\n",
       "      <td>NaN</td>\n",
       "      <td>NaN</td>\n",
       "      <td>NaN</td>\n",
       "      <td>0.1</td>\n",
       "      <td>NaN</td>\n",
       "      <td>50.0</td>\n",
       "      <td>0.794118</td>\n",
       "      <td>train-output-all-features/AdaBoost_1_no-grad_n...</td>\n",
       "    </tr>\n",
       "    <tr>\n",
       "      <th>...</th>\n",
       "      <th>...</th>\n",
       "      <td>...</td>\n",
       "      <td>...</td>\n",
       "      <td>...</td>\n",
       "      <td>...</td>\n",
       "      <td>...</td>\n",
       "      <td>...</td>\n",
       "      <td>...</td>\n",
       "      <td>...</td>\n",
       "      <td>...</td>\n",
       "    </tr>\n",
       "    <tr>\n",
       "      <th rowspan=\"5\" valign=\"top\">20</th>\n",
       "      <th>SVM</th>\n",
       "      <td>0.1</td>\n",
       "      <td>NaN</td>\n",
       "      <td>NaN</td>\n",
       "      <td>linear</td>\n",
       "      <td>NaN</td>\n",
       "      <td>NaN</td>\n",
       "      <td>NaN</td>\n",
       "      <td>0.468085</td>\n",
       "      <td>train-output-all-features/SVM_20_no-grad_no-ew...</td>\n",
       "    </tr>\n",
       "    <tr>\n",
       "      <th>SVM</th>\n",
       "      <td>0.1</td>\n",
       "      <td>NaN</td>\n",
       "      <td>NaN</td>\n",
       "      <td>linear</td>\n",
       "      <td>NaN</td>\n",
       "      <td>NaN</td>\n",
       "      <td>NaN</td>\n",
       "      <td>0.625000</td>\n",
       "      <td>train-output-all-features/SVM_20_no-grad_no-ew...</td>\n",
       "    </tr>\n",
       "    <tr>\n",
       "      <th>SVM</th>\n",
       "      <td>0.1</td>\n",
       "      <td>NaN</td>\n",
       "      <td>NaN</td>\n",
       "      <td>linear</td>\n",
       "      <td>NaN</td>\n",
       "      <td>NaN</td>\n",
       "      <td>NaN</td>\n",
       "      <td>0.428571</td>\n",
       "      <td>train-output-all-features/SVM_20_no-grad_no-ew...</td>\n",
       "    </tr>\n",
       "    <tr>\n",
       "      <th>SVM</th>\n",
       "      <td>0.1</td>\n",
       "      <td>NaN</td>\n",
       "      <td>NaN</td>\n",
       "      <td>linear</td>\n",
       "      <td>NaN</td>\n",
       "      <td>NaN</td>\n",
       "      <td>NaN</td>\n",
       "      <td>0.489796</td>\n",
       "      <td>train-output-all-features/SVM_20_no-grad_no-ew...</td>\n",
       "    </tr>\n",
       "    <tr>\n",
       "      <th>SVM</th>\n",
       "      <td>0.1</td>\n",
       "      <td>NaN</td>\n",
       "      <td>NaN</td>\n",
       "      <td>linear</td>\n",
       "      <td>NaN</td>\n",
       "      <td>NaN</td>\n",
       "      <td>NaN</td>\n",
       "      <td>0.541667</td>\n",
       "      <td>train-output-all-features/SVM_20_no-grad_no-ew...</td>\n",
       "    </tr>\n",
       "  </tbody>\n",
       "</table>\n",
       "<p>8600 rows × 9 columns</p>\n",
       "</div>"
      ],
      "text/plain": [
       "                       C  alpha hidden_layer_sizes  kernel  learning_rate  \\\n",
       "percentage model                                                            \n",
       "1          AdaBoost  NaN    NaN                NaN     NaN            0.1   \n",
       "           AdaBoost  NaN    NaN                NaN     NaN            0.1   \n",
       "           AdaBoost  NaN    NaN                NaN     NaN            0.1   \n",
       "           AdaBoost  NaN    NaN                NaN     NaN            0.1   \n",
       "           AdaBoost  NaN    NaN                NaN     NaN            0.1   \n",
       "...                  ...    ...                ...     ...            ...   \n",
       "20         SVM       0.1    NaN                NaN  linear            NaN   \n",
       "           SVM       0.1    NaN                NaN  linear            NaN   \n",
       "           SVM       0.1    NaN                NaN  linear            NaN   \n",
       "           SVM       0.1    NaN                NaN  linear            NaN   \n",
       "           SVM       0.1    NaN                NaN  linear            NaN   \n",
       "\n",
       "                     max_depth  n_estimators  f1_score  \\\n",
       "percentage model                                         \n",
       "1          AdaBoost        NaN          50.0  0.737705   \n",
       "           AdaBoost        NaN          50.0  0.710744   \n",
       "           AdaBoost        NaN          50.0  0.861538   \n",
       "           AdaBoost        NaN          50.0  0.761062   \n",
       "           AdaBoost        NaN          50.0  0.794118   \n",
       "...                        ...           ...       ...   \n",
       "20         SVM             NaN           NaN  0.468085   \n",
       "           SVM             NaN           NaN  0.625000   \n",
       "           SVM             NaN           NaN  0.428571   \n",
       "           SVM             NaN           NaN  0.489796   \n",
       "           SVM             NaN           NaN  0.541667   \n",
       "\n",
       "                                                            model_path  \n",
       "percentage model                                                        \n",
       "1          AdaBoost  train-output-all-features/AdaBoost_1_no-grad_n...  \n",
       "           AdaBoost  train-output-all-features/AdaBoost_1_no-grad_n...  \n",
       "           AdaBoost  train-output-all-features/AdaBoost_1_no-grad_n...  \n",
       "           AdaBoost  train-output-all-features/AdaBoost_1_no-grad_n...  \n",
       "           AdaBoost  train-output-all-features/AdaBoost_1_no-grad_n...  \n",
       "...                                                                ...  \n",
       "20         SVM       train-output-all-features/SVM_20_no-grad_no-ew...  \n",
       "           SVM       train-output-all-features/SVM_20_no-grad_no-ew...  \n",
       "           SVM       train-output-all-features/SVM_20_no-grad_no-ew...  \n",
       "           SVM       train-output-all-features/SVM_20_no-grad_no-ew...  \n",
       "           SVM       train-output-all-features/SVM_20_no-grad_no-ew...  \n",
       "\n",
       "[8600 rows x 9 columns]"
      ]
     },
     "execution_count": 3,
     "metadata": {},
     "output_type": "execute_result"
    }
   ],
   "source": [
    "# Remove any runs that included use_ewma or use_gradient\n",
    "df = data_flattened.loc[(slice(None), slice(None), False, False), :]\n",
    "df.index = df.index.droplevel([2, 3])\n",
    "df = df.sort_values(by=['percentage', 'model'])\n",
    "df"
   ]
  },
  {
   "cell_type": "code",
   "execution_count": 4,
   "metadata": {},
   "outputs": [],
   "source": [
    "def float_or_list_to_tuple(x):\n",
    "    if isinstance(x, list):\n",
    "        return tuple(x)\n",
    "    return x\n",
    "\n",
    "df[\"hidden_layer_sizes\"] = df['hidden_layer_sizes'].apply(float_or_list_to_tuple)"
   ]
  },
  {
   "cell_type": "code",
   "execution_count": null,
   "metadata": {},
   "outputs": [],
   "source": []
  },
  {
   "cell_type": "code",
   "execution_count": 5,
   "metadata": {},
   "outputs": [
    {
     "data": {
      "text/html": [
       "<div>\n",
       "<style scoped>\n",
       "    .dataframe tbody tr th:only-of-type {\n",
       "        vertical-align: middle;\n",
       "    }\n",
       "\n",
       "    .dataframe tbody tr th {\n",
       "        vertical-align: top;\n",
       "    }\n",
       "\n",
       "    .dataframe thead th {\n",
       "        text-align: right;\n",
       "    }\n",
       "</style>\n",
       "<table border=\"1\" class=\"dataframe\">\n",
       "  <thead>\n",
       "    <tr style=\"text-align: right;\">\n",
       "      <th></th>\n",
       "      <th></th>\n",
       "      <th></th>\n",
       "      <th></th>\n",
       "      <th>mean</th>\n",
       "      <th>std</th>\n",
       "    </tr>\n",
       "    <tr>\n",
       "      <th>percentage</th>\n",
       "      <th>model</th>\n",
       "      <th>max_depth</th>\n",
       "      <th>n_estimators</th>\n",
       "      <th></th>\n",
       "      <th></th>\n",
       "    </tr>\n",
       "  </thead>\n",
       "  <tbody>\n",
       "    <tr>\n",
       "      <th rowspan=\"2\" valign=\"top\">5</th>\n",
       "      <th>ET</th>\n",
       "      <th>NaN</th>\n",
       "      <th>50.0</th>\n",
       "      <td>0.847029</td>\n",
       "      <td>0.045612</td>\n",
       "    </tr>\n",
       "    <tr>\n",
       "      <th>RF</th>\n",
       "      <th>NaN</th>\n",
       "      <th>200.0</th>\n",
       "      <td>0.853927</td>\n",
       "      <td>0.049522</td>\n",
       "    </tr>\n",
       "    <tr>\n",
       "      <th rowspan=\"2\" valign=\"top\">10</th>\n",
       "      <th>ET</th>\n",
       "      <th>NaN</th>\n",
       "      <th>100.0</th>\n",
       "      <td>0.802062</td>\n",
       "      <td>0.079222</td>\n",
       "    </tr>\n",
       "    <tr>\n",
       "      <th>RF</th>\n",
       "      <th>10.0</th>\n",
       "      <th>200.0</th>\n",
       "      <td>0.800509</td>\n",
       "      <td>0.072289</td>\n",
       "    </tr>\n",
       "    <tr>\n",
       "      <th rowspan=\"2\" valign=\"top\">15</th>\n",
       "      <th>ET</th>\n",
       "      <th>20.0</th>\n",
       "      <th>200.0</th>\n",
       "      <td>0.736083</td>\n",
       "      <td>0.089609</td>\n",
       "    </tr>\n",
       "    <tr>\n",
       "      <th>RF</th>\n",
       "      <th>10.0</th>\n",
       "      <th>100.0</th>\n",
       "      <td>0.733167</td>\n",
       "      <td>0.065382</td>\n",
       "    </tr>\n",
       "    <tr>\n",
       "      <th rowspan=\"2\" valign=\"top\">20</th>\n",
       "      <th>ET</th>\n",
       "      <th>20.0</th>\n",
       "      <th>200.0</th>\n",
       "      <td>0.722869</td>\n",
       "      <td>0.114308</td>\n",
       "    </tr>\n",
       "    <tr>\n",
       "      <th>RF</th>\n",
       "      <th>10.0</th>\n",
       "      <th>200.0</th>\n",
       "      <td>0.718031</td>\n",
       "      <td>0.052831</td>\n",
       "    </tr>\n",
       "  </tbody>\n",
       "</table>\n",
       "</div>"
      ],
      "text/plain": [
       "                                             mean       std\n",
       "percentage model max_depth n_estimators                    \n",
       "5          ET    NaN       50.0          0.847029  0.045612\n",
       "           RF    NaN       200.0         0.853927  0.049522\n",
       "10         ET    NaN       100.0         0.802062  0.079222\n",
       "           RF    10.0      200.0         0.800509  0.072289\n",
       "15         ET    20.0      200.0         0.736083  0.089609\n",
       "           RF    10.0      100.0         0.733167  0.065382\n",
       "20         ET    20.0      200.0         0.722869  0.114308\n",
       "           RF    10.0      200.0         0.718031  0.052831"
      ]
     },
     "execution_count": 5,
     "metadata": {},
     "output_type": "execute_result"
    }
   ],
   "source": [
    "group = df.groupby(['percentage', 'model', 'C', 'hidden_layer_sizes', 'kernel', 'learning_rate', 'max_depth', 'n_estimators', 'alpha'], dropna=False)\n",
    "summary = group['f1_score'].agg(['mean', 'std'])\n",
    "\n",
    "idx = summary.groupby(['percentage', 'model']).idxmax()\n",
    "\n",
    "best_hyperparams = summary.loc[idx['mean'], :]\n",
    "best_per_percentage = best_hyperparams.groupby('percentage')['mean'].idxmax()\n",
    "selected_percentages = best_hyperparams[best_hyperparams.index.get_level_values('percentage').isin([5, 10, 15, 20]) & best_hyperparams.index.get_level_values('model').isin(['RF', 'ET'])]\n",
    "models_to_test = selected_percentages.droplevel(['C', 'hidden_layer_sizes', 'kernel', 'learning_rate', 'alpha'])\n",
    "models_to_test\n"
   ]
  },
  {
   "cell_type": "code",
   "execution_count": 6,
   "metadata": {},
   "outputs": [
    {
     "data": {
      "text/plain": [
       "{(5,\n",
       "  'ET'): ExtraTreesClassifier(class_weight='balanced', n_estimators=50, random_state=42),\n",
       " (5, 'Dum'): DummyClassifier(random_state=42, strategy='stratified'),\n",
       " (5,\n",
       "  'RF'): RandomForestClassifier(class_weight='balanced_subsample', n_estimators=200,\n",
       "                        random_state=42),\n",
       " (10, 'ET'): ExtraTreesClassifier(class_weight='balanced', random_state=42),\n",
       " (10, 'Dum'): DummyClassifier(random_state=42, strategy='stratified'),\n",
       " (10,\n",
       "  'RF'): RandomForestClassifier(class_weight='balanced_subsample', max_depth=10,\n",
       "                        n_estimators=200, random_state=42),\n",
       " (15,\n",
       "  'ET'): ExtraTreesClassifier(class_weight='balanced', max_depth=20, n_estimators=200,\n",
       "                      random_state=42),\n",
       " (15, 'Dum'): DummyClassifier(random_state=42, strategy='stratified'),\n",
       " (15,\n",
       "  'RF'): RandomForestClassifier(class_weight='balanced_subsample', max_depth=10,\n",
       "                        random_state=42),\n",
       " (20,\n",
       "  'ET'): ExtraTreesClassifier(class_weight='balanced', max_depth=20, n_estimators=200,\n",
       "                      random_state=42),\n",
       " (20, 'Dum'): DummyClassifier(random_state=42, strategy='stratified'),\n",
       " (20,\n",
       "  'RF'): RandomForestClassifier(class_weight='balanced_subsample', max_depth=10,\n",
       "                        n_estimators=200, random_state=42)}"
      ]
     },
     "execution_count": 6,
     "metadata": {},
     "output_type": "execute_result"
    }
   ],
   "source": [
    "random_state = 42\n",
    "classifiers = {}\n",
    "for percentage, model, max_depth, n_estimators in models_to_test.index:\n",
    "    if np.isnan(max_depth):\n",
    "        max_depth = None\n",
    "    else:\n",
    "        max_depth = int(max_depth)\n",
    "    n_estimators = int(n_estimators)\n",
    "    if model == 'ET':\n",
    "        classifiers[(percentage, model)] = ExtraTreesClassifier(max_depth=max_depth, n_estimators=n_estimators, random_state=random_state, class_weight='balanced')\n",
    "    elif model == 'RF':\n",
    "        classifiers[(percentage, model)] = RandomForestClassifier(max_depth=max_depth, n_estimators=n_estimators, random_state=random_state, class_weight='balanced_subsample')\n",
    "    classifiers[(percentage, 'Dum')] = DummyClassifier(strategy='stratified', random_state=random_state)\n",
    "classifiers"
   ]
  },
  {
   "cell_type": "code",
   "execution_count": 7,
   "metadata": {},
   "outputs": [
    {
     "name": "stdout",
     "output_type": "stream",
     "text": [
      "Training ET at 5%\n",
      "Training Dum at 5%\n",
      "Training RF at 5%\n",
      "Training ET at 10%\n",
      "Training Dum at 10%\n",
      "Training RF at 10%\n",
      "Training ET at 15%\n",
      "Training Dum at 15%\n",
      "Training RF at 15%\n",
      "Training ET at 20%\n",
      "Training Dum at 20%\n",
      "Training RF at 20%\n"
     ]
    }
   ],
   "source": [
    "import pickle\n",
    "\n",
    "def preprocess(dataframe, scaler=None):\n",
    "    result, mzn = dataframe.drop(columns=['mzn', 'dzn'], axis=1), dataframe['mzn']\n",
    "\n",
    "    # Drop any columns that contain the text 'ewma' or 'gradient'\n",
    "    result = result.drop(columns=result.columns[result.columns.str.contains('ewma|gradient')], axis=1)\n",
    "\n",
    "    result = result.drop(result.columns[result.nunique() == 1], axis=1)\n",
    "\n",
    "    if scaler is None:\n",
    "        scaler = MaxAbsScaler().fit(result)\n",
    "    result = pd.DataFrame(scaler.transform(result), columns=result.columns, index=result.index)\n",
    "\n",
    "    result['mzn'] = mzn\n",
    "\n",
    "    return result, scaler\n",
    "\n",
    "scalers = {}\n",
    "\n",
    "train_pkl = Path('./analysis/rerun_with_all_features_train.pkl')\n",
    "\n",
    "with open(train_pkl, 'rb') as f:\n",
    "    train_features_at_percentage = pickle.load(f)\n",
    "\n",
    "for perc in train_features_at_percentage:\n",
    "    train_features_at_percentage[perc] = train_features_at_percentage[perc]\n",
    "\n",
    "for percentage, model in classifiers:\n",
    "    print(f\"Training {model} at {percentage}%\")\n",
    "    df, scaler = preprocess(train_features_at_percentage[percentage])\n",
    "    scalers[(percentage, model)] = scaler\n",
    "    df = df.drop(columns=['mzn'], axis=1)\n",
    "    any_nan = df.isna().any().any()\n",
    "    \n",
    "    if any_nan:\n",
    "        print(\"The NaN values are in the following columns:\")\n",
    "        print(df.columns[df.isna().any()])\n",
    "    else:\n",
    "        train_X, train_y = df.drop(columns=['solved_within_time_limit']), df['solved_within_time_limit']\n",
    "        classifiers[(percentage, model)].fit(train_X, train_y)\n"
   ]
  },
  {
   "cell_type": "code",
   "execution_count": 8,
   "metadata": {},
   "outputs": [
    {
     "data": {
      "text/html": [
       "<div>\n",
       "<style scoped>\n",
       "    .dataframe tbody tr th:only-of-type {\n",
       "        vertical-align: middle;\n",
       "    }\n",
       "\n",
       "    .dataframe tbody tr th {\n",
       "        vertical-align: top;\n",
       "    }\n",
       "\n",
       "    .dataframe thead th {\n",
       "        text-align: right;\n",
       "    }\n",
       "</style>\n",
       "<table border=\"1\" class=\"dataframe\">\n",
       "  <thead>\n",
       "    <tr style=\"text-align: right;\">\n",
       "      <th></th>\n",
       "      <th>feature</th>\n",
       "      <th>description</th>\n",
       "      <th>translated</th>\n",
       "    </tr>\n",
       "  </thead>\n",
       "  <tbody>\n",
       "    <tr>\n",
       "      <th>0</th>\n",
       "      <td>conflicts</td>\n",
       "      <td>Number of conflicts</td>\n",
       "      <td>False</td>\n",
       "    </tr>\n",
       "    <tr>\n",
       "      <th>1</th>\n",
       "      <td>decisions</td>\n",
       "      <td>Number of decisions made/nodes</td>\n",
       "      <td>False</td>\n",
       "    </tr>\n",
       "    <tr>\n",
       "      <th>2</th>\n",
       "      <td>search_iterations</td>\n",
       "      <td>Number of search iterations completed</td>\n",
       "      <td>False</td>\n",
       "    </tr>\n",
       "    <tr>\n",
       "      <th>3</th>\n",
       "      <td>opennodes</td>\n",
       "      <td>??? (number of assigned nodes or variables)</td>\n",
       "      <td>False</td>\n",
       "    </tr>\n",
       "    <tr>\n",
       "      <th>4</th>\n",
       "      <td>vars</td>\n",
       "      <td>Number of variables</td>\n",
       "      <td>False</td>\n",
       "    </tr>\n",
       "    <tr>\n",
       "      <th>5</th>\n",
       "      <td>back_jumps</td>\n",
       "      <td>Number of backjumps</td>\n",
       "      <td>False</td>\n",
       "    </tr>\n",
       "    <tr>\n",
       "      <th>6</th>\n",
       "      <td>solutions</td>\n",
       "      <td>Number of solutions found</td>\n",
       "      <td>False</td>\n",
       "    </tr>\n",
       "    <tr>\n",
       "      <th>7</th>\n",
       "      <td>total_time</td>\n",
       "      <td>Total time spent</td>\n",
       "      <td>False</td>\n",
       "    </tr>\n",
       "    <tr>\n",
       "      <th>8</th>\n",
       "      <td>search_time</td>\n",
       "      <td>Time spent searching</td>\n",
       "      <td>False</td>\n",
       "    </tr>\n",
       "    <tr>\n",
       "      <th>9</th>\n",
       "      <td>intVars</td>\n",
       "      <td>Number of integer variables</td>\n",
       "      <td>False</td>\n",
       "    </tr>\n",
       "    <tr>\n",
       "      <th>10</th>\n",
       "      <td>propagations</td>\n",
       "      <td>Number of propagations</td>\n",
       "      <td>False</td>\n",
       "    </tr>\n",
       "    <tr>\n",
       "      <th>11</th>\n",
       "      <td>sat_propagations</td>\n",
       "      <td>Number of SAT propagations</td>\n",
       "      <td>False</td>\n",
       "    </tr>\n",
       "    <tr>\n",
       "      <th>12</th>\n",
       "      <td>propagators</td>\n",
       "      <td>Number of propagators</td>\n",
       "      <td>False</td>\n",
       "    </tr>\n",
       "    <tr>\n",
       "      <th>13</th>\n",
       "      <td>boolVars</td>\n",
       "      <td>Number of boolean variables</td>\n",
       "      <td>False</td>\n",
       "    </tr>\n",
       "    <tr>\n",
       "      <th>14</th>\n",
       "      <td>learnt</td>\n",
       "      <td>Number of learnt clauses</td>\n",
       "      <td>False</td>\n",
       "    </tr>\n",
       "    <tr>\n",
       "      <th>15</th>\n",
       "      <td>bin</td>\n",
       "      <td>Number of binary clauses</td>\n",
       "      <td>False</td>\n",
       "    </tr>\n",
       "    <tr>\n",
       "      <th>16</th>\n",
       "      <td>tern</td>\n",
       "      <td>Number of ternary clauses</td>\n",
       "      <td>False</td>\n",
       "    </tr>\n",
       "    <tr>\n",
       "      <th>17</th>\n",
       "      <td>long</td>\n",
       "      <td>Number of clauses longer than 3</td>\n",
       "      <td>False</td>\n",
       "    </tr>\n",
       "    <tr>\n",
       "      <th>18</th>\n",
       "      <td>peak_depth</td>\n",
       "      <td>The maximum decision level reached</td>\n",
       "      <td>False</td>\n",
       "    </tr>\n",
       "    <tr>\n",
       "      <th>19</th>\n",
       "      <td>decision_level_engine</td>\n",
       "      <td>Current decision level of the engine</td>\n",
       "      <td>False</td>\n",
       "    </tr>\n",
       "    <tr>\n",
       "      <th>20</th>\n",
       "      <td>decision_level_treesize</td>\n",
       "      <td>Size of the tree of the decision level</td>\n",
       "      <td>False</td>\n",
       "    </tr>\n",
       "    <tr>\n",
       "      <th>21</th>\n",
       "      <td>clause_mem</td>\n",
       "      <td>Amount of memory used by clauses</td>\n",
       "      <td>False</td>\n",
       "    </tr>\n",
       "    <tr>\n",
       "      <th>22</th>\n",
       "      <td>prop_mem</td>\n",
       "      <td>Amount of memory used by propagators</td>\n",
       "      <td>False</td>\n",
       "    </tr>\n",
       "    <tr>\n",
       "      <th>23</th>\n",
       "      <td>fracFailUnassn</td>\n",
       "      <td>Ratio of failures/conflicts to unassigned vari...</td>\n",
       "      <td>True</td>\n",
       "    </tr>\n",
       "    <tr>\n",
       "      <th>24</th>\n",
       "      <td>fracOpenVisit</td>\n",
       "      <td>Ratio of visited nodes to open nodes</td>\n",
       "      <td>True</td>\n",
       "    </tr>\n",
       "    <tr>\n",
       "      <th>25</th>\n",
       "      <td>fracBoolVars</td>\n",
       "      <td>Fraction of variables that are boolean</td>\n",
       "      <td>False</td>\n",
       "    </tr>\n",
       "    <tr>\n",
       "      <th>26</th>\n",
       "      <td>fracPropVars</td>\n",
       "      <td>Ratio of propagations to variables</td>\n",
       "      <td>False</td>\n",
       "    </tr>\n",
       "    <tr>\n",
       "      <th>27</th>\n",
       "      <td>fracLongClauses</td>\n",
       "      <td>Fraction of clauses that are longer than 3</td>\n",
       "      <td>False</td>\n",
       "    </tr>\n",
       "    <tr>\n",
       "      <th>28</th>\n",
       "      <td>freqBackjumps</td>\n",
       "      <td>How often the engine backtracks (backjumps / t...</td>\n",
       "      <td>True</td>\n",
       "    </tr>\n",
       "  </tbody>\n",
       "</table>\n",
       "</div>"
      ],
      "text/plain": [
       "                    feature  \\\n",
       "0                 conflicts   \n",
       "1                 decisions   \n",
       "2         search_iterations   \n",
       "3                 opennodes   \n",
       "4                      vars   \n",
       "5                back_jumps   \n",
       "6                 solutions   \n",
       "7                total_time   \n",
       "8               search_time   \n",
       "9                   intVars   \n",
       "10             propagations   \n",
       "11         sat_propagations   \n",
       "12              propagators   \n",
       "13                 boolVars   \n",
       "14                   learnt   \n",
       "15                      bin   \n",
       "16                     tern   \n",
       "17                     long   \n",
       "18               peak_depth   \n",
       "19    decision_level_engine   \n",
       "20  decision_level_treesize   \n",
       "21               clause_mem   \n",
       "22                 prop_mem   \n",
       "23           fracFailUnassn   \n",
       "24            fracOpenVisit   \n",
       "25             fracBoolVars   \n",
       "26             fracPropVars   \n",
       "27          fracLongClauses   \n",
       "28            freqBackjumps   \n",
       "\n",
       "                                          description  translated  \n",
       "0                                 Number of conflicts       False  \n",
       "1                      Number of decisions made/nodes       False  \n",
       "2               Number of search iterations completed       False  \n",
       "3         ??? (number of assigned nodes or variables)       False  \n",
       "4                                 Number of variables       False  \n",
       "5                                 Number of backjumps       False  \n",
       "6                           Number of solutions found       False  \n",
       "7                                    Total time spent       False  \n",
       "8                                Time spent searching       False  \n",
       "9                         Number of integer variables       False  \n",
       "10                             Number of propagations       False  \n",
       "11                         Number of SAT propagations       False  \n",
       "12                              Number of propagators       False  \n",
       "13                        Number of boolean variables       False  \n",
       "14                           Number of learnt clauses       False  \n",
       "15                           Number of binary clauses       False  \n",
       "16                          Number of ternary clauses       False  \n",
       "17                    Number of clauses longer than 3       False  \n",
       "18                 The maximum decision level reached       False  \n",
       "19               Current decision level of the engine       False  \n",
       "20             Size of the tree of the decision level       False  \n",
       "21                   Amount of memory used by clauses       False  \n",
       "22               Amount of memory used by propagators       False  \n",
       "23  Ratio of failures/conflicts to unassigned vari...        True  \n",
       "24               Ratio of visited nodes to open nodes        True  \n",
       "25             Fraction of variables that are boolean       False  \n",
       "26                 Ratio of propagations to variables       False  \n",
       "27         Fraction of clauses that are longer than 3       False  \n",
       "28  How often the engine backtracks (backjumps / t...        True  "
      ]
     },
     "execution_count": 8,
     "metadata": {},
     "output_type": "execute_result"
    }
   ],
   "source": [
    "describe_features = pd.DataFrame({'feature': preprocess(train_features_at_percentage[1])[0].drop(['mzn', 'solved_within_time_limit'], axis=1).columns})\n",
    "describe_features['description'] = [\n",
    "    \"Number of conflicts\",\n",
    "    \"Number of decisions made/nodes\",\n",
    "    \"Number of search iterations completed\",\n",
    "    \"??? (number of assigned nodes or variables)\",\n",
    "    \"Number of variables\",\n",
    "    \"Number of backjumps\",\n",
    "    \"Number of solutions found\",\n",
    "    \"Total time spent\",\n",
    "    \"Time spent searching\",\n",
    "    \"Number of integer variables\",\n",
    "    \"Number of propagations\",\n",
    "    \"Number of SAT propagations\",\n",
    "    \"Number of propagators\",\n",
    "    \"Number of boolean variables\",\n",
    "    \"Number of learnt clauses\",\n",
    "    \"Number of binary clauses\",\n",
    "    \"Number of ternary clauses\",\n",
    "    \"Number of clauses longer than 3\",\n",
    "    \"The maximum decision level reached\",\n",
    "    \"Current decision level of the engine\",\n",
    "    \"Size of the tree of the decision level\",\n",
    "    \"Amount of memory used by clauses\",\n",
    "    \"Amount of memory used by propagators\",\n",
    "    \"Ratio of failures/conflicts to unassigned variables\",\n",
    "    \"Ratio of visited nodes to open nodes\",\n",
    "    \"Fraction of variables that are boolean\",\n",
    "    \"Ratio of propagations to variables\",\n",
    "    \"Fraction of clauses that are longer than 3\",\n",
    "    \"How often the engine backtracks (backjumps / total search time)\",\n",
    "]\n",
    "describe_features['translated'] = [\n",
    "    False, False, False, False, False, False, False, False, False, False, False, False, False, False, False, False, False, False, False, False, False, False, False, True, True, False, False, False, True\n",
    "]\n",
    "describe_features"
   ]
  },
  {
   "cell_type": "code",
   "execution_count": 9,
   "metadata": {},
   "outputs": [
    {
     "data": {
      "text/plain": [
       "Index(['Feature', 'Description', 'Translated'], dtype='object')"
      ]
     },
     "execution_count": 9,
     "metadata": {},
     "output_type": "execute_result"
    }
   ],
   "source": [
    "describe_features.columns.str.capitalize()"
   ]
  },
  {
   "cell_type": "code",
   "execution_count": 10,
   "metadata": {},
   "outputs": [
    {
     "name": "stdout",
     "output_type": "stream",
     "text": [
      "Testing ET at 5%\n",
      "F1 score for ET at 5%: 0.84\n",
      "Testing RF at 5%\n",
      "F1 score for RF at 5%: 0.87\n",
      "Testing Dum at 5%\n",
      "F1 score for Dum at 5%: 0.44\n",
      "Testing ET at 10%\n",
      "F1 score for ET at 10%: 0.70\n",
      "Testing RF at 10%\n",
      "F1 score for RF at 10%: 0.73\n",
      "Testing Dum at 10%\n",
      "F1 score for Dum at 10%: 0.28\n",
      "Testing ET at 15%\n",
      "F1 score for ET at 15%: 0.71\n",
      "Testing RF at 15%\n",
      "F1 score for RF at 15%: 0.76\n",
      "Testing Dum at 15%\n",
      "F1 score for Dum at 15%: 0.14\n",
      "Testing ET at 20%\n",
      "F1 score for ET at 20%: 0.74\n",
      "Testing RF at 20%\n",
      "F1 score for RF at 20%: 0.72\n",
      "Testing Dum at 20%\n",
      "F1 score for Dum at 20%: 0.22\n"
     ]
    },
    {
     "data": {
      "image/png": "[encoded data removed]",
      "text/plain": [
       "<Figure size 800x800 with 4 Axes>"
      ]
     },
     "metadata": {},
     "output_type": "display_data"
    }
   ],
   "source": [
    "test_pickle = Path('./analysis/rerun_with_all_features_test.pkl')\n",
    "\n",
    "with open(test_pickle, 'rb') as f:\n",
    "    test_features_at_percentage = pickle.load(f)\n",
    "\n",
    "for perc in test_features_at_percentage:\n",
    "    test_features_at_percentage[perc] = test_features_at_percentage[perc]\n",
    "\n",
    "plots = {}\n",
    "# Create a figure and axes with 4 subplots\n",
    "fig, ax = plt.subplots(2, 2, figsize=(8, 8))\n",
    "ax = ax.flatten()\n",
    "\n",
    "scores = []\n",
    "\n",
    "for i, percentage in enumerate([5, 10, 15, 20]):\n",
    "    for model in ['ET', 'RF', 'Dum']:\n",
    "        print(f\"Testing {model} at {percentage}%\")\n",
    "        scaler = scalers[(percentage, model)]\n",
    "        df, _ = preprocess(test_features_at_percentage[percentage], scaler)\n",
    "        df = df.drop(columns=['mzn'], axis=1)\n",
    "        \n",
    "        test_X, test_y = df.drop(columns=['solved_within_time_limit']), df['solved_within_time_limit']\n",
    "        \n",
    "        y_score = classifiers[(percentage, model)].predict_proba(test_X)[:, 1]\n",
    "        if model != 'Dum':\n",
    "            plots[(percentage, model)] = RocCurveDisplay.from_predictions(test_y, y_score, ax=ax[i], name=model)\n",
    "        \n",
    "            if percentage in [5, 10]:\n",
    "                ax[i].set_xlabel('')\n",
    "            if percentage in [10, 20]:\n",
    "                ax[i].set_ylabel('')\n",
    "\n",
    "        score = f1_score(test_y, classifiers[(percentage, model)].predict(test_X))\n",
    "        scores.append([percentage, model, score])\n",
    "        print(f\"F1 score for {model} at {percentage}%: {score:.2f}\")\n",
    "\n",
    "    ax[i].set_title(f\"{percentage}%\")\n",
    "    ax[i].plot([0, 1], [0, 1], linestyle='--', lw=1, color='r', alpha=.2)\n",
    "\n",
    "tikzplotlib.clean_figure()\n",
    "tikzplotlib.save(\"roc_curves.tex\", axis_width=\"0.55\\\\textwidth\", axis_height=\"0.55\\\\textwidth\")"
   ]
  },
  {
   "cell_type": "code",
   "execution_count": 11,
   "metadata": {},
   "outputs": [
    {
     "data": {
      "text/plain": [
       "<AxesSubplot:>"
      ]
     },
     "execution_count": 11,
     "metadata": {},
     "output_type": "execute_result"
    },
    {
     "data": {
      "image/png": "[encoded data removed]",
      "text/plain": [
       "<Figure size 640x480 with 1 Axes>"
      ]
     },
     "metadata": {},
     "output_type": "display_data"
    }
   ],
   "source": [
    "def get_importances(percentage, model, classifiers):\n",
    "    model = classifiers[(percentage, model)]\n",
    "    importance = model.feature_importances_\n",
    "    std = np.std([tree.feature_importances_ for tree in model.estimators_], axis=0)\n",
    "    return pd.DataFrame({'mean': importance, 'std': std}, index=model.feature_names_in_)\n",
    "\n",
    "importance = get_importances(20, 'ET', classifiers).sort_values(by='mean', ascending=False)\n",
    "importance['mean'].plot.bar(yerr=importance['std'], capsize=2)\n",
    "\n",
    "# plt.barh(m.index, m['importance'], xerr=s['std'], capsize=2)\n",
    "# rf_importances = pd.DataFrame([get_importances(x, c, classifiers) for x in [5, 10, 15, 20] for c in ['RF']], index=[5, 10, 15, 20])\n",
    "# et_importances = pd.DataFrame([get_importances(x, c, classifiers) for x in [5, 10, 15, 20] for c in ['ET']], index=[5, 10, 15, 20])"
   ]
  },
  {
   "cell_type": "code",
   "execution_count": 12,
   "metadata": {},
   "outputs": [
    {
     "data": {
      "text/html": [
       "<style type=\"text/css\">\n",
       "#T_5005f_row0_col2, #T_5005f_row1_col2, #T_5005f_row2_col2, #T_5005f_row3_col1 {\n",
       "  font-weight: bold;\n",
       "}\n",
       "</style>\n",
       "<table id=\"T_5005f\">\n",
       "  <thead>\n",
       "    <tr>\n",
       "      <th class=\"blank level0\" >&nbsp;</th>\n",
       "      <th id=\"T_5005f_level0_col0\" class=\"col_heading level0 col0\" colspan=\"3\">F1 score</th>\n",
       "    </tr>\n",
       "    <tr>\n",
       "      <th class=\"index_name level1\" >Model</th>\n",
       "      <th id=\"T_5005f_level1_col0\" class=\"col_heading level1 col0\" >Dum</th>\n",
       "      <th id=\"T_5005f_level1_col1\" class=\"col_heading level1 col1\" >ET</th>\n",
       "      <th id=\"T_5005f_level1_col2\" class=\"col_heading level1 col2\" >RF</th>\n",
       "    </tr>\n",
       "    <tr>\n",
       "      <th class=\"index_name level0\" >Percentage</th>\n",
       "      <th class=\"blank col0\" >&nbsp;</th>\n",
       "      <th class=\"blank col1\" >&nbsp;</th>\n",
       "      <th class=\"blank col2\" >&nbsp;</th>\n",
       "    </tr>\n",
       "  </thead>\n",
       "  <tbody>\n",
       "    <tr>\n",
       "      <th id=\"T_5005f_level0_row0\" class=\"row_heading level0 row0\" >5%</th>\n",
       "      <td id=\"T_5005f_row0_col0\" class=\"data row0 col0\" >0.444444</td>\n",
       "      <td id=\"T_5005f_row0_col1\" class=\"data row0 col1\" >0.839506</td>\n",
       "      <td id=\"T_5005f_row0_col2\" class=\"data row0 col2\" >0.867470</td>\n",
       "    </tr>\n",
       "    <tr>\n",
       "      <th id=\"T_5005f_level0_row1\" class=\"row_heading level0 row1\" >10%</th>\n",
       "      <td id=\"T_5005f_row1_col0\" class=\"data row1 col0\" >0.280702</td>\n",
       "      <td id=\"T_5005f_row1_col1\" class=\"data row1 col1\" >0.703704</td>\n",
       "      <td id=\"T_5005f_row1_col2\" class=\"data row1 col2\" >0.730769</td>\n",
       "    </tr>\n",
       "    <tr>\n",
       "      <th id=\"T_5005f_level0_row2\" class=\"row_heading level0 row2\" >15%</th>\n",
       "      <td id=\"T_5005f_row2_col0\" class=\"data row2 col0\" >0.136364</td>\n",
       "      <td id=\"T_5005f_row2_col1\" class=\"data row2 col1\" >0.711111</td>\n",
       "      <td id=\"T_5005f_row2_col2\" class=\"data row2 col2\" >0.755556</td>\n",
       "    </tr>\n",
       "    <tr>\n",
       "      <th id=\"T_5005f_level0_row3\" class=\"row_heading level0 row3\" >20%</th>\n",
       "      <td id=\"T_5005f_row3_col0\" class=\"data row3 col0\" >0.216216</td>\n",
       "      <td id=\"T_5005f_row3_col1\" class=\"data row3 col1\" >0.742857</td>\n",
       "      <td id=\"T_5005f_row3_col2\" class=\"data row3 col2\" >0.722222</td>\n",
       "    </tr>\n",
       "  </tbody>\n",
       "</table>\n"
      ],
      "text/plain": [
       "<pandas.io.formats.style.Styler at 0x15fd6b370>"
      ]
     },
     "execution_count": 12,
     "metadata": {},
     "output_type": "execute_result"
    }
   ],
   "source": [
    "score_df = pd.DataFrame(scores, columns=['Percentage', 'Model', 'F1 score'])#.set_index(['Percentage', 'Model']).unstack()\n",
    "score_df = score_df.set_index(['Percentage', 'Model']).unstack()\n",
    "score_df.index = score_df.index.astype(str)+\"%\"\n",
    "score_df.style.highlight_max(axis=1, props=\"font-weight:bold;\")"
   ]
  },
  {
   "cell_type": "code",
   "execution_count": 13,
   "metadata": {},
   "outputs": [],
   "source": [
    "(score_df.round(3)\n",
    "    .style.format_index(escape='latex')\n",
    "    .format(precision=2)\n",
    "    .highlight_max(axis=1, props=\"textbf:--rwrap;\")\n",
    "    .to_latex(\n",
    "        \"f1-table.tex\",\n",
    "        hrules=True,\n",
    "        multicol_align='c',\n",
    "        caption=\"F1 scores for each model at selected \\% of TL.\",\n",
    "        label=\"tab:f1-scores\",\n",
    "        position_float=\"centering\")\n",
    ")"
   ]
  },
  {
   "cell_type": "code",
   "execution_count": 14,
   "metadata": {},
   "outputs": [
    {
     "data": {
      "image/png": "[encoded data removed]",
      "text/plain": [
       "<Figure size 800x300 with 1 Axes>"
      ]
     },
     "metadata": {},
     "output_type": "display_data"
    }
   ],
   "source": [
    "n_total = np.array([train_features_at_percentage[i].shape[0] for i in range(1, len(train_features_at_percentage) + 1)])\n",
    "n_solved = np.array([train_features_at_percentage[i]['solved_within_time_limit'].sum() for i in range(1, len(train_features_at_percentage) + 1)])\n",
    "n_not_solved = np.array([n_total[i] - n_solved[i] for i in range(len(n_total))])\n",
    "percentage_solved = np.array([n_solved[i] / n_total[i] for i in range(len(n_total))]) * 100\n",
    "\n",
    "x = np.arange(1, 20.5, 0.5)\n",
    "\n",
    "fig, ax = plt.subplots(figsize=(8, 3))\n",
    "stacks = ax.stackplot(x, n_not_solved, n_solved, labels=['Not solved', 'Solved'])\n",
    "ax.set_title(\"Number of instances at varying % of TL\")\n",
    "ax.set_xlabel(\"% of TL\")\n",
    "ax.set_ylabel(\"Total Number of instances\")\n",
    "ax.set_ylim([0, 1400])\n",
    "ax.legend(loc='upper right', bbox_to_anchor=(0.98, 0.98))\n",
    "\n",
    "# fig.legend(loc='upper right', bbox_to_anchor=(0.88, 0.88))\n",
    "# fig.tight_layout()\n",
    "# plt.savefig(\"class_balance_over_time.pgf\", backend=\"pgf\")\n",
    "# tikzplotlib.clean_figure()\n",
    "tikzplotlib.save(\"class_balance_over_time.tex\", axis_width=\"0.9\\\\textwidth\", axis_height=\"0.4\\\\textwidth\")"
   ]
  },
  {
   "cell_type": "code",
   "execution_count": 44,
   "metadata": {},
   "outputs": [
    {
     "data": {
      "text/html": [
       "<div>\n",
       "<style scoped>\n",
       "    .dataframe tbody tr th:only-of-type {\n",
       "        vertical-align: middle;\n",
       "    }\n",
       "\n",
       "    .dataframe tbody tr th {\n",
       "        vertical-align: top;\n",
       "    }\n",
       "\n",
       "    .dataframe thead th {\n",
       "        text-align: right;\n",
       "    }\n",
       "</style>\n",
       "<table border=\"1\" class=\"dataframe\">\n",
       "  <thead>\n",
       "    <tr style=\"text-align: right;\">\n",
       "      <th></th>\n",
       "      <th>conflicts</th>\n",
       "      <th>ewma_conflicts</th>\n",
       "      <th>decisions</th>\n",
       "      <th>search_iterations</th>\n",
       "      <th>opennodes</th>\n",
       "      <th>ewma_opennodes</th>\n",
       "      <th>vars</th>\n",
       "      <th>back_jumps</th>\n",
       "      <th>ewma_back_jumps</th>\n",
       "      <th>solutions</th>\n",
       "      <th>...</th>\n",
       "      <th>fracOpenVisit</th>\n",
       "      <th>fracBoolVars</th>\n",
       "      <th>fracPropVars</th>\n",
       "      <th>frac_unassigned</th>\n",
       "      <th>fracLongClauses</th>\n",
       "      <th>freqBackjumps</th>\n",
       "      <th>mzn</th>\n",
       "      <th>dzn</th>\n",
       "      <th>solved_within_time_limit</th>\n",
       "      <th>has_gradients</th>\n",
       "    </tr>\n",
       "  </thead>\n",
       "  <tbody>\n",
       "    <tr>\n",
       "      <th>1171</th>\n",
       "      <td>8803</td>\n",
       "      <td>8784.0</td>\n",
       "      <td>11197</td>\n",
       "      <td>20001</td>\n",
       "      <td>3088703</td>\n",
       "      <td>3088703.50</td>\n",
       "      <td>3090204</td>\n",
       "      <td>891</td>\n",
       "      <td>0.05</td>\n",
       "      <td>0</td>\n",
       "      <td>...</td>\n",
       "      <td>0.000486</td>\n",
       "      <td>0.833344</td>\n",
       "      <td>3.691990</td>\n",
       "      <td>1.0</td>\n",
       "      <td>0</td>\n",
       "      <td>24.717299</td>\n",
       "      <td>2DPacking.mzn</td>\n",
       "      <td>Class7_100_8.dzn</td>\n",
       "      <td>False</td>\n",
       "      <td>False</td>\n",
       "    </tr>\n",
       "    <tr>\n",
       "      <th>638</th>\n",
       "      <td>91874</td>\n",
       "      <td>91855.0</td>\n",
       "      <td>110223</td>\n",
       "      <td>201798</td>\n",
       "      <td>1703</td>\n",
       "      <td>1703.31</td>\n",
       "      <td>1715</td>\n",
       "      <td>18246</td>\n",
       "      <td>0.12</td>\n",
       "      <td>3</td>\n",
       "      <td>...</td>\n",
       "      <td>0.007046</td>\n",
       "      <td>0.923615</td>\n",
       "      <td>2948.814577</td>\n",
       "      <td>1.0</td>\n",
       "      <td>441</td>\n",
       "      <td>506.925397</td>\n",
       "      <td>still_life_free.mzn</td>\n",
       "      <td>7x7.dzn</td>\n",
       "      <td>True</td>\n",
       "      <td>False</td>\n",
       "    </tr>\n",
       "    <tr>\n",
       "      <th>931</th>\n",
       "      <td>11623</td>\n",
       "      <td>11604.0</td>\n",
       "      <td>192877</td>\n",
       "      <td>204501</td>\n",
       "      <td>169010</td>\n",
       "      <td>169015.28</td>\n",
       "      <td>169028</td>\n",
       "      <td>181234</td>\n",
       "      <td>21.00</td>\n",
       "      <td>0</td>\n",
       "      <td>...</td>\n",
       "      <td>0.000107</td>\n",
       "      <td>0.996036</td>\n",
       "      <td>24.709220</td>\n",
       "      <td>1.0</td>\n",
       "      <td>3597</td>\n",
       "      <td>5033.713722</td>\n",
       "      <td>wwtpp.mzn</td>\n",
       "      <td>ex05200_2600_100.dzn</td>\n",
       "      <td>True</td>\n",
       "      <td>False</td>\n",
       "    </tr>\n",
       "    <tr>\n",
       "      <th>258</th>\n",
       "      <td>78777</td>\n",
       "      <td>78758.0</td>\n",
       "      <td>81520</td>\n",
       "      <td>20</td>\n",
       "      <td>75046</td>\n",
       "      <td>75011.64</td>\n",
       "      <td>75053</td>\n",
       "      <td>13</td>\n",
       "      <td>0.00</td>\n",
       "      <td>303</td>\n",
       "      <td>...</td>\n",
       "      <td>0.000093</td>\n",
       "      <td>0.998867</td>\n",
       "      <td>242.995110</td>\n",
       "      <td>1.0</td>\n",
       "      <td>0</td>\n",
       "      <td>0.360887</td>\n",
       "      <td>city-position.mzn</td>\n",
       "      <td>city-5-06.dzn</td>\n",
       "      <td>False</td>\n",
       "      <td>False</td>\n",
       "    </tr>\n",
       "    <tr>\n",
       "      <th>1182</th>\n",
       "      <td>37362</td>\n",
       "      <td>37343.0</td>\n",
       "      <td>98212</td>\n",
       "      <td>9372</td>\n",
       "      <td>37725</td>\n",
       "      <td>37725.63</td>\n",
       "      <td>37734</td>\n",
       "      <td>59721</td>\n",
       "      <td>0.00</td>\n",
       "      <td>26</td>\n",
       "      <td>...</td>\n",
       "      <td>0.000239</td>\n",
       "      <td>0.945540</td>\n",
       "      <td>2057.901654</td>\n",
       "      <td>1.0</td>\n",
       "      <td>8886</td>\n",
       "      <td>1660.024595</td>\n",
       "      <td>ProjectPlannertest_16_7.mzn</td>\n",
       "      <td>NO-MODEL-FILE.dzn</td>\n",
       "      <td>True</td>\n",
       "      <td>False</td>\n",
       "    </tr>\n",
       "    <tr>\n",
       "      <th>...</th>\n",
       "      <td>...</td>\n",
       "      <td>...</td>\n",
       "      <td>...</td>\n",
       "      <td>...</td>\n",
       "      <td>...</td>\n",
       "      <td>...</td>\n",
       "      <td>...</td>\n",
       "      <td>...</td>\n",
       "      <td>...</td>\n",
       "      <td>...</td>\n",
       "      <td>...</td>\n",
       "      <td>...</td>\n",
       "      <td>...</td>\n",
       "      <td>...</td>\n",
       "      <td>...</td>\n",
       "      <td>...</td>\n",
       "      <td>...</td>\n",
       "      <td>...</td>\n",
       "      <td>...</td>\n",
       "      <td>...</td>\n",
       "      <td>...</td>\n",
       "    </tr>\n",
       "    <tr>\n",
       "      <th>1069</th>\n",
       "      <td>50483</td>\n",
       "      <td>50464.0</td>\n",
       "      <td>50515</td>\n",
       "      <td>100886</td>\n",
       "      <td>49259</td>\n",
       "      <td>49245.98</td>\n",
       "      <td>49262</td>\n",
       "      <td>20</td>\n",
       "      <td>0.00</td>\n",
       "      <td>2</td>\n",
       "      <td>...</td>\n",
       "      <td>0.000061</td>\n",
       "      <td>0.979274</td>\n",
       "      <td>414.697130</td>\n",
       "      <td>1.0</td>\n",
       "      <td>0</td>\n",
       "      <td>0.555507</td>\n",
       "      <td>ship-schedule.mip.mzn</td>\n",
       "      <td>4ShipsMixed.dzn</td>\n",
       "      <td>True</td>\n",
       "      <td>False</td>\n",
       "    </tr>\n",
       "    <tr>\n",
       "      <th>397</th>\n",
       "      <td>65478</td>\n",
       "      <td>65459.0</td>\n",
       "      <td>68422</td>\n",
       "      <td>133901</td>\n",
       "      <td>205853</td>\n",
       "      <td>205855.02</td>\n",
       "      <td>206484</td>\n",
       "      <td>2313</td>\n",
       "      <td>0.24</td>\n",
       "      <td>0</td>\n",
       "      <td>...</td>\n",
       "      <td>0.003065</td>\n",
       "      <td>0.833396</td>\n",
       "      <td>48.401629</td>\n",
       "      <td>1.0</td>\n",
       "      <td>0</td>\n",
       "      <td>64.229361</td>\n",
       "      <td>2DPacking.mzn</td>\n",
       "      <td>Class6_40_8.dzn</td>\n",
       "      <td>True</td>\n",
       "      <td>False</td>\n",
       "    </tr>\n",
       "    <tr>\n",
       "      <th>250</th>\n",
       "      <td>61218</td>\n",
       "      <td>61199.0</td>\n",
       "      <td>66523</td>\n",
       "      <td>72398</td>\n",
       "      <td>57425</td>\n",
       "      <td>57425.10</td>\n",
       "      <td>57509</td>\n",
       "      <td>47</td>\n",
       "      <td>0.00</td>\n",
       "      <td>59</td>\n",
       "      <td>...</td>\n",
       "      <td>0.001463</td>\n",
       "      <td>0.894956</td>\n",
       "      <td>57.105253</td>\n",
       "      <td>1.0</td>\n",
       "      <td>25871</td>\n",
       "      <td>1.305005</td>\n",
       "      <td>model.mzn</td>\n",
       "      <td>data3_4_31.dzn</td>\n",
       "      <td>False</td>\n",
       "      <td>False</td>\n",
       "    </tr>\n",
       "    <tr>\n",
       "      <th>171</th>\n",
       "      <td>1544</td>\n",
       "      <td>1525.0</td>\n",
       "      <td>1745</td>\n",
       "      <td>549</td>\n",
       "      <td>307882</td>\n",
       "      <td>307371.31</td>\n",
       "      <td>307913</td>\n",
       "      <td>5</td>\n",
       "      <td>0.00</td>\n",
       "      <td>11</td>\n",
       "      <td>...</td>\n",
       "      <td>0.000101</td>\n",
       "      <td>0.999425</td>\n",
       "      <td>11.185802</td>\n",
       "      <td>1.0</td>\n",
       "      <td>22562</td>\n",
       "      <td>0.290810</td>\n",
       "      <td>tdtsp.mzn</td>\n",
       "      <td>inst_10_58_20.dzn</td>\n",
       "      <td>True</td>\n",
       "      <td>False</td>\n",
       "    </tr>\n",
       "    <tr>\n",
       "      <th>496</th>\n",
       "      <td>19028</td>\n",
       "      <td>19009.0</td>\n",
       "      <td>29352</td>\n",
       "      <td>15929</td>\n",
       "      <td>23820</td>\n",
       "      <td>23820.37</td>\n",
       "      <td>23831</td>\n",
       "      <td>306</td>\n",
       "      <td>0.00</td>\n",
       "      <td>20</td>\n",
       "      <td>...</td>\n",
       "      <td>0.000462</td>\n",
       "      <td>0.893920</td>\n",
       "      <td>2682.274810</td>\n",
       "      <td>1.0</td>\n",
       "      <td>16587</td>\n",
       "      <td>8.491150</td>\n",
       "      <td>pattern_set_mining_k2.mzn</td>\n",
       "      <td>yeast.dzn</td>\n",
       "      <td>False</td>\n",
       "      <td>False</td>\n",
       "    </tr>\n",
       "  </tbody>\n",
       "</table>\n",
       "<p>1448 rows × 39 columns</p>\n",
       "</div>"
      ],
      "text/plain": [
       "      conflicts  ewma_conflicts  decisions  search_iterations  opennodes  \\\n",
       "1171       8803          8784.0      11197              20001    3088703   \n",
       "638       91874         91855.0     110223             201798       1703   \n",
       "931       11623         11604.0     192877             204501     169010   \n",
       "258       78777         78758.0      81520                 20      75046   \n",
       "1182      37362         37343.0      98212               9372      37725   \n",
       "...         ...             ...        ...                ...        ...   \n",
       "1069      50483         50464.0      50515             100886      49259   \n",
       "397       65478         65459.0      68422             133901     205853   \n",
       "250       61218         61199.0      66523              72398      57425   \n",
       "171        1544          1525.0       1745                549     307882   \n",
       "496       19028         19009.0      29352              15929      23820   \n",
       "\n",
       "      ewma_opennodes     vars  back_jumps  ewma_back_jumps  solutions  ...  \\\n",
       "1171      3088703.50  3090204         891             0.05          0  ...   \n",
       "638          1703.31     1715       18246             0.12          3  ...   \n",
       "931        169015.28   169028      181234            21.00          0  ...   \n",
       "258         75011.64    75053          13             0.00        303  ...   \n",
       "1182        37725.63    37734       59721             0.00         26  ...   \n",
       "...              ...      ...         ...              ...        ...  ...   \n",
       "1069        49245.98    49262          20             0.00          2  ...   \n",
       "397        205855.02   206484        2313             0.24          0  ...   \n",
       "250         57425.10    57509          47             0.00         59  ...   \n",
       "171        307371.31   307913           5             0.00         11  ...   \n",
       "496         23820.37    23831         306             0.00         20  ...   \n",
       "\n",
       "      fracOpenVisit  fracBoolVars  fracPropVars  frac_unassigned  \\\n",
       "1171       0.000486      0.833344      3.691990              1.0   \n",
       "638        0.007046      0.923615   2948.814577              1.0   \n",
       "931        0.000107      0.996036     24.709220              1.0   \n",
       "258        0.000093      0.998867    242.995110              1.0   \n",
       "1182       0.000239      0.945540   2057.901654              1.0   \n",
       "...             ...           ...           ...              ...   \n",
       "1069       0.000061      0.979274    414.697130              1.0   \n",
       "397        0.003065      0.833396     48.401629              1.0   \n",
       "250        0.001463      0.894956     57.105253              1.0   \n",
       "171        0.000101      0.999425     11.185802              1.0   \n",
       "496        0.000462      0.893920   2682.274810              1.0   \n",
       "\n",
       "      fracLongClauses  freqBackjumps                          mzn  \\\n",
       "1171                0      24.717299                2DPacking.mzn   \n",
       "638               441     506.925397          still_life_free.mzn   \n",
       "931              3597    5033.713722                    wwtpp.mzn   \n",
       "258                 0       0.360887            city-position.mzn   \n",
       "1182             8886    1660.024595  ProjectPlannertest_16_7.mzn   \n",
       "...               ...            ...                          ...   \n",
       "1069                0       0.555507        ship-schedule.mip.mzn   \n",
       "397                 0      64.229361                2DPacking.mzn   \n",
       "250             25871       1.305005                    model.mzn   \n",
       "171             22562       0.290810                    tdtsp.mzn   \n",
       "496             16587       8.491150    pattern_set_mining_k2.mzn   \n",
       "\n",
       "                       dzn  solved_within_time_limit  has_gradients  \n",
       "1171      Class7_100_8.dzn                     False          False  \n",
       "638                7x7.dzn                      True          False  \n",
       "931   ex05200_2600_100.dzn                      True          False  \n",
       "258          city-5-06.dzn                     False          False  \n",
       "1182     NO-MODEL-FILE.dzn                      True          False  \n",
       "...                    ...                       ...            ...  \n",
       "1069       4ShipsMixed.dzn                      True          False  \n",
       "397        Class6_40_8.dzn                      True          False  \n",
       "250         data3_4_31.dzn                     False          False  \n",
       "171      inst_10_58_20.dzn                      True          False  \n",
       "496              yeast.dzn                     False          False  \n",
       "\n",
       "[1448 rows x 39 columns]"
      ]
     },
     "execution_count": 44,
     "metadata": {},
     "output_type": "execute_result"
    }
   ],
   "source": [
    "all_features = {i: pd.concat([train_features_at_percentage[i], test_features_at_percentage[i]]) for i in range(1, len(train_features_at_percentage) + 1)}\n",
    "all_features[1]"
   ]
  },
  {
   "cell_type": "code",
   "execution_count": 18,
   "metadata": {},
   "outputs": [
    {
     "data": {
      "application/vnd.jupyter.widget-view+json": {
       "model_id": "8ab81fff29874fc8a45c820c8c2b4f5f",
       "version_major": 2,
       "version_minor": 0
      },
      "text/plain": [
       "Output()"
      ]
     },
     "metadata": {},
     "output_type": "display_data"
    },
    {
     "data": {
      "text/html": [
       "<pre style=\"white-space:pre;overflow-x:auto;line-height:normal;font-family:Menlo,'DejaVu Sans Mono',consolas,'Courier New',monospace\"></pre>\n"
      ],
      "text/plain": []
     },
     "metadata": {},
     "output_type": "display_data"
    },
    {
     "data": {
      "text/html": [
       "<pre style=\"white-space:pre;overflow-x:auto;line-height:normal;font-family:Menlo,'DejaVu Sans Mono',consolas,'Courier New',monospace\">\n",
       "</pre>\n"
      ],
      "text/plain": [
       "\n"
      ]
     },
     "metadata": {},
     "output_type": "display_data"
    }
   ],
   "source": [
    "import glob\n",
    "import enum\n",
    "\n",
    "class ProblemType(enum.Enum):\n",
    "    UNKNOWN = 0\n",
    "    SAT = 1\n",
    "    OPT = 2\n",
    "\n",
    "fzn_files = list(glob.glob(f\"analysis/problems_compiled/*.fzn\"))\n",
    "summary = []\n",
    "\n",
    "\n",
    "for fzn_file in track(fzn_files, description=\"Counting SAT/OPT\"):\n",
    "    with open(fzn_file, \"r\") as f:\n",
    "        contents = f.read()\n",
    "        problem_type = None\n",
    "        if \"satisfy\" in contents:\n",
    "            problem_type = ProblemType.SAT\n",
    "        elif \"minimize\" in contents or \"maximize\" in contents:\n",
    "            problem_type = ProblemType.OPT\n",
    "        else:\n",
    "            problem_type = ProblemType.UNKNOWN\n",
    "        \n",
    "        summary.append({\n",
    "            \"Problem\": fzn_file,\n",
    "            \"Problem Type\": problem_type\n",
    "        })\n",
    "\n",
    "summary_df = pd.DataFrame(summary, dtype=str)"
   ]
  },
  {
   "cell_type": "code",
   "execution_count": 113,
   "metadata": {},
   "outputs": [
    {
     "data": {
      "text/html": [
       "<div>\n",
       "<style scoped>\n",
       "    .dataframe tbody tr th:only-of-type {\n",
       "        vertical-align: middle;\n",
       "    }\n",
       "\n",
       "    .dataframe tbody tr th {\n",
       "        vertical-align: top;\n",
       "    }\n",
       "\n",
       "    .dataframe thead th {\n",
       "        text-align: right;\n",
       "    }\n",
       "</style>\n",
       "<table border=\"1\" class=\"dataframe\">\n",
       "  <thead>\n",
       "    <tr style=\"text-align: right;\">\n",
       "      <th></th>\n",
       "      <th></th>\n",
       "      <th>Problem</th>\n",
       "    </tr>\n",
       "    <tr>\n",
       "      <th>Problem Type</th>\n",
       "      <th>Past Half Percent</th>\n",
       "      <th></th>\n",
       "    </tr>\n",
       "  </thead>\n",
       "  <tbody>\n",
       "    <tr>\n",
       "      <th rowspan=\"2\" valign=\"top\">ProblemType.OPT</th>\n",
       "      <th>False</th>\n",
       "      <td>14017</td>\n",
       "    </tr>\n",
       "    <tr>\n",
       "      <th>True</th>\n",
       "      <td>1157</td>\n",
       "    </tr>\n",
       "    <tr>\n",
       "      <th rowspan=\"2\" valign=\"top\">ProblemType.SAT</th>\n",
       "      <th>False</th>\n",
       "      <td>1518</td>\n",
       "    </tr>\n",
       "    <tr>\n",
       "      <th>True</th>\n",
       "      <td>294</td>\n",
       "    </tr>\n",
       "  </tbody>\n",
       "</table>\n",
       "</div>"
      ],
      "text/plain": [
       "                                   Problem\n",
       "Problem Type    Past Half Percent         \n",
       "ProblemType.OPT False                14017\n",
       "                True                  1157\n",
       "ProblemType.SAT False                 1518\n",
       "                True                   294"
      ]
     },
     "execution_count": 113,
     "metadata": {},
     "output_type": "execute_result"
    }
   ],
   "source": [
    "regex_str = r'analysis/problems_compiled/.+MZN-(.+)-DZN.+\\.fzn'\n",
    "all_mzn = summary_df['Problem'].str.extract(regex_str, expand=False) + '.mzn'\n",
    "summary_df['mzn'] = all_mzn\n",
    "regex_str = r'analysis/problems_compiled/.+DZN-(.+)\\.fzn'\n",
    "all_dzn = summary_df['Problem'].str.extract(regex_str, expand=False) + '.dzn'\n",
    "summary_df['dzn'] = all_dzn\n",
    "summary_df\n",
    "\n",
    "past_n_percent = []\n",
    "\n",
    "for i in track(range(1, len(all_features) + 1), description=\"Counting problems that ran past n\\% of TL\"):\n",
    "\n",
    "half_percent_feautures = all_features[1]\n",
    "\n",
    "summary_df['Past Half Percent'] = summary_df[['mzn', 'dzn']].apply(tuple, axis=1).isin(half_percent_feautures[['mzn', 'dzn']].apply(tuple, axis=1))\n",
    "summary_past = summary_df[summary_df['Past Half Percent']]\n",
    "summary_past\n",
    "\n",
    "summary_df.groupby(['Problem Type', 'Past Half Percent']).count().drop(columns=['mzn', 'dzn'])"
   ]
  }
 ],
 "metadata": {
  "kernelspec": {
   "display_name": "Python 3",
   "language": "python",
   "name": "python3"
  },
  "language_info": {
   "codemirror_mode": {
    "name": "ipython",
    "version": 3
   },
   "file_extension": ".py",
   "mimetype": "text/x-python",
   "name": "python",
   "nbconvert_exporter": "python",
   "pygments_lexer": "ipython3",
   "version": "3.10.12"
  }
 },
 "nbformat": 4,
 "nbformat_minor": 2
}
