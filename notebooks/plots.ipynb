{
 "cells": [
  {
   "cell_type": "code",
   "execution_count": 126,
   "metadata": {},
   "outputs": [],
   "source": [
    "import json\n",
    "from pathlib import Path\n",
    "import matplotlib as mpl\n",
    "import tikzplotlib\n",
    "\n",
    "import matplotlib.pyplot as plt\n",
    "import numpy as np\n",
    "import pandas as pd\n",
    "from rich.progress import track\n",
    "from sklearn.ensemble import ExtraTreesClassifier, RandomForestClassifier\n",
    "from sklearn.dummy import DummyClassifier\n",
    "from sklearn.metrics import RocCurveDisplay, f1_score\n",
    "from sklearn.preprocessing import MaxAbsScaler"
   ]
  },
  {
   "cell_type": "code",
   "execution_count": 330,
   "metadata": {},
   "outputs": [
    {
     "data": {
      "application/vnd.jupyter.widget-view+json": {
       "model_id": "99806f817abb44298d2613931eb62632",
       "version_major": 2,
       "version_minor": 0
      },
      "text/plain": [
       "Output()"
      ]
     },
     "metadata": {},
     "output_type": "display_data"
    },
    {
     "data": {
      "text/html": [
       "<pre style=\"white-space:pre;overflow-x:auto;line-height:normal;font-family:Menlo,'DejaVu Sans Mono',consolas,'Courier New',monospace\">/var/folders/7t/k8q3439j6z3c683j7w00wtm80000gn/T/ipykernel_58430/330735155.py:26: FutureWarning: The behavior of \n",
       "DataFrame concatenation with empty or all-NA entries is deprecated. In a future version, this will no longer \n",
       "exclude empty or all-NA columns when determining the result dtypes. To retain the old behavior, exclude the \n",
       "relevant entries before the concat operation.\n",
       "  results = pd.concat([results, normalized_data]) #.dropna(axis=1, how=\"all\")])\n",
       "</pre>\n"
      ],
      "text/plain": [
       "/var/folders/7t/k8q3439j6z3c683j7w00wtm80000gn/T/ipykernel_58430/330735155.py:26: FutureWarning: The behavior of \n",
       "DataFrame concatenation with empty or all-NA entries is deprecated. In a future version, this will no longer \n",
       "exclude empty or all-NA columns when determining the result dtypes. To retain the old behavior, exclude the \n",
       "relevant entries before the concat operation.\n",
       "  results = pd.concat([results, normalized_data]) #.dropna(axis=1, how=\"all\")])\n"
      ]
     },
     "metadata": {},
     "output_type": "display_data"
    },
    {
     "data": {
      "text/html": [
       "<pre style=\"white-space:pre;overflow-x:auto;line-height:normal;font-family:Menlo,'DejaVu Sans Mono',consolas,'Courier New',monospace\">/var/folders/7t/k8q3439j6z3c683j7w00wtm80000gn/T/ipykernel_58430/330735155.py:26: FutureWarning: The behavior of \n",
       "DataFrame concatenation with empty or all-NA entries is deprecated. In a future version, this will no longer \n",
       "exclude empty or all-NA columns when determining the result dtypes. To retain the old behavior, exclude the \n",
       "relevant entries before the concat operation.\n",
       "  results = pd.concat([results, normalized_data]) #.dropna(axis=1, how=\"all\")])\n",
       "</pre>\n"
      ],
      "text/plain": [
       "/var/folders/7t/k8q3439j6z3c683j7w00wtm80000gn/T/ipykernel_58430/330735155.py:26: FutureWarning: The behavior of \n",
       "DataFrame concatenation with empty or all-NA entries is deprecated. In a future version, this will no longer \n",
       "exclude empty or all-NA columns when determining the result dtypes. To retain the old behavior, exclude the \n",
       "relevant entries before the concat operation.\n",
       "  results = pd.concat([results, normalized_data]) #.dropna(axis=1, how=\"all\")])\n"
      ]
     },
     "metadata": {},
     "output_type": "display_data"
    },
    {
     "data": {
      "text/html": [
       "<pre style=\"white-space:pre;overflow-x:auto;line-height:normal;font-family:Menlo,'DejaVu Sans Mono',consolas,'Courier New',monospace\">/var/folders/7t/k8q3439j6z3c683j7w00wtm80000gn/T/ipykernel_58430/330735155.py:26: FutureWarning: The behavior of \n",
       "DataFrame concatenation with empty or all-NA entries is deprecated. In a future version, this will no longer \n",
       "exclude empty or all-NA columns when determining the result dtypes. To retain the old behavior, exclude the \n",
       "relevant entries before the concat operation.\n",
       "  results = pd.concat([results, normalized_data]) #.dropna(axis=1, how=\"all\")])\n",
       "</pre>\n"
      ],
      "text/plain": [
       "/var/folders/7t/k8q3439j6z3c683j7w00wtm80000gn/T/ipykernel_58430/330735155.py:26: FutureWarning: The behavior of \n",
       "DataFrame concatenation with empty or all-NA entries is deprecated. In a future version, this will no longer \n",
       "exclude empty or all-NA columns when determining the result dtypes. To retain the old behavior, exclude the \n",
       "relevant entries before the concat operation.\n",
       "  results = pd.concat([results, normalized_data]) #.dropna(axis=1, how=\"all\")])\n"
      ]
     },
     "metadata": {},
     "output_type": "display_data"
    },
    {
     "data": {
      "text/html": [
       "<pre style=\"white-space:pre;overflow-x:auto;line-height:normal;font-family:Menlo,'DejaVu Sans Mono',consolas,'Courier New',monospace\">/var/folders/7t/k8q3439j6z3c683j7w00wtm80000gn/T/ipykernel_58430/330735155.py:26: FutureWarning: The behavior of \n",
       "DataFrame concatenation with empty or all-NA entries is deprecated. In a future version, this will no longer \n",
       "exclude empty or all-NA columns when determining the result dtypes. To retain the old behavior, exclude the \n",
       "relevant entries before the concat operation.\n",
       "  results = pd.concat([results, normalized_data]) #.dropna(axis=1, how=\"all\")])\n",
       "</pre>\n"
      ],
      "text/plain": [
       "/var/folders/7t/k8q3439j6z3c683j7w00wtm80000gn/T/ipykernel_58430/330735155.py:26: FutureWarning: The behavior of \n",
       "DataFrame concatenation with empty or all-NA entries is deprecated. In a future version, this will no longer \n",
       "exclude empty or all-NA columns when determining the result dtypes. To retain the old behavior, exclude the \n",
       "relevant entries before the concat operation.\n",
       "  results = pd.concat([results, normalized_data]) #.dropna(axis=1, how=\"all\")])\n"
      ]
     },
     "metadata": {},
     "output_type": "display_data"
    },
    {
     "data": {
      "text/html": [
       "<pre style=\"white-space:pre;overflow-x:auto;line-height:normal;font-family:Menlo,'DejaVu Sans Mono',consolas,'Courier New',monospace\">/var/folders/7t/k8q3439j6z3c683j7w00wtm80000gn/T/ipykernel_58430/330735155.py:26: FutureWarning: The behavior of \n",
       "DataFrame concatenation with empty or all-NA entries is deprecated. In a future version, this will no longer \n",
       "exclude empty or all-NA columns when determining the result dtypes. To retain the old behavior, exclude the \n",
       "relevant entries before the concat operation.\n",
       "  results = pd.concat([results, normalized_data]) #.dropna(axis=1, how=\"all\")])\n",
       "</pre>\n"
      ],
      "text/plain": [
       "/var/folders/7t/k8q3439j6z3c683j7w00wtm80000gn/T/ipykernel_58430/330735155.py:26: FutureWarning: The behavior of \n",
       "DataFrame concatenation with empty or all-NA entries is deprecated. In a future version, this will no longer \n",
       "exclude empty or all-NA columns when determining the result dtypes. To retain the old behavior, exclude the \n",
       "relevant entries before the concat operation.\n",
       "  results = pd.concat([results, normalized_data]) #.dropna(axis=1, how=\"all\")])\n"
      ]
     },
     "metadata": {},
     "output_type": "display_data"
    },
    {
     "data": {
      "text/html": [
       "<pre style=\"white-space:pre;overflow-x:auto;line-height:normal;font-family:Menlo,'DejaVu Sans Mono',consolas,'Courier New',monospace\">/var/folders/7t/k8q3439j6z3c683j7w00wtm80000gn/T/ipykernel_58430/330735155.py:26: FutureWarning: The behavior of \n",
       "DataFrame concatenation with empty or all-NA entries is deprecated. In a future version, this will no longer \n",
       "exclude empty or all-NA columns when determining the result dtypes. To retain the old behavior, exclude the \n",
       "relevant entries before the concat operation.\n",
       "  results = pd.concat([results, normalized_data]) #.dropna(axis=1, how=\"all\")])\n",
       "</pre>\n"
      ],
      "text/plain": [
       "/var/folders/7t/k8q3439j6z3c683j7w00wtm80000gn/T/ipykernel_58430/330735155.py:26: FutureWarning: The behavior of \n",
       "DataFrame concatenation with empty or all-NA entries is deprecated. In a future version, this will no longer \n",
       "exclude empty or all-NA columns when determining the result dtypes. To retain the old behavior, exclude the \n",
       "relevant entries before the concat operation.\n",
       "  results = pd.concat([results, normalized_data]) #.dropna(axis=1, how=\"all\")])\n"
      ]
     },
     "metadata": {},
     "output_type": "display_data"
    },
    {
     "data": {
      "text/html": [
       "<pre style=\"white-space:pre;overflow-x:auto;line-height:normal;font-family:Menlo,'DejaVu Sans Mono',consolas,'Courier New',monospace\">/var/folders/7t/k8q3439j6z3c683j7w00wtm80000gn/T/ipykernel_58430/330735155.py:26: FutureWarning: The behavior of \n",
       "DataFrame concatenation with empty or all-NA entries is deprecated. In a future version, this will no longer \n",
       "exclude empty or all-NA columns when determining the result dtypes. To retain the old behavior, exclude the \n",
       "relevant entries before the concat operation.\n",
       "  results = pd.concat([results, normalized_data]) #.dropna(axis=1, how=\"all\")])\n",
       "</pre>\n"
      ],
      "text/plain": [
       "/var/folders/7t/k8q3439j6z3c683j7w00wtm80000gn/T/ipykernel_58430/330735155.py:26: FutureWarning: The behavior of \n",
       "DataFrame concatenation with empty or all-NA entries is deprecated. In a future version, this will no longer \n",
       "exclude empty or all-NA columns when determining the result dtypes. To retain the old behavior, exclude the \n",
       "relevant entries before the concat operation.\n",
       "  results = pd.concat([results, normalized_data]) #.dropna(axis=1, how=\"all\")])\n"
      ]
     },
     "metadata": {},
     "output_type": "display_data"
    },
    {
     "data": {
      "text/html": [
       "<pre style=\"white-space:pre;overflow-x:auto;line-height:normal;font-family:Menlo,'DejaVu Sans Mono',consolas,'Courier New',monospace\">/var/folders/7t/k8q3439j6z3c683j7w00wtm80000gn/T/ipykernel_58430/330735155.py:26: FutureWarning: The behavior of \n",
       "DataFrame concatenation with empty or all-NA entries is deprecated. In a future version, this will no longer \n",
       "exclude empty or all-NA columns when determining the result dtypes. To retain the old behavior, exclude the \n",
       "relevant entries before the concat operation.\n",
       "  results = pd.concat([results, normalized_data]) #.dropna(axis=1, how=\"all\")])\n",
       "</pre>\n"
      ],
      "text/plain": [
       "/var/folders/7t/k8q3439j6z3c683j7w00wtm80000gn/T/ipykernel_58430/330735155.py:26: FutureWarning: The behavior of \n",
       "DataFrame concatenation with empty or all-NA entries is deprecated. In a future version, this will no longer \n",
       "exclude empty or all-NA columns when determining the result dtypes. To retain the old behavior, exclude the \n",
       "relevant entries before the concat operation.\n",
       "  results = pd.concat([results, normalized_data]) #.dropna(axis=1, how=\"all\")])\n"
      ]
     },
     "metadata": {},
     "output_type": "display_data"
    },
    {
     "data": {
      "text/html": [
       "<pre style=\"white-space:pre;overflow-x:auto;line-height:normal;font-family:Menlo,'DejaVu Sans Mono',consolas,'Courier New',monospace\">/var/folders/7t/k8q3439j6z3c683j7w00wtm80000gn/T/ipykernel_58430/330735155.py:26: FutureWarning: The behavior of \n",
       "DataFrame concatenation with empty or all-NA entries is deprecated. In a future version, this will no longer \n",
       "exclude empty or all-NA columns when determining the result dtypes. To retain the old behavior, exclude the \n",
       "relevant entries before the concat operation.\n",
       "  results = pd.concat([results, normalized_data]) #.dropna(axis=1, how=\"all\")])\n",
       "</pre>\n"
      ],
      "text/plain": [
       "/var/folders/7t/k8q3439j6z3c683j7w00wtm80000gn/T/ipykernel_58430/330735155.py:26: FutureWarning: The behavior of \n",
       "DataFrame concatenation with empty or all-NA entries is deprecated. In a future version, this will no longer \n",
       "exclude empty or all-NA columns when determining the result dtypes. To retain the old behavior, exclude the \n",
       "relevant entries before the concat operation.\n",
       "  results = pd.concat([results, normalized_data]) #.dropna(axis=1, how=\"all\")])\n"
      ]
     },
     "metadata": {},
     "output_type": "display_data"
    },
    {
     "data": {
      "text/html": [
       "<pre style=\"white-space:pre;overflow-x:auto;line-height:normal;font-family:Menlo,'DejaVu Sans Mono',consolas,'Courier New',monospace\">/var/folders/7t/k8q3439j6z3c683j7w00wtm80000gn/T/ipykernel_58430/330735155.py:26: FutureWarning: The behavior of \n",
       "DataFrame concatenation with empty or all-NA entries is deprecated. In a future version, this will no longer \n",
       "exclude empty or all-NA columns when determining the result dtypes. To retain the old behavior, exclude the \n",
       "relevant entries before the concat operation.\n",
       "  results = pd.concat([results, normalized_data]) #.dropna(axis=1, how=\"all\")])\n",
       "</pre>\n"
      ],
      "text/plain": [
       "/var/folders/7t/k8q3439j6z3c683j7w00wtm80000gn/T/ipykernel_58430/330735155.py:26: FutureWarning: The behavior of \n",
       "DataFrame concatenation with empty or all-NA entries is deprecated. In a future version, this will no longer \n",
       "exclude empty or all-NA columns when determining the result dtypes. To retain the old behavior, exclude the \n",
       "relevant entries before the concat operation.\n",
       "  results = pd.concat([results, normalized_data]) #.dropna(axis=1, how=\"all\")])\n"
      ]
     },
     "metadata": {},
     "output_type": "display_data"
    },
    {
     "data": {
      "text/html": [
       "<pre style=\"white-space:pre;overflow-x:auto;line-height:normal;font-family:Menlo,'DejaVu Sans Mono',consolas,'Courier New',monospace\">/var/folders/7t/k8q3439j6z3c683j7w00wtm80000gn/T/ipykernel_58430/330735155.py:26: FutureWarning: The behavior of \n",
       "DataFrame concatenation with empty or all-NA entries is deprecated. In a future version, this will no longer \n",
       "exclude empty or all-NA columns when determining the result dtypes. To retain the old behavior, exclude the \n",
       "relevant entries before the concat operation.\n",
       "  results = pd.concat([results, normalized_data]) #.dropna(axis=1, how=\"all\")])\n",
       "</pre>\n"
      ],
      "text/plain": [
       "/var/folders/7t/k8q3439j6z3c683j7w00wtm80000gn/T/ipykernel_58430/330735155.py:26: FutureWarning: The behavior of \n",
       "DataFrame concatenation with empty or all-NA entries is deprecated. In a future version, this will no longer \n",
       "exclude empty or all-NA columns when determining the result dtypes. To retain the old behavior, exclude the \n",
       "relevant entries before the concat operation.\n",
       "  results = pd.concat([results, normalized_data]) #.dropna(axis=1, how=\"all\")])\n"
      ]
     },
     "metadata": {},
     "output_type": "display_data"
    },
    {
     "data": {
      "text/html": [
       "<pre style=\"white-space:pre;overflow-x:auto;line-height:normal;font-family:Menlo,'DejaVu Sans Mono',consolas,'Courier New',monospace\">/var/folders/7t/k8q3439j6z3c683j7w00wtm80000gn/T/ipykernel_58430/330735155.py:26: FutureWarning: The behavior of \n",
       "DataFrame concatenation with empty or all-NA entries is deprecated. In a future version, this will no longer \n",
       "exclude empty or all-NA columns when determining the result dtypes. To retain the old behavior, exclude the \n",
       "relevant entries before the concat operation.\n",
       "  results = pd.concat([results, normalized_data]) #.dropna(axis=1, how=\"all\")])\n",
       "</pre>\n"
      ],
      "text/plain": [
       "/var/folders/7t/k8q3439j6z3c683j7w00wtm80000gn/T/ipykernel_58430/330735155.py:26: FutureWarning: The behavior of \n",
       "DataFrame concatenation with empty or all-NA entries is deprecated. In a future version, this will no longer \n",
       "exclude empty or all-NA columns when determining the result dtypes. To retain the old behavior, exclude the \n",
       "relevant entries before the concat operation.\n",
       "  results = pd.concat([results, normalized_data]) #.dropna(axis=1, how=\"all\")])\n"
      ]
     },
     "metadata": {},
     "output_type": "display_data"
    },
    {
     "data": {
      "text/html": [
       "<pre style=\"white-space:pre;overflow-x:auto;line-height:normal;font-family:Menlo,'DejaVu Sans Mono',consolas,'Courier New',monospace\">/var/folders/7t/k8q3439j6z3c683j7w00wtm80000gn/T/ipykernel_58430/330735155.py:26: FutureWarning: The behavior of \n",
       "DataFrame concatenation with empty or all-NA entries is deprecated. In a future version, this will no longer \n",
       "exclude empty or all-NA columns when determining the result dtypes. To retain the old behavior, exclude the \n",
       "relevant entries before the concat operation.\n",
       "  results = pd.concat([results, normalized_data]) #.dropna(axis=1, how=\"all\")])\n",
       "</pre>\n"
      ],
      "text/plain": [
       "/var/folders/7t/k8q3439j6z3c683j7w00wtm80000gn/T/ipykernel_58430/330735155.py:26: FutureWarning: The behavior of \n",
       "DataFrame concatenation with empty or all-NA entries is deprecated. In a future version, this will no longer \n",
       "exclude empty or all-NA columns when determining the result dtypes. To retain the old behavior, exclude the \n",
       "relevant entries before the concat operation.\n",
       "  results = pd.concat([results, normalized_data]) #.dropna(axis=1, how=\"all\")])\n"
      ]
     },
     "metadata": {},
     "output_type": "display_data"
    },
    {
     "data": {
      "text/html": [
       "<pre style=\"white-space:pre;overflow-x:auto;line-height:normal;font-family:Menlo,'DejaVu Sans Mono',consolas,'Courier New',monospace\">/var/folders/7t/k8q3439j6z3c683j7w00wtm80000gn/T/ipykernel_58430/330735155.py:26: FutureWarning: The behavior of \n",
       "DataFrame concatenation with empty or all-NA entries is deprecated. In a future version, this will no longer \n",
       "exclude empty or all-NA columns when determining the result dtypes. To retain the old behavior, exclude the \n",
       "relevant entries before the concat operation.\n",
       "  results = pd.concat([results, normalized_data]) #.dropna(axis=1, how=\"all\")])\n",
       "</pre>\n"
      ],
      "text/plain": [
       "/var/folders/7t/k8q3439j6z3c683j7w00wtm80000gn/T/ipykernel_58430/330735155.py:26: FutureWarning: The behavior of \n",
       "DataFrame concatenation with empty or all-NA entries is deprecated. In a future version, this will no longer \n",
       "exclude empty or all-NA columns when determining the result dtypes. To retain the old behavior, exclude the \n",
       "relevant entries before the concat operation.\n",
       "  results = pd.concat([results, normalized_data]) #.dropna(axis=1, how=\"all\")])\n"
      ]
     },
     "metadata": {},
     "output_type": "display_data"
    },
    {
     "data": {
      "text/html": [
       "<pre style=\"white-space:pre;overflow-x:auto;line-height:normal;font-family:Menlo,'DejaVu Sans Mono',consolas,'Courier New',monospace\">/var/folders/7t/k8q3439j6z3c683j7w00wtm80000gn/T/ipykernel_58430/330735155.py:26: FutureWarning: The behavior of \n",
       "DataFrame concatenation with empty or all-NA entries is deprecated. In a future version, this will no longer \n",
       "exclude empty or all-NA columns when determining the result dtypes. To retain the old behavior, exclude the \n",
       "relevant entries before the concat operation.\n",
       "  results = pd.concat([results, normalized_data]) #.dropna(axis=1, how=\"all\")])\n",
       "</pre>\n"
      ],
      "text/plain": [
       "/var/folders/7t/k8q3439j6z3c683j7w00wtm80000gn/T/ipykernel_58430/330735155.py:26: FutureWarning: The behavior of \n",
       "DataFrame concatenation with empty or all-NA entries is deprecated. In a future version, this will no longer \n",
       "exclude empty or all-NA columns when determining the result dtypes. To retain the old behavior, exclude the \n",
       "relevant entries before the concat operation.\n",
       "  results = pd.concat([results, normalized_data]) #.dropna(axis=1, how=\"all\")])\n"
      ]
     },
     "metadata": {},
     "output_type": "display_data"
    },
    {
     "data": {
      "text/html": [
       "<pre style=\"white-space:pre;overflow-x:auto;line-height:normal;font-family:Menlo,'DejaVu Sans Mono',consolas,'Courier New',monospace\">/var/folders/7t/k8q3439j6z3c683j7w00wtm80000gn/T/ipykernel_58430/330735155.py:26: FutureWarning: The behavior of \n",
       "DataFrame concatenation with empty or all-NA entries is deprecated. In a future version, this will no longer \n",
       "exclude empty or all-NA columns when determining the result dtypes. To retain the old behavior, exclude the \n",
       "relevant entries before the concat operation.\n",
       "  results = pd.concat([results, normalized_data]) #.dropna(axis=1, how=\"all\")])\n",
       "</pre>\n"
      ],
      "text/plain": [
       "/var/folders/7t/k8q3439j6z3c683j7w00wtm80000gn/T/ipykernel_58430/330735155.py:26: FutureWarning: The behavior of \n",
       "DataFrame concatenation with empty or all-NA entries is deprecated. In a future version, this will no longer \n",
       "exclude empty or all-NA columns when determining the result dtypes. To retain the old behavior, exclude the \n",
       "relevant entries before the concat operation.\n",
       "  results = pd.concat([results, normalized_data]) #.dropna(axis=1, how=\"all\")])\n"
      ]
     },
     "metadata": {},
     "output_type": "display_data"
    },
    {
     "data": {
      "text/html": [
       "<pre style=\"white-space:pre;overflow-x:auto;line-height:normal;font-family:Menlo,'DejaVu Sans Mono',consolas,'Courier New',monospace\">/var/folders/7t/k8q3439j6z3c683j7w00wtm80000gn/T/ipykernel_58430/330735155.py:26: FutureWarning: The behavior of \n",
       "DataFrame concatenation with empty or all-NA entries is deprecated. In a future version, this will no longer \n",
       "exclude empty or all-NA columns when determining the result dtypes. To retain the old behavior, exclude the \n",
       "relevant entries before the concat operation.\n",
       "  results = pd.concat([results, normalized_data]) #.dropna(axis=1, how=\"all\")])\n",
       "</pre>\n"
      ],
      "text/plain": [
       "/var/folders/7t/k8q3439j6z3c683j7w00wtm80000gn/T/ipykernel_58430/330735155.py:26: FutureWarning: The behavior of \n",
       "DataFrame concatenation with empty or all-NA entries is deprecated. In a future version, this will no longer \n",
       "exclude empty or all-NA columns when determining the result dtypes. To retain the old behavior, exclude the \n",
       "relevant entries before the concat operation.\n",
       "  results = pd.concat([results, normalized_data]) #.dropna(axis=1, how=\"all\")])\n"
      ]
     },
     "metadata": {},
     "output_type": "display_data"
    },
    {
     "data": {
      "text/html": [
       "<pre style=\"white-space:pre;overflow-x:auto;line-height:normal;font-family:Menlo,'DejaVu Sans Mono',consolas,'Courier New',monospace\">/var/folders/7t/k8q3439j6z3c683j7w00wtm80000gn/T/ipykernel_58430/330735155.py:26: FutureWarning: The behavior of \n",
       "DataFrame concatenation with empty or all-NA entries is deprecated. In a future version, this will no longer \n",
       "exclude empty or all-NA columns when determining the result dtypes. To retain the old behavior, exclude the \n",
       "relevant entries before the concat operation.\n",
       "  results = pd.concat([results, normalized_data]) #.dropna(axis=1, how=\"all\")])\n",
       "</pre>\n"
      ],
      "text/plain": [
       "/var/folders/7t/k8q3439j6z3c683j7w00wtm80000gn/T/ipykernel_58430/330735155.py:26: FutureWarning: The behavior of \n",
       "DataFrame concatenation with empty or all-NA entries is deprecated. In a future version, this will no longer \n",
       "exclude empty or all-NA columns when determining the result dtypes. To retain the old behavior, exclude the \n",
       "relevant entries before the concat operation.\n",
       "  results = pd.concat([results, normalized_data]) #.dropna(axis=1, how=\"all\")])\n"
      ]
     },
     "metadata": {},
     "output_type": "display_data"
    },
    {
     "data": {
      "text/html": [
       "<pre style=\"white-space:pre;overflow-x:auto;line-height:normal;font-family:Menlo,'DejaVu Sans Mono',consolas,'Courier New',monospace\">/var/folders/7t/k8q3439j6z3c683j7w00wtm80000gn/T/ipykernel_58430/330735155.py:26: FutureWarning: The behavior of \n",
       "DataFrame concatenation with empty or all-NA entries is deprecated. In a future version, this will no longer \n",
       "exclude empty or all-NA columns when determining the result dtypes. To retain the old behavior, exclude the \n",
       "relevant entries before the concat operation.\n",
       "  results = pd.concat([results, normalized_data]) #.dropna(axis=1, how=\"all\")])\n",
       "</pre>\n"
      ],
      "text/plain": [
       "/var/folders/7t/k8q3439j6z3c683j7w00wtm80000gn/T/ipykernel_58430/330735155.py:26: FutureWarning: The behavior of \n",
       "DataFrame concatenation with empty or all-NA entries is deprecated. In a future version, this will no longer \n",
       "exclude empty or all-NA columns when determining the result dtypes. To retain the old behavior, exclude the \n",
       "relevant entries before the concat operation.\n",
       "  results = pd.concat([results, normalized_data]) #.dropna(axis=1, how=\"all\")])\n"
      ]
     },
     "metadata": {},
     "output_type": "display_data"
    },
    {
     "data": {
      "text/html": [
       "<pre style=\"white-space:pre;overflow-x:auto;line-height:normal;font-family:Menlo,'DejaVu Sans Mono',consolas,'Courier New',monospace\">/var/folders/7t/k8q3439j6z3c683j7w00wtm80000gn/T/ipykernel_58430/330735155.py:26: FutureWarning: The behavior of \n",
       "DataFrame concatenation with empty or all-NA entries is deprecated. In a future version, this will no longer \n",
       "exclude empty or all-NA columns when determining the result dtypes. To retain the old behavior, exclude the \n",
       "relevant entries before the concat operation.\n",
       "  results = pd.concat([results, normalized_data]) #.dropna(axis=1, how=\"all\")])\n",
       "</pre>\n"
      ],
      "text/plain": [
       "/var/folders/7t/k8q3439j6z3c683j7w00wtm80000gn/T/ipykernel_58430/330735155.py:26: FutureWarning: The behavior of \n",
       "DataFrame concatenation with empty or all-NA entries is deprecated. In a future version, this will no longer \n",
       "exclude empty or all-NA columns when determining the result dtypes. To retain the old behavior, exclude the \n",
       "relevant entries before the concat operation.\n",
       "  results = pd.concat([results, normalized_data]) #.dropna(axis=1, how=\"all\")])\n"
      ]
     },
     "metadata": {},
     "output_type": "display_data"
    },
    {
     "data": {
      "text/html": [
       "<pre style=\"white-space:pre;overflow-x:auto;line-height:normal;font-family:Menlo,'DejaVu Sans Mono',consolas,'Courier New',monospace\">/var/folders/7t/k8q3439j6z3c683j7w00wtm80000gn/T/ipykernel_58430/330735155.py:26: FutureWarning: The behavior of \n",
       "DataFrame concatenation with empty or all-NA entries is deprecated. In a future version, this will no longer \n",
       "exclude empty or all-NA columns when determining the result dtypes. To retain the old behavior, exclude the \n",
       "relevant entries before the concat operation.\n",
       "  results = pd.concat([results, normalized_data]) #.dropna(axis=1, how=\"all\")])\n",
       "</pre>\n"
      ],
      "text/plain": [
       "/var/folders/7t/k8q3439j6z3c683j7w00wtm80000gn/T/ipykernel_58430/330735155.py:26: FutureWarning: The behavior of \n",
       "DataFrame concatenation with empty or all-NA entries is deprecated. In a future version, this will no longer \n",
       "exclude empty or all-NA columns when determining the result dtypes. To retain the old behavior, exclude the \n",
       "relevant entries before the concat operation.\n",
       "  results = pd.concat([results, normalized_data]) #.dropna(axis=1, how=\"all\")])\n"
      ]
     },
     "metadata": {},
     "output_type": "display_data"
    },
    {
     "data": {
      "text/html": [
       "<pre style=\"white-space:pre;overflow-x:auto;line-height:normal;font-family:Menlo,'DejaVu Sans Mono',consolas,'Courier New',monospace\">/var/folders/7t/k8q3439j6z3c683j7w00wtm80000gn/T/ipykernel_58430/330735155.py:26: FutureWarning: The behavior of \n",
       "DataFrame concatenation with empty or all-NA entries is deprecated. In a future version, this will no longer \n",
       "exclude empty or all-NA columns when determining the result dtypes. To retain the old behavior, exclude the \n",
       "relevant entries before the concat operation.\n",
       "  results = pd.concat([results, normalized_data]) #.dropna(axis=1, how=\"all\")])\n",
       "</pre>\n"
      ],
      "text/plain": [
       "/var/folders/7t/k8q3439j6z3c683j7w00wtm80000gn/T/ipykernel_58430/330735155.py:26: FutureWarning: The behavior of \n",
       "DataFrame concatenation with empty or all-NA entries is deprecated. In a future version, this will no longer \n",
       "exclude empty or all-NA columns when determining the result dtypes. To retain the old behavior, exclude the \n",
       "relevant entries before the concat operation.\n",
       "  results = pd.concat([results, normalized_data]) #.dropna(axis=1, how=\"all\")])\n"
      ]
     },
     "metadata": {},
     "output_type": "display_data"
    },
    {
     "data": {
      "text/html": [
       "<pre style=\"white-space:pre;overflow-x:auto;line-height:normal;font-family:Menlo,'DejaVu Sans Mono',consolas,'Courier New',monospace\">/var/folders/7t/k8q3439j6z3c683j7w00wtm80000gn/T/ipykernel_58430/330735155.py:26: FutureWarning: The behavior of \n",
       "DataFrame concatenation with empty or all-NA entries is deprecated. In a future version, this will no longer \n",
       "exclude empty or all-NA columns when determining the result dtypes. To retain the old behavior, exclude the \n",
       "relevant entries before the concat operation.\n",
       "  results = pd.concat([results, normalized_data]) #.dropna(axis=1, how=\"all\")])\n",
       "</pre>\n"
      ],
      "text/plain": [
       "/var/folders/7t/k8q3439j6z3c683j7w00wtm80000gn/T/ipykernel_58430/330735155.py:26: FutureWarning: The behavior of \n",
       "DataFrame concatenation with empty or all-NA entries is deprecated. In a future version, this will no longer \n",
       "exclude empty or all-NA columns when determining the result dtypes. To retain the old behavior, exclude the \n",
       "relevant entries before the concat operation.\n",
       "  results = pd.concat([results, normalized_data]) #.dropna(axis=1, how=\"all\")])\n"
      ]
     },
     "metadata": {},
     "output_type": "display_data"
    },
    {
     "data": {
      "text/html": [
       "<pre style=\"white-space:pre;overflow-x:auto;line-height:normal;font-family:Menlo,'DejaVu Sans Mono',consolas,'Courier New',monospace\">/var/folders/7t/k8q3439j6z3c683j7w00wtm80000gn/T/ipykernel_58430/330735155.py:26: FutureWarning: The behavior of \n",
       "DataFrame concatenation with empty or all-NA entries is deprecated. In a future version, this will no longer \n",
       "exclude empty or all-NA columns when determining the result dtypes. To retain the old behavior, exclude the \n",
       "relevant entries before the concat operation.\n",
       "  results = pd.concat([results, normalized_data]) #.dropna(axis=1, how=\"all\")])\n",
       "</pre>\n"
      ],
      "text/plain": [
       "/var/folders/7t/k8q3439j6z3c683j7w00wtm80000gn/T/ipykernel_58430/330735155.py:26: FutureWarning: The behavior of \n",
       "DataFrame concatenation with empty or all-NA entries is deprecated. In a future version, this will no longer \n",
       "exclude empty or all-NA columns when determining the result dtypes. To retain the old behavior, exclude the \n",
       "relevant entries before the concat operation.\n",
       "  results = pd.concat([results, normalized_data]) #.dropna(axis=1, how=\"all\")])\n"
      ]
     },
     "metadata": {},
     "output_type": "display_data"
    },
    {
     "data": {
      "text/html": [
       "<pre style=\"white-space:pre;overflow-x:auto;line-height:normal;font-family:Menlo,'DejaVu Sans Mono',consolas,'Courier New',monospace\">/var/folders/7t/k8q3439j6z3c683j7w00wtm80000gn/T/ipykernel_58430/330735155.py:26: FutureWarning: The behavior of \n",
       "DataFrame concatenation with empty or all-NA entries is deprecated. In a future version, this will no longer \n",
       "exclude empty or all-NA columns when determining the result dtypes. To retain the old behavior, exclude the \n",
       "relevant entries before the concat operation.\n",
       "  results = pd.concat([results, normalized_data]) #.dropna(axis=1, how=\"all\")])\n",
       "</pre>\n"
      ],
      "text/plain": [
       "/var/folders/7t/k8q3439j6z3c683j7w00wtm80000gn/T/ipykernel_58430/330735155.py:26: FutureWarning: The behavior of \n",
       "DataFrame concatenation with empty or all-NA entries is deprecated. In a future version, this will no longer \n",
       "exclude empty or all-NA columns when determining the result dtypes. To retain the old behavior, exclude the \n",
       "relevant entries before the concat operation.\n",
       "  results = pd.concat([results, normalized_data]) #.dropna(axis=1, how=\"all\")])\n"
      ]
     },
     "metadata": {},
     "output_type": "display_data"
    },
    {
     "data": {
      "text/html": [
       "<pre style=\"white-space:pre;overflow-x:auto;line-height:normal;font-family:Menlo,'DejaVu Sans Mono',consolas,'Courier New',monospace\">/var/folders/7t/k8q3439j6z3c683j7w00wtm80000gn/T/ipykernel_58430/330735155.py:26: FutureWarning: The behavior of \n",
       "DataFrame concatenation with empty or all-NA entries is deprecated. In a future version, this will no longer \n",
       "exclude empty or all-NA columns when determining the result dtypes. To retain the old behavior, exclude the \n",
       "relevant entries before the concat operation.\n",
       "  results = pd.concat([results, normalized_data]) #.dropna(axis=1, how=\"all\")])\n",
       "</pre>\n"
      ],
      "text/plain": [
       "/var/folders/7t/k8q3439j6z3c683j7w00wtm80000gn/T/ipykernel_58430/330735155.py:26: FutureWarning: The behavior of \n",
       "DataFrame concatenation with empty or all-NA entries is deprecated. In a future version, this will no longer \n",
       "exclude empty or all-NA columns when determining the result dtypes. To retain the old behavior, exclude the \n",
       "relevant entries before the concat operation.\n",
       "  results = pd.concat([results, normalized_data]) #.dropna(axis=1, how=\"all\")])\n"
      ]
     },
     "metadata": {},
     "output_type": "display_data"
    },
    {
     "data": {
      "text/html": [
       "<pre style=\"white-space:pre;overflow-x:auto;line-height:normal;font-family:Menlo,'DejaVu Sans Mono',consolas,'Courier New',monospace\">/var/folders/7t/k8q3439j6z3c683j7w00wtm80000gn/T/ipykernel_58430/330735155.py:26: FutureWarning: The behavior of \n",
       "DataFrame concatenation with empty or all-NA entries is deprecated. In a future version, this will no longer \n",
       "exclude empty or all-NA columns when determining the result dtypes. To retain the old behavior, exclude the \n",
       "relevant entries before the concat operation.\n",
       "  results = pd.concat([results, normalized_data]) #.dropna(axis=1, how=\"all\")])\n",
       "</pre>\n"
      ],
      "text/plain": [
       "/var/folders/7t/k8q3439j6z3c683j7w00wtm80000gn/T/ipykernel_58430/330735155.py:26: FutureWarning: The behavior of \n",
       "DataFrame concatenation with empty or all-NA entries is deprecated. In a future version, this will no longer \n",
       "exclude empty or all-NA columns when determining the result dtypes. To retain the old behavior, exclude the \n",
       "relevant entries before the concat operation.\n",
       "  results = pd.concat([results, normalized_data]) #.dropna(axis=1, how=\"all\")])\n"
      ]
     },
     "metadata": {},
     "output_type": "display_data"
    },
    {
     "data": {
      "text/html": [
       "<pre style=\"white-space:pre;overflow-x:auto;line-height:normal;font-family:Menlo,'DejaVu Sans Mono',consolas,'Courier New',monospace\">/var/folders/7t/k8q3439j6z3c683j7w00wtm80000gn/T/ipykernel_58430/330735155.py:26: FutureWarning: The behavior of \n",
       "DataFrame concatenation with empty or all-NA entries is deprecated. In a future version, this will no longer \n",
       "exclude empty or all-NA columns when determining the result dtypes. To retain the old behavior, exclude the \n",
       "relevant entries before the concat operation.\n",
       "  results = pd.concat([results, normalized_data]) #.dropna(axis=1, how=\"all\")])\n",
       "</pre>\n"
      ],
      "text/plain": [
       "/var/folders/7t/k8q3439j6z3c683j7w00wtm80000gn/T/ipykernel_58430/330735155.py:26: FutureWarning: The behavior of \n",
       "DataFrame concatenation with empty or all-NA entries is deprecated. In a future version, this will no longer \n",
       "exclude empty or all-NA columns when determining the result dtypes. To retain the old behavior, exclude the \n",
       "relevant entries before the concat operation.\n",
       "  results = pd.concat([results, normalized_data]) #.dropna(axis=1, how=\"all\")])\n"
      ]
     },
     "metadata": {},
     "output_type": "display_data"
    },
    {
     "data": {
      "text/html": [
       "<pre style=\"white-space:pre;overflow-x:auto;line-height:normal;font-family:Menlo,'DejaVu Sans Mono',consolas,'Courier New',monospace\">/var/folders/7t/k8q3439j6z3c683j7w00wtm80000gn/T/ipykernel_58430/330735155.py:26: FutureWarning: The behavior of \n",
       "DataFrame concatenation with empty or all-NA entries is deprecated. In a future version, this will no longer \n",
       "exclude empty or all-NA columns when determining the result dtypes. To retain the old behavior, exclude the \n",
       "relevant entries before the concat operation.\n",
       "  results = pd.concat([results, normalized_data]) #.dropna(axis=1, how=\"all\")])\n",
       "</pre>\n"
      ],
      "text/plain": [
       "/var/folders/7t/k8q3439j6z3c683j7w00wtm80000gn/T/ipykernel_58430/330735155.py:26: FutureWarning: The behavior of \n",
       "DataFrame concatenation with empty or all-NA entries is deprecated. In a future version, this will no longer \n",
       "exclude empty or all-NA columns when determining the result dtypes. To retain the old behavior, exclude the \n",
       "relevant entries before the concat operation.\n",
       "  results = pd.concat([results, normalized_data]) #.dropna(axis=1, how=\"all\")])\n"
      ]
     },
     "metadata": {},
     "output_type": "display_data"
    },
    {
     "data": {
      "text/html": [
       "<pre style=\"white-space:pre;overflow-x:auto;line-height:normal;font-family:Menlo,'DejaVu Sans Mono',consolas,'Courier New',monospace\">/var/folders/7t/k8q3439j6z3c683j7w00wtm80000gn/T/ipykernel_58430/330735155.py:26: FutureWarning: The behavior of \n",
       "DataFrame concatenation with empty or all-NA entries is deprecated. In a future version, this will no longer \n",
       "exclude empty or all-NA columns when determining the result dtypes. To retain the old behavior, exclude the \n",
       "relevant entries before the concat operation.\n",
       "  results = pd.concat([results, normalized_data]) #.dropna(axis=1, how=\"all\")])\n",
       "</pre>\n"
      ],
      "text/plain": [
       "/var/folders/7t/k8q3439j6z3c683j7w00wtm80000gn/T/ipykernel_58430/330735155.py:26: FutureWarning: The behavior of \n",
       "DataFrame concatenation with empty or all-NA entries is deprecated. In a future version, this will no longer \n",
       "exclude empty or all-NA columns when determining the result dtypes. To retain the old behavior, exclude the \n",
       "relevant entries before the concat operation.\n",
       "  results = pd.concat([results, normalized_data]) #.dropna(axis=1, how=\"all\")])\n"
      ]
     },
     "metadata": {},
     "output_type": "display_data"
    },
    {
     "data": {
      "text/html": [
       "<pre style=\"white-space:pre;overflow-x:auto;line-height:normal;font-family:Menlo,'DejaVu Sans Mono',consolas,'Courier New',monospace\">/var/folders/7t/k8q3439j6z3c683j7w00wtm80000gn/T/ipykernel_58430/330735155.py:26: FutureWarning: The behavior of \n",
       "DataFrame concatenation with empty or all-NA entries is deprecated. In a future version, this will no longer \n",
       "exclude empty or all-NA columns when determining the result dtypes. To retain the old behavior, exclude the \n",
       "relevant entries before the concat operation.\n",
       "  results = pd.concat([results, normalized_data]) #.dropna(axis=1, how=\"all\")])\n",
       "</pre>\n"
      ],
      "text/plain": [
       "/var/folders/7t/k8q3439j6z3c683j7w00wtm80000gn/T/ipykernel_58430/330735155.py:26: FutureWarning: The behavior of \n",
       "DataFrame concatenation with empty or all-NA entries is deprecated. In a future version, this will no longer \n",
       "exclude empty or all-NA columns when determining the result dtypes. To retain the old behavior, exclude the \n",
       "relevant entries before the concat operation.\n",
       "  results = pd.concat([results, normalized_data]) #.dropna(axis=1, how=\"all\")])\n"
      ]
     },
     "metadata": {},
     "output_type": "display_data"
    },
    {
     "data": {
      "text/html": [
       "<pre style=\"white-space:pre;overflow-x:auto;line-height:normal;font-family:Menlo,'DejaVu Sans Mono',consolas,'Courier New',monospace\">/var/folders/7t/k8q3439j6z3c683j7w00wtm80000gn/T/ipykernel_58430/330735155.py:26: FutureWarning: The behavior of \n",
       "DataFrame concatenation with empty or all-NA entries is deprecated. In a future version, this will no longer \n",
       "exclude empty or all-NA columns when determining the result dtypes. To retain the old behavior, exclude the \n",
       "relevant entries before the concat operation.\n",
       "  results = pd.concat([results, normalized_data]) #.dropna(axis=1, how=\"all\")])\n",
       "</pre>\n"
      ],
      "text/plain": [
       "/var/folders/7t/k8q3439j6z3c683j7w00wtm80000gn/T/ipykernel_58430/330735155.py:26: FutureWarning: The behavior of \n",
       "DataFrame concatenation with empty or all-NA entries is deprecated. In a future version, this will no longer \n",
       "exclude empty or all-NA columns when determining the result dtypes. To retain the old behavior, exclude the \n",
       "relevant entries before the concat operation.\n",
       "  results = pd.concat([results, normalized_data]) #.dropna(axis=1, how=\"all\")])\n"
      ]
     },
     "metadata": {},
     "output_type": "display_data"
    },
    {
     "data": {
      "text/html": [
       "<pre style=\"white-space:pre;overflow-x:auto;line-height:normal;font-family:Menlo,'DejaVu Sans Mono',consolas,'Courier New',monospace\">/var/folders/7t/k8q3439j6z3c683j7w00wtm80000gn/T/ipykernel_58430/330735155.py:26: FutureWarning: The behavior of \n",
       "DataFrame concatenation with empty or all-NA entries is deprecated. In a future version, this will no longer \n",
       "exclude empty or all-NA columns when determining the result dtypes. To retain the old behavior, exclude the \n",
       "relevant entries before the concat operation.\n",
       "  results = pd.concat([results, normalized_data]) #.dropna(axis=1, how=\"all\")])\n",
       "</pre>\n"
      ],
      "text/plain": [
       "/var/folders/7t/k8q3439j6z3c683j7w00wtm80000gn/T/ipykernel_58430/330735155.py:26: FutureWarning: The behavior of \n",
       "DataFrame concatenation with empty or all-NA entries is deprecated. In a future version, this will no longer \n",
       "exclude empty or all-NA columns when determining the result dtypes. To retain the old behavior, exclude the \n",
       "relevant entries before the concat operation.\n",
       "  results = pd.concat([results, normalized_data]) #.dropna(axis=1, how=\"all\")])\n"
      ]
     },
     "metadata": {},
     "output_type": "display_data"
    },
    {
     "data": {
      "text/html": [
       "<pre style=\"white-space:pre;overflow-x:auto;line-height:normal;font-family:Menlo,'DejaVu Sans Mono',consolas,'Courier New',monospace\">/var/folders/7t/k8q3439j6z3c683j7w00wtm80000gn/T/ipykernel_58430/330735155.py:26: FutureWarning: The behavior of \n",
       "DataFrame concatenation with empty or all-NA entries is deprecated. In a future version, this will no longer \n",
       "exclude empty or all-NA columns when determining the result dtypes. To retain the old behavior, exclude the \n",
       "relevant entries before the concat operation.\n",
       "  results = pd.concat([results, normalized_data]) #.dropna(axis=1, how=\"all\")])\n",
       "</pre>\n"
      ],
      "text/plain": [
       "/var/folders/7t/k8q3439j6z3c683j7w00wtm80000gn/T/ipykernel_58430/330735155.py:26: FutureWarning: The behavior of \n",
       "DataFrame concatenation with empty or all-NA entries is deprecated. In a future version, this will no longer \n",
       "exclude empty or all-NA columns when determining the result dtypes. To retain the old behavior, exclude the \n",
       "relevant entries before the concat operation.\n",
       "  results = pd.concat([results, normalized_data]) #.dropna(axis=1, how=\"all\")])\n"
      ]
     },
     "metadata": {},
     "output_type": "display_data"
    },
    {
     "data": {
      "text/html": [
       "<pre style=\"white-space:pre;overflow-x:auto;line-height:normal;font-family:Menlo,'DejaVu Sans Mono',consolas,'Courier New',monospace\">/var/folders/7t/k8q3439j6z3c683j7w00wtm80000gn/T/ipykernel_58430/330735155.py:26: FutureWarning: The behavior of \n",
       "DataFrame concatenation with empty or all-NA entries is deprecated. In a future version, this will no longer \n",
       "exclude empty or all-NA columns when determining the result dtypes. To retain the old behavior, exclude the \n",
       "relevant entries before the concat operation.\n",
       "  results = pd.concat([results, normalized_data]) #.dropna(axis=1, how=\"all\")])\n",
       "</pre>\n"
      ],
      "text/plain": [
       "/var/folders/7t/k8q3439j6z3c683j7w00wtm80000gn/T/ipykernel_58430/330735155.py:26: FutureWarning: The behavior of \n",
       "DataFrame concatenation with empty or all-NA entries is deprecated. In a future version, this will no longer \n",
       "exclude empty or all-NA columns when determining the result dtypes. To retain the old behavior, exclude the \n",
       "relevant entries before the concat operation.\n",
       "  results = pd.concat([results, normalized_data]) #.dropna(axis=1, how=\"all\")])\n"
      ]
     },
     "metadata": {},
     "output_type": "display_data"
    },
    {
     "data": {
      "text/html": [
       "<pre style=\"white-space:pre;overflow-x:auto;line-height:normal;font-family:Menlo,'DejaVu Sans Mono',consolas,'Courier New',monospace\">/var/folders/7t/k8q3439j6z3c683j7w00wtm80000gn/T/ipykernel_58430/330735155.py:26: FutureWarning: The behavior of \n",
       "DataFrame concatenation with empty or all-NA entries is deprecated. In a future version, this will no longer \n",
       "exclude empty or all-NA columns when determining the result dtypes. To retain the old behavior, exclude the \n",
       "relevant entries before the concat operation.\n",
       "  results = pd.concat([results, normalized_data]) #.dropna(axis=1, how=\"all\")])\n",
       "</pre>\n"
      ],
      "text/plain": [
       "/var/folders/7t/k8q3439j6z3c683j7w00wtm80000gn/T/ipykernel_58430/330735155.py:26: FutureWarning: The behavior of \n",
       "DataFrame concatenation with empty or all-NA entries is deprecated. In a future version, this will no longer \n",
       "exclude empty or all-NA columns when determining the result dtypes. To retain the old behavior, exclude the \n",
       "relevant entries before the concat operation.\n",
       "  results = pd.concat([results, normalized_data]) #.dropna(axis=1, how=\"all\")])\n"
      ]
     },
     "metadata": {},
     "output_type": "display_data"
    },
    {
     "data": {
      "text/html": [
       "<pre style=\"white-space:pre;overflow-x:auto;line-height:normal;font-family:Menlo,'DejaVu Sans Mono',consolas,'Courier New',monospace\">/var/folders/7t/k8q3439j6z3c683j7w00wtm80000gn/T/ipykernel_58430/330735155.py:26: FutureWarning: The behavior of \n",
       "DataFrame concatenation with empty or all-NA entries is deprecated. In a future version, this will no longer \n",
       "exclude empty or all-NA columns when determining the result dtypes. To retain the old behavior, exclude the \n",
       "relevant entries before the concat operation.\n",
       "  results = pd.concat([results, normalized_data]) #.dropna(axis=1, how=\"all\")])\n",
       "</pre>\n"
      ],
      "text/plain": [
       "/var/folders/7t/k8q3439j6z3c683j7w00wtm80000gn/T/ipykernel_58430/330735155.py:26: FutureWarning: The behavior of \n",
       "DataFrame concatenation with empty or all-NA entries is deprecated. In a future version, this will no longer \n",
       "exclude empty or all-NA columns when determining the result dtypes. To retain the old behavior, exclude the \n",
       "relevant entries before the concat operation.\n",
       "  results = pd.concat([results, normalized_data]) #.dropna(axis=1, how=\"all\")])\n"
      ]
     },
     "metadata": {},
     "output_type": "display_data"
    },
    {
     "data": {
      "text/html": [
       "<pre style=\"white-space:pre;overflow-x:auto;line-height:normal;font-family:Menlo,'DejaVu Sans Mono',consolas,'Courier New',monospace\">/var/folders/7t/k8q3439j6z3c683j7w00wtm80000gn/T/ipykernel_58430/330735155.py:26: FutureWarning: The behavior of \n",
       "DataFrame concatenation with empty or all-NA entries is deprecated. In a future version, this will no longer \n",
       "exclude empty or all-NA columns when determining the result dtypes. To retain the old behavior, exclude the \n",
       "relevant entries before the concat operation.\n",
       "  results = pd.concat([results, normalized_data]) #.dropna(axis=1, how=\"all\")])\n",
       "</pre>\n"
      ],
      "text/plain": [
       "/var/folders/7t/k8q3439j6z3c683j7w00wtm80000gn/T/ipykernel_58430/330735155.py:26: FutureWarning: The behavior of \n",
       "DataFrame concatenation with empty or all-NA entries is deprecated. In a future version, this will no longer \n",
       "exclude empty or all-NA columns when determining the result dtypes. To retain the old behavior, exclude the \n",
       "relevant entries before the concat operation.\n",
       "  results = pd.concat([results, normalized_data]) #.dropna(axis=1, how=\"all\")])\n"
      ]
     },
     "metadata": {},
     "output_type": "display_data"
    },
    {
     "data": {
      "text/html": [
       "<pre style=\"white-space:pre;overflow-x:auto;line-height:normal;font-family:Menlo,'DejaVu Sans Mono',consolas,'Courier New',monospace\">/var/folders/7t/k8q3439j6z3c683j7w00wtm80000gn/T/ipykernel_58430/330735155.py:26: FutureWarning: The behavior of \n",
       "DataFrame concatenation with empty or all-NA entries is deprecated. In a future version, this will no longer \n",
       "exclude empty or all-NA columns when determining the result dtypes. To retain the old behavior, exclude the \n",
       "relevant entries before the concat operation.\n",
       "  results = pd.concat([results, normalized_data]) #.dropna(axis=1, how=\"all\")])\n",
       "</pre>\n"
      ],
      "text/plain": [
       "/var/folders/7t/k8q3439j6z3c683j7w00wtm80000gn/T/ipykernel_58430/330735155.py:26: FutureWarning: The behavior of \n",
       "DataFrame concatenation with empty or all-NA entries is deprecated. In a future version, this will no longer \n",
       "exclude empty or all-NA columns when determining the result dtypes. To retain the old behavior, exclude the \n",
       "relevant entries before the concat operation.\n",
       "  results = pd.concat([results, normalized_data]) #.dropna(axis=1, how=\"all\")])\n"
      ]
     },
     "metadata": {},
     "output_type": "display_data"
    },
    {
     "data": {
      "text/html": [
       "<pre style=\"white-space:pre;overflow-x:auto;line-height:normal;font-family:Menlo,'DejaVu Sans Mono',consolas,'Courier New',monospace\">/var/folders/7t/k8q3439j6z3c683j7w00wtm80000gn/T/ipykernel_58430/330735155.py:26: FutureWarning: The behavior of \n",
       "DataFrame concatenation with empty or all-NA entries is deprecated. In a future version, this will no longer \n",
       "exclude empty or all-NA columns when determining the result dtypes. To retain the old behavior, exclude the \n",
       "relevant entries before the concat operation.\n",
       "  results = pd.concat([results, normalized_data]) #.dropna(axis=1, how=\"all\")])\n",
       "</pre>\n"
      ],
      "text/plain": [
       "/var/folders/7t/k8q3439j6z3c683j7w00wtm80000gn/T/ipykernel_58430/330735155.py:26: FutureWarning: The behavior of \n",
       "DataFrame concatenation with empty or all-NA entries is deprecated. In a future version, this will no longer \n",
       "exclude empty or all-NA columns when determining the result dtypes. To retain the old behavior, exclude the \n",
       "relevant entries before the concat operation.\n",
       "  results = pd.concat([results, normalized_data]) #.dropna(axis=1, how=\"all\")])\n"
      ]
     },
     "metadata": {},
     "output_type": "display_data"
    },
    {
     "data": {
      "text/html": [
       "<pre style=\"white-space:pre;overflow-x:auto;line-height:normal;font-family:Menlo,'DejaVu Sans Mono',consolas,'Courier New',monospace\">/var/folders/7t/k8q3439j6z3c683j7w00wtm80000gn/T/ipykernel_58430/330735155.py:26: FutureWarning: The behavior of \n",
       "DataFrame concatenation with empty or all-NA entries is deprecated. In a future version, this will no longer \n",
       "exclude empty or all-NA columns when determining the result dtypes. To retain the old behavior, exclude the \n",
       "relevant entries before the concat operation.\n",
       "  results = pd.concat([results, normalized_data]) #.dropna(axis=1, how=\"all\")])\n",
       "</pre>\n"
      ],
      "text/plain": [
       "/var/folders/7t/k8q3439j6z3c683j7w00wtm80000gn/T/ipykernel_58430/330735155.py:26: FutureWarning: The behavior of \n",
       "DataFrame concatenation with empty or all-NA entries is deprecated. In a future version, this will no longer \n",
       "exclude empty or all-NA columns when determining the result dtypes. To retain the old behavior, exclude the \n",
       "relevant entries before the concat operation.\n",
       "  results = pd.concat([results, normalized_data]) #.dropna(axis=1, how=\"all\")])\n"
      ]
     },
     "metadata": {},
     "output_type": "display_data"
    },
    {
     "data": {
      "text/html": [
       "<pre style=\"white-space:pre;overflow-x:auto;line-height:normal;font-family:Menlo,'DejaVu Sans Mono',consolas,'Courier New',monospace\">/var/folders/7t/k8q3439j6z3c683j7w00wtm80000gn/T/ipykernel_58430/330735155.py:26: FutureWarning: The behavior of \n",
       "DataFrame concatenation with empty or all-NA entries is deprecated. In a future version, this will no longer \n",
       "exclude empty or all-NA columns when determining the result dtypes. To retain the old behavior, exclude the \n",
       "relevant entries before the concat operation.\n",
       "  results = pd.concat([results, normalized_data]) #.dropna(axis=1, how=\"all\")])\n",
       "</pre>\n"
      ],
      "text/plain": [
       "/var/folders/7t/k8q3439j6z3c683j7w00wtm80000gn/T/ipykernel_58430/330735155.py:26: FutureWarning: The behavior of \n",
       "DataFrame concatenation with empty or all-NA entries is deprecated. In a future version, this will no longer \n",
       "exclude empty or all-NA columns when determining the result dtypes. To retain the old behavior, exclude the \n",
       "relevant entries before the concat operation.\n",
       "  results = pd.concat([results, normalized_data]) #.dropna(axis=1, how=\"all\")])\n"
      ]
     },
     "metadata": {},
     "output_type": "display_data"
    },
    {
     "data": {
      "text/html": [
       "<pre style=\"white-space:pre;overflow-x:auto;line-height:normal;font-family:Menlo,'DejaVu Sans Mono',consolas,'Courier New',monospace\">/var/folders/7t/k8q3439j6z3c683j7w00wtm80000gn/T/ipykernel_58430/330735155.py:26: FutureWarning: The behavior of \n",
       "DataFrame concatenation with empty or all-NA entries is deprecated. In a future version, this will no longer \n",
       "exclude empty or all-NA columns when determining the result dtypes. To retain the old behavior, exclude the \n",
       "relevant entries before the concat operation.\n",
       "  results = pd.concat([results, normalized_data]) #.dropna(axis=1, how=\"all\")])\n",
       "</pre>\n"
      ],
      "text/plain": [
       "/var/folders/7t/k8q3439j6z3c683j7w00wtm80000gn/T/ipykernel_58430/330735155.py:26: FutureWarning: The behavior of \n",
       "DataFrame concatenation with empty or all-NA entries is deprecated. In a future version, this will no longer \n",
       "exclude empty or all-NA columns when determining the result dtypes. To retain the old behavior, exclude the \n",
       "relevant entries before the concat operation.\n",
       "  results = pd.concat([results, normalized_data]) #.dropna(axis=1, how=\"all\")])\n"
      ]
     },
     "metadata": {},
     "output_type": "display_data"
    },
    {
     "data": {
      "text/html": [
       "<pre style=\"white-space:pre;overflow-x:auto;line-height:normal;font-family:Menlo,'DejaVu Sans Mono',consolas,'Courier New',monospace\">/var/folders/7t/k8q3439j6z3c683j7w00wtm80000gn/T/ipykernel_58430/330735155.py:26: FutureWarning: The behavior of \n",
       "DataFrame concatenation with empty or all-NA entries is deprecated. In a future version, this will no longer \n",
       "exclude empty or all-NA columns when determining the result dtypes. To retain the old behavior, exclude the \n",
       "relevant entries before the concat operation.\n",
       "  results = pd.concat([results, normalized_data]) #.dropna(axis=1, how=\"all\")])\n",
       "</pre>\n"
      ],
      "text/plain": [
       "/var/folders/7t/k8q3439j6z3c683j7w00wtm80000gn/T/ipykernel_58430/330735155.py:26: FutureWarning: The behavior of \n",
       "DataFrame concatenation with empty or all-NA entries is deprecated. In a future version, this will no longer \n",
       "exclude empty or all-NA columns when determining the result dtypes. To retain the old behavior, exclude the \n",
       "relevant entries before the concat operation.\n",
       "  results = pd.concat([results, normalized_data]) #.dropna(axis=1, how=\"all\")])\n"
      ]
     },
     "metadata": {},
     "output_type": "display_data"
    },
    {
     "data": {
      "text/html": [
       "<pre style=\"white-space:pre;overflow-x:auto;line-height:normal;font-family:Menlo,'DejaVu Sans Mono',consolas,'Courier New',monospace\">/var/folders/7t/k8q3439j6z3c683j7w00wtm80000gn/T/ipykernel_58430/330735155.py:26: FutureWarning: The behavior of \n",
       "DataFrame concatenation with empty or all-NA entries is deprecated. In a future version, this will no longer \n",
       "exclude empty or all-NA columns when determining the result dtypes. To retain the old behavior, exclude the \n",
       "relevant entries before the concat operation.\n",
       "  results = pd.concat([results, normalized_data]) #.dropna(axis=1, how=\"all\")])\n",
       "</pre>\n"
      ],
      "text/plain": [
       "/var/folders/7t/k8q3439j6z3c683j7w00wtm80000gn/T/ipykernel_58430/330735155.py:26: FutureWarning: The behavior of \n",
       "DataFrame concatenation with empty or all-NA entries is deprecated. In a future version, this will no longer \n",
       "exclude empty or all-NA columns when determining the result dtypes. To retain the old behavior, exclude the \n",
       "relevant entries before the concat operation.\n",
       "  results = pd.concat([results, normalized_data]) #.dropna(axis=1, how=\"all\")])\n"
      ]
     },
     "metadata": {},
     "output_type": "display_data"
    },
    {
     "data": {
      "text/html": [
       "<pre style=\"white-space:pre;overflow-x:auto;line-height:normal;font-family:Menlo,'DejaVu Sans Mono',consolas,'Courier New',monospace\">/var/folders/7t/k8q3439j6z3c683j7w00wtm80000gn/T/ipykernel_58430/330735155.py:26: FutureWarning: The behavior of \n",
       "DataFrame concatenation with empty or all-NA entries is deprecated. In a future version, this will no longer \n",
       "exclude empty or all-NA columns when determining the result dtypes. To retain the old behavior, exclude the \n",
       "relevant entries before the concat operation.\n",
       "  results = pd.concat([results, normalized_data]) #.dropna(axis=1, how=\"all\")])\n",
       "</pre>\n"
      ],
      "text/plain": [
       "/var/folders/7t/k8q3439j6z3c683j7w00wtm80000gn/T/ipykernel_58430/330735155.py:26: FutureWarning: The behavior of \n",
       "DataFrame concatenation with empty or all-NA entries is deprecated. In a future version, this will no longer \n",
       "exclude empty or all-NA columns when determining the result dtypes. To retain the old behavior, exclude the \n",
       "relevant entries before the concat operation.\n",
       "  results = pd.concat([results, normalized_data]) #.dropna(axis=1, how=\"all\")])\n"
      ]
     },
     "metadata": {},
     "output_type": "display_data"
    },
    {
     "data": {
      "text/html": [
       "<pre style=\"white-space:pre;overflow-x:auto;line-height:normal;font-family:Menlo,'DejaVu Sans Mono',consolas,'Courier New',monospace\">/var/folders/7t/k8q3439j6z3c683j7w00wtm80000gn/T/ipykernel_58430/330735155.py:26: FutureWarning: The behavior of \n",
       "DataFrame concatenation with empty or all-NA entries is deprecated. In a future version, this will no longer \n",
       "exclude empty or all-NA columns when determining the result dtypes. To retain the old behavior, exclude the \n",
       "relevant entries before the concat operation.\n",
       "  results = pd.concat([results, normalized_data]) #.dropna(axis=1, how=\"all\")])\n",
       "</pre>\n"
      ],
      "text/plain": [
       "/var/folders/7t/k8q3439j6z3c683j7w00wtm80000gn/T/ipykernel_58430/330735155.py:26: FutureWarning: The behavior of \n",
       "DataFrame concatenation with empty or all-NA entries is deprecated. In a future version, this will no longer \n",
       "exclude empty or all-NA columns when determining the result dtypes. To retain the old behavior, exclude the \n",
       "relevant entries before the concat operation.\n",
       "  results = pd.concat([results, normalized_data]) #.dropna(axis=1, how=\"all\")])\n"
      ]
     },
     "metadata": {},
     "output_type": "display_data"
    },
    {
     "data": {
      "text/html": [
       "<pre style=\"white-space:pre;overflow-x:auto;line-height:normal;font-family:Menlo,'DejaVu Sans Mono',consolas,'Courier New',monospace\">/var/folders/7t/k8q3439j6z3c683j7w00wtm80000gn/T/ipykernel_58430/330735155.py:26: FutureWarning: The behavior of \n",
       "DataFrame concatenation with empty or all-NA entries is deprecated. In a future version, this will no longer \n",
       "exclude empty or all-NA columns when determining the result dtypes. To retain the old behavior, exclude the \n",
       "relevant entries before the concat operation.\n",
       "  results = pd.concat([results, normalized_data]) #.dropna(axis=1, how=\"all\")])\n",
       "</pre>\n"
      ],
      "text/plain": [
       "/var/folders/7t/k8q3439j6z3c683j7w00wtm80000gn/T/ipykernel_58430/330735155.py:26: FutureWarning: The behavior of \n",
       "DataFrame concatenation with empty or all-NA entries is deprecated. In a future version, this will no longer \n",
       "exclude empty or all-NA columns when determining the result dtypes. To retain the old behavior, exclude the \n",
       "relevant entries before the concat operation.\n",
       "  results = pd.concat([results, normalized_data]) #.dropna(axis=1, how=\"all\")])\n"
      ]
     },
     "metadata": {},
     "output_type": "display_data"
    },
    {
     "data": {
      "text/html": [
       "<pre style=\"white-space:pre;overflow-x:auto;line-height:normal;font-family:Menlo,'DejaVu Sans Mono',consolas,'Courier New',monospace\">/var/folders/7t/k8q3439j6z3c683j7w00wtm80000gn/T/ipykernel_58430/330735155.py:26: FutureWarning: The behavior of \n",
       "DataFrame concatenation with empty or all-NA entries is deprecated. In a future version, this will no longer \n",
       "exclude empty or all-NA columns when determining the result dtypes. To retain the old behavior, exclude the \n",
       "relevant entries before the concat operation.\n",
       "  results = pd.concat([results, normalized_data]) #.dropna(axis=1, how=\"all\")])\n",
       "</pre>\n"
      ],
      "text/plain": [
       "/var/folders/7t/k8q3439j6z3c683j7w00wtm80000gn/T/ipykernel_58430/330735155.py:26: FutureWarning: The behavior of \n",
       "DataFrame concatenation with empty or all-NA entries is deprecated. In a future version, this will no longer \n",
       "exclude empty or all-NA columns when determining the result dtypes. To retain the old behavior, exclude the \n",
       "relevant entries before the concat operation.\n",
       "  results = pd.concat([results, normalized_data]) #.dropna(axis=1, how=\"all\")])\n"
      ]
     },
     "metadata": {},
     "output_type": "display_data"
    },
    {
     "data": {
      "text/html": [
       "<pre style=\"white-space:pre;overflow-x:auto;line-height:normal;font-family:Menlo,'DejaVu Sans Mono',consolas,'Courier New',monospace\">/var/folders/7t/k8q3439j6z3c683j7w00wtm80000gn/T/ipykernel_58430/330735155.py:26: FutureWarning: The behavior of \n",
       "DataFrame concatenation with empty or all-NA entries is deprecated. In a future version, this will no longer \n",
       "exclude empty or all-NA columns when determining the result dtypes. To retain the old behavior, exclude the \n",
       "relevant entries before the concat operation.\n",
       "  results = pd.concat([results, normalized_data]) #.dropna(axis=1, how=\"all\")])\n",
       "</pre>\n"
      ],
      "text/plain": [
       "/var/folders/7t/k8q3439j6z3c683j7w00wtm80000gn/T/ipykernel_58430/330735155.py:26: FutureWarning: The behavior of \n",
       "DataFrame concatenation with empty or all-NA entries is deprecated. In a future version, this will no longer \n",
       "exclude empty or all-NA columns when determining the result dtypes. To retain the old behavior, exclude the \n",
       "relevant entries before the concat operation.\n",
       "  results = pd.concat([results, normalized_data]) #.dropna(axis=1, how=\"all\")])\n"
      ]
     },
     "metadata": {},
     "output_type": "display_data"
    },
    {
     "data": {
      "text/html": [
       "<pre style=\"white-space:pre;overflow-x:auto;line-height:normal;font-family:Menlo,'DejaVu Sans Mono',consolas,'Courier New',monospace\">/var/folders/7t/k8q3439j6z3c683j7w00wtm80000gn/T/ipykernel_58430/330735155.py:26: FutureWarning: The behavior of \n",
       "DataFrame concatenation with empty or all-NA entries is deprecated. In a future version, this will no longer \n",
       "exclude empty or all-NA columns when determining the result dtypes. To retain the old behavior, exclude the \n",
       "relevant entries before the concat operation.\n",
       "  results = pd.concat([results, normalized_data]) #.dropna(axis=1, how=\"all\")])\n",
       "</pre>\n"
      ],
      "text/plain": [
       "/var/folders/7t/k8q3439j6z3c683j7w00wtm80000gn/T/ipykernel_58430/330735155.py:26: FutureWarning: The behavior of \n",
       "DataFrame concatenation with empty or all-NA entries is deprecated. In a future version, this will no longer \n",
       "exclude empty or all-NA columns when determining the result dtypes. To retain the old behavior, exclude the \n",
       "relevant entries before the concat operation.\n",
       "  results = pd.concat([results, normalized_data]) #.dropna(axis=1, how=\"all\")])\n"
      ]
     },
     "metadata": {},
     "output_type": "display_data"
    },
    {
     "data": {
      "text/html": [
       "<pre style=\"white-space:pre;overflow-x:auto;line-height:normal;font-family:Menlo,'DejaVu Sans Mono',consolas,'Courier New',monospace\">/var/folders/7t/k8q3439j6z3c683j7w00wtm80000gn/T/ipykernel_58430/330735155.py:26: FutureWarning: The behavior of \n",
       "DataFrame concatenation with empty or all-NA entries is deprecated. In a future version, this will no longer \n",
       "exclude empty or all-NA columns when determining the result dtypes. To retain the old behavior, exclude the \n",
       "relevant entries before the concat operation.\n",
       "  results = pd.concat([results, normalized_data]) #.dropna(axis=1, how=\"all\")])\n",
       "</pre>\n"
      ],
      "text/plain": [
       "/var/folders/7t/k8q3439j6z3c683j7w00wtm80000gn/T/ipykernel_58430/330735155.py:26: FutureWarning: The behavior of \n",
       "DataFrame concatenation with empty or all-NA entries is deprecated. In a future version, this will no longer \n",
       "exclude empty or all-NA columns when determining the result dtypes. To retain the old behavior, exclude the \n",
       "relevant entries before the concat operation.\n",
       "  results = pd.concat([results, normalized_data]) #.dropna(axis=1, how=\"all\")])\n"
      ]
     },
     "metadata": {},
     "output_type": "display_data"
    },
    {
     "data": {
      "text/html": [
       "<pre style=\"white-space:pre;overflow-x:auto;line-height:normal;font-family:Menlo,'DejaVu Sans Mono',consolas,'Courier New',monospace\">/var/folders/7t/k8q3439j6z3c683j7w00wtm80000gn/T/ipykernel_58430/330735155.py:26: FutureWarning: The behavior of \n",
       "DataFrame concatenation with empty or all-NA entries is deprecated. In a future version, this will no longer \n",
       "exclude empty or all-NA columns when determining the result dtypes. To retain the old behavior, exclude the \n",
       "relevant entries before the concat operation.\n",
       "  results = pd.concat([results, normalized_data]) #.dropna(axis=1, how=\"all\")])\n",
       "</pre>\n"
      ],
      "text/plain": [
       "/var/folders/7t/k8q3439j6z3c683j7w00wtm80000gn/T/ipykernel_58430/330735155.py:26: FutureWarning: The behavior of \n",
       "DataFrame concatenation with empty or all-NA entries is deprecated. In a future version, this will no longer \n",
       "exclude empty or all-NA columns when determining the result dtypes. To retain the old behavior, exclude the \n",
       "relevant entries before the concat operation.\n",
       "  results = pd.concat([results, normalized_data]) #.dropna(axis=1, how=\"all\")])\n"
      ]
     },
     "metadata": {},
     "output_type": "display_data"
    },
    {
     "data": {
      "text/html": [
       "<pre style=\"white-space:pre;overflow-x:auto;line-height:normal;font-family:Menlo,'DejaVu Sans Mono',consolas,'Courier New',monospace\">/var/folders/7t/k8q3439j6z3c683j7w00wtm80000gn/T/ipykernel_58430/330735155.py:26: FutureWarning: The behavior of \n",
       "DataFrame concatenation with empty or all-NA entries is deprecated. In a future version, this will no longer \n",
       "exclude empty or all-NA columns when determining the result dtypes. To retain the old behavior, exclude the \n",
       "relevant entries before the concat operation.\n",
       "  results = pd.concat([results, normalized_data]) #.dropna(axis=1, how=\"all\")])\n",
       "</pre>\n"
      ],
      "text/plain": [
       "/var/folders/7t/k8q3439j6z3c683j7w00wtm80000gn/T/ipykernel_58430/330735155.py:26: FutureWarning: The behavior of \n",
       "DataFrame concatenation with empty or all-NA entries is deprecated. In a future version, this will no longer \n",
       "exclude empty or all-NA columns when determining the result dtypes. To retain the old behavior, exclude the \n",
       "relevant entries before the concat operation.\n",
       "  results = pd.concat([results, normalized_data]) #.dropna(axis=1, how=\"all\")])\n"
      ]
     },
     "metadata": {},
     "output_type": "display_data"
    },
    {
     "data": {
      "text/html": [
       "<pre style=\"white-space:pre;overflow-x:auto;line-height:normal;font-family:Menlo,'DejaVu Sans Mono',consolas,'Courier New',monospace\">/var/folders/7t/k8q3439j6z3c683j7w00wtm80000gn/T/ipykernel_58430/330735155.py:26: FutureWarning: The behavior of \n",
       "DataFrame concatenation with empty or all-NA entries is deprecated. In a future version, this will no longer \n",
       "exclude empty or all-NA columns when determining the result dtypes. To retain the old behavior, exclude the \n",
       "relevant entries before the concat operation.\n",
       "  results = pd.concat([results, normalized_data]) #.dropna(axis=1, how=\"all\")])\n",
       "</pre>\n"
      ],
      "text/plain": [
       "/var/folders/7t/k8q3439j6z3c683j7w00wtm80000gn/T/ipykernel_58430/330735155.py:26: FutureWarning: The behavior of \n",
       "DataFrame concatenation with empty or all-NA entries is deprecated. In a future version, this will no longer \n",
       "exclude empty or all-NA columns when determining the result dtypes. To retain the old behavior, exclude the \n",
       "relevant entries before the concat operation.\n",
       "  results = pd.concat([results, normalized_data]) #.dropna(axis=1, how=\"all\")])\n"
      ]
     },
     "metadata": {},
     "output_type": "display_data"
    },
    {
     "data": {
      "text/html": [
       "<pre style=\"white-space:pre;overflow-x:auto;line-height:normal;font-family:Menlo,'DejaVu Sans Mono',consolas,'Courier New',monospace\">/var/folders/7t/k8q3439j6z3c683j7w00wtm80000gn/T/ipykernel_58430/330735155.py:26: FutureWarning: The behavior of \n",
       "DataFrame concatenation with empty or all-NA entries is deprecated. In a future version, this will no longer \n",
       "exclude empty or all-NA columns when determining the result dtypes. To retain the old behavior, exclude the \n",
       "relevant entries before the concat operation.\n",
       "  results = pd.concat([results, normalized_data]) #.dropna(axis=1, how=\"all\")])\n",
       "</pre>\n"
      ],
      "text/plain": [
       "/var/folders/7t/k8q3439j6z3c683j7w00wtm80000gn/T/ipykernel_58430/330735155.py:26: FutureWarning: The behavior of \n",
       "DataFrame concatenation with empty or all-NA entries is deprecated. In a future version, this will no longer \n",
       "exclude empty or all-NA columns when determining the result dtypes. To retain the old behavior, exclude the \n",
       "relevant entries before the concat operation.\n",
       "  results = pd.concat([results, normalized_data]) #.dropna(axis=1, how=\"all\")])\n"
      ]
     },
     "metadata": {},
     "output_type": "display_data"
    },
    {
     "data": {
      "text/html": [
       "<pre style=\"white-space:pre;overflow-x:auto;line-height:normal;font-family:Menlo,'DejaVu Sans Mono',consolas,'Courier New',monospace\">/var/folders/7t/k8q3439j6z3c683j7w00wtm80000gn/T/ipykernel_58430/330735155.py:26: FutureWarning: The behavior of \n",
       "DataFrame concatenation with empty or all-NA entries is deprecated. In a future version, this will no longer \n",
       "exclude empty or all-NA columns when determining the result dtypes. To retain the old behavior, exclude the \n",
       "relevant entries before the concat operation.\n",
       "  results = pd.concat([results, normalized_data]) #.dropna(axis=1, how=\"all\")])\n",
       "</pre>\n"
      ],
      "text/plain": [
       "/var/folders/7t/k8q3439j6z3c683j7w00wtm80000gn/T/ipykernel_58430/330735155.py:26: FutureWarning: The behavior of \n",
       "DataFrame concatenation with empty or all-NA entries is deprecated. In a future version, this will no longer \n",
       "exclude empty or all-NA columns when determining the result dtypes. To retain the old behavior, exclude the \n",
       "relevant entries before the concat operation.\n",
       "  results = pd.concat([results, normalized_data]) #.dropna(axis=1, how=\"all\")])\n"
      ]
     },
     "metadata": {},
     "output_type": "display_data"
    },
    {
     "data": {
      "text/html": [
       "<pre style=\"white-space:pre;overflow-x:auto;line-height:normal;font-family:Menlo,'DejaVu Sans Mono',consolas,'Courier New',monospace\">/var/folders/7t/k8q3439j6z3c683j7w00wtm80000gn/T/ipykernel_58430/330735155.py:26: FutureWarning: The behavior of \n",
       "DataFrame concatenation with empty or all-NA entries is deprecated. In a future version, this will no longer \n",
       "exclude empty or all-NA columns when determining the result dtypes. To retain the old behavior, exclude the \n",
       "relevant entries before the concat operation.\n",
       "  results = pd.concat([results, normalized_data]) #.dropna(axis=1, how=\"all\")])\n",
       "</pre>\n"
      ],
      "text/plain": [
       "/var/folders/7t/k8q3439j6z3c683j7w00wtm80000gn/T/ipykernel_58430/330735155.py:26: FutureWarning: The behavior of \n",
       "DataFrame concatenation with empty or all-NA entries is deprecated. In a future version, this will no longer \n",
       "exclude empty or all-NA columns when determining the result dtypes. To retain the old behavior, exclude the \n",
       "relevant entries before the concat operation.\n",
       "  results = pd.concat([results, normalized_data]) #.dropna(axis=1, how=\"all\")])\n"
      ]
     },
     "metadata": {},
     "output_type": "display_data"
    },
    {
     "data": {
      "text/html": [
       "<pre style=\"white-space:pre;overflow-x:auto;line-height:normal;font-family:Menlo,'DejaVu Sans Mono',consolas,'Courier New',monospace\">/var/folders/7t/k8q3439j6z3c683j7w00wtm80000gn/T/ipykernel_58430/330735155.py:26: FutureWarning: The behavior of \n",
       "DataFrame concatenation with empty or all-NA entries is deprecated. In a future version, this will no longer \n",
       "exclude empty or all-NA columns when determining the result dtypes. To retain the old behavior, exclude the \n",
       "relevant entries before the concat operation.\n",
       "  results = pd.concat([results, normalized_data]) #.dropna(axis=1, how=\"all\")])\n",
       "</pre>\n"
      ],
      "text/plain": [
       "/var/folders/7t/k8q3439j6z3c683j7w00wtm80000gn/T/ipykernel_58430/330735155.py:26: FutureWarning: The behavior of \n",
       "DataFrame concatenation with empty or all-NA entries is deprecated. In a future version, this will no longer \n",
       "exclude empty or all-NA columns when determining the result dtypes. To retain the old behavior, exclude the \n",
       "relevant entries before the concat operation.\n",
       "  results = pd.concat([results, normalized_data]) #.dropna(axis=1, how=\"all\")])\n"
      ]
     },
     "metadata": {},
     "output_type": "display_data"
    },
    {
     "data": {
      "text/html": [
       "<pre style=\"white-space:pre;overflow-x:auto;line-height:normal;font-family:Menlo,'DejaVu Sans Mono',consolas,'Courier New',monospace\">/var/folders/7t/k8q3439j6z3c683j7w00wtm80000gn/T/ipykernel_58430/330735155.py:26: FutureWarning: The behavior of \n",
       "DataFrame concatenation with empty or all-NA entries is deprecated. In a future version, this will no longer \n",
       "exclude empty or all-NA columns when determining the result dtypes. To retain the old behavior, exclude the \n",
       "relevant entries before the concat operation.\n",
       "  results = pd.concat([results, normalized_data]) #.dropna(axis=1, how=\"all\")])\n",
       "</pre>\n"
      ],
      "text/plain": [
       "/var/folders/7t/k8q3439j6z3c683j7w00wtm80000gn/T/ipykernel_58430/330735155.py:26: FutureWarning: The behavior of \n",
       "DataFrame concatenation with empty or all-NA entries is deprecated. In a future version, this will no longer \n",
       "exclude empty or all-NA columns when determining the result dtypes. To retain the old behavior, exclude the \n",
       "relevant entries before the concat operation.\n",
       "  results = pd.concat([results, normalized_data]) #.dropna(axis=1, how=\"all\")])\n"
      ]
     },
     "metadata": {},
     "output_type": "display_data"
    },
    {
     "data": {
      "text/html": [
       "<pre style=\"white-space:pre;overflow-x:auto;line-height:normal;font-family:Menlo,'DejaVu Sans Mono',consolas,'Courier New',monospace\">/var/folders/7t/k8q3439j6z3c683j7w00wtm80000gn/T/ipykernel_58430/330735155.py:26: FutureWarning: The behavior of \n",
       "DataFrame concatenation with empty or all-NA entries is deprecated. In a future version, this will no longer \n",
       "exclude empty or all-NA columns when determining the result dtypes. To retain the old behavior, exclude the \n",
       "relevant entries before the concat operation.\n",
       "  results = pd.concat([results, normalized_data]) #.dropna(axis=1, how=\"all\")])\n",
       "</pre>\n"
      ],
      "text/plain": [
       "/var/folders/7t/k8q3439j6z3c683j7w00wtm80000gn/T/ipykernel_58430/330735155.py:26: FutureWarning: The behavior of \n",
       "DataFrame concatenation with empty or all-NA entries is deprecated. In a future version, this will no longer \n",
       "exclude empty or all-NA columns when determining the result dtypes. To retain the old behavior, exclude the \n",
       "relevant entries before the concat operation.\n",
       "  results = pd.concat([results, normalized_data]) #.dropna(axis=1, how=\"all\")])\n"
      ]
     },
     "metadata": {},
     "output_type": "display_data"
    },
    {
     "data": {
      "text/html": [
       "<pre style=\"white-space:pre;overflow-x:auto;line-height:normal;font-family:Menlo,'DejaVu Sans Mono',consolas,'Courier New',monospace\">/var/folders/7t/k8q3439j6z3c683j7w00wtm80000gn/T/ipykernel_58430/330735155.py:26: FutureWarning: The behavior of \n",
       "DataFrame concatenation with empty or all-NA entries is deprecated. In a future version, this will no longer \n",
       "exclude empty or all-NA columns when determining the result dtypes. To retain the old behavior, exclude the \n",
       "relevant entries before the concat operation.\n",
       "  results = pd.concat([results, normalized_data]) #.dropna(axis=1, how=\"all\")])\n",
       "</pre>\n"
      ],
      "text/plain": [
       "/var/folders/7t/k8q3439j6z3c683j7w00wtm80000gn/T/ipykernel_58430/330735155.py:26: FutureWarning: The behavior of \n",
       "DataFrame concatenation with empty or all-NA entries is deprecated. In a future version, this will no longer \n",
       "exclude empty or all-NA columns when determining the result dtypes. To retain the old behavior, exclude the \n",
       "relevant entries before the concat operation.\n",
       "  results = pd.concat([results, normalized_data]) #.dropna(axis=1, how=\"all\")])\n"
      ]
     },
     "metadata": {},
     "output_type": "display_data"
    },
    {
     "data": {
      "text/html": [
       "<pre style=\"white-space:pre;overflow-x:auto;line-height:normal;font-family:Menlo,'DejaVu Sans Mono',consolas,'Courier New',monospace\">/var/folders/7t/k8q3439j6z3c683j7w00wtm80000gn/T/ipykernel_58430/330735155.py:26: FutureWarning: The behavior of \n",
       "DataFrame concatenation with empty or all-NA entries is deprecated. In a future version, this will no longer \n",
       "exclude empty or all-NA columns when determining the result dtypes. To retain the old behavior, exclude the \n",
       "relevant entries before the concat operation.\n",
       "  results = pd.concat([results, normalized_data]) #.dropna(axis=1, how=\"all\")])\n",
       "</pre>\n"
      ],
      "text/plain": [
       "/var/folders/7t/k8q3439j6z3c683j7w00wtm80000gn/T/ipykernel_58430/330735155.py:26: FutureWarning: The behavior of \n",
       "DataFrame concatenation with empty or all-NA entries is deprecated. In a future version, this will no longer \n",
       "exclude empty or all-NA columns when determining the result dtypes. To retain the old behavior, exclude the \n",
       "relevant entries before the concat operation.\n",
       "  results = pd.concat([results, normalized_data]) #.dropna(axis=1, how=\"all\")])\n"
      ]
     },
     "metadata": {},
     "output_type": "display_data"
    },
    {
     "data": {
      "text/html": [
       "<pre style=\"white-space:pre;overflow-x:auto;line-height:normal;font-family:Menlo,'DejaVu Sans Mono',consolas,'Courier New',monospace\">/var/folders/7t/k8q3439j6z3c683j7w00wtm80000gn/T/ipykernel_58430/330735155.py:26: FutureWarning: The behavior of \n",
       "DataFrame concatenation with empty or all-NA entries is deprecated. In a future version, this will no longer \n",
       "exclude empty or all-NA columns when determining the result dtypes. To retain the old behavior, exclude the \n",
       "relevant entries before the concat operation.\n",
       "  results = pd.concat([results, normalized_data]) #.dropna(axis=1, how=\"all\")])\n",
       "</pre>\n"
      ],
      "text/plain": [
       "/var/folders/7t/k8q3439j6z3c683j7w00wtm80000gn/T/ipykernel_58430/330735155.py:26: FutureWarning: The behavior of \n",
       "DataFrame concatenation with empty or all-NA entries is deprecated. In a future version, this will no longer \n",
       "exclude empty or all-NA columns when determining the result dtypes. To retain the old behavior, exclude the \n",
       "relevant entries before the concat operation.\n",
       "  results = pd.concat([results, normalized_data]) #.dropna(axis=1, how=\"all\")])\n"
      ]
     },
     "metadata": {},
     "output_type": "display_data"
    },
    {
     "data": {
      "text/html": [
       "<pre style=\"white-space:pre;overflow-x:auto;line-height:normal;font-family:Menlo,'DejaVu Sans Mono',consolas,'Courier New',monospace\">/var/folders/7t/k8q3439j6z3c683j7w00wtm80000gn/T/ipykernel_58430/330735155.py:26: FutureWarning: The behavior of \n",
       "DataFrame concatenation with empty or all-NA entries is deprecated. In a future version, this will no longer \n",
       "exclude empty or all-NA columns when determining the result dtypes. To retain the old behavior, exclude the \n",
       "relevant entries before the concat operation.\n",
       "  results = pd.concat([results, normalized_data]) #.dropna(axis=1, how=\"all\")])\n",
       "</pre>\n"
      ],
      "text/plain": [
       "/var/folders/7t/k8q3439j6z3c683j7w00wtm80000gn/T/ipykernel_58430/330735155.py:26: FutureWarning: The behavior of \n",
       "DataFrame concatenation with empty or all-NA entries is deprecated. In a future version, this will no longer \n",
       "exclude empty or all-NA columns when determining the result dtypes. To retain the old behavior, exclude the \n",
       "relevant entries before the concat operation.\n",
       "  results = pd.concat([results, normalized_data]) #.dropna(axis=1, how=\"all\")])\n"
      ]
     },
     "metadata": {},
     "output_type": "display_data"
    },
    {
     "data": {
      "text/html": [
       "<pre style=\"white-space:pre;overflow-x:auto;line-height:normal;font-family:Menlo,'DejaVu Sans Mono',consolas,'Courier New',monospace\">/var/folders/7t/k8q3439j6z3c683j7w00wtm80000gn/T/ipykernel_58430/330735155.py:26: FutureWarning: The behavior of \n",
       "DataFrame concatenation with empty or all-NA entries is deprecated. In a future version, this will no longer \n",
       "exclude empty or all-NA columns when determining the result dtypes. To retain the old behavior, exclude the \n",
       "relevant entries before the concat operation.\n",
       "  results = pd.concat([results, normalized_data]) #.dropna(axis=1, how=\"all\")])\n",
       "</pre>\n"
      ],
      "text/plain": [
       "/var/folders/7t/k8q3439j6z3c683j7w00wtm80000gn/T/ipykernel_58430/330735155.py:26: FutureWarning: The behavior of \n",
       "DataFrame concatenation with empty or all-NA entries is deprecated. In a future version, this will no longer \n",
       "exclude empty or all-NA columns when determining the result dtypes. To retain the old behavior, exclude the \n",
       "relevant entries before the concat operation.\n",
       "  results = pd.concat([results, normalized_data]) #.dropna(axis=1, how=\"all\")])\n"
      ]
     },
     "metadata": {},
     "output_type": "display_data"
    },
    {
     "data": {
      "text/html": [
       "<pre style=\"white-space:pre;overflow-x:auto;line-height:normal;font-family:Menlo,'DejaVu Sans Mono',consolas,'Courier New',monospace\">/var/folders/7t/k8q3439j6z3c683j7w00wtm80000gn/T/ipykernel_58430/330735155.py:26: FutureWarning: The behavior of \n",
       "DataFrame concatenation with empty or all-NA entries is deprecated. In a future version, this will no longer \n",
       "exclude empty or all-NA columns when determining the result dtypes. To retain the old behavior, exclude the \n",
       "relevant entries before the concat operation.\n",
       "  results = pd.concat([results, normalized_data]) #.dropna(axis=1, how=\"all\")])\n",
       "</pre>\n"
      ],
      "text/plain": [
       "/var/folders/7t/k8q3439j6z3c683j7w00wtm80000gn/T/ipykernel_58430/330735155.py:26: FutureWarning: The behavior of \n",
       "DataFrame concatenation with empty or all-NA entries is deprecated. In a future version, this will no longer \n",
       "exclude empty or all-NA columns when determining the result dtypes. To retain the old behavior, exclude the \n",
       "relevant entries before the concat operation.\n",
       "  results = pd.concat([results, normalized_data]) #.dropna(axis=1, how=\"all\")])\n"
      ]
     },
     "metadata": {},
     "output_type": "display_data"
    },
    {
     "data": {
      "text/html": [
       "<pre style=\"white-space:pre;overflow-x:auto;line-height:normal;font-family:Menlo,'DejaVu Sans Mono',consolas,'Courier New',monospace\">/var/folders/7t/k8q3439j6z3c683j7w00wtm80000gn/T/ipykernel_58430/330735155.py:26: FutureWarning: The behavior of \n",
       "DataFrame concatenation with empty or all-NA entries is deprecated. In a future version, this will no longer \n",
       "exclude empty or all-NA columns when determining the result dtypes. To retain the old behavior, exclude the \n",
       "relevant entries before the concat operation.\n",
       "  results = pd.concat([results, normalized_data]) #.dropna(axis=1, how=\"all\")])\n",
       "</pre>\n"
      ],
      "text/plain": [
       "/var/folders/7t/k8q3439j6z3c683j7w00wtm80000gn/T/ipykernel_58430/330735155.py:26: FutureWarning: The behavior of \n",
       "DataFrame concatenation with empty or all-NA entries is deprecated. In a future version, this will no longer \n",
       "exclude empty or all-NA columns when determining the result dtypes. To retain the old behavior, exclude the \n",
       "relevant entries before the concat operation.\n",
       "  results = pd.concat([results, normalized_data]) #.dropna(axis=1, how=\"all\")])\n"
      ]
     },
     "metadata": {},
     "output_type": "display_data"
    },
    {
     "data": {
      "text/html": [
       "<pre style=\"white-space:pre;overflow-x:auto;line-height:normal;font-family:Menlo,'DejaVu Sans Mono',consolas,'Courier New',monospace\">/var/folders/7t/k8q3439j6z3c683j7w00wtm80000gn/T/ipykernel_58430/330735155.py:26: FutureWarning: The behavior of \n",
       "DataFrame concatenation with empty or all-NA entries is deprecated. In a future version, this will no longer \n",
       "exclude empty or all-NA columns when determining the result dtypes. To retain the old behavior, exclude the \n",
       "relevant entries before the concat operation.\n",
       "  results = pd.concat([results, normalized_data]) #.dropna(axis=1, how=\"all\")])\n",
       "</pre>\n"
      ],
      "text/plain": [
       "/var/folders/7t/k8q3439j6z3c683j7w00wtm80000gn/T/ipykernel_58430/330735155.py:26: FutureWarning: The behavior of \n",
       "DataFrame concatenation with empty or all-NA entries is deprecated. In a future version, this will no longer \n",
       "exclude empty or all-NA columns when determining the result dtypes. To retain the old behavior, exclude the \n",
       "relevant entries before the concat operation.\n",
       "  results = pd.concat([results, normalized_data]) #.dropna(axis=1, how=\"all\")])\n"
      ]
     },
     "metadata": {},
     "output_type": "display_data"
    },
    {
     "data": {
      "text/html": [
       "<pre style=\"white-space:pre;overflow-x:auto;line-height:normal;font-family:Menlo,'DejaVu Sans Mono',consolas,'Courier New',monospace\">/var/folders/7t/k8q3439j6z3c683j7w00wtm80000gn/T/ipykernel_58430/330735155.py:26: FutureWarning: The behavior of \n",
       "DataFrame concatenation with empty or all-NA entries is deprecated. In a future version, this will no longer \n",
       "exclude empty or all-NA columns when determining the result dtypes. To retain the old behavior, exclude the \n",
       "relevant entries before the concat operation.\n",
       "  results = pd.concat([results, normalized_data]) #.dropna(axis=1, how=\"all\")])\n",
       "</pre>\n"
      ],
      "text/plain": [
       "/var/folders/7t/k8q3439j6z3c683j7w00wtm80000gn/T/ipykernel_58430/330735155.py:26: FutureWarning: The behavior of \n",
       "DataFrame concatenation with empty or all-NA entries is deprecated. In a future version, this will no longer \n",
       "exclude empty or all-NA columns when determining the result dtypes. To retain the old behavior, exclude the \n",
       "relevant entries before the concat operation.\n",
       "  results = pd.concat([results, normalized_data]) #.dropna(axis=1, how=\"all\")])\n"
      ]
     },
     "metadata": {},
     "output_type": "display_data"
    },
    {
     "data": {
      "text/html": [
       "<pre style=\"white-space:pre;overflow-x:auto;line-height:normal;font-family:Menlo,'DejaVu Sans Mono',consolas,'Courier New',monospace\">/var/folders/7t/k8q3439j6z3c683j7w00wtm80000gn/T/ipykernel_58430/330735155.py:26: FutureWarning: The behavior of \n",
       "DataFrame concatenation with empty or all-NA entries is deprecated. In a future version, this will no longer \n",
       "exclude empty or all-NA columns when determining the result dtypes. To retain the old behavior, exclude the \n",
       "relevant entries before the concat operation.\n",
       "  results = pd.concat([results, normalized_data]) #.dropna(axis=1, how=\"all\")])\n",
       "</pre>\n"
      ],
      "text/plain": [
       "/var/folders/7t/k8q3439j6z3c683j7w00wtm80000gn/T/ipykernel_58430/330735155.py:26: FutureWarning: The behavior of \n",
       "DataFrame concatenation with empty or all-NA entries is deprecated. In a future version, this will no longer \n",
       "exclude empty or all-NA columns when determining the result dtypes. To retain the old behavior, exclude the \n",
       "relevant entries before the concat operation.\n",
       "  results = pd.concat([results, normalized_data]) #.dropna(axis=1, how=\"all\")])\n"
      ]
     },
     "metadata": {},
     "output_type": "display_data"
    },
    {
     "data": {
      "text/html": [
       "<pre style=\"white-space:pre;overflow-x:auto;line-height:normal;font-family:Menlo,'DejaVu Sans Mono',consolas,'Courier New',monospace\">/var/folders/7t/k8q3439j6z3c683j7w00wtm80000gn/T/ipykernel_58430/330735155.py:26: FutureWarning: The behavior of \n",
       "DataFrame concatenation with empty or all-NA entries is deprecated. In a future version, this will no longer \n",
       "exclude empty or all-NA columns when determining the result dtypes. To retain the old behavior, exclude the \n",
       "relevant entries before the concat operation.\n",
       "  results = pd.concat([results, normalized_data]) #.dropna(axis=1, how=\"all\")])\n",
       "</pre>\n"
      ],
      "text/plain": [
       "/var/folders/7t/k8q3439j6z3c683j7w00wtm80000gn/T/ipykernel_58430/330735155.py:26: FutureWarning: The behavior of \n",
       "DataFrame concatenation with empty or all-NA entries is deprecated. In a future version, this will no longer \n",
       "exclude empty or all-NA columns when determining the result dtypes. To retain the old behavior, exclude the \n",
       "relevant entries before the concat operation.\n",
       "  results = pd.concat([results, normalized_data]) #.dropna(axis=1, how=\"all\")])\n"
      ]
     },
     "metadata": {},
     "output_type": "display_data"
    },
    {
     "data": {
      "text/html": [
       "<pre style=\"white-space:pre;overflow-x:auto;line-height:normal;font-family:Menlo,'DejaVu Sans Mono',consolas,'Courier New',monospace\">/var/folders/7t/k8q3439j6z3c683j7w00wtm80000gn/T/ipykernel_58430/330735155.py:26: FutureWarning: The behavior of \n",
       "DataFrame concatenation with empty or all-NA entries is deprecated. In a future version, this will no longer \n",
       "exclude empty or all-NA columns when determining the result dtypes. To retain the old behavior, exclude the \n",
       "relevant entries before the concat operation.\n",
       "  results = pd.concat([results, normalized_data]) #.dropna(axis=1, how=\"all\")])\n",
       "</pre>\n"
      ],
      "text/plain": [
       "/var/folders/7t/k8q3439j6z3c683j7w00wtm80000gn/T/ipykernel_58430/330735155.py:26: FutureWarning: The behavior of \n",
       "DataFrame concatenation with empty or all-NA entries is deprecated. In a future version, this will no longer \n",
       "exclude empty or all-NA columns when determining the result dtypes. To retain the old behavior, exclude the \n",
       "relevant entries before the concat operation.\n",
       "  results = pd.concat([results, normalized_data]) #.dropna(axis=1, how=\"all\")])\n"
      ]
     },
     "metadata": {},
     "output_type": "display_data"
    },
    {
     "data": {
      "text/html": [
       "<pre style=\"white-space:pre;overflow-x:auto;line-height:normal;font-family:Menlo,'DejaVu Sans Mono',consolas,'Courier New',monospace\">/var/folders/7t/k8q3439j6z3c683j7w00wtm80000gn/T/ipykernel_58430/330735155.py:26: FutureWarning: The behavior of \n",
       "DataFrame concatenation with empty or all-NA entries is deprecated. In a future version, this will no longer \n",
       "exclude empty or all-NA columns when determining the result dtypes. To retain the old behavior, exclude the \n",
       "relevant entries before the concat operation.\n",
       "  results = pd.concat([results, normalized_data]) #.dropna(axis=1, how=\"all\")])\n",
       "</pre>\n"
      ],
      "text/plain": [
       "/var/folders/7t/k8q3439j6z3c683j7w00wtm80000gn/T/ipykernel_58430/330735155.py:26: FutureWarning: The behavior of \n",
       "DataFrame concatenation with empty or all-NA entries is deprecated. In a future version, this will no longer \n",
       "exclude empty or all-NA columns when determining the result dtypes. To retain the old behavior, exclude the \n",
       "relevant entries before the concat operation.\n",
       "  results = pd.concat([results, normalized_data]) #.dropna(axis=1, how=\"all\")])\n"
      ]
     },
     "metadata": {},
     "output_type": "display_data"
    },
    {
     "data": {
      "text/html": [
       "<pre style=\"white-space:pre;overflow-x:auto;line-height:normal;font-family:Menlo,'DejaVu Sans Mono',consolas,'Courier New',monospace\">/var/folders/7t/k8q3439j6z3c683j7w00wtm80000gn/T/ipykernel_58430/330735155.py:26: FutureWarning: The behavior of \n",
       "DataFrame concatenation with empty or all-NA entries is deprecated. In a future version, this will no longer \n",
       "exclude empty or all-NA columns when determining the result dtypes. To retain the old behavior, exclude the \n",
       "relevant entries before the concat operation.\n",
       "  results = pd.concat([results, normalized_data]) #.dropna(axis=1, how=\"all\")])\n",
       "</pre>\n"
      ],
      "text/plain": [
       "/var/folders/7t/k8q3439j6z3c683j7w00wtm80000gn/T/ipykernel_58430/330735155.py:26: FutureWarning: The behavior of \n",
       "DataFrame concatenation with empty or all-NA entries is deprecated. In a future version, this will no longer \n",
       "exclude empty or all-NA columns when determining the result dtypes. To retain the old behavior, exclude the \n",
       "relevant entries before the concat operation.\n",
       "  results = pd.concat([results, normalized_data]) #.dropna(axis=1, how=\"all\")])\n"
      ]
     },
     "metadata": {},
     "output_type": "display_data"
    },
    {
     "data": {
      "text/html": [
       "<pre style=\"white-space:pre;overflow-x:auto;line-height:normal;font-family:Menlo,'DejaVu Sans Mono',consolas,'Courier New',monospace\">/var/folders/7t/k8q3439j6z3c683j7w00wtm80000gn/T/ipykernel_58430/330735155.py:26: FutureWarning: The behavior of \n",
       "DataFrame concatenation with empty or all-NA entries is deprecated. In a future version, this will no longer \n",
       "exclude empty or all-NA columns when determining the result dtypes. To retain the old behavior, exclude the \n",
       "relevant entries before the concat operation.\n",
       "  results = pd.concat([results, normalized_data]) #.dropna(axis=1, how=\"all\")])\n",
       "</pre>\n"
      ],
      "text/plain": [
       "/var/folders/7t/k8q3439j6z3c683j7w00wtm80000gn/T/ipykernel_58430/330735155.py:26: FutureWarning: The behavior of \n",
       "DataFrame concatenation with empty or all-NA entries is deprecated. In a future version, this will no longer \n",
       "exclude empty or all-NA columns when determining the result dtypes. To retain the old behavior, exclude the \n",
       "relevant entries before the concat operation.\n",
       "  results = pd.concat([results, normalized_data]) #.dropna(axis=1, how=\"all\")])\n"
      ]
     },
     "metadata": {},
     "output_type": "display_data"
    },
    {
     "data": {
      "text/html": [
       "<pre style=\"white-space:pre;overflow-x:auto;line-height:normal;font-family:Menlo,'DejaVu Sans Mono',consolas,'Courier New',monospace\">/var/folders/7t/k8q3439j6z3c683j7w00wtm80000gn/T/ipykernel_58430/330735155.py:26: FutureWarning: The behavior of \n",
       "DataFrame concatenation with empty or all-NA entries is deprecated. In a future version, this will no longer \n",
       "exclude empty or all-NA columns when determining the result dtypes. To retain the old behavior, exclude the \n",
       "relevant entries before the concat operation.\n",
       "  results = pd.concat([results, normalized_data]) #.dropna(axis=1, how=\"all\")])\n",
       "</pre>\n"
      ],
      "text/plain": [
       "/var/folders/7t/k8q3439j6z3c683j7w00wtm80000gn/T/ipykernel_58430/330735155.py:26: FutureWarning: The behavior of \n",
       "DataFrame concatenation with empty or all-NA entries is deprecated. In a future version, this will no longer \n",
       "exclude empty or all-NA columns when determining the result dtypes. To retain the old behavior, exclude the \n",
       "relevant entries before the concat operation.\n",
       "  results = pd.concat([results, normalized_data]) #.dropna(axis=1, how=\"all\")])\n"
      ]
     },
     "metadata": {},
     "output_type": "display_data"
    },
    {
     "data": {
      "text/html": [
       "<pre style=\"white-space:pre;overflow-x:auto;line-height:normal;font-family:Menlo,'DejaVu Sans Mono',consolas,'Courier New',monospace\">/var/folders/7t/k8q3439j6z3c683j7w00wtm80000gn/T/ipykernel_58430/330735155.py:26: FutureWarning: The behavior of \n",
       "DataFrame concatenation with empty or all-NA entries is deprecated. In a future version, this will no longer \n",
       "exclude empty or all-NA columns when determining the result dtypes. To retain the old behavior, exclude the \n",
       "relevant entries before the concat operation.\n",
       "  results = pd.concat([results, normalized_data]) #.dropna(axis=1, how=\"all\")])\n",
       "</pre>\n"
      ],
      "text/plain": [
       "/var/folders/7t/k8q3439j6z3c683j7w00wtm80000gn/T/ipykernel_58430/330735155.py:26: FutureWarning: The behavior of \n",
       "DataFrame concatenation with empty or all-NA entries is deprecated. In a future version, this will no longer \n",
       "exclude empty or all-NA columns when determining the result dtypes. To retain the old behavior, exclude the \n",
       "relevant entries before the concat operation.\n",
       "  results = pd.concat([results, normalized_data]) #.dropna(axis=1, how=\"all\")])\n"
      ]
     },
     "metadata": {},
     "output_type": "display_data"
    },
    {
     "data": {
      "text/html": [
       "<pre style=\"white-space:pre;overflow-x:auto;line-height:normal;font-family:Menlo,'DejaVu Sans Mono',consolas,'Courier New',monospace\">/var/folders/7t/k8q3439j6z3c683j7w00wtm80000gn/T/ipykernel_58430/330735155.py:26: FutureWarning: The behavior of \n",
       "DataFrame concatenation with empty or all-NA entries is deprecated. In a future version, this will no longer \n",
       "exclude empty or all-NA columns when determining the result dtypes. To retain the old behavior, exclude the \n",
       "relevant entries before the concat operation.\n",
       "  results = pd.concat([results, normalized_data]) #.dropna(axis=1, how=\"all\")])\n",
       "</pre>\n"
      ],
      "text/plain": [
       "/var/folders/7t/k8q3439j6z3c683j7w00wtm80000gn/T/ipykernel_58430/330735155.py:26: FutureWarning: The behavior of \n",
       "DataFrame concatenation with empty or all-NA entries is deprecated. In a future version, this will no longer \n",
       "exclude empty or all-NA columns when determining the result dtypes. To retain the old behavior, exclude the \n",
       "relevant entries before the concat operation.\n",
       "  results = pd.concat([results, normalized_data]) #.dropna(axis=1, how=\"all\")])\n"
      ]
     },
     "metadata": {},
     "output_type": "display_data"
    },
    {
     "data": {
      "text/html": [
       "<pre style=\"white-space:pre;overflow-x:auto;line-height:normal;font-family:Menlo,'DejaVu Sans Mono',consolas,'Courier New',monospace\">/var/folders/7t/k8q3439j6z3c683j7w00wtm80000gn/T/ipykernel_58430/330735155.py:26: FutureWarning: The behavior of \n",
       "DataFrame concatenation with empty or all-NA entries is deprecated. In a future version, this will no longer \n",
       "exclude empty or all-NA columns when determining the result dtypes. To retain the old behavior, exclude the \n",
       "relevant entries before the concat operation.\n",
       "  results = pd.concat([results, normalized_data]) #.dropna(axis=1, how=\"all\")])\n",
       "</pre>\n"
      ],
      "text/plain": [
       "/var/folders/7t/k8q3439j6z3c683j7w00wtm80000gn/T/ipykernel_58430/330735155.py:26: FutureWarning: The behavior of \n",
       "DataFrame concatenation with empty or all-NA entries is deprecated. In a future version, this will no longer \n",
       "exclude empty or all-NA columns when determining the result dtypes. To retain the old behavior, exclude the \n",
       "relevant entries before the concat operation.\n",
       "  results = pd.concat([results, normalized_data]) #.dropna(axis=1, how=\"all\")])\n"
      ]
     },
     "metadata": {},
     "output_type": "display_data"
    },
    {
     "data": {
      "text/html": [
       "<pre style=\"white-space:pre;overflow-x:auto;line-height:normal;font-family:Menlo,'DejaVu Sans Mono',consolas,'Courier New',monospace\">/var/folders/7t/k8q3439j6z3c683j7w00wtm80000gn/T/ipykernel_58430/330735155.py:26: FutureWarning: The behavior of \n",
       "DataFrame concatenation with empty or all-NA entries is deprecated. In a future version, this will no longer \n",
       "exclude empty or all-NA columns when determining the result dtypes. To retain the old behavior, exclude the \n",
       "relevant entries before the concat operation.\n",
       "  results = pd.concat([results, normalized_data]) #.dropna(axis=1, how=\"all\")])\n",
       "</pre>\n"
      ],
      "text/plain": [
       "/var/folders/7t/k8q3439j6z3c683j7w00wtm80000gn/T/ipykernel_58430/330735155.py:26: FutureWarning: The behavior of \n",
       "DataFrame concatenation with empty or all-NA entries is deprecated. In a future version, this will no longer \n",
       "exclude empty or all-NA columns when determining the result dtypes. To retain the old behavior, exclude the \n",
       "relevant entries before the concat operation.\n",
       "  results = pd.concat([results, normalized_data]) #.dropna(axis=1, how=\"all\")])\n"
      ]
     },
     "metadata": {},
     "output_type": "display_data"
    },
    {
     "data": {
      "text/html": [
       "<pre style=\"white-space:pre;overflow-x:auto;line-height:normal;font-family:Menlo,'DejaVu Sans Mono',consolas,'Courier New',monospace\">/var/folders/7t/k8q3439j6z3c683j7w00wtm80000gn/T/ipykernel_58430/330735155.py:26: FutureWarning: The behavior of \n",
       "DataFrame concatenation with empty or all-NA entries is deprecated. In a future version, this will no longer \n",
       "exclude empty or all-NA columns when determining the result dtypes. To retain the old behavior, exclude the \n",
       "relevant entries before the concat operation.\n",
       "  results = pd.concat([results, normalized_data]) #.dropna(axis=1, how=\"all\")])\n",
       "</pre>\n"
      ],
      "text/plain": [
       "/var/folders/7t/k8q3439j6z3c683j7w00wtm80000gn/T/ipykernel_58430/330735155.py:26: FutureWarning: The behavior of \n",
       "DataFrame concatenation with empty or all-NA entries is deprecated. In a future version, this will no longer \n",
       "exclude empty or all-NA columns when determining the result dtypes. To retain the old behavior, exclude the \n",
       "relevant entries before the concat operation.\n",
       "  results = pd.concat([results, normalized_data]) #.dropna(axis=1, how=\"all\")])\n"
      ]
     },
     "metadata": {},
     "output_type": "display_data"
    },
    {
     "data": {
      "text/html": [
       "<pre style=\"white-space:pre;overflow-x:auto;line-height:normal;font-family:Menlo,'DejaVu Sans Mono',consolas,'Courier New',monospace\">/var/folders/7t/k8q3439j6z3c683j7w00wtm80000gn/T/ipykernel_58430/330735155.py:26: FutureWarning: The behavior of \n",
       "DataFrame concatenation with empty or all-NA entries is deprecated. In a future version, this will no longer \n",
       "exclude empty or all-NA columns when determining the result dtypes. To retain the old behavior, exclude the \n",
       "relevant entries before the concat operation.\n",
       "  results = pd.concat([results, normalized_data]) #.dropna(axis=1, how=\"all\")])\n",
       "</pre>\n"
      ],
      "text/plain": [
       "/var/folders/7t/k8q3439j6z3c683j7w00wtm80000gn/T/ipykernel_58430/330735155.py:26: FutureWarning: The behavior of \n",
       "DataFrame concatenation with empty or all-NA entries is deprecated. In a future version, this will no longer \n",
       "exclude empty or all-NA columns when determining the result dtypes. To retain the old behavior, exclude the \n",
       "relevant entries before the concat operation.\n",
       "  results = pd.concat([results, normalized_data]) #.dropna(axis=1, how=\"all\")])\n"
      ]
     },
     "metadata": {},
     "output_type": "display_data"
    },
    {
     "data": {
      "text/html": [
       "<pre style=\"white-space:pre;overflow-x:auto;line-height:normal;font-family:Menlo,'DejaVu Sans Mono',consolas,'Courier New',monospace\">/var/folders/7t/k8q3439j6z3c683j7w00wtm80000gn/T/ipykernel_58430/330735155.py:26: FutureWarning: The behavior of \n",
       "DataFrame concatenation with empty or all-NA entries is deprecated. In a future version, this will no longer \n",
       "exclude empty or all-NA columns when determining the result dtypes. To retain the old behavior, exclude the \n",
       "relevant entries before the concat operation.\n",
       "  results = pd.concat([results, normalized_data]) #.dropna(axis=1, how=\"all\")])\n",
       "</pre>\n"
      ],
      "text/plain": [
       "/var/folders/7t/k8q3439j6z3c683j7w00wtm80000gn/T/ipykernel_58430/330735155.py:26: FutureWarning: The behavior of \n",
       "DataFrame concatenation with empty or all-NA entries is deprecated. In a future version, this will no longer \n",
       "exclude empty or all-NA columns when determining the result dtypes. To retain the old behavior, exclude the \n",
       "relevant entries before the concat operation.\n",
       "  results = pd.concat([results, normalized_data]) #.dropna(axis=1, how=\"all\")])\n"
      ]
     },
     "metadata": {},
     "output_type": "display_data"
    },
    {
     "data": {
      "text/html": [
       "<pre style=\"white-space:pre;overflow-x:auto;line-height:normal;font-family:Menlo,'DejaVu Sans Mono',consolas,'Courier New',monospace\">/var/folders/7t/k8q3439j6z3c683j7w00wtm80000gn/T/ipykernel_58430/330735155.py:26: FutureWarning: The behavior of \n",
       "DataFrame concatenation with empty or all-NA entries is deprecated. In a future version, this will no longer \n",
       "exclude empty or all-NA columns when determining the result dtypes. To retain the old behavior, exclude the \n",
       "relevant entries before the concat operation.\n",
       "  results = pd.concat([results, normalized_data]) #.dropna(axis=1, how=\"all\")])\n",
       "</pre>\n"
      ],
      "text/plain": [
       "/var/folders/7t/k8q3439j6z3c683j7w00wtm80000gn/T/ipykernel_58430/330735155.py:26: FutureWarning: The behavior of \n",
       "DataFrame concatenation with empty or all-NA entries is deprecated. In a future version, this will no longer \n",
       "exclude empty or all-NA columns when determining the result dtypes. To retain the old behavior, exclude the \n",
       "relevant entries before the concat operation.\n",
       "  results = pd.concat([results, normalized_data]) #.dropna(axis=1, how=\"all\")])\n"
      ]
     },
     "metadata": {},
     "output_type": "display_data"
    },
    {
     "data": {
      "text/html": [
       "<pre style=\"white-space:pre;overflow-x:auto;line-height:normal;font-family:Menlo,'DejaVu Sans Mono',consolas,'Courier New',monospace\">/var/folders/7t/k8q3439j6z3c683j7w00wtm80000gn/T/ipykernel_58430/330735155.py:26: FutureWarning: The behavior of \n",
       "DataFrame concatenation with empty or all-NA entries is deprecated. In a future version, this will no longer \n",
       "exclude empty or all-NA columns when determining the result dtypes. To retain the old behavior, exclude the \n",
       "relevant entries before the concat operation.\n",
       "  results = pd.concat([results, normalized_data]) #.dropna(axis=1, how=\"all\")])\n",
       "</pre>\n"
      ],
      "text/plain": [
       "/var/folders/7t/k8q3439j6z3c683j7w00wtm80000gn/T/ipykernel_58430/330735155.py:26: FutureWarning: The behavior of \n",
       "DataFrame concatenation with empty or all-NA entries is deprecated. In a future version, this will no longer \n",
       "exclude empty or all-NA columns when determining the result dtypes. To retain the old behavior, exclude the \n",
       "relevant entries before the concat operation.\n",
       "  results = pd.concat([results, normalized_data]) #.dropna(axis=1, how=\"all\")])\n"
      ]
     },
     "metadata": {},
     "output_type": "display_data"
    },
    {
     "data": {
      "text/html": [
       "<pre style=\"white-space:pre;overflow-x:auto;line-height:normal;font-family:Menlo,'DejaVu Sans Mono',consolas,'Courier New',monospace\">/var/folders/7t/k8q3439j6z3c683j7w00wtm80000gn/T/ipykernel_58430/330735155.py:26: FutureWarning: The behavior of \n",
       "DataFrame concatenation with empty or all-NA entries is deprecated. In a future version, this will no longer \n",
       "exclude empty or all-NA columns when determining the result dtypes. To retain the old behavior, exclude the \n",
       "relevant entries before the concat operation.\n",
       "  results = pd.concat([results, normalized_data]) #.dropna(axis=1, how=\"all\")])\n",
       "</pre>\n"
      ],
      "text/plain": [
       "/var/folders/7t/k8q3439j6z3c683j7w00wtm80000gn/T/ipykernel_58430/330735155.py:26: FutureWarning: The behavior of \n",
       "DataFrame concatenation with empty or all-NA entries is deprecated. In a future version, this will no longer \n",
       "exclude empty or all-NA columns when determining the result dtypes. To retain the old behavior, exclude the \n",
       "relevant entries before the concat operation.\n",
       "  results = pd.concat([results, normalized_data]) #.dropna(axis=1, how=\"all\")])\n"
      ]
     },
     "metadata": {},
     "output_type": "display_data"
    },
    {
     "data": {
      "text/html": [
       "<pre style=\"white-space:pre;overflow-x:auto;line-height:normal;font-family:Menlo,'DejaVu Sans Mono',consolas,'Courier New',monospace\">/var/folders/7t/k8q3439j6z3c683j7w00wtm80000gn/T/ipykernel_58430/330735155.py:26: FutureWarning: The behavior of \n",
       "DataFrame concatenation with empty or all-NA entries is deprecated. In a future version, this will no longer \n",
       "exclude empty or all-NA columns when determining the result dtypes. To retain the old behavior, exclude the \n",
       "relevant entries before the concat operation.\n",
       "  results = pd.concat([results, normalized_data]) #.dropna(axis=1, how=\"all\")])\n",
       "</pre>\n"
      ],
      "text/plain": [
       "/var/folders/7t/k8q3439j6z3c683j7w00wtm80000gn/T/ipykernel_58430/330735155.py:26: FutureWarning: The behavior of \n",
       "DataFrame concatenation with empty or all-NA entries is deprecated. In a future version, this will no longer \n",
       "exclude empty or all-NA columns when determining the result dtypes. To retain the old behavior, exclude the \n",
       "relevant entries before the concat operation.\n",
       "  results = pd.concat([results, normalized_data]) #.dropna(axis=1, how=\"all\")])\n"
      ]
     },
     "metadata": {},
     "output_type": "display_data"
    },
    {
     "data": {
      "text/html": [
       "<pre style=\"white-space:pre;overflow-x:auto;line-height:normal;font-family:Menlo,'DejaVu Sans Mono',consolas,'Courier New',monospace\">/var/folders/7t/k8q3439j6z3c683j7w00wtm80000gn/T/ipykernel_58430/330735155.py:26: FutureWarning: The behavior of \n",
       "DataFrame concatenation with empty or all-NA entries is deprecated. In a future version, this will no longer \n",
       "exclude empty or all-NA columns when determining the result dtypes. To retain the old behavior, exclude the \n",
       "relevant entries before the concat operation.\n",
       "  results = pd.concat([results, normalized_data]) #.dropna(axis=1, how=\"all\")])\n",
       "</pre>\n"
      ],
      "text/plain": [
       "/var/folders/7t/k8q3439j6z3c683j7w00wtm80000gn/T/ipykernel_58430/330735155.py:26: FutureWarning: The behavior of \n",
       "DataFrame concatenation with empty or all-NA entries is deprecated. In a future version, this will no longer \n",
       "exclude empty or all-NA columns when determining the result dtypes. To retain the old behavior, exclude the \n",
       "relevant entries before the concat operation.\n",
       "  results = pd.concat([results, normalized_data]) #.dropna(axis=1, how=\"all\")])\n"
      ]
     },
     "metadata": {},
     "output_type": "display_data"
    },
    {
     "data": {
      "text/html": [
       "<pre style=\"white-space:pre;overflow-x:auto;line-height:normal;font-family:Menlo,'DejaVu Sans Mono',consolas,'Courier New',monospace\">/var/folders/7t/k8q3439j6z3c683j7w00wtm80000gn/T/ipykernel_58430/330735155.py:26: FutureWarning: The behavior of \n",
       "DataFrame concatenation with empty or all-NA entries is deprecated. In a future version, this will no longer \n",
       "exclude empty or all-NA columns when determining the result dtypes. To retain the old behavior, exclude the \n",
       "relevant entries before the concat operation.\n",
       "  results = pd.concat([results, normalized_data]) #.dropna(axis=1, how=\"all\")])\n",
       "</pre>\n"
      ],
      "text/plain": [
       "/var/folders/7t/k8q3439j6z3c683j7w00wtm80000gn/T/ipykernel_58430/330735155.py:26: FutureWarning: The behavior of \n",
       "DataFrame concatenation with empty or all-NA entries is deprecated. In a future version, this will no longer \n",
       "exclude empty or all-NA columns when determining the result dtypes. To retain the old behavior, exclude the \n",
       "relevant entries before the concat operation.\n",
       "  results = pd.concat([results, normalized_data]) #.dropna(axis=1, how=\"all\")])\n"
      ]
     },
     "metadata": {},
     "output_type": "display_data"
    },
    {
     "data": {
      "text/html": [
       "<pre style=\"white-space:pre;overflow-x:auto;line-height:normal;font-family:Menlo,'DejaVu Sans Mono',consolas,'Courier New',monospace\">/var/folders/7t/k8q3439j6z3c683j7w00wtm80000gn/T/ipykernel_58430/330735155.py:26: FutureWarning: The behavior of \n",
       "DataFrame concatenation with empty or all-NA entries is deprecated. In a future version, this will no longer \n",
       "exclude empty or all-NA columns when determining the result dtypes. To retain the old behavior, exclude the \n",
       "relevant entries before the concat operation.\n",
       "  results = pd.concat([results, normalized_data]) #.dropna(axis=1, how=\"all\")])\n",
       "</pre>\n"
      ],
      "text/plain": [
       "/var/folders/7t/k8q3439j6z3c683j7w00wtm80000gn/T/ipykernel_58430/330735155.py:26: FutureWarning: The behavior of \n",
       "DataFrame concatenation with empty or all-NA entries is deprecated. In a future version, this will no longer \n",
       "exclude empty or all-NA columns when determining the result dtypes. To retain the old behavior, exclude the \n",
       "relevant entries before the concat operation.\n",
       "  results = pd.concat([results, normalized_data]) #.dropna(axis=1, how=\"all\")])\n"
      ]
     },
     "metadata": {},
     "output_type": "display_data"
    },
    {
     "data": {
      "text/html": [
       "<pre style=\"white-space:pre;overflow-x:auto;line-height:normal;font-family:Menlo,'DejaVu Sans Mono',consolas,'Courier New',monospace\">/var/folders/7t/k8q3439j6z3c683j7w00wtm80000gn/T/ipykernel_58430/330735155.py:26: FutureWarning: The behavior of \n",
       "DataFrame concatenation with empty or all-NA entries is deprecated. In a future version, this will no longer \n",
       "exclude empty or all-NA columns when determining the result dtypes. To retain the old behavior, exclude the \n",
       "relevant entries before the concat operation.\n",
       "  results = pd.concat([results, normalized_data]) #.dropna(axis=1, how=\"all\")])\n",
       "</pre>\n"
      ],
      "text/plain": [
       "/var/folders/7t/k8q3439j6z3c683j7w00wtm80000gn/T/ipykernel_58430/330735155.py:26: FutureWarning: The behavior of \n",
       "DataFrame concatenation with empty or all-NA entries is deprecated. In a future version, this will no longer \n",
       "exclude empty or all-NA columns when determining the result dtypes. To retain the old behavior, exclude the \n",
       "relevant entries before the concat operation.\n",
       "  results = pd.concat([results, normalized_data]) #.dropna(axis=1, how=\"all\")])\n"
      ]
     },
     "metadata": {},
     "output_type": "display_data"
    },
    {
     "data": {
      "text/html": [
       "<pre style=\"white-space:pre;overflow-x:auto;line-height:normal;font-family:Menlo,'DejaVu Sans Mono',consolas,'Courier New',monospace\">/var/folders/7t/k8q3439j6z3c683j7w00wtm80000gn/T/ipykernel_58430/330735155.py:26: FutureWarning: The behavior of \n",
       "DataFrame concatenation with empty or all-NA entries is deprecated. In a future version, this will no longer \n",
       "exclude empty or all-NA columns when determining the result dtypes. To retain the old behavior, exclude the \n",
       "relevant entries before the concat operation.\n",
       "  results = pd.concat([results, normalized_data]) #.dropna(axis=1, how=\"all\")])\n",
       "</pre>\n"
      ],
      "text/plain": [
       "/var/folders/7t/k8q3439j6z3c683j7w00wtm80000gn/T/ipykernel_58430/330735155.py:26: FutureWarning: The behavior of \n",
       "DataFrame concatenation with empty or all-NA entries is deprecated. In a future version, this will no longer \n",
       "exclude empty or all-NA columns when determining the result dtypes. To retain the old behavior, exclude the \n",
       "relevant entries before the concat operation.\n",
       "  results = pd.concat([results, normalized_data]) #.dropna(axis=1, how=\"all\")])\n"
      ]
     },
     "metadata": {},
     "output_type": "display_data"
    },
    {
     "data": {
      "text/html": [
       "<pre style=\"white-space:pre;overflow-x:auto;line-height:normal;font-family:Menlo,'DejaVu Sans Mono',consolas,'Courier New',monospace\">/var/folders/7t/k8q3439j6z3c683j7w00wtm80000gn/T/ipykernel_58430/330735155.py:26: FutureWarning: The behavior of \n",
       "DataFrame concatenation with empty or all-NA entries is deprecated. In a future version, this will no longer \n",
       "exclude empty or all-NA columns when determining the result dtypes. To retain the old behavior, exclude the \n",
       "relevant entries before the concat operation.\n",
       "  results = pd.concat([results, normalized_data]) #.dropna(axis=1, how=\"all\")])\n",
       "</pre>\n"
      ],
      "text/plain": [
       "/var/folders/7t/k8q3439j6z3c683j7w00wtm80000gn/T/ipykernel_58430/330735155.py:26: FutureWarning: The behavior of \n",
       "DataFrame concatenation with empty or all-NA entries is deprecated. In a future version, this will no longer \n",
       "exclude empty or all-NA columns when determining the result dtypes. To retain the old behavior, exclude the \n",
       "relevant entries before the concat operation.\n",
       "  results = pd.concat([results, normalized_data]) #.dropna(axis=1, how=\"all\")])\n"
      ]
     },
     "metadata": {},
     "output_type": "display_data"
    },
    {
     "data": {
      "text/html": [
       "<pre style=\"white-space:pre;overflow-x:auto;line-height:normal;font-family:Menlo,'DejaVu Sans Mono',consolas,'Courier New',monospace\">/var/folders/7t/k8q3439j6z3c683j7w00wtm80000gn/T/ipykernel_58430/330735155.py:26: FutureWarning: The behavior of \n",
       "DataFrame concatenation with empty or all-NA entries is deprecated. In a future version, this will no longer \n",
       "exclude empty or all-NA columns when determining the result dtypes. To retain the old behavior, exclude the \n",
       "relevant entries before the concat operation.\n",
       "  results = pd.concat([results, normalized_data]) #.dropna(axis=1, how=\"all\")])\n",
       "</pre>\n"
      ],
      "text/plain": [
       "/var/folders/7t/k8q3439j6z3c683j7w00wtm80000gn/T/ipykernel_58430/330735155.py:26: FutureWarning: The behavior of \n",
       "DataFrame concatenation with empty or all-NA entries is deprecated. In a future version, this will no longer \n",
       "exclude empty or all-NA columns when determining the result dtypes. To retain the old behavior, exclude the \n",
       "relevant entries before the concat operation.\n",
       "  results = pd.concat([results, normalized_data]) #.dropna(axis=1, how=\"all\")])\n"
      ]
     },
     "metadata": {},
     "output_type": "display_data"
    },
    {
     "data": {
      "text/html": [
       "<pre style=\"white-space:pre;overflow-x:auto;line-height:normal;font-family:Menlo,'DejaVu Sans Mono',consolas,'Courier New',monospace\">/var/folders/7t/k8q3439j6z3c683j7w00wtm80000gn/T/ipykernel_58430/330735155.py:26: FutureWarning: The behavior of \n",
       "DataFrame concatenation with empty or all-NA entries is deprecated. In a future version, this will no longer \n",
       "exclude empty or all-NA columns when determining the result dtypes. To retain the old behavior, exclude the \n",
       "relevant entries before the concat operation.\n",
       "  results = pd.concat([results, normalized_data]) #.dropna(axis=1, how=\"all\")])\n",
       "</pre>\n"
      ],
      "text/plain": [
       "/var/folders/7t/k8q3439j6z3c683j7w00wtm80000gn/T/ipykernel_58430/330735155.py:26: FutureWarning: The behavior of \n",
       "DataFrame concatenation with empty or all-NA entries is deprecated. In a future version, this will no longer \n",
       "exclude empty or all-NA columns when determining the result dtypes. To retain the old behavior, exclude the \n",
       "relevant entries before the concat operation.\n",
       "  results = pd.concat([results, normalized_data]) #.dropna(axis=1, how=\"all\")])\n"
      ]
     },
     "metadata": {},
     "output_type": "display_data"
    },
    {
     "data": {
      "text/html": [
       "<pre style=\"white-space:pre;overflow-x:auto;line-height:normal;font-family:Menlo,'DejaVu Sans Mono',consolas,'Courier New',monospace\">/var/folders/7t/k8q3439j6z3c683j7w00wtm80000gn/T/ipykernel_58430/330735155.py:26: FutureWarning: The behavior of \n",
       "DataFrame concatenation with empty or all-NA entries is deprecated. In a future version, this will no longer \n",
       "exclude empty or all-NA columns when determining the result dtypes. To retain the old behavior, exclude the \n",
       "relevant entries before the concat operation.\n",
       "  results = pd.concat([results, normalized_data]) #.dropna(axis=1, how=\"all\")])\n",
       "</pre>\n"
      ],
      "text/plain": [
       "/var/folders/7t/k8q3439j6z3c683j7w00wtm80000gn/T/ipykernel_58430/330735155.py:26: FutureWarning: The behavior of \n",
       "DataFrame concatenation with empty or all-NA entries is deprecated. In a future version, this will no longer \n",
       "exclude empty or all-NA columns when determining the result dtypes. To retain the old behavior, exclude the \n",
       "relevant entries before the concat operation.\n",
       "  results = pd.concat([results, normalized_data]) #.dropna(axis=1, how=\"all\")])\n"
      ]
     },
     "metadata": {},
     "output_type": "display_data"
    },
    {
     "data": {
      "text/html": [
       "<pre style=\"white-space:pre;overflow-x:auto;line-height:normal;font-family:Menlo,'DejaVu Sans Mono',consolas,'Courier New',monospace\">/var/folders/7t/k8q3439j6z3c683j7w00wtm80000gn/T/ipykernel_58430/330735155.py:26: FutureWarning: The behavior of \n",
       "DataFrame concatenation with empty or all-NA entries is deprecated. In a future version, this will no longer \n",
       "exclude empty or all-NA columns when determining the result dtypes. To retain the old behavior, exclude the \n",
       "relevant entries before the concat operation.\n",
       "  results = pd.concat([results, normalized_data]) #.dropna(axis=1, how=\"all\")])\n",
       "</pre>\n"
      ],
      "text/plain": [
       "/var/folders/7t/k8q3439j6z3c683j7w00wtm80000gn/T/ipykernel_58430/330735155.py:26: FutureWarning: The behavior of \n",
       "DataFrame concatenation with empty or all-NA entries is deprecated. In a future version, this will no longer \n",
       "exclude empty or all-NA columns when determining the result dtypes. To retain the old behavior, exclude the \n",
       "relevant entries before the concat operation.\n",
       "  results = pd.concat([results, normalized_data]) #.dropna(axis=1, how=\"all\")])\n"
      ]
     },
     "metadata": {},
     "output_type": "display_data"
    },
    {
     "data": {
      "text/html": [
       "<pre style=\"white-space:pre;overflow-x:auto;line-height:normal;font-family:Menlo,'DejaVu Sans Mono',consolas,'Courier New',monospace\">/var/folders/7t/k8q3439j6z3c683j7w00wtm80000gn/T/ipykernel_58430/330735155.py:26: FutureWarning: The behavior of \n",
       "DataFrame concatenation with empty or all-NA entries is deprecated. In a future version, this will no longer \n",
       "exclude empty or all-NA columns when determining the result dtypes. To retain the old behavior, exclude the \n",
       "relevant entries before the concat operation.\n",
       "  results = pd.concat([results, normalized_data]) #.dropna(axis=1, how=\"all\")])\n",
       "</pre>\n"
      ],
      "text/plain": [
       "/var/folders/7t/k8q3439j6z3c683j7w00wtm80000gn/T/ipykernel_58430/330735155.py:26: FutureWarning: The behavior of \n",
       "DataFrame concatenation with empty or all-NA entries is deprecated. In a future version, this will no longer \n",
       "exclude empty or all-NA columns when determining the result dtypes. To retain the old behavior, exclude the \n",
       "relevant entries before the concat operation.\n",
       "  results = pd.concat([results, normalized_data]) #.dropna(axis=1, how=\"all\")])\n"
      ]
     },
     "metadata": {},
     "output_type": "display_data"
    },
    {
     "data": {
      "text/html": [
       "<pre style=\"white-space:pre;overflow-x:auto;line-height:normal;font-family:Menlo,'DejaVu Sans Mono',consolas,'Courier New',monospace\">/var/folders/7t/k8q3439j6z3c683j7w00wtm80000gn/T/ipykernel_58430/330735155.py:26: FutureWarning: The behavior of \n",
       "DataFrame concatenation with empty or all-NA entries is deprecated. In a future version, this will no longer \n",
       "exclude empty or all-NA columns when determining the result dtypes. To retain the old behavior, exclude the \n",
       "relevant entries before the concat operation.\n",
       "  results = pd.concat([results, normalized_data]) #.dropna(axis=1, how=\"all\")])\n",
       "</pre>\n"
      ],
      "text/plain": [
       "/var/folders/7t/k8q3439j6z3c683j7w00wtm80000gn/T/ipykernel_58430/330735155.py:26: FutureWarning: The behavior of \n",
       "DataFrame concatenation with empty or all-NA entries is deprecated. In a future version, this will no longer \n",
       "exclude empty or all-NA columns when determining the result dtypes. To retain the old behavior, exclude the \n",
       "relevant entries before the concat operation.\n",
       "  results = pd.concat([results, normalized_data]) #.dropna(axis=1, how=\"all\")])\n"
      ]
     },
     "metadata": {},
     "output_type": "display_data"
    },
    {
     "data": {
      "text/html": [
       "<pre style=\"white-space:pre;overflow-x:auto;line-height:normal;font-family:Menlo,'DejaVu Sans Mono',consolas,'Courier New',monospace\">/var/folders/7t/k8q3439j6z3c683j7w00wtm80000gn/T/ipykernel_58430/330735155.py:26: FutureWarning: The behavior of \n",
       "DataFrame concatenation with empty or all-NA entries is deprecated. In a future version, this will no longer \n",
       "exclude empty or all-NA columns when determining the result dtypes. To retain the old behavior, exclude the \n",
       "relevant entries before the concat operation.\n",
       "  results = pd.concat([results, normalized_data]) #.dropna(axis=1, how=\"all\")])\n",
       "</pre>\n"
      ],
      "text/plain": [
       "/var/folders/7t/k8q3439j6z3c683j7w00wtm80000gn/T/ipykernel_58430/330735155.py:26: FutureWarning: The behavior of \n",
       "DataFrame concatenation with empty or all-NA entries is deprecated. In a future version, this will no longer \n",
       "exclude empty or all-NA columns when determining the result dtypes. To retain the old behavior, exclude the \n",
       "relevant entries before the concat operation.\n",
       "  results = pd.concat([results, normalized_data]) #.dropna(axis=1, how=\"all\")])\n"
      ]
     },
     "metadata": {},
     "output_type": "display_data"
    },
    {
     "data": {
      "text/html": [
       "<pre style=\"white-space:pre;overflow-x:auto;line-height:normal;font-family:Menlo,'DejaVu Sans Mono',consolas,'Courier New',monospace\">/var/folders/7t/k8q3439j6z3c683j7w00wtm80000gn/T/ipykernel_58430/330735155.py:26: FutureWarning: The behavior of \n",
       "DataFrame concatenation with empty or all-NA entries is deprecated. In a future version, this will no longer \n",
       "exclude empty or all-NA columns when determining the result dtypes. To retain the old behavior, exclude the \n",
       "relevant entries before the concat operation.\n",
       "  results = pd.concat([results, normalized_data]) #.dropna(axis=1, how=\"all\")])\n",
       "</pre>\n"
      ],
      "text/plain": [
       "/var/folders/7t/k8q3439j6z3c683j7w00wtm80000gn/T/ipykernel_58430/330735155.py:26: FutureWarning: The behavior of \n",
       "DataFrame concatenation with empty or all-NA entries is deprecated. In a future version, this will no longer \n",
       "exclude empty or all-NA columns when determining the result dtypes. To retain the old behavior, exclude the \n",
       "relevant entries before the concat operation.\n",
       "  results = pd.concat([results, normalized_data]) #.dropna(axis=1, how=\"all\")])\n"
      ]
     },
     "metadata": {},
     "output_type": "display_data"
    },
    {
     "data": {
      "text/html": [
       "<pre style=\"white-space:pre;overflow-x:auto;line-height:normal;font-family:Menlo,'DejaVu Sans Mono',consolas,'Courier New',monospace\">/var/folders/7t/k8q3439j6z3c683j7w00wtm80000gn/T/ipykernel_58430/330735155.py:26: FutureWarning: The behavior of \n",
       "DataFrame concatenation with empty or all-NA entries is deprecated. In a future version, this will no longer \n",
       "exclude empty or all-NA columns when determining the result dtypes. To retain the old behavior, exclude the \n",
       "relevant entries before the concat operation.\n",
       "  results = pd.concat([results, normalized_data]) #.dropna(axis=1, how=\"all\")])\n",
       "</pre>\n"
      ],
      "text/plain": [
       "/var/folders/7t/k8q3439j6z3c683j7w00wtm80000gn/T/ipykernel_58430/330735155.py:26: FutureWarning: The behavior of \n",
       "DataFrame concatenation with empty or all-NA entries is deprecated. In a future version, this will no longer \n",
       "exclude empty or all-NA columns when determining the result dtypes. To retain the old behavior, exclude the \n",
       "relevant entries before the concat operation.\n",
       "  results = pd.concat([results, normalized_data]) #.dropna(axis=1, how=\"all\")])\n"
      ]
     },
     "metadata": {},
     "output_type": "display_data"
    },
    {
     "data": {
      "text/html": [
       "<pre style=\"white-space:pre;overflow-x:auto;line-height:normal;font-family:Menlo,'DejaVu Sans Mono',consolas,'Courier New',monospace\">/var/folders/7t/k8q3439j6z3c683j7w00wtm80000gn/T/ipykernel_58430/330735155.py:26: FutureWarning: The behavior of \n",
       "DataFrame concatenation with empty or all-NA entries is deprecated. In a future version, this will no longer \n",
       "exclude empty or all-NA columns when determining the result dtypes. To retain the old behavior, exclude the \n",
       "relevant entries before the concat operation.\n",
       "  results = pd.concat([results, normalized_data]) #.dropna(axis=1, how=\"all\")])\n",
       "</pre>\n"
      ],
      "text/plain": [
       "/var/folders/7t/k8q3439j6z3c683j7w00wtm80000gn/T/ipykernel_58430/330735155.py:26: FutureWarning: The behavior of \n",
       "DataFrame concatenation with empty or all-NA entries is deprecated. In a future version, this will no longer \n",
       "exclude empty or all-NA columns when determining the result dtypes. To retain the old behavior, exclude the \n",
       "relevant entries before the concat operation.\n",
       "  results = pd.concat([results, normalized_data]) #.dropna(axis=1, how=\"all\")])\n"
      ]
     },
     "metadata": {},
     "output_type": "display_data"
    },
    {
     "data": {
      "text/html": [
       "<pre style=\"white-space:pre;overflow-x:auto;line-height:normal;font-family:Menlo,'DejaVu Sans Mono',consolas,'Courier New',monospace\">/var/folders/7t/k8q3439j6z3c683j7w00wtm80000gn/T/ipykernel_58430/330735155.py:26: FutureWarning: The behavior of \n",
       "DataFrame concatenation with empty or all-NA entries is deprecated. In a future version, this will no longer \n",
       "exclude empty or all-NA columns when determining the result dtypes. To retain the old behavior, exclude the \n",
       "relevant entries before the concat operation.\n",
       "  results = pd.concat([results, normalized_data]) #.dropna(axis=1, how=\"all\")])\n",
       "</pre>\n"
      ],
      "text/plain": [
       "/var/folders/7t/k8q3439j6z3c683j7w00wtm80000gn/T/ipykernel_58430/330735155.py:26: FutureWarning: The behavior of \n",
       "DataFrame concatenation with empty or all-NA entries is deprecated. In a future version, this will no longer \n",
       "exclude empty or all-NA columns when determining the result dtypes. To retain the old behavior, exclude the \n",
       "relevant entries before the concat operation.\n",
       "  results = pd.concat([results, normalized_data]) #.dropna(axis=1, how=\"all\")])\n"
      ]
     },
     "metadata": {},
     "output_type": "display_data"
    },
    {
     "data": {
      "text/html": [
       "<pre style=\"white-space:pre;overflow-x:auto;line-height:normal;font-family:Menlo,'DejaVu Sans Mono',consolas,'Courier New',monospace\">/var/folders/7t/k8q3439j6z3c683j7w00wtm80000gn/T/ipykernel_58430/330735155.py:26: FutureWarning: The behavior of \n",
       "DataFrame concatenation with empty or all-NA entries is deprecated. In a future version, this will no longer \n",
       "exclude empty or all-NA columns when determining the result dtypes. To retain the old behavior, exclude the \n",
       "relevant entries before the concat operation.\n",
       "  results = pd.concat([results, normalized_data]) #.dropna(axis=1, how=\"all\")])\n",
       "</pre>\n"
      ],
      "text/plain": [
       "/var/folders/7t/k8q3439j6z3c683j7w00wtm80000gn/T/ipykernel_58430/330735155.py:26: FutureWarning: The behavior of \n",
       "DataFrame concatenation with empty or all-NA entries is deprecated. In a future version, this will no longer \n",
       "exclude empty or all-NA columns when determining the result dtypes. To retain the old behavior, exclude the \n",
       "relevant entries before the concat operation.\n",
       "  results = pd.concat([results, normalized_data]) #.dropna(axis=1, how=\"all\")])\n"
      ]
     },
     "metadata": {},
     "output_type": "display_data"
    },
    {
     "data": {
      "text/html": [
       "<pre style=\"white-space:pre;overflow-x:auto;line-height:normal;font-family:Menlo,'DejaVu Sans Mono',consolas,'Courier New',monospace\">/var/folders/7t/k8q3439j6z3c683j7w00wtm80000gn/T/ipykernel_58430/330735155.py:26: FutureWarning: The behavior of \n",
       "DataFrame concatenation with empty or all-NA entries is deprecated. In a future version, this will no longer \n",
       "exclude empty or all-NA columns when determining the result dtypes. To retain the old behavior, exclude the \n",
       "relevant entries before the concat operation.\n",
       "  results = pd.concat([results, normalized_data]) #.dropna(axis=1, how=\"all\")])\n",
       "</pre>\n"
      ],
      "text/plain": [
       "/var/folders/7t/k8q3439j6z3c683j7w00wtm80000gn/T/ipykernel_58430/330735155.py:26: FutureWarning: The behavior of \n",
       "DataFrame concatenation with empty or all-NA entries is deprecated. In a future version, this will no longer \n",
       "exclude empty or all-NA columns when determining the result dtypes. To retain the old behavior, exclude the \n",
       "relevant entries before the concat operation.\n",
       "  results = pd.concat([results, normalized_data]) #.dropna(axis=1, how=\"all\")])\n"
      ]
     },
     "metadata": {},
     "output_type": "display_data"
    },
    {
     "data": {
      "text/html": [
       "<pre style=\"white-space:pre;overflow-x:auto;line-height:normal;font-family:Menlo,'DejaVu Sans Mono',consolas,'Courier New',monospace\">/var/folders/7t/k8q3439j6z3c683j7w00wtm80000gn/T/ipykernel_58430/330735155.py:26: FutureWarning: The behavior of \n",
       "DataFrame concatenation with empty or all-NA entries is deprecated. In a future version, this will no longer \n",
       "exclude empty or all-NA columns when determining the result dtypes. To retain the old behavior, exclude the \n",
       "relevant entries before the concat operation.\n",
       "  results = pd.concat([results, normalized_data]) #.dropna(axis=1, how=\"all\")])\n",
       "</pre>\n"
      ],
      "text/plain": [
       "/var/folders/7t/k8q3439j6z3c683j7w00wtm80000gn/T/ipykernel_58430/330735155.py:26: FutureWarning: The behavior of \n",
       "DataFrame concatenation with empty or all-NA entries is deprecated. In a future version, this will no longer \n",
       "exclude empty or all-NA columns when determining the result dtypes. To retain the old behavior, exclude the \n",
       "relevant entries before the concat operation.\n",
       "  results = pd.concat([results, normalized_data]) #.dropna(axis=1, how=\"all\")])\n"
      ]
     },
     "metadata": {},
     "output_type": "display_data"
    },
    {
     "data": {
      "text/html": [
       "<pre style=\"white-space:pre;overflow-x:auto;line-height:normal;font-family:Menlo,'DejaVu Sans Mono',consolas,'Courier New',monospace\">/var/folders/7t/k8q3439j6z3c683j7w00wtm80000gn/T/ipykernel_58430/330735155.py:26: FutureWarning: The behavior of \n",
       "DataFrame concatenation with empty or all-NA entries is deprecated. In a future version, this will no longer \n",
       "exclude empty or all-NA columns when determining the result dtypes. To retain the old behavior, exclude the \n",
       "relevant entries before the concat operation.\n",
       "  results = pd.concat([results, normalized_data]) #.dropna(axis=1, how=\"all\")])\n",
       "</pre>\n"
      ],
      "text/plain": [
       "/var/folders/7t/k8q3439j6z3c683j7w00wtm80000gn/T/ipykernel_58430/330735155.py:26: FutureWarning: The behavior of \n",
       "DataFrame concatenation with empty or all-NA entries is deprecated. In a future version, this will no longer \n",
       "exclude empty or all-NA columns when determining the result dtypes. To retain the old behavior, exclude the \n",
       "relevant entries before the concat operation.\n",
       "  results = pd.concat([results, normalized_data]) #.dropna(axis=1, how=\"all\")])\n"
      ]
     },
     "metadata": {},
     "output_type": "display_data"
    },
    {
     "data": {
      "text/html": [
       "<pre style=\"white-space:pre;overflow-x:auto;line-height:normal;font-family:Menlo,'DejaVu Sans Mono',consolas,'Courier New',monospace\">/var/folders/7t/k8q3439j6z3c683j7w00wtm80000gn/T/ipykernel_58430/330735155.py:26: FutureWarning: The behavior of \n",
       "DataFrame concatenation with empty or all-NA entries is deprecated. In a future version, this will no longer \n",
       "exclude empty or all-NA columns when determining the result dtypes. To retain the old behavior, exclude the \n",
       "relevant entries before the concat operation.\n",
       "  results = pd.concat([results, normalized_data]) #.dropna(axis=1, how=\"all\")])\n",
       "</pre>\n"
      ],
      "text/plain": [
       "/var/folders/7t/k8q3439j6z3c683j7w00wtm80000gn/T/ipykernel_58430/330735155.py:26: FutureWarning: The behavior of \n",
       "DataFrame concatenation with empty or all-NA entries is deprecated. In a future version, this will no longer \n",
       "exclude empty or all-NA columns when determining the result dtypes. To retain the old behavior, exclude the \n",
       "relevant entries before the concat operation.\n",
       "  results = pd.concat([results, normalized_data]) #.dropna(axis=1, how=\"all\")])\n"
      ]
     },
     "metadata": {},
     "output_type": "display_data"
    },
    {
     "data": {
      "text/html": [
       "<pre style=\"white-space:pre;overflow-x:auto;line-height:normal;font-family:Menlo,'DejaVu Sans Mono',consolas,'Courier New',monospace\">/var/folders/7t/k8q3439j6z3c683j7w00wtm80000gn/T/ipykernel_58430/330735155.py:26: FutureWarning: The behavior of \n",
       "DataFrame concatenation with empty or all-NA entries is deprecated. In a future version, this will no longer \n",
       "exclude empty or all-NA columns when determining the result dtypes. To retain the old behavior, exclude the \n",
       "relevant entries before the concat operation.\n",
       "  results = pd.concat([results, normalized_data]) #.dropna(axis=1, how=\"all\")])\n",
       "</pre>\n"
      ],
      "text/plain": [
       "/var/folders/7t/k8q3439j6z3c683j7w00wtm80000gn/T/ipykernel_58430/330735155.py:26: FutureWarning: The behavior of \n",
       "DataFrame concatenation with empty or all-NA entries is deprecated. In a future version, this will no longer \n",
       "exclude empty or all-NA columns when determining the result dtypes. To retain the old behavior, exclude the \n",
       "relevant entries before the concat operation.\n",
       "  results = pd.concat([results, normalized_data]) #.dropna(axis=1, how=\"all\")])\n"
      ]
     },
     "metadata": {},
     "output_type": "display_data"
    },
    {
     "data": {
      "text/html": [
       "<pre style=\"white-space:pre;overflow-x:auto;line-height:normal;font-family:Menlo,'DejaVu Sans Mono',consolas,'Courier New',monospace\">/var/folders/7t/k8q3439j6z3c683j7w00wtm80000gn/T/ipykernel_58430/330735155.py:26: FutureWarning: The behavior of \n",
       "DataFrame concatenation with empty or all-NA entries is deprecated. In a future version, this will no longer \n",
       "exclude empty or all-NA columns when determining the result dtypes. To retain the old behavior, exclude the \n",
       "relevant entries before the concat operation.\n",
       "  results = pd.concat([results, normalized_data]) #.dropna(axis=1, how=\"all\")])\n",
       "</pre>\n"
      ],
      "text/plain": [
       "/var/folders/7t/k8q3439j6z3c683j7w00wtm80000gn/T/ipykernel_58430/330735155.py:26: FutureWarning: The behavior of \n",
       "DataFrame concatenation with empty or all-NA entries is deprecated. In a future version, this will no longer \n",
       "exclude empty or all-NA columns when determining the result dtypes. To retain the old behavior, exclude the \n",
       "relevant entries before the concat operation.\n",
       "  results = pd.concat([results, normalized_data]) #.dropna(axis=1, how=\"all\")])\n"
      ]
     },
     "metadata": {},
     "output_type": "display_data"
    },
    {
     "data": {
      "text/html": [
       "<pre style=\"white-space:pre;overflow-x:auto;line-height:normal;font-family:Menlo,'DejaVu Sans Mono',consolas,'Courier New',monospace\">/var/folders/7t/k8q3439j6z3c683j7w00wtm80000gn/T/ipykernel_58430/330735155.py:26: FutureWarning: The behavior of \n",
       "DataFrame concatenation with empty or all-NA entries is deprecated. In a future version, this will no longer \n",
       "exclude empty or all-NA columns when determining the result dtypes. To retain the old behavior, exclude the \n",
       "relevant entries before the concat operation.\n",
       "  results = pd.concat([results, normalized_data]) #.dropna(axis=1, how=\"all\")])\n",
       "</pre>\n"
      ],
      "text/plain": [
       "/var/folders/7t/k8q3439j6z3c683j7w00wtm80000gn/T/ipykernel_58430/330735155.py:26: FutureWarning: The behavior of \n",
       "DataFrame concatenation with empty or all-NA entries is deprecated. In a future version, this will no longer \n",
       "exclude empty or all-NA columns when determining the result dtypes. To retain the old behavior, exclude the \n",
       "relevant entries before the concat operation.\n",
       "  results = pd.concat([results, normalized_data]) #.dropna(axis=1, how=\"all\")])\n"
      ]
     },
     "metadata": {},
     "output_type": "display_data"
    },
    {
     "data": {
      "text/html": [
       "<pre style=\"white-space:pre;overflow-x:auto;line-height:normal;font-family:Menlo,'DejaVu Sans Mono',consolas,'Courier New',monospace\">/var/folders/7t/k8q3439j6z3c683j7w00wtm80000gn/T/ipykernel_58430/330735155.py:26: FutureWarning: The behavior of \n",
       "DataFrame concatenation with empty or all-NA entries is deprecated. In a future version, this will no longer \n",
       "exclude empty or all-NA columns when determining the result dtypes. To retain the old behavior, exclude the \n",
       "relevant entries before the concat operation.\n",
       "  results = pd.concat([results, normalized_data]) #.dropna(axis=1, how=\"all\")])\n",
       "</pre>\n"
      ],
      "text/plain": [
       "/var/folders/7t/k8q3439j6z3c683j7w00wtm80000gn/T/ipykernel_58430/330735155.py:26: FutureWarning: The behavior of \n",
       "DataFrame concatenation with empty or all-NA entries is deprecated. In a future version, this will no longer \n",
       "exclude empty or all-NA columns when determining the result dtypes. To retain the old behavior, exclude the \n",
       "relevant entries before the concat operation.\n",
       "  results = pd.concat([results, normalized_data]) #.dropna(axis=1, how=\"all\")])\n"
      ]
     },
     "metadata": {},
     "output_type": "display_data"
    },
    {
     "data": {
      "text/html": [
       "<pre style=\"white-space:pre;overflow-x:auto;line-height:normal;font-family:Menlo,'DejaVu Sans Mono',consolas,'Courier New',monospace\">/var/folders/7t/k8q3439j6z3c683j7w00wtm80000gn/T/ipykernel_58430/330735155.py:26: FutureWarning: The behavior of \n",
       "DataFrame concatenation with empty or all-NA entries is deprecated. In a future version, this will no longer \n",
       "exclude empty or all-NA columns when determining the result dtypes. To retain the old behavior, exclude the \n",
       "relevant entries before the concat operation.\n",
       "  results = pd.concat([results, normalized_data]) #.dropna(axis=1, how=\"all\")])\n",
       "</pre>\n"
      ],
      "text/plain": [
       "/var/folders/7t/k8q3439j6z3c683j7w00wtm80000gn/T/ipykernel_58430/330735155.py:26: FutureWarning: The behavior of \n",
       "DataFrame concatenation with empty or all-NA entries is deprecated. In a future version, this will no longer \n",
       "exclude empty or all-NA columns when determining the result dtypes. To retain the old behavior, exclude the \n",
       "relevant entries before the concat operation.\n",
       "  results = pd.concat([results, normalized_data]) #.dropna(axis=1, how=\"all\")])\n"
      ]
     },
     "metadata": {},
     "output_type": "display_data"
    },
    {
     "data": {
      "text/html": [
       "<pre style=\"white-space:pre;overflow-x:auto;line-height:normal;font-family:Menlo,'DejaVu Sans Mono',consolas,'Courier New',monospace\">/var/folders/7t/k8q3439j6z3c683j7w00wtm80000gn/T/ipykernel_58430/330735155.py:26: FutureWarning: The behavior of \n",
       "DataFrame concatenation with empty or all-NA entries is deprecated. In a future version, this will no longer \n",
       "exclude empty or all-NA columns when determining the result dtypes. To retain the old behavior, exclude the \n",
       "relevant entries before the concat operation.\n",
       "  results = pd.concat([results, normalized_data]) #.dropna(axis=1, how=\"all\")])\n",
       "</pre>\n"
      ],
      "text/plain": [
       "/var/folders/7t/k8q3439j6z3c683j7w00wtm80000gn/T/ipykernel_58430/330735155.py:26: FutureWarning: The behavior of \n",
       "DataFrame concatenation with empty or all-NA entries is deprecated. In a future version, this will no longer \n",
       "exclude empty or all-NA columns when determining the result dtypes. To retain the old behavior, exclude the \n",
       "relevant entries before the concat operation.\n",
       "  results = pd.concat([results, normalized_data]) #.dropna(axis=1, how=\"all\")])\n"
      ]
     },
     "metadata": {},
     "output_type": "display_data"
    },
    {
     "data": {
      "text/html": [
       "<pre style=\"white-space:pre;overflow-x:auto;line-height:normal;font-family:Menlo,'DejaVu Sans Mono',consolas,'Courier New',monospace\">/var/folders/7t/k8q3439j6z3c683j7w00wtm80000gn/T/ipykernel_58430/330735155.py:26: FutureWarning: The behavior of \n",
       "DataFrame concatenation with empty or all-NA entries is deprecated. In a future version, this will no longer \n",
       "exclude empty or all-NA columns when determining the result dtypes. To retain the old behavior, exclude the \n",
       "relevant entries before the concat operation.\n",
       "  results = pd.concat([results, normalized_data]) #.dropna(axis=1, how=\"all\")])\n",
       "</pre>\n"
      ],
      "text/plain": [
       "/var/folders/7t/k8q3439j6z3c683j7w00wtm80000gn/T/ipykernel_58430/330735155.py:26: FutureWarning: The behavior of \n",
       "DataFrame concatenation with empty or all-NA entries is deprecated. In a future version, this will no longer \n",
       "exclude empty or all-NA columns when determining the result dtypes. To retain the old behavior, exclude the \n",
       "relevant entries before the concat operation.\n",
       "  results = pd.concat([results, normalized_data]) #.dropna(axis=1, how=\"all\")])\n"
      ]
     },
     "metadata": {},
     "output_type": "display_data"
    },
    {
     "data": {
      "text/html": [
       "<pre style=\"white-space:pre;overflow-x:auto;line-height:normal;font-family:Menlo,'DejaVu Sans Mono',consolas,'Courier New',monospace\">/var/folders/7t/k8q3439j6z3c683j7w00wtm80000gn/T/ipykernel_58430/330735155.py:26: FutureWarning: The behavior of \n",
       "DataFrame concatenation with empty or all-NA entries is deprecated. In a future version, this will no longer \n",
       "exclude empty or all-NA columns when determining the result dtypes. To retain the old behavior, exclude the \n",
       "relevant entries before the concat operation.\n",
       "  results = pd.concat([results, normalized_data]) #.dropna(axis=1, how=\"all\")])\n",
       "</pre>\n"
      ],
      "text/plain": [
       "/var/folders/7t/k8q3439j6z3c683j7w00wtm80000gn/T/ipykernel_58430/330735155.py:26: FutureWarning: The behavior of \n",
       "DataFrame concatenation with empty or all-NA entries is deprecated. In a future version, this will no longer \n",
       "exclude empty or all-NA columns when determining the result dtypes. To retain the old behavior, exclude the \n",
       "relevant entries before the concat operation.\n",
       "  results = pd.concat([results, normalized_data]) #.dropna(axis=1, how=\"all\")])\n"
      ]
     },
     "metadata": {},
     "output_type": "display_data"
    },
    {
     "data": {
      "text/html": [
       "<pre style=\"white-space:pre;overflow-x:auto;line-height:normal;font-family:Menlo,'DejaVu Sans Mono',consolas,'Courier New',monospace\">/var/folders/7t/k8q3439j6z3c683j7w00wtm80000gn/T/ipykernel_58430/330735155.py:26: FutureWarning: The behavior of \n",
       "DataFrame concatenation with empty or all-NA entries is deprecated. In a future version, this will no longer \n",
       "exclude empty or all-NA columns when determining the result dtypes. To retain the old behavior, exclude the \n",
       "relevant entries before the concat operation.\n",
       "  results = pd.concat([results, normalized_data]) #.dropna(axis=1, how=\"all\")])\n",
       "</pre>\n"
      ],
      "text/plain": [
       "/var/folders/7t/k8q3439j6z3c683j7w00wtm80000gn/T/ipykernel_58430/330735155.py:26: FutureWarning: The behavior of \n",
       "DataFrame concatenation with empty or all-NA entries is deprecated. In a future version, this will no longer \n",
       "exclude empty or all-NA columns when determining the result dtypes. To retain the old behavior, exclude the \n",
       "relevant entries before the concat operation.\n",
       "  results = pd.concat([results, normalized_data]) #.dropna(axis=1, how=\"all\")])\n"
      ]
     },
     "metadata": {},
     "output_type": "display_data"
    },
    {
     "data": {
      "text/html": [
       "<pre style=\"white-space:pre;overflow-x:auto;line-height:normal;font-family:Menlo,'DejaVu Sans Mono',consolas,'Courier New',monospace\">/var/folders/7t/k8q3439j6z3c683j7w00wtm80000gn/T/ipykernel_58430/330735155.py:26: FutureWarning: The behavior of \n",
       "DataFrame concatenation with empty or all-NA entries is deprecated. In a future version, this will no longer \n",
       "exclude empty or all-NA columns when determining the result dtypes. To retain the old behavior, exclude the \n",
       "relevant entries before the concat operation.\n",
       "  results = pd.concat([results, normalized_data]) #.dropna(axis=1, how=\"all\")])\n",
       "</pre>\n"
      ],
      "text/plain": [
       "/var/folders/7t/k8q3439j6z3c683j7w00wtm80000gn/T/ipykernel_58430/330735155.py:26: FutureWarning: The behavior of \n",
       "DataFrame concatenation with empty or all-NA entries is deprecated. In a future version, this will no longer \n",
       "exclude empty or all-NA columns when determining the result dtypes. To retain the old behavior, exclude the \n",
       "relevant entries before the concat operation.\n",
       "  results = pd.concat([results, normalized_data]) #.dropna(axis=1, how=\"all\")])\n"
      ]
     },
     "metadata": {},
     "output_type": "display_data"
    },
    {
     "data": {
      "text/html": [
       "<pre style=\"white-space:pre;overflow-x:auto;line-height:normal;font-family:Menlo,'DejaVu Sans Mono',consolas,'Courier New',monospace\">/var/folders/7t/k8q3439j6z3c683j7w00wtm80000gn/T/ipykernel_58430/330735155.py:26: FutureWarning: The behavior of \n",
       "DataFrame concatenation with empty or all-NA entries is deprecated. In a future version, this will no longer \n",
       "exclude empty or all-NA columns when determining the result dtypes. To retain the old behavior, exclude the \n",
       "relevant entries before the concat operation.\n",
       "  results = pd.concat([results, normalized_data]) #.dropna(axis=1, how=\"all\")])\n",
       "</pre>\n"
      ],
      "text/plain": [
       "/var/folders/7t/k8q3439j6z3c683j7w00wtm80000gn/T/ipykernel_58430/330735155.py:26: FutureWarning: The behavior of \n",
       "DataFrame concatenation with empty or all-NA entries is deprecated. In a future version, this will no longer \n",
       "exclude empty or all-NA columns when determining the result dtypes. To retain the old behavior, exclude the \n",
       "relevant entries before the concat operation.\n",
       "  results = pd.concat([results, normalized_data]) #.dropna(axis=1, how=\"all\")])\n"
      ]
     },
     "metadata": {},
     "output_type": "display_data"
    },
    {
     "data": {
      "text/html": [
       "<pre style=\"white-space:pre;overflow-x:auto;line-height:normal;font-family:Menlo,'DejaVu Sans Mono',consolas,'Courier New',monospace\">/var/folders/7t/k8q3439j6z3c683j7w00wtm80000gn/T/ipykernel_58430/330735155.py:26: FutureWarning: The behavior of \n",
       "DataFrame concatenation with empty or all-NA entries is deprecated. In a future version, this will no longer \n",
       "exclude empty or all-NA columns when determining the result dtypes. To retain the old behavior, exclude the \n",
       "relevant entries before the concat operation.\n",
       "  results = pd.concat([results, normalized_data]) #.dropna(axis=1, how=\"all\")])\n",
       "</pre>\n"
      ],
      "text/plain": [
       "/var/folders/7t/k8q3439j6z3c683j7w00wtm80000gn/T/ipykernel_58430/330735155.py:26: FutureWarning: The behavior of \n",
       "DataFrame concatenation with empty or all-NA entries is deprecated. In a future version, this will no longer \n",
       "exclude empty or all-NA columns when determining the result dtypes. To retain the old behavior, exclude the \n",
       "relevant entries before the concat operation.\n",
       "  results = pd.concat([results, normalized_data]) #.dropna(axis=1, how=\"all\")])\n"
      ]
     },
     "metadata": {},
     "output_type": "display_data"
    },
    {
     "data": {
      "text/html": [
       "<pre style=\"white-space:pre;overflow-x:auto;line-height:normal;font-family:Menlo,'DejaVu Sans Mono',consolas,'Courier New',monospace\">/var/folders/7t/k8q3439j6z3c683j7w00wtm80000gn/T/ipykernel_58430/330735155.py:26: FutureWarning: The behavior of \n",
       "DataFrame concatenation with empty or all-NA entries is deprecated. In a future version, this will no longer \n",
       "exclude empty or all-NA columns when determining the result dtypes. To retain the old behavior, exclude the \n",
       "relevant entries before the concat operation.\n",
       "  results = pd.concat([results, normalized_data]) #.dropna(axis=1, how=\"all\")])\n",
       "</pre>\n"
      ],
      "text/plain": [
       "/var/folders/7t/k8q3439j6z3c683j7w00wtm80000gn/T/ipykernel_58430/330735155.py:26: FutureWarning: The behavior of \n",
       "DataFrame concatenation with empty or all-NA entries is deprecated. In a future version, this will no longer \n",
       "exclude empty or all-NA columns when determining the result dtypes. To retain the old behavior, exclude the \n",
       "relevant entries before the concat operation.\n",
       "  results = pd.concat([results, normalized_data]) #.dropna(axis=1, how=\"all\")])\n"
      ]
     },
     "metadata": {},
     "output_type": "display_data"
    },
    {
     "data": {
      "text/html": [
       "<pre style=\"white-space:pre;overflow-x:auto;line-height:normal;font-family:Menlo,'DejaVu Sans Mono',consolas,'Courier New',monospace\">/var/folders/7t/k8q3439j6z3c683j7w00wtm80000gn/T/ipykernel_58430/330735155.py:26: FutureWarning: The behavior of \n",
       "DataFrame concatenation with empty or all-NA entries is deprecated. In a future version, this will no longer \n",
       "exclude empty or all-NA columns when determining the result dtypes. To retain the old behavior, exclude the \n",
       "relevant entries before the concat operation.\n",
       "  results = pd.concat([results, normalized_data]) #.dropna(axis=1, how=\"all\")])\n",
       "</pre>\n"
      ],
      "text/plain": [
       "/var/folders/7t/k8q3439j6z3c683j7w00wtm80000gn/T/ipykernel_58430/330735155.py:26: FutureWarning: The behavior of \n",
       "DataFrame concatenation with empty or all-NA entries is deprecated. In a future version, this will no longer \n",
       "exclude empty or all-NA columns when determining the result dtypes. To retain the old behavior, exclude the \n",
       "relevant entries before the concat operation.\n",
       "  results = pd.concat([results, normalized_data]) #.dropna(axis=1, how=\"all\")])\n"
      ]
     },
     "metadata": {},
     "output_type": "display_data"
    },
    {
     "data": {
      "text/html": [
       "<pre style=\"white-space:pre;overflow-x:auto;line-height:normal;font-family:Menlo,'DejaVu Sans Mono',consolas,'Courier New',monospace\">/var/folders/7t/k8q3439j6z3c683j7w00wtm80000gn/T/ipykernel_58430/330735155.py:26: FutureWarning: The behavior of \n",
       "DataFrame concatenation with empty or all-NA entries is deprecated. In a future version, this will no longer \n",
       "exclude empty or all-NA columns when determining the result dtypes. To retain the old behavior, exclude the \n",
       "relevant entries before the concat operation.\n",
       "  results = pd.concat([results, normalized_data]) #.dropna(axis=1, how=\"all\")])\n",
       "</pre>\n"
      ],
      "text/plain": [
       "/var/folders/7t/k8q3439j6z3c683j7w00wtm80000gn/T/ipykernel_58430/330735155.py:26: FutureWarning: The behavior of \n",
       "DataFrame concatenation with empty or all-NA entries is deprecated. In a future version, this will no longer \n",
       "exclude empty or all-NA columns when determining the result dtypes. To retain the old behavior, exclude the \n",
       "relevant entries before the concat operation.\n",
       "  results = pd.concat([results, normalized_data]) #.dropna(axis=1, how=\"all\")])\n"
      ]
     },
     "metadata": {},
     "output_type": "display_data"
    },
    {
     "data": {
      "text/html": [
       "<pre style=\"white-space:pre;overflow-x:auto;line-height:normal;font-family:Menlo,'DejaVu Sans Mono',consolas,'Courier New',monospace\">/var/folders/7t/k8q3439j6z3c683j7w00wtm80000gn/T/ipykernel_58430/330735155.py:26: FutureWarning: The behavior of \n",
       "DataFrame concatenation with empty or all-NA entries is deprecated. In a future version, this will no longer \n",
       "exclude empty or all-NA columns when determining the result dtypes. To retain the old behavior, exclude the \n",
       "relevant entries before the concat operation.\n",
       "  results = pd.concat([results, normalized_data]) #.dropna(axis=1, how=\"all\")])\n",
       "</pre>\n"
      ],
      "text/plain": [
       "/var/folders/7t/k8q3439j6z3c683j7w00wtm80000gn/T/ipykernel_58430/330735155.py:26: FutureWarning: The behavior of \n",
       "DataFrame concatenation with empty or all-NA entries is deprecated. In a future version, this will no longer \n",
       "exclude empty or all-NA columns when determining the result dtypes. To retain the old behavior, exclude the \n",
       "relevant entries before the concat operation.\n",
       "  results = pd.concat([results, normalized_data]) #.dropna(axis=1, how=\"all\")])\n"
      ]
     },
     "metadata": {},
     "output_type": "display_data"
    },
    {
     "data": {
      "text/html": [
       "<pre style=\"white-space:pre;overflow-x:auto;line-height:normal;font-family:Menlo,'DejaVu Sans Mono',consolas,'Courier New',monospace\">/var/folders/7t/k8q3439j6z3c683j7w00wtm80000gn/T/ipykernel_58430/330735155.py:26: FutureWarning: The behavior of \n",
       "DataFrame concatenation with empty or all-NA entries is deprecated. In a future version, this will no longer \n",
       "exclude empty or all-NA columns when determining the result dtypes. To retain the old behavior, exclude the \n",
       "relevant entries before the concat operation.\n",
       "  results = pd.concat([results, normalized_data]) #.dropna(axis=1, how=\"all\")])\n",
       "</pre>\n"
      ],
      "text/plain": [
       "/var/folders/7t/k8q3439j6z3c683j7w00wtm80000gn/T/ipykernel_58430/330735155.py:26: FutureWarning: The behavior of \n",
       "DataFrame concatenation with empty or all-NA entries is deprecated. In a future version, this will no longer \n",
       "exclude empty or all-NA columns when determining the result dtypes. To retain the old behavior, exclude the \n",
       "relevant entries before the concat operation.\n",
       "  results = pd.concat([results, normalized_data]) #.dropna(axis=1, how=\"all\")])\n"
      ]
     },
     "metadata": {},
     "output_type": "display_data"
    },
    {
     "data": {
      "text/html": [
       "<pre style=\"white-space:pre;overflow-x:auto;line-height:normal;font-family:Menlo,'DejaVu Sans Mono',consolas,'Courier New',monospace\">/var/folders/7t/k8q3439j6z3c683j7w00wtm80000gn/T/ipykernel_58430/330735155.py:26: FutureWarning: The behavior of \n",
       "DataFrame concatenation with empty or all-NA entries is deprecated. In a future version, this will no longer \n",
       "exclude empty or all-NA columns when determining the result dtypes. To retain the old behavior, exclude the \n",
       "relevant entries before the concat operation.\n",
       "  results = pd.concat([results, normalized_data]) #.dropna(axis=1, how=\"all\")])\n",
       "</pre>\n"
      ],
      "text/plain": [
       "/var/folders/7t/k8q3439j6z3c683j7w00wtm80000gn/T/ipykernel_58430/330735155.py:26: FutureWarning: The behavior of \n",
       "DataFrame concatenation with empty or all-NA entries is deprecated. In a future version, this will no longer \n",
       "exclude empty or all-NA columns when determining the result dtypes. To retain the old behavior, exclude the \n",
       "relevant entries before the concat operation.\n",
       "  results = pd.concat([results, normalized_data]) #.dropna(axis=1, how=\"all\")])\n"
      ]
     },
     "metadata": {},
     "output_type": "display_data"
    },
    {
     "data": {
      "text/html": [
       "<pre style=\"white-space:pre;overflow-x:auto;line-height:normal;font-family:Menlo,'DejaVu Sans Mono',consolas,'Courier New',monospace\">/var/folders/7t/k8q3439j6z3c683j7w00wtm80000gn/T/ipykernel_58430/330735155.py:26: FutureWarning: The behavior of \n",
       "DataFrame concatenation with empty or all-NA entries is deprecated. In a future version, this will no longer \n",
       "exclude empty or all-NA columns when determining the result dtypes. To retain the old behavior, exclude the \n",
       "relevant entries before the concat operation.\n",
       "  results = pd.concat([results, normalized_data]) #.dropna(axis=1, how=\"all\")])\n",
       "</pre>\n"
      ],
      "text/plain": [
       "/var/folders/7t/k8q3439j6z3c683j7w00wtm80000gn/T/ipykernel_58430/330735155.py:26: FutureWarning: The behavior of \n",
       "DataFrame concatenation with empty or all-NA entries is deprecated. In a future version, this will no longer \n",
       "exclude empty or all-NA columns when determining the result dtypes. To retain the old behavior, exclude the \n",
       "relevant entries before the concat operation.\n",
       "  results = pd.concat([results, normalized_data]) #.dropna(axis=1, how=\"all\")])\n"
      ]
     },
     "metadata": {},
     "output_type": "display_data"
    },
    {
     "data": {
      "text/html": [
       "<pre style=\"white-space:pre;overflow-x:auto;line-height:normal;font-family:Menlo,'DejaVu Sans Mono',consolas,'Courier New',monospace\">/var/folders/7t/k8q3439j6z3c683j7w00wtm80000gn/T/ipykernel_58430/330735155.py:26: FutureWarning: The behavior of \n",
       "DataFrame concatenation with empty or all-NA entries is deprecated. In a future version, this will no longer \n",
       "exclude empty or all-NA columns when determining the result dtypes. To retain the old behavior, exclude the \n",
       "relevant entries before the concat operation.\n",
       "  results = pd.concat([results, normalized_data]) #.dropna(axis=1, how=\"all\")])\n",
       "</pre>\n"
      ],
      "text/plain": [
       "/var/folders/7t/k8q3439j6z3c683j7w00wtm80000gn/T/ipykernel_58430/330735155.py:26: FutureWarning: The behavior of \n",
       "DataFrame concatenation with empty or all-NA entries is deprecated. In a future version, this will no longer \n",
       "exclude empty or all-NA columns when determining the result dtypes. To retain the old behavior, exclude the \n",
       "relevant entries before the concat operation.\n",
       "  results = pd.concat([results, normalized_data]) #.dropna(axis=1, how=\"all\")])\n"
      ]
     },
     "metadata": {},
     "output_type": "display_data"
    },
    {
     "data": {
      "text/html": [
       "<pre style=\"white-space:pre;overflow-x:auto;line-height:normal;font-family:Menlo,'DejaVu Sans Mono',consolas,'Courier New',monospace\">/var/folders/7t/k8q3439j6z3c683j7w00wtm80000gn/T/ipykernel_58430/330735155.py:26: FutureWarning: The behavior of \n",
       "DataFrame concatenation with empty or all-NA entries is deprecated. In a future version, this will no longer \n",
       "exclude empty or all-NA columns when determining the result dtypes. To retain the old behavior, exclude the \n",
       "relevant entries before the concat operation.\n",
       "  results = pd.concat([results, normalized_data]) #.dropna(axis=1, how=\"all\")])\n",
       "</pre>\n"
      ],
      "text/plain": [
       "/var/folders/7t/k8q3439j6z3c683j7w00wtm80000gn/T/ipykernel_58430/330735155.py:26: FutureWarning: The behavior of \n",
       "DataFrame concatenation with empty or all-NA entries is deprecated. In a future version, this will no longer \n",
       "exclude empty or all-NA columns when determining the result dtypes. To retain the old behavior, exclude the \n",
       "relevant entries before the concat operation.\n",
       "  results = pd.concat([results, normalized_data]) #.dropna(axis=1, how=\"all\")])\n"
      ]
     },
     "metadata": {},
     "output_type": "display_data"
    },
    {
     "data": {
      "text/html": [
       "<pre style=\"white-space:pre;overflow-x:auto;line-height:normal;font-family:Menlo,'DejaVu Sans Mono',consolas,'Courier New',monospace\">/var/folders/7t/k8q3439j6z3c683j7w00wtm80000gn/T/ipykernel_58430/330735155.py:26: FutureWarning: The behavior of \n",
       "DataFrame concatenation with empty or all-NA entries is deprecated. In a future version, this will no longer \n",
       "exclude empty or all-NA columns when determining the result dtypes. To retain the old behavior, exclude the \n",
       "relevant entries before the concat operation.\n",
       "  results = pd.concat([results, normalized_data]) #.dropna(axis=1, how=\"all\")])\n",
       "</pre>\n"
      ],
      "text/plain": [
       "/var/folders/7t/k8q3439j6z3c683j7w00wtm80000gn/T/ipykernel_58430/330735155.py:26: FutureWarning: The behavior of \n",
       "DataFrame concatenation with empty or all-NA entries is deprecated. In a future version, this will no longer \n",
       "exclude empty or all-NA columns when determining the result dtypes. To retain the old behavior, exclude the \n",
       "relevant entries before the concat operation.\n",
       "  results = pd.concat([results, normalized_data]) #.dropna(axis=1, how=\"all\")])\n"
      ]
     },
     "metadata": {},
     "output_type": "display_data"
    },
    {
     "data": {
      "text/html": [
       "<pre style=\"white-space:pre;overflow-x:auto;line-height:normal;font-family:Menlo,'DejaVu Sans Mono',consolas,'Courier New',monospace\">/var/folders/7t/k8q3439j6z3c683j7w00wtm80000gn/T/ipykernel_58430/330735155.py:26: FutureWarning: The behavior of \n",
       "DataFrame concatenation with empty or all-NA entries is deprecated. In a future version, this will no longer \n",
       "exclude empty or all-NA columns when determining the result dtypes. To retain the old behavior, exclude the \n",
       "relevant entries before the concat operation.\n",
       "  results = pd.concat([results, normalized_data]) #.dropna(axis=1, how=\"all\")])\n",
       "</pre>\n"
      ],
      "text/plain": [
       "/var/folders/7t/k8q3439j6z3c683j7w00wtm80000gn/T/ipykernel_58430/330735155.py:26: FutureWarning: The behavior of \n",
       "DataFrame concatenation with empty or all-NA entries is deprecated. In a future version, this will no longer \n",
       "exclude empty or all-NA columns when determining the result dtypes. To retain the old behavior, exclude the \n",
       "relevant entries before the concat operation.\n",
       "  results = pd.concat([results, normalized_data]) #.dropna(axis=1, how=\"all\")])\n"
      ]
     },
     "metadata": {},
     "output_type": "display_data"
    },
    {
     "data": {
      "text/html": [
       "<pre style=\"white-space:pre;overflow-x:auto;line-height:normal;font-family:Menlo,'DejaVu Sans Mono',consolas,'Courier New',monospace\">/var/folders/7t/k8q3439j6z3c683j7w00wtm80000gn/T/ipykernel_58430/330735155.py:26: FutureWarning: The behavior of \n",
       "DataFrame concatenation with empty or all-NA entries is deprecated. In a future version, this will no longer \n",
       "exclude empty or all-NA columns when determining the result dtypes. To retain the old behavior, exclude the \n",
       "relevant entries before the concat operation.\n",
       "  results = pd.concat([results, normalized_data]) #.dropna(axis=1, how=\"all\")])\n",
       "</pre>\n"
      ],
      "text/plain": [
       "/var/folders/7t/k8q3439j6z3c683j7w00wtm80000gn/T/ipykernel_58430/330735155.py:26: FutureWarning: The behavior of \n",
       "DataFrame concatenation with empty or all-NA entries is deprecated. In a future version, this will no longer \n",
       "exclude empty or all-NA columns when determining the result dtypes. To retain the old behavior, exclude the \n",
       "relevant entries before the concat operation.\n",
       "  results = pd.concat([results, normalized_data]) #.dropna(axis=1, how=\"all\")])\n"
      ]
     },
     "metadata": {},
     "output_type": "display_data"
    },
    {
     "data": {
      "text/html": [
       "<pre style=\"white-space:pre;overflow-x:auto;line-height:normal;font-family:Menlo,'DejaVu Sans Mono',consolas,'Courier New',monospace\">/var/folders/7t/k8q3439j6z3c683j7w00wtm80000gn/T/ipykernel_58430/330735155.py:26: FutureWarning: The behavior of \n",
       "DataFrame concatenation with empty or all-NA entries is deprecated. In a future version, this will no longer \n",
       "exclude empty or all-NA columns when determining the result dtypes. To retain the old behavior, exclude the \n",
       "relevant entries before the concat operation.\n",
       "  results = pd.concat([results, normalized_data]) #.dropna(axis=1, how=\"all\")])\n",
       "</pre>\n"
      ],
      "text/plain": [
       "/var/folders/7t/k8q3439j6z3c683j7w00wtm80000gn/T/ipykernel_58430/330735155.py:26: FutureWarning: The behavior of \n",
       "DataFrame concatenation with empty or all-NA entries is deprecated. In a future version, this will no longer \n",
       "exclude empty or all-NA columns when determining the result dtypes. To retain the old behavior, exclude the \n",
       "relevant entries before the concat operation.\n",
       "  results = pd.concat([results, normalized_data]) #.dropna(axis=1, how=\"all\")])\n"
      ]
     },
     "metadata": {},
     "output_type": "display_data"
    },
    {
     "data": {
      "text/html": [
       "<pre style=\"white-space:pre;overflow-x:auto;line-height:normal;font-family:Menlo,'DejaVu Sans Mono',consolas,'Courier New',monospace\">/var/folders/7t/k8q3439j6z3c683j7w00wtm80000gn/T/ipykernel_58430/330735155.py:26: FutureWarning: The behavior of \n",
       "DataFrame concatenation with empty or all-NA entries is deprecated. In a future version, this will no longer \n",
       "exclude empty or all-NA columns when determining the result dtypes. To retain the old behavior, exclude the \n",
       "relevant entries before the concat operation.\n",
       "  results = pd.concat([results, normalized_data]) #.dropna(axis=1, how=\"all\")])\n",
       "</pre>\n"
      ],
      "text/plain": [
       "/var/folders/7t/k8q3439j6z3c683j7w00wtm80000gn/T/ipykernel_58430/330735155.py:26: FutureWarning: The behavior of \n",
       "DataFrame concatenation with empty or all-NA entries is deprecated. In a future version, this will no longer \n",
       "exclude empty or all-NA columns when determining the result dtypes. To retain the old behavior, exclude the \n",
       "relevant entries before the concat operation.\n",
       "  results = pd.concat([results, normalized_data]) #.dropna(axis=1, how=\"all\")])\n"
      ]
     },
     "metadata": {},
     "output_type": "display_data"
    },
    {
     "data": {
      "text/html": [
       "<pre style=\"white-space:pre;overflow-x:auto;line-height:normal;font-family:Menlo,'DejaVu Sans Mono',consolas,'Courier New',monospace\">/var/folders/7t/k8q3439j6z3c683j7w00wtm80000gn/T/ipykernel_58430/330735155.py:26: FutureWarning: The behavior of \n",
       "DataFrame concatenation with empty or all-NA entries is deprecated. In a future version, this will no longer \n",
       "exclude empty or all-NA columns when determining the result dtypes. To retain the old behavior, exclude the \n",
       "relevant entries before the concat operation.\n",
       "  results = pd.concat([results, normalized_data]) #.dropna(axis=1, how=\"all\")])\n",
       "</pre>\n"
      ],
      "text/plain": [
       "/var/folders/7t/k8q3439j6z3c683j7w00wtm80000gn/T/ipykernel_58430/330735155.py:26: FutureWarning: The behavior of \n",
       "DataFrame concatenation with empty or all-NA entries is deprecated. In a future version, this will no longer \n",
       "exclude empty or all-NA columns when determining the result dtypes. To retain the old behavior, exclude the \n",
       "relevant entries before the concat operation.\n",
       "  results = pd.concat([results, normalized_data]) #.dropna(axis=1, how=\"all\")])\n"
      ]
     },
     "metadata": {},
     "output_type": "display_data"
    },
    {
     "data": {
      "text/html": [
       "<pre style=\"white-space:pre;overflow-x:auto;line-height:normal;font-family:Menlo,'DejaVu Sans Mono',consolas,'Courier New',monospace\">/var/folders/7t/k8q3439j6z3c683j7w00wtm80000gn/T/ipykernel_58430/330735155.py:26: FutureWarning: The behavior of \n",
       "DataFrame concatenation with empty or all-NA entries is deprecated. In a future version, this will no longer \n",
       "exclude empty or all-NA columns when determining the result dtypes. To retain the old behavior, exclude the \n",
       "relevant entries before the concat operation.\n",
       "  results = pd.concat([results, normalized_data]) #.dropna(axis=1, how=\"all\")])\n",
       "</pre>\n"
      ],
      "text/plain": [
       "/var/folders/7t/k8q3439j6z3c683j7w00wtm80000gn/T/ipykernel_58430/330735155.py:26: FutureWarning: The behavior of \n",
       "DataFrame concatenation with empty or all-NA entries is deprecated. In a future version, this will no longer \n",
       "exclude empty or all-NA columns when determining the result dtypes. To retain the old behavior, exclude the \n",
       "relevant entries before the concat operation.\n",
       "  results = pd.concat([results, normalized_data]) #.dropna(axis=1, how=\"all\")])\n"
      ]
     },
     "metadata": {},
     "output_type": "display_data"
    },
    {
     "data": {
      "text/html": [
       "<pre style=\"white-space:pre;overflow-x:auto;line-height:normal;font-family:Menlo,'DejaVu Sans Mono',consolas,'Courier New',monospace\">/var/folders/7t/k8q3439j6z3c683j7w00wtm80000gn/T/ipykernel_58430/330735155.py:26: FutureWarning: The behavior of \n",
       "DataFrame concatenation with empty or all-NA entries is deprecated. In a future version, this will no longer \n",
       "exclude empty or all-NA columns when determining the result dtypes. To retain the old behavior, exclude the \n",
       "relevant entries before the concat operation.\n",
       "  results = pd.concat([results, normalized_data]) #.dropna(axis=1, how=\"all\")])\n",
       "</pre>\n"
      ],
      "text/plain": [
       "/var/folders/7t/k8q3439j6z3c683j7w00wtm80000gn/T/ipykernel_58430/330735155.py:26: FutureWarning: The behavior of \n",
       "DataFrame concatenation with empty or all-NA entries is deprecated. In a future version, this will no longer \n",
       "exclude empty or all-NA columns when determining the result dtypes. To retain the old behavior, exclude the \n",
       "relevant entries before the concat operation.\n",
       "  results = pd.concat([results, normalized_data]) #.dropna(axis=1, how=\"all\")])\n"
      ]
     },
     "metadata": {},
     "output_type": "display_data"
    },
    {
     "data": {
      "text/html": [
       "<pre style=\"white-space:pre;overflow-x:auto;line-height:normal;font-family:Menlo,'DejaVu Sans Mono',consolas,'Courier New',monospace\">/var/folders/7t/k8q3439j6z3c683j7w00wtm80000gn/T/ipykernel_58430/330735155.py:26: FutureWarning: The behavior of \n",
       "DataFrame concatenation with empty or all-NA entries is deprecated. In a future version, this will no longer \n",
       "exclude empty or all-NA columns when determining the result dtypes. To retain the old behavior, exclude the \n",
       "relevant entries before the concat operation.\n",
       "  results = pd.concat([results, normalized_data]) #.dropna(axis=1, how=\"all\")])\n",
       "</pre>\n"
      ],
      "text/plain": [
       "/var/folders/7t/k8q3439j6z3c683j7w00wtm80000gn/T/ipykernel_58430/330735155.py:26: FutureWarning: The behavior of \n",
       "DataFrame concatenation with empty or all-NA entries is deprecated. In a future version, this will no longer \n",
       "exclude empty or all-NA columns when determining the result dtypes. To retain the old behavior, exclude the \n",
       "relevant entries before the concat operation.\n",
       "  results = pd.concat([results, normalized_data]) #.dropna(axis=1, how=\"all\")])\n"
      ]
     },
     "metadata": {},
     "output_type": "display_data"
    },
    {
     "data": {
      "text/html": [
       "<pre style=\"white-space:pre;overflow-x:auto;line-height:normal;font-family:Menlo,'DejaVu Sans Mono',consolas,'Courier New',monospace\">/var/folders/7t/k8q3439j6z3c683j7w00wtm80000gn/T/ipykernel_58430/330735155.py:26: FutureWarning: The behavior of \n",
       "DataFrame concatenation with empty or all-NA entries is deprecated. In a future version, this will no longer \n",
       "exclude empty or all-NA columns when determining the result dtypes. To retain the old behavior, exclude the \n",
       "relevant entries before the concat operation.\n",
       "  results = pd.concat([results, normalized_data]) #.dropna(axis=1, how=\"all\")])\n",
       "</pre>\n"
      ],
      "text/plain": [
       "/var/folders/7t/k8q3439j6z3c683j7w00wtm80000gn/T/ipykernel_58430/330735155.py:26: FutureWarning: The behavior of \n",
       "DataFrame concatenation with empty or all-NA entries is deprecated. In a future version, this will no longer \n",
       "exclude empty or all-NA columns when determining the result dtypes. To retain the old behavior, exclude the \n",
       "relevant entries before the concat operation.\n",
       "  results = pd.concat([results, normalized_data]) #.dropna(axis=1, how=\"all\")])\n"
      ]
     },
     "metadata": {},
     "output_type": "display_data"
    },
    {
     "data": {
      "text/html": [
       "<pre style=\"white-space:pre;overflow-x:auto;line-height:normal;font-family:Menlo,'DejaVu Sans Mono',consolas,'Courier New',monospace\">/var/folders/7t/k8q3439j6z3c683j7w00wtm80000gn/T/ipykernel_58430/330735155.py:26: FutureWarning: The behavior of \n",
       "DataFrame concatenation with empty or all-NA entries is deprecated. In a future version, this will no longer \n",
       "exclude empty or all-NA columns when determining the result dtypes. To retain the old behavior, exclude the \n",
       "relevant entries before the concat operation.\n",
       "  results = pd.concat([results, normalized_data]) #.dropna(axis=1, how=\"all\")])\n",
       "</pre>\n"
      ],
      "text/plain": [
       "/var/folders/7t/k8q3439j6z3c683j7w00wtm80000gn/T/ipykernel_58430/330735155.py:26: FutureWarning: The behavior of \n",
       "DataFrame concatenation with empty or all-NA entries is deprecated. In a future version, this will no longer \n",
       "exclude empty or all-NA columns when determining the result dtypes. To retain the old behavior, exclude the \n",
       "relevant entries before the concat operation.\n",
       "  results = pd.concat([results, normalized_data]) #.dropna(axis=1, how=\"all\")])\n"
      ]
     },
     "metadata": {},
     "output_type": "display_data"
    },
    {
     "data": {
      "text/html": [
       "<pre style=\"white-space:pre;overflow-x:auto;line-height:normal;font-family:Menlo,'DejaVu Sans Mono',consolas,'Courier New',monospace\">/var/folders/7t/k8q3439j6z3c683j7w00wtm80000gn/T/ipykernel_58430/330735155.py:26: FutureWarning: The behavior of \n",
       "DataFrame concatenation with empty or all-NA entries is deprecated. In a future version, this will no longer \n",
       "exclude empty or all-NA columns when determining the result dtypes. To retain the old behavior, exclude the \n",
       "relevant entries before the concat operation.\n",
       "  results = pd.concat([results, normalized_data]) #.dropna(axis=1, how=\"all\")])\n",
       "</pre>\n"
      ],
      "text/plain": [
       "/var/folders/7t/k8q3439j6z3c683j7w00wtm80000gn/T/ipykernel_58430/330735155.py:26: FutureWarning: The behavior of \n",
       "DataFrame concatenation with empty or all-NA entries is deprecated. In a future version, this will no longer \n",
       "exclude empty or all-NA columns when determining the result dtypes. To retain the old behavior, exclude the \n",
       "relevant entries before the concat operation.\n",
       "  results = pd.concat([results, normalized_data]) #.dropna(axis=1, how=\"all\")])\n"
      ]
     },
     "metadata": {},
     "output_type": "display_data"
    },
    {
     "data": {
      "text/html": [
       "<pre style=\"white-space:pre;overflow-x:auto;line-height:normal;font-family:Menlo,'DejaVu Sans Mono',consolas,'Courier New',monospace\">/var/folders/7t/k8q3439j6z3c683j7w00wtm80000gn/T/ipykernel_58430/330735155.py:26: FutureWarning: The behavior of \n",
       "DataFrame concatenation with empty or all-NA entries is deprecated. In a future version, this will no longer \n",
       "exclude empty or all-NA columns when determining the result dtypes. To retain the old behavior, exclude the \n",
       "relevant entries before the concat operation.\n",
       "  results = pd.concat([results, normalized_data]) #.dropna(axis=1, how=\"all\")])\n",
       "</pre>\n"
      ],
      "text/plain": [
       "/var/folders/7t/k8q3439j6z3c683j7w00wtm80000gn/T/ipykernel_58430/330735155.py:26: FutureWarning: The behavior of \n",
       "DataFrame concatenation with empty or all-NA entries is deprecated. In a future version, this will no longer \n",
       "exclude empty or all-NA columns when determining the result dtypes. To retain the old behavior, exclude the \n",
       "relevant entries before the concat operation.\n",
       "  results = pd.concat([results, normalized_data]) #.dropna(axis=1, how=\"all\")])\n"
      ]
     },
     "metadata": {},
     "output_type": "display_data"
    },
    {
     "data": {
      "text/html": [
       "<pre style=\"white-space:pre;overflow-x:auto;line-height:normal;font-family:Menlo,'DejaVu Sans Mono',consolas,'Courier New',monospace\">/var/folders/7t/k8q3439j6z3c683j7w00wtm80000gn/T/ipykernel_58430/330735155.py:26: FutureWarning: The behavior of \n",
       "DataFrame concatenation with empty or all-NA entries is deprecated. In a future version, this will no longer \n",
       "exclude empty or all-NA columns when determining the result dtypes. To retain the old behavior, exclude the \n",
       "relevant entries before the concat operation.\n",
       "  results = pd.concat([results, normalized_data]) #.dropna(axis=1, how=\"all\")])\n",
       "</pre>\n"
      ],
      "text/plain": [
       "/var/folders/7t/k8q3439j6z3c683j7w00wtm80000gn/T/ipykernel_58430/330735155.py:26: FutureWarning: The behavior of \n",
       "DataFrame concatenation with empty or all-NA entries is deprecated. In a future version, this will no longer \n",
       "exclude empty or all-NA columns when determining the result dtypes. To retain the old behavior, exclude the \n",
       "relevant entries before the concat operation.\n",
       "  results = pd.concat([results, normalized_data]) #.dropna(axis=1, how=\"all\")])\n"
      ]
     },
     "metadata": {},
     "output_type": "display_data"
    },
    {
     "data": {
      "text/html": [
       "<pre style=\"white-space:pre;overflow-x:auto;line-height:normal;font-family:Menlo,'DejaVu Sans Mono',consolas,'Courier New',monospace\">/var/folders/7t/k8q3439j6z3c683j7w00wtm80000gn/T/ipykernel_58430/330735155.py:26: FutureWarning: The behavior of \n",
       "DataFrame concatenation with empty or all-NA entries is deprecated. In a future version, this will no longer \n",
       "exclude empty or all-NA columns when determining the result dtypes. To retain the old behavior, exclude the \n",
       "relevant entries before the concat operation.\n",
       "  results = pd.concat([results, normalized_data]) #.dropna(axis=1, how=\"all\")])\n",
       "</pre>\n"
      ],
      "text/plain": [
       "/var/folders/7t/k8q3439j6z3c683j7w00wtm80000gn/T/ipykernel_58430/330735155.py:26: FutureWarning: The behavior of \n",
       "DataFrame concatenation with empty or all-NA entries is deprecated. In a future version, this will no longer \n",
       "exclude empty or all-NA columns when determining the result dtypes. To retain the old behavior, exclude the \n",
       "relevant entries before the concat operation.\n",
       "  results = pd.concat([results, normalized_data]) #.dropna(axis=1, how=\"all\")])\n"
      ]
     },
     "metadata": {},
     "output_type": "display_data"
    },
    {
     "data": {
      "text/html": [
       "<pre style=\"white-space:pre;overflow-x:auto;line-height:normal;font-family:Menlo,'DejaVu Sans Mono',consolas,'Courier New',monospace\">/var/folders/7t/k8q3439j6z3c683j7w00wtm80000gn/T/ipykernel_58430/330735155.py:26: FutureWarning: The behavior of \n",
       "DataFrame concatenation with empty or all-NA entries is deprecated. In a future version, this will no longer \n",
       "exclude empty or all-NA columns when determining the result dtypes. To retain the old behavior, exclude the \n",
       "relevant entries before the concat operation.\n",
       "  results = pd.concat([results, normalized_data]) #.dropna(axis=1, how=\"all\")])\n",
       "</pre>\n"
      ],
      "text/plain": [
       "/var/folders/7t/k8q3439j6z3c683j7w00wtm80000gn/T/ipykernel_58430/330735155.py:26: FutureWarning: The behavior of \n",
       "DataFrame concatenation with empty or all-NA entries is deprecated. In a future version, this will no longer \n",
       "exclude empty or all-NA columns when determining the result dtypes. To retain the old behavior, exclude the \n",
       "relevant entries before the concat operation.\n",
       "  results = pd.concat([results, normalized_data]) #.dropna(axis=1, how=\"all\")])\n"
      ]
     },
     "metadata": {},
     "output_type": "display_data"
    },
    {
     "data": {
      "text/html": [
       "<pre style=\"white-space:pre;overflow-x:auto;line-height:normal;font-family:Menlo,'DejaVu Sans Mono',consolas,'Courier New',monospace\">/var/folders/7t/k8q3439j6z3c683j7w00wtm80000gn/T/ipykernel_58430/330735155.py:26: FutureWarning: The behavior of \n",
       "DataFrame concatenation with empty or all-NA entries is deprecated. In a future version, this will no longer \n",
       "exclude empty or all-NA columns when determining the result dtypes. To retain the old behavior, exclude the \n",
       "relevant entries before the concat operation.\n",
       "  results = pd.concat([results, normalized_data]) #.dropna(axis=1, how=\"all\")])\n",
       "</pre>\n"
      ],
      "text/plain": [
       "/var/folders/7t/k8q3439j6z3c683j7w00wtm80000gn/T/ipykernel_58430/330735155.py:26: FutureWarning: The behavior of \n",
       "DataFrame concatenation with empty or all-NA entries is deprecated. In a future version, this will no longer \n",
       "exclude empty or all-NA columns when determining the result dtypes. To retain the old behavior, exclude the \n",
       "relevant entries before the concat operation.\n",
       "  results = pd.concat([results, normalized_data]) #.dropna(axis=1, how=\"all\")])\n"
      ]
     },
     "metadata": {},
     "output_type": "display_data"
    },
    {
     "data": {
      "text/html": [
       "<pre style=\"white-space:pre;overflow-x:auto;line-height:normal;font-family:Menlo,'DejaVu Sans Mono',consolas,'Courier New',monospace\">/var/folders/7t/k8q3439j6z3c683j7w00wtm80000gn/T/ipykernel_58430/330735155.py:26: FutureWarning: The behavior of \n",
       "DataFrame concatenation with empty or all-NA entries is deprecated. In a future version, this will no longer \n",
       "exclude empty or all-NA columns when determining the result dtypes. To retain the old behavior, exclude the \n",
       "relevant entries before the concat operation.\n",
       "  results = pd.concat([results, normalized_data]) #.dropna(axis=1, how=\"all\")])\n",
       "</pre>\n"
      ],
      "text/plain": [
       "/var/folders/7t/k8q3439j6z3c683j7w00wtm80000gn/T/ipykernel_58430/330735155.py:26: FutureWarning: The behavior of \n",
       "DataFrame concatenation with empty or all-NA entries is deprecated. In a future version, this will no longer \n",
       "exclude empty or all-NA columns when determining the result dtypes. To retain the old behavior, exclude the \n",
       "relevant entries before the concat operation.\n",
       "  results = pd.concat([results, normalized_data]) #.dropna(axis=1, how=\"all\")])\n"
      ]
     },
     "metadata": {},
     "output_type": "display_data"
    },
    {
     "data": {
      "text/html": [
       "<pre style=\"white-space:pre;overflow-x:auto;line-height:normal;font-family:Menlo,'DejaVu Sans Mono',consolas,'Courier New',monospace\">/var/folders/7t/k8q3439j6z3c683j7w00wtm80000gn/T/ipykernel_58430/330735155.py:26: FutureWarning: The behavior of \n",
       "DataFrame concatenation with empty or all-NA entries is deprecated. In a future version, this will no longer \n",
       "exclude empty or all-NA columns when determining the result dtypes. To retain the old behavior, exclude the \n",
       "relevant entries before the concat operation.\n",
       "  results = pd.concat([results, normalized_data]) #.dropna(axis=1, how=\"all\")])\n",
       "</pre>\n"
      ],
      "text/plain": [
       "/var/folders/7t/k8q3439j6z3c683j7w00wtm80000gn/T/ipykernel_58430/330735155.py:26: FutureWarning: The behavior of \n",
       "DataFrame concatenation with empty or all-NA entries is deprecated. In a future version, this will no longer \n",
       "exclude empty or all-NA columns when determining the result dtypes. To retain the old behavior, exclude the \n",
       "relevant entries before the concat operation.\n",
       "  results = pd.concat([results, normalized_data]) #.dropna(axis=1, how=\"all\")])\n"
      ]
     },
     "metadata": {},
     "output_type": "display_data"
    },
    {
     "data": {
      "text/html": [
       "<pre style=\"white-space:pre;overflow-x:auto;line-height:normal;font-family:Menlo,'DejaVu Sans Mono',consolas,'Courier New',monospace\">/var/folders/7t/k8q3439j6z3c683j7w00wtm80000gn/T/ipykernel_58430/330735155.py:26: FutureWarning: The behavior of \n",
       "DataFrame concatenation with empty or all-NA entries is deprecated. In a future version, this will no longer \n",
       "exclude empty or all-NA columns when determining the result dtypes. To retain the old behavior, exclude the \n",
       "relevant entries before the concat operation.\n",
       "  results = pd.concat([results, normalized_data]) #.dropna(axis=1, how=\"all\")])\n",
       "</pre>\n"
      ],
      "text/plain": [
       "/var/folders/7t/k8q3439j6z3c683j7w00wtm80000gn/T/ipykernel_58430/330735155.py:26: FutureWarning: The behavior of \n",
       "DataFrame concatenation with empty or all-NA entries is deprecated. In a future version, this will no longer \n",
       "exclude empty or all-NA columns when determining the result dtypes. To retain the old behavior, exclude the \n",
       "relevant entries before the concat operation.\n",
       "  results = pd.concat([results, normalized_data]) #.dropna(axis=1, how=\"all\")])\n"
      ]
     },
     "metadata": {},
     "output_type": "display_data"
    },
    {
     "data": {
      "text/html": [
       "<pre style=\"white-space:pre;overflow-x:auto;line-height:normal;font-family:Menlo,'DejaVu Sans Mono',consolas,'Courier New',monospace\">/var/folders/7t/k8q3439j6z3c683j7w00wtm80000gn/T/ipykernel_58430/330735155.py:26: FutureWarning: The behavior of \n",
       "DataFrame concatenation with empty or all-NA entries is deprecated. In a future version, this will no longer \n",
       "exclude empty or all-NA columns when determining the result dtypes. To retain the old behavior, exclude the \n",
       "relevant entries before the concat operation.\n",
       "  results = pd.concat([results, normalized_data]) #.dropna(axis=1, how=\"all\")])\n",
       "</pre>\n"
      ],
      "text/plain": [
       "/var/folders/7t/k8q3439j6z3c683j7w00wtm80000gn/T/ipykernel_58430/330735155.py:26: FutureWarning: The behavior of \n",
       "DataFrame concatenation with empty or all-NA entries is deprecated. In a future version, this will no longer \n",
       "exclude empty or all-NA columns when determining the result dtypes. To retain the old behavior, exclude the \n",
       "relevant entries before the concat operation.\n",
       "  results = pd.concat([results, normalized_data]) #.dropna(axis=1, how=\"all\")])\n"
      ]
     },
     "metadata": {},
     "output_type": "display_data"
    },
    {
     "data": {
      "text/html": [
       "<pre style=\"white-space:pre;overflow-x:auto;line-height:normal;font-family:Menlo,'DejaVu Sans Mono',consolas,'Courier New',monospace\">/var/folders/7t/k8q3439j6z3c683j7w00wtm80000gn/T/ipykernel_58430/330735155.py:26: FutureWarning: The behavior of \n",
       "DataFrame concatenation with empty or all-NA entries is deprecated. In a future version, this will no longer \n",
       "exclude empty or all-NA columns when determining the result dtypes. To retain the old behavior, exclude the \n",
       "relevant entries before the concat operation.\n",
       "  results = pd.concat([results, normalized_data]) #.dropna(axis=1, how=\"all\")])\n",
       "</pre>\n"
      ],
      "text/plain": [
       "/var/folders/7t/k8q3439j6z3c683j7w00wtm80000gn/T/ipykernel_58430/330735155.py:26: FutureWarning: The behavior of \n",
       "DataFrame concatenation with empty or all-NA entries is deprecated. In a future version, this will no longer \n",
       "exclude empty or all-NA columns when determining the result dtypes. To retain the old behavior, exclude the \n",
       "relevant entries before the concat operation.\n",
       "  results = pd.concat([results, normalized_data]) #.dropna(axis=1, how=\"all\")])\n"
      ]
     },
     "metadata": {},
     "output_type": "display_data"
    },
    {
     "data": {
      "text/html": [
       "<pre style=\"white-space:pre;overflow-x:auto;line-height:normal;font-family:Menlo,'DejaVu Sans Mono',consolas,'Courier New',monospace\">/var/folders/7t/k8q3439j6z3c683j7w00wtm80000gn/T/ipykernel_58430/330735155.py:26: FutureWarning: The behavior of \n",
       "DataFrame concatenation with empty or all-NA entries is deprecated. In a future version, this will no longer \n",
       "exclude empty or all-NA columns when determining the result dtypes. To retain the old behavior, exclude the \n",
       "relevant entries before the concat operation.\n",
       "  results = pd.concat([results, normalized_data]) #.dropna(axis=1, how=\"all\")])\n",
       "</pre>\n"
      ],
      "text/plain": [
       "/var/folders/7t/k8q3439j6z3c683j7w00wtm80000gn/T/ipykernel_58430/330735155.py:26: FutureWarning: The behavior of \n",
       "DataFrame concatenation with empty or all-NA entries is deprecated. In a future version, this will no longer \n",
       "exclude empty or all-NA columns when determining the result dtypes. To retain the old behavior, exclude the \n",
       "relevant entries before the concat operation.\n",
       "  results = pd.concat([results, normalized_data]) #.dropna(axis=1, how=\"all\")])\n"
      ]
     },
     "metadata": {},
     "output_type": "display_data"
    },
    {
     "data": {
      "text/html": [
       "<pre style=\"white-space:pre;overflow-x:auto;line-height:normal;font-family:Menlo,'DejaVu Sans Mono',consolas,'Courier New',monospace\">/var/folders/7t/k8q3439j6z3c683j7w00wtm80000gn/T/ipykernel_58430/330735155.py:26: FutureWarning: The behavior of \n",
       "DataFrame concatenation with empty or all-NA entries is deprecated. In a future version, this will no longer \n",
       "exclude empty or all-NA columns when determining the result dtypes. To retain the old behavior, exclude the \n",
       "relevant entries before the concat operation.\n",
       "  results = pd.concat([results, normalized_data]) #.dropna(axis=1, how=\"all\")])\n",
       "</pre>\n"
      ],
      "text/plain": [
       "/var/folders/7t/k8q3439j6z3c683j7w00wtm80000gn/T/ipykernel_58430/330735155.py:26: FutureWarning: The behavior of \n",
       "DataFrame concatenation with empty or all-NA entries is deprecated. In a future version, this will no longer \n",
       "exclude empty or all-NA columns when determining the result dtypes. To retain the old behavior, exclude the \n",
       "relevant entries before the concat operation.\n",
       "  results = pd.concat([results, normalized_data]) #.dropna(axis=1, how=\"all\")])\n"
      ]
     },
     "metadata": {},
     "output_type": "display_data"
    },
    {
     "data": {
      "text/html": [
       "<pre style=\"white-space:pre;overflow-x:auto;line-height:normal;font-family:Menlo,'DejaVu Sans Mono',consolas,'Courier New',monospace\">/var/folders/7t/k8q3439j6z3c683j7w00wtm80000gn/T/ipykernel_58430/330735155.py:26: FutureWarning: The behavior of \n",
       "DataFrame concatenation with empty or all-NA entries is deprecated. In a future version, this will no longer \n",
       "exclude empty or all-NA columns when determining the result dtypes. To retain the old behavior, exclude the \n",
       "relevant entries before the concat operation.\n",
       "  results = pd.concat([results, normalized_data]) #.dropna(axis=1, how=\"all\")])\n",
       "</pre>\n"
      ],
      "text/plain": [
       "/var/folders/7t/k8q3439j6z3c683j7w00wtm80000gn/T/ipykernel_58430/330735155.py:26: FutureWarning: The behavior of \n",
       "DataFrame concatenation with empty or all-NA entries is deprecated. In a future version, this will no longer \n",
       "exclude empty or all-NA columns when determining the result dtypes. To retain the old behavior, exclude the \n",
       "relevant entries before the concat operation.\n",
       "  results = pd.concat([results, normalized_data]) #.dropna(axis=1, how=\"all\")])\n"
      ]
     },
     "metadata": {},
     "output_type": "display_data"
    },
    {
     "data": {
      "text/html": [
       "<pre style=\"white-space:pre;overflow-x:auto;line-height:normal;font-family:Menlo,'DejaVu Sans Mono',consolas,'Courier New',monospace\">/var/folders/7t/k8q3439j6z3c683j7w00wtm80000gn/T/ipykernel_58430/330735155.py:26: FutureWarning: The behavior of \n",
       "DataFrame concatenation with empty or all-NA entries is deprecated. In a future version, this will no longer \n",
       "exclude empty or all-NA columns when determining the result dtypes. To retain the old behavior, exclude the \n",
       "relevant entries before the concat operation.\n",
       "  results = pd.concat([results, normalized_data]) #.dropna(axis=1, how=\"all\")])\n",
       "</pre>\n"
      ],
      "text/plain": [
       "/var/folders/7t/k8q3439j6z3c683j7w00wtm80000gn/T/ipykernel_58430/330735155.py:26: FutureWarning: The behavior of \n",
       "DataFrame concatenation with empty or all-NA entries is deprecated. In a future version, this will no longer \n",
       "exclude empty or all-NA columns when determining the result dtypes. To retain the old behavior, exclude the \n",
       "relevant entries before the concat operation.\n",
       "  results = pd.concat([results, normalized_data]) #.dropna(axis=1, how=\"all\")])\n"
      ]
     },
     "metadata": {},
     "output_type": "display_data"
    },
    {
     "data": {
      "text/html": [
       "<pre style=\"white-space:pre;overflow-x:auto;line-height:normal;font-family:Menlo,'DejaVu Sans Mono',consolas,'Courier New',monospace\">/var/folders/7t/k8q3439j6z3c683j7w00wtm80000gn/T/ipykernel_58430/330735155.py:26: FutureWarning: The behavior of \n",
       "DataFrame concatenation with empty or all-NA entries is deprecated. In a future version, this will no longer \n",
       "exclude empty or all-NA columns when determining the result dtypes. To retain the old behavior, exclude the \n",
       "relevant entries before the concat operation.\n",
       "  results = pd.concat([results, normalized_data]) #.dropna(axis=1, how=\"all\")])\n",
       "</pre>\n"
      ],
      "text/plain": [
       "/var/folders/7t/k8q3439j6z3c683j7w00wtm80000gn/T/ipykernel_58430/330735155.py:26: FutureWarning: The behavior of \n",
       "DataFrame concatenation with empty or all-NA entries is deprecated. In a future version, this will no longer \n",
       "exclude empty or all-NA columns when determining the result dtypes. To retain the old behavior, exclude the \n",
       "relevant entries before the concat operation.\n",
       "  results = pd.concat([results, normalized_data]) #.dropna(axis=1, how=\"all\")])\n"
      ]
     },
     "metadata": {},
     "output_type": "display_data"
    },
    {
     "data": {
      "text/html": [
       "<pre style=\"white-space:pre;overflow-x:auto;line-height:normal;font-family:Menlo,'DejaVu Sans Mono',consolas,'Courier New',monospace\">/var/folders/7t/k8q3439j6z3c683j7w00wtm80000gn/T/ipykernel_58430/330735155.py:26: FutureWarning: The behavior of \n",
       "DataFrame concatenation with empty or all-NA entries is deprecated. In a future version, this will no longer \n",
       "exclude empty or all-NA columns when determining the result dtypes. To retain the old behavior, exclude the \n",
       "relevant entries before the concat operation.\n",
       "  results = pd.concat([results, normalized_data]) #.dropna(axis=1, how=\"all\")])\n",
       "</pre>\n"
      ],
      "text/plain": [
       "/var/folders/7t/k8q3439j6z3c683j7w00wtm80000gn/T/ipykernel_58430/330735155.py:26: FutureWarning: The behavior of \n",
       "DataFrame concatenation with empty or all-NA entries is deprecated. In a future version, this will no longer \n",
       "exclude empty or all-NA columns when determining the result dtypes. To retain the old behavior, exclude the \n",
       "relevant entries before the concat operation.\n",
       "  results = pd.concat([results, normalized_data]) #.dropna(axis=1, how=\"all\")])\n"
      ]
     },
     "metadata": {},
     "output_type": "display_data"
    },
    {
     "data": {
      "text/html": [
       "<pre style=\"white-space:pre;overflow-x:auto;line-height:normal;font-family:Menlo,'DejaVu Sans Mono',consolas,'Courier New',monospace\">/var/folders/7t/k8q3439j6z3c683j7w00wtm80000gn/T/ipykernel_58430/330735155.py:26: FutureWarning: The behavior of \n",
       "DataFrame concatenation with empty or all-NA entries is deprecated. In a future version, this will no longer \n",
       "exclude empty or all-NA columns when determining the result dtypes. To retain the old behavior, exclude the \n",
       "relevant entries before the concat operation.\n",
       "  results = pd.concat([results, normalized_data]) #.dropna(axis=1, how=\"all\")])\n",
       "</pre>\n"
      ],
      "text/plain": [
       "/var/folders/7t/k8q3439j6z3c683j7w00wtm80000gn/T/ipykernel_58430/330735155.py:26: FutureWarning: The behavior of \n",
       "DataFrame concatenation with empty or all-NA entries is deprecated. In a future version, this will no longer \n",
       "exclude empty or all-NA columns when determining the result dtypes. To retain the old behavior, exclude the \n",
       "relevant entries before the concat operation.\n",
       "  results = pd.concat([results, normalized_data]) #.dropna(axis=1, how=\"all\")])\n"
      ]
     },
     "metadata": {},
     "output_type": "display_data"
    },
    {
     "data": {
      "text/html": [
       "<pre style=\"white-space:pre;overflow-x:auto;line-height:normal;font-family:Menlo,'DejaVu Sans Mono',consolas,'Courier New',monospace\">/var/folders/7t/k8q3439j6z3c683j7w00wtm80000gn/T/ipykernel_58430/330735155.py:26: FutureWarning: The behavior of \n",
       "DataFrame concatenation with empty or all-NA entries is deprecated. In a future version, this will no longer \n",
       "exclude empty or all-NA columns when determining the result dtypes. To retain the old behavior, exclude the \n",
       "relevant entries before the concat operation.\n",
       "  results = pd.concat([results, normalized_data]) #.dropna(axis=1, how=\"all\")])\n",
       "</pre>\n"
      ],
      "text/plain": [
       "/var/folders/7t/k8q3439j6z3c683j7w00wtm80000gn/T/ipykernel_58430/330735155.py:26: FutureWarning: The behavior of \n",
       "DataFrame concatenation with empty or all-NA entries is deprecated. In a future version, this will no longer \n",
       "exclude empty or all-NA columns when determining the result dtypes. To retain the old behavior, exclude the \n",
       "relevant entries before the concat operation.\n",
       "  results = pd.concat([results, normalized_data]) #.dropna(axis=1, how=\"all\")])\n"
      ]
     },
     "metadata": {},
     "output_type": "display_data"
    },
    {
     "data": {
      "text/html": [
       "<pre style=\"white-space:pre;overflow-x:auto;line-height:normal;font-family:Menlo,'DejaVu Sans Mono',consolas,'Courier New',monospace\">/var/folders/7t/k8q3439j6z3c683j7w00wtm80000gn/T/ipykernel_58430/330735155.py:26: FutureWarning: The behavior of \n",
       "DataFrame concatenation with empty or all-NA entries is deprecated. In a future version, this will no longer \n",
       "exclude empty or all-NA columns when determining the result dtypes. To retain the old behavior, exclude the \n",
       "relevant entries before the concat operation.\n",
       "  results = pd.concat([results, normalized_data]) #.dropna(axis=1, how=\"all\")])\n",
       "</pre>\n"
      ],
      "text/plain": [
       "/var/folders/7t/k8q3439j6z3c683j7w00wtm80000gn/T/ipykernel_58430/330735155.py:26: FutureWarning: The behavior of \n",
       "DataFrame concatenation with empty or all-NA entries is deprecated. In a future version, this will no longer \n",
       "exclude empty or all-NA columns when determining the result dtypes. To retain the old behavior, exclude the \n",
       "relevant entries before the concat operation.\n",
       "  results = pd.concat([results, normalized_data]) #.dropna(axis=1, how=\"all\")])\n"
      ]
     },
     "metadata": {},
     "output_type": "display_data"
    },
    {
     "data": {
      "text/html": [
       "<pre style=\"white-space:pre;overflow-x:auto;line-height:normal;font-family:Menlo,'DejaVu Sans Mono',consolas,'Courier New',monospace\">/var/folders/7t/k8q3439j6z3c683j7w00wtm80000gn/T/ipykernel_58430/330735155.py:26: FutureWarning: The behavior of \n",
       "DataFrame concatenation with empty or all-NA entries is deprecated. In a future version, this will no longer \n",
       "exclude empty or all-NA columns when determining the result dtypes. To retain the old behavior, exclude the \n",
       "relevant entries before the concat operation.\n",
       "  results = pd.concat([results, normalized_data]) #.dropna(axis=1, how=\"all\")])\n",
       "</pre>\n"
      ],
      "text/plain": [
       "/var/folders/7t/k8q3439j6z3c683j7w00wtm80000gn/T/ipykernel_58430/330735155.py:26: FutureWarning: The behavior of \n",
       "DataFrame concatenation with empty or all-NA entries is deprecated. In a future version, this will no longer \n",
       "exclude empty or all-NA columns when determining the result dtypes. To retain the old behavior, exclude the \n",
       "relevant entries before the concat operation.\n",
       "  results = pd.concat([results, normalized_data]) #.dropna(axis=1, how=\"all\")])\n"
      ]
     },
     "metadata": {},
     "output_type": "display_data"
    },
    {
     "data": {
      "text/html": [
       "<pre style=\"white-space:pre;overflow-x:auto;line-height:normal;font-family:Menlo,'DejaVu Sans Mono',consolas,'Courier New',monospace\">/var/folders/7t/k8q3439j6z3c683j7w00wtm80000gn/T/ipykernel_58430/330735155.py:26: FutureWarning: The behavior of \n",
       "DataFrame concatenation with empty or all-NA entries is deprecated. In a future version, this will no longer \n",
       "exclude empty or all-NA columns when determining the result dtypes. To retain the old behavior, exclude the \n",
       "relevant entries before the concat operation.\n",
       "  results = pd.concat([results, normalized_data]) #.dropna(axis=1, how=\"all\")])\n",
       "</pre>\n"
      ],
      "text/plain": [
       "/var/folders/7t/k8q3439j6z3c683j7w00wtm80000gn/T/ipykernel_58430/330735155.py:26: FutureWarning: The behavior of \n",
       "DataFrame concatenation with empty or all-NA entries is deprecated. In a future version, this will no longer \n",
       "exclude empty or all-NA columns when determining the result dtypes. To retain the old behavior, exclude the \n",
       "relevant entries before the concat operation.\n",
       "  results = pd.concat([results, normalized_data]) #.dropna(axis=1, how=\"all\")])\n"
      ]
     },
     "metadata": {},
     "output_type": "display_data"
    },
    {
     "data": {
      "text/html": [
       "<pre style=\"white-space:pre;overflow-x:auto;line-height:normal;font-family:Menlo,'DejaVu Sans Mono',consolas,'Courier New',monospace\">/var/folders/7t/k8q3439j6z3c683j7w00wtm80000gn/T/ipykernel_58430/330735155.py:26: FutureWarning: The behavior of \n",
       "DataFrame concatenation with empty or all-NA entries is deprecated. In a future version, this will no longer \n",
       "exclude empty or all-NA columns when determining the result dtypes. To retain the old behavior, exclude the \n",
       "relevant entries before the concat operation.\n",
       "  results = pd.concat([results, normalized_data]) #.dropna(axis=1, how=\"all\")])\n",
       "</pre>\n"
      ],
      "text/plain": [
       "/var/folders/7t/k8q3439j6z3c683j7w00wtm80000gn/T/ipykernel_58430/330735155.py:26: FutureWarning: The behavior of \n",
       "DataFrame concatenation with empty or all-NA entries is deprecated. In a future version, this will no longer \n",
       "exclude empty or all-NA columns when determining the result dtypes. To retain the old behavior, exclude the \n",
       "relevant entries before the concat operation.\n",
       "  results = pd.concat([results, normalized_data]) #.dropna(axis=1, how=\"all\")])\n"
      ]
     },
     "metadata": {},
     "output_type": "display_data"
    },
    {
     "data": {
      "text/html": [
       "<pre style=\"white-space:pre;overflow-x:auto;line-height:normal;font-family:Menlo,'DejaVu Sans Mono',consolas,'Courier New',monospace\">/var/folders/7t/k8q3439j6z3c683j7w00wtm80000gn/T/ipykernel_58430/330735155.py:26: FutureWarning: The behavior of \n",
       "DataFrame concatenation with empty or all-NA entries is deprecated. In a future version, this will no longer \n",
       "exclude empty or all-NA columns when determining the result dtypes. To retain the old behavior, exclude the \n",
       "relevant entries before the concat operation.\n",
       "  results = pd.concat([results, normalized_data]) #.dropna(axis=1, how=\"all\")])\n",
       "</pre>\n"
      ],
      "text/plain": [
       "/var/folders/7t/k8q3439j6z3c683j7w00wtm80000gn/T/ipykernel_58430/330735155.py:26: FutureWarning: The behavior of \n",
       "DataFrame concatenation with empty or all-NA entries is deprecated. In a future version, this will no longer \n",
       "exclude empty or all-NA columns when determining the result dtypes. To retain the old behavior, exclude the \n",
       "relevant entries before the concat operation.\n",
       "  results = pd.concat([results, normalized_data]) #.dropna(axis=1, how=\"all\")])\n"
      ]
     },
     "metadata": {},
     "output_type": "display_data"
    },
    {
     "data": {
      "text/html": [
       "<pre style=\"white-space:pre;overflow-x:auto;line-height:normal;font-family:Menlo,'DejaVu Sans Mono',consolas,'Courier New',monospace\">/var/folders/7t/k8q3439j6z3c683j7w00wtm80000gn/T/ipykernel_58430/330735155.py:26: FutureWarning: The behavior of \n",
       "DataFrame concatenation with empty or all-NA entries is deprecated. In a future version, this will no longer \n",
       "exclude empty or all-NA columns when determining the result dtypes. To retain the old behavior, exclude the \n",
       "relevant entries before the concat operation.\n",
       "  results = pd.concat([results, normalized_data]) #.dropna(axis=1, how=\"all\")])\n",
       "</pre>\n"
      ],
      "text/plain": [
       "/var/folders/7t/k8q3439j6z3c683j7w00wtm80000gn/T/ipykernel_58430/330735155.py:26: FutureWarning: The behavior of \n",
       "DataFrame concatenation with empty or all-NA entries is deprecated. In a future version, this will no longer \n",
       "exclude empty or all-NA columns when determining the result dtypes. To retain the old behavior, exclude the \n",
       "relevant entries before the concat operation.\n",
       "  results = pd.concat([results, normalized_data]) #.dropna(axis=1, how=\"all\")])\n"
      ]
     },
     "metadata": {},
     "output_type": "display_data"
    },
    {
     "data": {
      "text/html": [
       "<pre style=\"white-space:pre;overflow-x:auto;line-height:normal;font-family:Menlo,'DejaVu Sans Mono',consolas,'Courier New',monospace\">/var/folders/7t/k8q3439j6z3c683j7w00wtm80000gn/T/ipykernel_58430/330735155.py:26: FutureWarning: The behavior of \n",
       "DataFrame concatenation with empty or all-NA entries is deprecated. In a future version, this will no longer \n",
       "exclude empty or all-NA columns when determining the result dtypes. To retain the old behavior, exclude the \n",
       "relevant entries before the concat operation.\n",
       "  results = pd.concat([results, normalized_data]) #.dropna(axis=1, how=\"all\")])\n",
       "</pre>\n"
      ],
      "text/plain": [
       "/var/folders/7t/k8q3439j6z3c683j7w00wtm80000gn/T/ipykernel_58430/330735155.py:26: FutureWarning: The behavior of \n",
       "DataFrame concatenation with empty or all-NA entries is deprecated. In a future version, this will no longer \n",
       "exclude empty or all-NA columns when determining the result dtypes. To retain the old behavior, exclude the \n",
       "relevant entries before the concat operation.\n",
       "  results = pd.concat([results, normalized_data]) #.dropna(axis=1, how=\"all\")])\n"
      ]
     },
     "metadata": {},
     "output_type": "display_data"
    },
    {
     "data": {
      "text/html": [
       "<pre style=\"white-space:pre;overflow-x:auto;line-height:normal;font-family:Menlo,'DejaVu Sans Mono',consolas,'Courier New',monospace\">/var/folders/7t/k8q3439j6z3c683j7w00wtm80000gn/T/ipykernel_58430/330735155.py:26: FutureWarning: The behavior of \n",
       "DataFrame concatenation with empty or all-NA entries is deprecated. In a future version, this will no longer \n",
       "exclude empty or all-NA columns when determining the result dtypes. To retain the old behavior, exclude the \n",
       "relevant entries before the concat operation.\n",
       "  results = pd.concat([results, normalized_data]) #.dropna(axis=1, how=\"all\")])\n",
       "</pre>\n"
      ],
      "text/plain": [
       "/var/folders/7t/k8q3439j6z3c683j7w00wtm80000gn/T/ipykernel_58430/330735155.py:26: FutureWarning: The behavior of \n",
       "DataFrame concatenation with empty or all-NA entries is deprecated. In a future version, this will no longer \n",
       "exclude empty or all-NA columns when determining the result dtypes. To retain the old behavior, exclude the \n",
       "relevant entries before the concat operation.\n",
       "  results = pd.concat([results, normalized_data]) #.dropna(axis=1, how=\"all\")])\n"
      ]
     },
     "metadata": {},
     "output_type": "display_data"
    },
    {
     "data": {
      "text/html": [
       "<pre style=\"white-space:pre;overflow-x:auto;line-height:normal;font-family:Menlo,'DejaVu Sans Mono',consolas,'Courier New',monospace\">/var/folders/7t/k8q3439j6z3c683j7w00wtm80000gn/T/ipykernel_58430/330735155.py:26: FutureWarning: The behavior of \n",
       "DataFrame concatenation with empty or all-NA entries is deprecated. In a future version, this will no longer \n",
       "exclude empty or all-NA columns when determining the result dtypes. To retain the old behavior, exclude the \n",
       "relevant entries before the concat operation.\n",
       "  results = pd.concat([results, normalized_data]) #.dropna(axis=1, how=\"all\")])\n",
       "</pre>\n"
      ],
      "text/plain": [
       "/var/folders/7t/k8q3439j6z3c683j7w00wtm80000gn/T/ipykernel_58430/330735155.py:26: FutureWarning: The behavior of \n",
       "DataFrame concatenation with empty or all-NA entries is deprecated. In a future version, this will no longer \n",
       "exclude empty or all-NA columns when determining the result dtypes. To retain the old behavior, exclude the \n",
       "relevant entries before the concat operation.\n",
       "  results = pd.concat([results, normalized_data]) #.dropna(axis=1, how=\"all\")])\n"
      ]
     },
     "metadata": {},
     "output_type": "display_data"
    },
    {
     "data": {
      "text/html": [
       "<pre style=\"white-space:pre;overflow-x:auto;line-height:normal;font-family:Menlo,'DejaVu Sans Mono',consolas,'Courier New',monospace\">/var/folders/7t/k8q3439j6z3c683j7w00wtm80000gn/T/ipykernel_58430/330735155.py:26: FutureWarning: The behavior of \n",
       "DataFrame concatenation with empty or all-NA entries is deprecated. In a future version, this will no longer \n",
       "exclude empty or all-NA columns when determining the result dtypes. To retain the old behavior, exclude the \n",
       "relevant entries before the concat operation.\n",
       "  results = pd.concat([results, normalized_data]) #.dropna(axis=1, how=\"all\")])\n",
       "</pre>\n"
      ],
      "text/plain": [
       "/var/folders/7t/k8q3439j6z3c683j7w00wtm80000gn/T/ipykernel_58430/330735155.py:26: FutureWarning: The behavior of \n",
       "DataFrame concatenation with empty or all-NA entries is deprecated. In a future version, this will no longer \n",
       "exclude empty or all-NA columns when determining the result dtypes. To retain the old behavior, exclude the \n",
       "relevant entries before the concat operation.\n",
       "  results = pd.concat([results, normalized_data]) #.dropna(axis=1, how=\"all\")])\n"
      ]
     },
     "metadata": {},
     "output_type": "display_data"
    },
    {
     "data": {
      "text/html": [
       "<pre style=\"white-space:pre;overflow-x:auto;line-height:normal;font-family:Menlo,'DejaVu Sans Mono',consolas,'Courier New',monospace\">/var/folders/7t/k8q3439j6z3c683j7w00wtm80000gn/T/ipykernel_58430/330735155.py:26: FutureWarning: The behavior of \n",
       "DataFrame concatenation with empty or all-NA entries is deprecated. In a future version, this will no longer \n",
       "exclude empty or all-NA columns when determining the result dtypes. To retain the old behavior, exclude the \n",
       "relevant entries before the concat operation.\n",
       "  results = pd.concat([results, normalized_data]) #.dropna(axis=1, how=\"all\")])\n",
       "</pre>\n"
      ],
      "text/plain": [
       "/var/folders/7t/k8q3439j6z3c683j7w00wtm80000gn/T/ipykernel_58430/330735155.py:26: FutureWarning: The behavior of \n",
       "DataFrame concatenation with empty or all-NA entries is deprecated. In a future version, this will no longer \n",
       "exclude empty or all-NA columns when determining the result dtypes. To retain the old behavior, exclude the \n",
       "relevant entries before the concat operation.\n",
       "  results = pd.concat([results, normalized_data]) #.dropna(axis=1, how=\"all\")])\n"
      ]
     },
     "metadata": {},
     "output_type": "display_data"
    },
    {
     "data": {
      "text/html": [
       "<pre style=\"white-space:pre;overflow-x:auto;line-height:normal;font-family:Menlo,'DejaVu Sans Mono',consolas,'Courier New',monospace\">/var/folders/7t/k8q3439j6z3c683j7w00wtm80000gn/T/ipykernel_58430/330735155.py:26: FutureWarning: The behavior of \n",
       "DataFrame concatenation with empty or all-NA entries is deprecated. In a future version, this will no longer \n",
       "exclude empty or all-NA columns when determining the result dtypes. To retain the old behavior, exclude the \n",
       "relevant entries before the concat operation.\n",
       "  results = pd.concat([results, normalized_data]) #.dropna(axis=1, how=\"all\")])\n",
       "</pre>\n"
      ],
      "text/plain": [
       "/var/folders/7t/k8q3439j6z3c683j7w00wtm80000gn/T/ipykernel_58430/330735155.py:26: FutureWarning: The behavior of \n",
       "DataFrame concatenation with empty or all-NA entries is deprecated. In a future version, this will no longer \n",
       "exclude empty or all-NA columns when determining the result dtypes. To retain the old behavior, exclude the \n",
       "relevant entries before the concat operation.\n",
       "  results = pd.concat([results, normalized_data]) #.dropna(axis=1, how=\"all\")])\n"
      ]
     },
     "metadata": {},
     "output_type": "display_data"
    },
    {
     "data": {
      "text/html": [
       "<pre style=\"white-space:pre;overflow-x:auto;line-height:normal;font-family:Menlo,'DejaVu Sans Mono',consolas,'Courier New',monospace\">/var/folders/7t/k8q3439j6z3c683j7w00wtm80000gn/T/ipykernel_58430/330735155.py:26: FutureWarning: The behavior of \n",
       "DataFrame concatenation with empty or all-NA entries is deprecated. In a future version, this will no longer \n",
       "exclude empty or all-NA columns when determining the result dtypes. To retain the old behavior, exclude the \n",
       "relevant entries before the concat operation.\n",
       "  results = pd.concat([results, normalized_data]) #.dropna(axis=1, how=\"all\")])\n",
       "</pre>\n"
      ],
      "text/plain": [
       "/var/folders/7t/k8q3439j6z3c683j7w00wtm80000gn/T/ipykernel_58430/330735155.py:26: FutureWarning: The behavior of \n",
       "DataFrame concatenation with empty or all-NA entries is deprecated. In a future version, this will no longer \n",
       "exclude empty or all-NA columns when determining the result dtypes. To retain the old behavior, exclude the \n",
       "relevant entries before the concat operation.\n",
       "  results = pd.concat([results, normalized_data]) #.dropna(axis=1, how=\"all\")])\n"
      ]
     },
     "metadata": {},
     "output_type": "display_data"
    },
    {
     "data": {
      "text/html": [
       "<pre style=\"white-space:pre;overflow-x:auto;line-height:normal;font-family:Menlo,'DejaVu Sans Mono',consolas,'Courier New',monospace\">/var/folders/7t/k8q3439j6z3c683j7w00wtm80000gn/T/ipykernel_58430/330735155.py:26: FutureWarning: The behavior of \n",
       "DataFrame concatenation with empty or all-NA entries is deprecated. In a future version, this will no longer \n",
       "exclude empty or all-NA columns when determining the result dtypes. To retain the old behavior, exclude the \n",
       "relevant entries before the concat operation.\n",
       "  results = pd.concat([results, normalized_data]) #.dropna(axis=1, how=\"all\")])\n",
       "</pre>\n"
      ],
      "text/plain": [
       "/var/folders/7t/k8q3439j6z3c683j7w00wtm80000gn/T/ipykernel_58430/330735155.py:26: FutureWarning: The behavior of \n",
       "DataFrame concatenation with empty or all-NA entries is deprecated. In a future version, this will no longer \n",
       "exclude empty or all-NA columns when determining the result dtypes. To retain the old behavior, exclude the \n",
       "relevant entries before the concat operation.\n",
       "  results = pd.concat([results, normalized_data]) #.dropna(axis=1, how=\"all\")])\n"
      ]
     },
     "metadata": {},
     "output_type": "display_data"
    },
    {
     "data": {
      "text/html": [
       "<pre style=\"white-space:pre;overflow-x:auto;line-height:normal;font-family:Menlo,'DejaVu Sans Mono',consolas,'Courier New',monospace\">/var/folders/7t/k8q3439j6z3c683j7w00wtm80000gn/T/ipykernel_58430/330735155.py:26: FutureWarning: The behavior of \n",
       "DataFrame concatenation with empty or all-NA entries is deprecated. In a future version, this will no longer \n",
       "exclude empty or all-NA columns when determining the result dtypes. To retain the old behavior, exclude the \n",
       "relevant entries before the concat operation.\n",
       "  results = pd.concat([results, normalized_data]) #.dropna(axis=1, how=\"all\")])\n",
       "</pre>\n"
      ],
      "text/plain": [
       "/var/folders/7t/k8q3439j6z3c683j7w00wtm80000gn/T/ipykernel_58430/330735155.py:26: FutureWarning: The behavior of \n",
       "DataFrame concatenation with empty or all-NA entries is deprecated. In a future version, this will no longer \n",
       "exclude empty or all-NA columns when determining the result dtypes. To retain the old behavior, exclude the \n",
       "relevant entries before the concat operation.\n",
       "  results = pd.concat([results, normalized_data]) #.dropna(axis=1, how=\"all\")])\n"
      ]
     },
     "metadata": {},
     "output_type": "display_data"
    },
    {
     "data": {
      "text/html": [
       "<pre style=\"white-space:pre;overflow-x:auto;line-height:normal;font-family:Menlo,'DejaVu Sans Mono',consolas,'Courier New',monospace\">/var/folders/7t/k8q3439j6z3c683j7w00wtm80000gn/T/ipykernel_58430/330735155.py:26: FutureWarning: The behavior of \n",
       "DataFrame concatenation with empty or all-NA entries is deprecated. In a future version, this will no longer \n",
       "exclude empty or all-NA columns when determining the result dtypes. To retain the old behavior, exclude the \n",
       "relevant entries before the concat operation.\n",
       "  results = pd.concat([results, normalized_data]) #.dropna(axis=1, how=\"all\")])\n",
       "</pre>\n"
      ],
      "text/plain": [
       "/var/folders/7t/k8q3439j6z3c683j7w00wtm80000gn/T/ipykernel_58430/330735155.py:26: FutureWarning: The behavior of \n",
       "DataFrame concatenation with empty or all-NA entries is deprecated. In a future version, this will no longer \n",
       "exclude empty or all-NA columns when determining the result dtypes. To retain the old behavior, exclude the \n",
       "relevant entries before the concat operation.\n",
       "  results = pd.concat([results, normalized_data]) #.dropna(axis=1, how=\"all\")])\n"
      ]
     },
     "metadata": {},
     "output_type": "display_data"
    },
    {
     "data": {
      "text/html": [
       "<pre style=\"white-space:pre;overflow-x:auto;line-height:normal;font-family:Menlo,'DejaVu Sans Mono',consolas,'Courier New',monospace\">/var/folders/7t/k8q3439j6z3c683j7w00wtm80000gn/T/ipykernel_58430/330735155.py:26: FutureWarning: The behavior of \n",
       "DataFrame concatenation with empty or all-NA entries is deprecated. In a future version, this will no longer \n",
       "exclude empty or all-NA columns when determining the result dtypes. To retain the old behavior, exclude the \n",
       "relevant entries before the concat operation.\n",
       "  results = pd.concat([results, normalized_data]) #.dropna(axis=1, how=\"all\")])\n",
       "</pre>\n"
      ],
      "text/plain": [
       "/var/folders/7t/k8q3439j6z3c683j7w00wtm80000gn/T/ipykernel_58430/330735155.py:26: FutureWarning: The behavior of \n",
       "DataFrame concatenation with empty or all-NA entries is deprecated. In a future version, this will no longer \n",
       "exclude empty or all-NA columns when determining the result dtypes. To retain the old behavior, exclude the \n",
       "relevant entries before the concat operation.\n",
       "  results = pd.concat([results, normalized_data]) #.dropna(axis=1, how=\"all\")])\n"
      ]
     },
     "metadata": {},
     "output_type": "display_data"
    },
    {
     "data": {
      "text/html": [
       "<pre style=\"white-space:pre;overflow-x:auto;line-height:normal;font-family:Menlo,'DejaVu Sans Mono',consolas,'Courier New',monospace\">/var/folders/7t/k8q3439j6z3c683j7w00wtm80000gn/T/ipykernel_58430/330735155.py:26: FutureWarning: The behavior of \n",
       "DataFrame concatenation with empty or all-NA entries is deprecated. In a future version, this will no longer \n",
       "exclude empty or all-NA columns when determining the result dtypes. To retain the old behavior, exclude the \n",
       "relevant entries before the concat operation.\n",
       "  results = pd.concat([results, normalized_data]) #.dropna(axis=1, how=\"all\")])\n",
       "</pre>\n"
      ],
      "text/plain": [
       "/var/folders/7t/k8q3439j6z3c683j7w00wtm80000gn/T/ipykernel_58430/330735155.py:26: FutureWarning: The behavior of \n",
       "DataFrame concatenation with empty or all-NA entries is deprecated. In a future version, this will no longer \n",
       "exclude empty or all-NA columns when determining the result dtypes. To retain the old behavior, exclude the \n",
       "relevant entries before the concat operation.\n",
       "  results = pd.concat([results, normalized_data]) #.dropna(axis=1, how=\"all\")])\n"
      ]
     },
     "metadata": {},
     "output_type": "display_data"
    },
    {
     "data": {
      "text/html": [
       "<pre style=\"white-space:pre;overflow-x:auto;line-height:normal;font-family:Menlo,'DejaVu Sans Mono',consolas,'Courier New',monospace\">/var/folders/7t/k8q3439j6z3c683j7w00wtm80000gn/T/ipykernel_58430/330735155.py:26: FutureWarning: The behavior of \n",
       "DataFrame concatenation with empty or all-NA entries is deprecated. In a future version, this will no longer \n",
       "exclude empty or all-NA columns when determining the result dtypes. To retain the old behavior, exclude the \n",
       "relevant entries before the concat operation.\n",
       "  results = pd.concat([results, normalized_data]) #.dropna(axis=1, how=\"all\")])\n",
       "</pre>\n"
      ],
      "text/plain": [
       "/var/folders/7t/k8q3439j6z3c683j7w00wtm80000gn/T/ipykernel_58430/330735155.py:26: FutureWarning: The behavior of \n",
       "DataFrame concatenation with empty or all-NA entries is deprecated. In a future version, this will no longer \n",
       "exclude empty or all-NA columns when determining the result dtypes. To retain the old behavior, exclude the \n",
       "relevant entries before the concat operation.\n",
       "  results = pd.concat([results, normalized_data]) #.dropna(axis=1, how=\"all\")])\n"
      ]
     },
     "metadata": {},
     "output_type": "display_data"
    },
    {
     "data": {
      "text/html": [
       "<pre style=\"white-space:pre;overflow-x:auto;line-height:normal;font-family:Menlo,'DejaVu Sans Mono',consolas,'Courier New',monospace\">/var/folders/7t/k8q3439j6z3c683j7w00wtm80000gn/T/ipykernel_58430/330735155.py:26: FutureWarning: The behavior of \n",
       "DataFrame concatenation with empty or all-NA entries is deprecated. In a future version, this will no longer \n",
       "exclude empty or all-NA columns when determining the result dtypes. To retain the old behavior, exclude the \n",
       "relevant entries before the concat operation.\n",
       "  results = pd.concat([results, normalized_data]) #.dropna(axis=1, how=\"all\")])\n",
       "</pre>\n"
      ],
      "text/plain": [
       "/var/folders/7t/k8q3439j6z3c683j7w00wtm80000gn/T/ipykernel_58430/330735155.py:26: FutureWarning: The behavior of \n",
       "DataFrame concatenation with empty or all-NA entries is deprecated. In a future version, this will no longer \n",
       "exclude empty or all-NA columns when determining the result dtypes. To retain the old behavior, exclude the \n",
       "relevant entries before the concat operation.\n",
       "  results = pd.concat([results, normalized_data]) #.dropna(axis=1, how=\"all\")])\n"
      ]
     },
     "metadata": {},
     "output_type": "display_data"
    },
    {
     "data": {
      "text/html": [
       "<pre style=\"white-space:pre;overflow-x:auto;line-height:normal;font-family:Menlo,'DejaVu Sans Mono',consolas,'Courier New',monospace\">/var/folders/7t/k8q3439j6z3c683j7w00wtm80000gn/T/ipykernel_58430/330735155.py:26: FutureWarning: The behavior of \n",
       "DataFrame concatenation with empty or all-NA entries is deprecated. In a future version, this will no longer \n",
       "exclude empty or all-NA columns when determining the result dtypes. To retain the old behavior, exclude the \n",
       "relevant entries before the concat operation.\n",
       "  results = pd.concat([results, normalized_data]) #.dropna(axis=1, how=\"all\")])\n",
       "</pre>\n"
      ],
      "text/plain": [
       "/var/folders/7t/k8q3439j6z3c683j7w00wtm80000gn/T/ipykernel_58430/330735155.py:26: FutureWarning: The behavior of \n",
       "DataFrame concatenation with empty or all-NA entries is deprecated. In a future version, this will no longer \n",
       "exclude empty or all-NA columns when determining the result dtypes. To retain the old behavior, exclude the \n",
       "relevant entries before the concat operation.\n",
       "  results = pd.concat([results, normalized_data]) #.dropna(axis=1, how=\"all\")])\n"
      ]
     },
     "metadata": {},
     "output_type": "display_data"
    },
    {
     "data": {
      "text/html": [
       "<pre style=\"white-space:pre;overflow-x:auto;line-height:normal;font-family:Menlo,'DejaVu Sans Mono',consolas,'Courier New',monospace\">/var/folders/7t/k8q3439j6z3c683j7w00wtm80000gn/T/ipykernel_58430/330735155.py:26: FutureWarning: The behavior of \n",
       "DataFrame concatenation with empty or all-NA entries is deprecated. In a future version, this will no longer \n",
       "exclude empty or all-NA columns when determining the result dtypes. To retain the old behavior, exclude the \n",
       "relevant entries before the concat operation.\n",
       "  results = pd.concat([results, normalized_data]) #.dropna(axis=1, how=\"all\")])\n",
       "</pre>\n"
      ],
      "text/plain": [
       "/var/folders/7t/k8q3439j6z3c683j7w00wtm80000gn/T/ipykernel_58430/330735155.py:26: FutureWarning: The behavior of \n",
       "DataFrame concatenation with empty or all-NA entries is deprecated. In a future version, this will no longer \n",
       "exclude empty or all-NA columns when determining the result dtypes. To retain the old behavior, exclude the \n",
       "relevant entries before the concat operation.\n",
       "  results = pd.concat([results, normalized_data]) #.dropna(axis=1, how=\"all\")])\n"
      ]
     },
     "metadata": {},
     "output_type": "display_data"
    },
    {
     "data": {
      "text/html": [
       "<pre style=\"white-space:pre;overflow-x:auto;line-height:normal;font-family:Menlo,'DejaVu Sans Mono',consolas,'Courier New',monospace\">/var/folders/7t/k8q3439j6z3c683j7w00wtm80000gn/T/ipykernel_58430/330735155.py:26: FutureWarning: The behavior of \n",
       "DataFrame concatenation with empty or all-NA entries is deprecated. In a future version, this will no longer \n",
       "exclude empty or all-NA columns when determining the result dtypes. To retain the old behavior, exclude the \n",
       "relevant entries before the concat operation.\n",
       "  results = pd.concat([results, normalized_data]) #.dropna(axis=1, how=\"all\")])\n",
       "</pre>\n"
      ],
      "text/plain": [
       "/var/folders/7t/k8q3439j6z3c683j7w00wtm80000gn/T/ipykernel_58430/330735155.py:26: FutureWarning: The behavior of \n",
       "DataFrame concatenation with empty or all-NA entries is deprecated. In a future version, this will no longer \n",
       "exclude empty or all-NA columns when determining the result dtypes. To retain the old behavior, exclude the \n",
       "relevant entries before the concat operation.\n",
       "  results = pd.concat([results, normalized_data]) #.dropna(axis=1, how=\"all\")])\n"
      ]
     },
     "metadata": {},
     "output_type": "display_data"
    },
    {
     "data": {
      "text/html": [
       "<pre style=\"white-space:pre;overflow-x:auto;line-height:normal;font-family:Menlo,'DejaVu Sans Mono',consolas,'Courier New',monospace\">/var/folders/7t/k8q3439j6z3c683j7w00wtm80000gn/T/ipykernel_58430/330735155.py:26: FutureWarning: The behavior of \n",
       "DataFrame concatenation with empty or all-NA entries is deprecated. In a future version, this will no longer \n",
       "exclude empty or all-NA columns when determining the result dtypes. To retain the old behavior, exclude the \n",
       "relevant entries before the concat operation.\n",
       "  results = pd.concat([results, normalized_data]) #.dropna(axis=1, how=\"all\")])\n",
       "</pre>\n"
      ],
      "text/plain": [
       "/var/folders/7t/k8q3439j6z3c683j7w00wtm80000gn/T/ipykernel_58430/330735155.py:26: FutureWarning: The behavior of \n",
       "DataFrame concatenation with empty or all-NA entries is deprecated. In a future version, this will no longer \n",
       "exclude empty or all-NA columns when determining the result dtypes. To retain the old behavior, exclude the \n",
       "relevant entries before the concat operation.\n",
       "  results = pd.concat([results, normalized_data]) #.dropna(axis=1, how=\"all\")])\n"
      ]
     },
     "metadata": {},
     "output_type": "display_data"
    },
    {
     "data": {
      "text/html": [
       "<pre style=\"white-space:pre;overflow-x:auto;line-height:normal;font-family:Menlo,'DejaVu Sans Mono',consolas,'Courier New',monospace\">/var/folders/7t/k8q3439j6z3c683j7w00wtm80000gn/T/ipykernel_58430/330735155.py:26: FutureWarning: The behavior of \n",
       "DataFrame concatenation with empty or all-NA entries is deprecated. In a future version, this will no longer \n",
       "exclude empty or all-NA columns when determining the result dtypes. To retain the old behavior, exclude the \n",
       "relevant entries before the concat operation.\n",
       "  results = pd.concat([results, normalized_data]) #.dropna(axis=1, how=\"all\")])\n",
       "</pre>\n"
      ],
      "text/plain": [
       "/var/folders/7t/k8q3439j6z3c683j7w00wtm80000gn/T/ipykernel_58430/330735155.py:26: FutureWarning: The behavior of \n",
       "DataFrame concatenation with empty or all-NA entries is deprecated. In a future version, this will no longer \n",
       "exclude empty or all-NA columns when determining the result dtypes. To retain the old behavior, exclude the \n",
       "relevant entries before the concat operation.\n",
       "  results = pd.concat([results, normalized_data]) #.dropna(axis=1, how=\"all\")])\n"
      ]
     },
     "metadata": {},
     "output_type": "display_data"
    },
    {
     "data": {
      "text/html": [
       "<pre style=\"white-space:pre;overflow-x:auto;line-height:normal;font-family:Menlo,'DejaVu Sans Mono',consolas,'Courier New',monospace\">/var/folders/7t/k8q3439j6z3c683j7w00wtm80000gn/T/ipykernel_58430/330735155.py:26: FutureWarning: The behavior of \n",
       "DataFrame concatenation with empty or all-NA entries is deprecated. In a future version, this will no longer \n",
       "exclude empty or all-NA columns when determining the result dtypes. To retain the old behavior, exclude the \n",
       "relevant entries before the concat operation.\n",
       "  results = pd.concat([results, normalized_data]) #.dropna(axis=1, how=\"all\")])\n",
       "</pre>\n"
      ],
      "text/plain": [
       "/var/folders/7t/k8q3439j6z3c683j7w00wtm80000gn/T/ipykernel_58430/330735155.py:26: FutureWarning: The behavior of \n",
       "DataFrame concatenation with empty or all-NA entries is deprecated. In a future version, this will no longer \n",
       "exclude empty or all-NA columns when determining the result dtypes. To retain the old behavior, exclude the \n",
       "relevant entries before the concat operation.\n",
       "  results = pd.concat([results, normalized_data]) #.dropna(axis=1, how=\"all\")])\n"
      ]
     },
     "metadata": {},
     "output_type": "display_data"
    },
    {
     "data": {
      "text/html": [
       "<pre style=\"white-space:pre;overflow-x:auto;line-height:normal;font-family:Menlo,'DejaVu Sans Mono',consolas,'Courier New',monospace\">/var/folders/7t/k8q3439j6z3c683j7w00wtm80000gn/T/ipykernel_58430/330735155.py:26: FutureWarning: The behavior of \n",
       "DataFrame concatenation with empty or all-NA entries is deprecated. In a future version, this will no longer \n",
       "exclude empty or all-NA columns when determining the result dtypes. To retain the old behavior, exclude the \n",
       "relevant entries before the concat operation.\n",
       "  results = pd.concat([results, normalized_data]) #.dropna(axis=1, how=\"all\")])\n",
       "</pre>\n"
      ],
      "text/plain": [
       "/var/folders/7t/k8q3439j6z3c683j7w00wtm80000gn/T/ipykernel_58430/330735155.py:26: FutureWarning: The behavior of \n",
       "DataFrame concatenation with empty or all-NA entries is deprecated. In a future version, this will no longer \n",
       "exclude empty or all-NA columns when determining the result dtypes. To retain the old behavior, exclude the \n",
       "relevant entries before the concat operation.\n",
       "  results = pd.concat([results, normalized_data]) #.dropna(axis=1, how=\"all\")])\n"
      ]
     },
     "metadata": {},
     "output_type": "display_data"
    },
    {
     "data": {
      "text/html": [
       "<pre style=\"white-space:pre;overflow-x:auto;line-height:normal;font-family:Menlo,'DejaVu Sans Mono',consolas,'Courier New',monospace\">/var/folders/7t/k8q3439j6z3c683j7w00wtm80000gn/T/ipykernel_58430/330735155.py:26: FutureWarning: The behavior of \n",
       "DataFrame concatenation with empty or all-NA entries is deprecated. In a future version, this will no longer \n",
       "exclude empty or all-NA columns when determining the result dtypes. To retain the old behavior, exclude the \n",
       "relevant entries before the concat operation.\n",
       "  results = pd.concat([results, normalized_data]) #.dropna(axis=1, how=\"all\")])\n",
       "</pre>\n"
      ],
      "text/plain": [
       "/var/folders/7t/k8q3439j6z3c683j7w00wtm80000gn/T/ipykernel_58430/330735155.py:26: FutureWarning: The behavior of \n",
       "DataFrame concatenation with empty or all-NA entries is deprecated. In a future version, this will no longer \n",
       "exclude empty or all-NA columns when determining the result dtypes. To retain the old behavior, exclude the \n",
       "relevant entries before the concat operation.\n",
       "  results = pd.concat([results, normalized_data]) #.dropna(axis=1, how=\"all\")])\n"
      ]
     },
     "metadata": {},
     "output_type": "display_data"
    },
    {
     "data": {
      "text/html": [
       "<pre style=\"white-space:pre;overflow-x:auto;line-height:normal;font-family:Menlo,'DejaVu Sans Mono',consolas,'Courier New',monospace\">/var/folders/7t/k8q3439j6z3c683j7w00wtm80000gn/T/ipykernel_58430/330735155.py:26: FutureWarning: The behavior of \n",
       "DataFrame concatenation with empty or all-NA entries is deprecated. In a future version, this will no longer \n",
       "exclude empty or all-NA columns when determining the result dtypes. To retain the old behavior, exclude the \n",
       "relevant entries before the concat operation.\n",
       "  results = pd.concat([results, normalized_data]) #.dropna(axis=1, how=\"all\")])\n",
       "</pre>\n"
      ],
      "text/plain": [
       "/var/folders/7t/k8q3439j6z3c683j7w00wtm80000gn/T/ipykernel_58430/330735155.py:26: FutureWarning: The behavior of \n",
       "DataFrame concatenation with empty or all-NA entries is deprecated. In a future version, this will no longer \n",
       "exclude empty or all-NA columns when determining the result dtypes. To retain the old behavior, exclude the \n",
       "relevant entries before the concat operation.\n",
       "  results = pd.concat([results, normalized_data]) #.dropna(axis=1, how=\"all\")])\n"
      ]
     },
     "metadata": {},
     "output_type": "display_data"
    },
    {
     "data": {
      "text/html": [
       "<pre style=\"white-space:pre;overflow-x:auto;line-height:normal;font-family:Menlo,'DejaVu Sans Mono',consolas,'Courier New',monospace\">/var/folders/7t/k8q3439j6z3c683j7w00wtm80000gn/T/ipykernel_58430/330735155.py:26: FutureWarning: The behavior of \n",
       "DataFrame concatenation with empty or all-NA entries is deprecated. In a future version, this will no longer \n",
       "exclude empty or all-NA columns when determining the result dtypes. To retain the old behavior, exclude the \n",
       "relevant entries before the concat operation.\n",
       "  results = pd.concat([results, normalized_data]) #.dropna(axis=1, how=\"all\")])\n",
       "</pre>\n"
      ],
      "text/plain": [
       "/var/folders/7t/k8q3439j6z3c683j7w00wtm80000gn/T/ipykernel_58430/330735155.py:26: FutureWarning: The behavior of \n",
       "DataFrame concatenation with empty or all-NA entries is deprecated. In a future version, this will no longer \n",
       "exclude empty or all-NA columns when determining the result dtypes. To retain the old behavior, exclude the \n",
       "relevant entries before the concat operation.\n",
       "  results = pd.concat([results, normalized_data]) #.dropna(axis=1, how=\"all\")])\n"
      ]
     },
     "metadata": {},
     "output_type": "display_data"
    },
    {
     "data": {
      "text/html": [
       "<pre style=\"white-space:pre;overflow-x:auto;line-height:normal;font-family:Menlo,'DejaVu Sans Mono',consolas,'Courier New',monospace\">/var/folders/7t/k8q3439j6z3c683j7w00wtm80000gn/T/ipykernel_58430/330735155.py:26: FutureWarning: The behavior of \n",
       "DataFrame concatenation with empty or all-NA entries is deprecated. In a future version, this will no longer \n",
       "exclude empty or all-NA columns when determining the result dtypes. To retain the old behavior, exclude the \n",
       "relevant entries before the concat operation.\n",
       "  results = pd.concat([results, normalized_data]) #.dropna(axis=1, how=\"all\")])\n",
       "</pre>\n"
      ],
      "text/plain": [
       "/var/folders/7t/k8q3439j6z3c683j7w00wtm80000gn/T/ipykernel_58430/330735155.py:26: FutureWarning: The behavior of \n",
       "DataFrame concatenation with empty or all-NA entries is deprecated. In a future version, this will no longer \n",
       "exclude empty or all-NA columns when determining the result dtypes. To retain the old behavior, exclude the \n",
       "relevant entries before the concat operation.\n",
       "  results = pd.concat([results, normalized_data]) #.dropna(axis=1, how=\"all\")])\n"
      ]
     },
     "metadata": {},
     "output_type": "display_data"
    },
    {
     "data": {
      "text/html": [
       "<pre style=\"white-space:pre;overflow-x:auto;line-height:normal;font-family:Menlo,'DejaVu Sans Mono',consolas,'Courier New',monospace\">/var/folders/7t/k8q3439j6z3c683j7w00wtm80000gn/T/ipykernel_58430/330735155.py:26: FutureWarning: The behavior of \n",
       "DataFrame concatenation with empty or all-NA entries is deprecated. In a future version, this will no longer \n",
       "exclude empty or all-NA columns when determining the result dtypes. To retain the old behavior, exclude the \n",
       "relevant entries before the concat operation.\n",
       "  results = pd.concat([results, normalized_data]) #.dropna(axis=1, how=\"all\")])\n",
       "</pre>\n"
      ],
      "text/plain": [
       "/var/folders/7t/k8q3439j6z3c683j7w00wtm80000gn/T/ipykernel_58430/330735155.py:26: FutureWarning: The behavior of \n",
       "DataFrame concatenation with empty or all-NA entries is deprecated. In a future version, this will no longer \n",
       "exclude empty or all-NA columns when determining the result dtypes. To retain the old behavior, exclude the \n",
       "relevant entries before the concat operation.\n",
       "  results = pd.concat([results, normalized_data]) #.dropna(axis=1, how=\"all\")])\n"
      ]
     },
     "metadata": {},
     "output_type": "display_data"
    },
    {
     "data": {
      "text/html": [
       "<pre style=\"white-space:pre;overflow-x:auto;line-height:normal;font-family:Menlo,'DejaVu Sans Mono',consolas,'Courier New',monospace\">/var/folders/7t/k8q3439j6z3c683j7w00wtm80000gn/T/ipykernel_58430/330735155.py:26: FutureWarning: The behavior of \n",
       "DataFrame concatenation with empty or all-NA entries is deprecated. In a future version, this will no longer \n",
       "exclude empty or all-NA columns when determining the result dtypes. To retain the old behavior, exclude the \n",
       "relevant entries before the concat operation.\n",
       "  results = pd.concat([results, normalized_data]) #.dropna(axis=1, how=\"all\")])\n",
       "</pre>\n"
      ],
      "text/plain": [
       "/var/folders/7t/k8q3439j6z3c683j7w00wtm80000gn/T/ipykernel_58430/330735155.py:26: FutureWarning: The behavior of \n",
       "DataFrame concatenation with empty or all-NA entries is deprecated. In a future version, this will no longer \n",
       "exclude empty or all-NA columns when determining the result dtypes. To retain the old behavior, exclude the \n",
       "relevant entries before the concat operation.\n",
       "  results = pd.concat([results, normalized_data]) #.dropna(axis=1, how=\"all\")])\n"
      ]
     },
     "metadata": {},
     "output_type": "display_data"
    },
    {
     "data": {
      "text/html": [
       "<pre style=\"white-space:pre;overflow-x:auto;line-height:normal;font-family:Menlo,'DejaVu Sans Mono',consolas,'Courier New',monospace\">/var/folders/7t/k8q3439j6z3c683j7w00wtm80000gn/T/ipykernel_58430/330735155.py:26: FutureWarning: The behavior of \n",
       "DataFrame concatenation with empty or all-NA entries is deprecated. In a future version, this will no longer \n",
       "exclude empty or all-NA columns when determining the result dtypes. To retain the old behavior, exclude the \n",
       "relevant entries before the concat operation.\n",
       "  results = pd.concat([results, normalized_data]) #.dropna(axis=1, how=\"all\")])\n",
       "</pre>\n"
      ],
      "text/plain": [
       "/var/folders/7t/k8q3439j6z3c683j7w00wtm80000gn/T/ipykernel_58430/330735155.py:26: FutureWarning: The behavior of \n",
       "DataFrame concatenation with empty or all-NA entries is deprecated. In a future version, this will no longer \n",
       "exclude empty or all-NA columns when determining the result dtypes. To retain the old behavior, exclude the \n",
       "relevant entries before the concat operation.\n",
       "  results = pd.concat([results, normalized_data]) #.dropna(axis=1, how=\"all\")])\n"
      ]
     },
     "metadata": {},
     "output_type": "display_data"
    },
    {
     "data": {
      "text/html": [
       "<pre style=\"white-space:pre;overflow-x:auto;line-height:normal;font-family:Menlo,'DejaVu Sans Mono',consolas,'Courier New',monospace\">/var/folders/7t/k8q3439j6z3c683j7w00wtm80000gn/T/ipykernel_58430/330735155.py:26: FutureWarning: The behavior of \n",
       "DataFrame concatenation with empty or all-NA entries is deprecated. In a future version, this will no longer \n",
       "exclude empty or all-NA columns when determining the result dtypes. To retain the old behavior, exclude the \n",
       "relevant entries before the concat operation.\n",
       "  results = pd.concat([results, normalized_data]) #.dropna(axis=1, how=\"all\")])\n",
       "</pre>\n"
      ],
      "text/plain": [
       "/var/folders/7t/k8q3439j6z3c683j7w00wtm80000gn/T/ipykernel_58430/330735155.py:26: FutureWarning: The behavior of \n",
       "DataFrame concatenation with empty or all-NA entries is deprecated. In a future version, this will no longer \n",
       "exclude empty or all-NA columns when determining the result dtypes. To retain the old behavior, exclude the \n",
       "relevant entries before the concat operation.\n",
       "  results = pd.concat([results, normalized_data]) #.dropna(axis=1, how=\"all\")])\n"
      ]
     },
     "metadata": {},
     "output_type": "display_data"
    },
    {
     "data": {
      "text/html": [
       "<pre style=\"white-space:pre;overflow-x:auto;line-height:normal;font-family:Menlo,'DejaVu Sans Mono',consolas,'Courier New',monospace\">/var/folders/7t/k8q3439j6z3c683j7w00wtm80000gn/T/ipykernel_58430/330735155.py:26: FutureWarning: The behavior of \n",
       "DataFrame concatenation with empty or all-NA entries is deprecated. In a future version, this will no longer \n",
       "exclude empty or all-NA columns when determining the result dtypes. To retain the old behavior, exclude the \n",
       "relevant entries before the concat operation.\n",
       "  results = pd.concat([results, normalized_data]) #.dropna(axis=1, how=\"all\")])\n",
       "</pre>\n"
      ],
      "text/plain": [
       "/var/folders/7t/k8q3439j6z3c683j7w00wtm80000gn/T/ipykernel_58430/330735155.py:26: FutureWarning: The behavior of \n",
       "DataFrame concatenation with empty or all-NA entries is deprecated. In a future version, this will no longer \n",
       "exclude empty or all-NA columns when determining the result dtypes. To retain the old behavior, exclude the \n",
       "relevant entries before the concat operation.\n",
       "  results = pd.concat([results, normalized_data]) #.dropna(axis=1, how=\"all\")])\n"
      ]
     },
     "metadata": {},
     "output_type": "display_data"
    },
    {
     "data": {
      "text/html": [
       "<pre style=\"white-space:pre;overflow-x:auto;line-height:normal;font-family:Menlo,'DejaVu Sans Mono',consolas,'Courier New',monospace\">/var/folders/7t/k8q3439j6z3c683j7w00wtm80000gn/T/ipykernel_58430/330735155.py:26: FutureWarning: The behavior of \n",
       "DataFrame concatenation with empty or all-NA entries is deprecated. In a future version, this will no longer \n",
       "exclude empty or all-NA columns when determining the result dtypes. To retain the old behavior, exclude the \n",
       "relevant entries before the concat operation.\n",
       "  results = pd.concat([results, normalized_data]) #.dropna(axis=1, how=\"all\")])\n",
       "</pre>\n"
      ],
      "text/plain": [
       "/var/folders/7t/k8q3439j6z3c683j7w00wtm80000gn/T/ipykernel_58430/330735155.py:26: FutureWarning: The behavior of \n",
       "DataFrame concatenation with empty or all-NA entries is deprecated. In a future version, this will no longer \n",
       "exclude empty or all-NA columns when determining the result dtypes. To retain the old behavior, exclude the \n",
       "relevant entries before the concat operation.\n",
       "  results = pd.concat([results, normalized_data]) #.dropna(axis=1, how=\"all\")])\n"
      ]
     },
     "metadata": {},
     "output_type": "display_data"
    },
    {
     "data": {
      "text/html": [
       "<pre style=\"white-space:pre;overflow-x:auto;line-height:normal;font-family:Menlo,'DejaVu Sans Mono',consolas,'Courier New',monospace\">/var/folders/7t/k8q3439j6z3c683j7w00wtm80000gn/T/ipykernel_58430/330735155.py:26: FutureWarning: The behavior of \n",
       "DataFrame concatenation with empty or all-NA entries is deprecated. In a future version, this will no longer \n",
       "exclude empty or all-NA columns when determining the result dtypes. To retain the old behavior, exclude the \n",
       "relevant entries before the concat operation.\n",
       "  results = pd.concat([results, normalized_data]) #.dropna(axis=1, how=\"all\")])\n",
       "</pre>\n"
      ],
      "text/plain": [
       "/var/folders/7t/k8q3439j6z3c683j7w00wtm80000gn/T/ipykernel_58430/330735155.py:26: FutureWarning: The behavior of \n",
       "DataFrame concatenation with empty or all-NA entries is deprecated. In a future version, this will no longer \n",
       "exclude empty or all-NA columns when determining the result dtypes. To retain the old behavior, exclude the \n",
       "relevant entries before the concat operation.\n",
       "  results = pd.concat([results, normalized_data]) #.dropna(axis=1, how=\"all\")])\n"
      ]
     },
     "metadata": {},
     "output_type": "display_data"
    },
    {
     "data": {
      "text/html": [
       "<pre style=\"white-space:pre;overflow-x:auto;line-height:normal;font-family:Menlo,'DejaVu Sans Mono',consolas,'Courier New',monospace\">/var/folders/7t/k8q3439j6z3c683j7w00wtm80000gn/T/ipykernel_58430/330735155.py:26: FutureWarning: The behavior of \n",
       "DataFrame concatenation with empty or all-NA entries is deprecated. In a future version, this will no longer \n",
       "exclude empty or all-NA columns when determining the result dtypes. To retain the old behavior, exclude the \n",
       "relevant entries before the concat operation.\n",
       "  results = pd.concat([results, normalized_data]) #.dropna(axis=1, how=\"all\")])\n",
       "</pre>\n"
      ],
      "text/plain": [
       "/var/folders/7t/k8q3439j6z3c683j7w00wtm80000gn/T/ipykernel_58430/330735155.py:26: FutureWarning: The behavior of \n",
       "DataFrame concatenation with empty or all-NA entries is deprecated. In a future version, this will no longer \n",
       "exclude empty or all-NA columns when determining the result dtypes. To retain the old behavior, exclude the \n",
       "relevant entries before the concat operation.\n",
       "  results = pd.concat([results, normalized_data]) #.dropna(axis=1, how=\"all\")])\n"
      ]
     },
     "metadata": {},
     "output_type": "display_data"
    },
    {
     "data": {
      "text/html": [
       "<pre style=\"white-space:pre;overflow-x:auto;line-height:normal;font-family:Menlo,'DejaVu Sans Mono',consolas,'Courier New',monospace\">/var/folders/7t/k8q3439j6z3c683j7w00wtm80000gn/T/ipykernel_58430/330735155.py:26: FutureWarning: The behavior of \n",
       "DataFrame concatenation with empty or all-NA entries is deprecated. In a future version, this will no longer \n",
       "exclude empty or all-NA columns when determining the result dtypes. To retain the old behavior, exclude the \n",
       "relevant entries before the concat operation.\n",
       "  results = pd.concat([results, normalized_data]) #.dropna(axis=1, how=\"all\")])\n",
       "</pre>\n"
      ],
      "text/plain": [
       "/var/folders/7t/k8q3439j6z3c683j7w00wtm80000gn/T/ipykernel_58430/330735155.py:26: FutureWarning: The behavior of \n",
       "DataFrame concatenation with empty or all-NA entries is deprecated. In a future version, this will no longer \n",
       "exclude empty or all-NA columns when determining the result dtypes. To retain the old behavior, exclude the \n",
       "relevant entries before the concat operation.\n",
       "  results = pd.concat([results, normalized_data]) #.dropna(axis=1, how=\"all\")])\n"
      ]
     },
     "metadata": {},
     "output_type": "display_data"
    },
    {
     "data": {
      "text/html": [
       "<pre style=\"white-space:pre;overflow-x:auto;line-height:normal;font-family:Menlo,'DejaVu Sans Mono',consolas,'Courier New',monospace\">/var/folders/7t/k8q3439j6z3c683j7w00wtm80000gn/T/ipykernel_58430/330735155.py:26: FutureWarning: The behavior of \n",
       "DataFrame concatenation with empty or all-NA entries is deprecated. In a future version, this will no longer \n",
       "exclude empty or all-NA columns when determining the result dtypes. To retain the old behavior, exclude the \n",
       "relevant entries before the concat operation.\n",
       "  results = pd.concat([results, normalized_data]) #.dropna(axis=1, how=\"all\")])\n",
       "</pre>\n"
      ],
      "text/plain": [
       "/var/folders/7t/k8q3439j6z3c683j7w00wtm80000gn/T/ipykernel_58430/330735155.py:26: FutureWarning: The behavior of \n",
       "DataFrame concatenation with empty or all-NA entries is deprecated. In a future version, this will no longer \n",
       "exclude empty or all-NA columns when determining the result dtypes. To retain the old behavior, exclude the \n",
       "relevant entries before the concat operation.\n",
       "  results = pd.concat([results, normalized_data]) #.dropna(axis=1, how=\"all\")])\n"
      ]
     },
     "metadata": {},
     "output_type": "display_data"
    },
    {
     "data": {
      "text/html": [
       "<pre style=\"white-space:pre;overflow-x:auto;line-height:normal;font-family:Menlo,'DejaVu Sans Mono',consolas,'Courier New',monospace\">/var/folders/7t/k8q3439j6z3c683j7w00wtm80000gn/T/ipykernel_58430/330735155.py:26: FutureWarning: The behavior of \n",
       "DataFrame concatenation with empty or all-NA entries is deprecated. In a future version, this will no longer \n",
       "exclude empty or all-NA columns when determining the result dtypes. To retain the old behavior, exclude the \n",
       "relevant entries before the concat operation.\n",
       "  results = pd.concat([results, normalized_data]) #.dropna(axis=1, how=\"all\")])\n",
       "</pre>\n"
      ],
      "text/plain": [
       "/var/folders/7t/k8q3439j6z3c683j7w00wtm80000gn/T/ipykernel_58430/330735155.py:26: FutureWarning: The behavior of \n",
       "DataFrame concatenation with empty or all-NA entries is deprecated. In a future version, this will no longer \n",
       "exclude empty or all-NA columns when determining the result dtypes. To retain the old behavior, exclude the \n",
       "relevant entries before the concat operation.\n",
       "  results = pd.concat([results, normalized_data]) #.dropna(axis=1, how=\"all\")])\n"
      ]
     },
     "metadata": {},
     "output_type": "display_data"
    },
    {
     "data": {
      "text/html": [
       "<pre style=\"white-space:pre;overflow-x:auto;line-height:normal;font-family:Menlo,'DejaVu Sans Mono',consolas,'Courier New',monospace\">/var/folders/7t/k8q3439j6z3c683j7w00wtm80000gn/T/ipykernel_58430/330735155.py:26: FutureWarning: The behavior of \n",
       "DataFrame concatenation with empty or all-NA entries is deprecated. In a future version, this will no longer \n",
       "exclude empty or all-NA columns when determining the result dtypes. To retain the old behavior, exclude the \n",
       "relevant entries before the concat operation.\n",
       "  results = pd.concat([results, normalized_data]) #.dropna(axis=1, how=\"all\")])\n",
       "</pre>\n"
      ],
      "text/plain": [
       "/var/folders/7t/k8q3439j6z3c683j7w00wtm80000gn/T/ipykernel_58430/330735155.py:26: FutureWarning: The behavior of \n",
       "DataFrame concatenation with empty or all-NA entries is deprecated. In a future version, this will no longer \n",
       "exclude empty or all-NA columns when determining the result dtypes. To retain the old behavior, exclude the \n",
       "relevant entries before the concat operation.\n",
       "  results = pd.concat([results, normalized_data]) #.dropna(axis=1, how=\"all\")])\n"
      ]
     },
     "metadata": {},
     "output_type": "display_data"
    },
    {
     "data": {
      "text/html": [
       "<pre style=\"white-space:pre;overflow-x:auto;line-height:normal;font-family:Menlo,'DejaVu Sans Mono',consolas,'Courier New',monospace\">/var/folders/7t/k8q3439j6z3c683j7w00wtm80000gn/T/ipykernel_58430/330735155.py:26: FutureWarning: The behavior of \n",
       "DataFrame concatenation with empty or all-NA entries is deprecated. In a future version, this will no longer \n",
       "exclude empty or all-NA columns when determining the result dtypes. To retain the old behavior, exclude the \n",
       "relevant entries before the concat operation.\n",
       "  results = pd.concat([results, normalized_data]) #.dropna(axis=1, how=\"all\")])\n",
       "</pre>\n"
      ],
      "text/plain": [
       "/var/folders/7t/k8q3439j6z3c683j7w00wtm80000gn/T/ipykernel_58430/330735155.py:26: FutureWarning: The behavior of \n",
       "DataFrame concatenation with empty or all-NA entries is deprecated. In a future version, this will no longer \n",
       "exclude empty or all-NA columns when determining the result dtypes. To retain the old behavior, exclude the \n",
       "relevant entries before the concat operation.\n",
       "  results = pd.concat([results, normalized_data]) #.dropna(axis=1, how=\"all\")])\n"
      ]
     },
     "metadata": {},
     "output_type": "display_data"
    },
    {
     "data": {
      "text/html": [
       "<pre style=\"white-space:pre;overflow-x:auto;line-height:normal;font-family:Menlo,'DejaVu Sans Mono',consolas,'Courier New',monospace\">/var/folders/7t/k8q3439j6z3c683j7w00wtm80000gn/T/ipykernel_58430/330735155.py:26: FutureWarning: The behavior of \n",
       "DataFrame concatenation with empty or all-NA entries is deprecated. In a future version, this will no longer \n",
       "exclude empty or all-NA columns when determining the result dtypes. To retain the old behavior, exclude the \n",
       "relevant entries before the concat operation.\n",
       "  results = pd.concat([results, normalized_data]) #.dropna(axis=1, how=\"all\")])\n",
       "</pre>\n"
      ],
      "text/plain": [
       "/var/folders/7t/k8q3439j6z3c683j7w00wtm80000gn/T/ipykernel_58430/330735155.py:26: FutureWarning: The behavior of \n",
       "DataFrame concatenation with empty or all-NA entries is deprecated. In a future version, this will no longer \n",
       "exclude empty or all-NA columns when determining the result dtypes. To retain the old behavior, exclude the \n",
       "relevant entries before the concat operation.\n",
       "  results = pd.concat([results, normalized_data]) #.dropna(axis=1, how=\"all\")])\n"
      ]
     },
     "metadata": {},
     "output_type": "display_data"
    },
    {
     "data": {
      "text/html": [
       "<pre style=\"white-space:pre;overflow-x:auto;line-height:normal;font-family:Menlo,'DejaVu Sans Mono',consolas,'Courier New',monospace\">/var/folders/7t/k8q3439j6z3c683j7w00wtm80000gn/T/ipykernel_58430/330735155.py:26: FutureWarning: The behavior of \n",
       "DataFrame concatenation with empty or all-NA entries is deprecated. In a future version, this will no longer \n",
       "exclude empty or all-NA columns when determining the result dtypes. To retain the old behavior, exclude the \n",
       "relevant entries before the concat operation.\n",
       "  results = pd.concat([results, normalized_data]) #.dropna(axis=1, how=\"all\")])\n",
       "</pre>\n"
      ],
      "text/plain": [
       "/var/folders/7t/k8q3439j6z3c683j7w00wtm80000gn/T/ipykernel_58430/330735155.py:26: FutureWarning: The behavior of \n",
       "DataFrame concatenation with empty or all-NA entries is deprecated. In a future version, this will no longer \n",
       "exclude empty or all-NA columns when determining the result dtypes. To retain the old behavior, exclude the \n",
       "relevant entries before the concat operation.\n",
       "  results = pd.concat([results, normalized_data]) #.dropna(axis=1, how=\"all\")])\n"
      ]
     },
     "metadata": {},
     "output_type": "display_data"
    },
    {
     "data": {
      "text/html": [
       "<pre style=\"white-space:pre;overflow-x:auto;line-height:normal;font-family:Menlo,'DejaVu Sans Mono',consolas,'Courier New',monospace\">/var/folders/7t/k8q3439j6z3c683j7w00wtm80000gn/T/ipykernel_58430/330735155.py:26: FutureWarning: The behavior of \n",
       "DataFrame concatenation with empty or all-NA entries is deprecated. In a future version, this will no longer \n",
       "exclude empty or all-NA columns when determining the result dtypes. To retain the old behavior, exclude the \n",
       "relevant entries before the concat operation.\n",
       "  results = pd.concat([results, normalized_data]) #.dropna(axis=1, how=\"all\")])\n",
       "</pre>\n"
      ],
      "text/plain": [
       "/var/folders/7t/k8q3439j6z3c683j7w00wtm80000gn/T/ipykernel_58430/330735155.py:26: FutureWarning: The behavior of \n",
       "DataFrame concatenation with empty or all-NA entries is deprecated. In a future version, this will no longer \n",
       "exclude empty or all-NA columns when determining the result dtypes. To retain the old behavior, exclude the \n",
       "relevant entries before the concat operation.\n",
       "  results = pd.concat([results, normalized_data]) #.dropna(axis=1, how=\"all\")])\n"
      ]
     },
     "metadata": {},
     "output_type": "display_data"
    },
    {
     "data": {
      "text/html": [
       "<pre style=\"white-space:pre;overflow-x:auto;line-height:normal;font-family:Menlo,'DejaVu Sans Mono',consolas,'Courier New',monospace\">/var/folders/7t/k8q3439j6z3c683j7w00wtm80000gn/T/ipykernel_58430/330735155.py:26: FutureWarning: The behavior of \n",
       "DataFrame concatenation with empty or all-NA entries is deprecated. In a future version, this will no longer \n",
       "exclude empty or all-NA columns when determining the result dtypes. To retain the old behavior, exclude the \n",
       "relevant entries before the concat operation.\n",
       "  results = pd.concat([results, normalized_data]) #.dropna(axis=1, how=\"all\")])\n",
       "</pre>\n"
      ],
      "text/plain": [
       "/var/folders/7t/k8q3439j6z3c683j7w00wtm80000gn/T/ipykernel_58430/330735155.py:26: FutureWarning: The behavior of \n",
       "DataFrame concatenation with empty or all-NA entries is deprecated. In a future version, this will no longer \n",
       "exclude empty or all-NA columns when determining the result dtypes. To retain the old behavior, exclude the \n",
       "relevant entries before the concat operation.\n",
       "  results = pd.concat([results, normalized_data]) #.dropna(axis=1, how=\"all\")])\n"
      ]
     },
     "metadata": {},
     "output_type": "display_data"
    },
    {
     "data": {
      "text/html": [
       "<pre style=\"white-space:pre;overflow-x:auto;line-height:normal;font-family:Menlo,'DejaVu Sans Mono',consolas,'Courier New',monospace\">/var/folders/7t/k8q3439j6z3c683j7w00wtm80000gn/T/ipykernel_58430/330735155.py:26: FutureWarning: The behavior of \n",
       "DataFrame concatenation with empty or all-NA entries is deprecated. In a future version, this will no longer \n",
       "exclude empty or all-NA columns when determining the result dtypes. To retain the old behavior, exclude the \n",
       "relevant entries before the concat operation.\n",
       "  results = pd.concat([results, normalized_data]) #.dropna(axis=1, how=\"all\")])\n",
       "</pre>\n"
      ],
      "text/plain": [
       "/var/folders/7t/k8q3439j6z3c683j7w00wtm80000gn/T/ipykernel_58430/330735155.py:26: FutureWarning: The behavior of \n",
       "DataFrame concatenation with empty or all-NA entries is deprecated. In a future version, this will no longer \n",
       "exclude empty or all-NA columns when determining the result dtypes. To retain the old behavior, exclude the \n",
       "relevant entries before the concat operation.\n",
       "  results = pd.concat([results, normalized_data]) #.dropna(axis=1, how=\"all\")])\n"
      ]
     },
     "metadata": {},
     "output_type": "display_data"
    },
    {
     "data": {
      "text/html": [
       "<pre style=\"white-space:pre;overflow-x:auto;line-height:normal;font-family:Menlo,'DejaVu Sans Mono',consolas,'Courier New',monospace\">/var/folders/7t/k8q3439j6z3c683j7w00wtm80000gn/T/ipykernel_58430/330735155.py:26: FutureWarning: The behavior of \n",
       "DataFrame concatenation with empty or all-NA entries is deprecated. In a future version, this will no longer \n",
       "exclude empty or all-NA columns when determining the result dtypes. To retain the old behavior, exclude the \n",
       "relevant entries before the concat operation.\n",
       "  results = pd.concat([results, normalized_data]) #.dropna(axis=1, how=\"all\")])\n",
       "</pre>\n"
      ],
      "text/plain": [
       "/var/folders/7t/k8q3439j6z3c683j7w00wtm80000gn/T/ipykernel_58430/330735155.py:26: FutureWarning: The behavior of \n",
       "DataFrame concatenation with empty or all-NA entries is deprecated. In a future version, this will no longer \n",
       "exclude empty or all-NA columns when determining the result dtypes. To retain the old behavior, exclude the \n",
       "relevant entries before the concat operation.\n",
       "  results = pd.concat([results, normalized_data]) #.dropna(axis=1, how=\"all\")])\n"
      ]
     },
     "metadata": {},
     "output_type": "display_data"
    },
    {
     "data": {
      "text/html": [
       "<pre style=\"white-space:pre;overflow-x:auto;line-height:normal;font-family:Menlo,'DejaVu Sans Mono',consolas,'Courier New',monospace\">/var/folders/7t/k8q3439j6z3c683j7w00wtm80000gn/T/ipykernel_58430/330735155.py:26: FutureWarning: The behavior of \n",
       "DataFrame concatenation with empty or all-NA entries is deprecated. In a future version, this will no longer \n",
       "exclude empty or all-NA columns when determining the result dtypes. To retain the old behavior, exclude the \n",
       "relevant entries before the concat operation.\n",
       "  results = pd.concat([results, normalized_data]) #.dropna(axis=1, how=\"all\")])\n",
       "</pre>\n"
      ],
      "text/plain": [
       "/var/folders/7t/k8q3439j6z3c683j7w00wtm80000gn/T/ipykernel_58430/330735155.py:26: FutureWarning: The behavior of \n",
       "DataFrame concatenation with empty or all-NA entries is deprecated. In a future version, this will no longer \n",
       "exclude empty or all-NA columns when determining the result dtypes. To retain the old behavior, exclude the \n",
       "relevant entries before the concat operation.\n",
       "  results = pd.concat([results, normalized_data]) #.dropna(axis=1, how=\"all\")])\n"
      ]
     },
     "metadata": {},
     "output_type": "display_data"
    },
    {
     "data": {
      "text/html": [
       "<pre style=\"white-space:pre;overflow-x:auto;line-height:normal;font-family:Menlo,'DejaVu Sans Mono',consolas,'Courier New',monospace\">/var/folders/7t/k8q3439j6z3c683j7w00wtm80000gn/T/ipykernel_58430/330735155.py:26: FutureWarning: The behavior of \n",
       "DataFrame concatenation with empty or all-NA entries is deprecated. In a future version, this will no longer \n",
       "exclude empty or all-NA columns when determining the result dtypes. To retain the old behavior, exclude the \n",
       "relevant entries before the concat operation.\n",
       "  results = pd.concat([results, normalized_data]) #.dropna(axis=1, how=\"all\")])\n",
       "</pre>\n"
      ],
      "text/plain": [
       "/var/folders/7t/k8q3439j6z3c683j7w00wtm80000gn/T/ipykernel_58430/330735155.py:26: FutureWarning: The behavior of \n",
       "DataFrame concatenation with empty or all-NA entries is deprecated. In a future version, this will no longer \n",
       "exclude empty or all-NA columns when determining the result dtypes. To retain the old behavior, exclude the \n",
       "relevant entries before the concat operation.\n",
       "  results = pd.concat([results, normalized_data]) #.dropna(axis=1, how=\"all\")])\n"
      ]
     },
     "metadata": {},
     "output_type": "display_data"
    },
    {
     "data": {
      "text/html": [
       "<pre style=\"white-space:pre;overflow-x:auto;line-height:normal;font-family:Menlo,'DejaVu Sans Mono',consolas,'Courier New',monospace\">/var/folders/7t/k8q3439j6z3c683j7w00wtm80000gn/T/ipykernel_58430/330735155.py:26: FutureWarning: The behavior of \n",
       "DataFrame concatenation with empty or all-NA entries is deprecated. In a future version, this will no longer \n",
       "exclude empty or all-NA columns when determining the result dtypes. To retain the old behavior, exclude the \n",
       "relevant entries before the concat operation.\n",
       "  results = pd.concat([results, normalized_data]) #.dropna(axis=1, how=\"all\")])\n",
       "</pre>\n"
      ],
      "text/plain": [
       "/var/folders/7t/k8q3439j6z3c683j7w00wtm80000gn/T/ipykernel_58430/330735155.py:26: FutureWarning: The behavior of \n",
       "DataFrame concatenation with empty or all-NA entries is deprecated. In a future version, this will no longer \n",
       "exclude empty or all-NA columns when determining the result dtypes. To retain the old behavior, exclude the \n",
       "relevant entries before the concat operation.\n",
       "  results = pd.concat([results, normalized_data]) #.dropna(axis=1, how=\"all\")])\n"
      ]
     },
     "metadata": {},
     "output_type": "display_data"
    },
    {
     "data": {
      "text/html": [
       "<pre style=\"white-space:pre;overflow-x:auto;line-height:normal;font-family:Menlo,'DejaVu Sans Mono',consolas,'Courier New',monospace\">/var/folders/7t/k8q3439j6z3c683j7w00wtm80000gn/T/ipykernel_58430/330735155.py:26: FutureWarning: The behavior of \n",
       "DataFrame concatenation with empty or all-NA entries is deprecated. In a future version, this will no longer \n",
       "exclude empty or all-NA columns when determining the result dtypes. To retain the old behavior, exclude the \n",
       "relevant entries before the concat operation.\n",
       "  results = pd.concat([results, normalized_data]) #.dropna(axis=1, how=\"all\")])\n",
       "</pre>\n"
      ],
      "text/plain": [
       "/var/folders/7t/k8q3439j6z3c683j7w00wtm80000gn/T/ipykernel_58430/330735155.py:26: FutureWarning: The behavior of \n",
       "DataFrame concatenation with empty or all-NA entries is deprecated. In a future version, this will no longer \n",
       "exclude empty or all-NA columns when determining the result dtypes. To retain the old behavior, exclude the \n",
       "relevant entries before the concat operation.\n",
       "  results = pd.concat([results, normalized_data]) #.dropna(axis=1, how=\"all\")])\n"
      ]
     },
     "metadata": {},
     "output_type": "display_data"
    },
    {
     "data": {
      "text/html": [
       "<pre style=\"white-space:pre;overflow-x:auto;line-height:normal;font-family:Menlo,'DejaVu Sans Mono',consolas,'Courier New',monospace\">/var/folders/7t/k8q3439j6z3c683j7w00wtm80000gn/T/ipykernel_58430/330735155.py:26: FutureWarning: The behavior of \n",
       "DataFrame concatenation with empty or all-NA entries is deprecated. In a future version, this will no longer \n",
       "exclude empty or all-NA columns when determining the result dtypes. To retain the old behavior, exclude the \n",
       "relevant entries before the concat operation.\n",
       "  results = pd.concat([results, normalized_data]) #.dropna(axis=1, how=\"all\")])\n",
       "</pre>\n"
      ],
      "text/plain": [
       "/var/folders/7t/k8q3439j6z3c683j7w00wtm80000gn/T/ipykernel_58430/330735155.py:26: FutureWarning: The behavior of \n",
       "DataFrame concatenation with empty or all-NA entries is deprecated. In a future version, this will no longer \n",
       "exclude empty or all-NA columns when determining the result dtypes. To retain the old behavior, exclude the \n",
       "relevant entries before the concat operation.\n",
       "  results = pd.concat([results, normalized_data]) #.dropna(axis=1, how=\"all\")])\n"
      ]
     },
     "metadata": {},
     "output_type": "display_data"
    },
    {
     "data": {
      "text/html": [
       "<pre style=\"white-space:pre;overflow-x:auto;line-height:normal;font-family:Menlo,'DejaVu Sans Mono',consolas,'Courier New',monospace\">/var/folders/7t/k8q3439j6z3c683j7w00wtm80000gn/T/ipykernel_58430/330735155.py:26: FutureWarning: The behavior of \n",
       "DataFrame concatenation with empty or all-NA entries is deprecated. In a future version, this will no longer \n",
       "exclude empty or all-NA columns when determining the result dtypes. To retain the old behavior, exclude the \n",
       "relevant entries before the concat operation.\n",
       "  results = pd.concat([results, normalized_data]) #.dropna(axis=1, how=\"all\")])\n",
       "</pre>\n"
      ],
      "text/plain": [
       "/var/folders/7t/k8q3439j6z3c683j7w00wtm80000gn/T/ipykernel_58430/330735155.py:26: FutureWarning: The behavior of \n",
       "DataFrame concatenation with empty or all-NA entries is deprecated. In a future version, this will no longer \n",
       "exclude empty or all-NA columns when determining the result dtypes. To retain the old behavior, exclude the \n",
       "relevant entries before the concat operation.\n",
       "  results = pd.concat([results, normalized_data]) #.dropna(axis=1, how=\"all\")])\n"
      ]
     },
     "metadata": {},
     "output_type": "display_data"
    },
    {
     "data": {
      "text/html": [
       "<pre style=\"white-space:pre;overflow-x:auto;line-height:normal;font-family:Menlo,'DejaVu Sans Mono',consolas,'Courier New',monospace\">/var/folders/7t/k8q3439j6z3c683j7w00wtm80000gn/T/ipykernel_58430/330735155.py:26: FutureWarning: The behavior of \n",
       "DataFrame concatenation with empty or all-NA entries is deprecated. In a future version, this will no longer \n",
       "exclude empty or all-NA columns when determining the result dtypes. To retain the old behavior, exclude the \n",
       "relevant entries before the concat operation.\n",
       "  results = pd.concat([results, normalized_data]) #.dropna(axis=1, how=\"all\")])\n",
       "</pre>\n"
      ],
      "text/plain": [
       "/var/folders/7t/k8q3439j6z3c683j7w00wtm80000gn/T/ipykernel_58430/330735155.py:26: FutureWarning: The behavior of \n",
       "DataFrame concatenation with empty or all-NA entries is deprecated. In a future version, this will no longer \n",
       "exclude empty or all-NA columns when determining the result dtypes. To retain the old behavior, exclude the \n",
       "relevant entries before the concat operation.\n",
       "  results = pd.concat([results, normalized_data]) #.dropna(axis=1, how=\"all\")])\n"
      ]
     },
     "metadata": {},
     "output_type": "display_data"
    },
    {
     "data": {
      "text/html": [
       "<pre style=\"white-space:pre;overflow-x:auto;line-height:normal;font-family:Menlo,'DejaVu Sans Mono',consolas,'Courier New',monospace\">/var/folders/7t/k8q3439j6z3c683j7w00wtm80000gn/T/ipykernel_58430/330735155.py:26: FutureWarning: The behavior of \n",
       "DataFrame concatenation with empty or all-NA entries is deprecated. In a future version, this will no longer \n",
       "exclude empty or all-NA columns when determining the result dtypes. To retain the old behavior, exclude the \n",
       "relevant entries before the concat operation.\n",
       "  results = pd.concat([results, normalized_data]) #.dropna(axis=1, how=\"all\")])\n",
       "</pre>\n"
      ],
      "text/plain": [
       "/var/folders/7t/k8q3439j6z3c683j7w00wtm80000gn/T/ipykernel_58430/330735155.py:26: FutureWarning: The behavior of \n",
       "DataFrame concatenation with empty or all-NA entries is deprecated. In a future version, this will no longer \n",
       "exclude empty or all-NA columns when determining the result dtypes. To retain the old behavior, exclude the \n",
       "relevant entries before the concat operation.\n",
       "  results = pd.concat([results, normalized_data]) #.dropna(axis=1, how=\"all\")])\n"
      ]
     },
     "metadata": {},
     "output_type": "display_data"
    },
    {
     "data": {
      "text/html": [
       "<pre style=\"white-space:pre;overflow-x:auto;line-height:normal;font-family:Menlo,'DejaVu Sans Mono',consolas,'Courier New',monospace\">/var/folders/7t/k8q3439j6z3c683j7w00wtm80000gn/T/ipykernel_58430/330735155.py:26: FutureWarning: The behavior of \n",
       "DataFrame concatenation with empty or all-NA entries is deprecated. In a future version, this will no longer \n",
       "exclude empty or all-NA columns when determining the result dtypes. To retain the old behavior, exclude the \n",
       "relevant entries before the concat operation.\n",
       "  results = pd.concat([results, normalized_data]) #.dropna(axis=1, how=\"all\")])\n",
       "</pre>\n"
      ],
      "text/plain": [
       "/var/folders/7t/k8q3439j6z3c683j7w00wtm80000gn/T/ipykernel_58430/330735155.py:26: FutureWarning: The behavior of \n",
       "DataFrame concatenation with empty or all-NA entries is deprecated. In a future version, this will no longer \n",
       "exclude empty or all-NA columns when determining the result dtypes. To retain the old behavior, exclude the \n",
       "relevant entries before the concat operation.\n",
       "  results = pd.concat([results, normalized_data]) #.dropna(axis=1, how=\"all\")])\n"
      ]
     },
     "metadata": {},
     "output_type": "display_data"
    },
    {
     "data": {
      "text/html": [
       "<pre style=\"white-space:pre;overflow-x:auto;line-height:normal;font-family:Menlo,'DejaVu Sans Mono',consolas,'Courier New',monospace\">/var/folders/7t/k8q3439j6z3c683j7w00wtm80000gn/T/ipykernel_58430/330735155.py:26: FutureWarning: The behavior of \n",
       "DataFrame concatenation with empty or all-NA entries is deprecated. In a future version, this will no longer \n",
       "exclude empty or all-NA columns when determining the result dtypes. To retain the old behavior, exclude the \n",
       "relevant entries before the concat operation.\n",
       "  results = pd.concat([results, normalized_data]) #.dropna(axis=1, how=\"all\")])\n",
       "</pre>\n"
      ],
      "text/plain": [
       "/var/folders/7t/k8q3439j6z3c683j7w00wtm80000gn/T/ipykernel_58430/330735155.py:26: FutureWarning: The behavior of \n",
       "DataFrame concatenation with empty or all-NA entries is deprecated. In a future version, this will no longer \n",
       "exclude empty or all-NA columns when determining the result dtypes. To retain the old behavior, exclude the \n",
       "relevant entries before the concat operation.\n",
       "  results = pd.concat([results, normalized_data]) #.dropna(axis=1, how=\"all\")])\n"
      ]
     },
     "metadata": {},
     "output_type": "display_data"
    },
    {
     "data": {
      "text/html": [
       "<pre style=\"white-space:pre;overflow-x:auto;line-height:normal;font-family:Menlo,'DejaVu Sans Mono',consolas,'Courier New',monospace\">/var/folders/7t/k8q3439j6z3c683j7w00wtm80000gn/T/ipykernel_58430/330735155.py:26: FutureWarning: The behavior of \n",
       "DataFrame concatenation with empty or all-NA entries is deprecated. In a future version, this will no longer \n",
       "exclude empty or all-NA columns when determining the result dtypes. To retain the old behavior, exclude the \n",
       "relevant entries before the concat operation.\n",
       "  results = pd.concat([results, normalized_data]) #.dropna(axis=1, how=\"all\")])\n",
       "</pre>\n"
      ],
      "text/plain": [
       "/var/folders/7t/k8q3439j6z3c683j7w00wtm80000gn/T/ipykernel_58430/330735155.py:26: FutureWarning: The behavior of \n",
       "DataFrame concatenation with empty or all-NA entries is deprecated. In a future version, this will no longer \n",
       "exclude empty or all-NA columns when determining the result dtypes. To retain the old behavior, exclude the \n",
       "relevant entries before the concat operation.\n",
       "  results = pd.concat([results, normalized_data]) #.dropna(axis=1, how=\"all\")])\n"
      ]
     },
     "metadata": {},
     "output_type": "display_data"
    },
    {
     "data": {
      "text/html": [
       "<pre style=\"white-space:pre;overflow-x:auto;line-height:normal;font-family:Menlo,'DejaVu Sans Mono',consolas,'Courier New',monospace\">/var/folders/7t/k8q3439j6z3c683j7w00wtm80000gn/T/ipykernel_58430/330735155.py:26: FutureWarning: The behavior of \n",
       "DataFrame concatenation with empty or all-NA entries is deprecated. In a future version, this will no longer \n",
       "exclude empty or all-NA columns when determining the result dtypes. To retain the old behavior, exclude the \n",
       "relevant entries before the concat operation.\n",
       "  results = pd.concat([results, normalized_data]) #.dropna(axis=1, how=\"all\")])\n",
       "</pre>\n"
      ],
      "text/plain": [
       "/var/folders/7t/k8q3439j6z3c683j7w00wtm80000gn/T/ipykernel_58430/330735155.py:26: FutureWarning: The behavior of \n",
       "DataFrame concatenation with empty or all-NA entries is deprecated. In a future version, this will no longer \n",
       "exclude empty or all-NA columns when determining the result dtypes. To retain the old behavior, exclude the \n",
       "relevant entries before the concat operation.\n",
       "  results = pd.concat([results, normalized_data]) #.dropna(axis=1, how=\"all\")])\n"
      ]
     },
     "metadata": {},
     "output_type": "display_data"
    },
    {
     "data": {
      "text/html": [
       "<pre style=\"white-space:pre;overflow-x:auto;line-height:normal;font-family:Menlo,'DejaVu Sans Mono',consolas,'Courier New',monospace\">/var/folders/7t/k8q3439j6z3c683j7w00wtm80000gn/T/ipykernel_58430/330735155.py:26: FutureWarning: The behavior of \n",
       "DataFrame concatenation with empty or all-NA entries is deprecated. In a future version, this will no longer \n",
       "exclude empty or all-NA columns when determining the result dtypes. To retain the old behavior, exclude the \n",
       "relevant entries before the concat operation.\n",
       "  results = pd.concat([results, normalized_data]) #.dropna(axis=1, how=\"all\")])\n",
       "</pre>\n"
      ],
      "text/plain": [
       "/var/folders/7t/k8q3439j6z3c683j7w00wtm80000gn/T/ipykernel_58430/330735155.py:26: FutureWarning: The behavior of \n",
       "DataFrame concatenation with empty or all-NA entries is deprecated. In a future version, this will no longer \n",
       "exclude empty or all-NA columns when determining the result dtypes. To retain the old behavior, exclude the \n",
       "relevant entries before the concat operation.\n",
       "  results = pd.concat([results, normalized_data]) #.dropna(axis=1, how=\"all\")])\n"
      ]
     },
     "metadata": {},
     "output_type": "display_data"
    },
    {
     "data": {
      "text/html": [
       "<pre style=\"white-space:pre;overflow-x:auto;line-height:normal;font-family:Menlo,'DejaVu Sans Mono',consolas,'Courier New',monospace\">/var/folders/7t/k8q3439j6z3c683j7w00wtm80000gn/T/ipykernel_58430/330735155.py:26: FutureWarning: The behavior of \n",
       "DataFrame concatenation with empty or all-NA entries is deprecated. In a future version, this will no longer \n",
       "exclude empty or all-NA columns when determining the result dtypes. To retain the old behavior, exclude the \n",
       "relevant entries before the concat operation.\n",
       "  results = pd.concat([results, normalized_data]) #.dropna(axis=1, how=\"all\")])\n",
       "</pre>\n"
      ],
      "text/plain": [
       "/var/folders/7t/k8q3439j6z3c683j7w00wtm80000gn/T/ipykernel_58430/330735155.py:26: FutureWarning: The behavior of \n",
       "DataFrame concatenation with empty or all-NA entries is deprecated. In a future version, this will no longer \n",
       "exclude empty or all-NA columns when determining the result dtypes. To retain the old behavior, exclude the \n",
       "relevant entries before the concat operation.\n",
       "  results = pd.concat([results, normalized_data]) #.dropna(axis=1, how=\"all\")])\n"
      ]
     },
     "metadata": {},
     "output_type": "display_data"
    },
    {
     "data": {
      "text/html": [
       "<pre style=\"white-space:pre;overflow-x:auto;line-height:normal;font-family:Menlo,'DejaVu Sans Mono',consolas,'Courier New',monospace\">/var/folders/7t/k8q3439j6z3c683j7w00wtm80000gn/T/ipykernel_58430/330735155.py:26: FutureWarning: The behavior of \n",
       "DataFrame concatenation with empty or all-NA entries is deprecated. In a future version, this will no longer \n",
       "exclude empty or all-NA columns when determining the result dtypes. To retain the old behavior, exclude the \n",
       "relevant entries before the concat operation.\n",
       "  results = pd.concat([results, normalized_data]) #.dropna(axis=1, how=\"all\")])\n",
       "</pre>\n"
      ],
      "text/plain": [
       "/var/folders/7t/k8q3439j6z3c683j7w00wtm80000gn/T/ipykernel_58430/330735155.py:26: FutureWarning: The behavior of \n",
       "DataFrame concatenation with empty or all-NA entries is deprecated. In a future version, this will no longer \n",
       "exclude empty or all-NA columns when determining the result dtypes. To retain the old behavior, exclude the \n",
       "relevant entries before the concat operation.\n",
       "  results = pd.concat([results, normalized_data]) #.dropna(axis=1, how=\"all\")])\n"
      ]
     },
     "metadata": {},
     "output_type": "display_data"
    },
    {
     "data": {
      "text/html": [
       "<pre style=\"white-space:pre;overflow-x:auto;line-height:normal;font-family:Menlo,'DejaVu Sans Mono',consolas,'Courier New',monospace\">/var/folders/7t/k8q3439j6z3c683j7w00wtm80000gn/T/ipykernel_58430/330735155.py:26: FutureWarning: The behavior of \n",
       "DataFrame concatenation with empty or all-NA entries is deprecated. In a future version, this will no longer \n",
       "exclude empty or all-NA columns when determining the result dtypes. To retain the old behavior, exclude the \n",
       "relevant entries before the concat operation.\n",
       "  results = pd.concat([results, normalized_data]) #.dropna(axis=1, how=\"all\")])\n",
       "</pre>\n"
      ],
      "text/plain": [
       "/var/folders/7t/k8q3439j6z3c683j7w00wtm80000gn/T/ipykernel_58430/330735155.py:26: FutureWarning: The behavior of \n",
       "DataFrame concatenation with empty or all-NA entries is deprecated. In a future version, this will no longer \n",
       "exclude empty or all-NA columns when determining the result dtypes. To retain the old behavior, exclude the \n",
       "relevant entries before the concat operation.\n",
       "  results = pd.concat([results, normalized_data]) #.dropna(axis=1, how=\"all\")])\n"
      ]
     },
     "metadata": {},
     "output_type": "display_data"
    },
    {
     "data": {
      "text/html": [
       "<pre style=\"white-space:pre;overflow-x:auto;line-height:normal;font-family:Menlo,'DejaVu Sans Mono',consolas,'Courier New',monospace\">/var/folders/7t/k8q3439j6z3c683j7w00wtm80000gn/T/ipykernel_58430/330735155.py:26: FutureWarning: The behavior of \n",
       "DataFrame concatenation with empty or all-NA entries is deprecated. In a future version, this will no longer \n",
       "exclude empty or all-NA columns when determining the result dtypes. To retain the old behavior, exclude the \n",
       "relevant entries before the concat operation.\n",
       "  results = pd.concat([results, normalized_data]) #.dropna(axis=1, how=\"all\")])\n",
       "</pre>\n"
      ],
      "text/plain": [
       "/var/folders/7t/k8q3439j6z3c683j7w00wtm80000gn/T/ipykernel_58430/330735155.py:26: FutureWarning: The behavior of \n",
       "DataFrame concatenation with empty or all-NA entries is deprecated. In a future version, this will no longer \n",
       "exclude empty or all-NA columns when determining the result dtypes. To retain the old behavior, exclude the \n",
       "relevant entries before the concat operation.\n",
       "  results = pd.concat([results, normalized_data]) #.dropna(axis=1, how=\"all\")])\n"
      ]
     },
     "metadata": {},
     "output_type": "display_data"
    },
    {
     "data": {
      "text/html": [
       "<pre style=\"white-space:pre;overflow-x:auto;line-height:normal;font-family:Menlo,'DejaVu Sans Mono',consolas,'Courier New',monospace\">/var/folders/7t/k8q3439j6z3c683j7w00wtm80000gn/T/ipykernel_58430/330735155.py:26: FutureWarning: The behavior of \n",
       "DataFrame concatenation with empty or all-NA entries is deprecated. In a future version, this will no longer \n",
       "exclude empty or all-NA columns when determining the result dtypes. To retain the old behavior, exclude the \n",
       "relevant entries before the concat operation.\n",
       "  results = pd.concat([results, normalized_data]) #.dropna(axis=1, how=\"all\")])\n",
       "</pre>\n"
      ],
      "text/plain": [
       "/var/folders/7t/k8q3439j6z3c683j7w00wtm80000gn/T/ipykernel_58430/330735155.py:26: FutureWarning: The behavior of \n",
       "DataFrame concatenation with empty or all-NA entries is deprecated. In a future version, this will no longer \n",
       "exclude empty or all-NA columns when determining the result dtypes. To retain the old behavior, exclude the \n",
       "relevant entries before the concat operation.\n",
       "  results = pd.concat([results, normalized_data]) #.dropna(axis=1, how=\"all\")])\n"
      ]
     },
     "metadata": {},
     "output_type": "display_data"
    },
    {
     "data": {
      "text/html": [
       "<pre style=\"white-space:pre;overflow-x:auto;line-height:normal;font-family:Menlo,'DejaVu Sans Mono',consolas,'Courier New',monospace\">/var/folders/7t/k8q3439j6z3c683j7w00wtm80000gn/T/ipykernel_58430/330735155.py:26: FutureWarning: The behavior of \n",
       "DataFrame concatenation with empty or all-NA entries is deprecated. In a future version, this will no longer \n",
       "exclude empty or all-NA columns when determining the result dtypes. To retain the old behavior, exclude the \n",
       "relevant entries before the concat operation.\n",
       "  results = pd.concat([results, normalized_data]) #.dropna(axis=1, how=\"all\")])\n",
       "</pre>\n"
      ],
      "text/plain": [
       "/var/folders/7t/k8q3439j6z3c683j7w00wtm80000gn/T/ipykernel_58430/330735155.py:26: FutureWarning: The behavior of \n",
       "DataFrame concatenation with empty or all-NA entries is deprecated. In a future version, this will no longer \n",
       "exclude empty or all-NA columns when determining the result dtypes. To retain the old behavior, exclude the \n",
       "relevant entries before the concat operation.\n",
       "  results = pd.concat([results, normalized_data]) #.dropna(axis=1, how=\"all\")])\n"
      ]
     },
     "metadata": {},
     "output_type": "display_data"
    },
    {
     "data": {
      "text/html": [
       "<pre style=\"white-space:pre;overflow-x:auto;line-height:normal;font-family:Menlo,'DejaVu Sans Mono',consolas,'Courier New',monospace\">/var/folders/7t/k8q3439j6z3c683j7w00wtm80000gn/T/ipykernel_58430/330735155.py:26: FutureWarning: The behavior of \n",
       "DataFrame concatenation with empty or all-NA entries is deprecated. In a future version, this will no longer \n",
       "exclude empty or all-NA columns when determining the result dtypes. To retain the old behavior, exclude the \n",
       "relevant entries before the concat operation.\n",
       "  results = pd.concat([results, normalized_data]) #.dropna(axis=1, how=\"all\")])\n",
       "</pre>\n"
      ],
      "text/plain": [
       "/var/folders/7t/k8q3439j6z3c683j7w00wtm80000gn/T/ipykernel_58430/330735155.py:26: FutureWarning: The behavior of \n",
       "DataFrame concatenation with empty or all-NA entries is deprecated. In a future version, this will no longer \n",
       "exclude empty or all-NA columns when determining the result dtypes. To retain the old behavior, exclude the \n",
       "relevant entries before the concat operation.\n",
       "  results = pd.concat([results, normalized_data]) #.dropna(axis=1, how=\"all\")])\n"
      ]
     },
     "metadata": {},
     "output_type": "display_data"
    },
    {
     "data": {
      "text/html": [
       "<pre style=\"white-space:pre;overflow-x:auto;line-height:normal;font-family:Menlo,'DejaVu Sans Mono',consolas,'Courier New',monospace\">/var/folders/7t/k8q3439j6z3c683j7w00wtm80000gn/T/ipykernel_58430/330735155.py:26: FutureWarning: The behavior of \n",
       "DataFrame concatenation with empty or all-NA entries is deprecated. In a future version, this will no longer \n",
       "exclude empty or all-NA columns when determining the result dtypes. To retain the old behavior, exclude the \n",
       "relevant entries before the concat operation.\n",
       "  results = pd.concat([results, normalized_data]) #.dropna(axis=1, how=\"all\")])\n",
       "</pre>\n"
      ],
      "text/plain": [
       "/var/folders/7t/k8q3439j6z3c683j7w00wtm80000gn/T/ipykernel_58430/330735155.py:26: FutureWarning: The behavior of \n",
       "DataFrame concatenation with empty or all-NA entries is deprecated. In a future version, this will no longer \n",
       "exclude empty or all-NA columns when determining the result dtypes. To retain the old behavior, exclude the \n",
       "relevant entries before the concat operation.\n",
       "  results = pd.concat([results, normalized_data]) #.dropna(axis=1, how=\"all\")])\n"
      ]
     },
     "metadata": {},
     "output_type": "display_data"
    },
    {
     "data": {
      "text/html": [
       "<pre style=\"white-space:pre;overflow-x:auto;line-height:normal;font-family:Menlo,'DejaVu Sans Mono',consolas,'Courier New',monospace\">/var/folders/7t/k8q3439j6z3c683j7w00wtm80000gn/T/ipykernel_58430/330735155.py:26: FutureWarning: The behavior of \n",
       "DataFrame concatenation with empty or all-NA entries is deprecated. In a future version, this will no longer \n",
       "exclude empty or all-NA columns when determining the result dtypes. To retain the old behavior, exclude the \n",
       "relevant entries before the concat operation.\n",
       "  results = pd.concat([results, normalized_data]) #.dropna(axis=1, how=\"all\")])\n",
       "</pre>\n"
      ],
      "text/plain": [
       "/var/folders/7t/k8q3439j6z3c683j7w00wtm80000gn/T/ipykernel_58430/330735155.py:26: FutureWarning: The behavior of \n",
       "DataFrame concatenation with empty or all-NA entries is deprecated. In a future version, this will no longer \n",
       "exclude empty or all-NA columns when determining the result dtypes. To retain the old behavior, exclude the \n",
       "relevant entries before the concat operation.\n",
       "  results = pd.concat([results, normalized_data]) #.dropna(axis=1, how=\"all\")])\n"
      ]
     },
     "metadata": {},
     "output_type": "display_data"
    },
    {
     "data": {
      "text/html": [
       "<pre style=\"white-space:pre;overflow-x:auto;line-height:normal;font-family:Menlo,'DejaVu Sans Mono',consolas,'Courier New',monospace\">/var/folders/7t/k8q3439j6z3c683j7w00wtm80000gn/T/ipykernel_58430/330735155.py:26: FutureWarning: The behavior of \n",
       "DataFrame concatenation with empty or all-NA entries is deprecated. In a future version, this will no longer \n",
       "exclude empty or all-NA columns when determining the result dtypes. To retain the old behavior, exclude the \n",
       "relevant entries before the concat operation.\n",
       "  results = pd.concat([results, normalized_data]) #.dropna(axis=1, how=\"all\")])\n",
       "</pre>\n"
      ],
      "text/plain": [
       "/var/folders/7t/k8q3439j6z3c683j7w00wtm80000gn/T/ipykernel_58430/330735155.py:26: FutureWarning: The behavior of \n",
       "DataFrame concatenation with empty or all-NA entries is deprecated. In a future version, this will no longer \n",
       "exclude empty or all-NA columns when determining the result dtypes. To retain the old behavior, exclude the \n",
       "relevant entries before the concat operation.\n",
       "  results = pd.concat([results, normalized_data]) #.dropna(axis=1, how=\"all\")])\n"
      ]
     },
     "metadata": {},
     "output_type": "display_data"
    },
    {
     "data": {
      "text/html": [
       "<pre style=\"white-space:pre;overflow-x:auto;line-height:normal;font-family:Menlo,'DejaVu Sans Mono',consolas,'Courier New',monospace\">/var/folders/7t/k8q3439j6z3c683j7w00wtm80000gn/T/ipykernel_58430/330735155.py:26: FutureWarning: The behavior of \n",
       "DataFrame concatenation with empty or all-NA entries is deprecated. In a future version, this will no longer \n",
       "exclude empty or all-NA columns when determining the result dtypes. To retain the old behavior, exclude the \n",
       "relevant entries before the concat operation.\n",
       "  results = pd.concat([results, normalized_data]) #.dropna(axis=1, how=\"all\")])\n",
       "</pre>\n"
      ],
      "text/plain": [
       "/var/folders/7t/k8q3439j6z3c683j7w00wtm80000gn/T/ipykernel_58430/330735155.py:26: FutureWarning: The behavior of \n",
       "DataFrame concatenation with empty or all-NA entries is deprecated. In a future version, this will no longer \n",
       "exclude empty or all-NA columns when determining the result dtypes. To retain the old behavior, exclude the \n",
       "relevant entries before the concat operation.\n",
       "  results = pd.concat([results, normalized_data]) #.dropna(axis=1, how=\"all\")])\n"
      ]
     },
     "metadata": {},
     "output_type": "display_data"
    },
    {
     "data": {
      "text/html": [
       "<pre style=\"white-space:pre;overflow-x:auto;line-height:normal;font-family:Menlo,'DejaVu Sans Mono',consolas,'Courier New',monospace\">/var/folders/7t/k8q3439j6z3c683j7w00wtm80000gn/T/ipykernel_58430/330735155.py:26: FutureWarning: The behavior of \n",
       "DataFrame concatenation with empty or all-NA entries is deprecated. In a future version, this will no longer \n",
       "exclude empty or all-NA columns when determining the result dtypes. To retain the old behavior, exclude the \n",
       "relevant entries before the concat operation.\n",
       "  results = pd.concat([results, normalized_data]) #.dropna(axis=1, how=\"all\")])\n",
       "</pre>\n"
      ],
      "text/plain": [
       "/var/folders/7t/k8q3439j6z3c683j7w00wtm80000gn/T/ipykernel_58430/330735155.py:26: FutureWarning: The behavior of \n",
       "DataFrame concatenation with empty or all-NA entries is deprecated. In a future version, this will no longer \n",
       "exclude empty or all-NA columns when determining the result dtypes. To retain the old behavior, exclude the \n",
       "relevant entries before the concat operation.\n",
       "  results = pd.concat([results, normalized_data]) #.dropna(axis=1, how=\"all\")])\n"
      ]
     },
     "metadata": {},
     "output_type": "display_data"
    },
    {
     "data": {
      "text/html": [
       "<pre style=\"white-space:pre;overflow-x:auto;line-height:normal;font-family:Menlo,'DejaVu Sans Mono',consolas,'Courier New',monospace\">/var/folders/7t/k8q3439j6z3c683j7w00wtm80000gn/T/ipykernel_58430/330735155.py:26: FutureWarning: The behavior of \n",
       "DataFrame concatenation with empty or all-NA entries is deprecated. In a future version, this will no longer \n",
       "exclude empty or all-NA columns when determining the result dtypes. To retain the old behavior, exclude the \n",
       "relevant entries before the concat operation.\n",
       "  results = pd.concat([results, normalized_data]) #.dropna(axis=1, how=\"all\")])\n",
       "</pre>\n"
      ],
      "text/plain": [
       "/var/folders/7t/k8q3439j6z3c683j7w00wtm80000gn/T/ipykernel_58430/330735155.py:26: FutureWarning: The behavior of \n",
       "DataFrame concatenation with empty or all-NA entries is deprecated. In a future version, this will no longer \n",
       "exclude empty or all-NA columns when determining the result dtypes. To retain the old behavior, exclude the \n",
       "relevant entries before the concat operation.\n",
       "  results = pd.concat([results, normalized_data]) #.dropna(axis=1, how=\"all\")])\n"
      ]
     },
     "metadata": {},
     "output_type": "display_data"
    },
    {
     "data": {
      "text/html": [
       "<pre style=\"white-space:pre;overflow-x:auto;line-height:normal;font-family:Menlo,'DejaVu Sans Mono',consolas,'Courier New',monospace\">/var/folders/7t/k8q3439j6z3c683j7w00wtm80000gn/T/ipykernel_58430/330735155.py:26: FutureWarning: The behavior of \n",
       "DataFrame concatenation with empty or all-NA entries is deprecated. In a future version, this will no longer \n",
       "exclude empty or all-NA columns when determining the result dtypes. To retain the old behavior, exclude the \n",
       "relevant entries before the concat operation.\n",
       "  results = pd.concat([results, normalized_data]) #.dropna(axis=1, how=\"all\")])\n",
       "</pre>\n"
      ],
      "text/plain": [
       "/var/folders/7t/k8q3439j6z3c683j7w00wtm80000gn/T/ipykernel_58430/330735155.py:26: FutureWarning: The behavior of \n",
       "DataFrame concatenation with empty or all-NA entries is deprecated. In a future version, this will no longer \n",
       "exclude empty or all-NA columns when determining the result dtypes. To retain the old behavior, exclude the \n",
       "relevant entries before the concat operation.\n",
       "  results = pd.concat([results, normalized_data]) #.dropna(axis=1, how=\"all\")])\n"
      ]
     },
     "metadata": {},
     "output_type": "display_data"
    },
    {
     "data": {
      "text/html": [
       "<pre style=\"white-space:pre;overflow-x:auto;line-height:normal;font-family:Menlo,'DejaVu Sans Mono',consolas,'Courier New',monospace\">/var/folders/7t/k8q3439j6z3c683j7w00wtm80000gn/T/ipykernel_58430/330735155.py:26: FutureWarning: The behavior of \n",
       "DataFrame concatenation with empty or all-NA entries is deprecated. In a future version, this will no longer \n",
       "exclude empty or all-NA columns when determining the result dtypes. To retain the old behavior, exclude the \n",
       "relevant entries before the concat operation.\n",
       "  results = pd.concat([results, normalized_data]) #.dropna(axis=1, how=\"all\")])\n",
       "</pre>\n"
      ],
      "text/plain": [
       "/var/folders/7t/k8q3439j6z3c683j7w00wtm80000gn/T/ipykernel_58430/330735155.py:26: FutureWarning: The behavior of \n",
       "DataFrame concatenation with empty or all-NA entries is deprecated. In a future version, this will no longer \n",
       "exclude empty or all-NA columns when determining the result dtypes. To retain the old behavior, exclude the \n",
       "relevant entries before the concat operation.\n",
       "  results = pd.concat([results, normalized_data]) #.dropna(axis=1, how=\"all\")])\n"
      ]
     },
     "metadata": {},
     "output_type": "display_data"
    },
    {
     "data": {
      "text/html": [
       "<pre style=\"white-space:pre;overflow-x:auto;line-height:normal;font-family:Menlo,'DejaVu Sans Mono',consolas,'Courier New',monospace\">/var/folders/7t/k8q3439j6z3c683j7w00wtm80000gn/T/ipykernel_58430/330735155.py:26: FutureWarning: The behavior of \n",
       "DataFrame concatenation with empty or all-NA entries is deprecated. In a future version, this will no longer \n",
       "exclude empty or all-NA columns when determining the result dtypes. To retain the old behavior, exclude the \n",
       "relevant entries before the concat operation.\n",
       "  results = pd.concat([results, normalized_data]) #.dropna(axis=1, how=\"all\")])\n",
       "</pre>\n"
      ],
      "text/plain": [
       "/var/folders/7t/k8q3439j6z3c683j7w00wtm80000gn/T/ipykernel_58430/330735155.py:26: FutureWarning: The behavior of \n",
       "DataFrame concatenation with empty or all-NA entries is deprecated. In a future version, this will no longer \n",
       "exclude empty or all-NA columns when determining the result dtypes. To retain the old behavior, exclude the \n",
       "relevant entries before the concat operation.\n",
       "  results = pd.concat([results, normalized_data]) #.dropna(axis=1, how=\"all\")])\n"
      ]
     },
     "metadata": {},
     "output_type": "display_data"
    },
    {
     "data": {
      "text/html": [
       "<pre style=\"white-space:pre;overflow-x:auto;line-height:normal;font-family:Menlo,'DejaVu Sans Mono',consolas,'Courier New',monospace\">/var/folders/7t/k8q3439j6z3c683j7w00wtm80000gn/T/ipykernel_58430/330735155.py:26: FutureWarning: The behavior of \n",
       "DataFrame concatenation with empty or all-NA entries is deprecated. In a future version, this will no longer \n",
       "exclude empty or all-NA columns when determining the result dtypes. To retain the old behavior, exclude the \n",
       "relevant entries before the concat operation.\n",
       "  results = pd.concat([results, normalized_data]) #.dropna(axis=1, how=\"all\")])\n",
       "</pre>\n"
      ],
      "text/plain": [
       "/var/folders/7t/k8q3439j6z3c683j7w00wtm80000gn/T/ipykernel_58430/330735155.py:26: FutureWarning: The behavior of \n",
       "DataFrame concatenation with empty or all-NA entries is deprecated. In a future version, this will no longer \n",
       "exclude empty or all-NA columns when determining the result dtypes. To retain the old behavior, exclude the \n",
       "relevant entries before the concat operation.\n",
       "  results = pd.concat([results, normalized_data]) #.dropna(axis=1, how=\"all\")])\n"
      ]
     },
     "metadata": {},
     "output_type": "display_data"
    },
    {
     "data": {
      "text/html": [
       "<pre style=\"white-space:pre;overflow-x:auto;line-height:normal;font-family:Menlo,'DejaVu Sans Mono',consolas,'Courier New',monospace\">/var/folders/7t/k8q3439j6z3c683j7w00wtm80000gn/T/ipykernel_58430/330735155.py:26: FutureWarning: The behavior of \n",
       "DataFrame concatenation with empty or all-NA entries is deprecated. In a future version, this will no longer \n",
       "exclude empty or all-NA columns when determining the result dtypes. To retain the old behavior, exclude the \n",
       "relevant entries before the concat operation.\n",
       "  results = pd.concat([results, normalized_data]) #.dropna(axis=1, how=\"all\")])\n",
       "</pre>\n"
      ],
      "text/plain": [
       "/var/folders/7t/k8q3439j6z3c683j7w00wtm80000gn/T/ipykernel_58430/330735155.py:26: FutureWarning: The behavior of \n",
       "DataFrame concatenation with empty or all-NA entries is deprecated. In a future version, this will no longer \n",
       "exclude empty or all-NA columns when determining the result dtypes. To retain the old behavior, exclude the \n",
       "relevant entries before the concat operation.\n",
       "  results = pd.concat([results, normalized_data]) #.dropna(axis=1, how=\"all\")])\n"
      ]
     },
     "metadata": {},
     "output_type": "display_data"
    },
    {
     "data": {
      "text/html": [
       "<pre style=\"white-space:pre;overflow-x:auto;line-height:normal;font-family:Menlo,'DejaVu Sans Mono',consolas,'Courier New',monospace\">/var/folders/7t/k8q3439j6z3c683j7w00wtm80000gn/T/ipykernel_58430/330735155.py:26: FutureWarning: The behavior of \n",
       "DataFrame concatenation with empty or all-NA entries is deprecated. In a future version, this will no longer \n",
       "exclude empty or all-NA columns when determining the result dtypes. To retain the old behavior, exclude the \n",
       "relevant entries before the concat operation.\n",
       "  results = pd.concat([results, normalized_data]) #.dropna(axis=1, how=\"all\")])\n",
       "</pre>\n"
      ],
      "text/plain": [
       "/var/folders/7t/k8q3439j6z3c683j7w00wtm80000gn/T/ipykernel_58430/330735155.py:26: FutureWarning: The behavior of \n",
       "DataFrame concatenation with empty or all-NA entries is deprecated. In a future version, this will no longer \n",
       "exclude empty or all-NA columns when determining the result dtypes. To retain the old behavior, exclude the \n",
       "relevant entries before the concat operation.\n",
       "  results = pd.concat([results, normalized_data]) #.dropna(axis=1, how=\"all\")])\n"
      ]
     },
     "metadata": {},
     "output_type": "display_data"
    },
    {
     "data": {
      "text/html": [
       "<pre style=\"white-space:pre;overflow-x:auto;line-height:normal;font-family:Menlo,'DejaVu Sans Mono',consolas,'Courier New',monospace\">/var/folders/7t/k8q3439j6z3c683j7w00wtm80000gn/T/ipykernel_58430/330735155.py:26: FutureWarning: The behavior of \n",
       "DataFrame concatenation with empty or all-NA entries is deprecated. In a future version, this will no longer \n",
       "exclude empty or all-NA columns when determining the result dtypes. To retain the old behavior, exclude the \n",
       "relevant entries before the concat operation.\n",
       "  results = pd.concat([results, normalized_data]) #.dropna(axis=1, how=\"all\")])\n",
       "</pre>\n"
      ],
      "text/plain": [
       "/var/folders/7t/k8q3439j6z3c683j7w00wtm80000gn/T/ipykernel_58430/330735155.py:26: FutureWarning: The behavior of \n",
       "DataFrame concatenation with empty or all-NA entries is deprecated. In a future version, this will no longer \n",
       "exclude empty or all-NA columns when determining the result dtypes. To retain the old behavior, exclude the \n",
       "relevant entries before the concat operation.\n",
       "  results = pd.concat([results, normalized_data]) #.dropna(axis=1, how=\"all\")])\n"
      ]
     },
     "metadata": {},
     "output_type": "display_data"
    },
    {
     "data": {
      "text/html": [
       "<pre style=\"white-space:pre;overflow-x:auto;line-height:normal;font-family:Menlo,'DejaVu Sans Mono',consolas,'Courier New',monospace\">/var/folders/7t/k8q3439j6z3c683j7w00wtm80000gn/T/ipykernel_58430/330735155.py:26: FutureWarning: The behavior of \n",
       "DataFrame concatenation with empty or all-NA entries is deprecated. In a future version, this will no longer \n",
       "exclude empty or all-NA columns when determining the result dtypes. To retain the old behavior, exclude the \n",
       "relevant entries before the concat operation.\n",
       "  results = pd.concat([results, normalized_data]) #.dropna(axis=1, how=\"all\")])\n",
       "</pre>\n"
      ],
      "text/plain": [
       "/var/folders/7t/k8q3439j6z3c683j7w00wtm80000gn/T/ipykernel_58430/330735155.py:26: FutureWarning: The behavior of \n",
       "DataFrame concatenation with empty or all-NA entries is deprecated. In a future version, this will no longer \n",
       "exclude empty or all-NA columns when determining the result dtypes. To retain the old behavior, exclude the \n",
       "relevant entries before the concat operation.\n",
       "  results = pd.concat([results, normalized_data]) #.dropna(axis=1, how=\"all\")])\n"
      ]
     },
     "metadata": {},
     "output_type": "display_data"
    },
    {
     "data": {
      "text/html": [
       "<pre style=\"white-space:pre;overflow-x:auto;line-height:normal;font-family:Menlo,'DejaVu Sans Mono',consolas,'Courier New',monospace\">/var/folders/7t/k8q3439j6z3c683j7w00wtm80000gn/T/ipykernel_58430/330735155.py:26: FutureWarning: The behavior of \n",
       "DataFrame concatenation with empty or all-NA entries is deprecated. In a future version, this will no longer \n",
       "exclude empty or all-NA columns when determining the result dtypes. To retain the old behavior, exclude the \n",
       "relevant entries before the concat operation.\n",
       "  results = pd.concat([results, normalized_data]) #.dropna(axis=1, how=\"all\")])\n",
       "</pre>\n"
      ],
      "text/plain": [
       "/var/folders/7t/k8q3439j6z3c683j7w00wtm80000gn/T/ipykernel_58430/330735155.py:26: FutureWarning: The behavior of \n",
       "DataFrame concatenation with empty or all-NA entries is deprecated. In a future version, this will no longer \n",
       "exclude empty or all-NA columns when determining the result dtypes. To retain the old behavior, exclude the \n",
       "relevant entries before the concat operation.\n",
       "  results = pd.concat([results, normalized_data]) #.dropna(axis=1, how=\"all\")])\n"
      ]
     },
     "metadata": {},
     "output_type": "display_data"
    },
    {
     "data": {
      "text/html": [
       "<pre style=\"white-space:pre;overflow-x:auto;line-height:normal;font-family:Menlo,'DejaVu Sans Mono',consolas,'Courier New',monospace\">/var/folders/7t/k8q3439j6z3c683j7w00wtm80000gn/T/ipykernel_58430/330735155.py:26: FutureWarning: The behavior of \n",
       "DataFrame concatenation with empty or all-NA entries is deprecated. In a future version, this will no longer \n",
       "exclude empty or all-NA columns when determining the result dtypes. To retain the old behavior, exclude the \n",
       "relevant entries before the concat operation.\n",
       "  results = pd.concat([results, normalized_data]) #.dropna(axis=1, how=\"all\")])\n",
       "</pre>\n"
      ],
      "text/plain": [
       "/var/folders/7t/k8q3439j6z3c683j7w00wtm80000gn/T/ipykernel_58430/330735155.py:26: FutureWarning: The behavior of \n",
       "DataFrame concatenation with empty or all-NA entries is deprecated. In a future version, this will no longer \n",
       "exclude empty or all-NA columns when determining the result dtypes. To retain the old behavior, exclude the \n",
       "relevant entries before the concat operation.\n",
       "  results = pd.concat([results, normalized_data]) #.dropna(axis=1, how=\"all\")])\n"
      ]
     },
     "metadata": {},
     "output_type": "display_data"
    },
    {
     "data": {
      "text/html": [
       "<pre style=\"white-space:pre;overflow-x:auto;line-height:normal;font-family:Menlo,'DejaVu Sans Mono',consolas,'Courier New',monospace\">/var/folders/7t/k8q3439j6z3c683j7w00wtm80000gn/T/ipykernel_58430/330735155.py:26: FutureWarning: The behavior of \n",
       "DataFrame concatenation with empty or all-NA entries is deprecated. In a future version, this will no longer \n",
       "exclude empty or all-NA columns when determining the result dtypes. To retain the old behavior, exclude the \n",
       "relevant entries before the concat operation.\n",
       "  results = pd.concat([results, normalized_data]) #.dropna(axis=1, how=\"all\")])\n",
       "</pre>\n"
      ],
      "text/plain": [
       "/var/folders/7t/k8q3439j6z3c683j7w00wtm80000gn/T/ipykernel_58430/330735155.py:26: FutureWarning: The behavior of \n",
       "DataFrame concatenation with empty or all-NA entries is deprecated. In a future version, this will no longer \n",
       "exclude empty or all-NA columns when determining the result dtypes. To retain the old behavior, exclude the \n",
       "relevant entries before the concat operation.\n",
       "  results = pd.concat([results, normalized_data]) #.dropna(axis=1, how=\"all\")])\n"
      ]
     },
     "metadata": {},
     "output_type": "display_data"
    },
    {
     "data": {
      "text/html": [
       "<pre style=\"white-space:pre;overflow-x:auto;line-height:normal;font-family:Menlo,'DejaVu Sans Mono',consolas,'Courier New',monospace\">/var/folders/7t/k8q3439j6z3c683j7w00wtm80000gn/T/ipykernel_58430/330735155.py:26: FutureWarning: The behavior of \n",
       "DataFrame concatenation with empty or all-NA entries is deprecated. In a future version, this will no longer \n",
       "exclude empty or all-NA columns when determining the result dtypes. To retain the old behavior, exclude the \n",
       "relevant entries before the concat operation.\n",
       "  results = pd.concat([results, normalized_data]) #.dropna(axis=1, how=\"all\")])\n",
       "</pre>\n"
      ],
      "text/plain": [
       "/var/folders/7t/k8q3439j6z3c683j7w00wtm80000gn/T/ipykernel_58430/330735155.py:26: FutureWarning: The behavior of \n",
       "DataFrame concatenation with empty or all-NA entries is deprecated. In a future version, this will no longer \n",
       "exclude empty or all-NA columns when determining the result dtypes. To retain the old behavior, exclude the \n",
       "relevant entries before the concat operation.\n",
       "  results = pd.concat([results, normalized_data]) #.dropna(axis=1, how=\"all\")])\n"
      ]
     },
     "metadata": {},
     "output_type": "display_data"
    },
    {
     "data": {
      "text/html": [
       "<pre style=\"white-space:pre;overflow-x:auto;line-height:normal;font-family:Menlo,'DejaVu Sans Mono',consolas,'Courier New',monospace\">/var/folders/7t/k8q3439j6z3c683j7w00wtm80000gn/T/ipykernel_58430/330735155.py:26: FutureWarning: The behavior of \n",
       "DataFrame concatenation with empty or all-NA entries is deprecated. In a future version, this will no longer \n",
       "exclude empty or all-NA columns when determining the result dtypes. To retain the old behavior, exclude the \n",
       "relevant entries before the concat operation.\n",
       "  results = pd.concat([results, normalized_data]) #.dropna(axis=1, how=\"all\")])\n",
       "</pre>\n"
      ],
      "text/plain": [
       "/var/folders/7t/k8q3439j6z3c683j7w00wtm80000gn/T/ipykernel_58430/330735155.py:26: FutureWarning: The behavior of \n",
       "DataFrame concatenation with empty or all-NA entries is deprecated. In a future version, this will no longer \n",
       "exclude empty or all-NA columns when determining the result dtypes. To retain the old behavior, exclude the \n",
       "relevant entries before the concat operation.\n",
       "  results = pd.concat([results, normalized_data]) #.dropna(axis=1, how=\"all\")])\n"
      ]
     },
     "metadata": {},
     "output_type": "display_data"
    },
    {
     "data": {
      "text/html": [
       "<pre style=\"white-space:pre;overflow-x:auto;line-height:normal;font-family:Menlo,'DejaVu Sans Mono',consolas,'Courier New',monospace\">/var/folders/7t/k8q3439j6z3c683j7w00wtm80000gn/T/ipykernel_58430/330735155.py:26: FutureWarning: The behavior of \n",
       "DataFrame concatenation with empty or all-NA entries is deprecated. In a future version, this will no longer \n",
       "exclude empty or all-NA columns when determining the result dtypes. To retain the old behavior, exclude the \n",
       "relevant entries before the concat operation.\n",
       "  results = pd.concat([results, normalized_data]) #.dropna(axis=1, how=\"all\")])\n",
       "</pre>\n"
      ],
      "text/plain": [
       "/var/folders/7t/k8q3439j6z3c683j7w00wtm80000gn/T/ipykernel_58430/330735155.py:26: FutureWarning: The behavior of \n",
       "DataFrame concatenation with empty or all-NA entries is deprecated. In a future version, this will no longer \n",
       "exclude empty or all-NA columns when determining the result dtypes. To retain the old behavior, exclude the \n",
       "relevant entries before the concat operation.\n",
       "  results = pd.concat([results, normalized_data]) #.dropna(axis=1, how=\"all\")])\n"
      ]
     },
     "metadata": {},
     "output_type": "display_data"
    },
    {
     "data": {
      "text/html": [
       "<pre style=\"white-space:pre;overflow-x:auto;line-height:normal;font-family:Menlo,'DejaVu Sans Mono',consolas,'Courier New',monospace\">/var/folders/7t/k8q3439j6z3c683j7w00wtm80000gn/T/ipykernel_58430/330735155.py:26: FutureWarning: The behavior of \n",
       "DataFrame concatenation with empty or all-NA entries is deprecated. In a future version, this will no longer \n",
       "exclude empty or all-NA columns when determining the result dtypes. To retain the old behavior, exclude the \n",
       "relevant entries before the concat operation.\n",
       "  results = pd.concat([results, normalized_data]) #.dropna(axis=1, how=\"all\")])\n",
       "</pre>\n"
      ],
      "text/plain": [
       "/var/folders/7t/k8q3439j6z3c683j7w00wtm80000gn/T/ipykernel_58430/330735155.py:26: FutureWarning: The behavior of \n",
       "DataFrame concatenation with empty or all-NA entries is deprecated. In a future version, this will no longer \n",
       "exclude empty or all-NA columns when determining the result dtypes. To retain the old behavior, exclude the \n",
       "relevant entries before the concat operation.\n",
       "  results = pd.concat([results, normalized_data]) #.dropna(axis=1, how=\"all\")])\n"
      ]
     },
     "metadata": {},
     "output_type": "display_data"
    },
    {
     "data": {
      "text/html": [
       "<pre style=\"white-space:pre;overflow-x:auto;line-height:normal;font-family:Menlo,'DejaVu Sans Mono',consolas,'Courier New',monospace\">/var/folders/7t/k8q3439j6z3c683j7w00wtm80000gn/T/ipykernel_58430/330735155.py:26: FutureWarning: The behavior of \n",
       "DataFrame concatenation with empty or all-NA entries is deprecated. In a future version, this will no longer \n",
       "exclude empty or all-NA columns when determining the result dtypes. To retain the old behavior, exclude the \n",
       "relevant entries before the concat operation.\n",
       "  results = pd.concat([results, normalized_data]) #.dropna(axis=1, how=\"all\")])\n",
       "</pre>\n"
      ],
      "text/plain": [
       "/var/folders/7t/k8q3439j6z3c683j7w00wtm80000gn/T/ipykernel_58430/330735155.py:26: FutureWarning: The behavior of \n",
       "DataFrame concatenation with empty or all-NA entries is deprecated. In a future version, this will no longer \n",
       "exclude empty or all-NA columns when determining the result dtypes. To retain the old behavior, exclude the \n",
       "relevant entries before the concat operation.\n",
       "  results = pd.concat([results, normalized_data]) #.dropna(axis=1, how=\"all\")])\n"
      ]
     },
     "metadata": {},
     "output_type": "display_data"
    },
    {
     "data": {
      "text/html": [
       "<pre style=\"white-space:pre;overflow-x:auto;line-height:normal;font-family:Menlo,'DejaVu Sans Mono',consolas,'Courier New',monospace\">/var/folders/7t/k8q3439j6z3c683j7w00wtm80000gn/T/ipykernel_58430/330735155.py:26: FutureWarning: The behavior of \n",
       "DataFrame concatenation with empty or all-NA entries is deprecated. In a future version, this will no longer \n",
       "exclude empty or all-NA columns when determining the result dtypes. To retain the old behavior, exclude the \n",
       "relevant entries before the concat operation.\n",
       "  results = pd.concat([results, normalized_data]) #.dropna(axis=1, how=\"all\")])\n",
       "</pre>\n"
      ],
      "text/plain": [
       "/var/folders/7t/k8q3439j6z3c683j7w00wtm80000gn/T/ipykernel_58430/330735155.py:26: FutureWarning: The behavior of \n",
       "DataFrame concatenation with empty or all-NA entries is deprecated. In a future version, this will no longer \n",
       "exclude empty or all-NA columns when determining the result dtypes. To retain the old behavior, exclude the \n",
       "relevant entries before the concat operation.\n",
       "  results = pd.concat([results, normalized_data]) #.dropna(axis=1, how=\"all\")])\n"
      ]
     },
     "metadata": {},
     "output_type": "display_data"
    },
    {
     "data": {
      "text/html": [
       "<pre style=\"white-space:pre;overflow-x:auto;line-height:normal;font-family:Menlo,'DejaVu Sans Mono',consolas,'Courier New',monospace\">/var/folders/7t/k8q3439j6z3c683j7w00wtm80000gn/T/ipykernel_58430/330735155.py:26: FutureWarning: The behavior of \n",
       "DataFrame concatenation with empty or all-NA entries is deprecated. In a future version, this will no longer \n",
       "exclude empty or all-NA columns when determining the result dtypes. To retain the old behavior, exclude the \n",
       "relevant entries before the concat operation.\n",
       "  results = pd.concat([results, normalized_data]) #.dropna(axis=1, how=\"all\")])\n",
       "</pre>\n"
      ],
      "text/plain": [
       "/var/folders/7t/k8q3439j6z3c683j7w00wtm80000gn/T/ipykernel_58430/330735155.py:26: FutureWarning: The behavior of \n",
       "DataFrame concatenation with empty or all-NA entries is deprecated. In a future version, this will no longer \n",
       "exclude empty or all-NA columns when determining the result dtypes. To retain the old behavior, exclude the \n",
       "relevant entries before the concat operation.\n",
       "  results = pd.concat([results, normalized_data]) #.dropna(axis=1, how=\"all\")])\n"
      ]
     },
     "metadata": {},
     "output_type": "display_data"
    },
    {
     "data": {
      "text/html": [
       "<pre style=\"white-space:pre;overflow-x:auto;line-height:normal;font-family:Menlo,'DejaVu Sans Mono',consolas,'Courier New',monospace\">/var/folders/7t/k8q3439j6z3c683j7w00wtm80000gn/T/ipykernel_58430/330735155.py:26: FutureWarning: The behavior of \n",
       "DataFrame concatenation with empty or all-NA entries is deprecated. In a future version, this will no longer \n",
       "exclude empty or all-NA columns when determining the result dtypes. To retain the old behavior, exclude the \n",
       "relevant entries before the concat operation.\n",
       "  results = pd.concat([results, normalized_data]) #.dropna(axis=1, how=\"all\")])\n",
       "</pre>\n"
      ],
      "text/plain": [
       "/var/folders/7t/k8q3439j6z3c683j7w00wtm80000gn/T/ipykernel_58430/330735155.py:26: FutureWarning: The behavior of \n",
       "DataFrame concatenation with empty or all-NA entries is deprecated. In a future version, this will no longer \n",
       "exclude empty or all-NA columns when determining the result dtypes. To retain the old behavior, exclude the \n",
       "relevant entries before the concat operation.\n",
       "  results = pd.concat([results, normalized_data]) #.dropna(axis=1, how=\"all\")])\n"
      ]
     },
     "metadata": {},
     "output_type": "display_data"
    },
    {
     "data": {
      "text/html": [
       "<pre style=\"white-space:pre;overflow-x:auto;line-height:normal;font-family:Menlo,'DejaVu Sans Mono',consolas,'Courier New',monospace\">/var/folders/7t/k8q3439j6z3c683j7w00wtm80000gn/T/ipykernel_58430/330735155.py:26: FutureWarning: The behavior of \n",
       "DataFrame concatenation with empty or all-NA entries is deprecated. In a future version, this will no longer \n",
       "exclude empty or all-NA columns when determining the result dtypes. To retain the old behavior, exclude the \n",
       "relevant entries before the concat operation.\n",
       "  results = pd.concat([results, normalized_data]) #.dropna(axis=1, how=\"all\")])\n",
       "</pre>\n"
      ],
      "text/plain": [
       "/var/folders/7t/k8q3439j6z3c683j7w00wtm80000gn/T/ipykernel_58430/330735155.py:26: FutureWarning: The behavior of \n",
       "DataFrame concatenation with empty or all-NA entries is deprecated. In a future version, this will no longer \n",
       "exclude empty or all-NA columns when determining the result dtypes. To retain the old behavior, exclude the \n",
       "relevant entries before the concat operation.\n",
       "  results = pd.concat([results, normalized_data]) #.dropna(axis=1, how=\"all\")])\n"
      ]
     },
     "metadata": {},
     "output_type": "display_data"
    },
    {
     "data": {
      "text/html": [
       "<pre style=\"white-space:pre;overflow-x:auto;line-height:normal;font-family:Menlo,'DejaVu Sans Mono',consolas,'Courier New',monospace\">/var/folders/7t/k8q3439j6z3c683j7w00wtm80000gn/T/ipykernel_58430/330735155.py:26: FutureWarning: The behavior of \n",
       "DataFrame concatenation with empty or all-NA entries is deprecated. In a future version, this will no longer \n",
       "exclude empty or all-NA columns when determining the result dtypes. To retain the old behavior, exclude the \n",
       "relevant entries before the concat operation.\n",
       "  results = pd.concat([results, normalized_data]) #.dropna(axis=1, how=\"all\")])\n",
       "</pre>\n"
      ],
      "text/plain": [
       "/var/folders/7t/k8q3439j6z3c683j7w00wtm80000gn/T/ipykernel_58430/330735155.py:26: FutureWarning: The behavior of \n",
       "DataFrame concatenation with empty or all-NA entries is deprecated. In a future version, this will no longer \n",
       "exclude empty or all-NA columns when determining the result dtypes. To retain the old behavior, exclude the \n",
       "relevant entries before the concat operation.\n",
       "  results = pd.concat([results, normalized_data]) #.dropna(axis=1, how=\"all\")])\n"
      ]
     },
     "metadata": {},
     "output_type": "display_data"
    },
    {
     "data": {
      "text/html": [
       "<pre style=\"white-space:pre;overflow-x:auto;line-height:normal;font-family:Menlo,'DejaVu Sans Mono',consolas,'Courier New',monospace\">/var/folders/7t/k8q3439j6z3c683j7w00wtm80000gn/T/ipykernel_58430/330735155.py:26: FutureWarning: The behavior of \n",
       "DataFrame concatenation with empty or all-NA entries is deprecated. In a future version, this will no longer \n",
       "exclude empty or all-NA columns when determining the result dtypes. To retain the old behavior, exclude the \n",
       "relevant entries before the concat operation.\n",
       "  results = pd.concat([results, normalized_data]) #.dropna(axis=1, how=\"all\")])\n",
       "</pre>\n"
      ],
      "text/plain": [
       "/var/folders/7t/k8q3439j6z3c683j7w00wtm80000gn/T/ipykernel_58430/330735155.py:26: FutureWarning: The behavior of \n",
       "DataFrame concatenation with empty or all-NA entries is deprecated. In a future version, this will no longer \n",
       "exclude empty or all-NA columns when determining the result dtypes. To retain the old behavior, exclude the \n",
       "relevant entries before the concat operation.\n",
       "  results = pd.concat([results, normalized_data]) #.dropna(axis=1, how=\"all\")])\n"
      ]
     },
     "metadata": {},
     "output_type": "display_data"
    },
    {
     "data": {
      "text/html": [
       "<pre style=\"white-space:pre;overflow-x:auto;line-height:normal;font-family:Menlo,'DejaVu Sans Mono',consolas,'Courier New',monospace\">/var/folders/7t/k8q3439j6z3c683j7w00wtm80000gn/T/ipykernel_58430/330735155.py:26: FutureWarning: The behavior of \n",
       "DataFrame concatenation with empty or all-NA entries is deprecated. In a future version, this will no longer \n",
       "exclude empty or all-NA columns when determining the result dtypes. To retain the old behavior, exclude the \n",
       "relevant entries before the concat operation.\n",
       "  results = pd.concat([results, normalized_data]) #.dropna(axis=1, how=\"all\")])\n",
       "</pre>\n"
      ],
      "text/plain": [
       "/var/folders/7t/k8q3439j6z3c683j7w00wtm80000gn/T/ipykernel_58430/330735155.py:26: FutureWarning: The behavior of \n",
       "DataFrame concatenation with empty or all-NA entries is deprecated. In a future version, this will no longer \n",
       "exclude empty or all-NA columns when determining the result dtypes. To retain the old behavior, exclude the \n",
       "relevant entries before the concat operation.\n",
       "  results = pd.concat([results, normalized_data]) #.dropna(axis=1, how=\"all\")])\n"
      ]
     },
     "metadata": {},
     "output_type": "display_data"
    },
    {
     "data": {
      "text/html": [
       "<pre style=\"white-space:pre;overflow-x:auto;line-height:normal;font-family:Menlo,'DejaVu Sans Mono',consolas,'Courier New',monospace\">/var/folders/7t/k8q3439j6z3c683j7w00wtm80000gn/T/ipykernel_58430/330735155.py:26: FutureWarning: The behavior of \n",
       "DataFrame concatenation with empty or all-NA entries is deprecated. In a future version, this will no longer \n",
       "exclude empty or all-NA columns when determining the result dtypes. To retain the old behavior, exclude the \n",
       "relevant entries before the concat operation.\n",
       "  results = pd.concat([results, normalized_data]) #.dropna(axis=1, how=\"all\")])\n",
       "</pre>\n"
      ],
      "text/plain": [
       "/var/folders/7t/k8q3439j6z3c683j7w00wtm80000gn/T/ipykernel_58430/330735155.py:26: FutureWarning: The behavior of \n",
       "DataFrame concatenation with empty or all-NA entries is deprecated. In a future version, this will no longer \n",
       "exclude empty or all-NA columns when determining the result dtypes. To retain the old behavior, exclude the \n",
       "relevant entries before the concat operation.\n",
       "  results = pd.concat([results, normalized_data]) #.dropna(axis=1, how=\"all\")])\n"
      ]
     },
     "metadata": {},
     "output_type": "display_data"
    },
    {
     "data": {
      "text/html": [
       "<pre style=\"white-space:pre;overflow-x:auto;line-height:normal;font-family:Menlo,'DejaVu Sans Mono',consolas,'Courier New',monospace\">/var/folders/7t/k8q3439j6z3c683j7w00wtm80000gn/T/ipykernel_58430/330735155.py:26: FutureWarning: The behavior of \n",
       "DataFrame concatenation with empty or all-NA entries is deprecated. In a future version, this will no longer \n",
       "exclude empty or all-NA columns when determining the result dtypes. To retain the old behavior, exclude the \n",
       "relevant entries before the concat operation.\n",
       "  results = pd.concat([results, normalized_data]) #.dropna(axis=1, how=\"all\")])\n",
       "</pre>\n"
      ],
      "text/plain": [
       "/var/folders/7t/k8q3439j6z3c683j7w00wtm80000gn/T/ipykernel_58430/330735155.py:26: FutureWarning: The behavior of \n",
       "DataFrame concatenation with empty or all-NA entries is deprecated. In a future version, this will no longer \n",
       "exclude empty or all-NA columns when determining the result dtypes. To retain the old behavior, exclude the \n",
       "relevant entries before the concat operation.\n",
       "  results = pd.concat([results, normalized_data]) #.dropna(axis=1, how=\"all\")])\n"
      ]
     },
     "metadata": {},
     "output_type": "display_data"
    },
    {
     "data": {
      "text/html": [
       "<pre style=\"white-space:pre;overflow-x:auto;line-height:normal;font-family:Menlo,'DejaVu Sans Mono',consolas,'Courier New',monospace\">/var/folders/7t/k8q3439j6z3c683j7w00wtm80000gn/T/ipykernel_58430/330735155.py:26: FutureWarning: The behavior of \n",
       "DataFrame concatenation with empty or all-NA entries is deprecated. In a future version, this will no longer \n",
       "exclude empty or all-NA columns when determining the result dtypes. To retain the old behavior, exclude the \n",
       "relevant entries before the concat operation.\n",
       "  results = pd.concat([results, normalized_data]) #.dropna(axis=1, how=\"all\")])\n",
       "</pre>\n"
      ],
      "text/plain": [
       "/var/folders/7t/k8q3439j6z3c683j7w00wtm80000gn/T/ipykernel_58430/330735155.py:26: FutureWarning: The behavior of \n",
       "DataFrame concatenation with empty or all-NA entries is deprecated. In a future version, this will no longer \n",
       "exclude empty or all-NA columns when determining the result dtypes. To retain the old behavior, exclude the \n",
       "relevant entries before the concat operation.\n",
       "  results = pd.concat([results, normalized_data]) #.dropna(axis=1, how=\"all\")])\n"
      ]
     },
     "metadata": {},
     "output_type": "display_data"
    },
    {
     "data": {
      "text/html": [
       "<pre style=\"white-space:pre;overflow-x:auto;line-height:normal;font-family:Menlo,'DejaVu Sans Mono',consolas,'Courier New',monospace\">/var/folders/7t/k8q3439j6z3c683j7w00wtm80000gn/T/ipykernel_58430/330735155.py:26: FutureWarning: The behavior of \n",
       "DataFrame concatenation with empty or all-NA entries is deprecated. In a future version, this will no longer \n",
       "exclude empty or all-NA columns when determining the result dtypes. To retain the old behavior, exclude the \n",
       "relevant entries before the concat operation.\n",
       "  results = pd.concat([results, normalized_data]) #.dropna(axis=1, how=\"all\")])\n",
       "</pre>\n"
      ],
      "text/plain": [
       "/var/folders/7t/k8q3439j6z3c683j7w00wtm80000gn/T/ipykernel_58430/330735155.py:26: FutureWarning: The behavior of \n",
       "DataFrame concatenation with empty or all-NA entries is deprecated. In a future version, this will no longer \n",
       "exclude empty or all-NA columns when determining the result dtypes. To retain the old behavior, exclude the \n",
       "relevant entries before the concat operation.\n",
       "  results = pd.concat([results, normalized_data]) #.dropna(axis=1, how=\"all\")])\n"
      ]
     },
     "metadata": {},
     "output_type": "display_data"
    },
    {
     "data": {
      "text/html": [
       "<pre style=\"white-space:pre;overflow-x:auto;line-height:normal;font-family:Menlo,'DejaVu Sans Mono',consolas,'Courier New',monospace\">/var/folders/7t/k8q3439j6z3c683j7w00wtm80000gn/T/ipykernel_58430/330735155.py:26: FutureWarning: The behavior of \n",
       "DataFrame concatenation with empty or all-NA entries is deprecated. In a future version, this will no longer \n",
       "exclude empty or all-NA columns when determining the result dtypes. To retain the old behavior, exclude the \n",
       "relevant entries before the concat operation.\n",
       "  results = pd.concat([results, normalized_data]) #.dropna(axis=1, how=\"all\")])\n",
       "</pre>\n"
      ],
      "text/plain": [
       "/var/folders/7t/k8q3439j6z3c683j7w00wtm80000gn/T/ipykernel_58430/330735155.py:26: FutureWarning: The behavior of \n",
       "DataFrame concatenation with empty or all-NA entries is deprecated. In a future version, this will no longer \n",
       "exclude empty or all-NA columns when determining the result dtypes. To retain the old behavior, exclude the \n",
       "relevant entries before the concat operation.\n",
       "  results = pd.concat([results, normalized_data]) #.dropna(axis=1, how=\"all\")])\n"
      ]
     },
     "metadata": {},
     "output_type": "display_data"
    },
    {
     "data": {
      "text/html": [
       "<pre style=\"white-space:pre;overflow-x:auto;line-height:normal;font-family:Menlo,'DejaVu Sans Mono',consolas,'Courier New',monospace\">/var/folders/7t/k8q3439j6z3c683j7w00wtm80000gn/T/ipykernel_58430/330735155.py:26: FutureWarning: The behavior of \n",
       "DataFrame concatenation with empty or all-NA entries is deprecated. In a future version, this will no longer \n",
       "exclude empty or all-NA columns when determining the result dtypes. To retain the old behavior, exclude the \n",
       "relevant entries before the concat operation.\n",
       "  results = pd.concat([results, normalized_data]) #.dropna(axis=1, how=\"all\")])\n",
       "</pre>\n"
      ],
      "text/plain": [
       "/var/folders/7t/k8q3439j6z3c683j7w00wtm80000gn/T/ipykernel_58430/330735155.py:26: FutureWarning: The behavior of \n",
       "DataFrame concatenation with empty or all-NA entries is deprecated. In a future version, this will no longer \n",
       "exclude empty or all-NA columns when determining the result dtypes. To retain the old behavior, exclude the \n",
       "relevant entries before the concat operation.\n",
       "  results = pd.concat([results, normalized_data]) #.dropna(axis=1, how=\"all\")])\n"
      ]
     },
     "metadata": {},
     "output_type": "display_data"
    },
    {
     "data": {
      "text/html": [
       "<pre style=\"white-space:pre;overflow-x:auto;line-height:normal;font-family:Menlo,'DejaVu Sans Mono',consolas,'Courier New',monospace\">/var/folders/7t/k8q3439j6z3c683j7w00wtm80000gn/T/ipykernel_58430/330735155.py:26: FutureWarning: The behavior of \n",
       "DataFrame concatenation with empty or all-NA entries is deprecated. In a future version, this will no longer \n",
       "exclude empty or all-NA columns when determining the result dtypes. To retain the old behavior, exclude the \n",
       "relevant entries before the concat operation.\n",
       "  results = pd.concat([results, normalized_data]) #.dropna(axis=1, how=\"all\")])\n",
       "</pre>\n"
      ],
      "text/plain": [
       "/var/folders/7t/k8q3439j6z3c683j7w00wtm80000gn/T/ipykernel_58430/330735155.py:26: FutureWarning: The behavior of \n",
       "DataFrame concatenation with empty or all-NA entries is deprecated. In a future version, this will no longer \n",
       "exclude empty or all-NA columns when determining the result dtypes. To retain the old behavior, exclude the \n",
       "relevant entries before the concat operation.\n",
       "  results = pd.concat([results, normalized_data]) #.dropna(axis=1, how=\"all\")])\n"
      ]
     },
     "metadata": {},
     "output_type": "display_data"
    },
    {
     "data": {
      "text/html": [
       "<pre style=\"white-space:pre;overflow-x:auto;line-height:normal;font-family:Menlo,'DejaVu Sans Mono',consolas,'Courier New',monospace\">/var/folders/7t/k8q3439j6z3c683j7w00wtm80000gn/T/ipykernel_58430/330735155.py:26: FutureWarning: The behavior of \n",
       "DataFrame concatenation with empty or all-NA entries is deprecated. In a future version, this will no longer \n",
       "exclude empty or all-NA columns when determining the result dtypes. To retain the old behavior, exclude the \n",
       "relevant entries before the concat operation.\n",
       "  results = pd.concat([results, normalized_data]) #.dropna(axis=1, how=\"all\")])\n",
       "</pre>\n"
      ],
      "text/plain": [
       "/var/folders/7t/k8q3439j6z3c683j7w00wtm80000gn/T/ipykernel_58430/330735155.py:26: FutureWarning: The behavior of \n",
       "DataFrame concatenation with empty or all-NA entries is deprecated. In a future version, this will no longer \n",
       "exclude empty or all-NA columns when determining the result dtypes. To retain the old behavior, exclude the \n",
       "relevant entries before the concat operation.\n",
       "  results = pd.concat([results, normalized_data]) #.dropna(axis=1, how=\"all\")])\n"
      ]
     },
     "metadata": {},
     "output_type": "display_data"
    },
    {
     "data": {
      "text/html": [
       "<pre style=\"white-space:pre;overflow-x:auto;line-height:normal;font-family:Menlo,'DejaVu Sans Mono',consolas,'Courier New',monospace\">/var/folders/7t/k8q3439j6z3c683j7w00wtm80000gn/T/ipykernel_58430/330735155.py:26: FutureWarning: The behavior of \n",
       "DataFrame concatenation with empty or all-NA entries is deprecated. In a future version, this will no longer \n",
       "exclude empty or all-NA columns when determining the result dtypes. To retain the old behavior, exclude the \n",
       "relevant entries before the concat operation.\n",
       "  results = pd.concat([results, normalized_data]) #.dropna(axis=1, how=\"all\")])\n",
       "</pre>\n"
      ],
      "text/plain": [
       "/var/folders/7t/k8q3439j6z3c683j7w00wtm80000gn/T/ipykernel_58430/330735155.py:26: FutureWarning: The behavior of \n",
       "DataFrame concatenation with empty or all-NA entries is deprecated. In a future version, this will no longer \n",
       "exclude empty or all-NA columns when determining the result dtypes. To retain the old behavior, exclude the \n",
       "relevant entries before the concat operation.\n",
       "  results = pd.concat([results, normalized_data]) #.dropna(axis=1, how=\"all\")])\n"
      ]
     },
     "metadata": {},
     "output_type": "display_data"
    },
    {
     "data": {
      "text/html": [
       "<pre style=\"white-space:pre;overflow-x:auto;line-height:normal;font-family:Menlo,'DejaVu Sans Mono',consolas,'Courier New',monospace\">/var/folders/7t/k8q3439j6z3c683j7w00wtm80000gn/T/ipykernel_58430/330735155.py:26: FutureWarning: The behavior of \n",
       "DataFrame concatenation with empty or all-NA entries is deprecated. In a future version, this will no longer \n",
       "exclude empty or all-NA columns when determining the result dtypes. To retain the old behavior, exclude the \n",
       "relevant entries before the concat operation.\n",
       "  results = pd.concat([results, normalized_data]) #.dropna(axis=1, how=\"all\")])\n",
       "</pre>\n"
      ],
      "text/plain": [
       "/var/folders/7t/k8q3439j6z3c683j7w00wtm80000gn/T/ipykernel_58430/330735155.py:26: FutureWarning: The behavior of \n",
       "DataFrame concatenation with empty or all-NA entries is deprecated. In a future version, this will no longer \n",
       "exclude empty or all-NA columns when determining the result dtypes. To retain the old behavior, exclude the \n",
       "relevant entries before the concat operation.\n",
       "  results = pd.concat([results, normalized_data]) #.dropna(axis=1, how=\"all\")])\n"
      ]
     },
     "metadata": {},
     "output_type": "display_data"
    },
    {
     "data": {
      "text/html": [
       "<pre style=\"white-space:pre;overflow-x:auto;line-height:normal;font-family:Menlo,'DejaVu Sans Mono',consolas,'Courier New',monospace\">/var/folders/7t/k8q3439j6z3c683j7w00wtm80000gn/T/ipykernel_58430/330735155.py:26: FutureWarning: The behavior of \n",
       "DataFrame concatenation with empty or all-NA entries is deprecated. In a future version, this will no longer \n",
       "exclude empty or all-NA columns when determining the result dtypes. To retain the old behavior, exclude the \n",
       "relevant entries before the concat operation.\n",
       "  results = pd.concat([results, normalized_data]) #.dropna(axis=1, how=\"all\")])\n",
       "</pre>\n"
      ],
      "text/plain": [
       "/var/folders/7t/k8q3439j6z3c683j7w00wtm80000gn/T/ipykernel_58430/330735155.py:26: FutureWarning: The behavior of \n",
       "DataFrame concatenation with empty or all-NA entries is deprecated. In a future version, this will no longer \n",
       "exclude empty or all-NA columns when determining the result dtypes. To retain the old behavior, exclude the \n",
       "relevant entries before the concat operation.\n",
       "  results = pd.concat([results, normalized_data]) #.dropna(axis=1, how=\"all\")])\n"
      ]
     },
     "metadata": {},
     "output_type": "display_data"
    },
    {
     "data": {
      "text/html": [
       "<pre style=\"white-space:pre;overflow-x:auto;line-height:normal;font-family:Menlo,'DejaVu Sans Mono',consolas,'Courier New',monospace\">/var/folders/7t/k8q3439j6z3c683j7w00wtm80000gn/T/ipykernel_58430/330735155.py:26: FutureWarning: The behavior of \n",
       "DataFrame concatenation with empty or all-NA entries is deprecated. In a future version, this will no longer \n",
       "exclude empty or all-NA columns when determining the result dtypes. To retain the old behavior, exclude the \n",
       "relevant entries before the concat operation.\n",
       "  results = pd.concat([results, normalized_data]) #.dropna(axis=1, how=\"all\")])\n",
       "</pre>\n"
      ],
      "text/plain": [
       "/var/folders/7t/k8q3439j6z3c683j7w00wtm80000gn/T/ipykernel_58430/330735155.py:26: FutureWarning: The behavior of \n",
       "DataFrame concatenation with empty or all-NA entries is deprecated. In a future version, this will no longer \n",
       "exclude empty or all-NA columns when determining the result dtypes. To retain the old behavior, exclude the \n",
       "relevant entries before the concat operation.\n",
       "  results = pd.concat([results, normalized_data]) #.dropna(axis=1, how=\"all\")])\n"
      ]
     },
     "metadata": {},
     "output_type": "display_data"
    },
    {
     "data": {
      "text/html": [
       "<pre style=\"white-space:pre;overflow-x:auto;line-height:normal;font-family:Menlo,'DejaVu Sans Mono',consolas,'Courier New',monospace\">/var/folders/7t/k8q3439j6z3c683j7w00wtm80000gn/T/ipykernel_58430/330735155.py:26: FutureWarning: The behavior of \n",
       "DataFrame concatenation with empty or all-NA entries is deprecated. In a future version, this will no longer \n",
       "exclude empty or all-NA columns when determining the result dtypes. To retain the old behavior, exclude the \n",
       "relevant entries before the concat operation.\n",
       "  results = pd.concat([results, normalized_data]) #.dropna(axis=1, how=\"all\")])\n",
       "</pre>\n"
      ],
      "text/plain": [
       "/var/folders/7t/k8q3439j6z3c683j7w00wtm80000gn/T/ipykernel_58430/330735155.py:26: FutureWarning: The behavior of \n",
       "DataFrame concatenation with empty or all-NA entries is deprecated. In a future version, this will no longer \n",
       "exclude empty or all-NA columns when determining the result dtypes. To retain the old behavior, exclude the \n",
       "relevant entries before the concat operation.\n",
       "  results = pd.concat([results, normalized_data]) #.dropna(axis=1, how=\"all\")])\n"
      ]
     },
     "metadata": {},
     "output_type": "display_data"
    },
    {
     "data": {
      "text/html": [
       "<pre style=\"white-space:pre;overflow-x:auto;line-height:normal;font-family:Menlo,'DejaVu Sans Mono',consolas,'Courier New',monospace\">/var/folders/7t/k8q3439j6z3c683j7w00wtm80000gn/T/ipykernel_58430/330735155.py:26: FutureWarning: The behavior of \n",
       "DataFrame concatenation with empty or all-NA entries is deprecated. In a future version, this will no longer \n",
       "exclude empty or all-NA columns when determining the result dtypes. To retain the old behavior, exclude the \n",
       "relevant entries before the concat operation.\n",
       "  results = pd.concat([results, normalized_data]) #.dropna(axis=1, how=\"all\")])\n",
       "</pre>\n"
      ],
      "text/plain": [
       "/var/folders/7t/k8q3439j6z3c683j7w00wtm80000gn/T/ipykernel_58430/330735155.py:26: FutureWarning: The behavior of \n",
       "DataFrame concatenation with empty or all-NA entries is deprecated. In a future version, this will no longer \n",
       "exclude empty or all-NA columns when determining the result dtypes. To retain the old behavior, exclude the \n",
       "relevant entries before the concat operation.\n",
       "  results = pd.concat([results, normalized_data]) #.dropna(axis=1, how=\"all\")])\n"
      ]
     },
     "metadata": {},
     "output_type": "display_data"
    },
    {
     "data": {
      "text/html": [
       "<pre style=\"white-space:pre;overflow-x:auto;line-height:normal;font-family:Menlo,'DejaVu Sans Mono',consolas,'Courier New',monospace\">/var/folders/7t/k8q3439j6z3c683j7w00wtm80000gn/T/ipykernel_58430/330735155.py:26: FutureWarning: The behavior of \n",
       "DataFrame concatenation with empty or all-NA entries is deprecated. In a future version, this will no longer \n",
       "exclude empty or all-NA columns when determining the result dtypes. To retain the old behavior, exclude the \n",
       "relevant entries before the concat operation.\n",
       "  results = pd.concat([results, normalized_data]) #.dropna(axis=1, how=\"all\")])\n",
       "</pre>\n"
      ],
      "text/plain": [
       "/var/folders/7t/k8q3439j6z3c683j7w00wtm80000gn/T/ipykernel_58430/330735155.py:26: FutureWarning: The behavior of \n",
       "DataFrame concatenation with empty or all-NA entries is deprecated. In a future version, this will no longer \n",
       "exclude empty or all-NA columns when determining the result dtypes. To retain the old behavior, exclude the \n",
       "relevant entries before the concat operation.\n",
       "  results = pd.concat([results, normalized_data]) #.dropna(axis=1, how=\"all\")])\n"
      ]
     },
     "metadata": {},
     "output_type": "display_data"
    },
    {
     "data": {
      "text/html": [
       "<pre style=\"white-space:pre;overflow-x:auto;line-height:normal;font-family:Menlo,'DejaVu Sans Mono',consolas,'Courier New',monospace\">/var/folders/7t/k8q3439j6z3c683j7w00wtm80000gn/T/ipykernel_58430/330735155.py:26: FutureWarning: The behavior of \n",
       "DataFrame concatenation with empty or all-NA entries is deprecated. In a future version, this will no longer \n",
       "exclude empty or all-NA columns when determining the result dtypes. To retain the old behavior, exclude the \n",
       "relevant entries before the concat operation.\n",
       "  results = pd.concat([results, normalized_data]) #.dropna(axis=1, how=\"all\")])\n",
       "</pre>\n"
      ],
      "text/plain": [
       "/var/folders/7t/k8q3439j6z3c683j7w00wtm80000gn/T/ipykernel_58430/330735155.py:26: FutureWarning: The behavior of \n",
       "DataFrame concatenation with empty or all-NA entries is deprecated. In a future version, this will no longer \n",
       "exclude empty or all-NA columns when determining the result dtypes. To retain the old behavior, exclude the \n",
       "relevant entries before the concat operation.\n",
       "  results = pd.concat([results, normalized_data]) #.dropna(axis=1, how=\"all\")])\n"
      ]
     },
     "metadata": {},
     "output_type": "display_data"
    },
    {
     "data": {
      "text/html": [
       "<pre style=\"white-space:pre;overflow-x:auto;line-height:normal;font-family:Menlo,'DejaVu Sans Mono',consolas,'Courier New',monospace\">/var/folders/7t/k8q3439j6z3c683j7w00wtm80000gn/T/ipykernel_58430/330735155.py:26: FutureWarning: The behavior of \n",
       "DataFrame concatenation with empty or all-NA entries is deprecated. In a future version, this will no longer \n",
       "exclude empty or all-NA columns when determining the result dtypes. To retain the old behavior, exclude the \n",
       "relevant entries before the concat operation.\n",
       "  results = pd.concat([results, normalized_data]) #.dropna(axis=1, how=\"all\")])\n",
       "</pre>\n"
      ],
      "text/plain": [
       "/var/folders/7t/k8q3439j6z3c683j7w00wtm80000gn/T/ipykernel_58430/330735155.py:26: FutureWarning: The behavior of \n",
       "DataFrame concatenation with empty or all-NA entries is deprecated. In a future version, this will no longer \n",
       "exclude empty or all-NA columns when determining the result dtypes. To retain the old behavior, exclude the \n",
       "relevant entries before the concat operation.\n",
       "  results = pd.concat([results, normalized_data]) #.dropna(axis=1, how=\"all\")])\n"
      ]
     },
     "metadata": {},
     "output_type": "display_data"
    },
    {
     "data": {
      "text/html": [
       "<pre style=\"white-space:pre;overflow-x:auto;line-height:normal;font-family:Menlo,'DejaVu Sans Mono',consolas,'Courier New',monospace\">/var/folders/7t/k8q3439j6z3c683j7w00wtm80000gn/T/ipykernel_58430/330735155.py:26: FutureWarning: The behavior of \n",
       "DataFrame concatenation with empty or all-NA entries is deprecated. In a future version, this will no longer \n",
       "exclude empty or all-NA columns when determining the result dtypes. To retain the old behavior, exclude the \n",
       "relevant entries before the concat operation.\n",
       "  results = pd.concat([results, normalized_data]) #.dropna(axis=1, how=\"all\")])\n",
       "</pre>\n"
      ],
      "text/plain": [
       "/var/folders/7t/k8q3439j6z3c683j7w00wtm80000gn/T/ipykernel_58430/330735155.py:26: FutureWarning: The behavior of \n",
       "DataFrame concatenation with empty or all-NA entries is deprecated. In a future version, this will no longer \n",
       "exclude empty or all-NA columns when determining the result dtypes. To retain the old behavior, exclude the \n",
       "relevant entries before the concat operation.\n",
       "  results = pd.concat([results, normalized_data]) #.dropna(axis=1, how=\"all\")])\n"
      ]
     },
     "metadata": {},
     "output_type": "display_data"
    },
    {
     "data": {
      "text/html": [
       "<pre style=\"white-space:pre;overflow-x:auto;line-height:normal;font-family:Menlo,'DejaVu Sans Mono',consolas,'Courier New',monospace\">/var/folders/7t/k8q3439j6z3c683j7w00wtm80000gn/T/ipykernel_58430/330735155.py:26: FutureWarning: The behavior of \n",
       "DataFrame concatenation with empty or all-NA entries is deprecated. In a future version, this will no longer \n",
       "exclude empty or all-NA columns when determining the result dtypes. To retain the old behavior, exclude the \n",
       "relevant entries before the concat operation.\n",
       "  results = pd.concat([results, normalized_data]) #.dropna(axis=1, how=\"all\")])\n",
       "</pre>\n"
      ],
      "text/plain": [
       "/var/folders/7t/k8q3439j6z3c683j7w00wtm80000gn/T/ipykernel_58430/330735155.py:26: FutureWarning: The behavior of \n",
       "DataFrame concatenation with empty or all-NA entries is deprecated. In a future version, this will no longer \n",
       "exclude empty or all-NA columns when determining the result dtypes. To retain the old behavior, exclude the \n",
       "relevant entries before the concat operation.\n",
       "  results = pd.concat([results, normalized_data]) #.dropna(axis=1, how=\"all\")])\n"
      ]
     },
     "metadata": {},
     "output_type": "display_data"
    },
    {
     "data": {
      "text/html": [
       "<pre style=\"white-space:pre;overflow-x:auto;line-height:normal;font-family:Menlo,'DejaVu Sans Mono',consolas,'Courier New',monospace\">/var/folders/7t/k8q3439j6z3c683j7w00wtm80000gn/T/ipykernel_58430/330735155.py:26: FutureWarning: The behavior of \n",
       "DataFrame concatenation with empty or all-NA entries is deprecated. In a future version, this will no longer \n",
       "exclude empty or all-NA columns when determining the result dtypes. To retain the old behavior, exclude the \n",
       "relevant entries before the concat operation.\n",
       "  results = pd.concat([results, normalized_data]) #.dropna(axis=1, how=\"all\")])\n",
       "</pre>\n"
      ],
      "text/plain": [
       "/var/folders/7t/k8q3439j6z3c683j7w00wtm80000gn/T/ipykernel_58430/330735155.py:26: FutureWarning: The behavior of \n",
       "DataFrame concatenation with empty or all-NA entries is deprecated. In a future version, this will no longer \n",
       "exclude empty or all-NA columns when determining the result dtypes. To retain the old behavior, exclude the \n",
       "relevant entries before the concat operation.\n",
       "  results = pd.concat([results, normalized_data]) #.dropna(axis=1, how=\"all\")])\n"
      ]
     },
     "metadata": {},
     "output_type": "display_data"
    },
    {
     "data": {
      "text/html": [
       "<pre style=\"white-space:pre;overflow-x:auto;line-height:normal;font-family:Menlo,'DejaVu Sans Mono',consolas,'Courier New',monospace\">/var/folders/7t/k8q3439j6z3c683j7w00wtm80000gn/T/ipykernel_58430/330735155.py:26: FutureWarning: The behavior of \n",
       "DataFrame concatenation with empty or all-NA entries is deprecated. In a future version, this will no longer \n",
       "exclude empty or all-NA columns when determining the result dtypes. To retain the old behavior, exclude the \n",
       "relevant entries before the concat operation.\n",
       "  results = pd.concat([results, normalized_data]) #.dropna(axis=1, how=\"all\")])\n",
       "</pre>\n"
      ],
      "text/plain": [
       "/var/folders/7t/k8q3439j6z3c683j7w00wtm80000gn/T/ipykernel_58430/330735155.py:26: FutureWarning: The behavior of \n",
       "DataFrame concatenation with empty or all-NA entries is deprecated. In a future version, this will no longer \n",
       "exclude empty or all-NA columns when determining the result dtypes. To retain the old behavior, exclude the \n",
       "relevant entries before the concat operation.\n",
       "  results = pd.concat([results, normalized_data]) #.dropna(axis=1, how=\"all\")])\n"
      ]
     },
     "metadata": {},
     "output_type": "display_data"
    },
    {
     "data": {
      "text/html": [
       "<pre style=\"white-space:pre;overflow-x:auto;line-height:normal;font-family:Menlo,'DejaVu Sans Mono',consolas,'Courier New',monospace\">/var/folders/7t/k8q3439j6z3c683j7w00wtm80000gn/T/ipykernel_58430/330735155.py:26: FutureWarning: The behavior of \n",
       "DataFrame concatenation with empty or all-NA entries is deprecated. In a future version, this will no longer \n",
       "exclude empty or all-NA columns when determining the result dtypes. To retain the old behavior, exclude the \n",
       "relevant entries before the concat operation.\n",
       "  results = pd.concat([results, normalized_data]) #.dropna(axis=1, how=\"all\")])\n",
       "</pre>\n"
      ],
      "text/plain": [
       "/var/folders/7t/k8q3439j6z3c683j7w00wtm80000gn/T/ipykernel_58430/330735155.py:26: FutureWarning: The behavior of \n",
       "DataFrame concatenation with empty or all-NA entries is deprecated. In a future version, this will no longer \n",
       "exclude empty or all-NA columns when determining the result dtypes. To retain the old behavior, exclude the \n",
       "relevant entries before the concat operation.\n",
       "  results = pd.concat([results, normalized_data]) #.dropna(axis=1, how=\"all\")])\n"
      ]
     },
     "metadata": {},
     "output_type": "display_data"
    },
    {
     "data": {
      "text/html": [
       "<pre style=\"white-space:pre;overflow-x:auto;line-height:normal;font-family:Menlo,'DejaVu Sans Mono',consolas,'Courier New',monospace\">/var/folders/7t/k8q3439j6z3c683j7w00wtm80000gn/T/ipykernel_58430/330735155.py:26: FutureWarning: The behavior of \n",
       "DataFrame concatenation with empty or all-NA entries is deprecated. In a future version, this will no longer \n",
       "exclude empty or all-NA columns when determining the result dtypes. To retain the old behavior, exclude the \n",
       "relevant entries before the concat operation.\n",
       "  results = pd.concat([results, normalized_data]) #.dropna(axis=1, how=\"all\")])\n",
       "</pre>\n"
      ],
      "text/plain": [
       "/var/folders/7t/k8q3439j6z3c683j7w00wtm80000gn/T/ipykernel_58430/330735155.py:26: FutureWarning: The behavior of \n",
       "DataFrame concatenation with empty or all-NA entries is deprecated. In a future version, this will no longer \n",
       "exclude empty or all-NA columns when determining the result dtypes. To retain the old behavior, exclude the \n",
       "relevant entries before the concat operation.\n",
       "  results = pd.concat([results, normalized_data]) #.dropna(axis=1, how=\"all\")])\n"
      ]
     },
     "metadata": {},
     "output_type": "display_data"
    },
    {
     "data": {
      "text/html": [
       "<pre style=\"white-space:pre;overflow-x:auto;line-height:normal;font-family:Menlo,'DejaVu Sans Mono',consolas,'Courier New',monospace\">/var/folders/7t/k8q3439j6z3c683j7w00wtm80000gn/T/ipykernel_58430/330735155.py:26: FutureWarning: The behavior of \n",
       "DataFrame concatenation with empty or all-NA entries is deprecated. In a future version, this will no longer \n",
       "exclude empty or all-NA columns when determining the result dtypes. To retain the old behavior, exclude the \n",
       "relevant entries before the concat operation.\n",
       "  results = pd.concat([results, normalized_data]) #.dropna(axis=1, how=\"all\")])\n",
       "</pre>\n"
      ],
      "text/plain": [
       "/var/folders/7t/k8q3439j6z3c683j7w00wtm80000gn/T/ipykernel_58430/330735155.py:26: FutureWarning: The behavior of \n",
       "DataFrame concatenation with empty or all-NA entries is deprecated. In a future version, this will no longer \n",
       "exclude empty or all-NA columns when determining the result dtypes. To retain the old behavior, exclude the \n",
       "relevant entries before the concat operation.\n",
       "  results = pd.concat([results, normalized_data]) #.dropna(axis=1, how=\"all\")])\n"
      ]
     },
     "metadata": {},
     "output_type": "display_data"
    },
    {
     "data": {
      "text/html": [
       "<pre style=\"white-space:pre;overflow-x:auto;line-height:normal;font-family:Menlo,'DejaVu Sans Mono',consolas,'Courier New',monospace\">/var/folders/7t/k8q3439j6z3c683j7w00wtm80000gn/T/ipykernel_58430/330735155.py:26: FutureWarning: The behavior of \n",
       "DataFrame concatenation with empty or all-NA entries is deprecated. In a future version, this will no longer \n",
       "exclude empty or all-NA columns when determining the result dtypes. To retain the old behavior, exclude the \n",
       "relevant entries before the concat operation.\n",
       "  results = pd.concat([results, normalized_data]) #.dropna(axis=1, how=\"all\")])\n",
       "</pre>\n"
      ],
      "text/plain": [
       "/var/folders/7t/k8q3439j6z3c683j7w00wtm80000gn/T/ipykernel_58430/330735155.py:26: FutureWarning: The behavior of \n",
       "DataFrame concatenation with empty or all-NA entries is deprecated. In a future version, this will no longer \n",
       "exclude empty or all-NA columns when determining the result dtypes. To retain the old behavior, exclude the \n",
       "relevant entries before the concat operation.\n",
       "  results = pd.concat([results, normalized_data]) #.dropna(axis=1, how=\"all\")])\n"
      ]
     },
     "metadata": {},
     "output_type": "display_data"
    },
    {
     "data": {
      "text/html": [
       "<pre style=\"white-space:pre;overflow-x:auto;line-height:normal;font-family:Menlo,'DejaVu Sans Mono',consolas,'Courier New',monospace\">/var/folders/7t/k8q3439j6z3c683j7w00wtm80000gn/T/ipykernel_58430/330735155.py:26: FutureWarning: The behavior of \n",
       "DataFrame concatenation with empty or all-NA entries is deprecated. In a future version, this will no longer \n",
       "exclude empty or all-NA columns when determining the result dtypes. To retain the old behavior, exclude the \n",
       "relevant entries before the concat operation.\n",
       "  results = pd.concat([results, normalized_data]) #.dropna(axis=1, how=\"all\")])\n",
       "</pre>\n"
      ],
      "text/plain": [
       "/var/folders/7t/k8q3439j6z3c683j7w00wtm80000gn/T/ipykernel_58430/330735155.py:26: FutureWarning: The behavior of \n",
       "DataFrame concatenation with empty or all-NA entries is deprecated. In a future version, this will no longer \n",
       "exclude empty or all-NA columns when determining the result dtypes. To retain the old behavior, exclude the \n",
       "relevant entries before the concat operation.\n",
       "  results = pd.concat([results, normalized_data]) #.dropna(axis=1, how=\"all\")])\n"
      ]
     },
     "metadata": {},
     "output_type": "display_data"
    },
    {
     "data": {
      "text/html": [
       "<pre style=\"white-space:pre;overflow-x:auto;line-height:normal;font-family:Menlo,'DejaVu Sans Mono',consolas,'Courier New',monospace\">/var/folders/7t/k8q3439j6z3c683j7w00wtm80000gn/T/ipykernel_58430/330735155.py:26: FutureWarning: The behavior of \n",
       "DataFrame concatenation with empty or all-NA entries is deprecated. In a future version, this will no longer \n",
       "exclude empty or all-NA columns when determining the result dtypes. To retain the old behavior, exclude the \n",
       "relevant entries before the concat operation.\n",
       "  results = pd.concat([results, normalized_data]) #.dropna(axis=1, how=\"all\")])\n",
       "</pre>\n"
      ],
      "text/plain": [
       "/var/folders/7t/k8q3439j6z3c683j7w00wtm80000gn/T/ipykernel_58430/330735155.py:26: FutureWarning: The behavior of \n",
       "DataFrame concatenation with empty or all-NA entries is deprecated. In a future version, this will no longer \n",
       "exclude empty or all-NA columns when determining the result dtypes. To retain the old behavior, exclude the \n",
       "relevant entries before the concat operation.\n",
       "  results = pd.concat([results, normalized_data]) #.dropna(axis=1, how=\"all\")])\n"
      ]
     },
     "metadata": {},
     "output_type": "display_data"
    },
    {
     "data": {
      "text/html": [
       "<pre style=\"white-space:pre;overflow-x:auto;line-height:normal;font-family:Menlo,'DejaVu Sans Mono',consolas,'Courier New',monospace\">/var/folders/7t/k8q3439j6z3c683j7w00wtm80000gn/T/ipykernel_58430/330735155.py:26: FutureWarning: The behavior of \n",
       "DataFrame concatenation with empty or all-NA entries is deprecated. In a future version, this will no longer \n",
       "exclude empty or all-NA columns when determining the result dtypes. To retain the old behavior, exclude the \n",
       "relevant entries before the concat operation.\n",
       "  results = pd.concat([results, normalized_data]) #.dropna(axis=1, how=\"all\")])\n",
       "</pre>\n"
      ],
      "text/plain": [
       "/var/folders/7t/k8q3439j6z3c683j7w00wtm80000gn/T/ipykernel_58430/330735155.py:26: FutureWarning: The behavior of \n",
       "DataFrame concatenation with empty or all-NA entries is deprecated. In a future version, this will no longer \n",
       "exclude empty or all-NA columns when determining the result dtypes. To retain the old behavior, exclude the \n",
       "relevant entries before the concat operation.\n",
       "  results = pd.concat([results, normalized_data]) #.dropna(axis=1, how=\"all\")])\n"
      ]
     },
     "metadata": {},
     "output_type": "display_data"
    },
    {
     "data": {
      "text/html": [
       "<pre style=\"white-space:pre;overflow-x:auto;line-height:normal;font-family:Menlo,'DejaVu Sans Mono',consolas,'Courier New',monospace\">/var/folders/7t/k8q3439j6z3c683j7w00wtm80000gn/T/ipykernel_58430/330735155.py:26: FutureWarning: The behavior of \n",
       "DataFrame concatenation with empty or all-NA entries is deprecated. In a future version, this will no longer \n",
       "exclude empty or all-NA columns when determining the result dtypes. To retain the old behavior, exclude the \n",
       "relevant entries before the concat operation.\n",
       "  results = pd.concat([results, normalized_data]) #.dropna(axis=1, how=\"all\")])\n",
       "</pre>\n"
      ],
      "text/plain": [
       "/var/folders/7t/k8q3439j6z3c683j7w00wtm80000gn/T/ipykernel_58430/330735155.py:26: FutureWarning: The behavior of \n",
       "DataFrame concatenation with empty or all-NA entries is deprecated. In a future version, this will no longer \n",
       "exclude empty or all-NA columns when determining the result dtypes. To retain the old behavior, exclude the \n",
       "relevant entries before the concat operation.\n",
       "  results = pd.concat([results, normalized_data]) #.dropna(axis=1, how=\"all\")])\n"
      ]
     },
     "metadata": {},
     "output_type": "display_data"
    },
    {
     "data": {
      "text/html": [
       "<pre style=\"white-space:pre;overflow-x:auto;line-height:normal;font-family:Menlo,'DejaVu Sans Mono',consolas,'Courier New',monospace\">/var/folders/7t/k8q3439j6z3c683j7w00wtm80000gn/T/ipykernel_58430/330735155.py:26: FutureWarning: The behavior of \n",
       "DataFrame concatenation with empty or all-NA entries is deprecated. In a future version, this will no longer \n",
       "exclude empty or all-NA columns when determining the result dtypes. To retain the old behavior, exclude the \n",
       "relevant entries before the concat operation.\n",
       "  results = pd.concat([results, normalized_data]) #.dropna(axis=1, how=\"all\")])\n",
       "</pre>\n"
      ],
      "text/plain": [
       "/var/folders/7t/k8q3439j6z3c683j7w00wtm80000gn/T/ipykernel_58430/330735155.py:26: FutureWarning: The behavior of \n",
       "DataFrame concatenation with empty or all-NA entries is deprecated. In a future version, this will no longer \n",
       "exclude empty or all-NA columns when determining the result dtypes. To retain the old behavior, exclude the \n",
       "relevant entries before the concat operation.\n",
       "  results = pd.concat([results, normalized_data]) #.dropna(axis=1, how=\"all\")])\n"
      ]
     },
     "metadata": {},
     "output_type": "display_data"
    },
    {
     "data": {
      "text/html": [
       "<pre style=\"white-space:pre;overflow-x:auto;line-height:normal;font-family:Menlo,'DejaVu Sans Mono',consolas,'Courier New',monospace\">/var/folders/7t/k8q3439j6z3c683j7w00wtm80000gn/T/ipykernel_58430/330735155.py:26: FutureWarning: The behavior of \n",
       "DataFrame concatenation with empty or all-NA entries is deprecated. In a future version, this will no longer \n",
       "exclude empty or all-NA columns when determining the result dtypes. To retain the old behavior, exclude the \n",
       "relevant entries before the concat operation.\n",
       "  results = pd.concat([results, normalized_data]) #.dropna(axis=1, how=\"all\")])\n",
       "</pre>\n"
      ],
      "text/plain": [
       "/var/folders/7t/k8q3439j6z3c683j7w00wtm80000gn/T/ipykernel_58430/330735155.py:26: FutureWarning: The behavior of \n",
       "DataFrame concatenation with empty or all-NA entries is deprecated. In a future version, this will no longer \n",
       "exclude empty or all-NA columns when determining the result dtypes. To retain the old behavior, exclude the \n",
       "relevant entries before the concat operation.\n",
       "  results = pd.concat([results, normalized_data]) #.dropna(axis=1, how=\"all\")])\n"
      ]
     },
     "metadata": {},
     "output_type": "display_data"
    },
    {
     "data": {
      "text/html": [
       "<pre style=\"white-space:pre;overflow-x:auto;line-height:normal;font-family:Menlo,'DejaVu Sans Mono',consolas,'Courier New',monospace\">/var/folders/7t/k8q3439j6z3c683j7w00wtm80000gn/T/ipykernel_58430/330735155.py:26: FutureWarning: The behavior of \n",
       "DataFrame concatenation with empty or all-NA entries is deprecated. In a future version, this will no longer \n",
       "exclude empty or all-NA columns when determining the result dtypes. To retain the old behavior, exclude the \n",
       "relevant entries before the concat operation.\n",
       "  results = pd.concat([results, normalized_data]) #.dropna(axis=1, how=\"all\")])\n",
       "</pre>\n"
      ],
      "text/plain": [
       "/var/folders/7t/k8q3439j6z3c683j7w00wtm80000gn/T/ipykernel_58430/330735155.py:26: FutureWarning: The behavior of \n",
       "DataFrame concatenation with empty or all-NA entries is deprecated. In a future version, this will no longer \n",
       "exclude empty or all-NA columns when determining the result dtypes. To retain the old behavior, exclude the \n",
       "relevant entries before the concat operation.\n",
       "  results = pd.concat([results, normalized_data]) #.dropna(axis=1, how=\"all\")])\n"
      ]
     },
     "metadata": {},
     "output_type": "display_data"
    },
    {
     "data": {
      "text/html": [
       "<pre style=\"white-space:pre;overflow-x:auto;line-height:normal;font-family:Menlo,'DejaVu Sans Mono',consolas,'Courier New',monospace\">/var/folders/7t/k8q3439j6z3c683j7w00wtm80000gn/T/ipykernel_58430/330735155.py:26: FutureWarning: The behavior of \n",
       "DataFrame concatenation with empty or all-NA entries is deprecated. In a future version, this will no longer \n",
       "exclude empty or all-NA columns when determining the result dtypes. To retain the old behavior, exclude the \n",
       "relevant entries before the concat operation.\n",
       "  results = pd.concat([results, normalized_data]) #.dropna(axis=1, how=\"all\")])\n",
       "</pre>\n"
      ],
      "text/plain": [
       "/var/folders/7t/k8q3439j6z3c683j7w00wtm80000gn/T/ipykernel_58430/330735155.py:26: FutureWarning: The behavior of \n",
       "DataFrame concatenation with empty or all-NA entries is deprecated. In a future version, this will no longer \n",
       "exclude empty or all-NA columns when determining the result dtypes. To retain the old behavior, exclude the \n",
       "relevant entries before the concat operation.\n",
       "  results = pd.concat([results, normalized_data]) #.dropna(axis=1, how=\"all\")])\n"
      ]
     },
     "metadata": {},
     "output_type": "display_data"
    },
    {
     "data": {
      "text/html": [
       "<pre style=\"white-space:pre;overflow-x:auto;line-height:normal;font-family:Menlo,'DejaVu Sans Mono',consolas,'Courier New',monospace\">/var/folders/7t/k8q3439j6z3c683j7w00wtm80000gn/T/ipykernel_58430/330735155.py:26: FutureWarning: The behavior of \n",
       "DataFrame concatenation with empty or all-NA entries is deprecated. In a future version, this will no longer \n",
       "exclude empty or all-NA columns when determining the result dtypes. To retain the old behavior, exclude the \n",
       "relevant entries before the concat operation.\n",
       "  results = pd.concat([results, normalized_data]) #.dropna(axis=1, how=\"all\")])\n",
       "</pre>\n"
      ],
      "text/plain": [
       "/var/folders/7t/k8q3439j6z3c683j7w00wtm80000gn/T/ipykernel_58430/330735155.py:26: FutureWarning: The behavior of \n",
       "DataFrame concatenation with empty or all-NA entries is deprecated. In a future version, this will no longer \n",
       "exclude empty or all-NA columns when determining the result dtypes. To retain the old behavior, exclude the \n",
       "relevant entries before the concat operation.\n",
       "  results = pd.concat([results, normalized_data]) #.dropna(axis=1, how=\"all\")])\n"
      ]
     },
     "metadata": {},
     "output_type": "display_data"
    },
    {
     "data": {
      "text/html": [
       "<pre style=\"white-space:pre;overflow-x:auto;line-height:normal;font-family:Menlo,'DejaVu Sans Mono',consolas,'Courier New',monospace\">/var/folders/7t/k8q3439j6z3c683j7w00wtm80000gn/T/ipykernel_58430/330735155.py:26: FutureWarning: The behavior of \n",
       "DataFrame concatenation with empty or all-NA entries is deprecated. In a future version, this will no longer \n",
       "exclude empty or all-NA columns when determining the result dtypes. To retain the old behavior, exclude the \n",
       "relevant entries before the concat operation.\n",
       "  results = pd.concat([results, normalized_data]) #.dropna(axis=1, how=\"all\")])\n",
       "</pre>\n"
      ],
      "text/plain": [
       "/var/folders/7t/k8q3439j6z3c683j7w00wtm80000gn/T/ipykernel_58430/330735155.py:26: FutureWarning: The behavior of \n",
       "DataFrame concatenation with empty or all-NA entries is deprecated. In a future version, this will no longer \n",
       "exclude empty or all-NA columns when determining the result dtypes. To retain the old behavior, exclude the \n",
       "relevant entries before the concat operation.\n",
       "  results = pd.concat([results, normalized_data]) #.dropna(axis=1, how=\"all\")])\n"
      ]
     },
     "metadata": {},
     "output_type": "display_data"
    },
    {
     "data": {
      "text/html": [
       "<pre style=\"white-space:pre;overflow-x:auto;line-height:normal;font-family:Menlo,'DejaVu Sans Mono',consolas,'Courier New',monospace\">/var/folders/7t/k8q3439j6z3c683j7w00wtm80000gn/T/ipykernel_58430/330735155.py:26: FutureWarning: The behavior of \n",
       "DataFrame concatenation with empty or all-NA entries is deprecated. In a future version, this will no longer \n",
       "exclude empty or all-NA columns when determining the result dtypes. To retain the old behavior, exclude the \n",
       "relevant entries before the concat operation.\n",
       "  results = pd.concat([results, normalized_data]) #.dropna(axis=1, how=\"all\")])\n",
       "</pre>\n"
      ],
      "text/plain": [
       "/var/folders/7t/k8q3439j6z3c683j7w00wtm80000gn/T/ipykernel_58430/330735155.py:26: FutureWarning: The behavior of \n",
       "DataFrame concatenation with empty or all-NA entries is deprecated. In a future version, this will no longer \n",
       "exclude empty or all-NA columns when determining the result dtypes. To retain the old behavior, exclude the \n",
       "relevant entries before the concat operation.\n",
       "  results = pd.concat([results, normalized_data]) #.dropna(axis=1, how=\"all\")])\n"
      ]
     },
     "metadata": {},
     "output_type": "display_data"
    },
    {
     "data": {
      "text/html": [
       "<pre style=\"white-space:pre;overflow-x:auto;line-height:normal;font-family:Menlo,'DejaVu Sans Mono',consolas,'Courier New',monospace\">/var/folders/7t/k8q3439j6z3c683j7w00wtm80000gn/T/ipykernel_58430/330735155.py:26: FutureWarning: The behavior of \n",
       "DataFrame concatenation with empty or all-NA entries is deprecated. In a future version, this will no longer \n",
       "exclude empty or all-NA columns when determining the result dtypes. To retain the old behavior, exclude the \n",
       "relevant entries before the concat operation.\n",
       "  results = pd.concat([results, normalized_data]) #.dropna(axis=1, how=\"all\")])\n",
       "</pre>\n"
      ],
      "text/plain": [
       "/var/folders/7t/k8q3439j6z3c683j7w00wtm80000gn/T/ipykernel_58430/330735155.py:26: FutureWarning: The behavior of \n",
       "DataFrame concatenation with empty or all-NA entries is deprecated. In a future version, this will no longer \n",
       "exclude empty or all-NA columns when determining the result dtypes. To retain the old behavior, exclude the \n",
       "relevant entries before the concat operation.\n",
       "  results = pd.concat([results, normalized_data]) #.dropna(axis=1, how=\"all\")])\n"
      ]
     },
     "metadata": {},
     "output_type": "display_data"
    },
    {
     "data": {
      "text/html": [
       "<pre style=\"white-space:pre;overflow-x:auto;line-height:normal;font-family:Menlo,'DejaVu Sans Mono',consolas,'Courier New',monospace\">/var/folders/7t/k8q3439j6z3c683j7w00wtm80000gn/T/ipykernel_58430/330735155.py:26: FutureWarning: The behavior of \n",
       "DataFrame concatenation with empty or all-NA entries is deprecated. In a future version, this will no longer \n",
       "exclude empty or all-NA columns when determining the result dtypes. To retain the old behavior, exclude the \n",
       "relevant entries before the concat operation.\n",
       "  results = pd.concat([results, normalized_data]) #.dropna(axis=1, how=\"all\")])\n",
       "</pre>\n"
      ],
      "text/plain": [
       "/var/folders/7t/k8q3439j6z3c683j7w00wtm80000gn/T/ipykernel_58430/330735155.py:26: FutureWarning: The behavior of \n",
       "DataFrame concatenation with empty or all-NA entries is deprecated. In a future version, this will no longer \n",
       "exclude empty or all-NA columns when determining the result dtypes. To retain the old behavior, exclude the \n",
       "relevant entries before the concat operation.\n",
       "  results = pd.concat([results, normalized_data]) #.dropna(axis=1, how=\"all\")])\n"
      ]
     },
     "metadata": {},
     "output_type": "display_data"
    },
    {
     "data": {
      "text/html": [
       "<pre style=\"white-space:pre;overflow-x:auto;line-height:normal;font-family:Menlo,'DejaVu Sans Mono',consolas,'Courier New',monospace\">/var/folders/7t/k8q3439j6z3c683j7w00wtm80000gn/T/ipykernel_58430/330735155.py:26: FutureWarning: The behavior of \n",
       "DataFrame concatenation with empty or all-NA entries is deprecated. In a future version, this will no longer \n",
       "exclude empty or all-NA columns when determining the result dtypes. To retain the old behavior, exclude the \n",
       "relevant entries before the concat operation.\n",
       "  results = pd.concat([results, normalized_data]) #.dropna(axis=1, how=\"all\")])\n",
       "</pre>\n"
      ],
      "text/plain": [
       "/var/folders/7t/k8q3439j6z3c683j7w00wtm80000gn/T/ipykernel_58430/330735155.py:26: FutureWarning: The behavior of \n",
       "DataFrame concatenation with empty or all-NA entries is deprecated. In a future version, this will no longer \n",
       "exclude empty or all-NA columns when determining the result dtypes. To retain the old behavior, exclude the \n",
       "relevant entries before the concat operation.\n",
       "  results = pd.concat([results, normalized_data]) #.dropna(axis=1, how=\"all\")])\n"
      ]
     },
     "metadata": {},
     "output_type": "display_data"
    },
    {
     "data": {
      "text/html": [
       "<pre style=\"white-space:pre;overflow-x:auto;line-height:normal;font-family:Menlo,'DejaVu Sans Mono',consolas,'Courier New',monospace\">/var/folders/7t/k8q3439j6z3c683j7w00wtm80000gn/T/ipykernel_58430/330735155.py:26: FutureWarning: The behavior of \n",
       "DataFrame concatenation with empty or all-NA entries is deprecated. In a future version, this will no longer \n",
       "exclude empty or all-NA columns when determining the result dtypes. To retain the old behavior, exclude the \n",
       "relevant entries before the concat operation.\n",
       "  results = pd.concat([results, normalized_data]) #.dropna(axis=1, how=\"all\")])\n",
       "</pre>\n"
      ],
      "text/plain": [
       "/var/folders/7t/k8q3439j6z3c683j7w00wtm80000gn/T/ipykernel_58430/330735155.py:26: FutureWarning: The behavior of \n",
       "DataFrame concatenation with empty or all-NA entries is deprecated. In a future version, this will no longer \n",
       "exclude empty or all-NA columns when determining the result dtypes. To retain the old behavior, exclude the \n",
       "relevant entries before the concat operation.\n",
       "  results = pd.concat([results, normalized_data]) #.dropna(axis=1, how=\"all\")])\n"
      ]
     },
     "metadata": {},
     "output_type": "display_data"
    },
    {
     "data": {
      "text/html": [
       "<pre style=\"white-space:pre;overflow-x:auto;line-height:normal;font-family:Menlo,'DejaVu Sans Mono',consolas,'Courier New',monospace\">/var/folders/7t/k8q3439j6z3c683j7w00wtm80000gn/T/ipykernel_58430/330735155.py:26: FutureWarning: The behavior of \n",
       "DataFrame concatenation with empty or all-NA entries is deprecated. In a future version, this will no longer \n",
       "exclude empty or all-NA columns when determining the result dtypes. To retain the old behavior, exclude the \n",
       "relevant entries before the concat operation.\n",
       "  results = pd.concat([results, normalized_data]) #.dropna(axis=1, how=\"all\")])\n",
       "</pre>\n"
      ],
      "text/plain": [
       "/var/folders/7t/k8q3439j6z3c683j7w00wtm80000gn/T/ipykernel_58430/330735155.py:26: FutureWarning: The behavior of \n",
       "DataFrame concatenation with empty or all-NA entries is deprecated. In a future version, this will no longer \n",
       "exclude empty or all-NA columns when determining the result dtypes. To retain the old behavior, exclude the \n",
       "relevant entries before the concat operation.\n",
       "  results = pd.concat([results, normalized_data]) #.dropna(axis=1, how=\"all\")])\n"
      ]
     },
     "metadata": {},
     "output_type": "display_data"
    },
    {
     "data": {
      "text/html": [
       "<pre style=\"white-space:pre;overflow-x:auto;line-height:normal;font-family:Menlo,'DejaVu Sans Mono',consolas,'Courier New',monospace\">/var/folders/7t/k8q3439j6z3c683j7w00wtm80000gn/T/ipykernel_58430/330735155.py:26: FutureWarning: The behavior of \n",
       "DataFrame concatenation with empty or all-NA entries is deprecated. In a future version, this will no longer \n",
       "exclude empty or all-NA columns when determining the result dtypes. To retain the old behavior, exclude the \n",
       "relevant entries before the concat operation.\n",
       "  results = pd.concat([results, normalized_data]) #.dropna(axis=1, how=\"all\")])\n",
       "</pre>\n"
      ],
      "text/plain": [
       "/var/folders/7t/k8q3439j6z3c683j7w00wtm80000gn/T/ipykernel_58430/330735155.py:26: FutureWarning: The behavior of \n",
       "DataFrame concatenation with empty or all-NA entries is deprecated. In a future version, this will no longer \n",
       "exclude empty or all-NA columns when determining the result dtypes. To retain the old behavior, exclude the \n",
       "relevant entries before the concat operation.\n",
       "  results = pd.concat([results, normalized_data]) #.dropna(axis=1, how=\"all\")])\n"
      ]
     },
     "metadata": {},
     "output_type": "display_data"
    },
    {
     "data": {
      "text/html": [
       "<pre style=\"white-space:pre;overflow-x:auto;line-height:normal;font-family:Menlo,'DejaVu Sans Mono',consolas,'Courier New',monospace\">/var/folders/7t/k8q3439j6z3c683j7w00wtm80000gn/T/ipykernel_58430/330735155.py:26: FutureWarning: The behavior of \n",
       "DataFrame concatenation with empty or all-NA entries is deprecated. In a future version, this will no longer \n",
       "exclude empty or all-NA columns when determining the result dtypes. To retain the old behavior, exclude the \n",
       "relevant entries before the concat operation.\n",
       "  results = pd.concat([results, normalized_data]) #.dropna(axis=1, how=\"all\")])\n",
       "</pre>\n"
      ],
      "text/plain": [
       "/var/folders/7t/k8q3439j6z3c683j7w00wtm80000gn/T/ipykernel_58430/330735155.py:26: FutureWarning: The behavior of \n",
       "DataFrame concatenation with empty or all-NA entries is deprecated. In a future version, this will no longer \n",
       "exclude empty or all-NA columns when determining the result dtypes. To retain the old behavior, exclude the \n",
       "relevant entries before the concat operation.\n",
       "  results = pd.concat([results, normalized_data]) #.dropna(axis=1, how=\"all\")])\n"
      ]
     },
     "metadata": {},
     "output_type": "display_data"
    },
    {
     "data": {
      "text/html": [
       "<pre style=\"white-space:pre;overflow-x:auto;line-height:normal;font-family:Menlo,'DejaVu Sans Mono',consolas,'Courier New',monospace\">/var/folders/7t/k8q3439j6z3c683j7w00wtm80000gn/T/ipykernel_58430/330735155.py:26: FutureWarning: The behavior of \n",
       "DataFrame concatenation with empty or all-NA entries is deprecated. In a future version, this will no longer \n",
       "exclude empty or all-NA columns when determining the result dtypes. To retain the old behavior, exclude the \n",
       "relevant entries before the concat operation.\n",
       "  results = pd.concat([results, normalized_data]) #.dropna(axis=1, how=\"all\")])\n",
       "</pre>\n"
      ],
      "text/plain": [
       "/var/folders/7t/k8q3439j6z3c683j7w00wtm80000gn/T/ipykernel_58430/330735155.py:26: FutureWarning: The behavior of \n",
       "DataFrame concatenation with empty or all-NA entries is deprecated. In a future version, this will no longer \n",
       "exclude empty or all-NA columns when determining the result dtypes. To retain the old behavior, exclude the \n",
       "relevant entries before the concat operation.\n",
       "  results = pd.concat([results, normalized_data]) #.dropna(axis=1, how=\"all\")])\n"
      ]
     },
     "metadata": {},
     "output_type": "display_data"
    },
    {
     "data": {
      "text/html": [
       "<pre style=\"white-space:pre;overflow-x:auto;line-height:normal;font-family:Menlo,'DejaVu Sans Mono',consolas,'Courier New',monospace\">/var/folders/7t/k8q3439j6z3c683j7w00wtm80000gn/T/ipykernel_58430/330735155.py:26: FutureWarning: The behavior of \n",
       "DataFrame concatenation with empty or all-NA entries is deprecated. In a future version, this will no longer \n",
       "exclude empty or all-NA columns when determining the result dtypes. To retain the old behavior, exclude the \n",
       "relevant entries before the concat operation.\n",
       "  results = pd.concat([results, normalized_data]) #.dropna(axis=1, how=\"all\")])\n",
       "</pre>\n"
      ],
      "text/plain": [
       "/var/folders/7t/k8q3439j6z3c683j7w00wtm80000gn/T/ipykernel_58430/330735155.py:26: FutureWarning: The behavior of \n",
       "DataFrame concatenation with empty or all-NA entries is deprecated. In a future version, this will no longer \n",
       "exclude empty or all-NA columns when determining the result dtypes. To retain the old behavior, exclude the \n",
       "relevant entries before the concat operation.\n",
       "  results = pd.concat([results, normalized_data]) #.dropna(axis=1, how=\"all\")])\n"
      ]
     },
     "metadata": {},
     "output_type": "display_data"
    },
    {
     "data": {
      "text/html": [
       "<pre style=\"white-space:pre;overflow-x:auto;line-height:normal;font-family:Menlo,'DejaVu Sans Mono',consolas,'Courier New',monospace\">/var/folders/7t/k8q3439j6z3c683j7w00wtm80000gn/T/ipykernel_58430/330735155.py:26: FutureWarning: The behavior of \n",
       "DataFrame concatenation with empty or all-NA entries is deprecated. In a future version, this will no longer \n",
       "exclude empty or all-NA columns when determining the result dtypes. To retain the old behavior, exclude the \n",
       "relevant entries before the concat operation.\n",
       "  results = pd.concat([results, normalized_data]) #.dropna(axis=1, how=\"all\")])\n",
       "</pre>\n"
      ],
      "text/plain": [
       "/var/folders/7t/k8q3439j6z3c683j7w00wtm80000gn/T/ipykernel_58430/330735155.py:26: FutureWarning: The behavior of \n",
       "DataFrame concatenation with empty or all-NA entries is deprecated. In a future version, this will no longer \n",
       "exclude empty or all-NA columns when determining the result dtypes. To retain the old behavior, exclude the \n",
       "relevant entries before the concat operation.\n",
       "  results = pd.concat([results, normalized_data]) #.dropna(axis=1, how=\"all\")])\n"
      ]
     },
     "metadata": {},
     "output_type": "display_data"
    },
    {
     "data": {
      "text/html": [
       "<pre style=\"white-space:pre;overflow-x:auto;line-height:normal;font-family:Menlo,'DejaVu Sans Mono',consolas,'Courier New',monospace\">/var/folders/7t/k8q3439j6z3c683j7w00wtm80000gn/T/ipykernel_58430/330735155.py:26: FutureWarning: The behavior of \n",
       "DataFrame concatenation with empty or all-NA entries is deprecated. In a future version, this will no longer \n",
       "exclude empty or all-NA columns when determining the result dtypes. To retain the old behavior, exclude the \n",
       "relevant entries before the concat operation.\n",
       "  results = pd.concat([results, normalized_data]) #.dropna(axis=1, how=\"all\")])\n",
       "</pre>\n"
      ],
      "text/plain": [
       "/var/folders/7t/k8q3439j6z3c683j7w00wtm80000gn/T/ipykernel_58430/330735155.py:26: FutureWarning: The behavior of \n",
       "DataFrame concatenation with empty or all-NA entries is deprecated. In a future version, this will no longer \n",
       "exclude empty or all-NA columns when determining the result dtypes. To retain the old behavior, exclude the \n",
       "relevant entries before the concat operation.\n",
       "  results = pd.concat([results, normalized_data]) #.dropna(axis=1, how=\"all\")])\n"
      ]
     },
     "metadata": {},
     "output_type": "display_data"
    },
    {
     "data": {
      "text/html": [
       "<pre style=\"white-space:pre;overflow-x:auto;line-height:normal;font-family:Menlo,'DejaVu Sans Mono',consolas,'Courier New',monospace\">/var/folders/7t/k8q3439j6z3c683j7w00wtm80000gn/T/ipykernel_58430/330735155.py:26: FutureWarning: The behavior of \n",
       "DataFrame concatenation with empty or all-NA entries is deprecated. In a future version, this will no longer \n",
       "exclude empty or all-NA columns when determining the result dtypes. To retain the old behavior, exclude the \n",
       "relevant entries before the concat operation.\n",
       "  results = pd.concat([results, normalized_data]) #.dropna(axis=1, how=\"all\")])\n",
       "</pre>\n"
      ],
      "text/plain": [
       "/var/folders/7t/k8q3439j6z3c683j7w00wtm80000gn/T/ipykernel_58430/330735155.py:26: FutureWarning: The behavior of \n",
       "DataFrame concatenation with empty or all-NA entries is deprecated. In a future version, this will no longer \n",
       "exclude empty or all-NA columns when determining the result dtypes. To retain the old behavior, exclude the \n",
       "relevant entries before the concat operation.\n",
       "  results = pd.concat([results, normalized_data]) #.dropna(axis=1, how=\"all\")])\n"
      ]
     },
     "metadata": {},
     "output_type": "display_data"
    },
    {
     "data": {
      "text/html": [
       "<pre style=\"white-space:pre;overflow-x:auto;line-height:normal;font-family:Menlo,'DejaVu Sans Mono',consolas,'Courier New',monospace\">/var/folders/7t/k8q3439j6z3c683j7w00wtm80000gn/T/ipykernel_58430/330735155.py:26: FutureWarning: The behavior of \n",
       "DataFrame concatenation with empty or all-NA entries is deprecated. In a future version, this will no longer \n",
       "exclude empty or all-NA columns when determining the result dtypes. To retain the old behavior, exclude the \n",
       "relevant entries before the concat operation.\n",
       "  results = pd.concat([results, normalized_data]) #.dropna(axis=1, how=\"all\")])\n",
       "</pre>\n"
      ],
      "text/plain": [
       "/var/folders/7t/k8q3439j6z3c683j7w00wtm80000gn/T/ipykernel_58430/330735155.py:26: FutureWarning: The behavior of \n",
       "DataFrame concatenation with empty or all-NA entries is deprecated. In a future version, this will no longer \n",
       "exclude empty or all-NA columns when determining the result dtypes. To retain the old behavior, exclude the \n",
       "relevant entries before the concat operation.\n",
       "  results = pd.concat([results, normalized_data]) #.dropna(axis=1, how=\"all\")])\n"
      ]
     },
     "metadata": {},
     "output_type": "display_data"
    },
    {
     "data": {
      "text/html": [
       "<pre style=\"white-space:pre;overflow-x:auto;line-height:normal;font-family:Menlo,'DejaVu Sans Mono',consolas,'Courier New',monospace\">/var/folders/7t/k8q3439j6z3c683j7w00wtm80000gn/T/ipykernel_58430/330735155.py:26: FutureWarning: The behavior of \n",
       "DataFrame concatenation with empty or all-NA entries is deprecated. In a future version, this will no longer \n",
       "exclude empty or all-NA columns when determining the result dtypes. To retain the old behavior, exclude the \n",
       "relevant entries before the concat operation.\n",
       "  results = pd.concat([results, normalized_data]) #.dropna(axis=1, how=\"all\")])\n",
       "</pre>\n"
      ],
      "text/plain": [
       "/var/folders/7t/k8q3439j6z3c683j7w00wtm80000gn/T/ipykernel_58430/330735155.py:26: FutureWarning: The behavior of \n",
       "DataFrame concatenation with empty or all-NA entries is deprecated. In a future version, this will no longer \n",
       "exclude empty or all-NA columns when determining the result dtypes. To retain the old behavior, exclude the \n",
       "relevant entries before the concat operation.\n",
       "  results = pd.concat([results, normalized_data]) #.dropna(axis=1, how=\"all\")])\n"
      ]
     },
     "metadata": {},
     "output_type": "display_data"
    },
    {
     "data": {
      "text/html": [
       "<pre style=\"white-space:pre;overflow-x:auto;line-height:normal;font-family:Menlo,'DejaVu Sans Mono',consolas,'Courier New',monospace\">/var/folders/7t/k8q3439j6z3c683j7w00wtm80000gn/T/ipykernel_58430/330735155.py:26: FutureWarning: The behavior of \n",
       "DataFrame concatenation with empty or all-NA entries is deprecated. In a future version, this will no longer \n",
       "exclude empty or all-NA columns when determining the result dtypes. To retain the old behavior, exclude the \n",
       "relevant entries before the concat operation.\n",
       "  results = pd.concat([results, normalized_data]) #.dropna(axis=1, how=\"all\")])\n",
       "</pre>\n"
      ],
      "text/plain": [
       "/var/folders/7t/k8q3439j6z3c683j7w00wtm80000gn/T/ipykernel_58430/330735155.py:26: FutureWarning: The behavior of \n",
       "DataFrame concatenation with empty or all-NA entries is deprecated. In a future version, this will no longer \n",
       "exclude empty or all-NA columns when determining the result dtypes. To retain the old behavior, exclude the \n",
       "relevant entries before the concat operation.\n",
       "  results = pd.concat([results, normalized_data]) #.dropna(axis=1, how=\"all\")])\n"
      ]
     },
     "metadata": {},
     "output_type": "display_data"
    },
    {
     "data": {
      "text/html": [
       "<pre style=\"white-space:pre;overflow-x:auto;line-height:normal;font-family:Menlo,'DejaVu Sans Mono',consolas,'Courier New',monospace\">/var/folders/7t/k8q3439j6z3c683j7w00wtm80000gn/T/ipykernel_58430/330735155.py:26: FutureWarning: The behavior of \n",
       "DataFrame concatenation with empty or all-NA entries is deprecated. In a future version, this will no longer \n",
       "exclude empty or all-NA columns when determining the result dtypes. To retain the old behavior, exclude the \n",
       "relevant entries before the concat operation.\n",
       "  results = pd.concat([results, normalized_data]) #.dropna(axis=1, how=\"all\")])\n",
       "</pre>\n"
      ],
      "text/plain": [
       "/var/folders/7t/k8q3439j6z3c683j7w00wtm80000gn/T/ipykernel_58430/330735155.py:26: FutureWarning: The behavior of \n",
       "DataFrame concatenation with empty or all-NA entries is deprecated. In a future version, this will no longer \n",
       "exclude empty or all-NA columns when determining the result dtypes. To retain the old behavior, exclude the \n",
       "relevant entries before the concat operation.\n",
       "  results = pd.concat([results, normalized_data]) #.dropna(axis=1, how=\"all\")])\n"
      ]
     },
     "metadata": {},
     "output_type": "display_data"
    },
    {
     "data": {
      "text/html": [
       "<pre style=\"white-space:pre;overflow-x:auto;line-height:normal;font-family:Menlo,'DejaVu Sans Mono',consolas,'Courier New',monospace\">/var/folders/7t/k8q3439j6z3c683j7w00wtm80000gn/T/ipykernel_58430/330735155.py:26: FutureWarning: The behavior of \n",
       "DataFrame concatenation with empty or all-NA entries is deprecated. In a future version, this will no longer \n",
       "exclude empty or all-NA columns when determining the result dtypes. To retain the old behavior, exclude the \n",
       "relevant entries before the concat operation.\n",
       "  results = pd.concat([results, normalized_data]) #.dropna(axis=1, how=\"all\")])\n",
       "</pre>\n"
      ],
      "text/plain": [
       "/var/folders/7t/k8q3439j6z3c683j7w00wtm80000gn/T/ipykernel_58430/330735155.py:26: FutureWarning: The behavior of \n",
       "DataFrame concatenation with empty or all-NA entries is deprecated. In a future version, this will no longer \n",
       "exclude empty or all-NA columns when determining the result dtypes. To retain the old behavior, exclude the \n",
       "relevant entries before the concat operation.\n",
       "  results = pd.concat([results, normalized_data]) #.dropna(axis=1, how=\"all\")])\n"
      ]
     },
     "metadata": {},
     "output_type": "display_data"
    },
    {
     "data": {
      "text/html": [
       "<pre style=\"white-space:pre;overflow-x:auto;line-height:normal;font-family:Menlo,'DejaVu Sans Mono',consolas,'Courier New',monospace\">/var/folders/7t/k8q3439j6z3c683j7w00wtm80000gn/T/ipykernel_58430/330735155.py:26: FutureWarning: The behavior of \n",
       "DataFrame concatenation with empty or all-NA entries is deprecated. In a future version, this will no longer \n",
       "exclude empty or all-NA columns when determining the result dtypes. To retain the old behavior, exclude the \n",
       "relevant entries before the concat operation.\n",
       "  results = pd.concat([results, normalized_data]) #.dropna(axis=1, how=\"all\")])\n",
       "</pre>\n"
      ],
      "text/plain": [
       "/var/folders/7t/k8q3439j6z3c683j7w00wtm80000gn/T/ipykernel_58430/330735155.py:26: FutureWarning: The behavior of \n",
       "DataFrame concatenation with empty or all-NA entries is deprecated. In a future version, this will no longer \n",
       "exclude empty or all-NA columns when determining the result dtypes. To retain the old behavior, exclude the \n",
       "relevant entries before the concat operation.\n",
       "  results = pd.concat([results, normalized_data]) #.dropna(axis=1, how=\"all\")])\n"
      ]
     },
     "metadata": {},
     "output_type": "display_data"
    },
    {
     "data": {
      "text/html": [
       "<pre style=\"white-space:pre;overflow-x:auto;line-height:normal;font-family:Menlo,'DejaVu Sans Mono',consolas,'Courier New',monospace\">/var/folders/7t/k8q3439j6z3c683j7w00wtm80000gn/T/ipykernel_58430/330735155.py:26: FutureWarning: The behavior of \n",
       "DataFrame concatenation with empty or all-NA entries is deprecated. In a future version, this will no longer \n",
       "exclude empty or all-NA columns when determining the result dtypes. To retain the old behavior, exclude the \n",
       "relevant entries before the concat operation.\n",
       "  results = pd.concat([results, normalized_data]) #.dropna(axis=1, how=\"all\")])\n",
       "</pre>\n"
      ],
      "text/plain": [
       "/var/folders/7t/k8q3439j6z3c683j7w00wtm80000gn/T/ipykernel_58430/330735155.py:26: FutureWarning: The behavior of \n",
       "DataFrame concatenation with empty or all-NA entries is deprecated. In a future version, this will no longer \n",
       "exclude empty or all-NA columns when determining the result dtypes. To retain the old behavior, exclude the \n",
       "relevant entries before the concat operation.\n",
       "  results = pd.concat([results, normalized_data]) #.dropna(axis=1, how=\"all\")])\n"
      ]
     },
     "metadata": {},
     "output_type": "display_data"
    },
    {
     "data": {
      "text/html": [
       "<pre style=\"white-space:pre;overflow-x:auto;line-height:normal;font-family:Menlo,'DejaVu Sans Mono',consolas,'Courier New',monospace\">/var/folders/7t/k8q3439j6z3c683j7w00wtm80000gn/T/ipykernel_58430/330735155.py:26: FutureWarning: The behavior of \n",
       "DataFrame concatenation with empty or all-NA entries is deprecated. In a future version, this will no longer \n",
       "exclude empty or all-NA columns when determining the result dtypes. To retain the old behavior, exclude the \n",
       "relevant entries before the concat operation.\n",
       "  results = pd.concat([results, normalized_data]) #.dropna(axis=1, how=\"all\")])\n",
       "</pre>\n"
      ],
      "text/plain": [
       "/var/folders/7t/k8q3439j6z3c683j7w00wtm80000gn/T/ipykernel_58430/330735155.py:26: FutureWarning: The behavior of \n",
       "DataFrame concatenation with empty or all-NA entries is deprecated. In a future version, this will no longer \n",
       "exclude empty or all-NA columns when determining the result dtypes. To retain the old behavior, exclude the \n",
       "relevant entries before the concat operation.\n",
       "  results = pd.concat([results, normalized_data]) #.dropna(axis=1, how=\"all\")])\n"
      ]
     },
     "metadata": {},
     "output_type": "display_data"
    },
    {
     "data": {
      "text/html": [
       "<pre style=\"white-space:pre;overflow-x:auto;line-height:normal;font-family:Menlo,'DejaVu Sans Mono',consolas,'Courier New',monospace\">/var/folders/7t/k8q3439j6z3c683j7w00wtm80000gn/T/ipykernel_58430/330735155.py:26: FutureWarning: The behavior of \n",
       "DataFrame concatenation with empty or all-NA entries is deprecated. In a future version, this will no longer \n",
       "exclude empty or all-NA columns when determining the result dtypes. To retain the old behavior, exclude the \n",
       "relevant entries before the concat operation.\n",
       "  results = pd.concat([results, normalized_data]) #.dropna(axis=1, how=\"all\")])\n",
       "</pre>\n"
      ],
      "text/plain": [
       "/var/folders/7t/k8q3439j6z3c683j7w00wtm80000gn/T/ipykernel_58430/330735155.py:26: FutureWarning: The behavior of \n",
       "DataFrame concatenation with empty or all-NA entries is deprecated. In a future version, this will no longer \n",
       "exclude empty or all-NA columns when determining the result dtypes. To retain the old behavior, exclude the \n",
       "relevant entries before the concat operation.\n",
       "  results = pd.concat([results, normalized_data]) #.dropna(axis=1, how=\"all\")])\n"
      ]
     },
     "metadata": {},
     "output_type": "display_data"
    },
    {
     "data": {
      "text/html": [
       "<pre style=\"white-space:pre;overflow-x:auto;line-height:normal;font-family:Menlo,'DejaVu Sans Mono',consolas,'Courier New',monospace\">/var/folders/7t/k8q3439j6z3c683j7w00wtm80000gn/T/ipykernel_58430/330735155.py:26: FutureWarning: The behavior of \n",
       "DataFrame concatenation with empty or all-NA entries is deprecated. In a future version, this will no longer \n",
       "exclude empty or all-NA columns when determining the result dtypes. To retain the old behavior, exclude the \n",
       "relevant entries before the concat operation.\n",
       "  results = pd.concat([results, normalized_data]) #.dropna(axis=1, how=\"all\")])\n",
       "</pre>\n"
      ],
      "text/plain": [
       "/var/folders/7t/k8q3439j6z3c683j7w00wtm80000gn/T/ipykernel_58430/330735155.py:26: FutureWarning: The behavior of \n",
       "DataFrame concatenation with empty or all-NA entries is deprecated. In a future version, this will no longer \n",
       "exclude empty or all-NA columns when determining the result dtypes. To retain the old behavior, exclude the \n",
       "relevant entries before the concat operation.\n",
       "  results = pd.concat([results, normalized_data]) #.dropna(axis=1, how=\"all\")])\n"
      ]
     },
     "metadata": {},
     "output_type": "display_data"
    },
    {
     "data": {
      "text/html": [
       "<pre style=\"white-space:pre;overflow-x:auto;line-height:normal;font-family:Menlo,'DejaVu Sans Mono',consolas,'Courier New',monospace\">/var/folders/7t/k8q3439j6z3c683j7w00wtm80000gn/T/ipykernel_58430/330735155.py:26: FutureWarning: The behavior of \n",
       "DataFrame concatenation with empty or all-NA entries is deprecated. In a future version, this will no longer \n",
       "exclude empty or all-NA columns when determining the result dtypes. To retain the old behavior, exclude the \n",
       "relevant entries before the concat operation.\n",
       "  results = pd.concat([results, normalized_data]) #.dropna(axis=1, how=\"all\")])\n",
       "</pre>\n"
      ],
      "text/plain": [
       "/var/folders/7t/k8q3439j6z3c683j7w00wtm80000gn/T/ipykernel_58430/330735155.py:26: FutureWarning: The behavior of \n",
       "DataFrame concatenation with empty or all-NA entries is deprecated. In a future version, this will no longer \n",
       "exclude empty or all-NA columns when determining the result dtypes. To retain the old behavior, exclude the \n",
       "relevant entries before the concat operation.\n",
       "  results = pd.concat([results, normalized_data]) #.dropna(axis=1, how=\"all\")])\n"
      ]
     },
     "metadata": {},
     "output_type": "display_data"
    },
    {
     "data": {
      "text/html": [
       "<pre style=\"white-space:pre;overflow-x:auto;line-height:normal;font-family:Menlo,'DejaVu Sans Mono',consolas,'Courier New',monospace\">/var/folders/7t/k8q3439j6z3c683j7w00wtm80000gn/T/ipykernel_58430/330735155.py:26: FutureWarning: The behavior of \n",
       "DataFrame concatenation with empty or all-NA entries is deprecated. In a future version, this will no longer \n",
       "exclude empty or all-NA columns when determining the result dtypes. To retain the old behavior, exclude the \n",
       "relevant entries before the concat operation.\n",
       "  results = pd.concat([results, normalized_data]) #.dropna(axis=1, how=\"all\")])\n",
       "</pre>\n"
      ],
      "text/plain": [
       "/var/folders/7t/k8q3439j6z3c683j7w00wtm80000gn/T/ipykernel_58430/330735155.py:26: FutureWarning: The behavior of \n",
       "DataFrame concatenation with empty or all-NA entries is deprecated. In a future version, this will no longer \n",
       "exclude empty or all-NA columns when determining the result dtypes. To retain the old behavior, exclude the \n",
       "relevant entries before the concat operation.\n",
       "  results = pd.concat([results, normalized_data]) #.dropna(axis=1, how=\"all\")])\n"
      ]
     },
     "metadata": {},
     "output_type": "display_data"
    },
    {
     "data": {
      "text/html": [
       "<pre style=\"white-space:pre;overflow-x:auto;line-height:normal;font-family:Menlo,'DejaVu Sans Mono',consolas,'Courier New',monospace\">/var/folders/7t/k8q3439j6z3c683j7w00wtm80000gn/T/ipykernel_58430/330735155.py:26: FutureWarning: The behavior of \n",
       "DataFrame concatenation with empty or all-NA entries is deprecated. In a future version, this will no longer \n",
       "exclude empty or all-NA columns when determining the result dtypes. To retain the old behavior, exclude the \n",
       "relevant entries before the concat operation.\n",
       "  results = pd.concat([results, normalized_data]) #.dropna(axis=1, how=\"all\")])\n",
       "</pre>\n"
      ],
      "text/plain": [
       "/var/folders/7t/k8q3439j6z3c683j7w00wtm80000gn/T/ipykernel_58430/330735155.py:26: FutureWarning: The behavior of \n",
       "DataFrame concatenation with empty or all-NA entries is deprecated. In a future version, this will no longer \n",
       "exclude empty or all-NA columns when determining the result dtypes. To retain the old behavior, exclude the \n",
       "relevant entries before the concat operation.\n",
       "  results = pd.concat([results, normalized_data]) #.dropna(axis=1, how=\"all\")])\n"
      ]
     },
     "metadata": {},
     "output_type": "display_data"
    },
    {
     "data": {
      "text/html": [
       "<pre style=\"white-space:pre;overflow-x:auto;line-height:normal;font-family:Menlo,'DejaVu Sans Mono',consolas,'Courier New',monospace\">/var/folders/7t/k8q3439j6z3c683j7w00wtm80000gn/T/ipykernel_58430/330735155.py:26: FutureWarning: The behavior of \n",
       "DataFrame concatenation with empty or all-NA entries is deprecated. In a future version, this will no longer \n",
       "exclude empty or all-NA columns when determining the result dtypes. To retain the old behavior, exclude the \n",
       "relevant entries before the concat operation.\n",
       "  results = pd.concat([results, normalized_data]) #.dropna(axis=1, how=\"all\")])\n",
       "</pre>\n"
      ],
      "text/plain": [
       "/var/folders/7t/k8q3439j6z3c683j7w00wtm80000gn/T/ipykernel_58430/330735155.py:26: FutureWarning: The behavior of \n",
       "DataFrame concatenation with empty or all-NA entries is deprecated. In a future version, this will no longer \n",
       "exclude empty or all-NA columns when determining the result dtypes. To retain the old behavior, exclude the \n",
       "relevant entries before the concat operation.\n",
       "  results = pd.concat([results, normalized_data]) #.dropna(axis=1, how=\"all\")])\n"
      ]
     },
     "metadata": {},
     "output_type": "display_data"
    },
    {
     "data": {
      "text/html": [
       "<pre style=\"white-space:pre;overflow-x:auto;line-height:normal;font-family:Menlo,'DejaVu Sans Mono',consolas,'Courier New',monospace\">/var/folders/7t/k8q3439j6z3c683j7w00wtm80000gn/T/ipykernel_58430/330735155.py:26: FutureWarning: The behavior of \n",
       "DataFrame concatenation with empty or all-NA entries is deprecated. In a future version, this will no longer \n",
       "exclude empty or all-NA columns when determining the result dtypes. To retain the old behavior, exclude the \n",
       "relevant entries before the concat operation.\n",
       "  results = pd.concat([results, normalized_data]) #.dropna(axis=1, how=\"all\")])\n",
       "</pre>\n"
      ],
      "text/plain": [
       "/var/folders/7t/k8q3439j6z3c683j7w00wtm80000gn/T/ipykernel_58430/330735155.py:26: FutureWarning: The behavior of \n",
       "DataFrame concatenation with empty or all-NA entries is deprecated. In a future version, this will no longer \n",
       "exclude empty or all-NA columns when determining the result dtypes. To retain the old behavior, exclude the \n",
       "relevant entries before the concat operation.\n",
       "  results = pd.concat([results, normalized_data]) #.dropna(axis=1, how=\"all\")])\n"
      ]
     },
     "metadata": {},
     "output_type": "display_data"
    },
    {
     "data": {
      "text/html": [
       "<pre style=\"white-space:pre;overflow-x:auto;line-height:normal;font-family:Menlo,'DejaVu Sans Mono',consolas,'Courier New',monospace\">/var/folders/7t/k8q3439j6z3c683j7w00wtm80000gn/T/ipykernel_58430/330735155.py:26: FutureWarning: The behavior of \n",
       "DataFrame concatenation with empty or all-NA entries is deprecated. In a future version, this will no longer \n",
       "exclude empty or all-NA columns when determining the result dtypes. To retain the old behavior, exclude the \n",
       "relevant entries before the concat operation.\n",
       "  results = pd.concat([results, normalized_data]) #.dropna(axis=1, how=\"all\")])\n",
       "</pre>\n"
      ],
      "text/plain": [
       "/var/folders/7t/k8q3439j6z3c683j7w00wtm80000gn/T/ipykernel_58430/330735155.py:26: FutureWarning: The behavior of \n",
       "DataFrame concatenation with empty or all-NA entries is deprecated. In a future version, this will no longer \n",
       "exclude empty or all-NA columns when determining the result dtypes. To retain the old behavior, exclude the \n",
       "relevant entries before the concat operation.\n",
       "  results = pd.concat([results, normalized_data]) #.dropna(axis=1, how=\"all\")])\n"
      ]
     },
     "metadata": {},
     "output_type": "display_data"
    },
    {
     "data": {
      "text/html": [
       "<pre style=\"white-space:pre;overflow-x:auto;line-height:normal;font-family:Menlo,'DejaVu Sans Mono',consolas,'Courier New',monospace\">/var/folders/7t/k8q3439j6z3c683j7w00wtm80000gn/T/ipykernel_58430/330735155.py:26: FutureWarning: The behavior of \n",
       "DataFrame concatenation with empty or all-NA entries is deprecated. In a future version, this will no longer \n",
       "exclude empty or all-NA columns when determining the result dtypes. To retain the old behavior, exclude the \n",
       "relevant entries before the concat operation.\n",
       "  results = pd.concat([results, normalized_data]) #.dropna(axis=1, how=\"all\")])\n",
       "</pre>\n"
      ],
      "text/plain": [
       "/var/folders/7t/k8q3439j6z3c683j7w00wtm80000gn/T/ipykernel_58430/330735155.py:26: FutureWarning: The behavior of \n",
       "DataFrame concatenation with empty or all-NA entries is deprecated. In a future version, this will no longer \n",
       "exclude empty or all-NA columns when determining the result dtypes. To retain the old behavior, exclude the \n",
       "relevant entries before the concat operation.\n",
       "  results = pd.concat([results, normalized_data]) #.dropna(axis=1, how=\"all\")])\n"
      ]
     },
     "metadata": {},
     "output_type": "display_data"
    },
    {
     "data": {
      "text/html": [
       "<pre style=\"white-space:pre;overflow-x:auto;line-height:normal;font-family:Menlo,'DejaVu Sans Mono',consolas,'Courier New',monospace\">/var/folders/7t/k8q3439j6z3c683j7w00wtm80000gn/T/ipykernel_58430/330735155.py:26: FutureWarning: The behavior of \n",
       "DataFrame concatenation with empty or all-NA entries is deprecated. In a future version, this will no longer \n",
       "exclude empty or all-NA columns when determining the result dtypes. To retain the old behavior, exclude the \n",
       "relevant entries before the concat operation.\n",
       "  results = pd.concat([results, normalized_data]) #.dropna(axis=1, how=\"all\")])\n",
       "</pre>\n"
      ],
      "text/plain": [
       "/var/folders/7t/k8q3439j6z3c683j7w00wtm80000gn/T/ipykernel_58430/330735155.py:26: FutureWarning: The behavior of \n",
       "DataFrame concatenation with empty or all-NA entries is deprecated. In a future version, this will no longer \n",
       "exclude empty or all-NA columns when determining the result dtypes. To retain the old behavior, exclude the \n",
       "relevant entries before the concat operation.\n",
       "  results = pd.concat([results, normalized_data]) #.dropna(axis=1, how=\"all\")])\n"
      ]
     },
     "metadata": {},
     "output_type": "display_data"
    },
    {
     "data": {
      "text/html": [
       "<pre style=\"white-space:pre;overflow-x:auto;line-height:normal;font-family:Menlo,'DejaVu Sans Mono',consolas,'Courier New',monospace\">/var/folders/7t/k8q3439j6z3c683j7w00wtm80000gn/T/ipykernel_58430/330735155.py:26: FutureWarning: The behavior of \n",
       "DataFrame concatenation with empty or all-NA entries is deprecated. In a future version, this will no longer \n",
       "exclude empty or all-NA columns when determining the result dtypes. To retain the old behavior, exclude the \n",
       "relevant entries before the concat operation.\n",
       "  results = pd.concat([results, normalized_data]) #.dropna(axis=1, how=\"all\")])\n",
       "</pre>\n"
      ],
      "text/plain": [
       "/var/folders/7t/k8q3439j6z3c683j7w00wtm80000gn/T/ipykernel_58430/330735155.py:26: FutureWarning: The behavior of \n",
       "DataFrame concatenation with empty or all-NA entries is deprecated. In a future version, this will no longer \n",
       "exclude empty or all-NA columns when determining the result dtypes. To retain the old behavior, exclude the \n",
       "relevant entries before the concat operation.\n",
       "  results = pd.concat([results, normalized_data]) #.dropna(axis=1, how=\"all\")])\n"
      ]
     },
     "metadata": {},
     "output_type": "display_data"
    },
    {
     "data": {
      "text/html": [
       "<pre style=\"white-space:pre;overflow-x:auto;line-height:normal;font-family:Menlo,'DejaVu Sans Mono',consolas,'Courier New',monospace\">/var/folders/7t/k8q3439j6z3c683j7w00wtm80000gn/T/ipykernel_58430/330735155.py:26: FutureWarning: The behavior of \n",
       "DataFrame concatenation with empty or all-NA entries is deprecated. In a future version, this will no longer \n",
       "exclude empty or all-NA columns when determining the result dtypes. To retain the old behavior, exclude the \n",
       "relevant entries before the concat operation.\n",
       "  results = pd.concat([results, normalized_data]) #.dropna(axis=1, how=\"all\")])\n",
       "</pre>\n"
      ],
      "text/plain": [
       "/var/folders/7t/k8q3439j6z3c683j7w00wtm80000gn/T/ipykernel_58430/330735155.py:26: FutureWarning: The behavior of \n",
       "DataFrame concatenation with empty or all-NA entries is deprecated. In a future version, this will no longer \n",
       "exclude empty or all-NA columns when determining the result dtypes. To retain the old behavior, exclude the \n",
       "relevant entries before the concat operation.\n",
       "  results = pd.concat([results, normalized_data]) #.dropna(axis=1, how=\"all\")])\n"
      ]
     },
     "metadata": {},
     "output_type": "display_data"
    },
    {
     "data": {
      "text/html": [
       "<pre style=\"white-space:pre;overflow-x:auto;line-height:normal;font-family:Menlo,'DejaVu Sans Mono',consolas,'Courier New',monospace\">/var/folders/7t/k8q3439j6z3c683j7w00wtm80000gn/T/ipykernel_58430/330735155.py:26: FutureWarning: The behavior of \n",
       "DataFrame concatenation with empty or all-NA entries is deprecated. In a future version, this will no longer \n",
       "exclude empty or all-NA columns when determining the result dtypes. To retain the old behavior, exclude the \n",
       "relevant entries before the concat operation.\n",
       "  results = pd.concat([results, normalized_data]) #.dropna(axis=1, how=\"all\")])\n",
       "</pre>\n"
      ],
      "text/plain": [
       "/var/folders/7t/k8q3439j6z3c683j7w00wtm80000gn/T/ipykernel_58430/330735155.py:26: FutureWarning: The behavior of \n",
       "DataFrame concatenation with empty or all-NA entries is deprecated. In a future version, this will no longer \n",
       "exclude empty or all-NA columns when determining the result dtypes. To retain the old behavior, exclude the \n",
       "relevant entries before the concat operation.\n",
       "  results = pd.concat([results, normalized_data]) #.dropna(axis=1, how=\"all\")])\n"
      ]
     },
     "metadata": {},
     "output_type": "display_data"
    },
    {
     "data": {
      "text/html": [
       "<pre style=\"white-space:pre;overflow-x:auto;line-height:normal;font-family:Menlo,'DejaVu Sans Mono',consolas,'Courier New',monospace\">/var/folders/7t/k8q3439j6z3c683j7w00wtm80000gn/T/ipykernel_58430/330735155.py:26: FutureWarning: The behavior of \n",
       "DataFrame concatenation with empty or all-NA entries is deprecated. In a future version, this will no longer \n",
       "exclude empty or all-NA columns when determining the result dtypes. To retain the old behavior, exclude the \n",
       "relevant entries before the concat operation.\n",
       "  results = pd.concat([results, normalized_data]) #.dropna(axis=1, how=\"all\")])\n",
       "</pre>\n"
      ],
      "text/plain": [
       "/var/folders/7t/k8q3439j6z3c683j7w00wtm80000gn/T/ipykernel_58430/330735155.py:26: FutureWarning: The behavior of \n",
       "DataFrame concatenation with empty or all-NA entries is deprecated. In a future version, this will no longer \n",
       "exclude empty or all-NA columns when determining the result dtypes. To retain the old behavior, exclude the \n",
       "relevant entries before the concat operation.\n",
       "  results = pd.concat([results, normalized_data]) #.dropna(axis=1, how=\"all\")])\n"
      ]
     },
     "metadata": {},
     "output_type": "display_data"
    },
    {
     "data": {
      "text/html": [
       "<pre style=\"white-space:pre;overflow-x:auto;line-height:normal;font-family:Menlo,'DejaVu Sans Mono',consolas,'Courier New',monospace\">/var/folders/7t/k8q3439j6z3c683j7w00wtm80000gn/T/ipykernel_58430/330735155.py:26: FutureWarning: The behavior of \n",
       "DataFrame concatenation with empty or all-NA entries is deprecated. In a future version, this will no longer \n",
       "exclude empty or all-NA columns when determining the result dtypes. To retain the old behavior, exclude the \n",
       "relevant entries before the concat operation.\n",
       "  results = pd.concat([results, normalized_data]) #.dropna(axis=1, how=\"all\")])\n",
       "</pre>\n"
      ],
      "text/plain": [
       "/var/folders/7t/k8q3439j6z3c683j7w00wtm80000gn/T/ipykernel_58430/330735155.py:26: FutureWarning: The behavior of \n",
       "DataFrame concatenation with empty or all-NA entries is deprecated. In a future version, this will no longer \n",
       "exclude empty or all-NA columns when determining the result dtypes. To retain the old behavior, exclude the \n",
       "relevant entries before the concat operation.\n",
       "  results = pd.concat([results, normalized_data]) #.dropna(axis=1, how=\"all\")])\n"
      ]
     },
     "metadata": {},
     "output_type": "display_data"
    },
    {
     "data": {
      "text/html": [
       "<pre style=\"white-space:pre;overflow-x:auto;line-height:normal;font-family:Menlo,'DejaVu Sans Mono',consolas,'Courier New',monospace\">/var/folders/7t/k8q3439j6z3c683j7w00wtm80000gn/T/ipykernel_58430/330735155.py:26: FutureWarning: The behavior of \n",
       "DataFrame concatenation with empty or all-NA entries is deprecated. In a future version, this will no longer \n",
       "exclude empty or all-NA columns when determining the result dtypes. To retain the old behavior, exclude the \n",
       "relevant entries before the concat operation.\n",
       "  results = pd.concat([results, normalized_data]) #.dropna(axis=1, how=\"all\")])\n",
       "</pre>\n"
      ],
      "text/plain": [
       "/var/folders/7t/k8q3439j6z3c683j7w00wtm80000gn/T/ipykernel_58430/330735155.py:26: FutureWarning: The behavior of \n",
       "DataFrame concatenation with empty or all-NA entries is deprecated. In a future version, this will no longer \n",
       "exclude empty or all-NA columns when determining the result dtypes. To retain the old behavior, exclude the \n",
       "relevant entries before the concat operation.\n",
       "  results = pd.concat([results, normalized_data]) #.dropna(axis=1, how=\"all\")])\n"
      ]
     },
     "metadata": {},
     "output_type": "display_data"
    },
    {
     "data": {
      "text/html": [
       "<pre style=\"white-space:pre;overflow-x:auto;line-height:normal;font-family:Menlo,'DejaVu Sans Mono',consolas,'Courier New',monospace\">/var/folders/7t/k8q3439j6z3c683j7w00wtm80000gn/T/ipykernel_58430/330735155.py:26: FutureWarning: The behavior of \n",
       "DataFrame concatenation with empty or all-NA entries is deprecated. In a future version, this will no longer \n",
       "exclude empty or all-NA columns when determining the result dtypes. To retain the old behavior, exclude the \n",
       "relevant entries before the concat operation.\n",
       "  results = pd.concat([results, normalized_data]) #.dropna(axis=1, how=\"all\")])\n",
       "</pre>\n"
      ],
      "text/plain": [
       "/var/folders/7t/k8q3439j6z3c683j7w00wtm80000gn/T/ipykernel_58430/330735155.py:26: FutureWarning: The behavior of \n",
       "DataFrame concatenation with empty or all-NA entries is deprecated. In a future version, this will no longer \n",
       "exclude empty or all-NA columns when determining the result dtypes. To retain the old behavior, exclude the \n",
       "relevant entries before the concat operation.\n",
       "  results = pd.concat([results, normalized_data]) #.dropna(axis=1, how=\"all\")])\n"
      ]
     },
     "metadata": {},
     "output_type": "display_data"
    },
    {
     "data": {
      "text/html": [
       "<pre style=\"white-space:pre;overflow-x:auto;line-height:normal;font-family:Menlo,'DejaVu Sans Mono',consolas,'Courier New',monospace\">/var/folders/7t/k8q3439j6z3c683j7w00wtm80000gn/T/ipykernel_58430/330735155.py:26: FutureWarning: The behavior of \n",
       "DataFrame concatenation with empty or all-NA entries is deprecated. In a future version, this will no longer \n",
       "exclude empty or all-NA columns when determining the result dtypes. To retain the old behavior, exclude the \n",
       "relevant entries before the concat operation.\n",
       "  results = pd.concat([results, normalized_data]) #.dropna(axis=1, how=\"all\")])\n",
       "</pre>\n"
      ],
      "text/plain": [
       "/var/folders/7t/k8q3439j6z3c683j7w00wtm80000gn/T/ipykernel_58430/330735155.py:26: FutureWarning: The behavior of \n",
       "DataFrame concatenation with empty or all-NA entries is deprecated. In a future version, this will no longer \n",
       "exclude empty or all-NA columns when determining the result dtypes. To retain the old behavior, exclude the \n",
       "relevant entries before the concat operation.\n",
       "  results = pd.concat([results, normalized_data]) #.dropna(axis=1, how=\"all\")])\n"
      ]
     },
     "metadata": {},
     "output_type": "display_data"
    },
    {
     "data": {
      "text/html": [
       "<pre style=\"white-space:pre;overflow-x:auto;line-height:normal;font-family:Menlo,'DejaVu Sans Mono',consolas,'Courier New',monospace\">/var/folders/7t/k8q3439j6z3c683j7w00wtm80000gn/T/ipykernel_58430/330735155.py:26: FutureWarning: The behavior of \n",
       "DataFrame concatenation with empty or all-NA entries is deprecated. In a future version, this will no longer \n",
       "exclude empty or all-NA columns when determining the result dtypes. To retain the old behavior, exclude the \n",
       "relevant entries before the concat operation.\n",
       "  results = pd.concat([results, normalized_data]) #.dropna(axis=1, how=\"all\")])\n",
       "</pre>\n"
      ],
      "text/plain": [
       "/var/folders/7t/k8q3439j6z3c683j7w00wtm80000gn/T/ipykernel_58430/330735155.py:26: FutureWarning: The behavior of \n",
       "DataFrame concatenation with empty or all-NA entries is deprecated. In a future version, this will no longer \n",
       "exclude empty or all-NA columns when determining the result dtypes. To retain the old behavior, exclude the \n",
       "relevant entries before the concat operation.\n",
       "  results = pd.concat([results, normalized_data]) #.dropna(axis=1, how=\"all\")])\n"
      ]
     },
     "metadata": {},
     "output_type": "display_data"
    },
    {
     "data": {
      "text/html": [
       "<pre style=\"white-space:pre;overflow-x:auto;line-height:normal;font-family:Menlo,'DejaVu Sans Mono',consolas,'Courier New',monospace\">/var/folders/7t/k8q3439j6z3c683j7w00wtm80000gn/T/ipykernel_58430/330735155.py:26: FutureWarning: The behavior of \n",
       "DataFrame concatenation with empty or all-NA entries is deprecated. In a future version, this will no longer \n",
       "exclude empty or all-NA columns when determining the result dtypes. To retain the old behavior, exclude the \n",
       "relevant entries before the concat operation.\n",
       "  results = pd.concat([results, normalized_data]) #.dropna(axis=1, how=\"all\")])\n",
       "</pre>\n"
      ],
      "text/plain": [
       "/var/folders/7t/k8q3439j6z3c683j7w00wtm80000gn/T/ipykernel_58430/330735155.py:26: FutureWarning: The behavior of \n",
       "DataFrame concatenation with empty or all-NA entries is deprecated. In a future version, this will no longer \n",
       "exclude empty or all-NA columns when determining the result dtypes. To retain the old behavior, exclude the \n",
       "relevant entries before the concat operation.\n",
       "  results = pd.concat([results, normalized_data]) #.dropna(axis=1, how=\"all\")])\n"
      ]
     },
     "metadata": {},
     "output_type": "display_data"
    },
    {
     "data": {
      "text/html": [
       "<pre style=\"white-space:pre;overflow-x:auto;line-height:normal;font-family:Menlo,'DejaVu Sans Mono',consolas,'Courier New',monospace\">/var/folders/7t/k8q3439j6z3c683j7w00wtm80000gn/T/ipykernel_58430/330735155.py:26: FutureWarning: The behavior of \n",
       "DataFrame concatenation with empty or all-NA entries is deprecated. In a future version, this will no longer \n",
       "exclude empty or all-NA columns when determining the result dtypes. To retain the old behavior, exclude the \n",
       "relevant entries before the concat operation.\n",
       "  results = pd.concat([results, normalized_data]) #.dropna(axis=1, how=\"all\")])\n",
       "</pre>\n"
      ],
      "text/plain": [
       "/var/folders/7t/k8q3439j6z3c683j7w00wtm80000gn/T/ipykernel_58430/330735155.py:26: FutureWarning: The behavior of \n",
       "DataFrame concatenation with empty or all-NA entries is deprecated. In a future version, this will no longer \n",
       "exclude empty or all-NA columns when determining the result dtypes. To retain the old behavior, exclude the \n",
       "relevant entries before the concat operation.\n",
       "  results = pd.concat([results, normalized_data]) #.dropna(axis=1, how=\"all\")])\n"
      ]
     },
     "metadata": {},
     "output_type": "display_data"
    },
    {
     "data": {
      "text/html": [
       "<pre style=\"white-space:pre;overflow-x:auto;line-height:normal;font-family:Menlo,'DejaVu Sans Mono',consolas,'Courier New',monospace\">/var/folders/7t/k8q3439j6z3c683j7w00wtm80000gn/T/ipykernel_58430/330735155.py:26: FutureWarning: The behavior of \n",
       "DataFrame concatenation with empty or all-NA entries is deprecated. In a future version, this will no longer \n",
       "exclude empty or all-NA columns when determining the result dtypes. To retain the old behavior, exclude the \n",
       "relevant entries before the concat operation.\n",
       "  results = pd.concat([results, normalized_data]) #.dropna(axis=1, how=\"all\")])\n",
       "</pre>\n"
      ],
      "text/plain": [
       "/var/folders/7t/k8q3439j6z3c683j7w00wtm80000gn/T/ipykernel_58430/330735155.py:26: FutureWarning: The behavior of \n",
       "DataFrame concatenation with empty or all-NA entries is deprecated. In a future version, this will no longer \n",
       "exclude empty or all-NA columns when determining the result dtypes. To retain the old behavior, exclude the \n",
       "relevant entries before the concat operation.\n",
       "  results = pd.concat([results, normalized_data]) #.dropna(axis=1, how=\"all\")])\n"
      ]
     },
     "metadata": {},
     "output_type": "display_data"
    },
    {
     "data": {
      "text/html": [
       "<pre style=\"white-space:pre;overflow-x:auto;line-height:normal;font-family:Menlo,'DejaVu Sans Mono',consolas,'Courier New',monospace\">/var/folders/7t/k8q3439j6z3c683j7w00wtm80000gn/T/ipykernel_58430/330735155.py:26: FutureWarning: The behavior of \n",
       "DataFrame concatenation with empty or all-NA entries is deprecated. In a future version, this will no longer \n",
       "exclude empty or all-NA columns when determining the result dtypes. To retain the old behavior, exclude the \n",
       "relevant entries before the concat operation.\n",
       "  results = pd.concat([results, normalized_data]) #.dropna(axis=1, how=\"all\")])\n",
       "</pre>\n"
      ],
      "text/plain": [
       "/var/folders/7t/k8q3439j6z3c683j7w00wtm80000gn/T/ipykernel_58430/330735155.py:26: FutureWarning: The behavior of \n",
       "DataFrame concatenation with empty or all-NA entries is deprecated. In a future version, this will no longer \n",
       "exclude empty or all-NA columns when determining the result dtypes. To retain the old behavior, exclude the \n",
       "relevant entries before the concat operation.\n",
       "  results = pd.concat([results, normalized_data]) #.dropna(axis=1, how=\"all\")])\n"
      ]
     },
     "metadata": {},
     "output_type": "display_data"
    },
    {
     "data": {
      "text/html": [
       "<pre style=\"white-space:pre;overflow-x:auto;line-height:normal;font-family:Menlo,'DejaVu Sans Mono',consolas,'Courier New',monospace\">/var/folders/7t/k8q3439j6z3c683j7w00wtm80000gn/T/ipykernel_58430/330735155.py:26: FutureWarning: The behavior of \n",
       "DataFrame concatenation with empty or all-NA entries is deprecated. In a future version, this will no longer \n",
       "exclude empty or all-NA columns when determining the result dtypes. To retain the old behavior, exclude the \n",
       "relevant entries before the concat operation.\n",
       "  results = pd.concat([results, normalized_data]) #.dropna(axis=1, how=\"all\")])\n",
       "</pre>\n"
      ],
      "text/plain": [
       "/var/folders/7t/k8q3439j6z3c683j7w00wtm80000gn/T/ipykernel_58430/330735155.py:26: FutureWarning: The behavior of \n",
       "DataFrame concatenation with empty or all-NA entries is deprecated. In a future version, this will no longer \n",
       "exclude empty or all-NA columns when determining the result dtypes. To retain the old behavior, exclude the \n",
       "relevant entries before the concat operation.\n",
       "  results = pd.concat([results, normalized_data]) #.dropna(axis=1, how=\"all\")])\n"
      ]
     },
     "metadata": {},
     "output_type": "display_data"
    },
    {
     "data": {
      "text/html": [
       "<pre style=\"white-space:pre;overflow-x:auto;line-height:normal;font-family:Menlo,'DejaVu Sans Mono',consolas,'Courier New',monospace\">/var/folders/7t/k8q3439j6z3c683j7w00wtm80000gn/T/ipykernel_58430/330735155.py:26: FutureWarning: The behavior of \n",
       "DataFrame concatenation with empty or all-NA entries is deprecated. In a future version, this will no longer \n",
       "exclude empty or all-NA columns when determining the result dtypes. To retain the old behavior, exclude the \n",
       "relevant entries before the concat operation.\n",
       "  results = pd.concat([results, normalized_data]) #.dropna(axis=1, how=\"all\")])\n",
       "</pre>\n"
      ],
      "text/plain": [
       "/var/folders/7t/k8q3439j6z3c683j7w00wtm80000gn/T/ipykernel_58430/330735155.py:26: FutureWarning: The behavior of \n",
       "DataFrame concatenation with empty or all-NA entries is deprecated. In a future version, this will no longer \n",
       "exclude empty or all-NA columns when determining the result dtypes. To retain the old behavior, exclude the \n",
       "relevant entries before the concat operation.\n",
       "  results = pd.concat([results, normalized_data]) #.dropna(axis=1, how=\"all\")])\n"
      ]
     },
     "metadata": {},
     "output_type": "display_data"
    },
    {
     "data": {
      "text/html": [
       "<pre style=\"white-space:pre;overflow-x:auto;line-height:normal;font-family:Menlo,'DejaVu Sans Mono',consolas,'Courier New',monospace\">/var/folders/7t/k8q3439j6z3c683j7w00wtm80000gn/T/ipykernel_58430/330735155.py:26: FutureWarning: The behavior of \n",
       "DataFrame concatenation with empty or all-NA entries is deprecated. In a future version, this will no longer \n",
       "exclude empty or all-NA columns when determining the result dtypes. To retain the old behavior, exclude the \n",
       "relevant entries before the concat operation.\n",
       "  results = pd.concat([results, normalized_data]) #.dropna(axis=1, how=\"all\")])\n",
       "</pre>\n"
      ],
      "text/plain": [
       "/var/folders/7t/k8q3439j6z3c683j7w00wtm80000gn/T/ipykernel_58430/330735155.py:26: FutureWarning: The behavior of \n",
       "DataFrame concatenation with empty or all-NA entries is deprecated. In a future version, this will no longer \n",
       "exclude empty or all-NA columns when determining the result dtypes. To retain the old behavior, exclude the \n",
       "relevant entries before the concat operation.\n",
       "  results = pd.concat([results, normalized_data]) #.dropna(axis=1, how=\"all\")])\n"
      ]
     },
     "metadata": {},
     "output_type": "display_data"
    },
    {
     "data": {
      "text/html": [
       "<pre style=\"white-space:pre;overflow-x:auto;line-height:normal;font-family:Menlo,'DejaVu Sans Mono',consolas,'Courier New',monospace\">/var/folders/7t/k8q3439j6z3c683j7w00wtm80000gn/T/ipykernel_58430/330735155.py:26: FutureWarning: The behavior of \n",
       "DataFrame concatenation with empty or all-NA entries is deprecated. In a future version, this will no longer \n",
       "exclude empty or all-NA columns when determining the result dtypes. To retain the old behavior, exclude the \n",
       "relevant entries before the concat operation.\n",
       "  results = pd.concat([results, normalized_data]) #.dropna(axis=1, how=\"all\")])\n",
       "</pre>\n"
      ],
      "text/plain": [
       "/var/folders/7t/k8q3439j6z3c683j7w00wtm80000gn/T/ipykernel_58430/330735155.py:26: FutureWarning: The behavior of \n",
       "DataFrame concatenation with empty or all-NA entries is deprecated. In a future version, this will no longer \n",
       "exclude empty or all-NA columns when determining the result dtypes. To retain the old behavior, exclude the \n",
       "relevant entries before the concat operation.\n",
       "  results = pd.concat([results, normalized_data]) #.dropna(axis=1, how=\"all\")])\n"
      ]
     },
     "metadata": {},
     "output_type": "display_data"
    },
    {
     "data": {
      "text/html": [
       "<pre style=\"white-space:pre;overflow-x:auto;line-height:normal;font-family:Menlo,'DejaVu Sans Mono',consolas,'Courier New',monospace\">/var/folders/7t/k8q3439j6z3c683j7w00wtm80000gn/T/ipykernel_58430/330735155.py:26: FutureWarning: The behavior of \n",
       "DataFrame concatenation with empty or all-NA entries is deprecated. In a future version, this will no longer \n",
       "exclude empty or all-NA columns when determining the result dtypes. To retain the old behavior, exclude the \n",
       "relevant entries before the concat operation.\n",
       "  results = pd.concat([results, normalized_data]) #.dropna(axis=1, how=\"all\")])\n",
       "</pre>\n"
      ],
      "text/plain": [
       "/var/folders/7t/k8q3439j6z3c683j7w00wtm80000gn/T/ipykernel_58430/330735155.py:26: FutureWarning: The behavior of \n",
       "DataFrame concatenation with empty or all-NA entries is deprecated. In a future version, this will no longer \n",
       "exclude empty or all-NA columns when determining the result dtypes. To retain the old behavior, exclude the \n",
       "relevant entries before the concat operation.\n",
       "  results = pd.concat([results, normalized_data]) #.dropna(axis=1, how=\"all\")])\n"
      ]
     },
     "metadata": {},
     "output_type": "display_data"
    },
    {
     "data": {
      "text/html": [
       "<pre style=\"white-space:pre;overflow-x:auto;line-height:normal;font-family:Menlo,'DejaVu Sans Mono',consolas,'Courier New',monospace\">/var/folders/7t/k8q3439j6z3c683j7w00wtm80000gn/T/ipykernel_58430/330735155.py:26: FutureWarning: The behavior of \n",
       "DataFrame concatenation with empty or all-NA entries is deprecated. In a future version, this will no longer \n",
       "exclude empty or all-NA columns when determining the result dtypes. To retain the old behavior, exclude the \n",
       "relevant entries before the concat operation.\n",
       "  results = pd.concat([results, normalized_data]) #.dropna(axis=1, how=\"all\")])\n",
       "</pre>\n"
      ],
      "text/plain": [
       "/var/folders/7t/k8q3439j6z3c683j7w00wtm80000gn/T/ipykernel_58430/330735155.py:26: FutureWarning: The behavior of \n",
       "DataFrame concatenation with empty or all-NA entries is deprecated. In a future version, this will no longer \n",
       "exclude empty or all-NA columns when determining the result dtypes. To retain the old behavior, exclude the \n",
       "relevant entries before the concat operation.\n",
       "  results = pd.concat([results, normalized_data]) #.dropna(axis=1, how=\"all\")])\n"
      ]
     },
     "metadata": {},
     "output_type": "display_data"
    },
    {
     "data": {
      "text/html": [
       "<pre style=\"white-space:pre;overflow-x:auto;line-height:normal;font-family:Menlo,'DejaVu Sans Mono',consolas,'Courier New',monospace\">/var/folders/7t/k8q3439j6z3c683j7w00wtm80000gn/T/ipykernel_58430/330735155.py:26: FutureWarning: The behavior of \n",
       "DataFrame concatenation with empty or all-NA entries is deprecated. In a future version, this will no longer \n",
       "exclude empty or all-NA columns when determining the result dtypes. To retain the old behavior, exclude the \n",
       "relevant entries before the concat operation.\n",
       "  results = pd.concat([results, normalized_data]) #.dropna(axis=1, how=\"all\")])\n",
       "</pre>\n"
      ],
      "text/plain": [
       "/var/folders/7t/k8q3439j6z3c683j7w00wtm80000gn/T/ipykernel_58430/330735155.py:26: FutureWarning: The behavior of \n",
       "DataFrame concatenation with empty or all-NA entries is deprecated. In a future version, this will no longer \n",
       "exclude empty or all-NA columns when determining the result dtypes. To retain the old behavior, exclude the \n",
       "relevant entries before the concat operation.\n",
       "  results = pd.concat([results, normalized_data]) #.dropna(axis=1, how=\"all\")])\n"
      ]
     },
     "metadata": {},
     "output_type": "display_data"
    },
    {
     "data": {
      "text/html": [
       "<pre style=\"white-space:pre;overflow-x:auto;line-height:normal;font-family:Menlo,'DejaVu Sans Mono',consolas,'Courier New',monospace\">/var/folders/7t/k8q3439j6z3c683j7w00wtm80000gn/T/ipykernel_58430/330735155.py:26: FutureWarning: The behavior of \n",
       "DataFrame concatenation with empty or all-NA entries is deprecated. In a future version, this will no longer \n",
       "exclude empty or all-NA columns when determining the result dtypes. To retain the old behavior, exclude the \n",
       "relevant entries before the concat operation.\n",
       "  results = pd.concat([results, normalized_data]) #.dropna(axis=1, how=\"all\")])\n",
       "</pre>\n"
      ],
      "text/plain": [
       "/var/folders/7t/k8q3439j6z3c683j7w00wtm80000gn/T/ipykernel_58430/330735155.py:26: FutureWarning: The behavior of \n",
       "DataFrame concatenation with empty or all-NA entries is deprecated. In a future version, this will no longer \n",
       "exclude empty or all-NA columns when determining the result dtypes. To retain the old behavior, exclude the \n",
       "relevant entries before the concat operation.\n",
       "  results = pd.concat([results, normalized_data]) #.dropna(axis=1, how=\"all\")])\n"
      ]
     },
     "metadata": {},
     "output_type": "display_data"
    },
    {
     "data": {
      "text/html": [
       "<pre style=\"white-space:pre;overflow-x:auto;line-height:normal;font-family:Menlo,'DejaVu Sans Mono',consolas,'Courier New',monospace\">/var/folders/7t/k8q3439j6z3c683j7w00wtm80000gn/T/ipykernel_58430/330735155.py:26: FutureWarning: The behavior of \n",
       "DataFrame concatenation with empty or all-NA entries is deprecated. In a future version, this will no longer \n",
       "exclude empty or all-NA columns when determining the result dtypes. To retain the old behavior, exclude the \n",
       "relevant entries before the concat operation.\n",
       "  results = pd.concat([results, normalized_data]) #.dropna(axis=1, how=\"all\")])\n",
       "</pre>\n"
      ],
      "text/plain": [
       "/var/folders/7t/k8q3439j6z3c683j7w00wtm80000gn/T/ipykernel_58430/330735155.py:26: FutureWarning: The behavior of \n",
       "DataFrame concatenation with empty or all-NA entries is deprecated. In a future version, this will no longer \n",
       "exclude empty or all-NA columns when determining the result dtypes. To retain the old behavior, exclude the \n",
       "relevant entries before the concat operation.\n",
       "  results = pd.concat([results, normalized_data]) #.dropna(axis=1, how=\"all\")])\n"
      ]
     },
     "metadata": {},
     "output_type": "display_data"
    },
    {
     "data": {
      "text/html": [
       "<pre style=\"white-space:pre;overflow-x:auto;line-height:normal;font-family:Menlo,'DejaVu Sans Mono',consolas,'Courier New',monospace\">/var/folders/7t/k8q3439j6z3c683j7w00wtm80000gn/T/ipykernel_58430/330735155.py:26: FutureWarning: The behavior of \n",
       "DataFrame concatenation with empty or all-NA entries is deprecated. In a future version, this will no longer \n",
       "exclude empty or all-NA columns when determining the result dtypes. To retain the old behavior, exclude the \n",
       "relevant entries before the concat operation.\n",
       "  results = pd.concat([results, normalized_data]) #.dropna(axis=1, how=\"all\")])\n",
       "</pre>\n"
      ],
      "text/plain": [
       "/var/folders/7t/k8q3439j6z3c683j7w00wtm80000gn/T/ipykernel_58430/330735155.py:26: FutureWarning: The behavior of \n",
       "DataFrame concatenation with empty or all-NA entries is deprecated. In a future version, this will no longer \n",
       "exclude empty or all-NA columns when determining the result dtypes. To retain the old behavior, exclude the \n",
       "relevant entries before the concat operation.\n",
       "  results = pd.concat([results, normalized_data]) #.dropna(axis=1, how=\"all\")])\n"
      ]
     },
     "metadata": {},
     "output_type": "display_data"
    },
    {
     "data": {
      "text/html": [
       "<pre style=\"white-space:pre;overflow-x:auto;line-height:normal;font-family:Menlo,'DejaVu Sans Mono',consolas,'Courier New',monospace\">/var/folders/7t/k8q3439j6z3c683j7w00wtm80000gn/T/ipykernel_58430/330735155.py:26: FutureWarning: The behavior of \n",
       "DataFrame concatenation with empty or all-NA entries is deprecated. In a future version, this will no longer \n",
       "exclude empty or all-NA columns when determining the result dtypes. To retain the old behavior, exclude the \n",
       "relevant entries before the concat operation.\n",
       "  results = pd.concat([results, normalized_data]) #.dropna(axis=1, how=\"all\")])\n",
       "</pre>\n"
      ],
      "text/plain": [
       "/var/folders/7t/k8q3439j6z3c683j7w00wtm80000gn/T/ipykernel_58430/330735155.py:26: FutureWarning: The behavior of \n",
       "DataFrame concatenation with empty or all-NA entries is deprecated. In a future version, this will no longer \n",
       "exclude empty or all-NA columns when determining the result dtypes. To retain the old behavior, exclude the \n",
       "relevant entries before the concat operation.\n",
       "  results = pd.concat([results, normalized_data]) #.dropna(axis=1, how=\"all\")])\n"
      ]
     },
     "metadata": {},
     "output_type": "display_data"
    },
    {
     "data": {
      "text/html": [
       "<pre style=\"white-space:pre;overflow-x:auto;line-height:normal;font-family:Menlo,'DejaVu Sans Mono',consolas,'Courier New',monospace\">/var/folders/7t/k8q3439j6z3c683j7w00wtm80000gn/T/ipykernel_58430/330735155.py:26: FutureWarning: The behavior of \n",
       "DataFrame concatenation with empty or all-NA entries is deprecated. In a future version, this will no longer \n",
       "exclude empty or all-NA columns when determining the result dtypes. To retain the old behavior, exclude the \n",
       "relevant entries before the concat operation.\n",
       "  results = pd.concat([results, normalized_data]) #.dropna(axis=1, how=\"all\")])\n",
       "</pre>\n"
      ],
      "text/plain": [
       "/var/folders/7t/k8q3439j6z3c683j7w00wtm80000gn/T/ipykernel_58430/330735155.py:26: FutureWarning: The behavior of \n",
       "DataFrame concatenation with empty or all-NA entries is deprecated. In a future version, this will no longer \n",
       "exclude empty or all-NA columns when determining the result dtypes. To retain the old behavior, exclude the \n",
       "relevant entries before the concat operation.\n",
       "  results = pd.concat([results, normalized_data]) #.dropna(axis=1, how=\"all\")])\n"
      ]
     },
     "metadata": {},
     "output_type": "display_data"
    },
    {
     "data": {
      "text/html": [
       "<pre style=\"white-space:pre;overflow-x:auto;line-height:normal;font-family:Menlo,'DejaVu Sans Mono',consolas,'Courier New',monospace\">/var/folders/7t/k8q3439j6z3c683j7w00wtm80000gn/T/ipykernel_58430/330735155.py:26: FutureWarning: The behavior of \n",
       "DataFrame concatenation with empty or all-NA entries is deprecated. In a future version, this will no longer \n",
       "exclude empty or all-NA columns when determining the result dtypes. To retain the old behavior, exclude the \n",
       "relevant entries before the concat operation.\n",
       "  results = pd.concat([results, normalized_data]) #.dropna(axis=1, how=\"all\")])\n",
       "</pre>\n"
      ],
      "text/plain": [
       "/var/folders/7t/k8q3439j6z3c683j7w00wtm80000gn/T/ipykernel_58430/330735155.py:26: FutureWarning: The behavior of \n",
       "DataFrame concatenation with empty or all-NA entries is deprecated. In a future version, this will no longer \n",
       "exclude empty or all-NA columns when determining the result dtypes. To retain the old behavior, exclude the \n",
       "relevant entries before the concat operation.\n",
       "  results = pd.concat([results, normalized_data]) #.dropna(axis=1, how=\"all\")])\n"
      ]
     },
     "metadata": {},
     "output_type": "display_data"
    },
    {
     "data": {
      "text/html": [
       "<pre style=\"white-space:pre;overflow-x:auto;line-height:normal;font-family:Menlo,'DejaVu Sans Mono',consolas,'Courier New',monospace\">/var/folders/7t/k8q3439j6z3c683j7w00wtm80000gn/T/ipykernel_58430/330735155.py:26: FutureWarning: The behavior of \n",
       "DataFrame concatenation with empty or all-NA entries is deprecated. In a future version, this will no longer \n",
       "exclude empty or all-NA columns when determining the result dtypes. To retain the old behavior, exclude the \n",
       "relevant entries before the concat operation.\n",
       "  results = pd.concat([results, normalized_data]) #.dropna(axis=1, how=\"all\")])\n",
       "</pre>\n"
      ],
      "text/plain": [
       "/var/folders/7t/k8q3439j6z3c683j7w00wtm80000gn/T/ipykernel_58430/330735155.py:26: FutureWarning: The behavior of \n",
       "DataFrame concatenation with empty or all-NA entries is deprecated. In a future version, this will no longer \n",
       "exclude empty or all-NA columns when determining the result dtypes. To retain the old behavior, exclude the \n",
       "relevant entries before the concat operation.\n",
       "  results = pd.concat([results, normalized_data]) #.dropna(axis=1, how=\"all\")])\n"
      ]
     },
     "metadata": {},
     "output_type": "display_data"
    },
    {
     "data": {
      "text/html": [
       "<pre style=\"white-space:pre;overflow-x:auto;line-height:normal;font-family:Menlo,'DejaVu Sans Mono',consolas,'Courier New',monospace\">/var/folders/7t/k8q3439j6z3c683j7w00wtm80000gn/T/ipykernel_58430/330735155.py:26: FutureWarning: The behavior of \n",
       "DataFrame concatenation with empty or all-NA entries is deprecated. In a future version, this will no longer \n",
       "exclude empty or all-NA columns when determining the result dtypes. To retain the old behavior, exclude the \n",
       "relevant entries before the concat operation.\n",
       "  results = pd.concat([results, normalized_data]) #.dropna(axis=1, how=\"all\")])\n",
       "</pre>\n"
      ],
      "text/plain": [
       "/var/folders/7t/k8q3439j6z3c683j7w00wtm80000gn/T/ipykernel_58430/330735155.py:26: FutureWarning: The behavior of \n",
       "DataFrame concatenation with empty or all-NA entries is deprecated. In a future version, this will no longer \n",
       "exclude empty or all-NA columns when determining the result dtypes. To retain the old behavior, exclude the \n",
       "relevant entries before the concat operation.\n",
       "  results = pd.concat([results, normalized_data]) #.dropna(axis=1, how=\"all\")])\n"
      ]
     },
     "metadata": {},
     "output_type": "display_data"
    },
    {
     "data": {
      "text/html": [
       "<pre style=\"white-space:pre;overflow-x:auto;line-height:normal;font-family:Menlo,'DejaVu Sans Mono',consolas,'Courier New',monospace\">/var/folders/7t/k8q3439j6z3c683j7w00wtm80000gn/T/ipykernel_58430/330735155.py:26: FutureWarning: The behavior of \n",
       "DataFrame concatenation with empty or all-NA entries is deprecated. In a future version, this will no longer \n",
       "exclude empty or all-NA columns when determining the result dtypes. To retain the old behavior, exclude the \n",
       "relevant entries before the concat operation.\n",
       "  results = pd.concat([results, normalized_data]) #.dropna(axis=1, how=\"all\")])\n",
       "</pre>\n"
      ],
      "text/plain": [
       "/var/folders/7t/k8q3439j6z3c683j7w00wtm80000gn/T/ipykernel_58430/330735155.py:26: FutureWarning: The behavior of \n",
       "DataFrame concatenation with empty or all-NA entries is deprecated. In a future version, this will no longer \n",
       "exclude empty or all-NA columns when determining the result dtypes. To retain the old behavior, exclude the \n",
       "relevant entries before the concat operation.\n",
       "  results = pd.concat([results, normalized_data]) #.dropna(axis=1, how=\"all\")])\n"
      ]
     },
     "metadata": {},
     "output_type": "display_data"
    },
    {
     "data": {
      "text/html": [
       "<pre style=\"white-space:pre;overflow-x:auto;line-height:normal;font-family:Menlo,'DejaVu Sans Mono',consolas,'Courier New',monospace\">/var/folders/7t/k8q3439j6z3c683j7w00wtm80000gn/T/ipykernel_58430/330735155.py:26: FutureWarning: The behavior of \n",
       "DataFrame concatenation with empty or all-NA entries is deprecated. In a future version, this will no longer \n",
       "exclude empty or all-NA columns when determining the result dtypes. To retain the old behavior, exclude the \n",
       "relevant entries before the concat operation.\n",
       "  results = pd.concat([results, normalized_data]) #.dropna(axis=1, how=\"all\")])\n",
       "</pre>\n"
      ],
      "text/plain": [
       "/var/folders/7t/k8q3439j6z3c683j7w00wtm80000gn/T/ipykernel_58430/330735155.py:26: FutureWarning: The behavior of \n",
       "DataFrame concatenation with empty or all-NA entries is deprecated. In a future version, this will no longer \n",
       "exclude empty or all-NA columns when determining the result dtypes. To retain the old behavior, exclude the \n",
       "relevant entries before the concat operation.\n",
       "  results = pd.concat([results, normalized_data]) #.dropna(axis=1, how=\"all\")])\n"
      ]
     },
     "metadata": {},
     "output_type": "display_data"
    },
    {
     "data": {
      "text/html": [
       "<pre style=\"white-space:pre;overflow-x:auto;line-height:normal;font-family:Menlo,'DejaVu Sans Mono',consolas,'Courier New',monospace\">/var/folders/7t/k8q3439j6z3c683j7w00wtm80000gn/T/ipykernel_58430/330735155.py:26: FutureWarning: The behavior of \n",
       "DataFrame concatenation with empty or all-NA entries is deprecated. In a future version, this will no longer \n",
       "exclude empty or all-NA columns when determining the result dtypes. To retain the old behavior, exclude the \n",
       "relevant entries before the concat operation.\n",
       "  results = pd.concat([results, normalized_data]) #.dropna(axis=1, how=\"all\")])\n",
       "</pre>\n"
      ],
      "text/plain": [
       "/var/folders/7t/k8q3439j6z3c683j7w00wtm80000gn/T/ipykernel_58430/330735155.py:26: FutureWarning: The behavior of \n",
       "DataFrame concatenation with empty or all-NA entries is deprecated. In a future version, this will no longer \n",
       "exclude empty or all-NA columns when determining the result dtypes. To retain the old behavior, exclude the \n",
       "relevant entries before the concat operation.\n",
       "  results = pd.concat([results, normalized_data]) #.dropna(axis=1, how=\"all\")])\n"
      ]
     },
     "metadata": {},
     "output_type": "display_data"
    },
    {
     "data": {
      "text/html": [
       "<pre style=\"white-space:pre;overflow-x:auto;line-height:normal;font-family:Menlo,'DejaVu Sans Mono',consolas,'Courier New',monospace\">/var/folders/7t/k8q3439j6z3c683j7w00wtm80000gn/T/ipykernel_58430/330735155.py:26: FutureWarning: The behavior of \n",
       "DataFrame concatenation with empty or all-NA entries is deprecated. In a future version, this will no longer \n",
       "exclude empty or all-NA columns when determining the result dtypes. To retain the old behavior, exclude the \n",
       "relevant entries before the concat operation.\n",
       "  results = pd.concat([results, normalized_data]) #.dropna(axis=1, how=\"all\")])\n",
       "</pre>\n"
      ],
      "text/plain": [
       "/var/folders/7t/k8q3439j6z3c683j7w00wtm80000gn/T/ipykernel_58430/330735155.py:26: FutureWarning: The behavior of \n",
       "DataFrame concatenation with empty or all-NA entries is deprecated. In a future version, this will no longer \n",
       "exclude empty or all-NA columns when determining the result dtypes. To retain the old behavior, exclude the \n",
       "relevant entries before the concat operation.\n",
       "  results = pd.concat([results, normalized_data]) #.dropna(axis=1, how=\"all\")])\n"
      ]
     },
     "metadata": {},
     "output_type": "display_data"
    },
    {
     "data": {
      "text/html": [
       "<pre style=\"white-space:pre;overflow-x:auto;line-height:normal;font-family:Menlo,'DejaVu Sans Mono',consolas,'Courier New',monospace\">/var/folders/7t/k8q3439j6z3c683j7w00wtm80000gn/T/ipykernel_58430/330735155.py:26: FutureWarning: The behavior of \n",
       "DataFrame concatenation with empty or all-NA entries is deprecated. In a future version, this will no longer \n",
       "exclude empty or all-NA columns when determining the result dtypes. To retain the old behavior, exclude the \n",
       "relevant entries before the concat operation.\n",
       "  results = pd.concat([results, normalized_data]) #.dropna(axis=1, how=\"all\")])\n",
       "</pre>\n"
      ],
      "text/plain": [
       "/var/folders/7t/k8q3439j6z3c683j7w00wtm80000gn/T/ipykernel_58430/330735155.py:26: FutureWarning: The behavior of \n",
       "DataFrame concatenation with empty or all-NA entries is deprecated. In a future version, this will no longer \n",
       "exclude empty or all-NA columns when determining the result dtypes. To retain the old behavior, exclude the \n",
       "relevant entries before the concat operation.\n",
       "  results = pd.concat([results, normalized_data]) #.dropna(axis=1, how=\"all\")])\n"
      ]
     },
     "metadata": {},
     "output_type": "display_data"
    },
    {
     "data": {
      "text/html": [
       "<pre style=\"white-space:pre;overflow-x:auto;line-height:normal;font-family:Menlo,'DejaVu Sans Mono',consolas,'Courier New',monospace\">/var/folders/7t/k8q3439j6z3c683j7w00wtm80000gn/T/ipykernel_58430/330735155.py:26: FutureWarning: The behavior of \n",
       "DataFrame concatenation with empty or all-NA entries is deprecated. In a future version, this will no longer \n",
       "exclude empty or all-NA columns when determining the result dtypes. To retain the old behavior, exclude the \n",
       "relevant entries before the concat operation.\n",
       "  results = pd.concat([results, normalized_data]) #.dropna(axis=1, how=\"all\")])\n",
       "</pre>\n"
      ],
      "text/plain": [
       "/var/folders/7t/k8q3439j6z3c683j7w00wtm80000gn/T/ipykernel_58430/330735155.py:26: FutureWarning: The behavior of \n",
       "DataFrame concatenation with empty or all-NA entries is deprecated. In a future version, this will no longer \n",
       "exclude empty or all-NA columns when determining the result dtypes. To retain the old behavior, exclude the \n",
       "relevant entries before the concat operation.\n",
       "  results = pd.concat([results, normalized_data]) #.dropna(axis=1, how=\"all\")])\n"
      ]
     },
     "metadata": {},
     "output_type": "display_data"
    },
    {
     "data": {
      "text/html": [
       "<pre style=\"white-space:pre;overflow-x:auto;line-height:normal;font-family:Menlo,'DejaVu Sans Mono',consolas,'Courier New',monospace\">/var/folders/7t/k8q3439j6z3c683j7w00wtm80000gn/T/ipykernel_58430/330735155.py:26: FutureWarning: The behavior of \n",
       "DataFrame concatenation with empty or all-NA entries is deprecated. In a future version, this will no longer \n",
       "exclude empty or all-NA columns when determining the result dtypes. To retain the old behavior, exclude the \n",
       "relevant entries before the concat operation.\n",
       "  results = pd.concat([results, normalized_data]) #.dropna(axis=1, how=\"all\")])\n",
       "</pre>\n"
      ],
      "text/plain": [
       "/var/folders/7t/k8q3439j6z3c683j7w00wtm80000gn/T/ipykernel_58430/330735155.py:26: FutureWarning: The behavior of \n",
       "DataFrame concatenation with empty or all-NA entries is deprecated. In a future version, this will no longer \n",
       "exclude empty or all-NA columns when determining the result dtypes. To retain the old behavior, exclude the \n",
       "relevant entries before the concat operation.\n",
       "  results = pd.concat([results, normalized_data]) #.dropna(axis=1, how=\"all\")])\n"
      ]
     },
     "metadata": {},
     "output_type": "display_data"
    },
    {
     "data": {
      "text/html": [
       "<pre style=\"white-space:pre;overflow-x:auto;line-height:normal;font-family:Menlo,'DejaVu Sans Mono',consolas,'Courier New',monospace\">/var/folders/7t/k8q3439j6z3c683j7w00wtm80000gn/T/ipykernel_58430/330735155.py:26: FutureWarning: The behavior of \n",
       "DataFrame concatenation with empty or all-NA entries is deprecated. In a future version, this will no longer \n",
       "exclude empty or all-NA columns when determining the result dtypes. To retain the old behavior, exclude the \n",
       "relevant entries before the concat operation.\n",
       "  results = pd.concat([results, normalized_data]) #.dropna(axis=1, how=\"all\")])\n",
       "</pre>\n"
      ],
      "text/plain": [
       "/var/folders/7t/k8q3439j6z3c683j7w00wtm80000gn/T/ipykernel_58430/330735155.py:26: FutureWarning: The behavior of \n",
       "DataFrame concatenation with empty or all-NA entries is deprecated. In a future version, this will no longer \n",
       "exclude empty or all-NA columns when determining the result dtypes. To retain the old behavior, exclude the \n",
       "relevant entries before the concat operation.\n",
       "  results = pd.concat([results, normalized_data]) #.dropna(axis=1, how=\"all\")])\n"
      ]
     },
     "metadata": {},
     "output_type": "display_data"
    },
    {
     "data": {
      "text/html": [
       "<pre style=\"white-space:pre;overflow-x:auto;line-height:normal;font-family:Menlo,'DejaVu Sans Mono',consolas,'Courier New',monospace\">/var/folders/7t/k8q3439j6z3c683j7w00wtm80000gn/T/ipykernel_58430/330735155.py:26: FutureWarning: The behavior of \n",
       "DataFrame concatenation with empty or all-NA entries is deprecated. In a future version, this will no longer \n",
       "exclude empty or all-NA columns when determining the result dtypes. To retain the old behavior, exclude the \n",
       "relevant entries before the concat operation.\n",
       "  results = pd.concat([results, normalized_data]) #.dropna(axis=1, how=\"all\")])\n",
       "</pre>\n"
      ],
      "text/plain": [
       "/var/folders/7t/k8q3439j6z3c683j7w00wtm80000gn/T/ipykernel_58430/330735155.py:26: FutureWarning: The behavior of \n",
       "DataFrame concatenation with empty or all-NA entries is deprecated. In a future version, this will no longer \n",
       "exclude empty or all-NA columns when determining the result dtypes. To retain the old behavior, exclude the \n",
       "relevant entries before the concat operation.\n",
       "  results = pd.concat([results, normalized_data]) #.dropna(axis=1, how=\"all\")])\n"
      ]
     },
     "metadata": {},
     "output_type": "display_data"
    },
    {
     "data": {
      "text/html": [
       "<pre style=\"white-space:pre;overflow-x:auto;line-height:normal;font-family:Menlo,'DejaVu Sans Mono',consolas,'Courier New',monospace\">/var/folders/7t/k8q3439j6z3c683j7w00wtm80000gn/T/ipykernel_58430/330735155.py:26: FutureWarning: The behavior of \n",
       "DataFrame concatenation with empty or all-NA entries is deprecated. In a future version, this will no longer \n",
       "exclude empty or all-NA columns when determining the result dtypes. To retain the old behavior, exclude the \n",
       "relevant entries before the concat operation.\n",
       "  results = pd.concat([results, normalized_data]) #.dropna(axis=1, how=\"all\")])\n",
       "</pre>\n"
      ],
      "text/plain": [
       "/var/folders/7t/k8q3439j6z3c683j7w00wtm80000gn/T/ipykernel_58430/330735155.py:26: FutureWarning: The behavior of \n",
       "DataFrame concatenation with empty or all-NA entries is deprecated. In a future version, this will no longer \n",
       "exclude empty or all-NA columns when determining the result dtypes. To retain the old behavior, exclude the \n",
       "relevant entries before the concat operation.\n",
       "  results = pd.concat([results, normalized_data]) #.dropna(axis=1, how=\"all\")])\n"
      ]
     },
     "metadata": {},
     "output_type": "display_data"
    },
    {
     "data": {
      "text/html": [
       "<pre style=\"white-space:pre;overflow-x:auto;line-height:normal;font-family:Menlo,'DejaVu Sans Mono',consolas,'Courier New',monospace\">/var/folders/7t/k8q3439j6z3c683j7w00wtm80000gn/T/ipykernel_58430/330735155.py:26: FutureWarning: The behavior of \n",
       "DataFrame concatenation with empty or all-NA entries is deprecated. In a future version, this will no longer \n",
       "exclude empty or all-NA columns when determining the result dtypes. To retain the old behavior, exclude the \n",
       "relevant entries before the concat operation.\n",
       "  results = pd.concat([results, normalized_data]) #.dropna(axis=1, how=\"all\")])\n",
       "</pre>\n"
      ],
      "text/plain": [
       "/var/folders/7t/k8q3439j6z3c683j7w00wtm80000gn/T/ipykernel_58430/330735155.py:26: FutureWarning: The behavior of \n",
       "DataFrame concatenation with empty or all-NA entries is deprecated. In a future version, this will no longer \n",
       "exclude empty or all-NA columns when determining the result dtypes. To retain the old behavior, exclude the \n",
       "relevant entries before the concat operation.\n",
       "  results = pd.concat([results, normalized_data]) #.dropna(axis=1, how=\"all\")])\n"
      ]
     },
     "metadata": {},
     "output_type": "display_data"
    },
    {
     "data": {
      "text/html": [
       "<pre style=\"white-space:pre;overflow-x:auto;line-height:normal;font-family:Menlo,'DejaVu Sans Mono',consolas,'Courier New',monospace\">/var/folders/7t/k8q3439j6z3c683j7w00wtm80000gn/T/ipykernel_58430/330735155.py:26: FutureWarning: The behavior of \n",
       "DataFrame concatenation with empty or all-NA entries is deprecated. In a future version, this will no longer \n",
       "exclude empty or all-NA columns when determining the result dtypes. To retain the old behavior, exclude the \n",
       "relevant entries before the concat operation.\n",
       "  results = pd.concat([results, normalized_data]) #.dropna(axis=1, how=\"all\")])\n",
       "</pre>\n"
      ],
      "text/plain": [
       "/var/folders/7t/k8q3439j6z3c683j7w00wtm80000gn/T/ipykernel_58430/330735155.py:26: FutureWarning: The behavior of \n",
       "DataFrame concatenation with empty or all-NA entries is deprecated. In a future version, this will no longer \n",
       "exclude empty or all-NA columns when determining the result dtypes. To retain the old behavior, exclude the \n",
       "relevant entries before the concat operation.\n",
       "  results = pd.concat([results, normalized_data]) #.dropna(axis=1, how=\"all\")])\n"
      ]
     },
     "metadata": {},
     "output_type": "display_data"
    },
    {
     "data": {
      "text/html": [
       "<pre style=\"white-space:pre;overflow-x:auto;line-height:normal;font-family:Menlo,'DejaVu Sans Mono',consolas,'Courier New',monospace\">/var/folders/7t/k8q3439j6z3c683j7w00wtm80000gn/T/ipykernel_58430/330735155.py:26: FutureWarning: The behavior of \n",
       "DataFrame concatenation with empty or all-NA entries is deprecated. In a future version, this will no longer \n",
       "exclude empty or all-NA columns when determining the result dtypes. To retain the old behavior, exclude the \n",
       "relevant entries before the concat operation.\n",
       "  results = pd.concat([results, normalized_data]) #.dropna(axis=1, how=\"all\")])\n",
       "</pre>\n"
      ],
      "text/plain": [
       "/var/folders/7t/k8q3439j6z3c683j7w00wtm80000gn/T/ipykernel_58430/330735155.py:26: FutureWarning: The behavior of \n",
       "DataFrame concatenation with empty or all-NA entries is deprecated. In a future version, this will no longer \n",
       "exclude empty or all-NA columns when determining the result dtypes. To retain the old behavior, exclude the \n",
       "relevant entries before the concat operation.\n",
       "  results = pd.concat([results, normalized_data]) #.dropna(axis=1, how=\"all\")])\n"
      ]
     },
     "metadata": {},
     "output_type": "display_data"
    },
    {
     "data": {
      "text/html": [
       "<pre style=\"white-space:pre;overflow-x:auto;line-height:normal;font-family:Menlo,'DejaVu Sans Mono',consolas,'Courier New',monospace\">/var/folders/7t/k8q3439j6z3c683j7w00wtm80000gn/T/ipykernel_58430/330735155.py:26: FutureWarning: The behavior of \n",
       "DataFrame concatenation with empty or all-NA entries is deprecated. In a future version, this will no longer \n",
       "exclude empty or all-NA columns when determining the result dtypes. To retain the old behavior, exclude the \n",
       "relevant entries before the concat operation.\n",
       "  results = pd.concat([results, normalized_data]) #.dropna(axis=1, how=\"all\")])\n",
       "</pre>\n"
      ],
      "text/plain": [
       "/var/folders/7t/k8q3439j6z3c683j7w00wtm80000gn/T/ipykernel_58430/330735155.py:26: FutureWarning: The behavior of \n",
       "DataFrame concatenation with empty or all-NA entries is deprecated. In a future version, this will no longer \n",
       "exclude empty or all-NA columns when determining the result dtypes. To retain the old behavior, exclude the \n",
       "relevant entries before the concat operation.\n",
       "  results = pd.concat([results, normalized_data]) #.dropna(axis=1, how=\"all\")])\n"
      ]
     },
     "metadata": {},
     "output_type": "display_data"
    },
    {
     "data": {
      "text/html": [
       "<pre style=\"white-space:pre;overflow-x:auto;line-height:normal;font-family:Menlo,'DejaVu Sans Mono',consolas,'Courier New',monospace\">/var/folders/7t/k8q3439j6z3c683j7w00wtm80000gn/T/ipykernel_58430/330735155.py:26: FutureWarning: The behavior of \n",
       "DataFrame concatenation with empty or all-NA entries is deprecated. In a future version, this will no longer \n",
       "exclude empty or all-NA columns when determining the result dtypes. To retain the old behavior, exclude the \n",
       "relevant entries before the concat operation.\n",
       "  results = pd.concat([results, normalized_data]) #.dropna(axis=1, how=\"all\")])\n",
       "</pre>\n"
      ],
      "text/plain": [
       "/var/folders/7t/k8q3439j6z3c683j7w00wtm80000gn/T/ipykernel_58430/330735155.py:26: FutureWarning: The behavior of \n",
       "DataFrame concatenation with empty or all-NA entries is deprecated. In a future version, this will no longer \n",
       "exclude empty or all-NA columns when determining the result dtypes. To retain the old behavior, exclude the \n",
       "relevant entries before the concat operation.\n",
       "  results = pd.concat([results, normalized_data]) #.dropna(axis=1, how=\"all\")])\n"
      ]
     },
     "metadata": {},
     "output_type": "display_data"
    },
    {
     "data": {
      "text/html": [
       "<pre style=\"white-space:pre;overflow-x:auto;line-height:normal;font-family:Menlo,'DejaVu Sans Mono',consolas,'Courier New',monospace\">/var/folders/7t/k8q3439j6z3c683j7w00wtm80000gn/T/ipykernel_58430/330735155.py:26: FutureWarning: The behavior of \n",
       "DataFrame concatenation with empty or all-NA entries is deprecated. In a future version, this will no longer \n",
       "exclude empty or all-NA columns when determining the result dtypes. To retain the old behavior, exclude the \n",
       "relevant entries before the concat operation.\n",
       "  results = pd.concat([results, normalized_data]) #.dropna(axis=1, how=\"all\")])\n",
       "</pre>\n"
      ],
      "text/plain": [
       "/var/folders/7t/k8q3439j6z3c683j7w00wtm80000gn/T/ipykernel_58430/330735155.py:26: FutureWarning: The behavior of \n",
       "DataFrame concatenation with empty or all-NA entries is deprecated. In a future version, this will no longer \n",
       "exclude empty or all-NA columns when determining the result dtypes. To retain the old behavior, exclude the \n",
       "relevant entries before the concat operation.\n",
       "  results = pd.concat([results, normalized_data]) #.dropna(axis=1, how=\"all\")])\n"
      ]
     },
     "metadata": {},
     "output_type": "display_data"
    },
    {
     "data": {
      "text/html": [
       "<pre style=\"white-space:pre;overflow-x:auto;line-height:normal;font-family:Menlo,'DejaVu Sans Mono',consolas,'Courier New',monospace\">/var/folders/7t/k8q3439j6z3c683j7w00wtm80000gn/T/ipykernel_58430/330735155.py:26: FutureWarning: The behavior of \n",
       "DataFrame concatenation with empty or all-NA entries is deprecated. In a future version, this will no longer \n",
       "exclude empty or all-NA columns when determining the result dtypes. To retain the old behavior, exclude the \n",
       "relevant entries before the concat operation.\n",
       "  results = pd.concat([results, normalized_data]) #.dropna(axis=1, how=\"all\")])\n",
       "</pre>\n"
      ],
      "text/plain": [
       "/var/folders/7t/k8q3439j6z3c683j7w00wtm80000gn/T/ipykernel_58430/330735155.py:26: FutureWarning: The behavior of \n",
       "DataFrame concatenation with empty or all-NA entries is deprecated. In a future version, this will no longer \n",
       "exclude empty or all-NA columns when determining the result dtypes. To retain the old behavior, exclude the \n",
       "relevant entries before the concat operation.\n",
       "  results = pd.concat([results, normalized_data]) #.dropna(axis=1, how=\"all\")])\n"
      ]
     },
     "metadata": {},
     "output_type": "display_data"
    },
    {
     "data": {
      "text/html": [
       "<pre style=\"white-space:pre;overflow-x:auto;line-height:normal;font-family:Menlo,'DejaVu Sans Mono',consolas,'Courier New',monospace\">/var/folders/7t/k8q3439j6z3c683j7w00wtm80000gn/T/ipykernel_58430/330735155.py:26: FutureWarning: The behavior of \n",
       "DataFrame concatenation with empty or all-NA entries is deprecated. In a future version, this will no longer \n",
       "exclude empty or all-NA columns when determining the result dtypes. To retain the old behavior, exclude the \n",
       "relevant entries before the concat operation.\n",
       "  results = pd.concat([results, normalized_data]) #.dropna(axis=1, how=\"all\")])\n",
       "</pre>\n"
      ],
      "text/plain": [
       "/var/folders/7t/k8q3439j6z3c683j7w00wtm80000gn/T/ipykernel_58430/330735155.py:26: FutureWarning: The behavior of \n",
       "DataFrame concatenation with empty or all-NA entries is deprecated. In a future version, this will no longer \n",
       "exclude empty or all-NA columns when determining the result dtypes. To retain the old behavior, exclude the \n",
       "relevant entries before the concat operation.\n",
       "  results = pd.concat([results, normalized_data]) #.dropna(axis=1, how=\"all\")])\n"
      ]
     },
     "metadata": {},
     "output_type": "display_data"
    },
    {
     "data": {
      "text/html": [
       "<pre style=\"white-space:pre;overflow-x:auto;line-height:normal;font-family:Menlo,'DejaVu Sans Mono',consolas,'Courier New',monospace\">/var/folders/7t/k8q3439j6z3c683j7w00wtm80000gn/T/ipykernel_58430/330735155.py:26: FutureWarning: The behavior of \n",
       "DataFrame concatenation with empty or all-NA entries is deprecated. In a future version, this will no longer \n",
       "exclude empty or all-NA columns when determining the result dtypes. To retain the old behavior, exclude the \n",
       "relevant entries before the concat operation.\n",
       "  results = pd.concat([results, normalized_data]) #.dropna(axis=1, how=\"all\")])\n",
       "</pre>\n"
      ],
      "text/plain": [
       "/var/folders/7t/k8q3439j6z3c683j7w00wtm80000gn/T/ipykernel_58430/330735155.py:26: FutureWarning: The behavior of \n",
       "DataFrame concatenation with empty or all-NA entries is deprecated. In a future version, this will no longer \n",
       "exclude empty or all-NA columns when determining the result dtypes. To retain the old behavior, exclude the \n",
       "relevant entries before the concat operation.\n",
       "  results = pd.concat([results, normalized_data]) #.dropna(axis=1, how=\"all\")])\n"
      ]
     },
     "metadata": {},
     "output_type": "display_data"
    },
    {
     "data": {
      "text/html": [
       "<pre style=\"white-space:pre;overflow-x:auto;line-height:normal;font-family:Menlo,'DejaVu Sans Mono',consolas,'Courier New',monospace\">/var/folders/7t/k8q3439j6z3c683j7w00wtm80000gn/T/ipykernel_58430/330735155.py:26: FutureWarning: The behavior of \n",
       "DataFrame concatenation with empty or all-NA entries is deprecated. In a future version, this will no longer \n",
       "exclude empty or all-NA columns when determining the result dtypes. To retain the old behavior, exclude the \n",
       "relevant entries before the concat operation.\n",
       "  results = pd.concat([results, normalized_data]) #.dropna(axis=1, how=\"all\")])\n",
       "</pre>\n"
      ],
      "text/plain": [
       "/var/folders/7t/k8q3439j6z3c683j7w00wtm80000gn/T/ipykernel_58430/330735155.py:26: FutureWarning: The behavior of \n",
       "DataFrame concatenation with empty or all-NA entries is deprecated. In a future version, this will no longer \n",
       "exclude empty or all-NA columns when determining the result dtypes. To retain the old behavior, exclude the \n",
       "relevant entries before the concat operation.\n",
       "  results = pd.concat([results, normalized_data]) #.dropna(axis=1, how=\"all\")])\n"
      ]
     },
     "metadata": {},
     "output_type": "display_data"
    },
    {
     "data": {
      "text/html": [
       "<pre style=\"white-space:pre;overflow-x:auto;line-height:normal;font-family:Menlo,'DejaVu Sans Mono',consolas,'Courier New',monospace\">/var/folders/7t/k8q3439j6z3c683j7w00wtm80000gn/T/ipykernel_58430/330735155.py:26: FutureWarning: The behavior of \n",
       "DataFrame concatenation with empty or all-NA entries is deprecated. In a future version, this will no longer \n",
       "exclude empty or all-NA columns when determining the result dtypes. To retain the old behavior, exclude the \n",
       "relevant entries before the concat operation.\n",
       "  results = pd.concat([results, normalized_data]) #.dropna(axis=1, how=\"all\")])\n",
       "</pre>\n"
      ],
      "text/plain": [
       "/var/folders/7t/k8q3439j6z3c683j7w00wtm80000gn/T/ipykernel_58430/330735155.py:26: FutureWarning: The behavior of \n",
       "DataFrame concatenation with empty or all-NA entries is deprecated. In a future version, this will no longer \n",
       "exclude empty or all-NA columns when determining the result dtypes. To retain the old behavior, exclude the \n",
       "relevant entries before the concat operation.\n",
       "  results = pd.concat([results, normalized_data]) #.dropna(axis=1, how=\"all\")])\n"
      ]
     },
     "metadata": {},
     "output_type": "display_data"
    },
    {
     "data": {
      "text/html": [
       "<pre style=\"white-space:pre;overflow-x:auto;line-height:normal;font-family:Menlo,'DejaVu Sans Mono',consolas,'Courier New',monospace\">/var/folders/7t/k8q3439j6z3c683j7w00wtm80000gn/T/ipykernel_58430/330735155.py:26: FutureWarning: The behavior of \n",
       "DataFrame concatenation with empty or all-NA entries is deprecated. In a future version, this will no longer \n",
       "exclude empty or all-NA columns when determining the result dtypes. To retain the old behavior, exclude the \n",
       "relevant entries before the concat operation.\n",
       "  results = pd.concat([results, normalized_data]) #.dropna(axis=1, how=\"all\")])\n",
       "</pre>\n"
      ],
      "text/plain": [
       "/var/folders/7t/k8q3439j6z3c683j7w00wtm80000gn/T/ipykernel_58430/330735155.py:26: FutureWarning: The behavior of \n",
       "DataFrame concatenation with empty or all-NA entries is deprecated. In a future version, this will no longer \n",
       "exclude empty or all-NA columns when determining the result dtypes. To retain the old behavior, exclude the \n",
       "relevant entries before the concat operation.\n",
       "  results = pd.concat([results, normalized_data]) #.dropna(axis=1, how=\"all\")])\n"
      ]
     },
     "metadata": {},
     "output_type": "display_data"
    },
    {
     "data": {
      "text/html": [
       "<pre style=\"white-space:pre;overflow-x:auto;line-height:normal;font-family:Menlo,'DejaVu Sans Mono',consolas,'Courier New',monospace\">/var/folders/7t/k8q3439j6z3c683j7w00wtm80000gn/T/ipykernel_58430/330735155.py:26: FutureWarning: The behavior of \n",
       "DataFrame concatenation with empty or all-NA entries is deprecated. In a future version, this will no longer \n",
       "exclude empty or all-NA columns when determining the result dtypes. To retain the old behavior, exclude the \n",
       "relevant entries before the concat operation.\n",
       "  results = pd.concat([results, normalized_data]) #.dropna(axis=1, how=\"all\")])\n",
       "</pre>\n"
      ],
      "text/plain": [
       "/var/folders/7t/k8q3439j6z3c683j7w00wtm80000gn/T/ipykernel_58430/330735155.py:26: FutureWarning: The behavior of \n",
       "DataFrame concatenation with empty or all-NA entries is deprecated. In a future version, this will no longer \n",
       "exclude empty or all-NA columns when determining the result dtypes. To retain the old behavior, exclude the \n",
       "relevant entries before the concat operation.\n",
       "  results = pd.concat([results, normalized_data]) #.dropna(axis=1, how=\"all\")])\n"
      ]
     },
     "metadata": {},
     "output_type": "display_data"
    },
    {
     "data": {
      "text/html": [
       "<pre style=\"white-space:pre;overflow-x:auto;line-height:normal;font-family:Menlo,'DejaVu Sans Mono',consolas,'Courier New',monospace\">/var/folders/7t/k8q3439j6z3c683j7w00wtm80000gn/T/ipykernel_58430/330735155.py:26: FutureWarning: The behavior of \n",
       "DataFrame concatenation with empty or all-NA entries is deprecated. In a future version, this will no longer \n",
       "exclude empty or all-NA columns when determining the result dtypes. To retain the old behavior, exclude the \n",
       "relevant entries before the concat operation.\n",
       "  results = pd.concat([results, normalized_data]) #.dropna(axis=1, how=\"all\")])\n",
       "</pre>\n"
      ],
      "text/plain": [
       "/var/folders/7t/k8q3439j6z3c683j7w00wtm80000gn/T/ipykernel_58430/330735155.py:26: FutureWarning: The behavior of \n",
       "DataFrame concatenation with empty or all-NA entries is deprecated. In a future version, this will no longer \n",
       "exclude empty or all-NA columns when determining the result dtypes. To retain the old behavior, exclude the \n",
       "relevant entries before the concat operation.\n",
       "  results = pd.concat([results, normalized_data]) #.dropna(axis=1, how=\"all\")])\n"
      ]
     },
     "metadata": {},
     "output_type": "display_data"
    },
    {
     "data": {
      "text/html": [
       "<pre style=\"white-space:pre;overflow-x:auto;line-height:normal;font-family:Menlo,'DejaVu Sans Mono',consolas,'Courier New',monospace\">/var/folders/7t/k8q3439j6z3c683j7w00wtm80000gn/T/ipykernel_58430/330735155.py:26: FutureWarning: The behavior of \n",
       "DataFrame concatenation with empty or all-NA entries is deprecated. In a future version, this will no longer \n",
       "exclude empty or all-NA columns when determining the result dtypes. To retain the old behavior, exclude the \n",
       "relevant entries before the concat operation.\n",
       "  results = pd.concat([results, normalized_data]) #.dropna(axis=1, how=\"all\")])\n",
       "</pre>\n"
      ],
      "text/plain": [
       "/var/folders/7t/k8q3439j6z3c683j7w00wtm80000gn/T/ipykernel_58430/330735155.py:26: FutureWarning: The behavior of \n",
       "DataFrame concatenation with empty or all-NA entries is deprecated. In a future version, this will no longer \n",
       "exclude empty or all-NA columns when determining the result dtypes. To retain the old behavior, exclude the \n",
       "relevant entries before the concat operation.\n",
       "  results = pd.concat([results, normalized_data]) #.dropna(axis=1, how=\"all\")])\n"
      ]
     },
     "metadata": {},
     "output_type": "display_data"
    },
    {
     "data": {
      "text/html": [
       "<pre style=\"white-space:pre;overflow-x:auto;line-height:normal;font-family:Menlo,'DejaVu Sans Mono',consolas,'Courier New',monospace\">/var/folders/7t/k8q3439j6z3c683j7w00wtm80000gn/T/ipykernel_58430/330735155.py:26: FutureWarning: The behavior of \n",
       "DataFrame concatenation with empty or all-NA entries is deprecated. In a future version, this will no longer \n",
       "exclude empty or all-NA columns when determining the result dtypes. To retain the old behavior, exclude the \n",
       "relevant entries before the concat operation.\n",
       "  results = pd.concat([results, normalized_data]) #.dropna(axis=1, how=\"all\")])\n",
       "</pre>\n"
      ],
      "text/plain": [
       "/var/folders/7t/k8q3439j6z3c683j7w00wtm80000gn/T/ipykernel_58430/330735155.py:26: FutureWarning: The behavior of \n",
       "DataFrame concatenation with empty or all-NA entries is deprecated. In a future version, this will no longer \n",
       "exclude empty or all-NA columns when determining the result dtypes. To retain the old behavior, exclude the \n",
       "relevant entries before the concat operation.\n",
       "  results = pd.concat([results, normalized_data]) #.dropna(axis=1, how=\"all\")])\n"
      ]
     },
     "metadata": {},
     "output_type": "display_data"
    },
    {
     "data": {
      "text/html": [
       "<pre style=\"white-space:pre;overflow-x:auto;line-height:normal;font-family:Menlo,'DejaVu Sans Mono',consolas,'Courier New',monospace\">/var/folders/7t/k8q3439j6z3c683j7w00wtm80000gn/T/ipykernel_58430/330735155.py:26: FutureWarning: The behavior of \n",
       "DataFrame concatenation with empty or all-NA entries is deprecated. In a future version, this will no longer \n",
       "exclude empty or all-NA columns when determining the result dtypes. To retain the old behavior, exclude the \n",
       "relevant entries before the concat operation.\n",
       "  results = pd.concat([results, normalized_data]) #.dropna(axis=1, how=\"all\")])\n",
       "</pre>\n"
      ],
      "text/plain": [
       "/var/folders/7t/k8q3439j6z3c683j7w00wtm80000gn/T/ipykernel_58430/330735155.py:26: FutureWarning: The behavior of \n",
       "DataFrame concatenation with empty or all-NA entries is deprecated. In a future version, this will no longer \n",
       "exclude empty or all-NA columns when determining the result dtypes. To retain the old behavior, exclude the \n",
       "relevant entries before the concat operation.\n",
       "  results = pd.concat([results, normalized_data]) #.dropna(axis=1, how=\"all\")])\n"
      ]
     },
     "metadata": {},
     "output_type": "display_data"
    },
    {
     "data": {
      "text/html": [
       "<pre style=\"white-space:pre;overflow-x:auto;line-height:normal;font-family:Menlo,'DejaVu Sans Mono',consolas,'Courier New',monospace\">/var/folders/7t/k8q3439j6z3c683j7w00wtm80000gn/T/ipykernel_58430/330735155.py:26: FutureWarning: The behavior of \n",
       "DataFrame concatenation with empty or all-NA entries is deprecated. In a future version, this will no longer \n",
       "exclude empty or all-NA columns when determining the result dtypes. To retain the old behavior, exclude the \n",
       "relevant entries before the concat operation.\n",
       "  results = pd.concat([results, normalized_data]) #.dropna(axis=1, how=\"all\")])\n",
       "</pre>\n"
      ],
      "text/plain": [
       "/var/folders/7t/k8q3439j6z3c683j7w00wtm80000gn/T/ipykernel_58430/330735155.py:26: FutureWarning: The behavior of \n",
       "DataFrame concatenation with empty or all-NA entries is deprecated. In a future version, this will no longer \n",
       "exclude empty or all-NA columns when determining the result dtypes. To retain the old behavior, exclude the \n",
       "relevant entries before the concat operation.\n",
       "  results = pd.concat([results, normalized_data]) #.dropna(axis=1, how=\"all\")])\n"
      ]
     },
     "metadata": {},
     "output_type": "display_data"
    },
    {
     "data": {
      "text/html": [
       "<pre style=\"white-space:pre;overflow-x:auto;line-height:normal;font-family:Menlo,'DejaVu Sans Mono',consolas,'Courier New',monospace\">/var/folders/7t/k8q3439j6z3c683j7w00wtm80000gn/T/ipykernel_58430/330735155.py:26: FutureWarning: The behavior of \n",
       "DataFrame concatenation with empty or all-NA entries is deprecated. In a future version, this will no longer \n",
       "exclude empty or all-NA columns when determining the result dtypes. To retain the old behavior, exclude the \n",
       "relevant entries before the concat operation.\n",
       "  results = pd.concat([results, normalized_data]) #.dropna(axis=1, how=\"all\")])\n",
       "</pre>\n"
      ],
      "text/plain": [
       "/var/folders/7t/k8q3439j6z3c683j7w00wtm80000gn/T/ipykernel_58430/330735155.py:26: FutureWarning: The behavior of \n",
       "DataFrame concatenation with empty or all-NA entries is deprecated. In a future version, this will no longer \n",
       "exclude empty or all-NA columns when determining the result dtypes. To retain the old behavior, exclude the \n",
       "relevant entries before the concat operation.\n",
       "  results = pd.concat([results, normalized_data]) #.dropna(axis=1, how=\"all\")])\n"
      ]
     },
     "metadata": {},
     "output_type": "display_data"
    },
    {
     "data": {
      "text/html": [
       "<pre style=\"white-space:pre;overflow-x:auto;line-height:normal;font-family:Menlo,'DejaVu Sans Mono',consolas,'Courier New',monospace\">/var/folders/7t/k8q3439j6z3c683j7w00wtm80000gn/T/ipykernel_58430/330735155.py:26: FutureWarning: The behavior of \n",
       "DataFrame concatenation with empty or all-NA entries is deprecated. In a future version, this will no longer \n",
       "exclude empty or all-NA columns when determining the result dtypes. To retain the old behavior, exclude the \n",
       "relevant entries before the concat operation.\n",
       "  results = pd.concat([results, normalized_data]) #.dropna(axis=1, how=\"all\")])\n",
       "</pre>\n"
      ],
      "text/plain": [
       "/var/folders/7t/k8q3439j6z3c683j7w00wtm80000gn/T/ipykernel_58430/330735155.py:26: FutureWarning: The behavior of \n",
       "DataFrame concatenation with empty or all-NA entries is deprecated. In a future version, this will no longer \n",
       "exclude empty or all-NA columns when determining the result dtypes. To retain the old behavior, exclude the \n",
       "relevant entries before the concat operation.\n",
       "  results = pd.concat([results, normalized_data]) #.dropna(axis=1, how=\"all\")])\n"
      ]
     },
     "metadata": {},
     "output_type": "display_data"
    },
    {
     "data": {
      "text/html": [
       "<pre style=\"white-space:pre;overflow-x:auto;line-height:normal;font-family:Menlo,'DejaVu Sans Mono',consolas,'Courier New',monospace\">/var/folders/7t/k8q3439j6z3c683j7w00wtm80000gn/T/ipykernel_58430/330735155.py:26: FutureWarning: The behavior of \n",
       "DataFrame concatenation with empty or all-NA entries is deprecated. In a future version, this will no longer \n",
       "exclude empty or all-NA columns when determining the result dtypes. To retain the old behavior, exclude the \n",
       "relevant entries before the concat operation.\n",
       "  results = pd.concat([results, normalized_data]) #.dropna(axis=1, how=\"all\")])\n",
       "</pre>\n"
      ],
      "text/plain": [
       "/var/folders/7t/k8q3439j6z3c683j7w00wtm80000gn/T/ipykernel_58430/330735155.py:26: FutureWarning: The behavior of \n",
       "DataFrame concatenation with empty or all-NA entries is deprecated. In a future version, this will no longer \n",
       "exclude empty or all-NA columns when determining the result dtypes. To retain the old behavior, exclude the \n",
       "relevant entries before the concat operation.\n",
       "  results = pd.concat([results, normalized_data]) #.dropna(axis=1, how=\"all\")])\n"
      ]
     },
     "metadata": {},
     "output_type": "display_data"
    },
    {
     "data": {
      "text/html": [
       "<pre style=\"white-space:pre;overflow-x:auto;line-height:normal;font-family:Menlo,'DejaVu Sans Mono',consolas,'Courier New',monospace\">/var/folders/7t/k8q3439j6z3c683j7w00wtm80000gn/T/ipykernel_58430/330735155.py:26: FutureWarning: The behavior of \n",
       "DataFrame concatenation with empty or all-NA entries is deprecated. In a future version, this will no longer \n",
       "exclude empty or all-NA columns when determining the result dtypes. To retain the old behavior, exclude the \n",
       "relevant entries before the concat operation.\n",
       "  results = pd.concat([results, normalized_data]) #.dropna(axis=1, how=\"all\")])\n",
       "</pre>\n"
      ],
      "text/plain": [
       "/var/folders/7t/k8q3439j6z3c683j7w00wtm80000gn/T/ipykernel_58430/330735155.py:26: FutureWarning: The behavior of \n",
       "DataFrame concatenation with empty or all-NA entries is deprecated. In a future version, this will no longer \n",
       "exclude empty or all-NA columns when determining the result dtypes. To retain the old behavior, exclude the \n",
       "relevant entries before the concat operation.\n",
       "  results = pd.concat([results, normalized_data]) #.dropna(axis=1, how=\"all\")])\n"
      ]
     },
     "metadata": {},
     "output_type": "display_data"
    },
    {
     "data": {
      "text/html": [
       "<pre style=\"white-space:pre;overflow-x:auto;line-height:normal;font-family:Menlo,'DejaVu Sans Mono',consolas,'Courier New',monospace\">/var/folders/7t/k8q3439j6z3c683j7w00wtm80000gn/T/ipykernel_58430/330735155.py:26: FutureWarning: The behavior of \n",
       "DataFrame concatenation with empty or all-NA entries is deprecated. In a future version, this will no longer \n",
       "exclude empty or all-NA columns when determining the result dtypes. To retain the old behavior, exclude the \n",
       "relevant entries before the concat operation.\n",
       "  results = pd.concat([results, normalized_data]) #.dropna(axis=1, how=\"all\")])\n",
       "</pre>\n"
      ],
      "text/plain": [
       "/var/folders/7t/k8q3439j6z3c683j7w00wtm80000gn/T/ipykernel_58430/330735155.py:26: FutureWarning: The behavior of \n",
       "DataFrame concatenation with empty or all-NA entries is deprecated. In a future version, this will no longer \n",
       "exclude empty or all-NA columns when determining the result dtypes. To retain the old behavior, exclude the \n",
       "relevant entries before the concat operation.\n",
       "  results = pd.concat([results, normalized_data]) #.dropna(axis=1, how=\"all\")])\n"
      ]
     },
     "metadata": {},
     "output_type": "display_data"
    },
    {
     "data": {
      "text/html": [
       "<pre style=\"white-space:pre;overflow-x:auto;line-height:normal;font-family:Menlo,'DejaVu Sans Mono',consolas,'Courier New',monospace\">/var/folders/7t/k8q3439j6z3c683j7w00wtm80000gn/T/ipykernel_58430/330735155.py:26: FutureWarning: The behavior of \n",
       "DataFrame concatenation with empty or all-NA entries is deprecated. In a future version, this will no longer \n",
       "exclude empty or all-NA columns when determining the result dtypes. To retain the old behavior, exclude the \n",
       "relevant entries before the concat operation.\n",
       "  results = pd.concat([results, normalized_data]) #.dropna(axis=1, how=\"all\")])\n",
       "</pre>\n"
      ],
      "text/plain": [
       "/var/folders/7t/k8q3439j6z3c683j7w00wtm80000gn/T/ipykernel_58430/330735155.py:26: FutureWarning: The behavior of \n",
       "DataFrame concatenation with empty or all-NA entries is deprecated. In a future version, this will no longer \n",
       "exclude empty or all-NA columns when determining the result dtypes. To retain the old behavior, exclude the \n",
       "relevant entries before the concat operation.\n",
       "  results = pd.concat([results, normalized_data]) #.dropna(axis=1, how=\"all\")])\n"
      ]
     },
     "metadata": {},
     "output_type": "display_data"
    },
    {
     "data": {
      "text/html": [
       "<pre style=\"white-space:pre;overflow-x:auto;line-height:normal;font-family:Menlo,'DejaVu Sans Mono',consolas,'Courier New',monospace\">/var/folders/7t/k8q3439j6z3c683j7w00wtm80000gn/T/ipykernel_58430/330735155.py:26: FutureWarning: The behavior of \n",
       "DataFrame concatenation with empty or all-NA entries is deprecated. In a future version, this will no longer \n",
       "exclude empty or all-NA columns when determining the result dtypes. To retain the old behavior, exclude the \n",
       "relevant entries before the concat operation.\n",
       "  results = pd.concat([results, normalized_data]) #.dropna(axis=1, how=\"all\")])\n",
       "</pre>\n"
      ],
      "text/plain": [
       "/var/folders/7t/k8q3439j6z3c683j7w00wtm80000gn/T/ipykernel_58430/330735155.py:26: FutureWarning: The behavior of \n",
       "DataFrame concatenation with empty or all-NA entries is deprecated. In a future version, this will no longer \n",
       "exclude empty or all-NA columns when determining the result dtypes. To retain the old behavior, exclude the \n",
       "relevant entries before the concat operation.\n",
       "  results = pd.concat([results, normalized_data]) #.dropna(axis=1, how=\"all\")])\n"
      ]
     },
     "metadata": {},
     "output_type": "display_data"
    },
    {
     "data": {
      "text/html": [
       "<pre style=\"white-space:pre;overflow-x:auto;line-height:normal;font-family:Menlo,'DejaVu Sans Mono',consolas,'Courier New',monospace\">/var/folders/7t/k8q3439j6z3c683j7w00wtm80000gn/T/ipykernel_58430/330735155.py:26: FutureWarning: The behavior of \n",
       "DataFrame concatenation with empty or all-NA entries is deprecated. In a future version, this will no longer \n",
       "exclude empty or all-NA columns when determining the result dtypes. To retain the old behavior, exclude the \n",
       "relevant entries before the concat operation.\n",
       "  results = pd.concat([results, normalized_data]) #.dropna(axis=1, how=\"all\")])\n",
       "</pre>\n"
      ],
      "text/plain": [
       "/var/folders/7t/k8q3439j6z3c683j7w00wtm80000gn/T/ipykernel_58430/330735155.py:26: FutureWarning: The behavior of \n",
       "DataFrame concatenation with empty or all-NA entries is deprecated. In a future version, this will no longer \n",
       "exclude empty or all-NA columns when determining the result dtypes. To retain the old behavior, exclude the \n",
       "relevant entries before the concat operation.\n",
       "  results = pd.concat([results, normalized_data]) #.dropna(axis=1, how=\"all\")])\n"
      ]
     },
     "metadata": {},
     "output_type": "display_data"
    },
    {
     "data": {
      "text/html": [
       "<pre style=\"white-space:pre;overflow-x:auto;line-height:normal;font-family:Menlo,'DejaVu Sans Mono',consolas,'Courier New',monospace\">/var/folders/7t/k8q3439j6z3c683j7w00wtm80000gn/T/ipykernel_58430/330735155.py:26: FutureWarning: The behavior of \n",
       "DataFrame concatenation with empty or all-NA entries is deprecated. In a future version, this will no longer \n",
       "exclude empty or all-NA columns when determining the result dtypes. To retain the old behavior, exclude the \n",
       "relevant entries before the concat operation.\n",
       "  results = pd.concat([results, normalized_data]) #.dropna(axis=1, how=\"all\")])\n",
       "</pre>\n"
      ],
      "text/plain": [
       "/var/folders/7t/k8q3439j6z3c683j7w00wtm80000gn/T/ipykernel_58430/330735155.py:26: FutureWarning: The behavior of \n",
       "DataFrame concatenation with empty or all-NA entries is deprecated. In a future version, this will no longer \n",
       "exclude empty or all-NA columns when determining the result dtypes. To retain the old behavior, exclude the \n",
       "relevant entries before the concat operation.\n",
       "  results = pd.concat([results, normalized_data]) #.dropna(axis=1, how=\"all\")])\n"
      ]
     },
     "metadata": {},
     "output_type": "display_data"
    },
    {
     "data": {
      "text/html": [
       "<pre style=\"white-space:pre;overflow-x:auto;line-height:normal;font-family:Menlo,'DejaVu Sans Mono',consolas,'Courier New',monospace\">/var/folders/7t/k8q3439j6z3c683j7w00wtm80000gn/T/ipykernel_58430/330735155.py:26: FutureWarning: The behavior of \n",
       "DataFrame concatenation with empty or all-NA entries is deprecated. In a future version, this will no longer \n",
       "exclude empty or all-NA columns when determining the result dtypes. To retain the old behavior, exclude the \n",
       "relevant entries before the concat operation.\n",
       "  results = pd.concat([results, normalized_data]) #.dropna(axis=1, how=\"all\")])\n",
       "</pre>\n"
      ],
      "text/plain": [
       "/var/folders/7t/k8q3439j6z3c683j7w00wtm80000gn/T/ipykernel_58430/330735155.py:26: FutureWarning: The behavior of \n",
       "DataFrame concatenation with empty or all-NA entries is deprecated. In a future version, this will no longer \n",
       "exclude empty or all-NA columns when determining the result dtypes. To retain the old behavior, exclude the \n",
       "relevant entries before the concat operation.\n",
       "  results = pd.concat([results, normalized_data]) #.dropna(axis=1, how=\"all\")])\n"
      ]
     },
     "metadata": {},
     "output_type": "display_data"
    },
    {
     "data": {
      "text/html": [
       "<pre style=\"white-space:pre;overflow-x:auto;line-height:normal;font-family:Menlo,'DejaVu Sans Mono',consolas,'Courier New',monospace\">/var/folders/7t/k8q3439j6z3c683j7w00wtm80000gn/T/ipykernel_58430/330735155.py:26: FutureWarning: The behavior of \n",
       "DataFrame concatenation with empty or all-NA entries is deprecated. In a future version, this will no longer \n",
       "exclude empty or all-NA columns when determining the result dtypes. To retain the old behavior, exclude the \n",
       "relevant entries before the concat operation.\n",
       "  results = pd.concat([results, normalized_data]) #.dropna(axis=1, how=\"all\")])\n",
       "</pre>\n"
      ],
      "text/plain": [
       "/var/folders/7t/k8q3439j6z3c683j7w00wtm80000gn/T/ipykernel_58430/330735155.py:26: FutureWarning: The behavior of \n",
       "DataFrame concatenation with empty or all-NA entries is deprecated. In a future version, this will no longer \n",
       "exclude empty or all-NA columns when determining the result dtypes. To retain the old behavior, exclude the \n",
       "relevant entries before the concat operation.\n",
       "  results = pd.concat([results, normalized_data]) #.dropna(axis=1, how=\"all\")])\n"
      ]
     },
     "metadata": {},
     "output_type": "display_data"
    },
    {
     "data": {
      "text/html": [
       "<pre style=\"white-space:pre;overflow-x:auto;line-height:normal;font-family:Menlo,'DejaVu Sans Mono',consolas,'Courier New',monospace\">/var/folders/7t/k8q3439j6z3c683j7w00wtm80000gn/T/ipykernel_58430/330735155.py:26: FutureWarning: The behavior of \n",
       "DataFrame concatenation with empty or all-NA entries is deprecated. In a future version, this will no longer \n",
       "exclude empty or all-NA columns when determining the result dtypes. To retain the old behavior, exclude the \n",
       "relevant entries before the concat operation.\n",
       "  results = pd.concat([results, normalized_data]) #.dropna(axis=1, how=\"all\")])\n",
       "</pre>\n"
      ],
      "text/plain": [
       "/var/folders/7t/k8q3439j6z3c683j7w00wtm80000gn/T/ipykernel_58430/330735155.py:26: FutureWarning: The behavior of \n",
       "DataFrame concatenation with empty or all-NA entries is deprecated. In a future version, this will no longer \n",
       "exclude empty or all-NA columns when determining the result dtypes. To retain the old behavior, exclude the \n",
       "relevant entries before the concat operation.\n",
       "  results = pd.concat([results, normalized_data]) #.dropna(axis=1, how=\"all\")])\n"
      ]
     },
     "metadata": {},
     "output_type": "display_data"
    },
    {
     "data": {
      "text/html": [
       "<pre style=\"white-space:pre;overflow-x:auto;line-height:normal;font-family:Menlo,'DejaVu Sans Mono',consolas,'Courier New',monospace\">/var/folders/7t/k8q3439j6z3c683j7w00wtm80000gn/T/ipykernel_58430/330735155.py:26: FutureWarning: The behavior of \n",
       "DataFrame concatenation with empty or all-NA entries is deprecated. In a future version, this will no longer \n",
       "exclude empty or all-NA columns when determining the result dtypes. To retain the old behavior, exclude the \n",
       "relevant entries before the concat operation.\n",
       "  results = pd.concat([results, normalized_data]) #.dropna(axis=1, how=\"all\")])\n",
       "</pre>\n"
      ],
      "text/plain": [
       "/var/folders/7t/k8q3439j6z3c683j7w00wtm80000gn/T/ipykernel_58430/330735155.py:26: FutureWarning: The behavior of \n",
       "DataFrame concatenation with empty or all-NA entries is deprecated. In a future version, this will no longer \n",
       "exclude empty or all-NA columns when determining the result dtypes. To retain the old behavior, exclude the \n",
       "relevant entries before the concat operation.\n",
       "  results = pd.concat([results, normalized_data]) #.dropna(axis=1, how=\"all\")])\n"
      ]
     },
     "metadata": {},
     "output_type": "display_data"
    },
    {
     "data": {
      "text/html": [
       "<pre style=\"white-space:pre;overflow-x:auto;line-height:normal;font-family:Menlo,'DejaVu Sans Mono',consolas,'Courier New',monospace\">/var/folders/7t/k8q3439j6z3c683j7w00wtm80000gn/T/ipykernel_58430/330735155.py:26: FutureWarning: The behavior of \n",
       "DataFrame concatenation with empty or all-NA entries is deprecated. In a future version, this will no longer \n",
       "exclude empty or all-NA columns when determining the result dtypes. To retain the old behavior, exclude the \n",
       "relevant entries before the concat operation.\n",
       "  results = pd.concat([results, normalized_data]) #.dropna(axis=1, how=\"all\")])\n",
       "</pre>\n"
      ],
      "text/plain": [
       "/var/folders/7t/k8q3439j6z3c683j7w00wtm80000gn/T/ipykernel_58430/330735155.py:26: FutureWarning: The behavior of \n",
       "DataFrame concatenation with empty or all-NA entries is deprecated. In a future version, this will no longer \n",
       "exclude empty or all-NA columns when determining the result dtypes. To retain the old behavior, exclude the \n",
       "relevant entries before the concat operation.\n",
       "  results = pd.concat([results, normalized_data]) #.dropna(axis=1, how=\"all\")])\n"
      ]
     },
     "metadata": {},
     "output_type": "display_data"
    },
    {
     "data": {
      "text/html": [
       "<pre style=\"white-space:pre;overflow-x:auto;line-height:normal;font-family:Menlo,'DejaVu Sans Mono',consolas,'Courier New',monospace\">/var/folders/7t/k8q3439j6z3c683j7w00wtm80000gn/T/ipykernel_58430/330735155.py:26: FutureWarning: The behavior of \n",
       "DataFrame concatenation with empty or all-NA entries is deprecated. In a future version, this will no longer \n",
       "exclude empty or all-NA columns when determining the result dtypes. To retain the old behavior, exclude the \n",
       "relevant entries before the concat operation.\n",
       "  results = pd.concat([results, normalized_data]) #.dropna(axis=1, how=\"all\")])\n",
       "</pre>\n"
      ],
      "text/plain": [
       "/var/folders/7t/k8q3439j6z3c683j7w00wtm80000gn/T/ipykernel_58430/330735155.py:26: FutureWarning: The behavior of \n",
       "DataFrame concatenation with empty or all-NA entries is deprecated. In a future version, this will no longer \n",
       "exclude empty or all-NA columns when determining the result dtypes. To retain the old behavior, exclude the \n",
       "relevant entries before the concat operation.\n",
       "  results = pd.concat([results, normalized_data]) #.dropna(axis=1, how=\"all\")])\n"
      ]
     },
     "metadata": {},
     "output_type": "display_data"
    },
    {
     "data": {
      "text/html": [
       "<pre style=\"white-space:pre;overflow-x:auto;line-height:normal;font-family:Menlo,'DejaVu Sans Mono',consolas,'Courier New',monospace\">/var/folders/7t/k8q3439j6z3c683j7w00wtm80000gn/T/ipykernel_58430/330735155.py:26: FutureWarning: The behavior of \n",
       "DataFrame concatenation with empty or all-NA entries is deprecated. In a future version, this will no longer \n",
       "exclude empty or all-NA columns when determining the result dtypes. To retain the old behavior, exclude the \n",
       "relevant entries before the concat operation.\n",
       "  results = pd.concat([results, normalized_data]) #.dropna(axis=1, how=\"all\")])\n",
       "</pre>\n"
      ],
      "text/plain": [
       "/var/folders/7t/k8q3439j6z3c683j7w00wtm80000gn/T/ipykernel_58430/330735155.py:26: FutureWarning: The behavior of \n",
       "DataFrame concatenation with empty or all-NA entries is deprecated. In a future version, this will no longer \n",
       "exclude empty or all-NA columns when determining the result dtypes. To retain the old behavior, exclude the \n",
       "relevant entries before the concat operation.\n",
       "  results = pd.concat([results, normalized_data]) #.dropna(axis=1, how=\"all\")])\n"
      ]
     },
     "metadata": {},
     "output_type": "display_data"
    },
    {
     "data": {
      "text/html": [
       "<pre style=\"white-space:pre;overflow-x:auto;line-height:normal;font-family:Menlo,'DejaVu Sans Mono',consolas,'Courier New',monospace\">/var/folders/7t/k8q3439j6z3c683j7w00wtm80000gn/T/ipykernel_58430/330735155.py:26: FutureWarning: The behavior of \n",
       "DataFrame concatenation with empty or all-NA entries is deprecated. In a future version, this will no longer \n",
       "exclude empty or all-NA columns when determining the result dtypes. To retain the old behavior, exclude the \n",
       "relevant entries before the concat operation.\n",
       "  results = pd.concat([results, normalized_data]) #.dropna(axis=1, how=\"all\")])\n",
       "</pre>\n"
      ],
      "text/plain": [
       "/var/folders/7t/k8q3439j6z3c683j7w00wtm80000gn/T/ipykernel_58430/330735155.py:26: FutureWarning: The behavior of \n",
       "DataFrame concatenation with empty or all-NA entries is deprecated. In a future version, this will no longer \n",
       "exclude empty or all-NA columns when determining the result dtypes. To retain the old behavior, exclude the \n",
       "relevant entries before the concat operation.\n",
       "  results = pd.concat([results, normalized_data]) #.dropna(axis=1, how=\"all\")])\n"
      ]
     },
     "metadata": {},
     "output_type": "display_data"
    },
    {
     "data": {
      "text/html": [
       "<pre style=\"white-space:pre;overflow-x:auto;line-height:normal;font-family:Menlo,'DejaVu Sans Mono',consolas,'Courier New',monospace\">/var/folders/7t/k8q3439j6z3c683j7w00wtm80000gn/T/ipykernel_58430/330735155.py:26: FutureWarning: The behavior of \n",
       "DataFrame concatenation with empty or all-NA entries is deprecated. In a future version, this will no longer \n",
       "exclude empty or all-NA columns when determining the result dtypes. To retain the old behavior, exclude the \n",
       "relevant entries before the concat operation.\n",
       "  results = pd.concat([results, normalized_data]) #.dropna(axis=1, how=\"all\")])\n",
       "</pre>\n"
      ],
      "text/plain": [
       "/var/folders/7t/k8q3439j6z3c683j7w00wtm80000gn/T/ipykernel_58430/330735155.py:26: FutureWarning: The behavior of \n",
       "DataFrame concatenation with empty or all-NA entries is deprecated. In a future version, this will no longer \n",
       "exclude empty or all-NA columns when determining the result dtypes. To retain the old behavior, exclude the \n",
       "relevant entries before the concat operation.\n",
       "  results = pd.concat([results, normalized_data]) #.dropna(axis=1, how=\"all\")])\n"
      ]
     },
     "metadata": {},
     "output_type": "display_data"
    },
    {
     "data": {
      "text/html": [
       "<pre style=\"white-space:pre;overflow-x:auto;line-height:normal;font-family:Menlo,'DejaVu Sans Mono',consolas,'Courier New',monospace\">/var/folders/7t/k8q3439j6z3c683j7w00wtm80000gn/T/ipykernel_58430/330735155.py:26: FutureWarning: The behavior of \n",
       "DataFrame concatenation with empty or all-NA entries is deprecated. In a future version, this will no longer \n",
       "exclude empty or all-NA columns when determining the result dtypes. To retain the old behavior, exclude the \n",
       "relevant entries before the concat operation.\n",
       "  results = pd.concat([results, normalized_data]) #.dropna(axis=1, how=\"all\")])\n",
       "</pre>\n"
      ],
      "text/plain": [
       "/var/folders/7t/k8q3439j6z3c683j7w00wtm80000gn/T/ipykernel_58430/330735155.py:26: FutureWarning: The behavior of \n",
       "DataFrame concatenation with empty or all-NA entries is deprecated. In a future version, this will no longer \n",
       "exclude empty or all-NA columns when determining the result dtypes. To retain the old behavior, exclude the \n",
       "relevant entries before the concat operation.\n",
       "  results = pd.concat([results, normalized_data]) #.dropna(axis=1, how=\"all\")])\n"
      ]
     },
     "metadata": {},
     "output_type": "display_data"
    },
    {
     "data": {
      "text/html": [
       "<pre style=\"white-space:pre;overflow-x:auto;line-height:normal;font-family:Menlo,'DejaVu Sans Mono',consolas,'Courier New',monospace\">/var/folders/7t/k8q3439j6z3c683j7w00wtm80000gn/T/ipykernel_58430/330735155.py:26: FutureWarning: The behavior of \n",
       "DataFrame concatenation with empty or all-NA entries is deprecated. In a future version, this will no longer \n",
       "exclude empty or all-NA columns when determining the result dtypes. To retain the old behavior, exclude the \n",
       "relevant entries before the concat operation.\n",
       "  results = pd.concat([results, normalized_data]) #.dropna(axis=1, how=\"all\")])\n",
       "</pre>\n"
      ],
      "text/plain": [
       "/var/folders/7t/k8q3439j6z3c683j7w00wtm80000gn/T/ipykernel_58430/330735155.py:26: FutureWarning: The behavior of \n",
       "DataFrame concatenation with empty or all-NA entries is deprecated. In a future version, this will no longer \n",
       "exclude empty or all-NA columns when determining the result dtypes. To retain the old behavior, exclude the \n",
       "relevant entries before the concat operation.\n",
       "  results = pd.concat([results, normalized_data]) #.dropna(axis=1, how=\"all\")])\n"
      ]
     },
     "metadata": {},
     "output_type": "display_data"
    },
    {
     "data": {
      "text/html": [
       "<pre style=\"white-space:pre;overflow-x:auto;line-height:normal;font-family:Menlo,'DejaVu Sans Mono',consolas,'Courier New',monospace\">/var/folders/7t/k8q3439j6z3c683j7w00wtm80000gn/T/ipykernel_58430/330735155.py:26: FutureWarning: The behavior of \n",
       "DataFrame concatenation with empty or all-NA entries is deprecated. In a future version, this will no longer \n",
       "exclude empty or all-NA columns when determining the result dtypes. To retain the old behavior, exclude the \n",
       "relevant entries before the concat operation.\n",
       "  results = pd.concat([results, normalized_data]) #.dropna(axis=1, how=\"all\")])\n",
       "</pre>\n"
      ],
      "text/plain": [
       "/var/folders/7t/k8q3439j6z3c683j7w00wtm80000gn/T/ipykernel_58430/330735155.py:26: FutureWarning: The behavior of \n",
       "DataFrame concatenation with empty or all-NA entries is deprecated. In a future version, this will no longer \n",
       "exclude empty or all-NA columns when determining the result dtypes. To retain the old behavior, exclude the \n",
       "relevant entries before the concat operation.\n",
       "  results = pd.concat([results, normalized_data]) #.dropna(axis=1, how=\"all\")])\n"
      ]
     },
     "metadata": {},
     "output_type": "display_data"
    },
    {
     "data": {
      "text/html": [
       "<pre style=\"white-space:pre;overflow-x:auto;line-height:normal;font-family:Menlo,'DejaVu Sans Mono',consolas,'Courier New',monospace\">/var/folders/7t/k8q3439j6z3c683j7w00wtm80000gn/T/ipykernel_58430/330735155.py:26: FutureWarning: The behavior of \n",
       "DataFrame concatenation with empty or all-NA entries is deprecated. In a future version, this will no longer \n",
       "exclude empty or all-NA columns when determining the result dtypes. To retain the old behavior, exclude the \n",
       "relevant entries before the concat operation.\n",
       "  results = pd.concat([results, normalized_data]) #.dropna(axis=1, how=\"all\")])\n",
       "</pre>\n"
      ],
      "text/plain": [
       "/var/folders/7t/k8q3439j6z3c683j7w00wtm80000gn/T/ipykernel_58430/330735155.py:26: FutureWarning: The behavior of \n",
       "DataFrame concatenation with empty or all-NA entries is deprecated. In a future version, this will no longer \n",
       "exclude empty or all-NA columns when determining the result dtypes. To retain the old behavior, exclude the \n",
       "relevant entries before the concat operation.\n",
       "  results = pd.concat([results, normalized_data]) #.dropna(axis=1, how=\"all\")])\n"
      ]
     },
     "metadata": {},
     "output_type": "display_data"
    },
    {
     "data": {
      "text/html": [
       "<pre style=\"white-space:pre;overflow-x:auto;line-height:normal;font-family:Menlo,'DejaVu Sans Mono',consolas,'Courier New',monospace\">/var/folders/7t/k8q3439j6z3c683j7w00wtm80000gn/T/ipykernel_58430/330735155.py:26: FutureWarning: The behavior of \n",
       "DataFrame concatenation with empty or all-NA entries is deprecated. In a future version, this will no longer \n",
       "exclude empty or all-NA columns when determining the result dtypes. To retain the old behavior, exclude the \n",
       "relevant entries before the concat operation.\n",
       "  results = pd.concat([results, normalized_data]) #.dropna(axis=1, how=\"all\")])\n",
       "</pre>\n"
      ],
      "text/plain": [
       "/var/folders/7t/k8q3439j6z3c683j7w00wtm80000gn/T/ipykernel_58430/330735155.py:26: FutureWarning: The behavior of \n",
       "DataFrame concatenation with empty or all-NA entries is deprecated. In a future version, this will no longer \n",
       "exclude empty or all-NA columns when determining the result dtypes. To retain the old behavior, exclude the \n",
       "relevant entries before the concat operation.\n",
       "  results = pd.concat([results, normalized_data]) #.dropna(axis=1, how=\"all\")])\n"
      ]
     },
     "metadata": {},
     "output_type": "display_data"
    },
    {
     "data": {
      "text/html": [
       "<pre style=\"white-space:pre;overflow-x:auto;line-height:normal;font-family:Menlo,'DejaVu Sans Mono',consolas,'Courier New',monospace\">/var/folders/7t/k8q3439j6z3c683j7w00wtm80000gn/T/ipykernel_58430/330735155.py:26: FutureWarning: The behavior of \n",
       "DataFrame concatenation with empty or all-NA entries is deprecated. In a future version, this will no longer \n",
       "exclude empty or all-NA columns when determining the result dtypes. To retain the old behavior, exclude the \n",
       "relevant entries before the concat operation.\n",
       "  results = pd.concat([results, normalized_data]) #.dropna(axis=1, how=\"all\")])\n",
       "</pre>\n"
      ],
      "text/plain": [
       "/var/folders/7t/k8q3439j6z3c683j7w00wtm80000gn/T/ipykernel_58430/330735155.py:26: FutureWarning: The behavior of \n",
       "DataFrame concatenation with empty or all-NA entries is deprecated. In a future version, this will no longer \n",
       "exclude empty or all-NA columns when determining the result dtypes. To retain the old behavior, exclude the \n",
       "relevant entries before the concat operation.\n",
       "  results = pd.concat([results, normalized_data]) #.dropna(axis=1, how=\"all\")])\n"
      ]
     },
     "metadata": {},
     "output_type": "display_data"
    },
    {
     "data": {
      "text/html": [
       "<pre style=\"white-space:pre;overflow-x:auto;line-height:normal;font-family:Menlo,'DejaVu Sans Mono',consolas,'Courier New',monospace\">/var/folders/7t/k8q3439j6z3c683j7w00wtm80000gn/T/ipykernel_58430/330735155.py:26: FutureWarning: The behavior of \n",
       "DataFrame concatenation with empty or all-NA entries is deprecated. In a future version, this will no longer \n",
       "exclude empty or all-NA columns when determining the result dtypes. To retain the old behavior, exclude the \n",
       "relevant entries before the concat operation.\n",
       "  results = pd.concat([results, normalized_data]) #.dropna(axis=1, how=\"all\")])\n",
       "</pre>\n"
      ],
      "text/plain": [
       "/var/folders/7t/k8q3439j6z3c683j7w00wtm80000gn/T/ipykernel_58430/330735155.py:26: FutureWarning: The behavior of \n",
       "DataFrame concatenation with empty or all-NA entries is deprecated. In a future version, this will no longer \n",
       "exclude empty or all-NA columns when determining the result dtypes. To retain the old behavior, exclude the \n",
       "relevant entries before the concat operation.\n",
       "  results = pd.concat([results, normalized_data]) #.dropna(axis=1, how=\"all\")])\n"
      ]
     },
     "metadata": {},
     "output_type": "display_data"
    },
    {
     "data": {
      "text/html": [
       "<pre style=\"white-space:pre;overflow-x:auto;line-height:normal;font-family:Menlo,'DejaVu Sans Mono',consolas,'Courier New',monospace\">/var/folders/7t/k8q3439j6z3c683j7w00wtm80000gn/T/ipykernel_58430/330735155.py:26: FutureWarning: The behavior of \n",
       "DataFrame concatenation with empty or all-NA entries is deprecated. In a future version, this will no longer \n",
       "exclude empty or all-NA columns when determining the result dtypes. To retain the old behavior, exclude the \n",
       "relevant entries before the concat operation.\n",
       "  results = pd.concat([results, normalized_data]) #.dropna(axis=1, how=\"all\")])\n",
       "</pre>\n"
      ],
      "text/plain": [
       "/var/folders/7t/k8q3439j6z3c683j7w00wtm80000gn/T/ipykernel_58430/330735155.py:26: FutureWarning: The behavior of \n",
       "DataFrame concatenation with empty or all-NA entries is deprecated. In a future version, this will no longer \n",
       "exclude empty or all-NA columns when determining the result dtypes. To retain the old behavior, exclude the \n",
       "relevant entries before the concat operation.\n",
       "  results = pd.concat([results, normalized_data]) #.dropna(axis=1, how=\"all\")])\n"
      ]
     },
     "metadata": {},
     "output_type": "display_data"
    },
    {
     "data": {
      "text/html": [
       "<pre style=\"white-space:pre;overflow-x:auto;line-height:normal;font-family:Menlo,'DejaVu Sans Mono',consolas,'Courier New',monospace\">/var/folders/7t/k8q3439j6z3c683j7w00wtm80000gn/T/ipykernel_58430/330735155.py:26: FutureWarning: The behavior of \n",
       "DataFrame concatenation with empty or all-NA entries is deprecated. In a future version, this will no longer \n",
       "exclude empty or all-NA columns when determining the result dtypes. To retain the old behavior, exclude the \n",
       "relevant entries before the concat operation.\n",
       "  results = pd.concat([results, normalized_data]) #.dropna(axis=1, how=\"all\")])\n",
       "</pre>\n"
      ],
      "text/plain": [
       "/var/folders/7t/k8q3439j6z3c683j7w00wtm80000gn/T/ipykernel_58430/330735155.py:26: FutureWarning: The behavior of \n",
       "DataFrame concatenation with empty or all-NA entries is deprecated. In a future version, this will no longer \n",
       "exclude empty or all-NA columns when determining the result dtypes. To retain the old behavior, exclude the \n",
       "relevant entries before the concat operation.\n",
       "  results = pd.concat([results, normalized_data]) #.dropna(axis=1, how=\"all\")])\n"
      ]
     },
     "metadata": {},
     "output_type": "display_data"
    },
    {
     "data": {
      "text/html": [
       "<pre style=\"white-space:pre;overflow-x:auto;line-height:normal;font-family:Menlo,'DejaVu Sans Mono',consolas,'Courier New',monospace\">/var/folders/7t/k8q3439j6z3c683j7w00wtm80000gn/T/ipykernel_58430/330735155.py:26: FutureWarning: The behavior of \n",
       "DataFrame concatenation with empty or all-NA entries is deprecated. In a future version, this will no longer \n",
       "exclude empty or all-NA columns when determining the result dtypes. To retain the old behavior, exclude the \n",
       "relevant entries before the concat operation.\n",
       "  results = pd.concat([results, normalized_data]) #.dropna(axis=1, how=\"all\")])\n",
       "</pre>\n"
      ],
      "text/plain": [
       "/var/folders/7t/k8q3439j6z3c683j7w00wtm80000gn/T/ipykernel_58430/330735155.py:26: FutureWarning: The behavior of \n",
       "DataFrame concatenation with empty or all-NA entries is deprecated. In a future version, this will no longer \n",
       "exclude empty or all-NA columns when determining the result dtypes. To retain the old behavior, exclude the \n",
       "relevant entries before the concat operation.\n",
       "  results = pd.concat([results, normalized_data]) #.dropna(axis=1, how=\"all\")])\n"
      ]
     },
     "metadata": {},
     "output_type": "display_data"
    },
    {
     "data": {
      "text/html": [
       "<pre style=\"white-space:pre;overflow-x:auto;line-height:normal;font-family:Menlo,'DejaVu Sans Mono',consolas,'Courier New',monospace\">/var/folders/7t/k8q3439j6z3c683j7w00wtm80000gn/T/ipykernel_58430/330735155.py:26: FutureWarning: The behavior of \n",
       "DataFrame concatenation with empty or all-NA entries is deprecated. In a future version, this will no longer \n",
       "exclude empty or all-NA columns when determining the result dtypes. To retain the old behavior, exclude the \n",
       "relevant entries before the concat operation.\n",
       "  results = pd.concat([results, normalized_data]) #.dropna(axis=1, how=\"all\")])\n",
       "</pre>\n"
      ],
      "text/plain": [
       "/var/folders/7t/k8q3439j6z3c683j7w00wtm80000gn/T/ipykernel_58430/330735155.py:26: FutureWarning: The behavior of \n",
       "DataFrame concatenation with empty or all-NA entries is deprecated. In a future version, this will no longer \n",
       "exclude empty or all-NA columns when determining the result dtypes. To retain the old behavior, exclude the \n",
       "relevant entries before the concat operation.\n",
       "  results = pd.concat([results, normalized_data]) #.dropna(axis=1, how=\"all\")])\n"
      ]
     },
     "metadata": {},
     "output_type": "display_data"
    },
    {
     "data": {
      "text/html": [
       "<pre style=\"white-space:pre;overflow-x:auto;line-height:normal;font-family:Menlo,'DejaVu Sans Mono',consolas,'Courier New',monospace\">/var/folders/7t/k8q3439j6z3c683j7w00wtm80000gn/T/ipykernel_58430/330735155.py:26: FutureWarning: The behavior of \n",
       "DataFrame concatenation with empty or all-NA entries is deprecated. In a future version, this will no longer \n",
       "exclude empty or all-NA columns when determining the result dtypes. To retain the old behavior, exclude the \n",
       "relevant entries before the concat operation.\n",
       "  results = pd.concat([results, normalized_data]) #.dropna(axis=1, how=\"all\")])\n",
       "</pre>\n"
      ],
      "text/plain": [
       "/var/folders/7t/k8q3439j6z3c683j7w00wtm80000gn/T/ipykernel_58430/330735155.py:26: FutureWarning: The behavior of \n",
       "DataFrame concatenation with empty or all-NA entries is deprecated. In a future version, this will no longer \n",
       "exclude empty or all-NA columns when determining the result dtypes. To retain the old behavior, exclude the \n",
       "relevant entries before the concat operation.\n",
       "  results = pd.concat([results, normalized_data]) #.dropna(axis=1, how=\"all\")])\n"
      ]
     },
     "metadata": {},
     "output_type": "display_data"
    },
    {
     "data": {
      "text/html": [
       "<pre style=\"white-space:pre;overflow-x:auto;line-height:normal;font-family:Menlo,'DejaVu Sans Mono',consolas,'Courier New',monospace\">/var/folders/7t/k8q3439j6z3c683j7w00wtm80000gn/T/ipykernel_58430/330735155.py:26: FutureWarning: The behavior of \n",
       "DataFrame concatenation with empty or all-NA entries is deprecated. In a future version, this will no longer \n",
       "exclude empty or all-NA columns when determining the result dtypes. To retain the old behavior, exclude the \n",
       "relevant entries before the concat operation.\n",
       "  results = pd.concat([results, normalized_data]) #.dropna(axis=1, how=\"all\")])\n",
       "</pre>\n"
      ],
      "text/plain": [
       "/var/folders/7t/k8q3439j6z3c683j7w00wtm80000gn/T/ipykernel_58430/330735155.py:26: FutureWarning: The behavior of \n",
       "DataFrame concatenation with empty or all-NA entries is deprecated. In a future version, this will no longer \n",
       "exclude empty or all-NA columns when determining the result dtypes. To retain the old behavior, exclude the \n",
       "relevant entries before the concat operation.\n",
       "  results = pd.concat([results, normalized_data]) #.dropna(axis=1, how=\"all\")])\n"
      ]
     },
     "metadata": {},
     "output_type": "display_data"
    },
    {
     "data": {
      "text/html": [
       "<pre style=\"white-space:pre;overflow-x:auto;line-height:normal;font-family:Menlo,'DejaVu Sans Mono',consolas,'Courier New',monospace\">/var/folders/7t/k8q3439j6z3c683j7w00wtm80000gn/T/ipykernel_58430/330735155.py:26: FutureWarning: The behavior of \n",
       "DataFrame concatenation with empty or all-NA entries is deprecated. In a future version, this will no longer \n",
       "exclude empty or all-NA columns when determining the result dtypes. To retain the old behavior, exclude the \n",
       "relevant entries before the concat operation.\n",
       "  results = pd.concat([results, normalized_data]) #.dropna(axis=1, how=\"all\")])\n",
       "</pre>\n"
      ],
      "text/plain": [
       "/var/folders/7t/k8q3439j6z3c683j7w00wtm80000gn/T/ipykernel_58430/330735155.py:26: FutureWarning: The behavior of \n",
       "DataFrame concatenation with empty or all-NA entries is deprecated. In a future version, this will no longer \n",
       "exclude empty or all-NA columns when determining the result dtypes. To retain the old behavior, exclude the \n",
       "relevant entries before the concat operation.\n",
       "  results = pd.concat([results, normalized_data]) #.dropna(axis=1, how=\"all\")])\n"
      ]
     },
     "metadata": {},
     "output_type": "display_data"
    },
    {
     "data": {
      "text/html": [
       "<pre style=\"white-space:pre;overflow-x:auto;line-height:normal;font-family:Menlo,'DejaVu Sans Mono',consolas,'Courier New',monospace\">/var/folders/7t/k8q3439j6z3c683j7w00wtm80000gn/T/ipykernel_58430/330735155.py:26: FutureWarning: The behavior of \n",
       "DataFrame concatenation with empty or all-NA entries is deprecated. In a future version, this will no longer \n",
       "exclude empty or all-NA columns when determining the result dtypes. To retain the old behavior, exclude the \n",
       "relevant entries before the concat operation.\n",
       "  results = pd.concat([results, normalized_data]) #.dropna(axis=1, how=\"all\")])\n",
       "</pre>\n"
      ],
      "text/plain": [
       "/var/folders/7t/k8q3439j6z3c683j7w00wtm80000gn/T/ipykernel_58430/330735155.py:26: FutureWarning: The behavior of \n",
       "DataFrame concatenation with empty or all-NA entries is deprecated. In a future version, this will no longer \n",
       "exclude empty or all-NA columns when determining the result dtypes. To retain the old behavior, exclude the \n",
       "relevant entries before the concat operation.\n",
       "  results = pd.concat([results, normalized_data]) #.dropna(axis=1, how=\"all\")])\n"
      ]
     },
     "metadata": {},
     "output_type": "display_data"
    },
    {
     "data": {
      "text/html": [
       "<pre style=\"white-space:pre;overflow-x:auto;line-height:normal;font-family:Menlo,'DejaVu Sans Mono',consolas,'Courier New',monospace\">/var/folders/7t/k8q3439j6z3c683j7w00wtm80000gn/T/ipykernel_58430/330735155.py:26: FutureWarning: The behavior of \n",
       "DataFrame concatenation with empty or all-NA entries is deprecated. In a future version, this will no longer \n",
       "exclude empty or all-NA columns when determining the result dtypes. To retain the old behavior, exclude the \n",
       "relevant entries before the concat operation.\n",
       "  results = pd.concat([results, normalized_data]) #.dropna(axis=1, how=\"all\")])\n",
       "</pre>\n"
      ],
      "text/plain": [
       "/var/folders/7t/k8q3439j6z3c683j7w00wtm80000gn/T/ipykernel_58430/330735155.py:26: FutureWarning: The behavior of \n",
       "DataFrame concatenation with empty or all-NA entries is deprecated. In a future version, this will no longer \n",
       "exclude empty or all-NA columns when determining the result dtypes. To retain the old behavior, exclude the \n",
       "relevant entries before the concat operation.\n",
       "  results = pd.concat([results, normalized_data]) #.dropna(axis=1, how=\"all\")])\n"
      ]
     },
     "metadata": {},
     "output_type": "display_data"
    },
    {
     "data": {
      "text/html": [
       "<pre style=\"white-space:pre;overflow-x:auto;line-height:normal;font-family:Menlo,'DejaVu Sans Mono',consolas,'Courier New',monospace\">/var/folders/7t/k8q3439j6z3c683j7w00wtm80000gn/T/ipykernel_58430/330735155.py:26: FutureWarning: The behavior of \n",
       "DataFrame concatenation with empty or all-NA entries is deprecated. In a future version, this will no longer \n",
       "exclude empty or all-NA columns when determining the result dtypes. To retain the old behavior, exclude the \n",
       "relevant entries before the concat operation.\n",
       "  results = pd.concat([results, normalized_data]) #.dropna(axis=1, how=\"all\")])\n",
       "</pre>\n"
      ],
      "text/plain": [
       "/var/folders/7t/k8q3439j6z3c683j7w00wtm80000gn/T/ipykernel_58430/330735155.py:26: FutureWarning: The behavior of \n",
       "DataFrame concatenation with empty or all-NA entries is deprecated. In a future version, this will no longer \n",
       "exclude empty or all-NA columns when determining the result dtypes. To retain the old behavior, exclude the \n",
       "relevant entries before the concat operation.\n",
       "  results = pd.concat([results, normalized_data]) #.dropna(axis=1, how=\"all\")])\n"
      ]
     },
     "metadata": {},
     "output_type": "display_data"
    },
    {
     "data": {
      "text/html": [
       "<pre style=\"white-space:pre;overflow-x:auto;line-height:normal;font-family:Menlo,'DejaVu Sans Mono',consolas,'Courier New',monospace\">/var/folders/7t/k8q3439j6z3c683j7w00wtm80000gn/T/ipykernel_58430/330735155.py:26: FutureWarning: The behavior of \n",
       "DataFrame concatenation with empty or all-NA entries is deprecated. In a future version, this will no longer \n",
       "exclude empty or all-NA columns when determining the result dtypes. To retain the old behavior, exclude the \n",
       "relevant entries before the concat operation.\n",
       "  results = pd.concat([results, normalized_data]) #.dropna(axis=1, how=\"all\")])\n",
       "</pre>\n"
      ],
      "text/plain": [
       "/var/folders/7t/k8q3439j6z3c683j7w00wtm80000gn/T/ipykernel_58430/330735155.py:26: FutureWarning: The behavior of \n",
       "DataFrame concatenation with empty or all-NA entries is deprecated. In a future version, this will no longer \n",
       "exclude empty or all-NA columns when determining the result dtypes. To retain the old behavior, exclude the \n",
       "relevant entries before the concat operation.\n",
       "  results = pd.concat([results, normalized_data]) #.dropna(axis=1, how=\"all\")])\n"
      ]
     },
     "metadata": {},
     "output_type": "display_data"
    },
    {
     "data": {
      "text/html": [
       "<pre style=\"white-space:pre;overflow-x:auto;line-height:normal;font-family:Menlo,'DejaVu Sans Mono',consolas,'Courier New',monospace\">/var/folders/7t/k8q3439j6z3c683j7w00wtm80000gn/T/ipykernel_58430/330735155.py:26: FutureWarning: The behavior of \n",
       "DataFrame concatenation with empty or all-NA entries is deprecated. In a future version, this will no longer \n",
       "exclude empty or all-NA columns when determining the result dtypes. To retain the old behavior, exclude the \n",
       "relevant entries before the concat operation.\n",
       "  results = pd.concat([results, normalized_data]) #.dropna(axis=1, how=\"all\")])\n",
       "</pre>\n"
      ],
      "text/plain": [
       "/var/folders/7t/k8q3439j6z3c683j7w00wtm80000gn/T/ipykernel_58430/330735155.py:26: FutureWarning: The behavior of \n",
       "DataFrame concatenation with empty or all-NA entries is deprecated. In a future version, this will no longer \n",
       "exclude empty or all-NA columns when determining the result dtypes. To retain the old behavior, exclude the \n",
       "relevant entries before the concat operation.\n",
       "  results = pd.concat([results, normalized_data]) #.dropna(axis=1, how=\"all\")])\n"
      ]
     },
     "metadata": {},
     "output_type": "display_data"
    },
    {
     "data": {
      "text/html": [
       "<pre style=\"white-space:pre;overflow-x:auto;line-height:normal;font-family:Menlo,'DejaVu Sans Mono',consolas,'Courier New',monospace\">/var/folders/7t/k8q3439j6z3c683j7w00wtm80000gn/T/ipykernel_58430/330735155.py:26: FutureWarning: The behavior of \n",
       "DataFrame concatenation with empty or all-NA entries is deprecated. In a future version, this will no longer \n",
       "exclude empty or all-NA columns when determining the result dtypes. To retain the old behavior, exclude the \n",
       "relevant entries before the concat operation.\n",
       "  results = pd.concat([results, normalized_data]) #.dropna(axis=1, how=\"all\")])\n",
       "</pre>\n"
      ],
      "text/plain": [
       "/var/folders/7t/k8q3439j6z3c683j7w00wtm80000gn/T/ipykernel_58430/330735155.py:26: FutureWarning: The behavior of \n",
       "DataFrame concatenation with empty or all-NA entries is deprecated. In a future version, this will no longer \n",
       "exclude empty or all-NA columns when determining the result dtypes. To retain the old behavior, exclude the \n",
       "relevant entries before the concat operation.\n",
       "  results = pd.concat([results, normalized_data]) #.dropna(axis=1, how=\"all\")])\n"
      ]
     },
     "metadata": {},
     "output_type": "display_data"
    },
    {
     "data": {
      "text/html": [
       "<pre style=\"white-space:pre;overflow-x:auto;line-height:normal;font-family:Menlo,'DejaVu Sans Mono',consolas,'Courier New',monospace\">/var/folders/7t/k8q3439j6z3c683j7w00wtm80000gn/T/ipykernel_58430/330735155.py:26: FutureWarning: The behavior of \n",
       "DataFrame concatenation with empty or all-NA entries is deprecated. In a future version, this will no longer \n",
       "exclude empty or all-NA columns when determining the result dtypes. To retain the old behavior, exclude the \n",
       "relevant entries before the concat operation.\n",
       "  results = pd.concat([results, normalized_data]) #.dropna(axis=1, how=\"all\")])\n",
       "</pre>\n"
      ],
      "text/plain": [
       "/var/folders/7t/k8q3439j6z3c683j7w00wtm80000gn/T/ipykernel_58430/330735155.py:26: FutureWarning: The behavior of \n",
       "DataFrame concatenation with empty or all-NA entries is deprecated. In a future version, this will no longer \n",
       "exclude empty or all-NA columns when determining the result dtypes. To retain the old behavior, exclude the \n",
       "relevant entries before the concat operation.\n",
       "  results = pd.concat([results, normalized_data]) #.dropna(axis=1, how=\"all\")])\n"
      ]
     },
     "metadata": {},
     "output_type": "display_data"
    },
    {
     "data": {
      "text/html": [
       "<pre style=\"white-space:pre;overflow-x:auto;line-height:normal;font-family:Menlo,'DejaVu Sans Mono',consolas,'Courier New',monospace\">/var/folders/7t/k8q3439j6z3c683j7w00wtm80000gn/T/ipykernel_58430/330735155.py:26: FutureWarning: The behavior of \n",
       "DataFrame concatenation with empty or all-NA entries is deprecated. In a future version, this will no longer \n",
       "exclude empty or all-NA columns when determining the result dtypes. To retain the old behavior, exclude the \n",
       "relevant entries before the concat operation.\n",
       "  results = pd.concat([results, normalized_data]) #.dropna(axis=1, how=\"all\")])\n",
       "</pre>\n"
      ],
      "text/plain": [
       "/var/folders/7t/k8q3439j6z3c683j7w00wtm80000gn/T/ipykernel_58430/330735155.py:26: FutureWarning: The behavior of \n",
       "DataFrame concatenation with empty or all-NA entries is deprecated. In a future version, this will no longer \n",
       "exclude empty or all-NA columns when determining the result dtypes. To retain the old behavior, exclude the \n",
       "relevant entries before the concat operation.\n",
       "  results = pd.concat([results, normalized_data]) #.dropna(axis=1, how=\"all\")])\n"
      ]
     },
     "metadata": {},
     "output_type": "display_data"
    },
    {
     "data": {
      "text/html": [
       "<pre style=\"white-space:pre;overflow-x:auto;line-height:normal;font-family:Menlo,'DejaVu Sans Mono',consolas,'Courier New',monospace\">/var/folders/7t/k8q3439j6z3c683j7w00wtm80000gn/T/ipykernel_58430/330735155.py:26: FutureWarning: The behavior of \n",
       "DataFrame concatenation with empty or all-NA entries is deprecated. In a future version, this will no longer \n",
       "exclude empty or all-NA columns when determining the result dtypes. To retain the old behavior, exclude the \n",
       "relevant entries before the concat operation.\n",
       "  results = pd.concat([results, normalized_data]) #.dropna(axis=1, how=\"all\")])\n",
       "</pre>\n"
      ],
      "text/plain": [
       "/var/folders/7t/k8q3439j6z3c683j7w00wtm80000gn/T/ipykernel_58430/330735155.py:26: FutureWarning: The behavior of \n",
       "DataFrame concatenation with empty or all-NA entries is deprecated. In a future version, this will no longer \n",
       "exclude empty or all-NA columns when determining the result dtypes. To retain the old behavior, exclude the \n",
       "relevant entries before the concat operation.\n",
       "  results = pd.concat([results, normalized_data]) #.dropna(axis=1, how=\"all\")])\n"
      ]
     },
     "metadata": {},
     "output_type": "display_data"
    },
    {
     "data": {
      "text/html": [
       "<pre style=\"white-space:pre;overflow-x:auto;line-height:normal;font-family:Menlo,'DejaVu Sans Mono',consolas,'Courier New',monospace\">/var/folders/7t/k8q3439j6z3c683j7w00wtm80000gn/T/ipykernel_58430/330735155.py:26: FutureWarning: The behavior of \n",
       "DataFrame concatenation with empty or all-NA entries is deprecated. In a future version, this will no longer \n",
       "exclude empty or all-NA columns when determining the result dtypes. To retain the old behavior, exclude the \n",
       "relevant entries before the concat operation.\n",
       "  results = pd.concat([results, normalized_data]) #.dropna(axis=1, how=\"all\")])\n",
       "</pre>\n"
      ],
      "text/plain": [
       "/var/folders/7t/k8q3439j6z3c683j7w00wtm80000gn/T/ipykernel_58430/330735155.py:26: FutureWarning: The behavior of \n",
       "DataFrame concatenation with empty or all-NA entries is deprecated. In a future version, this will no longer \n",
       "exclude empty or all-NA columns when determining the result dtypes. To retain the old behavior, exclude the \n",
       "relevant entries before the concat operation.\n",
       "  results = pd.concat([results, normalized_data]) #.dropna(axis=1, how=\"all\")])\n"
      ]
     },
     "metadata": {},
     "output_type": "display_data"
    },
    {
     "data": {
      "text/html": [
       "<pre style=\"white-space:pre;overflow-x:auto;line-height:normal;font-family:Menlo,'DejaVu Sans Mono',consolas,'Courier New',monospace\">/var/folders/7t/k8q3439j6z3c683j7w00wtm80000gn/T/ipykernel_58430/330735155.py:26: FutureWarning: The behavior of \n",
       "DataFrame concatenation with empty or all-NA entries is deprecated. In a future version, this will no longer \n",
       "exclude empty or all-NA columns when determining the result dtypes. To retain the old behavior, exclude the \n",
       "relevant entries before the concat operation.\n",
       "  results = pd.concat([results, normalized_data]) #.dropna(axis=1, how=\"all\")])\n",
       "</pre>\n"
      ],
      "text/plain": [
       "/var/folders/7t/k8q3439j6z3c683j7w00wtm80000gn/T/ipykernel_58430/330735155.py:26: FutureWarning: The behavior of \n",
       "DataFrame concatenation with empty or all-NA entries is deprecated. In a future version, this will no longer \n",
       "exclude empty or all-NA columns when determining the result dtypes. To retain the old behavior, exclude the \n",
       "relevant entries before the concat operation.\n",
       "  results = pd.concat([results, normalized_data]) #.dropna(axis=1, how=\"all\")])\n"
      ]
     },
     "metadata": {},
     "output_type": "display_data"
    },
    {
     "data": {
      "text/html": [
       "<pre style=\"white-space:pre;overflow-x:auto;line-height:normal;font-family:Menlo,'DejaVu Sans Mono',consolas,'Courier New',monospace\">/var/folders/7t/k8q3439j6z3c683j7w00wtm80000gn/T/ipykernel_58430/330735155.py:26: FutureWarning: The behavior of \n",
       "DataFrame concatenation with empty or all-NA entries is deprecated. In a future version, this will no longer \n",
       "exclude empty or all-NA columns when determining the result dtypes. To retain the old behavior, exclude the \n",
       "relevant entries before the concat operation.\n",
       "  results = pd.concat([results, normalized_data]) #.dropna(axis=1, how=\"all\")])\n",
       "</pre>\n"
      ],
      "text/plain": [
       "/var/folders/7t/k8q3439j6z3c683j7w00wtm80000gn/T/ipykernel_58430/330735155.py:26: FutureWarning: The behavior of \n",
       "DataFrame concatenation with empty or all-NA entries is deprecated. In a future version, this will no longer \n",
       "exclude empty or all-NA columns when determining the result dtypes. To retain the old behavior, exclude the \n",
       "relevant entries before the concat operation.\n",
       "  results = pd.concat([results, normalized_data]) #.dropna(axis=1, how=\"all\")])\n"
      ]
     },
     "metadata": {},
     "output_type": "display_data"
    },
    {
     "data": {
      "text/html": [
       "<pre style=\"white-space:pre;overflow-x:auto;line-height:normal;font-family:Menlo,'DejaVu Sans Mono',consolas,'Courier New',monospace\">/var/folders/7t/k8q3439j6z3c683j7w00wtm80000gn/T/ipykernel_58430/330735155.py:26: FutureWarning: The behavior of \n",
       "DataFrame concatenation with empty or all-NA entries is deprecated. In a future version, this will no longer \n",
       "exclude empty or all-NA columns when determining the result dtypes. To retain the old behavior, exclude the \n",
       "relevant entries before the concat operation.\n",
       "  results = pd.concat([results, normalized_data]) #.dropna(axis=1, how=\"all\")])\n",
       "</pre>\n"
      ],
      "text/plain": [
       "/var/folders/7t/k8q3439j6z3c683j7w00wtm80000gn/T/ipykernel_58430/330735155.py:26: FutureWarning: The behavior of \n",
       "DataFrame concatenation with empty or all-NA entries is deprecated. In a future version, this will no longer \n",
       "exclude empty or all-NA columns when determining the result dtypes. To retain the old behavior, exclude the \n",
       "relevant entries before the concat operation.\n",
       "  results = pd.concat([results, normalized_data]) #.dropna(axis=1, how=\"all\")])\n"
      ]
     },
     "metadata": {},
     "output_type": "display_data"
    },
    {
     "data": {
      "text/html": [
       "<pre style=\"white-space:pre;overflow-x:auto;line-height:normal;font-family:Menlo,'DejaVu Sans Mono',consolas,'Courier New',monospace\">/var/folders/7t/k8q3439j6z3c683j7w00wtm80000gn/T/ipykernel_58430/330735155.py:26: FutureWarning: The behavior of \n",
       "DataFrame concatenation with empty or all-NA entries is deprecated. In a future version, this will no longer \n",
       "exclude empty or all-NA columns when determining the result dtypes. To retain the old behavior, exclude the \n",
       "relevant entries before the concat operation.\n",
       "  results = pd.concat([results, normalized_data]) #.dropna(axis=1, how=\"all\")])\n",
       "</pre>\n"
      ],
      "text/plain": [
       "/var/folders/7t/k8q3439j6z3c683j7w00wtm80000gn/T/ipykernel_58430/330735155.py:26: FutureWarning: The behavior of \n",
       "DataFrame concatenation with empty or all-NA entries is deprecated. In a future version, this will no longer \n",
       "exclude empty or all-NA columns when determining the result dtypes. To retain the old behavior, exclude the \n",
       "relevant entries before the concat operation.\n",
       "  results = pd.concat([results, normalized_data]) #.dropna(axis=1, how=\"all\")])\n"
      ]
     },
     "metadata": {},
     "output_type": "display_data"
    },
    {
     "data": {
      "text/html": [
       "<pre style=\"white-space:pre;overflow-x:auto;line-height:normal;font-family:Menlo,'DejaVu Sans Mono',consolas,'Courier New',monospace\">/var/folders/7t/k8q3439j6z3c683j7w00wtm80000gn/T/ipykernel_58430/330735155.py:26: FutureWarning: The behavior of \n",
       "DataFrame concatenation with empty or all-NA entries is deprecated. In a future version, this will no longer \n",
       "exclude empty or all-NA columns when determining the result dtypes. To retain the old behavior, exclude the \n",
       "relevant entries before the concat operation.\n",
       "  results = pd.concat([results, normalized_data]) #.dropna(axis=1, how=\"all\")])\n",
       "</pre>\n"
      ],
      "text/plain": [
       "/var/folders/7t/k8q3439j6z3c683j7w00wtm80000gn/T/ipykernel_58430/330735155.py:26: FutureWarning: The behavior of \n",
       "DataFrame concatenation with empty or all-NA entries is deprecated. In a future version, this will no longer \n",
       "exclude empty or all-NA columns when determining the result dtypes. To retain the old behavior, exclude the \n",
       "relevant entries before the concat operation.\n",
       "  results = pd.concat([results, normalized_data]) #.dropna(axis=1, how=\"all\")])\n"
      ]
     },
     "metadata": {},
     "output_type": "display_data"
    },
    {
     "data": {
      "text/html": [
       "<pre style=\"white-space:pre;overflow-x:auto;line-height:normal;font-family:Menlo,'DejaVu Sans Mono',consolas,'Courier New',monospace\">/var/folders/7t/k8q3439j6z3c683j7w00wtm80000gn/T/ipykernel_58430/330735155.py:26: FutureWarning: The behavior of \n",
       "DataFrame concatenation with empty or all-NA entries is deprecated. In a future version, this will no longer \n",
       "exclude empty or all-NA columns when determining the result dtypes. To retain the old behavior, exclude the \n",
       "relevant entries before the concat operation.\n",
       "  results = pd.concat([results, normalized_data]) #.dropna(axis=1, how=\"all\")])\n",
       "</pre>\n"
      ],
      "text/plain": [
       "/var/folders/7t/k8q3439j6z3c683j7w00wtm80000gn/T/ipykernel_58430/330735155.py:26: FutureWarning: The behavior of \n",
       "DataFrame concatenation with empty or all-NA entries is deprecated. In a future version, this will no longer \n",
       "exclude empty or all-NA columns when determining the result dtypes. To retain the old behavior, exclude the \n",
       "relevant entries before the concat operation.\n",
       "  results = pd.concat([results, normalized_data]) #.dropna(axis=1, how=\"all\")])\n"
      ]
     },
     "metadata": {},
     "output_type": "display_data"
    },
    {
     "data": {
      "text/html": [
       "<pre style=\"white-space:pre;overflow-x:auto;line-height:normal;font-family:Menlo,'DejaVu Sans Mono',consolas,'Courier New',monospace\">/var/folders/7t/k8q3439j6z3c683j7w00wtm80000gn/T/ipykernel_58430/330735155.py:26: FutureWarning: The behavior of \n",
       "DataFrame concatenation with empty or all-NA entries is deprecated. In a future version, this will no longer \n",
       "exclude empty or all-NA columns when determining the result dtypes. To retain the old behavior, exclude the \n",
       "relevant entries before the concat operation.\n",
       "  results = pd.concat([results, normalized_data]) #.dropna(axis=1, how=\"all\")])\n",
       "</pre>\n"
      ],
      "text/plain": [
       "/var/folders/7t/k8q3439j6z3c683j7w00wtm80000gn/T/ipykernel_58430/330735155.py:26: FutureWarning: The behavior of \n",
       "DataFrame concatenation with empty or all-NA entries is deprecated. In a future version, this will no longer \n",
       "exclude empty or all-NA columns when determining the result dtypes. To retain the old behavior, exclude the \n",
       "relevant entries before the concat operation.\n",
       "  results = pd.concat([results, normalized_data]) #.dropna(axis=1, how=\"all\")])\n"
      ]
     },
     "metadata": {},
     "output_type": "display_data"
    },
    {
     "data": {
      "text/html": [
       "<pre style=\"white-space:pre;overflow-x:auto;line-height:normal;font-family:Menlo,'DejaVu Sans Mono',consolas,'Courier New',monospace\">/var/folders/7t/k8q3439j6z3c683j7w00wtm80000gn/T/ipykernel_58430/330735155.py:26: FutureWarning: The behavior of \n",
       "DataFrame concatenation with empty or all-NA entries is deprecated. In a future version, this will no longer \n",
       "exclude empty or all-NA columns when determining the result dtypes. To retain the old behavior, exclude the \n",
       "relevant entries before the concat operation.\n",
       "  results = pd.concat([results, normalized_data]) #.dropna(axis=1, how=\"all\")])\n",
       "</pre>\n"
      ],
      "text/plain": [
       "/var/folders/7t/k8q3439j6z3c683j7w00wtm80000gn/T/ipykernel_58430/330735155.py:26: FutureWarning: The behavior of \n",
       "DataFrame concatenation with empty or all-NA entries is deprecated. In a future version, this will no longer \n",
       "exclude empty or all-NA columns when determining the result dtypes. To retain the old behavior, exclude the \n",
       "relevant entries before the concat operation.\n",
       "  results = pd.concat([results, normalized_data]) #.dropna(axis=1, how=\"all\")])\n"
      ]
     },
     "metadata": {},
     "output_type": "display_data"
    },
    {
     "data": {
      "text/html": [
       "<pre style=\"white-space:pre;overflow-x:auto;line-height:normal;font-family:Menlo,'DejaVu Sans Mono',consolas,'Courier New',monospace\">/var/folders/7t/k8q3439j6z3c683j7w00wtm80000gn/T/ipykernel_58430/330735155.py:26: FutureWarning: The behavior of \n",
       "DataFrame concatenation with empty or all-NA entries is deprecated. In a future version, this will no longer \n",
       "exclude empty or all-NA columns when determining the result dtypes. To retain the old behavior, exclude the \n",
       "relevant entries before the concat operation.\n",
       "  results = pd.concat([results, normalized_data]) #.dropna(axis=1, how=\"all\")])\n",
       "</pre>\n"
      ],
      "text/plain": [
       "/var/folders/7t/k8q3439j6z3c683j7w00wtm80000gn/T/ipykernel_58430/330735155.py:26: FutureWarning: The behavior of \n",
       "DataFrame concatenation with empty or all-NA entries is deprecated. In a future version, this will no longer \n",
       "exclude empty or all-NA columns when determining the result dtypes. To retain the old behavior, exclude the \n",
       "relevant entries before the concat operation.\n",
       "  results = pd.concat([results, normalized_data]) #.dropna(axis=1, how=\"all\")])\n"
      ]
     },
     "metadata": {},
     "output_type": "display_data"
    },
    {
     "data": {
      "text/html": [
       "<pre style=\"white-space:pre;overflow-x:auto;line-height:normal;font-family:Menlo,'DejaVu Sans Mono',consolas,'Courier New',monospace\">/var/folders/7t/k8q3439j6z3c683j7w00wtm80000gn/T/ipykernel_58430/330735155.py:26: FutureWarning: The behavior of \n",
       "DataFrame concatenation with empty or all-NA entries is deprecated. In a future version, this will no longer \n",
       "exclude empty or all-NA columns when determining the result dtypes. To retain the old behavior, exclude the \n",
       "relevant entries before the concat operation.\n",
       "  results = pd.concat([results, normalized_data]) #.dropna(axis=1, how=\"all\")])\n",
       "</pre>\n"
      ],
      "text/plain": [
       "/var/folders/7t/k8q3439j6z3c683j7w00wtm80000gn/T/ipykernel_58430/330735155.py:26: FutureWarning: The behavior of \n",
       "DataFrame concatenation with empty or all-NA entries is deprecated. In a future version, this will no longer \n",
       "exclude empty or all-NA columns when determining the result dtypes. To retain the old behavior, exclude the \n",
       "relevant entries before the concat operation.\n",
       "  results = pd.concat([results, normalized_data]) #.dropna(axis=1, how=\"all\")])\n"
      ]
     },
     "metadata": {},
     "output_type": "display_data"
    },
    {
     "data": {
      "text/html": [
       "<pre style=\"white-space:pre;overflow-x:auto;line-height:normal;font-family:Menlo,'DejaVu Sans Mono',consolas,'Courier New',monospace\">/var/folders/7t/k8q3439j6z3c683j7w00wtm80000gn/T/ipykernel_58430/330735155.py:26: FutureWarning: The behavior of \n",
       "DataFrame concatenation with empty or all-NA entries is deprecated. In a future version, this will no longer \n",
       "exclude empty or all-NA columns when determining the result dtypes. To retain the old behavior, exclude the \n",
       "relevant entries before the concat operation.\n",
       "  results = pd.concat([results, normalized_data]) #.dropna(axis=1, how=\"all\")])\n",
       "</pre>\n"
      ],
      "text/plain": [
       "/var/folders/7t/k8q3439j6z3c683j7w00wtm80000gn/T/ipykernel_58430/330735155.py:26: FutureWarning: The behavior of \n",
       "DataFrame concatenation with empty or all-NA entries is deprecated. In a future version, this will no longer \n",
       "exclude empty or all-NA columns when determining the result dtypes. To retain the old behavior, exclude the \n",
       "relevant entries before the concat operation.\n",
       "  results = pd.concat([results, normalized_data]) #.dropna(axis=1, how=\"all\")])\n"
      ]
     },
     "metadata": {},
     "output_type": "display_data"
    },
    {
     "data": {
      "text/html": [
       "<pre style=\"white-space:pre;overflow-x:auto;line-height:normal;font-family:Menlo,'DejaVu Sans Mono',consolas,'Courier New',monospace\">/var/folders/7t/k8q3439j6z3c683j7w00wtm80000gn/T/ipykernel_58430/330735155.py:26: FutureWarning: The behavior of \n",
       "DataFrame concatenation with empty or all-NA entries is deprecated. In a future version, this will no longer \n",
       "exclude empty or all-NA columns when determining the result dtypes. To retain the old behavior, exclude the \n",
       "relevant entries before the concat operation.\n",
       "  results = pd.concat([results, normalized_data]) #.dropna(axis=1, how=\"all\")])\n",
       "</pre>\n"
      ],
      "text/plain": [
       "/var/folders/7t/k8q3439j6z3c683j7w00wtm80000gn/T/ipykernel_58430/330735155.py:26: FutureWarning: The behavior of \n",
       "DataFrame concatenation with empty or all-NA entries is deprecated. In a future version, this will no longer \n",
       "exclude empty or all-NA columns when determining the result dtypes. To retain the old behavior, exclude the \n",
       "relevant entries before the concat operation.\n",
       "  results = pd.concat([results, normalized_data]) #.dropna(axis=1, how=\"all\")])\n"
      ]
     },
     "metadata": {},
     "output_type": "display_data"
    },
    {
     "data": {
      "text/html": [
       "<pre style=\"white-space:pre;overflow-x:auto;line-height:normal;font-family:Menlo,'DejaVu Sans Mono',consolas,'Courier New',monospace\">/var/folders/7t/k8q3439j6z3c683j7w00wtm80000gn/T/ipykernel_58430/330735155.py:26: FutureWarning: The behavior of \n",
       "DataFrame concatenation with empty or all-NA entries is deprecated. In a future version, this will no longer \n",
       "exclude empty or all-NA columns when determining the result dtypes. To retain the old behavior, exclude the \n",
       "relevant entries before the concat operation.\n",
       "  results = pd.concat([results, normalized_data]) #.dropna(axis=1, how=\"all\")])\n",
       "</pre>\n"
      ],
      "text/plain": [
       "/var/folders/7t/k8q3439j6z3c683j7w00wtm80000gn/T/ipykernel_58430/330735155.py:26: FutureWarning: The behavior of \n",
       "DataFrame concatenation with empty or all-NA entries is deprecated. In a future version, this will no longer \n",
       "exclude empty or all-NA columns when determining the result dtypes. To retain the old behavior, exclude the \n",
       "relevant entries before the concat operation.\n",
       "  results = pd.concat([results, normalized_data]) #.dropna(axis=1, how=\"all\")])\n"
      ]
     },
     "metadata": {},
     "output_type": "display_data"
    },
    {
     "data": {
      "text/html": [
       "<pre style=\"white-space:pre;overflow-x:auto;line-height:normal;font-family:Menlo,'DejaVu Sans Mono',consolas,'Courier New',monospace\">/var/folders/7t/k8q3439j6z3c683j7w00wtm80000gn/T/ipykernel_58430/330735155.py:26: FutureWarning: The behavior of \n",
       "DataFrame concatenation with empty or all-NA entries is deprecated. In a future version, this will no longer \n",
       "exclude empty or all-NA columns when determining the result dtypes. To retain the old behavior, exclude the \n",
       "relevant entries before the concat operation.\n",
       "  results = pd.concat([results, normalized_data]) #.dropna(axis=1, how=\"all\")])\n",
       "</pre>\n"
      ],
      "text/plain": [
       "/var/folders/7t/k8q3439j6z3c683j7w00wtm80000gn/T/ipykernel_58430/330735155.py:26: FutureWarning: The behavior of \n",
       "DataFrame concatenation with empty or all-NA entries is deprecated. In a future version, this will no longer \n",
       "exclude empty or all-NA columns when determining the result dtypes. To retain the old behavior, exclude the \n",
       "relevant entries before the concat operation.\n",
       "  results = pd.concat([results, normalized_data]) #.dropna(axis=1, how=\"all\")])\n"
      ]
     },
     "metadata": {},
     "output_type": "display_data"
    },
    {
     "data": {
      "text/html": [
       "<pre style=\"white-space:pre;overflow-x:auto;line-height:normal;font-family:Menlo,'DejaVu Sans Mono',consolas,'Courier New',monospace\">/var/folders/7t/k8q3439j6z3c683j7w00wtm80000gn/T/ipykernel_58430/330735155.py:26: FutureWarning: The behavior of \n",
       "DataFrame concatenation with empty or all-NA entries is deprecated. In a future version, this will no longer \n",
       "exclude empty or all-NA columns when determining the result dtypes. To retain the old behavior, exclude the \n",
       "relevant entries before the concat operation.\n",
       "  results = pd.concat([results, normalized_data]) #.dropna(axis=1, how=\"all\")])\n",
       "</pre>\n"
      ],
      "text/plain": [
       "/var/folders/7t/k8q3439j6z3c683j7w00wtm80000gn/T/ipykernel_58430/330735155.py:26: FutureWarning: The behavior of \n",
       "DataFrame concatenation with empty or all-NA entries is deprecated. In a future version, this will no longer \n",
       "exclude empty or all-NA columns when determining the result dtypes. To retain the old behavior, exclude the \n",
       "relevant entries before the concat operation.\n",
       "  results = pd.concat([results, normalized_data]) #.dropna(axis=1, how=\"all\")])\n"
      ]
     },
     "metadata": {},
     "output_type": "display_data"
    },
    {
     "data": {
      "text/html": [
       "<pre style=\"white-space:pre;overflow-x:auto;line-height:normal;font-family:Menlo,'DejaVu Sans Mono',consolas,'Courier New',monospace\">/var/folders/7t/k8q3439j6z3c683j7w00wtm80000gn/T/ipykernel_58430/330735155.py:26: FutureWarning: The behavior of \n",
       "DataFrame concatenation with empty or all-NA entries is deprecated. In a future version, this will no longer \n",
       "exclude empty or all-NA columns when determining the result dtypes. To retain the old behavior, exclude the \n",
       "relevant entries before the concat operation.\n",
       "  results = pd.concat([results, normalized_data]) #.dropna(axis=1, how=\"all\")])\n",
       "</pre>\n"
      ],
      "text/plain": [
       "/var/folders/7t/k8q3439j6z3c683j7w00wtm80000gn/T/ipykernel_58430/330735155.py:26: FutureWarning: The behavior of \n",
       "DataFrame concatenation with empty or all-NA entries is deprecated. In a future version, this will no longer \n",
       "exclude empty or all-NA columns when determining the result dtypes. To retain the old behavior, exclude the \n",
       "relevant entries before the concat operation.\n",
       "  results = pd.concat([results, normalized_data]) #.dropna(axis=1, how=\"all\")])\n"
      ]
     },
     "metadata": {},
     "output_type": "display_data"
    },
    {
     "data": {
      "text/html": [
       "<pre style=\"white-space:pre;overflow-x:auto;line-height:normal;font-family:Menlo,'DejaVu Sans Mono',consolas,'Courier New',monospace\">/var/folders/7t/k8q3439j6z3c683j7w00wtm80000gn/T/ipykernel_58430/330735155.py:26: FutureWarning: The behavior of \n",
       "DataFrame concatenation with empty or all-NA entries is deprecated. In a future version, this will no longer \n",
       "exclude empty or all-NA columns when determining the result dtypes. To retain the old behavior, exclude the \n",
       "relevant entries before the concat operation.\n",
       "  results = pd.concat([results, normalized_data]) #.dropna(axis=1, how=\"all\")])\n",
       "</pre>\n"
      ],
      "text/plain": [
       "/var/folders/7t/k8q3439j6z3c683j7w00wtm80000gn/T/ipykernel_58430/330735155.py:26: FutureWarning: The behavior of \n",
       "DataFrame concatenation with empty or all-NA entries is deprecated. In a future version, this will no longer \n",
       "exclude empty or all-NA columns when determining the result dtypes. To retain the old behavior, exclude the \n",
       "relevant entries before the concat operation.\n",
       "  results = pd.concat([results, normalized_data]) #.dropna(axis=1, how=\"all\")])\n"
      ]
     },
     "metadata": {},
     "output_type": "display_data"
    },
    {
     "data": {
      "text/html": [
       "<pre style=\"white-space:pre;overflow-x:auto;line-height:normal;font-family:Menlo,'DejaVu Sans Mono',consolas,'Courier New',monospace\">/var/folders/7t/k8q3439j6z3c683j7w00wtm80000gn/T/ipykernel_58430/330735155.py:26: FutureWarning: The behavior of \n",
       "DataFrame concatenation with empty or all-NA entries is deprecated. In a future version, this will no longer \n",
       "exclude empty or all-NA columns when determining the result dtypes. To retain the old behavior, exclude the \n",
       "relevant entries before the concat operation.\n",
       "  results = pd.concat([results, normalized_data]) #.dropna(axis=1, how=\"all\")])\n",
       "</pre>\n"
      ],
      "text/plain": [
       "/var/folders/7t/k8q3439j6z3c683j7w00wtm80000gn/T/ipykernel_58430/330735155.py:26: FutureWarning: The behavior of \n",
       "DataFrame concatenation with empty or all-NA entries is deprecated. In a future version, this will no longer \n",
       "exclude empty or all-NA columns when determining the result dtypes. To retain the old behavior, exclude the \n",
       "relevant entries before the concat operation.\n",
       "  results = pd.concat([results, normalized_data]) #.dropna(axis=1, how=\"all\")])\n"
      ]
     },
     "metadata": {},
     "output_type": "display_data"
    },
    {
     "data": {
      "text/html": [
       "<pre style=\"white-space:pre;overflow-x:auto;line-height:normal;font-family:Menlo,'DejaVu Sans Mono',consolas,'Courier New',monospace\">/var/folders/7t/k8q3439j6z3c683j7w00wtm80000gn/T/ipykernel_58430/330735155.py:26: FutureWarning: The behavior of \n",
       "DataFrame concatenation with empty or all-NA entries is deprecated. In a future version, this will no longer \n",
       "exclude empty or all-NA columns when determining the result dtypes. To retain the old behavior, exclude the \n",
       "relevant entries before the concat operation.\n",
       "  results = pd.concat([results, normalized_data]) #.dropna(axis=1, how=\"all\")])\n",
       "</pre>\n"
      ],
      "text/plain": [
       "/var/folders/7t/k8q3439j6z3c683j7w00wtm80000gn/T/ipykernel_58430/330735155.py:26: FutureWarning: The behavior of \n",
       "DataFrame concatenation with empty or all-NA entries is deprecated. In a future version, this will no longer \n",
       "exclude empty or all-NA columns when determining the result dtypes. To retain the old behavior, exclude the \n",
       "relevant entries before the concat operation.\n",
       "  results = pd.concat([results, normalized_data]) #.dropna(axis=1, how=\"all\")])\n"
      ]
     },
     "metadata": {},
     "output_type": "display_data"
    },
    {
     "data": {
      "text/html": [
       "<pre style=\"white-space:pre;overflow-x:auto;line-height:normal;font-family:Menlo,'DejaVu Sans Mono',consolas,'Courier New',monospace\">/var/folders/7t/k8q3439j6z3c683j7w00wtm80000gn/T/ipykernel_58430/330735155.py:26: FutureWarning: The behavior of \n",
       "DataFrame concatenation with empty or all-NA entries is deprecated. In a future version, this will no longer \n",
       "exclude empty or all-NA columns when determining the result dtypes. To retain the old behavior, exclude the \n",
       "relevant entries before the concat operation.\n",
       "  results = pd.concat([results, normalized_data]) #.dropna(axis=1, how=\"all\")])\n",
       "</pre>\n"
      ],
      "text/plain": [
       "/var/folders/7t/k8q3439j6z3c683j7w00wtm80000gn/T/ipykernel_58430/330735155.py:26: FutureWarning: The behavior of \n",
       "DataFrame concatenation with empty or all-NA entries is deprecated. In a future version, this will no longer \n",
       "exclude empty or all-NA columns when determining the result dtypes. To retain the old behavior, exclude the \n",
       "relevant entries before the concat operation.\n",
       "  results = pd.concat([results, normalized_data]) #.dropna(axis=1, how=\"all\")])\n"
      ]
     },
     "metadata": {},
     "output_type": "display_data"
    },
    {
     "data": {
      "text/html": [
       "<pre style=\"white-space:pre;overflow-x:auto;line-height:normal;font-family:Menlo,'DejaVu Sans Mono',consolas,'Courier New',monospace\">/var/folders/7t/k8q3439j6z3c683j7w00wtm80000gn/T/ipykernel_58430/330735155.py:26: FutureWarning: The behavior of \n",
       "DataFrame concatenation with empty or all-NA entries is deprecated. In a future version, this will no longer \n",
       "exclude empty or all-NA columns when determining the result dtypes. To retain the old behavior, exclude the \n",
       "relevant entries before the concat operation.\n",
       "  results = pd.concat([results, normalized_data]) #.dropna(axis=1, how=\"all\")])\n",
       "</pre>\n"
      ],
      "text/plain": [
       "/var/folders/7t/k8q3439j6z3c683j7w00wtm80000gn/T/ipykernel_58430/330735155.py:26: FutureWarning: The behavior of \n",
       "DataFrame concatenation with empty or all-NA entries is deprecated. In a future version, this will no longer \n",
       "exclude empty or all-NA columns when determining the result dtypes. To retain the old behavior, exclude the \n",
       "relevant entries before the concat operation.\n",
       "  results = pd.concat([results, normalized_data]) #.dropna(axis=1, how=\"all\")])\n"
      ]
     },
     "metadata": {},
     "output_type": "display_data"
    },
    {
     "data": {
      "text/html": [
       "<pre style=\"white-space:pre;overflow-x:auto;line-height:normal;font-family:Menlo,'DejaVu Sans Mono',consolas,'Courier New',monospace\">/var/folders/7t/k8q3439j6z3c683j7w00wtm80000gn/T/ipykernel_58430/330735155.py:26: FutureWarning: The behavior of \n",
       "DataFrame concatenation with empty or all-NA entries is deprecated. In a future version, this will no longer \n",
       "exclude empty or all-NA columns when determining the result dtypes. To retain the old behavior, exclude the \n",
       "relevant entries before the concat operation.\n",
       "  results = pd.concat([results, normalized_data]) #.dropna(axis=1, how=\"all\")])\n",
       "</pre>\n"
      ],
      "text/plain": [
       "/var/folders/7t/k8q3439j6z3c683j7w00wtm80000gn/T/ipykernel_58430/330735155.py:26: FutureWarning: The behavior of \n",
       "DataFrame concatenation with empty or all-NA entries is deprecated. In a future version, this will no longer \n",
       "exclude empty or all-NA columns when determining the result dtypes. To retain the old behavior, exclude the \n",
       "relevant entries before the concat operation.\n",
       "  results = pd.concat([results, normalized_data]) #.dropna(axis=1, how=\"all\")])\n"
      ]
     },
     "metadata": {},
     "output_type": "display_data"
    },
    {
     "data": {
      "text/html": [
       "<pre style=\"white-space:pre;overflow-x:auto;line-height:normal;font-family:Menlo,'DejaVu Sans Mono',consolas,'Courier New',monospace\">/var/folders/7t/k8q3439j6z3c683j7w00wtm80000gn/T/ipykernel_58430/330735155.py:26: FutureWarning: The behavior of \n",
       "DataFrame concatenation with empty or all-NA entries is deprecated. In a future version, this will no longer \n",
       "exclude empty or all-NA columns when determining the result dtypes. To retain the old behavior, exclude the \n",
       "relevant entries before the concat operation.\n",
       "  results = pd.concat([results, normalized_data]) #.dropna(axis=1, how=\"all\")])\n",
       "</pre>\n"
      ],
      "text/plain": [
       "/var/folders/7t/k8q3439j6z3c683j7w00wtm80000gn/T/ipykernel_58430/330735155.py:26: FutureWarning: The behavior of \n",
       "DataFrame concatenation with empty or all-NA entries is deprecated. In a future version, this will no longer \n",
       "exclude empty or all-NA columns when determining the result dtypes. To retain the old behavior, exclude the \n",
       "relevant entries before the concat operation.\n",
       "  results = pd.concat([results, normalized_data]) #.dropna(axis=1, how=\"all\")])\n"
      ]
     },
     "metadata": {},
     "output_type": "display_data"
    },
    {
     "data": {
      "text/html": [
       "<pre style=\"white-space:pre;overflow-x:auto;line-height:normal;font-family:Menlo,'DejaVu Sans Mono',consolas,'Courier New',monospace\">/var/folders/7t/k8q3439j6z3c683j7w00wtm80000gn/T/ipykernel_58430/330735155.py:26: FutureWarning: The behavior of \n",
       "DataFrame concatenation with empty or all-NA entries is deprecated. In a future version, this will no longer \n",
       "exclude empty or all-NA columns when determining the result dtypes. To retain the old behavior, exclude the \n",
       "relevant entries before the concat operation.\n",
       "  results = pd.concat([results, normalized_data]) #.dropna(axis=1, how=\"all\")])\n",
       "</pre>\n"
      ],
      "text/plain": [
       "/var/folders/7t/k8q3439j6z3c683j7w00wtm80000gn/T/ipykernel_58430/330735155.py:26: FutureWarning: The behavior of \n",
       "DataFrame concatenation with empty or all-NA entries is deprecated. In a future version, this will no longer \n",
       "exclude empty or all-NA columns when determining the result dtypes. To retain the old behavior, exclude the \n",
       "relevant entries before the concat operation.\n",
       "  results = pd.concat([results, normalized_data]) #.dropna(axis=1, how=\"all\")])\n"
      ]
     },
     "metadata": {},
     "output_type": "display_data"
    },
    {
     "data": {
      "text/html": [
       "<pre style=\"white-space:pre;overflow-x:auto;line-height:normal;font-family:Menlo,'DejaVu Sans Mono',consolas,'Courier New',monospace\">/var/folders/7t/k8q3439j6z3c683j7w00wtm80000gn/T/ipykernel_58430/330735155.py:26: FutureWarning: The behavior of \n",
       "DataFrame concatenation with empty or all-NA entries is deprecated. In a future version, this will no longer \n",
       "exclude empty or all-NA columns when determining the result dtypes. To retain the old behavior, exclude the \n",
       "relevant entries before the concat operation.\n",
       "  results = pd.concat([results, normalized_data]) #.dropna(axis=1, how=\"all\")])\n",
       "</pre>\n"
      ],
      "text/plain": [
       "/var/folders/7t/k8q3439j6z3c683j7w00wtm80000gn/T/ipykernel_58430/330735155.py:26: FutureWarning: The behavior of \n",
       "DataFrame concatenation with empty or all-NA entries is deprecated. In a future version, this will no longer \n",
       "exclude empty or all-NA columns when determining the result dtypes. To retain the old behavior, exclude the \n",
       "relevant entries before the concat operation.\n",
       "  results = pd.concat([results, normalized_data]) #.dropna(axis=1, how=\"all\")])\n"
      ]
     },
     "metadata": {},
     "output_type": "display_data"
    },
    {
     "data": {
      "text/html": [
       "<pre style=\"white-space:pre;overflow-x:auto;line-height:normal;font-family:Menlo,'DejaVu Sans Mono',consolas,'Courier New',monospace\">/var/folders/7t/k8q3439j6z3c683j7w00wtm80000gn/T/ipykernel_58430/330735155.py:26: FutureWarning: The behavior of \n",
       "DataFrame concatenation with empty or all-NA entries is deprecated. In a future version, this will no longer \n",
       "exclude empty or all-NA columns when determining the result dtypes. To retain the old behavior, exclude the \n",
       "relevant entries before the concat operation.\n",
       "  results = pd.concat([results, normalized_data]) #.dropna(axis=1, how=\"all\")])\n",
       "</pre>\n"
      ],
      "text/plain": [
       "/var/folders/7t/k8q3439j6z3c683j7w00wtm80000gn/T/ipykernel_58430/330735155.py:26: FutureWarning: The behavior of \n",
       "DataFrame concatenation with empty or all-NA entries is deprecated. In a future version, this will no longer \n",
       "exclude empty or all-NA columns when determining the result dtypes. To retain the old behavior, exclude the \n",
       "relevant entries before the concat operation.\n",
       "  results = pd.concat([results, normalized_data]) #.dropna(axis=1, how=\"all\")])\n"
      ]
     },
     "metadata": {},
     "output_type": "display_data"
    },
    {
     "data": {
      "text/html": [
       "<pre style=\"white-space:pre;overflow-x:auto;line-height:normal;font-family:Menlo,'DejaVu Sans Mono',consolas,'Courier New',monospace\">/var/folders/7t/k8q3439j6z3c683j7w00wtm80000gn/T/ipykernel_58430/330735155.py:26: FutureWarning: The behavior of \n",
       "DataFrame concatenation with empty or all-NA entries is deprecated. In a future version, this will no longer \n",
       "exclude empty or all-NA columns when determining the result dtypes. To retain the old behavior, exclude the \n",
       "relevant entries before the concat operation.\n",
       "  results = pd.concat([results, normalized_data]) #.dropna(axis=1, how=\"all\")])\n",
       "</pre>\n"
      ],
      "text/plain": [
       "/var/folders/7t/k8q3439j6z3c683j7w00wtm80000gn/T/ipykernel_58430/330735155.py:26: FutureWarning: The behavior of \n",
       "DataFrame concatenation with empty or all-NA entries is deprecated. In a future version, this will no longer \n",
       "exclude empty or all-NA columns when determining the result dtypes. To retain the old behavior, exclude the \n",
       "relevant entries before the concat operation.\n",
       "  results = pd.concat([results, normalized_data]) #.dropna(axis=1, how=\"all\")])\n"
      ]
     },
     "metadata": {},
     "output_type": "display_data"
    },
    {
     "data": {
      "text/html": [
       "<pre style=\"white-space:pre;overflow-x:auto;line-height:normal;font-family:Menlo,'DejaVu Sans Mono',consolas,'Courier New',monospace\">/var/folders/7t/k8q3439j6z3c683j7w00wtm80000gn/T/ipykernel_58430/330735155.py:26: FutureWarning: The behavior of \n",
       "DataFrame concatenation with empty or all-NA entries is deprecated. In a future version, this will no longer \n",
       "exclude empty or all-NA columns when determining the result dtypes. To retain the old behavior, exclude the \n",
       "relevant entries before the concat operation.\n",
       "  results = pd.concat([results, normalized_data]) #.dropna(axis=1, how=\"all\")])\n",
       "</pre>\n"
      ],
      "text/plain": [
       "/var/folders/7t/k8q3439j6z3c683j7w00wtm80000gn/T/ipykernel_58430/330735155.py:26: FutureWarning: The behavior of \n",
       "DataFrame concatenation with empty or all-NA entries is deprecated. In a future version, this will no longer \n",
       "exclude empty or all-NA columns when determining the result dtypes. To retain the old behavior, exclude the \n",
       "relevant entries before the concat operation.\n",
       "  results = pd.concat([results, normalized_data]) #.dropna(axis=1, how=\"all\")])\n"
      ]
     },
     "metadata": {},
     "output_type": "display_data"
    },
    {
     "data": {
      "text/html": [
       "<pre style=\"white-space:pre;overflow-x:auto;line-height:normal;font-family:Menlo,'DejaVu Sans Mono',consolas,'Courier New',monospace\">/var/folders/7t/k8q3439j6z3c683j7w00wtm80000gn/T/ipykernel_58430/330735155.py:26: FutureWarning: The behavior of \n",
       "DataFrame concatenation with empty or all-NA entries is deprecated. In a future version, this will no longer \n",
       "exclude empty or all-NA columns when determining the result dtypes. To retain the old behavior, exclude the \n",
       "relevant entries before the concat operation.\n",
       "  results = pd.concat([results, normalized_data]) #.dropna(axis=1, how=\"all\")])\n",
       "</pre>\n"
      ],
      "text/plain": [
       "/var/folders/7t/k8q3439j6z3c683j7w00wtm80000gn/T/ipykernel_58430/330735155.py:26: FutureWarning: The behavior of \n",
       "DataFrame concatenation with empty or all-NA entries is deprecated. In a future version, this will no longer \n",
       "exclude empty or all-NA columns when determining the result dtypes. To retain the old behavior, exclude the \n",
       "relevant entries before the concat operation.\n",
       "  results = pd.concat([results, normalized_data]) #.dropna(axis=1, how=\"all\")])\n"
      ]
     },
     "metadata": {},
     "output_type": "display_data"
    },
    {
     "data": {
      "text/html": [
       "<pre style=\"white-space:pre;overflow-x:auto;line-height:normal;font-family:Menlo,'DejaVu Sans Mono',consolas,'Courier New',monospace\">/var/folders/7t/k8q3439j6z3c683j7w00wtm80000gn/T/ipykernel_58430/330735155.py:26: FutureWarning: The behavior of \n",
       "DataFrame concatenation with empty or all-NA entries is deprecated. In a future version, this will no longer \n",
       "exclude empty or all-NA columns when determining the result dtypes. To retain the old behavior, exclude the \n",
       "relevant entries before the concat operation.\n",
       "  results = pd.concat([results, normalized_data]) #.dropna(axis=1, how=\"all\")])\n",
       "</pre>\n"
      ],
      "text/plain": [
       "/var/folders/7t/k8q3439j6z3c683j7w00wtm80000gn/T/ipykernel_58430/330735155.py:26: FutureWarning: The behavior of \n",
       "DataFrame concatenation with empty or all-NA entries is deprecated. In a future version, this will no longer \n",
       "exclude empty or all-NA columns when determining the result dtypes. To retain the old behavior, exclude the \n",
       "relevant entries before the concat operation.\n",
       "  results = pd.concat([results, normalized_data]) #.dropna(axis=1, how=\"all\")])\n"
      ]
     },
     "metadata": {},
     "output_type": "display_data"
    },
    {
     "data": {
      "text/html": [
       "<pre style=\"white-space:pre;overflow-x:auto;line-height:normal;font-family:Menlo,'DejaVu Sans Mono',consolas,'Courier New',monospace\">/var/folders/7t/k8q3439j6z3c683j7w00wtm80000gn/T/ipykernel_58430/330735155.py:26: FutureWarning: The behavior of \n",
       "DataFrame concatenation with empty or all-NA entries is deprecated. In a future version, this will no longer \n",
       "exclude empty or all-NA columns when determining the result dtypes. To retain the old behavior, exclude the \n",
       "relevant entries before the concat operation.\n",
       "  results = pd.concat([results, normalized_data]) #.dropna(axis=1, how=\"all\")])\n",
       "</pre>\n"
      ],
      "text/plain": [
       "/var/folders/7t/k8q3439j6z3c683j7w00wtm80000gn/T/ipykernel_58430/330735155.py:26: FutureWarning: The behavior of \n",
       "DataFrame concatenation with empty or all-NA entries is deprecated. In a future version, this will no longer \n",
       "exclude empty or all-NA columns when determining the result dtypes. To retain the old behavior, exclude the \n",
       "relevant entries before the concat operation.\n",
       "  results = pd.concat([results, normalized_data]) #.dropna(axis=1, how=\"all\")])\n"
      ]
     },
     "metadata": {},
     "output_type": "display_data"
    },
    {
     "data": {
      "text/html": [
       "<pre style=\"white-space:pre;overflow-x:auto;line-height:normal;font-family:Menlo,'DejaVu Sans Mono',consolas,'Courier New',monospace\">/var/folders/7t/k8q3439j6z3c683j7w00wtm80000gn/T/ipykernel_58430/330735155.py:26: FutureWarning: The behavior of \n",
       "DataFrame concatenation with empty or all-NA entries is deprecated. In a future version, this will no longer \n",
       "exclude empty or all-NA columns when determining the result dtypes. To retain the old behavior, exclude the \n",
       "relevant entries before the concat operation.\n",
       "  results = pd.concat([results, normalized_data]) #.dropna(axis=1, how=\"all\")])\n",
       "</pre>\n"
      ],
      "text/plain": [
       "/var/folders/7t/k8q3439j6z3c683j7w00wtm80000gn/T/ipykernel_58430/330735155.py:26: FutureWarning: The behavior of \n",
       "DataFrame concatenation with empty or all-NA entries is deprecated. In a future version, this will no longer \n",
       "exclude empty or all-NA columns when determining the result dtypes. To retain the old behavior, exclude the \n",
       "relevant entries before the concat operation.\n",
       "  results = pd.concat([results, normalized_data]) #.dropna(axis=1, how=\"all\")])\n"
      ]
     },
     "metadata": {},
     "output_type": "display_data"
    },
    {
     "data": {
      "text/html": [
       "<pre style=\"white-space:pre;overflow-x:auto;line-height:normal;font-family:Menlo,'DejaVu Sans Mono',consolas,'Courier New',monospace\">/var/folders/7t/k8q3439j6z3c683j7w00wtm80000gn/T/ipykernel_58430/330735155.py:26: FutureWarning: The behavior of \n",
       "DataFrame concatenation with empty or all-NA entries is deprecated. In a future version, this will no longer \n",
       "exclude empty or all-NA columns when determining the result dtypes. To retain the old behavior, exclude the \n",
       "relevant entries before the concat operation.\n",
       "  results = pd.concat([results, normalized_data]) #.dropna(axis=1, how=\"all\")])\n",
       "</pre>\n"
      ],
      "text/plain": [
       "/var/folders/7t/k8q3439j6z3c683j7w00wtm80000gn/T/ipykernel_58430/330735155.py:26: FutureWarning: The behavior of \n",
       "DataFrame concatenation with empty or all-NA entries is deprecated. In a future version, this will no longer \n",
       "exclude empty or all-NA columns when determining the result dtypes. To retain the old behavior, exclude the \n",
       "relevant entries before the concat operation.\n",
       "  results = pd.concat([results, normalized_data]) #.dropna(axis=1, how=\"all\")])\n"
      ]
     },
     "metadata": {},
     "output_type": "display_data"
    },
    {
     "data": {
      "text/html": [
       "<pre style=\"white-space:pre;overflow-x:auto;line-height:normal;font-family:Menlo,'DejaVu Sans Mono',consolas,'Courier New',monospace\">/var/folders/7t/k8q3439j6z3c683j7w00wtm80000gn/T/ipykernel_58430/330735155.py:26: FutureWarning: The behavior of \n",
       "DataFrame concatenation with empty or all-NA entries is deprecated. In a future version, this will no longer \n",
       "exclude empty or all-NA columns when determining the result dtypes. To retain the old behavior, exclude the \n",
       "relevant entries before the concat operation.\n",
       "  results = pd.concat([results, normalized_data]) #.dropna(axis=1, how=\"all\")])\n",
       "</pre>\n"
      ],
      "text/plain": [
       "/var/folders/7t/k8q3439j6z3c683j7w00wtm80000gn/T/ipykernel_58430/330735155.py:26: FutureWarning: The behavior of \n",
       "DataFrame concatenation with empty or all-NA entries is deprecated. In a future version, this will no longer \n",
       "exclude empty or all-NA columns when determining the result dtypes. To retain the old behavior, exclude the \n",
       "relevant entries before the concat operation.\n",
       "  results = pd.concat([results, normalized_data]) #.dropna(axis=1, how=\"all\")])\n"
      ]
     },
     "metadata": {},
     "output_type": "display_data"
    },
    {
     "data": {
      "text/html": [
       "<pre style=\"white-space:pre;overflow-x:auto;line-height:normal;font-family:Menlo,'DejaVu Sans Mono',consolas,'Courier New',monospace\">/var/folders/7t/k8q3439j6z3c683j7w00wtm80000gn/T/ipykernel_58430/330735155.py:26: FutureWarning: The behavior of \n",
       "DataFrame concatenation with empty or all-NA entries is deprecated. In a future version, this will no longer \n",
       "exclude empty or all-NA columns when determining the result dtypes. To retain the old behavior, exclude the \n",
       "relevant entries before the concat operation.\n",
       "  results = pd.concat([results, normalized_data]) #.dropna(axis=1, how=\"all\")])\n",
       "</pre>\n"
      ],
      "text/plain": [
       "/var/folders/7t/k8q3439j6z3c683j7w00wtm80000gn/T/ipykernel_58430/330735155.py:26: FutureWarning: The behavior of \n",
       "DataFrame concatenation with empty or all-NA entries is deprecated. In a future version, this will no longer \n",
       "exclude empty or all-NA columns when determining the result dtypes. To retain the old behavior, exclude the \n",
       "relevant entries before the concat operation.\n",
       "  results = pd.concat([results, normalized_data]) #.dropna(axis=1, how=\"all\")])\n"
      ]
     },
     "metadata": {},
     "output_type": "display_data"
    },
    {
     "data": {
      "text/html": [
       "<pre style=\"white-space:pre;overflow-x:auto;line-height:normal;font-family:Menlo,'DejaVu Sans Mono',consolas,'Courier New',monospace\">/var/folders/7t/k8q3439j6z3c683j7w00wtm80000gn/T/ipykernel_58430/330735155.py:26: FutureWarning: The behavior of \n",
       "DataFrame concatenation with empty or all-NA entries is deprecated. In a future version, this will no longer \n",
       "exclude empty or all-NA columns when determining the result dtypes. To retain the old behavior, exclude the \n",
       "relevant entries before the concat operation.\n",
       "  results = pd.concat([results, normalized_data]) #.dropna(axis=1, how=\"all\")])\n",
       "</pre>\n"
      ],
      "text/plain": [
       "/var/folders/7t/k8q3439j6z3c683j7w00wtm80000gn/T/ipykernel_58430/330735155.py:26: FutureWarning: The behavior of \n",
       "DataFrame concatenation with empty or all-NA entries is deprecated. In a future version, this will no longer \n",
       "exclude empty or all-NA columns when determining the result dtypes. To retain the old behavior, exclude the \n",
       "relevant entries before the concat operation.\n",
       "  results = pd.concat([results, normalized_data]) #.dropna(axis=1, how=\"all\")])\n"
      ]
     },
     "metadata": {},
     "output_type": "display_data"
    },
    {
     "data": {
      "text/html": [
       "<pre style=\"white-space:pre;overflow-x:auto;line-height:normal;font-family:Menlo,'DejaVu Sans Mono',consolas,'Courier New',monospace\">/var/folders/7t/k8q3439j6z3c683j7w00wtm80000gn/T/ipykernel_58430/330735155.py:26: FutureWarning: The behavior of \n",
       "DataFrame concatenation with empty or all-NA entries is deprecated. In a future version, this will no longer \n",
       "exclude empty or all-NA columns when determining the result dtypes. To retain the old behavior, exclude the \n",
       "relevant entries before the concat operation.\n",
       "  results = pd.concat([results, normalized_data]) #.dropna(axis=1, how=\"all\")])\n",
       "</pre>\n"
      ],
      "text/plain": [
       "/var/folders/7t/k8q3439j6z3c683j7w00wtm80000gn/T/ipykernel_58430/330735155.py:26: FutureWarning: The behavior of \n",
       "DataFrame concatenation with empty or all-NA entries is deprecated. In a future version, this will no longer \n",
       "exclude empty or all-NA columns when determining the result dtypes. To retain the old behavior, exclude the \n",
       "relevant entries before the concat operation.\n",
       "  results = pd.concat([results, normalized_data]) #.dropna(axis=1, how=\"all\")])\n"
      ]
     },
     "metadata": {},
     "output_type": "display_data"
    },
    {
     "data": {
      "text/html": [
       "<pre style=\"white-space:pre;overflow-x:auto;line-height:normal;font-family:Menlo,'DejaVu Sans Mono',consolas,'Courier New',monospace\">/var/folders/7t/k8q3439j6z3c683j7w00wtm80000gn/T/ipykernel_58430/330735155.py:26: FutureWarning: The behavior of \n",
       "DataFrame concatenation with empty or all-NA entries is deprecated. In a future version, this will no longer \n",
       "exclude empty or all-NA columns when determining the result dtypes. To retain the old behavior, exclude the \n",
       "relevant entries before the concat operation.\n",
       "  results = pd.concat([results, normalized_data]) #.dropna(axis=1, how=\"all\")])\n",
       "</pre>\n"
      ],
      "text/plain": [
       "/var/folders/7t/k8q3439j6z3c683j7w00wtm80000gn/T/ipykernel_58430/330735155.py:26: FutureWarning: The behavior of \n",
       "DataFrame concatenation with empty or all-NA entries is deprecated. In a future version, this will no longer \n",
       "exclude empty or all-NA columns when determining the result dtypes. To retain the old behavior, exclude the \n",
       "relevant entries before the concat operation.\n",
       "  results = pd.concat([results, normalized_data]) #.dropna(axis=1, how=\"all\")])\n"
      ]
     },
     "metadata": {},
     "output_type": "display_data"
    },
    {
     "data": {
      "text/html": [
       "<pre style=\"white-space:pre;overflow-x:auto;line-height:normal;font-family:Menlo,'DejaVu Sans Mono',consolas,'Courier New',monospace\">/var/folders/7t/k8q3439j6z3c683j7w00wtm80000gn/T/ipykernel_58430/330735155.py:26: FutureWarning: The behavior of \n",
       "DataFrame concatenation with empty or all-NA entries is deprecated. In a future version, this will no longer \n",
       "exclude empty or all-NA columns when determining the result dtypes. To retain the old behavior, exclude the \n",
       "relevant entries before the concat operation.\n",
       "  results = pd.concat([results, normalized_data]) #.dropna(axis=1, how=\"all\")])\n",
       "</pre>\n"
      ],
      "text/plain": [
       "/var/folders/7t/k8q3439j6z3c683j7w00wtm80000gn/T/ipykernel_58430/330735155.py:26: FutureWarning: The behavior of \n",
       "DataFrame concatenation with empty or all-NA entries is deprecated. In a future version, this will no longer \n",
       "exclude empty or all-NA columns when determining the result dtypes. To retain the old behavior, exclude the \n",
       "relevant entries before the concat operation.\n",
       "  results = pd.concat([results, normalized_data]) #.dropna(axis=1, how=\"all\")])\n"
      ]
     },
     "metadata": {},
     "output_type": "display_data"
    },
    {
     "data": {
      "text/html": [
       "<pre style=\"white-space:pre;overflow-x:auto;line-height:normal;font-family:Menlo,'DejaVu Sans Mono',consolas,'Courier New',monospace\">/var/folders/7t/k8q3439j6z3c683j7w00wtm80000gn/T/ipykernel_58430/330735155.py:26: FutureWarning: The behavior of \n",
       "DataFrame concatenation with empty or all-NA entries is deprecated. In a future version, this will no longer \n",
       "exclude empty or all-NA columns when determining the result dtypes. To retain the old behavior, exclude the \n",
       "relevant entries before the concat operation.\n",
       "  results = pd.concat([results, normalized_data]) #.dropna(axis=1, how=\"all\")])\n",
       "</pre>\n"
      ],
      "text/plain": [
       "/var/folders/7t/k8q3439j6z3c683j7w00wtm80000gn/T/ipykernel_58430/330735155.py:26: FutureWarning: The behavior of \n",
       "DataFrame concatenation with empty or all-NA entries is deprecated. In a future version, this will no longer \n",
       "exclude empty or all-NA columns when determining the result dtypes. To retain the old behavior, exclude the \n",
       "relevant entries before the concat operation.\n",
       "  results = pd.concat([results, normalized_data]) #.dropna(axis=1, how=\"all\")])\n"
      ]
     },
     "metadata": {},
     "output_type": "display_data"
    },
    {
     "data": {
      "text/html": [
       "<pre style=\"white-space:pre;overflow-x:auto;line-height:normal;font-family:Menlo,'DejaVu Sans Mono',consolas,'Courier New',monospace\">/var/folders/7t/k8q3439j6z3c683j7w00wtm80000gn/T/ipykernel_58430/330735155.py:26: FutureWarning: The behavior of \n",
       "DataFrame concatenation with empty or all-NA entries is deprecated. In a future version, this will no longer \n",
       "exclude empty or all-NA columns when determining the result dtypes. To retain the old behavior, exclude the \n",
       "relevant entries before the concat operation.\n",
       "  results = pd.concat([results, normalized_data]) #.dropna(axis=1, how=\"all\")])\n",
       "</pre>\n"
      ],
      "text/plain": [
       "/var/folders/7t/k8q3439j6z3c683j7w00wtm80000gn/T/ipykernel_58430/330735155.py:26: FutureWarning: The behavior of \n",
       "DataFrame concatenation with empty or all-NA entries is deprecated. In a future version, this will no longer \n",
       "exclude empty or all-NA columns when determining the result dtypes. To retain the old behavior, exclude the \n",
       "relevant entries before the concat operation.\n",
       "  results = pd.concat([results, normalized_data]) #.dropna(axis=1, how=\"all\")])\n"
      ]
     },
     "metadata": {},
     "output_type": "display_data"
    },
    {
     "data": {
      "text/html": [
       "<pre style=\"white-space:pre;overflow-x:auto;line-height:normal;font-family:Menlo,'DejaVu Sans Mono',consolas,'Courier New',monospace\">/var/folders/7t/k8q3439j6z3c683j7w00wtm80000gn/T/ipykernel_58430/330735155.py:26: FutureWarning: The behavior of \n",
       "DataFrame concatenation with empty or all-NA entries is deprecated. In a future version, this will no longer \n",
       "exclude empty or all-NA columns when determining the result dtypes. To retain the old behavior, exclude the \n",
       "relevant entries before the concat operation.\n",
       "  results = pd.concat([results, normalized_data]) #.dropna(axis=1, how=\"all\")])\n",
       "</pre>\n"
      ],
      "text/plain": [
       "/var/folders/7t/k8q3439j6z3c683j7w00wtm80000gn/T/ipykernel_58430/330735155.py:26: FutureWarning: The behavior of \n",
       "DataFrame concatenation with empty or all-NA entries is deprecated. In a future version, this will no longer \n",
       "exclude empty or all-NA columns when determining the result dtypes. To retain the old behavior, exclude the \n",
       "relevant entries before the concat operation.\n",
       "  results = pd.concat([results, normalized_data]) #.dropna(axis=1, how=\"all\")])\n"
      ]
     },
     "metadata": {},
     "output_type": "display_data"
    },
    {
     "data": {
      "text/html": [
       "<pre style=\"white-space:pre;overflow-x:auto;line-height:normal;font-family:Menlo,'DejaVu Sans Mono',consolas,'Courier New',monospace\">/var/folders/7t/k8q3439j6z3c683j7w00wtm80000gn/T/ipykernel_58430/330735155.py:26: FutureWarning: The behavior of \n",
       "DataFrame concatenation with empty or all-NA entries is deprecated. In a future version, this will no longer \n",
       "exclude empty or all-NA columns when determining the result dtypes. To retain the old behavior, exclude the \n",
       "relevant entries before the concat operation.\n",
       "  results = pd.concat([results, normalized_data]) #.dropna(axis=1, how=\"all\")])\n",
       "</pre>\n"
      ],
      "text/plain": [
       "/var/folders/7t/k8q3439j6z3c683j7w00wtm80000gn/T/ipykernel_58430/330735155.py:26: FutureWarning: The behavior of \n",
       "DataFrame concatenation with empty or all-NA entries is deprecated. In a future version, this will no longer \n",
       "exclude empty or all-NA columns when determining the result dtypes. To retain the old behavior, exclude the \n",
       "relevant entries before the concat operation.\n",
       "  results = pd.concat([results, normalized_data]) #.dropna(axis=1, how=\"all\")])\n"
      ]
     },
     "metadata": {},
     "output_type": "display_data"
    },
    {
     "data": {
      "text/html": [
       "<pre style=\"white-space:pre;overflow-x:auto;line-height:normal;font-family:Menlo,'DejaVu Sans Mono',consolas,'Courier New',monospace\">/var/folders/7t/k8q3439j6z3c683j7w00wtm80000gn/T/ipykernel_58430/330735155.py:26: FutureWarning: The behavior of \n",
       "DataFrame concatenation with empty or all-NA entries is deprecated. In a future version, this will no longer \n",
       "exclude empty or all-NA columns when determining the result dtypes. To retain the old behavior, exclude the \n",
       "relevant entries before the concat operation.\n",
       "  results = pd.concat([results, normalized_data]) #.dropna(axis=1, how=\"all\")])\n",
       "</pre>\n"
      ],
      "text/plain": [
       "/var/folders/7t/k8q3439j6z3c683j7w00wtm80000gn/T/ipykernel_58430/330735155.py:26: FutureWarning: The behavior of \n",
       "DataFrame concatenation with empty or all-NA entries is deprecated. In a future version, this will no longer \n",
       "exclude empty or all-NA columns when determining the result dtypes. To retain the old behavior, exclude the \n",
       "relevant entries before the concat operation.\n",
       "  results = pd.concat([results, normalized_data]) #.dropna(axis=1, how=\"all\")])\n"
      ]
     },
     "metadata": {},
     "output_type": "display_data"
    },
    {
     "data": {
      "text/html": [
       "<pre style=\"white-space:pre;overflow-x:auto;line-height:normal;font-family:Menlo,'DejaVu Sans Mono',consolas,'Courier New',monospace\">/var/folders/7t/k8q3439j6z3c683j7w00wtm80000gn/T/ipykernel_58430/330735155.py:26: FutureWarning: The behavior of \n",
       "DataFrame concatenation with empty or all-NA entries is deprecated. In a future version, this will no longer \n",
       "exclude empty or all-NA columns when determining the result dtypes. To retain the old behavior, exclude the \n",
       "relevant entries before the concat operation.\n",
       "  results = pd.concat([results, normalized_data]) #.dropna(axis=1, how=\"all\")])\n",
       "</pre>\n"
      ],
      "text/plain": [
       "/var/folders/7t/k8q3439j6z3c683j7w00wtm80000gn/T/ipykernel_58430/330735155.py:26: FutureWarning: The behavior of \n",
       "DataFrame concatenation with empty or all-NA entries is deprecated. In a future version, this will no longer \n",
       "exclude empty or all-NA columns when determining the result dtypes. To retain the old behavior, exclude the \n",
       "relevant entries before the concat operation.\n",
       "  results = pd.concat([results, normalized_data]) #.dropna(axis=1, how=\"all\")])\n"
      ]
     },
     "metadata": {},
     "output_type": "display_data"
    },
    {
     "data": {
      "text/html": [
       "<pre style=\"white-space:pre;overflow-x:auto;line-height:normal;font-family:Menlo,'DejaVu Sans Mono',consolas,'Courier New',monospace\">/var/folders/7t/k8q3439j6z3c683j7w00wtm80000gn/T/ipykernel_58430/330735155.py:26: FutureWarning: The behavior of \n",
       "DataFrame concatenation with empty or all-NA entries is deprecated. In a future version, this will no longer \n",
       "exclude empty or all-NA columns when determining the result dtypes. To retain the old behavior, exclude the \n",
       "relevant entries before the concat operation.\n",
       "  results = pd.concat([results, normalized_data]) #.dropna(axis=1, how=\"all\")])\n",
       "</pre>\n"
      ],
      "text/plain": [
       "/var/folders/7t/k8q3439j6z3c683j7w00wtm80000gn/T/ipykernel_58430/330735155.py:26: FutureWarning: The behavior of \n",
       "DataFrame concatenation with empty or all-NA entries is deprecated. In a future version, this will no longer \n",
       "exclude empty or all-NA columns when determining the result dtypes. To retain the old behavior, exclude the \n",
       "relevant entries before the concat operation.\n",
       "  results = pd.concat([results, normalized_data]) #.dropna(axis=1, how=\"all\")])\n"
      ]
     },
     "metadata": {},
     "output_type": "display_data"
    },
    {
     "data": {
      "text/html": [
       "<pre style=\"white-space:pre;overflow-x:auto;line-height:normal;font-family:Menlo,'DejaVu Sans Mono',consolas,'Courier New',monospace\">/var/folders/7t/k8q3439j6z3c683j7w00wtm80000gn/T/ipykernel_58430/330735155.py:26: FutureWarning: The behavior of \n",
       "DataFrame concatenation with empty or all-NA entries is deprecated. In a future version, this will no longer \n",
       "exclude empty or all-NA columns when determining the result dtypes. To retain the old behavior, exclude the \n",
       "relevant entries before the concat operation.\n",
       "  results = pd.concat([results, normalized_data]) #.dropna(axis=1, how=\"all\")])\n",
       "</pre>\n"
      ],
      "text/plain": [
       "/var/folders/7t/k8q3439j6z3c683j7w00wtm80000gn/T/ipykernel_58430/330735155.py:26: FutureWarning: The behavior of \n",
       "DataFrame concatenation with empty or all-NA entries is deprecated. In a future version, this will no longer \n",
       "exclude empty or all-NA columns when determining the result dtypes. To retain the old behavior, exclude the \n",
       "relevant entries before the concat operation.\n",
       "  results = pd.concat([results, normalized_data]) #.dropna(axis=1, how=\"all\")])\n"
      ]
     },
     "metadata": {},
     "output_type": "display_data"
    },
    {
     "data": {
      "text/html": [
       "<pre style=\"white-space:pre;overflow-x:auto;line-height:normal;font-family:Menlo,'DejaVu Sans Mono',consolas,'Courier New',monospace\">/var/folders/7t/k8q3439j6z3c683j7w00wtm80000gn/T/ipykernel_58430/330735155.py:26: FutureWarning: The behavior of \n",
       "DataFrame concatenation with empty or all-NA entries is deprecated. In a future version, this will no longer \n",
       "exclude empty or all-NA columns when determining the result dtypes. To retain the old behavior, exclude the \n",
       "relevant entries before the concat operation.\n",
       "  results = pd.concat([results, normalized_data]) #.dropna(axis=1, how=\"all\")])\n",
       "</pre>\n"
      ],
      "text/plain": [
       "/var/folders/7t/k8q3439j6z3c683j7w00wtm80000gn/T/ipykernel_58430/330735155.py:26: FutureWarning: The behavior of \n",
       "DataFrame concatenation with empty or all-NA entries is deprecated. In a future version, this will no longer \n",
       "exclude empty or all-NA columns when determining the result dtypes. To retain the old behavior, exclude the \n",
       "relevant entries before the concat operation.\n",
       "  results = pd.concat([results, normalized_data]) #.dropna(axis=1, how=\"all\")])\n"
      ]
     },
     "metadata": {},
     "output_type": "display_data"
    },
    {
     "data": {
      "text/html": [
       "<pre style=\"white-space:pre;overflow-x:auto;line-height:normal;font-family:Menlo,'DejaVu Sans Mono',consolas,'Courier New',monospace\">/var/folders/7t/k8q3439j6z3c683j7w00wtm80000gn/T/ipykernel_58430/330735155.py:26: FutureWarning: The behavior of \n",
       "DataFrame concatenation with empty or all-NA entries is deprecated. In a future version, this will no longer \n",
       "exclude empty or all-NA columns when determining the result dtypes. To retain the old behavior, exclude the \n",
       "relevant entries before the concat operation.\n",
       "  results = pd.concat([results, normalized_data]) #.dropna(axis=1, how=\"all\")])\n",
       "</pre>\n"
      ],
      "text/plain": [
       "/var/folders/7t/k8q3439j6z3c683j7w00wtm80000gn/T/ipykernel_58430/330735155.py:26: FutureWarning: The behavior of \n",
       "DataFrame concatenation with empty or all-NA entries is deprecated. In a future version, this will no longer \n",
       "exclude empty or all-NA columns when determining the result dtypes. To retain the old behavior, exclude the \n",
       "relevant entries before the concat operation.\n",
       "  results = pd.concat([results, normalized_data]) #.dropna(axis=1, how=\"all\")])\n"
      ]
     },
     "metadata": {},
     "output_type": "display_data"
    },
    {
     "data": {
      "text/html": [
       "<pre style=\"white-space:pre;overflow-x:auto;line-height:normal;font-family:Menlo,'DejaVu Sans Mono',consolas,'Courier New',monospace\">/var/folders/7t/k8q3439j6z3c683j7w00wtm80000gn/T/ipykernel_58430/330735155.py:26: FutureWarning: The behavior of \n",
       "DataFrame concatenation with empty or all-NA entries is deprecated. In a future version, this will no longer \n",
       "exclude empty or all-NA columns when determining the result dtypes. To retain the old behavior, exclude the \n",
       "relevant entries before the concat operation.\n",
       "  results = pd.concat([results, normalized_data]) #.dropna(axis=1, how=\"all\")])\n",
       "</pre>\n"
      ],
      "text/plain": [
       "/var/folders/7t/k8q3439j6z3c683j7w00wtm80000gn/T/ipykernel_58430/330735155.py:26: FutureWarning: The behavior of \n",
       "DataFrame concatenation with empty or all-NA entries is deprecated. In a future version, this will no longer \n",
       "exclude empty or all-NA columns when determining the result dtypes. To retain the old behavior, exclude the \n",
       "relevant entries before the concat operation.\n",
       "  results = pd.concat([results, normalized_data]) #.dropna(axis=1, how=\"all\")])\n"
      ]
     },
     "metadata": {},
     "output_type": "display_data"
    },
    {
     "data": {
      "text/html": [
       "<pre style=\"white-space:pre;overflow-x:auto;line-height:normal;font-family:Menlo,'DejaVu Sans Mono',consolas,'Courier New',monospace\">/var/folders/7t/k8q3439j6z3c683j7w00wtm80000gn/T/ipykernel_58430/330735155.py:26: FutureWarning: The behavior of \n",
       "DataFrame concatenation with empty or all-NA entries is deprecated. In a future version, this will no longer \n",
       "exclude empty or all-NA columns when determining the result dtypes. To retain the old behavior, exclude the \n",
       "relevant entries before the concat operation.\n",
       "  results = pd.concat([results, normalized_data]) #.dropna(axis=1, how=\"all\")])\n",
       "</pre>\n"
      ],
      "text/plain": [
       "/var/folders/7t/k8q3439j6z3c683j7w00wtm80000gn/T/ipykernel_58430/330735155.py:26: FutureWarning: The behavior of \n",
       "DataFrame concatenation with empty or all-NA entries is deprecated. In a future version, this will no longer \n",
       "exclude empty or all-NA columns when determining the result dtypes. To retain the old behavior, exclude the \n",
       "relevant entries before the concat operation.\n",
       "  results = pd.concat([results, normalized_data]) #.dropna(axis=1, how=\"all\")])\n"
      ]
     },
     "metadata": {},
     "output_type": "display_data"
    },
    {
     "data": {
      "text/html": [
       "<pre style=\"white-space:pre;overflow-x:auto;line-height:normal;font-family:Menlo,'DejaVu Sans Mono',consolas,'Courier New',monospace\">/var/folders/7t/k8q3439j6z3c683j7w00wtm80000gn/T/ipykernel_58430/330735155.py:26: FutureWarning: The behavior of \n",
       "DataFrame concatenation with empty or all-NA entries is deprecated. In a future version, this will no longer \n",
       "exclude empty or all-NA columns when determining the result dtypes. To retain the old behavior, exclude the \n",
       "relevant entries before the concat operation.\n",
       "  results = pd.concat([results, normalized_data]) #.dropna(axis=1, how=\"all\")])\n",
       "</pre>\n"
      ],
      "text/plain": [
       "/var/folders/7t/k8q3439j6z3c683j7w00wtm80000gn/T/ipykernel_58430/330735155.py:26: FutureWarning: The behavior of \n",
       "DataFrame concatenation with empty or all-NA entries is deprecated. In a future version, this will no longer \n",
       "exclude empty or all-NA columns when determining the result dtypes. To retain the old behavior, exclude the \n",
       "relevant entries before the concat operation.\n",
       "  results = pd.concat([results, normalized_data]) #.dropna(axis=1, how=\"all\")])\n"
      ]
     },
     "metadata": {},
     "output_type": "display_data"
    },
    {
     "data": {
      "text/html": [
       "<pre style=\"white-space:pre;overflow-x:auto;line-height:normal;font-family:Menlo,'DejaVu Sans Mono',consolas,'Courier New',monospace\">/var/folders/7t/k8q3439j6z3c683j7w00wtm80000gn/T/ipykernel_58430/330735155.py:26: FutureWarning: The behavior of \n",
       "DataFrame concatenation with empty or all-NA entries is deprecated. In a future version, this will no longer \n",
       "exclude empty or all-NA columns when determining the result dtypes. To retain the old behavior, exclude the \n",
       "relevant entries before the concat operation.\n",
       "  results = pd.concat([results, normalized_data]) #.dropna(axis=1, how=\"all\")])\n",
       "</pre>\n"
      ],
      "text/plain": [
       "/var/folders/7t/k8q3439j6z3c683j7w00wtm80000gn/T/ipykernel_58430/330735155.py:26: FutureWarning: The behavior of \n",
       "DataFrame concatenation with empty or all-NA entries is deprecated. In a future version, this will no longer \n",
       "exclude empty or all-NA columns when determining the result dtypes. To retain the old behavior, exclude the \n",
       "relevant entries before the concat operation.\n",
       "  results = pd.concat([results, normalized_data]) #.dropna(axis=1, how=\"all\")])\n"
      ]
     },
     "metadata": {},
     "output_type": "display_data"
    },
    {
     "data": {
      "text/html": [
       "<pre style=\"white-space:pre;overflow-x:auto;line-height:normal;font-family:Menlo,'DejaVu Sans Mono',consolas,'Courier New',monospace\">/var/folders/7t/k8q3439j6z3c683j7w00wtm80000gn/T/ipykernel_58430/330735155.py:26: FutureWarning: The behavior of \n",
       "DataFrame concatenation with empty or all-NA entries is deprecated. In a future version, this will no longer \n",
       "exclude empty or all-NA columns when determining the result dtypes. To retain the old behavior, exclude the \n",
       "relevant entries before the concat operation.\n",
       "  results = pd.concat([results, normalized_data]) #.dropna(axis=1, how=\"all\")])\n",
       "</pre>\n"
      ],
      "text/plain": [
       "/var/folders/7t/k8q3439j6z3c683j7w00wtm80000gn/T/ipykernel_58430/330735155.py:26: FutureWarning: The behavior of \n",
       "DataFrame concatenation with empty or all-NA entries is deprecated. In a future version, this will no longer \n",
       "exclude empty or all-NA columns when determining the result dtypes. To retain the old behavior, exclude the \n",
       "relevant entries before the concat operation.\n",
       "  results = pd.concat([results, normalized_data]) #.dropna(axis=1, how=\"all\")])\n"
      ]
     },
     "metadata": {},
     "output_type": "display_data"
    },
    {
     "data": {
      "text/html": [
       "<pre style=\"white-space:pre;overflow-x:auto;line-height:normal;font-family:Menlo,'DejaVu Sans Mono',consolas,'Courier New',monospace\">/var/folders/7t/k8q3439j6z3c683j7w00wtm80000gn/T/ipykernel_58430/330735155.py:26: FutureWarning: The behavior of \n",
       "DataFrame concatenation with empty or all-NA entries is deprecated. In a future version, this will no longer \n",
       "exclude empty or all-NA columns when determining the result dtypes. To retain the old behavior, exclude the \n",
       "relevant entries before the concat operation.\n",
       "  results = pd.concat([results, normalized_data]) #.dropna(axis=1, how=\"all\")])\n",
       "</pre>\n"
      ],
      "text/plain": [
       "/var/folders/7t/k8q3439j6z3c683j7w00wtm80000gn/T/ipykernel_58430/330735155.py:26: FutureWarning: The behavior of \n",
       "DataFrame concatenation with empty or all-NA entries is deprecated. In a future version, this will no longer \n",
       "exclude empty or all-NA columns when determining the result dtypes. To retain the old behavior, exclude the \n",
       "relevant entries before the concat operation.\n",
       "  results = pd.concat([results, normalized_data]) #.dropna(axis=1, how=\"all\")])\n"
      ]
     },
     "metadata": {},
     "output_type": "display_data"
    },
    {
     "data": {
      "text/html": [
       "<pre style=\"white-space:pre;overflow-x:auto;line-height:normal;font-family:Menlo,'DejaVu Sans Mono',consolas,'Courier New',monospace\">/var/folders/7t/k8q3439j6z3c683j7w00wtm80000gn/T/ipykernel_58430/330735155.py:26: FutureWarning: The behavior of \n",
       "DataFrame concatenation with empty or all-NA entries is deprecated. In a future version, this will no longer \n",
       "exclude empty or all-NA columns when determining the result dtypes. To retain the old behavior, exclude the \n",
       "relevant entries before the concat operation.\n",
       "  results = pd.concat([results, normalized_data]) #.dropna(axis=1, how=\"all\")])\n",
       "</pre>\n"
      ],
      "text/plain": [
       "/var/folders/7t/k8q3439j6z3c683j7w00wtm80000gn/T/ipykernel_58430/330735155.py:26: FutureWarning: The behavior of \n",
       "DataFrame concatenation with empty or all-NA entries is deprecated. In a future version, this will no longer \n",
       "exclude empty or all-NA columns when determining the result dtypes. To retain the old behavior, exclude the \n",
       "relevant entries before the concat operation.\n",
       "  results = pd.concat([results, normalized_data]) #.dropna(axis=1, how=\"all\")])\n"
      ]
     },
     "metadata": {},
     "output_type": "display_data"
    },
    {
     "data": {
      "text/html": [
       "<pre style=\"white-space:pre;overflow-x:auto;line-height:normal;font-family:Menlo,'DejaVu Sans Mono',consolas,'Courier New',monospace\">/var/folders/7t/k8q3439j6z3c683j7w00wtm80000gn/T/ipykernel_58430/330735155.py:26: FutureWarning: The behavior of \n",
       "DataFrame concatenation with empty or all-NA entries is deprecated. In a future version, this will no longer \n",
       "exclude empty or all-NA columns when determining the result dtypes. To retain the old behavior, exclude the \n",
       "relevant entries before the concat operation.\n",
       "  results = pd.concat([results, normalized_data]) #.dropna(axis=1, how=\"all\")])\n",
       "</pre>\n"
      ],
      "text/plain": [
       "/var/folders/7t/k8q3439j6z3c683j7w00wtm80000gn/T/ipykernel_58430/330735155.py:26: FutureWarning: The behavior of \n",
       "DataFrame concatenation with empty or all-NA entries is deprecated. In a future version, this will no longer \n",
       "exclude empty or all-NA columns when determining the result dtypes. To retain the old behavior, exclude the \n",
       "relevant entries before the concat operation.\n",
       "  results = pd.concat([results, normalized_data]) #.dropna(axis=1, how=\"all\")])\n"
      ]
     },
     "metadata": {},
     "output_type": "display_data"
    },
    {
     "data": {
      "text/html": [
       "<pre style=\"white-space:pre;overflow-x:auto;line-height:normal;font-family:Menlo,'DejaVu Sans Mono',consolas,'Courier New',monospace\">/var/folders/7t/k8q3439j6z3c683j7w00wtm80000gn/T/ipykernel_58430/330735155.py:26: FutureWarning: The behavior of \n",
       "DataFrame concatenation with empty or all-NA entries is deprecated. In a future version, this will no longer \n",
       "exclude empty or all-NA columns when determining the result dtypes. To retain the old behavior, exclude the \n",
       "relevant entries before the concat operation.\n",
       "  results = pd.concat([results, normalized_data]) #.dropna(axis=1, how=\"all\")])\n",
       "</pre>\n"
      ],
      "text/plain": [
       "/var/folders/7t/k8q3439j6z3c683j7w00wtm80000gn/T/ipykernel_58430/330735155.py:26: FutureWarning: The behavior of \n",
       "DataFrame concatenation with empty or all-NA entries is deprecated. In a future version, this will no longer \n",
       "exclude empty or all-NA columns when determining the result dtypes. To retain the old behavior, exclude the \n",
       "relevant entries before the concat operation.\n",
       "  results = pd.concat([results, normalized_data]) #.dropna(axis=1, how=\"all\")])\n"
      ]
     },
     "metadata": {},
     "output_type": "display_data"
    },
    {
     "data": {
      "text/html": [
       "<pre style=\"white-space:pre;overflow-x:auto;line-height:normal;font-family:Menlo,'DejaVu Sans Mono',consolas,'Courier New',monospace\">/var/folders/7t/k8q3439j6z3c683j7w00wtm80000gn/T/ipykernel_58430/330735155.py:26: FutureWarning: The behavior of \n",
       "DataFrame concatenation with empty or all-NA entries is deprecated. In a future version, this will no longer \n",
       "exclude empty or all-NA columns when determining the result dtypes. To retain the old behavior, exclude the \n",
       "relevant entries before the concat operation.\n",
       "  results = pd.concat([results, normalized_data]) #.dropna(axis=1, how=\"all\")])\n",
       "</pre>\n"
      ],
      "text/plain": [
       "/var/folders/7t/k8q3439j6z3c683j7w00wtm80000gn/T/ipykernel_58430/330735155.py:26: FutureWarning: The behavior of \n",
       "DataFrame concatenation with empty or all-NA entries is deprecated. In a future version, this will no longer \n",
       "exclude empty or all-NA columns when determining the result dtypes. To retain the old behavior, exclude the \n",
       "relevant entries before the concat operation.\n",
       "  results = pd.concat([results, normalized_data]) #.dropna(axis=1, how=\"all\")])\n"
      ]
     },
     "metadata": {},
     "output_type": "display_data"
    },
    {
     "data": {
      "text/html": [
       "<pre style=\"white-space:pre;overflow-x:auto;line-height:normal;font-family:Menlo,'DejaVu Sans Mono',consolas,'Courier New',monospace\">/var/folders/7t/k8q3439j6z3c683j7w00wtm80000gn/T/ipykernel_58430/330735155.py:26: FutureWarning: The behavior of \n",
       "DataFrame concatenation with empty or all-NA entries is deprecated. In a future version, this will no longer \n",
       "exclude empty or all-NA columns when determining the result dtypes. To retain the old behavior, exclude the \n",
       "relevant entries before the concat operation.\n",
       "  results = pd.concat([results, normalized_data]) #.dropna(axis=1, how=\"all\")])\n",
       "</pre>\n"
      ],
      "text/plain": [
       "/var/folders/7t/k8q3439j6z3c683j7w00wtm80000gn/T/ipykernel_58430/330735155.py:26: FutureWarning: The behavior of \n",
       "DataFrame concatenation with empty or all-NA entries is deprecated. In a future version, this will no longer \n",
       "exclude empty or all-NA columns when determining the result dtypes. To retain the old behavior, exclude the \n",
       "relevant entries before the concat operation.\n",
       "  results = pd.concat([results, normalized_data]) #.dropna(axis=1, how=\"all\")])\n"
      ]
     },
     "metadata": {},
     "output_type": "display_data"
    },
    {
     "data": {
      "text/html": [
       "<pre style=\"white-space:pre;overflow-x:auto;line-height:normal;font-family:Menlo,'DejaVu Sans Mono',consolas,'Courier New',monospace\">/var/folders/7t/k8q3439j6z3c683j7w00wtm80000gn/T/ipykernel_58430/330735155.py:26: FutureWarning: The behavior of \n",
       "DataFrame concatenation with empty or all-NA entries is deprecated. In a future version, this will no longer \n",
       "exclude empty or all-NA columns when determining the result dtypes. To retain the old behavior, exclude the \n",
       "relevant entries before the concat operation.\n",
       "  results = pd.concat([results, normalized_data]) #.dropna(axis=1, how=\"all\")])\n",
       "</pre>\n"
      ],
      "text/plain": [
       "/var/folders/7t/k8q3439j6z3c683j7w00wtm80000gn/T/ipykernel_58430/330735155.py:26: FutureWarning: The behavior of \n",
       "DataFrame concatenation with empty or all-NA entries is deprecated. In a future version, this will no longer \n",
       "exclude empty or all-NA columns when determining the result dtypes. To retain the old behavior, exclude the \n",
       "relevant entries before the concat operation.\n",
       "  results = pd.concat([results, normalized_data]) #.dropna(axis=1, how=\"all\")])\n"
      ]
     },
     "metadata": {},
     "output_type": "display_data"
    },
    {
     "data": {
      "text/html": [
       "<pre style=\"white-space:pre;overflow-x:auto;line-height:normal;font-family:Menlo,'DejaVu Sans Mono',consolas,'Courier New',monospace\">/var/folders/7t/k8q3439j6z3c683j7w00wtm80000gn/T/ipykernel_58430/330735155.py:26: FutureWarning: The behavior of \n",
       "DataFrame concatenation with empty or all-NA entries is deprecated. In a future version, this will no longer \n",
       "exclude empty or all-NA columns when determining the result dtypes. To retain the old behavior, exclude the \n",
       "relevant entries before the concat operation.\n",
       "  results = pd.concat([results, normalized_data]) #.dropna(axis=1, how=\"all\")])\n",
       "</pre>\n"
      ],
      "text/plain": [
       "/var/folders/7t/k8q3439j6z3c683j7w00wtm80000gn/T/ipykernel_58430/330735155.py:26: FutureWarning: The behavior of \n",
       "DataFrame concatenation with empty or all-NA entries is deprecated. In a future version, this will no longer \n",
       "exclude empty or all-NA columns when determining the result dtypes. To retain the old behavior, exclude the \n",
       "relevant entries before the concat operation.\n",
       "  results = pd.concat([results, normalized_data]) #.dropna(axis=1, how=\"all\")])\n"
      ]
     },
     "metadata": {},
     "output_type": "display_data"
    },
    {
     "data": {
      "text/html": [
       "<pre style=\"white-space:pre;overflow-x:auto;line-height:normal;font-family:Menlo,'DejaVu Sans Mono',consolas,'Courier New',monospace\">/var/folders/7t/k8q3439j6z3c683j7w00wtm80000gn/T/ipykernel_58430/330735155.py:26: FutureWarning: The behavior of \n",
       "DataFrame concatenation with empty or all-NA entries is deprecated. In a future version, this will no longer \n",
       "exclude empty or all-NA columns when determining the result dtypes. To retain the old behavior, exclude the \n",
       "relevant entries before the concat operation.\n",
       "  results = pd.concat([results, normalized_data]) #.dropna(axis=1, how=\"all\")])\n",
       "</pre>\n"
      ],
      "text/plain": [
       "/var/folders/7t/k8q3439j6z3c683j7w00wtm80000gn/T/ipykernel_58430/330735155.py:26: FutureWarning: The behavior of \n",
       "DataFrame concatenation with empty or all-NA entries is deprecated. In a future version, this will no longer \n",
       "exclude empty or all-NA columns when determining the result dtypes. To retain the old behavior, exclude the \n",
       "relevant entries before the concat operation.\n",
       "  results = pd.concat([results, normalized_data]) #.dropna(axis=1, how=\"all\")])\n"
      ]
     },
     "metadata": {},
     "output_type": "display_data"
    },
    {
     "data": {
      "text/html": [
       "<pre style=\"white-space:pre;overflow-x:auto;line-height:normal;font-family:Menlo,'DejaVu Sans Mono',consolas,'Courier New',monospace\">/var/folders/7t/k8q3439j6z3c683j7w00wtm80000gn/T/ipykernel_58430/330735155.py:26: FutureWarning: The behavior of \n",
       "DataFrame concatenation with empty or all-NA entries is deprecated. In a future version, this will no longer \n",
       "exclude empty or all-NA columns when determining the result dtypes. To retain the old behavior, exclude the \n",
       "relevant entries before the concat operation.\n",
       "  results = pd.concat([results, normalized_data]) #.dropna(axis=1, how=\"all\")])\n",
       "</pre>\n"
      ],
      "text/plain": [
       "/var/folders/7t/k8q3439j6z3c683j7w00wtm80000gn/T/ipykernel_58430/330735155.py:26: FutureWarning: The behavior of \n",
       "DataFrame concatenation with empty or all-NA entries is deprecated. In a future version, this will no longer \n",
       "exclude empty or all-NA columns when determining the result dtypes. To retain the old behavior, exclude the \n",
       "relevant entries before the concat operation.\n",
       "  results = pd.concat([results, normalized_data]) #.dropna(axis=1, how=\"all\")])\n"
      ]
     },
     "metadata": {},
     "output_type": "display_data"
    },
    {
     "data": {
      "text/html": [
       "<pre style=\"white-space:pre;overflow-x:auto;line-height:normal;font-family:Menlo,'DejaVu Sans Mono',consolas,'Courier New',monospace\">/var/folders/7t/k8q3439j6z3c683j7w00wtm80000gn/T/ipykernel_58430/330735155.py:26: FutureWarning: The behavior of \n",
       "DataFrame concatenation with empty or all-NA entries is deprecated. In a future version, this will no longer \n",
       "exclude empty or all-NA columns when determining the result dtypes. To retain the old behavior, exclude the \n",
       "relevant entries before the concat operation.\n",
       "  results = pd.concat([results, normalized_data]) #.dropna(axis=1, how=\"all\")])\n",
       "</pre>\n"
      ],
      "text/plain": [
       "/var/folders/7t/k8q3439j6z3c683j7w00wtm80000gn/T/ipykernel_58430/330735155.py:26: FutureWarning: The behavior of \n",
       "DataFrame concatenation with empty or all-NA entries is deprecated. In a future version, this will no longer \n",
       "exclude empty or all-NA columns when determining the result dtypes. To retain the old behavior, exclude the \n",
       "relevant entries before the concat operation.\n",
       "  results = pd.concat([results, normalized_data]) #.dropna(axis=1, how=\"all\")])\n"
      ]
     },
     "metadata": {},
     "output_type": "display_data"
    },
    {
     "data": {
      "text/html": [
       "<pre style=\"white-space:pre;overflow-x:auto;line-height:normal;font-family:Menlo,'DejaVu Sans Mono',consolas,'Courier New',monospace\">/var/folders/7t/k8q3439j6z3c683j7w00wtm80000gn/T/ipykernel_58430/330735155.py:26: FutureWarning: The behavior of \n",
       "DataFrame concatenation with empty or all-NA entries is deprecated. In a future version, this will no longer \n",
       "exclude empty or all-NA columns when determining the result dtypes. To retain the old behavior, exclude the \n",
       "relevant entries before the concat operation.\n",
       "  results = pd.concat([results, normalized_data]) #.dropna(axis=1, how=\"all\")])\n",
       "</pre>\n"
      ],
      "text/plain": [
       "/var/folders/7t/k8q3439j6z3c683j7w00wtm80000gn/T/ipykernel_58430/330735155.py:26: FutureWarning: The behavior of \n",
       "DataFrame concatenation with empty or all-NA entries is deprecated. In a future version, this will no longer \n",
       "exclude empty or all-NA columns when determining the result dtypes. To retain the old behavior, exclude the \n",
       "relevant entries before the concat operation.\n",
       "  results = pd.concat([results, normalized_data]) #.dropna(axis=1, how=\"all\")])\n"
      ]
     },
     "metadata": {},
     "output_type": "display_data"
    },
    {
     "data": {
      "text/html": [
       "<pre style=\"white-space:pre;overflow-x:auto;line-height:normal;font-family:Menlo,'DejaVu Sans Mono',consolas,'Courier New',monospace\">/var/folders/7t/k8q3439j6z3c683j7w00wtm80000gn/T/ipykernel_58430/330735155.py:26: FutureWarning: The behavior of \n",
       "DataFrame concatenation with empty or all-NA entries is deprecated. In a future version, this will no longer \n",
       "exclude empty or all-NA columns when determining the result dtypes. To retain the old behavior, exclude the \n",
       "relevant entries before the concat operation.\n",
       "  results = pd.concat([results, normalized_data]) #.dropna(axis=1, how=\"all\")])\n",
       "</pre>\n"
      ],
      "text/plain": [
       "/var/folders/7t/k8q3439j6z3c683j7w00wtm80000gn/T/ipykernel_58430/330735155.py:26: FutureWarning: The behavior of \n",
       "DataFrame concatenation with empty or all-NA entries is deprecated. In a future version, this will no longer \n",
       "exclude empty or all-NA columns when determining the result dtypes. To retain the old behavior, exclude the \n",
       "relevant entries before the concat operation.\n",
       "  results = pd.concat([results, normalized_data]) #.dropna(axis=1, how=\"all\")])\n"
      ]
     },
     "metadata": {},
     "output_type": "display_data"
    },
    {
     "data": {
      "text/html": [
       "<pre style=\"white-space:pre;overflow-x:auto;line-height:normal;font-family:Menlo,'DejaVu Sans Mono',consolas,'Courier New',monospace\">/var/folders/7t/k8q3439j6z3c683j7w00wtm80000gn/T/ipykernel_58430/330735155.py:26: FutureWarning: The behavior of \n",
       "DataFrame concatenation with empty or all-NA entries is deprecated. In a future version, this will no longer \n",
       "exclude empty or all-NA columns when determining the result dtypes. To retain the old behavior, exclude the \n",
       "relevant entries before the concat operation.\n",
       "  results = pd.concat([results, normalized_data]) #.dropna(axis=1, how=\"all\")])\n",
       "</pre>\n"
      ],
      "text/plain": [
       "/var/folders/7t/k8q3439j6z3c683j7w00wtm80000gn/T/ipykernel_58430/330735155.py:26: FutureWarning: The behavior of \n",
       "DataFrame concatenation with empty or all-NA entries is deprecated. In a future version, this will no longer \n",
       "exclude empty or all-NA columns when determining the result dtypes. To retain the old behavior, exclude the \n",
       "relevant entries before the concat operation.\n",
       "  results = pd.concat([results, normalized_data]) #.dropna(axis=1, how=\"all\")])\n"
      ]
     },
     "metadata": {},
     "output_type": "display_data"
    },
    {
     "data": {
      "text/html": [
       "<pre style=\"white-space:pre;overflow-x:auto;line-height:normal;font-family:Menlo,'DejaVu Sans Mono',consolas,'Courier New',monospace\">/var/folders/7t/k8q3439j6z3c683j7w00wtm80000gn/T/ipykernel_58430/330735155.py:26: FutureWarning: The behavior of \n",
       "DataFrame concatenation with empty or all-NA entries is deprecated. In a future version, this will no longer \n",
       "exclude empty or all-NA columns when determining the result dtypes. To retain the old behavior, exclude the \n",
       "relevant entries before the concat operation.\n",
       "  results = pd.concat([results, normalized_data]) #.dropna(axis=1, how=\"all\")])\n",
       "</pre>\n"
      ],
      "text/plain": [
       "/var/folders/7t/k8q3439j6z3c683j7w00wtm80000gn/T/ipykernel_58430/330735155.py:26: FutureWarning: The behavior of \n",
       "DataFrame concatenation with empty or all-NA entries is deprecated. In a future version, this will no longer \n",
       "exclude empty or all-NA columns when determining the result dtypes. To retain the old behavior, exclude the \n",
       "relevant entries before the concat operation.\n",
       "  results = pd.concat([results, normalized_data]) #.dropna(axis=1, how=\"all\")])\n"
      ]
     },
     "metadata": {},
     "output_type": "display_data"
    },
    {
     "data": {
      "text/html": [
       "<pre style=\"white-space:pre;overflow-x:auto;line-height:normal;font-family:Menlo,'DejaVu Sans Mono',consolas,'Courier New',monospace\">/var/folders/7t/k8q3439j6z3c683j7w00wtm80000gn/T/ipykernel_58430/330735155.py:26: FutureWarning: The behavior of \n",
       "DataFrame concatenation with empty or all-NA entries is deprecated. In a future version, this will no longer \n",
       "exclude empty or all-NA columns when determining the result dtypes. To retain the old behavior, exclude the \n",
       "relevant entries before the concat operation.\n",
       "  results = pd.concat([results, normalized_data]) #.dropna(axis=1, how=\"all\")])\n",
       "</pre>\n"
      ],
      "text/plain": [
       "/var/folders/7t/k8q3439j6z3c683j7w00wtm80000gn/T/ipykernel_58430/330735155.py:26: FutureWarning: The behavior of \n",
       "DataFrame concatenation with empty or all-NA entries is deprecated. In a future version, this will no longer \n",
       "exclude empty or all-NA columns when determining the result dtypes. To retain the old behavior, exclude the \n",
       "relevant entries before the concat operation.\n",
       "  results = pd.concat([results, normalized_data]) #.dropna(axis=1, how=\"all\")])\n"
      ]
     },
     "metadata": {},
     "output_type": "display_data"
    },
    {
     "data": {
      "text/html": [
       "<pre style=\"white-space:pre;overflow-x:auto;line-height:normal;font-family:Menlo,'DejaVu Sans Mono',consolas,'Courier New',monospace\">/var/folders/7t/k8q3439j6z3c683j7w00wtm80000gn/T/ipykernel_58430/330735155.py:26: FutureWarning: The behavior of \n",
       "DataFrame concatenation with empty or all-NA entries is deprecated. In a future version, this will no longer \n",
       "exclude empty or all-NA columns when determining the result dtypes. To retain the old behavior, exclude the \n",
       "relevant entries before the concat operation.\n",
       "  results = pd.concat([results, normalized_data]) #.dropna(axis=1, how=\"all\")])\n",
       "</pre>\n"
      ],
      "text/plain": [
       "/var/folders/7t/k8q3439j6z3c683j7w00wtm80000gn/T/ipykernel_58430/330735155.py:26: FutureWarning: The behavior of \n",
       "DataFrame concatenation with empty or all-NA entries is deprecated. In a future version, this will no longer \n",
       "exclude empty or all-NA columns when determining the result dtypes. To retain the old behavior, exclude the \n",
       "relevant entries before the concat operation.\n",
       "  results = pd.concat([results, normalized_data]) #.dropna(axis=1, how=\"all\")])\n"
      ]
     },
     "metadata": {},
     "output_type": "display_data"
    },
    {
     "data": {
      "text/html": [
       "<pre style=\"white-space:pre;overflow-x:auto;line-height:normal;font-family:Menlo,'DejaVu Sans Mono',consolas,'Courier New',monospace\">/var/folders/7t/k8q3439j6z3c683j7w00wtm80000gn/T/ipykernel_58430/330735155.py:26: FutureWarning: The behavior of \n",
       "DataFrame concatenation with empty or all-NA entries is deprecated. In a future version, this will no longer \n",
       "exclude empty or all-NA columns when determining the result dtypes. To retain the old behavior, exclude the \n",
       "relevant entries before the concat operation.\n",
       "  results = pd.concat([results, normalized_data]) #.dropna(axis=1, how=\"all\")])\n",
       "</pre>\n"
      ],
      "text/plain": [
       "/var/folders/7t/k8q3439j6z3c683j7w00wtm80000gn/T/ipykernel_58430/330735155.py:26: FutureWarning: The behavior of \n",
       "DataFrame concatenation with empty or all-NA entries is deprecated. In a future version, this will no longer \n",
       "exclude empty or all-NA columns when determining the result dtypes. To retain the old behavior, exclude the \n",
       "relevant entries before the concat operation.\n",
       "  results = pd.concat([results, normalized_data]) #.dropna(axis=1, how=\"all\")])\n"
      ]
     },
     "metadata": {},
     "output_type": "display_data"
    },
    {
     "data": {
      "text/html": [
       "<pre style=\"white-space:pre;overflow-x:auto;line-height:normal;font-family:Menlo,'DejaVu Sans Mono',consolas,'Courier New',monospace\">/var/folders/7t/k8q3439j6z3c683j7w00wtm80000gn/T/ipykernel_58430/330735155.py:26: FutureWarning: The behavior of \n",
       "DataFrame concatenation with empty or all-NA entries is deprecated. In a future version, this will no longer \n",
       "exclude empty or all-NA columns when determining the result dtypes. To retain the old behavior, exclude the \n",
       "relevant entries before the concat operation.\n",
       "  results = pd.concat([results, normalized_data]) #.dropna(axis=1, how=\"all\")])\n",
       "</pre>\n"
      ],
      "text/plain": [
       "/var/folders/7t/k8q3439j6z3c683j7w00wtm80000gn/T/ipykernel_58430/330735155.py:26: FutureWarning: The behavior of \n",
       "DataFrame concatenation with empty or all-NA entries is deprecated. In a future version, this will no longer \n",
       "exclude empty or all-NA columns when determining the result dtypes. To retain the old behavior, exclude the \n",
       "relevant entries before the concat operation.\n",
       "  results = pd.concat([results, normalized_data]) #.dropna(axis=1, how=\"all\")])\n"
      ]
     },
     "metadata": {},
     "output_type": "display_data"
    },
    {
     "data": {
      "text/html": [
       "<pre style=\"white-space:pre;overflow-x:auto;line-height:normal;font-family:Menlo,'DejaVu Sans Mono',consolas,'Courier New',monospace\">/var/folders/7t/k8q3439j6z3c683j7w00wtm80000gn/T/ipykernel_58430/330735155.py:26: FutureWarning: The behavior of \n",
       "DataFrame concatenation with empty or all-NA entries is deprecated. In a future version, this will no longer \n",
       "exclude empty or all-NA columns when determining the result dtypes. To retain the old behavior, exclude the \n",
       "relevant entries before the concat operation.\n",
       "  results = pd.concat([results, normalized_data]) #.dropna(axis=1, how=\"all\")])\n",
       "</pre>\n"
      ],
      "text/plain": [
       "/var/folders/7t/k8q3439j6z3c683j7w00wtm80000gn/T/ipykernel_58430/330735155.py:26: FutureWarning: The behavior of \n",
       "DataFrame concatenation with empty or all-NA entries is deprecated. In a future version, this will no longer \n",
       "exclude empty or all-NA columns when determining the result dtypes. To retain the old behavior, exclude the \n",
       "relevant entries before the concat operation.\n",
       "  results = pd.concat([results, normalized_data]) #.dropna(axis=1, how=\"all\")])\n"
      ]
     },
     "metadata": {},
     "output_type": "display_data"
    },
    {
     "data": {
      "text/html": [
       "<pre style=\"white-space:pre;overflow-x:auto;line-height:normal;font-family:Menlo,'DejaVu Sans Mono',consolas,'Courier New',monospace\">/var/folders/7t/k8q3439j6z3c683j7w00wtm80000gn/T/ipykernel_58430/330735155.py:26: FutureWarning: The behavior of \n",
       "DataFrame concatenation with empty or all-NA entries is deprecated. In a future version, this will no longer \n",
       "exclude empty or all-NA columns when determining the result dtypes. To retain the old behavior, exclude the \n",
       "relevant entries before the concat operation.\n",
       "  results = pd.concat([results, normalized_data]) #.dropna(axis=1, how=\"all\")])\n",
       "</pre>\n"
      ],
      "text/plain": [
       "/var/folders/7t/k8q3439j6z3c683j7w00wtm80000gn/T/ipykernel_58430/330735155.py:26: FutureWarning: The behavior of \n",
       "DataFrame concatenation with empty or all-NA entries is deprecated. In a future version, this will no longer \n",
       "exclude empty or all-NA columns when determining the result dtypes. To retain the old behavior, exclude the \n",
       "relevant entries before the concat operation.\n",
       "  results = pd.concat([results, normalized_data]) #.dropna(axis=1, how=\"all\")])\n"
      ]
     },
     "metadata": {},
     "output_type": "display_data"
    },
    {
     "data": {
      "text/html": [
       "<pre style=\"white-space:pre;overflow-x:auto;line-height:normal;font-family:Menlo,'DejaVu Sans Mono',consolas,'Courier New',monospace\">/var/folders/7t/k8q3439j6z3c683j7w00wtm80000gn/T/ipykernel_58430/330735155.py:26: FutureWarning: The behavior of \n",
       "DataFrame concatenation with empty or all-NA entries is deprecated. In a future version, this will no longer \n",
       "exclude empty or all-NA columns when determining the result dtypes. To retain the old behavior, exclude the \n",
       "relevant entries before the concat operation.\n",
       "  results = pd.concat([results, normalized_data]) #.dropna(axis=1, how=\"all\")])\n",
       "</pre>\n"
      ],
      "text/plain": [
       "/var/folders/7t/k8q3439j6z3c683j7w00wtm80000gn/T/ipykernel_58430/330735155.py:26: FutureWarning: The behavior of \n",
       "DataFrame concatenation with empty or all-NA entries is deprecated. In a future version, this will no longer \n",
       "exclude empty or all-NA columns when determining the result dtypes. To retain the old behavior, exclude the \n",
       "relevant entries before the concat operation.\n",
       "  results = pd.concat([results, normalized_data]) #.dropna(axis=1, how=\"all\")])\n"
      ]
     },
     "metadata": {},
     "output_type": "display_data"
    },
    {
     "data": {
      "text/html": [
       "<pre style=\"white-space:pre;overflow-x:auto;line-height:normal;font-family:Menlo,'DejaVu Sans Mono',consolas,'Courier New',monospace\">/var/folders/7t/k8q3439j6z3c683j7w00wtm80000gn/T/ipykernel_58430/330735155.py:26: FutureWarning: The behavior of \n",
       "DataFrame concatenation with empty or all-NA entries is deprecated. In a future version, this will no longer \n",
       "exclude empty or all-NA columns when determining the result dtypes. To retain the old behavior, exclude the \n",
       "relevant entries before the concat operation.\n",
       "  results = pd.concat([results, normalized_data]) #.dropna(axis=1, how=\"all\")])\n",
       "</pre>\n"
      ],
      "text/plain": [
       "/var/folders/7t/k8q3439j6z3c683j7w00wtm80000gn/T/ipykernel_58430/330735155.py:26: FutureWarning: The behavior of \n",
       "DataFrame concatenation with empty or all-NA entries is deprecated. In a future version, this will no longer \n",
       "exclude empty or all-NA columns when determining the result dtypes. To retain the old behavior, exclude the \n",
       "relevant entries before the concat operation.\n",
       "  results = pd.concat([results, normalized_data]) #.dropna(axis=1, how=\"all\")])\n"
      ]
     },
     "metadata": {},
     "output_type": "display_data"
    },
    {
     "data": {
      "text/html": [
       "<pre style=\"white-space:pre;overflow-x:auto;line-height:normal;font-family:Menlo,'DejaVu Sans Mono',consolas,'Courier New',monospace\">/var/folders/7t/k8q3439j6z3c683j7w00wtm80000gn/T/ipykernel_58430/330735155.py:26: FutureWarning: The behavior of \n",
       "DataFrame concatenation with empty or all-NA entries is deprecated. In a future version, this will no longer \n",
       "exclude empty or all-NA columns when determining the result dtypes. To retain the old behavior, exclude the \n",
       "relevant entries before the concat operation.\n",
       "  results = pd.concat([results, normalized_data]) #.dropna(axis=1, how=\"all\")])\n",
       "</pre>\n"
      ],
      "text/plain": [
       "/var/folders/7t/k8q3439j6z3c683j7w00wtm80000gn/T/ipykernel_58430/330735155.py:26: FutureWarning: The behavior of \n",
       "DataFrame concatenation with empty or all-NA entries is deprecated. In a future version, this will no longer \n",
       "exclude empty or all-NA columns when determining the result dtypes. To retain the old behavior, exclude the \n",
       "relevant entries before the concat operation.\n",
       "  results = pd.concat([results, normalized_data]) #.dropna(axis=1, how=\"all\")])\n"
      ]
     },
     "metadata": {},
     "output_type": "display_data"
    },
    {
     "data": {
      "text/html": [
       "<pre style=\"white-space:pre;overflow-x:auto;line-height:normal;font-family:Menlo,'DejaVu Sans Mono',consolas,'Courier New',monospace\">/var/folders/7t/k8q3439j6z3c683j7w00wtm80000gn/T/ipykernel_58430/330735155.py:26: FutureWarning: The behavior of \n",
       "DataFrame concatenation with empty or all-NA entries is deprecated. In a future version, this will no longer \n",
       "exclude empty or all-NA columns when determining the result dtypes. To retain the old behavior, exclude the \n",
       "relevant entries before the concat operation.\n",
       "  results = pd.concat([results, normalized_data]) #.dropna(axis=1, how=\"all\")])\n",
       "</pre>\n"
      ],
      "text/plain": [
       "/var/folders/7t/k8q3439j6z3c683j7w00wtm80000gn/T/ipykernel_58430/330735155.py:26: FutureWarning: The behavior of \n",
       "DataFrame concatenation with empty or all-NA entries is deprecated. In a future version, this will no longer \n",
       "exclude empty or all-NA columns when determining the result dtypes. To retain the old behavior, exclude the \n",
       "relevant entries before the concat operation.\n",
       "  results = pd.concat([results, normalized_data]) #.dropna(axis=1, how=\"all\")])\n"
      ]
     },
     "metadata": {},
     "output_type": "display_data"
    },
    {
     "data": {
      "text/html": [
       "<pre style=\"white-space:pre;overflow-x:auto;line-height:normal;font-family:Menlo,'DejaVu Sans Mono',consolas,'Courier New',monospace\">/var/folders/7t/k8q3439j6z3c683j7w00wtm80000gn/T/ipykernel_58430/330735155.py:26: FutureWarning: The behavior of \n",
       "DataFrame concatenation with empty or all-NA entries is deprecated. In a future version, this will no longer \n",
       "exclude empty or all-NA columns when determining the result dtypes. To retain the old behavior, exclude the \n",
       "relevant entries before the concat operation.\n",
       "  results = pd.concat([results, normalized_data]) #.dropna(axis=1, how=\"all\")])\n",
       "</pre>\n"
      ],
      "text/plain": [
       "/var/folders/7t/k8q3439j6z3c683j7w00wtm80000gn/T/ipykernel_58430/330735155.py:26: FutureWarning: The behavior of \n",
       "DataFrame concatenation with empty or all-NA entries is deprecated. In a future version, this will no longer \n",
       "exclude empty or all-NA columns when determining the result dtypes. To retain the old behavior, exclude the \n",
       "relevant entries before the concat operation.\n",
       "  results = pd.concat([results, normalized_data]) #.dropna(axis=1, how=\"all\")])\n"
      ]
     },
     "metadata": {},
     "output_type": "display_data"
    },
    {
     "data": {
      "text/html": [
       "<pre style=\"white-space:pre;overflow-x:auto;line-height:normal;font-family:Menlo,'DejaVu Sans Mono',consolas,'Courier New',monospace\">/var/folders/7t/k8q3439j6z3c683j7w00wtm80000gn/T/ipykernel_58430/330735155.py:26: FutureWarning: The behavior of \n",
       "DataFrame concatenation with empty or all-NA entries is deprecated. In a future version, this will no longer \n",
       "exclude empty or all-NA columns when determining the result dtypes. To retain the old behavior, exclude the \n",
       "relevant entries before the concat operation.\n",
       "  results = pd.concat([results, normalized_data]) #.dropna(axis=1, how=\"all\")])\n",
       "</pre>\n"
      ],
      "text/plain": [
       "/var/folders/7t/k8q3439j6z3c683j7w00wtm80000gn/T/ipykernel_58430/330735155.py:26: FutureWarning: The behavior of \n",
       "DataFrame concatenation with empty or all-NA entries is deprecated. In a future version, this will no longer \n",
       "exclude empty or all-NA columns when determining the result dtypes. To retain the old behavior, exclude the \n",
       "relevant entries before the concat operation.\n",
       "  results = pd.concat([results, normalized_data]) #.dropna(axis=1, how=\"all\")])\n"
      ]
     },
     "metadata": {},
     "output_type": "display_data"
    },
    {
     "data": {
      "text/html": [
       "<pre style=\"white-space:pre;overflow-x:auto;line-height:normal;font-family:Menlo,'DejaVu Sans Mono',consolas,'Courier New',monospace\">/var/folders/7t/k8q3439j6z3c683j7w00wtm80000gn/T/ipykernel_58430/330735155.py:26: FutureWarning: The behavior of \n",
       "DataFrame concatenation with empty or all-NA entries is deprecated. In a future version, this will no longer \n",
       "exclude empty or all-NA columns when determining the result dtypes. To retain the old behavior, exclude the \n",
       "relevant entries before the concat operation.\n",
       "  results = pd.concat([results, normalized_data]) #.dropna(axis=1, how=\"all\")])\n",
       "</pre>\n"
      ],
      "text/plain": [
       "/var/folders/7t/k8q3439j6z3c683j7w00wtm80000gn/T/ipykernel_58430/330735155.py:26: FutureWarning: The behavior of \n",
       "DataFrame concatenation with empty or all-NA entries is deprecated. In a future version, this will no longer \n",
       "exclude empty or all-NA columns when determining the result dtypes. To retain the old behavior, exclude the \n",
       "relevant entries before the concat operation.\n",
       "  results = pd.concat([results, normalized_data]) #.dropna(axis=1, how=\"all\")])\n"
      ]
     },
     "metadata": {},
     "output_type": "display_data"
    },
    {
     "data": {
      "text/html": [
       "<pre style=\"white-space:pre;overflow-x:auto;line-height:normal;font-family:Menlo,'DejaVu Sans Mono',consolas,'Courier New',monospace\">/var/folders/7t/k8q3439j6z3c683j7w00wtm80000gn/T/ipykernel_58430/330735155.py:26: FutureWarning: The behavior of \n",
       "DataFrame concatenation with empty or all-NA entries is deprecated. In a future version, this will no longer \n",
       "exclude empty or all-NA columns when determining the result dtypes. To retain the old behavior, exclude the \n",
       "relevant entries before the concat operation.\n",
       "  results = pd.concat([results, normalized_data]) #.dropna(axis=1, how=\"all\")])\n",
       "</pre>\n"
      ],
      "text/plain": [
       "/var/folders/7t/k8q3439j6z3c683j7w00wtm80000gn/T/ipykernel_58430/330735155.py:26: FutureWarning: The behavior of \n",
       "DataFrame concatenation with empty or all-NA entries is deprecated. In a future version, this will no longer \n",
       "exclude empty or all-NA columns when determining the result dtypes. To retain the old behavior, exclude the \n",
       "relevant entries before the concat operation.\n",
       "  results = pd.concat([results, normalized_data]) #.dropna(axis=1, how=\"all\")])\n"
      ]
     },
     "metadata": {},
     "output_type": "display_data"
    },
    {
     "data": {
      "text/html": [
       "<pre style=\"white-space:pre;overflow-x:auto;line-height:normal;font-family:Menlo,'DejaVu Sans Mono',consolas,'Courier New',monospace\">/var/folders/7t/k8q3439j6z3c683j7w00wtm80000gn/T/ipykernel_58430/330735155.py:26: FutureWarning: The behavior of \n",
       "DataFrame concatenation with empty or all-NA entries is deprecated. In a future version, this will no longer \n",
       "exclude empty or all-NA columns when determining the result dtypes. To retain the old behavior, exclude the \n",
       "relevant entries before the concat operation.\n",
       "  results = pd.concat([results, normalized_data]) #.dropna(axis=1, how=\"all\")])\n",
       "</pre>\n"
      ],
      "text/plain": [
       "/var/folders/7t/k8q3439j6z3c683j7w00wtm80000gn/T/ipykernel_58430/330735155.py:26: FutureWarning: The behavior of \n",
       "DataFrame concatenation with empty or all-NA entries is deprecated. In a future version, this will no longer \n",
       "exclude empty or all-NA columns when determining the result dtypes. To retain the old behavior, exclude the \n",
       "relevant entries before the concat operation.\n",
       "  results = pd.concat([results, normalized_data]) #.dropna(axis=1, how=\"all\")])\n"
      ]
     },
     "metadata": {},
     "output_type": "display_data"
    },
    {
     "data": {
      "text/html": [
       "<pre style=\"white-space:pre;overflow-x:auto;line-height:normal;font-family:Menlo,'DejaVu Sans Mono',consolas,'Courier New',monospace\">/var/folders/7t/k8q3439j6z3c683j7w00wtm80000gn/T/ipykernel_58430/330735155.py:26: FutureWarning: The behavior of \n",
       "DataFrame concatenation with empty or all-NA entries is deprecated. In a future version, this will no longer \n",
       "exclude empty or all-NA columns when determining the result dtypes. To retain the old behavior, exclude the \n",
       "relevant entries before the concat operation.\n",
       "  results = pd.concat([results, normalized_data]) #.dropna(axis=1, how=\"all\")])\n",
       "</pre>\n"
      ],
      "text/plain": [
       "/var/folders/7t/k8q3439j6z3c683j7w00wtm80000gn/T/ipykernel_58430/330735155.py:26: FutureWarning: The behavior of \n",
       "DataFrame concatenation with empty or all-NA entries is deprecated. In a future version, this will no longer \n",
       "exclude empty or all-NA columns when determining the result dtypes. To retain the old behavior, exclude the \n",
       "relevant entries before the concat operation.\n",
       "  results = pd.concat([results, normalized_data]) #.dropna(axis=1, how=\"all\")])\n"
      ]
     },
     "metadata": {},
     "output_type": "display_data"
    },
    {
     "data": {
      "text/html": [
       "<pre style=\"white-space:pre;overflow-x:auto;line-height:normal;font-family:Menlo,'DejaVu Sans Mono',consolas,'Courier New',monospace\">/var/folders/7t/k8q3439j6z3c683j7w00wtm80000gn/T/ipykernel_58430/330735155.py:26: FutureWarning: The behavior of \n",
       "DataFrame concatenation with empty or all-NA entries is deprecated. In a future version, this will no longer \n",
       "exclude empty or all-NA columns when determining the result dtypes. To retain the old behavior, exclude the \n",
       "relevant entries before the concat operation.\n",
       "  results = pd.concat([results, normalized_data]) #.dropna(axis=1, how=\"all\")])\n",
       "</pre>\n"
      ],
      "text/plain": [
       "/var/folders/7t/k8q3439j6z3c683j7w00wtm80000gn/T/ipykernel_58430/330735155.py:26: FutureWarning: The behavior of \n",
       "DataFrame concatenation with empty or all-NA entries is deprecated. In a future version, this will no longer \n",
       "exclude empty or all-NA columns when determining the result dtypes. To retain the old behavior, exclude the \n",
       "relevant entries before the concat operation.\n",
       "  results = pd.concat([results, normalized_data]) #.dropna(axis=1, how=\"all\")])\n"
      ]
     },
     "metadata": {},
     "output_type": "display_data"
    },
    {
     "data": {
      "text/html": [
       "<pre style=\"white-space:pre;overflow-x:auto;line-height:normal;font-family:Menlo,'DejaVu Sans Mono',consolas,'Courier New',monospace\">/var/folders/7t/k8q3439j6z3c683j7w00wtm80000gn/T/ipykernel_58430/330735155.py:26: FutureWarning: The behavior of \n",
       "DataFrame concatenation with empty or all-NA entries is deprecated. In a future version, this will no longer \n",
       "exclude empty or all-NA columns when determining the result dtypes. To retain the old behavior, exclude the \n",
       "relevant entries before the concat operation.\n",
       "  results = pd.concat([results, normalized_data]) #.dropna(axis=1, how=\"all\")])\n",
       "</pre>\n"
      ],
      "text/plain": [
       "/var/folders/7t/k8q3439j6z3c683j7w00wtm80000gn/T/ipykernel_58430/330735155.py:26: FutureWarning: The behavior of \n",
       "DataFrame concatenation with empty or all-NA entries is deprecated. In a future version, this will no longer \n",
       "exclude empty or all-NA columns when determining the result dtypes. To retain the old behavior, exclude the \n",
       "relevant entries before the concat operation.\n",
       "  results = pd.concat([results, normalized_data]) #.dropna(axis=1, how=\"all\")])\n"
      ]
     },
     "metadata": {},
     "output_type": "display_data"
    },
    {
     "data": {
      "text/html": [
       "<pre style=\"white-space:pre;overflow-x:auto;line-height:normal;font-family:Menlo,'DejaVu Sans Mono',consolas,'Courier New',monospace\">/var/folders/7t/k8q3439j6z3c683j7w00wtm80000gn/T/ipykernel_58430/330735155.py:26: FutureWarning: The behavior of \n",
       "DataFrame concatenation with empty or all-NA entries is deprecated. In a future version, this will no longer \n",
       "exclude empty or all-NA columns when determining the result dtypes. To retain the old behavior, exclude the \n",
       "relevant entries before the concat operation.\n",
       "  results = pd.concat([results, normalized_data]) #.dropna(axis=1, how=\"all\")])\n",
       "</pre>\n"
      ],
      "text/plain": [
       "/var/folders/7t/k8q3439j6z3c683j7w00wtm80000gn/T/ipykernel_58430/330735155.py:26: FutureWarning: The behavior of \n",
       "DataFrame concatenation with empty or all-NA entries is deprecated. In a future version, this will no longer \n",
       "exclude empty or all-NA columns when determining the result dtypes. To retain the old behavior, exclude the \n",
       "relevant entries before the concat operation.\n",
       "  results = pd.concat([results, normalized_data]) #.dropna(axis=1, how=\"all\")])\n"
      ]
     },
     "metadata": {},
     "output_type": "display_data"
    },
    {
     "data": {
      "text/html": [
       "<pre style=\"white-space:pre;overflow-x:auto;line-height:normal;font-family:Menlo,'DejaVu Sans Mono',consolas,'Courier New',monospace\">/var/folders/7t/k8q3439j6z3c683j7w00wtm80000gn/T/ipykernel_58430/330735155.py:26: FutureWarning: The behavior of \n",
       "DataFrame concatenation with empty or all-NA entries is deprecated. In a future version, this will no longer \n",
       "exclude empty or all-NA columns when determining the result dtypes. To retain the old behavior, exclude the \n",
       "relevant entries before the concat operation.\n",
       "  results = pd.concat([results, normalized_data]) #.dropna(axis=1, how=\"all\")])\n",
       "</pre>\n"
      ],
      "text/plain": [
       "/var/folders/7t/k8q3439j6z3c683j7w00wtm80000gn/T/ipykernel_58430/330735155.py:26: FutureWarning: The behavior of \n",
       "DataFrame concatenation with empty or all-NA entries is deprecated. In a future version, this will no longer \n",
       "exclude empty or all-NA columns when determining the result dtypes. To retain the old behavior, exclude the \n",
       "relevant entries before the concat operation.\n",
       "  results = pd.concat([results, normalized_data]) #.dropna(axis=1, how=\"all\")])\n"
      ]
     },
     "metadata": {},
     "output_type": "display_data"
    },
    {
     "data": {
      "text/html": [
       "<pre style=\"white-space:pre;overflow-x:auto;line-height:normal;font-family:Menlo,'DejaVu Sans Mono',consolas,'Courier New',monospace\">/var/folders/7t/k8q3439j6z3c683j7w00wtm80000gn/T/ipykernel_58430/330735155.py:26: FutureWarning: The behavior of \n",
       "DataFrame concatenation with empty or all-NA entries is deprecated. In a future version, this will no longer \n",
       "exclude empty or all-NA columns when determining the result dtypes. To retain the old behavior, exclude the \n",
       "relevant entries before the concat operation.\n",
       "  results = pd.concat([results, normalized_data]) #.dropna(axis=1, how=\"all\")])\n",
       "</pre>\n"
      ],
      "text/plain": [
       "/var/folders/7t/k8q3439j6z3c683j7w00wtm80000gn/T/ipykernel_58430/330735155.py:26: FutureWarning: The behavior of \n",
       "DataFrame concatenation with empty or all-NA entries is deprecated. In a future version, this will no longer \n",
       "exclude empty or all-NA columns when determining the result dtypes. To retain the old behavior, exclude the \n",
       "relevant entries before the concat operation.\n",
       "  results = pd.concat([results, normalized_data]) #.dropna(axis=1, how=\"all\")])\n"
      ]
     },
     "metadata": {},
     "output_type": "display_data"
    },
    {
     "data": {
      "text/html": [
       "<pre style=\"white-space:pre;overflow-x:auto;line-height:normal;font-family:Menlo,'DejaVu Sans Mono',consolas,'Courier New',monospace\">/var/folders/7t/k8q3439j6z3c683j7w00wtm80000gn/T/ipykernel_58430/330735155.py:26: FutureWarning: The behavior of \n",
       "DataFrame concatenation with empty or all-NA entries is deprecated. In a future version, this will no longer \n",
       "exclude empty or all-NA columns when determining the result dtypes. To retain the old behavior, exclude the \n",
       "relevant entries before the concat operation.\n",
       "  results = pd.concat([results, normalized_data]) #.dropna(axis=1, how=\"all\")])\n",
       "</pre>\n"
      ],
      "text/plain": [
       "/var/folders/7t/k8q3439j6z3c683j7w00wtm80000gn/T/ipykernel_58430/330735155.py:26: FutureWarning: The behavior of \n",
       "DataFrame concatenation with empty or all-NA entries is deprecated. In a future version, this will no longer \n",
       "exclude empty or all-NA columns when determining the result dtypes. To retain the old behavior, exclude the \n",
       "relevant entries before the concat operation.\n",
       "  results = pd.concat([results, normalized_data]) #.dropna(axis=1, how=\"all\")])\n"
      ]
     },
     "metadata": {},
     "output_type": "display_data"
    },
    {
     "data": {
      "text/html": [
       "<pre style=\"white-space:pre;overflow-x:auto;line-height:normal;font-family:Menlo,'DejaVu Sans Mono',consolas,'Courier New',monospace\">/var/folders/7t/k8q3439j6z3c683j7w00wtm80000gn/T/ipykernel_58430/330735155.py:26: FutureWarning: The behavior of \n",
       "DataFrame concatenation with empty or all-NA entries is deprecated. In a future version, this will no longer \n",
       "exclude empty or all-NA columns when determining the result dtypes. To retain the old behavior, exclude the \n",
       "relevant entries before the concat operation.\n",
       "  results = pd.concat([results, normalized_data]) #.dropna(axis=1, how=\"all\")])\n",
       "</pre>\n"
      ],
      "text/plain": [
       "/var/folders/7t/k8q3439j6z3c683j7w00wtm80000gn/T/ipykernel_58430/330735155.py:26: FutureWarning: The behavior of \n",
       "DataFrame concatenation with empty or all-NA entries is deprecated. In a future version, this will no longer \n",
       "exclude empty or all-NA columns when determining the result dtypes. To retain the old behavior, exclude the \n",
       "relevant entries before the concat operation.\n",
       "  results = pd.concat([results, normalized_data]) #.dropna(axis=1, how=\"all\")])\n"
      ]
     },
     "metadata": {},
     "output_type": "display_data"
    },
    {
     "data": {
      "text/html": [
       "<pre style=\"white-space:pre;overflow-x:auto;line-height:normal;font-family:Menlo,'DejaVu Sans Mono',consolas,'Courier New',monospace\">/var/folders/7t/k8q3439j6z3c683j7w00wtm80000gn/T/ipykernel_58430/330735155.py:26: FutureWarning: The behavior of \n",
       "DataFrame concatenation with empty or all-NA entries is deprecated. In a future version, this will no longer \n",
       "exclude empty or all-NA columns when determining the result dtypes. To retain the old behavior, exclude the \n",
       "relevant entries before the concat operation.\n",
       "  results = pd.concat([results, normalized_data]) #.dropna(axis=1, how=\"all\")])\n",
       "</pre>\n"
      ],
      "text/plain": [
       "/var/folders/7t/k8q3439j6z3c683j7w00wtm80000gn/T/ipykernel_58430/330735155.py:26: FutureWarning: The behavior of \n",
       "DataFrame concatenation with empty or all-NA entries is deprecated. In a future version, this will no longer \n",
       "exclude empty or all-NA columns when determining the result dtypes. To retain the old behavior, exclude the \n",
       "relevant entries before the concat operation.\n",
       "  results = pd.concat([results, normalized_data]) #.dropna(axis=1, how=\"all\")])\n"
      ]
     },
     "metadata": {},
     "output_type": "display_data"
    },
    {
     "data": {
      "text/html": [
       "<pre style=\"white-space:pre;overflow-x:auto;line-height:normal;font-family:Menlo,'DejaVu Sans Mono',consolas,'Courier New',monospace\">/var/folders/7t/k8q3439j6z3c683j7w00wtm80000gn/T/ipykernel_58430/330735155.py:26: FutureWarning: The behavior of \n",
       "DataFrame concatenation with empty or all-NA entries is deprecated. In a future version, this will no longer \n",
       "exclude empty or all-NA columns when determining the result dtypes. To retain the old behavior, exclude the \n",
       "relevant entries before the concat operation.\n",
       "  results = pd.concat([results, normalized_data]) #.dropna(axis=1, how=\"all\")])\n",
       "</pre>\n"
      ],
      "text/plain": [
       "/var/folders/7t/k8q3439j6z3c683j7w00wtm80000gn/T/ipykernel_58430/330735155.py:26: FutureWarning: The behavior of \n",
       "DataFrame concatenation with empty or all-NA entries is deprecated. In a future version, this will no longer \n",
       "exclude empty or all-NA columns when determining the result dtypes. To retain the old behavior, exclude the \n",
       "relevant entries before the concat operation.\n",
       "  results = pd.concat([results, normalized_data]) #.dropna(axis=1, how=\"all\")])\n"
      ]
     },
     "metadata": {},
     "output_type": "display_data"
    },
    {
     "data": {
      "text/html": [
       "<pre style=\"white-space:pre;overflow-x:auto;line-height:normal;font-family:Menlo,'DejaVu Sans Mono',consolas,'Courier New',monospace\">/var/folders/7t/k8q3439j6z3c683j7w00wtm80000gn/T/ipykernel_58430/330735155.py:26: FutureWarning: The behavior of \n",
       "DataFrame concatenation with empty or all-NA entries is deprecated. In a future version, this will no longer \n",
       "exclude empty or all-NA columns when determining the result dtypes. To retain the old behavior, exclude the \n",
       "relevant entries before the concat operation.\n",
       "  results = pd.concat([results, normalized_data]) #.dropna(axis=1, how=\"all\")])\n",
       "</pre>\n"
      ],
      "text/plain": [
       "/var/folders/7t/k8q3439j6z3c683j7w00wtm80000gn/T/ipykernel_58430/330735155.py:26: FutureWarning: The behavior of \n",
       "DataFrame concatenation with empty or all-NA entries is deprecated. In a future version, this will no longer \n",
       "exclude empty or all-NA columns when determining the result dtypes. To retain the old behavior, exclude the \n",
       "relevant entries before the concat operation.\n",
       "  results = pd.concat([results, normalized_data]) #.dropna(axis=1, how=\"all\")])\n"
      ]
     },
     "metadata": {},
     "output_type": "display_data"
    },
    {
     "data": {
      "text/html": [
       "<pre style=\"white-space:pre;overflow-x:auto;line-height:normal;font-family:Menlo,'DejaVu Sans Mono',consolas,'Courier New',monospace\">/var/folders/7t/k8q3439j6z3c683j7w00wtm80000gn/T/ipykernel_58430/330735155.py:26: FutureWarning: The behavior of \n",
       "DataFrame concatenation with empty or all-NA entries is deprecated. In a future version, this will no longer \n",
       "exclude empty or all-NA columns when determining the result dtypes. To retain the old behavior, exclude the \n",
       "relevant entries before the concat operation.\n",
       "  results = pd.concat([results, normalized_data]) #.dropna(axis=1, how=\"all\")])\n",
       "</pre>\n"
      ],
      "text/plain": [
       "/var/folders/7t/k8q3439j6z3c683j7w00wtm80000gn/T/ipykernel_58430/330735155.py:26: FutureWarning: The behavior of \n",
       "DataFrame concatenation with empty or all-NA entries is deprecated. In a future version, this will no longer \n",
       "exclude empty or all-NA columns when determining the result dtypes. To retain the old behavior, exclude the \n",
       "relevant entries before the concat operation.\n",
       "  results = pd.concat([results, normalized_data]) #.dropna(axis=1, how=\"all\")])\n"
      ]
     },
     "metadata": {},
     "output_type": "display_data"
    },
    {
     "data": {
      "text/html": [
       "<pre style=\"white-space:pre;overflow-x:auto;line-height:normal;font-family:Menlo,'DejaVu Sans Mono',consolas,'Courier New',monospace\">/var/folders/7t/k8q3439j6z3c683j7w00wtm80000gn/T/ipykernel_58430/330735155.py:26: FutureWarning: The behavior of \n",
       "DataFrame concatenation with empty or all-NA entries is deprecated. In a future version, this will no longer \n",
       "exclude empty or all-NA columns when determining the result dtypes. To retain the old behavior, exclude the \n",
       "relevant entries before the concat operation.\n",
       "  results = pd.concat([results, normalized_data]) #.dropna(axis=1, how=\"all\")])\n",
       "</pre>\n"
      ],
      "text/plain": [
       "/var/folders/7t/k8q3439j6z3c683j7w00wtm80000gn/T/ipykernel_58430/330735155.py:26: FutureWarning: The behavior of \n",
       "DataFrame concatenation with empty or all-NA entries is deprecated. In a future version, this will no longer \n",
       "exclude empty or all-NA columns when determining the result dtypes. To retain the old behavior, exclude the \n",
       "relevant entries before the concat operation.\n",
       "  results = pd.concat([results, normalized_data]) #.dropna(axis=1, how=\"all\")])\n"
      ]
     },
     "metadata": {},
     "output_type": "display_data"
    },
    {
     "data": {
      "text/html": [
       "<pre style=\"white-space:pre;overflow-x:auto;line-height:normal;font-family:Menlo,'DejaVu Sans Mono',consolas,'Courier New',monospace\">/var/folders/7t/k8q3439j6z3c683j7w00wtm80000gn/T/ipykernel_58430/330735155.py:26: FutureWarning: The behavior of \n",
       "DataFrame concatenation with empty or all-NA entries is deprecated. In a future version, this will no longer \n",
       "exclude empty or all-NA columns when determining the result dtypes. To retain the old behavior, exclude the \n",
       "relevant entries before the concat operation.\n",
       "  results = pd.concat([results, normalized_data]) #.dropna(axis=1, how=\"all\")])\n",
       "</pre>\n"
      ],
      "text/plain": [
       "/var/folders/7t/k8q3439j6z3c683j7w00wtm80000gn/T/ipykernel_58430/330735155.py:26: FutureWarning: The behavior of \n",
       "DataFrame concatenation with empty or all-NA entries is deprecated. In a future version, this will no longer \n",
       "exclude empty or all-NA columns when determining the result dtypes. To retain the old behavior, exclude the \n",
       "relevant entries before the concat operation.\n",
       "  results = pd.concat([results, normalized_data]) #.dropna(axis=1, how=\"all\")])\n"
      ]
     },
     "metadata": {},
     "output_type": "display_data"
    },
    {
     "data": {
      "text/html": [
       "<pre style=\"white-space:pre;overflow-x:auto;line-height:normal;font-family:Menlo,'DejaVu Sans Mono',consolas,'Courier New',monospace\">/var/folders/7t/k8q3439j6z3c683j7w00wtm80000gn/T/ipykernel_58430/330735155.py:26: FutureWarning: The behavior of \n",
       "DataFrame concatenation with empty or all-NA entries is deprecated. In a future version, this will no longer \n",
       "exclude empty or all-NA columns when determining the result dtypes. To retain the old behavior, exclude the \n",
       "relevant entries before the concat operation.\n",
       "  results = pd.concat([results, normalized_data]) #.dropna(axis=1, how=\"all\")])\n",
       "</pre>\n"
      ],
      "text/plain": [
       "/var/folders/7t/k8q3439j6z3c683j7w00wtm80000gn/T/ipykernel_58430/330735155.py:26: FutureWarning: The behavior of \n",
       "DataFrame concatenation with empty or all-NA entries is deprecated. In a future version, this will no longer \n",
       "exclude empty or all-NA columns when determining the result dtypes. To retain the old behavior, exclude the \n",
       "relevant entries before the concat operation.\n",
       "  results = pd.concat([results, normalized_data]) #.dropna(axis=1, how=\"all\")])\n"
      ]
     },
     "metadata": {},
     "output_type": "display_data"
    },
    {
     "data": {
      "text/html": [
       "<pre style=\"white-space:pre;overflow-x:auto;line-height:normal;font-family:Menlo,'DejaVu Sans Mono',consolas,'Courier New',monospace\">/var/folders/7t/k8q3439j6z3c683j7w00wtm80000gn/T/ipykernel_58430/330735155.py:26: FutureWarning: The behavior of \n",
       "DataFrame concatenation with empty or all-NA entries is deprecated. In a future version, this will no longer \n",
       "exclude empty or all-NA columns when determining the result dtypes. To retain the old behavior, exclude the \n",
       "relevant entries before the concat operation.\n",
       "  results = pd.concat([results, normalized_data]) #.dropna(axis=1, how=\"all\")])\n",
       "</pre>\n"
      ],
      "text/plain": [
       "/var/folders/7t/k8q3439j6z3c683j7w00wtm80000gn/T/ipykernel_58430/330735155.py:26: FutureWarning: The behavior of \n",
       "DataFrame concatenation with empty or all-NA entries is deprecated. In a future version, this will no longer \n",
       "exclude empty or all-NA columns when determining the result dtypes. To retain the old behavior, exclude the \n",
       "relevant entries before the concat operation.\n",
       "  results = pd.concat([results, normalized_data]) #.dropna(axis=1, how=\"all\")])\n"
      ]
     },
     "metadata": {},
     "output_type": "display_data"
    },
    {
     "data": {
      "text/html": [
       "<pre style=\"white-space:pre;overflow-x:auto;line-height:normal;font-family:Menlo,'DejaVu Sans Mono',consolas,'Courier New',monospace\">/var/folders/7t/k8q3439j6z3c683j7w00wtm80000gn/T/ipykernel_58430/330735155.py:26: FutureWarning: The behavior of \n",
       "DataFrame concatenation with empty or all-NA entries is deprecated. In a future version, this will no longer \n",
       "exclude empty or all-NA columns when determining the result dtypes. To retain the old behavior, exclude the \n",
       "relevant entries before the concat operation.\n",
       "  results = pd.concat([results, normalized_data]) #.dropna(axis=1, how=\"all\")])\n",
       "</pre>\n"
      ],
      "text/plain": [
       "/var/folders/7t/k8q3439j6z3c683j7w00wtm80000gn/T/ipykernel_58430/330735155.py:26: FutureWarning: The behavior of \n",
       "DataFrame concatenation with empty or all-NA entries is deprecated. In a future version, this will no longer \n",
       "exclude empty or all-NA columns when determining the result dtypes. To retain the old behavior, exclude the \n",
       "relevant entries before the concat operation.\n",
       "  results = pd.concat([results, normalized_data]) #.dropna(axis=1, how=\"all\")])\n"
      ]
     },
     "metadata": {},
     "output_type": "display_data"
    },
    {
     "data": {
      "text/html": [
       "<pre style=\"white-space:pre;overflow-x:auto;line-height:normal;font-family:Menlo,'DejaVu Sans Mono',consolas,'Courier New',monospace\">/var/folders/7t/k8q3439j6z3c683j7w00wtm80000gn/T/ipykernel_58430/330735155.py:26: FutureWarning: The behavior of \n",
       "DataFrame concatenation with empty or all-NA entries is deprecated. In a future version, this will no longer \n",
       "exclude empty or all-NA columns when determining the result dtypes. To retain the old behavior, exclude the \n",
       "relevant entries before the concat operation.\n",
       "  results = pd.concat([results, normalized_data]) #.dropna(axis=1, how=\"all\")])\n",
       "</pre>\n"
      ],
      "text/plain": [
       "/var/folders/7t/k8q3439j6z3c683j7w00wtm80000gn/T/ipykernel_58430/330735155.py:26: FutureWarning: The behavior of \n",
       "DataFrame concatenation with empty or all-NA entries is deprecated. In a future version, this will no longer \n",
       "exclude empty or all-NA columns when determining the result dtypes. To retain the old behavior, exclude the \n",
       "relevant entries before the concat operation.\n",
       "  results = pd.concat([results, normalized_data]) #.dropna(axis=1, how=\"all\")])\n"
      ]
     },
     "metadata": {},
     "output_type": "display_data"
    },
    {
     "data": {
      "text/html": [
       "<pre style=\"white-space:pre;overflow-x:auto;line-height:normal;font-family:Menlo,'DejaVu Sans Mono',consolas,'Courier New',monospace\">/var/folders/7t/k8q3439j6z3c683j7w00wtm80000gn/T/ipykernel_58430/330735155.py:26: FutureWarning: The behavior of \n",
       "DataFrame concatenation with empty or all-NA entries is deprecated. In a future version, this will no longer \n",
       "exclude empty or all-NA columns when determining the result dtypes. To retain the old behavior, exclude the \n",
       "relevant entries before the concat operation.\n",
       "  results = pd.concat([results, normalized_data]) #.dropna(axis=1, how=\"all\")])\n",
       "</pre>\n"
      ],
      "text/plain": [
       "/var/folders/7t/k8q3439j6z3c683j7w00wtm80000gn/T/ipykernel_58430/330735155.py:26: FutureWarning: The behavior of \n",
       "DataFrame concatenation with empty or all-NA entries is deprecated. In a future version, this will no longer \n",
       "exclude empty or all-NA columns when determining the result dtypes. To retain the old behavior, exclude the \n",
       "relevant entries before the concat operation.\n",
       "  results = pd.concat([results, normalized_data]) #.dropna(axis=1, how=\"all\")])\n"
      ]
     },
     "metadata": {},
     "output_type": "display_data"
    },
    {
     "data": {
      "text/html": [
       "<pre style=\"white-space:pre;overflow-x:auto;line-height:normal;font-family:Menlo,'DejaVu Sans Mono',consolas,'Courier New',monospace\">/var/folders/7t/k8q3439j6z3c683j7w00wtm80000gn/T/ipykernel_58430/330735155.py:26: FutureWarning: The behavior of \n",
       "DataFrame concatenation with empty or all-NA entries is deprecated. In a future version, this will no longer \n",
       "exclude empty or all-NA columns when determining the result dtypes. To retain the old behavior, exclude the \n",
       "relevant entries before the concat operation.\n",
       "  results = pd.concat([results, normalized_data]) #.dropna(axis=1, how=\"all\")])\n",
       "</pre>\n"
      ],
      "text/plain": [
       "/var/folders/7t/k8q3439j6z3c683j7w00wtm80000gn/T/ipykernel_58430/330735155.py:26: FutureWarning: The behavior of \n",
       "DataFrame concatenation with empty or all-NA entries is deprecated. In a future version, this will no longer \n",
       "exclude empty or all-NA columns when determining the result dtypes. To retain the old behavior, exclude the \n",
       "relevant entries before the concat operation.\n",
       "  results = pd.concat([results, normalized_data]) #.dropna(axis=1, how=\"all\")])\n"
      ]
     },
     "metadata": {},
     "output_type": "display_data"
    },
    {
     "data": {
      "text/html": [
       "<pre style=\"white-space:pre;overflow-x:auto;line-height:normal;font-family:Menlo,'DejaVu Sans Mono',consolas,'Courier New',monospace\">/var/folders/7t/k8q3439j6z3c683j7w00wtm80000gn/T/ipykernel_58430/330735155.py:26: FutureWarning: The behavior of \n",
       "DataFrame concatenation with empty or all-NA entries is deprecated. In a future version, this will no longer \n",
       "exclude empty or all-NA columns when determining the result dtypes. To retain the old behavior, exclude the \n",
       "relevant entries before the concat operation.\n",
       "  results = pd.concat([results, normalized_data]) #.dropna(axis=1, how=\"all\")])\n",
       "</pre>\n"
      ],
      "text/plain": [
       "/var/folders/7t/k8q3439j6z3c683j7w00wtm80000gn/T/ipykernel_58430/330735155.py:26: FutureWarning: The behavior of \n",
       "DataFrame concatenation with empty or all-NA entries is deprecated. In a future version, this will no longer \n",
       "exclude empty or all-NA columns when determining the result dtypes. To retain the old behavior, exclude the \n",
       "relevant entries before the concat operation.\n",
       "  results = pd.concat([results, normalized_data]) #.dropna(axis=1, how=\"all\")])\n"
      ]
     },
     "metadata": {},
     "output_type": "display_data"
    },
    {
     "data": {
      "text/html": [
       "<pre style=\"white-space:pre;overflow-x:auto;line-height:normal;font-family:Menlo,'DejaVu Sans Mono',consolas,'Courier New',monospace\">/var/folders/7t/k8q3439j6z3c683j7w00wtm80000gn/T/ipykernel_58430/330735155.py:26: FutureWarning: The behavior of \n",
       "DataFrame concatenation with empty or all-NA entries is deprecated. In a future version, this will no longer \n",
       "exclude empty or all-NA columns when determining the result dtypes. To retain the old behavior, exclude the \n",
       "relevant entries before the concat operation.\n",
       "  results = pd.concat([results, normalized_data]) #.dropna(axis=1, how=\"all\")])\n",
       "</pre>\n"
      ],
      "text/plain": [
       "/var/folders/7t/k8q3439j6z3c683j7w00wtm80000gn/T/ipykernel_58430/330735155.py:26: FutureWarning: The behavior of \n",
       "DataFrame concatenation with empty or all-NA entries is deprecated. In a future version, this will no longer \n",
       "exclude empty or all-NA columns when determining the result dtypes. To retain the old behavior, exclude the \n",
       "relevant entries before the concat operation.\n",
       "  results = pd.concat([results, normalized_data]) #.dropna(axis=1, how=\"all\")])\n"
      ]
     },
     "metadata": {},
     "output_type": "display_data"
    },
    {
     "data": {
      "text/html": [
       "<pre style=\"white-space:pre;overflow-x:auto;line-height:normal;font-family:Menlo,'DejaVu Sans Mono',consolas,'Courier New',monospace\">/var/folders/7t/k8q3439j6z3c683j7w00wtm80000gn/T/ipykernel_58430/330735155.py:26: FutureWarning: The behavior of \n",
       "DataFrame concatenation with empty or all-NA entries is deprecated. In a future version, this will no longer \n",
       "exclude empty or all-NA columns when determining the result dtypes. To retain the old behavior, exclude the \n",
       "relevant entries before the concat operation.\n",
       "  results = pd.concat([results, normalized_data]) #.dropna(axis=1, how=\"all\")])\n",
       "</pre>\n"
      ],
      "text/plain": [
       "/var/folders/7t/k8q3439j6z3c683j7w00wtm80000gn/T/ipykernel_58430/330735155.py:26: FutureWarning: The behavior of \n",
       "DataFrame concatenation with empty or all-NA entries is deprecated. In a future version, this will no longer \n",
       "exclude empty or all-NA columns when determining the result dtypes. To retain the old behavior, exclude the \n",
       "relevant entries before the concat operation.\n",
       "  results = pd.concat([results, normalized_data]) #.dropna(axis=1, how=\"all\")])\n"
      ]
     },
     "metadata": {},
     "output_type": "display_data"
    },
    {
     "data": {
      "text/html": [
       "<pre style=\"white-space:pre;overflow-x:auto;line-height:normal;font-family:Menlo,'DejaVu Sans Mono',consolas,'Courier New',monospace\">/var/folders/7t/k8q3439j6z3c683j7w00wtm80000gn/T/ipykernel_58430/330735155.py:26: FutureWarning: The behavior of \n",
       "DataFrame concatenation with empty or all-NA entries is deprecated. In a future version, this will no longer \n",
       "exclude empty or all-NA columns when determining the result dtypes. To retain the old behavior, exclude the \n",
       "relevant entries before the concat operation.\n",
       "  results = pd.concat([results, normalized_data]) #.dropna(axis=1, how=\"all\")])\n",
       "</pre>\n"
      ],
      "text/plain": [
       "/var/folders/7t/k8q3439j6z3c683j7w00wtm80000gn/T/ipykernel_58430/330735155.py:26: FutureWarning: The behavior of \n",
       "DataFrame concatenation with empty or all-NA entries is deprecated. In a future version, this will no longer \n",
       "exclude empty or all-NA columns when determining the result dtypes. To retain the old behavior, exclude the \n",
       "relevant entries before the concat operation.\n",
       "  results = pd.concat([results, normalized_data]) #.dropna(axis=1, how=\"all\")])\n"
      ]
     },
     "metadata": {},
     "output_type": "display_data"
    },
    {
     "data": {
      "text/html": [
       "<pre style=\"white-space:pre;overflow-x:auto;line-height:normal;font-family:Menlo,'DejaVu Sans Mono',consolas,'Courier New',monospace\">/var/folders/7t/k8q3439j6z3c683j7w00wtm80000gn/T/ipykernel_58430/330735155.py:26: FutureWarning: The behavior of \n",
       "DataFrame concatenation with empty or all-NA entries is deprecated. In a future version, this will no longer \n",
       "exclude empty or all-NA columns when determining the result dtypes. To retain the old behavior, exclude the \n",
       "relevant entries before the concat operation.\n",
       "  results = pd.concat([results, normalized_data]) #.dropna(axis=1, how=\"all\")])\n",
       "</pre>\n"
      ],
      "text/plain": [
       "/var/folders/7t/k8q3439j6z3c683j7w00wtm80000gn/T/ipykernel_58430/330735155.py:26: FutureWarning: The behavior of \n",
       "DataFrame concatenation with empty or all-NA entries is deprecated. In a future version, this will no longer \n",
       "exclude empty or all-NA columns when determining the result dtypes. To retain the old behavior, exclude the \n",
       "relevant entries before the concat operation.\n",
       "  results = pd.concat([results, normalized_data]) #.dropna(axis=1, how=\"all\")])\n"
      ]
     },
     "metadata": {},
     "output_type": "display_data"
    },
    {
     "data": {
      "text/html": [
       "<pre style=\"white-space:pre;overflow-x:auto;line-height:normal;font-family:Menlo,'DejaVu Sans Mono',consolas,'Courier New',monospace\">/var/folders/7t/k8q3439j6z3c683j7w00wtm80000gn/T/ipykernel_58430/330735155.py:26: FutureWarning: The behavior of \n",
       "DataFrame concatenation with empty or all-NA entries is deprecated. In a future version, this will no longer \n",
       "exclude empty or all-NA columns when determining the result dtypes. To retain the old behavior, exclude the \n",
       "relevant entries before the concat operation.\n",
       "  results = pd.concat([results, normalized_data]) #.dropna(axis=1, how=\"all\")])\n",
       "</pre>\n"
      ],
      "text/plain": [
       "/var/folders/7t/k8q3439j6z3c683j7w00wtm80000gn/T/ipykernel_58430/330735155.py:26: FutureWarning: The behavior of \n",
       "DataFrame concatenation with empty or all-NA entries is deprecated. In a future version, this will no longer \n",
       "exclude empty or all-NA columns when determining the result dtypes. To retain the old behavior, exclude the \n",
       "relevant entries before the concat operation.\n",
       "  results = pd.concat([results, normalized_data]) #.dropna(axis=1, how=\"all\")])\n"
      ]
     },
     "metadata": {},
     "output_type": "display_data"
    },
    {
     "data": {
      "text/html": [
       "<pre style=\"white-space:pre;overflow-x:auto;line-height:normal;font-family:Menlo,'DejaVu Sans Mono',consolas,'Courier New',monospace\">/var/folders/7t/k8q3439j6z3c683j7w00wtm80000gn/T/ipykernel_58430/330735155.py:26: FutureWarning: The behavior of \n",
       "DataFrame concatenation with empty or all-NA entries is deprecated. In a future version, this will no longer \n",
       "exclude empty or all-NA columns when determining the result dtypes. To retain the old behavior, exclude the \n",
       "relevant entries before the concat operation.\n",
       "  results = pd.concat([results, normalized_data]) #.dropna(axis=1, how=\"all\")])\n",
       "</pre>\n"
      ],
      "text/plain": [
       "/var/folders/7t/k8q3439j6z3c683j7w00wtm80000gn/T/ipykernel_58430/330735155.py:26: FutureWarning: The behavior of \n",
       "DataFrame concatenation with empty or all-NA entries is deprecated. In a future version, this will no longer \n",
       "exclude empty or all-NA columns when determining the result dtypes. To retain the old behavior, exclude the \n",
       "relevant entries before the concat operation.\n",
       "  results = pd.concat([results, normalized_data]) #.dropna(axis=1, how=\"all\")])\n"
      ]
     },
     "metadata": {},
     "output_type": "display_data"
    },
    {
     "data": {
      "text/html": [
       "<pre style=\"white-space:pre;overflow-x:auto;line-height:normal;font-family:Menlo,'DejaVu Sans Mono',consolas,'Courier New',monospace\">/var/folders/7t/k8q3439j6z3c683j7w00wtm80000gn/T/ipykernel_58430/330735155.py:26: FutureWarning: The behavior of \n",
       "DataFrame concatenation with empty or all-NA entries is deprecated. In a future version, this will no longer \n",
       "exclude empty or all-NA columns when determining the result dtypes. To retain the old behavior, exclude the \n",
       "relevant entries before the concat operation.\n",
       "  results = pd.concat([results, normalized_data]) #.dropna(axis=1, how=\"all\")])\n",
       "</pre>\n"
      ],
      "text/plain": [
       "/var/folders/7t/k8q3439j6z3c683j7w00wtm80000gn/T/ipykernel_58430/330735155.py:26: FutureWarning: The behavior of \n",
       "DataFrame concatenation with empty or all-NA entries is deprecated. In a future version, this will no longer \n",
       "exclude empty or all-NA columns when determining the result dtypes. To retain the old behavior, exclude the \n",
       "relevant entries before the concat operation.\n",
       "  results = pd.concat([results, normalized_data]) #.dropna(axis=1, how=\"all\")])\n"
      ]
     },
     "metadata": {},
     "output_type": "display_data"
    },
    {
     "data": {
      "text/html": [
       "<pre style=\"white-space:pre;overflow-x:auto;line-height:normal;font-family:Menlo,'DejaVu Sans Mono',consolas,'Courier New',monospace\">/var/folders/7t/k8q3439j6z3c683j7w00wtm80000gn/T/ipykernel_58430/330735155.py:26: FutureWarning: The behavior of \n",
       "DataFrame concatenation with empty or all-NA entries is deprecated. In a future version, this will no longer \n",
       "exclude empty or all-NA columns when determining the result dtypes. To retain the old behavior, exclude the \n",
       "relevant entries before the concat operation.\n",
       "  results = pd.concat([results, normalized_data]) #.dropna(axis=1, how=\"all\")])\n",
       "</pre>\n"
      ],
      "text/plain": [
       "/var/folders/7t/k8q3439j6z3c683j7w00wtm80000gn/T/ipykernel_58430/330735155.py:26: FutureWarning: The behavior of \n",
       "DataFrame concatenation with empty or all-NA entries is deprecated. In a future version, this will no longer \n",
       "exclude empty or all-NA columns when determining the result dtypes. To retain the old behavior, exclude the \n",
       "relevant entries before the concat operation.\n",
       "  results = pd.concat([results, normalized_data]) #.dropna(axis=1, how=\"all\")])\n"
      ]
     },
     "metadata": {},
     "output_type": "display_data"
    },
    {
     "data": {
      "text/html": [
       "<pre style=\"white-space:pre;overflow-x:auto;line-height:normal;font-family:Menlo,'DejaVu Sans Mono',consolas,'Courier New',monospace\">/var/folders/7t/k8q3439j6z3c683j7w00wtm80000gn/T/ipykernel_58430/330735155.py:26: FutureWarning: The behavior of \n",
       "DataFrame concatenation with empty or all-NA entries is deprecated. In a future version, this will no longer \n",
       "exclude empty or all-NA columns when determining the result dtypes. To retain the old behavior, exclude the \n",
       "relevant entries before the concat operation.\n",
       "  results = pd.concat([results, normalized_data]) #.dropna(axis=1, how=\"all\")])\n",
       "</pre>\n"
      ],
      "text/plain": [
       "/var/folders/7t/k8q3439j6z3c683j7w00wtm80000gn/T/ipykernel_58430/330735155.py:26: FutureWarning: The behavior of \n",
       "DataFrame concatenation with empty or all-NA entries is deprecated. In a future version, this will no longer \n",
       "exclude empty or all-NA columns when determining the result dtypes. To retain the old behavior, exclude the \n",
       "relevant entries before the concat operation.\n",
       "  results = pd.concat([results, normalized_data]) #.dropna(axis=1, how=\"all\")])\n"
      ]
     },
     "metadata": {},
     "output_type": "display_data"
    },
    {
     "data": {
      "text/html": [
       "<pre style=\"white-space:pre;overflow-x:auto;line-height:normal;font-family:Menlo,'DejaVu Sans Mono',consolas,'Courier New',monospace\">/var/folders/7t/k8q3439j6z3c683j7w00wtm80000gn/T/ipykernel_58430/330735155.py:26: FutureWarning: The behavior of \n",
       "DataFrame concatenation with empty or all-NA entries is deprecated. In a future version, this will no longer \n",
       "exclude empty or all-NA columns when determining the result dtypes. To retain the old behavior, exclude the \n",
       "relevant entries before the concat operation.\n",
       "  results = pd.concat([results, normalized_data]) #.dropna(axis=1, how=\"all\")])\n",
       "</pre>\n"
      ],
      "text/plain": [
       "/var/folders/7t/k8q3439j6z3c683j7w00wtm80000gn/T/ipykernel_58430/330735155.py:26: FutureWarning: The behavior of \n",
       "DataFrame concatenation with empty or all-NA entries is deprecated. In a future version, this will no longer \n",
       "exclude empty or all-NA columns when determining the result dtypes. To retain the old behavior, exclude the \n",
       "relevant entries before the concat operation.\n",
       "  results = pd.concat([results, normalized_data]) #.dropna(axis=1, how=\"all\")])\n"
      ]
     },
     "metadata": {},
     "output_type": "display_data"
    },
    {
     "data": {
      "text/html": [
       "<pre style=\"white-space:pre;overflow-x:auto;line-height:normal;font-family:Menlo,'DejaVu Sans Mono',consolas,'Courier New',monospace\">/var/folders/7t/k8q3439j6z3c683j7w00wtm80000gn/T/ipykernel_58430/330735155.py:26: FutureWarning: The behavior of \n",
       "DataFrame concatenation with empty or all-NA entries is deprecated. In a future version, this will no longer \n",
       "exclude empty or all-NA columns when determining the result dtypes. To retain the old behavior, exclude the \n",
       "relevant entries before the concat operation.\n",
       "  results = pd.concat([results, normalized_data]) #.dropna(axis=1, how=\"all\")])\n",
       "</pre>\n"
      ],
      "text/plain": [
       "/var/folders/7t/k8q3439j6z3c683j7w00wtm80000gn/T/ipykernel_58430/330735155.py:26: FutureWarning: The behavior of \n",
       "DataFrame concatenation with empty or all-NA entries is deprecated. In a future version, this will no longer \n",
       "exclude empty or all-NA columns when determining the result dtypes. To retain the old behavior, exclude the \n",
       "relevant entries before the concat operation.\n",
       "  results = pd.concat([results, normalized_data]) #.dropna(axis=1, how=\"all\")])\n"
      ]
     },
     "metadata": {},
     "output_type": "display_data"
    },
    {
     "data": {
      "text/html": [
       "<pre style=\"white-space:pre;overflow-x:auto;line-height:normal;font-family:Menlo,'DejaVu Sans Mono',consolas,'Courier New',monospace\">/var/folders/7t/k8q3439j6z3c683j7w00wtm80000gn/T/ipykernel_58430/330735155.py:26: FutureWarning: The behavior of \n",
       "DataFrame concatenation with empty or all-NA entries is deprecated. In a future version, this will no longer \n",
       "exclude empty or all-NA columns when determining the result dtypes. To retain the old behavior, exclude the \n",
       "relevant entries before the concat operation.\n",
       "  results = pd.concat([results, normalized_data]) #.dropna(axis=1, how=\"all\")])\n",
       "</pre>\n"
      ],
      "text/plain": [
       "/var/folders/7t/k8q3439j6z3c683j7w00wtm80000gn/T/ipykernel_58430/330735155.py:26: FutureWarning: The behavior of \n",
       "DataFrame concatenation with empty or all-NA entries is deprecated. In a future version, this will no longer \n",
       "exclude empty or all-NA columns when determining the result dtypes. To retain the old behavior, exclude the \n",
       "relevant entries before the concat operation.\n",
       "  results = pd.concat([results, normalized_data]) #.dropna(axis=1, how=\"all\")])\n"
      ]
     },
     "metadata": {},
     "output_type": "display_data"
    },
    {
     "data": {
      "text/html": [
       "<pre style=\"white-space:pre;overflow-x:auto;line-height:normal;font-family:Menlo,'DejaVu Sans Mono',consolas,'Courier New',monospace\">/var/folders/7t/k8q3439j6z3c683j7w00wtm80000gn/T/ipykernel_58430/330735155.py:26: FutureWarning: The behavior of \n",
       "DataFrame concatenation with empty or all-NA entries is deprecated. In a future version, this will no longer \n",
       "exclude empty or all-NA columns when determining the result dtypes. To retain the old behavior, exclude the \n",
       "relevant entries before the concat operation.\n",
       "  results = pd.concat([results, normalized_data]) #.dropna(axis=1, how=\"all\")])\n",
       "</pre>\n"
      ],
      "text/plain": [
       "/var/folders/7t/k8q3439j6z3c683j7w00wtm80000gn/T/ipykernel_58430/330735155.py:26: FutureWarning: The behavior of \n",
       "DataFrame concatenation with empty or all-NA entries is deprecated. In a future version, this will no longer \n",
       "exclude empty or all-NA columns when determining the result dtypes. To retain the old behavior, exclude the \n",
       "relevant entries before the concat operation.\n",
       "  results = pd.concat([results, normalized_data]) #.dropna(axis=1, how=\"all\")])\n"
      ]
     },
     "metadata": {},
     "output_type": "display_data"
    },
    {
     "data": {
      "text/html": [
       "<pre style=\"white-space:pre;overflow-x:auto;line-height:normal;font-family:Menlo,'DejaVu Sans Mono',consolas,'Courier New',monospace\">/var/folders/7t/k8q3439j6z3c683j7w00wtm80000gn/T/ipykernel_58430/330735155.py:26: FutureWarning: The behavior of \n",
       "DataFrame concatenation with empty or all-NA entries is deprecated. In a future version, this will no longer \n",
       "exclude empty or all-NA columns when determining the result dtypes. To retain the old behavior, exclude the \n",
       "relevant entries before the concat operation.\n",
       "  results = pd.concat([results, normalized_data]) #.dropna(axis=1, how=\"all\")])\n",
       "</pre>\n"
      ],
      "text/plain": [
       "/var/folders/7t/k8q3439j6z3c683j7w00wtm80000gn/T/ipykernel_58430/330735155.py:26: FutureWarning: The behavior of \n",
       "DataFrame concatenation with empty or all-NA entries is deprecated. In a future version, this will no longer \n",
       "exclude empty or all-NA columns when determining the result dtypes. To retain the old behavior, exclude the \n",
       "relevant entries before the concat operation.\n",
       "  results = pd.concat([results, normalized_data]) #.dropna(axis=1, how=\"all\")])\n"
      ]
     },
     "metadata": {},
     "output_type": "display_data"
    },
    {
     "data": {
      "text/html": [
       "<pre style=\"white-space:pre;overflow-x:auto;line-height:normal;font-family:Menlo,'DejaVu Sans Mono',consolas,'Courier New',monospace\">/var/folders/7t/k8q3439j6z3c683j7w00wtm80000gn/T/ipykernel_58430/330735155.py:26: FutureWarning: The behavior of \n",
       "DataFrame concatenation with empty or all-NA entries is deprecated. In a future version, this will no longer \n",
       "exclude empty or all-NA columns when determining the result dtypes. To retain the old behavior, exclude the \n",
       "relevant entries before the concat operation.\n",
       "  results = pd.concat([results, normalized_data]) #.dropna(axis=1, how=\"all\")])\n",
       "</pre>\n"
      ],
      "text/plain": [
       "/var/folders/7t/k8q3439j6z3c683j7w00wtm80000gn/T/ipykernel_58430/330735155.py:26: FutureWarning: The behavior of \n",
       "DataFrame concatenation with empty or all-NA entries is deprecated. In a future version, this will no longer \n",
       "exclude empty or all-NA columns when determining the result dtypes. To retain the old behavior, exclude the \n",
       "relevant entries before the concat operation.\n",
       "  results = pd.concat([results, normalized_data]) #.dropna(axis=1, how=\"all\")])\n"
      ]
     },
     "metadata": {},
     "output_type": "display_data"
    },
    {
     "data": {
      "text/html": [
       "<pre style=\"white-space:pre;overflow-x:auto;line-height:normal;font-family:Menlo,'DejaVu Sans Mono',consolas,'Courier New',monospace\"></pre>\n"
      ],
      "text/plain": []
     },
     "metadata": {},
     "output_type": "display_data"
    },
    {
     "data": {
      "text/html": [
       "<pre style=\"white-space:pre;overflow-x:auto;line-height:normal;font-family:Menlo,'DejaVu Sans Mono',consolas,'Courier New',monospace\">\n",
       "</pre>\n"
      ],
      "text/plain": [
       "\n"
      ]
     },
     "metadata": {},
     "output_type": "display_data"
    },
    {
     "data": {
      "text/html": [
       "<div>\n",
       "<style scoped>\n",
       "    .dataframe tbody tr th:only-of-type {\n",
       "        vertical-align: middle;\n",
       "    }\n",
       "\n",
       "    .dataframe tbody tr th {\n",
       "        vertical-align: top;\n",
       "    }\n",
       "\n",
       "    .dataframe thead th {\n",
       "        text-align: right;\n",
       "    }\n",
       "</style>\n",
       "<table border=\"1\" class=\"dataframe\">\n",
       "  <thead>\n",
       "    <tr style=\"text-align: right;\">\n",
       "      <th></th>\n",
       "      <th></th>\n",
       "      <th></th>\n",
       "      <th></th>\n",
       "      <th>C</th>\n",
       "      <th>alpha</th>\n",
       "      <th>hidden_layer_sizes</th>\n",
       "      <th>kernel</th>\n",
       "      <th>learning_rate</th>\n",
       "      <th>max_depth</th>\n",
       "      <th>n_estimators</th>\n",
       "      <th>f1_score</th>\n",
       "      <th>model_path</th>\n",
       "    </tr>\n",
       "    <tr>\n",
       "      <th>percentage</th>\n",
       "      <th>model</th>\n",
       "      <th>use_gradient</th>\n",
       "      <th>use_ewma</th>\n",
       "      <th></th>\n",
       "      <th></th>\n",
       "      <th></th>\n",
       "      <th></th>\n",
       "      <th></th>\n",
       "      <th></th>\n",
       "      <th></th>\n",
       "      <th></th>\n",
       "      <th></th>\n",
       "    </tr>\n",
       "  </thead>\n",
       "  <tbody>\n",
       "    <tr>\n",
       "      <th rowspan=\"5\" valign=\"top\">4</th>\n",
       "      <th rowspan=\"5\" valign=\"top\">SVM</th>\n",
       "      <th rowspan=\"5\" valign=\"top\">True</th>\n",
       "      <th>False</th>\n",
       "      <td>1.0</td>\n",
       "      <td>NaN</td>\n",
       "      <td>NaN</td>\n",
       "      <td>rbf</td>\n",
       "      <td>NaN</td>\n",
       "      <td>NaN</td>\n",
       "      <td>NaN</td>\n",
       "      <td>0.715789</td>\n",
       "      <td>train-output-all-features/SVM_4_grad_no-ewma_3...</td>\n",
       "    </tr>\n",
       "    <tr>\n",
       "      <th>False</th>\n",
       "      <td>1.0</td>\n",
       "      <td>NaN</td>\n",
       "      <td>NaN</td>\n",
       "      <td>rbf</td>\n",
       "      <td>NaN</td>\n",
       "      <td>NaN</td>\n",
       "      <td>NaN</td>\n",
       "      <td>0.702128</td>\n",
       "      <td>train-output-all-features/SVM_4_grad_no-ewma_3...</td>\n",
       "    </tr>\n",
       "    <tr>\n",
       "      <th>False</th>\n",
       "      <td>1.0</td>\n",
       "      <td>NaN</td>\n",
       "      <td>NaN</td>\n",
       "      <td>rbf</td>\n",
       "      <td>NaN</td>\n",
       "      <td>NaN</td>\n",
       "      <td>NaN</td>\n",
       "      <td>0.701031</td>\n",
       "      <td>train-output-all-features/SVM_4_grad_no-ewma_3...</td>\n",
       "    </tr>\n",
       "    <tr>\n",
       "      <th>False</th>\n",
       "      <td>1.0</td>\n",
       "      <td>NaN</td>\n",
       "      <td>NaN</td>\n",
       "      <td>rbf</td>\n",
       "      <td>NaN</td>\n",
       "      <td>NaN</td>\n",
       "      <td>NaN</td>\n",
       "      <td>0.747475</td>\n",
       "      <td>train-output-all-features/SVM_4_grad_no-ewma_3...</td>\n",
       "    </tr>\n",
       "    <tr>\n",
       "      <th>False</th>\n",
       "      <td>1.0</td>\n",
       "      <td>NaN</td>\n",
       "      <td>NaN</td>\n",
       "      <td>rbf</td>\n",
       "      <td>NaN</td>\n",
       "      <td>NaN</td>\n",
       "      <td>NaN</td>\n",
       "      <td>0.744681</td>\n",
       "      <td>train-output-all-features/SVM_4_grad_no-ewma_3...</td>\n",
       "    </tr>\n",
       "    <tr>\n",
       "      <th>...</th>\n",
       "      <th>...</th>\n",
       "      <th>...</th>\n",
       "      <th>...</th>\n",
       "      <td>...</td>\n",
       "      <td>...</td>\n",
       "      <td>...</td>\n",
       "      <td>...</td>\n",
       "      <td>...</td>\n",
       "      <td>...</td>\n",
       "      <td>...</td>\n",
       "      <td>...</td>\n",
       "      <td>...</td>\n",
       "    </tr>\n",
       "    <tr>\n",
       "      <th rowspan=\"5\" valign=\"top\">19</th>\n",
       "      <th rowspan=\"5\" valign=\"top\">LR</th>\n",
       "      <th rowspan=\"5\" valign=\"top\">False</th>\n",
       "      <th>False</th>\n",
       "      <td>1.0</td>\n",
       "      <td>NaN</td>\n",
       "      <td>NaN</td>\n",
       "      <td>NaN</td>\n",
       "      <td>NaN</td>\n",
       "      <td>NaN</td>\n",
       "      <td>NaN</td>\n",
       "      <td>0.619048</td>\n",
       "      <td>train-output-all-features/LR_19_no-grad_no-ewm...</td>\n",
       "    </tr>\n",
       "    <tr>\n",
       "      <th>False</th>\n",
       "      <td>1.0</td>\n",
       "      <td>NaN</td>\n",
       "      <td>NaN</td>\n",
       "      <td>NaN</td>\n",
       "      <td>NaN</td>\n",
       "      <td>NaN</td>\n",
       "      <td>NaN</td>\n",
       "      <td>0.488889</td>\n",
       "      <td>train-output-all-features/LR_19_no-grad_no-ewm...</td>\n",
       "    </tr>\n",
       "    <tr>\n",
       "      <th>False</th>\n",
       "      <td>1.0</td>\n",
       "      <td>NaN</td>\n",
       "      <td>NaN</td>\n",
       "      <td>NaN</td>\n",
       "      <td>NaN</td>\n",
       "      <td>NaN</td>\n",
       "      <td>NaN</td>\n",
       "      <td>0.465116</td>\n",
       "      <td>train-output-all-features/LR_19_no-grad_no-ewm...</td>\n",
       "    </tr>\n",
       "    <tr>\n",
       "      <th>False</th>\n",
       "      <td>1.0</td>\n",
       "      <td>NaN</td>\n",
       "      <td>NaN</td>\n",
       "      <td>NaN</td>\n",
       "      <td>NaN</td>\n",
       "      <td>NaN</td>\n",
       "      <td>NaN</td>\n",
       "      <td>0.478261</td>\n",
       "      <td>train-output-all-features/LR_19_no-grad_no-ewm...</td>\n",
       "    </tr>\n",
       "    <tr>\n",
       "      <th>False</th>\n",
       "      <td>1.0</td>\n",
       "      <td>NaN</td>\n",
       "      <td>NaN</td>\n",
       "      <td>NaN</td>\n",
       "      <td>NaN</td>\n",
       "      <td>NaN</td>\n",
       "      <td>NaN</td>\n",
       "      <td>0.510638</td>\n",
       "      <td>train-output-all-features/LR_19_no-grad_no-ewm...</td>\n",
       "    </tr>\n",
       "  </tbody>\n",
       "</table>\n",
       "<p>33540 rows × 9 columns</p>\n",
       "</div>"
      ],
      "text/plain": [
       "                                          C  alpha hidden_layer_sizes kernel  \\\n",
       "percentage model use_gradient use_ewma                                         \n",
       "4          SVM   True         False     1.0    NaN                NaN    rbf   \n",
       "                              False     1.0    NaN                NaN    rbf   \n",
       "                              False     1.0    NaN                NaN    rbf   \n",
       "                              False     1.0    NaN                NaN    rbf   \n",
       "                              False     1.0    NaN                NaN    rbf   \n",
       "...                                     ...    ...                ...    ...   \n",
       "19         LR    False        False     1.0    NaN                NaN    NaN   \n",
       "                              False     1.0    NaN                NaN    NaN   \n",
       "                              False     1.0    NaN                NaN    NaN   \n",
       "                              False     1.0    NaN                NaN    NaN   \n",
       "                              False     1.0    NaN                NaN    NaN   \n",
       "\n",
       "                                        learning_rate  max_depth  \\\n",
       "percentage model use_gradient use_ewma                             \n",
       "4          SVM   True         False               NaN        NaN   \n",
       "                              False               NaN        NaN   \n",
       "                              False               NaN        NaN   \n",
       "                              False               NaN        NaN   \n",
       "                              False               NaN        NaN   \n",
       "...                                               ...        ...   \n",
       "19         LR    False        False               NaN        NaN   \n",
       "                              False               NaN        NaN   \n",
       "                              False               NaN        NaN   \n",
       "                              False               NaN        NaN   \n",
       "                              False               NaN        NaN   \n",
       "\n",
       "                                        n_estimators  f1_score  \\\n",
       "percentage model use_gradient use_ewma                           \n",
       "4          SVM   True         False              NaN  0.715789   \n",
       "                              False              NaN  0.702128   \n",
       "                              False              NaN  0.701031   \n",
       "                              False              NaN  0.747475   \n",
       "                              False              NaN  0.744681   \n",
       "...                                              ...       ...   \n",
       "19         LR    False        False              NaN  0.619048   \n",
       "                              False              NaN  0.488889   \n",
       "                              False              NaN  0.465116   \n",
       "                              False              NaN  0.478261   \n",
       "                              False              NaN  0.510638   \n",
       "\n",
       "                                                                               model_path  \n",
       "percentage model use_gradient use_ewma                                                     \n",
       "4          SVM   True         False     train-output-all-features/SVM_4_grad_no-ewma_3...  \n",
       "                              False     train-output-all-features/SVM_4_grad_no-ewma_3...  \n",
       "                              False     train-output-all-features/SVM_4_grad_no-ewma_3...  \n",
       "                              False     train-output-all-features/SVM_4_grad_no-ewma_3...  \n",
       "                              False     train-output-all-features/SVM_4_grad_no-ewma_3...  \n",
       "...                                                                                   ...  \n",
       "19         LR    False        False     train-output-all-features/LR_19_no-grad_no-ewm...  \n",
       "                              False     train-output-all-features/LR_19_no-grad_no-ewm...  \n",
       "                              False     train-output-all-features/LR_19_no-grad_no-ewm...  \n",
       "                              False     train-output-all-features/LR_19_no-grad_no-ewm...  \n",
       "                              False     train-output-all-features/LR_19_no-grad_no-ewm...  \n",
       "\n",
       "[33540 rows x 9 columns]"
      ]
     },
     "execution_count": 330,
     "metadata": {},
     "output_type": "execute_result"
    }
   ],
   "source": [
    "def parse_files(root_path):\n",
    "    \"\"\"\n",
    "    Parse files and use pd.json_normalize to flatten the json.\n",
    "    \"\"\"\n",
    "    files = root_path.joinpath(\"train-output-all-features\").glob(\"**/*.json\")\n",
    "    results = pd.DataFrame()\n",
    "    files = list(files)\n",
    "\n",
    "    for file in track(\n",
    "        files,\n",
    "        description=\"Loading hyperparameters and \"\n",
    "        \"performance data from file to DataFrame\",\n",
    "    ):\n",
    "        with open(file) as f:\n",
    "            data = json.load(f)\n",
    "            original_target = root_path.joinpath(data[\"original_target\"])\n",
    "            original_dict = json.loads(Path(original_target).read_text())\n",
    "\n",
    "            f1_scores = pd.json_normalize(data, \"f1_scores\")\n",
    "            normalized_data = pd.json_normalize(original_dict)\n",
    "            normalized_data = pd.concat(\n",
    "                [normalized_data] * len(f1_scores), ignore_index=True\n",
    "            )\n",
    "            normalized_data[\"metrics.f1_score\"] = f1_scores\n",
    "            normalized_data[\"paths.model_path\"] = data[\"model_path\"]\n",
    "            results = pd.concat([results, normalized_data]) #.dropna(axis=1, how=\"all\")])\n",
    "\n",
    "    results = results.set_index(\n",
    "        [\"percentage\", \"model\", \"use_gradient\", \"use_ewma\"]\n",
    "    )\n",
    "    results.columns = pd.MultiIndex.from_arrays(\n",
    "        zip(*results.columns.str.split(\".\", expand=True))\n",
    "    )\n",
    "    results = results.sort_index(axis=1)\n",
    "    results = results.drop(columns=['k_fold', 'preprocessing'])\n",
    "    results = results.droplevel(0, axis=1)\n",
    "\n",
    "    return results\n",
    "\n",
    "\n",
    "data_flattened = parse_files(Path(\"./analysis/\"))\n",
    "data_flattened"
   ]
  },
  {
   "cell_type": "code",
   "execution_count": 337,
   "metadata": {},
   "outputs": [
    {
     "data": {
      "text/html": [
       "<div>\n",
       "<style scoped>\n",
       "    .dataframe tbody tr th:only-of-type {\n",
       "        vertical-align: middle;\n",
       "    }\n",
       "\n",
       "    .dataframe tbody tr th {\n",
       "        vertical-align: top;\n",
       "    }\n",
       "\n",
       "    .dataframe thead th {\n",
       "        text-align: right;\n",
       "    }\n",
       "</style>\n",
       "<table border=\"1\" class=\"dataframe\">\n",
       "  <thead>\n",
       "    <tr style=\"text-align: right;\">\n",
       "      <th></th>\n",
       "      <th></th>\n",
       "      <th>C</th>\n",
       "      <th>alpha</th>\n",
       "      <th>hidden_layer_sizes</th>\n",
       "      <th>kernel</th>\n",
       "      <th>learning_rate</th>\n",
       "      <th>max_depth</th>\n",
       "      <th>n_estimators</th>\n",
       "      <th>f1_score</th>\n",
       "      <th>model_path</th>\n",
       "    </tr>\n",
       "    <tr>\n",
       "      <th>percentage</th>\n",
       "      <th>model</th>\n",
       "      <th></th>\n",
       "      <th></th>\n",
       "      <th></th>\n",
       "      <th></th>\n",
       "      <th></th>\n",
       "      <th></th>\n",
       "      <th></th>\n",
       "      <th></th>\n",
       "      <th></th>\n",
       "    </tr>\n",
       "  </thead>\n",
       "  <tbody>\n",
       "    <tr>\n",
       "      <th rowspan=\"5\" valign=\"top\">1</th>\n",
       "      <th>AdaBoost</th>\n",
       "      <td>NaN</td>\n",
       "      <td>NaN</td>\n",
       "      <td>NaN</td>\n",
       "      <td>NaN</td>\n",
       "      <td>0.1</td>\n",
       "      <td>NaN</td>\n",
       "      <td>50.0</td>\n",
       "      <td>0.790323</td>\n",
       "      <td>train-output-all-features/AdaBoost_1_no-grad_n...</td>\n",
       "    </tr>\n",
       "    <tr>\n",
       "      <th>AdaBoost</th>\n",
       "      <td>NaN</td>\n",
       "      <td>NaN</td>\n",
       "      <td>NaN</td>\n",
       "      <td>NaN</td>\n",
       "      <td>0.1</td>\n",
       "      <td>NaN</td>\n",
       "      <td>50.0</td>\n",
       "      <td>0.760331</td>\n",
       "      <td>train-output-all-features/AdaBoost_1_no-grad_n...</td>\n",
       "    </tr>\n",
       "    <tr>\n",
       "      <th>AdaBoost</th>\n",
       "      <td>NaN</td>\n",
       "      <td>NaN</td>\n",
       "      <td>NaN</td>\n",
       "      <td>NaN</td>\n",
       "      <td>0.1</td>\n",
       "      <td>NaN</td>\n",
       "      <td>50.0</td>\n",
       "      <td>0.740157</td>\n",
       "      <td>train-output-all-features/AdaBoost_1_no-grad_n...</td>\n",
       "    </tr>\n",
       "    <tr>\n",
       "      <th>AdaBoost</th>\n",
       "      <td>NaN</td>\n",
       "      <td>NaN</td>\n",
       "      <td>NaN</td>\n",
       "      <td>NaN</td>\n",
       "      <td>0.1</td>\n",
       "      <td>NaN</td>\n",
       "      <td>50.0</td>\n",
       "      <td>0.789474</td>\n",
       "      <td>train-output-all-features/AdaBoost_1_no-grad_n...</td>\n",
       "    </tr>\n",
       "    <tr>\n",
       "      <th>AdaBoost</th>\n",
       "      <td>NaN</td>\n",
       "      <td>NaN</td>\n",
       "      <td>NaN</td>\n",
       "      <td>NaN</td>\n",
       "      <td>0.1</td>\n",
       "      <td>NaN</td>\n",
       "      <td>50.0</td>\n",
       "      <td>0.777778</td>\n",
       "      <td>train-output-all-features/AdaBoost_1_no-grad_n...</td>\n",
       "    </tr>\n",
       "    <tr>\n",
       "      <th>...</th>\n",
       "      <th>...</th>\n",
       "      <td>...</td>\n",
       "      <td>...</td>\n",
       "      <td>...</td>\n",
       "      <td>...</td>\n",
       "      <td>...</td>\n",
       "      <td>...</td>\n",
       "      <td>...</td>\n",
       "      <td>...</td>\n",
       "      <td>...</td>\n",
       "    </tr>\n",
       "    <tr>\n",
       "      <th rowspan=\"5\" valign=\"top\">20</th>\n",
       "      <th>SVM</th>\n",
       "      <td>0.1</td>\n",
       "      <td>NaN</td>\n",
       "      <td>NaN</td>\n",
       "      <td>linear</td>\n",
       "      <td>NaN</td>\n",
       "      <td>NaN</td>\n",
       "      <td>NaN</td>\n",
       "      <td>0.380952</td>\n",
       "      <td>train-output-all-features/SVM_20_no-grad_no-ew...</td>\n",
       "    </tr>\n",
       "    <tr>\n",
       "      <th>SVM</th>\n",
       "      <td>0.1</td>\n",
       "      <td>NaN</td>\n",
       "      <td>NaN</td>\n",
       "      <td>linear</td>\n",
       "      <td>NaN</td>\n",
       "      <td>NaN</td>\n",
       "      <td>NaN</td>\n",
       "      <td>0.491228</td>\n",
       "      <td>train-output-all-features/SVM_20_no-grad_no-ew...</td>\n",
       "    </tr>\n",
       "    <tr>\n",
       "      <th>SVM</th>\n",
       "      <td>0.1</td>\n",
       "      <td>NaN</td>\n",
       "      <td>NaN</td>\n",
       "      <td>linear</td>\n",
       "      <td>NaN</td>\n",
       "      <td>NaN</td>\n",
       "      <td>NaN</td>\n",
       "      <td>0.416667</td>\n",
       "      <td>train-output-all-features/SVM_20_no-grad_no-ew...</td>\n",
       "    </tr>\n",
       "    <tr>\n",
       "      <th>SVM</th>\n",
       "      <td>0.1</td>\n",
       "      <td>NaN</td>\n",
       "      <td>NaN</td>\n",
       "      <td>linear</td>\n",
       "      <td>NaN</td>\n",
       "      <td>NaN</td>\n",
       "      <td>NaN</td>\n",
       "      <td>0.604651</td>\n",
       "      <td>train-output-all-features/SVM_20_no-grad_no-ew...</td>\n",
       "    </tr>\n",
       "    <tr>\n",
       "      <th>SVM</th>\n",
       "      <td>0.1</td>\n",
       "      <td>NaN</td>\n",
       "      <td>NaN</td>\n",
       "      <td>linear</td>\n",
       "      <td>NaN</td>\n",
       "      <td>NaN</td>\n",
       "      <td>NaN</td>\n",
       "      <td>0.500000</td>\n",
       "      <td>train-output-all-features/SVM_20_no-grad_no-ew...</td>\n",
       "    </tr>\n",
       "  </tbody>\n",
       "</table>\n",
       "<p>8600 rows × 9 columns</p>\n",
       "</div>"
      ],
      "text/plain": [
       "                       C  alpha hidden_layer_sizes  kernel  learning_rate  \\\n",
       "percentage model                                                            \n",
       "1          AdaBoost  NaN    NaN                NaN     NaN            0.1   \n",
       "           AdaBoost  NaN    NaN                NaN     NaN            0.1   \n",
       "           AdaBoost  NaN    NaN                NaN     NaN            0.1   \n",
       "           AdaBoost  NaN    NaN                NaN     NaN            0.1   \n",
       "           AdaBoost  NaN    NaN                NaN     NaN            0.1   \n",
       "...                  ...    ...                ...     ...            ...   \n",
       "20         SVM       0.1    NaN                NaN  linear            NaN   \n",
       "           SVM       0.1    NaN                NaN  linear            NaN   \n",
       "           SVM       0.1    NaN                NaN  linear            NaN   \n",
       "           SVM       0.1    NaN                NaN  linear            NaN   \n",
       "           SVM       0.1    NaN                NaN  linear            NaN   \n",
       "\n",
       "                     max_depth  n_estimators  f1_score  \\\n",
       "percentage model                                         \n",
       "1          AdaBoost        NaN          50.0  0.790323   \n",
       "           AdaBoost        NaN          50.0  0.760331   \n",
       "           AdaBoost        NaN          50.0  0.740157   \n",
       "           AdaBoost        NaN          50.0  0.789474   \n",
       "           AdaBoost        NaN          50.0  0.777778   \n",
       "...                        ...           ...       ...   \n",
       "20         SVM             NaN           NaN  0.380952   \n",
       "           SVM             NaN           NaN  0.491228   \n",
       "           SVM             NaN           NaN  0.416667   \n",
       "           SVM             NaN           NaN  0.604651   \n",
       "           SVM             NaN           NaN  0.500000   \n",
       "\n",
       "                                                            model_path  \n",
       "percentage model                                                        \n",
       "1          AdaBoost  train-output-all-features/AdaBoost_1_no-grad_n...  \n",
       "           AdaBoost  train-output-all-features/AdaBoost_1_no-grad_n...  \n",
       "           AdaBoost  train-output-all-features/AdaBoost_1_no-grad_n...  \n",
       "           AdaBoost  train-output-all-features/AdaBoost_1_no-grad_n...  \n",
       "           AdaBoost  train-output-all-features/AdaBoost_1_no-grad_n...  \n",
       "...                                                                ...  \n",
       "20         SVM       train-output-all-features/SVM_20_no-grad_no-ew...  \n",
       "           SVM       train-output-all-features/SVM_20_no-grad_no-ew...  \n",
       "           SVM       train-output-all-features/SVM_20_no-grad_no-ew...  \n",
       "           SVM       train-output-all-features/SVM_20_no-grad_no-ew...  \n",
       "           SVM       train-output-all-features/SVM_20_no-grad_no-ew...  \n",
       "\n",
       "[8600 rows x 9 columns]"
      ]
     },
     "execution_count": 337,
     "metadata": {},
     "output_type": "execute_result"
    }
   ],
   "source": [
    "# Remove any runs that included use_ewma or use_gradient\n",
    "df = data_flattened.loc[(slice(None), slice(None), False, False), :]\n",
    "df.index = df.index.droplevel([2, 3])\n",
    "df = df.sort_values(by=['percentage', 'model'])\n",
    "df"
   ]
  },
  {
   "cell_type": "code",
   "execution_count": 332,
   "metadata": {},
   "outputs": [],
   "source": [
    "def float_or_list_to_tuple(x):\n",
    "    if isinstance(x, list):\n",
    "        return tuple(x)\n",
    "    return x\n",
    "\n",
    "df[\"hidden_layer_sizes\"] = df['hidden_layer_sizes'].apply(float_or_list_to_tuple)"
   ]
  },
  {
   "cell_type": "code",
   "execution_count": null,
   "metadata": {},
   "outputs": [],
   "source": []
  },
  {
   "cell_type": "code",
   "execution_count": 333,
   "metadata": {},
   "outputs": [
    {
     "data": {
      "text/html": [
       "<div>\n",
       "<style scoped>\n",
       "    .dataframe tbody tr th:only-of-type {\n",
       "        vertical-align: middle;\n",
       "    }\n",
       "\n",
       "    .dataframe tbody tr th {\n",
       "        vertical-align: top;\n",
       "    }\n",
       "\n",
       "    .dataframe thead th {\n",
       "        text-align: right;\n",
       "    }\n",
       "</style>\n",
       "<table border=\"1\" class=\"dataframe\">\n",
       "  <thead>\n",
       "    <tr style=\"text-align: right;\">\n",
       "      <th></th>\n",
       "      <th></th>\n",
       "      <th></th>\n",
       "      <th></th>\n",
       "      <th>mean</th>\n",
       "      <th>std</th>\n",
       "    </tr>\n",
       "    <tr>\n",
       "      <th>percentage</th>\n",
       "      <th>model</th>\n",
       "      <th>max_depth</th>\n",
       "      <th>n_estimators</th>\n",
       "      <th></th>\n",
       "      <th></th>\n",
       "    </tr>\n",
       "  </thead>\n",
       "  <tbody>\n",
       "    <tr>\n",
       "      <th rowspan=\"2\" valign=\"top\">5</th>\n",
       "      <th>ET</th>\n",
       "      <th>NaN</th>\n",
       "      <th>200.0</th>\n",
       "      <td>0.849900</td>\n",
       "      <td>0.033471</td>\n",
       "    </tr>\n",
       "    <tr>\n",
       "      <th>RF</th>\n",
       "      <th>NaN</th>\n",
       "      <th>100.0</th>\n",
       "      <td>0.847879</td>\n",
       "      <td>0.035680</td>\n",
       "    </tr>\n",
       "    <tr>\n",
       "      <th rowspan=\"2\" valign=\"top\">10</th>\n",
       "      <th>ET</th>\n",
       "      <th>20.0</th>\n",
       "      <th>50.0</th>\n",
       "      <td>0.789458</td>\n",
       "      <td>0.050348</td>\n",
       "    </tr>\n",
       "    <tr>\n",
       "      <th>RF</th>\n",
       "      <th>20.0</th>\n",
       "      <th>200.0</th>\n",
       "      <td>0.805133</td>\n",
       "      <td>0.036164</td>\n",
       "    </tr>\n",
       "    <tr>\n",
       "      <th rowspan=\"2\" valign=\"top\">15</th>\n",
       "      <th>ET</th>\n",
       "      <th>20.0</th>\n",
       "      <th>100.0</th>\n",
       "      <td>0.747298</td>\n",
       "      <td>0.099952</td>\n",
       "    </tr>\n",
       "    <tr>\n",
       "      <th>RF</th>\n",
       "      <th>10.0</th>\n",
       "      <th>200.0</th>\n",
       "      <td>0.741128</td>\n",
       "      <td>0.068748</td>\n",
       "    </tr>\n",
       "    <tr>\n",
       "      <th rowspan=\"2\" valign=\"top\">20</th>\n",
       "      <th>ET</th>\n",
       "      <th>20.0</th>\n",
       "      <th>200.0</th>\n",
       "      <td>0.707496</td>\n",
       "      <td>0.099268</td>\n",
       "    </tr>\n",
       "    <tr>\n",
       "      <th>RF</th>\n",
       "      <th>10.0</th>\n",
       "      <th>100.0</th>\n",
       "      <td>0.704397</td>\n",
       "      <td>0.092276</td>\n",
       "    </tr>\n",
       "  </tbody>\n",
       "</table>\n",
       "</div>"
      ],
      "text/plain": [
       "                                             mean       std\n",
       "percentage model max_depth n_estimators                    \n",
       "5          ET    NaN       200.0         0.849900  0.033471\n",
       "           RF    NaN       100.0         0.847879  0.035680\n",
       "10         ET    20.0      50.0          0.789458  0.050348\n",
       "           RF    20.0      200.0         0.805133  0.036164\n",
       "15         ET    20.0      100.0         0.747298  0.099952\n",
       "           RF    10.0      200.0         0.741128  0.068748\n",
       "20         ET    20.0      200.0         0.707496  0.099268\n",
       "           RF    10.0      100.0         0.704397  0.092276"
      ]
     },
     "execution_count": 333,
     "metadata": {},
     "output_type": "execute_result"
    }
   ],
   "source": [
    "group = df.groupby(['percentage', 'model', 'C', 'hidden_layer_sizes', 'kernel', 'learning_rate', 'max_depth', 'n_estimators', 'alpha'], dropna=False)\n",
    "summary = group['f1_score'].agg(['mean', 'std'])\n",
    "\n",
    "idx = summary.groupby(['percentage', 'model']).idxmax()\n",
    "\n",
    "best_hyperparams = summary.loc[idx['mean'], :]\n",
    "best_per_percentage = best_hyperparams.groupby('percentage')['mean'].idxmax()\n",
    "selected_percentages = best_hyperparams[best_hyperparams.index.get_level_values('percentage').isin([5, 10, 15, 20]) & best_hyperparams.index.get_level_values('model').isin(['RF', 'ET'])]\n",
    "models_to_test = selected_percentages.droplevel(['C', 'hidden_layer_sizes', 'kernel', 'learning_rate', 'alpha'])\n",
    "models_to_test\n"
   ]
  },
  {
   "cell_type": "code",
   "execution_count": 334,
   "metadata": {},
   "outputs": [
    {
     "data": {
      "text/plain": [
       "{(5,\n",
       "  'ET'): ExtraTreesClassifier(class_weight='balanced', n_estimators=200, random_state=42),\n",
       " (5, 'Dum'): DummyClassifier(random_state=42, strategy='stratified'),\n",
       " (5,\n",
       "  'RF'): RandomForestClassifier(class_weight='balanced_subsample', random_state=42),\n",
       " (10,\n",
       "  'ET'): ExtraTreesClassifier(class_weight='balanced', max_depth=20, n_estimators=50,\n",
       "                      random_state=42),\n",
       " (10, 'Dum'): DummyClassifier(random_state=42, strategy='stratified'),\n",
       " (10,\n",
       "  'RF'): RandomForestClassifier(class_weight='balanced_subsample', max_depth=20,\n",
       "                        n_estimators=200, random_state=42),\n",
       " (15,\n",
       "  'ET'): ExtraTreesClassifier(class_weight='balanced', max_depth=20, random_state=42),\n",
       " (15, 'Dum'): DummyClassifier(random_state=42, strategy='stratified'),\n",
       " (15,\n",
       "  'RF'): RandomForestClassifier(class_weight='balanced_subsample', max_depth=10,\n",
       "                        n_estimators=200, random_state=42),\n",
       " (20,\n",
       "  'ET'): ExtraTreesClassifier(class_weight='balanced', max_depth=20, n_estimators=200,\n",
       "                      random_state=42),\n",
       " (20, 'Dum'): DummyClassifier(random_state=42, strategy='stratified'),\n",
       " (20,\n",
       "  'RF'): RandomForestClassifier(class_weight='balanced_subsample', max_depth=10,\n",
       "                        random_state=42)}"
      ]
     },
     "execution_count": 334,
     "metadata": {},
     "output_type": "execute_result"
    }
   ],
   "source": [
    "random_state = 42\n",
    "classifiers = {}\n",
    "for percentage, model, max_depth, n_estimators in models_to_test.index:\n",
    "    if np.isnan(max_depth):\n",
    "        max_depth = None\n",
    "    else:\n",
    "        max_depth = int(max_depth)\n",
    "    n_estimators = int(n_estimators)\n",
    "    if model == 'ET':\n",
    "        classifiers[(percentage, model)] = ExtraTreesClassifier(max_depth=max_depth, n_estimators=n_estimators, random_state=random_state, class_weight='balanced')\n",
    "    elif model == 'RF':\n",
    "        classifiers[(percentage, model)] = RandomForestClassifier(max_depth=max_depth, n_estimators=n_estimators, random_state=random_state, class_weight='balanced_subsample')\n",
    "    classifiers[(percentage, 'Dum')] = DummyClassifier(strategy='stratified', random_state=random_state)\n",
    "classifiers"
   ]
  },
  {
   "cell_type": "code",
   "execution_count": 335,
   "metadata": {},
   "outputs": [
    {
     "name": "stdout",
     "output_type": "stream",
     "text": [
      "Training ET at 5%\n",
      "Training Dum at 5%\n",
      "Training RF at 5%\n",
      "Training ET at 10%\n",
      "Training Dum at 10%\n",
      "Training RF at 10%\n",
      "Training ET at 15%\n",
      "Training Dum at 15%\n",
      "Training RF at 15%\n",
      "Training ET at 20%\n",
      "Training Dum at 20%\n",
      "Training RF at 20%\n"
     ]
    }
   ],
   "source": [
    "import pickle\n",
    "\n",
    "def preprocess(dataframe, scaler=None):\n",
    "    result, mzn = dataframe.drop(columns=['mzn', 'dzn'], axis=1), dataframe['mzn']\n",
    "\n",
    "    # Drop any columns that contain the text 'ewma' or 'gradient'\n",
    "    result = result.drop(columns=result.columns[result.columns.str.contains('ewma|gradient')], axis=1)\n",
    "\n",
    "    result = result.drop(result.columns[result.nunique() == 1], axis=1)\n",
    "\n",
    "    if scaler is None:\n",
    "        scaler = MaxAbsScaler().fit(result)\n",
    "    result = pd.DataFrame(scaler.transform(result), columns=result.columns, index=result.index)\n",
    "\n",
    "    result['mzn'] = mzn\n",
    "\n",
    "    return result, scaler\n",
    "\n",
    "scalers = {}\n",
    "\n",
    "train_pkl = Path('./analysis/rerun_with_all_features_train.pkl')\n",
    "\n",
    "with open(train_pkl, 'rb') as f:\n",
    "    train_features_at_percentage = pickle.load(f)\n",
    "\n",
    "for perc in train_features_at_percentage:\n",
    "    train_features_at_percentage[perc] = train_features_at_percentage[perc]\n",
    "\n",
    "for percentage, model in classifiers:\n",
    "    print(f\"Training {model} at {percentage}%\")\n",
    "    df, scaler = preprocess(train_features_at_percentage[percentage])\n",
    "    scalers[(percentage, model)] = scaler\n",
    "    df = df.drop(columns=['mzn'], axis=1)\n",
    "    any_nan = df.isna().any().any()\n",
    "    \n",
    "    if any_nan:\n",
    "        print(\"The NaN values are in the following columns:\")\n",
    "        print(df.columns[df.isna().any()])\n",
    "    else:\n",
    "        train_X, train_y = df.drop(columns=['solved_within_time_limit']), df['solved_within_time_limit']\n",
    "        classifiers[(percentage, model)].fit(train_X, train_y)\n"
   ]
  },
  {
   "cell_type": "code",
   "execution_count": 378,
   "metadata": {},
   "outputs": [
    {
     "data": {
      "text/html": [
       "<div>\n",
       "<style scoped>\n",
       "    .dataframe tbody tr th:only-of-type {\n",
       "        vertical-align: middle;\n",
       "    }\n",
       "\n",
       "    .dataframe tbody tr th {\n",
       "        vertical-align: top;\n",
       "    }\n",
       "\n",
       "    .dataframe thead th {\n",
       "        text-align: right;\n",
       "    }\n",
       "</style>\n",
       "<table border=\"1\" class=\"dataframe\">\n",
       "  <thead>\n",
       "    <tr style=\"text-align: right;\">\n",
       "      <th></th>\n",
       "      <th>feature</th>\n",
       "      <th>description</th>\n",
       "      <th>translated</th>\n",
       "    </tr>\n",
       "  </thead>\n",
       "  <tbody>\n",
       "    <tr>\n",
       "      <th>0</th>\n",
       "      <td>conflicts</td>\n",
       "      <td>Number of conflicts</td>\n",
       "      <td>False</td>\n",
       "    </tr>\n",
       "    <tr>\n",
       "      <th>1</th>\n",
       "      <td>decisions</td>\n",
       "      <td>Number of decisions made/nodes</td>\n",
       "      <td>False</td>\n",
       "    </tr>\n",
       "    <tr>\n",
       "      <th>2</th>\n",
       "      <td>search_iterations</td>\n",
       "      <td>Number of search iterations completed</td>\n",
       "      <td>False</td>\n",
       "    </tr>\n",
       "    <tr>\n",
       "      <th>3</th>\n",
       "      <td>opennodes</td>\n",
       "      <td>??? (number of assigned nodes or variables)</td>\n",
       "      <td>False</td>\n",
       "    </tr>\n",
       "    <tr>\n",
       "      <th>4</th>\n",
       "      <td>vars</td>\n",
       "      <td>Number of variables</td>\n",
       "      <td>False</td>\n",
       "    </tr>\n",
       "    <tr>\n",
       "      <th>5</th>\n",
       "      <td>back_jumps</td>\n",
       "      <td>Number of backjumps</td>\n",
       "      <td>False</td>\n",
       "    </tr>\n",
       "    <tr>\n",
       "      <th>6</th>\n",
       "      <td>solutions</td>\n",
       "      <td>Number of solutions found</td>\n",
       "      <td>False</td>\n",
       "    </tr>\n",
       "    <tr>\n",
       "      <th>7</th>\n",
       "      <td>total_time</td>\n",
       "      <td>Total time spent</td>\n",
       "      <td>False</td>\n",
       "    </tr>\n",
       "    <tr>\n",
       "      <th>8</th>\n",
       "      <td>search_time</td>\n",
       "      <td>Time spent searching</td>\n",
       "      <td>False</td>\n",
       "    </tr>\n",
       "    <tr>\n",
       "      <th>9</th>\n",
       "      <td>intVars</td>\n",
       "      <td>Number of integer variables</td>\n",
       "      <td>False</td>\n",
       "    </tr>\n",
       "    <tr>\n",
       "      <th>10</th>\n",
       "      <td>propagations</td>\n",
       "      <td>Number of propagations</td>\n",
       "      <td>False</td>\n",
       "    </tr>\n",
       "    <tr>\n",
       "      <th>11</th>\n",
       "      <td>sat_propagations</td>\n",
       "      <td>Number of SAT propagations</td>\n",
       "      <td>False</td>\n",
       "    </tr>\n",
       "    <tr>\n",
       "      <th>12</th>\n",
       "      <td>propagators</td>\n",
       "      <td>Number of propagators</td>\n",
       "      <td>False</td>\n",
       "    </tr>\n",
       "    <tr>\n",
       "      <th>13</th>\n",
       "      <td>boolVars</td>\n",
       "      <td>Number of boolean variables</td>\n",
       "      <td>False</td>\n",
       "    </tr>\n",
       "    <tr>\n",
       "      <th>14</th>\n",
       "      <td>learnt</td>\n",
       "      <td>Number of learnt clauses</td>\n",
       "      <td>False</td>\n",
       "    </tr>\n",
       "    <tr>\n",
       "      <th>15</th>\n",
       "      <td>bin</td>\n",
       "      <td>Number of binary clauses</td>\n",
       "      <td>False</td>\n",
       "    </tr>\n",
       "    <tr>\n",
       "      <th>16</th>\n",
       "      <td>tern</td>\n",
       "      <td>Number of ternary clauses</td>\n",
       "      <td>False</td>\n",
       "    </tr>\n",
       "    <tr>\n",
       "      <th>17</th>\n",
       "      <td>long</td>\n",
       "      <td>Number of clauses longer than 3</td>\n",
       "      <td>False</td>\n",
       "    </tr>\n",
       "    <tr>\n",
       "      <th>18</th>\n",
       "      <td>peak_depth</td>\n",
       "      <td>The maximum decision level reached</td>\n",
       "      <td>False</td>\n",
       "    </tr>\n",
       "    <tr>\n",
       "      <th>19</th>\n",
       "      <td>decision_level_engine</td>\n",
       "      <td>Current decision level of the engine</td>\n",
       "      <td>False</td>\n",
       "    </tr>\n",
       "    <tr>\n",
       "      <th>20</th>\n",
       "      <td>decision_level_treesize</td>\n",
       "      <td>Size of the tree of the decision level</td>\n",
       "      <td>False</td>\n",
       "    </tr>\n",
       "    <tr>\n",
       "      <th>21</th>\n",
       "      <td>clause_mem</td>\n",
       "      <td>Amount of memory used by clauses</td>\n",
       "      <td>False</td>\n",
       "    </tr>\n",
       "    <tr>\n",
       "      <th>22</th>\n",
       "      <td>prop_mem</td>\n",
       "      <td>Amount of memory used by propagators</td>\n",
       "      <td>False</td>\n",
       "    </tr>\n",
       "    <tr>\n",
       "      <th>23</th>\n",
       "      <td>fracFailUnassn</td>\n",
       "      <td>Ratio of failures/conflicts to unassigned vari...</td>\n",
       "      <td>True</td>\n",
       "    </tr>\n",
       "    <tr>\n",
       "      <th>24</th>\n",
       "      <td>fracOpenVisit</td>\n",
       "      <td>Ratio of visited nodes to open nodes</td>\n",
       "      <td>True</td>\n",
       "    </tr>\n",
       "    <tr>\n",
       "      <th>25</th>\n",
       "      <td>fracBoolVars</td>\n",
       "      <td>Fraction of variables that are boolean</td>\n",
       "      <td>False</td>\n",
       "    </tr>\n",
       "    <tr>\n",
       "      <th>26</th>\n",
       "      <td>fracPropVars</td>\n",
       "      <td>Ratio of propagations to variables</td>\n",
       "      <td>False</td>\n",
       "    </tr>\n",
       "    <tr>\n",
       "      <th>27</th>\n",
       "      <td>fracLongClauses</td>\n",
       "      <td>Fraction of clauses that are longer than 3</td>\n",
       "      <td>False</td>\n",
       "    </tr>\n",
       "    <tr>\n",
       "      <th>28</th>\n",
       "      <td>freqBackjumps</td>\n",
       "      <td>How often the engine backtracks (backjumps / t...</td>\n",
       "      <td>True</td>\n",
       "    </tr>\n",
       "  </tbody>\n",
       "</table>\n",
       "</div>"
      ],
      "text/plain": [
       "                    feature  \\\n",
       "0                 conflicts   \n",
       "1                 decisions   \n",
       "2         search_iterations   \n",
       "3                 opennodes   \n",
       "4                      vars   \n",
       "5                back_jumps   \n",
       "6                 solutions   \n",
       "7                total_time   \n",
       "8               search_time   \n",
       "9                   intVars   \n",
       "10             propagations   \n",
       "11         sat_propagations   \n",
       "12              propagators   \n",
       "13                 boolVars   \n",
       "14                   learnt   \n",
       "15                      bin   \n",
       "16                     tern   \n",
       "17                     long   \n",
       "18               peak_depth   \n",
       "19    decision_level_engine   \n",
       "20  decision_level_treesize   \n",
       "21               clause_mem   \n",
       "22                 prop_mem   \n",
       "23           fracFailUnassn   \n",
       "24            fracOpenVisit   \n",
       "25             fracBoolVars   \n",
       "26             fracPropVars   \n",
       "27          fracLongClauses   \n",
       "28            freqBackjumps   \n",
       "\n",
       "                                          description  translated  \n",
       "0                                 Number of conflicts       False  \n",
       "1                      Number of decisions made/nodes       False  \n",
       "2               Number of search iterations completed       False  \n",
       "3         ??? (number of assigned nodes or variables)       False  \n",
       "4                                 Number of variables       False  \n",
       "5                                 Number of backjumps       False  \n",
       "6                           Number of solutions found       False  \n",
       "7                                    Total time spent       False  \n",
       "8                                Time spent searching       False  \n",
       "9                         Number of integer variables       False  \n",
       "10                             Number of propagations       False  \n",
       "11                         Number of SAT propagations       False  \n",
       "12                              Number of propagators       False  \n",
       "13                        Number of boolean variables       False  \n",
       "14                           Number of learnt clauses       False  \n",
       "15                           Number of binary clauses       False  \n",
       "16                          Number of ternary clauses       False  \n",
       "17                    Number of clauses longer than 3       False  \n",
       "18                 The maximum decision level reached       False  \n",
       "19               Current decision level of the engine       False  \n",
       "20             Size of the tree of the decision level       False  \n",
       "21                   Amount of memory used by clauses       False  \n",
       "22               Amount of memory used by propagators       False  \n",
       "23  Ratio of failures/conflicts to unassigned vari...        True  \n",
       "24               Ratio of visited nodes to open nodes        True  \n",
       "25             Fraction of variables that are boolean       False  \n",
       "26                 Ratio of propagations to variables       False  \n",
       "27         Fraction of clauses that are longer than 3       False  \n",
       "28  How often the engine backtracks (backjumps / t...        True  "
      ]
     },
     "execution_count": 378,
     "metadata": {},
     "output_type": "execute_result"
    }
   ],
   "source": [
    "describe_features = pd.DataFrame({'feature': preprocess(train_features_at_percentage[1])[0].drop(['mzn', 'solved_within_time_limit'], axis=1).columns})\n",
    "describe_features['description'] = [\n",
    "    \"Number of conflicts\",\n",
    "    \"Number of decisions made/nodes\",\n",
    "    \"Number of search iterations completed\",\n",
    "    \"??? (number of assigned nodes or variables)\",\n",
    "    \"Number of variables\",\n",
    "    \"Number of backjumps\",\n",
    "    \"Number of solutions found\",\n",
    "    \"Total time spent\",\n",
    "    \"Time spent searching\",\n",
    "    \"Number of integer variables\",\n",
    "    \"Number of propagations\",\n",
    "    \"Number of SAT propagations\",\n",
    "    \"Number of propagators\",\n",
    "    \"Number of boolean variables\",\n",
    "    \"Number of learnt clauses\",\n",
    "    \"Number of binary clauses\",\n",
    "    \"Number of ternary clauses\",\n",
    "    \"Number of clauses longer than 3\",\n",
    "    \"The maximum decision level reached\",\n",
    "    \"Current decision level of the engine\",\n",
    "    \"Size of the tree of the decision level\",\n",
    "    \"Amount of memory used by clauses\",\n",
    "    \"Amount of memory used by propagators\",\n",
    "    \"Ratio of failures/conflicts to unassigned variables\",\n",
    "    \"Ratio of visited nodes to open nodes\",\n",
    "    \"Fraction of variables that are boolean\",\n",
    "    \"Ratio of propagations to variables\",\n",
    "    \"Fraction of clauses that are longer than 3\",\n",
    "    \"How often the engine backtracks (backjumps / total search time)\",\n",
    "]\n",
    "describe_features['translated'] = [\n",
    "    False, False, False, False, False, False, False, False, False, False, False, False, False, False, False, False, False, False, False, False, False, False, False, True, True, False, False, False, True\n",
    "]\n",
    "describe_features"
   ]
  },
  {
   "cell_type": "code",
   "execution_count": 370,
   "metadata": {},
   "outputs": [
    {
     "data": {
      "text/plain": [
       "Index(['Feature', 'Description'], dtype='object')"
      ]
     },
     "execution_count": 370,
     "metadata": {},
     "output_type": "execute_result"
    }
   ],
   "source": [
    "describe_features.columns.str.capitalize()"
   ]
  },
  {
   "cell_type": "code",
   "execution_count": 341,
   "metadata": {},
   "outputs": [
    {
     "name": "stdout",
     "output_type": "stream",
     "text": [
      "Testing ET at 5%\n",
      "F1 score for ET at 5%: 0.85\n",
      "Testing RF at 5%\n",
      "F1 score for RF at 5%: 0.87\n",
      "Testing Dum at 5%\n",
      "F1 score for Dum at 5%: 0.44\n",
      "Testing ET at 10%\n",
      "F1 score for ET at 10%: 0.70\n",
      "Testing RF at 10%\n",
      "F1 score for RF at 10%: 0.71\n",
      "Testing Dum at 10%\n",
      "F1 score for Dum at 10%: 0.28\n",
      "Testing ET at 15%\n",
      "F1 score for ET at 15%: 0.68\n",
      "Testing RF at 15%\n",
      "F1 score for RF at 15%: 0.76\n",
      "Testing Dum at 15%\n",
      "F1 score for Dum at 15%: 0.14\n",
      "Testing ET at 20%\n",
      "F1 score for ET at 20%: 0.74\n",
      "Testing RF at 20%\n",
      "F1 score for RF at 20%: 0.72\n",
      "Testing Dum at 20%\n",
      "F1 score for Dum at 20%: 0.22\n"
     ]
    },
    {
     "data": {
      "image/png": "[encoded data removed]",
      "text/plain": [
       "<Figure size 800x800 with 4 Axes>"
      ]
     },
     "metadata": {},
     "output_type": "display_data"
    }
   ],
   "source": [
    "test_pickle = Path('./analysis/rerun_with_all_features_test.pkl')\n",
    "\n",
    "with open(test_pickle, 'rb') as f:\n",
    "    test_features_at_percentage = pickle.load(f)\n",
    "\n",
    "for perc in test_features_at_percentage:\n",
    "    test_features_at_percentage[perc] = test_features_at_percentage[perc]\n",
    "\n",
    "plots = {}\n",
    "# Create a figure and axes with 4 subplots\n",
    "fig, ax = plt.subplots(2, 2, figsize=(8, 8))\n",
    "ax = ax.flatten()\n",
    "\n",
    "scores = []\n",
    "\n",
    "for i, percentage in enumerate([5, 10, 15, 20]):\n",
    "    for model in ['ET', 'RF', 'Dum']:\n",
    "        print(f\"Testing {model} at {percentage}%\")\n",
    "        scaler = scalers[(percentage, model)]\n",
    "        df, _ = preprocess(test_features_at_percentage[percentage], scaler)\n",
    "        df = df.drop(columns=['mzn'], axis=1)\n",
    "        \n",
    "        test_X, test_y = df.drop(columns=['solved_within_time_limit']), df['solved_within_time_limit']\n",
    "        \n",
    "        y_score = classifiers[(percentage, model)].predict_proba(test_X)[:, 1]\n",
    "        if model != 'Dum':\n",
    "            plots[(percentage, model)] = RocCurveDisplay.from_predictions(test_y, y_score, ax=ax[i], name=model)\n",
    "        \n",
    "            if percentage in [5, 10]:\n",
    "                ax[i].set_xlabel('')\n",
    "            if percentage in [10, 20]:\n",
    "                ax[i].set_ylabel('')\n",
    "\n",
    "        score = f1_score(test_y, classifiers[(percentage, model)].predict(test_X))\n",
    "        scores.append([percentage, model, score])\n",
    "        print(f\"F1 score for {model} at {percentage}%: {score:.2f}\")\n",
    "\n",
    "    ax[i].set_title(f\"{percentage}%\")\n",
    "    ax[i].plot([0, 1], [0, 1], linestyle='--', lw=1, color='r', alpha=.2)\n",
    "\n",
    "tikzplotlib.clean_figure()\n",
    "tikzplotlib.save(\"roc_curves.tex\", axis_width=\"0.55\\\\textwidth\", axis_height=\"0.55\\\\textwidth\")"
   ]
  },
  {
   "cell_type": "code",
   "execution_count": 464,
   "metadata": {},
   "outputs": [
    {
     "data": {
      "text/html": [
       "<div>\n",
       "<style scoped>\n",
       "    .dataframe tbody tr th:only-of-type {\n",
       "        vertical-align: middle;\n",
       "    }\n",
       "\n",
       "    .dataframe tbody tr th {\n",
       "        vertical-align: top;\n",
       "    }\n",
       "\n",
       "    .dataframe thead th {\n",
       "        text-align: right;\n",
       "    }\n",
       "</style>\n",
       "<table border=\"1\" class=\"dataframe\">\n",
       "  <thead>\n",
       "    <tr style=\"text-align: right;\">\n",
       "      <th></th>\n",
       "      <th>back_jumps</th>\n",
       "      <th>tern</th>\n",
       "      <th>learnt</th>\n",
       "      <th>clause_mem</th>\n",
       "      <th>search_time</th>\n",
       "      <th>long</th>\n",
       "      <th>fracFailUnassn</th>\n",
       "    </tr>\n",
       "  </thead>\n",
       "  <tbody>\n",
       "    <tr>\n",
       "      <th>5</th>\n",
       "      <td>0.023296</td>\n",
       "      <td>0.021577</td>\n",
       "      <td>0.019833</td>\n",
       "      <td>0.017908</td>\n",
       "      <td>0.016736</td>\n",
       "      <td>0.008802</td>\n",
       "      <td>0.0</td>\n",
       "    </tr>\n",
       "    <tr>\n",
       "      <th>10</th>\n",
       "      <td>0.025630</td>\n",
       "      <td>0.021134</td>\n",
       "      <td>0.021298</td>\n",
       "      <td>0.016438</td>\n",
       "      <td>0.020208</td>\n",
       "      <td>0.007851</td>\n",
       "      <td>0.0</td>\n",
       "    </tr>\n",
       "    <tr>\n",
       "      <th>15</th>\n",
       "      <td>0.024846</td>\n",
       "      <td>0.020318</td>\n",
       "      <td>0.021695</td>\n",
       "      <td>0.014496</td>\n",
       "      <td>0.019480</td>\n",
       "      <td>0.007308</td>\n",
       "      <td>0.0</td>\n",
       "    </tr>\n",
       "    <tr>\n",
       "      <th>20</th>\n",
       "      <td>0.019441</td>\n",
       "      <td>0.022527</td>\n",
       "      <td>0.021594</td>\n",
       "      <td>0.011284</td>\n",
       "      <td>0.018622</td>\n",
       "      <td>0.007265</td>\n",
       "      <td>0.0</td>\n",
       "    </tr>\n",
       "  </tbody>\n",
       "</table>\n",
       "</div>"
      ],
      "text/plain": [
       "    back_jumps      tern    learnt  clause_mem  search_time      long  \\\n",
       "5     0.023296  0.021577  0.019833    0.017908     0.016736  0.008802   \n",
       "10    0.025630  0.021134  0.021298    0.016438     0.020208  0.007851   \n",
       "15    0.024846  0.020318  0.021695    0.014496     0.019480  0.007308   \n",
       "20    0.019441  0.022527  0.021594    0.011284     0.018622  0.007265   \n",
       "\n",
       "    fracFailUnassn  \n",
       "5              0.0  \n",
       "10             0.0  \n",
       "15             0.0  \n",
       "20             0.0  "
      ]
     },
     "execution_count": 464,
     "metadata": {},
     "output_type": "execute_result"
    }
   ],
   "source": [
    "def get_importances(percentage, model, classifiers):\n",
    "    model = classifiers[(percentage, model)]\n",
    "    return pd.Series(model.feature_importances_, index=model.feature_names_in_).sort_values(ascending=False).tail(10)\n",
    "\n",
    "rf_importances = pd.DataFrame([get_importances(x, c, classifiers) for x in [5, 10, 15, 20] for c in ['RF']], index=[5, 10, 15, 20])\n",
    "et_importances = pd.DataFrame([get_importances(x, c, classifiers) for x in [5, 10, 15, 20] for c in ['ET']], index=[5, 10, 15, 20])\n",
    "rf_importances.dropna(axis=1, how='any')"
   ]
  },
  {
   "cell_type": "code",
   "execution_count": 342,
   "metadata": {},
   "outputs": [
    {
     "data": {
      "text/html": [
       "<style type=\"text/css\">\n",
       "#T_69f77_row0_col2, #T_69f77_row1_col2, #T_69f77_row2_col2, #T_69f77_row3_col1 {\n",
       "  font-weight: bold;\n",
       "}\n",
       "</style>\n",
       "<table id=\"T_69f77\">\n",
       "  <thead>\n",
       "    <tr>\n",
       "      <th class=\"blank level0\" >&nbsp;</th>\n",
       "      <th id=\"T_69f77_level0_col0\" class=\"col_heading level0 col0\" colspan=\"3\">F1 score</th>\n",
       "    </tr>\n",
       "    <tr>\n",
       "      <th class=\"index_name level1\" >Model</th>\n",
       "      <th id=\"T_69f77_level1_col0\" class=\"col_heading level1 col0\" >Dum</th>\n",
       "      <th id=\"T_69f77_level1_col1\" class=\"col_heading level1 col1\" >ET</th>\n",
       "      <th id=\"T_69f77_level1_col2\" class=\"col_heading level1 col2\" >RF</th>\n",
       "    </tr>\n",
       "    <tr>\n",
       "      <th class=\"index_name level0\" >Percentage</th>\n",
       "      <th class=\"blank col0\" >&nbsp;</th>\n",
       "      <th class=\"blank col1\" >&nbsp;</th>\n",
       "      <th class=\"blank col2\" >&nbsp;</th>\n",
       "    </tr>\n",
       "  </thead>\n",
       "  <tbody>\n",
       "    <tr>\n",
       "      <th id=\"T_69f77_level0_row0\" class=\"row_heading level0 row0\" >5%</th>\n",
       "      <td id=\"T_69f77_row0_col0\" class=\"data row0 col0\" >0.444444</td>\n",
       "      <td id=\"T_69f77_row0_col1\" class=\"data row0 col1\" >0.853659</td>\n",
       "      <td id=\"T_69f77_row0_col2\" class=\"data row0 col2\" >0.867470</td>\n",
       "    </tr>\n",
       "    <tr>\n",
       "      <th id=\"T_69f77_level0_row1\" class=\"row_heading level0 row1\" >10%</th>\n",
       "      <td id=\"T_69f77_row1_col0\" class=\"data row1 col0\" >0.280702</td>\n",
       "      <td id=\"T_69f77_row1_col1\" class=\"data row1 col1\" >0.703704</td>\n",
       "      <td id=\"T_69f77_row1_col2\" class=\"data row1 col2\" >0.705882</td>\n",
       "    </tr>\n",
       "    <tr>\n",
       "      <th id=\"T_69f77_level0_row2\" class=\"row_heading level0 row2\" >15%</th>\n",
       "      <td id=\"T_69f77_row2_col0\" class=\"data row2 col0\" >0.136364</td>\n",
       "      <td id=\"T_69f77_row2_col1\" class=\"data row2 col1\" >0.681818</td>\n",
       "      <td id=\"T_69f77_row2_col2\" class=\"data row2 col2\" >0.755556</td>\n",
       "    </tr>\n",
       "    <tr>\n",
       "      <th id=\"T_69f77_level0_row3\" class=\"row_heading level0 row3\" >20%</th>\n",
       "      <td id=\"T_69f77_row3_col0\" class=\"data row3 col0\" >0.216216</td>\n",
       "      <td id=\"T_69f77_row3_col1\" class=\"data row3 col1\" >0.742857</td>\n",
       "      <td id=\"T_69f77_row3_col2\" class=\"data row3 col2\" >0.722222</td>\n",
       "    </tr>\n",
       "  </tbody>\n",
       "</table>\n"
      ],
      "text/plain": [
       "<pandas.io.formats.style.Styler at 0x15b273b80>"
      ]
     },
     "execution_count": 342,
     "metadata": {},
     "output_type": "execute_result"
    }
   ],
   "source": [
    "score_df = pd.DataFrame(scores, columns=['Percentage', 'Model', 'F1 score'])#.set_index(['Percentage', 'Model']).unstack()\n",
    "score_df = score_df.set_index(['Percentage', 'Model']).unstack()\n",
    "score_df.index = score_df.index.astype(str)+\"%\"\n",
    "score_df.style.highlight_max(axis=1, props=\"font-weight:bold;\")"
   ]
  },
  {
   "cell_type": "code",
   "execution_count": 324,
   "metadata": {},
   "outputs": [],
   "source": [
    "(score_df.round(3)\n",
    "    .style.format_index(escape='latex')\n",
    "    .format(precision=2)\n",
    "    .highlight_max(axis=1, props=\"textbf:--rwrap;\")\n",
    "    .to_latex(\n",
    "        \"f1-table.tex\",\n",
    "        hrules=True,\n",
    "        multicol_align='c',\n",
    "        caption=\"F1 scores for each model at selected \\% of TL.\",\n",
    "        label=\"tab:f1-scores\",\n",
    "        position_float=\"centering\")\n",
    ")"
   ]
  },
  {
   "cell_type": "code",
   "execution_count": 37,
   "metadata": {},
   "outputs": [
    {
     "data": {
      "image/png": "[encoded data removed]",
      "text/plain": [
       "<Figure size 800x300 with 1 Axes>"
      ]
     },
     "metadata": {},
     "output_type": "display_data"
    }
   ],
   "source": [
    "n_total = np.array([train_features_at_percentage[i].shape[0] for i in range(1, len(train_features_at_percentage) + 1)])\n",
    "n_solved = np.array([train_features_at_percentage[i]['solved_within_time_limit'].sum() for i in range(1, len(train_features_at_percentage) + 1)])\n",
    "n_not_solved = np.array([n_total[i] - n_solved[i] for i in range(len(n_total))])\n",
    "percentage_solved = np.array([n_solved[i] / n_total[i] for i in range(len(n_total))]) * 100\n",
    "\n",
    "x = np.arange(1, 20.5, 0.5)\n",
    "\n",
    "fig, ax = plt.subplots(figsize=(8, 3))\n",
    "stacks = ax.stackplot(x, n_not_solved, n_solved, labels=['Not solved', 'Solved'])\n",
    "ax.set_title(\"Number of instances at varying % of TL\")\n",
    "ax.set_xlabel(\"% of TL\")\n",
    "ax.set_ylabel(\"Total Number of instances\")\n",
    "ax.set_ylim([0, 1400])\n",
    "ax.legend(loc='upper right', bbox_to_anchor=(0.98, 0.98))\n",
    "\n",
    "# fig.legend(loc='upper right', bbox_to_anchor=(0.88, 0.88))\n",
    "# fig.tight_layout()\n",
    "# plt.savefig(\"class_balance_over_time.pgf\", backend=\"pgf\")\n",
    "# tikzplotlib.clean_figure()\n",
    "tikzplotlib.save(\"class_balance_over_time.tex\", axis_width=\"0.9\\\\textwidth\", axis_height=\"0.4\\\\textwidth\")"
   ]
  }
 ],
 "metadata": {
  "kernelspec": {
   "display_name": "Python 3",
   "language": "python",
   "name": "python3"
  },
  "language_info": {
   "codemirror_mode": {
    "name": "ipython",
    "version": 3
   },
   "file_extension": ".py",
   "mimetype": "text/x-python",
   "name": "python",
   "nbconvert_exporter": "python",
   "pygments_lexer": "ipython3",
   "version": "3.10.12"
  }
 },
 "nbformat": 4,
 "nbformat_minor": 2
}
