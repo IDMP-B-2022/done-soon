{
 "cells": [
  {
   "cell_type": "code",
   "execution_count": 84,
   "metadata": {},
   "outputs": [],
   "source": [
    "import json\n",
    "from pathlib import Path\n",
    "import matplotlib as mpl\n",
    "import tikzplotlib\n",
    "\n",
    "import matplotlib.pyplot as plt\n",
    "import numpy as np\n",
    "import pandas as pd\n",
    "from rich.progress import track\n",
    "from sklearn.ensemble import ExtraTreesClassifier, RandomForestClassifier\n",
    "from sklearn.metrics import RocCurveDisplay, f1_score\n",
    "from sklearn.preprocessing import MaxAbsScaler"
   ]
  },
  {
   "cell_type": "code",
   "execution_count": 89,
   "metadata": {},
   "outputs": [
    {
     "data": {
      "application/vnd.jupyter.widget-view+json": {
       "model_id": "1c4911b999604136ba27337f853f7e35",
       "version_major": 2,
       "version_minor": 0
      },
      "text/plain": [
       "Output()"
      ]
     },
     "metadata": {},
     "output_type": "display_data"
    },
    {
     "data": {
      "text/html": [
       "<pre style=\"white-space:pre;overflow-x:auto;line-height:normal;font-family:Menlo,'DejaVu Sans Mono',consolas,'Courier New',monospace\">/var/folders/7t/k8q3439j6z3c683j7w00wtm80000gn/T/ipykernel_58430/330735155.py:26: FutureWarning: The behavior of \n",
       "DataFrame concatenation with empty or all-NA entries is deprecated. In a future version, this will no longer \n",
       "exclude empty or all-NA columns when determining the result dtypes. To retain the old behavior, exclude the \n",
       "relevant entries before the concat operation.\n",
       "  results = pd.concat([results, normalized_data]) #.dropna(axis=1, how=\"all\")])\n",
       "</pre>\n"
      ],
      "text/plain": [
       "/var/folders/7t/k8q3439j6z3c683j7w00wtm80000gn/T/ipykernel_58430/330735155.py:26: FutureWarning: The behavior of \n",
       "DataFrame concatenation with empty or all-NA entries is deprecated. In a future version, this will no longer \n",
       "exclude empty or all-NA columns when determining the result dtypes. To retain the old behavior, exclude the \n",
       "relevant entries before the concat operation.\n",
       "  results = pd.concat([results, normalized_data]) #.dropna(axis=1, how=\"all\")])\n"
      ]
     },
     "metadata": {},
     "output_type": "display_data"
    },
    {
     "data": {
      "text/html": [
       "<pre style=\"white-space:pre;overflow-x:auto;line-height:normal;font-family:Menlo,'DejaVu Sans Mono',consolas,'Courier New',monospace\">/var/folders/7t/k8q3439j6z3c683j7w00wtm80000gn/T/ipykernel_58430/330735155.py:26: FutureWarning: The behavior of \n",
       "DataFrame concatenation with empty or all-NA entries is deprecated. In a future version, this will no longer \n",
       "exclude empty or all-NA columns when determining the result dtypes. To retain the old behavior, exclude the \n",
       "relevant entries before the concat operation.\n",
       "  results = pd.concat([results, normalized_data]) #.dropna(axis=1, how=\"all\")])\n",
       "</pre>\n"
      ],
      "text/plain": [
       "/var/folders/7t/k8q3439j6z3c683j7w00wtm80000gn/T/ipykernel_58430/330735155.py:26: FutureWarning: The behavior of \n",
       "DataFrame concatenation with empty or all-NA entries is deprecated. In a future version, this will no longer \n",
       "exclude empty or all-NA columns when determining the result dtypes. To retain the old behavior, exclude the \n",
       "relevant entries before the concat operation.\n",
       "  results = pd.concat([results, normalized_data]) #.dropna(axis=1, how=\"all\")])\n"
      ]
     },
     "metadata": {},
     "output_type": "display_data"
    },
    {
     "data": {
      "text/html": [
       "<pre style=\"white-space:pre;overflow-x:auto;line-height:normal;font-family:Menlo,'DejaVu Sans Mono',consolas,'Courier New',monospace\">/var/folders/7t/k8q3439j6z3c683j7w00wtm80000gn/T/ipykernel_58430/330735155.py:26: FutureWarning: The behavior of \n",
       "DataFrame concatenation with empty or all-NA entries is deprecated. In a future version, this will no longer \n",
       "exclude empty or all-NA columns when determining the result dtypes. To retain the old behavior, exclude the \n",
       "relevant entries before the concat operation.\n",
       "  results = pd.concat([results, normalized_data]) #.dropna(axis=1, how=\"all\")])\n",
       "</pre>\n"
      ],
      "text/plain": [
       "/var/folders/7t/k8q3439j6z3c683j7w00wtm80000gn/T/ipykernel_58430/330735155.py:26: FutureWarning: The behavior of \n",
       "DataFrame concatenation with empty or all-NA entries is deprecated. In a future version, this will no longer \n",
       "exclude empty or all-NA columns when determining the result dtypes. To retain the old behavior, exclude the \n",
       "relevant entries before the concat operation.\n",
       "  results = pd.concat([results, normalized_data]) #.dropna(axis=1, how=\"all\")])\n"
      ]
     },
     "metadata": {},
     "output_type": "display_data"
    },
    {
     "data": {
      "text/html": [
       "<pre style=\"white-space:pre;overflow-x:auto;line-height:normal;font-family:Menlo,'DejaVu Sans Mono',consolas,'Courier New',monospace\">/var/folders/7t/k8q3439j6z3c683j7w00wtm80000gn/T/ipykernel_58430/330735155.py:26: FutureWarning: The behavior of \n",
       "DataFrame concatenation with empty or all-NA entries is deprecated. In a future version, this will no longer \n",
       "exclude empty or all-NA columns when determining the result dtypes. To retain the old behavior, exclude the \n",
       "relevant entries before the concat operation.\n",
       "  results = pd.concat([results, normalized_data]) #.dropna(axis=1, how=\"all\")])\n",
       "</pre>\n"
      ],
      "text/plain": [
       "/var/folders/7t/k8q3439j6z3c683j7w00wtm80000gn/T/ipykernel_58430/330735155.py:26: FutureWarning: The behavior of \n",
       "DataFrame concatenation with empty or all-NA entries is deprecated. In a future version, this will no longer \n",
       "exclude empty or all-NA columns when determining the result dtypes. To retain the old behavior, exclude the \n",
       "relevant entries before the concat operation.\n",
       "  results = pd.concat([results, normalized_data]) #.dropna(axis=1, how=\"all\")])\n"
      ]
     },
     "metadata": {},
     "output_type": "display_data"
    },
    {
     "data": {
      "text/html": [
       "<pre style=\"white-space:pre;overflow-x:auto;line-height:normal;font-family:Menlo,'DejaVu Sans Mono',consolas,'Courier New',monospace\">/var/folders/7t/k8q3439j6z3c683j7w00wtm80000gn/T/ipykernel_58430/330735155.py:26: FutureWarning: The behavior of \n",
       "DataFrame concatenation with empty or all-NA entries is deprecated. In a future version, this will no longer \n",
       "exclude empty or all-NA columns when determining the result dtypes. To retain the old behavior, exclude the \n",
       "relevant entries before the concat operation.\n",
       "  results = pd.concat([results, normalized_data]) #.dropna(axis=1, how=\"all\")])\n",
       "</pre>\n"
      ],
      "text/plain": [
       "/var/folders/7t/k8q3439j6z3c683j7w00wtm80000gn/T/ipykernel_58430/330735155.py:26: FutureWarning: The behavior of \n",
       "DataFrame concatenation with empty or all-NA entries is deprecated. In a future version, this will no longer \n",
       "exclude empty or all-NA columns when determining the result dtypes. To retain the old behavior, exclude the \n",
       "relevant entries before the concat operation.\n",
       "  results = pd.concat([results, normalized_data]) #.dropna(axis=1, how=\"all\")])\n"
      ]
     },
     "metadata": {},
     "output_type": "display_data"
    },
    {
     "data": {
      "text/html": [
       "<pre style=\"white-space:pre;overflow-x:auto;line-height:normal;font-family:Menlo,'DejaVu Sans Mono',consolas,'Courier New',monospace\">/var/folders/7t/k8q3439j6z3c683j7w00wtm80000gn/T/ipykernel_58430/330735155.py:26: FutureWarning: The behavior of \n",
       "DataFrame concatenation with empty or all-NA entries is deprecated. In a future version, this will no longer \n",
       "exclude empty or all-NA columns when determining the result dtypes. To retain the old behavior, exclude the \n",
       "relevant entries before the concat operation.\n",
       "  results = pd.concat([results, normalized_data]) #.dropna(axis=1, how=\"all\")])\n",
       "</pre>\n"
      ],
      "text/plain": [
       "/var/folders/7t/k8q3439j6z3c683j7w00wtm80000gn/T/ipykernel_58430/330735155.py:26: FutureWarning: The behavior of \n",
       "DataFrame concatenation with empty or all-NA entries is deprecated. In a future version, this will no longer \n",
       "exclude empty or all-NA columns when determining the result dtypes. To retain the old behavior, exclude the \n",
       "relevant entries before the concat operation.\n",
       "  results = pd.concat([results, normalized_data]) #.dropna(axis=1, how=\"all\")])\n"
      ]
     },
     "metadata": {},
     "output_type": "display_data"
    },
    {
     "data": {
      "text/html": [
       "<pre style=\"white-space:pre;overflow-x:auto;line-height:normal;font-family:Menlo,'DejaVu Sans Mono',consolas,'Courier New',monospace\">/var/folders/7t/k8q3439j6z3c683j7w00wtm80000gn/T/ipykernel_58430/330735155.py:26: FutureWarning: The behavior of \n",
       "DataFrame concatenation with empty or all-NA entries is deprecated. In a future version, this will no longer \n",
       "exclude empty or all-NA columns when determining the result dtypes. To retain the old behavior, exclude the \n",
       "relevant entries before the concat operation.\n",
       "  results = pd.concat([results, normalized_data]) #.dropna(axis=1, how=\"all\")])\n",
       "</pre>\n"
      ],
      "text/plain": [
       "/var/folders/7t/k8q3439j6z3c683j7w00wtm80000gn/T/ipykernel_58430/330735155.py:26: FutureWarning: The behavior of \n",
       "DataFrame concatenation with empty or all-NA entries is deprecated. In a future version, this will no longer \n",
       "exclude empty or all-NA columns when determining the result dtypes. To retain the old behavior, exclude the \n",
       "relevant entries before the concat operation.\n",
       "  results = pd.concat([results, normalized_data]) #.dropna(axis=1, how=\"all\")])\n"
      ]
     },
     "metadata": {},
     "output_type": "display_data"
    },
    {
     "data": {
      "text/html": [
       "<pre style=\"white-space:pre;overflow-x:auto;line-height:normal;font-family:Menlo,'DejaVu Sans Mono',consolas,'Courier New',monospace\">/var/folders/7t/k8q3439j6z3c683j7w00wtm80000gn/T/ipykernel_58430/330735155.py:26: FutureWarning: The behavior of \n",
       "DataFrame concatenation with empty or all-NA entries is deprecated. In a future version, this will no longer \n",
       "exclude empty or all-NA columns when determining the result dtypes. To retain the old behavior, exclude the \n",
       "relevant entries before the concat operation.\n",
       "  results = pd.concat([results, normalized_data]) #.dropna(axis=1, how=\"all\")])\n",
       "</pre>\n"
      ],
      "text/plain": [
       "/var/folders/7t/k8q3439j6z3c683j7w00wtm80000gn/T/ipykernel_58430/330735155.py:26: FutureWarning: The behavior of \n",
       "DataFrame concatenation with empty or all-NA entries is deprecated. In a future version, this will no longer \n",
       "exclude empty or all-NA columns when determining the result dtypes. To retain the old behavior, exclude the \n",
       "relevant entries before the concat operation.\n",
       "  results = pd.concat([results, normalized_data]) #.dropna(axis=1, how=\"all\")])\n"
      ]
     },
     "metadata": {},
     "output_type": "display_data"
    },
    {
     "data": {
      "text/html": [
       "<pre style=\"white-space:pre;overflow-x:auto;line-height:normal;font-family:Menlo,'DejaVu Sans Mono',consolas,'Courier New',monospace\">/var/folders/7t/k8q3439j6z3c683j7w00wtm80000gn/T/ipykernel_58430/330735155.py:26: FutureWarning: The behavior of \n",
       "DataFrame concatenation with empty or all-NA entries is deprecated. In a future version, this will no longer \n",
       "exclude empty or all-NA columns when determining the result dtypes. To retain the old behavior, exclude the \n",
       "relevant entries before the concat operation.\n",
       "  results = pd.concat([results, normalized_data]) #.dropna(axis=1, how=\"all\")])\n",
       "</pre>\n"
      ],
      "text/plain": [
       "/var/folders/7t/k8q3439j6z3c683j7w00wtm80000gn/T/ipykernel_58430/330735155.py:26: FutureWarning: The behavior of \n",
       "DataFrame concatenation with empty or all-NA entries is deprecated. In a future version, this will no longer \n",
       "exclude empty or all-NA columns when determining the result dtypes. To retain the old behavior, exclude the \n",
       "relevant entries before the concat operation.\n",
       "  results = pd.concat([results, normalized_data]) #.dropna(axis=1, how=\"all\")])\n"
      ]
     },
     "metadata": {},
     "output_type": "display_data"
    },
    {
     "data": {
      "text/html": [
       "<pre style=\"white-space:pre;overflow-x:auto;line-height:normal;font-family:Menlo,'DejaVu Sans Mono',consolas,'Courier New',monospace\">/var/folders/7t/k8q3439j6z3c683j7w00wtm80000gn/T/ipykernel_58430/330735155.py:26: FutureWarning: The behavior of \n",
       "DataFrame concatenation with empty or all-NA entries is deprecated. In a future version, this will no longer \n",
       "exclude empty or all-NA columns when determining the result dtypes. To retain the old behavior, exclude the \n",
       "relevant entries before the concat operation.\n",
       "  results = pd.concat([results, normalized_data]) #.dropna(axis=1, how=\"all\")])\n",
       "</pre>\n"
      ],
      "text/plain": [
       "/var/folders/7t/k8q3439j6z3c683j7w00wtm80000gn/T/ipykernel_58430/330735155.py:26: FutureWarning: The behavior of \n",
       "DataFrame concatenation with empty or all-NA entries is deprecated. In a future version, this will no longer \n",
       "exclude empty or all-NA columns when determining the result dtypes. To retain the old behavior, exclude the \n",
       "relevant entries before the concat operation.\n",
       "  results = pd.concat([results, normalized_data]) #.dropna(axis=1, how=\"all\")])\n"
      ]
     },
     "metadata": {},
     "output_type": "display_data"
    },
    {
     "data": {
      "text/html": [
       "<pre style=\"white-space:pre;overflow-x:auto;line-height:normal;font-family:Menlo,'DejaVu Sans Mono',consolas,'Courier New',monospace\">/var/folders/7t/k8q3439j6z3c683j7w00wtm80000gn/T/ipykernel_58430/330735155.py:26: FutureWarning: The behavior of \n",
       "DataFrame concatenation with empty or all-NA entries is deprecated. In a future version, this will no longer \n",
       "exclude empty or all-NA columns when determining the result dtypes. To retain the old behavior, exclude the \n",
       "relevant entries before the concat operation.\n",
       "  results = pd.concat([results, normalized_data]) #.dropna(axis=1, how=\"all\")])\n",
       "</pre>\n"
      ],
      "text/plain": [
       "/var/folders/7t/k8q3439j6z3c683j7w00wtm80000gn/T/ipykernel_58430/330735155.py:26: FutureWarning: The behavior of \n",
       "DataFrame concatenation with empty or all-NA entries is deprecated. In a future version, this will no longer \n",
       "exclude empty or all-NA columns when determining the result dtypes. To retain the old behavior, exclude the \n",
       "relevant entries before the concat operation.\n",
       "  results = pd.concat([results, normalized_data]) #.dropna(axis=1, how=\"all\")])\n"
      ]
     },
     "metadata": {},
     "output_type": "display_data"
    },
    {
     "data": {
      "text/html": [
       "<pre style=\"white-space:pre;overflow-x:auto;line-height:normal;font-family:Menlo,'DejaVu Sans Mono',consolas,'Courier New',monospace\">/var/folders/7t/k8q3439j6z3c683j7w00wtm80000gn/T/ipykernel_58430/330735155.py:26: FutureWarning: The behavior of \n",
       "DataFrame concatenation with empty or all-NA entries is deprecated. In a future version, this will no longer \n",
       "exclude empty or all-NA columns when determining the result dtypes. To retain the old behavior, exclude the \n",
       "relevant entries before the concat operation.\n",
       "  results = pd.concat([results, normalized_data]) #.dropna(axis=1, how=\"all\")])\n",
       "</pre>\n"
      ],
      "text/plain": [
       "/var/folders/7t/k8q3439j6z3c683j7w00wtm80000gn/T/ipykernel_58430/330735155.py:26: FutureWarning: The behavior of \n",
       "DataFrame concatenation with empty or all-NA entries is deprecated. In a future version, this will no longer \n",
       "exclude empty or all-NA columns when determining the result dtypes. To retain the old behavior, exclude the \n",
       "relevant entries before the concat operation.\n",
       "  results = pd.concat([results, normalized_data]) #.dropna(axis=1, how=\"all\")])\n"
      ]
     },
     "metadata": {},
     "output_type": "display_data"
    },
    {
     "data": {
      "text/html": [
       "<pre style=\"white-space:pre;overflow-x:auto;line-height:normal;font-family:Menlo,'DejaVu Sans Mono',consolas,'Courier New',monospace\">/var/folders/7t/k8q3439j6z3c683j7w00wtm80000gn/T/ipykernel_58430/330735155.py:26: FutureWarning: The behavior of \n",
       "DataFrame concatenation with empty or all-NA entries is deprecated. In a future version, this will no longer \n",
       "exclude empty or all-NA columns when determining the result dtypes. To retain the old behavior, exclude the \n",
       "relevant entries before the concat operation.\n",
       "  results = pd.concat([results, normalized_data]) #.dropna(axis=1, how=\"all\")])\n",
       "</pre>\n"
      ],
      "text/plain": [
       "/var/folders/7t/k8q3439j6z3c683j7w00wtm80000gn/T/ipykernel_58430/330735155.py:26: FutureWarning: The behavior of \n",
       "DataFrame concatenation with empty or all-NA entries is deprecated. In a future version, this will no longer \n",
       "exclude empty or all-NA columns when determining the result dtypes. To retain the old behavior, exclude the \n",
       "relevant entries before the concat operation.\n",
       "  results = pd.concat([results, normalized_data]) #.dropna(axis=1, how=\"all\")])\n"
      ]
     },
     "metadata": {},
     "output_type": "display_data"
    },
    {
     "data": {
      "text/html": [
       "<pre style=\"white-space:pre;overflow-x:auto;line-height:normal;font-family:Menlo,'DejaVu Sans Mono',consolas,'Courier New',monospace\">/var/folders/7t/k8q3439j6z3c683j7w00wtm80000gn/T/ipykernel_58430/330735155.py:26: FutureWarning: The behavior of \n",
       "DataFrame concatenation with empty or all-NA entries is deprecated. In a future version, this will no longer \n",
       "exclude empty or all-NA columns when determining the result dtypes. To retain the old behavior, exclude the \n",
       "relevant entries before the concat operation.\n",
       "  results = pd.concat([results, normalized_data]) #.dropna(axis=1, how=\"all\")])\n",
       "</pre>\n"
      ],
      "text/plain": [
       "/var/folders/7t/k8q3439j6z3c683j7w00wtm80000gn/T/ipykernel_58430/330735155.py:26: FutureWarning: The behavior of \n",
       "DataFrame concatenation with empty or all-NA entries is deprecated. In a future version, this will no longer \n",
       "exclude empty or all-NA columns when determining the result dtypes. To retain the old behavior, exclude the \n",
       "relevant entries before the concat operation.\n",
       "  results = pd.concat([results, normalized_data]) #.dropna(axis=1, how=\"all\")])\n"
      ]
     },
     "metadata": {},
     "output_type": "display_data"
    },
    {
     "data": {
      "text/html": [
       "<pre style=\"white-space:pre;overflow-x:auto;line-height:normal;font-family:Menlo,'DejaVu Sans Mono',consolas,'Courier New',monospace\">/var/folders/7t/k8q3439j6z3c683j7w00wtm80000gn/T/ipykernel_58430/330735155.py:26: FutureWarning: The behavior of \n",
       "DataFrame concatenation with empty or all-NA entries is deprecated. In a future version, this will no longer \n",
       "exclude empty or all-NA columns when determining the result dtypes. To retain the old behavior, exclude the \n",
       "relevant entries before the concat operation.\n",
       "  results = pd.concat([results, normalized_data]) #.dropna(axis=1, how=\"all\")])\n",
       "</pre>\n"
      ],
      "text/plain": [
       "/var/folders/7t/k8q3439j6z3c683j7w00wtm80000gn/T/ipykernel_58430/330735155.py:26: FutureWarning: The behavior of \n",
       "DataFrame concatenation with empty or all-NA entries is deprecated. In a future version, this will no longer \n",
       "exclude empty or all-NA columns when determining the result dtypes. To retain the old behavior, exclude the \n",
       "relevant entries before the concat operation.\n",
       "  results = pd.concat([results, normalized_data]) #.dropna(axis=1, how=\"all\")])\n"
      ]
     },
     "metadata": {},
     "output_type": "display_data"
    },
    {
     "data": {
      "text/html": [
       "<pre style=\"white-space:pre;overflow-x:auto;line-height:normal;font-family:Menlo,'DejaVu Sans Mono',consolas,'Courier New',monospace\">/var/folders/7t/k8q3439j6z3c683j7w00wtm80000gn/T/ipykernel_58430/330735155.py:26: FutureWarning: The behavior of \n",
       "DataFrame concatenation with empty or all-NA entries is deprecated. In a future version, this will no longer \n",
       "exclude empty or all-NA columns when determining the result dtypes. To retain the old behavior, exclude the \n",
       "relevant entries before the concat operation.\n",
       "  results = pd.concat([results, normalized_data]) #.dropna(axis=1, how=\"all\")])\n",
       "</pre>\n"
      ],
      "text/plain": [
       "/var/folders/7t/k8q3439j6z3c683j7w00wtm80000gn/T/ipykernel_58430/330735155.py:26: FutureWarning: The behavior of \n",
       "DataFrame concatenation with empty or all-NA entries is deprecated. In a future version, this will no longer \n",
       "exclude empty or all-NA columns when determining the result dtypes. To retain the old behavior, exclude the \n",
       "relevant entries before the concat operation.\n",
       "  results = pd.concat([results, normalized_data]) #.dropna(axis=1, how=\"all\")])\n"
      ]
     },
     "metadata": {},
     "output_type": "display_data"
    },
    {
     "data": {
      "text/html": [
       "<pre style=\"white-space:pre;overflow-x:auto;line-height:normal;font-family:Menlo,'DejaVu Sans Mono',consolas,'Courier New',monospace\">/var/folders/7t/k8q3439j6z3c683j7w00wtm80000gn/T/ipykernel_58430/330735155.py:26: FutureWarning: The behavior of \n",
       "DataFrame concatenation with empty or all-NA entries is deprecated. In a future version, this will no longer \n",
       "exclude empty or all-NA columns when determining the result dtypes. To retain the old behavior, exclude the \n",
       "relevant entries before the concat operation.\n",
       "  results = pd.concat([results, normalized_data]) #.dropna(axis=1, how=\"all\")])\n",
       "</pre>\n"
      ],
      "text/plain": [
       "/var/folders/7t/k8q3439j6z3c683j7w00wtm80000gn/T/ipykernel_58430/330735155.py:26: FutureWarning: The behavior of \n",
       "DataFrame concatenation with empty or all-NA entries is deprecated. In a future version, this will no longer \n",
       "exclude empty or all-NA columns when determining the result dtypes. To retain the old behavior, exclude the \n",
       "relevant entries before the concat operation.\n",
       "  results = pd.concat([results, normalized_data]) #.dropna(axis=1, how=\"all\")])\n"
      ]
     },
     "metadata": {},
     "output_type": "display_data"
    },
    {
     "data": {
      "text/html": [
       "<pre style=\"white-space:pre;overflow-x:auto;line-height:normal;font-family:Menlo,'DejaVu Sans Mono',consolas,'Courier New',monospace\">/var/folders/7t/k8q3439j6z3c683j7w00wtm80000gn/T/ipykernel_58430/330735155.py:26: FutureWarning: The behavior of \n",
       "DataFrame concatenation with empty or all-NA entries is deprecated. In a future version, this will no longer \n",
       "exclude empty or all-NA columns when determining the result dtypes. To retain the old behavior, exclude the \n",
       "relevant entries before the concat operation.\n",
       "  results = pd.concat([results, normalized_data]) #.dropna(axis=1, how=\"all\")])\n",
       "</pre>\n"
      ],
      "text/plain": [
       "/var/folders/7t/k8q3439j6z3c683j7w00wtm80000gn/T/ipykernel_58430/330735155.py:26: FutureWarning: The behavior of \n",
       "DataFrame concatenation with empty or all-NA entries is deprecated. In a future version, this will no longer \n",
       "exclude empty or all-NA columns when determining the result dtypes. To retain the old behavior, exclude the \n",
       "relevant entries before the concat operation.\n",
       "  results = pd.concat([results, normalized_data]) #.dropna(axis=1, how=\"all\")])\n"
      ]
     },
     "metadata": {},
     "output_type": "display_data"
    },
    {
     "data": {
      "text/html": [
       "<pre style=\"white-space:pre;overflow-x:auto;line-height:normal;font-family:Menlo,'DejaVu Sans Mono',consolas,'Courier New',monospace\">/var/folders/7t/k8q3439j6z3c683j7w00wtm80000gn/T/ipykernel_58430/330735155.py:26: FutureWarning: The behavior of \n",
       "DataFrame concatenation with empty or all-NA entries is deprecated. In a future version, this will no longer \n",
       "exclude empty or all-NA columns when determining the result dtypes. To retain the old behavior, exclude the \n",
       "relevant entries before the concat operation.\n",
       "  results = pd.concat([results, normalized_data]) #.dropna(axis=1, how=\"all\")])\n",
       "</pre>\n"
      ],
      "text/plain": [
       "/var/folders/7t/k8q3439j6z3c683j7w00wtm80000gn/T/ipykernel_58430/330735155.py:26: FutureWarning: The behavior of \n",
       "DataFrame concatenation with empty or all-NA entries is deprecated. In a future version, this will no longer \n",
       "exclude empty or all-NA columns when determining the result dtypes. To retain the old behavior, exclude the \n",
       "relevant entries before the concat operation.\n",
       "  results = pd.concat([results, normalized_data]) #.dropna(axis=1, how=\"all\")])\n"
      ]
     },
     "metadata": {},
     "output_type": "display_data"
    },
    {
     "data": {
      "text/html": [
       "<pre style=\"white-space:pre;overflow-x:auto;line-height:normal;font-family:Menlo,'DejaVu Sans Mono',consolas,'Courier New',monospace\">/var/folders/7t/k8q3439j6z3c683j7w00wtm80000gn/T/ipykernel_58430/330735155.py:26: FutureWarning: The behavior of \n",
       "DataFrame concatenation with empty or all-NA entries is deprecated. In a future version, this will no longer \n",
       "exclude empty or all-NA columns when determining the result dtypes. To retain the old behavior, exclude the \n",
       "relevant entries before the concat operation.\n",
       "  results = pd.concat([results, normalized_data]) #.dropna(axis=1, how=\"all\")])\n",
       "</pre>\n"
      ],
      "text/plain": [
       "/var/folders/7t/k8q3439j6z3c683j7w00wtm80000gn/T/ipykernel_58430/330735155.py:26: FutureWarning: The behavior of \n",
       "DataFrame concatenation with empty or all-NA entries is deprecated. In a future version, this will no longer \n",
       "exclude empty or all-NA columns when determining the result dtypes. To retain the old behavior, exclude the \n",
       "relevant entries before the concat operation.\n",
       "  results = pd.concat([results, normalized_data]) #.dropna(axis=1, how=\"all\")])\n"
      ]
     },
     "metadata": {},
     "output_type": "display_data"
    },
    {
     "data": {
      "text/html": [
       "<pre style=\"white-space:pre;overflow-x:auto;line-height:normal;font-family:Menlo,'DejaVu Sans Mono',consolas,'Courier New',monospace\">/var/folders/7t/k8q3439j6z3c683j7w00wtm80000gn/T/ipykernel_58430/330735155.py:26: FutureWarning: The behavior of \n",
       "DataFrame concatenation with empty or all-NA entries is deprecated. In a future version, this will no longer \n",
       "exclude empty or all-NA columns when determining the result dtypes. To retain the old behavior, exclude the \n",
       "relevant entries before the concat operation.\n",
       "  results = pd.concat([results, normalized_data]) #.dropna(axis=1, how=\"all\")])\n",
       "</pre>\n"
      ],
      "text/plain": [
       "/var/folders/7t/k8q3439j6z3c683j7w00wtm80000gn/T/ipykernel_58430/330735155.py:26: FutureWarning: The behavior of \n",
       "DataFrame concatenation with empty or all-NA entries is deprecated. In a future version, this will no longer \n",
       "exclude empty or all-NA columns when determining the result dtypes. To retain the old behavior, exclude the \n",
       "relevant entries before the concat operation.\n",
       "  results = pd.concat([results, normalized_data]) #.dropna(axis=1, how=\"all\")])\n"
      ]
     },
     "metadata": {},
     "output_type": "display_data"
    },
    {
     "data": {
      "text/html": [
       "<pre style=\"white-space:pre;overflow-x:auto;line-height:normal;font-family:Menlo,'DejaVu Sans Mono',consolas,'Courier New',monospace\">/var/folders/7t/k8q3439j6z3c683j7w00wtm80000gn/T/ipykernel_58430/330735155.py:26: FutureWarning: The behavior of \n",
       "DataFrame concatenation with empty or all-NA entries is deprecated. In a future version, this will no longer \n",
       "exclude empty or all-NA columns when determining the result dtypes. To retain the old behavior, exclude the \n",
       "relevant entries before the concat operation.\n",
       "  results = pd.concat([results, normalized_data]) #.dropna(axis=1, how=\"all\")])\n",
       "</pre>\n"
      ],
      "text/plain": [
       "/var/folders/7t/k8q3439j6z3c683j7w00wtm80000gn/T/ipykernel_58430/330735155.py:26: FutureWarning: The behavior of \n",
       "DataFrame concatenation with empty or all-NA entries is deprecated. In a future version, this will no longer \n",
       "exclude empty or all-NA columns when determining the result dtypes. To retain the old behavior, exclude the \n",
       "relevant entries before the concat operation.\n",
       "  results = pd.concat([results, normalized_data]) #.dropna(axis=1, how=\"all\")])\n"
      ]
     },
     "metadata": {},
     "output_type": "display_data"
    },
    {
     "data": {
      "text/html": [
       "<pre style=\"white-space:pre;overflow-x:auto;line-height:normal;font-family:Menlo,'DejaVu Sans Mono',consolas,'Courier New',monospace\">/var/folders/7t/k8q3439j6z3c683j7w00wtm80000gn/T/ipykernel_58430/330735155.py:26: FutureWarning: The behavior of \n",
       "DataFrame concatenation with empty or all-NA entries is deprecated. In a future version, this will no longer \n",
       "exclude empty or all-NA columns when determining the result dtypes. To retain the old behavior, exclude the \n",
       "relevant entries before the concat operation.\n",
       "  results = pd.concat([results, normalized_data]) #.dropna(axis=1, how=\"all\")])\n",
       "</pre>\n"
      ],
      "text/plain": [
       "/var/folders/7t/k8q3439j6z3c683j7w00wtm80000gn/T/ipykernel_58430/330735155.py:26: FutureWarning: The behavior of \n",
       "DataFrame concatenation with empty or all-NA entries is deprecated. In a future version, this will no longer \n",
       "exclude empty or all-NA columns when determining the result dtypes. To retain the old behavior, exclude the \n",
       "relevant entries before the concat operation.\n",
       "  results = pd.concat([results, normalized_data]) #.dropna(axis=1, how=\"all\")])\n"
      ]
     },
     "metadata": {},
     "output_type": "display_data"
    },
    {
     "data": {
      "text/html": [
       "<pre style=\"white-space:pre;overflow-x:auto;line-height:normal;font-family:Menlo,'DejaVu Sans Mono',consolas,'Courier New',monospace\">/var/folders/7t/k8q3439j6z3c683j7w00wtm80000gn/T/ipykernel_58430/330735155.py:26: FutureWarning: The behavior of \n",
       "DataFrame concatenation with empty or all-NA entries is deprecated. In a future version, this will no longer \n",
       "exclude empty or all-NA columns when determining the result dtypes. To retain the old behavior, exclude the \n",
       "relevant entries before the concat operation.\n",
       "  results = pd.concat([results, normalized_data]) #.dropna(axis=1, how=\"all\")])\n",
       "</pre>\n"
      ],
      "text/plain": [
       "/var/folders/7t/k8q3439j6z3c683j7w00wtm80000gn/T/ipykernel_58430/330735155.py:26: FutureWarning: The behavior of \n",
       "DataFrame concatenation with empty or all-NA entries is deprecated. In a future version, this will no longer \n",
       "exclude empty or all-NA columns when determining the result dtypes. To retain the old behavior, exclude the \n",
       "relevant entries before the concat operation.\n",
       "  results = pd.concat([results, normalized_data]) #.dropna(axis=1, how=\"all\")])\n"
      ]
     },
     "metadata": {},
     "output_type": "display_data"
    },
    {
     "data": {
      "text/html": [
       "<pre style=\"white-space:pre;overflow-x:auto;line-height:normal;font-family:Menlo,'DejaVu Sans Mono',consolas,'Courier New',monospace\">/var/folders/7t/k8q3439j6z3c683j7w00wtm80000gn/T/ipykernel_58430/330735155.py:26: FutureWarning: The behavior of \n",
       "DataFrame concatenation with empty or all-NA entries is deprecated. In a future version, this will no longer \n",
       "exclude empty or all-NA columns when determining the result dtypes. To retain the old behavior, exclude the \n",
       "relevant entries before the concat operation.\n",
       "  results = pd.concat([results, normalized_data]) #.dropna(axis=1, how=\"all\")])\n",
       "</pre>\n"
      ],
      "text/plain": [
       "/var/folders/7t/k8q3439j6z3c683j7w00wtm80000gn/T/ipykernel_58430/330735155.py:26: FutureWarning: The behavior of \n",
       "DataFrame concatenation with empty or all-NA entries is deprecated. In a future version, this will no longer \n",
       "exclude empty or all-NA columns when determining the result dtypes. To retain the old behavior, exclude the \n",
       "relevant entries before the concat operation.\n",
       "  results = pd.concat([results, normalized_data]) #.dropna(axis=1, how=\"all\")])\n"
      ]
     },
     "metadata": {},
     "output_type": "display_data"
    },
    {
     "data": {
      "text/html": [
       "<pre style=\"white-space:pre;overflow-x:auto;line-height:normal;font-family:Menlo,'DejaVu Sans Mono',consolas,'Courier New',monospace\">/var/folders/7t/k8q3439j6z3c683j7w00wtm80000gn/T/ipykernel_58430/330735155.py:26: FutureWarning: The behavior of \n",
       "DataFrame concatenation with empty or all-NA entries is deprecated. In a future version, this will no longer \n",
       "exclude empty or all-NA columns when determining the result dtypes. To retain the old behavior, exclude the \n",
       "relevant entries before the concat operation.\n",
       "  results = pd.concat([results, normalized_data]) #.dropna(axis=1, how=\"all\")])\n",
       "</pre>\n"
      ],
      "text/plain": [
       "/var/folders/7t/k8q3439j6z3c683j7w00wtm80000gn/T/ipykernel_58430/330735155.py:26: FutureWarning: The behavior of \n",
       "DataFrame concatenation with empty or all-NA entries is deprecated. In a future version, this will no longer \n",
       "exclude empty or all-NA columns when determining the result dtypes. To retain the old behavior, exclude the \n",
       "relevant entries before the concat operation.\n",
       "  results = pd.concat([results, normalized_data]) #.dropna(axis=1, how=\"all\")])\n"
      ]
     },
     "metadata": {},
     "output_type": "display_data"
    },
    {
     "data": {
      "text/html": [
       "<pre style=\"white-space:pre;overflow-x:auto;line-height:normal;font-family:Menlo,'DejaVu Sans Mono',consolas,'Courier New',monospace\">/var/folders/7t/k8q3439j6z3c683j7w00wtm80000gn/T/ipykernel_58430/330735155.py:26: FutureWarning: The behavior of \n",
       "DataFrame concatenation with empty or all-NA entries is deprecated. In a future version, this will no longer \n",
       "exclude empty or all-NA columns when determining the result dtypes. To retain the old behavior, exclude the \n",
       "relevant entries before the concat operation.\n",
       "  results = pd.concat([results, normalized_data]) #.dropna(axis=1, how=\"all\")])\n",
       "</pre>\n"
      ],
      "text/plain": [
       "/var/folders/7t/k8q3439j6z3c683j7w00wtm80000gn/T/ipykernel_58430/330735155.py:26: FutureWarning: The behavior of \n",
       "DataFrame concatenation with empty or all-NA entries is deprecated. In a future version, this will no longer \n",
       "exclude empty or all-NA columns when determining the result dtypes. To retain the old behavior, exclude the \n",
       "relevant entries before the concat operation.\n",
       "  results = pd.concat([results, normalized_data]) #.dropna(axis=1, how=\"all\")])\n"
      ]
     },
     "metadata": {},
     "output_type": "display_data"
    },
    {
     "data": {
      "text/html": [
       "<pre style=\"white-space:pre;overflow-x:auto;line-height:normal;font-family:Menlo,'DejaVu Sans Mono',consolas,'Courier New',monospace\">/var/folders/7t/k8q3439j6z3c683j7w00wtm80000gn/T/ipykernel_58430/330735155.py:26: FutureWarning: The behavior of \n",
       "DataFrame concatenation with empty or all-NA entries is deprecated. In a future version, this will no longer \n",
       "exclude empty or all-NA columns when determining the result dtypes. To retain the old behavior, exclude the \n",
       "relevant entries before the concat operation.\n",
       "  results = pd.concat([results, normalized_data]) #.dropna(axis=1, how=\"all\")])\n",
       "</pre>\n"
      ],
      "text/plain": [
       "/var/folders/7t/k8q3439j6z3c683j7w00wtm80000gn/T/ipykernel_58430/330735155.py:26: FutureWarning: The behavior of \n",
       "DataFrame concatenation with empty or all-NA entries is deprecated. In a future version, this will no longer \n",
       "exclude empty or all-NA columns when determining the result dtypes. To retain the old behavior, exclude the \n",
       "relevant entries before the concat operation.\n",
       "  results = pd.concat([results, normalized_data]) #.dropna(axis=1, how=\"all\")])\n"
      ]
     },
     "metadata": {},
     "output_type": "display_data"
    },
    {
     "data": {
      "text/html": [
       "<pre style=\"white-space:pre;overflow-x:auto;line-height:normal;font-family:Menlo,'DejaVu Sans Mono',consolas,'Courier New',monospace\">/var/folders/7t/k8q3439j6z3c683j7w00wtm80000gn/T/ipykernel_58430/330735155.py:26: FutureWarning: The behavior of \n",
       "DataFrame concatenation with empty or all-NA entries is deprecated. In a future version, this will no longer \n",
       "exclude empty or all-NA columns when determining the result dtypes. To retain the old behavior, exclude the \n",
       "relevant entries before the concat operation.\n",
       "  results = pd.concat([results, normalized_data]) #.dropna(axis=1, how=\"all\")])\n",
       "</pre>\n"
      ],
      "text/plain": [
       "/var/folders/7t/k8q3439j6z3c683j7w00wtm80000gn/T/ipykernel_58430/330735155.py:26: FutureWarning: The behavior of \n",
       "DataFrame concatenation with empty or all-NA entries is deprecated. In a future version, this will no longer \n",
       "exclude empty or all-NA columns when determining the result dtypes. To retain the old behavior, exclude the \n",
       "relevant entries before the concat operation.\n",
       "  results = pd.concat([results, normalized_data]) #.dropna(axis=1, how=\"all\")])\n"
      ]
     },
     "metadata": {},
     "output_type": "display_data"
    },
    {
     "data": {
      "text/html": [
       "<pre style=\"white-space:pre;overflow-x:auto;line-height:normal;font-family:Menlo,'DejaVu Sans Mono',consolas,'Courier New',monospace\">/var/folders/7t/k8q3439j6z3c683j7w00wtm80000gn/T/ipykernel_58430/330735155.py:26: FutureWarning: The behavior of \n",
       "DataFrame concatenation with empty or all-NA entries is deprecated. In a future version, this will no longer \n",
       "exclude empty or all-NA columns when determining the result dtypes. To retain the old behavior, exclude the \n",
       "relevant entries before the concat operation.\n",
       "  results = pd.concat([results, normalized_data]) #.dropna(axis=1, how=\"all\")])\n",
       "</pre>\n"
      ],
      "text/plain": [
       "/var/folders/7t/k8q3439j6z3c683j7w00wtm80000gn/T/ipykernel_58430/330735155.py:26: FutureWarning: The behavior of \n",
       "DataFrame concatenation with empty or all-NA entries is deprecated. In a future version, this will no longer \n",
       "exclude empty or all-NA columns when determining the result dtypes. To retain the old behavior, exclude the \n",
       "relevant entries before the concat operation.\n",
       "  results = pd.concat([results, normalized_data]) #.dropna(axis=1, how=\"all\")])\n"
      ]
     },
     "metadata": {},
     "output_type": "display_data"
    },
    {
     "data": {
      "text/html": [
       "<pre style=\"white-space:pre;overflow-x:auto;line-height:normal;font-family:Menlo,'DejaVu Sans Mono',consolas,'Courier New',monospace\">/var/folders/7t/k8q3439j6z3c683j7w00wtm80000gn/T/ipykernel_58430/330735155.py:26: FutureWarning: The behavior of \n",
       "DataFrame concatenation with empty or all-NA entries is deprecated. In a future version, this will no longer \n",
       "exclude empty or all-NA columns when determining the result dtypes. To retain the old behavior, exclude the \n",
       "relevant entries before the concat operation.\n",
       "  results = pd.concat([results, normalized_data]) #.dropna(axis=1, how=\"all\")])\n",
       "</pre>\n"
      ],
      "text/plain": [
       "/var/folders/7t/k8q3439j6z3c683j7w00wtm80000gn/T/ipykernel_58430/330735155.py:26: FutureWarning: The behavior of \n",
       "DataFrame concatenation with empty or all-NA entries is deprecated. In a future version, this will no longer \n",
       "exclude empty or all-NA columns when determining the result dtypes. To retain the old behavior, exclude the \n",
       "relevant entries before the concat operation.\n",
       "  results = pd.concat([results, normalized_data]) #.dropna(axis=1, how=\"all\")])\n"
      ]
     },
     "metadata": {},
     "output_type": "display_data"
    },
    {
     "data": {
      "text/html": [
       "<pre style=\"white-space:pre;overflow-x:auto;line-height:normal;font-family:Menlo,'DejaVu Sans Mono',consolas,'Courier New',monospace\">/var/folders/7t/k8q3439j6z3c683j7w00wtm80000gn/T/ipykernel_58430/330735155.py:26: FutureWarning: The behavior of \n",
       "DataFrame concatenation with empty or all-NA entries is deprecated. In a future version, this will no longer \n",
       "exclude empty or all-NA columns when determining the result dtypes. To retain the old behavior, exclude the \n",
       "relevant entries before the concat operation.\n",
       "  results = pd.concat([results, normalized_data]) #.dropna(axis=1, how=\"all\")])\n",
       "</pre>\n"
      ],
      "text/plain": [
       "/var/folders/7t/k8q3439j6z3c683j7w00wtm80000gn/T/ipykernel_58430/330735155.py:26: FutureWarning: The behavior of \n",
       "DataFrame concatenation with empty or all-NA entries is deprecated. In a future version, this will no longer \n",
       "exclude empty or all-NA columns when determining the result dtypes. To retain the old behavior, exclude the \n",
       "relevant entries before the concat operation.\n",
       "  results = pd.concat([results, normalized_data]) #.dropna(axis=1, how=\"all\")])\n"
      ]
     },
     "metadata": {},
     "output_type": "display_data"
    },
    {
     "data": {
      "text/html": [
       "<pre style=\"white-space:pre;overflow-x:auto;line-height:normal;font-family:Menlo,'DejaVu Sans Mono',consolas,'Courier New',monospace\">/var/folders/7t/k8q3439j6z3c683j7w00wtm80000gn/T/ipykernel_58430/330735155.py:26: FutureWarning: The behavior of \n",
       "DataFrame concatenation with empty or all-NA entries is deprecated. In a future version, this will no longer \n",
       "exclude empty or all-NA columns when determining the result dtypes. To retain the old behavior, exclude the \n",
       "relevant entries before the concat operation.\n",
       "  results = pd.concat([results, normalized_data]) #.dropna(axis=1, how=\"all\")])\n",
       "</pre>\n"
      ],
      "text/plain": [
       "/var/folders/7t/k8q3439j6z3c683j7w00wtm80000gn/T/ipykernel_58430/330735155.py:26: FutureWarning: The behavior of \n",
       "DataFrame concatenation with empty or all-NA entries is deprecated. In a future version, this will no longer \n",
       "exclude empty or all-NA columns when determining the result dtypes. To retain the old behavior, exclude the \n",
       "relevant entries before the concat operation.\n",
       "  results = pd.concat([results, normalized_data]) #.dropna(axis=1, how=\"all\")])\n"
      ]
     },
     "metadata": {},
     "output_type": "display_data"
    },
    {
     "data": {
      "text/html": [
       "<pre style=\"white-space:pre;overflow-x:auto;line-height:normal;font-family:Menlo,'DejaVu Sans Mono',consolas,'Courier New',monospace\">/var/folders/7t/k8q3439j6z3c683j7w00wtm80000gn/T/ipykernel_58430/330735155.py:26: FutureWarning: The behavior of \n",
       "DataFrame concatenation with empty or all-NA entries is deprecated. In a future version, this will no longer \n",
       "exclude empty or all-NA columns when determining the result dtypes. To retain the old behavior, exclude the \n",
       "relevant entries before the concat operation.\n",
       "  results = pd.concat([results, normalized_data]) #.dropna(axis=1, how=\"all\")])\n",
       "</pre>\n"
      ],
      "text/plain": [
       "/var/folders/7t/k8q3439j6z3c683j7w00wtm80000gn/T/ipykernel_58430/330735155.py:26: FutureWarning: The behavior of \n",
       "DataFrame concatenation with empty or all-NA entries is deprecated. In a future version, this will no longer \n",
       "exclude empty or all-NA columns when determining the result dtypes. To retain the old behavior, exclude the \n",
       "relevant entries before the concat operation.\n",
       "  results = pd.concat([results, normalized_data]) #.dropna(axis=1, how=\"all\")])\n"
      ]
     },
     "metadata": {},
     "output_type": "display_data"
    },
    {
     "data": {
      "text/html": [
       "<pre style=\"white-space:pre;overflow-x:auto;line-height:normal;font-family:Menlo,'DejaVu Sans Mono',consolas,'Courier New',monospace\">/var/folders/7t/k8q3439j6z3c683j7w00wtm80000gn/T/ipykernel_58430/330735155.py:26: FutureWarning: The behavior of \n",
       "DataFrame concatenation with empty or all-NA entries is deprecated. In a future version, this will no longer \n",
       "exclude empty or all-NA columns when determining the result dtypes. To retain the old behavior, exclude the \n",
       "relevant entries before the concat operation.\n",
       "  results = pd.concat([results, normalized_data]) #.dropna(axis=1, how=\"all\")])\n",
       "</pre>\n"
      ],
      "text/plain": [
       "/var/folders/7t/k8q3439j6z3c683j7w00wtm80000gn/T/ipykernel_58430/330735155.py:26: FutureWarning: The behavior of \n",
       "DataFrame concatenation with empty or all-NA entries is deprecated. In a future version, this will no longer \n",
       "exclude empty or all-NA columns when determining the result dtypes. To retain the old behavior, exclude the \n",
       "relevant entries before the concat operation.\n",
       "  results = pd.concat([results, normalized_data]) #.dropna(axis=1, how=\"all\")])\n"
      ]
     },
     "metadata": {},
     "output_type": "display_data"
    },
    {
     "data": {
      "text/html": [
       "<pre style=\"white-space:pre;overflow-x:auto;line-height:normal;font-family:Menlo,'DejaVu Sans Mono',consolas,'Courier New',monospace\">/var/folders/7t/k8q3439j6z3c683j7w00wtm80000gn/T/ipykernel_58430/330735155.py:26: FutureWarning: The behavior of \n",
       "DataFrame concatenation with empty or all-NA entries is deprecated. In a future version, this will no longer \n",
       "exclude empty or all-NA columns when determining the result dtypes. To retain the old behavior, exclude the \n",
       "relevant entries before the concat operation.\n",
       "  results = pd.concat([results, normalized_data]) #.dropna(axis=1, how=\"all\")])\n",
       "</pre>\n"
      ],
      "text/plain": [
       "/var/folders/7t/k8q3439j6z3c683j7w00wtm80000gn/T/ipykernel_58430/330735155.py:26: FutureWarning: The behavior of \n",
       "DataFrame concatenation with empty or all-NA entries is deprecated. In a future version, this will no longer \n",
       "exclude empty or all-NA columns when determining the result dtypes. To retain the old behavior, exclude the \n",
       "relevant entries before the concat operation.\n",
       "  results = pd.concat([results, normalized_data]) #.dropna(axis=1, how=\"all\")])\n"
      ]
     },
     "metadata": {},
     "output_type": "display_data"
    },
    {
     "data": {
      "text/html": [
       "<pre style=\"white-space:pre;overflow-x:auto;line-height:normal;font-family:Menlo,'DejaVu Sans Mono',consolas,'Courier New',monospace\">/var/folders/7t/k8q3439j6z3c683j7w00wtm80000gn/T/ipykernel_58430/330735155.py:26: FutureWarning: The behavior of \n",
       "DataFrame concatenation with empty or all-NA entries is deprecated. In a future version, this will no longer \n",
       "exclude empty or all-NA columns when determining the result dtypes. To retain the old behavior, exclude the \n",
       "relevant entries before the concat operation.\n",
       "  results = pd.concat([results, normalized_data]) #.dropna(axis=1, how=\"all\")])\n",
       "</pre>\n"
      ],
      "text/plain": [
       "/var/folders/7t/k8q3439j6z3c683j7w00wtm80000gn/T/ipykernel_58430/330735155.py:26: FutureWarning: The behavior of \n",
       "DataFrame concatenation with empty or all-NA entries is deprecated. In a future version, this will no longer \n",
       "exclude empty or all-NA columns when determining the result dtypes. To retain the old behavior, exclude the \n",
       "relevant entries before the concat operation.\n",
       "  results = pd.concat([results, normalized_data]) #.dropna(axis=1, how=\"all\")])\n"
      ]
     },
     "metadata": {},
     "output_type": "display_data"
    },
    {
     "data": {
      "text/html": [
       "<pre style=\"white-space:pre;overflow-x:auto;line-height:normal;font-family:Menlo,'DejaVu Sans Mono',consolas,'Courier New',monospace\">/var/folders/7t/k8q3439j6z3c683j7w00wtm80000gn/T/ipykernel_58430/330735155.py:26: FutureWarning: The behavior of \n",
       "DataFrame concatenation with empty or all-NA entries is deprecated. In a future version, this will no longer \n",
       "exclude empty or all-NA columns when determining the result dtypes. To retain the old behavior, exclude the \n",
       "relevant entries before the concat operation.\n",
       "  results = pd.concat([results, normalized_data]) #.dropna(axis=1, how=\"all\")])\n",
       "</pre>\n"
      ],
      "text/plain": [
       "/var/folders/7t/k8q3439j6z3c683j7w00wtm80000gn/T/ipykernel_58430/330735155.py:26: FutureWarning: The behavior of \n",
       "DataFrame concatenation with empty or all-NA entries is deprecated. In a future version, this will no longer \n",
       "exclude empty or all-NA columns when determining the result dtypes. To retain the old behavior, exclude the \n",
       "relevant entries before the concat operation.\n",
       "  results = pd.concat([results, normalized_data]) #.dropna(axis=1, how=\"all\")])\n"
      ]
     },
     "metadata": {},
     "output_type": "display_data"
    },
    {
     "data": {
      "text/html": [
       "<pre style=\"white-space:pre;overflow-x:auto;line-height:normal;font-family:Menlo,'DejaVu Sans Mono',consolas,'Courier New',monospace\">/var/folders/7t/k8q3439j6z3c683j7w00wtm80000gn/T/ipykernel_58430/330735155.py:26: FutureWarning: The behavior of \n",
       "DataFrame concatenation with empty or all-NA entries is deprecated. In a future version, this will no longer \n",
       "exclude empty or all-NA columns when determining the result dtypes. To retain the old behavior, exclude the \n",
       "relevant entries before the concat operation.\n",
       "  results = pd.concat([results, normalized_data]) #.dropna(axis=1, how=\"all\")])\n",
       "</pre>\n"
      ],
      "text/plain": [
       "/var/folders/7t/k8q3439j6z3c683j7w00wtm80000gn/T/ipykernel_58430/330735155.py:26: FutureWarning: The behavior of \n",
       "DataFrame concatenation with empty or all-NA entries is deprecated. In a future version, this will no longer \n",
       "exclude empty or all-NA columns when determining the result dtypes. To retain the old behavior, exclude the \n",
       "relevant entries before the concat operation.\n",
       "  results = pd.concat([results, normalized_data]) #.dropna(axis=1, how=\"all\")])\n"
      ]
     },
     "metadata": {},
     "output_type": "display_data"
    },
    {
     "data": {
      "text/html": [
       "<pre style=\"white-space:pre;overflow-x:auto;line-height:normal;font-family:Menlo,'DejaVu Sans Mono',consolas,'Courier New',monospace\">/var/folders/7t/k8q3439j6z3c683j7w00wtm80000gn/T/ipykernel_58430/330735155.py:26: FutureWarning: The behavior of \n",
       "DataFrame concatenation with empty or all-NA entries is deprecated. In a future version, this will no longer \n",
       "exclude empty or all-NA columns when determining the result dtypes. To retain the old behavior, exclude the \n",
       "relevant entries before the concat operation.\n",
       "  results = pd.concat([results, normalized_data]) #.dropna(axis=1, how=\"all\")])\n",
       "</pre>\n"
      ],
      "text/plain": [
       "/var/folders/7t/k8q3439j6z3c683j7w00wtm80000gn/T/ipykernel_58430/330735155.py:26: FutureWarning: The behavior of \n",
       "DataFrame concatenation with empty or all-NA entries is deprecated. In a future version, this will no longer \n",
       "exclude empty or all-NA columns when determining the result dtypes. To retain the old behavior, exclude the \n",
       "relevant entries before the concat operation.\n",
       "  results = pd.concat([results, normalized_data]) #.dropna(axis=1, how=\"all\")])\n"
      ]
     },
     "metadata": {},
     "output_type": "display_data"
    },
    {
     "data": {
      "text/html": [
       "<pre style=\"white-space:pre;overflow-x:auto;line-height:normal;font-family:Menlo,'DejaVu Sans Mono',consolas,'Courier New',monospace\">/var/folders/7t/k8q3439j6z3c683j7w00wtm80000gn/T/ipykernel_58430/330735155.py:26: FutureWarning: The behavior of \n",
       "DataFrame concatenation with empty or all-NA entries is deprecated. In a future version, this will no longer \n",
       "exclude empty or all-NA columns when determining the result dtypes. To retain the old behavior, exclude the \n",
       "relevant entries before the concat operation.\n",
       "  results = pd.concat([results, normalized_data]) #.dropna(axis=1, how=\"all\")])\n",
       "</pre>\n"
      ],
      "text/plain": [
       "/var/folders/7t/k8q3439j6z3c683j7w00wtm80000gn/T/ipykernel_58430/330735155.py:26: FutureWarning: The behavior of \n",
       "DataFrame concatenation with empty or all-NA entries is deprecated. In a future version, this will no longer \n",
       "exclude empty or all-NA columns when determining the result dtypes. To retain the old behavior, exclude the \n",
       "relevant entries before the concat operation.\n",
       "  results = pd.concat([results, normalized_data]) #.dropna(axis=1, how=\"all\")])\n"
      ]
     },
     "metadata": {},
     "output_type": "display_data"
    },
    {
     "data": {
      "text/html": [
       "<pre style=\"white-space:pre;overflow-x:auto;line-height:normal;font-family:Menlo,'DejaVu Sans Mono',consolas,'Courier New',monospace\">/var/folders/7t/k8q3439j6z3c683j7w00wtm80000gn/T/ipykernel_58430/330735155.py:26: FutureWarning: The behavior of \n",
       "DataFrame concatenation with empty or all-NA entries is deprecated. In a future version, this will no longer \n",
       "exclude empty or all-NA columns when determining the result dtypes. To retain the old behavior, exclude the \n",
       "relevant entries before the concat operation.\n",
       "  results = pd.concat([results, normalized_data]) #.dropna(axis=1, how=\"all\")])\n",
       "</pre>\n"
      ],
      "text/plain": [
       "/var/folders/7t/k8q3439j6z3c683j7w00wtm80000gn/T/ipykernel_58430/330735155.py:26: FutureWarning: The behavior of \n",
       "DataFrame concatenation with empty or all-NA entries is deprecated. In a future version, this will no longer \n",
       "exclude empty or all-NA columns when determining the result dtypes. To retain the old behavior, exclude the \n",
       "relevant entries before the concat operation.\n",
       "  results = pd.concat([results, normalized_data]) #.dropna(axis=1, how=\"all\")])\n"
      ]
     },
     "metadata": {},
     "output_type": "display_data"
    },
    {
     "data": {
      "text/html": [
       "<pre style=\"white-space:pre;overflow-x:auto;line-height:normal;font-family:Menlo,'DejaVu Sans Mono',consolas,'Courier New',monospace\">/var/folders/7t/k8q3439j6z3c683j7w00wtm80000gn/T/ipykernel_58430/330735155.py:26: FutureWarning: The behavior of \n",
       "DataFrame concatenation with empty or all-NA entries is deprecated. In a future version, this will no longer \n",
       "exclude empty or all-NA columns when determining the result dtypes. To retain the old behavior, exclude the \n",
       "relevant entries before the concat operation.\n",
       "  results = pd.concat([results, normalized_data]) #.dropna(axis=1, how=\"all\")])\n",
       "</pre>\n"
      ],
      "text/plain": [
       "/var/folders/7t/k8q3439j6z3c683j7w00wtm80000gn/T/ipykernel_58430/330735155.py:26: FutureWarning: The behavior of \n",
       "DataFrame concatenation with empty or all-NA entries is deprecated. In a future version, this will no longer \n",
       "exclude empty or all-NA columns when determining the result dtypes. To retain the old behavior, exclude the \n",
       "relevant entries before the concat operation.\n",
       "  results = pd.concat([results, normalized_data]) #.dropna(axis=1, how=\"all\")])\n"
      ]
     },
     "metadata": {},
     "output_type": "display_data"
    },
    {
     "data": {
      "text/html": [
       "<pre style=\"white-space:pre;overflow-x:auto;line-height:normal;font-family:Menlo,'DejaVu Sans Mono',consolas,'Courier New',monospace\">/var/folders/7t/k8q3439j6z3c683j7w00wtm80000gn/T/ipykernel_58430/330735155.py:26: FutureWarning: The behavior of \n",
       "DataFrame concatenation with empty or all-NA entries is deprecated. In a future version, this will no longer \n",
       "exclude empty or all-NA columns when determining the result dtypes. To retain the old behavior, exclude the \n",
       "relevant entries before the concat operation.\n",
       "  results = pd.concat([results, normalized_data]) #.dropna(axis=1, how=\"all\")])\n",
       "</pre>\n"
      ],
      "text/plain": [
       "/var/folders/7t/k8q3439j6z3c683j7w00wtm80000gn/T/ipykernel_58430/330735155.py:26: FutureWarning: The behavior of \n",
       "DataFrame concatenation with empty or all-NA entries is deprecated. In a future version, this will no longer \n",
       "exclude empty or all-NA columns when determining the result dtypes. To retain the old behavior, exclude the \n",
       "relevant entries before the concat operation.\n",
       "  results = pd.concat([results, normalized_data]) #.dropna(axis=1, how=\"all\")])\n"
      ]
     },
     "metadata": {},
     "output_type": "display_data"
    },
    {
     "data": {
      "text/html": [
       "<pre style=\"white-space:pre;overflow-x:auto;line-height:normal;font-family:Menlo,'DejaVu Sans Mono',consolas,'Courier New',monospace\">/var/folders/7t/k8q3439j6z3c683j7w00wtm80000gn/T/ipykernel_58430/330735155.py:26: FutureWarning: The behavior of \n",
       "DataFrame concatenation with empty or all-NA entries is deprecated. In a future version, this will no longer \n",
       "exclude empty or all-NA columns when determining the result dtypes. To retain the old behavior, exclude the \n",
       "relevant entries before the concat operation.\n",
       "  results = pd.concat([results, normalized_data]) #.dropna(axis=1, how=\"all\")])\n",
       "</pre>\n"
      ],
      "text/plain": [
       "/var/folders/7t/k8q3439j6z3c683j7w00wtm80000gn/T/ipykernel_58430/330735155.py:26: FutureWarning: The behavior of \n",
       "DataFrame concatenation with empty or all-NA entries is deprecated. In a future version, this will no longer \n",
       "exclude empty or all-NA columns when determining the result dtypes. To retain the old behavior, exclude the \n",
       "relevant entries before the concat operation.\n",
       "  results = pd.concat([results, normalized_data]) #.dropna(axis=1, how=\"all\")])\n"
      ]
     },
     "metadata": {},
     "output_type": "display_data"
    },
    {
     "data": {
      "text/html": [
       "<pre style=\"white-space:pre;overflow-x:auto;line-height:normal;font-family:Menlo,'DejaVu Sans Mono',consolas,'Courier New',monospace\">/var/folders/7t/k8q3439j6z3c683j7w00wtm80000gn/T/ipykernel_58430/330735155.py:26: FutureWarning: The behavior of \n",
       "DataFrame concatenation with empty or all-NA entries is deprecated. In a future version, this will no longer \n",
       "exclude empty or all-NA columns when determining the result dtypes. To retain the old behavior, exclude the \n",
       "relevant entries before the concat operation.\n",
       "  results = pd.concat([results, normalized_data]) #.dropna(axis=1, how=\"all\")])\n",
       "</pre>\n"
      ],
      "text/plain": [
       "/var/folders/7t/k8q3439j6z3c683j7w00wtm80000gn/T/ipykernel_58430/330735155.py:26: FutureWarning: The behavior of \n",
       "DataFrame concatenation with empty or all-NA entries is deprecated. In a future version, this will no longer \n",
       "exclude empty or all-NA columns when determining the result dtypes. To retain the old behavior, exclude the \n",
       "relevant entries before the concat operation.\n",
       "  results = pd.concat([results, normalized_data]) #.dropna(axis=1, how=\"all\")])\n"
      ]
     },
     "metadata": {},
     "output_type": "display_data"
    },
    {
     "data": {
      "text/html": [
       "<pre style=\"white-space:pre;overflow-x:auto;line-height:normal;font-family:Menlo,'DejaVu Sans Mono',consolas,'Courier New',monospace\">/var/folders/7t/k8q3439j6z3c683j7w00wtm80000gn/T/ipykernel_58430/330735155.py:26: FutureWarning: The behavior of \n",
       "DataFrame concatenation with empty or all-NA entries is deprecated. In a future version, this will no longer \n",
       "exclude empty or all-NA columns when determining the result dtypes. To retain the old behavior, exclude the \n",
       "relevant entries before the concat operation.\n",
       "  results = pd.concat([results, normalized_data]) #.dropna(axis=1, how=\"all\")])\n",
       "</pre>\n"
      ],
      "text/plain": [
       "/var/folders/7t/k8q3439j6z3c683j7w00wtm80000gn/T/ipykernel_58430/330735155.py:26: FutureWarning: The behavior of \n",
       "DataFrame concatenation with empty or all-NA entries is deprecated. In a future version, this will no longer \n",
       "exclude empty or all-NA columns when determining the result dtypes. To retain the old behavior, exclude the \n",
       "relevant entries before the concat operation.\n",
       "  results = pd.concat([results, normalized_data]) #.dropna(axis=1, how=\"all\")])\n"
      ]
     },
     "metadata": {},
     "output_type": "display_data"
    },
    {
     "data": {
      "text/html": [
       "<pre style=\"white-space:pre;overflow-x:auto;line-height:normal;font-family:Menlo,'DejaVu Sans Mono',consolas,'Courier New',monospace\">/var/folders/7t/k8q3439j6z3c683j7w00wtm80000gn/T/ipykernel_58430/330735155.py:26: FutureWarning: The behavior of \n",
       "DataFrame concatenation with empty or all-NA entries is deprecated. In a future version, this will no longer \n",
       "exclude empty or all-NA columns when determining the result dtypes. To retain the old behavior, exclude the \n",
       "relevant entries before the concat operation.\n",
       "  results = pd.concat([results, normalized_data]) #.dropna(axis=1, how=\"all\")])\n",
       "</pre>\n"
      ],
      "text/plain": [
       "/var/folders/7t/k8q3439j6z3c683j7w00wtm80000gn/T/ipykernel_58430/330735155.py:26: FutureWarning: The behavior of \n",
       "DataFrame concatenation with empty or all-NA entries is deprecated. In a future version, this will no longer \n",
       "exclude empty or all-NA columns when determining the result dtypes. To retain the old behavior, exclude the \n",
       "relevant entries before the concat operation.\n",
       "  results = pd.concat([results, normalized_data]) #.dropna(axis=1, how=\"all\")])\n"
      ]
     },
     "metadata": {},
     "output_type": "display_data"
    },
    {
     "data": {
      "text/html": [
       "<pre style=\"white-space:pre;overflow-x:auto;line-height:normal;font-family:Menlo,'DejaVu Sans Mono',consolas,'Courier New',monospace\">/var/folders/7t/k8q3439j6z3c683j7w00wtm80000gn/T/ipykernel_58430/330735155.py:26: FutureWarning: The behavior of \n",
       "DataFrame concatenation with empty or all-NA entries is deprecated. In a future version, this will no longer \n",
       "exclude empty or all-NA columns when determining the result dtypes. To retain the old behavior, exclude the \n",
       "relevant entries before the concat operation.\n",
       "  results = pd.concat([results, normalized_data]) #.dropna(axis=1, how=\"all\")])\n",
       "</pre>\n"
      ],
      "text/plain": [
       "/var/folders/7t/k8q3439j6z3c683j7w00wtm80000gn/T/ipykernel_58430/330735155.py:26: FutureWarning: The behavior of \n",
       "DataFrame concatenation with empty or all-NA entries is deprecated. In a future version, this will no longer \n",
       "exclude empty or all-NA columns when determining the result dtypes. To retain the old behavior, exclude the \n",
       "relevant entries before the concat operation.\n",
       "  results = pd.concat([results, normalized_data]) #.dropna(axis=1, how=\"all\")])\n"
      ]
     },
     "metadata": {},
     "output_type": "display_data"
    },
    {
     "data": {
      "text/html": [
       "<pre style=\"white-space:pre;overflow-x:auto;line-height:normal;font-family:Menlo,'DejaVu Sans Mono',consolas,'Courier New',monospace\">/var/folders/7t/k8q3439j6z3c683j7w00wtm80000gn/T/ipykernel_58430/330735155.py:26: FutureWarning: The behavior of \n",
       "DataFrame concatenation with empty or all-NA entries is deprecated. In a future version, this will no longer \n",
       "exclude empty or all-NA columns when determining the result dtypes. To retain the old behavior, exclude the \n",
       "relevant entries before the concat operation.\n",
       "  results = pd.concat([results, normalized_data]) #.dropna(axis=1, how=\"all\")])\n",
       "</pre>\n"
      ],
      "text/plain": [
       "/var/folders/7t/k8q3439j6z3c683j7w00wtm80000gn/T/ipykernel_58430/330735155.py:26: FutureWarning: The behavior of \n",
       "DataFrame concatenation with empty or all-NA entries is deprecated. In a future version, this will no longer \n",
       "exclude empty or all-NA columns when determining the result dtypes. To retain the old behavior, exclude the \n",
       "relevant entries before the concat operation.\n",
       "  results = pd.concat([results, normalized_data]) #.dropna(axis=1, how=\"all\")])\n"
      ]
     },
     "metadata": {},
     "output_type": "display_data"
    },
    {
     "data": {
      "text/html": [
       "<pre style=\"white-space:pre;overflow-x:auto;line-height:normal;font-family:Menlo,'DejaVu Sans Mono',consolas,'Courier New',monospace\">/var/folders/7t/k8q3439j6z3c683j7w00wtm80000gn/T/ipykernel_58430/330735155.py:26: FutureWarning: The behavior of \n",
       "DataFrame concatenation with empty or all-NA entries is deprecated. In a future version, this will no longer \n",
       "exclude empty or all-NA columns when determining the result dtypes. To retain the old behavior, exclude the \n",
       "relevant entries before the concat operation.\n",
       "  results = pd.concat([results, normalized_data]) #.dropna(axis=1, how=\"all\")])\n",
       "</pre>\n"
      ],
      "text/plain": [
       "/var/folders/7t/k8q3439j6z3c683j7w00wtm80000gn/T/ipykernel_58430/330735155.py:26: FutureWarning: The behavior of \n",
       "DataFrame concatenation with empty or all-NA entries is deprecated. In a future version, this will no longer \n",
       "exclude empty or all-NA columns when determining the result dtypes. To retain the old behavior, exclude the \n",
       "relevant entries before the concat operation.\n",
       "  results = pd.concat([results, normalized_data]) #.dropna(axis=1, how=\"all\")])\n"
      ]
     },
     "metadata": {},
     "output_type": "display_data"
    },
    {
     "data": {
      "text/html": [
       "<pre style=\"white-space:pre;overflow-x:auto;line-height:normal;font-family:Menlo,'DejaVu Sans Mono',consolas,'Courier New',monospace\">/var/folders/7t/k8q3439j6z3c683j7w00wtm80000gn/T/ipykernel_58430/330735155.py:26: FutureWarning: The behavior of \n",
       "DataFrame concatenation with empty or all-NA entries is deprecated. In a future version, this will no longer \n",
       "exclude empty or all-NA columns when determining the result dtypes. To retain the old behavior, exclude the \n",
       "relevant entries before the concat operation.\n",
       "  results = pd.concat([results, normalized_data]) #.dropna(axis=1, how=\"all\")])\n",
       "</pre>\n"
      ],
      "text/plain": [
       "/var/folders/7t/k8q3439j6z3c683j7w00wtm80000gn/T/ipykernel_58430/330735155.py:26: FutureWarning: The behavior of \n",
       "DataFrame concatenation with empty or all-NA entries is deprecated. In a future version, this will no longer \n",
       "exclude empty or all-NA columns when determining the result dtypes. To retain the old behavior, exclude the \n",
       "relevant entries before the concat operation.\n",
       "  results = pd.concat([results, normalized_data]) #.dropna(axis=1, how=\"all\")])\n"
      ]
     },
     "metadata": {},
     "output_type": "display_data"
    },
    {
     "data": {
      "text/html": [
       "<pre style=\"white-space:pre;overflow-x:auto;line-height:normal;font-family:Menlo,'DejaVu Sans Mono',consolas,'Courier New',monospace\">/var/folders/7t/k8q3439j6z3c683j7w00wtm80000gn/T/ipykernel_58430/330735155.py:26: FutureWarning: The behavior of \n",
       "DataFrame concatenation with empty or all-NA entries is deprecated. In a future version, this will no longer \n",
       "exclude empty or all-NA columns when determining the result dtypes. To retain the old behavior, exclude the \n",
       "relevant entries before the concat operation.\n",
       "  results = pd.concat([results, normalized_data]) #.dropna(axis=1, how=\"all\")])\n",
       "</pre>\n"
      ],
      "text/plain": [
       "/var/folders/7t/k8q3439j6z3c683j7w00wtm80000gn/T/ipykernel_58430/330735155.py:26: FutureWarning: The behavior of \n",
       "DataFrame concatenation with empty or all-NA entries is deprecated. In a future version, this will no longer \n",
       "exclude empty or all-NA columns when determining the result dtypes. To retain the old behavior, exclude the \n",
       "relevant entries before the concat operation.\n",
       "  results = pd.concat([results, normalized_data]) #.dropna(axis=1, how=\"all\")])\n"
      ]
     },
     "metadata": {},
     "output_type": "display_data"
    },
    {
     "data": {
      "text/html": [
       "<pre style=\"white-space:pre;overflow-x:auto;line-height:normal;font-family:Menlo,'DejaVu Sans Mono',consolas,'Courier New',monospace\">/var/folders/7t/k8q3439j6z3c683j7w00wtm80000gn/T/ipykernel_58430/330735155.py:26: FutureWarning: The behavior of \n",
       "DataFrame concatenation with empty or all-NA entries is deprecated. In a future version, this will no longer \n",
       "exclude empty or all-NA columns when determining the result dtypes. To retain the old behavior, exclude the \n",
       "relevant entries before the concat operation.\n",
       "  results = pd.concat([results, normalized_data]) #.dropna(axis=1, how=\"all\")])\n",
       "</pre>\n"
      ],
      "text/plain": [
       "/var/folders/7t/k8q3439j6z3c683j7w00wtm80000gn/T/ipykernel_58430/330735155.py:26: FutureWarning: The behavior of \n",
       "DataFrame concatenation with empty or all-NA entries is deprecated. In a future version, this will no longer \n",
       "exclude empty or all-NA columns when determining the result dtypes. To retain the old behavior, exclude the \n",
       "relevant entries before the concat operation.\n",
       "  results = pd.concat([results, normalized_data]) #.dropna(axis=1, how=\"all\")])\n"
      ]
     },
     "metadata": {},
     "output_type": "display_data"
    },
    {
     "data": {
      "text/html": [
       "<pre style=\"white-space:pre;overflow-x:auto;line-height:normal;font-family:Menlo,'DejaVu Sans Mono',consolas,'Courier New',monospace\">/var/folders/7t/k8q3439j6z3c683j7w00wtm80000gn/T/ipykernel_58430/330735155.py:26: FutureWarning: The behavior of \n",
       "DataFrame concatenation with empty or all-NA entries is deprecated. In a future version, this will no longer \n",
       "exclude empty or all-NA columns when determining the result dtypes. To retain the old behavior, exclude the \n",
       "relevant entries before the concat operation.\n",
       "  results = pd.concat([results, normalized_data]) #.dropna(axis=1, how=\"all\")])\n",
       "</pre>\n"
      ],
      "text/plain": [
       "/var/folders/7t/k8q3439j6z3c683j7w00wtm80000gn/T/ipykernel_58430/330735155.py:26: FutureWarning: The behavior of \n",
       "DataFrame concatenation with empty or all-NA entries is deprecated. In a future version, this will no longer \n",
       "exclude empty or all-NA columns when determining the result dtypes. To retain the old behavior, exclude the \n",
       "relevant entries before the concat operation.\n",
       "  results = pd.concat([results, normalized_data]) #.dropna(axis=1, how=\"all\")])\n"
      ]
     },
     "metadata": {},
     "output_type": "display_data"
    },
    {
     "data": {
      "text/html": [
       "<pre style=\"white-space:pre;overflow-x:auto;line-height:normal;font-family:Menlo,'DejaVu Sans Mono',consolas,'Courier New',monospace\">/var/folders/7t/k8q3439j6z3c683j7w00wtm80000gn/T/ipykernel_58430/330735155.py:26: FutureWarning: The behavior of \n",
       "DataFrame concatenation with empty or all-NA entries is deprecated. In a future version, this will no longer \n",
       "exclude empty or all-NA columns when determining the result dtypes. To retain the old behavior, exclude the \n",
       "relevant entries before the concat operation.\n",
       "  results = pd.concat([results, normalized_data]) #.dropna(axis=1, how=\"all\")])\n",
       "</pre>\n"
      ],
      "text/plain": [
       "/var/folders/7t/k8q3439j6z3c683j7w00wtm80000gn/T/ipykernel_58430/330735155.py:26: FutureWarning: The behavior of \n",
       "DataFrame concatenation with empty or all-NA entries is deprecated. In a future version, this will no longer \n",
       "exclude empty or all-NA columns when determining the result dtypes. To retain the old behavior, exclude the \n",
       "relevant entries before the concat operation.\n",
       "  results = pd.concat([results, normalized_data]) #.dropna(axis=1, how=\"all\")])\n"
      ]
     },
     "metadata": {},
     "output_type": "display_data"
    },
    {
     "data": {
      "text/html": [
       "<pre style=\"white-space:pre;overflow-x:auto;line-height:normal;font-family:Menlo,'DejaVu Sans Mono',consolas,'Courier New',monospace\">/var/folders/7t/k8q3439j6z3c683j7w00wtm80000gn/T/ipykernel_58430/330735155.py:26: FutureWarning: The behavior of \n",
       "DataFrame concatenation with empty or all-NA entries is deprecated. In a future version, this will no longer \n",
       "exclude empty or all-NA columns when determining the result dtypes. To retain the old behavior, exclude the \n",
       "relevant entries before the concat operation.\n",
       "  results = pd.concat([results, normalized_data]) #.dropna(axis=1, how=\"all\")])\n",
       "</pre>\n"
      ],
      "text/plain": [
       "/var/folders/7t/k8q3439j6z3c683j7w00wtm80000gn/T/ipykernel_58430/330735155.py:26: FutureWarning: The behavior of \n",
       "DataFrame concatenation with empty or all-NA entries is deprecated. In a future version, this will no longer \n",
       "exclude empty or all-NA columns when determining the result dtypes. To retain the old behavior, exclude the \n",
       "relevant entries before the concat operation.\n",
       "  results = pd.concat([results, normalized_data]) #.dropna(axis=1, how=\"all\")])\n"
      ]
     },
     "metadata": {},
     "output_type": "display_data"
    },
    {
     "data": {
      "text/html": [
       "<pre style=\"white-space:pre;overflow-x:auto;line-height:normal;font-family:Menlo,'DejaVu Sans Mono',consolas,'Courier New',monospace\">/var/folders/7t/k8q3439j6z3c683j7w00wtm80000gn/T/ipykernel_58430/330735155.py:26: FutureWarning: The behavior of \n",
       "DataFrame concatenation with empty or all-NA entries is deprecated. In a future version, this will no longer \n",
       "exclude empty or all-NA columns when determining the result dtypes. To retain the old behavior, exclude the \n",
       "relevant entries before the concat operation.\n",
       "  results = pd.concat([results, normalized_data]) #.dropna(axis=1, how=\"all\")])\n",
       "</pre>\n"
      ],
      "text/plain": [
       "/var/folders/7t/k8q3439j6z3c683j7w00wtm80000gn/T/ipykernel_58430/330735155.py:26: FutureWarning: The behavior of \n",
       "DataFrame concatenation with empty or all-NA entries is deprecated. In a future version, this will no longer \n",
       "exclude empty or all-NA columns when determining the result dtypes. To retain the old behavior, exclude the \n",
       "relevant entries before the concat operation.\n",
       "  results = pd.concat([results, normalized_data]) #.dropna(axis=1, how=\"all\")])\n"
      ]
     },
     "metadata": {},
     "output_type": "display_data"
    },
    {
     "data": {
      "text/html": [
       "<pre style=\"white-space:pre;overflow-x:auto;line-height:normal;font-family:Menlo,'DejaVu Sans Mono',consolas,'Courier New',monospace\">/var/folders/7t/k8q3439j6z3c683j7w00wtm80000gn/T/ipykernel_58430/330735155.py:26: FutureWarning: The behavior of \n",
       "DataFrame concatenation with empty or all-NA entries is deprecated. In a future version, this will no longer \n",
       "exclude empty or all-NA columns when determining the result dtypes. To retain the old behavior, exclude the \n",
       "relevant entries before the concat operation.\n",
       "  results = pd.concat([results, normalized_data]) #.dropna(axis=1, how=\"all\")])\n",
       "</pre>\n"
      ],
      "text/plain": [
       "/var/folders/7t/k8q3439j6z3c683j7w00wtm80000gn/T/ipykernel_58430/330735155.py:26: FutureWarning: The behavior of \n",
       "DataFrame concatenation with empty or all-NA entries is deprecated. In a future version, this will no longer \n",
       "exclude empty or all-NA columns when determining the result dtypes. To retain the old behavior, exclude the \n",
       "relevant entries before the concat operation.\n",
       "  results = pd.concat([results, normalized_data]) #.dropna(axis=1, how=\"all\")])\n"
      ]
     },
     "metadata": {},
     "output_type": "display_data"
    },
    {
     "data": {
      "text/html": [
       "<pre style=\"white-space:pre;overflow-x:auto;line-height:normal;font-family:Menlo,'DejaVu Sans Mono',consolas,'Courier New',monospace\">/var/folders/7t/k8q3439j6z3c683j7w00wtm80000gn/T/ipykernel_58430/330735155.py:26: FutureWarning: The behavior of \n",
       "DataFrame concatenation with empty or all-NA entries is deprecated. In a future version, this will no longer \n",
       "exclude empty or all-NA columns when determining the result dtypes. To retain the old behavior, exclude the \n",
       "relevant entries before the concat operation.\n",
       "  results = pd.concat([results, normalized_data]) #.dropna(axis=1, how=\"all\")])\n",
       "</pre>\n"
      ],
      "text/plain": [
       "/var/folders/7t/k8q3439j6z3c683j7w00wtm80000gn/T/ipykernel_58430/330735155.py:26: FutureWarning: The behavior of \n",
       "DataFrame concatenation with empty or all-NA entries is deprecated. In a future version, this will no longer \n",
       "exclude empty or all-NA columns when determining the result dtypes. To retain the old behavior, exclude the \n",
       "relevant entries before the concat operation.\n",
       "  results = pd.concat([results, normalized_data]) #.dropna(axis=1, how=\"all\")])\n"
      ]
     },
     "metadata": {},
     "output_type": "display_data"
    },
    {
     "data": {
      "text/html": [
       "<pre style=\"white-space:pre;overflow-x:auto;line-height:normal;font-family:Menlo,'DejaVu Sans Mono',consolas,'Courier New',monospace\">/var/folders/7t/k8q3439j6z3c683j7w00wtm80000gn/T/ipykernel_58430/330735155.py:26: FutureWarning: The behavior of \n",
       "DataFrame concatenation with empty or all-NA entries is deprecated. In a future version, this will no longer \n",
       "exclude empty or all-NA columns when determining the result dtypes. To retain the old behavior, exclude the \n",
       "relevant entries before the concat operation.\n",
       "  results = pd.concat([results, normalized_data]) #.dropna(axis=1, how=\"all\")])\n",
       "</pre>\n"
      ],
      "text/plain": [
       "/var/folders/7t/k8q3439j6z3c683j7w00wtm80000gn/T/ipykernel_58430/330735155.py:26: FutureWarning: The behavior of \n",
       "DataFrame concatenation with empty or all-NA entries is deprecated. In a future version, this will no longer \n",
       "exclude empty or all-NA columns when determining the result dtypes. To retain the old behavior, exclude the \n",
       "relevant entries before the concat operation.\n",
       "  results = pd.concat([results, normalized_data]) #.dropna(axis=1, how=\"all\")])\n"
      ]
     },
     "metadata": {},
     "output_type": "display_data"
    },
    {
     "data": {
      "text/html": [
       "<pre style=\"white-space:pre;overflow-x:auto;line-height:normal;font-family:Menlo,'DejaVu Sans Mono',consolas,'Courier New',monospace\">/var/folders/7t/k8q3439j6z3c683j7w00wtm80000gn/T/ipykernel_58430/330735155.py:26: FutureWarning: The behavior of \n",
       "DataFrame concatenation with empty or all-NA entries is deprecated. In a future version, this will no longer \n",
       "exclude empty or all-NA columns when determining the result dtypes. To retain the old behavior, exclude the \n",
       "relevant entries before the concat operation.\n",
       "  results = pd.concat([results, normalized_data]) #.dropna(axis=1, how=\"all\")])\n",
       "</pre>\n"
      ],
      "text/plain": [
       "/var/folders/7t/k8q3439j6z3c683j7w00wtm80000gn/T/ipykernel_58430/330735155.py:26: FutureWarning: The behavior of \n",
       "DataFrame concatenation with empty or all-NA entries is deprecated. In a future version, this will no longer \n",
       "exclude empty or all-NA columns when determining the result dtypes. To retain the old behavior, exclude the \n",
       "relevant entries before the concat operation.\n",
       "  results = pd.concat([results, normalized_data]) #.dropna(axis=1, how=\"all\")])\n"
      ]
     },
     "metadata": {},
     "output_type": "display_data"
    },
    {
     "data": {
      "text/html": [
       "<pre style=\"white-space:pre;overflow-x:auto;line-height:normal;font-family:Menlo,'DejaVu Sans Mono',consolas,'Courier New',monospace\">/var/folders/7t/k8q3439j6z3c683j7w00wtm80000gn/T/ipykernel_58430/330735155.py:26: FutureWarning: The behavior of \n",
       "DataFrame concatenation with empty or all-NA entries is deprecated. In a future version, this will no longer \n",
       "exclude empty or all-NA columns when determining the result dtypes. To retain the old behavior, exclude the \n",
       "relevant entries before the concat operation.\n",
       "  results = pd.concat([results, normalized_data]) #.dropna(axis=1, how=\"all\")])\n",
       "</pre>\n"
      ],
      "text/plain": [
       "/var/folders/7t/k8q3439j6z3c683j7w00wtm80000gn/T/ipykernel_58430/330735155.py:26: FutureWarning: The behavior of \n",
       "DataFrame concatenation with empty or all-NA entries is deprecated. In a future version, this will no longer \n",
       "exclude empty or all-NA columns when determining the result dtypes. To retain the old behavior, exclude the \n",
       "relevant entries before the concat operation.\n",
       "  results = pd.concat([results, normalized_data]) #.dropna(axis=1, how=\"all\")])\n"
      ]
     },
     "metadata": {},
     "output_type": "display_data"
    },
    {
     "data": {
      "text/html": [
       "<pre style=\"white-space:pre;overflow-x:auto;line-height:normal;font-family:Menlo,'DejaVu Sans Mono',consolas,'Courier New',monospace\">/var/folders/7t/k8q3439j6z3c683j7w00wtm80000gn/T/ipykernel_58430/330735155.py:26: FutureWarning: The behavior of \n",
       "DataFrame concatenation with empty or all-NA entries is deprecated. In a future version, this will no longer \n",
       "exclude empty or all-NA columns when determining the result dtypes. To retain the old behavior, exclude the \n",
       "relevant entries before the concat operation.\n",
       "  results = pd.concat([results, normalized_data]) #.dropna(axis=1, how=\"all\")])\n",
       "</pre>\n"
      ],
      "text/plain": [
       "/var/folders/7t/k8q3439j6z3c683j7w00wtm80000gn/T/ipykernel_58430/330735155.py:26: FutureWarning: The behavior of \n",
       "DataFrame concatenation with empty or all-NA entries is deprecated. In a future version, this will no longer \n",
       "exclude empty or all-NA columns when determining the result dtypes. To retain the old behavior, exclude the \n",
       "relevant entries before the concat operation.\n",
       "  results = pd.concat([results, normalized_data]) #.dropna(axis=1, how=\"all\")])\n"
      ]
     },
     "metadata": {},
     "output_type": "display_data"
    },
    {
     "data": {
      "text/html": [
       "<pre style=\"white-space:pre;overflow-x:auto;line-height:normal;font-family:Menlo,'DejaVu Sans Mono',consolas,'Courier New',monospace\">/var/folders/7t/k8q3439j6z3c683j7w00wtm80000gn/T/ipykernel_58430/330735155.py:26: FutureWarning: The behavior of \n",
       "DataFrame concatenation with empty or all-NA entries is deprecated. In a future version, this will no longer \n",
       "exclude empty or all-NA columns when determining the result dtypes. To retain the old behavior, exclude the \n",
       "relevant entries before the concat operation.\n",
       "  results = pd.concat([results, normalized_data]) #.dropna(axis=1, how=\"all\")])\n",
       "</pre>\n"
      ],
      "text/plain": [
       "/var/folders/7t/k8q3439j6z3c683j7w00wtm80000gn/T/ipykernel_58430/330735155.py:26: FutureWarning: The behavior of \n",
       "DataFrame concatenation with empty or all-NA entries is deprecated. In a future version, this will no longer \n",
       "exclude empty or all-NA columns when determining the result dtypes. To retain the old behavior, exclude the \n",
       "relevant entries before the concat operation.\n",
       "  results = pd.concat([results, normalized_data]) #.dropna(axis=1, how=\"all\")])\n"
      ]
     },
     "metadata": {},
     "output_type": "display_data"
    },
    {
     "data": {
      "text/html": [
       "<pre style=\"white-space:pre;overflow-x:auto;line-height:normal;font-family:Menlo,'DejaVu Sans Mono',consolas,'Courier New',monospace\">/var/folders/7t/k8q3439j6z3c683j7w00wtm80000gn/T/ipykernel_58430/330735155.py:26: FutureWarning: The behavior of \n",
       "DataFrame concatenation with empty or all-NA entries is deprecated. In a future version, this will no longer \n",
       "exclude empty or all-NA columns when determining the result dtypes. To retain the old behavior, exclude the \n",
       "relevant entries before the concat operation.\n",
       "  results = pd.concat([results, normalized_data]) #.dropna(axis=1, how=\"all\")])\n",
       "</pre>\n"
      ],
      "text/plain": [
       "/var/folders/7t/k8q3439j6z3c683j7w00wtm80000gn/T/ipykernel_58430/330735155.py:26: FutureWarning: The behavior of \n",
       "DataFrame concatenation with empty or all-NA entries is deprecated. In a future version, this will no longer \n",
       "exclude empty or all-NA columns when determining the result dtypes. To retain the old behavior, exclude the \n",
       "relevant entries before the concat operation.\n",
       "  results = pd.concat([results, normalized_data]) #.dropna(axis=1, how=\"all\")])\n"
      ]
     },
     "metadata": {},
     "output_type": "display_data"
    },
    {
     "data": {
      "text/html": [
       "<pre style=\"white-space:pre;overflow-x:auto;line-height:normal;font-family:Menlo,'DejaVu Sans Mono',consolas,'Courier New',monospace\">/var/folders/7t/k8q3439j6z3c683j7w00wtm80000gn/T/ipykernel_58430/330735155.py:26: FutureWarning: The behavior of \n",
       "DataFrame concatenation with empty or all-NA entries is deprecated. In a future version, this will no longer \n",
       "exclude empty or all-NA columns when determining the result dtypes. To retain the old behavior, exclude the \n",
       "relevant entries before the concat operation.\n",
       "  results = pd.concat([results, normalized_data]) #.dropna(axis=1, how=\"all\")])\n",
       "</pre>\n"
      ],
      "text/plain": [
       "/var/folders/7t/k8q3439j6z3c683j7w00wtm80000gn/T/ipykernel_58430/330735155.py:26: FutureWarning: The behavior of \n",
       "DataFrame concatenation with empty or all-NA entries is deprecated. In a future version, this will no longer \n",
       "exclude empty or all-NA columns when determining the result dtypes. To retain the old behavior, exclude the \n",
       "relevant entries before the concat operation.\n",
       "  results = pd.concat([results, normalized_data]) #.dropna(axis=1, how=\"all\")])\n"
      ]
     },
     "metadata": {},
     "output_type": "display_data"
    },
    {
     "data": {
      "text/html": [
       "<pre style=\"white-space:pre;overflow-x:auto;line-height:normal;font-family:Menlo,'DejaVu Sans Mono',consolas,'Courier New',monospace\">/var/folders/7t/k8q3439j6z3c683j7w00wtm80000gn/T/ipykernel_58430/330735155.py:26: FutureWarning: The behavior of \n",
       "DataFrame concatenation with empty or all-NA entries is deprecated. In a future version, this will no longer \n",
       "exclude empty or all-NA columns when determining the result dtypes. To retain the old behavior, exclude the \n",
       "relevant entries before the concat operation.\n",
       "  results = pd.concat([results, normalized_data]) #.dropna(axis=1, how=\"all\")])\n",
       "</pre>\n"
      ],
      "text/plain": [
       "/var/folders/7t/k8q3439j6z3c683j7w00wtm80000gn/T/ipykernel_58430/330735155.py:26: FutureWarning: The behavior of \n",
       "DataFrame concatenation with empty or all-NA entries is deprecated. In a future version, this will no longer \n",
       "exclude empty or all-NA columns when determining the result dtypes. To retain the old behavior, exclude the \n",
       "relevant entries before the concat operation.\n",
       "  results = pd.concat([results, normalized_data]) #.dropna(axis=1, how=\"all\")])\n"
      ]
     },
     "metadata": {},
     "output_type": "display_data"
    },
    {
     "data": {
      "text/html": [
       "<pre style=\"white-space:pre;overflow-x:auto;line-height:normal;font-family:Menlo,'DejaVu Sans Mono',consolas,'Courier New',monospace\">/var/folders/7t/k8q3439j6z3c683j7w00wtm80000gn/T/ipykernel_58430/330735155.py:26: FutureWarning: The behavior of \n",
       "DataFrame concatenation with empty or all-NA entries is deprecated. In a future version, this will no longer \n",
       "exclude empty or all-NA columns when determining the result dtypes. To retain the old behavior, exclude the \n",
       "relevant entries before the concat operation.\n",
       "  results = pd.concat([results, normalized_data]) #.dropna(axis=1, how=\"all\")])\n",
       "</pre>\n"
      ],
      "text/plain": [
       "/var/folders/7t/k8q3439j6z3c683j7w00wtm80000gn/T/ipykernel_58430/330735155.py:26: FutureWarning: The behavior of \n",
       "DataFrame concatenation with empty or all-NA entries is deprecated. In a future version, this will no longer \n",
       "exclude empty or all-NA columns when determining the result dtypes. To retain the old behavior, exclude the \n",
       "relevant entries before the concat operation.\n",
       "  results = pd.concat([results, normalized_data]) #.dropna(axis=1, how=\"all\")])\n"
      ]
     },
     "metadata": {},
     "output_type": "display_data"
    },
    {
     "data": {
      "text/html": [
       "<pre style=\"white-space:pre;overflow-x:auto;line-height:normal;font-family:Menlo,'DejaVu Sans Mono',consolas,'Courier New',monospace\">/var/folders/7t/k8q3439j6z3c683j7w00wtm80000gn/T/ipykernel_58430/330735155.py:26: FutureWarning: The behavior of \n",
       "DataFrame concatenation with empty or all-NA entries is deprecated. In a future version, this will no longer \n",
       "exclude empty or all-NA columns when determining the result dtypes. To retain the old behavior, exclude the \n",
       "relevant entries before the concat operation.\n",
       "  results = pd.concat([results, normalized_data]) #.dropna(axis=1, how=\"all\")])\n",
       "</pre>\n"
      ],
      "text/plain": [
       "/var/folders/7t/k8q3439j6z3c683j7w00wtm80000gn/T/ipykernel_58430/330735155.py:26: FutureWarning: The behavior of \n",
       "DataFrame concatenation with empty or all-NA entries is deprecated. In a future version, this will no longer \n",
       "exclude empty or all-NA columns when determining the result dtypes. To retain the old behavior, exclude the \n",
       "relevant entries before the concat operation.\n",
       "  results = pd.concat([results, normalized_data]) #.dropna(axis=1, how=\"all\")])\n"
      ]
     },
     "metadata": {},
     "output_type": "display_data"
    },
    {
     "data": {
      "text/html": [
       "<pre style=\"white-space:pre;overflow-x:auto;line-height:normal;font-family:Menlo,'DejaVu Sans Mono',consolas,'Courier New',monospace\">/var/folders/7t/k8q3439j6z3c683j7w00wtm80000gn/T/ipykernel_58430/330735155.py:26: FutureWarning: The behavior of \n",
       "DataFrame concatenation with empty or all-NA entries is deprecated. In a future version, this will no longer \n",
       "exclude empty or all-NA columns when determining the result dtypes. To retain the old behavior, exclude the \n",
       "relevant entries before the concat operation.\n",
       "  results = pd.concat([results, normalized_data]) #.dropna(axis=1, how=\"all\")])\n",
       "</pre>\n"
      ],
      "text/plain": [
       "/var/folders/7t/k8q3439j6z3c683j7w00wtm80000gn/T/ipykernel_58430/330735155.py:26: FutureWarning: The behavior of \n",
       "DataFrame concatenation with empty or all-NA entries is deprecated. In a future version, this will no longer \n",
       "exclude empty or all-NA columns when determining the result dtypes. To retain the old behavior, exclude the \n",
       "relevant entries before the concat operation.\n",
       "  results = pd.concat([results, normalized_data]) #.dropna(axis=1, how=\"all\")])\n"
      ]
     },
     "metadata": {},
     "output_type": "display_data"
    },
    {
     "data": {
      "text/html": [
       "<pre style=\"white-space:pre;overflow-x:auto;line-height:normal;font-family:Menlo,'DejaVu Sans Mono',consolas,'Courier New',monospace\">/var/folders/7t/k8q3439j6z3c683j7w00wtm80000gn/T/ipykernel_58430/330735155.py:26: FutureWarning: The behavior of \n",
       "DataFrame concatenation with empty or all-NA entries is deprecated. In a future version, this will no longer \n",
       "exclude empty or all-NA columns when determining the result dtypes. To retain the old behavior, exclude the \n",
       "relevant entries before the concat operation.\n",
       "  results = pd.concat([results, normalized_data]) #.dropna(axis=1, how=\"all\")])\n",
       "</pre>\n"
      ],
      "text/plain": [
       "/var/folders/7t/k8q3439j6z3c683j7w00wtm80000gn/T/ipykernel_58430/330735155.py:26: FutureWarning: The behavior of \n",
       "DataFrame concatenation with empty or all-NA entries is deprecated. In a future version, this will no longer \n",
       "exclude empty or all-NA columns when determining the result dtypes. To retain the old behavior, exclude the \n",
       "relevant entries before the concat operation.\n",
       "  results = pd.concat([results, normalized_data]) #.dropna(axis=1, how=\"all\")])\n"
      ]
     },
     "metadata": {},
     "output_type": "display_data"
    },
    {
     "data": {
      "text/html": [
       "<pre style=\"white-space:pre;overflow-x:auto;line-height:normal;font-family:Menlo,'DejaVu Sans Mono',consolas,'Courier New',monospace\">/var/folders/7t/k8q3439j6z3c683j7w00wtm80000gn/T/ipykernel_58430/330735155.py:26: FutureWarning: The behavior of \n",
       "DataFrame concatenation with empty or all-NA entries is deprecated. In a future version, this will no longer \n",
       "exclude empty or all-NA columns when determining the result dtypes. To retain the old behavior, exclude the \n",
       "relevant entries before the concat operation.\n",
       "  results = pd.concat([results, normalized_data]) #.dropna(axis=1, how=\"all\")])\n",
       "</pre>\n"
      ],
      "text/plain": [
       "/var/folders/7t/k8q3439j6z3c683j7w00wtm80000gn/T/ipykernel_58430/330735155.py:26: FutureWarning: The behavior of \n",
       "DataFrame concatenation with empty or all-NA entries is deprecated. In a future version, this will no longer \n",
       "exclude empty or all-NA columns when determining the result dtypes. To retain the old behavior, exclude the \n",
       "relevant entries before the concat operation.\n",
       "  results = pd.concat([results, normalized_data]) #.dropna(axis=1, how=\"all\")])\n"
      ]
     },
     "metadata": {},
     "output_type": "display_data"
    },
    {
     "data": {
      "text/html": [
       "<pre style=\"white-space:pre;overflow-x:auto;line-height:normal;font-family:Menlo,'DejaVu Sans Mono',consolas,'Courier New',monospace\">/var/folders/7t/k8q3439j6z3c683j7w00wtm80000gn/T/ipykernel_58430/330735155.py:26: FutureWarning: The behavior of \n",
       "DataFrame concatenation with empty or all-NA entries is deprecated. In a future version, this will no longer \n",
       "exclude empty or all-NA columns when determining the result dtypes. To retain the old behavior, exclude the \n",
       "relevant entries before the concat operation.\n",
       "  results = pd.concat([results, normalized_data]) #.dropna(axis=1, how=\"all\")])\n",
       "</pre>\n"
      ],
      "text/plain": [
       "/var/folders/7t/k8q3439j6z3c683j7w00wtm80000gn/T/ipykernel_58430/330735155.py:26: FutureWarning: The behavior of \n",
       "DataFrame concatenation with empty or all-NA entries is deprecated. In a future version, this will no longer \n",
       "exclude empty or all-NA columns when determining the result dtypes. To retain the old behavior, exclude the \n",
       "relevant entries before the concat operation.\n",
       "  results = pd.concat([results, normalized_data]) #.dropna(axis=1, how=\"all\")])\n"
      ]
     },
     "metadata": {},
     "output_type": "display_data"
    },
    {
     "data": {
      "text/html": [
       "<pre style=\"white-space:pre;overflow-x:auto;line-height:normal;font-family:Menlo,'DejaVu Sans Mono',consolas,'Courier New',monospace\">/var/folders/7t/k8q3439j6z3c683j7w00wtm80000gn/T/ipykernel_58430/330735155.py:26: FutureWarning: The behavior of \n",
       "DataFrame concatenation with empty or all-NA entries is deprecated. In a future version, this will no longer \n",
       "exclude empty or all-NA columns when determining the result dtypes. To retain the old behavior, exclude the \n",
       "relevant entries before the concat operation.\n",
       "  results = pd.concat([results, normalized_data]) #.dropna(axis=1, how=\"all\")])\n",
       "</pre>\n"
      ],
      "text/plain": [
       "/var/folders/7t/k8q3439j6z3c683j7w00wtm80000gn/T/ipykernel_58430/330735155.py:26: FutureWarning: The behavior of \n",
       "DataFrame concatenation with empty or all-NA entries is deprecated. In a future version, this will no longer \n",
       "exclude empty or all-NA columns when determining the result dtypes. To retain the old behavior, exclude the \n",
       "relevant entries before the concat operation.\n",
       "  results = pd.concat([results, normalized_data]) #.dropna(axis=1, how=\"all\")])\n"
      ]
     },
     "metadata": {},
     "output_type": "display_data"
    },
    {
     "data": {
      "text/html": [
       "<pre style=\"white-space:pre;overflow-x:auto;line-height:normal;font-family:Menlo,'DejaVu Sans Mono',consolas,'Courier New',monospace\">/var/folders/7t/k8q3439j6z3c683j7w00wtm80000gn/T/ipykernel_58430/330735155.py:26: FutureWarning: The behavior of \n",
       "DataFrame concatenation with empty or all-NA entries is deprecated. In a future version, this will no longer \n",
       "exclude empty or all-NA columns when determining the result dtypes. To retain the old behavior, exclude the \n",
       "relevant entries before the concat operation.\n",
       "  results = pd.concat([results, normalized_data]) #.dropna(axis=1, how=\"all\")])\n",
       "</pre>\n"
      ],
      "text/plain": [
       "/var/folders/7t/k8q3439j6z3c683j7w00wtm80000gn/T/ipykernel_58430/330735155.py:26: FutureWarning: The behavior of \n",
       "DataFrame concatenation with empty or all-NA entries is deprecated. In a future version, this will no longer \n",
       "exclude empty or all-NA columns when determining the result dtypes. To retain the old behavior, exclude the \n",
       "relevant entries before the concat operation.\n",
       "  results = pd.concat([results, normalized_data]) #.dropna(axis=1, how=\"all\")])\n"
      ]
     },
     "metadata": {},
     "output_type": "display_data"
    },
    {
     "data": {
      "text/html": [
       "<pre style=\"white-space:pre;overflow-x:auto;line-height:normal;font-family:Menlo,'DejaVu Sans Mono',consolas,'Courier New',monospace\">/var/folders/7t/k8q3439j6z3c683j7w00wtm80000gn/T/ipykernel_58430/330735155.py:26: FutureWarning: The behavior of \n",
       "DataFrame concatenation with empty or all-NA entries is deprecated. In a future version, this will no longer \n",
       "exclude empty or all-NA columns when determining the result dtypes. To retain the old behavior, exclude the \n",
       "relevant entries before the concat operation.\n",
       "  results = pd.concat([results, normalized_data]) #.dropna(axis=1, how=\"all\")])\n",
       "</pre>\n"
      ],
      "text/plain": [
       "/var/folders/7t/k8q3439j6z3c683j7w00wtm80000gn/T/ipykernel_58430/330735155.py:26: FutureWarning: The behavior of \n",
       "DataFrame concatenation with empty or all-NA entries is deprecated. In a future version, this will no longer \n",
       "exclude empty or all-NA columns when determining the result dtypes. To retain the old behavior, exclude the \n",
       "relevant entries before the concat operation.\n",
       "  results = pd.concat([results, normalized_data]) #.dropna(axis=1, how=\"all\")])\n"
      ]
     },
     "metadata": {},
     "output_type": "display_data"
    },
    {
     "data": {
      "text/html": [
       "<pre style=\"white-space:pre;overflow-x:auto;line-height:normal;font-family:Menlo,'DejaVu Sans Mono',consolas,'Courier New',monospace\">/var/folders/7t/k8q3439j6z3c683j7w00wtm80000gn/T/ipykernel_58430/330735155.py:26: FutureWarning: The behavior of \n",
       "DataFrame concatenation with empty or all-NA entries is deprecated. In a future version, this will no longer \n",
       "exclude empty or all-NA columns when determining the result dtypes. To retain the old behavior, exclude the \n",
       "relevant entries before the concat operation.\n",
       "  results = pd.concat([results, normalized_data]) #.dropna(axis=1, how=\"all\")])\n",
       "</pre>\n"
      ],
      "text/plain": [
       "/var/folders/7t/k8q3439j6z3c683j7w00wtm80000gn/T/ipykernel_58430/330735155.py:26: FutureWarning: The behavior of \n",
       "DataFrame concatenation with empty or all-NA entries is deprecated. In a future version, this will no longer \n",
       "exclude empty or all-NA columns when determining the result dtypes. To retain the old behavior, exclude the \n",
       "relevant entries before the concat operation.\n",
       "  results = pd.concat([results, normalized_data]) #.dropna(axis=1, how=\"all\")])\n"
      ]
     },
     "metadata": {},
     "output_type": "display_data"
    },
    {
     "data": {
      "text/html": [
       "<pre style=\"white-space:pre;overflow-x:auto;line-height:normal;font-family:Menlo,'DejaVu Sans Mono',consolas,'Courier New',monospace\">/var/folders/7t/k8q3439j6z3c683j7w00wtm80000gn/T/ipykernel_58430/330735155.py:26: FutureWarning: The behavior of \n",
       "DataFrame concatenation with empty or all-NA entries is deprecated. In a future version, this will no longer \n",
       "exclude empty or all-NA columns when determining the result dtypes. To retain the old behavior, exclude the \n",
       "relevant entries before the concat operation.\n",
       "  results = pd.concat([results, normalized_data]) #.dropna(axis=1, how=\"all\")])\n",
       "</pre>\n"
      ],
      "text/plain": [
       "/var/folders/7t/k8q3439j6z3c683j7w00wtm80000gn/T/ipykernel_58430/330735155.py:26: FutureWarning: The behavior of \n",
       "DataFrame concatenation with empty or all-NA entries is deprecated. In a future version, this will no longer \n",
       "exclude empty or all-NA columns when determining the result dtypes. To retain the old behavior, exclude the \n",
       "relevant entries before the concat operation.\n",
       "  results = pd.concat([results, normalized_data]) #.dropna(axis=1, how=\"all\")])\n"
      ]
     },
     "metadata": {},
     "output_type": "display_data"
    },
    {
     "data": {
      "text/html": [
       "<pre style=\"white-space:pre;overflow-x:auto;line-height:normal;font-family:Menlo,'DejaVu Sans Mono',consolas,'Courier New',monospace\">/var/folders/7t/k8q3439j6z3c683j7w00wtm80000gn/T/ipykernel_58430/330735155.py:26: FutureWarning: The behavior of \n",
       "DataFrame concatenation with empty or all-NA entries is deprecated. In a future version, this will no longer \n",
       "exclude empty or all-NA columns when determining the result dtypes. To retain the old behavior, exclude the \n",
       "relevant entries before the concat operation.\n",
       "  results = pd.concat([results, normalized_data]) #.dropna(axis=1, how=\"all\")])\n",
       "</pre>\n"
      ],
      "text/plain": [
       "/var/folders/7t/k8q3439j6z3c683j7w00wtm80000gn/T/ipykernel_58430/330735155.py:26: FutureWarning: The behavior of \n",
       "DataFrame concatenation with empty or all-NA entries is deprecated. In a future version, this will no longer \n",
       "exclude empty or all-NA columns when determining the result dtypes. To retain the old behavior, exclude the \n",
       "relevant entries before the concat operation.\n",
       "  results = pd.concat([results, normalized_data]) #.dropna(axis=1, how=\"all\")])\n"
      ]
     },
     "metadata": {},
     "output_type": "display_data"
    },
    {
     "data": {
      "text/html": [
       "<pre style=\"white-space:pre;overflow-x:auto;line-height:normal;font-family:Menlo,'DejaVu Sans Mono',consolas,'Courier New',monospace\">/var/folders/7t/k8q3439j6z3c683j7w00wtm80000gn/T/ipykernel_58430/330735155.py:26: FutureWarning: The behavior of \n",
       "DataFrame concatenation with empty or all-NA entries is deprecated. In a future version, this will no longer \n",
       "exclude empty or all-NA columns when determining the result dtypes. To retain the old behavior, exclude the \n",
       "relevant entries before the concat operation.\n",
       "  results = pd.concat([results, normalized_data]) #.dropna(axis=1, how=\"all\")])\n",
       "</pre>\n"
      ],
      "text/plain": [
       "/var/folders/7t/k8q3439j6z3c683j7w00wtm80000gn/T/ipykernel_58430/330735155.py:26: FutureWarning: The behavior of \n",
       "DataFrame concatenation with empty or all-NA entries is deprecated. In a future version, this will no longer \n",
       "exclude empty or all-NA columns when determining the result dtypes. To retain the old behavior, exclude the \n",
       "relevant entries before the concat operation.\n",
       "  results = pd.concat([results, normalized_data]) #.dropna(axis=1, how=\"all\")])\n"
      ]
     },
     "metadata": {},
     "output_type": "display_data"
    },
    {
     "data": {
      "text/html": [
       "<pre style=\"white-space:pre;overflow-x:auto;line-height:normal;font-family:Menlo,'DejaVu Sans Mono',consolas,'Courier New',monospace\">/var/folders/7t/k8q3439j6z3c683j7w00wtm80000gn/T/ipykernel_58430/330735155.py:26: FutureWarning: The behavior of \n",
       "DataFrame concatenation with empty or all-NA entries is deprecated. In a future version, this will no longer \n",
       "exclude empty or all-NA columns when determining the result dtypes. To retain the old behavior, exclude the \n",
       "relevant entries before the concat operation.\n",
       "  results = pd.concat([results, normalized_data]) #.dropna(axis=1, how=\"all\")])\n",
       "</pre>\n"
      ],
      "text/plain": [
       "/var/folders/7t/k8q3439j6z3c683j7w00wtm80000gn/T/ipykernel_58430/330735155.py:26: FutureWarning: The behavior of \n",
       "DataFrame concatenation with empty or all-NA entries is deprecated. In a future version, this will no longer \n",
       "exclude empty or all-NA columns when determining the result dtypes. To retain the old behavior, exclude the \n",
       "relevant entries before the concat operation.\n",
       "  results = pd.concat([results, normalized_data]) #.dropna(axis=1, how=\"all\")])\n"
      ]
     },
     "metadata": {},
     "output_type": "display_data"
    },
    {
     "data": {
      "text/html": [
       "<pre style=\"white-space:pre;overflow-x:auto;line-height:normal;font-family:Menlo,'DejaVu Sans Mono',consolas,'Courier New',monospace\">/var/folders/7t/k8q3439j6z3c683j7w00wtm80000gn/T/ipykernel_58430/330735155.py:26: FutureWarning: The behavior of \n",
       "DataFrame concatenation with empty or all-NA entries is deprecated. In a future version, this will no longer \n",
       "exclude empty or all-NA columns when determining the result dtypes. To retain the old behavior, exclude the \n",
       "relevant entries before the concat operation.\n",
       "  results = pd.concat([results, normalized_data]) #.dropna(axis=1, how=\"all\")])\n",
       "</pre>\n"
      ],
      "text/plain": [
       "/var/folders/7t/k8q3439j6z3c683j7w00wtm80000gn/T/ipykernel_58430/330735155.py:26: FutureWarning: The behavior of \n",
       "DataFrame concatenation with empty or all-NA entries is deprecated. In a future version, this will no longer \n",
       "exclude empty or all-NA columns when determining the result dtypes. To retain the old behavior, exclude the \n",
       "relevant entries before the concat operation.\n",
       "  results = pd.concat([results, normalized_data]) #.dropna(axis=1, how=\"all\")])\n"
      ]
     },
     "metadata": {},
     "output_type": "display_data"
    },
    {
     "data": {
      "text/html": [
       "<pre style=\"white-space:pre;overflow-x:auto;line-height:normal;font-family:Menlo,'DejaVu Sans Mono',consolas,'Courier New',monospace\">/var/folders/7t/k8q3439j6z3c683j7w00wtm80000gn/T/ipykernel_58430/330735155.py:26: FutureWarning: The behavior of \n",
       "DataFrame concatenation with empty or all-NA entries is deprecated. In a future version, this will no longer \n",
       "exclude empty or all-NA columns when determining the result dtypes. To retain the old behavior, exclude the \n",
       "relevant entries before the concat operation.\n",
       "  results = pd.concat([results, normalized_data]) #.dropna(axis=1, how=\"all\")])\n",
       "</pre>\n"
      ],
      "text/plain": [
       "/var/folders/7t/k8q3439j6z3c683j7w00wtm80000gn/T/ipykernel_58430/330735155.py:26: FutureWarning: The behavior of \n",
       "DataFrame concatenation with empty or all-NA entries is deprecated. In a future version, this will no longer \n",
       "exclude empty or all-NA columns when determining the result dtypes. To retain the old behavior, exclude the \n",
       "relevant entries before the concat operation.\n",
       "  results = pd.concat([results, normalized_data]) #.dropna(axis=1, how=\"all\")])\n"
      ]
     },
     "metadata": {},
     "output_type": "display_data"
    },
    {
     "data": {
      "text/html": [
       "<pre style=\"white-space:pre;overflow-x:auto;line-height:normal;font-family:Menlo,'DejaVu Sans Mono',consolas,'Courier New',monospace\">/var/folders/7t/k8q3439j6z3c683j7w00wtm80000gn/T/ipykernel_58430/330735155.py:26: FutureWarning: The behavior of \n",
       "DataFrame concatenation with empty or all-NA entries is deprecated. In a future version, this will no longer \n",
       "exclude empty or all-NA columns when determining the result dtypes. To retain the old behavior, exclude the \n",
       "relevant entries before the concat operation.\n",
       "  results = pd.concat([results, normalized_data]) #.dropna(axis=1, how=\"all\")])\n",
       "</pre>\n"
      ],
      "text/plain": [
       "/var/folders/7t/k8q3439j6z3c683j7w00wtm80000gn/T/ipykernel_58430/330735155.py:26: FutureWarning: The behavior of \n",
       "DataFrame concatenation with empty or all-NA entries is deprecated. In a future version, this will no longer \n",
       "exclude empty or all-NA columns when determining the result dtypes. To retain the old behavior, exclude the \n",
       "relevant entries before the concat operation.\n",
       "  results = pd.concat([results, normalized_data]) #.dropna(axis=1, how=\"all\")])\n"
      ]
     },
     "metadata": {},
     "output_type": "display_data"
    },
    {
     "data": {
      "text/html": [
       "<pre style=\"white-space:pre;overflow-x:auto;line-height:normal;font-family:Menlo,'DejaVu Sans Mono',consolas,'Courier New',monospace\">/var/folders/7t/k8q3439j6z3c683j7w00wtm80000gn/T/ipykernel_58430/330735155.py:26: FutureWarning: The behavior of \n",
       "DataFrame concatenation with empty or all-NA entries is deprecated. In a future version, this will no longer \n",
       "exclude empty or all-NA columns when determining the result dtypes. To retain the old behavior, exclude the \n",
       "relevant entries before the concat operation.\n",
       "  results = pd.concat([results, normalized_data]) #.dropna(axis=1, how=\"all\")])\n",
       "</pre>\n"
      ],
      "text/plain": [
       "/var/folders/7t/k8q3439j6z3c683j7w00wtm80000gn/T/ipykernel_58430/330735155.py:26: FutureWarning: The behavior of \n",
       "DataFrame concatenation with empty or all-NA entries is deprecated. In a future version, this will no longer \n",
       "exclude empty or all-NA columns when determining the result dtypes. To retain the old behavior, exclude the \n",
       "relevant entries before the concat operation.\n",
       "  results = pd.concat([results, normalized_data]) #.dropna(axis=1, how=\"all\")])\n"
      ]
     },
     "metadata": {},
     "output_type": "display_data"
    },
    {
     "data": {
      "text/html": [
       "<pre style=\"white-space:pre;overflow-x:auto;line-height:normal;font-family:Menlo,'DejaVu Sans Mono',consolas,'Courier New',monospace\">/var/folders/7t/k8q3439j6z3c683j7w00wtm80000gn/T/ipykernel_58430/330735155.py:26: FutureWarning: The behavior of \n",
       "DataFrame concatenation with empty or all-NA entries is deprecated. In a future version, this will no longer \n",
       "exclude empty or all-NA columns when determining the result dtypes. To retain the old behavior, exclude the \n",
       "relevant entries before the concat operation.\n",
       "  results = pd.concat([results, normalized_data]) #.dropna(axis=1, how=\"all\")])\n",
       "</pre>\n"
      ],
      "text/plain": [
       "/var/folders/7t/k8q3439j6z3c683j7w00wtm80000gn/T/ipykernel_58430/330735155.py:26: FutureWarning: The behavior of \n",
       "DataFrame concatenation with empty or all-NA entries is deprecated. In a future version, this will no longer \n",
       "exclude empty or all-NA columns when determining the result dtypes. To retain the old behavior, exclude the \n",
       "relevant entries before the concat operation.\n",
       "  results = pd.concat([results, normalized_data]) #.dropna(axis=1, how=\"all\")])\n"
      ]
     },
     "metadata": {},
     "output_type": "display_data"
    },
    {
     "data": {
      "text/html": [
       "<pre style=\"white-space:pre;overflow-x:auto;line-height:normal;font-family:Menlo,'DejaVu Sans Mono',consolas,'Courier New',monospace\">/var/folders/7t/k8q3439j6z3c683j7w00wtm80000gn/T/ipykernel_58430/330735155.py:26: FutureWarning: The behavior of \n",
       "DataFrame concatenation with empty or all-NA entries is deprecated. In a future version, this will no longer \n",
       "exclude empty or all-NA columns when determining the result dtypes. To retain the old behavior, exclude the \n",
       "relevant entries before the concat operation.\n",
       "  results = pd.concat([results, normalized_data]) #.dropna(axis=1, how=\"all\")])\n",
       "</pre>\n"
      ],
      "text/plain": [
       "/var/folders/7t/k8q3439j6z3c683j7w00wtm80000gn/T/ipykernel_58430/330735155.py:26: FutureWarning: The behavior of \n",
       "DataFrame concatenation with empty or all-NA entries is deprecated. In a future version, this will no longer \n",
       "exclude empty or all-NA columns when determining the result dtypes. To retain the old behavior, exclude the \n",
       "relevant entries before the concat operation.\n",
       "  results = pd.concat([results, normalized_data]) #.dropna(axis=1, how=\"all\")])\n"
      ]
     },
     "metadata": {},
     "output_type": "display_data"
    },
    {
     "data": {
      "text/html": [
       "<pre style=\"white-space:pre;overflow-x:auto;line-height:normal;font-family:Menlo,'DejaVu Sans Mono',consolas,'Courier New',monospace\">/var/folders/7t/k8q3439j6z3c683j7w00wtm80000gn/T/ipykernel_58430/330735155.py:26: FutureWarning: The behavior of \n",
       "DataFrame concatenation with empty or all-NA entries is deprecated. In a future version, this will no longer \n",
       "exclude empty or all-NA columns when determining the result dtypes. To retain the old behavior, exclude the \n",
       "relevant entries before the concat operation.\n",
       "  results = pd.concat([results, normalized_data]) #.dropna(axis=1, how=\"all\")])\n",
       "</pre>\n"
      ],
      "text/plain": [
       "/var/folders/7t/k8q3439j6z3c683j7w00wtm80000gn/T/ipykernel_58430/330735155.py:26: FutureWarning: The behavior of \n",
       "DataFrame concatenation with empty or all-NA entries is deprecated. In a future version, this will no longer \n",
       "exclude empty or all-NA columns when determining the result dtypes. To retain the old behavior, exclude the \n",
       "relevant entries before the concat operation.\n",
       "  results = pd.concat([results, normalized_data]) #.dropna(axis=1, how=\"all\")])\n"
      ]
     },
     "metadata": {},
     "output_type": "display_data"
    },
    {
     "data": {
      "text/html": [
       "<pre style=\"white-space:pre;overflow-x:auto;line-height:normal;font-family:Menlo,'DejaVu Sans Mono',consolas,'Courier New',monospace\">/var/folders/7t/k8q3439j6z3c683j7w00wtm80000gn/T/ipykernel_58430/330735155.py:26: FutureWarning: The behavior of \n",
       "DataFrame concatenation with empty or all-NA entries is deprecated. In a future version, this will no longer \n",
       "exclude empty or all-NA columns when determining the result dtypes. To retain the old behavior, exclude the \n",
       "relevant entries before the concat operation.\n",
       "  results = pd.concat([results, normalized_data]) #.dropna(axis=1, how=\"all\")])\n",
       "</pre>\n"
      ],
      "text/plain": [
       "/var/folders/7t/k8q3439j6z3c683j7w00wtm80000gn/T/ipykernel_58430/330735155.py:26: FutureWarning: The behavior of \n",
       "DataFrame concatenation with empty or all-NA entries is deprecated. In a future version, this will no longer \n",
       "exclude empty or all-NA columns when determining the result dtypes. To retain the old behavior, exclude the \n",
       "relevant entries before the concat operation.\n",
       "  results = pd.concat([results, normalized_data]) #.dropna(axis=1, how=\"all\")])\n"
      ]
     },
     "metadata": {},
     "output_type": "display_data"
    },
    {
     "data": {
      "text/html": [
       "<pre style=\"white-space:pre;overflow-x:auto;line-height:normal;font-family:Menlo,'DejaVu Sans Mono',consolas,'Courier New',monospace\">/var/folders/7t/k8q3439j6z3c683j7w00wtm80000gn/T/ipykernel_58430/330735155.py:26: FutureWarning: The behavior of \n",
       "DataFrame concatenation with empty or all-NA entries is deprecated. In a future version, this will no longer \n",
       "exclude empty or all-NA columns when determining the result dtypes. To retain the old behavior, exclude the \n",
       "relevant entries before the concat operation.\n",
       "  results = pd.concat([results, normalized_data]) #.dropna(axis=1, how=\"all\")])\n",
       "</pre>\n"
      ],
      "text/plain": [
       "/var/folders/7t/k8q3439j6z3c683j7w00wtm80000gn/T/ipykernel_58430/330735155.py:26: FutureWarning: The behavior of \n",
       "DataFrame concatenation with empty or all-NA entries is deprecated. In a future version, this will no longer \n",
       "exclude empty or all-NA columns when determining the result dtypes. To retain the old behavior, exclude the \n",
       "relevant entries before the concat operation.\n",
       "  results = pd.concat([results, normalized_data]) #.dropna(axis=1, how=\"all\")])\n"
      ]
     },
     "metadata": {},
     "output_type": "display_data"
    },
    {
     "data": {
      "text/html": [
       "<pre style=\"white-space:pre;overflow-x:auto;line-height:normal;font-family:Menlo,'DejaVu Sans Mono',consolas,'Courier New',monospace\">/var/folders/7t/k8q3439j6z3c683j7w00wtm80000gn/T/ipykernel_58430/330735155.py:26: FutureWarning: The behavior of \n",
       "DataFrame concatenation with empty or all-NA entries is deprecated. In a future version, this will no longer \n",
       "exclude empty or all-NA columns when determining the result dtypes. To retain the old behavior, exclude the \n",
       "relevant entries before the concat operation.\n",
       "  results = pd.concat([results, normalized_data]) #.dropna(axis=1, how=\"all\")])\n",
       "</pre>\n"
      ],
      "text/plain": [
       "/var/folders/7t/k8q3439j6z3c683j7w00wtm80000gn/T/ipykernel_58430/330735155.py:26: FutureWarning: The behavior of \n",
       "DataFrame concatenation with empty or all-NA entries is deprecated. In a future version, this will no longer \n",
       "exclude empty or all-NA columns when determining the result dtypes. To retain the old behavior, exclude the \n",
       "relevant entries before the concat operation.\n",
       "  results = pd.concat([results, normalized_data]) #.dropna(axis=1, how=\"all\")])\n"
      ]
     },
     "metadata": {},
     "output_type": "display_data"
    },
    {
     "data": {
      "text/html": [
       "<pre style=\"white-space:pre;overflow-x:auto;line-height:normal;font-family:Menlo,'DejaVu Sans Mono',consolas,'Courier New',monospace\">/var/folders/7t/k8q3439j6z3c683j7w00wtm80000gn/T/ipykernel_58430/330735155.py:26: FutureWarning: The behavior of \n",
       "DataFrame concatenation with empty or all-NA entries is deprecated. In a future version, this will no longer \n",
       "exclude empty or all-NA columns when determining the result dtypes. To retain the old behavior, exclude the \n",
       "relevant entries before the concat operation.\n",
       "  results = pd.concat([results, normalized_data]) #.dropna(axis=1, how=\"all\")])\n",
       "</pre>\n"
      ],
      "text/plain": [
       "/var/folders/7t/k8q3439j6z3c683j7w00wtm80000gn/T/ipykernel_58430/330735155.py:26: FutureWarning: The behavior of \n",
       "DataFrame concatenation with empty or all-NA entries is deprecated. In a future version, this will no longer \n",
       "exclude empty or all-NA columns when determining the result dtypes. To retain the old behavior, exclude the \n",
       "relevant entries before the concat operation.\n",
       "  results = pd.concat([results, normalized_data]) #.dropna(axis=1, how=\"all\")])\n"
      ]
     },
     "metadata": {},
     "output_type": "display_data"
    },
    {
     "data": {
      "text/html": [
       "<pre style=\"white-space:pre;overflow-x:auto;line-height:normal;font-family:Menlo,'DejaVu Sans Mono',consolas,'Courier New',monospace\">/var/folders/7t/k8q3439j6z3c683j7w00wtm80000gn/T/ipykernel_58430/330735155.py:26: FutureWarning: The behavior of \n",
       "DataFrame concatenation with empty or all-NA entries is deprecated. In a future version, this will no longer \n",
       "exclude empty or all-NA columns when determining the result dtypes. To retain the old behavior, exclude the \n",
       "relevant entries before the concat operation.\n",
       "  results = pd.concat([results, normalized_data]) #.dropna(axis=1, how=\"all\")])\n",
       "</pre>\n"
      ],
      "text/plain": [
       "/var/folders/7t/k8q3439j6z3c683j7w00wtm80000gn/T/ipykernel_58430/330735155.py:26: FutureWarning: The behavior of \n",
       "DataFrame concatenation with empty or all-NA entries is deprecated. In a future version, this will no longer \n",
       "exclude empty or all-NA columns when determining the result dtypes. To retain the old behavior, exclude the \n",
       "relevant entries before the concat operation.\n",
       "  results = pd.concat([results, normalized_data]) #.dropna(axis=1, how=\"all\")])\n"
      ]
     },
     "metadata": {},
     "output_type": "display_data"
    },
    {
     "data": {
      "text/html": [
       "<pre style=\"white-space:pre;overflow-x:auto;line-height:normal;font-family:Menlo,'DejaVu Sans Mono',consolas,'Courier New',monospace\">/var/folders/7t/k8q3439j6z3c683j7w00wtm80000gn/T/ipykernel_58430/330735155.py:26: FutureWarning: The behavior of \n",
       "DataFrame concatenation with empty or all-NA entries is deprecated. In a future version, this will no longer \n",
       "exclude empty or all-NA columns when determining the result dtypes. To retain the old behavior, exclude the \n",
       "relevant entries before the concat operation.\n",
       "  results = pd.concat([results, normalized_data]) #.dropna(axis=1, how=\"all\")])\n",
       "</pre>\n"
      ],
      "text/plain": [
       "/var/folders/7t/k8q3439j6z3c683j7w00wtm80000gn/T/ipykernel_58430/330735155.py:26: FutureWarning: The behavior of \n",
       "DataFrame concatenation with empty or all-NA entries is deprecated. In a future version, this will no longer \n",
       "exclude empty or all-NA columns when determining the result dtypes. To retain the old behavior, exclude the \n",
       "relevant entries before the concat operation.\n",
       "  results = pd.concat([results, normalized_data]) #.dropna(axis=1, how=\"all\")])\n"
      ]
     },
     "metadata": {},
     "output_type": "display_data"
    },
    {
     "data": {
      "text/html": [
       "<pre style=\"white-space:pre;overflow-x:auto;line-height:normal;font-family:Menlo,'DejaVu Sans Mono',consolas,'Courier New',monospace\">/var/folders/7t/k8q3439j6z3c683j7w00wtm80000gn/T/ipykernel_58430/330735155.py:26: FutureWarning: The behavior of \n",
       "DataFrame concatenation with empty or all-NA entries is deprecated. In a future version, this will no longer \n",
       "exclude empty or all-NA columns when determining the result dtypes. To retain the old behavior, exclude the \n",
       "relevant entries before the concat operation.\n",
       "  results = pd.concat([results, normalized_data]) #.dropna(axis=1, how=\"all\")])\n",
       "</pre>\n"
      ],
      "text/plain": [
       "/var/folders/7t/k8q3439j6z3c683j7w00wtm80000gn/T/ipykernel_58430/330735155.py:26: FutureWarning: The behavior of \n",
       "DataFrame concatenation with empty or all-NA entries is deprecated. In a future version, this will no longer \n",
       "exclude empty or all-NA columns when determining the result dtypes. To retain the old behavior, exclude the \n",
       "relevant entries before the concat operation.\n",
       "  results = pd.concat([results, normalized_data]) #.dropna(axis=1, how=\"all\")])\n"
      ]
     },
     "metadata": {},
     "output_type": "display_data"
    },
    {
     "data": {
      "text/html": [
       "<pre style=\"white-space:pre;overflow-x:auto;line-height:normal;font-family:Menlo,'DejaVu Sans Mono',consolas,'Courier New',monospace\">/var/folders/7t/k8q3439j6z3c683j7w00wtm80000gn/T/ipykernel_58430/330735155.py:26: FutureWarning: The behavior of \n",
       "DataFrame concatenation with empty or all-NA entries is deprecated. In a future version, this will no longer \n",
       "exclude empty or all-NA columns when determining the result dtypes. To retain the old behavior, exclude the \n",
       "relevant entries before the concat operation.\n",
       "  results = pd.concat([results, normalized_data]) #.dropna(axis=1, how=\"all\")])\n",
       "</pre>\n"
      ],
      "text/plain": [
       "/var/folders/7t/k8q3439j6z3c683j7w00wtm80000gn/T/ipykernel_58430/330735155.py:26: FutureWarning: The behavior of \n",
       "DataFrame concatenation with empty or all-NA entries is deprecated. In a future version, this will no longer \n",
       "exclude empty or all-NA columns when determining the result dtypes. To retain the old behavior, exclude the \n",
       "relevant entries before the concat operation.\n",
       "  results = pd.concat([results, normalized_data]) #.dropna(axis=1, how=\"all\")])\n"
      ]
     },
     "metadata": {},
     "output_type": "display_data"
    },
    {
     "data": {
      "text/html": [
       "<pre style=\"white-space:pre;overflow-x:auto;line-height:normal;font-family:Menlo,'DejaVu Sans Mono',consolas,'Courier New',monospace\">/var/folders/7t/k8q3439j6z3c683j7w00wtm80000gn/T/ipykernel_58430/330735155.py:26: FutureWarning: The behavior of \n",
       "DataFrame concatenation with empty or all-NA entries is deprecated. In a future version, this will no longer \n",
       "exclude empty or all-NA columns when determining the result dtypes. To retain the old behavior, exclude the \n",
       "relevant entries before the concat operation.\n",
       "  results = pd.concat([results, normalized_data]) #.dropna(axis=1, how=\"all\")])\n",
       "</pre>\n"
      ],
      "text/plain": [
       "/var/folders/7t/k8q3439j6z3c683j7w00wtm80000gn/T/ipykernel_58430/330735155.py:26: FutureWarning: The behavior of \n",
       "DataFrame concatenation with empty or all-NA entries is deprecated. In a future version, this will no longer \n",
       "exclude empty or all-NA columns when determining the result dtypes. To retain the old behavior, exclude the \n",
       "relevant entries before the concat operation.\n",
       "  results = pd.concat([results, normalized_data]) #.dropna(axis=1, how=\"all\")])\n"
      ]
     },
     "metadata": {},
     "output_type": "display_data"
    },
    {
     "data": {
      "text/html": [
       "<pre style=\"white-space:pre;overflow-x:auto;line-height:normal;font-family:Menlo,'DejaVu Sans Mono',consolas,'Courier New',monospace\">/var/folders/7t/k8q3439j6z3c683j7w00wtm80000gn/T/ipykernel_58430/330735155.py:26: FutureWarning: The behavior of \n",
       "DataFrame concatenation with empty or all-NA entries is deprecated. In a future version, this will no longer \n",
       "exclude empty or all-NA columns when determining the result dtypes. To retain the old behavior, exclude the \n",
       "relevant entries before the concat operation.\n",
       "  results = pd.concat([results, normalized_data]) #.dropna(axis=1, how=\"all\")])\n",
       "</pre>\n"
      ],
      "text/plain": [
       "/var/folders/7t/k8q3439j6z3c683j7w00wtm80000gn/T/ipykernel_58430/330735155.py:26: FutureWarning: The behavior of \n",
       "DataFrame concatenation with empty or all-NA entries is deprecated. In a future version, this will no longer \n",
       "exclude empty or all-NA columns when determining the result dtypes. To retain the old behavior, exclude the \n",
       "relevant entries before the concat operation.\n",
       "  results = pd.concat([results, normalized_data]) #.dropna(axis=1, how=\"all\")])\n"
      ]
     },
     "metadata": {},
     "output_type": "display_data"
    },
    {
     "data": {
      "text/html": [
       "<pre style=\"white-space:pre;overflow-x:auto;line-height:normal;font-family:Menlo,'DejaVu Sans Mono',consolas,'Courier New',monospace\">/var/folders/7t/k8q3439j6z3c683j7w00wtm80000gn/T/ipykernel_58430/330735155.py:26: FutureWarning: The behavior of \n",
       "DataFrame concatenation with empty or all-NA entries is deprecated. In a future version, this will no longer \n",
       "exclude empty or all-NA columns when determining the result dtypes. To retain the old behavior, exclude the \n",
       "relevant entries before the concat operation.\n",
       "  results = pd.concat([results, normalized_data]) #.dropna(axis=1, how=\"all\")])\n",
       "</pre>\n"
      ],
      "text/plain": [
       "/var/folders/7t/k8q3439j6z3c683j7w00wtm80000gn/T/ipykernel_58430/330735155.py:26: FutureWarning: The behavior of \n",
       "DataFrame concatenation with empty or all-NA entries is deprecated. In a future version, this will no longer \n",
       "exclude empty or all-NA columns when determining the result dtypes. To retain the old behavior, exclude the \n",
       "relevant entries before the concat operation.\n",
       "  results = pd.concat([results, normalized_data]) #.dropna(axis=1, how=\"all\")])\n"
      ]
     },
     "metadata": {},
     "output_type": "display_data"
    },
    {
     "data": {
      "text/html": [
       "<pre style=\"white-space:pre;overflow-x:auto;line-height:normal;font-family:Menlo,'DejaVu Sans Mono',consolas,'Courier New',monospace\">/var/folders/7t/k8q3439j6z3c683j7w00wtm80000gn/T/ipykernel_58430/330735155.py:26: FutureWarning: The behavior of \n",
       "DataFrame concatenation with empty or all-NA entries is deprecated. In a future version, this will no longer \n",
       "exclude empty or all-NA columns when determining the result dtypes. To retain the old behavior, exclude the \n",
       "relevant entries before the concat operation.\n",
       "  results = pd.concat([results, normalized_data]) #.dropna(axis=1, how=\"all\")])\n",
       "</pre>\n"
      ],
      "text/plain": [
       "/var/folders/7t/k8q3439j6z3c683j7w00wtm80000gn/T/ipykernel_58430/330735155.py:26: FutureWarning: The behavior of \n",
       "DataFrame concatenation with empty or all-NA entries is deprecated. In a future version, this will no longer \n",
       "exclude empty or all-NA columns when determining the result dtypes. To retain the old behavior, exclude the \n",
       "relevant entries before the concat operation.\n",
       "  results = pd.concat([results, normalized_data]) #.dropna(axis=1, how=\"all\")])\n"
      ]
     },
     "metadata": {},
     "output_type": "display_data"
    },
    {
     "data": {
      "text/html": [
       "<pre style=\"white-space:pre;overflow-x:auto;line-height:normal;font-family:Menlo,'DejaVu Sans Mono',consolas,'Courier New',monospace\">/var/folders/7t/k8q3439j6z3c683j7w00wtm80000gn/T/ipykernel_58430/330735155.py:26: FutureWarning: The behavior of \n",
       "DataFrame concatenation with empty or all-NA entries is deprecated. In a future version, this will no longer \n",
       "exclude empty or all-NA columns when determining the result dtypes. To retain the old behavior, exclude the \n",
       "relevant entries before the concat operation.\n",
       "  results = pd.concat([results, normalized_data]) #.dropna(axis=1, how=\"all\")])\n",
       "</pre>\n"
      ],
      "text/plain": [
       "/var/folders/7t/k8q3439j6z3c683j7w00wtm80000gn/T/ipykernel_58430/330735155.py:26: FutureWarning: The behavior of \n",
       "DataFrame concatenation with empty or all-NA entries is deprecated. In a future version, this will no longer \n",
       "exclude empty or all-NA columns when determining the result dtypes. To retain the old behavior, exclude the \n",
       "relevant entries before the concat operation.\n",
       "  results = pd.concat([results, normalized_data]) #.dropna(axis=1, how=\"all\")])\n"
      ]
     },
     "metadata": {},
     "output_type": "display_data"
    },
    {
     "data": {
      "text/html": [
       "<pre style=\"white-space:pre;overflow-x:auto;line-height:normal;font-family:Menlo,'DejaVu Sans Mono',consolas,'Courier New',monospace\">/var/folders/7t/k8q3439j6z3c683j7w00wtm80000gn/T/ipykernel_58430/330735155.py:26: FutureWarning: The behavior of \n",
       "DataFrame concatenation with empty or all-NA entries is deprecated. In a future version, this will no longer \n",
       "exclude empty or all-NA columns when determining the result dtypes. To retain the old behavior, exclude the \n",
       "relevant entries before the concat operation.\n",
       "  results = pd.concat([results, normalized_data]) #.dropna(axis=1, how=\"all\")])\n",
       "</pre>\n"
      ],
      "text/plain": [
       "/var/folders/7t/k8q3439j6z3c683j7w00wtm80000gn/T/ipykernel_58430/330735155.py:26: FutureWarning: The behavior of \n",
       "DataFrame concatenation with empty or all-NA entries is deprecated. In a future version, this will no longer \n",
       "exclude empty or all-NA columns when determining the result dtypes. To retain the old behavior, exclude the \n",
       "relevant entries before the concat operation.\n",
       "  results = pd.concat([results, normalized_data]) #.dropna(axis=1, how=\"all\")])\n"
      ]
     },
     "metadata": {},
     "output_type": "display_data"
    },
    {
     "data": {
      "text/html": [
       "<pre style=\"white-space:pre;overflow-x:auto;line-height:normal;font-family:Menlo,'DejaVu Sans Mono',consolas,'Courier New',monospace\">/var/folders/7t/k8q3439j6z3c683j7w00wtm80000gn/T/ipykernel_58430/330735155.py:26: FutureWarning: The behavior of \n",
       "DataFrame concatenation with empty or all-NA entries is deprecated. In a future version, this will no longer \n",
       "exclude empty or all-NA columns when determining the result dtypes. To retain the old behavior, exclude the \n",
       "relevant entries before the concat operation.\n",
       "  results = pd.concat([results, normalized_data]) #.dropna(axis=1, how=\"all\")])\n",
       "</pre>\n"
      ],
      "text/plain": [
       "/var/folders/7t/k8q3439j6z3c683j7w00wtm80000gn/T/ipykernel_58430/330735155.py:26: FutureWarning: The behavior of \n",
       "DataFrame concatenation with empty or all-NA entries is deprecated. In a future version, this will no longer \n",
       "exclude empty or all-NA columns when determining the result dtypes. To retain the old behavior, exclude the \n",
       "relevant entries before the concat operation.\n",
       "  results = pd.concat([results, normalized_data]) #.dropna(axis=1, how=\"all\")])\n"
      ]
     },
     "metadata": {},
     "output_type": "display_data"
    },
    {
     "data": {
      "text/html": [
       "<pre style=\"white-space:pre;overflow-x:auto;line-height:normal;font-family:Menlo,'DejaVu Sans Mono',consolas,'Courier New',monospace\">/var/folders/7t/k8q3439j6z3c683j7w00wtm80000gn/T/ipykernel_58430/330735155.py:26: FutureWarning: The behavior of \n",
       "DataFrame concatenation with empty or all-NA entries is deprecated. In a future version, this will no longer \n",
       "exclude empty or all-NA columns when determining the result dtypes. To retain the old behavior, exclude the \n",
       "relevant entries before the concat operation.\n",
       "  results = pd.concat([results, normalized_data]) #.dropna(axis=1, how=\"all\")])\n",
       "</pre>\n"
      ],
      "text/plain": [
       "/var/folders/7t/k8q3439j6z3c683j7w00wtm80000gn/T/ipykernel_58430/330735155.py:26: FutureWarning: The behavior of \n",
       "DataFrame concatenation with empty or all-NA entries is deprecated. In a future version, this will no longer \n",
       "exclude empty or all-NA columns when determining the result dtypes. To retain the old behavior, exclude the \n",
       "relevant entries before the concat operation.\n",
       "  results = pd.concat([results, normalized_data]) #.dropna(axis=1, how=\"all\")])\n"
      ]
     },
     "metadata": {},
     "output_type": "display_data"
    },
    {
     "data": {
      "text/html": [
       "<pre style=\"white-space:pre;overflow-x:auto;line-height:normal;font-family:Menlo,'DejaVu Sans Mono',consolas,'Courier New',monospace\">/var/folders/7t/k8q3439j6z3c683j7w00wtm80000gn/T/ipykernel_58430/330735155.py:26: FutureWarning: The behavior of \n",
       "DataFrame concatenation with empty or all-NA entries is deprecated. In a future version, this will no longer \n",
       "exclude empty or all-NA columns when determining the result dtypes. To retain the old behavior, exclude the \n",
       "relevant entries before the concat operation.\n",
       "  results = pd.concat([results, normalized_data]) #.dropna(axis=1, how=\"all\")])\n",
       "</pre>\n"
      ],
      "text/plain": [
       "/var/folders/7t/k8q3439j6z3c683j7w00wtm80000gn/T/ipykernel_58430/330735155.py:26: FutureWarning: The behavior of \n",
       "DataFrame concatenation with empty or all-NA entries is deprecated. In a future version, this will no longer \n",
       "exclude empty or all-NA columns when determining the result dtypes. To retain the old behavior, exclude the \n",
       "relevant entries before the concat operation.\n",
       "  results = pd.concat([results, normalized_data]) #.dropna(axis=1, how=\"all\")])\n"
      ]
     },
     "metadata": {},
     "output_type": "display_data"
    },
    {
     "data": {
      "text/html": [
       "<pre style=\"white-space:pre;overflow-x:auto;line-height:normal;font-family:Menlo,'DejaVu Sans Mono',consolas,'Courier New',monospace\">/var/folders/7t/k8q3439j6z3c683j7w00wtm80000gn/T/ipykernel_58430/330735155.py:26: FutureWarning: The behavior of \n",
       "DataFrame concatenation with empty or all-NA entries is deprecated. In a future version, this will no longer \n",
       "exclude empty or all-NA columns when determining the result dtypes. To retain the old behavior, exclude the \n",
       "relevant entries before the concat operation.\n",
       "  results = pd.concat([results, normalized_data]) #.dropna(axis=1, how=\"all\")])\n",
       "</pre>\n"
      ],
      "text/plain": [
       "/var/folders/7t/k8q3439j6z3c683j7w00wtm80000gn/T/ipykernel_58430/330735155.py:26: FutureWarning: The behavior of \n",
       "DataFrame concatenation with empty or all-NA entries is deprecated. In a future version, this will no longer \n",
       "exclude empty or all-NA columns when determining the result dtypes. To retain the old behavior, exclude the \n",
       "relevant entries before the concat operation.\n",
       "  results = pd.concat([results, normalized_data]) #.dropna(axis=1, how=\"all\")])\n"
      ]
     },
     "metadata": {},
     "output_type": "display_data"
    },
    {
     "data": {
      "text/html": [
       "<pre style=\"white-space:pre;overflow-x:auto;line-height:normal;font-family:Menlo,'DejaVu Sans Mono',consolas,'Courier New',monospace\">/var/folders/7t/k8q3439j6z3c683j7w00wtm80000gn/T/ipykernel_58430/330735155.py:26: FutureWarning: The behavior of \n",
       "DataFrame concatenation with empty or all-NA entries is deprecated. In a future version, this will no longer \n",
       "exclude empty or all-NA columns when determining the result dtypes. To retain the old behavior, exclude the \n",
       "relevant entries before the concat operation.\n",
       "  results = pd.concat([results, normalized_data]) #.dropna(axis=1, how=\"all\")])\n",
       "</pre>\n"
      ],
      "text/plain": [
       "/var/folders/7t/k8q3439j6z3c683j7w00wtm80000gn/T/ipykernel_58430/330735155.py:26: FutureWarning: The behavior of \n",
       "DataFrame concatenation with empty or all-NA entries is deprecated. In a future version, this will no longer \n",
       "exclude empty or all-NA columns when determining the result dtypes. To retain the old behavior, exclude the \n",
       "relevant entries before the concat operation.\n",
       "  results = pd.concat([results, normalized_data]) #.dropna(axis=1, how=\"all\")])\n"
      ]
     },
     "metadata": {},
     "output_type": "display_data"
    },
    {
     "data": {
      "text/html": [
       "<pre style=\"white-space:pre;overflow-x:auto;line-height:normal;font-family:Menlo,'DejaVu Sans Mono',consolas,'Courier New',monospace\">/var/folders/7t/k8q3439j6z3c683j7w00wtm80000gn/T/ipykernel_58430/330735155.py:26: FutureWarning: The behavior of \n",
       "DataFrame concatenation with empty or all-NA entries is deprecated. In a future version, this will no longer \n",
       "exclude empty or all-NA columns when determining the result dtypes. To retain the old behavior, exclude the \n",
       "relevant entries before the concat operation.\n",
       "  results = pd.concat([results, normalized_data]) #.dropna(axis=1, how=\"all\")])\n",
       "</pre>\n"
      ],
      "text/plain": [
       "/var/folders/7t/k8q3439j6z3c683j7w00wtm80000gn/T/ipykernel_58430/330735155.py:26: FutureWarning: The behavior of \n",
       "DataFrame concatenation with empty or all-NA entries is deprecated. In a future version, this will no longer \n",
       "exclude empty or all-NA columns when determining the result dtypes. To retain the old behavior, exclude the \n",
       "relevant entries before the concat operation.\n",
       "  results = pd.concat([results, normalized_data]) #.dropna(axis=1, how=\"all\")])\n"
      ]
     },
     "metadata": {},
     "output_type": "display_data"
    },
    {
     "data": {
      "text/html": [
       "<pre style=\"white-space:pre;overflow-x:auto;line-height:normal;font-family:Menlo,'DejaVu Sans Mono',consolas,'Courier New',monospace\">/var/folders/7t/k8q3439j6z3c683j7w00wtm80000gn/T/ipykernel_58430/330735155.py:26: FutureWarning: The behavior of \n",
       "DataFrame concatenation with empty or all-NA entries is deprecated. In a future version, this will no longer \n",
       "exclude empty or all-NA columns when determining the result dtypes. To retain the old behavior, exclude the \n",
       "relevant entries before the concat operation.\n",
       "  results = pd.concat([results, normalized_data]) #.dropna(axis=1, how=\"all\")])\n",
       "</pre>\n"
      ],
      "text/plain": [
       "/var/folders/7t/k8q3439j6z3c683j7w00wtm80000gn/T/ipykernel_58430/330735155.py:26: FutureWarning: The behavior of \n",
       "DataFrame concatenation with empty or all-NA entries is deprecated. In a future version, this will no longer \n",
       "exclude empty or all-NA columns when determining the result dtypes. To retain the old behavior, exclude the \n",
       "relevant entries before the concat operation.\n",
       "  results = pd.concat([results, normalized_data]) #.dropna(axis=1, how=\"all\")])\n"
      ]
     },
     "metadata": {},
     "output_type": "display_data"
    },
    {
     "data": {
      "text/html": [
       "<pre style=\"white-space:pre;overflow-x:auto;line-height:normal;font-family:Menlo,'DejaVu Sans Mono',consolas,'Courier New',monospace\">/var/folders/7t/k8q3439j6z3c683j7w00wtm80000gn/T/ipykernel_58430/330735155.py:26: FutureWarning: The behavior of \n",
       "DataFrame concatenation with empty or all-NA entries is deprecated. In a future version, this will no longer \n",
       "exclude empty or all-NA columns when determining the result dtypes. To retain the old behavior, exclude the \n",
       "relevant entries before the concat operation.\n",
       "  results = pd.concat([results, normalized_data]) #.dropna(axis=1, how=\"all\")])\n",
       "</pre>\n"
      ],
      "text/plain": [
       "/var/folders/7t/k8q3439j6z3c683j7w00wtm80000gn/T/ipykernel_58430/330735155.py:26: FutureWarning: The behavior of \n",
       "DataFrame concatenation with empty or all-NA entries is deprecated. In a future version, this will no longer \n",
       "exclude empty or all-NA columns when determining the result dtypes. To retain the old behavior, exclude the \n",
       "relevant entries before the concat operation.\n",
       "  results = pd.concat([results, normalized_data]) #.dropna(axis=1, how=\"all\")])\n"
      ]
     },
     "metadata": {},
     "output_type": "display_data"
    },
    {
     "data": {
      "text/html": [
       "<pre style=\"white-space:pre;overflow-x:auto;line-height:normal;font-family:Menlo,'DejaVu Sans Mono',consolas,'Courier New',monospace\">/var/folders/7t/k8q3439j6z3c683j7w00wtm80000gn/T/ipykernel_58430/330735155.py:26: FutureWarning: The behavior of \n",
       "DataFrame concatenation with empty or all-NA entries is deprecated. In a future version, this will no longer \n",
       "exclude empty or all-NA columns when determining the result dtypes. To retain the old behavior, exclude the \n",
       "relevant entries before the concat operation.\n",
       "  results = pd.concat([results, normalized_data]) #.dropna(axis=1, how=\"all\")])\n",
       "</pre>\n"
      ],
      "text/plain": [
       "/var/folders/7t/k8q3439j6z3c683j7w00wtm80000gn/T/ipykernel_58430/330735155.py:26: FutureWarning: The behavior of \n",
       "DataFrame concatenation with empty or all-NA entries is deprecated. In a future version, this will no longer \n",
       "exclude empty or all-NA columns when determining the result dtypes. To retain the old behavior, exclude the \n",
       "relevant entries before the concat operation.\n",
       "  results = pd.concat([results, normalized_data]) #.dropna(axis=1, how=\"all\")])\n"
      ]
     },
     "metadata": {},
     "output_type": "display_data"
    },
    {
     "data": {
      "text/html": [
       "<pre style=\"white-space:pre;overflow-x:auto;line-height:normal;font-family:Menlo,'DejaVu Sans Mono',consolas,'Courier New',monospace\">/var/folders/7t/k8q3439j6z3c683j7w00wtm80000gn/T/ipykernel_58430/330735155.py:26: FutureWarning: The behavior of \n",
       "DataFrame concatenation with empty or all-NA entries is deprecated. In a future version, this will no longer \n",
       "exclude empty or all-NA columns when determining the result dtypes. To retain the old behavior, exclude the \n",
       "relevant entries before the concat operation.\n",
       "  results = pd.concat([results, normalized_data]) #.dropna(axis=1, how=\"all\")])\n",
       "</pre>\n"
      ],
      "text/plain": [
       "/var/folders/7t/k8q3439j6z3c683j7w00wtm80000gn/T/ipykernel_58430/330735155.py:26: FutureWarning: The behavior of \n",
       "DataFrame concatenation with empty or all-NA entries is deprecated. In a future version, this will no longer \n",
       "exclude empty or all-NA columns when determining the result dtypes. To retain the old behavior, exclude the \n",
       "relevant entries before the concat operation.\n",
       "  results = pd.concat([results, normalized_data]) #.dropna(axis=1, how=\"all\")])\n"
      ]
     },
     "metadata": {},
     "output_type": "display_data"
    },
    {
     "data": {
      "text/html": [
       "<pre style=\"white-space:pre;overflow-x:auto;line-height:normal;font-family:Menlo,'DejaVu Sans Mono',consolas,'Courier New',monospace\">/var/folders/7t/k8q3439j6z3c683j7w00wtm80000gn/T/ipykernel_58430/330735155.py:26: FutureWarning: The behavior of \n",
       "DataFrame concatenation with empty or all-NA entries is deprecated. In a future version, this will no longer \n",
       "exclude empty or all-NA columns when determining the result dtypes. To retain the old behavior, exclude the \n",
       "relevant entries before the concat operation.\n",
       "  results = pd.concat([results, normalized_data]) #.dropna(axis=1, how=\"all\")])\n",
       "</pre>\n"
      ],
      "text/plain": [
       "/var/folders/7t/k8q3439j6z3c683j7w00wtm80000gn/T/ipykernel_58430/330735155.py:26: FutureWarning: The behavior of \n",
       "DataFrame concatenation with empty or all-NA entries is deprecated. In a future version, this will no longer \n",
       "exclude empty or all-NA columns when determining the result dtypes. To retain the old behavior, exclude the \n",
       "relevant entries before the concat operation.\n",
       "  results = pd.concat([results, normalized_data]) #.dropna(axis=1, how=\"all\")])\n"
      ]
     },
     "metadata": {},
     "output_type": "display_data"
    },
    {
     "data": {
      "text/html": [
       "<pre style=\"white-space:pre;overflow-x:auto;line-height:normal;font-family:Menlo,'DejaVu Sans Mono',consolas,'Courier New',monospace\">/var/folders/7t/k8q3439j6z3c683j7w00wtm80000gn/T/ipykernel_58430/330735155.py:26: FutureWarning: The behavior of \n",
       "DataFrame concatenation with empty or all-NA entries is deprecated. In a future version, this will no longer \n",
       "exclude empty or all-NA columns when determining the result dtypes. To retain the old behavior, exclude the \n",
       "relevant entries before the concat operation.\n",
       "  results = pd.concat([results, normalized_data]) #.dropna(axis=1, how=\"all\")])\n",
       "</pre>\n"
      ],
      "text/plain": [
       "/var/folders/7t/k8q3439j6z3c683j7w00wtm80000gn/T/ipykernel_58430/330735155.py:26: FutureWarning: The behavior of \n",
       "DataFrame concatenation with empty or all-NA entries is deprecated. In a future version, this will no longer \n",
       "exclude empty or all-NA columns when determining the result dtypes. To retain the old behavior, exclude the \n",
       "relevant entries before the concat operation.\n",
       "  results = pd.concat([results, normalized_data]) #.dropna(axis=1, how=\"all\")])\n"
      ]
     },
     "metadata": {},
     "output_type": "display_data"
    },
    {
     "data": {
      "text/html": [
       "<pre style=\"white-space:pre;overflow-x:auto;line-height:normal;font-family:Menlo,'DejaVu Sans Mono',consolas,'Courier New',monospace\">/var/folders/7t/k8q3439j6z3c683j7w00wtm80000gn/T/ipykernel_58430/330735155.py:26: FutureWarning: The behavior of \n",
       "DataFrame concatenation with empty or all-NA entries is deprecated. In a future version, this will no longer \n",
       "exclude empty or all-NA columns when determining the result dtypes. To retain the old behavior, exclude the \n",
       "relevant entries before the concat operation.\n",
       "  results = pd.concat([results, normalized_data]) #.dropna(axis=1, how=\"all\")])\n",
       "</pre>\n"
      ],
      "text/plain": [
       "/var/folders/7t/k8q3439j6z3c683j7w00wtm80000gn/T/ipykernel_58430/330735155.py:26: FutureWarning: The behavior of \n",
       "DataFrame concatenation with empty or all-NA entries is deprecated. In a future version, this will no longer \n",
       "exclude empty or all-NA columns when determining the result dtypes. To retain the old behavior, exclude the \n",
       "relevant entries before the concat operation.\n",
       "  results = pd.concat([results, normalized_data]) #.dropna(axis=1, how=\"all\")])\n"
      ]
     },
     "metadata": {},
     "output_type": "display_data"
    },
    {
     "data": {
      "text/html": [
       "<pre style=\"white-space:pre;overflow-x:auto;line-height:normal;font-family:Menlo,'DejaVu Sans Mono',consolas,'Courier New',monospace\">/var/folders/7t/k8q3439j6z3c683j7w00wtm80000gn/T/ipykernel_58430/330735155.py:26: FutureWarning: The behavior of \n",
       "DataFrame concatenation with empty or all-NA entries is deprecated. In a future version, this will no longer \n",
       "exclude empty or all-NA columns when determining the result dtypes. To retain the old behavior, exclude the \n",
       "relevant entries before the concat operation.\n",
       "  results = pd.concat([results, normalized_data]) #.dropna(axis=1, how=\"all\")])\n",
       "</pre>\n"
      ],
      "text/plain": [
       "/var/folders/7t/k8q3439j6z3c683j7w00wtm80000gn/T/ipykernel_58430/330735155.py:26: FutureWarning: The behavior of \n",
       "DataFrame concatenation with empty or all-NA entries is deprecated. In a future version, this will no longer \n",
       "exclude empty or all-NA columns when determining the result dtypes. To retain the old behavior, exclude the \n",
       "relevant entries before the concat operation.\n",
       "  results = pd.concat([results, normalized_data]) #.dropna(axis=1, how=\"all\")])\n"
      ]
     },
     "metadata": {},
     "output_type": "display_data"
    },
    {
     "data": {
      "text/html": [
       "<pre style=\"white-space:pre;overflow-x:auto;line-height:normal;font-family:Menlo,'DejaVu Sans Mono',consolas,'Courier New',monospace\">/var/folders/7t/k8q3439j6z3c683j7w00wtm80000gn/T/ipykernel_58430/330735155.py:26: FutureWarning: The behavior of \n",
       "DataFrame concatenation with empty or all-NA entries is deprecated. In a future version, this will no longer \n",
       "exclude empty or all-NA columns when determining the result dtypes. To retain the old behavior, exclude the \n",
       "relevant entries before the concat operation.\n",
       "  results = pd.concat([results, normalized_data]) #.dropna(axis=1, how=\"all\")])\n",
       "</pre>\n"
      ],
      "text/plain": [
       "/var/folders/7t/k8q3439j6z3c683j7w00wtm80000gn/T/ipykernel_58430/330735155.py:26: FutureWarning: The behavior of \n",
       "DataFrame concatenation with empty or all-NA entries is deprecated. In a future version, this will no longer \n",
       "exclude empty or all-NA columns when determining the result dtypes. To retain the old behavior, exclude the \n",
       "relevant entries before the concat operation.\n",
       "  results = pd.concat([results, normalized_data]) #.dropna(axis=1, how=\"all\")])\n"
      ]
     },
     "metadata": {},
     "output_type": "display_data"
    },
    {
     "data": {
      "text/html": [
       "<pre style=\"white-space:pre;overflow-x:auto;line-height:normal;font-family:Menlo,'DejaVu Sans Mono',consolas,'Courier New',monospace\">/var/folders/7t/k8q3439j6z3c683j7w00wtm80000gn/T/ipykernel_58430/330735155.py:26: FutureWarning: The behavior of \n",
       "DataFrame concatenation with empty or all-NA entries is deprecated. In a future version, this will no longer \n",
       "exclude empty or all-NA columns when determining the result dtypes. To retain the old behavior, exclude the \n",
       "relevant entries before the concat operation.\n",
       "  results = pd.concat([results, normalized_data]) #.dropna(axis=1, how=\"all\")])\n",
       "</pre>\n"
      ],
      "text/plain": [
       "/var/folders/7t/k8q3439j6z3c683j7w00wtm80000gn/T/ipykernel_58430/330735155.py:26: FutureWarning: The behavior of \n",
       "DataFrame concatenation with empty or all-NA entries is deprecated. In a future version, this will no longer \n",
       "exclude empty or all-NA columns when determining the result dtypes. To retain the old behavior, exclude the \n",
       "relevant entries before the concat operation.\n",
       "  results = pd.concat([results, normalized_data]) #.dropna(axis=1, how=\"all\")])\n"
      ]
     },
     "metadata": {},
     "output_type": "display_data"
    },
    {
     "data": {
      "text/html": [
       "<pre style=\"white-space:pre;overflow-x:auto;line-height:normal;font-family:Menlo,'DejaVu Sans Mono',consolas,'Courier New',monospace\">/var/folders/7t/k8q3439j6z3c683j7w00wtm80000gn/T/ipykernel_58430/330735155.py:26: FutureWarning: The behavior of \n",
       "DataFrame concatenation with empty or all-NA entries is deprecated. In a future version, this will no longer \n",
       "exclude empty or all-NA columns when determining the result dtypes. To retain the old behavior, exclude the \n",
       "relevant entries before the concat operation.\n",
       "  results = pd.concat([results, normalized_data]) #.dropna(axis=1, how=\"all\")])\n",
       "</pre>\n"
      ],
      "text/plain": [
       "/var/folders/7t/k8q3439j6z3c683j7w00wtm80000gn/T/ipykernel_58430/330735155.py:26: FutureWarning: The behavior of \n",
       "DataFrame concatenation with empty or all-NA entries is deprecated. In a future version, this will no longer \n",
       "exclude empty or all-NA columns when determining the result dtypes. To retain the old behavior, exclude the \n",
       "relevant entries before the concat operation.\n",
       "  results = pd.concat([results, normalized_data]) #.dropna(axis=1, how=\"all\")])\n"
      ]
     },
     "metadata": {},
     "output_type": "display_data"
    },
    {
     "data": {
      "text/html": [
       "<pre style=\"white-space:pre;overflow-x:auto;line-height:normal;font-family:Menlo,'DejaVu Sans Mono',consolas,'Courier New',monospace\">/var/folders/7t/k8q3439j6z3c683j7w00wtm80000gn/T/ipykernel_58430/330735155.py:26: FutureWarning: The behavior of \n",
       "DataFrame concatenation with empty or all-NA entries is deprecated. In a future version, this will no longer \n",
       "exclude empty or all-NA columns when determining the result dtypes. To retain the old behavior, exclude the \n",
       "relevant entries before the concat operation.\n",
       "  results = pd.concat([results, normalized_data]) #.dropna(axis=1, how=\"all\")])\n",
       "</pre>\n"
      ],
      "text/plain": [
       "/var/folders/7t/k8q3439j6z3c683j7w00wtm80000gn/T/ipykernel_58430/330735155.py:26: FutureWarning: The behavior of \n",
       "DataFrame concatenation with empty or all-NA entries is deprecated. In a future version, this will no longer \n",
       "exclude empty or all-NA columns when determining the result dtypes. To retain the old behavior, exclude the \n",
       "relevant entries before the concat operation.\n",
       "  results = pd.concat([results, normalized_data]) #.dropna(axis=1, how=\"all\")])\n"
      ]
     },
     "metadata": {},
     "output_type": "display_data"
    },
    {
     "data": {
      "text/html": [
       "<pre style=\"white-space:pre;overflow-x:auto;line-height:normal;font-family:Menlo,'DejaVu Sans Mono',consolas,'Courier New',monospace\">/var/folders/7t/k8q3439j6z3c683j7w00wtm80000gn/T/ipykernel_58430/330735155.py:26: FutureWarning: The behavior of \n",
       "DataFrame concatenation with empty or all-NA entries is deprecated. In a future version, this will no longer \n",
       "exclude empty or all-NA columns when determining the result dtypes. To retain the old behavior, exclude the \n",
       "relevant entries before the concat operation.\n",
       "  results = pd.concat([results, normalized_data]) #.dropna(axis=1, how=\"all\")])\n",
       "</pre>\n"
      ],
      "text/plain": [
       "/var/folders/7t/k8q3439j6z3c683j7w00wtm80000gn/T/ipykernel_58430/330735155.py:26: FutureWarning: The behavior of \n",
       "DataFrame concatenation with empty or all-NA entries is deprecated. In a future version, this will no longer \n",
       "exclude empty or all-NA columns when determining the result dtypes. To retain the old behavior, exclude the \n",
       "relevant entries before the concat operation.\n",
       "  results = pd.concat([results, normalized_data]) #.dropna(axis=1, how=\"all\")])\n"
      ]
     },
     "metadata": {},
     "output_type": "display_data"
    },
    {
     "data": {
      "text/html": [
       "<pre style=\"white-space:pre;overflow-x:auto;line-height:normal;font-family:Menlo,'DejaVu Sans Mono',consolas,'Courier New',monospace\">/var/folders/7t/k8q3439j6z3c683j7w00wtm80000gn/T/ipykernel_58430/330735155.py:26: FutureWarning: The behavior of \n",
       "DataFrame concatenation with empty or all-NA entries is deprecated. In a future version, this will no longer \n",
       "exclude empty or all-NA columns when determining the result dtypes. To retain the old behavior, exclude the \n",
       "relevant entries before the concat operation.\n",
       "  results = pd.concat([results, normalized_data]) #.dropna(axis=1, how=\"all\")])\n",
       "</pre>\n"
      ],
      "text/plain": [
       "/var/folders/7t/k8q3439j6z3c683j7w00wtm80000gn/T/ipykernel_58430/330735155.py:26: FutureWarning: The behavior of \n",
       "DataFrame concatenation with empty or all-NA entries is deprecated. In a future version, this will no longer \n",
       "exclude empty or all-NA columns when determining the result dtypes. To retain the old behavior, exclude the \n",
       "relevant entries before the concat operation.\n",
       "  results = pd.concat([results, normalized_data]) #.dropna(axis=1, how=\"all\")])\n"
      ]
     },
     "metadata": {},
     "output_type": "display_data"
    },
    {
     "data": {
      "text/html": [
       "<pre style=\"white-space:pre;overflow-x:auto;line-height:normal;font-family:Menlo,'DejaVu Sans Mono',consolas,'Courier New',monospace\">/var/folders/7t/k8q3439j6z3c683j7w00wtm80000gn/T/ipykernel_58430/330735155.py:26: FutureWarning: The behavior of \n",
       "DataFrame concatenation with empty or all-NA entries is deprecated. In a future version, this will no longer \n",
       "exclude empty or all-NA columns when determining the result dtypes. To retain the old behavior, exclude the \n",
       "relevant entries before the concat operation.\n",
       "  results = pd.concat([results, normalized_data]) #.dropna(axis=1, how=\"all\")])\n",
       "</pre>\n"
      ],
      "text/plain": [
       "/var/folders/7t/k8q3439j6z3c683j7w00wtm80000gn/T/ipykernel_58430/330735155.py:26: FutureWarning: The behavior of \n",
       "DataFrame concatenation with empty or all-NA entries is deprecated. In a future version, this will no longer \n",
       "exclude empty or all-NA columns when determining the result dtypes. To retain the old behavior, exclude the \n",
       "relevant entries before the concat operation.\n",
       "  results = pd.concat([results, normalized_data]) #.dropna(axis=1, how=\"all\")])\n"
      ]
     },
     "metadata": {},
     "output_type": "display_data"
    },
    {
     "data": {
      "text/html": [
       "<pre style=\"white-space:pre;overflow-x:auto;line-height:normal;font-family:Menlo,'DejaVu Sans Mono',consolas,'Courier New',monospace\">/var/folders/7t/k8q3439j6z3c683j7w00wtm80000gn/T/ipykernel_58430/330735155.py:26: FutureWarning: The behavior of \n",
       "DataFrame concatenation with empty or all-NA entries is deprecated. In a future version, this will no longer \n",
       "exclude empty or all-NA columns when determining the result dtypes. To retain the old behavior, exclude the \n",
       "relevant entries before the concat operation.\n",
       "  results = pd.concat([results, normalized_data]) #.dropna(axis=1, how=\"all\")])\n",
       "</pre>\n"
      ],
      "text/plain": [
       "/var/folders/7t/k8q3439j6z3c683j7w00wtm80000gn/T/ipykernel_58430/330735155.py:26: FutureWarning: The behavior of \n",
       "DataFrame concatenation with empty or all-NA entries is deprecated. In a future version, this will no longer \n",
       "exclude empty or all-NA columns when determining the result dtypes. To retain the old behavior, exclude the \n",
       "relevant entries before the concat operation.\n",
       "  results = pd.concat([results, normalized_data]) #.dropna(axis=1, how=\"all\")])\n"
      ]
     },
     "metadata": {},
     "output_type": "display_data"
    },
    {
     "data": {
      "text/html": [
       "<pre style=\"white-space:pre;overflow-x:auto;line-height:normal;font-family:Menlo,'DejaVu Sans Mono',consolas,'Courier New',monospace\">/var/folders/7t/k8q3439j6z3c683j7w00wtm80000gn/T/ipykernel_58430/330735155.py:26: FutureWarning: The behavior of \n",
       "DataFrame concatenation with empty or all-NA entries is deprecated. In a future version, this will no longer \n",
       "exclude empty or all-NA columns when determining the result dtypes. To retain the old behavior, exclude the \n",
       "relevant entries before the concat operation.\n",
       "  results = pd.concat([results, normalized_data]) #.dropna(axis=1, how=\"all\")])\n",
       "</pre>\n"
      ],
      "text/plain": [
       "/var/folders/7t/k8q3439j6z3c683j7w00wtm80000gn/T/ipykernel_58430/330735155.py:26: FutureWarning: The behavior of \n",
       "DataFrame concatenation with empty or all-NA entries is deprecated. In a future version, this will no longer \n",
       "exclude empty or all-NA columns when determining the result dtypes. To retain the old behavior, exclude the \n",
       "relevant entries before the concat operation.\n",
       "  results = pd.concat([results, normalized_data]) #.dropna(axis=1, how=\"all\")])\n"
      ]
     },
     "metadata": {},
     "output_type": "display_data"
    },
    {
     "data": {
      "text/html": [
       "<pre style=\"white-space:pre;overflow-x:auto;line-height:normal;font-family:Menlo,'DejaVu Sans Mono',consolas,'Courier New',monospace\">/var/folders/7t/k8q3439j6z3c683j7w00wtm80000gn/T/ipykernel_58430/330735155.py:26: FutureWarning: The behavior of \n",
       "DataFrame concatenation with empty or all-NA entries is deprecated. In a future version, this will no longer \n",
       "exclude empty or all-NA columns when determining the result dtypes. To retain the old behavior, exclude the \n",
       "relevant entries before the concat operation.\n",
       "  results = pd.concat([results, normalized_data]) #.dropna(axis=1, how=\"all\")])\n",
       "</pre>\n"
      ],
      "text/plain": [
       "/var/folders/7t/k8q3439j6z3c683j7w00wtm80000gn/T/ipykernel_58430/330735155.py:26: FutureWarning: The behavior of \n",
       "DataFrame concatenation with empty or all-NA entries is deprecated. In a future version, this will no longer \n",
       "exclude empty or all-NA columns when determining the result dtypes. To retain the old behavior, exclude the \n",
       "relevant entries before the concat operation.\n",
       "  results = pd.concat([results, normalized_data]) #.dropna(axis=1, how=\"all\")])\n"
      ]
     },
     "metadata": {},
     "output_type": "display_data"
    },
    {
     "data": {
      "text/html": [
       "<pre style=\"white-space:pre;overflow-x:auto;line-height:normal;font-family:Menlo,'DejaVu Sans Mono',consolas,'Courier New',monospace\">/var/folders/7t/k8q3439j6z3c683j7w00wtm80000gn/T/ipykernel_58430/330735155.py:26: FutureWarning: The behavior of \n",
       "DataFrame concatenation with empty or all-NA entries is deprecated. In a future version, this will no longer \n",
       "exclude empty or all-NA columns when determining the result dtypes. To retain the old behavior, exclude the \n",
       "relevant entries before the concat operation.\n",
       "  results = pd.concat([results, normalized_data]) #.dropna(axis=1, how=\"all\")])\n",
       "</pre>\n"
      ],
      "text/plain": [
       "/var/folders/7t/k8q3439j6z3c683j7w00wtm80000gn/T/ipykernel_58430/330735155.py:26: FutureWarning: The behavior of \n",
       "DataFrame concatenation with empty or all-NA entries is deprecated. In a future version, this will no longer \n",
       "exclude empty or all-NA columns when determining the result dtypes. To retain the old behavior, exclude the \n",
       "relevant entries before the concat operation.\n",
       "  results = pd.concat([results, normalized_data]) #.dropna(axis=1, how=\"all\")])\n"
      ]
     },
     "metadata": {},
     "output_type": "display_data"
    },
    {
     "data": {
      "text/html": [
       "<pre style=\"white-space:pre;overflow-x:auto;line-height:normal;font-family:Menlo,'DejaVu Sans Mono',consolas,'Courier New',monospace\">/var/folders/7t/k8q3439j6z3c683j7w00wtm80000gn/T/ipykernel_58430/330735155.py:26: FutureWarning: The behavior of \n",
       "DataFrame concatenation with empty or all-NA entries is deprecated. In a future version, this will no longer \n",
       "exclude empty or all-NA columns when determining the result dtypes. To retain the old behavior, exclude the \n",
       "relevant entries before the concat operation.\n",
       "  results = pd.concat([results, normalized_data]) #.dropna(axis=1, how=\"all\")])\n",
       "</pre>\n"
      ],
      "text/plain": [
       "/var/folders/7t/k8q3439j6z3c683j7w00wtm80000gn/T/ipykernel_58430/330735155.py:26: FutureWarning: The behavior of \n",
       "DataFrame concatenation with empty or all-NA entries is deprecated. In a future version, this will no longer \n",
       "exclude empty or all-NA columns when determining the result dtypes. To retain the old behavior, exclude the \n",
       "relevant entries before the concat operation.\n",
       "  results = pd.concat([results, normalized_data]) #.dropna(axis=1, how=\"all\")])\n"
      ]
     },
     "metadata": {},
     "output_type": "display_data"
    },
    {
     "data": {
      "text/html": [
       "<pre style=\"white-space:pre;overflow-x:auto;line-height:normal;font-family:Menlo,'DejaVu Sans Mono',consolas,'Courier New',monospace\">/var/folders/7t/k8q3439j6z3c683j7w00wtm80000gn/T/ipykernel_58430/330735155.py:26: FutureWarning: The behavior of \n",
       "DataFrame concatenation with empty or all-NA entries is deprecated. In a future version, this will no longer \n",
       "exclude empty or all-NA columns when determining the result dtypes. To retain the old behavior, exclude the \n",
       "relevant entries before the concat operation.\n",
       "  results = pd.concat([results, normalized_data]) #.dropna(axis=1, how=\"all\")])\n",
       "</pre>\n"
      ],
      "text/plain": [
       "/var/folders/7t/k8q3439j6z3c683j7w00wtm80000gn/T/ipykernel_58430/330735155.py:26: FutureWarning: The behavior of \n",
       "DataFrame concatenation with empty or all-NA entries is deprecated. In a future version, this will no longer \n",
       "exclude empty or all-NA columns when determining the result dtypes. To retain the old behavior, exclude the \n",
       "relevant entries before the concat operation.\n",
       "  results = pd.concat([results, normalized_data]) #.dropna(axis=1, how=\"all\")])\n"
      ]
     },
     "metadata": {},
     "output_type": "display_data"
    },
    {
     "data": {
      "text/html": [
       "<pre style=\"white-space:pre;overflow-x:auto;line-height:normal;font-family:Menlo,'DejaVu Sans Mono',consolas,'Courier New',monospace\">/var/folders/7t/k8q3439j6z3c683j7w00wtm80000gn/T/ipykernel_58430/330735155.py:26: FutureWarning: The behavior of \n",
       "DataFrame concatenation with empty or all-NA entries is deprecated. In a future version, this will no longer \n",
       "exclude empty or all-NA columns when determining the result dtypes. To retain the old behavior, exclude the \n",
       "relevant entries before the concat operation.\n",
       "  results = pd.concat([results, normalized_data]) #.dropna(axis=1, how=\"all\")])\n",
       "</pre>\n"
      ],
      "text/plain": [
       "/var/folders/7t/k8q3439j6z3c683j7w00wtm80000gn/T/ipykernel_58430/330735155.py:26: FutureWarning: The behavior of \n",
       "DataFrame concatenation with empty or all-NA entries is deprecated. In a future version, this will no longer \n",
       "exclude empty or all-NA columns when determining the result dtypes. To retain the old behavior, exclude the \n",
       "relevant entries before the concat operation.\n",
       "  results = pd.concat([results, normalized_data]) #.dropna(axis=1, how=\"all\")])\n"
      ]
     },
     "metadata": {},
     "output_type": "display_data"
    },
    {
     "data": {
      "text/html": [
       "<pre style=\"white-space:pre;overflow-x:auto;line-height:normal;font-family:Menlo,'DejaVu Sans Mono',consolas,'Courier New',monospace\">/var/folders/7t/k8q3439j6z3c683j7w00wtm80000gn/T/ipykernel_58430/330735155.py:26: FutureWarning: The behavior of \n",
       "DataFrame concatenation with empty or all-NA entries is deprecated. In a future version, this will no longer \n",
       "exclude empty or all-NA columns when determining the result dtypes. To retain the old behavior, exclude the \n",
       "relevant entries before the concat operation.\n",
       "  results = pd.concat([results, normalized_data]) #.dropna(axis=1, how=\"all\")])\n",
       "</pre>\n"
      ],
      "text/plain": [
       "/var/folders/7t/k8q3439j6z3c683j7w00wtm80000gn/T/ipykernel_58430/330735155.py:26: FutureWarning: The behavior of \n",
       "DataFrame concatenation with empty or all-NA entries is deprecated. In a future version, this will no longer \n",
       "exclude empty or all-NA columns when determining the result dtypes. To retain the old behavior, exclude the \n",
       "relevant entries before the concat operation.\n",
       "  results = pd.concat([results, normalized_data]) #.dropna(axis=1, how=\"all\")])\n"
      ]
     },
     "metadata": {},
     "output_type": "display_data"
    },
    {
     "data": {
      "text/html": [
       "<pre style=\"white-space:pre;overflow-x:auto;line-height:normal;font-family:Menlo,'DejaVu Sans Mono',consolas,'Courier New',monospace\">/var/folders/7t/k8q3439j6z3c683j7w00wtm80000gn/T/ipykernel_58430/330735155.py:26: FutureWarning: The behavior of \n",
       "DataFrame concatenation with empty or all-NA entries is deprecated. In a future version, this will no longer \n",
       "exclude empty or all-NA columns when determining the result dtypes. To retain the old behavior, exclude the \n",
       "relevant entries before the concat operation.\n",
       "  results = pd.concat([results, normalized_data]) #.dropna(axis=1, how=\"all\")])\n",
       "</pre>\n"
      ],
      "text/plain": [
       "/var/folders/7t/k8q3439j6z3c683j7w00wtm80000gn/T/ipykernel_58430/330735155.py:26: FutureWarning: The behavior of \n",
       "DataFrame concatenation with empty or all-NA entries is deprecated. In a future version, this will no longer \n",
       "exclude empty or all-NA columns when determining the result dtypes. To retain the old behavior, exclude the \n",
       "relevant entries before the concat operation.\n",
       "  results = pd.concat([results, normalized_data]) #.dropna(axis=1, how=\"all\")])\n"
      ]
     },
     "metadata": {},
     "output_type": "display_data"
    },
    {
     "data": {
      "text/html": [
       "<pre style=\"white-space:pre;overflow-x:auto;line-height:normal;font-family:Menlo,'DejaVu Sans Mono',consolas,'Courier New',monospace\">/var/folders/7t/k8q3439j6z3c683j7w00wtm80000gn/T/ipykernel_58430/330735155.py:26: FutureWarning: The behavior of \n",
       "DataFrame concatenation with empty or all-NA entries is deprecated. In a future version, this will no longer \n",
       "exclude empty or all-NA columns when determining the result dtypes. To retain the old behavior, exclude the \n",
       "relevant entries before the concat operation.\n",
       "  results = pd.concat([results, normalized_data]) #.dropna(axis=1, how=\"all\")])\n",
       "</pre>\n"
      ],
      "text/plain": [
       "/var/folders/7t/k8q3439j6z3c683j7w00wtm80000gn/T/ipykernel_58430/330735155.py:26: FutureWarning: The behavior of \n",
       "DataFrame concatenation with empty or all-NA entries is deprecated. In a future version, this will no longer \n",
       "exclude empty or all-NA columns when determining the result dtypes. To retain the old behavior, exclude the \n",
       "relevant entries before the concat operation.\n",
       "  results = pd.concat([results, normalized_data]) #.dropna(axis=1, how=\"all\")])\n"
      ]
     },
     "metadata": {},
     "output_type": "display_data"
    },
    {
     "data": {
      "text/html": [
       "<pre style=\"white-space:pre;overflow-x:auto;line-height:normal;font-family:Menlo,'DejaVu Sans Mono',consolas,'Courier New',monospace\">/var/folders/7t/k8q3439j6z3c683j7w00wtm80000gn/T/ipykernel_58430/330735155.py:26: FutureWarning: The behavior of \n",
       "DataFrame concatenation with empty or all-NA entries is deprecated. In a future version, this will no longer \n",
       "exclude empty or all-NA columns when determining the result dtypes. To retain the old behavior, exclude the \n",
       "relevant entries before the concat operation.\n",
       "  results = pd.concat([results, normalized_data]) #.dropna(axis=1, how=\"all\")])\n",
       "</pre>\n"
      ],
      "text/plain": [
       "/var/folders/7t/k8q3439j6z3c683j7w00wtm80000gn/T/ipykernel_58430/330735155.py:26: FutureWarning: The behavior of \n",
       "DataFrame concatenation with empty or all-NA entries is deprecated. In a future version, this will no longer \n",
       "exclude empty or all-NA columns when determining the result dtypes. To retain the old behavior, exclude the \n",
       "relevant entries before the concat operation.\n",
       "  results = pd.concat([results, normalized_data]) #.dropna(axis=1, how=\"all\")])\n"
      ]
     },
     "metadata": {},
     "output_type": "display_data"
    },
    {
     "data": {
      "text/html": [
       "<pre style=\"white-space:pre;overflow-x:auto;line-height:normal;font-family:Menlo,'DejaVu Sans Mono',consolas,'Courier New',monospace\">/var/folders/7t/k8q3439j6z3c683j7w00wtm80000gn/T/ipykernel_58430/330735155.py:26: FutureWarning: The behavior of \n",
       "DataFrame concatenation with empty or all-NA entries is deprecated. In a future version, this will no longer \n",
       "exclude empty or all-NA columns when determining the result dtypes. To retain the old behavior, exclude the \n",
       "relevant entries before the concat operation.\n",
       "  results = pd.concat([results, normalized_data]) #.dropna(axis=1, how=\"all\")])\n",
       "</pre>\n"
      ],
      "text/plain": [
       "/var/folders/7t/k8q3439j6z3c683j7w00wtm80000gn/T/ipykernel_58430/330735155.py:26: FutureWarning: The behavior of \n",
       "DataFrame concatenation with empty or all-NA entries is deprecated. In a future version, this will no longer \n",
       "exclude empty or all-NA columns when determining the result dtypes. To retain the old behavior, exclude the \n",
       "relevant entries before the concat operation.\n",
       "  results = pd.concat([results, normalized_data]) #.dropna(axis=1, how=\"all\")])\n"
      ]
     },
     "metadata": {},
     "output_type": "display_data"
    },
    {
     "data": {
      "text/html": [
       "<pre style=\"white-space:pre;overflow-x:auto;line-height:normal;font-family:Menlo,'DejaVu Sans Mono',consolas,'Courier New',monospace\">/var/folders/7t/k8q3439j6z3c683j7w00wtm80000gn/T/ipykernel_58430/330735155.py:26: FutureWarning: The behavior of \n",
       "DataFrame concatenation with empty or all-NA entries is deprecated. In a future version, this will no longer \n",
       "exclude empty or all-NA columns when determining the result dtypes. To retain the old behavior, exclude the \n",
       "relevant entries before the concat operation.\n",
       "  results = pd.concat([results, normalized_data]) #.dropna(axis=1, how=\"all\")])\n",
       "</pre>\n"
      ],
      "text/plain": [
       "/var/folders/7t/k8q3439j6z3c683j7w00wtm80000gn/T/ipykernel_58430/330735155.py:26: FutureWarning: The behavior of \n",
       "DataFrame concatenation with empty or all-NA entries is deprecated. In a future version, this will no longer \n",
       "exclude empty or all-NA columns when determining the result dtypes. To retain the old behavior, exclude the \n",
       "relevant entries before the concat operation.\n",
       "  results = pd.concat([results, normalized_data]) #.dropna(axis=1, how=\"all\")])\n"
      ]
     },
     "metadata": {},
     "output_type": "display_data"
    },
    {
     "data": {
      "text/html": [
       "<pre style=\"white-space:pre;overflow-x:auto;line-height:normal;font-family:Menlo,'DejaVu Sans Mono',consolas,'Courier New',monospace\">/var/folders/7t/k8q3439j6z3c683j7w00wtm80000gn/T/ipykernel_58430/330735155.py:26: FutureWarning: The behavior of \n",
       "DataFrame concatenation with empty or all-NA entries is deprecated. In a future version, this will no longer \n",
       "exclude empty or all-NA columns when determining the result dtypes. To retain the old behavior, exclude the \n",
       "relevant entries before the concat operation.\n",
       "  results = pd.concat([results, normalized_data]) #.dropna(axis=1, how=\"all\")])\n",
       "</pre>\n"
      ],
      "text/plain": [
       "/var/folders/7t/k8q3439j6z3c683j7w00wtm80000gn/T/ipykernel_58430/330735155.py:26: FutureWarning: The behavior of \n",
       "DataFrame concatenation with empty or all-NA entries is deprecated. In a future version, this will no longer \n",
       "exclude empty or all-NA columns when determining the result dtypes. To retain the old behavior, exclude the \n",
       "relevant entries before the concat operation.\n",
       "  results = pd.concat([results, normalized_data]) #.dropna(axis=1, how=\"all\")])\n"
      ]
     },
     "metadata": {},
     "output_type": "display_data"
    },
    {
     "data": {
      "text/html": [
       "<pre style=\"white-space:pre;overflow-x:auto;line-height:normal;font-family:Menlo,'DejaVu Sans Mono',consolas,'Courier New',monospace\">/var/folders/7t/k8q3439j6z3c683j7w00wtm80000gn/T/ipykernel_58430/330735155.py:26: FutureWarning: The behavior of \n",
       "DataFrame concatenation with empty or all-NA entries is deprecated. In a future version, this will no longer \n",
       "exclude empty or all-NA columns when determining the result dtypes. To retain the old behavior, exclude the \n",
       "relevant entries before the concat operation.\n",
       "  results = pd.concat([results, normalized_data]) #.dropna(axis=1, how=\"all\")])\n",
       "</pre>\n"
      ],
      "text/plain": [
       "/var/folders/7t/k8q3439j6z3c683j7w00wtm80000gn/T/ipykernel_58430/330735155.py:26: FutureWarning: The behavior of \n",
       "DataFrame concatenation with empty or all-NA entries is deprecated. In a future version, this will no longer \n",
       "exclude empty or all-NA columns when determining the result dtypes. To retain the old behavior, exclude the \n",
       "relevant entries before the concat operation.\n",
       "  results = pd.concat([results, normalized_data]) #.dropna(axis=1, how=\"all\")])\n"
      ]
     },
     "metadata": {},
     "output_type": "display_data"
    },
    {
     "data": {
      "text/html": [
       "<pre style=\"white-space:pre;overflow-x:auto;line-height:normal;font-family:Menlo,'DejaVu Sans Mono',consolas,'Courier New',monospace\">/var/folders/7t/k8q3439j6z3c683j7w00wtm80000gn/T/ipykernel_58430/330735155.py:26: FutureWarning: The behavior of \n",
       "DataFrame concatenation with empty or all-NA entries is deprecated. In a future version, this will no longer \n",
       "exclude empty or all-NA columns when determining the result dtypes. To retain the old behavior, exclude the \n",
       "relevant entries before the concat operation.\n",
       "  results = pd.concat([results, normalized_data]) #.dropna(axis=1, how=\"all\")])\n",
       "</pre>\n"
      ],
      "text/plain": [
       "/var/folders/7t/k8q3439j6z3c683j7w00wtm80000gn/T/ipykernel_58430/330735155.py:26: FutureWarning: The behavior of \n",
       "DataFrame concatenation with empty or all-NA entries is deprecated. In a future version, this will no longer \n",
       "exclude empty or all-NA columns when determining the result dtypes. To retain the old behavior, exclude the \n",
       "relevant entries before the concat operation.\n",
       "  results = pd.concat([results, normalized_data]) #.dropna(axis=1, how=\"all\")])\n"
      ]
     },
     "metadata": {},
     "output_type": "display_data"
    },
    {
     "data": {
      "text/html": [
       "<pre style=\"white-space:pre;overflow-x:auto;line-height:normal;font-family:Menlo,'DejaVu Sans Mono',consolas,'Courier New',monospace\">/var/folders/7t/k8q3439j6z3c683j7w00wtm80000gn/T/ipykernel_58430/330735155.py:26: FutureWarning: The behavior of \n",
       "DataFrame concatenation with empty or all-NA entries is deprecated. In a future version, this will no longer \n",
       "exclude empty or all-NA columns when determining the result dtypes. To retain the old behavior, exclude the \n",
       "relevant entries before the concat operation.\n",
       "  results = pd.concat([results, normalized_data]) #.dropna(axis=1, how=\"all\")])\n",
       "</pre>\n"
      ],
      "text/plain": [
       "/var/folders/7t/k8q3439j6z3c683j7w00wtm80000gn/T/ipykernel_58430/330735155.py:26: FutureWarning: The behavior of \n",
       "DataFrame concatenation with empty or all-NA entries is deprecated. In a future version, this will no longer \n",
       "exclude empty or all-NA columns when determining the result dtypes. To retain the old behavior, exclude the \n",
       "relevant entries before the concat operation.\n",
       "  results = pd.concat([results, normalized_data]) #.dropna(axis=1, how=\"all\")])\n"
      ]
     },
     "metadata": {},
     "output_type": "display_data"
    },
    {
     "data": {
      "text/html": [
       "<pre style=\"white-space:pre;overflow-x:auto;line-height:normal;font-family:Menlo,'DejaVu Sans Mono',consolas,'Courier New',monospace\">/var/folders/7t/k8q3439j6z3c683j7w00wtm80000gn/T/ipykernel_58430/330735155.py:26: FutureWarning: The behavior of \n",
       "DataFrame concatenation with empty or all-NA entries is deprecated. In a future version, this will no longer \n",
       "exclude empty or all-NA columns when determining the result dtypes. To retain the old behavior, exclude the \n",
       "relevant entries before the concat operation.\n",
       "  results = pd.concat([results, normalized_data]) #.dropna(axis=1, how=\"all\")])\n",
       "</pre>\n"
      ],
      "text/plain": [
       "/var/folders/7t/k8q3439j6z3c683j7w00wtm80000gn/T/ipykernel_58430/330735155.py:26: FutureWarning: The behavior of \n",
       "DataFrame concatenation with empty or all-NA entries is deprecated. In a future version, this will no longer \n",
       "exclude empty or all-NA columns when determining the result dtypes. To retain the old behavior, exclude the \n",
       "relevant entries before the concat operation.\n",
       "  results = pd.concat([results, normalized_data]) #.dropna(axis=1, how=\"all\")])\n"
      ]
     },
     "metadata": {},
     "output_type": "display_data"
    },
    {
     "data": {
      "text/html": [
       "<pre style=\"white-space:pre;overflow-x:auto;line-height:normal;font-family:Menlo,'DejaVu Sans Mono',consolas,'Courier New',monospace\">/var/folders/7t/k8q3439j6z3c683j7w00wtm80000gn/T/ipykernel_58430/330735155.py:26: FutureWarning: The behavior of \n",
       "DataFrame concatenation with empty or all-NA entries is deprecated. In a future version, this will no longer \n",
       "exclude empty or all-NA columns when determining the result dtypes. To retain the old behavior, exclude the \n",
       "relevant entries before the concat operation.\n",
       "  results = pd.concat([results, normalized_data]) #.dropna(axis=1, how=\"all\")])\n",
       "</pre>\n"
      ],
      "text/plain": [
       "/var/folders/7t/k8q3439j6z3c683j7w00wtm80000gn/T/ipykernel_58430/330735155.py:26: FutureWarning: The behavior of \n",
       "DataFrame concatenation with empty or all-NA entries is deprecated. In a future version, this will no longer \n",
       "exclude empty or all-NA columns when determining the result dtypes. To retain the old behavior, exclude the \n",
       "relevant entries before the concat operation.\n",
       "  results = pd.concat([results, normalized_data]) #.dropna(axis=1, how=\"all\")])\n"
      ]
     },
     "metadata": {},
     "output_type": "display_data"
    },
    {
     "data": {
      "text/html": [
       "<pre style=\"white-space:pre;overflow-x:auto;line-height:normal;font-family:Menlo,'DejaVu Sans Mono',consolas,'Courier New',monospace\">/var/folders/7t/k8q3439j6z3c683j7w00wtm80000gn/T/ipykernel_58430/330735155.py:26: FutureWarning: The behavior of \n",
       "DataFrame concatenation with empty or all-NA entries is deprecated. In a future version, this will no longer \n",
       "exclude empty or all-NA columns when determining the result dtypes. To retain the old behavior, exclude the \n",
       "relevant entries before the concat operation.\n",
       "  results = pd.concat([results, normalized_data]) #.dropna(axis=1, how=\"all\")])\n",
       "</pre>\n"
      ],
      "text/plain": [
       "/var/folders/7t/k8q3439j6z3c683j7w00wtm80000gn/T/ipykernel_58430/330735155.py:26: FutureWarning: The behavior of \n",
       "DataFrame concatenation with empty or all-NA entries is deprecated. In a future version, this will no longer \n",
       "exclude empty or all-NA columns when determining the result dtypes. To retain the old behavior, exclude the \n",
       "relevant entries before the concat operation.\n",
       "  results = pd.concat([results, normalized_data]) #.dropna(axis=1, how=\"all\")])\n"
      ]
     },
     "metadata": {},
     "output_type": "display_data"
    },
    {
     "data": {
      "text/html": [
       "<pre style=\"white-space:pre;overflow-x:auto;line-height:normal;font-family:Menlo,'DejaVu Sans Mono',consolas,'Courier New',monospace\">/var/folders/7t/k8q3439j6z3c683j7w00wtm80000gn/T/ipykernel_58430/330735155.py:26: FutureWarning: The behavior of \n",
       "DataFrame concatenation with empty or all-NA entries is deprecated. In a future version, this will no longer \n",
       "exclude empty or all-NA columns when determining the result dtypes. To retain the old behavior, exclude the \n",
       "relevant entries before the concat operation.\n",
       "  results = pd.concat([results, normalized_data]) #.dropna(axis=1, how=\"all\")])\n",
       "</pre>\n"
      ],
      "text/plain": [
       "/var/folders/7t/k8q3439j6z3c683j7w00wtm80000gn/T/ipykernel_58430/330735155.py:26: FutureWarning: The behavior of \n",
       "DataFrame concatenation with empty or all-NA entries is deprecated. In a future version, this will no longer \n",
       "exclude empty or all-NA columns when determining the result dtypes. To retain the old behavior, exclude the \n",
       "relevant entries before the concat operation.\n",
       "  results = pd.concat([results, normalized_data]) #.dropna(axis=1, how=\"all\")])\n"
      ]
     },
     "metadata": {},
     "output_type": "display_data"
    },
    {
     "data": {
      "text/html": [
       "<pre style=\"white-space:pre;overflow-x:auto;line-height:normal;font-family:Menlo,'DejaVu Sans Mono',consolas,'Courier New',monospace\">/var/folders/7t/k8q3439j6z3c683j7w00wtm80000gn/T/ipykernel_58430/330735155.py:26: FutureWarning: The behavior of \n",
       "DataFrame concatenation with empty or all-NA entries is deprecated. In a future version, this will no longer \n",
       "exclude empty or all-NA columns when determining the result dtypes. To retain the old behavior, exclude the \n",
       "relevant entries before the concat operation.\n",
       "  results = pd.concat([results, normalized_data]) #.dropna(axis=1, how=\"all\")])\n",
       "</pre>\n"
      ],
      "text/plain": [
       "/var/folders/7t/k8q3439j6z3c683j7w00wtm80000gn/T/ipykernel_58430/330735155.py:26: FutureWarning: The behavior of \n",
       "DataFrame concatenation with empty or all-NA entries is deprecated. In a future version, this will no longer \n",
       "exclude empty or all-NA columns when determining the result dtypes. To retain the old behavior, exclude the \n",
       "relevant entries before the concat operation.\n",
       "  results = pd.concat([results, normalized_data]) #.dropna(axis=1, how=\"all\")])\n"
      ]
     },
     "metadata": {},
     "output_type": "display_data"
    },
    {
     "data": {
      "text/html": [
       "<pre style=\"white-space:pre;overflow-x:auto;line-height:normal;font-family:Menlo,'DejaVu Sans Mono',consolas,'Courier New',monospace\">/var/folders/7t/k8q3439j6z3c683j7w00wtm80000gn/T/ipykernel_58430/330735155.py:26: FutureWarning: The behavior of \n",
       "DataFrame concatenation with empty or all-NA entries is deprecated. In a future version, this will no longer \n",
       "exclude empty or all-NA columns when determining the result dtypes. To retain the old behavior, exclude the \n",
       "relevant entries before the concat operation.\n",
       "  results = pd.concat([results, normalized_data]) #.dropna(axis=1, how=\"all\")])\n",
       "</pre>\n"
      ],
      "text/plain": [
       "/var/folders/7t/k8q3439j6z3c683j7w00wtm80000gn/T/ipykernel_58430/330735155.py:26: FutureWarning: The behavior of \n",
       "DataFrame concatenation with empty or all-NA entries is deprecated. In a future version, this will no longer \n",
       "exclude empty or all-NA columns when determining the result dtypes. To retain the old behavior, exclude the \n",
       "relevant entries before the concat operation.\n",
       "  results = pd.concat([results, normalized_data]) #.dropna(axis=1, how=\"all\")])\n"
      ]
     },
     "metadata": {},
     "output_type": "display_data"
    },
    {
     "data": {
      "text/html": [
       "<pre style=\"white-space:pre;overflow-x:auto;line-height:normal;font-family:Menlo,'DejaVu Sans Mono',consolas,'Courier New',monospace\">/var/folders/7t/k8q3439j6z3c683j7w00wtm80000gn/T/ipykernel_58430/330735155.py:26: FutureWarning: The behavior of \n",
       "DataFrame concatenation with empty or all-NA entries is deprecated. In a future version, this will no longer \n",
       "exclude empty or all-NA columns when determining the result dtypes. To retain the old behavior, exclude the \n",
       "relevant entries before the concat operation.\n",
       "  results = pd.concat([results, normalized_data]) #.dropna(axis=1, how=\"all\")])\n",
       "</pre>\n"
      ],
      "text/plain": [
       "/var/folders/7t/k8q3439j6z3c683j7w00wtm80000gn/T/ipykernel_58430/330735155.py:26: FutureWarning: The behavior of \n",
       "DataFrame concatenation with empty or all-NA entries is deprecated. In a future version, this will no longer \n",
       "exclude empty or all-NA columns when determining the result dtypes. To retain the old behavior, exclude the \n",
       "relevant entries before the concat operation.\n",
       "  results = pd.concat([results, normalized_data]) #.dropna(axis=1, how=\"all\")])\n"
      ]
     },
     "metadata": {},
     "output_type": "display_data"
    },
    {
     "data": {
      "text/html": [
       "<pre style=\"white-space:pre;overflow-x:auto;line-height:normal;font-family:Menlo,'DejaVu Sans Mono',consolas,'Courier New',monospace\">/var/folders/7t/k8q3439j6z3c683j7w00wtm80000gn/T/ipykernel_58430/330735155.py:26: FutureWarning: The behavior of \n",
       "DataFrame concatenation with empty or all-NA entries is deprecated. In a future version, this will no longer \n",
       "exclude empty or all-NA columns when determining the result dtypes. To retain the old behavior, exclude the \n",
       "relevant entries before the concat operation.\n",
       "  results = pd.concat([results, normalized_data]) #.dropna(axis=1, how=\"all\")])\n",
       "</pre>\n"
      ],
      "text/plain": [
       "/var/folders/7t/k8q3439j6z3c683j7w00wtm80000gn/T/ipykernel_58430/330735155.py:26: FutureWarning: The behavior of \n",
       "DataFrame concatenation with empty or all-NA entries is deprecated. In a future version, this will no longer \n",
       "exclude empty or all-NA columns when determining the result dtypes. To retain the old behavior, exclude the \n",
       "relevant entries before the concat operation.\n",
       "  results = pd.concat([results, normalized_data]) #.dropna(axis=1, how=\"all\")])\n"
      ]
     },
     "metadata": {},
     "output_type": "display_data"
    },
    {
     "data": {
      "text/html": [
       "<pre style=\"white-space:pre;overflow-x:auto;line-height:normal;font-family:Menlo,'DejaVu Sans Mono',consolas,'Courier New',monospace\">/var/folders/7t/k8q3439j6z3c683j7w00wtm80000gn/T/ipykernel_58430/330735155.py:26: FutureWarning: The behavior of \n",
       "DataFrame concatenation with empty or all-NA entries is deprecated. In a future version, this will no longer \n",
       "exclude empty or all-NA columns when determining the result dtypes. To retain the old behavior, exclude the \n",
       "relevant entries before the concat operation.\n",
       "  results = pd.concat([results, normalized_data]) #.dropna(axis=1, how=\"all\")])\n",
       "</pre>\n"
      ],
      "text/plain": [
       "/var/folders/7t/k8q3439j6z3c683j7w00wtm80000gn/T/ipykernel_58430/330735155.py:26: FutureWarning: The behavior of \n",
       "DataFrame concatenation with empty or all-NA entries is deprecated. In a future version, this will no longer \n",
       "exclude empty or all-NA columns when determining the result dtypes. To retain the old behavior, exclude the \n",
       "relevant entries before the concat operation.\n",
       "  results = pd.concat([results, normalized_data]) #.dropna(axis=1, how=\"all\")])\n"
      ]
     },
     "metadata": {},
     "output_type": "display_data"
    },
    {
     "data": {
      "text/html": [
       "<pre style=\"white-space:pre;overflow-x:auto;line-height:normal;font-family:Menlo,'DejaVu Sans Mono',consolas,'Courier New',monospace\">/var/folders/7t/k8q3439j6z3c683j7w00wtm80000gn/T/ipykernel_58430/330735155.py:26: FutureWarning: The behavior of \n",
       "DataFrame concatenation with empty or all-NA entries is deprecated. In a future version, this will no longer \n",
       "exclude empty or all-NA columns when determining the result dtypes. To retain the old behavior, exclude the \n",
       "relevant entries before the concat operation.\n",
       "  results = pd.concat([results, normalized_data]) #.dropna(axis=1, how=\"all\")])\n",
       "</pre>\n"
      ],
      "text/plain": [
       "/var/folders/7t/k8q3439j6z3c683j7w00wtm80000gn/T/ipykernel_58430/330735155.py:26: FutureWarning: The behavior of \n",
       "DataFrame concatenation with empty or all-NA entries is deprecated. In a future version, this will no longer \n",
       "exclude empty or all-NA columns when determining the result dtypes. To retain the old behavior, exclude the \n",
       "relevant entries before the concat operation.\n",
       "  results = pd.concat([results, normalized_data]) #.dropna(axis=1, how=\"all\")])\n"
      ]
     },
     "metadata": {},
     "output_type": "display_data"
    },
    {
     "data": {
      "text/html": [
       "<pre style=\"white-space:pre;overflow-x:auto;line-height:normal;font-family:Menlo,'DejaVu Sans Mono',consolas,'Courier New',monospace\">/var/folders/7t/k8q3439j6z3c683j7w00wtm80000gn/T/ipykernel_58430/330735155.py:26: FutureWarning: The behavior of \n",
       "DataFrame concatenation with empty or all-NA entries is deprecated. In a future version, this will no longer \n",
       "exclude empty or all-NA columns when determining the result dtypes. To retain the old behavior, exclude the \n",
       "relevant entries before the concat operation.\n",
       "  results = pd.concat([results, normalized_data]) #.dropna(axis=1, how=\"all\")])\n",
       "</pre>\n"
      ],
      "text/plain": [
       "/var/folders/7t/k8q3439j6z3c683j7w00wtm80000gn/T/ipykernel_58430/330735155.py:26: FutureWarning: The behavior of \n",
       "DataFrame concatenation with empty or all-NA entries is deprecated. In a future version, this will no longer \n",
       "exclude empty or all-NA columns when determining the result dtypes. To retain the old behavior, exclude the \n",
       "relevant entries before the concat operation.\n",
       "  results = pd.concat([results, normalized_data]) #.dropna(axis=1, how=\"all\")])\n"
      ]
     },
     "metadata": {},
     "output_type": "display_data"
    },
    {
     "data": {
      "text/html": [
       "<pre style=\"white-space:pre;overflow-x:auto;line-height:normal;font-family:Menlo,'DejaVu Sans Mono',consolas,'Courier New',monospace\">/var/folders/7t/k8q3439j6z3c683j7w00wtm80000gn/T/ipykernel_58430/330735155.py:26: FutureWarning: The behavior of \n",
       "DataFrame concatenation with empty or all-NA entries is deprecated. In a future version, this will no longer \n",
       "exclude empty or all-NA columns when determining the result dtypes. To retain the old behavior, exclude the \n",
       "relevant entries before the concat operation.\n",
       "  results = pd.concat([results, normalized_data]) #.dropna(axis=1, how=\"all\")])\n",
       "</pre>\n"
      ],
      "text/plain": [
       "/var/folders/7t/k8q3439j6z3c683j7w00wtm80000gn/T/ipykernel_58430/330735155.py:26: FutureWarning: The behavior of \n",
       "DataFrame concatenation with empty or all-NA entries is deprecated. In a future version, this will no longer \n",
       "exclude empty or all-NA columns when determining the result dtypes. To retain the old behavior, exclude the \n",
       "relevant entries before the concat operation.\n",
       "  results = pd.concat([results, normalized_data]) #.dropna(axis=1, how=\"all\")])\n"
      ]
     },
     "metadata": {},
     "output_type": "display_data"
    },
    {
     "data": {
      "text/html": [
       "<pre style=\"white-space:pre;overflow-x:auto;line-height:normal;font-family:Menlo,'DejaVu Sans Mono',consolas,'Courier New',monospace\">/var/folders/7t/k8q3439j6z3c683j7w00wtm80000gn/T/ipykernel_58430/330735155.py:26: FutureWarning: The behavior of \n",
       "DataFrame concatenation with empty or all-NA entries is deprecated. In a future version, this will no longer \n",
       "exclude empty or all-NA columns when determining the result dtypes. To retain the old behavior, exclude the \n",
       "relevant entries before the concat operation.\n",
       "  results = pd.concat([results, normalized_data]) #.dropna(axis=1, how=\"all\")])\n",
       "</pre>\n"
      ],
      "text/plain": [
       "/var/folders/7t/k8q3439j6z3c683j7w00wtm80000gn/T/ipykernel_58430/330735155.py:26: FutureWarning: The behavior of \n",
       "DataFrame concatenation with empty or all-NA entries is deprecated. In a future version, this will no longer \n",
       "exclude empty or all-NA columns when determining the result dtypes. To retain the old behavior, exclude the \n",
       "relevant entries before the concat operation.\n",
       "  results = pd.concat([results, normalized_data]) #.dropna(axis=1, how=\"all\")])\n"
      ]
     },
     "metadata": {},
     "output_type": "display_data"
    },
    {
     "data": {
      "text/html": [
       "<pre style=\"white-space:pre;overflow-x:auto;line-height:normal;font-family:Menlo,'DejaVu Sans Mono',consolas,'Courier New',monospace\">/var/folders/7t/k8q3439j6z3c683j7w00wtm80000gn/T/ipykernel_58430/330735155.py:26: FutureWarning: The behavior of \n",
       "DataFrame concatenation with empty or all-NA entries is deprecated. In a future version, this will no longer \n",
       "exclude empty or all-NA columns when determining the result dtypes. To retain the old behavior, exclude the \n",
       "relevant entries before the concat operation.\n",
       "  results = pd.concat([results, normalized_data]) #.dropna(axis=1, how=\"all\")])\n",
       "</pre>\n"
      ],
      "text/plain": [
       "/var/folders/7t/k8q3439j6z3c683j7w00wtm80000gn/T/ipykernel_58430/330735155.py:26: FutureWarning: The behavior of \n",
       "DataFrame concatenation with empty or all-NA entries is deprecated. In a future version, this will no longer \n",
       "exclude empty or all-NA columns when determining the result dtypes. To retain the old behavior, exclude the \n",
       "relevant entries before the concat operation.\n",
       "  results = pd.concat([results, normalized_data]) #.dropna(axis=1, how=\"all\")])\n"
      ]
     },
     "metadata": {},
     "output_type": "display_data"
    },
    {
     "data": {
      "text/html": [
       "<pre style=\"white-space:pre;overflow-x:auto;line-height:normal;font-family:Menlo,'DejaVu Sans Mono',consolas,'Courier New',monospace\">/var/folders/7t/k8q3439j6z3c683j7w00wtm80000gn/T/ipykernel_58430/330735155.py:26: FutureWarning: The behavior of \n",
       "DataFrame concatenation with empty or all-NA entries is deprecated. In a future version, this will no longer \n",
       "exclude empty or all-NA columns when determining the result dtypes. To retain the old behavior, exclude the \n",
       "relevant entries before the concat operation.\n",
       "  results = pd.concat([results, normalized_data]) #.dropna(axis=1, how=\"all\")])\n",
       "</pre>\n"
      ],
      "text/plain": [
       "/var/folders/7t/k8q3439j6z3c683j7w00wtm80000gn/T/ipykernel_58430/330735155.py:26: FutureWarning: The behavior of \n",
       "DataFrame concatenation with empty or all-NA entries is deprecated. In a future version, this will no longer \n",
       "exclude empty or all-NA columns when determining the result dtypes. To retain the old behavior, exclude the \n",
       "relevant entries before the concat operation.\n",
       "  results = pd.concat([results, normalized_data]) #.dropna(axis=1, how=\"all\")])\n"
      ]
     },
     "metadata": {},
     "output_type": "display_data"
    },
    {
     "data": {
      "text/html": [
       "<pre style=\"white-space:pre;overflow-x:auto;line-height:normal;font-family:Menlo,'DejaVu Sans Mono',consolas,'Courier New',monospace\">/var/folders/7t/k8q3439j6z3c683j7w00wtm80000gn/T/ipykernel_58430/330735155.py:26: FutureWarning: The behavior of \n",
       "DataFrame concatenation with empty or all-NA entries is deprecated. In a future version, this will no longer \n",
       "exclude empty or all-NA columns when determining the result dtypes. To retain the old behavior, exclude the \n",
       "relevant entries before the concat operation.\n",
       "  results = pd.concat([results, normalized_data]) #.dropna(axis=1, how=\"all\")])\n",
       "</pre>\n"
      ],
      "text/plain": [
       "/var/folders/7t/k8q3439j6z3c683j7w00wtm80000gn/T/ipykernel_58430/330735155.py:26: FutureWarning: The behavior of \n",
       "DataFrame concatenation with empty or all-NA entries is deprecated. In a future version, this will no longer \n",
       "exclude empty or all-NA columns when determining the result dtypes. To retain the old behavior, exclude the \n",
       "relevant entries before the concat operation.\n",
       "  results = pd.concat([results, normalized_data]) #.dropna(axis=1, how=\"all\")])\n"
      ]
     },
     "metadata": {},
     "output_type": "display_data"
    },
    {
     "data": {
      "text/html": [
       "<pre style=\"white-space:pre;overflow-x:auto;line-height:normal;font-family:Menlo,'DejaVu Sans Mono',consolas,'Courier New',monospace\">/var/folders/7t/k8q3439j6z3c683j7w00wtm80000gn/T/ipykernel_58430/330735155.py:26: FutureWarning: The behavior of \n",
       "DataFrame concatenation with empty or all-NA entries is deprecated. In a future version, this will no longer \n",
       "exclude empty or all-NA columns when determining the result dtypes. To retain the old behavior, exclude the \n",
       "relevant entries before the concat operation.\n",
       "  results = pd.concat([results, normalized_data]) #.dropna(axis=1, how=\"all\")])\n",
       "</pre>\n"
      ],
      "text/plain": [
       "/var/folders/7t/k8q3439j6z3c683j7w00wtm80000gn/T/ipykernel_58430/330735155.py:26: FutureWarning: The behavior of \n",
       "DataFrame concatenation with empty or all-NA entries is deprecated. In a future version, this will no longer \n",
       "exclude empty or all-NA columns when determining the result dtypes. To retain the old behavior, exclude the \n",
       "relevant entries before the concat operation.\n",
       "  results = pd.concat([results, normalized_data]) #.dropna(axis=1, how=\"all\")])\n"
      ]
     },
     "metadata": {},
     "output_type": "display_data"
    },
    {
     "data": {
      "text/html": [
       "<pre style=\"white-space:pre;overflow-x:auto;line-height:normal;font-family:Menlo,'DejaVu Sans Mono',consolas,'Courier New',monospace\">/var/folders/7t/k8q3439j6z3c683j7w00wtm80000gn/T/ipykernel_58430/330735155.py:26: FutureWarning: The behavior of \n",
       "DataFrame concatenation with empty or all-NA entries is deprecated. In a future version, this will no longer \n",
       "exclude empty or all-NA columns when determining the result dtypes. To retain the old behavior, exclude the \n",
       "relevant entries before the concat operation.\n",
       "  results = pd.concat([results, normalized_data]) #.dropna(axis=1, how=\"all\")])\n",
       "</pre>\n"
      ],
      "text/plain": [
       "/var/folders/7t/k8q3439j6z3c683j7w00wtm80000gn/T/ipykernel_58430/330735155.py:26: FutureWarning: The behavior of \n",
       "DataFrame concatenation with empty or all-NA entries is deprecated. In a future version, this will no longer \n",
       "exclude empty or all-NA columns when determining the result dtypes. To retain the old behavior, exclude the \n",
       "relevant entries before the concat operation.\n",
       "  results = pd.concat([results, normalized_data]) #.dropna(axis=1, how=\"all\")])\n"
      ]
     },
     "metadata": {},
     "output_type": "display_data"
    },
    {
     "data": {
      "text/html": [
       "<pre style=\"white-space:pre;overflow-x:auto;line-height:normal;font-family:Menlo,'DejaVu Sans Mono',consolas,'Courier New',monospace\">/var/folders/7t/k8q3439j6z3c683j7w00wtm80000gn/T/ipykernel_58430/330735155.py:26: FutureWarning: The behavior of \n",
       "DataFrame concatenation with empty or all-NA entries is deprecated. In a future version, this will no longer \n",
       "exclude empty or all-NA columns when determining the result dtypes. To retain the old behavior, exclude the \n",
       "relevant entries before the concat operation.\n",
       "  results = pd.concat([results, normalized_data]) #.dropna(axis=1, how=\"all\")])\n",
       "</pre>\n"
      ],
      "text/plain": [
       "/var/folders/7t/k8q3439j6z3c683j7w00wtm80000gn/T/ipykernel_58430/330735155.py:26: FutureWarning: The behavior of \n",
       "DataFrame concatenation with empty or all-NA entries is deprecated. In a future version, this will no longer \n",
       "exclude empty or all-NA columns when determining the result dtypes. To retain the old behavior, exclude the \n",
       "relevant entries before the concat operation.\n",
       "  results = pd.concat([results, normalized_data]) #.dropna(axis=1, how=\"all\")])\n"
      ]
     },
     "metadata": {},
     "output_type": "display_data"
    },
    {
     "data": {
      "text/html": [
       "<pre style=\"white-space:pre;overflow-x:auto;line-height:normal;font-family:Menlo,'DejaVu Sans Mono',consolas,'Courier New',monospace\">/var/folders/7t/k8q3439j6z3c683j7w00wtm80000gn/T/ipykernel_58430/330735155.py:26: FutureWarning: The behavior of \n",
       "DataFrame concatenation with empty or all-NA entries is deprecated. In a future version, this will no longer \n",
       "exclude empty or all-NA columns when determining the result dtypes. To retain the old behavior, exclude the \n",
       "relevant entries before the concat operation.\n",
       "  results = pd.concat([results, normalized_data]) #.dropna(axis=1, how=\"all\")])\n",
       "</pre>\n"
      ],
      "text/plain": [
       "/var/folders/7t/k8q3439j6z3c683j7w00wtm80000gn/T/ipykernel_58430/330735155.py:26: FutureWarning: The behavior of \n",
       "DataFrame concatenation with empty or all-NA entries is deprecated. In a future version, this will no longer \n",
       "exclude empty or all-NA columns when determining the result dtypes. To retain the old behavior, exclude the \n",
       "relevant entries before the concat operation.\n",
       "  results = pd.concat([results, normalized_data]) #.dropna(axis=1, how=\"all\")])\n"
      ]
     },
     "metadata": {},
     "output_type": "display_data"
    },
    {
     "data": {
      "text/html": [
       "<pre style=\"white-space:pre;overflow-x:auto;line-height:normal;font-family:Menlo,'DejaVu Sans Mono',consolas,'Courier New',monospace\">/var/folders/7t/k8q3439j6z3c683j7w00wtm80000gn/T/ipykernel_58430/330735155.py:26: FutureWarning: The behavior of \n",
       "DataFrame concatenation with empty or all-NA entries is deprecated. In a future version, this will no longer \n",
       "exclude empty or all-NA columns when determining the result dtypes. To retain the old behavior, exclude the \n",
       "relevant entries before the concat operation.\n",
       "  results = pd.concat([results, normalized_data]) #.dropna(axis=1, how=\"all\")])\n",
       "</pre>\n"
      ],
      "text/plain": [
       "/var/folders/7t/k8q3439j6z3c683j7w00wtm80000gn/T/ipykernel_58430/330735155.py:26: FutureWarning: The behavior of \n",
       "DataFrame concatenation with empty or all-NA entries is deprecated. In a future version, this will no longer \n",
       "exclude empty or all-NA columns when determining the result dtypes. To retain the old behavior, exclude the \n",
       "relevant entries before the concat operation.\n",
       "  results = pd.concat([results, normalized_data]) #.dropna(axis=1, how=\"all\")])\n"
      ]
     },
     "metadata": {},
     "output_type": "display_data"
    },
    {
     "data": {
      "text/html": [
       "<pre style=\"white-space:pre;overflow-x:auto;line-height:normal;font-family:Menlo,'DejaVu Sans Mono',consolas,'Courier New',monospace\">/var/folders/7t/k8q3439j6z3c683j7w00wtm80000gn/T/ipykernel_58430/330735155.py:26: FutureWarning: The behavior of \n",
       "DataFrame concatenation with empty or all-NA entries is deprecated. In a future version, this will no longer \n",
       "exclude empty or all-NA columns when determining the result dtypes. To retain the old behavior, exclude the \n",
       "relevant entries before the concat operation.\n",
       "  results = pd.concat([results, normalized_data]) #.dropna(axis=1, how=\"all\")])\n",
       "</pre>\n"
      ],
      "text/plain": [
       "/var/folders/7t/k8q3439j6z3c683j7w00wtm80000gn/T/ipykernel_58430/330735155.py:26: FutureWarning: The behavior of \n",
       "DataFrame concatenation with empty or all-NA entries is deprecated. In a future version, this will no longer \n",
       "exclude empty or all-NA columns when determining the result dtypes. To retain the old behavior, exclude the \n",
       "relevant entries before the concat operation.\n",
       "  results = pd.concat([results, normalized_data]) #.dropna(axis=1, how=\"all\")])\n"
      ]
     },
     "metadata": {},
     "output_type": "display_data"
    },
    {
     "data": {
      "text/html": [
       "<pre style=\"white-space:pre;overflow-x:auto;line-height:normal;font-family:Menlo,'DejaVu Sans Mono',consolas,'Courier New',monospace\">/var/folders/7t/k8q3439j6z3c683j7w00wtm80000gn/T/ipykernel_58430/330735155.py:26: FutureWarning: The behavior of \n",
       "DataFrame concatenation with empty or all-NA entries is deprecated. In a future version, this will no longer \n",
       "exclude empty or all-NA columns when determining the result dtypes. To retain the old behavior, exclude the \n",
       "relevant entries before the concat operation.\n",
       "  results = pd.concat([results, normalized_data]) #.dropna(axis=1, how=\"all\")])\n",
       "</pre>\n"
      ],
      "text/plain": [
       "/var/folders/7t/k8q3439j6z3c683j7w00wtm80000gn/T/ipykernel_58430/330735155.py:26: FutureWarning: The behavior of \n",
       "DataFrame concatenation with empty or all-NA entries is deprecated. In a future version, this will no longer \n",
       "exclude empty or all-NA columns when determining the result dtypes. To retain the old behavior, exclude the \n",
       "relevant entries before the concat operation.\n",
       "  results = pd.concat([results, normalized_data]) #.dropna(axis=1, how=\"all\")])\n"
      ]
     },
     "metadata": {},
     "output_type": "display_data"
    },
    {
     "data": {
      "text/html": [
       "<pre style=\"white-space:pre;overflow-x:auto;line-height:normal;font-family:Menlo,'DejaVu Sans Mono',consolas,'Courier New',monospace\">/var/folders/7t/k8q3439j6z3c683j7w00wtm80000gn/T/ipykernel_58430/330735155.py:26: FutureWarning: The behavior of \n",
       "DataFrame concatenation with empty or all-NA entries is deprecated. In a future version, this will no longer \n",
       "exclude empty or all-NA columns when determining the result dtypes. To retain the old behavior, exclude the \n",
       "relevant entries before the concat operation.\n",
       "  results = pd.concat([results, normalized_data]) #.dropna(axis=1, how=\"all\")])\n",
       "</pre>\n"
      ],
      "text/plain": [
       "/var/folders/7t/k8q3439j6z3c683j7w00wtm80000gn/T/ipykernel_58430/330735155.py:26: FutureWarning: The behavior of \n",
       "DataFrame concatenation with empty or all-NA entries is deprecated. In a future version, this will no longer \n",
       "exclude empty or all-NA columns when determining the result dtypes. To retain the old behavior, exclude the \n",
       "relevant entries before the concat operation.\n",
       "  results = pd.concat([results, normalized_data]) #.dropna(axis=1, how=\"all\")])\n"
      ]
     },
     "metadata": {},
     "output_type": "display_data"
    },
    {
     "data": {
      "text/html": [
       "<pre style=\"white-space:pre;overflow-x:auto;line-height:normal;font-family:Menlo,'DejaVu Sans Mono',consolas,'Courier New',monospace\">/var/folders/7t/k8q3439j6z3c683j7w00wtm80000gn/T/ipykernel_58430/330735155.py:26: FutureWarning: The behavior of \n",
       "DataFrame concatenation with empty or all-NA entries is deprecated. In a future version, this will no longer \n",
       "exclude empty or all-NA columns when determining the result dtypes. To retain the old behavior, exclude the \n",
       "relevant entries before the concat operation.\n",
       "  results = pd.concat([results, normalized_data]) #.dropna(axis=1, how=\"all\")])\n",
       "</pre>\n"
      ],
      "text/plain": [
       "/var/folders/7t/k8q3439j6z3c683j7w00wtm80000gn/T/ipykernel_58430/330735155.py:26: FutureWarning: The behavior of \n",
       "DataFrame concatenation with empty or all-NA entries is deprecated. In a future version, this will no longer \n",
       "exclude empty or all-NA columns when determining the result dtypes. To retain the old behavior, exclude the \n",
       "relevant entries before the concat operation.\n",
       "  results = pd.concat([results, normalized_data]) #.dropna(axis=1, how=\"all\")])\n"
      ]
     },
     "metadata": {},
     "output_type": "display_data"
    },
    {
     "data": {
      "text/html": [
       "<pre style=\"white-space:pre;overflow-x:auto;line-height:normal;font-family:Menlo,'DejaVu Sans Mono',consolas,'Courier New',monospace\">/var/folders/7t/k8q3439j6z3c683j7w00wtm80000gn/T/ipykernel_58430/330735155.py:26: FutureWarning: The behavior of \n",
       "DataFrame concatenation with empty or all-NA entries is deprecated. In a future version, this will no longer \n",
       "exclude empty or all-NA columns when determining the result dtypes. To retain the old behavior, exclude the \n",
       "relevant entries before the concat operation.\n",
       "  results = pd.concat([results, normalized_data]) #.dropna(axis=1, how=\"all\")])\n",
       "</pre>\n"
      ],
      "text/plain": [
       "/var/folders/7t/k8q3439j6z3c683j7w00wtm80000gn/T/ipykernel_58430/330735155.py:26: FutureWarning: The behavior of \n",
       "DataFrame concatenation with empty or all-NA entries is deprecated. In a future version, this will no longer \n",
       "exclude empty or all-NA columns when determining the result dtypes. To retain the old behavior, exclude the \n",
       "relevant entries before the concat operation.\n",
       "  results = pd.concat([results, normalized_data]) #.dropna(axis=1, how=\"all\")])\n"
      ]
     },
     "metadata": {},
     "output_type": "display_data"
    },
    {
     "data": {
      "text/html": [
       "<pre style=\"white-space:pre;overflow-x:auto;line-height:normal;font-family:Menlo,'DejaVu Sans Mono',consolas,'Courier New',monospace\">/var/folders/7t/k8q3439j6z3c683j7w00wtm80000gn/T/ipykernel_58430/330735155.py:26: FutureWarning: The behavior of \n",
       "DataFrame concatenation with empty or all-NA entries is deprecated. In a future version, this will no longer \n",
       "exclude empty or all-NA columns when determining the result dtypes. To retain the old behavior, exclude the \n",
       "relevant entries before the concat operation.\n",
       "  results = pd.concat([results, normalized_data]) #.dropna(axis=1, how=\"all\")])\n",
       "</pre>\n"
      ],
      "text/plain": [
       "/var/folders/7t/k8q3439j6z3c683j7w00wtm80000gn/T/ipykernel_58430/330735155.py:26: FutureWarning: The behavior of \n",
       "DataFrame concatenation with empty or all-NA entries is deprecated. In a future version, this will no longer \n",
       "exclude empty or all-NA columns when determining the result dtypes. To retain the old behavior, exclude the \n",
       "relevant entries before the concat operation.\n",
       "  results = pd.concat([results, normalized_data]) #.dropna(axis=1, how=\"all\")])\n"
      ]
     },
     "metadata": {},
     "output_type": "display_data"
    },
    {
     "data": {
      "text/html": [
       "<pre style=\"white-space:pre;overflow-x:auto;line-height:normal;font-family:Menlo,'DejaVu Sans Mono',consolas,'Courier New',monospace\">/var/folders/7t/k8q3439j6z3c683j7w00wtm80000gn/T/ipykernel_58430/330735155.py:26: FutureWarning: The behavior of \n",
       "DataFrame concatenation with empty or all-NA entries is deprecated. In a future version, this will no longer \n",
       "exclude empty or all-NA columns when determining the result dtypes. To retain the old behavior, exclude the \n",
       "relevant entries before the concat operation.\n",
       "  results = pd.concat([results, normalized_data]) #.dropna(axis=1, how=\"all\")])\n",
       "</pre>\n"
      ],
      "text/plain": [
       "/var/folders/7t/k8q3439j6z3c683j7w00wtm80000gn/T/ipykernel_58430/330735155.py:26: FutureWarning: The behavior of \n",
       "DataFrame concatenation with empty or all-NA entries is deprecated. In a future version, this will no longer \n",
       "exclude empty or all-NA columns when determining the result dtypes. To retain the old behavior, exclude the \n",
       "relevant entries before the concat operation.\n",
       "  results = pd.concat([results, normalized_data]) #.dropna(axis=1, how=\"all\")])\n"
      ]
     },
     "metadata": {},
     "output_type": "display_data"
    },
    {
     "data": {
      "text/html": [
       "<pre style=\"white-space:pre;overflow-x:auto;line-height:normal;font-family:Menlo,'DejaVu Sans Mono',consolas,'Courier New',monospace\">/var/folders/7t/k8q3439j6z3c683j7w00wtm80000gn/T/ipykernel_58430/330735155.py:26: FutureWarning: The behavior of \n",
       "DataFrame concatenation with empty or all-NA entries is deprecated. In a future version, this will no longer \n",
       "exclude empty or all-NA columns when determining the result dtypes. To retain the old behavior, exclude the \n",
       "relevant entries before the concat operation.\n",
       "  results = pd.concat([results, normalized_data]) #.dropna(axis=1, how=\"all\")])\n",
       "</pre>\n"
      ],
      "text/plain": [
       "/var/folders/7t/k8q3439j6z3c683j7w00wtm80000gn/T/ipykernel_58430/330735155.py:26: FutureWarning: The behavior of \n",
       "DataFrame concatenation with empty or all-NA entries is deprecated. In a future version, this will no longer \n",
       "exclude empty or all-NA columns when determining the result dtypes. To retain the old behavior, exclude the \n",
       "relevant entries before the concat operation.\n",
       "  results = pd.concat([results, normalized_data]) #.dropna(axis=1, how=\"all\")])\n"
      ]
     },
     "metadata": {},
     "output_type": "display_data"
    },
    {
     "data": {
      "text/html": [
       "<pre style=\"white-space:pre;overflow-x:auto;line-height:normal;font-family:Menlo,'DejaVu Sans Mono',consolas,'Courier New',monospace\">/var/folders/7t/k8q3439j6z3c683j7w00wtm80000gn/T/ipykernel_58430/330735155.py:26: FutureWarning: The behavior of \n",
       "DataFrame concatenation with empty or all-NA entries is deprecated. In a future version, this will no longer \n",
       "exclude empty or all-NA columns when determining the result dtypes. To retain the old behavior, exclude the \n",
       "relevant entries before the concat operation.\n",
       "  results = pd.concat([results, normalized_data]) #.dropna(axis=1, how=\"all\")])\n",
       "</pre>\n"
      ],
      "text/plain": [
       "/var/folders/7t/k8q3439j6z3c683j7w00wtm80000gn/T/ipykernel_58430/330735155.py:26: FutureWarning: The behavior of \n",
       "DataFrame concatenation with empty or all-NA entries is deprecated. In a future version, this will no longer \n",
       "exclude empty or all-NA columns when determining the result dtypes. To retain the old behavior, exclude the \n",
       "relevant entries before the concat operation.\n",
       "  results = pd.concat([results, normalized_data]) #.dropna(axis=1, how=\"all\")])\n"
      ]
     },
     "metadata": {},
     "output_type": "display_data"
    },
    {
     "data": {
      "text/html": [
       "<pre style=\"white-space:pre;overflow-x:auto;line-height:normal;font-family:Menlo,'DejaVu Sans Mono',consolas,'Courier New',monospace\">/var/folders/7t/k8q3439j6z3c683j7w00wtm80000gn/T/ipykernel_58430/330735155.py:26: FutureWarning: The behavior of \n",
       "DataFrame concatenation with empty or all-NA entries is deprecated. In a future version, this will no longer \n",
       "exclude empty or all-NA columns when determining the result dtypes. To retain the old behavior, exclude the \n",
       "relevant entries before the concat operation.\n",
       "  results = pd.concat([results, normalized_data]) #.dropna(axis=1, how=\"all\")])\n",
       "</pre>\n"
      ],
      "text/plain": [
       "/var/folders/7t/k8q3439j6z3c683j7w00wtm80000gn/T/ipykernel_58430/330735155.py:26: FutureWarning: The behavior of \n",
       "DataFrame concatenation with empty or all-NA entries is deprecated. In a future version, this will no longer \n",
       "exclude empty or all-NA columns when determining the result dtypes. To retain the old behavior, exclude the \n",
       "relevant entries before the concat operation.\n",
       "  results = pd.concat([results, normalized_data]) #.dropna(axis=1, how=\"all\")])\n"
      ]
     },
     "metadata": {},
     "output_type": "display_data"
    },
    {
     "data": {
      "text/html": [
       "<pre style=\"white-space:pre;overflow-x:auto;line-height:normal;font-family:Menlo,'DejaVu Sans Mono',consolas,'Courier New',monospace\">/var/folders/7t/k8q3439j6z3c683j7w00wtm80000gn/T/ipykernel_58430/330735155.py:26: FutureWarning: The behavior of \n",
       "DataFrame concatenation with empty or all-NA entries is deprecated. In a future version, this will no longer \n",
       "exclude empty or all-NA columns when determining the result dtypes. To retain the old behavior, exclude the \n",
       "relevant entries before the concat operation.\n",
       "  results = pd.concat([results, normalized_data]) #.dropna(axis=1, how=\"all\")])\n",
       "</pre>\n"
      ],
      "text/plain": [
       "/var/folders/7t/k8q3439j6z3c683j7w00wtm80000gn/T/ipykernel_58430/330735155.py:26: FutureWarning: The behavior of \n",
       "DataFrame concatenation with empty or all-NA entries is deprecated. In a future version, this will no longer \n",
       "exclude empty or all-NA columns when determining the result dtypes. To retain the old behavior, exclude the \n",
       "relevant entries before the concat operation.\n",
       "  results = pd.concat([results, normalized_data]) #.dropna(axis=1, how=\"all\")])\n"
      ]
     },
     "metadata": {},
     "output_type": "display_data"
    },
    {
     "data": {
      "text/html": [
       "<pre style=\"white-space:pre;overflow-x:auto;line-height:normal;font-family:Menlo,'DejaVu Sans Mono',consolas,'Courier New',monospace\">/var/folders/7t/k8q3439j6z3c683j7w00wtm80000gn/T/ipykernel_58430/330735155.py:26: FutureWarning: The behavior of \n",
       "DataFrame concatenation with empty or all-NA entries is deprecated. In a future version, this will no longer \n",
       "exclude empty or all-NA columns when determining the result dtypes. To retain the old behavior, exclude the \n",
       "relevant entries before the concat operation.\n",
       "  results = pd.concat([results, normalized_data]) #.dropna(axis=1, how=\"all\")])\n",
       "</pre>\n"
      ],
      "text/plain": [
       "/var/folders/7t/k8q3439j6z3c683j7w00wtm80000gn/T/ipykernel_58430/330735155.py:26: FutureWarning: The behavior of \n",
       "DataFrame concatenation with empty or all-NA entries is deprecated. In a future version, this will no longer \n",
       "exclude empty or all-NA columns when determining the result dtypes. To retain the old behavior, exclude the \n",
       "relevant entries before the concat operation.\n",
       "  results = pd.concat([results, normalized_data]) #.dropna(axis=1, how=\"all\")])\n"
      ]
     },
     "metadata": {},
     "output_type": "display_data"
    },
    {
     "data": {
      "text/html": [
       "<pre style=\"white-space:pre;overflow-x:auto;line-height:normal;font-family:Menlo,'DejaVu Sans Mono',consolas,'Courier New',monospace\">/var/folders/7t/k8q3439j6z3c683j7w00wtm80000gn/T/ipykernel_58430/330735155.py:26: FutureWarning: The behavior of \n",
       "DataFrame concatenation with empty or all-NA entries is deprecated. In a future version, this will no longer \n",
       "exclude empty or all-NA columns when determining the result dtypes. To retain the old behavior, exclude the \n",
       "relevant entries before the concat operation.\n",
       "  results = pd.concat([results, normalized_data]) #.dropna(axis=1, how=\"all\")])\n",
       "</pre>\n"
      ],
      "text/plain": [
       "/var/folders/7t/k8q3439j6z3c683j7w00wtm80000gn/T/ipykernel_58430/330735155.py:26: FutureWarning: The behavior of \n",
       "DataFrame concatenation with empty or all-NA entries is deprecated. In a future version, this will no longer \n",
       "exclude empty or all-NA columns when determining the result dtypes. To retain the old behavior, exclude the \n",
       "relevant entries before the concat operation.\n",
       "  results = pd.concat([results, normalized_data]) #.dropna(axis=1, how=\"all\")])\n"
      ]
     },
     "metadata": {},
     "output_type": "display_data"
    },
    {
     "data": {
      "text/html": [
       "<pre style=\"white-space:pre;overflow-x:auto;line-height:normal;font-family:Menlo,'DejaVu Sans Mono',consolas,'Courier New',monospace\">/var/folders/7t/k8q3439j6z3c683j7w00wtm80000gn/T/ipykernel_58430/330735155.py:26: FutureWarning: The behavior of \n",
       "DataFrame concatenation with empty or all-NA entries is deprecated. In a future version, this will no longer \n",
       "exclude empty or all-NA columns when determining the result dtypes. To retain the old behavior, exclude the \n",
       "relevant entries before the concat operation.\n",
       "  results = pd.concat([results, normalized_data]) #.dropna(axis=1, how=\"all\")])\n",
       "</pre>\n"
      ],
      "text/plain": [
       "/var/folders/7t/k8q3439j6z3c683j7w00wtm80000gn/T/ipykernel_58430/330735155.py:26: FutureWarning: The behavior of \n",
       "DataFrame concatenation with empty or all-NA entries is deprecated. In a future version, this will no longer \n",
       "exclude empty or all-NA columns when determining the result dtypes. To retain the old behavior, exclude the \n",
       "relevant entries before the concat operation.\n",
       "  results = pd.concat([results, normalized_data]) #.dropna(axis=1, how=\"all\")])\n"
      ]
     },
     "metadata": {},
     "output_type": "display_data"
    },
    {
     "data": {
      "text/html": [
       "<pre style=\"white-space:pre;overflow-x:auto;line-height:normal;font-family:Menlo,'DejaVu Sans Mono',consolas,'Courier New',monospace\">/var/folders/7t/k8q3439j6z3c683j7w00wtm80000gn/T/ipykernel_58430/330735155.py:26: FutureWarning: The behavior of \n",
       "DataFrame concatenation with empty or all-NA entries is deprecated. In a future version, this will no longer \n",
       "exclude empty or all-NA columns when determining the result dtypes. To retain the old behavior, exclude the \n",
       "relevant entries before the concat operation.\n",
       "  results = pd.concat([results, normalized_data]) #.dropna(axis=1, how=\"all\")])\n",
       "</pre>\n"
      ],
      "text/plain": [
       "/var/folders/7t/k8q3439j6z3c683j7w00wtm80000gn/T/ipykernel_58430/330735155.py:26: FutureWarning: The behavior of \n",
       "DataFrame concatenation with empty or all-NA entries is deprecated. In a future version, this will no longer \n",
       "exclude empty or all-NA columns when determining the result dtypes. To retain the old behavior, exclude the \n",
       "relevant entries before the concat operation.\n",
       "  results = pd.concat([results, normalized_data]) #.dropna(axis=1, how=\"all\")])\n"
      ]
     },
     "metadata": {},
     "output_type": "display_data"
    },
    {
     "data": {
      "text/html": [
       "<pre style=\"white-space:pre;overflow-x:auto;line-height:normal;font-family:Menlo,'DejaVu Sans Mono',consolas,'Courier New',monospace\">/var/folders/7t/k8q3439j6z3c683j7w00wtm80000gn/T/ipykernel_58430/330735155.py:26: FutureWarning: The behavior of \n",
       "DataFrame concatenation with empty or all-NA entries is deprecated. In a future version, this will no longer \n",
       "exclude empty or all-NA columns when determining the result dtypes. To retain the old behavior, exclude the \n",
       "relevant entries before the concat operation.\n",
       "  results = pd.concat([results, normalized_data]) #.dropna(axis=1, how=\"all\")])\n",
       "</pre>\n"
      ],
      "text/plain": [
       "/var/folders/7t/k8q3439j6z3c683j7w00wtm80000gn/T/ipykernel_58430/330735155.py:26: FutureWarning: The behavior of \n",
       "DataFrame concatenation with empty or all-NA entries is deprecated. In a future version, this will no longer \n",
       "exclude empty or all-NA columns when determining the result dtypes. To retain the old behavior, exclude the \n",
       "relevant entries before the concat operation.\n",
       "  results = pd.concat([results, normalized_data]) #.dropna(axis=1, how=\"all\")])\n"
      ]
     },
     "metadata": {},
     "output_type": "display_data"
    },
    {
     "data": {
      "text/html": [
       "<pre style=\"white-space:pre;overflow-x:auto;line-height:normal;font-family:Menlo,'DejaVu Sans Mono',consolas,'Courier New',monospace\">/var/folders/7t/k8q3439j6z3c683j7w00wtm80000gn/T/ipykernel_58430/330735155.py:26: FutureWarning: The behavior of \n",
       "DataFrame concatenation with empty or all-NA entries is deprecated. In a future version, this will no longer \n",
       "exclude empty or all-NA columns when determining the result dtypes. To retain the old behavior, exclude the \n",
       "relevant entries before the concat operation.\n",
       "  results = pd.concat([results, normalized_data]) #.dropna(axis=1, how=\"all\")])\n",
       "</pre>\n"
      ],
      "text/plain": [
       "/var/folders/7t/k8q3439j6z3c683j7w00wtm80000gn/T/ipykernel_58430/330735155.py:26: FutureWarning: The behavior of \n",
       "DataFrame concatenation with empty or all-NA entries is deprecated. In a future version, this will no longer \n",
       "exclude empty or all-NA columns when determining the result dtypes. To retain the old behavior, exclude the \n",
       "relevant entries before the concat operation.\n",
       "  results = pd.concat([results, normalized_data]) #.dropna(axis=1, how=\"all\")])\n"
      ]
     },
     "metadata": {},
     "output_type": "display_data"
    },
    {
     "data": {
      "text/html": [
       "<pre style=\"white-space:pre;overflow-x:auto;line-height:normal;font-family:Menlo,'DejaVu Sans Mono',consolas,'Courier New',monospace\">/var/folders/7t/k8q3439j6z3c683j7w00wtm80000gn/T/ipykernel_58430/330735155.py:26: FutureWarning: The behavior of \n",
       "DataFrame concatenation with empty or all-NA entries is deprecated. In a future version, this will no longer \n",
       "exclude empty or all-NA columns when determining the result dtypes. To retain the old behavior, exclude the \n",
       "relevant entries before the concat operation.\n",
       "  results = pd.concat([results, normalized_data]) #.dropna(axis=1, how=\"all\")])\n",
       "</pre>\n"
      ],
      "text/plain": [
       "/var/folders/7t/k8q3439j6z3c683j7w00wtm80000gn/T/ipykernel_58430/330735155.py:26: FutureWarning: The behavior of \n",
       "DataFrame concatenation with empty or all-NA entries is deprecated. In a future version, this will no longer \n",
       "exclude empty or all-NA columns when determining the result dtypes. To retain the old behavior, exclude the \n",
       "relevant entries before the concat operation.\n",
       "  results = pd.concat([results, normalized_data]) #.dropna(axis=1, how=\"all\")])\n"
      ]
     },
     "metadata": {},
     "output_type": "display_data"
    },
    {
     "data": {
      "text/html": [
       "<pre style=\"white-space:pre;overflow-x:auto;line-height:normal;font-family:Menlo,'DejaVu Sans Mono',consolas,'Courier New',monospace\">/var/folders/7t/k8q3439j6z3c683j7w00wtm80000gn/T/ipykernel_58430/330735155.py:26: FutureWarning: The behavior of \n",
       "DataFrame concatenation with empty or all-NA entries is deprecated. In a future version, this will no longer \n",
       "exclude empty or all-NA columns when determining the result dtypes. To retain the old behavior, exclude the \n",
       "relevant entries before the concat operation.\n",
       "  results = pd.concat([results, normalized_data]) #.dropna(axis=1, how=\"all\")])\n",
       "</pre>\n"
      ],
      "text/plain": [
       "/var/folders/7t/k8q3439j6z3c683j7w00wtm80000gn/T/ipykernel_58430/330735155.py:26: FutureWarning: The behavior of \n",
       "DataFrame concatenation with empty or all-NA entries is deprecated. In a future version, this will no longer \n",
       "exclude empty or all-NA columns when determining the result dtypes. To retain the old behavior, exclude the \n",
       "relevant entries before the concat operation.\n",
       "  results = pd.concat([results, normalized_data]) #.dropna(axis=1, how=\"all\")])\n"
      ]
     },
     "metadata": {},
     "output_type": "display_data"
    },
    {
     "data": {
      "text/html": [
       "<pre style=\"white-space:pre;overflow-x:auto;line-height:normal;font-family:Menlo,'DejaVu Sans Mono',consolas,'Courier New',monospace\">/var/folders/7t/k8q3439j6z3c683j7w00wtm80000gn/T/ipykernel_58430/330735155.py:26: FutureWarning: The behavior of \n",
       "DataFrame concatenation with empty or all-NA entries is deprecated. In a future version, this will no longer \n",
       "exclude empty or all-NA columns when determining the result dtypes. To retain the old behavior, exclude the \n",
       "relevant entries before the concat operation.\n",
       "  results = pd.concat([results, normalized_data]) #.dropna(axis=1, how=\"all\")])\n",
       "</pre>\n"
      ],
      "text/plain": [
       "/var/folders/7t/k8q3439j6z3c683j7w00wtm80000gn/T/ipykernel_58430/330735155.py:26: FutureWarning: The behavior of \n",
       "DataFrame concatenation with empty or all-NA entries is deprecated. In a future version, this will no longer \n",
       "exclude empty or all-NA columns when determining the result dtypes. To retain the old behavior, exclude the \n",
       "relevant entries before the concat operation.\n",
       "  results = pd.concat([results, normalized_data]) #.dropna(axis=1, how=\"all\")])\n"
      ]
     },
     "metadata": {},
     "output_type": "display_data"
    },
    {
     "data": {
      "text/html": [
       "<pre style=\"white-space:pre;overflow-x:auto;line-height:normal;font-family:Menlo,'DejaVu Sans Mono',consolas,'Courier New',monospace\">/var/folders/7t/k8q3439j6z3c683j7w00wtm80000gn/T/ipykernel_58430/330735155.py:26: FutureWarning: The behavior of \n",
       "DataFrame concatenation with empty or all-NA entries is deprecated. In a future version, this will no longer \n",
       "exclude empty or all-NA columns when determining the result dtypes. To retain the old behavior, exclude the \n",
       "relevant entries before the concat operation.\n",
       "  results = pd.concat([results, normalized_data]) #.dropna(axis=1, how=\"all\")])\n",
       "</pre>\n"
      ],
      "text/plain": [
       "/var/folders/7t/k8q3439j6z3c683j7w00wtm80000gn/T/ipykernel_58430/330735155.py:26: FutureWarning: The behavior of \n",
       "DataFrame concatenation with empty or all-NA entries is deprecated. In a future version, this will no longer \n",
       "exclude empty or all-NA columns when determining the result dtypes. To retain the old behavior, exclude the \n",
       "relevant entries before the concat operation.\n",
       "  results = pd.concat([results, normalized_data]) #.dropna(axis=1, how=\"all\")])\n"
      ]
     },
     "metadata": {},
     "output_type": "display_data"
    },
    {
     "data": {
      "text/html": [
       "<pre style=\"white-space:pre;overflow-x:auto;line-height:normal;font-family:Menlo,'DejaVu Sans Mono',consolas,'Courier New',monospace\">/var/folders/7t/k8q3439j6z3c683j7w00wtm80000gn/T/ipykernel_58430/330735155.py:26: FutureWarning: The behavior of \n",
       "DataFrame concatenation with empty or all-NA entries is deprecated. In a future version, this will no longer \n",
       "exclude empty or all-NA columns when determining the result dtypes. To retain the old behavior, exclude the \n",
       "relevant entries before the concat operation.\n",
       "  results = pd.concat([results, normalized_data]) #.dropna(axis=1, how=\"all\")])\n",
       "</pre>\n"
      ],
      "text/plain": [
       "/var/folders/7t/k8q3439j6z3c683j7w00wtm80000gn/T/ipykernel_58430/330735155.py:26: FutureWarning: The behavior of \n",
       "DataFrame concatenation with empty or all-NA entries is deprecated. In a future version, this will no longer \n",
       "exclude empty or all-NA columns when determining the result dtypes. To retain the old behavior, exclude the \n",
       "relevant entries before the concat operation.\n",
       "  results = pd.concat([results, normalized_data]) #.dropna(axis=1, how=\"all\")])\n"
      ]
     },
     "metadata": {},
     "output_type": "display_data"
    },
    {
     "data": {
      "text/html": [
       "<pre style=\"white-space:pre;overflow-x:auto;line-height:normal;font-family:Menlo,'DejaVu Sans Mono',consolas,'Courier New',monospace\">/var/folders/7t/k8q3439j6z3c683j7w00wtm80000gn/T/ipykernel_58430/330735155.py:26: FutureWarning: The behavior of \n",
       "DataFrame concatenation with empty or all-NA entries is deprecated. In a future version, this will no longer \n",
       "exclude empty or all-NA columns when determining the result dtypes. To retain the old behavior, exclude the \n",
       "relevant entries before the concat operation.\n",
       "  results = pd.concat([results, normalized_data]) #.dropna(axis=1, how=\"all\")])\n",
       "</pre>\n"
      ],
      "text/plain": [
       "/var/folders/7t/k8q3439j6z3c683j7w00wtm80000gn/T/ipykernel_58430/330735155.py:26: FutureWarning: The behavior of \n",
       "DataFrame concatenation with empty or all-NA entries is deprecated. In a future version, this will no longer \n",
       "exclude empty or all-NA columns when determining the result dtypes. To retain the old behavior, exclude the \n",
       "relevant entries before the concat operation.\n",
       "  results = pd.concat([results, normalized_data]) #.dropna(axis=1, how=\"all\")])\n"
      ]
     },
     "metadata": {},
     "output_type": "display_data"
    },
    {
     "data": {
      "text/html": [
       "<pre style=\"white-space:pre;overflow-x:auto;line-height:normal;font-family:Menlo,'DejaVu Sans Mono',consolas,'Courier New',monospace\">/var/folders/7t/k8q3439j6z3c683j7w00wtm80000gn/T/ipykernel_58430/330735155.py:26: FutureWarning: The behavior of \n",
       "DataFrame concatenation with empty or all-NA entries is deprecated. In a future version, this will no longer \n",
       "exclude empty or all-NA columns when determining the result dtypes. To retain the old behavior, exclude the \n",
       "relevant entries before the concat operation.\n",
       "  results = pd.concat([results, normalized_data]) #.dropna(axis=1, how=\"all\")])\n",
       "</pre>\n"
      ],
      "text/plain": [
       "/var/folders/7t/k8q3439j6z3c683j7w00wtm80000gn/T/ipykernel_58430/330735155.py:26: FutureWarning: The behavior of \n",
       "DataFrame concatenation with empty or all-NA entries is deprecated. In a future version, this will no longer \n",
       "exclude empty or all-NA columns when determining the result dtypes. To retain the old behavior, exclude the \n",
       "relevant entries before the concat operation.\n",
       "  results = pd.concat([results, normalized_data]) #.dropna(axis=1, how=\"all\")])\n"
      ]
     },
     "metadata": {},
     "output_type": "display_data"
    },
    {
     "data": {
      "text/html": [
       "<pre style=\"white-space:pre;overflow-x:auto;line-height:normal;font-family:Menlo,'DejaVu Sans Mono',consolas,'Courier New',monospace\">/var/folders/7t/k8q3439j6z3c683j7w00wtm80000gn/T/ipykernel_58430/330735155.py:26: FutureWarning: The behavior of \n",
       "DataFrame concatenation with empty or all-NA entries is deprecated. In a future version, this will no longer \n",
       "exclude empty or all-NA columns when determining the result dtypes. To retain the old behavior, exclude the \n",
       "relevant entries before the concat operation.\n",
       "  results = pd.concat([results, normalized_data]) #.dropna(axis=1, how=\"all\")])\n",
       "</pre>\n"
      ],
      "text/plain": [
       "/var/folders/7t/k8q3439j6z3c683j7w00wtm80000gn/T/ipykernel_58430/330735155.py:26: FutureWarning: The behavior of \n",
       "DataFrame concatenation with empty or all-NA entries is deprecated. In a future version, this will no longer \n",
       "exclude empty or all-NA columns when determining the result dtypes. To retain the old behavior, exclude the \n",
       "relevant entries before the concat operation.\n",
       "  results = pd.concat([results, normalized_data]) #.dropna(axis=1, how=\"all\")])\n"
      ]
     },
     "metadata": {},
     "output_type": "display_data"
    },
    {
     "data": {
      "text/html": [
       "<pre style=\"white-space:pre;overflow-x:auto;line-height:normal;font-family:Menlo,'DejaVu Sans Mono',consolas,'Courier New',monospace\">/var/folders/7t/k8q3439j6z3c683j7w00wtm80000gn/T/ipykernel_58430/330735155.py:26: FutureWarning: The behavior of \n",
       "DataFrame concatenation with empty or all-NA entries is deprecated. In a future version, this will no longer \n",
       "exclude empty or all-NA columns when determining the result dtypes. To retain the old behavior, exclude the \n",
       "relevant entries before the concat operation.\n",
       "  results = pd.concat([results, normalized_data]) #.dropna(axis=1, how=\"all\")])\n",
       "</pre>\n"
      ],
      "text/plain": [
       "/var/folders/7t/k8q3439j6z3c683j7w00wtm80000gn/T/ipykernel_58430/330735155.py:26: FutureWarning: The behavior of \n",
       "DataFrame concatenation with empty or all-NA entries is deprecated. In a future version, this will no longer \n",
       "exclude empty or all-NA columns when determining the result dtypes. To retain the old behavior, exclude the \n",
       "relevant entries before the concat operation.\n",
       "  results = pd.concat([results, normalized_data]) #.dropna(axis=1, how=\"all\")])\n"
      ]
     },
     "metadata": {},
     "output_type": "display_data"
    },
    {
     "data": {
      "text/html": [
       "<pre style=\"white-space:pre;overflow-x:auto;line-height:normal;font-family:Menlo,'DejaVu Sans Mono',consolas,'Courier New',monospace\">/var/folders/7t/k8q3439j6z3c683j7w00wtm80000gn/T/ipykernel_58430/330735155.py:26: FutureWarning: The behavior of \n",
       "DataFrame concatenation with empty or all-NA entries is deprecated. In a future version, this will no longer \n",
       "exclude empty or all-NA columns when determining the result dtypes. To retain the old behavior, exclude the \n",
       "relevant entries before the concat operation.\n",
       "  results = pd.concat([results, normalized_data]) #.dropna(axis=1, how=\"all\")])\n",
       "</pre>\n"
      ],
      "text/plain": [
       "/var/folders/7t/k8q3439j6z3c683j7w00wtm80000gn/T/ipykernel_58430/330735155.py:26: FutureWarning: The behavior of \n",
       "DataFrame concatenation with empty or all-NA entries is deprecated. In a future version, this will no longer \n",
       "exclude empty or all-NA columns when determining the result dtypes. To retain the old behavior, exclude the \n",
       "relevant entries before the concat operation.\n",
       "  results = pd.concat([results, normalized_data]) #.dropna(axis=1, how=\"all\")])\n"
      ]
     },
     "metadata": {},
     "output_type": "display_data"
    },
    {
     "data": {
      "text/html": [
       "<pre style=\"white-space:pre;overflow-x:auto;line-height:normal;font-family:Menlo,'DejaVu Sans Mono',consolas,'Courier New',monospace\">/var/folders/7t/k8q3439j6z3c683j7w00wtm80000gn/T/ipykernel_58430/330735155.py:26: FutureWarning: The behavior of \n",
       "DataFrame concatenation with empty or all-NA entries is deprecated. In a future version, this will no longer \n",
       "exclude empty or all-NA columns when determining the result dtypes. To retain the old behavior, exclude the \n",
       "relevant entries before the concat operation.\n",
       "  results = pd.concat([results, normalized_data]) #.dropna(axis=1, how=\"all\")])\n",
       "</pre>\n"
      ],
      "text/plain": [
       "/var/folders/7t/k8q3439j6z3c683j7w00wtm80000gn/T/ipykernel_58430/330735155.py:26: FutureWarning: The behavior of \n",
       "DataFrame concatenation with empty or all-NA entries is deprecated. In a future version, this will no longer \n",
       "exclude empty or all-NA columns when determining the result dtypes. To retain the old behavior, exclude the \n",
       "relevant entries before the concat operation.\n",
       "  results = pd.concat([results, normalized_data]) #.dropna(axis=1, how=\"all\")])\n"
      ]
     },
     "metadata": {},
     "output_type": "display_data"
    },
    {
     "data": {
      "text/html": [
       "<pre style=\"white-space:pre;overflow-x:auto;line-height:normal;font-family:Menlo,'DejaVu Sans Mono',consolas,'Courier New',monospace\">/var/folders/7t/k8q3439j6z3c683j7w00wtm80000gn/T/ipykernel_58430/330735155.py:26: FutureWarning: The behavior of \n",
       "DataFrame concatenation with empty or all-NA entries is deprecated. In a future version, this will no longer \n",
       "exclude empty or all-NA columns when determining the result dtypes. To retain the old behavior, exclude the \n",
       "relevant entries before the concat operation.\n",
       "  results = pd.concat([results, normalized_data]) #.dropna(axis=1, how=\"all\")])\n",
       "</pre>\n"
      ],
      "text/plain": [
       "/var/folders/7t/k8q3439j6z3c683j7w00wtm80000gn/T/ipykernel_58430/330735155.py:26: FutureWarning: The behavior of \n",
       "DataFrame concatenation with empty or all-NA entries is deprecated. In a future version, this will no longer \n",
       "exclude empty or all-NA columns when determining the result dtypes. To retain the old behavior, exclude the \n",
       "relevant entries before the concat operation.\n",
       "  results = pd.concat([results, normalized_data]) #.dropna(axis=1, how=\"all\")])\n"
      ]
     },
     "metadata": {},
     "output_type": "display_data"
    },
    {
     "data": {
      "text/html": [
       "<pre style=\"white-space:pre;overflow-x:auto;line-height:normal;font-family:Menlo,'DejaVu Sans Mono',consolas,'Courier New',monospace\">/var/folders/7t/k8q3439j6z3c683j7w00wtm80000gn/T/ipykernel_58430/330735155.py:26: FutureWarning: The behavior of \n",
       "DataFrame concatenation with empty or all-NA entries is deprecated. In a future version, this will no longer \n",
       "exclude empty or all-NA columns when determining the result dtypes. To retain the old behavior, exclude the \n",
       "relevant entries before the concat operation.\n",
       "  results = pd.concat([results, normalized_data]) #.dropna(axis=1, how=\"all\")])\n",
       "</pre>\n"
      ],
      "text/plain": [
       "/var/folders/7t/k8q3439j6z3c683j7w00wtm80000gn/T/ipykernel_58430/330735155.py:26: FutureWarning: The behavior of \n",
       "DataFrame concatenation with empty or all-NA entries is deprecated. In a future version, this will no longer \n",
       "exclude empty or all-NA columns when determining the result dtypes. To retain the old behavior, exclude the \n",
       "relevant entries before the concat operation.\n",
       "  results = pd.concat([results, normalized_data]) #.dropna(axis=1, how=\"all\")])\n"
      ]
     },
     "metadata": {},
     "output_type": "display_data"
    },
    {
     "data": {
      "text/html": [
       "<pre style=\"white-space:pre;overflow-x:auto;line-height:normal;font-family:Menlo,'DejaVu Sans Mono',consolas,'Courier New',monospace\">/var/folders/7t/k8q3439j6z3c683j7w00wtm80000gn/T/ipykernel_58430/330735155.py:26: FutureWarning: The behavior of \n",
       "DataFrame concatenation with empty or all-NA entries is deprecated. In a future version, this will no longer \n",
       "exclude empty or all-NA columns when determining the result dtypes. To retain the old behavior, exclude the \n",
       "relevant entries before the concat operation.\n",
       "  results = pd.concat([results, normalized_data]) #.dropna(axis=1, how=\"all\")])\n",
       "</pre>\n"
      ],
      "text/plain": [
       "/var/folders/7t/k8q3439j6z3c683j7w00wtm80000gn/T/ipykernel_58430/330735155.py:26: FutureWarning: The behavior of \n",
       "DataFrame concatenation with empty or all-NA entries is deprecated. In a future version, this will no longer \n",
       "exclude empty or all-NA columns when determining the result dtypes. To retain the old behavior, exclude the \n",
       "relevant entries before the concat operation.\n",
       "  results = pd.concat([results, normalized_data]) #.dropna(axis=1, how=\"all\")])\n"
      ]
     },
     "metadata": {},
     "output_type": "display_data"
    },
    {
     "data": {
      "text/html": [
       "<pre style=\"white-space:pre;overflow-x:auto;line-height:normal;font-family:Menlo,'DejaVu Sans Mono',consolas,'Courier New',monospace\">/var/folders/7t/k8q3439j6z3c683j7w00wtm80000gn/T/ipykernel_58430/330735155.py:26: FutureWarning: The behavior of \n",
       "DataFrame concatenation with empty or all-NA entries is deprecated. In a future version, this will no longer \n",
       "exclude empty or all-NA columns when determining the result dtypes. To retain the old behavior, exclude the \n",
       "relevant entries before the concat operation.\n",
       "  results = pd.concat([results, normalized_data]) #.dropna(axis=1, how=\"all\")])\n",
       "</pre>\n"
      ],
      "text/plain": [
       "/var/folders/7t/k8q3439j6z3c683j7w00wtm80000gn/T/ipykernel_58430/330735155.py:26: FutureWarning: The behavior of \n",
       "DataFrame concatenation with empty or all-NA entries is deprecated. In a future version, this will no longer \n",
       "exclude empty or all-NA columns when determining the result dtypes. To retain the old behavior, exclude the \n",
       "relevant entries before the concat operation.\n",
       "  results = pd.concat([results, normalized_data]) #.dropna(axis=1, how=\"all\")])\n"
      ]
     },
     "metadata": {},
     "output_type": "display_data"
    },
    {
     "data": {
      "text/html": [
       "<pre style=\"white-space:pre;overflow-x:auto;line-height:normal;font-family:Menlo,'DejaVu Sans Mono',consolas,'Courier New',monospace\">/var/folders/7t/k8q3439j6z3c683j7w00wtm80000gn/T/ipykernel_58430/330735155.py:26: FutureWarning: The behavior of \n",
       "DataFrame concatenation with empty or all-NA entries is deprecated. In a future version, this will no longer \n",
       "exclude empty or all-NA columns when determining the result dtypes. To retain the old behavior, exclude the \n",
       "relevant entries before the concat operation.\n",
       "  results = pd.concat([results, normalized_data]) #.dropna(axis=1, how=\"all\")])\n",
       "</pre>\n"
      ],
      "text/plain": [
       "/var/folders/7t/k8q3439j6z3c683j7w00wtm80000gn/T/ipykernel_58430/330735155.py:26: FutureWarning: The behavior of \n",
       "DataFrame concatenation with empty or all-NA entries is deprecated. In a future version, this will no longer \n",
       "exclude empty or all-NA columns when determining the result dtypes. To retain the old behavior, exclude the \n",
       "relevant entries before the concat operation.\n",
       "  results = pd.concat([results, normalized_data]) #.dropna(axis=1, how=\"all\")])\n"
      ]
     },
     "metadata": {},
     "output_type": "display_data"
    },
    {
     "data": {
      "text/html": [
       "<pre style=\"white-space:pre;overflow-x:auto;line-height:normal;font-family:Menlo,'DejaVu Sans Mono',consolas,'Courier New',monospace\">/var/folders/7t/k8q3439j6z3c683j7w00wtm80000gn/T/ipykernel_58430/330735155.py:26: FutureWarning: The behavior of \n",
       "DataFrame concatenation with empty or all-NA entries is deprecated. In a future version, this will no longer \n",
       "exclude empty or all-NA columns when determining the result dtypes. To retain the old behavior, exclude the \n",
       "relevant entries before the concat operation.\n",
       "  results = pd.concat([results, normalized_data]) #.dropna(axis=1, how=\"all\")])\n",
       "</pre>\n"
      ],
      "text/plain": [
       "/var/folders/7t/k8q3439j6z3c683j7w00wtm80000gn/T/ipykernel_58430/330735155.py:26: FutureWarning: The behavior of \n",
       "DataFrame concatenation with empty or all-NA entries is deprecated. In a future version, this will no longer \n",
       "exclude empty or all-NA columns when determining the result dtypes. To retain the old behavior, exclude the \n",
       "relevant entries before the concat operation.\n",
       "  results = pd.concat([results, normalized_data]) #.dropna(axis=1, how=\"all\")])\n"
      ]
     },
     "metadata": {},
     "output_type": "display_data"
    },
    {
     "data": {
      "text/html": [
       "<pre style=\"white-space:pre;overflow-x:auto;line-height:normal;font-family:Menlo,'DejaVu Sans Mono',consolas,'Courier New',monospace\">/var/folders/7t/k8q3439j6z3c683j7w00wtm80000gn/T/ipykernel_58430/330735155.py:26: FutureWarning: The behavior of \n",
       "DataFrame concatenation with empty or all-NA entries is deprecated. In a future version, this will no longer \n",
       "exclude empty or all-NA columns when determining the result dtypes. To retain the old behavior, exclude the \n",
       "relevant entries before the concat operation.\n",
       "  results = pd.concat([results, normalized_data]) #.dropna(axis=1, how=\"all\")])\n",
       "</pre>\n"
      ],
      "text/plain": [
       "/var/folders/7t/k8q3439j6z3c683j7w00wtm80000gn/T/ipykernel_58430/330735155.py:26: FutureWarning: The behavior of \n",
       "DataFrame concatenation with empty or all-NA entries is deprecated. In a future version, this will no longer \n",
       "exclude empty or all-NA columns when determining the result dtypes. To retain the old behavior, exclude the \n",
       "relevant entries before the concat operation.\n",
       "  results = pd.concat([results, normalized_data]) #.dropna(axis=1, how=\"all\")])\n"
      ]
     },
     "metadata": {},
     "output_type": "display_data"
    },
    {
     "data": {
      "text/html": [
       "<pre style=\"white-space:pre;overflow-x:auto;line-height:normal;font-family:Menlo,'DejaVu Sans Mono',consolas,'Courier New',monospace\">/var/folders/7t/k8q3439j6z3c683j7w00wtm80000gn/T/ipykernel_58430/330735155.py:26: FutureWarning: The behavior of \n",
       "DataFrame concatenation with empty or all-NA entries is deprecated. In a future version, this will no longer \n",
       "exclude empty or all-NA columns when determining the result dtypes. To retain the old behavior, exclude the \n",
       "relevant entries before the concat operation.\n",
       "  results = pd.concat([results, normalized_data]) #.dropna(axis=1, how=\"all\")])\n",
       "</pre>\n"
      ],
      "text/plain": [
       "/var/folders/7t/k8q3439j6z3c683j7w00wtm80000gn/T/ipykernel_58430/330735155.py:26: FutureWarning: The behavior of \n",
       "DataFrame concatenation with empty or all-NA entries is deprecated. In a future version, this will no longer \n",
       "exclude empty or all-NA columns when determining the result dtypes. To retain the old behavior, exclude the \n",
       "relevant entries before the concat operation.\n",
       "  results = pd.concat([results, normalized_data]) #.dropna(axis=1, how=\"all\")])\n"
      ]
     },
     "metadata": {},
     "output_type": "display_data"
    },
    {
     "data": {
      "text/html": [
       "<pre style=\"white-space:pre;overflow-x:auto;line-height:normal;font-family:Menlo,'DejaVu Sans Mono',consolas,'Courier New',monospace\">/var/folders/7t/k8q3439j6z3c683j7w00wtm80000gn/T/ipykernel_58430/330735155.py:26: FutureWarning: The behavior of \n",
       "DataFrame concatenation with empty or all-NA entries is deprecated. In a future version, this will no longer \n",
       "exclude empty or all-NA columns when determining the result dtypes. To retain the old behavior, exclude the \n",
       "relevant entries before the concat operation.\n",
       "  results = pd.concat([results, normalized_data]) #.dropna(axis=1, how=\"all\")])\n",
       "</pre>\n"
      ],
      "text/plain": [
       "/var/folders/7t/k8q3439j6z3c683j7w00wtm80000gn/T/ipykernel_58430/330735155.py:26: FutureWarning: The behavior of \n",
       "DataFrame concatenation with empty or all-NA entries is deprecated. In a future version, this will no longer \n",
       "exclude empty or all-NA columns when determining the result dtypes. To retain the old behavior, exclude the \n",
       "relevant entries before the concat operation.\n",
       "  results = pd.concat([results, normalized_data]) #.dropna(axis=1, how=\"all\")])\n"
      ]
     },
     "metadata": {},
     "output_type": "display_data"
    },
    {
     "data": {
      "text/html": [
       "<pre style=\"white-space:pre;overflow-x:auto;line-height:normal;font-family:Menlo,'DejaVu Sans Mono',consolas,'Courier New',monospace\">/var/folders/7t/k8q3439j6z3c683j7w00wtm80000gn/T/ipykernel_58430/330735155.py:26: FutureWarning: The behavior of \n",
       "DataFrame concatenation with empty or all-NA entries is deprecated. In a future version, this will no longer \n",
       "exclude empty or all-NA columns when determining the result dtypes. To retain the old behavior, exclude the \n",
       "relevant entries before the concat operation.\n",
       "  results = pd.concat([results, normalized_data]) #.dropna(axis=1, how=\"all\")])\n",
       "</pre>\n"
      ],
      "text/plain": [
       "/var/folders/7t/k8q3439j6z3c683j7w00wtm80000gn/T/ipykernel_58430/330735155.py:26: FutureWarning: The behavior of \n",
       "DataFrame concatenation with empty or all-NA entries is deprecated. In a future version, this will no longer \n",
       "exclude empty or all-NA columns when determining the result dtypes. To retain the old behavior, exclude the \n",
       "relevant entries before the concat operation.\n",
       "  results = pd.concat([results, normalized_data]) #.dropna(axis=1, how=\"all\")])\n"
      ]
     },
     "metadata": {},
     "output_type": "display_data"
    },
    {
     "data": {
      "text/html": [
       "<pre style=\"white-space:pre;overflow-x:auto;line-height:normal;font-family:Menlo,'DejaVu Sans Mono',consolas,'Courier New',monospace\">/var/folders/7t/k8q3439j6z3c683j7w00wtm80000gn/T/ipykernel_58430/330735155.py:26: FutureWarning: The behavior of \n",
       "DataFrame concatenation with empty or all-NA entries is deprecated. In a future version, this will no longer \n",
       "exclude empty or all-NA columns when determining the result dtypes. To retain the old behavior, exclude the \n",
       "relevant entries before the concat operation.\n",
       "  results = pd.concat([results, normalized_data]) #.dropna(axis=1, how=\"all\")])\n",
       "</pre>\n"
      ],
      "text/plain": [
       "/var/folders/7t/k8q3439j6z3c683j7w00wtm80000gn/T/ipykernel_58430/330735155.py:26: FutureWarning: The behavior of \n",
       "DataFrame concatenation with empty or all-NA entries is deprecated. In a future version, this will no longer \n",
       "exclude empty or all-NA columns when determining the result dtypes. To retain the old behavior, exclude the \n",
       "relevant entries before the concat operation.\n",
       "  results = pd.concat([results, normalized_data]) #.dropna(axis=1, how=\"all\")])\n"
      ]
     },
     "metadata": {},
     "output_type": "display_data"
    },
    {
     "data": {
      "text/html": [
       "<pre style=\"white-space:pre;overflow-x:auto;line-height:normal;font-family:Menlo,'DejaVu Sans Mono',consolas,'Courier New',monospace\">/var/folders/7t/k8q3439j6z3c683j7w00wtm80000gn/T/ipykernel_58430/330735155.py:26: FutureWarning: The behavior of \n",
       "DataFrame concatenation with empty or all-NA entries is deprecated. In a future version, this will no longer \n",
       "exclude empty or all-NA columns when determining the result dtypes. To retain the old behavior, exclude the \n",
       "relevant entries before the concat operation.\n",
       "  results = pd.concat([results, normalized_data]) #.dropna(axis=1, how=\"all\")])\n",
       "</pre>\n"
      ],
      "text/plain": [
       "/var/folders/7t/k8q3439j6z3c683j7w00wtm80000gn/T/ipykernel_58430/330735155.py:26: FutureWarning: The behavior of \n",
       "DataFrame concatenation with empty or all-NA entries is deprecated. In a future version, this will no longer \n",
       "exclude empty or all-NA columns when determining the result dtypes. To retain the old behavior, exclude the \n",
       "relevant entries before the concat operation.\n",
       "  results = pd.concat([results, normalized_data]) #.dropna(axis=1, how=\"all\")])\n"
      ]
     },
     "metadata": {},
     "output_type": "display_data"
    },
    {
     "data": {
      "text/html": [
       "<pre style=\"white-space:pre;overflow-x:auto;line-height:normal;font-family:Menlo,'DejaVu Sans Mono',consolas,'Courier New',monospace\">/var/folders/7t/k8q3439j6z3c683j7w00wtm80000gn/T/ipykernel_58430/330735155.py:26: FutureWarning: The behavior of \n",
       "DataFrame concatenation with empty or all-NA entries is deprecated. In a future version, this will no longer \n",
       "exclude empty or all-NA columns when determining the result dtypes. To retain the old behavior, exclude the \n",
       "relevant entries before the concat operation.\n",
       "  results = pd.concat([results, normalized_data]) #.dropna(axis=1, how=\"all\")])\n",
       "</pre>\n"
      ],
      "text/plain": [
       "/var/folders/7t/k8q3439j6z3c683j7w00wtm80000gn/T/ipykernel_58430/330735155.py:26: FutureWarning: The behavior of \n",
       "DataFrame concatenation with empty or all-NA entries is deprecated. In a future version, this will no longer \n",
       "exclude empty or all-NA columns when determining the result dtypes. To retain the old behavior, exclude the \n",
       "relevant entries before the concat operation.\n",
       "  results = pd.concat([results, normalized_data]) #.dropna(axis=1, how=\"all\")])\n"
      ]
     },
     "metadata": {},
     "output_type": "display_data"
    },
    {
     "data": {
      "text/html": [
       "<pre style=\"white-space:pre;overflow-x:auto;line-height:normal;font-family:Menlo,'DejaVu Sans Mono',consolas,'Courier New',monospace\">/var/folders/7t/k8q3439j6z3c683j7w00wtm80000gn/T/ipykernel_58430/330735155.py:26: FutureWarning: The behavior of \n",
       "DataFrame concatenation with empty or all-NA entries is deprecated. In a future version, this will no longer \n",
       "exclude empty or all-NA columns when determining the result dtypes. To retain the old behavior, exclude the \n",
       "relevant entries before the concat operation.\n",
       "  results = pd.concat([results, normalized_data]) #.dropna(axis=1, how=\"all\")])\n",
       "</pre>\n"
      ],
      "text/plain": [
       "/var/folders/7t/k8q3439j6z3c683j7w00wtm80000gn/T/ipykernel_58430/330735155.py:26: FutureWarning: The behavior of \n",
       "DataFrame concatenation with empty or all-NA entries is deprecated. In a future version, this will no longer \n",
       "exclude empty or all-NA columns when determining the result dtypes. To retain the old behavior, exclude the \n",
       "relevant entries before the concat operation.\n",
       "  results = pd.concat([results, normalized_data]) #.dropna(axis=1, how=\"all\")])\n"
      ]
     },
     "metadata": {},
     "output_type": "display_data"
    },
    {
     "data": {
      "text/html": [
       "<pre style=\"white-space:pre;overflow-x:auto;line-height:normal;font-family:Menlo,'DejaVu Sans Mono',consolas,'Courier New',monospace\">/var/folders/7t/k8q3439j6z3c683j7w00wtm80000gn/T/ipykernel_58430/330735155.py:26: FutureWarning: The behavior of \n",
       "DataFrame concatenation with empty or all-NA entries is deprecated. In a future version, this will no longer \n",
       "exclude empty or all-NA columns when determining the result dtypes. To retain the old behavior, exclude the \n",
       "relevant entries before the concat operation.\n",
       "  results = pd.concat([results, normalized_data]) #.dropna(axis=1, how=\"all\")])\n",
       "</pre>\n"
      ],
      "text/plain": [
       "/var/folders/7t/k8q3439j6z3c683j7w00wtm80000gn/T/ipykernel_58430/330735155.py:26: FutureWarning: The behavior of \n",
       "DataFrame concatenation with empty or all-NA entries is deprecated. In a future version, this will no longer \n",
       "exclude empty or all-NA columns when determining the result dtypes. To retain the old behavior, exclude the \n",
       "relevant entries before the concat operation.\n",
       "  results = pd.concat([results, normalized_data]) #.dropna(axis=1, how=\"all\")])\n"
      ]
     },
     "metadata": {},
     "output_type": "display_data"
    },
    {
     "data": {
      "text/html": [
       "<pre style=\"white-space:pre;overflow-x:auto;line-height:normal;font-family:Menlo,'DejaVu Sans Mono',consolas,'Courier New',monospace\">/var/folders/7t/k8q3439j6z3c683j7w00wtm80000gn/T/ipykernel_58430/330735155.py:26: FutureWarning: The behavior of \n",
       "DataFrame concatenation with empty or all-NA entries is deprecated. In a future version, this will no longer \n",
       "exclude empty or all-NA columns when determining the result dtypes. To retain the old behavior, exclude the \n",
       "relevant entries before the concat operation.\n",
       "  results = pd.concat([results, normalized_data]) #.dropna(axis=1, how=\"all\")])\n",
       "</pre>\n"
      ],
      "text/plain": [
       "/var/folders/7t/k8q3439j6z3c683j7w00wtm80000gn/T/ipykernel_58430/330735155.py:26: FutureWarning: The behavior of \n",
       "DataFrame concatenation with empty or all-NA entries is deprecated. In a future version, this will no longer \n",
       "exclude empty or all-NA columns when determining the result dtypes. To retain the old behavior, exclude the \n",
       "relevant entries before the concat operation.\n",
       "  results = pd.concat([results, normalized_data]) #.dropna(axis=1, how=\"all\")])\n"
      ]
     },
     "metadata": {},
     "output_type": "display_data"
    },
    {
     "data": {
      "text/html": [
       "<pre style=\"white-space:pre;overflow-x:auto;line-height:normal;font-family:Menlo,'DejaVu Sans Mono',consolas,'Courier New',monospace\">/var/folders/7t/k8q3439j6z3c683j7w00wtm80000gn/T/ipykernel_58430/330735155.py:26: FutureWarning: The behavior of \n",
       "DataFrame concatenation with empty or all-NA entries is deprecated. In a future version, this will no longer \n",
       "exclude empty or all-NA columns when determining the result dtypes. To retain the old behavior, exclude the \n",
       "relevant entries before the concat operation.\n",
       "  results = pd.concat([results, normalized_data]) #.dropna(axis=1, how=\"all\")])\n",
       "</pre>\n"
      ],
      "text/plain": [
       "/var/folders/7t/k8q3439j6z3c683j7w00wtm80000gn/T/ipykernel_58430/330735155.py:26: FutureWarning: The behavior of \n",
       "DataFrame concatenation with empty or all-NA entries is deprecated. In a future version, this will no longer \n",
       "exclude empty or all-NA columns when determining the result dtypes. To retain the old behavior, exclude the \n",
       "relevant entries before the concat operation.\n",
       "  results = pd.concat([results, normalized_data]) #.dropna(axis=1, how=\"all\")])\n"
      ]
     },
     "metadata": {},
     "output_type": "display_data"
    },
    {
     "data": {
      "text/html": [
       "<pre style=\"white-space:pre;overflow-x:auto;line-height:normal;font-family:Menlo,'DejaVu Sans Mono',consolas,'Courier New',monospace\">/var/folders/7t/k8q3439j6z3c683j7w00wtm80000gn/T/ipykernel_58430/330735155.py:26: FutureWarning: The behavior of \n",
       "DataFrame concatenation with empty or all-NA entries is deprecated. In a future version, this will no longer \n",
       "exclude empty or all-NA columns when determining the result dtypes. To retain the old behavior, exclude the \n",
       "relevant entries before the concat operation.\n",
       "  results = pd.concat([results, normalized_data]) #.dropna(axis=1, how=\"all\")])\n",
       "</pre>\n"
      ],
      "text/plain": [
       "/var/folders/7t/k8q3439j6z3c683j7w00wtm80000gn/T/ipykernel_58430/330735155.py:26: FutureWarning: The behavior of \n",
       "DataFrame concatenation with empty or all-NA entries is deprecated. In a future version, this will no longer \n",
       "exclude empty or all-NA columns when determining the result dtypes. To retain the old behavior, exclude the \n",
       "relevant entries before the concat operation.\n",
       "  results = pd.concat([results, normalized_data]) #.dropna(axis=1, how=\"all\")])\n"
      ]
     },
     "metadata": {},
     "output_type": "display_data"
    },
    {
     "data": {
      "text/html": [
       "<pre style=\"white-space:pre;overflow-x:auto;line-height:normal;font-family:Menlo,'DejaVu Sans Mono',consolas,'Courier New',monospace\">/var/folders/7t/k8q3439j6z3c683j7w00wtm80000gn/T/ipykernel_58430/330735155.py:26: FutureWarning: The behavior of \n",
       "DataFrame concatenation with empty or all-NA entries is deprecated. In a future version, this will no longer \n",
       "exclude empty or all-NA columns when determining the result dtypes. To retain the old behavior, exclude the \n",
       "relevant entries before the concat operation.\n",
       "  results = pd.concat([results, normalized_data]) #.dropna(axis=1, how=\"all\")])\n",
       "</pre>\n"
      ],
      "text/plain": [
       "/var/folders/7t/k8q3439j6z3c683j7w00wtm80000gn/T/ipykernel_58430/330735155.py:26: FutureWarning: The behavior of \n",
       "DataFrame concatenation with empty or all-NA entries is deprecated. In a future version, this will no longer \n",
       "exclude empty or all-NA columns when determining the result dtypes. To retain the old behavior, exclude the \n",
       "relevant entries before the concat operation.\n",
       "  results = pd.concat([results, normalized_data]) #.dropna(axis=1, how=\"all\")])\n"
      ]
     },
     "metadata": {},
     "output_type": "display_data"
    },
    {
     "data": {
      "text/html": [
       "<pre style=\"white-space:pre;overflow-x:auto;line-height:normal;font-family:Menlo,'DejaVu Sans Mono',consolas,'Courier New',monospace\">/var/folders/7t/k8q3439j6z3c683j7w00wtm80000gn/T/ipykernel_58430/330735155.py:26: FutureWarning: The behavior of \n",
       "DataFrame concatenation with empty or all-NA entries is deprecated. In a future version, this will no longer \n",
       "exclude empty or all-NA columns when determining the result dtypes. To retain the old behavior, exclude the \n",
       "relevant entries before the concat operation.\n",
       "  results = pd.concat([results, normalized_data]) #.dropna(axis=1, how=\"all\")])\n",
       "</pre>\n"
      ],
      "text/plain": [
       "/var/folders/7t/k8q3439j6z3c683j7w00wtm80000gn/T/ipykernel_58430/330735155.py:26: FutureWarning: The behavior of \n",
       "DataFrame concatenation with empty or all-NA entries is deprecated. In a future version, this will no longer \n",
       "exclude empty or all-NA columns when determining the result dtypes. To retain the old behavior, exclude the \n",
       "relevant entries before the concat operation.\n",
       "  results = pd.concat([results, normalized_data]) #.dropna(axis=1, how=\"all\")])\n"
      ]
     },
     "metadata": {},
     "output_type": "display_data"
    },
    {
     "data": {
      "text/html": [
       "<pre style=\"white-space:pre;overflow-x:auto;line-height:normal;font-family:Menlo,'DejaVu Sans Mono',consolas,'Courier New',monospace\">/var/folders/7t/k8q3439j6z3c683j7w00wtm80000gn/T/ipykernel_58430/330735155.py:26: FutureWarning: The behavior of \n",
       "DataFrame concatenation with empty or all-NA entries is deprecated. In a future version, this will no longer \n",
       "exclude empty or all-NA columns when determining the result dtypes. To retain the old behavior, exclude the \n",
       "relevant entries before the concat operation.\n",
       "  results = pd.concat([results, normalized_data]) #.dropna(axis=1, how=\"all\")])\n",
       "</pre>\n"
      ],
      "text/plain": [
       "/var/folders/7t/k8q3439j6z3c683j7w00wtm80000gn/T/ipykernel_58430/330735155.py:26: FutureWarning: The behavior of \n",
       "DataFrame concatenation with empty or all-NA entries is deprecated. In a future version, this will no longer \n",
       "exclude empty or all-NA columns when determining the result dtypes. To retain the old behavior, exclude the \n",
       "relevant entries before the concat operation.\n",
       "  results = pd.concat([results, normalized_data]) #.dropna(axis=1, how=\"all\")])\n"
      ]
     },
     "metadata": {},
     "output_type": "display_data"
    },
    {
     "data": {
      "text/html": [
       "<pre style=\"white-space:pre;overflow-x:auto;line-height:normal;font-family:Menlo,'DejaVu Sans Mono',consolas,'Courier New',monospace\">/var/folders/7t/k8q3439j6z3c683j7w00wtm80000gn/T/ipykernel_58430/330735155.py:26: FutureWarning: The behavior of \n",
       "DataFrame concatenation with empty or all-NA entries is deprecated. In a future version, this will no longer \n",
       "exclude empty or all-NA columns when determining the result dtypes. To retain the old behavior, exclude the \n",
       "relevant entries before the concat operation.\n",
       "  results = pd.concat([results, normalized_data]) #.dropna(axis=1, how=\"all\")])\n",
       "</pre>\n"
      ],
      "text/plain": [
       "/var/folders/7t/k8q3439j6z3c683j7w00wtm80000gn/T/ipykernel_58430/330735155.py:26: FutureWarning: The behavior of \n",
       "DataFrame concatenation with empty or all-NA entries is deprecated. In a future version, this will no longer \n",
       "exclude empty or all-NA columns when determining the result dtypes. To retain the old behavior, exclude the \n",
       "relevant entries before the concat operation.\n",
       "  results = pd.concat([results, normalized_data]) #.dropna(axis=1, how=\"all\")])\n"
      ]
     },
     "metadata": {},
     "output_type": "display_data"
    },
    {
     "data": {
      "text/html": [
       "<pre style=\"white-space:pre;overflow-x:auto;line-height:normal;font-family:Menlo,'DejaVu Sans Mono',consolas,'Courier New',monospace\">/var/folders/7t/k8q3439j6z3c683j7w00wtm80000gn/T/ipykernel_58430/330735155.py:26: FutureWarning: The behavior of \n",
       "DataFrame concatenation with empty or all-NA entries is deprecated. In a future version, this will no longer \n",
       "exclude empty or all-NA columns when determining the result dtypes. To retain the old behavior, exclude the \n",
       "relevant entries before the concat operation.\n",
       "  results = pd.concat([results, normalized_data]) #.dropna(axis=1, how=\"all\")])\n",
       "</pre>\n"
      ],
      "text/plain": [
       "/var/folders/7t/k8q3439j6z3c683j7w00wtm80000gn/T/ipykernel_58430/330735155.py:26: FutureWarning: The behavior of \n",
       "DataFrame concatenation with empty or all-NA entries is deprecated. In a future version, this will no longer \n",
       "exclude empty or all-NA columns when determining the result dtypes. To retain the old behavior, exclude the \n",
       "relevant entries before the concat operation.\n",
       "  results = pd.concat([results, normalized_data]) #.dropna(axis=1, how=\"all\")])\n"
      ]
     },
     "metadata": {},
     "output_type": "display_data"
    },
    {
     "data": {
      "text/html": [
       "<pre style=\"white-space:pre;overflow-x:auto;line-height:normal;font-family:Menlo,'DejaVu Sans Mono',consolas,'Courier New',monospace\">/var/folders/7t/k8q3439j6z3c683j7w00wtm80000gn/T/ipykernel_58430/330735155.py:26: FutureWarning: The behavior of \n",
       "DataFrame concatenation with empty or all-NA entries is deprecated. In a future version, this will no longer \n",
       "exclude empty or all-NA columns when determining the result dtypes. To retain the old behavior, exclude the \n",
       "relevant entries before the concat operation.\n",
       "  results = pd.concat([results, normalized_data]) #.dropna(axis=1, how=\"all\")])\n",
       "</pre>\n"
      ],
      "text/plain": [
       "/var/folders/7t/k8q3439j6z3c683j7w00wtm80000gn/T/ipykernel_58430/330735155.py:26: FutureWarning: The behavior of \n",
       "DataFrame concatenation with empty or all-NA entries is deprecated. In a future version, this will no longer \n",
       "exclude empty or all-NA columns when determining the result dtypes. To retain the old behavior, exclude the \n",
       "relevant entries before the concat operation.\n",
       "  results = pd.concat([results, normalized_data]) #.dropna(axis=1, how=\"all\")])\n"
      ]
     },
     "metadata": {},
     "output_type": "display_data"
    },
    {
     "data": {
      "text/html": [
       "<pre style=\"white-space:pre;overflow-x:auto;line-height:normal;font-family:Menlo,'DejaVu Sans Mono',consolas,'Courier New',monospace\">/var/folders/7t/k8q3439j6z3c683j7w00wtm80000gn/T/ipykernel_58430/330735155.py:26: FutureWarning: The behavior of \n",
       "DataFrame concatenation with empty or all-NA entries is deprecated. In a future version, this will no longer \n",
       "exclude empty or all-NA columns when determining the result dtypes. To retain the old behavior, exclude the \n",
       "relevant entries before the concat operation.\n",
       "  results = pd.concat([results, normalized_data]) #.dropna(axis=1, how=\"all\")])\n",
       "</pre>\n"
      ],
      "text/plain": [
       "/var/folders/7t/k8q3439j6z3c683j7w00wtm80000gn/T/ipykernel_58430/330735155.py:26: FutureWarning: The behavior of \n",
       "DataFrame concatenation with empty or all-NA entries is deprecated. In a future version, this will no longer \n",
       "exclude empty or all-NA columns when determining the result dtypes. To retain the old behavior, exclude the \n",
       "relevant entries before the concat operation.\n",
       "  results = pd.concat([results, normalized_data]) #.dropna(axis=1, how=\"all\")])\n"
      ]
     },
     "metadata": {},
     "output_type": "display_data"
    },
    {
     "data": {
      "text/html": [
       "<pre style=\"white-space:pre;overflow-x:auto;line-height:normal;font-family:Menlo,'DejaVu Sans Mono',consolas,'Courier New',monospace\">/var/folders/7t/k8q3439j6z3c683j7w00wtm80000gn/T/ipykernel_58430/330735155.py:26: FutureWarning: The behavior of \n",
       "DataFrame concatenation with empty or all-NA entries is deprecated. In a future version, this will no longer \n",
       "exclude empty or all-NA columns when determining the result dtypes. To retain the old behavior, exclude the \n",
       "relevant entries before the concat operation.\n",
       "  results = pd.concat([results, normalized_data]) #.dropna(axis=1, how=\"all\")])\n",
       "</pre>\n"
      ],
      "text/plain": [
       "/var/folders/7t/k8q3439j6z3c683j7w00wtm80000gn/T/ipykernel_58430/330735155.py:26: FutureWarning: The behavior of \n",
       "DataFrame concatenation with empty or all-NA entries is deprecated. In a future version, this will no longer \n",
       "exclude empty or all-NA columns when determining the result dtypes. To retain the old behavior, exclude the \n",
       "relevant entries before the concat operation.\n",
       "  results = pd.concat([results, normalized_data]) #.dropna(axis=1, how=\"all\")])\n"
      ]
     },
     "metadata": {},
     "output_type": "display_data"
    },
    {
     "data": {
      "text/html": [
       "<pre style=\"white-space:pre;overflow-x:auto;line-height:normal;font-family:Menlo,'DejaVu Sans Mono',consolas,'Courier New',monospace\">/var/folders/7t/k8q3439j6z3c683j7w00wtm80000gn/T/ipykernel_58430/330735155.py:26: FutureWarning: The behavior of \n",
       "DataFrame concatenation with empty or all-NA entries is deprecated. In a future version, this will no longer \n",
       "exclude empty or all-NA columns when determining the result dtypes. To retain the old behavior, exclude the \n",
       "relevant entries before the concat operation.\n",
       "  results = pd.concat([results, normalized_data]) #.dropna(axis=1, how=\"all\")])\n",
       "</pre>\n"
      ],
      "text/plain": [
       "/var/folders/7t/k8q3439j6z3c683j7w00wtm80000gn/T/ipykernel_58430/330735155.py:26: FutureWarning: The behavior of \n",
       "DataFrame concatenation with empty or all-NA entries is deprecated. In a future version, this will no longer \n",
       "exclude empty or all-NA columns when determining the result dtypes. To retain the old behavior, exclude the \n",
       "relevant entries before the concat operation.\n",
       "  results = pd.concat([results, normalized_data]) #.dropna(axis=1, how=\"all\")])\n"
      ]
     },
     "metadata": {},
     "output_type": "display_data"
    },
    {
     "data": {
      "text/html": [
       "<pre style=\"white-space:pre;overflow-x:auto;line-height:normal;font-family:Menlo,'DejaVu Sans Mono',consolas,'Courier New',monospace\">/var/folders/7t/k8q3439j6z3c683j7w00wtm80000gn/T/ipykernel_58430/330735155.py:26: FutureWarning: The behavior of \n",
       "DataFrame concatenation with empty or all-NA entries is deprecated. In a future version, this will no longer \n",
       "exclude empty or all-NA columns when determining the result dtypes. To retain the old behavior, exclude the \n",
       "relevant entries before the concat operation.\n",
       "  results = pd.concat([results, normalized_data]) #.dropna(axis=1, how=\"all\")])\n",
       "</pre>\n"
      ],
      "text/plain": [
       "/var/folders/7t/k8q3439j6z3c683j7w00wtm80000gn/T/ipykernel_58430/330735155.py:26: FutureWarning: The behavior of \n",
       "DataFrame concatenation with empty or all-NA entries is deprecated. In a future version, this will no longer \n",
       "exclude empty or all-NA columns when determining the result dtypes. To retain the old behavior, exclude the \n",
       "relevant entries before the concat operation.\n",
       "  results = pd.concat([results, normalized_data]) #.dropna(axis=1, how=\"all\")])\n"
      ]
     },
     "metadata": {},
     "output_type": "display_data"
    },
    {
     "data": {
      "text/html": [
       "<pre style=\"white-space:pre;overflow-x:auto;line-height:normal;font-family:Menlo,'DejaVu Sans Mono',consolas,'Courier New',monospace\">/var/folders/7t/k8q3439j6z3c683j7w00wtm80000gn/T/ipykernel_58430/330735155.py:26: FutureWarning: The behavior of \n",
       "DataFrame concatenation with empty or all-NA entries is deprecated. In a future version, this will no longer \n",
       "exclude empty or all-NA columns when determining the result dtypes. To retain the old behavior, exclude the \n",
       "relevant entries before the concat operation.\n",
       "  results = pd.concat([results, normalized_data]) #.dropna(axis=1, how=\"all\")])\n",
       "</pre>\n"
      ],
      "text/plain": [
       "/var/folders/7t/k8q3439j6z3c683j7w00wtm80000gn/T/ipykernel_58430/330735155.py:26: FutureWarning: The behavior of \n",
       "DataFrame concatenation with empty or all-NA entries is deprecated. In a future version, this will no longer \n",
       "exclude empty or all-NA columns when determining the result dtypes. To retain the old behavior, exclude the \n",
       "relevant entries before the concat operation.\n",
       "  results = pd.concat([results, normalized_data]) #.dropna(axis=1, how=\"all\")])\n"
      ]
     },
     "metadata": {},
     "output_type": "display_data"
    },
    {
     "data": {
      "text/html": [
       "<pre style=\"white-space:pre;overflow-x:auto;line-height:normal;font-family:Menlo,'DejaVu Sans Mono',consolas,'Courier New',monospace\">/var/folders/7t/k8q3439j6z3c683j7w00wtm80000gn/T/ipykernel_58430/330735155.py:26: FutureWarning: The behavior of \n",
       "DataFrame concatenation with empty or all-NA entries is deprecated. In a future version, this will no longer \n",
       "exclude empty or all-NA columns when determining the result dtypes. To retain the old behavior, exclude the \n",
       "relevant entries before the concat operation.\n",
       "  results = pd.concat([results, normalized_data]) #.dropna(axis=1, how=\"all\")])\n",
       "</pre>\n"
      ],
      "text/plain": [
       "/var/folders/7t/k8q3439j6z3c683j7w00wtm80000gn/T/ipykernel_58430/330735155.py:26: FutureWarning: The behavior of \n",
       "DataFrame concatenation with empty or all-NA entries is deprecated. In a future version, this will no longer \n",
       "exclude empty or all-NA columns when determining the result dtypes. To retain the old behavior, exclude the \n",
       "relevant entries before the concat operation.\n",
       "  results = pd.concat([results, normalized_data]) #.dropna(axis=1, how=\"all\")])\n"
      ]
     },
     "metadata": {},
     "output_type": "display_data"
    },
    {
     "data": {
      "text/html": [
       "<pre style=\"white-space:pre;overflow-x:auto;line-height:normal;font-family:Menlo,'DejaVu Sans Mono',consolas,'Courier New',monospace\">/var/folders/7t/k8q3439j6z3c683j7w00wtm80000gn/T/ipykernel_58430/330735155.py:26: FutureWarning: The behavior of \n",
       "DataFrame concatenation with empty or all-NA entries is deprecated. In a future version, this will no longer \n",
       "exclude empty or all-NA columns when determining the result dtypes. To retain the old behavior, exclude the \n",
       "relevant entries before the concat operation.\n",
       "  results = pd.concat([results, normalized_data]) #.dropna(axis=1, how=\"all\")])\n",
       "</pre>\n"
      ],
      "text/plain": [
       "/var/folders/7t/k8q3439j6z3c683j7w00wtm80000gn/T/ipykernel_58430/330735155.py:26: FutureWarning: The behavior of \n",
       "DataFrame concatenation with empty or all-NA entries is deprecated. In a future version, this will no longer \n",
       "exclude empty or all-NA columns when determining the result dtypes. To retain the old behavior, exclude the \n",
       "relevant entries before the concat operation.\n",
       "  results = pd.concat([results, normalized_data]) #.dropna(axis=1, how=\"all\")])\n"
      ]
     },
     "metadata": {},
     "output_type": "display_data"
    },
    {
     "data": {
      "text/html": [
       "<pre style=\"white-space:pre;overflow-x:auto;line-height:normal;font-family:Menlo,'DejaVu Sans Mono',consolas,'Courier New',monospace\">/var/folders/7t/k8q3439j6z3c683j7w00wtm80000gn/T/ipykernel_58430/330735155.py:26: FutureWarning: The behavior of \n",
       "DataFrame concatenation with empty or all-NA entries is deprecated. In a future version, this will no longer \n",
       "exclude empty or all-NA columns when determining the result dtypes. To retain the old behavior, exclude the \n",
       "relevant entries before the concat operation.\n",
       "  results = pd.concat([results, normalized_data]) #.dropna(axis=1, how=\"all\")])\n",
       "</pre>\n"
      ],
      "text/plain": [
       "/var/folders/7t/k8q3439j6z3c683j7w00wtm80000gn/T/ipykernel_58430/330735155.py:26: FutureWarning: The behavior of \n",
       "DataFrame concatenation with empty or all-NA entries is deprecated. In a future version, this will no longer \n",
       "exclude empty or all-NA columns when determining the result dtypes. To retain the old behavior, exclude the \n",
       "relevant entries before the concat operation.\n",
       "  results = pd.concat([results, normalized_data]) #.dropna(axis=1, how=\"all\")])\n"
      ]
     },
     "metadata": {},
     "output_type": "display_data"
    },
    {
     "data": {
      "text/html": [
       "<pre style=\"white-space:pre;overflow-x:auto;line-height:normal;font-family:Menlo,'DejaVu Sans Mono',consolas,'Courier New',monospace\">/var/folders/7t/k8q3439j6z3c683j7w00wtm80000gn/T/ipykernel_58430/330735155.py:26: FutureWarning: The behavior of \n",
       "DataFrame concatenation with empty or all-NA entries is deprecated. In a future version, this will no longer \n",
       "exclude empty or all-NA columns when determining the result dtypes. To retain the old behavior, exclude the \n",
       "relevant entries before the concat operation.\n",
       "  results = pd.concat([results, normalized_data]) #.dropna(axis=1, how=\"all\")])\n",
       "</pre>\n"
      ],
      "text/plain": [
       "/var/folders/7t/k8q3439j6z3c683j7w00wtm80000gn/T/ipykernel_58430/330735155.py:26: FutureWarning: The behavior of \n",
       "DataFrame concatenation with empty or all-NA entries is deprecated. In a future version, this will no longer \n",
       "exclude empty or all-NA columns when determining the result dtypes. To retain the old behavior, exclude the \n",
       "relevant entries before the concat operation.\n",
       "  results = pd.concat([results, normalized_data]) #.dropna(axis=1, how=\"all\")])\n"
      ]
     },
     "metadata": {},
     "output_type": "display_data"
    },
    {
     "data": {
      "text/html": [
       "<pre style=\"white-space:pre;overflow-x:auto;line-height:normal;font-family:Menlo,'DejaVu Sans Mono',consolas,'Courier New',monospace\">/var/folders/7t/k8q3439j6z3c683j7w00wtm80000gn/T/ipykernel_58430/330735155.py:26: FutureWarning: The behavior of \n",
       "DataFrame concatenation with empty or all-NA entries is deprecated. In a future version, this will no longer \n",
       "exclude empty or all-NA columns when determining the result dtypes. To retain the old behavior, exclude the \n",
       "relevant entries before the concat operation.\n",
       "  results = pd.concat([results, normalized_data]) #.dropna(axis=1, how=\"all\")])\n",
       "</pre>\n"
      ],
      "text/plain": [
       "/var/folders/7t/k8q3439j6z3c683j7w00wtm80000gn/T/ipykernel_58430/330735155.py:26: FutureWarning: The behavior of \n",
       "DataFrame concatenation with empty or all-NA entries is deprecated. In a future version, this will no longer \n",
       "exclude empty or all-NA columns when determining the result dtypes. To retain the old behavior, exclude the \n",
       "relevant entries before the concat operation.\n",
       "  results = pd.concat([results, normalized_data]) #.dropna(axis=1, how=\"all\")])\n"
      ]
     },
     "metadata": {},
     "output_type": "display_data"
    },
    {
     "data": {
      "text/html": [
       "<pre style=\"white-space:pre;overflow-x:auto;line-height:normal;font-family:Menlo,'DejaVu Sans Mono',consolas,'Courier New',monospace\">/var/folders/7t/k8q3439j6z3c683j7w00wtm80000gn/T/ipykernel_58430/330735155.py:26: FutureWarning: The behavior of \n",
       "DataFrame concatenation with empty or all-NA entries is deprecated. In a future version, this will no longer \n",
       "exclude empty or all-NA columns when determining the result dtypes. To retain the old behavior, exclude the \n",
       "relevant entries before the concat operation.\n",
       "  results = pd.concat([results, normalized_data]) #.dropna(axis=1, how=\"all\")])\n",
       "</pre>\n"
      ],
      "text/plain": [
       "/var/folders/7t/k8q3439j6z3c683j7w00wtm80000gn/T/ipykernel_58430/330735155.py:26: FutureWarning: The behavior of \n",
       "DataFrame concatenation with empty or all-NA entries is deprecated. In a future version, this will no longer \n",
       "exclude empty or all-NA columns when determining the result dtypes. To retain the old behavior, exclude the \n",
       "relevant entries before the concat operation.\n",
       "  results = pd.concat([results, normalized_data]) #.dropna(axis=1, how=\"all\")])\n"
      ]
     },
     "metadata": {},
     "output_type": "display_data"
    },
    {
     "data": {
      "text/html": [
       "<pre style=\"white-space:pre;overflow-x:auto;line-height:normal;font-family:Menlo,'DejaVu Sans Mono',consolas,'Courier New',monospace\">/var/folders/7t/k8q3439j6z3c683j7w00wtm80000gn/T/ipykernel_58430/330735155.py:26: FutureWarning: The behavior of \n",
       "DataFrame concatenation with empty or all-NA entries is deprecated. In a future version, this will no longer \n",
       "exclude empty or all-NA columns when determining the result dtypes. To retain the old behavior, exclude the \n",
       "relevant entries before the concat operation.\n",
       "  results = pd.concat([results, normalized_data]) #.dropna(axis=1, how=\"all\")])\n",
       "</pre>\n"
      ],
      "text/plain": [
       "/var/folders/7t/k8q3439j6z3c683j7w00wtm80000gn/T/ipykernel_58430/330735155.py:26: FutureWarning: The behavior of \n",
       "DataFrame concatenation with empty or all-NA entries is deprecated. In a future version, this will no longer \n",
       "exclude empty or all-NA columns when determining the result dtypes. To retain the old behavior, exclude the \n",
       "relevant entries before the concat operation.\n",
       "  results = pd.concat([results, normalized_data]) #.dropna(axis=1, how=\"all\")])\n"
      ]
     },
     "metadata": {},
     "output_type": "display_data"
    },
    {
     "data": {
      "text/html": [
       "<pre style=\"white-space:pre;overflow-x:auto;line-height:normal;font-family:Menlo,'DejaVu Sans Mono',consolas,'Courier New',monospace\">/var/folders/7t/k8q3439j6z3c683j7w00wtm80000gn/T/ipykernel_58430/330735155.py:26: FutureWarning: The behavior of \n",
       "DataFrame concatenation with empty or all-NA entries is deprecated. In a future version, this will no longer \n",
       "exclude empty or all-NA columns when determining the result dtypes. To retain the old behavior, exclude the \n",
       "relevant entries before the concat operation.\n",
       "  results = pd.concat([results, normalized_data]) #.dropna(axis=1, how=\"all\")])\n",
       "</pre>\n"
      ],
      "text/plain": [
       "/var/folders/7t/k8q3439j6z3c683j7w00wtm80000gn/T/ipykernel_58430/330735155.py:26: FutureWarning: The behavior of \n",
       "DataFrame concatenation with empty or all-NA entries is deprecated. In a future version, this will no longer \n",
       "exclude empty or all-NA columns when determining the result dtypes. To retain the old behavior, exclude the \n",
       "relevant entries before the concat operation.\n",
       "  results = pd.concat([results, normalized_data]) #.dropna(axis=1, how=\"all\")])\n"
      ]
     },
     "metadata": {},
     "output_type": "display_data"
    },
    {
     "data": {
      "text/html": [
       "<pre style=\"white-space:pre;overflow-x:auto;line-height:normal;font-family:Menlo,'DejaVu Sans Mono',consolas,'Courier New',monospace\">/var/folders/7t/k8q3439j6z3c683j7w00wtm80000gn/T/ipykernel_58430/330735155.py:26: FutureWarning: The behavior of \n",
       "DataFrame concatenation with empty or all-NA entries is deprecated. In a future version, this will no longer \n",
       "exclude empty or all-NA columns when determining the result dtypes. To retain the old behavior, exclude the \n",
       "relevant entries before the concat operation.\n",
       "  results = pd.concat([results, normalized_data]) #.dropna(axis=1, how=\"all\")])\n",
       "</pre>\n"
      ],
      "text/plain": [
       "/var/folders/7t/k8q3439j6z3c683j7w00wtm80000gn/T/ipykernel_58430/330735155.py:26: FutureWarning: The behavior of \n",
       "DataFrame concatenation with empty or all-NA entries is deprecated. In a future version, this will no longer \n",
       "exclude empty or all-NA columns when determining the result dtypes. To retain the old behavior, exclude the \n",
       "relevant entries before the concat operation.\n",
       "  results = pd.concat([results, normalized_data]) #.dropna(axis=1, how=\"all\")])\n"
      ]
     },
     "metadata": {},
     "output_type": "display_data"
    },
    {
     "data": {
      "text/html": [
       "<pre style=\"white-space:pre;overflow-x:auto;line-height:normal;font-family:Menlo,'DejaVu Sans Mono',consolas,'Courier New',monospace\">/var/folders/7t/k8q3439j6z3c683j7w00wtm80000gn/T/ipykernel_58430/330735155.py:26: FutureWarning: The behavior of \n",
       "DataFrame concatenation with empty or all-NA entries is deprecated. In a future version, this will no longer \n",
       "exclude empty or all-NA columns when determining the result dtypes. To retain the old behavior, exclude the \n",
       "relevant entries before the concat operation.\n",
       "  results = pd.concat([results, normalized_data]) #.dropna(axis=1, how=\"all\")])\n",
       "</pre>\n"
      ],
      "text/plain": [
       "/var/folders/7t/k8q3439j6z3c683j7w00wtm80000gn/T/ipykernel_58430/330735155.py:26: FutureWarning: The behavior of \n",
       "DataFrame concatenation with empty or all-NA entries is deprecated. In a future version, this will no longer \n",
       "exclude empty or all-NA columns when determining the result dtypes. To retain the old behavior, exclude the \n",
       "relevant entries before the concat operation.\n",
       "  results = pd.concat([results, normalized_data]) #.dropna(axis=1, how=\"all\")])\n"
      ]
     },
     "metadata": {},
     "output_type": "display_data"
    },
    {
     "data": {
      "text/html": [
       "<pre style=\"white-space:pre;overflow-x:auto;line-height:normal;font-family:Menlo,'DejaVu Sans Mono',consolas,'Courier New',monospace\">/var/folders/7t/k8q3439j6z3c683j7w00wtm80000gn/T/ipykernel_58430/330735155.py:26: FutureWarning: The behavior of \n",
       "DataFrame concatenation with empty or all-NA entries is deprecated. In a future version, this will no longer \n",
       "exclude empty or all-NA columns when determining the result dtypes. To retain the old behavior, exclude the \n",
       "relevant entries before the concat operation.\n",
       "  results = pd.concat([results, normalized_data]) #.dropna(axis=1, how=\"all\")])\n",
       "</pre>\n"
      ],
      "text/plain": [
       "/var/folders/7t/k8q3439j6z3c683j7w00wtm80000gn/T/ipykernel_58430/330735155.py:26: FutureWarning: The behavior of \n",
       "DataFrame concatenation with empty or all-NA entries is deprecated. In a future version, this will no longer \n",
       "exclude empty or all-NA columns when determining the result dtypes. To retain the old behavior, exclude the \n",
       "relevant entries before the concat operation.\n",
       "  results = pd.concat([results, normalized_data]) #.dropna(axis=1, how=\"all\")])\n"
      ]
     },
     "metadata": {},
     "output_type": "display_data"
    },
    {
     "data": {
      "text/html": [
       "<pre style=\"white-space:pre;overflow-x:auto;line-height:normal;font-family:Menlo,'DejaVu Sans Mono',consolas,'Courier New',monospace\">/var/folders/7t/k8q3439j6z3c683j7w00wtm80000gn/T/ipykernel_58430/330735155.py:26: FutureWarning: The behavior of \n",
       "DataFrame concatenation with empty or all-NA entries is deprecated. In a future version, this will no longer \n",
       "exclude empty or all-NA columns when determining the result dtypes. To retain the old behavior, exclude the \n",
       "relevant entries before the concat operation.\n",
       "  results = pd.concat([results, normalized_data]) #.dropna(axis=1, how=\"all\")])\n",
       "</pre>\n"
      ],
      "text/plain": [
       "/var/folders/7t/k8q3439j6z3c683j7w00wtm80000gn/T/ipykernel_58430/330735155.py:26: FutureWarning: The behavior of \n",
       "DataFrame concatenation with empty or all-NA entries is deprecated. In a future version, this will no longer \n",
       "exclude empty or all-NA columns when determining the result dtypes. To retain the old behavior, exclude the \n",
       "relevant entries before the concat operation.\n",
       "  results = pd.concat([results, normalized_data]) #.dropna(axis=1, how=\"all\")])\n"
      ]
     },
     "metadata": {},
     "output_type": "display_data"
    },
    {
     "data": {
      "text/html": [
       "<pre style=\"white-space:pre;overflow-x:auto;line-height:normal;font-family:Menlo,'DejaVu Sans Mono',consolas,'Courier New',monospace\">/var/folders/7t/k8q3439j6z3c683j7w00wtm80000gn/T/ipykernel_58430/330735155.py:26: FutureWarning: The behavior of \n",
       "DataFrame concatenation with empty or all-NA entries is deprecated. In a future version, this will no longer \n",
       "exclude empty or all-NA columns when determining the result dtypes. To retain the old behavior, exclude the \n",
       "relevant entries before the concat operation.\n",
       "  results = pd.concat([results, normalized_data]) #.dropna(axis=1, how=\"all\")])\n",
       "</pre>\n"
      ],
      "text/plain": [
       "/var/folders/7t/k8q3439j6z3c683j7w00wtm80000gn/T/ipykernel_58430/330735155.py:26: FutureWarning: The behavior of \n",
       "DataFrame concatenation with empty or all-NA entries is deprecated. In a future version, this will no longer \n",
       "exclude empty or all-NA columns when determining the result dtypes. To retain the old behavior, exclude the \n",
       "relevant entries before the concat operation.\n",
       "  results = pd.concat([results, normalized_data]) #.dropna(axis=1, how=\"all\")])\n"
      ]
     },
     "metadata": {},
     "output_type": "display_data"
    },
    {
     "data": {
      "text/html": [
       "<pre style=\"white-space:pre;overflow-x:auto;line-height:normal;font-family:Menlo,'DejaVu Sans Mono',consolas,'Courier New',monospace\">/var/folders/7t/k8q3439j6z3c683j7w00wtm80000gn/T/ipykernel_58430/330735155.py:26: FutureWarning: The behavior of \n",
       "DataFrame concatenation with empty or all-NA entries is deprecated. In a future version, this will no longer \n",
       "exclude empty or all-NA columns when determining the result dtypes. To retain the old behavior, exclude the \n",
       "relevant entries before the concat operation.\n",
       "  results = pd.concat([results, normalized_data]) #.dropna(axis=1, how=\"all\")])\n",
       "</pre>\n"
      ],
      "text/plain": [
       "/var/folders/7t/k8q3439j6z3c683j7w00wtm80000gn/T/ipykernel_58430/330735155.py:26: FutureWarning: The behavior of \n",
       "DataFrame concatenation with empty or all-NA entries is deprecated. In a future version, this will no longer \n",
       "exclude empty or all-NA columns when determining the result dtypes. To retain the old behavior, exclude the \n",
       "relevant entries before the concat operation.\n",
       "  results = pd.concat([results, normalized_data]) #.dropna(axis=1, how=\"all\")])\n"
      ]
     },
     "metadata": {},
     "output_type": "display_data"
    },
    {
     "data": {
      "text/html": [
       "<pre style=\"white-space:pre;overflow-x:auto;line-height:normal;font-family:Menlo,'DejaVu Sans Mono',consolas,'Courier New',monospace\">/var/folders/7t/k8q3439j6z3c683j7w00wtm80000gn/T/ipykernel_58430/330735155.py:26: FutureWarning: The behavior of \n",
       "DataFrame concatenation with empty or all-NA entries is deprecated. In a future version, this will no longer \n",
       "exclude empty or all-NA columns when determining the result dtypes. To retain the old behavior, exclude the \n",
       "relevant entries before the concat operation.\n",
       "  results = pd.concat([results, normalized_data]) #.dropna(axis=1, how=\"all\")])\n",
       "</pre>\n"
      ],
      "text/plain": [
       "/var/folders/7t/k8q3439j6z3c683j7w00wtm80000gn/T/ipykernel_58430/330735155.py:26: FutureWarning: The behavior of \n",
       "DataFrame concatenation with empty or all-NA entries is deprecated. In a future version, this will no longer \n",
       "exclude empty or all-NA columns when determining the result dtypes. To retain the old behavior, exclude the \n",
       "relevant entries before the concat operation.\n",
       "  results = pd.concat([results, normalized_data]) #.dropna(axis=1, how=\"all\")])\n"
      ]
     },
     "metadata": {},
     "output_type": "display_data"
    },
    {
     "data": {
      "text/html": [
       "<pre style=\"white-space:pre;overflow-x:auto;line-height:normal;font-family:Menlo,'DejaVu Sans Mono',consolas,'Courier New',monospace\">/var/folders/7t/k8q3439j6z3c683j7w00wtm80000gn/T/ipykernel_58430/330735155.py:26: FutureWarning: The behavior of \n",
       "DataFrame concatenation with empty or all-NA entries is deprecated. In a future version, this will no longer \n",
       "exclude empty or all-NA columns when determining the result dtypes. To retain the old behavior, exclude the \n",
       "relevant entries before the concat operation.\n",
       "  results = pd.concat([results, normalized_data]) #.dropna(axis=1, how=\"all\")])\n",
       "</pre>\n"
      ],
      "text/plain": [
       "/var/folders/7t/k8q3439j6z3c683j7w00wtm80000gn/T/ipykernel_58430/330735155.py:26: FutureWarning: The behavior of \n",
       "DataFrame concatenation with empty or all-NA entries is deprecated. In a future version, this will no longer \n",
       "exclude empty or all-NA columns when determining the result dtypes. To retain the old behavior, exclude the \n",
       "relevant entries before the concat operation.\n",
       "  results = pd.concat([results, normalized_data]) #.dropna(axis=1, how=\"all\")])\n"
      ]
     },
     "metadata": {},
     "output_type": "display_data"
    },
    {
     "data": {
      "text/html": [
       "<pre style=\"white-space:pre;overflow-x:auto;line-height:normal;font-family:Menlo,'DejaVu Sans Mono',consolas,'Courier New',monospace\">/var/folders/7t/k8q3439j6z3c683j7w00wtm80000gn/T/ipykernel_58430/330735155.py:26: FutureWarning: The behavior of \n",
       "DataFrame concatenation with empty or all-NA entries is deprecated. In a future version, this will no longer \n",
       "exclude empty or all-NA columns when determining the result dtypes. To retain the old behavior, exclude the \n",
       "relevant entries before the concat operation.\n",
       "  results = pd.concat([results, normalized_data]) #.dropna(axis=1, how=\"all\")])\n",
       "</pre>\n"
      ],
      "text/plain": [
       "/var/folders/7t/k8q3439j6z3c683j7w00wtm80000gn/T/ipykernel_58430/330735155.py:26: FutureWarning: The behavior of \n",
       "DataFrame concatenation with empty or all-NA entries is deprecated. In a future version, this will no longer \n",
       "exclude empty or all-NA columns when determining the result dtypes. To retain the old behavior, exclude the \n",
       "relevant entries before the concat operation.\n",
       "  results = pd.concat([results, normalized_data]) #.dropna(axis=1, how=\"all\")])\n"
      ]
     },
     "metadata": {},
     "output_type": "display_data"
    },
    {
     "data": {
      "text/html": [
       "<pre style=\"white-space:pre;overflow-x:auto;line-height:normal;font-family:Menlo,'DejaVu Sans Mono',consolas,'Courier New',monospace\">/var/folders/7t/k8q3439j6z3c683j7w00wtm80000gn/T/ipykernel_58430/330735155.py:26: FutureWarning: The behavior of \n",
       "DataFrame concatenation with empty or all-NA entries is deprecated. In a future version, this will no longer \n",
       "exclude empty or all-NA columns when determining the result dtypes. To retain the old behavior, exclude the \n",
       "relevant entries before the concat operation.\n",
       "  results = pd.concat([results, normalized_data]) #.dropna(axis=1, how=\"all\")])\n",
       "</pre>\n"
      ],
      "text/plain": [
       "/var/folders/7t/k8q3439j6z3c683j7w00wtm80000gn/T/ipykernel_58430/330735155.py:26: FutureWarning: The behavior of \n",
       "DataFrame concatenation with empty or all-NA entries is deprecated. In a future version, this will no longer \n",
       "exclude empty or all-NA columns when determining the result dtypes. To retain the old behavior, exclude the \n",
       "relevant entries before the concat operation.\n",
       "  results = pd.concat([results, normalized_data]) #.dropna(axis=1, how=\"all\")])\n"
      ]
     },
     "metadata": {},
     "output_type": "display_data"
    },
    {
     "data": {
      "text/html": [
       "<pre style=\"white-space:pre;overflow-x:auto;line-height:normal;font-family:Menlo,'DejaVu Sans Mono',consolas,'Courier New',monospace\">/var/folders/7t/k8q3439j6z3c683j7w00wtm80000gn/T/ipykernel_58430/330735155.py:26: FutureWarning: The behavior of \n",
       "DataFrame concatenation with empty or all-NA entries is deprecated. In a future version, this will no longer \n",
       "exclude empty or all-NA columns when determining the result dtypes. To retain the old behavior, exclude the \n",
       "relevant entries before the concat operation.\n",
       "  results = pd.concat([results, normalized_data]) #.dropna(axis=1, how=\"all\")])\n",
       "</pre>\n"
      ],
      "text/plain": [
       "/var/folders/7t/k8q3439j6z3c683j7w00wtm80000gn/T/ipykernel_58430/330735155.py:26: FutureWarning: The behavior of \n",
       "DataFrame concatenation with empty or all-NA entries is deprecated. In a future version, this will no longer \n",
       "exclude empty or all-NA columns when determining the result dtypes. To retain the old behavior, exclude the \n",
       "relevant entries before the concat operation.\n",
       "  results = pd.concat([results, normalized_data]) #.dropna(axis=1, how=\"all\")])\n"
      ]
     },
     "metadata": {},
     "output_type": "display_data"
    },
    {
     "data": {
      "text/html": [
       "<pre style=\"white-space:pre;overflow-x:auto;line-height:normal;font-family:Menlo,'DejaVu Sans Mono',consolas,'Courier New',monospace\">/var/folders/7t/k8q3439j6z3c683j7w00wtm80000gn/T/ipykernel_58430/330735155.py:26: FutureWarning: The behavior of \n",
       "DataFrame concatenation with empty or all-NA entries is deprecated. In a future version, this will no longer \n",
       "exclude empty or all-NA columns when determining the result dtypes. To retain the old behavior, exclude the \n",
       "relevant entries before the concat operation.\n",
       "  results = pd.concat([results, normalized_data]) #.dropna(axis=1, how=\"all\")])\n",
       "</pre>\n"
      ],
      "text/plain": [
       "/var/folders/7t/k8q3439j6z3c683j7w00wtm80000gn/T/ipykernel_58430/330735155.py:26: FutureWarning: The behavior of \n",
       "DataFrame concatenation with empty or all-NA entries is deprecated. In a future version, this will no longer \n",
       "exclude empty or all-NA columns when determining the result dtypes. To retain the old behavior, exclude the \n",
       "relevant entries before the concat operation.\n",
       "  results = pd.concat([results, normalized_data]) #.dropna(axis=1, how=\"all\")])\n"
      ]
     },
     "metadata": {},
     "output_type": "display_data"
    },
    {
     "data": {
      "text/html": [
       "<pre style=\"white-space:pre;overflow-x:auto;line-height:normal;font-family:Menlo,'DejaVu Sans Mono',consolas,'Courier New',monospace\">/var/folders/7t/k8q3439j6z3c683j7w00wtm80000gn/T/ipykernel_58430/330735155.py:26: FutureWarning: The behavior of \n",
       "DataFrame concatenation with empty or all-NA entries is deprecated. In a future version, this will no longer \n",
       "exclude empty or all-NA columns when determining the result dtypes. To retain the old behavior, exclude the \n",
       "relevant entries before the concat operation.\n",
       "  results = pd.concat([results, normalized_data]) #.dropna(axis=1, how=\"all\")])\n",
       "</pre>\n"
      ],
      "text/plain": [
       "/var/folders/7t/k8q3439j6z3c683j7w00wtm80000gn/T/ipykernel_58430/330735155.py:26: FutureWarning: The behavior of \n",
       "DataFrame concatenation with empty or all-NA entries is deprecated. In a future version, this will no longer \n",
       "exclude empty or all-NA columns when determining the result dtypes. To retain the old behavior, exclude the \n",
       "relevant entries before the concat operation.\n",
       "  results = pd.concat([results, normalized_data]) #.dropna(axis=1, how=\"all\")])\n"
      ]
     },
     "metadata": {},
     "output_type": "display_data"
    },
    {
     "data": {
      "text/html": [
       "<pre style=\"white-space:pre;overflow-x:auto;line-height:normal;font-family:Menlo,'DejaVu Sans Mono',consolas,'Courier New',monospace\">/var/folders/7t/k8q3439j6z3c683j7w00wtm80000gn/T/ipykernel_58430/330735155.py:26: FutureWarning: The behavior of \n",
       "DataFrame concatenation with empty or all-NA entries is deprecated. In a future version, this will no longer \n",
       "exclude empty or all-NA columns when determining the result dtypes. To retain the old behavior, exclude the \n",
       "relevant entries before the concat operation.\n",
       "  results = pd.concat([results, normalized_data]) #.dropna(axis=1, how=\"all\")])\n",
       "</pre>\n"
      ],
      "text/plain": [
       "/var/folders/7t/k8q3439j6z3c683j7w00wtm80000gn/T/ipykernel_58430/330735155.py:26: FutureWarning: The behavior of \n",
       "DataFrame concatenation with empty or all-NA entries is deprecated. In a future version, this will no longer \n",
       "exclude empty or all-NA columns when determining the result dtypes. To retain the old behavior, exclude the \n",
       "relevant entries before the concat operation.\n",
       "  results = pd.concat([results, normalized_data]) #.dropna(axis=1, how=\"all\")])\n"
      ]
     },
     "metadata": {},
     "output_type": "display_data"
    },
    {
     "data": {
      "text/html": [
       "<pre style=\"white-space:pre;overflow-x:auto;line-height:normal;font-family:Menlo,'DejaVu Sans Mono',consolas,'Courier New',monospace\">/var/folders/7t/k8q3439j6z3c683j7w00wtm80000gn/T/ipykernel_58430/330735155.py:26: FutureWarning: The behavior of \n",
       "DataFrame concatenation with empty or all-NA entries is deprecated. In a future version, this will no longer \n",
       "exclude empty or all-NA columns when determining the result dtypes. To retain the old behavior, exclude the \n",
       "relevant entries before the concat operation.\n",
       "  results = pd.concat([results, normalized_data]) #.dropna(axis=1, how=\"all\")])\n",
       "</pre>\n"
      ],
      "text/plain": [
       "/var/folders/7t/k8q3439j6z3c683j7w00wtm80000gn/T/ipykernel_58430/330735155.py:26: FutureWarning: The behavior of \n",
       "DataFrame concatenation with empty or all-NA entries is deprecated. In a future version, this will no longer \n",
       "exclude empty or all-NA columns when determining the result dtypes. To retain the old behavior, exclude the \n",
       "relevant entries before the concat operation.\n",
       "  results = pd.concat([results, normalized_data]) #.dropna(axis=1, how=\"all\")])\n"
      ]
     },
     "metadata": {},
     "output_type": "display_data"
    },
    {
     "data": {
      "text/html": [
       "<pre style=\"white-space:pre;overflow-x:auto;line-height:normal;font-family:Menlo,'DejaVu Sans Mono',consolas,'Courier New',monospace\">/var/folders/7t/k8q3439j6z3c683j7w00wtm80000gn/T/ipykernel_58430/330735155.py:26: FutureWarning: The behavior of \n",
       "DataFrame concatenation with empty or all-NA entries is deprecated. In a future version, this will no longer \n",
       "exclude empty or all-NA columns when determining the result dtypes. To retain the old behavior, exclude the \n",
       "relevant entries before the concat operation.\n",
       "  results = pd.concat([results, normalized_data]) #.dropna(axis=1, how=\"all\")])\n",
       "</pre>\n"
      ],
      "text/plain": [
       "/var/folders/7t/k8q3439j6z3c683j7w00wtm80000gn/T/ipykernel_58430/330735155.py:26: FutureWarning: The behavior of \n",
       "DataFrame concatenation with empty or all-NA entries is deprecated. In a future version, this will no longer \n",
       "exclude empty or all-NA columns when determining the result dtypes. To retain the old behavior, exclude the \n",
       "relevant entries before the concat operation.\n",
       "  results = pd.concat([results, normalized_data]) #.dropna(axis=1, how=\"all\")])\n"
      ]
     },
     "metadata": {},
     "output_type": "display_data"
    },
    {
     "data": {
      "text/html": [
       "<pre style=\"white-space:pre;overflow-x:auto;line-height:normal;font-family:Menlo,'DejaVu Sans Mono',consolas,'Courier New',monospace\">/var/folders/7t/k8q3439j6z3c683j7w00wtm80000gn/T/ipykernel_58430/330735155.py:26: FutureWarning: The behavior of \n",
       "DataFrame concatenation with empty or all-NA entries is deprecated. In a future version, this will no longer \n",
       "exclude empty or all-NA columns when determining the result dtypes. To retain the old behavior, exclude the \n",
       "relevant entries before the concat operation.\n",
       "  results = pd.concat([results, normalized_data]) #.dropna(axis=1, how=\"all\")])\n",
       "</pre>\n"
      ],
      "text/plain": [
       "/var/folders/7t/k8q3439j6z3c683j7w00wtm80000gn/T/ipykernel_58430/330735155.py:26: FutureWarning: The behavior of \n",
       "DataFrame concatenation with empty or all-NA entries is deprecated. In a future version, this will no longer \n",
       "exclude empty or all-NA columns when determining the result dtypes. To retain the old behavior, exclude the \n",
       "relevant entries before the concat operation.\n",
       "  results = pd.concat([results, normalized_data]) #.dropna(axis=1, how=\"all\")])\n"
      ]
     },
     "metadata": {},
     "output_type": "display_data"
    },
    {
     "data": {
      "text/html": [
       "<pre style=\"white-space:pre;overflow-x:auto;line-height:normal;font-family:Menlo,'DejaVu Sans Mono',consolas,'Courier New',monospace\">/var/folders/7t/k8q3439j6z3c683j7w00wtm80000gn/T/ipykernel_58430/330735155.py:26: FutureWarning: The behavior of \n",
       "DataFrame concatenation with empty or all-NA entries is deprecated. In a future version, this will no longer \n",
       "exclude empty or all-NA columns when determining the result dtypes. To retain the old behavior, exclude the \n",
       "relevant entries before the concat operation.\n",
       "  results = pd.concat([results, normalized_data]) #.dropna(axis=1, how=\"all\")])\n",
       "</pre>\n"
      ],
      "text/plain": [
       "/var/folders/7t/k8q3439j6z3c683j7w00wtm80000gn/T/ipykernel_58430/330735155.py:26: FutureWarning: The behavior of \n",
       "DataFrame concatenation with empty or all-NA entries is deprecated. In a future version, this will no longer \n",
       "exclude empty or all-NA columns when determining the result dtypes. To retain the old behavior, exclude the \n",
       "relevant entries before the concat operation.\n",
       "  results = pd.concat([results, normalized_data]) #.dropna(axis=1, how=\"all\")])\n"
      ]
     },
     "metadata": {},
     "output_type": "display_data"
    },
    {
     "data": {
      "text/html": [
       "<pre style=\"white-space:pre;overflow-x:auto;line-height:normal;font-family:Menlo,'DejaVu Sans Mono',consolas,'Courier New',monospace\">/var/folders/7t/k8q3439j6z3c683j7w00wtm80000gn/T/ipykernel_58430/330735155.py:26: FutureWarning: The behavior of \n",
       "DataFrame concatenation with empty or all-NA entries is deprecated. In a future version, this will no longer \n",
       "exclude empty or all-NA columns when determining the result dtypes. To retain the old behavior, exclude the \n",
       "relevant entries before the concat operation.\n",
       "  results = pd.concat([results, normalized_data]) #.dropna(axis=1, how=\"all\")])\n",
       "</pre>\n"
      ],
      "text/plain": [
       "/var/folders/7t/k8q3439j6z3c683j7w00wtm80000gn/T/ipykernel_58430/330735155.py:26: FutureWarning: The behavior of \n",
       "DataFrame concatenation with empty or all-NA entries is deprecated. In a future version, this will no longer \n",
       "exclude empty or all-NA columns when determining the result dtypes. To retain the old behavior, exclude the \n",
       "relevant entries before the concat operation.\n",
       "  results = pd.concat([results, normalized_data]) #.dropna(axis=1, how=\"all\")])\n"
      ]
     },
     "metadata": {},
     "output_type": "display_data"
    },
    {
     "data": {
      "text/html": [
       "<pre style=\"white-space:pre;overflow-x:auto;line-height:normal;font-family:Menlo,'DejaVu Sans Mono',consolas,'Courier New',monospace\">/var/folders/7t/k8q3439j6z3c683j7w00wtm80000gn/T/ipykernel_58430/330735155.py:26: FutureWarning: The behavior of \n",
       "DataFrame concatenation with empty or all-NA entries is deprecated. In a future version, this will no longer \n",
       "exclude empty or all-NA columns when determining the result dtypes. To retain the old behavior, exclude the \n",
       "relevant entries before the concat operation.\n",
       "  results = pd.concat([results, normalized_data]) #.dropna(axis=1, how=\"all\")])\n",
       "</pre>\n"
      ],
      "text/plain": [
       "/var/folders/7t/k8q3439j6z3c683j7w00wtm80000gn/T/ipykernel_58430/330735155.py:26: FutureWarning: The behavior of \n",
       "DataFrame concatenation with empty or all-NA entries is deprecated. In a future version, this will no longer \n",
       "exclude empty or all-NA columns when determining the result dtypes. To retain the old behavior, exclude the \n",
       "relevant entries before the concat operation.\n",
       "  results = pd.concat([results, normalized_data]) #.dropna(axis=1, how=\"all\")])\n"
      ]
     },
     "metadata": {},
     "output_type": "display_data"
    },
    {
     "data": {
      "text/html": [
       "<pre style=\"white-space:pre;overflow-x:auto;line-height:normal;font-family:Menlo,'DejaVu Sans Mono',consolas,'Courier New',monospace\">/var/folders/7t/k8q3439j6z3c683j7w00wtm80000gn/T/ipykernel_58430/330735155.py:26: FutureWarning: The behavior of \n",
       "DataFrame concatenation with empty or all-NA entries is deprecated. In a future version, this will no longer \n",
       "exclude empty or all-NA columns when determining the result dtypes. To retain the old behavior, exclude the \n",
       "relevant entries before the concat operation.\n",
       "  results = pd.concat([results, normalized_data]) #.dropna(axis=1, how=\"all\")])\n",
       "</pre>\n"
      ],
      "text/plain": [
       "/var/folders/7t/k8q3439j6z3c683j7w00wtm80000gn/T/ipykernel_58430/330735155.py:26: FutureWarning: The behavior of \n",
       "DataFrame concatenation with empty or all-NA entries is deprecated. In a future version, this will no longer \n",
       "exclude empty or all-NA columns when determining the result dtypes. To retain the old behavior, exclude the \n",
       "relevant entries before the concat operation.\n",
       "  results = pd.concat([results, normalized_data]) #.dropna(axis=1, how=\"all\")])\n"
      ]
     },
     "metadata": {},
     "output_type": "display_data"
    },
    {
     "data": {
      "text/html": [
       "<pre style=\"white-space:pre;overflow-x:auto;line-height:normal;font-family:Menlo,'DejaVu Sans Mono',consolas,'Courier New',monospace\">/var/folders/7t/k8q3439j6z3c683j7w00wtm80000gn/T/ipykernel_58430/330735155.py:26: FutureWarning: The behavior of \n",
       "DataFrame concatenation with empty or all-NA entries is deprecated. In a future version, this will no longer \n",
       "exclude empty or all-NA columns when determining the result dtypes. To retain the old behavior, exclude the \n",
       "relevant entries before the concat operation.\n",
       "  results = pd.concat([results, normalized_data]) #.dropna(axis=1, how=\"all\")])\n",
       "</pre>\n"
      ],
      "text/plain": [
       "/var/folders/7t/k8q3439j6z3c683j7w00wtm80000gn/T/ipykernel_58430/330735155.py:26: FutureWarning: The behavior of \n",
       "DataFrame concatenation with empty or all-NA entries is deprecated. In a future version, this will no longer \n",
       "exclude empty or all-NA columns when determining the result dtypes. To retain the old behavior, exclude the \n",
       "relevant entries before the concat operation.\n",
       "  results = pd.concat([results, normalized_data]) #.dropna(axis=1, how=\"all\")])\n"
      ]
     },
     "metadata": {},
     "output_type": "display_data"
    },
    {
     "data": {
      "text/html": [
       "<pre style=\"white-space:pre;overflow-x:auto;line-height:normal;font-family:Menlo,'DejaVu Sans Mono',consolas,'Courier New',monospace\">/var/folders/7t/k8q3439j6z3c683j7w00wtm80000gn/T/ipykernel_58430/330735155.py:26: FutureWarning: The behavior of \n",
       "DataFrame concatenation with empty or all-NA entries is deprecated. In a future version, this will no longer \n",
       "exclude empty or all-NA columns when determining the result dtypes. To retain the old behavior, exclude the \n",
       "relevant entries before the concat operation.\n",
       "  results = pd.concat([results, normalized_data]) #.dropna(axis=1, how=\"all\")])\n",
       "</pre>\n"
      ],
      "text/plain": [
       "/var/folders/7t/k8q3439j6z3c683j7w00wtm80000gn/T/ipykernel_58430/330735155.py:26: FutureWarning: The behavior of \n",
       "DataFrame concatenation with empty or all-NA entries is deprecated. In a future version, this will no longer \n",
       "exclude empty or all-NA columns when determining the result dtypes. To retain the old behavior, exclude the \n",
       "relevant entries before the concat operation.\n",
       "  results = pd.concat([results, normalized_data]) #.dropna(axis=1, how=\"all\")])\n"
      ]
     },
     "metadata": {},
     "output_type": "display_data"
    },
    {
     "data": {
      "text/html": [
       "<pre style=\"white-space:pre;overflow-x:auto;line-height:normal;font-family:Menlo,'DejaVu Sans Mono',consolas,'Courier New',monospace\">/var/folders/7t/k8q3439j6z3c683j7w00wtm80000gn/T/ipykernel_58430/330735155.py:26: FutureWarning: The behavior of \n",
       "DataFrame concatenation with empty or all-NA entries is deprecated. In a future version, this will no longer \n",
       "exclude empty or all-NA columns when determining the result dtypes. To retain the old behavior, exclude the \n",
       "relevant entries before the concat operation.\n",
       "  results = pd.concat([results, normalized_data]) #.dropna(axis=1, how=\"all\")])\n",
       "</pre>\n"
      ],
      "text/plain": [
       "/var/folders/7t/k8q3439j6z3c683j7w00wtm80000gn/T/ipykernel_58430/330735155.py:26: FutureWarning: The behavior of \n",
       "DataFrame concatenation with empty or all-NA entries is deprecated. In a future version, this will no longer \n",
       "exclude empty or all-NA columns when determining the result dtypes. To retain the old behavior, exclude the \n",
       "relevant entries before the concat operation.\n",
       "  results = pd.concat([results, normalized_data]) #.dropna(axis=1, how=\"all\")])\n"
      ]
     },
     "metadata": {},
     "output_type": "display_data"
    },
    {
     "data": {
      "text/html": [
       "<pre style=\"white-space:pre;overflow-x:auto;line-height:normal;font-family:Menlo,'DejaVu Sans Mono',consolas,'Courier New',monospace\">/var/folders/7t/k8q3439j6z3c683j7w00wtm80000gn/T/ipykernel_58430/330735155.py:26: FutureWarning: The behavior of \n",
       "DataFrame concatenation with empty or all-NA entries is deprecated. In a future version, this will no longer \n",
       "exclude empty or all-NA columns when determining the result dtypes. To retain the old behavior, exclude the \n",
       "relevant entries before the concat operation.\n",
       "  results = pd.concat([results, normalized_data]) #.dropna(axis=1, how=\"all\")])\n",
       "</pre>\n"
      ],
      "text/plain": [
       "/var/folders/7t/k8q3439j6z3c683j7w00wtm80000gn/T/ipykernel_58430/330735155.py:26: FutureWarning: The behavior of \n",
       "DataFrame concatenation with empty or all-NA entries is deprecated. In a future version, this will no longer \n",
       "exclude empty or all-NA columns when determining the result dtypes. To retain the old behavior, exclude the \n",
       "relevant entries before the concat operation.\n",
       "  results = pd.concat([results, normalized_data]) #.dropna(axis=1, how=\"all\")])\n"
      ]
     },
     "metadata": {},
     "output_type": "display_data"
    },
    {
     "data": {
      "text/html": [
       "<pre style=\"white-space:pre;overflow-x:auto;line-height:normal;font-family:Menlo,'DejaVu Sans Mono',consolas,'Courier New',monospace\">/var/folders/7t/k8q3439j6z3c683j7w00wtm80000gn/T/ipykernel_58430/330735155.py:26: FutureWarning: The behavior of \n",
       "DataFrame concatenation with empty or all-NA entries is deprecated. In a future version, this will no longer \n",
       "exclude empty or all-NA columns when determining the result dtypes. To retain the old behavior, exclude the \n",
       "relevant entries before the concat operation.\n",
       "  results = pd.concat([results, normalized_data]) #.dropna(axis=1, how=\"all\")])\n",
       "</pre>\n"
      ],
      "text/plain": [
       "/var/folders/7t/k8q3439j6z3c683j7w00wtm80000gn/T/ipykernel_58430/330735155.py:26: FutureWarning: The behavior of \n",
       "DataFrame concatenation with empty or all-NA entries is deprecated. In a future version, this will no longer \n",
       "exclude empty or all-NA columns when determining the result dtypes. To retain the old behavior, exclude the \n",
       "relevant entries before the concat operation.\n",
       "  results = pd.concat([results, normalized_data]) #.dropna(axis=1, how=\"all\")])\n"
      ]
     },
     "metadata": {},
     "output_type": "display_data"
    },
    {
     "data": {
      "text/html": [
       "<pre style=\"white-space:pre;overflow-x:auto;line-height:normal;font-family:Menlo,'DejaVu Sans Mono',consolas,'Courier New',monospace\">/var/folders/7t/k8q3439j6z3c683j7w00wtm80000gn/T/ipykernel_58430/330735155.py:26: FutureWarning: The behavior of \n",
       "DataFrame concatenation with empty or all-NA entries is deprecated. In a future version, this will no longer \n",
       "exclude empty or all-NA columns when determining the result dtypes. To retain the old behavior, exclude the \n",
       "relevant entries before the concat operation.\n",
       "  results = pd.concat([results, normalized_data]) #.dropna(axis=1, how=\"all\")])\n",
       "</pre>\n"
      ],
      "text/plain": [
       "/var/folders/7t/k8q3439j6z3c683j7w00wtm80000gn/T/ipykernel_58430/330735155.py:26: FutureWarning: The behavior of \n",
       "DataFrame concatenation with empty or all-NA entries is deprecated. In a future version, this will no longer \n",
       "exclude empty or all-NA columns when determining the result dtypes. To retain the old behavior, exclude the \n",
       "relevant entries before the concat operation.\n",
       "  results = pd.concat([results, normalized_data]) #.dropna(axis=1, how=\"all\")])\n"
      ]
     },
     "metadata": {},
     "output_type": "display_data"
    },
    {
     "data": {
      "text/html": [
       "<pre style=\"white-space:pre;overflow-x:auto;line-height:normal;font-family:Menlo,'DejaVu Sans Mono',consolas,'Courier New',monospace\">/var/folders/7t/k8q3439j6z3c683j7w00wtm80000gn/T/ipykernel_58430/330735155.py:26: FutureWarning: The behavior of \n",
       "DataFrame concatenation with empty or all-NA entries is deprecated. In a future version, this will no longer \n",
       "exclude empty or all-NA columns when determining the result dtypes. To retain the old behavior, exclude the \n",
       "relevant entries before the concat operation.\n",
       "  results = pd.concat([results, normalized_data]) #.dropna(axis=1, how=\"all\")])\n",
       "</pre>\n"
      ],
      "text/plain": [
       "/var/folders/7t/k8q3439j6z3c683j7w00wtm80000gn/T/ipykernel_58430/330735155.py:26: FutureWarning: The behavior of \n",
       "DataFrame concatenation with empty or all-NA entries is deprecated. In a future version, this will no longer \n",
       "exclude empty or all-NA columns when determining the result dtypes. To retain the old behavior, exclude the \n",
       "relevant entries before the concat operation.\n",
       "  results = pd.concat([results, normalized_data]) #.dropna(axis=1, how=\"all\")])\n"
      ]
     },
     "metadata": {},
     "output_type": "display_data"
    },
    {
     "data": {
      "text/html": [
       "<pre style=\"white-space:pre;overflow-x:auto;line-height:normal;font-family:Menlo,'DejaVu Sans Mono',consolas,'Courier New',monospace\">/var/folders/7t/k8q3439j6z3c683j7w00wtm80000gn/T/ipykernel_58430/330735155.py:26: FutureWarning: The behavior of \n",
       "DataFrame concatenation with empty or all-NA entries is deprecated. In a future version, this will no longer \n",
       "exclude empty or all-NA columns when determining the result dtypes. To retain the old behavior, exclude the \n",
       "relevant entries before the concat operation.\n",
       "  results = pd.concat([results, normalized_data]) #.dropna(axis=1, how=\"all\")])\n",
       "</pre>\n"
      ],
      "text/plain": [
       "/var/folders/7t/k8q3439j6z3c683j7w00wtm80000gn/T/ipykernel_58430/330735155.py:26: FutureWarning: The behavior of \n",
       "DataFrame concatenation with empty or all-NA entries is deprecated. In a future version, this will no longer \n",
       "exclude empty or all-NA columns when determining the result dtypes. To retain the old behavior, exclude the \n",
       "relevant entries before the concat operation.\n",
       "  results = pd.concat([results, normalized_data]) #.dropna(axis=1, how=\"all\")])\n"
      ]
     },
     "metadata": {},
     "output_type": "display_data"
    },
    {
     "data": {
      "text/html": [
       "<pre style=\"white-space:pre;overflow-x:auto;line-height:normal;font-family:Menlo,'DejaVu Sans Mono',consolas,'Courier New',monospace\">/var/folders/7t/k8q3439j6z3c683j7w00wtm80000gn/T/ipykernel_58430/330735155.py:26: FutureWarning: The behavior of \n",
       "DataFrame concatenation with empty or all-NA entries is deprecated. In a future version, this will no longer \n",
       "exclude empty or all-NA columns when determining the result dtypes. To retain the old behavior, exclude the \n",
       "relevant entries before the concat operation.\n",
       "  results = pd.concat([results, normalized_data]) #.dropna(axis=1, how=\"all\")])\n",
       "</pre>\n"
      ],
      "text/plain": [
       "/var/folders/7t/k8q3439j6z3c683j7w00wtm80000gn/T/ipykernel_58430/330735155.py:26: FutureWarning: The behavior of \n",
       "DataFrame concatenation with empty or all-NA entries is deprecated. In a future version, this will no longer \n",
       "exclude empty or all-NA columns when determining the result dtypes. To retain the old behavior, exclude the \n",
       "relevant entries before the concat operation.\n",
       "  results = pd.concat([results, normalized_data]) #.dropna(axis=1, how=\"all\")])\n"
      ]
     },
     "metadata": {},
     "output_type": "display_data"
    },
    {
     "data": {
      "text/html": [
       "<pre style=\"white-space:pre;overflow-x:auto;line-height:normal;font-family:Menlo,'DejaVu Sans Mono',consolas,'Courier New',monospace\">/var/folders/7t/k8q3439j6z3c683j7w00wtm80000gn/T/ipykernel_58430/330735155.py:26: FutureWarning: The behavior of \n",
       "DataFrame concatenation with empty or all-NA entries is deprecated. In a future version, this will no longer \n",
       "exclude empty or all-NA columns when determining the result dtypes. To retain the old behavior, exclude the \n",
       "relevant entries before the concat operation.\n",
       "  results = pd.concat([results, normalized_data]) #.dropna(axis=1, how=\"all\")])\n",
       "</pre>\n"
      ],
      "text/plain": [
       "/var/folders/7t/k8q3439j6z3c683j7w00wtm80000gn/T/ipykernel_58430/330735155.py:26: FutureWarning: The behavior of \n",
       "DataFrame concatenation with empty or all-NA entries is deprecated. In a future version, this will no longer \n",
       "exclude empty or all-NA columns when determining the result dtypes. To retain the old behavior, exclude the \n",
       "relevant entries before the concat operation.\n",
       "  results = pd.concat([results, normalized_data]) #.dropna(axis=1, how=\"all\")])\n"
      ]
     },
     "metadata": {},
     "output_type": "display_data"
    },
    {
     "data": {
      "text/html": [
       "<pre style=\"white-space:pre;overflow-x:auto;line-height:normal;font-family:Menlo,'DejaVu Sans Mono',consolas,'Courier New',monospace\">/var/folders/7t/k8q3439j6z3c683j7w00wtm80000gn/T/ipykernel_58430/330735155.py:26: FutureWarning: The behavior of \n",
       "DataFrame concatenation with empty or all-NA entries is deprecated. In a future version, this will no longer \n",
       "exclude empty or all-NA columns when determining the result dtypes. To retain the old behavior, exclude the \n",
       "relevant entries before the concat operation.\n",
       "  results = pd.concat([results, normalized_data]) #.dropna(axis=1, how=\"all\")])\n",
       "</pre>\n"
      ],
      "text/plain": [
       "/var/folders/7t/k8q3439j6z3c683j7w00wtm80000gn/T/ipykernel_58430/330735155.py:26: FutureWarning: The behavior of \n",
       "DataFrame concatenation with empty or all-NA entries is deprecated. In a future version, this will no longer \n",
       "exclude empty or all-NA columns when determining the result dtypes. To retain the old behavior, exclude the \n",
       "relevant entries before the concat operation.\n",
       "  results = pd.concat([results, normalized_data]) #.dropna(axis=1, how=\"all\")])\n"
      ]
     },
     "metadata": {},
     "output_type": "display_data"
    },
    {
     "data": {
      "text/html": [
       "<pre style=\"white-space:pre;overflow-x:auto;line-height:normal;font-family:Menlo,'DejaVu Sans Mono',consolas,'Courier New',monospace\">/var/folders/7t/k8q3439j6z3c683j7w00wtm80000gn/T/ipykernel_58430/330735155.py:26: FutureWarning: The behavior of \n",
       "DataFrame concatenation with empty or all-NA entries is deprecated. In a future version, this will no longer \n",
       "exclude empty or all-NA columns when determining the result dtypes. To retain the old behavior, exclude the \n",
       "relevant entries before the concat operation.\n",
       "  results = pd.concat([results, normalized_data]) #.dropna(axis=1, how=\"all\")])\n",
       "</pre>\n"
      ],
      "text/plain": [
       "/var/folders/7t/k8q3439j6z3c683j7w00wtm80000gn/T/ipykernel_58430/330735155.py:26: FutureWarning: The behavior of \n",
       "DataFrame concatenation with empty or all-NA entries is deprecated. In a future version, this will no longer \n",
       "exclude empty or all-NA columns when determining the result dtypes. To retain the old behavior, exclude the \n",
       "relevant entries before the concat operation.\n",
       "  results = pd.concat([results, normalized_data]) #.dropna(axis=1, how=\"all\")])\n"
      ]
     },
     "metadata": {},
     "output_type": "display_data"
    },
    {
     "data": {
      "text/html": [
       "<pre style=\"white-space:pre;overflow-x:auto;line-height:normal;font-family:Menlo,'DejaVu Sans Mono',consolas,'Courier New',monospace\">/var/folders/7t/k8q3439j6z3c683j7w00wtm80000gn/T/ipykernel_58430/330735155.py:26: FutureWarning: The behavior of \n",
       "DataFrame concatenation with empty or all-NA entries is deprecated. In a future version, this will no longer \n",
       "exclude empty or all-NA columns when determining the result dtypes. To retain the old behavior, exclude the \n",
       "relevant entries before the concat operation.\n",
       "  results = pd.concat([results, normalized_data]) #.dropna(axis=1, how=\"all\")])\n",
       "</pre>\n"
      ],
      "text/plain": [
       "/var/folders/7t/k8q3439j6z3c683j7w00wtm80000gn/T/ipykernel_58430/330735155.py:26: FutureWarning: The behavior of \n",
       "DataFrame concatenation with empty or all-NA entries is deprecated. In a future version, this will no longer \n",
       "exclude empty or all-NA columns when determining the result dtypes. To retain the old behavior, exclude the \n",
       "relevant entries before the concat operation.\n",
       "  results = pd.concat([results, normalized_data]) #.dropna(axis=1, how=\"all\")])\n"
      ]
     },
     "metadata": {},
     "output_type": "display_data"
    },
    {
     "data": {
      "text/html": [
       "<pre style=\"white-space:pre;overflow-x:auto;line-height:normal;font-family:Menlo,'DejaVu Sans Mono',consolas,'Courier New',monospace\">/var/folders/7t/k8q3439j6z3c683j7w00wtm80000gn/T/ipykernel_58430/330735155.py:26: FutureWarning: The behavior of \n",
       "DataFrame concatenation with empty or all-NA entries is deprecated. In a future version, this will no longer \n",
       "exclude empty or all-NA columns when determining the result dtypes. To retain the old behavior, exclude the \n",
       "relevant entries before the concat operation.\n",
       "  results = pd.concat([results, normalized_data]) #.dropna(axis=1, how=\"all\")])\n",
       "</pre>\n"
      ],
      "text/plain": [
       "/var/folders/7t/k8q3439j6z3c683j7w00wtm80000gn/T/ipykernel_58430/330735155.py:26: FutureWarning: The behavior of \n",
       "DataFrame concatenation with empty or all-NA entries is deprecated. In a future version, this will no longer \n",
       "exclude empty or all-NA columns when determining the result dtypes. To retain the old behavior, exclude the \n",
       "relevant entries before the concat operation.\n",
       "  results = pd.concat([results, normalized_data]) #.dropna(axis=1, how=\"all\")])\n"
      ]
     },
     "metadata": {},
     "output_type": "display_data"
    },
    {
     "data": {
      "text/html": [
       "<pre style=\"white-space:pre;overflow-x:auto;line-height:normal;font-family:Menlo,'DejaVu Sans Mono',consolas,'Courier New',monospace\">/var/folders/7t/k8q3439j6z3c683j7w00wtm80000gn/T/ipykernel_58430/330735155.py:26: FutureWarning: The behavior of \n",
       "DataFrame concatenation with empty or all-NA entries is deprecated. In a future version, this will no longer \n",
       "exclude empty or all-NA columns when determining the result dtypes. To retain the old behavior, exclude the \n",
       "relevant entries before the concat operation.\n",
       "  results = pd.concat([results, normalized_data]) #.dropna(axis=1, how=\"all\")])\n",
       "</pre>\n"
      ],
      "text/plain": [
       "/var/folders/7t/k8q3439j6z3c683j7w00wtm80000gn/T/ipykernel_58430/330735155.py:26: FutureWarning: The behavior of \n",
       "DataFrame concatenation with empty or all-NA entries is deprecated. In a future version, this will no longer \n",
       "exclude empty or all-NA columns when determining the result dtypes. To retain the old behavior, exclude the \n",
       "relevant entries before the concat operation.\n",
       "  results = pd.concat([results, normalized_data]) #.dropna(axis=1, how=\"all\")])\n"
      ]
     },
     "metadata": {},
     "output_type": "display_data"
    },
    {
     "data": {
      "text/html": [
       "<pre style=\"white-space:pre;overflow-x:auto;line-height:normal;font-family:Menlo,'DejaVu Sans Mono',consolas,'Courier New',monospace\">/var/folders/7t/k8q3439j6z3c683j7w00wtm80000gn/T/ipykernel_58430/330735155.py:26: FutureWarning: The behavior of \n",
       "DataFrame concatenation with empty or all-NA entries is deprecated. In a future version, this will no longer \n",
       "exclude empty or all-NA columns when determining the result dtypes. To retain the old behavior, exclude the \n",
       "relevant entries before the concat operation.\n",
       "  results = pd.concat([results, normalized_data]) #.dropna(axis=1, how=\"all\")])\n",
       "</pre>\n"
      ],
      "text/plain": [
       "/var/folders/7t/k8q3439j6z3c683j7w00wtm80000gn/T/ipykernel_58430/330735155.py:26: FutureWarning: The behavior of \n",
       "DataFrame concatenation with empty or all-NA entries is deprecated. In a future version, this will no longer \n",
       "exclude empty or all-NA columns when determining the result dtypes. To retain the old behavior, exclude the \n",
       "relevant entries before the concat operation.\n",
       "  results = pd.concat([results, normalized_data]) #.dropna(axis=1, how=\"all\")])\n"
      ]
     },
     "metadata": {},
     "output_type": "display_data"
    },
    {
     "data": {
      "text/html": [
       "<pre style=\"white-space:pre;overflow-x:auto;line-height:normal;font-family:Menlo,'DejaVu Sans Mono',consolas,'Courier New',monospace\">/var/folders/7t/k8q3439j6z3c683j7w00wtm80000gn/T/ipykernel_58430/330735155.py:26: FutureWarning: The behavior of \n",
       "DataFrame concatenation with empty or all-NA entries is deprecated. In a future version, this will no longer \n",
       "exclude empty or all-NA columns when determining the result dtypes. To retain the old behavior, exclude the \n",
       "relevant entries before the concat operation.\n",
       "  results = pd.concat([results, normalized_data]) #.dropna(axis=1, how=\"all\")])\n",
       "</pre>\n"
      ],
      "text/plain": [
       "/var/folders/7t/k8q3439j6z3c683j7w00wtm80000gn/T/ipykernel_58430/330735155.py:26: FutureWarning: The behavior of \n",
       "DataFrame concatenation with empty or all-NA entries is deprecated. In a future version, this will no longer \n",
       "exclude empty or all-NA columns when determining the result dtypes. To retain the old behavior, exclude the \n",
       "relevant entries before the concat operation.\n",
       "  results = pd.concat([results, normalized_data]) #.dropna(axis=1, how=\"all\")])\n"
      ]
     },
     "metadata": {},
     "output_type": "display_data"
    },
    {
     "data": {
      "text/html": [
       "<pre style=\"white-space:pre;overflow-x:auto;line-height:normal;font-family:Menlo,'DejaVu Sans Mono',consolas,'Courier New',monospace\">/var/folders/7t/k8q3439j6z3c683j7w00wtm80000gn/T/ipykernel_58430/330735155.py:26: FutureWarning: The behavior of \n",
       "DataFrame concatenation with empty or all-NA entries is deprecated. In a future version, this will no longer \n",
       "exclude empty or all-NA columns when determining the result dtypes. To retain the old behavior, exclude the \n",
       "relevant entries before the concat operation.\n",
       "  results = pd.concat([results, normalized_data]) #.dropna(axis=1, how=\"all\")])\n",
       "</pre>\n"
      ],
      "text/plain": [
       "/var/folders/7t/k8q3439j6z3c683j7w00wtm80000gn/T/ipykernel_58430/330735155.py:26: FutureWarning: The behavior of \n",
       "DataFrame concatenation with empty or all-NA entries is deprecated. In a future version, this will no longer \n",
       "exclude empty or all-NA columns when determining the result dtypes. To retain the old behavior, exclude the \n",
       "relevant entries before the concat operation.\n",
       "  results = pd.concat([results, normalized_data]) #.dropna(axis=1, how=\"all\")])\n"
      ]
     },
     "metadata": {},
     "output_type": "display_data"
    },
    {
     "data": {
      "text/html": [
       "<pre style=\"white-space:pre;overflow-x:auto;line-height:normal;font-family:Menlo,'DejaVu Sans Mono',consolas,'Courier New',monospace\">/var/folders/7t/k8q3439j6z3c683j7w00wtm80000gn/T/ipykernel_58430/330735155.py:26: FutureWarning: The behavior of \n",
       "DataFrame concatenation with empty or all-NA entries is deprecated. In a future version, this will no longer \n",
       "exclude empty or all-NA columns when determining the result dtypes. To retain the old behavior, exclude the \n",
       "relevant entries before the concat operation.\n",
       "  results = pd.concat([results, normalized_data]) #.dropna(axis=1, how=\"all\")])\n",
       "</pre>\n"
      ],
      "text/plain": [
       "/var/folders/7t/k8q3439j6z3c683j7w00wtm80000gn/T/ipykernel_58430/330735155.py:26: FutureWarning: The behavior of \n",
       "DataFrame concatenation with empty or all-NA entries is deprecated. In a future version, this will no longer \n",
       "exclude empty or all-NA columns when determining the result dtypes. To retain the old behavior, exclude the \n",
       "relevant entries before the concat operation.\n",
       "  results = pd.concat([results, normalized_data]) #.dropna(axis=1, how=\"all\")])\n"
      ]
     },
     "metadata": {},
     "output_type": "display_data"
    },
    {
     "data": {
      "text/html": [
       "<pre style=\"white-space:pre;overflow-x:auto;line-height:normal;font-family:Menlo,'DejaVu Sans Mono',consolas,'Courier New',monospace\">/var/folders/7t/k8q3439j6z3c683j7w00wtm80000gn/T/ipykernel_58430/330735155.py:26: FutureWarning: The behavior of \n",
       "DataFrame concatenation with empty or all-NA entries is deprecated. In a future version, this will no longer \n",
       "exclude empty or all-NA columns when determining the result dtypes. To retain the old behavior, exclude the \n",
       "relevant entries before the concat operation.\n",
       "  results = pd.concat([results, normalized_data]) #.dropna(axis=1, how=\"all\")])\n",
       "</pre>\n"
      ],
      "text/plain": [
       "/var/folders/7t/k8q3439j6z3c683j7w00wtm80000gn/T/ipykernel_58430/330735155.py:26: FutureWarning: The behavior of \n",
       "DataFrame concatenation with empty or all-NA entries is deprecated. In a future version, this will no longer \n",
       "exclude empty or all-NA columns when determining the result dtypes. To retain the old behavior, exclude the \n",
       "relevant entries before the concat operation.\n",
       "  results = pd.concat([results, normalized_data]) #.dropna(axis=1, how=\"all\")])\n"
      ]
     },
     "metadata": {},
     "output_type": "display_data"
    },
    {
     "data": {
      "text/html": [
       "<pre style=\"white-space:pre;overflow-x:auto;line-height:normal;font-family:Menlo,'DejaVu Sans Mono',consolas,'Courier New',monospace\">/var/folders/7t/k8q3439j6z3c683j7w00wtm80000gn/T/ipykernel_58430/330735155.py:26: FutureWarning: The behavior of \n",
       "DataFrame concatenation with empty or all-NA entries is deprecated. In a future version, this will no longer \n",
       "exclude empty or all-NA columns when determining the result dtypes. To retain the old behavior, exclude the \n",
       "relevant entries before the concat operation.\n",
       "  results = pd.concat([results, normalized_data]) #.dropna(axis=1, how=\"all\")])\n",
       "</pre>\n"
      ],
      "text/plain": [
       "/var/folders/7t/k8q3439j6z3c683j7w00wtm80000gn/T/ipykernel_58430/330735155.py:26: FutureWarning: The behavior of \n",
       "DataFrame concatenation with empty or all-NA entries is deprecated. In a future version, this will no longer \n",
       "exclude empty or all-NA columns when determining the result dtypes. To retain the old behavior, exclude the \n",
       "relevant entries before the concat operation.\n",
       "  results = pd.concat([results, normalized_data]) #.dropna(axis=1, how=\"all\")])\n"
      ]
     },
     "metadata": {},
     "output_type": "display_data"
    },
    {
     "data": {
      "text/html": [
       "<pre style=\"white-space:pre;overflow-x:auto;line-height:normal;font-family:Menlo,'DejaVu Sans Mono',consolas,'Courier New',monospace\">/var/folders/7t/k8q3439j6z3c683j7w00wtm80000gn/T/ipykernel_58430/330735155.py:26: FutureWarning: The behavior of \n",
       "DataFrame concatenation with empty or all-NA entries is deprecated. In a future version, this will no longer \n",
       "exclude empty or all-NA columns when determining the result dtypes. To retain the old behavior, exclude the \n",
       "relevant entries before the concat operation.\n",
       "  results = pd.concat([results, normalized_data]) #.dropna(axis=1, how=\"all\")])\n",
       "</pre>\n"
      ],
      "text/plain": [
       "/var/folders/7t/k8q3439j6z3c683j7w00wtm80000gn/T/ipykernel_58430/330735155.py:26: FutureWarning: The behavior of \n",
       "DataFrame concatenation with empty or all-NA entries is deprecated. In a future version, this will no longer \n",
       "exclude empty or all-NA columns when determining the result dtypes. To retain the old behavior, exclude the \n",
       "relevant entries before the concat operation.\n",
       "  results = pd.concat([results, normalized_data]) #.dropna(axis=1, how=\"all\")])\n"
      ]
     },
     "metadata": {},
     "output_type": "display_data"
    },
    {
     "data": {
      "text/html": [
       "<pre style=\"white-space:pre;overflow-x:auto;line-height:normal;font-family:Menlo,'DejaVu Sans Mono',consolas,'Courier New',monospace\">/var/folders/7t/k8q3439j6z3c683j7w00wtm80000gn/T/ipykernel_58430/330735155.py:26: FutureWarning: The behavior of \n",
       "DataFrame concatenation with empty or all-NA entries is deprecated. In a future version, this will no longer \n",
       "exclude empty or all-NA columns when determining the result dtypes. To retain the old behavior, exclude the \n",
       "relevant entries before the concat operation.\n",
       "  results = pd.concat([results, normalized_data]) #.dropna(axis=1, how=\"all\")])\n",
       "</pre>\n"
      ],
      "text/plain": [
       "/var/folders/7t/k8q3439j6z3c683j7w00wtm80000gn/T/ipykernel_58430/330735155.py:26: FutureWarning: The behavior of \n",
       "DataFrame concatenation with empty or all-NA entries is deprecated. In a future version, this will no longer \n",
       "exclude empty or all-NA columns when determining the result dtypes. To retain the old behavior, exclude the \n",
       "relevant entries before the concat operation.\n",
       "  results = pd.concat([results, normalized_data]) #.dropna(axis=1, how=\"all\")])\n"
      ]
     },
     "metadata": {},
     "output_type": "display_data"
    },
    {
     "data": {
      "text/html": [
       "<pre style=\"white-space:pre;overflow-x:auto;line-height:normal;font-family:Menlo,'DejaVu Sans Mono',consolas,'Courier New',monospace\">/var/folders/7t/k8q3439j6z3c683j7w00wtm80000gn/T/ipykernel_58430/330735155.py:26: FutureWarning: The behavior of \n",
       "DataFrame concatenation with empty or all-NA entries is deprecated. In a future version, this will no longer \n",
       "exclude empty or all-NA columns when determining the result dtypes. To retain the old behavior, exclude the \n",
       "relevant entries before the concat operation.\n",
       "  results = pd.concat([results, normalized_data]) #.dropna(axis=1, how=\"all\")])\n",
       "</pre>\n"
      ],
      "text/plain": [
       "/var/folders/7t/k8q3439j6z3c683j7w00wtm80000gn/T/ipykernel_58430/330735155.py:26: FutureWarning: The behavior of \n",
       "DataFrame concatenation with empty or all-NA entries is deprecated. In a future version, this will no longer \n",
       "exclude empty or all-NA columns when determining the result dtypes. To retain the old behavior, exclude the \n",
       "relevant entries before the concat operation.\n",
       "  results = pd.concat([results, normalized_data]) #.dropna(axis=1, how=\"all\")])\n"
      ]
     },
     "metadata": {},
     "output_type": "display_data"
    },
    {
     "data": {
      "text/html": [
       "<pre style=\"white-space:pre;overflow-x:auto;line-height:normal;font-family:Menlo,'DejaVu Sans Mono',consolas,'Courier New',monospace\">/var/folders/7t/k8q3439j6z3c683j7w00wtm80000gn/T/ipykernel_58430/330735155.py:26: FutureWarning: The behavior of \n",
       "DataFrame concatenation with empty or all-NA entries is deprecated. In a future version, this will no longer \n",
       "exclude empty or all-NA columns when determining the result dtypes. To retain the old behavior, exclude the \n",
       "relevant entries before the concat operation.\n",
       "  results = pd.concat([results, normalized_data]) #.dropna(axis=1, how=\"all\")])\n",
       "</pre>\n"
      ],
      "text/plain": [
       "/var/folders/7t/k8q3439j6z3c683j7w00wtm80000gn/T/ipykernel_58430/330735155.py:26: FutureWarning: The behavior of \n",
       "DataFrame concatenation with empty or all-NA entries is deprecated. In a future version, this will no longer \n",
       "exclude empty or all-NA columns when determining the result dtypes. To retain the old behavior, exclude the \n",
       "relevant entries before the concat operation.\n",
       "  results = pd.concat([results, normalized_data]) #.dropna(axis=1, how=\"all\")])\n"
      ]
     },
     "metadata": {},
     "output_type": "display_data"
    },
    {
     "data": {
      "text/html": [
       "<pre style=\"white-space:pre;overflow-x:auto;line-height:normal;font-family:Menlo,'DejaVu Sans Mono',consolas,'Courier New',monospace\">/var/folders/7t/k8q3439j6z3c683j7w00wtm80000gn/T/ipykernel_58430/330735155.py:26: FutureWarning: The behavior of \n",
       "DataFrame concatenation with empty or all-NA entries is deprecated. In a future version, this will no longer \n",
       "exclude empty or all-NA columns when determining the result dtypes. To retain the old behavior, exclude the \n",
       "relevant entries before the concat operation.\n",
       "  results = pd.concat([results, normalized_data]) #.dropna(axis=1, how=\"all\")])\n",
       "</pre>\n"
      ],
      "text/plain": [
       "/var/folders/7t/k8q3439j6z3c683j7w00wtm80000gn/T/ipykernel_58430/330735155.py:26: FutureWarning: The behavior of \n",
       "DataFrame concatenation with empty or all-NA entries is deprecated. In a future version, this will no longer \n",
       "exclude empty or all-NA columns when determining the result dtypes. To retain the old behavior, exclude the \n",
       "relevant entries before the concat operation.\n",
       "  results = pd.concat([results, normalized_data]) #.dropna(axis=1, how=\"all\")])\n"
      ]
     },
     "metadata": {},
     "output_type": "display_data"
    },
    {
     "data": {
      "text/html": [
       "<pre style=\"white-space:pre;overflow-x:auto;line-height:normal;font-family:Menlo,'DejaVu Sans Mono',consolas,'Courier New',monospace\">/var/folders/7t/k8q3439j6z3c683j7w00wtm80000gn/T/ipykernel_58430/330735155.py:26: FutureWarning: The behavior of \n",
       "DataFrame concatenation with empty or all-NA entries is deprecated. In a future version, this will no longer \n",
       "exclude empty or all-NA columns when determining the result dtypes. To retain the old behavior, exclude the \n",
       "relevant entries before the concat operation.\n",
       "  results = pd.concat([results, normalized_data]) #.dropna(axis=1, how=\"all\")])\n",
       "</pre>\n"
      ],
      "text/plain": [
       "/var/folders/7t/k8q3439j6z3c683j7w00wtm80000gn/T/ipykernel_58430/330735155.py:26: FutureWarning: The behavior of \n",
       "DataFrame concatenation with empty or all-NA entries is deprecated. In a future version, this will no longer \n",
       "exclude empty or all-NA columns when determining the result dtypes. To retain the old behavior, exclude the \n",
       "relevant entries before the concat operation.\n",
       "  results = pd.concat([results, normalized_data]) #.dropna(axis=1, how=\"all\")])\n"
      ]
     },
     "metadata": {},
     "output_type": "display_data"
    },
    {
     "data": {
      "text/html": [
       "<pre style=\"white-space:pre;overflow-x:auto;line-height:normal;font-family:Menlo,'DejaVu Sans Mono',consolas,'Courier New',monospace\">/var/folders/7t/k8q3439j6z3c683j7w00wtm80000gn/T/ipykernel_58430/330735155.py:26: FutureWarning: The behavior of \n",
       "DataFrame concatenation with empty or all-NA entries is deprecated. In a future version, this will no longer \n",
       "exclude empty or all-NA columns when determining the result dtypes. To retain the old behavior, exclude the \n",
       "relevant entries before the concat operation.\n",
       "  results = pd.concat([results, normalized_data]) #.dropna(axis=1, how=\"all\")])\n",
       "</pre>\n"
      ],
      "text/plain": [
       "/var/folders/7t/k8q3439j6z3c683j7w00wtm80000gn/T/ipykernel_58430/330735155.py:26: FutureWarning: The behavior of \n",
       "DataFrame concatenation with empty or all-NA entries is deprecated. In a future version, this will no longer \n",
       "exclude empty or all-NA columns when determining the result dtypes. To retain the old behavior, exclude the \n",
       "relevant entries before the concat operation.\n",
       "  results = pd.concat([results, normalized_data]) #.dropna(axis=1, how=\"all\")])\n"
      ]
     },
     "metadata": {},
     "output_type": "display_data"
    },
    {
     "data": {
      "text/html": [
       "<pre style=\"white-space:pre;overflow-x:auto;line-height:normal;font-family:Menlo,'DejaVu Sans Mono',consolas,'Courier New',monospace\">/var/folders/7t/k8q3439j6z3c683j7w00wtm80000gn/T/ipykernel_58430/330735155.py:26: FutureWarning: The behavior of \n",
       "DataFrame concatenation with empty or all-NA entries is deprecated. In a future version, this will no longer \n",
       "exclude empty or all-NA columns when determining the result dtypes. To retain the old behavior, exclude the \n",
       "relevant entries before the concat operation.\n",
       "  results = pd.concat([results, normalized_data]) #.dropna(axis=1, how=\"all\")])\n",
       "</pre>\n"
      ],
      "text/plain": [
       "/var/folders/7t/k8q3439j6z3c683j7w00wtm80000gn/T/ipykernel_58430/330735155.py:26: FutureWarning: The behavior of \n",
       "DataFrame concatenation with empty or all-NA entries is deprecated. In a future version, this will no longer \n",
       "exclude empty or all-NA columns when determining the result dtypes. To retain the old behavior, exclude the \n",
       "relevant entries before the concat operation.\n",
       "  results = pd.concat([results, normalized_data]) #.dropna(axis=1, how=\"all\")])\n"
      ]
     },
     "metadata": {},
     "output_type": "display_data"
    },
    {
     "data": {
      "text/html": [
       "<pre style=\"white-space:pre;overflow-x:auto;line-height:normal;font-family:Menlo,'DejaVu Sans Mono',consolas,'Courier New',monospace\">/var/folders/7t/k8q3439j6z3c683j7w00wtm80000gn/T/ipykernel_58430/330735155.py:26: FutureWarning: The behavior of \n",
       "DataFrame concatenation with empty or all-NA entries is deprecated. In a future version, this will no longer \n",
       "exclude empty or all-NA columns when determining the result dtypes. To retain the old behavior, exclude the \n",
       "relevant entries before the concat operation.\n",
       "  results = pd.concat([results, normalized_data]) #.dropna(axis=1, how=\"all\")])\n",
       "</pre>\n"
      ],
      "text/plain": [
       "/var/folders/7t/k8q3439j6z3c683j7w00wtm80000gn/T/ipykernel_58430/330735155.py:26: FutureWarning: The behavior of \n",
       "DataFrame concatenation with empty or all-NA entries is deprecated. In a future version, this will no longer \n",
       "exclude empty or all-NA columns when determining the result dtypes. To retain the old behavior, exclude the \n",
       "relevant entries before the concat operation.\n",
       "  results = pd.concat([results, normalized_data]) #.dropna(axis=1, how=\"all\")])\n"
      ]
     },
     "metadata": {},
     "output_type": "display_data"
    },
    {
     "data": {
      "text/html": [
       "<pre style=\"white-space:pre;overflow-x:auto;line-height:normal;font-family:Menlo,'DejaVu Sans Mono',consolas,'Courier New',monospace\">/var/folders/7t/k8q3439j6z3c683j7w00wtm80000gn/T/ipykernel_58430/330735155.py:26: FutureWarning: The behavior of \n",
       "DataFrame concatenation with empty or all-NA entries is deprecated. In a future version, this will no longer \n",
       "exclude empty or all-NA columns when determining the result dtypes. To retain the old behavior, exclude the \n",
       "relevant entries before the concat operation.\n",
       "  results = pd.concat([results, normalized_data]) #.dropna(axis=1, how=\"all\")])\n",
       "</pre>\n"
      ],
      "text/plain": [
       "/var/folders/7t/k8q3439j6z3c683j7w00wtm80000gn/T/ipykernel_58430/330735155.py:26: FutureWarning: The behavior of \n",
       "DataFrame concatenation with empty or all-NA entries is deprecated. In a future version, this will no longer \n",
       "exclude empty or all-NA columns when determining the result dtypes. To retain the old behavior, exclude the \n",
       "relevant entries before the concat operation.\n",
       "  results = pd.concat([results, normalized_data]) #.dropna(axis=1, how=\"all\")])\n"
      ]
     },
     "metadata": {},
     "output_type": "display_data"
    },
    {
     "data": {
      "text/html": [
       "<pre style=\"white-space:pre;overflow-x:auto;line-height:normal;font-family:Menlo,'DejaVu Sans Mono',consolas,'Courier New',monospace\">/var/folders/7t/k8q3439j6z3c683j7w00wtm80000gn/T/ipykernel_58430/330735155.py:26: FutureWarning: The behavior of \n",
       "DataFrame concatenation with empty or all-NA entries is deprecated. In a future version, this will no longer \n",
       "exclude empty or all-NA columns when determining the result dtypes. To retain the old behavior, exclude the \n",
       "relevant entries before the concat operation.\n",
       "  results = pd.concat([results, normalized_data]) #.dropna(axis=1, how=\"all\")])\n",
       "</pre>\n"
      ],
      "text/plain": [
       "/var/folders/7t/k8q3439j6z3c683j7w00wtm80000gn/T/ipykernel_58430/330735155.py:26: FutureWarning: The behavior of \n",
       "DataFrame concatenation with empty or all-NA entries is deprecated. In a future version, this will no longer \n",
       "exclude empty or all-NA columns when determining the result dtypes. To retain the old behavior, exclude the \n",
       "relevant entries before the concat operation.\n",
       "  results = pd.concat([results, normalized_data]) #.dropna(axis=1, how=\"all\")])\n"
      ]
     },
     "metadata": {},
     "output_type": "display_data"
    },
    {
     "data": {
      "text/html": [
       "<pre style=\"white-space:pre;overflow-x:auto;line-height:normal;font-family:Menlo,'DejaVu Sans Mono',consolas,'Courier New',monospace\">/var/folders/7t/k8q3439j6z3c683j7w00wtm80000gn/T/ipykernel_58430/330735155.py:26: FutureWarning: The behavior of \n",
       "DataFrame concatenation with empty or all-NA entries is deprecated. In a future version, this will no longer \n",
       "exclude empty or all-NA columns when determining the result dtypes. To retain the old behavior, exclude the \n",
       "relevant entries before the concat operation.\n",
       "  results = pd.concat([results, normalized_data]) #.dropna(axis=1, how=\"all\")])\n",
       "</pre>\n"
      ],
      "text/plain": [
       "/var/folders/7t/k8q3439j6z3c683j7w00wtm80000gn/T/ipykernel_58430/330735155.py:26: FutureWarning: The behavior of \n",
       "DataFrame concatenation with empty or all-NA entries is deprecated. In a future version, this will no longer \n",
       "exclude empty or all-NA columns when determining the result dtypes. To retain the old behavior, exclude the \n",
       "relevant entries before the concat operation.\n",
       "  results = pd.concat([results, normalized_data]) #.dropna(axis=1, how=\"all\")])\n"
      ]
     },
     "metadata": {},
     "output_type": "display_data"
    },
    {
     "data": {
      "text/html": [
       "<pre style=\"white-space:pre;overflow-x:auto;line-height:normal;font-family:Menlo,'DejaVu Sans Mono',consolas,'Courier New',monospace\">/var/folders/7t/k8q3439j6z3c683j7w00wtm80000gn/T/ipykernel_58430/330735155.py:26: FutureWarning: The behavior of \n",
       "DataFrame concatenation with empty or all-NA entries is deprecated. In a future version, this will no longer \n",
       "exclude empty or all-NA columns when determining the result dtypes. To retain the old behavior, exclude the \n",
       "relevant entries before the concat operation.\n",
       "  results = pd.concat([results, normalized_data]) #.dropna(axis=1, how=\"all\")])\n",
       "</pre>\n"
      ],
      "text/plain": [
       "/var/folders/7t/k8q3439j6z3c683j7w00wtm80000gn/T/ipykernel_58430/330735155.py:26: FutureWarning: The behavior of \n",
       "DataFrame concatenation with empty or all-NA entries is deprecated. In a future version, this will no longer \n",
       "exclude empty or all-NA columns when determining the result dtypes. To retain the old behavior, exclude the \n",
       "relevant entries before the concat operation.\n",
       "  results = pd.concat([results, normalized_data]) #.dropna(axis=1, how=\"all\")])\n"
      ]
     },
     "metadata": {},
     "output_type": "display_data"
    },
    {
     "data": {
      "text/html": [
       "<pre style=\"white-space:pre;overflow-x:auto;line-height:normal;font-family:Menlo,'DejaVu Sans Mono',consolas,'Courier New',monospace\">/var/folders/7t/k8q3439j6z3c683j7w00wtm80000gn/T/ipykernel_58430/330735155.py:26: FutureWarning: The behavior of \n",
       "DataFrame concatenation with empty or all-NA entries is deprecated. In a future version, this will no longer \n",
       "exclude empty or all-NA columns when determining the result dtypes. To retain the old behavior, exclude the \n",
       "relevant entries before the concat operation.\n",
       "  results = pd.concat([results, normalized_data]) #.dropna(axis=1, how=\"all\")])\n",
       "</pre>\n"
      ],
      "text/plain": [
       "/var/folders/7t/k8q3439j6z3c683j7w00wtm80000gn/T/ipykernel_58430/330735155.py:26: FutureWarning: The behavior of \n",
       "DataFrame concatenation with empty or all-NA entries is deprecated. In a future version, this will no longer \n",
       "exclude empty or all-NA columns when determining the result dtypes. To retain the old behavior, exclude the \n",
       "relevant entries before the concat operation.\n",
       "  results = pd.concat([results, normalized_data]) #.dropna(axis=1, how=\"all\")])\n"
      ]
     },
     "metadata": {},
     "output_type": "display_data"
    },
    {
     "data": {
      "text/html": [
       "<pre style=\"white-space:pre;overflow-x:auto;line-height:normal;font-family:Menlo,'DejaVu Sans Mono',consolas,'Courier New',monospace\">/var/folders/7t/k8q3439j6z3c683j7w00wtm80000gn/T/ipykernel_58430/330735155.py:26: FutureWarning: The behavior of \n",
       "DataFrame concatenation with empty or all-NA entries is deprecated. In a future version, this will no longer \n",
       "exclude empty or all-NA columns when determining the result dtypes. To retain the old behavior, exclude the \n",
       "relevant entries before the concat operation.\n",
       "  results = pd.concat([results, normalized_data]) #.dropna(axis=1, how=\"all\")])\n",
       "</pre>\n"
      ],
      "text/plain": [
       "/var/folders/7t/k8q3439j6z3c683j7w00wtm80000gn/T/ipykernel_58430/330735155.py:26: FutureWarning: The behavior of \n",
       "DataFrame concatenation with empty or all-NA entries is deprecated. In a future version, this will no longer \n",
       "exclude empty or all-NA columns when determining the result dtypes. To retain the old behavior, exclude the \n",
       "relevant entries before the concat operation.\n",
       "  results = pd.concat([results, normalized_data]) #.dropna(axis=1, how=\"all\")])\n"
      ]
     },
     "metadata": {},
     "output_type": "display_data"
    },
    {
     "data": {
      "text/html": [
       "<pre style=\"white-space:pre;overflow-x:auto;line-height:normal;font-family:Menlo,'DejaVu Sans Mono',consolas,'Courier New',monospace\">/var/folders/7t/k8q3439j6z3c683j7w00wtm80000gn/T/ipykernel_58430/330735155.py:26: FutureWarning: The behavior of \n",
       "DataFrame concatenation with empty or all-NA entries is deprecated. In a future version, this will no longer \n",
       "exclude empty or all-NA columns when determining the result dtypes. To retain the old behavior, exclude the \n",
       "relevant entries before the concat operation.\n",
       "  results = pd.concat([results, normalized_data]) #.dropna(axis=1, how=\"all\")])\n",
       "</pre>\n"
      ],
      "text/plain": [
       "/var/folders/7t/k8q3439j6z3c683j7w00wtm80000gn/T/ipykernel_58430/330735155.py:26: FutureWarning: The behavior of \n",
       "DataFrame concatenation with empty or all-NA entries is deprecated. In a future version, this will no longer \n",
       "exclude empty or all-NA columns when determining the result dtypes. To retain the old behavior, exclude the \n",
       "relevant entries before the concat operation.\n",
       "  results = pd.concat([results, normalized_data]) #.dropna(axis=1, how=\"all\")])\n"
      ]
     },
     "metadata": {},
     "output_type": "display_data"
    },
    {
     "data": {
      "text/html": [
       "<pre style=\"white-space:pre;overflow-x:auto;line-height:normal;font-family:Menlo,'DejaVu Sans Mono',consolas,'Courier New',monospace\">/var/folders/7t/k8q3439j6z3c683j7w00wtm80000gn/T/ipykernel_58430/330735155.py:26: FutureWarning: The behavior of \n",
       "DataFrame concatenation with empty or all-NA entries is deprecated. In a future version, this will no longer \n",
       "exclude empty or all-NA columns when determining the result dtypes. To retain the old behavior, exclude the \n",
       "relevant entries before the concat operation.\n",
       "  results = pd.concat([results, normalized_data]) #.dropna(axis=1, how=\"all\")])\n",
       "</pre>\n"
      ],
      "text/plain": [
       "/var/folders/7t/k8q3439j6z3c683j7w00wtm80000gn/T/ipykernel_58430/330735155.py:26: FutureWarning: The behavior of \n",
       "DataFrame concatenation with empty or all-NA entries is deprecated. In a future version, this will no longer \n",
       "exclude empty or all-NA columns when determining the result dtypes. To retain the old behavior, exclude the \n",
       "relevant entries before the concat operation.\n",
       "  results = pd.concat([results, normalized_data]) #.dropna(axis=1, how=\"all\")])\n"
      ]
     },
     "metadata": {},
     "output_type": "display_data"
    },
    {
     "data": {
      "text/html": [
       "<pre style=\"white-space:pre;overflow-x:auto;line-height:normal;font-family:Menlo,'DejaVu Sans Mono',consolas,'Courier New',monospace\">/var/folders/7t/k8q3439j6z3c683j7w00wtm80000gn/T/ipykernel_58430/330735155.py:26: FutureWarning: The behavior of \n",
       "DataFrame concatenation with empty or all-NA entries is deprecated. In a future version, this will no longer \n",
       "exclude empty or all-NA columns when determining the result dtypes. To retain the old behavior, exclude the \n",
       "relevant entries before the concat operation.\n",
       "  results = pd.concat([results, normalized_data]) #.dropna(axis=1, how=\"all\")])\n",
       "</pre>\n"
      ],
      "text/plain": [
       "/var/folders/7t/k8q3439j6z3c683j7w00wtm80000gn/T/ipykernel_58430/330735155.py:26: FutureWarning: The behavior of \n",
       "DataFrame concatenation with empty or all-NA entries is deprecated. In a future version, this will no longer \n",
       "exclude empty or all-NA columns when determining the result dtypes. To retain the old behavior, exclude the \n",
       "relevant entries before the concat operation.\n",
       "  results = pd.concat([results, normalized_data]) #.dropna(axis=1, how=\"all\")])\n"
      ]
     },
     "metadata": {},
     "output_type": "display_data"
    },
    {
     "data": {
      "text/html": [
       "<pre style=\"white-space:pre;overflow-x:auto;line-height:normal;font-family:Menlo,'DejaVu Sans Mono',consolas,'Courier New',monospace\">/var/folders/7t/k8q3439j6z3c683j7w00wtm80000gn/T/ipykernel_58430/330735155.py:26: FutureWarning: The behavior of \n",
       "DataFrame concatenation with empty or all-NA entries is deprecated. In a future version, this will no longer \n",
       "exclude empty or all-NA columns when determining the result dtypes. To retain the old behavior, exclude the \n",
       "relevant entries before the concat operation.\n",
       "  results = pd.concat([results, normalized_data]) #.dropna(axis=1, how=\"all\")])\n",
       "</pre>\n"
      ],
      "text/plain": [
       "/var/folders/7t/k8q3439j6z3c683j7w00wtm80000gn/T/ipykernel_58430/330735155.py:26: FutureWarning: The behavior of \n",
       "DataFrame concatenation with empty or all-NA entries is deprecated. In a future version, this will no longer \n",
       "exclude empty or all-NA columns when determining the result dtypes. To retain the old behavior, exclude the \n",
       "relevant entries before the concat operation.\n",
       "  results = pd.concat([results, normalized_data]) #.dropna(axis=1, how=\"all\")])\n"
      ]
     },
     "metadata": {},
     "output_type": "display_data"
    },
    {
     "data": {
      "text/html": [
       "<pre style=\"white-space:pre;overflow-x:auto;line-height:normal;font-family:Menlo,'DejaVu Sans Mono',consolas,'Courier New',monospace\">/var/folders/7t/k8q3439j6z3c683j7w00wtm80000gn/T/ipykernel_58430/330735155.py:26: FutureWarning: The behavior of \n",
       "DataFrame concatenation with empty or all-NA entries is deprecated. In a future version, this will no longer \n",
       "exclude empty or all-NA columns when determining the result dtypes. To retain the old behavior, exclude the \n",
       "relevant entries before the concat operation.\n",
       "  results = pd.concat([results, normalized_data]) #.dropna(axis=1, how=\"all\")])\n",
       "</pre>\n"
      ],
      "text/plain": [
       "/var/folders/7t/k8q3439j6z3c683j7w00wtm80000gn/T/ipykernel_58430/330735155.py:26: FutureWarning: The behavior of \n",
       "DataFrame concatenation with empty or all-NA entries is deprecated. In a future version, this will no longer \n",
       "exclude empty or all-NA columns when determining the result dtypes. To retain the old behavior, exclude the \n",
       "relevant entries before the concat operation.\n",
       "  results = pd.concat([results, normalized_data]) #.dropna(axis=1, how=\"all\")])\n"
      ]
     },
     "metadata": {},
     "output_type": "display_data"
    },
    {
     "data": {
      "text/html": [
       "<pre style=\"white-space:pre;overflow-x:auto;line-height:normal;font-family:Menlo,'DejaVu Sans Mono',consolas,'Courier New',monospace\">/var/folders/7t/k8q3439j6z3c683j7w00wtm80000gn/T/ipykernel_58430/330735155.py:26: FutureWarning: The behavior of \n",
       "DataFrame concatenation with empty or all-NA entries is deprecated. In a future version, this will no longer \n",
       "exclude empty or all-NA columns when determining the result dtypes. To retain the old behavior, exclude the \n",
       "relevant entries before the concat operation.\n",
       "  results = pd.concat([results, normalized_data]) #.dropna(axis=1, how=\"all\")])\n",
       "</pre>\n"
      ],
      "text/plain": [
       "/var/folders/7t/k8q3439j6z3c683j7w00wtm80000gn/T/ipykernel_58430/330735155.py:26: FutureWarning: The behavior of \n",
       "DataFrame concatenation with empty or all-NA entries is deprecated. In a future version, this will no longer \n",
       "exclude empty or all-NA columns when determining the result dtypes. To retain the old behavior, exclude the \n",
       "relevant entries before the concat operation.\n",
       "  results = pd.concat([results, normalized_data]) #.dropna(axis=1, how=\"all\")])\n"
      ]
     },
     "metadata": {},
     "output_type": "display_data"
    },
    {
     "data": {
      "text/html": [
       "<pre style=\"white-space:pre;overflow-x:auto;line-height:normal;font-family:Menlo,'DejaVu Sans Mono',consolas,'Courier New',monospace\">/var/folders/7t/k8q3439j6z3c683j7w00wtm80000gn/T/ipykernel_58430/330735155.py:26: FutureWarning: The behavior of \n",
       "DataFrame concatenation with empty or all-NA entries is deprecated. In a future version, this will no longer \n",
       "exclude empty or all-NA columns when determining the result dtypes. To retain the old behavior, exclude the \n",
       "relevant entries before the concat operation.\n",
       "  results = pd.concat([results, normalized_data]) #.dropna(axis=1, how=\"all\")])\n",
       "</pre>\n"
      ],
      "text/plain": [
       "/var/folders/7t/k8q3439j6z3c683j7w00wtm80000gn/T/ipykernel_58430/330735155.py:26: FutureWarning: The behavior of \n",
       "DataFrame concatenation with empty or all-NA entries is deprecated. In a future version, this will no longer \n",
       "exclude empty or all-NA columns when determining the result dtypes. To retain the old behavior, exclude the \n",
       "relevant entries before the concat operation.\n",
       "  results = pd.concat([results, normalized_data]) #.dropna(axis=1, how=\"all\")])\n"
      ]
     },
     "metadata": {},
     "output_type": "display_data"
    },
    {
     "data": {
      "text/html": [
       "<pre style=\"white-space:pre;overflow-x:auto;line-height:normal;font-family:Menlo,'DejaVu Sans Mono',consolas,'Courier New',monospace\">/var/folders/7t/k8q3439j6z3c683j7w00wtm80000gn/T/ipykernel_58430/330735155.py:26: FutureWarning: The behavior of \n",
       "DataFrame concatenation with empty or all-NA entries is deprecated. In a future version, this will no longer \n",
       "exclude empty or all-NA columns when determining the result dtypes. To retain the old behavior, exclude the \n",
       "relevant entries before the concat operation.\n",
       "  results = pd.concat([results, normalized_data]) #.dropna(axis=1, how=\"all\")])\n",
       "</pre>\n"
      ],
      "text/plain": [
       "/var/folders/7t/k8q3439j6z3c683j7w00wtm80000gn/T/ipykernel_58430/330735155.py:26: FutureWarning: The behavior of \n",
       "DataFrame concatenation with empty or all-NA entries is deprecated. In a future version, this will no longer \n",
       "exclude empty or all-NA columns when determining the result dtypes. To retain the old behavior, exclude the \n",
       "relevant entries before the concat operation.\n",
       "  results = pd.concat([results, normalized_data]) #.dropna(axis=1, how=\"all\")])\n"
      ]
     },
     "metadata": {},
     "output_type": "display_data"
    },
    {
     "data": {
      "text/html": [
       "<pre style=\"white-space:pre;overflow-x:auto;line-height:normal;font-family:Menlo,'DejaVu Sans Mono',consolas,'Courier New',monospace\">/var/folders/7t/k8q3439j6z3c683j7w00wtm80000gn/T/ipykernel_58430/330735155.py:26: FutureWarning: The behavior of \n",
       "DataFrame concatenation with empty or all-NA entries is deprecated. In a future version, this will no longer \n",
       "exclude empty or all-NA columns when determining the result dtypes. To retain the old behavior, exclude the \n",
       "relevant entries before the concat operation.\n",
       "  results = pd.concat([results, normalized_data]) #.dropna(axis=1, how=\"all\")])\n",
       "</pre>\n"
      ],
      "text/plain": [
       "/var/folders/7t/k8q3439j6z3c683j7w00wtm80000gn/T/ipykernel_58430/330735155.py:26: FutureWarning: The behavior of \n",
       "DataFrame concatenation with empty or all-NA entries is deprecated. In a future version, this will no longer \n",
       "exclude empty or all-NA columns when determining the result dtypes. To retain the old behavior, exclude the \n",
       "relevant entries before the concat operation.\n",
       "  results = pd.concat([results, normalized_data]) #.dropna(axis=1, how=\"all\")])\n"
      ]
     },
     "metadata": {},
     "output_type": "display_data"
    },
    {
     "data": {
      "text/html": [
       "<pre style=\"white-space:pre;overflow-x:auto;line-height:normal;font-family:Menlo,'DejaVu Sans Mono',consolas,'Courier New',monospace\">/var/folders/7t/k8q3439j6z3c683j7w00wtm80000gn/T/ipykernel_58430/330735155.py:26: FutureWarning: The behavior of \n",
       "DataFrame concatenation with empty or all-NA entries is deprecated. In a future version, this will no longer \n",
       "exclude empty or all-NA columns when determining the result dtypes. To retain the old behavior, exclude the \n",
       "relevant entries before the concat operation.\n",
       "  results = pd.concat([results, normalized_data]) #.dropna(axis=1, how=\"all\")])\n",
       "</pre>\n"
      ],
      "text/plain": [
       "/var/folders/7t/k8q3439j6z3c683j7w00wtm80000gn/T/ipykernel_58430/330735155.py:26: FutureWarning: The behavior of \n",
       "DataFrame concatenation with empty or all-NA entries is deprecated. In a future version, this will no longer \n",
       "exclude empty or all-NA columns when determining the result dtypes. To retain the old behavior, exclude the \n",
       "relevant entries before the concat operation.\n",
       "  results = pd.concat([results, normalized_data]) #.dropna(axis=1, how=\"all\")])\n"
      ]
     },
     "metadata": {},
     "output_type": "display_data"
    },
    {
     "data": {
      "text/html": [
       "<pre style=\"white-space:pre;overflow-x:auto;line-height:normal;font-family:Menlo,'DejaVu Sans Mono',consolas,'Courier New',monospace\">/var/folders/7t/k8q3439j6z3c683j7w00wtm80000gn/T/ipykernel_58430/330735155.py:26: FutureWarning: The behavior of \n",
       "DataFrame concatenation with empty or all-NA entries is deprecated. In a future version, this will no longer \n",
       "exclude empty or all-NA columns when determining the result dtypes. To retain the old behavior, exclude the \n",
       "relevant entries before the concat operation.\n",
       "  results = pd.concat([results, normalized_data]) #.dropna(axis=1, how=\"all\")])\n",
       "</pre>\n"
      ],
      "text/plain": [
       "/var/folders/7t/k8q3439j6z3c683j7w00wtm80000gn/T/ipykernel_58430/330735155.py:26: FutureWarning: The behavior of \n",
       "DataFrame concatenation with empty or all-NA entries is deprecated. In a future version, this will no longer \n",
       "exclude empty or all-NA columns when determining the result dtypes. To retain the old behavior, exclude the \n",
       "relevant entries before the concat operation.\n",
       "  results = pd.concat([results, normalized_data]) #.dropna(axis=1, how=\"all\")])\n"
      ]
     },
     "metadata": {},
     "output_type": "display_data"
    },
    {
     "data": {
      "text/html": [
       "<pre style=\"white-space:pre;overflow-x:auto;line-height:normal;font-family:Menlo,'DejaVu Sans Mono',consolas,'Courier New',monospace\">/var/folders/7t/k8q3439j6z3c683j7w00wtm80000gn/T/ipykernel_58430/330735155.py:26: FutureWarning: The behavior of \n",
       "DataFrame concatenation with empty or all-NA entries is deprecated. In a future version, this will no longer \n",
       "exclude empty or all-NA columns when determining the result dtypes. To retain the old behavior, exclude the \n",
       "relevant entries before the concat operation.\n",
       "  results = pd.concat([results, normalized_data]) #.dropna(axis=1, how=\"all\")])\n",
       "</pre>\n"
      ],
      "text/plain": [
       "/var/folders/7t/k8q3439j6z3c683j7w00wtm80000gn/T/ipykernel_58430/330735155.py:26: FutureWarning: The behavior of \n",
       "DataFrame concatenation with empty or all-NA entries is deprecated. In a future version, this will no longer \n",
       "exclude empty or all-NA columns when determining the result dtypes. To retain the old behavior, exclude the \n",
       "relevant entries before the concat operation.\n",
       "  results = pd.concat([results, normalized_data]) #.dropna(axis=1, how=\"all\")])\n"
      ]
     },
     "metadata": {},
     "output_type": "display_data"
    },
    {
     "data": {
      "text/html": [
       "<pre style=\"white-space:pre;overflow-x:auto;line-height:normal;font-family:Menlo,'DejaVu Sans Mono',consolas,'Courier New',monospace\">/var/folders/7t/k8q3439j6z3c683j7w00wtm80000gn/T/ipykernel_58430/330735155.py:26: FutureWarning: The behavior of \n",
       "DataFrame concatenation with empty or all-NA entries is deprecated. In a future version, this will no longer \n",
       "exclude empty or all-NA columns when determining the result dtypes. To retain the old behavior, exclude the \n",
       "relevant entries before the concat operation.\n",
       "  results = pd.concat([results, normalized_data]) #.dropna(axis=1, how=\"all\")])\n",
       "</pre>\n"
      ],
      "text/plain": [
       "/var/folders/7t/k8q3439j6z3c683j7w00wtm80000gn/T/ipykernel_58430/330735155.py:26: FutureWarning: The behavior of \n",
       "DataFrame concatenation with empty or all-NA entries is deprecated. In a future version, this will no longer \n",
       "exclude empty or all-NA columns when determining the result dtypes. To retain the old behavior, exclude the \n",
       "relevant entries before the concat operation.\n",
       "  results = pd.concat([results, normalized_data]) #.dropna(axis=1, how=\"all\")])\n"
      ]
     },
     "metadata": {},
     "output_type": "display_data"
    },
    {
     "data": {
      "text/html": [
       "<pre style=\"white-space:pre;overflow-x:auto;line-height:normal;font-family:Menlo,'DejaVu Sans Mono',consolas,'Courier New',monospace\">/var/folders/7t/k8q3439j6z3c683j7w00wtm80000gn/T/ipykernel_58430/330735155.py:26: FutureWarning: The behavior of \n",
       "DataFrame concatenation with empty or all-NA entries is deprecated. In a future version, this will no longer \n",
       "exclude empty or all-NA columns when determining the result dtypes. To retain the old behavior, exclude the \n",
       "relevant entries before the concat operation.\n",
       "  results = pd.concat([results, normalized_data]) #.dropna(axis=1, how=\"all\")])\n",
       "</pre>\n"
      ],
      "text/plain": [
       "/var/folders/7t/k8q3439j6z3c683j7w00wtm80000gn/T/ipykernel_58430/330735155.py:26: FutureWarning: The behavior of \n",
       "DataFrame concatenation with empty or all-NA entries is deprecated. In a future version, this will no longer \n",
       "exclude empty or all-NA columns when determining the result dtypes. To retain the old behavior, exclude the \n",
       "relevant entries before the concat operation.\n",
       "  results = pd.concat([results, normalized_data]) #.dropna(axis=1, how=\"all\")])\n"
      ]
     },
     "metadata": {},
     "output_type": "display_data"
    },
    {
     "data": {
      "text/html": [
       "<pre style=\"white-space:pre;overflow-x:auto;line-height:normal;font-family:Menlo,'DejaVu Sans Mono',consolas,'Courier New',monospace\">/var/folders/7t/k8q3439j6z3c683j7w00wtm80000gn/T/ipykernel_58430/330735155.py:26: FutureWarning: The behavior of \n",
       "DataFrame concatenation with empty or all-NA entries is deprecated. In a future version, this will no longer \n",
       "exclude empty or all-NA columns when determining the result dtypes. To retain the old behavior, exclude the \n",
       "relevant entries before the concat operation.\n",
       "  results = pd.concat([results, normalized_data]) #.dropna(axis=1, how=\"all\")])\n",
       "</pre>\n"
      ],
      "text/plain": [
       "/var/folders/7t/k8q3439j6z3c683j7w00wtm80000gn/T/ipykernel_58430/330735155.py:26: FutureWarning: The behavior of \n",
       "DataFrame concatenation with empty or all-NA entries is deprecated. In a future version, this will no longer \n",
       "exclude empty or all-NA columns when determining the result dtypes. To retain the old behavior, exclude the \n",
       "relevant entries before the concat operation.\n",
       "  results = pd.concat([results, normalized_data]) #.dropna(axis=1, how=\"all\")])\n"
      ]
     },
     "metadata": {},
     "output_type": "display_data"
    },
    {
     "data": {
      "text/html": [
       "<pre style=\"white-space:pre;overflow-x:auto;line-height:normal;font-family:Menlo,'DejaVu Sans Mono',consolas,'Courier New',monospace\">/var/folders/7t/k8q3439j6z3c683j7w00wtm80000gn/T/ipykernel_58430/330735155.py:26: FutureWarning: The behavior of \n",
       "DataFrame concatenation with empty or all-NA entries is deprecated. In a future version, this will no longer \n",
       "exclude empty or all-NA columns when determining the result dtypes. To retain the old behavior, exclude the \n",
       "relevant entries before the concat operation.\n",
       "  results = pd.concat([results, normalized_data]) #.dropna(axis=1, how=\"all\")])\n",
       "</pre>\n"
      ],
      "text/plain": [
       "/var/folders/7t/k8q3439j6z3c683j7w00wtm80000gn/T/ipykernel_58430/330735155.py:26: FutureWarning: The behavior of \n",
       "DataFrame concatenation with empty or all-NA entries is deprecated. In a future version, this will no longer \n",
       "exclude empty or all-NA columns when determining the result dtypes. To retain the old behavior, exclude the \n",
       "relevant entries before the concat operation.\n",
       "  results = pd.concat([results, normalized_data]) #.dropna(axis=1, how=\"all\")])\n"
      ]
     },
     "metadata": {},
     "output_type": "display_data"
    },
    {
     "data": {
      "text/html": [
       "<pre style=\"white-space:pre;overflow-x:auto;line-height:normal;font-family:Menlo,'DejaVu Sans Mono',consolas,'Courier New',monospace\">/var/folders/7t/k8q3439j6z3c683j7w00wtm80000gn/T/ipykernel_58430/330735155.py:26: FutureWarning: The behavior of \n",
       "DataFrame concatenation with empty or all-NA entries is deprecated. In a future version, this will no longer \n",
       "exclude empty or all-NA columns when determining the result dtypes. To retain the old behavior, exclude the \n",
       "relevant entries before the concat operation.\n",
       "  results = pd.concat([results, normalized_data]) #.dropna(axis=1, how=\"all\")])\n",
       "</pre>\n"
      ],
      "text/plain": [
       "/var/folders/7t/k8q3439j6z3c683j7w00wtm80000gn/T/ipykernel_58430/330735155.py:26: FutureWarning: The behavior of \n",
       "DataFrame concatenation with empty or all-NA entries is deprecated. In a future version, this will no longer \n",
       "exclude empty or all-NA columns when determining the result dtypes. To retain the old behavior, exclude the \n",
       "relevant entries before the concat operation.\n",
       "  results = pd.concat([results, normalized_data]) #.dropna(axis=1, how=\"all\")])\n"
      ]
     },
     "metadata": {},
     "output_type": "display_data"
    },
    {
     "data": {
      "text/html": [
       "<pre style=\"white-space:pre;overflow-x:auto;line-height:normal;font-family:Menlo,'DejaVu Sans Mono',consolas,'Courier New',monospace\">/var/folders/7t/k8q3439j6z3c683j7w00wtm80000gn/T/ipykernel_58430/330735155.py:26: FutureWarning: The behavior of \n",
       "DataFrame concatenation with empty or all-NA entries is deprecated. In a future version, this will no longer \n",
       "exclude empty or all-NA columns when determining the result dtypes. To retain the old behavior, exclude the \n",
       "relevant entries before the concat operation.\n",
       "  results = pd.concat([results, normalized_data]) #.dropna(axis=1, how=\"all\")])\n",
       "</pre>\n"
      ],
      "text/plain": [
       "/var/folders/7t/k8q3439j6z3c683j7w00wtm80000gn/T/ipykernel_58430/330735155.py:26: FutureWarning: The behavior of \n",
       "DataFrame concatenation with empty or all-NA entries is deprecated. In a future version, this will no longer \n",
       "exclude empty or all-NA columns when determining the result dtypes. To retain the old behavior, exclude the \n",
       "relevant entries before the concat operation.\n",
       "  results = pd.concat([results, normalized_data]) #.dropna(axis=1, how=\"all\")])\n"
      ]
     },
     "metadata": {},
     "output_type": "display_data"
    },
    {
     "data": {
      "text/html": [
       "<pre style=\"white-space:pre;overflow-x:auto;line-height:normal;font-family:Menlo,'DejaVu Sans Mono',consolas,'Courier New',monospace\">/var/folders/7t/k8q3439j6z3c683j7w00wtm80000gn/T/ipykernel_58430/330735155.py:26: FutureWarning: The behavior of \n",
       "DataFrame concatenation with empty or all-NA entries is deprecated. In a future version, this will no longer \n",
       "exclude empty or all-NA columns when determining the result dtypes. To retain the old behavior, exclude the \n",
       "relevant entries before the concat operation.\n",
       "  results = pd.concat([results, normalized_data]) #.dropna(axis=1, how=\"all\")])\n",
       "</pre>\n"
      ],
      "text/plain": [
       "/var/folders/7t/k8q3439j6z3c683j7w00wtm80000gn/T/ipykernel_58430/330735155.py:26: FutureWarning: The behavior of \n",
       "DataFrame concatenation with empty or all-NA entries is deprecated. In a future version, this will no longer \n",
       "exclude empty or all-NA columns when determining the result dtypes. To retain the old behavior, exclude the \n",
       "relevant entries before the concat operation.\n",
       "  results = pd.concat([results, normalized_data]) #.dropna(axis=1, how=\"all\")])\n"
      ]
     },
     "metadata": {},
     "output_type": "display_data"
    },
    {
     "data": {
      "text/html": [
       "<pre style=\"white-space:pre;overflow-x:auto;line-height:normal;font-family:Menlo,'DejaVu Sans Mono',consolas,'Courier New',monospace\">/var/folders/7t/k8q3439j6z3c683j7w00wtm80000gn/T/ipykernel_58430/330735155.py:26: FutureWarning: The behavior of \n",
       "DataFrame concatenation with empty or all-NA entries is deprecated. In a future version, this will no longer \n",
       "exclude empty or all-NA columns when determining the result dtypes. To retain the old behavior, exclude the \n",
       "relevant entries before the concat operation.\n",
       "  results = pd.concat([results, normalized_data]) #.dropna(axis=1, how=\"all\")])\n",
       "</pre>\n"
      ],
      "text/plain": [
       "/var/folders/7t/k8q3439j6z3c683j7w00wtm80000gn/T/ipykernel_58430/330735155.py:26: FutureWarning: The behavior of \n",
       "DataFrame concatenation with empty or all-NA entries is deprecated. In a future version, this will no longer \n",
       "exclude empty or all-NA columns when determining the result dtypes. To retain the old behavior, exclude the \n",
       "relevant entries before the concat operation.\n",
       "  results = pd.concat([results, normalized_data]) #.dropna(axis=1, how=\"all\")])\n"
      ]
     },
     "metadata": {},
     "output_type": "display_data"
    },
    {
     "data": {
      "text/html": [
       "<pre style=\"white-space:pre;overflow-x:auto;line-height:normal;font-family:Menlo,'DejaVu Sans Mono',consolas,'Courier New',monospace\">/var/folders/7t/k8q3439j6z3c683j7w00wtm80000gn/T/ipykernel_58430/330735155.py:26: FutureWarning: The behavior of \n",
       "DataFrame concatenation with empty or all-NA entries is deprecated. In a future version, this will no longer \n",
       "exclude empty or all-NA columns when determining the result dtypes. To retain the old behavior, exclude the \n",
       "relevant entries before the concat operation.\n",
       "  results = pd.concat([results, normalized_data]) #.dropna(axis=1, how=\"all\")])\n",
       "</pre>\n"
      ],
      "text/plain": [
       "/var/folders/7t/k8q3439j6z3c683j7w00wtm80000gn/T/ipykernel_58430/330735155.py:26: FutureWarning: The behavior of \n",
       "DataFrame concatenation with empty or all-NA entries is deprecated. In a future version, this will no longer \n",
       "exclude empty or all-NA columns when determining the result dtypes. To retain the old behavior, exclude the \n",
       "relevant entries before the concat operation.\n",
       "  results = pd.concat([results, normalized_data]) #.dropna(axis=1, how=\"all\")])\n"
      ]
     },
     "metadata": {},
     "output_type": "display_data"
    },
    {
     "data": {
      "text/html": [
       "<pre style=\"white-space:pre;overflow-x:auto;line-height:normal;font-family:Menlo,'DejaVu Sans Mono',consolas,'Courier New',monospace\">/var/folders/7t/k8q3439j6z3c683j7w00wtm80000gn/T/ipykernel_58430/330735155.py:26: FutureWarning: The behavior of \n",
       "DataFrame concatenation with empty or all-NA entries is deprecated. In a future version, this will no longer \n",
       "exclude empty or all-NA columns when determining the result dtypes. To retain the old behavior, exclude the \n",
       "relevant entries before the concat operation.\n",
       "  results = pd.concat([results, normalized_data]) #.dropna(axis=1, how=\"all\")])\n",
       "</pre>\n"
      ],
      "text/plain": [
       "/var/folders/7t/k8q3439j6z3c683j7w00wtm80000gn/T/ipykernel_58430/330735155.py:26: FutureWarning: The behavior of \n",
       "DataFrame concatenation with empty or all-NA entries is deprecated. In a future version, this will no longer \n",
       "exclude empty or all-NA columns when determining the result dtypes. To retain the old behavior, exclude the \n",
       "relevant entries before the concat operation.\n",
       "  results = pd.concat([results, normalized_data]) #.dropna(axis=1, how=\"all\")])\n"
      ]
     },
     "metadata": {},
     "output_type": "display_data"
    },
    {
     "data": {
      "text/html": [
       "<pre style=\"white-space:pre;overflow-x:auto;line-height:normal;font-family:Menlo,'DejaVu Sans Mono',consolas,'Courier New',monospace\">/var/folders/7t/k8q3439j6z3c683j7w00wtm80000gn/T/ipykernel_58430/330735155.py:26: FutureWarning: The behavior of \n",
       "DataFrame concatenation with empty or all-NA entries is deprecated. In a future version, this will no longer \n",
       "exclude empty or all-NA columns when determining the result dtypes. To retain the old behavior, exclude the \n",
       "relevant entries before the concat operation.\n",
       "  results = pd.concat([results, normalized_data]) #.dropna(axis=1, how=\"all\")])\n",
       "</pre>\n"
      ],
      "text/plain": [
       "/var/folders/7t/k8q3439j6z3c683j7w00wtm80000gn/T/ipykernel_58430/330735155.py:26: FutureWarning: The behavior of \n",
       "DataFrame concatenation with empty or all-NA entries is deprecated. In a future version, this will no longer \n",
       "exclude empty or all-NA columns when determining the result dtypes. To retain the old behavior, exclude the \n",
       "relevant entries before the concat operation.\n",
       "  results = pd.concat([results, normalized_data]) #.dropna(axis=1, how=\"all\")])\n"
      ]
     },
     "metadata": {},
     "output_type": "display_data"
    },
    {
     "data": {
      "text/html": [
       "<pre style=\"white-space:pre;overflow-x:auto;line-height:normal;font-family:Menlo,'DejaVu Sans Mono',consolas,'Courier New',monospace\">/var/folders/7t/k8q3439j6z3c683j7w00wtm80000gn/T/ipykernel_58430/330735155.py:26: FutureWarning: The behavior of \n",
       "DataFrame concatenation with empty or all-NA entries is deprecated. In a future version, this will no longer \n",
       "exclude empty or all-NA columns when determining the result dtypes. To retain the old behavior, exclude the \n",
       "relevant entries before the concat operation.\n",
       "  results = pd.concat([results, normalized_data]) #.dropna(axis=1, how=\"all\")])\n",
       "</pre>\n"
      ],
      "text/plain": [
       "/var/folders/7t/k8q3439j6z3c683j7w00wtm80000gn/T/ipykernel_58430/330735155.py:26: FutureWarning: The behavior of \n",
       "DataFrame concatenation with empty or all-NA entries is deprecated. In a future version, this will no longer \n",
       "exclude empty or all-NA columns when determining the result dtypes. To retain the old behavior, exclude the \n",
       "relevant entries before the concat operation.\n",
       "  results = pd.concat([results, normalized_data]) #.dropna(axis=1, how=\"all\")])\n"
      ]
     },
     "metadata": {},
     "output_type": "display_data"
    },
    {
     "data": {
      "text/html": [
       "<pre style=\"white-space:pre;overflow-x:auto;line-height:normal;font-family:Menlo,'DejaVu Sans Mono',consolas,'Courier New',monospace\">/var/folders/7t/k8q3439j6z3c683j7w00wtm80000gn/T/ipykernel_58430/330735155.py:26: FutureWarning: The behavior of \n",
       "DataFrame concatenation with empty or all-NA entries is deprecated. In a future version, this will no longer \n",
       "exclude empty or all-NA columns when determining the result dtypes. To retain the old behavior, exclude the \n",
       "relevant entries before the concat operation.\n",
       "  results = pd.concat([results, normalized_data]) #.dropna(axis=1, how=\"all\")])\n",
       "</pre>\n"
      ],
      "text/plain": [
       "/var/folders/7t/k8q3439j6z3c683j7w00wtm80000gn/T/ipykernel_58430/330735155.py:26: FutureWarning: The behavior of \n",
       "DataFrame concatenation with empty or all-NA entries is deprecated. In a future version, this will no longer \n",
       "exclude empty or all-NA columns when determining the result dtypes. To retain the old behavior, exclude the \n",
       "relevant entries before the concat operation.\n",
       "  results = pd.concat([results, normalized_data]) #.dropna(axis=1, how=\"all\")])\n"
      ]
     },
     "metadata": {},
     "output_type": "display_data"
    },
    {
     "data": {
      "text/html": [
       "<pre style=\"white-space:pre;overflow-x:auto;line-height:normal;font-family:Menlo,'DejaVu Sans Mono',consolas,'Courier New',monospace\">/var/folders/7t/k8q3439j6z3c683j7w00wtm80000gn/T/ipykernel_58430/330735155.py:26: FutureWarning: The behavior of \n",
       "DataFrame concatenation with empty or all-NA entries is deprecated. In a future version, this will no longer \n",
       "exclude empty or all-NA columns when determining the result dtypes. To retain the old behavior, exclude the \n",
       "relevant entries before the concat operation.\n",
       "  results = pd.concat([results, normalized_data]) #.dropna(axis=1, how=\"all\")])\n",
       "</pre>\n"
      ],
      "text/plain": [
       "/var/folders/7t/k8q3439j6z3c683j7w00wtm80000gn/T/ipykernel_58430/330735155.py:26: FutureWarning: The behavior of \n",
       "DataFrame concatenation with empty or all-NA entries is deprecated. In a future version, this will no longer \n",
       "exclude empty or all-NA columns when determining the result dtypes. To retain the old behavior, exclude the \n",
       "relevant entries before the concat operation.\n",
       "  results = pd.concat([results, normalized_data]) #.dropna(axis=1, how=\"all\")])\n"
      ]
     },
     "metadata": {},
     "output_type": "display_data"
    },
    {
     "data": {
      "text/html": [
       "<pre style=\"white-space:pre;overflow-x:auto;line-height:normal;font-family:Menlo,'DejaVu Sans Mono',consolas,'Courier New',monospace\">/var/folders/7t/k8q3439j6z3c683j7w00wtm80000gn/T/ipykernel_58430/330735155.py:26: FutureWarning: The behavior of \n",
       "DataFrame concatenation with empty or all-NA entries is deprecated. In a future version, this will no longer \n",
       "exclude empty or all-NA columns when determining the result dtypes. To retain the old behavior, exclude the \n",
       "relevant entries before the concat operation.\n",
       "  results = pd.concat([results, normalized_data]) #.dropna(axis=1, how=\"all\")])\n",
       "</pre>\n"
      ],
      "text/plain": [
       "/var/folders/7t/k8q3439j6z3c683j7w00wtm80000gn/T/ipykernel_58430/330735155.py:26: FutureWarning: The behavior of \n",
       "DataFrame concatenation with empty or all-NA entries is deprecated. In a future version, this will no longer \n",
       "exclude empty or all-NA columns when determining the result dtypes. To retain the old behavior, exclude the \n",
       "relevant entries before the concat operation.\n",
       "  results = pd.concat([results, normalized_data]) #.dropna(axis=1, how=\"all\")])\n"
      ]
     },
     "metadata": {},
     "output_type": "display_data"
    },
    {
     "data": {
      "text/html": [
       "<pre style=\"white-space:pre;overflow-x:auto;line-height:normal;font-family:Menlo,'DejaVu Sans Mono',consolas,'Courier New',monospace\">/var/folders/7t/k8q3439j6z3c683j7w00wtm80000gn/T/ipykernel_58430/330735155.py:26: FutureWarning: The behavior of \n",
       "DataFrame concatenation with empty or all-NA entries is deprecated. In a future version, this will no longer \n",
       "exclude empty or all-NA columns when determining the result dtypes. To retain the old behavior, exclude the \n",
       "relevant entries before the concat operation.\n",
       "  results = pd.concat([results, normalized_data]) #.dropna(axis=1, how=\"all\")])\n",
       "</pre>\n"
      ],
      "text/plain": [
       "/var/folders/7t/k8q3439j6z3c683j7w00wtm80000gn/T/ipykernel_58430/330735155.py:26: FutureWarning: The behavior of \n",
       "DataFrame concatenation with empty or all-NA entries is deprecated. In a future version, this will no longer \n",
       "exclude empty or all-NA columns when determining the result dtypes. To retain the old behavior, exclude the \n",
       "relevant entries before the concat operation.\n",
       "  results = pd.concat([results, normalized_data]) #.dropna(axis=1, how=\"all\")])\n"
      ]
     },
     "metadata": {},
     "output_type": "display_data"
    },
    {
     "data": {
      "text/html": [
       "<pre style=\"white-space:pre;overflow-x:auto;line-height:normal;font-family:Menlo,'DejaVu Sans Mono',consolas,'Courier New',monospace\">/var/folders/7t/k8q3439j6z3c683j7w00wtm80000gn/T/ipykernel_58430/330735155.py:26: FutureWarning: The behavior of \n",
       "DataFrame concatenation with empty or all-NA entries is deprecated. In a future version, this will no longer \n",
       "exclude empty or all-NA columns when determining the result dtypes. To retain the old behavior, exclude the \n",
       "relevant entries before the concat operation.\n",
       "  results = pd.concat([results, normalized_data]) #.dropna(axis=1, how=\"all\")])\n",
       "</pre>\n"
      ],
      "text/plain": [
       "/var/folders/7t/k8q3439j6z3c683j7w00wtm80000gn/T/ipykernel_58430/330735155.py:26: FutureWarning: The behavior of \n",
       "DataFrame concatenation with empty or all-NA entries is deprecated. In a future version, this will no longer \n",
       "exclude empty or all-NA columns when determining the result dtypes. To retain the old behavior, exclude the \n",
       "relevant entries before the concat operation.\n",
       "  results = pd.concat([results, normalized_data]) #.dropna(axis=1, how=\"all\")])\n"
      ]
     },
     "metadata": {},
     "output_type": "display_data"
    },
    {
     "data": {
      "text/html": [
       "<pre style=\"white-space:pre;overflow-x:auto;line-height:normal;font-family:Menlo,'DejaVu Sans Mono',consolas,'Courier New',monospace\">/var/folders/7t/k8q3439j6z3c683j7w00wtm80000gn/T/ipykernel_58430/330735155.py:26: FutureWarning: The behavior of \n",
       "DataFrame concatenation with empty or all-NA entries is deprecated. In a future version, this will no longer \n",
       "exclude empty or all-NA columns when determining the result dtypes. To retain the old behavior, exclude the \n",
       "relevant entries before the concat operation.\n",
       "  results = pd.concat([results, normalized_data]) #.dropna(axis=1, how=\"all\")])\n",
       "</pre>\n"
      ],
      "text/plain": [
       "/var/folders/7t/k8q3439j6z3c683j7w00wtm80000gn/T/ipykernel_58430/330735155.py:26: FutureWarning: The behavior of \n",
       "DataFrame concatenation with empty or all-NA entries is deprecated. In a future version, this will no longer \n",
       "exclude empty or all-NA columns when determining the result dtypes. To retain the old behavior, exclude the \n",
       "relevant entries before the concat operation.\n",
       "  results = pd.concat([results, normalized_data]) #.dropna(axis=1, how=\"all\")])\n"
      ]
     },
     "metadata": {},
     "output_type": "display_data"
    },
    {
     "data": {
      "text/html": [
       "<pre style=\"white-space:pre;overflow-x:auto;line-height:normal;font-family:Menlo,'DejaVu Sans Mono',consolas,'Courier New',monospace\">/var/folders/7t/k8q3439j6z3c683j7w00wtm80000gn/T/ipykernel_58430/330735155.py:26: FutureWarning: The behavior of \n",
       "DataFrame concatenation with empty or all-NA entries is deprecated. In a future version, this will no longer \n",
       "exclude empty or all-NA columns when determining the result dtypes. To retain the old behavior, exclude the \n",
       "relevant entries before the concat operation.\n",
       "  results = pd.concat([results, normalized_data]) #.dropna(axis=1, how=\"all\")])\n",
       "</pre>\n"
      ],
      "text/plain": [
       "/var/folders/7t/k8q3439j6z3c683j7w00wtm80000gn/T/ipykernel_58430/330735155.py:26: FutureWarning: The behavior of \n",
       "DataFrame concatenation with empty or all-NA entries is deprecated. In a future version, this will no longer \n",
       "exclude empty or all-NA columns when determining the result dtypes. To retain the old behavior, exclude the \n",
       "relevant entries before the concat operation.\n",
       "  results = pd.concat([results, normalized_data]) #.dropna(axis=1, how=\"all\")])\n"
      ]
     },
     "metadata": {},
     "output_type": "display_data"
    },
    {
     "data": {
      "text/html": [
       "<pre style=\"white-space:pre;overflow-x:auto;line-height:normal;font-family:Menlo,'DejaVu Sans Mono',consolas,'Courier New',monospace\">/var/folders/7t/k8q3439j6z3c683j7w00wtm80000gn/T/ipykernel_58430/330735155.py:26: FutureWarning: The behavior of \n",
       "DataFrame concatenation with empty or all-NA entries is deprecated. In a future version, this will no longer \n",
       "exclude empty or all-NA columns when determining the result dtypes. To retain the old behavior, exclude the \n",
       "relevant entries before the concat operation.\n",
       "  results = pd.concat([results, normalized_data]) #.dropna(axis=1, how=\"all\")])\n",
       "</pre>\n"
      ],
      "text/plain": [
       "/var/folders/7t/k8q3439j6z3c683j7w00wtm80000gn/T/ipykernel_58430/330735155.py:26: FutureWarning: The behavior of \n",
       "DataFrame concatenation with empty or all-NA entries is deprecated. In a future version, this will no longer \n",
       "exclude empty or all-NA columns when determining the result dtypes. To retain the old behavior, exclude the \n",
       "relevant entries before the concat operation.\n",
       "  results = pd.concat([results, normalized_data]) #.dropna(axis=1, how=\"all\")])\n"
      ]
     },
     "metadata": {},
     "output_type": "display_data"
    },
    {
     "data": {
      "text/html": [
       "<pre style=\"white-space:pre;overflow-x:auto;line-height:normal;font-family:Menlo,'DejaVu Sans Mono',consolas,'Courier New',monospace\">/var/folders/7t/k8q3439j6z3c683j7w00wtm80000gn/T/ipykernel_58430/330735155.py:26: FutureWarning: The behavior of \n",
       "DataFrame concatenation with empty or all-NA entries is deprecated. In a future version, this will no longer \n",
       "exclude empty or all-NA columns when determining the result dtypes. To retain the old behavior, exclude the \n",
       "relevant entries before the concat operation.\n",
       "  results = pd.concat([results, normalized_data]) #.dropna(axis=1, how=\"all\")])\n",
       "</pre>\n"
      ],
      "text/plain": [
       "/var/folders/7t/k8q3439j6z3c683j7w00wtm80000gn/T/ipykernel_58430/330735155.py:26: FutureWarning: The behavior of \n",
       "DataFrame concatenation with empty or all-NA entries is deprecated. In a future version, this will no longer \n",
       "exclude empty or all-NA columns when determining the result dtypes. To retain the old behavior, exclude the \n",
       "relevant entries before the concat operation.\n",
       "  results = pd.concat([results, normalized_data]) #.dropna(axis=1, how=\"all\")])\n"
      ]
     },
     "metadata": {},
     "output_type": "display_data"
    },
    {
     "data": {
      "text/html": [
       "<pre style=\"white-space:pre;overflow-x:auto;line-height:normal;font-family:Menlo,'DejaVu Sans Mono',consolas,'Courier New',monospace\">/var/folders/7t/k8q3439j6z3c683j7w00wtm80000gn/T/ipykernel_58430/330735155.py:26: FutureWarning: The behavior of \n",
       "DataFrame concatenation with empty or all-NA entries is deprecated. In a future version, this will no longer \n",
       "exclude empty or all-NA columns when determining the result dtypes. To retain the old behavior, exclude the \n",
       "relevant entries before the concat operation.\n",
       "  results = pd.concat([results, normalized_data]) #.dropna(axis=1, how=\"all\")])\n",
       "</pre>\n"
      ],
      "text/plain": [
       "/var/folders/7t/k8q3439j6z3c683j7w00wtm80000gn/T/ipykernel_58430/330735155.py:26: FutureWarning: The behavior of \n",
       "DataFrame concatenation with empty or all-NA entries is deprecated. In a future version, this will no longer \n",
       "exclude empty or all-NA columns when determining the result dtypes. To retain the old behavior, exclude the \n",
       "relevant entries before the concat operation.\n",
       "  results = pd.concat([results, normalized_data]) #.dropna(axis=1, how=\"all\")])\n"
      ]
     },
     "metadata": {},
     "output_type": "display_data"
    },
    {
     "data": {
      "text/html": [
       "<pre style=\"white-space:pre;overflow-x:auto;line-height:normal;font-family:Menlo,'DejaVu Sans Mono',consolas,'Courier New',monospace\">/var/folders/7t/k8q3439j6z3c683j7w00wtm80000gn/T/ipykernel_58430/330735155.py:26: FutureWarning: The behavior of \n",
       "DataFrame concatenation with empty or all-NA entries is deprecated. In a future version, this will no longer \n",
       "exclude empty or all-NA columns when determining the result dtypes. To retain the old behavior, exclude the \n",
       "relevant entries before the concat operation.\n",
       "  results = pd.concat([results, normalized_data]) #.dropna(axis=1, how=\"all\")])\n",
       "</pre>\n"
      ],
      "text/plain": [
       "/var/folders/7t/k8q3439j6z3c683j7w00wtm80000gn/T/ipykernel_58430/330735155.py:26: FutureWarning: The behavior of \n",
       "DataFrame concatenation with empty or all-NA entries is deprecated. In a future version, this will no longer \n",
       "exclude empty or all-NA columns when determining the result dtypes. To retain the old behavior, exclude the \n",
       "relevant entries before the concat operation.\n",
       "  results = pd.concat([results, normalized_data]) #.dropna(axis=1, how=\"all\")])\n"
      ]
     },
     "metadata": {},
     "output_type": "display_data"
    },
    {
     "data": {
      "text/html": [
       "<pre style=\"white-space:pre;overflow-x:auto;line-height:normal;font-family:Menlo,'DejaVu Sans Mono',consolas,'Courier New',monospace\">/var/folders/7t/k8q3439j6z3c683j7w00wtm80000gn/T/ipykernel_58430/330735155.py:26: FutureWarning: The behavior of \n",
       "DataFrame concatenation with empty or all-NA entries is deprecated. In a future version, this will no longer \n",
       "exclude empty or all-NA columns when determining the result dtypes. To retain the old behavior, exclude the \n",
       "relevant entries before the concat operation.\n",
       "  results = pd.concat([results, normalized_data]) #.dropna(axis=1, how=\"all\")])\n",
       "</pre>\n"
      ],
      "text/plain": [
       "/var/folders/7t/k8q3439j6z3c683j7w00wtm80000gn/T/ipykernel_58430/330735155.py:26: FutureWarning: The behavior of \n",
       "DataFrame concatenation with empty or all-NA entries is deprecated. In a future version, this will no longer \n",
       "exclude empty or all-NA columns when determining the result dtypes. To retain the old behavior, exclude the \n",
       "relevant entries before the concat operation.\n",
       "  results = pd.concat([results, normalized_data]) #.dropna(axis=1, how=\"all\")])\n"
      ]
     },
     "metadata": {},
     "output_type": "display_data"
    },
    {
     "data": {
      "text/html": [
       "<pre style=\"white-space:pre;overflow-x:auto;line-height:normal;font-family:Menlo,'DejaVu Sans Mono',consolas,'Courier New',monospace\">/var/folders/7t/k8q3439j6z3c683j7w00wtm80000gn/T/ipykernel_58430/330735155.py:26: FutureWarning: The behavior of \n",
       "DataFrame concatenation with empty or all-NA entries is deprecated. In a future version, this will no longer \n",
       "exclude empty or all-NA columns when determining the result dtypes. To retain the old behavior, exclude the \n",
       "relevant entries before the concat operation.\n",
       "  results = pd.concat([results, normalized_data]) #.dropna(axis=1, how=\"all\")])\n",
       "</pre>\n"
      ],
      "text/plain": [
       "/var/folders/7t/k8q3439j6z3c683j7w00wtm80000gn/T/ipykernel_58430/330735155.py:26: FutureWarning: The behavior of \n",
       "DataFrame concatenation with empty or all-NA entries is deprecated. In a future version, this will no longer \n",
       "exclude empty or all-NA columns when determining the result dtypes. To retain the old behavior, exclude the \n",
       "relevant entries before the concat operation.\n",
       "  results = pd.concat([results, normalized_data]) #.dropna(axis=1, how=\"all\")])\n"
      ]
     },
     "metadata": {},
     "output_type": "display_data"
    },
    {
     "data": {
      "text/html": [
       "<pre style=\"white-space:pre;overflow-x:auto;line-height:normal;font-family:Menlo,'DejaVu Sans Mono',consolas,'Courier New',monospace\">/var/folders/7t/k8q3439j6z3c683j7w00wtm80000gn/T/ipykernel_58430/330735155.py:26: FutureWarning: The behavior of \n",
       "DataFrame concatenation with empty or all-NA entries is deprecated. In a future version, this will no longer \n",
       "exclude empty or all-NA columns when determining the result dtypes. To retain the old behavior, exclude the \n",
       "relevant entries before the concat operation.\n",
       "  results = pd.concat([results, normalized_data]) #.dropna(axis=1, how=\"all\")])\n",
       "</pre>\n"
      ],
      "text/plain": [
       "/var/folders/7t/k8q3439j6z3c683j7w00wtm80000gn/T/ipykernel_58430/330735155.py:26: FutureWarning: The behavior of \n",
       "DataFrame concatenation with empty or all-NA entries is deprecated. In a future version, this will no longer \n",
       "exclude empty or all-NA columns when determining the result dtypes. To retain the old behavior, exclude the \n",
       "relevant entries before the concat operation.\n",
       "  results = pd.concat([results, normalized_data]) #.dropna(axis=1, how=\"all\")])\n"
      ]
     },
     "metadata": {},
     "output_type": "display_data"
    },
    {
     "data": {
      "text/html": [
       "<pre style=\"white-space:pre;overflow-x:auto;line-height:normal;font-family:Menlo,'DejaVu Sans Mono',consolas,'Courier New',monospace\">/var/folders/7t/k8q3439j6z3c683j7w00wtm80000gn/T/ipykernel_58430/330735155.py:26: FutureWarning: The behavior of \n",
       "DataFrame concatenation with empty or all-NA entries is deprecated. In a future version, this will no longer \n",
       "exclude empty or all-NA columns when determining the result dtypes. To retain the old behavior, exclude the \n",
       "relevant entries before the concat operation.\n",
       "  results = pd.concat([results, normalized_data]) #.dropna(axis=1, how=\"all\")])\n",
       "</pre>\n"
      ],
      "text/plain": [
       "/var/folders/7t/k8q3439j6z3c683j7w00wtm80000gn/T/ipykernel_58430/330735155.py:26: FutureWarning: The behavior of \n",
       "DataFrame concatenation with empty or all-NA entries is deprecated. In a future version, this will no longer \n",
       "exclude empty or all-NA columns when determining the result dtypes. To retain the old behavior, exclude the \n",
       "relevant entries before the concat operation.\n",
       "  results = pd.concat([results, normalized_data]) #.dropna(axis=1, how=\"all\")])\n"
      ]
     },
     "metadata": {},
     "output_type": "display_data"
    },
    {
     "data": {
      "text/html": [
       "<pre style=\"white-space:pre;overflow-x:auto;line-height:normal;font-family:Menlo,'DejaVu Sans Mono',consolas,'Courier New',monospace\">/var/folders/7t/k8q3439j6z3c683j7w00wtm80000gn/T/ipykernel_58430/330735155.py:26: FutureWarning: The behavior of \n",
       "DataFrame concatenation with empty or all-NA entries is deprecated. In a future version, this will no longer \n",
       "exclude empty or all-NA columns when determining the result dtypes. To retain the old behavior, exclude the \n",
       "relevant entries before the concat operation.\n",
       "  results = pd.concat([results, normalized_data]) #.dropna(axis=1, how=\"all\")])\n",
       "</pre>\n"
      ],
      "text/plain": [
       "/var/folders/7t/k8q3439j6z3c683j7w00wtm80000gn/T/ipykernel_58430/330735155.py:26: FutureWarning: The behavior of \n",
       "DataFrame concatenation with empty or all-NA entries is deprecated. In a future version, this will no longer \n",
       "exclude empty or all-NA columns when determining the result dtypes. To retain the old behavior, exclude the \n",
       "relevant entries before the concat operation.\n",
       "  results = pd.concat([results, normalized_data]) #.dropna(axis=1, how=\"all\")])\n"
      ]
     },
     "metadata": {},
     "output_type": "display_data"
    },
    {
     "data": {
      "text/html": [
       "<pre style=\"white-space:pre;overflow-x:auto;line-height:normal;font-family:Menlo,'DejaVu Sans Mono',consolas,'Courier New',monospace\">/var/folders/7t/k8q3439j6z3c683j7w00wtm80000gn/T/ipykernel_58430/330735155.py:26: FutureWarning: The behavior of \n",
       "DataFrame concatenation with empty or all-NA entries is deprecated. In a future version, this will no longer \n",
       "exclude empty or all-NA columns when determining the result dtypes. To retain the old behavior, exclude the \n",
       "relevant entries before the concat operation.\n",
       "  results = pd.concat([results, normalized_data]) #.dropna(axis=1, how=\"all\")])\n",
       "</pre>\n"
      ],
      "text/plain": [
       "/var/folders/7t/k8q3439j6z3c683j7w00wtm80000gn/T/ipykernel_58430/330735155.py:26: FutureWarning: The behavior of \n",
       "DataFrame concatenation with empty or all-NA entries is deprecated. In a future version, this will no longer \n",
       "exclude empty or all-NA columns when determining the result dtypes. To retain the old behavior, exclude the \n",
       "relevant entries before the concat operation.\n",
       "  results = pd.concat([results, normalized_data]) #.dropna(axis=1, how=\"all\")])\n"
      ]
     },
     "metadata": {},
     "output_type": "display_data"
    },
    {
     "data": {
      "text/html": [
       "<pre style=\"white-space:pre;overflow-x:auto;line-height:normal;font-family:Menlo,'DejaVu Sans Mono',consolas,'Courier New',monospace\">/var/folders/7t/k8q3439j6z3c683j7w00wtm80000gn/T/ipykernel_58430/330735155.py:26: FutureWarning: The behavior of \n",
       "DataFrame concatenation with empty or all-NA entries is deprecated. In a future version, this will no longer \n",
       "exclude empty or all-NA columns when determining the result dtypes. To retain the old behavior, exclude the \n",
       "relevant entries before the concat operation.\n",
       "  results = pd.concat([results, normalized_data]) #.dropna(axis=1, how=\"all\")])\n",
       "</pre>\n"
      ],
      "text/plain": [
       "/var/folders/7t/k8q3439j6z3c683j7w00wtm80000gn/T/ipykernel_58430/330735155.py:26: FutureWarning: The behavior of \n",
       "DataFrame concatenation with empty or all-NA entries is deprecated. In a future version, this will no longer \n",
       "exclude empty or all-NA columns when determining the result dtypes. To retain the old behavior, exclude the \n",
       "relevant entries before the concat operation.\n",
       "  results = pd.concat([results, normalized_data]) #.dropna(axis=1, how=\"all\")])\n"
      ]
     },
     "metadata": {},
     "output_type": "display_data"
    },
    {
     "data": {
      "text/html": [
       "<pre style=\"white-space:pre;overflow-x:auto;line-height:normal;font-family:Menlo,'DejaVu Sans Mono',consolas,'Courier New',monospace\">/var/folders/7t/k8q3439j6z3c683j7w00wtm80000gn/T/ipykernel_58430/330735155.py:26: FutureWarning: The behavior of \n",
       "DataFrame concatenation with empty or all-NA entries is deprecated. In a future version, this will no longer \n",
       "exclude empty or all-NA columns when determining the result dtypes. To retain the old behavior, exclude the \n",
       "relevant entries before the concat operation.\n",
       "  results = pd.concat([results, normalized_data]) #.dropna(axis=1, how=\"all\")])\n",
       "</pre>\n"
      ],
      "text/plain": [
       "/var/folders/7t/k8q3439j6z3c683j7w00wtm80000gn/T/ipykernel_58430/330735155.py:26: FutureWarning: The behavior of \n",
       "DataFrame concatenation with empty or all-NA entries is deprecated. In a future version, this will no longer \n",
       "exclude empty or all-NA columns when determining the result dtypes. To retain the old behavior, exclude the \n",
       "relevant entries before the concat operation.\n",
       "  results = pd.concat([results, normalized_data]) #.dropna(axis=1, how=\"all\")])\n"
      ]
     },
     "metadata": {},
     "output_type": "display_data"
    },
    {
     "data": {
      "text/html": [
       "<pre style=\"white-space:pre;overflow-x:auto;line-height:normal;font-family:Menlo,'DejaVu Sans Mono',consolas,'Courier New',monospace\">/var/folders/7t/k8q3439j6z3c683j7w00wtm80000gn/T/ipykernel_58430/330735155.py:26: FutureWarning: The behavior of \n",
       "DataFrame concatenation with empty or all-NA entries is deprecated. In a future version, this will no longer \n",
       "exclude empty or all-NA columns when determining the result dtypes. To retain the old behavior, exclude the \n",
       "relevant entries before the concat operation.\n",
       "  results = pd.concat([results, normalized_data]) #.dropna(axis=1, how=\"all\")])\n",
       "</pre>\n"
      ],
      "text/plain": [
       "/var/folders/7t/k8q3439j6z3c683j7w00wtm80000gn/T/ipykernel_58430/330735155.py:26: FutureWarning: The behavior of \n",
       "DataFrame concatenation with empty or all-NA entries is deprecated. In a future version, this will no longer \n",
       "exclude empty or all-NA columns when determining the result dtypes. To retain the old behavior, exclude the \n",
       "relevant entries before the concat operation.\n",
       "  results = pd.concat([results, normalized_data]) #.dropna(axis=1, how=\"all\")])\n"
      ]
     },
     "metadata": {},
     "output_type": "display_data"
    },
    {
     "data": {
      "text/html": [
       "<pre style=\"white-space:pre;overflow-x:auto;line-height:normal;font-family:Menlo,'DejaVu Sans Mono',consolas,'Courier New',monospace\">/var/folders/7t/k8q3439j6z3c683j7w00wtm80000gn/T/ipykernel_58430/330735155.py:26: FutureWarning: The behavior of \n",
       "DataFrame concatenation with empty or all-NA entries is deprecated. In a future version, this will no longer \n",
       "exclude empty or all-NA columns when determining the result dtypes. To retain the old behavior, exclude the \n",
       "relevant entries before the concat operation.\n",
       "  results = pd.concat([results, normalized_data]) #.dropna(axis=1, how=\"all\")])\n",
       "</pre>\n"
      ],
      "text/plain": [
       "/var/folders/7t/k8q3439j6z3c683j7w00wtm80000gn/T/ipykernel_58430/330735155.py:26: FutureWarning: The behavior of \n",
       "DataFrame concatenation with empty or all-NA entries is deprecated. In a future version, this will no longer \n",
       "exclude empty or all-NA columns when determining the result dtypes. To retain the old behavior, exclude the \n",
       "relevant entries before the concat operation.\n",
       "  results = pd.concat([results, normalized_data]) #.dropna(axis=1, how=\"all\")])\n"
      ]
     },
     "metadata": {},
     "output_type": "display_data"
    },
    {
     "data": {
      "text/html": [
       "<pre style=\"white-space:pre;overflow-x:auto;line-height:normal;font-family:Menlo,'DejaVu Sans Mono',consolas,'Courier New',monospace\">/var/folders/7t/k8q3439j6z3c683j7w00wtm80000gn/T/ipykernel_58430/330735155.py:26: FutureWarning: The behavior of \n",
       "DataFrame concatenation with empty or all-NA entries is deprecated. In a future version, this will no longer \n",
       "exclude empty or all-NA columns when determining the result dtypes. To retain the old behavior, exclude the \n",
       "relevant entries before the concat operation.\n",
       "  results = pd.concat([results, normalized_data]) #.dropna(axis=1, how=\"all\")])\n",
       "</pre>\n"
      ],
      "text/plain": [
       "/var/folders/7t/k8q3439j6z3c683j7w00wtm80000gn/T/ipykernel_58430/330735155.py:26: FutureWarning: The behavior of \n",
       "DataFrame concatenation with empty or all-NA entries is deprecated. In a future version, this will no longer \n",
       "exclude empty or all-NA columns when determining the result dtypes. To retain the old behavior, exclude the \n",
       "relevant entries before the concat operation.\n",
       "  results = pd.concat([results, normalized_data]) #.dropna(axis=1, how=\"all\")])\n"
      ]
     },
     "metadata": {},
     "output_type": "display_data"
    },
    {
     "data": {
      "text/html": [
       "<pre style=\"white-space:pre;overflow-x:auto;line-height:normal;font-family:Menlo,'DejaVu Sans Mono',consolas,'Courier New',monospace\">/var/folders/7t/k8q3439j6z3c683j7w00wtm80000gn/T/ipykernel_58430/330735155.py:26: FutureWarning: The behavior of \n",
       "DataFrame concatenation with empty or all-NA entries is deprecated. In a future version, this will no longer \n",
       "exclude empty or all-NA columns when determining the result dtypes. To retain the old behavior, exclude the \n",
       "relevant entries before the concat operation.\n",
       "  results = pd.concat([results, normalized_data]) #.dropna(axis=1, how=\"all\")])\n",
       "</pre>\n"
      ],
      "text/plain": [
       "/var/folders/7t/k8q3439j6z3c683j7w00wtm80000gn/T/ipykernel_58430/330735155.py:26: FutureWarning: The behavior of \n",
       "DataFrame concatenation with empty or all-NA entries is deprecated. In a future version, this will no longer \n",
       "exclude empty or all-NA columns when determining the result dtypes. To retain the old behavior, exclude the \n",
       "relevant entries before the concat operation.\n",
       "  results = pd.concat([results, normalized_data]) #.dropna(axis=1, how=\"all\")])\n"
      ]
     },
     "metadata": {},
     "output_type": "display_data"
    },
    {
     "data": {
      "text/html": [
       "<pre style=\"white-space:pre;overflow-x:auto;line-height:normal;font-family:Menlo,'DejaVu Sans Mono',consolas,'Courier New',monospace\">/var/folders/7t/k8q3439j6z3c683j7w00wtm80000gn/T/ipykernel_58430/330735155.py:26: FutureWarning: The behavior of \n",
       "DataFrame concatenation with empty or all-NA entries is deprecated. In a future version, this will no longer \n",
       "exclude empty or all-NA columns when determining the result dtypes. To retain the old behavior, exclude the \n",
       "relevant entries before the concat operation.\n",
       "  results = pd.concat([results, normalized_data]) #.dropna(axis=1, how=\"all\")])\n",
       "</pre>\n"
      ],
      "text/plain": [
       "/var/folders/7t/k8q3439j6z3c683j7w00wtm80000gn/T/ipykernel_58430/330735155.py:26: FutureWarning: The behavior of \n",
       "DataFrame concatenation with empty or all-NA entries is deprecated. In a future version, this will no longer \n",
       "exclude empty or all-NA columns when determining the result dtypes. To retain the old behavior, exclude the \n",
       "relevant entries before the concat operation.\n",
       "  results = pd.concat([results, normalized_data]) #.dropna(axis=1, how=\"all\")])\n"
      ]
     },
     "metadata": {},
     "output_type": "display_data"
    },
    {
     "data": {
      "text/html": [
       "<pre style=\"white-space:pre;overflow-x:auto;line-height:normal;font-family:Menlo,'DejaVu Sans Mono',consolas,'Courier New',monospace\">/var/folders/7t/k8q3439j6z3c683j7w00wtm80000gn/T/ipykernel_58430/330735155.py:26: FutureWarning: The behavior of \n",
       "DataFrame concatenation with empty or all-NA entries is deprecated. In a future version, this will no longer \n",
       "exclude empty or all-NA columns when determining the result dtypes. To retain the old behavior, exclude the \n",
       "relevant entries before the concat operation.\n",
       "  results = pd.concat([results, normalized_data]) #.dropna(axis=1, how=\"all\")])\n",
       "</pre>\n"
      ],
      "text/plain": [
       "/var/folders/7t/k8q3439j6z3c683j7w00wtm80000gn/T/ipykernel_58430/330735155.py:26: FutureWarning: The behavior of \n",
       "DataFrame concatenation with empty or all-NA entries is deprecated. In a future version, this will no longer \n",
       "exclude empty or all-NA columns when determining the result dtypes. To retain the old behavior, exclude the \n",
       "relevant entries before the concat operation.\n",
       "  results = pd.concat([results, normalized_data]) #.dropna(axis=1, how=\"all\")])\n"
      ]
     },
     "metadata": {},
     "output_type": "display_data"
    },
    {
     "data": {
      "text/html": [
       "<pre style=\"white-space:pre;overflow-x:auto;line-height:normal;font-family:Menlo,'DejaVu Sans Mono',consolas,'Courier New',monospace\">/var/folders/7t/k8q3439j6z3c683j7w00wtm80000gn/T/ipykernel_58430/330735155.py:26: FutureWarning: The behavior of \n",
       "DataFrame concatenation with empty or all-NA entries is deprecated. In a future version, this will no longer \n",
       "exclude empty or all-NA columns when determining the result dtypes. To retain the old behavior, exclude the \n",
       "relevant entries before the concat operation.\n",
       "  results = pd.concat([results, normalized_data]) #.dropna(axis=1, how=\"all\")])\n",
       "</pre>\n"
      ],
      "text/plain": [
       "/var/folders/7t/k8q3439j6z3c683j7w00wtm80000gn/T/ipykernel_58430/330735155.py:26: FutureWarning: The behavior of \n",
       "DataFrame concatenation with empty or all-NA entries is deprecated. In a future version, this will no longer \n",
       "exclude empty or all-NA columns when determining the result dtypes. To retain the old behavior, exclude the \n",
       "relevant entries before the concat operation.\n",
       "  results = pd.concat([results, normalized_data]) #.dropna(axis=1, how=\"all\")])\n"
      ]
     },
     "metadata": {},
     "output_type": "display_data"
    },
    {
     "data": {
      "text/html": [
       "<pre style=\"white-space:pre;overflow-x:auto;line-height:normal;font-family:Menlo,'DejaVu Sans Mono',consolas,'Courier New',monospace\">/var/folders/7t/k8q3439j6z3c683j7w00wtm80000gn/T/ipykernel_58430/330735155.py:26: FutureWarning: The behavior of \n",
       "DataFrame concatenation with empty or all-NA entries is deprecated. In a future version, this will no longer \n",
       "exclude empty or all-NA columns when determining the result dtypes. To retain the old behavior, exclude the \n",
       "relevant entries before the concat operation.\n",
       "  results = pd.concat([results, normalized_data]) #.dropna(axis=1, how=\"all\")])\n",
       "</pre>\n"
      ],
      "text/plain": [
       "/var/folders/7t/k8q3439j6z3c683j7w00wtm80000gn/T/ipykernel_58430/330735155.py:26: FutureWarning: The behavior of \n",
       "DataFrame concatenation with empty or all-NA entries is deprecated. In a future version, this will no longer \n",
       "exclude empty or all-NA columns when determining the result dtypes. To retain the old behavior, exclude the \n",
       "relevant entries before the concat operation.\n",
       "  results = pd.concat([results, normalized_data]) #.dropna(axis=1, how=\"all\")])\n"
      ]
     },
     "metadata": {},
     "output_type": "display_data"
    },
    {
     "data": {
      "text/html": [
       "<pre style=\"white-space:pre;overflow-x:auto;line-height:normal;font-family:Menlo,'DejaVu Sans Mono',consolas,'Courier New',monospace\">/var/folders/7t/k8q3439j6z3c683j7w00wtm80000gn/T/ipykernel_58430/330735155.py:26: FutureWarning: The behavior of \n",
       "DataFrame concatenation with empty or all-NA entries is deprecated. In a future version, this will no longer \n",
       "exclude empty or all-NA columns when determining the result dtypes. To retain the old behavior, exclude the \n",
       "relevant entries before the concat operation.\n",
       "  results = pd.concat([results, normalized_data]) #.dropna(axis=1, how=\"all\")])\n",
       "</pre>\n"
      ],
      "text/plain": [
       "/var/folders/7t/k8q3439j6z3c683j7w00wtm80000gn/T/ipykernel_58430/330735155.py:26: FutureWarning: The behavior of \n",
       "DataFrame concatenation with empty or all-NA entries is deprecated. In a future version, this will no longer \n",
       "exclude empty or all-NA columns when determining the result dtypes. To retain the old behavior, exclude the \n",
       "relevant entries before the concat operation.\n",
       "  results = pd.concat([results, normalized_data]) #.dropna(axis=1, how=\"all\")])\n"
      ]
     },
     "metadata": {},
     "output_type": "display_data"
    },
    {
     "data": {
      "text/html": [
       "<pre style=\"white-space:pre;overflow-x:auto;line-height:normal;font-family:Menlo,'DejaVu Sans Mono',consolas,'Courier New',monospace\">/var/folders/7t/k8q3439j6z3c683j7w00wtm80000gn/T/ipykernel_58430/330735155.py:26: FutureWarning: The behavior of \n",
       "DataFrame concatenation with empty or all-NA entries is deprecated. In a future version, this will no longer \n",
       "exclude empty or all-NA columns when determining the result dtypes. To retain the old behavior, exclude the \n",
       "relevant entries before the concat operation.\n",
       "  results = pd.concat([results, normalized_data]) #.dropna(axis=1, how=\"all\")])\n",
       "</pre>\n"
      ],
      "text/plain": [
       "/var/folders/7t/k8q3439j6z3c683j7w00wtm80000gn/T/ipykernel_58430/330735155.py:26: FutureWarning: The behavior of \n",
       "DataFrame concatenation with empty or all-NA entries is deprecated. In a future version, this will no longer \n",
       "exclude empty or all-NA columns when determining the result dtypes. To retain the old behavior, exclude the \n",
       "relevant entries before the concat operation.\n",
       "  results = pd.concat([results, normalized_data]) #.dropna(axis=1, how=\"all\")])\n"
      ]
     },
     "metadata": {},
     "output_type": "display_data"
    },
    {
     "data": {
      "text/html": [
       "<pre style=\"white-space:pre;overflow-x:auto;line-height:normal;font-family:Menlo,'DejaVu Sans Mono',consolas,'Courier New',monospace\">/var/folders/7t/k8q3439j6z3c683j7w00wtm80000gn/T/ipykernel_58430/330735155.py:26: FutureWarning: The behavior of \n",
       "DataFrame concatenation with empty or all-NA entries is deprecated. In a future version, this will no longer \n",
       "exclude empty or all-NA columns when determining the result dtypes. To retain the old behavior, exclude the \n",
       "relevant entries before the concat operation.\n",
       "  results = pd.concat([results, normalized_data]) #.dropna(axis=1, how=\"all\")])\n",
       "</pre>\n"
      ],
      "text/plain": [
       "/var/folders/7t/k8q3439j6z3c683j7w00wtm80000gn/T/ipykernel_58430/330735155.py:26: FutureWarning: The behavior of \n",
       "DataFrame concatenation with empty or all-NA entries is deprecated. In a future version, this will no longer \n",
       "exclude empty or all-NA columns when determining the result dtypes. To retain the old behavior, exclude the \n",
       "relevant entries before the concat operation.\n",
       "  results = pd.concat([results, normalized_data]) #.dropna(axis=1, how=\"all\")])\n"
      ]
     },
     "metadata": {},
     "output_type": "display_data"
    },
    {
     "data": {
      "text/html": [
       "<pre style=\"white-space:pre;overflow-x:auto;line-height:normal;font-family:Menlo,'DejaVu Sans Mono',consolas,'Courier New',monospace\">/var/folders/7t/k8q3439j6z3c683j7w00wtm80000gn/T/ipykernel_58430/330735155.py:26: FutureWarning: The behavior of \n",
       "DataFrame concatenation with empty or all-NA entries is deprecated. In a future version, this will no longer \n",
       "exclude empty or all-NA columns when determining the result dtypes. To retain the old behavior, exclude the \n",
       "relevant entries before the concat operation.\n",
       "  results = pd.concat([results, normalized_data]) #.dropna(axis=1, how=\"all\")])\n",
       "</pre>\n"
      ],
      "text/plain": [
       "/var/folders/7t/k8q3439j6z3c683j7w00wtm80000gn/T/ipykernel_58430/330735155.py:26: FutureWarning: The behavior of \n",
       "DataFrame concatenation with empty or all-NA entries is deprecated. In a future version, this will no longer \n",
       "exclude empty or all-NA columns when determining the result dtypes. To retain the old behavior, exclude the \n",
       "relevant entries before the concat operation.\n",
       "  results = pd.concat([results, normalized_data]) #.dropna(axis=1, how=\"all\")])\n"
      ]
     },
     "metadata": {},
     "output_type": "display_data"
    },
    {
     "data": {
      "text/html": [
       "<pre style=\"white-space:pre;overflow-x:auto;line-height:normal;font-family:Menlo,'DejaVu Sans Mono',consolas,'Courier New',monospace\">/var/folders/7t/k8q3439j6z3c683j7w00wtm80000gn/T/ipykernel_58430/330735155.py:26: FutureWarning: The behavior of \n",
       "DataFrame concatenation with empty or all-NA entries is deprecated. In a future version, this will no longer \n",
       "exclude empty or all-NA columns when determining the result dtypes. To retain the old behavior, exclude the \n",
       "relevant entries before the concat operation.\n",
       "  results = pd.concat([results, normalized_data]) #.dropna(axis=1, how=\"all\")])\n",
       "</pre>\n"
      ],
      "text/plain": [
       "/var/folders/7t/k8q3439j6z3c683j7w00wtm80000gn/T/ipykernel_58430/330735155.py:26: FutureWarning: The behavior of \n",
       "DataFrame concatenation with empty or all-NA entries is deprecated. In a future version, this will no longer \n",
       "exclude empty or all-NA columns when determining the result dtypes. To retain the old behavior, exclude the \n",
       "relevant entries before the concat operation.\n",
       "  results = pd.concat([results, normalized_data]) #.dropna(axis=1, how=\"all\")])\n"
      ]
     },
     "metadata": {},
     "output_type": "display_data"
    },
    {
     "data": {
      "text/html": [
       "<pre style=\"white-space:pre;overflow-x:auto;line-height:normal;font-family:Menlo,'DejaVu Sans Mono',consolas,'Courier New',monospace\">/var/folders/7t/k8q3439j6z3c683j7w00wtm80000gn/T/ipykernel_58430/330735155.py:26: FutureWarning: The behavior of \n",
       "DataFrame concatenation with empty or all-NA entries is deprecated. In a future version, this will no longer \n",
       "exclude empty or all-NA columns when determining the result dtypes. To retain the old behavior, exclude the \n",
       "relevant entries before the concat operation.\n",
       "  results = pd.concat([results, normalized_data]) #.dropna(axis=1, how=\"all\")])\n",
       "</pre>\n"
      ],
      "text/plain": [
       "/var/folders/7t/k8q3439j6z3c683j7w00wtm80000gn/T/ipykernel_58430/330735155.py:26: FutureWarning: The behavior of \n",
       "DataFrame concatenation with empty or all-NA entries is deprecated. In a future version, this will no longer \n",
       "exclude empty or all-NA columns when determining the result dtypes. To retain the old behavior, exclude the \n",
       "relevant entries before the concat operation.\n",
       "  results = pd.concat([results, normalized_data]) #.dropna(axis=1, how=\"all\")])\n"
      ]
     },
     "metadata": {},
     "output_type": "display_data"
    },
    {
     "data": {
      "text/html": [
       "<pre style=\"white-space:pre;overflow-x:auto;line-height:normal;font-family:Menlo,'DejaVu Sans Mono',consolas,'Courier New',monospace\">/var/folders/7t/k8q3439j6z3c683j7w00wtm80000gn/T/ipykernel_58430/330735155.py:26: FutureWarning: The behavior of \n",
       "DataFrame concatenation with empty or all-NA entries is deprecated. In a future version, this will no longer \n",
       "exclude empty or all-NA columns when determining the result dtypes. To retain the old behavior, exclude the \n",
       "relevant entries before the concat operation.\n",
       "  results = pd.concat([results, normalized_data]) #.dropna(axis=1, how=\"all\")])\n",
       "</pre>\n"
      ],
      "text/plain": [
       "/var/folders/7t/k8q3439j6z3c683j7w00wtm80000gn/T/ipykernel_58430/330735155.py:26: FutureWarning: The behavior of \n",
       "DataFrame concatenation with empty or all-NA entries is deprecated. In a future version, this will no longer \n",
       "exclude empty or all-NA columns when determining the result dtypes. To retain the old behavior, exclude the \n",
       "relevant entries before the concat operation.\n",
       "  results = pd.concat([results, normalized_data]) #.dropna(axis=1, how=\"all\")])\n"
      ]
     },
     "metadata": {},
     "output_type": "display_data"
    },
    {
     "data": {
      "text/html": [
       "<pre style=\"white-space:pre;overflow-x:auto;line-height:normal;font-family:Menlo,'DejaVu Sans Mono',consolas,'Courier New',monospace\">/var/folders/7t/k8q3439j6z3c683j7w00wtm80000gn/T/ipykernel_58430/330735155.py:26: FutureWarning: The behavior of \n",
       "DataFrame concatenation with empty or all-NA entries is deprecated. In a future version, this will no longer \n",
       "exclude empty or all-NA columns when determining the result dtypes. To retain the old behavior, exclude the \n",
       "relevant entries before the concat operation.\n",
       "  results = pd.concat([results, normalized_data]) #.dropna(axis=1, how=\"all\")])\n",
       "</pre>\n"
      ],
      "text/plain": [
       "/var/folders/7t/k8q3439j6z3c683j7w00wtm80000gn/T/ipykernel_58430/330735155.py:26: FutureWarning: The behavior of \n",
       "DataFrame concatenation with empty or all-NA entries is deprecated. In a future version, this will no longer \n",
       "exclude empty or all-NA columns when determining the result dtypes. To retain the old behavior, exclude the \n",
       "relevant entries before the concat operation.\n",
       "  results = pd.concat([results, normalized_data]) #.dropna(axis=1, how=\"all\")])\n"
      ]
     },
     "metadata": {},
     "output_type": "display_data"
    },
    {
     "data": {
      "text/html": [
       "<pre style=\"white-space:pre;overflow-x:auto;line-height:normal;font-family:Menlo,'DejaVu Sans Mono',consolas,'Courier New',monospace\">/var/folders/7t/k8q3439j6z3c683j7w00wtm80000gn/T/ipykernel_58430/330735155.py:26: FutureWarning: The behavior of \n",
       "DataFrame concatenation with empty or all-NA entries is deprecated. In a future version, this will no longer \n",
       "exclude empty or all-NA columns when determining the result dtypes. To retain the old behavior, exclude the \n",
       "relevant entries before the concat operation.\n",
       "  results = pd.concat([results, normalized_data]) #.dropna(axis=1, how=\"all\")])\n",
       "</pre>\n"
      ],
      "text/plain": [
       "/var/folders/7t/k8q3439j6z3c683j7w00wtm80000gn/T/ipykernel_58430/330735155.py:26: FutureWarning: The behavior of \n",
       "DataFrame concatenation with empty or all-NA entries is deprecated. In a future version, this will no longer \n",
       "exclude empty or all-NA columns when determining the result dtypes. To retain the old behavior, exclude the \n",
       "relevant entries before the concat operation.\n",
       "  results = pd.concat([results, normalized_data]) #.dropna(axis=1, how=\"all\")])\n"
      ]
     },
     "metadata": {},
     "output_type": "display_data"
    },
    {
     "data": {
      "text/html": [
       "<pre style=\"white-space:pre;overflow-x:auto;line-height:normal;font-family:Menlo,'DejaVu Sans Mono',consolas,'Courier New',monospace\">/var/folders/7t/k8q3439j6z3c683j7w00wtm80000gn/T/ipykernel_58430/330735155.py:26: FutureWarning: The behavior of \n",
       "DataFrame concatenation with empty or all-NA entries is deprecated. In a future version, this will no longer \n",
       "exclude empty or all-NA columns when determining the result dtypes. To retain the old behavior, exclude the \n",
       "relevant entries before the concat operation.\n",
       "  results = pd.concat([results, normalized_data]) #.dropna(axis=1, how=\"all\")])\n",
       "</pre>\n"
      ],
      "text/plain": [
       "/var/folders/7t/k8q3439j6z3c683j7w00wtm80000gn/T/ipykernel_58430/330735155.py:26: FutureWarning: The behavior of \n",
       "DataFrame concatenation with empty or all-NA entries is deprecated. In a future version, this will no longer \n",
       "exclude empty or all-NA columns when determining the result dtypes. To retain the old behavior, exclude the \n",
       "relevant entries before the concat operation.\n",
       "  results = pd.concat([results, normalized_data]) #.dropna(axis=1, how=\"all\")])\n"
      ]
     },
     "metadata": {},
     "output_type": "display_data"
    },
    {
     "data": {
      "text/html": [
       "<pre style=\"white-space:pre;overflow-x:auto;line-height:normal;font-family:Menlo,'DejaVu Sans Mono',consolas,'Courier New',monospace\">/var/folders/7t/k8q3439j6z3c683j7w00wtm80000gn/T/ipykernel_58430/330735155.py:26: FutureWarning: The behavior of \n",
       "DataFrame concatenation with empty or all-NA entries is deprecated. In a future version, this will no longer \n",
       "exclude empty or all-NA columns when determining the result dtypes. To retain the old behavior, exclude the \n",
       "relevant entries before the concat operation.\n",
       "  results = pd.concat([results, normalized_data]) #.dropna(axis=1, how=\"all\")])\n",
       "</pre>\n"
      ],
      "text/plain": [
       "/var/folders/7t/k8q3439j6z3c683j7w00wtm80000gn/T/ipykernel_58430/330735155.py:26: FutureWarning: The behavior of \n",
       "DataFrame concatenation with empty or all-NA entries is deprecated. In a future version, this will no longer \n",
       "exclude empty or all-NA columns when determining the result dtypes. To retain the old behavior, exclude the \n",
       "relevant entries before the concat operation.\n",
       "  results = pd.concat([results, normalized_data]) #.dropna(axis=1, how=\"all\")])\n"
      ]
     },
     "metadata": {},
     "output_type": "display_data"
    },
    {
     "data": {
      "text/html": [
       "<pre style=\"white-space:pre;overflow-x:auto;line-height:normal;font-family:Menlo,'DejaVu Sans Mono',consolas,'Courier New',monospace\">/var/folders/7t/k8q3439j6z3c683j7w00wtm80000gn/T/ipykernel_58430/330735155.py:26: FutureWarning: The behavior of \n",
       "DataFrame concatenation with empty or all-NA entries is deprecated. In a future version, this will no longer \n",
       "exclude empty or all-NA columns when determining the result dtypes. To retain the old behavior, exclude the \n",
       "relevant entries before the concat operation.\n",
       "  results = pd.concat([results, normalized_data]) #.dropna(axis=1, how=\"all\")])\n",
       "</pre>\n"
      ],
      "text/plain": [
       "/var/folders/7t/k8q3439j6z3c683j7w00wtm80000gn/T/ipykernel_58430/330735155.py:26: FutureWarning: The behavior of \n",
       "DataFrame concatenation with empty or all-NA entries is deprecated. In a future version, this will no longer \n",
       "exclude empty or all-NA columns when determining the result dtypes. To retain the old behavior, exclude the \n",
       "relevant entries before the concat operation.\n",
       "  results = pd.concat([results, normalized_data]) #.dropna(axis=1, how=\"all\")])\n"
      ]
     },
     "metadata": {},
     "output_type": "display_data"
    },
    {
     "data": {
      "text/html": [
       "<pre style=\"white-space:pre;overflow-x:auto;line-height:normal;font-family:Menlo,'DejaVu Sans Mono',consolas,'Courier New',monospace\">/var/folders/7t/k8q3439j6z3c683j7w00wtm80000gn/T/ipykernel_58430/330735155.py:26: FutureWarning: The behavior of \n",
       "DataFrame concatenation with empty or all-NA entries is deprecated. In a future version, this will no longer \n",
       "exclude empty or all-NA columns when determining the result dtypes. To retain the old behavior, exclude the \n",
       "relevant entries before the concat operation.\n",
       "  results = pd.concat([results, normalized_data]) #.dropna(axis=1, how=\"all\")])\n",
       "</pre>\n"
      ],
      "text/plain": [
       "/var/folders/7t/k8q3439j6z3c683j7w00wtm80000gn/T/ipykernel_58430/330735155.py:26: FutureWarning: The behavior of \n",
       "DataFrame concatenation with empty or all-NA entries is deprecated. In a future version, this will no longer \n",
       "exclude empty or all-NA columns when determining the result dtypes. To retain the old behavior, exclude the \n",
       "relevant entries before the concat operation.\n",
       "  results = pd.concat([results, normalized_data]) #.dropna(axis=1, how=\"all\")])\n"
      ]
     },
     "metadata": {},
     "output_type": "display_data"
    },
    {
     "data": {
      "text/html": [
       "<pre style=\"white-space:pre;overflow-x:auto;line-height:normal;font-family:Menlo,'DejaVu Sans Mono',consolas,'Courier New',monospace\">/var/folders/7t/k8q3439j6z3c683j7w00wtm80000gn/T/ipykernel_58430/330735155.py:26: FutureWarning: The behavior of \n",
       "DataFrame concatenation with empty or all-NA entries is deprecated. In a future version, this will no longer \n",
       "exclude empty or all-NA columns when determining the result dtypes. To retain the old behavior, exclude the \n",
       "relevant entries before the concat operation.\n",
       "  results = pd.concat([results, normalized_data]) #.dropna(axis=1, how=\"all\")])\n",
       "</pre>\n"
      ],
      "text/plain": [
       "/var/folders/7t/k8q3439j6z3c683j7w00wtm80000gn/T/ipykernel_58430/330735155.py:26: FutureWarning: The behavior of \n",
       "DataFrame concatenation with empty or all-NA entries is deprecated. In a future version, this will no longer \n",
       "exclude empty or all-NA columns when determining the result dtypes. To retain the old behavior, exclude the \n",
       "relevant entries before the concat operation.\n",
       "  results = pd.concat([results, normalized_data]) #.dropna(axis=1, how=\"all\")])\n"
      ]
     },
     "metadata": {},
     "output_type": "display_data"
    },
    {
     "data": {
      "text/html": [
       "<pre style=\"white-space:pre;overflow-x:auto;line-height:normal;font-family:Menlo,'DejaVu Sans Mono',consolas,'Courier New',monospace\">/var/folders/7t/k8q3439j6z3c683j7w00wtm80000gn/T/ipykernel_58430/330735155.py:26: FutureWarning: The behavior of \n",
       "DataFrame concatenation with empty or all-NA entries is deprecated. In a future version, this will no longer \n",
       "exclude empty or all-NA columns when determining the result dtypes. To retain the old behavior, exclude the \n",
       "relevant entries before the concat operation.\n",
       "  results = pd.concat([results, normalized_data]) #.dropna(axis=1, how=\"all\")])\n",
       "</pre>\n"
      ],
      "text/plain": [
       "/var/folders/7t/k8q3439j6z3c683j7w00wtm80000gn/T/ipykernel_58430/330735155.py:26: FutureWarning: The behavior of \n",
       "DataFrame concatenation with empty or all-NA entries is deprecated. In a future version, this will no longer \n",
       "exclude empty or all-NA columns when determining the result dtypes. To retain the old behavior, exclude the \n",
       "relevant entries before the concat operation.\n",
       "  results = pd.concat([results, normalized_data]) #.dropna(axis=1, how=\"all\")])\n"
      ]
     },
     "metadata": {},
     "output_type": "display_data"
    },
    {
     "data": {
      "text/html": [
       "<pre style=\"white-space:pre;overflow-x:auto;line-height:normal;font-family:Menlo,'DejaVu Sans Mono',consolas,'Courier New',monospace\">/var/folders/7t/k8q3439j6z3c683j7w00wtm80000gn/T/ipykernel_58430/330735155.py:26: FutureWarning: The behavior of \n",
       "DataFrame concatenation with empty or all-NA entries is deprecated. In a future version, this will no longer \n",
       "exclude empty or all-NA columns when determining the result dtypes. To retain the old behavior, exclude the \n",
       "relevant entries before the concat operation.\n",
       "  results = pd.concat([results, normalized_data]) #.dropna(axis=1, how=\"all\")])\n",
       "</pre>\n"
      ],
      "text/plain": [
       "/var/folders/7t/k8q3439j6z3c683j7w00wtm80000gn/T/ipykernel_58430/330735155.py:26: FutureWarning: The behavior of \n",
       "DataFrame concatenation with empty or all-NA entries is deprecated. In a future version, this will no longer \n",
       "exclude empty or all-NA columns when determining the result dtypes. To retain the old behavior, exclude the \n",
       "relevant entries before the concat operation.\n",
       "  results = pd.concat([results, normalized_data]) #.dropna(axis=1, how=\"all\")])\n"
      ]
     },
     "metadata": {},
     "output_type": "display_data"
    },
    {
     "data": {
      "text/html": [
       "<pre style=\"white-space:pre;overflow-x:auto;line-height:normal;font-family:Menlo,'DejaVu Sans Mono',consolas,'Courier New',monospace\">/var/folders/7t/k8q3439j6z3c683j7w00wtm80000gn/T/ipykernel_58430/330735155.py:26: FutureWarning: The behavior of \n",
       "DataFrame concatenation with empty or all-NA entries is deprecated. In a future version, this will no longer \n",
       "exclude empty or all-NA columns when determining the result dtypes. To retain the old behavior, exclude the \n",
       "relevant entries before the concat operation.\n",
       "  results = pd.concat([results, normalized_data]) #.dropna(axis=1, how=\"all\")])\n",
       "</pre>\n"
      ],
      "text/plain": [
       "/var/folders/7t/k8q3439j6z3c683j7w00wtm80000gn/T/ipykernel_58430/330735155.py:26: FutureWarning: The behavior of \n",
       "DataFrame concatenation with empty or all-NA entries is deprecated. In a future version, this will no longer \n",
       "exclude empty or all-NA columns when determining the result dtypes. To retain the old behavior, exclude the \n",
       "relevant entries before the concat operation.\n",
       "  results = pd.concat([results, normalized_data]) #.dropna(axis=1, how=\"all\")])\n"
      ]
     },
     "metadata": {},
     "output_type": "display_data"
    },
    {
     "data": {
      "text/html": [
       "<pre style=\"white-space:pre;overflow-x:auto;line-height:normal;font-family:Menlo,'DejaVu Sans Mono',consolas,'Courier New',monospace\">/var/folders/7t/k8q3439j6z3c683j7w00wtm80000gn/T/ipykernel_58430/330735155.py:26: FutureWarning: The behavior of \n",
       "DataFrame concatenation with empty or all-NA entries is deprecated. In a future version, this will no longer \n",
       "exclude empty or all-NA columns when determining the result dtypes. To retain the old behavior, exclude the \n",
       "relevant entries before the concat operation.\n",
       "  results = pd.concat([results, normalized_data]) #.dropna(axis=1, how=\"all\")])\n",
       "</pre>\n"
      ],
      "text/plain": [
       "/var/folders/7t/k8q3439j6z3c683j7w00wtm80000gn/T/ipykernel_58430/330735155.py:26: FutureWarning: The behavior of \n",
       "DataFrame concatenation with empty or all-NA entries is deprecated. In a future version, this will no longer \n",
       "exclude empty or all-NA columns when determining the result dtypes. To retain the old behavior, exclude the \n",
       "relevant entries before the concat operation.\n",
       "  results = pd.concat([results, normalized_data]) #.dropna(axis=1, how=\"all\")])\n"
      ]
     },
     "metadata": {},
     "output_type": "display_data"
    },
    {
     "data": {
      "text/html": [
       "<pre style=\"white-space:pre;overflow-x:auto;line-height:normal;font-family:Menlo,'DejaVu Sans Mono',consolas,'Courier New',monospace\">/var/folders/7t/k8q3439j6z3c683j7w00wtm80000gn/T/ipykernel_58430/330735155.py:26: FutureWarning: The behavior of \n",
       "DataFrame concatenation with empty or all-NA entries is deprecated. In a future version, this will no longer \n",
       "exclude empty or all-NA columns when determining the result dtypes. To retain the old behavior, exclude the \n",
       "relevant entries before the concat operation.\n",
       "  results = pd.concat([results, normalized_data]) #.dropna(axis=1, how=\"all\")])\n",
       "</pre>\n"
      ],
      "text/plain": [
       "/var/folders/7t/k8q3439j6z3c683j7w00wtm80000gn/T/ipykernel_58430/330735155.py:26: FutureWarning: The behavior of \n",
       "DataFrame concatenation with empty or all-NA entries is deprecated. In a future version, this will no longer \n",
       "exclude empty or all-NA columns when determining the result dtypes. To retain the old behavior, exclude the \n",
       "relevant entries before the concat operation.\n",
       "  results = pd.concat([results, normalized_data]) #.dropna(axis=1, how=\"all\")])\n"
      ]
     },
     "metadata": {},
     "output_type": "display_data"
    },
    {
     "data": {
      "text/html": [
       "<pre style=\"white-space:pre;overflow-x:auto;line-height:normal;font-family:Menlo,'DejaVu Sans Mono',consolas,'Courier New',monospace\">/var/folders/7t/k8q3439j6z3c683j7w00wtm80000gn/T/ipykernel_58430/330735155.py:26: FutureWarning: The behavior of \n",
       "DataFrame concatenation with empty or all-NA entries is deprecated. In a future version, this will no longer \n",
       "exclude empty or all-NA columns when determining the result dtypes. To retain the old behavior, exclude the \n",
       "relevant entries before the concat operation.\n",
       "  results = pd.concat([results, normalized_data]) #.dropna(axis=1, how=\"all\")])\n",
       "</pre>\n"
      ],
      "text/plain": [
       "/var/folders/7t/k8q3439j6z3c683j7w00wtm80000gn/T/ipykernel_58430/330735155.py:26: FutureWarning: The behavior of \n",
       "DataFrame concatenation with empty or all-NA entries is deprecated. In a future version, this will no longer \n",
       "exclude empty or all-NA columns when determining the result dtypes. To retain the old behavior, exclude the \n",
       "relevant entries before the concat operation.\n",
       "  results = pd.concat([results, normalized_data]) #.dropna(axis=1, how=\"all\")])\n"
      ]
     },
     "metadata": {},
     "output_type": "display_data"
    },
    {
     "data": {
      "text/html": [
       "<pre style=\"white-space:pre;overflow-x:auto;line-height:normal;font-family:Menlo,'DejaVu Sans Mono',consolas,'Courier New',monospace\">/var/folders/7t/k8q3439j6z3c683j7w00wtm80000gn/T/ipykernel_58430/330735155.py:26: FutureWarning: The behavior of \n",
       "DataFrame concatenation with empty or all-NA entries is deprecated. In a future version, this will no longer \n",
       "exclude empty or all-NA columns when determining the result dtypes. To retain the old behavior, exclude the \n",
       "relevant entries before the concat operation.\n",
       "  results = pd.concat([results, normalized_data]) #.dropna(axis=1, how=\"all\")])\n",
       "</pre>\n"
      ],
      "text/plain": [
       "/var/folders/7t/k8q3439j6z3c683j7w00wtm80000gn/T/ipykernel_58430/330735155.py:26: FutureWarning: The behavior of \n",
       "DataFrame concatenation with empty or all-NA entries is deprecated. In a future version, this will no longer \n",
       "exclude empty or all-NA columns when determining the result dtypes. To retain the old behavior, exclude the \n",
       "relevant entries before the concat operation.\n",
       "  results = pd.concat([results, normalized_data]) #.dropna(axis=1, how=\"all\")])\n"
      ]
     },
     "metadata": {},
     "output_type": "display_data"
    },
    {
     "data": {
      "text/html": [
       "<pre style=\"white-space:pre;overflow-x:auto;line-height:normal;font-family:Menlo,'DejaVu Sans Mono',consolas,'Courier New',monospace\">/var/folders/7t/k8q3439j6z3c683j7w00wtm80000gn/T/ipykernel_58430/330735155.py:26: FutureWarning: The behavior of \n",
       "DataFrame concatenation with empty or all-NA entries is deprecated. In a future version, this will no longer \n",
       "exclude empty or all-NA columns when determining the result dtypes. To retain the old behavior, exclude the \n",
       "relevant entries before the concat operation.\n",
       "  results = pd.concat([results, normalized_data]) #.dropna(axis=1, how=\"all\")])\n",
       "</pre>\n"
      ],
      "text/plain": [
       "/var/folders/7t/k8q3439j6z3c683j7w00wtm80000gn/T/ipykernel_58430/330735155.py:26: FutureWarning: The behavior of \n",
       "DataFrame concatenation with empty or all-NA entries is deprecated. In a future version, this will no longer \n",
       "exclude empty or all-NA columns when determining the result dtypes. To retain the old behavior, exclude the \n",
       "relevant entries before the concat operation.\n",
       "  results = pd.concat([results, normalized_data]) #.dropna(axis=1, how=\"all\")])\n"
      ]
     },
     "metadata": {},
     "output_type": "display_data"
    },
    {
     "data": {
      "text/html": [
       "<pre style=\"white-space:pre;overflow-x:auto;line-height:normal;font-family:Menlo,'DejaVu Sans Mono',consolas,'Courier New',monospace\">/var/folders/7t/k8q3439j6z3c683j7w00wtm80000gn/T/ipykernel_58430/330735155.py:26: FutureWarning: The behavior of \n",
       "DataFrame concatenation with empty or all-NA entries is deprecated. In a future version, this will no longer \n",
       "exclude empty or all-NA columns when determining the result dtypes. To retain the old behavior, exclude the \n",
       "relevant entries before the concat operation.\n",
       "  results = pd.concat([results, normalized_data]) #.dropna(axis=1, how=\"all\")])\n",
       "</pre>\n"
      ],
      "text/plain": [
       "/var/folders/7t/k8q3439j6z3c683j7w00wtm80000gn/T/ipykernel_58430/330735155.py:26: FutureWarning: The behavior of \n",
       "DataFrame concatenation with empty or all-NA entries is deprecated. In a future version, this will no longer \n",
       "exclude empty or all-NA columns when determining the result dtypes. To retain the old behavior, exclude the \n",
       "relevant entries before the concat operation.\n",
       "  results = pd.concat([results, normalized_data]) #.dropna(axis=1, how=\"all\")])\n"
      ]
     },
     "metadata": {},
     "output_type": "display_data"
    },
    {
     "data": {
      "text/html": [
       "<pre style=\"white-space:pre;overflow-x:auto;line-height:normal;font-family:Menlo,'DejaVu Sans Mono',consolas,'Courier New',monospace\">/var/folders/7t/k8q3439j6z3c683j7w00wtm80000gn/T/ipykernel_58430/330735155.py:26: FutureWarning: The behavior of \n",
       "DataFrame concatenation with empty or all-NA entries is deprecated. In a future version, this will no longer \n",
       "exclude empty or all-NA columns when determining the result dtypes. To retain the old behavior, exclude the \n",
       "relevant entries before the concat operation.\n",
       "  results = pd.concat([results, normalized_data]) #.dropna(axis=1, how=\"all\")])\n",
       "</pre>\n"
      ],
      "text/plain": [
       "/var/folders/7t/k8q3439j6z3c683j7w00wtm80000gn/T/ipykernel_58430/330735155.py:26: FutureWarning: The behavior of \n",
       "DataFrame concatenation with empty or all-NA entries is deprecated. In a future version, this will no longer \n",
       "exclude empty or all-NA columns when determining the result dtypes. To retain the old behavior, exclude the \n",
       "relevant entries before the concat operation.\n",
       "  results = pd.concat([results, normalized_data]) #.dropna(axis=1, how=\"all\")])\n"
      ]
     },
     "metadata": {},
     "output_type": "display_data"
    },
    {
     "data": {
      "text/html": [
       "<pre style=\"white-space:pre;overflow-x:auto;line-height:normal;font-family:Menlo,'DejaVu Sans Mono',consolas,'Courier New',monospace\">/var/folders/7t/k8q3439j6z3c683j7w00wtm80000gn/T/ipykernel_58430/330735155.py:26: FutureWarning: The behavior of \n",
       "DataFrame concatenation with empty or all-NA entries is deprecated. In a future version, this will no longer \n",
       "exclude empty or all-NA columns when determining the result dtypes. To retain the old behavior, exclude the \n",
       "relevant entries before the concat operation.\n",
       "  results = pd.concat([results, normalized_data]) #.dropna(axis=1, how=\"all\")])\n",
       "</pre>\n"
      ],
      "text/plain": [
       "/var/folders/7t/k8q3439j6z3c683j7w00wtm80000gn/T/ipykernel_58430/330735155.py:26: FutureWarning: The behavior of \n",
       "DataFrame concatenation with empty or all-NA entries is deprecated. In a future version, this will no longer \n",
       "exclude empty or all-NA columns when determining the result dtypes. To retain the old behavior, exclude the \n",
       "relevant entries before the concat operation.\n",
       "  results = pd.concat([results, normalized_data]) #.dropna(axis=1, how=\"all\")])\n"
      ]
     },
     "metadata": {},
     "output_type": "display_data"
    },
    {
     "data": {
      "text/html": [
       "<pre style=\"white-space:pre;overflow-x:auto;line-height:normal;font-family:Menlo,'DejaVu Sans Mono',consolas,'Courier New',monospace\">/var/folders/7t/k8q3439j6z3c683j7w00wtm80000gn/T/ipykernel_58430/330735155.py:26: FutureWarning: The behavior of \n",
       "DataFrame concatenation with empty or all-NA entries is deprecated. In a future version, this will no longer \n",
       "exclude empty or all-NA columns when determining the result dtypes. To retain the old behavior, exclude the \n",
       "relevant entries before the concat operation.\n",
       "  results = pd.concat([results, normalized_data]) #.dropna(axis=1, how=\"all\")])\n",
       "</pre>\n"
      ],
      "text/plain": [
       "/var/folders/7t/k8q3439j6z3c683j7w00wtm80000gn/T/ipykernel_58430/330735155.py:26: FutureWarning: The behavior of \n",
       "DataFrame concatenation with empty or all-NA entries is deprecated. In a future version, this will no longer \n",
       "exclude empty or all-NA columns when determining the result dtypes. To retain the old behavior, exclude the \n",
       "relevant entries before the concat operation.\n",
       "  results = pd.concat([results, normalized_data]) #.dropna(axis=1, how=\"all\")])\n"
      ]
     },
     "metadata": {},
     "output_type": "display_data"
    },
    {
     "data": {
      "text/html": [
       "<pre style=\"white-space:pre;overflow-x:auto;line-height:normal;font-family:Menlo,'DejaVu Sans Mono',consolas,'Courier New',monospace\">/var/folders/7t/k8q3439j6z3c683j7w00wtm80000gn/T/ipykernel_58430/330735155.py:26: FutureWarning: The behavior of \n",
       "DataFrame concatenation with empty or all-NA entries is deprecated. In a future version, this will no longer \n",
       "exclude empty or all-NA columns when determining the result dtypes. To retain the old behavior, exclude the \n",
       "relevant entries before the concat operation.\n",
       "  results = pd.concat([results, normalized_data]) #.dropna(axis=1, how=\"all\")])\n",
       "</pre>\n"
      ],
      "text/plain": [
       "/var/folders/7t/k8q3439j6z3c683j7w00wtm80000gn/T/ipykernel_58430/330735155.py:26: FutureWarning: The behavior of \n",
       "DataFrame concatenation with empty or all-NA entries is deprecated. In a future version, this will no longer \n",
       "exclude empty or all-NA columns when determining the result dtypes. To retain the old behavior, exclude the \n",
       "relevant entries before the concat operation.\n",
       "  results = pd.concat([results, normalized_data]) #.dropna(axis=1, how=\"all\")])\n"
      ]
     },
     "metadata": {},
     "output_type": "display_data"
    },
    {
     "data": {
      "text/html": [
       "<pre style=\"white-space:pre;overflow-x:auto;line-height:normal;font-family:Menlo,'DejaVu Sans Mono',consolas,'Courier New',monospace\">/var/folders/7t/k8q3439j6z3c683j7w00wtm80000gn/T/ipykernel_58430/330735155.py:26: FutureWarning: The behavior of \n",
       "DataFrame concatenation with empty or all-NA entries is deprecated. In a future version, this will no longer \n",
       "exclude empty or all-NA columns when determining the result dtypes. To retain the old behavior, exclude the \n",
       "relevant entries before the concat operation.\n",
       "  results = pd.concat([results, normalized_data]) #.dropna(axis=1, how=\"all\")])\n",
       "</pre>\n"
      ],
      "text/plain": [
       "/var/folders/7t/k8q3439j6z3c683j7w00wtm80000gn/T/ipykernel_58430/330735155.py:26: FutureWarning: The behavior of \n",
       "DataFrame concatenation with empty or all-NA entries is deprecated. In a future version, this will no longer \n",
       "exclude empty or all-NA columns when determining the result dtypes. To retain the old behavior, exclude the \n",
       "relevant entries before the concat operation.\n",
       "  results = pd.concat([results, normalized_data]) #.dropna(axis=1, how=\"all\")])\n"
      ]
     },
     "metadata": {},
     "output_type": "display_data"
    },
    {
     "data": {
      "text/html": [
       "<pre style=\"white-space:pre;overflow-x:auto;line-height:normal;font-family:Menlo,'DejaVu Sans Mono',consolas,'Courier New',monospace\">/var/folders/7t/k8q3439j6z3c683j7w00wtm80000gn/T/ipykernel_58430/330735155.py:26: FutureWarning: The behavior of \n",
       "DataFrame concatenation with empty or all-NA entries is deprecated. In a future version, this will no longer \n",
       "exclude empty or all-NA columns when determining the result dtypes. To retain the old behavior, exclude the \n",
       "relevant entries before the concat operation.\n",
       "  results = pd.concat([results, normalized_data]) #.dropna(axis=1, how=\"all\")])\n",
       "</pre>\n"
      ],
      "text/plain": [
       "/var/folders/7t/k8q3439j6z3c683j7w00wtm80000gn/T/ipykernel_58430/330735155.py:26: FutureWarning: The behavior of \n",
       "DataFrame concatenation with empty or all-NA entries is deprecated. In a future version, this will no longer \n",
       "exclude empty or all-NA columns when determining the result dtypes. To retain the old behavior, exclude the \n",
       "relevant entries before the concat operation.\n",
       "  results = pd.concat([results, normalized_data]) #.dropna(axis=1, how=\"all\")])\n"
      ]
     },
     "metadata": {},
     "output_type": "display_data"
    },
    {
     "data": {
      "text/html": [
       "<pre style=\"white-space:pre;overflow-x:auto;line-height:normal;font-family:Menlo,'DejaVu Sans Mono',consolas,'Courier New',monospace\">/var/folders/7t/k8q3439j6z3c683j7w00wtm80000gn/T/ipykernel_58430/330735155.py:26: FutureWarning: The behavior of \n",
       "DataFrame concatenation with empty or all-NA entries is deprecated. In a future version, this will no longer \n",
       "exclude empty or all-NA columns when determining the result dtypes. To retain the old behavior, exclude the \n",
       "relevant entries before the concat operation.\n",
       "  results = pd.concat([results, normalized_data]) #.dropna(axis=1, how=\"all\")])\n",
       "</pre>\n"
      ],
      "text/plain": [
       "/var/folders/7t/k8q3439j6z3c683j7w00wtm80000gn/T/ipykernel_58430/330735155.py:26: FutureWarning: The behavior of \n",
       "DataFrame concatenation with empty or all-NA entries is deprecated. In a future version, this will no longer \n",
       "exclude empty or all-NA columns when determining the result dtypes. To retain the old behavior, exclude the \n",
       "relevant entries before the concat operation.\n",
       "  results = pd.concat([results, normalized_data]) #.dropna(axis=1, how=\"all\")])\n"
      ]
     },
     "metadata": {},
     "output_type": "display_data"
    },
    {
     "data": {
      "text/html": [
       "<pre style=\"white-space:pre;overflow-x:auto;line-height:normal;font-family:Menlo,'DejaVu Sans Mono',consolas,'Courier New',monospace\">/var/folders/7t/k8q3439j6z3c683j7w00wtm80000gn/T/ipykernel_58430/330735155.py:26: FutureWarning: The behavior of \n",
       "DataFrame concatenation with empty or all-NA entries is deprecated. In a future version, this will no longer \n",
       "exclude empty or all-NA columns when determining the result dtypes. To retain the old behavior, exclude the \n",
       "relevant entries before the concat operation.\n",
       "  results = pd.concat([results, normalized_data]) #.dropna(axis=1, how=\"all\")])\n",
       "</pre>\n"
      ],
      "text/plain": [
       "/var/folders/7t/k8q3439j6z3c683j7w00wtm80000gn/T/ipykernel_58430/330735155.py:26: FutureWarning: The behavior of \n",
       "DataFrame concatenation with empty or all-NA entries is deprecated. In a future version, this will no longer \n",
       "exclude empty or all-NA columns when determining the result dtypes. To retain the old behavior, exclude the \n",
       "relevant entries before the concat operation.\n",
       "  results = pd.concat([results, normalized_data]) #.dropna(axis=1, how=\"all\")])\n"
      ]
     },
     "metadata": {},
     "output_type": "display_data"
    },
    {
     "data": {
      "text/html": [
       "<pre style=\"white-space:pre;overflow-x:auto;line-height:normal;font-family:Menlo,'DejaVu Sans Mono',consolas,'Courier New',monospace\">/var/folders/7t/k8q3439j6z3c683j7w00wtm80000gn/T/ipykernel_58430/330735155.py:26: FutureWarning: The behavior of \n",
       "DataFrame concatenation with empty or all-NA entries is deprecated. In a future version, this will no longer \n",
       "exclude empty or all-NA columns when determining the result dtypes. To retain the old behavior, exclude the \n",
       "relevant entries before the concat operation.\n",
       "  results = pd.concat([results, normalized_data]) #.dropna(axis=1, how=\"all\")])\n",
       "</pre>\n"
      ],
      "text/plain": [
       "/var/folders/7t/k8q3439j6z3c683j7w00wtm80000gn/T/ipykernel_58430/330735155.py:26: FutureWarning: The behavior of \n",
       "DataFrame concatenation with empty or all-NA entries is deprecated. In a future version, this will no longer \n",
       "exclude empty or all-NA columns when determining the result dtypes. To retain the old behavior, exclude the \n",
       "relevant entries before the concat operation.\n",
       "  results = pd.concat([results, normalized_data]) #.dropna(axis=1, how=\"all\")])\n"
      ]
     },
     "metadata": {},
     "output_type": "display_data"
    },
    {
     "data": {
      "text/html": [
       "<pre style=\"white-space:pre;overflow-x:auto;line-height:normal;font-family:Menlo,'DejaVu Sans Mono',consolas,'Courier New',monospace\">/var/folders/7t/k8q3439j6z3c683j7w00wtm80000gn/T/ipykernel_58430/330735155.py:26: FutureWarning: The behavior of \n",
       "DataFrame concatenation with empty or all-NA entries is deprecated. In a future version, this will no longer \n",
       "exclude empty or all-NA columns when determining the result dtypes. To retain the old behavior, exclude the \n",
       "relevant entries before the concat operation.\n",
       "  results = pd.concat([results, normalized_data]) #.dropna(axis=1, how=\"all\")])\n",
       "</pre>\n"
      ],
      "text/plain": [
       "/var/folders/7t/k8q3439j6z3c683j7w00wtm80000gn/T/ipykernel_58430/330735155.py:26: FutureWarning: The behavior of \n",
       "DataFrame concatenation with empty or all-NA entries is deprecated. In a future version, this will no longer \n",
       "exclude empty or all-NA columns when determining the result dtypes. To retain the old behavior, exclude the \n",
       "relevant entries before the concat operation.\n",
       "  results = pd.concat([results, normalized_data]) #.dropna(axis=1, how=\"all\")])\n"
      ]
     },
     "metadata": {},
     "output_type": "display_data"
    },
    {
     "data": {
      "text/html": [
       "<pre style=\"white-space:pre;overflow-x:auto;line-height:normal;font-family:Menlo,'DejaVu Sans Mono',consolas,'Courier New',monospace\">/var/folders/7t/k8q3439j6z3c683j7w00wtm80000gn/T/ipykernel_58430/330735155.py:26: FutureWarning: The behavior of \n",
       "DataFrame concatenation with empty or all-NA entries is deprecated. In a future version, this will no longer \n",
       "exclude empty or all-NA columns when determining the result dtypes. To retain the old behavior, exclude the \n",
       "relevant entries before the concat operation.\n",
       "  results = pd.concat([results, normalized_data]) #.dropna(axis=1, how=\"all\")])\n",
       "</pre>\n"
      ],
      "text/plain": [
       "/var/folders/7t/k8q3439j6z3c683j7w00wtm80000gn/T/ipykernel_58430/330735155.py:26: FutureWarning: The behavior of \n",
       "DataFrame concatenation with empty or all-NA entries is deprecated. In a future version, this will no longer \n",
       "exclude empty or all-NA columns when determining the result dtypes. To retain the old behavior, exclude the \n",
       "relevant entries before the concat operation.\n",
       "  results = pd.concat([results, normalized_data]) #.dropna(axis=1, how=\"all\")])\n"
      ]
     },
     "metadata": {},
     "output_type": "display_data"
    },
    {
     "data": {
      "text/html": [
       "<pre style=\"white-space:pre;overflow-x:auto;line-height:normal;font-family:Menlo,'DejaVu Sans Mono',consolas,'Courier New',monospace\">/var/folders/7t/k8q3439j6z3c683j7w00wtm80000gn/T/ipykernel_58430/330735155.py:26: FutureWarning: The behavior of \n",
       "DataFrame concatenation with empty or all-NA entries is deprecated. In a future version, this will no longer \n",
       "exclude empty or all-NA columns when determining the result dtypes. To retain the old behavior, exclude the \n",
       "relevant entries before the concat operation.\n",
       "  results = pd.concat([results, normalized_data]) #.dropna(axis=1, how=\"all\")])\n",
       "</pre>\n"
      ],
      "text/plain": [
       "/var/folders/7t/k8q3439j6z3c683j7w00wtm80000gn/T/ipykernel_58430/330735155.py:26: FutureWarning: The behavior of \n",
       "DataFrame concatenation with empty or all-NA entries is deprecated. In a future version, this will no longer \n",
       "exclude empty or all-NA columns when determining the result dtypes. To retain the old behavior, exclude the \n",
       "relevant entries before the concat operation.\n",
       "  results = pd.concat([results, normalized_data]) #.dropna(axis=1, how=\"all\")])\n"
      ]
     },
     "metadata": {},
     "output_type": "display_data"
    },
    {
     "data": {
      "text/html": [
       "<pre style=\"white-space:pre;overflow-x:auto;line-height:normal;font-family:Menlo,'DejaVu Sans Mono',consolas,'Courier New',monospace\">/var/folders/7t/k8q3439j6z3c683j7w00wtm80000gn/T/ipykernel_58430/330735155.py:26: FutureWarning: The behavior of \n",
       "DataFrame concatenation with empty or all-NA entries is deprecated. In a future version, this will no longer \n",
       "exclude empty or all-NA columns when determining the result dtypes. To retain the old behavior, exclude the \n",
       "relevant entries before the concat operation.\n",
       "  results = pd.concat([results, normalized_data]) #.dropna(axis=1, how=\"all\")])\n",
       "</pre>\n"
      ],
      "text/plain": [
       "/var/folders/7t/k8q3439j6z3c683j7w00wtm80000gn/T/ipykernel_58430/330735155.py:26: FutureWarning: The behavior of \n",
       "DataFrame concatenation with empty or all-NA entries is deprecated. In a future version, this will no longer \n",
       "exclude empty or all-NA columns when determining the result dtypes. To retain the old behavior, exclude the \n",
       "relevant entries before the concat operation.\n",
       "  results = pd.concat([results, normalized_data]) #.dropna(axis=1, how=\"all\")])\n"
      ]
     },
     "metadata": {},
     "output_type": "display_data"
    },
    {
     "data": {
      "text/html": [
       "<pre style=\"white-space:pre;overflow-x:auto;line-height:normal;font-family:Menlo,'DejaVu Sans Mono',consolas,'Courier New',monospace\">/var/folders/7t/k8q3439j6z3c683j7w00wtm80000gn/T/ipykernel_58430/330735155.py:26: FutureWarning: The behavior of \n",
       "DataFrame concatenation with empty or all-NA entries is deprecated. In a future version, this will no longer \n",
       "exclude empty or all-NA columns when determining the result dtypes. To retain the old behavior, exclude the \n",
       "relevant entries before the concat operation.\n",
       "  results = pd.concat([results, normalized_data]) #.dropna(axis=1, how=\"all\")])\n",
       "</pre>\n"
      ],
      "text/plain": [
       "/var/folders/7t/k8q3439j6z3c683j7w00wtm80000gn/T/ipykernel_58430/330735155.py:26: FutureWarning: The behavior of \n",
       "DataFrame concatenation with empty or all-NA entries is deprecated. In a future version, this will no longer \n",
       "exclude empty or all-NA columns when determining the result dtypes. To retain the old behavior, exclude the \n",
       "relevant entries before the concat operation.\n",
       "  results = pd.concat([results, normalized_data]) #.dropna(axis=1, how=\"all\")])\n"
      ]
     },
     "metadata": {},
     "output_type": "display_data"
    },
    {
     "data": {
      "text/html": [
       "<pre style=\"white-space:pre;overflow-x:auto;line-height:normal;font-family:Menlo,'DejaVu Sans Mono',consolas,'Courier New',monospace\">/var/folders/7t/k8q3439j6z3c683j7w00wtm80000gn/T/ipykernel_58430/330735155.py:26: FutureWarning: The behavior of \n",
       "DataFrame concatenation with empty or all-NA entries is deprecated. In a future version, this will no longer \n",
       "exclude empty or all-NA columns when determining the result dtypes. To retain the old behavior, exclude the \n",
       "relevant entries before the concat operation.\n",
       "  results = pd.concat([results, normalized_data]) #.dropna(axis=1, how=\"all\")])\n",
       "</pre>\n"
      ],
      "text/plain": [
       "/var/folders/7t/k8q3439j6z3c683j7w00wtm80000gn/T/ipykernel_58430/330735155.py:26: FutureWarning: The behavior of \n",
       "DataFrame concatenation with empty or all-NA entries is deprecated. In a future version, this will no longer \n",
       "exclude empty or all-NA columns when determining the result dtypes. To retain the old behavior, exclude the \n",
       "relevant entries before the concat operation.\n",
       "  results = pd.concat([results, normalized_data]) #.dropna(axis=1, how=\"all\")])\n"
      ]
     },
     "metadata": {},
     "output_type": "display_data"
    },
    {
     "data": {
      "text/html": [
       "<pre style=\"white-space:pre;overflow-x:auto;line-height:normal;font-family:Menlo,'DejaVu Sans Mono',consolas,'Courier New',monospace\">/var/folders/7t/k8q3439j6z3c683j7w00wtm80000gn/T/ipykernel_58430/330735155.py:26: FutureWarning: The behavior of \n",
       "DataFrame concatenation with empty or all-NA entries is deprecated. In a future version, this will no longer \n",
       "exclude empty or all-NA columns when determining the result dtypes. To retain the old behavior, exclude the \n",
       "relevant entries before the concat operation.\n",
       "  results = pd.concat([results, normalized_data]) #.dropna(axis=1, how=\"all\")])\n",
       "</pre>\n"
      ],
      "text/plain": [
       "/var/folders/7t/k8q3439j6z3c683j7w00wtm80000gn/T/ipykernel_58430/330735155.py:26: FutureWarning: The behavior of \n",
       "DataFrame concatenation with empty or all-NA entries is deprecated. In a future version, this will no longer \n",
       "exclude empty or all-NA columns when determining the result dtypes. To retain the old behavior, exclude the \n",
       "relevant entries before the concat operation.\n",
       "  results = pd.concat([results, normalized_data]) #.dropna(axis=1, how=\"all\")])\n"
      ]
     },
     "metadata": {},
     "output_type": "display_data"
    },
    {
     "data": {
      "text/html": [
       "<pre style=\"white-space:pre;overflow-x:auto;line-height:normal;font-family:Menlo,'DejaVu Sans Mono',consolas,'Courier New',monospace\">/var/folders/7t/k8q3439j6z3c683j7w00wtm80000gn/T/ipykernel_58430/330735155.py:26: FutureWarning: The behavior of \n",
       "DataFrame concatenation with empty or all-NA entries is deprecated. In a future version, this will no longer \n",
       "exclude empty or all-NA columns when determining the result dtypes. To retain the old behavior, exclude the \n",
       "relevant entries before the concat operation.\n",
       "  results = pd.concat([results, normalized_data]) #.dropna(axis=1, how=\"all\")])\n",
       "</pre>\n"
      ],
      "text/plain": [
       "/var/folders/7t/k8q3439j6z3c683j7w00wtm80000gn/T/ipykernel_58430/330735155.py:26: FutureWarning: The behavior of \n",
       "DataFrame concatenation with empty or all-NA entries is deprecated. In a future version, this will no longer \n",
       "exclude empty or all-NA columns when determining the result dtypes. To retain the old behavior, exclude the \n",
       "relevant entries before the concat operation.\n",
       "  results = pd.concat([results, normalized_data]) #.dropna(axis=1, how=\"all\")])\n"
      ]
     },
     "metadata": {},
     "output_type": "display_data"
    },
    {
     "data": {
      "text/html": [
       "<pre style=\"white-space:pre;overflow-x:auto;line-height:normal;font-family:Menlo,'DejaVu Sans Mono',consolas,'Courier New',monospace\">/var/folders/7t/k8q3439j6z3c683j7w00wtm80000gn/T/ipykernel_58430/330735155.py:26: FutureWarning: The behavior of \n",
       "DataFrame concatenation with empty or all-NA entries is deprecated. In a future version, this will no longer \n",
       "exclude empty or all-NA columns when determining the result dtypes. To retain the old behavior, exclude the \n",
       "relevant entries before the concat operation.\n",
       "  results = pd.concat([results, normalized_data]) #.dropna(axis=1, how=\"all\")])\n",
       "</pre>\n"
      ],
      "text/plain": [
       "/var/folders/7t/k8q3439j6z3c683j7w00wtm80000gn/T/ipykernel_58430/330735155.py:26: FutureWarning: The behavior of \n",
       "DataFrame concatenation with empty or all-NA entries is deprecated. In a future version, this will no longer \n",
       "exclude empty or all-NA columns when determining the result dtypes. To retain the old behavior, exclude the \n",
       "relevant entries before the concat operation.\n",
       "  results = pd.concat([results, normalized_data]) #.dropna(axis=1, how=\"all\")])\n"
      ]
     },
     "metadata": {},
     "output_type": "display_data"
    },
    {
     "data": {
      "text/html": [
       "<pre style=\"white-space:pre;overflow-x:auto;line-height:normal;font-family:Menlo,'DejaVu Sans Mono',consolas,'Courier New',monospace\">/var/folders/7t/k8q3439j6z3c683j7w00wtm80000gn/T/ipykernel_58430/330735155.py:26: FutureWarning: The behavior of \n",
       "DataFrame concatenation with empty or all-NA entries is deprecated. In a future version, this will no longer \n",
       "exclude empty or all-NA columns when determining the result dtypes. To retain the old behavior, exclude the \n",
       "relevant entries before the concat operation.\n",
       "  results = pd.concat([results, normalized_data]) #.dropna(axis=1, how=\"all\")])\n",
       "</pre>\n"
      ],
      "text/plain": [
       "/var/folders/7t/k8q3439j6z3c683j7w00wtm80000gn/T/ipykernel_58430/330735155.py:26: FutureWarning: The behavior of \n",
       "DataFrame concatenation with empty or all-NA entries is deprecated. In a future version, this will no longer \n",
       "exclude empty or all-NA columns when determining the result dtypes. To retain the old behavior, exclude the \n",
       "relevant entries before the concat operation.\n",
       "  results = pd.concat([results, normalized_data]) #.dropna(axis=1, how=\"all\")])\n"
      ]
     },
     "metadata": {},
     "output_type": "display_data"
    },
    {
     "data": {
      "text/html": [
       "<pre style=\"white-space:pre;overflow-x:auto;line-height:normal;font-family:Menlo,'DejaVu Sans Mono',consolas,'Courier New',monospace\">/var/folders/7t/k8q3439j6z3c683j7w00wtm80000gn/T/ipykernel_58430/330735155.py:26: FutureWarning: The behavior of \n",
       "DataFrame concatenation with empty or all-NA entries is deprecated. In a future version, this will no longer \n",
       "exclude empty or all-NA columns when determining the result dtypes. To retain the old behavior, exclude the \n",
       "relevant entries before the concat operation.\n",
       "  results = pd.concat([results, normalized_data]) #.dropna(axis=1, how=\"all\")])\n",
       "</pre>\n"
      ],
      "text/plain": [
       "/var/folders/7t/k8q3439j6z3c683j7w00wtm80000gn/T/ipykernel_58430/330735155.py:26: FutureWarning: The behavior of \n",
       "DataFrame concatenation with empty or all-NA entries is deprecated. In a future version, this will no longer \n",
       "exclude empty or all-NA columns when determining the result dtypes. To retain the old behavior, exclude the \n",
       "relevant entries before the concat operation.\n",
       "  results = pd.concat([results, normalized_data]) #.dropna(axis=1, how=\"all\")])\n"
      ]
     },
     "metadata": {},
     "output_type": "display_data"
    },
    {
     "data": {
      "text/html": [
       "<pre style=\"white-space:pre;overflow-x:auto;line-height:normal;font-family:Menlo,'DejaVu Sans Mono',consolas,'Courier New',monospace\">/var/folders/7t/k8q3439j6z3c683j7w00wtm80000gn/T/ipykernel_58430/330735155.py:26: FutureWarning: The behavior of \n",
       "DataFrame concatenation with empty or all-NA entries is deprecated. In a future version, this will no longer \n",
       "exclude empty or all-NA columns when determining the result dtypes. To retain the old behavior, exclude the \n",
       "relevant entries before the concat operation.\n",
       "  results = pd.concat([results, normalized_data]) #.dropna(axis=1, how=\"all\")])\n",
       "</pre>\n"
      ],
      "text/plain": [
       "/var/folders/7t/k8q3439j6z3c683j7w00wtm80000gn/T/ipykernel_58430/330735155.py:26: FutureWarning: The behavior of \n",
       "DataFrame concatenation with empty or all-NA entries is deprecated. In a future version, this will no longer \n",
       "exclude empty or all-NA columns when determining the result dtypes. To retain the old behavior, exclude the \n",
       "relevant entries before the concat operation.\n",
       "  results = pd.concat([results, normalized_data]) #.dropna(axis=1, how=\"all\")])\n"
      ]
     },
     "metadata": {},
     "output_type": "display_data"
    },
    {
     "data": {
      "text/html": [
       "<pre style=\"white-space:pre;overflow-x:auto;line-height:normal;font-family:Menlo,'DejaVu Sans Mono',consolas,'Courier New',monospace\">/var/folders/7t/k8q3439j6z3c683j7w00wtm80000gn/T/ipykernel_58430/330735155.py:26: FutureWarning: The behavior of \n",
       "DataFrame concatenation with empty or all-NA entries is deprecated. In a future version, this will no longer \n",
       "exclude empty or all-NA columns when determining the result dtypes. To retain the old behavior, exclude the \n",
       "relevant entries before the concat operation.\n",
       "  results = pd.concat([results, normalized_data]) #.dropna(axis=1, how=\"all\")])\n",
       "</pre>\n"
      ],
      "text/plain": [
       "/var/folders/7t/k8q3439j6z3c683j7w00wtm80000gn/T/ipykernel_58430/330735155.py:26: FutureWarning: The behavior of \n",
       "DataFrame concatenation with empty or all-NA entries is deprecated. In a future version, this will no longer \n",
       "exclude empty or all-NA columns when determining the result dtypes. To retain the old behavior, exclude the \n",
       "relevant entries before the concat operation.\n",
       "  results = pd.concat([results, normalized_data]) #.dropna(axis=1, how=\"all\")])\n"
      ]
     },
     "metadata": {},
     "output_type": "display_data"
    },
    {
     "data": {
      "text/html": [
       "<pre style=\"white-space:pre;overflow-x:auto;line-height:normal;font-family:Menlo,'DejaVu Sans Mono',consolas,'Courier New',monospace\">/var/folders/7t/k8q3439j6z3c683j7w00wtm80000gn/T/ipykernel_58430/330735155.py:26: FutureWarning: The behavior of \n",
       "DataFrame concatenation with empty or all-NA entries is deprecated. In a future version, this will no longer \n",
       "exclude empty or all-NA columns when determining the result dtypes. To retain the old behavior, exclude the \n",
       "relevant entries before the concat operation.\n",
       "  results = pd.concat([results, normalized_data]) #.dropna(axis=1, how=\"all\")])\n",
       "</pre>\n"
      ],
      "text/plain": [
       "/var/folders/7t/k8q3439j6z3c683j7w00wtm80000gn/T/ipykernel_58430/330735155.py:26: FutureWarning: The behavior of \n",
       "DataFrame concatenation with empty or all-NA entries is deprecated. In a future version, this will no longer \n",
       "exclude empty or all-NA columns when determining the result dtypes. To retain the old behavior, exclude the \n",
       "relevant entries before the concat operation.\n",
       "  results = pd.concat([results, normalized_data]) #.dropna(axis=1, how=\"all\")])\n"
      ]
     },
     "metadata": {},
     "output_type": "display_data"
    },
    {
     "data": {
      "text/html": [
       "<pre style=\"white-space:pre;overflow-x:auto;line-height:normal;font-family:Menlo,'DejaVu Sans Mono',consolas,'Courier New',monospace\">/var/folders/7t/k8q3439j6z3c683j7w00wtm80000gn/T/ipykernel_58430/330735155.py:26: FutureWarning: The behavior of \n",
       "DataFrame concatenation with empty or all-NA entries is deprecated. In a future version, this will no longer \n",
       "exclude empty or all-NA columns when determining the result dtypes. To retain the old behavior, exclude the \n",
       "relevant entries before the concat operation.\n",
       "  results = pd.concat([results, normalized_data]) #.dropna(axis=1, how=\"all\")])\n",
       "</pre>\n"
      ],
      "text/plain": [
       "/var/folders/7t/k8q3439j6z3c683j7w00wtm80000gn/T/ipykernel_58430/330735155.py:26: FutureWarning: The behavior of \n",
       "DataFrame concatenation with empty or all-NA entries is deprecated. In a future version, this will no longer \n",
       "exclude empty or all-NA columns when determining the result dtypes. To retain the old behavior, exclude the \n",
       "relevant entries before the concat operation.\n",
       "  results = pd.concat([results, normalized_data]) #.dropna(axis=1, how=\"all\")])\n"
      ]
     },
     "metadata": {},
     "output_type": "display_data"
    },
    {
     "data": {
      "text/html": [
       "<pre style=\"white-space:pre;overflow-x:auto;line-height:normal;font-family:Menlo,'DejaVu Sans Mono',consolas,'Courier New',monospace\">/var/folders/7t/k8q3439j6z3c683j7w00wtm80000gn/T/ipykernel_58430/330735155.py:26: FutureWarning: The behavior of \n",
       "DataFrame concatenation with empty or all-NA entries is deprecated. In a future version, this will no longer \n",
       "exclude empty or all-NA columns when determining the result dtypes. To retain the old behavior, exclude the \n",
       "relevant entries before the concat operation.\n",
       "  results = pd.concat([results, normalized_data]) #.dropna(axis=1, how=\"all\")])\n",
       "</pre>\n"
      ],
      "text/plain": [
       "/var/folders/7t/k8q3439j6z3c683j7w00wtm80000gn/T/ipykernel_58430/330735155.py:26: FutureWarning: The behavior of \n",
       "DataFrame concatenation with empty or all-NA entries is deprecated. In a future version, this will no longer \n",
       "exclude empty or all-NA columns when determining the result dtypes. To retain the old behavior, exclude the \n",
       "relevant entries before the concat operation.\n",
       "  results = pd.concat([results, normalized_data]) #.dropna(axis=1, how=\"all\")])\n"
      ]
     },
     "metadata": {},
     "output_type": "display_data"
    },
    {
     "data": {
      "text/html": [
       "<pre style=\"white-space:pre;overflow-x:auto;line-height:normal;font-family:Menlo,'DejaVu Sans Mono',consolas,'Courier New',monospace\">/var/folders/7t/k8q3439j6z3c683j7w00wtm80000gn/T/ipykernel_58430/330735155.py:26: FutureWarning: The behavior of \n",
       "DataFrame concatenation with empty or all-NA entries is deprecated. In a future version, this will no longer \n",
       "exclude empty or all-NA columns when determining the result dtypes. To retain the old behavior, exclude the \n",
       "relevant entries before the concat operation.\n",
       "  results = pd.concat([results, normalized_data]) #.dropna(axis=1, how=\"all\")])\n",
       "</pre>\n"
      ],
      "text/plain": [
       "/var/folders/7t/k8q3439j6z3c683j7w00wtm80000gn/T/ipykernel_58430/330735155.py:26: FutureWarning: The behavior of \n",
       "DataFrame concatenation with empty or all-NA entries is deprecated. In a future version, this will no longer \n",
       "exclude empty or all-NA columns when determining the result dtypes. To retain the old behavior, exclude the \n",
       "relevant entries before the concat operation.\n",
       "  results = pd.concat([results, normalized_data]) #.dropna(axis=1, how=\"all\")])\n"
      ]
     },
     "metadata": {},
     "output_type": "display_data"
    },
    {
     "data": {
      "text/html": [
       "<pre style=\"white-space:pre;overflow-x:auto;line-height:normal;font-family:Menlo,'DejaVu Sans Mono',consolas,'Courier New',monospace\">/var/folders/7t/k8q3439j6z3c683j7w00wtm80000gn/T/ipykernel_58430/330735155.py:26: FutureWarning: The behavior of \n",
       "DataFrame concatenation with empty or all-NA entries is deprecated. In a future version, this will no longer \n",
       "exclude empty or all-NA columns when determining the result dtypes. To retain the old behavior, exclude the \n",
       "relevant entries before the concat operation.\n",
       "  results = pd.concat([results, normalized_data]) #.dropna(axis=1, how=\"all\")])\n",
       "</pre>\n"
      ],
      "text/plain": [
       "/var/folders/7t/k8q3439j6z3c683j7w00wtm80000gn/T/ipykernel_58430/330735155.py:26: FutureWarning: The behavior of \n",
       "DataFrame concatenation with empty or all-NA entries is deprecated. In a future version, this will no longer \n",
       "exclude empty or all-NA columns when determining the result dtypes. To retain the old behavior, exclude the \n",
       "relevant entries before the concat operation.\n",
       "  results = pd.concat([results, normalized_data]) #.dropna(axis=1, how=\"all\")])\n"
      ]
     },
     "metadata": {},
     "output_type": "display_data"
    },
    {
     "data": {
      "text/html": [
       "<pre style=\"white-space:pre;overflow-x:auto;line-height:normal;font-family:Menlo,'DejaVu Sans Mono',consolas,'Courier New',monospace\">/var/folders/7t/k8q3439j6z3c683j7w00wtm80000gn/T/ipykernel_58430/330735155.py:26: FutureWarning: The behavior of \n",
       "DataFrame concatenation with empty or all-NA entries is deprecated. In a future version, this will no longer \n",
       "exclude empty or all-NA columns when determining the result dtypes. To retain the old behavior, exclude the \n",
       "relevant entries before the concat operation.\n",
       "  results = pd.concat([results, normalized_data]) #.dropna(axis=1, how=\"all\")])\n",
       "</pre>\n"
      ],
      "text/plain": [
       "/var/folders/7t/k8q3439j6z3c683j7w00wtm80000gn/T/ipykernel_58430/330735155.py:26: FutureWarning: The behavior of \n",
       "DataFrame concatenation with empty or all-NA entries is deprecated. In a future version, this will no longer \n",
       "exclude empty or all-NA columns when determining the result dtypes. To retain the old behavior, exclude the \n",
       "relevant entries before the concat operation.\n",
       "  results = pd.concat([results, normalized_data]) #.dropna(axis=1, how=\"all\")])\n"
      ]
     },
     "metadata": {},
     "output_type": "display_data"
    },
    {
     "data": {
      "text/html": [
       "<pre style=\"white-space:pre;overflow-x:auto;line-height:normal;font-family:Menlo,'DejaVu Sans Mono',consolas,'Courier New',monospace\">/var/folders/7t/k8q3439j6z3c683j7w00wtm80000gn/T/ipykernel_58430/330735155.py:26: FutureWarning: The behavior of \n",
       "DataFrame concatenation with empty or all-NA entries is deprecated. In a future version, this will no longer \n",
       "exclude empty or all-NA columns when determining the result dtypes. To retain the old behavior, exclude the \n",
       "relevant entries before the concat operation.\n",
       "  results = pd.concat([results, normalized_data]) #.dropna(axis=1, how=\"all\")])\n",
       "</pre>\n"
      ],
      "text/plain": [
       "/var/folders/7t/k8q3439j6z3c683j7w00wtm80000gn/T/ipykernel_58430/330735155.py:26: FutureWarning: The behavior of \n",
       "DataFrame concatenation with empty or all-NA entries is deprecated. In a future version, this will no longer \n",
       "exclude empty or all-NA columns when determining the result dtypes. To retain the old behavior, exclude the \n",
       "relevant entries before the concat operation.\n",
       "  results = pd.concat([results, normalized_data]) #.dropna(axis=1, how=\"all\")])\n"
      ]
     },
     "metadata": {},
     "output_type": "display_data"
    },
    {
     "data": {
      "text/html": [
       "<pre style=\"white-space:pre;overflow-x:auto;line-height:normal;font-family:Menlo,'DejaVu Sans Mono',consolas,'Courier New',monospace\">/var/folders/7t/k8q3439j6z3c683j7w00wtm80000gn/T/ipykernel_58430/330735155.py:26: FutureWarning: The behavior of \n",
       "DataFrame concatenation with empty or all-NA entries is deprecated. In a future version, this will no longer \n",
       "exclude empty or all-NA columns when determining the result dtypes. To retain the old behavior, exclude the \n",
       "relevant entries before the concat operation.\n",
       "  results = pd.concat([results, normalized_data]) #.dropna(axis=1, how=\"all\")])\n",
       "</pre>\n"
      ],
      "text/plain": [
       "/var/folders/7t/k8q3439j6z3c683j7w00wtm80000gn/T/ipykernel_58430/330735155.py:26: FutureWarning: The behavior of \n",
       "DataFrame concatenation with empty or all-NA entries is deprecated. In a future version, this will no longer \n",
       "exclude empty or all-NA columns when determining the result dtypes. To retain the old behavior, exclude the \n",
       "relevant entries before the concat operation.\n",
       "  results = pd.concat([results, normalized_data]) #.dropna(axis=1, how=\"all\")])\n"
      ]
     },
     "metadata": {},
     "output_type": "display_data"
    },
    {
     "data": {
      "text/html": [
       "<pre style=\"white-space:pre;overflow-x:auto;line-height:normal;font-family:Menlo,'DejaVu Sans Mono',consolas,'Courier New',monospace\">/var/folders/7t/k8q3439j6z3c683j7w00wtm80000gn/T/ipykernel_58430/330735155.py:26: FutureWarning: The behavior of \n",
       "DataFrame concatenation with empty or all-NA entries is deprecated. In a future version, this will no longer \n",
       "exclude empty or all-NA columns when determining the result dtypes. To retain the old behavior, exclude the \n",
       "relevant entries before the concat operation.\n",
       "  results = pd.concat([results, normalized_data]) #.dropna(axis=1, how=\"all\")])\n",
       "</pre>\n"
      ],
      "text/plain": [
       "/var/folders/7t/k8q3439j6z3c683j7w00wtm80000gn/T/ipykernel_58430/330735155.py:26: FutureWarning: The behavior of \n",
       "DataFrame concatenation with empty or all-NA entries is deprecated. In a future version, this will no longer \n",
       "exclude empty or all-NA columns when determining the result dtypes. To retain the old behavior, exclude the \n",
       "relevant entries before the concat operation.\n",
       "  results = pd.concat([results, normalized_data]) #.dropna(axis=1, how=\"all\")])\n"
      ]
     },
     "metadata": {},
     "output_type": "display_data"
    },
    {
     "data": {
      "text/html": [
       "<pre style=\"white-space:pre;overflow-x:auto;line-height:normal;font-family:Menlo,'DejaVu Sans Mono',consolas,'Courier New',monospace\">/var/folders/7t/k8q3439j6z3c683j7w00wtm80000gn/T/ipykernel_58430/330735155.py:26: FutureWarning: The behavior of \n",
       "DataFrame concatenation with empty or all-NA entries is deprecated. In a future version, this will no longer \n",
       "exclude empty or all-NA columns when determining the result dtypes. To retain the old behavior, exclude the \n",
       "relevant entries before the concat operation.\n",
       "  results = pd.concat([results, normalized_data]) #.dropna(axis=1, how=\"all\")])\n",
       "</pre>\n"
      ],
      "text/plain": [
       "/var/folders/7t/k8q3439j6z3c683j7w00wtm80000gn/T/ipykernel_58430/330735155.py:26: FutureWarning: The behavior of \n",
       "DataFrame concatenation with empty or all-NA entries is deprecated. In a future version, this will no longer \n",
       "exclude empty or all-NA columns when determining the result dtypes. To retain the old behavior, exclude the \n",
       "relevant entries before the concat operation.\n",
       "  results = pd.concat([results, normalized_data]) #.dropna(axis=1, how=\"all\")])\n"
      ]
     },
     "metadata": {},
     "output_type": "display_data"
    },
    {
     "data": {
      "text/html": [
       "<pre style=\"white-space:pre;overflow-x:auto;line-height:normal;font-family:Menlo,'DejaVu Sans Mono',consolas,'Courier New',monospace\">/var/folders/7t/k8q3439j6z3c683j7w00wtm80000gn/T/ipykernel_58430/330735155.py:26: FutureWarning: The behavior of \n",
       "DataFrame concatenation with empty or all-NA entries is deprecated. In a future version, this will no longer \n",
       "exclude empty or all-NA columns when determining the result dtypes. To retain the old behavior, exclude the \n",
       "relevant entries before the concat operation.\n",
       "  results = pd.concat([results, normalized_data]) #.dropna(axis=1, how=\"all\")])\n",
       "</pre>\n"
      ],
      "text/plain": [
       "/var/folders/7t/k8q3439j6z3c683j7w00wtm80000gn/T/ipykernel_58430/330735155.py:26: FutureWarning: The behavior of \n",
       "DataFrame concatenation with empty or all-NA entries is deprecated. In a future version, this will no longer \n",
       "exclude empty or all-NA columns when determining the result dtypes. To retain the old behavior, exclude the \n",
       "relevant entries before the concat operation.\n",
       "  results = pd.concat([results, normalized_data]) #.dropna(axis=1, how=\"all\")])\n"
      ]
     },
     "metadata": {},
     "output_type": "display_data"
    },
    {
     "data": {
      "text/html": [
       "<pre style=\"white-space:pre;overflow-x:auto;line-height:normal;font-family:Menlo,'DejaVu Sans Mono',consolas,'Courier New',monospace\">/var/folders/7t/k8q3439j6z3c683j7w00wtm80000gn/T/ipykernel_58430/330735155.py:26: FutureWarning: The behavior of \n",
       "DataFrame concatenation with empty or all-NA entries is deprecated. In a future version, this will no longer \n",
       "exclude empty or all-NA columns when determining the result dtypes. To retain the old behavior, exclude the \n",
       "relevant entries before the concat operation.\n",
       "  results = pd.concat([results, normalized_data]) #.dropna(axis=1, how=\"all\")])\n",
       "</pre>\n"
      ],
      "text/plain": [
       "/var/folders/7t/k8q3439j6z3c683j7w00wtm80000gn/T/ipykernel_58430/330735155.py:26: FutureWarning: The behavior of \n",
       "DataFrame concatenation with empty or all-NA entries is deprecated. In a future version, this will no longer \n",
       "exclude empty or all-NA columns when determining the result dtypes. To retain the old behavior, exclude the \n",
       "relevant entries before the concat operation.\n",
       "  results = pd.concat([results, normalized_data]) #.dropna(axis=1, how=\"all\")])\n"
      ]
     },
     "metadata": {},
     "output_type": "display_data"
    },
    {
     "data": {
      "text/html": [
       "<pre style=\"white-space:pre;overflow-x:auto;line-height:normal;font-family:Menlo,'DejaVu Sans Mono',consolas,'Courier New',monospace\">/var/folders/7t/k8q3439j6z3c683j7w00wtm80000gn/T/ipykernel_58430/330735155.py:26: FutureWarning: The behavior of \n",
       "DataFrame concatenation with empty or all-NA entries is deprecated. In a future version, this will no longer \n",
       "exclude empty or all-NA columns when determining the result dtypes. To retain the old behavior, exclude the \n",
       "relevant entries before the concat operation.\n",
       "  results = pd.concat([results, normalized_data]) #.dropna(axis=1, how=\"all\")])\n",
       "</pre>\n"
      ],
      "text/plain": [
       "/var/folders/7t/k8q3439j6z3c683j7w00wtm80000gn/T/ipykernel_58430/330735155.py:26: FutureWarning: The behavior of \n",
       "DataFrame concatenation with empty or all-NA entries is deprecated. In a future version, this will no longer \n",
       "exclude empty or all-NA columns when determining the result dtypes. To retain the old behavior, exclude the \n",
       "relevant entries before the concat operation.\n",
       "  results = pd.concat([results, normalized_data]) #.dropna(axis=1, how=\"all\")])\n"
      ]
     },
     "metadata": {},
     "output_type": "display_data"
    },
    {
     "data": {
      "text/html": [
       "<pre style=\"white-space:pre;overflow-x:auto;line-height:normal;font-family:Menlo,'DejaVu Sans Mono',consolas,'Courier New',monospace\">/var/folders/7t/k8q3439j6z3c683j7w00wtm80000gn/T/ipykernel_58430/330735155.py:26: FutureWarning: The behavior of \n",
       "DataFrame concatenation with empty or all-NA entries is deprecated. In a future version, this will no longer \n",
       "exclude empty or all-NA columns when determining the result dtypes. To retain the old behavior, exclude the \n",
       "relevant entries before the concat operation.\n",
       "  results = pd.concat([results, normalized_data]) #.dropna(axis=1, how=\"all\")])\n",
       "</pre>\n"
      ],
      "text/plain": [
       "/var/folders/7t/k8q3439j6z3c683j7w00wtm80000gn/T/ipykernel_58430/330735155.py:26: FutureWarning: The behavior of \n",
       "DataFrame concatenation with empty or all-NA entries is deprecated. In a future version, this will no longer \n",
       "exclude empty or all-NA columns when determining the result dtypes. To retain the old behavior, exclude the \n",
       "relevant entries before the concat operation.\n",
       "  results = pd.concat([results, normalized_data]) #.dropna(axis=1, how=\"all\")])\n"
      ]
     },
     "metadata": {},
     "output_type": "display_data"
    },
    {
     "data": {
      "text/html": [
       "<pre style=\"white-space:pre;overflow-x:auto;line-height:normal;font-family:Menlo,'DejaVu Sans Mono',consolas,'Courier New',monospace\">/var/folders/7t/k8q3439j6z3c683j7w00wtm80000gn/T/ipykernel_58430/330735155.py:26: FutureWarning: The behavior of \n",
       "DataFrame concatenation with empty or all-NA entries is deprecated. In a future version, this will no longer \n",
       "exclude empty or all-NA columns when determining the result dtypes. To retain the old behavior, exclude the \n",
       "relevant entries before the concat operation.\n",
       "  results = pd.concat([results, normalized_data]) #.dropna(axis=1, how=\"all\")])\n",
       "</pre>\n"
      ],
      "text/plain": [
       "/var/folders/7t/k8q3439j6z3c683j7w00wtm80000gn/T/ipykernel_58430/330735155.py:26: FutureWarning: The behavior of \n",
       "DataFrame concatenation with empty or all-NA entries is deprecated. In a future version, this will no longer \n",
       "exclude empty or all-NA columns when determining the result dtypes. To retain the old behavior, exclude the \n",
       "relevant entries before the concat operation.\n",
       "  results = pd.concat([results, normalized_data]) #.dropna(axis=1, how=\"all\")])\n"
      ]
     },
     "metadata": {},
     "output_type": "display_data"
    },
    {
     "data": {
      "text/html": [
       "<pre style=\"white-space:pre;overflow-x:auto;line-height:normal;font-family:Menlo,'DejaVu Sans Mono',consolas,'Courier New',monospace\">/var/folders/7t/k8q3439j6z3c683j7w00wtm80000gn/T/ipykernel_58430/330735155.py:26: FutureWarning: The behavior of \n",
       "DataFrame concatenation with empty or all-NA entries is deprecated. In a future version, this will no longer \n",
       "exclude empty or all-NA columns when determining the result dtypes. To retain the old behavior, exclude the \n",
       "relevant entries before the concat operation.\n",
       "  results = pd.concat([results, normalized_data]) #.dropna(axis=1, how=\"all\")])\n",
       "</pre>\n"
      ],
      "text/plain": [
       "/var/folders/7t/k8q3439j6z3c683j7w00wtm80000gn/T/ipykernel_58430/330735155.py:26: FutureWarning: The behavior of \n",
       "DataFrame concatenation with empty or all-NA entries is deprecated. In a future version, this will no longer \n",
       "exclude empty or all-NA columns when determining the result dtypes. To retain the old behavior, exclude the \n",
       "relevant entries before the concat operation.\n",
       "  results = pd.concat([results, normalized_data]) #.dropna(axis=1, how=\"all\")])\n"
      ]
     },
     "metadata": {},
     "output_type": "display_data"
    },
    {
     "data": {
      "text/html": [
       "<pre style=\"white-space:pre;overflow-x:auto;line-height:normal;font-family:Menlo,'DejaVu Sans Mono',consolas,'Courier New',monospace\">/var/folders/7t/k8q3439j6z3c683j7w00wtm80000gn/T/ipykernel_58430/330735155.py:26: FutureWarning: The behavior of \n",
       "DataFrame concatenation with empty or all-NA entries is deprecated. In a future version, this will no longer \n",
       "exclude empty or all-NA columns when determining the result dtypes. To retain the old behavior, exclude the \n",
       "relevant entries before the concat operation.\n",
       "  results = pd.concat([results, normalized_data]) #.dropna(axis=1, how=\"all\")])\n",
       "</pre>\n"
      ],
      "text/plain": [
       "/var/folders/7t/k8q3439j6z3c683j7w00wtm80000gn/T/ipykernel_58430/330735155.py:26: FutureWarning: The behavior of \n",
       "DataFrame concatenation with empty or all-NA entries is deprecated. In a future version, this will no longer \n",
       "exclude empty or all-NA columns when determining the result dtypes. To retain the old behavior, exclude the \n",
       "relevant entries before the concat operation.\n",
       "  results = pd.concat([results, normalized_data]) #.dropna(axis=1, how=\"all\")])\n"
      ]
     },
     "metadata": {},
     "output_type": "display_data"
    },
    {
     "data": {
      "text/html": [
       "<pre style=\"white-space:pre;overflow-x:auto;line-height:normal;font-family:Menlo,'DejaVu Sans Mono',consolas,'Courier New',monospace\">/var/folders/7t/k8q3439j6z3c683j7w00wtm80000gn/T/ipykernel_58430/330735155.py:26: FutureWarning: The behavior of \n",
       "DataFrame concatenation with empty or all-NA entries is deprecated. In a future version, this will no longer \n",
       "exclude empty or all-NA columns when determining the result dtypes. To retain the old behavior, exclude the \n",
       "relevant entries before the concat operation.\n",
       "  results = pd.concat([results, normalized_data]) #.dropna(axis=1, how=\"all\")])\n",
       "</pre>\n"
      ],
      "text/plain": [
       "/var/folders/7t/k8q3439j6z3c683j7w00wtm80000gn/T/ipykernel_58430/330735155.py:26: FutureWarning: The behavior of \n",
       "DataFrame concatenation with empty or all-NA entries is deprecated. In a future version, this will no longer \n",
       "exclude empty or all-NA columns when determining the result dtypes. To retain the old behavior, exclude the \n",
       "relevant entries before the concat operation.\n",
       "  results = pd.concat([results, normalized_data]) #.dropna(axis=1, how=\"all\")])\n"
      ]
     },
     "metadata": {},
     "output_type": "display_data"
    },
    {
     "data": {
      "text/html": [
       "<pre style=\"white-space:pre;overflow-x:auto;line-height:normal;font-family:Menlo,'DejaVu Sans Mono',consolas,'Courier New',monospace\">/var/folders/7t/k8q3439j6z3c683j7w00wtm80000gn/T/ipykernel_58430/330735155.py:26: FutureWarning: The behavior of \n",
       "DataFrame concatenation with empty or all-NA entries is deprecated. In a future version, this will no longer \n",
       "exclude empty or all-NA columns when determining the result dtypes. To retain the old behavior, exclude the \n",
       "relevant entries before the concat operation.\n",
       "  results = pd.concat([results, normalized_data]) #.dropna(axis=1, how=\"all\")])\n",
       "</pre>\n"
      ],
      "text/plain": [
       "/var/folders/7t/k8q3439j6z3c683j7w00wtm80000gn/T/ipykernel_58430/330735155.py:26: FutureWarning: The behavior of \n",
       "DataFrame concatenation with empty or all-NA entries is deprecated. In a future version, this will no longer \n",
       "exclude empty or all-NA columns when determining the result dtypes. To retain the old behavior, exclude the \n",
       "relevant entries before the concat operation.\n",
       "  results = pd.concat([results, normalized_data]) #.dropna(axis=1, how=\"all\")])\n"
      ]
     },
     "metadata": {},
     "output_type": "display_data"
    },
    {
     "data": {
      "text/html": [
       "<pre style=\"white-space:pre;overflow-x:auto;line-height:normal;font-family:Menlo,'DejaVu Sans Mono',consolas,'Courier New',monospace\">/var/folders/7t/k8q3439j6z3c683j7w00wtm80000gn/T/ipykernel_58430/330735155.py:26: FutureWarning: The behavior of \n",
       "DataFrame concatenation with empty or all-NA entries is deprecated. In a future version, this will no longer \n",
       "exclude empty or all-NA columns when determining the result dtypes. To retain the old behavior, exclude the \n",
       "relevant entries before the concat operation.\n",
       "  results = pd.concat([results, normalized_data]) #.dropna(axis=1, how=\"all\")])\n",
       "</pre>\n"
      ],
      "text/plain": [
       "/var/folders/7t/k8q3439j6z3c683j7w00wtm80000gn/T/ipykernel_58430/330735155.py:26: FutureWarning: The behavior of \n",
       "DataFrame concatenation with empty or all-NA entries is deprecated. In a future version, this will no longer \n",
       "exclude empty or all-NA columns when determining the result dtypes. To retain the old behavior, exclude the \n",
       "relevant entries before the concat operation.\n",
       "  results = pd.concat([results, normalized_data]) #.dropna(axis=1, how=\"all\")])\n"
      ]
     },
     "metadata": {},
     "output_type": "display_data"
    },
    {
     "data": {
      "text/html": [
       "<pre style=\"white-space:pre;overflow-x:auto;line-height:normal;font-family:Menlo,'DejaVu Sans Mono',consolas,'Courier New',monospace\">/var/folders/7t/k8q3439j6z3c683j7w00wtm80000gn/T/ipykernel_58430/330735155.py:26: FutureWarning: The behavior of \n",
       "DataFrame concatenation with empty or all-NA entries is deprecated. In a future version, this will no longer \n",
       "exclude empty or all-NA columns when determining the result dtypes. To retain the old behavior, exclude the \n",
       "relevant entries before the concat operation.\n",
       "  results = pd.concat([results, normalized_data]) #.dropna(axis=1, how=\"all\")])\n",
       "</pre>\n"
      ],
      "text/plain": [
       "/var/folders/7t/k8q3439j6z3c683j7w00wtm80000gn/T/ipykernel_58430/330735155.py:26: FutureWarning: The behavior of \n",
       "DataFrame concatenation with empty or all-NA entries is deprecated. In a future version, this will no longer \n",
       "exclude empty or all-NA columns when determining the result dtypes. To retain the old behavior, exclude the \n",
       "relevant entries before the concat operation.\n",
       "  results = pd.concat([results, normalized_data]) #.dropna(axis=1, how=\"all\")])\n"
      ]
     },
     "metadata": {},
     "output_type": "display_data"
    },
    {
     "data": {
      "text/html": [
       "<pre style=\"white-space:pre;overflow-x:auto;line-height:normal;font-family:Menlo,'DejaVu Sans Mono',consolas,'Courier New',monospace\">/var/folders/7t/k8q3439j6z3c683j7w00wtm80000gn/T/ipykernel_58430/330735155.py:26: FutureWarning: The behavior of \n",
       "DataFrame concatenation with empty or all-NA entries is deprecated. In a future version, this will no longer \n",
       "exclude empty or all-NA columns when determining the result dtypes. To retain the old behavior, exclude the \n",
       "relevant entries before the concat operation.\n",
       "  results = pd.concat([results, normalized_data]) #.dropna(axis=1, how=\"all\")])\n",
       "</pre>\n"
      ],
      "text/plain": [
       "/var/folders/7t/k8q3439j6z3c683j7w00wtm80000gn/T/ipykernel_58430/330735155.py:26: FutureWarning: The behavior of \n",
       "DataFrame concatenation with empty or all-NA entries is deprecated. In a future version, this will no longer \n",
       "exclude empty or all-NA columns when determining the result dtypes. To retain the old behavior, exclude the \n",
       "relevant entries before the concat operation.\n",
       "  results = pd.concat([results, normalized_data]) #.dropna(axis=1, how=\"all\")])\n"
      ]
     },
     "metadata": {},
     "output_type": "display_data"
    },
    {
     "data": {
      "text/html": [
       "<pre style=\"white-space:pre;overflow-x:auto;line-height:normal;font-family:Menlo,'DejaVu Sans Mono',consolas,'Courier New',monospace\">/var/folders/7t/k8q3439j6z3c683j7w00wtm80000gn/T/ipykernel_58430/330735155.py:26: FutureWarning: The behavior of \n",
       "DataFrame concatenation with empty or all-NA entries is deprecated. In a future version, this will no longer \n",
       "exclude empty or all-NA columns when determining the result dtypes. To retain the old behavior, exclude the \n",
       "relevant entries before the concat operation.\n",
       "  results = pd.concat([results, normalized_data]) #.dropna(axis=1, how=\"all\")])\n",
       "</pre>\n"
      ],
      "text/plain": [
       "/var/folders/7t/k8q3439j6z3c683j7w00wtm80000gn/T/ipykernel_58430/330735155.py:26: FutureWarning: The behavior of \n",
       "DataFrame concatenation with empty or all-NA entries is deprecated. In a future version, this will no longer \n",
       "exclude empty or all-NA columns when determining the result dtypes. To retain the old behavior, exclude the \n",
       "relevant entries before the concat operation.\n",
       "  results = pd.concat([results, normalized_data]) #.dropna(axis=1, how=\"all\")])\n"
      ]
     },
     "metadata": {},
     "output_type": "display_data"
    },
    {
     "data": {
      "text/html": [
       "<pre style=\"white-space:pre;overflow-x:auto;line-height:normal;font-family:Menlo,'DejaVu Sans Mono',consolas,'Courier New',monospace\">/var/folders/7t/k8q3439j6z3c683j7w00wtm80000gn/T/ipykernel_58430/330735155.py:26: FutureWarning: The behavior of \n",
       "DataFrame concatenation with empty or all-NA entries is deprecated. In a future version, this will no longer \n",
       "exclude empty or all-NA columns when determining the result dtypes. To retain the old behavior, exclude the \n",
       "relevant entries before the concat operation.\n",
       "  results = pd.concat([results, normalized_data]) #.dropna(axis=1, how=\"all\")])\n",
       "</pre>\n"
      ],
      "text/plain": [
       "/var/folders/7t/k8q3439j6z3c683j7w00wtm80000gn/T/ipykernel_58430/330735155.py:26: FutureWarning: The behavior of \n",
       "DataFrame concatenation with empty or all-NA entries is deprecated. In a future version, this will no longer \n",
       "exclude empty or all-NA columns when determining the result dtypes. To retain the old behavior, exclude the \n",
       "relevant entries before the concat operation.\n",
       "  results = pd.concat([results, normalized_data]) #.dropna(axis=1, how=\"all\")])\n"
      ]
     },
     "metadata": {},
     "output_type": "display_data"
    },
    {
     "data": {
      "text/html": [
       "<pre style=\"white-space:pre;overflow-x:auto;line-height:normal;font-family:Menlo,'DejaVu Sans Mono',consolas,'Courier New',monospace\">/var/folders/7t/k8q3439j6z3c683j7w00wtm80000gn/T/ipykernel_58430/330735155.py:26: FutureWarning: The behavior of \n",
       "DataFrame concatenation with empty or all-NA entries is deprecated. In a future version, this will no longer \n",
       "exclude empty or all-NA columns when determining the result dtypes. To retain the old behavior, exclude the \n",
       "relevant entries before the concat operation.\n",
       "  results = pd.concat([results, normalized_data]) #.dropna(axis=1, how=\"all\")])\n",
       "</pre>\n"
      ],
      "text/plain": [
       "/var/folders/7t/k8q3439j6z3c683j7w00wtm80000gn/T/ipykernel_58430/330735155.py:26: FutureWarning: The behavior of \n",
       "DataFrame concatenation with empty or all-NA entries is deprecated. In a future version, this will no longer \n",
       "exclude empty or all-NA columns when determining the result dtypes. To retain the old behavior, exclude the \n",
       "relevant entries before the concat operation.\n",
       "  results = pd.concat([results, normalized_data]) #.dropna(axis=1, how=\"all\")])\n"
      ]
     },
     "metadata": {},
     "output_type": "display_data"
    },
    {
     "data": {
      "text/html": [
       "<pre style=\"white-space:pre;overflow-x:auto;line-height:normal;font-family:Menlo,'DejaVu Sans Mono',consolas,'Courier New',monospace\">/var/folders/7t/k8q3439j6z3c683j7w00wtm80000gn/T/ipykernel_58430/330735155.py:26: FutureWarning: The behavior of \n",
       "DataFrame concatenation with empty or all-NA entries is deprecated. In a future version, this will no longer \n",
       "exclude empty or all-NA columns when determining the result dtypes. To retain the old behavior, exclude the \n",
       "relevant entries before the concat operation.\n",
       "  results = pd.concat([results, normalized_data]) #.dropna(axis=1, how=\"all\")])\n",
       "</pre>\n"
      ],
      "text/plain": [
       "/var/folders/7t/k8q3439j6z3c683j7w00wtm80000gn/T/ipykernel_58430/330735155.py:26: FutureWarning: The behavior of \n",
       "DataFrame concatenation with empty or all-NA entries is deprecated. In a future version, this will no longer \n",
       "exclude empty or all-NA columns when determining the result dtypes. To retain the old behavior, exclude the \n",
       "relevant entries before the concat operation.\n",
       "  results = pd.concat([results, normalized_data]) #.dropna(axis=1, how=\"all\")])\n"
      ]
     },
     "metadata": {},
     "output_type": "display_data"
    },
    {
     "data": {
      "text/html": [
       "<pre style=\"white-space:pre;overflow-x:auto;line-height:normal;font-family:Menlo,'DejaVu Sans Mono',consolas,'Courier New',monospace\">/var/folders/7t/k8q3439j6z3c683j7w00wtm80000gn/T/ipykernel_58430/330735155.py:26: FutureWarning: The behavior of \n",
       "DataFrame concatenation with empty or all-NA entries is deprecated. In a future version, this will no longer \n",
       "exclude empty or all-NA columns when determining the result dtypes. To retain the old behavior, exclude the \n",
       "relevant entries before the concat operation.\n",
       "  results = pd.concat([results, normalized_data]) #.dropna(axis=1, how=\"all\")])\n",
       "</pre>\n"
      ],
      "text/plain": [
       "/var/folders/7t/k8q3439j6z3c683j7w00wtm80000gn/T/ipykernel_58430/330735155.py:26: FutureWarning: The behavior of \n",
       "DataFrame concatenation with empty or all-NA entries is deprecated. In a future version, this will no longer \n",
       "exclude empty or all-NA columns when determining the result dtypes. To retain the old behavior, exclude the \n",
       "relevant entries before the concat operation.\n",
       "  results = pd.concat([results, normalized_data]) #.dropna(axis=1, how=\"all\")])\n"
      ]
     },
     "metadata": {},
     "output_type": "display_data"
    },
    {
     "data": {
      "text/html": [
       "<pre style=\"white-space:pre;overflow-x:auto;line-height:normal;font-family:Menlo,'DejaVu Sans Mono',consolas,'Courier New',monospace\">/var/folders/7t/k8q3439j6z3c683j7w00wtm80000gn/T/ipykernel_58430/330735155.py:26: FutureWarning: The behavior of \n",
       "DataFrame concatenation with empty or all-NA entries is deprecated. In a future version, this will no longer \n",
       "exclude empty or all-NA columns when determining the result dtypes. To retain the old behavior, exclude the \n",
       "relevant entries before the concat operation.\n",
       "  results = pd.concat([results, normalized_data]) #.dropna(axis=1, how=\"all\")])\n",
       "</pre>\n"
      ],
      "text/plain": [
       "/var/folders/7t/k8q3439j6z3c683j7w00wtm80000gn/T/ipykernel_58430/330735155.py:26: FutureWarning: The behavior of \n",
       "DataFrame concatenation with empty or all-NA entries is deprecated. In a future version, this will no longer \n",
       "exclude empty or all-NA columns when determining the result dtypes. To retain the old behavior, exclude the \n",
       "relevant entries before the concat operation.\n",
       "  results = pd.concat([results, normalized_data]) #.dropna(axis=1, how=\"all\")])\n"
      ]
     },
     "metadata": {},
     "output_type": "display_data"
    },
    {
     "data": {
      "text/html": [
       "<pre style=\"white-space:pre;overflow-x:auto;line-height:normal;font-family:Menlo,'DejaVu Sans Mono',consolas,'Courier New',monospace\">/var/folders/7t/k8q3439j6z3c683j7w00wtm80000gn/T/ipykernel_58430/330735155.py:26: FutureWarning: The behavior of \n",
       "DataFrame concatenation with empty or all-NA entries is deprecated. In a future version, this will no longer \n",
       "exclude empty or all-NA columns when determining the result dtypes. To retain the old behavior, exclude the \n",
       "relevant entries before the concat operation.\n",
       "  results = pd.concat([results, normalized_data]) #.dropna(axis=1, how=\"all\")])\n",
       "</pre>\n"
      ],
      "text/plain": [
       "/var/folders/7t/k8q3439j6z3c683j7w00wtm80000gn/T/ipykernel_58430/330735155.py:26: FutureWarning: The behavior of \n",
       "DataFrame concatenation with empty or all-NA entries is deprecated. In a future version, this will no longer \n",
       "exclude empty or all-NA columns when determining the result dtypes. To retain the old behavior, exclude the \n",
       "relevant entries before the concat operation.\n",
       "  results = pd.concat([results, normalized_data]) #.dropna(axis=1, how=\"all\")])\n"
      ]
     },
     "metadata": {},
     "output_type": "display_data"
    },
    {
     "data": {
      "text/html": [
       "<pre style=\"white-space:pre;overflow-x:auto;line-height:normal;font-family:Menlo,'DejaVu Sans Mono',consolas,'Courier New',monospace\">/var/folders/7t/k8q3439j6z3c683j7w00wtm80000gn/T/ipykernel_58430/330735155.py:26: FutureWarning: The behavior of \n",
       "DataFrame concatenation with empty or all-NA entries is deprecated. In a future version, this will no longer \n",
       "exclude empty or all-NA columns when determining the result dtypes. To retain the old behavior, exclude the \n",
       "relevant entries before the concat operation.\n",
       "  results = pd.concat([results, normalized_data]) #.dropna(axis=1, how=\"all\")])\n",
       "</pre>\n"
      ],
      "text/plain": [
       "/var/folders/7t/k8q3439j6z3c683j7w00wtm80000gn/T/ipykernel_58430/330735155.py:26: FutureWarning: The behavior of \n",
       "DataFrame concatenation with empty or all-NA entries is deprecated. In a future version, this will no longer \n",
       "exclude empty or all-NA columns when determining the result dtypes. To retain the old behavior, exclude the \n",
       "relevant entries before the concat operation.\n",
       "  results = pd.concat([results, normalized_data]) #.dropna(axis=1, how=\"all\")])\n"
      ]
     },
     "metadata": {},
     "output_type": "display_data"
    },
    {
     "data": {
      "text/html": [
       "<pre style=\"white-space:pre;overflow-x:auto;line-height:normal;font-family:Menlo,'DejaVu Sans Mono',consolas,'Courier New',monospace\">/var/folders/7t/k8q3439j6z3c683j7w00wtm80000gn/T/ipykernel_58430/330735155.py:26: FutureWarning: The behavior of \n",
       "DataFrame concatenation with empty or all-NA entries is deprecated. In a future version, this will no longer \n",
       "exclude empty or all-NA columns when determining the result dtypes. To retain the old behavior, exclude the \n",
       "relevant entries before the concat operation.\n",
       "  results = pd.concat([results, normalized_data]) #.dropna(axis=1, how=\"all\")])\n",
       "</pre>\n"
      ],
      "text/plain": [
       "/var/folders/7t/k8q3439j6z3c683j7w00wtm80000gn/T/ipykernel_58430/330735155.py:26: FutureWarning: The behavior of \n",
       "DataFrame concatenation with empty or all-NA entries is deprecated. In a future version, this will no longer \n",
       "exclude empty or all-NA columns when determining the result dtypes. To retain the old behavior, exclude the \n",
       "relevant entries before the concat operation.\n",
       "  results = pd.concat([results, normalized_data]) #.dropna(axis=1, how=\"all\")])\n"
      ]
     },
     "metadata": {},
     "output_type": "display_data"
    },
    {
     "data": {
      "text/html": [
       "<pre style=\"white-space:pre;overflow-x:auto;line-height:normal;font-family:Menlo,'DejaVu Sans Mono',consolas,'Courier New',monospace\">/var/folders/7t/k8q3439j6z3c683j7w00wtm80000gn/T/ipykernel_58430/330735155.py:26: FutureWarning: The behavior of \n",
       "DataFrame concatenation with empty or all-NA entries is deprecated. In a future version, this will no longer \n",
       "exclude empty or all-NA columns when determining the result dtypes. To retain the old behavior, exclude the \n",
       "relevant entries before the concat operation.\n",
       "  results = pd.concat([results, normalized_data]) #.dropna(axis=1, how=\"all\")])\n",
       "</pre>\n"
      ],
      "text/plain": [
       "/var/folders/7t/k8q3439j6z3c683j7w00wtm80000gn/T/ipykernel_58430/330735155.py:26: FutureWarning: The behavior of \n",
       "DataFrame concatenation with empty or all-NA entries is deprecated. In a future version, this will no longer \n",
       "exclude empty or all-NA columns when determining the result dtypes. To retain the old behavior, exclude the \n",
       "relevant entries before the concat operation.\n",
       "  results = pd.concat([results, normalized_data]) #.dropna(axis=1, how=\"all\")])\n"
      ]
     },
     "metadata": {},
     "output_type": "display_data"
    },
    {
     "data": {
      "text/html": [
       "<pre style=\"white-space:pre;overflow-x:auto;line-height:normal;font-family:Menlo,'DejaVu Sans Mono',consolas,'Courier New',monospace\">/var/folders/7t/k8q3439j6z3c683j7w00wtm80000gn/T/ipykernel_58430/330735155.py:26: FutureWarning: The behavior of \n",
       "DataFrame concatenation with empty or all-NA entries is deprecated. In a future version, this will no longer \n",
       "exclude empty or all-NA columns when determining the result dtypes. To retain the old behavior, exclude the \n",
       "relevant entries before the concat operation.\n",
       "  results = pd.concat([results, normalized_data]) #.dropna(axis=1, how=\"all\")])\n",
       "</pre>\n"
      ],
      "text/plain": [
       "/var/folders/7t/k8q3439j6z3c683j7w00wtm80000gn/T/ipykernel_58430/330735155.py:26: FutureWarning: The behavior of \n",
       "DataFrame concatenation with empty or all-NA entries is deprecated. In a future version, this will no longer \n",
       "exclude empty or all-NA columns when determining the result dtypes. To retain the old behavior, exclude the \n",
       "relevant entries before the concat operation.\n",
       "  results = pd.concat([results, normalized_data]) #.dropna(axis=1, how=\"all\")])\n"
      ]
     },
     "metadata": {},
     "output_type": "display_data"
    },
    {
     "data": {
      "text/html": [
       "<pre style=\"white-space:pre;overflow-x:auto;line-height:normal;font-family:Menlo,'DejaVu Sans Mono',consolas,'Courier New',monospace\">/var/folders/7t/k8q3439j6z3c683j7w00wtm80000gn/T/ipykernel_58430/330735155.py:26: FutureWarning: The behavior of \n",
       "DataFrame concatenation with empty or all-NA entries is deprecated. In a future version, this will no longer \n",
       "exclude empty or all-NA columns when determining the result dtypes. To retain the old behavior, exclude the \n",
       "relevant entries before the concat operation.\n",
       "  results = pd.concat([results, normalized_data]) #.dropna(axis=1, how=\"all\")])\n",
       "</pre>\n"
      ],
      "text/plain": [
       "/var/folders/7t/k8q3439j6z3c683j7w00wtm80000gn/T/ipykernel_58430/330735155.py:26: FutureWarning: The behavior of \n",
       "DataFrame concatenation with empty or all-NA entries is deprecated. In a future version, this will no longer \n",
       "exclude empty or all-NA columns when determining the result dtypes. To retain the old behavior, exclude the \n",
       "relevant entries before the concat operation.\n",
       "  results = pd.concat([results, normalized_data]) #.dropna(axis=1, how=\"all\")])\n"
      ]
     },
     "metadata": {},
     "output_type": "display_data"
    },
    {
     "data": {
      "text/html": [
       "<pre style=\"white-space:pre;overflow-x:auto;line-height:normal;font-family:Menlo,'DejaVu Sans Mono',consolas,'Courier New',monospace\">/var/folders/7t/k8q3439j6z3c683j7w00wtm80000gn/T/ipykernel_58430/330735155.py:26: FutureWarning: The behavior of \n",
       "DataFrame concatenation with empty or all-NA entries is deprecated. In a future version, this will no longer \n",
       "exclude empty or all-NA columns when determining the result dtypes. To retain the old behavior, exclude the \n",
       "relevant entries before the concat operation.\n",
       "  results = pd.concat([results, normalized_data]) #.dropna(axis=1, how=\"all\")])\n",
       "</pre>\n"
      ],
      "text/plain": [
       "/var/folders/7t/k8q3439j6z3c683j7w00wtm80000gn/T/ipykernel_58430/330735155.py:26: FutureWarning: The behavior of \n",
       "DataFrame concatenation with empty or all-NA entries is deprecated. In a future version, this will no longer \n",
       "exclude empty or all-NA columns when determining the result dtypes. To retain the old behavior, exclude the \n",
       "relevant entries before the concat operation.\n",
       "  results = pd.concat([results, normalized_data]) #.dropna(axis=1, how=\"all\")])\n"
      ]
     },
     "metadata": {},
     "output_type": "display_data"
    },
    {
     "data": {
      "text/html": [
       "<pre style=\"white-space:pre;overflow-x:auto;line-height:normal;font-family:Menlo,'DejaVu Sans Mono',consolas,'Courier New',monospace\">/var/folders/7t/k8q3439j6z3c683j7w00wtm80000gn/T/ipykernel_58430/330735155.py:26: FutureWarning: The behavior of \n",
       "DataFrame concatenation with empty or all-NA entries is deprecated. In a future version, this will no longer \n",
       "exclude empty or all-NA columns when determining the result dtypes. To retain the old behavior, exclude the \n",
       "relevant entries before the concat operation.\n",
       "  results = pd.concat([results, normalized_data]) #.dropna(axis=1, how=\"all\")])\n",
       "</pre>\n"
      ],
      "text/plain": [
       "/var/folders/7t/k8q3439j6z3c683j7w00wtm80000gn/T/ipykernel_58430/330735155.py:26: FutureWarning: The behavior of \n",
       "DataFrame concatenation with empty or all-NA entries is deprecated. In a future version, this will no longer \n",
       "exclude empty or all-NA columns when determining the result dtypes. To retain the old behavior, exclude the \n",
       "relevant entries before the concat operation.\n",
       "  results = pd.concat([results, normalized_data]) #.dropna(axis=1, how=\"all\")])\n"
      ]
     },
     "metadata": {},
     "output_type": "display_data"
    },
    {
     "data": {
      "text/html": [
       "<pre style=\"white-space:pre;overflow-x:auto;line-height:normal;font-family:Menlo,'DejaVu Sans Mono',consolas,'Courier New',monospace\">/var/folders/7t/k8q3439j6z3c683j7w00wtm80000gn/T/ipykernel_58430/330735155.py:26: FutureWarning: The behavior of \n",
       "DataFrame concatenation with empty or all-NA entries is deprecated. In a future version, this will no longer \n",
       "exclude empty or all-NA columns when determining the result dtypes. To retain the old behavior, exclude the \n",
       "relevant entries before the concat operation.\n",
       "  results = pd.concat([results, normalized_data]) #.dropna(axis=1, how=\"all\")])\n",
       "</pre>\n"
      ],
      "text/plain": [
       "/var/folders/7t/k8q3439j6z3c683j7w00wtm80000gn/T/ipykernel_58430/330735155.py:26: FutureWarning: The behavior of \n",
       "DataFrame concatenation with empty or all-NA entries is deprecated. In a future version, this will no longer \n",
       "exclude empty or all-NA columns when determining the result dtypes. To retain the old behavior, exclude the \n",
       "relevant entries before the concat operation.\n",
       "  results = pd.concat([results, normalized_data]) #.dropna(axis=1, how=\"all\")])\n"
      ]
     },
     "metadata": {},
     "output_type": "display_data"
    },
    {
     "data": {
      "text/html": [
       "<pre style=\"white-space:pre;overflow-x:auto;line-height:normal;font-family:Menlo,'DejaVu Sans Mono',consolas,'Courier New',monospace\">/var/folders/7t/k8q3439j6z3c683j7w00wtm80000gn/T/ipykernel_58430/330735155.py:26: FutureWarning: The behavior of \n",
       "DataFrame concatenation with empty or all-NA entries is deprecated. In a future version, this will no longer \n",
       "exclude empty or all-NA columns when determining the result dtypes. To retain the old behavior, exclude the \n",
       "relevant entries before the concat operation.\n",
       "  results = pd.concat([results, normalized_data]) #.dropna(axis=1, how=\"all\")])\n",
       "</pre>\n"
      ],
      "text/plain": [
       "/var/folders/7t/k8q3439j6z3c683j7w00wtm80000gn/T/ipykernel_58430/330735155.py:26: FutureWarning: The behavior of \n",
       "DataFrame concatenation with empty or all-NA entries is deprecated. In a future version, this will no longer \n",
       "exclude empty or all-NA columns when determining the result dtypes. To retain the old behavior, exclude the \n",
       "relevant entries before the concat operation.\n",
       "  results = pd.concat([results, normalized_data]) #.dropna(axis=1, how=\"all\")])\n"
      ]
     },
     "metadata": {},
     "output_type": "display_data"
    },
    {
     "data": {
      "text/html": [
       "<pre style=\"white-space:pre;overflow-x:auto;line-height:normal;font-family:Menlo,'DejaVu Sans Mono',consolas,'Courier New',monospace\">/var/folders/7t/k8q3439j6z3c683j7w00wtm80000gn/T/ipykernel_58430/330735155.py:26: FutureWarning: The behavior of \n",
       "DataFrame concatenation with empty or all-NA entries is deprecated. In a future version, this will no longer \n",
       "exclude empty or all-NA columns when determining the result dtypes. To retain the old behavior, exclude the \n",
       "relevant entries before the concat operation.\n",
       "  results = pd.concat([results, normalized_data]) #.dropna(axis=1, how=\"all\")])\n",
       "</pre>\n"
      ],
      "text/plain": [
       "/var/folders/7t/k8q3439j6z3c683j7w00wtm80000gn/T/ipykernel_58430/330735155.py:26: FutureWarning: The behavior of \n",
       "DataFrame concatenation with empty or all-NA entries is deprecated. In a future version, this will no longer \n",
       "exclude empty or all-NA columns when determining the result dtypes. To retain the old behavior, exclude the \n",
       "relevant entries before the concat operation.\n",
       "  results = pd.concat([results, normalized_data]) #.dropna(axis=1, how=\"all\")])\n"
      ]
     },
     "metadata": {},
     "output_type": "display_data"
    },
    {
     "data": {
      "text/html": [
       "<pre style=\"white-space:pre;overflow-x:auto;line-height:normal;font-family:Menlo,'DejaVu Sans Mono',consolas,'Courier New',monospace\">/var/folders/7t/k8q3439j6z3c683j7w00wtm80000gn/T/ipykernel_58430/330735155.py:26: FutureWarning: The behavior of \n",
       "DataFrame concatenation with empty or all-NA entries is deprecated. In a future version, this will no longer \n",
       "exclude empty or all-NA columns when determining the result dtypes. To retain the old behavior, exclude the \n",
       "relevant entries before the concat operation.\n",
       "  results = pd.concat([results, normalized_data]) #.dropna(axis=1, how=\"all\")])\n",
       "</pre>\n"
      ],
      "text/plain": [
       "/var/folders/7t/k8q3439j6z3c683j7w00wtm80000gn/T/ipykernel_58430/330735155.py:26: FutureWarning: The behavior of \n",
       "DataFrame concatenation with empty or all-NA entries is deprecated. In a future version, this will no longer \n",
       "exclude empty or all-NA columns when determining the result dtypes. To retain the old behavior, exclude the \n",
       "relevant entries before the concat operation.\n",
       "  results = pd.concat([results, normalized_data]) #.dropna(axis=1, how=\"all\")])\n"
      ]
     },
     "metadata": {},
     "output_type": "display_data"
    },
    {
     "data": {
      "text/html": [
       "<pre style=\"white-space:pre;overflow-x:auto;line-height:normal;font-family:Menlo,'DejaVu Sans Mono',consolas,'Courier New',monospace\">/var/folders/7t/k8q3439j6z3c683j7w00wtm80000gn/T/ipykernel_58430/330735155.py:26: FutureWarning: The behavior of \n",
       "DataFrame concatenation with empty or all-NA entries is deprecated. In a future version, this will no longer \n",
       "exclude empty or all-NA columns when determining the result dtypes. To retain the old behavior, exclude the \n",
       "relevant entries before the concat operation.\n",
       "  results = pd.concat([results, normalized_data]) #.dropna(axis=1, how=\"all\")])\n",
       "</pre>\n"
      ],
      "text/plain": [
       "/var/folders/7t/k8q3439j6z3c683j7w00wtm80000gn/T/ipykernel_58430/330735155.py:26: FutureWarning: The behavior of \n",
       "DataFrame concatenation with empty or all-NA entries is deprecated. In a future version, this will no longer \n",
       "exclude empty or all-NA columns when determining the result dtypes. To retain the old behavior, exclude the \n",
       "relevant entries before the concat operation.\n",
       "  results = pd.concat([results, normalized_data]) #.dropna(axis=1, how=\"all\")])\n"
      ]
     },
     "metadata": {},
     "output_type": "display_data"
    },
    {
     "data": {
      "text/html": [
       "<pre style=\"white-space:pre;overflow-x:auto;line-height:normal;font-family:Menlo,'DejaVu Sans Mono',consolas,'Courier New',monospace\">/var/folders/7t/k8q3439j6z3c683j7w00wtm80000gn/T/ipykernel_58430/330735155.py:26: FutureWarning: The behavior of \n",
       "DataFrame concatenation with empty or all-NA entries is deprecated. In a future version, this will no longer \n",
       "exclude empty or all-NA columns when determining the result dtypes. To retain the old behavior, exclude the \n",
       "relevant entries before the concat operation.\n",
       "  results = pd.concat([results, normalized_data]) #.dropna(axis=1, how=\"all\")])\n",
       "</pre>\n"
      ],
      "text/plain": [
       "/var/folders/7t/k8q3439j6z3c683j7w00wtm80000gn/T/ipykernel_58430/330735155.py:26: FutureWarning: The behavior of \n",
       "DataFrame concatenation with empty or all-NA entries is deprecated. In a future version, this will no longer \n",
       "exclude empty or all-NA columns when determining the result dtypes. To retain the old behavior, exclude the \n",
       "relevant entries before the concat operation.\n",
       "  results = pd.concat([results, normalized_data]) #.dropna(axis=1, how=\"all\")])\n"
      ]
     },
     "metadata": {},
     "output_type": "display_data"
    },
    {
     "data": {
      "text/html": [
       "<pre style=\"white-space:pre;overflow-x:auto;line-height:normal;font-family:Menlo,'DejaVu Sans Mono',consolas,'Courier New',monospace\">/var/folders/7t/k8q3439j6z3c683j7w00wtm80000gn/T/ipykernel_58430/330735155.py:26: FutureWarning: The behavior of \n",
       "DataFrame concatenation with empty or all-NA entries is deprecated. In a future version, this will no longer \n",
       "exclude empty or all-NA columns when determining the result dtypes. To retain the old behavior, exclude the \n",
       "relevant entries before the concat operation.\n",
       "  results = pd.concat([results, normalized_data]) #.dropna(axis=1, how=\"all\")])\n",
       "</pre>\n"
      ],
      "text/plain": [
       "/var/folders/7t/k8q3439j6z3c683j7w00wtm80000gn/T/ipykernel_58430/330735155.py:26: FutureWarning: The behavior of \n",
       "DataFrame concatenation with empty or all-NA entries is deprecated. In a future version, this will no longer \n",
       "exclude empty or all-NA columns when determining the result dtypes. To retain the old behavior, exclude the \n",
       "relevant entries before the concat operation.\n",
       "  results = pd.concat([results, normalized_data]) #.dropna(axis=1, how=\"all\")])\n"
      ]
     },
     "metadata": {},
     "output_type": "display_data"
    },
    {
     "data": {
      "text/html": [
       "<pre style=\"white-space:pre;overflow-x:auto;line-height:normal;font-family:Menlo,'DejaVu Sans Mono',consolas,'Courier New',monospace\">/var/folders/7t/k8q3439j6z3c683j7w00wtm80000gn/T/ipykernel_58430/330735155.py:26: FutureWarning: The behavior of \n",
       "DataFrame concatenation with empty or all-NA entries is deprecated. In a future version, this will no longer \n",
       "exclude empty or all-NA columns when determining the result dtypes. To retain the old behavior, exclude the \n",
       "relevant entries before the concat operation.\n",
       "  results = pd.concat([results, normalized_data]) #.dropna(axis=1, how=\"all\")])\n",
       "</pre>\n"
      ],
      "text/plain": [
       "/var/folders/7t/k8q3439j6z3c683j7w00wtm80000gn/T/ipykernel_58430/330735155.py:26: FutureWarning: The behavior of \n",
       "DataFrame concatenation with empty or all-NA entries is deprecated. In a future version, this will no longer \n",
       "exclude empty or all-NA columns when determining the result dtypes. To retain the old behavior, exclude the \n",
       "relevant entries before the concat operation.\n",
       "  results = pd.concat([results, normalized_data]) #.dropna(axis=1, how=\"all\")])\n"
      ]
     },
     "metadata": {},
     "output_type": "display_data"
    },
    {
     "data": {
      "text/html": [
       "<pre style=\"white-space:pre;overflow-x:auto;line-height:normal;font-family:Menlo,'DejaVu Sans Mono',consolas,'Courier New',monospace\">/var/folders/7t/k8q3439j6z3c683j7w00wtm80000gn/T/ipykernel_58430/330735155.py:26: FutureWarning: The behavior of \n",
       "DataFrame concatenation with empty or all-NA entries is deprecated. In a future version, this will no longer \n",
       "exclude empty or all-NA columns when determining the result dtypes. To retain the old behavior, exclude the \n",
       "relevant entries before the concat operation.\n",
       "  results = pd.concat([results, normalized_data]) #.dropna(axis=1, how=\"all\")])\n",
       "</pre>\n"
      ],
      "text/plain": [
       "/var/folders/7t/k8q3439j6z3c683j7w00wtm80000gn/T/ipykernel_58430/330735155.py:26: FutureWarning: The behavior of \n",
       "DataFrame concatenation with empty or all-NA entries is deprecated. In a future version, this will no longer \n",
       "exclude empty or all-NA columns when determining the result dtypes. To retain the old behavior, exclude the \n",
       "relevant entries before the concat operation.\n",
       "  results = pd.concat([results, normalized_data]) #.dropna(axis=1, how=\"all\")])\n"
      ]
     },
     "metadata": {},
     "output_type": "display_data"
    },
    {
     "data": {
      "text/html": [
       "<pre style=\"white-space:pre;overflow-x:auto;line-height:normal;font-family:Menlo,'DejaVu Sans Mono',consolas,'Courier New',monospace\">/var/folders/7t/k8q3439j6z3c683j7w00wtm80000gn/T/ipykernel_58430/330735155.py:26: FutureWarning: The behavior of \n",
       "DataFrame concatenation with empty or all-NA entries is deprecated. In a future version, this will no longer \n",
       "exclude empty or all-NA columns when determining the result dtypes. To retain the old behavior, exclude the \n",
       "relevant entries before the concat operation.\n",
       "  results = pd.concat([results, normalized_data]) #.dropna(axis=1, how=\"all\")])\n",
       "</pre>\n"
      ],
      "text/plain": [
       "/var/folders/7t/k8q3439j6z3c683j7w00wtm80000gn/T/ipykernel_58430/330735155.py:26: FutureWarning: The behavior of \n",
       "DataFrame concatenation with empty or all-NA entries is deprecated. In a future version, this will no longer \n",
       "exclude empty or all-NA columns when determining the result dtypes. To retain the old behavior, exclude the \n",
       "relevant entries before the concat operation.\n",
       "  results = pd.concat([results, normalized_data]) #.dropna(axis=1, how=\"all\")])\n"
      ]
     },
     "metadata": {},
     "output_type": "display_data"
    },
    {
     "data": {
      "text/html": [
       "<pre style=\"white-space:pre;overflow-x:auto;line-height:normal;font-family:Menlo,'DejaVu Sans Mono',consolas,'Courier New',monospace\">/var/folders/7t/k8q3439j6z3c683j7w00wtm80000gn/T/ipykernel_58430/330735155.py:26: FutureWarning: The behavior of \n",
       "DataFrame concatenation with empty or all-NA entries is deprecated. In a future version, this will no longer \n",
       "exclude empty or all-NA columns when determining the result dtypes. To retain the old behavior, exclude the \n",
       "relevant entries before the concat operation.\n",
       "  results = pd.concat([results, normalized_data]) #.dropna(axis=1, how=\"all\")])\n",
       "</pre>\n"
      ],
      "text/plain": [
       "/var/folders/7t/k8q3439j6z3c683j7w00wtm80000gn/T/ipykernel_58430/330735155.py:26: FutureWarning: The behavior of \n",
       "DataFrame concatenation with empty or all-NA entries is deprecated. In a future version, this will no longer \n",
       "exclude empty or all-NA columns when determining the result dtypes. To retain the old behavior, exclude the \n",
       "relevant entries before the concat operation.\n",
       "  results = pd.concat([results, normalized_data]) #.dropna(axis=1, how=\"all\")])\n"
      ]
     },
     "metadata": {},
     "output_type": "display_data"
    },
    {
     "data": {
      "text/html": [
       "<pre style=\"white-space:pre;overflow-x:auto;line-height:normal;font-family:Menlo,'DejaVu Sans Mono',consolas,'Courier New',monospace\">/var/folders/7t/k8q3439j6z3c683j7w00wtm80000gn/T/ipykernel_58430/330735155.py:26: FutureWarning: The behavior of \n",
       "DataFrame concatenation with empty or all-NA entries is deprecated. In a future version, this will no longer \n",
       "exclude empty or all-NA columns when determining the result dtypes. To retain the old behavior, exclude the \n",
       "relevant entries before the concat operation.\n",
       "  results = pd.concat([results, normalized_data]) #.dropna(axis=1, how=\"all\")])\n",
       "</pre>\n"
      ],
      "text/plain": [
       "/var/folders/7t/k8q3439j6z3c683j7w00wtm80000gn/T/ipykernel_58430/330735155.py:26: FutureWarning: The behavior of \n",
       "DataFrame concatenation with empty or all-NA entries is deprecated. In a future version, this will no longer \n",
       "exclude empty or all-NA columns when determining the result dtypes. To retain the old behavior, exclude the \n",
       "relevant entries before the concat operation.\n",
       "  results = pd.concat([results, normalized_data]) #.dropna(axis=1, how=\"all\")])\n"
      ]
     },
     "metadata": {},
     "output_type": "display_data"
    },
    {
     "data": {
      "text/html": [
       "<pre style=\"white-space:pre;overflow-x:auto;line-height:normal;font-family:Menlo,'DejaVu Sans Mono',consolas,'Courier New',monospace\">/var/folders/7t/k8q3439j6z3c683j7w00wtm80000gn/T/ipykernel_58430/330735155.py:26: FutureWarning: The behavior of \n",
       "DataFrame concatenation with empty or all-NA entries is deprecated. In a future version, this will no longer \n",
       "exclude empty or all-NA columns when determining the result dtypes. To retain the old behavior, exclude the \n",
       "relevant entries before the concat operation.\n",
       "  results = pd.concat([results, normalized_data]) #.dropna(axis=1, how=\"all\")])\n",
       "</pre>\n"
      ],
      "text/plain": [
       "/var/folders/7t/k8q3439j6z3c683j7w00wtm80000gn/T/ipykernel_58430/330735155.py:26: FutureWarning: The behavior of \n",
       "DataFrame concatenation with empty or all-NA entries is deprecated. In a future version, this will no longer \n",
       "exclude empty or all-NA columns when determining the result dtypes. To retain the old behavior, exclude the \n",
       "relevant entries before the concat operation.\n",
       "  results = pd.concat([results, normalized_data]) #.dropna(axis=1, how=\"all\")])\n"
      ]
     },
     "metadata": {},
     "output_type": "display_data"
    },
    {
     "data": {
      "text/html": [
       "<pre style=\"white-space:pre;overflow-x:auto;line-height:normal;font-family:Menlo,'DejaVu Sans Mono',consolas,'Courier New',monospace\">/var/folders/7t/k8q3439j6z3c683j7w00wtm80000gn/T/ipykernel_58430/330735155.py:26: FutureWarning: The behavior of \n",
       "DataFrame concatenation with empty or all-NA entries is deprecated. In a future version, this will no longer \n",
       "exclude empty or all-NA columns when determining the result dtypes. To retain the old behavior, exclude the \n",
       "relevant entries before the concat operation.\n",
       "  results = pd.concat([results, normalized_data]) #.dropna(axis=1, how=\"all\")])\n",
       "</pre>\n"
      ],
      "text/plain": [
       "/var/folders/7t/k8q3439j6z3c683j7w00wtm80000gn/T/ipykernel_58430/330735155.py:26: FutureWarning: The behavior of \n",
       "DataFrame concatenation with empty or all-NA entries is deprecated. In a future version, this will no longer \n",
       "exclude empty or all-NA columns when determining the result dtypes. To retain the old behavior, exclude the \n",
       "relevant entries before the concat operation.\n",
       "  results = pd.concat([results, normalized_data]) #.dropna(axis=1, how=\"all\")])\n"
      ]
     },
     "metadata": {},
     "output_type": "display_data"
    },
    {
     "data": {
      "text/html": [
       "<pre style=\"white-space:pre;overflow-x:auto;line-height:normal;font-family:Menlo,'DejaVu Sans Mono',consolas,'Courier New',monospace\">/var/folders/7t/k8q3439j6z3c683j7w00wtm80000gn/T/ipykernel_58430/330735155.py:26: FutureWarning: The behavior of \n",
       "DataFrame concatenation with empty or all-NA entries is deprecated. In a future version, this will no longer \n",
       "exclude empty or all-NA columns when determining the result dtypes. To retain the old behavior, exclude the \n",
       "relevant entries before the concat operation.\n",
       "  results = pd.concat([results, normalized_data]) #.dropna(axis=1, how=\"all\")])\n",
       "</pre>\n"
      ],
      "text/plain": [
       "/var/folders/7t/k8q3439j6z3c683j7w00wtm80000gn/T/ipykernel_58430/330735155.py:26: FutureWarning: The behavior of \n",
       "DataFrame concatenation with empty or all-NA entries is deprecated. In a future version, this will no longer \n",
       "exclude empty or all-NA columns when determining the result dtypes. To retain the old behavior, exclude the \n",
       "relevant entries before the concat operation.\n",
       "  results = pd.concat([results, normalized_data]) #.dropna(axis=1, how=\"all\")])\n"
      ]
     },
     "metadata": {},
     "output_type": "display_data"
    },
    {
     "data": {
      "text/html": [
       "<pre style=\"white-space:pre;overflow-x:auto;line-height:normal;font-family:Menlo,'DejaVu Sans Mono',consolas,'Courier New',monospace\">/var/folders/7t/k8q3439j6z3c683j7w00wtm80000gn/T/ipykernel_58430/330735155.py:26: FutureWarning: The behavior of \n",
       "DataFrame concatenation with empty or all-NA entries is deprecated. In a future version, this will no longer \n",
       "exclude empty or all-NA columns when determining the result dtypes. To retain the old behavior, exclude the \n",
       "relevant entries before the concat operation.\n",
       "  results = pd.concat([results, normalized_data]) #.dropna(axis=1, how=\"all\")])\n",
       "</pre>\n"
      ],
      "text/plain": [
       "/var/folders/7t/k8q3439j6z3c683j7w00wtm80000gn/T/ipykernel_58430/330735155.py:26: FutureWarning: The behavior of \n",
       "DataFrame concatenation with empty or all-NA entries is deprecated. In a future version, this will no longer \n",
       "exclude empty or all-NA columns when determining the result dtypes. To retain the old behavior, exclude the \n",
       "relevant entries before the concat operation.\n",
       "  results = pd.concat([results, normalized_data]) #.dropna(axis=1, how=\"all\")])\n"
      ]
     },
     "metadata": {},
     "output_type": "display_data"
    },
    {
     "data": {
      "text/html": [
       "<pre style=\"white-space:pre;overflow-x:auto;line-height:normal;font-family:Menlo,'DejaVu Sans Mono',consolas,'Courier New',monospace\">/var/folders/7t/k8q3439j6z3c683j7w00wtm80000gn/T/ipykernel_58430/330735155.py:26: FutureWarning: The behavior of \n",
       "DataFrame concatenation with empty or all-NA entries is deprecated. In a future version, this will no longer \n",
       "exclude empty or all-NA columns when determining the result dtypes. To retain the old behavior, exclude the \n",
       "relevant entries before the concat operation.\n",
       "  results = pd.concat([results, normalized_data]) #.dropna(axis=1, how=\"all\")])\n",
       "</pre>\n"
      ],
      "text/plain": [
       "/var/folders/7t/k8q3439j6z3c683j7w00wtm80000gn/T/ipykernel_58430/330735155.py:26: FutureWarning: The behavior of \n",
       "DataFrame concatenation with empty or all-NA entries is deprecated. In a future version, this will no longer \n",
       "exclude empty or all-NA columns when determining the result dtypes. To retain the old behavior, exclude the \n",
       "relevant entries before the concat operation.\n",
       "  results = pd.concat([results, normalized_data]) #.dropna(axis=1, how=\"all\")])\n"
      ]
     },
     "metadata": {},
     "output_type": "display_data"
    },
    {
     "data": {
      "text/html": [
       "<pre style=\"white-space:pre;overflow-x:auto;line-height:normal;font-family:Menlo,'DejaVu Sans Mono',consolas,'Courier New',monospace\">/var/folders/7t/k8q3439j6z3c683j7w00wtm80000gn/T/ipykernel_58430/330735155.py:26: FutureWarning: The behavior of \n",
       "DataFrame concatenation with empty or all-NA entries is deprecated. In a future version, this will no longer \n",
       "exclude empty or all-NA columns when determining the result dtypes. To retain the old behavior, exclude the \n",
       "relevant entries before the concat operation.\n",
       "  results = pd.concat([results, normalized_data]) #.dropna(axis=1, how=\"all\")])\n",
       "</pre>\n"
      ],
      "text/plain": [
       "/var/folders/7t/k8q3439j6z3c683j7w00wtm80000gn/T/ipykernel_58430/330735155.py:26: FutureWarning: The behavior of \n",
       "DataFrame concatenation with empty or all-NA entries is deprecated. In a future version, this will no longer \n",
       "exclude empty or all-NA columns when determining the result dtypes. To retain the old behavior, exclude the \n",
       "relevant entries before the concat operation.\n",
       "  results = pd.concat([results, normalized_data]) #.dropna(axis=1, how=\"all\")])\n"
      ]
     },
     "metadata": {},
     "output_type": "display_data"
    },
    {
     "data": {
      "text/html": [
       "<pre style=\"white-space:pre;overflow-x:auto;line-height:normal;font-family:Menlo,'DejaVu Sans Mono',consolas,'Courier New',monospace\">/var/folders/7t/k8q3439j6z3c683j7w00wtm80000gn/T/ipykernel_58430/330735155.py:26: FutureWarning: The behavior of \n",
       "DataFrame concatenation with empty or all-NA entries is deprecated. In a future version, this will no longer \n",
       "exclude empty or all-NA columns when determining the result dtypes. To retain the old behavior, exclude the \n",
       "relevant entries before the concat operation.\n",
       "  results = pd.concat([results, normalized_data]) #.dropna(axis=1, how=\"all\")])\n",
       "</pre>\n"
      ],
      "text/plain": [
       "/var/folders/7t/k8q3439j6z3c683j7w00wtm80000gn/T/ipykernel_58430/330735155.py:26: FutureWarning: The behavior of \n",
       "DataFrame concatenation with empty or all-NA entries is deprecated. In a future version, this will no longer \n",
       "exclude empty or all-NA columns when determining the result dtypes. To retain the old behavior, exclude the \n",
       "relevant entries before the concat operation.\n",
       "  results = pd.concat([results, normalized_data]) #.dropna(axis=1, how=\"all\")])\n"
      ]
     },
     "metadata": {},
     "output_type": "display_data"
    },
    {
     "data": {
      "text/html": [
       "<pre style=\"white-space:pre;overflow-x:auto;line-height:normal;font-family:Menlo,'DejaVu Sans Mono',consolas,'Courier New',monospace\">/var/folders/7t/k8q3439j6z3c683j7w00wtm80000gn/T/ipykernel_58430/330735155.py:26: FutureWarning: The behavior of \n",
       "DataFrame concatenation with empty or all-NA entries is deprecated. In a future version, this will no longer \n",
       "exclude empty or all-NA columns when determining the result dtypes. To retain the old behavior, exclude the \n",
       "relevant entries before the concat operation.\n",
       "  results = pd.concat([results, normalized_data]) #.dropna(axis=1, how=\"all\")])\n",
       "</pre>\n"
      ],
      "text/plain": [
       "/var/folders/7t/k8q3439j6z3c683j7w00wtm80000gn/T/ipykernel_58430/330735155.py:26: FutureWarning: The behavior of \n",
       "DataFrame concatenation with empty or all-NA entries is deprecated. In a future version, this will no longer \n",
       "exclude empty or all-NA columns when determining the result dtypes. To retain the old behavior, exclude the \n",
       "relevant entries before the concat operation.\n",
       "  results = pd.concat([results, normalized_data]) #.dropna(axis=1, how=\"all\")])\n"
      ]
     },
     "metadata": {},
     "output_type": "display_data"
    },
    {
     "data": {
      "text/html": [
       "<pre style=\"white-space:pre;overflow-x:auto;line-height:normal;font-family:Menlo,'DejaVu Sans Mono',consolas,'Courier New',monospace\">/var/folders/7t/k8q3439j6z3c683j7w00wtm80000gn/T/ipykernel_58430/330735155.py:26: FutureWarning: The behavior of \n",
       "DataFrame concatenation with empty or all-NA entries is deprecated. In a future version, this will no longer \n",
       "exclude empty or all-NA columns when determining the result dtypes. To retain the old behavior, exclude the \n",
       "relevant entries before the concat operation.\n",
       "  results = pd.concat([results, normalized_data]) #.dropna(axis=1, how=\"all\")])\n",
       "</pre>\n"
      ],
      "text/plain": [
       "/var/folders/7t/k8q3439j6z3c683j7w00wtm80000gn/T/ipykernel_58430/330735155.py:26: FutureWarning: The behavior of \n",
       "DataFrame concatenation with empty or all-NA entries is deprecated. In a future version, this will no longer \n",
       "exclude empty or all-NA columns when determining the result dtypes. To retain the old behavior, exclude the \n",
       "relevant entries before the concat operation.\n",
       "  results = pd.concat([results, normalized_data]) #.dropna(axis=1, how=\"all\")])\n"
      ]
     },
     "metadata": {},
     "output_type": "display_data"
    },
    {
     "data": {
      "text/html": [
       "<pre style=\"white-space:pre;overflow-x:auto;line-height:normal;font-family:Menlo,'DejaVu Sans Mono',consolas,'Courier New',monospace\">/var/folders/7t/k8q3439j6z3c683j7w00wtm80000gn/T/ipykernel_58430/330735155.py:26: FutureWarning: The behavior of \n",
       "DataFrame concatenation with empty or all-NA entries is deprecated. In a future version, this will no longer \n",
       "exclude empty or all-NA columns when determining the result dtypes. To retain the old behavior, exclude the \n",
       "relevant entries before the concat operation.\n",
       "  results = pd.concat([results, normalized_data]) #.dropna(axis=1, how=\"all\")])\n",
       "</pre>\n"
      ],
      "text/plain": [
       "/var/folders/7t/k8q3439j6z3c683j7w00wtm80000gn/T/ipykernel_58430/330735155.py:26: FutureWarning: The behavior of \n",
       "DataFrame concatenation with empty or all-NA entries is deprecated. In a future version, this will no longer \n",
       "exclude empty or all-NA columns when determining the result dtypes. To retain the old behavior, exclude the \n",
       "relevant entries before the concat operation.\n",
       "  results = pd.concat([results, normalized_data]) #.dropna(axis=1, how=\"all\")])\n"
      ]
     },
     "metadata": {},
     "output_type": "display_data"
    },
    {
     "data": {
      "text/html": [
       "<pre style=\"white-space:pre;overflow-x:auto;line-height:normal;font-family:Menlo,'DejaVu Sans Mono',consolas,'Courier New',monospace\">/var/folders/7t/k8q3439j6z3c683j7w00wtm80000gn/T/ipykernel_58430/330735155.py:26: FutureWarning: The behavior of \n",
       "DataFrame concatenation with empty or all-NA entries is deprecated. In a future version, this will no longer \n",
       "exclude empty or all-NA columns when determining the result dtypes. To retain the old behavior, exclude the \n",
       "relevant entries before the concat operation.\n",
       "  results = pd.concat([results, normalized_data]) #.dropna(axis=1, how=\"all\")])\n",
       "</pre>\n"
      ],
      "text/plain": [
       "/var/folders/7t/k8q3439j6z3c683j7w00wtm80000gn/T/ipykernel_58430/330735155.py:26: FutureWarning: The behavior of \n",
       "DataFrame concatenation with empty or all-NA entries is deprecated. In a future version, this will no longer \n",
       "exclude empty or all-NA columns when determining the result dtypes. To retain the old behavior, exclude the \n",
       "relevant entries before the concat operation.\n",
       "  results = pd.concat([results, normalized_data]) #.dropna(axis=1, how=\"all\")])\n"
      ]
     },
     "metadata": {},
     "output_type": "display_data"
    },
    {
     "data": {
      "text/html": [
       "<pre style=\"white-space:pre;overflow-x:auto;line-height:normal;font-family:Menlo,'DejaVu Sans Mono',consolas,'Courier New',monospace\">/var/folders/7t/k8q3439j6z3c683j7w00wtm80000gn/T/ipykernel_58430/330735155.py:26: FutureWarning: The behavior of \n",
       "DataFrame concatenation with empty or all-NA entries is deprecated. In a future version, this will no longer \n",
       "exclude empty or all-NA columns when determining the result dtypes. To retain the old behavior, exclude the \n",
       "relevant entries before the concat operation.\n",
       "  results = pd.concat([results, normalized_data]) #.dropna(axis=1, how=\"all\")])\n",
       "</pre>\n"
      ],
      "text/plain": [
       "/var/folders/7t/k8q3439j6z3c683j7w00wtm80000gn/T/ipykernel_58430/330735155.py:26: FutureWarning: The behavior of \n",
       "DataFrame concatenation with empty or all-NA entries is deprecated. In a future version, this will no longer \n",
       "exclude empty or all-NA columns when determining the result dtypes. To retain the old behavior, exclude the \n",
       "relevant entries before the concat operation.\n",
       "  results = pd.concat([results, normalized_data]) #.dropna(axis=1, how=\"all\")])\n"
      ]
     },
     "metadata": {},
     "output_type": "display_data"
    },
    {
     "data": {
      "text/html": [
       "<pre style=\"white-space:pre;overflow-x:auto;line-height:normal;font-family:Menlo,'DejaVu Sans Mono',consolas,'Courier New',monospace\">/var/folders/7t/k8q3439j6z3c683j7w00wtm80000gn/T/ipykernel_58430/330735155.py:26: FutureWarning: The behavior of \n",
       "DataFrame concatenation with empty or all-NA entries is deprecated. In a future version, this will no longer \n",
       "exclude empty or all-NA columns when determining the result dtypes. To retain the old behavior, exclude the \n",
       "relevant entries before the concat operation.\n",
       "  results = pd.concat([results, normalized_data]) #.dropna(axis=1, how=\"all\")])\n",
       "</pre>\n"
      ],
      "text/plain": [
       "/var/folders/7t/k8q3439j6z3c683j7w00wtm80000gn/T/ipykernel_58430/330735155.py:26: FutureWarning: The behavior of \n",
       "DataFrame concatenation with empty or all-NA entries is deprecated. In a future version, this will no longer \n",
       "exclude empty or all-NA columns when determining the result dtypes. To retain the old behavior, exclude the \n",
       "relevant entries before the concat operation.\n",
       "  results = pd.concat([results, normalized_data]) #.dropna(axis=1, how=\"all\")])\n"
      ]
     },
     "metadata": {},
     "output_type": "display_data"
    },
    {
     "data": {
      "text/html": [
       "<pre style=\"white-space:pre;overflow-x:auto;line-height:normal;font-family:Menlo,'DejaVu Sans Mono',consolas,'Courier New',monospace\">/var/folders/7t/k8q3439j6z3c683j7w00wtm80000gn/T/ipykernel_58430/330735155.py:26: FutureWarning: The behavior of \n",
       "DataFrame concatenation with empty or all-NA entries is deprecated. In a future version, this will no longer \n",
       "exclude empty or all-NA columns when determining the result dtypes. To retain the old behavior, exclude the \n",
       "relevant entries before the concat operation.\n",
       "  results = pd.concat([results, normalized_data]) #.dropna(axis=1, how=\"all\")])\n",
       "</pre>\n"
      ],
      "text/plain": [
       "/var/folders/7t/k8q3439j6z3c683j7w00wtm80000gn/T/ipykernel_58430/330735155.py:26: FutureWarning: The behavior of \n",
       "DataFrame concatenation with empty or all-NA entries is deprecated. In a future version, this will no longer \n",
       "exclude empty or all-NA columns when determining the result dtypes. To retain the old behavior, exclude the \n",
       "relevant entries before the concat operation.\n",
       "  results = pd.concat([results, normalized_data]) #.dropna(axis=1, how=\"all\")])\n"
      ]
     },
     "metadata": {},
     "output_type": "display_data"
    },
    {
     "data": {
      "text/html": [
       "<pre style=\"white-space:pre;overflow-x:auto;line-height:normal;font-family:Menlo,'DejaVu Sans Mono',consolas,'Courier New',monospace\">/var/folders/7t/k8q3439j6z3c683j7w00wtm80000gn/T/ipykernel_58430/330735155.py:26: FutureWarning: The behavior of \n",
       "DataFrame concatenation with empty or all-NA entries is deprecated. In a future version, this will no longer \n",
       "exclude empty or all-NA columns when determining the result dtypes. To retain the old behavior, exclude the \n",
       "relevant entries before the concat operation.\n",
       "  results = pd.concat([results, normalized_data]) #.dropna(axis=1, how=\"all\")])\n",
       "</pre>\n"
      ],
      "text/plain": [
       "/var/folders/7t/k8q3439j6z3c683j7w00wtm80000gn/T/ipykernel_58430/330735155.py:26: FutureWarning: The behavior of \n",
       "DataFrame concatenation with empty or all-NA entries is deprecated. In a future version, this will no longer \n",
       "exclude empty or all-NA columns when determining the result dtypes. To retain the old behavior, exclude the \n",
       "relevant entries before the concat operation.\n",
       "  results = pd.concat([results, normalized_data]) #.dropna(axis=1, how=\"all\")])\n"
      ]
     },
     "metadata": {},
     "output_type": "display_data"
    },
    {
     "data": {
      "text/html": [
       "<pre style=\"white-space:pre;overflow-x:auto;line-height:normal;font-family:Menlo,'DejaVu Sans Mono',consolas,'Courier New',monospace\">/var/folders/7t/k8q3439j6z3c683j7w00wtm80000gn/T/ipykernel_58430/330735155.py:26: FutureWarning: The behavior of \n",
       "DataFrame concatenation with empty or all-NA entries is deprecated. In a future version, this will no longer \n",
       "exclude empty or all-NA columns when determining the result dtypes. To retain the old behavior, exclude the \n",
       "relevant entries before the concat operation.\n",
       "  results = pd.concat([results, normalized_data]) #.dropna(axis=1, how=\"all\")])\n",
       "</pre>\n"
      ],
      "text/plain": [
       "/var/folders/7t/k8q3439j6z3c683j7w00wtm80000gn/T/ipykernel_58430/330735155.py:26: FutureWarning: The behavior of \n",
       "DataFrame concatenation with empty or all-NA entries is deprecated. In a future version, this will no longer \n",
       "exclude empty or all-NA columns when determining the result dtypes. To retain the old behavior, exclude the \n",
       "relevant entries before the concat operation.\n",
       "  results = pd.concat([results, normalized_data]) #.dropna(axis=1, how=\"all\")])\n"
      ]
     },
     "metadata": {},
     "output_type": "display_data"
    },
    {
     "data": {
      "text/html": [
       "<pre style=\"white-space:pre;overflow-x:auto;line-height:normal;font-family:Menlo,'DejaVu Sans Mono',consolas,'Courier New',monospace\">/var/folders/7t/k8q3439j6z3c683j7w00wtm80000gn/T/ipykernel_58430/330735155.py:26: FutureWarning: The behavior of \n",
       "DataFrame concatenation with empty or all-NA entries is deprecated. In a future version, this will no longer \n",
       "exclude empty or all-NA columns when determining the result dtypes. To retain the old behavior, exclude the \n",
       "relevant entries before the concat operation.\n",
       "  results = pd.concat([results, normalized_data]) #.dropna(axis=1, how=\"all\")])\n",
       "</pre>\n"
      ],
      "text/plain": [
       "/var/folders/7t/k8q3439j6z3c683j7w00wtm80000gn/T/ipykernel_58430/330735155.py:26: FutureWarning: The behavior of \n",
       "DataFrame concatenation with empty or all-NA entries is deprecated. In a future version, this will no longer \n",
       "exclude empty or all-NA columns when determining the result dtypes. To retain the old behavior, exclude the \n",
       "relevant entries before the concat operation.\n",
       "  results = pd.concat([results, normalized_data]) #.dropna(axis=1, how=\"all\")])\n"
      ]
     },
     "metadata": {},
     "output_type": "display_data"
    },
    {
     "data": {
      "text/html": [
       "<pre style=\"white-space:pre;overflow-x:auto;line-height:normal;font-family:Menlo,'DejaVu Sans Mono',consolas,'Courier New',monospace\">/var/folders/7t/k8q3439j6z3c683j7w00wtm80000gn/T/ipykernel_58430/330735155.py:26: FutureWarning: The behavior of \n",
       "DataFrame concatenation with empty or all-NA entries is deprecated. In a future version, this will no longer \n",
       "exclude empty or all-NA columns when determining the result dtypes. To retain the old behavior, exclude the \n",
       "relevant entries before the concat operation.\n",
       "  results = pd.concat([results, normalized_data]) #.dropna(axis=1, how=\"all\")])\n",
       "</pre>\n"
      ],
      "text/plain": [
       "/var/folders/7t/k8q3439j6z3c683j7w00wtm80000gn/T/ipykernel_58430/330735155.py:26: FutureWarning: The behavior of \n",
       "DataFrame concatenation with empty or all-NA entries is deprecated. In a future version, this will no longer \n",
       "exclude empty or all-NA columns when determining the result dtypes. To retain the old behavior, exclude the \n",
       "relevant entries before the concat operation.\n",
       "  results = pd.concat([results, normalized_data]) #.dropna(axis=1, how=\"all\")])\n"
      ]
     },
     "metadata": {},
     "output_type": "display_data"
    },
    {
     "data": {
      "text/html": [
       "<pre style=\"white-space:pre;overflow-x:auto;line-height:normal;font-family:Menlo,'DejaVu Sans Mono',consolas,'Courier New',monospace\">/var/folders/7t/k8q3439j6z3c683j7w00wtm80000gn/T/ipykernel_58430/330735155.py:26: FutureWarning: The behavior of \n",
       "DataFrame concatenation with empty or all-NA entries is deprecated. In a future version, this will no longer \n",
       "exclude empty or all-NA columns when determining the result dtypes. To retain the old behavior, exclude the \n",
       "relevant entries before the concat operation.\n",
       "  results = pd.concat([results, normalized_data]) #.dropna(axis=1, how=\"all\")])\n",
       "</pre>\n"
      ],
      "text/plain": [
       "/var/folders/7t/k8q3439j6z3c683j7w00wtm80000gn/T/ipykernel_58430/330735155.py:26: FutureWarning: The behavior of \n",
       "DataFrame concatenation with empty or all-NA entries is deprecated. In a future version, this will no longer \n",
       "exclude empty or all-NA columns when determining the result dtypes. To retain the old behavior, exclude the \n",
       "relevant entries before the concat operation.\n",
       "  results = pd.concat([results, normalized_data]) #.dropna(axis=1, how=\"all\")])\n"
      ]
     },
     "metadata": {},
     "output_type": "display_data"
    },
    {
     "data": {
      "text/html": [
       "<pre style=\"white-space:pre;overflow-x:auto;line-height:normal;font-family:Menlo,'DejaVu Sans Mono',consolas,'Courier New',monospace\">/var/folders/7t/k8q3439j6z3c683j7w00wtm80000gn/T/ipykernel_58430/330735155.py:26: FutureWarning: The behavior of \n",
       "DataFrame concatenation with empty or all-NA entries is deprecated. In a future version, this will no longer \n",
       "exclude empty or all-NA columns when determining the result dtypes. To retain the old behavior, exclude the \n",
       "relevant entries before the concat operation.\n",
       "  results = pd.concat([results, normalized_data]) #.dropna(axis=1, how=\"all\")])\n",
       "</pre>\n"
      ],
      "text/plain": [
       "/var/folders/7t/k8q3439j6z3c683j7w00wtm80000gn/T/ipykernel_58430/330735155.py:26: FutureWarning: The behavior of \n",
       "DataFrame concatenation with empty or all-NA entries is deprecated. In a future version, this will no longer \n",
       "exclude empty or all-NA columns when determining the result dtypes. To retain the old behavior, exclude the \n",
       "relevant entries before the concat operation.\n",
       "  results = pd.concat([results, normalized_data]) #.dropna(axis=1, how=\"all\")])\n"
      ]
     },
     "metadata": {},
     "output_type": "display_data"
    },
    {
     "data": {
      "text/html": [
       "<pre style=\"white-space:pre;overflow-x:auto;line-height:normal;font-family:Menlo,'DejaVu Sans Mono',consolas,'Courier New',monospace\">/var/folders/7t/k8q3439j6z3c683j7w00wtm80000gn/T/ipykernel_58430/330735155.py:26: FutureWarning: The behavior of \n",
       "DataFrame concatenation with empty or all-NA entries is deprecated. In a future version, this will no longer \n",
       "exclude empty or all-NA columns when determining the result dtypes. To retain the old behavior, exclude the \n",
       "relevant entries before the concat operation.\n",
       "  results = pd.concat([results, normalized_data]) #.dropna(axis=1, how=\"all\")])\n",
       "</pre>\n"
      ],
      "text/plain": [
       "/var/folders/7t/k8q3439j6z3c683j7w00wtm80000gn/T/ipykernel_58430/330735155.py:26: FutureWarning: The behavior of \n",
       "DataFrame concatenation with empty or all-NA entries is deprecated. In a future version, this will no longer \n",
       "exclude empty or all-NA columns when determining the result dtypes. To retain the old behavior, exclude the \n",
       "relevant entries before the concat operation.\n",
       "  results = pd.concat([results, normalized_data]) #.dropna(axis=1, how=\"all\")])\n"
      ]
     },
     "metadata": {},
     "output_type": "display_data"
    },
    {
     "data": {
      "text/html": [
       "<pre style=\"white-space:pre;overflow-x:auto;line-height:normal;font-family:Menlo,'DejaVu Sans Mono',consolas,'Courier New',monospace\">/var/folders/7t/k8q3439j6z3c683j7w00wtm80000gn/T/ipykernel_58430/330735155.py:26: FutureWarning: The behavior of \n",
       "DataFrame concatenation with empty or all-NA entries is deprecated. In a future version, this will no longer \n",
       "exclude empty or all-NA columns when determining the result dtypes. To retain the old behavior, exclude the \n",
       "relevant entries before the concat operation.\n",
       "  results = pd.concat([results, normalized_data]) #.dropna(axis=1, how=\"all\")])\n",
       "</pre>\n"
      ],
      "text/plain": [
       "/var/folders/7t/k8q3439j6z3c683j7w00wtm80000gn/T/ipykernel_58430/330735155.py:26: FutureWarning: The behavior of \n",
       "DataFrame concatenation with empty or all-NA entries is deprecated. In a future version, this will no longer \n",
       "exclude empty or all-NA columns when determining the result dtypes. To retain the old behavior, exclude the \n",
       "relevant entries before the concat operation.\n",
       "  results = pd.concat([results, normalized_data]) #.dropna(axis=1, how=\"all\")])\n"
      ]
     },
     "metadata": {},
     "output_type": "display_data"
    },
    {
     "data": {
      "text/html": [
       "<pre style=\"white-space:pre;overflow-x:auto;line-height:normal;font-family:Menlo,'DejaVu Sans Mono',consolas,'Courier New',monospace\">/var/folders/7t/k8q3439j6z3c683j7w00wtm80000gn/T/ipykernel_58430/330735155.py:26: FutureWarning: The behavior of \n",
       "DataFrame concatenation with empty or all-NA entries is deprecated. In a future version, this will no longer \n",
       "exclude empty or all-NA columns when determining the result dtypes. To retain the old behavior, exclude the \n",
       "relevant entries before the concat operation.\n",
       "  results = pd.concat([results, normalized_data]) #.dropna(axis=1, how=\"all\")])\n",
       "</pre>\n"
      ],
      "text/plain": [
       "/var/folders/7t/k8q3439j6z3c683j7w00wtm80000gn/T/ipykernel_58430/330735155.py:26: FutureWarning: The behavior of \n",
       "DataFrame concatenation with empty or all-NA entries is deprecated. In a future version, this will no longer \n",
       "exclude empty or all-NA columns when determining the result dtypes. To retain the old behavior, exclude the \n",
       "relevant entries before the concat operation.\n",
       "  results = pd.concat([results, normalized_data]) #.dropna(axis=1, how=\"all\")])\n"
      ]
     },
     "metadata": {},
     "output_type": "display_data"
    },
    {
     "data": {
      "text/html": [
       "<pre style=\"white-space:pre;overflow-x:auto;line-height:normal;font-family:Menlo,'DejaVu Sans Mono',consolas,'Courier New',monospace\">/var/folders/7t/k8q3439j6z3c683j7w00wtm80000gn/T/ipykernel_58430/330735155.py:26: FutureWarning: The behavior of \n",
       "DataFrame concatenation with empty or all-NA entries is deprecated. In a future version, this will no longer \n",
       "exclude empty or all-NA columns when determining the result dtypes. To retain the old behavior, exclude the \n",
       "relevant entries before the concat operation.\n",
       "  results = pd.concat([results, normalized_data]) #.dropna(axis=1, how=\"all\")])\n",
       "</pre>\n"
      ],
      "text/plain": [
       "/var/folders/7t/k8q3439j6z3c683j7w00wtm80000gn/T/ipykernel_58430/330735155.py:26: FutureWarning: The behavior of \n",
       "DataFrame concatenation with empty or all-NA entries is deprecated. In a future version, this will no longer \n",
       "exclude empty or all-NA columns when determining the result dtypes. To retain the old behavior, exclude the \n",
       "relevant entries before the concat operation.\n",
       "  results = pd.concat([results, normalized_data]) #.dropna(axis=1, how=\"all\")])\n"
      ]
     },
     "metadata": {},
     "output_type": "display_data"
    },
    {
     "data": {
      "text/html": [
       "<pre style=\"white-space:pre;overflow-x:auto;line-height:normal;font-family:Menlo,'DejaVu Sans Mono',consolas,'Courier New',monospace\">/var/folders/7t/k8q3439j6z3c683j7w00wtm80000gn/T/ipykernel_58430/330735155.py:26: FutureWarning: The behavior of \n",
       "DataFrame concatenation with empty or all-NA entries is deprecated. In a future version, this will no longer \n",
       "exclude empty or all-NA columns when determining the result dtypes. To retain the old behavior, exclude the \n",
       "relevant entries before the concat operation.\n",
       "  results = pd.concat([results, normalized_data]) #.dropna(axis=1, how=\"all\")])\n",
       "</pre>\n"
      ],
      "text/plain": [
       "/var/folders/7t/k8q3439j6z3c683j7w00wtm80000gn/T/ipykernel_58430/330735155.py:26: FutureWarning: The behavior of \n",
       "DataFrame concatenation with empty or all-NA entries is deprecated. In a future version, this will no longer \n",
       "exclude empty or all-NA columns when determining the result dtypes. To retain the old behavior, exclude the \n",
       "relevant entries before the concat operation.\n",
       "  results = pd.concat([results, normalized_data]) #.dropna(axis=1, how=\"all\")])\n"
      ]
     },
     "metadata": {},
     "output_type": "display_data"
    },
    {
     "data": {
      "text/html": [
       "<pre style=\"white-space:pre;overflow-x:auto;line-height:normal;font-family:Menlo,'DejaVu Sans Mono',consolas,'Courier New',monospace\">/var/folders/7t/k8q3439j6z3c683j7w00wtm80000gn/T/ipykernel_58430/330735155.py:26: FutureWarning: The behavior of \n",
       "DataFrame concatenation with empty or all-NA entries is deprecated. In a future version, this will no longer \n",
       "exclude empty or all-NA columns when determining the result dtypes. To retain the old behavior, exclude the \n",
       "relevant entries before the concat operation.\n",
       "  results = pd.concat([results, normalized_data]) #.dropna(axis=1, how=\"all\")])\n",
       "</pre>\n"
      ],
      "text/plain": [
       "/var/folders/7t/k8q3439j6z3c683j7w00wtm80000gn/T/ipykernel_58430/330735155.py:26: FutureWarning: The behavior of \n",
       "DataFrame concatenation with empty or all-NA entries is deprecated. In a future version, this will no longer \n",
       "exclude empty or all-NA columns when determining the result dtypes. To retain the old behavior, exclude the \n",
       "relevant entries before the concat operation.\n",
       "  results = pd.concat([results, normalized_data]) #.dropna(axis=1, how=\"all\")])\n"
      ]
     },
     "metadata": {},
     "output_type": "display_data"
    },
    {
     "data": {
      "text/html": [
       "<pre style=\"white-space:pre;overflow-x:auto;line-height:normal;font-family:Menlo,'DejaVu Sans Mono',consolas,'Courier New',monospace\">/var/folders/7t/k8q3439j6z3c683j7w00wtm80000gn/T/ipykernel_58430/330735155.py:26: FutureWarning: The behavior of \n",
       "DataFrame concatenation with empty or all-NA entries is deprecated. In a future version, this will no longer \n",
       "exclude empty or all-NA columns when determining the result dtypes. To retain the old behavior, exclude the \n",
       "relevant entries before the concat operation.\n",
       "  results = pd.concat([results, normalized_data]) #.dropna(axis=1, how=\"all\")])\n",
       "</pre>\n"
      ],
      "text/plain": [
       "/var/folders/7t/k8q3439j6z3c683j7w00wtm80000gn/T/ipykernel_58430/330735155.py:26: FutureWarning: The behavior of \n",
       "DataFrame concatenation with empty or all-NA entries is deprecated. In a future version, this will no longer \n",
       "exclude empty or all-NA columns when determining the result dtypes. To retain the old behavior, exclude the \n",
       "relevant entries before the concat operation.\n",
       "  results = pd.concat([results, normalized_data]) #.dropna(axis=1, how=\"all\")])\n"
      ]
     },
     "metadata": {},
     "output_type": "display_data"
    },
    {
     "data": {
      "text/html": [
       "<pre style=\"white-space:pre;overflow-x:auto;line-height:normal;font-family:Menlo,'DejaVu Sans Mono',consolas,'Courier New',monospace\">/var/folders/7t/k8q3439j6z3c683j7w00wtm80000gn/T/ipykernel_58430/330735155.py:26: FutureWarning: The behavior of \n",
       "DataFrame concatenation with empty or all-NA entries is deprecated. In a future version, this will no longer \n",
       "exclude empty or all-NA columns when determining the result dtypes. To retain the old behavior, exclude the \n",
       "relevant entries before the concat operation.\n",
       "  results = pd.concat([results, normalized_data]) #.dropna(axis=1, how=\"all\")])\n",
       "</pre>\n"
      ],
      "text/plain": [
       "/var/folders/7t/k8q3439j6z3c683j7w00wtm80000gn/T/ipykernel_58430/330735155.py:26: FutureWarning: The behavior of \n",
       "DataFrame concatenation with empty or all-NA entries is deprecated. In a future version, this will no longer \n",
       "exclude empty or all-NA columns when determining the result dtypes. To retain the old behavior, exclude the \n",
       "relevant entries before the concat operation.\n",
       "  results = pd.concat([results, normalized_data]) #.dropna(axis=1, how=\"all\")])\n"
      ]
     },
     "metadata": {},
     "output_type": "display_data"
    },
    {
     "data": {
      "text/html": [
       "<pre style=\"white-space:pre;overflow-x:auto;line-height:normal;font-family:Menlo,'DejaVu Sans Mono',consolas,'Courier New',monospace\">/var/folders/7t/k8q3439j6z3c683j7w00wtm80000gn/T/ipykernel_58430/330735155.py:26: FutureWarning: The behavior of \n",
       "DataFrame concatenation with empty or all-NA entries is deprecated. In a future version, this will no longer \n",
       "exclude empty or all-NA columns when determining the result dtypes. To retain the old behavior, exclude the \n",
       "relevant entries before the concat operation.\n",
       "  results = pd.concat([results, normalized_data]) #.dropna(axis=1, how=\"all\")])\n",
       "</pre>\n"
      ],
      "text/plain": [
       "/var/folders/7t/k8q3439j6z3c683j7w00wtm80000gn/T/ipykernel_58430/330735155.py:26: FutureWarning: The behavior of \n",
       "DataFrame concatenation with empty or all-NA entries is deprecated. In a future version, this will no longer \n",
       "exclude empty or all-NA columns when determining the result dtypes. To retain the old behavior, exclude the \n",
       "relevant entries before the concat operation.\n",
       "  results = pd.concat([results, normalized_data]) #.dropna(axis=1, how=\"all\")])\n"
      ]
     },
     "metadata": {},
     "output_type": "display_data"
    },
    {
     "data": {
      "text/html": [
       "<pre style=\"white-space:pre;overflow-x:auto;line-height:normal;font-family:Menlo,'DejaVu Sans Mono',consolas,'Courier New',monospace\">/var/folders/7t/k8q3439j6z3c683j7w00wtm80000gn/T/ipykernel_58430/330735155.py:26: FutureWarning: The behavior of \n",
       "DataFrame concatenation with empty or all-NA entries is deprecated. In a future version, this will no longer \n",
       "exclude empty or all-NA columns when determining the result dtypes. To retain the old behavior, exclude the \n",
       "relevant entries before the concat operation.\n",
       "  results = pd.concat([results, normalized_data]) #.dropna(axis=1, how=\"all\")])\n",
       "</pre>\n"
      ],
      "text/plain": [
       "/var/folders/7t/k8q3439j6z3c683j7w00wtm80000gn/T/ipykernel_58430/330735155.py:26: FutureWarning: The behavior of \n",
       "DataFrame concatenation with empty or all-NA entries is deprecated. In a future version, this will no longer \n",
       "exclude empty or all-NA columns when determining the result dtypes. To retain the old behavior, exclude the \n",
       "relevant entries before the concat operation.\n",
       "  results = pd.concat([results, normalized_data]) #.dropna(axis=1, how=\"all\")])\n"
      ]
     },
     "metadata": {},
     "output_type": "display_data"
    },
    {
     "data": {
      "text/html": [
       "<pre style=\"white-space:pre;overflow-x:auto;line-height:normal;font-family:Menlo,'DejaVu Sans Mono',consolas,'Courier New',monospace\">/var/folders/7t/k8q3439j6z3c683j7w00wtm80000gn/T/ipykernel_58430/330735155.py:26: FutureWarning: The behavior of \n",
       "DataFrame concatenation with empty or all-NA entries is deprecated. In a future version, this will no longer \n",
       "exclude empty or all-NA columns when determining the result dtypes. To retain the old behavior, exclude the \n",
       "relevant entries before the concat operation.\n",
       "  results = pd.concat([results, normalized_data]) #.dropna(axis=1, how=\"all\")])\n",
       "</pre>\n"
      ],
      "text/plain": [
       "/var/folders/7t/k8q3439j6z3c683j7w00wtm80000gn/T/ipykernel_58430/330735155.py:26: FutureWarning: The behavior of \n",
       "DataFrame concatenation with empty or all-NA entries is deprecated. In a future version, this will no longer \n",
       "exclude empty or all-NA columns when determining the result dtypes. To retain the old behavior, exclude the \n",
       "relevant entries before the concat operation.\n",
       "  results = pd.concat([results, normalized_data]) #.dropna(axis=1, how=\"all\")])\n"
      ]
     },
     "metadata": {},
     "output_type": "display_data"
    },
    {
     "data": {
      "text/html": [
       "<pre style=\"white-space:pre;overflow-x:auto;line-height:normal;font-family:Menlo,'DejaVu Sans Mono',consolas,'Courier New',monospace\">/var/folders/7t/k8q3439j6z3c683j7w00wtm80000gn/T/ipykernel_58430/330735155.py:26: FutureWarning: The behavior of \n",
       "DataFrame concatenation with empty or all-NA entries is deprecated. In a future version, this will no longer \n",
       "exclude empty or all-NA columns when determining the result dtypes. To retain the old behavior, exclude the \n",
       "relevant entries before the concat operation.\n",
       "  results = pd.concat([results, normalized_data]) #.dropna(axis=1, how=\"all\")])\n",
       "</pre>\n"
      ],
      "text/plain": [
       "/var/folders/7t/k8q3439j6z3c683j7w00wtm80000gn/T/ipykernel_58430/330735155.py:26: FutureWarning: The behavior of \n",
       "DataFrame concatenation with empty or all-NA entries is deprecated. In a future version, this will no longer \n",
       "exclude empty or all-NA columns when determining the result dtypes. To retain the old behavior, exclude the \n",
       "relevant entries before the concat operation.\n",
       "  results = pd.concat([results, normalized_data]) #.dropna(axis=1, how=\"all\")])\n"
      ]
     },
     "metadata": {},
     "output_type": "display_data"
    },
    {
     "data": {
      "text/html": [
       "<pre style=\"white-space:pre;overflow-x:auto;line-height:normal;font-family:Menlo,'DejaVu Sans Mono',consolas,'Courier New',monospace\">/var/folders/7t/k8q3439j6z3c683j7w00wtm80000gn/T/ipykernel_58430/330735155.py:26: FutureWarning: The behavior of \n",
       "DataFrame concatenation with empty or all-NA entries is deprecated. In a future version, this will no longer \n",
       "exclude empty or all-NA columns when determining the result dtypes. To retain the old behavior, exclude the \n",
       "relevant entries before the concat operation.\n",
       "  results = pd.concat([results, normalized_data]) #.dropna(axis=1, how=\"all\")])\n",
       "</pre>\n"
      ],
      "text/plain": [
       "/var/folders/7t/k8q3439j6z3c683j7w00wtm80000gn/T/ipykernel_58430/330735155.py:26: FutureWarning: The behavior of \n",
       "DataFrame concatenation with empty or all-NA entries is deprecated. In a future version, this will no longer \n",
       "exclude empty or all-NA columns when determining the result dtypes. To retain the old behavior, exclude the \n",
       "relevant entries before the concat operation.\n",
       "  results = pd.concat([results, normalized_data]) #.dropna(axis=1, how=\"all\")])\n"
      ]
     },
     "metadata": {},
     "output_type": "display_data"
    },
    {
     "data": {
      "text/html": [
       "<pre style=\"white-space:pre;overflow-x:auto;line-height:normal;font-family:Menlo,'DejaVu Sans Mono',consolas,'Courier New',monospace\">/var/folders/7t/k8q3439j6z3c683j7w00wtm80000gn/T/ipykernel_58430/330735155.py:26: FutureWarning: The behavior of \n",
       "DataFrame concatenation with empty or all-NA entries is deprecated. In a future version, this will no longer \n",
       "exclude empty or all-NA columns when determining the result dtypes. To retain the old behavior, exclude the \n",
       "relevant entries before the concat operation.\n",
       "  results = pd.concat([results, normalized_data]) #.dropna(axis=1, how=\"all\")])\n",
       "</pre>\n"
      ],
      "text/plain": [
       "/var/folders/7t/k8q3439j6z3c683j7w00wtm80000gn/T/ipykernel_58430/330735155.py:26: FutureWarning: The behavior of \n",
       "DataFrame concatenation with empty or all-NA entries is deprecated. In a future version, this will no longer \n",
       "exclude empty or all-NA columns when determining the result dtypes. To retain the old behavior, exclude the \n",
       "relevant entries before the concat operation.\n",
       "  results = pd.concat([results, normalized_data]) #.dropna(axis=1, how=\"all\")])\n"
      ]
     },
     "metadata": {},
     "output_type": "display_data"
    },
    {
     "data": {
      "text/html": [
       "<pre style=\"white-space:pre;overflow-x:auto;line-height:normal;font-family:Menlo,'DejaVu Sans Mono',consolas,'Courier New',monospace\">/var/folders/7t/k8q3439j6z3c683j7w00wtm80000gn/T/ipykernel_58430/330735155.py:26: FutureWarning: The behavior of \n",
       "DataFrame concatenation with empty or all-NA entries is deprecated. In a future version, this will no longer \n",
       "exclude empty or all-NA columns when determining the result dtypes. To retain the old behavior, exclude the \n",
       "relevant entries before the concat operation.\n",
       "  results = pd.concat([results, normalized_data]) #.dropna(axis=1, how=\"all\")])\n",
       "</pre>\n"
      ],
      "text/plain": [
       "/var/folders/7t/k8q3439j6z3c683j7w00wtm80000gn/T/ipykernel_58430/330735155.py:26: FutureWarning: The behavior of \n",
       "DataFrame concatenation with empty or all-NA entries is deprecated. In a future version, this will no longer \n",
       "exclude empty or all-NA columns when determining the result dtypes. To retain the old behavior, exclude the \n",
       "relevant entries before the concat operation.\n",
       "  results = pd.concat([results, normalized_data]) #.dropna(axis=1, how=\"all\")])\n"
      ]
     },
     "metadata": {},
     "output_type": "display_data"
    },
    {
     "data": {
      "text/html": [
       "<pre style=\"white-space:pre;overflow-x:auto;line-height:normal;font-family:Menlo,'DejaVu Sans Mono',consolas,'Courier New',monospace\">/var/folders/7t/k8q3439j6z3c683j7w00wtm80000gn/T/ipykernel_58430/330735155.py:26: FutureWarning: The behavior of \n",
       "DataFrame concatenation with empty or all-NA entries is deprecated. In a future version, this will no longer \n",
       "exclude empty or all-NA columns when determining the result dtypes. To retain the old behavior, exclude the \n",
       "relevant entries before the concat operation.\n",
       "  results = pd.concat([results, normalized_data]) #.dropna(axis=1, how=\"all\")])\n",
       "</pre>\n"
      ],
      "text/plain": [
       "/var/folders/7t/k8q3439j6z3c683j7w00wtm80000gn/T/ipykernel_58430/330735155.py:26: FutureWarning: The behavior of \n",
       "DataFrame concatenation with empty or all-NA entries is deprecated. In a future version, this will no longer \n",
       "exclude empty or all-NA columns when determining the result dtypes. To retain the old behavior, exclude the \n",
       "relevant entries before the concat operation.\n",
       "  results = pd.concat([results, normalized_data]) #.dropna(axis=1, how=\"all\")])\n"
      ]
     },
     "metadata": {},
     "output_type": "display_data"
    },
    {
     "data": {
      "text/html": [
       "<pre style=\"white-space:pre;overflow-x:auto;line-height:normal;font-family:Menlo,'DejaVu Sans Mono',consolas,'Courier New',monospace\">/var/folders/7t/k8q3439j6z3c683j7w00wtm80000gn/T/ipykernel_58430/330735155.py:26: FutureWarning: The behavior of \n",
       "DataFrame concatenation with empty or all-NA entries is deprecated. In a future version, this will no longer \n",
       "exclude empty or all-NA columns when determining the result dtypes. To retain the old behavior, exclude the \n",
       "relevant entries before the concat operation.\n",
       "  results = pd.concat([results, normalized_data]) #.dropna(axis=1, how=\"all\")])\n",
       "</pre>\n"
      ],
      "text/plain": [
       "/var/folders/7t/k8q3439j6z3c683j7w00wtm80000gn/T/ipykernel_58430/330735155.py:26: FutureWarning: The behavior of \n",
       "DataFrame concatenation with empty or all-NA entries is deprecated. In a future version, this will no longer \n",
       "exclude empty or all-NA columns when determining the result dtypes. To retain the old behavior, exclude the \n",
       "relevant entries before the concat operation.\n",
       "  results = pd.concat([results, normalized_data]) #.dropna(axis=1, how=\"all\")])\n"
      ]
     },
     "metadata": {},
     "output_type": "display_data"
    },
    {
     "data": {
      "text/html": [
       "<pre style=\"white-space:pre;overflow-x:auto;line-height:normal;font-family:Menlo,'DejaVu Sans Mono',consolas,'Courier New',monospace\">/var/folders/7t/k8q3439j6z3c683j7w00wtm80000gn/T/ipykernel_58430/330735155.py:26: FutureWarning: The behavior of \n",
       "DataFrame concatenation with empty or all-NA entries is deprecated. In a future version, this will no longer \n",
       "exclude empty or all-NA columns when determining the result dtypes. To retain the old behavior, exclude the \n",
       "relevant entries before the concat operation.\n",
       "  results = pd.concat([results, normalized_data]) #.dropna(axis=1, how=\"all\")])\n",
       "</pre>\n"
      ],
      "text/plain": [
       "/var/folders/7t/k8q3439j6z3c683j7w00wtm80000gn/T/ipykernel_58430/330735155.py:26: FutureWarning: The behavior of \n",
       "DataFrame concatenation with empty or all-NA entries is deprecated. In a future version, this will no longer \n",
       "exclude empty or all-NA columns when determining the result dtypes. To retain the old behavior, exclude the \n",
       "relevant entries before the concat operation.\n",
       "  results = pd.concat([results, normalized_data]) #.dropna(axis=1, how=\"all\")])\n"
      ]
     },
     "metadata": {},
     "output_type": "display_data"
    },
    {
     "data": {
      "text/html": [
       "<pre style=\"white-space:pre;overflow-x:auto;line-height:normal;font-family:Menlo,'DejaVu Sans Mono',consolas,'Courier New',monospace\">/var/folders/7t/k8q3439j6z3c683j7w00wtm80000gn/T/ipykernel_58430/330735155.py:26: FutureWarning: The behavior of \n",
       "DataFrame concatenation with empty or all-NA entries is deprecated. In a future version, this will no longer \n",
       "exclude empty or all-NA columns when determining the result dtypes. To retain the old behavior, exclude the \n",
       "relevant entries before the concat operation.\n",
       "  results = pd.concat([results, normalized_data]) #.dropna(axis=1, how=\"all\")])\n",
       "</pre>\n"
      ],
      "text/plain": [
       "/var/folders/7t/k8q3439j6z3c683j7w00wtm80000gn/T/ipykernel_58430/330735155.py:26: FutureWarning: The behavior of \n",
       "DataFrame concatenation with empty or all-NA entries is deprecated. In a future version, this will no longer \n",
       "exclude empty or all-NA columns when determining the result dtypes. To retain the old behavior, exclude the \n",
       "relevant entries before the concat operation.\n",
       "  results = pd.concat([results, normalized_data]) #.dropna(axis=1, how=\"all\")])\n"
      ]
     },
     "metadata": {},
     "output_type": "display_data"
    },
    {
     "data": {
      "text/html": [
       "<pre style=\"white-space:pre;overflow-x:auto;line-height:normal;font-family:Menlo,'DejaVu Sans Mono',consolas,'Courier New',monospace\">/var/folders/7t/k8q3439j6z3c683j7w00wtm80000gn/T/ipykernel_58430/330735155.py:26: FutureWarning: The behavior of \n",
       "DataFrame concatenation with empty or all-NA entries is deprecated. In a future version, this will no longer \n",
       "exclude empty or all-NA columns when determining the result dtypes. To retain the old behavior, exclude the \n",
       "relevant entries before the concat operation.\n",
       "  results = pd.concat([results, normalized_data]) #.dropna(axis=1, how=\"all\")])\n",
       "</pre>\n"
      ],
      "text/plain": [
       "/var/folders/7t/k8q3439j6z3c683j7w00wtm80000gn/T/ipykernel_58430/330735155.py:26: FutureWarning: The behavior of \n",
       "DataFrame concatenation with empty or all-NA entries is deprecated. In a future version, this will no longer \n",
       "exclude empty or all-NA columns when determining the result dtypes. To retain the old behavior, exclude the \n",
       "relevant entries before the concat operation.\n",
       "  results = pd.concat([results, normalized_data]) #.dropna(axis=1, how=\"all\")])\n"
      ]
     },
     "metadata": {},
     "output_type": "display_data"
    },
    {
     "data": {
      "text/html": [
       "<pre style=\"white-space:pre;overflow-x:auto;line-height:normal;font-family:Menlo,'DejaVu Sans Mono',consolas,'Courier New',monospace\">/var/folders/7t/k8q3439j6z3c683j7w00wtm80000gn/T/ipykernel_58430/330735155.py:26: FutureWarning: The behavior of \n",
       "DataFrame concatenation with empty or all-NA entries is deprecated. In a future version, this will no longer \n",
       "exclude empty or all-NA columns when determining the result dtypes. To retain the old behavior, exclude the \n",
       "relevant entries before the concat operation.\n",
       "  results = pd.concat([results, normalized_data]) #.dropna(axis=1, how=\"all\")])\n",
       "</pre>\n"
      ],
      "text/plain": [
       "/var/folders/7t/k8q3439j6z3c683j7w00wtm80000gn/T/ipykernel_58430/330735155.py:26: FutureWarning: The behavior of \n",
       "DataFrame concatenation with empty or all-NA entries is deprecated. In a future version, this will no longer \n",
       "exclude empty or all-NA columns when determining the result dtypes. To retain the old behavior, exclude the \n",
       "relevant entries before the concat operation.\n",
       "  results = pd.concat([results, normalized_data]) #.dropna(axis=1, how=\"all\")])\n"
      ]
     },
     "metadata": {},
     "output_type": "display_data"
    },
    {
     "data": {
      "text/html": [
       "<pre style=\"white-space:pre;overflow-x:auto;line-height:normal;font-family:Menlo,'DejaVu Sans Mono',consolas,'Courier New',monospace\">/var/folders/7t/k8q3439j6z3c683j7w00wtm80000gn/T/ipykernel_58430/330735155.py:26: FutureWarning: The behavior of \n",
       "DataFrame concatenation with empty or all-NA entries is deprecated. In a future version, this will no longer \n",
       "exclude empty or all-NA columns when determining the result dtypes. To retain the old behavior, exclude the \n",
       "relevant entries before the concat operation.\n",
       "  results = pd.concat([results, normalized_data]) #.dropna(axis=1, how=\"all\")])\n",
       "</pre>\n"
      ],
      "text/plain": [
       "/var/folders/7t/k8q3439j6z3c683j7w00wtm80000gn/T/ipykernel_58430/330735155.py:26: FutureWarning: The behavior of \n",
       "DataFrame concatenation with empty or all-NA entries is deprecated. In a future version, this will no longer \n",
       "exclude empty or all-NA columns when determining the result dtypes. To retain the old behavior, exclude the \n",
       "relevant entries before the concat operation.\n",
       "  results = pd.concat([results, normalized_data]) #.dropna(axis=1, how=\"all\")])\n"
      ]
     },
     "metadata": {},
     "output_type": "display_data"
    },
    {
     "data": {
      "text/html": [
       "<pre style=\"white-space:pre;overflow-x:auto;line-height:normal;font-family:Menlo,'DejaVu Sans Mono',consolas,'Courier New',monospace\">/var/folders/7t/k8q3439j6z3c683j7w00wtm80000gn/T/ipykernel_58430/330735155.py:26: FutureWarning: The behavior of \n",
       "DataFrame concatenation with empty or all-NA entries is deprecated. In a future version, this will no longer \n",
       "exclude empty or all-NA columns when determining the result dtypes. To retain the old behavior, exclude the \n",
       "relevant entries before the concat operation.\n",
       "  results = pd.concat([results, normalized_data]) #.dropna(axis=1, how=\"all\")])\n",
       "</pre>\n"
      ],
      "text/plain": [
       "/var/folders/7t/k8q3439j6z3c683j7w00wtm80000gn/T/ipykernel_58430/330735155.py:26: FutureWarning: The behavior of \n",
       "DataFrame concatenation with empty or all-NA entries is deprecated. In a future version, this will no longer \n",
       "exclude empty or all-NA columns when determining the result dtypes. To retain the old behavior, exclude the \n",
       "relevant entries before the concat operation.\n",
       "  results = pd.concat([results, normalized_data]) #.dropna(axis=1, how=\"all\")])\n"
      ]
     },
     "metadata": {},
     "output_type": "display_data"
    },
    {
     "data": {
      "text/html": [
       "<pre style=\"white-space:pre;overflow-x:auto;line-height:normal;font-family:Menlo,'DejaVu Sans Mono',consolas,'Courier New',monospace\">/var/folders/7t/k8q3439j6z3c683j7w00wtm80000gn/T/ipykernel_58430/330735155.py:26: FutureWarning: The behavior of \n",
       "DataFrame concatenation with empty or all-NA entries is deprecated. In a future version, this will no longer \n",
       "exclude empty or all-NA columns when determining the result dtypes. To retain the old behavior, exclude the \n",
       "relevant entries before the concat operation.\n",
       "  results = pd.concat([results, normalized_data]) #.dropna(axis=1, how=\"all\")])\n",
       "</pre>\n"
      ],
      "text/plain": [
       "/var/folders/7t/k8q3439j6z3c683j7w00wtm80000gn/T/ipykernel_58430/330735155.py:26: FutureWarning: The behavior of \n",
       "DataFrame concatenation with empty or all-NA entries is deprecated. In a future version, this will no longer \n",
       "exclude empty or all-NA columns when determining the result dtypes. To retain the old behavior, exclude the \n",
       "relevant entries before the concat operation.\n",
       "  results = pd.concat([results, normalized_data]) #.dropna(axis=1, how=\"all\")])\n"
      ]
     },
     "metadata": {},
     "output_type": "display_data"
    },
    {
     "data": {
      "text/html": [
       "<pre style=\"white-space:pre;overflow-x:auto;line-height:normal;font-family:Menlo,'DejaVu Sans Mono',consolas,'Courier New',monospace\">/var/folders/7t/k8q3439j6z3c683j7w00wtm80000gn/T/ipykernel_58430/330735155.py:26: FutureWarning: The behavior of \n",
       "DataFrame concatenation with empty or all-NA entries is deprecated. In a future version, this will no longer \n",
       "exclude empty or all-NA columns when determining the result dtypes. To retain the old behavior, exclude the \n",
       "relevant entries before the concat operation.\n",
       "  results = pd.concat([results, normalized_data]) #.dropna(axis=1, how=\"all\")])\n",
       "</pre>\n"
      ],
      "text/plain": [
       "/var/folders/7t/k8q3439j6z3c683j7w00wtm80000gn/T/ipykernel_58430/330735155.py:26: FutureWarning: The behavior of \n",
       "DataFrame concatenation with empty or all-NA entries is deprecated. In a future version, this will no longer \n",
       "exclude empty or all-NA columns when determining the result dtypes. To retain the old behavior, exclude the \n",
       "relevant entries before the concat operation.\n",
       "  results = pd.concat([results, normalized_data]) #.dropna(axis=1, how=\"all\")])\n"
      ]
     },
     "metadata": {},
     "output_type": "display_data"
    },
    {
     "data": {
      "text/html": [
       "<pre style=\"white-space:pre;overflow-x:auto;line-height:normal;font-family:Menlo,'DejaVu Sans Mono',consolas,'Courier New',monospace\">/var/folders/7t/k8q3439j6z3c683j7w00wtm80000gn/T/ipykernel_58430/330735155.py:26: FutureWarning: The behavior of \n",
       "DataFrame concatenation with empty or all-NA entries is deprecated. In a future version, this will no longer \n",
       "exclude empty or all-NA columns when determining the result dtypes. To retain the old behavior, exclude the \n",
       "relevant entries before the concat operation.\n",
       "  results = pd.concat([results, normalized_data]) #.dropna(axis=1, how=\"all\")])\n",
       "</pre>\n"
      ],
      "text/plain": [
       "/var/folders/7t/k8q3439j6z3c683j7w00wtm80000gn/T/ipykernel_58430/330735155.py:26: FutureWarning: The behavior of \n",
       "DataFrame concatenation with empty or all-NA entries is deprecated. In a future version, this will no longer \n",
       "exclude empty or all-NA columns when determining the result dtypes. To retain the old behavior, exclude the \n",
       "relevant entries before the concat operation.\n",
       "  results = pd.concat([results, normalized_data]) #.dropna(axis=1, how=\"all\")])\n"
      ]
     },
     "metadata": {},
     "output_type": "display_data"
    },
    {
     "data": {
      "text/html": [
       "<pre style=\"white-space:pre;overflow-x:auto;line-height:normal;font-family:Menlo,'DejaVu Sans Mono',consolas,'Courier New',monospace\">/var/folders/7t/k8q3439j6z3c683j7w00wtm80000gn/T/ipykernel_58430/330735155.py:26: FutureWarning: The behavior of \n",
       "DataFrame concatenation with empty or all-NA entries is deprecated. In a future version, this will no longer \n",
       "exclude empty or all-NA columns when determining the result dtypes. To retain the old behavior, exclude the \n",
       "relevant entries before the concat operation.\n",
       "  results = pd.concat([results, normalized_data]) #.dropna(axis=1, how=\"all\")])\n",
       "</pre>\n"
      ],
      "text/plain": [
       "/var/folders/7t/k8q3439j6z3c683j7w00wtm80000gn/T/ipykernel_58430/330735155.py:26: FutureWarning: The behavior of \n",
       "DataFrame concatenation with empty or all-NA entries is deprecated. In a future version, this will no longer \n",
       "exclude empty or all-NA columns when determining the result dtypes. To retain the old behavior, exclude the \n",
       "relevant entries before the concat operation.\n",
       "  results = pd.concat([results, normalized_data]) #.dropna(axis=1, how=\"all\")])\n"
      ]
     },
     "metadata": {},
     "output_type": "display_data"
    },
    {
     "data": {
      "text/html": [
       "<pre style=\"white-space:pre;overflow-x:auto;line-height:normal;font-family:Menlo,'DejaVu Sans Mono',consolas,'Courier New',monospace\">/var/folders/7t/k8q3439j6z3c683j7w00wtm80000gn/T/ipykernel_58430/330735155.py:26: FutureWarning: The behavior of \n",
       "DataFrame concatenation with empty or all-NA entries is deprecated. In a future version, this will no longer \n",
       "exclude empty or all-NA columns when determining the result dtypes. To retain the old behavior, exclude the \n",
       "relevant entries before the concat operation.\n",
       "  results = pd.concat([results, normalized_data]) #.dropna(axis=1, how=\"all\")])\n",
       "</pre>\n"
      ],
      "text/plain": [
       "/var/folders/7t/k8q3439j6z3c683j7w00wtm80000gn/T/ipykernel_58430/330735155.py:26: FutureWarning: The behavior of \n",
       "DataFrame concatenation with empty or all-NA entries is deprecated. In a future version, this will no longer \n",
       "exclude empty or all-NA columns when determining the result dtypes. To retain the old behavior, exclude the \n",
       "relevant entries before the concat operation.\n",
       "  results = pd.concat([results, normalized_data]) #.dropna(axis=1, how=\"all\")])\n"
      ]
     },
     "metadata": {},
     "output_type": "display_data"
    },
    {
     "data": {
      "text/html": [
       "<pre style=\"white-space:pre;overflow-x:auto;line-height:normal;font-family:Menlo,'DejaVu Sans Mono',consolas,'Courier New',monospace\">/var/folders/7t/k8q3439j6z3c683j7w00wtm80000gn/T/ipykernel_58430/330735155.py:26: FutureWarning: The behavior of \n",
       "DataFrame concatenation with empty or all-NA entries is deprecated. In a future version, this will no longer \n",
       "exclude empty or all-NA columns when determining the result dtypes. To retain the old behavior, exclude the \n",
       "relevant entries before the concat operation.\n",
       "  results = pd.concat([results, normalized_data]) #.dropna(axis=1, how=\"all\")])\n",
       "</pre>\n"
      ],
      "text/plain": [
       "/var/folders/7t/k8q3439j6z3c683j7w00wtm80000gn/T/ipykernel_58430/330735155.py:26: FutureWarning: The behavior of \n",
       "DataFrame concatenation with empty or all-NA entries is deprecated. In a future version, this will no longer \n",
       "exclude empty or all-NA columns when determining the result dtypes. To retain the old behavior, exclude the \n",
       "relevant entries before the concat operation.\n",
       "  results = pd.concat([results, normalized_data]) #.dropna(axis=1, how=\"all\")])\n"
      ]
     },
     "metadata": {},
     "output_type": "display_data"
    },
    {
     "data": {
      "text/html": [
       "<pre style=\"white-space:pre;overflow-x:auto;line-height:normal;font-family:Menlo,'DejaVu Sans Mono',consolas,'Courier New',monospace\">/var/folders/7t/k8q3439j6z3c683j7w00wtm80000gn/T/ipykernel_58430/330735155.py:26: FutureWarning: The behavior of \n",
       "DataFrame concatenation with empty or all-NA entries is deprecated. In a future version, this will no longer \n",
       "exclude empty or all-NA columns when determining the result dtypes. To retain the old behavior, exclude the \n",
       "relevant entries before the concat operation.\n",
       "  results = pd.concat([results, normalized_data]) #.dropna(axis=1, how=\"all\")])\n",
       "</pre>\n"
      ],
      "text/plain": [
       "/var/folders/7t/k8q3439j6z3c683j7w00wtm80000gn/T/ipykernel_58430/330735155.py:26: FutureWarning: The behavior of \n",
       "DataFrame concatenation with empty or all-NA entries is deprecated. In a future version, this will no longer \n",
       "exclude empty or all-NA columns when determining the result dtypes. To retain the old behavior, exclude the \n",
       "relevant entries before the concat operation.\n",
       "  results = pd.concat([results, normalized_data]) #.dropna(axis=1, how=\"all\")])\n"
      ]
     },
     "metadata": {},
     "output_type": "display_data"
    },
    {
     "data": {
      "text/html": [
       "<pre style=\"white-space:pre;overflow-x:auto;line-height:normal;font-family:Menlo,'DejaVu Sans Mono',consolas,'Courier New',monospace\">/var/folders/7t/k8q3439j6z3c683j7w00wtm80000gn/T/ipykernel_58430/330735155.py:26: FutureWarning: The behavior of \n",
       "DataFrame concatenation with empty or all-NA entries is deprecated. In a future version, this will no longer \n",
       "exclude empty or all-NA columns when determining the result dtypes. To retain the old behavior, exclude the \n",
       "relevant entries before the concat operation.\n",
       "  results = pd.concat([results, normalized_data]) #.dropna(axis=1, how=\"all\")])\n",
       "</pre>\n"
      ],
      "text/plain": [
       "/var/folders/7t/k8q3439j6z3c683j7w00wtm80000gn/T/ipykernel_58430/330735155.py:26: FutureWarning: The behavior of \n",
       "DataFrame concatenation with empty or all-NA entries is deprecated. In a future version, this will no longer \n",
       "exclude empty or all-NA columns when determining the result dtypes. To retain the old behavior, exclude the \n",
       "relevant entries before the concat operation.\n",
       "  results = pd.concat([results, normalized_data]) #.dropna(axis=1, how=\"all\")])\n"
      ]
     },
     "metadata": {},
     "output_type": "display_data"
    },
    {
     "data": {
      "text/html": [
       "<pre style=\"white-space:pre;overflow-x:auto;line-height:normal;font-family:Menlo,'DejaVu Sans Mono',consolas,'Courier New',monospace\">/var/folders/7t/k8q3439j6z3c683j7w00wtm80000gn/T/ipykernel_58430/330735155.py:26: FutureWarning: The behavior of \n",
       "DataFrame concatenation with empty or all-NA entries is deprecated. In a future version, this will no longer \n",
       "exclude empty or all-NA columns when determining the result dtypes. To retain the old behavior, exclude the \n",
       "relevant entries before the concat operation.\n",
       "  results = pd.concat([results, normalized_data]) #.dropna(axis=1, how=\"all\")])\n",
       "</pre>\n"
      ],
      "text/plain": [
       "/var/folders/7t/k8q3439j6z3c683j7w00wtm80000gn/T/ipykernel_58430/330735155.py:26: FutureWarning: The behavior of \n",
       "DataFrame concatenation with empty or all-NA entries is deprecated. In a future version, this will no longer \n",
       "exclude empty or all-NA columns when determining the result dtypes. To retain the old behavior, exclude the \n",
       "relevant entries before the concat operation.\n",
       "  results = pd.concat([results, normalized_data]) #.dropna(axis=1, how=\"all\")])\n"
      ]
     },
     "metadata": {},
     "output_type": "display_data"
    },
    {
     "data": {
      "text/html": [
       "<pre style=\"white-space:pre;overflow-x:auto;line-height:normal;font-family:Menlo,'DejaVu Sans Mono',consolas,'Courier New',monospace\">/var/folders/7t/k8q3439j6z3c683j7w00wtm80000gn/T/ipykernel_58430/330735155.py:26: FutureWarning: The behavior of \n",
       "DataFrame concatenation with empty or all-NA entries is deprecated. In a future version, this will no longer \n",
       "exclude empty or all-NA columns when determining the result dtypes. To retain the old behavior, exclude the \n",
       "relevant entries before the concat operation.\n",
       "  results = pd.concat([results, normalized_data]) #.dropna(axis=1, how=\"all\")])\n",
       "</pre>\n"
      ],
      "text/plain": [
       "/var/folders/7t/k8q3439j6z3c683j7w00wtm80000gn/T/ipykernel_58430/330735155.py:26: FutureWarning: The behavior of \n",
       "DataFrame concatenation with empty or all-NA entries is deprecated. In a future version, this will no longer \n",
       "exclude empty or all-NA columns when determining the result dtypes. To retain the old behavior, exclude the \n",
       "relevant entries before the concat operation.\n",
       "  results = pd.concat([results, normalized_data]) #.dropna(axis=1, how=\"all\")])\n"
      ]
     },
     "metadata": {},
     "output_type": "display_data"
    },
    {
     "data": {
      "text/html": [
       "<pre style=\"white-space:pre;overflow-x:auto;line-height:normal;font-family:Menlo,'DejaVu Sans Mono',consolas,'Courier New',monospace\">/var/folders/7t/k8q3439j6z3c683j7w00wtm80000gn/T/ipykernel_58430/330735155.py:26: FutureWarning: The behavior of \n",
       "DataFrame concatenation with empty or all-NA entries is deprecated. In a future version, this will no longer \n",
       "exclude empty or all-NA columns when determining the result dtypes. To retain the old behavior, exclude the \n",
       "relevant entries before the concat operation.\n",
       "  results = pd.concat([results, normalized_data]) #.dropna(axis=1, how=\"all\")])\n",
       "</pre>\n"
      ],
      "text/plain": [
       "/var/folders/7t/k8q3439j6z3c683j7w00wtm80000gn/T/ipykernel_58430/330735155.py:26: FutureWarning: The behavior of \n",
       "DataFrame concatenation with empty or all-NA entries is deprecated. In a future version, this will no longer \n",
       "exclude empty or all-NA columns when determining the result dtypes. To retain the old behavior, exclude the \n",
       "relevant entries before the concat operation.\n",
       "  results = pd.concat([results, normalized_data]) #.dropna(axis=1, how=\"all\")])\n"
      ]
     },
     "metadata": {},
     "output_type": "display_data"
    },
    {
     "data": {
      "text/html": [
       "<pre style=\"white-space:pre;overflow-x:auto;line-height:normal;font-family:Menlo,'DejaVu Sans Mono',consolas,'Courier New',monospace\">/var/folders/7t/k8q3439j6z3c683j7w00wtm80000gn/T/ipykernel_58430/330735155.py:26: FutureWarning: The behavior of \n",
       "DataFrame concatenation with empty or all-NA entries is deprecated. In a future version, this will no longer \n",
       "exclude empty or all-NA columns when determining the result dtypes. To retain the old behavior, exclude the \n",
       "relevant entries before the concat operation.\n",
       "  results = pd.concat([results, normalized_data]) #.dropna(axis=1, how=\"all\")])\n",
       "</pre>\n"
      ],
      "text/plain": [
       "/var/folders/7t/k8q3439j6z3c683j7w00wtm80000gn/T/ipykernel_58430/330735155.py:26: FutureWarning: The behavior of \n",
       "DataFrame concatenation with empty or all-NA entries is deprecated. In a future version, this will no longer \n",
       "exclude empty or all-NA columns when determining the result dtypes. To retain the old behavior, exclude the \n",
       "relevant entries before the concat operation.\n",
       "  results = pd.concat([results, normalized_data]) #.dropna(axis=1, how=\"all\")])\n"
      ]
     },
     "metadata": {},
     "output_type": "display_data"
    },
    {
     "data": {
      "text/html": [
       "<pre style=\"white-space:pre;overflow-x:auto;line-height:normal;font-family:Menlo,'DejaVu Sans Mono',consolas,'Courier New',monospace\">/var/folders/7t/k8q3439j6z3c683j7w00wtm80000gn/T/ipykernel_58430/330735155.py:26: FutureWarning: The behavior of \n",
       "DataFrame concatenation with empty or all-NA entries is deprecated. In a future version, this will no longer \n",
       "exclude empty or all-NA columns when determining the result dtypes. To retain the old behavior, exclude the \n",
       "relevant entries before the concat operation.\n",
       "  results = pd.concat([results, normalized_data]) #.dropna(axis=1, how=\"all\")])\n",
       "</pre>\n"
      ],
      "text/plain": [
       "/var/folders/7t/k8q3439j6z3c683j7w00wtm80000gn/T/ipykernel_58430/330735155.py:26: FutureWarning: The behavior of \n",
       "DataFrame concatenation with empty or all-NA entries is deprecated. In a future version, this will no longer \n",
       "exclude empty or all-NA columns when determining the result dtypes. To retain the old behavior, exclude the \n",
       "relevant entries before the concat operation.\n",
       "  results = pd.concat([results, normalized_data]) #.dropna(axis=1, how=\"all\")])\n"
      ]
     },
     "metadata": {},
     "output_type": "display_data"
    },
    {
     "data": {
      "text/html": [
       "<pre style=\"white-space:pre;overflow-x:auto;line-height:normal;font-family:Menlo,'DejaVu Sans Mono',consolas,'Courier New',monospace\">/var/folders/7t/k8q3439j6z3c683j7w00wtm80000gn/T/ipykernel_58430/330735155.py:26: FutureWarning: The behavior of \n",
       "DataFrame concatenation with empty or all-NA entries is deprecated. In a future version, this will no longer \n",
       "exclude empty or all-NA columns when determining the result dtypes. To retain the old behavior, exclude the \n",
       "relevant entries before the concat operation.\n",
       "  results = pd.concat([results, normalized_data]) #.dropna(axis=1, how=\"all\")])\n",
       "</pre>\n"
      ],
      "text/plain": [
       "/var/folders/7t/k8q3439j6z3c683j7w00wtm80000gn/T/ipykernel_58430/330735155.py:26: FutureWarning: The behavior of \n",
       "DataFrame concatenation with empty or all-NA entries is deprecated. In a future version, this will no longer \n",
       "exclude empty or all-NA columns when determining the result dtypes. To retain the old behavior, exclude the \n",
       "relevant entries before the concat operation.\n",
       "  results = pd.concat([results, normalized_data]) #.dropna(axis=1, how=\"all\")])\n"
      ]
     },
     "metadata": {},
     "output_type": "display_data"
    },
    {
     "data": {
      "text/html": [
       "<pre style=\"white-space:pre;overflow-x:auto;line-height:normal;font-family:Menlo,'DejaVu Sans Mono',consolas,'Courier New',monospace\">/var/folders/7t/k8q3439j6z3c683j7w00wtm80000gn/T/ipykernel_58430/330735155.py:26: FutureWarning: The behavior of \n",
       "DataFrame concatenation with empty or all-NA entries is deprecated. In a future version, this will no longer \n",
       "exclude empty or all-NA columns when determining the result dtypes. To retain the old behavior, exclude the \n",
       "relevant entries before the concat operation.\n",
       "  results = pd.concat([results, normalized_data]) #.dropna(axis=1, how=\"all\")])\n",
       "</pre>\n"
      ],
      "text/plain": [
       "/var/folders/7t/k8q3439j6z3c683j7w00wtm80000gn/T/ipykernel_58430/330735155.py:26: FutureWarning: The behavior of \n",
       "DataFrame concatenation with empty or all-NA entries is deprecated. In a future version, this will no longer \n",
       "exclude empty or all-NA columns when determining the result dtypes. To retain the old behavior, exclude the \n",
       "relevant entries before the concat operation.\n",
       "  results = pd.concat([results, normalized_data]) #.dropna(axis=1, how=\"all\")])\n"
      ]
     },
     "metadata": {},
     "output_type": "display_data"
    },
    {
     "data": {
      "text/html": [
       "<pre style=\"white-space:pre;overflow-x:auto;line-height:normal;font-family:Menlo,'DejaVu Sans Mono',consolas,'Courier New',monospace\">/var/folders/7t/k8q3439j6z3c683j7w00wtm80000gn/T/ipykernel_58430/330735155.py:26: FutureWarning: The behavior of \n",
       "DataFrame concatenation with empty or all-NA entries is deprecated. In a future version, this will no longer \n",
       "exclude empty or all-NA columns when determining the result dtypes. To retain the old behavior, exclude the \n",
       "relevant entries before the concat operation.\n",
       "  results = pd.concat([results, normalized_data]) #.dropna(axis=1, how=\"all\")])\n",
       "</pre>\n"
      ],
      "text/plain": [
       "/var/folders/7t/k8q3439j6z3c683j7w00wtm80000gn/T/ipykernel_58430/330735155.py:26: FutureWarning: The behavior of \n",
       "DataFrame concatenation with empty or all-NA entries is deprecated. In a future version, this will no longer \n",
       "exclude empty or all-NA columns when determining the result dtypes. To retain the old behavior, exclude the \n",
       "relevant entries before the concat operation.\n",
       "  results = pd.concat([results, normalized_data]) #.dropna(axis=1, how=\"all\")])\n"
      ]
     },
     "metadata": {},
     "output_type": "display_data"
    },
    {
     "data": {
      "text/html": [
       "<pre style=\"white-space:pre;overflow-x:auto;line-height:normal;font-family:Menlo,'DejaVu Sans Mono',consolas,'Courier New',monospace\">/var/folders/7t/k8q3439j6z3c683j7w00wtm80000gn/T/ipykernel_58430/330735155.py:26: FutureWarning: The behavior of \n",
       "DataFrame concatenation with empty or all-NA entries is deprecated. In a future version, this will no longer \n",
       "exclude empty or all-NA columns when determining the result dtypes. To retain the old behavior, exclude the \n",
       "relevant entries before the concat operation.\n",
       "  results = pd.concat([results, normalized_data]) #.dropna(axis=1, how=\"all\")])\n",
       "</pre>\n"
      ],
      "text/plain": [
       "/var/folders/7t/k8q3439j6z3c683j7w00wtm80000gn/T/ipykernel_58430/330735155.py:26: FutureWarning: The behavior of \n",
       "DataFrame concatenation with empty or all-NA entries is deprecated. In a future version, this will no longer \n",
       "exclude empty or all-NA columns when determining the result dtypes. To retain the old behavior, exclude the \n",
       "relevant entries before the concat operation.\n",
       "  results = pd.concat([results, normalized_data]) #.dropna(axis=1, how=\"all\")])\n"
      ]
     },
     "metadata": {},
     "output_type": "display_data"
    },
    {
     "data": {
      "text/html": [
       "<pre style=\"white-space:pre;overflow-x:auto;line-height:normal;font-family:Menlo,'DejaVu Sans Mono',consolas,'Courier New',monospace\">/var/folders/7t/k8q3439j6z3c683j7w00wtm80000gn/T/ipykernel_58430/330735155.py:26: FutureWarning: The behavior of \n",
       "DataFrame concatenation with empty or all-NA entries is deprecated. In a future version, this will no longer \n",
       "exclude empty or all-NA columns when determining the result dtypes. To retain the old behavior, exclude the \n",
       "relevant entries before the concat operation.\n",
       "  results = pd.concat([results, normalized_data]) #.dropna(axis=1, how=\"all\")])\n",
       "</pre>\n"
      ],
      "text/plain": [
       "/var/folders/7t/k8q3439j6z3c683j7w00wtm80000gn/T/ipykernel_58430/330735155.py:26: FutureWarning: The behavior of \n",
       "DataFrame concatenation with empty or all-NA entries is deprecated. In a future version, this will no longer \n",
       "exclude empty or all-NA columns when determining the result dtypes. To retain the old behavior, exclude the \n",
       "relevant entries before the concat operation.\n",
       "  results = pd.concat([results, normalized_data]) #.dropna(axis=1, how=\"all\")])\n"
      ]
     },
     "metadata": {},
     "output_type": "display_data"
    },
    {
     "data": {
      "text/html": [
       "<pre style=\"white-space:pre;overflow-x:auto;line-height:normal;font-family:Menlo,'DejaVu Sans Mono',consolas,'Courier New',monospace\">/var/folders/7t/k8q3439j6z3c683j7w00wtm80000gn/T/ipykernel_58430/330735155.py:26: FutureWarning: The behavior of \n",
       "DataFrame concatenation with empty or all-NA entries is deprecated. In a future version, this will no longer \n",
       "exclude empty or all-NA columns when determining the result dtypes. To retain the old behavior, exclude the \n",
       "relevant entries before the concat operation.\n",
       "  results = pd.concat([results, normalized_data]) #.dropna(axis=1, how=\"all\")])\n",
       "</pre>\n"
      ],
      "text/plain": [
       "/var/folders/7t/k8q3439j6z3c683j7w00wtm80000gn/T/ipykernel_58430/330735155.py:26: FutureWarning: The behavior of \n",
       "DataFrame concatenation with empty or all-NA entries is deprecated. In a future version, this will no longer \n",
       "exclude empty or all-NA columns when determining the result dtypes. To retain the old behavior, exclude the \n",
       "relevant entries before the concat operation.\n",
       "  results = pd.concat([results, normalized_data]) #.dropna(axis=1, how=\"all\")])\n"
      ]
     },
     "metadata": {},
     "output_type": "display_data"
    },
    {
     "data": {
      "text/html": [
       "<pre style=\"white-space:pre;overflow-x:auto;line-height:normal;font-family:Menlo,'DejaVu Sans Mono',consolas,'Courier New',monospace\">/var/folders/7t/k8q3439j6z3c683j7w00wtm80000gn/T/ipykernel_58430/330735155.py:26: FutureWarning: The behavior of \n",
       "DataFrame concatenation with empty or all-NA entries is deprecated. In a future version, this will no longer \n",
       "exclude empty or all-NA columns when determining the result dtypes. To retain the old behavior, exclude the \n",
       "relevant entries before the concat operation.\n",
       "  results = pd.concat([results, normalized_data]) #.dropna(axis=1, how=\"all\")])\n",
       "</pre>\n"
      ],
      "text/plain": [
       "/var/folders/7t/k8q3439j6z3c683j7w00wtm80000gn/T/ipykernel_58430/330735155.py:26: FutureWarning: The behavior of \n",
       "DataFrame concatenation with empty or all-NA entries is deprecated. In a future version, this will no longer \n",
       "exclude empty or all-NA columns when determining the result dtypes. To retain the old behavior, exclude the \n",
       "relevant entries before the concat operation.\n",
       "  results = pd.concat([results, normalized_data]) #.dropna(axis=1, how=\"all\")])\n"
      ]
     },
     "metadata": {},
     "output_type": "display_data"
    },
    {
     "data": {
      "text/html": [
       "<pre style=\"white-space:pre;overflow-x:auto;line-height:normal;font-family:Menlo,'DejaVu Sans Mono',consolas,'Courier New',monospace\">/var/folders/7t/k8q3439j6z3c683j7w00wtm80000gn/T/ipykernel_58430/330735155.py:26: FutureWarning: The behavior of \n",
       "DataFrame concatenation with empty or all-NA entries is deprecated. In a future version, this will no longer \n",
       "exclude empty or all-NA columns when determining the result dtypes. To retain the old behavior, exclude the \n",
       "relevant entries before the concat operation.\n",
       "  results = pd.concat([results, normalized_data]) #.dropna(axis=1, how=\"all\")])\n",
       "</pre>\n"
      ],
      "text/plain": [
       "/var/folders/7t/k8q3439j6z3c683j7w00wtm80000gn/T/ipykernel_58430/330735155.py:26: FutureWarning: The behavior of \n",
       "DataFrame concatenation with empty or all-NA entries is deprecated. In a future version, this will no longer \n",
       "exclude empty or all-NA columns when determining the result dtypes. To retain the old behavior, exclude the \n",
       "relevant entries before the concat operation.\n",
       "  results = pd.concat([results, normalized_data]) #.dropna(axis=1, how=\"all\")])\n"
      ]
     },
     "metadata": {},
     "output_type": "display_data"
    },
    {
     "data": {
      "text/html": [
       "<pre style=\"white-space:pre;overflow-x:auto;line-height:normal;font-family:Menlo,'DejaVu Sans Mono',consolas,'Courier New',monospace\">/var/folders/7t/k8q3439j6z3c683j7w00wtm80000gn/T/ipykernel_58430/330735155.py:26: FutureWarning: The behavior of \n",
       "DataFrame concatenation with empty or all-NA entries is deprecated. In a future version, this will no longer \n",
       "exclude empty or all-NA columns when determining the result dtypes. To retain the old behavior, exclude the \n",
       "relevant entries before the concat operation.\n",
       "  results = pd.concat([results, normalized_data]) #.dropna(axis=1, how=\"all\")])\n",
       "</pre>\n"
      ],
      "text/plain": [
       "/var/folders/7t/k8q3439j6z3c683j7w00wtm80000gn/T/ipykernel_58430/330735155.py:26: FutureWarning: The behavior of \n",
       "DataFrame concatenation with empty or all-NA entries is deprecated. In a future version, this will no longer \n",
       "exclude empty or all-NA columns when determining the result dtypes. To retain the old behavior, exclude the \n",
       "relevant entries before the concat operation.\n",
       "  results = pd.concat([results, normalized_data]) #.dropna(axis=1, how=\"all\")])\n"
      ]
     },
     "metadata": {},
     "output_type": "display_data"
    },
    {
     "data": {
      "text/html": [
       "<pre style=\"white-space:pre;overflow-x:auto;line-height:normal;font-family:Menlo,'DejaVu Sans Mono',consolas,'Courier New',monospace\">/var/folders/7t/k8q3439j6z3c683j7w00wtm80000gn/T/ipykernel_58430/330735155.py:26: FutureWarning: The behavior of \n",
       "DataFrame concatenation with empty or all-NA entries is deprecated. In a future version, this will no longer \n",
       "exclude empty or all-NA columns when determining the result dtypes. To retain the old behavior, exclude the \n",
       "relevant entries before the concat operation.\n",
       "  results = pd.concat([results, normalized_data]) #.dropna(axis=1, how=\"all\")])\n",
       "</pre>\n"
      ],
      "text/plain": [
       "/var/folders/7t/k8q3439j6z3c683j7w00wtm80000gn/T/ipykernel_58430/330735155.py:26: FutureWarning: The behavior of \n",
       "DataFrame concatenation with empty or all-NA entries is deprecated. In a future version, this will no longer \n",
       "exclude empty or all-NA columns when determining the result dtypes. To retain the old behavior, exclude the \n",
       "relevant entries before the concat operation.\n",
       "  results = pd.concat([results, normalized_data]) #.dropna(axis=1, how=\"all\")])\n"
      ]
     },
     "metadata": {},
     "output_type": "display_data"
    },
    {
     "data": {
      "text/html": [
       "<pre style=\"white-space:pre;overflow-x:auto;line-height:normal;font-family:Menlo,'DejaVu Sans Mono',consolas,'Courier New',monospace\">/var/folders/7t/k8q3439j6z3c683j7w00wtm80000gn/T/ipykernel_58430/330735155.py:26: FutureWarning: The behavior of \n",
       "DataFrame concatenation with empty or all-NA entries is deprecated. In a future version, this will no longer \n",
       "exclude empty or all-NA columns when determining the result dtypes. To retain the old behavior, exclude the \n",
       "relevant entries before the concat operation.\n",
       "  results = pd.concat([results, normalized_data]) #.dropna(axis=1, how=\"all\")])\n",
       "</pre>\n"
      ],
      "text/plain": [
       "/var/folders/7t/k8q3439j6z3c683j7w00wtm80000gn/T/ipykernel_58430/330735155.py:26: FutureWarning: The behavior of \n",
       "DataFrame concatenation with empty or all-NA entries is deprecated. In a future version, this will no longer \n",
       "exclude empty or all-NA columns when determining the result dtypes. To retain the old behavior, exclude the \n",
       "relevant entries before the concat operation.\n",
       "  results = pd.concat([results, normalized_data]) #.dropna(axis=1, how=\"all\")])\n"
      ]
     },
     "metadata": {},
     "output_type": "display_data"
    },
    {
     "data": {
      "text/html": [
       "<pre style=\"white-space:pre;overflow-x:auto;line-height:normal;font-family:Menlo,'DejaVu Sans Mono',consolas,'Courier New',monospace\">/var/folders/7t/k8q3439j6z3c683j7w00wtm80000gn/T/ipykernel_58430/330735155.py:26: FutureWarning: The behavior of \n",
       "DataFrame concatenation with empty or all-NA entries is deprecated. In a future version, this will no longer \n",
       "exclude empty or all-NA columns when determining the result dtypes. To retain the old behavior, exclude the \n",
       "relevant entries before the concat operation.\n",
       "  results = pd.concat([results, normalized_data]) #.dropna(axis=1, how=\"all\")])\n",
       "</pre>\n"
      ],
      "text/plain": [
       "/var/folders/7t/k8q3439j6z3c683j7w00wtm80000gn/T/ipykernel_58430/330735155.py:26: FutureWarning: The behavior of \n",
       "DataFrame concatenation with empty or all-NA entries is deprecated. In a future version, this will no longer \n",
       "exclude empty or all-NA columns when determining the result dtypes. To retain the old behavior, exclude the \n",
       "relevant entries before the concat operation.\n",
       "  results = pd.concat([results, normalized_data]) #.dropna(axis=1, how=\"all\")])\n"
      ]
     },
     "metadata": {},
     "output_type": "display_data"
    },
    {
     "data": {
      "text/html": [
       "<pre style=\"white-space:pre;overflow-x:auto;line-height:normal;font-family:Menlo,'DejaVu Sans Mono',consolas,'Courier New',monospace\">/var/folders/7t/k8q3439j6z3c683j7w00wtm80000gn/T/ipykernel_58430/330735155.py:26: FutureWarning: The behavior of \n",
       "DataFrame concatenation with empty or all-NA entries is deprecated. In a future version, this will no longer \n",
       "exclude empty or all-NA columns when determining the result dtypes. To retain the old behavior, exclude the \n",
       "relevant entries before the concat operation.\n",
       "  results = pd.concat([results, normalized_data]) #.dropna(axis=1, how=\"all\")])\n",
       "</pre>\n"
      ],
      "text/plain": [
       "/var/folders/7t/k8q3439j6z3c683j7w00wtm80000gn/T/ipykernel_58430/330735155.py:26: FutureWarning: The behavior of \n",
       "DataFrame concatenation with empty or all-NA entries is deprecated. In a future version, this will no longer \n",
       "exclude empty or all-NA columns when determining the result dtypes. To retain the old behavior, exclude the \n",
       "relevant entries before the concat operation.\n",
       "  results = pd.concat([results, normalized_data]) #.dropna(axis=1, how=\"all\")])\n"
      ]
     },
     "metadata": {},
     "output_type": "display_data"
    },
    {
     "data": {
      "text/html": [
       "<pre style=\"white-space:pre;overflow-x:auto;line-height:normal;font-family:Menlo,'DejaVu Sans Mono',consolas,'Courier New',monospace\">/var/folders/7t/k8q3439j6z3c683j7w00wtm80000gn/T/ipykernel_58430/330735155.py:26: FutureWarning: The behavior of \n",
       "DataFrame concatenation with empty or all-NA entries is deprecated. In a future version, this will no longer \n",
       "exclude empty or all-NA columns when determining the result dtypes. To retain the old behavior, exclude the \n",
       "relevant entries before the concat operation.\n",
       "  results = pd.concat([results, normalized_data]) #.dropna(axis=1, how=\"all\")])\n",
       "</pre>\n"
      ],
      "text/plain": [
       "/var/folders/7t/k8q3439j6z3c683j7w00wtm80000gn/T/ipykernel_58430/330735155.py:26: FutureWarning: The behavior of \n",
       "DataFrame concatenation with empty or all-NA entries is deprecated. In a future version, this will no longer \n",
       "exclude empty or all-NA columns when determining the result dtypes. To retain the old behavior, exclude the \n",
       "relevant entries before the concat operation.\n",
       "  results = pd.concat([results, normalized_data]) #.dropna(axis=1, how=\"all\")])\n"
      ]
     },
     "metadata": {},
     "output_type": "display_data"
    },
    {
     "data": {
      "text/html": [
       "<pre style=\"white-space:pre;overflow-x:auto;line-height:normal;font-family:Menlo,'DejaVu Sans Mono',consolas,'Courier New',monospace\">/var/folders/7t/k8q3439j6z3c683j7w00wtm80000gn/T/ipykernel_58430/330735155.py:26: FutureWarning: The behavior of \n",
       "DataFrame concatenation with empty or all-NA entries is deprecated. In a future version, this will no longer \n",
       "exclude empty or all-NA columns when determining the result dtypes. To retain the old behavior, exclude the \n",
       "relevant entries before the concat operation.\n",
       "  results = pd.concat([results, normalized_data]) #.dropna(axis=1, how=\"all\")])\n",
       "</pre>\n"
      ],
      "text/plain": [
       "/var/folders/7t/k8q3439j6z3c683j7w00wtm80000gn/T/ipykernel_58430/330735155.py:26: FutureWarning: The behavior of \n",
       "DataFrame concatenation with empty or all-NA entries is deprecated. In a future version, this will no longer \n",
       "exclude empty or all-NA columns when determining the result dtypes. To retain the old behavior, exclude the \n",
       "relevant entries before the concat operation.\n",
       "  results = pd.concat([results, normalized_data]) #.dropna(axis=1, how=\"all\")])\n"
      ]
     },
     "metadata": {},
     "output_type": "display_data"
    },
    {
     "data": {
      "text/html": [
       "<pre style=\"white-space:pre;overflow-x:auto;line-height:normal;font-family:Menlo,'DejaVu Sans Mono',consolas,'Courier New',monospace\">/var/folders/7t/k8q3439j6z3c683j7w00wtm80000gn/T/ipykernel_58430/330735155.py:26: FutureWarning: The behavior of \n",
       "DataFrame concatenation with empty or all-NA entries is deprecated. In a future version, this will no longer \n",
       "exclude empty or all-NA columns when determining the result dtypes. To retain the old behavior, exclude the \n",
       "relevant entries before the concat operation.\n",
       "  results = pd.concat([results, normalized_data]) #.dropna(axis=1, how=\"all\")])\n",
       "</pre>\n"
      ],
      "text/plain": [
       "/var/folders/7t/k8q3439j6z3c683j7w00wtm80000gn/T/ipykernel_58430/330735155.py:26: FutureWarning: The behavior of \n",
       "DataFrame concatenation with empty or all-NA entries is deprecated. In a future version, this will no longer \n",
       "exclude empty or all-NA columns when determining the result dtypes. To retain the old behavior, exclude the \n",
       "relevant entries before the concat operation.\n",
       "  results = pd.concat([results, normalized_data]) #.dropna(axis=1, how=\"all\")])\n"
      ]
     },
     "metadata": {},
     "output_type": "display_data"
    },
    {
     "data": {
      "text/html": [
       "<pre style=\"white-space:pre;overflow-x:auto;line-height:normal;font-family:Menlo,'DejaVu Sans Mono',consolas,'Courier New',monospace\">/var/folders/7t/k8q3439j6z3c683j7w00wtm80000gn/T/ipykernel_58430/330735155.py:26: FutureWarning: The behavior of \n",
       "DataFrame concatenation with empty or all-NA entries is deprecated. In a future version, this will no longer \n",
       "exclude empty or all-NA columns when determining the result dtypes. To retain the old behavior, exclude the \n",
       "relevant entries before the concat operation.\n",
       "  results = pd.concat([results, normalized_data]) #.dropna(axis=1, how=\"all\")])\n",
       "</pre>\n"
      ],
      "text/plain": [
       "/var/folders/7t/k8q3439j6z3c683j7w00wtm80000gn/T/ipykernel_58430/330735155.py:26: FutureWarning: The behavior of \n",
       "DataFrame concatenation with empty or all-NA entries is deprecated. In a future version, this will no longer \n",
       "exclude empty or all-NA columns when determining the result dtypes. To retain the old behavior, exclude the \n",
       "relevant entries before the concat operation.\n",
       "  results = pd.concat([results, normalized_data]) #.dropna(axis=1, how=\"all\")])\n"
      ]
     },
     "metadata": {},
     "output_type": "display_data"
    },
    {
     "data": {
      "text/html": [
       "<pre style=\"white-space:pre;overflow-x:auto;line-height:normal;font-family:Menlo,'DejaVu Sans Mono',consolas,'Courier New',monospace\">/var/folders/7t/k8q3439j6z3c683j7w00wtm80000gn/T/ipykernel_58430/330735155.py:26: FutureWarning: The behavior of \n",
       "DataFrame concatenation with empty or all-NA entries is deprecated. In a future version, this will no longer \n",
       "exclude empty or all-NA columns when determining the result dtypes. To retain the old behavior, exclude the \n",
       "relevant entries before the concat operation.\n",
       "  results = pd.concat([results, normalized_data]) #.dropna(axis=1, how=\"all\")])\n",
       "</pre>\n"
      ],
      "text/plain": [
       "/var/folders/7t/k8q3439j6z3c683j7w00wtm80000gn/T/ipykernel_58430/330735155.py:26: FutureWarning: The behavior of \n",
       "DataFrame concatenation with empty or all-NA entries is deprecated. In a future version, this will no longer \n",
       "exclude empty or all-NA columns when determining the result dtypes. To retain the old behavior, exclude the \n",
       "relevant entries before the concat operation.\n",
       "  results = pd.concat([results, normalized_data]) #.dropna(axis=1, how=\"all\")])\n"
      ]
     },
     "metadata": {},
     "output_type": "display_data"
    },
    {
     "data": {
      "text/html": [
       "<pre style=\"white-space:pre;overflow-x:auto;line-height:normal;font-family:Menlo,'DejaVu Sans Mono',consolas,'Courier New',monospace\">/var/folders/7t/k8q3439j6z3c683j7w00wtm80000gn/T/ipykernel_58430/330735155.py:26: FutureWarning: The behavior of \n",
       "DataFrame concatenation with empty or all-NA entries is deprecated. In a future version, this will no longer \n",
       "exclude empty or all-NA columns when determining the result dtypes. To retain the old behavior, exclude the \n",
       "relevant entries before the concat operation.\n",
       "  results = pd.concat([results, normalized_data]) #.dropna(axis=1, how=\"all\")])\n",
       "</pre>\n"
      ],
      "text/plain": [
       "/var/folders/7t/k8q3439j6z3c683j7w00wtm80000gn/T/ipykernel_58430/330735155.py:26: FutureWarning: The behavior of \n",
       "DataFrame concatenation with empty or all-NA entries is deprecated. In a future version, this will no longer \n",
       "exclude empty or all-NA columns when determining the result dtypes. To retain the old behavior, exclude the \n",
       "relevant entries before the concat operation.\n",
       "  results = pd.concat([results, normalized_data]) #.dropna(axis=1, how=\"all\")])\n"
      ]
     },
     "metadata": {},
     "output_type": "display_data"
    },
    {
     "data": {
      "text/html": [
       "<pre style=\"white-space:pre;overflow-x:auto;line-height:normal;font-family:Menlo,'DejaVu Sans Mono',consolas,'Courier New',monospace\">/var/folders/7t/k8q3439j6z3c683j7w00wtm80000gn/T/ipykernel_58430/330735155.py:26: FutureWarning: The behavior of \n",
       "DataFrame concatenation with empty or all-NA entries is deprecated. In a future version, this will no longer \n",
       "exclude empty or all-NA columns when determining the result dtypes. To retain the old behavior, exclude the \n",
       "relevant entries before the concat operation.\n",
       "  results = pd.concat([results, normalized_data]) #.dropna(axis=1, how=\"all\")])\n",
       "</pre>\n"
      ],
      "text/plain": [
       "/var/folders/7t/k8q3439j6z3c683j7w00wtm80000gn/T/ipykernel_58430/330735155.py:26: FutureWarning: The behavior of \n",
       "DataFrame concatenation with empty or all-NA entries is deprecated. In a future version, this will no longer \n",
       "exclude empty or all-NA columns when determining the result dtypes. To retain the old behavior, exclude the \n",
       "relevant entries before the concat operation.\n",
       "  results = pd.concat([results, normalized_data]) #.dropna(axis=1, how=\"all\")])\n"
      ]
     },
     "metadata": {},
     "output_type": "display_data"
    },
    {
     "data": {
      "text/html": [
       "<pre style=\"white-space:pre;overflow-x:auto;line-height:normal;font-family:Menlo,'DejaVu Sans Mono',consolas,'Courier New',monospace\">/var/folders/7t/k8q3439j6z3c683j7w00wtm80000gn/T/ipykernel_58430/330735155.py:26: FutureWarning: The behavior of \n",
       "DataFrame concatenation with empty or all-NA entries is deprecated. In a future version, this will no longer \n",
       "exclude empty or all-NA columns when determining the result dtypes. To retain the old behavior, exclude the \n",
       "relevant entries before the concat operation.\n",
       "  results = pd.concat([results, normalized_data]) #.dropna(axis=1, how=\"all\")])\n",
       "</pre>\n"
      ],
      "text/plain": [
       "/var/folders/7t/k8q3439j6z3c683j7w00wtm80000gn/T/ipykernel_58430/330735155.py:26: FutureWarning: The behavior of \n",
       "DataFrame concatenation with empty or all-NA entries is deprecated. In a future version, this will no longer \n",
       "exclude empty or all-NA columns when determining the result dtypes. To retain the old behavior, exclude the \n",
       "relevant entries before the concat operation.\n",
       "  results = pd.concat([results, normalized_data]) #.dropna(axis=1, how=\"all\")])\n"
      ]
     },
     "metadata": {},
     "output_type": "display_data"
    },
    {
     "data": {
      "text/html": [
       "<pre style=\"white-space:pre;overflow-x:auto;line-height:normal;font-family:Menlo,'DejaVu Sans Mono',consolas,'Courier New',monospace\">/var/folders/7t/k8q3439j6z3c683j7w00wtm80000gn/T/ipykernel_58430/330735155.py:26: FutureWarning: The behavior of \n",
       "DataFrame concatenation with empty or all-NA entries is deprecated. In a future version, this will no longer \n",
       "exclude empty or all-NA columns when determining the result dtypes. To retain the old behavior, exclude the \n",
       "relevant entries before the concat operation.\n",
       "  results = pd.concat([results, normalized_data]) #.dropna(axis=1, how=\"all\")])\n",
       "</pre>\n"
      ],
      "text/plain": [
       "/var/folders/7t/k8q3439j6z3c683j7w00wtm80000gn/T/ipykernel_58430/330735155.py:26: FutureWarning: The behavior of \n",
       "DataFrame concatenation with empty or all-NA entries is deprecated. In a future version, this will no longer \n",
       "exclude empty or all-NA columns when determining the result dtypes. To retain the old behavior, exclude the \n",
       "relevant entries before the concat operation.\n",
       "  results = pd.concat([results, normalized_data]) #.dropna(axis=1, how=\"all\")])\n"
      ]
     },
     "metadata": {},
     "output_type": "display_data"
    },
    {
     "data": {
      "text/html": [
       "<pre style=\"white-space:pre;overflow-x:auto;line-height:normal;font-family:Menlo,'DejaVu Sans Mono',consolas,'Courier New',monospace\">/var/folders/7t/k8q3439j6z3c683j7w00wtm80000gn/T/ipykernel_58430/330735155.py:26: FutureWarning: The behavior of \n",
       "DataFrame concatenation with empty or all-NA entries is deprecated. In a future version, this will no longer \n",
       "exclude empty or all-NA columns when determining the result dtypes. To retain the old behavior, exclude the \n",
       "relevant entries before the concat operation.\n",
       "  results = pd.concat([results, normalized_data]) #.dropna(axis=1, how=\"all\")])\n",
       "</pre>\n"
      ],
      "text/plain": [
       "/var/folders/7t/k8q3439j6z3c683j7w00wtm80000gn/T/ipykernel_58430/330735155.py:26: FutureWarning: The behavior of \n",
       "DataFrame concatenation with empty or all-NA entries is deprecated. In a future version, this will no longer \n",
       "exclude empty or all-NA columns when determining the result dtypes. To retain the old behavior, exclude the \n",
       "relevant entries before the concat operation.\n",
       "  results = pd.concat([results, normalized_data]) #.dropna(axis=1, how=\"all\")])\n"
      ]
     },
     "metadata": {},
     "output_type": "display_data"
    },
    {
     "data": {
      "text/html": [
       "<pre style=\"white-space:pre;overflow-x:auto;line-height:normal;font-family:Menlo,'DejaVu Sans Mono',consolas,'Courier New',monospace\">/var/folders/7t/k8q3439j6z3c683j7w00wtm80000gn/T/ipykernel_58430/330735155.py:26: FutureWarning: The behavior of \n",
       "DataFrame concatenation with empty or all-NA entries is deprecated. In a future version, this will no longer \n",
       "exclude empty or all-NA columns when determining the result dtypes. To retain the old behavior, exclude the \n",
       "relevant entries before the concat operation.\n",
       "  results = pd.concat([results, normalized_data]) #.dropna(axis=1, how=\"all\")])\n",
       "</pre>\n"
      ],
      "text/plain": [
       "/var/folders/7t/k8q3439j6z3c683j7w00wtm80000gn/T/ipykernel_58430/330735155.py:26: FutureWarning: The behavior of \n",
       "DataFrame concatenation with empty or all-NA entries is deprecated. In a future version, this will no longer \n",
       "exclude empty or all-NA columns when determining the result dtypes. To retain the old behavior, exclude the \n",
       "relevant entries before the concat operation.\n",
       "  results = pd.concat([results, normalized_data]) #.dropna(axis=1, how=\"all\")])\n"
      ]
     },
     "metadata": {},
     "output_type": "display_data"
    },
    {
     "data": {
      "text/html": [
       "<pre style=\"white-space:pre;overflow-x:auto;line-height:normal;font-family:Menlo,'DejaVu Sans Mono',consolas,'Courier New',monospace\">/var/folders/7t/k8q3439j6z3c683j7w00wtm80000gn/T/ipykernel_58430/330735155.py:26: FutureWarning: The behavior of \n",
       "DataFrame concatenation with empty or all-NA entries is deprecated. In a future version, this will no longer \n",
       "exclude empty or all-NA columns when determining the result dtypes. To retain the old behavior, exclude the \n",
       "relevant entries before the concat operation.\n",
       "  results = pd.concat([results, normalized_data]) #.dropna(axis=1, how=\"all\")])\n",
       "</pre>\n"
      ],
      "text/plain": [
       "/var/folders/7t/k8q3439j6z3c683j7w00wtm80000gn/T/ipykernel_58430/330735155.py:26: FutureWarning: The behavior of \n",
       "DataFrame concatenation with empty or all-NA entries is deprecated. In a future version, this will no longer \n",
       "exclude empty or all-NA columns when determining the result dtypes. To retain the old behavior, exclude the \n",
       "relevant entries before the concat operation.\n",
       "  results = pd.concat([results, normalized_data]) #.dropna(axis=1, how=\"all\")])\n"
      ]
     },
     "metadata": {},
     "output_type": "display_data"
    },
    {
     "data": {
      "text/html": [
       "<pre style=\"white-space:pre;overflow-x:auto;line-height:normal;font-family:Menlo,'DejaVu Sans Mono',consolas,'Courier New',monospace\">/var/folders/7t/k8q3439j6z3c683j7w00wtm80000gn/T/ipykernel_58430/330735155.py:26: FutureWarning: The behavior of \n",
       "DataFrame concatenation with empty or all-NA entries is deprecated. In a future version, this will no longer \n",
       "exclude empty or all-NA columns when determining the result dtypes. To retain the old behavior, exclude the \n",
       "relevant entries before the concat operation.\n",
       "  results = pd.concat([results, normalized_data]) #.dropna(axis=1, how=\"all\")])\n",
       "</pre>\n"
      ],
      "text/plain": [
       "/var/folders/7t/k8q3439j6z3c683j7w00wtm80000gn/T/ipykernel_58430/330735155.py:26: FutureWarning: The behavior of \n",
       "DataFrame concatenation with empty or all-NA entries is deprecated. In a future version, this will no longer \n",
       "exclude empty or all-NA columns when determining the result dtypes. To retain the old behavior, exclude the \n",
       "relevant entries before the concat operation.\n",
       "  results = pd.concat([results, normalized_data]) #.dropna(axis=1, how=\"all\")])\n"
      ]
     },
     "metadata": {},
     "output_type": "display_data"
    },
    {
     "data": {
      "text/html": [
       "<pre style=\"white-space:pre;overflow-x:auto;line-height:normal;font-family:Menlo,'DejaVu Sans Mono',consolas,'Courier New',monospace\">/var/folders/7t/k8q3439j6z3c683j7w00wtm80000gn/T/ipykernel_58430/330735155.py:26: FutureWarning: The behavior of \n",
       "DataFrame concatenation with empty or all-NA entries is deprecated. In a future version, this will no longer \n",
       "exclude empty or all-NA columns when determining the result dtypes. To retain the old behavior, exclude the \n",
       "relevant entries before the concat operation.\n",
       "  results = pd.concat([results, normalized_data]) #.dropna(axis=1, how=\"all\")])\n",
       "</pre>\n"
      ],
      "text/plain": [
       "/var/folders/7t/k8q3439j6z3c683j7w00wtm80000gn/T/ipykernel_58430/330735155.py:26: FutureWarning: The behavior of \n",
       "DataFrame concatenation with empty or all-NA entries is deprecated. In a future version, this will no longer \n",
       "exclude empty or all-NA columns when determining the result dtypes. To retain the old behavior, exclude the \n",
       "relevant entries before the concat operation.\n",
       "  results = pd.concat([results, normalized_data]) #.dropna(axis=1, how=\"all\")])\n"
      ]
     },
     "metadata": {},
     "output_type": "display_data"
    },
    {
     "data": {
      "text/html": [
       "<pre style=\"white-space:pre;overflow-x:auto;line-height:normal;font-family:Menlo,'DejaVu Sans Mono',consolas,'Courier New',monospace\">/var/folders/7t/k8q3439j6z3c683j7w00wtm80000gn/T/ipykernel_58430/330735155.py:26: FutureWarning: The behavior of \n",
       "DataFrame concatenation with empty or all-NA entries is deprecated. In a future version, this will no longer \n",
       "exclude empty or all-NA columns when determining the result dtypes. To retain the old behavior, exclude the \n",
       "relevant entries before the concat operation.\n",
       "  results = pd.concat([results, normalized_data]) #.dropna(axis=1, how=\"all\")])\n",
       "</pre>\n"
      ],
      "text/plain": [
       "/var/folders/7t/k8q3439j6z3c683j7w00wtm80000gn/T/ipykernel_58430/330735155.py:26: FutureWarning: The behavior of \n",
       "DataFrame concatenation with empty or all-NA entries is deprecated. In a future version, this will no longer \n",
       "exclude empty or all-NA columns when determining the result dtypes. To retain the old behavior, exclude the \n",
       "relevant entries before the concat operation.\n",
       "  results = pd.concat([results, normalized_data]) #.dropna(axis=1, how=\"all\")])\n"
      ]
     },
     "metadata": {},
     "output_type": "display_data"
    },
    {
     "data": {
      "text/html": [
       "<pre style=\"white-space:pre;overflow-x:auto;line-height:normal;font-family:Menlo,'DejaVu Sans Mono',consolas,'Courier New',monospace\">/var/folders/7t/k8q3439j6z3c683j7w00wtm80000gn/T/ipykernel_58430/330735155.py:26: FutureWarning: The behavior of \n",
       "DataFrame concatenation with empty or all-NA entries is deprecated. In a future version, this will no longer \n",
       "exclude empty or all-NA columns when determining the result dtypes. To retain the old behavior, exclude the \n",
       "relevant entries before the concat operation.\n",
       "  results = pd.concat([results, normalized_data]) #.dropna(axis=1, how=\"all\")])\n",
       "</pre>\n"
      ],
      "text/plain": [
       "/var/folders/7t/k8q3439j6z3c683j7w00wtm80000gn/T/ipykernel_58430/330735155.py:26: FutureWarning: The behavior of \n",
       "DataFrame concatenation with empty or all-NA entries is deprecated. In a future version, this will no longer \n",
       "exclude empty or all-NA columns when determining the result dtypes. To retain the old behavior, exclude the \n",
       "relevant entries before the concat operation.\n",
       "  results = pd.concat([results, normalized_data]) #.dropna(axis=1, how=\"all\")])\n"
      ]
     },
     "metadata": {},
     "output_type": "display_data"
    },
    {
     "data": {
      "text/html": [
       "<pre style=\"white-space:pre;overflow-x:auto;line-height:normal;font-family:Menlo,'DejaVu Sans Mono',consolas,'Courier New',monospace\">/var/folders/7t/k8q3439j6z3c683j7w00wtm80000gn/T/ipykernel_58430/330735155.py:26: FutureWarning: The behavior of \n",
       "DataFrame concatenation with empty or all-NA entries is deprecated. In a future version, this will no longer \n",
       "exclude empty or all-NA columns when determining the result dtypes. To retain the old behavior, exclude the \n",
       "relevant entries before the concat operation.\n",
       "  results = pd.concat([results, normalized_data]) #.dropna(axis=1, how=\"all\")])\n",
       "</pre>\n"
      ],
      "text/plain": [
       "/var/folders/7t/k8q3439j6z3c683j7w00wtm80000gn/T/ipykernel_58430/330735155.py:26: FutureWarning: The behavior of \n",
       "DataFrame concatenation with empty or all-NA entries is deprecated. In a future version, this will no longer \n",
       "exclude empty or all-NA columns when determining the result dtypes. To retain the old behavior, exclude the \n",
       "relevant entries before the concat operation.\n",
       "  results = pd.concat([results, normalized_data]) #.dropna(axis=1, how=\"all\")])\n"
      ]
     },
     "metadata": {},
     "output_type": "display_data"
    },
    {
     "data": {
      "text/html": [
       "<pre style=\"white-space:pre;overflow-x:auto;line-height:normal;font-family:Menlo,'DejaVu Sans Mono',consolas,'Courier New',monospace\">/var/folders/7t/k8q3439j6z3c683j7w00wtm80000gn/T/ipykernel_58430/330735155.py:26: FutureWarning: The behavior of \n",
       "DataFrame concatenation with empty or all-NA entries is deprecated. In a future version, this will no longer \n",
       "exclude empty or all-NA columns when determining the result dtypes. To retain the old behavior, exclude the \n",
       "relevant entries before the concat operation.\n",
       "  results = pd.concat([results, normalized_data]) #.dropna(axis=1, how=\"all\")])\n",
       "</pre>\n"
      ],
      "text/plain": [
       "/var/folders/7t/k8q3439j6z3c683j7w00wtm80000gn/T/ipykernel_58430/330735155.py:26: FutureWarning: The behavior of \n",
       "DataFrame concatenation with empty or all-NA entries is deprecated. In a future version, this will no longer \n",
       "exclude empty or all-NA columns when determining the result dtypes. To retain the old behavior, exclude the \n",
       "relevant entries before the concat operation.\n",
       "  results = pd.concat([results, normalized_data]) #.dropna(axis=1, how=\"all\")])\n"
      ]
     },
     "metadata": {},
     "output_type": "display_data"
    },
    {
     "data": {
      "text/html": [
       "<pre style=\"white-space:pre;overflow-x:auto;line-height:normal;font-family:Menlo,'DejaVu Sans Mono',consolas,'Courier New',monospace\">/var/folders/7t/k8q3439j6z3c683j7w00wtm80000gn/T/ipykernel_58430/330735155.py:26: FutureWarning: The behavior of \n",
       "DataFrame concatenation with empty or all-NA entries is deprecated. In a future version, this will no longer \n",
       "exclude empty or all-NA columns when determining the result dtypes. To retain the old behavior, exclude the \n",
       "relevant entries before the concat operation.\n",
       "  results = pd.concat([results, normalized_data]) #.dropna(axis=1, how=\"all\")])\n",
       "</pre>\n"
      ],
      "text/plain": [
       "/var/folders/7t/k8q3439j6z3c683j7w00wtm80000gn/T/ipykernel_58430/330735155.py:26: FutureWarning: The behavior of \n",
       "DataFrame concatenation with empty or all-NA entries is deprecated. In a future version, this will no longer \n",
       "exclude empty or all-NA columns when determining the result dtypes. To retain the old behavior, exclude the \n",
       "relevant entries before the concat operation.\n",
       "  results = pd.concat([results, normalized_data]) #.dropna(axis=1, how=\"all\")])\n"
      ]
     },
     "metadata": {},
     "output_type": "display_data"
    },
    {
     "data": {
      "text/html": [
       "<pre style=\"white-space:pre;overflow-x:auto;line-height:normal;font-family:Menlo,'DejaVu Sans Mono',consolas,'Courier New',monospace\">/var/folders/7t/k8q3439j6z3c683j7w00wtm80000gn/T/ipykernel_58430/330735155.py:26: FutureWarning: The behavior of \n",
       "DataFrame concatenation with empty or all-NA entries is deprecated. In a future version, this will no longer \n",
       "exclude empty or all-NA columns when determining the result dtypes. To retain the old behavior, exclude the \n",
       "relevant entries before the concat operation.\n",
       "  results = pd.concat([results, normalized_data]) #.dropna(axis=1, how=\"all\")])\n",
       "</pre>\n"
      ],
      "text/plain": [
       "/var/folders/7t/k8q3439j6z3c683j7w00wtm80000gn/T/ipykernel_58430/330735155.py:26: FutureWarning: The behavior of \n",
       "DataFrame concatenation with empty or all-NA entries is deprecated. In a future version, this will no longer \n",
       "exclude empty or all-NA columns when determining the result dtypes. To retain the old behavior, exclude the \n",
       "relevant entries before the concat operation.\n",
       "  results = pd.concat([results, normalized_data]) #.dropna(axis=1, how=\"all\")])\n"
      ]
     },
     "metadata": {},
     "output_type": "display_data"
    },
    {
     "data": {
      "text/html": [
       "<pre style=\"white-space:pre;overflow-x:auto;line-height:normal;font-family:Menlo,'DejaVu Sans Mono',consolas,'Courier New',monospace\">/var/folders/7t/k8q3439j6z3c683j7w00wtm80000gn/T/ipykernel_58430/330735155.py:26: FutureWarning: The behavior of \n",
       "DataFrame concatenation with empty or all-NA entries is deprecated. In a future version, this will no longer \n",
       "exclude empty or all-NA columns when determining the result dtypes. To retain the old behavior, exclude the \n",
       "relevant entries before the concat operation.\n",
       "  results = pd.concat([results, normalized_data]) #.dropna(axis=1, how=\"all\")])\n",
       "</pre>\n"
      ],
      "text/plain": [
       "/var/folders/7t/k8q3439j6z3c683j7w00wtm80000gn/T/ipykernel_58430/330735155.py:26: FutureWarning: The behavior of \n",
       "DataFrame concatenation with empty or all-NA entries is deprecated. In a future version, this will no longer \n",
       "exclude empty or all-NA columns when determining the result dtypes. To retain the old behavior, exclude the \n",
       "relevant entries before the concat operation.\n",
       "  results = pd.concat([results, normalized_data]) #.dropna(axis=1, how=\"all\")])\n"
      ]
     },
     "metadata": {},
     "output_type": "display_data"
    },
    {
     "data": {
      "text/html": [
       "<pre style=\"white-space:pre;overflow-x:auto;line-height:normal;font-family:Menlo,'DejaVu Sans Mono',consolas,'Courier New',monospace\">/var/folders/7t/k8q3439j6z3c683j7w00wtm80000gn/T/ipykernel_58430/330735155.py:26: FutureWarning: The behavior of \n",
       "DataFrame concatenation with empty or all-NA entries is deprecated. In a future version, this will no longer \n",
       "exclude empty or all-NA columns when determining the result dtypes. To retain the old behavior, exclude the \n",
       "relevant entries before the concat operation.\n",
       "  results = pd.concat([results, normalized_data]) #.dropna(axis=1, how=\"all\")])\n",
       "</pre>\n"
      ],
      "text/plain": [
       "/var/folders/7t/k8q3439j6z3c683j7w00wtm80000gn/T/ipykernel_58430/330735155.py:26: FutureWarning: The behavior of \n",
       "DataFrame concatenation with empty or all-NA entries is deprecated. In a future version, this will no longer \n",
       "exclude empty or all-NA columns when determining the result dtypes. To retain the old behavior, exclude the \n",
       "relevant entries before the concat operation.\n",
       "  results = pd.concat([results, normalized_data]) #.dropna(axis=1, how=\"all\")])\n"
      ]
     },
     "metadata": {},
     "output_type": "display_data"
    },
    {
     "data": {
      "text/html": [
       "<pre style=\"white-space:pre;overflow-x:auto;line-height:normal;font-family:Menlo,'DejaVu Sans Mono',consolas,'Courier New',monospace\">/var/folders/7t/k8q3439j6z3c683j7w00wtm80000gn/T/ipykernel_58430/330735155.py:26: FutureWarning: The behavior of \n",
       "DataFrame concatenation with empty or all-NA entries is deprecated. In a future version, this will no longer \n",
       "exclude empty or all-NA columns when determining the result dtypes. To retain the old behavior, exclude the \n",
       "relevant entries before the concat operation.\n",
       "  results = pd.concat([results, normalized_data]) #.dropna(axis=1, how=\"all\")])\n",
       "</pre>\n"
      ],
      "text/plain": [
       "/var/folders/7t/k8q3439j6z3c683j7w00wtm80000gn/T/ipykernel_58430/330735155.py:26: FutureWarning: The behavior of \n",
       "DataFrame concatenation with empty or all-NA entries is deprecated. In a future version, this will no longer \n",
       "exclude empty or all-NA columns when determining the result dtypes. To retain the old behavior, exclude the \n",
       "relevant entries before the concat operation.\n",
       "  results = pd.concat([results, normalized_data]) #.dropna(axis=1, how=\"all\")])\n"
      ]
     },
     "metadata": {},
     "output_type": "display_data"
    },
    {
     "data": {
      "text/html": [
       "<pre style=\"white-space:pre;overflow-x:auto;line-height:normal;font-family:Menlo,'DejaVu Sans Mono',consolas,'Courier New',monospace\">/var/folders/7t/k8q3439j6z3c683j7w00wtm80000gn/T/ipykernel_58430/330735155.py:26: FutureWarning: The behavior of \n",
       "DataFrame concatenation with empty or all-NA entries is deprecated. In a future version, this will no longer \n",
       "exclude empty or all-NA columns when determining the result dtypes. To retain the old behavior, exclude the \n",
       "relevant entries before the concat operation.\n",
       "  results = pd.concat([results, normalized_data]) #.dropna(axis=1, how=\"all\")])\n",
       "</pre>\n"
      ],
      "text/plain": [
       "/var/folders/7t/k8q3439j6z3c683j7w00wtm80000gn/T/ipykernel_58430/330735155.py:26: FutureWarning: The behavior of \n",
       "DataFrame concatenation with empty or all-NA entries is deprecated. In a future version, this will no longer \n",
       "exclude empty or all-NA columns when determining the result dtypes. To retain the old behavior, exclude the \n",
       "relevant entries before the concat operation.\n",
       "  results = pd.concat([results, normalized_data]) #.dropna(axis=1, how=\"all\")])\n"
      ]
     },
     "metadata": {},
     "output_type": "display_data"
    },
    {
     "data": {
      "text/html": [
       "<pre style=\"white-space:pre;overflow-x:auto;line-height:normal;font-family:Menlo,'DejaVu Sans Mono',consolas,'Courier New',monospace\">/var/folders/7t/k8q3439j6z3c683j7w00wtm80000gn/T/ipykernel_58430/330735155.py:26: FutureWarning: The behavior of \n",
       "DataFrame concatenation with empty or all-NA entries is deprecated. In a future version, this will no longer \n",
       "exclude empty or all-NA columns when determining the result dtypes. To retain the old behavior, exclude the \n",
       "relevant entries before the concat operation.\n",
       "  results = pd.concat([results, normalized_data]) #.dropna(axis=1, how=\"all\")])\n",
       "</pre>\n"
      ],
      "text/plain": [
       "/var/folders/7t/k8q3439j6z3c683j7w00wtm80000gn/T/ipykernel_58430/330735155.py:26: FutureWarning: The behavior of \n",
       "DataFrame concatenation with empty or all-NA entries is deprecated. In a future version, this will no longer \n",
       "exclude empty or all-NA columns when determining the result dtypes. To retain the old behavior, exclude the \n",
       "relevant entries before the concat operation.\n",
       "  results = pd.concat([results, normalized_data]) #.dropna(axis=1, how=\"all\")])\n"
      ]
     },
     "metadata": {},
     "output_type": "display_data"
    },
    {
     "data": {
      "text/html": [
       "<pre style=\"white-space:pre;overflow-x:auto;line-height:normal;font-family:Menlo,'DejaVu Sans Mono',consolas,'Courier New',monospace\">/var/folders/7t/k8q3439j6z3c683j7w00wtm80000gn/T/ipykernel_58430/330735155.py:26: FutureWarning: The behavior of \n",
       "DataFrame concatenation with empty or all-NA entries is deprecated. In a future version, this will no longer \n",
       "exclude empty or all-NA columns when determining the result dtypes. To retain the old behavior, exclude the \n",
       "relevant entries before the concat operation.\n",
       "  results = pd.concat([results, normalized_data]) #.dropna(axis=1, how=\"all\")])\n",
       "</pre>\n"
      ],
      "text/plain": [
       "/var/folders/7t/k8q3439j6z3c683j7w00wtm80000gn/T/ipykernel_58430/330735155.py:26: FutureWarning: The behavior of \n",
       "DataFrame concatenation with empty or all-NA entries is deprecated. In a future version, this will no longer \n",
       "exclude empty or all-NA columns when determining the result dtypes. To retain the old behavior, exclude the \n",
       "relevant entries before the concat operation.\n",
       "  results = pd.concat([results, normalized_data]) #.dropna(axis=1, how=\"all\")])\n"
      ]
     },
     "metadata": {},
     "output_type": "display_data"
    },
    {
     "data": {
      "text/html": [
       "<pre style=\"white-space:pre;overflow-x:auto;line-height:normal;font-family:Menlo,'DejaVu Sans Mono',consolas,'Courier New',monospace\">/var/folders/7t/k8q3439j6z3c683j7w00wtm80000gn/T/ipykernel_58430/330735155.py:26: FutureWarning: The behavior of \n",
       "DataFrame concatenation with empty or all-NA entries is deprecated. In a future version, this will no longer \n",
       "exclude empty or all-NA columns when determining the result dtypes. To retain the old behavior, exclude the \n",
       "relevant entries before the concat operation.\n",
       "  results = pd.concat([results, normalized_data]) #.dropna(axis=1, how=\"all\")])\n",
       "</pre>\n"
      ],
      "text/plain": [
       "/var/folders/7t/k8q3439j6z3c683j7w00wtm80000gn/T/ipykernel_58430/330735155.py:26: FutureWarning: The behavior of \n",
       "DataFrame concatenation with empty or all-NA entries is deprecated. In a future version, this will no longer \n",
       "exclude empty or all-NA columns when determining the result dtypes. To retain the old behavior, exclude the \n",
       "relevant entries before the concat operation.\n",
       "  results = pd.concat([results, normalized_data]) #.dropna(axis=1, how=\"all\")])\n"
      ]
     },
     "metadata": {},
     "output_type": "display_data"
    },
    {
     "data": {
      "text/html": [
       "<pre style=\"white-space:pre;overflow-x:auto;line-height:normal;font-family:Menlo,'DejaVu Sans Mono',consolas,'Courier New',monospace\">/var/folders/7t/k8q3439j6z3c683j7w00wtm80000gn/T/ipykernel_58430/330735155.py:26: FutureWarning: The behavior of \n",
       "DataFrame concatenation with empty or all-NA entries is deprecated. In a future version, this will no longer \n",
       "exclude empty or all-NA columns when determining the result dtypes. To retain the old behavior, exclude the \n",
       "relevant entries before the concat operation.\n",
       "  results = pd.concat([results, normalized_data]) #.dropna(axis=1, how=\"all\")])\n",
       "</pre>\n"
      ],
      "text/plain": [
       "/var/folders/7t/k8q3439j6z3c683j7w00wtm80000gn/T/ipykernel_58430/330735155.py:26: FutureWarning: The behavior of \n",
       "DataFrame concatenation with empty or all-NA entries is deprecated. In a future version, this will no longer \n",
       "exclude empty or all-NA columns when determining the result dtypes. To retain the old behavior, exclude the \n",
       "relevant entries before the concat operation.\n",
       "  results = pd.concat([results, normalized_data]) #.dropna(axis=1, how=\"all\")])\n"
      ]
     },
     "metadata": {},
     "output_type": "display_data"
    },
    {
     "data": {
      "text/html": [
       "<pre style=\"white-space:pre;overflow-x:auto;line-height:normal;font-family:Menlo,'DejaVu Sans Mono',consolas,'Courier New',monospace\">/var/folders/7t/k8q3439j6z3c683j7w00wtm80000gn/T/ipykernel_58430/330735155.py:26: FutureWarning: The behavior of \n",
       "DataFrame concatenation with empty or all-NA entries is deprecated. In a future version, this will no longer \n",
       "exclude empty or all-NA columns when determining the result dtypes. To retain the old behavior, exclude the \n",
       "relevant entries before the concat operation.\n",
       "  results = pd.concat([results, normalized_data]) #.dropna(axis=1, how=\"all\")])\n",
       "</pre>\n"
      ],
      "text/plain": [
       "/var/folders/7t/k8q3439j6z3c683j7w00wtm80000gn/T/ipykernel_58430/330735155.py:26: FutureWarning: The behavior of \n",
       "DataFrame concatenation with empty or all-NA entries is deprecated. In a future version, this will no longer \n",
       "exclude empty or all-NA columns when determining the result dtypes. To retain the old behavior, exclude the \n",
       "relevant entries before the concat operation.\n",
       "  results = pd.concat([results, normalized_data]) #.dropna(axis=1, how=\"all\")])\n"
      ]
     },
     "metadata": {},
     "output_type": "display_data"
    },
    {
     "data": {
      "text/html": [
       "<pre style=\"white-space:pre;overflow-x:auto;line-height:normal;font-family:Menlo,'DejaVu Sans Mono',consolas,'Courier New',monospace\">/var/folders/7t/k8q3439j6z3c683j7w00wtm80000gn/T/ipykernel_58430/330735155.py:26: FutureWarning: The behavior of \n",
       "DataFrame concatenation with empty or all-NA entries is deprecated. In a future version, this will no longer \n",
       "exclude empty or all-NA columns when determining the result dtypes. To retain the old behavior, exclude the \n",
       "relevant entries before the concat operation.\n",
       "  results = pd.concat([results, normalized_data]) #.dropna(axis=1, how=\"all\")])\n",
       "</pre>\n"
      ],
      "text/plain": [
       "/var/folders/7t/k8q3439j6z3c683j7w00wtm80000gn/T/ipykernel_58430/330735155.py:26: FutureWarning: The behavior of \n",
       "DataFrame concatenation with empty or all-NA entries is deprecated. In a future version, this will no longer \n",
       "exclude empty or all-NA columns when determining the result dtypes. To retain the old behavior, exclude the \n",
       "relevant entries before the concat operation.\n",
       "  results = pd.concat([results, normalized_data]) #.dropna(axis=1, how=\"all\")])\n"
      ]
     },
     "metadata": {},
     "output_type": "display_data"
    },
    {
     "data": {
      "text/html": [
       "<pre style=\"white-space:pre;overflow-x:auto;line-height:normal;font-family:Menlo,'DejaVu Sans Mono',consolas,'Courier New',monospace\">/var/folders/7t/k8q3439j6z3c683j7w00wtm80000gn/T/ipykernel_58430/330735155.py:26: FutureWarning: The behavior of \n",
       "DataFrame concatenation with empty or all-NA entries is deprecated. In a future version, this will no longer \n",
       "exclude empty or all-NA columns when determining the result dtypes. To retain the old behavior, exclude the \n",
       "relevant entries before the concat operation.\n",
       "  results = pd.concat([results, normalized_data]) #.dropna(axis=1, how=\"all\")])\n",
       "</pre>\n"
      ],
      "text/plain": [
       "/var/folders/7t/k8q3439j6z3c683j7w00wtm80000gn/T/ipykernel_58430/330735155.py:26: FutureWarning: The behavior of \n",
       "DataFrame concatenation with empty or all-NA entries is deprecated. In a future version, this will no longer \n",
       "exclude empty or all-NA columns when determining the result dtypes. To retain the old behavior, exclude the \n",
       "relevant entries before the concat operation.\n",
       "  results = pd.concat([results, normalized_data]) #.dropna(axis=1, how=\"all\")])\n"
      ]
     },
     "metadata": {},
     "output_type": "display_data"
    },
    {
     "data": {
      "text/html": [
       "<pre style=\"white-space:pre;overflow-x:auto;line-height:normal;font-family:Menlo,'DejaVu Sans Mono',consolas,'Courier New',monospace\">/var/folders/7t/k8q3439j6z3c683j7w00wtm80000gn/T/ipykernel_58430/330735155.py:26: FutureWarning: The behavior of \n",
       "DataFrame concatenation with empty or all-NA entries is deprecated. In a future version, this will no longer \n",
       "exclude empty or all-NA columns when determining the result dtypes. To retain the old behavior, exclude the \n",
       "relevant entries before the concat operation.\n",
       "  results = pd.concat([results, normalized_data]) #.dropna(axis=1, how=\"all\")])\n",
       "</pre>\n"
      ],
      "text/plain": [
       "/var/folders/7t/k8q3439j6z3c683j7w00wtm80000gn/T/ipykernel_58430/330735155.py:26: FutureWarning: The behavior of \n",
       "DataFrame concatenation with empty or all-NA entries is deprecated. In a future version, this will no longer \n",
       "exclude empty or all-NA columns when determining the result dtypes. To retain the old behavior, exclude the \n",
       "relevant entries before the concat operation.\n",
       "  results = pd.concat([results, normalized_data]) #.dropna(axis=1, how=\"all\")])\n"
      ]
     },
     "metadata": {},
     "output_type": "display_data"
    },
    {
     "data": {
      "text/html": [
       "<pre style=\"white-space:pre;overflow-x:auto;line-height:normal;font-family:Menlo,'DejaVu Sans Mono',consolas,'Courier New',monospace\">/var/folders/7t/k8q3439j6z3c683j7w00wtm80000gn/T/ipykernel_58430/330735155.py:26: FutureWarning: The behavior of \n",
       "DataFrame concatenation with empty or all-NA entries is deprecated. In a future version, this will no longer \n",
       "exclude empty or all-NA columns when determining the result dtypes. To retain the old behavior, exclude the \n",
       "relevant entries before the concat operation.\n",
       "  results = pd.concat([results, normalized_data]) #.dropna(axis=1, how=\"all\")])\n",
       "</pre>\n"
      ],
      "text/plain": [
       "/var/folders/7t/k8q3439j6z3c683j7w00wtm80000gn/T/ipykernel_58430/330735155.py:26: FutureWarning: The behavior of \n",
       "DataFrame concatenation with empty or all-NA entries is deprecated. In a future version, this will no longer \n",
       "exclude empty or all-NA columns when determining the result dtypes. To retain the old behavior, exclude the \n",
       "relevant entries before the concat operation.\n",
       "  results = pd.concat([results, normalized_data]) #.dropna(axis=1, how=\"all\")])\n"
      ]
     },
     "metadata": {},
     "output_type": "display_data"
    },
    {
     "data": {
      "text/html": [
       "<pre style=\"white-space:pre;overflow-x:auto;line-height:normal;font-family:Menlo,'DejaVu Sans Mono',consolas,'Courier New',monospace\">/var/folders/7t/k8q3439j6z3c683j7w00wtm80000gn/T/ipykernel_58430/330735155.py:26: FutureWarning: The behavior of \n",
       "DataFrame concatenation with empty or all-NA entries is deprecated. In a future version, this will no longer \n",
       "exclude empty or all-NA columns when determining the result dtypes. To retain the old behavior, exclude the \n",
       "relevant entries before the concat operation.\n",
       "  results = pd.concat([results, normalized_data]) #.dropna(axis=1, how=\"all\")])\n",
       "</pre>\n"
      ],
      "text/plain": [
       "/var/folders/7t/k8q3439j6z3c683j7w00wtm80000gn/T/ipykernel_58430/330735155.py:26: FutureWarning: The behavior of \n",
       "DataFrame concatenation with empty or all-NA entries is deprecated. In a future version, this will no longer \n",
       "exclude empty or all-NA columns when determining the result dtypes. To retain the old behavior, exclude the \n",
       "relevant entries before the concat operation.\n",
       "  results = pd.concat([results, normalized_data]) #.dropna(axis=1, how=\"all\")])\n"
      ]
     },
     "metadata": {},
     "output_type": "display_data"
    },
    {
     "data": {
      "text/html": [
       "<pre style=\"white-space:pre;overflow-x:auto;line-height:normal;font-family:Menlo,'DejaVu Sans Mono',consolas,'Courier New',monospace\">/var/folders/7t/k8q3439j6z3c683j7w00wtm80000gn/T/ipykernel_58430/330735155.py:26: FutureWarning: The behavior of \n",
       "DataFrame concatenation with empty or all-NA entries is deprecated. In a future version, this will no longer \n",
       "exclude empty or all-NA columns when determining the result dtypes. To retain the old behavior, exclude the \n",
       "relevant entries before the concat operation.\n",
       "  results = pd.concat([results, normalized_data]) #.dropna(axis=1, how=\"all\")])\n",
       "</pre>\n"
      ],
      "text/plain": [
       "/var/folders/7t/k8q3439j6z3c683j7w00wtm80000gn/T/ipykernel_58430/330735155.py:26: FutureWarning: The behavior of \n",
       "DataFrame concatenation with empty or all-NA entries is deprecated. In a future version, this will no longer \n",
       "exclude empty or all-NA columns when determining the result dtypes. To retain the old behavior, exclude the \n",
       "relevant entries before the concat operation.\n",
       "  results = pd.concat([results, normalized_data]) #.dropna(axis=1, how=\"all\")])\n"
      ]
     },
     "metadata": {},
     "output_type": "display_data"
    },
    {
     "data": {
      "text/html": [
       "<pre style=\"white-space:pre;overflow-x:auto;line-height:normal;font-family:Menlo,'DejaVu Sans Mono',consolas,'Courier New',monospace\">/var/folders/7t/k8q3439j6z3c683j7w00wtm80000gn/T/ipykernel_58430/330735155.py:26: FutureWarning: The behavior of \n",
       "DataFrame concatenation with empty or all-NA entries is deprecated. In a future version, this will no longer \n",
       "exclude empty or all-NA columns when determining the result dtypes. To retain the old behavior, exclude the \n",
       "relevant entries before the concat operation.\n",
       "  results = pd.concat([results, normalized_data]) #.dropna(axis=1, how=\"all\")])\n",
       "</pre>\n"
      ],
      "text/plain": [
       "/var/folders/7t/k8q3439j6z3c683j7w00wtm80000gn/T/ipykernel_58430/330735155.py:26: FutureWarning: The behavior of \n",
       "DataFrame concatenation with empty or all-NA entries is deprecated. In a future version, this will no longer \n",
       "exclude empty or all-NA columns when determining the result dtypes. To retain the old behavior, exclude the \n",
       "relevant entries before the concat operation.\n",
       "  results = pd.concat([results, normalized_data]) #.dropna(axis=1, how=\"all\")])\n"
      ]
     },
     "metadata": {},
     "output_type": "display_data"
    },
    {
     "data": {
      "text/html": [
       "<pre style=\"white-space:pre;overflow-x:auto;line-height:normal;font-family:Menlo,'DejaVu Sans Mono',consolas,'Courier New',monospace\">/var/folders/7t/k8q3439j6z3c683j7w00wtm80000gn/T/ipykernel_58430/330735155.py:26: FutureWarning: The behavior of \n",
       "DataFrame concatenation with empty or all-NA entries is deprecated. In a future version, this will no longer \n",
       "exclude empty or all-NA columns when determining the result dtypes. To retain the old behavior, exclude the \n",
       "relevant entries before the concat operation.\n",
       "  results = pd.concat([results, normalized_data]) #.dropna(axis=1, how=\"all\")])\n",
       "</pre>\n"
      ],
      "text/plain": [
       "/var/folders/7t/k8q3439j6z3c683j7w00wtm80000gn/T/ipykernel_58430/330735155.py:26: FutureWarning: The behavior of \n",
       "DataFrame concatenation with empty or all-NA entries is deprecated. In a future version, this will no longer \n",
       "exclude empty or all-NA columns when determining the result dtypes. To retain the old behavior, exclude the \n",
       "relevant entries before the concat operation.\n",
       "  results = pd.concat([results, normalized_data]) #.dropna(axis=1, how=\"all\")])\n"
      ]
     },
     "metadata": {},
     "output_type": "display_data"
    },
    {
     "data": {
      "text/html": [
       "<pre style=\"white-space:pre;overflow-x:auto;line-height:normal;font-family:Menlo,'DejaVu Sans Mono',consolas,'Courier New',monospace\">/var/folders/7t/k8q3439j6z3c683j7w00wtm80000gn/T/ipykernel_58430/330735155.py:26: FutureWarning: The behavior of \n",
       "DataFrame concatenation with empty or all-NA entries is deprecated. In a future version, this will no longer \n",
       "exclude empty or all-NA columns when determining the result dtypes. To retain the old behavior, exclude the \n",
       "relevant entries before the concat operation.\n",
       "  results = pd.concat([results, normalized_data]) #.dropna(axis=1, how=\"all\")])\n",
       "</pre>\n"
      ],
      "text/plain": [
       "/var/folders/7t/k8q3439j6z3c683j7w00wtm80000gn/T/ipykernel_58430/330735155.py:26: FutureWarning: The behavior of \n",
       "DataFrame concatenation with empty or all-NA entries is deprecated. In a future version, this will no longer \n",
       "exclude empty or all-NA columns when determining the result dtypes. To retain the old behavior, exclude the \n",
       "relevant entries before the concat operation.\n",
       "  results = pd.concat([results, normalized_data]) #.dropna(axis=1, how=\"all\")])\n"
      ]
     },
     "metadata": {},
     "output_type": "display_data"
    },
    {
     "data": {
      "text/html": [
       "<pre style=\"white-space:pre;overflow-x:auto;line-height:normal;font-family:Menlo,'DejaVu Sans Mono',consolas,'Courier New',monospace\">/var/folders/7t/k8q3439j6z3c683j7w00wtm80000gn/T/ipykernel_58430/330735155.py:26: FutureWarning: The behavior of \n",
       "DataFrame concatenation with empty or all-NA entries is deprecated. In a future version, this will no longer \n",
       "exclude empty or all-NA columns when determining the result dtypes. To retain the old behavior, exclude the \n",
       "relevant entries before the concat operation.\n",
       "  results = pd.concat([results, normalized_data]) #.dropna(axis=1, how=\"all\")])\n",
       "</pre>\n"
      ],
      "text/plain": [
       "/var/folders/7t/k8q3439j6z3c683j7w00wtm80000gn/T/ipykernel_58430/330735155.py:26: FutureWarning: The behavior of \n",
       "DataFrame concatenation with empty or all-NA entries is deprecated. In a future version, this will no longer \n",
       "exclude empty or all-NA columns when determining the result dtypes. To retain the old behavior, exclude the \n",
       "relevant entries before the concat operation.\n",
       "  results = pd.concat([results, normalized_data]) #.dropna(axis=1, how=\"all\")])\n"
      ]
     },
     "metadata": {},
     "output_type": "display_data"
    },
    {
     "data": {
      "text/html": [
       "<pre style=\"white-space:pre;overflow-x:auto;line-height:normal;font-family:Menlo,'DejaVu Sans Mono',consolas,'Courier New',monospace\">/var/folders/7t/k8q3439j6z3c683j7w00wtm80000gn/T/ipykernel_58430/330735155.py:26: FutureWarning: The behavior of \n",
       "DataFrame concatenation with empty or all-NA entries is deprecated. In a future version, this will no longer \n",
       "exclude empty or all-NA columns when determining the result dtypes. To retain the old behavior, exclude the \n",
       "relevant entries before the concat operation.\n",
       "  results = pd.concat([results, normalized_data]) #.dropna(axis=1, how=\"all\")])\n",
       "</pre>\n"
      ],
      "text/plain": [
       "/var/folders/7t/k8q3439j6z3c683j7w00wtm80000gn/T/ipykernel_58430/330735155.py:26: FutureWarning: The behavior of \n",
       "DataFrame concatenation with empty or all-NA entries is deprecated. In a future version, this will no longer \n",
       "exclude empty or all-NA columns when determining the result dtypes. To retain the old behavior, exclude the \n",
       "relevant entries before the concat operation.\n",
       "  results = pd.concat([results, normalized_data]) #.dropna(axis=1, how=\"all\")])\n"
      ]
     },
     "metadata": {},
     "output_type": "display_data"
    },
    {
     "data": {
      "text/html": [
       "<pre style=\"white-space:pre;overflow-x:auto;line-height:normal;font-family:Menlo,'DejaVu Sans Mono',consolas,'Courier New',monospace\">/var/folders/7t/k8q3439j6z3c683j7w00wtm80000gn/T/ipykernel_58430/330735155.py:26: FutureWarning: The behavior of \n",
       "DataFrame concatenation with empty or all-NA entries is deprecated. In a future version, this will no longer \n",
       "exclude empty or all-NA columns when determining the result dtypes. To retain the old behavior, exclude the \n",
       "relevant entries before the concat operation.\n",
       "  results = pd.concat([results, normalized_data]) #.dropna(axis=1, how=\"all\")])\n",
       "</pre>\n"
      ],
      "text/plain": [
       "/var/folders/7t/k8q3439j6z3c683j7w00wtm80000gn/T/ipykernel_58430/330735155.py:26: FutureWarning: The behavior of \n",
       "DataFrame concatenation with empty or all-NA entries is deprecated. In a future version, this will no longer \n",
       "exclude empty or all-NA columns when determining the result dtypes. To retain the old behavior, exclude the \n",
       "relevant entries before the concat operation.\n",
       "  results = pd.concat([results, normalized_data]) #.dropna(axis=1, how=\"all\")])\n"
      ]
     },
     "metadata": {},
     "output_type": "display_data"
    },
    {
     "data": {
      "text/html": [
       "<pre style=\"white-space:pre;overflow-x:auto;line-height:normal;font-family:Menlo,'DejaVu Sans Mono',consolas,'Courier New',monospace\">/var/folders/7t/k8q3439j6z3c683j7w00wtm80000gn/T/ipykernel_58430/330735155.py:26: FutureWarning: The behavior of \n",
       "DataFrame concatenation with empty or all-NA entries is deprecated. In a future version, this will no longer \n",
       "exclude empty or all-NA columns when determining the result dtypes. To retain the old behavior, exclude the \n",
       "relevant entries before the concat operation.\n",
       "  results = pd.concat([results, normalized_data]) #.dropna(axis=1, how=\"all\")])\n",
       "</pre>\n"
      ],
      "text/plain": [
       "/var/folders/7t/k8q3439j6z3c683j7w00wtm80000gn/T/ipykernel_58430/330735155.py:26: FutureWarning: The behavior of \n",
       "DataFrame concatenation with empty or all-NA entries is deprecated. In a future version, this will no longer \n",
       "exclude empty or all-NA columns when determining the result dtypes. To retain the old behavior, exclude the \n",
       "relevant entries before the concat operation.\n",
       "  results = pd.concat([results, normalized_data]) #.dropna(axis=1, how=\"all\")])\n"
      ]
     },
     "metadata": {},
     "output_type": "display_data"
    },
    {
     "data": {
      "text/html": [
       "<pre style=\"white-space:pre;overflow-x:auto;line-height:normal;font-family:Menlo,'DejaVu Sans Mono',consolas,'Courier New',monospace\">/var/folders/7t/k8q3439j6z3c683j7w00wtm80000gn/T/ipykernel_58430/330735155.py:26: FutureWarning: The behavior of \n",
       "DataFrame concatenation with empty or all-NA entries is deprecated. In a future version, this will no longer \n",
       "exclude empty or all-NA columns when determining the result dtypes. To retain the old behavior, exclude the \n",
       "relevant entries before the concat operation.\n",
       "  results = pd.concat([results, normalized_data]) #.dropna(axis=1, how=\"all\")])\n",
       "</pre>\n"
      ],
      "text/plain": [
       "/var/folders/7t/k8q3439j6z3c683j7w00wtm80000gn/T/ipykernel_58430/330735155.py:26: FutureWarning: The behavior of \n",
       "DataFrame concatenation with empty or all-NA entries is deprecated. In a future version, this will no longer \n",
       "exclude empty or all-NA columns when determining the result dtypes. To retain the old behavior, exclude the \n",
       "relevant entries before the concat operation.\n",
       "  results = pd.concat([results, normalized_data]) #.dropna(axis=1, how=\"all\")])\n"
      ]
     },
     "metadata": {},
     "output_type": "display_data"
    },
    {
     "data": {
      "text/html": [
       "<pre style=\"white-space:pre;overflow-x:auto;line-height:normal;font-family:Menlo,'DejaVu Sans Mono',consolas,'Courier New',monospace\">/var/folders/7t/k8q3439j6z3c683j7w00wtm80000gn/T/ipykernel_58430/330735155.py:26: FutureWarning: The behavior of \n",
       "DataFrame concatenation with empty or all-NA entries is deprecated. In a future version, this will no longer \n",
       "exclude empty or all-NA columns when determining the result dtypes. To retain the old behavior, exclude the \n",
       "relevant entries before the concat operation.\n",
       "  results = pd.concat([results, normalized_data]) #.dropna(axis=1, how=\"all\")])\n",
       "</pre>\n"
      ],
      "text/plain": [
       "/var/folders/7t/k8q3439j6z3c683j7w00wtm80000gn/T/ipykernel_58430/330735155.py:26: FutureWarning: The behavior of \n",
       "DataFrame concatenation with empty or all-NA entries is deprecated. In a future version, this will no longer \n",
       "exclude empty or all-NA columns when determining the result dtypes. To retain the old behavior, exclude the \n",
       "relevant entries before the concat operation.\n",
       "  results = pd.concat([results, normalized_data]) #.dropna(axis=1, how=\"all\")])\n"
      ]
     },
     "metadata": {},
     "output_type": "display_data"
    },
    {
     "data": {
      "text/html": [
       "<pre style=\"white-space:pre;overflow-x:auto;line-height:normal;font-family:Menlo,'DejaVu Sans Mono',consolas,'Courier New',monospace\">/var/folders/7t/k8q3439j6z3c683j7w00wtm80000gn/T/ipykernel_58430/330735155.py:26: FutureWarning: The behavior of \n",
       "DataFrame concatenation with empty or all-NA entries is deprecated. In a future version, this will no longer \n",
       "exclude empty or all-NA columns when determining the result dtypes. To retain the old behavior, exclude the \n",
       "relevant entries before the concat operation.\n",
       "  results = pd.concat([results, normalized_data]) #.dropna(axis=1, how=\"all\")])\n",
       "</pre>\n"
      ],
      "text/plain": [
       "/var/folders/7t/k8q3439j6z3c683j7w00wtm80000gn/T/ipykernel_58430/330735155.py:26: FutureWarning: The behavior of \n",
       "DataFrame concatenation with empty or all-NA entries is deprecated. In a future version, this will no longer \n",
       "exclude empty or all-NA columns when determining the result dtypes. To retain the old behavior, exclude the \n",
       "relevant entries before the concat operation.\n",
       "  results = pd.concat([results, normalized_data]) #.dropna(axis=1, how=\"all\")])\n"
      ]
     },
     "metadata": {},
     "output_type": "display_data"
    },
    {
     "data": {
      "text/html": [
       "<pre style=\"white-space:pre;overflow-x:auto;line-height:normal;font-family:Menlo,'DejaVu Sans Mono',consolas,'Courier New',monospace\">/var/folders/7t/k8q3439j6z3c683j7w00wtm80000gn/T/ipykernel_58430/330735155.py:26: FutureWarning: The behavior of \n",
       "DataFrame concatenation with empty or all-NA entries is deprecated. In a future version, this will no longer \n",
       "exclude empty or all-NA columns when determining the result dtypes. To retain the old behavior, exclude the \n",
       "relevant entries before the concat operation.\n",
       "  results = pd.concat([results, normalized_data]) #.dropna(axis=1, how=\"all\")])\n",
       "</pre>\n"
      ],
      "text/plain": [
       "/var/folders/7t/k8q3439j6z3c683j7w00wtm80000gn/T/ipykernel_58430/330735155.py:26: FutureWarning: The behavior of \n",
       "DataFrame concatenation with empty or all-NA entries is deprecated. In a future version, this will no longer \n",
       "exclude empty or all-NA columns when determining the result dtypes. To retain the old behavior, exclude the \n",
       "relevant entries before the concat operation.\n",
       "  results = pd.concat([results, normalized_data]) #.dropna(axis=1, how=\"all\")])\n"
      ]
     },
     "metadata": {},
     "output_type": "display_data"
    },
    {
     "data": {
      "text/html": [
       "<pre style=\"white-space:pre;overflow-x:auto;line-height:normal;font-family:Menlo,'DejaVu Sans Mono',consolas,'Courier New',monospace\">/var/folders/7t/k8q3439j6z3c683j7w00wtm80000gn/T/ipykernel_58430/330735155.py:26: FutureWarning: The behavior of \n",
       "DataFrame concatenation with empty or all-NA entries is deprecated. In a future version, this will no longer \n",
       "exclude empty or all-NA columns when determining the result dtypes. To retain the old behavior, exclude the \n",
       "relevant entries before the concat operation.\n",
       "  results = pd.concat([results, normalized_data]) #.dropna(axis=1, how=\"all\")])\n",
       "</pre>\n"
      ],
      "text/plain": [
       "/var/folders/7t/k8q3439j6z3c683j7w00wtm80000gn/T/ipykernel_58430/330735155.py:26: FutureWarning: The behavior of \n",
       "DataFrame concatenation with empty or all-NA entries is deprecated. In a future version, this will no longer \n",
       "exclude empty or all-NA columns when determining the result dtypes. To retain the old behavior, exclude the \n",
       "relevant entries before the concat operation.\n",
       "  results = pd.concat([results, normalized_data]) #.dropna(axis=1, how=\"all\")])\n"
      ]
     },
     "metadata": {},
     "output_type": "display_data"
    },
    {
     "data": {
      "text/html": [
       "<pre style=\"white-space:pre;overflow-x:auto;line-height:normal;font-family:Menlo,'DejaVu Sans Mono',consolas,'Courier New',monospace\">/var/folders/7t/k8q3439j6z3c683j7w00wtm80000gn/T/ipykernel_58430/330735155.py:26: FutureWarning: The behavior of \n",
       "DataFrame concatenation with empty or all-NA entries is deprecated. In a future version, this will no longer \n",
       "exclude empty or all-NA columns when determining the result dtypes. To retain the old behavior, exclude the \n",
       "relevant entries before the concat operation.\n",
       "  results = pd.concat([results, normalized_data]) #.dropna(axis=1, how=\"all\")])\n",
       "</pre>\n"
      ],
      "text/plain": [
       "/var/folders/7t/k8q3439j6z3c683j7w00wtm80000gn/T/ipykernel_58430/330735155.py:26: FutureWarning: The behavior of \n",
       "DataFrame concatenation with empty or all-NA entries is deprecated. In a future version, this will no longer \n",
       "exclude empty or all-NA columns when determining the result dtypes. To retain the old behavior, exclude the \n",
       "relevant entries before the concat operation.\n",
       "  results = pd.concat([results, normalized_data]) #.dropna(axis=1, how=\"all\")])\n"
      ]
     },
     "metadata": {},
     "output_type": "display_data"
    },
    {
     "data": {
      "text/html": [
       "<pre style=\"white-space:pre;overflow-x:auto;line-height:normal;font-family:Menlo,'DejaVu Sans Mono',consolas,'Courier New',monospace\">/var/folders/7t/k8q3439j6z3c683j7w00wtm80000gn/T/ipykernel_58430/330735155.py:26: FutureWarning: The behavior of \n",
       "DataFrame concatenation with empty or all-NA entries is deprecated. In a future version, this will no longer \n",
       "exclude empty or all-NA columns when determining the result dtypes. To retain the old behavior, exclude the \n",
       "relevant entries before the concat operation.\n",
       "  results = pd.concat([results, normalized_data]) #.dropna(axis=1, how=\"all\")])\n",
       "</pre>\n"
      ],
      "text/plain": [
       "/var/folders/7t/k8q3439j6z3c683j7w00wtm80000gn/T/ipykernel_58430/330735155.py:26: FutureWarning: The behavior of \n",
       "DataFrame concatenation with empty or all-NA entries is deprecated. In a future version, this will no longer \n",
       "exclude empty or all-NA columns when determining the result dtypes. To retain the old behavior, exclude the \n",
       "relevant entries before the concat operation.\n",
       "  results = pd.concat([results, normalized_data]) #.dropna(axis=1, how=\"all\")])\n"
      ]
     },
     "metadata": {},
     "output_type": "display_data"
    },
    {
     "data": {
      "text/html": [
       "<pre style=\"white-space:pre;overflow-x:auto;line-height:normal;font-family:Menlo,'DejaVu Sans Mono',consolas,'Courier New',monospace\"></pre>\n"
      ],
      "text/plain": []
     },
     "metadata": {},
     "output_type": "display_data"
    },
    {
     "data": {
      "text/html": [
       "<pre style=\"white-space:pre;overflow-x:auto;line-height:normal;font-family:Menlo,'DejaVu Sans Mono',consolas,'Courier New',monospace\">\n",
       "</pre>\n"
      ],
      "text/plain": [
       "\n"
      ]
     },
     "metadata": {},
     "output_type": "display_data"
    },
    {
     "data": {
      "text/html": [
       "<div>\n",
       "<style scoped>\n",
       "    .dataframe tbody tr th:only-of-type {\n",
       "        vertical-align: middle;\n",
       "    }\n",
       "\n",
       "    .dataframe tbody tr th {\n",
       "        vertical-align: top;\n",
       "    }\n",
       "\n",
       "    .dataframe thead th {\n",
       "        text-align: right;\n",
       "    }\n",
       "</style>\n",
       "<table border=\"1\" class=\"dataframe\">\n",
       "  <thead>\n",
       "    <tr style=\"text-align: right;\">\n",
       "      <th></th>\n",
       "      <th></th>\n",
       "      <th></th>\n",
       "      <th></th>\n",
       "      <th>C</th>\n",
       "      <th>alpha</th>\n",
       "      <th>hidden_layer_sizes</th>\n",
       "      <th>kernel</th>\n",
       "      <th>learning_rate</th>\n",
       "      <th>max_depth</th>\n",
       "      <th>n_estimators</th>\n",
       "      <th>f1_score</th>\n",
       "      <th>model_path</th>\n",
       "    </tr>\n",
       "    <tr>\n",
       "      <th>percentage</th>\n",
       "      <th>model</th>\n",
       "      <th>use_gradient</th>\n",
       "      <th>use_ewma</th>\n",
       "      <th></th>\n",
       "      <th></th>\n",
       "      <th></th>\n",
       "      <th></th>\n",
       "      <th></th>\n",
       "      <th></th>\n",
       "      <th></th>\n",
       "      <th></th>\n",
       "      <th></th>\n",
       "    </tr>\n",
       "  </thead>\n",
       "  <tbody>\n",
       "    <tr>\n",
       "      <th rowspan=\"5\" valign=\"top\">4</th>\n",
       "      <th rowspan=\"5\" valign=\"top\">SVM</th>\n",
       "      <th rowspan=\"5\" valign=\"top\">True</th>\n",
       "      <th>False</th>\n",
       "      <td>1.0</td>\n",
       "      <td>NaN</td>\n",
       "      <td>NaN</td>\n",
       "      <td>rbf</td>\n",
       "      <td>NaN</td>\n",
       "      <td>NaN</td>\n",
       "      <td>NaN</td>\n",
       "      <td>0.715789</td>\n",
       "      <td>train-output-all-features/SVM_4_grad_no-ewma_3...</td>\n",
       "    </tr>\n",
       "    <tr>\n",
       "      <th>False</th>\n",
       "      <td>1.0</td>\n",
       "      <td>NaN</td>\n",
       "      <td>NaN</td>\n",
       "      <td>rbf</td>\n",
       "      <td>NaN</td>\n",
       "      <td>NaN</td>\n",
       "      <td>NaN</td>\n",
       "      <td>0.702128</td>\n",
       "      <td>train-output-all-features/SVM_4_grad_no-ewma_3...</td>\n",
       "    </tr>\n",
       "    <tr>\n",
       "      <th>False</th>\n",
       "      <td>1.0</td>\n",
       "      <td>NaN</td>\n",
       "      <td>NaN</td>\n",
       "      <td>rbf</td>\n",
       "      <td>NaN</td>\n",
       "      <td>NaN</td>\n",
       "      <td>NaN</td>\n",
       "      <td>0.701031</td>\n",
       "      <td>train-output-all-features/SVM_4_grad_no-ewma_3...</td>\n",
       "    </tr>\n",
       "    <tr>\n",
       "      <th>False</th>\n",
       "      <td>1.0</td>\n",
       "      <td>NaN</td>\n",
       "      <td>NaN</td>\n",
       "      <td>rbf</td>\n",
       "      <td>NaN</td>\n",
       "      <td>NaN</td>\n",
       "      <td>NaN</td>\n",
       "      <td>0.747475</td>\n",
       "      <td>train-output-all-features/SVM_4_grad_no-ewma_3...</td>\n",
       "    </tr>\n",
       "    <tr>\n",
       "      <th>False</th>\n",
       "      <td>1.0</td>\n",
       "      <td>NaN</td>\n",
       "      <td>NaN</td>\n",
       "      <td>rbf</td>\n",
       "      <td>NaN</td>\n",
       "      <td>NaN</td>\n",
       "      <td>NaN</td>\n",
       "      <td>0.744681</td>\n",
       "      <td>train-output-all-features/SVM_4_grad_no-ewma_3...</td>\n",
       "    </tr>\n",
       "    <tr>\n",
       "      <th>...</th>\n",
       "      <th>...</th>\n",
       "      <th>...</th>\n",
       "      <th>...</th>\n",
       "      <td>...</td>\n",
       "      <td>...</td>\n",
       "      <td>...</td>\n",
       "      <td>...</td>\n",
       "      <td>...</td>\n",
       "      <td>...</td>\n",
       "      <td>...</td>\n",
       "      <td>...</td>\n",
       "      <td>...</td>\n",
       "    </tr>\n",
       "    <tr>\n",
       "      <th rowspan=\"5\" valign=\"top\">19</th>\n",
       "      <th rowspan=\"5\" valign=\"top\">LR</th>\n",
       "      <th rowspan=\"5\" valign=\"top\">False</th>\n",
       "      <th>False</th>\n",
       "      <td>1.0</td>\n",
       "      <td>NaN</td>\n",
       "      <td>NaN</td>\n",
       "      <td>NaN</td>\n",
       "      <td>NaN</td>\n",
       "      <td>NaN</td>\n",
       "      <td>NaN</td>\n",
       "      <td>0.619048</td>\n",
       "      <td>train-output-all-features/LR_19_no-grad_no-ewm...</td>\n",
       "    </tr>\n",
       "    <tr>\n",
       "      <th>False</th>\n",
       "      <td>1.0</td>\n",
       "      <td>NaN</td>\n",
       "      <td>NaN</td>\n",
       "      <td>NaN</td>\n",
       "      <td>NaN</td>\n",
       "      <td>NaN</td>\n",
       "      <td>NaN</td>\n",
       "      <td>0.488889</td>\n",
       "      <td>train-output-all-features/LR_19_no-grad_no-ewm...</td>\n",
       "    </tr>\n",
       "    <tr>\n",
       "      <th>False</th>\n",
       "      <td>1.0</td>\n",
       "      <td>NaN</td>\n",
       "      <td>NaN</td>\n",
       "      <td>NaN</td>\n",
       "      <td>NaN</td>\n",
       "      <td>NaN</td>\n",
       "      <td>NaN</td>\n",
       "      <td>0.465116</td>\n",
       "      <td>train-output-all-features/LR_19_no-grad_no-ewm...</td>\n",
       "    </tr>\n",
       "    <tr>\n",
       "      <th>False</th>\n",
       "      <td>1.0</td>\n",
       "      <td>NaN</td>\n",
       "      <td>NaN</td>\n",
       "      <td>NaN</td>\n",
       "      <td>NaN</td>\n",
       "      <td>NaN</td>\n",
       "      <td>NaN</td>\n",
       "      <td>0.478261</td>\n",
       "      <td>train-output-all-features/LR_19_no-grad_no-ewm...</td>\n",
       "    </tr>\n",
       "    <tr>\n",
       "      <th>False</th>\n",
       "      <td>1.0</td>\n",
       "      <td>NaN</td>\n",
       "      <td>NaN</td>\n",
       "      <td>NaN</td>\n",
       "      <td>NaN</td>\n",
       "      <td>NaN</td>\n",
       "      <td>NaN</td>\n",
       "      <td>0.510638</td>\n",
       "      <td>train-output-all-features/LR_19_no-grad_no-ewm...</td>\n",
       "    </tr>\n",
       "  </tbody>\n",
       "</table>\n",
       "<p>33540 rows × 9 columns</p>\n",
       "</div>"
      ],
      "text/plain": [
       "                                          C  alpha hidden_layer_sizes kernel  \\\n",
       "percentage model use_gradient use_ewma                                         \n",
       "4          SVM   True         False     1.0    NaN                NaN    rbf   \n",
       "                              False     1.0    NaN                NaN    rbf   \n",
       "                              False     1.0    NaN                NaN    rbf   \n",
       "                              False     1.0    NaN                NaN    rbf   \n",
       "                              False     1.0    NaN                NaN    rbf   \n",
       "...                                     ...    ...                ...    ...   \n",
       "19         LR    False        False     1.0    NaN                NaN    NaN   \n",
       "                              False     1.0    NaN                NaN    NaN   \n",
       "                              False     1.0    NaN                NaN    NaN   \n",
       "                              False     1.0    NaN                NaN    NaN   \n",
       "                              False     1.0    NaN                NaN    NaN   \n",
       "\n",
       "                                        learning_rate  max_depth  \\\n",
       "percentage model use_gradient use_ewma                             \n",
       "4          SVM   True         False               NaN        NaN   \n",
       "                              False               NaN        NaN   \n",
       "                              False               NaN        NaN   \n",
       "                              False               NaN        NaN   \n",
       "                              False               NaN        NaN   \n",
       "...                                               ...        ...   \n",
       "19         LR    False        False               NaN        NaN   \n",
       "                              False               NaN        NaN   \n",
       "                              False               NaN        NaN   \n",
       "                              False               NaN        NaN   \n",
       "                              False               NaN        NaN   \n",
       "\n",
       "                                        n_estimators  f1_score  \\\n",
       "percentage model use_gradient use_ewma                           \n",
       "4          SVM   True         False              NaN  0.715789   \n",
       "                              False              NaN  0.702128   \n",
       "                              False              NaN  0.701031   \n",
       "                              False              NaN  0.747475   \n",
       "                              False              NaN  0.744681   \n",
       "...                                              ...       ...   \n",
       "19         LR    False        False              NaN  0.619048   \n",
       "                              False              NaN  0.488889   \n",
       "                              False              NaN  0.465116   \n",
       "                              False              NaN  0.478261   \n",
       "                              False              NaN  0.510638   \n",
       "\n",
       "                                                                               model_path  \n",
       "percentage model use_gradient use_ewma                                                     \n",
       "4          SVM   True         False     train-output-all-features/SVM_4_grad_no-ewma_3...  \n",
       "                              False     train-output-all-features/SVM_4_grad_no-ewma_3...  \n",
       "                              False     train-output-all-features/SVM_4_grad_no-ewma_3...  \n",
       "                              False     train-output-all-features/SVM_4_grad_no-ewma_3...  \n",
       "                              False     train-output-all-features/SVM_4_grad_no-ewma_3...  \n",
       "...                                                                                   ...  \n",
       "19         LR    False        False     train-output-all-features/LR_19_no-grad_no-ewm...  \n",
       "                              False     train-output-all-features/LR_19_no-grad_no-ewm...  \n",
       "                              False     train-output-all-features/LR_19_no-grad_no-ewm...  \n",
       "                              False     train-output-all-features/LR_19_no-grad_no-ewm...  \n",
       "                              False     train-output-all-features/LR_19_no-grad_no-ewm...  \n",
       "\n",
       "[33540 rows x 9 columns]"
      ]
     },
     "execution_count": 89,
     "metadata": {},
     "output_type": "execute_result"
    }
   ],
   "source": [
    "def parse_files(root_path):\n",
    "    \"\"\"\n",
    "    Parse files and use pd.json_normalize to flatten the json.\n",
    "    \"\"\"\n",
    "    files = root_path.joinpath(\"train-output-all-features\").glob(\"**/*.json\")\n",
    "    results = pd.DataFrame()\n",
    "    files = list(files)\n",
    "\n",
    "    for file in track(\n",
    "        files,\n",
    "        description=\"Loading hyperparameters and \"\n",
    "        \"performance data from file to DataFrame\",\n",
    "    ):\n",
    "        with open(file) as f:\n",
    "            data = json.load(f)\n",
    "            original_target = root_path.joinpath(data[\"original_target\"])\n",
    "            original_dict = json.loads(Path(original_target).read_text())\n",
    "\n",
    "            f1_scores = pd.json_normalize(data, \"f1_scores\")\n",
    "            normalized_data = pd.json_normalize(original_dict)\n",
    "            normalized_data = pd.concat(\n",
    "                [normalized_data] * len(f1_scores), ignore_index=True\n",
    "            )\n",
    "            normalized_data[\"metrics.f1_score\"] = f1_scores\n",
    "            normalized_data[\"paths.model_path\"] = data[\"model_path\"]\n",
    "            results = pd.concat([results, normalized_data]) #.dropna(axis=1, how=\"all\")])\n",
    "\n",
    "    results = results.set_index(\n",
    "        [\"percentage\", \"model\", \"use_gradient\", \"use_ewma\"]\n",
    "    )\n",
    "    results.columns = pd.MultiIndex.from_arrays(\n",
    "        zip(*results.columns.str.split(\".\", expand=True))\n",
    "    )\n",
    "    results = results.sort_index(axis=1)\n",
    "    results = results.drop(columns=['k_fold', 'preprocessing'])\n",
    "    results = results.droplevel(0, axis=1)\n",
    "\n",
    "    return results\n",
    "\n",
    "\n",
    "data_flattened = parse_files(Path(\"./analysis/\"))\n",
    "data_flattened"
   ]
  },
  {
   "cell_type": "code",
   "execution_count": 90,
   "metadata": {},
   "outputs": [
    {
     "data": {
      "text/html": [
       "<div>\n",
       "<style scoped>\n",
       "    .dataframe tbody tr th:only-of-type {\n",
       "        vertical-align: middle;\n",
       "    }\n",
       "\n",
       "    .dataframe tbody tr th {\n",
       "        vertical-align: top;\n",
       "    }\n",
       "\n",
       "    .dataframe thead th {\n",
       "        text-align: right;\n",
       "    }\n",
       "</style>\n",
       "<table border=\"1\" class=\"dataframe\">\n",
       "  <thead>\n",
       "    <tr style=\"text-align: right;\">\n",
       "      <th></th>\n",
       "      <th></th>\n",
       "      <th>C</th>\n",
       "      <th>alpha</th>\n",
       "      <th>hidden_layer_sizes</th>\n",
       "      <th>kernel</th>\n",
       "      <th>learning_rate</th>\n",
       "      <th>max_depth</th>\n",
       "      <th>n_estimators</th>\n",
       "      <th>f1_score</th>\n",
       "      <th>model_path</th>\n",
       "    </tr>\n",
       "    <tr>\n",
       "      <th>percentage</th>\n",
       "      <th>model</th>\n",
       "      <th></th>\n",
       "      <th></th>\n",
       "      <th></th>\n",
       "      <th></th>\n",
       "      <th></th>\n",
       "      <th></th>\n",
       "      <th></th>\n",
       "      <th></th>\n",
       "      <th></th>\n",
       "    </tr>\n",
       "  </thead>\n",
       "  <tbody>\n",
       "    <tr>\n",
       "      <th rowspan=\"5\" valign=\"top\">1</th>\n",
       "      <th>AdaBoost</th>\n",
       "      <td>NaN</td>\n",
       "      <td>NaN</td>\n",
       "      <td>NaN</td>\n",
       "      <td>NaN</td>\n",
       "      <td>0.1</td>\n",
       "      <td>NaN</td>\n",
       "      <td>50.0</td>\n",
       "      <td>0.790323</td>\n",
       "      <td>train-output-all-features/AdaBoost_1_no-grad_n...</td>\n",
       "    </tr>\n",
       "    <tr>\n",
       "      <th>AdaBoost</th>\n",
       "      <td>NaN</td>\n",
       "      <td>NaN</td>\n",
       "      <td>NaN</td>\n",
       "      <td>NaN</td>\n",
       "      <td>0.1</td>\n",
       "      <td>NaN</td>\n",
       "      <td>50.0</td>\n",
       "      <td>0.760331</td>\n",
       "      <td>train-output-all-features/AdaBoost_1_no-grad_n...</td>\n",
       "    </tr>\n",
       "    <tr>\n",
       "      <th>AdaBoost</th>\n",
       "      <td>NaN</td>\n",
       "      <td>NaN</td>\n",
       "      <td>NaN</td>\n",
       "      <td>NaN</td>\n",
       "      <td>0.1</td>\n",
       "      <td>NaN</td>\n",
       "      <td>50.0</td>\n",
       "      <td>0.740157</td>\n",
       "      <td>train-output-all-features/AdaBoost_1_no-grad_n...</td>\n",
       "    </tr>\n",
       "    <tr>\n",
       "      <th>AdaBoost</th>\n",
       "      <td>NaN</td>\n",
       "      <td>NaN</td>\n",
       "      <td>NaN</td>\n",
       "      <td>NaN</td>\n",
       "      <td>0.1</td>\n",
       "      <td>NaN</td>\n",
       "      <td>50.0</td>\n",
       "      <td>0.789474</td>\n",
       "      <td>train-output-all-features/AdaBoost_1_no-grad_n...</td>\n",
       "    </tr>\n",
       "    <tr>\n",
       "      <th>AdaBoost</th>\n",
       "      <td>NaN</td>\n",
       "      <td>NaN</td>\n",
       "      <td>NaN</td>\n",
       "      <td>NaN</td>\n",
       "      <td>0.1</td>\n",
       "      <td>NaN</td>\n",
       "      <td>50.0</td>\n",
       "      <td>0.777778</td>\n",
       "      <td>train-output-all-features/AdaBoost_1_no-grad_n...</td>\n",
       "    </tr>\n",
       "    <tr>\n",
       "      <th>...</th>\n",
       "      <th>...</th>\n",
       "      <td>...</td>\n",
       "      <td>...</td>\n",
       "      <td>...</td>\n",
       "      <td>...</td>\n",
       "      <td>...</td>\n",
       "      <td>...</td>\n",
       "      <td>...</td>\n",
       "      <td>...</td>\n",
       "      <td>...</td>\n",
       "    </tr>\n",
       "    <tr>\n",
       "      <th rowspan=\"5\" valign=\"top\">20</th>\n",
       "      <th>SVM</th>\n",
       "      <td>0.1</td>\n",
       "      <td>NaN</td>\n",
       "      <td>NaN</td>\n",
       "      <td>linear</td>\n",
       "      <td>NaN</td>\n",
       "      <td>NaN</td>\n",
       "      <td>NaN</td>\n",
       "      <td>0.380952</td>\n",
       "      <td>train-output-all-features/SVM_20_no-grad_no-ew...</td>\n",
       "    </tr>\n",
       "    <tr>\n",
       "      <th>SVM</th>\n",
       "      <td>0.1</td>\n",
       "      <td>NaN</td>\n",
       "      <td>NaN</td>\n",
       "      <td>linear</td>\n",
       "      <td>NaN</td>\n",
       "      <td>NaN</td>\n",
       "      <td>NaN</td>\n",
       "      <td>0.491228</td>\n",
       "      <td>train-output-all-features/SVM_20_no-grad_no-ew...</td>\n",
       "    </tr>\n",
       "    <tr>\n",
       "      <th>SVM</th>\n",
       "      <td>0.1</td>\n",
       "      <td>NaN</td>\n",
       "      <td>NaN</td>\n",
       "      <td>linear</td>\n",
       "      <td>NaN</td>\n",
       "      <td>NaN</td>\n",
       "      <td>NaN</td>\n",
       "      <td>0.416667</td>\n",
       "      <td>train-output-all-features/SVM_20_no-grad_no-ew...</td>\n",
       "    </tr>\n",
       "    <tr>\n",
       "      <th>SVM</th>\n",
       "      <td>0.1</td>\n",
       "      <td>NaN</td>\n",
       "      <td>NaN</td>\n",
       "      <td>linear</td>\n",
       "      <td>NaN</td>\n",
       "      <td>NaN</td>\n",
       "      <td>NaN</td>\n",
       "      <td>0.604651</td>\n",
       "      <td>train-output-all-features/SVM_20_no-grad_no-ew...</td>\n",
       "    </tr>\n",
       "    <tr>\n",
       "      <th>SVM</th>\n",
       "      <td>0.1</td>\n",
       "      <td>NaN</td>\n",
       "      <td>NaN</td>\n",
       "      <td>linear</td>\n",
       "      <td>NaN</td>\n",
       "      <td>NaN</td>\n",
       "      <td>NaN</td>\n",
       "      <td>0.500000</td>\n",
       "      <td>train-output-all-features/SVM_20_no-grad_no-ew...</td>\n",
       "    </tr>\n",
       "  </tbody>\n",
       "</table>\n",
       "<p>8600 rows × 9 columns</p>\n",
       "</div>"
      ],
      "text/plain": [
       "                       C  alpha hidden_layer_sizes  kernel  learning_rate  \\\n",
       "percentage model                                                            \n",
       "1          AdaBoost  NaN    NaN                NaN     NaN            0.1   \n",
       "           AdaBoost  NaN    NaN                NaN     NaN            0.1   \n",
       "           AdaBoost  NaN    NaN                NaN     NaN            0.1   \n",
       "           AdaBoost  NaN    NaN                NaN     NaN            0.1   \n",
       "           AdaBoost  NaN    NaN                NaN     NaN            0.1   \n",
       "...                  ...    ...                ...     ...            ...   \n",
       "20         SVM       0.1    NaN                NaN  linear            NaN   \n",
       "           SVM       0.1    NaN                NaN  linear            NaN   \n",
       "           SVM       0.1    NaN                NaN  linear            NaN   \n",
       "           SVM       0.1    NaN                NaN  linear            NaN   \n",
       "           SVM       0.1    NaN                NaN  linear            NaN   \n",
       "\n",
       "                     max_depth  n_estimators  f1_score  \\\n",
       "percentage model                                         \n",
       "1          AdaBoost        NaN          50.0  0.790323   \n",
       "           AdaBoost        NaN          50.0  0.760331   \n",
       "           AdaBoost        NaN          50.0  0.740157   \n",
       "           AdaBoost        NaN          50.0  0.789474   \n",
       "           AdaBoost        NaN          50.0  0.777778   \n",
       "...                        ...           ...       ...   \n",
       "20         SVM             NaN           NaN  0.380952   \n",
       "           SVM             NaN           NaN  0.491228   \n",
       "           SVM             NaN           NaN  0.416667   \n",
       "           SVM             NaN           NaN  0.604651   \n",
       "           SVM             NaN           NaN  0.500000   \n",
       "\n",
       "                                                            model_path  \n",
       "percentage model                                                        \n",
       "1          AdaBoost  train-output-all-features/AdaBoost_1_no-grad_n...  \n",
       "           AdaBoost  train-output-all-features/AdaBoost_1_no-grad_n...  \n",
       "           AdaBoost  train-output-all-features/AdaBoost_1_no-grad_n...  \n",
       "           AdaBoost  train-output-all-features/AdaBoost_1_no-grad_n...  \n",
       "           AdaBoost  train-output-all-features/AdaBoost_1_no-grad_n...  \n",
       "...                                                                ...  \n",
       "20         SVM       train-output-all-features/SVM_20_no-grad_no-ew...  \n",
       "           SVM       train-output-all-features/SVM_20_no-grad_no-ew...  \n",
       "           SVM       train-output-all-features/SVM_20_no-grad_no-ew...  \n",
       "           SVM       train-output-all-features/SVM_20_no-grad_no-ew...  \n",
       "           SVM       train-output-all-features/SVM_20_no-grad_no-ew...  \n",
       "\n",
       "[8600 rows x 9 columns]"
      ]
     },
     "execution_count": 90,
     "metadata": {},
     "output_type": "execute_result"
    }
   ],
   "source": [
    "# Remove any runs that included use_ewma or use_gradient\n",
    "df = data_flattened.loc[(slice(None), slice(None), False, False), :]\n",
    "df.index = df.index.droplevel([2, 3])\n",
    "df = df.sort_values(by=['percentage', 'model'])\n",
    "df"
   ]
  },
  {
   "cell_type": "code",
   "execution_count": 91,
   "metadata": {},
   "outputs": [],
   "source": [
    "def float_or_list_to_tuple(x):\n",
    "    if isinstance(x, list):\n",
    "        return tuple(x)\n",
    "    return x\n",
    "\n",
    "df[\"hidden_layer_sizes\"] = df['hidden_layer_sizes'].apply(float_or_list_to_tuple)"
   ]
  },
  {
   "cell_type": "code",
   "execution_count": null,
   "metadata": {},
   "outputs": [],
   "source": []
  },
  {
   "cell_type": "code",
   "execution_count": 92,
   "metadata": {},
   "outputs": [
    {
     "data": {
      "text/html": [
       "<div>\n",
       "<style scoped>\n",
       "    .dataframe tbody tr th:only-of-type {\n",
       "        vertical-align: middle;\n",
       "    }\n",
       "\n",
       "    .dataframe tbody tr th {\n",
       "        vertical-align: top;\n",
       "    }\n",
       "\n",
       "    .dataframe thead th {\n",
       "        text-align: right;\n",
       "    }\n",
       "</style>\n",
       "<table border=\"1\" class=\"dataframe\">\n",
       "  <thead>\n",
       "    <tr style=\"text-align: right;\">\n",
       "      <th></th>\n",
       "      <th></th>\n",
       "      <th></th>\n",
       "      <th></th>\n",
       "      <th>mean</th>\n",
       "      <th>std</th>\n",
       "    </tr>\n",
       "    <tr>\n",
       "      <th>percentage</th>\n",
       "      <th>model</th>\n",
       "      <th>max_depth</th>\n",
       "      <th>n_estimators</th>\n",
       "      <th></th>\n",
       "      <th></th>\n",
       "    </tr>\n",
       "  </thead>\n",
       "  <tbody>\n",
       "    <tr>\n",
       "      <th rowspan=\"2\" valign=\"top\">5</th>\n",
       "      <th>ET</th>\n",
       "      <th>NaN</th>\n",
       "      <th>200.0</th>\n",
       "      <td>0.849900</td>\n",
       "      <td>0.033471</td>\n",
       "    </tr>\n",
       "    <tr>\n",
       "      <th>RF</th>\n",
       "      <th>NaN</th>\n",
       "      <th>100.0</th>\n",
       "      <td>0.847879</td>\n",
       "      <td>0.035680</td>\n",
       "    </tr>\n",
       "    <tr>\n",
       "      <th rowspan=\"2\" valign=\"top\">10</th>\n",
       "      <th>ET</th>\n",
       "      <th>20.0</th>\n",
       "      <th>50.0</th>\n",
       "      <td>0.789458</td>\n",
       "      <td>0.050348</td>\n",
       "    </tr>\n",
       "    <tr>\n",
       "      <th>RF</th>\n",
       "      <th>20.0</th>\n",
       "      <th>200.0</th>\n",
       "      <td>0.805133</td>\n",
       "      <td>0.036164</td>\n",
       "    </tr>\n",
       "    <tr>\n",
       "      <th rowspan=\"2\" valign=\"top\">15</th>\n",
       "      <th>ET</th>\n",
       "      <th>20.0</th>\n",
       "      <th>100.0</th>\n",
       "      <td>0.747298</td>\n",
       "      <td>0.099952</td>\n",
       "    </tr>\n",
       "    <tr>\n",
       "      <th>RF</th>\n",
       "      <th>10.0</th>\n",
       "      <th>200.0</th>\n",
       "      <td>0.741128</td>\n",
       "      <td>0.068748</td>\n",
       "    </tr>\n",
       "    <tr>\n",
       "      <th rowspan=\"2\" valign=\"top\">20</th>\n",
       "      <th>ET</th>\n",
       "      <th>20.0</th>\n",
       "      <th>200.0</th>\n",
       "      <td>0.707496</td>\n",
       "      <td>0.099268</td>\n",
       "    </tr>\n",
       "    <tr>\n",
       "      <th>RF</th>\n",
       "      <th>10.0</th>\n",
       "      <th>100.0</th>\n",
       "      <td>0.704397</td>\n",
       "      <td>0.092276</td>\n",
       "    </tr>\n",
       "  </tbody>\n",
       "</table>\n",
       "</div>"
      ],
      "text/plain": [
       "                                             mean       std\n",
       "percentage model max_depth n_estimators                    \n",
       "5          ET    NaN       200.0         0.849900  0.033471\n",
       "           RF    NaN       100.0         0.847879  0.035680\n",
       "10         ET    20.0      50.0          0.789458  0.050348\n",
       "           RF    20.0      200.0         0.805133  0.036164\n",
       "15         ET    20.0      100.0         0.747298  0.099952\n",
       "           RF    10.0      200.0         0.741128  0.068748\n",
       "20         ET    20.0      200.0         0.707496  0.099268\n",
       "           RF    10.0      100.0         0.704397  0.092276"
      ]
     },
     "execution_count": 92,
     "metadata": {},
     "output_type": "execute_result"
    }
   ],
   "source": [
    "group = df.groupby(['percentage', 'model', 'C', 'hidden_layer_sizes', 'kernel', 'learning_rate', 'max_depth', 'n_estimators', 'alpha'], dropna=False)\n",
    "summary = group['f1_score'].agg(['mean', 'std'])\n",
    "\n",
    "idx = summary.groupby(['percentage', 'model']).idxmax()\n",
    "\n",
    "best_hyperparams = summary.loc[idx['mean'], :]\n",
    "best_per_percentage = best_hyperparams.groupby('percentage')['mean'].idxmax()\n",
    "selected_percentages = best_hyperparams[best_hyperparams.index.get_level_values('percentage').isin([5, 10, 15, 20]) & best_hyperparams.index.get_level_values('model').isin(['RF', 'ET'])]\n",
    "models_to_test = selected_percentages.droplevel(['C', 'hidden_layer_sizes', 'kernel', 'learning_rate', 'alpha'])\n",
    "models_to_test\n"
   ]
  },
  {
   "cell_type": "code",
   "execution_count": 93,
   "metadata": {},
   "outputs": [
    {
     "name": "stdout",
     "output_type": "stream",
     "text": [
      "\\begin{tabular}{llrr}\n",
      "\\toprule\n",
      " &  & mean & std \\\\\n",
      "percentage & model &  &  \\\\\n",
      "\\midrule\n",
      "\\multirow[t]{2}{*}{5} & ET & 0.850 & 0.033 \\\\\n",
      " & RF & 0.848 & 0.036 \\\\\n",
      "\\cline{1-4}\n",
      "\\multirow[t]{2}{*}{10} & ET & 0.789 & 0.050 \\\\\n",
      " & RF & 0.805 & 0.036 \\\\\n",
      "\\cline{1-4}\n",
      "\\multirow[t]{2}{*}{15} & ET & 0.747 & 0.100 \\\\\n",
      " & RF & 0.741 & 0.069 \\\\\n",
      "\\cline{1-4}\n",
      "\\multirow[t]{2}{*}{20} & ET & 0.707 & 0.099 \\\\\n",
      " & RF & 0.704 & 0.092 \\\\\n",
      "\\cline{1-4}\n",
      "\\bottomrule\n",
      "\\end{tabular}\n",
      "\n"
     ]
    }
   ],
   "source": [
    "print(models_to_test.droplevel(['max_depth', 'n_estimators']).round(3).to_latex(float_format=\"%.3f\"))"
   ]
  },
  {
   "cell_type": "code",
   "execution_count": 94,
   "metadata": {},
   "outputs": [
    {
     "data": {
      "text/plain": [
       "{(5,\n",
       "  'ET'): ExtraTreesClassifier(class_weight='balanced', n_estimators=200, random_state=42),\n",
       " (5,\n",
       "  'RF'): RandomForestClassifier(class_weight='balanced_subsample', random_state=42),\n",
       " (10,\n",
       "  'ET'): ExtraTreesClassifier(class_weight='balanced', max_depth=20, n_estimators=50,\n",
       "                      random_state=42),\n",
       " (10,\n",
       "  'RF'): RandomForestClassifier(class_weight='balanced_subsample', max_depth=20,\n",
       "                        n_estimators=200, random_state=42),\n",
       " (15,\n",
       "  'ET'): ExtraTreesClassifier(class_weight='balanced', max_depth=20, random_state=42),\n",
       " (15,\n",
       "  'RF'): RandomForestClassifier(class_weight='balanced_subsample', max_depth=10,\n",
       "                        n_estimators=200, random_state=42),\n",
       " (20,\n",
       "  'ET'): ExtraTreesClassifier(class_weight='balanced', max_depth=20, n_estimators=200,\n",
       "                      random_state=42),\n",
       " (20,\n",
       "  'RF'): RandomForestClassifier(class_weight='balanced_subsample', max_depth=10,\n",
       "                        random_state=42)}"
      ]
     },
     "execution_count": 94,
     "metadata": {},
     "output_type": "execute_result"
    }
   ],
   "source": [
    "random_state = 42\n",
    "classifiers = {}\n",
    "for percentage, model, max_depth, n_estimators in models_to_test.index:\n",
    "    if np.isnan(max_depth):\n",
    "        max_depth = None\n",
    "    else:\n",
    "        max_depth = int(max_depth)\n",
    "    n_estimators = int(n_estimators)\n",
    "    if model == 'ET':\n",
    "        classifiers[(percentage, model)] = ExtraTreesClassifier(max_depth=max_depth, n_estimators=n_estimators, random_state=random_state, class_weight='balanced')\n",
    "    elif model == 'RF':\n",
    "        classifiers[(percentage, model)] = RandomForestClassifier(max_depth=max_depth, n_estimators=n_estimators, random_state=random_state, class_weight='balanced_subsample')\n",
    "classifiers"
   ]
  },
  {
   "cell_type": "code",
   "execution_count": 96,
   "metadata": {},
   "outputs": [
    {
     "name": "stdout",
     "output_type": "stream",
     "text": [
      "Training ET at 5%\n",
      "Training RF at 5%\n",
      "Training ET at 10%\n",
      "Training RF at 10%\n",
      "Training ET at 15%\n",
      "Training RF at 15%\n",
      "Training ET at 20%\n",
      "Training RF at 20%\n"
     ]
    }
   ],
   "source": [
    "import pickle\n",
    "\n",
    "def preprocess(dataframe):\n",
    "    result, mzn = dataframe.drop(columns=['mzn', 'dzn'], axis=1), dataframe['mzn']\n",
    "\n",
    "    # Drop any columns that contain the text 'ewma' or 'gradient'\n",
    "    result = result.drop(columns=result.columns[result.columns.str.contains('ewma|gradient')], axis=1)\n",
    "\n",
    "    result = result.drop(result.columns[result.nunique() == 1], axis=1)\n",
    "\n",
    "    transformer = MaxAbsScaler().fit(result)\n",
    "    result = pd.DataFrame(transformer.transform(result), columns=result.columns, index=result.index)\n",
    "\n",
    "    result['mzn'] = mzn\n",
    "\n",
    "    return result\n",
    "\n",
    "train_pkl = Path('./analysis/rerun_with_all_features_train.pkl')\n",
    "\n",
    "with open(train_pkl, 'rb') as f:\n",
    "    train_features_at_percentage = pickle.load(f)\n",
    "\n",
    "for perc in train_features_at_percentage:\n",
    "    train_features_at_percentage[perc] = train_features_at_percentage[perc]\n",
    "\n",
    "for percentage, model in classifiers:\n",
    "    print(f\"Training {model} at {percentage}%\")\n",
    "    df: pd.DataFrame = preprocess(train_features_at_percentage[percentage])\n",
    "    df = df.drop(columns=['mzn'], axis=1)\n",
    "    any_nan = df.isna().any().any()\n",
    "    which_nan = df.isna().any(axis=1)\n",
    "    if any_nan:\n",
    "        print(\"The NaN values are in the following columns:\")\n",
    "        print(df.columns[df.isna().any()])\n",
    "    else:\n",
    "        train_X, train_y = df.drop(columns=['solved_within_time_limit']), df['solved_within_time_limit']\n",
    "        classifiers[(percentage, model)].fit(train_X, train_y)\n",
    "\n"
   ]
  },
  {
   "cell_type": "code",
   "execution_count": 9,
   "metadata": {},
   "outputs": [
    {
     "data": {
      "text/plain": [
       "Index(['conflicts', 'ewma_conflicts', 'decisions', 'search_iterations',\n",
       "       'opennodes', 'ewma_opennodes', 'vars', 'back_jumps', 'ewma_back_jumps',\n",
       "       'solutions', 'total_time', 'search_time', 'intVars', 'propagations',\n",
       "       'sat_propagations', 'ewma_propagations', 'propagators', 'boolVars',\n",
       "       'learnt', 'bin', 'tern', 'long', 'peak_depth', 'decision_level_engine',\n",
       "       'ewma_decision_level_engine', 'decision_level_treesize', 'clause_mem',\n",
       "       'prop_mem', 'fracFailUnassn', 'fracOpenVisit', 'fracBoolVars',\n",
       "       'fracPropVars', 'frac_unassigned', 'fracLongClauses', 'freqBackjumps',\n",
       "       'mzn', 'dzn', 'solved_within_time_limit', 'conflicts_gradient',\n",
       "       'ewma_conflicts_gradient', 'decisions_gradient',\n",
       "       'search_iterations_gradient', 'opennodes_gradient',\n",
       "       'ewma_opennodes_gradient', 'vars_gradient', 'back_jumps_gradient',\n",
       "       'ewma_back_jumps_gradient', 'solutions_gradient', 'total_time_gradient',\n",
       "       'intVars_gradient', 'search_time_gradient', 'propagations_gradient',\n",
       "       'sat_propagations_gradient', 'ewma_propagations_gradient',\n",
       "       'propagators_gradient', 'boolVars_gradient', 'learnt_gradient',\n",
       "       'bin_gradient', 'tern_gradient', 'long_gradient', 'peak_depth_gradient',\n",
       "       'decision_level_engine_gradient', 'ewma_decision_level_engine_gradient',\n",
       "       'decision_level_treesize_gradient', 'clause_mem_gradient',\n",
       "       'prop_mem_gradient', 'fracOpenVisit_gradient', 'fracBoolVars_gradient',\n",
       "       'fracPropVars_gradient', 'freqBackjumps_gradient', 'has_gradients'],\n",
       "      dtype='object')"
      ]
     },
     "execution_count": 9,
     "metadata": {},
     "output_type": "execute_result"
    }
   ],
   "source": [
    "train_features_at_percentage[5].columns"
   ]
  },
  {
   "cell_type": "code",
   "execution_count": 10,
   "metadata": {},
   "outputs": [
    {
     "data": {
      "text/html": [
       "<div>\n",
       "<style scoped>\n",
       "    .dataframe tbody tr th:only-of-type {\n",
       "        vertical-align: middle;\n",
       "    }\n",
       "\n",
       "    .dataframe tbody tr th {\n",
       "        vertical-align: top;\n",
       "    }\n",
       "\n",
       "    .dataframe thead th {\n",
       "        text-align: right;\n",
       "    }\n",
       "</style>\n",
       "<table border=\"1\" class=\"dataframe\">\n",
       "  <thead>\n",
       "    <tr style=\"text-align: right;\">\n",
       "      <th></th>\n",
       "      <th>conflicts</th>\n",
       "      <th>ewma_conflicts</th>\n",
       "      <th>decisions</th>\n",
       "      <th>search_iterations</th>\n",
       "      <th>opennodes</th>\n",
       "      <th>ewma_opennodes</th>\n",
       "      <th>vars</th>\n",
       "      <th>back_jumps</th>\n",
       "      <th>ewma_back_jumps</th>\n",
       "      <th>solutions</th>\n",
       "      <th>...</th>\n",
       "      <th>fracOpenVisit</th>\n",
       "      <th>fracBoolVars</th>\n",
       "      <th>fracPropVars</th>\n",
       "      <th>frac_unassigned</th>\n",
       "      <th>fracLongClauses</th>\n",
       "      <th>freqBackjumps</th>\n",
       "      <th>mzn</th>\n",
       "      <th>dzn</th>\n",
       "      <th>solved_within_time_limit</th>\n",
       "      <th>has_gradients</th>\n",
       "    </tr>\n",
       "  </thead>\n",
       "  <tbody>\n",
       "    <tr>\n",
       "      <th>1171</th>\n",
       "      <td>8803</td>\n",
       "      <td>8784.0</td>\n",
       "      <td>11197</td>\n",
       "      <td>20001</td>\n",
       "      <td>3088703</td>\n",
       "      <td>3088703.50</td>\n",
       "      <td>3090204</td>\n",
       "      <td>891</td>\n",
       "      <td>0.05</td>\n",
       "      <td>0</td>\n",
       "      <td>...</td>\n",
       "      <td>0.000486</td>\n",
       "      <td>0.833344</td>\n",
       "      <td>3.691990</td>\n",
       "      <td>1.0</td>\n",
       "      <td>0</td>\n",
       "      <td>24.717299</td>\n",
       "      <td>2DPacking.mzn</td>\n",
       "      <td>Class7_100_8.dzn</td>\n",
       "      <td>False</td>\n",
       "      <td>False</td>\n",
       "    </tr>\n",
       "    <tr>\n",
       "      <th>638</th>\n",
       "      <td>91874</td>\n",
       "      <td>91855.0</td>\n",
       "      <td>110223</td>\n",
       "      <td>201798</td>\n",
       "      <td>1703</td>\n",
       "      <td>1703.31</td>\n",
       "      <td>1715</td>\n",
       "      <td>18246</td>\n",
       "      <td>0.12</td>\n",
       "      <td>3</td>\n",
       "      <td>...</td>\n",
       "      <td>0.007046</td>\n",
       "      <td>0.923615</td>\n",
       "      <td>2948.814577</td>\n",
       "      <td>1.0</td>\n",
       "      <td>441</td>\n",
       "      <td>506.925397</td>\n",
       "      <td>still_life_free.mzn</td>\n",
       "      <td>7x7.dzn</td>\n",
       "      <td>True</td>\n",
       "      <td>False</td>\n",
       "    </tr>\n",
       "    <tr>\n",
       "      <th>931</th>\n",
       "      <td>11623</td>\n",
       "      <td>11604.0</td>\n",
       "      <td>192877</td>\n",
       "      <td>204501</td>\n",
       "      <td>169010</td>\n",
       "      <td>169015.28</td>\n",
       "      <td>169028</td>\n",
       "      <td>181234</td>\n",
       "      <td>21.00</td>\n",
       "      <td>0</td>\n",
       "      <td>...</td>\n",
       "      <td>0.000107</td>\n",
       "      <td>0.996036</td>\n",
       "      <td>24.709220</td>\n",
       "      <td>1.0</td>\n",
       "      <td>3597</td>\n",
       "      <td>5033.713722</td>\n",
       "      <td>wwtpp.mzn</td>\n",
       "      <td>ex05200_2600_100.dzn</td>\n",
       "      <td>True</td>\n",
       "      <td>False</td>\n",
       "    </tr>\n",
       "    <tr>\n",
       "      <th>258</th>\n",
       "      <td>78777</td>\n",
       "      <td>78758.0</td>\n",
       "      <td>81520</td>\n",
       "      <td>20</td>\n",
       "      <td>75046</td>\n",
       "      <td>75011.64</td>\n",
       "      <td>75053</td>\n",
       "      <td>13</td>\n",
       "      <td>0.00</td>\n",
       "      <td>303</td>\n",
       "      <td>...</td>\n",
       "      <td>0.000093</td>\n",
       "      <td>0.998867</td>\n",
       "      <td>242.995110</td>\n",
       "      <td>1.0</td>\n",
       "      <td>0</td>\n",
       "      <td>0.360887</td>\n",
       "      <td>city-position.mzn</td>\n",
       "      <td>city-5-06.dzn</td>\n",
       "      <td>False</td>\n",
       "      <td>False</td>\n",
       "    </tr>\n",
       "    <tr>\n",
       "      <th>1182</th>\n",
       "      <td>37362</td>\n",
       "      <td>37343.0</td>\n",
       "      <td>98212</td>\n",
       "      <td>9372</td>\n",
       "      <td>37725</td>\n",
       "      <td>37725.63</td>\n",
       "      <td>37734</td>\n",
       "      <td>59721</td>\n",
       "      <td>0.00</td>\n",
       "      <td>26</td>\n",
       "      <td>...</td>\n",
       "      <td>0.000239</td>\n",
       "      <td>0.945540</td>\n",
       "      <td>2057.901654</td>\n",
       "      <td>1.0</td>\n",
       "      <td>8886</td>\n",
       "      <td>1660.024595</td>\n",
       "      <td>ProjectPlannertest_16_7.mzn</td>\n",
       "      <td>NO-MODEL-FILE.dzn</td>\n",
       "      <td>True</td>\n",
       "      <td>False</td>\n",
       "    </tr>\n",
       "    <tr>\n",
       "      <th>...</th>\n",
       "      <td>...</td>\n",
       "      <td>...</td>\n",
       "      <td>...</td>\n",
       "      <td>...</td>\n",
       "      <td>...</td>\n",
       "      <td>...</td>\n",
       "      <td>...</td>\n",
       "      <td>...</td>\n",
       "      <td>...</td>\n",
       "      <td>...</td>\n",
       "      <td>...</td>\n",
       "      <td>...</td>\n",
       "      <td>...</td>\n",
       "      <td>...</td>\n",
       "      <td>...</td>\n",
       "      <td>...</td>\n",
       "      <td>...</td>\n",
       "      <td>...</td>\n",
       "      <td>...</td>\n",
       "      <td>...</td>\n",
       "      <td>...</td>\n",
       "    </tr>\n",
       "    <tr>\n",
       "      <th>1173</th>\n",
       "      <td>1402</td>\n",
       "      <td>1383.0</td>\n",
       "      <td>4082</td>\n",
       "      <td>584</td>\n",
       "      <td>6738231</td>\n",
       "      <td>6738223.50</td>\n",
       "      <td>6738283</td>\n",
       "      <td>1594</td>\n",
       "      <td>0.02</td>\n",
       "      <td>16</td>\n",
       "      <td>...</td>\n",
       "      <td>0.000008</td>\n",
       "      <td>0.999954</td>\n",
       "      <td>0.024360</td>\n",
       "      <td>1.0</td>\n",
       "      <td>7387335</td>\n",
       "      <td>44.230549</td>\n",
       "      <td>group.mzn</td>\n",
       "      <td>u15g3pref2.dzn</td>\n",
       "      <td>False</td>\n",
       "      <td>False</td>\n",
       "    </tr>\n",
       "    <tr>\n",
       "      <th>714</th>\n",
       "      <td>100714</td>\n",
       "      <td>100695.0</td>\n",
       "      <td>111385</td>\n",
       "      <td>212100</td>\n",
       "      <td>25323</td>\n",
       "      <td>25324.05</td>\n",
       "      <td>25332</td>\n",
       "      <td>10663</td>\n",
       "      <td>0.00</td>\n",
       "      <td>0</td>\n",
       "      <td>...</td>\n",
       "      <td>0.000355</td>\n",
       "      <td>0.982670</td>\n",
       "      <td>213.748026</td>\n",
       "      <td>1.0</td>\n",
       "      <td>1555</td>\n",
       "      <td>296.139971</td>\n",
       "      <td>mrcpsp.mzn</td>\n",
       "      <td>j30_6_8.dzn</td>\n",
       "      <td>True</td>\n",
       "      <td>False</td>\n",
       "    </tr>\n",
       "    <tr>\n",
       "      <th>699</th>\n",
       "      <td>89041</td>\n",
       "      <td>89022.0</td>\n",
       "      <td>91142</td>\n",
       "      <td>76988</td>\n",
       "      <td>19205</td>\n",
       "      <td>19205.36</td>\n",
       "      <td>19214</td>\n",
       "      <td>1665</td>\n",
       "      <td>0.00</td>\n",
       "      <td>17</td>\n",
       "      <td>...</td>\n",
       "      <td>0.000469</td>\n",
       "      <td>0.996513</td>\n",
       "      <td>162.669304</td>\n",
       "      <td>1.0</td>\n",
       "      <td>4698</td>\n",
       "      <td>46.257337</td>\n",
       "      <td>depot_placement.mzn</td>\n",
       "      <td>ulysses22_6.dzn</td>\n",
       "      <td>True</td>\n",
       "      <td>False</td>\n",
       "    </tr>\n",
       "    <tr>\n",
       "      <th>900</th>\n",
       "      <td>49573</td>\n",
       "      <td>49554.0</td>\n",
       "      <td>56626</td>\n",
       "      <td>105054</td>\n",
       "      <td>19979</td>\n",
       "      <td>19979.86</td>\n",
       "      <td>20000</td>\n",
       "      <td>6473</td>\n",
       "      <td>0.15</td>\n",
       "      <td>1</td>\n",
       "      <td>...</td>\n",
       "      <td>0.001051</td>\n",
       "      <td>0.833550</td>\n",
       "      <td>1626.776600</td>\n",
       "      <td>1.0</td>\n",
       "      <td>0</td>\n",
       "      <td>179.778898</td>\n",
       "      <td>wachplan.mzn</td>\n",
       "      <td>NO-MODEL-FILE.dzn</td>\n",
       "      <td>True</td>\n",
       "      <td>False</td>\n",
       "    </tr>\n",
       "    <tr>\n",
       "      <th>583</th>\n",
       "      <td>3725</td>\n",
       "      <td>3706.0</td>\n",
       "      <td>221474</td>\n",
       "      <td>90036</td>\n",
       "      <td>441131</td>\n",
       "      <td>441149.69</td>\n",
       "      <td>442380</td>\n",
       "      <td>203957</td>\n",
       "      <td>31.08</td>\n",
       "      <td>1</td>\n",
       "      <td>...</td>\n",
       "      <td>0.002831</td>\n",
       "      <td>0.833336</td>\n",
       "      <td>5.761348</td>\n",
       "      <td>1.0</td>\n",
       "      <td>0</td>\n",
       "      <td>5670.912360</td>\n",
       "      <td>chromaticindex1024-7.mzn</td>\n",
       "      <td>NO-MODEL-FILE.dzn</td>\n",
       "      <td>True</td>\n",
       "      <td>False</td>\n",
       "    </tr>\n",
       "  </tbody>\n",
       "</table>\n",
       "<p>1303 rows × 39 columns</p>\n",
       "</div>"
      ],
      "text/plain": [
       "      conflicts  ewma_conflicts  decisions  search_iterations  opennodes  \\\n",
       "1171       8803          8784.0      11197              20001    3088703   \n",
       "638       91874         91855.0     110223             201798       1703   \n",
       "931       11623         11604.0     192877             204501     169010   \n",
       "258       78777         78758.0      81520                 20      75046   \n",
       "1182      37362         37343.0      98212               9372      37725   \n",
       "...         ...             ...        ...                ...        ...   \n",
       "1173       1402          1383.0       4082                584    6738231   \n",
       "714      100714        100695.0     111385             212100      25323   \n",
       "699       89041         89022.0      91142              76988      19205   \n",
       "900       49573         49554.0      56626             105054      19979   \n",
       "583        3725          3706.0     221474              90036     441131   \n",
       "\n",
       "      ewma_opennodes     vars  back_jumps  ewma_back_jumps  solutions  ...  \\\n",
       "1171      3088703.50  3090204         891             0.05          0  ...   \n",
       "638          1703.31     1715       18246             0.12          3  ...   \n",
       "931        169015.28   169028      181234            21.00          0  ...   \n",
       "258         75011.64    75053          13             0.00        303  ...   \n",
       "1182        37725.63    37734       59721             0.00         26  ...   \n",
       "...              ...      ...         ...              ...        ...  ...   \n",
       "1173      6738223.50  6738283        1594             0.02         16  ...   \n",
       "714         25324.05    25332       10663             0.00          0  ...   \n",
       "699         19205.36    19214        1665             0.00         17  ...   \n",
       "900         19979.86    20000        6473             0.15          1  ...   \n",
       "583        441149.69   442380      203957            31.08          1  ...   \n",
       "\n",
       "      fracOpenVisit  fracBoolVars  fracPropVars  frac_unassigned  \\\n",
       "1171       0.000486      0.833344      3.691990              1.0   \n",
       "638        0.007046      0.923615   2948.814577              1.0   \n",
       "931        0.000107      0.996036     24.709220              1.0   \n",
       "258        0.000093      0.998867    242.995110              1.0   \n",
       "1182       0.000239      0.945540   2057.901654              1.0   \n",
       "...             ...           ...           ...              ...   \n",
       "1173       0.000008      0.999954      0.024360              1.0   \n",
       "714        0.000355      0.982670    213.748026              1.0   \n",
       "699        0.000469      0.996513    162.669304              1.0   \n",
       "900        0.001051      0.833550   1626.776600              1.0   \n",
       "583        0.002831      0.833336      5.761348              1.0   \n",
       "\n",
       "      fracLongClauses  freqBackjumps                          mzn  \\\n",
       "1171                0      24.717299                2DPacking.mzn   \n",
       "638               441     506.925397          still_life_free.mzn   \n",
       "931              3597    5033.713722                    wwtpp.mzn   \n",
       "258                 0       0.360887            city-position.mzn   \n",
       "1182             8886    1660.024595  ProjectPlannertest_16_7.mzn   \n",
       "...               ...            ...                          ...   \n",
       "1173          7387335      44.230549                    group.mzn   \n",
       "714              1555     296.139971                   mrcpsp.mzn   \n",
       "699              4698      46.257337          depot_placement.mzn   \n",
       "900                 0     179.778898                 wachplan.mzn   \n",
       "583                 0    5670.912360     chromaticindex1024-7.mzn   \n",
       "\n",
       "                       dzn  solved_within_time_limit  has_gradients  \n",
       "1171      Class7_100_8.dzn                     False          False  \n",
       "638                7x7.dzn                      True          False  \n",
       "931   ex05200_2600_100.dzn                      True          False  \n",
       "258          city-5-06.dzn                     False          False  \n",
       "1182     NO-MODEL-FILE.dzn                      True          False  \n",
       "...                    ...                       ...            ...  \n",
       "1173        u15g3pref2.dzn                     False          False  \n",
       "714            j30_6_8.dzn                      True          False  \n",
       "699        ulysses22_6.dzn                      True          False  \n",
       "900      NO-MODEL-FILE.dzn                      True          False  \n",
       "583      NO-MODEL-FILE.dzn                      True          False  \n",
       "\n",
       "[1303 rows x 39 columns]"
      ]
     },
     "execution_count": 10,
     "metadata": {},
     "output_type": "execute_result"
    }
   ],
   "source": [
    "train_features_at_percentage[1]"
   ]
  },
  {
   "cell_type": "code",
   "execution_count": 97,
   "metadata": {},
   "outputs": [
    {
     "name": "stdout",
     "output_type": "stream",
     "text": [
      "Testing ET at 5%\n",
      "F1 score for ET at 5%: 0.21276595744680848\n",
      "Testing RF at 5%\n",
      "F1 score for RF at 5%: 0.6875000000000001\n",
      "Testing ET at 10%\n",
      "F1 score for ET at 10%: 0.1212121212121212\n",
      "Testing RF at 10%\n",
      "F1 score for RF at 10%: 0.06666666666666667\n",
      "Testing ET at 15%\n",
      "F1 score for ET at 15%: 0.23076923076923078\n",
      "Testing RF at 15%\n",
      "F1 score for RF at 15%: 0.41379310344827586\n",
      "Testing ET at 20%\n",
      "F1 score for ET at 20%: 0.32\n",
      "Testing RF at 20%\n",
      "F1 score for RF at 20%: 0.1\n"
     ]
    },
    {
     "data": {
      "image/png": "[encoded data removed]",
      "text/plain": [
       "<Figure size 800x800 with 4 Axes>"
      ]
     },
     "metadata": {},
     "output_type": "display_data"
    }
   ],
   "source": [
    "test_pickle = Path('./analysis/rerun_with_all_features_test.pkl')\n",
    "\n",
    "with open(test_pickle, 'rb') as f:\n",
    "    test_features_at_percentage = pickle.load(f)\n",
    "\n",
    "for perc in test_features_at_percentage:\n",
    "    test_features_at_percentage[perc] = test_features_at_percentage[perc]\n",
    "\n",
    "plots = {}\n",
    "# Create a figure and axes with 4 subplots\n",
    "fig, ax = plt.subplots(2, 2, figsize=(8, 8))\n",
    "ax = ax.flatten()\n",
    "# ax = plt.gca()\n",
    "scores = []\n",
    "\n",
    "for i, percentage in enumerate([5, 10, 15, 20]):\n",
    "    for model in ['ET', 'RF']:\n",
    "        print(f\"Testing {model} at {percentage}%\")\n",
    "        df: pd.DataFrame = preprocess(test_features_at_percentage[percentage])\n",
    "        df = df.drop(columns=['mzn'], axis=1)\n",
    "        \n",
    "        test_X, test_y = df.drop(columns=['solved_within_time_limit']), df['solved_within_time_limit']\n",
    "        \n",
    "        y_score = classifiers[(percentage, model)].predict_proba(test_X)[:, 1]\n",
    "        plots[(percentage, model)] = RocCurveDisplay.from_predictions(test_y, y_score, ax=ax[i], name=model)\n",
    "        score = f1_score(test_y, classifiers[(percentage, model)].predict(test_X))\n",
    "        print(f\"F1 score for {model} at {percentage}%: {score}\")\n",
    "        scores.append([percentage, model, score])\n",
    "        if percentage in [5, 10]:\n",
    "            ax[i].set_xlabel('')\n",
    "        if percentage in [10, 20]:\n",
    "            ax[i].set_ylabel('')\n",
    "    ax[i].set_title(f\"{percentage}%\")\n",
    "    ax[i].plot([0, 1], [0, 1], linestyle='--', lw=1, color='r', alpha=.2)\n",
    "\n",
    "tikzplotlib.clean_figure()\n",
    "tikzplotlib.save(\"roc_curves.tex\", axis_width=\"0.6\\\\textwidth\", axis_height=\"0.6\\\\textwidth\")"
   ]
  },
  {
   "cell_type": "code",
   "execution_count": 100,
   "metadata": {},
   "outputs": [
    {
     "name": "stdout",
     "output_type": "stream",
     "text": [
      "\\begin{tabular}{llr}\n",
      "\\toprule\n",
      " &  & F1 score \\\\\n",
      "Percentage & Model &  \\\\\n",
      "\\midrule\n",
      "\\multirow[t]{2}{*}{5} & ET & 0.213 \\\\\n",
      " & RF & 0.688 \\\\\n",
      "\\cline{1-3}\n",
      "\\multirow[t]{2}{*}{10} & ET & 0.121 \\\\\n",
      " & RF & 0.067 \\\\\n",
      "\\cline{1-3}\n",
      "\\multirow[t]{2}{*}{15} & ET & 0.231 \\\\\n",
      " & RF & 0.414 \\\\\n",
      "\\cline{1-3}\n",
      "\\multirow[t]{2}{*}{20} & ET & 0.320 \\\\\n",
      " & RF & 0.100 \\\\\n",
      "\\cline{1-3}\n",
      "\\bottomrule\n",
      "\\end{tabular}\n",
      "\n"
     ]
    }
   ],
   "source": [
    "print(pd.DataFrame(scores, columns=['Percentage', 'Model', 'F1 score']).set_index(['Percentage', 'Model']).round(3).to_latex(float_format=\"%.3f\", sparsify=True))"
   ]
  },
  {
   "cell_type": "code",
   "execution_count": 37,
   "metadata": {},
   "outputs": [
    {
     "data": {
      "image/png": "[encoded data removed]",
      "text/plain": [
       "<Figure size 800x300 with 1 Axes>"
      ]
     },
     "metadata": {},
     "output_type": "display_data"
    }
   ],
   "source": [
    "n_total = np.array([train_features_at_percentage[i].shape[0] for i in range(1, len(train_features_at_percentage) + 1)])\n",
    "n_solved = np.array([train_features_at_percentage[i]['solved_within_time_limit'].sum() for i in range(1, len(train_features_at_percentage) + 1)])\n",
    "n_not_solved = np.array([n_total[i] - n_solved[i] for i in range(len(n_total))])\n",
    "percentage_solved = np.array([n_solved[i] / n_total[i] for i in range(len(n_total))]) * 100\n",
    "\n",
    "x = np.arange(1, 20.5, 0.5)\n",
    "\n",
    "fig, ax = plt.subplots(figsize=(8, 3))\n",
    "stacks = ax.stackplot(x, n_not_solved, n_solved, labels=['Not solved', 'Solved'])\n",
    "ax.set_title(\"Number of instances at varying % of TL\")\n",
    "ax.set_xlabel(\"% of TL\")\n",
    "ax.set_ylabel(\"Total Number of instances\")\n",
    "ax.set_ylim([0, 1400])\n",
    "ax.legend(loc='upper right', bbox_to_anchor=(0.98, 0.98))\n",
    "\n",
    "# fig.legend(loc='upper right', bbox_to_anchor=(0.88, 0.88))\n",
    "# fig.tight_layout()\n",
    "# plt.savefig(\"class_balance_over_time.pgf\", backend=\"pgf\")\n",
    "# tikzplotlib.clean_figure()\n",
    "tikzplotlib.save(\"class_balance_over_time.tex\", axis_width=\"0.9\\\\textwidth\", axis_height=\"0.4\\\\textwidth\")"
   ]
  }
 ],
 "metadata": {
  "kernelspec": {
   "display_name": "Python 3",
   "language": "python",
   "name": "python3"
  },
  "language_info": {
   "codemirror_mode": {
    "name": "ipython",
    "version": 3
   },
   "file_extension": ".py",
   "mimetype": "text/x-python",
   "name": "python",
   "nbconvert_exporter": "python",
   "pygments_lexer": "ipython3",
   "version": "3.10.12"
  }
 },
 "nbformat": 4,
 "nbformat_minor": 2
}
