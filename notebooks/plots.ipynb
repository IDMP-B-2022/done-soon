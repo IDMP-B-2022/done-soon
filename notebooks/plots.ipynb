{
 "cells": [
  {
   "cell_type": "code",
   "execution_count": 121,
   "metadata": {},
   "outputs": [],
   "source": [
    "import json\n",
    "from pathlib import Path\n",
    "import matplotlib as mpl\n",
    "import tikzplotlib\n",
    "\n",
    "import matplotlib.pyplot as plt\n",
    "import numpy as np\n",
    "import pandas as pd\n",
    "from rich.progress import track\n",
    "from sklearn.ensemble import ExtraTreesClassifier, RandomForestClassifier\n",
    "from sklearn.metrics import RocCurveDisplay, f1_score, precision_recall_fscore_support\n",
    "from sklearn.preprocessing import MaxAbsScaler"
   ]
  },
  {
   "cell_type": "code",
   "execution_count": 111,
   "metadata": {},
   "outputs": [
    {
     "data": {
      "application/vnd.jupyter.widget-view+json": {
       "model_id": "ad5435d2b9ab4e3fa16657b4361724a7",
       "version_major": 2,
       "version_minor": 0
      },
      "text/plain": [
       "Output()"
      ]
     },
     "metadata": {},
     "output_type": "display_data"
    },
    {
     "data": {
      "text/html": [
       "<pre style=\"white-space:pre;overflow-x:auto;line-height:normal;font-family:Menlo,'DejaVu Sans Mono',consolas,'Courier New',monospace\">/var/folders/7t/k8q3439j6z3c683j7w00wtm80000gn/T/ipykernel_58430/1419766920.py:27: FutureWarning: The behavior of \n",
       "DataFrame concatenation with empty or all-NA entries is deprecated. In a future version, this will no longer \n",
       "exclude empty or all-NA columns when determining the result dtypes. To retain the old behavior, exclude the \n",
       "relevant entries before the concat operation.\n",
       "  results = pd.concat([results, normalized_data]) #.dropna(axis=1, how=\"all\")])\n",
       "</pre>\n"
      ],
      "text/plain": [
       "/var/folders/7t/k8q3439j6z3c683j7w00wtm80000gn/T/ipykernel_58430/1419766920.py:27: FutureWarning: The behavior of \n",
       "DataFrame concatenation with empty or all-NA entries is deprecated. In a future version, this will no longer \n",
       "exclude empty or all-NA columns when determining the result dtypes. To retain the old behavior, exclude the \n",
       "relevant entries before the concat operation.\n",
       "  results = pd.concat([results, normalized_data]) #.dropna(axis=1, how=\"all\")])\n"
      ]
     },
     "metadata": {},
     "output_type": "display_data"
    },
    {
     "data": {
      "text/html": [
       "<pre style=\"white-space:pre;overflow-x:auto;line-height:normal;font-family:Menlo,'DejaVu Sans Mono',consolas,'Courier New',monospace\">/var/folders/7t/k8q3439j6z3c683j7w00wtm80000gn/T/ipykernel_58430/1419766920.py:27: FutureWarning: The behavior of \n",
       "DataFrame concatenation with empty or all-NA entries is deprecated. In a future version, this will no longer \n",
       "exclude empty or all-NA columns when determining the result dtypes. To retain the old behavior, exclude the \n",
       "relevant entries before the concat operation.\n",
       "  results = pd.concat([results, normalized_data]) #.dropna(axis=1, how=\"all\")])\n",
       "</pre>\n"
      ],
      "text/plain": [
       "/var/folders/7t/k8q3439j6z3c683j7w00wtm80000gn/T/ipykernel_58430/1419766920.py:27: FutureWarning: The behavior of \n",
       "DataFrame concatenation with empty or all-NA entries is deprecated. In a future version, this will no longer \n",
       "exclude empty or all-NA columns when determining the result dtypes. To retain the old behavior, exclude the \n",
       "relevant entries before the concat operation.\n",
       "  results = pd.concat([results, normalized_data]) #.dropna(axis=1, how=\"all\")])\n"
      ]
     },
     "metadata": {},
     "output_type": "display_data"
    },
    {
     "data": {
      "text/html": [
       "<pre style=\"white-space:pre;overflow-x:auto;line-height:normal;font-family:Menlo,'DejaVu Sans Mono',consolas,'Courier New',monospace\">/var/folders/7t/k8q3439j6z3c683j7w00wtm80000gn/T/ipykernel_58430/1419766920.py:27: FutureWarning: The behavior of \n",
       "DataFrame concatenation with empty or all-NA entries is deprecated. In a future version, this will no longer \n",
       "exclude empty or all-NA columns when determining the result dtypes. To retain the old behavior, exclude the \n",
       "relevant entries before the concat operation.\n",
       "  results = pd.concat([results, normalized_data]) #.dropna(axis=1, how=\"all\")])\n",
       "</pre>\n"
      ],
      "text/plain": [
       "/var/folders/7t/k8q3439j6z3c683j7w00wtm80000gn/T/ipykernel_58430/1419766920.py:27: FutureWarning: The behavior of \n",
       "DataFrame concatenation with empty or all-NA entries is deprecated. In a future version, this will no longer \n",
       "exclude empty or all-NA columns when determining the result dtypes. To retain the old behavior, exclude the \n",
       "relevant entries before the concat operation.\n",
       "  results = pd.concat([results, normalized_data]) #.dropna(axis=1, how=\"all\")])\n"
      ]
     },
     "metadata": {},
     "output_type": "display_data"
    },
    {
     "data": {
      "text/html": [
       "<pre style=\"white-space:pre;overflow-x:auto;line-height:normal;font-family:Menlo,'DejaVu Sans Mono',consolas,'Courier New',monospace\">/var/folders/7t/k8q3439j6z3c683j7w00wtm80000gn/T/ipykernel_58430/1419766920.py:27: FutureWarning: The behavior of \n",
       "DataFrame concatenation with empty or all-NA entries is deprecated. In a future version, this will no longer \n",
       "exclude empty or all-NA columns when determining the result dtypes. To retain the old behavior, exclude the \n",
       "relevant entries before the concat operation.\n",
       "  results = pd.concat([results, normalized_data]) #.dropna(axis=1, how=\"all\")])\n",
       "</pre>\n"
      ],
      "text/plain": [
       "/var/folders/7t/k8q3439j6z3c683j7w00wtm80000gn/T/ipykernel_58430/1419766920.py:27: FutureWarning: The behavior of \n",
       "DataFrame concatenation with empty or all-NA entries is deprecated. In a future version, this will no longer \n",
       "exclude empty or all-NA columns when determining the result dtypes. To retain the old behavior, exclude the \n",
       "relevant entries before the concat operation.\n",
       "  results = pd.concat([results, normalized_data]) #.dropna(axis=1, how=\"all\")])\n"
      ]
     },
     "metadata": {},
     "output_type": "display_data"
    },
    {
     "data": {
      "text/html": [
       "<pre style=\"white-space:pre;overflow-x:auto;line-height:normal;font-family:Menlo,'DejaVu Sans Mono',consolas,'Courier New',monospace\">/var/folders/7t/k8q3439j6z3c683j7w00wtm80000gn/T/ipykernel_58430/1419766920.py:27: FutureWarning: The behavior of \n",
       "DataFrame concatenation with empty or all-NA entries is deprecated. In a future version, this will no longer \n",
       "exclude empty or all-NA columns when determining the result dtypes. To retain the old behavior, exclude the \n",
       "relevant entries before the concat operation.\n",
       "  results = pd.concat([results, normalized_data]) #.dropna(axis=1, how=\"all\")])\n",
       "</pre>\n"
      ],
      "text/plain": [
       "/var/folders/7t/k8q3439j6z3c683j7w00wtm80000gn/T/ipykernel_58430/1419766920.py:27: FutureWarning: The behavior of \n",
       "DataFrame concatenation with empty or all-NA entries is deprecated. In a future version, this will no longer \n",
       "exclude empty or all-NA columns when determining the result dtypes. To retain the old behavior, exclude the \n",
       "relevant entries before the concat operation.\n",
       "  results = pd.concat([results, normalized_data]) #.dropna(axis=1, how=\"all\")])\n"
      ]
     },
     "metadata": {},
     "output_type": "display_data"
    },
    {
     "data": {
      "text/html": [
       "<pre style=\"white-space:pre;overflow-x:auto;line-height:normal;font-family:Menlo,'DejaVu Sans Mono',consolas,'Courier New',monospace\">/var/folders/7t/k8q3439j6z3c683j7w00wtm80000gn/T/ipykernel_58430/1419766920.py:27: FutureWarning: The behavior of \n",
       "DataFrame concatenation with empty or all-NA entries is deprecated. In a future version, this will no longer \n",
       "exclude empty or all-NA columns when determining the result dtypes. To retain the old behavior, exclude the \n",
       "relevant entries before the concat operation.\n",
       "  results = pd.concat([results, normalized_data]) #.dropna(axis=1, how=\"all\")])\n",
       "</pre>\n"
      ],
      "text/plain": [
       "/var/folders/7t/k8q3439j6z3c683j7w00wtm80000gn/T/ipykernel_58430/1419766920.py:27: FutureWarning: The behavior of \n",
       "DataFrame concatenation with empty or all-NA entries is deprecated. In a future version, this will no longer \n",
       "exclude empty or all-NA columns when determining the result dtypes. To retain the old behavior, exclude the \n",
       "relevant entries before the concat operation.\n",
       "  results = pd.concat([results, normalized_data]) #.dropna(axis=1, how=\"all\")])\n"
      ]
     },
     "metadata": {},
     "output_type": "display_data"
    },
    {
     "data": {
      "text/html": [
       "<pre style=\"white-space:pre;overflow-x:auto;line-height:normal;font-family:Menlo,'DejaVu Sans Mono',consolas,'Courier New',monospace\">/var/folders/7t/k8q3439j6z3c683j7w00wtm80000gn/T/ipykernel_58430/1419766920.py:27: FutureWarning: The behavior of \n",
       "DataFrame concatenation with empty or all-NA entries is deprecated. In a future version, this will no longer \n",
       "exclude empty or all-NA columns when determining the result dtypes. To retain the old behavior, exclude the \n",
       "relevant entries before the concat operation.\n",
       "  results = pd.concat([results, normalized_data]) #.dropna(axis=1, how=\"all\")])\n",
       "</pre>\n"
      ],
      "text/plain": [
       "/var/folders/7t/k8q3439j6z3c683j7w00wtm80000gn/T/ipykernel_58430/1419766920.py:27: FutureWarning: The behavior of \n",
       "DataFrame concatenation with empty or all-NA entries is deprecated. In a future version, this will no longer \n",
       "exclude empty or all-NA columns when determining the result dtypes. To retain the old behavior, exclude the \n",
       "relevant entries before the concat operation.\n",
       "  results = pd.concat([results, normalized_data]) #.dropna(axis=1, how=\"all\")])\n"
      ]
     },
     "metadata": {},
     "output_type": "display_data"
    },
    {
     "data": {
      "text/html": [
       "<pre style=\"white-space:pre;overflow-x:auto;line-height:normal;font-family:Menlo,'DejaVu Sans Mono',consolas,'Courier New',monospace\">/var/folders/7t/k8q3439j6z3c683j7w00wtm80000gn/T/ipykernel_58430/1419766920.py:27: FutureWarning: The behavior of \n",
       "DataFrame concatenation with empty or all-NA entries is deprecated. In a future version, this will no longer \n",
       "exclude empty or all-NA columns when determining the result dtypes. To retain the old behavior, exclude the \n",
       "relevant entries before the concat operation.\n",
       "  results = pd.concat([results, normalized_data]) #.dropna(axis=1, how=\"all\")])\n",
       "</pre>\n"
      ],
      "text/plain": [
       "/var/folders/7t/k8q3439j6z3c683j7w00wtm80000gn/T/ipykernel_58430/1419766920.py:27: FutureWarning: The behavior of \n",
       "DataFrame concatenation with empty or all-NA entries is deprecated. In a future version, this will no longer \n",
       "exclude empty or all-NA columns when determining the result dtypes. To retain the old behavior, exclude the \n",
       "relevant entries before the concat operation.\n",
       "  results = pd.concat([results, normalized_data]) #.dropna(axis=1, how=\"all\")])\n"
      ]
     },
     "metadata": {},
     "output_type": "display_data"
    },
    {
     "data": {
      "text/html": [
       "<pre style=\"white-space:pre;overflow-x:auto;line-height:normal;font-family:Menlo,'DejaVu Sans Mono',consolas,'Courier New',monospace\">/var/folders/7t/k8q3439j6z3c683j7w00wtm80000gn/T/ipykernel_58430/1419766920.py:27: FutureWarning: The behavior of \n",
       "DataFrame concatenation with empty or all-NA entries is deprecated. In a future version, this will no longer \n",
       "exclude empty or all-NA columns when determining the result dtypes. To retain the old behavior, exclude the \n",
       "relevant entries before the concat operation.\n",
       "  results = pd.concat([results, normalized_data]) #.dropna(axis=1, how=\"all\")])\n",
       "</pre>\n"
      ],
      "text/plain": [
       "/var/folders/7t/k8q3439j6z3c683j7w00wtm80000gn/T/ipykernel_58430/1419766920.py:27: FutureWarning: The behavior of \n",
       "DataFrame concatenation with empty or all-NA entries is deprecated. In a future version, this will no longer \n",
       "exclude empty or all-NA columns when determining the result dtypes. To retain the old behavior, exclude the \n",
       "relevant entries before the concat operation.\n",
       "  results = pd.concat([results, normalized_data]) #.dropna(axis=1, how=\"all\")])\n"
      ]
     },
     "metadata": {},
     "output_type": "display_data"
    },
    {
     "data": {
      "text/html": [
       "<pre style=\"white-space:pre;overflow-x:auto;line-height:normal;font-family:Menlo,'DejaVu Sans Mono',consolas,'Courier New',monospace\">/var/folders/7t/k8q3439j6z3c683j7w00wtm80000gn/T/ipykernel_58430/1419766920.py:27: FutureWarning: The behavior of \n",
       "DataFrame concatenation with empty or all-NA entries is deprecated. In a future version, this will no longer \n",
       "exclude empty or all-NA columns when determining the result dtypes. To retain the old behavior, exclude the \n",
       "relevant entries before the concat operation.\n",
       "  results = pd.concat([results, normalized_data]) #.dropna(axis=1, how=\"all\")])\n",
       "</pre>\n"
      ],
      "text/plain": [
       "/var/folders/7t/k8q3439j6z3c683j7w00wtm80000gn/T/ipykernel_58430/1419766920.py:27: FutureWarning: The behavior of \n",
       "DataFrame concatenation with empty or all-NA entries is deprecated. In a future version, this will no longer \n",
       "exclude empty or all-NA columns when determining the result dtypes. To retain the old behavior, exclude the \n",
       "relevant entries before the concat operation.\n",
       "  results = pd.concat([results, normalized_data]) #.dropna(axis=1, how=\"all\")])\n"
      ]
     },
     "metadata": {},
     "output_type": "display_data"
    },
    {
     "data": {
      "text/html": [
       "<pre style=\"white-space:pre;overflow-x:auto;line-height:normal;font-family:Menlo,'DejaVu Sans Mono',consolas,'Courier New',monospace\">/var/folders/7t/k8q3439j6z3c683j7w00wtm80000gn/T/ipykernel_58430/1419766920.py:27: FutureWarning: The behavior of \n",
       "DataFrame concatenation with empty or all-NA entries is deprecated. In a future version, this will no longer \n",
       "exclude empty or all-NA columns when determining the result dtypes. To retain the old behavior, exclude the \n",
       "relevant entries before the concat operation.\n",
       "  results = pd.concat([results, normalized_data]) #.dropna(axis=1, how=\"all\")])\n",
       "</pre>\n"
      ],
      "text/plain": [
       "/var/folders/7t/k8q3439j6z3c683j7w00wtm80000gn/T/ipykernel_58430/1419766920.py:27: FutureWarning: The behavior of \n",
       "DataFrame concatenation with empty or all-NA entries is deprecated. In a future version, this will no longer \n",
       "exclude empty or all-NA columns when determining the result dtypes. To retain the old behavior, exclude the \n",
       "relevant entries before the concat operation.\n",
       "  results = pd.concat([results, normalized_data]) #.dropna(axis=1, how=\"all\")])\n"
      ]
     },
     "metadata": {},
     "output_type": "display_data"
    },
    {
     "data": {
      "text/html": [
       "<pre style=\"white-space:pre;overflow-x:auto;line-height:normal;font-family:Menlo,'DejaVu Sans Mono',consolas,'Courier New',monospace\">/var/folders/7t/k8q3439j6z3c683j7w00wtm80000gn/T/ipykernel_58430/1419766920.py:27: FutureWarning: The behavior of \n",
       "DataFrame concatenation with empty or all-NA entries is deprecated. In a future version, this will no longer \n",
       "exclude empty or all-NA columns when determining the result dtypes. To retain the old behavior, exclude the \n",
       "relevant entries before the concat operation.\n",
       "  results = pd.concat([results, normalized_data]) #.dropna(axis=1, how=\"all\")])\n",
       "</pre>\n"
      ],
      "text/plain": [
       "/var/folders/7t/k8q3439j6z3c683j7w00wtm80000gn/T/ipykernel_58430/1419766920.py:27: FutureWarning: The behavior of \n",
       "DataFrame concatenation with empty or all-NA entries is deprecated. In a future version, this will no longer \n",
       "exclude empty or all-NA columns when determining the result dtypes. To retain the old behavior, exclude the \n",
       "relevant entries before the concat operation.\n",
       "  results = pd.concat([results, normalized_data]) #.dropna(axis=1, how=\"all\")])\n"
      ]
     },
     "metadata": {},
     "output_type": "display_data"
    },
    {
     "data": {
      "text/html": [
       "<pre style=\"white-space:pre;overflow-x:auto;line-height:normal;font-family:Menlo,'DejaVu Sans Mono',consolas,'Courier New',monospace\">/var/folders/7t/k8q3439j6z3c683j7w00wtm80000gn/T/ipykernel_58430/1419766920.py:27: FutureWarning: The behavior of \n",
       "DataFrame concatenation with empty or all-NA entries is deprecated. In a future version, this will no longer \n",
       "exclude empty or all-NA columns when determining the result dtypes. To retain the old behavior, exclude the \n",
       "relevant entries before the concat operation.\n",
       "  results = pd.concat([results, normalized_data]) #.dropna(axis=1, how=\"all\")])\n",
       "</pre>\n"
      ],
      "text/plain": [
       "/var/folders/7t/k8q3439j6z3c683j7w00wtm80000gn/T/ipykernel_58430/1419766920.py:27: FutureWarning: The behavior of \n",
       "DataFrame concatenation with empty or all-NA entries is deprecated. In a future version, this will no longer \n",
       "exclude empty or all-NA columns when determining the result dtypes. To retain the old behavior, exclude the \n",
       "relevant entries before the concat operation.\n",
       "  results = pd.concat([results, normalized_data]) #.dropna(axis=1, how=\"all\")])\n"
      ]
     },
     "metadata": {},
     "output_type": "display_data"
    },
    {
     "data": {
      "text/html": [
       "<pre style=\"white-space:pre;overflow-x:auto;line-height:normal;font-family:Menlo,'DejaVu Sans Mono',consolas,'Courier New',monospace\">/var/folders/7t/k8q3439j6z3c683j7w00wtm80000gn/T/ipykernel_58430/1419766920.py:27: FutureWarning: The behavior of \n",
       "DataFrame concatenation with empty or all-NA entries is deprecated. In a future version, this will no longer \n",
       "exclude empty or all-NA columns when determining the result dtypes. To retain the old behavior, exclude the \n",
       "relevant entries before the concat operation.\n",
       "  results = pd.concat([results, normalized_data]) #.dropna(axis=1, how=\"all\")])\n",
       "</pre>\n"
      ],
      "text/plain": [
       "/var/folders/7t/k8q3439j6z3c683j7w00wtm80000gn/T/ipykernel_58430/1419766920.py:27: FutureWarning: The behavior of \n",
       "DataFrame concatenation with empty or all-NA entries is deprecated. In a future version, this will no longer \n",
       "exclude empty or all-NA columns when determining the result dtypes. To retain the old behavior, exclude the \n",
       "relevant entries before the concat operation.\n",
       "  results = pd.concat([results, normalized_data]) #.dropna(axis=1, how=\"all\")])\n"
      ]
     },
     "metadata": {},
     "output_type": "display_data"
    },
    {
     "data": {
      "text/html": [
       "<pre style=\"white-space:pre;overflow-x:auto;line-height:normal;font-family:Menlo,'DejaVu Sans Mono',consolas,'Courier New',monospace\">/var/folders/7t/k8q3439j6z3c683j7w00wtm80000gn/T/ipykernel_58430/1419766920.py:27: FutureWarning: The behavior of \n",
       "DataFrame concatenation with empty or all-NA entries is deprecated. In a future version, this will no longer \n",
       "exclude empty or all-NA columns when determining the result dtypes. To retain the old behavior, exclude the \n",
       "relevant entries before the concat operation.\n",
       "  results = pd.concat([results, normalized_data]) #.dropna(axis=1, how=\"all\")])\n",
       "</pre>\n"
      ],
      "text/plain": [
       "/var/folders/7t/k8q3439j6z3c683j7w00wtm80000gn/T/ipykernel_58430/1419766920.py:27: FutureWarning: The behavior of \n",
       "DataFrame concatenation with empty or all-NA entries is deprecated. In a future version, this will no longer \n",
       "exclude empty or all-NA columns when determining the result dtypes. To retain the old behavior, exclude the \n",
       "relevant entries before the concat operation.\n",
       "  results = pd.concat([results, normalized_data]) #.dropna(axis=1, how=\"all\")])\n"
      ]
     },
     "metadata": {},
     "output_type": "display_data"
    },
    {
     "data": {
      "text/html": [
       "<pre style=\"white-space:pre;overflow-x:auto;line-height:normal;font-family:Menlo,'DejaVu Sans Mono',consolas,'Courier New',monospace\">/var/folders/7t/k8q3439j6z3c683j7w00wtm80000gn/T/ipykernel_58430/1419766920.py:27: FutureWarning: The behavior of \n",
       "DataFrame concatenation with empty or all-NA entries is deprecated. In a future version, this will no longer \n",
       "exclude empty or all-NA columns when determining the result dtypes. To retain the old behavior, exclude the \n",
       "relevant entries before the concat operation.\n",
       "  results = pd.concat([results, normalized_data]) #.dropna(axis=1, how=\"all\")])\n",
       "</pre>\n"
      ],
      "text/plain": [
       "/var/folders/7t/k8q3439j6z3c683j7w00wtm80000gn/T/ipykernel_58430/1419766920.py:27: FutureWarning: The behavior of \n",
       "DataFrame concatenation with empty or all-NA entries is deprecated. In a future version, this will no longer \n",
       "exclude empty or all-NA columns when determining the result dtypes. To retain the old behavior, exclude the \n",
       "relevant entries before the concat operation.\n",
       "  results = pd.concat([results, normalized_data]) #.dropna(axis=1, how=\"all\")])\n"
      ]
     },
     "metadata": {},
     "output_type": "display_data"
    },
    {
     "data": {
      "text/html": [
       "<pre style=\"white-space:pre;overflow-x:auto;line-height:normal;font-family:Menlo,'DejaVu Sans Mono',consolas,'Courier New',monospace\">/var/folders/7t/k8q3439j6z3c683j7w00wtm80000gn/T/ipykernel_58430/1419766920.py:27: FutureWarning: The behavior of \n",
       "DataFrame concatenation with empty or all-NA entries is deprecated. In a future version, this will no longer \n",
       "exclude empty or all-NA columns when determining the result dtypes. To retain the old behavior, exclude the \n",
       "relevant entries before the concat operation.\n",
       "  results = pd.concat([results, normalized_data]) #.dropna(axis=1, how=\"all\")])\n",
       "</pre>\n"
      ],
      "text/plain": [
       "/var/folders/7t/k8q3439j6z3c683j7w00wtm80000gn/T/ipykernel_58430/1419766920.py:27: FutureWarning: The behavior of \n",
       "DataFrame concatenation with empty or all-NA entries is deprecated. In a future version, this will no longer \n",
       "exclude empty or all-NA columns when determining the result dtypes. To retain the old behavior, exclude the \n",
       "relevant entries before the concat operation.\n",
       "  results = pd.concat([results, normalized_data]) #.dropna(axis=1, how=\"all\")])\n"
      ]
     },
     "metadata": {},
     "output_type": "display_data"
    },
    {
     "data": {
      "text/html": [
       "<pre style=\"white-space:pre;overflow-x:auto;line-height:normal;font-family:Menlo,'DejaVu Sans Mono',consolas,'Courier New',monospace\">/var/folders/7t/k8q3439j6z3c683j7w00wtm80000gn/T/ipykernel_58430/1419766920.py:27: FutureWarning: The behavior of \n",
       "DataFrame concatenation with empty or all-NA entries is deprecated. In a future version, this will no longer \n",
       "exclude empty or all-NA columns when determining the result dtypes. To retain the old behavior, exclude the \n",
       "relevant entries before the concat operation.\n",
       "  results = pd.concat([results, normalized_data]) #.dropna(axis=1, how=\"all\")])\n",
       "</pre>\n"
      ],
      "text/plain": [
       "/var/folders/7t/k8q3439j6z3c683j7w00wtm80000gn/T/ipykernel_58430/1419766920.py:27: FutureWarning: The behavior of \n",
       "DataFrame concatenation with empty or all-NA entries is deprecated. In a future version, this will no longer \n",
       "exclude empty or all-NA columns when determining the result dtypes. To retain the old behavior, exclude the \n",
       "relevant entries before the concat operation.\n",
       "  results = pd.concat([results, normalized_data]) #.dropna(axis=1, how=\"all\")])\n"
      ]
     },
     "metadata": {},
     "output_type": "display_data"
    },
    {
     "data": {
      "text/html": [
       "<pre style=\"white-space:pre;overflow-x:auto;line-height:normal;font-family:Menlo,'DejaVu Sans Mono',consolas,'Courier New',monospace\">/var/folders/7t/k8q3439j6z3c683j7w00wtm80000gn/T/ipykernel_58430/1419766920.py:27: FutureWarning: The behavior of \n",
       "DataFrame concatenation with empty or all-NA entries is deprecated. In a future version, this will no longer \n",
       "exclude empty or all-NA columns when determining the result dtypes. To retain the old behavior, exclude the \n",
       "relevant entries before the concat operation.\n",
       "  results = pd.concat([results, normalized_data]) #.dropna(axis=1, how=\"all\")])\n",
       "</pre>\n"
      ],
      "text/plain": [
       "/var/folders/7t/k8q3439j6z3c683j7w00wtm80000gn/T/ipykernel_58430/1419766920.py:27: FutureWarning: The behavior of \n",
       "DataFrame concatenation with empty or all-NA entries is deprecated. In a future version, this will no longer \n",
       "exclude empty or all-NA columns when determining the result dtypes. To retain the old behavior, exclude the \n",
       "relevant entries before the concat operation.\n",
       "  results = pd.concat([results, normalized_data]) #.dropna(axis=1, how=\"all\")])\n"
      ]
     },
     "metadata": {},
     "output_type": "display_data"
    },
    {
     "data": {
      "text/html": [
       "<pre style=\"white-space:pre;overflow-x:auto;line-height:normal;font-family:Menlo,'DejaVu Sans Mono',consolas,'Courier New',monospace\">/var/folders/7t/k8q3439j6z3c683j7w00wtm80000gn/T/ipykernel_58430/1419766920.py:27: FutureWarning: The behavior of \n",
       "DataFrame concatenation with empty or all-NA entries is deprecated. In a future version, this will no longer \n",
       "exclude empty or all-NA columns when determining the result dtypes. To retain the old behavior, exclude the \n",
       "relevant entries before the concat operation.\n",
       "  results = pd.concat([results, normalized_data]) #.dropna(axis=1, how=\"all\")])\n",
       "</pre>\n"
      ],
      "text/plain": [
       "/var/folders/7t/k8q3439j6z3c683j7w00wtm80000gn/T/ipykernel_58430/1419766920.py:27: FutureWarning: The behavior of \n",
       "DataFrame concatenation with empty or all-NA entries is deprecated. In a future version, this will no longer \n",
       "exclude empty or all-NA columns when determining the result dtypes. To retain the old behavior, exclude the \n",
       "relevant entries before the concat operation.\n",
       "  results = pd.concat([results, normalized_data]) #.dropna(axis=1, how=\"all\")])\n"
      ]
     },
     "metadata": {},
     "output_type": "display_data"
    },
    {
     "data": {
      "text/html": [
       "<pre style=\"white-space:pre;overflow-x:auto;line-height:normal;font-family:Menlo,'DejaVu Sans Mono',consolas,'Courier New',monospace\">/var/folders/7t/k8q3439j6z3c683j7w00wtm80000gn/T/ipykernel_58430/1419766920.py:27: FutureWarning: The behavior of \n",
       "DataFrame concatenation with empty or all-NA entries is deprecated. In a future version, this will no longer \n",
       "exclude empty or all-NA columns when determining the result dtypes. To retain the old behavior, exclude the \n",
       "relevant entries before the concat operation.\n",
       "  results = pd.concat([results, normalized_data]) #.dropna(axis=1, how=\"all\")])\n",
       "</pre>\n"
      ],
      "text/plain": [
       "/var/folders/7t/k8q3439j6z3c683j7w00wtm80000gn/T/ipykernel_58430/1419766920.py:27: FutureWarning: The behavior of \n",
       "DataFrame concatenation with empty or all-NA entries is deprecated. In a future version, this will no longer \n",
       "exclude empty or all-NA columns when determining the result dtypes. To retain the old behavior, exclude the \n",
       "relevant entries before the concat operation.\n",
       "  results = pd.concat([results, normalized_data]) #.dropna(axis=1, how=\"all\")])\n"
      ]
     },
     "metadata": {},
     "output_type": "display_data"
    },
    {
     "data": {
      "text/html": [
       "<pre style=\"white-space:pre;overflow-x:auto;line-height:normal;font-family:Menlo,'DejaVu Sans Mono',consolas,'Courier New',monospace\">/var/folders/7t/k8q3439j6z3c683j7w00wtm80000gn/T/ipykernel_58430/1419766920.py:27: FutureWarning: The behavior of \n",
       "DataFrame concatenation with empty or all-NA entries is deprecated. In a future version, this will no longer \n",
       "exclude empty or all-NA columns when determining the result dtypes. To retain the old behavior, exclude the \n",
       "relevant entries before the concat operation.\n",
       "  results = pd.concat([results, normalized_data]) #.dropna(axis=1, how=\"all\")])\n",
       "</pre>\n"
      ],
      "text/plain": [
       "/var/folders/7t/k8q3439j6z3c683j7w00wtm80000gn/T/ipykernel_58430/1419766920.py:27: FutureWarning: The behavior of \n",
       "DataFrame concatenation with empty or all-NA entries is deprecated. In a future version, this will no longer \n",
       "exclude empty or all-NA columns when determining the result dtypes. To retain the old behavior, exclude the \n",
       "relevant entries before the concat operation.\n",
       "  results = pd.concat([results, normalized_data]) #.dropna(axis=1, how=\"all\")])\n"
      ]
     },
     "metadata": {},
     "output_type": "display_data"
    },
    {
     "data": {
      "text/html": [
       "<pre style=\"white-space:pre;overflow-x:auto;line-height:normal;font-family:Menlo,'DejaVu Sans Mono',consolas,'Courier New',monospace\">/var/folders/7t/k8q3439j6z3c683j7w00wtm80000gn/T/ipykernel_58430/1419766920.py:27: FutureWarning: The behavior of \n",
       "DataFrame concatenation with empty or all-NA entries is deprecated. In a future version, this will no longer \n",
       "exclude empty or all-NA columns when determining the result dtypes. To retain the old behavior, exclude the \n",
       "relevant entries before the concat operation.\n",
       "  results = pd.concat([results, normalized_data]) #.dropna(axis=1, how=\"all\")])\n",
       "</pre>\n"
      ],
      "text/plain": [
       "/var/folders/7t/k8q3439j6z3c683j7w00wtm80000gn/T/ipykernel_58430/1419766920.py:27: FutureWarning: The behavior of \n",
       "DataFrame concatenation with empty or all-NA entries is deprecated. In a future version, this will no longer \n",
       "exclude empty or all-NA columns when determining the result dtypes. To retain the old behavior, exclude the \n",
       "relevant entries before the concat operation.\n",
       "  results = pd.concat([results, normalized_data]) #.dropna(axis=1, how=\"all\")])\n"
      ]
     },
     "metadata": {},
     "output_type": "display_data"
    },
    {
     "data": {
      "text/html": [
       "<pre style=\"white-space:pre;overflow-x:auto;line-height:normal;font-family:Menlo,'DejaVu Sans Mono',consolas,'Courier New',monospace\">/var/folders/7t/k8q3439j6z3c683j7w00wtm80000gn/T/ipykernel_58430/1419766920.py:27: FutureWarning: The behavior of \n",
       "DataFrame concatenation with empty or all-NA entries is deprecated. In a future version, this will no longer \n",
       "exclude empty or all-NA columns when determining the result dtypes. To retain the old behavior, exclude the \n",
       "relevant entries before the concat operation.\n",
       "  results = pd.concat([results, normalized_data]) #.dropna(axis=1, how=\"all\")])\n",
       "</pre>\n"
      ],
      "text/plain": [
       "/var/folders/7t/k8q3439j6z3c683j7w00wtm80000gn/T/ipykernel_58430/1419766920.py:27: FutureWarning: The behavior of \n",
       "DataFrame concatenation with empty or all-NA entries is deprecated. In a future version, this will no longer \n",
       "exclude empty or all-NA columns when determining the result dtypes. To retain the old behavior, exclude the \n",
       "relevant entries before the concat operation.\n",
       "  results = pd.concat([results, normalized_data]) #.dropna(axis=1, how=\"all\")])\n"
      ]
     },
     "metadata": {},
     "output_type": "display_data"
    },
    {
     "data": {
      "text/html": [
       "<pre style=\"white-space:pre;overflow-x:auto;line-height:normal;font-family:Menlo,'DejaVu Sans Mono',consolas,'Courier New',monospace\">/var/folders/7t/k8q3439j6z3c683j7w00wtm80000gn/T/ipykernel_58430/1419766920.py:27: FutureWarning: The behavior of \n",
       "DataFrame concatenation with empty or all-NA entries is deprecated. In a future version, this will no longer \n",
       "exclude empty or all-NA columns when determining the result dtypes. To retain the old behavior, exclude the \n",
       "relevant entries before the concat operation.\n",
       "  results = pd.concat([results, normalized_data]) #.dropna(axis=1, how=\"all\")])\n",
       "</pre>\n"
      ],
      "text/plain": [
       "/var/folders/7t/k8q3439j6z3c683j7w00wtm80000gn/T/ipykernel_58430/1419766920.py:27: FutureWarning: The behavior of \n",
       "DataFrame concatenation with empty or all-NA entries is deprecated. In a future version, this will no longer \n",
       "exclude empty or all-NA columns when determining the result dtypes. To retain the old behavior, exclude the \n",
       "relevant entries before the concat operation.\n",
       "  results = pd.concat([results, normalized_data]) #.dropna(axis=1, how=\"all\")])\n"
      ]
     },
     "metadata": {},
     "output_type": "display_data"
    },
    {
     "data": {
      "text/html": [
       "<pre style=\"white-space:pre;overflow-x:auto;line-height:normal;font-family:Menlo,'DejaVu Sans Mono',consolas,'Courier New',monospace\">/var/folders/7t/k8q3439j6z3c683j7w00wtm80000gn/T/ipykernel_58430/1419766920.py:27: FutureWarning: The behavior of \n",
       "DataFrame concatenation with empty or all-NA entries is deprecated. In a future version, this will no longer \n",
       "exclude empty or all-NA columns when determining the result dtypes. To retain the old behavior, exclude the \n",
       "relevant entries before the concat operation.\n",
       "  results = pd.concat([results, normalized_data]) #.dropna(axis=1, how=\"all\")])\n",
       "</pre>\n"
      ],
      "text/plain": [
       "/var/folders/7t/k8q3439j6z3c683j7w00wtm80000gn/T/ipykernel_58430/1419766920.py:27: FutureWarning: The behavior of \n",
       "DataFrame concatenation with empty or all-NA entries is deprecated. In a future version, this will no longer \n",
       "exclude empty or all-NA columns when determining the result dtypes. To retain the old behavior, exclude the \n",
       "relevant entries before the concat operation.\n",
       "  results = pd.concat([results, normalized_data]) #.dropna(axis=1, how=\"all\")])\n"
      ]
     },
     "metadata": {},
     "output_type": "display_data"
    },
    {
     "data": {
      "text/html": [
       "<pre style=\"white-space:pre;overflow-x:auto;line-height:normal;font-family:Menlo,'DejaVu Sans Mono',consolas,'Courier New',monospace\">/var/folders/7t/k8q3439j6z3c683j7w00wtm80000gn/T/ipykernel_58430/1419766920.py:27: FutureWarning: The behavior of \n",
       "DataFrame concatenation with empty or all-NA entries is deprecated. In a future version, this will no longer \n",
       "exclude empty or all-NA columns when determining the result dtypes. To retain the old behavior, exclude the \n",
       "relevant entries before the concat operation.\n",
       "  results = pd.concat([results, normalized_data]) #.dropna(axis=1, how=\"all\")])\n",
       "</pre>\n"
      ],
      "text/plain": [
       "/var/folders/7t/k8q3439j6z3c683j7w00wtm80000gn/T/ipykernel_58430/1419766920.py:27: FutureWarning: The behavior of \n",
       "DataFrame concatenation with empty or all-NA entries is deprecated. In a future version, this will no longer \n",
       "exclude empty or all-NA columns when determining the result dtypes. To retain the old behavior, exclude the \n",
       "relevant entries before the concat operation.\n",
       "  results = pd.concat([results, normalized_data]) #.dropna(axis=1, how=\"all\")])\n"
      ]
     },
     "metadata": {},
     "output_type": "display_data"
    },
    {
     "data": {
      "text/html": [
       "<pre style=\"white-space:pre;overflow-x:auto;line-height:normal;font-family:Menlo,'DejaVu Sans Mono',consolas,'Courier New',monospace\">/var/folders/7t/k8q3439j6z3c683j7w00wtm80000gn/T/ipykernel_58430/1419766920.py:27: FutureWarning: The behavior of \n",
       "DataFrame concatenation with empty or all-NA entries is deprecated. In a future version, this will no longer \n",
       "exclude empty or all-NA columns when determining the result dtypes. To retain the old behavior, exclude the \n",
       "relevant entries before the concat operation.\n",
       "  results = pd.concat([results, normalized_data]) #.dropna(axis=1, how=\"all\")])\n",
       "</pre>\n"
      ],
      "text/plain": [
       "/var/folders/7t/k8q3439j6z3c683j7w00wtm80000gn/T/ipykernel_58430/1419766920.py:27: FutureWarning: The behavior of \n",
       "DataFrame concatenation with empty or all-NA entries is deprecated. In a future version, this will no longer \n",
       "exclude empty or all-NA columns when determining the result dtypes. To retain the old behavior, exclude the \n",
       "relevant entries before the concat operation.\n",
       "  results = pd.concat([results, normalized_data]) #.dropna(axis=1, how=\"all\")])\n"
      ]
     },
     "metadata": {},
     "output_type": "display_data"
    },
    {
     "data": {
      "text/html": [
       "<pre style=\"white-space:pre;overflow-x:auto;line-height:normal;font-family:Menlo,'DejaVu Sans Mono',consolas,'Courier New',monospace\">/var/folders/7t/k8q3439j6z3c683j7w00wtm80000gn/T/ipykernel_58430/1419766920.py:27: FutureWarning: The behavior of \n",
       "DataFrame concatenation with empty or all-NA entries is deprecated. In a future version, this will no longer \n",
       "exclude empty or all-NA columns when determining the result dtypes. To retain the old behavior, exclude the \n",
       "relevant entries before the concat operation.\n",
       "  results = pd.concat([results, normalized_data]) #.dropna(axis=1, how=\"all\")])\n",
       "</pre>\n"
      ],
      "text/plain": [
       "/var/folders/7t/k8q3439j6z3c683j7w00wtm80000gn/T/ipykernel_58430/1419766920.py:27: FutureWarning: The behavior of \n",
       "DataFrame concatenation with empty or all-NA entries is deprecated. In a future version, this will no longer \n",
       "exclude empty or all-NA columns when determining the result dtypes. To retain the old behavior, exclude the \n",
       "relevant entries before the concat operation.\n",
       "  results = pd.concat([results, normalized_data]) #.dropna(axis=1, how=\"all\")])\n"
      ]
     },
     "metadata": {},
     "output_type": "display_data"
    },
    {
     "data": {
      "text/html": [
       "<pre style=\"white-space:pre;overflow-x:auto;line-height:normal;font-family:Menlo,'DejaVu Sans Mono',consolas,'Courier New',monospace\">/var/folders/7t/k8q3439j6z3c683j7w00wtm80000gn/T/ipykernel_58430/1419766920.py:27: FutureWarning: The behavior of \n",
       "DataFrame concatenation with empty or all-NA entries is deprecated. In a future version, this will no longer \n",
       "exclude empty or all-NA columns when determining the result dtypes. To retain the old behavior, exclude the \n",
       "relevant entries before the concat operation.\n",
       "  results = pd.concat([results, normalized_data]) #.dropna(axis=1, how=\"all\")])\n",
       "</pre>\n"
      ],
      "text/plain": [
       "/var/folders/7t/k8q3439j6z3c683j7w00wtm80000gn/T/ipykernel_58430/1419766920.py:27: FutureWarning: The behavior of \n",
       "DataFrame concatenation with empty or all-NA entries is deprecated. In a future version, this will no longer \n",
       "exclude empty or all-NA columns when determining the result dtypes. To retain the old behavior, exclude the \n",
       "relevant entries before the concat operation.\n",
       "  results = pd.concat([results, normalized_data]) #.dropna(axis=1, how=\"all\")])\n"
      ]
     },
     "metadata": {},
     "output_type": "display_data"
    },
    {
     "data": {
      "text/html": [
       "<pre style=\"white-space:pre;overflow-x:auto;line-height:normal;font-family:Menlo,'DejaVu Sans Mono',consolas,'Courier New',monospace\">/var/folders/7t/k8q3439j6z3c683j7w00wtm80000gn/T/ipykernel_58430/1419766920.py:27: FutureWarning: The behavior of \n",
       "DataFrame concatenation with empty or all-NA entries is deprecated. In a future version, this will no longer \n",
       "exclude empty or all-NA columns when determining the result dtypes. To retain the old behavior, exclude the \n",
       "relevant entries before the concat operation.\n",
       "  results = pd.concat([results, normalized_data]) #.dropna(axis=1, how=\"all\")])\n",
       "</pre>\n"
      ],
      "text/plain": [
       "/var/folders/7t/k8q3439j6z3c683j7w00wtm80000gn/T/ipykernel_58430/1419766920.py:27: FutureWarning: The behavior of \n",
       "DataFrame concatenation with empty or all-NA entries is deprecated. In a future version, this will no longer \n",
       "exclude empty or all-NA columns when determining the result dtypes. To retain the old behavior, exclude the \n",
       "relevant entries before the concat operation.\n",
       "  results = pd.concat([results, normalized_data]) #.dropna(axis=1, how=\"all\")])\n"
      ]
     },
     "metadata": {},
     "output_type": "display_data"
    },
    {
     "data": {
      "text/html": [
       "<pre style=\"white-space:pre;overflow-x:auto;line-height:normal;font-family:Menlo,'DejaVu Sans Mono',consolas,'Courier New',monospace\">/var/folders/7t/k8q3439j6z3c683j7w00wtm80000gn/T/ipykernel_58430/1419766920.py:27: FutureWarning: The behavior of \n",
       "DataFrame concatenation with empty or all-NA entries is deprecated. In a future version, this will no longer \n",
       "exclude empty or all-NA columns when determining the result dtypes. To retain the old behavior, exclude the \n",
       "relevant entries before the concat operation.\n",
       "  results = pd.concat([results, normalized_data]) #.dropna(axis=1, how=\"all\")])\n",
       "</pre>\n"
      ],
      "text/plain": [
       "/var/folders/7t/k8q3439j6z3c683j7w00wtm80000gn/T/ipykernel_58430/1419766920.py:27: FutureWarning: The behavior of \n",
       "DataFrame concatenation with empty or all-NA entries is deprecated. In a future version, this will no longer \n",
       "exclude empty or all-NA columns when determining the result dtypes. To retain the old behavior, exclude the \n",
       "relevant entries before the concat operation.\n",
       "  results = pd.concat([results, normalized_data]) #.dropna(axis=1, how=\"all\")])\n"
      ]
     },
     "metadata": {},
     "output_type": "display_data"
    },
    {
     "data": {
      "text/html": [
       "<pre style=\"white-space:pre;overflow-x:auto;line-height:normal;font-family:Menlo,'DejaVu Sans Mono',consolas,'Courier New',monospace\">/var/folders/7t/k8q3439j6z3c683j7w00wtm80000gn/T/ipykernel_58430/1419766920.py:27: FutureWarning: The behavior of \n",
       "DataFrame concatenation with empty or all-NA entries is deprecated. In a future version, this will no longer \n",
       "exclude empty or all-NA columns when determining the result dtypes. To retain the old behavior, exclude the \n",
       "relevant entries before the concat operation.\n",
       "  results = pd.concat([results, normalized_data]) #.dropna(axis=1, how=\"all\")])\n",
       "</pre>\n"
      ],
      "text/plain": [
       "/var/folders/7t/k8q3439j6z3c683j7w00wtm80000gn/T/ipykernel_58430/1419766920.py:27: FutureWarning: The behavior of \n",
       "DataFrame concatenation with empty or all-NA entries is deprecated. In a future version, this will no longer \n",
       "exclude empty or all-NA columns when determining the result dtypes. To retain the old behavior, exclude the \n",
       "relevant entries before the concat operation.\n",
       "  results = pd.concat([results, normalized_data]) #.dropna(axis=1, how=\"all\")])\n"
      ]
     },
     "metadata": {},
     "output_type": "display_data"
    },
    {
     "data": {
      "text/html": [
       "<pre style=\"white-space:pre;overflow-x:auto;line-height:normal;font-family:Menlo,'DejaVu Sans Mono',consolas,'Courier New',monospace\">/var/folders/7t/k8q3439j6z3c683j7w00wtm80000gn/T/ipykernel_58430/1419766920.py:27: FutureWarning: The behavior of \n",
       "DataFrame concatenation with empty or all-NA entries is deprecated. In a future version, this will no longer \n",
       "exclude empty or all-NA columns when determining the result dtypes. To retain the old behavior, exclude the \n",
       "relevant entries before the concat operation.\n",
       "  results = pd.concat([results, normalized_data]) #.dropna(axis=1, how=\"all\")])\n",
       "</pre>\n"
      ],
      "text/plain": [
       "/var/folders/7t/k8q3439j6z3c683j7w00wtm80000gn/T/ipykernel_58430/1419766920.py:27: FutureWarning: The behavior of \n",
       "DataFrame concatenation with empty or all-NA entries is deprecated. In a future version, this will no longer \n",
       "exclude empty or all-NA columns when determining the result dtypes. To retain the old behavior, exclude the \n",
       "relevant entries before the concat operation.\n",
       "  results = pd.concat([results, normalized_data]) #.dropna(axis=1, how=\"all\")])\n"
      ]
     },
     "metadata": {},
     "output_type": "display_data"
    },
    {
     "data": {
      "text/html": [
       "<pre style=\"white-space:pre;overflow-x:auto;line-height:normal;font-family:Menlo,'DejaVu Sans Mono',consolas,'Courier New',monospace\">/var/folders/7t/k8q3439j6z3c683j7w00wtm80000gn/T/ipykernel_58430/1419766920.py:27: FutureWarning: The behavior of \n",
       "DataFrame concatenation with empty or all-NA entries is deprecated. In a future version, this will no longer \n",
       "exclude empty or all-NA columns when determining the result dtypes. To retain the old behavior, exclude the \n",
       "relevant entries before the concat operation.\n",
       "  results = pd.concat([results, normalized_data]) #.dropna(axis=1, how=\"all\")])\n",
       "</pre>\n"
      ],
      "text/plain": [
       "/var/folders/7t/k8q3439j6z3c683j7w00wtm80000gn/T/ipykernel_58430/1419766920.py:27: FutureWarning: The behavior of \n",
       "DataFrame concatenation with empty or all-NA entries is deprecated. In a future version, this will no longer \n",
       "exclude empty or all-NA columns when determining the result dtypes. To retain the old behavior, exclude the \n",
       "relevant entries before the concat operation.\n",
       "  results = pd.concat([results, normalized_data]) #.dropna(axis=1, how=\"all\")])\n"
      ]
     },
     "metadata": {},
     "output_type": "display_data"
    },
    {
     "data": {
      "text/html": [
       "<pre style=\"white-space:pre;overflow-x:auto;line-height:normal;font-family:Menlo,'DejaVu Sans Mono',consolas,'Courier New',monospace\">/var/folders/7t/k8q3439j6z3c683j7w00wtm80000gn/T/ipykernel_58430/1419766920.py:27: FutureWarning: The behavior of \n",
       "DataFrame concatenation with empty or all-NA entries is deprecated. In a future version, this will no longer \n",
       "exclude empty or all-NA columns when determining the result dtypes. To retain the old behavior, exclude the \n",
       "relevant entries before the concat operation.\n",
       "  results = pd.concat([results, normalized_data]) #.dropna(axis=1, how=\"all\")])\n",
       "</pre>\n"
      ],
      "text/plain": [
       "/var/folders/7t/k8q3439j6z3c683j7w00wtm80000gn/T/ipykernel_58430/1419766920.py:27: FutureWarning: The behavior of \n",
       "DataFrame concatenation with empty or all-NA entries is deprecated. In a future version, this will no longer \n",
       "exclude empty or all-NA columns when determining the result dtypes. To retain the old behavior, exclude the \n",
       "relevant entries before the concat operation.\n",
       "  results = pd.concat([results, normalized_data]) #.dropna(axis=1, how=\"all\")])\n"
      ]
     },
     "metadata": {},
     "output_type": "display_data"
    },
    {
     "data": {
      "text/html": [
       "<pre style=\"white-space:pre;overflow-x:auto;line-height:normal;font-family:Menlo,'DejaVu Sans Mono',consolas,'Courier New',monospace\">/var/folders/7t/k8q3439j6z3c683j7w00wtm80000gn/T/ipykernel_58430/1419766920.py:27: FutureWarning: The behavior of \n",
       "DataFrame concatenation with empty or all-NA entries is deprecated. In a future version, this will no longer \n",
       "exclude empty or all-NA columns when determining the result dtypes. To retain the old behavior, exclude the \n",
       "relevant entries before the concat operation.\n",
       "  results = pd.concat([results, normalized_data]) #.dropna(axis=1, how=\"all\")])\n",
       "</pre>\n"
      ],
      "text/plain": [
       "/var/folders/7t/k8q3439j6z3c683j7w00wtm80000gn/T/ipykernel_58430/1419766920.py:27: FutureWarning: The behavior of \n",
       "DataFrame concatenation with empty or all-NA entries is deprecated. In a future version, this will no longer \n",
       "exclude empty or all-NA columns when determining the result dtypes. To retain the old behavior, exclude the \n",
       "relevant entries before the concat operation.\n",
       "  results = pd.concat([results, normalized_data]) #.dropna(axis=1, how=\"all\")])\n"
      ]
     },
     "metadata": {},
     "output_type": "display_data"
    },
    {
     "data": {
      "text/html": [
       "<pre style=\"white-space:pre;overflow-x:auto;line-height:normal;font-family:Menlo,'DejaVu Sans Mono',consolas,'Courier New',monospace\">/var/folders/7t/k8q3439j6z3c683j7w00wtm80000gn/T/ipykernel_58430/1419766920.py:27: FutureWarning: The behavior of \n",
       "DataFrame concatenation with empty or all-NA entries is deprecated. In a future version, this will no longer \n",
       "exclude empty or all-NA columns when determining the result dtypes. To retain the old behavior, exclude the \n",
       "relevant entries before the concat operation.\n",
       "  results = pd.concat([results, normalized_data]) #.dropna(axis=1, how=\"all\")])\n",
       "</pre>\n"
      ],
      "text/plain": [
       "/var/folders/7t/k8q3439j6z3c683j7w00wtm80000gn/T/ipykernel_58430/1419766920.py:27: FutureWarning: The behavior of \n",
       "DataFrame concatenation with empty or all-NA entries is deprecated. In a future version, this will no longer \n",
       "exclude empty or all-NA columns when determining the result dtypes. To retain the old behavior, exclude the \n",
       "relevant entries before the concat operation.\n",
       "  results = pd.concat([results, normalized_data]) #.dropna(axis=1, how=\"all\")])\n"
      ]
     },
     "metadata": {},
     "output_type": "display_data"
    },
    {
     "data": {
      "text/html": [
       "<pre style=\"white-space:pre;overflow-x:auto;line-height:normal;font-family:Menlo,'DejaVu Sans Mono',consolas,'Courier New',monospace\">/var/folders/7t/k8q3439j6z3c683j7w00wtm80000gn/T/ipykernel_58430/1419766920.py:27: FutureWarning: The behavior of \n",
       "DataFrame concatenation with empty or all-NA entries is deprecated. In a future version, this will no longer \n",
       "exclude empty or all-NA columns when determining the result dtypes. To retain the old behavior, exclude the \n",
       "relevant entries before the concat operation.\n",
       "  results = pd.concat([results, normalized_data]) #.dropna(axis=1, how=\"all\")])\n",
       "</pre>\n"
      ],
      "text/plain": [
       "/var/folders/7t/k8q3439j6z3c683j7w00wtm80000gn/T/ipykernel_58430/1419766920.py:27: FutureWarning: The behavior of \n",
       "DataFrame concatenation with empty or all-NA entries is deprecated. In a future version, this will no longer \n",
       "exclude empty or all-NA columns when determining the result dtypes. To retain the old behavior, exclude the \n",
       "relevant entries before the concat operation.\n",
       "  results = pd.concat([results, normalized_data]) #.dropna(axis=1, how=\"all\")])\n"
      ]
     },
     "metadata": {},
     "output_type": "display_data"
    },
    {
     "data": {
      "text/html": [
       "<pre style=\"white-space:pre;overflow-x:auto;line-height:normal;font-family:Menlo,'DejaVu Sans Mono',consolas,'Courier New',monospace\">/var/folders/7t/k8q3439j6z3c683j7w00wtm80000gn/T/ipykernel_58430/1419766920.py:27: FutureWarning: The behavior of \n",
       "DataFrame concatenation with empty or all-NA entries is deprecated. In a future version, this will no longer \n",
       "exclude empty or all-NA columns when determining the result dtypes. To retain the old behavior, exclude the \n",
       "relevant entries before the concat operation.\n",
       "  results = pd.concat([results, normalized_data]) #.dropna(axis=1, how=\"all\")])\n",
       "</pre>\n"
      ],
      "text/plain": [
       "/var/folders/7t/k8q3439j6z3c683j7w00wtm80000gn/T/ipykernel_58430/1419766920.py:27: FutureWarning: The behavior of \n",
       "DataFrame concatenation with empty or all-NA entries is deprecated. In a future version, this will no longer \n",
       "exclude empty or all-NA columns when determining the result dtypes. To retain the old behavior, exclude the \n",
       "relevant entries before the concat operation.\n",
       "  results = pd.concat([results, normalized_data]) #.dropna(axis=1, how=\"all\")])\n"
      ]
     },
     "metadata": {},
     "output_type": "display_data"
    },
    {
     "data": {
      "text/html": [
       "<pre style=\"white-space:pre;overflow-x:auto;line-height:normal;font-family:Menlo,'DejaVu Sans Mono',consolas,'Courier New',monospace\">/var/folders/7t/k8q3439j6z3c683j7w00wtm80000gn/T/ipykernel_58430/1419766920.py:27: FutureWarning: The behavior of \n",
       "DataFrame concatenation with empty or all-NA entries is deprecated. In a future version, this will no longer \n",
       "exclude empty or all-NA columns when determining the result dtypes. To retain the old behavior, exclude the \n",
       "relevant entries before the concat operation.\n",
       "  results = pd.concat([results, normalized_data]) #.dropna(axis=1, how=\"all\")])\n",
       "</pre>\n"
      ],
      "text/plain": [
       "/var/folders/7t/k8q3439j6z3c683j7w00wtm80000gn/T/ipykernel_58430/1419766920.py:27: FutureWarning: The behavior of \n",
       "DataFrame concatenation with empty or all-NA entries is deprecated. In a future version, this will no longer \n",
       "exclude empty or all-NA columns when determining the result dtypes. To retain the old behavior, exclude the \n",
       "relevant entries before the concat operation.\n",
       "  results = pd.concat([results, normalized_data]) #.dropna(axis=1, how=\"all\")])\n"
      ]
     },
     "metadata": {},
     "output_type": "display_data"
    },
    {
     "data": {
      "text/html": [
       "<pre style=\"white-space:pre;overflow-x:auto;line-height:normal;font-family:Menlo,'DejaVu Sans Mono',consolas,'Courier New',monospace\">/var/folders/7t/k8q3439j6z3c683j7w00wtm80000gn/T/ipykernel_58430/1419766920.py:27: FutureWarning: The behavior of \n",
       "DataFrame concatenation with empty or all-NA entries is deprecated. In a future version, this will no longer \n",
       "exclude empty or all-NA columns when determining the result dtypes. To retain the old behavior, exclude the \n",
       "relevant entries before the concat operation.\n",
       "  results = pd.concat([results, normalized_data]) #.dropna(axis=1, how=\"all\")])\n",
       "</pre>\n"
      ],
      "text/plain": [
       "/var/folders/7t/k8q3439j6z3c683j7w00wtm80000gn/T/ipykernel_58430/1419766920.py:27: FutureWarning: The behavior of \n",
       "DataFrame concatenation with empty or all-NA entries is deprecated. In a future version, this will no longer \n",
       "exclude empty or all-NA columns when determining the result dtypes. To retain the old behavior, exclude the \n",
       "relevant entries before the concat operation.\n",
       "  results = pd.concat([results, normalized_data]) #.dropna(axis=1, how=\"all\")])\n"
      ]
     },
     "metadata": {},
     "output_type": "display_data"
    },
    {
     "data": {
      "text/html": [
       "<pre style=\"white-space:pre;overflow-x:auto;line-height:normal;font-family:Menlo,'DejaVu Sans Mono',consolas,'Courier New',monospace\">/var/folders/7t/k8q3439j6z3c683j7w00wtm80000gn/T/ipykernel_58430/1419766920.py:27: FutureWarning: The behavior of \n",
       "DataFrame concatenation with empty or all-NA entries is deprecated. In a future version, this will no longer \n",
       "exclude empty or all-NA columns when determining the result dtypes. To retain the old behavior, exclude the \n",
       "relevant entries before the concat operation.\n",
       "  results = pd.concat([results, normalized_data]) #.dropna(axis=1, how=\"all\")])\n",
       "</pre>\n"
      ],
      "text/plain": [
       "/var/folders/7t/k8q3439j6z3c683j7w00wtm80000gn/T/ipykernel_58430/1419766920.py:27: FutureWarning: The behavior of \n",
       "DataFrame concatenation with empty or all-NA entries is deprecated. In a future version, this will no longer \n",
       "exclude empty or all-NA columns when determining the result dtypes. To retain the old behavior, exclude the \n",
       "relevant entries before the concat operation.\n",
       "  results = pd.concat([results, normalized_data]) #.dropna(axis=1, how=\"all\")])\n"
      ]
     },
     "metadata": {},
     "output_type": "display_data"
    },
    {
     "data": {
      "text/html": [
       "<pre style=\"white-space:pre;overflow-x:auto;line-height:normal;font-family:Menlo,'DejaVu Sans Mono',consolas,'Courier New',monospace\">/var/folders/7t/k8q3439j6z3c683j7w00wtm80000gn/T/ipykernel_58430/1419766920.py:27: FutureWarning: The behavior of \n",
       "DataFrame concatenation with empty or all-NA entries is deprecated. In a future version, this will no longer \n",
       "exclude empty or all-NA columns when determining the result dtypes. To retain the old behavior, exclude the \n",
       "relevant entries before the concat operation.\n",
       "  results = pd.concat([results, normalized_data]) #.dropna(axis=1, how=\"all\")])\n",
       "</pre>\n"
      ],
      "text/plain": [
       "/var/folders/7t/k8q3439j6z3c683j7w00wtm80000gn/T/ipykernel_58430/1419766920.py:27: FutureWarning: The behavior of \n",
       "DataFrame concatenation with empty or all-NA entries is deprecated. In a future version, this will no longer \n",
       "exclude empty or all-NA columns when determining the result dtypes. To retain the old behavior, exclude the \n",
       "relevant entries before the concat operation.\n",
       "  results = pd.concat([results, normalized_data]) #.dropna(axis=1, how=\"all\")])\n"
      ]
     },
     "metadata": {},
     "output_type": "display_data"
    },
    {
     "data": {
      "text/html": [
       "<pre style=\"white-space:pre;overflow-x:auto;line-height:normal;font-family:Menlo,'DejaVu Sans Mono',consolas,'Courier New',monospace\">/var/folders/7t/k8q3439j6z3c683j7w00wtm80000gn/T/ipykernel_58430/1419766920.py:27: FutureWarning: The behavior of \n",
       "DataFrame concatenation with empty or all-NA entries is deprecated. In a future version, this will no longer \n",
       "exclude empty or all-NA columns when determining the result dtypes. To retain the old behavior, exclude the \n",
       "relevant entries before the concat operation.\n",
       "  results = pd.concat([results, normalized_data]) #.dropna(axis=1, how=\"all\")])\n",
       "</pre>\n"
      ],
      "text/plain": [
       "/var/folders/7t/k8q3439j6z3c683j7w00wtm80000gn/T/ipykernel_58430/1419766920.py:27: FutureWarning: The behavior of \n",
       "DataFrame concatenation with empty or all-NA entries is deprecated. In a future version, this will no longer \n",
       "exclude empty or all-NA columns when determining the result dtypes. To retain the old behavior, exclude the \n",
       "relevant entries before the concat operation.\n",
       "  results = pd.concat([results, normalized_data]) #.dropna(axis=1, how=\"all\")])\n"
      ]
     },
     "metadata": {},
     "output_type": "display_data"
    },
    {
     "data": {
      "text/html": [
       "<pre style=\"white-space:pre;overflow-x:auto;line-height:normal;font-family:Menlo,'DejaVu Sans Mono',consolas,'Courier New',monospace\">/var/folders/7t/k8q3439j6z3c683j7w00wtm80000gn/T/ipykernel_58430/1419766920.py:27: FutureWarning: The behavior of \n",
       "DataFrame concatenation with empty or all-NA entries is deprecated. In a future version, this will no longer \n",
       "exclude empty or all-NA columns when determining the result dtypes. To retain the old behavior, exclude the \n",
       "relevant entries before the concat operation.\n",
       "  results = pd.concat([results, normalized_data]) #.dropna(axis=1, how=\"all\")])\n",
       "</pre>\n"
      ],
      "text/plain": [
       "/var/folders/7t/k8q3439j6z3c683j7w00wtm80000gn/T/ipykernel_58430/1419766920.py:27: FutureWarning: The behavior of \n",
       "DataFrame concatenation with empty or all-NA entries is deprecated. In a future version, this will no longer \n",
       "exclude empty or all-NA columns when determining the result dtypes. To retain the old behavior, exclude the \n",
       "relevant entries before the concat operation.\n",
       "  results = pd.concat([results, normalized_data]) #.dropna(axis=1, how=\"all\")])\n"
      ]
     },
     "metadata": {},
     "output_type": "display_data"
    },
    {
     "data": {
      "text/html": [
       "<pre style=\"white-space:pre;overflow-x:auto;line-height:normal;font-family:Menlo,'DejaVu Sans Mono',consolas,'Courier New',monospace\">/var/folders/7t/k8q3439j6z3c683j7w00wtm80000gn/T/ipykernel_58430/1419766920.py:27: FutureWarning: The behavior of \n",
       "DataFrame concatenation with empty or all-NA entries is deprecated. In a future version, this will no longer \n",
       "exclude empty or all-NA columns when determining the result dtypes. To retain the old behavior, exclude the \n",
       "relevant entries before the concat operation.\n",
       "  results = pd.concat([results, normalized_data]) #.dropna(axis=1, how=\"all\")])\n",
       "</pre>\n"
      ],
      "text/plain": [
       "/var/folders/7t/k8q3439j6z3c683j7w00wtm80000gn/T/ipykernel_58430/1419766920.py:27: FutureWarning: The behavior of \n",
       "DataFrame concatenation with empty or all-NA entries is deprecated. In a future version, this will no longer \n",
       "exclude empty or all-NA columns when determining the result dtypes. To retain the old behavior, exclude the \n",
       "relevant entries before the concat operation.\n",
       "  results = pd.concat([results, normalized_data]) #.dropna(axis=1, how=\"all\")])\n"
      ]
     },
     "metadata": {},
     "output_type": "display_data"
    },
    {
     "data": {
      "text/html": [
       "<pre style=\"white-space:pre;overflow-x:auto;line-height:normal;font-family:Menlo,'DejaVu Sans Mono',consolas,'Courier New',monospace\">/var/folders/7t/k8q3439j6z3c683j7w00wtm80000gn/T/ipykernel_58430/1419766920.py:27: FutureWarning: The behavior of \n",
       "DataFrame concatenation with empty or all-NA entries is deprecated. In a future version, this will no longer \n",
       "exclude empty or all-NA columns when determining the result dtypes. To retain the old behavior, exclude the \n",
       "relevant entries before the concat operation.\n",
       "  results = pd.concat([results, normalized_data]) #.dropna(axis=1, how=\"all\")])\n",
       "</pre>\n"
      ],
      "text/plain": [
       "/var/folders/7t/k8q3439j6z3c683j7w00wtm80000gn/T/ipykernel_58430/1419766920.py:27: FutureWarning: The behavior of \n",
       "DataFrame concatenation with empty or all-NA entries is deprecated. In a future version, this will no longer \n",
       "exclude empty or all-NA columns when determining the result dtypes. To retain the old behavior, exclude the \n",
       "relevant entries before the concat operation.\n",
       "  results = pd.concat([results, normalized_data]) #.dropna(axis=1, how=\"all\")])\n"
      ]
     },
     "metadata": {},
     "output_type": "display_data"
    },
    {
     "data": {
      "text/html": [
       "<pre style=\"white-space:pre;overflow-x:auto;line-height:normal;font-family:Menlo,'DejaVu Sans Mono',consolas,'Courier New',monospace\">/var/folders/7t/k8q3439j6z3c683j7w00wtm80000gn/T/ipykernel_58430/1419766920.py:27: FutureWarning: The behavior of \n",
       "DataFrame concatenation with empty or all-NA entries is deprecated. In a future version, this will no longer \n",
       "exclude empty or all-NA columns when determining the result dtypes. To retain the old behavior, exclude the \n",
       "relevant entries before the concat operation.\n",
       "  results = pd.concat([results, normalized_data]) #.dropna(axis=1, how=\"all\")])\n",
       "</pre>\n"
      ],
      "text/plain": [
       "/var/folders/7t/k8q3439j6z3c683j7w00wtm80000gn/T/ipykernel_58430/1419766920.py:27: FutureWarning: The behavior of \n",
       "DataFrame concatenation with empty or all-NA entries is deprecated. In a future version, this will no longer \n",
       "exclude empty or all-NA columns when determining the result dtypes. To retain the old behavior, exclude the \n",
       "relevant entries before the concat operation.\n",
       "  results = pd.concat([results, normalized_data]) #.dropna(axis=1, how=\"all\")])\n"
      ]
     },
     "metadata": {},
     "output_type": "display_data"
    },
    {
     "data": {
      "text/html": [
       "<pre style=\"white-space:pre;overflow-x:auto;line-height:normal;font-family:Menlo,'DejaVu Sans Mono',consolas,'Courier New',monospace\">/var/folders/7t/k8q3439j6z3c683j7w00wtm80000gn/T/ipykernel_58430/1419766920.py:27: FutureWarning: The behavior of \n",
       "DataFrame concatenation with empty or all-NA entries is deprecated. In a future version, this will no longer \n",
       "exclude empty or all-NA columns when determining the result dtypes. To retain the old behavior, exclude the \n",
       "relevant entries before the concat operation.\n",
       "  results = pd.concat([results, normalized_data]) #.dropna(axis=1, how=\"all\")])\n",
       "</pre>\n"
      ],
      "text/plain": [
       "/var/folders/7t/k8q3439j6z3c683j7w00wtm80000gn/T/ipykernel_58430/1419766920.py:27: FutureWarning: The behavior of \n",
       "DataFrame concatenation with empty or all-NA entries is deprecated. In a future version, this will no longer \n",
       "exclude empty or all-NA columns when determining the result dtypes. To retain the old behavior, exclude the \n",
       "relevant entries before the concat operation.\n",
       "  results = pd.concat([results, normalized_data]) #.dropna(axis=1, how=\"all\")])\n"
      ]
     },
     "metadata": {},
     "output_type": "display_data"
    },
    {
     "data": {
      "text/html": [
       "<pre style=\"white-space:pre;overflow-x:auto;line-height:normal;font-family:Menlo,'DejaVu Sans Mono',consolas,'Courier New',monospace\">/var/folders/7t/k8q3439j6z3c683j7w00wtm80000gn/T/ipykernel_58430/1419766920.py:27: FutureWarning: The behavior of \n",
       "DataFrame concatenation with empty or all-NA entries is deprecated. In a future version, this will no longer \n",
       "exclude empty or all-NA columns when determining the result dtypes. To retain the old behavior, exclude the \n",
       "relevant entries before the concat operation.\n",
       "  results = pd.concat([results, normalized_data]) #.dropna(axis=1, how=\"all\")])\n",
       "</pre>\n"
      ],
      "text/plain": [
       "/var/folders/7t/k8q3439j6z3c683j7w00wtm80000gn/T/ipykernel_58430/1419766920.py:27: FutureWarning: The behavior of \n",
       "DataFrame concatenation with empty or all-NA entries is deprecated. In a future version, this will no longer \n",
       "exclude empty or all-NA columns when determining the result dtypes. To retain the old behavior, exclude the \n",
       "relevant entries before the concat operation.\n",
       "  results = pd.concat([results, normalized_data]) #.dropna(axis=1, how=\"all\")])\n"
      ]
     },
     "metadata": {},
     "output_type": "display_data"
    },
    {
     "data": {
      "text/html": [
       "<pre style=\"white-space:pre;overflow-x:auto;line-height:normal;font-family:Menlo,'DejaVu Sans Mono',consolas,'Courier New',monospace\">/var/folders/7t/k8q3439j6z3c683j7w00wtm80000gn/T/ipykernel_58430/1419766920.py:27: FutureWarning: The behavior of \n",
       "DataFrame concatenation with empty or all-NA entries is deprecated. In a future version, this will no longer \n",
       "exclude empty or all-NA columns when determining the result dtypes. To retain the old behavior, exclude the \n",
       "relevant entries before the concat operation.\n",
       "  results = pd.concat([results, normalized_data]) #.dropna(axis=1, how=\"all\")])\n",
       "</pre>\n"
      ],
      "text/plain": [
       "/var/folders/7t/k8q3439j6z3c683j7w00wtm80000gn/T/ipykernel_58430/1419766920.py:27: FutureWarning: The behavior of \n",
       "DataFrame concatenation with empty or all-NA entries is deprecated. In a future version, this will no longer \n",
       "exclude empty or all-NA columns when determining the result dtypes. To retain the old behavior, exclude the \n",
       "relevant entries before the concat operation.\n",
       "  results = pd.concat([results, normalized_data]) #.dropna(axis=1, how=\"all\")])\n"
      ]
     },
     "metadata": {},
     "output_type": "display_data"
    },
    {
     "data": {
      "text/html": [
       "<pre style=\"white-space:pre;overflow-x:auto;line-height:normal;font-family:Menlo,'DejaVu Sans Mono',consolas,'Courier New',monospace\">/var/folders/7t/k8q3439j6z3c683j7w00wtm80000gn/T/ipykernel_58430/1419766920.py:27: FutureWarning: The behavior of \n",
       "DataFrame concatenation with empty or all-NA entries is deprecated. In a future version, this will no longer \n",
       "exclude empty or all-NA columns when determining the result dtypes. To retain the old behavior, exclude the \n",
       "relevant entries before the concat operation.\n",
       "  results = pd.concat([results, normalized_data]) #.dropna(axis=1, how=\"all\")])\n",
       "</pre>\n"
      ],
      "text/plain": [
       "/var/folders/7t/k8q3439j6z3c683j7w00wtm80000gn/T/ipykernel_58430/1419766920.py:27: FutureWarning: The behavior of \n",
       "DataFrame concatenation with empty or all-NA entries is deprecated. In a future version, this will no longer \n",
       "exclude empty or all-NA columns when determining the result dtypes. To retain the old behavior, exclude the \n",
       "relevant entries before the concat operation.\n",
       "  results = pd.concat([results, normalized_data]) #.dropna(axis=1, how=\"all\")])\n"
      ]
     },
     "metadata": {},
     "output_type": "display_data"
    },
    {
     "data": {
      "text/html": [
       "<pre style=\"white-space:pre;overflow-x:auto;line-height:normal;font-family:Menlo,'DejaVu Sans Mono',consolas,'Courier New',monospace\">/var/folders/7t/k8q3439j6z3c683j7w00wtm80000gn/T/ipykernel_58430/1419766920.py:27: FutureWarning: The behavior of \n",
       "DataFrame concatenation with empty or all-NA entries is deprecated. In a future version, this will no longer \n",
       "exclude empty or all-NA columns when determining the result dtypes. To retain the old behavior, exclude the \n",
       "relevant entries before the concat operation.\n",
       "  results = pd.concat([results, normalized_data]) #.dropna(axis=1, how=\"all\")])\n",
       "</pre>\n"
      ],
      "text/plain": [
       "/var/folders/7t/k8q3439j6z3c683j7w00wtm80000gn/T/ipykernel_58430/1419766920.py:27: FutureWarning: The behavior of \n",
       "DataFrame concatenation with empty or all-NA entries is deprecated. In a future version, this will no longer \n",
       "exclude empty or all-NA columns when determining the result dtypes. To retain the old behavior, exclude the \n",
       "relevant entries before the concat operation.\n",
       "  results = pd.concat([results, normalized_data]) #.dropna(axis=1, how=\"all\")])\n"
      ]
     },
     "metadata": {},
     "output_type": "display_data"
    },
    {
     "data": {
      "text/html": [
       "<pre style=\"white-space:pre;overflow-x:auto;line-height:normal;font-family:Menlo,'DejaVu Sans Mono',consolas,'Courier New',monospace\">/var/folders/7t/k8q3439j6z3c683j7w00wtm80000gn/T/ipykernel_58430/1419766920.py:27: FutureWarning: The behavior of \n",
       "DataFrame concatenation with empty or all-NA entries is deprecated. In a future version, this will no longer \n",
       "exclude empty or all-NA columns when determining the result dtypes. To retain the old behavior, exclude the \n",
       "relevant entries before the concat operation.\n",
       "  results = pd.concat([results, normalized_data]) #.dropna(axis=1, how=\"all\")])\n",
       "</pre>\n"
      ],
      "text/plain": [
       "/var/folders/7t/k8q3439j6z3c683j7w00wtm80000gn/T/ipykernel_58430/1419766920.py:27: FutureWarning: The behavior of \n",
       "DataFrame concatenation with empty or all-NA entries is deprecated. In a future version, this will no longer \n",
       "exclude empty or all-NA columns when determining the result dtypes. To retain the old behavior, exclude the \n",
       "relevant entries before the concat operation.\n",
       "  results = pd.concat([results, normalized_data]) #.dropna(axis=1, how=\"all\")])\n"
      ]
     },
     "metadata": {},
     "output_type": "display_data"
    },
    {
     "data": {
      "text/html": [
       "<pre style=\"white-space:pre;overflow-x:auto;line-height:normal;font-family:Menlo,'DejaVu Sans Mono',consolas,'Courier New',monospace\">/var/folders/7t/k8q3439j6z3c683j7w00wtm80000gn/T/ipykernel_58430/1419766920.py:27: FutureWarning: The behavior of \n",
       "DataFrame concatenation with empty or all-NA entries is deprecated. In a future version, this will no longer \n",
       "exclude empty or all-NA columns when determining the result dtypes. To retain the old behavior, exclude the \n",
       "relevant entries before the concat operation.\n",
       "  results = pd.concat([results, normalized_data]) #.dropna(axis=1, how=\"all\")])\n",
       "</pre>\n"
      ],
      "text/plain": [
       "/var/folders/7t/k8q3439j6z3c683j7w00wtm80000gn/T/ipykernel_58430/1419766920.py:27: FutureWarning: The behavior of \n",
       "DataFrame concatenation with empty or all-NA entries is deprecated. In a future version, this will no longer \n",
       "exclude empty or all-NA columns when determining the result dtypes. To retain the old behavior, exclude the \n",
       "relevant entries before the concat operation.\n",
       "  results = pd.concat([results, normalized_data]) #.dropna(axis=1, how=\"all\")])\n"
      ]
     },
     "metadata": {},
     "output_type": "display_data"
    },
    {
     "data": {
      "text/html": [
       "<pre style=\"white-space:pre;overflow-x:auto;line-height:normal;font-family:Menlo,'DejaVu Sans Mono',consolas,'Courier New',monospace\">/var/folders/7t/k8q3439j6z3c683j7w00wtm80000gn/T/ipykernel_58430/1419766920.py:27: FutureWarning: The behavior of \n",
       "DataFrame concatenation with empty or all-NA entries is deprecated. In a future version, this will no longer \n",
       "exclude empty or all-NA columns when determining the result dtypes. To retain the old behavior, exclude the \n",
       "relevant entries before the concat operation.\n",
       "  results = pd.concat([results, normalized_data]) #.dropna(axis=1, how=\"all\")])\n",
       "</pre>\n"
      ],
      "text/plain": [
       "/var/folders/7t/k8q3439j6z3c683j7w00wtm80000gn/T/ipykernel_58430/1419766920.py:27: FutureWarning: The behavior of \n",
       "DataFrame concatenation with empty or all-NA entries is deprecated. In a future version, this will no longer \n",
       "exclude empty or all-NA columns when determining the result dtypes. To retain the old behavior, exclude the \n",
       "relevant entries before the concat operation.\n",
       "  results = pd.concat([results, normalized_data]) #.dropna(axis=1, how=\"all\")])\n"
      ]
     },
     "metadata": {},
     "output_type": "display_data"
    },
    {
     "data": {
      "text/html": [
       "<pre style=\"white-space:pre;overflow-x:auto;line-height:normal;font-family:Menlo,'DejaVu Sans Mono',consolas,'Courier New',monospace\">/var/folders/7t/k8q3439j6z3c683j7w00wtm80000gn/T/ipykernel_58430/1419766920.py:27: FutureWarning: The behavior of \n",
       "DataFrame concatenation with empty or all-NA entries is deprecated. In a future version, this will no longer \n",
       "exclude empty or all-NA columns when determining the result dtypes. To retain the old behavior, exclude the \n",
       "relevant entries before the concat operation.\n",
       "  results = pd.concat([results, normalized_data]) #.dropna(axis=1, how=\"all\")])\n",
       "</pre>\n"
      ],
      "text/plain": [
       "/var/folders/7t/k8q3439j6z3c683j7w00wtm80000gn/T/ipykernel_58430/1419766920.py:27: FutureWarning: The behavior of \n",
       "DataFrame concatenation with empty or all-NA entries is deprecated. In a future version, this will no longer \n",
       "exclude empty or all-NA columns when determining the result dtypes. To retain the old behavior, exclude the \n",
       "relevant entries before the concat operation.\n",
       "  results = pd.concat([results, normalized_data]) #.dropna(axis=1, how=\"all\")])\n"
      ]
     },
     "metadata": {},
     "output_type": "display_data"
    },
    {
     "data": {
      "text/html": [
       "<pre style=\"white-space:pre;overflow-x:auto;line-height:normal;font-family:Menlo,'DejaVu Sans Mono',consolas,'Courier New',monospace\">/var/folders/7t/k8q3439j6z3c683j7w00wtm80000gn/T/ipykernel_58430/1419766920.py:27: FutureWarning: The behavior of \n",
       "DataFrame concatenation with empty or all-NA entries is deprecated. In a future version, this will no longer \n",
       "exclude empty or all-NA columns when determining the result dtypes. To retain the old behavior, exclude the \n",
       "relevant entries before the concat operation.\n",
       "  results = pd.concat([results, normalized_data]) #.dropna(axis=1, how=\"all\")])\n",
       "</pre>\n"
      ],
      "text/plain": [
       "/var/folders/7t/k8q3439j6z3c683j7w00wtm80000gn/T/ipykernel_58430/1419766920.py:27: FutureWarning: The behavior of \n",
       "DataFrame concatenation with empty or all-NA entries is deprecated. In a future version, this will no longer \n",
       "exclude empty or all-NA columns when determining the result dtypes. To retain the old behavior, exclude the \n",
       "relevant entries before the concat operation.\n",
       "  results = pd.concat([results, normalized_data]) #.dropna(axis=1, how=\"all\")])\n"
      ]
     },
     "metadata": {},
     "output_type": "display_data"
    },
    {
     "data": {
      "text/html": [
       "<pre style=\"white-space:pre;overflow-x:auto;line-height:normal;font-family:Menlo,'DejaVu Sans Mono',consolas,'Courier New',monospace\">/var/folders/7t/k8q3439j6z3c683j7w00wtm80000gn/T/ipykernel_58430/1419766920.py:27: FutureWarning: The behavior of \n",
       "DataFrame concatenation with empty or all-NA entries is deprecated. In a future version, this will no longer \n",
       "exclude empty or all-NA columns when determining the result dtypes. To retain the old behavior, exclude the \n",
       "relevant entries before the concat operation.\n",
       "  results = pd.concat([results, normalized_data]) #.dropna(axis=1, how=\"all\")])\n",
       "</pre>\n"
      ],
      "text/plain": [
       "/var/folders/7t/k8q3439j6z3c683j7w00wtm80000gn/T/ipykernel_58430/1419766920.py:27: FutureWarning: The behavior of \n",
       "DataFrame concatenation with empty or all-NA entries is deprecated. In a future version, this will no longer \n",
       "exclude empty or all-NA columns when determining the result dtypes. To retain the old behavior, exclude the \n",
       "relevant entries before the concat operation.\n",
       "  results = pd.concat([results, normalized_data]) #.dropna(axis=1, how=\"all\")])\n"
      ]
     },
     "metadata": {},
     "output_type": "display_data"
    },
    {
     "data": {
      "text/html": [
       "<pre style=\"white-space:pre;overflow-x:auto;line-height:normal;font-family:Menlo,'DejaVu Sans Mono',consolas,'Courier New',monospace\">/var/folders/7t/k8q3439j6z3c683j7w00wtm80000gn/T/ipykernel_58430/1419766920.py:27: FutureWarning: The behavior of \n",
       "DataFrame concatenation with empty or all-NA entries is deprecated. In a future version, this will no longer \n",
       "exclude empty or all-NA columns when determining the result dtypes. To retain the old behavior, exclude the \n",
       "relevant entries before the concat operation.\n",
       "  results = pd.concat([results, normalized_data]) #.dropna(axis=1, how=\"all\")])\n",
       "</pre>\n"
      ],
      "text/plain": [
       "/var/folders/7t/k8q3439j6z3c683j7w00wtm80000gn/T/ipykernel_58430/1419766920.py:27: FutureWarning: The behavior of \n",
       "DataFrame concatenation with empty or all-NA entries is deprecated. In a future version, this will no longer \n",
       "exclude empty or all-NA columns when determining the result dtypes. To retain the old behavior, exclude the \n",
       "relevant entries before the concat operation.\n",
       "  results = pd.concat([results, normalized_data]) #.dropna(axis=1, how=\"all\")])\n"
      ]
     },
     "metadata": {},
     "output_type": "display_data"
    },
    {
     "data": {
      "text/html": [
       "<pre style=\"white-space:pre;overflow-x:auto;line-height:normal;font-family:Menlo,'DejaVu Sans Mono',consolas,'Courier New',monospace\">/var/folders/7t/k8q3439j6z3c683j7w00wtm80000gn/T/ipykernel_58430/1419766920.py:27: FutureWarning: The behavior of \n",
       "DataFrame concatenation with empty or all-NA entries is deprecated. In a future version, this will no longer \n",
       "exclude empty or all-NA columns when determining the result dtypes. To retain the old behavior, exclude the \n",
       "relevant entries before the concat operation.\n",
       "  results = pd.concat([results, normalized_data]) #.dropna(axis=1, how=\"all\")])\n",
       "</pre>\n"
      ],
      "text/plain": [
       "/var/folders/7t/k8q3439j6z3c683j7w00wtm80000gn/T/ipykernel_58430/1419766920.py:27: FutureWarning: The behavior of \n",
       "DataFrame concatenation with empty or all-NA entries is deprecated. In a future version, this will no longer \n",
       "exclude empty or all-NA columns when determining the result dtypes. To retain the old behavior, exclude the \n",
       "relevant entries before the concat operation.\n",
       "  results = pd.concat([results, normalized_data]) #.dropna(axis=1, how=\"all\")])\n"
      ]
     },
     "metadata": {},
     "output_type": "display_data"
    },
    {
     "data": {
      "text/html": [
       "<pre style=\"white-space:pre;overflow-x:auto;line-height:normal;font-family:Menlo,'DejaVu Sans Mono',consolas,'Courier New',monospace\">/var/folders/7t/k8q3439j6z3c683j7w00wtm80000gn/T/ipykernel_58430/1419766920.py:27: FutureWarning: The behavior of \n",
       "DataFrame concatenation with empty or all-NA entries is deprecated. In a future version, this will no longer \n",
       "exclude empty or all-NA columns when determining the result dtypes. To retain the old behavior, exclude the \n",
       "relevant entries before the concat operation.\n",
       "  results = pd.concat([results, normalized_data]) #.dropna(axis=1, how=\"all\")])\n",
       "</pre>\n"
      ],
      "text/plain": [
       "/var/folders/7t/k8q3439j6z3c683j7w00wtm80000gn/T/ipykernel_58430/1419766920.py:27: FutureWarning: The behavior of \n",
       "DataFrame concatenation with empty or all-NA entries is deprecated. In a future version, this will no longer \n",
       "exclude empty or all-NA columns when determining the result dtypes. To retain the old behavior, exclude the \n",
       "relevant entries before the concat operation.\n",
       "  results = pd.concat([results, normalized_data]) #.dropna(axis=1, how=\"all\")])\n"
      ]
     },
     "metadata": {},
     "output_type": "display_data"
    },
    {
     "data": {
      "text/html": [
       "<pre style=\"white-space:pre;overflow-x:auto;line-height:normal;font-family:Menlo,'DejaVu Sans Mono',consolas,'Courier New',monospace\">/var/folders/7t/k8q3439j6z3c683j7w00wtm80000gn/T/ipykernel_58430/1419766920.py:27: FutureWarning: The behavior of \n",
       "DataFrame concatenation with empty or all-NA entries is deprecated. In a future version, this will no longer \n",
       "exclude empty or all-NA columns when determining the result dtypes. To retain the old behavior, exclude the \n",
       "relevant entries before the concat operation.\n",
       "  results = pd.concat([results, normalized_data]) #.dropna(axis=1, how=\"all\")])\n",
       "</pre>\n"
      ],
      "text/plain": [
       "/var/folders/7t/k8q3439j6z3c683j7w00wtm80000gn/T/ipykernel_58430/1419766920.py:27: FutureWarning: The behavior of \n",
       "DataFrame concatenation with empty or all-NA entries is deprecated. In a future version, this will no longer \n",
       "exclude empty or all-NA columns when determining the result dtypes. To retain the old behavior, exclude the \n",
       "relevant entries before the concat operation.\n",
       "  results = pd.concat([results, normalized_data]) #.dropna(axis=1, how=\"all\")])\n"
      ]
     },
     "metadata": {},
     "output_type": "display_data"
    },
    {
     "data": {
      "text/html": [
       "<pre style=\"white-space:pre;overflow-x:auto;line-height:normal;font-family:Menlo,'DejaVu Sans Mono',consolas,'Courier New',monospace\">/var/folders/7t/k8q3439j6z3c683j7w00wtm80000gn/T/ipykernel_58430/1419766920.py:27: FutureWarning: The behavior of \n",
       "DataFrame concatenation with empty or all-NA entries is deprecated. In a future version, this will no longer \n",
       "exclude empty or all-NA columns when determining the result dtypes. To retain the old behavior, exclude the \n",
       "relevant entries before the concat operation.\n",
       "  results = pd.concat([results, normalized_data]) #.dropna(axis=1, how=\"all\")])\n",
       "</pre>\n"
      ],
      "text/plain": [
       "/var/folders/7t/k8q3439j6z3c683j7w00wtm80000gn/T/ipykernel_58430/1419766920.py:27: FutureWarning: The behavior of \n",
       "DataFrame concatenation with empty or all-NA entries is deprecated. In a future version, this will no longer \n",
       "exclude empty or all-NA columns when determining the result dtypes. To retain the old behavior, exclude the \n",
       "relevant entries before the concat operation.\n",
       "  results = pd.concat([results, normalized_data]) #.dropna(axis=1, how=\"all\")])\n"
      ]
     },
     "metadata": {},
     "output_type": "display_data"
    },
    {
     "data": {
      "text/html": [
       "<pre style=\"white-space:pre;overflow-x:auto;line-height:normal;font-family:Menlo,'DejaVu Sans Mono',consolas,'Courier New',monospace\">/var/folders/7t/k8q3439j6z3c683j7w00wtm80000gn/T/ipykernel_58430/1419766920.py:27: FutureWarning: The behavior of \n",
       "DataFrame concatenation with empty or all-NA entries is deprecated. In a future version, this will no longer \n",
       "exclude empty or all-NA columns when determining the result dtypes. To retain the old behavior, exclude the \n",
       "relevant entries before the concat operation.\n",
       "  results = pd.concat([results, normalized_data]) #.dropna(axis=1, how=\"all\")])\n",
       "</pre>\n"
      ],
      "text/plain": [
       "/var/folders/7t/k8q3439j6z3c683j7w00wtm80000gn/T/ipykernel_58430/1419766920.py:27: FutureWarning: The behavior of \n",
       "DataFrame concatenation with empty or all-NA entries is deprecated. In a future version, this will no longer \n",
       "exclude empty or all-NA columns when determining the result dtypes. To retain the old behavior, exclude the \n",
       "relevant entries before the concat operation.\n",
       "  results = pd.concat([results, normalized_data]) #.dropna(axis=1, how=\"all\")])\n"
      ]
     },
     "metadata": {},
     "output_type": "display_data"
    },
    {
     "data": {
      "text/html": [
       "<pre style=\"white-space:pre;overflow-x:auto;line-height:normal;font-family:Menlo,'DejaVu Sans Mono',consolas,'Courier New',monospace\">/var/folders/7t/k8q3439j6z3c683j7w00wtm80000gn/T/ipykernel_58430/1419766920.py:27: FutureWarning: The behavior of \n",
       "DataFrame concatenation with empty or all-NA entries is deprecated. In a future version, this will no longer \n",
       "exclude empty or all-NA columns when determining the result dtypes. To retain the old behavior, exclude the \n",
       "relevant entries before the concat operation.\n",
       "  results = pd.concat([results, normalized_data]) #.dropna(axis=1, how=\"all\")])\n",
       "</pre>\n"
      ],
      "text/plain": [
       "/var/folders/7t/k8q3439j6z3c683j7w00wtm80000gn/T/ipykernel_58430/1419766920.py:27: FutureWarning: The behavior of \n",
       "DataFrame concatenation with empty or all-NA entries is deprecated. In a future version, this will no longer \n",
       "exclude empty or all-NA columns when determining the result dtypes. To retain the old behavior, exclude the \n",
       "relevant entries before the concat operation.\n",
       "  results = pd.concat([results, normalized_data]) #.dropna(axis=1, how=\"all\")])\n"
      ]
     },
     "metadata": {},
     "output_type": "display_data"
    },
    {
     "data": {
      "text/html": [
       "<pre style=\"white-space:pre;overflow-x:auto;line-height:normal;font-family:Menlo,'DejaVu Sans Mono',consolas,'Courier New',monospace\">/var/folders/7t/k8q3439j6z3c683j7w00wtm80000gn/T/ipykernel_58430/1419766920.py:27: FutureWarning: The behavior of \n",
       "DataFrame concatenation with empty or all-NA entries is deprecated. In a future version, this will no longer \n",
       "exclude empty or all-NA columns when determining the result dtypes. To retain the old behavior, exclude the \n",
       "relevant entries before the concat operation.\n",
       "  results = pd.concat([results, normalized_data]) #.dropna(axis=1, how=\"all\")])\n",
       "</pre>\n"
      ],
      "text/plain": [
       "/var/folders/7t/k8q3439j6z3c683j7w00wtm80000gn/T/ipykernel_58430/1419766920.py:27: FutureWarning: The behavior of \n",
       "DataFrame concatenation with empty or all-NA entries is deprecated. In a future version, this will no longer \n",
       "exclude empty or all-NA columns when determining the result dtypes. To retain the old behavior, exclude the \n",
       "relevant entries before the concat operation.\n",
       "  results = pd.concat([results, normalized_data]) #.dropna(axis=1, how=\"all\")])\n"
      ]
     },
     "metadata": {},
     "output_type": "display_data"
    },
    {
     "data": {
      "text/html": [
       "<pre style=\"white-space:pre;overflow-x:auto;line-height:normal;font-family:Menlo,'DejaVu Sans Mono',consolas,'Courier New',monospace\">/var/folders/7t/k8q3439j6z3c683j7w00wtm80000gn/T/ipykernel_58430/1419766920.py:27: FutureWarning: The behavior of \n",
       "DataFrame concatenation with empty or all-NA entries is deprecated. In a future version, this will no longer \n",
       "exclude empty or all-NA columns when determining the result dtypes. To retain the old behavior, exclude the \n",
       "relevant entries before the concat operation.\n",
       "  results = pd.concat([results, normalized_data]) #.dropna(axis=1, how=\"all\")])\n",
       "</pre>\n"
      ],
      "text/plain": [
       "/var/folders/7t/k8q3439j6z3c683j7w00wtm80000gn/T/ipykernel_58430/1419766920.py:27: FutureWarning: The behavior of \n",
       "DataFrame concatenation with empty or all-NA entries is deprecated. In a future version, this will no longer \n",
       "exclude empty or all-NA columns when determining the result dtypes. To retain the old behavior, exclude the \n",
       "relevant entries before the concat operation.\n",
       "  results = pd.concat([results, normalized_data]) #.dropna(axis=1, how=\"all\")])\n"
      ]
     },
     "metadata": {},
     "output_type": "display_data"
    },
    {
     "data": {
      "text/html": [
       "<pre style=\"white-space:pre;overflow-x:auto;line-height:normal;font-family:Menlo,'DejaVu Sans Mono',consolas,'Courier New',monospace\">/var/folders/7t/k8q3439j6z3c683j7w00wtm80000gn/T/ipykernel_58430/1419766920.py:27: FutureWarning: The behavior of \n",
       "DataFrame concatenation with empty or all-NA entries is deprecated. In a future version, this will no longer \n",
       "exclude empty or all-NA columns when determining the result dtypes. To retain the old behavior, exclude the \n",
       "relevant entries before the concat operation.\n",
       "  results = pd.concat([results, normalized_data]) #.dropna(axis=1, how=\"all\")])\n",
       "</pre>\n"
      ],
      "text/plain": [
       "/var/folders/7t/k8q3439j6z3c683j7w00wtm80000gn/T/ipykernel_58430/1419766920.py:27: FutureWarning: The behavior of \n",
       "DataFrame concatenation with empty or all-NA entries is deprecated. In a future version, this will no longer \n",
       "exclude empty or all-NA columns when determining the result dtypes. To retain the old behavior, exclude the \n",
       "relevant entries before the concat operation.\n",
       "  results = pd.concat([results, normalized_data]) #.dropna(axis=1, how=\"all\")])\n"
      ]
     },
     "metadata": {},
     "output_type": "display_data"
    },
    {
     "data": {
      "text/html": [
       "<pre style=\"white-space:pre;overflow-x:auto;line-height:normal;font-family:Menlo,'DejaVu Sans Mono',consolas,'Courier New',monospace\">/var/folders/7t/k8q3439j6z3c683j7w00wtm80000gn/T/ipykernel_58430/1419766920.py:27: FutureWarning: The behavior of \n",
       "DataFrame concatenation with empty or all-NA entries is deprecated. In a future version, this will no longer \n",
       "exclude empty or all-NA columns when determining the result dtypes. To retain the old behavior, exclude the \n",
       "relevant entries before the concat operation.\n",
       "  results = pd.concat([results, normalized_data]) #.dropna(axis=1, how=\"all\")])\n",
       "</pre>\n"
      ],
      "text/plain": [
       "/var/folders/7t/k8q3439j6z3c683j7w00wtm80000gn/T/ipykernel_58430/1419766920.py:27: FutureWarning: The behavior of \n",
       "DataFrame concatenation with empty or all-NA entries is deprecated. In a future version, this will no longer \n",
       "exclude empty or all-NA columns when determining the result dtypes. To retain the old behavior, exclude the \n",
       "relevant entries before the concat operation.\n",
       "  results = pd.concat([results, normalized_data]) #.dropna(axis=1, how=\"all\")])\n"
      ]
     },
     "metadata": {},
     "output_type": "display_data"
    },
    {
     "data": {
      "text/html": [
       "<pre style=\"white-space:pre;overflow-x:auto;line-height:normal;font-family:Menlo,'DejaVu Sans Mono',consolas,'Courier New',monospace\">/var/folders/7t/k8q3439j6z3c683j7w00wtm80000gn/T/ipykernel_58430/1419766920.py:27: FutureWarning: The behavior of \n",
       "DataFrame concatenation with empty or all-NA entries is deprecated. In a future version, this will no longer \n",
       "exclude empty or all-NA columns when determining the result dtypes. To retain the old behavior, exclude the \n",
       "relevant entries before the concat operation.\n",
       "  results = pd.concat([results, normalized_data]) #.dropna(axis=1, how=\"all\")])\n",
       "</pre>\n"
      ],
      "text/plain": [
       "/var/folders/7t/k8q3439j6z3c683j7w00wtm80000gn/T/ipykernel_58430/1419766920.py:27: FutureWarning: The behavior of \n",
       "DataFrame concatenation with empty or all-NA entries is deprecated. In a future version, this will no longer \n",
       "exclude empty or all-NA columns when determining the result dtypes. To retain the old behavior, exclude the \n",
       "relevant entries before the concat operation.\n",
       "  results = pd.concat([results, normalized_data]) #.dropna(axis=1, how=\"all\")])\n"
      ]
     },
     "metadata": {},
     "output_type": "display_data"
    },
    {
     "data": {
      "text/html": [
       "<pre style=\"white-space:pre;overflow-x:auto;line-height:normal;font-family:Menlo,'DejaVu Sans Mono',consolas,'Courier New',monospace\">/var/folders/7t/k8q3439j6z3c683j7w00wtm80000gn/T/ipykernel_58430/1419766920.py:27: FutureWarning: The behavior of \n",
       "DataFrame concatenation with empty or all-NA entries is deprecated. In a future version, this will no longer \n",
       "exclude empty or all-NA columns when determining the result dtypes. To retain the old behavior, exclude the \n",
       "relevant entries before the concat operation.\n",
       "  results = pd.concat([results, normalized_data]) #.dropna(axis=1, how=\"all\")])\n",
       "</pre>\n"
      ],
      "text/plain": [
       "/var/folders/7t/k8q3439j6z3c683j7w00wtm80000gn/T/ipykernel_58430/1419766920.py:27: FutureWarning: The behavior of \n",
       "DataFrame concatenation with empty or all-NA entries is deprecated. In a future version, this will no longer \n",
       "exclude empty or all-NA columns when determining the result dtypes. To retain the old behavior, exclude the \n",
       "relevant entries before the concat operation.\n",
       "  results = pd.concat([results, normalized_data]) #.dropna(axis=1, how=\"all\")])\n"
      ]
     },
     "metadata": {},
     "output_type": "display_data"
    },
    {
     "data": {
      "text/html": [
       "<pre style=\"white-space:pre;overflow-x:auto;line-height:normal;font-family:Menlo,'DejaVu Sans Mono',consolas,'Courier New',monospace\">/var/folders/7t/k8q3439j6z3c683j7w00wtm80000gn/T/ipykernel_58430/1419766920.py:27: FutureWarning: The behavior of \n",
       "DataFrame concatenation with empty or all-NA entries is deprecated. In a future version, this will no longer \n",
       "exclude empty or all-NA columns when determining the result dtypes. To retain the old behavior, exclude the \n",
       "relevant entries before the concat operation.\n",
       "  results = pd.concat([results, normalized_data]) #.dropna(axis=1, how=\"all\")])\n",
       "</pre>\n"
      ],
      "text/plain": [
       "/var/folders/7t/k8q3439j6z3c683j7w00wtm80000gn/T/ipykernel_58430/1419766920.py:27: FutureWarning: The behavior of \n",
       "DataFrame concatenation with empty or all-NA entries is deprecated. In a future version, this will no longer \n",
       "exclude empty or all-NA columns when determining the result dtypes. To retain the old behavior, exclude the \n",
       "relevant entries before the concat operation.\n",
       "  results = pd.concat([results, normalized_data]) #.dropna(axis=1, how=\"all\")])\n"
      ]
     },
     "metadata": {},
     "output_type": "display_data"
    },
    {
     "data": {
      "text/html": [
       "<pre style=\"white-space:pre;overflow-x:auto;line-height:normal;font-family:Menlo,'DejaVu Sans Mono',consolas,'Courier New',monospace\">/var/folders/7t/k8q3439j6z3c683j7w00wtm80000gn/T/ipykernel_58430/1419766920.py:27: FutureWarning: The behavior of \n",
       "DataFrame concatenation with empty or all-NA entries is deprecated. In a future version, this will no longer \n",
       "exclude empty or all-NA columns when determining the result dtypes. To retain the old behavior, exclude the \n",
       "relevant entries before the concat operation.\n",
       "  results = pd.concat([results, normalized_data]) #.dropna(axis=1, how=\"all\")])\n",
       "</pre>\n"
      ],
      "text/plain": [
       "/var/folders/7t/k8q3439j6z3c683j7w00wtm80000gn/T/ipykernel_58430/1419766920.py:27: FutureWarning: The behavior of \n",
       "DataFrame concatenation with empty or all-NA entries is deprecated. In a future version, this will no longer \n",
       "exclude empty or all-NA columns when determining the result dtypes. To retain the old behavior, exclude the \n",
       "relevant entries before the concat operation.\n",
       "  results = pd.concat([results, normalized_data]) #.dropna(axis=1, how=\"all\")])\n"
      ]
     },
     "metadata": {},
     "output_type": "display_data"
    },
    {
     "data": {
      "text/html": [
       "<pre style=\"white-space:pre;overflow-x:auto;line-height:normal;font-family:Menlo,'DejaVu Sans Mono',consolas,'Courier New',monospace\">/var/folders/7t/k8q3439j6z3c683j7w00wtm80000gn/T/ipykernel_58430/1419766920.py:27: FutureWarning: The behavior of \n",
       "DataFrame concatenation with empty or all-NA entries is deprecated. In a future version, this will no longer \n",
       "exclude empty or all-NA columns when determining the result dtypes. To retain the old behavior, exclude the \n",
       "relevant entries before the concat operation.\n",
       "  results = pd.concat([results, normalized_data]) #.dropna(axis=1, how=\"all\")])\n",
       "</pre>\n"
      ],
      "text/plain": [
       "/var/folders/7t/k8q3439j6z3c683j7w00wtm80000gn/T/ipykernel_58430/1419766920.py:27: FutureWarning: The behavior of \n",
       "DataFrame concatenation with empty or all-NA entries is deprecated. In a future version, this will no longer \n",
       "exclude empty or all-NA columns when determining the result dtypes. To retain the old behavior, exclude the \n",
       "relevant entries before the concat operation.\n",
       "  results = pd.concat([results, normalized_data]) #.dropna(axis=1, how=\"all\")])\n"
      ]
     },
     "metadata": {},
     "output_type": "display_data"
    },
    {
     "data": {
      "text/html": [
       "<pre style=\"white-space:pre;overflow-x:auto;line-height:normal;font-family:Menlo,'DejaVu Sans Mono',consolas,'Courier New',monospace\">/var/folders/7t/k8q3439j6z3c683j7w00wtm80000gn/T/ipykernel_58430/1419766920.py:27: FutureWarning: The behavior of \n",
       "DataFrame concatenation with empty or all-NA entries is deprecated. In a future version, this will no longer \n",
       "exclude empty or all-NA columns when determining the result dtypes. To retain the old behavior, exclude the \n",
       "relevant entries before the concat operation.\n",
       "  results = pd.concat([results, normalized_data]) #.dropna(axis=1, how=\"all\")])\n",
       "</pre>\n"
      ],
      "text/plain": [
       "/var/folders/7t/k8q3439j6z3c683j7w00wtm80000gn/T/ipykernel_58430/1419766920.py:27: FutureWarning: The behavior of \n",
       "DataFrame concatenation with empty or all-NA entries is deprecated. In a future version, this will no longer \n",
       "exclude empty or all-NA columns when determining the result dtypes. To retain the old behavior, exclude the \n",
       "relevant entries before the concat operation.\n",
       "  results = pd.concat([results, normalized_data]) #.dropna(axis=1, how=\"all\")])\n"
      ]
     },
     "metadata": {},
     "output_type": "display_data"
    },
    {
     "data": {
      "text/html": [
       "<pre style=\"white-space:pre;overflow-x:auto;line-height:normal;font-family:Menlo,'DejaVu Sans Mono',consolas,'Courier New',monospace\">/var/folders/7t/k8q3439j6z3c683j7w00wtm80000gn/T/ipykernel_58430/1419766920.py:27: FutureWarning: The behavior of \n",
       "DataFrame concatenation with empty or all-NA entries is deprecated. In a future version, this will no longer \n",
       "exclude empty or all-NA columns when determining the result dtypes. To retain the old behavior, exclude the \n",
       "relevant entries before the concat operation.\n",
       "  results = pd.concat([results, normalized_data]) #.dropna(axis=1, how=\"all\")])\n",
       "</pre>\n"
      ],
      "text/plain": [
       "/var/folders/7t/k8q3439j6z3c683j7w00wtm80000gn/T/ipykernel_58430/1419766920.py:27: FutureWarning: The behavior of \n",
       "DataFrame concatenation with empty or all-NA entries is deprecated. In a future version, this will no longer \n",
       "exclude empty or all-NA columns when determining the result dtypes. To retain the old behavior, exclude the \n",
       "relevant entries before the concat operation.\n",
       "  results = pd.concat([results, normalized_data]) #.dropna(axis=1, how=\"all\")])\n"
      ]
     },
     "metadata": {},
     "output_type": "display_data"
    },
    {
     "data": {
      "text/html": [
       "<pre style=\"white-space:pre;overflow-x:auto;line-height:normal;font-family:Menlo,'DejaVu Sans Mono',consolas,'Courier New',monospace\">/var/folders/7t/k8q3439j6z3c683j7w00wtm80000gn/T/ipykernel_58430/1419766920.py:27: FutureWarning: The behavior of \n",
       "DataFrame concatenation with empty or all-NA entries is deprecated. In a future version, this will no longer \n",
       "exclude empty or all-NA columns when determining the result dtypes. To retain the old behavior, exclude the \n",
       "relevant entries before the concat operation.\n",
       "  results = pd.concat([results, normalized_data]) #.dropna(axis=1, how=\"all\")])\n",
       "</pre>\n"
      ],
      "text/plain": [
       "/var/folders/7t/k8q3439j6z3c683j7w00wtm80000gn/T/ipykernel_58430/1419766920.py:27: FutureWarning: The behavior of \n",
       "DataFrame concatenation with empty or all-NA entries is deprecated. In a future version, this will no longer \n",
       "exclude empty or all-NA columns when determining the result dtypes. To retain the old behavior, exclude the \n",
       "relevant entries before the concat operation.\n",
       "  results = pd.concat([results, normalized_data]) #.dropna(axis=1, how=\"all\")])\n"
      ]
     },
     "metadata": {},
     "output_type": "display_data"
    },
    {
     "data": {
      "text/html": [
       "<pre style=\"white-space:pre;overflow-x:auto;line-height:normal;font-family:Menlo,'DejaVu Sans Mono',consolas,'Courier New',monospace\">/var/folders/7t/k8q3439j6z3c683j7w00wtm80000gn/T/ipykernel_58430/1419766920.py:27: FutureWarning: The behavior of \n",
       "DataFrame concatenation with empty or all-NA entries is deprecated. In a future version, this will no longer \n",
       "exclude empty or all-NA columns when determining the result dtypes. To retain the old behavior, exclude the \n",
       "relevant entries before the concat operation.\n",
       "  results = pd.concat([results, normalized_data]) #.dropna(axis=1, how=\"all\")])\n",
       "</pre>\n"
      ],
      "text/plain": [
       "/var/folders/7t/k8q3439j6z3c683j7w00wtm80000gn/T/ipykernel_58430/1419766920.py:27: FutureWarning: The behavior of \n",
       "DataFrame concatenation with empty or all-NA entries is deprecated. In a future version, this will no longer \n",
       "exclude empty or all-NA columns when determining the result dtypes. To retain the old behavior, exclude the \n",
       "relevant entries before the concat operation.\n",
       "  results = pd.concat([results, normalized_data]) #.dropna(axis=1, how=\"all\")])\n"
      ]
     },
     "metadata": {},
     "output_type": "display_data"
    },
    {
     "data": {
      "text/html": [
       "<pre style=\"white-space:pre;overflow-x:auto;line-height:normal;font-family:Menlo,'DejaVu Sans Mono',consolas,'Courier New',monospace\">/var/folders/7t/k8q3439j6z3c683j7w00wtm80000gn/T/ipykernel_58430/1419766920.py:27: FutureWarning: The behavior of \n",
       "DataFrame concatenation with empty or all-NA entries is deprecated. In a future version, this will no longer \n",
       "exclude empty or all-NA columns when determining the result dtypes. To retain the old behavior, exclude the \n",
       "relevant entries before the concat operation.\n",
       "  results = pd.concat([results, normalized_data]) #.dropna(axis=1, how=\"all\")])\n",
       "</pre>\n"
      ],
      "text/plain": [
       "/var/folders/7t/k8q3439j6z3c683j7w00wtm80000gn/T/ipykernel_58430/1419766920.py:27: FutureWarning: The behavior of \n",
       "DataFrame concatenation with empty or all-NA entries is deprecated. In a future version, this will no longer \n",
       "exclude empty or all-NA columns when determining the result dtypes. To retain the old behavior, exclude the \n",
       "relevant entries before the concat operation.\n",
       "  results = pd.concat([results, normalized_data]) #.dropna(axis=1, how=\"all\")])\n"
      ]
     },
     "metadata": {},
     "output_type": "display_data"
    },
    {
     "data": {
      "text/html": [
       "<pre style=\"white-space:pre;overflow-x:auto;line-height:normal;font-family:Menlo,'DejaVu Sans Mono',consolas,'Courier New',monospace\">/var/folders/7t/k8q3439j6z3c683j7w00wtm80000gn/T/ipykernel_58430/1419766920.py:27: FutureWarning: The behavior of \n",
       "DataFrame concatenation with empty or all-NA entries is deprecated. In a future version, this will no longer \n",
       "exclude empty or all-NA columns when determining the result dtypes. To retain the old behavior, exclude the \n",
       "relevant entries before the concat operation.\n",
       "  results = pd.concat([results, normalized_data]) #.dropna(axis=1, how=\"all\")])\n",
       "</pre>\n"
      ],
      "text/plain": [
       "/var/folders/7t/k8q3439j6z3c683j7w00wtm80000gn/T/ipykernel_58430/1419766920.py:27: FutureWarning: The behavior of \n",
       "DataFrame concatenation with empty or all-NA entries is deprecated. In a future version, this will no longer \n",
       "exclude empty or all-NA columns when determining the result dtypes. To retain the old behavior, exclude the \n",
       "relevant entries before the concat operation.\n",
       "  results = pd.concat([results, normalized_data]) #.dropna(axis=1, how=\"all\")])\n"
      ]
     },
     "metadata": {},
     "output_type": "display_data"
    },
    {
     "data": {
      "text/html": [
       "<pre style=\"white-space:pre;overflow-x:auto;line-height:normal;font-family:Menlo,'DejaVu Sans Mono',consolas,'Courier New',monospace\">/var/folders/7t/k8q3439j6z3c683j7w00wtm80000gn/T/ipykernel_58430/1419766920.py:27: FutureWarning: The behavior of \n",
       "DataFrame concatenation with empty or all-NA entries is deprecated. In a future version, this will no longer \n",
       "exclude empty or all-NA columns when determining the result dtypes. To retain the old behavior, exclude the \n",
       "relevant entries before the concat operation.\n",
       "  results = pd.concat([results, normalized_data]) #.dropna(axis=1, how=\"all\")])\n",
       "</pre>\n"
      ],
      "text/plain": [
       "/var/folders/7t/k8q3439j6z3c683j7w00wtm80000gn/T/ipykernel_58430/1419766920.py:27: FutureWarning: The behavior of \n",
       "DataFrame concatenation with empty or all-NA entries is deprecated. In a future version, this will no longer \n",
       "exclude empty or all-NA columns when determining the result dtypes. To retain the old behavior, exclude the \n",
       "relevant entries before the concat operation.\n",
       "  results = pd.concat([results, normalized_data]) #.dropna(axis=1, how=\"all\")])\n"
      ]
     },
     "metadata": {},
     "output_type": "display_data"
    },
    {
     "data": {
      "text/html": [
       "<pre style=\"white-space:pre;overflow-x:auto;line-height:normal;font-family:Menlo,'DejaVu Sans Mono',consolas,'Courier New',monospace\">/var/folders/7t/k8q3439j6z3c683j7w00wtm80000gn/T/ipykernel_58430/1419766920.py:27: FutureWarning: The behavior of \n",
       "DataFrame concatenation with empty or all-NA entries is deprecated. In a future version, this will no longer \n",
       "exclude empty or all-NA columns when determining the result dtypes. To retain the old behavior, exclude the \n",
       "relevant entries before the concat operation.\n",
       "  results = pd.concat([results, normalized_data]) #.dropna(axis=1, how=\"all\")])\n",
       "</pre>\n"
      ],
      "text/plain": [
       "/var/folders/7t/k8q3439j6z3c683j7w00wtm80000gn/T/ipykernel_58430/1419766920.py:27: FutureWarning: The behavior of \n",
       "DataFrame concatenation with empty or all-NA entries is deprecated. In a future version, this will no longer \n",
       "exclude empty or all-NA columns when determining the result dtypes. To retain the old behavior, exclude the \n",
       "relevant entries before the concat operation.\n",
       "  results = pd.concat([results, normalized_data]) #.dropna(axis=1, how=\"all\")])\n"
      ]
     },
     "metadata": {},
     "output_type": "display_data"
    },
    {
     "data": {
      "text/html": [
       "<pre style=\"white-space:pre;overflow-x:auto;line-height:normal;font-family:Menlo,'DejaVu Sans Mono',consolas,'Courier New',monospace\">/var/folders/7t/k8q3439j6z3c683j7w00wtm80000gn/T/ipykernel_58430/1419766920.py:27: FutureWarning: The behavior of \n",
       "DataFrame concatenation with empty or all-NA entries is deprecated. In a future version, this will no longer \n",
       "exclude empty or all-NA columns when determining the result dtypes. To retain the old behavior, exclude the \n",
       "relevant entries before the concat operation.\n",
       "  results = pd.concat([results, normalized_data]) #.dropna(axis=1, how=\"all\")])\n",
       "</pre>\n"
      ],
      "text/plain": [
       "/var/folders/7t/k8q3439j6z3c683j7w00wtm80000gn/T/ipykernel_58430/1419766920.py:27: FutureWarning: The behavior of \n",
       "DataFrame concatenation with empty or all-NA entries is deprecated. In a future version, this will no longer \n",
       "exclude empty or all-NA columns when determining the result dtypes. To retain the old behavior, exclude the \n",
       "relevant entries before the concat operation.\n",
       "  results = pd.concat([results, normalized_data]) #.dropna(axis=1, how=\"all\")])\n"
      ]
     },
     "metadata": {},
     "output_type": "display_data"
    },
    {
     "data": {
      "text/html": [
       "<pre style=\"white-space:pre;overflow-x:auto;line-height:normal;font-family:Menlo,'DejaVu Sans Mono',consolas,'Courier New',monospace\">/var/folders/7t/k8q3439j6z3c683j7w00wtm80000gn/T/ipykernel_58430/1419766920.py:27: FutureWarning: The behavior of \n",
       "DataFrame concatenation with empty or all-NA entries is deprecated. In a future version, this will no longer \n",
       "exclude empty or all-NA columns when determining the result dtypes. To retain the old behavior, exclude the \n",
       "relevant entries before the concat operation.\n",
       "  results = pd.concat([results, normalized_data]) #.dropna(axis=1, how=\"all\")])\n",
       "</pre>\n"
      ],
      "text/plain": [
       "/var/folders/7t/k8q3439j6z3c683j7w00wtm80000gn/T/ipykernel_58430/1419766920.py:27: FutureWarning: The behavior of \n",
       "DataFrame concatenation with empty or all-NA entries is deprecated. In a future version, this will no longer \n",
       "exclude empty or all-NA columns when determining the result dtypes. To retain the old behavior, exclude the \n",
       "relevant entries before the concat operation.\n",
       "  results = pd.concat([results, normalized_data]) #.dropna(axis=1, how=\"all\")])\n"
      ]
     },
     "metadata": {},
     "output_type": "display_data"
    },
    {
     "data": {
      "text/html": [
       "<pre style=\"white-space:pre;overflow-x:auto;line-height:normal;font-family:Menlo,'DejaVu Sans Mono',consolas,'Courier New',monospace\">/var/folders/7t/k8q3439j6z3c683j7w00wtm80000gn/T/ipykernel_58430/1419766920.py:27: FutureWarning: The behavior of \n",
       "DataFrame concatenation with empty or all-NA entries is deprecated. In a future version, this will no longer \n",
       "exclude empty or all-NA columns when determining the result dtypes. To retain the old behavior, exclude the \n",
       "relevant entries before the concat operation.\n",
       "  results = pd.concat([results, normalized_data]) #.dropna(axis=1, how=\"all\")])\n",
       "</pre>\n"
      ],
      "text/plain": [
       "/var/folders/7t/k8q3439j6z3c683j7w00wtm80000gn/T/ipykernel_58430/1419766920.py:27: FutureWarning: The behavior of \n",
       "DataFrame concatenation with empty or all-NA entries is deprecated. In a future version, this will no longer \n",
       "exclude empty or all-NA columns when determining the result dtypes. To retain the old behavior, exclude the \n",
       "relevant entries before the concat operation.\n",
       "  results = pd.concat([results, normalized_data]) #.dropna(axis=1, how=\"all\")])\n"
      ]
     },
     "metadata": {},
     "output_type": "display_data"
    },
    {
     "data": {
      "text/html": [
       "<pre style=\"white-space:pre;overflow-x:auto;line-height:normal;font-family:Menlo,'DejaVu Sans Mono',consolas,'Courier New',monospace\">/var/folders/7t/k8q3439j6z3c683j7w00wtm80000gn/T/ipykernel_58430/1419766920.py:27: FutureWarning: The behavior of \n",
       "DataFrame concatenation with empty or all-NA entries is deprecated. In a future version, this will no longer \n",
       "exclude empty or all-NA columns when determining the result dtypes. To retain the old behavior, exclude the \n",
       "relevant entries before the concat operation.\n",
       "  results = pd.concat([results, normalized_data]) #.dropna(axis=1, how=\"all\")])\n",
       "</pre>\n"
      ],
      "text/plain": [
       "/var/folders/7t/k8q3439j6z3c683j7w00wtm80000gn/T/ipykernel_58430/1419766920.py:27: FutureWarning: The behavior of \n",
       "DataFrame concatenation with empty or all-NA entries is deprecated. In a future version, this will no longer \n",
       "exclude empty or all-NA columns when determining the result dtypes. To retain the old behavior, exclude the \n",
       "relevant entries before the concat operation.\n",
       "  results = pd.concat([results, normalized_data]) #.dropna(axis=1, how=\"all\")])\n"
      ]
     },
     "metadata": {},
     "output_type": "display_data"
    },
    {
     "data": {
      "text/html": [
       "<pre style=\"white-space:pre;overflow-x:auto;line-height:normal;font-family:Menlo,'DejaVu Sans Mono',consolas,'Courier New',monospace\">/var/folders/7t/k8q3439j6z3c683j7w00wtm80000gn/T/ipykernel_58430/1419766920.py:27: FutureWarning: The behavior of \n",
       "DataFrame concatenation with empty or all-NA entries is deprecated. In a future version, this will no longer \n",
       "exclude empty or all-NA columns when determining the result dtypes. To retain the old behavior, exclude the \n",
       "relevant entries before the concat operation.\n",
       "  results = pd.concat([results, normalized_data]) #.dropna(axis=1, how=\"all\")])\n",
       "</pre>\n"
      ],
      "text/plain": [
       "/var/folders/7t/k8q3439j6z3c683j7w00wtm80000gn/T/ipykernel_58430/1419766920.py:27: FutureWarning: The behavior of \n",
       "DataFrame concatenation with empty or all-NA entries is deprecated. In a future version, this will no longer \n",
       "exclude empty or all-NA columns when determining the result dtypes. To retain the old behavior, exclude the \n",
       "relevant entries before the concat operation.\n",
       "  results = pd.concat([results, normalized_data]) #.dropna(axis=1, how=\"all\")])\n"
      ]
     },
     "metadata": {},
     "output_type": "display_data"
    },
    {
     "data": {
      "text/html": [
       "<pre style=\"white-space:pre;overflow-x:auto;line-height:normal;font-family:Menlo,'DejaVu Sans Mono',consolas,'Courier New',monospace\">/var/folders/7t/k8q3439j6z3c683j7w00wtm80000gn/T/ipykernel_58430/1419766920.py:27: FutureWarning: The behavior of \n",
       "DataFrame concatenation with empty or all-NA entries is deprecated. In a future version, this will no longer \n",
       "exclude empty or all-NA columns when determining the result dtypes. To retain the old behavior, exclude the \n",
       "relevant entries before the concat operation.\n",
       "  results = pd.concat([results, normalized_data]) #.dropna(axis=1, how=\"all\")])\n",
       "</pre>\n"
      ],
      "text/plain": [
       "/var/folders/7t/k8q3439j6z3c683j7w00wtm80000gn/T/ipykernel_58430/1419766920.py:27: FutureWarning: The behavior of \n",
       "DataFrame concatenation with empty or all-NA entries is deprecated. In a future version, this will no longer \n",
       "exclude empty or all-NA columns when determining the result dtypes. To retain the old behavior, exclude the \n",
       "relevant entries before the concat operation.\n",
       "  results = pd.concat([results, normalized_data]) #.dropna(axis=1, how=\"all\")])\n"
      ]
     },
     "metadata": {},
     "output_type": "display_data"
    },
    {
     "data": {
      "text/html": [
       "<pre style=\"white-space:pre;overflow-x:auto;line-height:normal;font-family:Menlo,'DejaVu Sans Mono',consolas,'Courier New',monospace\">/var/folders/7t/k8q3439j6z3c683j7w00wtm80000gn/T/ipykernel_58430/1419766920.py:27: FutureWarning: The behavior of \n",
       "DataFrame concatenation with empty or all-NA entries is deprecated. In a future version, this will no longer \n",
       "exclude empty or all-NA columns when determining the result dtypes. To retain the old behavior, exclude the \n",
       "relevant entries before the concat operation.\n",
       "  results = pd.concat([results, normalized_data]) #.dropna(axis=1, how=\"all\")])\n",
       "</pre>\n"
      ],
      "text/plain": [
       "/var/folders/7t/k8q3439j6z3c683j7w00wtm80000gn/T/ipykernel_58430/1419766920.py:27: FutureWarning: The behavior of \n",
       "DataFrame concatenation with empty or all-NA entries is deprecated. In a future version, this will no longer \n",
       "exclude empty or all-NA columns when determining the result dtypes. To retain the old behavior, exclude the \n",
       "relevant entries before the concat operation.\n",
       "  results = pd.concat([results, normalized_data]) #.dropna(axis=1, how=\"all\")])\n"
      ]
     },
     "metadata": {},
     "output_type": "display_data"
    },
    {
     "data": {
      "text/html": [
       "<pre style=\"white-space:pre;overflow-x:auto;line-height:normal;font-family:Menlo,'DejaVu Sans Mono',consolas,'Courier New',monospace\">/var/folders/7t/k8q3439j6z3c683j7w00wtm80000gn/T/ipykernel_58430/1419766920.py:27: FutureWarning: The behavior of \n",
       "DataFrame concatenation with empty or all-NA entries is deprecated. In a future version, this will no longer \n",
       "exclude empty or all-NA columns when determining the result dtypes. To retain the old behavior, exclude the \n",
       "relevant entries before the concat operation.\n",
       "  results = pd.concat([results, normalized_data]) #.dropna(axis=1, how=\"all\")])\n",
       "</pre>\n"
      ],
      "text/plain": [
       "/var/folders/7t/k8q3439j6z3c683j7w00wtm80000gn/T/ipykernel_58430/1419766920.py:27: FutureWarning: The behavior of \n",
       "DataFrame concatenation with empty or all-NA entries is deprecated. In a future version, this will no longer \n",
       "exclude empty or all-NA columns when determining the result dtypes. To retain the old behavior, exclude the \n",
       "relevant entries before the concat operation.\n",
       "  results = pd.concat([results, normalized_data]) #.dropna(axis=1, how=\"all\")])\n"
      ]
     },
     "metadata": {},
     "output_type": "display_data"
    },
    {
     "data": {
      "text/html": [
       "<pre style=\"white-space:pre;overflow-x:auto;line-height:normal;font-family:Menlo,'DejaVu Sans Mono',consolas,'Courier New',monospace\">/var/folders/7t/k8q3439j6z3c683j7w00wtm80000gn/T/ipykernel_58430/1419766920.py:27: FutureWarning: The behavior of \n",
       "DataFrame concatenation with empty or all-NA entries is deprecated. In a future version, this will no longer \n",
       "exclude empty or all-NA columns when determining the result dtypes. To retain the old behavior, exclude the \n",
       "relevant entries before the concat operation.\n",
       "  results = pd.concat([results, normalized_data]) #.dropna(axis=1, how=\"all\")])\n",
       "</pre>\n"
      ],
      "text/plain": [
       "/var/folders/7t/k8q3439j6z3c683j7w00wtm80000gn/T/ipykernel_58430/1419766920.py:27: FutureWarning: The behavior of \n",
       "DataFrame concatenation with empty or all-NA entries is deprecated. In a future version, this will no longer \n",
       "exclude empty or all-NA columns when determining the result dtypes. To retain the old behavior, exclude the \n",
       "relevant entries before the concat operation.\n",
       "  results = pd.concat([results, normalized_data]) #.dropna(axis=1, how=\"all\")])\n"
      ]
     },
     "metadata": {},
     "output_type": "display_data"
    },
    {
     "data": {
      "text/html": [
       "<pre style=\"white-space:pre;overflow-x:auto;line-height:normal;font-family:Menlo,'DejaVu Sans Mono',consolas,'Courier New',monospace\">/var/folders/7t/k8q3439j6z3c683j7w00wtm80000gn/T/ipykernel_58430/1419766920.py:27: FutureWarning: The behavior of \n",
       "DataFrame concatenation with empty or all-NA entries is deprecated. In a future version, this will no longer \n",
       "exclude empty or all-NA columns when determining the result dtypes. To retain the old behavior, exclude the \n",
       "relevant entries before the concat operation.\n",
       "  results = pd.concat([results, normalized_data]) #.dropna(axis=1, how=\"all\")])\n",
       "</pre>\n"
      ],
      "text/plain": [
       "/var/folders/7t/k8q3439j6z3c683j7w00wtm80000gn/T/ipykernel_58430/1419766920.py:27: FutureWarning: The behavior of \n",
       "DataFrame concatenation with empty or all-NA entries is deprecated. In a future version, this will no longer \n",
       "exclude empty or all-NA columns when determining the result dtypes. To retain the old behavior, exclude the \n",
       "relevant entries before the concat operation.\n",
       "  results = pd.concat([results, normalized_data]) #.dropna(axis=1, how=\"all\")])\n"
      ]
     },
     "metadata": {},
     "output_type": "display_data"
    },
    {
     "data": {
      "text/html": [
       "<pre style=\"white-space:pre;overflow-x:auto;line-height:normal;font-family:Menlo,'DejaVu Sans Mono',consolas,'Courier New',monospace\">/var/folders/7t/k8q3439j6z3c683j7w00wtm80000gn/T/ipykernel_58430/1419766920.py:27: FutureWarning: The behavior of \n",
       "DataFrame concatenation with empty or all-NA entries is deprecated. In a future version, this will no longer \n",
       "exclude empty or all-NA columns when determining the result dtypes. To retain the old behavior, exclude the \n",
       "relevant entries before the concat operation.\n",
       "  results = pd.concat([results, normalized_data]) #.dropna(axis=1, how=\"all\")])\n",
       "</pre>\n"
      ],
      "text/plain": [
       "/var/folders/7t/k8q3439j6z3c683j7w00wtm80000gn/T/ipykernel_58430/1419766920.py:27: FutureWarning: The behavior of \n",
       "DataFrame concatenation with empty or all-NA entries is deprecated. In a future version, this will no longer \n",
       "exclude empty or all-NA columns when determining the result dtypes. To retain the old behavior, exclude the \n",
       "relevant entries before the concat operation.\n",
       "  results = pd.concat([results, normalized_data]) #.dropna(axis=1, how=\"all\")])\n"
      ]
     },
     "metadata": {},
     "output_type": "display_data"
    },
    {
     "data": {
      "text/html": [
       "<pre style=\"white-space:pre;overflow-x:auto;line-height:normal;font-family:Menlo,'DejaVu Sans Mono',consolas,'Courier New',monospace\">/var/folders/7t/k8q3439j6z3c683j7w00wtm80000gn/T/ipykernel_58430/1419766920.py:27: FutureWarning: The behavior of \n",
       "DataFrame concatenation with empty or all-NA entries is deprecated. In a future version, this will no longer \n",
       "exclude empty or all-NA columns when determining the result dtypes. To retain the old behavior, exclude the \n",
       "relevant entries before the concat operation.\n",
       "  results = pd.concat([results, normalized_data]) #.dropna(axis=1, how=\"all\")])\n",
       "</pre>\n"
      ],
      "text/plain": [
       "/var/folders/7t/k8q3439j6z3c683j7w00wtm80000gn/T/ipykernel_58430/1419766920.py:27: FutureWarning: The behavior of \n",
       "DataFrame concatenation with empty or all-NA entries is deprecated. In a future version, this will no longer \n",
       "exclude empty or all-NA columns when determining the result dtypes. To retain the old behavior, exclude the \n",
       "relevant entries before the concat operation.\n",
       "  results = pd.concat([results, normalized_data]) #.dropna(axis=1, how=\"all\")])\n"
      ]
     },
     "metadata": {},
     "output_type": "display_data"
    },
    {
     "data": {
      "text/html": [
       "<pre style=\"white-space:pre;overflow-x:auto;line-height:normal;font-family:Menlo,'DejaVu Sans Mono',consolas,'Courier New',monospace\">/var/folders/7t/k8q3439j6z3c683j7w00wtm80000gn/T/ipykernel_58430/1419766920.py:27: FutureWarning: The behavior of \n",
       "DataFrame concatenation with empty or all-NA entries is deprecated. In a future version, this will no longer \n",
       "exclude empty or all-NA columns when determining the result dtypes. To retain the old behavior, exclude the \n",
       "relevant entries before the concat operation.\n",
       "  results = pd.concat([results, normalized_data]) #.dropna(axis=1, how=\"all\")])\n",
       "</pre>\n"
      ],
      "text/plain": [
       "/var/folders/7t/k8q3439j6z3c683j7w00wtm80000gn/T/ipykernel_58430/1419766920.py:27: FutureWarning: The behavior of \n",
       "DataFrame concatenation with empty or all-NA entries is deprecated. In a future version, this will no longer \n",
       "exclude empty or all-NA columns when determining the result dtypes. To retain the old behavior, exclude the \n",
       "relevant entries before the concat operation.\n",
       "  results = pd.concat([results, normalized_data]) #.dropna(axis=1, how=\"all\")])\n"
      ]
     },
     "metadata": {},
     "output_type": "display_data"
    },
    {
     "data": {
      "text/html": [
       "<pre style=\"white-space:pre;overflow-x:auto;line-height:normal;font-family:Menlo,'DejaVu Sans Mono',consolas,'Courier New',monospace\">/var/folders/7t/k8q3439j6z3c683j7w00wtm80000gn/T/ipykernel_58430/1419766920.py:27: FutureWarning: The behavior of \n",
       "DataFrame concatenation with empty or all-NA entries is deprecated. In a future version, this will no longer \n",
       "exclude empty or all-NA columns when determining the result dtypes. To retain the old behavior, exclude the \n",
       "relevant entries before the concat operation.\n",
       "  results = pd.concat([results, normalized_data]) #.dropna(axis=1, how=\"all\")])\n",
       "</pre>\n"
      ],
      "text/plain": [
       "/var/folders/7t/k8q3439j6z3c683j7w00wtm80000gn/T/ipykernel_58430/1419766920.py:27: FutureWarning: The behavior of \n",
       "DataFrame concatenation with empty or all-NA entries is deprecated. In a future version, this will no longer \n",
       "exclude empty or all-NA columns when determining the result dtypes. To retain the old behavior, exclude the \n",
       "relevant entries before the concat operation.\n",
       "  results = pd.concat([results, normalized_data]) #.dropna(axis=1, how=\"all\")])\n"
      ]
     },
     "metadata": {},
     "output_type": "display_data"
    },
    {
     "data": {
      "text/html": [
       "<pre style=\"white-space:pre;overflow-x:auto;line-height:normal;font-family:Menlo,'DejaVu Sans Mono',consolas,'Courier New',monospace\">/var/folders/7t/k8q3439j6z3c683j7w00wtm80000gn/T/ipykernel_58430/1419766920.py:27: FutureWarning: The behavior of \n",
       "DataFrame concatenation with empty or all-NA entries is deprecated. In a future version, this will no longer \n",
       "exclude empty or all-NA columns when determining the result dtypes. To retain the old behavior, exclude the \n",
       "relevant entries before the concat operation.\n",
       "  results = pd.concat([results, normalized_data]) #.dropna(axis=1, how=\"all\")])\n",
       "</pre>\n"
      ],
      "text/plain": [
       "/var/folders/7t/k8q3439j6z3c683j7w00wtm80000gn/T/ipykernel_58430/1419766920.py:27: FutureWarning: The behavior of \n",
       "DataFrame concatenation with empty or all-NA entries is deprecated. In a future version, this will no longer \n",
       "exclude empty or all-NA columns when determining the result dtypes. To retain the old behavior, exclude the \n",
       "relevant entries before the concat operation.\n",
       "  results = pd.concat([results, normalized_data]) #.dropna(axis=1, how=\"all\")])\n"
      ]
     },
     "metadata": {},
     "output_type": "display_data"
    },
    {
     "data": {
      "text/html": [
       "<pre style=\"white-space:pre;overflow-x:auto;line-height:normal;font-family:Menlo,'DejaVu Sans Mono',consolas,'Courier New',monospace\">/var/folders/7t/k8q3439j6z3c683j7w00wtm80000gn/T/ipykernel_58430/1419766920.py:27: FutureWarning: The behavior of \n",
       "DataFrame concatenation with empty or all-NA entries is deprecated. In a future version, this will no longer \n",
       "exclude empty or all-NA columns when determining the result dtypes. To retain the old behavior, exclude the \n",
       "relevant entries before the concat operation.\n",
       "  results = pd.concat([results, normalized_data]) #.dropna(axis=1, how=\"all\")])\n",
       "</pre>\n"
      ],
      "text/plain": [
       "/var/folders/7t/k8q3439j6z3c683j7w00wtm80000gn/T/ipykernel_58430/1419766920.py:27: FutureWarning: The behavior of \n",
       "DataFrame concatenation with empty or all-NA entries is deprecated. In a future version, this will no longer \n",
       "exclude empty or all-NA columns when determining the result dtypes. To retain the old behavior, exclude the \n",
       "relevant entries before the concat operation.\n",
       "  results = pd.concat([results, normalized_data]) #.dropna(axis=1, how=\"all\")])\n"
      ]
     },
     "metadata": {},
     "output_type": "display_data"
    },
    {
     "data": {
      "text/html": [
       "<pre style=\"white-space:pre;overflow-x:auto;line-height:normal;font-family:Menlo,'DejaVu Sans Mono',consolas,'Courier New',monospace\">/var/folders/7t/k8q3439j6z3c683j7w00wtm80000gn/T/ipykernel_58430/1419766920.py:27: FutureWarning: The behavior of \n",
       "DataFrame concatenation with empty or all-NA entries is deprecated. In a future version, this will no longer \n",
       "exclude empty or all-NA columns when determining the result dtypes. To retain the old behavior, exclude the \n",
       "relevant entries before the concat operation.\n",
       "  results = pd.concat([results, normalized_data]) #.dropna(axis=1, how=\"all\")])\n",
       "</pre>\n"
      ],
      "text/plain": [
       "/var/folders/7t/k8q3439j6z3c683j7w00wtm80000gn/T/ipykernel_58430/1419766920.py:27: FutureWarning: The behavior of \n",
       "DataFrame concatenation with empty or all-NA entries is deprecated. In a future version, this will no longer \n",
       "exclude empty or all-NA columns when determining the result dtypes. To retain the old behavior, exclude the \n",
       "relevant entries before the concat operation.\n",
       "  results = pd.concat([results, normalized_data]) #.dropna(axis=1, how=\"all\")])\n"
      ]
     },
     "metadata": {},
     "output_type": "display_data"
    },
    {
     "data": {
      "text/html": [
       "<pre style=\"white-space:pre;overflow-x:auto;line-height:normal;font-family:Menlo,'DejaVu Sans Mono',consolas,'Courier New',monospace\">/var/folders/7t/k8q3439j6z3c683j7w00wtm80000gn/T/ipykernel_58430/1419766920.py:27: FutureWarning: The behavior of \n",
       "DataFrame concatenation with empty or all-NA entries is deprecated. In a future version, this will no longer \n",
       "exclude empty or all-NA columns when determining the result dtypes. To retain the old behavior, exclude the \n",
       "relevant entries before the concat operation.\n",
       "  results = pd.concat([results, normalized_data]) #.dropna(axis=1, how=\"all\")])\n",
       "</pre>\n"
      ],
      "text/plain": [
       "/var/folders/7t/k8q3439j6z3c683j7w00wtm80000gn/T/ipykernel_58430/1419766920.py:27: FutureWarning: The behavior of \n",
       "DataFrame concatenation with empty or all-NA entries is deprecated. In a future version, this will no longer \n",
       "exclude empty or all-NA columns when determining the result dtypes. To retain the old behavior, exclude the \n",
       "relevant entries before the concat operation.\n",
       "  results = pd.concat([results, normalized_data]) #.dropna(axis=1, how=\"all\")])\n"
      ]
     },
     "metadata": {},
     "output_type": "display_data"
    },
    {
     "data": {
      "text/html": [
       "<pre style=\"white-space:pre;overflow-x:auto;line-height:normal;font-family:Menlo,'DejaVu Sans Mono',consolas,'Courier New',monospace\">/var/folders/7t/k8q3439j6z3c683j7w00wtm80000gn/T/ipykernel_58430/1419766920.py:27: FutureWarning: The behavior of \n",
       "DataFrame concatenation with empty or all-NA entries is deprecated. In a future version, this will no longer \n",
       "exclude empty or all-NA columns when determining the result dtypes. To retain the old behavior, exclude the \n",
       "relevant entries before the concat operation.\n",
       "  results = pd.concat([results, normalized_data]) #.dropna(axis=1, how=\"all\")])\n",
       "</pre>\n"
      ],
      "text/plain": [
       "/var/folders/7t/k8q3439j6z3c683j7w00wtm80000gn/T/ipykernel_58430/1419766920.py:27: FutureWarning: The behavior of \n",
       "DataFrame concatenation with empty or all-NA entries is deprecated. In a future version, this will no longer \n",
       "exclude empty or all-NA columns when determining the result dtypes. To retain the old behavior, exclude the \n",
       "relevant entries before the concat operation.\n",
       "  results = pd.concat([results, normalized_data]) #.dropna(axis=1, how=\"all\")])\n"
      ]
     },
     "metadata": {},
     "output_type": "display_data"
    },
    {
     "data": {
      "text/html": [
       "<pre style=\"white-space:pre;overflow-x:auto;line-height:normal;font-family:Menlo,'DejaVu Sans Mono',consolas,'Courier New',monospace\">/var/folders/7t/k8q3439j6z3c683j7w00wtm80000gn/T/ipykernel_58430/1419766920.py:27: FutureWarning: The behavior of \n",
       "DataFrame concatenation with empty or all-NA entries is deprecated. In a future version, this will no longer \n",
       "exclude empty or all-NA columns when determining the result dtypes. To retain the old behavior, exclude the \n",
       "relevant entries before the concat operation.\n",
       "  results = pd.concat([results, normalized_data]) #.dropna(axis=1, how=\"all\")])\n",
       "</pre>\n"
      ],
      "text/plain": [
       "/var/folders/7t/k8q3439j6z3c683j7w00wtm80000gn/T/ipykernel_58430/1419766920.py:27: FutureWarning: The behavior of \n",
       "DataFrame concatenation with empty or all-NA entries is deprecated. In a future version, this will no longer \n",
       "exclude empty or all-NA columns when determining the result dtypes. To retain the old behavior, exclude the \n",
       "relevant entries before the concat operation.\n",
       "  results = pd.concat([results, normalized_data]) #.dropna(axis=1, how=\"all\")])\n"
      ]
     },
     "metadata": {},
     "output_type": "display_data"
    },
    {
     "data": {
      "text/html": [
       "<pre style=\"white-space:pre;overflow-x:auto;line-height:normal;font-family:Menlo,'DejaVu Sans Mono',consolas,'Courier New',monospace\">/var/folders/7t/k8q3439j6z3c683j7w00wtm80000gn/T/ipykernel_58430/1419766920.py:27: FutureWarning: The behavior of \n",
       "DataFrame concatenation with empty or all-NA entries is deprecated. In a future version, this will no longer \n",
       "exclude empty or all-NA columns when determining the result dtypes. To retain the old behavior, exclude the \n",
       "relevant entries before the concat operation.\n",
       "  results = pd.concat([results, normalized_data]) #.dropna(axis=1, how=\"all\")])\n",
       "</pre>\n"
      ],
      "text/plain": [
       "/var/folders/7t/k8q3439j6z3c683j7w00wtm80000gn/T/ipykernel_58430/1419766920.py:27: FutureWarning: The behavior of \n",
       "DataFrame concatenation with empty or all-NA entries is deprecated. In a future version, this will no longer \n",
       "exclude empty or all-NA columns when determining the result dtypes. To retain the old behavior, exclude the \n",
       "relevant entries before the concat operation.\n",
       "  results = pd.concat([results, normalized_data]) #.dropna(axis=1, how=\"all\")])\n"
      ]
     },
     "metadata": {},
     "output_type": "display_data"
    },
    {
     "data": {
      "text/html": [
       "<pre style=\"white-space:pre;overflow-x:auto;line-height:normal;font-family:Menlo,'DejaVu Sans Mono',consolas,'Courier New',monospace\">/var/folders/7t/k8q3439j6z3c683j7w00wtm80000gn/T/ipykernel_58430/1419766920.py:27: FutureWarning: The behavior of \n",
       "DataFrame concatenation with empty or all-NA entries is deprecated. In a future version, this will no longer \n",
       "exclude empty or all-NA columns when determining the result dtypes. To retain the old behavior, exclude the \n",
       "relevant entries before the concat operation.\n",
       "  results = pd.concat([results, normalized_data]) #.dropna(axis=1, how=\"all\")])\n",
       "</pre>\n"
      ],
      "text/plain": [
       "/var/folders/7t/k8q3439j6z3c683j7w00wtm80000gn/T/ipykernel_58430/1419766920.py:27: FutureWarning: The behavior of \n",
       "DataFrame concatenation with empty or all-NA entries is deprecated. In a future version, this will no longer \n",
       "exclude empty or all-NA columns when determining the result dtypes. To retain the old behavior, exclude the \n",
       "relevant entries before the concat operation.\n",
       "  results = pd.concat([results, normalized_data]) #.dropna(axis=1, how=\"all\")])\n"
      ]
     },
     "metadata": {},
     "output_type": "display_data"
    },
    {
     "data": {
      "text/html": [
       "<pre style=\"white-space:pre;overflow-x:auto;line-height:normal;font-family:Menlo,'DejaVu Sans Mono',consolas,'Courier New',monospace\">/var/folders/7t/k8q3439j6z3c683j7w00wtm80000gn/T/ipykernel_58430/1419766920.py:27: FutureWarning: The behavior of \n",
       "DataFrame concatenation with empty or all-NA entries is deprecated. In a future version, this will no longer \n",
       "exclude empty or all-NA columns when determining the result dtypes. To retain the old behavior, exclude the \n",
       "relevant entries before the concat operation.\n",
       "  results = pd.concat([results, normalized_data]) #.dropna(axis=1, how=\"all\")])\n",
       "</pre>\n"
      ],
      "text/plain": [
       "/var/folders/7t/k8q3439j6z3c683j7w00wtm80000gn/T/ipykernel_58430/1419766920.py:27: FutureWarning: The behavior of \n",
       "DataFrame concatenation with empty or all-NA entries is deprecated. In a future version, this will no longer \n",
       "exclude empty or all-NA columns when determining the result dtypes. To retain the old behavior, exclude the \n",
       "relevant entries before the concat operation.\n",
       "  results = pd.concat([results, normalized_data]) #.dropna(axis=1, how=\"all\")])\n"
      ]
     },
     "metadata": {},
     "output_type": "display_data"
    },
    {
     "data": {
      "text/html": [
       "<pre style=\"white-space:pre;overflow-x:auto;line-height:normal;font-family:Menlo,'DejaVu Sans Mono',consolas,'Courier New',monospace\">/var/folders/7t/k8q3439j6z3c683j7w00wtm80000gn/T/ipykernel_58430/1419766920.py:27: FutureWarning: The behavior of \n",
       "DataFrame concatenation with empty or all-NA entries is deprecated. In a future version, this will no longer \n",
       "exclude empty or all-NA columns when determining the result dtypes. To retain the old behavior, exclude the \n",
       "relevant entries before the concat operation.\n",
       "  results = pd.concat([results, normalized_data]) #.dropna(axis=1, how=\"all\")])\n",
       "</pre>\n"
      ],
      "text/plain": [
       "/var/folders/7t/k8q3439j6z3c683j7w00wtm80000gn/T/ipykernel_58430/1419766920.py:27: FutureWarning: The behavior of \n",
       "DataFrame concatenation with empty or all-NA entries is deprecated. In a future version, this will no longer \n",
       "exclude empty or all-NA columns when determining the result dtypes. To retain the old behavior, exclude the \n",
       "relevant entries before the concat operation.\n",
       "  results = pd.concat([results, normalized_data]) #.dropna(axis=1, how=\"all\")])\n"
      ]
     },
     "metadata": {},
     "output_type": "display_data"
    },
    {
     "data": {
      "text/html": [
       "<pre style=\"white-space:pre;overflow-x:auto;line-height:normal;font-family:Menlo,'DejaVu Sans Mono',consolas,'Courier New',monospace\">/var/folders/7t/k8q3439j6z3c683j7w00wtm80000gn/T/ipykernel_58430/1419766920.py:27: FutureWarning: The behavior of \n",
       "DataFrame concatenation with empty or all-NA entries is deprecated. In a future version, this will no longer \n",
       "exclude empty or all-NA columns when determining the result dtypes. To retain the old behavior, exclude the \n",
       "relevant entries before the concat operation.\n",
       "  results = pd.concat([results, normalized_data]) #.dropna(axis=1, how=\"all\")])\n",
       "</pre>\n"
      ],
      "text/plain": [
       "/var/folders/7t/k8q3439j6z3c683j7w00wtm80000gn/T/ipykernel_58430/1419766920.py:27: FutureWarning: The behavior of \n",
       "DataFrame concatenation with empty or all-NA entries is deprecated. In a future version, this will no longer \n",
       "exclude empty or all-NA columns when determining the result dtypes. To retain the old behavior, exclude the \n",
       "relevant entries before the concat operation.\n",
       "  results = pd.concat([results, normalized_data]) #.dropna(axis=1, how=\"all\")])\n"
      ]
     },
     "metadata": {},
     "output_type": "display_data"
    },
    {
     "data": {
      "text/html": [
       "<pre style=\"white-space:pre;overflow-x:auto;line-height:normal;font-family:Menlo,'DejaVu Sans Mono',consolas,'Courier New',monospace\">/var/folders/7t/k8q3439j6z3c683j7w00wtm80000gn/T/ipykernel_58430/1419766920.py:27: FutureWarning: The behavior of \n",
       "DataFrame concatenation with empty or all-NA entries is deprecated. In a future version, this will no longer \n",
       "exclude empty or all-NA columns when determining the result dtypes. To retain the old behavior, exclude the \n",
       "relevant entries before the concat operation.\n",
       "  results = pd.concat([results, normalized_data]) #.dropna(axis=1, how=\"all\")])\n",
       "</pre>\n"
      ],
      "text/plain": [
       "/var/folders/7t/k8q3439j6z3c683j7w00wtm80000gn/T/ipykernel_58430/1419766920.py:27: FutureWarning: The behavior of \n",
       "DataFrame concatenation with empty or all-NA entries is deprecated. In a future version, this will no longer \n",
       "exclude empty or all-NA columns when determining the result dtypes. To retain the old behavior, exclude the \n",
       "relevant entries before the concat operation.\n",
       "  results = pd.concat([results, normalized_data]) #.dropna(axis=1, how=\"all\")])\n"
      ]
     },
     "metadata": {},
     "output_type": "display_data"
    },
    {
     "data": {
      "text/html": [
       "<pre style=\"white-space:pre;overflow-x:auto;line-height:normal;font-family:Menlo,'DejaVu Sans Mono',consolas,'Courier New',monospace\">/var/folders/7t/k8q3439j6z3c683j7w00wtm80000gn/T/ipykernel_58430/1419766920.py:27: FutureWarning: The behavior of \n",
       "DataFrame concatenation with empty or all-NA entries is deprecated. In a future version, this will no longer \n",
       "exclude empty or all-NA columns when determining the result dtypes. To retain the old behavior, exclude the \n",
       "relevant entries before the concat operation.\n",
       "  results = pd.concat([results, normalized_data]) #.dropna(axis=1, how=\"all\")])\n",
       "</pre>\n"
      ],
      "text/plain": [
       "/var/folders/7t/k8q3439j6z3c683j7w00wtm80000gn/T/ipykernel_58430/1419766920.py:27: FutureWarning: The behavior of \n",
       "DataFrame concatenation with empty or all-NA entries is deprecated. In a future version, this will no longer \n",
       "exclude empty or all-NA columns when determining the result dtypes. To retain the old behavior, exclude the \n",
       "relevant entries before the concat operation.\n",
       "  results = pd.concat([results, normalized_data]) #.dropna(axis=1, how=\"all\")])\n"
      ]
     },
     "metadata": {},
     "output_type": "display_data"
    },
    {
     "data": {
      "text/html": [
       "<pre style=\"white-space:pre;overflow-x:auto;line-height:normal;font-family:Menlo,'DejaVu Sans Mono',consolas,'Courier New',monospace\">/var/folders/7t/k8q3439j6z3c683j7w00wtm80000gn/T/ipykernel_58430/1419766920.py:27: FutureWarning: The behavior of \n",
       "DataFrame concatenation with empty or all-NA entries is deprecated. In a future version, this will no longer \n",
       "exclude empty or all-NA columns when determining the result dtypes. To retain the old behavior, exclude the \n",
       "relevant entries before the concat operation.\n",
       "  results = pd.concat([results, normalized_data]) #.dropna(axis=1, how=\"all\")])\n",
       "</pre>\n"
      ],
      "text/plain": [
       "/var/folders/7t/k8q3439j6z3c683j7w00wtm80000gn/T/ipykernel_58430/1419766920.py:27: FutureWarning: The behavior of \n",
       "DataFrame concatenation with empty or all-NA entries is deprecated. In a future version, this will no longer \n",
       "exclude empty or all-NA columns when determining the result dtypes. To retain the old behavior, exclude the \n",
       "relevant entries before the concat operation.\n",
       "  results = pd.concat([results, normalized_data]) #.dropna(axis=1, how=\"all\")])\n"
      ]
     },
     "metadata": {},
     "output_type": "display_data"
    },
    {
     "data": {
      "text/html": [
       "<pre style=\"white-space:pre;overflow-x:auto;line-height:normal;font-family:Menlo,'DejaVu Sans Mono',consolas,'Courier New',monospace\">/var/folders/7t/k8q3439j6z3c683j7w00wtm80000gn/T/ipykernel_58430/1419766920.py:27: FutureWarning: The behavior of \n",
       "DataFrame concatenation with empty or all-NA entries is deprecated. In a future version, this will no longer \n",
       "exclude empty or all-NA columns when determining the result dtypes. To retain the old behavior, exclude the \n",
       "relevant entries before the concat operation.\n",
       "  results = pd.concat([results, normalized_data]) #.dropna(axis=1, how=\"all\")])\n",
       "</pre>\n"
      ],
      "text/plain": [
       "/var/folders/7t/k8q3439j6z3c683j7w00wtm80000gn/T/ipykernel_58430/1419766920.py:27: FutureWarning: The behavior of \n",
       "DataFrame concatenation with empty or all-NA entries is deprecated. In a future version, this will no longer \n",
       "exclude empty or all-NA columns when determining the result dtypes. To retain the old behavior, exclude the \n",
       "relevant entries before the concat operation.\n",
       "  results = pd.concat([results, normalized_data]) #.dropna(axis=1, how=\"all\")])\n"
      ]
     },
     "metadata": {},
     "output_type": "display_data"
    },
    {
     "data": {
      "text/html": [
       "<pre style=\"white-space:pre;overflow-x:auto;line-height:normal;font-family:Menlo,'DejaVu Sans Mono',consolas,'Courier New',monospace\">/var/folders/7t/k8q3439j6z3c683j7w00wtm80000gn/T/ipykernel_58430/1419766920.py:27: FutureWarning: The behavior of \n",
       "DataFrame concatenation with empty or all-NA entries is deprecated. In a future version, this will no longer \n",
       "exclude empty or all-NA columns when determining the result dtypes. To retain the old behavior, exclude the \n",
       "relevant entries before the concat operation.\n",
       "  results = pd.concat([results, normalized_data]) #.dropna(axis=1, how=\"all\")])\n",
       "</pre>\n"
      ],
      "text/plain": [
       "/var/folders/7t/k8q3439j6z3c683j7w00wtm80000gn/T/ipykernel_58430/1419766920.py:27: FutureWarning: The behavior of \n",
       "DataFrame concatenation with empty or all-NA entries is deprecated. In a future version, this will no longer \n",
       "exclude empty or all-NA columns when determining the result dtypes. To retain the old behavior, exclude the \n",
       "relevant entries before the concat operation.\n",
       "  results = pd.concat([results, normalized_data]) #.dropna(axis=1, how=\"all\")])\n"
      ]
     },
     "metadata": {},
     "output_type": "display_data"
    },
    {
     "data": {
      "text/html": [
       "<pre style=\"white-space:pre;overflow-x:auto;line-height:normal;font-family:Menlo,'DejaVu Sans Mono',consolas,'Courier New',monospace\">/var/folders/7t/k8q3439j6z3c683j7w00wtm80000gn/T/ipykernel_58430/1419766920.py:27: FutureWarning: The behavior of \n",
       "DataFrame concatenation with empty or all-NA entries is deprecated. In a future version, this will no longer \n",
       "exclude empty or all-NA columns when determining the result dtypes. To retain the old behavior, exclude the \n",
       "relevant entries before the concat operation.\n",
       "  results = pd.concat([results, normalized_data]) #.dropna(axis=1, how=\"all\")])\n",
       "</pre>\n"
      ],
      "text/plain": [
       "/var/folders/7t/k8q3439j6z3c683j7w00wtm80000gn/T/ipykernel_58430/1419766920.py:27: FutureWarning: The behavior of \n",
       "DataFrame concatenation with empty or all-NA entries is deprecated. In a future version, this will no longer \n",
       "exclude empty or all-NA columns when determining the result dtypes. To retain the old behavior, exclude the \n",
       "relevant entries before the concat operation.\n",
       "  results = pd.concat([results, normalized_data]) #.dropna(axis=1, how=\"all\")])\n"
      ]
     },
     "metadata": {},
     "output_type": "display_data"
    },
    {
     "data": {
      "text/html": [
       "<pre style=\"white-space:pre;overflow-x:auto;line-height:normal;font-family:Menlo,'DejaVu Sans Mono',consolas,'Courier New',monospace\">/var/folders/7t/k8q3439j6z3c683j7w00wtm80000gn/T/ipykernel_58430/1419766920.py:27: FutureWarning: The behavior of \n",
       "DataFrame concatenation with empty or all-NA entries is deprecated. In a future version, this will no longer \n",
       "exclude empty or all-NA columns when determining the result dtypes. To retain the old behavior, exclude the \n",
       "relevant entries before the concat operation.\n",
       "  results = pd.concat([results, normalized_data]) #.dropna(axis=1, how=\"all\")])\n",
       "</pre>\n"
      ],
      "text/plain": [
       "/var/folders/7t/k8q3439j6z3c683j7w00wtm80000gn/T/ipykernel_58430/1419766920.py:27: FutureWarning: The behavior of \n",
       "DataFrame concatenation with empty or all-NA entries is deprecated. In a future version, this will no longer \n",
       "exclude empty or all-NA columns when determining the result dtypes. To retain the old behavior, exclude the \n",
       "relevant entries before the concat operation.\n",
       "  results = pd.concat([results, normalized_data]) #.dropna(axis=1, how=\"all\")])\n"
      ]
     },
     "metadata": {},
     "output_type": "display_data"
    },
    {
     "data": {
      "text/html": [
       "<pre style=\"white-space:pre;overflow-x:auto;line-height:normal;font-family:Menlo,'DejaVu Sans Mono',consolas,'Courier New',monospace\">/var/folders/7t/k8q3439j6z3c683j7w00wtm80000gn/T/ipykernel_58430/1419766920.py:27: FutureWarning: The behavior of \n",
       "DataFrame concatenation with empty or all-NA entries is deprecated. In a future version, this will no longer \n",
       "exclude empty or all-NA columns when determining the result dtypes. To retain the old behavior, exclude the \n",
       "relevant entries before the concat operation.\n",
       "  results = pd.concat([results, normalized_data]) #.dropna(axis=1, how=\"all\")])\n",
       "</pre>\n"
      ],
      "text/plain": [
       "/var/folders/7t/k8q3439j6z3c683j7w00wtm80000gn/T/ipykernel_58430/1419766920.py:27: FutureWarning: The behavior of \n",
       "DataFrame concatenation with empty or all-NA entries is deprecated. In a future version, this will no longer \n",
       "exclude empty or all-NA columns when determining the result dtypes. To retain the old behavior, exclude the \n",
       "relevant entries before the concat operation.\n",
       "  results = pd.concat([results, normalized_data]) #.dropna(axis=1, how=\"all\")])\n"
      ]
     },
     "metadata": {},
     "output_type": "display_data"
    },
    {
     "data": {
      "text/html": [
       "<pre style=\"white-space:pre;overflow-x:auto;line-height:normal;font-family:Menlo,'DejaVu Sans Mono',consolas,'Courier New',monospace\">/var/folders/7t/k8q3439j6z3c683j7w00wtm80000gn/T/ipykernel_58430/1419766920.py:27: FutureWarning: The behavior of \n",
       "DataFrame concatenation with empty or all-NA entries is deprecated. In a future version, this will no longer \n",
       "exclude empty or all-NA columns when determining the result dtypes. To retain the old behavior, exclude the \n",
       "relevant entries before the concat operation.\n",
       "  results = pd.concat([results, normalized_data]) #.dropna(axis=1, how=\"all\")])\n",
       "</pre>\n"
      ],
      "text/plain": [
       "/var/folders/7t/k8q3439j6z3c683j7w00wtm80000gn/T/ipykernel_58430/1419766920.py:27: FutureWarning: The behavior of \n",
       "DataFrame concatenation with empty or all-NA entries is deprecated. In a future version, this will no longer \n",
       "exclude empty or all-NA columns when determining the result dtypes. To retain the old behavior, exclude the \n",
       "relevant entries before the concat operation.\n",
       "  results = pd.concat([results, normalized_data]) #.dropna(axis=1, how=\"all\")])\n"
      ]
     },
     "metadata": {},
     "output_type": "display_data"
    },
    {
     "data": {
      "text/html": [
       "<pre style=\"white-space:pre;overflow-x:auto;line-height:normal;font-family:Menlo,'DejaVu Sans Mono',consolas,'Courier New',monospace\">/var/folders/7t/k8q3439j6z3c683j7w00wtm80000gn/T/ipykernel_58430/1419766920.py:27: FutureWarning: The behavior of \n",
       "DataFrame concatenation with empty or all-NA entries is deprecated. In a future version, this will no longer \n",
       "exclude empty or all-NA columns when determining the result dtypes. To retain the old behavior, exclude the \n",
       "relevant entries before the concat operation.\n",
       "  results = pd.concat([results, normalized_data]) #.dropna(axis=1, how=\"all\")])\n",
       "</pre>\n"
      ],
      "text/plain": [
       "/var/folders/7t/k8q3439j6z3c683j7w00wtm80000gn/T/ipykernel_58430/1419766920.py:27: FutureWarning: The behavior of \n",
       "DataFrame concatenation with empty or all-NA entries is deprecated. In a future version, this will no longer \n",
       "exclude empty or all-NA columns when determining the result dtypes. To retain the old behavior, exclude the \n",
       "relevant entries before the concat operation.\n",
       "  results = pd.concat([results, normalized_data]) #.dropna(axis=1, how=\"all\")])\n"
      ]
     },
     "metadata": {},
     "output_type": "display_data"
    },
    {
     "data": {
      "text/html": [
       "<pre style=\"white-space:pre;overflow-x:auto;line-height:normal;font-family:Menlo,'DejaVu Sans Mono',consolas,'Courier New',monospace\">/var/folders/7t/k8q3439j6z3c683j7w00wtm80000gn/T/ipykernel_58430/1419766920.py:27: FutureWarning: The behavior of \n",
       "DataFrame concatenation with empty or all-NA entries is deprecated. In a future version, this will no longer \n",
       "exclude empty or all-NA columns when determining the result dtypes. To retain the old behavior, exclude the \n",
       "relevant entries before the concat operation.\n",
       "  results = pd.concat([results, normalized_data]) #.dropna(axis=1, how=\"all\")])\n",
       "</pre>\n"
      ],
      "text/plain": [
       "/var/folders/7t/k8q3439j6z3c683j7w00wtm80000gn/T/ipykernel_58430/1419766920.py:27: FutureWarning: The behavior of \n",
       "DataFrame concatenation with empty or all-NA entries is deprecated. In a future version, this will no longer \n",
       "exclude empty or all-NA columns when determining the result dtypes. To retain the old behavior, exclude the \n",
       "relevant entries before the concat operation.\n",
       "  results = pd.concat([results, normalized_data]) #.dropna(axis=1, how=\"all\")])\n"
      ]
     },
     "metadata": {},
     "output_type": "display_data"
    },
    {
     "data": {
      "text/html": [
       "<pre style=\"white-space:pre;overflow-x:auto;line-height:normal;font-family:Menlo,'DejaVu Sans Mono',consolas,'Courier New',monospace\">/var/folders/7t/k8q3439j6z3c683j7w00wtm80000gn/T/ipykernel_58430/1419766920.py:27: FutureWarning: The behavior of \n",
       "DataFrame concatenation with empty or all-NA entries is deprecated. In a future version, this will no longer \n",
       "exclude empty or all-NA columns when determining the result dtypes. To retain the old behavior, exclude the \n",
       "relevant entries before the concat operation.\n",
       "  results = pd.concat([results, normalized_data]) #.dropna(axis=1, how=\"all\")])\n",
       "</pre>\n"
      ],
      "text/plain": [
       "/var/folders/7t/k8q3439j6z3c683j7w00wtm80000gn/T/ipykernel_58430/1419766920.py:27: FutureWarning: The behavior of \n",
       "DataFrame concatenation with empty or all-NA entries is deprecated. In a future version, this will no longer \n",
       "exclude empty or all-NA columns when determining the result dtypes. To retain the old behavior, exclude the \n",
       "relevant entries before the concat operation.\n",
       "  results = pd.concat([results, normalized_data]) #.dropna(axis=1, how=\"all\")])\n"
      ]
     },
     "metadata": {},
     "output_type": "display_data"
    },
    {
     "data": {
      "text/html": [
       "<pre style=\"white-space:pre;overflow-x:auto;line-height:normal;font-family:Menlo,'DejaVu Sans Mono',consolas,'Courier New',monospace\">/var/folders/7t/k8q3439j6z3c683j7w00wtm80000gn/T/ipykernel_58430/1419766920.py:27: FutureWarning: The behavior of \n",
       "DataFrame concatenation with empty or all-NA entries is deprecated. In a future version, this will no longer \n",
       "exclude empty or all-NA columns when determining the result dtypes. To retain the old behavior, exclude the \n",
       "relevant entries before the concat operation.\n",
       "  results = pd.concat([results, normalized_data]) #.dropna(axis=1, how=\"all\")])\n",
       "</pre>\n"
      ],
      "text/plain": [
       "/var/folders/7t/k8q3439j6z3c683j7w00wtm80000gn/T/ipykernel_58430/1419766920.py:27: FutureWarning: The behavior of \n",
       "DataFrame concatenation with empty or all-NA entries is deprecated. In a future version, this will no longer \n",
       "exclude empty or all-NA columns when determining the result dtypes. To retain the old behavior, exclude the \n",
       "relevant entries before the concat operation.\n",
       "  results = pd.concat([results, normalized_data]) #.dropna(axis=1, how=\"all\")])\n"
      ]
     },
     "metadata": {},
     "output_type": "display_data"
    },
    {
     "data": {
      "text/html": [
       "<pre style=\"white-space:pre;overflow-x:auto;line-height:normal;font-family:Menlo,'DejaVu Sans Mono',consolas,'Courier New',monospace\">/var/folders/7t/k8q3439j6z3c683j7w00wtm80000gn/T/ipykernel_58430/1419766920.py:27: FutureWarning: The behavior of \n",
       "DataFrame concatenation with empty or all-NA entries is deprecated. In a future version, this will no longer \n",
       "exclude empty or all-NA columns when determining the result dtypes. To retain the old behavior, exclude the \n",
       "relevant entries before the concat operation.\n",
       "  results = pd.concat([results, normalized_data]) #.dropna(axis=1, how=\"all\")])\n",
       "</pre>\n"
      ],
      "text/plain": [
       "/var/folders/7t/k8q3439j6z3c683j7w00wtm80000gn/T/ipykernel_58430/1419766920.py:27: FutureWarning: The behavior of \n",
       "DataFrame concatenation with empty or all-NA entries is deprecated. In a future version, this will no longer \n",
       "exclude empty or all-NA columns when determining the result dtypes. To retain the old behavior, exclude the \n",
       "relevant entries before the concat operation.\n",
       "  results = pd.concat([results, normalized_data]) #.dropna(axis=1, how=\"all\")])\n"
      ]
     },
     "metadata": {},
     "output_type": "display_data"
    },
    {
     "data": {
      "text/html": [
       "<pre style=\"white-space:pre;overflow-x:auto;line-height:normal;font-family:Menlo,'DejaVu Sans Mono',consolas,'Courier New',monospace\">/var/folders/7t/k8q3439j6z3c683j7w00wtm80000gn/T/ipykernel_58430/1419766920.py:27: FutureWarning: The behavior of \n",
       "DataFrame concatenation with empty or all-NA entries is deprecated. In a future version, this will no longer \n",
       "exclude empty or all-NA columns when determining the result dtypes. To retain the old behavior, exclude the \n",
       "relevant entries before the concat operation.\n",
       "  results = pd.concat([results, normalized_data]) #.dropna(axis=1, how=\"all\")])\n",
       "</pre>\n"
      ],
      "text/plain": [
       "/var/folders/7t/k8q3439j6z3c683j7w00wtm80000gn/T/ipykernel_58430/1419766920.py:27: FutureWarning: The behavior of \n",
       "DataFrame concatenation with empty or all-NA entries is deprecated. In a future version, this will no longer \n",
       "exclude empty or all-NA columns when determining the result dtypes. To retain the old behavior, exclude the \n",
       "relevant entries before the concat operation.\n",
       "  results = pd.concat([results, normalized_data]) #.dropna(axis=1, how=\"all\")])\n"
      ]
     },
     "metadata": {},
     "output_type": "display_data"
    },
    {
     "data": {
      "text/html": [
       "<pre style=\"white-space:pre;overflow-x:auto;line-height:normal;font-family:Menlo,'DejaVu Sans Mono',consolas,'Courier New',monospace\">/var/folders/7t/k8q3439j6z3c683j7w00wtm80000gn/T/ipykernel_58430/1419766920.py:27: FutureWarning: The behavior of \n",
       "DataFrame concatenation with empty or all-NA entries is deprecated. In a future version, this will no longer \n",
       "exclude empty or all-NA columns when determining the result dtypes. To retain the old behavior, exclude the \n",
       "relevant entries before the concat operation.\n",
       "  results = pd.concat([results, normalized_data]) #.dropna(axis=1, how=\"all\")])\n",
       "</pre>\n"
      ],
      "text/plain": [
       "/var/folders/7t/k8q3439j6z3c683j7w00wtm80000gn/T/ipykernel_58430/1419766920.py:27: FutureWarning: The behavior of \n",
       "DataFrame concatenation with empty or all-NA entries is deprecated. In a future version, this will no longer \n",
       "exclude empty or all-NA columns when determining the result dtypes. To retain the old behavior, exclude the \n",
       "relevant entries before the concat operation.\n",
       "  results = pd.concat([results, normalized_data]) #.dropna(axis=1, how=\"all\")])\n"
      ]
     },
     "metadata": {},
     "output_type": "display_data"
    },
    {
     "data": {
      "text/html": [
       "<pre style=\"white-space:pre;overflow-x:auto;line-height:normal;font-family:Menlo,'DejaVu Sans Mono',consolas,'Courier New',monospace\">/var/folders/7t/k8q3439j6z3c683j7w00wtm80000gn/T/ipykernel_58430/1419766920.py:27: FutureWarning: The behavior of \n",
       "DataFrame concatenation with empty or all-NA entries is deprecated. In a future version, this will no longer \n",
       "exclude empty or all-NA columns when determining the result dtypes. To retain the old behavior, exclude the \n",
       "relevant entries before the concat operation.\n",
       "  results = pd.concat([results, normalized_data]) #.dropna(axis=1, how=\"all\")])\n",
       "</pre>\n"
      ],
      "text/plain": [
       "/var/folders/7t/k8q3439j6z3c683j7w00wtm80000gn/T/ipykernel_58430/1419766920.py:27: FutureWarning: The behavior of \n",
       "DataFrame concatenation with empty or all-NA entries is deprecated. In a future version, this will no longer \n",
       "exclude empty or all-NA columns when determining the result dtypes. To retain the old behavior, exclude the \n",
       "relevant entries before the concat operation.\n",
       "  results = pd.concat([results, normalized_data]) #.dropna(axis=1, how=\"all\")])\n"
      ]
     },
     "metadata": {},
     "output_type": "display_data"
    },
    {
     "data": {
      "text/html": [
       "<pre style=\"white-space:pre;overflow-x:auto;line-height:normal;font-family:Menlo,'DejaVu Sans Mono',consolas,'Courier New',monospace\">/var/folders/7t/k8q3439j6z3c683j7w00wtm80000gn/T/ipykernel_58430/1419766920.py:27: FutureWarning: The behavior of \n",
       "DataFrame concatenation with empty or all-NA entries is deprecated. In a future version, this will no longer \n",
       "exclude empty or all-NA columns when determining the result dtypes. To retain the old behavior, exclude the \n",
       "relevant entries before the concat operation.\n",
       "  results = pd.concat([results, normalized_data]) #.dropna(axis=1, how=\"all\")])\n",
       "</pre>\n"
      ],
      "text/plain": [
       "/var/folders/7t/k8q3439j6z3c683j7w00wtm80000gn/T/ipykernel_58430/1419766920.py:27: FutureWarning: The behavior of \n",
       "DataFrame concatenation with empty or all-NA entries is deprecated. In a future version, this will no longer \n",
       "exclude empty or all-NA columns when determining the result dtypes. To retain the old behavior, exclude the \n",
       "relevant entries before the concat operation.\n",
       "  results = pd.concat([results, normalized_data]) #.dropna(axis=1, how=\"all\")])\n"
      ]
     },
     "metadata": {},
     "output_type": "display_data"
    },
    {
     "data": {
      "text/html": [
       "<pre style=\"white-space:pre;overflow-x:auto;line-height:normal;font-family:Menlo,'DejaVu Sans Mono',consolas,'Courier New',monospace\">/var/folders/7t/k8q3439j6z3c683j7w00wtm80000gn/T/ipykernel_58430/1419766920.py:27: FutureWarning: The behavior of \n",
       "DataFrame concatenation with empty or all-NA entries is deprecated. In a future version, this will no longer \n",
       "exclude empty or all-NA columns when determining the result dtypes. To retain the old behavior, exclude the \n",
       "relevant entries before the concat operation.\n",
       "  results = pd.concat([results, normalized_data]) #.dropna(axis=1, how=\"all\")])\n",
       "</pre>\n"
      ],
      "text/plain": [
       "/var/folders/7t/k8q3439j6z3c683j7w00wtm80000gn/T/ipykernel_58430/1419766920.py:27: FutureWarning: The behavior of \n",
       "DataFrame concatenation with empty or all-NA entries is deprecated. In a future version, this will no longer \n",
       "exclude empty or all-NA columns when determining the result dtypes. To retain the old behavior, exclude the \n",
       "relevant entries before the concat operation.\n",
       "  results = pd.concat([results, normalized_data]) #.dropna(axis=1, how=\"all\")])\n"
      ]
     },
     "metadata": {},
     "output_type": "display_data"
    },
    {
     "data": {
      "text/html": [
       "<pre style=\"white-space:pre;overflow-x:auto;line-height:normal;font-family:Menlo,'DejaVu Sans Mono',consolas,'Courier New',monospace\">/var/folders/7t/k8q3439j6z3c683j7w00wtm80000gn/T/ipykernel_58430/1419766920.py:27: FutureWarning: The behavior of \n",
       "DataFrame concatenation with empty or all-NA entries is deprecated. In a future version, this will no longer \n",
       "exclude empty or all-NA columns when determining the result dtypes. To retain the old behavior, exclude the \n",
       "relevant entries before the concat operation.\n",
       "  results = pd.concat([results, normalized_data]) #.dropna(axis=1, how=\"all\")])\n",
       "</pre>\n"
      ],
      "text/plain": [
       "/var/folders/7t/k8q3439j6z3c683j7w00wtm80000gn/T/ipykernel_58430/1419766920.py:27: FutureWarning: The behavior of \n",
       "DataFrame concatenation with empty or all-NA entries is deprecated. In a future version, this will no longer \n",
       "exclude empty or all-NA columns when determining the result dtypes. To retain the old behavior, exclude the \n",
       "relevant entries before the concat operation.\n",
       "  results = pd.concat([results, normalized_data]) #.dropna(axis=1, how=\"all\")])\n"
      ]
     },
     "metadata": {},
     "output_type": "display_data"
    },
    {
     "data": {
      "text/html": [
       "<pre style=\"white-space:pre;overflow-x:auto;line-height:normal;font-family:Menlo,'DejaVu Sans Mono',consolas,'Courier New',monospace\">/var/folders/7t/k8q3439j6z3c683j7w00wtm80000gn/T/ipykernel_58430/1419766920.py:27: FutureWarning: The behavior of \n",
       "DataFrame concatenation with empty or all-NA entries is deprecated. In a future version, this will no longer \n",
       "exclude empty or all-NA columns when determining the result dtypes. To retain the old behavior, exclude the \n",
       "relevant entries before the concat operation.\n",
       "  results = pd.concat([results, normalized_data]) #.dropna(axis=1, how=\"all\")])\n",
       "</pre>\n"
      ],
      "text/plain": [
       "/var/folders/7t/k8q3439j6z3c683j7w00wtm80000gn/T/ipykernel_58430/1419766920.py:27: FutureWarning: The behavior of \n",
       "DataFrame concatenation with empty or all-NA entries is deprecated. In a future version, this will no longer \n",
       "exclude empty or all-NA columns when determining the result dtypes. To retain the old behavior, exclude the \n",
       "relevant entries before the concat operation.\n",
       "  results = pd.concat([results, normalized_data]) #.dropna(axis=1, how=\"all\")])\n"
      ]
     },
     "metadata": {},
     "output_type": "display_data"
    },
    {
     "data": {
      "text/html": [
       "<pre style=\"white-space:pre;overflow-x:auto;line-height:normal;font-family:Menlo,'DejaVu Sans Mono',consolas,'Courier New',monospace\">/var/folders/7t/k8q3439j6z3c683j7w00wtm80000gn/T/ipykernel_58430/1419766920.py:27: FutureWarning: The behavior of \n",
       "DataFrame concatenation with empty or all-NA entries is deprecated. In a future version, this will no longer \n",
       "exclude empty or all-NA columns when determining the result dtypes. To retain the old behavior, exclude the \n",
       "relevant entries before the concat operation.\n",
       "  results = pd.concat([results, normalized_data]) #.dropna(axis=1, how=\"all\")])\n",
       "</pre>\n"
      ],
      "text/plain": [
       "/var/folders/7t/k8q3439j6z3c683j7w00wtm80000gn/T/ipykernel_58430/1419766920.py:27: FutureWarning: The behavior of \n",
       "DataFrame concatenation with empty or all-NA entries is deprecated. In a future version, this will no longer \n",
       "exclude empty or all-NA columns when determining the result dtypes. To retain the old behavior, exclude the \n",
       "relevant entries before the concat operation.\n",
       "  results = pd.concat([results, normalized_data]) #.dropna(axis=1, how=\"all\")])\n"
      ]
     },
     "metadata": {},
     "output_type": "display_data"
    },
    {
     "data": {
      "text/html": [
       "<pre style=\"white-space:pre;overflow-x:auto;line-height:normal;font-family:Menlo,'DejaVu Sans Mono',consolas,'Courier New',monospace\">/var/folders/7t/k8q3439j6z3c683j7w00wtm80000gn/T/ipykernel_58430/1419766920.py:27: FutureWarning: The behavior of \n",
       "DataFrame concatenation with empty or all-NA entries is deprecated. In a future version, this will no longer \n",
       "exclude empty or all-NA columns when determining the result dtypes. To retain the old behavior, exclude the \n",
       "relevant entries before the concat operation.\n",
       "  results = pd.concat([results, normalized_data]) #.dropna(axis=1, how=\"all\")])\n",
       "</pre>\n"
      ],
      "text/plain": [
       "/var/folders/7t/k8q3439j6z3c683j7w00wtm80000gn/T/ipykernel_58430/1419766920.py:27: FutureWarning: The behavior of \n",
       "DataFrame concatenation with empty or all-NA entries is deprecated. In a future version, this will no longer \n",
       "exclude empty or all-NA columns when determining the result dtypes. To retain the old behavior, exclude the \n",
       "relevant entries before the concat operation.\n",
       "  results = pd.concat([results, normalized_data]) #.dropna(axis=1, how=\"all\")])\n"
      ]
     },
     "metadata": {},
     "output_type": "display_data"
    },
    {
     "data": {
      "text/html": [
       "<pre style=\"white-space:pre;overflow-x:auto;line-height:normal;font-family:Menlo,'DejaVu Sans Mono',consolas,'Courier New',monospace\">/var/folders/7t/k8q3439j6z3c683j7w00wtm80000gn/T/ipykernel_58430/1419766920.py:27: FutureWarning: The behavior of \n",
       "DataFrame concatenation with empty or all-NA entries is deprecated. In a future version, this will no longer \n",
       "exclude empty or all-NA columns when determining the result dtypes. To retain the old behavior, exclude the \n",
       "relevant entries before the concat operation.\n",
       "  results = pd.concat([results, normalized_data]) #.dropna(axis=1, how=\"all\")])\n",
       "</pre>\n"
      ],
      "text/plain": [
       "/var/folders/7t/k8q3439j6z3c683j7w00wtm80000gn/T/ipykernel_58430/1419766920.py:27: FutureWarning: The behavior of \n",
       "DataFrame concatenation with empty or all-NA entries is deprecated. In a future version, this will no longer \n",
       "exclude empty or all-NA columns when determining the result dtypes. To retain the old behavior, exclude the \n",
       "relevant entries before the concat operation.\n",
       "  results = pd.concat([results, normalized_data]) #.dropna(axis=1, how=\"all\")])\n"
      ]
     },
     "metadata": {},
     "output_type": "display_data"
    },
    {
     "data": {
      "text/html": [
       "<pre style=\"white-space:pre;overflow-x:auto;line-height:normal;font-family:Menlo,'DejaVu Sans Mono',consolas,'Courier New',monospace\">/var/folders/7t/k8q3439j6z3c683j7w00wtm80000gn/T/ipykernel_58430/1419766920.py:27: FutureWarning: The behavior of \n",
       "DataFrame concatenation with empty or all-NA entries is deprecated. In a future version, this will no longer \n",
       "exclude empty or all-NA columns when determining the result dtypes. To retain the old behavior, exclude the \n",
       "relevant entries before the concat operation.\n",
       "  results = pd.concat([results, normalized_data]) #.dropna(axis=1, how=\"all\")])\n",
       "</pre>\n"
      ],
      "text/plain": [
       "/var/folders/7t/k8q3439j6z3c683j7w00wtm80000gn/T/ipykernel_58430/1419766920.py:27: FutureWarning: The behavior of \n",
       "DataFrame concatenation with empty or all-NA entries is deprecated. In a future version, this will no longer \n",
       "exclude empty or all-NA columns when determining the result dtypes. To retain the old behavior, exclude the \n",
       "relevant entries before the concat operation.\n",
       "  results = pd.concat([results, normalized_data]) #.dropna(axis=1, how=\"all\")])\n"
      ]
     },
     "metadata": {},
     "output_type": "display_data"
    },
    {
     "data": {
      "text/html": [
       "<pre style=\"white-space:pre;overflow-x:auto;line-height:normal;font-family:Menlo,'DejaVu Sans Mono',consolas,'Courier New',monospace\">/var/folders/7t/k8q3439j6z3c683j7w00wtm80000gn/T/ipykernel_58430/1419766920.py:27: FutureWarning: The behavior of \n",
       "DataFrame concatenation with empty or all-NA entries is deprecated. In a future version, this will no longer \n",
       "exclude empty or all-NA columns when determining the result dtypes. To retain the old behavior, exclude the \n",
       "relevant entries before the concat operation.\n",
       "  results = pd.concat([results, normalized_data]) #.dropna(axis=1, how=\"all\")])\n",
       "</pre>\n"
      ],
      "text/plain": [
       "/var/folders/7t/k8q3439j6z3c683j7w00wtm80000gn/T/ipykernel_58430/1419766920.py:27: FutureWarning: The behavior of \n",
       "DataFrame concatenation with empty or all-NA entries is deprecated. In a future version, this will no longer \n",
       "exclude empty or all-NA columns when determining the result dtypes. To retain the old behavior, exclude the \n",
       "relevant entries before the concat operation.\n",
       "  results = pd.concat([results, normalized_data]) #.dropna(axis=1, how=\"all\")])\n"
      ]
     },
     "metadata": {},
     "output_type": "display_data"
    },
    {
     "data": {
      "text/html": [
       "<pre style=\"white-space:pre;overflow-x:auto;line-height:normal;font-family:Menlo,'DejaVu Sans Mono',consolas,'Courier New',monospace\">/var/folders/7t/k8q3439j6z3c683j7w00wtm80000gn/T/ipykernel_58430/1419766920.py:27: FutureWarning: The behavior of \n",
       "DataFrame concatenation with empty or all-NA entries is deprecated. In a future version, this will no longer \n",
       "exclude empty or all-NA columns when determining the result dtypes. To retain the old behavior, exclude the \n",
       "relevant entries before the concat operation.\n",
       "  results = pd.concat([results, normalized_data]) #.dropna(axis=1, how=\"all\")])\n",
       "</pre>\n"
      ],
      "text/plain": [
       "/var/folders/7t/k8q3439j6z3c683j7w00wtm80000gn/T/ipykernel_58430/1419766920.py:27: FutureWarning: The behavior of \n",
       "DataFrame concatenation with empty or all-NA entries is deprecated. In a future version, this will no longer \n",
       "exclude empty or all-NA columns when determining the result dtypes. To retain the old behavior, exclude the \n",
       "relevant entries before the concat operation.\n",
       "  results = pd.concat([results, normalized_data]) #.dropna(axis=1, how=\"all\")])\n"
      ]
     },
     "metadata": {},
     "output_type": "display_data"
    },
    {
     "data": {
      "text/html": [
       "<pre style=\"white-space:pre;overflow-x:auto;line-height:normal;font-family:Menlo,'DejaVu Sans Mono',consolas,'Courier New',monospace\">/var/folders/7t/k8q3439j6z3c683j7w00wtm80000gn/T/ipykernel_58430/1419766920.py:27: FutureWarning: The behavior of \n",
       "DataFrame concatenation with empty or all-NA entries is deprecated. In a future version, this will no longer \n",
       "exclude empty or all-NA columns when determining the result dtypes. To retain the old behavior, exclude the \n",
       "relevant entries before the concat operation.\n",
       "  results = pd.concat([results, normalized_data]) #.dropna(axis=1, how=\"all\")])\n",
       "</pre>\n"
      ],
      "text/plain": [
       "/var/folders/7t/k8q3439j6z3c683j7w00wtm80000gn/T/ipykernel_58430/1419766920.py:27: FutureWarning: The behavior of \n",
       "DataFrame concatenation with empty or all-NA entries is deprecated. In a future version, this will no longer \n",
       "exclude empty or all-NA columns when determining the result dtypes. To retain the old behavior, exclude the \n",
       "relevant entries before the concat operation.\n",
       "  results = pd.concat([results, normalized_data]) #.dropna(axis=1, how=\"all\")])\n"
      ]
     },
     "metadata": {},
     "output_type": "display_data"
    },
    {
     "data": {
      "text/html": [
       "<pre style=\"white-space:pre;overflow-x:auto;line-height:normal;font-family:Menlo,'DejaVu Sans Mono',consolas,'Courier New',monospace\">/var/folders/7t/k8q3439j6z3c683j7w00wtm80000gn/T/ipykernel_58430/1419766920.py:27: FutureWarning: The behavior of \n",
       "DataFrame concatenation with empty or all-NA entries is deprecated. In a future version, this will no longer \n",
       "exclude empty or all-NA columns when determining the result dtypes. To retain the old behavior, exclude the \n",
       "relevant entries before the concat operation.\n",
       "  results = pd.concat([results, normalized_data]) #.dropna(axis=1, how=\"all\")])\n",
       "</pre>\n"
      ],
      "text/plain": [
       "/var/folders/7t/k8q3439j6z3c683j7w00wtm80000gn/T/ipykernel_58430/1419766920.py:27: FutureWarning: The behavior of \n",
       "DataFrame concatenation with empty or all-NA entries is deprecated. In a future version, this will no longer \n",
       "exclude empty or all-NA columns when determining the result dtypes. To retain the old behavior, exclude the \n",
       "relevant entries before the concat operation.\n",
       "  results = pd.concat([results, normalized_data]) #.dropna(axis=1, how=\"all\")])\n"
      ]
     },
     "metadata": {},
     "output_type": "display_data"
    },
    {
     "data": {
      "text/html": [
       "<pre style=\"white-space:pre;overflow-x:auto;line-height:normal;font-family:Menlo,'DejaVu Sans Mono',consolas,'Courier New',monospace\">/var/folders/7t/k8q3439j6z3c683j7w00wtm80000gn/T/ipykernel_58430/1419766920.py:27: FutureWarning: The behavior of \n",
       "DataFrame concatenation with empty or all-NA entries is deprecated. In a future version, this will no longer \n",
       "exclude empty or all-NA columns when determining the result dtypes. To retain the old behavior, exclude the \n",
       "relevant entries before the concat operation.\n",
       "  results = pd.concat([results, normalized_data]) #.dropna(axis=1, how=\"all\")])\n",
       "</pre>\n"
      ],
      "text/plain": [
       "/var/folders/7t/k8q3439j6z3c683j7w00wtm80000gn/T/ipykernel_58430/1419766920.py:27: FutureWarning: The behavior of \n",
       "DataFrame concatenation with empty or all-NA entries is deprecated. In a future version, this will no longer \n",
       "exclude empty or all-NA columns when determining the result dtypes. To retain the old behavior, exclude the \n",
       "relevant entries before the concat operation.\n",
       "  results = pd.concat([results, normalized_data]) #.dropna(axis=1, how=\"all\")])\n"
      ]
     },
     "metadata": {},
     "output_type": "display_data"
    },
    {
     "data": {
      "text/html": [
       "<pre style=\"white-space:pre;overflow-x:auto;line-height:normal;font-family:Menlo,'DejaVu Sans Mono',consolas,'Courier New',monospace\">/var/folders/7t/k8q3439j6z3c683j7w00wtm80000gn/T/ipykernel_58430/1419766920.py:27: FutureWarning: The behavior of \n",
       "DataFrame concatenation with empty or all-NA entries is deprecated. In a future version, this will no longer \n",
       "exclude empty or all-NA columns when determining the result dtypes. To retain the old behavior, exclude the \n",
       "relevant entries before the concat operation.\n",
       "  results = pd.concat([results, normalized_data]) #.dropna(axis=1, how=\"all\")])\n",
       "</pre>\n"
      ],
      "text/plain": [
       "/var/folders/7t/k8q3439j6z3c683j7w00wtm80000gn/T/ipykernel_58430/1419766920.py:27: FutureWarning: The behavior of \n",
       "DataFrame concatenation with empty or all-NA entries is deprecated. In a future version, this will no longer \n",
       "exclude empty or all-NA columns when determining the result dtypes. To retain the old behavior, exclude the \n",
       "relevant entries before the concat operation.\n",
       "  results = pd.concat([results, normalized_data]) #.dropna(axis=1, how=\"all\")])\n"
      ]
     },
     "metadata": {},
     "output_type": "display_data"
    },
    {
     "data": {
      "text/html": [
       "<pre style=\"white-space:pre;overflow-x:auto;line-height:normal;font-family:Menlo,'DejaVu Sans Mono',consolas,'Courier New',monospace\">/var/folders/7t/k8q3439j6z3c683j7w00wtm80000gn/T/ipykernel_58430/1419766920.py:27: FutureWarning: The behavior of \n",
       "DataFrame concatenation with empty or all-NA entries is deprecated. In a future version, this will no longer \n",
       "exclude empty or all-NA columns when determining the result dtypes. To retain the old behavior, exclude the \n",
       "relevant entries before the concat operation.\n",
       "  results = pd.concat([results, normalized_data]) #.dropna(axis=1, how=\"all\")])\n",
       "</pre>\n"
      ],
      "text/plain": [
       "/var/folders/7t/k8q3439j6z3c683j7w00wtm80000gn/T/ipykernel_58430/1419766920.py:27: FutureWarning: The behavior of \n",
       "DataFrame concatenation with empty or all-NA entries is deprecated. In a future version, this will no longer \n",
       "exclude empty or all-NA columns when determining the result dtypes. To retain the old behavior, exclude the \n",
       "relevant entries before the concat operation.\n",
       "  results = pd.concat([results, normalized_data]) #.dropna(axis=1, how=\"all\")])\n"
      ]
     },
     "metadata": {},
     "output_type": "display_data"
    },
    {
     "data": {
      "text/html": [
       "<pre style=\"white-space:pre;overflow-x:auto;line-height:normal;font-family:Menlo,'DejaVu Sans Mono',consolas,'Courier New',monospace\">/var/folders/7t/k8q3439j6z3c683j7w00wtm80000gn/T/ipykernel_58430/1419766920.py:27: FutureWarning: The behavior of \n",
       "DataFrame concatenation with empty or all-NA entries is deprecated. In a future version, this will no longer \n",
       "exclude empty or all-NA columns when determining the result dtypes. To retain the old behavior, exclude the \n",
       "relevant entries before the concat operation.\n",
       "  results = pd.concat([results, normalized_data]) #.dropna(axis=1, how=\"all\")])\n",
       "</pre>\n"
      ],
      "text/plain": [
       "/var/folders/7t/k8q3439j6z3c683j7w00wtm80000gn/T/ipykernel_58430/1419766920.py:27: FutureWarning: The behavior of \n",
       "DataFrame concatenation with empty or all-NA entries is deprecated. In a future version, this will no longer \n",
       "exclude empty or all-NA columns when determining the result dtypes. To retain the old behavior, exclude the \n",
       "relevant entries before the concat operation.\n",
       "  results = pd.concat([results, normalized_data]) #.dropna(axis=1, how=\"all\")])\n"
      ]
     },
     "metadata": {},
     "output_type": "display_data"
    },
    {
     "data": {
      "text/html": [
       "<pre style=\"white-space:pre;overflow-x:auto;line-height:normal;font-family:Menlo,'DejaVu Sans Mono',consolas,'Courier New',monospace\">/var/folders/7t/k8q3439j6z3c683j7w00wtm80000gn/T/ipykernel_58430/1419766920.py:27: FutureWarning: The behavior of \n",
       "DataFrame concatenation with empty or all-NA entries is deprecated. In a future version, this will no longer \n",
       "exclude empty or all-NA columns when determining the result dtypes. To retain the old behavior, exclude the \n",
       "relevant entries before the concat operation.\n",
       "  results = pd.concat([results, normalized_data]) #.dropna(axis=1, how=\"all\")])\n",
       "</pre>\n"
      ],
      "text/plain": [
       "/var/folders/7t/k8q3439j6z3c683j7w00wtm80000gn/T/ipykernel_58430/1419766920.py:27: FutureWarning: The behavior of \n",
       "DataFrame concatenation with empty or all-NA entries is deprecated. In a future version, this will no longer \n",
       "exclude empty or all-NA columns when determining the result dtypes. To retain the old behavior, exclude the \n",
       "relevant entries before the concat operation.\n",
       "  results = pd.concat([results, normalized_data]) #.dropna(axis=1, how=\"all\")])\n"
      ]
     },
     "metadata": {},
     "output_type": "display_data"
    },
    {
     "data": {
      "text/html": [
       "<pre style=\"white-space:pre;overflow-x:auto;line-height:normal;font-family:Menlo,'DejaVu Sans Mono',consolas,'Courier New',monospace\">/var/folders/7t/k8q3439j6z3c683j7w00wtm80000gn/T/ipykernel_58430/1419766920.py:27: FutureWarning: The behavior of \n",
       "DataFrame concatenation with empty or all-NA entries is deprecated. In a future version, this will no longer \n",
       "exclude empty or all-NA columns when determining the result dtypes. To retain the old behavior, exclude the \n",
       "relevant entries before the concat operation.\n",
       "  results = pd.concat([results, normalized_data]) #.dropna(axis=1, how=\"all\")])\n",
       "</pre>\n"
      ],
      "text/plain": [
       "/var/folders/7t/k8q3439j6z3c683j7w00wtm80000gn/T/ipykernel_58430/1419766920.py:27: FutureWarning: The behavior of \n",
       "DataFrame concatenation with empty or all-NA entries is deprecated. In a future version, this will no longer \n",
       "exclude empty or all-NA columns when determining the result dtypes. To retain the old behavior, exclude the \n",
       "relevant entries before the concat operation.\n",
       "  results = pd.concat([results, normalized_data]) #.dropna(axis=1, how=\"all\")])\n"
      ]
     },
     "metadata": {},
     "output_type": "display_data"
    },
    {
     "data": {
      "text/html": [
       "<pre style=\"white-space:pre;overflow-x:auto;line-height:normal;font-family:Menlo,'DejaVu Sans Mono',consolas,'Courier New',monospace\">/var/folders/7t/k8q3439j6z3c683j7w00wtm80000gn/T/ipykernel_58430/1419766920.py:27: FutureWarning: The behavior of \n",
       "DataFrame concatenation with empty or all-NA entries is deprecated. In a future version, this will no longer \n",
       "exclude empty or all-NA columns when determining the result dtypes. To retain the old behavior, exclude the \n",
       "relevant entries before the concat operation.\n",
       "  results = pd.concat([results, normalized_data]) #.dropna(axis=1, how=\"all\")])\n",
       "</pre>\n"
      ],
      "text/plain": [
       "/var/folders/7t/k8q3439j6z3c683j7w00wtm80000gn/T/ipykernel_58430/1419766920.py:27: FutureWarning: The behavior of \n",
       "DataFrame concatenation with empty or all-NA entries is deprecated. In a future version, this will no longer \n",
       "exclude empty or all-NA columns when determining the result dtypes. To retain the old behavior, exclude the \n",
       "relevant entries before the concat operation.\n",
       "  results = pd.concat([results, normalized_data]) #.dropna(axis=1, how=\"all\")])\n"
      ]
     },
     "metadata": {},
     "output_type": "display_data"
    },
    {
     "data": {
      "text/html": [
       "<pre style=\"white-space:pre;overflow-x:auto;line-height:normal;font-family:Menlo,'DejaVu Sans Mono',consolas,'Courier New',monospace\">/var/folders/7t/k8q3439j6z3c683j7w00wtm80000gn/T/ipykernel_58430/1419766920.py:27: FutureWarning: The behavior of \n",
       "DataFrame concatenation with empty or all-NA entries is deprecated. In a future version, this will no longer \n",
       "exclude empty or all-NA columns when determining the result dtypes. To retain the old behavior, exclude the \n",
       "relevant entries before the concat operation.\n",
       "  results = pd.concat([results, normalized_data]) #.dropna(axis=1, how=\"all\")])\n",
       "</pre>\n"
      ],
      "text/plain": [
       "/var/folders/7t/k8q3439j6z3c683j7w00wtm80000gn/T/ipykernel_58430/1419766920.py:27: FutureWarning: The behavior of \n",
       "DataFrame concatenation with empty or all-NA entries is deprecated. In a future version, this will no longer \n",
       "exclude empty or all-NA columns when determining the result dtypes. To retain the old behavior, exclude the \n",
       "relevant entries before the concat operation.\n",
       "  results = pd.concat([results, normalized_data]) #.dropna(axis=1, how=\"all\")])\n"
      ]
     },
     "metadata": {},
     "output_type": "display_data"
    },
    {
     "data": {
      "text/html": [
       "<pre style=\"white-space:pre;overflow-x:auto;line-height:normal;font-family:Menlo,'DejaVu Sans Mono',consolas,'Courier New',monospace\">/var/folders/7t/k8q3439j6z3c683j7w00wtm80000gn/T/ipykernel_58430/1419766920.py:27: FutureWarning: The behavior of \n",
       "DataFrame concatenation with empty or all-NA entries is deprecated. In a future version, this will no longer \n",
       "exclude empty or all-NA columns when determining the result dtypes. To retain the old behavior, exclude the \n",
       "relevant entries before the concat operation.\n",
       "  results = pd.concat([results, normalized_data]) #.dropna(axis=1, how=\"all\")])\n",
       "</pre>\n"
      ],
      "text/plain": [
       "/var/folders/7t/k8q3439j6z3c683j7w00wtm80000gn/T/ipykernel_58430/1419766920.py:27: FutureWarning: The behavior of \n",
       "DataFrame concatenation with empty or all-NA entries is deprecated. In a future version, this will no longer \n",
       "exclude empty or all-NA columns when determining the result dtypes. To retain the old behavior, exclude the \n",
       "relevant entries before the concat operation.\n",
       "  results = pd.concat([results, normalized_data]) #.dropna(axis=1, how=\"all\")])\n"
      ]
     },
     "metadata": {},
     "output_type": "display_data"
    },
    {
     "data": {
      "text/html": [
       "<pre style=\"white-space:pre;overflow-x:auto;line-height:normal;font-family:Menlo,'DejaVu Sans Mono',consolas,'Courier New',monospace\">/var/folders/7t/k8q3439j6z3c683j7w00wtm80000gn/T/ipykernel_58430/1419766920.py:27: FutureWarning: The behavior of \n",
       "DataFrame concatenation with empty or all-NA entries is deprecated. In a future version, this will no longer \n",
       "exclude empty or all-NA columns when determining the result dtypes. To retain the old behavior, exclude the \n",
       "relevant entries before the concat operation.\n",
       "  results = pd.concat([results, normalized_data]) #.dropna(axis=1, how=\"all\")])\n",
       "</pre>\n"
      ],
      "text/plain": [
       "/var/folders/7t/k8q3439j6z3c683j7w00wtm80000gn/T/ipykernel_58430/1419766920.py:27: FutureWarning: The behavior of \n",
       "DataFrame concatenation with empty or all-NA entries is deprecated. In a future version, this will no longer \n",
       "exclude empty or all-NA columns when determining the result dtypes. To retain the old behavior, exclude the \n",
       "relevant entries before the concat operation.\n",
       "  results = pd.concat([results, normalized_data]) #.dropna(axis=1, how=\"all\")])\n"
      ]
     },
     "metadata": {},
     "output_type": "display_data"
    },
    {
     "data": {
      "text/html": [
       "<pre style=\"white-space:pre;overflow-x:auto;line-height:normal;font-family:Menlo,'DejaVu Sans Mono',consolas,'Courier New',monospace\">/var/folders/7t/k8q3439j6z3c683j7w00wtm80000gn/T/ipykernel_58430/1419766920.py:27: FutureWarning: The behavior of \n",
       "DataFrame concatenation with empty or all-NA entries is deprecated. In a future version, this will no longer \n",
       "exclude empty or all-NA columns when determining the result dtypes. To retain the old behavior, exclude the \n",
       "relevant entries before the concat operation.\n",
       "  results = pd.concat([results, normalized_data]) #.dropna(axis=1, how=\"all\")])\n",
       "</pre>\n"
      ],
      "text/plain": [
       "/var/folders/7t/k8q3439j6z3c683j7w00wtm80000gn/T/ipykernel_58430/1419766920.py:27: FutureWarning: The behavior of \n",
       "DataFrame concatenation with empty or all-NA entries is deprecated. In a future version, this will no longer \n",
       "exclude empty or all-NA columns when determining the result dtypes. To retain the old behavior, exclude the \n",
       "relevant entries before the concat operation.\n",
       "  results = pd.concat([results, normalized_data]) #.dropna(axis=1, how=\"all\")])\n"
      ]
     },
     "metadata": {},
     "output_type": "display_data"
    },
    {
     "data": {
      "text/html": [
       "<pre style=\"white-space:pre;overflow-x:auto;line-height:normal;font-family:Menlo,'DejaVu Sans Mono',consolas,'Courier New',monospace\">/var/folders/7t/k8q3439j6z3c683j7w00wtm80000gn/T/ipykernel_58430/1419766920.py:27: FutureWarning: The behavior of \n",
       "DataFrame concatenation with empty or all-NA entries is deprecated. In a future version, this will no longer \n",
       "exclude empty or all-NA columns when determining the result dtypes. To retain the old behavior, exclude the \n",
       "relevant entries before the concat operation.\n",
       "  results = pd.concat([results, normalized_data]) #.dropna(axis=1, how=\"all\")])\n",
       "</pre>\n"
      ],
      "text/plain": [
       "/var/folders/7t/k8q3439j6z3c683j7w00wtm80000gn/T/ipykernel_58430/1419766920.py:27: FutureWarning: The behavior of \n",
       "DataFrame concatenation with empty or all-NA entries is deprecated. In a future version, this will no longer \n",
       "exclude empty or all-NA columns when determining the result dtypes. To retain the old behavior, exclude the \n",
       "relevant entries before the concat operation.\n",
       "  results = pd.concat([results, normalized_data]) #.dropna(axis=1, how=\"all\")])\n"
      ]
     },
     "metadata": {},
     "output_type": "display_data"
    },
    {
     "data": {
      "text/html": [
       "<pre style=\"white-space:pre;overflow-x:auto;line-height:normal;font-family:Menlo,'DejaVu Sans Mono',consolas,'Courier New',monospace\">/var/folders/7t/k8q3439j6z3c683j7w00wtm80000gn/T/ipykernel_58430/1419766920.py:27: FutureWarning: The behavior of \n",
       "DataFrame concatenation with empty or all-NA entries is deprecated. In a future version, this will no longer \n",
       "exclude empty or all-NA columns when determining the result dtypes. To retain the old behavior, exclude the \n",
       "relevant entries before the concat operation.\n",
       "  results = pd.concat([results, normalized_data]) #.dropna(axis=1, how=\"all\")])\n",
       "</pre>\n"
      ],
      "text/plain": [
       "/var/folders/7t/k8q3439j6z3c683j7w00wtm80000gn/T/ipykernel_58430/1419766920.py:27: FutureWarning: The behavior of \n",
       "DataFrame concatenation with empty or all-NA entries is deprecated. In a future version, this will no longer \n",
       "exclude empty or all-NA columns when determining the result dtypes. To retain the old behavior, exclude the \n",
       "relevant entries before the concat operation.\n",
       "  results = pd.concat([results, normalized_data]) #.dropna(axis=1, how=\"all\")])\n"
      ]
     },
     "metadata": {},
     "output_type": "display_data"
    },
    {
     "data": {
      "text/html": [
       "<pre style=\"white-space:pre;overflow-x:auto;line-height:normal;font-family:Menlo,'DejaVu Sans Mono',consolas,'Courier New',monospace\">/var/folders/7t/k8q3439j6z3c683j7w00wtm80000gn/T/ipykernel_58430/1419766920.py:27: FutureWarning: The behavior of \n",
       "DataFrame concatenation with empty or all-NA entries is deprecated. In a future version, this will no longer \n",
       "exclude empty or all-NA columns when determining the result dtypes. To retain the old behavior, exclude the \n",
       "relevant entries before the concat operation.\n",
       "  results = pd.concat([results, normalized_data]) #.dropna(axis=1, how=\"all\")])\n",
       "</pre>\n"
      ],
      "text/plain": [
       "/var/folders/7t/k8q3439j6z3c683j7w00wtm80000gn/T/ipykernel_58430/1419766920.py:27: FutureWarning: The behavior of \n",
       "DataFrame concatenation with empty or all-NA entries is deprecated. In a future version, this will no longer \n",
       "exclude empty or all-NA columns when determining the result dtypes. To retain the old behavior, exclude the \n",
       "relevant entries before the concat operation.\n",
       "  results = pd.concat([results, normalized_data]) #.dropna(axis=1, how=\"all\")])\n"
      ]
     },
     "metadata": {},
     "output_type": "display_data"
    },
    {
     "data": {
      "text/html": [
       "<pre style=\"white-space:pre;overflow-x:auto;line-height:normal;font-family:Menlo,'DejaVu Sans Mono',consolas,'Courier New',monospace\">/var/folders/7t/k8q3439j6z3c683j7w00wtm80000gn/T/ipykernel_58430/1419766920.py:27: FutureWarning: The behavior of \n",
       "DataFrame concatenation with empty or all-NA entries is deprecated. In a future version, this will no longer \n",
       "exclude empty or all-NA columns when determining the result dtypes. To retain the old behavior, exclude the \n",
       "relevant entries before the concat operation.\n",
       "  results = pd.concat([results, normalized_data]) #.dropna(axis=1, how=\"all\")])\n",
       "</pre>\n"
      ],
      "text/plain": [
       "/var/folders/7t/k8q3439j6z3c683j7w00wtm80000gn/T/ipykernel_58430/1419766920.py:27: FutureWarning: The behavior of \n",
       "DataFrame concatenation with empty or all-NA entries is deprecated. In a future version, this will no longer \n",
       "exclude empty or all-NA columns when determining the result dtypes. To retain the old behavior, exclude the \n",
       "relevant entries before the concat operation.\n",
       "  results = pd.concat([results, normalized_data]) #.dropna(axis=1, how=\"all\")])\n"
      ]
     },
     "metadata": {},
     "output_type": "display_data"
    },
    {
     "data": {
      "text/html": [
       "<pre style=\"white-space:pre;overflow-x:auto;line-height:normal;font-family:Menlo,'DejaVu Sans Mono',consolas,'Courier New',monospace\">/var/folders/7t/k8q3439j6z3c683j7w00wtm80000gn/T/ipykernel_58430/1419766920.py:27: FutureWarning: The behavior of \n",
       "DataFrame concatenation with empty or all-NA entries is deprecated. In a future version, this will no longer \n",
       "exclude empty or all-NA columns when determining the result dtypes. To retain the old behavior, exclude the \n",
       "relevant entries before the concat operation.\n",
       "  results = pd.concat([results, normalized_data]) #.dropna(axis=1, how=\"all\")])\n",
       "</pre>\n"
      ],
      "text/plain": [
       "/var/folders/7t/k8q3439j6z3c683j7w00wtm80000gn/T/ipykernel_58430/1419766920.py:27: FutureWarning: The behavior of \n",
       "DataFrame concatenation with empty or all-NA entries is deprecated. In a future version, this will no longer \n",
       "exclude empty or all-NA columns when determining the result dtypes. To retain the old behavior, exclude the \n",
       "relevant entries before the concat operation.\n",
       "  results = pd.concat([results, normalized_data]) #.dropna(axis=1, how=\"all\")])\n"
      ]
     },
     "metadata": {},
     "output_type": "display_data"
    },
    {
     "data": {
      "text/html": [
       "<pre style=\"white-space:pre;overflow-x:auto;line-height:normal;font-family:Menlo,'DejaVu Sans Mono',consolas,'Courier New',monospace\">/var/folders/7t/k8q3439j6z3c683j7w00wtm80000gn/T/ipykernel_58430/1419766920.py:27: FutureWarning: The behavior of \n",
       "DataFrame concatenation with empty or all-NA entries is deprecated. In a future version, this will no longer \n",
       "exclude empty or all-NA columns when determining the result dtypes. To retain the old behavior, exclude the \n",
       "relevant entries before the concat operation.\n",
       "  results = pd.concat([results, normalized_data]) #.dropna(axis=1, how=\"all\")])\n",
       "</pre>\n"
      ],
      "text/plain": [
       "/var/folders/7t/k8q3439j6z3c683j7w00wtm80000gn/T/ipykernel_58430/1419766920.py:27: FutureWarning: The behavior of \n",
       "DataFrame concatenation with empty or all-NA entries is deprecated. In a future version, this will no longer \n",
       "exclude empty or all-NA columns when determining the result dtypes. To retain the old behavior, exclude the \n",
       "relevant entries before the concat operation.\n",
       "  results = pd.concat([results, normalized_data]) #.dropna(axis=1, how=\"all\")])\n"
      ]
     },
     "metadata": {},
     "output_type": "display_data"
    },
    {
     "data": {
      "text/html": [
       "<pre style=\"white-space:pre;overflow-x:auto;line-height:normal;font-family:Menlo,'DejaVu Sans Mono',consolas,'Courier New',monospace\">/var/folders/7t/k8q3439j6z3c683j7w00wtm80000gn/T/ipykernel_58430/1419766920.py:27: FutureWarning: The behavior of \n",
       "DataFrame concatenation with empty or all-NA entries is deprecated. In a future version, this will no longer \n",
       "exclude empty or all-NA columns when determining the result dtypes. To retain the old behavior, exclude the \n",
       "relevant entries before the concat operation.\n",
       "  results = pd.concat([results, normalized_data]) #.dropna(axis=1, how=\"all\")])\n",
       "</pre>\n"
      ],
      "text/plain": [
       "/var/folders/7t/k8q3439j6z3c683j7w00wtm80000gn/T/ipykernel_58430/1419766920.py:27: FutureWarning: The behavior of \n",
       "DataFrame concatenation with empty or all-NA entries is deprecated. In a future version, this will no longer \n",
       "exclude empty or all-NA columns when determining the result dtypes. To retain the old behavior, exclude the \n",
       "relevant entries before the concat operation.\n",
       "  results = pd.concat([results, normalized_data]) #.dropna(axis=1, how=\"all\")])\n"
      ]
     },
     "metadata": {},
     "output_type": "display_data"
    },
    {
     "data": {
      "text/html": [
       "<pre style=\"white-space:pre;overflow-x:auto;line-height:normal;font-family:Menlo,'DejaVu Sans Mono',consolas,'Courier New',monospace\">/var/folders/7t/k8q3439j6z3c683j7w00wtm80000gn/T/ipykernel_58430/1419766920.py:27: FutureWarning: The behavior of \n",
       "DataFrame concatenation with empty or all-NA entries is deprecated. In a future version, this will no longer \n",
       "exclude empty or all-NA columns when determining the result dtypes. To retain the old behavior, exclude the \n",
       "relevant entries before the concat operation.\n",
       "  results = pd.concat([results, normalized_data]) #.dropna(axis=1, how=\"all\")])\n",
       "</pre>\n"
      ],
      "text/plain": [
       "/var/folders/7t/k8q3439j6z3c683j7w00wtm80000gn/T/ipykernel_58430/1419766920.py:27: FutureWarning: The behavior of \n",
       "DataFrame concatenation with empty or all-NA entries is deprecated. In a future version, this will no longer \n",
       "exclude empty or all-NA columns when determining the result dtypes. To retain the old behavior, exclude the \n",
       "relevant entries before the concat operation.\n",
       "  results = pd.concat([results, normalized_data]) #.dropna(axis=1, how=\"all\")])\n"
      ]
     },
     "metadata": {},
     "output_type": "display_data"
    },
    {
     "data": {
      "text/html": [
       "<pre style=\"white-space:pre;overflow-x:auto;line-height:normal;font-family:Menlo,'DejaVu Sans Mono',consolas,'Courier New',monospace\">/var/folders/7t/k8q3439j6z3c683j7w00wtm80000gn/T/ipykernel_58430/1419766920.py:27: FutureWarning: The behavior of \n",
       "DataFrame concatenation with empty or all-NA entries is deprecated. In a future version, this will no longer \n",
       "exclude empty or all-NA columns when determining the result dtypes. To retain the old behavior, exclude the \n",
       "relevant entries before the concat operation.\n",
       "  results = pd.concat([results, normalized_data]) #.dropna(axis=1, how=\"all\")])\n",
       "</pre>\n"
      ],
      "text/plain": [
       "/var/folders/7t/k8q3439j6z3c683j7w00wtm80000gn/T/ipykernel_58430/1419766920.py:27: FutureWarning: The behavior of \n",
       "DataFrame concatenation with empty or all-NA entries is deprecated. In a future version, this will no longer \n",
       "exclude empty or all-NA columns when determining the result dtypes. To retain the old behavior, exclude the \n",
       "relevant entries before the concat operation.\n",
       "  results = pd.concat([results, normalized_data]) #.dropna(axis=1, how=\"all\")])\n"
      ]
     },
     "metadata": {},
     "output_type": "display_data"
    },
    {
     "data": {
      "text/html": [
       "<pre style=\"white-space:pre;overflow-x:auto;line-height:normal;font-family:Menlo,'DejaVu Sans Mono',consolas,'Courier New',monospace\">/var/folders/7t/k8q3439j6z3c683j7w00wtm80000gn/T/ipykernel_58430/1419766920.py:27: FutureWarning: The behavior of \n",
       "DataFrame concatenation with empty or all-NA entries is deprecated. In a future version, this will no longer \n",
       "exclude empty or all-NA columns when determining the result dtypes. To retain the old behavior, exclude the \n",
       "relevant entries before the concat operation.\n",
       "  results = pd.concat([results, normalized_data]) #.dropna(axis=1, how=\"all\")])\n",
       "</pre>\n"
      ],
      "text/plain": [
       "/var/folders/7t/k8q3439j6z3c683j7w00wtm80000gn/T/ipykernel_58430/1419766920.py:27: FutureWarning: The behavior of \n",
       "DataFrame concatenation with empty or all-NA entries is deprecated. In a future version, this will no longer \n",
       "exclude empty or all-NA columns when determining the result dtypes. To retain the old behavior, exclude the \n",
       "relevant entries before the concat operation.\n",
       "  results = pd.concat([results, normalized_data]) #.dropna(axis=1, how=\"all\")])\n"
      ]
     },
     "metadata": {},
     "output_type": "display_data"
    },
    {
     "data": {
      "text/html": [
       "<pre style=\"white-space:pre;overflow-x:auto;line-height:normal;font-family:Menlo,'DejaVu Sans Mono',consolas,'Courier New',monospace\">/var/folders/7t/k8q3439j6z3c683j7w00wtm80000gn/T/ipykernel_58430/1419766920.py:27: FutureWarning: The behavior of \n",
       "DataFrame concatenation with empty or all-NA entries is deprecated. In a future version, this will no longer \n",
       "exclude empty or all-NA columns when determining the result dtypes. To retain the old behavior, exclude the \n",
       "relevant entries before the concat operation.\n",
       "  results = pd.concat([results, normalized_data]) #.dropna(axis=1, how=\"all\")])\n",
       "</pre>\n"
      ],
      "text/plain": [
       "/var/folders/7t/k8q3439j6z3c683j7w00wtm80000gn/T/ipykernel_58430/1419766920.py:27: FutureWarning: The behavior of \n",
       "DataFrame concatenation with empty or all-NA entries is deprecated. In a future version, this will no longer \n",
       "exclude empty or all-NA columns when determining the result dtypes. To retain the old behavior, exclude the \n",
       "relevant entries before the concat operation.\n",
       "  results = pd.concat([results, normalized_data]) #.dropna(axis=1, how=\"all\")])\n"
      ]
     },
     "metadata": {},
     "output_type": "display_data"
    },
    {
     "data": {
      "text/html": [
       "<pre style=\"white-space:pre;overflow-x:auto;line-height:normal;font-family:Menlo,'DejaVu Sans Mono',consolas,'Courier New',monospace\">/var/folders/7t/k8q3439j6z3c683j7w00wtm80000gn/T/ipykernel_58430/1419766920.py:27: FutureWarning: The behavior of \n",
       "DataFrame concatenation with empty or all-NA entries is deprecated. In a future version, this will no longer \n",
       "exclude empty or all-NA columns when determining the result dtypes. To retain the old behavior, exclude the \n",
       "relevant entries before the concat operation.\n",
       "  results = pd.concat([results, normalized_data]) #.dropna(axis=1, how=\"all\")])\n",
       "</pre>\n"
      ],
      "text/plain": [
       "/var/folders/7t/k8q3439j6z3c683j7w00wtm80000gn/T/ipykernel_58430/1419766920.py:27: FutureWarning: The behavior of \n",
       "DataFrame concatenation with empty or all-NA entries is deprecated. In a future version, this will no longer \n",
       "exclude empty or all-NA columns when determining the result dtypes. To retain the old behavior, exclude the \n",
       "relevant entries before the concat operation.\n",
       "  results = pd.concat([results, normalized_data]) #.dropna(axis=1, how=\"all\")])\n"
      ]
     },
     "metadata": {},
     "output_type": "display_data"
    },
    {
     "data": {
      "text/html": [
       "<pre style=\"white-space:pre;overflow-x:auto;line-height:normal;font-family:Menlo,'DejaVu Sans Mono',consolas,'Courier New',monospace\">/var/folders/7t/k8q3439j6z3c683j7w00wtm80000gn/T/ipykernel_58430/1419766920.py:27: FutureWarning: The behavior of \n",
       "DataFrame concatenation with empty or all-NA entries is deprecated. In a future version, this will no longer \n",
       "exclude empty or all-NA columns when determining the result dtypes. To retain the old behavior, exclude the \n",
       "relevant entries before the concat operation.\n",
       "  results = pd.concat([results, normalized_data]) #.dropna(axis=1, how=\"all\")])\n",
       "</pre>\n"
      ],
      "text/plain": [
       "/var/folders/7t/k8q3439j6z3c683j7w00wtm80000gn/T/ipykernel_58430/1419766920.py:27: FutureWarning: The behavior of \n",
       "DataFrame concatenation with empty or all-NA entries is deprecated. In a future version, this will no longer \n",
       "exclude empty or all-NA columns when determining the result dtypes. To retain the old behavior, exclude the \n",
       "relevant entries before the concat operation.\n",
       "  results = pd.concat([results, normalized_data]) #.dropna(axis=1, how=\"all\")])\n"
      ]
     },
     "metadata": {},
     "output_type": "display_data"
    },
    {
     "data": {
      "text/html": [
       "<pre style=\"white-space:pre;overflow-x:auto;line-height:normal;font-family:Menlo,'DejaVu Sans Mono',consolas,'Courier New',monospace\">/var/folders/7t/k8q3439j6z3c683j7w00wtm80000gn/T/ipykernel_58430/1419766920.py:27: FutureWarning: The behavior of \n",
       "DataFrame concatenation with empty or all-NA entries is deprecated. In a future version, this will no longer \n",
       "exclude empty or all-NA columns when determining the result dtypes. To retain the old behavior, exclude the \n",
       "relevant entries before the concat operation.\n",
       "  results = pd.concat([results, normalized_data]) #.dropna(axis=1, how=\"all\")])\n",
       "</pre>\n"
      ],
      "text/plain": [
       "/var/folders/7t/k8q3439j6z3c683j7w00wtm80000gn/T/ipykernel_58430/1419766920.py:27: FutureWarning: The behavior of \n",
       "DataFrame concatenation with empty or all-NA entries is deprecated. In a future version, this will no longer \n",
       "exclude empty or all-NA columns when determining the result dtypes. To retain the old behavior, exclude the \n",
       "relevant entries before the concat operation.\n",
       "  results = pd.concat([results, normalized_data]) #.dropna(axis=1, how=\"all\")])\n"
      ]
     },
     "metadata": {},
     "output_type": "display_data"
    },
    {
     "data": {
      "text/html": [
       "<pre style=\"white-space:pre;overflow-x:auto;line-height:normal;font-family:Menlo,'DejaVu Sans Mono',consolas,'Courier New',monospace\">/var/folders/7t/k8q3439j6z3c683j7w00wtm80000gn/T/ipykernel_58430/1419766920.py:27: FutureWarning: The behavior of \n",
       "DataFrame concatenation with empty or all-NA entries is deprecated. In a future version, this will no longer \n",
       "exclude empty or all-NA columns when determining the result dtypes. To retain the old behavior, exclude the \n",
       "relevant entries before the concat operation.\n",
       "  results = pd.concat([results, normalized_data]) #.dropna(axis=1, how=\"all\")])\n",
       "</pre>\n"
      ],
      "text/plain": [
       "/var/folders/7t/k8q3439j6z3c683j7w00wtm80000gn/T/ipykernel_58430/1419766920.py:27: FutureWarning: The behavior of \n",
       "DataFrame concatenation with empty or all-NA entries is deprecated. In a future version, this will no longer \n",
       "exclude empty or all-NA columns when determining the result dtypes. To retain the old behavior, exclude the \n",
       "relevant entries before the concat operation.\n",
       "  results = pd.concat([results, normalized_data]) #.dropna(axis=1, how=\"all\")])\n"
      ]
     },
     "metadata": {},
     "output_type": "display_data"
    },
    {
     "data": {
      "text/html": [
       "<pre style=\"white-space:pre;overflow-x:auto;line-height:normal;font-family:Menlo,'DejaVu Sans Mono',consolas,'Courier New',monospace\">/var/folders/7t/k8q3439j6z3c683j7w00wtm80000gn/T/ipykernel_58430/1419766920.py:27: FutureWarning: The behavior of \n",
       "DataFrame concatenation with empty or all-NA entries is deprecated. In a future version, this will no longer \n",
       "exclude empty or all-NA columns when determining the result dtypes. To retain the old behavior, exclude the \n",
       "relevant entries before the concat operation.\n",
       "  results = pd.concat([results, normalized_data]) #.dropna(axis=1, how=\"all\")])\n",
       "</pre>\n"
      ],
      "text/plain": [
       "/var/folders/7t/k8q3439j6z3c683j7w00wtm80000gn/T/ipykernel_58430/1419766920.py:27: FutureWarning: The behavior of \n",
       "DataFrame concatenation with empty or all-NA entries is deprecated. In a future version, this will no longer \n",
       "exclude empty or all-NA columns when determining the result dtypes. To retain the old behavior, exclude the \n",
       "relevant entries before the concat operation.\n",
       "  results = pd.concat([results, normalized_data]) #.dropna(axis=1, how=\"all\")])\n"
      ]
     },
     "metadata": {},
     "output_type": "display_data"
    },
    {
     "data": {
      "text/html": [
       "<pre style=\"white-space:pre;overflow-x:auto;line-height:normal;font-family:Menlo,'DejaVu Sans Mono',consolas,'Courier New',monospace\">/var/folders/7t/k8q3439j6z3c683j7w00wtm80000gn/T/ipykernel_58430/1419766920.py:27: FutureWarning: The behavior of \n",
       "DataFrame concatenation with empty or all-NA entries is deprecated. In a future version, this will no longer \n",
       "exclude empty or all-NA columns when determining the result dtypes. To retain the old behavior, exclude the \n",
       "relevant entries before the concat operation.\n",
       "  results = pd.concat([results, normalized_data]) #.dropna(axis=1, how=\"all\")])\n",
       "</pre>\n"
      ],
      "text/plain": [
       "/var/folders/7t/k8q3439j6z3c683j7w00wtm80000gn/T/ipykernel_58430/1419766920.py:27: FutureWarning: The behavior of \n",
       "DataFrame concatenation with empty or all-NA entries is deprecated. In a future version, this will no longer \n",
       "exclude empty or all-NA columns when determining the result dtypes. To retain the old behavior, exclude the \n",
       "relevant entries before the concat operation.\n",
       "  results = pd.concat([results, normalized_data]) #.dropna(axis=1, how=\"all\")])\n"
      ]
     },
     "metadata": {},
     "output_type": "display_data"
    },
    {
     "data": {
      "text/html": [
       "<pre style=\"white-space:pre;overflow-x:auto;line-height:normal;font-family:Menlo,'DejaVu Sans Mono',consolas,'Courier New',monospace\">/var/folders/7t/k8q3439j6z3c683j7w00wtm80000gn/T/ipykernel_58430/1419766920.py:27: FutureWarning: The behavior of \n",
       "DataFrame concatenation with empty or all-NA entries is deprecated. In a future version, this will no longer \n",
       "exclude empty or all-NA columns when determining the result dtypes. To retain the old behavior, exclude the \n",
       "relevant entries before the concat operation.\n",
       "  results = pd.concat([results, normalized_data]) #.dropna(axis=1, how=\"all\")])\n",
       "</pre>\n"
      ],
      "text/plain": [
       "/var/folders/7t/k8q3439j6z3c683j7w00wtm80000gn/T/ipykernel_58430/1419766920.py:27: FutureWarning: The behavior of \n",
       "DataFrame concatenation with empty or all-NA entries is deprecated. In a future version, this will no longer \n",
       "exclude empty or all-NA columns when determining the result dtypes. To retain the old behavior, exclude the \n",
       "relevant entries before the concat operation.\n",
       "  results = pd.concat([results, normalized_data]) #.dropna(axis=1, how=\"all\")])\n"
      ]
     },
     "metadata": {},
     "output_type": "display_data"
    },
    {
     "data": {
      "text/html": [
       "<pre style=\"white-space:pre;overflow-x:auto;line-height:normal;font-family:Menlo,'DejaVu Sans Mono',consolas,'Courier New',monospace\">/var/folders/7t/k8q3439j6z3c683j7w00wtm80000gn/T/ipykernel_58430/1419766920.py:27: FutureWarning: The behavior of \n",
       "DataFrame concatenation with empty or all-NA entries is deprecated. In a future version, this will no longer \n",
       "exclude empty or all-NA columns when determining the result dtypes. To retain the old behavior, exclude the \n",
       "relevant entries before the concat operation.\n",
       "  results = pd.concat([results, normalized_data]) #.dropna(axis=1, how=\"all\")])\n",
       "</pre>\n"
      ],
      "text/plain": [
       "/var/folders/7t/k8q3439j6z3c683j7w00wtm80000gn/T/ipykernel_58430/1419766920.py:27: FutureWarning: The behavior of \n",
       "DataFrame concatenation with empty or all-NA entries is deprecated. In a future version, this will no longer \n",
       "exclude empty or all-NA columns when determining the result dtypes. To retain the old behavior, exclude the \n",
       "relevant entries before the concat operation.\n",
       "  results = pd.concat([results, normalized_data]) #.dropna(axis=1, how=\"all\")])\n"
      ]
     },
     "metadata": {},
     "output_type": "display_data"
    },
    {
     "data": {
      "text/html": [
       "<pre style=\"white-space:pre;overflow-x:auto;line-height:normal;font-family:Menlo,'DejaVu Sans Mono',consolas,'Courier New',monospace\">/var/folders/7t/k8q3439j6z3c683j7w00wtm80000gn/T/ipykernel_58430/1419766920.py:27: FutureWarning: The behavior of \n",
       "DataFrame concatenation with empty or all-NA entries is deprecated. In a future version, this will no longer \n",
       "exclude empty or all-NA columns when determining the result dtypes. To retain the old behavior, exclude the \n",
       "relevant entries before the concat operation.\n",
       "  results = pd.concat([results, normalized_data]) #.dropna(axis=1, how=\"all\")])\n",
       "</pre>\n"
      ],
      "text/plain": [
       "/var/folders/7t/k8q3439j6z3c683j7w00wtm80000gn/T/ipykernel_58430/1419766920.py:27: FutureWarning: The behavior of \n",
       "DataFrame concatenation with empty or all-NA entries is deprecated. In a future version, this will no longer \n",
       "exclude empty or all-NA columns when determining the result dtypes. To retain the old behavior, exclude the \n",
       "relevant entries before the concat operation.\n",
       "  results = pd.concat([results, normalized_data]) #.dropna(axis=1, how=\"all\")])\n"
      ]
     },
     "metadata": {},
     "output_type": "display_data"
    },
    {
     "data": {
      "text/html": [
       "<pre style=\"white-space:pre;overflow-x:auto;line-height:normal;font-family:Menlo,'DejaVu Sans Mono',consolas,'Courier New',monospace\">/var/folders/7t/k8q3439j6z3c683j7w00wtm80000gn/T/ipykernel_58430/1419766920.py:27: FutureWarning: The behavior of \n",
       "DataFrame concatenation with empty or all-NA entries is deprecated. In a future version, this will no longer \n",
       "exclude empty or all-NA columns when determining the result dtypes. To retain the old behavior, exclude the \n",
       "relevant entries before the concat operation.\n",
       "  results = pd.concat([results, normalized_data]) #.dropna(axis=1, how=\"all\")])\n",
       "</pre>\n"
      ],
      "text/plain": [
       "/var/folders/7t/k8q3439j6z3c683j7w00wtm80000gn/T/ipykernel_58430/1419766920.py:27: FutureWarning: The behavior of \n",
       "DataFrame concatenation with empty or all-NA entries is deprecated. In a future version, this will no longer \n",
       "exclude empty or all-NA columns when determining the result dtypes. To retain the old behavior, exclude the \n",
       "relevant entries before the concat operation.\n",
       "  results = pd.concat([results, normalized_data]) #.dropna(axis=1, how=\"all\")])\n"
      ]
     },
     "metadata": {},
     "output_type": "display_data"
    },
    {
     "data": {
      "text/html": [
       "<pre style=\"white-space:pre;overflow-x:auto;line-height:normal;font-family:Menlo,'DejaVu Sans Mono',consolas,'Courier New',monospace\">/var/folders/7t/k8q3439j6z3c683j7w00wtm80000gn/T/ipykernel_58430/1419766920.py:27: FutureWarning: The behavior of \n",
       "DataFrame concatenation with empty or all-NA entries is deprecated. In a future version, this will no longer \n",
       "exclude empty or all-NA columns when determining the result dtypes. To retain the old behavior, exclude the \n",
       "relevant entries before the concat operation.\n",
       "  results = pd.concat([results, normalized_data]) #.dropna(axis=1, how=\"all\")])\n",
       "</pre>\n"
      ],
      "text/plain": [
       "/var/folders/7t/k8q3439j6z3c683j7w00wtm80000gn/T/ipykernel_58430/1419766920.py:27: FutureWarning: The behavior of \n",
       "DataFrame concatenation with empty or all-NA entries is deprecated. In a future version, this will no longer \n",
       "exclude empty or all-NA columns when determining the result dtypes. To retain the old behavior, exclude the \n",
       "relevant entries before the concat operation.\n",
       "  results = pd.concat([results, normalized_data]) #.dropna(axis=1, how=\"all\")])\n"
      ]
     },
     "metadata": {},
     "output_type": "display_data"
    },
    {
     "data": {
      "text/html": [
       "<pre style=\"white-space:pre;overflow-x:auto;line-height:normal;font-family:Menlo,'DejaVu Sans Mono',consolas,'Courier New',monospace\">/var/folders/7t/k8q3439j6z3c683j7w00wtm80000gn/T/ipykernel_58430/1419766920.py:27: FutureWarning: The behavior of \n",
       "DataFrame concatenation with empty or all-NA entries is deprecated. In a future version, this will no longer \n",
       "exclude empty or all-NA columns when determining the result dtypes. To retain the old behavior, exclude the \n",
       "relevant entries before the concat operation.\n",
       "  results = pd.concat([results, normalized_data]) #.dropna(axis=1, how=\"all\")])\n",
       "</pre>\n"
      ],
      "text/plain": [
       "/var/folders/7t/k8q3439j6z3c683j7w00wtm80000gn/T/ipykernel_58430/1419766920.py:27: FutureWarning: The behavior of \n",
       "DataFrame concatenation with empty or all-NA entries is deprecated. In a future version, this will no longer \n",
       "exclude empty or all-NA columns when determining the result dtypes. To retain the old behavior, exclude the \n",
       "relevant entries before the concat operation.\n",
       "  results = pd.concat([results, normalized_data]) #.dropna(axis=1, how=\"all\")])\n"
      ]
     },
     "metadata": {},
     "output_type": "display_data"
    },
    {
     "data": {
      "text/html": [
       "<pre style=\"white-space:pre;overflow-x:auto;line-height:normal;font-family:Menlo,'DejaVu Sans Mono',consolas,'Courier New',monospace\">/var/folders/7t/k8q3439j6z3c683j7w00wtm80000gn/T/ipykernel_58430/1419766920.py:27: FutureWarning: The behavior of \n",
       "DataFrame concatenation with empty or all-NA entries is deprecated. In a future version, this will no longer \n",
       "exclude empty or all-NA columns when determining the result dtypes. To retain the old behavior, exclude the \n",
       "relevant entries before the concat operation.\n",
       "  results = pd.concat([results, normalized_data]) #.dropna(axis=1, how=\"all\")])\n",
       "</pre>\n"
      ],
      "text/plain": [
       "/var/folders/7t/k8q3439j6z3c683j7w00wtm80000gn/T/ipykernel_58430/1419766920.py:27: FutureWarning: The behavior of \n",
       "DataFrame concatenation with empty or all-NA entries is deprecated. In a future version, this will no longer \n",
       "exclude empty or all-NA columns when determining the result dtypes. To retain the old behavior, exclude the \n",
       "relevant entries before the concat operation.\n",
       "  results = pd.concat([results, normalized_data]) #.dropna(axis=1, how=\"all\")])\n"
      ]
     },
     "metadata": {},
     "output_type": "display_data"
    },
    {
     "data": {
      "text/html": [
       "<pre style=\"white-space:pre;overflow-x:auto;line-height:normal;font-family:Menlo,'DejaVu Sans Mono',consolas,'Courier New',monospace\">/var/folders/7t/k8q3439j6z3c683j7w00wtm80000gn/T/ipykernel_58430/1419766920.py:27: FutureWarning: The behavior of \n",
       "DataFrame concatenation with empty or all-NA entries is deprecated. In a future version, this will no longer \n",
       "exclude empty or all-NA columns when determining the result dtypes. To retain the old behavior, exclude the \n",
       "relevant entries before the concat operation.\n",
       "  results = pd.concat([results, normalized_data]) #.dropna(axis=1, how=\"all\")])\n",
       "</pre>\n"
      ],
      "text/plain": [
       "/var/folders/7t/k8q3439j6z3c683j7w00wtm80000gn/T/ipykernel_58430/1419766920.py:27: FutureWarning: The behavior of \n",
       "DataFrame concatenation with empty or all-NA entries is deprecated. In a future version, this will no longer \n",
       "exclude empty or all-NA columns when determining the result dtypes. To retain the old behavior, exclude the \n",
       "relevant entries before the concat operation.\n",
       "  results = pd.concat([results, normalized_data]) #.dropna(axis=1, how=\"all\")])\n"
      ]
     },
     "metadata": {},
     "output_type": "display_data"
    },
    {
     "data": {
      "text/html": [
       "<pre style=\"white-space:pre;overflow-x:auto;line-height:normal;font-family:Menlo,'DejaVu Sans Mono',consolas,'Courier New',monospace\">/var/folders/7t/k8q3439j6z3c683j7w00wtm80000gn/T/ipykernel_58430/1419766920.py:27: FutureWarning: The behavior of \n",
       "DataFrame concatenation with empty or all-NA entries is deprecated. In a future version, this will no longer \n",
       "exclude empty or all-NA columns when determining the result dtypes. To retain the old behavior, exclude the \n",
       "relevant entries before the concat operation.\n",
       "  results = pd.concat([results, normalized_data]) #.dropna(axis=1, how=\"all\")])\n",
       "</pre>\n"
      ],
      "text/plain": [
       "/var/folders/7t/k8q3439j6z3c683j7w00wtm80000gn/T/ipykernel_58430/1419766920.py:27: FutureWarning: The behavior of \n",
       "DataFrame concatenation with empty or all-NA entries is deprecated. In a future version, this will no longer \n",
       "exclude empty or all-NA columns when determining the result dtypes. To retain the old behavior, exclude the \n",
       "relevant entries before the concat operation.\n",
       "  results = pd.concat([results, normalized_data]) #.dropna(axis=1, how=\"all\")])\n"
      ]
     },
     "metadata": {},
     "output_type": "display_data"
    },
    {
     "data": {
      "text/html": [
       "<pre style=\"white-space:pre;overflow-x:auto;line-height:normal;font-family:Menlo,'DejaVu Sans Mono',consolas,'Courier New',monospace\">/var/folders/7t/k8q3439j6z3c683j7w00wtm80000gn/T/ipykernel_58430/1419766920.py:27: FutureWarning: The behavior of \n",
       "DataFrame concatenation with empty or all-NA entries is deprecated. In a future version, this will no longer \n",
       "exclude empty or all-NA columns when determining the result dtypes. To retain the old behavior, exclude the \n",
       "relevant entries before the concat operation.\n",
       "  results = pd.concat([results, normalized_data]) #.dropna(axis=1, how=\"all\")])\n",
       "</pre>\n"
      ],
      "text/plain": [
       "/var/folders/7t/k8q3439j6z3c683j7w00wtm80000gn/T/ipykernel_58430/1419766920.py:27: FutureWarning: The behavior of \n",
       "DataFrame concatenation with empty or all-NA entries is deprecated. In a future version, this will no longer \n",
       "exclude empty or all-NA columns when determining the result dtypes. To retain the old behavior, exclude the \n",
       "relevant entries before the concat operation.\n",
       "  results = pd.concat([results, normalized_data]) #.dropna(axis=1, how=\"all\")])\n"
      ]
     },
     "metadata": {},
     "output_type": "display_data"
    },
    {
     "data": {
      "text/html": [
       "<pre style=\"white-space:pre;overflow-x:auto;line-height:normal;font-family:Menlo,'DejaVu Sans Mono',consolas,'Courier New',monospace\">/var/folders/7t/k8q3439j6z3c683j7w00wtm80000gn/T/ipykernel_58430/1419766920.py:27: FutureWarning: The behavior of \n",
       "DataFrame concatenation with empty or all-NA entries is deprecated. In a future version, this will no longer \n",
       "exclude empty or all-NA columns when determining the result dtypes. To retain the old behavior, exclude the \n",
       "relevant entries before the concat operation.\n",
       "  results = pd.concat([results, normalized_data]) #.dropna(axis=1, how=\"all\")])\n",
       "</pre>\n"
      ],
      "text/plain": [
       "/var/folders/7t/k8q3439j6z3c683j7w00wtm80000gn/T/ipykernel_58430/1419766920.py:27: FutureWarning: The behavior of \n",
       "DataFrame concatenation with empty or all-NA entries is deprecated. In a future version, this will no longer \n",
       "exclude empty or all-NA columns when determining the result dtypes. To retain the old behavior, exclude the \n",
       "relevant entries before the concat operation.\n",
       "  results = pd.concat([results, normalized_data]) #.dropna(axis=1, how=\"all\")])\n"
      ]
     },
     "metadata": {},
     "output_type": "display_data"
    },
    {
     "data": {
      "text/html": [
       "<pre style=\"white-space:pre;overflow-x:auto;line-height:normal;font-family:Menlo,'DejaVu Sans Mono',consolas,'Courier New',monospace\">/var/folders/7t/k8q3439j6z3c683j7w00wtm80000gn/T/ipykernel_58430/1419766920.py:27: FutureWarning: The behavior of \n",
       "DataFrame concatenation with empty or all-NA entries is deprecated. In a future version, this will no longer \n",
       "exclude empty or all-NA columns when determining the result dtypes. To retain the old behavior, exclude the \n",
       "relevant entries before the concat operation.\n",
       "  results = pd.concat([results, normalized_data]) #.dropna(axis=1, how=\"all\")])\n",
       "</pre>\n"
      ],
      "text/plain": [
       "/var/folders/7t/k8q3439j6z3c683j7w00wtm80000gn/T/ipykernel_58430/1419766920.py:27: FutureWarning: The behavior of \n",
       "DataFrame concatenation with empty or all-NA entries is deprecated. In a future version, this will no longer \n",
       "exclude empty or all-NA columns when determining the result dtypes. To retain the old behavior, exclude the \n",
       "relevant entries before the concat operation.\n",
       "  results = pd.concat([results, normalized_data]) #.dropna(axis=1, how=\"all\")])\n"
      ]
     },
     "metadata": {},
     "output_type": "display_data"
    },
    {
     "data": {
      "text/html": [
       "<pre style=\"white-space:pre;overflow-x:auto;line-height:normal;font-family:Menlo,'DejaVu Sans Mono',consolas,'Courier New',monospace\">/var/folders/7t/k8q3439j6z3c683j7w00wtm80000gn/T/ipykernel_58430/1419766920.py:27: FutureWarning: The behavior of \n",
       "DataFrame concatenation with empty or all-NA entries is deprecated. In a future version, this will no longer \n",
       "exclude empty or all-NA columns when determining the result dtypes. To retain the old behavior, exclude the \n",
       "relevant entries before the concat operation.\n",
       "  results = pd.concat([results, normalized_data]) #.dropna(axis=1, how=\"all\")])\n",
       "</pre>\n"
      ],
      "text/plain": [
       "/var/folders/7t/k8q3439j6z3c683j7w00wtm80000gn/T/ipykernel_58430/1419766920.py:27: FutureWarning: The behavior of \n",
       "DataFrame concatenation with empty or all-NA entries is deprecated. In a future version, this will no longer \n",
       "exclude empty or all-NA columns when determining the result dtypes. To retain the old behavior, exclude the \n",
       "relevant entries before the concat operation.\n",
       "  results = pd.concat([results, normalized_data]) #.dropna(axis=1, how=\"all\")])\n"
      ]
     },
     "metadata": {},
     "output_type": "display_data"
    },
    {
     "data": {
      "text/html": [
       "<pre style=\"white-space:pre;overflow-x:auto;line-height:normal;font-family:Menlo,'DejaVu Sans Mono',consolas,'Courier New',monospace\">/var/folders/7t/k8q3439j6z3c683j7w00wtm80000gn/T/ipykernel_58430/1419766920.py:27: FutureWarning: The behavior of \n",
       "DataFrame concatenation with empty or all-NA entries is deprecated. In a future version, this will no longer \n",
       "exclude empty or all-NA columns when determining the result dtypes. To retain the old behavior, exclude the \n",
       "relevant entries before the concat operation.\n",
       "  results = pd.concat([results, normalized_data]) #.dropna(axis=1, how=\"all\")])\n",
       "</pre>\n"
      ],
      "text/plain": [
       "/var/folders/7t/k8q3439j6z3c683j7w00wtm80000gn/T/ipykernel_58430/1419766920.py:27: FutureWarning: The behavior of \n",
       "DataFrame concatenation with empty or all-NA entries is deprecated. In a future version, this will no longer \n",
       "exclude empty or all-NA columns when determining the result dtypes. To retain the old behavior, exclude the \n",
       "relevant entries before the concat operation.\n",
       "  results = pd.concat([results, normalized_data]) #.dropna(axis=1, how=\"all\")])\n"
      ]
     },
     "metadata": {},
     "output_type": "display_data"
    },
    {
     "data": {
      "text/html": [
       "<pre style=\"white-space:pre;overflow-x:auto;line-height:normal;font-family:Menlo,'DejaVu Sans Mono',consolas,'Courier New',monospace\">/var/folders/7t/k8q3439j6z3c683j7w00wtm80000gn/T/ipykernel_58430/1419766920.py:27: FutureWarning: The behavior of \n",
       "DataFrame concatenation with empty or all-NA entries is deprecated. In a future version, this will no longer \n",
       "exclude empty or all-NA columns when determining the result dtypes. To retain the old behavior, exclude the \n",
       "relevant entries before the concat operation.\n",
       "  results = pd.concat([results, normalized_data]) #.dropna(axis=1, how=\"all\")])\n",
       "</pre>\n"
      ],
      "text/plain": [
       "/var/folders/7t/k8q3439j6z3c683j7w00wtm80000gn/T/ipykernel_58430/1419766920.py:27: FutureWarning: The behavior of \n",
       "DataFrame concatenation with empty or all-NA entries is deprecated. In a future version, this will no longer \n",
       "exclude empty or all-NA columns when determining the result dtypes. To retain the old behavior, exclude the \n",
       "relevant entries before the concat operation.\n",
       "  results = pd.concat([results, normalized_data]) #.dropna(axis=1, how=\"all\")])\n"
      ]
     },
     "metadata": {},
     "output_type": "display_data"
    },
    {
     "data": {
      "text/html": [
       "<pre style=\"white-space:pre;overflow-x:auto;line-height:normal;font-family:Menlo,'DejaVu Sans Mono',consolas,'Courier New',monospace\">/var/folders/7t/k8q3439j6z3c683j7w00wtm80000gn/T/ipykernel_58430/1419766920.py:27: FutureWarning: The behavior of \n",
       "DataFrame concatenation with empty or all-NA entries is deprecated. In a future version, this will no longer \n",
       "exclude empty or all-NA columns when determining the result dtypes. To retain the old behavior, exclude the \n",
       "relevant entries before the concat operation.\n",
       "  results = pd.concat([results, normalized_data]) #.dropna(axis=1, how=\"all\")])\n",
       "</pre>\n"
      ],
      "text/plain": [
       "/var/folders/7t/k8q3439j6z3c683j7w00wtm80000gn/T/ipykernel_58430/1419766920.py:27: FutureWarning: The behavior of \n",
       "DataFrame concatenation with empty or all-NA entries is deprecated. In a future version, this will no longer \n",
       "exclude empty or all-NA columns when determining the result dtypes. To retain the old behavior, exclude the \n",
       "relevant entries before the concat operation.\n",
       "  results = pd.concat([results, normalized_data]) #.dropna(axis=1, how=\"all\")])\n"
      ]
     },
     "metadata": {},
     "output_type": "display_data"
    },
    {
     "data": {
      "text/html": [
       "<pre style=\"white-space:pre;overflow-x:auto;line-height:normal;font-family:Menlo,'DejaVu Sans Mono',consolas,'Courier New',monospace\">/var/folders/7t/k8q3439j6z3c683j7w00wtm80000gn/T/ipykernel_58430/1419766920.py:27: FutureWarning: The behavior of \n",
       "DataFrame concatenation with empty or all-NA entries is deprecated. In a future version, this will no longer \n",
       "exclude empty or all-NA columns when determining the result dtypes. To retain the old behavior, exclude the \n",
       "relevant entries before the concat operation.\n",
       "  results = pd.concat([results, normalized_data]) #.dropna(axis=1, how=\"all\")])\n",
       "</pre>\n"
      ],
      "text/plain": [
       "/var/folders/7t/k8q3439j6z3c683j7w00wtm80000gn/T/ipykernel_58430/1419766920.py:27: FutureWarning: The behavior of \n",
       "DataFrame concatenation with empty or all-NA entries is deprecated. In a future version, this will no longer \n",
       "exclude empty or all-NA columns when determining the result dtypes. To retain the old behavior, exclude the \n",
       "relevant entries before the concat operation.\n",
       "  results = pd.concat([results, normalized_data]) #.dropna(axis=1, how=\"all\")])\n"
      ]
     },
     "metadata": {},
     "output_type": "display_data"
    },
    {
     "data": {
      "text/html": [
       "<pre style=\"white-space:pre;overflow-x:auto;line-height:normal;font-family:Menlo,'DejaVu Sans Mono',consolas,'Courier New',monospace\">/var/folders/7t/k8q3439j6z3c683j7w00wtm80000gn/T/ipykernel_58430/1419766920.py:27: FutureWarning: The behavior of \n",
       "DataFrame concatenation with empty or all-NA entries is deprecated. In a future version, this will no longer \n",
       "exclude empty or all-NA columns when determining the result dtypes. To retain the old behavior, exclude the \n",
       "relevant entries before the concat operation.\n",
       "  results = pd.concat([results, normalized_data]) #.dropna(axis=1, how=\"all\")])\n",
       "</pre>\n"
      ],
      "text/plain": [
       "/var/folders/7t/k8q3439j6z3c683j7w00wtm80000gn/T/ipykernel_58430/1419766920.py:27: FutureWarning: The behavior of \n",
       "DataFrame concatenation with empty or all-NA entries is deprecated. In a future version, this will no longer \n",
       "exclude empty or all-NA columns when determining the result dtypes. To retain the old behavior, exclude the \n",
       "relevant entries before the concat operation.\n",
       "  results = pd.concat([results, normalized_data]) #.dropna(axis=1, how=\"all\")])\n"
      ]
     },
     "metadata": {},
     "output_type": "display_data"
    },
    {
     "data": {
      "text/html": [
       "<pre style=\"white-space:pre;overflow-x:auto;line-height:normal;font-family:Menlo,'DejaVu Sans Mono',consolas,'Courier New',monospace\">/var/folders/7t/k8q3439j6z3c683j7w00wtm80000gn/T/ipykernel_58430/1419766920.py:27: FutureWarning: The behavior of \n",
       "DataFrame concatenation with empty or all-NA entries is deprecated. In a future version, this will no longer \n",
       "exclude empty or all-NA columns when determining the result dtypes. To retain the old behavior, exclude the \n",
       "relevant entries before the concat operation.\n",
       "  results = pd.concat([results, normalized_data]) #.dropna(axis=1, how=\"all\")])\n",
       "</pre>\n"
      ],
      "text/plain": [
       "/var/folders/7t/k8q3439j6z3c683j7w00wtm80000gn/T/ipykernel_58430/1419766920.py:27: FutureWarning: The behavior of \n",
       "DataFrame concatenation with empty or all-NA entries is deprecated. In a future version, this will no longer \n",
       "exclude empty or all-NA columns when determining the result dtypes. To retain the old behavior, exclude the \n",
       "relevant entries before the concat operation.\n",
       "  results = pd.concat([results, normalized_data]) #.dropna(axis=1, how=\"all\")])\n"
      ]
     },
     "metadata": {},
     "output_type": "display_data"
    },
    {
     "data": {
      "text/html": [
       "<pre style=\"white-space:pre;overflow-x:auto;line-height:normal;font-family:Menlo,'DejaVu Sans Mono',consolas,'Courier New',monospace\">/var/folders/7t/k8q3439j6z3c683j7w00wtm80000gn/T/ipykernel_58430/1419766920.py:27: FutureWarning: The behavior of \n",
       "DataFrame concatenation with empty or all-NA entries is deprecated. In a future version, this will no longer \n",
       "exclude empty or all-NA columns when determining the result dtypes. To retain the old behavior, exclude the \n",
       "relevant entries before the concat operation.\n",
       "  results = pd.concat([results, normalized_data]) #.dropna(axis=1, how=\"all\")])\n",
       "</pre>\n"
      ],
      "text/plain": [
       "/var/folders/7t/k8q3439j6z3c683j7w00wtm80000gn/T/ipykernel_58430/1419766920.py:27: FutureWarning: The behavior of \n",
       "DataFrame concatenation with empty or all-NA entries is deprecated. In a future version, this will no longer \n",
       "exclude empty or all-NA columns when determining the result dtypes. To retain the old behavior, exclude the \n",
       "relevant entries before the concat operation.\n",
       "  results = pd.concat([results, normalized_data]) #.dropna(axis=1, how=\"all\")])\n"
      ]
     },
     "metadata": {},
     "output_type": "display_data"
    },
    {
     "data": {
      "text/html": [
       "<pre style=\"white-space:pre;overflow-x:auto;line-height:normal;font-family:Menlo,'DejaVu Sans Mono',consolas,'Courier New',monospace\">/var/folders/7t/k8q3439j6z3c683j7w00wtm80000gn/T/ipykernel_58430/1419766920.py:27: FutureWarning: The behavior of \n",
       "DataFrame concatenation with empty or all-NA entries is deprecated. In a future version, this will no longer \n",
       "exclude empty or all-NA columns when determining the result dtypes. To retain the old behavior, exclude the \n",
       "relevant entries before the concat operation.\n",
       "  results = pd.concat([results, normalized_data]) #.dropna(axis=1, how=\"all\")])\n",
       "</pre>\n"
      ],
      "text/plain": [
       "/var/folders/7t/k8q3439j6z3c683j7w00wtm80000gn/T/ipykernel_58430/1419766920.py:27: FutureWarning: The behavior of \n",
       "DataFrame concatenation with empty or all-NA entries is deprecated. In a future version, this will no longer \n",
       "exclude empty or all-NA columns when determining the result dtypes. To retain the old behavior, exclude the \n",
       "relevant entries before the concat operation.\n",
       "  results = pd.concat([results, normalized_data]) #.dropna(axis=1, how=\"all\")])\n"
      ]
     },
     "metadata": {},
     "output_type": "display_data"
    },
    {
     "data": {
      "text/html": [
       "<pre style=\"white-space:pre;overflow-x:auto;line-height:normal;font-family:Menlo,'DejaVu Sans Mono',consolas,'Courier New',monospace\">/var/folders/7t/k8q3439j6z3c683j7w00wtm80000gn/T/ipykernel_58430/1419766920.py:27: FutureWarning: The behavior of \n",
       "DataFrame concatenation with empty or all-NA entries is deprecated. In a future version, this will no longer \n",
       "exclude empty or all-NA columns when determining the result dtypes. To retain the old behavior, exclude the \n",
       "relevant entries before the concat operation.\n",
       "  results = pd.concat([results, normalized_data]) #.dropna(axis=1, how=\"all\")])\n",
       "</pre>\n"
      ],
      "text/plain": [
       "/var/folders/7t/k8q3439j6z3c683j7w00wtm80000gn/T/ipykernel_58430/1419766920.py:27: FutureWarning: The behavior of \n",
       "DataFrame concatenation with empty or all-NA entries is deprecated. In a future version, this will no longer \n",
       "exclude empty or all-NA columns when determining the result dtypes. To retain the old behavior, exclude the \n",
       "relevant entries before the concat operation.\n",
       "  results = pd.concat([results, normalized_data]) #.dropna(axis=1, how=\"all\")])\n"
      ]
     },
     "metadata": {},
     "output_type": "display_data"
    },
    {
     "data": {
      "text/html": [
       "<pre style=\"white-space:pre;overflow-x:auto;line-height:normal;font-family:Menlo,'DejaVu Sans Mono',consolas,'Courier New',monospace\">/var/folders/7t/k8q3439j6z3c683j7w00wtm80000gn/T/ipykernel_58430/1419766920.py:27: FutureWarning: The behavior of \n",
       "DataFrame concatenation with empty or all-NA entries is deprecated. In a future version, this will no longer \n",
       "exclude empty or all-NA columns when determining the result dtypes. To retain the old behavior, exclude the \n",
       "relevant entries before the concat operation.\n",
       "  results = pd.concat([results, normalized_data]) #.dropna(axis=1, how=\"all\")])\n",
       "</pre>\n"
      ],
      "text/plain": [
       "/var/folders/7t/k8q3439j6z3c683j7w00wtm80000gn/T/ipykernel_58430/1419766920.py:27: FutureWarning: The behavior of \n",
       "DataFrame concatenation with empty or all-NA entries is deprecated. In a future version, this will no longer \n",
       "exclude empty or all-NA columns when determining the result dtypes. To retain the old behavior, exclude the \n",
       "relevant entries before the concat operation.\n",
       "  results = pd.concat([results, normalized_data]) #.dropna(axis=1, how=\"all\")])\n"
      ]
     },
     "metadata": {},
     "output_type": "display_data"
    },
    {
     "data": {
      "text/html": [
       "<pre style=\"white-space:pre;overflow-x:auto;line-height:normal;font-family:Menlo,'DejaVu Sans Mono',consolas,'Courier New',monospace\">/var/folders/7t/k8q3439j6z3c683j7w00wtm80000gn/T/ipykernel_58430/1419766920.py:27: FutureWarning: The behavior of \n",
       "DataFrame concatenation with empty or all-NA entries is deprecated. In a future version, this will no longer \n",
       "exclude empty or all-NA columns when determining the result dtypes. To retain the old behavior, exclude the \n",
       "relevant entries before the concat operation.\n",
       "  results = pd.concat([results, normalized_data]) #.dropna(axis=1, how=\"all\")])\n",
       "</pre>\n"
      ],
      "text/plain": [
       "/var/folders/7t/k8q3439j6z3c683j7w00wtm80000gn/T/ipykernel_58430/1419766920.py:27: FutureWarning: The behavior of \n",
       "DataFrame concatenation with empty or all-NA entries is deprecated. In a future version, this will no longer \n",
       "exclude empty or all-NA columns when determining the result dtypes. To retain the old behavior, exclude the \n",
       "relevant entries before the concat operation.\n",
       "  results = pd.concat([results, normalized_data]) #.dropna(axis=1, how=\"all\")])\n"
      ]
     },
     "metadata": {},
     "output_type": "display_data"
    },
    {
     "data": {
      "text/html": [
       "<pre style=\"white-space:pre;overflow-x:auto;line-height:normal;font-family:Menlo,'DejaVu Sans Mono',consolas,'Courier New',monospace\">/var/folders/7t/k8q3439j6z3c683j7w00wtm80000gn/T/ipykernel_58430/1419766920.py:27: FutureWarning: The behavior of \n",
       "DataFrame concatenation with empty or all-NA entries is deprecated. In a future version, this will no longer \n",
       "exclude empty or all-NA columns when determining the result dtypes. To retain the old behavior, exclude the \n",
       "relevant entries before the concat operation.\n",
       "  results = pd.concat([results, normalized_data]) #.dropna(axis=1, how=\"all\")])\n",
       "</pre>\n"
      ],
      "text/plain": [
       "/var/folders/7t/k8q3439j6z3c683j7w00wtm80000gn/T/ipykernel_58430/1419766920.py:27: FutureWarning: The behavior of \n",
       "DataFrame concatenation with empty or all-NA entries is deprecated. In a future version, this will no longer \n",
       "exclude empty or all-NA columns when determining the result dtypes. To retain the old behavior, exclude the \n",
       "relevant entries before the concat operation.\n",
       "  results = pd.concat([results, normalized_data]) #.dropna(axis=1, how=\"all\")])\n"
      ]
     },
     "metadata": {},
     "output_type": "display_data"
    },
    {
     "data": {
      "text/html": [
       "<pre style=\"white-space:pre;overflow-x:auto;line-height:normal;font-family:Menlo,'DejaVu Sans Mono',consolas,'Courier New',monospace\">/var/folders/7t/k8q3439j6z3c683j7w00wtm80000gn/T/ipykernel_58430/1419766920.py:27: FutureWarning: The behavior of \n",
       "DataFrame concatenation with empty or all-NA entries is deprecated. In a future version, this will no longer \n",
       "exclude empty or all-NA columns when determining the result dtypes. To retain the old behavior, exclude the \n",
       "relevant entries before the concat operation.\n",
       "  results = pd.concat([results, normalized_data]) #.dropna(axis=1, how=\"all\")])\n",
       "</pre>\n"
      ],
      "text/plain": [
       "/var/folders/7t/k8q3439j6z3c683j7w00wtm80000gn/T/ipykernel_58430/1419766920.py:27: FutureWarning: The behavior of \n",
       "DataFrame concatenation with empty or all-NA entries is deprecated. In a future version, this will no longer \n",
       "exclude empty or all-NA columns when determining the result dtypes. To retain the old behavior, exclude the \n",
       "relevant entries before the concat operation.\n",
       "  results = pd.concat([results, normalized_data]) #.dropna(axis=1, how=\"all\")])\n"
      ]
     },
     "metadata": {},
     "output_type": "display_data"
    },
    {
     "data": {
      "text/html": [
       "<pre style=\"white-space:pre;overflow-x:auto;line-height:normal;font-family:Menlo,'DejaVu Sans Mono',consolas,'Courier New',monospace\">/var/folders/7t/k8q3439j6z3c683j7w00wtm80000gn/T/ipykernel_58430/1419766920.py:27: FutureWarning: The behavior of \n",
       "DataFrame concatenation with empty or all-NA entries is deprecated. In a future version, this will no longer \n",
       "exclude empty or all-NA columns when determining the result dtypes. To retain the old behavior, exclude the \n",
       "relevant entries before the concat operation.\n",
       "  results = pd.concat([results, normalized_data]) #.dropna(axis=1, how=\"all\")])\n",
       "</pre>\n"
      ],
      "text/plain": [
       "/var/folders/7t/k8q3439j6z3c683j7w00wtm80000gn/T/ipykernel_58430/1419766920.py:27: FutureWarning: The behavior of \n",
       "DataFrame concatenation with empty or all-NA entries is deprecated. In a future version, this will no longer \n",
       "exclude empty or all-NA columns when determining the result dtypes. To retain the old behavior, exclude the \n",
       "relevant entries before the concat operation.\n",
       "  results = pd.concat([results, normalized_data]) #.dropna(axis=1, how=\"all\")])\n"
      ]
     },
     "metadata": {},
     "output_type": "display_data"
    },
    {
     "data": {
      "text/html": [
       "<pre style=\"white-space:pre;overflow-x:auto;line-height:normal;font-family:Menlo,'DejaVu Sans Mono',consolas,'Courier New',monospace\">/var/folders/7t/k8q3439j6z3c683j7w00wtm80000gn/T/ipykernel_58430/1419766920.py:27: FutureWarning: The behavior of \n",
       "DataFrame concatenation with empty or all-NA entries is deprecated. In a future version, this will no longer \n",
       "exclude empty or all-NA columns when determining the result dtypes. To retain the old behavior, exclude the \n",
       "relevant entries before the concat operation.\n",
       "  results = pd.concat([results, normalized_data]) #.dropna(axis=1, how=\"all\")])\n",
       "</pre>\n"
      ],
      "text/plain": [
       "/var/folders/7t/k8q3439j6z3c683j7w00wtm80000gn/T/ipykernel_58430/1419766920.py:27: FutureWarning: The behavior of \n",
       "DataFrame concatenation with empty or all-NA entries is deprecated. In a future version, this will no longer \n",
       "exclude empty or all-NA columns when determining the result dtypes. To retain the old behavior, exclude the \n",
       "relevant entries before the concat operation.\n",
       "  results = pd.concat([results, normalized_data]) #.dropna(axis=1, how=\"all\")])\n"
      ]
     },
     "metadata": {},
     "output_type": "display_data"
    },
    {
     "data": {
      "text/html": [
       "<pre style=\"white-space:pre;overflow-x:auto;line-height:normal;font-family:Menlo,'DejaVu Sans Mono',consolas,'Courier New',monospace\">/var/folders/7t/k8q3439j6z3c683j7w00wtm80000gn/T/ipykernel_58430/1419766920.py:27: FutureWarning: The behavior of \n",
       "DataFrame concatenation with empty or all-NA entries is deprecated. In a future version, this will no longer \n",
       "exclude empty or all-NA columns when determining the result dtypes. To retain the old behavior, exclude the \n",
       "relevant entries before the concat operation.\n",
       "  results = pd.concat([results, normalized_data]) #.dropna(axis=1, how=\"all\")])\n",
       "</pre>\n"
      ],
      "text/plain": [
       "/var/folders/7t/k8q3439j6z3c683j7w00wtm80000gn/T/ipykernel_58430/1419766920.py:27: FutureWarning: The behavior of \n",
       "DataFrame concatenation with empty or all-NA entries is deprecated. In a future version, this will no longer \n",
       "exclude empty or all-NA columns when determining the result dtypes. To retain the old behavior, exclude the \n",
       "relevant entries before the concat operation.\n",
       "  results = pd.concat([results, normalized_data]) #.dropna(axis=1, how=\"all\")])\n"
      ]
     },
     "metadata": {},
     "output_type": "display_data"
    },
    {
     "data": {
      "text/html": [
       "<pre style=\"white-space:pre;overflow-x:auto;line-height:normal;font-family:Menlo,'DejaVu Sans Mono',consolas,'Courier New',monospace\">/var/folders/7t/k8q3439j6z3c683j7w00wtm80000gn/T/ipykernel_58430/1419766920.py:27: FutureWarning: The behavior of \n",
       "DataFrame concatenation with empty or all-NA entries is deprecated. In a future version, this will no longer \n",
       "exclude empty or all-NA columns when determining the result dtypes. To retain the old behavior, exclude the \n",
       "relevant entries before the concat operation.\n",
       "  results = pd.concat([results, normalized_data]) #.dropna(axis=1, how=\"all\")])\n",
       "</pre>\n"
      ],
      "text/plain": [
       "/var/folders/7t/k8q3439j6z3c683j7w00wtm80000gn/T/ipykernel_58430/1419766920.py:27: FutureWarning: The behavior of \n",
       "DataFrame concatenation with empty or all-NA entries is deprecated. In a future version, this will no longer \n",
       "exclude empty or all-NA columns when determining the result dtypes. To retain the old behavior, exclude the \n",
       "relevant entries before the concat operation.\n",
       "  results = pd.concat([results, normalized_data]) #.dropna(axis=1, how=\"all\")])\n"
      ]
     },
     "metadata": {},
     "output_type": "display_data"
    },
    {
     "data": {
      "text/html": [
       "<pre style=\"white-space:pre;overflow-x:auto;line-height:normal;font-family:Menlo,'DejaVu Sans Mono',consolas,'Courier New',monospace\">/var/folders/7t/k8q3439j6z3c683j7w00wtm80000gn/T/ipykernel_58430/1419766920.py:27: FutureWarning: The behavior of \n",
       "DataFrame concatenation with empty or all-NA entries is deprecated. In a future version, this will no longer \n",
       "exclude empty or all-NA columns when determining the result dtypes. To retain the old behavior, exclude the \n",
       "relevant entries before the concat operation.\n",
       "  results = pd.concat([results, normalized_data]) #.dropna(axis=1, how=\"all\")])\n",
       "</pre>\n"
      ],
      "text/plain": [
       "/var/folders/7t/k8q3439j6z3c683j7w00wtm80000gn/T/ipykernel_58430/1419766920.py:27: FutureWarning: The behavior of \n",
       "DataFrame concatenation with empty or all-NA entries is deprecated. In a future version, this will no longer \n",
       "exclude empty or all-NA columns when determining the result dtypes. To retain the old behavior, exclude the \n",
       "relevant entries before the concat operation.\n",
       "  results = pd.concat([results, normalized_data]) #.dropna(axis=1, how=\"all\")])\n"
      ]
     },
     "metadata": {},
     "output_type": "display_data"
    },
    {
     "data": {
      "text/html": [
       "<pre style=\"white-space:pre;overflow-x:auto;line-height:normal;font-family:Menlo,'DejaVu Sans Mono',consolas,'Courier New',monospace\">/var/folders/7t/k8q3439j6z3c683j7w00wtm80000gn/T/ipykernel_58430/1419766920.py:27: FutureWarning: The behavior of \n",
       "DataFrame concatenation with empty or all-NA entries is deprecated. In a future version, this will no longer \n",
       "exclude empty or all-NA columns when determining the result dtypes. To retain the old behavior, exclude the \n",
       "relevant entries before the concat operation.\n",
       "  results = pd.concat([results, normalized_data]) #.dropna(axis=1, how=\"all\")])\n",
       "</pre>\n"
      ],
      "text/plain": [
       "/var/folders/7t/k8q3439j6z3c683j7w00wtm80000gn/T/ipykernel_58430/1419766920.py:27: FutureWarning: The behavior of \n",
       "DataFrame concatenation with empty or all-NA entries is deprecated. In a future version, this will no longer \n",
       "exclude empty or all-NA columns when determining the result dtypes. To retain the old behavior, exclude the \n",
       "relevant entries before the concat operation.\n",
       "  results = pd.concat([results, normalized_data]) #.dropna(axis=1, how=\"all\")])\n"
      ]
     },
     "metadata": {},
     "output_type": "display_data"
    },
    {
     "data": {
      "text/html": [
       "<pre style=\"white-space:pre;overflow-x:auto;line-height:normal;font-family:Menlo,'DejaVu Sans Mono',consolas,'Courier New',monospace\">/var/folders/7t/k8q3439j6z3c683j7w00wtm80000gn/T/ipykernel_58430/1419766920.py:27: FutureWarning: The behavior of \n",
       "DataFrame concatenation with empty or all-NA entries is deprecated. In a future version, this will no longer \n",
       "exclude empty or all-NA columns when determining the result dtypes. To retain the old behavior, exclude the \n",
       "relevant entries before the concat operation.\n",
       "  results = pd.concat([results, normalized_data]) #.dropna(axis=1, how=\"all\")])\n",
       "</pre>\n"
      ],
      "text/plain": [
       "/var/folders/7t/k8q3439j6z3c683j7w00wtm80000gn/T/ipykernel_58430/1419766920.py:27: FutureWarning: The behavior of \n",
       "DataFrame concatenation with empty or all-NA entries is deprecated. In a future version, this will no longer \n",
       "exclude empty or all-NA columns when determining the result dtypes. To retain the old behavior, exclude the \n",
       "relevant entries before the concat operation.\n",
       "  results = pd.concat([results, normalized_data]) #.dropna(axis=1, how=\"all\")])\n"
      ]
     },
     "metadata": {},
     "output_type": "display_data"
    },
    {
     "data": {
      "text/html": [
       "<pre style=\"white-space:pre;overflow-x:auto;line-height:normal;font-family:Menlo,'DejaVu Sans Mono',consolas,'Courier New',monospace\">/var/folders/7t/k8q3439j6z3c683j7w00wtm80000gn/T/ipykernel_58430/1419766920.py:27: FutureWarning: The behavior of \n",
       "DataFrame concatenation with empty or all-NA entries is deprecated. In a future version, this will no longer \n",
       "exclude empty or all-NA columns when determining the result dtypes. To retain the old behavior, exclude the \n",
       "relevant entries before the concat operation.\n",
       "  results = pd.concat([results, normalized_data]) #.dropna(axis=1, how=\"all\")])\n",
       "</pre>\n"
      ],
      "text/plain": [
       "/var/folders/7t/k8q3439j6z3c683j7w00wtm80000gn/T/ipykernel_58430/1419766920.py:27: FutureWarning: The behavior of \n",
       "DataFrame concatenation with empty or all-NA entries is deprecated. In a future version, this will no longer \n",
       "exclude empty or all-NA columns when determining the result dtypes. To retain the old behavior, exclude the \n",
       "relevant entries before the concat operation.\n",
       "  results = pd.concat([results, normalized_data]) #.dropna(axis=1, how=\"all\")])\n"
      ]
     },
     "metadata": {},
     "output_type": "display_data"
    },
    {
     "data": {
      "text/html": [
       "<pre style=\"white-space:pre;overflow-x:auto;line-height:normal;font-family:Menlo,'DejaVu Sans Mono',consolas,'Courier New',monospace\">/var/folders/7t/k8q3439j6z3c683j7w00wtm80000gn/T/ipykernel_58430/1419766920.py:27: FutureWarning: The behavior of \n",
       "DataFrame concatenation with empty or all-NA entries is deprecated. In a future version, this will no longer \n",
       "exclude empty or all-NA columns when determining the result dtypes. To retain the old behavior, exclude the \n",
       "relevant entries before the concat operation.\n",
       "  results = pd.concat([results, normalized_data]) #.dropna(axis=1, how=\"all\")])\n",
       "</pre>\n"
      ],
      "text/plain": [
       "/var/folders/7t/k8q3439j6z3c683j7w00wtm80000gn/T/ipykernel_58430/1419766920.py:27: FutureWarning: The behavior of \n",
       "DataFrame concatenation with empty or all-NA entries is deprecated. In a future version, this will no longer \n",
       "exclude empty or all-NA columns when determining the result dtypes. To retain the old behavior, exclude the \n",
       "relevant entries before the concat operation.\n",
       "  results = pd.concat([results, normalized_data]) #.dropna(axis=1, how=\"all\")])\n"
      ]
     },
     "metadata": {},
     "output_type": "display_data"
    },
    {
     "data": {
      "text/html": [
       "<pre style=\"white-space:pre;overflow-x:auto;line-height:normal;font-family:Menlo,'DejaVu Sans Mono',consolas,'Courier New',monospace\">/var/folders/7t/k8q3439j6z3c683j7w00wtm80000gn/T/ipykernel_58430/1419766920.py:27: FutureWarning: The behavior of \n",
       "DataFrame concatenation with empty or all-NA entries is deprecated. In a future version, this will no longer \n",
       "exclude empty or all-NA columns when determining the result dtypes. To retain the old behavior, exclude the \n",
       "relevant entries before the concat operation.\n",
       "  results = pd.concat([results, normalized_data]) #.dropna(axis=1, how=\"all\")])\n",
       "</pre>\n"
      ],
      "text/plain": [
       "/var/folders/7t/k8q3439j6z3c683j7w00wtm80000gn/T/ipykernel_58430/1419766920.py:27: FutureWarning: The behavior of \n",
       "DataFrame concatenation with empty or all-NA entries is deprecated. In a future version, this will no longer \n",
       "exclude empty or all-NA columns when determining the result dtypes. To retain the old behavior, exclude the \n",
       "relevant entries before the concat operation.\n",
       "  results = pd.concat([results, normalized_data]) #.dropna(axis=1, how=\"all\")])\n"
      ]
     },
     "metadata": {},
     "output_type": "display_data"
    },
    {
     "data": {
      "text/html": [
       "<pre style=\"white-space:pre;overflow-x:auto;line-height:normal;font-family:Menlo,'DejaVu Sans Mono',consolas,'Courier New',monospace\">/var/folders/7t/k8q3439j6z3c683j7w00wtm80000gn/T/ipykernel_58430/1419766920.py:27: FutureWarning: The behavior of \n",
       "DataFrame concatenation with empty or all-NA entries is deprecated. In a future version, this will no longer \n",
       "exclude empty or all-NA columns when determining the result dtypes. To retain the old behavior, exclude the \n",
       "relevant entries before the concat operation.\n",
       "  results = pd.concat([results, normalized_data]) #.dropna(axis=1, how=\"all\")])\n",
       "</pre>\n"
      ],
      "text/plain": [
       "/var/folders/7t/k8q3439j6z3c683j7w00wtm80000gn/T/ipykernel_58430/1419766920.py:27: FutureWarning: The behavior of \n",
       "DataFrame concatenation with empty or all-NA entries is deprecated. In a future version, this will no longer \n",
       "exclude empty or all-NA columns when determining the result dtypes. To retain the old behavior, exclude the \n",
       "relevant entries before the concat operation.\n",
       "  results = pd.concat([results, normalized_data]) #.dropna(axis=1, how=\"all\")])\n"
      ]
     },
     "metadata": {},
     "output_type": "display_data"
    },
    {
     "data": {
      "text/html": [
       "<pre style=\"white-space:pre;overflow-x:auto;line-height:normal;font-family:Menlo,'DejaVu Sans Mono',consolas,'Courier New',monospace\">/var/folders/7t/k8q3439j6z3c683j7w00wtm80000gn/T/ipykernel_58430/1419766920.py:27: FutureWarning: The behavior of \n",
       "DataFrame concatenation with empty or all-NA entries is deprecated. In a future version, this will no longer \n",
       "exclude empty or all-NA columns when determining the result dtypes. To retain the old behavior, exclude the \n",
       "relevant entries before the concat operation.\n",
       "  results = pd.concat([results, normalized_data]) #.dropna(axis=1, how=\"all\")])\n",
       "</pre>\n"
      ],
      "text/plain": [
       "/var/folders/7t/k8q3439j6z3c683j7w00wtm80000gn/T/ipykernel_58430/1419766920.py:27: FutureWarning: The behavior of \n",
       "DataFrame concatenation with empty or all-NA entries is deprecated. In a future version, this will no longer \n",
       "exclude empty or all-NA columns when determining the result dtypes. To retain the old behavior, exclude the \n",
       "relevant entries before the concat operation.\n",
       "  results = pd.concat([results, normalized_data]) #.dropna(axis=1, how=\"all\")])\n"
      ]
     },
     "metadata": {},
     "output_type": "display_data"
    },
    {
     "data": {
      "text/html": [
       "<pre style=\"white-space:pre;overflow-x:auto;line-height:normal;font-family:Menlo,'DejaVu Sans Mono',consolas,'Courier New',monospace\">/var/folders/7t/k8q3439j6z3c683j7w00wtm80000gn/T/ipykernel_58430/1419766920.py:27: FutureWarning: The behavior of \n",
       "DataFrame concatenation with empty or all-NA entries is deprecated. In a future version, this will no longer \n",
       "exclude empty or all-NA columns when determining the result dtypes. To retain the old behavior, exclude the \n",
       "relevant entries before the concat operation.\n",
       "  results = pd.concat([results, normalized_data]) #.dropna(axis=1, how=\"all\")])\n",
       "</pre>\n"
      ],
      "text/plain": [
       "/var/folders/7t/k8q3439j6z3c683j7w00wtm80000gn/T/ipykernel_58430/1419766920.py:27: FutureWarning: The behavior of \n",
       "DataFrame concatenation with empty or all-NA entries is deprecated. In a future version, this will no longer \n",
       "exclude empty or all-NA columns when determining the result dtypes. To retain the old behavior, exclude the \n",
       "relevant entries before the concat operation.\n",
       "  results = pd.concat([results, normalized_data]) #.dropna(axis=1, how=\"all\")])\n"
      ]
     },
     "metadata": {},
     "output_type": "display_data"
    },
    {
     "data": {
      "text/html": [
       "<pre style=\"white-space:pre;overflow-x:auto;line-height:normal;font-family:Menlo,'DejaVu Sans Mono',consolas,'Courier New',monospace\">/var/folders/7t/k8q3439j6z3c683j7w00wtm80000gn/T/ipykernel_58430/1419766920.py:27: FutureWarning: The behavior of \n",
       "DataFrame concatenation with empty or all-NA entries is deprecated. In a future version, this will no longer \n",
       "exclude empty or all-NA columns when determining the result dtypes. To retain the old behavior, exclude the \n",
       "relevant entries before the concat operation.\n",
       "  results = pd.concat([results, normalized_data]) #.dropna(axis=1, how=\"all\")])\n",
       "</pre>\n"
      ],
      "text/plain": [
       "/var/folders/7t/k8q3439j6z3c683j7w00wtm80000gn/T/ipykernel_58430/1419766920.py:27: FutureWarning: The behavior of \n",
       "DataFrame concatenation with empty or all-NA entries is deprecated. In a future version, this will no longer \n",
       "exclude empty or all-NA columns when determining the result dtypes. To retain the old behavior, exclude the \n",
       "relevant entries before the concat operation.\n",
       "  results = pd.concat([results, normalized_data]) #.dropna(axis=1, how=\"all\")])\n"
      ]
     },
     "metadata": {},
     "output_type": "display_data"
    },
    {
     "data": {
      "text/html": [
       "<pre style=\"white-space:pre;overflow-x:auto;line-height:normal;font-family:Menlo,'DejaVu Sans Mono',consolas,'Courier New',monospace\">/var/folders/7t/k8q3439j6z3c683j7w00wtm80000gn/T/ipykernel_58430/1419766920.py:27: FutureWarning: The behavior of \n",
       "DataFrame concatenation with empty or all-NA entries is deprecated. In a future version, this will no longer \n",
       "exclude empty or all-NA columns when determining the result dtypes. To retain the old behavior, exclude the \n",
       "relevant entries before the concat operation.\n",
       "  results = pd.concat([results, normalized_data]) #.dropna(axis=1, how=\"all\")])\n",
       "</pre>\n"
      ],
      "text/plain": [
       "/var/folders/7t/k8q3439j6z3c683j7w00wtm80000gn/T/ipykernel_58430/1419766920.py:27: FutureWarning: The behavior of \n",
       "DataFrame concatenation with empty or all-NA entries is deprecated. In a future version, this will no longer \n",
       "exclude empty or all-NA columns when determining the result dtypes. To retain the old behavior, exclude the \n",
       "relevant entries before the concat operation.\n",
       "  results = pd.concat([results, normalized_data]) #.dropna(axis=1, how=\"all\")])\n"
      ]
     },
     "metadata": {},
     "output_type": "display_data"
    },
    {
     "data": {
      "text/html": [
       "<pre style=\"white-space:pre;overflow-x:auto;line-height:normal;font-family:Menlo,'DejaVu Sans Mono',consolas,'Courier New',monospace\">/var/folders/7t/k8q3439j6z3c683j7w00wtm80000gn/T/ipykernel_58430/1419766920.py:27: FutureWarning: The behavior of \n",
       "DataFrame concatenation with empty or all-NA entries is deprecated. In a future version, this will no longer \n",
       "exclude empty or all-NA columns when determining the result dtypes. To retain the old behavior, exclude the \n",
       "relevant entries before the concat operation.\n",
       "  results = pd.concat([results, normalized_data]) #.dropna(axis=1, how=\"all\")])\n",
       "</pre>\n"
      ],
      "text/plain": [
       "/var/folders/7t/k8q3439j6z3c683j7w00wtm80000gn/T/ipykernel_58430/1419766920.py:27: FutureWarning: The behavior of \n",
       "DataFrame concatenation with empty or all-NA entries is deprecated. In a future version, this will no longer \n",
       "exclude empty or all-NA columns when determining the result dtypes. To retain the old behavior, exclude the \n",
       "relevant entries before the concat operation.\n",
       "  results = pd.concat([results, normalized_data]) #.dropna(axis=1, how=\"all\")])\n"
      ]
     },
     "metadata": {},
     "output_type": "display_data"
    },
    {
     "data": {
      "text/html": [
       "<pre style=\"white-space:pre;overflow-x:auto;line-height:normal;font-family:Menlo,'DejaVu Sans Mono',consolas,'Courier New',monospace\">/var/folders/7t/k8q3439j6z3c683j7w00wtm80000gn/T/ipykernel_58430/1419766920.py:27: FutureWarning: The behavior of \n",
       "DataFrame concatenation with empty or all-NA entries is deprecated. In a future version, this will no longer \n",
       "exclude empty or all-NA columns when determining the result dtypes. To retain the old behavior, exclude the \n",
       "relevant entries before the concat operation.\n",
       "  results = pd.concat([results, normalized_data]) #.dropna(axis=1, how=\"all\")])\n",
       "</pre>\n"
      ],
      "text/plain": [
       "/var/folders/7t/k8q3439j6z3c683j7w00wtm80000gn/T/ipykernel_58430/1419766920.py:27: FutureWarning: The behavior of \n",
       "DataFrame concatenation with empty or all-NA entries is deprecated. In a future version, this will no longer \n",
       "exclude empty or all-NA columns when determining the result dtypes. To retain the old behavior, exclude the \n",
       "relevant entries before the concat operation.\n",
       "  results = pd.concat([results, normalized_data]) #.dropna(axis=1, how=\"all\")])\n"
      ]
     },
     "metadata": {},
     "output_type": "display_data"
    },
    {
     "data": {
      "text/html": [
       "<pre style=\"white-space:pre;overflow-x:auto;line-height:normal;font-family:Menlo,'DejaVu Sans Mono',consolas,'Courier New',monospace\">/var/folders/7t/k8q3439j6z3c683j7w00wtm80000gn/T/ipykernel_58430/1419766920.py:27: FutureWarning: The behavior of \n",
       "DataFrame concatenation with empty or all-NA entries is deprecated. In a future version, this will no longer \n",
       "exclude empty or all-NA columns when determining the result dtypes. To retain the old behavior, exclude the \n",
       "relevant entries before the concat operation.\n",
       "  results = pd.concat([results, normalized_data]) #.dropna(axis=1, how=\"all\")])\n",
       "</pre>\n"
      ],
      "text/plain": [
       "/var/folders/7t/k8q3439j6z3c683j7w00wtm80000gn/T/ipykernel_58430/1419766920.py:27: FutureWarning: The behavior of \n",
       "DataFrame concatenation with empty or all-NA entries is deprecated. In a future version, this will no longer \n",
       "exclude empty or all-NA columns when determining the result dtypes. To retain the old behavior, exclude the \n",
       "relevant entries before the concat operation.\n",
       "  results = pd.concat([results, normalized_data]) #.dropna(axis=1, how=\"all\")])\n"
      ]
     },
     "metadata": {},
     "output_type": "display_data"
    },
    {
     "data": {
      "text/html": [
       "<pre style=\"white-space:pre;overflow-x:auto;line-height:normal;font-family:Menlo,'DejaVu Sans Mono',consolas,'Courier New',monospace\">/var/folders/7t/k8q3439j6z3c683j7w00wtm80000gn/T/ipykernel_58430/1419766920.py:27: FutureWarning: The behavior of \n",
       "DataFrame concatenation with empty or all-NA entries is deprecated. In a future version, this will no longer \n",
       "exclude empty or all-NA columns when determining the result dtypes. To retain the old behavior, exclude the \n",
       "relevant entries before the concat operation.\n",
       "  results = pd.concat([results, normalized_data]) #.dropna(axis=1, how=\"all\")])\n",
       "</pre>\n"
      ],
      "text/plain": [
       "/var/folders/7t/k8q3439j6z3c683j7w00wtm80000gn/T/ipykernel_58430/1419766920.py:27: FutureWarning: The behavior of \n",
       "DataFrame concatenation with empty or all-NA entries is deprecated. In a future version, this will no longer \n",
       "exclude empty or all-NA columns when determining the result dtypes. To retain the old behavior, exclude the \n",
       "relevant entries before the concat operation.\n",
       "  results = pd.concat([results, normalized_data]) #.dropna(axis=1, how=\"all\")])\n"
      ]
     },
     "metadata": {},
     "output_type": "display_data"
    },
    {
     "data": {
      "text/html": [
       "<pre style=\"white-space:pre;overflow-x:auto;line-height:normal;font-family:Menlo,'DejaVu Sans Mono',consolas,'Courier New',monospace\">/var/folders/7t/k8q3439j6z3c683j7w00wtm80000gn/T/ipykernel_58430/1419766920.py:27: FutureWarning: The behavior of \n",
       "DataFrame concatenation with empty or all-NA entries is deprecated. In a future version, this will no longer \n",
       "exclude empty or all-NA columns when determining the result dtypes. To retain the old behavior, exclude the \n",
       "relevant entries before the concat operation.\n",
       "  results = pd.concat([results, normalized_data]) #.dropna(axis=1, how=\"all\")])\n",
       "</pre>\n"
      ],
      "text/plain": [
       "/var/folders/7t/k8q3439j6z3c683j7w00wtm80000gn/T/ipykernel_58430/1419766920.py:27: FutureWarning: The behavior of \n",
       "DataFrame concatenation with empty or all-NA entries is deprecated. In a future version, this will no longer \n",
       "exclude empty or all-NA columns when determining the result dtypes. To retain the old behavior, exclude the \n",
       "relevant entries before the concat operation.\n",
       "  results = pd.concat([results, normalized_data]) #.dropna(axis=1, how=\"all\")])\n"
      ]
     },
     "metadata": {},
     "output_type": "display_data"
    },
    {
     "data": {
      "text/html": [
       "<pre style=\"white-space:pre;overflow-x:auto;line-height:normal;font-family:Menlo,'DejaVu Sans Mono',consolas,'Courier New',monospace\">/var/folders/7t/k8q3439j6z3c683j7w00wtm80000gn/T/ipykernel_58430/1419766920.py:27: FutureWarning: The behavior of \n",
       "DataFrame concatenation with empty or all-NA entries is deprecated. In a future version, this will no longer \n",
       "exclude empty or all-NA columns when determining the result dtypes. To retain the old behavior, exclude the \n",
       "relevant entries before the concat operation.\n",
       "  results = pd.concat([results, normalized_data]) #.dropna(axis=1, how=\"all\")])\n",
       "</pre>\n"
      ],
      "text/plain": [
       "/var/folders/7t/k8q3439j6z3c683j7w00wtm80000gn/T/ipykernel_58430/1419766920.py:27: FutureWarning: The behavior of \n",
       "DataFrame concatenation with empty or all-NA entries is deprecated. In a future version, this will no longer \n",
       "exclude empty or all-NA columns when determining the result dtypes. To retain the old behavior, exclude the \n",
       "relevant entries before the concat operation.\n",
       "  results = pd.concat([results, normalized_data]) #.dropna(axis=1, how=\"all\")])\n"
      ]
     },
     "metadata": {},
     "output_type": "display_data"
    },
    {
     "data": {
      "text/html": [
       "<pre style=\"white-space:pre;overflow-x:auto;line-height:normal;font-family:Menlo,'DejaVu Sans Mono',consolas,'Courier New',monospace\">/var/folders/7t/k8q3439j6z3c683j7w00wtm80000gn/T/ipykernel_58430/1419766920.py:27: FutureWarning: The behavior of \n",
       "DataFrame concatenation with empty or all-NA entries is deprecated. In a future version, this will no longer \n",
       "exclude empty or all-NA columns when determining the result dtypes. To retain the old behavior, exclude the \n",
       "relevant entries before the concat operation.\n",
       "  results = pd.concat([results, normalized_data]) #.dropna(axis=1, how=\"all\")])\n",
       "</pre>\n"
      ],
      "text/plain": [
       "/var/folders/7t/k8q3439j6z3c683j7w00wtm80000gn/T/ipykernel_58430/1419766920.py:27: FutureWarning: The behavior of \n",
       "DataFrame concatenation with empty or all-NA entries is deprecated. In a future version, this will no longer \n",
       "exclude empty or all-NA columns when determining the result dtypes. To retain the old behavior, exclude the \n",
       "relevant entries before the concat operation.\n",
       "  results = pd.concat([results, normalized_data]) #.dropna(axis=1, how=\"all\")])\n"
      ]
     },
     "metadata": {},
     "output_type": "display_data"
    },
    {
     "data": {
      "text/html": [
       "<pre style=\"white-space:pre;overflow-x:auto;line-height:normal;font-family:Menlo,'DejaVu Sans Mono',consolas,'Courier New',monospace\">/var/folders/7t/k8q3439j6z3c683j7w00wtm80000gn/T/ipykernel_58430/1419766920.py:27: FutureWarning: The behavior of \n",
       "DataFrame concatenation with empty or all-NA entries is deprecated. In a future version, this will no longer \n",
       "exclude empty or all-NA columns when determining the result dtypes. To retain the old behavior, exclude the \n",
       "relevant entries before the concat operation.\n",
       "  results = pd.concat([results, normalized_data]) #.dropna(axis=1, how=\"all\")])\n",
       "</pre>\n"
      ],
      "text/plain": [
       "/var/folders/7t/k8q3439j6z3c683j7w00wtm80000gn/T/ipykernel_58430/1419766920.py:27: FutureWarning: The behavior of \n",
       "DataFrame concatenation with empty or all-NA entries is deprecated. In a future version, this will no longer \n",
       "exclude empty or all-NA columns when determining the result dtypes. To retain the old behavior, exclude the \n",
       "relevant entries before the concat operation.\n",
       "  results = pd.concat([results, normalized_data]) #.dropna(axis=1, how=\"all\")])\n"
      ]
     },
     "metadata": {},
     "output_type": "display_data"
    },
    {
     "data": {
      "text/html": [
       "<pre style=\"white-space:pre;overflow-x:auto;line-height:normal;font-family:Menlo,'DejaVu Sans Mono',consolas,'Courier New',monospace\">/var/folders/7t/k8q3439j6z3c683j7w00wtm80000gn/T/ipykernel_58430/1419766920.py:27: FutureWarning: The behavior of \n",
       "DataFrame concatenation with empty or all-NA entries is deprecated. In a future version, this will no longer \n",
       "exclude empty or all-NA columns when determining the result dtypes. To retain the old behavior, exclude the \n",
       "relevant entries before the concat operation.\n",
       "  results = pd.concat([results, normalized_data]) #.dropna(axis=1, how=\"all\")])\n",
       "</pre>\n"
      ],
      "text/plain": [
       "/var/folders/7t/k8q3439j6z3c683j7w00wtm80000gn/T/ipykernel_58430/1419766920.py:27: FutureWarning: The behavior of \n",
       "DataFrame concatenation with empty or all-NA entries is deprecated. In a future version, this will no longer \n",
       "exclude empty or all-NA columns when determining the result dtypes. To retain the old behavior, exclude the \n",
       "relevant entries before the concat operation.\n",
       "  results = pd.concat([results, normalized_data]) #.dropna(axis=1, how=\"all\")])\n"
      ]
     },
     "metadata": {},
     "output_type": "display_data"
    },
    {
     "data": {
      "text/html": [
       "<pre style=\"white-space:pre;overflow-x:auto;line-height:normal;font-family:Menlo,'DejaVu Sans Mono',consolas,'Courier New',monospace\">/var/folders/7t/k8q3439j6z3c683j7w00wtm80000gn/T/ipykernel_58430/1419766920.py:27: FutureWarning: The behavior of \n",
       "DataFrame concatenation with empty or all-NA entries is deprecated. In a future version, this will no longer \n",
       "exclude empty or all-NA columns when determining the result dtypes. To retain the old behavior, exclude the \n",
       "relevant entries before the concat operation.\n",
       "  results = pd.concat([results, normalized_data]) #.dropna(axis=1, how=\"all\")])\n",
       "</pre>\n"
      ],
      "text/plain": [
       "/var/folders/7t/k8q3439j6z3c683j7w00wtm80000gn/T/ipykernel_58430/1419766920.py:27: FutureWarning: The behavior of \n",
       "DataFrame concatenation with empty or all-NA entries is deprecated. In a future version, this will no longer \n",
       "exclude empty or all-NA columns when determining the result dtypes. To retain the old behavior, exclude the \n",
       "relevant entries before the concat operation.\n",
       "  results = pd.concat([results, normalized_data]) #.dropna(axis=1, how=\"all\")])\n"
      ]
     },
     "metadata": {},
     "output_type": "display_data"
    },
    {
     "data": {
      "text/html": [
       "<pre style=\"white-space:pre;overflow-x:auto;line-height:normal;font-family:Menlo,'DejaVu Sans Mono',consolas,'Courier New',monospace\">/var/folders/7t/k8q3439j6z3c683j7w00wtm80000gn/T/ipykernel_58430/1419766920.py:27: FutureWarning: The behavior of \n",
       "DataFrame concatenation with empty or all-NA entries is deprecated. In a future version, this will no longer \n",
       "exclude empty or all-NA columns when determining the result dtypes. To retain the old behavior, exclude the \n",
       "relevant entries before the concat operation.\n",
       "  results = pd.concat([results, normalized_data]) #.dropna(axis=1, how=\"all\")])\n",
       "</pre>\n"
      ],
      "text/plain": [
       "/var/folders/7t/k8q3439j6z3c683j7w00wtm80000gn/T/ipykernel_58430/1419766920.py:27: FutureWarning: The behavior of \n",
       "DataFrame concatenation with empty or all-NA entries is deprecated. In a future version, this will no longer \n",
       "exclude empty or all-NA columns when determining the result dtypes. To retain the old behavior, exclude the \n",
       "relevant entries before the concat operation.\n",
       "  results = pd.concat([results, normalized_data]) #.dropna(axis=1, how=\"all\")])\n"
      ]
     },
     "metadata": {},
     "output_type": "display_data"
    },
    {
     "data": {
      "text/html": [
       "<pre style=\"white-space:pre;overflow-x:auto;line-height:normal;font-family:Menlo,'DejaVu Sans Mono',consolas,'Courier New',monospace\">/var/folders/7t/k8q3439j6z3c683j7w00wtm80000gn/T/ipykernel_58430/1419766920.py:27: FutureWarning: The behavior of \n",
       "DataFrame concatenation with empty or all-NA entries is deprecated. In a future version, this will no longer \n",
       "exclude empty or all-NA columns when determining the result dtypes. To retain the old behavior, exclude the \n",
       "relevant entries before the concat operation.\n",
       "  results = pd.concat([results, normalized_data]) #.dropna(axis=1, how=\"all\")])\n",
       "</pre>\n"
      ],
      "text/plain": [
       "/var/folders/7t/k8q3439j6z3c683j7w00wtm80000gn/T/ipykernel_58430/1419766920.py:27: FutureWarning: The behavior of \n",
       "DataFrame concatenation with empty or all-NA entries is deprecated. In a future version, this will no longer \n",
       "exclude empty or all-NA columns when determining the result dtypes. To retain the old behavior, exclude the \n",
       "relevant entries before the concat operation.\n",
       "  results = pd.concat([results, normalized_data]) #.dropna(axis=1, how=\"all\")])\n"
      ]
     },
     "metadata": {},
     "output_type": "display_data"
    },
    {
     "data": {
      "text/html": [
       "<pre style=\"white-space:pre;overflow-x:auto;line-height:normal;font-family:Menlo,'DejaVu Sans Mono',consolas,'Courier New',monospace\">/var/folders/7t/k8q3439j6z3c683j7w00wtm80000gn/T/ipykernel_58430/1419766920.py:27: FutureWarning: The behavior of \n",
       "DataFrame concatenation with empty or all-NA entries is deprecated. In a future version, this will no longer \n",
       "exclude empty or all-NA columns when determining the result dtypes. To retain the old behavior, exclude the \n",
       "relevant entries before the concat operation.\n",
       "  results = pd.concat([results, normalized_data]) #.dropna(axis=1, how=\"all\")])\n",
       "</pre>\n"
      ],
      "text/plain": [
       "/var/folders/7t/k8q3439j6z3c683j7w00wtm80000gn/T/ipykernel_58430/1419766920.py:27: FutureWarning: The behavior of \n",
       "DataFrame concatenation with empty or all-NA entries is deprecated. In a future version, this will no longer \n",
       "exclude empty or all-NA columns when determining the result dtypes. To retain the old behavior, exclude the \n",
       "relevant entries before the concat operation.\n",
       "  results = pd.concat([results, normalized_data]) #.dropna(axis=1, how=\"all\")])\n"
      ]
     },
     "metadata": {},
     "output_type": "display_data"
    },
    {
     "data": {
      "text/html": [
       "<pre style=\"white-space:pre;overflow-x:auto;line-height:normal;font-family:Menlo,'DejaVu Sans Mono',consolas,'Courier New',monospace\">/var/folders/7t/k8q3439j6z3c683j7w00wtm80000gn/T/ipykernel_58430/1419766920.py:27: FutureWarning: The behavior of \n",
       "DataFrame concatenation with empty or all-NA entries is deprecated. In a future version, this will no longer \n",
       "exclude empty or all-NA columns when determining the result dtypes. To retain the old behavior, exclude the \n",
       "relevant entries before the concat operation.\n",
       "  results = pd.concat([results, normalized_data]) #.dropna(axis=1, how=\"all\")])\n",
       "</pre>\n"
      ],
      "text/plain": [
       "/var/folders/7t/k8q3439j6z3c683j7w00wtm80000gn/T/ipykernel_58430/1419766920.py:27: FutureWarning: The behavior of \n",
       "DataFrame concatenation with empty or all-NA entries is deprecated. In a future version, this will no longer \n",
       "exclude empty or all-NA columns when determining the result dtypes. To retain the old behavior, exclude the \n",
       "relevant entries before the concat operation.\n",
       "  results = pd.concat([results, normalized_data]) #.dropna(axis=1, how=\"all\")])\n"
      ]
     },
     "metadata": {},
     "output_type": "display_data"
    },
    {
     "data": {
      "text/html": [
       "<pre style=\"white-space:pre;overflow-x:auto;line-height:normal;font-family:Menlo,'DejaVu Sans Mono',consolas,'Courier New',monospace\">/var/folders/7t/k8q3439j6z3c683j7w00wtm80000gn/T/ipykernel_58430/1419766920.py:27: FutureWarning: The behavior of \n",
       "DataFrame concatenation with empty or all-NA entries is deprecated. In a future version, this will no longer \n",
       "exclude empty or all-NA columns when determining the result dtypes. To retain the old behavior, exclude the \n",
       "relevant entries before the concat operation.\n",
       "  results = pd.concat([results, normalized_data]) #.dropna(axis=1, how=\"all\")])\n",
       "</pre>\n"
      ],
      "text/plain": [
       "/var/folders/7t/k8q3439j6z3c683j7w00wtm80000gn/T/ipykernel_58430/1419766920.py:27: FutureWarning: The behavior of \n",
       "DataFrame concatenation with empty or all-NA entries is deprecated. In a future version, this will no longer \n",
       "exclude empty or all-NA columns when determining the result dtypes. To retain the old behavior, exclude the \n",
       "relevant entries before the concat operation.\n",
       "  results = pd.concat([results, normalized_data]) #.dropna(axis=1, how=\"all\")])\n"
      ]
     },
     "metadata": {},
     "output_type": "display_data"
    },
    {
     "data": {
      "text/html": [
       "<pre style=\"white-space:pre;overflow-x:auto;line-height:normal;font-family:Menlo,'DejaVu Sans Mono',consolas,'Courier New',monospace\">/var/folders/7t/k8q3439j6z3c683j7w00wtm80000gn/T/ipykernel_58430/1419766920.py:27: FutureWarning: The behavior of \n",
       "DataFrame concatenation with empty or all-NA entries is deprecated. In a future version, this will no longer \n",
       "exclude empty or all-NA columns when determining the result dtypes. To retain the old behavior, exclude the \n",
       "relevant entries before the concat operation.\n",
       "  results = pd.concat([results, normalized_data]) #.dropna(axis=1, how=\"all\")])\n",
       "</pre>\n"
      ],
      "text/plain": [
       "/var/folders/7t/k8q3439j6z3c683j7w00wtm80000gn/T/ipykernel_58430/1419766920.py:27: FutureWarning: The behavior of \n",
       "DataFrame concatenation with empty or all-NA entries is deprecated. In a future version, this will no longer \n",
       "exclude empty or all-NA columns when determining the result dtypes. To retain the old behavior, exclude the \n",
       "relevant entries before the concat operation.\n",
       "  results = pd.concat([results, normalized_data]) #.dropna(axis=1, how=\"all\")])\n"
      ]
     },
     "metadata": {},
     "output_type": "display_data"
    },
    {
     "data": {
      "text/html": [
       "<pre style=\"white-space:pre;overflow-x:auto;line-height:normal;font-family:Menlo,'DejaVu Sans Mono',consolas,'Courier New',monospace\">/var/folders/7t/k8q3439j6z3c683j7w00wtm80000gn/T/ipykernel_58430/1419766920.py:27: FutureWarning: The behavior of \n",
       "DataFrame concatenation with empty or all-NA entries is deprecated. In a future version, this will no longer \n",
       "exclude empty or all-NA columns when determining the result dtypes. To retain the old behavior, exclude the \n",
       "relevant entries before the concat operation.\n",
       "  results = pd.concat([results, normalized_data]) #.dropna(axis=1, how=\"all\")])\n",
       "</pre>\n"
      ],
      "text/plain": [
       "/var/folders/7t/k8q3439j6z3c683j7w00wtm80000gn/T/ipykernel_58430/1419766920.py:27: FutureWarning: The behavior of \n",
       "DataFrame concatenation with empty or all-NA entries is deprecated. In a future version, this will no longer \n",
       "exclude empty or all-NA columns when determining the result dtypes. To retain the old behavior, exclude the \n",
       "relevant entries before the concat operation.\n",
       "  results = pd.concat([results, normalized_data]) #.dropna(axis=1, how=\"all\")])\n"
      ]
     },
     "metadata": {},
     "output_type": "display_data"
    },
    {
     "data": {
      "text/html": [
       "<pre style=\"white-space:pre;overflow-x:auto;line-height:normal;font-family:Menlo,'DejaVu Sans Mono',consolas,'Courier New',monospace\">/var/folders/7t/k8q3439j6z3c683j7w00wtm80000gn/T/ipykernel_58430/1419766920.py:27: FutureWarning: The behavior of \n",
       "DataFrame concatenation with empty or all-NA entries is deprecated. In a future version, this will no longer \n",
       "exclude empty or all-NA columns when determining the result dtypes. To retain the old behavior, exclude the \n",
       "relevant entries before the concat operation.\n",
       "  results = pd.concat([results, normalized_data]) #.dropna(axis=1, how=\"all\")])\n",
       "</pre>\n"
      ],
      "text/plain": [
       "/var/folders/7t/k8q3439j6z3c683j7w00wtm80000gn/T/ipykernel_58430/1419766920.py:27: FutureWarning: The behavior of \n",
       "DataFrame concatenation with empty or all-NA entries is deprecated. In a future version, this will no longer \n",
       "exclude empty or all-NA columns when determining the result dtypes. To retain the old behavior, exclude the \n",
       "relevant entries before the concat operation.\n",
       "  results = pd.concat([results, normalized_data]) #.dropna(axis=1, how=\"all\")])\n"
      ]
     },
     "metadata": {},
     "output_type": "display_data"
    },
    {
     "data": {
      "text/html": [
       "<pre style=\"white-space:pre;overflow-x:auto;line-height:normal;font-family:Menlo,'DejaVu Sans Mono',consolas,'Courier New',monospace\">/var/folders/7t/k8q3439j6z3c683j7w00wtm80000gn/T/ipykernel_58430/1419766920.py:27: FutureWarning: The behavior of \n",
       "DataFrame concatenation with empty or all-NA entries is deprecated. In a future version, this will no longer \n",
       "exclude empty or all-NA columns when determining the result dtypes. To retain the old behavior, exclude the \n",
       "relevant entries before the concat operation.\n",
       "  results = pd.concat([results, normalized_data]) #.dropna(axis=1, how=\"all\")])\n",
       "</pre>\n"
      ],
      "text/plain": [
       "/var/folders/7t/k8q3439j6z3c683j7w00wtm80000gn/T/ipykernel_58430/1419766920.py:27: FutureWarning: The behavior of \n",
       "DataFrame concatenation with empty or all-NA entries is deprecated. In a future version, this will no longer \n",
       "exclude empty or all-NA columns when determining the result dtypes. To retain the old behavior, exclude the \n",
       "relevant entries before the concat operation.\n",
       "  results = pd.concat([results, normalized_data]) #.dropna(axis=1, how=\"all\")])\n"
      ]
     },
     "metadata": {},
     "output_type": "display_data"
    },
    {
     "data": {
      "text/html": [
       "<pre style=\"white-space:pre;overflow-x:auto;line-height:normal;font-family:Menlo,'DejaVu Sans Mono',consolas,'Courier New',monospace\">/var/folders/7t/k8q3439j6z3c683j7w00wtm80000gn/T/ipykernel_58430/1419766920.py:27: FutureWarning: The behavior of \n",
       "DataFrame concatenation with empty or all-NA entries is deprecated. In a future version, this will no longer \n",
       "exclude empty or all-NA columns when determining the result dtypes. To retain the old behavior, exclude the \n",
       "relevant entries before the concat operation.\n",
       "  results = pd.concat([results, normalized_data]) #.dropna(axis=1, how=\"all\")])\n",
       "</pre>\n"
      ],
      "text/plain": [
       "/var/folders/7t/k8q3439j6z3c683j7w00wtm80000gn/T/ipykernel_58430/1419766920.py:27: FutureWarning: The behavior of \n",
       "DataFrame concatenation with empty or all-NA entries is deprecated. In a future version, this will no longer \n",
       "exclude empty or all-NA columns when determining the result dtypes. To retain the old behavior, exclude the \n",
       "relevant entries before the concat operation.\n",
       "  results = pd.concat([results, normalized_data]) #.dropna(axis=1, how=\"all\")])\n"
      ]
     },
     "metadata": {},
     "output_type": "display_data"
    },
    {
     "data": {
      "text/html": [
       "<pre style=\"white-space:pre;overflow-x:auto;line-height:normal;font-family:Menlo,'DejaVu Sans Mono',consolas,'Courier New',monospace\">/var/folders/7t/k8q3439j6z3c683j7w00wtm80000gn/T/ipykernel_58430/1419766920.py:27: FutureWarning: The behavior of \n",
       "DataFrame concatenation with empty or all-NA entries is deprecated. In a future version, this will no longer \n",
       "exclude empty or all-NA columns when determining the result dtypes. To retain the old behavior, exclude the \n",
       "relevant entries before the concat operation.\n",
       "  results = pd.concat([results, normalized_data]) #.dropna(axis=1, how=\"all\")])\n",
       "</pre>\n"
      ],
      "text/plain": [
       "/var/folders/7t/k8q3439j6z3c683j7w00wtm80000gn/T/ipykernel_58430/1419766920.py:27: FutureWarning: The behavior of \n",
       "DataFrame concatenation with empty or all-NA entries is deprecated. In a future version, this will no longer \n",
       "exclude empty or all-NA columns when determining the result dtypes. To retain the old behavior, exclude the \n",
       "relevant entries before the concat operation.\n",
       "  results = pd.concat([results, normalized_data]) #.dropna(axis=1, how=\"all\")])\n"
      ]
     },
     "metadata": {},
     "output_type": "display_data"
    },
    {
     "data": {
      "text/html": [
       "<pre style=\"white-space:pre;overflow-x:auto;line-height:normal;font-family:Menlo,'DejaVu Sans Mono',consolas,'Courier New',monospace\">/var/folders/7t/k8q3439j6z3c683j7w00wtm80000gn/T/ipykernel_58430/1419766920.py:27: FutureWarning: The behavior of \n",
       "DataFrame concatenation with empty or all-NA entries is deprecated. In a future version, this will no longer \n",
       "exclude empty or all-NA columns when determining the result dtypes. To retain the old behavior, exclude the \n",
       "relevant entries before the concat operation.\n",
       "  results = pd.concat([results, normalized_data]) #.dropna(axis=1, how=\"all\")])\n",
       "</pre>\n"
      ],
      "text/plain": [
       "/var/folders/7t/k8q3439j6z3c683j7w00wtm80000gn/T/ipykernel_58430/1419766920.py:27: FutureWarning: The behavior of \n",
       "DataFrame concatenation with empty or all-NA entries is deprecated. In a future version, this will no longer \n",
       "exclude empty or all-NA columns when determining the result dtypes. To retain the old behavior, exclude the \n",
       "relevant entries before the concat operation.\n",
       "  results = pd.concat([results, normalized_data]) #.dropna(axis=1, how=\"all\")])\n"
      ]
     },
     "metadata": {},
     "output_type": "display_data"
    },
    {
     "data": {
      "text/html": [
       "<pre style=\"white-space:pre;overflow-x:auto;line-height:normal;font-family:Menlo,'DejaVu Sans Mono',consolas,'Courier New',monospace\">/var/folders/7t/k8q3439j6z3c683j7w00wtm80000gn/T/ipykernel_58430/1419766920.py:27: FutureWarning: The behavior of \n",
       "DataFrame concatenation with empty or all-NA entries is deprecated. In a future version, this will no longer \n",
       "exclude empty or all-NA columns when determining the result dtypes. To retain the old behavior, exclude the \n",
       "relevant entries before the concat operation.\n",
       "  results = pd.concat([results, normalized_data]) #.dropna(axis=1, how=\"all\")])\n",
       "</pre>\n"
      ],
      "text/plain": [
       "/var/folders/7t/k8q3439j6z3c683j7w00wtm80000gn/T/ipykernel_58430/1419766920.py:27: FutureWarning: The behavior of \n",
       "DataFrame concatenation with empty or all-NA entries is deprecated. In a future version, this will no longer \n",
       "exclude empty or all-NA columns when determining the result dtypes. To retain the old behavior, exclude the \n",
       "relevant entries before the concat operation.\n",
       "  results = pd.concat([results, normalized_data]) #.dropna(axis=1, how=\"all\")])\n"
      ]
     },
     "metadata": {},
     "output_type": "display_data"
    },
    {
     "data": {
      "text/html": [
       "<pre style=\"white-space:pre;overflow-x:auto;line-height:normal;font-family:Menlo,'DejaVu Sans Mono',consolas,'Courier New',monospace\">/var/folders/7t/k8q3439j6z3c683j7w00wtm80000gn/T/ipykernel_58430/1419766920.py:27: FutureWarning: The behavior of \n",
       "DataFrame concatenation with empty or all-NA entries is deprecated. In a future version, this will no longer \n",
       "exclude empty or all-NA columns when determining the result dtypes. To retain the old behavior, exclude the \n",
       "relevant entries before the concat operation.\n",
       "  results = pd.concat([results, normalized_data]) #.dropna(axis=1, how=\"all\")])\n",
       "</pre>\n"
      ],
      "text/plain": [
       "/var/folders/7t/k8q3439j6z3c683j7w00wtm80000gn/T/ipykernel_58430/1419766920.py:27: FutureWarning: The behavior of \n",
       "DataFrame concatenation with empty or all-NA entries is deprecated. In a future version, this will no longer \n",
       "exclude empty or all-NA columns when determining the result dtypes. To retain the old behavior, exclude the \n",
       "relevant entries before the concat operation.\n",
       "  results = pd.concat([results, normalized_data]) #.dropna(axis=1, how=\"all\")])\n"
      ]
     },
     "metadata": {},
     "output_type": "display_data"
    },
    {
     "data": {
      "text/html": [
       "<pre style=\"white-space:pre;overflow-x:auto;line-height:normal;font-family:Menlo,'DejaVu Sans Mono',consolas,'Courier New',monospace\">/var/folders/7t/k8q3439j6z3c683j7w00wtm80000gn/T/ipykernel_58430/1419766920.py:27: FutureWarning: The behavior of \n",
       "DataFrame concatenation with empty or all-NA entries is deprecated. In a future version, this will no longer \n",
       "exclude empty or all-NA columns when determining the result dtypes. To retain the old behavior, exclude the \n",
       "relevant entries before the concat operation.\n",
       "  results = pd.concat([results, normalized_data]) #.dropna(axis=1, how=\"all\")])\n",
       "</pre>\n"
      ],
      "text/plain": [
       "/var/folders/7t/k8q3439j6z3c683j7w00wtm80000gn/T/ipykernel_58430/1419766920.py:27: FutureWarning: The behavior of \n",
       "DataFrame concatenation with empty or all-NA entries is deprecated. In a future version, this will no longer \n",
       "exclude empty or all-NA columns when determining the result dtypes. To retain the old behavior, exclude the \n",
       "relevant entries before the concat operation.\n",
       "  results = pd.concat([results, normalized_data]) #.dropna(axis=1, how=\"all\")])\n"
      ]
     },
     "metadata": {},
     "output_type": "display_data"
    },
    {
     "data": {
      "text/html": [
       "<pre style=\"white-space:pre;overflow-x:auto;line-height:normal;font-family:Menlo,'DejaVu Sans Mono',consolas,'Courier New',monospace\">/var/folders/7t/k8q3439j6z3c683j7w00wtm80000gn/T/ipykernel_58430/1419766920.py:27: FutureWarning: The behavior of \n",
       "DataFrame concatenation with empty or all-NA entries is deprecated. In a future version, this will no longer \n",
       "exclude empty or all-NA columns when determining the result dtypes. To retain the old behavior, exclude the \n",
       "relevant entries before the concat operation.\n",
       "  results = pd.concat([results, normalized_data]) #.dropna(axis=1, how=\"all\")])\n",
       "</pre>\n"
      ],
      "text/plain": [
       "/var/folders/7t/k8q3439j6z3c683j7w00wtm80000gn/T/ipykernel_58430/1419766920.py:27: FutureWarning: The behavior of \n",
       "DataFrame concatenation with empty or all-NA entries is deprecated. In a future version, this will no longer \n",
       "exclude empty or all-NA columns when determining the result dtypes. To retain the old behavior, exclude the \n",
       "relevant entries before the concat operation.\n",
       "  results = pd.concat([results, normalized_data]) #.dropna(axis=1, how=\"all\")])\n"
      ]
     },
     "metadata": {},
     "output_type": "display_data"
    },
    {
     "data": {
      "text/html": [
       "<pre style=\"white-space:pre;overflow-x:auto;line-height:normal;font-family:Menlo,'DejaVu Sans Mono',consolas,'Courier New',monospace\">/var/folders/7t/k8q3439j6z3c683j7w00wtm80000gn/T/ipykernel_58430/1419766920.py:27: FutureWarning: The behavior of \n",
       "DataFrame concatenation with empty or all-NA entries is deprecated. In a future version, this will no longer \n",
       "exclude empty or all-NA columns when determining the result dtypes. To retain the old behavior, exclude the \n",
       "relevant entries before the concat operation.\n",
       "  results = pd.concat([results, normalized_data]) #.dropna(axis=1, how=\"all\")])\n",
       "</pre>\n"
      ],
      "text/plain": [
       "/var/folders/7t/k8q3439j6z3c683j7w00wtm80000gn/T/ipykernel_58430/1419766920.py:27: FutureWarning: The behavior of \n",
       "DataFrame concatenation with empty or all-NA entries is deprecated. In a future version, this will no longer \n",
       "exclude empty or all-NA columns when determining the result dtypes. To retain the old behavior, exclude the \n",
       "relevant entries before the concat operation.\n",
       "  results = pd.concat([results, normalized_data]) #.dropna(axis=1, how=\"all\")])\n"
      ]
     },
     "metadata": {},
     "output_type": "display_data"
    },
    {
     "data": {
      "text/html": [
       "<pre style=\"white-space:pre;overflow-x:auto;line-height:normal;font-family:Menlo,'DejaVu Sans Mono',consolas,'Courier New',monospace\">/var/folders/7t/k8q3439j6z3c683j7w00wtm80000gn/T/ipykernel_58430/1419766920.py:27: FutureWarning: The behavior of \n",
       "DataFrame concatenation with empty or all-NA entries is deprecated. In a future version, this will no longer \n",
       "exclude empty or all-NA columns when determining the result dtypes. To retain the old behavior, exclude the \n",
       "relevant entries before the concat operation.\n",
       "  results = pd.concat([results, normalized_data]) #.dropna(axis=1, how=\"all\")])\n",
       "</pre>\n"
      ],
      "text/plain": [
       "/var/folders/7t/k8q3439j6z3c683j7w00wtm80000gn/T/ipykernel_58430/1419766920.py:27: FutureWarning: The behavior of \n",
       "DataFrame concatenation with empty or all-NA entries is deprecated. In a future version, this will no longer \n",
       "exclude empty or all-NA columns when determining the result dtypes. To retain the old behavior, exclude the \n",
       "relevant entries before the concat operation.\n",
       "  results = pd.concat([results, normalized_data]) #.dropna(axis=1, how=\"all\")])\n"
      ]
     },
     "metadata": {},
     "output_type": "display_data"
    },
    {
     "data": {
      "text/html": [
       "<pre style=\"white-space:pre;overflow-x:auto;line-height:normal;font-family:Menlo,'DejaVu Sans Mono',consolas,'Courier New',monospace\">/var/folders/7t/k8q3439j6z3c683j7w00wtm80000gn/T/ipykernel_58430/1419766920.py:27: FutureWarning: The behavior of \n",
       "DataFrame concatenation with empty or all-NA entries is deprecated. In a future version, this will no longer \n",
       "exclude empty or all-NA columns when determining the result dtypes. To retain the old behavior, exclude the \n",
       "relevant entries before the concat operation.\n",
       "  results = pd.concat([results, normalized_data]) #.dropna(axis=1, how=\"all\")])\n",
       "</pre>\n"
      ],
      "text/plain": [
       "/var/folders/7t/k8q3439j6z3c683j7w00wtm80000gn/T/ipykernel_58430/1419766920.py:27: FutureWarning: The behavior of \n",
       "DataFrame concatenation with empty or all-NA entries is deprecated. In a future version, this will no longer \n",
       "exclude empty or all-NA columns when determining the result dtypes. To retain the old behavior, exclude the \n",
       "relevant entries before the concat operation.\n",
       "  results = pd.concat([results, normalized_data]) #.dropna(axis=1, how=\"all\")])\n"
      ]
     },
     "metadata": {},
     "output_type": "display_data"
    },
    {
     "data": {
      "text/html": [
       "<pre style=\"white-space:pre;overflow-x:auto;line-height:normal;font-family:Menlo,'DejaVu Sans Mono',consolas,'Courier New',monospace\">/var/folders/7t/k8q3439j6z3c683j7w00wtm80000gn/T/ipykernel_58430/1419766920.py:27: FutureWarning: The behavior of \n",
       "DataFrame concatenation with empty or all-NA entries is deprecated. In a future version, this will no longer \n",
       "exclude empty or all-NA columns when determining the result dtypes. To retain the old behavior, exclude the \n",
       "relevant entries before the concat operation.\n",
       "  results = pd.concat([results, normalized_data]) #.dropna(axis=1, how=\"all\")])\n",
       "</pre>\n"
      ],
      "text/plain": [
       "/var/folders/7t/k8q3439j6z3c683j7w00wtm80000gn/T/ipykernel_58430/1419766920.py:27: FutureWarning: The behavior of \n",
       "DataFrame concatenation with empty or all-NA entries is deprecated. In a future version, this will no longer \n",
       "exclude empty or all-NA columns when determining the result dtypes. To retain the old behavior, exclude the \n",
       "relevant entries before the concat operation.\n",
       "  results = pd.concat([results, normalized_data]) #.dropna(axis=1, how=\"all\")])\n"
      ]
     },
     "metadata": {},
     "output_type": "display_data"
    },
    {
     "data": {
      "text/html": [
       "<pre style=\"white-space:pre;overflow-x:auto;line-height:normal;font-family:Menlo,'DejaVu Sans Mono',consolas,'Courier New',monospace\">/var/folders/7t/k8q3439j6z3c683j7w00wtm80000gn/T/ipykernel_58430/1419766920.py:27: FutureWarning: The behavior of \n",
       "DataFrame concatenation with empty or all-NA entries is deprecated. In a future version, this will no longer \n",
       "exclude empty or all-NA columns when determining the result dtypes. To retain the old behavior, exclude the \n",
       "relevant entries before the concat operation.\n",
       "  results = pd.concat([results, normalized_data]) #.dropna(axis=1, how=\"all\")])\n",
       "</pre>\n"
      ],
      "text/plain": [
       "/var/folders/7t/k8q3439j6z3c683j7w00wtm80000gn/T/ipykernel_58430/1419766920.py:27: FutureWarning: The behavior of \n",
       "DataFrame concatenation with empty or all-NA entries is deprecated. In a future version, this will no longer \n",
       "exclude empty or all-NA columns when determining the result dtypes. To retain the old behavior, exclude the \n",
       "relevant entries before the concat operation.\n",
       "  results = pd.concat([results, normalized_data]) #.dropna(axis=1, how=\"all\")])\n"
      ]
     },
     "metadata": {},
     "output_type": "display_data"
    },
    {
     "data": {
      "text/html": [
       "<pre style=\"white-space:pre;overflow-x:auto;line-height:normal;font-family:Menlo,'DejaVu Sans Mono',consolas,'Courier New',monospace\">/var/folders/7t/k8q3439j6z3c683j7w00wtm80000gn/T/ipykernel_58430/1419766920.py:27: FutureWarning: The behavior of \n",
       "DataFrame concatenation with empty or all-NA entries is deprecated. In a future version, this will no longer \n",
       "exclude empty or all-NA columns when determining the result dtypes. To retain the old behavior, exclude the \n",
       "relevant entries before the concat operation.\n",
       "  results = pd.concat([results, normalized_data]) #.dropna(axis=1, how=\"all\")])\n",
       "</pre>\n"
      ],
      "text/plain": [
       "/var/folders/7t/k8q3439j6z3c683j7w00wtm80000gn/T/ipykernel_58430/1419766920.py:27: FutureWarning: The behavior of \n",
       "DataFrame concatenation with empty or all-NA entries is deprecated. In a future version, this will no longer \n",
       "exclude empty or all-NA columns when determining the result dtypes. To retain the old behavior, exclude the \n",
       "relevant entries before the concat operation.\n",
       "  results = pd.concat([results, normalized_data]) #.dropna(axis=1, how=\"all\")])\n"
      ]
     },
     "metadata": {},
     "output_type": "display_data"
    },
    {
     "data": {
      "text/html": [
       "<pre style=\"white-space:pre;overflow-x:auto;line-height:normal;font-family:Menlo,'DejaVu Sans Mono',consolas,'Courier New',monospace\">/var/folders/7t/k8q3439j6z3c683j7w00wtm80000gn/T/ipykernel_58430/1419766920.py:27: FutureWarning: The behavior of \n",
       "DataFrame concatenation with empty or all-NA entries is deprecated. In a future version, this will no longer \n",
       "exclude empty or all-NA columns when determining the result dtypes. To retain the old behavior, exclude the \n",
       "relevant entries before the concat operation.\n",
       "  results = pd.concat([results, normalized_data]) #.dropna(axis=1, how=\"all\")])\n",
       "</pre>\n"
      ],
      "text/plain": [
       "/var/folders/7t/k8q3439j6z3c683j7w00wtm80000gn/T/ipykernel_58430/1419766920.py:27: FutureWarning: The behavior of \n",
       "DataFrame concatenation with empty or all-NA entries is deprecated. In a future version, this will no longer \n",
       "exclude empty or all-NA columns when determining the result dtypes. To retain the old behavior, exclude the \n",
       "relevant entries before the concat operation.\n",
       "  results = pd.concat([results, normalized_data]) #.dropna(axis=1, how=\"all\")])\n"
      ]
     },
     "metadata": {},
     "output_type": "display_data"
    },
    {
     "data": {
      "text/html": [
       "<pre style=\"white-space:pre;overflow-x:auto;line-height:normal;font-family:Menlo,'DejaVu Sans Mono',consolas,'Courier New',monospace\">/var/folders/7t/k8q3439j6z3c683j7w00wtm80000gn/T/ipykernel_58430/1419766920.py:27: FutureWarning: The behavior of \n",
       "DataFrame concatenation with empty or all-NA entries is deprecated. In a future version, this will no longer \n",
       "exclude empty or all-NA columns when determining the result dtypes. To retain the old behavior, exclude the \n",
       "relevant entries before the concat operation.\n",
       "  results = pd.concat([results, normalized_data]) #.dropna(axis=1, how=\"all\")])\n",
       "</pre>\n"
      ],
      "text/plain": [
       "/var/folders/7t/k8q3439j6z3c683j7w00wtm80000gn/T/ipykernel_58430/1419766920.py:27: FutureWarning: The behavior of \n",
       "DataFrame concatenation with empty or all-NA entries is deprecated. In a future version, this will no longer \n",
       "exclude empty or all-NA columns when determining the result dtypes. To retain the old behavior, exclude the \n",
       "relevant entries before the concat operation.\n",
       "  results = pd.concat([results, normalized_data]) #.dropna(axis=1, how=\"all\")])\n"
      ]
     },
     "metadata": {},
     "output_type": "display_data"
    },
    {
     "data": {
      "text/html": [
       "<pre style=\"white-space:pre;overflow-x:auto;line-height:normal;font-family:Menlo,'DejaVu Sans Mono',consolas,'Courier New',monospace\">/var/folders/7t/k8q3439j6z3c683j7w00wtm80000gn/T/ipykernel_58430/1419766920.py:27: FutureWarning: The behavior of \n",
       "DataFrame concatenation with empty or all-NA entries is deprecated. In a future version, this will no longer \n",
       "exclude empty or all-NA columns when determining the result dtypes. To retain the old behavior, exclude the \n",
       "relevant entries before the concat operation.\n",
       "  results = pd.concat([results, normalized_data]) #.dropna(axis=1, how=\"all\")])\n",
       "</pre>\n"
      ],
      "text/plain": [
       "/var/folders/7t/k8q3439j6z3c683j7w00wtm80000gn/T/ipykernel_58430/1419766920.py:27: FutureWarning: The behavior of \n",
       "DataFrame concatenation with empty or all-NA entries is deprecated. In a future version, this will no longer \n",
       "exclude empty or all-NA columns when determining the result dtypes. To retain the old behavior, exclude the \n",
       "relevant entries before the concat operation.\n",
       "  results = pd.concat([results, normalized_data]) #.dropna(axis=1, how=\"all\")])\n"
      ]
     },
     "metadata": {},
     "output_type": "display_data"
    },
    {
     "data": {
      "text/html": [
       "<pre style=\"white-space:pre;overflow-x:auto;line-height:normal;font-family:Menlo,'DejaVu Sans Mono',consolas,'Courier New',monospace\">/var/folders/7t/k8q3439j6z3c683j7w00wtm80000gn/T/ipykernel_58430/1419766920.py:27: FutureWarning: The behavior of \n",
       "DataFrame concatenation with empty or all-NA entries is deprecated. In a future version, this will no longer \n",
       "exclude empty or all-NA columns when determining the result dtypes. To retain the old behavior, exclude the \n",
       "relevant entries before the concat operation.\n",
       "  results = pd.concat([results, normalized_data]) #.dropna(axis=1, how=\"all\")])\n",
       "</pre>\n"
      ],
      "text/plain": [
       "/var/folders/7t/k8q3439j6z3c683j7w00wtm80000gn/T/ipykernel_58430/1419766920.py:27: FutureWarning: The behavior of \n",
       "DataFrame concatenation with empty or all-NA entries is deprecated. In a future version, this will no longer \n",
       "exclude empty or all-NA columns when determining the result dtypes. To retain the old behavior, exclude the \n",
       "relevant entries before the concat operation.\n",
       "  results = pd.concat([results, normalized_data]) #.dropna(axis=1, how=\"all\")])\n"
      ]
     },
     "metadata": {},
     "output_type": "display_data"
    },
    {
     "data": {
      "text/html": [
       "<pre style=\"white-space:pre;overflow-x:auto;line-height:normal;font-family:Menlo,'DejaVu Sans Mono',consolas,'Courier New',monospace\">/var/folders/7t/k8q3439j6z3c683j7w00wtm80000gn/T/ipykernel_58430/1419766920.py:27: FutureWarning: The behavior of \n",
       "DataFrame concatenation with empty or all-NA entries is deprecated. In a future version, this will no longer \n",
       "exclude empty or all-NA columns when determining the result dtypes. To retain the old behavior, exclude the \n",
       "relevant entries before the concat operation.\n",
       "  results = pd.concat([results, normalized_data]) #.dropna(axis=1, how=\"all\")])\n",
       "</pre>\n"
      ],
      "text/plain": [
       "/var/folders/7t/k8q3439j6z3c683j7w00wtm80000gn/T/ipykernel_58430/1419766920.py:27: FutureWarning: The behavior of \n",
       "DataFrame concatenation with empty or all-NA entries is deprecated. In a future version, this will no longer \n",
       "exclude empty or all-NA columns when determining the result dtypes. To retain the old behavior, exclude the \n",
       "relevant entries before the concat operation.\n",
       "  results = pd.concat([results, normalized_data]) #.dropna(axis=1, how=\"all\")])\n"
      ]
     },
     "metadata": {},
     "output_type": "display_data"
    },
    {
     "data": {
      "text/html": [
       "<pre style=\"white-space:pre;overflow-x:auto;line-height:normal;font-family:Menlo,'DejaVu Sans Mono',consolas,'Courier New',monospace\">/var/folders/7t/k8q3439j6z3c683j7w00wtm80000gn/T/ipykernel_58430/1419766920.py:27: FutureWarning: The behavior of \n",
       "DataFrame concatenation with empty or all-NA entries is deprecated. In a future version, this will no longer \n",
       "exclude empty or all-NA columns when determining the result dtypes. To retain the old behavior, exclude the \n",
       "relevant entries before the concat operation.\n",
       "  results = pd.concat([results, normalized_data]) #.dropna(axis=1, how=\"all\")])\n",
       "</pre>\n"
      ],
      "text/plain": [
       "/var/folders/7t/k8q3439j6z3c683j7w00wtm80000gn/T/ipykernel_58430/1419766920.py:27: FutureWarning: The behavior of \n",
       "DataFrame concatenation with empty or all-NA entries is deprecated. In a future version, this will no longer \n",
       "exclude empty or all-NA columns when determining the result dtypes. To retain the old behavior, exclude the \n",
       "relevant entries before the concat operation.\n",
       "  results = pd.concat([results, normalized_data]) #.dropna(axis=1, how=\"all\")])\n"
      ]
     },
     "metadata": {},
     "output_type": "display_data"
    },
    {
     "data": {
      "text/html": [
       "<pre style=\"white-space:pre;overflow-x:auto;line-height:normal;font-family:Menlo,'DejaVu Sans Mono',consolas,'Courier New',monospace\">/var/folders/7t/k8q3439j6z3c683j7w00wtm80000gn/T/ipykernel_58430/1419766920.py:27: FutureWarning: The behavior of \n",
       "DataFrame concatenation with empty or all-NA entries is deprecated. In a future version, this will no longer \n",
       "exclude empty or all-NA columns when determining the result dtypes. To retain the old behavior, exclude the \n",
       "relevant entries before the concat operation.\n",
       "  results = pd.concat([results, normalized_data]) #.dropna(axis=1, how=\"all\")])\n",
       "</pre>\n"
      ],
      "text/plain": [
       "/var/folders/7t/k8q3439j6z3c683j7w00wtm80000gn/T/ipykernel_58430/1419766920.py:27: FutureWarning: The behavior of \n",
       "DataFrame concatenation with empty or all-NA entries is deprecated. In a future version, this will no longer \n",
       "exclude empty or all-NA columns when determining the result dtypes. To retain the old behavior, exclude the \n",
       "relevant entries before the concat operation.\n",
       "  results = pd.concat([results, normalized_data]) #.dropna(axis=1, how=\"all\")])\n"
      ]
     },
     "metadata": {},
     "output_type": "display_data"
    },
    {
     "data": {
      "text/html": [
       "<pre style=\"white-space:pre;overflow-x:auto;line-height:normal;font-family:Menlo,'DejaVu Sans Mono',consolas,'Courier New',monospace\">/var/folders/7t/k8q3439j6z3c683j7w00wtm80000gn/T/ipykernel_58430/1419766920.py:27: FutureWarning: The behavior of \n",
       "DataFrame concatenation with empty or all-NA entries is deprecated. In a future version, this will no longer \n",
       "exclude empty or all-NA columns when determining the result dtypes. To retain the old behavior, exclude the \n",
       "relevant entries before the concat operation.\n",
       "  results = pd.concat([results, normalized_data]) #.dropna(axis=1, how=\"all\")])\n",
       "</pre>\n"
      ],
      "text/plain": [
       "/var/folders/7t/k8q3439j6z3c683j7w00wtm80000gn/T/ipykernel_58430/1419766920.py:27: FutureWarning: The behavior of \n",
       "DataFrame concatenation with empty or all-NA entries is deprecated. In a future version, this will no longer \n",
       "exclude empty or all-NA columns when determining the result dtypes. To retain the old behavior, exclude the \n",
       "relevant entries before the concat operation.\n",
       "  results = pd.concat([results, normalized_data]) #.dropna(axis=1, how=\"all\")])\n"
      ]
     },
     "metadata": {},
     "output_type": "display_data"
    },
    {
     "data": {
      "text/html": [
       "<pre style=\"white-space:pre;overflow-x:auto;line-height:normal;font-family:Menlo,'DejaVu Sans Mono',consolas,'Courier New',monospace\">/var/folders/7t/k8q3439j6z3c683j7w00wtm80000gn/T/ipykernel_58430/1419766920.py:27: FutureWarning: The behavior of \n",
       "DataFrame concatenation with empty or all-NA entries is deprecated. In a future version, this will no longer \n",
       "exclude empty or all-NA columns when determining the result dtypes. To retain the old behavior, exclude the \n",
       "relevant entries before the concat operation.\n",
       "  results = pd.concat([results, normalized_data]) #.dropna(axis=1, how=\"all\")])\n",
       "</pre>\n"
      ],
      "text/plain": [
       "/var/folders/7t/k8q3439j6z3c683j7w00wtm80000gn/T/ipykernel_58430/1419766920.py:27: FutureWarning: The behavior of \n",
       "DataFrame concatenation with empty or all-NA entries is deprecated. In a future version, this will no longer \n",
       "exclude empty or all-NA columns when determining the result dtypes. To retain the old behavior, exclude the \n",
       "relevant entries before the concat operation.\n",
       "  results = pd.concat([results, normalized_data]) #.dropna(axis=1, how=\"all\")])\n"
      ]
     },
     "metadata": {},
     "output_type": "display_data"
    },
    {
     "data": {
      "text/html": [
       "<pre style=\"white-space:pre;overflow-x:auto;line-height:normal;font-family:Menlo,'DejaVu Sans Mono',consolas,'Courier New',monospace\">/var/folders/7t/k8q3439j6z3c683j7w00wtm80000gn/T/ipykernel_58430/1419766920.py:27: FutureWarning: The behavior of \n",
       "DataFrame concatenation with empty or all-NA entries is deprecated. In a future version, this will no longer \n",
       "exclude empty or all-NA columns when determining the result dtypes. To retain the old behavior, exclude the \n",
       "relevant entries before the concat operation.\n",
       "  results = pd.concat([results, normalized_data]) #.dropna(axis=1, how=\"all\")])\n",
       "</pre>\n"
      ],
      "text/plain": [
       "/var/folders/7t/k8q3439j6z3c683j7w00wtm80000gn/T/ipykernel_58430/1419766920.py:27: FutureWarning: The behavior of \n",
       "DataFrame concatenation with empty or all-NA entries is deprecated. In a future version, this will no longer \n",
       "exclude empty or all-NA columns when determining the result dtypes. To retain the old behavior, exclude the \n",
       "relevant entries before the concat operation.\n",
       "  results = pd.concat([results, normalized_data]) #.dropna(axis=1, how=\"all\")])\n"
      ]
     },
     "metadata": {},
     "output_type": "display_data"
    },
    {
     "data": {
      "text/html": [
       "<pre style=\"white-space:pre;overflow-x:auto;line-height:normal;font-family:Menlo,'DejaVu Sans Mono',consolas,'Courier New',monospace\">/var/folders/7t/k8q3439j6z3c683j7w00wtm80000gn/T/ipykernel_58430/1419766920.py:27: FutureWarning: The behavior of \n",
       "DataFrame concatenation with empty or all-NA entries is deprecated. In a future version, this will no longer \n",
       "exclude empty or all-NA columns when determining the result dtypes. To retain the old behavior, exclude the \n",
       "relevant entries before the concat operation.\n",
       "  results = pd.concat([results, normalized_data]) #.dropna(axis=1, how=\"all\")])\n",
       "</pre>\n"
      ],
      "text/plain": [
       "/var/folders/7t/k8q3439j6z3c683j7w00wtm80000gn/T/ipykernel_58430/1419766920.py:27: FutureWarning: The behavior of \n",
       "DataFrame concatenation with empty or all-NA entries is deprecated. In a future version, this will no longer \n",
       "exclude empty or all-NA columns when determining the result dtypes. To retain the old behavior, exclude the \n",
       "relevant entries before the concat operation.\n",
       "  results = pd.concat([results, normalized_data]) #.dropna(axis=1, how=\"all\")])\n"
      ]
     },
     "metadata": {},
     "output_type": "display_data"
    },
    {
     "data": {
      "text/html": [
       "<pre style=\"white-space:pre;overflow-x:auto;line-height:normal;font-family:Menlo,'DejaVu Sans Mono',consolas,'Courier New',monospace\">/var/folders/7t/k8q3439j6z3c683j7w00wtm80000gn/T/ipykernel_58430/1419766920.py:27: FutureWarning: The behavior of \n",
       "DataFrame concatenation with empty or all-NA entries is deprecated. In a future version, this will no longer \n",
       "exclude empty or all-NA columns when determining the result dtypes. To retain the old behavior, exclude the \n",
       "relevant entries before the concat operation.\n",
       "  results = pd.concat([results, normalized_data]) #.dropna(axis=1, how=\"all\")])\n",
       "</pre>\n"
      ],
      "text/plain": [
       "/var/folders/7t/k8q3439j6z3c683j7w00wtm80000gn/T/ipykernel_58430/1419766920.py:27: FutureWarning: The behavior of \n",
       "DataFrame concatenation with empty or all-NA entries is deprecated. In a future version, this will no longer \n",
       "exclude empty or all-NA columns when determining the result dtypes. To retain the old behavior, exclude the \n",
       "relevant entries before the concat operation.\n",
       "  results = pd.concat([results, normalized_data]) #.dropna(axis=1, how=\"all\")])\n"
      ]
     },
     "metadata": {},
     "output_type": "display_data"
    },
    {
     "data": {
      "text/html": [
       "<pre style=\"white-space:pre;overflow-x:auto;line-height:normal;font-family:Menlo,'DejaVu Sans Mono',consolas,'Courier New',monospace\">/var/folders/7t/k8q3439j6z3c683j7w00wtm80000gn/T/ipykernel_58430/1419766920.py:27: FutureWarning: The behavior of \n",
       "DataFrame concatenation with empty or all-NA entries is deprecated. In a future version, this will no longer \n",
       "exclude empty or all-NA columns when determining the result dtypes. To retain the old behavior, exclude the \n",
       "relevant entries before the concat operation.\n",
       "  results = pd.concat([results, normalized_data]) #.dropna(axis=1, how=\"all\")])\n",
       "</pre>\n"
      ],
      "text/plain": [
       "/var/folders/7t/k8q3439j6z3c683j7w00wtm80000gn/T/ipykernel_58430/1419766920.py:27: FutureWarning: The behavior of \n",
       "DataFrame concatenation with empty or all-NA entries is deprecated. In a future version, this will no longer \n",
       "exclude empty or all-NA columns when determining the result dtypes. To retain the old behavior, exclude the \n",
       "relevant entries before the concat operation.\n",
       "  results = pd.concat([results, normalized_data]) #.dropna(axis=1, how=\"all\")])\n"
      ]
     },
     "metadata": {},
     "output_type": "display_data"
    },
    {
     "data": {
      "text/html": [
       "<pre style=\"white-space:pre;overflow-x:auto;line-height:normal;font-family:Menlo,'DejaVu Sans Mono',consolas,'Courier New',monospace\">/var/folders/7t/k8q3439j6z3c683j7w00wtm80000gn/T/ipykernel_58430/1419766920.py:27: FutureWarning: The behavior of \n",
       "DataFrame concatenation with empty or all-NA entries is deprecated. In a future version, this will no longer \n",
       "exclude empty or all-NA columns when determining the result dtypes. To retain the old behavior, exclude the \n",
       "relevant entries before the concat operation.\n",
       "  results = pd.concat([results, normalized_data]) #.dropna(axis=1, how=\"all\")])\n",
       "</pre>\n"
      ],
      "text/plain": [
       "/var/folders/7t/k8q3439j6z3c683j7w00wtm80000gn/T/ipykernel_58430/1419766920.py:27: FutureWarning: The behavior of \n",
       "DataFrame concatenation with empty or all-NA entries is deprecated. In a future version, this will no longer \n",
       "exclude empty or all-NA columns when determining the result dtypes. To retain the old behavior, exclude the \n",
       "relevant entries before the concat operation.\n",
       "  results = pd.concat([results, normalized_data]) #.dropna(axis=1, how=\"all\")])\n"
      ]
     },
     "metadata": {},
     "output_type": "display_data"
    },
    {
     "data": {
      "text/html": [
       "<pre style=\"white-space:pre;overflow-x:auto;line-height:normal;font-family:Menlo,'DejaVu Sans Mono',consolas,'Courier New',monospace\">/var/folders/7t/k8q3439j6z3c683j7w00wtm80000gn/T/ipykernel_58430/1419766920.py:27: FutureWarning: The behavior of \n",
       "DataFrame concatenation with empty or all-NA entries is deprecated. In a future version, this will no longer \n",
       "exclude empty or all-NA columns when determining the result dtypes. To retain the old behavior, exclude the \n",
       "relevant entries before the concat operation.\n",
       "  results = pd.concat([results, normalized_data]) #.dropna(axis=1, how=\"all\")])\n",
       "</pre>\n"
      ],
      "text/plain": [
       "/var/folders/7t/k8q3439j6z3c683j7w00wtm80000gn/T/ipykernel_58430/1419766920.py:27: FutureWarning: The behavior of \n",
       "DataFrame concatenation with empty or all-NA entries is deprecated. In a future version, this will no longer \n",
       "exclude empty or all-NA columns when determining the result dtypes. To retain the old behavior, exclude the \n",
       "relevant entries before the concat operation.\n",
       "  results = pd.concat([results, normalized_data]) #.dropna(axis=1, how=\"all\")])\n"
      ]
     },
     "metadata": {},
     "output_type": "display_data"
    },
    {
     "data": {
      "text/html": [
       "<pre style=\"white-space:pre;overflow-x:auto;line-height:normal;font-family:Menlo,'DejaVu Sans Mono',consolas,'Courier New',monospace\">/var/folders/7t/k8q3439j6z3c683j7w00wtm80000gn/T/ipykernel_58430/1419766920.py:27: FutureWarning: The behavior of \n",
       "DataFrame concatenation with empty or all-NA entries is deprecated. In a future version, this will no longer \n",
       "exclude empty or all-NA columns when determining the result dtypes. To retain the old behavior, exclude the \n",
       "relevant entries before the concat operation.\n",
       "  results = pd.concat([results, normalized_data]) #.dropna(axis=1, how=\"all\")])\n",
       "</pre>\n"
      ],
      "text/plain": [
       "/var/folders/7t/k8q3439j6z3c683j7w00wtm80000gn/T/ipykernel_58430/1419766920.py:27: FutureWarning: The behavior of \n",
       "DataFrame concatenation with empty or all-NA entries is deprecated. In a future version, this will no longer \n",
       "exclude empty or all-NA columns when determining the result dtypes. To retain the old behavior, exclude the \n",
       "relevant entries before the concat operation.\n",
       "  results = pd.concat([results, normalized_data]) #.dropna(axis=1, how=\"all\")])\n"
      ]
     },
     "metadata": {},
     "output_type": "display_data"
    },
    {
     "data": {
      "text/html": [
       "<pre style=\"white-space:pre;overflow-x:auto;line-height:normal;font-family:Menlo,'DejaVu Sans Mono',consolas,'Courier New',monospace\">/var/folders/7t/k8q3439j6z3c683j7w00wtm80000gn/T/ipykernel_58430/1419766920.py:27: FutureWarning: The behavior of \n",
       "DataFrame concatenation with empty or all-NA entries is deprecated. In a future version, this will no longer \n",
       "exclude empty or all-NA columns when determining the result dtypes. To retain the old behavior, exclude the \n",
       "relevant entries before the concat operation.\n",
       "  results = pd.concat([results, normalized_data]) #.dropna(axis=1, how=\"all\")])\n",
       "</pre>\n"
      ],
      "text/plain": [
       "/var/folders/7t/k8q3439j6z3c683j7w00wtm80000gn/T/ipykernel_58430/1419766920.py:27: FutureWarning: The behavior of \n",
       "DataFrame concatenation with empty or all-NA entries is deprecated. In a future version, this will no longer \n",
       "exclude empty or all-NA columns when determining the result dtypes. To retain the old behavior, exclude the \n",
       "relevant entries before the concat operation.\n",
       "  results = pd.concat([results, normalized_data]) #.dropna(axis=1, how=\"all\")])\n"
      ]
     },
     "metadata": {},
     "output_type": "display_data"
    },
    {
     "data": {
      "text/html": [
       "<pre style=\"white-space:pre;overflow-x:auto;line-height:normal;font-family:Menlo,'DejaVu Sans Mono',consolas,'Courier New',monospace\">/var/folders/7t/k8q3439j6z3c683j7w00wtm80000gn/T/ipykernel_58430/1419766920.py:27: FutureWarning: The behavior of \n",
       "DataFrame concatenation with empty or all-NA entries is deprecated. In a future version, this will no longer \n",
       "exclude empty or all-NA columns when determining the result dtypes. To retain the old behavior, exclude the \n",
       "relevant entries before the concat operation.\n",
       "  results = pd.concat([results, normalized_data]) #.dropna(axis=1, how=\"all\")])\n",
       "</pre>\n"
      ],
      "text/plain": [
       "/var/folders/7t/k8q3439j6z3c683j7w00wtm80000gn/T/ipykernel_58430/1419766920.py:27: FutureWarning: The behavior of \n",
       "DataFrame concatenation with empty or all-NA entries is deprecated. In a future version, this will no longer \n",
       "exclude empty or all-NA columns when determining the result dtypes. To retain the old behavior, exclude the \n",
       "relevant entries before the concat operation.\n",
       "  results = pd.concat([results, normalized_data]) #.dropna(axis=1, how=\"all\")])\n"
      ]
     },
     "metadata": {},
     "output_type": "display_data"
    },
    {
     "data": {
      "text/html": [
       "<pre style=\"white-space:pre;overflow-x:auto;line-height:normal;font-family:Menlo,'DejaVu Sans Mono',consolas,'Courier New',monospace\">/var/folders/7t/k8q3439j6z3c683j7w00wtm80000gn/T/ipykernel_58430/1419766920.py:27: FutureWarning: The behavior of \n",
       "DataFrame concatenation with empty or all-NA entries is deprecated. In a future version, this will no longer \n",
       "exclude empty or all-NA columns when determining the result dtypes. To retain the old behavior, exclude the \n",
       "relevant entries before the concat operation.\n",
       "  results = pd.concat([results, normalized_data]) #.dropna(axis=1, how=\"all\")])\n",
       "</pre>\n"
      ],
      "text/plain": [
       "/var/folders/7t/k8q3439j6z3c683j7w00wtm80000gn/T/ipykernel_58430/1419766920.py:27: FutureWarning: The behavior of \n",
       "DataFrame concatenation with empty or all-NA entries is deprecated. In a future version, this will no longer \n",
       "exclude empty or all-NA columns when determining the result dtypes. To retain the old behavior, exclude the \n",
       "relevant entries before the concat operation.\n",
       "  results = pd.concat([results, normalized_data]) #.dropna(axis=1, how=\"all\")])\n"
      ]
     },
     "metadata": {},
     "output_type": "display_data"
    },
    {
     "data": {
      "text/html": [
       "<pre style=\"white-space:pre;overflow-x:auto;line-height:normal;font-family:Menlo,'DejaVu Sans Mono',consolas,'Courier New',monospace\">/var/folders/7t/k8q3439j6z3c683j7w00wtm80000gn/T/ipykernel_58430/1419766920.py:27: FutureWarning: The behavior of \n",
       "DataFrame concatenation with empty or all-NA entries is deprecated. In a future version, this will no longer \n",
       "exclude empty or all-NA columns when determining the result dtypes. To retain the old behavior, exclude the \n",
       "relevant entries before the concat operation.\n",
       "  results = pd.concat([results, normalized_data]) #.dropna(axis=1, how=\"all\")])\n",
       "</pre>\n"
      ],
      "text/plain": [
       "/var/folders/7t/k8q3439j6z3c683j7w00wtm80000gn/T/ipykernel_58430/1419766920.py:27: FutureWarning: The behavior of \n",
       "DataFrame concatenation with empty or all-NA entries is deprecated. In a future version, this will no longer \n",
       "exclude empty or all-NA columns when determining the result dtypes. To retain the old behavior, exclude the \n",
       "relevant entries before the concat operation.\n",
       "  results = pd.concat([results, normalized_data]) #.dropna(axis=1, how=\"all\")])\n"
      ]
     },
     "metadata": {},
     "output_type": "display_data"
    },
    {
     "data": {
      "text/html": [
       "<pre style=\"white-space:pre;overflow-x:auto;line-height:normal;font-family:Menlo,'DejaVu Sans Mono',consolas,'Courier New',monospace\">/var/folders/7t/k8q3439j6z3c683j7w00wtm80000gn/T/ipykernel_58430/1419766920.py:27: FutureWarning: The behavior of \n",
       "DataFrame concatenation with empty or all-NA entries is deprecated. In a future version, this will no longer \n",
       "exclude empty or all-NA columns when determining the result dtypes. To retain the old behavior, exclude the \n",
       "relevant entries before the concat operation.\n",
       "  results = pd.concat([results, normalized_data]) #.dropna(axis=1, how=\"all\")])\n",
       "</pre>\n"
      ],
      "text/plain": [
       "/var/folders/7t/k8q3439j6z3c683j7w00wtm80000gn/T/ipykernel_58430/1419766920.py:27: FutureWarning: The behavior of \n",
       "DataFrame concatenation with empty or all-NA entries is deprecated. In a future version, this will no longer \n",
       "exclude empty or all-NA columns when determining the result dtypes. To retain the old behavior, exclude the \n",
       "relevant entries before the concat operation.\n",
       "  results = pd.concat([results, normalized_data]) #.dropna(axis=1, how=\"all\")])\n"
      ]
     },
     "metadata": {},
     "output_type": "display_data"
    },
    {
     "data": {
      "text/html": [
       "<pre style=\"white-space:pre;overflow-x:auto;line-height:normal;font-family:Menlo,'DejaVu Sans Mono',consolas,'Courier New',monospace\">/var/folders/7t/k8q3439j6z3c683j7w00wtm80000gn/T/ipykernel_58430/1419766920.py:27: FutureWarning: The behavior of \n",
       "DataFrame concatenation with empty or all-NA entries is deprecated. In a future version, this will no longer \n",
       "exclude empty or all-NA columns when determining the result dtypes. To retain the old behavior, exclude the \n",
       "relevant entries before the concat operation.\n",
       "  results = pd.concat([results, normalized_data]) #.dropna(axis=1, how=\"all\")])\n",
       "</pre>\n"
      ],
      "text/plain": [
       "/var/folders/7t/k8q3439j6z3c683j7w00wtm80000gn/T/ipykernel_58430/1419766920.py:27: FutureWarning: The behavior of \n",
       "DataFrame concatenation with empty or all-NA entries is deprecated. In a future version, this will no longer \n",
       "exclude empty or all-NA columns when determining the result dtypes. To retain the old behavior, exclude the \n",
       "relevant entries before the concat operation.\n",
       "  results = pd.concat([results, normalized_data]) #.dropna(axis=1, how=\"all\")])\n"
      ]
     },
     "metadata": {},
     "output_type": "display_data"
    },
    {
     "data": {
      "text/html": [
       "<pre style=\"white-space:pre;overflow-x:auto;line-height:normal;font-family:Menlo,'DejaVu Sans Mono',consolas,'Courier New',monospace\">/var/folders/7t/k8q3439j6z3c683j7w00wtm80000gn/T/ipykernel_58430/1419766920.py:27: FutureWarning: The behavior of \n",
       "DataFrame concatenation with empty or all-NA entries is deprecated. In a future version, this will no longer \n",
       "exclude empty or all-NA columns when determining the result dtypes. To retain the old behavior, exclude the \n",
       "relevant entries before the concat operation.\n",
       "  results = pd.concat([results, normalized_data]) #.dropna(axis=1, how=\"all\")])\n",
       "</pre>\n"
      ],
      "text/plain": [
       "/var/folders/7t/k8q3439j6z3c683j7w00wtm80000gn/T/ipykernel_58430/1419766920.py:27: FutureWarning: The behavior of \n",
       "DataFrame concatenation with empty or all-NA entries is deprecated. In a future version, this will no longer \n",
       "exclude empty or all-NA columns when determining the result dtypes. To retain the old behavior, exclude the \n",
       "relevant entries before the concat operation.\n",
       "  results = pd.concat([results, normalized_data]) #.dropna(axis=1, how=\"all\")])\n"
      ]
     },
     "metadata": {},
     "output_type": "display_data"
    },
    {
     "data": {
      "text/html": [
       "<pre style=\"white-space:pre;overflow-x:auto;line-height:normal;font-family:Menlo,'DejaVu Sans Mono',consolas,'Courier New',monospace\">/var/folders/7t/k8q3439j6z3c683j7w00wtm80000gn/T/ipykernel_58430/1419766920.py:27: FutureWarning: The behavior of \n",
       "DataFrame concatenation with empty or all-NA entries is deprecated. In a future version, this will no longer \n",
       "exclude empty or all-NA columns when determining the result dtypes. To retain the old behavior, exclude the \n",
       "relevant entries before the concat operation.\n",
       "  results = pd.concat([results, normalized_data]) #.dropna(axis=1, how=\"all\")])\n",
       "</pre>\n"
      ],
      "text/plain": [
       "/var/folders/7t/k8q3439j6z3c683j7w00wtm80000gn/T/ipykernel_58430/1419766920.py:27: FutureWarning: The behavior of \n",
       "DataFrame concatenation with empty or all-NA entries is deprecated. In a future version, this will no longer \n",
       "exclude empty or all-NA columns when determining the result dtypes. To retain the old behavior, exclude the \n",
       "relevant entries before the concat operation.\n",
       "  results = pd.concat([results, normalized_data]) #.dropna(axis=1, how=\"all\")])\n"
      ]
     },
     "metadata": {},
     "output_type": "display_data"
    },
    {
     "data": {
      "text/html": [
       "<pre style=\"white-space:pre;overflow-x:auto;line-height:normal;font-family:Menlo,'DejaVu Sans Mono',consolas,'Courier New',monospace\">/var/folders/7t/k8q3439j6z3c683j7w00wtm80000gn/T/ipykernel_58430/1419766920.py:27: FutureWarning: The behavior of \n",
       "DataFrame concatenation with empty or all-NA entries is deprecated. In a future version, this will no longer \n",
       "exclude empty or all-NA columns when determining the result dtypes. To retain the old behavior, exclude the \n",
       "relevant entries before the concat operation.\n",
       "  results = pd.concat([results, normalized_data]) #.dropna(axis=1, how=\"all\")])\n",
       "</pre>\n"
      ],
      "text/plain": [
       "/var/folders/7t/k8q3439j6z3c683j7w00wtm80000gn/T/ipykernel_58430/1419766920.py:27: FutureWarning: The behavior of \n",
       "DataFrame concatenation with empty or all-NA entries is deprecated. In a future version, this will no longer \n",
       "exclude empty or all-NA columns when determining the result dtypes. To retain the old behavior, exclude the \n",
       "relevant entries before the concat operation.\n",
       "  results = pd.concat([results, normalized_data]) #.dropna(axis=1, how=\"all\")])\n"
      ]
     },
     "metadata": {},
     "output_type": "display_data"
    },
    {
     "data": {
      "text/html": [
       "<pre style=\"white-space:pre;overflow-x:auto;line-height:normal;font-family:Menlo,'DejaVu Sans Mono',consolas,'Courier New',monospace\">/var/folders/7t/k8q3439j6z3c683j7w00wtm80000gn/T/ipykernel_58430/1419766920.py:27: FutureWarning: The behavior of \n",
       "DataFrame concatenation with empty or all-NA entries is deprecated. In a future version, this will no longer \n",
       "exclude empty or all-NA columns when determining the result dtypes. To retain the old behavior, exclude the \n",
       "relevant entries before the concat operation.\n",
       "  results = pd.concat([results, normalized_data]) #.dropna(axis=1, how=\"all\")])\n",
       "</pre>\n"
      ],
      "text/plain": [
       "/var/folders/7t/k8q3439j6z3c683j7w00wtm80000gn/T/ipykernel_58430/1419766920.py:27: FutureWarning: The behavior of \n",
       "DataFrame concatenation with empty or all-NA entries is deprecated. In a future version, this will no longer \n",
       "exclude empty or all-NA columns when determining the result dtypes. To retain the old behavior, exclude the \n",
       "relevant entries before the concat operation.\n",
       "  results = pd.concat([results, normalized_data]) #.dropna(axis=1, how=\"all\")])\n"
      ]
     },
     "metadata": {},
     "output_type": "display_data"
    },
    {
     "data": {
      "text/html": [
       "<pre style=\"white-space:pre;overflow-x:auto;line-height:normal;font-family:Menlo,'DejaVu Sans Mono',consolas,'Courier New',monospace\">/var/folders/7t/k8q3439j6z3c683j7w00wtm80000gn/T/ipykernel_58430/1419766920.py:27: FutureWarning: The behavior of \n",
       "DataFrame concatenation with empty or all-NA entries is deprecated. In a future version, this will no longer \n",
       "exclude empty or all-NA columns when determining the result dtypes. To retain the old behavior, exclude the \n",
       "relevant entries before the concat operation.\n",
       "  results = pd.concat([results, normalized_data]) #.dropna(axis=1, how=\"all\")])\n",
       "</pre>\n"
      ],
      "text/plain": [
       "/var/folders/7t/k8q3439j6z3c683j7w00wtm80000gn/T/ipykernel_58430/1419766920.py:27: FutureWarning: The behavior of \n",
       "DataFrame concatenation with empty or all-NA entries is deprecated. In a future version, this will no longer \n",
       "exclude empty or all-NA columns when determining the result dtypes. To retain the old behavior, exclude the \n",
       "relevant entries before the concat operation.\n",
       "  results = pd.concat([results, normalized_data]) #.dropna(axis=1, how=\"all\")])\n"
      ]
     },
     "metadata": {},
     "output_type": "display_data"
    },
    {
     "data": {
      "text/html": [
       "<pre style=\"white-space:pre;overflow-x:auto;line-height:normal;font-family:Menlo,'DejaVu Sans Mono',consolas,'Courier New',monospace\">/var/folders/7t/k8q3439j6z3c683j7w00wtm80000gn/T/ipykernel_58430/1419766920.py:27: FutureWarning: The behavior of \n",
       "DataFrame concatenation with empty or all-NA entries is deprecated. In a future version, this will no longer \n",
       "exclude empty or all-NA columns when determining the result dtypes. To retain the old behavior, exclude the \n",
       "relevant entries before the concat operation.\n",
       "  results = pd.concat([results, normalized_data]) #.dropna(axis=1, how=\"all\")])\n",
       "</pre>\n"
      ],
      "text/plain": [
       "/var/folders/7t/k8q3439j6z3c683j7w00wtm80000gn/T/ipykernel_58430/1419766920.py:27: FutureWarning: The behavior of \n",
       "DataFrame concatenation with empty or all-NA entries is deprecated. In a future version, this will no longer \n",
       "exclude empty or all-NA columns when determining the result dtypes. To retain the old behavior, exclude the \n",
       "relevant entries before the concat operation.\n",
       "  results = pd.concat([results, normalized_data]) #.dropna(axis=1, how=\"all\")])\n"
      ]
     },
     "metadata": {},
     "output_type": "display_data"
    },
    {
     "data": {
      "text/html": [
       "<pre style=\"white-space:pre;overflow-x:auto;line-height:normal;font-family:Menlo,'DejaVu Sans Mono',consolas,'Courier New',monospace\">/var/folders/7t/k8q3439j6z3c683j7w00wtm80000gn/T/ipykernel_58430/1419766920.py:27: FutureWarning: The behavior of \n",
       "DataFrame concatenation with empty or all-NA entries is deprecated. In a future version, this will no longer \n",
       "exclude empty or all-NA columns when determining the result dtypes. To retain the old behavior, exclude the \n",
       "relevant entries before the concat operation.\n",
       "  results = pd.concat([results, normalized_data]) #.dropna(axis=1, how=\"all\")])\n",
       "</pre>\n"
      ],
      "text/plain": [
       "/var/folders/7t/k8q3439j6z3c683j7w00wtm80000gn/T/ipykernel_58430/1419766920.py:27: FutureWarning: The behavior of \n",
       "DataFrame concatenation with empty or all-NA entries is deprecated. In a future version, this will no longer \n",
       "exclude empty or all-NA columns when determining the result dtypes. To retain the old behavior, exclude the \n",
       "relevant entries before the concat operation.\n",
       "  results = pd.concat([results, normalized_data]) #.dropna(axis=1, how=\"all\")])\n"
      ]
     },
     "metadata": {},
     "output_type": "display_data"
    },
    {
     "data": {
      "text/html": [
       "<pre style=\"white-space:pre;overflow-x:auto;line-height:normal;font-family:Menlo,'DejaVu Sans Mono',consolas,'Courier New',monospace\">/var/folders/7t/k8q3439j6z3c683j7w00wtm80000gn/T/ipykernel_58430/1419766920.py:27: FutureWarning: The behavior of \n",
       "DataFrame concatenation with empty or all-NA entries is deprecated. In a future version, this will no longer \n",
       "exclude empty or all-NA columns when determining the result dtypes. To retain the old behavior, exclude the \n",
       "relevant entries before the concat operation.\n",
       "  results = pd.concat([results, normalized_data]) #.dropna(axis=1, how=\"all\")])\n",
       "</pre>\n"
      ],
      "text/plain": [
       "/var/folders/7t/k8q3439j6z3c683j7w00wtm80000gn/T/ipykernel_58430/1419766920.py:27: FutureWarning: The behavior of \n",
       "DataFrame concatenation with empty or all-NA entries is deprecated. In a future version, this will no longer \n",
       "exclude empty or all-NA columns when determining the result dtypes. To retain the old behavior, exclude the \n",
       "relevant entries before the concat operation.\n",
       "  results = pd.concat([results, normalized_data]) #.dropna(axis=1, how=\"all\")])\n"
      ]
     },
     "metadata": {},
     "output_type": "display_data"
    },
    {
     "data": {
      "text/html": [
       "<pre style=\"white-space:pre;overflow-x:auto;line-height:normal;font-family:Menlo,'DejaVu Sans Mono',consolas,'Courier New',monospace\">/var/folders/7t/k8q3439j6z3c683j7w00wtm80000gn/T/ipykernel_58430/1419766920.py:27: FutureWarning: The behavior of \n",
       "DataFrame concatenation with empty or all-NA entries is deprecated. In a future version, this will no longer \n",
       "exclude empty or all-NA columns when determining the result dtypes. To retain the old behavior, exclude the \n",
       "relevant entries before the concat operation.\n",
       "  results = pd.concat([results, normalized_data]) #.dropna(axis=1, how=\"all\")])\n",
       "</pre>\n"
      ],
      "text/plain": [
       "/var/folders/7t/k8q3439j6z3c683j7w00wtm80000gn/T/ipykernel_58430/1419766920.py:27: FutureWarning: The behavior of \n",
       "DataFrame concatenation with empty or all-NA entries is deprecated. In a future version, this will no longer \n",
       "exclude empty or all-NA columns when determining the result dtypes. To retain the old behavior, exclude the \n",
       "relevant entries before the concat operation.\n",
       "  results = pd.concat([results, normalized_data]) #.dropna(axis=1, how=\"all\")])\n"
      ]
     },
     "metadata": {},
     "output_type": "display_data"
    },
    {
     "data": {
      "text/html": [
       "<pre style=\"white-space:pre;overflow-x:auto;line-height:normal;font-family:Menlo,'DejaVu Sans Mono',consolas,'Courier New',monospace\">/var/folders/7t/k8q3439j6z3c683j7w00wtm80000gn/T/ipykernel_58430/1419766920.py:27: FutureWarning: The behavior of \n",
       "DataFrame concatenation with empty or all-NA entries is deprecated. In a future version, this will no longer \n",
       "exclude empty or all-NA columns when determining the result dtypes. To retain the old behavior, exclude the \n",
       "relevant entries before the concat operation.\n",
       "  results = pd.concat([results, normalized_data]) #.dropna(axis=1, how=\"all\")])\n",
       "</pre>\n"
      ],
      "text/plain": [
       "/var/folders/7t/k8q3439j6z3c683j7w00wtm80000gn/T/ipykernel_58430/1419766920.py:27: FutureWarning: The behavior of \n",
       "DataFrame concatenation with empty or all-NA entries is deprecated. In a future version, this will no longer \n",
       "exclude empty or all-NA columns when determining the result dtypes. To retain the old behavior, exclude the \n",
       "relevant entries before the concat operation.\n",
       "  results = pd.concat([results, normalized_data]) #.dropna(axis=1, how=\"all\")])\n"
      ]
     },
     "metadata": {},
     "output_type": "display_data"
    },
    {
     "data": {
      "text/html": [
       "<pre style=\"white-space:pre;overflow-x:auto;line-height:normal;font-family:Menlo,'DejaVu Sans Mono',consolas,'Courier New',monospace\">/var/folders/7t/k8q3439j6z3c683j7w00wtm80000gn/T/ipykernel_58430/1419766920.py:27: FutureWarning: The behavior of \n",
       "DataFrame concatenation with empty or all-NA entries is deprecated. In a future version, this will no longer \n",
       "exclude empty or all-NA columns when determining the result dtypes. To retain the old behavior, exclude the \n",
       "relevant entries before the concat operation.\n",
       "  results = pd.concat([results, normalized_data]) #.dropna(axis=1, how=\"all\")])\n",
       "</pre>\n"
      ],
      "text/plain": [
       "/var/folders/7t/k8q3439j6z3c683j7w00wtm80000gn/T/ipykernel_58430/1419766920.py:27: FutureWarning: The behavior of \n",
       "DataFrame concatenation with empty or all-NA entries is deprecated. In a future version, this will no longer \n",
       "exclude empty or all-NA columns when determining the result dtypes. To retain the old behavior, exclude the \n",
       "relevant entries before the concat operation.\n",
       "  results = pd.concat([results, normalized_data]) #.dropna(axis=1, how=\"all\")])\n"
      ]
     },
     "metadata": {},
     "output_type": "display_data"
    },
    {
     "data": {
      "text/html": [
       "<pre style=\"white-space:pre;overflow-x:auto;line-height:normal;font-family:Menlo,'DejaVu Sans Mono',consolas,'Courier New',monospace\">/var/folders/7t/k8q3439j6z3c683j7w00wtm80000gn/T/ipykernel_58430/1419766920.py:27: FutureWarning: The behavior of \n",
       "DataFrame concatenation with empty or all-NA entries is deprecated. In a future version, this will no longer \n",
       "exclude empty or all-NA columns when determining the result dtypes. To retain the old behavior, exclude the \n",
       "relevant entries before the concat operation.\n",
       "  results = pd.concat([results, normalized_data]) #.dropna(axis=1, how=\"all\")])\n",
       "</pre>\n"
      ],
      "text/plain": [
       "/var/folders/7t/k8q3439j6z3c683j7w00wtm80000gn/T/ipykernel_58430/1419766920.py:27: FutureWarning: The behavior of \n",
       "DataFrame concatenation with empty or all-NA entries is deprecated. In a future version, this will no longer \n",
       "exclude empty or all-NA columns when determining the result dtypes. To retain the old behavior, exclude the \n",
       "relevant entries before the concat operation.\n",
       "  results = pd.concat([results, normalized_data]) #.dropna(axis=1, how=\"all\")])\n"
      ]
     },
     "metadata": {},
     "output_type": "display_data"
    },
    {
     "data": {
      "text/html": [
       "<pre style=\"white-space:pre;overflow-x:auto;line-height:normal;font-family:Menlo,'DejaVu Sans Mono',consolas,'Courier New',monospace\">/var/folders/7t/k8q3439j6z3c683j7w00wtm80000gn/T/ipykernel_58430/1419766920.py:27: FutureWarning: The behavior of \n",
       "DataFrame concatenation with empty or all-NA entries is deprecated. In a future version, this will no longer \n",
       "exclude empty or all-NA columns when determining the result dtypes. To retain the old behavior, exclude the \n",
       "relevant entries before the concat operation.\n",
       "  results = pd.concat([results, normalized_data]) #.dropna(axis=1, how=\"all\")])\n",
       "</pre>\n"
      ],
      "text/plain": [
       "/var/folders/7t/k8q3439j6z3c683j7w00wtm80000gn/T/ipykernel_58430/1419766920.py:27: FutureWarning: The behavior of \n",
       "DataFrame concatenation with empty or all-NA entries is deprecated. In a future version, this will no longer \n",
       "exclude empty or all-NA columns when determining the result dtypes. To retain the old behavior, exclude the \n",
       "relevant entries before the concat operation.\n",
       "  results = pd.concat([results, normalized_data]) #.dropna(axis=1, how=\"all\")])\n"
      ]
     },
     "metadata": {},
     "output_type": "display_data"
    },
    {
     "data": {
      "text/html": [
       "<pre style=\"white-space:pre;overflow-x:auto;line-height:normal;font-family:Menlo,'DejaVu Sans Mono',consolas,'Courier New',monospace\">/var/folders/7t/k8q3439j6z3c683j7w00wtm80000gn/T/ipykernel_58430/1419766920.py:27: FutureWarning: The behavior of \n",
       "DataFrame concatenation with empty or all-NA entries is deprecated. In a future version, this will no longer \n",
       "exclude empty or all-NA columns when determining the result dtypes. To retain the old behavior, exclude the \n",
       "relevant entries before the concat operation.\n",
       "  results = pd.concat([results, normalized_data]) #.dropna(axis=1, how=\"all\")])\n",
       "</pre>\n"
      ],
      "text/plain": [
       "/var/folders/7t/k8q3439j6z3c683j7w00wtm80000gn/T/ipykernel_58430/1419766920.py:27: FutureWarning: The behavior of \n",
       "DataFrame concatenation with empty or all-NA entries is deprecated. In a future version, this will no longer \n",
       "exclude empty or all-NA columns when determining the result dtypes. To retain the old behavior, exclude the \n",
       "relevant entries before the concat operation.\n",
       "  results = pd.concat([results, normalized_data]) #.dropna(axis=1, how=\"all\")])\n"
      ]
     },
     "metadata": {},
     "output_type": "display_data"
    },
    {
     "data": {
      "text/html": [
       "<pre style=\"white-space:pre;overflow-x:auto;line-height:normal;font-family:Menlo,'DejaVu Sans Mono',consolas,'Courier New',monospace\">/var/folders/7t/k8q3439j6z3c683j7w00wtm80000gn/T/ipykernel_58430/1419766920.py:27: FutureWarning: The behavior of \n",
       "DataFrame concatenation with empty or all-NA entries is deprecated. In a future version, this will no longer \n",
       "exclude empty or all-NA columns when determining the result dtypes. To retain the old behavior, exclude the \n",
       "relevant entries before the concat operation.\n",
       "  results = pd.concat([results, normalized_data]) #.dropna(axis=1, how=\"all\")])\n",
       "</pre>\n"
      ],
      "text/plain": [
       "/var/folders/7t/k8q3439j6z3c683j7w00wtm80000gn/T/ipykernel_58430/1419766920.py:27: FutureWarning: The behavior of \n",
       "DataFrame concatenation with empty or all-NA entries is deprecated. In a future version, this will no longer \n",
       "exclude empty or all-NA columns when determining the result dtypes. To retain the old behavior, exclude the \n",
       "relevant entries before the concat operation.\n",
       "  results = pd.concat([results, normalized_data]) #.dropna(axis=1, how=\"all\")])\n"
      ]
     },
     "metadata": {},
     "output_type": "display_data"
    },
    {
     "data": {
      "text/html": [
       "<pre style=\"white-space:pre;overflow-x:auto;line-height:normal;font-family:Menlo,'DejaVu Sans Mono',consolas,'Courier New',monospace\">/var/folders/7t/k8q3439j6z3c683j7w00wtm80000gn/T/ipykernel_58430/1419766920.py:27: FutureWarning: The behavior of \n",
       "DataFrame concatenation with empty or all-NA entries is deprecated. In a future version, this will no longer \n",
       "exclude empty or all-NA columns when determining the result dtypes. To retain the old behavior, exclude the \n",
       "relevant entries before the concat operation.\n",
       "  results = pd.concat([results, normalized_data]) #.dropna(axis=1, how=\"all\")])\n",
       "</pre>\n"
      ],
      "text/plain": [
       "/var/folders/7t/k8q3439j6z3c683j7w00wtm80000gn/T/ipykernel_58430/1419766920.py:27: FutureWarning: The behavior of \n",
       "DataFrame concatenation with empty or all-NA entries is deprecated. In a future version, this will no longer \n",
       "exclude empty or all-NA columns when determining the result dtypes. To retain the old behavior, exclude the \n",
       "relevant entries before the concat operation.\n",
       "  results = pd.concat([results, normalized_data]) #.dropna(axis=1, how=\"all\")])\n"
      ]
     },
     "metadata": {},
     "output_type": "display_data"
    },
    {
     "data": {
      "text/html": [
       "<pre style=\"white-space:pre;overflow-x:auto;line-height:normal;font-family:Menlo,'DejaVu Sans Mono',consolas,'Courier New',monospace\">/var/folders/7t/k8q3439j6z3c683j7w00wtm80000gn/T/ipykernel_58430/1419766920.py:27: FutureWarning: The behavior of \n",
       "DataFrame concatenation with empty or all-NA entries is deprecated. In a future version, this will no longer \n",
       "exclude empty or all-NA columns when determining the result dtypes. To retain the old behavior, exclude the \n",
       "relevant entries before the concat operation.\n",
       "  results = pd.concat([results, normalized_data]) #.dropna(axis=1, how=\"all\")])\n",
       "</pre>\n"
      ],
      "text/plain": [
       "/var/folders/7t/k8q3439j6z3c683j7w00wtm80000gn/T/ipykernel_58430/1419766920.py:27: FutureWarning: The behavior of \n",
       "DataFrame concatenation with empty or all-NA entries is deprecated. In a future version, this will no longer \n",
       "exclude empty or all-NA columns when determining the result dtypes. To retain the old behavior, exclude the \n",
       "relevant entries before the concat operation.\n",
       "  results = pd.concat([results, normalized_data]) #.dropna(axis=1, how=\"all\")])\n"
      ]
     },
     "metadata": {},
     "output_type": "display_data"
    },
    {
     "data": {
      "text/html": [
       "<pre style=\"white-space:pre;overflow-x:auto;line-height:normal;font-family:Menlo,'DejaVu Sans Mono',consolas,'Courier New',monospace\">/var/folders/7t/k8q3439j6z3c683j7w00wtm80000gn/T/ipykernel_58430/1419766920.py:27: FutureWarning: The behavior of \n",
       "DataFrame concatenation with empty or all-NA entries is deprecated. In a future version, this will no longer \n",
       "exclude empty or all-NA columns when determining the result dtypes. To retain the old behavior, exclude the \n",
       "relevant entries before the concat operation.\n",
       "  results = pd.concat([results, normalized_data]) #.dropna(axis=1, how=\"all\")])\n",
       "</pre>\n"
      ],
      "text/plain": [
       "/var/folders/7t/k8q3439j6z3c683j7w00wtm80000gn/T/ipykernel_58430/1419766920.py:27: FutureWarning: The behavior of \n",
       "DataFrame concatenation with empty or all-NA entries is deprecated. In a future version, this will no longer \n",
       "exclude empty or all-NA columns when determining the result dtypes. To retain the old behavior, exclude the \n",
       "relevant entries before the concat operation.\n",
       "  results = pd.concat([results, normalized_data]) #.dropna(axis=1, how=\"all\")])\n"
      ]
     },
     "metadata": {},
     "output_type": "display_data"
    },
    {
     "data": {
      "text/html": [
       "<pre style=\"white-space:pre;overflow-x:auto;line-height:normal;font-family:Menlo,'DejaVu Sans Mono',consolas,'Courier New',monospace\">/var/folders/7t/k8q3439j6z3c683j7w00wtm80000gn/T/ipykernel_58430/1419766920.py:27: FutureWarning: The behavior of \n",
       "DataFrame concatenation with empty or all-NA entries is deprecated. In a future version, this will no longer \n",
       "exclude empty or all-NA columns when determining the result dtypes. To retain the old behavior, exclude the \n",
       "relevant entries before the concat operation.\n",
       "  results = pd.concat([results, normalized_data]) #.dropna(axis=1, how=\"all\")])\n",
       "</pre>\n"
      ],
      "text/plain": [
       "/var/folders/7t/k8q3439j6z3c683j7w00wtm80000gn/T/ipykernel_58430/1419766920.py:27: FutureWarning: The behavior of \n",
       "DataFrame concatenation with empty or all-NA entries is deprecated. In a future version, this will no longer \n",
       "exclude empty or all-NA columns when determining the result dtypes. To retain the old behavior, exclude the \n",
       "relevant entries before the concat operation.\n",
       "  results = pd.concat([results, normalized_data]) #.dropna(axis=1, how=\"all\")])\n"
      ]
     },
     "metadata": {},
     "output_type": "display_data"
    },
    {
     "data": {
      "text/html": [
       "<pre style=\"white-space:pre;overflow-x:auto;line-height:normal;font-family:Menlo,'DejaVu Sans Mono',consolas,'Courier New',monospace\">/var/folders/7t/k8q3439j6z3c683j7w00wtm80000gn/T/ipykernel_58430/1419766920.py:27: FutureWarning: The behavior of \n",
       "DataFrame concatenation with empty or all-NA entries is deprecated. In a future version, this will no longer \n",
       "exclude empty or all-NA columns when determining the result dtypes. To retain the old behavior, exclude the \n",
       "relevant entries before the concat operation.\n",
       "  results = pd.concat([results, normalized_data]) #.dropna(axis=1, how=\"all\")])\n",
       "</pre>\n"
      ],
      "text/plain": [
       "/var/folders/7t/k8q3439j6z3c683j7w00wtm80000gn/T/ipykernel_58430/1419766920.py:27: FutureWarning: The behavior of \n",
       "DataFrame concatenation with empty or all-NA entries is deprecated. In a future version, this will no longer \n",
       "exclude empty or all-NA columns when determining the result dtypes. To retain the old behavior, exclude the \n",
       "relevant entries before the concat operation.\n",
       "  results = pd.concat([results, normalized_data]) #.dropna(axis=1, how=\"all\")])\n"
      ]
     },
     "metadata": {},
     "output_type": "display_data"
    },
    {
     "data": {
      "text/html": [
       "<pre style=\"white-space:pre;overflow-x:auto;line-height:normal;font-family:Menlo,'DejaVu Sans Mono',consolas,'Courier New',monospace\">/var/folders/7t/k8q3439j6z3c683j7w00wtm80000gn/T/ipykernel_58430/1419766920.py:27: FutureWarning: The behavior of \n",
       "DataFrame concatenation with empty or all-NA entries is deprecated. In a future version, this will no longer \n",
       "exclude empty or all-NA columns when determining the result dtypes. To retain the old behavior, exclude the \n",
       "relevant entries before the concat operation.\n",
       "  results = pd.concat([results, normalized_data]) #.dropna(axis=1, how=\"all\")])\n",
       "</pre>\n"
      ],
      "text/plain": [
       "/var/folders/7t/k8q3439j6z3c683j7w00wtm80000gn/T/ipykernel_58430/1419766920.py:27: FutureWarning: The behavior of \n",
       "DataFrame concatenation with empty or all-NA entries is deprecated. In a future version, this will no longer \n",
       "exclude empty or all-NA columns when determining the result dtypes. To retain the old behavior, exclude the \n",
       "relevant entries before the concat operation.\n",
       "  results = pd.concat([results, normalized_data]) #.dropna(axis=1, how=\"all\")])\n"
      ]
     },
     "metadata": {},
     "output_type": "display_data"
    },
    {
     "data": {
      "text/html": [
       "<pre style=\"white-space:pre;overflow-x:auto;line-height:normal;font-family:Menlo,'DejaVu Sans Mono',consolas,'Courier New',monospace\">/var/folders/7t/k8q3439j6z3c683j7w00wtm80000gn/T/ipykernel_58430/1419766920.py:27: FutureWarning: The behavior of \n",
       "DataFrame concatenation with empty or all-NA entries is deprecated. In a future version, this will no longer \n",
       "exclude empty or all-NA columns when determining the result dtypes. To retain the old behavior, exclude the \n",
       "relevant entries before the concat operation.\n",
       "  results = pd.concat([results, normalized_data]) #.dropna(axis=1, how=\"all\")])\n",
       "</pre>\n"
      ],
      "text/plain": [
       "/var/folders/7t/k8q3439j6z3c683j7w00wtm80000gn/T/ipykernel_58430/1419766920.py:27: FutureWarning: The behavior of \n",
       "DataFrame concatenation with empty or all-NA entries is deprecated. In a future version, this will no longer \n",
       "exclude empty or all-NA columns when determining the result dtypes. To retain the old behavior, exclude the \n",
       "relevant entries before the concat operation.\n",
       "  results = pd.concat([results, normalized_data]) #.dropna(axis=1, how=\"all\")])\n"
      ]
     },
     "metadata": {},
     "output_type": "display_data"
    },
    {
     "data": {
      "text/html": [
       "<pre style=\"white-space:pre;overflow-x:auto;line-height:normal;font-family:Menlo,'DejaVu Sans Mono',consolas,'Courier New',monospace\">/var/folders/7t/k8q3439j6z3c683j7w00wtm80000gn/T/ipykernel_58430/1419766920.py:27: FutureWarning: The behavior of \n",
       "DataFrame concatenation with empty or all-NA entries is deprecated. In a future version, this will no longer \n",
       "exclude empty or all-NA columns when determining the result dtypes. To retain the old behavior, exclude the \n",
       "relevant entries before the concat operation.\n",
       "  results = pd.concat([results, normalized_data]) #.dropna(axis=1, how=\"all\")])\n",
       "</pre>\n"
      ],
      "text/plain": [
       "/var/folders/7t/k8q3439j6z3c683j7w00wtm80000gn/T/ipykernel_58430/1419766920.py:27: FutureWarning: The behavior of \n",
       "DataFrame concatenation with empty or all-NA entries is deprecated. In a future version, this will no longer \n",
       "exclude empty or all-NA columns when determining the result dtypes. To retain the old behavior, exclude the \n",
       "relevant entries before the concat operation.\n",
       "  results = pd.concat([results, normalized_data]) #.dropna(axis=1, how=\"all\")])\n"
      ]
     },
     "metadata": {},
     "output_type": "display_data"
    },
    {
     "data": {
      "text/html": [
       "<pre style=\"white-space:pre;overflow-x:auto;line-height:normal;font-family:Menlo,'DejaVu Sans Mono',consolas,'Courier New',monospace\">/var/folders/7t/k8q3439j6z3c683j7w00wtm80000gn/T/ipykernel_58430/1419766920.py:27: FutureWarning: The behavior of \n",
       "DataFrame concatenation with empty or all-NA entries is deprecated. In a future version, this will no longer \n",
       "exclude empty or all-NA columns when determining the result dtypes. To retain the old behavior, exclude the \n",
       "relevant entries before the concat operation.\n",
       "  results = pd.concat([results, normalized_data]) #.dropna(axis=1, how=\"all\")])\n",
       "</pre>\n"
      ],
      "text/plain": [
       "/var/folders/7t/k8q3439j6z3c683j7w00wtm80000gn/T/ipykernel_58430/1419766920.py:27: FutureWarning: The behavior of \n",
       "DataFrame concatenation with empty or all-NA entries is deprecated. In a future version, this will no longer \n",
       "exclude empty or all-NA columns when determining the result dtypes. To retain the old behavior, exclude the \n",
       "relevant entries before the concat operation.\n",
       "  results = pd.concat([results, normalized_data]) #.dropna(axis=1, how=\"all\")])\n"
      ]
     },
     "metadata": {},
     "output_type": "display_data"
    },
    {
     "data": {
      "text/html": [
       "<pre style=\"white-space:pre;overflow-x:auto;line-height:normal;font-family:Menlo,'DejaVu Sans Mono',consolas,'Courier New',monospace\">/var/folders/7t/k8q3439j6z3c683j7w00wtm80000gn/T/ipykernel_58430/1419766920.py:27: FutureWarning: The behavior of \n",
       "DataFrame concatenation with empty or all-NA entries is deprecated. In a future version, this will no longer \n",
       "exclude empty or all-NA columns when determining the result dtypes. To retain the old behavior, exclude the \n",
       "relevant entries before the concat operation.\n",
       "  results = pd.concat([results, normalized_data]) #.dropna(axis=1, how=\"all\")])\n",
       "</pre>\n"
      ],
      "text/plain": [
       "/var/folders/7t/k8q3439j6z3c683j7w00wtm80000gn/T/ipykernel_58430/1419766920.py:27: FutureWarning: The behavior of \n",
       "DataFrame concatenation with empty or all-NA entries is deprecated. In a future version, this will no longer \n",
       "exclude empty or all-NA columns when determining the result dtypes. To retain the old behavior, exclude the \n",
       "relevant entries before the concat operation.\n",
       "  results = pd.concat([results, normalized_data]) #.dropna(axis=1, how=\"all\")])\n"
      ]
     },
     "metadata": {},
     "output_type": "display_data"
    },
    {
     "data": {
      "text/html": [
       "<pre style=\"white-space:pre;overflow-x:auto;line-height:normal;font-family:Menlo,'DejaVu Sans Mono',consolas,'Courier New',monospace\">/var/folders/7t/k8q3439j6z3c683j7w00wtm80000gn/T/ipykernel_58430/1419766920.py:27: FutureWarning: The behavior of \n",
       "DataFrame concatenation with empty or all-NA entries is deprecated. In a future version, this will no longer \n",
       "exclude empty or all-NA columns when determining the result dtypes. To retain the old behavior, exclude the \n",
       "relevant entries before the concat operation.\n",
       "  results = pd.concat([results, normalized_data]) #.dropna(axis=1, how=\"all\")])\n",
       "</pre>\n"
      ],
      "text/plain": [
       "/var/folders/7t/k8q3439j6z3c683j7w00wtm80000gn/T/ipykernel_58430/1419766920.py:27: FutureWarning: The behavior of \n",
       "DataFrame concatenation with empty or all-NA entries is deprecated. In a future version, this will no longer \n",
       "exclude empty or all-NA columns when determining the result dtypes. To retain the old behavior, exclude the \n",
       "relevant entries before the concat operation.\n",
       "  results = pd.concat([results, normalized_data]) #.dropna(axis=1, how=\"all\")])\n"
      ]
     },
     "metadata": {},
     "output_type": "display_data"
    },
    {
     "data": {
      "text/html": [
       "<pre style=\"white-space:pre;overflow-x:auto;line-height:normal;font-family:Menlo,'DejaVu Sans Mono',consolas,'Courier New',monospace\">/var/folders/7t/k8q3439j6z3c683j7w00wtm80000gn/T/ipykernel_58430/1419766920.py:27: FutureWarning: The behavior of \n",
       "DataFrame concatenation with empty or all-NA entries is deprecated. In a future version, this will no longer \n",
       "exclude empty or all-NA columns when determining the result dtypes. To retain the old behavior, exclude the \n",
       "relevant entries before the concat operation.\n",
       "  results = pd.concat([results, normalized_data]) #.dropna(axis=1, how=\"all\")])\n",
       "</pre>\n"
      ],
      "text/plain": [
       "/var/folders/7t/k8q3439j6z3c683j7w00wtm80000gn/T/ipykernel_58430/1419766920.py:27: FutureWarning: The behavior of \n",
       "DataFrame concatenation with empty or all-NA entries is deprecated. In a future version, this will no longer \n",
       "exclude empty or all-NA columns when determining the result dtypes. To retain the old behavior, exclude the \n",
       "relevant entries before the concat operation.\n",
       "  results = pd.concat([results, normalized_data]) #.dropna(axis=1, how=\"all\")])\n"
      ]
     },
     "metadata": {},
     "output_type": "display_data"
    },
    {
     "data": {
      "text/html": [
       "<pre style=\"white-space:pre;overflow-x:auto;line-height:normal;font-family:Menlo,'DejaVu Sans Mono',consolas,'Courier New',monospace\">/var/folders/7t/k8q3439j6z3c683j7w00wtm80000gn/T/ipykernel_58430/1419766920.py:27: FutureWarning: The behavior of \n",
       "DataFrame concatenation with empty or all-NA entries is deprecated. In a future version, this will no longer \n",
       "exclude empty or all-NA columns when determining the result dtypes. To retain the old behavior, exclude the \n",
       "relevant entries before the concat operation.\n",
       "  results = pd.concat([results, normalized_data]) #.dropna(axis=1, how=\"all\")])\n",
       "</pre>\n"
      ],
      "text/plain": [
       "/var/folders/7t/k8q3439j6z3c683j7w00wtm80000gn/T/ipykernel_58430/1419766920.py:27: FutureWarning: The behavior of \n",
       "DataFrame concatenation with empty or all-NA entries is deprecated. In a future version, this will no longer \n",
       "exclude empty or all-NA columns when determining the result dtypes. To retain the old behavior, exclude the \n",
       "relevant entries before the concat operation.\n",
       "  results = pd.concat([results, normalized_data]) #.dropna(axis=1, how=\"all\")])\n"
      ]
     },
     "metadata": {},
     "output_type": "display_data"
    },
    {
     "data": {
      "text/html": [
       "<pre style=\"white-space:pre;overflow-x:auto;line-height:normal;font-family:Menlo,'DejaVu Sans Mono',consolas,'Courier New',monospace\">/var/folders/7t/k8q3439j6z3c683j7w00wtm80000gn/T/ipykernel_58430/1419766920.py:27: FutureWarning: The behavior of \n",
       "DataFrame concatenation with empty or all-NA entries is deprecated. In a future version, this will no longer \n",
       "exclude empty or all-NA columns when determining the result dtypes. To retain the old behavior, exclude the \n",
       "relevant entries before the concat operation.\n",
       "  results = pd.concat([results, normalized_data]) #.dropna(axis=1, how=\"all\")])\n",
       "</pre>\n"
      ],
      "text/plain": [
       "/var/folders/7t/k8q3439j6z3c683j7w00wtm80000gn/T/ipykernel_58430/1419766920.py:27: FutureWarning: The behavior of \n",
       "DataFrame concatenation with empty or all-NA entries is deprecated. In a future version, this will no longer \n",
       "exclude empty or all-NA columns when determining the result dtypes. To retain the old behavior, exclude the \n",
       "relevant entries before the concat operation.\n",
       "  results = pd.concat([results, normalized_data]) #.dropna(axis=1, how=\"all\")])\n"
      ]
     },
     "metadata": {},
     "output_type": "display_data"
    },
    {
     "data": {
      "text/html": [
       "<pre style=\"white-space:pre;overflow-x:auto;line-height:normal;font-family:Menlo,'DejaVu Sans Mono',consolas,'Courier New',monospace\">/var/folders/7t/k8q3439j6z3c683j7w00wtm80000gn/T/ipykernel_58430/1419766920.py:27: FutureWarning: The behavior of \n",
       "DataFrame concatenation with empty or all-NA entries is deprecated. In a future version, this will no longer \n",
       "exclude empty or all-NA columns when determining the result dtypes. To retain the old behavior, exclude the \n",
       "relevant entries before the concat operation.\n",
       "  results = pd.concat([results, normalized_data]) #.dropna(axis=1, how=\"all\")])\n",
       "</pre>\n"
      ],
      "text/plain": [
       "/var/folders/7t/k8q3439j6z3c683j7w00wtm80000gn/T/ipykernel_58430/1419766920.py:27: FutureWarning: The behavior of \n",
       "DataFrame concatenation with empty or all-NA entries is deprecated. In a future version, this will no longer \n",
       "exclude empty or all-NA columns when determining the result dtypes. To retain the old behavior, exclude the \n",
       "relevant entries before the concat operation.\n",
       "  results = pd.concat([results, normalized_data]) #.dropna(axis=1, how=\"all\")])\n"
      ]
     },
     "metadata": {},
     "output_type": "display_data"
    },
    {
     "data": {
      "text/html": [
       "<pre style=\"white-space:pre;overflow-x:auto;line-height:normal;font-family:Menlo,'DejaVu Sans Mono',consolas,'Courier New',monospace\">/var/folders/7t/k8q3439j6z3c683j7w00wtm80000gn/T/ipykernel_58430/1419766920.py:27: FutureWarning: The behavior of \n",
       "DataFrame concatenation with empty or all-NA entries is deprecated. In a future version, this will no longer \n",
       "exclude empty or all-NA columns when determining the result dtypes. To retain the old behavior, exclude the \n",
       "relevant entries before the concat operation.\n",
       "  results = pd.concat([results, normalized_data]) #.dropna(axis=1, how=\"all\")])\n",
       "</pre>\n"
      ],
      "text/plain": [
       "/var/folders/7t/k8q3439j6z3c683j7w00wtm80000gn/T/ipykernel_58430/1419766920.py:27: FutureWarning: The behavior of \n",
       "DataFrame concatenation with empty or all-NA entries is deprecated. In a future version, this will no longer \n",
       "exclude empty or all-NA columns when determining the result dtypes. To retain the old behavior, exclude the \n",
       "relevant entries before the concat operation.\n",
       "  results = pd.concat([results, normalized_data]) #.dropna(axis=1, how=\"all\")])\n"
      ]
     },
     "metadata": {},
     "output_type": "display_data"
    },
    {
     "data": {
      "text/html": [
       "<pre style=\"white-space:pre;overflow-x:auto;line-height:normal;font-family:Menlo,'DejaVu Sans Mono',consolas,'Courier New',monospace\">/var/folders/7t/k8q3439j6z3c683j7w00wtm80000gn/T/ipykernel_58430/1419766920.py:27: FutureWarning: The behavior of \n",
       "DataFrame concatenation with empty or all-NA entries is deprecated. In a future version, this will no longer \n",
       "exclude empty or all-NA columns when determining the result dtypes. To retain the old behavior, exclude the \n",
       "relevant entries before the concat operation.\n",
       "  results = pd.concat([results, normalized_data]) #.dropna(axis=1, how=\"all\")])\n",
       "</pre>\n"
      ],
      "text/plain": [
       "/var/folders/7t/k8q3439j6z3c683j7w00wtm80000gn/T/ipykernel_58430/1419766920.py:27: FutureWarning: The behavior of \n",
       "DataFrame concatenation with empty or all-NA entries is deprecated. In a future version, this will no longer \n",
       "exclude empty or all-NA columns when determining the result dtypes. To retain the old behavior, exclude the \n",
       "relevant entries before the concat operation.\n",
       "  results = pd.concat([results, normalized_data]) #.dropna(axis=1, how=\"all\")])\n"
      ]
     },
     "metadata": {},
     "output_type": "display_data"
    },
    {
     "data": {
      "text/html": [
       "<pre style=\"white-space:pre;overflow-x:auto;line-height:normal;font-family:Menlo,'DejaVu Sans Mono',consolas,'Courier New',monospace\">/var/folders/7t/k8q3439j6z3c683j7w00wtm80000gn/T/ipykernel_58430/1419766920.py:27: FutureWarning: The behavior of \n",
       "DataFrame concatenation with empty or all-NA entries is deprecated. In a future version, this will no longer \n",
       "exclude empty or all-NA columns when determining the result dtypes. To retain the old behavior, exclude the \n",
       "relevant entries before the concat operation.\n",
       "  results = pd.concat([results, normalized_data]) #.dropna(axis=1, how=\"all\")])\n",
       "</pre>\n"
      ],
      "text/plain": [
       "/var/folders/7t/k8q3439j6z3c683j7w00wtm80000gn/T/ipykernel_58430/1419766920.py:27: FutureWarning: The behavior of \n",
       "DataFrame concatenation with empty or all-NA entries is deprecated. In a future version, this will no longer \n",
       "exclude empty or all-NA columns when determining the result dtypes. To retain the old behavior, exclude the \n",
       "relevant entries before the concat operation.\n",
       "  results = pd.concat([results, normalized_data]) #.dropna(axis=1, how=\"all\")])\n"
      ]
     },
     "metadata": {},
     "output_type": "display_data"
    },
    {
     "data": {
      "text/html": [
       "<pre style=\"white-space:pre;overflow-x:auto;line-height:normal;font-family:Menlo,'DejaVu Sans Mono',consolas,'Courier New',monospace\">/var/folders/7t/k8q3439j6z3c683j7w00wtm80000gn/T/ipykernel_58430/1419766920.py:27: FutureWarning: The behavior of \n",
       "DataFrame concatenation with empty or all-NA entries is deprecated. In a future version, this will no longer \n",
       "exclude empty or all-NA columns when determining the result dtypes. To retain the old behavior, exclude the \n",
       "relevant entries before the concat operation.\n",
       "  results = pd.concat([results, normalized_data]) #.dropna(axis=1, how=\"all\")])\n",
       "</pre>\n"
      ],
      "text/plain": [
       "/var/folders/7t/k8q3439j6z3c683j7w00wtm80000gn/T/ipykernel_58430/1419766920.py:27: FutureWarning: The behavior of \n",
       "DataFrame concatenation with empty or all-NA entries is deprecated. In a future version, this will no longer \n",
       "exclude empty or all-NA columns when determining the result dtypes. To retain the old behavior, exclude the \n",
       "relevant entries before the concat operation.\n",
       "  results = pd.concat([results, normalized_data]) #.dropna(axis=1, how=\"all\")])\n"
      ]
     },
     "metadata": {},
     "output_type": "display_data"
    },
    {
     "data": {
      "text/html": [
       "<pre style=\"white-space:pre;overflow-x:auto;line-height:normal;font-family:Menlo,'DejaVu Sans Mono',consolas,'Courier New',monospace\">/var/folders/7t/k8q3439j6z3c683j7w00wtm80000gn/T/ipykernel_58430/1419766920.py:27: FutureWarning: The behavior of \n",
       "DataFrame concatenation with empty or all-NA entries is deprecated. In a future version, this will no longer \n",
       "exclude empty or all-NA columns when determining the result dtypes. To retain the old behavior, exclude the \n",
       "relevant entries before the concat operation.\n",
       "  results = pd.concat([results, normalized_data]) #.dropna(axis=1, how=\"all\")])\n",
       "</pre>\n"
      ],
      "text/plain": [
       "/var/folders/7t/k8q3439j6z3c683j7w00wtm80000gn/T/ipykernel_58430/1419766920.py:27: FutureWarning: The behavior of \n",
       "DataFrame concatenation with empty or all-NA entries is deprecated. In a future version, this will no longer \n",
       "exclude empty or all-NA columns when determining the result dtypes. To retain the old behavior, exclude the \n",
       "relevant entries before the concat operation.\n",
       "  results = pd.concat([results, normalized_data]) #.dropna(axis=1, how=\"all\")])\n"
      ]
     },
     "metadata": {},
     "output_type": "display_data"
    },
    {
     "data": {
      "text/html": [
       "<pre style=\"white-space:pre;overflow-x:auto;line-height:normal;font-family:Menlo,'DejaVu Sans Mono',consolas,'Courier New',monospace\">/var/folders/7t/k8q3439j6z3c683j7w00wtm80000gn/T/ipykernel_58430/1419766920.py:27: FutureWarning: The behavior of \n",
       "DataFrame concatenation with empty or all-NA entries is deprecated. In a future version, this will no longer \n",
       "exclude empty or all-NA columns when determining the result dtypes. To retain the old behavior, exclude the \n",
       "relevant entries before the concat operation.\n",
       "  results = pd.concat([results, normalized_data]) #.dropna(axis=1, how=\"all\")])\n",
       "</pre>\n"
      ],
      "text/plain": [
       "/var/folders/7t/k8q3439j6z3c683j7w00wtm80000gn/T/ipykernel_58430/1419766920.py:27: FutureWarning: The behavior of \n",
       "DataFrame concatenation with empty or all-NA entries is deprecated. In a future version, this will no longer \n",
       "exclude empty or all-NA columns when determining the result dtypes. To retain the old behavior, exclude the \n",
       "relevant entries before the concat operation.\n",
       "  results = pd.concat([results, normalized_data]) #.dropna(axis=1, how=\"all\")])\n"
      ]
     },
     "metadata": {},
     "output_type": "display_data"
    },
    {
     "data": {
      "text/html": [
       "<pre style=\"white-space:pre;overflow-x:auto;line-height:normal;font-family:Menlo,'DejaVu Sans Mono',consolas,'Courier New',monospace\">/var/folders/7t/k8q3439j6z3c683j7w00wtm80000gn/T/ipykernel_58430/1419766920.py:27: FutureWarning: The behavior of \n",
       "DataFrame concatenation with empty or all-NA entries is deprecated. In a future version, this will no longer \n",
       "exclude empty or all-NA columns when determining the result dtypes. To retain the old behavior, exclude the \n",
       "relevant entries before the concat operation.\n",
       "  results = pd.concat([results, normalized_data]) #.dropna(axis=1, how=\"all\")])\n",
       "</pre>\n"
      ],
      "text/plain": [
       "/var/folders/7t/k8q3439j6z3c683j7w00wtm80000gn/T/ipykernel_58430/1419766920.py:27: FutureWarning: The behavior of \n",
       "DataFrame concatenation with empty or all-NA entries is deprecated. In a future version, this will no longer \n",
       "exclude empty or all-NA columns when determining the result dtypes. To retain the old behavior, exclude the \n",
       "relevant entries before the concat operation.\n",
       "  results = pd.concat([results, normalized_data]) #.dropna(axis=1, how=\"all\")])\n"
      ]
     },
     "metadata": {},
     "output_type": "display_data"
    },
    {
     "data": {
      "text/html": [
       "<pre style=\"white-space:pre;overflow-x:auto;line-height:normal;font-family:Menlo,'DejaVu Sans Mono',consolas,'Courier New',monospace\">/var/folders/7t/k8q3439j6z3c683j7w00wtm80000gn/T/ipykernel_58430/1419766920.py:27: FutureWarning: The behavior of \n",
       "DataFrame concatenation with empty or all-NA entries is deprecated. In a future version, this will no longer \n",
       "exclude empty or all-NA columns when determining the result dtypes. To retain the old behavior, exclude the \n",
       "relevant entries before the concat operation.\n",
       "  results = pd.concat([results, normalized_data]) #.dropna(axis=1, how=\"all\")])\n",
       "</pre>\n"
      ],
      "text/plain": [
       "/var/folders/7t/k8q3439j6z3c683j7w00wtm80000gn/T/ipykernel_58430/1419766920.py:27: FutureWarning: The behavior of \n",
       "DataFrame concatenation with empty or all-NA entries is deprecated. In a future version, this will no longer \n",
       "exclude empty or all-NA columns when determining the result dtypes. To retain the old behavior, exclude the \n",
       "relevant entries before the concat operation.\n",
       "  results = pd.concat([results, normalized_data]) #.dropna(axis=1, how=\"all\")])\n"
      ]
     },
     "metadata": {},
     "output_type": "display_data"
    },
    {
     "data": {
      "text/html": [
       "<pre style=\"white-space:pre;overflow-x:auto;line-height:normal;font-family:Menlo,'DejaVu Sans Mono',consolas,'Courier New',monospace\">/var/folders/7t/k8q3439j6z3c683j7w00wtm80000gn/T/ipykernel_58430/1419766920.py:27: FutureWarning: The behavior of \n",
       "DataFrame concatenation with empty or all-NA entries is deprecated. In a future version, this will no longer \n",
       "exclude empty or all-NA columns when determining the result dtypes. To retain the old behavior, exclude the \n",
       "relevant entries before the concat operation.\n",
       "  results = pd.concat([results, normalized_data]) #.dropna(axis=1, how=\"all\")])\n",
       "</pre>\n"
      ],
      "text/plain": [
       "/var/folders/7t/k8q3439j6z3c683j7w00wtm80000gn/T/ipykernel_58430/1419766920.py:27: FutureWarning: The behavior of \n",
       "DataFrame concatenation with empty or all-NA entries is deprecated. In a future version, this will no longer \n",
       "exclude empty or all-NA columns when determining the result dtypes. To retain the old behavior, exclude the \n",
       "relevant entries before the concat operation.\n",
       "  results = pd.concat([results, normalized_data]) #.dropna(axis=1, how=\"all\")])\n"
      ]
     },
     "metadata": {},
     "output_type": "display_data"
    },
    {
     "data": {
      "text/html": [
       "<pre style=\"white-space:pre;overflow-x:auto;line-height:normal;font-family:Menlo,'DejaVu Sans Mono',consolas,'Courier New',monospace\">/var/folders/7t/k8q3439j6z3c683j7w00wtm80000gn/T/ipykernel_58430/1419766920.py:27: FutureWarning: The behavior of \n",
       "DataFrame concatenation with empty or all-NA entries is deprecated. In a future version, this will no longer \n",
       "exclude empty or all-NA columns when determining the result dtypes. To retain the old behavior, exclude the \n",
       "relevant entries before the concat operation.\n",
       "  results = pd.concat([results, normalized_data]) #.dropna(axis=1, how=\"all\")])\n",
       "</pre>\n"
      ],
      "text/plain": [
       "/var/folders/7t/k8q3439j6z3c683j7w00wtm80000gn/T/ipykernel_58430/1419766920.py:27: FutureWarning: The behavior of \n",
       "DataFrame concatenation with empty or all-NA entries is deprecated. In a future version, this will no longer \n",
       "exclude empty or all-NA columns when determining the result dtypes. To retain the old behavior, exclude the \n",
       "relevant entries before the concat operation.\n",
       "  results = pd.concat([results, normalized_data]) #.dropna(axis=1, how=\"all\")])\n"
      ]
     },
     "metadata": {},
     "output_type": "display_data"
    },
    {
     "data": {
      "text/html": [
       "<pre style=\"white-space:pre;overflow-x:auto;line-height:normal;font-family:Menlo,'DejaVu Sans Mono',consolas,'Courier New',monospace\">/var/folders/7t/k8q3439j6z3c683j7w00wtm80000gn/T/ipykernel_58430/1419766920.py:27: FutureWarning: The behavior of \n",
       "DataFrame concatenation with empty or all-NA entries is deprecated. In a future version, this will no longer \n",
       "exclude empty or all-NA columns when determining the result dtypes. To retain the old behavior, exclude the \n",
       "relevant entries before the concat operation.\n",
       "  results = pd.concat([results, normalized_data]) #.dropna(axis=1, how=\"all\")])\n",
       "</pre>\n"
      ],
      "text/plain": [
       "/var/folders/7t/k8q3439j6z3c683j7w00wtm80000gn/T/ipykernel_58430/1419766920.py:27: FutureWarning: The behavior of \n",
       "DataFrame concatenation with empty or all-NA entries is deprecated. In a future version, this will no longer \n",
       "exclude empty or all-NA columns when determining the result dtypes. To retain the old behavior, exclude the \n",
       "relevant entries before the concat operation.\n",
       "  results = pd.concat([results, normalized_data]) #.dropna(axis=1, how=\"all\")])\n"
      ]
     },
     "metadata": {},
     "output_type": "display_data"
    },
    {
     "data": {
      "text/html": [
       "<pre style=\"white-space:pre;overflow-x:auto;line-height:normal;font-family:Menlo,'DejaVu Sans Mono',consolas,'Courier New',monospace\">/var/folders/7t/k8q3439j6z3c683j7w00wtm80000gn/T/ipykernel_58430/1419766920.py:27: FutureWarning: The behavior of \n",
       "DataFrame concatenation with empty or all-NA entries is deprecated. In a future version, this will no longer \n",
       "exclude empty or all-NA columns when determining the result dtypes. To retain the old behavior, exclude the \n",
       "relevant entries before the concat operation.\n",
       "  results = pd.concat([results, normalized_data]) #.dropna(axis=1, how=\"all\")])\n",
       "</pre>\n"
      ],
      "text/plain": [
       "/var/folders/7t/k8q3439j6z3c683j7w00wtm80000gn/T/ipykernel_58430/1419766920.py:27: FutureWarning: The behavior of \n",
       "DataFrame concatenation with empty or all-NA entries is deprecated. In a future version, this will no longer \n",
       "exclude empty or all-NA columns when determining the result dtypes. To retain the old behavior, exclude the \n",
       "relevant entries before the concat operation.\n",
       "  results = pd.concat([results, normalized_data]) #.dropna(axis=1, how=\"all\")])\n"
      ]
     },
     "metadata": {},
     "output_type": "display_data"
    },
    {
     "data": {
      "text/html": [
       "<pre style=\"white-space:pre;overflow-x:auto;line-height:normal;font-family:Menlo,'DejaVu Sans Mono',consolas,'Courier New',monospace\">/var/folders/7t/k8q3439j6z3c683j7w00wtm80000gn/T/ipykernel_58430/1419766920.py:27: FutureWarning: The behavior of \n",
       "DataFrame concatenation with empty or all-NA entries is deprecated. In a future version, this will no longer \n",
       "exclude empty or all-NA columns when determining the result dtypes. To retain the old behavior, exclude the \n",
       "relevant entries before the concat operation.\n",
       "  results = pd.concat([results, normalized_data]) #.dropna(axis=1, how=\"all\")])\n",
       "</pre>\n"
      ],
      "text/plain": [
       "/var/folders/7t/k8q3439j6z3c683j7w00wtm80000gn/T/ipykernel_58430/1419766920.py:27: FutureWarning: The behavior of \n",
       "DataFrame concatenation with empty or all-NA entries is deprecated. In a future version, this will no longer \n",
       "exclude empty or all-NA columns when determining the result dtypes. To retain the old behavior, exclude the \n",
       "relevant entries before the concat operation.\n",
       "  results = pd.concat([results, normalized_data]) #.dropna(axis=1, how=\"all\")])\n"
      ]
     },
     "metadata": {},
     "output_type": "display_data"
    },
    {
     "data": {
      "text/html": [
       "<pre style=\"white-space:pre;overflow-x:auto;line-height:normal;font-family:Menlo,'DejaVu Sans Mono',consolas,'Courier New',monospace\">/var/folders/7t/k8q3439j6z3c683j7w00wtm80000gn/T/ipykernel_58430/1419766920.py:27: FutureWarning: The behavior of \n",
       "DataFrame concatenation with empty or all-NA entries is deprecated. In a future version, this will no longer \n",
       "exclude empty or all-NA columns when determining the result dtypes. To retain the old behavior, exclude the \n",
       "relevant entries before the concat operation.\n",
       "  results = pd.concat([results, normalized_data]) #.dropna(axis=1, how=\"all\")])\n",
       "</pre>\n"
      ],
      "text/plain": [
       "/var/folders/7t/k8q3439j6z3c683j7w00wtm80000gn/T/ipykernel_58430/1419766920.py:27: FutureWarning: The behavior of \n",
       "DataFrame concatenation with empty or all-NA entries is deprecated. In a future version, this will no longer \n",
       "exclude empty or all-NA columns when determining the result dtypes. To retain the old behavior, exclude the \n",
       "relevant entries before the concat operation.\n",
       "  results = pd.concat([results, normalized_data]) #.dropna(axis=1, how=\"all\")])\n"
      ]
     },
     "metadata": {},
     "output_type": "display_data"
    },
    {
     "data": {
      "text/html": [
       "<pre style=\"white-space:pre;overflow-x:auto;line-height:normal;font-family:Menlo,'DejaVu Sans Mono',consolas,'Courier New',monospace\">/var/folders/7t/k8q3439j6z3c683j7w00wtm80000gn/T/ipykernel_58430/1419766920.py:27: FutureWarning: The behavior of \n",
       "DataFrame concatenation with empty or all-NA entries is deprecated. In a future version, this will no longer \n",
       "exclude empty or all-NA columns when determining the result dtypes. To retain the old behavior, exclude the \n",
       "relevant entries before the concat operation.\n",
       "  results = pd.concat([results, normalized_data]) #.dropna(axis=1, how=\"all\")])\n",
       "</pre>\n"
      ],
      "text/plain": [
       "/var/folders/7t/k8q3439j6z3c683j7w00wtm80000gn/T/ipykernel_58430/1419766920.py:27: FutureWarning: The behavior of \n",
       "DataFrame concatenation with empty or all-NA entries is deprecated. In a future version, this will no longer \n",
       "exclude empty or all-NA columns when determining the result dtypes. To retain the old behavior, exclude the \n",
       "relevant entries before the concat operation.\n",
       "  results = pd.concat([results, normalized_data]) #.dropna(axis=1, how=\"all\")])\n"
      ]
     },
     "metadata": {},
     "output_type": "display_data"
    },
    {
     "data": {
      "text/html": [
       "<pre style=\"white-space:pre;overflow-x:auto;line-height:normal;font-family:Menlo,'DejaVu Sans Mono',consolas,'Courier New',monospace\">/var/folders/7t/k8q3439j6z3c683j7w00wtm80000gn/T/ipykernel_58430/1419766920.py:27: FutureWarning: The behavior of \n",
       "DataFrame concatenation with empty or all-NA entries is deprecated. In a future version, this will no longer \n",
       "exclude empty or all-NA columns when determining the result dtypes. To retain the old behavior, exclude the \n",
       "relevant entries before the concat operation.\n",
       "  results = pd.concat([results, normalized_data]) #.dropna(axis=1, how=\"all\")])\n",
       "</pre>\n"
      ],
      "text/plain": [
       "/var/folders/7t/k8q3439j6z3c683j7w00wtm80000gn/T/ipykernel_58430/1419766920.py:27: FutureWarning: The behavior of \n",
       "DataFrame concatenation with empty or all-NA entries is deprecated. In a future version, this will no longer \n",
       "exclude empty or all-NA columns when determining the result dtypes. To retain the old behavior, exclude the \n",
       "relevant entries before the concat operation.\n",
       "  results = pd.concat([results, normalized_data]) #.dropna(axis=1, how=\"all\")])\n"
      ]
     },
     "metadata": {},
     "output_type": "display_data"
    },
    {
     "data": {
      "text/html": [
       "<pre style=\"white-space:pre;overflow-x:auto;line-height:normal;font-family:Menlo,'DejaVu Sans Mono',consolas,'Courier New',monospace\">/var/folders/7t/k8q3439j6z3c683j7w00wtm80000gn/T/ipykernel_58430/1419766920.py:27: FutureWarning: The behavior of \n",
       "DataFrame concatenation with empty or all-NA entries is deprecated. In a future version, this will no longer \n",
       "exclude empty or all-NA columns when determining the result dtypes. To retain the old behavior, exclude the \n",
       "relevant entries before the concat operation.\n",
       "  results = pd.concat([results, normalized_data]) #.dropna(axis=1, how=\"all\")])\n",
       "</pre>\n"
      ],
      "text/plain": [
       "/var/folders/7t/k8q3439j6z3c683j7w00wtm80000gn/T/ipykernel_58430/1419766920.py:27: FutureWarning: The behavior of \n",
       "DataFrame concatenation with empty or all-NA entries is deprecated. In a future version, this will no longer \n",
       "exclude empty or all-NA columns when determining the result dtypes. To retain the old behavior, exclude the \n",
       "relevant entries before the concat operation.\n",
       "  results = pd.concat([results, normalized_data]) #.dropna(axis=1, how=\"all\")])\n"
      ]
     },
     "metadata": {},
     "output_type": "display_data"
    },
    {
     "data": {
      "text/html": [
       "<pre style=\"white-space:pre;overflow-x:auto;line-height:normal;font-family:Menlo,'DejaVu Sans Mono',consolas,'Courier New',monospace\">/var/folders/7t/k8q3439j6z3c683j7w00wtm80000gn/T/ipykernel_58430/1419766920.py:27: FutureWarning: The behavior of \n",
       "DataFrame concatenation with empty or all-NA entries is deprecated. In a future version, this will no longer \n",
       "exclude empty or all-NA columns when determining the result dtypes. To retain the old behavior, exclude the \n",
       "relevant entries before the concat operation.\n",
       "  results = pd.concat([results, normalized_data]) #.dropna(axis=1, how=\"all\")])\n",
       "</pre>\n"
      ],
      "text/plain": [
       "/var/folders/7t/k8q3439j6z3c683j7w00wtm80000gn/T/ipykernel_58430/1419766920.py:27: FutureWarning: The behavior of \n",
       "DataFrame concatenation with empty or all-NA entries is deprecated. In a future version, this will no longer \n",
       "exclude empty or all-NA columns when determining the result dtypes. To retain the old behavior, exclude the \n",
       "relevant entries before the concat operation.\n",
       "  results = pd.concat([results, normalized_data]) #.dropna(axis=1, how=\"all\")])\n"
      ]
     },
     "metadata": {},
     "output_type": "display_data"
    },
    {
     "data": {
      "text/html": [
       "<pre style=\"white-space:pre;overflow-x:auto;line-height:normal;font-family:Menlo,'DejaVu Sans Mono',consolas,'Courier New',monospace\">/var/folders/7t/k8q3439j6z3c683j7w00wtm80000gn/T/ipykernel_58430/1419766920.py:27: FutureWarning: The behavior of \n",
       "DataFrame concatenation with empty or all-NA entries is deprecated. In a future version, this will no longer \n",
       "exclude empty or all-NA columns when determining the result dtypes. To retain the old behavior, exclude the \n",
       "relevant entries before the concat operation.\n",
       "  results = pd.concat([results, normalized_data]) #.dropna(axis=1, how=\"all\")])\n",
       "</pre>\n"
      ],
      "text/plain": [
       "/var/folders/7t/k8q3439j6z3c683j7w00wtm80000gn/T/ipykernel_58430/1419766920.py:27: FutureWarning: The behavior of \n",
       "DataFrame concatenation with empty or all-NA entries is deprecated. In a future version, this will no longer \n",
       "exclude empty or all-NA columns when determining the result dtypes. To retain the old behavior, exclude the \n",
       "relevant entries before the concat operation.\n",
       "  results = pd.concat([results, normalized_data]) #.dropna(axis=1, how=\"all\")])\n"
      ]
     },
     "metadata": {},
     "output_type": "display_data"
    },
    {
     "data": {
      "text/html": [
       "<pre style=\"white-space:pre;overflow-x:auto;line-height:normal;font-family:Menlo,'DejaVu Sans Mono',consolas,'Courier New',monospace\">/var/folders/7t/k8q3439j6z3c683j7w00wtm80000gn/T/ipykernel_58430/1419766920.py:27: FutureWarning: The behavior of \n",
       "DataFrame concatenation with empty or all-NA entries is deprecated. In a future version, this will no longer \n",
       "exclude empty or all-NA columns when determining the result dtypes. To retain the old behavior, exclude the \n",
       "relevant entries before the concat operation.\n",
       "  results = pd.concat([results, normalized_data]) #.dropna(axis=1, how=\"all\")])\n",
       "</pre>\n"
      ],
      "text/plain": [
       "/var/folders/7t/k8q3439j6z3c683j7w00wtm80000gn/T/ipykernel_58430/1419766920.py:27: FutureWarning: The behavior of \n",
       "DataFrame concatenation with empty or all-NA entries is deprecated. In a future version, this will no longer \n",
       "exclude empty or all-NA columns when determining the result dtypes. To retain the old behavior, exclude the \n",
       "relevant entries before the concat operation.\n",
       "  results = pd.concat([results, normalized_data]) #.dropna(axis=1, how=\"all\")])\n"
      ]
     },
     "metadata": {},
     "output_type": "display_data"
    },
    {
     "data": {
      "text/html": [
       "<pre style=\"white-space:pre;overflow-x:auto;line-height:normal;font-family:Menlo,'DejaVu Sans Mono',consolas,'Courier New',monospace\">/var/folders/7t/k8q3439j6z3c683j7w00wtm80000gn/T/ipykernel_58430/1419766920.py:27: FutureWarning: The behavior of \n",
       "DataFrame concatenation with empty or all-NA entries is deprecated. In a future version, this will no longer \n",
       "exclude empty or all-NA columns when determining the result dtypes. To retain the old behavior, exclude the \n",
       "relevant entries before the concat operation.\n",
       "  results = pd.concat([results, normalized_data]) #.dropna(axis=1, how=\"all\")])\n",
       "</pre>\n"
      ],
      "text/plain": [
       "/var/folders/7t/k8q3439j6z3c683j7w00wtm80000gn/T/ipykernel_58430/1419766920.py:27: FutureWarning: The behavior of \n",
       "DataFrame concatenation with empty or all-NA entries is deprecated. In a future version, this will no longer \n",
       "exclude empty or all-NA columns when determining the result dtypes. To retain the old behavior, exclude the \n",
       "relevant entries before the concat operation.\n",
       "  results = pd.concat([results, normalized_data]) #.dropna(axis=1, how=\"all\")])\n"
      ]
     },
     "metadata": {},
     "output_type": "display_data"
    },
    {
     "data": {
      "text/html": [
       "<pre style=\"white-space:pre;overflow-x:auto;line-height:normal;font-family:Menlo,'DejaVu Sans Mono',consolas,'Courier New',monospace\">/var/folders/7t/k8q3439j6z3c683j7w00wtm80000gn/T/ipykernel_58430/1419766920.py:27: FutureWarning: The behavior of \n",
       "DataFrame concatenation with empty or all-NA entries is deprecated. In a future version, this will no longer \n",
       "exclude empty or all-NA columns when determining the result dtypes. To retain the old behavior, exclude the \n",
       "relevant entries before the concat operation.\n",
       "  results = pd.concat([results, normalized_data]) #.dropna(axis=1, how=\"all\")])\n",
       "</pre>\n"
      ],
      "text/plain": [
       "/var/folders/7t/k8q3439j6z3c683j7w00wtm80000gn/T/ipykernel_58430/1419766920.py:27: FutureWarning: The behavior of \n",
       "DataFrame concatenation with empty or all-NA entries is deprecated. In a future version, this will no longer \n",
       "exclude empty or all-NA columns when determining the result dtypes. To retain the old behavior, exclude the \n",
       "relevant entries before the concat operation.\n",
       "  results = pd.concat([results, normalized_data]) #.dropna(axis=1, how=\"all\")])\n"
      ]
     },
     "metadata": {},
     "output_type": "display_data"
    },
    {
     "data": {
      "text/html": [
       "<pre style=\"white-space:pre;overflow-x:auto;line-height:normal;font-family:Menlo,'DejaVu Sans Mono',consolas,'Courier New',monospace\">/var/folders/7t/k8q3439j6z3c683j7w00wtm80000gn/T/ipykernel_58430/1419766920.py:27: FutureWarning: The behavior of \n",
       "DataFrame concatenation with empty or all-NA entries is deprecated. In a future version, this will no longer \n",
       "exclude empty or all-NA columns when determining the result dtypes. To retain the old behavior, exclude the \n",
       "relevant entries before the concat operation.\n",
       "  results = pd.concat([results, normalized_data]) #.dropna(axis=1, how=\"all\")])\n",
       "</pre>\n"
      ],
      "text/plain": [
       "/var/folders/7t/k8q3439j6z3c683j7w00wtm80000gn/T/ipykernel_58430/1419766920.py:27: FutureWarning: The behavior of \n",
       "DataFrame concatenation with empty or all-NA entries is deprecated. In a future version, this will no longer \n",
       "exclude empty or all-NA columns when determining the result dtypes. To retain the old behavior, exclude the \n",
       "relevant entries before the concat operation.\n",
       "  results = pd.concat([results, normalized_data]) #.dropna(axis=1, how=\"all\")])\n"
      ]
     },
     "metadata": {},
     "output_type": "display_data"
    },
    {
     "data": {
      "text/html": [
       "<pre style=\"white-space:pre;overflow-x:auto;line-height:normal;font-family:Menlo,'DejaVu Sans Mono',consolas,'Courier New',monospace\">/var/folders/7t/k8q3439j6z3c683j7w00wtm80000gn/T/ipykernel_58430/1419766920.py:27: FutureWarning: The behavior of \n",
       "DataFrame concatenation with empty or all-NA entries is deprecated. In a future version, this will no longer \n",
       "exclude empty or all-NA columns when determining the result dtypes. To retain the old behavior, exclude the \n",
       "relevant entries before the concat operation.\n",
       "  results = pd.concat([results, normalized_data]) #.dropna(axis=1, how=\"all\")])\n",
       "</pre>\n"
      ],
      "text/plain": [
       "/var/folders/7t/k8q3439j6z3c683j7w00wtm80000gn/T/ipykernel_58430/1419766920.py:27: FutureWarning: The behavior of \n",
       "DataFrame concatenation with empty or all-NA entries is deprecated. In a future version, this will no longer \n",
       "exclude empty or all-NA columns when determining the result dtypes. To retain the old behavior, exclude the \n",
       "relevant entries before the concat operation.\n",
       "  results = pd.concat([results, normalized_data]) #.dropna(axis=1, how=\"all\")])\n"
      ]
     },
     "metadata": {},
     "output_type": "display_data"
    },
    {
     "data": {
      "text/html": [
       "<pre style=\"white-space:pre;overflow-x:auto;line-height:normal;font-family:Menlo,'DejaVu Sans Mono',consolas,'Courier New',monospace\">/var/folders/7t/k8q3439j6z3c683j7w00wtm80000gn/T/ipykernel_58430/1419766920.py:27: FutureWarning: The behavior of \n",
       "DataFrame concatenation with empty or all-NA entries is deprecated. In a future version, this will no longer \n",
       "exclude empty or all-NA columns when determining the result dtypes. To retain the old behavior, exclude the \n",
       "relevant entries before the concat operation.\n",
       "  results = pd.concat([results, normalized_data]) #.dropna(axis=1, how=\"all\")])\n",
       "</pre>\n"
      ],
      "text/plain": [
       "/var/folders/7t/k8q3439j6z3c683j7w00wtm80000gn/T/ipykernel_58430/1419766920.py:27: FutureWarning: The behavior of \n",
       "DataFrame concatenation with empty or all-NA entries is deprecated. In a future version, this will no longer \n",
       "exclude empty or all-NA columns when determining the result dtypes. To retain the old behavior, exclude the \n",
       "relevant entries before the concat operation.\n",
       "  results = pd.concat([results, normalized_data]) #.dropna(axis=1, how=\"all\")])\n"
      ]
     },
     "metadata": {},
     "output_type": "display_data"
    },
    {
     "data": {
      "text/html": [
       "<pre style=\"white-space:pre;overflow-x:auto;line-height:normal;font-family:Menlo,'DejaVu Sans Mono',consolas,'Courier New',monospace\">/var/folders/7t/k8q3439j6z3c683j7w00wtm80000gn/T/ipykernel_58430/1419766920.py:27: FutureWarning: The behavior of \n",
       "DataFrame concatenation with empty or all-NA entries is deprecated. In a future version, this will no longer \n",
       "exclude empty or all-NA columns when determining the result dtypes. To retain the old behavior, exclude the \n",
       "relevant entries before the concat operation.\n",
       "  results = pd.concat([results, normalized_data]) #.dropna(axis=1, how=\"all\")])\n",
       "</pre>\n"
      ],
      "text/plain": [
       "/var/folders/7t/k8q3439j6z3c683j7w00wtm80000gn/T/ipykernel_58430/1419766920.py:27: FutureWarning: The behavior of \n",
       "DataFrame concatenation with empty or all-NA entries is deprecated. In a future version, this will no longer \n",
       "exclude empty or all-NA columns when determining the result dtypes. To retain the old behavior, exclude the \n",
       "relevant entries before the concat operation.\n",
       "  results = pd.concat([results, normalized_data]) #.dropna(axis=1, how=\"all\")])\n"
      ]
     },
     "metadata": {},
     "output_type": "display_data"
    },
    {
     "data": {
      "text/html": [
       "<pre style=\"white-space:pre;overflow-x:auto;line-height:normal;font-family:Menlo,'DejaVu Sans Mono',consolas,'Courier New',monospace\">/var/folders/7t/k8q3439j6z3c683j7w00wtm80000gn/T/ipykernel_58430/1419766920.py:27: FutureWarning: The behavior of \n",
       "DataFrame concatenation with empty or all-NA entries is deprecated. In a future version, this will no longer \n",
       "exclude empty or all-NA columns when determining the result dtypes. To retain the old behavior, exclude the \n",
       "relevant entries before the concat operation.\n",
       "  results = pd.concat([results, normalized_data]) #.dropna(axis=1, how=\"all\")])\n",
       "</pre>\n"
      ],
      "text/plain": [
       "/var/folders/7t/k8q3439j6z3c683j7w00wtm80000gn/T/ipykernel_58430/1419766920.py:27: FutureWarning: The behavior of \n",
       "DataFrame concatenation with empty or all-NA entries is deprecated. In a future version, this will no longer \n",
       "exclude empty or all-NA columns when determining the result dtypes. To retain the old behavior, exclude the \n",
       "relevant entries before the concat operation.\n",
       "  results = pd.concat([results, normalized_data]) #.dropna(axis=1, how=\"all\")])\n"
      ]
     },
     "metadata": {},
     "output_type": "display_data"
    },
    {
     "data": {
      "text/html": [
       "<pre style=\"white-space:pre;overflow-x:auto;line-height:normal;font-family:Menlo,'DejaVu Sans Mono',consolas,'Courier New',monospace\">/var/folders/7t/k8q3439j6z3c683j7w00wtm80000gn/T/ipykernel_58430/1419766920.py:27: FutureWarning: The behavior of \n",
       "DataFrame concatenation with empty or all-NA entries is deprecated. In a future version, this will no longer \n",
       "exclude empty or all-NA columns when determining the result dtypes. To retain the old behavior, exclude the \n",
       "relevant entries before the concat operation.\n",
       "  results = pd.concat([results, normalized_data]) #.dropna(axis=1, how=\"all\")])\n",
       "</pre>\n"
      ],
      "text/plain": [
       "/var/folders/7t/k8q3439j6z3c683j7w00wtm80000gn/T/ipykernel_58430/1419766920.py:27: FutureWarning: The behavior of \n",
       "DataFrame concatenation with empty or all-NA entries is deprecated. In a future version, this will no longer \n",
       "exclude empty or all-NA columns when determining the result dtypes. To retain the old behavior, exclude the \n",
       "relevant entries before the concat operation.\n",
       "  results = pd.concat([results, normalized_data]) #.dropna(axis=1, how=\"all\")])\n"
      ]
     },
     "metadata": {},
     "output_type": "display_data"
    },
    {
     "data": {
      "text/html": [
       "<pre style=\"white-space:pre;overflow-x:auto;line-height:normal;font-family:Menlo,'DejaVu Sans Mono',consolas,'Courier New',monospace\">/var/folders/7t/k8q3439j6z3c683j7w00wtm80000gn/T/ipykernel_58430/1419766920.py:27: FutureWarning: The behavior of \n",
       "DataFrame concatenation with empty or all-NA entries is deprecated. In a future version, this will no longer \n",
       "exclude empty or all-NA columns when determining the result dtypes. To retain the old behavior, exclude the \n",
       "relevant entries before the concat operation.\n",
       "  results = pd.concat([results, normalized_data]) #.dropna(axis=1, how=\"all\")])\n",
       "</pre>\n"
      ],
      "text/plain": [
       "/var/folders/7t/k8q3439j6z3c683j7w00wtm80000gn/T/ipykernel_58430/1419766920.py:27: FutureWarning: The behavior of \n",
       "DataFrame concatenation with empty or all-NA entries is deprecated. In a future version, this will no longer \n",
       "exclude empty or all-NA columns when determining the result dtypes. To retain the old behavior, exclude the \n",
       "relevant entries before the concat operation.\n",
       "  results = pd.concat([results, normalized_data]) #.dropna(axis=1, how=\"all\")])\n"
      ]
     },
     "metadata": {},
     "output_type": "display_data"
    },
    {
     "data": {
      "text/html": [
       "<pre style=\"white-space:pre;overflow-x:auto;line-height:normal;font-family:Menlo,'DejaVu Sans Mono',consolas,'Courier New',monospace\">/var/folders/7t/k8q3439j6z3c683j7w00wtm80000gn/T/ipykernel_58430/1419766920.py:27: FutureWarning: The behavior of \n",
       "DataFrame concatenation with empty or all-NA entries is deprecated. In a future version, this will no longer \n",
       "exclude empty or all-NA columns when determining the result dtypes. To retain the old behavior, exclude the \n",
       "relevant entries before the concat operation.\n",
       "  results = pd.concat([results, normalized_data]) #.dropna(axis=1, how=\"all\")])\n",
       "</pre>\n"
      ],
      "text/plain": [
       "/var/folders/7t/k8q3439j6z3c683j7w00wtm80000gn/T/ipykernel_58430/1419766920.py:27: FutureWarning: The behavior of \n",
       "DataFrame concatenation with empty or all-NA entries is deprecated. In a future version, this will no longer \n",
       "exclude empty or all-NA columns when determining the result dtypes. To retain the old behavior, exclude the \n",
       "relevant entries before the concat operation.\n",
       "  results = pd.concat([results, normalized_data]) #.dropna(axis=1, how=\"all\")])\n"
      ]
     },
     "metadata": {},
     "output_type": "display_data"
    },
    {
     "data": {
      "text/html": [
       "<pre style=\"white-space:pre;overflow-x:auto;line-height:normal;font-family:Menlo,'DejaVu Sans Mono',consolas,'Courier New',monospace\">/var/folders/7t/k8q3439j6z3c683j7w00wtm80000gn/T/ipykernel_58430/1419766920.py:27: FutureWarning: The behavior of \n",
       "DataFrame concatenation with empty or all-NA entries is deprecated. In a future version, this will no longer \n",
       "exclude empty or all-NA columns when determining the result dtypes. To retain the old behavior, exclude the \n",
       "relevant entries before the concat operation.\n",
       "  results = pd.concat([results, normalized_data]) #.dropna(axis=1, how=\"all\")])\n",
       "</pre>\n"
      ],
      "text/plain": [
       "/var/folders/7t/k8q3439j6z3c683j7w00wtm80000gn/T/ipykernel_58430/1419766920.py:27: FutureWarning: The behavior of \n",
       "DataFrame concatenation with empty or all-NA entries is deprecated. In a future version, this will no longer \n",
       "exclude empty or all-NA columns when determining the result dtypes. To retain the old behavior, exclude the \n",
       "relevant entries before the concat operation.\n",
       "  results = pd.concat([results, normalized_data]) #.dropna(axis=1, how=\"all\")])\n"
      ]
     },
     "metadata": {},
     "output_type": "display_data"
    },
    {
     "data": {
      "text/html": [
       "<pre style=\"white-space:pre;overflow-x:auto;line-height:normal;font-family:Menlo,'DejaVu Sans Mono',consolas,'Courier New',monospace\">/var/folders/7t/k8q3439j6z3c683j7w00wtm80000gn/T/ipykernel_58430/1419766920.py:27: FutureWarning: The behavior of \n",
       "DataFrame concatenation with empty or all-NA entries is deprecated. In a future version, this will no longer \n",
       "exclude empty or all-NA columns when determining the result dtypes. To retain the old behavior, exclude the \n",
       "relevant entries before the concat operation.\n",
       "  results = pd.concat([results, normalized_data]) #.dropna(axis=1, how=\"all\")])\n",
       "</pre>\n"
      ],
      "text/plain": [
       "/var/folders/7t/k8q3439j6z3c683j7w00wtm80000gn/T/ipykernel_58430/1419766920.py:27: FutureWarning: The behavior of \n",
       "DataFrame concatenation with empty or all-NA entries is deprecated. In a future version, this will no longer \n",
       "exclude empty or all-NA columns when determining the result dtypes. To retain the old behavior, exclude the \n",
       "relevant entries before the concat operation.\n",
       "  results = pd.concat([results, normalized_data]) #.dropna(axis=1, how=\"all\")])\n"
      ]
     },
     "metadata": {},
     "output_type": "display_data"
    },
    {
     "data": {
      "text/html": [
       "<pre style=\"white-space:pre;overflow-x:auto;line-height:normal;font-family:Menlo,'DejaVu Sans Mono',consolas,'Courier New',monospace\">/var/folders/7t/k8q3439j6z3c683j7w00wtm80000gn/T/ipykernel_58430/1419766920.py:27: FutureWarning: The behavior of \n",
       "DataFrame concatenation with empty or all-NA entries is deprecated. In a future version, this will no longer \n",
       "exclude empty or all-NA columns when determining the result dtypes. To retain the old behavior, exclude the \n",
       "relevant entries before the concat operation.\n",
       "  results = pd.concat([results, normalized_data]) #.dropna(axis=1, how=\"all\")])\n",
       "</pre>\n"
      ],
      "text/plain": [
       "/var/folders/7t/k8q3439j6z3c683j7w00wtm80000gn/T/ipykernel_58430/1419766920.py:27: FutureWarning: The behavior of \n",
       "DataFrame concatenation with empty or all-NA entries is deprecated. In a future version, this will no longer \n",
       "exclude empty or all-NA columns when determining the result dtypes. To retain the old behavior, exclude the \n",
       "relevant entries before the concat operation.\n",
       "  results = pd.concat([results, normalized_data]) #.dropna(axis=1, how=\"all\")])\n"
      ]
     },
     "metadata": {},
     "output_type": "display_data"
    },
    {
     "data": {
      "text/html": [
       "<pre style=\"white-space:pre;overflow-x:auto;line-height:normal;font-family:Menlo,'DejaVu Sans Mono',consolas,'Courier New',monospace\">/var/folders/7t/k8q3439j6z3c683j7w00wtm80000gn/T/ipykernel_58430/1419766920.py:27: FutureWarning: The behavior of \n",
       "DataFrame concatenation with empty or all-NA entries is deprecated. In a future version, this will no longer \n",
       "exclude empty or all-NA columns when determining the result dtypes. To retain the old behavior, exclude the \n",
       "relevant entries before the concat operation.\n",
       "  results = pd.concat([results, normalized_data]) #.dropna(axis=1, how=\"all\")])\n",
       "</pre>\n"
      ],
      "text/plain": [
       "/var/folders/7t/k8q3439j6z3c683j7w00wtm80000gn/T/ipykernel_58430/1419766920.py:27: FutureWarning: The behavior of \n",
       "DataFrame concatenation with empty or all-NA entries is deprecated. In a future version, this will no longer \n",
       "exclude empty or all-NA columns when determining the result dtypes. To retain the old behavior, exclude the \n",
       "relevant entries before the concat operation.\n",
       "  results = pd.concat([results, normalized_data]) #.dropna(axis=1, how=\"all\")])\n"
      ]
     },
     "metadata": {},
     "output_type": "display_data"
    },
    {
     "data": {
      "text/html": [
       "<pre style=\"white-space:pre;overflow-x:auto;line-height:normal;font-family:Menlo,'DejaVu Sans Mono',consolas,'Courier New',monospace\">/var/folders/7t/k8q3439j6z3c683j7w00wtm80000gn/T/ipykernel_58430/1419766920.py:27: FutureWarning: The behavior of \n",
       "DataFrame concatenation with empty or all-NA entries is deprecated. In a future version, this will no longer \n",
       "exclude empty or all-NA columns when determining the result dtypes. To retain the old behavior, exclude the \n",
       "relevant entries before the concat operation.\n",
       "  results = pd.concat([results, normalized_data]) #.dropna(axis=1, how=\"all\")])\n",
       "</pre>\n"
      ],
      "text/plain": [
       "/var/folders/7t/k8q3439j6z3c683j7w00wtm80000gn/T/ipykernel_58430/1419766920.py:27: FutureWarning: The behavior of \n",
       "DataFrame concatenation with empty or all-NA entries is deprecated. In a future version, this will no longer \n",
       "exclude empty or all-NA columns when determining the result dtypes. To retain the old behavior, exclude the \n",
       "relevant entries before the concat operation.\n",
       "  results = pd.concat([results, normalized_data]) #.dropna(axis=1, how=\"all\")])\n"
      ]
     },
     "metadata": {},
     "output_type": "display_data"
    },
    {
     "data": {
      "text/html": [
       "<pre style=\"white-space:pre;overflow-x:auto;line-height:normal;font-family:Menlo,'DejaVu Sans Mono',consolas,'Courier New',monospace\">/var/folders/7t/k8q3439j6z3c683j7w00wtm80000gn/T/ipykernel_58430/1419766920.py:27: FutureWarning: The behavior of \n",
       "DataFrame concatenation with empty or all-NA entries is deprecated. In a future version, this will no longer \n",
       "exclude empty or all-NA columns when determining the result dtypes. To retain the old behavior, exclude the \n",
       "relevant entries before the concat operation.\n",
       "  results = pd.concat([results, normalized_data]) #.dropna(axis=1, how=\"all\")])\n",
       "</pre>\n"
      ],
      "text/plain": [
       "/var/folders/7t/k8q3439j6z3c683j7w00wtm80000gn/T/ipykernel_58430/1419766920.py:27: FutureWarning: The behavior of \n",
       "DataFrame concatenation with empty or all-NA entries is deprecated. In a future version, this will no longer \n",
       "exclude empty or all-NA columns when determining the result dtypes. To retain the old behavior, exclude the \n",
       "relevant entries before the concat operation.\n",
       "  results = pd.concat([results, normalized_data]) #.dropna(axis=1, how=\"all\")])\n"
      ]
     },
     "metadata": {},
     "output_type": "display_data"
    },
    {
     "data": {
      "text/html": [
       "<pre style=\"white-space:pre;overflow-x:auto;line-height:normal;font-family:Menlo,'DejaVu Sans Mono',consolas,'Courier New',monospace\">/var/folders/7t/k8q3439j6z3c683j7w00wtm80000gn/T/ipykernel_58430/1419766920.py:27: FutureWarning: The behavior of \n",
       "DataFrame concatenation with empty or all-NA entries is deprecated. In a future version, this will no longer \n",
       "exclude empty or all-NA columns when determining the result dtypes. To retain the old behavior, exclude the \n",
       "relevant entries before the concat operation.\n",
       "  results = pd.concat([results, normalized_data]) #.dropna(axis=1, how=\"all\")])\n",
       "</pre>\n"
      ],
      "text/plain": [
       "/var/folders/7t/k8q3439j6z3c683j7w00wtm80000gn/T/ipykernel_58430/1419766920.py:27: FutureWarning: The behavior of \n",
       "DataFrame concatenation with empty or all-NA entries is deprecated. In a future version, this will no longer \n",
       "exclude empty or all-NA columns when determining the result dtypes. To retain the old behavior, exclude the \n",
       "relevant entries before the concat operation.\n",
       "  results = pd.concat([results, normalized_data]) #.dropna(axis=1, how=\"all\")])\n"
      ]
     },
     "metadata": {},
     "output_type": "display_data"
    },
    {
     "data": {
      "text/html": [
       "<pre style=\"white-space:pre;overflow-x:auto;line-height:normal;font-family:Menlo,'DejaVu Sans Mono',consolas,'Courier New',monospace\">/var/folders/7t/k8q3439j6z3c683j7w00wtm80000gn/T/ipykernel_58430/1419766920.py:27: FutureWarning: The behavior of \n",
       "DataFrame concatenation with empty or all-NA entries is deprecated. In a future version, this will no longer \n",
       "exclude empty or all-NA columns when determining the result dtypes. To retain the old behavior, exclude the \n",
       "relevant entries before the concat operation.\n",
       "  results = pd.concat([results, normalized_data]) #.dropna(axis=1, how=\"all\")])\n",
       "</pre>\n"
      ],
      "text/plain": [
       "/var/folders/7t/k8q3439j6z3c683j7w00wtm80000gn/T/ipykernel_58430/1419766920.py:27: FutureWarning: The behavior of \n",
       "DataFrame concatenation with empty or all-NA entries is deprecated. In a future version, this will no longer \n",
       "exclude empty or all-NA columns when determining the result dtypes. To retain the old behavior, exclude the \n",
       "relevant entries before the concat operation.\n",
       "  results = pd.concat([results, normalized_data]) #.dropna(axis=1, how=\"all\")])\n"
      ]
     },
     "metadata": {},
     "output_type": "display_data"
    },
    {
     "data": {
      "text/html": [
       "<pre style=\"white-space:pre;overflow-x:auto;line-height:normal;font-family:Menlo,'DejaVu Sans Mono',consolas,'Courier New',monospace\">/var/folders/7t/k8q3439j6z3c683j7w00wtm80000gn/T/ipykernel_58430/1419766920.py:27: FutureWarning: The behavior of \n",
       "DataFrame concatenation with empty or all-NA entries is deprecated. In a future version, this will no longer \n",
       "exclude empty or all-NA columns when determining the result dtypes. To retain the old behavior, exclude the \n",
       "relevant entries before the concat operation.\n",
       "  results = pd.concat([results, normalized_data]) #.dropna(axis=1, how=\"all\")])\n",
       "</pre>\n"
      ],
      "text/plain": [
       "/var/folders/7t/k8q3439j6z3c683j7w00wtm80000gn/T/ipykernel_58430/1419766920.py:27: FutureWarning: The behavior of \n",
       "DataFrame concatenation with empty or all-NA entries is deprecated. In a future version, this will no longer \n",
       "exclude empty or all-NA columns when determining the result dtypes. To retain the old behavior, exclude the \n",
       "relevant entries before the concat operation.\n",
       "  results = pd.concat([results, normalized_data]) #.dropna(axis=1, how=\"all\")])\n"
      ]
     },
     "metadata": {},
     "output_type": "display_data"
    },
    {
     "data": {
      "text/html": [
       "<pre style=\"white-space:pre;overflow-x:auto;line-height:normal;font-family:Menlo,'DejaVu Sans Mono',consolas,'Courier New',monospace\">/var/folders/7t/k8q3439j6z3c683j7w00wtm80000gn/T/ipykernel_58430/1419766920.py:27: FutureWarning: The behavior of \n",
       "DataFrame concatenation with empty or all-NA entries is deprecated. In a future version, this will no longer \n",
       "exclude empty or all-NA columns when determining the result dtypes. To retain the old behavior, exclude the \n",
       "relevant entries before the concat operation.\n",
       "  results = pd.concat([results, normalized_data]) #.dropna(axis=1, how=\"all\")])\n",
       "</pre>\n"
      ],
      "text/plain": [
       "/var/folders/7t/k8q3439j6z3c683j7w00wtm80000gn/T/ipykernel_58430/1419766920.py:27: FutureWarning: The behavior of \n",
       "DataFrame concatenation with empty or all-NA entries is deprecated. In a future version, this will no longer \n",
       "exclude empty or all-NA columns when determining the result dtypes. To retain the old behavior, exclude the \n",
       "relevant entries before the concat operation.\n",
       "  results = pd.concat([results, normalized_data]) #.dropna(axis=1, how=\"all\")])\n"
      ]
     },
     "metadata": {},
     "output_type": "display_data"
    },
    {
     "data": {
      "text/html": [
       "<pre style=\"white-space:pre;overflow-x:auto;line-height:normal;font-family:Menlo,'DejaVu Sans Mono',consolas,'Courier New',monospace\">/var/folders/7t/k8q3439j6z3c683j7w00wtm80000gn/T/ipykernel_58430/1419766920.py:27: FutureWarning: The behavior of \n",
       "DataFrame concatenation with empty or all-NA entries is deprecated. In a future version, this will no longer \n",
       "exclude empty or all-NA columns when determining the result dtypes. To retain the old behavior, exclude the \n",
       "relevant entries before the concat operation.\n",
       "  results = pd.concat([results, normalized_data]) #.dropna(axis=1, how=\"all\")])\n",
       "</pre>\n"
      ],
      "text/plain": [
       "/var/folders/7t/k8q3439j6z3c683j7w00wtm80000gn/T/ipykernel_58430/1419766920.py:27: FutureWarning: The behavior of \n",
       "DataFrame concatenation with empty or all-NA entries is deprecated. In a future version, this will no longer \n",
       "exclude empty or all-NA columns when determining the result dtypes. To retain the old behavior, exclude the \n",
       "relevant entries before the concat operation.\n",
       "  results = pd.concat([results, normalized_data]) #.dropna(axis=1, how=\"all\")])\n"
      ]
     },
     "metadata": {},
     "output_type": "display_data"
    },
    {
     "data": {
      "text/html": [
       "<pre style=\"white-space:pre;overflow-x:auto;line-height:normal;font-family:Menlo,'DejaVu Sans Mono',consolas,'Courier New',monospace\">/var/folders/7t/k8q3439j6z3c683j7w00wtm80000gn/T/ipykernel_58430/1419766920.py:27: FutureWarning: The behavior of \n",
       "DataFrame concatenation with empty or all-NA entries is deprecated. In a future version, this will no longer \n",
       "exclude empty or all-NA columns when determining the result dtypes. To retain the old behavior, exclude the \n",
       "relevant entries before the concat operation.\n",
       "  results = pd.concat([results, normalized_data]) #.dropna(axis=1, how=\"all\")])\n",
       "</pre>\n"
      ],
      "text/plain": [
       "/var/folders/7t/k8q3439j6z3c683j7w00wtm80000gn/T/ipykernel_58430/1419766920.py:27: FutureWarning: The behavior of \n",
       "DataFrame concatenation with empty or all-NA entries is deprecated. In a future version, this will no longer \n",
       "exclude empty or all-NA columns when determining the result dtypes. To retain the old behavior, exclude the \n",
       "relevant entries before the concat operation.\n",
       "  results = pd.concat([results, normalized_data]) #.dropna(axis=1, how=\"all\")])\n"
      ]
     },
     "metadata": {},
     "output_type": "display_data"
    },
    {
     "data": {
      "text/html": [
       "<pre style=\"white-space:pre;overflow-x:auto;line-height:normal;font-family:Menlo,'DejaVu Sans Mono',consolas,'Courier New',monospace\">/var/folders/7t/k8q3439j6z3c683j7w00wtm80000gn/T/ipykernel_58430/1419766920.py:27: FutureWarning: The behavior of \n",
       "DataFrame concatenation with empty or all-NA entries is deprecated. In a future version, this will no longer \n",
       "exclude empty or all-NA columns when determining the result dtypes. To retain the old behavior, exclude the \n",
       "relevant entries before the concat operation.\n",
       "  results = pd.concat([results, normalized_data]) #.dropna(axis=1, how=\"all\")])\n",
       "</pre>\n"
      ],
      "text/plain": [
       "/var/folders/7t/k8q3439j6z3c683j7w00wtm80000gn/T/ipykernel_58430/1419766920.py:27: FutureWarning: The behavior of \n",
       "DataFrame concatenation with empty or all-NA entries is deprecated. In a future version, this will no longer \n",
       "exclude empty or all-NA columns when determining the result dtypes. To retain the old behavior, exclude the \n",
       "relevant entries before the concat operation.\n",
       "  results = pd.concat([results, normalized_data]) #.dropna(axis=1, how=\"all\")])\n"
      ]
     },
     "metadata": {},
     "output_type": "display_data"
    },
    {
     "data": {
      "text/html": [
       "<pre style=\"white-space:pre;overflow-x:auto;line-height:normal;font-family:Menlo,'DejaVu Sans Mono',consolas,'Courier New',monospace\">/var/folders/7t/k8q3439j6z3c683j7w00wtm80000gn/T/ipykernel_58430/1419766920.py:27: FutureWarning: The behavior of \n",
       "DataFrame concatenation with empty or all-NA entries is deprecated. In a future version, this will no longer \n",
       "exclude empty or all-NA columns when determining the result dtypes. To retain the old behavior, exclude the \n",
       "relevant entries before the concat operation.\n",
       "  results = pd.concat([results, normalized_data]) #.dropna(axis=1, how=\"all\")])\n",
       "</pre>\n"
      ],
      "text/plain": [
       "/var/folders/7t/k8q3439j6z3c683j7w00wtm80000gn/T/ipykernel_58430/1419766920.py:27: FutureWarning: The behavior of \n",
       "DataFrame concatenation with empty or all-NA entries is deprecated. In a future version, this will no longer \n",
       "exclude empty or all-NA columns when determining the result dtypes. To retain the old behavior, exclude the \n",
       "relevant entries before the concat operation.\n",
       "  results = pd.concat([results, normalized_data]) #.dropna(axis=1, how=\"all\")])\n"
      ]
     },
     "metadata": {},
     "output_type": "display_data"
    },
    {
     "data": {
      "text/html": [
       "<pre style=\"white-space:pre;overflow-x:auto;line-height:normal;font-family:Menlo,'DejaVu Sans Mono',consolas,'Courier New',monospace\">/var/folders/7t/k8q3439j6z3c683j7w00wtm80000gn/T/ipykernel_58430/1419766920.py:27: FutureWarning: The behavior of \n",
       "DataFrame concatenation with empty or all-NA entries is deprecated. In a future version, this will no longer \n",
       "exclude empty or all-NA columns when determining the result dtypes. To retain the old behavior, exclude the \n",
       "relevant entries before the concat operation.\n",
       "  results = pd.concat([results, normalized_data]) #.dropna(axis=1, how=\"all\")])\n",
       "</pre>\n"
      ],
      "text/plain": [
       "/var/folders/7t/k8q3439j6z3c683j7w00wtm80000gn/T/ipykernel_58430/1419766920.py:27: FutureWarning: The behavior of \n",
       "DataFrame concatenation with empty or all-NA entries is deprecated. In a future version, this will no longer \n",
       "exclude empty or all-NA columns when determining the result dtypes. To retain the old behavior, exclude the \n",
       "relevant entries before the concat operation.\n",
       "  results = pd.concat([results, normalized_data]) #.dropna(axis=1, how=\"all\")])\n"
      ]
     },
     "metadata": {},
     "output_type": "display_data"
    },
    {
     "data": {
      "text/html": [
       "<pre style=\"white-space:pre;overflow-x:auto;line-height:normal;font-family:Menlo,'DejaVu Sans Mono',consolas,'Courier New',monospace\">/var/folders/7t/k8q3439j6z3c683j7w00wtm80000gn/T/ipykernel_58430/1419766920.py:27: FutureWarning: The behavior of \n",
       "DataFrame concatenation with empty or all-NA entries is deprecated. In a future version, this will no longer \n",
       "exclude empty or all-NA columns when determining the result dtypes. To retain the old behavior, exclude the \n",
       "relevant entries before the concat operation.\n",
       "  results = pd.concat([results, normalized_data]) #.dropna(axis=1, how=\"all\")])\n",
       "</pre>\n"
      ],
      "text/plain": [
       "/var/folders/7t/k8q3439j6z3c683j7w00wtm80000gn/T/ipykernel_58430/1419766920.py:27: FutureWarning: The behavior of \n",
       "DataFrame concatenation with empty or all-NA entries is deprecated. In a future version, this will no longer \n",
       "exclude empty or all-NA columns when determining the result dtypes. To retain the old behavior, exclude the \n",
       "relevant entries before the concat operation.\n",
       "  results = pd.concat([results, normalized_data]) #.dropna(axis=1, how=\"all\")])\n"
      ]
     },
     "metadata": {},
     "output_type": "display_data"
    },
    {
     "data": {
      "text/html": [
       "<pre style=\"white-space:pre;overflow-x:auto;line-height:normal;font-family:Menlo,'DejaVu Sans Mono',consolas,'Courier New',monospace\">/var/folders/7t/k8q3439j6z3c683j7w00wtm80000gn/T/ipykernel_58430/1419766920.py:27: FutureWarning: The behavior of \n",
       "DataFrame concatenation with empty or all-NA entries is deprecated. In a future version, this will no longer \n",
       "exclude empty or all-NA columns when determining the result dtypes. To retain the old behavior, exclude the \n",
       "relevant entries before the concat operation.\n",
       "  results = pd.concat([results, normalized_data]) #.dropna(axis=1, how=\"all\")])\n",
       "</pre>\n"
      ],
      "text/plain": [
       "/var/folders/7t/k8q3439j6z3c683j7w00wtm80000gn/T/ipykernel_58430/1419766920.py:27: FutureWarning: The behavior of \n",
       "DataFrame concatenation with empty or all-NA entries is deprecated. In a future version, this will no longer \n",
       "exclude empty or all-NA columns when determining the result dtypes. To retain the old behavior, exclude the \n",
       "relevant entries before the concat operation.\n",
       "  results = pd.concat([results, normalized_data]) #.dropna(axis=1, how=\"all\")])\n"
      ]
     },
     "metadata": {},
     "output_type": "display_data"
    },
    {
     "data": {
      "text/html": [
       "<pre style=\"white-space:pre;overflow-x:auto;line-height:normal;font-family:Menlo,'DejaVu Sans Mono',consolas,'Courier New',monospace\">/var/folders/7t/k8q3439j6z3c683j7w00wtm80000gn/T/ipykernel_58430/1419766920.py:27: FutureWarning: The behavior of \n",
       "DataFrame concatenation with empty or all-NA entries is deprecated. In a future version, this will no longer \n",
       "exclude empty or all-NA columns when determining the result dtypes. To retain the old behavior, exclude the \n",
       "relevant entries before the concat operation.\n",
       "  results = pd.concat([results, normalized_data]) #.dropna(axis=1, how=\"all\")])\n",
       "</pre>\n"
      ],
      "text/plain": [
       "/var/folders/7t/k8q3439j6z3c683j7w00wtm80000gn/T/ipykernel_58430/1419766920.py:27: FutureWarning: The behavior of \n",
       "DataFrame concatenation with empty or all-NA entries is deprecated. In a future version, this will no longer \n",
       "exclude empty or all-NA columns when determining the result dtypes. To retain the old behavior, exclude the \n",
       "relevant entries before the concat operation.\n",
       "  results = pd.concat([results, normalized_data]) #.dropna(axis=1, how=\"all\")])\n"
      ]
     },
     "metadata": {},
     "output_type": "display_data"
    },
    {
     "data": {
      "text/html": [
       "<pre style=\"white-space:pre;overflow-x:auto;line-height:normal;font-family:Menlo,'DejaVu Sans Mono',consolas,'Courier New',monospace\">/var/folders/7t/k8q3439j6z3c683j7w00wtm80000gn/T/ipykernel_58430/1419766920.py:27: FutureWarning: The behavior of \n",
       "DataFrame concatenation with empty or all-NA entries is deprecated. In a future version, this will no longer \n",
       "exclude empty or all-NA columns when determining the result dtypes. To retain the old behavior, exclude the \n",
       "relevant entries before the concat operation.\n",
       "  results = pd.concat([results, normalized_data]) #.dropna(axis=1, how=\"all\")])\n",
       "</pre>\n"
      ],
      "text/plain": [
       "/var/folders/7t/k8q3439j6z3c683j7w00wtm80000gn/T/ipykernel_58430/1419766920.py:27: FutureWarning: The behavior of \n",
       "DataFrame concatenation with empty or all-NA entries is deprecated. In a future version, this will no longer \n",
       "exclude empty or all-NA columns when determining the result dtypes. To retain the old behavior, exclude the \n",
       "relevant entries before the concat operation.\n",
       "  results = pd.concat([results, normalized_data]) #.dropna(axis=1, how=\"all\")])\n"
      ]
     },
     "metadata": {},
     "output_type": "display_data"
    },
    {
     "data": {
      "text/html": [
       "<pre style=\"white-space:pre;overflow-x:auto;line-height:normal;font-family:Menlo,'DejaVu Sans Mono',consolas,'Courier New',monospace\">/var/folders/7t/k8q3439j6z3c683j7w00wtm80000gn/T/ipykernel_58430/1419766920.py:27: FutureWarning: The behavior of \n",
       "DataFrame concatenation with empty or all-NA entries is deprecated. In a future version, this will no longer \n",
       "exclude empty or all-NA columns when determining the result dtypes. To retain the old behavior, exclude the \n",
       "relevant entries before the concat operation.\n",
       "  results = pd.concat([results, normalized_data]) #.dropna(axis=1, how=\"all\")])\n",
       "</pre>\n"
      ],
      "text/plain": [
       "/var/folders/7t/k8q3439j6z3c683j7w00wtm80000gn/T/ipykernel_58430/1419766920.py:27: FutureWarning: The behavior of \n",
       "DataFrame concatenation with empty or all-NA entries is deprecated. In a future version, this will no longer \n",
       "exclude empty or all-NA columns when determining the result dtypes. To retain the old behavior, exclude the \n",
       "relevant entries before the concat operation.\n",
       "  results = pd.concat([results, normalized_data]) #.dropna(axis=1, how=\"all\")])\n"
      ]
     },
     "metadata": {},
     "output_type": "display_data"
    },
    {
     "data": {
      "text/html": [
       "<pre style=\"white-space:pre;overflow-x:auto;line-height:normal;font-family:Menlo,'DejaVu Sans Mono',consolas,'Courier New',monospace\">/var/folders/7t/k8q3439j6z3c683j7w00wtm80000gn/T/ipykernel_58430/1419766920.py:27: FutureWarning: The behavior of \n",
       "DataFrame concatenation with empty or all-NA entries is deprecated. In a future version, this will no longer \n",
       "exclude empty or all-NA columns when determining the result dtypes. To retain the old behavior, exclude the \n",
       "relevant entries before the concat operation.\n",
       "  results = pd.concat([results, normalized_data]) #.dropna(axis=1, how=\"all\")])\n",
       "</pre>\n"
      ],
      "text/plain": [
       "/var/folders/7t/k8q3439j6z3c683j7w00wtm80000gn/T/ipykernel_58430/1419766920.py:27: FutureWarning: The behavior of \n",
       "DataFrame concatenation with empty or all-NA entries is deprecated. In a future version, this will no longer \n",
       "exclude empty or all-NA columns when determining the result dtypes. To retain the old behavior, exclude the \n",
       "relevant entries before the concat operation.\n",
       "  results = pd.concat([results, normalized_data]) #.dropna(axis=1, how=\"all\")])\n"
      ]
     },
     "metadata": {},
     "output_type": "display_data"
    },
    {
     "data": {
      "text/html": [
       "<pre style=\"white-space:pre;overflow-x:auto;line-height:normal;font-family:Menlo,'DejaVu Sans Mono',consolas,'Courier New',monospace\">/var/folders/7t/k8q3439j6z3c683j7w00wtm80000gn/T/ipykernel_58430/1419766920.py:27: FutureWarning: The behavior of \n",
       "DataFrame concatenation with empty or all-NA entries is deprecated. In a future version, this will no longer \n",
       "exclude empty or all-NA columns when determining the result dtypes. To retain the old behavior, exclude the \n",
       "relevant entries before the concat operation.\n",
       "  results = pd.concat([results, normalized_data]) #.dropna(axis=1, how=\"all\")])\n",
       "</pre>\n"
      ],
      "text/plain": [
       "/var/folders/7t/k8q3439j6z3c683j7w00wtm80000gn/T/ipykernel_58430/1419766920.py:27: FutureWarning: The behavior of \n",
       "DataFrame concatenation with empty or all-NA entries is deprecated. In a future version, this will no longer \n",
       "exclude empty or all-NA columns when determining the result dtypes. To retain the old behavior, exclude the \n",
       "relevant entries before the concat operation.\n",
       "  results = pd.concat([results, normalized_data]) #.dropna(axis=1, how=\"all\")])\n"
      ]
     },
     "metadata": {},
     "output_type": "display_data"
    },
    {
     "data": {
      "text/html": [
       "<pre style=\"white-space:pre;overflow-x:auto;line-height:normal;font-family:Menlo,'DejaVu Sans Mono',consolas,'Courier New',monospace\">/var/folders/7t/k8q3439j6z3c683j7w00wtm80000gn/T/ipykernel_58430/1419766920.py:27: FutureWarning: The behavior of \n",
       "DataFrame concatenation with empty or all-NA entries is deprecated. In a future version, this will no longer \n",
       "exclude empty or all-NA columns when determining the result dtypes. To retain the old behavior, exclude the \n",
       "relevant entries before the concat operation.\n",
       "  results = pd.concat([results, normalized_data]) #.dropna(axis=1, how=\"all\")])\n",
       "</pre>\n"
      ],
      "text/plain": [
       "/var/folders/7t/k8q3439j6z3c683j7w00wtm80000gn/T/ipykernel_58430/1419766920.py:27: FutureWarning: The behavior of \n",
       "DataFrame concatenation with empty or all-NA entries is deprecated. In a future version, this will no longer \n",
       "exclude empty or all-NA columns when determining the result dtypes. To retain the old behavior, exclude the \n",
       "relevant entries before the concat operation.\n",
       "  results = pd.concat([results, normalized_data]) #.dropna(axis=1, how=\"all\")])\n"
      ]
     },
     "metadata": {},
     "output_type": "display_data"
    },
    {
     "data": {
      "text/html": [
       "<pre style=\"white-space:pre;overflow-x:auto;line-height:normal;font-family:Menlo,'DejaVu Sans Mono',consolas,'Courier New',monospace\">/var/folders/7t/k8q3439j6z3c683j7w00wtm80000gn/T/ipykernel_58430/1419766920.py:27: FutureWarning: The behavior of \n",
       "DataFrame concatenation with empty or all-NA entries is deprecated. In a future version, this will no longer \n",
       "exclude empty or all-NA columns when determining the result dtypes. To retain the old behavior, exclude the \n",
       "relevant entries before the concat operation.\n",
       "  results = pd.concat([results, normalized_data]) #.dropna(axis=1, how=\"all\")])\n",
       "</pre>\n"
      ],
      "text/plain": [
       "/var/folders/7t/k8q3439j6z3c683j7w00wtm80000gn/T/ipykernel_58430/1419766920.py:27: FutureWarning: The behavior of \n",
       "DataFrame concatenation with empty or all-NA entries is deprecated. In a future version, this will no longer \n",
       "exclude empty or all-NA columns when determining the result dtypes. To retain the old behavior, exclude the \n",
       "relevant entries before the concat operation.\n",
       "  results = pd.concat([results, normalized_data]) #.dropna(axis=1, how=\"all\")])\n"
      ]
     },
     "metadata": {},
     "output_type": "display_data"
    },
    {
     "data": {
      "text/html": [
       "<pre style=\"white-space:pre;overflow-x:auto;line-height:normal;font-family:Menlo,'DejaVu Sans Mono',consolas,'Courier New',monospace\">/var/folders/7t/k8q3439j6z3c683j7w00wtm80000gn/T/ipykernel_58430/1419766920.py:27: FutureWarning: The behavior of \n",
       "DataFrame concatenation with empty or all-NA entries is deprecated. In a future version, this will no longer \n",
       "exclude empty or all-NA columns when determining the result dtypes. To retain the old behavior, exclude the \n",
       "relevant entries before the concat operation.\n",
       "  results = pd.concat([results, normalized_data]) #.dropna(axis=1, how=\"all\")])\n",
       "</pre>\n"
      ],
      "text/plain": [
       "/var/folders/7t/k8q3439j6z3c683j7w00wtm80000gn/T/ipykernel_58430/1419766920.py:27: FutureWarning: The behavior of \n",
       "DataFrame concatenation with empty or all-NA entries is deprecated. In a future version, this will no longer \n",
       "exclude empty or all-NA columns when determining the result dtypes. To retain the old behavior, exclude the \n",
       "relevant entries before the concat operation.\n",
       "  results = pd.concat([results, normalized_data]) #.dropna(axis=1, how=\"all\")])\n"
      ]
     },
     "metadata": {},
     "output_type": "display_data"
    },
    {
     "data": {
      "text/html": [
       "<pre style=\"white-space:pre;overflow-x:auto;line-height:normal;font-family:Menlo,'DejaVu Sans Mono',consolas,'Courier New',monospace\">/var/folders/7t/k8q3439j6z3c683j7w00wtm80000gn/T/ipykernel_58430/1419766920.py:27: FutureWarning: The behavior of \n",
       "DataFrame concatenation with empty or all-NA entries is deprecated. In a future version, this will no longer \n",
       "exclude empty or all-NA columns when determining the result dtypes. To retain the old behavior, exclude the \n",
       "relevant entries before the concat operation.\n",
       "  results = pd.concat([results, normalized_data]) #.dropna(axis=1, how=\"all\")])\n",
       "</pre>\n"
      ],
      "text/plain": [
       "/var/folders/7t/k8q3439j6z3c683j7w00wtm80000gn/T/ipykernel_58430/1419766920.py:27: FutureWarning: The behavior of \n",
       "DataFrame concatenation with empty or all-NA entries is deprecated. In a future version, this will no longer \n",
       "exclude empty or all-NA columns when determining the result dtypes. To retain the old behavior, exclude the \n",
       "relevant entries before the concat operation.\n",
       "  results = pd.concat([results, normalized_data]) #.dropna(axis=1, how=\"all\")])\n"
      ]
     },
     "metadata": {},
     "output_type": "display_data"
    },
    {
     "data": {
      "text/html": [
       "<pre style=\"white-space:pre;overflow-x:auto;line-height:normal;font-family:Menlo,'DejaVu Sans Mono',consolas,'Courier New',monospace\">/var/folders/7t/k8q3439j6z3c683j7w00wtm80000gn/T/ipykernel_58430/1419766920.py:27: FutureWarning: The behavior of \n",
       "DataFrame concatenation with empty or all-NA entries is deprecated. In a future version, this will no longer \n",
       "exclude empty or all-NA columns when determining the result dtypes. To retain the old behavior, exclude the \n",
       "relevant entries before the concat operation.\n",
       "  results = pd.concat([results, normalized_data]) #.dropna(axis=1, how=\"all\")])\n",
       "</pre>\n"
      ],
      "text/plain": [
       "/var/folders/7t/k8q3439j6z3c683j7w00wtm80000gn/T/ipykernel_58430/1419766920.py:27: FutureWarning: The behavior of \n",
       "DataFrame concatenation with empty or all-NA entries is deprecated. In a future version, this will no longer \n",
       "exclude empty or all-NA columns when determining the result dtypes. To retain the old behavior, exclude the \n",
       "relevant entries before the concat operation.\n",
       "  results = pd.concat([results, normalized_data]) #.dropna(axis=1, how=\"all\")])\n"
      ]
     },
     "metadata": {},
     "output_type": "display_data"
    },
    {
     "data": {
      "text/html": [
       "<pre style=\"white-space:pre;overflow-x:auto;line-height:normal;font-family:Menlo,'DejaVu Sans Mono',consolas,'Courier New',monospace\">/var/folders/7t/k8q3439j6z3c683j7w00wtm80000gn/T/ipykernel_58430/1419766920.py:27: FutureWarning: The behavior of \n",
       "DataFrame concatenation with empty or all-NA entries is deprecated. In a future version, this will no longer \n",
       "exclude empty or all-NA columns when determining the result dtypes. To retain the old behavior, exclude the \n",
       "relevant entries before the concat operation.\n",
       "  results = pd.concat([results, normalized_data]) #.dropna(axis=1, how=\"all\")])\n",
       "</pre>\n"
      ],
      "text/plain": [
       "/var/folders/7t/k8q3439j6z3c683j7w00wtm80000gn/T/ipykernel_58430/1419766920.py:27: FutureWarning: The behavior of \n",
       "DataFrame concatenation with empty or all-NA entries is deprecated. In a future version, this will no longer \n",
       "exclude empty or all-NA columns when determining the result dtypes. To retain the old behavior, exclude the \n",
       "relevant entries before the concat operation.\n",
       "  results = pd.concat([results, normalized_data]) #.dropna(axis=1, how=\"all\")])\n"
      ]
     },
     "metadata": {},
     "output_type": "display_data"
    },
    {
     "data": {
      "text/html": [
       "<pre style=\"white-space:pre;overflow-x:auto;line-height:normal;font-family:Menlo,'DejaVu Sans Mono',consolas,'Courier New',monospace\">/var/folders/7t/k8q3439j6z3c683j7w00wtm80000gn/T/ipykernel_58430/1419766920.py:27: FutureWarning: The behavior of \n",
       "DataFrame concatenation with empty or all-NA entries is deprecated. In a future version, this will no longer \n",
       "exclude empty or all-NA columns when determining the result dtypes. To retain the old behavior, exclude the \n",
       "relevant entries before the concat operation.\n",
       "  results = pd.concat([results, normalized_data]) #.dropna(axis=1, how=\"all\")])\n",
       "</pre>\n"
      ],
      "text/plain": [
       "/var/folders/7t/k8q3439j6z3c683j7w00wtm80000gn/T/ipykernel_58430/1419766920.py:27: FutureWarning: The behavior of \n",
       "DataFrame concatenation with empty or all-NA entries is deprecated. In a future version, this will no longer \n",
       "exclude empty or all-NA columns when determining the result dtypes. To retain the old behavior, exclude the \n",
       "relevant entries before the concat operation.\n",
       "  results = pd.concat([results, normalized_data]) #.dropna(axis=1, how=\"all\")])\n"
      ]
     },
     "metadata": {},
     "output_type": "display_data"
    },
    {
     "data": {
      "text/html": [
       "<pre style=\"white-space:pre;overflow-x:auto;line-height:normal;font-family:Menlo,'DejaVu Sans Mono',consolas,'Courier New',monospace\">/var/folders/7t/k8q3439j6z3c683j7w00wtm80000gn/T/ipykernel_58430/1419766920.py:27: FutureWarning: The behavior of \n",
       "DataFrame concatenation with empty or all-NA entries is deprecated. In a future version, this will no longer \n",
       "exclude empty or all-NA columns when determining the result dtypes. To retain the old behavior, exclude the \n",
       "relevant entries before the concat operation.\n",
       "  results = pd.concat([results, normalized_data]) #.dropna(axis=1, how=\"all\")])\n",
       "</pre>\n"
      ],
      "text/plain": [
       "/var/folders/7t/k8q3439j6z3c683j7w00wtm80000gn/T/ipykernel_58430/1419766920.py:27: FutureWarning: The behavior of \n",
       "DataFrame concatenation with empty or all-NA entries is deprecated. In a future version, this will no longer \n",
       "exclude empty or all-NA columns when determining the result dtypes. To retain the old behavior, exclude the \n",
       "relevant entries before the concat operation.\n",
       "  results = pd.concat([results, normalized_data]) #.dropna(axis=1, how=\"all\")])\n"
      ]
     },
     "metadata": {},
     "output_type": "display_data"
    },
    {
     "data": {
      "text/html": [
       "<pre style=\"white-space:pre;overflow-x:auto;line-height:normal;font-family:Menlo,'DejaVu Sans Mono',consolas,'Courier New',monospace\">/var/folders/7t/k8q3439j6z3c683j7w00wtm80000gn/T/ipykernel_58430/1419766920.py:27: FutureWarning: The behavior of \n",
       "DataFrame concatenation with empty or all-NA entries is deprecated. In a future version, this will no longer \n",
       "exclude empty or all-NA columns when determining the result dtypes. To retain the old behavior, exclude the \n",
       "relevant entries before the concat operation.\n",
       "  results = pd.concat([results, normalized_data]) #.dropna(axis=1, how=\"all\")])\n",
       "</pre>\n"
      ],
      "text/plain": [
       "/var/folders/7t/k8q3439j6z3c683j7w00wtm80000gn/T/ipykernel_58430/1419766920.py:27: FutureWarning: The behavior of \n",
       "DataFrame concatenation with empty or all-NA entries is deprecated. In a future version, this will no longer \n",
       "exclude empty or all-NA columns when determining the result dtypes. To retain the old behavior, exclude the \n",
       "relevant entries before the concat operation.\n",
       "  results = pd.concat([results, normalized_data]) #.dropna(axis=1, how=\"all\")])\n"
      ]
     },
     "metadata": {},
     "output_type": "display_data"
    },
    {
     "data": {
      "text/html": [
       "<pre style=\"white-space:pre;overflow-x:auto;line-height:normal;font-family:Menlo,'DejaVu Sans Mono',consolas,'Courier New',monospace\">/var/folders/7t/k8q3439j6z3c683j7w00wtm80000gn/T/ipykernel_58430/1419766920.py:27: FutureWarning: The behavior of \n",
       "DataFrame concatenation with empty or all-NA entries is deprecated. In a future version, this will no longer \n",
       "exclude empty or all-NA columns when determining the result dtypes. To retain the old behavior, exclude the \n",
       "relevant entries before the concat operation.\n",
       "  results = pd.concat([results, normalized_data]) #.dropna(axis=1, how=\"all\")])\n",
       "</pre>\n"
      ],
      "text/plain": [
       "/var/folders/7t/k8q3439j6z3c683j7w00wtm80000gn/T/ipykernel_58430/1419766920.py:27: FutureWarning: The behavior of \n",
       "DataFrame concatenation with empty or all-NA entries is deprecated. In a future version, this will no longer \n",
       "exclude empty or all-NA columns when determining the result dtypes. To retain the old behavior, exclude the \n",
       "relevant entries before the concat operation.\n",
       "  results = pd.concat([results, normalized_data]) #.dropna(axis=1, how=\"all\")])\n"
      ]
     },
     "metadata": {},
     "output_type": "display_data"
    },
    {
     "data": {
      "text/html": [
       "<pre style=\"white-space:pre;overflow-x:auto;line-height:normal;font-family:Menlo,'DejaVu Sans Mono',consolas,'Courier New',monospace\">/var/folders/7t/k8q3439j6z3c683j7w00wtm80000gn/T/ipykernel_58430/1419766920.py:27: FutureWarning: The behavior of \n",
       "DataFrame concatenation with empty or all-NA entries is deprecated. In a future version, this will no longer \n",
       "exclude empty or all-NA columns when determining the result dtypes. To retain the old behavior, exclude the \n",
       "relevant entries before the concat operation.\n",
       "  results = pd.concat([results, normalized_data]) #.dropna(axis=1, how=\"all\")])\n",
       "</pre>\n"
      ],
      "text/plain": [
       "/var/folders/7t/k8q3439j6z3c683j7w00wtm80000gn/T/ipykernel_58430/1419766920.py:27: FutureWarning: The behavior of \n",
       "DataFrame concatenation with empty or all-NA entries is deprecated. In a future version, this will no longer \n",
       "exclude empty or all-NA columns when determining the result dtypes. To retain the old behavior, exclude the \n",
       "relevant entries before the concat operation.\n",
       "  results = pd.concat([results, normalized_data]) #.dropna(axis=1, how=\"all\")])\n"
      ]
     },
     "metadata": {},
     "output_type": "display_data"
    },
    {
     "data": {
      "text/html": [
       "<pre style=\"white-space:pre;overflow-x:auto;line-height:normal;font-family:Menlo,'DejaVu Sans Mono',consolas,'Courier New',monospace\">/var/folders/7t/k8q3439j6z3c683j7w00wtm80000gn/T/ipykernel_58430/1419766920.py:27: FutureWarning: The behavior of \n",
       "DataFrame concatenation with empty or all-NA entries is deprecated. In a future version, this will no longer \n",
       "exclude empty or all-NA columns when determining the result dtypes. To retain the old behavior, exclude the \n",
       "relevant entries before the concat operation.\n",
       "  results = pd.concat([results, normalized_data]) #.dropna(axis=1, how=\"all\")])\n",
       "</pre>\n"
      ],
      "text/plain": [
       "/var/folders/7t/k8q3439j6z3c683j7w00wtm80000gn/T/ipykernel_58430/1419766920.py:27: FutureWarning: The behavior of \n",
       "DataFrame concatenation with empty or all-NA entries is deprecated. In a future version, this will no longer \n",
       "exclude empty or all-NA columns when determining the result dtypes. To retain the old behavior, exclude the \n",
       "relevant entries before the concat operation.\n",
       "  results = pd.concat([results, normalized_data]) #.dropna(axis=1, how=\"all\")])\n"
      ]
     },
     "metadata": {},
     "output_type": "display_data"
    },
    {
     "data": {
      "text/html": [
       "<pre style=\"white-space:pre;overflow-x:auto;line-height:normal;font-family:Menlo,'DejaVu Sans Mono',consolas,'Courier New',monospace\">/var/folders/7t/k8q3439j6z3c683j7w00wtm80000gn/T/ipykernel_58430/1419766920.py:27: FutureWarning: The behavior of \n",
       "DataFrame concatenation with empty or all-NA entries is deprecated. In a future version, this will no longer \n",
       "exclude empty or all-NA columns when determining the result dtypes. To retain the old behavior, exclude the \n",
       "relevant entries before the concat operation.\n",
       "  results = pd.concat([results, normalized_data]) #.dropna(axis=1, how=\"all\")])\n",
       "</pre>\n"
      ],
      "text/plain": [
       "/var/folders/7t/k8q3439j6z3c683j7w00wtm80000gn/T/ipykernel_58430/1419766920.py:27: FutureWarning: The behavior of \n",
       "DataFrame concatenation with empty or all-NA entries is deprecated. In a future version, this will no longer \n",
       "exclude empty or all-NA columns when determining the result dtypes. To retain the old behavior, exclude the \n",
       "relevant entries before the concat operation.\n",
       "  results = pd.concat([results, normalized_data]) #.dropna(axis=1, how=\"all\")])\n"
      ]
     },
     "metadata": {},
     "output_type": "display_data"
    },
    {
     "data": {
      "text/html": [
       "<pre style=\"white-space:pre;overflow-x:auto;line-height:normal;font-family:Menlo,'DejaVu Sans Mono',consolas,'Courier New',monospace\">/var/folders/7t/k8q3439j6z3c683j7w00wtm80000gn/T/ipykernel_58430/1419766920.py:27: FutureWarning: The behavior of \n",
       "DataFrame concatenation with empty or all-NA entries is deprecated. In a future version, this will no longer \n",
       "exclude empty or all-NA columns when determining the result dtypes. To retain the old behavior, exclude the \n",
       "relevant entries before the concat operation.\n",
       "  results = pd.concat([results, normalized_data]) #.dropna(axis=1, how=\"all\")])\n",
       "</pre>\n"
      ],
      "text/plain": [
       "/var/folders/7t/k8q3439j6z3c683j7w00wtm80000gn/T/ipykernel_58430/1419766920.py:27: FutureWarning: The behavior of \n",
       "DataFrame concatenation with empty or all-NA entries is deprecated. In a future version, this will no longer \n",
       "exclude empty or all-NA columns when determining the result dtypes. To retain the old behavior, exclude the \n",
       "relevant entries before the concat operation.\n",
       "  results = pd.concat([results, normalized_data]) #.dropna(axis=1, how=\"all\")])\n"
      ]
     },
     "metadata": {},
     "output_type": "display_data"
    },
    {
     "data": {
      "text/html": [
       "<pre style=\"white-space:pre;overflow-x:auto;line-height:normal;font-family:Menlo,'DejaVu Sans Mono',consolas,'Courier New',monospace\">/var/folders/7t/k8q3439j6z3c683j7w00wtm80000gn/T/ipykernel_58430/1419766920.py:27: FutureWarning: The behavior of \n",
       "DataFrame concatenation with empty or all-NA entries is deprecated. In a future version, this will no longer \n",
       "exclude empty or all-NA columns when determining the result dtypes. To retain the old behavior, exclude the \n",
       "relevant entries before the concat operation.\n",
       "  results = pd.concat([results, normalized_data]) #.dropna(axis=1, how=\"all\")])\n",
       "</pre>\n"
      ],
      "text/plain": [
       "/var/folders/7t/k8q3439j6z3c683j7w00wtm80000gn/T/ipykernel_58430/1419766920.py:27: FutureWarning: The behavior of \n",
       "DataFrame concatenation with empty or all-NA entries is deprecated. In a future version, this will no longer \n",
       "exclude empty or all-NA columns when determining the result dtypes. To retain the old behavior, exclude the \n",
       "relevant entries before the concat operation.\n",
       "  results = pd.concat([results, normalized_data]) #.dropna(axis=1, how=\"all\")])\n"
      ]
     },
     "metadata": {},
     "output_type": "display_data"
    },
    {
     "data": {
      "text/html": [
       "<pre style=\"white-space:pre;overflow-x:auto;line-height:normal;font-family:Menlo,'DejaVu Sans Mono',consolas,'Courier New',monospace\">/var/folders/7t/k8q3439j6z3c683j7w00wtm80000gn/T/ipykernel_58430/1419766920.py:27: FutureWarning: The behavior of \n",
       "DataFrame concatenation with empty or all-NA entries is deprecated. In a future version, this will no longer \n",
       "exclude empty or all-NA columns when determining the result dtypes. To retain the old behavior, exclude the \n",
       "relevant entries before the concat operation.\n",
       "  results = pd.concat([results, normalized_data]) #.dropna(axis=1, how=\"all\")])\n",
       "</pre>\n"
      ],
      "text/plain": [
       "/var/folders/7t/k8q3439j6z3c683j7w00wtm80000gn/T/ipykernel_58430/1419766920.py:27: FutureWarning: The behavior of \n",
       "DataFrame concatenation with empty or all-NA entries is deprecated. In a future version, this will no longer \n",
       "exclude empty or all-NA columns when determining the result dtypes. To retain the old behavior, exclude the \n",
       "relevant entries before the concat operation.\n",
       "  results = pd.concat([results, normalized_data]) #.dropna(axis=1, how=\"all\")])\n"
      ]
     },
     "metadata": {},
     "output_type": "display_data"
    },
    {
     "data": {
      "text/html": [
       "<pre style=\"white-space:pre;overflow-x:auto;line-height:normal;font-family:Menlo,'DejaVu Sans Mono',consolas,'Courier New',monospace\">/var/folders/7t/k8q3439j6z3c683j7w00wtm80000gn/T/ipykernel_58430/1419766920.py:27: FutureWarning: The behavior of \n",
       "DataFrame concatenation with empty or all-NA entries is deprecated. In a future version, this will no longer \n",
       "exclude empty or all-NA columns when determining the result dtypes. To retain the old behavior, exclude the \n",
       "relevant entries before the concat operation.\n",
       "  results = pd.concat([results, normalized_data]) #.dropna(axis=1, how=\"all\")])\n",
       "</pre>\n"
      ],
      "text/plain": [
       "/var/folders/7t/k8q3439j6z3c683j7w00wtm80000gn/T/ipykernel_58430/1419766920.py:27: FutureWarning: The behavior of \n",
       "DataFrame concatenation with empty or all-NA entries is deprecated. In a future version, this will no longer \n",
       "exclude empty or all-NA columns when determining the result dtypes. To retain the old behavior, exclude the \n",
       "relevant entries before the concat operation.\n",
       "  results = pd.concat([results, normalized_data]) #.dropna(axis=1, how=\"all\")])\n"
      ]
     },
     "metadata": {},
     "output_type": "display_data"
    },
    {
     "data": {
      "text/html": [
       "<pre style=\"white-space:pre;overflow-x:auto;line-height:normal;font-family:Menlo,'DejaVu Sans Mono',consolas,'Courier New',monospace\">/var/folders/7t/k8q3439j6z3c683j7w00wtm80000gn/T/ipykernel_58430/1419766920.py:27: FutureWarning: The behavior of \n",
       "DataFrame concatenation with empty or all-NA entries is deprecated. In a future version, this will no longer \n",
       "exclude empty or all-NA columns when determining the result dtypes. To retain the old behavior, exclude the \n",
       "relevant entries before the concat operation.\n",
       "  results = pd.concat([results, normalized_data]) #.dropna(axis=1, how=\"all\")])\n",
       "</pre>\n"
      ],
      "text/plain": [
       "/var/folders/7t/k8q3439j6z3c683j7w00wtm80000gn/T/ipykernel_58430/1419766920.py:27: FutureWarning: The behavior of \n",
       "DataFrame concatenation with empty or all-NA entries is deprecated. In a future version, this will no longer \n",
       "exclude empty or all-NA columns when determining the result dtypes. To retain the old behavior, exclude the \n",
       "relevant entries before the concat operation.\n",
       "  results = pd.concat([results, normalized_data]) #.dropna(axis=1, how=\"all\")])\n"
      ]
     },
     "metadata": {},
     "output_type": "display_data"
    },
    {
     "data": {
      "text/html": [
       "<pre style=\"white-space:pre;overflow-x:auto;line-height:normal;font-family:Menlo,'DejaVu Sans Mono',consolas,'Courier New',monospace\">/var/folders/7t/k8q3439j6z3c683j7w00wtm80000gn/T/ipykernel_58430/1419766920.py:27: FutureWarning: The behavior of \n",
       "DataFrame concatenation with empty or all-NA entries is deprecated. In a future version, this will no longer \n",
       "exclude empty or all-NA columns when determining the result dtypes. To retain the old behavior, exclude the \n",
       "relevant entries before the concat operation.\n",
       "  results = pd.concat([results, normalized_data]) #.dropna(axis=1, how=\"all\")])\n",
       "</pre>\n"
      ],
      "text/plain": [
       "/var/folders/7t/k8q3439j6z3c683j7w00wtm80000gn/T/ipykernel_58430/1419766920.py:27: FutureWarning: The behavior of \n",
       "DataFrame concatenation with empty or all-NA entries is deprecated. In a future version, this will no longer \n",
       "exclude empty or all-NA columns when determining the result dtypes. To retain the old behavior, exclude the \n",
       "relevant entries before the concat operation.\n",
       "  results = pd.concat([results, normalized_data]) #.dropna(axis=1, how=\"all\")])\n"
      ]
     },
     "metadata": {},
     "output_type": "display_data"
    },
    {
     "data": {
      "text/html": [
       "<pre style=\"white-space:pre;overflow-x:auto;line-height:normal;font-family:Menlo,'DejaVu Sans Mono',consolas,'Courier New',monospace\">/var/folders/7t/k8q3439j6z3c683j7w00wtm80000gn/T/ipykernel_58430/1419766920.py:27: FutureWarning: The behavior of \n",
       "DataFrame concatenation with empty or all-NA entries is deprecated. In a future version, this will no longer \n",
       "exclude empty or all-NA columns when determining the result dtypes. To retain the old behavior, exclude the \n",
       "relevant entries before the concat operation.\n",
       "  results = pd.concat([results, normalized_data]) #.dropna(axis=1, how=\"all\")])\n",
       "</pre>\n"
      ],
      "text/plain": [
       "/var/folders/7t/k8q3439j6z3c683j7w00wtm80000gn/T/ipykernel_58430/1419766920.py:27: FutureWarning: The behavior of \n",
       "DataFrame concatenation with empty or all-NA entries is deprecated. In a future version, this will no longer \n",
       "exclude empty or all-NA columns when determining the result dtypes. To retain the old behavior, exclude the \n",
       "relevant entries before the concat operation.\n",
       "  results = pd.concat([results, normalized_data]) #.dropna(axis=1, how=\"all\")])\n"
      ]
     },
     "metadata": {},
     "output_type": "display_data"
    },
    {
     "data": {
      "text/html": [
       "<pre style=\"white-space:pre;overflow-x:auto;line-height:normal;font-family:Menlo,'DejaVu Sans Mono',consolas,'Courier New',monospace\">/var/folders/7t/k8q3439j6z3c683j7w00wtm80000gn/T/ipykernel_58430/1419766920.py:27: FutureWarning: The behavior of \n",
       "DataFrame concatenation with empty or all-NA entries is deprecated. In a future version, this will no longer \n",
       "exclude empty or all-NA columns when determining the result dtypes. To retain the old behavior, exclude the \n",
       "relevant entries before the concat operation.\n",
       "  results = pd.concat([results, normalized_data]) #.dropna(axis=1, how=\"all\")])\n",
       "</pre>\n"
      ],
      "text/plain": [
       "/var/folders/7t/k8q3439j6z3c683j7w00wtm80000gn/T/ipykernel_58430/1419766920.py:27: FutureWarning: The behavior of \n",
       "DataFrame concatenation with empty or all-NA entries is deprecated. In a future version, this will no longer \n",
       "exclude empty or all-NA columns when determining the result dtypes. To retain the old behavior, exclude the \n",
       "relevant entries before the concat operation.\n",
       "  results = pd.concat([results, normalized_data]) #.dropna(axis=1, how=\"all\")])\n"
      ]
     },
     "metadata": {},
     "output_type": "display_data"
    },
    {
     "data": {
      "text/html": [
       "<pre style=\"white-space:pre;overflow-x:auto;line-height:normal;font-family:Menlo,'DejaVu Sans Mono',consolas,'Courier New',monospace\">/var/folders/7t/k8q3439j6z3c683j7w00wtm80000gn/T/ipykernel_58430/1419766920.py:27: FutureWarning: The behavior of \n",
       "DataFrame concatenation with empty or all-NA entries is deprecated. In a future version, this will no longer \n",
       "exclude empty or all-NA columns when determining the result dtypes. To retain the old behavior, exclude the \n",
       "relevant entries before the concat operation.\n",
       "  results = pd.concat([results, normalized_data]) #.dropna(axis=1, how=\"all\")])\n",
       "</pre>\n"
      ],
      "text/plain": [
       "/var/folders/7t/k8q3439j6z3c683j7w00wtm80000gn/T/ipykernel_58430/1419766920.py:27: FutureWarning: The behavior of \n",
       "DataFrame concatenation with empty or all-NA entries is deprecated. In a future version, this will no longer \n",
       "exclude empty or all-NA columns when determining the result dtypes. To retain the old behavior, exclude the \n",
       "relevant entries before the concat operation.\n",
       "  results = pd.concat([results, normalized_data]) #.dropna(axis=1, how=\"all\")])\n"
      ]
     },
     "metadata": {},
     "output_type": "display_data"
    },
    {
     "data": {
      "text/html": [
       "<pre style=\"white-space:pre;overflow-x:auto;line-height:normal;font-family:Menlo,'DejaVu Sans Mono',consolas,'Courier New',monospace\">/var/folders/7t/k8q3439j6z3c683j7w00wtm80000gn/T/ipykernel_58430/1419766920.py:27: FutureWarning: The behavior of \n",
       "DataFrame concatenation with empty or all-NA entries is deprecated. In a future version, this will no longer \n",
       "exclude empty or all-NA columns when determining the result dtypes. To retain the old behavior, exclude the \n",
       "relevant entries before the concat operation.\n",
       "  results = pd.concat([results, normalized_data]) #.dropna(axis=1, how=\"all\")])\n",
       "</pre>\n"
      ],
      "text/plain": [
       "/var/folders/7t/k8q3439j6z3c683j7w00wtm80000gn/T/ipykernel_58430/1419766920.py:27: FutureWarning: The behavior of \n",
       "DataFrame concatenation with empty or all-NA entries is deprecated. In a future version, this will no longer \n",
       "exclude empty or all-NA columns when determining the result dtypes. To retain the old behavior, exclude the \n",
       "relevant entries before the concat operation.\n",
       "  results = pd.concat([results, normalized_data]) #.dropna(axis=1, how=\"all\")])\n"
      ]
     },
     "metadata": {},
     "output_type": "display_data"
    },
    {
     "data": {
      "text/html": [
       "<pre style=\"white-space:pre;overflow-x:auto;line-height:normal;font-family:Menlo,'DejaVu Sans Mono',consolas,'Courier New',monospace\">/var/folders/7t/k8q3439j6z3c683j7w00wtm80000gn/T/ipykernel_58430/1419766920.py:27: FutureWarning: The behavior of \n",
       "DataFrame concatenation with empty or all-NA entries is deprecated. In a future version, this will no longer \n",
       "exclude empty or all-NA columns when determining the result dtypes. To retain the old behavior, exclude the \n",
       "relevant entries before the concat operation.\n",
       "  results = pd.concat([results, normalized_data]) #.dropna(axis=1, how=\"all\")])\n",
       "</pre>\n"
      ],
      "text/plain": [
       "/var/folders/7t/k8q3439j6z3c683j7w00wtm80000gn/T/ipykernel_58430/1419766920.py:27: FutureWarning: The behavior of \n",
       "DataFrame concatenation with empty or all-NA entries is deprecated. In a future version, this will no longer \n",
       "exclude empty or all-NA columns when determining the result dtypes. To retain the old behavior, exclude the \n",
       "relevant entries before the concat operation.\n",
       "  results = pd.concat([results, normalized_data]) #.dropna(axis=1, how=\"all\")])\n"
      ]
     },
     "metadata": {},
     "output_type": "display_data"
    },
    {
     "data": {
      "text/html": [
       "<pre style=\"white-space:pre;overflow-x:auto;line-height:normal;font-family:Menlo,'DejaVu Sans Mono',consolas,'Courier New',monospace\">/var/folders/7t/k8q3439j6z3c683j7w00wtm80000gn/T/ipykernel_58430/1419766920.py:27: FutureWarning: The behavior of \n",
       "DataFrame concatenation with empty or all-NA entries is deprecated. In a future version, this will no longer \n",
       "exclude empty or all-NA columns when determining the result dtypes. To retain the old behavior, exclude the \n",
       "relevant entries before the concat operation.\n",
       "  results = pd.concat([results, normalized_data]) #.dropna(axis=1, how=\"all\")])\n",
       "</pre>\n"
      ],
      "text/plain": [
       "/var/folders/7t/k8q3439j6z3c683j7w00wtm80000gn/T/ipykernel_58430/1419766920.py:27: FutureWarning: The behavior of \n",
       "DataFrame concatenation with empty or all-NA entries is deprecated. In a future version, this will no longer \n",
       "exclude empty or all-NA columns when determining the result dtypes. To retain the old behavior, exclude the \n",
       "relevant entries before the concat operation.\n",
       "  results = pd.concat([results, normalized_data]) #.dropna(axis=1, how=\"all\")])\n"
      ]
     },
     "metadata": {},
     "output_type": "display_data"
    },
    {
     "data": {
      "text/html": [
       "<pre style=\"white-space:pre;overflow-x:auto;line-height:normal;font-family:Menlo,'DejaVu Sans Mono',consolas,'Courier New',monospace\">/var/folders/7t/k8q3439j6z3c683j7w00wtm80000gn/T/ipykernel_58430/1419766920.py:27: FutureWarning: The behavior of \n",
       "DataFrame concatenation with empty or all-NA entries is deprecated. In a future version, this will no longer \n",
       "exclude empty or all-NA columns when determining the result dtypes. To retain the old behavior, exclude the \n",
       "relevant entries before the concat operation.\n",
       "  results = pd.concat([results, normalized_data]) #.dropna(axis=1, how=\"all\")])\n",
       "</pre>\n"
      ],
      "text/plain": [
       "/var/folders/7t/k8q3439j6z3c683j7w00wtm80000gn/T/ipykernel_58430/1419766920.py:27: FutureWarning: The behavior of \n",
       "DataFrame concatenation with empty or all-NA entries is deprecated. In a future version, this will no longer \n",
       "exclude empty or all-NA columns when determining the result dtypes. To retain the old behavior, exclude the \n",
       "relevant entries before the concat operation.\n",
       "  results = pd.concat([results, normalized_data]) #.dropna(axis=1, how=\"all\")])\n"
      ]
     },
     "metadata": {},
     "output_type": "display_data"
    },
    {
     "data": {
      "text/html": [
       "<pre style=\"white-space:pre;overflow-x:auto;line-height:normal;font-family:Menlo,'DejaVu Sans Mono',consolas,'Courier New',monospace\">/var/folders/7t/k8q3439j6z3c683j7w00wtm80000gn/T/ipykernel_58430/1419766920.py:27: FutureWarning: The behavior of \n",
       "DataFrame concatenation with empty or all-NA entries is deprecated. In a future version, this will no longer \n",
       "exclude empty or all-NA columns when determining the result dtypes. To retain the old behavior, exclude the \n",
       "relevant entries before the concat operation.\n",
       "  results = pd.concat([results, normalized_data]) #.dropna(axis=1, how=\"all\")])\n",
       "</pre>\n"
      ],
      "text/plain": [
       "/var/folders/7t/k8q3439j6z3c683j7w00wtm80000gn/T/ipykernel_58430/1419766920.py:27: FutureWarning: The behavior of \n",
       "DataFrame concatenation with empty or all-NA entries is deprecated. In a future version, this will no longer \n",
       "exclude empty or all-NA columns when determining the result dtypes. To retain the old behavior, exclude the \n",
       "relevant entries before the concat operation.\n",
       "  results = pd.concat([results, normalized_data]) #.dropna(axis=1, how=\"all\")])\n"
      ]
     },
     "metadata": {},
     "output_type": "display_data"
    },
    {
     "data": {
      "text/html": [
       "<pre style=\"white-space:pre;overflow-x:auto;line-height:normal;font-family:Menlo,'DejaVu Sans Mono',consolas,'Courier New',monospace\">/var/folders/7t/k8q3439j6z3c683j7w00wtm80000gn/T/ipykernel_58430/1419766920.py:27: FutureWarning: The behavior of \n",
       "DataFrame concatenation with empty or all-NA entries is deprecated. In a future version, this will no longer \n",
       "exclude empty or all-NA columns when determining the result dtypes. To retain the old behavior, exclude the \n",
       "relevant entries before the concat operation.\n",
       "  results = pd.concat([results, normalized_data]) #.dropna(axis=1, how=\"all\")])\n",
       "</pre>\n"
      ],
      "text/plain": [
       "/var/folders/7t/k8q3439j6z3c683j7w00wtm80000gn/T/ipykernel_58430/1419766920.py:27: FutureWarning: The behavior of \n",
       "DataFrame concatenation with empty or all-NA entries is deprecated. In a future version, this will no longer \n",
       "exclude empty or all-NA columns when determining the result dtypes. To retain the old behavior, exclude the \n",
       "relevant entries before the concat operation.\n",
       "  results = pd.concat([results, normalized_data]) #.dropna(axis=1, how=\"all\")])\n"
      ]
     },
     "metadata": {},
     "output_type": "display_data"
    },
    {
     "data": {
      "text/html": [
       "<pre style=\"white-space:pre;overflow-x:auto;line-height:normal;font-family:Menlo,'DejaVu Sans Mono',consolas,'Courier New',monospace\">/var/folders/7t/k8q3439j6z3c683j7w00wtm80000gn/T/ipykernel_58430/1419766920.py:27: FutureWarning: The behavior of \n",
       "DataFrame concatenation with empty or all-NA entries is deprecated. In a future version, this will no longer \n",
       "exclude empty or all-NA columns when determining the result dtypes. To retain the old behavior, exclude the \n",
       "relevant entries before the concat operation.\n",
       "  results = pd.concat([results, normalized_data]) #.dropna(axis=1, how=\"all\")])\n",
       "</pre>\n"
      ],
      "text/plain": [
       "/var/folders/7t/k8q3439j6z3c683j7w00wtm80000gn/T/ipykernel_58430/1419766920.py:27: FutureWarning: The behavior of \n",
       "DataFrame concatenation with empty or all-NA entries is deprecated. In a future version, this will no longer \n",
       "exclude empty or all-NA columns when determining the result dtypes. To retain the old behavior, exclude the \n",
       "relevant entries before the concat operation.\n",
       "  results = pd.concat([results, normalized_data]) #.dropna(axis=1, how=\"all\")])\n"
      ]
     },
     "metadata": {},
     "output_type": "display_data"
    },
    {
     "data": {
      "text/html": [
       "<pre style=\"white-space:pre;overflow-x:auto;line-height:normal;font-family:Menlo,'DejaVu Sans Mono',consolas,'Courier New',monospace\">/var/folders/7t/k8q3439j6z3c683j7w00wtm80000gn/T/ipykernel_58430/1419766920.py:27: FutureWarning: The behavior of \n",
       "DataFrame concatenation with empty or all-NA entries is deprecated. In a future version, this will no longer \n",
       "exclude empty or all-NA columns when determining the result dtypes. To retain the old behavior, exclude the \n",
       "relevant entries before the concat operation.\n",
       "  results = pd.concat([results, normalized_data]) #.dropna(axis=1, how=\"all\")])\n",
       "</pre>\n"
      ],
      "text/plain": [
       "/var/folders/7t/k8q3439j6z3c683j7w00wtm80000gn/T/ipykernel_58430/1419766920.py:27: FutureWarning: The behavior of \n",
       "DataFrame concatenation with empty or all-NA entries is deprecated. In a future version, this will no longer \n",
       "exclude empty or all-NA columns when determining the result dtypes. To retain the old behavior, exclude the \n",
       "relevant entries before the concat operation.\n",
       "  results = pd.concat([results, normalized_data]) #.dropna(axis=1, how=\"all\")])\n"
      ]
     },
     "metadata": {},
     "output_type": "display_data"
    },
    {
     "data": {
      "text/html": [
       "<pre style=\"white-space:pre;overflow-x:auto;line-height:normal;font-family:Menlo,'DejaVu Sans Mono',consolas,'Courier New',monospace\">/var/folders/7t/k8q3439j6z3c683j7w00wtm80000gn/T/ipykernel_58430/1419766920.py:27: FutureWarning: The behavior of \n",
       "DataFrame concatenation with empty or all-NA entries is deprecated. In a future version, this will no longer \n",
       "exclude empty or all-NA columns when determining the result dtypes. To retain the old behavior, exclude the \n",
       "relevant entries before the concat operation.\n",
       "  results = pd.concat([results, normalized_data]) #.dropna(axis=1, how=\"all\")])\n",
       "</pre>\n"
      ],
      "text/plain": [
       "/var/folders/7t/k8q3439j6z3c683j7w00wtm80000gn/T/ipykernel_58430/1419766920.py:27: FutureWarning: The behavior of \n",
       "DataFrame concatenation with empty or all-NA entries is deprecated. In a future version, this will no longer \n",
       "exclude empty or all-NA columns when determining the result dtypes. To retain the old behavior, exclude the \n",
       "relevant entries before the concat operation.\n",
       "  results = pd.concat([results, normalized_data]) #.dropna(axis=1, how=\"all\")])\n"
      ]
     },
     "metadata": {},
     "output_type": "display_data"
    },
    {
     "data": {
      "text/html": [
       "<pre style=\"white-space:pre;overflow-x:auto;line-height:normal;font-family:Menlo,'DejaVu Sans Mono',consolas,'Courier New',monospace\">/var/folders/7t/k8q3439j6z3c683j7w00wtm80000gn/T/ipykernel_58430/1419766920.py:27: FutureWarning: The behavior of \n",
       "DataFrame concatenation with empty or all-NA entries is deprecated. In a future version, this will no longer \n",
       "exclude empty or all-NA columns when determining the result dtypes. To retain the old behavior, exclude the \n",
       "relevant entries before the concat operation.\n",
       "  results = pd.concat([results, normalized_data]) #.dropna(axis=1, how=\"all\")])\n",
       "</pre>\n"
      ],
      "text/plain": [
       "/var/folders/7t/k8q3439j6z3c683j7w00wtm80000gn/T/ipykernel_58430/1419766920.py:27: FutureWarning: The behavior of \n",
       "DataFrame concatenation with empty or all-NA entries is deprecated. In a future version, this will no longer \n",
       "exclude empty or all-NA columns when determining the result dtypes. To retain the old behavior, exclude the \n",
       "relevant entries before the concat operation.\n",
       "  results = pd.concat([results, normalized_data]) #.dropna(axis=1, how=\"all\")])\n"
      ]
     },
     "metadata": {},
     "output_type": "display_data"
    },
    {
     "data": {
      "text/html": [
       "<pre style=\"white-space:pre;overflow-x:auto;line-height:normal;font-family:Menlo,'DejaVu Sans Mono',consolas,'Courier New',monospace\">/var/folders/7t/k8q3439j6z3c683j7w00wtm80000gn/T/ipykernel_58430/1419766920.py:27: FutureWarning: The behavior of \n",
       "DataFrame concatenation with empty or all-NA entries is deprecated. In a future version, this will no longer \n",
       "exclude empty or all-NA columns when determining the result dtypes. To retain the old behavior, exclude the \n",
       "relevant entries before the concat operation.\n",
       "  results = pd.concat([results, normalized_data]) #.dropna(axis=1, how=\"all\")])\n",
       "</pre>\n"
      ],
      "text/plain": [
       "/var/folders/7t/k8q3439j6z3c683j7w00wtm80000gn/T/ipykernel_58430/1419766920.py:27: FutureWarning: The behavior of \n",
       "DataFrame concatenation with empty or all-NA entries is deprecated. In a future version, this will no longer \n",
       "exclude empty or all-NA columns when determining the result dtypes. To retain the old behavior, exclude the \n",
       "relevant entries before the concat operation.\n",
       "  results = pd.concat([results, normalized_data]) #.dropna(axis=1, how=\"all\")])\n"
      ]
     },
     "metadata": {},
     "output_type": "display_data"
    },
    {
     "data": {
      "text/html": [
       "<pre style=\"white-space:pre;overflow-x:auto;line-height:normal;font-family:Menlo,'DejaVu Sans Mono',consolas,'Courier New',monospace\">/var/folders/7t/k8q3439j6z3c683j7w00wtm80000gn/T/ipykernel_58430/1419766920.py:27: FutureWarning: The behavior of \n",
       "DataFrame concatenation with empty or all-NA entries is deprecated. In a future version, this will no longer \n",
       "exclude empty or all-NA columns when determining the result dtypes. To retain the old behavior, exclude the \n",
       "relevant entries before the concat operation.\n",
       "  results = pd.concat([results, normalized_data]) #.dropna(axis=1, how=\"all\")])\n",
       "</pre>\n"
      ],
      "text/plain": [
       "/var/folders/7t/k8q3439j6z3c683j7w00wtm80000gn/T/ipykernel_58430/1419766920.py:27: FutureWarning: The behavior of \n",
       "DataFrame concatenation with empty or all-NA entries is deprecated. In a future version, this will no longer \n",
       "exclude empty or all-NA columns when determining the result dtypes. To retain the old behavior, exclude the \n",
       "relevant entries before the concat operation.\n",
       "  results = pd.concat([results, normalized_data]) #.dropna(axis=1, how=\"all\")])\n"
      ]
     },
     "metadata": {},
     "output_type": "display_data"
    },
    {
     "data": {
      "text/html": [
       "<pre style=\"white-space:pre;overflow-x:auto;line-height:normal;font-family:Menlo,'DejaVu Sans Mono',consolas,'Courier New',monospace\">/var/folders/7t/k8q3439j6z3c683j7w00wtm80000gn/T/ipykernel_58430/1419766920.py:27: FutureWarning: The behavior of \n",
       "DataFrame concatenation with empty or all-NA entries is deprecated. In a future version, this will no longer \n",
       "exclude empty or all-NA columns when determining the result dtypes. To retain the old behavior, exclude the \n",
       "relevant entries before the concat operation.\n",
       "  results = pd.concat([results, normalized_data]) #.dropna(axis=1, how=\"all\")])\n",
       "</pre>\n"
      ],
      "text/plain": [
       "/var/folders/7t/k8q3439j6z3c683j7w00wtm80000gn/T/ipykernel_58430/1419766920.py:27: FutureWarning: The behavior of \n",
       "DataFrame concatenation with empty or all-NA entries is deprecated. In a future version, this will no longer \n",
       "exclude empty or all-NA columns when determining the result dtypes. To retain the old behavior, exclude the \n",
       "relevant entries before the concat operation.\n",
       "  results = pd.concat([results, normalized_data]) #.dropna(axis=1, how=\"all\")])\n"
      ]
     },
     "metadata": {},
     "output_type": "display_data"
    },
    {
     "data": {
      "text/html": [
       "<pre style=\"white-space:pre;overflow-x:auto;line-height:normal;font-family:Menlo,'DejaVu Sans Mono',consolas,'Courier New',monospace\">/var/folders/7t/k8q3439j6z3c683j7w00wtm80000gn/T/ipykernel_58430/1419766920.py:27: FutureWarning: The behavior of \n",
       "DataFrame concatenation with empty or all-NA entries is deprecated. In a future version, this will no longer \n",
       "exclude empty or all-NA columns when determining the result dtypes. To retain the old behavior, exclude the \n",
       "relevant entries before the concat operation.\n",
       "  results = pd.concat([results, normalized_data]) #.dropna(axis=1, how=\"all\")])\n",
       "</pre>\n"
      ],
      "text/plain": [
       "/var/folders/7t/k8q3439j6z3c683j7w00wtm80000gn/T/ipykernel_58430/1419766920.py:27: FutureWarning: The behavior of \n",
       "DataFrame concatenation with empty or all-NA entries is deprecated. In a future version, this will no longer \n",
       "exclude empty or all-NA columns when determining the result dtypes. To retain the old behavior, exclude the \n",
       "relevant entries before the concat operation.\n",
       "  results = pd.concat([results, normalized_data]) #.dropna(axis=1, how=\"all\")])\n"
      ]
     },
     "metadata": {},
     "output_type": "display_data"
    },
    {
     "data": {
      "text/html": [
       "<pre style=\"white-space:pre;overflow-x:auto;line-height:normal;font-family:Menlo,'DejaVu Sans Mono',consolas,'Courier New',monospace\">/var/folders/7t/k8q3439j6z3c683j7w00wtm80000gn/T/ipykernel_58430/1419766920.py:27: FutureWarning: The behavior of \n",
       "DataFrame concatenation with empty or all-NA entries is deprecated. In a future version, this will no longer \n",
       "exclude empty or all-NA columns when determining the result dtypes. To retain the old behavior, exclude the \n",
       "relevant entries before the concat operation.\n",
       "  results = pd.concat([results, normalized_data]) #.dropna(axis=1, how=\"all\")])\n",
       "</pre>\n"
      ],
      "text/plain": [
       "/var/folders/7t/k8q3439j6z3c683j7w00wtm80000gn/T/ipykernel_58430/1419766920.py:27: FutureWarning: The behavior of \n",
       "DataFrame concatenation with empty or all-NA entries is deprecated. In a future version, this will no longer \n",
       "exclude empty or all-NA columns when determining the result dtypes. To retain the old behavior, exclude the \n",
       "relevant entries before the concat operation.\n",
       "  results = pd.concat([results, normalized_data]) #.dropna(axis=1, how=\"all\")])\n"
      ]
     },
     "metadata": {},
     "output_type": "display_data"
    },
    {
     "data": {
      "text/html": [
       "<pre style=\"white-space:pre;overflow-x:auto;line-height:normal;font-family:Menlo,'DejaVu Sans Mono',consolas,'Courier New',monospace\">/var/folders/7t/k8q3439j6z3c683j7w00wtm80000gn/T/ipykernel_58430/1419766920.py:27: FutureWarning: The behavior of \n",
       "DataFrame concatenation with empty or all-NA entries is deprecated. In a future version, this will no longer \n",
       "exclude empty or all-NA columns when determining the result dtypes. To retain the old behavior, exclude the \n",
       "relevant entries before the concat operation.\n",
       "  results = pd.concat([results, normalized_data]) #.dropna(axis=1, how=\"all\")])\n",
       "</pre>\n"
      ],
      "text/plain": [
       "/var/folders/7t/k8q3439j6z3c683j7w00wtm80000gn/T/ipykernel_58430/1419766920.py:27: FutureWarning: The behavior of \n",
       "DataFrame concatenation with empty or all-NA entries is deprecated. In a future version, this will no longer \n",
       "exclude empty or all-NA columns when determining the result dtypes. To retain the old behavior, exclude the \n",
       "relevant entries before the concat operation.\n",
       "  results = pd.concat([results, normalized_data]) #.dropna(axis=1, how=\"all\")])\n"
      ]
     },
     "metadata": {},
     "output_type": "display_data"
    },
    {
     "data": {
      "text/html": [
       "<pre style=\"white-space:pre;overflow-x:auto;line-height:normal;font-family:Menlo,'DejaVu Sans Mono',consolas,'Courier New',monospace\">/var/folders/7t/k8q3439j6z3c683j7w00wtm80000gn/T/ipykernel_58430/1419766920.py:27: FutureWarning: The behavior of \n",
       "DataFrame concatenation with empty or all-NA entries is deprecated. In a future version, this will no longer \n",
       "exclude empty or all-NA columns when determining the result dtypes. To retain the old behavior, exclude the \n",
       "relevant entries before the concat operation.\n",
       "  results = pd.concat([results, normalized_data]) #.dropna(axis=1, how=\"all\")])\n",
       "</pre>\n"
      ],
      "text/plain": [
       "/var/folders/7t/k8q3439j6z3c683j7w00wtm80000gn/T/ipykernel_58430/1419766920.py:27: FutureWarning: The behavior of \n",
       "DataFrame concatenation with empty or all-NA entries is deprecated. In a future version, this will no longer \n",
       "exclude empty or all-NA columns when determining the result dtypes. To retain the old behavior, exclude the \n",
       "relevant entries before the concat operation.\n",
       "  results = pd.concat([results, normalized_data]) #.dropna(axis=1, how=\"all\")])\n"
      ]
     },
     "metadata": {},
     "output_type": "display_data"
    },
    {
     "data": {
      "text/html": [
       "<pre style=\"white-space:pre;overflow-x:auto;line-height:normal;font-family:Menlo,'DejaVu Sans Mono',consolas,'Courier New',monospace\">/var/folders/7t/k8q3439j6z3c683j7w00wtm80000gn/T/ipykernel_58430/1419766920.py:27: FutureWarning: The behavior of \n",
       "DataFrame concatenation with empty or all-NA entries is deprecated. In a future version, this will no longer \n",
       "exclude empty or all-NA columns when determining the result dtypes. To retain the old behavior, exclude the \n",
       "relevant entries before the concat operation.\n",
       "  results = pd.concat([results, normalized_data]) #.dropna(axis=1, how=\"all\")])\n",
       "</pre>\n"
      ],
      "text/plain": [
       "/var/folders/7t/k8q3439j6z3c683j7w00wtm80000gn/T/ipykernel_58430/1419766920.py:27: FutureWarning: The behavior of \n",
       "DataFrame concatenation with empty or all-NA entries is deprecated. In a future version, this will no longer \n",
       "exclude empty or all-NA columns when determining the result dtypes. To retain the old behavior, exclude the \n",
       "relevant entries before the concat operation.\n",
       "  results = pd.concat([results, normalized_data]) #.dropna(axis=1, how=\"all\")])\n"
      ]
     },
     "metadata": {},
     "output_type": "display_data"
    },
    {
     "data": {
      "text/html": [
       "<pre style=\"white-space:pre;overflow-x:auto;line-height:normal;font-family:Menlo,'DejaVu Sans Mono',consolas,'Courier New',monospace\">/var/folders/7t/k8q3439j6z3c683j7w00wtm80000gn/T/ipykernel_58430/1419766920.py:27: FutureWarning: The behavior of \n",
       "DataFrame concatenation with empty or all-NA entries is deprecated. In a future version, this will no longer \n",
       "exclude empty or all-NA columns when determining the result dtypes. To retain the old behavior, exclude the \n",
       "relevant entries before the concat operation.\n",
       "  results = pd.concat([results, normalized_data]) #.dropna(axis=1, how=\"all\")])\n",
       "</pre>\n"
      ],
      "text/plain": [
       "/var/folders/7t/k8q3439j6z3c683j7w00wtm80000gn/T/ipykernel_58430/1419766920.py:27: FutureWarning: The behavior of \n",
       "DataFrame concatenation with empty or all-NA entries is deprecated. In a future version, this will no longer \n",
       "exclude empty or all-NA columns when determining the result dtypes. To retain the old behavior, exclude the \n",
       "relevant entries before the concat operation.\n",
       "  results = pd.concat([results, normalized_data]) #.dropna(axis=1, how=\"all\")])\n"
      ]
     },
     "metadata": {},
     "output_type": "display_data"
    },
    {
     "data": {
      "text/html": [
       "<pre style=\"white-space:pre;overflow-x:auto;line-height:normal;font-family:Menlo,'DejaVu Sans Mono',consolas,'Courier New',monospace\">/var/folders/7t/k8q3439j6z3c683j7w00wtm80000gn/T/ipykernel_58430/1419766920.py:27: FutureWarning: The behavior of \n",
       "DataFrame concatenation with empty or all-NA entries is deprecated. In a future version, this will no longer \n",
       "exclude empty or all-NA columns when determining the result dtypes. To retain the old behavior, exclude the \n",
       "relevant entries before the concat operation.\n",
       "  results = pd.concat([results, normalized_data]) #.dropna(axis=1, how=\"all\")])\n",
       "</pre>\n"
      ],
      "text/plain": [
       "/var/folders/7t/k8q3439j6z3c683j7w00wtm80000gn/T/ipykernel_58430/1419766920.py:27: FutureWarning: The behavior of \n",
       "DataFrame concatenation with empty or all-NA entries is deprecated. In a future version, this will no longer \n",
       "exclude empty or all-NA columns when determining the result dtypes. To retain the old behavior, exclude the \n",
       "relevant entries before the concat operation.\n",
       "  results = pd.concat([results, normalized_data]) #.dropna(axis=1, how=\"all\")])\n"
      ]
     },
     "metadata": {},
     "output_type": "display_data"
    },
    {
     "data": {
      "text/html": [
       "<pre style=\"white-space:pre;overflow-x:auto;line-height:normal;font-family:Menlo,'DejaVu Sans Mono',consolas,'Courier New',monospace\">/var/folders/7t/k8q3439j6z3c683j7w00wtm80000gn/T/ipykernel_58430/1419766920.py:27: FutureWarning: The behavior of \n",
       "DataFrame concatenation with empty or all-NA entries is deprecated. In a future version, this will no longer \n",
       "exclude empty or all-NA columns when determining the result dtypes. To retain the old behavior, exclude the \n",
       "relevant entries before the concat operation.\n",
       "  results = pd.concat([results, normalized_data]) #.dropna(axis=1, how=\"all\")])\n",
       "</pre>\n"
      ],
      "text/plain": [
       "/var/folders/7t/k8q3439j6z3c683j7w00wtm80000gn/T/ipykernel_58430/1419766920.py:27: FutureWarning: The behavior of \n",
       "DataFrame concatenation with empty or all-NA entries is deprecated. In a future version, this will no longer \n",
       "exclude empty or all-NA columns when determining the result dtypes. To retain the old behavior, exclude the \n",
       "relevant entries before the concat operation.\n",
       "  results = pd.concat([results, normalized_data]) #.dropna(axis=1, how=\"all\")])\n"
      ]
     },
     "metadata": {},
     "output_type": "display_data"
    },
    {
     "data": {
      "text/html": [
       "<pre style=\"white-space:pre;overflow-x:auto;line-height:normal;font-family:Menlo,'DejaVu Sans Mono',consolas,'Courier New',monospace\">/var/folders/7t/k8q3439j6z3c683j7w00wtm80000gn/T/ipykernel_58430/1419766920.py:27: FutureWarning: The behavior of \n",
       "DataFrame concatenation with empty or all-NA entries is deprecated. In a future version, this will no longer \n",
       "exclude empty or all-NA columns when determining the result dtypes. To retain the old behavior, exclude the \n",
       "relevant entries before the concat operation.\n",
       "  results = pd.concat([results, normalized_data]) #.dropna(axis=1, how=\"all\")])\n",
       "</pre>\n"
      ],
      "text/plain": [
       "/var/folders/7t/k8q3439j6z3c683j7w00wtm80000gn/T/ipykernel_58430/1419766920.py:27: FutureWarning: The behavior of \n",
       "DataFrame concatenation with empty or all-NA entries is deprecated. In a future version, this will no longer \n",
       "exclude empty or all-NA columns when determining the result dtypes. To retain the old behavior, exclude the \n",
       "relevant entries before the concat operation.\n",
       "  results = pd.concat([results, normalized_data]) #.dropna(axis=1, how=\"all\")])\n"
      ]
     },
     "metadata": {},
     "output_type": "display_data"
    },
    {
     "data": {
      "text/html": [
       "<pre style=\"white-space:pre;overflow-x:auto;line-height:normal;font-family:Menlo,'DejaVu Sans Mono',consolas,'Courier New',monospace\">/var/folders/7t/k8q3439j6z3c683j7w00wtm80000gn/T/ipykernel_58430/1419766920.py:27: FutureWarning: The behavior of \n",
       "DataFrame concatenation with empty or all-NA entries is deprecated. In a future version, this will no longer \n",
       "exclude empty or all-NA columns when determining the result dtypes. To retain the old behavior, exclude the \n",
       "relevant entries before the concat operation.\n",
       "  results = pd.concat([results, normalized_data]) #.dropna(axis=1, how=\"all\")])\n",
       "</pre>\n"
      ],
      "text/plain": [
       "/var/folders/7t/k8q3439j6z3c683j7w00wtm80000gn/T/ipykernel_58430/1419766920.py:27: FutureWarning: The behavior of \n",
       "DataFrame concatenation with empty or all-NA entries is deprecated. In a future version, this will no longer \n",
       "exclude empty or all-NA columns when determining the result dtypes. To retain the old behavior, exclude the \n",
       "relevant entries before the concat operation.\n",
       "  results = pd.concat([results, normalized_data]) #.dropna(axis=1, how=\"all\")])\n"
      ]
     },
     "metadata": {},
     "output_type": "display_data"
    },
    {
     "data": {
      "text/html": [
       "<pre style=\"white-space:pre;overflow-x:auto;line-height:normal;font-family:Menlo,'DejaVu Sans Mono',consolas,'Courier New',monospace\">/var/folders/7t/k8q3439j6z3c683j7w00wtm80000gn/T/ipykernel_58430/1419766920.py:27: FutureWarning: The behavior of \n",
       "DataFrame concatenation with empty or all-NA entries is deprecated. In a future version, this will no longer \n",
       "exclude empty or all-NA columns when determining the result dtypes. To retain the old behavior, exclude the \n",
       "relevant entries before the concat operation.\n",
       "  results = pd.concat([results, normalized_data]) #.dropna(axis=1, how=\"all\")])\n",
       "</pre>\n"
      ],
      "text/plain": [
       "/var/folders/7t/k8q3439j6z3c683j7w00wtm80000gn/T/ipykernel_58430/1419766920.py:27: FutureWarning: The behavior of \n",
       "DataFrame concatenation with empty or all-NA entries is deprecated. In a future version, this will no longer \n",
       "exclude empty or all-NA columns when determining the result dtypes. To retain the old behavior, exclude the \n",
       "relevant entries before the concat operation.\n",
       "  results = pd.concat([results, normalized_data]) #.dropna(axis=1, how=\"all\")])\n"
      ]
     },
     "metadata": {},
     "output_type": "display_data"
    },
    {
     "data": {
      "text/html": [
       "<pre style=\"white-space:pre;overflow-x:auto;line-height:normal;font-family:Menlo,'DejaVu Sans Mono',consolas,'Courier New',monospace\">/var/folders/7t/k8q3439j6z3c683j7w00wtm80000gn/T/ipykernel_58430/1419766920.py:27: FutureWarning: The behavior of \n",
       "DataFrame concatenation with empty or all-NA entries is deprecated. In a future version, this will no longer \n",
       "exclude empty or all-NA columns when determining the result dtypes. To retain the old behavior, exclude the \n",
       "relevant entries before the concat operation.\n",
       "  results = pd.concat([results, normalized_data]) #.dropna(axis=1, how=\"all\")])\n",
       "</pre>\n"
      ],
      "text/plain": [
       "/var/folders/7t/k8q3439j6z3c683j7w00wtm80000gn/T/ipykernel_58430/1419766920.py:27: FutureWarning: The behavior of \n",
       "DataFrame concatenation with empty or all-NA entries is deprecated. In a future version, this will no longer \n",
       "exclude empty or all-NA columns when determining the result dtypes. To retain the old behavior, exclude the \n",
       "relevant entries before the concat operation.\n",
       "  results = pd.concat([results, normalized_data]) #.dropna(axis=1, how=\"all\")])\n"
      ]
     },
     "metadata": {},
     "output_type": "display_data"
    },
    {
     "data": {
      "text/html": [
       "<pre style=\"white-space:pre;overflow-x:auto;line-height:normal;font-family:Menlo,'DejaVu Sans Mono',consolas,'Courier New',monospace\">/var/folders/7t/k8q3439j6z3c683j7w00wtm80000gn/T/ipykernel_58430/1419766920.py:27: FutureWarning: The behavior of \n",
       "DataFrame concatenation with empty or all-NA entries is deprecated. In a future version, this will no longer \n",
       "exclude empty or all-NA columns when determining the result dtypes. To retain the old behavior, exclude the \n",
       "relevant entries before the concat operation.\n",
       "  results = pd.concat([results, normalized_data]) #.dropna(axis=1, how=\"all\")])\n",
       "</pre>\n"
      ],
      "text/plain": [
       "/var/folders/7t/k8q3439j6z3c683j7w00wtm80000gn/T/ipykernel_58430/1419766920.py:27: FutureWarning: The behavior of \n",
       "DataFrame concatenation with empty or all-NA entries is deprecated. In a future version, this will no longer \n",
       "exclude empty or all-NA columns when determining the result dtypes. To retain the old behavior, exclude the \n",
       "relevant entries before the concat operation.\n",
       "  results = pd.concat([results, normalized_data]) #.dropna(axis=1, how=\"all\")])\n"
      ]
     },
     "metadata": {},
     "output_type": "display_data"
    },
    {
     "data": {
      "text/html": [
       "<pre style=\"white-space:pre;overflow-x:auto;line-height:normal;font-family:Menlo,'DejaVu Sans Mono',consolas,'Courier New',monospace\">/var/folders/7t/k8q3439j6z3c683j7w00wtm80000gn/T/ipykernel_58430/1419766920.py:27: FutureWarning: The behavior of \n",
       "DataFrame concatenation with empty or all-NA entries is deprecated. In a future version, this will no longer \n",
       "exclude empty or all-NA columns when determining the result dtypes. To retain the old behavior, exclude the \n",
       "relevant entries before the concat operation.\n",
       "  results = pd.concat([results, normalized_data]) #.dropna(axis=1, how=\"all\")])\n",
       "</pre>\n"
      ],
      "text/plain": [
       "/var/folders/7t/k8q3439j6z3c683j7w00wtm80000gn/T/ipykernel_58430/1419766920.py:27: FutureWarning: The behavior of \n",
       "DataFrame concatenation with empty or all-NA entries is deprecated. In a future version, this will no longer \n",
       "exclude empty or all-NA columns when determining the result dtypes. To retain the old behavior, exclude the \n",
       "relevant entries before the concat operation.\n",
       "  results = pd.concat([results, normalized_data]) #.dropna(axis=1, how=\"all\")])\n"
      ]
     },
     "metadata": {},
     "output_type": "display_data"
    },
    {
     "data": {
      "text/html": [
       "<pre style=\"white-space:pre;overflow-x:auto;line-height:normal;font-family:Menlo,'DejaVu Sans Mono',consolas,'Courier New',monospace\">/var/folders/7t/k8q3439j6z3c683j7w00wtm80000gn/T/ipykernel_58430/1419766920.py:27: FutureWarning: The behavior of \n",
       "DataFrame concatenation with empty or all-NA entries is deprecated. In a future version, this will no longer \n",
       "exclude empty or all-NA columns when determining the result dtypes. To retain the old behavior, exclude the \n",
       "relevant entries before the concat operation.\n",
       "  results = pd.concat([results, normalized_data]) #.dropna(axis=1, how=\"all\")])\n",
       "</pre>\n"
      ],
      "text/plain": [
       "/var/folders/7t/k8q3439j6z3c683j7w00wtm80000gn/T/ipykernel_58430/1419766920.py:27: FutureWarning: The behavior of \n",
       "DataFrame concatenation with empty or all-NA entries is deprecated. In a future version, this will no longer \n",
       "exclude empty or all-NA columns when determining the result dtypes. To retain the old behavior, exclude the \n",
       "relevant entries before the concat operation.\n",
       "  results = pd.concat([results, normalized_data]) #.dropna(axis=1, how=\"all\")])\n"
      ]
     },
     "metadata": {},
     "output_type": "display_data"
    },
    {
     "data": {
      "text/html": [
       "<pre style=\"white-space:pre;overflow-x:auto;line-height:normal;font-family:Menlo,'DejaVu Sans Mono',consolas,'Courier New',monospace\">/var/folders/7t/k8q3439j6z3c683j7w00wtm80000gn/T/ipykernel_58430/1419766920.py:27: FutureWarning: The behavior of \n",
       "DataFrame concatenation with empty or all-NA entries is deprecated. In a future version, this will no longer \n",
       "exclude empty or all-NA columns when determining the result dtypes. To retain the old behavior, exclude the \n",
       "relevant entries before the concat operation.\n",
       "  results = pd.concat([results, normalized_data]) #.dropna(axis=1, how=\"all\")])\n",
       "</pre>\n"
      ],
      "text/plain": [
       "/var/folders/7t/k8q3439j6z3c683j7w00wtm80000gn/T/ipykernel_58430/1419766920.py:27: FutureWarning: The behavior of \n",
       "DataFrame concatenation with empty or all-NA entries is deprecated. In a future version, this will no longer \n",
       "exclude empty or all-NA columns when determining the result dtypes. To retain the old behavior, exclude the \n",
       "relevant entries before the concat operation.\n",
       "  results = pd.concat([results, normalized_data]) #.dropna(axis=1, how=\"all\")])\n"
      ]
     },
     "metadata": {},
     "output_type": "display_data"
    },
    {
     "data": {
      "text/html": [
       "<pre style=\"white-space:pre;overflow-x:auto;line-height:normal;font-family:Menlo,'DejaVu Sans Mono',consolas,'Courier New',monospace\">/var/folders/7t/k8q3439j6z3c683j7w00wtm80000gn/T/ipykernel_58430/1419766920.py:27: FutureWarning: The behavior of \n",
       "DataFrame concatenation with empty or all-NA entries is deprecated. In a future version, this will no longer \n",
       "exclude empty or all-NA columns when determining the result dtypes. To retain the old behavior, exclude the \n",
       "relevant entries before the concat operation.\n",
       "  results = pd.concat([results, normalized_data]) #.dropna(axis=1, how=\"all\")])\n",
       "</pre>\n"
      ],
      "text/plain": [
       "/var/folders/7t/k8q3439j6z3c683j7w00wtm80000gn/T/ipykernel_58430/1419766920.py:27: FutureWarning: The behavior of \n",
       "DataFrame concatenation with empty or all-NA entries is deprecated. In a future version, this will no longer \n",
       "exclude empty or all-NA columns when determining the result dtypes. To retain the old behavior, exclude the \n",
       "relevant entries before the concat operation.\n",
       "  results = pd.concat([results, normalized_data]) #.dropna(axis=1, how=\"all\")])\n"
      ]
     },
     "metadata": {},
     "output_type": "display_data"
    },
    {
     "data": {
      "text/html": [
       "<pre style=\"white-space:pre;overflow-x:auto;line-height:normal;font-family:Menlo,'DejaVu Sans Mono',consolas,'Courier New',monospace\">/var/folders/7t/k8q3439j6z3c683j7w00wtm80000gn/T/ipykernel_58430/1419766920.py:27: FutureWarning: The behavior of \n",
       "DataFrame concatenation with empty or all-NA entries is deprecated. In a future version, this will no longer \n",
       "exclude empty or all-NA columns when determining the result dtypes. To retain the old behavior, exclude the \n",
       "relevant entries before the concat operation.\n",
       "  results = pd.concat([results, normalized_data]) #.dropna(axis=1, how=\"all\")])\n",
       "</pre>\n"
      ],
      "text/plain": [
       "/var/folders/7t/k8q3439j6z3c683j7w00wtm80000gn/T/ipykernel_58430/1419766920.py:27: FutureWarning: The behavior of \n",
       "DataFrame concatenation with empty or all-NA entries is deprecated. In a future version, this will no longer \n",
       "exclude empty or all-NA columns when determining the result dtypes. To retain the old behavior, exclude the \n",
       "relevant entries before the concat operation.\n",
       "  results = pd.concat([results, normalized_data]) #.dropna(axis=1, how=\"all\")])\n"
      ]
     },
     "metadata": {},
     "output_type": "display_data"
    },
    {
     "data": {
      "text/html": [
       "<pre style=\"white-space:pre;overflow-x:auto;line-height:normal;font-family:Menlo,'DejaVu Sans Mono',consolas,'Courier New',monospace\">/var/folders/7t/k8q3439j6z3c683j7w00wtm80000gn/T/ipykernel_58430/1419766920.py:27: FutureWarning: The behavior of \n",
       "DataFrame concatenation with empty or all-NA entries is deprecated. In a future version, this will no longer \n",
       "exclude empty or all-NA columns when determining the result dtypes. To retain the old behavior, exclude the \n",
       "relevant entries before the concat operation.\n",
       "  results = pd.concat([results, normalized_data]) #.dropna(axis=1, how=\"all\")])\n",
       "</pre>\n"
      ],
      "text/plain": [
       "/var/folders/7t/k8q3439j6z3c683j7w00wtm80000gn/T/ipykernel_58430/1419766920.py:27: FutureWarning: The behavior of \n",
       "DataFrame concatenation with empty or all-NA entries is deprecated. In a future version, this will no longer \n",
       "exclude empty or all-NA columns when determining the result dtypes. To retain the old behavior, exclude the \n",
       "relevant entries before the concat operation.\n",
       "  results = pd.concat([results, normalized_data]) #.dropna(axis=1, how=\"all\")])\n"
      ]
     },
     "metadata": {},
     "output_type": "display_data"
    },
    {
     "data": {
      "text/html": [
       "<pre style=\"white-space:pre;overflow-x:auto;line-height:normal;font-family:Menlo,'DejaVu Sans Mono',consolas,'Courier New',monospace\">/var/folders/7t/k8q3439j6z3c683j7w00wtm80000gn/T/ipykernel_58430/1419766920.py:27: FutureWarning: The behavior of \n",
       "DataFrame concatenation with empty or all-NA entries is deprecated. In a future version, this will no longer \n",
       "exclude empty or all-NA columns when determining the result dtypes. To retain the old behavior, exclude the \n",
       "relevant entries before the concat operation.\n",
       "  results = pd.concat([results, normalized_data]) #.dropna(axis=1, how=\"all\")])\n",
       "</pre>\n"
      ],
      "text/plain": [
       "/var/folders/7t/k8q3439j6z3c683j7w00wtm80000gn/T/ipykernel_58430/1419766920.py:27: FutureWarning: The behavior of \n",
       "DataFrame concatenation with empty or all-NA entries is deprecated. In a future version, this will no longer \n",
       "exclude empty or all-NA columns when determining the result dtypes. To retain the old behavior, exclude the \n",
       "relevant entries before the concat operation.\n",
       "  results = pd.concat([results, normalized_data]) #.dropna(axis=1, how=\"all\")])\n"
      ]
     },
     "metadata": {},
     "output_type": "display_data"
    },
    {
     "data": {
      "text/html": [
       "<pre style=\"white-space:pre;overflow-x:auto;line-height:normal;font-family:Menlo,'DejaVu Sans Mono',consolas,'Courier New',monospace\">/var/folders/7t/k8q3439j6z3c683j7w00wtm80000gn/T/ipykernel_58430/1419766920.py:27: FutureWarning: The behavior of \n",
       "DataFrame concatenation with empty or all-NA entries is deprecated. In a future version, this will no longer \n",
       "exclude empty or all-NA columns when determining the result dtypes. To retain the old behavior, exclude the \n",
       "relevant entries before the concat operation.\n",
       "  results = pd.concat([results, normalized_data]) #.dropna(axis=1, how=\"all\")])\n",
       "</pre>\n"
      ],
      "text/plain": [
       "/var/folders/7t/k8q3439j6z3c683j7w00wtm80000gn/T/ipykernel_58430/1419766920.py:27: FutureWarning: The behavior of \n",
       "DataFrame concatenation with empty or all-NA entries is deprecated. In a future version, this will no longer \n",
       "exclude empty or all-NA columns when determining the result dtypes. To retain the old behavior, exclude the \n",
       "relevant entries before the concat operation.\n",
       "  results = pd.concat([results, normalized_data]) #.dropna(axis=1, how=\"all\")])\n"
      ]
     },
     "metadata": {},
     "output_type": "display_data"
    },
    {
     "data": {
      "text/html": [
       "<pre style=\"white-space:pre;overflow-x:auto;line-height:normal;font-family:Menlo,'DejaVu Sans Mono',consolas,'Courier New',monospace\">/var/folders/7t/k8q3439j6z3c683j7w00wtm80000gn/T/ipykernel_58430/1419766920.py:27: FutureWarning: The behavior of \n",
       "DataFrame concatenation with empty or all-NA entries is deprecated. In a future version, this will no longer \n",
       "exclude empty or all-NA columns when determining the result dtypes. To retain the old behavior, exclude the \n",
       "relevant entries before the concat operation.\n",
       "  results = pd.concat([results, normalized_data]) #.dropna(axis=1, how=\"all\")])\n",
       "</pre>\n"
      ],
      "text/plain": [
       "/var/folders/7t/k8q3439j6z3c683j7w00wtm80000gn/T/ipykernel_58430/1419766920.py:27: FutureWarning: The behavior of \n",
       "DataFrame concatenation with empty or all-NA entries is deprecated. In a future version, this will no longer \n",
       "exclude empty or all-NA columns when determining the result dtypes. To retain the old behavior, exclude the \n",
       "relevant entries before the concat operation.\n",
       "  results = pd.concat([results, normalized_data]) #.dropna(axis=1, how=\"all\")])\n"
      ]
     },
     "metadata": {},
     "output_type": "display_data"
    },
    {
     "data": {
      "text/html": [
       "<pre style=\"white-space:pre;overflow-x:auto;line-height:normal;font-family:Menlo,'DejaVu Sans Mono',consolas,'Courier New',monospace\">/var/folders/7t/k8q3439j6z3c683j7w00wtm80000gn/T/ipykernel_58430/1419766920.py:27: FutureWarning: The behavior of \n",
       "DataFrame concatenation with empty or all-NA entries is deprecated. In a future version, this will no longer \n",
       "exclude empty or all-NA columns when determining the result dtypes. To retain the old behavior, exclude the \n",
       "relevant entries before the concat operation.\n",
       "  results = pd.concat([results, normalized_data]) #.dropna(axis=1, how=\"all\")])\n",
       "</pre>\n"
      ],
      "text/plain": [
       "/var/folders/7t/k8q3439j6z3c683j7w00wtm80000gn/T/ipykernel_58430/1419766920.py:27: FutureWarning: The behavior of \n",
       "DataFrame concatenation with empty or all-NA entries is deprecated. In a future version, this will no longer \n",
       "exclude empty or all-NA columns when determining the result dtypes. To retain the old behavior, exclude the \n",
       "relevant entries before the concat operation.\n",
       "  results = pd.concat([results, normalized_data]) #.dropna(axis=1, how=\"all\")])\n"
      ]
     },
     "metadata": {},
     "output_type": "display_data"
    },
    {
     "data": {
      "text/html": [
       "<pre style=\"white-space:pre;overflow-x:auto;line-height:normal;font-family:Menlo,'DejaVu Sans Mono',consolas,'Courier New',monospace\">/var/folders/7t/k8q3439j6z3c683j7w00wtm80000gn/T/ipykernel_58430/1419766920.py:27: FutureWarning: The behavior of \n",
       "DataFrame concatenation with empty or all-NA entries is deprecated. In a future version, this will no longer \n",
       "exclude empty or all-NA columns when determining the result dtypes. To retain the old behavior, exclude the \n",
       "relevant entries before the concat operation.\n",
       "  results = pd.concat([results, normalized_data]) #.dropna(axis=1, how=\"all\")])\n",
       "</pre>\n"
      ],
      "text/plain": [
       "/var/folders/7t/k8q3439j6z3c683j7w00wtm80000gn/T/ipykernel_58430/1419766920.py:27: FutureWarning: The behavior of \n",
       "DataFrame concatenation with empty or all-NA entries is deprecated. In a future version, this will no longer \n",
       "exclude empty or all-NA columns when determining the result dtypes. To retain the old behavior, exclude the \n",
       "relevant entries before the concat operation.\n",
       "  results = pd.concat([results, normalized_data]) #.dropna(axis=1, how=\"all\")])\n"
      ]
     },
     "metadata": {},
     "output_type": "display_data"
    },
    {
     "data": {
      "text/html": [
       "<pre style=\"white-space:pre;overflow-x:auto;line-height:normal;font-family:Menlo,'DejaVu Sans Mono',consolas,'Courier New',monospace\">/var/folders/7t/k8q3439j6z3c683j7w00wtm80000gn/T/ipykernel_58430/1419766920.py:27: FutureWarning: The behavior of \n",
       "DataFrame concatenation with empty or all-NA entries is deprecated. In a future version, this will no longer \n",
       "exclude empty or all-NA columns when determining the result dtypes. To retain the old behavior, exclude the \n",
       "relevant entries before the concat operation.\n",
       "  results = pd.concat([results, normalized_data]) #.dropna(axis=1, how=\"all\")])\n",
       "</pre>\n"
      ],
      "text/plain": [
       "/var/folders/7t/k8q3439j6z3c683j7w00wtm80000gn/T/ipykernel_58430/1419766920.py:27: FutureWarning: The behavior of \n",
       "DataFrame concatenation with empty or all-NA entries is deprecated. In a future version, this will no longer \n",
       "exclude empty or all-NA columns when determining the result dtypes. To retain the old behavior, exclude the \n",
       "relevant entries before the concat operation.\n",
       "  results = pd.concat([results, normalized_data]) #.dropna(axis=1, how=\"all\")])\n"
      ]
     },
     "metadata": {},
     "output_type": "display_data"
    },
    {
     "data": {
      "text/html": [
       "<pre style=\"white-space:pre;overflow-x:auto;line-height:normal;font-family:Menlo,'DejaVu Sans Mono',consolas,'Courier New',monospace\">/var/folders/7t/k8q3439j6z3c683j7w00wtm80000gn/T/ipykernel_58430/1419766920.py:27: FutureWarning: The behavior of \n",
       "DataFrame concatenation with empty or all-NA entries is deprecated. In a future version, this will no longer \n",
       "exclude empty or all-NA columns when determining the result dtypes. To retain the old behavior, exclude the \n",
       "relevant entries before the concat operation.\n",
       "  results = pd.concat([results, normalized_data]) #.dropna(axis=1, how=\"all\")])\n",
       "</pre>\n"
      ],
      "text/plain": [
       "/var/folders/7t/k8q3439j6z3c683j7w00wtm80000gn/T/ipykernel_58430/1419766920.py:27: FutureWarning: The behavior of \n",
       "DataFrame concatenation with empty or all-NA entries is deprecated. In a future version, this will no longer \n",
       "exclude empty or all-NA columns when determining the result dtypes. To retain the old behavior, exclude the \n",
       "relevant entries before the concat operation.\n",
       "  results = pd.concat([results, normalized_data]) #.dropna(axis=1, how=\"all\")])\n"
      ]
     },
     "metadata": {},
     "output_type": "display_data"
    },
    {
     "data": {
      "text/html": [
       "<pre style=\"white-space:pre;overflow-x:auto;line-height:normal;font-family:Menlo,'DejaVu Sans Mono',consolas,'Courier New',monospace\">/var/folders/7t/k8q3439j6z3c683j7w00wtm80000gn/T/ipykernel_58430/1419766920.py:27: FutureWarning: The behavior of \n",
       "DataFrame concatenation with empty or all-NA entries is deprecated. In a future version, this will no longer \n",
       "exclude empty or all-NA columns when determining the result dtypes. To retain the old behavior, exclude the \n",
       "relevant entries before the concat operation.\n",
       "  results = pd.concat([results, normalized_data]) #.dropna(axis=1, how=\"all\")])\n",
       "</pre>\n"
      ],
      "text/plain": [
       "/var/folders/7t/k8q3439j6z3c683j7w00wtm80000gn/T/ipykernel_58430/1419766920.py:27: FutureWarning: The behavior of \n",
       "DataFrame concatenation with empty or all-NA entries is deprecated. In a future version, this will no longer \n",
       "exclude empty or all-NA columns when determining the result dtypes. To retain the old behavior, exclude the \n",
       "relevant entries before the concat operation.\n",
       "  results = pd.concat([results, normalized_data]) #.dropna(axis=1, how=\"all\")])\n"
      ]
     },
     "metadata": {},
     "output_type": "display_data"
    },
    {
     "data": {
      "text/html": [
       "<pre style=\"white-space:pre;overflow-x:auto;line-height:normal;font-family:Menlo,'DejaVu Sans Mono',consolas,'Courier New',monospace\">/var/folders/7t/k8q3439j6z3c683j7w00wtm80000gn/T/ipykernel_58430/1419766920.py:27: FutureWarning: The behavior of \n",
       "DataFrame concatenation with empty or all-NA entries is deprecated. In a future version, this will no longer \n",
       "exclude empty or all-NA columns when determining the result dtypes. To retain the old behavior, exclude the \n",
       "relevant entries before the concat operation.\n",
       "  results = pd.concat([results, normalized_data]) #.dropna(axis=1, how=\"all\")])\n",
       "</pre>\n"
      ],
      "text/plain": [
       "/var/folders/7t/k8q3439j6z3c683j7w00wtm80000gn/T/ipykernel_58430/1419766920.py:27: FutureWarning: The behavior of \n",
       "DataFrame concatenation with empty or all-NA entries is deprecated. In a future version, this will no longer \n",
       "exclude empty or all-NA columns when determining the result dtypes. To retain the old behavior, exclude the \n",
       "relevant entries before the concat operation.\n",
       "  results = pd.concat([results, normalized_data]) #.dropna(axis=1, how=\"all\")])\n"
      ]
     },
     "metadata": {},
     "output_type": "display_data"
    },
    {
     "data": {
      "text/html": [
       "<pre style=\"white-space:pre;overflow-x:auto;line-height:normal;font-family:Menlo,'DejaVu Sans Mono',consolas,'Courier New',monospace\">/var/folders/7t/k8q3439j6z3c683j7w00wtm80000gn/T/ipykernel_58430/1419766920.py:27: FutureWarning: The behavior of \n",
       "DataFrame concatenation with empty or all-NA entries is deprecated. In a future version, this will no longer \n",
       "exclude empty or all-NA columns when determining the result dtypes. To retain the old behavior, exclude the \n",
       "relevant entries before the concat operation.\n",
       "  results = pd.concat([results, normalized_data]) #.dropna(axis=1, how=\"all\")])\n",
       "</pre>\n"
      ],
      "text/plain": [
       "/var/folders/7t/k8q3439j6z3c683j7w00wtm80000gn/T/ipykernel_58430/1419766920.py:27: FutureWarning: The behavior of \n",
       "DataFrame concatenation with empty or all-NA entries is deprecated. In a future version, this will no longer \n",
       "exclude empty or all-NA columns when determining the result dtypes. To retain the old behavior, exclude the \n",
       "relevant entries before the concat operation.\n",
       "  results = pd.concat([results, normalized_data]) #.dropna(axis=1, how=\"all\")])\n"
      ]
     },
     "metadata": {},
     "output_type": "display_data"
    },
    {
     "data": {
      "text/html": [
       "<pre style=\"white-space:pre;overflow-x:auto;line-height:normal;font-family:Menlo,'DejaVu Sans Mono',consolas,'Courier New',monospace\">/var/folders/7t/k8q3439j6z3c683j7w00wtm80000gn/T/ipykernel_58430/1419766920.py:27: FutureWarning: The behavior of \n",
       "DataFrame concatenation with empty or all-NA entries is deprecated. In a future version, this will no longer \n",
       "exclude empty or all-NA columns when determining the result dtypes. To retain the old behavior, exclude the \n",
       "relevant entries before the concat operation.\n",
       "  results = pd.concat([results, normalized_data]) #.dropna(axis=1, how=\"all\")])\n",
       "</pre>\n"
      ],
      "text/plain": [
       "/var/folders/7t/k8q3439j6z3c683j7w00wtm80000gn/T/ipykernel_58430/1419766920.py:27: FutureWarning: The behavior of \n",
       "DataFrame concatenation with empty or all-NA entries is deprecated. In a future version, this will no longer \n",
       "exclude empty or all-NA columns when determining the result dtypes. To retain the old behavior, exclude the \n",
       "relevant entries before the concat operation.\n",
       "  results = pd.concat([results, normalized_data]) #.dropna(axis=1, how=\"all\")])\n"
      ]
     },
     "metadata": {},
     "output_type": "display_data"
    },
    {
     "data": {
      "text/html": [
       "<pre style=\"white-space:pre;overflow-x:auto;line-height:normal;font-family:Menlo,'DejaVu Sans Mono',consolas,'Courier New',monospace\">/var/folders/7t/k8q3439j6z3c683j7w00wtm80000gn/T/ipykernel_58430/1419766920.py:27: FutureWarning: The behavior of \n",
       "DataFrame concatenation with empty or all-NA entries is deprecated. In a future version, this will no longer \n",
       "exclude empty or all-NA columns when determining the result dtypes. To retain the old behavior, exclude the \n",
       "relevant entries before the concat operation.\n",
       "  results = pd.concat([results, normalized_data]) #.dropna(axis=1, how=\"all\")])\n",
       "</pre>\n"
      ],
      "text/plain": [
       "/var/folders/7t/k8q3439j6z3c683j7w00wtm80000gn/T/ipykernel_58430/1419766920.py:27: FutureWarning: The behavior of \n",
       "DataFrame concatenation with empty or all-NA entries is deprecated. In a future version, this will no longer \n",
       "exclude empty or all-NA columns when determining the result dtypes. To retain the old behavior, exclude the \n",
       "relevant entries before the concat operation.\n",
       "  results = pd.concat([results, normalized_data]) #.dropna(axis=1, how=\"all\")])\n"
      ]
     },
     "metadata": {},
     "output_type": "display_data"
    },
    {
     "data": {
      "text/html": [
       "<pre style=\"white-space:pre;overflow-x:auto;line-height:normal;font-family:Menlo,'DejaVu Sans Mono',consolas,'Courier New',monospace\">/var/folders/7t/k8q3439j6z3c683j7w00wtm80000gn/T/ipykernel_58430/1419766920.py:27: FutureWarning: The behavior of \n",
       "DataFrame concatenation with empty or all-NA entries is deprecated. In a future version, this will no longer \n",
       "exclude empty or all-NA columns when determining the result dtypes. To retain the old behavior, exclude the \n",
       "relevant entries before the concat operation.\n",
       "  results = pd.concat([results, normalized_data]) #.dropna(axis=1, how=\"all\")])\n",
       "</pre>\n"
      ],
      "text/plain": [
       "/var/folders/7t/k8q3439j6z3c683j7w00wtm80000gn/T/ipykernel_58430/1419766920.py:27: FutureWarning: The behavior of \n",
       "DataFrame concatenation with empty or all-NA entries is deprecated. In a future version, this will no longer \n",
       "exclude empty or all-NA columns when determining the result dtypes. To retain the old behavior, exclude the \n",
       "relevant entries before the concat operation.\n",
       "  results = pd.concat([results, normalized_data]) #.dropna(axis=1, how=\"all\")])\n"
      ]
     },
     "metadata": {},
     "output_type": "display_data"
    },
    {
     "data": {
      "text/html": [
       "<pre style=\"white-space:pre;overflow-x:auto;line-height:normal;font-family:Menlo,'DejaVu Sans Mono',consolas,'Courier New',monospace\">/var/folders/7t/k8q3439j6z3c683j7w00wtm80000gn/T/ipykernel_58430/1419766920.py:27: FutureWarning: The behavior of \n",
       "DataFrame concatenation with empty or all-NA entries is deprecated. In a future version, this will no longer \n",
       "exclude empty or all-NA columns when determining the result dtypes. To retain the old behavior, exclude the \n",
       "relevant entries before the concat operation.\n",
       "  results = pd.concat([results, normalized_data]) #.dropna(axis=1, how=\"all\")])\n",
       "</pre>\n"
      ],
      "text/plain": [
       "/var/folders/7t/k8q3439j6z3c683j7w00wtm80000gn/T/ipykernel_58430/1419766920.py:27: FutureWarning: The behavior of \n",
       "DataFrame concatenation with empty or all-NA entries is deprecated. In a future version, this will no longer \n",
       "exclude empty or all-NA columns when determining the result dtypes. To retain the old behavior, exclude the \n",
       "relevant entries before the concat operation.\n",
       "  results = pd.concat([results, normalized_data]) #.dropna(axis=1, how=\"all\")])\n"
      ]
     },
     "metadata": {},
     "output_type": "display_data"
    },
    {
     "data": {
      "text/html": [
       "<pre style=\"white-space:pre;overflow-x:auto;line-height:normal;font-family:Menlo,'DejaVu Sans Mono',consolas,'Courier New',monospace\">/var/folders/7t/k8q3439j6z3c683j7w00wtm80000gn/T/ipykernel_58430/1419766920.py:27: FutureWarning: The behavior of \n",
       "DataFrame concatenation with empty or all-NA entries is deprecated. In a future version, this will no longer \n",
       "exclude empty or all-NA columns when determining the result dtypes. To retain the old behavior, exclude the \n",
       "relevant entries before the concat operation.\n",
       "  results = pd.concat([results, normalized_data]) #.dropna(axis=1, how=\"all\")])\n",
       "</pre>\n"
      ],
      "text/plain": [
       "/var/folders/7t/k8q3439j6z3c683j7w00wtm80000gn/T/ipykernel_58430/1419766920.py:27: FutureWarning: The behavior of \n",
       "DataFrame concatenation with empty or all-NA entries is deprecated. In a future version, this will no longer \n",
       "exclude empty or all-NA columns when determining the result dtypes. To retain the old behavior, exclude the \n",
       "relevant entries before the concat operation.\n",
       "  results = pd.concat([results, normalized_data]) #.dropna(axis=1, how=\"all\")])\n"
      ]
     },
     "metadata": {},
     "output_type": "display_data"
    },
    {
     "data": {
      "text/html": [
       "<pre style=\"white-space:pre;overflow-x:auto;line-height:normal;font-family:Menlo,'DejaVu Sans Mono',consolas,'Courier New',monospace\">/var/folders/7t/k8q3439j6z3c683j7w00wtm80000gn/T/ipykernel_58430/1419766920.py:27: FutureWarning: The behavior of \n",
       "DataFrame concatenation with empty or all-NA entries is deprecated. In a future version, this will no longer \n",
       "exclude empty or all-NA columns when determining the result dtypes. To retain the old behavior, exclude the \n",
       "relevant entries before the concat operation.\n",
       "  results = pd.concat([results, normalized_data]) #.dropna(axis=1, how=\"all\")])\n",
       "</pre>\n"
      ],
      "text/plain": [
       "/var/folders/7t/k8q3439j6z3c683j7w00wtm80000gn/T/ipykernel_58430/1419766920.py:27: FutureWarning: The behavior of \n",
       "DataFrame concatenation with empty or all-NA entries is deprecated. In a future version, this will no longer \n",
       "exclude empty or all-NA columns when determining the result dtypes. To retain the old behavior, exclude the \n",
       "relevant entries before the concat operation.\n",
       "  results = pd.concat([results, normalized_data]) #.dropna(axis=1, how=\"all\")])\n"
      ]
     },
     "metadata": {},
     "output_type": "display_data"
    },
    {
     "data": {
      "text/html": [
       "<pre style=\"white-space:pre;overflow-x:auto;line-height:normal;font-family:Menlo,'DejaVu Sans Mono',consolas,'Courier New',monospace\">/var/folders/7t/k8q3439j6z3c683j7w00wtm80000gn/T/ipykernel_58430/1419766920.py:27: FutureWarning: The behavior of \n",
       "DataFrame concatenation with empty or all-NA entries is deprecated. In a future version, this will no longer \n",
       "exclude empty or all-NA columns when determining the result dtypes. To retain the old behavior, exclude the \n",
       "relevant entries before the concat operation.\n",
       "  results = pd.concat([results, normalized_data]) #.dropna(axis=1, how=\"all\")])\n",
       "</pre>\n"
      ],
      "text/plain": [
       "/var/folders/7t/k8q3439j6z3c683j7w00wtm80000gn/T/ipykernel_58430/1419766920.py:27: FutureWarning: The behavior of \n",
       "DataFrame concatenation with empty or all-NA entries is deprecated. In a future version, this will no longer \n",
       "exclude empty or all-NA columns when determining the result dtypes. To retain the old behavior, exclude the \n",
       "relevant entries before the concat operation.\n",
       "  results = pd.concat([results, normalized_data]) #.dropna(axis=1, how=\"all\")])\n"
      ]
     },
     "metadata": {},
     "output_type": "display_data"
    },
    {
     "data": {
      "text/html": [
       "<pre style=\"white-space:pre;overflow-x:auto;line-height:normal;font-family:Menlo,'DejaVu Sans Mono',consolas,'Courier New',monospace\">/var/folders/7t/k8q3439j6z3c683j7w00wtm80000gn/T/ipykernel_58430/1419766920.py:27: FutureWarning: The behavior of \n",
       "DataFrame concatenation with empty or all-NA entries is deprecated. In a future version, this will no longer \n",
       "exclude empty or all-NA columns when determining the result dtypes. To retain the old behavior, exclude the \n",
       "relevant entries before the concat operation.\n",
       "  results = pd.concat([results, normalized_data]) #.dropna(axis=1, how=\"all\")])\n",
       "</pre>\n"
      ],
      "text/plain": [
       "/var/folders/7t/k8q3439j6z3c683j7w00wtm80000gn/T/ipykernel_58430/1419766920.py:27: FutureWarning: The behavior of \n",
       "DataFrame concatenation with empty or all-NA entries is deprecated. In a future version, this will no longer \n",
       "exclude empty or all-NA columns when determining the result dtypes. To retain the old behavior, exclude the \n",
       "relevant entries before the concat operation.\n",
       "  results = pd.concat([results, normalized_data]) #.dropna(axis=1, how=\"all\")])\n"
      ]
     },
     "metadata": {},
     "output_type": "display_data"
    },
    {
     "data": {
      "text/html": [
       "<pre style=\"white-space:pre;overflow-x:auto;line-height:normal;font-family:Menlo,'DejaVu Sans Mono',consolas,'Courier New',monospace\">/var/folders/7t/k8q3439j6z3c683j7w00wtm80000gn/T/ipykernel_58430/1419766920.py:27: FutureWarning: The behavior of \n",
       "DataFrame concatenation with empty or all-NA entries is deprecated. In a future version, this will no longer \n",
       "exclude empty or all-NA columns when determining the result dtypes. To retain the old behavior, exclude the \n",
       "relevant entries before the concat operation.\n",
       "  results = pd.concat([results, normalized_data]) #.dropna(axis=1, how=\"all\")])\n",
       "</pre>\n"
      ],
      "text/plain": [
       "/var/folders/7t/k8q3439j6z3c683j7w00wtm80000gn/T/ipykernel_58430/1419766920.py:27: FutureWarning: The behavior of \n",
       "DataFrame concatenation with empty or all-NA entries is deprecated. In a future version, this will no longer \n",
       "exclude empty or all-NA columns when determining the result dtypes. To retain the old behavior, exclude the \n",
       "relevant entries before the concat operation.\n",
       "  results = pd.concat([results, normalized_data]) #.dropna(axis=1, how=\"all\")])\n"
      ]
     },
     "metadata": {},
     "output_type": "display_data"
    },
    {
     "data": {
      "text/html": [
       "<pre style=\"white-space:pre;overflow-x:auto;line-height:normal;font-family:Menlo,'DejaVu Sans Mono',consolas,'Courier New',monospace\">/var/folders/7t/k8q3439j6z3c683j7w00wtm80000gn/T/ipykernel_58430/1419766920.py:27: FutureWarning: The behavior of \n",
       "DataFrame concatenation with empty or all-NA entries is deprecated. In a future version, this will no longer \n",
       "exclude empty or all-NA columns when determining the result dtypes. To retain the old behavior, exclude the \n",
       "relevant entries before the concat operation.\n",
       "  results = pd.concat([results, normalized_data]) #.dropna(axis=1, how=\"all\")])\n",
       "</pre>\n"
      ],
      "text/plain": [
       "/var/folders/7t/k8q3439j6z3c683j7w00wtm80000gn/T/ipykernel_58430/1419766920.py:27: FutureWarning: The behavior of \n",
       "DataFrame concatenation with empty or all-NA entries is deprecated. In a future version, this will no longer \n",
       "exclude empty or all-NA columns when determining the result dtypes. To retain the old behavior, exclude the \n",
       "relevant entries before the concat operation.\n",
       "  results = pd.concat([results, normalized_data]) #.dropna(axis=1, how=\"all\")])\n"
      ]
     },
     "metadata": {},
     "output_type": "display_data"
    },
    {
     "data": {
      "text/html": [
       "<pre style=\"white-space:pre;overflow-x:auto;line-height:normal;font-family:Menlo,'DejaVu Sans Mono',consolas,'Courier New',monospace\">/var/folders/7t/k8q3439j6z3c683j7w00wtm80000gn/T/ipykernel_58430/1419766920.py:27: FutureWarning: The behavior of \n",
       "DataFrame concatenation with empty or all-NA entries is deprecated. In a future version, this will no longer \n",
       "exclude empty or all-NA columns when determining the result dtypes. To retain the old behavior, exclude the \n",
       "relevant entries before the concat operation.\n",
       "  results = pd.concat([results, normalized_data]) #.dropna(axis=1, how=\"all\")])\n",
       "</pre>\n"
      ],
      "text/plain": [
       "/var/folders/7t/k8q3439j6z3c683j7w00wtm80000gn/T/ipykernel_58430/1419766920.py:27: FutureWarning: The behavior of \n",
       "DataFrame concatenation with empty or all-NA entries is deprecated. In a future version, this will no longer \n",
       "exclude empty or all-NA columns when determining the result dtypes. To retain the old behavior, exclude the \n",
       "relevant entries before the concat operation.\n",
       "  results = pd.concat([results, normalized_data]) #.dropna(axis=1, how=\"all\")])\n"
      ]
     },
     "metadata": {},
     "output_type": "display_data"
    },
    {
     "data": {
      "text/html": [
       "<pre style=\"white-space:pre;overflow-x:auto;line-height:normal;font-family:Menlo,'DejaVu Sans Mono',consolas,'Courier New',monospace\">/var/folders/7t/k8q3439j6z3c683j7w00wtm80000gn/T/ipykernel_58430/1419766920.py:27: FutureWarning: The behavior of \n",
       "DataFrame concatenation with empty or all-NA entries is deprecated. In a future version, this will no longer \n",
       "exclude empty or all-NA columns when determining the result dtypes. To retain the old behavior, exclude the \n",
       "relevant entries before the concat operation.\n",
       "  results = pd.concat([results, normalized_data]) #.dropna(axis=1, how=\"all\")])\n",
       "</pre>\n"
      ],
      "text/plain": [
       "/var/folders/7t/k8q3439j6z3c683j7w00wtm80000gn/T/ipykernel_58430/1419766920.py:27: FutureWarning: The behavior of \n",
       "DataFrame concatenation with empty or all-NA entries is deprecated. In a future version, this will no longer \n",
       "exclude empty or all-NA columns when determining the result dtypes. To retain the old behavior, exclude the \n",
       "relevant entries before the concat operation.\n",
       "  results = pd.concat([results, normalized_data]) #.dropna(axis=1, how=\"all\")])\n"
      ]
     },
     "metadata": {},
     "output_type": "display_data"
    },
    {
     "data": {
      "text/html": [
       "<pre style=\"white-space:pre;overflow-x:auto;line-height:normal;font-family:Menlo,'DejaVu Sans Mono',consolas,'Courier New',monospace\">/var/folders/7t/k8q3439j6z3c683j7w00wtm80000gn/T/ipykernel_58430/1419766920.py:27: FutureWarning: The behavior of \n",
       "DataFrame concatenation with empty or all-NA entries is deprecated. In a future version, this will no longer \n",
       "exclude empty or all-NA columns when determining the result dtypes. To retain the old behavior, exclude the \n",
       "relevant entries before the concat operation.\n",
       "  results = pd.concat([results, normalized_data]) #.dropna(axis=1, how=\"all\")])\n",
       "</pre>\n"
      ],
      "text/plain": [
       "/var/folders/7t/k8q3439j6z3c683j7w00wtm80000gn/T/ipykernel_58430/1419766920.py:27: FutureWarning: The behavior of \n",
       "DataFrame concatenation with empty or all-NA entries is deprecated. In a future version, this will no longer \n",
       "exclude empty or all-NA columns when determining the result dtypes. To retain the old behavior, exclude the \n",
       "relevant entries before the concat operation.\n",
       "  results = pd.concat([results, normalized_data]) #.dropna(axis=1, how=\"all\")])\n"
      ]
     },
     "metadata": {},
     "output_type": "display_data"
    },
    {
     "data": {
      "text/html": [
       "<pre style=\"white-space:pre;overflow-x:auto;line-height:normal;font-family:Menlo,'DejaVu Sans Mono',consolas,'Courier New',monospace\">/var/folders/7t/k8q3439j6z3c683j7w00wtm80000gn/T/ipykernel_58430/1419766920.py:27: FutureWarning: The behavior of \n",
       "DataFrame concatenation with empty or all-NA entries is deprecated. In a future version, this will no longer \n",
       "exclude empty or all-NA columns when determining the result dtypes. To retain the old behavior, exclude the \n",
       "relevant entries before the concat operation.\n",
       "  results = pd.concat([results, normalized_data]) #.dropna(axis=1, how=\"all\")])\n",
       "</pre>\n"
      ],
      "text/plain": [
       "/var/folders/7t/k8q3439j6z3c683j7w00wtm80000gn/T/ipykernel_58430/1419766920.py:27: FutureWarning: The behavior of \n",
       "DataFrame concatenation with empty or all-NA entries is deprecated. In a future version, this will no longer \n",
       "exclude empty or all-NA columns when determining the result dtypes. To retain the old behavior, exclude the \n",
       "relevant entries before the concat operation.\n",
       "  results = pd.concat([results, normalized_data]) #.dropna(axis=1, how=\"all\")])\n"
      ]
     },
     "metadata": {},
     "output_type": "display_data"
    },
    {
     "data": {
      "text/html": [
       "<pre style=\"white-space:pre;overflow-x:auto;line-height:normal;font-family:Menlo,'DejaVu Sans Mono',consolas,'Courier New',monospace\">/var/folders/7t/k8q3439j6z3c683j7w00wtm80000gn/T/ipykernel_58430/1419766920.py:27: FutureWarning: The behavior of \n",
       "DataFrame concatenation with empty or all-NA entries is deprecated. In a future version, this will no longer \n",
       "exclude empty or all-NA columns when determining the result dtypes. To retain the old behavior, exclude the \n",
       "relevant entries before the concat operation.\n",
       "  results = pd.concat([results, normalized_data]) #.dropna(axis=1, how=\"all\")])\n",
       "</pre>\n"
      ],
      "text/plain": [
       "/var/folders/7t/k8q3439j6z3c683j7w00wtm80000gn/T/ipykernel_58430/1419766920.py:27: FutureWarning: The behavior of \n",
       "DataFrame concatenation with empty or all-NA entries is deprecated. In a future version, this will no longer \n",
       "exclude empty or all-NA columns when determining the result dtypes. To retain the old behavior, exclude the \n",
       "relevant entries before the concat operation.\n",
       "  results = pd.concat([results, normalized_data]) #.dropna(axis=1, how=\"all\")])\n"
      ]
     },
     "metadata": {},
     "output_type": "display_data"
    },
    {
     "data": {
      "text/html": [
       "<pre style=\"white-space:pre;overflow-x:auto;line-height:normal;font-family:Menlo,'DejaVu Sans Mono',consolas,'Courier New',monospace\">/var/folders/7t/k8q3439j6z3c683j7w00wtm80000gn/T/ipykernel_58430/1419766920.py:27: FutureWarning: The behavior of \n",
       "DataFrame concatenation with empty or all-NA entries is deprecated. In a future version, this will no longer \n",
       "exclude empty or all-NA columns when determining the result dtypes. To retain the old behavior, exclude the \n",
       "relevant entries before the concat operation.\n",
       "  results = pd.concat([results, normalized_data]) #.dropna(axis=1, how=\"all\")])\n",
       "</pre>\n"
      ],
      "text/plain": [
       "/var/folders/7t/k8q3439j6z3c683j7w00wtm80000gn/T/ipykernel_58430/1419766920.py:27: FutureWarning: The behavior of \n",
       "DataFrame concatenation with empty or all-NA entries is deprecated. In a future version, this will no longer \n",
       "exclude empty or all-NA columns when determining the result dtypes. To retain the old behavior, exclude the \n",
       "relevant entries before the concat operation.\n",
       "  results = pd.concat([results, normalized_data]) #.dropna(axis=1, how=\"all\")])\n"
      ]
     },
     "metadata": {},
     "output_type": "display_data"
    },
    {
     "data": {
      "text/html": [
       "<pre style=\"white-space:pre;overflow-x:auto;line-height:normal;font-family:Menlo,'DejaVu Sans Mono',consolas,'Courier New',monospace\">/var/folders/7t/k8q3439j6z3c683j7w00wtm80000gn/T/ipykernel_58430/1419766920.py:27: FutureWarning: The behavior of \n",
       "DataFrame concatenation with empty or all-NA entries is deprecated. In a future version, this will no longer \n",
       "exclude empty or all-NA columns when determining the result dtypes. To retain the old behavior, exclude the \n",
       "relevant entries before the concat operation.\n",
       "  results = pd.concat([results, normalized_data]) #.dropna(axis=1, how=\"all\")])\n",
       "</pre>\n"
      ],
      "text/plain": [
       "/var/folders/7t/k8q3439j6z3c683j7w00wtm80000gn/T/ipykernel_58430/1419766920.py:27: FutureWarning: The behavior of \n",
       "DataFrame concatenation with empty or all-NA entries is deprecated. In a future version, this will no longer \n",
       "exclude empty or all-NA columns when determining the result dtypes. To retain the old behavior, exclude the \n",
       "relevant entries before the concat operation.\n",
       "  results = pd.concat([results, normalized_data]) #.dropna(axis=1, how=\"all\")])\n"
      ]
     },
     "metadata": {},
     "output_type": "display_data"
    },
    {
     "data": {
      "text/html": [
       "<pre style=\"white-space:pre;overflow-x:auto;line-height:normal;font-family:Menlo,'DejaVu Sans Mono',consolas,'Courier New',monospace\">/var/folders/7t/k8q3439j6z3c683j7w00wtm80000gn/T/ipykernel_58430/1419766920.py:27: FutureWarning: The behavior of \n",
       "DataFrame concatenation with empty or all-NA entries is deprecated. In a future version, this will no longer \n",
       "exclude empty or all-NA columns when determining the result dtypes. To retain the old behavior, exclude the \n",
       "relevant entries before the concat operation.\n",
       "  results = pd.concat([results, normalized_data]) #.dropna(axis=1, how=\"all\")])\n",
       "</pre>\n"
      ],
      "text/plain": [
       "/var/folders/7t/k8q3439j6z3c683j7w00wtm80000gn/T/ipykernel_58430/1419766920.py:27: FutureWarning: The behavior of \n",
       "DataFrame concatenation with empty or all-NA entries is deprecated. In a future version, this will no longer \n",
       "exclude empty or all-NA columns when determining the result dtypes. To retain the old behavior, exclude the \n",
       "relevant entries before the concat operation.\n",
       "  results = pd.concat([results, normalized_data]) #.dropna(axis=1, how=\"all\")])\n"
      ]
     },
     "metadata": {},
     "output_type": "display_data"
    },
    {
     "data": {
      "text/html": [
       "<pre style=\"white-space:pre;overflow-x:auto;line-height:normal;font-family:Menlo,'DejaVu Sans Mono',consolas,'Courier New',monospace\">/var/folders/7t/k8q3439j6z3c683j7w00wtm80000gn/T/ipykernel_58430/1419766920.py:27: FutureWarning: The behavior of \n",
       "DataFrame concatenation with empty or all-NA entries is deprecated. In a future version, this will no longer \n",
       "exclude empty or all-NA columns when determining the result dtypes. To retain the old behavior, exclude the \n",
       "relevant entries before the concat operation.\n",
       "  results = pd.concat([results, normalized_data]) #.dropna(axis=1, how=\"all\")])\n",
       "</pre>\n"
      ],
      "text/plain": [
       "/var/folders/7t/k8q3439j6z3c683j7w00wtm80000gn/T/ipykernel_58430/1419766920.py:27: FutureWarning: The behavior of \n",
       "DataFrame concatenation with empty or all-NA entries is deprecated. In a future version, this will no longer \n",
       "exclude empty or all-NA columns when determining the result dtypes. To retain the old behavior, exclude the \n",
       "relevant entries before the concat operation.\n",
       "  results = pd.concat([results, normalized_data]) #.dropna(axis=1, how=\"all\")])\n"
      ]
     },
     "metadata": {},
     "output_type": "display_data"
    },
    {
     "data": {
      "text/html": [
       "<pre style=\"white-space:pre;overflow-x:auto;line-height:normal;font-family:Menlo,'DejaVu Sans Mono',consolas,'Courier New',monospace\">/var/folders/7t/k8q3439j6z3c683j7w00wtm80000gn/T/ipykernel_58430/1419766920.py:27: FutureWarning: The behavior of \n",
       "DataFrame concatenation with empty or all-NA entries is deprecated. In a future version, this will no longer \n",
       "exclude empty or all-NA columns when determining the result dtypes. To retain the old behavior, exclude the \n",
       "relevant entries before the concat operation.\n",
       "  results = pd.concat([results, normalized_data]) #.dropna(axis=1, how=\"all\")])\n",
       "</pre>\n"
      ],
      "text/plain": [
       "/var/folders/7t/k8q3439j6z3c683j7w00wtm80000gn/T/ipykernel_58430/1419766920.py:27: FutureWarning: The behavior of \n",
       "DataFrame concatenation with empty or all-NA entries is deprecated. In a future version, this will no longer \n",
       "exclude empty or all-NA columns when determining the result dtypes. To retain the old behavior, exclude the \n",
       "relevant entries before the concat operation.\n",
       "  results = pd.concat([results, normalized_data]) #.dropna(axis=1, how=\"all\")])\n"
      ]
     },
     "metadata": {},
     "output_type": "display_data"
    },
    {
     "data": {
      "text/html": [
       "<pre style=\"white-space:pre;overflow-x:auto;line-height:normal;font-family:Menlo,'DejaVu Sans Mono',consolas,'Courier New',monospace\">/var/folders/7t/k8q3439j6z3c683j7w00wtm80000gn/T/ipykernel_58430/1419766920.py:27: FutureWarning: The behavior of \n",
       "DataFrame concatenation with empty or all-NA entries is deprecated. In a future version, this will no longer \n",
       "exclude empty or all-NA columns when determining the result dtypes. To retain the old behavior, exclude the \n",
       "relevant entries before the concat operation.\n",
       "  results = pd.concat([results, normalized_data]) #.dropna(axis=1, how=\"all\")])\n",
       "</pre>\n"
      ],
      "text/plain": [
       "/var/folders/7t/k8q3439j6z3c683j7w00wtm80000gn/T/ipykernel_58430/1419766920.py:27: FutureWarning: The behavior of \n",
       "DataFrame concatenation with empty or all-NA entries is deprecated. In a future version, this will no longer \n",
       "exclude empty or all-NA columns when determining the result dtypes. To retain the old behavior, exclude the \n",
       "relevant entries before the concat operation.\n",
       "  results = pd.concat([results, normalized_data]) #.dropna(axis=1, how=\"all\")])\n"
      ]
     },
     "metadata": {},
     "output_type": "display_data"
    },
    {
     "data": {
      "text/html": [
       "<pre style=\"white-space:pre;overflow-x:auto;line-height:normal;font-family:Menlo,'DejaVu Sans Mono',consolas,'Courier New',monospace\">/var/folders/7t/k8q3439j6z3c683j7w00wtm80000gn/T/ipykernel_58430/1419766920.py:27: FutureWarning: The behavior of \n",
       "DataFrame concatenation with empty or all-NA entries is deprecated. In a future version, this will no longer \n",
       "exclude empty or all-NA columns when determining the result dtypes. To retain the old behavior, exclude the \n",
       "relevant entries before the concat operation.\n",
       "  results = pd.concat([results, normalized_data]) #.dropna(axis=1, how=\"all\")])\n",
       "</pre>\n"
      ],
      "text/plain": [
       "/var/folders/7t/k8q3439j6z3c683j7w00wtm80000gn/T/ipykernel_58430/1419766920.py:27: FutureWarning: The behavior of \n",
       "DataFrame concatenation with empty or all-NA entries is deprecated. In a future version, this will no longer \n",
       "exclude empty or all-NA columns when determining the result dtypes. To retain the old behavior, exclude the \n",
       "relevant entries before the concat operation.\n",
       "  results = pd.concat([results, normalized_data]) #.dropna(axis=1, how=\"all\")])\n"
      ]
     },
     "metadata": {},
     "output_type": "display_data"
    },
    {
     "data": {
      "text/html": [
       "<pre style=\"white-space:pre;overflow-x:auto;line-height:normal;font-family:Menlo,'DejaVu Sans Mono',consolas,'Courier New',monospace\">/var/folders/7t/k8q3439j6z3c683j7w00wtm80000gn/T/ipykernel_58430/1419766920.py:27: FutureWarning: The behavior of \n",
       "DataFrame concatenation with empty or all-NA entries is deprecated. In a future version, this will no longer \n",
       "exclude empty or all-NA columns when determining the result dtypes. To retain the old behavior, exclude the \n",
       "relevant entries before the concat operation.\n",
       "  results = pd.concat([results, normalized_data]) #.dropna(axis=1, how=\"all\")])\n",
       "</pre>\n"
      ],
      "text/plain": [
       "/var/folders/7t/k8q3439j6z3c683j7w00wtm80000gn/T/ipykernel_58430/1419766920.py:27: FutureWarning: The behavior of \n",
       "DataFrame concatenation with empty or all-NA entries is deprecated. In a future version, this will no longer \n",
       "exclude empty or all-NA columns when determining the result dtypes. To retain the old behavior, exclude the \n",
       "relevant entries before the concat operation.\n",
       "  results = pd.concat([results, normalized_data]) #.dropna(axis=1, how=\"all\")])\n"
      ]
     },
     "metadata": {},
     "output_type": "display_data"
    },
    {
     "data": {
      "text/html": [
       "<pre style=\"white-space:pre;overflow-x:auto;line-height:normal;font-family:Menlo,'DejaVu Sans Mono',consolas,'Courier New',monospace\">/var/folders/7t/k8q3439j6z3c683j7w00wtm80000gn/T/ipykernel_58430/1419766920.py:27: FutureWarning: The behavior of \n",
       "DataFrame concatenation with empty or all-NA entries is deprecated. In a future version, this will no longer \n",
       "exclude empty or all-NA columns when determining the result dtypes. To retain the old behavior, exclude the \n",
       "relevant entries before the concat operation.\n",
       "  results = pd.concat([results, normalized_data]) #.dropna(axis=1, how=\"all\")])\n",
       "</pre>\n"
      ],
      "text/plain": [
       "/var/folders/7t/k8q3439j6z3c683j7w00wtm80000gn/T/ipykernel_58430/1419766920.py:27: FutureWarning: The behavior of \n",
       "DataFrame concatenation with empty or all-NA entries is deprecated. In a future version, this will no longer \n",
       "exclude empty or all-NA columns when determining the result dtypes. To retain the old behavior, exclude the \n",
       "relevant entries before the concat operation.\n",
       "  results = pd.concat([results, normalized_data]) #.dropna(axis=1, how=\"all\")])\n"
      ]
     },
     "metadata": {},
     "output_type": "display_data"
    },
    {
     "data": {
      "text/html": [
       "<pre style=\"white-space:pre;overflow-x:auto;line-height:normal;font-family:Menlo,'DejaVu Sans Mono',consolas,'Courier New',monospace\">/var/folders/7t/k8q3439j6z3c683j7w00wtm80000gn/T/ipykernel_58430/1419766920.py:27: FutureWarning: The behavior of \n",
       "DataFrame concatenation with empty or all-NA entries is deprecated. In a future version, this will no longer \n",
       "exclude empty or all-NA columns when determining the result dtypes. To retain the old behavior, exclude the \n",
       "relevant entries before the concat operation.\n",
       "  results = pd.concat([results, normalized_data]) #.dropna(axis=1, how=\"all\")])\n",
       "</pre>\n"
      ],
      "text/plain": [
       "/var/folders/7t/k8q3439j6z3c683j7w00wtm80000gn/T/ipykernel_58430/1419766920.py:27: FutureWarning: The behavior of \n",
       "DataFrame concatenation with empty or all-NA entries is deprecated. In a future version, this will no longer \n",
       "exclude empty or all-NA columns when determining the result dtypes. To retain the old behavior, exclude the \n",
       "relevant entries before the concat operation.\n",
       "  results = pd.concat([results, normalized_data]) #.dropna(axis=1, how=\"all\")])\n"
      ]
     },
     "metadata": {},
     "output_type": "display_data"
    },
    {
     "data": {
      "text/html": [
       "<pre style=\"white-space:pre;overflow-x:auto;line-height:normal;font-family:Menlo,'DejaVu Sans Mono',consolas,'Courier New',monospace\">/var/folders/7t/k8q3439j6z3c683j7w00wtm80000gn/T/ipykernel_58430/1419766920.py:27: FutureWarning: The behavior of \n",
       "DataFrame concatenation with empty or all-NA entries is deprecated. In a future version, this will no longer \n",
       "exclude empty or all-NA columns when determining the result dtypes. To retain the old behavior, exclude the \n",
       "relevant entries before the concat operation.\n",
       "  results = pd.concat([results, normalized_data]) #.dropna(axis=1, how=\"all\")])\n",
       "</pre>\n"
      ],
      "text/plain": [
       "/var/folders/7t/k8q3439j6z3c683j7w00wtm80000gn/T/ipykernel_58430/1419766920.py:27: FutureWarning: The behavior of \n",
       "DataFrame concatenation with empty or all-NA entries is deprecated. In a future version, this will no longer \n",
       "exclude empty or all-NA columns when determining the result dtypes. To retain the old behavior, exclude the \n",
       "relevant entries before the concat operation.\n",
       "  results = pd.concat([results, normalized_data]) #.dropna(axis=1, how=\"all\")])\n"
      ]
     },
     "metadata": {},
     "output_type": "display_data"
    },
    {
     "data": {
      "text/html": [
       "<pre style=\"white-space:pre;overflow-x:auto;line-height:normal;font-family:Menlo,'DejaVu Sans Mono',consolas,'Courier New',monospace\">/var/folders/7t/k8q3439j6z3c683j7w00wtm80000gn/T/ipykernel_58430/1419766920.py:27: FutureWarning: The behavior of \n",
       "DataFrame concatenation with empty or all-NA entries is deprecated. In a future version, this will no longer \n",
       "exclude empty or all-NA columns when determining the result dtypes. To retain the old behavior, exclude the \n",
       "relevant entries before the concat operation.\n",
       "  results = pd.concat([results, normalized_data]) #.dropna(axis=1, how=\"all\")])\n",
       "</pre>\n"
      ],
      "text/plain": [
       "/var/folders/7t/k8q3439j6z3c683j7w00wtm80000gn/T/ipykernel_58430/1419766920.py:27: FutureWarning: The behavior of \n",
       "DataFrame concatenation with empty or all-NA entries is deprecated. In a future version, this will no longer \n",
       "exclude empty or all-NA columns when determining the result dtypes. To retain the old behavior, exclude the \n",
       "relevant entries before the concat operation.\n",
       "  results = pd.concat([results, normalized_data]) #.dropna(axis=1, how=\"all\")])\n"
      ]
     },
     "metadata": {},
     "output_type": "display_data"
    },
    {
     "data": {
      "text/html": [
       "<pre style=\"white-space:pre;overflow-x:auto;line-height:normal;font-family:Menlo,'DejaVu Sans Mono',consolas,'Courier New',monospace\">/var/folders/7t/k8q3439j6z3c683j7w00wtm80000gn/T/ipykernel_58430/1419766920.py:27: FutureWarning: The behavior of \n",
       "DataFrame concatenation with empty or all-NA entries is deprecated. In a future version, this will no longer \n",
       "exclude empty or all-NA columns when determining the result dtypes. To retain the old behavior, exclude the \n",
       "relevant entries before the concat operation.\n",
       "  results = pd.concat([results, normalized_data]) #.dropna(axis=1, how=\"all\")])\n",
       "</pre>\n"
      ],
      "text/plain": [
       "/var/folders/7t/k8q3439j6z3c683j7w00wtm80000gn/T/ipykernel_58430/1419766920.py:27: FutureWarning: The behavior of \n",
       "DataFrame concatenation with empty or all-NA entries is deprecated. In a future version, this will no longer \n",
       "exclude empty or all-NA columns when determining the result dtypes. To retain the old behavior, exclude the \n",
       "relevant entries before the concat operation.\n",
       "  results = pd.concat([results, normalized_data]) #.dropna(axis=1, how=\"all\")])\n"
      ]
     },
     "metadata": {},
     "output_type": "display_data"
    },
    {
     "data": {
      "text/html": [
       "<pre style=\"white-space:pre;overflow-x:auto;line-height:normal;font-family:Menlo,'DejaVu Sans Mono',consolas,'Courier New',monospace\">/var/folders/7t/k8q3439j6z3c683j7w00wtm80000gn/T/ipykernel_58430/1419766920.py:27: FutureWarning: The behavior of \n",
       "DataFrame concatenation with empty or all-NA entries is deprecated. In a future version, this will no longer \n",
       "exclude empty or all-NA columns when determining the result dtypes. To retain the old behavior, exclude the \n",
       "relevant entries before the concat operation.\n",
       "  results = pd.concat([results, normalized_data]) #.dropna(axis=1, how=\"all\")])\n",
       "</pre>\n"
      ],
      "text/plain": [
       "/var/folders/7t/k8q3439j6z3c683j7w00wtm80000gn/T/ipykernel_58430/1419766920.py:27: FutureWarning: The behavior of \n",
       "DataFrame concatenation with empty or all-NA entries is deprecated. In a future version, this will no longer \n",
       "exclude empty or all-NA columns when determining the result dtypes. To retain the old behavior, exclude the \n",
       "relevant entries before the concat operation.\n",
       "  results = pd.concat([results, normalized_data]) #.dropna(axis=1, how=\"all\")])\n"
      ]
     },
     "metadata": {},
     "output_type": "display_data"
    },
    {
     "data": {
      "text/html": [
       "<pre style=\"white-space:pre;overflow-x:auto;line-height:normal;font-family:Menlo,'DejaVu Sans Mono',consolas,'Courier New',monospace\">/var/folders/7t/k8q3439j6z3c683j7w00wtm80000gn/T/ipykernel_58430/1419766920.py:27: FutureWarning: The behavior of \n",
       "DataFrame concatenation with empty or all-NA entries is deprecated. In a future version, this will no longer \n",
       "exclude empty or all-NA columns when determining the result dtypes. To retain the old behavior, exclude the \n",
       "relevant entries before the concat operation.\n",
       "  results = pd.concat([results, normalized_data]) #.dropna(axis=1, how=\"all\")])\n",
       "</pre>\n"
      ],
      "text/plain": [
       "/var/folders/7t/k8q3439j6z3c683j7w00wtm80000gn/T/ipykernel_58430/1419766920.py:27: FutureWarning: The behavior of \n",
       "DataFrame concatenation with empty or all-NA entries is deprecated. In a future version, this will no longer \n",
       "exclude empty or all-NA columns when determining the result dtypes. To retain the old behavior, exclude the \n",
       "relevant entries before the concat operation.\n",
       "  results = pd.concat([results, normalized_data]) #.dropna(axis=1, how=\"all\")])\n"
      ]
     },
     "metadata": {},
     "output_type": "display_data"
    },
    {
     "data": {
      "text/html": [
       "<pre style=\"white-space:pre;overflow-x:auto;line-height:normal;font-family:Menlo,'DejaVu Sans Mono',consolas,'Courier New',monospace\">/var/folders/7t/k8q3439j6z3c683j7w00wtm80000gn/T/ipykernel_58430/1419766920.py:27: FutureWarning: The behavior of \n",
       "DataFrame concatenation with empty or all-NA entries is deprecated. In a future version, this will no longer \n",
       "exclude empty or all-NA columns when determining the result dtypes. To retain the old behavior, exclude the \n",
       "relevant entries before the concat operation.\n",
       "  results = pd.concat([results, normalized_data]) #.dropna(axis=1, how=\"all\")])\n",
       "</pre>\n"
      ],
      "text/plain": [
       "/var/folders/7t/k8q3439j6z3c683j7w00wtm80000gn/T/ipykernel_58430/1419766920.py:27: FutureWarning: The behavior of \n",
       "DataFrame concatenation with empty or all-NA entries is deprecated. In a future version, this will no longer \n",
       "exclude empty or all-NA columns when determining the result dtypes. To retain the old behavior, exclude the \n",
       "relevant entries before the concat operation.\n",
       "  results = pd.concat([results, normalized_data]) #.dropna(axis=1, how=\"all\")])\n"
      ]
     },
     "metadata": {},
     "output_type": "display_data"
    },
    {
     "data": {
      "text/html": [
       "<pre style=\"white-space:pre;overflow-x:auto;line-height:normal;font-family:Menlo,'DejaVu Sans Mono',consolas,'Courier New',monospace\">/var/folders/7t/k8q3439j6z3c683j7w00wtm80000gn/T/ipykernel_58430/1419766920.py:27: FutureWarning: The behavior of \n",
       "DataFrame concatenation with empty or all-NA entries is deprecated. In a future version, this will no longer \n",
       "exclude empty or all-NA columns when determining the result dtypes. To retain the old behavior, exclude the \n",
       "relevant entries before the concat operation.\n",
       "  results = pd.concat([results, normalized_data]) #.dropna(axis=1, how=\"all\")])\n",
       "</pre>\n"
      ],
      "text/plain": [
       "/var/folders/7t/k8q3439j6z3c683j7w00wtm80000gn/T/ipykernel_58430/1419766920.py:27: FutureWarning: The behavior of \n",
       "DataFrame concatenation with empty or all-NA entries is deprecated. In a future version, this will no longer \n",
       "exclude empty or all-NA columns when determining the result dtypes. To retain the old behavior, exclude the \n",
       "relevant entries before the concat operation.\n",
       "  results = pd.concat([results, normalized_data]) #.dropna(axis=1, how=\"all\")])\n"
      ]
     },
     "metadata": {},
     "output_type": "display_data"
    },
    {
     "data": {
      "text/html": [
       "<pre style=\"white-space:pre;overflow-x:auto;line-height:normal;font-family:Menlo,'DejaVu Sans Mono',consolas,'Courier New',monospace\">/var/folders/7t/k8q3439j6z3c683j7w00wtm80000gn/T/ipykernel_58430/1419766920.py:27: FutureWarning: The behavior of \n",
       "DataFrame concatenation with empty or all-NA entries is deprecated. In a future version, this will no longer \n",
       "exclude empty or all-NA columns when determining the result dtypes. To retain the old behavior, exclude the \n",
       "relevant entries before the concat operation.\n",
       "  results = pd.concat([results, normalized_data]) #.dropna(axis=1, how=\"all\")])\n",
       "</pre>\n"
      ],
      "text/plain": [
       "/var/folders/7t/k8q3439j6z3c683j7w00wtm80000gn/T/ipykernel_58430/1419766920.py:27: FutureWarning: The behavior of \n",
       "DataFrame concatenation with empty or all-NA entries is deprecated. In a future version, this will no longer \n",
       "exclude empty or all-NA columns when determining the result dtypes. To retain the old behavior, exclude the \n",
       "relevant entries before the concat operation.\n",
       "  results = pd.concat([results, normalized_data]) #.dropna(axis=1, how=\"all\")])\n"
      ]
     },
     "metadata": {},
     "output_type": "display_data"
    },
    {
     "data": {
      "text/html": [
       "<pre style=\"white-space:pre;overflow-x:auto;line-height:normal;font-family:Menlo,'DejaVu Sans Mono',consolas,'Courier New',monospace\">/var/folders/7t/k8q3439j6z3c683j7w00wtm80000gn/T/ipykernel_58430/1419766920.py:27: FutureWarning: The behavior of \n",
       "DataFrame concatenation with empty or all-NA entries is deprecated. In a future version, this will no longer \n",
       "exclude empty or all-NA columns when determining the result dtypes. To retain the old behavior, exclude the \n",
       "relevant entries before the concat operation.\n",
       "  results = pd.concat([results, normalized_data]) #.dropna(axis=1, how=\"all\")])\n",
       "</pre>\n"
      ],
      "text/plain": [
       "/var/folders/7t/k8q3439j6z3c683j7w00wtm80000gn/T/ipykernel_58430/1419766920.py:27: FutureWarning: The behavior of \n",
       "DataFrame concatenation with empty or all-NA entries is deprecated. In a future version, this will no longer \n",
       "exclude empty or all-NA columns when determining the result dtypes. To retain the old behavior, exclude the \n",
       "relevant entries before the concat operation.\n",
       "  results = pd.concat([results, normalized_data]) #.dropna(axis=1, how=\"all\")])\n"
      ]
     },
     "metadata": {},
     "output_type": "display_data"
    },
    {
     "data": {
      "text/html": [
       "<pre style=\"white-space:pre;overflow-x:auto;line-height:normal;font-family:Menlo,'DejaVu Sans Mono',consolas,'Courier New',monospace\">/var/folders/7t/k8q3439j6z3c683j7w00wtm80000gn/T/ipykernel_58430/1419766920.py:27: FutureWarning: The behavior of \n",
       "DataFrame concatenation with empty or all-NA entries is deprecated. In a future version, this will no longer \n",
       "exclude empty or all-NA columns when determining the result dtypes. To retain the old behavior, exclude the \n",
       "relevant entries before the concat operation.\n",
       "  results = pd.concat([results, normalized_data]) #.dropna(axis=1, how=\"all\")])\n",
       "</pre>\n"
      ],
      "text/plain": [
       "/var/folders/7t/k8q3439j6z3c683j7w00wtm80000gn/T/ipykernel_58430/1419766920.py:27: FutureWarning: The behavior of \n",
       "DataFrame concatenation with empty or all-NA entries is deprecated. In a future version, this will no longer \n",
       "exclude empty or all-NA columns when determining the result dtypes. To retain the old behavior, exclude the \n",
       "relevant entries before the concat operation.\n",
       "  results = pd.concat([results, normalized_data]) #.dropna(axis=1, how=\"all\")])\n"
      ]
     },
     "metadata": {},
     "output_type": "display_data"
    },
    {
     "data": {
      "text/html": [
       "<pre style=\"white-space:pre;overflow-x:auto;line-height:normal;font-family:Menlo,'DejaVu Sans Mono',consolas,'Courier New',monospace\">/var/folders/7t/k8q3439j6z3c683j7w00wtm80000gn/T/ipykernel_58430/1419766920.py:27: FutureWarning: The behavior of \n",
       "DataFrame concatenation with empty or all-NA entries is deprecated. In a future version, this will no longer \n",
       "exclude empty or all-NA columns when determining the result dtypes. To retain the old behavior, exclude the \n",
       "relevant entries before the concat operation.\n",
       "  results = pd.concat([results, normalized_data]) #.dropna(axis=1, how=\"all\")])\n",
       "</pre>\n"
      ],
      "text/plain": [
       "/var/folders/7t/k8q3439j6z3c683j7w00wtm80000gn/T/ipykernel_58430/1419766920.py:27: FutureWarning: The behavior of \n",
       "DataFrame concatenation with empty or all-NA entries is deprecated. In a future version, this will no longer \n",
       "exclude empty or all-NA columns when determining the result dtypes. To retain the old behavior, exclude the \n",
       "relevant entries before the concat operation.\n",
       "  results = pd.concat([results, normalized_data]) #.dropna(axis=1, how=\"all\")])\n"
      ]
     },
     "metadata": {},
     "output_type": "display_data"
    },
    {
     "data": {
      "text/html": [
       "<pre style=\"white-space:pre;overflow-x:auto;line-height:normal;font-family:Menlo,'DejaVu Sans Mono',consolas,'Courier New',monospace\">/var/folders/7t/k8q3439j6z3c683j7w00wtm80000gn/T/ipykernel_58430/1419766920.py:27: FutureWarning: The behavior of \n",
       "DataFrame concatenation with empty or all-NA entries is deprecated. In a future version, this will no longer \n",
       "exclude empty or all-NA columns when determining the result dtypes. To retain the old behavior, exclude the \n",
       "relevant entries before the concat operation.\n",
       "  results = pd.concat([results, normalized_data]) #.dropna(axis=1, how=\"all\")])\n",
       "</pre>\n"
      ],
      "text/plain": [
       "/var/folders/7t/k8q3439j6z3c683j7w00wtm80000gn/T/ipykernel_58430/1419766920.py:27: FutureWarning: The behavior of \n",
       "DataFrame concatenation with empty or all-NA entries is deprecated. In a future version, this will no longer \n",
       "exclude empty or all-NA columns when determining the result dtypes. To retain the old behavior, exclude the \n",
       "relevant entries before the concat operation.\n",
       "  results = pd.concat([results, normalized_data]) #.dropna(axis=1, how=\"all\")])\n"
      ]
     },
     "metadata": {},
     "output_type": "display_data"
    },
    {
     "data": {
      "text/html": [
       "<pre style=\"white-space:pre;overflow-x:auto;line-height:normal;font-family:Menlo,'DejaVu Sans Mono',consolas,'Courier New',monospace\">/var/folders/7t/k8q3439j6z3c683j7w00wtm80000gn/T/ipykernel_58430/1419766920.py:27: FutureWarning: The behavior of \n",
       "DataFrame concatenation with empty or all-NA entries is deprecated. In a future version, this will no longer \n",
       "exclude empty or all-NA columns when determining the result dtypes. To retain the old behavior, exclude the \n",
       "relevant entries before the concat operation.\n",
       "  results = pd.concat([results, normalized_data]) #.dropna(axis=1, how=\"all\")])\n",
       "</pre>\n"
      ],
      "text/plain": [
       "/var/folders/7t/k8q3439j6z3c683j7w00wtm80000gn/T/ipykernel_58430/1419766920.py:27: FutureWarning: The behavior of \n",
       "DataFrame concatenation with empty or all-NA entries is deprecated. In a future version, this will no longer \n",
       "exclude empty or all-NA columns when determining the result dtypes. To retain the old behavior, exclude the \n",
       "relevant entries before the concat operation.\n",
       "  results = pd.concat([results, normalized_data]) #.dropna(axis=1, how=\"all\")])\n"
      ]
     },
     "metadata": {},
     "output_type": "display_data"
    },
    {
     "data": {
      "text/html": [
       "<pre style=\"white-space:pre;overflow-x:auto;line-height:normal;font-family:Menlo,'DejaVu Sans Mono',consolas,'Courier New',monospace\">/var/folders/7t/k8q3439j6z3c683j7w00wtm80000gn/T/ipykernel_58430/1419766920.py:27: FutureWarning: The behavior of \n",
       "DataFrame concatenation with empty or all-NA entries is deprecated. In a future version, this will no longer \n",
       "exclude empty or all-NA columns when determining the result dtypes. To retain the old behavior, exclude the \n",
       "relevant entries before the concat operation.\n",
       "  results = pd.concat([results, normalized_data]) #.dropna(axis=1, how=\"all\")])\n",
       "</pre>\n"
      ],
      "text/plain": [
       "/var/folders/7t/k8q3439j6z3c683j7w00wtm80000gn/T/ipykernel_58430/1419766920.py:27: FutureWarning: The behavior of \n",
       "DataFrame concatenation with empty or all-NA entries is deprecated. In a future version, this will no longer \n",
       "exclude empty or all-NA columns when determining the result dtypes. To retain the old behavior, exclude the \n",
       "relevant entries before the concat operation.\n",
       "  results = pd.concat([results, normalized_data]) #.dropna(axis=1, how=\"all\")])\n"
      ]
     },
     "metadata": {},
     "output_type": "display_data"
    },
    {
     "data": {
      "text/html": [
       "<pre style=\"white-space:pre;overflow-x:auto;line-height:normal;font-family:Menlo,'DejaVu Sans Mono',consolas,'Courier New',monospace\">/var/folders/7t/k8q3439j6z3c683j7w00wtm80000gn/T/ipykernel_58430/1419766920.py:27: FutureWarning: The behavior of \n",
       "DataFrame concatenation with empty or all-NA entries is deprecated. In a future version, this will no longer \n",
       "exclude empty or all-NA columns when determining the result dtypes. To retain the old behavior, exclude the \n",
       "relevant entries before the concat operation.\n",
       "  results = pd.concat([results, normalized_data]) #.dropna(axis=1, how=\"all\")])\n",
       "</pre>\n"
      ],
      "text/plain": [
       "/var/folders/7t/k8q3439j6z3c683j7w00wtm80000gn/T/ipykernel_58430/1419766920.py:27: FutureWarning: The behavior of \n",
       "DataFrame concatenation with empty or all-NA entries is deprecated. In a future version, this will no longer \n",
       "exclude empty or all-NA columns when determining the result dtypes. To retain the old behavior, exclude the \n",
       "relevant entries before the concat operation.\n",
       "  results = pd.concat([results, normalized_data]) #.dropna(axis=1, how=\"all\")])\n"
      ]
     },
     "metadata": {},
     "output_type": "display_data"
    },
    {
     "data": {
      "text/html": [
       "<pre style=\"white-space:pre;overflow-x:auto;line-height:normal;font-family:Menlo,'DejaVu Sans Mono',consolas,'Courier New',monospace\">/var/folders/7t/k8q3439j6z3c683j7w00wtm80000gn/T/ipykernel_58430/1419766920.py:27: FutureWarning: The behavior of \n",
       "DataFrame concatenation with empty or all-NA entries is deprecated. In a future version, this will no longer \n",
       "exclude empty or all-NA columns when determining the result dtypes. To retain the old behavior, exclude the \n",
       "relevant entries before the concat operation.\n",
       "  results = pd.concat([results, normalized_data]) #.dropna(axis=1, how=\"all\")])\n",
       "</pre>\n"
      ],
      "text/plain": [
       "/var/folders/7t/k8q3439j6z3c683j7w00wtm80000gn/T/ipykernel_58430/1419766920.py:27: FutureWarning: The behavior of \n",
       "DataFrame concatenation with empty or all-NA entries is deprecated. In a future version, this will no longer \n",
       "exclude empty or all-NA columns when determining the result dtypes. To retain the old behavior, exclude the \n",
       "relevant entries before the concat operation.\n",
       "  results = pd.concat([results, normalized_data]) #.dropna(axis=1, how=\"all\")])\n"
      ]
     },
     "metadata": {},
     "output_type": "display_data"
    },
    {
     "data": {
      "text/html": [
       "<pre style=\"white-space:pre;overflow-x:auto;line-height:normal;font-family:Menlo,'DejaVu Sans Mono',consolas,'Courier New',monospace\">/var/folders/7t/k8q3439j6z3c683j7w00wtm80000gn/T/ipykernel_58430/1419766920.py:27: FutureWarning: The behavior of \n",
       "DataFrame concatenation with empty or all-NA entries is deprecated. In a future version, this will no longer \n",
       "exclude empty or all-NA columns when determining the result dtypes. To retain the old behavior, exclude the \n",
       "relevant entries before the concat operation.\n",
       "  results = pd.concat([results, normalized_data]) #.dropna(axis=1, how=\"all\")])\n",
       "</pre>\n"
      ],
      "text/plain": [
       "/var/folders/7t/k8q3439j6z3c683j7w00wtm80000gn/T/ipykernel_58430/1419766920.py:27: FutureWarning: The behavior of \n",
       "DataFrame concatenation with empty or all-NA entries is deprecated. In a future version, this will no longer \n",
       "exclude empty or all-NA columns when determining the result dtypes. To retain the old behavior, exclude the \n",
       "relevant entries before the concat operation.\n",
       "  results = pd.concat([results, normalized_data]) #.dropna(axis=1, how=\"all\")])\n"
      ]
     },
     "metadata": {},
     "output_type": "display_data"
    },
    {
     "data": {
      "text/html": [
       "<pre style=\"white-space:pre;overflow-x:auto;line-height:normal;font-family:Menlo,'DejaVu Sans Mono',consolas,'Courier New',monospace\">/var/folders/7t/k8q3439j6z3c683j7w00wtm80000gn/T/ipykernel_58430/1419766920.py:27: FutureWarning: The behavior of \n",
       "DataFrame concatenation with empty or all-NA entries is deprecated. In a future version, this will no longer \n",
       "exclude empty or all-NA columns when determining the result dtypes. To retain the old behavior, exclude the \n",
       "relevant entries before the concat operation.\n",
       "  results = pd.concat([results, normalized_data]) #.dropna(axis=1, how=\"all\")])\n",
       "</pre>\n"
      ],
      "text/plain": [
       "/var/folders/7t/k8q3439j6z3c683j7w00wtm80000gn/T/ipykernel_58430/1419766920.py:27: FutureWarning: The behavior of \n",
       "DataFrame concatenation with empty or all-NA entries is deprecated. In a future version, this will no longer \n",
       "exclude empty or all-NA columns when determining the result dtypes. To retain the old behavior, exclude the \n",
       "relevant entries before the concat operation.\n",
       "  results = pd.concat([results, normalized_data]) #.dropna(axis=1, how=\"all\")])\n"
      ]
     },
     "metadata": {},
     "output_type": "display_data"
    },
    {
     "data": {
      "text/html": [
       "<pre style=\"white-space:pre;overflow-x:auto;line-height:normal;font-family:Menlo,'DejaVu Sans Mono',consolas,'Courier New',monospace\">/var/folders/7t/k8q3439j6z3c683j7w00wtm80000gn/T/ipykernel_58430/1419766920.py:27: FutureWarning: The behavior of \n",
       "DataFrame concatenation with empty or all-NA entries is deprecated. In a future version, this will no longer \n",
       "exclude empty or all-NA columns when determining the result dtypes. To retain the old behavior, exclude the \n",
       "relevant entries before the concat operation.\n",
       "  results = pd.concat([results, normalized_data]) #.dropna(axis=1, how=\"all\")])\n",
       "</pre>\n"
      ],
      "text/plain": [
       "/var/folders/7t/k8q3439j6z3c683j7w00wtm80000gn/T/ipykernel_58430/1419766920.py:27: FutureWarning: The behavior of \n",
       "DataFrame concatenation with empty or all-NA entries is deprecated. In a future version, this will no longer \n",
       "exclude empty or all-NA columns when determining the result dtypes. To retain the old behavior, exclude the \n",
       "relevant entries before the concat operation.\n",
       "  results = pd.concat([results, normalized_data]) #.dropna(axis=1, how=\"all\")])\n"
      ]
     },
     "metadata": {},
     "output_type": "display_data"
    },
    {
     "data": {
      "text/html": [
       "<pre style=\"white-space:pre;overflow-x:auto;line-height:normal;font-family:Menlo,'DejaVu Sans Mono',consolas,'Courier New',monospace\">/var/folders/7t/k8q3439j6z3c683j7w00wtm80000gn/T/ipykernel_58430/1419766920.py:27: FutureWarning: The behavior of \n",
       "DataFrame concatenation with empty or all-NA entries is deprecated. In a future version, this will no longer \n",
       "exclude empty or all-NA columns when determining the result dtypes. To retain the old behavior, exclude the \n",
       "relevant entries before the concat operation.\n",
       "  results = pd.concat([results, normalized_data]) #.dropna(axis=1, how=\"all\")])\n",
       "</pre>\n"
      ],
      "text/plain": [
       "/var/folders/7t/k8q3439j6z3c683j7w00wtm80000gn/T/ipykernel_58430/1419766920.py:27: FutureWarning: The behavior of \n",
       "DataFrame concatenation with empty or all-NA entries is deprecated. In a future version, this will no longer \n",
       "exclude empty or all-NA columns when determining the result dtypes. To retain the old behavior, exclude the \n",
       "relevant entries before the concat operation.\n",
       "  results = pd.concat([results, normalized_data]) #.dropna(axis=1, how=\"all\")])\n"
      ]
     },
     "metadata": {},
     "output_type": "display_data"
    },
    {
     "data": {
      "text/html": [
       "<pre style=\"white-space:pre;overflow-x:auto;line-height:normal;font-family:Menlo,'DejaVu Sans Mono',consolas,'Courier New',monospace\">/var/folders/7t/k8q3439j6z3c683j7w00wtm80000gn/T/ipykernel_58430/1419766920.py:27: FutureWarning: The behavior of \n",
       "DataFrame concatenation with empty or all-NA entries is deprecated. In a future version, this will no longer \n",
       "exclude empty or all-NA columns when determining the result dtypes. To retain the old behavior, exclude the \n",
       "relevant entries before the concat operation.\n",
       "  results = pd.concat([results, normalized_data]) #.dropna(axis=1, how=\"all\")])\n",
       "</pre>\n"
      ],
      "text/plain": [
       "/var/folders/7t/k8q3439j6z3c683j7w00wtm80000gn/T/ipykernel_58430/1419766920.py:27: FutureWarning: The behavior of \n",
       "DataFrame concatenation with empty or all-NA entries is deprecated. In a future version, this will no longer \n",
       "exclude empty or all-NA columns when determining the result dtypes. To retain the old behavior, exclude the \n",
       "relevant entries before the concat operation.\n",
       "  results = pd.concat([results, normalized_data]) #.dropna(axis=1, how=\"all\")])\n"
      ]
     },
     "metadata": {},
     "output_type": "display_data"
    },
    {
     "data": {
      "text/html": [
       "<pre style=\"white-space:pre;overflow-x:auto;line-height:normal;font-family:Menlo,'DejaVu Sans Mono',consolas,'Courier New',monospace\">/var/folders/7t/k8q3439j6z3c683j7w00wtm80000gn/T/ipykernel_58430/1419766920.py:27: FutureWarning: The behavior of \n",
       "DataFrame concatenation with empty or all-NA entries is deprecated. In a future version, this will no longer \n",
       "exclude empty or all-NA columns when determining the result dtypes. To retain the old behavior, exclude the \n",
       "relevant entries before the concat operation.\n",
       "  results = pd.concat([results, normalized_data]) #.dropna(axis=1, how=\"all\")])\n",
       "</pre>\n"
      ],
      "text/plain": [
       "/var/folders/7t/k8q3439j6z3c683j7w00wtm80000gn/T/ipykernel_58430/1419766920.py:27: FutureWarning: The behavior of \n",
       "DataFrame concatenation with empty or all-NA entries is deprecated. In a future version, this will no longer \n",
       "exclude empty or all-NA columns when determining the result dtypes. To retain the old behavior, exclude the \n",
       "relevant entries before the concat operation.\n",
       "  results = pd.concat([results, normalized_data]) #.dropna(axis=1, how=\"all\")])\n"
      ]
     },
     "metadata": {},
     "output_type": "display_data"
    },
    {
     "data": {
      "text/html": [
       "<pre style=\"white-space:pre;overflow-x:auto;line-height:normal;font-family:Menlo,'DejaVu Sans Mono',consolas,'Courier New',monospace\">/var/folders/7t/k8q3439j6z3c683j7w00wtm80000gn/T/ipykernel_58430/1419766920.py:27: FutureWarning: The behavior of \n",
       "DataFrame concatenation with empty or all-NA entries is deprecated. In a future version, this will no longer \n",
       "exclude empty or all-NA columns when determining the result dtypes. To retain the old behavior, exclude the \n",
       "relevant entries before the concat operation.\n",
       "  results = pd.concat([results, normalized_data]) #.dropna(axis=1, how=\"all\")])\n",
       "</pre>\n"
      ],
      "text/plain": [
       "/var/folders/7t/k8q3439j6z3c683j7w00wtm80000gn/T/ipykernel_58430/1419766920.py:27: FutureWarning: The behavior of \n",
       "DataFrame concatenation with empty or all-NA entries is deprecated. In a future version, this will no longer \n",
       "exclude empty or all-NA columns when determining the result dtypes. To retain the old behavior, exclude the \n",
       "relevant entries before the concat operation.\n",
       "  results = pd.concat([results, normalized_data]) #.dropna(axis=1, how=\"all\")])\n"
      ]
     },
     "metadata": {},
     "output_type": "display_data"
    },
    {
     "data": {
      "text/html": [
       "<pre style=\"white-space:pre;overflow-x:auto;line-height:normal;font-family:Menlo,'DejaVu Sans Mono',consolas,'Courier New',monospace\">/var/folders/7t/k8q3439j6z3c683j7w00wtm80000gn/T/ipykernel_58430/1419766920.py:27: FutureWarning: The behavior of \n",
       "DataFrame concatenation with empty or all-NA entries is deprecated. In a future version, this will no longer \n",
       "exclude empty or all-NA columns when determining the result dtypes. To retain the old behavior, exclude the \n",
       "relevant entries before the concat operation.\n",
       "  results = pd.concat([results, normalized_data]) #.dropna(axis=1, how=\"all\")])\n",
       "</pre>\n"
      ],
      "text/plain": [
       "/var/folders/7t/k8q3439j6z3c683j7w00wtm80000gn/T/ipykernel_58430/1419766920.py:27: FutureWarning: The behavior of \n",
       "DataFrame concatenation with empty or all-NA entries is deprecated. In a future version, this will no longer \n",
       "exclude empty or all-NA columns when determining the result dtypes. To retain the old behavior, exclude the \n",
       "relevant entries before the concat operation.\n",
       "  results = pd.concat([results, normalized_data]) #.dropna(axis=1, how=\"all\")])\n"
      ]
     },
     "metadata": {},
     "output_type": "display_data"
    },
    {
     "data": {
      "text/html": [
       "<pre style=\"white-space:pre;overflow-x:auto;line-height:normal;font-family:Menlo,'DejaVu Sans Mono',consolas,'Courier New',monospace\">/var/folders/7t/k8q3439j6z3c683j7w00wtm80000gn/T/ipykernel_58430/1419766920.py:27: FutureWarning: The behavior of \n",
       "DataFrame concatenation with empty or all-NA entries is deprecated. In a future version, this will no longer \n",
       "exclude empty or all-NA columns when determining the result dtypes. To retain the old behavior, exclude the \n",
       "relevant entries before the concat operation.\n",
       "  results = pd.concat([results, normalized_data]) #.dropna(axis=1, how=\"all\")])\n",
       "</pre>\n"
      ],
      "text/plain": [
       "/var/folders/7t/k8q3439j6z3c683j7w00wtm80000gn/T/ipykernel_58430/1419766920.py:27: FutureWarning: The behavior of \n",
       "DataFrame concatenation with empty or all-NA entries is deprecated. In a future version, this will no longer \n",
       "exclude empty or all-NA columns when determining the result dtypes. To retain the old behavior, exclude the \n",
       "relevant entries before the concat operation.\n",
       "  results = pd.concat([results, normalized_data]) #.dropna(axis=1, how=\"all\")])\n"
      ]
     },
     "metadata": {},
     "output_type": "display_data"
    },
    {
     "data": {
      "text/html": [
       "<pre style=\"white-space:pre;overflow-x:auto;line-height:normal;font-family:Menlo,'DejaVu Sans Mono',consolas,'Courier New',monospace\">/var/folders/7t/k8q3439j6z3c683j7w00wtm80000gn/T/ipykernel_58430/1419766920.py:27: FutureWarning: The behavior of \n",
       "DataFrame concatenation with empty or all-NA entries is deprecated. In a future version, this will no longer \n",
       "exclude empty or all-NA columns when determining the result dtypes. To retain the old behavior, exclude the \n",
       "relevant entries before the concat operation.\n",
       "  results = pd.concat([results, normalized_data]) #.dropna(axis=1, how=\"all\")])\n",
       "</pre>\n"
      ],
      "text/plain": [
       "/var/folders/7t/k8q3439j6z3c683j7w00wtm80000gn/T/ipykernel_58430/1419766920.py:27: FutureWarning: The behavior of \n",
       "DataFrame concatenation with empty or all-NA entries is deprecated. In a future version, this will no longer \n",
       "exclude empty or all-NA columns when determining the result dtypes. To retain the old behavior, exclude the \n",
       "relevant entries before the concat operation.\n",
       "  results = pd.concat([results, normalized_data]) #.dropna(axis=1, how=\"all\")])\n"
      ]
     },
     "metadata": {},
     "output_type": "display_data"
    },
    {
     "data": {
      "text/html": [
       "<pre style=\"white-space:pre;overflow-x:auto;line-height:normal;font-family:Menlo,'DejaVu Sans Mono',consolas,'Courier New',monospace\">/var/folders/7t/k8q3439j6z3c683j7w00wtm80000gn/T/ipykernel_58430/1419766920.py:27: FutureWarning: The behavior of \n",
       "DataFrame concatenation with empty or all-NA entries is deprecated. In a future version, this will no longer \n",
       "exclude empty or all-NA columns when determining the result dtypes. To retain the old behavior, exclude the \n",
       "relevant entries before the concat operation.\n",
       "  results = pd.concat([results, normalized_data]) #.dropna(axis=1, how=\"all\")])\n",
       "</pre>\n"
      ],
      "text/plain": [
       "/var/folders/7t/k8q3439j6z3c683j7w00wtm80000gn/T/ipykernel_58430/1419766920.py:27: FutureWarning: The behavior of \n",
       "DataFrame concatenation with empty or all-NA entries is deprecated. In a future version, this will no longer \n",
       "exclude empty or all-NA columns when determining the result dtypes. To retain the old behavior, exclude the \n",
       "relevant entries before the concat operation.\n",
       "  results = pd.concat([results, normalized_data]) #.dropna(axis=1, how=\"all\")])\n"
      ]
     },
     "metadata": {},
     "output_type": "display_data"
    },
    {
     "data": {
      "text/html": [
       "<pre style=\"white-space:pre;overflow-x:auto;line-height:normal;font-family:Menlo,'DejaVu Sans Mono',consolas,'Courier New',monospace\">/var/folders/7t/k8q3439j6z3c683j7w00wtm80000gn/T/ipykernel_58430/1419766920.py:27: FutureWarning: The behavior of \n",
       "DataFrame concatenation with empty or all-NA entries is deprecated. In a future version, this will no longer \n",
       "exclude empty or all-NA columns when determining the result dtypes. To retain the old behavior, exclude the \n",
       "relevant entries before the concat operation.\n",
       "  results = pd.concat([results, normalized_data]) #.dropna(axis=1, how=\"all\")])\n",
       "</pre>\n"
      ],
      "text/plain": [
       "/var/folders/7t/k8q3439j6z3c683j7w00wtm80000gn/T/ipykernel_58430/1419766920.py:27: FutureWarning: The behavior of \n",
       "DataFrame concatenation with empty or all-NA entries is deprecated. In a future version, this will no longer \n",
       "exclude empty or all-NA columns when determining the result dtypes. To retain the old behavior, exclude the \n",
       "relevant entries before the concat operation.\n",
       "  results = pd.concat([results, normalized_data]) #.dropna(axis=1, how=\"all\")])\n"
      ]
     },
     "metadata": {},
     "output_type": "display_data"
    },
    {
     "data": {
      "text/html": [
       "<pre style=\"white-space:pre;overflow-x:auto;line-height:normal;font-family:Menlo,'DejaVu Sans Mono',consolas,'Courier New',monospace\">/var/folders/7t/k8q3439j6z3c683j7w00wtm80000gn/T/ipykernel_58430/1419766920.py:27: FutureWarning: The behavior of \n",
       "DataFrame concatenation with empty or all-NA entries is deprecated. In a future version, this will no longer \n",
       "exclude empty or all-NA columns when determining the result dtypes. To retain the old behavior, exclude the \n",
       "relevant entries before the concat operation.\n",
       "  results = pd.concat([results, normalized_data]) #.dropna(axis=1, how=\"all\")])\n",
       "</pre>\n"
      ],
      "text/plain": [
       "/var/folders/7t/k8q3439j6z3c683j7w00wtm80000gn/T/ipykernel_58430/1419766920.py:27: FutureWarning: The behavior of \n",
       "DataFrame concatenation with empty or all-NA entries is deprecated. In a future version, this will no longer \n",
       "exclude empty or all-NA columns when determining the result dtypes. To retain the old behavior, exclude the \n",
       "relevant entries before the concat operation.\n",
       "  results = pd.concat([results, normalized_data]) #.dropna(axis=1, how=\"all\")])\n"
      ]
     },
     "metadata": {},
     "output_type": "display_data"
    },
    {
     "data": {
      "text/html": [
       "<pre style=\"white-space:pre;overflow-x:auto;line-height:normal;font-family:Menlo,'DejaVu Sans Mono',consolas,'Courier New',monospace\">/var/folders/7t/k8q3439j6z3c683j7w00wtm80000gn/T/ipykernel_58430/1419766920.py:27: FutureWarning: The behavior of \n",
       "DataFrame concatenation with empty or all-NA entries is deprecated. In a future version, this will no longer \n",
       "exclude empty or all-NA columns when determining the result dtypes. To retain the old behavior, exclude the \n",
       "relevant entries before the concat operation.\n",
       "  results = pd.concat([results, normalized_data]) #.dropna(axis=1, how=\"all\")])\n",
       "</pre>\n"
      ],
      "text/plain": [
       "/var/folders/7t/k8q3439j6z3c683j7w00wtm80000gn/T/ipykernel_58430/1419766920.py:27: FutureWarning: The behavior of \n",
       "DataFrame concatenation with empty or all-NA entries is deprecated. In a future version, this will no longer \n",
       "exclude empty or all-NA columns when determining the result dtypes. To retain the old behavior, exclude the \n",
       "relevant entries before the concat operation.\n",
       "  results = pd.concat([results, normalized_data]) #.dropna(axis=1, how=\"all\")])\n"
      ]
     },
     "metadata": {},
     "output_type": "display_data"
    },
    {
     "data": {
      "text/html": [
       "<pre style=\"white-space:pre;overflow-x:auto;line-height:normal;font-family:Menlo,'DejaVu Sans Mono',consolas,'Courier New',monospace\">/var/folders/7t/k8q3439j6z3c683j7w00wtm80000gn/T/ipykernel_58430/1419766920.py:27: FutureWarning: The behavior of \n",
       "DataFrame concatenation with empty or all-NA entries is deprecated. In a future version, this will no longer \n",
       "exclude empty or all-NA columns when determining the result dtypes. To retain the old behavior, exclude the \n",
       "relevant entries before the concat operation.\n",
       "  results = pd.concat([results, normalized_data]) #.dropna(axis=1, how=\"all\")])\n",
       "</pre>\n"
      ],
      "text/plain": [
       "/var/folders/7t/k8q3439j6z3c683j7w00wtm80000gn/T/ipykernel_58430/1419766920.py:27: FutureWarning: The behavior of \n",
       "DataFrame concatenation with empty or all-NA entries is deprecated. In a future version, this will no longer \n",
       "exclude empty or all-NA columns when determining the result dtypes. To retain the old behavior, exclude the \n",
       "relevant entries before the concat operation.\n",
       "  results = pd.concat([results, normalized_data]) #.dropna(axis=1, how=\"all\")])\n"
      ]
     },
     "metadata": {},
     "output_type": "display_data"
    },
    {
     "data": {
      "text/html": [
       "<pre style=\"white-space:pre;overflow-x:auto;line-height:normal;font-family:Menlo,'DejaVu Sans Mono',consolas,'Courier New',monospace\">/var/folders/7t/k8q3439j6z3c683j7w00wtm80000gn/T/ipykernel_58430/1419766920.py:27: FutureWarning: The behavior of \n",
       "DataFrame concatenation with empty or all-NA entries is deprecated. In a future version, this will no longer \n",
       "exclude empty or all-NA columns when determining the result dtypes. To retain the old behavior, exclude the \n",
       "relevant entries before the concat operation.\n",
       "  results = pd.concat([results, normalized_data]) #.dropna(axis=1, how=\"all\")])\n",
       "</pre>\n"
      ],
      "text/plain": [
       "/var/folders/7t/k8q3439j6z3c683j7w00wtm80000gn/T/ipykernel_58430/1419766920.py:27: FutureWarning: The behavior of \n",
       "DataFrame concatenation with empty or all-NA entries is deprecated. In a future version, this will no longer \n",
       "exclude empty or all-NA columns when determining the result dtypes. To retain the old behavior, exclude the \n",
       "relevant entries before the concat operation.\n",
       "  results = pd.concat([results, normalized_data]) #.dropna(axis=1, how=\"all\")])\n"
      ]
     },
     "metadata": {},
     "output_type": "display_data"
    },
    {
     "data": {
      "text/html": [
       "<pre style=\"white-space:pre;overflow-x:auto;line-height:normal;font-family:Menlo,'DejaVu Sans Mono',consolas,'Courier New',monospace\">/var/folders/7t/k8q3439j6z3c683j7w00wtm80000gn/T/ipykernel_58430/1419766920.py:27: FutureWarning: The behavior of \n",
       "DataFrame concatenation with empty or all-NA entries is deprecated. In a future version, this will no longer \n",
       "exclude empty or all-NA columns when determining the result dtypes. To retain the old behavior, exclude the \n",
       "relevant entries before the concat operation.\n",
       "  results = pd.concat([results, normalized_data]) #.dropna(axis=1, how=\"all\")])\n",
       "</pre>\n"
      ],
      "text/plain": [
       "/var/folders/7t/k8q3439j6z3c683j7w00wtm80000gn/T/ipykernel_58430/1419766920.py:27: FutureWarning: The behavior of \n",
       "DataFrame concatenation with empty or all-NA entries is deprecated. In a future version, this will no longer \n",
       "exclude empty or all-NA columns when determining the result dtypes. To retain the old behavior, exclude the \n",
       "relevant entries before the concat operation.\n",
       "  results = pd.concat([results, normalized_data]) #.dropna(axis=1, how=\"all\")])\n"
      ]
     },
     "metadata": {},
     "output_type": "display_data"
    },
    {
     "data": {
      "text/html": [
       "<pre style=\"white-space:pre;overflow-x:auto;line-height:normal;font-family:Menlo,'DejaVu Sans Mono',consolas,'Courier New',monospace\">/var/folders/7t/k8q3439j6z3c683j7w00wtm80000gn/T/ipykernel_58430/1419766920.py:27: FutureWarning: The behavior of \n",
       "DataFrame concatenation with empty or all-NA entries is deprecated. In a future version, this will no longer \n",
       "exclude empty or all-NA columns when determining the result dtypes. To retain the old behavior, exclude the \n",
       "relevant entries before the concat operation.\n",
       "  results = pd.concat([results, normalized_data]) #.dropna(axis=1, how=\"all\")])\n",
       "</pre>\n"
      ],
      "text/plain": [
       "/var/folders/7t/k8q3439j6z3c683j7w00wtm80000gn/T/ipykernel_58430/1419766920.py:27: FutureWarning: The behavior of \n",
       "DataFrame concatenation with empty or all-NA entries is deprecated. In a future version, this will no longer \n",
       "exclude empty or all-NA columns when determining the result dtypes. To retain the old behavior, exclude the \n",
       "relevant entries before the concat operation.\n",
       "  results = pd.concat([results, normalized_data]) #.dropna(axis=1, how=\"all\")])\n"
      ]
     },
     "metadata": {},
     "output_type": "display_data"
    },
    {
     "data": {
      "text/html": [
       "<pre style=\"white-space:pre;overflow-x:auto;line-height:normal;font-family:Menlo,'DejaVu Sans Mono',consolas,'Courier New',monospace\">/var/folders/7t/k8q3439j6z3c683j7w00wtm80000gn/T/ipykernel_58430/1419766920.py:27: FutureWarning: The behavior of \n",
       "DataFrame concatenation with empty or all-NA entries is deprecated. In a future version, this will no longer \n",
       "exclude empty or all-NA columns when determining the result dtypes. To retain the old behavior, exclude the \n",
       "relevant entries before the concat operation.\n",
       "  results = pd.concat([results, normalized_data]) #.dropna(axis=1, how=\"all\")])\n",
       "</pre>\n"
      ],
      "text/plain": [
       "/var/folders/7t/k8q3439j6z3c683j7w00wtm80000gn/T/ipykernel_58430/1419766920.py:27: FutureWarning: The behavior of \n",
       "DataFrame concatenation with empty or all-NA entries is deprecated. In a future version, this will no longer \n",
       "exclude empty or all-NA columns when determining the result dtypes. To retain the old behavior, exclude the \n",
       "relevant entries before the concat operation.\n",
       "  results = pd.concat([results, normalized_data]) #.dropna(axis=1, how=\"all\")])\n"
      ]
     },
     "metadata": {},
     "output_type": "display_data"
    },
    {
     "data": {
      "text/html": [
       "<pre style=\"white-space:pre;overflow-x:auto;line-height:normal;font-family:Menlo,'DejaVu Sans Mono',consolas,'Courier New',monospace\">/var/folders/7t/k8q3439j6z3c683j7w00wtm80000gn/T/ipykernel_58430/1419766920.py:27: FutureWarning: The behavior of \n",
       "DataFrame concatenation with empty or all-NA entries is deprecated. In a future version, this will no longer \n",
       "exclude empty or all-NA columns when determining the result dtypes. To retain the old behavior, exclude the \n",
       "relevant entries before the concat operation.\n",
       "  results = pd.concat([results, normalized_data]) #.dropna(axis=1, how=\"all\")])\n",
       "</pre>\n"
      ],
      "text/plain": [
       "/var/folders/7t/k8q3439j6z3c683j7w00wtm80000gn/T/ipykernel_58430/1419766920.py:27: FutureWarning: The behavior of \n",
       "DataFrame concatenation with empty or all-NA entries is deprecated. In a future version, this will no longer \n",
       "exclude empty or all-NA columns when determining the result dtypes. To retain the old behavior, exclude the \n",
       "relevant entries before the concat operation.\n",
       "  results = pd.concat([results, normalized_data]) #.dropna(axis=1, how=\"all\")])\n"
      ]
     },
     "metadata": {},
     "output_type": "display_data"
    },
    {
     "data": {
      "text/html": [
       "<pre style=\"white-space:pre;overflow-x:auto;line-height:normal;font-family:Menlo,'DejaVu Sans Mono',consolas,'Courier New',monospace\">/var/folders/7t/k8q3439j6z3c683j7w00wtm80000gn/T/ipykernel_58430/1419766920.py:27: FutureWarning: The behavior of \n",
       "DataFrame concatenation with empty or all-NA entries is deprecated. In a future version, this will no longer \n",
       "exclude empty or all-NA columns when determining the result dtypes. To retain the old behavior, exclude the \n",
       "relevant entries before the concat operation.\n",
       "  results = pd.concat([results, normalized_data]) #.dropna(axis=1, how=\"all\")])\n",
       "</pre>\n"
      ],
      "text/plain": [
       "/var/folders/7t/k8q3439j6z3c683j7w00wtm80000gn/T/ipykernel_58430/1419766920.py:27: FutureWarning: The behavior of \n",
       "DataFrame concatenation with empty or all-NA entries is deprecated. In a future version, this will no longer \n",
       "exclude empty or all-NA columns when determining the result dtypes. To retain the old behavior, exclude the \n",
       "relevant entries before the concat operation.\n",
       "  results = pd.concat([results, normalized_data]) #.dropna(axis=1, how=\"all\")])\n"
      ]
     },
     "metadata": {},
     "output_type": "display_data"
    },
    {
     "data": {
      "text/html": [
       "<pre style=\"white-space:pre;overflow-x:auto;line-height:normal;font-family:Menlo,'DejaVu Sans Mono',consolas,'Courier New',monospace\">/var/folders/7t/k8q3439j6z3c683j7w00wtm80000gn/T/ipykernel_58430/1419766920.py:27: FutureWarning: The behavior of \n",
       "DataFrame concatenation with empty or all-NA entries is deprecated. In a future version, this will no longer \n",
       "exclude empty or all-NA columns when determining the result dtypes. To retain the old behavior, exclude the \n",
       "relevant entries before the concat operation.\n",
       "  results = pd.concat([results, normalized_data]) #.dropna(axis=1, how=\"all\")])\n",
       "</pre>\n"
      ],
      "text/plain": [
       "/var/folders/7t/k8q3439j6z3c683j7w00wtm80000gn/T/ipykernel_58430/1419766920.py:27: FutureWarning: The behavior of \n",
       "DataFrame concatenation with empty or all-NA entries is deprecated. In a future version, this will no longer \n",
       "exclude empty or all-NA columns when determining the result dtypes. To retain the old behavior, exclude the \n",
       "relevant entries before the concat operation.\n",
       "  results = pd.concat([results, normalized_data]) #.dropna(axis=1, how=\"all\")])\n"
      ]
     },
     "metadata": {},
     "output_type": "display_data"
    },
    {
     "data": {
      "text/html": [
       "<pre style=\"white-space:pre;overflow-x:auto;line-height:normal;font-family:Menlo,'DejaVu Sans Mono',consolas,'Courier New',monospace\">/var/folders/7t/k8q3439j6z3c683j7w00wtm80000gn/T/ipykernel_58430/1419766920.py:27: FutureWarning: The behavior of \n",
       "DataFrame concatenation with empty or all-NA entries is deprecated. In a future version, this will no longer \n",
       "exclude empty or all-NA columns when determining the result dtypes. To retain the old behavior, exclude the \n",
       "relevant entries before the concat operation.\n",
       "  results = pd.concat([results, normalized_data]) #.dropna(axis=1, how=\"all\")])\n",
       "</pre>\n"
      ],
      "text/plain": [
       "/var/folders/7t/k8q3439j6z3c683j7w00wtm80000gn/T/ipykernel_58430/1419766920.py:27: FutureWarning: The behavior of \n",
       "DataFrame concatenation with empty or all-NA entries is deprecated. In a future version, this will no longer \n",
       "exclude empty or all-NA columns when determining the result dtypes. To retain the old behavior, exclude the \n",
       "relevant entries before the concat operation.\n",
       "  results = pd.concat([results, normalized_data]) #.dropna(axis=1, how=\"all\")])\n"
      ]
     },
     "metadata": {},
     "output_type": "display_data"
    },
    {
     "data": {
      "text/html": [
       "<pre style=\"white-space:pre;overflow-x:auto;line-height:normal;font-family:Menlo,'DejaVu Sans Mono',consolas,'Courier New',monospace\">/var/folders/7t/k8q3439j6z3c683j7w00wtm80000gn/T/ipykernel_58430/1419766920.py:27: FutureWarning: The behavior of \n",
       "DataFrame concatenation with empty or all-NA entries is deprecated. In a future version, this will no longer \n",
       "exclude empty or all-NA columns when determining the result dtypes. To retain the old behavior, exclude the \n",
       "relevant entries before the concat operation.\n",
       "  results = pd.concat([results, normalized_data]) #.dropna(axis=1, how=\"all\")])\n",
       "</pre>\n"
      ],
      "text/plain": [
       "/var/folders/7t/k8q3439j6z3c683j7w00wtm80000gn/T/ipykernel_58430/1419766920.py:27: FutureWarning: The behavior of \n",
       "DataFrame concatenation with empty or all-NA entries is deprecated. In a future version, this will no longer \n",
       "exclude empty or all-NA columns when determining the result dtypes. To retain the old behavior, exclude the \n",
       "relevant entries before the concat operation.\n",
       "  results = pd.concat([results, normalized_data]) #.dropna(axis=1, how=\"all\")])\n"
      ]
     },
     "metadata": {},
     "output_type": "display_data"
    },
    {
     "data": {
      "text/html": [
       "<pre style=\"white-space:pre;overflow-x:auto;line-height:normal;font-family:Menlo,'DejaVu Sans Mono',consolas,'Courier New',monospace\">/var/folders/7t/k8q3439j6z3c683j7w00wtm80000gn/T/ipykernel_58430/1419766920.py:27: FutureWarning: The behavior of \n",
       "DataFrame concatenation with empty or all-NA entries is deprecated. In a future version, this will no longer \n",
       "exclude empty or all-NA columns when determining the result dtypes. To retain the old behavior, exclude the \n",
       "relevant entries before the concat operation.\n",
       "  results = pd.concat([results, normalized_data]) #.dropna(axis=1, how=\"all\")])\n",
       "</pre>\n"
      ],
      "text/plain": [
       "/var/folders/7t/k8q3439j6z3c683j7w00wtm80000gn/T/ipykernel_58430/1419766920.py:27: FutureWarning: The behavior of \n",
       "DataFrame concatenation with empty or all-NA entries is deprecated. In a future version, this will no longer \n",
       "exclude empty or all-NA columns when determining the result dtypes. To retain the old behavior, exclude the \n",
       "relevant entries before the concat operation.\n",
       "  results = pd.concat([results, normalized_data]) #.dropna(axis=1, how=\"all\")])\n"
      ]
     },
     "metadata": {},
     "output_type": "display_data"
    },
    {
     "data": {
      "text/html": [
       "<pre style=\"white-space:pre;overflow-x:auto;line-height:normal;font-family:Menlo,'DejaVu Sans Mono',consolas,'Courier New',monospace\">/var/folders/7t/k8q3439j6z3c683j7w00wtm80000gn/T/ipykernel_58430/1419766920.py:27: FutureWarning: The behavior of \n",
       "DataFrame concatenation with empty or all-NA entries is deprecated. In a future version, this will no longer \n",
       "exclude empty or all-NA columns when determining the result dtypes. To retain the old behavior, exclude the \n",
       "relevant entries before the concat operation.\n",
       "  results = pd.concat([results, normalized_data]) #.dropna(axis=1, how=\"all\")])\n",
       "</pre>\n"
      ],
      "text/plain": [
       "/var/folders/7t/k8q3439j6z3c683j7w00wtm80000gn/T/ipykernel_58430/1419766920.py:27: FutureWarning: The behavior of \n",
       "DataFrame concatenation with empty or all-NA entries is deprecated. In a future version, this will no longer \n",
       "exclude empty or all-NA columns when determining the result dtypes. To retain the old behavior, exclude the \n",
       "relevant entries before the concat operation.\n",
       "  results = pd.concat([results, normalized_data]) #.dropna(axis=1, how=\"all\")])\n"
      ]
     },
     "metadata": {},
     "output_type": "display_data"
    },
    {
     "data": {
      "text/html": [
       "<pre style=\"white-space:pre;overflow-x:auto;line-height:normal;font-family:Menlo,'DejaVu Sans Mono',consolas,'Courier New',monospace\">/var/folders/7t/k8q3439j6z3c683j7w00wtm80000gn/T/ipykernel_58430/1419766920.py:27: FutureWarning: The behavior of \n",
       "DataFrame concatenation with empty or all-NA entries is deprecated. In a future version, this will no longer \n",
       "exclude empty or all-NA columns when determining the result dtypes. To retain the old behavior, exclude the \n",
       "relevant entries before the concat operation.\n",
       "  results = pd.concat([results, normalized_data]) #.dropna(axis=1, how=\"all\")])\n",
       "</pre>\n"
      ],
      "text/plain": [
       "/var/folders/7t/k8q3439j6z3c683j7w00wtm80000gn/T/ipykernel_58430/1419766920.py:27: FutureWarning: The behavior of \n",
       "DataFrame concatenation with empty or all-NA entries is deprecated. In a future version, this will no longer \n",
       "exclude empty or all-NA columns when determining the result dtypes. To retain the old behavior, exclude the \n",
       "relevant entries before the concat operation.\n",
       "  results = pd.concat([results, normalized_data]) #.dropna(axis=1, how=\"all\")])\n"
      ]
     },
     "metadata": {},
     "output_type": "display_data"
    },
    {
     "data": {
      "text/html": [
       "<pre style=\"white-space:pre;overflow-x:auto;line-height:normal;font-family:Menlo,'DejaVu Sans Mono',consolas,'Courier New',monospace\">/var/folders/7t/k8q3439j6z3c683j7w00wtm80000gn/T/ipykernel_58430/1419766920.py:27: FutureWarning: The behavior of \n",
       "DataFrame concatenation with empty or all-NA entries is deprecated. In a future version, this will no longer \n",
       "exclude empty or all-NA columns when determining the result dtypes. To retain the old behavior, exclude the \n",
       "relevant entries before the concat operation.\n",
       "  results = pd.concat([results, normalized_data]) #.dropna(axis=1, how=\"all\")])\n",
       "</pre>\n"
      ],
      "text/plain": [
       "/var/folders/7t/k8q3439j6z3c683j7w00wtm80000gn/T/ipykernel_58430/1419766920.py:27: FutureWarning: The behavior of \n",
       "DataFrame concatenation with empty or all-NA entries is deprecated. In a future version, this will no longer \n",
       "exclude empty or all-NA columns when determining the result dtypes. To retain the old behavior, exclude the \n",
       "relevant entries before the concat operation.\n",
       "  results = pd.concat([results, normalized_data]) #.dropna(axis=1, how=\"all\")])\n"
      ]
     },
     "metadata": {},
     "output_type": "display_data"
    },
    {
     "data": {
      "text/html": [
       "<pre style=\"white-space:pre;overflow-x:auto;line-height:normal;font-family:Menlo,'DejaVu Sans Mono',consolas,'Courier New',monospace\">/var/folders/7t/k8q3439j6z3c683j7w00wtm80000gn/T/ipykernel_58430/1419766920.py:27: FutureWarning: The behavior of \n",
       "DataFrame concatenation with empty or all-NA entries is deprecated. In a future version, this will no longer \n",
       "exclude empty or all-NA columns when determining the result dtypes. To retain the old behavior, exclude the \n",
       "relevant entries before the concat operation.\n",
       "  results = pd.concat([results, normalized_data]) #.dropna(axis=1, how=\"all\")])\n",
       "</pre>\n"
      ],
      "text/plain": [
       "/var/folders/7t/k8q3439j6z3c683j7w00wtm80000gn/T/ipykernel_58430/1419766920.py:27: FutureWarning: The behavior of \n",
       "DataFrame concatenation with empty or all-NA entries is deprecated. In a future version, this will no longer \n",
       "exclude empty or all-NA columns when determining the result dtypes. To retain the old behavior, exclude the \n",
       "relevant entries before the concat operation.\n",
       "  results = pd.concat([results, normalized_data]) #.dropna(axis=1, how=\"all\")])\n"
      ]
     },
     "metadata": {},
     "output_type": "display_data"
    },
    {
     "data": {
      "text/html": [
       "<pre style=\"white-space:pre;overflow-x:auto;line-height:normal;font-family:Menlo,'DejaVu Sans Mono',consolas,'Courier New',monospace\">/var/folders/7t/k8q3439j6z3c683j7w00wtm80000gn/T/ipykernel_58430/1419766920.py:27: FutureWarning: The behavior of \n",
       "DataFrame concatenation with empty or all-NA entries is deprecated. In a future version, this will no longer \n",
       "exclude empty or all-NA columns when determining the result dtypes. To retain the old behavior, exclude the \n",
       "relevant entries before the concat operation.\n",
       "  results = pd.concat([results, normalized_data]) #.dropna(axis=1, how=\"all\")])\n",
       "</pre>\n"
      ],
      "text/plain": [
       "/var/folders/7t/k8q3439j6z3c683j7w00wtm80000gn/T/ipykernel_58430/1419766920.py:27: FutureWarning: The behavior of \n",
       "DataFrame concatenation with empty or all-NA entries is deprecated. In a future version, this will no longer \n",
       "exclude empty or all-NA columns when determining the result dtypes. To retain the old behavior, exclude the \n",
       "relevant entries before the concat operation.\n",
       "  results = pd.concat([results, normalized_data]) #.dropna(axis=1, how=\"all\")])\n"
      ]
     },
     "metadata": {},
     "output_type": "display_data"
    },
    {
     "data": {
      "text/html": [
       "<pre style=\"white-space:pre;overflow-x:auto;line-height:normal;font-family:Menlo,'DejaVu Sans Mono',consolas,'Courier New',monospace\">/var/folders/7t/k8q3439j6z3c683j7w00wtm80000gn/T/ipykernel_58430/1419766920.py:27: FutureWarning: The behavior of \n",
       "DataFrame concatenation with empty or all-NA entries is deprecated. In a future version, this will no longer \n",
       "exclude empty or all-NA columns when determining the result dtypes. To retain the old behavior, exclude the \n",
       "relevant entries before the concat operation.\n",
       "  results = pd.concat([results, normalized_data]) #.dropna(axis=1, how=\"all\")])\n",
       "</pre>\n"
      ],
      "text/plain": [
       "/var/folders/7t/k8q3439j6z3c683j7w00wtm80000gn/T/ipykernel_58430/1419766920.py:27: FutureWarning: The behavior of \n",
       "DataFrame concatenation with empty or all-NA entries is deprecated. In a future version, this will no longer \n",
       "exclude empty or all-NA columns when determining the result dtypes. To retain the old behavior, exclude the \n",
       "relevant entries before the concat operation.\n",
       "  results = pd.concat([results, normalized_data]) #.dropna(axis=1, how=\"all\")])\n"
      ]
     },
     "metadata": {},
     "output_type": "display_data"
    },
    {
     "data": {
      "text/html": [
       "<pre style=\"white-space:pre;overflow-x:auto;line-height:normal;font-family:Menlo,'DejaVu Sans Mono',consolas,'Courier New',monospace\">/var/folders/7t/k8q3439j6z3c683j7w00wtm80000gn/T/ipykernel_58430/1419766920.py:27: FutureWarning: The behavior of \n",
       "DataFrame concatenation with empty or all-NA entries is deprecated. In a future version, this will no longer \n",
       "exclude empty or all-NA columns when determining the result dtypes. To retain the old behavior, exclude the \n",
       "relevant entries before the concat operation.\n",
       "  results = pd.concat([results, normalized_data]) #.dropna(axis=1, how=\"all\")])\n",
       "</pre>\n"
      ],
      "text/plain": [
       "/var/folders/7t/k8q3439j6z3c683j7w00wtm80000gn/T/ipykernel_58430/1419766920.py:27: FutureWarning: The behavior of \n",
       "DataFrame concatenation with empty or all-NA entries is deprecated. In a future version, this will no longer \n",
       "exclude empty or all-NA columns when determining the result dtypes. To retain the old behavior, exclude the \n",
       "relevant entries before the concat operation.\n",
       "  results = pd.concat([results, normalized_data]) #.dropna(axis=1, how=\"all\")])\n"
      ]
     },
     "metadata": {},
     "output_type": "display_data"
    },
    {
     "data": {
      "text/html": [
       "<pre style=\"white-space:pre;overflow-x:auto;line-height:normal;font-family:Menlo,'DejaVu Sans Mono',consolas,'Courier New',monospace\">/var/folders/7t/k8q3439j6z3c683j7w00wtm80000gn/T/ipykernel_58430/1419766920.py:27: FutureWarning: The behavior of \n",
       "DataFrame concatenation with empty or all-NA entries is deprecated. In a future version, this will no longer \n",
       "exclude empty or all-NA columns when determining the result dtypes. To retain the old behavior, exclude the \n",
       "relevant entries before the concat operation.\n",
       "  results = pd.concat([results, normalized_data]) #.dropna(axis=1, how=\"all\")])\n",
       "</pre>\n"
      ],
      "text/plain": [
       "/var/folders/7t/k8q3439j6z3c683j7w00wtm80000gn/T/ipykernel_58430/1419766920.py:27: FutureWarning: The behavior of \n",
       "DataFrame concatenation with empty or all-NA entries is deprecated. In a future version, this will no longer \n",
       "exclude empty or all-NA columns when determining the result dtypes. To retain the old behavior, exclude the \n",
       "relevant entries before the concat operation.\n",
       "  results = pd.concat([results, normalized_data]) #.dropna(axis=1, how=\"all\")])\n"
      ]
     },
     "metadata": {},
     "output_type": "display_data"
    },
    {
     "data": {
      "text/html": [
       "<pre style=\"white-space:pre;overflow-x:auto;line-height:normal;font-family:Menlo,'DejaVu Sans Mono',consolas,'Courier New',monospace\">/var/folders/7t/k8q3439j6z3c683j7w00wtm80000gn/T/ipykernel_58430/1419766920.py:27: FutureWarning: The behavior of \n",
       "DataFrame concatenation with empty or all-NA entries is deprecated. In a future version, this will no longer \n",
       "exclude empty or all-NA columns when determining the result dtypes. To retain the old behavior, exclude the \n",
       "relevant entries before the concat operation.\n",
       "  results = pd.concat([results, normalized_data]) #.dropna(axis=1, how=\"all\")])\n",
       "</pre>\n"
      ],
      "text/plain": [
       "/var/folders/7t/k8q3439j6z3c683j7w00wtm80000gn/T/ipykernel_58430/1419766920.py:27: FutureWarning: The behavior of \n",
       "DataFrame concatenation with empty or all-NA entries is deprecated. In a future version, this will no longer \n",
       "exclude empty or all-NA columns when determining the result dtypes. To retain the old behavior, exclude the \n",
       "relevant entries before the concat operation.\n",
       "  results = pd.concat([results, normalized_data]) #.dropna(axis=1, how=\"all\")])\n"
      ]
     },
     "metadata": {},
     "output_type": "display_data"
    },
    {
     "data": {
      "text/html": [
       "<pre style=\"white-space:pre;overflow-x:auto;line-height:normal;font-family:Menlo,'DejaVu Sans Mono',consolas,'Courier New',monospace\">/var/folders/7t/k8q3439j6z3c683j7w00wtm80000gn/T/ipykernel_58430/1419766920.py:27: FutureWarning: The behavior of \n",
       "DataFrame concatenation with empty or all-NA entries is deprecated. In a future version, this will no longer \n",
       "exclude empty or all-NA columns when determining the result dtypes. To retain the old behavior, exclude the \n",
       "relevant entries before the concat operation.\n",
       "  results = pd.concat([results, normalized_data]) #.dropna(axis=1, how=\"all\")])\n",
       "</pre>\n"
      ],
      "text/plain": [
       "/var/folders/7t/k8q3439j6z3c683j7w00wtm80000gn/T/ipykernel_58430/1419766920.py:27: FutureWarning: The behavior of \n",
       "DataFrame concatenation with empty or all-NA entries is deprecated. In a future version, this will no longer \n",
       "exclude empty or all-NA columns when determining the result dtypes. To retain the old behavior, exclude the \n",
       "relevant entries before the concat operation.\n",
       "  results = pd.concat([results, normalized_data]) #.dropna(axis=1, how=\"all\")])\n"
      ]
     },
     "metadata": {},
     "output_type": "display_data"
    },
    {
     "data": {
      "text/html": [
       "<pre style=\"white-space:pre;overflow-x:auto;line-height:normal;font-family:Menlo,'DejaVu Sans Mono',consolas,'Courier New',monospace\">/var/folders/7t/k8q3439j6z3c683j7w00wtm80000gn/T/ipykernel_58430/1419766920.py:27: FutureWarning: The behavior of \n",
       "DataFrame concatenation with empty or all-NA entries is deprecated. In a future version, this will no longer \n",
       "exclude empty or all-NA columns when determining the result dtypes. To retain the old behavior, exclude the \n",
       "relevant entries before the concat operation.\n",
       "  results = pd.concat([results, normalized_data]) #.dropna(axis=1, how=\"all\")])\n",
       "</pre>\n"
      ],
      "text/plain": [
       "/var/folders/7t/k8q3439j6z3c683j7w00wtm80000gn/T/ipykernel_58430/1419766920.py:27: FutureWarning: The behavior of \n",
       "DataFrame concatenation with empty or all-NA entries is deprecated. In a future version, this will no longer \n",
       "exclude empty or all-NA columns when determining the result dtypes. To retain the old behavior, exclude the \n",
       "relevant entries before the concat operation.\n",
       "  results = pd.concat([results, normalized_data]) #.dropna(axis=1, how=\"all\")])\n"
      ]
     },
     "metadata": {},
     "output_type": "display_data"
    },
    {
     "data": {
      "text/html": [
       "<pre style=\"white-space:pre;overflow-x:auto;line-height:normal;font-family:Menlo,'DejaVu Sans Mono',consolas,'Courier New',monospace\">/var/folders/7t/k8q3439j6z3c683j7w00wtm80000gn/T/ipykernel_58430/1419766920.py:27: FutureWarning: The behavior of \n",
       "DataFrame concatenation with empty or all-NA entries is deprecated. In a future version, this will no longer \n",
       "exclude empty or all-NA columns when determining the result dtypes. To retain the old behavior, exclude the \n",
       "relevant entries before the concat operation.\n",
       "  results = pd.concat([results, normalized_data]) #.dropna(axis=1, how=\"all\")])\n",
       "</pre>\n"
      ],
      "text/plain": [
       "/var/folders/7t/k8q3439j6z3c683j7w00wtm80000gn/T/ipykernel_58430/1419766920.py:27: FutureWarning: The behavior of \n",
       "DataFrame concatenation with empty or all-NA entries is deprecated. In a future version, this will no longer \n",
       "exclude empty or all-NA columns when determining the result dtypes. To retain the old behavior, exclude the \n",
       "relevant entries before the concat operation.\n",
       "  results = pd.concat([results, normalized_data]) #.dropna(axis=1, how=\"all\")])\n"
      ]
     },
     "metadata": {},
     "output_type": "display_data"
    },
    {
     "data": {
      "text/html": [
       "<pre style=\"white-space:pre;overflow-x:auto;line-height:normal;font-family:Menlo,'DejaVu Sans Mono',consolas,'Courier New',monospace\">/var/folders/7t/k8q3439j6z3c683j7w00wtm80000gn/T/ipykernel_58430/1419766920.py:27: FutureWarning: The behavior of \n",
       "DataFrame concatenation with empty or all-NA entries is deprecated. In a future version, this will no longer \n",
       "exclude empty or all-NA columns when determining the result dtypes. To retain the old behavior, exclude the \n",
       "relevant entries before the concat operation.\n",
       "  results = pd.concat([results, normalized_data]) #.dropna(axis=1, how=\"all\")])\n",
       "</pre>\n"
      ],
      "text/plain": [
       "/var/folders/7t/k8q3439j6z3c683j7w00wtm80000gn/T/ipykernel_58430/1419766920.py:27: FutureWarning: The behavior of \n",
       "DataFrame concatenation with empty or all-NA entries is deprecated. In a future version, this will no longer \n",
       "exclude empty or all-NA columns when determining the result dtypes. To retain the old behavior, exclude the \n",
       "relevant entries before the concat operation.\n",
       "  results = pd.concat([results, normalized_data]) #.dropna(axis=1, how=\"all\")])\n"
      ]
     },
     "metadata": {},
     "output_type": "display_data"
    },
    {
     "data": {
      "text/html": [
       "<pre style=\"white-space:pre;overflow-x:auto;line-height:normal;font-family:Menlo,'DejaVu Sans Mono',consolas,'Courier New',monospace\">/var/folders/7t/k8q3439j6z3c683j7w00wtm80000gn/T/ipykernel_58430/1419766920.py:27: FutureWarning: The behavior of \n",
       "DataFrame concatenation with empty or all-NA entries is deprecated. In a future version, this will no longer \n",
       "exclude empty or all-NA columns when determining the result dtypes. To retain the old behavior, exclude the \n",
       "relevant entries before the concat operation.\n",
       "  results = pd.concat([results, normalized_data]) #.dropna(axis=1, how=\"all\")])\n",
       "</pre>\n"
      ],
      "text/plain": [
       "/var/folders/7t/k8q3439j6z3c683j7w00wtm80000gn/T/ipykernel_58430/1419766920.py:27: FutureWarning: The behavior of \n",
       "DataFrame concatenation with empty or all-NA entries is deprecated. In a future version, this will no longer \n",
       "exclude empty or all-NA columns when determining the result dtypes. To retain the old behavior, exclude the \n",
       "relevant entries before the concat operation.\n",
       "  results = pd.concat([results, normalized_data]) #.dropna(axis=1, how=\"all\")])\n"
      ]
     },
     "metadata": {},
     "output_type": "display_data"
    },
    {
     "data": {
      "text/html": [
       "<pre style=\"white-space:pre;overflow-x:auto;line-height:normal;font-family:Menlo,'DejaVu Sans Mono',consolas,'Courier New',monospace\">/var/folders/7t/k8q3439j6z3c683j7w00wtm80000gn/T/ipykernel_58430/1419766920.py:27: FutureWarning: The behavior of \n",
       "DataFrame concatenation with empty or all-NA entries is deprecated. In a future version, this will no longer \n",
       "exclude empty or all-NA columns when determining the result dtypes. To retain the old behavior, exclude the \n",
       "relevant entries before the concat operation.\n",
       "  results = pd.concat([results, normalized_data]) #.dropna(axis=1, how=\"all\")])\n",
       "</pre>\n"
      ],
      "text/plain": [
       "/var/folders/7t/k8q3439j6z3c683j7w00wtm80000gn/T/ipykernel_58430/1419766920.py:27: FutureWarning: The behavior of \n",
       "DataFrame concatenation with empty or all-NA entries is deprecated. In a future version, this will no longer \n",
       "exclude empty or all-NA columns when determining the result dtypes. To retain the old behavior, exclude the \n",
       "relevant entries before the concat operation.\n",
       "  results = pd.concat([results, normalized_data]) #.dropna(axis=1, how=\"all\")])\n"
      ]
     },
     "metadata": {},
     "output_type": "display_data"
    },
    {
     "data": {
      "text/html": [
       "<pre style=\"white-space:pre;overflow-x:auto;line-height:normal;font-family:Menlo,'DejaVu Sans Mono',consolas,'Courier New',monospace\">/var/folders/7t/k8q3439j6z3c683j7w00wtm80000gn/T/ipykernel_58430/1419766920.py:27: FutureWarning: The behavior of \n",
       "DataFrame concatenation with empty or all-NA entries is deprecated. In a future version, this will no longer \n",
       "exclude empty or all-NA columns when determining the result dtypes. To retain the old behavior, exclude the \n",
       "relevant entries before the concat operation.\n",
       "  results = pd.concat([results, normalized_data]) #.dropna(axis=1, how=\"all\")])\n",
       "</pre>\n"
      ],
      "text/plain": [
       "/var/folders/7t/k8q3439j6z3c683j7w00wtm80000gn/T/ipykernel_58430/1419766920.py:27: FutureWarning: The behavior of \n",
       "DataFrame concatenation with empty or all-NA entries is deprecated. In a future version, this will no longer \n",
       "exclude empty or all-NA columns when determining the result dtypes. To retain the old behavior, exclude the \n",
       "relevant entries before the concat operation.\n",
       "  results = pd.concat([results, normalized_data]) #.dropna(axis=1, how=\"all\")])\n"
      ]
     },
     "metadata": {},
     "output_type": "display_data"
    },
    {
     "data": {
      "text/html": [
       "<pre style=\"white-space:pre;overflow-x:auto;line-height:normal;font-family:Menlo,'DejaVu Sans Mono',consolas,'Courier New',monospace\">/var/folders/7t/k8q3439j6z3c683j7w00wtm80000gn/T/ipykernel_58430/1419766920.py:27: FutureWarning: The behavior of \n",
       "DataFrame concatenation with empty or all-NA entries is deprecated. In a future version, this will no longer \n",
       "exclude empty or all-NA columns when determining the result dtypes. To retain the old behavior, exclude the \n",
       "relevant entries before the concat operation.\n",
       "  results = pd.concat([results, normalized_data]) #.dropna(axis=1, how=\"all\")])\n",
       "</pre>\n"
      ],
      "text/plain": [
       "/var/folders/7t/k8q3439j6z3c683j7w00wtm80000gn/T/ipykernel_58430/1419766920.py:27: FutureWarning: The behavior of \n",
       "DataFrame concatenation with empty or all-NA entries is deprecated. In a future version, this will no longer \n",
       "exclude empty or all-NA columns when determining the result dtypes. To retain the old behavior, exclude the \n",
       "relevant entries before the concat operation.\n",
       "  results = pd.concat([results, normalized_data]) #.dropna(axis=1, how=\"all\")])\n"
      ]
     },
     "metadata": {},
     "output_type": "display_data"
    },
    {
     "data": {
      "text/html": [
       "<pre style=\"white-space:pre;overflow-x:auto;line-height:normal;font-family:Menlo,'DejaVu Sans Mono',consolas,'Courier New',monospace\">/var/folders/7t/k8q3439j6z3c683j7w00wtm80000gn/T/ipykernel_58430/1419766920.py:27: FutureWarning: The behavior of \n",
       "DataFrame concatenation with empty or all-NA entries is deprecated. In a future version, this will no longer \n",
       "exclude empty or all-NA columns when determining the result dtypes. To retain the old behavior, exclude the \n",
       "relevant entries before the concat operation.\n",
       "  results = pd.concat([results, normalized_data]) #.dropna(axis=1, how=\"all\")])\n",
       "</pre>\n"
      ],
      "text/plain": [
       "/var/folders/7t/k8q3439j6z3c683j7w00wtm80000gn/T/ipykernel_58430/1419766920.py:27: FutureWarning: The behavior of \n",
       "DataFrame concatenation with empty or all-NA entries is deprecated. In a future version, this will no longer \n",
       "exclude empty or all-NA columns when determining the result dtypes. To retain the old behavior, exclude the \n",
       "relevant entries before the concat operation.\n",
       "  results = pd.concat([results, normalized_data]) #.dropna(axis=1, how=\"all\")])\n"
      ]
     },
     "metadata": {},
     "output_type": "display_data"
    },
    {
     "data": {
      "text/html": [
       "<pre style=\"white-space:pre;overflow-x:auto;line-height:normal;font-family:Menlo,'DejaVu Sans Mono',consolas,'Courier New',monospace\">/var/folders/7t/k8q3439j6z3c683j7w00wtm80000gn/T/ipykernel_58430/1419766920.py:27: FutureWarning: The behavior of \n",
       "DataFrame concatenation with empty or all-NA entries is deprecated. In a future version, this will no longer \n",
       "exclude empty or all-NA columns when determining the result dtypes. To retain the old behavior, exclude the \n",
       "relevant entries before the concat operation.\n",
       "  results = pd.concat([results, normalized_data]) #.dropna(axis=1, how=\"all\")])\n",
       "</pre>\n"
      ],
      "text/plain": [
       "/var/folders/7t/k8q3439j6z3c683j7w00wtm80000gn/T/ipykernel_58430/1419766920.py:27: FutureWarning: The behavior of \n",
       "DataFrame concatenation with empty or all-NA entries is deprecated. In a future version, this will no longer \n",
       "exclude empty or all-NA columns when determining the result dtypes. To retain the old behavior, exclude the \n",
       "relevant entries before the concat operation.\n",
       "  results = pd.concat([results, normalized_data]) #.dropna(axis=1, how=\"all\")])\n"
      ]
     },
     "metadata": {},
     "output_type": "display_data"
    },
    {
     "data": {
      "text/html": [
       "<pre style=\"white-space:pre;overflow-x:auto;line-height:normal;font-family:Menlo,'DejaVu Sans Mono',consolas,'Courier New',monospace\">/var/folders/7t/k8q3439j6z3c683j7w00wtm80000gn/T/ipykernel_58430/1419766920.py:27: FutureWarning: The behavior of \n",
       "DataFrame concatenation with empty or all-NA entries is deprecated. In a future version, this will no longer \n",
       "exclude empty or all-NA columns when determining the result dtypes. To retain the old behavior, exclude the \n",
       "relevant entries before the concat operation.\n",
       "  results = pd.concat([results, normalized_data]) #.dropna(axis=1, how=\"all\")])\n",
       "</pre>\n"
      ],
      "text/plain": [
       "/var/folders/7t/k8q3439j6z3c683j7w00wtm80000gn/T/ipykernel_58430/1419766920.py:27: FutureWarning: The behavior of \n",
       "DataFrame concatenation with empty or all-NA entries is deprecated. In a future version, this will no longer \n",
       "exclude empty or all-NA columns when determining the result dtypes. To retain the old behavior, exclude the \n",
       "relevant entries before the concat operation.\n",
       "  results = pd.concat([results, normalized_data]) #.dropna(axis=1, how=\"all\")])\n"
      ]
     },
     "metadata": {},
     "output_type": "display_data"
    },
    {
     "data": {
      "text/html": [
       "<pre style=\"white-space:pre;overflow-x:auto;line-height:normal;font-family:Menlo,'DejaVu Sans Mono',consolas,'Courier New',monospace\">/var/folders/7t/k8q3439j6z3c683j7w00wtm80000gn/T/ipykernel_58430/1419766920.py:27: FutureWarning: The behavior of \n",
       "DataFrame concatenation with empty or all-NA entries is deprecated. In a future version, this will no longer \n",
       "exclude empty or all-NA columns when determining the result dtypes. To retain the old behavior, exclude the \n",
       "relevant entries before the concat operation.\n",
       "  results = pd.concat([results, normalized_data]) #.dropna(axis=1, how=\"all\")])\n",
       "</pre>\n"
      ],
      "text/plain": [
       "/var/folders/7t/k8q3439j6z3c683j7w00wtm80000gn/T/ipykernel_58430/1419766920.py:27: FutureWarning: The behavior of \n",
       "DataFrame concatenation with empty or all-NA entries is deprecated. In a future version, this will no longer \n",
       "exclude empty or all-NA columns when determining the result dtypes. To retain the old behavior, exclude the \n",
       "relevant entries before the concat operation.\n",
       "  results = pd.concat([results, normalized_data]) #.dropna(axis=1, how=\"all\")])\n"
      ]
     },
     "metadata": {},
     "output_type": "display_data"
    },
    {
     "data": {
      "text/html": [
       "<pre style=\"white-space:pre;overflow-x:auto;line-height:normal;font-family:Menlo,'DejaVu Sans Mono',consolas,'Courier New',monospace\">/var/folders/7t/k8q3439j6z3c683j7w00wtm80000gn/T/ipykernel_58430/1419766920.py:27: FutureWarning: The behavior of \n",
       "DataFrame concatenation with empty or all-NA entries is deprecated. In a future version, this will no longer \n",
       "exclude empty or all-NA columns when determining the result dtypes. To retain the old behavior, exclude the \n",
       "relevant entries before the concat operation.\n",
       "  results = pd.concat([results, normalized_data]) #.dropna(axis=1, how=\"all\")])\n",
       "</pre>\n"
      ],
      "text/plain": [
       "/var/folders/7t/k8q3439j6z3c683j7w00wtm80000gn/T/ipykernel_58430/1419766920.py:27: FutureWarning: The behavior of \n",
       "DataFrame concatenation with empty or all-NA entries is deprecated. In a future version, this will no longer \n",
       "exclude empty or all-NA columns when determining the result dtypes. To retain the old behavior, exclude the \n",
       "relevant entries before the concat operation.\n",
       "  results = pd.concat([results, normalized_data]) #.dropna(axis=1, how=\"all\")])\n"
      ]
     },
     "metadata": {},
     "output_type": "display_data"
    },
    {
     "data": {
      "text/html": [
       "<pre style=\"white-space:pre;overflow-x:auto;line-height:normal;font-family:Menlo,'DejaVu Sans Mono',consolas,'Courier New',monospace\">/var/folders/7t/k8q3439j6z3c683j7w00wtm80000gn/T/ipykernel_58430/1419766920.py:27: FutureWarning: The behavior of \n",
       "DataFrame concatenation with empty or all-NA entries is deprecated. In a future version, this will no longer \n",
       "exclude empty or all-NA columns when determining the result dtypes. To retain the old behavior, exclude the \n",
       "relevant entries before the concat operation.\n",
       "  results = pd.concat([results, normalized_data]) #.dropna(axis=1, how=\"all\")])\n",
       "</pre>\n"
      ],
      "text/plain": [
       "/var/folders/7t/k8q3439j6z3c683j7w00wtm80000gn/T/ipykernel_58430/1419766920.py:27: FutureWarning: The behavior of \n",
       "DataFrame concatenation with empty or all-NA entries is deprecated. In a future version, this will no longer \n",
       "exclude empty or all-NA columns when determining the result dtypes. To retain the old behavior, exclude the \n",
       "relevant entries before the concat operation.\n",
       "  results = pd.concat([results, normalized_data]) #.dropna(axis=1, how=\"all\")])\n"
      ]
     },
     "metadata": {},
     "output_type": "display_data"
    },
    {
     "data": {
      "text/html": [
       "<pre style=\"white-space:pre;overflow-x:auto;line-height:normal;font-family:Menlo,'DejaVu Sans Mono',consolas,'Courier New',monospace\">/var/folders/7t/k8q3439j6z3c683j7w00wtm80000gn/T/ipykernel_58430/1419766920.py:27: FutureWarning: The behavior of \n",
       "DataFrame concatenation with empty or all-NA entries is deprecated. In a future version, this will no longer \n",
       "exclude empty or all-NA columns when determining the result dtypes. To retain the old behavior, exclude the \n",
       "relevant entries before the concat operation.\n",
       "  results = pd.concat([results, normalized_data]) #.dropna(axis=1, how=\"all\")])\n",
       "</pre>\n"
      ],
      "text/plain": [
       "/var/folders/7t/k8q3439j6z3c683j7w00wtm80000gn/T/ipykernel_58430/1419766920.py:27: FutureWarning: The behavior of \n",
       "DataFrame concatenation with empty or all-NA entries is deprecated. In a future version, this will no longer \n",
       "exclude empty or all-NA columns when determining the result dtypes. To retain the old behavior, exclude the \n",
       "relevant entries before the concat operation.\n",
       "  results = pd.concat([results, normalized_data]) #.dropna(axis=1, how=\"all\")])\n"
      ]
     },
     "metadata": {},
     "output_type": "display_data"
    },
    {
     "data": {
      "text/html": [
       "<pre style=\"white-space:pre;overflow-x:auto;line-height:normal;font-family:Menlo,'DejaVu Sans Mono',consolas,'Courier New',monospace\">/var/folders/7t/k8q3439j6z3c683j7w00wtm80000gn/T/ipykernel_58430/1419766920.py:27: FutureWarning: The behavior of \n",
       "DataFrame concatenation with empty or all-NA entries is deprecated. In a future version, this will no longer \n",
       "exclude empty or all-NA columns when determining the result dtypes. To retain the old behavior, exclude the \n",
       "relevant entries before the concat operation.\n",
       "  results = pd.concat([results, normalized_data]) #.dropna(axis=1, how=\"all\")])\n",
       "</pre>\n"
      ],
      "text/plain": [
       "/var/folders/7t/k8q3439j6z3c683j7w00wtm80000gn/T/ipykernel_58430/1419766920.py:27: FutureWarning: The behavior of \n",
       "DataFrame concatenation with empty or all-NA entries is deprecated. In a future version, this will no longer \n",
       "exclude empty or all-NA columns when determining the result dtypes. To retain the old behavior, exclude the \n",
       "relevant entries before the concat operation.\n",
       "  results = pd.concat([results, normalized_data]) #.dropna(axis=1, how=\"all\")])\n"
      ]
     },
     "metadata": {},
     "output_type": "display_data"
    },
    {
     "data": {
      "text/html": [
       "<pre style=\"white-space:pre;overflow-x:auto;line-height:normal;font-family:Menlo,'DejaVu Sans Mono',consolas,'Courier New',monospace\">/var/folders/7t/k8q3439j6z3c683j7w00wtm80000gn/T/ipykernel_58430/1419766920.py:27: FutureWarning: The behavior of \n",
       "DataFrame concatenation with empty or all-NA entries is deprecated. In a future version, this will no longer \n",
       "exclude empty or all-NA columns when determining the result dtypes. To retain the old behavior, exclude the \n",
       "relevant entries before the concat operation.\n",
       "  results = pd.concat([results, normalized_data]) #.dropna(axis=1, how=\"all\")])\n",
       "</pre>\n"
      ],
      "text/plain": [
       "/var/folders/7t/k8q3439j6z3c683j7w00wtm80000gn/T/ipykernel_58430/1419766920.py:27: FutureWarning: The behavior of \n",
       "DataFrame concatenation with empty or all-NA entries is deprecated. In a future version, this will no longer \n",
       "exclude empty or all-NA columns when determining the result dtypes. To retain the old behavior, exclude the \n",
       "relevant entries before the concat operation.\n",
       "  results = pd.concat([results, normalized_data]) #.dropna(axis=1, how=\"all\")])\n"
      ]
     },
     "metadata": {},
     "output_type": "display_data"
    },
    {
     "data": {
      "text/html": [
       "<pre style=\"white-space:pre;overflow-x:auto;line-height:normal;font-family:Menlo,'DejaVu Sans Mono',consolas,'Courier New',monospace\">/var/folders/7t/k8q3439j6z3c683j7w00wtm80000gn/T/ipykernel_58430/1419766920.py:27: FutureWarning: The behavior of \n",
       "DataFrame concatenation with empty or all-NA entries is deprecated. In a future version, this will no longer \n",
       "exclude empty or all-NA columns when determining the result dtypes. To retain the old behavior, exclude the \n",
       "relevant entries before the concat operation.\n",
       "  results = pd.concat([results, normalized_data]) #.dropna(axis=1, how=\"all\")])\n",
       "</pre>\n"
      ],
      "text/plain": [
       "/var/folders/7t/k8q3439j6z3c683j7w00wtm80000gn/T/ipykernel_58430/1419766920.py:27: FutureWarning: The behavior of \n",
       "DataFrame concatenation with empty or all-NA entries is deprecated. In a future version, this will no longer \n",
       "exclude empty or all-NA columns when determining the result dtypes. To retain the old behavior, exclude the \n",
       "relevant entries before the concat operation.\n",
       "  results = pd.concat([results, normalized_data]) #.dropna(axis=1, how=\"all\")])\n"
      ]
     },
     "metadata": {},
     "output_type": "display_data"
    },
    {
     "data": {
      "text/html": [
       "<pre style=\"white-space:pre;overflow-x:auto;line-height:normal;font-family:Menlo,'DejaVu Sans Mono',consolas,'Courier New',monospace\">/var/folders/7t/k8q3439j6z3c683j7w00wtm80000gn/T/ipykernel_58430/1419766920.py:27: FutureWarning: The behavior of \n",
       "DataFrame concatenation with empty or all-NA entries is deprecated. In a future version, this will no longer \n",
       "exclude empty or all-NA columns when determining the result dtypes. To retain the old behavior, exclude the \n",
       "relevant entries before the concat operation.\n",
       "  results = pd.concat([results, normalized_data]) #.dropna(axis=1, how=\"all\")])\n",
       "</pre>\n"
      ],
      "text/plain": [
       "/var/folders/7t/k8q3439j6z3c683j7w00wtm80000gn/T/ipykernel_58430/1419766920.py:27: FutureWarning: The behavior of \n",
       "DataFrame concatenation with empty or all-NA entries is deprecated. In a future version, this will no longer \n",
       "exclude empty or all-NA columns when determining the result dtypes. To retain the old behavior, exclude the \n",
       "relevant entries before the concat operation.\n",
       "  results = pd.concat([results, normalized_data]) #.dropna(axis=1, how=\"all\")])\n"
      ]
     },
     "metadata": {},
     "output_type": "display_data"
    },
    {
     "data": {
      "text/html": [
       "<pre style=\"white-space:pre;overflow-x:auto;line-height:normal;font-family:Menlo,'DejaVu Sans Mono',consolas,'Courier New',monospace\">/var/folders/7t/k8q3439j6z3c683j7w00wtm80000gn/T/ipykernel_58430/1419766920.py:27: FutureWarning: The behavior of \n",
       "DataFrame concatenation with empty or all-NA entries is deprecated. In a future version, this will no longer \n",
       "exclude empty or all-NA columns when determining the result dtypes. To retain the old behavior, exclude the \n",
       "relevant entries before the concat operation.\n",
       "  results = pd.concat([results, normalized_data]) #.dropna(axis=1, how=\"all\")])\n",
       "</pre>\n"
      ],
      "text/plain": [
       "/var/folders/7t/k8q3439j6z3c683j7w00wtm80000gn/T/ipykernel_58430/1419766920.py:27: FutureWarning: The behavior of \n",
       "DataFrame concatenation with empty or all-NA entries is deprecated. In a future version, this will no longer \n",
       "exclude empty or all-NA columns when determining the result dtypes. To retain the old behavior, exclude the \n",
       "relevant entries before the concat operation.\n",
       "  results = pd.concat([results, normalized_data]) #.dropna(axis=1, how=\"all\")])\n"
      ]
     },
     "metadata": {},
     "output_type": "display_data"
    },
    {
     "data": {
      "text/html": [
       "<pre style=\"white-space:pre;overflow-x:auto;line-height:normal;font-family:Menlo,'DejaVu Sans Mono',consolas,'Courier New',monospace\">/var/folders/7t/k8q3439j6z3c683j7w00wtm80000gn/T/ipykernel_58430/1419766920.py:27: FutureWarning: The behavior of \n",
       "DataFrame concatenation with empty or all-NA entries is deprecated. In a future version, this will no longer \n",
       "exclude empty or all-NA columns when determining the result dtypes. To retain the old behavior, exclude the \n",
       "relevant entries before the concat operation.\n",
       "  results = pd.concat([results, normalized_data]) #.dropna(axis=1, how=\"all\")])\n",
       "</pre>\n"
      ],
      "text/plain": [
       "/var/folders/7t/k8q3439j6z3c683j7w00wtm80000gn/T/ipykernel_58430/1419766920.py:27: FutureWarning: The behavior of \n",
       "DataFrame concatenation with empty or all-NA entries is deprecated. In a future version, this will no longer \n",
       "exclude empty or all-NA columns when determining the result dtypes. To retain the old behavior, exclude the \n",
       "relevant entries before the concat operation.\n",
       "  results = pd.concat([results, normalized_data]) #.dropna(axis=1, how=\"all\")])\n"
      ]
     },
     "metadata": {},
     "output_type": "display_data"
    },
    {
     "data": {
      "text/html": [
       "<pre style=\"white-space:pre;overflow-x:auto;line-height:normal;font-family:Menlo,'DejaVu Sans Mono',consolas,'Courier New',monospace\">/var/folders/7t/k8q3439j6z3c683j7w00wtm80000gn/T/ipykernel_58430/1419766920.py:27: FutureWarning: The behavior of \n",
       "DataFrame concatenation with empty or all-NA entries is deprecated. In a future version, this will no longer \n",
       "exclude empty or all-NA columns when determining the result dtypes. To retain the old behavior, exclude the \n",
       "relevant entries before the concat operation.\n",
       "  results = pd.concat([results, normalized_data]) #.dropna(axis=1, how=\"all\")])\n",
       "</pre>\n"
      ],
      "text/plain": [
       "/var/folders/7t/k8q3439j6z3c683j7w00wtm80000gn/T/ipykernel_58430/1419766920.py:27: FutureWarning: The behavior of \n",
       "DataFrame concatenation with empty or all-NA entries is deprecated. In a future version, this will no longer \n",
       "exclude empty or all-NA columns when determining the result dtypes. To retain the old behavior, exclude the \n",
       "relevant entries before the concat operation.\n",
       "  results = pd.concat([results, normalized_data]) #.dropna(axis=1, how=\"all\")])\n"
      ]
     },
     "metadata": {},
     "output_type": "display_data"
    },
    {
     "data": {
      "text/html": [
       "<pre style=\"white-space:pre;overflow-x:auto;line-height:normal;font-family:Menlo,'DejaVu Sans Mono',consolas,'Courier New',monospace\">/var/folders/7t/k8q3439j6z3c683j7w00wtm80000gn/T/ipykernel_58430/1419766920.py:27: FutureWarning: The behavior of \n",
       "DataFrame concatenation with empty or all-NA entries is deprecated. In a future version, this will no longer \n",
       "exclude empty or all-NA columns when determining the result dtypes. To retain the old behavior, exclude the \n",
       "relevant entries before the concat operation.\n",
       "  results = pd.concat([results, normalized_data]) #.dropna(axis=1, how=\"all\")])\n",
       "</pre>\n"
      ],
      "text/plain": [
       "/var/folders/7t/k8q3439j6z3c683j7w00wtm80000gn/T/ipykernel_58430/1419766920.py:27: FutureWarning: The behavior of \n",
       "DataFrame concatenation with empty or all-NA entries is deprecated. In a future version, this will no longer \n",
       "exclude empty or all-NA columns when determining the result dtypes. To retain the old behavior, exclude the \n",
       "relevant entries before the concat operation.\n",
       "  results = pd.concat([results, normalized_data]) #.dropna(axis=1, how=\"all\")])\n"
      ]
     },
     "metadata": {},
     "output_type": "display_data"
    },
    {
     "data": {
      "text/html": [
       "<pre style=\"white-space:pre;overflow-x:auto;line-height:normal;font-family:Menlo,'DejaVu Sans Mono',consolas,'Courier New',monospace\">/var/folders/7t/k8q3439j6z3c683j7w00wtm80000gn/T/ipykernel_58430/1419766920.py:27: FutureWarning: The behavior of \n",
       "DataFrame concatenation with empty or all-NA entries is deprecated. In a future version, this will no longer \n",
       "exclude empty or all-NA columns when determining the result dtypes. To retain the old behavior, exclude the \n",
       "relevant entries before the concat operation.\n",
       "  results = pd.concat([results, normalized_data]) #.dropna(axis=1, how=\"all\")])\n",
       "</pre>\n"
      ],
      "text/plain": [
       "/var/folders/7t/k8q3439j6z3c683j7w00wtm80000gn/T/ipykernel_58430/1419766920.py:27: FutureWarning: The behavior of \n",
       "DataFrame concatenation with empty or all-NA entries is deprecated. In a future version, this will no longer \n",
       "exclude empty or all-NA columns when determining the result dtypes. To retain the old behavior, exclude the \n",
       "relevant entries before the concat operation.\n",
       "  results = pd.concat([results, normalized_data]) #.dropna(axis=1, how=\"all\")])\n"
      ]
     },
     "metadata": {},
     "output_type": "display_data"
    },
    {
     "data": {
      "text/html": [
       "<pre style=\"white-space:pre;overflow-x:auto;line-height:normal;font-family:Menlo,'DejaVu Sans Mono',consolas,'Courier New',monospace\">/var/folders/7t/k8q3439j6z3c683j7w00wtm80000gn/T/ipykernel_58430/1419766920.py:27: FutureWarning: The behavior of \n",
       "DataFrame concatenation with empty or all-NA entries is deprecated. In a future version, this will no longer \n",
       "exclude empty or all-NA columns when determining the result dtypes. To retain the old behavior, exclude the \n",
       "relevant entries before the concat operation.\n",
       "  results = pd.concat([results, normalized_data]) #.dropna(axis=1, how=\"all\")])\n",
       "</pre>\n"
      ],
      "text/plain": [
       "/var/folders/7t/k8q3439j6z3c683j7w00wtm80000gn/T/ipykernel_58430/1419766920.py:27: FutureWarning: The behavior of \n",
       "DataFrame concatenation with empty or all-NA entries is deprecated. In a future version, this will no longer \n",
       "exclude empty or all-NA columns when determining the result dtypes. To retain the old behavior, exclude the \n",
       "relevant entries before the concat operation.\n",
       "  results = pd.concat([results, normalized_data]) #.dropna(axis=1, how=\"all\")])\n"
      ]
     },
     "metadata": {},
     "output_type": "display_data"
    },
    {
     "data": {
      "text/html": [
       "<pre style=\"white-space:pre;overflow-x:auto;line-height:normal;font-family:Menlo,'DejaVu Sans Mono',consolas,'Courier New',monospace\">/var/folders/7t/k8q3439j6z3c683j7w00wtm80000gn/T/ipykernel_58430/1419766920.py:27: FutureWarning: The behavior of \n",
       "DataFrame concatenation with empty or all-NA entries is deprecated. In a future version, this will no longer \n",
       "exclude empty or all-NA columns when determining the result dtypes. To retain the old behavior, exclude the \n",
       "relevant entries before the concat operation.\n",
       "  results = pd.concat([results, normalized_data]) #.dropna(axis=1, how=\"all\")])\n",
       "</pre>\n"
      ],
      "text/plain": [
       "/var/folders/7t/k8q3439j6z3c683j7w00wtm80000gn/T/ipykernel_58430/1419766920.py:27: FutureWarning: The behavior of \n",
       "DataFrame concatenation with empty or all-NA entries is deprecated. In a future version, this will no longer \n",
       "exclude empty or all-NA columns when determining the result dtypes. To retain the old behavior, exclude the \n",
       "relevant entries before the concat operation.\n",
       "  results = pd.concat([results, normalized_data]) #.dropna(axis=1, how=\"all\")])\n"
      ]
     },
     "metadata": {},
     "output_type": "display_data"
    },
    {
     "data": {
      "text/html": [
       "<pre style=\"white-space:pre;overflow-x:auto;line-height:normal;font-family:Menlo,'DejaVu Sans Mono',consolas,'Courier New',monospace\">/var/folders/7t/k8q3439j6z3c683j7w00wtm80000gn/T/ipykernel_58430/1419766920.py:27: FutureWarning: The behavior of \n",
       "DataFrame concatenation with empty or all-NA entries is deprecated. In a future version, this will no longer \n",
       "exclude empty or all-NA columns when determining the result dtypes. To retain the old behavior, exclude the \n",
       "relevant entries before the concat operation.\n",
       "  results = pd.concat([results, normalized_data]) #.dropna(axis=1, how=\"all\")])\n",
       "</pre>\n"
      ],
      "text/plain": [
       "/var/folders/7t/k8q3439j6z3c683j7w00wtm80000gn/T/ipykernel_58430/1419766920.py:27: FutureWarning: The behavior of \n",
       "DataFrame concatenation with empty or all-NA entries is deprecated. In a future version, this will no longer \n",
       "exclude empty or all-NA columns when determining the result dtypes. To retain the old behavior, exclude the \n",
       "relevant entries before the concat operation.\n",
       "  results = pd.concat([results, normalized_data]) #.dropna(axis=1, how=\"all\")])\n"
      ]
     },
     "metadata": {},
     "output_type": "display_data"
    },
    {
     "data": {
      "text/html": [
       "<pre style=\"white-space:pre;overflow-x:auto;line-height:normal;font-family:Menlo,'DejaVu Sans Mono',consolas,'Courier New',monospace\">/var/folders/7t/k8q3439j6z3c683j7w00wtm80000gn/T/ipykernel_58430/1419766920.py:27: FutureWarning: The behavior of \n",
       "DataFrame concatenation with empty or all-NA entries is deprecated. In a future version, this will no longer \n",
       "exclude empty or all-NA columns when determining the result dtypes. To retain the old behavior, exclude the \n",
       "relevant entries before the concat operation.\n",
       "  results = pd.concat([results, normalized_data]) #.dropna(axis=1, how=\"all\")])\n",
       "</pre>\n"
      ],
      "text/plain": [
       "/var/folders/7t/k8q3439j6z3c683j7w00wtm80000gn/T/ipykernel_58430/1419766920.py:27: FutureWarning: The behavior of \n",
       "DataFrame concatenation with empty or all-NA entries is deprecated. In a future version, this will no longer \n",
       "exclude empty or all-NA columns when determining the result dtypes. To retain the old behavior, exclude the \n",
       "relevant entries before the concat operation.\n",
       "  results = pd.concat([results, normalized_data]) #.dropna(axis=1, how=\"all\")])\n"
      ]
     },
     "metadata": {},
     "output_type": "display_data"
    },
    {
     "data": {
      "text/html": [
       "<pre style=\"white-space:pre;overflow-x:auto;line-height:normal;font-family:Menlo,'DejaVu Sans Mono',consolas,'Courier New',monospace\">/var/folders/7t/k8q3439j6z3c683j7w00wtm80000gn/T/ipykernel_58430/1419766920.py:27: FutureWarning: The behavior of \n",
       "DataFrame concatenation with empty or all-NA entries is deprecated. In a future version, this will no longer \n",
       "exclude empty or all-NA columns when determining the result dtypes. To retain the old behavior, exclude the \n",
       "relevant entries before the concat operation.\n",
       "  results = pd.concat([results, normalized_data]) #.dropna(axis=1, how=\"all\")])\n",
       "</pre>\n"
      ],
      "text/plain": [
       "/var/folders/7t/k8q3439j6z3c683j7w00wtm80000gn/T/ipykernel_58430/1419766920.py:27: FutureWarning: The behavior of \n",
       "DataFrame concatenation with empty or all-NA entries is deprecated. In a future version, this will no longer \n",
       "exclude empty or all-NA columns when determining the result dtypes. To retain the old behavior, exclude the \n",
       "relevant entries before the concat operation.\n",
       "  results = pd.concat([results, normalized_data]) #.dropna(axis=1, how=\"all\")])\n"
      ]
     },
     "metadata": {},
     "output_type": "display_data"
    },
    {
     "data": {
      "text/html": [
       "<pre style=\"white-space:pre;overflow-x:auto;line-height:normal;font-family:Menlo,'DejaVu Sans Mono',consolas,'Courier New',monospace\">/var/folders/7t/k8q3439j6z3c683j7w00wtm80000gn/T/ipykernel_58430/1419766920.py:27: FutureWarning: The behavior of \n",
       "DataFrame concatenation with empty or all-NA entries is deprecated. In a future version, this will no longer \n",
       "exclude empty or all-NA columns when determining the result dtypes. To retain the old behavior, exclude the \n",
       "relevant entries before the concat operation.\n",
       "  results = pd.concat([results, normalized_data]) #.dropna(axis=1, how=\"all\")])\n",
       "</pre>\n"
      ],
      "text/plain": [
       "/var/folders/7t/k8q3439j6z3c683j7w00wtm80000gn/T/ipykernel_58430/1419766920.py:27: FutureWarning: The behavior of \n",
       "DataFrame concatenation with empty or all-NA entries is deprecated. In a future version, this will no longer \n",
       "exclude empty or all-NA columns when determining the result dtypes. To retain the old behavior, exclude the \n",
       "relevant entries before the concat operation.\n",
       "  results = pd.concat([results, normalized_data]) #.dropna(axis=1, how=\"all\")])\n"
      ]
     },
     "metadata": {},
     "output_type": "display_data"
    },
    {
     "data": {
      "text/html": [
       "<pre style=\"white-space:pre;overflow-x:auto;line-height:normal;font-family:Menlo,'DejaVu Sans Mono',consolas,'Courier New',monospace\">/var/folders/7t/k8q3439j6z3c683j7w00wtm80000gn/T/ipykernel_58430/1419766920.py:27: FutureWarning: The behavior of \n",
       "DataFrame concatenation with empty or all-NA entries is deprecated. In a future version, this will no longer \n",
       "exclude empty or all-NA columns when determining the result dtypes. To retain the old behavior, exclude the \n",
       "relevant entries before the concat operation.\n",
       "  results = pd.concat([results, normalized_data]) #.dropna(axis=1, how=\"all\")])\n",
       "</pre>\n"
      ],
      "text/plain": [
       "/var/folders/7t/k8q3439j6z3c683j7w00wtm80000gn/T/ipykernel_58430/1419766920.py:27: FutureWarning: The behavior of \n",
       "DataFrame concatenation with empty or all-NA entries is deprecated. In a future version, this will no longer \n",
       "exclude empty or all-NA columns when determining the result dtypes. To retain the old behavior, exclude the \n",
       "relevant entries before the concat operation.\n",
       "  results = pd.concat([results, normalized_data]) #.dropna(axis=1, how=\"all\")])\n"
      ]
     },
     "metadata": {},
     "output_type": "display_data"
    },
    {
     "data": {
      "text/html": [
       "<pre style=\"white-space:pre;overflow-x:auto;line-height:normal;font-family:Menlo,'DejaVu Sans Mono',consolas,'Courier New',monospace\">/var/folders/7t/k8q3439j6z3c683j7w00wtm80000gn/T/ipykernel_58430/1419766920.py:27: FutureWarning: The behavior of \n",
       "DataFrame concatenation with empty or all-NA entries is deprecated. In a future version, this will no longer \n",
       "exclude empty or all-NA columns when determining the result dtypes. To retain the old behavior, exclude the \n",
       "relevant entries before the concat operation.\n",
       "  results = pd.concat([results, normalized_data]) #.dropna(axis=1, how=\"all\")])\n",
       "</pre>\n"
      ],
      "text/plain": [
       "/var/folders/7t/k8q3439j6z3c683j7w00wtm80000gn/T/ipykernel_58430/1419766920.py:27: FutureWarning: The behavior of \n",
       "DataFrame concatenation with empty or all-NA entries is deprecated. In a future version, this will no longer \n",
       "exclude empty or all-NA columns when determining the result dtypes. To retain the old behavior, exclude the \n",
       "relevant entries before the concat operation.\n",
       "  results = pd.concat([results, normalized_data]) #.dropna(axis=1, how=\"all\")])\n"
      ]
     },
     "metadata": {},
     "output_type": "display_data"
    },
    {
     "data": {
      "text/html": [
       "<pre style=\"white-space:pre;overflow-x:auto;line-height:normal;font-family:Menlo,'DejaVu Sans Mono',consolas,'Courier New',monospace\">/var/folders/7t/k8q3439j6z3c683j7w00wtm80000gn/T/ipykernel_58430/1419766920.py:27: FutureWarning: The behavior of \n",
       "DataFrame concatenation with empty or all-NA entries is deprecated. In a future version, this will no longer \n",
       "exclude empty or all-NA columns when determining the result dtypes. To retain the old behavior, exclude the \n",
       "relevant entries before the concat operation.\n",
       "  results = pd.concat([results, normalized_data]) #.dropna(axis=1, how=\"all\")])\n",
       "</pre>\n"
      ],
      "text/plain": [
       "/var/folders/7t/k8q3439j6z3c683j7w00wtm80000gn/T/ipykernel_58430/1419766920.py:27: FutureWarning: The behavior of \n",
       "DataFrame concatenation with empty or all-NA entries is deprecated. In a future version, this will no longer \n",
       "exclude empty or all-NA columns when determining the result dtypes. To retain the old behavior, exclude the \n",
       "relevant entries before the concat operation.\n",
       "  results = pd.concat([results, normalized_data]) #.dropna(axis=1, how=\"all\")])\n"
      ]
     },
     "metadata": {},
     "output_type": "display_data"
    },
    {
     "data": {
      "text/html": [
       "<pre style=\"white-space:pre;overflow-x:auto;line-height:normal;font-family:Menlo,'DejaVu Sans Mono',consolas,'Courier New',monospace\">/var/folders/7t/k8q3439j6z3c683j7w00wtm80000gn/T/ipykernel_58430/1419766920.py:27: FutureWarning: The behavior of \n",
       "DataFrame concatenation with empty or all-NA entries is deprecated. In a future version, this will no longer \n",
       "exclude empty or all-NA columns when determining the result dtypes. To retain the old behavior, exclude the \n",
       "relevant entries before the concat operation.\n",
       "  results = pd.concat([results, normalized_data]) #.dropna(axis=1, how=\"all\")])\n",
       "</pre>\n"
      ],
      "text/plain": [
       "/var/folders/7t/k8q3439j6z3c683j7w00wtm80000gn/T/ipykernel_58430/1419766920.py:27: FutureWarning: The behavior of \n",
       "DataFrame concatenation with empty or all-NA entries is deprecated. In a future version, this will no longer \n",
       "exclude empty or all-NA columns when determining the result dtypes. To retain the old behavior, exclude the \n",
       "relevant entries before the concat operation.\n",
       "  results = pd.concat([results, normalized_data]) #.dropna(axis=1, how=\"all\")])\n"
      ]
     },
     "metadata": {},
     "output_type": "display_data"
    },
    {
     "data": {
      "text/html": [
       "<pre style=\"white-space:pre;overflow-x:auto;line-height:normal;font-family:Menlo,'DejaVu Sans Mono',consolas,'Courier New',monospace\">/var/folders/7t/k8q3439j6z3c683j7w00wtm80000gn/T/ipykernel_58430/1419766920.py:27: FutureWarning: The behavior of \n",
       "DataFrame concatenation with empty or all-NA entries is deprecated. In a future version, this will no longer \n",
       "exclude empty or all-NA columns when determining the result dtypes. To retain the old behavior, exclude the \n",
       "relevant entries before the concat operation.\n",
       "  results = pd.concat([results, normalized_data]) #.dropna(axis=1, how=\"all\")])\n",
       "</pre>\n"
      ],
      "text/plain": [
       "/var/folders/7t/k8q3439j6z3c683j7w00wtm80000gn/T/ipykernel_58430/1419766920.py:27: FutureWarning: The behavior of \n",
       "DataFrame concatenation with empty or all-NA entries is deprecated. In a future version, this will no longer \n",
       "exclude empty or all-NA columns when determining the result dtypes. To retain the old behavior, exclude the \n",
       "relevant entries before the concat operation.\n",
       "  results = pd.concat([results, normalized_data]) #.dropna(axis=1, how=\"all\")])\n"
      ]
     },
     "metadata": {},
     "output_type": "display_data"
    },
    {
     "data": {
      "text/html": [
       "<pre style=\"white-space:pre;overflow-x:auto;line-height:normal;font-family:Menlo,'DejaVu Sans Mono',consolas,'Courier New',monospace\">/var/folders/7t/k8q3439j6z3c683j7w00wtm80000gn/T/ipykernel_58430/1419766920.py:27: FutureWarning: The behavior of \n",
       "DataFrame concatenation with empty or all-NA entries is deprecated. In a future version, this will no longer \n",
       "exclude empty or all-NA columns when determining the result dtypes. To retain the old behavior, exclude the \n",
       "relevant entries before the concat operation.\n",
       "  results = pd.concat([results, normalized_data]) #.dropna(axis=1, how=\"all\")])\n",
       "</pre>\n"
      ],
      "text/plain": [
       "/var/folders/7t/k8q3439j6z3c683j7w00wtm80000gn/T/ipykernel_58430/1419766920.py:27: FutureWarning: The behavior of \n",
       "DataFrame concatenation with empty or all-NA entries is deprecated. In a future version, this will no longer \n",
       "exclude empty or all-NA columns when determining the result dtypes. To retain the old behavior, exclude the \n",
       "relevant entries before the concat operation.\n",
       "  results = pd.concat([results, normalized_data]) #.dropna(axis=1, how=\"all\")])\n"
      ]
     },
     "metadata": {},
     "output_type": "display_data"
    },
    {
     "data": {
      "text/html": [
       "<pre style=\"white-space:pre;overflow-x:auto;line-height:normal;font-family:Menlo,'DejaVu Sans Mono',consolas,'Courier New',monospace\">/var/folders/7t/k8q3439j6z3c683j7w00wtm80000gn/T/ipykernel_58430/1419766920.py:27: FutureWarning: The behavior of \n",
       "DataFrame concatenation with empty or all-NA entries is deprecated. In a future version, this will no longer \n",
       "exclude empty or all-NA columns when determining the result dtypes. To retain the old behavior, exclude the \n",
       "relevant entries before the concat operation.\n",
       "  results = pd.concat([results, normalized_data]) #.dropna(axis=1, how=\"all\")])\n",
       "</pre>\n"
      ],
      "text/plain": [
       "/var/folders/7t/k8q3439j6z3c683j7w00wtm80000gn/T/ipykernel_58430/1419766920.py:27: FutureWarning: The behavior of \n",
       "DataFrame concatenation with empty or all-NA entries is deprecated. In a future version, this will no longer \n",
       "exclude empty or all-NA columns when determining the result dtypes. To retain the old behavior, exclude the \n",
       "relevant entries before the concat operation.\n",
       "  results = pd.concat([results, normalized_data]) #.dropna(axis=1, how=\"all\")])\n"
      ]
     },
     "metadata": {},
     "output_type": "display_data"
    },
    {
     "data": {
      "text/html": [
       "<pre style=\"white-space:pre;overflow-x:auto;line-height:normal;font-family:Menlo,'DejaVu Sans Mono',consolas,'Courier New',monospace\">/var/folders/7t/k8q3439j6z3c683j7w00wtm80000gn/T/ipykernel_58430/1419766920.py:27: FutureWarning: The behavior of \n",
       "DataFrame concatenation with empty or all-NA entries is deprecated. In a future version, this will no longer \n",
       "exclude empty or all-NA columns when determining the result dtypes. To retain the old behavior, exclude the \n",
       "relevant entries before the concat operation.\n",
       "  results = pd.concat([results, normalized_data]) #.dropna(axis=1, how=\"all\")])\n",
       "</pre>\n"
      ],
      "text/plain": [
       "/var/folders/7t/k8q3439j6z3c683j7w00wtm80000gn/T/ipykernel_58430/1419766920.py:27: FutureWarning: The behavior of \n",
       "DataFrame concatenation with empty or all-NA entries is deprecated. In a future version, this will no longer \n",
       "exclude empty or all-NA columns when determining the result dtypes. To retain the old behavior, exclude the \n",
       "relevant entries before the concat operation.\n",
       "  results = pd.concat([results, normalized_data]) #.dropna(axis=1, how=\"all\")])\n"
      ]
     },
     "metadata": {},
     "output_type": "display_data"
    },
    {
     "data": {
      "text/html": [
       "<pre style=\"white-space:pre;overflow-x:auto;line-height:normal;font-family:Menlo,'DejaVu Sans Mono',consolas,'Courier New',monospace\">/var/folders/7t/k8q3439j6z3c683j7w00wtm80000gn/T/ipykernel_58430/1419766920.py:27: FutureWarning: The behavior of \n",
       "DataFrame concatenation with empty or all-NA entries is deprecated. In a future version, this will no longer \n",
       "exclude empty or all-NA columns when determining the result dtypes. To retain the old behavior, exclude the \n",
       "relevant entries before the concat operation.\n",
       "  results = pd.concat([results, normalized_data]) #.dropna(axis=1, how=\"all\")])\n",
       "</pre>\n"
      ],
      "text/plain": [
       "/var/folders/7t/k8q3439j6z3c683j7w00wtm80000gn/T/ipykernel_58430/1419766920.py:27: FutureWarning: The behavior of \n",
       "DataFrame concatenation with empty or all-NA entries is deprecated. In a future version, this will no longer \n",
       "exclude empty or all-NA columns when determining the result dtypes. To retain the old behavior, exclude the \n",
       "relevant entries before the concat operation.\n",
       "  results = pd.concat([results, normalized_data]) #.dropna(axis=1, how=\"all\")])\n"
      ]
     },
     "metadata": {},
     "output_type": "display_data"
    },
    {
     "data": {
      "text/html": [
       "<pre style=\"white-space:pre;overflow-x:auto;line-height:normal;font-family:Menlo,'DejaVu Sans Mono',consolas,'Courier New',monospace\">/var/folders/7t/k8q3439j6z3c683j7w00wtm80000gn/T/ipykernel_58430/1419766920.py:27: FutureWarning: The behavior of \n",
       "DataFrame concatenation with empty or all-NA entries is deprecated. In a future version, this will no longer \n",
       "exclude empty or all-NA columns when determining the result dtypes. To retain the old behavior, exclude the \n",
       "relevant entries before the concat operation.\n",
       "  results = pd.concat([results, normalized_data]) #.dropna(axis=1, how=\"all\")])\n",
       "</pre>\n"
      ],
      "text/plain": [
       "/var/folders/7t/k8q3439j6z3c683j7w00wtm80000gn/T/ipykernel_58430/1419766920.py:27: FutureWarning: The behavior of \n",
       "DataFrame concatenation with empty or all-NA entries is deprecated. In a future version, this will no longer \n",
       "exclude empty or all-NA columns when determining the result dtypes. To retain the old behavior, exclude the \n",
       "relevant entries before the concat operation.\n",
       "  results = pd.concat([results, normalized_data]) #.dropna(axis=1, how=\"all\")])\n"
      ]
     },
     "metadata": {},
     "output_type": "display_data"
    },
    {
     "data": {
      "text/html": [
       "<pre style=\"white-space:pre;overflow-x:auto;line-height:normal;font-family:Menlo,'DejaVu Sans Mono',consolas,'Courier New',monospace\">/var/folders/7t/k8q3439j6z3c683j7w00wtm80000gn/T/ipykernel_58430/1419766920.py:27: FutureWarning: The behavior of \n",
       "DataFrame concatenation with empty or all-NA entries is deprecated. In a future version, this will no longer \n",
       "exclude empty or all-NA columns when determining the result dtypes. To retain the old behavior, exclude the \n",
       "relevant entries before the concat operation.\n",
       "  results = pd.concat([results, normalized_data]) #.dropna(axis=1, how=\"all\")])\n",
       "</pre>\n"
      ],
      "text/plain": [
       "/var/folders/7t/k8q3439j6z3c683j7w00wtm80000gn/T/ipykernel_58430/1419766920.py:27: FutureWarning: The behavior of \n",
       "DataFrame concatenation with empty or all-NA entries is deprecated. In a future version, this will no longer \n",
       "exclude empty or all-NA columns when determining the result dtypes. To retain the old behavior, exclude the \n",
       "relevant entries before the concat operation.\n",
       "  results = pd.concat([results, normalized_data]) #.dropna(axis=1, how=\"all\")])\n"
      ]
     },
     "metadata": {},
     "output_type": "display_data"
    },
    {
     "data": {
      "text/html": [
       "<pre style=\"white-space:pre;overflow-x:auto;line-height:normal;font-family:Menlo,'DejaVu Sans Mono',consolas,'Courier New',monospace\">/var/folders/7t/k8q3439j6z3c683j7w00wtm80000gn/T/ipykernel_58430/1419766920.py:27: FutureWarning: The behavior of \n",
       "DataFrame concatenation with empty or all-NA entries is deprecated. In a future version, this will no longer \n",
       "exclude empty or all-NA columns when determining the result dtypes. To retain the old behavior, exclude the \n",
       "relevant entries before the concat operation.\n",
       "  results = pd.concat([results, normalized_data]) #.dropna(axis=1, how=\"all\")])\n",
       "</pre>\n"
      ],
      "text/plain": [
       "/var/folders/7t/k8q3439j6z3c683j7w00wtm80000gn/T/ipykernel_58430/1419766920.py:27: FutureWarning: The behavior of \n",
       "DataFrame concatenation with empty or all-NA entries is deprecated. In a future version, this will no longer \n",
       "exclude empty or all-NA columns when determining the result dtypes. To retain the old behavior, exclude the \n",
       "relevant entries before the concat operation.\n",
       "  results = pd.concat([results, normalized_data]) #.dropna(axis=1, how=\"all\")])\n"
      ]
     },
     "metadata": {},
     "output_type": "display_data"
    },
    {
     "data": {
      "text/html": [
       "<pre style=\"white-space:pre;overflow-x:auto;line-height:normal;font-family:Menlo,'DejaVu Sans Mono',consolas,'Courier New',monospace\">/var/folders/7t/k8q3439j6z3c683j7w00wtm80000gn/T/ipykernel_58430/1419766920.py:27: FutureWarning: The behavior of \n",
       "DataFrame concatenation with empty or all-NA entries is deprecated. In a future version, this will no longer \n",
       "exclude empty or all-NA columns when determining the result dtypes. To retain the old behavior, exclude the \n",
       "relevant entries before the concat operation.\n",
       "  results = pd.concat([results, normalized_data]) #.dropna(axis=1, how=\"all\")])\n",
       "</pre>\n"
      ],
      "text/plain": [
       "/var/folders/7t/k8q3439j6z3c683j7w00wtm80000gn/T/ipykernel_58430/1419766920.py:27: FutureWarning: The behavior of \n",
       "DataFrame concatenation with empty or all-NA entries is deprecated. In a future version, this will no longer \n",
       "exclude empty or all-NA columns when determining the result dtypes. To retain the old behavior, exclude the \n",
       "relevant entries before the concat operation.\n",
       "  results = pd.concat([results, normalized_data]) #.dropna(axis=1, how=\"all\")])\n"
      ]
     },
     "metadata": {},
     "output_type": "display_data"
    },
    {
     "data": {
      "text/html": [
       "<pre style=\"white-space:pre;overflow-x:auto;line-height:normal;font-family:Menlo,'DejaVu Sans Mono',consolas,'Courier New',monospace\">/var/folders/7t/k8q3439j6z3c683j7w00wtm80000gn/T/ipykernel_58430/1419766920.py:27: FutureWarning: The behavior of \n",
       "DataFrame concatenation with empty or all-NA entries is deprecated. In a future version, this will no longer \n",
       "exclude empty or all-NA columns when determining the result dtypes. To retain the old behavior, exclude the \n",
       "relevant entries before the concat operation.\n",
       "  results = pd.concat([results, normalized_data]) #.dropna(axis=1, how=\"all\")])\n",
       "</pre>\n"
      ],
      "text/plain": [
       "/var/folders/7t/k8q3439j6z3c683j7w00wtm80000gn/T/ipykernel_58430/1419766920.py:27: FutureWarning: The behavior of \n",
       "DataFrame concatenation with empty or all-NA entries is deprecated. In a future version, this will no longer \n",
       "exclude empty or all-NA columns when determining the result dtypes. To retain the old behavior, exclude the \n",
       "relevant entries before the concat operation.\n",
       "  results = pd.concat([results, normalized_data]) #.dropna(axis=1, how=\"all\")])\n"
      ]
     },
     "metadata": {},
     "output_type": "display_data"
    },
    {
     "data": {
      "text/html": [
       "<pre style=\"white-space:pre;overflow-x:auto;line-height:normal;font-family:Menlo,'DejaVu Sans Mono',consolas,'Courier New',monospace\">/var/folders/7t/k8q3439j6z3c683j7w00wtm80000gn/T/ipykernel_58430/1419766920.py:27: FutureWarning: The behavior of \n",
       "DataFrame concatenation with empty or all-NA entries is deprecated. In a future version, this will no longer \n",
       "exclude empty or all-NA columns when determining the result dtypes. To retain the old behavior, exclude the \n",
       "relevant entries before the concat operation.\n",
       "  results = pd.concat([results, normalized_data]) #.dropna(axis=1, how=\"all\")])\n",
       "</pre>\n"
      ],
      "text/plain": [
       "/var/folders/7t/k8q3439j6z3c683j7w00wtm80000gn/T/ipykernel_58430/1419766920.py:27: FutureWarning: The behavior of \n",
       "DataFrame concatenation with empty or all-NA entries is deprecated. In a future version, this will no longer \n",
       "exclude empty or all-NA columns when determining the result dtypes. To retain the old behavior, exclude the \n",
       "relevant entries before the concat operation.\n",
       "  results = pd.concat([results, normalized_data]) #.dropna(axis=1, how=\"all\")])\n"
      ]
     },
     "metadata": {},
     "output_type": "display_data"
    },
    {
     "data": {
      "text/html": [
       "<pre style=\"white-space:pre;overflow-x:auto;line-height:normal;font-family:Menlo,'DejaVu Sans Mono',consolas,'Courier New',monospace\">/var/folders/7t/k8q3439j6z3c683j7w00wtm80000gn/T/ipykernel_58430/1419766920.py:27: FutureWarning: The behavior of \n",
       "DataFrame concatenation with empty or all-NA entries is deprecated. In a future version, this will no longer \n",
       "exclude empty or all-NA columns when determining the result dtypes. To retain the old behavior, exclude the \n",
       "relevant entries before the concat operation.\n",
       "  results = pd.concat([results, normalized_data]) #.dropna(axis=1, how=\"all\")])\n",
       "</pre>\n"
      ],
      "text/plain": [
       "/var/folders/7t/k8q3439j6z3c683j7w00wtm80000gn/T/ipykernel_58430/1419766920.py:27: FutureWarning: The behavior of \n",
       "DataFrame concatenation with empty or all-NA entries is deprecated. In a future version, this will no longer \n",
       "exclude empty or all-NA columns when determining the result dtypes. To retain the old behavior, exclude the \n",
       "relevant entries before the concat operation.\n",
       "  results = pd.concat([results, normalized_data]) #.dropna(axis=1, how=\"all\")])\n"
      ]
     },
     "metadata": {},
     "output_type": "display_data"
    },
    {
     "data": {
      "text/html": [
       "<pre style=\"white-space:pre;overflow-x:auto;line-height:normal;font-family:Menlo,'DejaVu Sans Mono',consolas,'Courier New',monospace\">/var/folders/7t/k8q3439j6z3c683j7w00wtm80000gn/T/ipykernel_58430/1419766920.py:27: FutureWarning: The behavior of \n",
       "DataFrame concatenation with empty or all-NA entries is deprecated. In a future version, this will no longer \n",
       "exclude empty or all-NA columns when determining the result dtypes. To retain the old behavior, exclude the \n",
       "relevant entries before the concat operation.\n",
       "  results = pd.concat([results, normalized_data]) #.dropna(axis=1, how=\"all\")])\n",
       "</pre>\n"
      ],
      "text/plain": [
       "/var/folders/7t/k8q3439j6z3c683j7w00wtm80000gn/T/ipykernel_58430/1419766920.py:27: FutureWarning: The behavior of \n",
       "DataFrame concatenation with empty or all-NA entries is deprecated. In a future version, this will no longer \n",
       "exclude empty or all-NA columns when determining the result dtypes. To retain the old behavior, exclude the \n",
       "relevant entries before the concat operation.\n",
       "  results = pd.concat([results, normalized_data]) #.dropna(axis=1, how=\"all\")])\n"
      ]
     },
     "metadata": {},
     "output_type": "display_data"
    },
    {
     "data": {
      "text/html": [
       "<pre style=\"white-space:pre;overflow-x:auto;line-height:normal;font-family:Menlo,'DejaVu Sans Mono',consolas,'Courier New',monospace\">/var/folders/7t/k8q3439j6z3c683j7w00wtm80000gn/T/ipykernel_58430/1419766920.py:27: FutureWarning: The behavior of \n",
       "DataFrame concatenation with empty or all-NA entries is deprecated. In a future version, this will no longer \n",
       "exclude empty or all-NA columns when determining the result dtypes. To retain the old behavior, exclude the \n",
       "relevant entries before the concat operation.\n",
       "  results = pd.concat([results, normalized_data]) #.dropna(axis=1, how=\"all\")])\n",
       "</pre>\n"
      ],
      "text/plain": [
       "/var/folders/7t/k8q3439j6z3c683j7w00wtm80000gn/T/ipykernel_58430/1419766920.py:27: FutureWarning: The behavior of \n",
       "DataFrame concatenation with empty or all-NA entries is deprecated. In a future version, this will no longer \n",
       "exclude empty or all-NA columns when determining the result dtypes. To retain the old behavior, exclude the \n",
       "relevant entries before the concat operation.\n",
       "  results = pd.concat([results, normalized_data]) #.dropna(axis=1, how=\"all\")])\n"
      ]
     },
     "metadata": {},
     "output_type": "display_data"
    },
    {
     "data": {
      "text/html": [
       "<pre style=\"white-space:pre;overflow-x:auto;line-height:normal;font-family:Menlo,'DejaVu Sans Mono',consolas,'Courier New',monospace\">/var/folders/7t/k8q3439j6z3c683j7w00wtm80000gn/T/ipykernel_58430/1419766920.py:27: FutureWarning: The behavior of \n",
       "DataFrame concatenation with empty or all-NA entries is deprecated. In a future version, this will no longer \n",
       "exclude empty or all-NA columns when determining the result dtypes. To retain the old behavior, exclude the \n",
       "relevant entries before the concat operation.\n",
       "  results = pd.concat([results, normalized_data]) #.dropna(axis=1, how=\"all\")])\n",
       "</pre>\n"
      ],
      "text/plain": [
       "/var/folders/7t/k8q3439j6z3c683j7w00wtm80000gn/T/ipykernel_58430/1419766920.py:27: FutureWarning: The behavior of \n",
       "DataFrame concatenation with empty or all-NA entries is deprecated. In a future version, this will no longer \n",
       "exclude empty or all-NA columns when determining the result dtypes. To retain the old behavior, exclude the \n",
       "relevant entries before the concat operation.\n",
       "  results = pd.concat([results, normalized_data]) #.dropna(axis=1, how=\"all\")])\n"
      ]
     },
     "metadata": {},
     "output_type": "display_data"
    },
    {
     "data": {
      "text/html": [
       "<pre style=\"white-space:pre;overflow-x:auto;line-height:normal;font-family:Menlo,'DejaVu Sans Mono',consolas,'Courier New',monospace\">/var/folders/7t/k8q3439j6z3c683j7w00wtm80000gn/T/ipykernel_58430/1419766920.py:27: FutureWarning: The behavior of \n",
       "DataFrame concatenation with empty or all-NA entries is deprecated. In a future version, this will no longer \n",
       "exclude empty or all-NA columns when determining the result dtypes. To retain the old behavior, exclude the \n",
       "relevant entries before the concat operation.\n",
       "  results = pd.concat([results, normalized_data]) #.dropna(axis=1, how=\"all\")])\n",
       "</pre>\n"
      ],
      "text/plain": [
       "/var/folders/7t/k8q3439j6z3c683j7w00wtm80000gn/T/ipykernel_58430/1419766920.py:27: FutureWarning: The behavior of \n",
       "DataFrame concatenation with empty or all-NA entries is deprecated. In a future version, this will no longer \n",
       "exclude empty or all-NA columns when determining the result dtypes. To retain the old behavior, exclude the \n",
       "relevant entries before the concat operation.\n",
       "  results = pd.concat([results, normalized_data]) #.dropna(axis=1, how=\"all\")])\n"
      ]
     },
     "metadata": {},
     "output_type": "display_data"
    },
    {
     "data": {
      "text/html": [
       "<pre style=\"white-space:pre;overflow-x:auto;line-height:normal;font-family:Menlo,'DejaVu Sans Mono',consolas,'Courier New',monospace\">/var/folders/7t/k8q3439j6z3c683j7w00wtm80000gn/T/ipykernel_58430/1419766920.py:27: FutureWarning: The behavior of \n",
       "DataFrame concatenation with empty or all-NA entries is deprecated. In a future version, this will no longer \n",
       "exclude empty or all-NA columns when determining the result dtypes. To retain the old behavior, exclude the \n",
       "relevant entries before the concat operation.\n",
       "  results = pd.concat([results, normalized_data]) #.dropna(axis=1, how=\"all\")])\n",
       "</pre>\n"
      ],
      "text/plain": [
       "/var/folders/7t/k8q3439j6z3c683j7w00wtm80000gn/T/ipykernel_58430/1419766920.py:27: FutureWarning: The behavior of \n",
       "DataFrame concatenation with empty or all-NA entries is deprecated. In a future version, this will no longer \n",
       "exclude empty or all-NA columns when determining the result dtypes. To retain the old behavior, exclude the \n",
       "relevant entries before the concat operation.\n",
       "  results = pd.concat([results, normalized_data]) #.dropna(axis=1, how=\"all\")])\n"
      ]
     },
     "metadata": {},
     "output_type": "display_data"
    },
    {
     "data": {
      "text/html": [
       "<pre style=\"white-space:pre;overflow-x:auto;line-height:normal;font-family:Menlo,'DejaVu Sans Mono',consolas,'Courier New',monospace\">/var/folders/7t/k8q3439j6z3c683j7w00wtm80000gn/T/ipykernel_58430/1419766920.py:27: FutureWarning: The behavior of \n",
       "DataFrame concatenation with empty or all-NA entries is deprecated. In a future version, this will no longer \n",
       "exclude empty or all-NA columns when determining the result dtypes. To retain the old behavior, exclude the \n",
       "relevant entries before the concat operation.\n",
       "  results = pd.concat([results, normalized_data]) #.dropna(axis=1, how=\"all\")])\n",
       "</pre>\n"
      ],
      "text/plain": [
       "/var/folders/7t/k8q3439j6z3c683j7w00wtm80000gn/T/ipykernel_58430/1419766920.py:27: FutureWarning: The behavior of \n",
       "DataFrame concatenation with empty or all-NA entries is deprecated. In a future version, this will no longer \n",
       "exclude empty or all-NA columns when determining the result dtypes. To retain the old behavior, exclude the \n",
       "relevant entries before the concat operation.\n",
       "  results = pd.concat([results, normalized_data]) #.dropna(axis=1, how=\"all\")])\n"
      ]
     },
     "metadata": {},
     "output_type": "display_data"
    },
    {
     "data": {
      "text/html": [
       "<pre style=\"white-space:pre;overflow-x:auto;line-height:normal;font-family:Menlo,'DejaVu Sans Mono',consolas,'Courier New',monospace\">/var/folders/7t/k8q3439j6z3c683j7w00wtm80000gn/T/ipykernel_58430/1419766920.py:27: FutureWarning: The behavior of \n",
       "DataFrame concatenation with empty or all-NA entries is deprecated. In a future version, this will no longer \n",
       "exclude empty or all-NA columns when determining the result dtypes. To retain the old behavior, exclude the \n",
       "relevant entries before the concat operation.\n",
       "  results = pd.concat([results, normalized_data]) #.dropna(axis=1, how=\"all\")])\n",
       "</pre>\n"
      ],
      "text/plain": [
       "/var/folders/7t/k8q3439j6z3c683j7w00wtm80000gn/T/ipykernel_58430/1419766920.py:27: FutureWarning: The behavior of \n",
       "DataFrame concatenation with empty or all-NA entries is deprecated. In a future version, this will no longer \n",
       "exclude empty or all-NA columns when determining the result dtypes. To retain the old behavior, exclude the \n",
       "relevant entries before the concat operation.\n",
       "  results = pd.concat([results, normalized_data]) #.dropna(axis=1, how=\"all\")])\n"
      ]
     },
     "metadata": {},
     "output_type": "display_data"
    },
    {
     "data": {
      "text/html": [
       "<pre style=\"white-space:pre;overflow-x:auto;line-height:normal;font-family:Menlo,'DejaVu Sans Mono',consolas,'Courier New',monospace\">/var/folders/7t/k8q3439j6z3c683j7w00wtm80000gn/T/ipykernel_58430/1419766920.py:27: FutureWarning: The behavior of \n",
       "DataFrame concatenation with empty or all-NA entries is deprecated. In a future version, this will no longer \n",
       "exclude empty or all-NA columns when determining the result dtypes. To retain the old behavior, exclude the \n",
       "relevant entries before the concat operation.\n",
       "  results = pd.concat([results, normalized_data]) #.dropna(axis=1, how=\"all\")])\n",
       "</pre>\n"
      ],
      "text/plain": [
       "/var/folders/7t/k8q3439j6z3c683j7w00wtm80000gn/T/ipykernel_58430/1419766920.py:27: FutureWarning: The behavior of \n",
       "DataFrame concatenation with empty or all-NA entries is deprecated. In a future version, this will no longer \n",
       "exclude empty or all-NA columns when determining the result dtypes. To retain the old behavior, exclude the \n",
       "relevant entries before the concat operation.\n",
       "  results = pd.concat([results, normalized_data]) #.dropna(axis=1, how=\"all\")])\n"
      ]
     },
     "metadata": {},
     "output_type": "display_data"
    },
    {
     "data": {
      "text/html": [
       "<pre style=\"white-space:pre;overflow-x:auto;line-height:normal;font-family:Menlo,'DejaVu Sans Mono',consolas,'Courier New',monospace\">/var/folders/7t/k8q3439j6z3c683j7w00wtm80000gn/T/ipykernel_58430/1419766920.py:27: FutureWarning: The behavior of \n",
       "DataFrame concatenation with empty or all-NA entries is deprecated. In a future version, this will no longer \n",
       "exclude empty or all-NA columns when determining the result dtypes. To retain the old behavior, exclude the \n",
       "relevant entries before the concat operation.\n",
       "  results = pd.concat([results, normalized_data]) #.dropna(axis=1, how=\"all\")])\n",
       "</pre>\n"
      ],
      "text/plain": [
       "/var/folders/7t/k8q3439j6z3c683j7w00wtm80000gn/T/ipykernel_58430/1419766920.py:27: FutureWarning: The behavior of \n",
       "DataFrame concatenation with empty or all-NA entries is deprecated. In a future version, this will no longer \n",
       "exclude empty or all-NA columns when determining the result dtypes. To retain the old behavior, exclude the \n",
       "relevant entries before the concat operation.\n",
       "  results = pd.concat([results, normalized_data]) #.dropna(axis=1, how=\"all\")])\n"
      ]
     },
     "metadata": {},
     "output_type": "display_data"
    },
    {
     "data": {
      "text/html": [
       "<pre style=\"white-space:pre;overflow-x:auto;line-height:normal;font-family:Menlo,'DejaVu Sans Mono',consolas,'Courier New',monospace\">/var/folders/7t/k8q3439j6z3c683j7w00wtm80000gn/T/ipykernel_58430/1419766920.py:27: FutureWarning: The behavior of \n",
       "DataFrame concatenation with empty or all-NA entries is deprecated. In a future version, this will no longer \n",
       "exclude empty or all-NA columns when determining the result dtypes. To retain the old behavior, exclude the \n",
       "relevant entries before the concat operation.\n",
       "  results = pd.concat([results, normalized_data]) #.dropna(axis=1, how=\"all\")])\n",
       "</pre>\n"
      ],
      "text/plain": [
       "/var/folders/7t/k8q3439j6z3c683j7w00wtm80000gn/T/ipykernel_58430/1419766920.py:27: FutureWarning: The behavior of \n",
       "DataFrame concatenation with empty or all-NA entries is deprecated. In a future version, this will no longer \n",
       "exclude empty or all-NA columns when determining the result dtypes. To retain the old behavior, exclude the \n",
       "relevant entries before the concat operation.\n",
       "  results = pd.concat([results, normalized_data]) #.dropna(axis=1, how=\"all\")])\n"
      ]
     },
     "metadata": {},
     "output_type": "display_data"
    },
    {
     "data": {
      "text/html": [
       "<pre style=\"white-space:pre;overflow-x:auto;line-height:normal;font-family:Menlo,'DejaVu Sans Mono',consolas,'Courier New',monospace\">/var/folders/7t/k8q3439j6z3c683j7w00wtm80000gn/T/ipykernel_58430/1419766920.py:27: FutureWarning: The behavior of \n",
       "DataFrame concatenation with empty or all-NA entries is deprecated. In a future version, this will no longer \n",
       "exclude empty or all-NA columns when determining the result dtypes. To retain the old behavior, exclude the \n",
       "relevant entries before the concat operation.\n",
       "  results = pd.concat([results, normalized_data]) #.dropna(axis=1, how=\"all\")])\n",
       "</pre>\n"
      ],
      "text/plain": [
       "/var/folders/7t/k8q3439j6z3c683j7w00wtm80000gn/T/ipykernel_58430/1419766920.py:27: FutureWarning: The behavior of \n",
       "DataFrame concatenation with empty or all-NA entries is deprecated. In a future version, this will no longer \n",
       "exclude empty or all-NA columns when determining the result dtypes. To retain the old behavior, exclude the \n",
       "relevant entries before the concat operation.\n",
       "  results = pd.concat([results, normalized_data]) #.dropna(axis=1, how=\"all\")])\n"
      ]
     },
     "metadata": {},
     "output_type": "display_data"
    },
    {
     "data": {
      "text/html": [
       "<pre style=\"white-space:pre;overflow-x:auto;line-height:normal;font-family:Menlo,'DejaVu Sans Mono',consolas,'Courier New',monospace\">/var/folders/7t/k8q3439j6z3c683j7w00wtm80000gn/T/ipykernel_58430/1419766920.py:27: FutureWarning: The behavior of \n",
       "DataFrame concatenation with empty or all-NA entries is deprecated. In a future version, this will no longer \n",
       "exclude empty or all-NA columns when determining the result dtypes. To retain the old behavior, exclude the \n",
       "relevant entries before the concat operation.\n",
       "  results = pd.concat([results, normalized_data]) #.dropna(axis=1, how=\"all\")])\n",
       "</pre>\n"
      ],
      "text/plain": [
       "/var/folders/7t/k8q3439j6z3c683j7w00wtm80000gn/T/ipykernel_58430/1419766920.py:27: FutureWarning: The behavior of \n",
       "DataFrame concatenation with empty or all-NA entries is deprecated. In a future version, this will no longer \n",
       "exclude empty or all-NA columns when determining the result dtypes. To retain the old behavior, exclude the \n",
       "relevant entries before the concat operation.\n",
       "  results = pd.concat([results, normalized_data]) #.dropna(axis=1, how=\"all\")])\n"
      ]
     },
     "metadata": {},
     "output_type": "display_data"
    },
    {
     "data": {
      "text/html": [
       "<pre style=\"white-space:pre;overflow-x:auto;line-height:normal;font-family:Menlo,'DejaVu Sans Mono',consolas,'Courier New',monospace\">/var/folders/7t/k8q3439j6z3c683j7w00wtm80000gn/T/ipykernel_58430/1419766920.py:27: FutureWarning: The behavior of \n",
       "DataFrame concatenation with empty or all-NA entries is deprecated. In a future version, this will no longer \n",
       "exclude empty or all-NA columns when determining the result dtypes. To retain the old behavior, exclude the \n",
       "relevant entries before the concat operation.\n",
       "  results = pd.concat([results, normalized_data]) #.dropna(axis=1, how=\"all\")])\n",
       "</pre>\n"
      ],
      "text/plain": [
       "/var/folders/7t/k8q3439j6z3c683j7w00wtm80000gn/T/ipykernel_58430/1419766920.py:27: FutureWarning: The behavior of \n",
       "DataFrame concatenation with empty or all-NA entries is deprecated. In a future version, this will no longer \n",
       "exclude empty or all-NA columns when determining the result dtypes. To retain the old behavior, exclude the \n",
       "relevant entries before the concat operation.\n",
       "  results = pd.concat([results, normalized_data]) #.dropna(axis=1, how=\"all\")])\n"
      ]
     },
     "metadata": {},
     "output_type": "display_data"
    },
    {
     "data": {
      "text/html": [
       "<pre style=\"white-space:pre;overflow-x:auto;line-height:normal;font-family:Menlo,'DejaVu Sans Mono',consolas,'Courier New',monospace\">/var/folders/7t/k8q3439j6z3c683j7w00wtm80000gn/T/ipykernel_58430/1419766920.py:27: FutureWarning: The behavior of \n",
       "DataFrame concatenation with empty or all-NA entries is deprecated. In a future version, this will no longer \n",
       "exclude empty or all-NA columns when determining the result dtypes. To retain the old behavior, exclude the \n",
       "relevant entries before the concat operation.\n",
       "  results = pd.concat([results, normalized_data]) #.dropna(axis=1, how=\"all\")])\n",
       "</pre>\n"
      ],
      "text/plain": [
       "/var/folders/7t/k8q3439j6z3c683j7w00wtm80000gn/T/ipykernel_58430/1419766920.py:27: FutureWarning: The behavior of \n",
       "DataFrame concatenation with empty or all-NA entries is deprecated. In a future version, this will no longer \n",
       "exclude empty or all-NA columns when determining the result dtypes. To retain the old behavior, exclude the \n",
       "relevant entries before the concat operation.\n",
       "  results = pd.concat([results, normalized_data]) #.dropna(axis=1, how=\"all\")])\n"
      ]
     },
     "metadata": {},
     "output_type": "display_data"
    },
    {
     "data": {
      "text/html": [
       "<pre style=\"white-space:pre;overflow-x:auto;line-height:normal;font-family:Menlo,'DejaVu Sans Mono',consolas,'Courier New',monospace\">/var/folders/7t/k8q3439j6z3c683j7w00wtm80000gn/T/ipykernel_58430/1419766920.py:27: FutureWarning: The behavior of \n",
       "DataFrame concatenation with empty or all-NA entries is deprecated. In a future version, this will no longer \n",
       "exclude empty or all-NA columns when determining the result dtypes. To retain the old behavior, exclude the \n",
       "relevant entries before the concat operation.\n",
       "  results = pd.concat([results, normalized_data]) #.dropna(axis=1, how=\"all\")])\n",
       "</pre>\n"
      ],
      "text/plain": [
       "/var/folders/7t/k8q3439j6z3c683j7w00wtm80000gn/T/ipykernel_58430/1419766920.py:27: FutureWarning: The behavior of \n",
       "DataFrame concatenation with empty or all-NA entries is deprecated. In a future version, this will no longer \n",
       "exclude empty or all-NA columns when determining the result dtypes. To retain the old behavior, exclude the \n",
       "relevant entries before the concat operation.\n",
       "  results = pd.concat([results, normalized_data]) #.dropna(axis=1, how=\"all\")])\n"
      ]
     },
     "metadata": {},
     "output_type": "display_data"
    },
    {
     "data": {
      "text/html": [
       "<pre style=\"white-space:pre;overflow-x:auto;line-height:normal;font-family:Menlo,'DejaVu Sans Mono',consolas,'Courier New',monospace\">/var/folders/7t/k8q3439j6z3c683j7w00wtm80000gn/T/ipykernel_58430/1419766920.py:27: FutureWarning: The behavior of \n",
       "DataFrame concatenation with empty or all-NA entries is deprecated. In a future version, this will no longer \n",
       "exclude empty or all-NA columns when determining the result dtypes. To retain the old behavior, exclude the \n",
       "relevant entries before the concat operation.\n",
       "  results = pd.concat([results, normalized_data]) #.dropna(axis=1, how=\"all\")])\n",
       "</pre>\n"
      ],
      "text/plain": [
       "/var/folders/7t/k8q3439j6z3c683j7w00wtm80000gn/T/ipykernel_58430/1419766920.py:27: FutureWarning: The behavior of \n",
       "DataFrame concatenation with empty or all-NA entries is deprecated. In a future version, this will no longer \n",
       "exclude empty or all-NA columns when determining the result dtypes. To retain the old behavior, exclude the \n",
       "relevant entries before the concat operation.\n",
       "  results = pd.concat([results, normalized_data]) #.dropna(axis=1, how=\"all\")])\n"
      ]
     },
     "metadata": {},
     "output_type": "display_data"
    },
    {
     "data": {
      "text/html": [
       "<pre style=\"white-space:pre;overflow-x:auto;line-height:normal;font-family:Menlo,'DejaVu Sans Mono',consolas,'Courier New',monospace\">/var/folders/7t/k8q3439j6z3c683j7w00wtm80000gn/T/ipykernel_58430/1419766920.py:27: FutureWarning: The behavior of \n",
       "DataFrame concatenation with empty or all-NA entries is deprecated. In a future version, this will no longer \n",
       "exclude empty or all-NA columns when determining the result dtypes. To retain the old behavior, exclude the \n",
       "relevant entries before the concat operation.\n",
       "  results = pd.concat([results, normalized_data]) #.dropna(axis=1, how=\"all\")])\n",
       "</pre>\n"
      ],
      "text/plain": [
       "/var/folders/7t/k8q3439j6z3c683j7w00wtm80000gn/T/ipykernel_58430/1419766920.py:27: FutureWarning: The behavior of \n",
       "DataFrame concatenation with empty or all-NA entries is deprecated. In a future version, this will no longer \n",
       "exclude empty or all-NA columns when determining the result dtypes. To retain the old behavior, exclude the \n",
       "relevant entries before the concat operation.\n",
       "  results = pd.concat([results, normalized_data]) #.dropna(axis=1, how=\"all\")])\n"
      ]
     },
     "metadata": {},
     "output_type": "display_data"
    },
    {
     "data": {
      "text/html": [
       "<pre style=\"white-space:pre;overflow-x:auto;line-height:normal;font-family:Menlo,'DejaVu Sans Mono',consolas,'Courier New',monospace\"></pre>\n"
      ],
      "text/plain": []
     },
     "metadata": {},
     "output_type": "display_data"
    },
    {
     "data": {
      "text/html": [
       "<pre style=\"white-space:pre;overflow-x:auto;line-height:normal;font-family:Menlo,'DejaVu Sans Mono',consolas,'Courier New',monospace\">\n",
       "</pre>\n"
      ],
      "text/plain": [
       "\n"
      ]
     },
     "metadata": {},
     "output_type": "display_data"
    },
    {
     "data": {
      "text/html": [
       "<div>\n",
       "<style scoped>\n",
       "    .dataframe tbody tr th:only-of-type {\n",
       "        vertical-align: middle;\n",
       "    }\n",
       "\n",
       "    .dataframe tbody tr th {\n",
       "        vertical-align: top;\n",
       "    }\n",
       "\n",
       "    .dataframe thead th {\n",
       "        text-align: right;\n",
       "    }\n",
       "</style>\n",
       "<table border=\"1\" class=\"dataframe\">\n",
       "  <thead>\n",
       "    <tr style=\"text-align: right;\">\n",
       "      <th></th>\n",
       "      <th></th>\n",
       "      <th></th>\n",
       "      <th></th>\n",
       "      <th>C</th>\n",
       "      <th>alpha</th>\n",
       "      <th>hidden_layer_sizes</th>\n",
       "      <th>kernel</th>\n",
       "      <th>learning_rate</th>\n",
       "      <th>max_depth</th>\n",
       "      <th>n_estimators</th>\n",
       "      <th>f1_score</th>\n",
       "      <th>model_path</th>\n",
       "    </tr>\n",
       "    <tr>\n",
       "      <th>percentage</th>\n",
       "      <th>model</th>\n",
       "      <th>use_gradient</th>\n",
       "      <th>use_ewma</th>\n",
       "      <th></th>\n",
       "      <th></th>\n",
       "      <th></th>\n",
       "      <th></th>\n",
       "      <th></th>\n",
       "      <th></th>\n",
       "      <th></th>\n",
       "      <th></th>\n",
       "      <th></th>\n",
       "    </tr>\n",
       "  </thead>\n",
       "  <tbody>\n",
       "    <tr>\n",
       "      <th rowspan=\"5\" valign=\"top\">4</th>\n",
       "      <th rowspan=\"5\" valign=\"top\">SVM</th>\n",
       "      <th rowspan=\"5\" valign=\"top\">True</th>\n",
       "      <th>False</th>\n",
       "      <td>1.0</td>\n",
       "      <td>NaN</td>\n",
       "      <td>NaN</td>\n",
       "      <td>rbf</td>\n",
       "      <td>NaN</td>\n",
       "      <td>NaN</td>\n",
       "      <td>NaN</td>\n",
       "      <td>0.737864</td>\n",
       "      <td>train-output/SVM_4_grad_no-ewma_3/model.pkl</td>\n",
       "    </tr>\n",
       "    <tr>\n",
       "      <th>False</th>\n",
       "      <td>1.0</td>\n",
       "      <td>NaN</td>\n",
       "      <td>NaN</td>\n",
       "      <td>rbf</td>\n",
       "      <td>NaN</td>\n",
       "      <td>NaN</td>\n",
       "      <td>NaN</td>\n",
       "      <td>0.687500</td>\n",
       "      <td>train-output/SVM_4_grad_no-ewma_3/model.pkl</td>\n",
       "    </tr>\n",
       "    <tr>\n",
       "      <th>False</th>\n",
       "      <td>1.0</td>\n",
       "      <td>NaN</td>\n",
       "      <td>NaN</td>\n",
       "      <td>rbf</td>\n",
       "      <td>NaN</td>\n",
       "      <td>NaN</td>\n",
       "      <td>NaN</td>\n",
       "      <td>0.744681</td>\n",
       "      <td>train-output/SVM_4_grad_no-ewma_3/model.pkl</td>\n",
       "    </tr>\n",
       "    <tr>\n",
       "      <th>False</th>\n",
       "      <td>1.0</td>\n",
       "      <td>NaN</td>\n",
       "      <td>NaN</td>\n",
       "      <td>rbf</td>\n",
       "      <td>NaN</td>\n",
       "      <td>NaN</td>\n",
       "      <td>NaN</td>\n",
       "      <td>0.696629</td>\n",
       "      <td>train-output/SVM_4_grad_no-ewma_3/model.pkl</td>\n",
       "    </tr>\n",
       "    <tr>\n",
       "      <th>False</th>\n",
       "      <td>1.0</td>\n",
       "      <td>NaN</td>\n",
       "      <td>NaN</td>\n",
       "      <td>rbf</td>\n",
       "      <td>NaN</td>\n",
       "      <td>NaN</td>\n",
       "      <td>NaN</td>\n",
       "      <td>0.760000</td>\n",
       "      <td>train-output/SVM_4_grad_no-ewma_3/model.pkl</td>\n",
       "    </tr>\n",
       "    <tr>\n",
       "      <th>...</th>\n",
       "      <th>...</th>\n",
       "      <th>...</th>\n",
       "      <th>...</th>\n",
       "      <td>...</td>\n",
       "      <td>...</td>\n",
       "      <td>...</td>\n",
       "      <td>...</td>\n",
       "      <td>...</td>\n",
       "      <td>...</td>\n",
       "      <td>...</td>\n",
       "      <td>...</td>\n",
       "      <td>...</td>\n",
       "    </tr>\n",
       "    <tr>\n",
       "      <th rowspan=\"5\" valign=\"top\">19</th>\n",
       "      <th rowspan=\"5\" valign=\"top\">LR</th>\n",
       "      <th rowspan=\"5\" valign=\"top\">False</th>\n",
       "      <th>False</th>\n",
       "      <td>1.0</td>\n",
       "      <td>NaN</td>\n",
       "      <td>NaN</td>\n",
       "      <td>NaN</td>\n",
       "      <td>NaN</td>\n",
       "      <td>NaN</td>\n",
       "      <td>NaN</td>\n",
       "      <td>0.565217</td>\n",
       "      <td>train-output/LR_19_no-grad_no-ewma_1/model.pkl</td>\n",
       "    </tr>\n",
       "    <tr>\n",
       "      <th>False</th>\n",
       "      <td>1.0</td>\n",
       "      <td>NaN</td>\n",
       "      <td>NaN</td>\n",
       "      <td>NaN</td>\n",
       "      <td>NaN</td>\n",
       "      <td>NaN</td>\n",
       "      <td>NaN</td>\n",
       "      <td>0.549020</td>\n",
       "      <td>train-output/LR_19_no-grad_no-ewma_1/model.pkl</td>\n",
       "    </tr>\n",
       "    <tr>\n",
       "      <th>False</th>\n",
       "      <td>1.0</td>\n",
       "      <td>NaN</td>\n",
       "      <td>NaN</td>\n",
       "      <td>NaN</td>\n",
       "      <td>NaN</td>\n",
       "      <td>NaN</td>\n",
       "      <td>NaN</td>\n",
       "      <td>0.650000</td>\n",
       "      <td>train-output/LR_19_no-grad_no-ewma_1/model.pkl</td>\n",
       "    </tr>\n",
       "    <tr>\n",
       "      <th>False</th>\n",
       "      <td>1.0</td>\n",
       "      <td>NaN</td>\n",
       "      <td>NaN</td>\n",
       "      <td>NaN</td>\n",
       "      <td>NaN</td>\n",
       "      <td>NaN</td>\n",
       "      <td>NaN</td>\n",
       "      <td>0.461538</td>\n",
       "      <td>train-output/LR_19_no-grad_no-ewma_1/model.pkl</td>\n",
       "    </tr>\n",
       "    <tr>\n",
       "      <th>False</th>\n",
       "      <td>1.0</td>\n",
       "      <td>NaN</td>\n",
       "      <td>NaN</td>\n",
       "      <td>NaN</td>\n",
       "      <td>NaN</td>\n",
       "      <td>NaN</td>\n",
       "      <td>NaN</td>\n",
       "      <td>0.478261</td>\n",
       "      <td>train-output/LR_19_no-grad_no-ewma_1/model.pkl</td>\n",
       "    </tr>\n",
       "  </tbody>\n",
       "</table>\n",
       "<p>33540 rows × 9 columns</p>\n",
       "</div>"
      ],
      "text/plain": [
       "                                          C  alpha hidden_layer_sizes kernel  \\\n",
       "percentage model use_gradient use_ewma                                         \n",
       "4          SVM   True         False     1.0    NaN                NaN    rbf   \n",
       "                              False     1.0    NaN                NaN    rbf   \n",
       "                              False     1.0    NaN                NaN    rbf   \n",
       "                              False     1.0    NaN                NaN    rbf   \n",
       "                              False     1.0    NaN                NaN    rbf   \n",
       "...                                     ...    ...                ...    ...   \n",
       "19         LR    False        False     1.0    NaN                NaN    NaN   \n",
       "                              False     1.0    NaN                NaN    NaN   \n",
       "                              False     1.0    NaN                NaN    NaN   \n",
       "                              False     1.0    NaN                NaN    NaN   \n",
       "                              False     1.0    NaN                NaN    NaN   \n",
       "\n",
       "                                        learning_rate  max_depth  \\\n",
       "percentage model use_gradient use_ewma                             \n",
       "4          SVM   True         False               NaN        NaN   \n",
       "                              False               NaN        NaN   \n",
       "                              False               NaN        NaN   \n",
       "                              False               NaN        NaN   \n",
       "                              False               NaN        NaN   \n",
       "...                                               ...        ...   \n",
       "19         LR    False        False               NaN        NaN   \n",
       "                              False               NaN        NaN   \n",
       "                              False               NaN        NaN   \n",
       "                              False               NaN        NaN   \n",
       "                              False               NaN        NaN   \n",
       "\n",
       "                                        n_estimators  f1_score  \\\n",
       "percentage model use_gradient use_ewma                           \n",
       "4          SVM   True         False              NaN  0.737864   \n",
       "                              False              NaN  0.687500   \n",
       "                              False              NaN  0.744681   \n",
       "                              False              NaN  0.696629   \n",
       "                              False              NaN  0.760000   \n",
       "...                                              ...       ...   \n",
       "19         LR    False        False              NaN  0.565217   \n",
       "                              False              NaN  0.549020   \n",
       "                              False              NaN  0.650000   \n",
       "                              False              NaN  0.461538   \n",
       "                              False              NaN  0.478261   \n",
       "\n",
       "                                                                            model_path  \n",
       "percentage model use_gradient use_ewma                                                  \n",
       "4          SVM   True         False        train-output/SVM_4_grad_no-ewma_3/model.pkl  \n",
       "                              False        train-output/SVM_4_grad_no-ewma_3/model.pkl  \n",
       "                              False        train-output/SVM_4_grad_no-ewma_3/model.pkl  \n",
       "                              False        train-output/SVM_4_grad_no-ewma_3/model.pkl  \n",
       "                              False        train-output/SVM_4_grad_no-ewma_3/model.pkl  \n",
       "...                                                                                ...  \n",
       "19         LR    False        False     train-output/LR_19_no-grad_no-ewma_1/model.pkl  \n",
       "                              False     train-output/LR_19_no-grad_no-ewma_1/model.pkl  \n",
       "                              False     train-output/LR_19_no-grad_no-ewma_1/model.pkl  \n",
       "                              False     train-output/LR_19_no-grad_no-ewma_1/model.pkl  \n",
       "                              False     train-output/LR_19_no-grad_no-ewma_1/model.pkl  \n",
       "\n",
       "[33540 rows x 9 columns]"
      ]
     },
     "execution_count": 111,
     "metadata": {},
     "output_type": "execute_result"
    }
   ],
   "source": [
    "def parse_files(root_path):\n",
    "    \"\"\"\n",
    "    Parse files and use pd.json_normalize to flatten the json.\n",
    "    \"\"\"\n",
    "    # files = root_path.joinpath(\"train-output-all-features\").glob(\"**/*.json\")\n",
    "    files = root_path.joinpath(\"train-output\").glob(\"**/*.json\")\n",
    "    results = pd.DataFrame()\n",
    "    files = list(files)\n",
    "\n",
    "    for file in track(\n",
    "        files,\n",
    "        description=\"Loading hyperparameters and \"\n",
    "        \"performance data from file to DataFrame\",\n",
    "    ):\n",
    "        with open(file) as f:\n",
    "            data = json.load(f)\n",
    "            original_target = root_path.joinpath(data[\"original_target\"])\n",
    "            original_dict = json.loads(Path(original_target).read_text())\n",
    "\n",
    "            f1_scores = pd.json_normalize(data, \"f1_scores\")\n",
    "            normalized_data = pd.json_normalize(original_dict)\n",
    "            normalized_data = pd.concat(\n",
    "                [normalized_data] * len(f1_scores), ignore_index=True\n",
    "            )\n",
    "            normalized_data[\"metrics.f1_score\"] = f1_scores\n",
    "            normalized_data[\"paths.model_path\"] = data[\"model_path\"]\n",
    "            results = pd.concat([results, normalized_data]) #.dropna(axis=1, how=\"all\")])\n",
    "\n",
    "    results = results.set_index(\n",
    "        [\"percentage\", \"model\", \"use_gradient\", \"use_ewma\"]\n",
    "    )\n",
    "    results.columns = pd.MultiIndex.from_arrays(\n",
    "        zip(*results.columns.str.split(\".\", expand=True))\n",
    "    )\n",
    "    results = results.sort_index(axis=1)\n",
    "    results = results.drop(columns=['k_fold', 'preprocessing'])\n",
    "    results = results.droplevel(0, axis=1)\n",
    "\n",
    "    return results\n",
    "\n",
    "\n",
    "data_flattened = parse_files(Path(\"./analysis/\"))\n",
    "data_flattened"
   ]
  },
  {
   "cell_type": "code",
   "execution_count": 112,
   "metadata": {},
   "outputs": [
    {
     "data": {
      "text/html": [
       "<div>\n",
       "<style scoped>\n",
       "    .dataframe tbody tr th:only-of-type {\n",
       "        vertical-align: middle;\n",
       "    }\n",
       "\n",
       "    .dataframe tbody tr th {\n",
       "        vertical-align: top;\n",
       "    }\n",
       "\n",
       "    .dataframe thead th {\n",
       "        text-align: right;\n",
       "    }\n",
       "</style>\n",
       "<table border=\"1\" class=\"dataframe\">\n",
       "  <thead>\n",
       "    <tr style=\"text-align: right;\">\n",
       "      <th></th>\n",
       "      <th></th>\n",
       "      <th>C</th>\n",
       "      <th>alpha</th>\n",
       "      <th>hidden_layer_sizes</th>\n",
       "      <th>kernel</th>\n",
       "      <th>learning_rate</th>\n",
       "      <th>max_depth</th>\n",
       "      <th>n_estimators</th>\n",
       "      <th>f1_score</th>\n",
       "      <th>model_path</th>\n",
       "    </tr>\n",
       "    <tr>\n",
       "      <th>percentage</th>\n",
       "      <th>model</th>\n",
       "      <th></th>\n",
       "      <th></th>\n",
       "      <th></th>\n",
       "      <th></th>\n",
       "      <th></th>\n",
       "      <th></th>\n",
       "      <th></th>\n",
       "      <th></th>\n",
       "      <th></th>\n",
       "    </tr>\n",
       "  </thead>\n",
       "  <tbody>\n",
       "    <tr>\n",
       "      <th rowspan=\"5\" valign=\"top\">1</th>\n",
       "      <th>AdaBoost</th>\n",
       "      <td>NaN</td>\n",
       "      <td>NaN</td>\n",
       "      <td>NaN</td>\n",
       "      <td>NaN</td>\n",
       "      <td>0.1</td>\n",
       "      <td>NaN</td>\n",
       "      <td>50.0</td>\n",
       "      <td>0.832000</td>\n",
       "      <td>train-output/AdaBoost_1_no-grad_no-ewma_0/mode...</td>\n",
       "    </tr>\n",
       "    <tr>\n",
       "      <th>AdaBoost</th>\n",
       "      <td>NaN</td>\n",
       "      <td>NaN</td>\n",
       "      <td>NaN</td>\n",
       "      <td>NaN</td>\n",
       "      <td>0.1</td>\n",
       "      <td>NaN</td>\n",
       "      <td>50.0</td>\n",
       "      <td>0.758065</td>\n",
       "      <td>train-output/AdaBoost_1_no-grad_no-ewma_0/mode...</td>\n",
       "    </tr>\n",
       "    <tr>\n",
       "      <th>AdaBoost</th>\n",
       "      <td>NaN</td>\n",
       "      <td>NaN</td>\n",
       "      <td>NaN</td>\n",
       "      <td>NaN</td>\n",
       "      <td>0.1</td>\n",
       "      <td>NaN</td>\n",
       "      <td>50.0</td>\n",
       "      <td>0.774194</td>\n",
       "      <td>train-output/AdaBoost_1_no-grad_no-ewma_0/mode...</td>\n",
       "    </tr>\n",
       "    <tr>\n",
       "      <th>AdaBoost</th>\n",
       "      <td>NaN</td>\n",
       "      <td>NaN</td>\n",
       "      <td>NaN</td>\n",
       "      <td>NaN</td>\n",
       "      <td>0.1</td>\n",
       "      <td>NaN</td>\n",
       "      <td>50.0</td>\n",
       "      <td>0.773109</td>\n",
       "      <td>train-output/AdaBoost_1_no-grad_no-ewma_0/mode...</td>\n",
       "    </tr>\n",
       "    <tr>\n",
       "      <th>AdaBoost</th>\n",
       "      <td>NaN</td>\n",
       "      <td>NaN</td>\n",
       "      <td>NaN</td>\n",
       "      <td>NaN</td>\n",
       "      <td>0.1</td>\n",
       "      <td>NaN</td>\n",
       "      <td>50.0</td>\n",
       "      <td>0.772727</td>\n",
       "      <td>train-output/AdaBoost_1_no-grad_no-ewma_0/mode...</td>\n",
       "    </tr>\n",
       "    <tr>\n",
       "      <th>...</th>\n",
       "      <th>...</th>\n",
       "      <td>...</td>\n",
       "      <td>...</td>\n",
       "      <td>...</td>\n",
       "      <td>...</td>\n",
       "      <td>...</td>\n",
       "      <td>...</td>\n",
       "      <td>...</td>\n",
       "      <td>...</td>\n",
       "      <td>...</td>\n",
       "    </tr>\n",
       "    <tr>\n",
       "      <th rowspan=\"5\" valign=\"top\">20</th>\n",
       "      <th>SVM</th>\n",
       "      <td>0.1</td>\n",
       "      <td>NaN</td>\n",
       "      <td>NaN</td>\n",
       "      <td>linear</td>\n",
       "      <td>NaN</td>\n",
       "      <td>NaN</td>\n",
       "      <td>NaN</td>\n",
       "      <td>0.400000</td>\n",
       "      <td>train-output/SVM_20_no-grad_no-ewma_0/model.pkl</td>\n",
       "    </tr>\n",
       "    <tr>\n",
       "      <th>SVM</th>\n",
       "      <td>0.1</td>\n",
       "      <td>NaN</td>\n",
       "      <td>NaN</td>\n",
       "      <td>linear</td>\n",
       "      <td>NaN</td>\n",
       "      <td>NaN</td>\n",
       "      <td>NaN</td>\n",
       "      <td>0.270270</td>\n",
       "      <td>train-output/SVM_20_no-grad_no-ewma_0/model.pkl</td>\n",
       "    </tr>\n",
       "    <tr>\n",
       "      <th>SVM</th>\n",
       "      <td>0.1</td>\n",
       "      <td>NaN</td>\n",
       "      <td>NaN</td>\n",
       "      <td>linear</td>\n",
       "      <td>NaN</td>\n",
       "      <td>NaN</td>\n",
       "      <td>NaN</td>\n",
       "      <td>0.434783</td>\n",
       "      <td>train-output/SVM_20_no-grad_no-ewma_0/model.pkl</td>\n",
       "    </tr>\n",
       "    <tr>\n",
       "      <th>SVM</th>\n",
       "      <td>0.1</td>\n",
       "      <td>NaN</td>\n",
       "      <td>NaN</td>\n",
       "      <td>linear</td>\n",
       "      <td>NaN</td>\n",
       "      <td>NaN</td>\n",
       "      <td>NaN</td>\n",
       "      <td>0.592593</td>\n",
       "      <td>train-output/SVM_20_no-grad_no-ewma_0/model.pkl</td>\n",
       "    </tr>\n",
       "    <tr>\n",
       "      <th>SVM</th>\n",
       "      <td>0.1</td>\n",
       "      <td>NaN</td>\n",
       "      <td>NaN</td>\n",
       "      <td>linear</td>\n",
       "      <td>NaN</td>\n",
       "      <td>NaN</td>\n",
       "      <td>NaN</td>\n",
       "      <td>0.415094</td>\n",
       "      <td>train-output/SVM_20_no-grad_no-ewma_0/model.pkl</td>\n",
       "    </tr>\n",
       "  </tbody>\n",
       "</table>\n",
       "<p>8600 rows × 9 columns</p>\n",
       "</div>"
      ],
      "text/plain": [
       "                       C  alpha hidden_layer_sizes  kernel  learning_rate  \\\n",
       "percentage model                                                            \n",
       "1          AdaBoost  NaN    NaN                NaN     NaN            0.1   \n",
       "           AdaBoost  NaN    NaN                NaN     NaN            0.1   \n",
       "           AdaBoost  NaN    NaN                NaN     NaN            0.1   \n",
       "           AdaBoost  NaN    NaN                NaN     NaN            0.1   \n",
       "           AdaBoost  NaN    NaN                NaN     NaN            0.1   \n",
       "...                  ...    ...                ...     ...            ...   \n",
       "20         SVM       0.1    NaN                NaN  linear            NaN   \n",
       "           SVM       0.1    NaN                NaN  linear            NaN   \n",
       "           SVM       0.1    NaN                NaN  linear            NaN   \n",
       "           SVM       0.1    NaN                NaN  linear            NaN   \n",
       "           SVM       0.1    NaN                NaN  linear            NaN   \n",
       "\n",
       "                     max_depth  n_estimators  f1_score  \\\n",
       "percentage model                                         \n",
       "1          AdaBoost        NaN          50.0  0.832000   \n",
       "           AdaBoost        NaN          50.0  0.758065   \n",
       "           AdaBoost        NaN          50.0  0.774194   \n",
       "           AdaBoost        NaN          50.0  0.773109   \n",
       "           AdaBoost        NaN          50.0  0.772727   \n",
       "...                        ...           ...       ...   \n",
       "20         SVM             NaN           NaN  0.400000   \n",
       "           SVM             NaN           NaN  0.270270   \n",
       "           SVM             NaN           NaN  0.434783   \n",
       "           SVM             NaN           NaN  0.592593   \n",
       "           SVM             NaN           NaN  0.415094   \n",
       "\n",
       "                                                            model_path  \n",
       "percentage model                                                        \n",
       "1          AdaBoost  train-output/AdaBoost_1_no-grad_no-ewma_0/mode...  \n",
       "           AdaBoost  train-output/AdaBoost_1_no-grad_no-ewma_0/mode...  \n",
       "           AdaBoost  train-output/AdaBoost_1_no-grad_no-ewma_0/mode...  \n",
       "           AdaBoost  train-output/AdaBoost_1_no-grad_no-ewma_0/mode...  \n",
       "           AdaBoost  train-output/AdaBoost_1_no-grad_no-ewma_0/mode...  \n",
       "...                                                                ...  \n",
       "20         SVM         train-output/SVM_20_no-grad_no-ewma_0/model.pkl  \n",
       "           SVM         train-output/SVM_20_no-grad_no-ewma_0/model.pkl  \n",
       "           SVM         train-output/SVM_20_no-grad_no-ewma_0/model.pkl  \n",
       "           SVM         train-output/SVM_20_no-grad_no-ewma_0/model.pkl  \n",
       "           SVM         train-output/SVM_20_no-grad_no-ewma_0/model.pkl  \n",
       "\n",
       "[8600 rows x 9 columns]"
      ]
     },
     "execution_count": 112,
     "metadata": {},
     "output_type": "execute_result"
    }
   ],
   "source": [
    "# Remove any runs that included use_ewma or use_gradient\n",
    "df = data_flattened.loc[(slice(None), slice(None), False, False), :]\n",
    "df.index = df.index.droplevel([2, 3])\n",
    "df = df.sort_values(by=['percentage', 'model'])\n",
    "df"
   ]
  },
  {
   "cell_type": "code",
   "execution_count": 113,
   "metadata": {},
   "outputs": [],
   "source": [
    "def float_or_list_to_tuple(x):\n",
    "    if isinstance(x, list):\n",
    "        return tuple(x)\n",
    "    return x\n",
    "\n",
    "df[\"hidden_layer_sizes\"] = df['hidden_layer_sizes'].apply(float_or_list_to_tuple)"
   ]
  },
  {
   "cell_type": "code",
   "execution_count": null,
   "metadata": {},
   "outputs": [],
   "source": []
  },
  {
   "cell_type": "code",
   "execution_count": 114,
   "metadata": {},
   "outputs": [
    {
     "data": {
      "text/html": [
       "<div>\n",
       "<style scoped>\n",
       "    .dataframe tbody tr th:only-of-type {\n",
       "        vertical-align: middle;\n",
       "    }\n",
       "\n",
       "    .dataframe tbody tr th {\n",
       "        vertical-align: top;\n",
       "    }\n",
       "\n",
       "    .dataframe thead th {\n",
       "        text-align: right;\n",
       "    }\n",
       "</style>\n",
       "<table border=\"1\" class=\"dataframe\">\n",
       "  <thead>\n",
       "    <tr style=\"text-align: right;\">\n",
       "      <th></th>\n",
       "      <th></th>\n",
       "      <th></th>\n",
       "      <th></th>\n",
       "      <th>mean</th>\n",
       "      <th>std</th>\n",
       "    </tr>\n",
       "    <tr>\n",
       "      <th>percentage</th>\n",
       "      <th>model</th>\n",
       "      <th>max_depth</th>\n",
       "      <th>n_estimators</th>\n",
       "      <th></th>\n",
       "      <th></th>\n",
       "    </tr>\n",
       "  </thead>\n",
       "  <tbody>\n",
       "    <tr>\n",
       "      <th rowspan=\"2\" valign=\"top\">5</th>\n",
       "      <th>ET</th>\n",
       "      <th>NaN</th>\n",
       "      <th>200.0</th>\n",
       "      <td>0.838747</td>\n",
       "      <td>0.042812</td>\n",
       "    </tr>\n",
       "    <tr>\n",
       "      <th>RF</th>\n",
       "      <th>10.0</th>\n",
       "      <th>100.0</th>\n",
       "      <td>0.846744</td>\n",
       "      <td>0.041149</td>\n",
       "    </tr>\n",
       "    <tr>\n",
       "      <th rowspan=\"2\" valign=\"top\">10</th>\n",
       "      <th>ET</th>\n",
       "      <th>NaN</th>\n",
       "      <th>50.0</th>\n",
       "      <td>0.799463</td>\n",
       "      <td>0.033741</td>\n",
       "    </tr>\n",
       "    <tr>\n",
       "      <th>RF</th>\n",
       "      <th>20.0</th>\n",
       "      <th>100.0</th>\n",
       "      <td>0.808705</td>\n",
       "      <td>0.065661</td>\n",
       "    </tr>\n",
       "    <tr>\n",
       "      <th rowspan=\"2\" valign=\"top\">15</th>\n",
       "      <th>ET</th>\n",
       "      <th>NaN</th>\n",
       "      <th>100.0</th>\n",
       "      <td>0.756114</td>\n",
       "      <td>0.053723</td>\n",
       "    </tr>\n",
       "    <tr>\n",
       "      <th>RF</th>\n",
       "      <th>NaN</th>\n",
       "      <th>200.0</th>\n",
       "      <td>0.742610</td>\n",
       "      <td>0.064443</td>\n",
       "    </tr>\n",
       "    <tr>\n",
       "      <th rowspan=\"2\" valign=\"top\">20</th>\n",
       "      <th>ET</th>\n",
       "      <th>20.0</th>\n",
       "      <th>50.0</th>\n",
       "      <td>0.717156</td>\n",
       "      <td>0.072528</td>\n",
       "    </tr>\n",
       "    <tr>\n",
       "      <th>RF</th>\n",
       "      <th>10.0</th>\n",
       "      <th>100.0</th>\n",
       "      <td>0.707643</td>\n",
       "      <td>0.049374</td>\n",
       "    </tr>\n",
       "  </tbody>\n",
       "</table>\n",
       "</div>"
      ],
      "text/plain": [
       "                                             mean       std\n",
       "percentage model max_depth n_estimators                    \n",
       "5          ET    NaN       200.0         0.838747  0.042812\n",
       "           RF    10.0      100.0         0.846744  0.041149\n",
       "10         ET    NaN       50.0          0.799463  0.033741\n",
       "           RF    20.0      100.0         0.808705  0.065661\n",
       "15         ET    NaN       100.0         0.756114  0.053723\n",
       "           RF    NaN       200.0         0.742610  0.064443\n",
       "20         ET    20.0      50.0          0.717156  0.072528\n",
       "           RF    10.0      100.0         0.707643  0.049374"
      ]
     },
     "execution_count": 114,
     "metadata": {},
     "output_type": "execute_result"
    }
   ],
   "source": [
    "group = df.groupby(['percentage', 'model', 'C', 'hidden_layer_sizes', 'kernel', 'learning_rate', 'max_depth', 'n_estimators', 'alpha'], dropna=False)\n",
    "summary = group['f1_score'].agg(['mean', 'std'])\n",
    "\n",
    "idx = summary.groupby(['percentage', 'model']).idxmax()\n",
    "\n",
    "best_hyperparams = summary.loc[idx['mean'], :]\n",
    "best_per_percentage = best_hyperparams.groupby('percentage')['mean'].idxmax()\n",
    "selected_percentages = best_hyperparams[best_hyperparams.index.get_level_values('percentage').isin([5, 10, 15, 20]) & best_hyperparams.index.get_level_values('model').isin(['RF', 'ET'])]\n",
    "models_to_test = selected_percentages.droplevel(['C', 'hidden_layer_sizes', 'kernel', 'learning_rate', 'alpha'])\n",
    "models_to_test\n"
   ]
  },
  {
   "cell_type": "code",
   "execution_count": 115,
   "metadata": {},
   "outputs": [
    {
     "name": "stdout",
     "output_type": "stream",
     "text": [
      "\\begin{tabular}{llrr}\n",
      "\\toprule\n",
      " &  & mean & std \\\\\n",
      "percentage & model &  &  \\\\\n",
      "\\midrule\n",
      "\\multirow[t]{2}{*}{5} & ET & 0.839 & 0.043 \\\\\n",
      " & RF & 0.847 & 0.041 \\\\\n",
      "\\cline{1-4}\n",
      "\\multirow[t]{2}{*}{10} & ET & 0.799 & 0.034 \\\\\n",
      " & RF & 0.809 & 0.066 \\\\\n",
      "\\cline{1-4}\n",
      "\\multirow[t]{2}{*}{15} & ET & 0.756 & 0.054 \\\\\n",
      " & RF & 0.743 & 0.064 \\\\\n",
      "\\cline{1-4}\n",
      "\\multirow[t]{2}{*}{20} & ET & 0.717 & 0.073 \\\\\n",
      " & RF & 0.708 & 0.049 \\\\\n",
      "\\cline{1-4}\n",
      "\\bottomrule\n",
      "\\end{tabular}\n",
      "\n"
     ]
    }
   ],
   "source": [
    "print(models_to_test.droplevel(['max_depth', 'n_estimators']).round(3).to_latex(float_format=\"%.3f\"))"
   ]
  },
  {
   "cell_type": "code",
   "execution_count": 116,
   "metadata": {},
   "outputs": [
    {
     "data": {
      "text/plain": [
       "{(5,\n",
       "  'ET'): ExtraTreesClassifier(class_weight='balanced', n_estimators=200, random_state=42),\n",
       " (5,\n",
       "  'RF'): RandomForestClassifier(class_weight='balanced_subsample', max_depth=10,\n",
       "                        random_state=42),\n",
       " (10,\n",
       "  'ET'): ExtraTreesClassifier(class_weight='balanced', n_estimators=50, random_state=42),\n",
       " (10,\n",
       "  'RF'): RandomForestClassifier(class_weight='balanced_subsample', max_depth=20,\n",
       "                        random_state=42),\n",
       " (15, 'ET'): ExtraTreesClassifier(class_weight='balanced', random_state=42),\n",
       " (15,\n",
       "  'RF'): RandomForestClassifier(class_weight='balanced_subsample', n_estimators=200,\n",
       "                        random_state=42),\n",
       " (20,\n",
       "  'ET'): ExtraTreesClassifier(class_weight='balanced', max_depth=20, n_estimators=50,\n",
       "                      random_state=42),\n",
       " (20,\n",
       "  'RF'): RandomForestClassifier(class_weight='balanced_subsample', max_depth=10,\n",
       "                        random_state=42)}"
      ]
     },
     "execution_count": 116,
     "metadata": {},
     "output_type": "execute_result"
    }
   ],
   "source": [
    "random_state = 42\n",
    "classifiers = {}\n",
    "for percentage, model, max_depth, n_estimators in models_to_test.index:\n",
    "    if np.isnan(max_depth):\n",
    "        max_depth = None\n",
    "    else:\n",
    "        max_depth = int(max_depth)\n",
    "    n_estimators = int(n_estimators)\n",
    "    if model == 'ET':\n",
    "        classifiers[(percentage, model)] = ExtraTreesClassifier(max_depth=max_depth, n_estimators=n_estimators, random_state=random_state, class_weight='balanced')\n",
    "    elif model == 'RF':\n",
    "        classifiers[(percentage, model)] = RandomForestClassifier(max_depth=max_depth, n_estimators=n_estimators, random_state=random_state, class_weight='balanced_subsample')\n",
    "classifiers"
   ]
  },
  {
   "cell_type": "code",
   "execution_count": 122,
   "metadata": {},
   "outputs": [
    {
     "name": "stdout",
     "output_type": "stream",
     "text": [
      "Training ET at 5%\n",
      "Training RF at 5%\n",
      "Training ET at 10%\n",
      "Training RF at 10%\n",
      "Training ET at 15%\n",
      "Training RF at 15%\n",
      "Training ET at 20%\n",
      "Training RF at 20%\n"
     ]
    }
   ],
   "source": [
    "import pickle\n",
    "\n",
    "def preprocess(dataframe, scaler=None):\n",
    "    result, mzn = dataframe.drop(columns=['mzn', 'dzn'], axis=1), dataframe['mzn']\n",
    "\n",
    "    # Drop any columns that contain the text 'ewma' or 'gradient'\n",
    "    result = result.drop(columns=result.columns[result.columns.str.contains('ewma|gradient')], axis=1)\n",
    "\n",
    "    result = result.drop(result.columns[result.nunique() == 1], axis=1)\n",
    "\n",
    "    if scaler is None:\n",
    "        scaler = MaxAbsScaler().fit(result)\n",
    "    result = pd.DataFrame(scaler.transform(result), columns=result.columns, index=result.index)\n",
    "\n",
    "    result['mzn'] = mzn\n",
    "\n",
    "    return result, scaler\n",
    "\n",
    "scalers = {}\n",
    "\n",
    "# train_pkl = Path('./analysis/rerun_with_all_features_train.pkl')\n",
    "train_pkl = Path('./analysis/pickle_split_train.pkl')\n",
    "\n",
    "with open(train_pkl, 'rb') as f:\n",
    "    train_features_at_percentage = pickle.load(f)\n",
    "\n",
    "for perc in train_features_at_percentage:\n",
    "    train_features_at_percentage[perc] = train_features_at_percentage[perc]\n",
    "\n",
    "for percentage, model in classifiers:\n",
    "    print(f\"Training {model} at {percentage}%\")\n",
    "    df, scaler = preprocess(train_features_at_percentage[percentage])\n",
    "    scalers[(percentage, model)] = scaler\n",
    "    df = df.drop(columns=['mzn'], axis=1)\n",
    "    any_nan = df.isna().any().any()\n",
    "    \n",
    "    if any_nan:\n",
    "        print(\"The NaN values are in the following columns:\")\n",
    "        print(df.columns[df.isna().any()])\n",
    "    else:\n",
    "        train_X, train_y = df.drop(columns=['solved_within_time_limit']), df['solved_within_time_limit']\n",
    "        classifiers[(percentage, model)].fit(train_X, train_y)\n"
   ]
  },
  {
   "cell_type": "code",
   "execution_count": 123,
   "metadata": {},
   "outputs": [
    {
     "name": "stdout",
     "output_type": "stream",
     "text": [
      "Testing ET at 5%\n",
      "F1 score for ET at 5%: 0.8536585365853658\n",
      "Testing RF at 5%\n",
      "F1 score for RF at 5%: 0.8372093023255814\n",
      "Testing ET at 10%\n",
      "F1 score for ET at 10%: 0.7272727272727274\n",
      "Testing RF at 10%\n",
      "F1 score for RF at 10%: 0.7169811320754716\n",
      "Testing ET at 15%\n",
      "F1 score for ET at 15%: 0.7441860465116279\n",
      "Testing RF at 15%\n",
      "F1 score for RF at 15%: 0.7441860465116279\n",
      "Testing ET at 20%\n",
      "F1 score for ET at 20%: 0.742857142857143\n",
      "Testing RF at 20%\n",
      "F1 score for RF at 20%: 0.742857142857143\n"
     ]
    },
    {
     "data": {
      "image/png": "[encoded data removed]",
      "text/plain": [
       "<Figure size 800x800 with 4 Axes>"
      ]
     },
     "metadata": {},
     "output_type": "display_data"
    }
   ],
   "source": [
    "# test_pickle = Path('./analysis/rerun_with_all_features_test.pkl')\n",
    "test_pickle = Path('./analysis/pickle_split_test.pkl')\n",
    "\n",
    "with open(test_pickle, 'rb') as f:\n",
    "    test_features_at_percentage = pickle.load(f)\n",
    "\n",
    "for perc in test_features_at_percentage:\n",
    "    test_features_at_percentage[perc] = test_features_at_percentage[perc]\n",
    "\n",
    "plots = {}\n",
    "# Create a figure and axes with 4 subplots\n",
    "fig, ax = plt.subplots(2, 2, figsize=(8, 8))\n",
    "ax = ax.flatten()\n",
    "# ax = plt.gca()\n",
    "scores = []\n",
    "\n",
    "for i, percentage in enumerate([5, 10, 15, 20]):\n",
    "    for model in ['ET', 'RF']:\n",
    "        print(f\"Testing {model} at {percentage}%\")\n",
    "        scaler = scalers[(percentage, model)]\n",
    "        df, _ = preprocess(test_features_at_percentage[percentage], scaler)\n",
    "        df = df.drop(columns=['mzn'], axis=1)\n",
    "        \n",
    "        test_X, test_y = df.drop(columns=['solved_within_time_limit']), df['solved_within_time_limit']\n",
    "        \n",
    "        y_score = classifiers[(percentage, model)].predict_proba(test_X)[:, 1]\n",
    "        plots[(percentage, model)] = RocCurveDisplay.from_predictions(test_y, y_score, ax=ax[i], name=model)\n",
    "        score = f1_score(test_y, classifiers[(percentage, model)].predict(test_X))\n",
    "        print(f\"F1 score for {model} at {percentage}%: {score}\")\n",
    "        scores.append([percentage, model, score])\n",
    "        if percentage in [5, 10]:\n",
    "            ax[i].set_xlabel('')\n",
    "        if percentage in [10, 20]:\n",
    "            ax[i].set_ylabel('')\n",
    "    ax[i].set_title(f\"{percentage}%\")\n",
    "    ax[i].plot([0, 1], [0, 1], linestyle='--', lw=1, color='r', alpha=.2)\n",
    "\n",
    "tikzplotlib.clean_figure()\n",
    "tikzplotlib.save(\"roc_curves.tex\", axis_width=\"0.6\\\\textwidth\", axis_height=\"0.6\\\\textwidth\")"
   ]
  },
  {
   "cell_type": "code",
   "execution_count": 124,
   "metadata": {},
   "outputs": [
    {
     "name": "stdout",
     "output_type": "stream",
     "text": [
      "\\begin{tabular}{llr}\n",
      "\\toprule\n",
      " &  & F1 score \\\\\n",
      "Percentage & Model &  \\\\\n",
      "\\midrule\n",
      "\\multirow[t]{2}{*}{5} & ET & 0.854 \\\\\n",
      " & RF & 0.837 \\\\\n",
      "\\cline{1-3}\n",
      "\\multirow[t]{2}{*}{10} & ET & 0.727 \\\\\n",
      " & RF & 0.717 \\\\\n",
      "\\cline{1-3}\n",
      "\\multirow[t]{2}{*}{15} & ET & 0.744 \\\\\n",
      " & RF & 0.744 \\\\\n",
      "\\cline{1-3}\n",
      "\\multirow[t]{2}{*}{20} & ET & 0.743 \\\\\n",
      " & RF & 0.743 \\\\\n",
      "\\cline{1-3}\n",
      "\\bottomrule\n",
      "\\end{tabular}\n",
      "\n"
     ]
    }
   ],
   "source": [
    "print(pd.DataFrame(scores, columns=['Percentage', 'Model', 'F1 score']).set_index(['Percentage', 'Model']).round(3).to_latex(float_format=\"%.3f\", sparsify=True))"
   ]
  },
  {
   "cell_type": "code",
   "execution_count": 37,
   "metadata": {},
   "outputs": [
    {
     "data": {
      "image/png": "[encoded data removed]",
      "text/plain": [
       "<Figure size 800x300 with 1 Axes>"
      ]
     },
     "metadata": {},
     "output_type": "display_data"
    }
   ],
   "source": [
    "n_total = np.array([train_features_at_percentage[i].shape[0] for i in range(1, len(train_features_at_percentage) + 1)])\n",
    "n_solved = np.array([train_features_at_percentage[i]['solved_within_time_limit'].sum() for i in range(1, len(train_features_at_percentage) + 1)])\n",
    "n_not_solved = np.array([n_total[i] - n_solved[i] for i in range(len(n_total))])\n",
    "percentage_solved = np.array([n_solved[i] / n_total[i] for i in range(len(n_total))]) * 100\n",
    "\n",
    "x = np.arange(1, 20.5, 0.5)\n",
    "\n",
    "fig, ax = plt.subplots(figsize=(8, 3))\n",
    "stacks = ax.stackplot(x, n_not_solved, n_solved, labels=['Not solved', 'Solved'])\n",
    "ax.set_title(\"Number of instances at varying % of TL\")\n",
    "ax.set_xlabel(\"% of TL\")\n",
    "ax.set_ylabel(\"Total Number of instances\")\n",
    "ax.set_ylim([0, 1400])\n",
    "ax.legend(loc='upper right', bbox_to_anchor=(0.98, 0.98))\n",
    "\n",
    "# fig.legend(loc='upper right', bbox_to_anchor=(0.88, 0.88))\n",
    "# fig.tight_layout()\n",
    "# plt.savefig(\"class_balance_over_time.pgf\", backend=\"pgf\")\n",
    "# tikzplotlib.clean_figure()\n",
    "tikzplotlib.save(\"class_balance_over_time.tex\", axis_width=\"0.9\\\\textwidth\", axis_height=\"0.4\\\\textwidth\")"
   ]
  }
 ],
 "metadata": {
  "kernelspec": {
   "display_name": "Python 3",
   "language": "python",
   "name": "python3"
  },
  "language_info": {
   "codemirror_mode": {
    "name": "ipython",
    "version": 3
   },
   "file_extension": ".py",
   "mimetype": "text/x-python",
   "name": "python",
   "nbconvert_exporter": "python",
   "pygments_lexer": "ipython3",
   "version": "3.10.12"
  }
 },
 "nbformat": 4,
 "nbformat_minor": 2
}
